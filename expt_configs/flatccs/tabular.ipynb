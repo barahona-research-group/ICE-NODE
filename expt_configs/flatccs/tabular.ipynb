{
 "cells": [
  {
   "cell_type": "code",
   "execution_count": 2,
   "id": "vital-colors",
   "metadata": {},
   "outputs": [],
   "source": [
    "import pandas as pd\n",
    "from copy import copy"
   ]
  },
  {
   "cell_type": "code",
   "execution_count": 11,
   "id": "political-conservation",
   "metadata": {},
   "outputs": [
    {
     "data": {
      "text/html": [
       "<div>\n",
       "<style scoped>\n",
       "    .dataframe tbody tr th:only-of-type {\n",
       "        vertical-align: middle;\n",
       "    }\n",
       "\n",
       "    .dataframe tbody tr th {\n",
       "        vertical-align: top;\n",
       "    }\n",
       "\n",
       "    .dataframe thead th {\n",
       "        text-align: right;\n",
       "    }\n",
       "</style>\n",
       "<table border=\"1\" class=\"dataframe\">\n",
       "  <thead>\n",
       "    <tr style=\"text-align: right;\">\n",
       "      <th></th>\n",
       "      <th>layer index</th>\n",
       "      <th>#cells</th>\n",
       "      <th>bias</th>\n",
       "    </tr>\n",
       "    <tr>\n",
       "      <th>activation</th>\n",
       "      <th></th>\n",
       "      <th></th>\n",
       "      <th></th>\n",
       "    </tr>\n",
       "  </thead>\n",
       "  <tbody>\n",
       "    <tr>\n",
       "      <th>tanh</th>\n",
       "      <td>1</td>\n",
       "      <td>30</td>\n",
       "      <td>False</td>\n",
       "    </tr>\n",
       "    <tr>\n",
       "      <th>tanh</th>\n",
       "      <td>2</td>\n",
       "      <td>30</td>\n",
       "      <td>False</td>\n",
       "    </tr>\n",
       "    <tr>\n",
       "      <th>tanh</th>\n",
       "      <td>3</td>\n",
       "      <td>30</td>\n",
       "      <td>False</td>\n",
       "    </tr>\n",
       "  </tbody>\n",
       "</table>\n",
       "</div>"
      ],
      "text/plain": [
       "            layer index  #cells   bias\n",
       "activation                            \n",
       "tanh                  1      30  False\n",
       "tanh                  2      30  False\n",
       "tanh                  3      30  False"
      ]
     },
     "execution_count": 11,
     "metadata": {},
     "output_type": "execute_result"
    }
   ],
   "source": [
    "state_size = 30\n",
    "layer1 = {'layer index': 1, '#cells': 30, 'bias': False, 'activation': 'tanh'}\n",
    "layer2 = {'layer index': 2, '#cells': 30, 'bias': False, 'activation': 'tanh'}\n",
    "layer3 = {'layer index': 3, '#cells': 30, 'bias': False, 'activation': 'tanh'}\n",
    "\n",
    "dyn_mlp = pd.DataFrame([layer1, layer2, layer3]).set_index(['activation'])\n",
    "dyn_mlp"
   ]
  },
  {
   "cell_type": "code",
   "execution_count": 9,
   "id": "constant-fifteen",
   "metadata": {},
   "outputs": [
    {
     "data": {
      "text/plain": [
       "'\\\\begin{tabular}{llrr}\\n\\\\toprule\\n      &      &  layer i &  \\\\#cells \\\\\\\\\\nbias & activation &          &         \\\\\\\\\\n\\\\midrule\\nFalse & tanh &        1 &      30 \\\\\\\\\\n      & tanh &        2 &      30 \\\\\\\\\\n      & tanh &        3 &      30 \\\\\\\\\\n\\\\bottomrule\\n\\\\end{tabular}\\n'"
      ]
     },
     "execution_count": 9,
     "metadata": {},
     "output_type": "execute_result"
    }
   ],
   "source": [
    "dyn_mlp.to_latex()"
   ]
  },
  {
   "cell_type": "code",
   "execution_count": null,
   "id": "pleasant-westminster",
   "metadata": {},
   "outputs": [],
   "source": []
  }
 ],
 "metadata": {
  "kernelspec": {
   "display_name": "Python 3",
   "language": "python",
   "name": "python3"
  },
  "language_info": {
   "codemirror_mode": {
    "name": "ipython",
    "version": 3
   },
   "file_extension": ".py",
   "mimetype": "text/x-python",
   "name": "python",
   "nbconvert_exporter": "python",
   "pygments_lexer": "ipython3",
   "version": "3.8.5"
  }
 },
 "nbformat": 4,
 "nbformat_minor": 5
}
