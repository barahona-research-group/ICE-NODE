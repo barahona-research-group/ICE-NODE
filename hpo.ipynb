{
 "cells": [
  {
   "cell_type": "code",
   "execution_count": 1,
   "id": "2e5ad7ea",
   "metadata": {},
   "outputs": [
    {
     "name": "stderr",
     "output_type": "stream",
     "text": [
      "\u001b[32m[I 2021-12-06 17:17:54,730]\u001b[0m A new study created in memory with name: no-name-d3a73cee-8299-4ad5-8d45-6c7bda17e9c6\u001b[0m\n",
      "\u001b[32m[I 2021-12-06 17:17:54,732]\u001b[0m Trial 0 finished with value: 60.383317032735626 and parameters: {'x': 9.770670307813582}. Best is trial 0 with value: 60.383317032735626.\u001b[0m\n",
      "\u001b[32m[I 2021-12-06 17:17:54,733]\u001b[0m Trial 1 finished with value: 108.89789784969734 and parameters: {'x': -8.435415557115938}. Best is trial 0 with value: 60.383317032735626.\u001b[0m\n",
      "\u001b[32m[I 2021-12-06 17:17:54,735]\u001b[0m Trial 2 finished with value: 10.34973191160416 and parameters: {'x': 5.217099922539578}. Best is trial 2 with value: 10.34973191160416.\u001b[0m\n",
      "\u001b[32m[I 2021-12-06 17:17:54,736]\u001b[0m Trial 3 finished with value: 24.315453289145815 and parameters: {'x': -2.9310701971423825}. Best is trial 2 with value: 10.34973191160416.\u001b[0m\n",
      "\u001b[32m[I 2021-12-06 17:17:54,738]\u001b[0m Trial 4 finished with value: 138.1883789208515 and parameters: {'x': -9.75535532941695}. Best is trial 2 with value: 10.34973191160416.\u001b[0m\n",
      "\u001b[32m[I 2021-12-06 17:17:54,739]\u001b[0m Trial 5 finished with value: 38.95418509194427 and parameters: {'x': 8.24132879216792}. Best is trial 2 with value: 10.34973191160416.\u001b[0m\n",
      "\u001b[32m[I 2021-12-06 17:17:54,740]\u001b[0m Trial 6 finished with value: 29.528552012066697 and parameters: {'x': 7.434018035677347}. Best is trial 2 with value: 10.34973191160416.\u001b[0m\n",
      "\u001b[32m[I 2021-12-06 17:17:54,742]\u001b[0m Trial 7 finished with value: 13.269533394272182 and parameters: {'x': -1.642737074546032}. Best is trial 2 with value: 10.34973191160416.\u001b[0m\n",
      "\u001b[32m[I 2021-12-06 17:17:54,745]\u001b[0m Trial 8 finished with value: 15.121964458305031 and parameters: {'x': -1.888697012921556}. Best is trial 2 with value: 10.34973191160416.\u001b[0m\n",
      "\u001b[32m[I 2021-12-06 17:17:54,747]\u001b[0m Trial 9 finished with value: 2.7360279637627642 and parameters: {'x': 0.34590569683504313}. Best is trial 9 with value: 2.7360279637627642.\u001b[0m\n",
      "\u001b[32m[I 2021-12-06 17:17:54,759]\u001b[0m Trial 10 finished with value: 0.7716794747809156 and parameters: {'x': 2.8784528870582164}. Best is trial 10 with value: 0.7716794747809156.\u001b[0m\n",
      "\u001b[32m[I 2021-12-06 17:17:54,770]\u001b[0m Trial 11 finished with value: 0.7161992109384033 and parameters: {'x': 2.846285537474441}. Best is trial 11 with value: 0.7161992109384033.\u001b[0m\n",
      "\u001b[32m[I 2021-12-06 17:17:54,775]\u001b[0m Trial 12 finished with value: 1.084271093538171 and parameters: {'x': 3.0412833877183343}. Best is trial 11 with value: 0.7161992109384033.\u001b[0m\n",
      "\u001b[32m[I 2021-12-06 17:17:54,780]\u001b[0m Trial 13 finished with value: 0.1300888245228954 and parameters: {'x': 2.360678283963556}. Best is trial 13 with value: 0.1300888245228954.\u001b[0m\n",
      "\u001b[32m[I 2021-12-06 17:17:54,786]\u001b[0m Trial 14 finished with value: 56.55875014503935 and parameters: {'x': -5.520555175320459}. Best is trial 13 with value: 0.1300888245228954.\u001b[0m\n",
      "\u001b[32m[I 2021-12-06 17:17:54,793]\u001b[0m Trial 15 finished with value: 0.08023224512482288 and parameters: {'x': 2.2832529701959414}. Best is trial 15 with value: 0.08023224512482288.\u001b[0m\n",
      "\u001b[32m[I 2021-12-06 17:17:54,799]\u001b[0m Trial 16 finished with value: 1.7572095347407197 and parameters: {'x': 0.6744021972179044}. Best is trial 15 with value: 0.08023224512482288.\u001b[0m\n",
      "\u001b[32m[I 2021-12-06 17:17:54,805]\u001b[0m Trial 17 finished with value: 10.907804108946477 and parameters: {'x': 5.302696490588634}. Best is trial 15 with value: 0.08023224512482288.\u001b[0m\n",
      "\u001b[32m[I 2021-12-06 17:17:54,810]\u001b[0m Trial 18 finished with value: 39.275289790002255 and parameters: {'x': -4.267000063028742}. Best is trial 15 with value: 0.08023224512482288.\u001b[0m\n",
      "\u001b[32m[I 2021-12-06 17:17:54,816]\u001b[0m Trial 19 finished with value: 12.321427214455289 and parameters: {'x': 5.510189056796698}. Best is trial 15 with value: 0.08023224512482288.\u001b[0m\n",
      "\u001b[32m[I 2021-12-06 17:17:54,821]\u001b[0m Trial 20 finished with value: 0.46638773764431285 and parameters: {'x': 1.3170741345912333}. Best is trial 15 with value: 0.08023224512482288.\u001b[0m\n",
      "\u001b[32m[I 2021-12-06 17:17:54,825]\u001b[0m Trial 21 finished with value: 0.42705925139078227 and parameters: {'x': 1.3465022942727478}. Best is trial 15 with value: 0.08023224512482288.\u001b[0m\n",
      "\u001b[32m[I 2021-12-06 17:17:54,832]\u001b[0m Trial 22 finished with value: 0.023444533407669076 and parameters: {'x': 2.1531160782141088}. Best is trial 22 with value: 0.023444533407669076.\u001b[0m\n",
      "\u001b[32m[I 2021-12-06 17:17:54,836]\u001b[0m Trial 23 finished with value: 3.8649308180319157 and parameters: {'x': 3.9659427300997137}. Best is trial 22 with value: 0.023444533407669076.\u001b[0m\n",
      "\u001b[32m[I 2021-12-06 17:17:54,844]\u001b[0m Trial 24 finished with value: 11.489016386635964 and parameters: {'x': -1.3895451592560266}. Best is trial 22 with value: 0.023444533407669076.\u001b[0m\n",
      "\u001b[32m[I 2021-12-06 17:17:54,850]\u001b[0m Trial 25 finished with value: 21.234652342185456 and parameters: {'x': 6.608107240742717}. Best is trial 22 with value: 0.023444533407669076.\u001b[0m\n",
      "\u001b[32m[I 2021-12-06 17:17:54,855]\u001b[0m Trial 26 finished with value: 6.631522122771991 and parameters: {'x': -0.5751741927046393}. Best is trial 22 with value: 0.023444533407669076.\u001b[0m\n",
      "\u001b[32m[I 2021-12-06 17:17:54,860]\u001b[0m Trial 27 finished with value: 0.0018880537099820857 and parameters: {'x': 2.0434517400109833}. Best is trial 27 with value: 0.0018880537099820857.\u001b[0m\n",
      "\u001b[32m[I 2021-12-06 17:17:54,870]\u001b[0m Trial 28 finished with value: 6.0042291874551355 and parameters: {'x': 4.450352869987328}. Best is trial 27 with value: 0.0018880537099820857.\u001b[0m\n",
      "\u001b[32m[I 2021-12-06 17:17:54,876]\u001b[0m Trial 29 finished with value: 58.397600281539255 and parameters: {'x': -5.641832259447943}. Best is trial 27 with value: 0.0018880537099820857.\u001b[0m\n",
      "\u001b[32m[I 2021-12-06 17:17:54,882]\u001b[0m Trial 30 finished with value: 4.490852869174791 and parameters: {'x': -0.11916324741035256}. Best is trial 27 with value: 0.0018880537099820857.\u001b[0m\n",
      "\u001b[32m[I 2021-12-06 17:17:54,889]\u001b[0m Trial 31 finished with value: 0.011011922599662109 and parameters: {'x': 2.104937708187582}. Best is trial 27 with value: 0.0018880537099820857.\u001b[0m\n",
      "\u001b[32m[I 2021-12-06 17:17:54,895]\u001b[0m Trial 32 finished with value: 0.002368402070902504 and parameters: {'x': 2.0486662313201105}. Best is trial 27 with value: 0.0018880537099820857.\u001b[0m\n",
      "\u001b[32m[I 2021-12-06 17:17:54,902]\u001b[0m Trial 33 finished with value: 62.04197018311825 and parameters: {'x': 9.876672532428795}. Best is trial 27 with value: 0.0018880537099820857.\u001b[0m\n",
      "\u001b[32m[I 2021-12-06 17:17:54,908]\u001b[0m Trial 34 finished with value: 5.761582662395349 and parameters: {'x': 4.400329698686276}. Best is trial 27 with value: 0.0018880537099820857.\u001b[0m\n",
      "\u001b[32m[I 2021-12-06 17:17:54,915]\u001b[0m Trial 35 finished with value: 0.1598551325619379 and parameters: {'x': 1.600181125305548}. Best is trial 27 with value: 0.0018880537099820857.\u001b[0m\n",
      "\u001b[32m[I 2021-12-06 17:17:54,926]\u001b[0m Trial 36 finished with value: 30.74553768739878 and parameters: {'x': -3.5448658854294015}. Best is trial 27 with value: 0.0018880537099820857.\u001b[0m\n",
      "\u001b[32m[I 2021-12-06 17:17:54,933]\u001b[0m Trial 37 finished with value: 3.014721682343366 and parameters: {'x': 3.736295390290306}. Best is trial 27 with value: 0.0018880537099820857.\u001b[0m\n",
      "\u001b[32m[I 2021-12-06 17:17:54,938]\u001b[0m Trial 38 finished with value: 26.057906567877346 and parameters: {'x': 7.104694561663543}. Best is trial 27 with value: 0.0018880537099820857.\u001b[0m\n",
      "\u001b[32m[I 2021-12-06 17:17:54,944]\u001b[0m Trial 39 finished with value: 44.248011209970876 and parameters: {'x': 8.651917859532759}. Best is trial 27 with value: 0.0018880537099820857.\u001b[0m\n",
      "\u001b[32m[I 2021-12-06 17:17:54,950]\u001b[0m Trial 40 finished with value: 7.68468566904588 and parameters: {'x': -0.7721265607915306}. Best is trial 27 with value: 0.0018880537099820857.\u001b[0m\n",
      "\u001b[32m[I 2021-12-06 17:17:54,955]\u001b[0m Trial 41 finished with value: 0.021114815137517777 and parameters: {'x': 1.8546906226786524}. Best is trial 27 with value: 0.0018880537099820857.\u001b[0m\n",
      "\u001b[32m[I 2021-12-06 17:17:54,960]\u001b[0m Trial 42 finished with value: 0.7968853747750397 and parameters: {'x': 1.1073156354147118}. Best is trial 27 with value: 0.0018880537099820857.\u001b[0m\n",
      "\u001b[32m[I 2021-12-06 17:17:54,965]\u001b[0m Trial 43 finished with value: 1.9710076622594623 and parameters: {'x': 3.4039258036874536}. Best is trial 27 with value: 0.0018880537099820857.\u001b[0m\n",
      "\u001b[32m[I 2021-12-06 17:17:54,971]\u001b[0m Trial 44 finished with value: 1.7267346598572191e-06 and parameters: {'x': 1.9986859472385565}. Best is trial 44 with value: 1.7267346598572191e-06.\u001b[0m\n"
     ]
    },
    {
     "name": "stderr",
     "output_type": "stream",
     "text": [
      "\u001b[32m[I 2021-12-06 17:17:54,982]\u001b[0m Trial 45 finished with value: 20.199498355545543 and parameters: {'x': -2.4943852032892715}. Best is trial 44 with value: 1.7267346598572191e-06.\u001b[0m\n",
      "\u001b[32m[I 2021-12-06 17:17:54,987]\u001b[0m Trial 46 finished with value: 3.8863235663659768 and parameters: {'x': 0.028623940906764345}. Best is trial 44 with value: 1.7267346598572191e-06.\u001b[0m\n",
      "\u001b[32m[I 2021-12-06 17:17:54,992]\u001b[0m Trial 47 finished with value: 15.10113707036796 and parameters: {'x': 5.886018151060023}. Best is trial 44 with value: 1.7267346598572191e-06.\u001b[0m\n",
      "\u001b[32m[I 2021-12-06 17:17:55,001]\u001b[0m Trial 48 finished with value: 0.026180195372690968 and parameters: {'x': 2.161802952299057}. Best is trial 44 with value: 1.7267346598572191e-06.\u001b[0m\n",
      "\u001b[32m[I 2021-12-06 17:17:55,006]\u001b[0m Trial 49 finished with value: 7.4393037586500865 and parameters: {'x': 4.727508709179512}. Best is trial 44 with value: 1.7267346598572191e-06.\u001b[0m\n",
      "\u001b[32m[I 2021-12-06 17:17:55,014]\u001b[0m Trial 50 finished with value: 2.0999973360885833 and parameters: {'x': 0.5508632445181085}. Best is trial 44 with value: 1.7267346598572191e-06.\u001b[0m\n",
      "\u001b[32m[I 2021-12-06 17:17:55,020]\u001b[0m Trial 51 finished with value: 0.03200585345971111 and parameters: {'x': 2.1789017983691363}. Best is trial 44 with value: 1.7267346598572191e-06.\u001b[0m\n",
      "\u001b[32m[I 2021-12-06 17:17:55,025]\u001b[0m Trial 52 finished with value: 0.5899721281436641 and parameters: {'x': 2.7680964315394676}. Best is trial 44 with value: 1.7267346598572191e-06.\u001b[0m\n",
      "\u001b[32m[I 2021-12-06 17:17:55,033]\u001b[0m Trial 53 finished with value: 0.0018347019202650855 and parameters: {'x': 1.9571665794003668}. Best is trial 44 with value: 1.7267346598572191e-06.\u001b[0m\n",
      "\u001b[32m[I 2021-12-06 17:17:55,041]\u001b[0m Trial 54 finished with value: 1.895200494709721 and parameters: {'x': 3.376662810825411}. Best is trial 44 with value: 1.7267346598572191e-06.\u001b[0m\n",
      "\u001b[32m[I 2021-12-06 17:17:55,047]\u001b[0m Trial 55 finished with value: 1.8908151615135844 and parameters: {'x': 0.6249308520973993}. Best is trial 44 with value: 1.7267346598572191e-06.\u001b[0m\n",
      "\u001b[32m[I 2021-12-06 17:17:55,053]\u001b[0m Trial 56 finished with value: 0.21725830369961585 and parameters: {'x': 1.53389024500702}. Best is trial 44 with value: 1.7267346598572191e-06.\u001b[0m\n",
      "\u001b[32m[I 2021-12-06 17:17:55,058]\u001b[0m Trial 57 finished with value: 10.181646165567123 and parameters: {'x': -1.1908691865332124}. Best is trial 44 with value: 1.7267346598572191e-06.\u001b[0m\n",
      "\u001b[32m[I 2021-12-06 17:17:55,063]\u001b[0m Trial 58 finished with value: 1.0526529795947424 and parameters: {'x': 3.0259887814175856}. Best is trial 44 with value: 1.7267346598572191e-06.\u001b[0m\n",
      "\u001b[32m[I 2021-12-06 17:17:55,073]\u001b[0m Trial 59 finished with value: 0.06982473583626496 and parameters: {'x': 1.7357562946137317}. Best is trial 44 with value: 1.7267346598572191e-06.\u001b[0m\n",
      "\u001b[32m[I 2021-12-06 17:17:55,084]\u001b[0m Trial 60 finished with value: 16.139644862785453 and parameters: {'x': -2.0174176858755244}. Best is trial 44 with value: 1.7267346598572191e-06.\u001b[0m\n",
      "\u001b[32m[I 2021-12-06 17:17:55,088]\u001b[0m Trial 61 finished with value: 0.2150406531432685 and parameters: {'x': 2.4637247601145194}. Best is trial 44 with value: 1.7267346598572191e-06.\u001b[0m\n",
      "\u001b[32m[I 2021-12-06 17:17:55,094]\u001b[0m Trial 62 finished with value: 1.5603967942905381 and parameters: {'x': 0.7508415655768328}. Best is trial 44 with value: 1.7267346598572191e-06.\u001b[0m\n",
      "\u001b[32m[I 2021-12-06 17:17:55,104]\u001b[0m Trial 63 finished with value: 5.355022727125975 and parameters: {'x': -0.3140922036785776}. Best is trial 44 with value: 1.7267346598572191e-06.\u001b[0m\n",
      "\u001b[32m[I 2021-12-06 17:17:55,109]\u001b[0m Trial 64 finished with value: 3.49087074445058 and parameters: {'x': 3.8683872041015963}. Best is trial 44 with value: 1.7267346598572191e-06.\u001b[0m\n",
      "\u001b[32m[I 2021-12-06 17:17:55,114]\u001b[0m Trial 65 finished with value: 142.87195685363733 and parameters: {'x': -9.952905791214006}. Best is trial 44 with value: 1.7267346598572191e-06.\u001b[0m\n",
      "\u001b[32m[I 2021-12-06 17:17:55,119]\u001b[0m Trial 66 finished with value: 0.00033111631053506067 and parameters: {'x': 1.9818033983795034}. Best is trial 44 with value: 1.7267346598572191e-06.\u001b[0m\n",
      "\u001b[32m[I 2021-12-06 17:17:55,123]\u001b[0m Trial 67 finished with value: 7.212003956952016 and parameters: {'x': 4.685517446778556}. Best is trial 44 with value: 1.7267346598572191e-06.\u001b[0m\n",
      "\u001b[32m[I 2021-12-06 17:17:55,128]\u001b[0m Trial 68 finished with value: 1.0548013698408312 and parameters: {'x': 0.9729647669914965}. Best is trial 44 with value: 1.7267346598572191e-06.\u001b[0m\n",
      "\u001b[32m[I 2021-12-06 17:17:55,134]\u001b[0m Trial 69 finished with value: 118.64593554280917 and parameters: {'x': -8.892471507550946}. Best is trial 44 with value: 1.7267346598572191e-06.\u001b[0m\n",
      "\u001b[32m[I 2021-12-06 17:17:55,142]\u001b[0m Trial 70 finished with value: 0.766740476328843 and parameters: {'x': 2.875637183043778}. Best is trial 44 with value: 1.7267346598572191e-06.\u001b[0m\n",
      "\u001b[32m[I 2021-12-06 17:17:55,148]\u001b[0m Trial 71 finished with value: 0.09050485351918086 and parameters: {'x': 2.3008402458435055}. Best is trial 44 with value: 1.7267346598572191e-06.\u001b[0m\n",
      "\u001b[32m[I 2021-12-06 17:17:55,154]\u001b[0m Trial 72 finished with value: 0.043681835499143146 and parameters: {'x': 1.79099800120778}. Best is trial 44 with value: 1.7267346598572191e-06.\u001b[0m\n",
      "\u001b[32m[I 2021-12-06 17:17:55,159]\u001b[0m Trial 73 finished with value: 2.1321867630285607 and parameters: {'x': 3.4602009324160017}. Best is trial 44 with value: 1.7267346598572191e-06.\u001b[0m\n",
      "\u001b[32m[I 2021-12-06 17:17:55,165]\u001b[0m Trial 74 finished with value: 4.254458236635525 and parameters: {'x': 4.062633810601272}. Best is trial 44 with value: 1.7267346598572191e-06.\u001b[0m\n",
      "\u001b[32m[I 2021-12-06 17:17:55,171]\u001b[0m Trial 75 finished with value: 3.2325240965432815 and parameters: {'x': 0.2020778391311593}. Best is trial 44 with value: 1.7267346598572191e-06.\u001b[0m\n",
      "\u001b[32m[I 2021-12-06 17:17:55,180]\u001b[0m Trial 76 finished with value: 0.6036162261189751 and parameters: {'x': 1.2230725734542671}. Best is trial 44 with value: 1.7267346598572191e-06.\u001b[0m\n",
      "\u001b[32m[I 2021-12-06 17:17:55,186]\u001b[0m Trial 77 finished with value: 0.10670565771512339 and parameters: {'x': 1.6733416804746535}. Best is trial 44 with value: 1.7267346598572191e-06.\u001b[0m\n",
      "\u001b[32m[I 2021-12-06 17:17:55,192]\u001b[0m Trial 78 finished with value: 7.502122001621388 and parameters: {'x': -0.7390001828443511}. Best is trial 44 with value: 1.7267346598572191e-06.\u001b[0m\n",
      "\u001b[32m[I 2021-12-06 17:17:55,203]\u001b[0m Trial 79 finished with value: 0.377402467837085 and parameters: {'x': 2.6143309106964137}. Best is trial 44 with value: 1.7267346598572191e-06.\u001b[0m\n",
      "\u001b[32m[I 2021-12-06 17:17:55,209]\u001b[0m Trial 80 finished with value: 14.861332307498152 and parameters: {'x': 5.8550398580946155}. Best is trial 44 with value: 1.7267346598572191e-06.\u001b[0m\n",
      "\u001b[32m[I 2021-12-06 17:17:55,214]\u001b[0m Trial 81 finished with value: 0.00953315546167809 and parameters: {'x': 2.0976378792358688}. Best is trial 44 with value: 1.7267346598572191e-06.\u001b[0m\n",
      "\u001b[32m[I 2021-12-06 17:17:55,223]\u001b[0m Trial 82 finished with value: 7.455599599601076e-05 and parameters: {'x': 1.9913654185975225}. Best is trial 44 with value: 1.7267346598572191e-06.\u001b[0m\n",
      "\u001b[32m[I 2021-12-06 17:17:55,230]\u001b[0m Trial 83 finished with value: 0.002443171189444591 and parameters: {'x': 1.9505715548550777}. Best is trial 44 with value: 1.7267346598572191e-06.\u001b[0m\n",
      "\u001b[32m[I 2021-12-06 17:17:55,239]\u001b[0m Trial 84 finished with value: 1.612129316783101 and parameters: {'x': 3.269696545156795}. Best is trial 44 with value: 1.7267346598572191e-06.\u001b[0m\n",
      "\u001b[32m[I 2021-12-06 17:17:55,245]\u001b[0m Trial 85 finished with value: 0.9104229059109001 and parameters: {'x': 1.0458391614036446}. Best is trial 44 with value: 1.7267346598572191e-06.\u001b[0m\n",
      "\u001b[32m[I 2021-12-06 17:17:55,255]\u001b[0m Trial 86 finished with value: 0.2933069790546187 and parameters: {'x': 2.5415782298566096}. Best is trial 44 with value: 1.7267346598572191e-06.\u001b[0m\n",
      "\u001b[32m[I 2021-12-06 17:17:55,265]\u001b[0m Trial 87 finished with value: 2.7910222104595834 and parameters: {'x': 0.3293647284761454}. Best is trial 44 with value: 1.7267346598572191e-06.\u001b[0m\n",
      "\u001b[32m[I 2021-12-06 17:17:55,272]\u001b[0m Trial 88 finished with value: 9.724736436077366 and parameters: {'x': 5.118450967399899}. Best is trial 44 with value: 1.7267346598572191e-06.\u001b[0m\n",
      "\u001b[32m[I 2021-12-06 17:17:55,278]\u001b[0m Trial 89 finished with value: 4.82999442599623 and parameters: {'x': 4.197724829453458}. Best is trial 44 with value: 1.7267346598572191e-06.\u001b[0m\n"
     ]
    },
    {
     "name": "stderr",
     "output_type": "stream",
     "text": [
      "\u001b[32m[I 2021-12-06 17:17:55,284]\u001b[0m Trial 90 finished with value: 0.01922551277546103 and parameters: {'x': 1.8613439046581037}. Best is trial 44 with value: 1.7267346598572191e-06.\u001b[0m\n",
      "\u001b[32m[I 2021-12-06 17:17:55,288]\u001b[0m Trial 91 finished with value: 0.0005166497398144003 and parameters: {'x': 1.9772700695158476}. Best is trial 44 with value: 1.7267346598572191e-06.\u001b[0m\n",
      "\u001b[32m[I 2021-12-06 17:17:55,294]\u001b[0m Trial 92 finished with value: 0.5807939326147029 and parameters: {'x': 1.237901625369334}. Best is trial 44 with value: 1.7267346598572191e-06.\u001b[0m\n",
      "\u001b[32m[I 2021-12-06 17:17:55,301]\u001b[0m Trial 93 finished with value: 0.9163624248719019 and parameters: {'x': 2.9572682094752243}. Best is trial 44 with value: 1.7267346598572191e-06.\u001b[0m\n",
      "\u001b[32m[I 2021-12-06 17:17:55,305]\u001b[0m Trial 94 finished with value: 0.01226529595172745 and parameters: {'x': 2.1107487966152565}. Best is trial 44 with value: 1.7267346598572191e-06.\u001b[0m\n",
      "\u001b[32m[I 2021-12-06 17:17:55,311]\u001b[0m Trial 95 finished with value: 2.667564384155058 and parameters: {'x': 3.633268007448581}. Best is trial 44 with value: 1.7267346598572191e-06.\u001b[0m\n",
      "\u001b[32m[I 2021-12-06 17:17:55,321]\u001b[0m Trial 96 finished with value: 4.47635504380086 and parameters: {'x': -0.11573983367541185}. Best is trial 44 with value: 1.7267346598572191e-06.\u001b[0m\n",
      "\u001b[32m[I 2021-12-06 17:17:55,331]\u001b[0m Trial 97 finished with value: 1.3037628064968831 and parameters: {'x': 0.8581756674089998}. Best is trial 44 with value: 1.7267346598572191e-06.\u001b[0m\n",
      "\u001b[32m[I 2021-12-06 17:17:55,338]\u001b[0m Trial 98 finished with value: 0.3230640120040944 and parameters: {'x': 1.431612797466292}. Best is trial 44 with value: 1.7267346598572191e-06.\u001b[0m\n",
      "\u001b[32m[I 2021-12-06 17:17:55,345]\u001b[0m Trial 99 finished with value: 0.39461423626251896 and parameters: {'x': 2.6281832823806432}. Best is trial 44 with value: 1.7267346598572191e-06.\u001b[0m\n"
     ]
    },
    {
     "data": {
      "text/plain": [
       "{'x': 1.9986859472385565}"
      ]
     },
     "execution_count": 1,
     "metadata": {},
     "output_type": "execute_result"
    }
   ],
   "source": [
    "import optuna\n",
    "\n",
    "def objective(trial):\n",
    "    x = trial.suggest_float('x', -10, 10)\n",
    "    return (x - 2) ** 2\n",
    "\n",
    "study = optuna.create_study()\n",
    "study.optimize(objective, n_trials=100)\n",
    "\n",
    "study.best_params  # E.g. {'x': 2.002108042}"
   ]
  },
  {
   "cell_type": "code",
   "execution_count": 2,
   "id": "ff0639a6",
   "metadata": {},
   "outputs": [],
   "source": [
    "import pandas as pd"
   ]
  },
  {
   "cell_type": "code",
   "execution_count": 3,
   "id": "39a23783",
   "metadata": {},
   "outputs": [],
   "source": [
    "a = pd.DataFrame({'a': [1, 2, 3]})"
   ]
  },
  {
   "cell_type": "code",
   "execution_count": 4,
   "id": "811c8281",
   "metadata": {},
   "outputs": [
    {
     "ename": "FileNotFoundError",
     "evalue": "[Errno 2] No such file or directory: 'asd/f.csv'",
     "output_type": "error",
     "traceback": [
      "\u001b[0;31m---------------------------------------------------------------------------\u001b[0m",
      "\u001b[0;31mFileNotFoundError\u001b[0m                         Traceback (most recent call last)",
      "\u001b[0;32m/tmp/ipykernel_12416/2628333349.py\u001b[0m in \u001b[0;36m<module>\u001b[0;34m\u001b[0m\n\u001b[0;32m----> 1\u001b[0;31m \u001b[0ma\u001b[0m\u001b[0;34m.\u001b[0m\u001b[0mto_csv\u001b[0m\u001b[0;34m(\u001b[0m\u001b[0;34m'asd/f.csv'\u001b[0m\u001b[0;34m)\u001b[0m\u001b[0;34m\u001b[0m\u001b[0;34m\u001b[0m\u001b[0m\n\u001b[0m",
      "\u001b[0;32m~/.conda/envs/mimic3-snonet/lib/python3.9/site-packages/pandas/core/generic.py\u001b[0m in \u001b[0;36mto_csv\u001b[0;34m(self, path_or_buf, sep, na_rep, float_format, columns, header, index, index_label, mode, encoding, compression, quoting, quotechar, line_terminator, chunksize, date_format, doublequote, escapechar, decimal, errors, storage_options)\u001b[0m\n\u001b[1;32m   3464\u001b[0m         )\n\u001b[1;32m   3465\u001b[0m \u001b[0;34m\u001b[0m\u001b[0m\n\u001b[0;32m-> 3466\u001b[0;31m         return DataFrameRenderer(formatter).to_csv(\n\u001b[0m\u001b[1;32m   3467\u001b[0m             \u001b[0mpath_or_buf\u001b[0m\u001b[0;34m,\u001b[0m\u001b[0;34m\u001b[0m\u001b[0;34m\u001b[0m\u001b[0m\n\u001b[1;32m   3468\u001b[0m             \u001b[0mline_terminator\u001b[0m\u001b[0;34m=\u001b[0m\u001b[0mline_terminator\u001b[0m\u001b[0;34m,\u001b[0m\u001b[0;34m\u001b[0m\u001b[0;34m\u001b[0m\u001b[0m\n",
      "\u001b[0;32m~/.conda/envs/mimic3-snonet/lib/python3.9/site-packages/pandas/io/formats/format.py\u001b[0m in \u001b[0;36mto_csv\u001b[0;34m(self, path_or_buf, encoding, sep, columns, index_label, mode, compression, quoting, quotechar, line_terminator, chunksize, date_format, doublequote, escapechar, errors, storage_options)\u001b[0m\n\u001b[1;32m   1103\u001b[0m             \u001b[0mformatter\u001b[0m\u001b[0;34m=\u001b[0m\u001b[0mself\u001b[0m\u001b[0;34m.\u001b[0m\u001b[0mfmt\u001b[0m\u001b[0;34m,\u001b[0m\u001b[0;34m\u001b[0m\u001b[0;34m\u001b[0m\u001b[0m\n\u001b[1;32m   1104\u001b[0m         )\n\u001b[0;32m-> 1105\u001b[0;31m         \u001b[0mcsv_formatter\u001b[0m\u001b[0;34m.\u001b[0m\u001b[0msave\u001b[0m\u001b[0;34m(\u001b[0m\u001b[0;34m)\u001b[0m\u001b[0;34m\u001b[0m\u001b[0;34m\u001b[0m\u001b[0m\n\u001b[0m\u001b[1;32m   1106\u001b[0m \u001b[0;34m\u001b[0m\u001b[0m\n\u001b[1;32m   1107\u001b[0m         \u001b[0;32mif\u001b[0m \u001b[0mcreated_buffer\u001b[0m\u001b[0;34m:\u001b[0m\u001b[0;34m\u001b[0m\u001b[0;34m\u001b[0m\u001b[0m\n",
      "\u001b[0;32m~/.conda/envs/mimic3-snonet/lib/python3.9/site-packages/pandas/io/formats/csvs.py\u001b[0m in \u001b[0;36msave\u001b[0;34m(self)\u001b[0m\n\u001b[1;32m    235\u001b[0m         \"\"\"\n\u001b[1;32m    236\u001b[0m         \u001b[0;31m# apply compression and byte/text conversion\u001b[0m\u001b[0;34m\u001b[0m\u001b[0;34m\u001b[0m\u001b[0m\n\u001b[0;32m--> 237\u001b[0;31m         with get_handle(\n\u001b[0m\u001b[1;32m    238\u001b[0m             \u001b[0mself\u001b[0m\u001b[0;34m.\u001b[0m\u001b[0mfilepath_or_buffer\u001b[0m\u001b[0;34m,\u001b[0m\u001b[0;34m\u001b[0m\u001b[0;34m\u001b[0m\u001b[0m\n\u001b[1;32m    239\u001b[0m             \u001b[0mself\u001b[0m\u001b[0;34m.\u001b[0m\u001b[0mmode\u001b[0m\u001b[0;34m,\u001b[0m\u001b[0;34m\u001b[0m\u001b[0;34m\u001b[0m\u001b[0m\n",
      "\u001b[0;32m~/.conda/envs/mimic3-snonet/lib/python3.9/site-packages/pandas/io/common.py\u001b[0m in \u001b[0;36mget_handle\u001b[0;34m(path_or_buf, mode, encoding, compression, memory_map, is_text, errors, storage_options)\u001b[0m\n\u001b[1;32m    700\u001b[0m         \u001b[0;32mif\u001b[0m \u001b[0mioargs\u001b[0m\u001b[0;34m.\u001b[0m\u001b[0mencoding\u001b[0m \u001b[0;32mand\u001b[0m \u001b[0;34m\"b\"\u001b[0m \u001b[0;32mnot\u001b[0m \u001b[0;32min\u001b[0m \u001b[0mioargs\u001b[0m\u001b[0;34m.\u001b[0m\u001b[0mmode\u001b[0m\u001b[0;34m:\u001b[0m\u001b[0;34m\u001b[0m\u001b[0;34m\u001b[0m\u001b[0m\n\u001b[1;32m    701\u001b[0m             \u001b[0;31m# Encoding\u001b[0m\u001b[0;34m\u001b[0m\u001b[0;34m\u001b[0m\u001b[0m\n\u001b[0;32m--> 702\u001b[0;31m             handle = open(\n\u001b[0m\u001b[1;32m    703\u001b[0m                 \u001b[0mhandle\u001b[0m\u001b[0;34m,\u001b[0m\u001b[0;34m\u001b[0m\u001b[0;34m\u001b[0m\u001b[0m\n\u001b[1;32m    704\u001b[0m                 \u001b[0mioargs\u001b[0m\u001b[0;34m.\u001b[0m\u001b[0mmode\u001b[0m\u001b[0;34m,\u001b[0m\u001b[0;34m\u001b[0m\u001b[0;34m\u001b[0m\u001b[0m\n",
      "\u001b[0;31mFileNotFoundError\u001b[0m: [Errno 2] No such file or directory: 'asd/f.csv'"
     ]
    }
   ],
   "source": [
    "a.to_csv('asd/f.csv')"
   ]
  },
  {
   "cell_type": "code",
   "execution_count": null,
   "id": "37f3c63e",
   "metadata": {},
   "outputs": [],
   "source": []
  }
 ],
 "metadata": {
  "kernelspec": {
   "display_name": "Python 3 (ipykernel)",
   "language": "python",
   "name": "python3"
  },
  "language_info": {
   "codemirror_mode": {
    "name": "ipython",
    "version": 3
   },
   "file_extension": ".py",
   "mimetype": "text/x-python",
   "name": "python",
   "nbconvert_exporter": "python",
   "pygments_lexer": "ipython3",
   "version": "3.9.7"
  }
 },
 "nbformat": 4,
 "nbformat_minor": 5
}
