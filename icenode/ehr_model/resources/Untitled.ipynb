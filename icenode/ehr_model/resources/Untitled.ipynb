{
 "cells": [
  {
   "cell_type": "code",
   "execution_count": 1,
   "id": "dd45050d",
   "metadata": {},
   "outputs": [],
   "source": [
    "import xml.etree.ElementTree as ET\n"
   ]
  },
  {
   "cell_type": "code",
   "execution_count": 2,
   "id": "53df397b",
   "metadata": {},
   "outputs": [],
   "source": [
    "tree = ET.parse('icd10cm_tabular_2022.xml')\n",
    "root = tree.getroot()"
   ]
  },
  {
   "cell_type": "code",
   "execution_count": 11,
   "id": "bf165422",
   "metadata": {},
   "outputs": [
    {
     "data": {
      "text/plain": [
       "['__class__',\n",
       " '__delattr__',\n",
       " '__dict__',\n",
       " '__dir__',\n",
       " '__doc__',\n",
       " '__eq__',\n",
       " '__format__',\n",
       " '__ge__',\n",
       " '__getattribute__',\n",
       " '__gt__',\n",
       " '__hash__',\n",
       " '__init__',\n",
       " '__init_subclass__',\n",
       " '__le__',\n",
       " '__lt__',\n",
       " '__module__',\n",
       " '__ne__',\n",
       " '__new__',\n",
       " '__reduce__',\n",
       " '__reduce_ex__',\n",
       " '__repr__',\n",
       " '__setattr__',\n",
       " '__sizeof__',\n",
       " '__str__',\n",
       " '__subclasshook__',\n",
       " '__weakref__',\n",
       " '_root',\n",
       " '_setroot',\n",
       " 'find',\n",
       " 'findall',\n",
       " 'findtext',\n",
       " 'getiterator',\n",
       " 'getroot',\n",
       " 'iter',\n",
       " 'iterfind',\n",
       " 'parse',\n",
       " 'write',\n",
       " 'write_c14n']"
      ]
     },
     "execution_count": 11,
     "metadata": {},
     "output_type": "execute_result"
    }
   ],
   "source": [
    "dir(tree)\n"
   ]
  },
  {
   "cell_type": "code",
   "execution_count": 14,
   "id": "04db2526",
   "metadata": {},
   "outputs": [
    {
     "data": {
      "text/plain": [
       "[<Element 'chapter' at 0x7f2f845f5a90>,\n",
       " <Element 'chapter' at 0x7f2f843d7270>,\n",
       " <Element 'chapter' at 0x7f2f840c7900>,\n",
       " <Element 'chapter' at 0x7f2f84085c20>,\n",
       " <Element 'chapter' at 0x7f2f6def6f90>,\n",
       " <Element 'chapter' at 0x7f2f6dd238b0>,\n",
       " <Element 'chapter' at 0x7f2f6db966d0>,\n",
       " <Element 'chapter' at 0x7f2f6d82f450>,\n",
       " <Element 'chapter' at 0x7f2f6d7361d0>,\n",
       " <Element 'chapter' at 0x7f2f6d4544f0>,\n",
       " <Element 'chapter' at 0x7f2f6d34c220>,\n",
       " <Element 'chapter' at 0x7f2f6d190c70>,\n",
       " <Element 'chapter' at 0x7f2f6d01cae0>,\n",
       " <Element 'chapter' at 0x7f2f6c813450>,\n",
       " <Element 'chapter' at 0x7f2f6c6f84a0>,\n",
       " <Element 'chapter' at 0x7f2f6c46a630>,\n",
       " <Element 'chapter' at 0x7f2f6c34ad60>,\n",
       " <Element 'chapter' at 0x7f2f6c1db0e0>,\n",
       " <Element 'chapter' at 0x7f2f6c0426d0>,\n",
       " <Element 'chapter' at 0x7f2f5f03dd10>,\n",
       " <Element 'chapter' at 0x7f2f5ea8f0e0>,\n",
       " <Element 'chapter' at 0x7f2f5e801720>]"
      ]
     },
     "execution_count": 14,
     "metadata": {},
     "output_type": "execute_result"
    }
   ],
   "source": [
    "chapters = [ch for ch in root.iter() if ch.tag == 'chapter']\n",
    "chapters"
   ]
  },
  {
   "cell_type": "code",
   "execution_count": 16,
   "id": "5fd4c1f9",
   "metadata": {},
   "outputs": [],
   "source": [
    "chapter = chapters[0]"
   ]
  },
  {
   "cell_type": "code",
   "execution_count": null,
   "id": "61cec175",
   "metadata": {},
   "outputs": [],
   "source": []
  }
 ],
 "metadata": {
  "kernelspec": {
   "display_name": "Python 3 (ipykernel)",
   "language": "python",
   "name": "python3"
  },
  "language_info": {
   "codemirror_mode": {
    "name": "ipython",
    "version": 3
   },
   "file_extension": ".py",
   "mimetype": "text/x-python",
   "name": "python",
   "nbconvert_exporter": "python",
   "pygments_lexer": "ipython3",
   "version": "3.8.12"
  }
 },
 "nbformat": 4,
 "nbformat_minor": 5
}
