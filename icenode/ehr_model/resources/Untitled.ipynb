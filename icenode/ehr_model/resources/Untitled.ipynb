{
 "cells": [
  {
   "cell_type": "code",
   "execution_count": 13,
   "id": "dd45050d",
   "metadata": {},
   "outputs": [],
   "source": [
    "import xml.etree.ElementTree as ET\n",
    "from collections import defaultdict"
   ]
  },
  {
   "cell_type": "code",
   "execution_count": 2,
   "id": "53df397b",
   "metadata": {},
   "outputs": [],
   "source": [
    "tree = ET.parse('icd10cm_tabular_2022.xml')\n",
    "root = tree.getroot()"
   ]
  },
  {
   "cell_type": "code",
   "execution_count": 18,
   "id": "dac4a750",
   "metadata": {},
   "outputs": [],
   "source": [
    "def extract_icd10_xml(root):\n",
    "    \n",
    "    pt2ch = defaultdict(list)\n",
    "    desc = {'ICD10CM': 'ICD10CM'}\n",
    "    chapters = [ch for ch in root if ch.tag == 'chapter']\n",
    "    \n",
    "    def _traverse_diag_dfs(parent_name, dx_element):\n",
    "        dx_name = next(e for e in dx_element if e.tag == 'name').text\n",
    "        dx_desc = next(e for e in dx_element if e.tag == 'desc').text\n",
    "        dx_name = f'dx:{dx_name}'\n",
    "        desc[dx_name] = dx_desc\n",
    "        pt2ch[parent_name].append(dx_name)\n",
    "        \n",
    "        diags = [dx for dx in dx_element if dx.tag == 'diag']\n",
    "        for dx in diags:\n",
    "            _traverse_diag_dfs(dx_name, dx)\n",
    "        \n",
    "    \n",
    "    for chapter in chapters:\n",
    "        ch_name = next(e for e in chapter if e.tag == 'name').text\n",
    "        ch_desc = next(e for e in chapter if e.tag == 'desc').text\n",
    "        ch_name = f'chapter:{ch_name}'\n",
    "        pt2ch['ICD10CM'].append(ch_name)\n",
    "        desc[ch_name] = ch_desc\n",
    "        \n",
    "        sections = [sec for sec in chapter if sec.tag == 'section']\n",
    "        for section in sections:\n",
    "            sec_name = section.attrib['id']\n",
    "            sec_desc = next(e for e in section if e.tag == 'desc').text\n",
    "            sec_name = f'section:{sec_name}'\n",
    "            \n",
    "            pt2ch[ch_name].append(sec_name)\n",
    "            desc[sec_name] = sec_desc\n",
    "            \n",
    "            diags = [dx for dx in section if dx.tag == 'diag']\n",
    "            for dx in diags:\n",
    "                _traverse_diag_dfs(sec_name, dx)\n",
    "            \n",
    "    \n",
    "    return pt2ch, desc"
   ]
  },
  {
   "cell_type": "code",
   "execution_count": 20,
   "id": "daefd07c",
   "metadata": {},
   "outputs": [],
   "source": [
    "pt2ch, desc = extract_icd10_xml(root)"
   ]
  },
  {
   "cell_type": "code",
   "execution_count": 23,
   "id": "664c792b",
   "metadata": {},
   "outputs": [
    {
     "data": {
      "text/plain": [
       "['A', 'e', 'm', 's']"
      ]
     },
     "execution_count": 23,
     "metadata": {},
     "output_type": "execute_result"
    }
   ],
   "source": [
    "sorted(a for a in 'Asem')"
   ]
  },
  {
   "cell_type": "code",
   "execution_count": 22,
   "id": "852ab1d7",
   "metadata": {},
   "outputs": [
    {
     "data": {
      "text/plain": [
       "{'chapter:1': 'Certain infectious and parasitic diseases (A00-B99)',\n",
       " 'chapter:2': 'Neoplasms (C00-D49)',\n",
       " 'chapter:3': 'Diseases of the blood and blood-forming organs and certain disorders involving the immune mechanism (D50-D89)',\n",
       " 'chapter:4': 'Endocrine, nutritional and metabolic diseases (E00-E89)',\n",
       " 'chapter:5': 'Mental, Behavioral and Neurodevelopmental disorders (F01-F99)',\n",
       " 'chapter:6': 'Diseases of the nervous system (G00-G99)',\n",
       " 'chapter:7': 'Diseases of the eye and adnexa (H00-H59)',\n",
       " 'chapter:8': 'Diseases of the ear and mastoid process (H60-H95)',\n",
       " 'chapter:9': 'Diseases of the circulatory system (I00-I99)',\n",
       " 'chapter:10': 'Diseases of the respiratory system (J00-J99)',\n",
       " 'chapter:11': 'Diseases of the digestive system (K00-K95)',\n",
       " 'chapter:12': 'Diseases of the skin and subcutaneous tissue (L00-L99)',\n",
       " 'chapter:13': 'Diseases of the musculoskeletal system and connective tissue (M00-M99)',\n",
       " 'chapter:14': 'Diseases of the genitourinary system (N00-N99)',\n",
       " 'chapter:15': 'Pregnancy, childbirth and the puerperium (O00-O9A)',\n",
       " 'chapter:16': 'Certain conditions originating in the perinatal period (P00-P96)',\n",
       " 'chapter:17': 'Congenital malformations, deformations and chromosomal abnormalities (Q00-Q99)',\n",
       " 'chapter:18': 'Symptoms, signs and abnormal clinical and laboratory findings, not elsewhere classified (R00-R99)',\n",
       " 'chapter:19': 'Injury, poisoning and certain other consequences of external causes (S00-T88)',\n",
       " 'chapter:20': 'External causes of morbidity (V00-Y99)',\n",
       " 'chapter:21': 'Factors influencing health status and contact with health services (Z00-Z99)',\n",
       " 'chapter:22': 'Codes for special purposes (U00-U85)'}"
      ]
     },
     "execution_count": 22,
     "metadata": {},
     "output_type": "execute_result"
    }
   ],
   "source": [
    "{name: des for name, des in desc.items() if 'chapter:' in name}"
   ]
  },
  {
   "cell_type": "code",
   "execution_count": 3,
   "id": "04db2526",
   "metadata": {},
   "outputs": [
    {
     "data": {
      "text/plain": [
       "[<Element 'chapter' at 0x7f6bb836aae0>,\n",
       " <Element 'chapter' at 0x7f6bb814e360>,\n",
       " <Element 'chapter' at 0x7f6ba95fba90>,\n",
       " <Element 'chapter' at 0x7f6ba95badb0>,\n",
       " <Element 'chapter' at 0x7f6ba943a090>,\n",
       " <Element 'chapter' at 0x7f6ba9261950>,\n",
       " <Element 'chapter' at 0x7f6ba90d5770>,\n",
       " <Element 'chapter' at 0x7f6ba8d6d4f0>,\n",
       " <Element 'chapter' at 0x7f6ba8c74270>,\n",
       " <Element 'chapter' at 0x7f6ba8992590>,\n",
       " <Element 'chapter' at 0x7f6ba88892c0>,\n",
       " <Element 'chapter' at 0x7f6ba86ced10>,\n",
       " <Element 'chapter' at 0x7f6ba855bb80>,\n",
       " <Element 'chapter' at 0x7f6b8fd164f0>,\n",
       " <Element 'chapter' at 0x7f6b8fbfb540>,\n",
       " <Element 'chapter' at 0x7f6b8f96e6d0>,\n",
       " <Element 'chapter' at 0x7f6b8f84de00>,\n",
       " <Element 'chapter' at 0x7f6b8f6df090>,\n",
       " <Element 'chapter' at 0x7f6b8f546680>,\n",
       " <Element 'chapter' at 0x7f6b8e57dcc0>,\n",
       " <Element 'chapter' at 0x7f6b8dfce090>,\n",
       " <Element 'chapter' at 0x7f6b8dd406d0>]"
      ]
     },
     "execution_count": 3,
     "metadata": {},
     "output_type": "execute_result"
    }
   ],
   "source": [
    "chapters = [ch for ch in root if ch.tag == 'chapter']\n",
    "chapters"
   ]
  },
  {
   "cell_type": "code",
   "execution_count": 4,
   "id": "5fd4c1f9",
   "metadata": {},
   "outputs": [],
   "source": [
    "chapter = chapters[0]"
   ]
  },
  {
   "cell_type": "code",
   "execution_count": 6,
   "id": "61cec175",
   "metadata": {},
   "outputs": [
    {
     "name": "stdout",
     "output_type": "stream",
     "text": [
      "name\n",
      "desc\n",
      "includes\n",
      "useAdditionalCode\n",
      "excludes1\n",
      "excludes2\n",
      "sectionIndex\n",
      "section\n",
      "section\n",
      "section\n",
      "section\n",
      "section\n",
      "section\n",
      "section\n",
      "section\n",
      "section\n",
      "section\n",
      "section\n",
      "section\n",
      "section\n",
      "section\n",
      "section\n",
      "section\n",
      "section\n",
      "section\n",
      "section\n",
      "section\n",
      "section\n",
      "section\n"
     ]
    }
   ],
   "source": [
    "for e in chapter:\n",
    "    print(e.tag)"
   ]
  },
  {
   "cell_type": "code",
   "execution_count": null,
   "id": "f63ceb5a",
   "metadata": {},
   "outputs": [],
   "source": []
  }
 ],
 "metadata": {
  "kernelspec": {
   "display_name": "Python 3 (ipykernel)",
   "language": "python",
   "name": "python3"
  },
  "language_info": {
   "codemirror_mode": {
    "name": "ipython",
    "version": 3
   },
   "file_extension": ".py",
   "mimetype": "text/x-python",
   "name": "python",
   "nbconvert_exporter": "python",
   "pygments_lexer": "ipython3",
   "version": "3.8.12"
  }
 },
 "nbformat": 4,
 "nbformat_minor": 5
}
