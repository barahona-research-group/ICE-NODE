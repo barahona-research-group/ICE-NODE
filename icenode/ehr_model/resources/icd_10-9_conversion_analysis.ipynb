{
 "cells": [
  {
   "cell_type": "code",
   "execution_count": 1,
   "id": "f63ceb5a",
   "metadata": {},
   "outputs": [],
   "source": [
    "import pandas as pd\n",
    "import seaborn as sns"
   ]
  },
  {
   "cell_type": "code",
   "execution_count": 10,
   "id": "153f8dc4",
   "metadata": {},
   "outputs": [
    {
     "data": {
      "text/html": [
       "<div>\n",
       "<style scoped>\n",
       "    .dataframe tbody tr th:only-of-type {\n",
       "        vertical-align: middle;\n",
       "    }\n",
       "\n",
       "    .dataframe tbody tr th {\n",
       "        vertical-align: top;\n",
       "    }\n",
       "\n",
       "    .dataframe thead th {\n",
       "        text-align: right;\n",
       "    }\n",
       "</style>\n",
       "<table border=\"1\" class=\"dataframe\">\n",
       "  <thead>\n",
       "    <tr style=\"text-align: right;\">\n",
       "      <th></th>\n",
       "      <th>source</th>\n",
       "      <th>target</th>\n",
       "      <th>meta</th>\n",
       "    </tr>\n",
       "  </thead>\n",
       "  <tbody>\n",
       "    <tr>\n",
       "      <th>0</th>\n",
       "      <td>A000</td>\n",
       "      <td>0010</td>\n",
       "      <td>00000</td>\n",
       "    </tr>\n",
       "    <tr>\n",
       "      <th>1</th>\n",
       "      <td>A001</td>\n",
       "      <td>0011</td>\n",
       "      <td>00000</td>\n",
       "    </tr>\n",
       "    <tr>\n",
       "      <th>2</th>\n",
       "      <td>A009</td>\n",
       "      <td>0019</td>\n",
       "      <td>00000</td>\n",
       "    </tr>\n",
       "    <tr>\n",
       "      <th>3</th>\n",
       "      <td>A0100</td>\n",
       "      <td>0020</td>\n",
       "      <td>10000</td>\n",
       "    </tr>\n",
       "    <tr>\n",
       "      <th>4</th>\n",
       "      <td>A0101</td>\n",
       "      <td>0020</td>\n",
       "      <td>10000</td>\n",
       "    </tr>\n",
       "  </tbody>\n",
       "</table>\n",
       "</div>"
      ],
      "text/plain": [
       "  source target   meta\n",
       "0   A000   0010  00000\n",
       "1   A001   0011  00000\n",
       "2   A009   0019  00000\n",
       "3  A0100   0020  10000\n",
       "4  A0101   0020  10000"
      ]
     },
     "execution_count": 10,
     "metadata": {},
     "output_type": "execute_result"
    }
   ],
   "source": [
    "df = pd.read_csv('2018_gem_cm_I10I9.txt.gz', sep='\\s+', dtype=str, names=['source', 'target', 'meta'])\n",
    "df.head()"
   ]
  },
  {
   "cell_type": "code",
   "execution_count": 6,
   "id": "5e5879ab",
   "metadata": {},
   "outputs": [],
   "source": [
    "def analyze_conversions(filename):\n",
    "    df = pd.read_csv(filename, sep='\\s+', dtype=str, names=['source', 'target', 'meta'])\n",
    "    df['approximate'] = df['meta'].apply(lambda s: s[0])\n",
    "    df['no_map'] = df['meta'].apply(lambda s: s[1])\n",
    "    df['combination'] = df['meta'].apply(lambda s: s[2])\n",
    "    df['scenario'] = df['meta'].apply(lambda s: s[3])\n",
    "    df['choice_list'] = df['meta'].apply(lambda s: s[4])\n",
    "    \n",
    "    \n",
    "    codes = list(df['source'][df['no_map'] == '1'])\n",
    "    status = ['no_map' for _ in codes]\n",
    "    for code, source_df in df[df['no_map'] =='0'].groupby('source'):\n",
    "        codes.append(code)\n",
    "        if len(source_df) == 1:\n",
    "            status.append('11_map')\n",
    "        elif len(set(source_df['scenario'])) > 1:\n",
    "            status.append('ambigious')\n",
    "        elif len(set(source_df['choice_list'])) < len(source_df):\n",
    "            status.append('1n_map(resolved)')\n",
    "        else:\n",
    "            status.append('1n_map')\n",
    "\n",
    "\n",
    "    status = pd.DataFrame({'code': codes, 'status': status})\n",
    "    print(status.value_counts('status'))\n",
    "    sns.countplot(x=status['status'], color='gray')\n",
    "\n",
    "    "
   ]
  },
  {
   "cell_type": "code",
   "execution_count": 7,
   "id": "d3bfca86",
   "metadata": {},
   "outputs": [
    {
     "name": "stdout",
     "output_type": "stream",
     "text": [
      "status\n",
      "11_map              63111\n",
      "1n_map               3851\n",
      "1n_map(resolved)     3762\n",
      "no_map                731\n",
      "ambigious             249\n",
      "dtype: int64\n"
     ]
    },
    {
     "data": {
      "image/png": "[encoded data removed]",
      "text/plain": [
       "<Figure size 432x288 with 1 Axes>"
      ]
     },
     "metadata": {
      "needs_background": "light"
     },
     "output_type": "display_data"
    }
   ],
   "source": [
    "analyze_conversions('2018_gem_cm_I10I9.txt.gz')"
   ]
  },
  {
   "cell_type": "code",
   "execution_count": 9,
   "id": "eaaf75b7",
   "metadata": {},
   "outputs": [
    {
     "name": "stdout",
     "output_type": "stream",
     "text": [
      "status\n",
      "11_map              10765\n",
      "1n_map(resolved)     3009\n",
      "no_map                422\n",
      "1n_map                305\n",
      "ambigious              66\n",
      "dtype: int64\n"
     ]
    },
    {
     "data": {
      "image/png": "[encoded data removed]",
      "text/plain": [
       "<Figure size 432x288 with 1 Axes>"
      ]
     },
     "metadata": {
      "needs_background": "light"
     },
     "output_type": "display_data"
    }
   ],
   "source": [
    "analyze_conversions('2018_gem_cm_I9I10.txt.gz')"
   ]
  },
  {
   "cell_type": "code",
   "execution_count": null,
   "id": "f45bbd69",
   "metadata": {},
   "outputs": [],
   "source": []
  }
 ],
 "metadata": {
  "kernelspec": {
   "display_name": "Python 3 (ipykernel)",
   "language": "python",
   "name": "python3"
  },
  "language_info": {
   "codemirror_mode": {
    "name": "ipython",
    "version": 3
   },
   "file_extension": ".py",
   "mimetype": "text/x-python",
   "name": "python",
   "nbconvert_exporter": "python",
   "pygments_lexer": "ipython3",
   "version": "3.8.12"
  }
 },
 "nbformat": 4,
 "nbformat_minor": 5
}
