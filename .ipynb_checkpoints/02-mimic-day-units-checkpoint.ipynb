{
 "cells": [
  {
   "cell_type": "code",
   "execution_count": 2,
   "id": "bf45d070",
   "metadata": {},
   "source": [
    "import numpy as np\n",
    "import pandas as pd\n",
    "import json\n",
    "import collections\n",
    "from collections import defaultdict \n",
    "from functools import partial\n",
    "import networkx as nx\n",
    "import matplotlib.pyplot as plt\n",
    "import seaborn as sns\n",
    "from tqdm import tqdm\n"
   ],
   "outputs": []
  },
  {
   "cell_type": "markdown",
   "id": "343145f1",
   "metadata": {},
   "source": [
    "### This notebook transforms information in tables into points with \"day\" as smallest time unit\n"
   ]
  },
  {
   "cell_type": "code",
   "execution_count": 3,
   "id": "5c00dddc",
   "metadata": {},
   "source": [
    "# Good read: https://iq-inc.com/importerror-attempted-relative-import/\n",
    "\n",
    "import sys\n",
    "import importlib\n",
    "from mimicnet import concept\n",
    "\n",
    "importlib.reload(sys.modules['mimicnet.concept'])"
   ],
   "outputs": []
  },
  {
   "cell_type": "code",
   "execution_count": 18,
   "id": "51442959",
   "metadata": {},
   "source": [
    "# multi_visit_mimic_dir = '/home/am8520/GP/ehr-data/mimic3-multi-visit'\n",
    "multi_visit_mimic_dir = '/home/asem/GP/ehr-data/mimic3-multi-visit'\n",
    "\n",
    "PATIENTS = pd.read_csv(f'{multi_visit_mimic_dir}/PATIENTS.csv.gz')\n",
    "ADMISSIONS = pd.read_csv(f'{multi_visit_mimic_dir}/ADMISSIONS.csv.gz')\n",
    "DIAGNOSES_ICD = pd.read_csv(f'{multi_visit_mimic_dir}/DIAGNOSES_ICD.csv.gz')\n",
    "PROCEDURES_ICD = pd.read_csv(f'{multi_visit_mimic_dir}/PROCEDURES_ICD.csv.gz')\n",
    "LABEVENTS = pd.read_csv(f'{multi_visit_mimic_dir}/LABEVENTS.csv.gz')\n",
    "LABEVENTS = LABEVENTS[['SUBJECT_ID', 'ITEMID', 'CHARTTIME', 'VALUE', 'VALUENUM', 'VALUEUOM']]"
   ],
   "outputs": []
  },
  {
   "cell_type": "code",
   "execution_count": 5,
   "id": "0f1732e6",
   "metadata": {},
   "source": [
    "N_PATIENTS = PATIENTS.shape[0]\n",
    "N_PATIENTS "
   ],
   "outputs": []
  },
  {
   "cell_type": "code",
   "execution_count": 6,
   "id": "51508f6c",
   "metadata": {},
   "source": [
    "chunksize = 10 ** 7\n",
    "CHARTEVENTS_dfs = []\n",
    "with pd.read_csv(f'{multi_visit_mimic_dir}/CHARTEVENTS.csv.gz', chunksize=chunksize) as reader:\n",
    "    for chunk in tqdm(reader):\n",
    "        CHARTEVENTS_dfs.append(chunk[['SUBJECT_ID', 'ITEMID', 'CHARTTIME', 'VALUE', 'VALUENUM', 'VALUEUOM']])"
   ],
   "outputs": []
  },
  {
   "cell_type": "markdown",
   "id": "3f93f689",
   "metadata": {},
   "source": [
    "### Load dictionary stuff"
   ]
  },
  {
   "cell_type": "code",
   "execution_count": 7,
   "id": "09f08543",
   "metadata": {},
   "source": [
    "# mimic_dir = '/home/am8520/GP/ehr-data/mimic3-multi-visit'\n",
    "mimic_dir = '/home/asem/GP/ehr-data/mimic3-v1.4/physionet.org/files/mimiciii/1.4'\n",
    "\n",
    "\n",
    "D_LABITEMS = pd.read_csv(f'{mimic_dir}/D_LABITEMS.csv.gz')\n",
    "D_ITEMS = pd.read_csv(f'{mimic_dir}/D_ITEMS.csv.gz')"
   ],
   "outputs": []
  },
  {
   "cell_type": "code",
   "execution_count": 8,
   "id": "222a651a",
   "metadata": {},
   "source": [
    "D_ITEMS.head()"
   ],
   "outputs": []
  },
  {
   "cell_type": "code",
   "execution_count": 100,
   "id": "0c4cfc73",
   "metadata": {},
   "source": [
    "D_LABITEMS.head()"
   ],
   "outputs": []
  },
  {
   "cell_type": "code",
   "execution_count": 9,
   "id": "baabcdf4",
   "metadata": {},
   "source": [
    "CHARTEVENTS_dfs[0].head()"
   ],
   "outputs": []
  },
  {
   "cell_type": "code",
   "execution_count": 19,
   "id": "a327a3d3",
   "metadata": {},
   "source": [
    "LABEVENTS.head()"
   ],
   "outputs": []
  },
  {
   "cell_type": "code",
   "execution_count": 10,
   "id": "6f705d97",
   "metadata": {},
   "source": [
    "CHARTEVENTS_dfs[0].ITEMID.value_counts()\n"
   ],
   "outputs": []
  },
  {
   "cell_type": "markdown",
   "id": "070757b1",
   "metadata": {},
   "source": [
    "### Select CHARTEVENTS with ITEMID covering at least 5% of all patients in the dataset"
   ]
  },
  {
   "cell_type": "code",
   "execution_count": 87,
   "id": "c0887da1",
   "metadata": {},
   "source": [
    "# For each chartevent item_id, store a set of patient that have at least one measurement of that type.\n",
    "chartevents_item_patients = defaultdict(set)\n",
    "for df in CHARTEVENTS_dfs:\n",
    "    item_subject_df = df.drop_duplicates(subset=['ITEMID', 'SUBJECT_ID'], ignore_index=True)\n",
    "    for item_id, subjects_df in item_subject_df.groupby('ITEMID'):\n",
    "        chartevents_item_patients[item_id].update(subjects_df.SUBJECT_ID.tolist())\n",
    "        \n",
    "        "
   ],
   "outputs": []
  },
  {
   "cell_type": "markdown",
   "id": "f4c6fc0e",
   "metadata": {},
   "source": [
    "#### CONCLUSION: No duplicate info between LABEVENTS and CHARTEVENTS"
   ]
  },
  {
   "cell_type": "code",
   "execution_count": 88,
   "id": "91932b09",
   "metadata": {},
   "source": [
    "print(len(chartevets_item_patients))\n",
    "print(len(set(LABEVENTS.ITEMID)))\n",
    "print(len(set(chartevets_item_patients.keys()) & set(LABEVENTS.ITEMID)))"
   ],
   "outputs": []
  },
  {
   "cell_type": "code",
   "execution_count": 89,
   "id": "5f7fd2b0",
   "metadata": {},
   "source": [
    "chartevents_item_patients_count_df = pd.DataFrame({'ITEMID': chartevents_item_patients.keys(),\n",
    "                                                 'N_PATIENTS': map(len, chartevents_item_patients.values())})\n",
    "chartevents_item_patients_count_df['P_PATIENTS'] = chartevents_item_patients_count_df['N_PATIENTS'] / N_PATIENTS\n",
    "chartevents_item_patients_count_df = chartevents_item_patients_count_df.sort_values(by='N_PATIENTS', ascending=False)\n",
    "chartevents_item_patients_count_df"
   ],
   "outputs": []
  },
  {
   "cell_type": "code",
   "execution_count": 90,
   "id": "84545971",
   "metadata": {},
   "source": [
    "np.mean(chartevets_item_patients_count_df.P_PATIENTS > 0.05)"
   ],
   "outputs": []
  },
  {
   "cell_type": "code",
   "execution_count": 91,
   "id": "6428304c",
   "metadata": {},
   "source": [
    "selected_chartevents_itemid_set = set(chartevents_item_patients_count_df[chartevents_item_patients_count_df.P_PATIENTS > 0.05].ITEMID)"
   ],
   "outputs": []
  },
  {
   "cell_type": "code",
   "execution_count": 92,
   "id": "4fad0990",
   "metadata": {},
   "source": [
    "len(selected_chart_events_itemid_set)"
   ],
   "outputs": []
  },
  {
   "cell_type": "code",
   "execution_count": 93,
   "id": "193cb45c",
   "metadata": {},
   "source": [
    "for i, df in enumerate(CHARTEVENTS_dfs):\n",
    "    CHARTEVENTS_dfs[i] = df[df.ITEMID.isin(selected_chartevents_itemid_set)].reset_index(drop=True)"
   ],
   "outputs": []
  },
  {
   "cell_type": "code",
   "execution_count": 94,
   "id": "64855c0e",
   "metadata": {},
   "source": [
    "for i, df_chunk in enumerate(tqdm(CHARTEVENTS_dfs)):\n",
    "    # Set writing mode to append after first chunk\n",
    "    mode = 'w' if i == 0 else 'a'\n",
    "    \n",
    "    # Add header if it is the first chunk\n",
    "    header = i == 0\n",
    "\n",
    "    df_chunk.to_csv(\n",
    "        f'{multi_visit_mimic_dir}/CHARTEVENTS_Q5.csv.gz', \n",
    "        compression='gzip', \n",
    "        index=False,\n",
    "        header=header, \n",
    "        mode=mode)"
   ],
   "outputs": []
  },
  {
   "cell_type": "markdown",
   "id": "2733669f",
   "metadata": {},
   "source": [
    "### Select LABEVENTS with ITEMID covering at least 5% of all patients in the dataset"
   ]
  },
  {
   "cell_type": "code",
   "execution_count": 95,
   "id": "4c46ff78",
   "metadata": {},
   "source": [
    "# For each labevents item_id, store a set of patient that have at least one measurement of that type.\n",
    "\n",
    "labevents_item_patients = defaultdict(set)\n",
    "\n",
    "labitem_subject_df = LABEVENTS.drop_duplicates(subset=['ITEMID', 'SUBJECT_ID'], ignore_index=True)\n",
    "for item_id, subjects_df in labitem_subject_df.groupby('ITEMID'):\n",
    "    labevents_item_patients[item_id].update(subjects_df.SUBJECT_ID.tolist())\n",
    "    \n",
    "labitem_patients_count_df = pd.DataFrame({'ITEMID': labevents_item_patients.keys(),\n",
    "                                                 'N_PATIENTS': map(len, labevents_item_patients.values())})\n",
    "labitem_patients_count_df['P_PATIENTS'] = labitem_patients_count_df['N_PATIENTS'] / N_PATIENTS\n",
    "\n",
    "labitem_patients_count_df = labitem_patients_count_df.sort_values(by='N_PATIENTS', ascending=False)\n",
    "labitem_patients_count_df"
   ],
   "outputs": []
  },
  {
   "cell_type": "code",
   "execution_count": 96,
   "id": "8adefeb7",
   "metadata": {},
   "source": [
    "np.mean(labitem_patients_count_df.P_PATIENTS > 0.05)"
   ],
   "outputs": []
  },
  {
   "cell_type": "code",
   "execution_count": 97,
   "id": "0b609622",
   "metadata": {},
   "source": [
    "selected_labevents_itemid_set = set(labitem_patients_count_df[labitem_patients_count_df.P_PATIENTS > 0.05].ITEMID)"
   ],
   "outputs": []
  },
  {
   "cell_type": "code",
   "execution_count": 98,
   "id": "fbf40667",
   "metadata": {},
   "source": [
    "LABEVENTS_Q5 = LABEVENTS[LABEVENTS.ITEMID.isin(selected_labevents_itemid_set)].reset_index(drop=True)\n",
    "LABEVENTS_Q5.to_csv(f'{multi_visit_mimic_dir}/LABEVENTS_Q5.csv.gz', \n",
    "                    compression='gzip', \n",
    "                    index=False,)"
   ],
   "outputs": []
  },
  {
   "cell_type": "markdown",
   "id": "ae2336ab",
   "metadata": {},
   "source": [
    "### Investigate the units used for each test type in CHARTEVENTS"
   ]
  },
  {
   "cell_type": "code",
   "execution_count": 72,
   "id": "215850b2",
   "metadata": {},
   "source": [
    "# Group each ITEMID with the set of used units (to detect unit incosistency for each unique test).\n",
    "chartevents_item_units = defaultdict(set)\n",
    "for df in CHARTEVENTS_dfs:\n",
    "    item_unit_df = df.drop_duplicates(subset=['ITEMID', 'VALUEUOM'], ignore_index=True)\n",
    "    for item_id, units_df in item_unit_df.groupby('ITEMID'):\n",
    "        units_df[units_df.VALUEUOM.isnull()] = ''\n",
    "        chartevents_item_units[item_id].update(units_df.VALUEUOM)"
   ],
   "outputs": []
  },
  {
   "cell_type": "code",
   "execution_count": 73,
   "id": "3e0edecf",
   "metadata": {},
   "source": [
    "chartevents_item_units_count_df = pd.DataFrame({'ITEMID': chartevents_item_units.keys(),\n",
    "                                                 'N_UNITS': map(len, chartevents_item_units.values())})\n",
    "chartevents_item_units_count_df = chartevents_item_units_count_df.sort_values(by='N_UNITS', ascending=False)\n",
    "chartevents_item_units_count_df"
   ],
   "outputs": []
  },
  {
   "cell_type": "code",
   "execution_count": 76,
   "id": "b5ab8500",
   "metadata": {},
   "source": [
    "itemid_label = dict(zip(D_ITEMS.ITEMID, D_ITEMS.LABEL))\n",
    "itemid_category = dict(zip(D_ITEMS.ITEMID, D_ITEMS.LABEL))\n",
    "\n",
    "chartevents_item_units_count_df"
   ],
   "outputs": []
  },
  {
   "cell_type": "code",
   "execution_count": 79,
   "id": "5889727e",
   "metadata": {},
   "source": [
    "chartevents_item_tuples = []\n",
    "for itemid in chartevents_item_units_count_df.ITEMID:\n",
    "    for unit in chartevents_item_units[itemid]:\n",
    "        chartevents_item_tuples.append((itemid, unit))\n",
    "chartevents_units_df = pd.DataFrame(chartevents_item_tuples, columns=['ITEMID', 'VALUEUOM'])\n",
    "chartevents_units_df['LABEL'] = chartevents_units_df.ITEMID.map(itemid_label)\n",
    "chartevents_units_df['CATEGORY'] = chartevents_units_df.ITEMID.map(itemid_category)\n",
    "chartevents_units_df.to_csv('chartevents_units_df.csv')\n",
    "chartevents_units_df"
   ],
   "outputs": []
  },
  {
   "cell_type": "markdown",
   "id": "08e5822f",
   "metadata": {},
   "source": [
    "### CONCLUSION: Units are consistent for each measurement type in CHARTEVENTS"
   ]
  },
  {
   "cell_type": "code",
   "execution_count": null,
   "id": "df445d88",
   "metadata": {},
   "source": [],
   "outputs": []
  },
  {
   "cell_type": "markdown",
   "id": "da20f7c9",
   "metadata": {},
   "source": [
    "### Investigate the units used for each test type in LABEVENTS"
   ]
  },
  {
   "cell_type": "code",
   "execution_count": 99,
   "id": "ebf446e5",
   "metadata": {},
   "source": [
    "# Group each ITEMID with the set of used units (to detect unit incosistency for each unique test).\n",
    "labevents_item_units = defaultdict(set)\n",
    "lab_unit_df = LABEVENTS_Q5.drop_duplicates(subset=['ITEMID', 'VALUEUOM'], ignore_index=True)\n",
    "for item_id, units_df in lab_unit_df.groupby('ITEMID'):\n",
    "    units_df[units_df.VALUEUOM.isnull()] = ''\n",
    "    labevents_item_units[item_id].update(units_df.VALUEUOM)"
   ],
   "outputs": []
  },
  {
   "cell_type": "code",
   "execution_count": 102,
   "id": "e6d02562",
   "metadata": {},
   "source": [
    "labevents_item_units_count_df = pd.DataFrame({'ITEMID': labevents_item_units.keys(),\n",
    "                                                 'N_UNITS': map(len, labevents_item_units.values())})\n",
    "labevents_item_units_count_df = labevents_item_units_count_df.sort_values(by='N_UNITS', ascending=False)\n",
    "labevents_item_units_count_df"
   ],
   "outputs": []
  },
  {
   "cell_type": "code",
   "execution_count": 106,
   "id": "d1fc57ab",
   "metadata": {},
   "source": [
    "labitem_label = dict(zip(D_LABITEMS.ITEMID, D_LABITEMS.LABEL))\n",
    "labitem_category = dict(zip(D_LABITEMS.ITEMID, D_LABITEMS.CATEGORY))\n",
    "labitem_nunits = dict(zip(labevents_item_units_count_df.ITEMID, labevents_item_units_count_df.N_UNITS))"
   ],
   "outputs": []
  },
  {
   "cell_type": "code",
   "execution_count": 108,
   "id": "90addca3",
   "metadata": {},
   "source": [
    "labevents_item_tuples = []\n",
    "for itemid in labevents_item_units_count_df.ITEMID:\n",
    "    for unit in labevents_item_units[itemid]:\n",
    "        labevents_item_tuples.append((itemid, unit))\n",
    "labevents_units_df = pd.DataFrame(labevents_item_tuples, columns=['ITEMID', 'VALUEUOM'])\n",
    "labevents_units_df['LABEL'] = labevents_units_df.ITEMID.map(labitem_label)\n",
    "labevents_units_df['CATEGORY'] = labevents_units_df.ITEMID.map(itemid_category)\n",
    "labevents_units_df['N_UNITS'] = labevents_units_df.ITEMID.map(labitem_nunits)\n",
    "\n",
    "labevents_units_df = labevents_units_df[labevents_units_df.N_UNITS > 1]\n",
    "labevents_units_df.to_csv('labevents_units_df.csv')\n",
    "labevents_units_df"
   ],
   "outputs": []
  },
  {
   "cell_type": "code",
   "execution_count": null,
   "id": "e406a826",
   "metadata": {},
   "source": [],
   "outputs": []
  }
 ],
 "metadata": {
  "kernelspec": {
   "display_name": "Python 3 (ipykernel)",
   "language": "python",
   "name": "python3"
  },
  "language_info": {
   "codemirror_mode": {
    "name": "ipython",
    "version": 3
   },
   "file_extension": ".py",
   "mimetype": "text/x-python",
   "name": "python",
   "nbconvert_exporter": "python",
   "pygments_lexer": "ipython3",
   "version": "3.9.7"
  }
 },
 "nbformat": 4,
 "nbformat_minor": 5
}
