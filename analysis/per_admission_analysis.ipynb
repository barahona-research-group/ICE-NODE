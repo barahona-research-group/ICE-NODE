{
 "cells": [
  {
   "cell_type": "code",
   "execution_count": 1,
   "id": "670717f8",
   "metadata": {},
   "outputs": [],
   "source": [
    "import sys\n",
    "import os\n",
    "import pandas as pd\n",
    "\n",
    "sys.path.append('..')"
   ]
  },
  {
   "cell_type": "code",
   "execution_count": 2,
   "id": "99cdf46f",
   "metadata": {},
   "outputs": [
    {
     "name": "stderr",
     "output_type": "stream",
     "text": [
      "/home/asem/.local/lib/python3.8/site-packages/jax/experimental/optimizers.py:28: FutureWarning: jax.experimental.optimizers is deprecated, import jax.example_libraries.optimizers instead\n",
      "  warnings.warn('jax.experimental.optimizers is deprecated, '\n"
     ]
    }
   ],
   "source": [
    "from mimicnet.train_snonet_diag import SNONETDiag\n",
    "from mimicnet.train_gram import GRAM\n",
    "from mimicnet.train_retain import RETAIN\n",
    "\n",
    "%load_ext autoreload\n",
    "%autoreload 2"
   ]
  },
  {
   "cell_type": "markdown",
   "id": "6b587773",
   "metadata": {},
   "source": [
    "## Define Directories"
   ]
  },
  {
   "cell_type": "code",
   "execution_count": 3,
   "id": "32aecfac",
   "metadata": {},
   "outputs": [],
   "source": [
    "HOME = os.environ.get('HOME')\n",
    "\n",
    "# MIMIC-III Dataset Directory\n",
    "mimic3_dir = f'{HOME}/GP/ehr-data/mimic3-transforms'\n",
    "\n",
    "# ICE-NODE/M trained on MIMIC-III training partition (70%)\n",
    "icenode_m3_dir = f'{HOME}/GP/ICE-NODE/experiments/m3-exp/v0.1.23M3_snonet_diag_M/frozen_trial_2220'\n",
    "\n",
    "# RETAIN trained on MIMIC-III training partition (70%)\n",
    "retain_m3_dir = f'{HOME}/GP/ICE-NODE/experiments/m3-exp/v0.1.23M3_retain_M/frozen_trial_142'\n",
    "\n",
    "# GRU=GRAM/M trained on MIMIC-III training partition (70%)\n",
    "gru_m3_dir = f'{HOME}/GP/ICE-NODE/experiments/m3-exp/v0.1.23M3_gram_M/frozen_trial_615'\n",
    "\n",
    "# GRAM=GRAM/G trained on MIMIC-III training partition (70%)\n",
    "gram_m3_dir = f'{HOME}/GP/ICE-NODE/experiments/m3-exp/v0.1.23M3_gram_G/frozen_trial_442'"
   ]
  },
  {
   "cell_type": "markdown",
   "id": "a1edec59",
   "metadata": {},
   "source": [
    "## Patient Interface for each Model"
   ]
  },
  {
   "cell_type": "code",
   "execution_count": 4,
   "id": "44e62f16",
   "metadata": {},
   "outputs": [],
   "source": [
    "icnode_patient_interface = SNONETDiag.create_patient_interface(mimic3_dir, 'M3')\n",
    "retain_patient_interface = RETAIN.create_patient_interface(mimic3_dir, 'M3')\n",
    "# Works for both GRAM/M and GRAM/G\n",
    "gram_patient_interface = GRAM.create_patient_interface(mimic3_dir, 'M3')\n"
   ]
  },
  {
   "cell_type": "markdown",
   "id": "6374e1e6",
   "metadata": {},
   "source": [
    "## Dataset Partitioning"
   ]
  },
  {
   "cell_type": "code",
   "execution_count": 30,
   "id": "90d90be2",
   "metadata": {},
   "outputs": [],
   "source": [
    "import random\n",
    "\n",
    "# seed 42 is used in all our experiments in this work.\n",
    "rng = random.Random(42)\n",
    "subjects_id = list(icnode_patient_interface.subjects.keys())\n",
    "rng.shuffle(subjects_id)\n",
    "\n",
    "# splits = train:val:test = 0.7:.15:.15\n",
    "splits = int(.7 * len(subjects_id)), int(.85 * len(subjects_id))\n",
    "\n",
    "train_ids = subjects_id[:splits[0]]\n",
    "valid_ids = subjects_id[splits[0]:splits[1]]\n",
    "test_ids = subjects_id[splits[1]:]"
   ]
  },
  {
   "cell_type": "markdown",
   "id": "09af6ad9",
   "metadata": {},
   "source": [
    "## Load Configs and Trained Params"
   ]
  },
  {
   "cell_type": "code",
   "execution_count": 6,
   "id": "04ab791b",
   "metadata": {},
   "outputs": [],
   "source": [
    "from mimicnet.utils import load_config, load_params\n",
    "\n",
    "icenode_config = load_config(f'{icenode_m3_dir}/config.json')\n",
    "icenode_params = load_params(f'{icenode_m3_dir}/step0100_params.pickle')\n",
    "\n",
    "retain_config = load_config(f'{retain_m3_dir}/config.json')\n",
    "retain_params = load_params(f'{retain_m3_dir}/step0100_params.pickle')\n",
    "\n",
    "gru_config = load_config(f'{gru_m3_dir}/config.json')\n",
    "gru_params = load_params(f'{gru_m3_dir}/step0100_params.pickle')\n",
    "\n",
    "gram_config = load_config(f'{gram_m3_dir}/config.json')\n",
    "gram_params = load_params(f'{gram_m3_dir}/step0100_params.pickle')"
   ]
  },
  {
   "cell_type": "markdown",
   "id": "78c109e6",
   "metadata": {},
   "source": [
    "## Create Model Objects"
   ]
  },
  {
   "cell_type": "code",
   "execution_count": 8,
   "id": "85dde89b",
   "metadata": {},
   "outputs": [],
   "source": [
    "icenode = SNONETDiag.create_model(icenode_config, icnode_patient_interface, train_ids, None)\n",
    "retain = RETAIN.create_model(retain_config, retain_patient_interface, train_ids, None)\n",
    "gru = GRAM.create_model(gru_config, gram_patient_interface, train_ids, None)\n",
    "gram = GRAM.create_model(gram_config, gram_patient_interface, train_ids, None)"
   ]
  },
  {
   "cell_type": "markdown",
   "id": "ecc1c88c",
   "metadata": {},
   "source": [
    "## Train GRAM"
   ]
  },
  {
   "cell_type": "code",
   "execution_count": 31,
   "id": "f78792d4",
   "metadata": {},
   "outputs": [
    {
     "name": "stderr",
     "output_type": "stream",
     "text": [
      "  1%|██▍                                                                                                                                                                 | 38/2586 [00:41<46:19,  1.09s/it]\n"
     ]
    }
   ],
   "source": [
    "from pathlib import Path\n",
    "from typing import Iterable, Dict, Any, Optional, Tuple\n",
    "from functools import partial\n",
    "from absl import logging\n",
    "from tqdm import tqdm\n",
    "\n",
    "import jax\n",
    "from jax.experimental import optimizers\n",
    "\n",
    "from mimicnet.metrics import evaluation_table\n",
    "from mimicnet.utils import (load_config, tree_hasnan, write_config, write_params)\n",
    "from mimicnet.abstract_model import AbstractModel\n",
    "\n",
    "from mimicnet.train_gram import GRAM\n",
    "from mimicnet.train_retain import RETAIN\n",
    "from mimicnet.train_snonet_diag import SNONETDiag\n",
    "\n",
    "\n",
    "code_partitions = gru.code_partitions(gram_patient_interface, train_ids) \n",
    "prng_key = jax.random.PRNGKey(rng.randint(0, 100))\n",
    "params = gru.init_params(prng_key)\n",
    "logging.info('[DONE] Sampling & Initializing Models')\n",
    "\n",
    "loss_mixing = gru_config['training']['loss_mixing']\n",
    "lr = gru_config['training']['lr']\n",
    "if gru_config['training']['optimizer'] == 'adam':\n",
    "    optimizer = optimizers.adam\n",
    "else:\n",
    "    optimizer = optimizers.sgd\n",
    "\n",
    "opt_init, opt_update, get_params = optimizer(step_size=lr)\n",
    "opt_state = opt_init(params)\n",
    "\n",
    "loss_ = partial(gru.loss, loss_mixing)\n",
    "eval_ = partial(gru.eval, loss_mixing)\n",
    "\n",
    "def update(\n",
    "        step: int, batch: Iterable[int],\n",
    "        opt_state: optimizers.OptimizerState) -> optimizers.OptimizerState:\n",
    "    params = get_params(opt_state)\n",
    "    grads = jax.grad(loss_)(params, batch)\n",
    "    return opt_update(step, grads, opt_state)\n",
    "\n",
    "batch_size = gru_config['training']['batch_size']\n",
    "batch_size = min(batch_size, len(train_ids))\n",
    "\n",
    "epochs = gru_config['training']['epochs']\n",
    "iters = round(epochs * len(train_ids) / batch_size)\n",
    "for i in tqdm(range(iters)):\n",
    "    rng.shuffle(train_ids)\n",
    "    train_batch = train_ids[:batch_size]\n",
    "\n",
    "    opt_state = update(i, train_batch, opt_state)\n",
    "    if tree_hasnan(get_params(opt_state)):\n",
    "        raise ValueError('NaN params')\n",
    "\n",
    "    eval_step = round((i + 1) * 100 / iters)\n",
    "\n",
    "    last_step = round(i * 100 / iters)\n",
    "\n",
    "    if eval_step == last_step:\n",
    "        continue\n",
    "\n",
    "    params = get_params(opt_state)\n",
    "\n",
    "    raw_res = {\n",
    "        'TRN': eval_(params, train_batch),\n",
    "        'VAL': eval_(params, valid_ids),\n",
    "        'TST': eval_(params, test_ids)\n",
    "    }\n",
    "\n",
    "    eval_df, _ = evaluation_table(raw_res, code_partitions)\n",
    "    fname = os.path.join(f'step{eval_step:04d}_params.pickle')\n",
    "    write_params(get_params(opt_state), fname)\n",
    "    logging.info(eval_df)\n",
    "    \n",
    "    if eval_step == 2:\n",
    "        break\n"
   ]
  },
  {
   "cell_type": "code",
   "execution_count": 15,
   "id": "23998d94",
   "metadata": {},
   "outputs": [],
   "source": [
    "gru_params = params"
   ]
  },
  {
   "cell_type": "code",
   "execution_count": 19,
   "id": "c27ae851",
   "metadata": {},
   "outputs": [],
   "source": [
    "write_params(gru_params, 'gru_params_laptop.pickle')"
   ]
  },
  {
   "cell_type": "code",
   "execution_count": 20,
   "id": "81e30438",
   "metadata": {},
   "outputs": [],
   "source": [
    "gru_params2 = load_params('gru_params_laptop.pickle')"
   ]
  },
  {
   "cell_type": "code",
   "execution_count": 27,
   "id": "50c3800a",
   "metadata": {},
   "outputs": [],
   "source": [
    "gru_params3 = load_params(f'{gru_m3_dir}/step0001_params.pickle')\n"
   ]
  },
  {
   "cell_type": "code",
   "execution_count": 25,
   "id": "1cf5344f",
   "metadata": {},
   "outputs": [
    {
     "data": {
      "text/plain": [
       "{'diag_emb': FlatMap({\n",
       "   'linear': FlatMap({\n",
       "               'b': DeviceArray(0.0747098, dtype=float32),\n",
       "               'w': DeviceArray(1.3197157, dtype=float32),\n",
       "             }),\n",
       " }),\n",
       " 'gru': FlatMap({\n",
       "   'gru': FlatMap({\n",
       "            'b': DeviceArray(0.23965977, dtype=float32),\n",
       "            'w_h': DeviceArray(-38.172867, dtype=float32),\n",
       "            'w_i': DeviceArray(35.65024, dtype=float32),\n",
       "          }),\n",
       " }),\n",
       " 'out': FlatMap({\n",
       "   'out': FlatMap({\n",
       "            'b': DeviceArray(-2.3310504, dtype=float32),\n",
       "            'w': DeviceArray(38.207985, dtype=float32),\n",
       "          }),\n",
       " })}"
      ]
     },
     "execution_count": 25,
     "metadata": {},
     "output_type": "execute_result"
    }
   ],
   "source": [
    "from jax.tree_util import tree_map\n",
    "import jax.numpy as jnp\n",
    "tree_map(jnp.sum, gru_params)"
   ]
  },
  {
   "cell_type": "code",
   "execution_count": 26,
   "id": "ad989126",
   "metadata": {},
   "outputs": [
    {
     "data": {
      "text/plain": [
       "{'diag_emb': FlatMap({\n",
       "   'linear': FlatMap({\n",
       "               'b': DeviceArray(0.0747098, dtype=float32),\n",
       "               'w': DeviceArray(1.3197157, dtype=float32),\n",
       "             }),\n",
       " }),\n",
       " 'gru': FlatMap({\n",
       "   'gru': FlatMap({\n",
       "            'b': DeviceArray(0.23965977, dtype=float32),\n",
       "            'w_h': DeviceArray(-38.172867, dtype=float32),\n",
       "            'w_i': DeviceArray(35.65024, dtype=float32),\n",
       "          }),\n",
       " }),\n",
       " 'out': FlatMap({\n",
       "   'out': FlatMap({\n",
       "            'b': DeviceArray(-2.3310504, dtype=float32),\n",
       "            'w': DeviceArray(38.207985, dtype=float32),\n",
       "          }),\n",
       " })}"
      ]
     },
     "execution_count": 26,
     "metadata": {},
     "output_type": "execute_result"
    }
   ],
   "source": [
    "tree_map(jnp.sum, gru_params2)"
   ]
  },
  {
   "cell_type": "code",
   "execution_count": 28,
   "id": "e3d5d958",
   "metadata": {},
   "outputs": [
    {
     "data": {
      "text/plain": [
       "{'diag_emb': FlatMap({\n",
       "   'linear': FlatMap({\n",
       "               'b': DeviceArray(-0.07551, dtype=float32),\n",
       "               'w': DeviceArray(-16.10969, dtype=float32),\n",
       "             }),\n",
       " }),\n",
       " 'gru': FlatMap({\n",
       "   'gru': FlatMap({\n",
       "            'b': DeviceArray(0.18327145, dtype=float32),\n",
       "            'w_h': DeviceArray(-43.501312, dtype=float32),\n",
       "            'w_i': DeviceArray(-1.3282385, dtype=float32),\n",
       "          }),\n",
       " }),\n",
       " 'out': FlatMap({\n",
       "   'out': FlatMap({\n",
       "            'b': DeviceArray(-2.2134526, dtype=float32),\n",
       "            'w': DeviceArray(14.757753, dtype=float32),\n",
       "          }),\n",
       " })}"
      ]
     },
     "execution_count": 28,
     "metadata": {},
     "output_type": "execute_result"
    }
   ],
   "source": [
    "tree_map(jnp.sum, gru_params3)"
   ]
  },
  {
   "cell_type": "code",
   "execution_count": 17,
   "id": "4a673871",
   "metadata": {},
   "outputs": [],
   "source": [
    "res = gru.eval(retain_config['training']['loss_mixing'], gru_params, valid_ids)\n",
    "eval_df = evaluation_table({'TST': res}, code_partitions)"
   ]
  },
  {
   "cell_type": "code",
   "execution_count": 18,
   "id": "0d05b985",
   "metadata": {},
   "outputs": [
    {
     "data": {
      "text/plain": [
       "(                      TST\n",
       " MACRO-AUC        0.748025\n",
       " MICRO-AUC        0.745449\n",
       " accuracy         0.643057\n",
       " diag_loss       75.222328\n",
       " f1-score         0.061882\n",
       " fn               0.004583\n",
       " fp               0.352360\n",
       " l1_loss      29558.054688\n",
       " l2_loss       2112.337402\n",
       " loss            75.243164\n",
       " npv              0.992792\n",
       " pre_ACC-P0       0.044098\n",
       " pre_ACC-P1       0.052443\n",
       " pre_ACC-P2       0.119628\n",
       " pre_ACC-P3       0.260762\n",
       " pre_ACC-P4       0.517783\n",
       " precision        0.032331\n",
       " recall           0.719788\n",
       " specificity      0.641781\n",
       " tn               0.631284\n",
       " tp               0.011773,\n",
       " {'TST_diag_loss': 75.22232818603516,\n",
       "  'TST_loss': 75.2431640625,\n",
       "  'TST_l1_loss': 29558.0546875,\n",
       "  'TST_l2_loss': 2112.33740234375,\n",
       "  'TST_accuracy': 0.6430565714836121,\n",
       "  'TST_recall': 0.7197879552841187,\n",
       "  'TST_npv': 0.9927923083305359,\n",
       "  'TST_specificity': 0.64178067445755,\n",
       "  'TST_precision': 0.03233102336525917,\n",
       "  'TST_f1-score': 0.06188245117664337,\n",
       "  'TST_tp': 0.01177279744297266,\n",
       "  'TST_tn': 0.6312837600708008,\n",
       "  'TST_fp': 0.352360337972641,\n",
       "  'TST_fn': 0.004583126399666071,\n",
       "  'TST_MACRO-AUC': 0.7480250604976337,\n",
       "  'TST_MICRO-AUC': 0.745448830548663,\n",
       "  'TST_pre_ACC-P0': 0.044097995545657014,\n",
       "  'TST_pre_ACC-P1': 0.05244285073957866,\n",
       "  'TST_pre_ACC-P2': 0.11962782454585734,\n",
       "  'TST_pre_ACC-P3': 0.26076158940397354,\n",
       "  'TST_pre_ACC-P4': 0.517782909930716})"
      ]
     },
     "execution_count": 18,
     "metadata": {},
     "output_type": "execute_result"
    }
   ],
   "source": [
    "eval_df"
   ]
  },
  {
   "cell_type": "markdown",
   "id": "d1eb5f38",
   "metadata": {},
   "source": [
    "## Analyse AUC for Each Admission in the Test Partition"
   ]
  },
  {
   "cell_type": "code",
   "execution_count": 27,
   "id": "f574aa7d",
   "metadata": {},
   "outputs": [],
   "source": [
    "from mimicnet.metrics import evaluation_table"
   ]
  },
  {
   "cell_type": "code",
   "execution_count": 58,
   "id": "6e633e8d",
   "metadata": {},
   "outputs": [],
   "source": [
    "res = icenode.eval(icenode_config['training']['loss_mixing'], p0, valid_ids)"
   ]
  },
  {
   "cell_type": "code",
   "execution_count": 54,
   "id": "e2407d8c",
   "metadata": {},
   "outputs": [],
   "source": [
    "code_percentiles = icenode.code_partitions(icnode_patient_interface, train_ids) "
   ]
  },
  {
   "cell_type": "code",
   "execution_count": 59,
   "id": "d5f0aace",
   "metadata": {},
   "outputs": [],
   "source": [
    "eval_df = evaluation_table({'TST': res}, code_percentiles)"
   ]
  },
  {
   "cell_type": "code",
   "execution_count": 60,
   "id": "60ce8d71",
   "metadata": {},
   "outputs": [
    {
     "data": {
      "text/plain": [
       "(                             TST\n",
       " MACRO-AUC               0.521618\n",
       " MICRO-AUC               0.537354\n",
       " accuracy                0.888518\n",
       " all_points_count      424.000000\n",
       " diag_loss              98.166565\n",
       " dyn_loss                0.271464\n",
       " dyn_loss_per_week       0.000004\n",
       " f1-score                0.029766\n",
       " fn                      0.015052\n",
       " fp                      0.096431\n",
       " l1_loss             33092.835938\n",
       " l2_loss              2647.580566\n",
       " loss                   98.219398\n",
       " nfe_per_week            1.250589\n",
       " nfex1000               83.050003\n",
       " npv                     0.983311\n",
       " postjump_diag_loss     98.488777\n",
       " pre_ACC-P0              0.024173\n",
       " pre_ACC-P1              0.024927\n",
       " pre_ACC-P2              0.038375\n",
       " pre_ACC-P3              0.047669\n",
       " pre_ACC-P4              0.000000\n",
       " precision               0.017425\n",
       " predictable_count    8966.000000\n",
       " prejump_diag_loss      97.660095\n",
       " recall                  0.102026\n",
       " specificity             0.901925\n",
       " tn                      0.886808\n",
       " tp                      0.001710,\n",
       " {'TST_prejump_diag_loss': 97.66009521484375,\n",
       "  'TST_postjump_diag_loss': 98.48877716064453,\n",
       "  'TST_diag_loss': 98.16656494140625,\n",
       "  'TST_loss': 98.21939849853516,\n",
       "  'TST_l1_loss': 33092.8359375,\n",
       "  'TST_l2_loss': 2647.58056640625,\n",
       "  'TST_dyn_loss': 0.2714640200138092,\n",
       "  'TST_dyn_loss_per_week': 4.08777714255848e-06,\n",
       "  'TST_all_points_count': 424.0,\n",
       "  'TST_predictable_count': 8966.0,\n",
       "  'TST_nfe_per_week': 1.2505888938903809,\n",
       "  'TST_nfex1000': 83.05000305175781,\n",
       "  'TST_accuracy': 0.8885177373886108,\n",
       "  'TST_recall': 0.10202550888061523,\n",
       "  'TST_npv': 0.9833106398582458,\n",
       "  'TST_specificity': 0.9019253849983215,\n",
       "  'TST_precision': 0.017425082623958588,\n",
       "  'TST_f1-score': 0.029766332358121872,\n",
       "  'TST_tp': 0.0017101132543757558,\n",
       "  'TST_tn': 0.8868076205253601,\n",
       "  'TST_fp': 0.09643077850341797,\n",
       "  'TST_fn': 0.01505151204764843,\n",
       "  'TST_MACRO-AUC': 0.5216178081814294,\n",
       "  'TST_MICRO-AUC': 0.537354450109322,\n",
       "  'TST_pre_ACC-P0': 0.024172971037199516,\n",
       "  'TST_pre_ACC-P1': 0.024927351979658556,\n",
       "  'TST_pre_ACC-P2': 0.03837523469341027,\n",
       "  'TST_pre_ACC-P3': 0.04766924875097401,\n",
       "  'TST_pre_ACC-P4': 0.0})"
      ]
     },
     "execution_count": 60,
     "metadata": {},
     "output_type": "execute_result"
    }
   ],
   "source": [
    "eval_df\n"
   ]
  },
  {
   "cell_type": "code",
   "execution_count": 61,
   "id": "92552dfe",
   "metadata": {},
   "outputs": [],
   "source": [
    "res = retain.eval(retain_config['training']['loss_mixing'], retain_params, valid_ids)\n",
    "eval_df = evaluation_table({'TST': res}, code_percentiles)"
   ]
  },
  {
   "cell_type": "code",
   "execution_count": 62,
   "id": "77a9a07b",
   "metadata": {},
   "outputs": [
    {
     "data": {
      "text/plain": [
       "(                      TST\n",
       " MACRO-AUC        0.516685\n",
       " MICRO-AUC        0.523802\n",
       " accuracy         0.839888\n",
       " diag_loss      105.477043\n",
       " f1-score         0.046056\n",
       " fn               0.012491\n",
       " fp               0.147621\n",
       " l1_loss      39069.394531\n",
       " l2_loss       4987.006836\n",
       " loss           105.513245\n",
       " npv              0.985279\n",
       " pre_ACC-P0       0.074388\n",
       " pre_ACC-P1       0.073510\n",
       " pre_ACC-P2       0.079752\n",
       " pre_ACC-P3       0.052980\n",
       " pre_ACC-P4       0.184758\n",
       " precision        0.025514\n",
       " recall           0.236307\n",
       " specificity      0.849925\n",
       " tn               0.836023\n",
       " tp               0.003865,\n",
       " {'TST_diag_loss': 105.47704315185547,\n",
       "  'TST_loss': 105.51324462890625,\n",
       "  'TST_l1_loss': 39069.39453125,\n",
       "  'TST_l2_loss': 4987.0068359375,\n",
       "  'TST_accuracy': 0.8398882150650024,\n",
       "  'TST_recall': 0.23630741238594055,\n",
       "  'TST_npv': 0.9852791428565979,\n",
       "  'TST_specificity': 0.8499245047569275,\n",
       "  'TST_precision': 0.02551409602165222,\n",
       "  'TST_f1-score': 0.04605557769536972,\n",
       "  'TST_tp': 0.003865026170387864,\n",
       "  'TST_tn': 0.836023211479187,\n",
       "  'TST_fp': 0.14762087166309357,\n",
       "  'TST_fn': 0.012490897439420223,\n",
       "  'TST_MACRO-AUC': 0.5166850605717584,\n",
       "  'TST_MICRO-AUC': 0.5238015881037673,\n",
       "  'TST_pre_ACC-P0': 0.07438752783964366,\n",
       "  'TST_pre_ACC-P1': 0.07350963693411026,\n",
       "  'TST_pre_ACC-P2': 0.07975188303057155,\n",
       "  'TST_pre_ACC-P3': 0.052980132450331126,\n",
       "  'TST_pre_ACC-P4': 0.18475750577367206})"
      ]
     },
     "execution_count": 62,
     "metadata": {},
     "output_type": "execute_result"
    }
   ],
   "source": [
    "eval_df"
   ]
  },
  {
   "cell_type": "code",
   "execution_count": 15,
   "id": "803a26fe",
   "metadata": {},
   "outputs": [],
   "source": [
    "icenode_auc_df = icenode.admissions_auc_scores(icenode_params, test_ids)"
   ]
  },
  {
   "cell_type": "code",
   "execution_count": 18,
   "id": "04e916e5",
   "metadata": {},
   "outputs": [],
   "source": [
    "retain_auc_df = retain.admissions_auc_scores(retain_params, test_ids)"
   ]
  },
  {
   "cell_type": "code",
   "execution_count": 19,
   "id": "8230996b",
   "metadata": {},
   "outputs": [],
   "source": [
    "gru_auc_df = gru.admissions_auc_scores(gru_params, test_ids)"
   ]
  },
  {
   "cell_type": "code",
   "execution_count": 20,
   "id": "27a112e1",
   "metadata": {},
   "outputs": [],
   "source": [
    "gram_auc_df = gram.admissions_auc_scores(gram_params, test_ids)"
   ]
  },
  {
   "cell_type": "code",
   "execution_count": null,
   "id": "2b37b18d",
   "metadata": {},
   "outputs": [],
   "source": [
    "icenode_auc_df.eval"
   ]
  },
  {
   "cell_type": "code",
   "execution_count": 26,
   "id": "3e7dad7b",
   "metadata": {},
   "outputs": [
    {
     "data": {
      "text/html": [
       "<div>\n",
       "<style scoped>\n",
       "    .dataframe tbody tr th:only-of-type {\n",
       "        vertical-align: middle;\n",
       "    }\n",
       "\n",
       "    .dataframe tbody tr th {\n",
       "        vertical-align: top;\n",
       "    }\n",
       "\n",
       "    .dataframe thead th {\n",
       "        text-align: right;\n",
       "    }\n",
       "</style>\n",
       "<table border=\"1\" class=\"dataframe\">\n",
       "  <thead>\n",
       "    <tr style=\"text-align: right;\">\n",
       "      <th></th>\n",
       "      <th>SUBJECT_ID</th>\n",
       "      <th>HADM_IDX</th>\n",
       "      <th>AUC</th>\n",
       "      <th>DAYS_AHEAD</th>\n",
       "      <th>INTERVALS</th>\n",
       "      <th>NFE</th>\n",
       "    </tr>\n",
       "  </thead>\n",
       "  <tbody>\n",
       "    <tr>\n",
       "      <th>9337</th>\n",
       "      <td>59496</td>\n",
       "      <td>15</td>\n",
       "      <td>0.557576</td>\n",
       "      <td>25</td>\n",
       "      <td>1</td>\n",
       "      <td>8.0</td>\n",
       "    </tr>\n",
       "    <tr>\n",
       "      <th>9338</th>\n",
       "      <td>59496</td>\n",
       "      <td>16</td>\n",
       "      <td>0.557226</td>\n",
       "      <td>26</td>\n",
       "      <td>1</td>\n",
       "      <td>8.0</td>\n",
       "    </tr>\n",
       "    <tr>\n",
       "      <th>9339</th>\n",
       "      <td>1949</td>\n",
       "      <td>1</td>\n",
       "      <td>0.646902</td>\n",
       "      <td>1</td>\n",
       "      <td>1</td>\n",
       "      <td>8.0</td>\n",
       "    </tr>\n",
       "    <tr>\n",
       "      <th>9340</th>\n",
       "      <td>1949</td>\n",
       "      <td>2</td>\n",
       "      <td>0.647283</td>\n",
       "      <td>2</td>\n",
       "      <td>1</td>\n",
       "      <td>8.0</td>\n",
       "    </tr>\n",
       "    <tr>\n",
       "      <th>9341</th>\n",
       "      <td>1949</td>\n",
       "      <td>3</td>\n",
       "      <td>0.651092</td>\n",
       "      <td>3</td>\n",
       "      <td>1</td>\n",
       "      <td>8.0</td>\n",
       "    </tr>\n",
       "    <tr>\n",
       "      <th>9342</th>\n",
       "      <td>1949</td>\n",
       "      <td>4</td>\n",
       "      <td>0.652489</td>\n",
       "      <td>4</td>\n",
       "      <td>1</td>\n",
       "      <td>8.0</td>\n",
       "    </tr>\n",
       "    <tr>\n",
       "      <th>9343</th>\n",
       "      <td>1949</td>\n",
       "      <td>5</td>\n",
       "      <td>0.597824</td>\n",
       "      <td>10</td>\n",
       "      <td>6</td>\n",
       "      <td>8.0</td>\n",
       "    </tr>\n",
       "    <tr>\n",
       "      <th>9344</th>\n",
       "      <td>1949</td>\n",
       "      <td>6</td>\n",
       "      <td>0.643611</td>\n",
       "      <td>11</td>\n",
       "      <td>1</td>\n",
       "      <td>8.0</td>\n",
       "    </tr>\n",
       "    <tr>\n",
       "      <th>9345</th>\n",
       "      <td>1949</td>\n",
       "      <td>7</td>\n",
       "      <td>0.660633</td>\n",
       "      <td>12</td>\n",
       "      <td>1</td>\n",
       "      <td>8.0</td>\n",
       "    </tr>\n",
       "    <tr>\n",
       "      <th>9346</th>\n",
       "      <td>1949</td>\n",
       "      <td>8</td>\n",
       "      <td>0.666828</td>\n",
       "      <td>13</td>\n",
       "      <td>1</td>\n",
       "      <td>8.0</td>\n",
       "    </tr>\n",
       "    <tr>\n",
       "      <th>9347</th>\n",
       "      <td>1949</td>\n",
       "      <td>9</td>\n",
       "      <td>0.667852</td>\n",
       "      <td>14</td>\n",
       "      <td>1</td>\n",
       "      <td>8.0</td>\n",
       "    </tr>\n",
       "    <tr>\n",
       "      <th>9348</th>\n",
       "      <td>1949</td>\n",
       "      <td>10</td>\n",
       "      <td>0.669576</td>\n",
       "      <td>15</td>\n",
       "      <td>1</td>\n",
       "      <td>8.0</td>\n",
       "    </tr>\n",
       "    <tr>\n",
       "      <th>9349</th>\n",
       "      <td>1949</td>\n",
       "      <td>11</td>\n",
       "      <td>0.670222</td>\n",
       "      <td>16</td>\n",
       "      <td>1</td>\n",
       "      <td>8.0</td>\n",
       "    </tr>\n",
       "    <tr>\n",
       "      <th>9350</th>\n",
       "      <td>1949</td>\n",
       "      <td>12</td>\n",
       "      <td>0.670761</td>\n",
       "      <td>17</td>\n",
       "      <td>1</td>\n",
       "      <td>8.0</td>\n",
       "    </tr>\n",
       "    <tr>\n",
       "      <th>9351</th>\n",
       "      <td>11234</td>\n",
       "      <td>1</td>\n",
       "      <td>0.798064</td>\n",
       "      <td>1</td>\n",
       "      <td>1</td>\n",
       "      <td>8.0</td>\n",
       "    </tr>\n",
       "    <tr>\n",
       "      <th>9352</th>\n",
       "      <td>11234</td>\n",
       "      <td>2</td>\n",
       "      <td>0.725313</td>\n",
       "      <td>1267</td>\n",
       "      <td>1266</td>\n",
       "      <td>44.0</td>\n",
       "    </tr>\n",
       "    <tr>\n",
       "      <th>9353</th>\n",
       "      <td>11234</td>\n",
       "      <td>3</td>\n",
       "      <td>0.775730</td>\n",
       "      <td>1268</td>\n",
       "      <td>1</td>\n",
       "      <td>8.0</td>\n",
       "    </tr>\n",
       "    <tr>\n",
       "      <th>9354</th>\n",
       "      <td>11234</td>\n",
       "      <td>4</td>\n",
       "      <td>0.765125</td>\n",
       "      <td>1269</td>\n",
       "      <td>1</td>\n",
       "      <td>8.0</td>\n",
       "    </tr>\n",
       "    <tr>\n",
       "      <th>9355</th>\n",
       "      <td>11234</td>\n",
       "      <td>5</td>\n",
       "      <td>0.766168</td>\n",
       "      <td>1270</td>\n",
       "      <td>1</td>\n",
       "      <td>8.0</td>\n",
       "    </tr>\n",
       "    <tr>\n",
       "      <th>9356</th>\n",
       "      <td>11234</td>\n",
       "      <td>6</td>\n",
       "      <td>0.769124</td>\n",
       "      <td>1271</td>\n",
       "      <td>1</td>\n",
       "      <td>8.0</td>\n",
       "    </tr>\n",
       "  </tbody>\n",
       "</table>\n",
       "</div>"
      ],
      "text/plain": [
       "      SUBJECT_ID  HADM_IDX       AUC  DAYS_AHEAD  INTERVALS   NFE\n",
       "9337       59496        15  0.557576          25          1   8.0\n",
       "9338       59496        16  0.557226          26          1   8.0\n",
       "9339        1949         1  0.646902           1          1   8.0\n",
       "9340        1949         2  0.647283           2          1   8.0\n",
       "9341        1949         3  0.651092           3          1   8.0\n",
       "9342        1949         4  0.652489           4          1   8.0\n",
       "9343        1949         5  0.597824          10          6   8.0\n",
       "9344        1949         6  0.643611          11          1   8.0\n",
       "9345        1949         7  0.660633          12          1   8.0\n",
       "9346        1949         8  0.666828          13          1   8.0\n",
       "9347        1949         9  0.667852          14          1   8.0\n",
       "9348        1949        10  0.669576          15          1   8.0\n",
       "9349        1949        11  0.670222          16          1   8.0\n",
       "9350        1949        12  0.670761          17          1   8.0\n",
       "9351       11234         1  0.798064           1          1   8.0\n",
       "9352       11234         2  0.725313        1267       1266  44.0\n",
       "9353       11234         3  0.775730        1268          1   8.0\n",
       "9354       11234         4  0.765125        1269          1   8.0\n",
       "9355       11234         5  0.766168        1270          1   8.0\n",
       "9356       11234         6  0.769124        1271          1   8.0"
      ]
     },
     "execution_count": 26,
     "metadata": {},
     "output_type": "execute_result"
    }
   ],
   "source": [
    "icenode_auc_df.tail(20)"
   ]
  },
  {
   "cell_type": "code",
   "execution_count": 22,
   "id": "14505a35",
   "metadata": {},
   "outputs": [
    {
     "data": {
      "text/plain": [
       "0.017906336088154284"
      ]
     },
     "execution_count": 22,
     "metadata": {},
     "output_type": "execute_result"
    }
   ],
   "source": [
    "gram_auc_df.AUC.min()"
   ]
  },
  {
   "cell_type": "code",
   "execution_count": 23,
   "id": "e359a433",
   "metadata": {},
   "outputs": [
    {
     "data": {
      "text/plain": [
       "0.49718712421225186"
      ]
     },
     "execution_count": 23,
     "metadata": {},
     "output_type": "execute_result"
    }
   ],
   "source": [
    "gram_auc_df.AUC.mean()"
   ]
  },
  {
   "cell_type": "code",
   "execution_count": 23,
   "id": "d2ad9739",
   "metadata": {},
   "outputs": [
    {
     "data": {
      "text/plain": [
       "0.5889630890815816"
      ]
     },
     "execution_count": 23,
     "metadata": {},
     "output_type": "execute_result"
    }
   ],
   "source": [
    "icenode_auc_df.AUC.mean()"
   ]
  },
  {
   "cell_type": "code",
   "execution_count": 20,
   "id": "5606dee0",
   "metadata": {},
   "outputs": [
    {
     "data": {
      "text/plain": [
       "['__call__',\n",
       " '__class__',\n",
       " '__delattr__',\n",
       " '__dict__',\n",
       " '__dir__',\n",
       " '__doc__',\n",
       " '__eq__',\n",
       " '__format__',\n",
       " '__ge__',\n",
       " '__getattribute__',\n",
       " '__gt__',\n",
       " '__hash__',\n",
       " '__init__',\n",
       " '__init_subclass__',\n",
       " '__le__',\n",
       " '__lt__',\n",
       " '__module__',\n",
       " '__ne__',\n",
       " '__new__',\n",
       " '__reduce__',\n",
       " '__reduce_ex__',\n",
       " '__repr__',\n",
       " '__setattr__',\n",
       " '__sizeof__',\n",
       " '__str__',\n",
       " '__subclasshook__',\n",
       " '__weakref__',\n",
       " '_diag_loss',\n",
       " '_emb_error',\n",
       " '_extract_nth_points',\n",
       " '_f_dec',\n",
       " '_f_init',\n",
       " '_f_n_ode',\n",
       " '_f_update',\n",
       " '_initialization_data',\n",
       " '_sample_ode_model_config',\n",
       " '_sample_ode_training_config',\n",
       " '_sample_training_config',\n",
       " 'admissions_auc_scores',\n",
       " 'code_partitions',\n",
       " 'create_embedding',\n",
       " 'create_model',\n",
       " 'create_patient_interface',\n",
       " 'detailed_loss',\n",
       " 'diag_emb',\n",
       " 'diag_loss',\n",
       " 'diag_out_index',\n",
       " 'dimensions',\n",
       " 'eval',\n",
       " 'eval_stats',\n",
       " 'f_dec',\n",
       " 'f_init',\n",
       " 'f_n_ode',\n",
       " 'f_update',\n",
       " 'init_params',\n",
       " 'initializers',\n",
       " 'loss',\n",
       " 'max_odeint_days',\n",
       " 'sample_embeddings_config',\n",
       " 'sample_experiment_config',\n",
       " 'sample_model_config',\n",
       " 'sample_training_config',\n",
       " 'select_loss',\n",
       " 'state_size',\n",
       " 'subject_interface',\n",
       " 'tay_reg']"
      ]
     },
     "execution_count": 20,
     "metadata": {},
     "output_type": "execute_result"
    }
   ],
   "source": [
    "dir(icenode)"
   ]
  },
  {
   "cell_type": "code",
   "execution_count": null,
   "id": "b9b2b10e",
   "metadata": {},
   "outputs": [],
   "source": []
  }
 ],
 "metadata": {
  "kernelspec": {
   "display_name": "Python 3 (ipykernel)",
   "language": "python",
   "name": "python3"
  },
  "language_info": {
   "codemirror_mode": {
    "name": "ipython",
    "version": 3
   },
   "file_extension": ".py",
   "mimetype": "text/x-python",
   "name": "python",
   "nbconvert_exporter": "python",
   "pygments_lexer": "ipython3",
   "version": "3.8.12"
  }
 },
 "nbformat": 4,
 "nbformat_minor": 5
}
