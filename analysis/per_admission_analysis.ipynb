{
 "cells": [
  {
   "cell_type": "code",
   "execution_count": 1,
   "id": "fea783ee",
   "metadata": {},
   "outputs": [],
   "source": [
    "import sys\n",
    "import os\n",
    "import pandas as pd"
   ]
  },
  {
   "cell_type": "code",
   "execution_count": 2,
   "id": "a479337d",
   "metadata": {},
   "outputs": [],
   "source": [
    "sys.path.append('..')"
   ]
  },
  {
   "cell_type": "code",
   "execution_count": 3,
   "id": "521f296b",
   "metadata": {},
   "outputs": [
    {
     "name": "stderr",
     "output_type": "stream",
     "text": [
      "/home/asem/.conda/envs/icenode/lib/python3.8/site-packages/jax/experimental/optimizers.py:28: FutureWarning: jax.experimental.optimizers is deprecated, import jax.example_libraries.optimizers instead\n",
      "  warnings.warn('jax.experimental.optimizers is deprecated, '\n"
     ]
    }
   ],
   "source": [
    "from icenode.train_icenode_a2lr import ICENODE\n",
    "from icenode.train_gram import GRAM\n",
    "from icenode.train_retain import RETAIN\n",
    "\n",
    "%load_ext autoreload\n",
    "%autoreload 2"
   ]
  },
  {
   "cell_type": "markdown",
   "id": "73a22f7b",
   "metadata": {},
   "source": [
    "## Define Directories"
   ]
  },
  {
   "cell_type": "code",
   "execution_count": 4,
   "id": "5d47bebe",
   "metadata": {},
   "outputs": [],
   "source": [
    "HOME = os.environ.get('HOME')\n",
    "\n",
    "# MIMIC-III Dataset Directory\n",
    "mimic3_dir = f'{HOME}/GP/ehr-data/mimic3-transforms'\n",
    "\n",
    "# ICE-NODE/M trained on MIMIC-III training partition (70%)\n",
    "icenode_m3_dir = f'{HOME}/GP/ehr-data/icenode-m3-exp/v0.2.07M3_icenode_a2lr_M/trial_006'\n",
    "\n",
    "# # RETAIN trained on MIMIC-III training partition (70%)\n",
    "# retain_m3_dir = f'{HOME}/GP/ehr-data/icenode-m3-exp/v0.1.23M3_retain_M/frozen_trial_142'\n",
    "\n",
    "# # GRU=GRAM/M trained on MIMIC-III training partition (70%)\n",
    "# gru_m3_dir = f'{HOME}/GP/ehr-data/icenode-m3-exp/v0.1.23M3_gram_M/frozen_trial_615'\n",
    "\n",
    "# # GRAM=GRAM/G trained on MIMIC-III training partition (70%)\n",
    "# gram_m3_dir = f'{HOME}/GP/ehr-data/icenode-m3-exp/v0.1.23M3_gram_G/frozen_trial_442'"
   ]
  },
  {
   "cell_type": "markdown",
   "id": "f6659901",
   "metadata": {},
   "source": [
    "## Patient Interface for each Model"
   ]
  },
  {
   "cell_type": "code",
   "execution_count": 5,
   "id": "8b4d2001",
   "metadata": {},
   "outputs": [
    {
     "name": "stderr",
     "output_type": "stream",
     "text": [
      "2022-02-07 01:23:08.651817: E external/org_tensorflow/tensorflow/stream_executor/cuda/cuda_driver.cc:271] failed call to cuInit: CUDA_ERROR_UNKNOWN: unknown error\n",
      "WARNING:absl:No GPU/TPU found, falling back to CPU. (Set TF_CPP_MIN_LOG_LEVEL=0 and rerun for more info.)\n"
     ]
    }
   ],
   "source": [
    "icnode_patient_interface = ICENODE.create_patient_interface(mimic3_dir, 'M3')"
   ]
  },
  {
   "cell_type": "markdown",
   "id": "2f1f164a",
   "metadata": {},
   "source": [
    "## Dataset Partitioning"
   ]
  },
  {
   "cell_type": "code",
   "execution_count": 6,
   "id": "0ade91cd",
   "metadata": {},
   "outputs": [],
   "source": [
    "import random\n",
    "\n",
    "# seed 42 is used in all our experiments in this work.\n",
    "rng = random.Random(42)\n",
    "subjects_id = list(icnode_patient_interface.subjects.keys())\n",
    "rng.shuffle(subjects_id)\n",
    "\n",
    "# splits = train:val:test = 0.7:.15:.15\n",
    "splits = int(.7 * len(subjects_id)), int(.85 * len(subjects_id))\n",
    "\n",
    "train_ids = subjects_id[:splits[0]]\n",
    "valid_ids = subjects_id[splits[0]:splits[1]]\n",
    "test_ids = subjects_id[splits[1]:]"
   ]
  },
  {
   "cell_type": "markdown",
   "id": "2eaf5b99",
   "metadata": {},
   "source": [
    "## Load Configs and Trained Params"
   ]
  },
  {
   "cell_type": "code",
   "execution_count": 7,
   "id": "84e1fbd2",
   "metadata": {},
   "outputs": [],
   "source": [
    "from icenode.utils import load_config, load_params\n",
    "\n",
    "icenode_config = load_config(f'{icenode_m3_dir}/config.json')\n",
    "icenode_params = load_params(f'{icenode_m3_dir}/step0100_params.pickle')\n",
    "\n",
    "# retain_config = load_config(f'{retain_m3_dir}/config.json')\n",
    "# retain_params = load_params(f'{retain_m3_dir}/step0100_params.pickle')\n",
    "\n",
    "# gru_config = load_config(f'{gru_m3_dir}/config.json')\n",
    "# gru_params = load_params(f'{gru_m3_dir}/step0100_params.pickle')\n",
    "\n",
    "# gram_config = load_config(f'{gram_m3_dir}/config.json')\n",
    "# gram_params = load_params(f'{gram_m3_dir}/step0100_params.pickle')"
   ]
  },
  {
   "cell_type": "markdown",
   "id": "c4faf1a5",
   "metadata": {},
   "source": [
    "## Create Model Objects"
   ]
  },
  {
   "cell_type": "code",
   "execution_count": 8,
   "id": "7e763cbe",
   "metadata": {},
   "outputs": [
    {
     "data": {
      "text/plain": [
       "{'emb': {'diag': {'embeddings_dim': 150}, 'kind': 'matrix'},\n",
       " 'model': {'ode_dyn': 'mlp',\n",
       "  'ode_init_var': 2.1266894361354806e-09,\n",
       "  'ode_with_bias': False,\n",
       "  'state_size': 70,\n",
       "  'timescale': 60},\n",
       " 'training': {'batch_size': 22,\n",
       "  'epochs': 20,\n",
       "  'loss_mixing': {'L_dyn': 0, 'L_l1': 0, 'L_l2': 0},\n",
       "  'lr1': 1.8714262959167764e-05,\n",
       "  'lr2': 0.0006252400826901994,\n",
       "  'optimizer': 'adam'}}"
      ]
     },
     "execution_count": 8,
     "metadata": {},
     "output_type": "execute_result"
    }
   ],
   "source": [
    "icenode_config"
   ]
  },
  {
   "cell_type": "code",
   "execution_count": 9,
   "id": "071b00c5",
   "metadata": {},
   "outputs": [],
   "source": [
    "icenode = ICENODE.create_model(icenode_config, icnode_patient_interface, train_ids, None)\n",
    "model_state = icenode.init_with_params(icenode_config, icenode_params)\n",
    "# retain = RETAIN.create_model(retain_config, retain_patient_interface, train_ids, None)\n",
    "# gru = GRAM.create_model(gru_config, gram_patient_interface, train_ids, None)\n",
    "# gram = GRAM.create_model(gram_config, gram_patient_interface, train_ids, None)"
   ]
  },
  {
   "cell_type": "code",
   "execution_count": 10,
   "id": "01484032",
   "metadata": {},
   "outputs": [],
   "source": [
    "code_partitions = ICENODE.code_partitions(icnode_patient_interface, train_ids) "
   ]
  },
  {
   "cell_type": "code",
   "execution_count": 11,
   "id": "660cf369",
   "metadata": {},
   "outputs": [],
   "source": [
    "from icenode.metrics import evaluation_table\n",
    "res = icenode.eval(model_state, test_ids)"
   ]
  },
  {
   "cell_type": "code",
   "execution_count": 12,
   "id": "17bd7f48",
   "metadata": {},
   "outputs": [
    {
     "name": "stderr",
     "output_type": "stream",
     "text": [
      "/home/asem/.conda/envs/icenode/lib/python3.8/site-packages/jax/_src/numpy/lax_numpy.py:5338: UserWarning: 'kind' argument to argsort is ignored; only 'stable' sorts are supported.\n",
      "  warnings.warn(\"'kind' argument to argsort is ignored; only 'stable' sorts \"\n"
     ]
    }
   ],
   "source": [
    "eval_df = evaluation_table({'TST': res}, code_partitions)"
   ]
  },
  {
   "cell_type": "code",
   "execution_count": 13,
   "id": "aaae2261",
   "metadata": {},
   "outputs": [
    {
     "data": {
      "text/plain": [
       "(                           TST\n",
       " Kfe                  53.756001\n",
       " MACRO-AUC             0.941031\n",
       " MICRO-AUC             0.942536\n",
       " accuracy              0.804367\n",
       " admissions_count   1009.000000\n",
       " dyn_loss              0.000006\n",
       " f1-score              0.132843\n",
       " fn                    0.001478\n",
       " fp                    0.194155\n",
       " loss                  0.079047\n",
       " nfe_per_week          0.853907\n",
       " npv                   0.998131\n",
       " odeint_weeks      62953.000000\n",
       " pre_ACC-P0            0.169300\n",
       " pre_ACC-P1            0.362725\n",
       " pre_ACC-P2            0.431940\n",
       " pre_ACC-P3            0.690104\n",
       " pre_ACC-P4            0.912139\n",
       " precision             0.071650\n",
       " prediction_loss       0.079047\n",
       " recall                0.910235\n",
       " specificity           0.802595\n",
       " tn                    0.789383\n",
       " tp                    0.014985,\n",
       " {'TST_loss': 0.07904694974422455,\n",
       "  'TST_prediction_loss': 0.07904694974422455,\n",
       "  'TST_dyn_loss': 5.60919852432562e-06,\n",
       "  'TST_admissions_count': 1009.0,\n",
       "  'TST_odeint_weeks': 62953.0,\n",
       "  'TST_nfe_per_week': 0.8539068698883057,\n",
       "  'TST_Kfe': 53.75600051879883,\n",
       "  'TST_accuracy': 0.8043673038482666,\n",
       "  'TST_recall': 0.9102351665496826,\n",
       "  'TST_npv': 0.9981314539909363,\n",
       "  'TST_specificity': 0.802595317363739,\n",
       "  'TST_precision': 0.07164973020553589,\n",
       "  'TST_f1-score': 0.13284265995025635,\n",
       "  'TST_tp': 0.01498480699956417,\n",
       "  'TST_tn': 0.7893825173377991,\n",
       "  'TST_fp': 0.19415494799613953,\n",
       "  'TST_fn': 0.0014777593314647675,\n",
       "  'TST_MACRO-AUC': 0.9410308023546626,\n",
       "  'TST_MICRO-AUC': 0.9425356079808311,\n",
       "  'TST_pre_ACC-P0': 0.16930022573363432,\n",
       "  'TST_pre_ACC-P1': 0.36272461345591306,\n",
       "  'TST_pre_ACC-P2': 0.43194042201075716,\n",
       "  'TST_pre_ACC-P3': 0.6901041666666666,\n",
       "  'TST_pre_ACC-P4': 0.9121392190152802})"
      ]
     },
     "execution_count": 13,
     "metadata": {},
     "output_type": "execute_result"
    }
   ],
   "source": [
    "eval_df"
   ]
  },
  {
   "cell_type": "markdown",
   "id": "47ca87e2",
   "metadata": {},
   "source": [
    "## Analyse AUC for Each Admission in the Test Partition"
   ]
  },
  {
   "cell_type": "code",
   "execution_count": 18,
   "id": "4c4a01eb",
   "metadata": {},
   "outputs": [],
   "source": [
    "icenode_auc_df = icenode.admissions_auc_scores(model_state, test_ids)"
   ]
  },
  {
   "cell_type": "code",
   "execution_count": 19,
   "id": "b0b265c9",
   "metadata": {},
   "outputs": [
    {
     "data": {
      "text/html": [
       "<div>\n",
       "<style scoped>\n",
       "    .dataframe tbody tr th:only-of-type {\n",
       "        vertical-align: middle;\n",
       "    }\n",
       "\n",
       "    .dataframe tbody tr th {\n",
       "        vertical-align: top;\n",
       "    }\n",
       "\n",
       "    .dataframe thead th {\n",
       "        text-align: right;\n",
       "    }\n",
       "</style>\n",
       "<table border=\"1\" class=\"dataframe\">\n",
       "  <thead>\n",
       "    <tr style=\"text-align: right;\">\n",
       "      <th></th>\n",
       "      <th>SUBJECT_ID</th>\n",
       "      <th>HADM_ID</th>\n",
       "      <th>HADM_IDX</th>\n",
       "      <th>AUC</th>\n",
       "      <th>N_CODES</th>\n",
       "      <th>TIME</th>\n",
       "      <th>INTERVALS</th>\n",
       "      <th>LOS</th>\n",
       "      <th>NFE</th>\n",
       "    </tr>\n",
       "  </thead>\n",
       "  <tbody>\n",
       "    <tr>\n",
       "      <th>0</th>\n",
       "      <td>19842</td>\n",
       "      <td>169734</td>\n",
       "      <td>0</td>\n",
       "      <td>0.962705</td>\n",
       "      <td>9.0</td>\n",
       "      <td>412.5</td>\n",
       "      <td>412.5</td>\n",
       "      <td>3.5</td>\n",
       "      <td>62.0</td>\n",
       "    </tr>\n",
       "    <tr>\n",
       "      <th>1</th>\n",
       "      <td>19842</td>\n",
       "      <td>186772</td>\n",
       "      <td>1</td>\n",
       "      <td>0.958421</td>\n",
       "      <td>16.0</td>\n",
       "      <td>433.5</td>\n",
       "      <td>21.0</td>\n",
       "      <td>7.5</td>\n",
       "      <td>26.0</td>\n",
       "    </tr>\n",
       "    <tr>\n",
       "      <th>2</th>\n",
       "      <td>19842</td>\n",
       "      <td>180229</td>\n",
       "      <td>2</td>\n",
       "      <td>0.975085</td>\n",
       "      <td>9.0</td>\n",
       "      <td>448.5</td>\n",
       "      <td>15.0</td>\n",
       "      <td>3.5</td>\n",
       "      <td>26.0</td>\n",
       "    </tr>\n",
       "    <tr>\n",
       "      <th>3</th>\n",
       "      <td>19842</td>\n",
       "      <td>122439</td>\n",
       "      <td>3</td>\n",
       "      <td>0.970911</td>\n",
       "      <td>13.0</td>\n",
       "      <td>509.5</td>\n",
       "      <td>61.0</td>\n",
       "      <td>7.5</td>\n",
       "      <td>38.0</td>\n",
       "    </tr>\n",
       "    <tr>\n",
       "      <th>4</th>\n",
       "      <td>19842</td>\n",
       "      <td>163738</td>\n",
       "      <td>4</td>\n",
       "      <td>0.989981</td>\n",
       "      <td>13.0</td>\n",
       "      <td>552.5</td>\n",
       "      <td>43.0</td>\n",
       "      <td>5.5</td>\n",
       "      <td>32.0</td>\n",
       "    </tr>\n",
       "    <tr>\n",
       "      <th>...</th>\n",
       "      <td>...</td>\n",
       "      <td>...</td>\n",
       "      <td>...</td>\n",
       "      <td>...</td>\n",
       "      <td>...</td>\n",
       "      <td>...</td>\n",
       "      <td>...</td>\n",
       "      <td>...</td>\n",
       "      <td>...</td>\n",
       "    </tr>\n",
       "    <tr>\n",
       "      <th>1004</th>\n",
       "      <td>26421</td>\n",
       "      <td>192868</td>\n",
       "      <td>1</td>\n",
       "      <td>0.962552</td>\n",
       "      <td>6.0</td>\n",
       "      <td>278.5</td>\n",
       "      <td>186.0</td>\n",
       "      <td>3.5</td>\n",
       "      <td>50.0</td>\n",
       "    </tr>\n",
       "    <tr>\n",
       "      <th>1005</th>\n",
       "      <td>2558</td>\n",
       "      <td>105758</td>\n",
       "      <td>0</td>\n",
       "      <td>0.866811</td>\n",
       "      <td>11.0</td>\n",
       "      <td>59.5</td>\n",
       "      <td>59.5</td>\n",
       "      <td>4.5</td>\n",
       "      <td>32.0</td>\n",
       "    </tr>\n",
       "    <tr>\n",
       "      <th>1006</th>\n",
       "      <td>2558</td>\n",
       "      <td>194247</td>\n",
       "      <td>1</td>\n",
       "      <td>0.965925</td>\n",
       "      <td>8.0</td>\n",
       "      <td>70.5</td>\n",
       "      <td>11.0</td>\n",
       "      <td>4.5</td>\n",
       "      <td>20.0</td>\n",
       "    </tr>\n",
       "    <tr>\n",
       "      <th>1007</th>\n",
       "      <td>10832</td>\n",
       "      <td>196835</td>\n",
       "      <td>0</td>\n",
       "      <td>0.970133</td>\n",
       "      <td>9.0</td>\n",
       "      <td>647.5</td>\n",
       "      <td>647.5</td>\n",
       "      <td>8.5</td>\n",
       "      <td>74.0</td>\n",
       "    </tr>\n",
       "    <tr>\n",
       "      <th>1008</th>\n",
       "      <td>10832</td>\n",
       "      <td>187094</td>\n",
       "      <td>1</td>\n",
       "      <td>0.942159</td>\n",
       "      <td>16.0</td>\n",
       "      <td>2199.5</td>\n",
       "      <td>1552.0</td>\n",
       "      <td>3.5</td>\n",
       "      <td>104.0</td>\n",
       "    </tr>\n",
       "  </tbody>\n",
       "</table>\n",
       "<p>1009 rows × 9 columns</p>\n",
       "</div>"
      ],
      "text/plain": [
       "      SUBJECT_ID  HADM_ID  HADM_IDX       AUC N_CODES    TIME  INTERVALS  LOS  \\\n",
       "0          19842   169734         0  0.962705     9.0   412.5      412.5  3.5   \n",
       "1          19842   186772         1  0.958421    16.0   433.5       21.0  7.5   \n",
       "2          19842   180229         2  0.975085     9.0   448.5       15.0  3.5   \n",
       "3          19842   122439         3  0.970911    13.0   509.5       61.0  7.5   \n",
       "4          19842   163738         4  0.989981    13.0   552.5       43.0  5.5   \n",
       "...          ...      ...       ...       ...     ...     ...        ...  ...   \n",
       "1004       26421   192868         1  0.962552     6.0   278.5      186.0  3.5   \n",
       "1005        2558   105758         0  0.866811    11.0    59.5       59.5  4.5   \n",
       "1006        2558   194247         1  0.965925     8.0    70.5       11.0  4.5   \n",
       "1007       10832   196835         0  0.970133     9.0   647.5      647.5  8.5   \n",
       "1008       10832   187094         1  0.942159    16.0  2199.5     1552.0  3.5   \n",
       "\n",
       "        NFE  \n",
       "0      62.0  \n",
       "1      26.0  \n",
       "2      26.0  \n",
       "3      38.0  \n",
       "4      32.0  \n",
       "...     ...  \n",
       "1004   50.0  \n",
       "1005   32.0  \n",
       "1006   20.0  \n",
       "1007   74.0  \n",
       "1008  104.0  \n",
       "\n",
       "[1009 rows x 9 columns]"
      ]
     },
     "execution_count": 19,
     "metadata": {},
     "output_type": "execute_result"
    }
   ],
   "source": [
    "icenode_auc_df"
   ]
  },
  {
   "cell_type": "code",
   "execution_count": 16,
   "id": "6af0f00e",
   "metadata": {},
   "outputs": [],
   "source": [
    "# retain_auc_df = retain.admissions_auc_scores(retain_params, test_ids)"
   ]
  },
  {
   "cell_type": "code",
   "execution_count": 17,
   "id": "7b63c889",
   "metadata": {},
   "outputs": [],
   "source": [
    "# gru_auc_df = gru.admissions_auc_scores(gru_params, test_ids)"
   ]
  },
  {
   "cell_type": "code",
   "execution_count": 18,
   "id": "5caef236",
   "metadata": {},
   "outputs": [],
   "source": [
    "# gram_auc_df = gram.admissions_auc_scores(gram_params, test_ids)"
   ]
  },
  {
   "cell_type": "code",
   "execution_count": 29,
   "id": "e71cf6ac",
   "metadata": {},
   "outputs": [
    {
     "data": {
      "text/plain": [
       "Index(['SUBJECT_ID', 'HADM_ID', 'HADM_IDX', 'AUC', 'N_CODES'], dtype='object')"
      ]
     },
     "execution_count": 29,
     "metadata": {},
     "output_type": "execute_result"
    }
   ],
   "source": [
    "# gram_auc_df.columns"
   ]
  },
  {
   "cell_type": "code",
   "execution_count": 21,
   "id": "49bb7c85",
   "metadata": {},
   "outputs": [
    {
     "ename": "ValueError",
     "evalue": "Length mismatch: Expected axis has 6 elements, new values have 8 elements",
     "output_type": "error",
     "traceback": [
      "\u001b[0;31m---------------------------------------------------------------------------\u001b[0m",
      "\u001b[0;31mValueError\u001b[0m                                Traceback (most recent call last)",
      "\u001b[0;32m/tmp/ipykernel_41952/1553900659.py\u001b[0m in \u001b[0;36m<module>\u001b[0;34m\u001b[0m\n\u001b[0;32m----> 1\u001b[0;31m \u001b[0micenode_auc_df\u001b[0m\u001b[0;34m.\u001b[0m\u001b[0mcolumns\u001b[0m \u001b[0;34m=\u001b[0m \u001b[0;34m[\u001b[0m\u001b[0;34m'SUBJECT_ID'\u001b[0m\u001b[0;34m,\u001b[0m \u001b[0;34m'HADM_ID'\u001b[0m\u001b[0;34m,\u001b[0m \u001b[0;34m'HADM_IDX'\u001b[0m\u001b[0;34m,\u001b[0m \u001b[0;34m'ICENODE_AUC'\u001b[0m\u001b[0;34m,\u001b[0m \u001b[0;34m'N_CODES'\u001b[0m\u001b[0;34m,\u001b[0m \u001b[0;34m'DAYS_AHEAD'\u001b[0m\u001b[0;34m,\u001b[0m \u001b[0;34m'INTERVAL'\u001b[0m\u001b[0;34m,\u001b[0m \u001b[0;34m'ICENODE_NFE'\u001b[0m\u001b[0;34m]\u001b[0m\u001b[0;34m\u001b[0m\u001b[0;34m\u001b[0m\u001b[0m\n\u001b[0m\u001b[1;32m      2\u001b[0m \u001b[0;34m\u001b[0m\u001b[0m\n\u001b[1;32m      3\u001b[0m \u001b[0;31m# retain_auc_df.columns = ['SUBJECT_ID', 'HADM_ID', 'HADM_IDX', 'RETAIN_AUC', 'N_CODES']\u001b[0m\u001b[0;34m\u001b[0m\u001b[0;34m\u001b[0m\u001b[0;34m\u001b[0m\u001b[0m\n\u001b[1;32m      4\u001b[0m \u001b[0;34m\u001b[0m\u001b[0m\n\u001b[1;32m      5\u001b[0m \u001b[0;31m# gru_auc_df.columns = ['SUBJECT_ID', 'HADM_ID', 'HADM_IDX', 'GRU_AUC', 'N_CODES']\u001b[0m\u001b[0;34m\u001b[0m\u001b[0;34m\u001b[0m\u001b[0;34m\u001b[0m\u001b[0m\n",
      "\u001b[0;32m~/.conda/envs/icenode/lib/python3.8/site-packages/pandas/core/generic.py\u001b[0m in \u001b[0;36m__setattr__\u001b[0;34m(self, name, value)\u001b[0m\n\u001b[1;32m   5498\u001b[0m         \u001b[0;32mtry\u001b[0m\u001b[0;34m:\u001b[0m\u001b[0;34m\u001b[0m\u001b[0;34m\u001b[0m\u001b[0m\n\u001b[1;32m   5499\u001b[0m             \u001b[0mobject\u001b[0m\u001b[0;34m.\u001b[0m\u001b[0m__getattribute__\u001b[0m\u001b[0;34m(\u001b[0m\u001b[0mself\u001b[0m\u001b[0;34m,\u001b[0m \u001b[0mname\u001b[0m\u001b[0;34m)\u001b[0m\u001b[0;34m\u001b[0m\u001b[0;34m\u001b[0m\u001b[0m\n\u001b[0;32m-> 5500\u001b[0;31m             \u001b[0;32mreturn\u001b[0m \u001b[0mobject\u001b[0m\u001b[0;34m.\u001b[0m\u001b[0m__setattr__\u001b[0m\u001b[0;34m(\u001b[0m\u001b[0mself\u001b[0m\u001b[0;34m,\u001b[0m \u001b[0mname\u001b[0m\u001b[0;34m,\u001b[0m \u001b[0mvalue\u001b[0m\u001b[0;34m)\u001b[0m\u001b[0;34m\u001b[0m\u001b[0;34m\u001b[0m\u001b[0m\n\u001b[0m\u001b[1;32m   5501\u001b[0m         \u001b[0;32mexcept\u001b[0m \u001b[0mAttributeError\u001b[0m\u001b[0;34m:\u001b[0m\u001b[0;34m\u001b[0m\u001b[0;34m\u001b[0m\u001b[0m\n\u001b[1;32m   5502\u001b[0m             \u001b[0;32mpass\u001b[0m\u001b[0;34m\u001b[0m\u001b[0;34m\u001b[0m\u001b[0m\n",
      "\u001b[0;32m~/.conda/envs/icenode/lib/python3.8/site-packages/pandas/_libs/properties.pyx\u001b[0m in \u001b[0;36mpandas._libs.properties.AxisProperty.__set__\u001b[0;34m()\u001b[0m\n",
      "\u001b[0;32m~/.conda/envs/icenode/lib/python3.8/site-packages/pandas/core/generic.py\u001b[0m in \u001b[0;36m_set_axis\u001b[0;34m(self, axis, labels)\u001b[0m\n\u001b[1;32m    764\u001b[0m     \u001b[0;32mdef\u001b[0m \u001b[0m_set_axis\u001b[0m\u001b[0;34m(\u001b[0m\u001b[0mself\u001b[0m\u001b[0;34m,\u001b[0m \u001b[0maxis\u001b[0m\u001b[0;34m:\u001b[0m \u001b[0mint\u001b[0m\u001b[0;34m,\u001b[0m \u001b[0mlabels\u001b[0m\u001b[0;34m:\u001b[0m \u001b[0mIndex\u001b[0m\u001b[0;34m)\u001b[0m \u001b[0;34m->\u001b[0m \u001b[0;32mNone\u001b[0m\u001b[0;34m:\u001b[0m\u001b[0;34m\u001b[0m\u001b[0;34m\u001b[0m\u001b[0m\n\u001b[1;32m    765\u001b[0m         \u001b[0mlabels\u001b[0m \u001b[0;34m=\u001b[0m \u001b[0mensure_index\u001b[0m\u001b[0;34m(\u001b[0m\u001b[0mlabels\u001b[0m\u001b[0;34m)\u001b[0m\u001b[0;34m\u001b[0m\u001b[0;34m\u001b[0m\u001b[0m\n\u001b[0;32m--> 766\u001b[0;31m         \u001b[0mself\u001b[0m\u001b[0;34m.\u001b[0m\u001b[0m_mgr\u001b[0m\u001b[0;34m.\u001b[0m\u001b[0mset_axis\u001b[0m\u001b[0;34m(\u001b[0m\u001b[0maxis\u001b[0m\u001b[0;34m,\u001b[0m \u001b[0mlabels\u001b[0m\u001b[0;34m)\u001b[0m\u001b[0;34m\u001b[0m\u001b[0;34m\u001b[0m\u001b[0m\n\u001b[0m\u001b[1;32m    767\u001b[0m         \u001b[0mself\u001b[0m\u001b[0;34m.\u001b[0m\u001b[0m_clear_item_cache\u001b[0m\u001b[0;34m(\u001b[0m\u001b[0;34m)\u001b[0m\u001b[0;34m\u001b[0m\u001b[0;34m\u001b[0m\u001b[0m\n\u001b[1;32m    768\u001b[0m \u001b[0;34m\u001b[0m\u001b[0m\n",
      "\u001b[0;32m~/.conda/envs/icenode/lib/python3.8/site-packages/pandas/core/internals/managers.py\u001b[0m in \u001b[0;36mset_axis\u001b[0;34m(self, axis, new_labels)\u001b[0m\n\u001b[1;32m    214\u001b[0m     \u001b[0;32mdef\u001b[0m \u001b[0mset_axis\u001b[0m\u001b[0;34m(\u001b[0m\u001b[0mself\u001b[0m\u001b[0;34m,\u001b[0m \u001b[0maxis\u001b[0m\u001b[0;34m:\u001b[0m \u001b[0mint\u001b[0m\u001b[0;34m,\u001b[0m \u001b[0mnew_labels\u001b[0m\u001b[0;34m:\u001b[0m \u001b[0mIndex\u001b[0m\u001b[0;34m)\u001b[0m \u001b[0;34m->\u001b[0m \u001b[0;32mNone\u001b[0m\u001b[0;34m:\u001b[0m\u001b[0;34m\u001b[0m\u001b[0;34m\u001b[0m\u001b[0m\n\u001b[1;32m    215\u001b[0m         \u001b[0;31m# Caller is responsible for ensuring we have an Index object.\u001b[0m\u001b[0;34m\u001b[0m\u001b[0;34m\u001b[0m\u001b[0;34m\u001b[0m\u001b[0m\n\u001b[0;32m--> 216\u001b[0;31m         \u001b[0mself\u001b[0m\u001b[0;34m.\u001b[0m\u001b[0m_validate_set_axis\u001b[0m\u001b[0;34m(\u001b[0m\u001b[0maxis\u001b[0m\u001b[0;34m,\u001b[0m \u001b[0mnew_labels\u001b[0m\u001b[0;34m)\u001b[0m\u001b[0;34m\u001b[0m\u001b[0;34m\u001b[0m\u001b[0m\n\u001b[0m\u001b[1;32m    217\u001b[0m         \u001b[0mself\u001b[0m\u001b[0;34m.\u001b[0m\u001b[0maxes\u001b[0m\u001b[0;34m[\u001b[0m\u001b[0maxis\u001b[0m\u001b[0;34m]\u001b[0m \u001b[0;34m=\u001b[0m \u001b[0mnew_labels\u001b[0m\u001b[0;34m\u001b[0m\u001b[0;34m\u001b[0m\u001b[0m\n\u001b[1;32m    218\u001b[0m \u001b[0;34m\u001b[0m\u001b[0m\n",
      "\u001b[0;32m~/.conda/envs/icenode/lib/python3.8/site-packages/pandas/core/internals/base.py\u001b[0m in \u001b[0;36m_validate_set_axis\u001b[0;34m(self, axis, new_labels)\u001b[0m\n\u001b[1;32m     55\u001b[0m \u001b[0;34m\u001b[0m\u001b[0m\n\u001b[1;32m     56\u001b[0m         \u001b[0;32melif\u001b[0m \u001b[0mnew_len\u001b[0m \u001b[0;34m!=\u001b[0m \u001b[0mold_len\u001b[0m\u001b[0;34m:\u001b[0m\u001b[0;34m\u001b[0m\u001b[0;34m\u001b[0m\u001b[0m\n\u001b[0;32m---> 57\u001b[0;31m             raise ValueError(\n\u001b[0m\u001b[1;32m     58\u001b[0m                 \u001b[0;34mf\"Length mismatch: Expected axis has {old_len} elements, new \"\u001b[0m\u001b[0;34m\u001b[0m\u001b[0;34m\u001b[0m\u001b[0m\n\u001b[1;32m     59\u001b[0m                 \u001b[0;34mf\"values have {new_len} elements\"\u001b[0m\u001b[0;34m\u001b[0m\u001b[0;34m\u001b[0m\u001b[0m\n",
      "\u001b[0;31mValueError\u001b[0m: Length mismatch: Expected axis has 6 elements, new values have 8 elements"
     ]
    }
   ],
   "source": [
    "icenode_auc_df.columns = ['SUBJECT_ID', 'HADM_ID', 'HADM_IDX', 'ICENODE_AUC', 'N_CODES', 'DAYS_AHEAD', 'INTERVAL', 'ICENODE_NFE']\n",
    "\n",
    "# retain_auc_df.columns = ['SUBJECT_ID', 'HADM_ID', 'HADM_IDX', 'RETAIN_AUC', 'N_CODES']\n",
    "\n",
    "# gru_auc_df.columns = ['SUBJECT_ID', 'HADM_ID', 'HADM_IDX', 'GRU_AUC', 'N_CODES']\n",
    "\n",
    "# gram_auc_df.columns = ['SUBJECT_ID', 'HADM_ID', 'HADM_IDX', 'GRAM_AUC', 'N_CODES']\n"
   ]
  },
  {
   "cell_type": "code",
   "execution_count": null,
   "id": "62e25b45",
   "metadata": {},
   "outputs": [],
   "source": [
    "icenode_auc_df.HADM_ID.nunique()"
   ]
  },
  {
   "cell_type": "code",
   "execution_count": 33,
   "id": "429e097f",
   "metadata": {},
   "outputs": [
    {
     "data": {
      "text/html": [
       "<div>\n",
       "<style scoped>\n",
       "    .dataframe tbody tr th:only-of-type {\n",
       "        vertical-align: middle;\n",
       "    }\n",
       "\n",
       "    .dataframe tbody tr th {\n",
       "        vertical-align: top;\n",
       "    }\n",
       "\n",
       "    .dataframe thead th {\n",
       "        text-align: right;\n",
       "    }\n",
       "</style>\n",
       "<table border=\"1\" class=\"dataframe\">\n",
       "  <thead>\n",
       "    <tr style=\"text-align: right;\">\n",
       "      <th></th>\n",
       "      <th>SUBJECT_ID</th>\n",
       "      <th>HADM_ID</th>\n",
       "      <th>HADM_IDX</th>\n",
       "      <th>ICENODE_AUC</th>\n",
       "      <th>N_CODES</th>\n",
       "      <th>DAYS_AHEAD</th>\n",
       "      <th>INTERVAL</th>\n",
       "      <th>ICENODE_NFE</th>\n",
       "    </tr>\n",
       "  </thead>\n",
       "  <tbody>\n",
       "    <tr>\n",
       "      <th>0</th>\n",
       "      <td>24198</td>\n",
       "      <td>135189</td>\n",
       "      <td>1</td>\n",
       "      <td>0.976323</td>\n",
       "      <td>9.0</td>\n",
       "      <td>1</td>\n",
       "      <td>1</td>\n",
       "      <td>8.0</td>\n",
       "    </tr>\n",
       "    <tr>\n",
       "      <th>1</th>\n",
       "      <td>24198</td>\n",
       "      <td>135189</td>\n",
       "      <td>2</td>\n",
       "      <td>0.976787</td>\n",
       "      <td>9.0</td>\n",
       "      <td>2</td>\n",
       "      <td>1</td>\n",
       "      <td>8.0</td>\n",
       "    </tr>\n",
       "    <tr>\n",
       "      <th>2</th>\n",
       "      <td>24198</td>\n",
       "      <td>135189</td>\n",
       "      <td>3</td>\n",
       "      <td>0.977097</td>\n",
       "      <td>9.0</td>\n",
       "      <td>3</td>\n",
       "      <td>1</td>\n",
       "      <td>8.0</td>\n",
       "    </tr>\n",
       "    <tr>\n",
       "      <th>3</th>\n",
       "      <td>24198</td>\n",
       "      <td>135189</td>\n",
       "      <td>4</td>\n",
       "      <td>0.976787</td>\n",
       "      <td>9.0</td>\n",
       "      <td>4</td>\n",
       "      <td>1</td>\n",
       "      <td>8.0</td>\n",
       "    </tr>\n",
       "    <tr>\n",
       "      <th>4</th>\n",
       "      <td>24198</td>\n",
       "      <td>135189</td>\n",
       "      <td>5</td>\n",
       "      <td>0.976942</td>\n",
       "      <td>9.0</td>\n",
       "      <td>5</td>\n",
       "      <td>1</td>\n",
       "      <td>8.0</td>\n",
       "    </tr>\n",
       "    <tr>\n",
       "      <th>...</th>\n",
       "      <td>...</td>\n",
       "      <td>...</td>\n",
       "      <td>...</td>\n",
       "      <td>...</td>\n",
       "      <td>...</td>\n",
       "      <td>...</td>\n",
       "      <td>...</td>\n",
       "      <td>...</td>\n",
       "    </tr>\n",
       "    <tr>\n",
       "      <th>9346</th>\n",
       "      <td>11234</td>\n",
       "      <td>150220</td>\n",
       "      <td>2</td>\n",
       "      <td>0.964360</td>\n",
       "      <td>8.0</td>\n",
       "      <td>1267</td>\n",
       "      <td>1266</td>\n",
       "      <td>98.0</td>\n",
       "    </tr>\n",
       "    <tr>\n",
       "      <th>9347</th>\n",
       "      <td>11234</td>\n",
       "      <td>150220</td>\n",
       "      <td>3</td>\n",
       "      <td>0.996697</td>\n",
       "      <td>8.0</td>\n",
       "      <td>1268</td>\n",
       "      <td>1</td>\n",
       "      <td>8.0</td>\n",
       "    </tr>\n",
       "    <tr>\n",
       "      <th>9348</th>\n",
       "      <td>11234</td>\n",
       "      <td>150220</td>\n",
       "      <td>4</td>\n",
       "      <td>0.998261</td>\n",
       "      <td>8.0</td>\n",
       "      <td>1269</td>\n",
       "      <td>1</td>\n",
       "      <td>8.0</td>\n",
       "    </tr>\n",
       "    <tr>\n",
       "      <th>9349</th>\n",
       "      <td>11234</td>\n",
       "      <td>150220</td>\n",
       "      <td>5</td>\n",
       "      <td>0.998435</td>\n",
       "      <td>8.0</td>\n",
       "      <td>1270</td>\n",
       "      <td>1</td>\n",
       "      <td>8.0</td>\n",
       "    </tr>\n",
       "    <tr>\n",
       "      <th>9350</th>\n",
       "      <td>11234</td>\n",
       "      <td>150220</td>\n",
       "      <td>6</td>\n",
       "      <td>0.998609</td>\n",
       "      <td>8.0</td>\n",
       "      <td>1271</td>\n",
       "      <td>1</td>\n",
       "      <td>8.0</td>\n",
       "    </tr>\n",
       "  </tbody>\n",
       "</table>\n",
       "<p>9351 rows × 8 columns</p>\n",
       "</div>"
      ],
      "text/plain": [
       "      SUBJECT_ID  HADM_ID  HADM_IDX  ICENODE_AUC N_CODES  DAYS_AHEAD  \\\n",
       "0          24198   135189         1     0.976323     9.0           1   \n",
       "1          24198   135189         2     0.976787     9.0           2   \n",
       "2          24198   135189         3     0.977097     9.0           3   \n",
       "3          24198   135189         4     0.976787     9.0           4   \n",
       "4          24198   135189         5     0.976942     9.0           5   \n",
       "...          ...      ...       ...          ...     ...         ...   \n",
       "9346       11234   150220         2     0.964360     8.0        1267   \n",
       "9347       11234   150220         3     0.996697     8.0        1268   \n",
       "9348       11234   150220         4     0.998261     8.0        1269   \n",
       "9349       11234   150220         5     0.998435     8.0        1270   \n",
       "9350       11234   150220         6     0.998609     8.0        1271   \n",
       "\n",
       "      INTERVAL ICENODE_NFE  \n",
       "0            1         8.0  \n",
       "1            1         8.0  \n",
       "2            1         8.0  \n",
       "3            1         8.0  \n",
       "4            1         8.0  \n",
       "...        ...         ...  \n",
       "9346      1266        98.0  \n",
       "9347         1         8.0  \n",
       "9348         1         8.0  \n",
       "9349         1         8.0  \n",
       "9350         1         8.0  \n",
       "\n",
       "[9351 rows x 8 columns]"
      ]
     },
     "execution_count": 33,
     "metadata": {},
     "output_type": "execute_result"
    }
   ],
   "source": [
    "icenode_auc_df"
   ]
  },
  {
   "cell_type": "code",
   "execution_count": 35,
   "id": "e9249620",
   "metadata": {},
   "outputs": [],
   "source": [
    "icenode_auc_df2 = icenode_auc_df.drop_duplicates(['SUBJECT_ID', 'HADM_ID'])"
   ]
  },
  {
   "cell_type": "code",
   "execution_count": 37,
   "id": "cab5dc0b",
   "metadata": {},
   "outputs": [
    {
     "data": {
      "text/plain": [
       "0.9572364170139803"
      ]
     },
     "execution_count": 37,
     "metadata": {},
     "output_type": "execute_result"
    }
   ],
   "source": [
    "icenode_auc_df2.ICENODE_AUC.mean()"
   ]
  },
  {
   "cell_type": "code",
   "execution_count": 38,
   "id": "94c8f4bc",
   "metadata": {},
   "outputs": [
    {
     "data": {
      "text/html": [
       "<div>\n",
       "<style scoped>\n",
       "    .dataframe tbody tr th:only-of-type {\n",
       "        vertical-align: middle;\n",
       "    }\n",
       "\n",
       "    .dataframe tbody tr th {\n",
       "        vertical-align: top;\n",
       "    }\n",
       "\n",
       "    .dataframe thead th {\n",
       "        text-align: right;\n",
       "    }\n",
       "</style>\n",
       "<table border=\"1\" class=\"dataframe\">\n",
       "  <thead>\n",
       "    <tr style=\"text-align: right;\">\n",
       "      <th></th>\n",
       "      <th>SUBJECT_ID</th>\n",
       "      <th>HADM_ID</th>\n",
       "      <th>HADM_IDX</th>\n",
       "      <th>ICENODE_AUC</th>\n",
       "      <th>N_CODES</th>\n",
       "      <th>DAYS_AHEAD</th>\n",
       "      <th>INTERVAL</th>\n",
       "      <th>ICENODE_NFE</th>\n",
       "    </tr>\n",
       "  </thead>\n",
       "  <tbody>\n",
       "    <tr>\n",
       "      <th>0</th>\n",
       "      <td>24198</td>\n",
       "      <td>135189</td>\n",
       "      <td>1</td>\n",
       "      <td>0.976323</td>\n",
       "      <td>9.0</td>\n",
       "      <td>1</td>\n",
       "      <td>1</td>\n",
       "      <td>8.0</td>\n",
       "    </tr>\n",
       "    <tr>\n",
       "      <th>13</th>\n",
       "      <td>24198</td>\n",
       "      <td>157166</td>\n",
       "      <td>14</td>\n",
       "      <td>0.971526</td>\n",
       "      <td>9.0</td>\n",
       "      <td>217</td>\n",
       "      <td>204</td>\n",
       "      <td>32.0</td>\n",
       "    </tr>\n",
       "    <tr>\n",
       "      <th>20</th>\n",
       "      <td>24198</td>\n",
       "      <td>116391</td>\n",
       "      <td>21</td>\n",
       "      <td>0.978373</td>\n",
       "      <td>7.0</td>\n",
       "      <td>336</td>\n",
       "      <td>113</td>\n",
       "      <td>26.0</td>\n",
       "    </tr>\n",
       "    <tr>\n",
       "      <th>25</th>\n",
       "      <td>97441</td>\n",
       "      <td>138440</td>\n",
       "      <td>1</td>\n",
       "      <td>0.977877</td>\n",
       "      <td>21.0</td>\n",
       "      <td>1</td>\n",
       "      <td>1</td>\n",
       "      <td>8.0</td>\n",
       "    </tr>\n",
       "    <tr>\n",
       "      <th>32</th>\n",
       "      <td>97441</td>\n",
       "      <td>194679</td>\n",
       "      <td>8</td>\n",
       "      <td>0.943302</td>\n",
       "      <td>16.0</td>\n",
       "      <td>39</td>\n",
       "      <td>32</td>\n",
       "      <td>20.0</td>\n",
       "    </tr>\n",
       "    <tr>\n",
       "      <th>...</th>\n",
       "      <td>...</td>\n",
       "      <td>...</td>\n",
       "      <td>...</td>\n",
       "      <td>...</td>\n",
       "      <td>...</td>\n",
       "      <td>...</td>\n",
       "      <td>...</td>\n",
       "      <td>...</td>\n",
       "    </tr>\n",
       "    <tr>\n",
       "      <th>9326</th>\n",
       "      <td>59496</td>\n",
       "      <td>158272</td>\n",
       "      <td>10</td>\n",
       "      <td>0.964569</td>\n",
       "      <td>12.0</td>\n",
       "      <td>20</td>\n",
       "      <td>11</td>\n",
       "      <td>14.0</td>\n",
       "    </tr>\n",
       "    <tr>\n",
       "      <th>9333</th>\n",
       "      <td>1949</td>\n",
       "      <td>122008</td>\n",
       "      <td>1</td>\n",
       "      <td>0.976765</td>\n",
       "      <td>11.0</td>\n",
       "      <td>1</td>\n",
       "      <td>1</td>\n",
       "      <td>8.0</td>\n",
       "    </tr>\n",
       "    <tr>\n",
       "      <th>9337</th>\n",
       "      <td>1949</td>\n",
       "      <td>196537</td>\n",
       "      <td>5</td>\n",
       "      <td>0.863499</td>\n",
       "      <td>13.0</td>\n",
       "      <td>10</td>\n",
       "      <td>6</td>\n",
       "      <td>14.0</td>\n",
       "    </tr>\n",
       "    <tr>\n",
       "      <th>9345</th>\n",
       "      <td>11234</td>\n",
       "      <td>133876</td>\n",
       "      <td>1</td>\n",
       "      <td>0.997925</td>\n",
       "      <td>4.0</td>\n",
       "      <td>1</td>\n",
       "      <td>1</td>\n",
       "      <td>8.0</td>\n",
       "    </tr>\n",
       "    <tr>\n",
       "      <th>9346</th>\n",
       "      <td>11234</td>\n",
       "      <td>150220</td>\n",
       "      <td>2</td>\n",
       "      <td>0.964360</td>\n",
       "      <td>8.0</td>\n",
       "      <td>1267</td>\n",
       "      <td>1266</td>\n",
       "      <td>98.0</td>\n",
       "    </tr>\n",
       "  </tbody>\n",
       "</table>\n",
       "<p>1605 rows × 8 columns</p>\n",
       "</div>"
      ],
      "text/plain": [
       "      SUBJECT_ID  HADM_ID  HADM_IDX  ICENODE_AUC N_CODES  DAYS_AHEAD  \\\n",
       "0          24198   135189         1     0.976323     9.0           1   \n",
       "13         24198   157166        14     0.971526     9.0         217   \n",
       "20         24198   116391        21     0.978373     7.0         336   \n",
       "25         97441   138440         1     0.977877    21.0           1   \n",
       "32         97441   194679         8     0.943302    16.0          39   \n",
       "...          ...      ...       ...          ...     ...         ...   \n",
       "9326       59496   158272        10     0.964569    12.0          20   \n",
       "9333        1949   122008         1     0.976765    11.0           1   \n",
       "9337        1949   196537         5     0.863499    13.0          10   \n",
       "9345       11234   133876         1     0.997925     4.0           1   \n",
       "9346       11234   150220         2     0.964360     8.0        1267   \n",
       "\n",
       "      INTERVAL ICENODE_NFE  \n",
       "0            1         8.0  \n",
       "13         204        32.0  \n",
       "20         113        26.0  \n",
       "25           1         8.0  \n",
       "32          32        20.0  \n",
       "...        ...         ...  \n",
       "9326        11        14.0  \n",
       "9333         1         8.0  \n",
       "9337         6        14.0  \n",
       "9345         1         8.0  \n",
       "9346      1266        98.0  \n",
       "\n",
       "[1605 rows x 8 columns]"
      ]
     },
     "execution_count": 38,
     "metadata": {},
     "output_type": "execute_result"
    }
   ],
   "source": [
    "icenode_auc_df2"
   ]
  },
  {
   "cell_type": "code",
   "execution_count": null,
   "id": "3c79e308",
   "metadata": {},
   "outputs": [],
   "source": []
  }
 ],
 "metadata": {
  "kernelspec": {
   "display_name": "Python 3 (ipykernel)",
   "language": "python",
   "name": "python3"
  },
  "language_info": {
   "codemirror_mode": {
    "name": "ipython",
    "version": 3
   },
   "file_extension": ".py",
   "mimetype": "text/x-python",
   "name": "python",
   "nbconvert_exporter": "python",
   "pygments_lexer": "ipython3",
   "version": "3.8.12"
  }
 },
 "nbformat": 4,
 "nbformat_minor": 5
}
