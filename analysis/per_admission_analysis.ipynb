{
 "cells": [
  {
   "cell_type": "code",
   "execution_count": 1,
   "id": "fea783ee",
   "metadata": {},
   "outputs": [],
   "source": [
    "import sys\n",
    "import os\n",
    "import pandas as pd"
   ]
  },
  {
   "cell_type": "code",
   "execution_count": 2,
   "id": "675d07c4",
   "metadata": {},
   "outputs": [
    {
     "name": "stdout",
     "output_type": "stream",
     "text": [
      "Cloning into 'ICENODE'...\n",
      "remote: Enumerating objects: 1957, done.\u001b[K\n",
      "remote: Counting objects: 100% (191/191), done.\u001b[K\n",
      "remote: Compressing objects: 100% (142/142), done.\u001b[K\n",
      "remote: Total 1957 (delta 90), reused 148 (delta 49), pack-reused 1766\u001b[K\n",
      "Receiving objects: 100% (1957/1957), 17.67 MiB | 1.94 MiB/s, done.\n",
      "Resolving deltas: 100% (1371/1371), done.\n",
      "Note: switching to '60390ba21b4574912be048c3e2c0a5f89dfa8e31'.\n",
      "\n",
      "You are in 'detached HEAD' state. You can look around, make experimental\n",
      "changes and commit them, and you can discard any commits you make in this\n",
      "state without impacting any branches by switching back to a branch.\n",
      "\n",
      "If you want to create a new branch to retain commits you create, you may\n",
      "do so (now or later) by using -c with the switch command. Example:\n",
      "\n",
      "  git switch -c <new-branch-name>\n",
      "\n",
      "Or undo this operation with:\n",
      "\n",
      "  git switch -\n",
      "\n",
      "Turn off this advice by setting config variable advice.detachedHead to false\n",
      "\n"
     ]
    }
   ],
   "source": [
    "!git clone git@github.com:A-Alaa/ICENODE.git --branch v0.2.03 --single-branch"
   ]
  },
  {
   "cell_type": "code",
   "execution_count": 3,
   "id": "a479337d",
   "metadata": {},
   "outputs": [],
   "source": [
    "sys.path.append('./ICENODE')"
   ]
  },
  {
   "cell_type": "code",
   "execution_count": 5,
   "id": "521f296b",
   "metadata": {},
   "outputs": [
    {
     "name": "stderr",
     "output_type": "stream",
     "text": [
      "/home/asem/.conda/envs/icenode/lib/python3.8/site-packages/jax/experimental/optimizers.py:28: FutureWarning: jax.experimental.optimizers is deprecated, import jax.example_libraries.optimizers instead\n",
      "  warnings.warn('jax.experimental.optimizers is deprecated, '\n"
     ]
    }
   ],
   "source": [
    "from icenode.train_icenode_struct import ICENODE\n",
    "from icenode.train_gram import GRAM\n",
    "from icenode.train_retain import RETAIN\n",
    "\n",
    "%load_ext autoreload\n",
    "%autoreload 2"
   ]
  },
  {
   "cell_type": "markdown",
   "id": "73a22f7b",
   "metadata": {},
   "source": [
    "## Define Directories"
   ]
  },
  {
   "cell_type": "code",
   "execution_count": 6,
   "id": "5d47bebe",
   "metadata": {},
   "outputs": [],
   "source": [
    "HOME = os.environ.get('HOME')\n",
    "\n",
    "# MIMIC-III Dataset Directory\n",
    "mimic3_dir = f'{HOME}/GP/ehr-data/mimic3-transforms'\n",
    "\n",
    "# ICE-NODE/M trained on MIMIC-III training partition (70%)\n",
    "icenode_m3_dir = f'{HOME}/GP/ehr-data/icenode-m3-exp/v0.2.03M3_icenode_struct_M/trial_393'\n",
    "\n",
    "# # RETAIN trained on MIMIC-III training partition (70%)\n",
    "# retain_m3_dir = f'{HOME}/GP/ehr-data/icenode-m3-exp/v0.1.23M3_retain_M/frozen_trial_142'\n",
    "\n",
    "# # GRU=GRAM/M trained on MIMIC-III training partition (70%)\n",
    "# gru_m3_dir = f'{HOME}/GP/ehr-data/icenode-m3-exp/v0.1.23M3_gram_M/frozen_trial_615'\n",
    "\n",
    "# # GRAM=GRAM/G trained on MIMIC-III training partition (70%)\n",
    "# gram_m3_dir = f'{HOME}/GP/ehr-data/icenode-m3-exp/v0.1.23M3_gram_G/frozen_trial_442'"
   ]
  },
  {
   "cell_type": "markdown",
   "id": "f6659901",
   "metadata": {},
   "source": [
    "## Patient Interface for each Model"
   ]
  },
  {
   "cell_type": "code",
   "execution_count": 9,
   "id": "8b4d2001",
   "metadata": {},
   "outputs": [],
   "source": [
    "icnode_patient_interface = ICENODE.create_patient_interface(mimic3_dir, 'M3')"
   ]
  },
  {
   "cell_type": "markdown",
   "id": "2f1f164a",
   "metadata": {},
   "source": [
    "## Dataset Partitioning"
   ]
  },
  {
   "cell_type": "code",
   "execution_count": 10,
   "id": "0ade91cd",
   "metadata": {},
   "outputs": [],
   "source": [
    "import random\n",
    "\n",
    "# seed 42 is used in all our experiments in this work.\n",
    "rng = random.Random(42)\n",
    "subjects_id = list(icnode_patient_interface.subjects.keys())\n",
    "rng.shuffle(subjects_id)\n",
    "\n",
    "# splits = train:val:test = 0.7:.15:.15\n",
    "splits = int(.7 * len(subjects_id)), int(.85 * len(subjects_id))\n",
    "\n",
    "train_ids = subjects_id[:splits[0]]\n",
    "valid_ids = subjects_id[splits[0]:splits[1]]\n",
    "test_ids = subjects_id[splits[1]:]"
   ]
  },
  {
   "cell_type": "markdown",
   "id": "2eaf5b99",
   "metadata": {},
   "source": [
    "## Load Configs and Trained Params"
   ]
  },
  {
   "cell_type": "code",
   "execution_count": 11,
   "id": "84e1fbd2",
   "metadata": {},
   "outputs": [],
   "source": [
    "from icenode.utils import load_config, load_params\n",
    "\n",
    "icenode_config = load_config(f'{icenode_m3_dir}/config.json')\n",
    "icenode_params = load_params(f'{icenode_m3_dir}/step0100_params.pickle')\n",
    "\n",
    "# retain_config = load_config(f'{retain_m3_dir}/config.json')\n",
    "# retain_params = load_params(f'{retain_m3_dir}/step0100_params.pickle')\n",
    "\n",
    "# gru_config = load_config(f'{gru_m3_dir}/config.json')\n",
    "# gru_params = load_params(f'{gru_m3_dir}/step0100_params.pickle')\n",
    "\n",
    "# gram_config = load_config(f'{gram_m3_dir}/config.json')\n",
    "# gram_params = load_params(f'{gram_m3_dir}/step0100_params.pickle')"
   ]
  },
  {
   "cell_type": "markdown",
   "id": "c4faf1a5",
   "metadata": {},
   "source": [
    "## Create Model Objects"
   ]
  },
  {
   "cell_type": "code",
   "execution_count": 12,
   "id": "7e763cbe",
   "metadata": {},
   "outputs": [
    {
     "data": {
      "text/plain": [
       "{'emb': {'diag': {'embeddings_dim': 120}, 'kind': 'matrix'},\n",
       " 'model': {'loss_half_life': 85,\n",
       "  'ode_dyn': 'gru',\n",
       "  'ode_init_var': 0.0010657640560088758,\n",
       "  'ode_timescale': 54.9987172768043,\n",
       "  'ode_with_bias': False,\n",
       "  'state_size': 20,\n",
       "  'tay_reg': 0},\n",
       " 'training': {'batch_size': 17,\n",
       "  'epochs': 20,\n",
       "  'loss_mixing': {'L_dyn': 0, 'L_l1': 0, 'L_l2': 0, 'L_pred': 1},\n",
       "  'lr': 0.0005447439175383232,\n",
       "  'optimizer': 'adam'}}"
      ]
     },
     "execution_count": 12,
     "metadata": {},
     "output_type": "execute_result"
    }
   ],
   "source": [
    "icenode_config"
   ]
  },
  {
   "cell_type": "code",
   "execution_count": 14,
   "id": "071b00c5",
   "metadata": {},
   "outputs": [],
   "source": [
    "icenode = ICENODE.create_model(icenode_config, icnode_patient_interface, train_ids, None)\n",
    "# retain = RETAIN.create_model(retain_config, retain_patient_interface, train_ids, None)\n",
    "# gru = GRAM.create_model(gru_config, gram_patient_interface, train_ids, None)\n",
    "# gram = GRAM.create_model(gram_config, gram_patient_interface, train_ids, None)"
   ]
  },
  {
   "cell_type": "code",
   "execution_count": 15,
   "id": "01484032",
   "metadata": {},
   "outputs": [],
   "source": [
    "code_partitions = ICENODE.code_partitions(icnode_patient_interface, train_ids) "
   ]
  },
  {
   "cell_type": "code",
   "execution_count": 16,
   "id": "660cf369",
   "metadata": {},
   "outputs": [],
   "source": [
    "from icenode.metrics import evaluation_table\n",
    "res = icenode.eval(icenode_config['training']['loss_mixing'], icenode_params, test_ids)"
   ]
  },
  {
   "cell_type": "code",
   "execution_count": 17,
   "id": "17bd7f48",
   "metadata": {},
   "outputs": [
    {
     "name": "stderr",
     "output_type": "stream",
     "text": [
      "/home/asem/.conda/envs/icenode/lib/python3.8/site-packages/jax/_src/numpy/lax_numpy.py:5338: UserWarning: 'kind' argument to argsort is ignored; only 'stable' sorts are supported.\n",
      "  warnings.warn(\"'kind' argument to argsort is ignored; only 'stable' sorts \"\n"
     ]
    }
   ],
   "source": [
    "eval_df = evaluation_table({'TST': res}, code_partitions)"
   ]
  },
  {
   "cell_type": "code",
   "execution_count": 18,
   "id": "aaae2261",
   "metadata": {},
   "outputs": [
    {
     "data": {
      "text/plain": [
       "(                           TST\n",
       " MACRO-AUC             0.941861\n",
       " MICRO-AUC             0.944052\n",
       " accuracy              0.821363\n",
       " admissions_count   1009.000000\n",
       " dyn_loss              0.000000\n",
       " dyn_loss_per_week     0.000000\n",
       " f1-score              0.142657\n",
       " fn                    0.001600\n",
       " fp                    0.177037\n",
       " l1_loss               0.000000\n",
       " l2_loss               0.000000\n",
       " loss                  0.090853\n",
       " nfe_per_week          1.899258\n",
       " nfex1000            119.564003\n",
       " npv                   0.998020\n",
       " pre_ACC-P0            0.156659\n",
       " pre_ACC-P1            0.364396\n",
       " pre_ACC-P2            0.434837\n",
       " pre_ACC-P3            0.703125\n",
       " pre_ACC-P4            0.924873\n",
       " precision             0.077448\n",
       " prediction_loss       0.090853\n",
       " recall                0.902782\n",
       " specificity           0.820000\n",
       " tn                    0.806501\n",
       " tp                    0.014862,\n",
       " {'TST_prediction_loss': 0.09085261821746826,\n",
       "  'TST_loss': 0.09085261821746826,\n",
       "  'TST_l1_loss': 0.0,\n",
       "  'TST_l2_loss': 0.0,\n",
       "  'TST_dyn_loss': 0.0,\n",
       "  'TST_dyn_loss_per_week': 0.0,\n",
       "  'TST_admissions_count': 1009.0,\n",
       "  'TST_nfe_per_week': 1.8992582559585571,\n",
       "  'TST_nfex1000': 119.56400299072266,\n",
       "  'TST_accuracy': 0.8213629126548767,\n",
       "  'TST_recall': 0.9027823805809021,\n",
       "  'TST_npv': 0.9980195164680481,\n",
       "  'TST_specificity': 0.820000171661377,\n",
       "  'TST_precision': 0.07744767516851425,\n",
       "  'TST_f1-score': 0.14265713095664978,\n",
       "  'TST_tp': 0.014862114563584328,\n",
       "  'TST_tn': 0.8065007925033569,\n",
       "  'TST_fp': 0.17703665792942047,\n",
       "  'TST_fn': 0.001600451534613967,\n",
       "  'TST_MACRO-AUC': 0.9418614955640007,\n",
       "  'TST_MICRO-AUC': 0.9440519356674606,\n",
       "  'TST_pre_ACC-P0': 0.15665914221218963,\n",
       "  'TST_pre_ACC-P1': 0.36439615545340576,\n",
       "  'TST_pre_ACC-P2': 0.43483657426561856,\n",
       "  'TST_pre_ACC-P3': 0.703125,\n",
       "  'TST_pre_ACC-P4': 0.9248726655348047})"
      ]
     },
     "execution_count": 18,
     "metadata": {},
     "output_type": "execute_result"
    }
   ],
   "source": [
    "eval_df"
   ]
  },
  {
   "cell_type": "markdown",
   "id": "47ca87e2",
   "metadata": {},
   "source": [
    "## Analyse AUC for Each Admission in the Test Partition"
   ]
  },
  {
   "cell_type": "code",
   "execution_count": 20,
   "id": "4c4a01eb",
   "metadata": {},
   "outputs": [],
   "source": [
    "icenode_auc_df = icenode.admissions_auc_scores(icenode_params, test_ids)"
   ]
  },
  {
   "cell_type": "code",
   "execution_count": 22,
   "id": "b0b265c9",
   "metadata": {},
   "outputs": [
    {
     "data": {
      "text/html": [
       "<div>\n",
       "<style scoped>\n",
       "    .dataframe tbody tr th:only-of-type {\n",
       "        vertical-align: middle;\n",
       "    }\n",
       "\n",
       "    .dataframe tbody tr th {\n",
       "        vertical-align: top;\n",
       "    }\n",
       "\n",
       "    .dataframe thead th {\n",
       "        text-align: right;\n",
       "    }\n",
       "</style>\n",
       "<table border=\"1\" class=\"dataframe\">\n",
       "  <thead>\n",
       "    <tr style=\"text-align: right;\">\n",
       "      <th></th>\n",
       "      <th>SUBJECT_ID</th>\n",
       "      <th>HADM_ID</th>\n",
       "      <th>HADM_IDX</th>\n",
       "      <th>AUC</th>\n",
       "      <th>N_CODES</th>\n",
       "      <th>NFE</th>\n",
       "    </tr>\n",
       "  </thead>\n",
       "  <tbody>\n",
       "    <tr>\n",
       "      <th>0</th>\n",
       "      <td>19842</td>\n",
       "      <td>169734</td>\n",
       "      <td>1</td>\n",
       "      <td>0.965336</td>\n",
       "      <td>9.0</td>\n",
       "      <td>158.0</td>\n",
       "    </tr>\n",
       "    <tr>\n",
       "      <th>1</th>\n",
       "      <td>19842</td>\n",
       "      <td>186772</td>\n",
       "      <td>2</td>\n",
       "      <td>0.950686</td>\n",
       "      <td>16.0</td>\n",
       "      <td>26.0</td>\n",
       "    </tr>\n",
       "    <tr>\n",
       "      <th>2</th>\n",
       "      <td>19842</td>\n",
       "      <td>180229</td>\n",
       "      <td>3</td>\n",
       "      <td>0.977252</td>\n",
       "      <td>9.0</td>\n",
       "      <td>26.0</td>\n",
       "    </tr>\n",
       "    <tr>\n",
       "      <th>3</th>\n",
       "      <td>19842</td>\n",
       "      <td>122439</td>\n",
       "      <td>4</td>\n",
       "      <td>0.976190</td>\n",
       "      <td>13.0</td>\n",
       "      <td>44.0</td>\n",
       "    </tr>\n",
       "    <tr>\n",
       "      <th>4</th>\n",
       "      <td>19842</td>\n",
       "      <td>163738</td>\n",
       "      <td>5</td>\n",
       "      <td>0.990304</td>\n",
       "      <td>13.0</td>\n",
       "      <td>38.0</td>\n",
       "    </tr>\n",
       "    <tr>\n",
       "      <th>...</th>\n",
       "      <td>...</td>\n",
       "      <td>...</td>\n",
       "      <td>...</td>\n",
       "      <td>...</td>\n",
       "      <td>...</td>\n",
       "      <td>...</td>\n",
       "    </tr>\n",
       "    <tr>\n",
       "      <th>1004</th>\n",
       "      <td>26421</td>\n",
       "      <td>192868</td>\n",
       "      <td>2</td>\n",
       "      <td>0.949838</td>\n",
       "      <td>6.0</td>\n",
       "      <td>92.0</td>\n",
       "    </tr>\n",
       "    <tr>\n",
       "      <th>1005</th>\n",
       "      <td>2558</td>\n",
       "      <td>105758</td>\n",
       "      <td>1</td>\n",
       "      <td>0.882936</td>\n",
       "      <td>11.0</td>\n",
       "      <td>44.0</td>\n",
       "    </tr>\n",
       "    <tr>\n",
       "      <th>1006</th>\n",
       "      <td>2558</td>\n",
       "      <td>194247</td>\n",
       "      <td>2</td>\n",
       "      <td>0.956189</td>\n",
       "      <td>8.0</td>\n",
       "      <td>26.0</td>\n",
       "    </tr>\n",
       "    <tr>\n",
       "      <th>1007</th>\n",
       "      <td>10832</td>\n",
       "      <td>196835</td>\n",
       "      <td>1</td>\n",
       "      <td>0.976478</td>\n",
       "      <td>9.0</td>\n",
       "      <td>206.0</td>\n",
       "    </tr>\n",
       "    <tr>\n",
       "      <th>1008</th>\n",
       "      <td>10832</td>\n",
       "      <td>187094</td>\n",
       "      <td>2</td>\n",
       "      <td>0.930819</td>\n",
       "      <td>16.0</td>\n",
       "      <td>242.0</td>\n",
       "    </tr>\n",
       "  </tbody>\n",
       "</table>\n",
       "<p>1009 rows × 6 columns</p>\n",
       "</div>"
      ],
      "text/plain": [
       "      SUBJECT_ID  HADM_ID  HADM_IDX       AUC N_CODES    NFE\n",
       "0          19842   169734         1  0.965336     9.0  158.0\n",
       "1          19842   186772         2  0.950686    16.0   26.0\n",
       "2          19842   180229         3  0.977252     9.0   26.0\n",
       "3          19842   122439         4  0.976190    13.0   44.0\n",
       "4          19842   163738         5  0.990304    13.0   38.0\n",
       "...          ...      ...       ...       ...     ...    ...\n",
       "1004       26421   192868         2  0.949838     6.0   92.0\n",
       "1005        2558   105758         1  0.882936    11.0   44.0\n",
       "1006        2558   194247         2  0.956189     8.0   26.0\n",
       "1007       10832   196835         1  0.976478     9.0  206.0\n",
       "1008       10832   187094         2  0.930819    16.0  242.0\n",
       "\n",
       "[1009 rows x 6 columns]"
      ]
     },
     "execution_count": 22,
     "metadata": {},
     "output_type": "execute_result"
    }
   ],
   "source": [
    "icenode_auc_df"
   ]
  },
  {
   "cell_type": "code",
   "execution_count": 16,
   "id": "6af0f00e",
   "metadata": {},
   "outputs": [],
   "source": [
    "# retain_auc_df = retain.admissions_auc_scores(retain_params, test_ids)"
   ]
  },
  {
   "cell_type": "code",
   "execution_count": 17,
   "id": "7b63c889",
   "metadata": {},
   "outputs": [],
   "source": [
    "# gru_auc_df = gru.admissions_auc_scores(gru_params, test_ids)"
   ]
  },
  {
   "cell_type": "code",
   "execution_count": 18,
   "id": "5caef236",
   "metadata": {},
   "outputs": [],
   "source": [
    "# gram_auc_df = gram.admissions_auc_scores(gram_params, test_ids)"
   ]
  },
  {
   "cell_type": "code",
   "execution_count": 29,
   "id": "e71cf6ac",
   "metadata": {},
   "outputs": [
    {
     "data": {
      "text/plain": [
       "Index(['SUBJECT_ID', 'HADM_ID', 'HADM_IDX', 'AUC', 'N_CODES'], dtype='object')"
      ]
     },
     "execution_count": 29,
     "metadata": {},
     "output_type": "execute_result"
    }
   ],
   "source": [
    "# gram_auc_df.columns"
   ]
  },
  {
   "cell_type": "code",
   "execution_count": 21,
   "id": "49bb7c85",
   "metadata": {},
   "outputs": [
    {
     "ename": "ValueError",
     "evalue": "Length mismatch: Expected axis has 6 elements, new values have 8 elements",
     "output_type": "error",
     "traceback": [
      "\u001b[0;31m---------------------------------------------------------------------------\u001b[0m",
      "\u001b[0;31mValueError\u001b[0m                                Traceback (most recent call last)",
      "\u001b[0;32m/tmp/ipykernel_41952/1553900659.py\u001b[0m in \u001b[0;36m<module>\u001b[0;34m\u001b[0m\n\u001b[0;32m----> 1\u001b[0;31m \u001b[0micenode_auc_df\u001b[0m\u001b[0;34m.\u001b[0m\u001b[0mcolumns\u001b[0m \u001b[0;34m=\u001b[0m \u001b[0;34m[\u001b[0m\u001b[0;34m'SUBJECT_ID'\u001b[0m\u001b[0;34m,\u001b[0m \u001b[0;34m'HADM_ID'\u001b[0m\u001b[0;34m,\u001b[0m \u001b[0;34m'HADM_IDX'\u001b[0m\u001b[0;34m,\u001b[0m \u001b[0;34m'ICENODE_AUC'\u001b[0m\u001b[0;34m,\u001b[0m \u001b[0;34m'N_CODES'\u001b[0m\u001b[0;34m,\u001b[0m \u001b[0;34m'DAYS_AHEAD'\u001b[0m\u001b[0;34m,\u001b[0m \u001b[0;34m'INTERVAL'\u001b[0m\u001b[0;34m,\u001b[0m \u001b[0;34m'ICENODE_NFE'\u001b[0m\u001b[0;34m]\u001b[0m\u001b[0;34m\u001b[0m\u001b[0;34m\u001b[0m\u001b[0m\n\u001b[0m\u001b[1;32m      2\u001b[0m \u001b[0;34m\u001b[0m\u001b[0m\n\u001b[1;32m      3\u001b[0m \u001b[0;31m# retain_auc_df.columns = ['SUBJECT_ID', 'HADM_ID', 'HADM_IDX', 'RETAIN_AUC', 'N_CODES']\u001b[0m\u001b[0;34m\u001b[0m\u001b[0;34m\u001b[0m\u001b[0;34m\u001b[0m\u001b[0m\n\u001b[1;32m      4\u001b[0m \u001b[0;34m\u001b[0m\u001b[0m\n\u001b[1;32m      5\u001b[0m \u001b[0;31m# gru_auc_df.columns = ['SUBJECT_ID', 'HADM_ID', 'HADM_IDX', 'GRU_AUC', 'N_CODES']\u001b[0m\u001b[0;34m\u001b[0m\u001b[0;34m\u001b[0m\u001b[0;34m\u001b[0m\u001b[0m\n",
      "\u001b[0;32m~/.conda/envs/icenode/lib/python3.8/site-packages/pandas/core/generic.py\u001b[0m in \u001b[0;36m__setattr__\u001b[0;34m(self, name, value)\u001b[0m\n\u001b[1;32m   5498\u001b[0m         \u001b[0;32mtry\u001b[0m\u001b[0;34m:\u001b[0m\u001b[0;34m\u001b[0m\u001b[0;34m\u001b[0m\u001b[0m\n\u001b[1;32m   5499\u001b[0m             \u001b[0mobject\u001b[0m\u001b[0;34m.\u001b[0m\u001b[0m__getattribute__\u001b[0m\u001b[0;34m(\u001b[0m\u001b[0mself\u001b[0m\u001b[0;34m,\u001b[0m \u001b[0mname\u001b[0m\u001b[0;34m)\u001b[0m\u001b[0;34m\u001b[0m\u001b[0;34m\u001b[0m\u001b[0m\n\u001b[0;32m-> 5500\u001b[0;31m             \u001b[0;32mreturn\u001b[0m \u001b[0mobject\u001b[0m\u001b[0;34m.\u001b[0m\u001b[0m__setattr__\u001b[0m\u001b[0;34m(\u001b[0m\u001b[0mself\u001b[0m\u001b[0;34m,\u001b[0m \u001b[0mname\u001b[0m\u001b[0;34m,\u001b[0m \u001b[0mvalue\u001b[0m\u001b[0;34m)\u001b[0m\u001b[0;34m\u001b[0m\u001b[0;34m\u001b[0m\u001b[0m\n\u001b[0m\u001b[1;32m   5501\u001b[0m         \u001b[0;32mexcept\u001b[0m \u001b[0mAttributeError\u001b[0m\u001b[0;34m:\u001b[0m\u001b[0;34m\u001b[0m\u001b[0;34m\u001b[0m\u001b[0m\n\u001b[1;32m   5502\u001b[0m             \u001b[0;32mpass\u001b[0m\u001b[0;34m\u001b[0m\u001b[0;34m\u001b[0m\u001b[0m\n",
      "\u001b[0;32m~/.conda/envs/icenode/lib/python3.8/site-packages/pandas/_libs/properties.pyx\u001b[0m in \u001b[0;36mpandas._libs.properties.AxisProperty.__set__\u001b[0;34m()\u001b[0m\n",
      "\u001b[0;32m~/.conda/envs/icenode/lib/python3.8/site-packages/pandas/core/generic.py\u001b[0m in \u001b[0;36m_set_axis\u001b[0;34m(self, axis, labels)\u001b[0m\n\u001b[1;32m    764\u001b[0m     \u001b[0;32mdef\u001b[0m \u001b[0m_set_axis\u001b[0m\u001b[0;34m(\u001b[0m\u001b[0mself\u001b[0m\u001b[0;34m,\u001b[0m \u001b[0maxis\u001b[0m\u001b[0;34m:\u001b[0m \u001b[0mint\u001b[0m\u001b[0;34m,\u001b[0m \u001b[0mlabels\u001b[0m\u001b[0;34m:\u001b[0m \u001b[0mIndex\u001b[0m\u001b[0;34m)\u001b[0m \u001b[0;34m->\u001b[0m \u001b[0;32mNone\u001b[0m\u001b[0;34m:\u001b[0m\u001b[0;34m\u001b[0m\u001b[0;34m\u001b[0m\u001b[0m\n\u001b[1;32m    765\u001b[0m         \u001b[0mlabels\u001b[0m \u001b[0;34m=\u001b[0m \u001b[0mensure_index\u001b[0m\u001b[0;34m(\u001b[0m\u001b[0mlabels\u001b[0m\u001b[0;34m)\u001b[0m\u001b[0;34m\u001b[0m\u001b[0;34m\u001b[0m\u001b[0m\n\u001b[0;32m--> 766\u001b[0;31m         \u001b[0mself\u001b[0m\u001b[0;34m.\u001b[0m\u001b[0m_mgr\u001b[0m\u001b[0;34m.\u001b[0m\u001b[0mset_axis\u001b[0m\u001b[0;34m(\u001b[0m\u001b[0maxis\u001b[0m\u001b[0;34m,\u001b[0m \u001b[0mlabels\u001b[0m\u001b[0;34m)\u001b[0m\u001b[0;34m\u001b[0m\u001b[0;34m\u001b[0m\u001b[0m\n\u001b[0m\u001b[1;32m    767\u001b[0m         \u001b[0mself\u001b[0m\u001b[0;34m.\u001b[0m\u001b[0m_clear_item_cache\u001b[0m\u001b[0;34m(\u001b[0m\u001b[0;34m)\u001b[0m\u001b[0;34m\u001b[0m\u001b[0;34m\u001b[0m\u001b[0m\n\u001b[1;32m    768\u001b[0m \u001b[0;34m\u001b[0m\u001b[0m\n",
      "\u001b[0;32m~/.conda/envs/icenode/lib/python3.8/site-packages/pandas/core/internals/managers.py\u001b[0m in \u001b[0;36mset_axis\u001b[0;34m(self, axis, new_labels)\u001b[0m\n\u001b[1;32m    214\u001b[0m     \u001b[0;32mdef\u001b[0m \u001b[0mset_axis\u001b[0m\u001b[0;34m(\u001b[0m\u001b[0mself\u001b[0m\u001b[0;34m,\u001b[0m \u001b[0maxis\u001b[0m\u001b[0;34m:\u001b[0m \u001b[0mint\u001b[0m\u001b[0;34m,\u001b[0m \u001b[0mnew_labels\u001b[0m\u001b[0;34m:\u001b[0m \u001b[0mIndex\u001b[0m\u001b[0;34m)\u001b[0m \u001b[0;34m->\u001b[0m \u001b[0;32mNone\u001b[0m\u001b[0;34m:\u001b[0m\u001b[0;34m\u001b[0m\u001b[0;34m\u001b[0m\u001b[0m\n\u001b[1;32m    215\u001b[0m         \u001b[0;31m# Caller is responsible for ensuring we have an Index object.\u001b[0m\u001b[0;34m\u001b[0m\u001b[0;34m\u001b[0m\u001b[0;34m\u001b[0m\u001b[0m\n\u001b[0;32m--> 216\u001b[0;31m         \u001b[0mself\u001b[0m\u001b[0;34m.\u001b[0m\u001b[0m_validate_set_axis\u001b[0m\u001b[0;34m(\u001b[0m\u001b[0maxis\u001b[0m\u001b[0;34m,\u001b[0m \u001b[0mnew_labels\u001b[0m\u001b[0;34m)\u001b[0m\u001b[0;34m\u001b[0m\u001b[0;34m\u001b[0m\u001b[0m\n\u001b[0m\u001b[1;32m    217\u001b[0m         \u001b[0mself\u001b[0m\u001b[0;34m.\u001b[0m\u001b[0maxes\u001b[0m\u001b[0;34m[\u001b[0m\u001b[0maxis\u001b[0m\u001b[0;34m]\u001b[0m \u001b[0;34m=\u001b[0m \u001b[0mnew_labels\u001b[0m\u001b[0;34m\u001b[0m\u001b[0;34m\u001b[0m\u001b[0m\n\u001b[1;32m    218\u001b[0m \u001b[0;34m\u001b[0m\u001b[0m\n",
      "\u001b[0;32m~/.conda/envs/icenode/lib/python3.8/site-packages/pandas/core/internals/base.py\u001b[0m in \u001b[0;36m_validate_set_axis\u001b[0;34m(self, axis, new_labels)\u001b[0m\n\u001b[1;32m     55\u001b[0m \u001b[0;34m\u001b[0m\u001b[0m\n\u001b[1;32m     56\u001b[0m         \u001b[0;32melif\u001b[0m \u001b[0mnew_len\u001b[0m \u001b[0;34m!=\u001b[0m \u001b[0mold_len\u001b[0m\u001b[0;34m:\u001b[0m\u001b[0;34m\u001b[0m\u001b[0;34m\u001b[0m\u001b[0m\n\u001b[0;32m---> 57\u001b[0;31m             raise ValueError(\n\u001b[0m\u001b[1;32m     58\u001b[0m                 \u001b[0;34mf\"Length mismatch: Expected axis has {old_len} elements, new \"\u001b[0m\u001b[0;34m\u001b[0m\u001b[0;34m\u001b[0m\u001b[0m\n\u001b[1;32m     59\u001b[0m                 \u001b[0;34mf\"values have {new_len} elements\"\u001b[0m\u001b[0;34m\u001b[0m\u001b[0;34m\u001b[0m\u001b[0m\n",
      "\u001b[0;31mValueError\u001b[0m: Length mismatch: Expected axis has 6 elements, new values have 8 elements"
     ]
    }
   ],
   "source": [
    "icenode_auc_df.columns = ['SUBJECT_ID', 'HADM_ID', 'HADM_IDX', 'ICENODE_AUC', 'N_CODES', 'DAYS_AHEAD', 'INTERVAL', 'ICENODE_NFE']\n",
    "\n",
    "# retain_auc_df.columns = ['SUBJECT_ID', 'HADM_ID', 'HADM_IDX', 'RETAIN_AUC', 'N_CODES']\n",
    "\n",
    "# gru_auc_df.columns = ['SUBJECT_ID', 'HADM_ID', 'HADM_IDX', 'GRU_AUC', 'N_CODES']\n",
    "\n",
    "# gram_auc_df.columns = ['SUBJECT_ID', 'HADM_ID', 'HADM_IDX', 'GRAM_AUC', 'N_CODES']\n"
   ]
  },
  {
   "cell_type": "code",
   "execution_count": null,
   "id": "62e25b45",
   "metadata": {},
   "outputs": [],
   "source": [
    "icenode_auc_df.HADM_ID.nunique()"
   ]
  },
  {
   "cell_type": "code",
   "execution_count": 33,
   "id": "429e097f",
   "metadata": {},
   "outputs": [
    {
     "data": {
      "text/html": [
       "<div>\n",
       "<style scoped>\n",
       "    .dataframe tbody tr th:only-of-type {\n",
       "        vertical-align: middle;\n",
       "    }\n",
       "\n",
       "    .dataframe tbody tr th {\n",
       "        vertical-align: top;\n",
       "    }\n",
       "\n",
       "    .dataframe thead th {\n",
       "        text-align: right;\n",
       "    }\n",
       "</style>\n",
       "<table border=\"1\" class=\"dataframe\">\n",
       "  <thead>\n",
       "    <tr style=\"text-align: right;\">\n",
       "      <th></th>\n",
       "      <th>SUBJECT_ID</th>\n",
       "      <th>HADM_ID</th>\n",
       "      <th>HADM_IDX</th>\n",
       "      <th>ICENODE_AUC</th>\n",
       "      <th>N_CODES</th>\n",
       "      <th>DAYS_AHEAD</th>\n",
       "      <th>INTERVAL</th>\n",
       "      <th>ICENODE_NFE</th>\n",
       "    </tr>\n",
       "  </thead>\n",
       "  <tbody>\n",
       "    <tr>\n",
       "      <th>0</th>\n",
       "      <td>24198</td>\n",
       "      <td>135189</td>\n",
       "      <td>1</td>\n",
       "      <td>0.976323</td>\n",
       "      <td>9.0</td>\n",
       "      <td>1</td>\n",
       "      <td>1</td>\n",
       "      <td>8.0</td>\n",
       "    </tr>\n",
       "    <tr>\n",
       "      <th>1</th>\n",
       "      <td>24198</td>\n",
       "      <td>135189</td>\n",
       "      <td>2</td>\n",
       "      <td>0.976787</td>\n",
       "      <td>9.0</td>\n",
       "      <td>2</td>\n",
       "      <td>1</td>\n",
       "      <td>8.0</td>\n",
       "    </tr>\n",
       "    <tr>\n",
       "      <th>2</th>\n",
       "      <td>24198</td>\n",
       "      <td>135189</td>\n",
       "      <td>3</td>\n",
       "      <td>0.977097</td>\n",
       "      <td>9.0</td>\n",
       "      <td>3</td>\n",
       "      <td>1</td>\n",
       "      <td>8.0</td>\n",
       "    </tr>\n",
       "    <tr>\n",
       "      <th>3</th>\n",
       "      <td>24198</td>\n",
       "      <td>135189</td>\n",
       "      <td>4</td>\n",
       "      <td>0.976787</td>\n",
       "      <td>9.0</td>\n",
       "      <td>4</td>\n",
       "      <td>1</td>\n",
       "      <td>8.0</td>\n",
       "    </tr>\n",
       "    <tr>\n",
       "      <th>4</th>\n",
       "      <td>24198</td>\n",
       "      <td>135189</td>\n",
       "      <td>5</td>\n",
       "      <td>0.976942</td>\n",
       "      <td>9.0</td>\n",
       "      <td>5</td>\n",
       "      <td>1</td>\n",
       "      <td>8.0</td>\n",
       "    </tr>\n",
       "    <tr>\n",
       "      <th>...</th>\n",
       "      <td>...</td>\n",
       "      <td>...</td>\n",
       "      <td>...</td>\n",
       "      <td>...</td>\n",
       "      <td>...</td>\n",
       "      <td>...</td>\n",
       "      <td>...</td>\n",
       "      <td>...</td>\n",
       "    </tr>\n",
       "    <tr>\n",
       "      <th>9346</th>\n",
       "      <td>11234</td>\n",
       "      <td>150220</td>\n",
       "      <td>2</td>\n",
       "      <td>0.964360</td>\n",
       "      <td>8.0</td>\n",
       "      <td>1267</td>\n",
       "      <td>1266</td>\n",
       "      <td>98.0</td>\n",
       "    </tr>\n",
       "    <tr>\n",
       "      <th>9347</th>\n",
       "      <td>11234</td>\n",
       "      <td>150220</td>\n",
       "      <td>3</td>\n",
       "      <td>0.996697</td>\n",
       "      <td>8.0</td>\n",
       "      <td>1268</td>\n",
       "      <td>1</td>\n",
       "      <td>8.0</td>\n",
       "    </tr>\n",
       "    <tr>\n",
       "      <th>9348</th>\n",
       "      <td>11234</td>\n",
       "      <td>150220</td>\n",
       "      <td>4</td>\n",
       "      <td>0.998261</td>\n",
       "      <td>8.0</td>\n",
       "      <td>1269</td>\n",
       "      <td>1</td>\n",
       "      <td>8.0</td>\n",
       "    </tr>\n",
       "    <tr>\n",
       "      <th>9349</th>\n",
       "      <td>11234</td>\n",
       "      <td>150220</td>\n",
       "      <td>5</td>\n",
       "      <td>0.998435</td>\n",
       "      <td>8.0</td>\n",
       "      <td>1270</td>\n",
       "      <td>1</td>\n",
       "      <td>8.0</td>\n",
       "    </tr>\n",
       "    <tr>\n",
       "      <th>9350</th>\n",
       "      <td>11234</td>\n",
       "      <td>150220</td>\n",
       "      <td>6</td>\n",
       "      <td>0.998609</td>\n",
       "      <td>8.0</td>\n",
       "      <td>1271</td>\n",
       "      <td>1</td>\n",
       "      <td>8.0</td>\n",
       "    </tr>\n",
       "  </tbody>\n",
       "</table>\n",
       "<p>9351 rows × 8 columns</p>\n",
       "</div>"
      ],
      "text/plain": [
       "      SUBJECT_ID  HADM_ID  HADM_IDX  ICENODE_AUC N_CODES  DAYS_AHEAD  \\\n",
       "0          24198   135189         1     0.976323     9.0           1   \n",
       "1          24198   135189         2     0.976787     9.0           2   \n",
       "2          24198   135189         3     0.977097     9.0           3   \n",
       "3          24198   135189         4     0.976787     9.0           4   \n",
       "4          24198   135189         5     0.976942     9.0           5   \n",
       "...          ...      ...       ...          ...     ...         ...   \n",
       "9346       11234   150220         2     0.964360     8.0        1267   \n",
       "9347       11234   150220         3     0.996697     8.0        1268   \n",
       "9348       11234   150220         4     0.998261     8.0        1269   \n",
       "9349       11234   150220         5     0.998435     8.0        1270   \n",
       "9350       11234   150220         6     0.998609     8.0        1271   \n",
       "\n",
       "      INTERVAL ICENODE_NFE  \n",
       "0            1         8.0  \n",
       "1            1         8.0  \n",
       "2            1         8.0  \n",
       "3            1         8.0  \n",
       "4            1         8.0  \n",
       "...        ...         ...  \n",
       "9346      1266        98.0  \n",
       "9347         1         8.0  \n",
       "9348         1         8.0  \n",
       "9349         1         8.0  \n",
       "9350         1         8.0  \n",
       "\n",
       "[9351 rows x 8 columns]"
      ]
     },
     "execution_count": 33,
     "metadata": {},
     "output_type": "execute_result"
    }
   ],
   "source": [
    "icenode_auc_df"
   ]
  },
  {
   "cell_type": "code",
   "execution_count": 35,
   "id": "e9249620",
   "metadata": {},
   "outputs": [],
   "source": [
    "icenode_auc_df2 = icenode_auc_df.drop_duplicates(['SUBJECT_ID', 'HADM_ID'])"
   ]
  },
  {
   "cell_type": "code",
   "execution_count": 37,
   "id": "cab5dc0b",
   "metadata": {},
   "outputs": [
    {
     "data": {
      "text/plain": [
       "0.9572364170139803"
      ]
     },
     "execution_count": 37,
     "metadata": {},
     "output_type": "execute_result"
    }
   ],
   "source": [
    "icenode_auc_df2.ICENODE_AUC.mean()"
   ]
  },
  {
   "cell_type": "code",
   "execution_count": 38,
   "id": "94c8f4bc",
   "metadata": {},
   "outputs": [
    {
     "data": {
      "text/html": [
       "<div>\n",
       "<style scoped>\n",
       "    .dataframe tbody tr th:only-of-type {\n",
       "        vertical-align: middle;\n",
       "    }\n",
       "\n",
       "    .dataframe tbody tr th {\n",
       "        vertical-align: top;\n",
       "    }\n",
       "\n",
       "    .dataframe thead th {\n",
       "        text-align: right;\n",
       "    }\n",
       "</style>\n",
       "<table border=\"1\" class=\"dataframe\">\n",
       "  <thead>\n",
       "    <tr style=\"text-align: right;\">\n",
       "      <th></th>\n",
       "      <th>SUBJECT_ID</th>\n",
       "      <th>HADM_ID</th>\n",
       "      <th>HADM_IDX</th>\n",
       "      <th>ICENODE_AUC</th>\n",
       "      <th>N_CODES</th>\n",
       "      <th>DAYS_AHEAD</th>\n",
       "      <th>INTERVAL</th>\n",
       "      <th>ICENODE_NFE</th>\n",
       "    </tr>\n",
       "  </thead>\n",
       "  <tbody>\n",
       "    <tr>\n",
       "      <th>0</th>\n",
       "      <td>24198</td>\n",
       "      <td>135189</td>\n",
       "      <td>1</td>\n",
       "      <td>0.976323</td>\n",
       "      <td>9.0</td>\n",
       "      <td>1</td>\n",
       "      <td>1</td>\n",
       "      <td>8.0</td>\n",
       "    </tr>\n",
       "    <tr>\n",
       "      <th>13</th>\n",
       "      <td>24198</td>\n",
       "      <td>157166</td>\n",
       "      <td>14</td>\n",
       "      <td>0.971526</td>\n",
       "      <td>9.0</td>\n",
       "      <td>217</td>\n",
       "      <td>204</td>\n",
       "      <td>32.0</td>\n",
       "    </tr>\n",
       "    <tr>\n",
       "      <th>20</th>\n",
       "      <td>24198</td>\n",
       "      <td>116391</td>\n",
       "      <td>21</td>\n",
       "      <td>0.978373</td>\n",
       "      <td>7.0</td>\n",
       "      <td>336</td>\n",
       "      <td>113</td>\n",
       "      <td>26.0</td>\n",
       "    </tr>\n",
       "    <tr>\n",
       "      <th>25</th>\n",
       "      <td>97441</td>\n",
       "      <td>138440</td>\n",
       "      <td>1</td>\n",
       "      <td>0.977877</td>\n",
       "      <td>21.0</td>\n",
       "      <td>1</td>\n",
       "      <td>1</td>\n",
       "      <td>8.0</td>\n",
       "    </tr>\n",
       "    <tr>\n",
       "      <th>32</th>\n",
       "      <td>97441</td>\n",
       "      <td>194679</td>\n",
       "      <td>8</td>\n",
       "      <td>0.943302</td>\n",
       "      <td>16.0</td>\n",
       "      <td>39</td>\n",
       "      <td>32</td>\n",
       "      <td>20.0</td>\n",
       "    </tr>\n",
       "    <tr>\n",
       "      <th>...</th>\n",
       "      <td>...</td>\n",
       "      <td>...</td>\n",
       "      <td>...</td>\n",
       "      <td>...</td>\n",
       "      <td>...</td>\n",
       "      <td>...</td>\n",
       "      <td>...</td>\n",
       "      <td>...</td>\n",
       "    </tr>\n",
       "    <tr>\n",
       "      <th>9326</th>\n",
       "      <td>59496</td>\n",
       "      <td>158272</td>\n",
       "      <td>10</td>\n",
       "      <td>0.964569</td>\n",
       "      <td>12.0</td>\n",
       "      <td>20</td>\n",
       "      <td>11</td>\n",
       "      <td>14.0</td>\n",
       "    </tr>\n",
       "    <tr>\n",
       "      <th>9333</th>\n",
       "      <td>1949</td>\n",
       "      <td>122008</td>\n",
       "      <td>1</td>\n",
       "      <td>0.976765</td>\n",
       "      <td>11.0</td>\n",
       "      <td>1</td>\n",
       "      <td>1</td>\n",
       "      <td>8.0</td>\n",
       "    </tr>\n",
       "    <tr>\n",
       "      <th>9337</th>\n",
       "      <td>1949</td>\n",
       "      <td>196537</td>\n",
       "      <td>5</td>\n",
       "      <td>0.863499</td>\n",
       "      <td>13.0</td>\n",
       "      <td>10</td>\n",
       "      <td>6</td>\n",
       "      <td>14.0</td>\n",
       "    </tr>\n",
       "    <tr>\n",
       "      <th>9345</th>\n",
       "      <td>11234</td>\n",
       "      <td>133876</td>\n",
       "      <td>1</td>\n",
       "      <td>0.997925</td>\n",
       "      <td>4.0</td>\n",
       "      <td>1</td>\n",
       "      <td>1</td>\n",
       "      <td>8.0</td>\n",
       "    </tr>\n",
       "    <tr>\n",
       "      <th>9346</th>\n",
       "      <td>11234</td>\n",
       "      <td>150220</td>\n",
       "      <td>2</td>\n",
       "      <td>0.964360</td>\n",
       "      <td>8.0</td>\n",
       "      <td>1267</td>\n",
       "      <td>1266</td>\n",
       "      <td>98.0</td>\n",
       "    </tr>\n",
       "  </tbody>\n",
       "</table>\n",
       "<p>1605 rows × 8 columns</p>\n",
       "</div>"
      ],
      "text/plain": [
       "      SUBJECT_ID  HADM_ID  HADM_IDX  ICENODE_AUC N_CODES  DAYS_AHEAD  \\\n",
       "0          24198   135189         1     0.976323     9.0           1   \n",
       "13         24198   157166        14     0.971526     9.0         217   \n",
       "20         24198   116391        21     0.978373     7.0         336   \n",
       "25         97441   138440         1     0.977877    21.0           1   \n",
       "32         97441   194679         8     0.943302    16.0          39   \n",
       "...          ...      ...       ...          ...     ...         ...   \n",
       "9326       59496   158272        10     0.964569    12.0          20   \n",
       "9333        1949   122008         1     0.976765    11.0           1   \n",
       "9337        1949   196537         5     0.863499    13.0          10   \n",
       "9345       11234   133876         1     0.997925     4.0           1   \n",
       "9346       11234   150220         2     0.964360     8.0        1267   \n",
       "\n",
       "      INTERVAL ICENODE_NFE  \n",
       "0            1         8.0  \n",
       "13         204        32.0  \n",
       "20         113        26.0  \n",
       "25           1         8.0  \n",
       "32          32        20.0  \n",
       "...        ...         ...  \n",
       "9326        11        14.0  \n",
       "9333         1         8.0  \n",
       "9337         6        14.0  \n",
       "9345         1         8.0  \n",
       "9346      1266        98.0  \n",
       "\n",
       "[1605 rows x 8 columns]"
      ]
     },
     "execution_count": 38,
     "metadata": {},
     "output_type": "execute_result"
    }
   ],
   "source": [
    "icenode_auc_df2"
   ]
  },
  {
   "cell_type": "code",
   "execution_count": null,
   "id": "3c79e308",
   "metadata": {},
   "outputs": [],
   "source": []
  }
 ],
 "metadata": {
  "kernelspec": {
   "display_name": "Python 3 (ipykernel)",
   "language": "python",
   "name": "python3"
  },
  "language_info": {
   "codemirror_mode": {
    "name": "ipython",
    "version": 3
   },
   "file_extension": ".py",
   "mimetype": "text/x-python",
   "name": "python",
   "nbconvert_exporter": "python",
   "pygments_lexer": "ipython3",
   "version": "3.8.12"
  }
 },
 "nbformat": 4,
 "nbformat_minor": 5
}
