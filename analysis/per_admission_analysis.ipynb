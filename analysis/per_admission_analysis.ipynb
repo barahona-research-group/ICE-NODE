{
 "cells": [
  {
   "cell_type": "code",
   "execution_count": 1,
   "id": "a479337d",
   "metadata": {},
   "outputs": [],
   "source": [
    "import sys\n",
    "import os\n",
    "import pandas as pd\n",
    "\n",
    "sys.path.append('..')"
   ]
  },
  {
   "cell_type": "code",
   "execution_count": 4,
   "id": "521f296b",
   "metadata": {},
   "outputs": [
    {
     "name": "stderr",
     "output_type": "stream",
     "text": [
      "/home/asem/.local/lib/python3.8/site-packages/jax/experimental/optimizers.py:28: FutureWarning: jax.experimental.optimizers is deprecated, import jax.example_libraries.optimizers instead\n",
      "  warnings.warn('jax.experimental.optimizers is deprecated, '\n"
     ]
    }
   ],
   "source": [
    "from icenode.train_snonet_diag import SNONETDiag\n",
    "from icenode.train_gram import GRAM\n",
    "from icenode.train_retain import RETAIN\n",
    "\n",
    "%load_ext autoreload\n",
    "%autoreload 2"
   ]
  },
  {
   "cell_type": "markdown",
   "id": "73a22f7b",
   "metadata": {},
   "source": [
    "## Define Directories"
   ]
  },
  {
   "cell_type": "code",
   "execution_count": 5,
   "id": "5d47bebe",
   "metadata": {},
   "outputs": [],
   "source": [
    "HOME = os.environ.get('HOME')\n",
    "\n",
    "# MIMIC-III Dataset Directory\n",
    "mimic3_dir = f'{HOME}/GP/ehr-data/mimic3-transforms'\n",
    "\n",
    "# ICE-NODE/M trained on MIMIC-III training partition (70%)\n",
    "icenode_m3_dir = f'{HOME}/GP/ehr-data/icenode-m3-exp/v0.1.23M3_snonet_diag_M/frozen_trial_3376'\n",
    "\n",
    "# RETAIN trained on MIMIC-III training partition (70%)\n",
    "retain_m3_dir = f'{HOME}/GP/ehr-data/icenode-m3-exp/v0.1.23M3_retain_M/frozen_trial_142'\n",
    "\n",
    "# GRU=GRAM/M trained on MIMIC-III training partition (70%)\n",
    "gru_m3_dir = f'{HOME}/GP/ehr-data/icenode-m3-exp/v0.1.23M3_gram_M/frozen_trial_615'\n",
    "\n",
    "# GRAM=GRAM/G trained on MIMIC-III training partition (70%)\n",
    "gram_m3_dir = f'{HOME}/GP/ehr-data/icenode-m3-exp/v0.1.23M3_gram_G/frozen_trial_442'"
   ]
  },
  {
   "cell_type": "markdown",
   "id": "f6659901",
   "metadata": {},
   "source": [
    "## Patient Interface for each Model"
   ]
  },
  {
   "cell_type": "code",
   "execution_count": 6,
   "id": "8b4d2001",
   "metadata": {},
   "outputs": [
    {
     "name": "stderr",
     "output_type": "stream",
     "text": [
      "2022-01-28 21:47:20.271935: E external/org_tensorflow/tensorflow/stream_executor/cuda/cuda_driver.cc:271] failed call to cuInit: CUDA_ERROR_UNKNOWN: unknown error\n",
      "WARNING:absl:No GPU/TPU found, falling back to CPU. (Set TF_CPP_MIN_LOG_LEVEL=0 and rerun for more info.)\n"
     ]
    }
   ],
   "source": [
    "icnode_patient_interface = SNONETDiag.create_patient_interface(mimic3_dir, 'M3')\n",
    "retain_patient_interface = RETAIN.create_patient_interface(mimic3_dir, 'M3')\n",
    "# Works for both GRAM/M and GRAM/G\n",
    "gram_patient_interface = GRAM.create_patient_interface(mimic3_dir, 'M3')\n"
   ]
  },
  {
   "cell_type": "markdown",
   "id": "2f1f164a",
   "metadata": {},
   "source": [
    "## Dataset Partitioning"
   ]
  },
  {
   "cell_type": "code",
   "execution_count": 7,
   "id": "0ade91cd",
   "metadata": {},
   "outputs": [],
   "source": [
    "import random\n",
    "\n",
    "# seed 42 is used in all our experiments in this work.\n",
    "rng = random.Random(42)\n",
    "subjects_id = list(gram_patient_interface.subjects.keys())\n",
    "rng.shuffle(subjects_id)\n",
    "\n",
    "# splits = train:val:test = 0.7:.15:.15\n",
    "splits = int(.7 * len(subjects_id)), int(.85 * len(subjects_id))\n",
    "\n",
    "train_ids = subjects_id[:splits[0]]\n",
    "valid_ids = subjects_id[splits[0]:splits[1]]\n",
    "test_ids = subjects_id[splits[1]:]"
   ]
  },
  {
   "cell_type": "markdown",
   "id": "2eaf5b99",
   "metadata": {},
   "source": [
    "## Load Configs and Trained Params"
   ]
  },
  {
   "cell_type": "code",
   "execution_count": 8,
   "id": "84e1fbd2",
   "metadata": {},
   "outputs": [],
   "source": [
    "from icenode.utils import load_config, load_params\n",
    "\n",
    "icenode_config = load_config(f'{icenode_m3_dir}/config.json')\n",
    "icenode_params = load_params(f'{icenode_m3_dir}/step0100_params.pickle')\n",
    "\n",
    "retain_config = load_config(f'{retain_m3_dir}/config.json')\n",
    "retain_params = load_params(f'{retain_m3_dir}/step0100_params.pickle')\n",
    "\n",
    "gru_config = load_config(f'{gru_m3_dir}/config.json')\n",
    "gru_params = load_params(f'{gru_m3_dir}/step0100_params.pickle')\n",
    "\n",
    "gram_config = load_config(f'{gram_m3_dir}/config.json')\n",
    "gram_params = load_params(f'{gram_m3_dir}/step0100_params.pickle')"
   ]
  },
  {
   "cell_type": "markdown",
   "id": "c4faf1a5",
   "metadata": {},
   "source": [
    "## Create Model Objects"
   ]
  },
  {
   "cell_type": "code",
   "execution_count": 9,
   "id": "7e763cbe",
   "metadata": {},
   "outputs": [
    {
     "data": {
      "text/plain": [
       "{'emb': {'diag': {'embeddings_dim': 250}, 'kind': 'matrix'},\n",
       " 'model': {'init_depth': 1,\n",
       "  'max_odeint_days': 3600,\n",
       "  'ode_depth': 0,\n",
       "  'ode_dyn': 'gru',\n",
       "  'ode_init_var': 9.774585690261578e-05,\n",
       "  'ode_timescale': 859.5151988814158,\n",
       "  'ode_with_bias': False,\n",
       "  'state_size': 150,\n",
       "  'tay_reg': 4},\n",
       " 'training': {'batch_size': 2,\n",
       "  'diag_loss': 'softmax',\n",
       "  'epochs': 10,\n",
       "  'loss_mixing': {'L_diag': 0.5260797315618758,\n",
       "   'L_dyn': 0.8058584767919931,\n",
       "   'L_l1': 1.5313215497766123e-07,\n",
       "   'L_l2': 2.164606010146564e-06},\n",
       "  'lr': 0.00038483993711989643,\n",
       "  'optimizer': 'adam'}}"
      ]
     },
     "execution_count": 9,
     "metadata": {},
     "output_type": "execute_result"
    }
   ],
   "source": [
    "icenode_config"
   ]
  },
  {
   "cell_type": "code",
   "execution_count": 10,
   "id": "071b00c5",
   "metadata": {},
   "outputs": [],
   "source": [
    "icenode = SNONETDiag.create_model(icenode_config, icnode_patient_interface, train_ids, None)\n",
    "retain = RETAIN.create_model(retain_config, retain_patient_interface, train_ids, None)\n",
    "gru = GRAM.create_model(gru_config, gram_patient_interface, train_ids, None)\n",
    "gram = GRAM.create_model(gram_config, gram_patient_interface, train_ids, None)"
   ]
  },
  {
   "cell_type": "code",
   "execution_count": 11,
   "id": "01484032",
   "metadata": {},
   "outputs": [],
   "source": [
    "code_partitions = GRAM.code_partitions(gram_patient_interface, train_ids) "
   ]
  },
  {
   "cell_type": "code",
   "execution_count": 12,
   "id": "660cf369",
   "metadata": {},
   "outputs": [],
   "source": [
    "from icenode.metrics import evaluation_table\n",
    "res = icenode.eval(icenode_config['training']['loss_mixing'], icenode_params, test_ids)"
   ]
  },
  {
   "cell_type": "code",
   "execution_count": 13,
   "id": "17bd7f48",
   "metadata": {},
   "outputs": [
    {
     "name": "stderr",
     "output_type": "stream",
     "text": [
      "/home/asem/.local/lib/python3.8/site-packages/jax/_src/numpy/lax_numpy.py:5336: UserWarning: 'kind' argument to argsort is ignored; only 'stable' sorts are supported.\n",
      "  warnings.warn(\"'kind' argument to argsort is ignored; only 'stable' sorts \"\n"
     ]
    }
   ],
   "source": [
    "eval_df = evaluation_table({'TST': res}, code_partitions)"
   ]
  },
  {
   "cell_type": "code",
   "execution_count": 14,
   "id": "aaae2261",
   "metadata": {},
   "outputs": [
    {
     "data": {
      "text/plain": [
       "(                             TST\n",
       " MACRO-AUC               0.977391\n",
       " MICRO-AUC               0.977010\n",
       " accuracy                0.968672\n",
       " all_points_count      555.000000\n",
       " diag_loss              46.518295\n",
       " dyn_loss              192.595169\n",
       " dyn_loss_per_week       0.003134\n",
       " f1-score                0.461468\n",
       " fn                      0.002776\n",
       " fp                      0.028551\n",
       " l1_loss             53746.003906\n",
       " l2_loss              6450.216797\n",
       " loss                   46.543015\n",
       " nfe_per_week            1.777862\n",
       " nfex1000              109.241997\n",
       " npv                     0.997102\n",
       " postjump_diag_loss     45.867481\n",
       " pre_ACC-P0              0.417352\n",
       " pre_ACC-P1              0.636641\n",
       " pre_ACC-P2              0.738486\n",
       " pre_ACC-P3              0.883964\n",
       " pre_ACC-P4              0.960646\n",
       " precision               0.319779\n",
       " predictable_count    9351.000000\n",
       " prejump_diag_loss      47.240746\n",
       " recall                  0.828614\n",
       " specificity             0.970979\n",
       " tn                      0.955250\n",
       " tp                      0.013422,\n",
       " {'TST_prejump_diag_loss': 47.240745544433594,\n",
       "  'TST_postjump_diag_loss': 45.86748123168945,\n",
       "  'TST_diag_loss': 46.51829528808594,\n",
       "  'TST_loss': 46.54301452636719,\n",
       "  'TST_l1_loss': 53746.00390625,\n",
       "  'TST_l2_loss': 6450.216796875,\n",
       "  'TST_dyn_loss': 192.5951690673828,\n",
       "  'TST_dyn_loss_per_week': 0.0031343954615294933,\n",
       "  'TST_all_points_count': 555.0,\n",
       "  'TST_predictable_count': 9351.0,\n",
       "  'TST_nfe_per_week': 1.7778619527816772,\n",
       "  'TST_nfex1000': 109.24199676513672,\n",
       "  'TST_accuracy': 0.9686724543571472,\n",
       "  'TST_recall': 0.8286142349243164,\n",
       "  'TST_npv': 0.9971021413803101,\n",
       "  'TST_specificity': 0.9709785580635071,\n",
       "  'TST_precision': 0.3197789490222931,\n",
       "  'TST_f1-score': 0.46146804094314575,\n",
       "  'TST_tp': 0.013422274962067604,\n",
       "  'TST_tn': 0.9552502036094666,\n",
       "  'TST_fp': 0.028551330789923668,\n",
       "  'TST_fn': 0.002776185516268015,\n",
       "  'TST_MACRO-AUC': 0.9773914332090317,\n",
       "  'TST_MICRO-AUC': 0.9770100370225827,\n",
       "  'TST_pre_ACC-P0': 0.41735238267474456,\n",
       "  'TST_pre_ACC-P1': 0.6366405774007593,\n",
       "  'TST_pre_ACC-P2': 0.7384860921112631,\n",
       "  'TST_pre_ACC-P3': 0.8839641216364034,\n",
       "  'TST_pre_ACC-P4': 0.9606461355420308})"
      ]
     },
     "execution_count": 14,
     "metadata": {},
     "output_type": "execute_result"
    }
   ],
   "source": [
    "eval_df"
   ]
  },
  {
   "cell_type": "markdown",
   "id": "47ca87e2",
   "metadata": {},
   "source": [
    "## Analyse AUC for Each Admission in the Test Partition"
   ]
  },
  {
   "cell_type": "code",
   "execution_count": 15,
   "id": "4c4a01eb",
   "metadata": {},
   "outputs": [],
   "source": [
    "icenode_auc_df = icenode.admissions_auc_scores(icenode_params, test_ids)"
   ]
  },
  {
   "cell_type": "code",
   "execution_count": 16,
   "id": "6af0f00e",
   "metadata": {},
   "outputs": [],
   "source": [
    "retain_auc_df = retain.admissions_auc_scores(retain_params, test_ids)"
   ]
  },
  {
   "cell_type": "code",
   "execution_count": 17,
   "id": "7b63c889",
   "metadata": {},
   "outputs": [],
   "source": [
    "gru_auc_df = gru.admissions_auc_scores(gru_params, test_ids)"
   ]
  },
  {
   "cell_type": "code",
   "execution_count": 18,
   "id": "5caef236",
   "metadata": {},
   "outputs": [],
   "source": [
    "gram_auc_df = gram.admissions_auc_scores(gram_params, test_ids)"
   ]
  },
  {
   "cell_type": "code",
   "execution_count": 29,
   "id": "e71cf6ac",
   "metadata": {},
   "outputs": [
    {
     "data": {
      "text/plain": [
       "Index(['SUBJECT_ID', 'HADM_ID', 'HADM_IDX', 'AUC', 'N_CODES'], dtype='object')"
      ]
     },
     "execution_count": 29,
     "metadata": {},
     "output_type": "execute_result"
    }
   ],
   "source": [
    "gram_auc_df.columns"
   ]
  },
  {
   "cell_type": "code",
   "execution_count": 30,
   "id": "49bb7c85",
   "metadata": {},
   "outputs": [],
   "source": [
    "icenode_auc_df.columns = ['SUBJECT_ID', 'HADM_ID', 'HADM_IDX', 'ICENODE_AUC', 'N_CODES', 'DAYS_AHEAD', 'INTERVAL', 'ICENODE_NFE']\n",
    "\n",
    "retain_auc_df.columns = ['SUBJECT_ID', 'HADM_ID', 'HADM_IDX', 'RETAIN_AUC', 'N_CODES']\n",
    "\n",
    "gru_auc_df.columns = ['SUBJECT_ID', 'HADM_ID', 'HADM_IDX', 'GRU_AUC', 'N_CODES']\n",
    "\n",
    "gram_auc_df.columns = ['SUBJECT_ID', 'HADM_ID', 'HADM_IDX', 'GRAM_AUC', 'N_CODES']\n"
   ]
  },
  {
   "cell_type": "code",
   "execution_count": 32,
   "id": "62e25b45",
   "metadata": {},
   "outputs": [
    {
     "data": {
      "text/plain": [
       "1605"
      ]
     },
     "execution_count": 32,
     "metadata": {},
     "output_type": "execute_result"
    }
   ],
   "source": [
    "icenode_auc_df.HADM_ID.nunique()"
   ]
  },
  {
   "cell_type": "code",
   "execution_count": 33,
   "id": "429e097f",
   "metadata": {},
   "outputs": [
    {
     "data": {
      "text/html": [
       "<div>\n",
       "<style scoped>\n",
       "    .dataframe tbody tr th:only-of-type {\n",
       "        vertical-align: middle;\n",
       "    }\n",
       "\n",
       "    .dataframe tbody tr th {\n",
       "        vertical-align: top;\n",
       "    }\n",
       "\n",
       "    .dataframe thead th {\n",
       "        text-align: right;\n",
       "    }\n",
       "</style>\n",
       "<table border=\"1\" class=\"dataframe\">\n",
       "  <thead>\n",
       "    <tr style=\"text-align: right;\">\n",
       "      <th></th>\n",
       "      <th>SUBJECT_ID</th>\n",
       "      <th>HADM_ID</th>\n",
       "      <th>HADM_IDX</th>\n",
       "      <th>ICENODE_AUC</th>\n",
       "      <th>N_CODES</th>\n",
       "      <th>DAYS_AHEAD</th>\n",
       "      <th>INTERVAL</th>\n",
       "      <th>ICENODE_NFE</th>\n",
       "    </tr>\n",
       "  </thead>\n",
       "  <tbody>\n",
       "    <tr>\n",
       "      <th>0</th>\n",
       "      <td>24198</td>\n",
       "      <td>135189</td>\n",
       "      <td>1</td>\n",
       "      <td>0.976323</td>\n",
       "      <td>9.0</td>\n",
       "      <td>1</td>\n",
       "      <td>1</td>\n",
       "      <td>8.0</td>\n",
       "    </tr>\n",
       "    <tr>\n",
       "      <th>1</th>\n",
       "      <td>24198</td>\n",
       "      <td>135189</td>\n",
       "      <td>2</td>\n",
       "      <td>0.976787</td>\n",
       "      <td>9.0</td>\n",
       "      <td>2</td>\n",
       "      <td>1</td>\n",
       "      <td>8.0</td>\n",
       "    </tr>\n",
       "    <tr>\n",
       "      <th>2</th>\n",
       "      <td>24198</td>\n",
       "      <td>135189</td>\n",
       "      <td>3</td>\n",
       "      <td>0.977097</td>\n",
       "      <td>9.0</td>\n",
       "      <td>3</td>\n",
       "      <td>1</td>\n",
       "      <td>8.0</td>\n",
       "    </tr>\n",
       "    <tr>\n",
       "      <th>3</th>\n",
       "      <td>24198</td>\n",
       "      <td>135189</td>\n",
       "      <td>4</td>\n",
       "      <td>0.976787</td>\n",
       "      <td>9.0</td>\n",
       "      <td>4</td>\n",
       "      <td>1</td>\n",
       "      <td>8.0</td>\n",
       "    </tr>\n",
       "    <tr>\n",
       "      <th>4</th>\n",
       "      <td>24198</td>\n",
       "      <td>135189</td>\n",
       "      <td>5</td>\n",
       "      <td>0.976942</td>\n",
       "      <td>9.0</td>\n",
       "      <td>5</td>\n",
       "      <td>1</td>\n",
       "      <td>8.0</td>\n",
       "    </tr>\n",
       "    <tr>\n",
       "      <th>...</th>\n",
       "      <td>...</td>\n",
       "      <td>...</td>\n",
       "      <td>...</td>\n",
       "      <td>...</td>\n",
       "      <td>...</td>\n",
       "      <td>...</td>\n",
       "      <td>...</td>\n",
       "      <td>...</td>\n",
       "    </tr>\n",
       "    <tr>\n",
       "      <th>9346</th>\n",
       "      <td>11234</td>\n",
       "      <td>150220</td>\n",
       "      <td>2</td>\n",
       "      <td>0.964360</td>\n",
       "      <td>8.0</td>\n",
       "      <td>1267</td>\n",
       "      <td>1266</td>\n",
       "      <td>98.0</td>\n",
       "    </tr>\n",
       "    <tr>\n",
       "      <th>9347</th>\n",
       "      <td>11234</td>\n",
       "      <td>150220</td>\n",
       "      <td>3</td>\n",
       "      <td>0.996697</td>\n",
       "      <td>8.0</td>\n",
       "      <td>1268</td>\n",
       "      <td>1</td>\n",
       "      <td>8.0</td>\n",
       "    </tr>\n",
       "    <tr>\n",
       "      <th>9348</th>\n",
       "      <td>11234</td>\n",
       "      <td>150220</td>\n",
       "      <td>4</td>\n",
       "      <td>0.998261</td>\n",
       "      <td>8.0</td>\n",
       "      <td>1269</td>\n",
       "      <td>1</td>\n",
       "      <td>8.0</td>\n",
       "    </tr>\n",
       "    <tr>\n",
       "      <th>9349</th>\n",
       "      <td>11234</td>\n",
       "      <td>150220</td>\n",
       "      <td>5</td>\n",
       "      <td>0.998435</td>\n",
       "      <td>8.0</td>\n",
       "      <td>1270</td>\n",
       "      <td>1</td>\n",
       "      <td>8.0</td>\n",
       "    </tr>\n",
       "    <tr>\n",
       "      <th>9350</th>\n",
       "      <td>11234</td>\n",
       "      <td>150220</td>\n",
       "      <td>6</td>\n",
       "      <td>0.998609</td>\n",
       "      <td>8.0</td>\n",
       "      <td>1271</td>\n",
       "      <td>1</td>\n",
       "      <td>8.0</td>\n",
       "    </tr>\n",
       "  </tbody>\n",
       "</table>\n",
       "<p>9351 rows × 8 columns</p>\n",
       "</div>"
      ],
      "text/plain": [
       "      SUBJECT_ID  HADM_ID  HADM_IDX  ICENODE_AUC N_CODES  DAYS_AHEAD  \\\n",
       "0          24198   135189         1     0.976323     9.0           1   \n",
       "1          24198   135189         2     0.976787     9.0           2   \n",
       "2          24198   135189         3     0.977097     9.0           3   \n",
       "3          24198   135189         4     0.976787     9.0           4   \n",
       "4          24198   135189         5     0.976942     9.0           5   \n",
       "...          ...      ...       ...          ...     ...         ...   \n",
       "9346       11234   150220         2     0.964360     8.0        1267   \n",
       "9347       11234   150220         3     0.996697     8.0        1268   \n",
       "9348       11234   150220         4     0.998261     8.0        1269   \n",
       "9349       11234   150220         5     0.998435     8.0        1270   \n",
       "9350       11234   150220         6     0.998609     8.0        1271   \n",
       "\n",
       "      INTERVAL ICENODE_NFE  \n",
       "0            1         8.0  \n",
       "1            1         8.0  \n",
       "2            1         8.0  \n",
       "3            1         8.0  \n",
       "4            1         8.0  \n",
       "...        ...         ...  \n",
       "9346      1266        98.0  \n",
       "9347         1         8.0  \n",
       "9348         1         8.0  \n",
       "9349         1         8.0  \n",
       "9350         1         8.0  \n",
       "\n",
       "[9351 rows x 8 columns]"
      ]
     },
     "execution_count": 33,
     "metadata": {},
     "output_type": "execute_result"
    }
   ],
   "source": [
    "icenode_auc_df"
   ]
  },
  {
   "cell_type": "code",
   "execution_count": 35,
   "id": "e9249620",
   "metadata": {},
   "outputs": [],
   "source": [
    "icenode_auc_df2 = icenode_auc_df.drop_duplicates(['SUBJECT_ID', 'HADM_ID'])"
   ]
  },
  {
   "cell_type": "code",
   "execution_count": 37,
   "id": "cab5dc0b",
   "metadata": {},
   "outputs": [
    {
     "data": {
      "text/plain": [
       "0.9572364170139803"
      ]
     },
     "execution_count": 37,
     "metadata": {},
     "output_type": "execute_result"
    }
   ],
   "source": [
    "icenode_auc_df2.ICENODE_AUC.mean()"
   ]
  },
  {
   "cell_type": "code",
   "execution_count": 38,
   "id": "94c8f4bc",
   "metadata": {},
   "outputs": [
    {
     "data": {
      "text/html": [
       "<div>\n",
       "<style scoped>\n",
       "    .dataframe tbody tr th:only-of-type {\n",
       "        vertical-align: middle;\n",
       "    }\n",
       "\n",
       "    .dataframe tbody tr th {\n",
       "        vertical-align: top;\n",
       "    }\n",
       "\n",
       "    .dataframe thead th {\n",
       "        text-align: right;\n",
       "    }\n",
       "</style>\n",
       "<table border=\"1\" class=\"dataframe\">\n",
       "  <thead>\n",
       "    <tr style=\"text-align: right;\">\n",
       "      <th></th>\n",
       "      <th>SUBJECT_ID</th>\n",
       "      <th>HADM_ID</th>\n",
       "      <th>HADM_IDX</th>\n",
       "      <th>ICENODE_AUC</th>\n",
       "      <th>N_CODES</th>\n",
       "      <th>DAYS_AHEAD</th>\n",
       "      <th>INTERVAL</th>\n",
       "      <th>ICENODE_NFE</th>\n",
       "    </tr>\n",
       "  </thead>\n",
       "  <tbody>\n",
       "    <tr>\n",
       "      <th>0</th>\n",
       "      <td>24198</td>\n",
       "      <td>135189</td>\n",
       "      <td>1</td>\n",
       "      <td>0.976323</td>\n",
       "      <td>9.0</td>\n",
       "      <td>1</td>\n",
       "      <td>1</td>\n",
       "      <td>8.0</td>\n",
       "    </tr>\n",
       "    <tr>\n",
       "      <th>13</th>\n",
       "      <td>24198</td>\n",
       "      <td>157166</td>\n",
       "      <td>14</td>\n",
       "      <td>0.971526</td>\n",
       "      <td>9.0</td>\n",
       "      <td>217</td>\n",
       "      <td>204</td>\n",
       "      <td>32.0</td>\n",
       "    </tr>\n",
       "    <tr>\n",
       "      <th>20</th>\n",
       "      <td>24198</td>\n",
       "      <td>116391</td>\n",
       "      <td>21</td>\n",
       "      <td>0.978373</td>\n",
       "      <td>7.0</td>\n",
       "      <td>336</td>\n",
       "      <td>113</td>\n",
       "      <td>26.0</td>\n",
       "    </tr>\n",
       "    <tr>\n",
       "      <th>25</th>\n",
       "      <td>97441</td>\n",
       "      <td>138440</td>\n",
       "      <td>1</td>\n",
       "      <td>0.977877</td>\n",
       "      <td>21.0</td>\n",
       "      <td>1</td>\n",
       "      <td>1</td>\n",
       "      <td>8.0</td>\n",
       "    </tr>\n",
       "    <tr>\n",
       "      <th>32</th>\n",
       "      <td>97441</td>\n",
       "      <td>194679</td>\n",
       "      <td>8</td>\n",
       "      <td>0.943302</td>\n",
       "      <td>16.0</td>\n",
       "      <td>39</td>\n",
       "      <td>32</td>\n",
       "      <td>20.0</td>\n",
       "    </tr>\n",
       "    <tr>\n",
       "      <th>...</th>\n",
       "      <td>...</td>\n",
       "      <td>...</td>\n",
       "      <td>...</td>\n",
       "      <td>...</td>\n",
       "      <td>...</td>\n",
       "      <td>...</td>\n",
       "      <td>...</td>\n",
       "      <td>...</td>\n",
       "    </tr>\n",
       "    <tr>\n",
       "      <th>9326</th>\n",
       "      <td>59496</td>\n",
       "      <td>158272</td>\n",
       "      <td>10</td>\n",
       "      <td>0.964569</td>\n",
       "      <td>12.0</td>\n",
       "      <td>20</td>\n",
       "      <td>11</td>\n",
       "      <td>14.0</td>\n",
       "    </tr>\n",
       "    <tr>\n",
       "      <th>9333</th>\n",
       "      <td>1949</td>\n",
       "      <td>122008</td>\n",
       "      <td>1</td>\n",
       "      <td>0.976765</td>\n",
       "      <td>11.0</td>\n",
       "      <td>1</td>\n",
       "      <td>1</td>\n",
       "      <td>8.0</td>\n",
       "    </tr>\n",
       "    <tr>\n",
       "      <th>9337</th>\n",
       "      <td>1949</td>\n",
       "      <td>196537</td>\n",
       "      <td>5</td>\n",
       "      <td>0.863499</td>\n",
       "      <td>13.0</td>\n",
       "      <td>10</td>\n",
       "      <td>6</td>\n",
       "      <td>14.0</td>\n",
       "    </tr>\n",
       "    <tr>\n",
       "      <th>9345</th>\n",
       "      <td>11234</td>\n",
       "      <td>133876</td>\n",
       "      <td>1</td>\n",
       "      <td>0.997925</td>\n",
       "      <td>4.0</td>\n",
       "      <td>1</td>\n",
       "      <td>1</td>\n",
       "      <td>8.0</td>\n",
       "    </tr>\n",
       "    <tr>\n",
       "      <th>9346</th>\n",
       "      <td>11234</td>\n",
       "      <td>150220</td>\n",
       "      <td>2</td>\n",
       "      <td>0.964360</td>\n",
       "      <td>8.0</td>\n",
       "      <td>1267</td>\n",
       "      <td>1266</td>\n",
       "      <td>98.0</td>\n",
       "    </tr>\n",
       "  </tbody>\n",
       "</table>\n",
       "<p>1605 rows × 8 columns</p>\n",
       "</div>"
      ],
      "text/plain": [
       "      SUBJECT_ID  HADM_ID  HADM_IDX  ICENODE_AUC N_CODES  DAYS_AHEAD  \\\n",
       "0          24198   135189         1     0.976323     9.0           1   \n",
       "13         24198   157166        14     0.971526     9.0         217   \n",
       "20         24198   116391        21     0.978373     7.0         336   \n",
       "25         97441   138440         1     0.977877    21.0           1   \n",
       "32         97441   194679         8     0.943302    16.0          39   \n",
       "...          ...      ...       ...          ...     ...         ...   \n",
       "9326       59496   158272        10     0.964569    12.0          20   \n",
       "9333        1949   122008         1     0.976765    11.0           1   \n",
       "9337        1949   196537         5     0.863499    13.0          10   \n",
       "9345       11234   133876         1     0.997925     4.0           1   \n",
       "9346       11234   150220         2     0.964360     8.0        1267   \n",
       "\n",
       "      INTERVAL ICENODE_NFE  \n",
       "0            1         8.0  \n",
       "13         204        32.0  \n",
       "20         113        26.0  \n",
       "25           1         8.0  \n",
       "32          32        20.0  \n",
       "...        ...         ...  \n",
       "9326        11        14.0  \n",
       "9333         1         8.0  \n",
       "9337         6        14.0  \n",
       "9345         1         8.0  \n",
       "9346      1266        98.0  \n",
       "\n",
       "[1605 rows x 8 columns]"
      ]
     },
     "execution_count": 38,
     "metadata": {},
     "output_type": "execute_result"
    }
   ],
   "source": [
    "icenode_auc_df2"
   ]
  },
  {
   "cell_type": "code",
   "execution_count": null,
   "id": "3c79e308",
   "metadata": {},
   "outputs": [],
   "source": []
  }
 ],
 "metadata": {
  "kernelspec": {
   "display_name": "Python 3 (ipykernel)",
   "language": "python",
   "name": "python3"
  },
  "language_info": {
   "codemirror_mode": {
    "name": "ipython",
    "version": 3
   },
   "file_extension": ".py",
   "mimetype": "text/x-python",
   "name": "python",
   "nbconvert_exporter": "python",
   "pygments_lexer": "ipython3",
   "version": "3.8.12"
  }
 },
 "nbformat": 4,
 "nbformat_minor": 5
}
