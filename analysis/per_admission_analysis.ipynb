{
 "cells": [
  {
   "cell_type": "code",
   "execution_count": 1,
   "id": "ba0046cf",
   "metadata": {},
   "outputs": [],
   "source": [
    "import sys\n",
    "import os\n",
    "import pandas as pd\n",
    "\n",
    "sys.path.append('..')"
   ]
  },
  {
   "cell_type": "code",
   "execution_count": 2,
   "id": "48bb6c1c",
   "metadata": {},
   "outputs": [
    {
     "name": "stderr",
     "output_type": "stream",
     "text": [
      "/home/asem/.local/lib/python3.8/site-packages/jax/experimental/optimizers.py:28: FutureWarning: jax.experimental.optimizers is deprecated, import jax.example_libraries.optimizers instead\n",
      "  warnings.warn('jax.experimental.optimizers is deprecated, '\n"
     ]
    }
   ],
   "source": [
    "from mimicnet.train_snonet_diag import SNONETDiag\n",
    "from mimicnet.train_gram import GRAM\n",
    "from mimicnet.train_retain import RETAIN\n",
    "\n",
    "%load_ext autoreload\n",
    "%autoreload 2"
   ]
  },
  {
   "cell_type": "markdown",
   "id": "afb28567",
   "metadata": {},
   "source": [
    "## Define Directories"
   ]
  },
  {
   "cell_type": "code",
   "execution_count": 3,
   "id": "835db0c1",
   "metadata": {},
   "outputs": [],
   "source": [
    "HOME = os.environ.get('HOME')\n",
    "\n",
    "# MIMIC-III Dataset Directory\n",
    "mimic3_dir = f'{HOME}/GP/ehr-data/mimic3-transforms'\n",
    "\n",
    "# ICE-NODE/M trained on MIMIC-III training partition (70%)\n",
    "icenode_m3_dir = f'{HOME}/GP/ehr-data/mimicnet-m3-exp/v0.1.23M3_snonet_diag_M/frozen_trial_2220'\n",
    "\n",
    "# RETAIN trained on MIMIC-III training partition (70%)\n",
    "retain_m3_dir = f'{HOME}/GP/ehr-data/mimicnet-m3-exp/v0.1.23M3_retain_M/frozen_trial_142'\n",
    "\n",
    "# GRU=GRAM/M trained on MIMIC-III training partition (70%)\n",
    "gru_m3_dir = f'{HOME}/GP/ehr-data/mimicnet-m3-exp/v0.1.23M3_gram_M/frozen_trial_615'\n",
    "\n",
    "# GRAM=GRAM/G trained on MIMIC-III training partition (70%)\n",
    "gram_m3_dir = f'{HOME}/GP/ehr-data/mimicnet-m3-exp/v0.1.23M3_gram_G/frozen_trial_442'"
   ]
  },
  {
   "cell_type": "markdown",
   "id": "3415375f",
   "metadata": {},
   "source": [
    "## Patient Interface for each Model"
   ]
  },
  {
   "cell_type": "code",
   "execution_count": 4,
   "id": "b191b98e",
   "metadata": {},
   "outputs": [],
   "source": [
    "icnode_patient_interface = SNONETDiag.create_patient_interface(mimic3_dir, 'M3')\n",
    "retain_patient_interface = RETAIN.create_patient_interface(mimic3_dir, 'M3')\n",
    "# Works for both GRAM/M and GRAM/G\n",
    "gram_patient_interface = GRAM.create_patient_interface(mimic3_dir, 'M3')\n"
   ]
  },
  {
   "cell_type": "markdown",
   "id": "4e019a37",
   "metadata": {},
   "source": [
    "## Dataset Partitioning"
   ]
  },
  {
   "cell_type": "code",
   "execution_count": 5,
   "id": "55b17343",
   "metadata": {},
   "outputs": [],
   "source": [
    "import random\n",
    "\n",
    "# seed 42 is used in all our experiments in this work.\n",
    "rng = random.Random(42)\n",
    "subjects_id = list(icnode_patient_interface.subjects.keys())\n",
    "rng.shuffle(subjects_id)\n",
    "\n",
    "# splits = train:val:test = 0.7:.15:.15\n",
    "splits = int(.7 * len(subjects_id)), int(.85 * len(subjects_id))\n",
    "\n",
    "train_ids = subjects_id[:splits[0]]\n",
    "valid_ids = subjects_id[splits[0]:splits[1]]\n",
    "test_ids = subjects_id[splits[1]:]"
   ]
  },
  {
   "cell_type": "markdown",
   "id": "f95e5491",
   "metadata": {},
   "source": [
    "## Load Configs and Trained Params"
   ]
  },
  {
   "cell_type": "code",
   "execution_count": 7,
   "id": "e692b0c6",
   "metadata": {},
   "outputs": [],
   "source": [
    "from mimicnet.utils import load_config, load_params\n",
    "\n",
    "# icenode_config = load_config(f'{icenode_m3_dir}/config.json')\n",
    "# icenode_params = load_params(f'{icenode_m3_dir}/step0100_params.pickle')\n",
    "\n",
    "# retain_config = load_config(f'{retain_m3_dir}/config.json')\n",
    "# retain_params = load_params(f'{retain_m3_dir}/step0100_params.pickle')\n",
    "\n",
    "gru_config = load_config(f'{gru_m3_dir}/config.json')\n",
    "gru_params = load_params(f'{gru_m3_dir}/step0030_params.pickle')\n",
    "\n",
    "# gram_config = load_config(f'{gram_m3_dir}/config.json')\n",
    "# gram_params = load_params(f'{gram_m3_dir}/step0100_params.pickle')"
   ]
  },
  {
   "cell_type": "markdown",
   "id": "54ebe430",
   "metadata": {},
   "source": [
    "## Create Model Objects"
   ]
  },
  {
   "cell_type": "code",
   "execution_count": 8,
   "id": "6c1ebdd0",
   "metadata": {},
   "outputs": [],
   "source": [
    "# icenode = SNONETDiag.create_model(icenode_config, icnode_patient_interface, train_ids, None)\n",
    "# retain = RETAIN.create_model(retain_config, retain_patient_interface, train_ids, None)\n",
    "gru = GRAM.create_model(gru_config, gram_patient_interface, train_ids, None)\n",
    "# gram = GRAM.create_model(gram_config, gram_patient_interface, train_ids, None)"
   ]
  },
  {
   "cell_type": "code",
   "execution_count": 9,
   "id": "ebbb30d5",
   "metadata": {},
   "outputs": [],
   "source": [
    "code_partitions = GRAM.code_partitions(gram_patient_interface, train_ids) "
   ]
  },
  {
   "cell_type": "code",
   "execution_count": 12,
   "id": "84cd53e4",
   "metadata": {},
   "outputs": [
    {
     "name": "stderr",
     "output_type": "stream",
     "text": [
      "/home/asem/.local/lib/python3.8/site-packages/jax/_src/numpy/lax_numpy.py:5336: UserWarning: 'kind' argument to argsort is ignored; only 'stable' sorts are supported.\n",
      "  warnings.warn(\"'kind' argument to argsort is ignored; only 'stable' sorts \"\n"
     ]
    }
   ],
   "source": [
    "from mimicnet.metrics import evaluation_table\n",
    "res = gru.eval(gru_config['training']['loss_mixing'], gru_params, test_ids)\n",
    "eval_df = evaluation_table({'TST': res}, code_partitions)"
   ]
  },
  {
   "cell_type": "code",
   "execution_count": 13,
   "id": "ab82bfb7",
   "metadata": {},
   "outputs": [
    {
     "data": {
      "text/plain": [
       "(                      TST\n",
       " MACRO-AUC        0.451112\n",
       " MICRO-AUC        0.462751\n",
       " accuracy         0.796344\n",
       " diag_loss       91.446327\n",
       " f1-score         0.019595\n",
       " fn               0.013922\n",
       " fp               0.189734\n",
       " l1_loss      28326.291016\n",
       " l2_loss       2184.802002\n",
       " loss            91.704056\n",
       " npv              0.982774\n",
       " pre_ACC-P0       0.032022\n",
       " pre_ACC-P1       0.006267\n",
       " pre_ACC-P2       0.052989\n",
       " pre_ACC-P3       0.000000\n",
       " pre_ACC-P4       0.000000\n",
       " precision        0.010613\n",
       " recall           0.127540\n",
       " specificity      0.807189\n",
       " tn               0.794308\n",
       " tp               0.002035,\n",
       " {'TST_diag_loss': 91.44632720947266,\n",
       "  'TST_loss': 91.70405578613281,\n",
       "  'TST_l1_loss': 28326.291015625,\n",
       "  'TST_l2_loss': 2184.802001953125,\n",
       "  'TST_accuracy': 0.7963436841964722,\n",
       "  'TST_recall': 0.12753979861736298,\n",
       "  'TST_npv': 0.9827744364738464,\n",
       "  'TST_specificity': 0.8071891069412231,\n",
       "  'TST_precision': 0.010612758807837963,\n",
       "  'TST_f1-score': 0.019594993442296982,\n",
       "  'TST_tp': 0.002035201992839575,\n",
       "  'TST_tn': 0.7943084836006165,\n",
       "  'TST_fp': 0.18973416090011597,\n",
       "  'TST_fn': 0.013922185637056828,\n",
       "  'TST_MACRO-AUC': 0.45111203248571297,\n",
       "  'TST_MICRO-AUC': 0.46275061966604114,\n",
       "  'TST_pre_ACC-P0': 0.03202195791399817,\n",
       "  'TST_pre_ACC-P1': 0.006266786034019696,\n",
       "  'TST_pre_ACC-P2': 0.05298913043478261,\n",
       "  'TST_pre_ACC-P3': 0.0,\n",
       "  'TST_pre_ACC-P4': 0.0})"
      ]
     },
     "execution_count": 13,
     "metadata": {},
     "output_type": "execute_result"
    }
   ],
   "source": [
    "eval_df"
   ]
  },
  {
   "cell_type": "markdown",
   "id": "868bb17a",
   "metadata": {},
   "source": [
    "## Analyse AUC for Each Admission in the Test Partition"
   ]
  },
  {
   "cell_type": "code",
   "execution_count": 27,
   "id": "7fe2f356",
   "metadata": {},
   "outputs": [],
   "source": [
    "from mimicnet.metrics import evaluation_table"
   ]
  },
  {
   "cell_type": "code",
   "execution_count": 58,
   "id": "5be63410",
   "metadata": {},
   "outputs": [],
   "source": [
    "res = icenode.eval(icenode_config['training']['loss_mixing'], p0, valid_ids)"
   ]
  },
  {
   "cell_type": "code",
   "execution_count": 54,
   "id": "819bc15e",
   "metadata": {},
   "outputs": [],
   "source": [
    "code_percentiles = icenode.code_partitions(icnode_patient_interface, train_ids) "
   ]
  },
  {
   "cell_type": "code",
   "execution_count": 59,
   "id": "c9dd70f1",
   "metadata": {},
   "outputs": [],
   "source": [
    "eval_df = evaluation_table({'TST': res}, code_percentiles)"
   ]
  },
  {
   "cell_type": "code",
   "execution_count": 60,
   "id": "41b1d8e2",
   "metadata": {},
   "outputs": [
    {
     "data": {
      "text/plain": [
       "(                             TST\n",
       " MACRO-AUC               0.521618\n",
       " MICRO-AUC               0.537354\n",
       " accuracy                0.888518\n",
       " all_points_count      424.000000\n",
       " diag_loss              98.166565\n",
       " dyn_loss                0.271464\n",
       " dyn_loss_per_week       0.000004\n",
       " f1-score                0.029766\n",
       " fn                      0.015052\n",
       " fp                      0.096431\n",
       " l1_loss             33092.835938\n",
       " l2_loss              2647.580566\n",
       " loss                   98.219398\n",
       " nfe_per_week            1.250589\n",
       " nfex1000               83.050003\n",
       " npv                     0.983311\n",
       " postjump_diag_loss     98.488777\n",
       " pre_ACC-P0              0.024173\n",
       " pre_ACC-P1              0.024927\n",
       " pre_ACC-P2              0.038375\n",
       " pre_ACC-P3              0.047669\n",
       " pre_ACC-P4              0.000000\n",
       " precision               0.017425\n",
       " predictable_count    8966.000000\n",
       " prejump_diag_loss      97.660095\n",
       " recall                  0.102026\n",
       " specificity             0.901925\n",
       " tn                      0.886808\n",
       " tp                      0.001710,\n",
       " {'TST_prejump_diag_loss': 97.66009521484375,\n",
       "  'TST_postjump_diag_loss': 98.48877716064453,\n",
       "  'TST_diag_loss': 98.16656494140625,\n",
       "  'TST_loss': 98.21939849853516,\n",
       "  'TST_l1_loss': 33092.8359375,\n",
       "  'TST_l2_loss': 2647.58056640625,\n",
       "  'TST_dyn_loss': 0.2714640200138092,\n",
       "  'TST_dyn_loss_per_week': 4.08777714255848e-06,\n",
       "  'TST_all_points_count': 424.0,\n",
       "  'TST_predictable_count': 8966.0,\n",
       "  'TST_nfe_per_week': 1.2505888938903809,\n",
       "  'TST_nfex1000': 83.05000305175781,\n",
       "  'TST_accuracy': 0.8885177373886108,\n",
       "  'TST_recall': 0.10202550888061523,\n",
       "  'TST_npv': 0.9833106398582458,\n",
       "  'TST_specificity': 0.9019253849983215,\n",
       "  'TST_precision': 0.017425082623958588,\n",
       "  'TST_f1-score': 0.029766332358121872,\n",
       "  'TST_tp': 0.0017101132543757558,\n",
       "  'TST_tn': 0.8868076205253601,\n",
       "  'TST_fp': 0.09643077850341797,\n",
       "  'TST_fn': 0.01505151204764843,\n",
       "  'TST_MACRO-AUC': 0.5216178081814294,\n",
       "  'TST_MICRO-AUC': 0.537354450109322,\n",
       "  'TST_pre_ACC-P0': 0.024172971037199516,\n",
       "  'TST_pre_ACC-P1': 0.024927351979658556,\n",
       "  'TST_pre_ACC-P2': 0.03837523469341027,\n",
       "  'TST_pre_ACC-P3': 0.04766924875097401,\n",
       "  'TST_pre_ACC-P4': 0.0})"
      ]
     },
     "execution_count": 60,
     "metadata": {},
     "output_type": "execute_result"
    }
   ],
   "source": [
    "eval_df\n"
   ]
  },
  {
   "cell_type": "code",
   "execution_count": 61,
   "id": "3837e9fc",
   "metadata": {},
   "outputs": [],
   "source": [
    "res = retain.eval(retain_config['training']['loss_mixing'], retain_params, valid_ids)\n",
    "eval_df = evaluation_table({'TST': res}, code_percentiles)"
   ]
  },
  {
   "cell_type": "code",
   "execution_count": 62,
   "id": "12a32d3b",
   "metadata": {},
   "outputs": [
    {
     "data": {
      "text/plain": [
       "(                      TST\n",
       " MACRO-AUC        0.516685\n",
       " MICRO-AUC        0.523802\n",
       " accuracy         0.839888\n",
       " diag_loss      105.477043\n",
       " f1-score         0.046056\n",
       " fn               0.012491\n",
       " fp               0.147621\n",
       " l1_loss      39069.394531\n",
       " l2_loss       4987.006836\n",
       " loss           105.513245\n",
       " npv              0.985279\n",
       " pre_ACC-P0       0.074388\n",
       " pre_ACC-P1       0.073510\n",
       " pre_ACC-P2       0.079752\n",
       " pre_ACC-P3       0.052980\n",
       " pre_ACC-P4       0.184758\n",
       " precision        0.025514\n",
       " recall           0.236307\n",
       " specificity      0.849925\n",
       " tn               0.836023\n",
       " tp               0.003865,\n",
       " {'TST_diag_loss': 105.47704315185547,\n",
       "  'TST_loss': 105.51324462890625,\n",
       "  'TST_l1_loss': 39069.39453125,\n",
       "  'TST_l2_loss': 4987.0068359375,\n",
       "  'TST_accuracy': 0.8398882150650024,\n",
       "  'TST_recall': 0.23630741238594055,\n",
       "  'TST_npv': 0.9852791428565979,\n",
       "  'TST_specificity': 0.8499245047569275,\n",
       "  'TST_precision': 0.02551409602165222,\n",
       "  'TST_f1-score': 0.04605557769536972,\n",
       "  'TST_tp': 0.003865026170387864,\n",
       "  'TST_tn': 0.836023211479187,\n",
       "  'TST_fp': 0.14762087166309357,\n",
       "  'TST_fn': 0.012490897439420223,\n",
       "  'TST_MACRO-AUC': 0.5166850605717584,\n",
       "  'TST_MICRO-AUC': 0.5238015881037673,\n",
       "  'TST_pre_ACC-P0': 0.07438752783964366,\n",
       "  'TST_pre_ACC-P1': 0.07350963693411026,\n",
       "  'TST_pre_ACC-P2': 0.07975188303057155,\n",
       "  'TST_pre_ACC-P3': 0.052980132450331126,\n",
       "  'TST_pre_ACC-P4': 0.18475750577367206})"
      ]
     },
     "execution_count": 62,
     "metadata": {},
     "output_type": "execute_result"
    }
   ],
   "source": [
    "eval_df"
   ]
  },
  {
   "cell_type": "code",
   "execution_count": 15,
   "id": "1855ad06",
   "metadata": {},
   "outputs": [],
   "source": [
    "icenode_auc_df = icenode.admissions_auc_scores(icenode_params, test_ids)"
   ]
  },
  {
   "cell_type": "code",
   "execution_count": 18,
   "id": "f3eba4f5",
   "metadata": {},
   "outputs": [],
   "source": [
    "retain_auc_df = retain.admissions_auc_scores(retain_params, test_ids)"
   ]
  },
  {
   "cell_type": "code",
   "execution_count": 19,
   "id": "6c30af81",
   "metadata": {},
   "outputs": [],
   "source": [
    "gru_auc_df = gru.admissions_auc_scores(gru_params, test_ids)"
   ]
  },
  {
   "cell_type": "code",
   "execution_count": 20,
   "id": "34be6a85",
   "metadata": {},
   "outputs": [],
   "source": [
    "gram_auc_df = gram.admissions_auc_scores(gram_params, test_ids)"
   ]
  },
  {
   "cell_type": "code",
   "execution_count": null,
   "id": "7605a9c7",
   "metadata": {},
   "outputs": [],
   "source": [
    "icenode_auc_df.eval"
   ]
  },
  {
   "cell_type": "code",
   "execution_count": 26,
   "id": "2061f074",
   "metadata": {},
   "outputs": [
    {
     "data": {
      "text/html": [
       "<div>\n",
       "<style scoped>\n",
       "    .dataframe tbody tr th:only-of-type {\n",
       "        vertical-align: middle;\n",
       "    }\n",
       "\n",
       "    .dataframe tbody tr th {\n",
       "        vertical-align: top;\n",
       "    }\n",
       "\n",
       "    .dataframe thead th {\n",
       "        text-align: right;\n",
       "    }\n",
       "</style>\n",
       "<table border=\"1\" class=\"dataframe\">\n",
       "  <thead>\n",
       "    <tr style=\"text-align: right;\">\n",
       "      <th></th>\n",
       "      <th>SUBJECT_ID</th>\n",
       "      <th>HADM_IDX</th>\n",
       "      <th>AUC</th>\n",
       "      <th>DAYS_AHEAD</th>\n",
       "      <th>INTERVALS</th>\n",
       "      <th>NFE</th>\n",
       "    </tr>\n",
       "  </thead>\n",
       "  <tbody>\n",
       "    <tr>\n",
       "      <th>9337</th>\n",
       "      <td>59496</td>\n",
       "      <td>15</td>\n",
       "      <td>0.557576</td>\n",
       "      <td>25</td>\n",
       "      <td>1</td>\n",
       "      <td>8.0</td>\n",
       "    </tr>\n",
       "    <tr>\n",
       "      <th>9338</th>\n",
       "      <td>59496</td>\n",
       "      <td>16</td>\n",
       "      <td>0.557226</td>\n",
       "      <td>26</td>\n",
       "      <td>1</td>\n",
       "      <td>8.0</td>\n",
       "    </tr>\n",
       "    <tr>\n",
       "      <th>9339</th>\n",
       "      <td>1949</td>\n",
       "      <td>1</td>\n",
       "      <td>0.646902</td>\n",
       "      <td>1</td>\n",
       "      <td>1</td>\n",
       "      <td>8.0</td>\n",
       "    </tr>\n",
       "    <tr>\n",
       "      <th>9340</th>\n",
       "      <td>1949</td>\n",
       "      <td>2</td>\n",
       "      <td>0.647283</td>\n",
       "      <td>2</td>\n",
       "      <td>1</td>\n",
       "      <td>8.0</td>\n",
       "    </tr>\n",
       "    <tr>\n",
       "      <th>9341</th>\n",
       "      <td>1949</td>\n",
       "      <td>3</td>\n",
       "      <td>0.651092</td>\n",
       "      <td>3</td>\n",
       "      <td>1</td>\n",
       "      <td>8.0</td>\n",
       "    </tr>\n",
       "    <tr>\n",
       "      <th>9342</th>\n",
       "      <td>1949</td>\n",
       "      <td>4</td>\n",
       "      <td>0.652489</td>\n",
       "      <td>4</td>\n",
       "      <td>1</td>\n",
       "      <td>8.0</td>\n",
       "    </tr>\n",
       "    <tr>\n",
       "      <th>9343</th>\n",
       "      <td>1949</td>\n",
       "      <td>5</td>\n",
       "      <td>0.597824</td>\n",
       "      <td>10</td>\n",
       "      <td>6</td>\n",
       "      <td>8.0</td>\n",
       "    </tr>\n",
       "    <tr>\n",
       "      <th>9344</th>\n",
       "      <td>1949</td>\n",
       "      <td>6</td>\n",
       "      <td>0.643611</td>\n",
       "      <td>11</td>\n",
       "      <td>1</td>\n",
       "      <td>8.0</td>\n",
       "    </tr>\n",
       "    <tr>\n",
       "      <th>9345</th>\n",
       "      <td>1949</td>\n",
       "      <td>7</td>\n",
       "      <td>0.660633</td>\n",
       "      <td>12</td>\n",
       "      <td>1</td>\n",
       "      <td>8.0</td>\n",
       "    </tr>\n",
       "    <tr>\n",
       "      <th>9346</th>\n",
       "      <td>1949</td>\n",
       "      <td>8</td>\n",
       "      <td>0.666828</td>\n",
       "      <td>13</td>\n",
       "      <td>1</td>\n",
       "      <td>8.0</td>\n",
       "    </tr>\n",
       "    <tr>\n",
       "      <th>9347</th>\n",
       "      <td>1949</td>\n",
       "      <td>9</td>\n",
       "      <td>0.667852</td>\n",
       "      <td>14</td>\n",
       "      <td>1</td>\n",
       "      <td>8.0</td>\n",
       "    </tr>\n",
       "    <tr>\n",
       "      <th>9348</th>\n",
       "      <td>1949</td>\n",
       "      <td>10</td>\n",
       "      <td>0.669576</td>\n",
       "      <td>15</td>\n",
       "      <td>1</td>\n",
       "      <td>8.0</td>\n",
       "    </tr>\n",
       "    <tr>\n",
       "      <th>9349</th>\n",
       "      <td>1949</td>\n",
       "      <td>11</td>\n",
       "      <td>0.670222</td>\n",
       "      <td>16</td>\n",
       "      <td>1</td>\n",
       "      <td>8.0</td>\n",
       "    </tr>\n",
       "    <tr>\n",
       "      <th>9350</th>\n",
       "      <td>1949</td>\n",
       "      <td>12</td>\n",
       "      <td>0.670761</td>\n",
       "      <td>17</td>\n",
       "      <td>1</td>\n",
       "      <td>8.0</td>\n",
       "    </tr>\n",
       "    <tr>\n",
       "      <th>9351</th>\n",
       "      <td>11234</td>\n",
       "      <td>1</td>\n",
       "      <td>0.798064</td>\n",
       "      <td>1</td>\n",
       "      <td>1</td>\n",
       "      <td>8.0</td>\n",
       "    </tr>\n",
       "    <tr>\n",
       "      <th>9352</th>\n",
       "      <td>11234</td>\n",
       "      <td>2</td>\n",
       "      <td>0.725313</td>\n",
       "      <td>1267</td>\n",
       "      <td>1266</td>\n",
       "      <td>44.0</td>\n",
       "    </tr>\n",
       "    <tr>\n",
       "      <th>9353</th>\n",
       "      <td>11234</td>\n",
       "      <td>3</td>\n",
       "      <td>0.775730</td>\n",
       "      <td>1268</td>\n",
       "      <td>1</td>\n",
       "      <td>8.0</td>\n",
       "    </tr>\n",
       "    <tr>\n",
       "      <th>9354</th>\n",
       "      <td>11234</td>\n",
       "      <td>4</td>\n",
       "      <td>0.765125</td>\n",
       "      <td>1269</td>\n",
       "      <td>1</td>\n",
       "      <td>8.0</td>\n",
       "    </tr>\n",
       "    <tr>\n",
       "      <th>9355</th>\n",
       "      <td>11234</td>\n",
       "      <td>5</td>\n",
       "      <td>0.766168</td>\n",
       "      <td>1270</td>\n",
       "      <td>1</td>\n",
       "      <td>8.0</td>\n",
       "    </tr>\n",
       "    <tr>\n",
       "      <th>9356</th>\n",
       "      <td>11234</td>\n",
       "      <td>6</td>\n",
       "      <td>0.769124</td>\n",
       "      <td>1271</td>\n",
       "      <td>1</td>\n",
       "      <td>8.0</td>\n",
       "    </tr>\n",
       "  </tbody>\n",
       "</table>\n",
       "</div>"
      ],
      "text/plain": [
       "      SUBJECT_ID  HADM_IDX       AUC  DAYS_AHEAD  INTERVALS   NFE\n",
       "9337       59496        15  0.557576          25          1   8.0\n",
       "9338       59496        16  0.557226          26          1   8.0\n",
       "9339        1949         1  0.646902           1          1   8.0\n",
       "9340        1949         2  0.647283           2          1   8.0\n",
       "9341        1949         3  0.651092           3          1   8.0\n",
       "9342        1949         4  0.652489           4          1   8.0\n",
       "9343        1949         5  0.597824          10          6   8.0\n",
       "9344        1949         6  0.643611          11          1   8.0\n",
       "9345        1949         7  0.660633          12          1   8.0\n",
       "9346        1949         8  0.666828          13          1   8.0\n",
       "9347        1949         9  0.667852          14          1   8.0\n",
       "9348        1949        10  0.669576          15          1   8.0\n",
       "9349        1949        11  0.670222          16          1   8.0\n",
       "9350        1949        12  0.670761          17          1   8.0\n",
       "9351       11234         1  0.798064           1          1   8.0\n",
       "9352       11234         2  0.725313        1267       1266  44.0\n",
       "9353       11234         3  0.775730        1268          1   8.0\n",
       "9354       11234         4  0.765125        1269          1   8.0\n",
       "9355       11234         5  0.766168        1270          1   8.0\n",
       "9356       11234         6  0.769124        1271          1   8.0"
      ]
     },
     "execution_count": 26,
     "metadata": {},
     "output_type": "execute_result"
    }
   ],
   "source": [
    "icenode_auc_df.tail(20)"
   ]
  },
  {
   "cell_type": "code",
   "execution_count": 22,
   "id": "6d574e10",
   "metadata": {},
   "outputs": [
    {
     "data": {
      "text/plain": [
       "0.017906336088154284"
      ]
     },
     "execution_count": 22,
     "metadata": {},
     "output_type": "execute_result"
    }
   ],
   "source": [
    "gram_auc_df.AUC.min()"
   ]
  },
  {
   "cell_type": "code",
   "execution_count": 23,
   "id": "5d221fcd",
   "metadata": {},
   "outputs": [
    {
     "data": {
      "text/plain": [
       "0.49718712421225186"
      ]
     },
     "execution_count": 23,
     "metadata": {},
     "output_type": "execute_result"
    }
   ],
   "source": [
    "gram_auc_df.AUC.mean()"
   ]
  },
  {
   "cell_type": "code",
   "execution_count": 23,
   "id": "fb34055b",
   "metadata": {},
   "outputs": [
    {
     "data": {
      "text/plain": [
       "0.5889630890815816"
      ]
     },
     "execution_count": 23,
     "metadata": {},
     "output_type": "execute_result"
    }
   ],
   "source": [
    "icenode_auc_df.AUC.mean()"
   ]
  },
  {
   "cell_type": "code",
   "execution_count": 20,
   "id": "10d7139d",
   "metadata": {},
   "outputs": [
    {
     "data": {
      "text/plain": [
       "['__call__',\n",
       " '__class__',\n",
       " '__delattr__',\n",
       " '__dict__',\n",
       " '__dir__',\n",
       " '__doc__',\n",
       " '__eq__',\n",
       " '__format__',\n",
       " '__ge__',\n",
       " '__getattribute__',\n",
       " '__gt__',\n",
       " '__hash__',\n",
       " '__init__',\n",
       " '__init_subclass__',\n",
       " '__le__',\n",
       " '__lt__',\n",
       " '__module__',\n",
       " '__ne__',\n",
       " '__new__',\n",
       " '__reduce__',\n",
       " '__reduce_ex__',\n",
       " '__repr__',\n",
       " '__setattr__',\n",
       " '__sizeof__',\n",
       " '__str__',\n",
       " '__subclasshook__',\n",
       " '__weakref__',\n",
       " '_diag_loss',\n",
       " '_emb_error',\n",
       " '_extract_nth_points',\n",
       " '_f_dec',\n",
       " '_f_init',\n",
       " '_f_n_ode',\n",
       " '_f_update',\n",
       " '_initialization_data',\n",
       " '_sample_ode_model_config',\n",
       " '_sample_ode_training_config',\n",
       " '_sample_training_config',\n",
       " 'admissions_auc_scores',\n",
       " 'code_partitions',\n",
       " 'create_embedding',\n",
       " 'create_model',\n",
       " 'create_patient_interface',\n",
       " 'detailed_loss',\n",
       " 'diag_emb',\n",
       " 'diag_loss',\n",
       " 'diag_out_index',\n",
       " 'dimensions',\n",
       " 'eval',\n",
       " 'eval_stats',\n",
       " 'f_dec',\n",
       " 'f_init',\n",
       " 'f_n_ode',\n",
       " 'f_update',\n",
       " 'init_params',\n",
       " 'initializers',\n",
       " 'loss',\n",
       " 'max_odeint_days',\n",
       " 'sample_embeddings_config',\n",
       " 'sample_experiment_config',\n",
       " 'sample_model_config',\n",
       " 'sample_training_config',\n",
       " 'select_loss',\n",
       " 'state_size',\n",
       " 'subject_interface',\n",
       " 'tay_reg']"
      ]
     },
     "execution_count": 20,
     "metadata": {},
     "output_type": "execute_result"
    }
   ],
   "source": [
    "dir(icenode)"
   ]
  },
  {
   "cell_type": "code",
   "execution_count": null,
   "id": "0f3af438",
   "metadata": {},
   "outputs": [],
   "source": []
  }
 ],
 "metadata": {
  "kernelspec": {
   "display_name": "Python 3 (ipykernel)",
   "language": "python",
   "name": "python3"
  },
  "language_info": {
   "codemirror_mode": {
    "name": "ipython",
    "version": 3
   },
   "file_extension": ".py",
   "mimetype": "text/x-python",
   "name": "python",
   "nbconvert_exporter": "python",
   "pygments_lexer": "ipython3",
   "version": "3.8.12"
  }
 },
 "nbformat": 4,
 "nbformat_minor": 5
}
