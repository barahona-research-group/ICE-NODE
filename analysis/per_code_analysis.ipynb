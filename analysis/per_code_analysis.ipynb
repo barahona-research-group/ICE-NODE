{
 "cells": [
  {
   "cell_type": "markdown",
   "id": "f53f4d3c",
   "metadata": {},
   "source": [
    "# Table of Content\n",
    "\n",
    "<a name=\"outline\"></a>\n",
    "\n",
    "## Setup\n",
    "\n",
    "- [A](#seca) External Imports\n",
    "- [B](#secb) Internal Imports\n",
    "- [C](#secc) Lazy Dictionary (Lazy Caching)\n",
    "- [D](#secd) Configurations and Paths \n",
    "- [E](#secf) Patient Interface and Train/Val/Test Partitioning\n",
    "- [F](#sece) General Utility Functions\n",
    "\n",
    "\n",
    "## Evaluations\n",
    "\n",
    "- [1](#sec1) Snooping/Selecting Best Models from the Validation Set\n",
    "- [2](#sec2) Top-20 Detection Accuracy on MIMIC-III (Test Set)\n",
    "- [3](#sec3) Top-20 Detection Accuracy on MIMIC-IV (Test Set)\n",
    "- [4](#sec4) Relative AUC Performance on MIMIC-III (Test Set)\n",
    "- [5](#sec5) Relative AUC Performance on MIMIC-IV (Test Set)\n",
    "- [6](#sec6) Relative AUC Performance From MIMIC-III (Training Set) to MIMIC-IV (All)\n",
    "- [7](#sec7) Relative AUC Performance From MIMIC-IV (Training Set) to MIMIC-III (All)"
   ]
  },
  {
   "cell_type": "markdown",
   "id": "697a491c",
   "metadata": {},
   "source": [
    "<a name=\"seca\"></a>\n",
    "\n",
    "### A External Imports [^](#outline)"
   ]
  },
  {
   "cell_type": "code",
   "execution_count": 1,
   "id": "4cfc614e",
   "metadata": {},
   "outputs": [
    {
     "name": "stderr",
     "output_type": "stream",
     "text": [
      "<frozen importlib._bootstrap>:219: RuntimeWarning: scipy._lib.messagestream.MessageStream size changed, may indicate binary incompatibility. Expected 56 from C header, got 64 from PyObject\n"
     ]
    }
   ],
   "source": [
    "import sys\n",
    "import os\n",
    "import pandas as pd\n",
    "import seaborn as sns\n",
    "import glob\n",
    "from IPython.display import display\n",
    "from collections import defaultdict\n",
    "from upsetplot import from_contents, plot, UpSet, from_indicators\n",
    "import matplotlib.pyplot as plt"
   ]
  },
  {
   "cell_type": "markdown",
   "id": "23f0d568",
   "metadata": {},
   "source": [
    "<a name=\"secb\"></a>\n",
    "\n",
    "### B Internal Imports [^](#outline)"
   ]
  },
  {
   "cell_type": "code",
   "execution_count": 2,
   "id": "894a3743",
   "metadata": {},
   "outputs": [
    {
     "name": "stderr",
     "output_type": "stream",
     "text": [
      "/home/asem/.conda/envs/icenode/lib/python3.8/site-packages/jax/experimental/optimizers.py:28: FutureWarning: jax.experimental.optimizers is deprecated, import jax.example_libraries.optimizers instead\n",
      "  warnings.warn('jax.experimental.optimizers is deprecated, '\n"
     ]
    }
   ],
   "source": [
    "sys.path.append('..')\n",
    "HOME = os.environ.get('HOME')\n",
    "from icenode.train_icenode_2lr import ICENODE\n",
    "from icenode.train_icenode_uniform2lr import ICENODE as ICENODE_UNIFORM\n",
    "from icenode.train_gram import GRAM\n",
    "from icenode.train_retain import RETAIN\n",
    "from icenode.metrics import codes_auc_pairwise_tests\n",
    "from icenode.metrics import evaluation_table\n",
    "from icenode.utils import write_params, load_config, load_params\n",
    "\n",
    "%load_ext autoreload\n",
    "%autoreload 2"
   ]
  },
  {
   "cell_type": "markdown",
   "id": "fc48af79",
   "metadata": {},
   "source": [
    "<a name=\"secc\"></a>\n",
    "\n",
    "### C Lazy Dictionary (Lazy Caching) [^](#outline)"
   ]
  },
  {
   "cell_type": "code",
   "execution_count": 3,
   "id": "b19f918f",
   "metadata": {},
   "outputs": [],
   "source": [
    "class LazyDict(dict):\n",
    "    def __getitem__(self, k):\n",
    "        v = super().__getitem__(k)\n",
    "        if callable(v):\n",
    "            v = v()\n",
    "            super().__setitem__(k, v)\n",
    "        return v\n",
    "\n",
    "    def get(self, k, default=None):\n",
    "        if k in self:\n",
    "            return self.__getitem__(k)\n",
    "        return default"
   ]
  },
  {
   "cell_type": "markdown",
   "id": "d9340794",
   "metadata": {},
   "source": [
    "<a name=\"secd\"></a>\n",
    "\n",
    "### D Configurations and Paths [^](#outline)"
   ]
  },
  {
   "cell_type": "code",
   "execution_count": 79,
   "id": "c8d78296",
   "metadata": {},
   "outputs": [],
   "source": [
    "mimic_dir = {\n",
    "    'M3': f'{HOME}/GP/ehr-data/mimic3-transforms',\n",
    "    'M4': f'{HOME}/GP/ehr-data/mimic4-transforms'\n",
    "}\n",
    "\n",
    "trained_dir = {\n",
    "    'GM3': f'{HOME}/GP/ehr-data/icenode-m3-exp/train_config_v0.2.25_G_M3',\n",
    "    'M3': f'{HOME}/GP/ehr-data/icenode-m3-exp/train_config_v0.2.25_M3',\n",
    "    'M4': f'{HOME}/GP/ehr-data/icenode-m4-exp/train_config_v0.2.25_M4'\n",
    "}\n",
    "\n",
    "model_dir = {\n",
    "    'ICENODE': 'icenode_2lr',\n",
    "    'ICENODE_UNIFORM': 'icenode_uniform2lr',\n",
    "    'GRU': 'gru',\n",
    "    'RETAIN': 'retain'\n",
    "}\n",
    "\n",
    "model_cls = {\n",
    "    'ICENODE': ICENODE,\n",
    "    'ICENODE_UNIFORM': ICENODE_UNIFORM,\n",
    "    'GRU': GRAM,\n",
    "    'RETAIN': RETAIN\n",
    "}   \n",
    "\n",
    "clfs = list(model_dir.keys())\n",
    "\n",
    "relative_auc_config = {\n",
    "    'pvalue': 0.05, \n",
    "    'min_auc': 0.9\n",
    "}"
   ]
  },
  {
   "cell_type": "markdown",
   "id": "24d26707",
   "metadata": {},
   "source": [
    "<a name=\"sece\"></a>\n",
    "\n",
    "### E Patient Interface and Train/Val/Test Patitioning [^](#outline)"
   ]
  },
  {
   "cell_type": "code",
   "execution_count": 5,
   "id": "27c24ace",
   "metadata": {},
   "outputs": [],
   "source": [
    "def get_patient_interface(data_tag, clfs):\n",
    "    interface_by_kind = LazyDict({\n",
    "        'timestamped': lambda: ICENODE.create_patient_interface(mimic_dir[data_tag], data_tag),\n",
    "        'sequential': lambda: GRAM.create_patient_interface(mimic_dir[data_tag], data_tag)\n",
    "    })\n",
    "    \n",
    "    interface_kind = {\n",
    "        'ICENODE':  'timestamped',\n",
    "        'ICENODE_UNIFORM': 'timestamped',\n",
    "        'GRU': 'sequential',\n",
    "        'RETAIN': 'sequential'\n",
    "    }\n",
    "\n",
    "    return {clf: interface_by_kind[interface_kind[clf]] for clf in clfs}\n",
    "    \n",
    "\n",
    "m4_interface = get_patient_interface('M4', clfs)\n",
    "m3_interface = get_patient_interface('M3', clfs)\n",
    "\n",
    "m4_train_ids, m4_valid_ids, m4_test_ids = m4_interface[clfs[0]].random_splits(split1=0.7, split2=0.85, random_seed=42)\n",
    "m3_train_ids, m3_valid_ids, m3_test_ids = m3_interface[clfs[0]].random_splits(split1=0.7, split2=0.85, random_seed=42)\n"
   ]
  },
  {
   "cell_type": "markdown",
   "id": "085bb85c",
   "metadata": {},
   "source": [
    "<a name=\"secf\"></a>\n",
    "\n",
    "### F Utility Functions [^](#outline)"
   ]
  },
  {
   "cell_type": "code",
   "execution_count": 66,
   "id": "63239443",
   "metadata": {},
   "outputs": [],
   "source": [
    "\n",
    "def performance_traces(data_tag, clfs):\n",
    "    clfs_params_dir = trained_dir[data_tag]\n",
    "    traces_df = {}\n",
    "    for clf in clfs:\n",
    "        clf_dir = model_dir[clf]\n",
    "        csv_files =  glob.glob(f'{clfs_params_dir}/{clf_dir}/*.csv', recursive=False)\n",
    "        dfs = [pd.read_csv(csv_file, index_col=[0]) for csv_file in csv_files]\n",
    "        df = pd.concat([df[[\"VAL\"]].transpose() for df in dfs]).reset_index()\n",
    "        df = df[['loss', 'accuracy']]        \n",
    "        traces_df[clf] = df\n",
    "\n",
    "    return traces_df\n",
    "\n",
    "def get_trained_models(train_dir, clfs, criterion, comp):\n",
    "    params = {}\n",
    "    config = {}\n",
    "    df = {}\n",
    "    clfs_params_dir = trained_dir[train_dir]\n",
    "    \n",
    "    best_iter, best_val = [], []\n",
    "    for clf in clfs:\n",
    "        clf_dir = model_dir[clf]\n",
    "        csv_files =  glob.glob(f'{clfs_params_dir}/{clf_dir}/*.csv', recursive=False)\n",
    "        dfs = [pd.read_csv(csv_file, index_col=[0]) for csv_file in csv_files]\n",
    "        max_i = comp(range(len(dfs)), key=lambda i: dfs[i].loc[criterion, 'VAL'].sum())\n",
    "        \n",
    "        best_iter.append(max_i)\n",
    "        best_val.append(dfs[max_i].loc[criterion, \"VAL\"].sum())\n",
    "        \n",
    "        df[clf] = dfs[max_i]        \n",
    "        csv_file = csv_files[max_i]\n",
    "        prefix = csv_file.split('_')\n",
    "        prefix[-1] = 'params.pickle'\n",
    "        params_file = '_'.join(prefix)\n",
    "        params[clf] = load_params(params_file)\n",
    "        config[clf] = load_config(f'{clfs_params_dir}/{clf_dir}/config.json')\n",
    "        \n",
    "    display(pd.DataFrame({'Clf': clfs, 'Best_i': best_iter, str(criterion): best_val}))\n",
    "    return config, params, df\n",
    "\n",
    "\n",
    "    \n",
    "def eval_(model, ids):\n",
    "    model, state = model\n",
    "    return model.eval(state, ids)['diag_detectability']\n",
    "\n",
    "def eval2_(model, ids):\n",
    "    model, state = model\n",
    "    return model.eval(state, ids)\n",
    "\n",
    "\n",
    "\n",
    "def get_model(clf, config, params, interface):\n",
    "    model = model_cls[clf].create_model(config, interface, [], None)\n",
    "    state = model.init_with_params(config, params)\n",
    "    return model, state\n",
    "        \n",
    "def get_models(clfs, config, params, interface):\n",
    "    return {clf: get_model(clf, config[clf], params[clf], interface[clf]) for clf in clfs}\n",
    "\n",
    "\n",
    "def cross_predictor(clf, source_tag, target_tag):    \n",
    "    if source_tag == 'M3':\n",
    "        params = m3_params[clf]\n",
    "        config = m3_config[clf]\n",
    "    else:\n",
    "        params = m4_params[clf]\n",
    "        config = m4_config[clf]\n",
    "        \n",
    "    if target_tag == 'M3':\n",
    "        target_interface = m3_interface[clf]\n",
    "    else:\n",
    "        target_interface = m4_interface[clf]\n",
    "        \n",
    "    \n",
    "    return get_model(clf, config, params, target_interface)\n",
    "            \n",
    "    \n",
    "\n",
    "def make_clf_paris(clfs):\n",
    "    clfs_pairs = []\n",
    "    for i in range(len(clfs)):\n",
    "        for j in range(i + 1, len(clfs)):\n",
    "            clfs_pairs.append((clfs[i], clfs[j]))\n",
    "    return tuple(sorted(clfs_pairs))\n",
    "    \n",
    "def relative_performance_upset(auc_tests, selected_clfs, patient_interface, pvalue, min_auc):\n",
    "    flatccs_idx2code = {idx: code for code, idx in patient_interface.diag_flatccs_idx.items()}\n",
    "    idx2desc = lambda i: patient_interface.dag.diag_flatccs_desc[flatccs_idx2code[i]]\n",
    "    auc_tests['DESC'] = auc_tests['CODE_INDEX'].apply(idx2desc)\n",
    "    \n",
    "    # remove codes that no classifier has scored above 0.7\n",
    "    accepted_aucs = auc_tests.loc[:,[f'AUC({clf})' for clf in selected_clfs]].max(axis=1) > min_auc\n",
    "    \n",
    "    tests = auc_tests[accepted_aucs]\n",
    "    tests = tests.fillna(1)\n",
    "    test_cols = [col for col in tests.columns if col[:2] == 'P0']\n",
    "    \n",
    "    common_perf = tests[tests.loc[:,test_cols].min(axis=1) > pvalue]\n",
    "    auc_sets = defaultdict(set)\n",
    "    clfs = tuple(sorted(selected_clfs))\n",
    "    auc_sets[clfs] = set(common_perf.CODE_INDEX)\n",
    "    competing_tests = tests.drop(index=common_perf.index)\n",
    "\n",
    "    clfs_pairs = make_clf_paris(clfs)\n",
    "\n",
    "    for index, row in competing_tests.iterrows():\n",
    "        max_auc_clf = max(clfs, key=lambda clf: row[f'AUC({clf})'])\n",
    "        insignificant_diff = {(clf1, clf2): f'P0(AUC_{clf1}==AUC_{clf2})' for (clf1, clf2) in clfs_pairs \\\n",
    "                          if max_auc_clf in (clf1, clf2) and row[f'P0(AUC_{clf1}==AUC_{clf2})'] > pvalue}\n",
    "\n",
    "        if len(insignificant_diff) == 0:\n",
    "            auc_sets[max_auc_clf].add(int(row['CODE_INDEX']))\n",
    "        else:\n",
    "            for (clf1, clf2), test_col in insignificant_diff.items():\n",
    "                auc_sets[(clf1, clf2)].add(int(row['CODE_INDEX']))            \n",
    "            \n",
    "    # Prepare for using Upset plot -> Set Layout (passed to `from_contents`)\n",
    "    content_sets = {}\n",
    "    for clf in clfs:\n",
    "        content_sets[clf] = auc_sets[clf] | auc_sets[clfs]\n",
    "        for clf1, clf2 in clfs_pairs:\n",
    "            if clf in (clf1, clf2):\n",
    "                content_sets[clf].update(auc_sets[(clf1, clf2)])\n",
    "    \n",
    "    # Prepare for using Upset plot -> DataFrame Layout (passed to `from_indicators`)\n",
    "    code_index = tests.CODE_INDEX.tolist()\n",
    "    competence_assignments = {}\n",
    "    for clf in clfs:\n",
    "        competence_assignments[clf] = [c in content_sets[clf] for c in code_index]\n",
    "    indicator_df = pd.DataFrame(competence_assignments, index=code_index)\n",
    "    \n",
    "    # Descriptive statistics for each code.    \n",
    "    avg_aucs, n_codes = [], []\n",
    "    for c in code_index:\n",
    "        competent_clfs = [clf for clf in clfs if indicator_df.loc[c, clf]]\n",
    "        avg_auc = tests.loc[c, list(f'AUC({clf})' for clf in competent_clfs)].mean()\n",
    "        avg_aucs.append(avg_auc)\n",
    "        n_codes.append(tests.loc[c, 'N_POSITIVE_CODES'])\n",
    "    data = pd.DataFrame({'AVG_AUC': avg_aucs, 'N_CODES': n_codes}, index=code_index)    \n",
    "    return content_sets, indicator_df, data, set(common_perf['CODE_INDEX']), set(competing_tests['CODE_INDEX'])\n"
   ]
  },
  {
   "cell_type": "markdown",
   "id": "4e5de22c",
   "metadata": {},
   "source": [
    "<a name=\"sec1\"></a>\n",
    "\n",
    "## 1 Snooping/Selecting Best Models from the Validation Set [^](#outline)"
   ]
  },
  {
   "cell_type": "code",
   "execution_count": 7,
   "id": "b35cd234",
   "metadata": {},
   "outputs": [
    {
     "name": "stdout",
     "output_type": "stream",
     "text": [
      "> Models trained on MIMIC-IV\n"
     ]
    },
    {
     "data": {
      "text/html": [
       "<div>\n",
       "<style scoped>\n",
       "    .dataframe tbody tr th:only-of-type {\n",
       "        vertical-align: middle;\n",
       "    }\n",
       "\n",
       "    .dataframe tbody tr th {\n",
       "        vertical-align: top;\n",
       "    }\n",
       "\n",
       "    .dataframe thead th {\n",
       "        text-align: right;\n",
       "    }\n",
       "</style>\n",
       "<table border=\"1\" class=\"dataframe\">\n",
       "  <thead>\n",
       "    <tr style=\"text-align: right;\">\n",
       "      <th></th>\n",
       "      <th>Clf</th>\n",
       "      <th>Best_i</th>\n",
       "      <th>loss</th>\n",
       "    </tr>\n",
       "  </thead>\n",
       "  <tbody>\n",
       "    <tr>\n",
       "      <th>0</th>\n",
       "      <td>ICENODE</td>\n",
       "      <td>72</td>\n",
       "      <td>0.000735</td>\n",
       "    </tr>\n",
       "    <tr>\n",
       "      <th>1</th>\n",
       "      <td>ICENODE_UNIFORM</td>\n",
       "      <td>73</td>\n",
       "      <td>0.000744</td>\n",
       "    </tr>\n",
       "    <tr>\n",
       "      <th>2</th>\n",
       "      <td>GRU</td>\n",
       "      <td>35</td>\n",
       "      <td>31.025291</td>\n",
       "    </tr>\n",
       "    <tr>\n",
       "      <th>3</th>\n",
       "      <td>RETAIN</td>\n",
       "      <td>28</td>\n",
       "      <td>31.072317</td>\n",
       "    </tr>\n",
       "  </tbody>\n",
       "</table>\n",
       "</div>"
      ],
      "text/plain": [
       "               Clf  Best_i       loss\n",
       "0          ICENODE      72   0.000735\n",
       "1  ICENODE_UNIFORM      73   0.000744\n",
       "2              GRU      35  31.025291\n",
       "3           RETAIN      28  31.072317"
      ]
     },
     "metadata": {},
     "output_type": "display_data"
    },
    {
     "data": {
      "text/html": [
       "<div>\n",
       "<style scoped>\n",
       "    .dataframe tbody tr th:only-of-type {\n",
       "        vertical-align: middle;\n",
       "    }\n",
       "\n",
       "    .dataframe tbody tr th {\n",
       "        vertical-align: top;\n",
       "    }\n",
       "\n",
       "    .dataframe thead th {\n",
       "        text-align: right;\n",
       "    }\n",
       "</style>\n",
       "<table border=\"1\" class=\"dataframe\">\n",
       "  <thead>\n",
       "    <tr style=\"text-align: right;\">\n",
       "      <th></th>\n",
       "      <th>Clf</th>\n",
       "      <th>Best_i</th>\n",
       "      <th>MICRO-AUC</th>\n",
       "    </tr>\n",
       "  </thead>\n",
       "  <tbody>\n",
       "    <tr>\n",
       "      <th>0</th>\n",
       "      <td>ICENODE</td>\n",
       "      <td>2</td>\n",
       "      <td>0.933961</td>\n",
       "    </tr>\n",
       "    <tr>\n",
       "      <th>1</th>\n",
       "      <td>ICENODE_UNIFORM</td>\n",
       "      <td>37</td>\n",
       "      <td>0.932462</td>\n",
       "    </tr>\n",
       "    <tr>\n",
       "      <th>2</th>\n",
       "      <td>GRU</td>\n",
       "      <td>35</td>\n",
       "      <td>0.936528</td>\n",
       "    </tr>\n",
       "    <tr>\n",
       "      <th>3</th>\n",
       "      <td>RETAIN</td>\n",
       "      <td>22</td>\n",
       "      <td>0.936482</td>\n",
       "    </tr>\n",
       "  </tbody>\n",
       "</table>\n",
       "</div>"
      ],
      "text/plain": [
       "               Clf  Best_i  MICRO-AUC\n",
       "0          ICENODE       2   0.933961\n",
       "1  ICENODE_UNIFORM      37   0.932462\n",
       "2              GRU      35   0.936528\n",
       "3           RETAIN      22   0.936482"
      ]
     },
     "metadata": {},
     "output_type": "display_data"
    },
    {
     "name": "stdout",
     "output_type": "stream",
     "text": [
      "> Models trained on MIMIC-III\n"
     ]
    },
    {
     "data": {
      "text/html": [
       "<div>\n",
       "<style scoped>\n",
       "    .dataframe tbody tr th:only-of-type {\n",
       "        vertical-align: middle;\n",
       "    }\n",
       "\n",
       "    .dataframe tbody tr th {\n",
       "        vertical-align: top;\n",
       "    }\n",
       "\n",
       "    .dataframe thead th {\n",
       "        text-align: right;\n",
       "    }\n",
       "</style>\n",
       "<table border=\"1\" class=\"dataframe\">\n",
       "  <thead>\n",
       "    <tr style=\"text-align: right;\">\n",
       "      <th></th>\n",
       "      <th>Clf</th>\n",
       "      <th>Best_i</th>\n",
       "      <th>loss</th>\n",
       "    </tr>\n",
       "  </thead>\n",
       "  <tbody>\n",
       "    <tr>\n",
       "      <th>0</th>\n",
       "      <td>ICENODE</td>\n",
       "      <td>58</td>\n",
       "      <td>0.000797</td>\n",
       "    </tr>\n",
       "    <tr>\n",
       "      <th>1</th>\n",
       "      <td>ICENODE_UNIFORM</td>\n",
       "      <td>58</td>\n",
       "      <td>0.000797</td>\n",
       "    </tr>\n",
       "    <tr>\n",
       "      <th>2</th>\n",
       "      <td>GRU</td>\n",
       "      <td>8</td>\n",
       "      <td>38.797390</td>\n",
       "    </tr>\n",
       "    <tr>\n",
       "      <th>3</th>\n",
       "      <td>RETAIN</td>\n",
       "      <td>11</td>\n",
       "      <td>38.536705</td>\n",
       "    </tr>\n",
       "  </tbody>\n",
       "</table>\n",
       "</div>"
      ],
      "text/plain": [
       "               Clf  Best_i       loss\n",
       "0          ICENODE      58   0.000797\n",
       "1  ICENODE_UNIFORM      58   0.000797\n",
       "2              GRU       8  38.797390\n",
       "3           RETAIN      11  38.536705"
      ]
     },
     "metadata": {},
     "output_type": "display_data"
    },
    {
     "data": {
      "text/html": [
       "<div>\n",
       "<style scoped>\n",
       "    .dataframe tbody tr th:only-of-type {\n",
       "        vertical-align: middle;\n",
       "    }\n",
       "\n",
       "    .dataframe tbody tr th {\n",
       "        vertical-align: top;\n",
       "    }\n",
       "\n",
       "    .dataframe thead th {\n",
       "        text-align: right;\n",
       "    }\n",
       "</style>\n",
       "<table border=\"1\" class=\"dataframe\">\n",
       "  <thead>\n",
       "    <tr style=\"text-align: right;\">\n",
       "      <th></th>\n",
       "      <th>Clf</th>\n",
       "      <th>Best_i</th>\n",
       "      <th>MICRO-AUC</th>\n",
       "    </tr>\n",
       "  </thead>\n",
       "  <tbody>\n",
       "    <tr>\n",
       "      <th>0</th>\n",
       "      <td>ICENODE</td>\n",
       "      <td>79</td>\n",
       "      <td>0.925790</td>\n",
       "    </tr>\n",
       "    <tr>\n",
       "      <th>1</th>\n",
       "      <td>ICENODE_UNIFORM</td>\n",
       "      <td>70</td>\n",
       "      <td>0.925757</td>\n",
       "    </tr>\n",
       "    <tr>\n",
       "      <th>2</th>\n",
       "      <td>GRU</td>\n",
       "      <td>47</td>\n",
       "      <td>0.923570</td>\n",
       "    </tr>\n",
       "    <tr>\n",
       "      <th>3</th>\n",
       "      <td>RETAIN</td>\n",
       "      <td>4</td>\n",
       "      <td>0.927307</td>\n",
       "    </tr>\n",
       "  </tbody>\n",
       "</table>\n",
       "</div>"
      ],
      "text/plain": [
       "               Clf  Best_i  MICRO-AUC\n",
       "0          ICENODE      79   0.925790\n",
       "1  ICENODE_UNIFORM      70   0.925757\n",
       "2              GRU      47   0.923570\n",
       "3           RETAIN       4   0.927307"
      ]
     },
     "metadata": {},
     "output_type": "display_data"
    },
    {
     "name": "stdout",
     "output_type": "stream",
     "text": [
      "> Models (GRAM) trained on MIMIC-III\n"
     ]
    },
    {
     "data": {
      "text/html": [
       "<div>\n",
       "<style scoped>\n",
       "    .dataframe tbody tr th:only-of-type {\n",
       "        vertical-align: middle;\n",
       "    }\n",
       "\n",
       "    .dataframe tbody tr th {\n",
       "        vertical-align: top;\n",
       "    }\n",
       "\n",
       "    .dataframe thead th {\n",
       "        text-align: right;\n",
       "    }\n",
       "</style>\n",
       "<table border=\"1\" class=\"dataframe\">\n",
       "  <thead>\n",
       "    <tr style=\"text-align: right;\">\n",
       "      <th></th>\n",
       "      <th>Clf</th>\n",
       "      <th>Best_i</th>\n",
       "      <th>loss</th>\n",
       "    </tr>\n",
       "  </thead>\n",
       "  <tbody>\n",
       "    <tr>\n",
       "      <th>0</th>\n",
       "      <td>ICENODE</td>\n",
       "      <td>24</td>\n",
       "      <td>0.000808</td>\n",
       "    </tr>\n",
       "    <tr>\n",
       "      <th>1</th>\n",
       "      <td>ICENODE_UNIFORM</td>\n",
       "      <td>24</td>\n",
       "      <td>0.000808</td>\n",
       "    </tr>\n",
       "    <tr>\n",
       "      <th>2</th>\n",
       "      <td>GRU</td>\n",
       "      <td>19</td>\n",
       "      <td>38.865055</td>\n",
       "    </tr>\n",
       "  </tbody>\n",
       "</table>\n",
       "</div>"
      ],
      "text/plain": [
       "               Clf  Best_i       loss\n",
       "0          ICENODE      24   0.000808\n",
       "1  ICENODE_UNIFORM      24   0.000808\n",
       "2              GRU      19  38.865055"
      ]
     },
     "metadata": {},
     "output_type": "display_data"
    },
    {
     "data": {
      "text/html": [
       "<div>\n",
       "<style scoped>\n",
       "    .dataframe tbody tr th:only-of-type {\n",
       "        vertical-align: middle;\n",
       "    }\n",
       "\n",
       "    .dataframe tbody tr th {\n",
       "        vertical-align: top;\n",
       "    }\n",
       "\n",
       "    .dataframe thead th {\n",
       "        text-align: right;\n",
       "    }\n",
       "</style>\n",
       "<table border=\"1\" class=\"dataframe\">\n",
       "  <thead>\n",
       "    <tr style=\"text-align: right;\">\n",
       "      <th></th>\n",
       "      <th>Clf</th>\n",
       "      <th>Best_i</th>\n",
       "      <th>MICRO-AUC</th>\n",
       "    </tr>\n",
       "  </thead>\n",
       "  <tbody>\n",
       "    <tr>\n",
       "      <th>0</th>\n",
       "      <td>ICENODE</td>\n",
       "      <td>66</td>\n",
       "      <td>0.924722</td>\n",
       "    </tr>\n",
       "    <tr>\n",
       "      <th>1</th>\n",
       "      <td>ICENODE_UNIFORM</td>\n",
       "      <td>68</td>\n",
       "      <td>0.924760</td>\n",
       "    </tr>\n",
       "    <tr>\n",
       "      <th>2</th>\n",
       "      <td>GRU</td>\n",
       "      <td>47</td>\n",
       "      <td>0.923149</td>\n",
       "    </tr>\n",
       "  </tbody>\n",
       "</table>\n",
       "</div>"
      ],
      "text/plain": [
       "               Clf  Best_i  MICRO-AUC\n",
       "0          ICENODE      66   0.924722\n",
       "1  ICENODE_UNIFORM      68   0.924760\n",
       "2              GRU      47   0.923149"
      ]
     },
     "metadata": {},
     "output_type": "display_data"
    }
   ],
   "source": [
    "# Classifiers with Linear Embeddings\n",
    "clfs = (\n",
    "    'ICENODE', \n",
    "    'ICENODE_UNIFORM',\n",
    "    'GRU',\n",
    "    'RETAIN'\n",
    ")\n",
    "\n",
    "\n",
    "# Classifiers with GRAM Embeddings\n",
    "clfsG = (\n",
    "    'ICENODE', \n",
    "    'ICENODE_UNIFORM',\n",
    "    'GRU'\n",
    ")\n",
    "\n",
    "print('> Models trained on MIMIC-IV')\n",
    "m4_config_minloss, m4_params_minloss, m4_df_minloss = get_trained_models('M4', clfs, 'loss', comp=min)\n",
    "m4_config_maxauc, m4_params_maxauc, m4_df_maxauc = get_trained_models('M4', clfs, 'MICRO-AUC', comp=max)\n",
    "\n",
    "print('> Models trained on MIMIC-III')\n",
    "m3_config_minloss, m3_params_minloss, m3_df_minloss = get_trained_models('M3', clfs, 'loss', comp=min)\n",
    "m3_config_maxauc, m3_params_maxauc, m3_df_maxauc = get_trained_models('M3', clfs, 'MICRO-AUC', comp=max)\n",
    "\n",
    "\n",
    "print('> Models (GRAM) trained on MIMIC-III')\n",
    "m3_config_minlossG, m3_params_minlossG, m3_df_minlossG = get_trained_models('GM3', clfsG, 'loss', comp=min)\n",
    "m3_config_maxaucG, m3_params_maxaucG, m3_df_maxaucG = get_trained_models('GM3', clfsG, 'MICRO-AUC', comp=max)\n"
   ]
  },
  {
   "cell_type": "code",
   "execution_count": 8,
   "id": "6ad6ecc6",
   "metadata": {},
   "outputs": [],
   "source": [
    "m4_models_minloss = get_models(clfs, m4_config_minloss, m4_params_minloss, m4_interface)\n",
    "m4_models_maxauc = get_models(clfs, m4_config_maxauc, m4_params_maxauc, m4_interface)\n",
    "\n",
    "m3_models_minloss = get_models(clfs, m3_config_minloss, m3_params_minloss, m3_interface)\n",
    "m3_models_maxauc = get_models(clfs, m3_config_maxauc, m3_params_maxauc, m3_interface)\n",
    "\n",
    "m3_models_minlossG = get_models(clfsG, m3_config_minlossG, m3_params_minlossG, m3_interface)\n",
    "m3_models_maxaucG = get_models(clfsG, m3_config_maxaucG, m3_params_maxaucG, m3_interface)"
   ]
  },
  {
   "cell_type": "markdown",
   "id": "671801dd",
   "metadata": {},
   "source": [
    "### Snooping on MIMIC-III Validation Set"
   ]
  },
  {
   "cell_type": "code",
   "execution_count": 9,
   "id": "324a57b6",
   "metadata": {},
   "outputs": [
    {
     "name": "stderr",
     "output_type": "stream",
     "text": [
      "  0%|                                                                                                                                                                              | 0/242 [00:00<?, ?it/s]/home/asem/GP/ICENODE/analysis/../icenode/delong.py:203: RuntimeWarning: invalid value encountered in true_divide\n",
      "  z = np.abs(np.diff(aucs)) / np.sqrt(np.dot(np.dot(l, sigma), l.T))\n",
      "100%|████████████████████████████████████████████████████████████████████████████████████████████████████████████████████████████████████████████████████████████████████| 242/242 [00:06<00:00, 37.01it/s]\n",
      "100%|████████████████████████████████████████████████████████████████████████████████████████████████████████████████████████████████████████████████████████████████████| 242/242 [00:06<00:00, 37.20it/s]\n",
      "100%|████████████████████████████████████████████████████████████████████████████████████████████████████████████████████████████████████████████████████████████████████| 242/242 [00:03<00:00, 74.95it/s]\n",
      "100%|████████████████████████████████████████████████████████████████████████████████████████████████████████████████████████████████████████████████████████████████████| 242/242 [00:03<00:00, 75.01it/s]\n"
     ]
    }
   ],
   "source": [
    "m3_val_res_minloss = {clf: eval_(model, m3_valid_ids) for clf, model in m3_models_minloss.items()} \n",
    "m3_val_res_maxauc = {clf: eval_(model, m3_valid_ids) for clf, model in m3_models_maxauc.items()} \n",
    "\n",
    "m3_val_res_minlossG = {clf: eval_(model, m3_valid_ids) for clf, model in m3_models_minlossG.items()} \n",
    "m3_val_res_maxaucG = {clf: eval_(model, m3_valid_ids) for clf, model in m3_models_maxaucG.items()} \n",
    "\n",
    "\n",
    "m3_val_auctests_minloss = codes_auc_pairwise_tests(m3_val_res_minloss, fast=True)\n",
    "m3_val_auctests_maxauc = codes_auc_pairwise_tests(m3_val_res_maxauc, fast=True)\n",
    "m3_val_auctests_minlossG = codes_auc_pairwise_tests(m3_val_res_minlossG, fast=True)\n",
    "m3_val_auctests_maxaucG = codes_auc_pairwise_tests(m3_val_res_maxaucG, fast=True)\n",
    "\n",
    "\n",
    "m3_val_res_all = {**{f'{k}_loss': v for k, v in m3_val_res_minloss.items()},\n",
    "               **{f'{k}_uAUC': v for k, v in m3_val_res_maxauc.items()}}\n",
    "\n",
    "m3_val_res_allG = {**{f'{k}_loss': v for k, v in m3_val_res_minlossG.items()},\n",
    "               **{f'{k}_uAUC': v for k, v in m3_val_res_maxaucG.items()}}"
   ]
  },
  {
   "cell_type": "code",
   "execution_count": 10,
   "id": "b2dd9c7c",
   "metadata": {},
   "outputs": [
    {
     "name": "stderr",
     "output_type": "stream",
     "text": [
      "100%|████████████████████████████████████████████████████████████████████████████████████████████████████████████████████████████████████████████████████████████████████| 242/242 [00:29<00:00,  8.20it/s]\n",
      "100%|████████████████████████████████████████████████████████████████████████████████████████████████████████████████████████████████████████████████████████████████████| 242/242 [00:15<00:00, 15.29it/s]\n"
     ]
    }
   ],
   "source": [
    "m3_val_auctests_all = codes_auc_pairwise_tests(m3_val_res_all, fast=True)\n",
    "m3_val_auctests_allG = codes_auc_pairwise_tests(m3_val_res_allG, fast=True)"
   ]
  },
  {
   "cell_type": "code",
   "execution_count": 67,
   "id": "846a21ae",
   "metadata": {},
   "outputs": [
    {
     "data": {
      "image/png": "[encoded data removed]",
      "text/plain": [
       "<Figure size 896x544 with 5 Axes>"
      ]
     },
     "metadata": {
      "needs_background": "light"
     },
     "output_type": "display_data"
    }
   ],
   "source": [
    "\n",
    "selected_clfs = tuple(sorted(m3_val_res_all.keys()))\n",
    "content_set, indicator_df, data, common_codes, dichotomous_codes = relative_performance_upset(m3_val_auctests_all, selected_clfs, m3_interface[clfs[0]], **relative_auc_config)\n",
    "upset_format = from_indicators(indicator_df, data=data)\n",
    "upset_object = UpSet(upset_format, subset_size='count', show_counts=True)\n",
    "upset_object.add_catplot(value='AVG_AUC', kind=\"violin\")\n",
    "upset_object.plot()\n",
    "plt.show()"
   ]
  },
  {
   "cell_type": "markdown",
   "id": "1abefc5e",
   "metadata": {},
   "source": [
    "### Snooping on MIMIC-IV Validation Set"
   ]
  },
  {
   "cell_type": "code",
   "execution_count": 12,
   "id": "1cefe722",
   "metadata": {},
   "outputs": [
    {
     "name": "stderr",
     "output_type": "stream",
     "text": [
      "100%|████████████████████████████████████████████████████████████████████████████████████████████████████████████████████████████████████████████████████████████████████| 242/242 [03:33<00:00,  1.13it/s]\n",
      "100%|████████████████████████████████████████████████████████████████████████████████████████████████████████████████████████████████████████████████████████████████████| 242/242 [03:32<00:00,  1.14it/s]\n"
     ]
    }
   ],
   "source": [
    "m4_val_res_minloss = {clf: eval_(model, m4_valid_ids) for clf, model in m4_models_minloss.items()} \n",
    "m4_val_res_maxauc = {clf: eval_(model, m4_valid_ids) for clf, model in m4_models_maxauc.items()} \n",
    "\n",
    "m4_val_auctests_minloss = codes_auc_pairwise_tests(m4_val_res_minloss, fast=True)\n",
    "m4_val_auctests_maxauc = codes_auc_pairwise_tests(m4_val_res_maxauc, fast=True)\n",
    "\n",
    "m4_val_res_all = {**{f'{k}_loss': v for k, v in m4_val_res_minloss.items()},\n",
    "                  **{f'{k}_uAUC': v for k, v in m4_val_res_maxauc.items()}}"
   ]
  },
  {
   "cell_type": "code",
   "execution_count": 69,
   "id": "6906ce7c",
   "metadata": {},
   "outputs": [
    {
     "name": "stderr",
     "output_type": "stream",
     "text": [
      "100%|████████████████████████████████████████████████████████████████████████████████████████████████████████████████████████████████████████████████████████████████████| 242/242 [16:20<00:00,  4.05s/it]\n"
     ]
    }
   ],
   "source": [
    "m4_val_auctests_all = codes_auc_pairwise_tests(m4_val_res_all, fast=True)"
   ]
  },
  {
   "cell_type": "code",
   "execution_count": 71,
   "id": "03eb1074",
   "metadata": {},
   "outputs": [
    {
     "data": {
      "image/png": "[encoded data removed]",
      "text/plain": [
       "<Figure size 1280x544 with 5 Axes>"
      ]
     },
     "metadata": {
      "needs_background": "light"
     },
     "output_type": "display_data"
    }
   ],
   "source": [
    "selected_clfs = tuple(sorted(m4_val_res_all.keys()))\n",
    "content_set, indicator_df, data, common_codes, dichotomous_codes = relative_performance_upset(m4_val_auctests_all, selected_clfs, m4_interface[clfs[0]], **relative_auc_config)\n",
    "upset_format = from_indicators(indicator_df, data=data)\n",
    "upset_object = UpSet(upset_format, subset_size='count', show_counts=True)\n",
    "upset_object.add_catplot(value='AVG_AUC', kind=\"violin\")\n",
    "upset_object.plot()\n",
    "plt.show()"
   ]
  },
  {
   "cell_type": "markdown",
   "id": "58168a0c",
   "metadata": {},
   "source": [
    "### Snooping Conclusion\n",
    "\n",
    "In the cells above, we evaluate the model competency by the number of codes\n",
    "predicted competently compared to the other models.\n",
    "It is realized that for `GRU`, `RETAIN`, and `ICENODE_UNIFORM`, the competency is maximized by picking the\n",
    "model with minimum validation loss throughout the training iterations.\n",
    "However, `ICENODE` competency is maximized by picking the model with maximum average validation AUC throughout the training iterations. Therefore, subsequent evaluations will consider only the most competent models on the validation set, as we select in the next cell."
   ]
  },
  {
   "cell_type": "code",
   "execution_count": 83,
   "id": "3eda8ad0",
   "metadata": {},
   "outputs": [],
   "source": [
    "m4_config = {}\n",
    "m4_params = {}\n",
    "m4_eval = {}\n",
    "\n",
    "m3_config = {}\n",
    "m3_params = {}\n",
    "m3_eval = {}\n",
    "\n",
    "gm3_config = {}\n",
    "gm3_params = {}\n",
    "gm3_eval = {}\n",
    "\n",
    "selection_dicts = (m4_config, m4_params, m4_eval, \n",
    "                   m3_config, m3_params, m3_eval, \n",
    "                   gm3_config, gm3_params, gm3_eval)\n",
    "\n",
    "maxauc_dicts = (m4_config_maxauc, m4_params_maxauc, m4_df_maxauc,\n",
    "                m3_config_maxauc, m3_params_maxauc, m3_df_maxauc,\n",
    "                m3_config_maxaucG, m3_params_maxaucG, m3_df_maxaucG)\n",
    "\n",
    "minloss_dicts = (m4_config_minloss, m4_params_minloss, m4_df_minloss,\n",
    "                 m3_config_minloss, m3_params_minloss, m3_df_minloss,\n",
    "                 m3_config_minlossG, m3_params_minlossG, m3_df_minlossG)\n",
    "\n",
    "for clf in ('GRU', 'RETAIN', 'ICENODE', 'ICENODE_UNIFORM'):\n",
    "    \n",
    "#     if clf == 'ICENODE':\n",
    "#         best_dicts = maxauc_dicts\n",
    "#     else:\n",
    "    best_dicts = minloss_dicts\n",
    "        \n",
    "    for dict_a, dict_b in zip(selection_dicts, best_dicts):\n",
    "        if clf in dict_b:\n",
    "            dict_a[clf] = dict_b[clf]\n",
    "\n",
    "# for dict_a, dict_b in zip(selection_dicts, maxauc_dicts):\n",
    "#     dict_a['ICENODE'] = dict_b['ICENODE']"
   ]
  },
  {
   "cell_type": "markdown",
   "id": "bc6f05b4",
   "metadata": {},
   "source": [
    "<a name=\"sec2\"></a>\n",
    "\n",
    "## 2 Top-20 Detection Accuracy on MIMIC-III (Test Set) [^](#outline)"
   ]
  },
  {
   "cell_type": "code",
   "execution_count": 84,
   "id": "f15046e7",
   "metadata": {},
   "outputs": [],
   "source": [
    "import numpy as np\n",
    "pd.set_option('precision', 3)\n",
    "\n",
    "def highlight_max(s, props=''):\n",
    "    return np.where(s == np.nanmax(s.values), props, '')\n",
    "\n",
    "def test_eval_table(dfs, metric):\n",
    "    data = {}\n",
    "    clfs = dfs.keys()\n",
    "    for clf, df in dfs.items():\n",
    "        data[clf] = df.loc[metric, \"TST\"].tolist()\n",
    "    return pd.DataFrame(data=data, index=metric).transpose()"
   ]
  },
  {
   "cell_type": "code",
   "execution_count": 88,
   "id": "8241eae5",
   "metadata": {},
   "outputs": [
    {
     "data": {
      "text/html": [
       "<style type=\"text/css\">\n",
       "#T_eddae_row0_col2, #T_eddae_row1_col2, #T_eddae_row3_col0, #T_eddae_row3_col1, #T_eddae_row3_col3, #T_eddae_row3_col4 {\n",
       "  bfseries: ;\n",
       "  color: white;\n",
       "  background-color: darkblue;\n",
       "}\n",
       "</style>\n",
       "<table id=\"T_eddae_\">\n",
       "  <thead>\n",
       "    <tr>\n",
       "      <th class=\"blank level0\" >&nbsp;</th>\n",
       "      <th class=\"col_heading level0 col0\" >ACC-P0</th>\n",
       "      <th class=\"col_heading level0 col1\" >ACC-P1</th>\n",
       "      <th class=\"col_heading level0 col2\" >ACC-P2</th>\n",
       "      <th class=\"col_heading level0 col3\" >ACC-P3</th>\n",
       "      <th class=\"col_heading level0 col4\" >ACC-P4</th>\n",
       "    </tr>\n",
       "  </thead>\n",
       "  <tbody>\n",
       "    <tr>\n",
       "      <th id=\"T_eddae_level0_row0\" class=\"row_heading level0 row0\" >ICENODE</th>\n",
       "      <td id=\"T_eddae_row0_col0\" class=\"data row0 col0\" >0.230</td>\n",
       "      <td id=\"T_eddae_row0_col1\" class=\"data row0 col1\" >0.496</td>\n",
       "      <td id=\"T_eddae_row0_col2\" class=\"data row0 col2\" >0.691</td>\n",
       "      <td id=\"T_eddae_row0_col3\" class=\"data row0 col3\" >0.859</td>\n",
       "      <td id=\"T_eddae_row0_col4\" class=\"data row0 col4\" >0.958</td>\n",
       "    </tr>\n",
       "    <tr>\n",
       "      <th id=\"T_eddae_level0_row1\" class=\"row_heading level0 row1\" >ICENODE_UNIFORM</th>\n",
       "      <td id=\"T_eddae_row1_col0\" class=\"data row1 col0\" >0.230</td>\n",
       "      <td id=\"T_eddae_row1_col1\" class=\"data row1 col1\" >0.496</td>\n",
       "      <td id=\"T_eddae_row1_col2\" class=\"data row1 col2\" >0.691</td>\n",
       "      <td id=\"T_eddae_row1_col3\" class=\"data row1 col3\" >0.859</td>\n",
       "      <td id=\"T_eddae_row1_col4\" class=\"data row1 col4\" >0.958</td>\n",
       "    </tr>\n",
       "    <tr>\n",
       "      <th id=\"T_eddae_level0_row2\" class=\"row_heading level0 row2\" >GRU</th>\n",
       "      <td id=\"T_eddae_row2_col0\" class=\"data row2 col0\" >0.212</td>\n",
       "      <td id=\"T_eddae_row2_col1\" class=\"data row2 col1\" >0.481</td>\n",
       "      <td id=\"T_eddae_row2_col2\" class=\"data row2 col2\" >0.673</td>\n",
       "      <td id=\"T_eddae_row2_col3\" class=\"data row2 col3\" >0.870</td>\n",
       "      <td id=\"T_eddae_row2_col4\" class=\"data row2 col4\" >0.964</td>\n",
       "    </tr>\n",
       "    <tr>\n",
       "      <th id=\"T_eddae_level0_row3\" class=\"row_heading level0 row3\" >RETAIN</th>\n",
       "      <td id=\"T_eddae_row3_col0\" class=\"data row3 col0\" >0.238</td>\n",
       "      <td id=\"T_eddae_row3_col1\" class=\"data row3 col1\" >0.499</td>\n",
       "      <td id=\"T_eddae_row3_col2\" class=\"data row3 col2\" >0.690</td>\n",
       "      <td id=\"T_eddae_row3_col3\" class=\"data row3 col3\" >0.877</td>\n",
       "      <td id=\"T_eddae_row3_col4\" class=\"data row3 col4\" >0.973</td>\n",
       "    </tr>\n",
       "    <tr>\n",
       "      <th id=\"T_eddae_level0_row4\" class=\"row_heading level0 row4\" >ICENODE/G</th>\n",
       "      <td id=\"T_eddae_row4_col0\" class=\"data row4 col0\" >0.221</td>\n",
       "      <td id=\"T_eddae_row4_col1\" class=\"data row4 col1\" >0.493</td>\n",
       "      <td id=\"T_eddae_row4_col2\" class=\"data row4 col2\" >0.671</td>\n",
       "      <td id=\"T_eddae_row4_col3\" class=\"data row4 col3\" >0.870</td>\n",
       "      <td id=\"T_eddae_row4_col4\" class=\"data row4 col4\" >0.952</td>\n",
       "    </tr>\n",
       "    <tr>\n",
       "      <th id=\"T_eddae_level0_row5\" class=\"row_heading level0 row5\" >ICENODE_UNIFORM/G</th>\n",
       "      <td id=\"T_eddae_row5_col0\" class=\"data row5 col0\" >0.217</td>\n",
       "      <td id=\"T_eddae_row5_col1\" class=\"data row5 col1\" >0.493</td>\n",
       "      <td id=\"T_eddae_row5_col2\" class=\"data row5 col2\" >0.674</td>\n",
       "      <td id=\"T_eddae_row5_col3\" class=\"data row5 col3\" >0.867</td>\n",
       "      <td id=\"T_eddae_row5_col4\" class=\"data row5 col4\" >0.955</td>\n",
       "    </tr>\n",
       "    <tr>\n",
       "      <th id=\"T_eddae_level0_row6\" class=\"row_heading level0 row6\" >GRU/G</th>\n",
       "      <td id=\"T_eddae_row6_col0\" class=\"data row6 col0\" >0.224</td>\n",
       "      <td id=\"T_eddae_row6_col1\" class=\"data row6 col1\" >0.483</td>\n",
       "      <td id=\"T_eddae_row6_col2\" class=\"data row6 col2\" >0.677</td>\n",
       "      <td id=\"T_eddae_row6_col3\" class=\"data row6 col3\" >0.863</td>\n",
       "      <td id=\"T_eddae_row6_col4\" class=\"data row6 col4\" >0.959</td>\n",
       "    </tr>\n",
       "  </tbody>\n",
       "</table>\n"
      ],
      "text/plain": [
       "<pandas.io.formats.style.Styler at 0x7f5b7715dbe0>"
      ]
     },
     "execution_count": 88,
     "metadata": {},
     "output_type": "execute_result"
    }
   ],
   "source": [
    "# Pick the best models results from max_auc and min_loss snapshots on the validation data.\n",
    "\n",
    "\n",
    "\n",
    "df_acc20 = {\n",
    "    **{clf: m3_eval[clf] for clf in ('ICENODE', 'ICENODE_UNIFORM', 'GRU', 'RETAIN')},\n",
    "    **{f'{clf}/G': gm3_eval[clf] for clf in ('ICENODE', 'ICENODE_UNIFORM', 'GRU')},\n",
    "}\n",
    "\n",
    "df_acc20 = test_eval_table(df_acc20, list(f'ACC-P{i}' for i in range(5)))\n",
    "df_acc20 = df_acc20.apply(lambda x: round(x, 3))\n",
    "df_acc20.to_csv(f'acc20_mimic3.csv')\n",
    "\n",
    "s_acc20 = df_acc20.style\n",
    "s_acc20 = s_acc20.apply(highlight_max, props='bfseries: ;color:white;background-color:darkblue', axis=0)\n",
    "s_acc20\n",
    "# print(df_acc20.apply(lambda x: round(x, 3)).style.highlight_max(axis=0, props='bfseries: ;').to_latex())"
   ]
  },
  {
   "cell_type": "markdown",
   "id": "52f1d11a",
   "metadata": {},
   "source": [
    "<a name=\"sec3\"></a>\n",
    "\n",
    "## 3 Top-20 Detection Accuracy on MIMIC-IV (Test Set) [^](#outline)"
   ]
  },
  {
   "cell_type": "code",
   "execution_count": 89,
   "id": "327f332c",
   "metadata": {},
   "outputs": [
    {
     "data": {
      "text/html": [
       "<style type=\"text/css\">\n",
       "#T_42191_row0_col0, #T_42191_row2_col1, #T_42191_row2_col2, #T_42191_row3_col3, #T_42191_row3_col4 {\n",
       "  bfseries: ;\n",
       "  color: white;\n",
       "  background-color: darkblue;\n",
       "}\n",
       "</style>\n",
       "<table id=\"T_42191_\">\n",
       "  <thead>\n",
       "    <tr>\n",
       "      <th class=\"blank level0\" >&nbsp;</th>\n",
       "      <th class=\"col_heading level0 col0\" >ACC-P0</th>\n",
       "      <th class=\"col_heading level0 col1\" >ACC-P1</th>\n",
       "      <th class=\"col_heading level0 col2\" >ACC-P2</th>\n",
       "      <th class=\"col_heading level0 col3\" >ACC-P3</th>\n",
       "      <th class=\"col_heading level0 col4\" >ACC-P4</th>\n",
       "    </tr>\n",
       "  </thead>\n",
       "  <tbody>\n",
       "    <tr>\n",
       "      <th id=\"T_42191_level0_row0\" class=\"row_heading level0 row0\" >ICENODE</th>\n",
       "      <td id=\"T_42191_row0_col0\" class=\"data row0 col0\" >0.406</td>\n",
       "      <td id=\"T_42191_row0_col1\" class=\"data row0 col1\" >0.549</td>\n",
       "      <td id=\"T_42191_row0_col2\" class=\"data row0 col2\" >0.697</td>\n",
       "      <td id=\"T_42191_row0_col3\" class=\"data row0 col3\" >0.873</td>\n",
       "      <td id=\"T_42191_row0_col4\" class=\"data row0 col4\" >0.943</td>\n",
       "    </tr>\n",
       "    <tr>\n",
       "      <th id=\"T_42191_level0_row1\" class=\"row_heading level0 row1\" >ICENODE_UNIFORM</th>\n",
       "      <td id=\"T_42191_row1_col0\" class=\"data row1 col0\" >0.401</td>\n",
       "      <td id=\"T_42191_row1_col1\" class=\"data row1 col1\" >0.540</td>\n",
       "      <td id=\"T_42191_row1_col2\" class=\"data row1 col2\" >0.691</td>\n",
       "      <td id=\"T_42191_row1_col3\" class=\"data row1 col3\" >0.870</td>\n",
       "      <td id=\"T_42191_row1_col4\" class=\"data row1 col4\" >0.946</td>\n",
       "    </tr>\n",
       "    <tr>\n",
       "      <th id=\"T_42191_level0_row2\" class=\"row_heading level0 row2\" >GRU</th>\n",
       "      <td id=\"T_42191_row2_col0\" class=\"data row2 col0\" >0.396</td>\n",
       "      <td id=\"T_42191_row2_col1\" class=\"data row2 col1\" >0.558</td>\n",
       "      <td id=\"T_42191_row2_col2\" class=\"data row2 col2\" >0.733</td>\n",
       "      <td id=\"T_42191_row2_col3\" class=\"data row2 col3\" >0.896</td>\n",
       "      <td id=\"T_42191_row2_col4\" class=\"data row2 col4\" >0.950</td>\n",
       "    </tr>\n",
       "    <tr>\n",
       "      <th id=\"T_42191_level0_row3\" class=\"row_heading level0 row3\" >RETAIN</th>\n",
       "      <td id=\"T_42191_row3_col0\" class=\"data row3 col0\" >0.393</td>\n",
       "      <td id=\"T_42191_row3_col1\" class=\"data row3 col1\" >0.541</td>\n",
       "      <td id=\"T_42191_row3_col2\" class=\"data row3 col2\" >0.725</td>\n",
       "      <td id=\"T_42191_row3_col3\" class=\"data row3 col3\" >0.903</td>\n",
       "      <td id=\"T_42191_row3_col4\" class=\"data row3 col4\" >0.962</td>\n",
       "    </tr>\n",
       "  </tbody>\n",
       "</table>\n"
      ],
      "text/plain": [
       "<pandas.io.formats.style.Styler at 0x7f5b73f6ee20>"
      ]
     },
     "execution_count": 89,
     "metadata": {},
     "output_type": "execute_result"
    }
   ],
   "source": [
    "# Pick the best models results from max_auc and min_loss snapshots on the validation data.\n",
    "df_acc20 = {\n",
    "    clf: m4_eval[clf] for clf in ('ICENODE', 'ICENODE_UNIFORM', 'GRU', 'RETAIN')\n",
    "}\n",
    "\n",
    "df_acc20 = test_eval_table(df_acc20, list(f'ACC-P{i}' for i in range(5)))\n",
    "df_acc20 = df_acc20.apply(lambda x: round(x, 3))\n",
    "df_acc20.to_csv(f'acc20_mimic5.csv')\n",
    "\n",
    "s_acc20 = df_acc20.style\n",
    "s_acc20 = s_acc20.apply(highlight_max, props='bfseries: ;color:white;background-color:darkblue', axis=0)\n",
    "s_acc20"
   ]
  },
  {
   "cell_type": "markdown",
   "id": "f6323308",
   "metadata": {},
   "source": [
    "<a name=\"sec4\"></a>\n",
    "\n",
    "## 4 Relative AUC Performance on MIMIC-III (Test Set) [^](#outline)"
   ]
  },
  {
   "cell_type": "code",
   "execution_count": 90,
   "id": "7ff5b1ff",
   "metadata": {},
   "outputs": [],
   "source": [
    "relauc_clfs =  ('ICENODE', 'ICENODE_UNIFORM', 'GRU', 'RETAIN')\n",
    "m3_predictors = {clf: cross_predictor(clf, 'M3', 'M3') for clf in relauc_clfs}\n",
    "test_res_m3 = {clf: eval2_(model, m3_test_ids) for clf, model in m3_predictors.items()} "
   ]
  },
  {
   "cell_type": "code",
   "execution_count": 91,
   "id": "43f74ca2",
   "metadata": {},
   "outputs": [
    {
     "name": "stderr",
     "output_type": "stream",
     "text": [
      "  0%|                                                                                                                                                                              | 0/242 [00:00<?, ?it/s]/home/asem/GP/ICENODE/analysis/../icenode/delong.py:203: RuntimeWarning: invalid value encountered in true_divide\n",
      "  z = np.abs(np.diff(aucs)) / np.sqrt(np.dot(np.dot(l, sigma), l.T))\n",
      "100%|████████████████████████████████████████████████████████████████████████████████████████████████████████████████████████████████████████████████████████████████████| 242/242 [00:06<00:00, 35.34it/s]\n"
     ]
    }
   ],
   "source": [
    "auctests_m3 = codes_auc_pairwise_tests({k: v['diag_detectability'] for k, v in test_res_m3.items()}, fast=True)\n"
   ]
  },
  {
   "cell_type": "code",
   "execution_count": 92,
   "id": "dee80b1f",
   "metadata": {},
   "outputs": [
    {
     "data": {
      "image/png": "[encoded data removed]",
      "text/plain": [
       "<Figure size 256x288 with 4 Axes>"
      ]
     },
     "metadata": {
      "needs_background": "light"
     },
     "output_type": "display_data"
    },
    {
     "data": {
      "text/plain": [
       "<Figure size 432x288 with 0 Axes>"
      ]
     },
     "metadata": {},
     "output_type": "display_data"
    }
   ],
   "source": [
    "upset_clfs = ('ICENODE',  'GRU', 'RETAIN')\n",
    "\n",
    "upsetcontents_m3, upsetindicator_m3, data_m3,  _, compete_codesm3 = relative_performance_upset(auctests_m3, upset_clfs, m3_interface[clfs[0]], **relative_auc_config)\n",
    "upset_format = from_indicators(upsetindicator_m3, data=data_m3)\n",
    "upset_object = UpSet(upset_format, subset_size='count', show_counts=True)\n",
    "# upset_object.add_catplot(value='AVG_AUC', kind=\"violin\")\n",
    "# upset_object.add_catplot(value='N_CODES', kind=\"violin\")\n",
    "upset_object.plot()\n",
    "plt.show()\n",
    "current_figure = plt.gcf()\n",
    "current_figure.savefig(f\"upset_M3.pdf\")"
   ]
  },
  {
   "cell_type": "markdown",
   "id": "30d43833",
   "metadata": {},
   "source": [
    "<a name=\"sec5\"></a>\n",
    "\n",
    "## 5 Relative AUC Performance on MIMIC-IV (Test Set) [^](#outline)"
   ]
  },
  {
   "cell_type": "code",
   "execution_count": 93,
   "id": "ede2567e",
   "metadata": {},
   "outputs": [
    {
     "ename": "KeyboardInterrupt",
     "evalue": "",
     "output_type": "error",
     "traceback": [
      "\u001b[0;31m---------------------------------------------------------------------------\u001b[0m",
      "\u001b[0;31mKeyboardInterrupt\u001b[0m                         Traceback (most recent call last)",
      "\u001b[0;32m/tmp/ipykernel_25934/3597645084.py\u001b[0m in \u001b[0;36m<module>\u001b[0;34m\u001b[0m\n\u001b[1;32m      1\u001b[0m \u001b[0mrelauc_clfs\u001b[0m \u001b[0;34m=\u001b[0m  \u001b[0;34m(\u001b[0m\u001b[0;34m'ICENODE'\u001b[0m\u001b[0;34m,\u001b[0m \u001b[0;34m'ICENODE_UNIFORM'\u001b[0m\u001b[0;34m,\u001b[0m \u001b[0;34m'GRU'\u001b[0m\u001b[0;34m,\u001b[0m \u001b[0;34m'RETAIN'\u001b[0m\u001b[0;34m)\u001b[0m\u001b[0;34m\u001b[0m\u001b[0;34m\u001b[0m\u001b[0m\n\u001b[1;32m      2\u001b[0m \u001b[0mm4_predictors\u001b[0m \u001b[0;34m=\u001b[0m \u001b[0;34m{\u001b[0m\u001b[0mclf\u001b[0m\u001b[0;34m:\u001b[0m \u001b[0mcross_predictor\u001b[0m\u001b[0;34m(\u001b[0m\u001b[0mclf\u001b[0m\u001b[0;34m,\u001b[0m \u001b[0;34m'M4'\u001b[0m\u001b[0;34m,\u001b[0m \u001b[0;34m'M4'\u001b[0m\u001b[0;34m)\u001b[0m \u001b[0;32mfor\u001b[0m \u001b[0mclf\u001b[0m \u001b[0;32min\u001b[0m \u001b[0mrelauc_clfs\u001b[0m\u001b[0;34m}\u001b[0m\u001b[0;34m\u001b[0m\u001b[0;34m\u001b[0m\u001b[0m\n\u001b[0;32m----> 3\u001b[0;31m \u001b[0mtest_res_m4\u001b[0m \u001b[0;34m=\u001b[0m \u001b[0;34m{\u001b[0m\u001b[0mclf\u001b[0m\u001b[0;34m:\u001b[0m \u001b[0meval2_\u001b[0m\u001b[0;34m(\u001b[0m\u001b[0mmodel\u001b[0m\u001b[0;34m,\u001b[0m \u001b[0mm4_test_ids\u001b[0m\u001b[0;34m)\u001b[0m \u001b[0;32mfor\u001b[0m \u001b[0mclf\u001b[0m\u001b[0;34m,\u001b[0m \u001b[0mmodel\u001b[0m \u001b[0;32min\u001b[0m \u001b[0mm4_predictors\u001b[0m\u001b[0;34m.\u001b[0m\u001b[0mitems\u001b[0m\u001b[0;34m(\u001b[0m\u001b[0;34m)\u001b[0m\u001b[0;34m}\u001b[0m\u001b[0;34m\u001b[0m\u001b[0;34m\u001b[0m\u001b[0m\n\u001b[0m",
      "\u001b[0;32m/tmp/ipykernel_25934/3597645084.py\u001b[0m in \u001b[0;36m<dictcomp>\u001b[0;34m(.0)\u001b[0m\n\u001b[1;32m      1\u001b[0m \u001b[0mrelauc_clfs\u001b[0m \u001b[0;34m=\u001b[0m  \u001b[0;34m(\u001b[0m\u001b[0;34m'ICENODE'\u001b[0m\u001b[0;34m,\u001b[0m \u001b[0;34m'ICENODE_UNIFORM'\u001b[0m\u001b[0;34m,\u001b[0m \u001b[0;34m'GRU'\u001b[0m\u001b[0;34m,\u001b[0m \u001b[0;34m'RETAIN'\u001b[0m\u001b[0;34m)\u001b[0m\u001b[0;34m\u001b[0m\u001b[0;34m\u001b[0m\u001b[0m\n\u001b[1;32m      2\u001b[0m \u001b[0mm4_predictors\u001b[0m \u001b[0;34m=\u001b[0m \u001b[0;34m{\u001b[0m\u001b[0mclf\u001b[0m\u001b[0;34m:\u001b[0m \u001b[0mcross_predictor\u001b[0m\u001b[0;34m(\u001b[0m\u001b[0mclf\u001b[0m\u001b[0;34m,\u001b[0m \u001b[0;34m'M4'\u001b[0m\u001b[0;34m,\u001b[0m \u001b[0;34m'M4'\u001b[0m\u001b[0;34m)\u001b[0m \u001b[0;32mfor\u001b[0m \u001b[0mclf\u001b[0m \u001b[0;32min\u001b[0m \u001b[0mrelauc_clfs\u001b[0m\u001b[0;34m}\u001b[0m\u001b[0;34m\u001b[0m\u001b[0;34m\u001b[0m\u001b[0m\n\u001b[0;32m----> 3\u001b[0;31m \u001b[0mtest_res_m4\u001b[0m \u001b[0;34m=\u001b[0m \u001b[0;34m{\u001b[0m\u001b[0mclf\u001b[0m\u001b[0;34m:\u001b[0m \u001b[0meval2_\u001b[0m\u001b[0;34m(\u001b[0m\u001b[0mmodel\u001b[0m\u001b[0;34m,\u001b[0m \u001b[0mm4_test_ids\u001b[0m\u001b[0;34m)\u001b[0m \u001b[0;32mfor\u001b[0m \u001b[0mclf\u001b[0m\u001b[0;34m,\u001b[0m \u001b[0mmodel\u001b[0m \u001b[0;32min\u001b[0m \u001b[0mm4_predictors\u001b[0m\u001b[0;34m.\u001b[0m\u001b[0mitems\u001b[0m\u001b[0;34m(\u001b[0m\u001b[0;34m)\u001b[0m\u001b[0;34m}\u001b[0m\u001b[0;34m\u001b[0m\u001b[0;34m\u001b[0m\u001b[0m\n\u001b[0m",
      "\u001b[0;32m/tmp/ipykernel_25934/261157359.py\u001b[0m in \u001b[0;36meval2_\u001b[0;34m(model, ids)\u001b[0m\n\u001b[1;32m     47\u001b[0m \u001b[0;32mdef\u001b[0m \u001b[0meval2_\u001b[0m\u001b[0;34m(\u001b[0m\u001b[0mmodel\u001b[0m\u001b[0;34m,\u001b[0m \u001b[0mids\u001b[0m\u001b[0;34m)\u001b[0m\u001b[0;34m:\u001b[0m\u001b[0;34m\u001b[0m\u001b[0;34m\u001b[0m\u001b[0m\n\u001b[1;32m     48\u001b[0m     \u001b[0mmodel\u001b[0m\u001b[0;34m,\u001b[0m \u001b[0mstate\u001b[0m \u001b[0;34m=\u001b[0m \u001b[0mmodel\u001b[0m\u001b[0;34m\u001b[0m\u001b[0;34m\u001b[0m\u001b[0m\n\u001b[0;32m---> 49\u001b[0;31m     \u001b[0;32mreturn\u001b[0m \u001b[0mmodel\u001b[0m\u001b[0;34m.\u001b[0m\u001b[0meval\u001b[0m\u001b[0;34m(\u001b[0m\u001b[0mstate\u001b[0m\u001b[0;34m,\u001b[0m \u001b[0mids\u001b[0m\u001b[0;34m)\u001b[0m\u001b[0;34m\u001b[0m\u001b[0;34m\u001b[0m\u001b[0m\n\u001b[0m\u001b[1;32m     50\u001b[0m \u001b[0;34m\u001b[0m\u001b[0m\n\u001b[1;32m     51\u001b[0m \u001b[0;34m\u001b[0m\u001b[0m\n",
      "\u001b[0;32m~/GP/ICENODE/analysis/../icenode/abstract_model.py\u001b[0m in \u001b[0;36meval\u001b[0;34m(self, opt_obj, batch)\u001b[0m\n\u001b[1;32m     31\u001b[0m         \u001b[0mloss_mixing\u001b[0m \u001b[0;34m=\u001b[0m \u001b[0mopt_obj\u001b[0m\u001b[0;34m[\u001b[0m\u001b[0;34m-\u001b[0m\u001b[0;36m1\u001b[0m\u001b[0;34m]\u001b[0m\u001b[0;34m\u001b[0m\u001b[0;34m\u001b[0m\u001b[0m\n\u001b[1;32m     32\u001b[0m         \u001b[0mparams\u001b[0m \u001b[0;34m=\u001b[0m \u001b[0mself\u001b[0m\u001b[0;34m.\u001b[0m\u001b[0mget_params\u001b[0m\u001b[0;34m(\u001b[0m\u001b[0mopt_obj\u001b[0m\u001b[0;34m)\u001b[0m\u001b[0;34m\u001b[0m\u001b[0;34m\u001b[0m\u001b[0m\n\u001b[0;32m---> 33\u001b[0;31m         \u001b[0mres\u001b[0m \u001b[0;34m=\u001b[0m \u001b[0mself\u001b[0m\u001b[0;34m(\u001b[0m\u001b[0mparams\u001b[0m\u001b[0;34m,\u001b[0m \u001b[0mbatch\u001b[0m\u001b[0;34m)\u001b[0m\u001b[0;34m\u001b[0m\u001b[0;34m\u001b[0m\u001b[0m\n\u001b[0m\u001b[1;32m     34\u001b[0m \u001b[0;34m\u001b[0m\u001b[0m\n\u001b[1;32m     35\u001b[0m         return {\n",
      "\u001b[0;32m~/GP/ICENODE/analysis/../icenode/train_gram.py\u001b[0m in \u001b[0;36m__call__\u001b[0;34m(self, params, subjects_batch, **kwargs)\u001b[0m\n\u001b[1;32m     88\u001b[0m                 \u001b[0my_i\u001b[0m \u001b[0;34m=\u001b[0m \u001b[0mdiag_flatccs\u001b[0m\u001b[0;34m[\u001b[0m\u001b[0mi\u001b[0m\u001b[0;34m]\u001b[0m\u001b[0;34m\u001b[0m\u001b[0;34m\u001b[0m\u001b[0m\n\u001b[1;32m     89\u001b[0m                 \u001b[0moutput\u001b[0m\u001b[0;34m,\u001b[0m \u001b[0mstate\u001b[0m \u001b[0;34m=\u001b[0m \u001b[0mself\u001b[0m\u001b[0;34m.\u001b[0m\u001b[0mgru\u001b[0m\u001b[0;34m(\u001b[0m\u001b[0mparams\u001b[0m\u001b[0;34m[\u001b[0m\u001b[0;34m'gru'\u001b[0m\u001b[0;34m]\u001b[0m\u001b[0;34m,\u001b[0m \u001b[0mdiag_emb\u001b[0m\u001b[0;34m,\u001b[0m \u001b[0mstate\u001b[0m\u001b[0;34m)\u001b[0m\u001b[0;34m\u001b[0m\u001b[0;34m\u001b[0m\u001b[0m\n\u001b[0;32m---> 90\u001b[0;31m                 \u001b[0mlogits\u001b[0m \u001b[0;34m=\u001b[0m \u001b[0mself\u001b[0m\u001b[0;34m.\u001b[0m\u001b[0mout\u001b[0m\u001b[0;34m(\u001b[0m\u001b[0mparams\u001b[0m\u001b[0;34m[\u001b[0m\u001b[0;34m'out'\u001b[0m\u001b[0;34m]\u001b[0m\u001b[0;34m,\u001b[0m \u001b[0moutput\u001b[0m\u001b[0;34m)\u001b[0m\u001b[0;34m\u001b[0m\u001b[0;34m\u001b[0m\u001b[0m\n\u001b[0m\u001b[1;32m     91\u001b[0m                 diag_detectability[subject_id][i] = {\n\u001b[1;32m     92\u001b[0m                     \u001b[0;34m'admission_id'\u001b[0m\u001b[0;34m:\u001b[0m \u001b[0madmission_id\u001b[0m\u001b[0;34m[\u001b[0m\u001b[0mi\u001b[0m\u001b[0;34m]\u001b[0m\u001b[0;34m,\u001b[0m\u001b[0;34m\u001b[0m\u001b[0;34m\u001b[0m\u001b[0m\n",
      "\u001b[0;31mKeyboardInterrupt\u001b[0m: "
     ]
    }
   ],
   "source": [
    "relauc_clfs =  ('ICENODE', 'ICENODE_UNIFORM', 'GRU', 'RETAIN')\n",
    "m4_predictors = {clf: cross_predictor(clf, 'M4', 'M4') for clf in relauc_clfs}\n",
    "test_res_m4 = {clf: eval2_(model, m4_test_ids) for clf, model in m4_predictors.items()} "
   ]
  },
  {
   "cell_type": "code",
   "execution_count": null,
   "id": "7a5e98c2",
   "metadata": {},
   "outputs": [],
   "source": [
    "auctests_m4 = codes_auc_pairwise_tests({k: v['diag_detectability'] for k, v in test_res_m4.items()}, fast=True)\n"
   ]
  },
  {
   "cell_type": "code",
   "execution_count": null,
   "id": "4a28ca72",
   "metadata": {},
   "outputs": [],
   "source": [
    "upset_clfs = ('ICENODE', 'GRU', 'RETAIN')\n",
    "\n",
    "upsetcontents_m4, upsetindicator_m4, data_m4,  _, compete_codesm4 = relative_performance_upset(auctests_m4, upset_clfs, m4_interface[clfs[0]], **relative_auc_config)\n",
    "upset_format = from_indicators(upsetindicator_m4, data=data_m4)\n",
    "upset_object = UpSet(upset_format, subset_size='count', show_counts=True)\n",
    "# upset_object.add_catplot(value='AVG_AUC', kind=\"violin\")\n",
    "# upset_object.add_catplot(value='N_CODES', kind=\"violin\")\n",
    "upset_object.plot()\n",
    "plt.show()\n",
    "current_figure = plt.gcf()\n",
    "current_figure.savefig(f\"upset_M4.pdf\")"
   ]
  },
  {
   "cell_type": "markdown",
   "id": "91470243",
   "metadata": {},
   "source": [
    "<a name=\"sec6\"></a>\n",
    "\n",
    "## 6 Relative AUC Performance From MIMIC-III (Training Set) to MIMIC-IV (All) [^](#outline)\n",
    " "
   ]
  },
  {
   "cell_type": "code",
   "execution_count": null,
   "id": "2902f90f",
   "metadata": {},
   "outputs": [],
   "source": [
    "clfs_ordered = ('ICENODE', 'ICENODE_UNIFORM', 'GRU', 'RETAIN')\n",
    "m3_percentiles = m3_interface[clfs[0]].diag_flatccs_by_percentiles(20)\n",
    "\n",
    "m4_subjects = list(m4_interface[clfs[0]].subjects.keys())\n",
    "m3m4_predictors = {clf: cross_predictor(clf, 'M3', 'M4') for clf in clfs_ordered}\n"
   ]
  },
  {
   "cell_type": "code",
   "execution_count": null,
   "id": "cef8b53f",
   "metadata": {},
   "outputs": [],
   "source": [
    "test_res_m3m4 = {clf: eval2_(model, m4_subjects) for clf, model in m3m4_predictors.items()} \n",
    "results_m3m4, _ = evaluation_table(test_res_m3m4, m3_percentiles, top_k=20)\n"
   ]
  },
  {
   "cell_type": "code",
   "execution_count": null,
   "id": "5da0030b",
   "metadata": {},
   "outputs": [],
   "source": [
    "def test_eval_table(df, metric):\n",
    "    df = df.loc[metric, clfs_ordered]\n",
    "    return df.transpose()\n",
    "\n",
    "m3m4_acc20 = test_eval_table(results_m3m4, list(f'ACC-P{i}' for i in range(5)))\n",
    "m3m4_acc20.to_csv(f'm3m4_acc20.csv')\n",
    "print(m3m4_acc20.apply(lambda x: round(x, 3)).style.highlight_max(axis=0, props='bfseries: ;').to_latex())  "
   ]
  },
  {
   "cell_type": "code",
   "execution_count": 75,
   "id": "5722bb9c",
   "metadata": {},
   "outputs": [
    {
     "ename": "NameError",
     "evalue": "name 'test_res_m3m4' is not defined",
     "output_type": "error",
     "traceback": [
      "\u001b[0;31m---------------------------------------------------------------------------\u001b[0m",
      "\u001b[0;31mNameError\u001b[0m                                 Traceback (most recent call last)",
      "\u001b[0;32m/tmp/ipykernel_25934/4225011813.py\u001b[0m in \u001b[0;36m<module>\u001b[0;34m\u001b[0m\n\u001b[0;32m----> 1\u001b[0;31m \u001b[0mauctests_m3m4\u001b[0m \u001b[0;34m=\u001b[0m \u001b[0mcodes_auc_pairwise_tests\u001b[0m\u001b[0;34m(\u001b[0m\u001b[0;34m{\u001b[0m\u001b[0mk\u001b[0m\u001b[0;34m:\u001b[0m \u001b[0mv\u001b[0m\u001b[0;34m[\u001b[0m\u001b[0;34m'diag_detectability'\u001b[0m\u001b[0;34m]\u001b[0m \u001b[0;32mfor\u001b[0m \u001b[0mk\u001b[0m\u001b[0;34m,\u001b[0m \u001b[0mv\u001b[0m \u001b[0;32min\u001b[0m \u001b[0mtest_res_m3m4\u001b[0m\u001b[0;34m.\u001b[0m\u001b[0mitems\u001b[0m\u001b[0;34m(\u001b[0m\u001b[0;34m)\u001b[0m\u001b[0;34m}\u001b[0m\u001b[0;34m,\u001b[0m \u001b[0mfast\u001b[0m\u001b[0;34m=\u001b[0m\u001b[0;32mTrue\u001b[0m\u001b[0;34m)\u001b[0m\u001b[0;34m\u001b[0m\u001b[0;34m\u001b[0m\u001b[0m\n\u001b[0m",
      "\u001b[0;31mNameError\u001b[0m: name 'test_res_m3m4' is not defined"
     ]
    }
   ],
   "source": [
    "auctests_m3m4 = codes_auc_pairwise_tests({k: v['diag_detectability'] for k, v in test_res_m3m4.items()}, fast=True)\n"
   ]
  },
  {
   "cell_type": "code",
   "execution_count": 74,
   "id": "927b8aa9",
   "metadata": {},
   "outputs": [
    {
     "ename": "NameError",
     "evalue": "name 'auctests_m3m4' is not defined",
     "output_type": "error",
     "traceback": [
      "\u001b[0;31m---------------------------------------------------------------------------\u001b[0m",
      "\u001b[0;31mNameError\u001b[0m                                 Traceback (most recent call last)",
      "\u001b[0;32m/tmp/ipykernel_25934/2836814544.py\u001b[0m in \u001b[0;36m<module>\u001b[0;34m\u001b[0m\n\u001b[0;32m----> 1\u001b[0;31m \u001b[0msets_m3m4\u001b[0m\u001b[0;34m,\u001b[0m \u001b[0mupsetm3m4_df\u001b[0m\u001b[0;34m,\u001b[0m \u001b[0m_\u001b[0m\u001b[0;34m,\u001b[0m \u001b[0mcompete_codesm3m4\u001b[0m \u001b[0;34m=\u001b[0m \u001b[0mrelative_performance_upset\u001b[0m\u001b[0;34m(\u001b[0m\u001b[0mauctests_m3m4\u001b[0m\u001b[0;34m,\u001b[0m \u001b[0mupset_clfs\u001b[0m\u001b[0;34m,\u001b[0m \u001b[0mm4_interface\u001b[0m\u001b[0;34m[\u001b[0m\u001b[0mclfs\u001b[0m\u001b[0;34m[\u001b[0m\u001b[0;36m0\u001b[0m\u001b[0;34m]\u001b[0m\u001b[0;34m]\u001b[0m\u001b[0;34m,\u001b[0m \u001b[0;34m**\u001b[0m\u001b[0mrelative_auc_config\u001b[0m\u001b[0;34m)\u001b[0m\u001b[0;34m\u001b[0m\u001b[0;34m\u001b[0m\u001b[0m\n\u001b[0m\u001b[1;32m      2\u001b[0m \u001b[0mupset_contents_m3m4\u001b[0m \u001b[0;34m=\u001b[0m \u001b[0mfrom_contents\u001b[0m\u001b[0;34m(\u001b[0m\u001b[0msets_m3m4\u001b[0m\u001b[0;34m)\u001b[0m\u001b[0;34m\u001b[0m\u001b[0;34m\u001b[0m\u001b[0m\n",
      "\u001b[0;31mNameError\u001b[0m: name 'auctests_m3m4' is not defined"
     ]
    }
   ],
   "source": [
    "sets_m3m4, upsetm3m4_df, _, compete_codesm3m4 = relative_performance_upset(auctests_m3m4, upset_clfs, m4_interface[clfs[0]], **relative_auc_config)\n",
    "upset_contents_m3m4 = from_contents(sets_m3m4)\n"
   ]
  },
  {
   "cell_type": "code",
   "execution_count": null,
   "id": "9d2e5a15",
   "metadata": {},
   "outputs": [],
   "source": [
    "UpSet(upset_contents_m4m3, subset_size='count', show_counts=True).plot()\n",
    "current_figure = plt.gcf()\n",
    "current_figure.savefig(f\"upset_contents_M4M3.pdf\")\n"
   ]
  },
  {
   "cell_type": "markdown",
   "id": "89a7e699",
   "metadata": {},
   "source": [
    "<a name=\"sec7\"></a>\n",
    "\n",
    "## 7 Relative AUC Performance From MIMIC-IV (Training Set) to MIMIC-III (All) [^](#outline)"
   ]
  },
  {
   "cell_type": "code",
   "execution_count": null,
   "id": "3ad1247b",
   "metadata": {},
   "outputs": [],
   "source": [
    "clfs_ordered = ('ICENODE', 'ICENODE_UNIFORM', 'GRU', 'RETAIN')\n",
    "m4_percentiles = m4_interface[clfs[0]].diag_flatccs_by_percentiles(20)\n",
    "\n",
    "m3_subjects = list(m3_interface[clfs[0]].subjects.keys())\n",
    "m4m3_predictors = {clf: cross_predictor(clf, 'M4', 'M3') for clf in clfs_ordered}"
   ]
  },
  {
   "cell_type": "code",
   "execution_count": null,
   "id": "a2555b89",
   "metadata": {},
   "outputs": [],
   "source": [
    "test_res_m4m3 = {clf: eval2_(model, m3_subjects) for clf, model in m4m3_predictors.items()} \n",
    "results_m4m3, _ = evaluation_table(test_res_m4m3, m4_percentiles, top_k=20)"
   ]
  },
  {
   "cell_type": "code",
   "execution_count": null,
   "id": "a06aac33",
   "metadata": {},
   "outputs": [],
   "source": [
    "auctests_m4m3 = codes_auc_pairwise_tests({k: v['diag_detectability'] for k, v in test_res_m4m3.items()}, fast=True)"
   ]
  },
  {
   "cell_type": "code",
   "execution_count": null,
   "id": "3244ca3a",
   "metadata": {},
   "outputs": [],
   "source": [
    "upset_clfs = ('ICENODE', 'GRU', 'RETAIN')\n",
    "upsetcontents_m4m3, upsetindicator_m4m3, data_m4m3,  _, compete_codesm4m3 = relative_performance_upset(auctests_m4m3, upset_clfs, m4_interface[clfs[0]], **relative_auc_config)\n",
    "upset_format = from_indicators(upsetindicator_m4m3, data=data_m4m3)\n",
    "upset_object = UpSet(upset_format, subset_size='count', show_counts=True)\n",
    "# upset_object.add_catplot(value='AVG_AUC', kind=\"strip\")\n",
    "# upset_object.add_catplot(value='N_CODES', kind=\"strip\")\n",
    "upset_object.plot()\n",
    "plt.show()\n",
    "current_figure = plt.gcf()\n",
    "current_figure.savefig(f\"upset_M4M3.pdf\")"
   ]
  },
  {
   "cell_type": "markdown",
   "id": "3bca3ec0",
   "metadata": {},
   "source": [
    "## AUC Distribution"
   ]
  },
  {
   "cell_type": "code",
   "execution_count": null,
   "id": "3fc67052",
   "metadata": {},
   "outputs": [],
   "source": [
    "import numpy as np\n",
    "df = common_perf[['AUC(ICENODE)', 'DESC', 'VAR[AUC(ICENODE)]']].sort_values('AUC(ICENODE)')\n",
    "df = df[df['AUC(ICENODE)'] > 0.65]\n",
    "df.columns = ['AUC', 'CCS', 'VAR']\n",
    "error = df['VAR'].apply(np.sqrt)"
   ]
  },
  {
   "cell_type": "code",
   "execution_count": null,
   "id": "06f53cbe",
   "metadata": {},
   "outputs": [],
   "source": [
    "len(df)"
   ]
  },
  {
   "cell_type": "code",
   "execution_count": null,
   "id": "69151819",
   "metadata": {},
   "outputs": [],
   "source": [
    "fig, ax = plt.subplots(figsize=(8,20))\n",
    "sns.set_theme()\n",
    "sns.set_style(\"darkgrid\", {\"axes.facecolor\": \".9\"})\n",
    "\n",
    "ax = sns.barplot(x=\"AUC\", y=\"CCS\", color=\"salmon\", xerr=error*1,capsize=.2, data=df)\n",
    "# plt.title('ICE-NODE AUC on CCS Codes of Comparable AUC with GRU/RETAIN', fontsize=20)\n",
    "\n",
    "fig.tight_layout(pad=4)\n",
    "plt.xlabel('AUC', fontsize=24)\n",
    "plt.xlim(0.65, 1.0)\n",
    "plt.xticks(fontsize=20)\n",
    "\n",
    "plt.ylabel('CCS', fontsize=24)\n",
    "plt.yticks(fontsize=14)\n",
    "\n",
    "sns.despine(left=True)\n",
    "ax.grid(True)\n",
    "ax.tick_params(bottom=True, left=False)\n",
    "\n",
    "current_figure = plt.gcf()\n",
    "current_figure.savefig(\"common_performance.pdf\")\n",
    "\n",
    "\n",
    "plt.show()"
   ]
  },
  {
   "cell_type": "code",
   "execution_count": null,
   "id": "51a8bacb",
   "metadata": {},
   "outputs": [],
   "source": [
    "competing_df = []\n",
    "comp_tests = competing_tests[competing_tests[[f'AUC({clf})' for clf in clfs]].max(axis=1) > 0.7]\n",
    "\n",
    "for clf in clfs:\n",
    "    comp_auc = comp_tests[f'AUC({clf})']\n",
    "    comp_var = comp_tests[f'VAR[AUC({clf})]']\n",
    "    comp_std = comp_var.apply(np.sqrt)\n",
    "    comp_desc = comp_tests['DESC'].apply(lambda t: t if len(t) < 15 else t[:14] + '...')\n",
    "    df = pd.DataFrame({'AUC': comp_auc, 'std': comp_std, 'CCS': comp_desc, 'Classifier': clf})\n",
    "    df = df.sort_values('AUC').reset_index(drop=True)\n",
    "    competing_df.append(df)\n",
    "\n",
    "competing_df = pd.concat(competing_df)"
   ]
  },
  {
   "cell_type": "code",
   "execution_count": null,
   "id": "2c7b7423",
   "metadata": {},
   "outputs": [],
   "source": [
    "fig, ax = plt.subplots(figsize=(10, 15))\n",
    "sns.set_theme()\n",
    "sns.set_style(\"darkgrid\", {\"axes.facecolor\": \".9\"})\n",
    "colors = sns.xkcd_palette([\"windows blue\", \"amber\", \"greyish\"])\n",
    "\n",
    "ax = sns.barplot(x=\"AUC\", y=\"CCS\", hue='Classifier', palette =colors , data=competing_df)\n",
    "# plt.title('Performance of ICE-NODE/GRU/RETAIN', fontsize=40)\n",
    "\n",
    "fig.tight_layout(pad=10)\n",
    "plt.xlabel('AUC', fontsize=32)\n",
    "plt.xlim(0.5, 1.0)\n",
    "plt.xticks(fontsize=24)\n",
    "plt.yticks(fontsize=14)\n",
    "\n",
    "plt.ylabel('CCS', fontsize=36)\n",
    "plt.legend(fontsize='xx-large', title_fontsize='40')\n",
    "plt.legend(bbox_to_anchor=(1, 1), loc=2, borderaxespad=0.)\n",
    "\n",
    "sns.despine(left=True)\n",
    "ax.grid(True)\n",
    "ax.tick_params(bottom=True, left=False)\n",
    "current_figure = plt.gcf()\n",
    "current_figure.savefig(\"competing_performance.pdf\")\n",
    "\n",
    "plt.show()\n"
   ]
  },
  {
   "cell_type": "markdown",
   "id": "0e32fb00",
   "metadata": {},
   "source": [
    "## Generalization Across Datasets"
   ]
  },
  {
   "cell_type": "code",
   "execution_count": null,
   "id": "4ee25001",
   "metadata": {},
   "outputs": [],
   "source": [
    "\n",
    "\n",
    "m4m3_acc20 = test_eval_table(results_m4m3, list(f'ACC-P{i}' for i in range(5)))\n",
    "m4m3_acc20.to_csv(f'm4m3_acc20.csv')\n",
    "print(m4m3_acc20.apply(lambda x: round(x, 3)).style.highlight_max(axis=0, props='bfseries: ;').to_latex())    "
   ]
  },
  {
   "cell_type": "code",
   "execution_count": null,
   "id": "8affb1b0",
   "metadata": {},
   "outputs": [],
   "source": [
    "m4_perf = pd.read_csv('acc20_M4.csv', index_col=[0]).loc[clfs_ordered,:]\n",
    "m4_perf"
   ]
  },
  {
   "cell_type": "code",
   "execution_count": null,
   "id": "eab025e2",
   "metadata": {},
   "outputs": [],
   "source": [
    "from matplotlib.colors import SymLogNorm, Normalize\n",
    "\n",
    "diff = m4m3_acc20 - m4_perf\n",
    "# display(diff)\n",
    "sns.heatmap(diff, annot=True,  norm=SymLogNorm(linthresh=0.001, linscale=0.05,\n",
    "                                              vmin=-0.1, vmax=0.1, base=2),  cmap='RdBu_r')"
   ]
  },
  {
   "cell_type": "code",
   "execution_count": null,
   "id": "a30c7136",
   "metadata": {},
   "outputs": [],
   "source": [
    "results_m3m4.to_csv(f'evaltable_M3M4.csv')\n",
    "results_m4m3.to_csv(f'evaltable_M4M3.csv')"
   ]
  },
  {
   "cell_type": "code",
   "execution_count": null,
   "id": "14c4f796",
   "metadata": {},
   "outputs": [],
   "source": [
    "auctests_m3m4.to_csv(f'auctests_M3M4.csv')\n",
    "auctests_m4m3.to_csv(f'auctests_M4M3.csv')"
   ]
  },
  {
   "cell_type": "code",
   "execution_count": null,
   "id": "ac4557f4",
   "metadata": {},
   "outputs": [],
   "source": [
    "# UpSet(upsetm3m4_df, subset_size='count', show_counts=True).plot()\n",
    "# current_figure = plt.gcf()\n",
    "# current_figure.savefig(f\"upset_contents_M3M4.pdf\")"
   ]
  },
  {
   "cell_type": "code",
   "execution_count": null,
   "id": "78344f48",
   "metadata": {},
   "outputs": [],
   "source": [
    "aucvals_m4m3 = auctests_m4m3.sort_values(by='N_POSITIVE_CODES')\n",
    "aucvals_m4m3 = aucvals_m4m3.loc[:, tuple(f'AUC({clf})' for clf in clfs_ordered)+('CODE_INDEX', 'DESC','N_POSITIVE_CODES')].set_index('CODE_INDEX')\n",
    "aucvals_m4m3"
   ]
  },
  {
   "cell_type": "code",
   "execution_count": null,
   "id": "756bbf27",
   "metadata": {},
   "outputs": [],
   "source": [
    "aucvals_m4 = pd.read_csv('selected_auctests_M4.csv', index_col=[0])\n",
    "aucvals_m4 = aucvals_m4[aucvals_m4['CODE_INDEX'].isin(aucvals_m4m3.index)].set_index('CODE_INDEX').iloc[aucvals_m4m3.index]\n",
    "aucvals_m4"
   ]
  },
  {
   "cell_type": "code",
   "execution_count": null,
   "id": "e630544d",
   "metadata": {},
   "outputs": [],
   "source": [
    "code_desc = aucvals_m4m3['DESC']"
   ]
  },
  {
   "cell_type": "code",
   "execution_count": null,
   "id": "7e4ac253",
   "metadata": {},
   "outputs": [],
   "source": [
    "aucvalsonly_m4 = aucvals_m4.loc[:, tuple(f'AUC({clf})' for clf in clfs_ordered)]\n",
    "aucvalsonly_m4.columns = clfs_ordered\n",
    "aucvalsonly_m4"
   ]
  },
  {
   "cell_type": "code",
   "execution_count": null,
   "id": "d5260026",
   "metadata": {},
   "outputs": [],
   "source": [
    "aucvalsonly_m4m3 = aucvals_m4m3.loc[:, tuple(f'AUC({clf})' for clf in clfs_ordered)]\n",
    "aucvalsonly_m4m3.columns = clfs_ordered\n",
    "aucvalsonly_m4m3"
   ]
  },
  {
   "cell_type": "code",
   "execution_count": null,
   "id": "dcc75884",
   "metadata": {},
   "outputs": [],
   "source": [
    "aucvals_diff = aucvalsonly_m4m3 - aucvalsonly_m4\n",
    "aucvals_diff"
   ]
  },
  {
   "cell_type": "code",
   "execution_count": null,
   "id": "4b917f95",
   "metadata": {},
   "outputs": [],
   "source": [
    "plt.figure(figsize=(10, 16))\n",
    "sns.heatmap(aucvalsonly_m4m3,  linewidths=1, norm=SymLogNorm(linthresh=0.001, linscale=0.05,\n",
    "                                              vmin=0.5, vmax=1., base=10),  cmap='RdBu_r')"
   ]
  },
  {
   "cell_type": "markdown",
   "id": "86634c4c",
   "metadata": {},
   "source": [
    "## Trajectories for Patients with CCS codes best predicted with ICENODE"
   ]
  },
  {
   "cell_type": "markdown",
   "id": "fcfc4c29",
   "metadata": {},
   "source": [
    "### Analyse AUC for Each Admission in the Test Partition"
   ]
  },
  {
   "cell_type": "code",
   "execution_count": null,
   "id": "5df33d48",
   "metadata": {},
   "outputs": [],
   "source": [
    "def admissions_auc_scores(model, test_ids):\n",
    "    model, state = model\n",
    "    return model.admissions_auc_scores(state, test_ids)"
   ]
  },
  {
   "cell_type": "code",
   "execution_count": null,
   "id": "bd1cbeb0",
   "metadata": {},
   "outputs": [],
   "source": [
    "icenode_visit_auc_df = admissions_auc_scores(models1['ICENODE'], test_ids)"
   ]
  },
  {
   "cell_type": "code",
   "execution_count": null,
   "id": "5de3587b",
   "metadata": {},
   "outputs": [],
   "source": [
    "icenode_visit_auc_df['N_VISITS'] = icenode_visit_auc_df['SUBJECT_ID'].apply(lambda i: (icenode_visit_auc_df['SUBJECT_ID'] == i).sum())\n",
    "icenode_visit_auc_df"
   ]
  },
  {
   "cell_type": "code",
   "execution_count": null,
   "id": "e5c947a6",
   "metadata": {},
   "outputs": [],
   "source": [
    "visit_auc_subject = icenode_visit_auc_df.groupby('SUBJECT_ID').agg({'AUC': 'mean', 'N_VISITS': 'max', 'N_CODES': ['min', 'max', 'mean', 'median'], 'INTERVALS': ['mean', 'max', 'min'], 'R/T': ['min', 'max', 'mean'] })\n"
   ]
  },
  {
   "cell_type": "code",
   "execution_count": null,
   "id": "546ed05c",
   "metadata": {},
   "outputs": [],
   "source": [
    "best_visit_auc_subjects =  visit_auc_subject[(visit_auc_subject.AUC['mean'] > 0.95) & (visit_auc_subject.N_VISITS['max'] > 1) & (visit_auc_subject.N_VISITS['max'] <10) & (visit_auc_subject.INTERVALS['max'] < 90)]\n",
    "best_visit_auc_subjects"
   ]
  },
  {
   "cell_type": "code",
   "execution_count": null,
   "id": "aabfcd46",
   "metadata": {},
   "outputs": [],
   "source": [
    "ccs_history = {i: interface[clfs[0]].diag_flatccs_history(i)[1] for i in best_visit_auc_subjects.index}"
   ]
  },
  {
   "cell_type": "code",
   "execution_count": null,
   "id": "a6524fc6",
   "metadata": {},
   "outputs": [],
   "source": [
    "ccs_history_icenode_best = {i: history for i, history in ccs_history.items() if len(set(history) & set(icenode_best_test_above09['CODE_INDEX']))> 0}"
   ]
  },
  {
   "cell_type": "code",
   "execution_count": null,
   "id": "3735d22d",
   "metadata": {},
   "outputs": [],
   "source": [
    "ccs_history_icenode_best"
   ]
  },
  {
   "cell_type": "code",
   "execution_count": null,
   "id": "246fdc86",
   "metadata": {},
   "outputs": [],
   "source": [
    "len(ccs_history_icenode_best)"
   ]
  },
  {
   "cell_type": "code",
   "execution_count": null,
   "id": "8d35ce59",
   "metadata": {},
   "outputs": [],
   "source": [
    "icenode, icenode_state = models1['ICENODE']\n",
    "trajectory = icenode.sample_trajectory(icenode_state, ccs_history_icenode_best.keys(), 1)"
   ]
  },
  {
   "cell_type": "code",
   "execution_count": null,
   "id": "31eef088",
   "metadata": {},
   "outputs": [],
   "source": [
    "import numpy as np\n",
    "import pandas as pd\n",
    "import seaborn as sns\n",
    "import matplotlib.pyplot as plt"
   ]
  },
  {
   "cell_type": "code",
   "execution_count": null,
   "id": "19bf6fc3",
   "metadata": {},
   "outputs": [],
   "source": [
    "ccs_index = list(icenode_best_test_above09['CODE_INDEX'])\n",
    "idx2desc = lambda idx: interface[clfs[0]].dag.diag_flatccs_desc[flatccs_idx2code[idx]]\n",
    "ccs_description = list(map(idx2desc, ccs_index))\n"
   ]
  },
  {
   "cell_type": "code",
   "execution_count": null,
   "id": "5bcce07b",
   "metadata": {},
   "outputs": [],
   "source": [
    "data = {}\n",
    "for i, traj in trajectory.items():\n",
    "    diag_times = interface['ICENODE'].diag_times(i)\n",
    "    \n",
    "    t = traj['t']\n",
    "    d = traj['d']\n",
    "    \n",
    "    prob = []\n",
    "    time = []\n",
    "    code = []\n",
    "    \n",
    "    for ccs_desc, ccs_idx in zip(ccs_description, ccs_index):\n",
    "        time.append(t)\n",
    "        code.extend([ccs_desc]*len(t))\n",
    "        prob.append(d[:, ccs_idx])\n",
    "\n",
    "    prob = np.hstack(prob)\n",
    "    time = np.hstack(time)\n",
    "    \n",
    "    \n",
    "    df = pd.DataFrame({'t': time, r'$\\hat{v}$': prob, 'code': code})\n",
    "    data[i] = (df, diag_times)\n",
    "    "
   ]
  },
  {
   "cell_type": "code",
   "execution_count": null,
   "id": "f7b9dcc6",
   "metadata": {},
   "outputs": [],
   "source": [
    "plt.rcParams['figure.figsize']=(10,10)\n",
    "import math\n",
    "for i, (df, diag_times) in data.items():\n",
    "\n",
    "    plt.figure(i)\n",
    "    \n",
    "    g = sns.lineplot(data=df, x=\"t\", y=r'$\\hat{v}$', hue='code', marker='o')\n",
    "    for diag_time in diag_times:\n",
    "        g.axvline(x=diag_time, ymin=0, ymax=1, c=\"red\", ls='--', linewidth=0.8, zorder=0, clip_on=False)"
   ]
  },
  {
   "cell_type": "markdown",
   "id": "9411c0dc",
   "metadata": {},
   "source": [
    "It seems that we cannot catch the smoothness of the trajectory as it evolves very quickly to the saturation value."
   ]
  }
 ],
 "metadata": {
  "kernelspec": {
   "display_name": "Python 3 (ipykernel)",
   "language": "python",
   "name": "python3"
  },
  "language_info": {
   "codemirror_mode": {
    "name": "ipython",
    "version": 3
   },
   "file_extension": ".py",
   "mimetype": "text/x-python",
   "name": "python",
   "nbconvert_exporter": "python",
   "pygments_lexer": "ipython3",
   "version": "3.8.12"
  }
 },
 "nbformat": 4,
 "nbformat_minor": 5
}
