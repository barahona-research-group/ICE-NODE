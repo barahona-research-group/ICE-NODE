{
 "cells": [
  {
   "cell_type": "markdown",
   "id": "f53f4d3c",
   "metadata": {},
   "source": [
    "# Table of Content\n",
    "\n",
    "<a name=\"outline\"></a>\n",
    "\n",
    "## Setup\n",
    "\n",
    "- [A](#seca) External Imports\n",
    "- [B](#secb) Internal Imports\n",
    "- [C](#secc) Lazy Dictionary (Lazy Caching)\n",
    "- [D](#secd) Configurations and Paths \n",
    "- [E](#sece) Patient Interface and Train/Val/Test Partitioning\n",
    "- [F](#secf) General Utility Functions\n",
    "\n",
    "\n",
    "## Evaluations\n",
    "\n",
    "- [1](#sec1) Snooping/Selecting Best Models from the Validation Set\n",
    "- [2](#sec2) Top-20 Detection Accuracy on MIMIC-III (Test Set)\n",
    "- [3](#sec3) Top-20 Detection Accuracy on MIMIC-IV (Test Set)\n",
    "- [4](#sec4) Relative AUC Performance on MIMIC-III (Test Set)\n",
    "- [5](#sec5) Relative AUC Performance on MIMIC-IV (Test Set)\n",
    "- [6](#sec6) Relative AUC Performance From MIMIC-III (Training Set) to MIMIC-IV (All)\n",
    "- [7](#sec7) Relative AUC Performance From MIMIC-IV (Training Set) to MIMIC-III (All)"
   ]
  },
  {
   "cell_type": "markdown",
   "id": "697a491c",
   "metadata": {},
   "source": [
    "<a name=\"seca\"></a>\n",
    "\n",
    "### A External Imports [^](#outline)"
   ]
  },
  {
   "cell_type": "code",
   "execution_count": 1,
   "id": "4cfc614e",
   "metadata": {},
   "outputs": [],
   "source": [
    "import sys\n",
    "import os\n",
    "import glob\n",
    "from collections import defaultdict\n",
    "\n",
    "from IPython.display import display\n",
    "\n",
    "import numpy as np\n",
    "import pandas as pd\n",
    "import seaborn as sns\n",
    "import matplotlib.pyplot as plt\n",
    "from upsetplot import from_contents, plot, UpSet, from_indicators\n"
   ]
  },
  {
   "cell_type": "markdown",
   "id": "23f0d568",
   "metadata": {},
   "source": [
    "<a name=\"secb\"></a>\n",
    "\n",
    "### B Internal Imports [^](#outline)"
   ]
  },
  {
   "cell_type": "code",
   "execution_count": 2,
   "id": "894a3743",
   "metadata": {},
   "outputs": [
    {
     "name": "stderr",
     "output_type": "stream",
     "text": [
      "/home/asem/anaconda3/envs/icenode/lib/python3.8/site-packages/jax/experimental/optimizers.py:28: FutureWarning: jax.experimental.optimizers is deprecated, import jax.example_libraries.optimizers instead\n",
      "  warnings.warn('jax.experimental.optimizers is deprecated, '\n"
     ]
    }
   ],
   "source": [
    "sys.path.append('..')\n",
    "HOME = os.environ.get('HOME')\n",
    "from icenode.train_icenode_2lr import ICENODE\n",
    "from icenode.train_icenode_uniform2lr import ICENODE as ICENODE_UNIFORM\n",
    "from icenode.train_gram import GRAM\n",
    "from icenode.train_retain import RETAIN\n",
    "from icenode.metrics import codes_auc_pairwise_tests\n",
    "from icenode.metrics import evaluation_table\n",
    "from icenode.utils import write_params, load_config, load_params\n",
    "\n",
    "%load_ext autoreload\n",
    "%autoreload 2"
   ]
  },
  {
   "cell_type": "markdown",
   "id": "fc48af79",
   "metadata": {},
   "source": [
    "<a name=\"secc\"></a>\n",
    "\n",
    "### C Lazy Dictionary (Lazy Caching) [^](#outline)"
   ]
  },
  {
   "cell_type": "code",
   "execution_count": 3,
   "id": "b19f918f",
   "metadata": {},
   "outputs": [],
   "source": [
    "class LazyDict(dict):\n",
    "    def __getitem__(self, k):\n",
    "        v = super().__getitem__(k)\n",
    "        if callable(v):\n",
    "            v = v()\n",
    "            super().__setitem__(k, v)\n",
    "        return v\n",
    "\n",
    "    def get(self, k, default=None):\n",
    "        if k in self:\n",
    "            return self.__getitem__(k)\n",
    "        return default"
   ]
  },
  {
   "cell_type": "markdown",
   "id": "d9340794",
   "metadata": {},
   "source": [
    "<a name=\"secd\"></a>\n",
    "\n",
    "### D Configurations and Paths [^](#outline)"
   ]
  },
  {
   "cell_type": "code",
   "execution_count": 53,
   "id": "c8d78296",
   "metadata": {},
   "outputs": [],
   "source": [
    "mimic_dir = {\n",
    "    'M3': f'{HOME}/GP/ehr-data/mimic3-transforms',\n",
    "    'M4': f'{HOME}/GP/ehr-data/mimic4-transforms'\n",
    "}\n",
    "\n",
    "trained_dir = {\n",
    "    'GM3': f'{HOME}/GP/ehr-data/icenode-m3-exp/train_config_v0.2.25_G_M3',\n",
    "    'M3': f'{HOME}/GP/ehr-data/icenode-m3-exp/train_config_v0.2.25_M3',\n",
    "    'M4': f'{HOME}/GP/ehr-data/icenode-m4-exp/train_config_v0.2.25_M4'\n",
    "}\n",
    "\n",
    "model_dir = {\n",
    "    'ICE-NODE': 'icenode_2lr',\n",
    "    'ICE-NODE_UNIFORM': 'icenode_uniform2lr',\n",
    "    'GRU': 'gru',\n",
    "    'RETAIN': 'retain'\n",
    "}\n",
    "\n",
    "model_cls = {\n",
    "    'ICE-NODE': ICENODE,\n",
    "    'ICE-NODE_UNIFORM': ICENODE_UNIFORM,\n",
    "    'GRU': GRAM,\n",
    "    'RETAIN': RETAIN\n",
    "}   \n",
    "\n",
    "clfs = list(model_dir.keys())\n",
    "\n",
    "relative_auc_config = {\n",
    "    'pvalue': 0.01, \n",
    "    'min_auc': 0.85\n",
    "}\n",
    "\n",
    "plt.rcParams[\"font.family\"] = \"Loma\"#, \"serif\"\n"
   ]
  },
  {
   "cell_type": "markdown",
   "id": "24d26707",
   "metadata": {},
   "source": [
    "<a name=\"sece\"></a>\n",
    "\n",
    "### E Patient Interface and Train/Val/Test Patitioning [^](#outline)"
   ]
  },
  {
   "cell_type": "code",
   "execution_count": 5,
   "id": "27c24ace",
   "metadata": {},
   "outputs": [],
   "source": [
    "def get_patient_interface(data_tag, clfs):\n",
    "    interface_by_kind = LazyDict({\n",
    "        'timestamped': lambda: ICENODE.create_patient_interface(mimic_dir[data_tag], data_tag),\n",
    "        'sequential': lambda: GRAM.create_patient_interface(mimic_dir[data_tag], data_tag)\n",
    "    })\n",
    "    \n",
    "    interface_kind = {\n",
    "        'ICE-NODE':  'timestamped',\n",
    "        'ICE-NODE_UNIFORM': 'timestamped',\n",
    "        'GRU': 'sequential',\n",
    "        'RETAIN': 'sequential'\n",
    "    }\n",
    "\n",
    "    return {clf: interface_by_kind[interface_kind[clf]] for clf in clfs}\n",
    "    \n",
    "\n",
    "m4_interface = get_patient_interface('M4', clfs)\n",
    "m3_interface = get_patient_interface('M3', clfs)\n",
    "\n",
    "m4_train_ids, m4_valid_ids, m4_test_ids = m4_interface[clfs[0]].random_splits(split1=0.7, split2=0.85, random_seed=42)\n",
    "m3_train_ids, m3_valid_ids, m3_test_ids = m3_interface[clfs[0]].random_splits(split1=0.7, split2=0.85, random_seed=42)\n"
   ]
  },
  {
   "cell_type": "code",
   "execution_count": 6,
   "id": "ca3a0902",
   "metadata": {},
   "outputs": [],
   "source": [
    "m4_percentiles = m4_interface[clfs[0]].diag_flatccs_by_percentiles(20)\n",
    "m3_percentiles = m3_interface[clfs[0]].diag_flatccs_by_percentiles(20)\n",
    "\n",
    "m4_train_percentiles = m4_interface[clfs[0]].diag_flatccs_by_percentiles(20, m4_train_ids)\n",
    "m3_train_percentiles = m3_interface[clfs[0]].diag_flatccs_by_percentiles(20, m3_train_ids)\n"
   ]
  },
  {
   "cell_type": "markdown",
   "id": "085bb85c",
   "metadata": {},
   "source": [
    "<a name=\"secf\"></a>\n",
    "\n",
    "### F Utility Functions [^](#outline)"
   ]
  },
  {
   "cell_type": "code",
   "execution_count": 64,
   "id": "63239443",
   "metadata": {},
   "outputs": [],
   "source": [
    "\n",
    "def performance_traces(data_tag, clfs):\n",
    "    clfs_params_dir = trained_dir[data_tag]\n",
    "    traces_df = {}\n",
    "    for clf in clfs:\n",
    "        clf_dir = model_dir[clf]\n",
    "        csv_files =  glob.glob(f'{clfs_params_dir}/{clf_dir}/*.csv', recursive=False)\n",
    "        dfs = [pd.read_csv(csv_file, index_col=[0]) for csv_file in csv_files]\n",
    "        df = pd.concat([df[[\"VAL\"]].transpose() for df in dfs]).reset_index()\n",
    "        df = df[['loss', 'accuracy']]        \n",
    "        traces_df[clf] = df\n",
    "\n",
    "    return traces_df\n",
    "\n",
    "def get_trained_models(train_dir, clfs, criterion, comp):\n",
    "    params = {}\n",
    "    config = {}\n",
    "    df = {}\n",
    "    clfs_params_dir = trained_dir[train_dir]\n",
    "    \n",
    "    best_iter, best_val = [], []\n",
    "    for clf in clfs:\n",
    "        clf_dir = model_dir[clf]\n",
    "        csv_files =  glob.glob(f'{clfs_params_dir}/{clf_dir}/*.csv', recursive=False)\n",
    "        dfs = [pd.read_csv(csv_file, index_col=[0]) for csv_file in csv_files]\n",
    "        \n",
    "        if callable(criterion):\n",
    "            max_i = comp(range(len(dfs)), key=lambda i: criterion(dfs[i].loc[:, 'VAL']))\n",
    "            best_val.append(criterion(dfs[max_i].loc[:, 'VAL']))\n",
    "        else:\n",
    "            max_i = comp(range(len(dfs)), key=lambda i: dfs[i].loc[criterion, 'VAL'])\n",
    "            best_val.append(dfs[max_i].loc[criterion, \"VAL\"])\n",
    "        \n",
    "        best_iter.append(max_i)\n",
    "        df[clf] = dfs[max_i]        \n",
    "        csv_file = csv_files[max_i]\n",
    "        prefix = csv_file.split('_')\n",
    "        prefix[-1] = 'params.pickle'\n",
    "        params_file = '_'.join(prefix)\n",
    "        params[clf] = load_params(params_file)\n",
    "        config[clf] = load_config(f'{clfs_params_dir}/{clf_dir}/config.json')\n",
    "        \n",
    "    display(pd.DataFrame({'Clf': clfs, 'Best_i': best_iter, str(criterion): best_val}))\n",
    "    return config, params, df\n",
    "\n",
    "\n",
    "    \n",
    "def eval_(model, ids):\n",
    "    model, state = model\n",
    "    return model.eval(state, ids)['diag_detectability']\n",
    "\n",
    "def eval2_(model, ids):\n",
    "    model, state = model\n",
    "    return model.eval(state, ids)\n",
    "\n",
    "def test_eval_table(dfs, metric):\n",
    "    data = {}\n",
    "    clfs = dfs.keys()\n",
    "    for clf, df in dfs.items():\n",
    "        data[clf] = df.loc[metric, \"TST\"].tolist()\n",
    "    return pd.DataFrame(data=data, index=metric).transpose()\n",
    "\n",
    "def get_model(clf, config, params, interface):\n",
    "    model = model_cls[clf].create_model(config, interface, [], None)\n",
    "    state = model.init_with_params(config, params)\n",
    "    return model, state\n",
    "        \n",
    "def get_models(clfs, config, params, interface):\n",
    "    return {clf: get_model(clf, config[clf], params[clf], interface[clf]) for clf in clfs}\n",
    "\n",
    "\n",
    "def cross_predictor(clf, source_tag, target_tag):   \n",
    "    if '/G' in clf:\n",
    "        _m3_params = gm3_params\n",
    "        _m3_config = gm3_config\n",
    "        \n",
    "        clf = clf.replace('/G','')\n",
    "    else:\n",
    "        _m3_params = m3_params\n",
    "        _m3_config = m3_config\n",
    "\n",
    "    if source_tag == 'M3':\n",
    "        params = _m3_params[clf]\n",
    "        config = _m3_config[clf]\n",
    "    else:\n",
    "        params = m4_params[clf]\n",
    "        config = m4_config[clf]\n",
    "        \n",
    "    if target_tag == 'M3':\n",
    "        target_interface = m3_interface[clf]\n",
    "    else:\n",
    "        target_interface = m4_interface[clf]\n",
    "        \n",
    "    \n",
    "    return get_model(clf, config, params, target_interface)\n",
    "            \n",
    "    \n",
    "def selected_auc_barplot(clfs, auctest_df, horizontal=True):\n",
    "    auc_df = []\n",
    "\n",
    "    for clf in clfs:\n",
    "        comp_auc = auctest_df[f'AUC({clf})']\n",
    "        comp_var = auctest_df[f'VAR[AUC({clf})]']\n",
    "        comp_std = comp_var.apply(np.sqrt)\n",
    "        comp_desc = auctest_df['DESC'].apply(lambda t: t if len(t) < 15 else t.replace(' ', '\\n'))\n",
    "        df = pd.DataFrame({'AUC': comp_auc, 'std': comp_std, 'CCS': comp_desc, 'Classifier': clf})\n",
    "        auc_df.append(df)\n",
    "    auc_df = pd.concat(auc_df)\n",
    "    \n",
    "    \n",
    "    \n",
    "    vals = auc_df.pivot(index='CCS', columns='Classifier', values='AUC')\n",
    "    err = auc_df.pivot(index='CCS', columns='Classifier', values='std')\n",
    "    # plot vals with yerr\n",
    "    ax = vals.plot.barh(xerr=err, rot=0, figsize=(10, 10), width=0.7,\n",
    "                   error_kw=dict(lw=5, capsize=8, capthick=5, ecolor='salmon'),\n",
    "                  color=[ 'black', 'white', 'green'], edgecolor='black')\n",
    "\n",
    "    for axis in ['top', 'bottom', 'left', 'right']:\n",
    "        ax.spines[axis].set_linewidth(6)  # change width\n",
    "        ax.spines[axis].set_color('red')    # change color\n",
    "\n",
    "    plt.xlabel('AUC', fontsize=32)\n",
    "    min_auc_tick = int(auc_df['AUC'].min() * 20)/20\n",
    "\n",
    "    plt.xticks(fontsize=24)    \n",
    "    plt.xlim(min_auc_tick, 1.0)\n",
    "    \n",
    "    xstart, xend = ax.get_xlim()\n",
    "    ax.xaxis.set_ticks(np.arange(xstart, xend+0.01, 0.05))\n",
    "\n",
    "    plt.yticks(fontsize=24)\n",
    "\n",
    "    plt.ylabel('CCS', fontsize=32)\n",
    "    ax.tick_params(bottom=True, left=False)    \n",
    "    \n",
    "    # Add hatches\n",
    "    bars = ax.patches\n",
    "    patterns =('.', 'x', 'O','o','/','-', '+','O','o','\\\\','\\\\\\\\')\n",
    "    hatches = [p for p in patterns for i in range(len(df))]\n",
    "    for bar, hatch in zip(bars, hatches):\n",
    "        bar.set_hatch(hatch)\n",
    "    \n",
    "    ax.xaxis.grid(color='gray', linestyle='dashed')\n",
    "    ax.xaxis.set_zorder(3)\n",
    "\n",
    "    _ = ax.legend(title='Classifier', loc='upper right', \n",
    "                  fontsize=20, title_fontsize=32)\n",
    "    return ax\n",
    "\n",
    "def make_clf_paris(clfs):\n",
    "    clfs_pairs = []\n",
    "    for i in range(len(clfs)):\n",
    "        for j in range(i + 1, len(clfs)):\n",
    "            clfs_pairs.append((clfs[i], clfs[j]))\n",
    "    return tuple(sorted(clfs_pairs))\n",
    "    \n",
    "def relative_performance_upset(auc_tests, selected_clfs, patient_interface, train_ids, pvalue, min_auc):\n",
    "    flatccs_idx2code = {idx: code for code, idx in patient_interface.diag_flatccs_idx.items()}\n",
    "    flatccs_frequency_train = patient_interface.diag_flatccs_frequency(train_ids)\n",
    "    \n",
    "    idx2desc = lambda i: patient_interface.dag.diag_flatccs_desc[flatccs_idx2code[i]]\n",
    "    auc_tests['DESC'] = auc_tests['CODE_INDEX'].apply(idx2desc)\n",
    "    \n",
    "    # remove codes that no classifier has scored above 0.7\n",
    "    accepted_aucs = auc_tests.loc[:,[f'AUC({clf})' for clf in selected_clfs]].max(axis=1) > min_auc\n",
    "    print(f'{len(accepted_aucs)} codes predicted an AUC higher than {min_auc} by at least one model.')\n",
    "    tests = auc_tests[accepted_aucs]\n",
    "    tests = tests.fillna(1)\n",
    "    test_cols = [col for col in tests.columns if col[:2] == 'P0']\n",
    "    \n",
    "    common_perf = tests[tests.loc[:,test_cols].min(axis=1) > pvalue]\n",
    "    auc_sets = defaultdict(set)\n",
    "    clfs = tuple(sorted(selected_clfs))\n",
    "    auc_sets[clfs] = set(common_perf.CODE_INDEX)\n",
    "    competing_tests = tests.drop(index=common_perf.index)\n",
    "\n",
    "    clfs_pairs = make_clf_paris(clfs)\n",
    "\n",
    "    for index, row in competing_tests.iterrows():\n",
    "        max_auc_clf = max(clfs, key=lambda clf: row[f'AUC({clf})'])\n",
    "        insignificant_diff = {(clf1, clf2): f'P0(AUC_{clf1}==AUC_{clf2})' for (clf1, clf2) in clfs_pairs \\\n",
    "                          if max_auc_clf in (clf1, clf2) and row[f'P0(AUC_{clf1}==AUC_{clf2})'] > pvalue}\n",
    "\n",
    "        if len(insignificant_diff) == 0:\n",
    "            auc_sets[max_auc_clf].add(int(row['CODE_INDEX']))\n",
    "        else:\n",
    "            for (clf1, clf2), test_col in insignificant_diff.items():\n",
    "                auc_sets[(clf1, clf2)].add(int(row['CODE_INDEX']))            \n",
    "            \n",
    "    # Prepare for using Upset plot -> Set Layout (passed to `from_contents`)\n",
    "    content_sets = {}\n",
    "    for clf in clfs:\n",
    "        content_sets[clf] = auc_sets[clf] | auc_sets[clfs]\n",
    "        for clf1, clf2 in clfs_pairs:\n",
    "            if clf in (clf1, clf2):\n",
    "                content_sets[clf].update(auc_sets[(clf1, clf2)])\n",
    "    \n",
    "    # Prepare for using Upset plot -> DataFrame Layout (passed to `from_indicators`)\n",
    "    code_index = tests.CODE_INDEX.tolist()\n",
    "    competence_assignments = {}\n",
    "    for clf in clfs:\n",
    "        competence_assignments[clf] = [c in content_sets[clf] for c in code_index]\n",
    "    indicator_df = pd.DataFrame(competence_assignments, index=code_index)\n",
    "    \n",
    "    # Descriptive statistics for each code.    \n",
    "    avg_aucs, n_codes = [], []\n",
    "    for c in code_index:\n",
    "        competent_clfs = [clf for clf in clfs if indicator_df.loc[c, clf]]\n",
    "        avg_auc = tests.loc[c, list(f'AUC({clf})' for clf in competent_clfs)].mean()\n",
    "        avg_aucs.append(avg_auc)\n",
    "        n_codes.append(flatccs_frequency_train[c])\n",
    "    data = pd.DataFrame({'Avg. AUC': avg_aucs, '#positive cases (train)': n_codes}, index=code_index)    \n",
    "    return content_sets, indicator_df, data, common_perf, competing_tests\n"
   ]
  },
  {
   "cell_type": "markdown",
   "id": "4e5de22c",
   "metadata": {},
   "source": [
    "<a name=\"sec1\"></a>\n",
    "\n",
    "## 1 Snooping/Selecting Best Models from the Validation Set [^](#outline)"
   ]
  },
  {
   "cell_type": "code",
   "execution_count": 65,
   "id": "b35cd234",
   "metadata": {},
   "outputs": [
    {
     "name": "stdout",
     "output_type": "stream",
     "text": [
      "> Models trained on MIMIC-IV\n"
     ]
    },
    {
     "data": {
      "text/html": [
       "<div>\n",
       "<style scoped>\n",
       "    .dataframe tbody tr th:only-of-type {\n",
       "        vertical-align: middle;\n",
       "    }\n",
       "\n",
       "    .dataframe tbody tr th {\n",
       "        vertical-align: top;\n",
       "    }\n",
       "\n",
       "    .dataframe thead th {\n",
       "        text-align: right;\n",
       "    }\n",
       "</style>\n",
       "<table border=\"1\" class=\"dataframe\">\n",
       "  <thead>\n",
       "    <tr style=\"text-align: right;\">\n",
       "      <th></th>\n",
       "      <th>Clf</th>\n",
       "      <th>Best_i</th>\n",
       "      <th>MICRO-AUC</th>\n",
       "    </tr>\n",
       "  </thead>\n",
       "  <tbody>\n",
       "    <tr>\n",
       "      <th>0</th>\n",
       "      <td>ICE-NODE</td>\n",
       "      <td>87</td>\n",
       "      <td>0.934</td>\n",
       "    </tr>\n",
       "    <tr>\n",
       "      <th>1</th>\n",
       "      <td>ICE-NODE_UNIFORM</td>\n",
       "      <td>91</td>\n",
       "      <td>0.932</td>\n",
       "    </tr>\n",
       "    <tr>\n",
       "      <th>2</th>\n",
       "      <td>GRU</td>\n",
       "      <td>72</td>\n",
       "      <td>0.937</td>\n",
       "    </tr>\n",
       "    <tr>\n",
       "      <th>3</th>\n",
       "      <td>RETAIN</td>\n",
       "      <td>24</td>\n",
       "      <td>0.936</td>\n",
       "    </tr>\n",
       "  </tbody>\n",
       "</table>\n",
       "</div>"
      ],
      "text/plain": [
       "                Clf  Best_i  MICRO-AUC\n",
       "0          ICE-NODE      87      0.934\n",
       "1  ICE-NODE_UNIFORM      91      0.932\n",
       "2               GRU      72      0.937\n",
       "3            RETAIN      24      0.936"
      ]
     },
     "metadata": {},
     "output_type": "display_data"
    },
    {
     "name": "stdout",
     "output_type": "stream",
     "text": [
      "> Models trained on MIMIC-III\n"
     ]
    },
    {
     "data": {
      "text/html": [
       "<div>\n",
       "<style scoped>\n",
       "    .dataframe tbody tr th:only-of-type {\n",
       "        vertical-align: middle;\n",
       "    }\n",
       "\n",
       "    .dataframe tbody tr th {\n",
       "        vertical-align: top;\n",
       "    }\n",
       "\n",
       "    .dataframe thead th {\n",
       "        text-align: right;\n",
       "    }\n",
       "</style>\n",
       "<table border=\"1\" class=\"dataframe\">\n",
       "  <thead>\n",
       "    <tr style=\"text-align: right;\">\n",
       "      <th></th>\n",
       "      <th>Clf</th>\n",
       "      <th>Best_i</th>\n",
       "      <th>MICRO-AUC</th>\n",
       "    </tr>\n",
       "  </thead>\n",
       "  <tbody>\n",
       "    <tr>\n",
       "      <th>0</th>\n",
       "      <td>ICE-NODE</td>\n",
       "      <td>45</td>\n",
       "      <td>0.926</td>\n",
       "    </tr>\n",
       "    <tr>\n",
       "      <th>1</th>\n",
       "      <td>ICE-NODE_UNIFORM</td>\n",
       "      <td>11</td>\n",
       "      <td>0.926</td>\n",
       "    </tr>\n",
       "    <tr>\n",
       "      <th>2</th>\n",
       "      <td>GRU</td>\n",
       "      <td>14</td>\n",
       "      <td>0.924</td>\n",
       "    </tr>\n",
       "    <tr>\n",
       "      <th>3</th>\n",
       "      <td>RETAIN</td>\n",
       "      <td>42</td>\n",
       "      <td>0.927</td>\n",
       "    </tr>\n",
       "  </tbody>\n",
       "</table>\n",
       "</div>"
      ],
      "text/plain": [
       "                Clf  Best_i  MICRO-AUC\n",
       "0          ICE-NODE      45      0.926\n",
       "1  ICE-NODE_UNIFORM      11      0.926\n",
       "2               GRU      14      0.924\n",
       "3            RETAIN      42      0.927"
      ]
     },
     "metadata": {},
     "output_type": "display_data"
    },
    {
     "name": "stdout",
     "output_type": "stream",
     "text": [
      "> Models (GRAM) trained on MIMIC-III\n"
     ]
    },
    {
     "data": {
      "text/html": [
       "<div>\n",
       "<style scoped>\n",
       "    .dataframe tbody tr th:only-of-type {\n",
       "        vertical-align: middle;\n",
       "    }\n",
       "\n",
       "    .dataframe tbody tr th {\n",
       "        vertical-align: top;\n",
       "    }\n",
       "\n",
       "    .dataframe thead th {\n",
       "        text-align: right;\n",
       "    }\n",
       "</style>\n",
       "<table border=\"1\" class=\"dataframe\">\n",
       "  <thead>\n",
       "    <tr style=\"text-align: right;\">\n",
       "      <th></th>\n",
       "      <th>Clf</th>\n",
       "      <th>Best_i</th>\n",
       "      <th>MICRO-AUC</th>\n",
       "    </tr>\n",
       "  </thead>\n",
       "  <tbody>\n",
       "    <tr>\n",
       "      <th>0</th>\n",
       "      <td>ICE-NODE</td>\n",
       "      <td>81</td>\n",
       "      <td>0.925</td>\n",
       "    </tr>\n",
       "    <tr>\n",
       "      <th>1</th>\n",
       "      <td>ICE-NODE_UNIFORM</td>\n",
       "      <td>82</td>\n",
       "      <td>0.925</td>\n",
       "    </tr>\n",
       "    <tr>\n",
       "      <th>2</th>\n",
       "      <td>GRU</td>\n",
       "      <td>14</td>\n",
       "      <td>0.923</td>\n",
       "    </tr>\n",
       "  </tbody>\n",
       "</table>\n",
       "</div>"
      ],
      "text/plain": [
       "                Clf  Best_i  MICRO-AUC\n",
       "0          ICE-NODE      81      0.925\n",
       "1  ICE-NODE_UNIFORM      82      0.925\n",
       "2               GRU      14      0.923"
      ]
     },
     "metadata": {},
     "output_type": "display_data"
    }
   ],
   "source": [
    "# Classifiers with Linear Embeddings\n",
    "clfs = (\n",
    "    'ICE-NODE', \n",
    "    'ICE-NODE_UNIFORM',\n",
    "    'GRU',\n",
    "    'RETAIN'\n",
    ")\n",
    "\n",
    "\n",
    "# Classifiers with GRAM Embeddings\n",
    "clfsG = (\n",
    "    'ICE-NODE', \n",
    "    'ICE-NODE_UNIFORM',\n",
    "    'GRU'\n",
    ")\n",
    "\n",
    "print('> Models trained on MIMIC-IV')\n",
    "\n",
    "m4_config_uAUC, m4_params_uAUC, m4_df_uAUC = get_trained_models('M4', clfs, 'MICRO-AUC', comp=max)\n",
    "\n",
    "print('> Models trained on MIMIC-III')\n",
    "\n",
    "m3_config_uAUC, m3_params_uAUC, m3_df_uAUC = get_trained_models('M3', clfs, 'MICRO-AUC', comp=max)\n",
    "\n",
    "print('> Models (GRAM) trained on MIMIC-III')\n",
    "\n",
    "m3_config_uAUCG, m3_params_uAUCG, m3_df_uAUCG = get_trained_models('GM3', clfsG, 'MICRO-AUC', comp=max)\n"
   ]
  },
  {
   "cell_type": "code",
   "execution_count": 70,
   "id": "45c03ba4",
   "metadata": {},
   "outputs": [
    {
     "name": "stdout",
     "output_type": "stream",
     "text": [
      "> Models trained on MIMIC-IV\n"
     ]
    },
    {
     "data": {
      "text/html": [
       "<div>\n",
       "<style scoped>\n",
       "    .dataframe tbody tr th:only-of-type {\n",
       "        vertical-align: middle;\n",
       "    }\n",
       "\n",
       "    .dataframe tbody tr th {\n",
       "        vertical-align: top;\n",
       "    }\n",
       "\n",
       "    .dataframe thead th {\n",
       "        text-align: right;\n",
       "    }\n",
       "</style>\n",
       "<table border=\"1\" class=\"dataframe\">\n",
       "  <thead>\n",
       "    <tr style=\"text-align: right;\">\n",
       "      <th></th>\n",
       "      <th>Clf</th>\n",
       "      <th>Best_i</th>\n",
       "      <th>&lt;function combine_acc at 0x7f286022aca0&gt;</th>\n",
       "    </tr>\n",
       "  </thead>\n",
       "  <tbody>\n",
       "    <tr>\n",
       "      <th>0</th>\n",
       "      <td>ICE-NODE</td>\n",
       "      <td>41</td>\n",
       "      <td>0.127</td>\n",
       "    </tr>\n",
       "    <tr>\n",
       "      <th>1</th>\n",
       "      <td>ICE-NODE_UNIFORM</td>\n",
       "      <td>41</td>\n",
       "      <td>0.126</td>\n",
       "    </tr>\n",
       "    <tr>\n",
       "      <th>2</th>\n",
       "      <td>GRU</td>\n",
       "      <td>77</td>\n",
       "      <td>0.128</td>\n",
       "    </tr>\n",
       "    <tr>\n",
       "      <th>3</th>\n",
       "      <td>RETAIN</td>\n",
       "      <td>16</td>\n",
       "      <td>0.128</td>\n",
       "    </tr>\n",
       "  </tbody>\n",
       "</table>\n",
       "</div>"
      ],
      "text/plain": [
       "                Clf  Best_i  <function combine_acc at 0x7f286022aca0>\n",
       "0          ICE-NODE      41                                     0.127\n",
       "1  ICE-NODE_UNIFORM      41                                     0.126\n",
       "2               GRU      77                                     0.128\n",
       "3            RETAIN      16                                     0.128"
      ]
     },
     "metadata": {},
     "output_type": "display_data"
    },
    {
     "name": "stdout",
     "output_type": "stream",
     "text": [
      "> Models trained on MIMIC-III\n"
     ]
    },
    {
     "data": {
      "text/html": [
       "<div>\n",
       "<style scoped>\n",
       "    .dataframe tbody tr th:only-of-type {\n",
       "        vertical-align: middle;\n",
       "    }\n",
       "\n",
       "    .dataframe tbody tr th {\n",
       "        vertical-align: top;\n",
       "    }\n",
       "\n",
       "    .dataframe thead th {\n",
       "        text-align: right;\n",
       "    }\n",
       "</style>\n",
       "<table border=\"1\" class=\"dataframe\">\n",
       "  <thead>\n",
       "    <tr style=\"text-align: right;\">\n",
       "      <th></th>\n",
       "      <th>Clf</th>\n",
       "      <th>Best_i</th>\n",
       "      <th>&lt;function combine_acc at 0x7f286022aca0&gt;</th>\n",
       "    </tr>\n",
       "  </thead>\n",
       "  <tbody>\n",
       "    <tr>\n",
       "      <th>0</th>\n",
       "      <td>ICE-NODE</td>\n",
       "      <td>10</td>\n",
       "      <td>0.110</td>\n",
       "    </tr>\n",
       "    <tr>\n",
       "      <th>1</th>\n",
       "      <td>ICE-NODE_UNIFORM</td>\n",
       "      <td>76</td>\n",
       "      <td>0.109</td>\n",
       "    </tr>\n",
       "    <tr>\n",
       "      <th>2</th>\n",
       "      <td>GRU</td>\n",
       "      <td>55</td>\n",
       "      <td>0.107</td>\n",
       "    </tr>\n",
       "    <tr>\n",
       "      <th>3</th>\n",
       "      <td>RETAIN</td>\n",
       "      <td>44</td>\n",
       "      <td>0.110</td>\n",
       "    </tr>\n",
       "  </tbody>\n",
       "</table>\n",
       "</div>"
      ],
      "text/plain": [
       "                Clf  Best_i  <function combine_acc at 0x7f286022aca0>\n",
       "0          ICE-NODE      10                                     0.110\n",
       "1  ICE-NODE_UNIFORM      76                                     0.109\n",
       "2               GRU      55                                     0.107\n",
       "3            RETAIN      44                                     0.110"
      ]
     },
     "metadata": {},
     "output_type": "display_data"
    },
    {
     "name": "stdout",
     "output_type": "stream",
     "text": [
      "> Models (GRAM) trained on MIMIC-III\n"
     ]
    },
    {
     "data": {
      "text/html": [
       "<div>\n",
       "<style scoped>\n",
       "    .dataframe tbody tr th:only-of-type {\n",
       "        vertical-align: middle;\n",
       "    }\n",
       "\n",
       "    .dataframe tbody tr th {\n",
       "        vertical-align: top;\n",
       "    }\n",
       "\n",
       "    .dataframe thead th {\n",
       "        text-align: right;\n",
       "    }\n",
       "</style>\n",
       "<table border=\"1\" class=\"dataframe\">\n",
       "  <thead>\n",
       "    <tr style=\"text-align: right;\">\n",
       "      <th></th>\n",
       "      <th>Clf</th>\n",
       "      <th>Best_i</th>\n",
       "      <th>&lt;function combine_acc at 0x7f286022aca0&gt;</th>\n",
       "    </tr>\n",
       "  </thead>\n",
       "  <tbody>\n",
       "    <tr>\n",
       "      <th>0</th>\n",
       "      <td>ICE-NODE</td>\n",
       "      <td>41</td>\n",
       "      <td>0.108</td>\n",
       "    </tr>\n",
       "    <tr>\n",
       "      <th>1</th>\n",
       "      <td>ICE-NODE_UNIFORM</td>\n",
       "      <td>10</td>\n",
       "      <td>0.107</td>\n",
       "    </tr>\n",
       "    <tr>\n",
       "      <th>2</th>\n",
       "      <td>GRU</td>\n",
       "      <td>11</td>\n",
       "      <td>0.106</td>\n",
       "    </tr>\n",
       "  </tbody>\n",
       "</table>\n",
       "</div>"
      ],
      "text/plain": [
       "                Clf  Best_i  <function combine_acc at 0x7f286022aca0>\n",
       "0          ICE-NODE      41                                     0.108\n",
       "1  ICE-NODE_UNIFORM      10                                     0.107\n",
       "2               GRU      11                                     0.106"
      ]
     },
     "metadata": {},
     "output_type": "display_data"
    }
   ],
   "source": [
    "def combine_acc(row):\n",
    "    return 1 / (1 / row.loc[list(f'ACC-P{i}' for i in range(5))]).sum()\n",
    "\n",
    "print('> Models trained on MIMIC-IV')\n",
    "\n",
    "m4_config_comb, m4_params_comb, m4_df_comb = get_trained_models('M4', clfs,\n",
    "                                                                combine_acc, \n",
    "                                                                comp=max)\n",
    "\n",
    "print('> Models trained on MIMIC-III')\n",
    "\n",
    "m3_config_comb, m3_params_comb, m3_df_comb = get_trained_models('M3', clfs, combine_acc, comp=max)\n",
    "\n",
    "print('> Models (GRAM) trained on MIMIC-III')\n",
    "\n",
    "m3_config_combG, m3_params_combG, m3_df_combG = get_trained_models('GM3', clfsG, combine_acc, comp=max)\n"
   ]
  },
  {
   "cell_type": "code",
   "execution_count": 9,
   "id": "6ad6ecc6",
   "metadata": {},
   "outputs": [],
   "source": [
    "m4_models_uAUC = get_models(clfs, m4_config_uAUC, m4_params_uAUC, m4_interface)\n",
    "m3_models_uAUC = get_models(clfs, m3_config_uAUC, m3_params_uAUC, m3_interface)\n",
    "m3_models_uAUCG = get_models(clfsG, m3_config_uAUCG, m3_params_uAUCG, m3_interface)"
   ]
  },
  {
   "cell_type": "code",
   "execution_count": 71,
   "id": "4f9b2fc9",
   "metadata": {},
   "outputs": [],
   "source": [
    "m4_models_comb = get_models(clfs, m4_config_comb, m4_params_comb, m4_interface)\n",
    "m3_models_comb = get_models(clfs, m3_config_comb, m3_params_comb, m3_interface)\n",
    "m3_models_combG = get_models(clfsG, m3_config_combG, m3_params_combG, m3_interface)"
   ]
  },
  {
   "cell_type": "markdown",
   "id": "671801dd",
   "metadata": {},
   "source": [
    "### Snooping on MIMIC-III Validation Set"
   ]
  },
  {
   "cell_type": "code",
   "execution_count": 72,
   "id": "324a57b6",
   "metadata": {},
   "outputs": [
    {
     "name": "stderr",
     "output_type": "stream",
     "text": [
      " 55%|██████████████████████████████████████████████████████████████████████████████████████████████████████████████████████████████████████████████████████████████████████████████████████████████████████████████████▌                                                                                                                                                                               | 132/242 [00:07<00:05, 19.43it/s]/home/asem/GP/ICENODE/analysis/../icenode/delong.py:203: RuntimeWarning: invalid value encountered in true_divide\n",
      "  z = np.abs(np.diff(aucs)) / np.sqrt(np.dot(np.dot(l, sigma), l.T))\n",
      "100%|██████████████████████████████████████████████████████████████████████████████████████████████████████████████████████████████████████████████████████████████████████████████████████████████████████████████████████████████████████████████████████████████████████████████████████████████████████████████████████████████████████████████████████████████████████████████████████████████████| 242/242 [00:14<00:00, 16.20it/s]\n"
     ]
    }
   ],
   "source": [
    "m3_val_res_uAUC = {clf: eval_(model, m3_valid_ids) for clf, model in m3_models_uAUC.items()} \n",
    "m3_val_res_comb = {clf: eval_(model, m3_valid_ids) for clf, model in m3_models_comb.items()} \n",
    "\n",
    "m3_val_res_all = {\n",
    "    **{f'{clf}_uAUC': res for clf, res in m3_val_res_uAUC.items()},\n",
    "    **{f'{clf}_comb': res for clf, res in m3_val_res_comb.items()}\n",
    "}\n",
    "m3_val_auctests_all = codes_auc_pairwise_tests(m3_val_res_all, fast=True)"
   ]
  },
  {
   "cell_type": "code",
   "execution_count": 73,
   "id": "846a21ae",
   "metadata": {},
   "outputs": [
    {
     "name": "stdout",
     "output_type": "stream",
     "text": [
      "184 codes predicted an AUC higher than 0.85 by at least one model.\n"
     ]
    },
    {
     "data": {
      "image/png": "[encoded data removed]",
      "text/plain": [
       "<Figure size 576x448 with 4 Axes>"
      ]
     },
     "metadata": {
      "needs_background": "light"
     },
     "output_type": "display_data"
    }
   ],
   "source": [
    "\n",
    "selected_clfs = tuple(sorted(m3_val_res_all.keys()))\n",
    "content_set, indicator_df, data, common_codes, dichotomous_codes = relative_performance_upset(m3_val_auctests_all, selected_clfs, \n",
    "                                                                                              m3_interface[clfs[0]],\n",
    "                                                                                              m3_train_ids,\n",
    "                                                                                              **relative_auc_config)\n",
    "upset_format = from_indicators(indicator_df, data=data)\n",
    "upset_object = UpSet(upset_format, subset_size='count', show_counts=True)\n",
    "\n",
    "upset_object.plot()\n",
    "plt.show()"
   ]
  },
  {
   "cell_type": "markdown",
   "id": "1abefc5e",
   "metadata": {},
   "source": [
    "### Snooping on MIMIC-IV Validation Set"
   ]
  },
  {
   "cell_type": "code",
   "execution_count": 74,
   "id": "1cefe722",
   "metadata": {},
   "outputs": [
    {
     "name": "stderr",
     "output_type": "stream",
     "text": [
      "100%|██████████████████████████████████████████████████████████████████████████████████████████████████████████████████████████████████████████████████████████████████████████████████████████████████████████████████████████████████████████████████████████████████████████████████████████████████████████████████████████████████████████████████████████████████████████████████████████████████| 242/242 [08:12<00:00,  2.04s/it]\n"
     ]
    }
   ],
   "source": [
    "m4_val_res_uAUC = {clf: eval_(model, m4_valid_ids) for clf, model in m4_models_uAUC.items()} \n",
    "m4_val_res_comb = {clf: eval_(model, m4_valid_ids) for clf, model in m4_models_comb.items()} \n",
    "\n",
    "m4_val_res_all = {\n",
    "    **{f'{clf}_uAUC': res for clf, res in m4_val_res_uAUC.items()},\n",
    "    **{f'{clf}_comb': res for clf, res in m4_val_res_comb.items()}\n",
    "}\n",
    "m4_val_auctests_all = codes_auc_pairwise_tests(m4_val_res_all, fast=True)"
   ]
  },
  {
   "cell_type": "code",
   "execution_count": 75,
   "id": "03eb1074",
   "metadata": {},
   "outputs": [
    {
     "name": "stdout",
     "output_type": "stream",
     "text": [
      "237 codes predicted an AUC higher than 0.85 by at least one model.\n"
     ]
    },
    {
     "data": {
      "image/png": "[encoded data removed]",
      "text/plain": [
       "<Figure size 960x448 with 4 Axes>"
      ]
     },
     "metadata": {
      "needs_background": "light"
     },
     "output_type": "display_data"
    }
   ],
   "source": [
    "selected_clfs = tuple(sorted(m4_val_res_all.keys()))\n",
    "content_set, indicator_df, data, common_codes, dichotomous_codes = relative_performance_upset(m4_val_auctests_all,\n",
    "                                                                                              selected_clfs, \n",
    "                                                                                              m4_interface[clfs[0]],\n",
    "                                                                                              m4_train_ids,\n",
    "                                                                                              **relative_auc_config)\n",
    "upset_format = from_indicators(indicator_df, data=data)\n",
    "upset_object = UpSet(upset_format, subset_size='count', show_counts=True)\n",
    "\n",
    "upset_object.plot()\n",
    "plt.show()"
   ]
  },
  {
   "cell_type": "markdown",
   "id": "58168a0c",
   "metadata": {},
   "source": [
    "### Snooping Conclusion\n",
    "\n",
    "In the cells above, we evaluate the model competency by the number of codes\n",
    "predicted competently compared to the other models.\n",
    "It is realized that for `GRU`, `RETAIN`, and `ICENODE_UNIFORM`, the competency is maximized by picking the\n",
    "model with minimum validation loss throughout the training iterations.\n",
    "However, `ICENODE` competency is maximized by picking the model with maximum average validation AUC throughout the training iterations. Therefore, subsequent evaluations will consider only the most competent models on the validation set, as we select in the next cell."
   ]
  },
  {
   "cell_type": "code",
   "execution_count": 76,
   "id": "3eda8ad0",
   "metadata": {},
   "outputs": [],
   "source": [
    "m4_config = {}\n",
    "m4_params = {}\n",
    "m4_eval = {}\n",
    "\n",
    "m3_config = {}\n",
    "m3_params = {}\n",
    "m3_eval = {}\n",
    "\n",
    "gm3_config = {}\n",
    "gm3_params = {}\n",
    "gm3_eval = {}\n",
    "\n",
    "selection_dicts = (m4_config, m4_params, m4_eval, \n",
    "                   m3_config, m3_params, m3_eval, \n",
    "                   gm3_config, gm3_params, gm3_eval)\n",
    "\n",
    "uAUC_dicts = (m4_config_uAUC, m4_params_uAUC, m4_df_uAUC,\n",
    "              m3_config_uAUC, m3_params_uAUC, m3_df_uAUC,\n",
    "              m3_config_uAUCG, m3_params_uAUCG, m3_df_uAUCG)\n",
    "\n",
    "for clf in ('GRU', 'RETAIN', 'ICE-NODE', 'ICE-NODE_UNIFORM'):\n",
    "#     best_dicts = maxauc_dicts\n",
    "#     if clf == 'ICE-NODE':\n",
    "\n",
    "#     else:\n",
    "#     best_dicts = minloss_dicts\n",
    "        \n",
    "    for dict_a, dict_b in zip(selection_dicts, uAUC_dicts):\n",
    "        if clf in dict_b:\n",
    "            dict_a[clf] = dict_b[clf]"
   ]
  },
  {
   "cell_type": "markdown",
   "id": "bc6f05b4",
   "metadata": {},
   "source": [
    "<a name=\"sec2\"></a>\n",
    "\n",
    "## 2 Top-20 Detection Accuracy on MIMIC-III (Test Set) [^](#outline)"
   ]
  },
  {
   "cell_type": "code",
   "execution_count": 77,
   "id": "f15046e7",
   "metadata": {},
   "outputs": [],
   "source": [
    "\n",
    "\n",
    "def styled_df(df):  \n",
    "    import numpy as np\n",
    "    pd.set_option('precision', 3)\n",
    "    def highlight_max(s, props=''):\n",
    "        return np.where(s == np.nanmax(s.values), props, '')\n",
    "    \n",
    "    s_df = df.style\n",
    "    s_df = s_df.apply(highlight_max, props='bfseries: ;color:white;background-color:darkblue', axis=0)\n",
    "    texttt = [{'selector': 'th', 'props': 'font-family: monospace;'}]\n",
    "\n",
    "    latex_str = s_df.to_latex(convert_css=True)\n",
    "    for clf in df.index.tolist():\n",
    "        latex_str = latex_str.replace(clf, f'\\\\texttt{{{clf}}}', 1)\n",
    "    latex_str = latex_str.replace('_', '\\\\_')\n",
    "    return s_df, latex_str"
   ]
  },
  {
   "cell_type": "code",
   "execution_count": null,
   "id": "c41226b0",
   "metadata": {},
   "outputs": [],
   "source": []
  },
  {
   "cell_type": "code",
   "execution_count": 78,
   "id": "8241eae5",
   "metadata": {},
   "outputs": [
    {
     "data": {
      "text/html": [
       "<style type=\"text/css\">\n",
       "#T_e49d3_row0_col0, #T_e49d3_row1_col1, #T_e49d3_row3_col2, #T_e49d3_row3_col3, #T_e49d3_row3_col4 {\n",
       "  bfseries: ;\n",
       "  color: white;\n",
       "  background-color: darkblue;\n",
       "}\n",
       "</style>\n",
       "<table id=\"T_e49d3_\">\n",
       "  <thead>\n",
       "    <tr>\n",
       "      <th class=\"blank level0\" >&nbsp;</th>\n",
       "      <th class=\"col_heading level0 col0\" >ACC-P0</th>\n",
       "      <th class=\"col_heading level0 col1\" >ACC-P1</th>\n",
       "      <th class=\"col_heading level0 col2\" >ACC-P2</th>\n",
       "      <th class=\"col_heading level0 col3\" >ACC-P3</th>\n",
       "      <th class=\"col_heading level0 col4\" >ACC-P4</th>\n",
       "    </tr>\n",
       "  </thead>\n",
       "  <tbody>\n",
       "    <tr>\n",
       "      <th id=\"T_e49d3_level0_row0\" class=\"row_heading level0 row0\" >ICE-NODE</th>\n",
       "      <td id=\"T_e49d3_row0_col0\" class=\"data row0 col0\" >0.265</td>\n",
       "      <td id=\"T_e49d3_row0_col1\" class=\"data row0 col1\" >0.504</td>\n",
       "      <td id=\"T_e49d3_row0_col2\" class=\"data row0 col2\" >0.675</td>\n",
       "      <td id=\"T_e49d3_row0_col3\" class=\"data row0 col3\" >0.854</td>\n",
       "      <td id=\"T_e49d3_row0_col4\" class=\"data row0 col4\" >0.943</td>\n",
       "    </tr>\n",
       "    <tr>\n",
       "      <th id=\"T_e49d3_level0_row1\" class=\"row_heading level0 row1\" >ICE-NODE_UNIFORM</th>\n",
       "      <td id=\"T_e49d3_row1_col0\" class=\"data row1 col0\" >0.258</td>\n",
       "      <td id=\"T_e49d3_row1_col1\" class=\"data row1 col1\" >0.506</td>\n",
       "      <td id=\"T_e49d3_row1_col2\" class=\"data row1 col2\" >0.670</td>\n",
       "      <td id=\"T_e49d3_row1_col3\" class=\"data row1 col3\" >0.861</td>\n",
       "      <td id=\"T_e49d3_row1_col4\" class=\"data row1 col4\" >0.945</td>\n",
       "    </tr>\n",
       "    <tr>\n",
       "      <th id=\"T_e49d3_level0_row2\" class=\"row_heading level0 row2\" >GRU</th>\n",
       "      <td id=\"T_e49d3_row2_col0\" class=\"data row2 col0\" >0.248</td>\n",
       "      <td id=\"T_e49d3_row2_col1\" class=\"data row2 col1\" >0.478</td>\n",
       "      <td id=\"T_e49d3_row2_col2\" class=\"data row2 col2\" >0.660</td>\n",
       "      <td id=\"T_e49d3_row2_col3\" class=\"data row2 col3\" >0.859</td>\n",
       "      <td id=\"T_e49d3_row2_col4\" class=\"data row2 col4\" >0.954</td>\n",
       "    </tr>\n",
       "    <tr>\n",
       "      <th id=\"T_e49d3_level0_row3\" class=\"row_heading level0 row3\" >RETAIN</th>\n",
       "      <td id=\"T_e49d3_row3_col0\" class=\"data row3 col0\" >0.245</td>\n",
       "      <td id=\"T_e49d3_row3_col1\" class=\"data row3 col1\" >0.487</td>\n",
       "      <td id=\"T_e49d3_row3_col2\" class=\"data row3 col2\" >0.690</td>\n",
       "      <td id=\"T_e49d3_row3_col3\" class=\"data row3 col3\" >0.877</td>\n",
       "      <td id=\"T_e49d3_row3_col4\" class=\"data row3 col4\" >0.967</td>\n",
       "    </tr>\n",
       "    <tr>\n",
       "      <th id=\"T_e49d3_level0_row4\" class=\"row_heading level0 row4\" >ICE-NODE/G</th>\n",
       "      <td id=\"T_e49d3_row4_col0\" class=\"data row4 col0\" >0.244</td>\n",
       "      <td id=\"T_e49d3_row4_col1\" class=\"data row4 col1\" >0.501</td>\n",
       "      <td id=\"T_e49d3_row4_col2\" class=\"data row4 col2\" >0.673</td>\n",
       "      <td id=\"T_e49d3_row4_col3\" class=\"data row4 col3\" >0.858</td>\n",
       "      <td id=\"T_e49d3_row4_col4\" class=\"data row4 col4\" >0.944</td>\n",
       "    </tr>\n",
       "    <tr>\n",
       "      <th id=\"T_e49d3_level0_row5\" class=\"row_heading level0 row5\" >ICE-NODE_UNIFORM/G</th>\n",
       "      <td id=\"T_e49d3_row5_col0\" class=\"data row5 col0\" >0.244</td>\n",
       "      <td id=\"T_e49d3_row5_col1\" class=\"data row5 col1\" >0.501</td>\n",
       "      <td id=\"T_e49d3_row5_col2\" class=\"data row5 col2\" >0.677</td>\n",
       "      <td id=\"T_e49d3_row5_col3\" class=\"data row5 col3\" >0.859</td>\n",
       "      <td id=\"T_e49d3_row5_col4\" class=\"data row5 col4\" >0.944</td>\n",
       "    </tr>\n",
       "    <tr>\n",
       "      <th id=\"T_e49d3_level0_row6\" class=\"row_heading level0 row6\" >GRU/G</th>\n",
       "      <td id=\"T_e49d3_row6_col0\" class=\"data row6 col0\" >0.236</td>\n",
       "      <td id=\"T_e49d3_row6_col1\" class=\"data row6 col1\" >0.465</td>\n",
       "      <td id=\"T_e49d3_row6_col2\" class=\"data row6 col2\" >0.663</td>\n",
       "      <td id=\"T_e49d3_row6_col3\" class=\"data row6 col3\" >0.864</td>\n",
       "      <td id=\"T_e49d3_row6_col4\" class=\"data row6 col4\" >0.953</td>\n",
       "    </tr>\n",
       "  </tbody>\n",
       "</table>\n"
      ],
      "text/plain": [
       "<pandas.io.formats.style.Styler at 0x7f2919123700>"
      ]
     },
     "metadata": {},
     "output_type": "display_data"
    },
    {
     "name": "stdout",
     "output_type": "stream",
     "text": [
      "\\begin{tabular}{lrrrrr}\n",
      "{} & {ACC-P0} & {ACC-P1} & {ACC-P2} & {ACC-P3} & {ACC-P4} \\\\\n",
      "\\texttt{ICE-NODE} & \\color{white} {\\cellcolor{darkblue}} 0.265 & 0.504 & 0.675 & 0.854 & 0.943 \\\\\n",
      "\\texttt{ICE-NODE\\_UNIFORM} & 0.258 & \\color{white} {\\cellcolor{darkblue}} 0.506 & 0.670 & 0.861 & 0.945 \\\\\n",
      "\\texttt{GRU} & 0.248 & 0.478 & 0.660 & 0.859 & 0.954 \\\\\n",
      "\\texttt{RETAIN} & 0.245 & 0.487 & \\color{white} {\\cellcolor{darkblue}} 0.690 & \\color{white} {\\cellcolor{darkblue}} 0.877 & \\color{white} {\\cellcolor{darkblue}} 0.967 \\\\\n",
      "\\texttt{ICE-NODE/G} & 0.244 & 0.501 & 0.673 & 0.858 & 0.944 \\\\\n",
      "\\texttt{ICE-NODE\\_UNIFORM/G} & 0.244 & 0.501 & 0.677 & 0.859 & 0.944 \\\\\n",
      "\\texttt{GRU/G} & 0.236 & 0.465 & 0.663 & 0.864 & 0.953 \\\\\n",
      "\\end{tabular}\n",
      "\n"
     ]
    }
   ],
   "source": [
    "# Pick the best models results from max_auc and min_loss snapshots on the validation data.\n",
    "\n",
    "\n",
    "\n",
    "df_acc20_dict = {\n",
    "    **{clf: m3_eval[clf] for clf in ('ICE-NODE', 'ICE-NODE_UNIFORM', 'GRU', 'RETAIN')},\n",
    "    **{f'{clf}/G': gm3_eval[clf] for clf in ('ICE-NODE', 'ICE-NODE_UNIFORM', 'GRU')},\n",
    "}\n",
    "\n",
    "df_acc20 = test_eval_table(df_acc20_dict, list(f'ACC-P{i}' for i in range(5)))\n",
    "df_acc20 = df_acc20.apply(lambda x: round(x, 3))\n",
    "df_acc20.to_csv(f'acc20_mimic3.csv')\n",
    "\n",
    "s_df, ltx_s = styled_df(df_acc20)\n",
    "display(s_df)\n",
    "print(ltx_s)"
   ]
  },
  {
   "cell_type": "markdown",
   "id": "52f1d11a",
   "metadata": {},
   "source": [
    "<a name=\"sec3\"></a>\n",
    "\n",
    "## 3 Top-20 Detection Accuracy on MIMIC-IV (Test Set) [^](#outline)"
   ]
  },
  {
   "cell_type": "code",
   "execution_count": 79,
   "id": "327f332c",
   "metadata": {},
   "outputs": [
    {
     "data": {
      "text/html": [
       "<style type=\"text/css\">\n",
       "#T_763e6_row0_col0, #T_763e6_row2_col1, #T_763e6_row2_col2, #T_763e6_row3_col3, #T_763e6_row3_col4 {\n",
       "  bfseries: ;\n",
       "  color: white;\n",
       "  background-color: darkblue;\n",
       "}\n",
       "</style>\n",
       "<table id=\"T_763e6_\">\n",
       "  <thead>\n",
       "    <tr>\n",
       "      <th class=\"blank level0\" >&nbsp;</th>\n",
       "      <th class=\"col_heading level0 col0\" >ACC-P0</th>\n",
       "      <th class=\"col_heading level0 col1\" >ACC-P1</th>\n",
       "      <th class=\"col_heading level0 col2\" >ACC-P2</th>\n",
       "      <th class=\"col_heading level0 col3\" >ACC-P3</th>\n",
       "      <th class=\"col_heading level0 col4\" >ACC-P4</th>\n",
       "    </tr>\n",
       "  </thead>\n",
       "  <tbody>\n",
       "    <tr>\n",
       "      <th id=\"T_763e6_level0_row0\" class=\"row_heading level0 row0\" >ICE-NODE</th>\n",
       "      <td id=\"T_763e6_row0_col0\" class=\"data row0 col0\" >0.406</td>\n",
       "      <td id=\"T_763e6_row0_col1\" class=\"data row0 col1\" >0.548</td>\n",
       "      <td id=\"T_763e6_row0_col2\" class=\"data row0 col2\" >0.704</td>\n",
       "      <td id=\"T_763e6_row0_col3\" class=\"data row0 col3\" >0.869</td>\n",
       "      <td id=\"T_763e6_row0_col4\" class=\"data row0 col4\" >0.942</td>\n",
       "    </tr>\n",
       "    <tr>\n",
       "      <th id=\"T_763e6_level0_row1\" class=\"row_heading level0 row1\" >ICE-NODE_UNIFORM</th>\n",
       "      <td id=\"T_763e6_row1_col0\" class=\"data row1 col0\" >0.405</td>\n",
       "      <td id=\"T_763e6_row1_col1\" class=\"data row1 col1\" >0.540</td>\n",
       "      <td id=\"T_763e6_row1_col2\" class=\"data row1 col2\" >0.694</td>\n",
       "      <td id=\"T_763e6_row1_col3\" class=\"data row1 col3\" >0.870</td>\n",
       "      <td id=\"T_763e6_row1_col4\" class=\"data row1 col4\" >0.944</td>\n",
       "    </tr>\n",
       "    <tr>\n",
       "      <th id=\"T_763e6_level0_row2\" class=\"row_heading level0 row2\" >GRU</th>\n",
       "      <td id=\"T_763e6_row2_col0\" class=\"data row2 col0\" >0.396</td>\n",
       "      <td id=\"T_763e6_row2_col1\" class=\"data row2 col1\" >0.558</td>\n",
       "      <td id=\"T_763e6_row2_col2\" class=\"data row2 col2\" >0.733</td>\n",
       "      <td id=\"T_763e6_row2_col3\" class=\"data row2 col3\" >0.896</td>\n",
       "      <td id=\"T_763e6_row2_col4\" class=\"data row2 col4\" >0.950</td>\n",
       "    </tr>\n",
       "    <tr>\n",
       "      <th id=\"T_763e6_level0_row3\" class=\"row_heading level0 row3\" >RETAIN</th>\n",
       "      <td id=\"T_763e6_row3_col0\" class=\"data row3 col0\" >0.398</td>\n",
       "      <td id=\"T_763e6_row3_col1\" class=\"data row3 col1\" >0.544</td>\n",
       "      <td id=\"T_763e6_row3_col2\" class=\"data row3 col2\" >0.725</td>\n",
       "      <td id=\"T_763e6_row3_col3\" class=\"data row3 col3\" >0.898</td>\n",
       "      <td id=\"T_763e6_row3_col4\" class=\"data row3 col4\" >0.963</td>\n",
       "    </tr>\n",
       "  </tbody>\n",
       "</table>\n"
      ],
      "text/plain": [
       "<pandas.io.formats.style.Styler at 0x7f29195b0e50>"
      ]
     },
     "metadata": {},
     "output_type": "display_data"
    },
    {
     "name": "stdout",
     "output_type": "stream",
     "text": [
      "\\begin{tabular}{lrrrrr}\n",
      "{} & {ACC-P0} & {ACC-P1} & {ACC-P2} & {ACC-P3} & {ACC-P4} \\\\\n",
      "\\texttt{ICE-NODE} & \\color{white} {\\cellcolor{darkblue}} 0.406 & 0.548 & 0.704 & 0.869 & 0.942 \\\\\n",
      "\\texttt{ICE-NODE\\_UNIFORM} & 0.405 & 0.540 & 0.694 & 0.870 & 0.944 \\\\\n",
      "\\texttt{GRU} & 0.396 & \\color{white} {\\cellcolor{darkblue}} 0.558 & \\color{white} {\\cellcolor{darkblue}} 0.733 & 0.896 & 0.950 \\\\\n",
      "\\texttt{RETAIN} & 0.398 & 0.544 & 0.725 & \\color{white} {\\cellcolor{darkblue}} 0.898 & \\color{white} {\\cellcolor{darkblue}} 0.963 \\\\\n",
      "\\end{tabular}\n",
      "\n"
     ]
    }
   ],
   "source": [
    "# Pick the best models results from max_auc and min_loss snapshots on the validation data.\n",
    "df_acc20 = {\n",
    "    clf: m4_eval[clf] for clf in ('ICE-NODE', 'ICE-NODE_UNIFORM', 'GRU', 'RETAIN')\n",
    "}\n",
    "\n",
    "df_acc20 = test_eval_table(df_acc20, list(f'ACC-P{i}' for i in range(5)))\n",
    "df_acc20 = df_acc20.apply(lambda x: round(x, 3))\n",
    "df_acc20.to_csv(f'acc20_mimic4.csv')\n",
    "\n",
    "s_df, ltx_s = styled_df(df_acc20)\n",
    "display(s_df)\n",
    "print(ltx_s)"
   ]
  },
  {
   "cell_type": "markdown",
   "id": "f6323308",
   "metadata": {},
   "source": [
    "<a name=\"sec4\"></a>\n",
    "\n",
    "## 4 Relative AUC Performance on MIMIC-III (Test Set) [^](#outline)"
   ]
  },
  {
   "cell_type": "code",
   "execution_count": 80,
   "id": "7ff5b1ff",
   "metadata": {},
   "outputs": [],
   "source": [
    "\n",
    "m3_clfs =  ('ICE-NODE', 'ICE-NODE_UNIFORM', 'GRU', 'RETAIN',\n",
    "           'ICE-NODE/G', 'ICE-NODE_UNIFORM/G', 'GRU/G')\n",
    "m3_predictors = {clf: cross_predictor(clf, 'M3', 'M3') for clf in m3_clfs}\n",
    "test_res_m3 = {clf: eval2_(model, m3_test_ids) for clf, model in m3_predictors.items()} "
   ]
  },
  {
   "cell_type": "code",
   "execution_count": 81,
   "id": "43f74ca2",
   "metadata": {},
   "outputs": [
    {
     "name": "stderr",
     "output_type": "stream",
     "text": [
      " 54%|███████████████████████████████████████████████████████████████████████████████████████████████████████████████████████████████████████████████████████████████████████████████████████████████████████████████▎                                                                                                                                                                                  | 130/242 [00:06<00:04, 23.05it/s]/home/asem/GP/ICENODE/analysis/../icenode/delong.py:203: RuntimeWarning: invalid value encountered in true_divide\n",
      "  z = np.abs(np.diff(aucs)) / np.sqrt(np.dot(np.dot(l, sigma), l.T))\n",
      "100%|██████████████████████████████████████████████████████████████████████████████████████████████████████████████████████████████████████████████████████████████████████████████████████████████████████████████████████████████████████████████████████████████████████████████████████████████████████████████████████████████████████████████████████████████████████████████████████████████████| 242/242 [00:11<00:00, 20.44it/s]\n"
     ]
    }
   ],
   "source": [
    "auctests_m3 = codes_auc_pairwise_tests({k: v['diag_detectability'] for k, v in test_res_m3.items()}, fast=True)\n"
   ]
  },
  {
   "cell_type": "code",
   "execution_count": 82,
   "id": "dee80b1f",
   "metadata": {},
   "outputs": [
    {
     "name": "stdout",
     "output_type": "stream",
     "text": [
      "183 codes predicted an AUC higher than 0.85 by at least one model.\n"
     ]
    },
    {
     "data": {
      "image/png": "[encoded data removed]",
      "text/plain": [
       "<Figure size 416x416 with 5 Axes>"
      ]
     },
     "metadata": {
      "needs_background": "light"
     },
     "output_type": "display_data"
    }
   ],
   "source": [
    "upset_clfs = ('ICE-NODE', 'ICE-NODE_UNIFORM', 'GRU', 'RETAIN')\n",
    "\n",
    "upsetcontents_m3, upsetindicator_m3, data_m3,  _, compete_codesm3 = relative_performance_upset(auctests_m3, \n",
    "                                                                                               upset_clfs, \n",
    "                                                                                               m3_interface[clfs[0]],\n",
    "                                                                                               m3_train_ids,\n",
    "                                                                                               **relative_auc_config)\n",
    "upset_format = from_indicators(upsetindicator_m3, data=data_m3)\n",
    "upset_object = UpSet(upset_format, subset_size='count', show_counts=True)\n",
    "# upset_object.add_catplot(value='Avg. AUC', kind=\"strip\")\n",
    "upset_object.add_catplot(value='#positive cases (train)', kind=\"strip\")\n",
    "g = upset_object.plot()\n",
    "g['extra1'].set_yscale('log')\n",
    "\n",
    "current_figure = plt.gcf()\n",
    "current_figure.savefig(f\"upset_M3.pdf\")"
   ]
  },
  {
   "cell_type": "code",
   "execution_count": 83,
   "id": "de1bc591",
   "metadata": {},
   "outputs": [],
   "source": [
    "results_m3_k5, _ = evaluation_table(test_res_m3, m3_train_percentiles, top_k=5)\n",
    "results_m3_k10, _ = evaluation_table(test_res_m3, m3_train_percentiles, top_k=10)\n",
    "results_m3_k15, _ = evaluation_table(test_res_m3, m3_train_percentiles, top_k=15)\n"
   ]
  },
  {
   "cell_type": "code",
   "execution_count": 84,
   "id": "43f1ce30",
   "metadata": {},
   "outputs": [
    {
     "data": {
      "text/html": [
       "<style type=\"text/css\">\n",
       "#T_1e8a4_row0_col1, #T_1e8a4_row1_col4, #T_1e8a4_row2_col0, #T_1e8a4_row3_col2, #T_1e8a4_row6_col3 {\n",
       "  bfseries: ;\n",
       "  color: white;\n",
       "  background-color: darkblue;\n",
       "}\n",
       "</style>\n",
       "<table id=\"T_1e8a4_\">\n",
       "  <thead>\n",
       "    <tr>\n",
       "      <th class=\"blank level0\" >&nbsp;</th>\n",
       "      <th class=\"col_heading level0 col0\" >ACC-P0</th>\n",
       "      <th class=\"col_heading level0 col1\" >ACC-P1</th>\n",
       "      <th class=\"col_heading level0 col2\" >ACC-P2</th>\n",
       "      <th class=\"col_heading level0 col3\" >ACC-P3</th>\n",
       "      <th class=\"col_heading level0 col4\" >ACC-P4</th>\n",
       "    </tr>\n",
       "  </thead>\n",
       "  <tbody>\n",
       "    <tr>\n",
       "      <th id=\"T_1e8a4_level0_row0\" class=\"row_heading level0 row0\" >ICE-NODE</th>\n",
       "      <td id=\"T_1e8a4_row0_col0\" class=\"data row0 col0\" >0.104</td>\n",
       "      <td id=\"T_1e8a4_row0_col1\" class=\"data row0 col1\" >0.226</td>\n",
       "      <td id=\"T_1e8a4_row0_col2\" class=\"data row0 col2\" >0.268</td>\n",
       "      <td id=\"T_1e8a4_row0_col3\" class=\"data row0 col3\" >0.337</td>\n",
       "      <td id=\"T_1e8a4_row0_col4\" class=\"data row0 col4\" >0.601</td>\n",
       "    </tr>\n",
       "    <tr>\n",
       "      <th id=\"T_1e8a4_level0_row1\" class=\"row_heading level0 row1\" >ICE-NODE_UNIFORM</th>\n",
       "      <td id=\"T_1e8a4_row1_col0\" class=\"data row1 col0\" >0.102</td>\n",
       "      <td id=\"T_1e8a4_row1_col1\" class=\"data row1 col1\" >0.221</td>\n",
       "      <td id=\"T_1e8a4_row1_col2\" class=\"data row1 col2\" >0.259</td>\n",
       "      <td id=\"T_1e8a4_row1_col3\" class=\"data row1 col3\" >0.345</td>\n",
       "      <td id=\"T_1e8a4_row1_col4\" class=\"data row1 col4\" >0.608</td>\n",
       "    </tr>\n",
       "    <tr>\n",
       "      <th id=\"T_1e8a4_level0_row2\" class=\"row_heading level0 row2\" >GRU</th>\n",
       "      <td id=\"T_1e8a4_row2_col0\" class=\"data row2 col0\" >0.116</td>\n",
       "      <td id=\"T_1e8a4_row2_col1\" class=\"data row2 col1\" >0.215</td>\n",
       "      <td id=\"T_1e8a4_row2_col2\" class=\"data row2 col2\" >0.244</td>\n",
       "      <td id=\"T_1e8a4_row2_col3\" class=\"data row2 col3\" >0.346</td>\n",
       "      <td id=\"T_1e8a4_row2_col4\" class=\"data row2 col4\" >0.556</td>\n",
       "    </tr>\n",
       "    <tr>\n",
       "      <th id=\"T_1e8a4_level0_row3\" class=\"row_heading level0 row3\" >RETAIN</th>\n",
       "      <td id=\"T_1e8a4_row3_col0\" class=\"data row3 col0\" >0.109</td>\n",
       "      <td id=\"T_1e8a4_row3_col1\" class=\"data row3 col1\" >0.225</td>\n",
       "      <td id=\"T_1e8a4_row3_col2\" class=\"data row3 col2\" >0.282</td>\n",
       "      <td id=\"T_1e8a4_row3_col3\" class=\"data row3 col3\" >0.320</td>\n",
       "      <td id=\"T_1e8a4_row3_col4\" class=\"data row3 col4\" >0.584</td>\n",
       "    </tr>\n",
       "    <tr>\n",
       "      <th id=\"T_1e8a4_level0_row4\" class=\"row_heading level0 row4\" >ICE-NODE/G</th>\n",
       "      <td id=\"T_1e8a4_row4_col0\" class=\"data row4 col0\" >0.102</td>\n",
       "      <td id=\"T_1e8a4_row4_col1\" class=\"data row4 col1\" >0.219</td>\n",
       "      <td id=\"T_1e8a4_row4_col2\" class=\"data row4 col2\" >0.262</td>\n",
       "      <td id=\"T_1e8a4_row4_col3\" class=\"data row4 col3\" >0.339</td>\n",
       "      <td id=\"T_1e8a4_row4_col4\" class=\"data row4 col4\" >0.604</td>\n",
       "    </tr>\n",
       "    <tr>\n",
       "      <th id=\"T_1e8a4_level0_row5\" class=\"row_heading level0 row5\" >ICE-NODE_UNIFORM/G</th>\n",
       "      <td id=\"T_1e8a4_row5_col0\" class=\"data row5 col0\" >0.103</td>\n",
       "      <td id=\"T_1e8a4_row5_col1\" class=\"data row5 col1\" >0.221</td>\n",
       "      <td id=\"T_1e8a4_row5_col2\" class=\"data row5 col2\" >0.263</td>\n",
       "      <td id=\"T_1e8a4_row5_col3\" class=\"data row5 col3\" >0.338</td>\n",
       "      <td id=\"T_1e8a4_row5_col4\" class=\"data row5 col4\" >0.603</td>\n",
       "    </tr>\n",
       "    <tr>\n",
       "      <th id=\"T_1e8a4_level0_row6\" class=\"row_heading level0 row6\" >GRU/G</th>\n",
       "      <td id=\"T_1e8a4_row6_col0\" class=\"data row6 col0\" >0.107</td>\n",
       "      <td id=\"T_1e8a4_row6_col1\" class=\"data row6 col1\" >0.217</td>\n",
       "      <td id=\"T_1e8a4_row6_col2\" class=\"data row6 col2\" >0.251</td>\n",
       "      <td id=\"T_1e8a4_row6_col3\" class=\"data row6 col3\" >0.350</td>\n",
       "      <td id=\"T_1e8a4_row6_col4\" class=\"data row6 col4\" >0.571</td>\n",
       "    </tr>\n",
       "  </tbody>\n",
       "</table>\n"
      ],
      "text/plain": [
       "<pandas.io.formats.style.Styler at 0x7f29142d9be0>"
      ]
     },
     "metadata": {},
     "output_type": "display_data"
    },
    {
     "name": "stdout",
     "output_type": "stream",
     "text": [
      "\\begin{tabular}{lrrrrr}\n",
      "{} & {ACC-P0} & {ACC-P1} & {ACC-P2} & {ACC-P3} & {ACC-P4} \\\\\n",
      "\\texttt{ICE-NODE} & 0.104 & \\color{white} {\\cellcolor{darkblue}} 0.226 & 0.268 & 0.337 & 0.601 \\\\\n",
      "\\texttt{ICE-NODE\\_UNIFORM} & 0.102 & 0.221 & 0.259 & 0.345 & \\color{white} {\\cellcolor{darkblue}} 0.608 \\\\\n",
      "\\texttt{GRU} & \\color{white} {\\cellcolor{darkblue}} 0.116 & 0.215 & 0.244 & 0.346 & 0.556 \\\\\n",
      "\\texttt{RETAIN} & 0.109 & 0.225 & \\color{white} {\\cellcolor{darkblue}} 0.282 & 0.320 & 0.584 \\\\\n",
      "\\texttt{ICE-NODE/G} & 0.102 & 0.219 & 0.262 & 0.339 & 0.604 \\\\\n",
      "\\texttt{ICE-NODE\\_UNIFORM/G} & 0.103 & 0.221 & 0.263 & 0.338 & 0.603 \\\\\n",
      "\\texttt{GRU/G} & 0.107 & 0.217 & 0.251 & \\color{white} {\\cellcolor{darkblue}} 0.350 & 0.571 \\\\\n",
      "\\end{tabular}\n",
      "\n"
     ]
    },
    {
     "data": {
      "text/html": [
       "<style type=\"text/css\">\n",
       "#T_b4e93_row0_col0, #T_b4e93_row0_col1, #T_b4e93_row1_col3, #T_b4e93_row3_col2, #T_b4e93_row3_col4 {\n",
       "  bfseries: ;\n",
       "  color: white;\n",
       "  background-color: darkblue;\n",
       "}\n",
       "</style>\n",
       "<table id=\"T_b4e93_\">\n",
       "  <thead>\n",
       "    <tr>\n",
       "      <th class=\"blank level0\" >&nbsp;</th>\n",
       "      <th class=\"col_heading level0 col0\" >ACC-P0</th>\n",
       "      <th class=\"col_heading level0 col1\" >ACC-P1</th>\n",
       "      <th class=\"col_heading level0 col2\" >ACC-P2</th>\n",
       "      <th class=\"col_heading level0 col3\" >ACC-P3</th>\n",
       "      <th class=\"col_heading level0 col4\" >ACC-P4</th>\n",
       "    </tr>\n",
       "  </thead>\n",
       "  <tbody>\n",
       "    <tr>\n",
       "      <th id=\"T_b4e93_level0_row0\" class=\"row_heading level0 row0\" >ICE-NODE</th>\n",
       "      <td id=\"T_b4e93_row0_col0\" class=\"data row0 col0\" >0.175</td>\n",
       "      <td id=\"T_b4e93_row0_col1\" class=\"data row0 col1\" >0.342</td>\n",
       "      <td id=\"T_b4e93_row0_col2\" class=\"data row0 col2\" >0.442</td>\n",
       "      <td id=\"T_b4e93_row0_col3\" class=\"data row0 col3\" >0.627</td>\n",
       "      <td id=\"T_b4e93_row0_col4\" class=\"data row0 col4\" >0.811</td>\n",
       "    </tr>\n",
       "    <tr>\n",
       "      <th id=\"T_b4e93_level0_row1\" class=\"row_heading level0 row1\" >ICE-NODE_UNIFORM</th>\n",
       "      <td id=\"T_b4e93_row1_col0\" class=\"data row1 col0\" >0.166</td>\n",
       "      <td id=\"T_b4e93_row1_col1\" class=\"data row1 col1\" >0.341</td>\n",
       "      <td id=\"T_b4e93_row1_col2\" class=\"data row1 col2\" >0.432</td>\n",
       "      <td id=\"T_b4e93_row1_col3\" class=\"data row1 col3\" >0.633</td>\n",
       "      <td id=\"T_b4e93_row1_col4\" class=\"data row1 col4\" >0.818</td>\n",
       "    </tr>\n",
       "    <tr>\n",
       "      <th id=\"T_b4e93_level0_row2\" class=\"row_heading level0 row2\" >GRU</th>\n",
       "      <td id=\"T_b4e93_row2_col0\" class=\"data row2 col0\" >0.165</td>\n",
       "      <td id=\"T_b4e93_row2_col1\" class=\"data row2 col1\" >0.317</td>\n",
       "      <td id=\"T_b4e93_row2_col2\" class=\"data row2 col2\" >0.423</td>\n",
       "      <td id=\"T_b4e93_row2_col3\" class=\"data row2 col3\" >0.613</td>\n",
       "      <td id=\"T_b4e93_row2_col4\" class=\"data row2 col4\" >0.789</td>\n",
       "    </tr>\n",
       "    <tr>\n",
       "      <th id=\"T_b4e93_level0_row3\" class=\"row_heading level0 row3\" >RETAIN</th>\n",
       "      <td id=\"T_b4e93_row3_col0\" class=\"data row3 col0\" >0.168</td>\n",
       "      <td id=\"T_b4e93_row3_col1\" class=\"data row3 col1\" >0.336</td>\n",
       "      <td id=\"T_b4e93_row3_col2\" class=\"data row3 col2\" >0.444</td>\n",
       "      <td id=\"T_b4e93_row3_col3\" class=\"data row3 col3\" >0.607</td>\n",
       "      <td id=\"T_b4e93_row3_col4\" class=\"data row3 col4\" >0.823</td>\n",
       "    </tr>\n",
       "    <tr>\n",
       "      <th id=\"T_b4e93_level0_row4\" class=\"row_heading level0 row4\" >ICE-NODE/G</th>\n",
       "      <td id=\"T_b4e93_row4_col0\" class=\"data row4 col0\" >0.159</td>\n",
       "      <td id=\"T_b4e93_row4_col1\" class=\"data row4 col1\" >0.334</td>\n",
       "      <td id=\"T_b4e93_row4_col2\" class=\"data row4 col2\" >0.436</td>\n",
       "      <td id=\"T_b4e93_row4_col3\" class=\"data row4 col3\" >0.618</td>\n",
       "      <td id=\"T_b4e93_row4_col4\" class=\"data row4 col4\" >0.813</td>\n",
       "    </tr>\n",
       "    <tr>\n",
       "      <th id=\"T_b4e93_level0_row5\" class=\"row_heading level0 row5\" >ICE-NODE_UNIFORM/G</th>\n",
       "      <td id=\"T_b4e93_row5_col0\" class=\"data row5 col0\" >0.161</td>\n",
       "      <td id=\"T_b4e93_row5_col1\" class=\"data row5 col1\" >0.333</td>\n",
       "      <td id=\"T_b4e93_row5_col2\" class=\"data row5 col2\" >0.432</td>\n",
       "      <td id=\"T_b4e93_row5_col3\" class=\"data row5 col3\" >0.618</td>\n",
       "      <td id=\"T_b4e93_row5_col4\" class=\"data row5 col4\" >0.812</td>\n",
       "    </tr>\n",
       "    <tr>\n",
       "      <th id=\"T_b4e93_level0_row6\" class=\"row_heading level0 row6\" >GRU/G</th>\n",
       "      <td id=\"T_b4e93_row6_col0\" class=\"data row6 col0\" >0.156</td>\n",
       "      <td id=\"T_b4e93_row6_col1\" class=\"data row6 col1\" >0.326</td>\n",
       "      <td id=\"T_b4e93_row6_col2\" class=\"data row6 col2\" >0.422</td>\n",
       "      <td id=\"T_b4e93_row6_col3\" class=\"data row6 col3\" >0.620</td>\n",
       "      <td id=\"T_b4e93_row6_col4\" class=\"data row6 col4\" >0.805</td>\n",
       "    </tr>\n",
       "  </tbody>\n",
       "</table>\n"
      ],
      "text/plain": [
       "<pandas.io.formats.style.Styler at 0x7f2852bacee0>"
      ]
     },
     "metadata": {},
     "output_type": "display_data"
    },
    {
     "name": "stdout",
     "output_type": "stream",
     "text": [
      "\\begin{tabular}{lrrrrr}\n",
      "{} & {ACC-P0} & {ACC-P1} & {ACC-P2} & {ACC-P3} & {ACC-P4} \\\\\n",
      "\\texttt{ICE-NODE} & \\color{white} {\\cellcolor{darkblue}} 0.175 & \\color{white} {\\cellcolor{darkblue}} 0.342 & 0.442 & 0.627 & 0.811 \\\\\n",
      "\\texttt{ICE-NODE\\_UNIFORM} & 0.166 & 0.341 & 0.432 & \\color{white} {\\cellcolor{darkblue}} 0.633 & 0.818 \\\\\n",
      "\\texttt{GRU} & 0.165 & 0.317 & 0.423 & 0.613 & 0.789 \\\\\n",
      "\\texttt{RETAIN} & 0.168 & 0.336 & \\color{white} {\\cellcolor{darkblue}} 0.444 & 0.607 & \\color{white} {\\cellcolor{darkblue}} 0.823 \\\\\n",
      "\\texttt{ICE-NODE/G} & 0.159 & 0.334 & 0.436 & 0.618 & 0.813 \\\\\n",
      "\\texttt{ICE-NODE\\_UNIFORM/G} & 0.161 & 0.333 & 0.432 & 0.618 & 0.812 \\\\\n",
      "\\texttt{GRU/G} & 0.156 & 0.326 & 0.422 & 0.620 & 0.805 \\\\\n",
      "\\end{tabular}\n",
      "\n"
     ]
    },
    {
     "data": {
      "text/html": [
       "<style type=\"text/css\">\n",
       "#T_8bf10_row0_col0, #T_8bf10_row0_col1, #T_8bf10_row1_col3, #T_8bf10_row3_col2, #T_8bf10_row3_col4 {\n",
       "  bfseries: ;\n",
       "  color: white;\n",
       "  background-color: darkblue;\n",
       "}\n",
       "</style>\n",
       "<table id=\"T_8bf10_\">\n",
       "  <thead>\n",
       "    <tr>\n",
       "      <th class=\"blank level0\" >&nbsp;</th>\n",
       "      <th class=\"col_heading level0 col0\" >ACC-P0</th>\n",
       "      <th class=\"col_heading level0 col1\" >ACC-P1</th>\n",
       "      <th class=\"col_heading level0 col2\" >ACC-P2</th>\n",
       "      <th class=\"col_heading level0 col3\" >ACC-P3</th>\n",
       "      <th class=\"col_heading level0 col4\" >ACC-P4</th>\n",
       "    </tr>\n",
       "  </thead>\n",
       "  <tbody>\n",
       "    <tr>\n",
       "      <th id=\"T_8bf10_level0_row0\" class=\"row_heading level0 row0\" >ICE-NODE</th>\n",
       "      <td id=\"T_8bf10_row0_col0\" class=\"data row0 col0\" >0.220</td>\n",
       "      <td id=\"T_8bf10_row0_col1\" class=\"data row0 col1\" >0.425</td>\n",
       "      <td id=\"T_8bf10_row0_col2\" class=\"data row0 col2\" >0.578</td>\n",
       "      <td id=\"T_8bf10_row0_col3\" class=\"data row0 col3\" >0.782</td>\n",
       "      <td id=\"T_8bf10_row0_col4\" class=\"data row0 col4\" >0.902</td>\n",
       "    </tr>\n",
       "    <tr>\n",
       "      <th id=\"T_8bf10_level0_row1\" class=\"row_heading level0 row1\" >ICE-NODE_UNIFORM</th>\n",
       "      <td id=\"T_8bf10_row1_col0\" class=\"data row1 col0\" >0.211</td>\n",
       "      <td id=\"T_8bf10_row1_col1\" class=\"data row1 col1\" >0.422</td>\n",
       "      <td id=\"T_8bf10_row1_col2\" class=\"data row1 col2\" >0.566</td>\n",
       "      <td id=\"T_8bf10_row1_col3\" class=\"data row1 col3\" >0.786</td>\n",
       "      <td id=\"T_8bf10_row1_col4\" class=\"data row1 col4\" >0.909</td>\n",
       "    </tr>\n",
       "    <tr>\n",
       "      <th id=\"T_8bf10_level0_row2\" class=\"row_heading level0 row2\" >GRU</th>\n",
       "      <td id=\"T_8bf10_row2_col0\" class=\"data row2 col0\" >0.214</td>\n",
       "      <td id=\"T_8bf10_row2_col1\" class=\"data row2 col1\" >0.400</td>\n",
       "      <td id=\"T_8bf10_row2_col2\" class=\"data row2 col2\" >0.556</td>\n",
       "      <td id=\"T_8bf10_row2_col3\" class=\"data row2 col3\" >0.768</td>\n",
       "      <td id=\"T_8bf10_row2_col4\" class=\"data row2 col4\" >0.900</td>\n",
       "    </tr>\n",
       "    <tr>\n",
       "      <th id=\"T_8bf10_level0_row3\" class=\"row_heading level0 row3\" >RETAIN</th>\n",
       "      <td id=\"T_8bf10_row3_col0\" class=\"data row3 col0\" >0.208</td>\n",
       "      <td id=\"T_8bf10_row3_col1\" class=\"data row3 col1\" >0.415</td>\n",
       "      <td id=\"T_8bf10_row3_col2\" class=\"data row3 col2\" >0.579</td>\n",
       "      <td id=\"T_8bf10_row3_col3\" class=\"data row3 col3\" >0.778</td>\n",
       "      <td id=\"T_8bf10_row3_col4\" class=\"data row3 col4\" >0.926</td>\n",
       "    </tr>\n",
       "    <tr>\n",
       "      <th id=\"T_8bf10_level0_row4\" class=\"row_heading level0 row4\" >ICE-NODE/G</th>\n",
       "      <td id=\"T_8bf10_row4_col0\" class=\"data row4 col0\" >0.205</td>\n",
       "      <td id=\"T_8bf10_row4_col1\" class=\"data row4 col1\" >0.421</td>\n",
       "      <td id=\"T_8bf10_row4_col2\" class=\"data row4 col2\" >0.569</td>\n",
       "      <td id=\"T_8bf10_row4_col3\" class=\"data row4 col3\" >0.782</td>\n",
       "      <td id=\"T_8bf10_row4_col4\" class=\"data row4 col4\" >0.907</td>\n",
       "    </tr>\n",
       "    <tr>\n",
       "      <th id=\"T_8bf10_level0_row5\" class=\"row_heading level0 row5\" >ICE-NODE_UNIFORM/G</th>\n",
       "      <td id=\"T_8bf10_row5_col0\" class=\"data row5 col0\" >0.206</td>\n",
       "      <td id=\"T_8bf10_row5_col1\" class=\"data row5 col1\" >0.419</td>\n",
       "      <td id=\"T_8bf10_row5_col2\" class=\"data row5 col2\" >0.565</td>\n",
       "      <td id=\"T_8bf10_row5_col3\" class=\"data row5 col3\" >0.782</td>\n",
       "      <td id=\"T_8bf10_row5_col4\" class=\"data row5 col4\" >0.907</td>\n",
       "    </tr>\n",
       "    <tr>\n",
       "      <th id=\"T_8bf10_level0_row6\" class=\"row_heading level0 row6\" >GRU/G</th>\n",
       "      <td id=\"T_8bf10_row6_col0\" class=\"data row6 col0\" >0.204</td>\n",
       "      <td id=\"T_8bf10_row6_col1\" class=\"data row6 col1\" >0.403</td>\n",
       "      <td id=\"T_8bf10_row6_col2\" class=\"data row6 col2\" >0.546</td>\n",
       "      <td id=\"T_8bf10_row6_col3\" class=\"data row6 col3\" >0.778</td>\n",
       "      <td id=\"T_8bf10_row6_col4\" class=\"data row6 col4\" >0.906</td>\n",
       "    </tr>\n",
       "  </tbody>\n",
       "</table>\n"
      ],
      "text/plain": [
       "<pandas.io.formats.style.Styler at 0x7f2914376280>"
      ]
     },
     "metadata": {},
     "output_type": "display_data"
    },
    {
     "name": "stdout",
     "output_type": "stream",
     "text": [
      "\\begin{tabular}{lrrrrr}\n",
      "{} & {ACC-P0} & {ACC-P1} & {ACC-P2} & {ACC-P3} & {ACC-P4} \\\\\n",
      "\\texttt{ICE-NODE} & \\color{white} {\\cellcolor{darkblue}} 0.220 & \\color{white} {\\cellcolor{darkblue}} 0.425 & 0.578 & 0.782 & 0.902 \\\\\n",
      "\\texttt{ICE-NODE\\_UNIFORM} & 0.211 & 0.422 & 0.566 & \\color{white} {\\cellcolor{darkblue}} 0.786 & 0.909 \\\\\n",
      "\\texttt{GRU} & 0.214 & 0.400 & 0.556 & 0.768 & 0.900 \\\\\n",
      "\\texttt{RETAIN} & 0.208 & 0.415 & \\color{white} {\\cellcolor{darkblue}} 0.579 & 0.778 & \\color{white} {\\cellcolor{darkblue}} 0.926 \\\\\n",
      "\\texttt{ICE-NODE/G} & 0.205 & 0.421 & 0.569 & 0.782 & 0.907 \\\\\n",
      "\\texttt{ICE-NODE\\_UNIFORM/G} & 0.206 & 0.419 & 0.565 & 0.782 & 0.907 \\\\\n",
      "\\texttt{GRU/G} & 0.204 & 0.403 & 0.546 & 0.778 & 0.906 \\\\\n",
      "\\end{tabular}\n",
      "\n"
     ]
    }
   ],
   "source": [
    "\n",
    "df_acc5 = results_m3_k5.loc[list(f'ACC-P{i}' for i in range(5)), :].transpose()\n",
    "df_acc5 = df_acc5.apply(lambda x: round(x, 3))\n",
    "df_acc5.to_csv(f'acc5_mimic3.csv')\n",
    "s_df, ltx_s = styled_df(df_acc5)\n",
    "display(s_df)\n",
    "print(ltx_s)\n",
    "\n",
    "\n",
    "df_acc10 = results_m3_k10.loc[list(f'ACC-P{i}' for i in range(5)), :].transpose()\n",
    "df_acc10 = df_acc10.apply(lambda x: round(x, 3))\n",
    "df_acc10.to_csv(f'acc10_mimic3.csv')\n",
    "s_df, ltx_s = styled_df(df_acc10)\n",
    "display(s_df)\n",
    "print(ltx_s)\n",
    "\n",
    "\n",
    "df_acc15 = results_m3_k15.loc[list(f'ACC-P{i}' for i in range(5)), :].transpose()\n",
    "df_acc15 = df_acc15.apply(lambda x: round(x, 3))\n",
    "df_acc15.to_csv(f'acc15_mimic3.csv')\n",
    "s_df, ltx_s = styled_df(df_acc15)\n",
    "display(s_df)\n",
    "print(ltx_s)"
   ]
  },
  {
   "cell_type": "code",
   "execution_count": 85,
   "id": "272f385b",
   "metadata": {},
   "outputs": [
    {
     "data": {
      "text/html": [
       "<div>\n",
       "<style scoped>\n",
       "    .dataframe tbody tr th:only-of-type {\n",
       "        vertical-align: middle;\n",
       "    }\n",
       "\n",
       "    .dataframe tbody tr th {\n",
       "        vertical-align: top;\n",
       "    }\n",
       "\n",
       "    .dataframe thead th {\n",
       "        text-align: right;\n",
       "    }\n",
       "</style>\n",
       "<table border=\"1\" class=\"dataframe\">\n",
       "  <thead>\n",
       "    <tr style=\"text-align: right;\">\n",
       "      <th></th>\n",
       "      <th>CODE_INDEX</th>\n",
       "      <th>N_POSITIVE_CODES</th>\n",
       "      <th>AUC(GRU)</th>\n",
       "      <th>AUC(GRU/G)</th>\n",
       "      <th>AUC(ICE-NODE)</th>\n",
       "      <th>AUC(ICE-NODE/G)</th>\n",
       "      <th>AUC(ICE-NODE_UNIFORM)</th>\n",
       "      <th>AUC(ICE-NODE_UNIFORM/G)</th>\n",
       "      <th>AUC(RETAIN)</th>\n",
       "      <th>VAR[AUC(GRU)]</th>\n",
       "      <th>...</th>\n",
       "      <th>P0(AUC_ICE-NODE==AUC_ICE-NODE_UNIFORM)</th>\n",
       "      <th>P0(AUC_ICE-NODE==AUC_ICE-NODE_UNIFORM/G)</th>\n",
       "      <th>P0(AUC_ICE-NODE==AUC_RETAIN)</th>\n",
       "      <th>P0(AUC_ICE-NODE/G==AUC_ICE-NODE_UNIFORM)</th>\n",
       "      <th>P0(AUC_ICE-NODE/G==AUC_ICE-NODE_UNIFORM/G)</th>\n",
       "      <th>P0(AUC_ICE-NODE/G==AUC_RETAIN)</th>\n",
       "      <th>P0(AUC_ICE-NODE_UNIFORM==AUC_ICE-NODE_UNIFORM/G)</th>\n",
       "      <th>P0(AUC_ICE-NODE_UNIFORM==AUC_RETAIN)</th>\n",
       "      <th>P0(AUC_ICE-NODE_UNIFORM/G==AUC_RETAIN)</th>\n",
       "      <th>DESC</th>\n",
       "    </tr>\n",
       "  </thead>\n",
       "  <tbody>\n",
       "  </tbody>\n",
       "</table>\n",
       "<p>0 rows × 38 columns</p>\n",
       "</div>"
      ],
      "text/plain": [
       "Empty DataFrame\n",
       "Columns: [CODE_INDEX, N_POSITIVE_CODES, AUC(GRU), AUC(GRU/G), AUC(ICE-NODE), AUC(ICE-NODE/G), AUC(ICE-NODE_UNIFORM), AUC(ICE-NODE_UNIFORM/G), AUC(RETAIN), VAR[AUC(GRU)], VAR[AUC(GRU/G)], VAR[AUC(ICE-NODE)], VAR[AUC(ICE-NODE/G)], VAR[AUC(ICE-NODE_UNIFORM)], VAR[AUC(ICE-NODE_UNIFORM/G)], VAR[AUC(RETAIN)], P0(AUC_GRU==AUC_GRU/G), P0(AUC_GRU==AUC_ICE-NODE), P0(AUC_GRU==AUC_ICE-NODE/G), P0(AUC_GRU==AUC_ICE-NODE_UNIFORM), P0(AUC_GRU==AUC_ICE-NODE_UNIFORM/G), P0(AUC_GRU==AUC_RETAIN), P0(AUC_GRU/G==AUC_ICE-NODE), P0(AUC_GRU/G==AUC_ICE-NODE/G), P0(AUC_GRU/G==AUC_ICE-NODE_UNIFORM), P0(AUC_GRU/G==AUC_ICE-NODE_UNIFORM/G), P0(AUC_GRU/G==AUC_RETAIN), P0(AUC_ICE-NODE==AUC_ICE-NODE/G), P0(AUC_ICE-NODE==AUC_ICE-NODE_UNIFORM), P0(AUC_ICE-NODE==AUC_ICE-NODE_UNIFORM/G), P0(AUC_ICE-NODE==AUC_RETAIN), P0(AUC_ICE-NODE/G==AUC_ICE-NODE_UNIFORM), P0(AUC_ICE-NODE/G==AUC_ICE-NODE_UNIFORM/G), P0(AUC_ICE-NODE/G==AUC_RETAIN), P0(AUC_ICE-NODE_UNIFORM==AUC_ICE-NODE_UNIFORM/G), P0(AUC_ICE-NODE_UNIFORM==AUC_RETAIN), P0(AUC_ICE-NODE_UNIFORM/G==AUC_RETAIN), DESC]\n",
       "Index: []\n",
       "\n",
       "[0 rows x 38 columns]"
      ]
     },
     "execution_count": 85,
     "metadata": {},
     "output_type": "execute_result"
    }
   ],
   "source": [
    "icenode_m3_excl = upsetcontents_m3['ICE-NODE'] - set.union(*list(upsetcontents_m3[clf] for clf in ('RETAIN', 'GRU')))\n",
    "icenode_m3_excl = compete_codesm3[compete_codesm3['CODE_INDEX'].isin(icenode_m3_excl)]\n",
    "icenode_m3_excl"
   ]
  },
  {
   "cell_type": "code",
   "execution_count": 86,
   "id": "38bfb30f",
   "metadata": {},
   "outputs": [
    {
     "ename": "TypeError",
     "evalue": "no numeric data to plot",
     "output_type": "error",
     "traceback": [
      "\u001b[0;31m---------------------------------------------------------------------------\u001b[0m",
      "\u001b[0;31mTypeError\u001b[0m                                 Traceback (most recent call last)",
      "\u001b[0;32m/tmp/ipykernel_1269005/3158485137.py\u001b[0m in \u001b[0;36m<module>\u001b[0;34m\u001b[0m\n\u001b[0;32m----> 1\u001b[0;31m \u001b[0max\u001b[0m \u001b[0;34m=\u001b[0m \u001b[0mselected_auc_barplot\u001b[0m\u001b[0;34m(\u001b[0m\u001b[0mupset_clfs\u001b[0m\u001b[0;34m,\u001b[0m \u001b[0micenode_m3_excl\u001b[0m\u001b[0;34m)\u001b[0m\u001b[0;34m\u001b[0m\u001b[0;34m\u001b[0m\u001b[0m\n\u001b[0m\u001b[1;32m      2\u001b[0m \u001b[0mcurrent_figure\u001b[0m \u001b[0;34m=\u001b[0m \u001b[0mplt\u001b[0m\u001b[0;34m.\u001b[0m\u001b[0mgcf\u001b[0m\u001b[0;34m(\u001b[0m\u001b[0;34m)\u001b[0m\u001b[0;34m\u001b[0m\u001b[0;34m\u001b[0m\u001b[0m\n\u001b[1;32m      3\u001b[0m \u001b[0mcurrent_figure\u001b[0m\u001b[0;34m.\u001b[0m\u001b[0msavefig\u001b[0m\u001b[0;34m(\u001b[0m\u001b[0;34m\"icenode_m3.pdf\"\u001b[0m\u001b[0;34m,\u001b[0m \u001b[0mbbox_inches\u001b[0m\u001b[0;34m=\u001b[0m\u001b[0;34m'tight'\u001b[0m\u001b[0;34m)\u001b[0m\u001b[0;34m\u001b[0m\u001b[0;34m\u001b[0m\u001b[0m\n\u001b[1;32m      4\u001b[0m \u001b[0mplt\u001b[0m\u001b[0;34m.\u001b[0m\u001b[0mshow\u001b[0m\u001b[0;34m(\u001b[0m\u001b[0;34m)\u001b[0m\u001b[0;34m\u001b[0m\u001b[0;34m\u001b[0m\u001b[0m\n",
      "\u001b[0;32m/tmp/ipykernel_1269005/3812210685.py\u001b[0m in \u001b[0;36mselected_auc_barplot\u001b[0;34m(clfs, auctest_df, horizontal)\u001b[0m\n\u001b[1;32m    112\u001b[0m     \u001b[0merr\u001b[0m \u001b[0;34m=\u001b[0m \u001b[0mauc_df\u001b[0m\u001b[0;34m.\u001b[0m\u001b[0mpivot\u001b[0m\u001b[0;34m(\u001b[0m\u001b[0mindex\u001b[0m\u001b[0;34m=\u001b[0m\u001b[0;34m'CCS'\u001b[0m\u001b[0;34m,\u001b[0m \u001b[0mcolumns\u001b[0m\u001b[0;34m=\u001b[0m\u001b[0;34m'Classifier'\u001b[0m\u001b[0;34m,\u001b[0m \u001b[0mvalues\u001b[0m\u001b[0;34m=\u001b[0m\u001b[0;34m'std'\u001b[0m\u001b[0;34m)\u001b[0m\u001b[0;34m\u001b[0m\u001b[0;34m\u001b[0m\u001b[0m\n\u001b[1;32m    113\u001b[0m     \u001b[0;31m# plot vals with yerr\u001b[0m\u001b[0;34m\u001b[0m\u001b[0;34m\u001b[0m\u001b[0;34m\u001b[0m\u001b[0m\n\u001b[0;32m--> 114\u001b[0;31m     ax = vals.plot.barh(xerr=err, rot=0, figsize=(10, 10), width=0.7,\n\u001b[0m\u001b[1;32m    115\u001b[0m                    \u001b[0merror_kw\u001b[0m\u001b[0;34m=\u001b[0m\u001b[0mdict\u001b[0m\u001b[0;34m(\u001b[0m\u001b[0mlw\u001b[0m\u001b[0;34m=\u001b[0m\u001b[0;36m5\u001b[0m\u001b[0;34m,\u001b[0m \u001b[0mcapsize\u001b[0m\u001b[0;34m=\u001b[0m\u001b[0;36m8\u001b[0m\u001b[0;34m,\u001b[0m \u001b[0mcapthick\u001b[0m\u001b[0;34m=\u001b[0m\u001b[0;36m5\u001b[0m\u001b[0;34m,\u001b[0m \u001b[0mecolor\u001b[0m\u001b[0;34m=\u001b[0m\u001b[0;34m'salmon'\u001b[0m\u001b[0;34m)\u001b[0m\u001b[0;34m,\u001b[0m\u001b[0;34m\u001b[0m\u001b[0;34m\u001b[0m\u001b[0m\n\u001b[1;32m    116\u001b[0m                   color=[ 'black', 'white', 'green'], edgecolor='black')\n",
      "\u001b[0;32m~/anaconda3/envs/icenode/lib/python3.8/site-packages/pandas/plotting/_core.py\u001b[0m in \u001b[0;36mbarh\u001b[0;34m(self, x, y, **kwargs)\u001b[0m\n\u001b[1;32m   1214\u001b[0m         \u001b[0mother\u001b[0m \u001b[0maxis\u001b[0m \u001b[0mrepresents\u001b[0m \u001b[0ma\u001b[0m \u001b[0mmeasured\u001b[0m \u001b[0mvalue\u001b[0m\u001b[0;34m.\u001b[0m\u001b[0;34m\u001b[0m\u001b[0;34m\u001b[0m\u001b[0m\n\u001b[1;32m   1215\u001b[0m         \"\"\"\n\u001b[0;32m-> 1216\u001b[0;31m         \u001b[0;32mreturn\u001b[0m \u001b[0mself\u001b[0m\u001b[0;34m(\u001b[0m\u001b[0mkind\u001b[0m\u001b[0;34m=\u001b[0m\u001b[0;34m\"barh\"\u001b[0m\u001b[0;34m,\u001b[0m \u001b[0mx\u001b[0m\u001b[0;34m=\u001b[0m\u001b[0mx\u001b[0m\u001b[0;34m,\u001b[0m \u001b[0my\u001b[0m\u001b[0;34m=\u001b[0m\u001b[0my\u001b[0m\u001b[0;34m,\u001b[0m \u001b[0;34m**\u001b[0m\u001b[0mkwargs\u001b[0m\u001b[0;34m)\u001b[0m\u001b[0;34m\u001b[0m\u001b[0;34m\u001b[0m\u001b[0m\n\u001b[0m\u001b[1;32m   1217\u001b[0m \u001b[0;34m\u001b[0m\u001b[0m\n\u001b[1;32m   1218\u001b[0m     \u001b[0;32mdef\u001b[0m \u001b[0mbox\u001b[0m\u001b[0;34m(\u001b[0m\u001b[0mself\u001b[0m\u001b[0;34m,\u001b[0m \u001b[0mby\u001b[0m\u001b[0;34m=\u001b[0m\u001b[0;32mNone\u001b[0m\u001b[0;34m,\u001b[0m \u001b[0;34m**\u001b[0m\u001b[0mkwargs\u001b[0m\u001b[0;34m)\u001b[0m\u001b[0;34m:\u001b[0m\u001b[0;34m\u001b[0m\u001b[0;34m\u001b[0m\u001b[0m\n",
      "\u001b[0;32m~/anaconda3/envs/icenode/lib/python3.8/site-packages/pandas/plotting/_core.py\u001b[0m in \u001b[0;36m__call__\u001b[0;34m(self, *args, **kwargs)\u001b[0m\n\u001b[1;32m    970\u001b[0m                     \u001b[0mdata\u001b[0m\u001b[0;34m.\u001b[0m\u001b[0mcolumns\u001b[0m \u001b[0;34m=\u001b[0m \u001b[0mlabel_name\u001b[0m\u001b[0;34m\u001b[0m\u001b[0;34m\u001b[0m\u001b[0m\n\u001b[1;32m    971\u001b[0m \u001b[0;34m\u001b[0m\u001b[0m\n\u001b[0;32m--> 972\u001b[0;31m         \u001b[0;32mreturn\u001b[0m \u001b[0mplot_backend\u001b[0m\u001b[0;34m.\u001b[0m\u001b[0mplot\u001b[0m\u001b[0;34m(\u001b[0m\u001b[0mdata\u001b[0m\u001b[0;34m,\u001b[0m \u001b[0mkind\u001b[0m\u001b[0;34m=\u001b[0m\u001b[0mkind\u001b[0m\u001b[0;34m,\u001b[0m \u001b[0;34m**\u001b[0m\u001b[0mkwargs\u001b[0m\u001b[0;34m)\u001b[0m\u001b[0;34m\u001b[0m\u001b[0;34m\u001b[0m\u001b[0m\n\u001b[0m\u001b[1;32m    973\u001b[0m \u001b[0;34m\u001b[0m\u001b[0m\n\u001b[1;32m    974\u001b[0m     \u001b[0m__call__\u001b[0m\u001b[0;34m.\u001b[0m\u001b[0m__doc__\u001b[0m \u001b[0;34m=\u001b[0m \u001b[0m__doc__\u001b[0m\u001b[0;34m\u001b[0m\u001b[0;34m\u001b[0m\u001b[0m\n",
      "\u001b[0;32m~/anaconda3/envs/icenode/lib/python3.8/site-packages/pandas/plotting/_matplotlib/__init__.py\u001b[0m in \u001b[0;36mplot\u001b[0;34m(data, kind, **kwargs)\u001b[0m\n\u001b[1;32m     69\u001b[0m             \u001b[0mkwargs\u001b[0m\u001b[0;34m[\u001b[0m\u001b[0;34m\"ax\"\u001b[0m\u001b[0;34m]\u001b[0m \u001b[0;34m=\u001b[0m \u001b[0mgetattr\u001b[0m\u001b[0;34m(\u001b[0m\u001b[0max\u001b[0m\u001b[0;34m,\u001b[0m \u001b[0;34m\"left_ax\"\u001b[0m\u001b[0;34m,\u001b[0m \u001b[0max\u001b[0m\u001b[0;34m)\u001b[0m\u001b[0;34m\u001b[0m\u001b[0;34m\u001b[0m\u001b[0m\n\u001b[1;32m     70\u001b[0m     \u001b[0mplot_obj\u001b[0m \u001b[0;34m=\u001b[0m \u001b[0mPLOT_CLASSES\u001b[0m\u001b[0;34m[\u001b[0m\u001b[0mkind\u001b[0m\u001b[0;34m]\u001b[0m\u001b[0;34m(\u001b[0m\u001b[0mdata\u001b[0m\u001b[0;34m,\u001b[0m \u001b[0;34m**\u001b[0m\u001b[0mkwargs\u001b[0m\u001b[0;34m)\u001b[0m\u001b[0;34m\u001b[0m\u001b[0;34m\u001b[0m\u001b[0m\n\u001b[0;32m---> 71\u001b[0;31m     \u001b[0mplot_obj\u001b[0m\u001b[0;34m.\u001b[0m\u001b[0mgenerate\u001b[0m\u001b[0;34m(\u001b[0m\u001b[0;34m)\u001b[0m\u001b[0;34m\u001b[0m\u001b[0;34m\u001b[0m\u001b[0m\n\u001b[0m\u001b[1;32m     72\u001b[0m     \u001b[0mplot_obj\u001b[0m\u001b[0;34m.\u001b[0m\u001b[0mdraw\u001b[0m\u001b[0;34m(\u001b[0m\u001b[0;34m)\u001b[0m\u001b[0;34m\u001b[0m\u001b[0;34m\u001b[0m\u001b[0m\n\u001b[1;32m     73\u001b[0m     \u001b[0;32mreturn\u001b[0m \u001b[0mplot_obj\u001b[0m\u001b[0;34m.\u001b[0m\u001b[0mresult\u001b[0m\u001b[0;34m\u001b[0m\u001b[0;34m\u001b[0m\u001b[0m\n",
      "\u001b[0;32m~/anaconda3/envs/icenode/lib/python3.8/site-packages/pandas/plotting/_matplotlib/core.py\u001b[0m in \u001b[0;36mgenerate\u001b[0;34m(self)\u001b[0m\n\u001b[1;32m    284\u001b[0m     \u001b[0;32mdef\u001b[0m \u001b[0mgenerate\u001b[0m\u001b[0;34m(\u001b[0m\u001b[0mself\u001b[0m\u001b[0;34m)\u001b[0m\u001b[0;34m:\u001b[0m\u001b[0;34m\u001b[0m\u001b[0;34m\u001b[0m\u001b[0m\n\u001b[1;32m    285\u001b[0m         \u001b[0mself\u001b[0m\u001b[0;34m.\u001b[0m\u001b[0m_args_adjust\u001b[0m\u001b[0;34m(\u001b[0m\u001b[0;34m)\u001b[0m\u001b[0;34m\u001b[0m\u001b[0;34m\u001b[0m\u001b[0m\n\u001b[0;32m--> 286\u001b[0;31m         \u001b[0mself\u001b[0m\u001b[0;34m.\u001b[0m\u001b[0m_compute_plot_data\u001b[0m\u001b[0;34m(\u001b[0m\u001b[0;34m)\u001b[0m\u001b[0;34m\u001b[0m\u001b[0;34m\u001b[0m\u001b[0m\n\u001b[0m\u001b[1;32m    287\u001b[0m         \u001b[0mself\u001b[0m\u001b[0;34m.\u001b[0m\u001b[0m_setup_subplots\u001b[0m\u001b[0;34m(\u001b[0m\u001b[0;34m)\u001b[0m\u001b[0;34m\u001b[0m\u001b[0;34m\u001b[0m\u001b[0m\n\u001b[1;32m    288\u001b[0m         \u001b[0mself\u001b[0m\u001b[0;34m.\u001b[0m\u001b[0m_make_plot\u001b[0m\u001b[0;34m(\u001b[0m\u001b[0;34m)\u001b[0m\u001b[0;34m\u001b[0m\u001b[0;34m\u001b[0m\u001b[0m\n",
      "\u001b[0;32m~/anaconda3/envs/icenode/lib/python3.8/site-packages/pandas/plotting/_matplotlib/core.py\u001b[0m in \u001b[0;36m_compute_plot_data\u001b[0;34m(self)\u001b[0m\n\u001b[1;32m    451\u001b[0m         \u001b[0;31m# no non-numeric frames or series allowed\u001b[0m\u001b[0;34m\u001b[0m\u001b[0;34m\u001b[0m\u001b[0;34m\u001b[0m\u001b[0m\n\u001b[1;32m    452\u001b[0m         \u001b[0;32mif\u001b[0m \u001b[0mis_empty\u001b[0m\u001b[0;34m:\u001b[0m\u001b[0;34m\u001b[0m\u001b[0;34m\u001b[0m\u001b[0m\n\u001b[0;32m--> 453\u001b[0;31m             \u001b[0;32mraise\u001b[0m \u001b[0mTypeError\u001b[0m\u001b[0;34m(\u001b[0m\u001b[0;34m\"no numeric data to plot\"\u001b[0m\u001b[0;34m)\u001b[0m\u001b[0;34m\u001b[0m\u001b[0;34m\u001b[0m\u001b[0m\n\u001b[0m\u001b[1;32m    454\u001b[0m \u001b[0;34m\u001b[0m\u001b[0m\n\u001b[1;32m    455\u001b[0m         \u001b[0mself\u001b[0m\u001b[0;34m.\u001b[0m\u001b[0mdata\u001b[0m \u001b[0;34m=\u001b[0m \u001b[0mnumeric_data\u001b[0m\u001b[0;34m.\u001b[0m\u001b[0mapply\u001b[0m\u001b[0;34m(\u001b[0m\u001b[0mself\u001b[0m\u001b[0;34m.\u001b[0m\u001b[0m_convert_to_ndarray\u001b[0m\u001b[0;34m)\u001b[0m\u001b[0;34m\u001b[0m\u001b[0;34m\u001b[0m\u001b[0m\n",
      "\u001b[0;31mTypeError\u001b[0m: no numeric data to plot"
     ]
    }
   ],
   "source": [
    "ax = selected_auc_barplot(upset_clfs, icenode_m3_excl)\n",
    "current_figure = plt.gcf()\n",
    "current_figure.savefig(\"icenode_m3.pdf\", bbox_inches='tight')\n",
    "plt.show()\n"
   ]
  },
  {
   "cell_type": "markdown",
   "id": "30d43833",
   "metadata": {},
   "source": [
    "<a name=\"sec5\"></a>\n",
    "\n",
    "## 5 Relative AUC Performance on MIMIC-IV (Test Set) [^](#outline)"
   ]
  },
  {
   "cell_type": "code",
   "execution_count": 87,
   "id": "ede2567e",
   "metadata": {},
   "outputs": [],
   "source": [
    "relauc_clfs =  ('ICE-NODE', 'ICE-NODE_UNIFORM', 'GRU', 'RETAIN')\n",
    "m4_predictors = {clf: cross_predictor(clf, 'M4', 'M4') for clf in relauc_clfs}\n",
    "test_res_m4 = {clf: eval2_(model, m4_test_ids) for clf, model in m4_predictors.items()} "
   ]
  },
  {
   "cell_type": "code",
   "execution_count": 88,
   "id": "7a5e98c2",
   "metadata": {},
   "outputs": [
    {
     "name": "stderr",
     "output_type": "stream",
     "text": [
      " 46%|██████████████████████████████████████████████████████████████████████████████████████████████████████████████████████████████████████████████████████████████████████████████████▋                                                                                                                                                                                                               | 112/242 [00:47<00:53,  2.44it/s]/home/asem/GP/ICENODE/analysis/../icenode/delong.py:203: RuntimeWarning: invalid value encountered in true_divide\n",
      "  z = np.abs(np.diff(aucs)) / np.sqrt(np.dot(np.dot(l, sigma), l.T))\n",
      "100%|██████████████████████████████████████████████████████████████████████████████████████████████████████████████████████████████████████████████████████████████████████████████████████████████████████████████████████████████████████████████████████████████████████████████████████████████████████████████████████████████████████████████████████████████████████████████████████████████████| 242/242 [01:42<00:00,  2.36it/s]\n"
     ]
    }
   ],
   "source": [
    "auctests_m4 = codes_auc_pairwise_tests({k: v['diag_detectability'] for k, v in test_res_m4.items()}, fast=True)\n"
   ]
  },
  {
   "cell_type": "code",
   "execution_count": 89,
   "id": "4a28ca72",
   "metadata": {},
   "outputs": [
    {
     "name": "stdout",
     "output_type": "stream",
     "text": [
      "237 codes predicted an AUC higher than 0.85 by at least one model.\n"
     ]
    },
    {
     "data": {
      "image/png": "[encoded data removed]",
      "text/plain": [
       "<Figure size 512x416 with 5 Axes>"
      ]
     },
     "metadata": {
      "needs_background": "light"
     },
     "output_type": "display_data"
    }
   ],
   "source": [
    "upset_clfs = ('ICE-NODE', 'ICE-NODE_UNIFORM', 'GRU', 'RETAIN')\n",
    "\n",
    "upsetcontents_m4, upsetindicator_m4, data_m4,  _, compete_codesm4 = relative_performance_upset(auctests_m4, \n",
    "                                                                                               upset_clfs, \n",
    "                                                                                               m4_interface[clfs[0]], \n",
    "                                                                                               m4_train_ids,\n",
    "                                                                                               **relative_auc_config)\n",
    "upset_format = from_indicators(upsetindicator_m4, data=data_m4)\n",
    "upset_object = UpSet(upset_format, subset_size='count', show_counts=True)\n",
    "# upset_object.add_catplot(value='Avg. AUC', kind=\"strip\")\n",
    "upset_object.add_catplot(value='#positive cases (train)', kind=\"strip\")\n",
    "\n",
    "g = upset_object.plot()\n",
    "g['extra1'].set_yscale('log')\n",
    "\n",
    "current_figure = plt.gcf()\n",
    "current_figure.savefig(f\"upset_M4.pdf\")"
   ]
  },
  {
   "cell_type": "code",
   "execution_count": null,
   "id": "eec332ab",
   "metadata": {},
   "outputs": [],
   "source": [
    "results_m4_k5, _ = evaluation_table(test_res_m4, m4_train_percentiles, top_k=5)\n",
    "results_m4_k10, _ = evaluation_table(test_res_m4, m4_train_percentiles, top_k=10)\n",
    "results_m4_k15, _ = evaluation_table(test_res_m4, m4_train_percentiles, top_k=15)"
   ]
  },
  {
   "cell_type": "code",
   "execution_count": null,
   "id": "a8714f05",
   "metadata": {},
   "outputs": [],
   "source": [
    "\n",
    "df_acc5 = results_m4_k5.loc[list(f'ACC-P{i}' for i in range(5)), :].transpose()\n",
    "df_acc5 = df_acc5.apply(lambda x: round(x, 3))\n",
    "df_acc5.to_csv(f'acc5_mimic4.csv')\n",
    "s_df, ltx_s = styled_df(df_acc5)\n",
    "display(s_df)\n",
    "print(ltx_s)\n",
    "\n",
    "\n",
    "df_acc10 = results_m4_k10.loc[list(f'ACC-P{i}' for i in range(5)), :].transpose()\n",
    "df_acc10 = df_acc10.apply(lambda x: round(x, 3))\n",
    "df_acc10.to_csv(f'acc10_mimic4.csv')\n",
    "s_df, ltx_s = styled_df(df_acc10)\n",
    "display(s_df)\n",
    "print(ltx_s)\n",
    "\n",
    "\n",
    "df_acc15 = results_m4_k15.loc[list(f'ACC-P{i}' for i in range(5)), :].transpose()\n",
    "df_acc15 = df_acc15.apply(lambda x: round(x, 3))\n",
    "df_acc15.to_csv(f'acc15_mimic4.csv')\n",
    "s_df, ltx_s = styled_df(df_acc15)\n",
    "display(s_df)\n",
    "print(ltx_s)"
   ]
  },
  {
   "cell_type": "code",
   "execution_count": null,
   "id": "1f3f0563",
   "metadata": {},
   "outputs": [],
   "source": [
    "icenode_m4_excl = upsetcontents_m4['ICE-NODE'] - set.union(*list(upsetcontents_m4[clf] for clf in ('RETAIN', 'GRU', 'ICE-NODE_UNIFORM')))\n",
    "icenode_m4_excl = compete_codesm4[compete_codesm4['CODE_INDEX'].isin(icenode_m4_excl)]\n",
    "icenode_m4_excl"
   ]
  },
  {
   "cell_type": "code",
   "execution_count": null,
   "id": "22935ba7",
   "metadata": {},
   "outputs": [],
   "source": [
    "ax = selected_auc_barplot(upset_clfs, icenode_m4_excl)\n",
    "current_figure = plt.gcf()\n",
    "current_figure.savefig(\"icenode_m4.pdf\", bbox_inches='tight')\n",
    "plt.show()\n"
   ]
  },
  {
   "cell_type": "markdown",
   "id": "91470243",
   "metadata": {},
   "source": [
    "<a name=\"sec6\"></a>\n",
    "\n",
    "## 6 Relative AUC Performance From MIMIC-III (Training Set) to MIMIC-IV (All) [^](#outline)\n",
    " "
   ]
  },
  {
   "cell_type": "code",
   "execution_count": null,
   "id": "2902f90f",
   "metadata": {},
   "outputs": [],
   "source": [
    "# clfs_ordered = ('ICE-NODE', 'ICE-NODE_UNIFORM', 'GRU', 'RETAIN')\n",
    "# m3_percentiles = m3_interface[clfs[0]].diag_flatccs_by_percentiles(20)\n",
    "\n",
    "# m4_subjects = list(m4_interface[clfs[0]].subjects.keys())\n",
    "# m3m4_predictors = {clf: cross_predictor(clf, 'M3', 'M4') for clf in clfs_ordered}\n"
   ]
  },
  {
   "cell_type": "code",
   "execution_count": null,
   "id": "cef8b53f",
   "metadata": {},
   "outputs": [],
   "source": [
    "# test_res_m3m4 = {clf: eval2_(model, m4_subjects) for clf, model in m3m4_predictors.items()} \n",
    "# results_m3m4, _ = evaluation_table(test_res_m3m4, m3_percentiles, top_k=20)\n"
   ]
  },
  {
   "cell_type": "code",
   "execution_count": null,
   "id": "5da0030b",
   "metadata": {},
   "outputs": [],
   "source": [
    "# def test_eval_table(df, metric):\n",
    "#     df = df.loc[metric, clfs_ordered]\n",
    "#     return df.transpose()\n",
    "\n",
    "# m3m4_acc20 = test_eval_table(results_m3m4, list(f'ACC-P{i}' for i in range(5)))\n",
    "# m3m4_acc20.to_csv(f'm3m4_acc20.csv')\n",
    "# print(m3m4_acc20.apply(lambda x: round(x, 3)).style.highlight_max(axis=0, props='bfseries: ;').to_latex())  "
   ]
  },
  {
   "cell_type": "code",
   "execution_count": null,
   "id": "5722bb9c",
   "metadata": {},
   "outputs": [],
   "source": [
    "# auctests_m3m4 = codes_auc_pairwise_tests({k: v['diag_detectability'] for k, v in test_res_m3m4.items()}, fast=True)\n"
   ]
  },
  {
   "cell_type": "code",
   "execution_count": null,
   "id": "927b8aa9",
   "metadata": {},
   "outputs": [],
   "source": [
    "# sets_m3m4, upsetm3m4_df, _, compete_codesm3m4 = relative_performance_upset(auctests_m3m4, upset_clfs, m4_interface[clfs[0]], **relative_auc_config)\n",
    "# upset_contents_m3m4 = from_contents(sets_m3m4)\n"
   ]
  },
  {
   "cell_type": "code",
   "execution_count": null,
   "id": "9d2e5a15",
   "metadata": {},
   "outputs": [],
   "source": [
    "# UpSet(upset_contents_m4m3, subset_size='count', show_counts=True).plot()\n",
    "# current_figure = plt.gcf()\n",
    "# current_figure.savefig(f\"upset_contents_M4M3.pdf\")\n"
   ]
  },
  {
   "cell_type": "markdown",
   "id": "89a7e699",
   "metadata": {},
   "source": [
    "<a name=\"sec7\"></a>\n",
    "\n",
    "## 7 Relative AUC Performance From MIMIC-IV (Training Set) to MIMIC-III (All) [^](#outline)"
   ]
  },
  {
   "cell_type": "code",
   "execution_count": null,
   "id": "3ad1247b",
   "metadata": {},
   "outputs": [],
   "source": [
    "clfs_ordered = ('ICE-NODE', 'ICE-NODE_UNIFORM', 'GRU', 'RETAIN')\n",
    "m3_subjects = list(m3_interface[clfs[0]].subjects.keys())\n",
    "m4m3_predictors = {clf: cross_predictor(clf, 'M4', 'M3') for clf in clfs_ordered}"
   ]
  },
  {
   "cell_type": "code",
   "execution_count": null,
   "id": "a2555b89",
   "metadata": {},
   "outputs": [],
   "source": [
    "test_res_m4m3 = {clf: eval2_(model, m3_subjects) for clf, model in m4m3_predictors.items()} "
   ]
  },
  {
   "cell_type": "code",
   "execution_count": null,
   "id": "a06aac33",
   "metadata": {},
   "outputs": [],
   "source": [
    "auctests_m4m3 = codes_auc_pairwise_tests({k: v['diag_detectability'] for k, v in test_res_m4m3.items()}, fast=True)"
   ]
  },
  {
   "cell_type": "code",
   "execution_count": null,
   "id": "3244ca3a",
   "metadata": {},
   "outputs": [],
   "source": [
    "upset_clfs = ('ICE-NODE', 'ICE-NODE_UNIFORM', 'GRU', 'RETAIN')\n",
    "upsetcontents_m4m3, upsetindicator_m4m3, data_m4m3,  _, compete_codesm4m3 = relative_performance_upset(auctests_m4m3, \n",
    "                                                                                                       upset_clfs, \n",
    "                                                                                                       m4_interface[clfs[0]],\n",
    "                                                                                                       m4_train_ids,\n",
    "                                                                                                       **relative_auc_config)\n",
    "upset_format = from_indicators(upsetindicator_m4m3, data=data_m4m3)\n",
    "upset_object = UpSet(upset_format, subset_size='count', show_counts=True)\n",
    "# upset_object.add_catplot(value='Avg. AUC', kind=\"strip\")\n",
    "upset_object.add_catplot(value='#positive cases (train)', kind=\"strip\")\n",
    "g = upset_object.plot()\n",
    "g['extra1'].set_yscale('log')\n",
    "\n",
    "current_figure = plt.gcf()\n",
    "current_figure.savefig(f\"upset_M4M3.pdf\")"
   ]
  },
  {
   "cell_type": "code",
   "execution_count": null,
   "id": "e8862950",
   "metadata": {},
   "outputs": [],
   "source": [
    "results_m4m3_k5, _ = evaluation_table(test_res_m4m3, m4_train_percentiles, top_k=5)\n",
    "results_m4m3_k10, _ = evaluation_table(test_res_m4m3, m4_train_percentiles, top_k=10)\n",
    "results_m4m3_k15, _ = evaluation_table(test_res_m4m3, m4_train_percentiles, top_k=15)"
   ]
  },
  {
   "cell_type": "code",
   "execution_count": null,
   "id": "3f4a9042",
   "metadata": {},
   "outputs": [],
   "source": [
    "df_acc5 = results_m4m3_k5.loc[list(f'ACC-P{i}' for i in range(5)), :].transpose()\n",
    "df_acc5 = df_acc5.apply(lambda x: round(x, 3))\n",
    "df_acc5.to_csv(f'acc5_m4m3.csv')\n",
    "s_df, ltx_s = styled_df(df_acc5)\n",
    "display(s_df)\n",
    "print(ltx_s)\n",
    "\n",
    "df_acc10 = results_m4m3_k10.loc[list(f'ACC-P{i}' for i in range(5)), :].transpose()\n",
    "df_acc10 = df_acc10.apply(lambda x: round(x, 3))\n",
    "df_acc10.to_csv(f'acc10_m4m3.csv')\n",
    "s_df, ltx_s = styled_df(df_acc10)\n",
    "display(s_df)\n",
    "print(ltx_s)\n",
    "\n",
    "df_acc15 = results_m4m3_k15.loc[list(f'ACC-P{i}' for i in range(5)), :].transpose()\n",
    "df_acc15 = df_acc15.apply(lambda x: round(x, 3))\n",
    "df_acc15.to_csv(f'acc15_m4m3.csv')\n",
    "s_df, ltx_s = styled_df(df_acc15)\n",
    "display(s_df)\n",
    "print(ltx_s)"
   ]
  },
  {
   "cell_type": "code",
   "execution_count": null,
   "id": "d2c06568",
   "metadata": {},
   "outputs": [],
   "source": [
    "icenode_m4m3_excl = upsetcontents_m4m3['ICE-NODE'] - set.union(*list(upsetcontents_m4m3[clf] for clf in ('RETAIN', 'GRU', 'ICE-NODE_UNIFORM')))\n",
    "icenode_m4m3_excl = compete_codesm4m3[compete_codesm4m3['CODE_INDEX'].isin(icenode_m4m3_excl)]\n",
    "icenode_m4m3_excl"
   ]
  },
  {
   "cell_type": "code",
   "execution_count": null,
   "id": "7f942b81",
   "metadata": {},
   "outputs": [],
   "source": [
    "ax = selected_auc_barplot(upset_clfs, icenode_m4m3_excl)\n",
    "current_figure = plt.gcf()\n",
    "current_figure.savefig(\"icenode_m4m3.pdf\", bbox_inches='tight')\n",
    "plt.show()\n"
   ]
  },
  {
   "cell_type": "markdown",
   "id": "3bca3ec0",
   "metadata": {},
   "source": [
    "## AUC Distribution"
   ]
  },
  {
   "cell_type": "code",
   "execution_count": null,
   "id": "3fc67052",
   "metadata": {},
   "outputs": [],
   "source": [
    "import numpy as np\n",
    "df = common_perf[['AUC(ICENODE)', 'DESC', 'VAR[AUC(ICENODE)]']].sort_values('AUC(ICENODE)')\n",
    "df = df[df['AUC(ICENODE)'] > 0.65]\n",
    "df.columns = ['AUC', 'CCS', 'VAR']\n",
    "error = df['VAR'].apply(np.sqrt)"
   ]
  },
  {
   "cell_type": "code",
   "execution_count": null,
   "id": "06f53cbe",
   "metadata": {},
   "outputs": [],
   "source": [
    "len(df)"
   ]
  },
  {
   "cell_type": "code",
   "execution_count": null,
   "id": "69151819",
   "metadata": {},
   "outputs": [],
   "source": [
    "fig, ax = plt.subplots(figsize=(8,20))\n",
    "sns.set_theme()\n",
    "sns.set_style(\"darkgrid\", {\"axes.facecolor\": \".9\"})\n",
    "\n",
    "ax = sns.barplot(x=\"AUC\", y=\"CCS\", color=\"salmon\", xerr=error*1,capsize=.2, data=df)\n",
    "# plt.title('ICE-NODE AUC on CCS Codes of Comparable AUC with GRU/RETAIN', fontsize=20)\n",
    "\n",
    "fig.tight_layout(pad=4)\n",
    "plt.xlabel('AUC', fontsize=24)\n",
    "plt.xlim(0.65, 1.0)\n",
    "plt.xticks(fontsize=20)\n",
    "\n",
    "plt.ylabel('CCS', fontsize=24)\n",
    "plt.yticks(fontsize=14)\n",
    "\n",
    "sns.despine(left=True)\n",
    "ax.grid(True)\n",
    "ax.tick_params(bottom=True, left=False)\n",
    "\n",
    "current_figure = plt.gcf()\n",
    "current_figure.savefig(\"common_performance.pdf\")\n",
    "\n",
    "\n",
    "plt.show()"
   ]
  },
  {
   "cell_type": "code",
   "execution_count": null,
   "id": "51a8bacb",
   "metadata": {},
   "outputs": [],
   "source": [
    "competing_df = []\n",
    "comp_tests = competing_tests[competing_tests[[f'AUC({clf})' for clf in clfs]].max(axis=1) > 0.7]\n",
    "\n",
    "for clf in clfs:\n",
    "    comp_auc = comp_tests[f'AUC({clf})']\n",
    "    comp_var = comp_tests[f'VAR[AUC({clf})]']\n",
    "    comp_std = comp_var.apply(np.sqrt)\n",
    "    comp_desc = comp_tests['DESC'].apply(lambda t: t if len(t) < 15 else t[:14] + '...')\n",
    "    df = pd.DataFrame({'AUC': comp_auc, 'std': comp_std, 'CCS': comp_desc, 'Classifier': clf})\n",
    "    df = df.sort_values('AUC').reset_index(drop=True)\n",
    "    competing_df.append(df)\n",
    "\n",
    "competing_df = pd.concat(competing_df)"
   ]
  },
  {
   "cell_type": "code",
   "execution_count": null,
   "id": "2c7b7423",
   "metadata": {},
   "outputs": [],
   "source": [
    "fig, ax = plt.subplots(figsize=(10, 15))\n",
    "sns.set_theme()\n",
    "sns.set_style(\"darkgrid\", {\"axes.facecolor\": \".9\"})\n",
    "colors = sns.xkcd_palette([\"windows blue\", \"amber\", \"greyish\"])\n",
    "\n",
    "ax = sns.barplot(x=\"AUC\", y=\"CCS\", hue='Classifier', palette =colors , data=competing_df)\n",
    "# plt.title('Performance of ICE-NODE/GRU/RETAIN', fontsize=40)\n",
    "\n",
    "fig.tight_layout(pad=10)\n",
    "plt.xlabel('AUC', fontsize=32)\n",
    "plt.xlim(0.5, 1.0)\n",
    "plt.xticks(fontsize=24)\n",
    "plt.yticks(fontsize=14)\n",
    "\n",
    "plt.ylabel('CCS', fontsize=36)\n",
    "plt.legend(fontsize='xx-large', title_fontsize='40')\n",
    "plt.legend(bbox_to_anchor=(1, 1), loc=2, borderaxespad=0.)\n",
    "\n",
    "sns.despine(left=True)\n",
    "ax.grid(True)\n",
    "ax.tick_params(bottom=True, left=False)\n",
    "current_figure = plt.gcf()\n",
    "current_figure.savefig(\"competing_performance.pdf\")\n",
    "\n",
    "plt.show()\n"
   ]
  },
  {
   "cell_type": "markdown",
   "id": "0e32fb00",
   "metadata": {},
   "source": [
    "## Generalization Across Datasets"
   ]
  },
  {
   "cell_type": "code",
   "execution_count": null,
   "id": "4ee25001",
   "metadata": {},
   "outputs": [],
   "source": [
    "\n",
    "\n",
    "m4m3_acc20 = test_eval_table(results_m4m3, list(f'ACC-P{i}' for i in range(5)))\n",
    "m4m3_acc20.to_csv(f'm4m3_acc20.csv')\n",
    "print(m4m3_acc20.apply(lambda x: round(x, 3)).style.highlight_max(axis=0, props='bfseries: ;').to_latex())    "
   ]
  },
  {
   "cell_type": "code",
   "execution_count": null,
   "id": "8affb1b0",
   "metadata": {},
   "outputs": [],
   "source": [
    "m4_perf = pd.read_csv('acc20_M4.csv', index_col=[0]).loc[clfs_ordered,:]\n",
    "m4_perf"
   ]
  },
  {
   "cell_type": "code",
   "execution_count": null,
   "id": "eab025e2",
   "metadata": {},
   "outputs": [],
   "source": [
    "from matplotlib.colors import SymLogNorm, Normalize\n",
    "\n",
    "diff = m4m3_acc20 - m4_perf\n",
    "# display(diff)\n",
    "sns.heatmap(diff, annot=True,  norm=SymLogNorm(linthresh=0.001, linscale=0.05,\n",
    "                                              vmin=-0.1, vmax=0.1, base=2),  cmap='RdBu_r')"
   ]
  },
  {
   "cell_type": "code",
   "execution_count": null,
   "id": "a30c7136",
   "metadata": {},
   "outputs": [],
   "source": [
    "results_m3m4.to_csv(f'evaltable_M3M4.csv')\n",
    "results_m4m3.to_csv(f'evaltable_M4M3.csv')"
   ]
  },
  {
   "cell_type": "code",
   "execution_count": null,
   "id": "14c4f796",
   "metadata": {},
   "outputs": [],
   "source": [
    "auctests_m3m4.to_csv(f'auctests_M3M4.csv')\n",
    "auctests_m4m3.to_csv(f'auctests_M4M3.csv')"
   ]
  },
  {
   "cell_type": "code",
   "execution_count": null,
   "id": "ac4557f4",
   "metadata": {},
   "outputs": [],
   "source": [
    "# UpSet(upsetm3m4_df, subset_size='count', show_counts=True).plot()\n",
    "# current_figure = plt.gcf()\n",
    "# current_figure.savefig(f\"upset_contents_M3M4.pdf\")"
   ]
  },
  {
   "cell_type": "code",
   "execution_count": null,
   "id": "78344f48",
   "metadata": {},
   "outputs": [],
   "source": [
    "aucvals_m4m3 = auctests_m4m3.sort_values(by='N_POSITIVE_CODES')\n",
    "aucvals_m4m3 = aucvals_m4m3.loc[:, tuple(f'AUC({clf})' for clf in clfs_ordered)+('CODE_INDEX', 'DESC','N_POSITIVE_CODES')].set_index('CODE_INDEX')\n",
    "aucvals_m4m3"
   ]
  },
  {
   "cell_type": "code",
   "execution_count": null,
   "id": "756bbf27",
   "metadata": {},
   "outputs": [],
   "source": [
    "aucvals_m4 = pd.read_csv('selected_auctests_M4.csv', index_col=[0])\n",
    "aucvals_m4 = aucvals_m4[aucvals_m4['CODE_INDEX'].isin(aucvals_m4m3.index)].set_index('CODE_INDEX').iloc[aucvals_m4m3.index]\n",
    "aucvals_m4"
   ]
  },
  {
   "cell_type": "code",
   "execution_count": null,
   "id": "e630544d",
   "metadata": {},
   "outputs": [],
   "source": [
    "code_desc = aucvals_m4m3['DESC']"
   ]
  },
  {
   "cell_type": "code",
   "execution_count": null,
   "id": "7e4ac253",
   "metadata": {},
   "outputs": [],
   "source": [
    "aucvalsonly_m4 = aucvals_m4.loc[:, tuple(f'AUC({clf})' for clf in clfs_ordered)]\n",
    "aucvalsonly_m4.columns = clfs_ordered\n",
    "aucvalsonly_m4"
   ]
  },
  {
   "cell_type": "code",
   "execution_count": null,
   "id": "d5260026",
   "metadata": {},
   "outputs": [],
   "source": [
    "aucvalsonly_m4m3 = aucvals_m4m3.loc[:, tuple(f'AUC({clf})' for clf in clfs_ordered)]\n",
    "aucvalsonly_m4m3.columns = clfs_ordered\n",
    "aucvalsonly_m4m3"
   ]
  },
  {
   "cell_type": "code",
   "execution_count": null,
   "id": "dcc75884",
   "metadata": {},
   "outputs": [],
   "source": [
    "aucvals_diff = aucvalsonly_m4m3 - aucvalsonly_m4\n",
    "aucvals_diff"
   ]
  },
  {
   "cell_type": "code",
   "execution_count": null,
   "id": "4b917f95",
   "metadata": {},
   "outputs": [],
   "source": [
    "plt.figure(figsize=(10, 16))\n",
    "sns.heatmap(aucvalsonly_m4m3,  linewidths=1, norm=SymLogNorm(linthresh=0.001, linscale=0.05,\n",
    "                                              vmin=0.5, vmax=1., base=10),  cmap='RdBu_r')"
   ]
  },
  {
   "cell_type": "markdown",
   "id": "86634c4c",
   "metadata": {},
   "source": [
    "## Trajectories for Patients with CCS codes best predicted with ICENODE"
   ]
  },
  {
   "cell_type": "markdown",
   "id": "fcfc4c29",
   "metadata": {},
   "source": [
    "### Analyse AUC for Each Admission in the Test Partition"
   ]
  },
  {
   "cell_type": "code",
   "execution_count": 198,
   "id": "5df33d48",
   "metadata": {},
   "outputs": [],
   "source": [
    "def admissions_auc_scores(model, test_ids):\n",
    "    model, state = model\n",
    "    return model.admissions_auc_scores(state, test_ids)"
   ]
  },
  {
   "cell_type": "code",
   "execution_count": 267,
   "id": "bd1cbeb0",
   "metadata": {},
   "outputs": [],
   "source": [
    "icenode_visit_auc_df = admissions_auc_scores(m4_predictors['ICE-NODE'], m4_test_ids)"
   ]
  },
  {
   "cell_type": "code",
   "execution_count": 268,
   "id": "5de3587b",
   "metadata": {},
   "outputs": [
    {
     "data": {
      "text/html": [
       "<div>\n",
       "<style scoped>\n",
       "    .dataframe tbody tr th:only-of-type {\n",
       "        vertical-align: middle;\n",
       "    }\n",
       "\n",
       "    .dataframe tbody tr th {\n",
       "        vertical-align: top;\n",
       "    }\n",
       "\n",
       "    .dataframe thead th {\n",
       "        text-align: right;\n",
       "    }\n",
       "</style>\n",
       "<table border=\"1\" class=\"dataframe\">\n",
       "  <thead>\n",
       "    <tr style=\"text-align: right;\">\n",
       "      <th></th>\n",
       "      <th>SUBJECT_ID</th>\n",
       "      <th>HADM_ID</th>\n",
       "      <th>HADM_IDX</th>\n",
       "      <th>AUC</th>\n",
       "      <th>N_CODES</th>\n",
       "      <th>TIME</th>\n",
       "      <th>INTERVALS</th>\n",
       "      <th>LOS</th>\n",
       "      <th>R/T</th>\n",
       "      <th>NFE</th>\n",
       "      <th>N_VISITS</th>\n",
       "    </tr>\n",
       "  </thead>\n",
       "  <tbody>\n",
       "    <tr>\n",
       "      <th>0</th>\n",
       "      <td>15661244</td>\n",
       "      <td>25538115</td>\n",
       "      <td>0</td>\n",
       "      <td>0.883</td>\n",
       "      <td>2.0</td>\n",
       "      <td>9.5</td>\n",
       "      <td>9.5</td>\n",
       "      <td>1.5</td>\n",
       "      <td>1.014794e-12</td>\n",
       "      <td>32.0</td>\n",
       "      <td>2</td>\n",
       "    </tr>\n",
       "    <tr>\n",
       "      <th>1</th>\n",
       "      <td>15661244</td>\n",
       "      <td>27008859</td>\n",
       "      <td>1</td>\n",
       "      <td>0.953</td>\n",
       "      <td>6.0</td>\n",
       "      <td>442.5</td>\n",
       "      <td>433.0</td>\n",
       "      <td>1.5</td>\n",
       "      <td>3.09197e-12</td>\n",
       "      <td>164.0</td>\n",
       "      <td>2</td>\n",
       "    </tr>\n",
       "    <tr>\n",
       "      <th>2</th>\n",
       "      <td>19794590</td>\n",
       "      <td>27666016</td>\n",
       "      <td>0</td>\n",
       "      <td>0.902</td>\n",
       "      <td>5.0</td>\n",
       "      <td>5.5</td>\n",
       "      <td>5.5</td>\n",
       "      <td>0.5</td>\n",
       "      <td>6.7801745e-12</td>\n",
       "      <td>20.0</td>\n",
       "      <td>8</td>\n",
       "    </tr>\n",
       "    <tr>\n",
       "      <th>3</th>\n",
       "      <td>19794590</td>\n",
       "      <td>25740118</td>\n",
       "      <td>1</td>\n",
       "      <td>0.894</td>\n",
       "      <td>6.0</td>\n",
       "      <td>243.5</td>\n",
       "      <td>238.0</td>\n",
       "      <td>5.5</td>\n",
       "      <td>3.7381326e-13</td>\n",
       "      <td>116.0</td>\n",
       "      <td>8</td>\n",
       "    </tr>\n",
       "    <tr>\n",
       "      <th>4</th>\n",
       "      <td>19794590</td>\n",
       "      <td>23237208</td>\n",
       "      <td>2</td>\n",
       "      <td>0.975</td>\n",
       "      <td>3.0</td>\n",
       "      <td>330.5</td>\n",
       "      <td>87.0</td>\n",
       "      <td>3.5</td>\n",
       "      <td>2.5855018e-13</td>\n",
       "      <td>74.0</td>\n",
       "      <td>8</td>\n",
       "    </tr>\n",
       "    <tr>\n",
       "      <th>...</th>\n",
       "      <td>...</td>\n",
       "      <td>...</td>\n",
       "      <td>...</td>\n",
       "      <td>...</td>\n",
       "      <td>...</td>\n",
       "      <td>...</td>\n",
       "      <td>...</td>\n",
       "      <td>...</td>\n",
       "      <td>...</td>\n",
       "      <td>...</td>\n",
       "      <td>...</td>\n",
       "    </tr>\n",
       "    <tr>\n",
       "      <th>27306</th>\n",
       "      <td>10477316</td>\n",
       "      <td>27328239</td>\n",
       "      <td>0</td>\n",
       "      <td>0.816</td>\n",
       "      <td>4.0</td>\n",
       "      <td>330.5</td>\n",
       "      <td>330.5</td>\n",
       "      <td>1.5</td>\n",
       "      <td>3.2235985e-12</td>\n",
       "      <td>140.0</td>\n",
       "      <td>1</td>\n",
       "    </tr>\n",
       "    <tr>\n",
       "      <th>27307</th>\n",
       "      <td>12098571</td>\n",
       "      <td>24506961</td>\n",
       "      <td>0</td>\n",
       "      <td>0.943</td>\n",
       "      <td>8.0</td>\n",
       "      <td>102.5</td>\n",
       "      <td>102.5</td>\n",
       "      <td>3.5</td>\n",
       "      <td>4.9574445e-13</td>\n",
       "      <td>74.0</td>\n",
       "      <td>4</td>\n",
       "    </tr>\n",
       "    <tr>\n",
       "      <th>27308</th>\n",
       "      <td>12098571</td>\n",
       "      <td>20433106</td>\n",
       "      <td>1</td>\n",
       "      <td>0.979</td>\n",
       "      <td>9.0</td>\n",
       "      <td>406.5</td>\n",
       "      <td>304.0</td>\n",
       "      <td>1.5</td>\n",
       "      <td>1.12310064e-13</td>\n",
       "      <td>122.0</td>\n",
       "      <td>4</td>\n",
       "    </tr>\n",
       "    <tr>\n",
       "      <th>27309</th>\n",
       "      <td>12098571</td>\n",
       "      <td>20553314</td>\n",
       "      <td>2</td>\n",
       "      <td>0.972</td>\n",
       "      <td>16.0</td>\n",
       "      <td>2439.5</td>\n",
       "      <td>2033.0</td>\n",
       "      <td>7.5</td>\n",
       "      <td>6.895149e-14</td>\n",
       "      <td>434.0</td>\n",
       "      <td>4</td>\n",
       "    </tr>\n",
       "    <tr>\n",
       "      <th>27310</th>\n",
       "      <td>12098571</td>\n",
       "      <td>28836508</td>\n",
       "      <td>3</td>\n",
       "      <td>0.983</td>\n",
       "      <td>10.0</td>\n",
       "      <td>2472.5</td>\n",
       "      <td>33.0</td>\n",
       "      <td>1.5</td>\n",
       "      <td>1.4192922e-13</td>\n",
       "      <td>50.0</td>\n",
       "      <td>4</td>\n",
       "    </tr>\n",
       "  </tbody>\n",
       "</table>\n",
       "<p>27311 rows × 11 columns</p>\n",
       "</div>"
      ],
      "text/plain": [
       "       SUBJECT_ID   HADM_ID  HADM_IDX    AUC N_CODES    TIME  INTERVALS  LOS  \\\n",
       "0        15661244  25538115         0  0.883     2.0     9.5        9.5  1.5   \n",
       "1        15661244  27008859         1  0.953     6.0   442.5      433.0  1.5   \n",
       "2        19794590  27666016         0  0.902     5.0     5.5        5.5  0.5   \n",
       "3        19794590  25740118         1  0.894     6.0   243.5      238.0  5.5   \n",
       "4        19794590  23237208         2  0.975     3.0   330.5       87.0  3.5   \n",
       "...           ...       ...       ...    ...     ...     ...        ...  ...   \n",
       "27306    10477316  27328239         0  0.816     4.0   330.5      330.5  1.5   \n",
       "27307    12098571  24506961         0  0.943     8.0   102.5      102.5  3.5   \n",
       "27308    12098571  20433106         1  0.979     9.0   406.5      304.0  1.5   \n",
       "27309    12098571  20553314         2  0.972    16.0  2439.5     2033.0  7.5   \n",
       "27310    12098571  28836508         3  0.983    10.0  2472.5       33.0  1.5   \n",
       "\n",
       "                  R/T    NFE  N_VISITS  \n",
       "0        1.014794e-12   32.0         2  \n",
       "1         3.09197e-12  164.0         2  \n",
       "2       6.7801745e-12   20.0         8  \n",
       "3       3.7381326e-13  116.0         8  \n",
       "4       2.5855018e-13   74.0         8  \n",
       "...               ...    ...       ...  \n",
       "27306   3.2235985e-12  140.0         1  \n",
       "27307   4.9574445e-13   74.0         4  \n",
       "27308  1.12310064e-13  122.0         4  \n",
       "27309    6.895149e-14  434.0         4  \n",
       "27310   1.4192922e-13   50.0         4  \n",
       "\n",
       "[27311 rows x 11 columns]"
      ]
     },
     "execution_count": 268,
     "metadata": {},
     "output_type": "execute_result"
    }
   ],
   "source": [
    "icenode_visit_auc_df['N_VISITS'] = icenode_visit_auc_df['SUBJECT_ID'].apply(lambda i: (icenode_visit_auc_df['SUBJECT_ID'] == i).sum())\n",
    "icenode_visit_auc_df"
   ]
  },
  {
   "cell_type": "code",
   "execution_count": 269,
   "id": "e5c947a6",
   "metadata": {},
   "outputs": [],
   "source": [
    "visit_auc_subject = icenode_visit_auc_df.groupby('SUBJECT_ID').agg({'AUC': 'mean', 'N_VISITS': 'max', 'N_CODES': ['min', 'max', 'mean', 'median'], 'INTERVALS': ['mean', 'max', 'min'], 'R/T': ['min', 'max', 'mean'] })\n"
   ]
  },
  {
   "cell_type": "code",
   "execution_count": 270,
   "id": "546ed05c",
   "metadata": {},
   "outputs": [
    {
     "data": {
      "text/html": [
       "<div>\n",
       "<style scoped>\n",
       "    .dataframe tbody tr th:only-of-type {\n",
       "        vertical-align: middle;\n",
       "    }\n",
       "\n",
       "    .dataframe tbody tr th {\n",
       "        vertical-align: top;\n",
       "    }\n",
       "\n",
       "    .dataframe thead tr th {\n",
       "        text-align: left;\n",
       "    }\n",
       "\n",
       "    .dataframe thead tr:last-of-type th {\n",
       "        text-align: right;\n",
       "    }\n",
       "</style>\n",
       "<table border=\"1\" class=\"dataframe\">\n",
       "  <thead>\n",
       "    <tr>\n",
       "      <th></th>\n",
       "      <th>AUC</th>\n",
       "      <th>N_VISITS</th>\n",
       "      <th colspan=\"4\" halign=\"left\">N_CODES</th>\n",
       "      <th colspan=\"3\" halign=\"left\">INTERVALS</th>\n",
       "      <th colspan=\"3\" halign=\"left\">R/T</th>\n",
       "    </tr>\n",
       "    <tr>\n",
       "      <th></th>\n",
       "      <th>mean</th>\n",
       "      <th>max</th>\n",
       "      <th>min</th>\n",
       "      <th>max</th>\n",
       "      <th>mean</th>\n",
       "      <th>median</th>\n",
       "      <th>mean</th>\n",
       "      <th>max</th>\n",
       "      <th>min</th>\n",
       "      <th>min</th>\n",
       "      <th>max</th>\n",
       "      <th>mean</th>\n",
       "    </tr>\n",
       "    <tr>\n",
       "      <th>SUBJECT_ID</th>\n",
       "      <th></th>\n",
       "      <th></th>\n",
       "      <th></th>\n",
       "      <th></th>\n",
       "      <th></th>\n",
       "      <th></th>\n",
       "      <th></th>\n",
       "      <th></th>\n",
       "      <th></th>\n",
       "      <th></th>\n",
       "      <th></th>\n",
       "      <th></th>\n",
       "    </tr>\n",
       "  </thead>\n",
       "  <tbody>\n",
       "    <tr>\n",
       "      <th>10018862</th>\n",
       "      <td>0.930</td>\n",
       "      <td>6</td>\n",
       "      <td>13.0</td>\n",
       "      <td>18.0</td>\n",
       "      <td>15.500</td>\n",
       "      <td>15.0</td>\n",
       "      <td>33.917</td>\n",
       "      <td>76.5</td>\n",
       "      <td>14.0</td>\n",
       "      <td>3.1488965e-14</td>\n",
       "      <td>6.996075e-11</td>\n",
       "      <td>2.197e-11</td>\n",
       "    </tr>\n",
       "    <tr>\n",
       "      <th>10019596</th>\n",
       "      <td>0.940</td>\n",
       "      <td>2</td>\n",
       "      <td>4.0</td>\n",
       "      <td>7.0</td>\n",
       "      <td>5.500</td>\n",
       "      <td>5.5</td>\n",
       "      <td>33.250</td>\n",
       "      <td>46.5</td>\n",
       "      <td>20.0</td>\n",
       "      <td>7.0410355e-13</td>\n",
       "      <td>3.080422e-12</td>\n",
       "      <td>1.892e-12</td>\n",
       "    </tr>\n",
       "    <tr>\n",
       "      <th>10041381</th>\n",
       "      <td>0.990</td>\n",
       "      <td>2</td>\n",
       "      <td>6.0</td>\n",
       "      <td>9.0</td>\n",
       "      <td>7.500</td>\n",
       "      <td>7.5</td>\n",
       "      <td>21.750</td>\n",
       "      <td>23.5</td>\n",
       "      <td>20.0</td>\n",
       "      <td>2.2410138e-12</td>\n",
       "      <td>5.318445e-12</td>\n",
       "      <td>3.780e-12</td>\n",
       "    </tr>\n",
       "    <tr>\n",
       "      <th>10058750</th>\n",
       "      <td>0.971</td>\n",
       "      <td>3</td>\n",
       "      <td>4.0</td>\n",
       "      <td>6.0</td>\n",
       "      <td>5.000</td>\n",
       "      <td>5.0</td>\n",
       "      <td>33.167</td>\n",
       "      <td>49.5</td>\n",
       "      <td>22.0</td>\n",
       "      <td>1.116988e-12</td>\n",
       "      <td>6.0333305e-12</td>\n",
       "      <td>3.903e-12</td>\n",
       "    </tr>\n",
       "    <tr>\n",
       "      <th>10071403</th>\n",
       "      <td>0.948</td>\n",
       "      <td>2</td>\n",
       "      <td>8.0</td>\n",
       "      <td>17.0</td>\n",
       "      <td>12.500</td>\n",
       "      <td>12.5</td>\n",
       "      <td>28.750</td>\n",
       "      <td>33.0</td>\n",
       "      <td>24.5</td>\n",
       "      <td>1.0392891e-13</td>\n",
       "      <td>2.3219453e-13</td>\n",
       "      <td>1.681e-13</td>\n",
       "    </tr>\n",
       "    <tr>\n",
       "      <th>...</th>\n",
       "      <td>...</td>\n",
       "      <td>...</td>\n",
       "      <td>...</td>\n",
       "      <td>...</td>\n",
       "      <td>...</td>\n",
       "      <td>...</td>\n",
       "      <td>...</td>\n",
       "      <td>...</td>\n",
       "      <td>...</td>\n",
       "      <td>...</td>\n",
       "      <td>...</td>\n",
       "      <td>...</td>\n",
       "    </tr>\n",
       "    <tr>\n",
       "      <th>19944092</th>\n",
       "      <td>0.942</td>\n",
       "      <td>2</td>\n",
       "      <td>5.0</td>\n",
       "      <td>9.0</td>\n",
       "      <td>7.000</td>\n",
       "      <td>7.0</td>\n",
       "      <td>33.750</td>\n",
       "      <td>46.0</td>\n",
       "      <td>21.5</td>\n",
       "      <td>1.0159808e-13</td>\n",
       "      <td>2.6423423e-12</td>\n",
       "      <td>1.372e-12</td>\n",
       "    </tr>\n",
       "    <tr>\n",
       "      <th>19957540</th>\n",
       "      <td>0.945</td>\n",
       "      <td>2</td>\n",
       "      <td>13.0</td>\n",
       "      <td>17.0</td>\n",
       "      <td>15.000</td>\n",
       "      <td>15.0</td>\n",
       "      <td>50.250</td>\n",
       "      <td>70.0</td>\n",
       "      <td>30.5</td>\n",
       "      <td>2.694774e-12</td>\n",
       "      <td>6.684778e-12</td>\n",
       "      <td>4.690e-12</td>\n",
       "    </tr>\n",
       "    <tr>\n",
       "      <th>19973934</th>\n",
       "      <td>0.916</td>\n",
       "      <td>3</td>\n",
       "      <td>3.0</td>\n",
       "      <td>6.0</td>\n",
       "      <td>4.333</td>\n",
       "      <td>4.0</td>\n",
       "      <td>40.167</td>\n",
       "      <td>84.0</td>\n",
       "      <td>3.0</td>\n",
       "      <td>1.9602562e-12</td>\n",
       "      <td>5.4396787e-12</td>\n",
       "      <td>4.149e-12</td>\n",
       "    </tr>\n",
       "    <tr>\n",
       "      <th>19986341</th>\n",
       "      <td>0.977</td>\n",
       "      <td>4</td>\n",
       "      <td>10.0</td>\n",
       "      <td>16.0</td>\n",
       "      <td>13.000</td>\n",
       "      <td>13.0</td>\n",
       "      <td>26.375</td>\n",
       "      <td>36.0</td>\n",
       "      <td>20.5</td>\n",
       "      <td>3.0145076e-14</td>\n",
       "      <td>7.482631e-12</td>\n",
       "      <td>2.668e-12</td>\n",
       "    </tr>\n",
       "    <tr>\n",
       "      <th>19995080</th>\n",
       "      <td>0.923</td>\n",
       "      <td>2</td>\n",
       "      <td>5.0</td>\n",
       "      <td>7.0</td>\n",
       "      <td>6.000</td>\n",
       "      <td>6.0</td>\n",
       "      <td>35.250</td>\n",
       "      <td>40.0</td>\n",
       "      <td>30.5</td>\n",
       "      <td>3.3790118e-13</td>\n",
       "      <td>3.2113455e-12</td>\n",
       "      <td>1.775e-12</td>\n",
       "    </tr>\n",
       "  </tbody>\n",
       "</table>\n",
       "<p>475 rows × 12 columns</p>\n",
       "</div>"
      ],
      "text/plain": [
       "              AUC N_VISITS N_CODES                      INTERVALS              \\\n",
       "             mean      max     min   max    mean median      mean   max   min   \n",
       "SUBJECT_ID                                                                      \n",
       "10018862    0.930        6    13.0  18.0  15.500   15.0    33.917  76.5  14.0   \n",
       "10019596    0.940        2     4.0   7.0   5.500    5.5    33.250  46.5  20.0   \n",
       "10041381    0.990        2     6.0   9.0   7.500    7.5    21.750  23.5  20.0   \n",
       "10058750    0.971        3     4.0   6.0   5.000    5.0    33.167  49.5  22.0   \n",
       "10071403    0.948        2     8.0  17.0  12.500   12.5    28.750  33.0  24.5   \n",
       "...           ...      ...     ...   ...     ...    ...       ...   ...   ...   \n",
       "19944092    0.942        2     5.0   9.0   7.000    7.0    33.750  46.0  21.5   \n",
       "19957540    0.945        2    13.0  17.0  15.000   15.0    50.250  70.0  30.5   \n",
       "19973934    0.916        3     3.0   6.0   4.333    4.0    40.167  84.0   3.0   \n",
       "19986341    0.977        4    10.0  16.0  13.000   13.0    26.375  36.0  20.5   \n",
       "19995080    0.923        2     5.0   7.0   6.000    6.0    35.250  40.0  30.5   \n",
       "\n",
       "                      R/T                            \n",
       "                      min            max       mean  \n",
       "SUBJECT_ID                                           \n",
       "10018862    3.1488965e-14   6.996075e-11  2.197e-11  \n",
       "10019596    7.0410355e-13   3.080422e-12  1.892e-12  \n",
       "10041381    2.2410138e-12   5.318445e-12  3.780e-12  \n",
       "10058750     1.116988e-12  6.0333305e-12  3.903e-12  \n",
       "10071403    1.0392891e-13  2.3219453e-13  1.681e-13  \n",
       "...                   ...            ...        ...  \n",
       "19944092    1.0159808e-13  2.6423423e-12  1.372e-12  \n",
       "19957540     2.694774e-12   6.684778e-12  4.690e-12  \n",
       "19973934    1.9602562e-12  5.4396787e-12  4.149e-12  \n",
       "19986341    3.0145076e-14   7.482631e-12  2.668e-12  \n",
       "19995080    3.3790118e-13  3.2113455e-12  1.775e-12  \n",
       "\n",
       "[475 rows x 12 columns]"
      ]
     },
     "execution_count": 270,
     "metadata": {},
     "output_type": "execute_result"
    }
   ],
   "source": [
    "best_visit_auc_subjects =  visit_auc_subject[(visit_auc_subject.AUC['mean'] > 0.9) & (visit_auc_subject.N_VISITS['max'] > 1) & (visit_auc_subject.N_VISITS['max'] <10) & (visit_auc_subject.INTERVALS['max'] < 90)]\n",
    "best_visit_auc_subjects"
   ]
  },
  {
   "cell_type": "code",
   "execution_count": 271,
   "id": "aabfcd46",
   "metadata": {},
   "outputs": [],
   "source": [
    "ccs_history = {i: m4_interface[clfs[0]].diag_flatccs_history(i)[1] for i in best_visit_auc_subjects.index}"
   ]
  },
  {
   "cell_type": "code",
   "execution_count": 272,
   "id": "a6524fc6",
   "metadata": {},
   "outputs": [],
   "source": [
    "ccs_history_icenode_best = {i: history for i, history in ccs_history.items() if len(set(history) & selected_icenode_m4_excl)> 0}"
   ]
  },
  {
   "cell_type": "code",
   "execution_count": 273,
   "id": "3735d22d",
   "metadata": {},
   "outputs": [
    {
     "data": {
      "text/plain": [
       "{}"
      ]
     },
     "execution_count": 273,
     "metadata": {},
     "output_type": "execute_result"
    }
   ],
   "source": [
    "ccs_history_icenode_best"
   ]
  },
  {
   "cell_type": "code",
   "execution_count": 274,
   "id": "246fdc86",
   "metadata": {},
   "outputs": [
    {
     "data": {
      "text/plain": [
       "0"
      ]
     },
     "execution_count": 274,
     "metadata": {},
     "output_type": "execute_result"
    }
   ],
   "source": [
    "len(ccs_history_icenode_best)"
   ]
  },
  {
   "cell_type": "code",
   "execution_count": 275,
   "id": "8d35ce59",
   "metadata": {},
   "outputs": [
    {
     "ename": "TypeError",
     "evalue": "'NoneType' object is not subscriptable",
     "output_type": "error",
     "traceback": [
      "\u001b[0;31m---------------------------------------------------------------------------\u001b[0m",
      "\u001b[0;31mTypeError\u001b[0m                                 Traceback (most recent call last)",
      "\u001b[0;32m/tmp/ipykernel_644082/976902405.py\u001b[0m in \u001b[0;36m<module>\u001b[0;34m\u001b[0m\n\u001b[1;32m      1\u001b[0m \u001b[0micenode\u001b[0m\u001b[0;34m,\u001b[0m \u001b[0micenode_state\u001b[0m \u001b[0;34m=\u001b[0m \u001b[0mm4_predictors\u001b[0m\u001b[0;34m[\u001b[0m\u001b[0;34m'ICE-NODE'\u001b[0m\u001b[0;34m]\u001b[0m\u001b[0;34m\u001b[0m\u001b[0;34m\u001b[0m\u001b[0m\n\u001b[0;32m----> 2\u001b[0;31m \u001b[0mtrajectory\u001b[0m \u001b[0;34m=\u001b[0m \u001b[0micenode\u001b[0m\u001b[0;34m.\u001b[0m\u001b[0msample_trajectory\u001b[0m\u001b[0;34m(\u001b[0m\u001b[0micenode_state\u001b[0m\u001b[0;34m,\u001b[0m \u001b[0mccs_history_icenode_best\u001b[0m\u001b[0;34m.\u001b[0m\u001b[0mkeys\u001b[0m\u001b[0;34m(\u001b[0m\u001b[0;34m)\u001b[0m\u001b[0;34m,\u001b[0m \u001b[0;36m1\u001b[0m\u001b[0;34m)\u001b[0m\u001b[0;34m\u001b[0m\u001b[0;34m\u001b[0m\u001b[0m\n\u001b[0m",
      "\u001b[0;32m~/GP/ICENODE/analysis/../icenode/train_icenode_tl.py\u001b[0m in \u001b[0;36msample_trajectory\u001b[0;34m(self, model_state, batch, sample_rate)\u001b[0m\n\u001b[1;32m    360\u001b[0m                 \u001b[0;34m'time'\u001b[0m\u001b[0;34m:\u001b[0m \u001b[0madm0\u001b[0m\u001b[0;34m[\u001b[0m\u001b[0;34m'time'\u001b[0m\u001b[0;34m]\u001b[0m\u001b[0;34m[\u001b[0m\u001b[0mi\u001b[0m\u001b[0;34m]\u001b[0m \u001b[0;34m+\u001b[0m \u001b[0madm0\u001b[0m\u001b[0;34m[\u001b[0m\u001b[0;34m'los'\u001b[0m\u001b[0;34m]\u001b[0m\u001b[0;34m[\u001b[0m\u001b[0mi\u001b[0m\u001b[0;34m]\u001b[0m\u001b[0;34m\u001b[0m\u001b[0;34m\u001b[0m\u001b[0m\n\u001b[1;32m    361\u001b[0m             }\n\u001b[0;32m--> 362\u001b[0;31m             \u001b[0;32mfor\u001b[0m \u001b[0mi\u001b[0m \u001b[0;32min\u001b[0m \u001b[0madm0\u001b[0m\u001b[0;34m[\u001b[0m\u001b[0;34m'admission_id'\u001b[0m\u001b[0;34m]\u001b[0m\u001b[0;34m\u001b[0m\u001b[0;34m\u001b[0m\u001b[0m\n\u001b[0m\u001b[1;32m    363\u001b[0m         }\n\u001b[1;32m    364\u001b[0m \u001b[0;34m\u001b[0m\u001b[0m\n",
      "\u001b[0;31mTypeError\u001b[0m: 'NoneType' object is not subscriptable"
     ]
    }
   ],
   "source": [
    "icenode, icenode_state = m4_predictors['ICE-NODE']\n",
    "trajectory = icenode.sample_trajectory(icenode_state, ccs_history_icenode_best.keys(), 1)"
   ]
  },
  {
   "cell_type": "code",
   "execution_count": null,
   "id": "31eef088",
   "metadata": {},
   "outputs": [],
   "source": [
    "import numpy as np\n",
    "import pandas as pd\n",
    "import seaborn as sns\n",
    "import matplotlib.pyplot as plt"
   ]
  },
  {
   "cell_type": "code",
   "execution_count": null,
   "id": "19bf6fc3",
   "metadata": {},
   "outputs": [],
   "source": [
    "ccs_index = list(selected_icenode_m4_excl)\n",
    "flatccs_idx2code = {idx: code for code, idx in m4_interface[clfs[0]].diag_flatccs_idx.items()}\n",
    "idx2desc = lambda idx: m4_interface[clfs[0]].dag.diag_flatccs_desc[flatccs_idx2code[idx]]\n",
    "ccs_description = list(map(idx2desc, ccs_index))\n"
   ]
  },
  {
   "cell_type": "code",
   "execution_count": null,
   "id": "5bcce07b",
   "metadata": {},
   "outputs": [],
   "source": [
    "data = {}\n",
    "for i, traj in trajectory.items():\n",
    "    diag_times = m4_interface[clfs[0]].diag_times(i)\n",
    "    \n",
    "    t = traj['t']\n",
    "    d = traj['d']\n",
    "    \n",
    "    prob = []\n",
    "    time = []\n",
    "    code = []\n",
    "    \n",
    "    for ccs_desc, ccs_idx in zip(ccs_description, ccs_index):\n",
    "        time.append(t)\n",
    "        code.extend([ccs_desc]*len(t))\n",
    "        prob.append(d[:, ccs_idx])\n",
    "\n",
    "    prob = np.hstack(prob)\n",
    "    time = np.hstack(time)\n",
    "    \n",
    "    \n",
    "    df = pd.DataFrame({'t': time, r'$\\hat{v}$': prob, 'code': code})\n",
    "    data[i] = (df, diag_times)\n",
    "    "
   ]
  },
  {
   "cell_type": "code",
   "execution_count": null,
   "id": "f7b9dcc6",
   "metadata": {},
   "outputs": [],
   "source": [
    "plt.rcParams['figure.figsize']=(10,10)\n",
    "import math\n",
    "for i, (df, diag_times) in data.items():\n",
    "\n",
    "    plt.figure(i)\n",
    "    \n",
    "    g = sns.lineplot(data=df, x=\"t\", y=r'$\\hat{v}$', hue='code', marker='o')\n",
    "    for diag_time in diag_times:\n",
    "        g.axvline(x=diag_time, ymin=0, ymax=1, c=\"red\", ls='--', linewidth=0.8, zorder=0, clip_on=False)"
   ]
  },
  {
   "cell_type": "markdown",
   "id": "9411c0dc",
   "metadata": {},
   "source": [
    "It seems that we cannot catch the smoothness of the trajectory as it evolves very quickly to the saturation value."
   ]
  }
 ],
 "metadata": {
  "kernelspec": {
   "display_name": "Python 3 (ipykernel)",
   "language": "python",
   "name": "python3"
  },
  "language_info": {
   "codemirror_mode": {
    "name": "ipython",
    "version": 3
   },
   "file_extension": ".py",
   "mimetype": "text/x-python",
   "name": "python",
   "nbconvert_exporter": "python",
   "pygments_lexer": "ipython3",
   "version": "3.8.12"
  }
 },
 "nbformat": 4,
 "nbformat_minor": 5
}
