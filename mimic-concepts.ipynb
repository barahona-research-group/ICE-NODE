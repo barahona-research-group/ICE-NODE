{
 "cells": [
  {
   "cell_type": "code",
   "execution_count": 1,
   "id": "handed-anderson",
   "metadata": {},
   "outputs": [],
   "source": [
    "import numpy as np\n",
    "import pandas as pd\n",
    "import json\n",
    "import collections\n",
    "from collections import defaultdict \n",
    "from functools import partial\n",
    "import networkx as nx\n",
    "import matplotlib.pyplot as plt\n",
    "import seaborn as sns"
   ]
  },
  {
   "cell_type": "code",
   "execution_count": 2,
   "id": "coastal-renewal",
   "metadata": {},
   "outputs": [],
   "source": [
    "# project_dir = '/home/am8520/GP/MIMIC-SNONET'\n",
    "# mimic_dir = '/home/am8520/GP/MIMIC-SNONET/RAW'\n",
    "\n",
    "project_dir = '/home/asem/GP/MIMIC-SNONET'\n",
    "mimic_dir = '/home/asem/GP/ehr-data/mimic3-v1.4/physionet.org/files/mimiciii/1.4'\n"
   ]
  },
  {
   "cell_type": "code",
   "execution_count": 3,
   "id": "numeric-identification",
   "metadata": {},
   "outputs": [
    {
     "data": {
      "text/plain": [
       "<module 'mimicnet.dag' from '/home/asem/GP/MIMIC-SNONET/mimicnet/dag.py'>"
      ]
     },
     "execution_count": 3,
     "metadata": {},
     "output_type": "execute_result"
    }
   ],
   "source": [
    "# Good read: https://iq-inc.com/importerror-attempted-relative-import/\n",
    "\n",
    "import sys\n",
    "import importlib\n",
    "\n",
    "\n",
    "from mimicnet import dag\n",
    "\n",
    "importlib.reload(sys.modules['mimicnet.dag'])"
   ]
  },
  {
   "cell_type": "code",
   "execution_count": 4,
   "id": "representative-corrections",
   "metadata": {},
   "outputs": [],
   "source": [
    "\n",
    "# LABEVENTS = pd.read_csv(f'{mimic_dir}/LABEVENTS.csv.gz')\n",
    "# CHARTEVENTS = pd.read_csv(f'{mimic_dir}/CHARTEVENTS.csv.gz')"
   ]
  },
  {
   "cell_type": "markdown",
   "id": "liked-evanescence",
   "metadata": {},
   "source": [
    "### Notes\n",
    "\n",
    "#### TODO\n",
    "\n",
    "1. From DIAGNOSES_ICD:\n",
    "    - map to CCS (multi/single)\n",
    "    - histogram of diseases (number of patients for each CCS code)\n",
    "2. From ADMISSION and ICUSTAY:\n",
    "    - #Admissions per patient\n",
    "    - #ICUStays per patient\n",
    "    - #ICUStays per admission\n",
    "3. measurements: merge all measurements by HADM_ID (aggregate by median, 0.9 quantile, 0.1 quantile)."
   ]
  },
  {
   "cell_type": "code",
   "execution_count": 5,
   "id": "least-toilet",
   "metadata": {},
   "outputs": [],
   "source": [
    "ADMISSIONS = pd.read_csv(f'{mimic_dir}/ADMISSIONS.csv.gz')"
   ]
  },
  {
   "cell_type": "code",
   "execution_count": 6,
   "id": "spoken-defensive",
   "metadata": {},
   "outputs": [
    {
     "data": {
      "text/html": [
       "<div>\n",
       "<style scoped>\n",
       "    .dataframe tbody tr th:only-of-type {\n",
       "        vertical-align: middle;\n",
       "    }\n",
       "\n",
       "    .dataframe tbody tr th {\n",
       "        vertical-align: top;\n",
       "    }\n",
       "\n",
       "    .dataframe thead th {\n",
       "        text-align: right;\n",
       "    }\n",
       "</style>\n",
       "<table border=\"1\" class=\"dataframe\">\n",
       "  <thead>\n",
       "    <tr style=\"text-align: right;\">\n",
       "      <th></th>\n",
       "      <th>ROW_ID</th>\n",
       "      <th>SUBJECT_ID</th>\n",
       "      <th>HADM_ID</th>\n",
       "      <th>ADMITTIME</th>\n",
       "      <th>DISCHTIME</th>\n",
       "      <th>DEATHTIME</th>\n",
       "      <th>ADMISSION_TYPE</th>\n",
       "      <th>ADMISSION_LOCATION</th>\n",
       "      <th>DISCHARGE_LOCATION</th>\n",
       "      <th>INSURANCE</th>\n",
       "      <th>LANGUAGE</th>\n",
       "      <th>RELIGION</th>\n",
       "      <th>MARITAL_STATUS</th>\n",
       "      <th>ETHNICITY</th>\n",
       "      <th>EDREGTIME</th>\n",
       "      <th>EDOUTTIME</th>\n",
       "      <th>DIAGNOSIS</th>\n",
       "      <th>HOSPITAL_EXPIRE_FLAG</th>\n",
       "      <th>HAS_CHARTEVENTS_DATA</th>\n",
       "    </tr>\n",
       "  </thead>\n",
       "  <tbody>\n",
       "    <tr>\n",
       "      <th>0</th>\n",
       "      <td>21</td>\n",
       "      <td>22</td>\n",
       "      <td>165315</td>\n",
       "      <td>2196-04-09 12:26:00</td>\n",
       "      <td>2196-04-10 15:54:00</td>\n",
       "      <td>NaN</td>\n",
       "      <td>EMERGENCY</td>\n",
       "      <td>EMERGENCY ROOM ADMIT</td>\n",
       "      <td>DISC-TRAN CANCER/CHLDRN H</td>\n",
       "      <td>Private</td>\n",
       "      <td>NaN</td>\n",
       "      <td>UNOBTAINABLE</td>\n",
       "      <td>MARRIED</td>\n",
       "      <td>WHITE</td>\n",
       "      <td>2196-04-09 10:06:00</td>\n",
       "      <td>2196-04-09 13:24:00</td>\n",
       "      <td>BENZODIAZEPINE OVERDOSE</td>\n",
       "      <td>0</td>\n",
       "      <td>1</td>\n",
       "    </tr>\n",
       "    <tr>\n",
       "      <th>1</th>\n",
       "      <td>22</td>\n",
       "      <td>23</td>\n",
       "      <td>152223</td>\n",
       "      <td>2153-09-03 07:15:00</td>\n",
       "      <td>2153-09-08 19:10:00</td>\n",
       "      <td>NaN</td>\n",
       "      <td>ELECTIVE</td>\n",
       "      <td>PHYS REFERRAL/NORMAL DELI</td>\n",
       "      <td>HOME HEALTH CARE</td>\n",
       "      <td>Medicare</td>\n",
       "      <td>NaN</td>\n",
       "      <td>CATHOLIC</td>\n",
       "      <td>MARRIED</td>\n",
       "      <td>WHITE</td>\n",
       "      <td>NaN</td>\n",
       "      <td>NaN</td>\n",
       "      <td>CORONARY ARTERY DISEASE\\CORONARY ARTERY BYPASS...</td>\n",
       "      <td>0</td>\n",
       "      <td>1</td>\n",
       "    </tr>\n",
       "    <tr>\n",
       "      <th>2</th>\n",
       "      <td>23</td>\n",
       "      <td>23</td>\n",
       "      <td>124321</td>\n",
       "      <td>2157-10-18 19:34:00</td>\n",
       "      <td>2157-10-25 14:00:00</td>\n",
       "      <td>NaN</td>\n",
       "      <td>EMERGENCY</td>\n",
       "      <td>TRANSFER FROM HOSP/EXTRAM</td>\n",
       "      <td>HOME HEALTH CARE</td>\n",
       "      <td>Medicare</td>\n",
       "      <td>ENGL</td>\n",
       "      <td>CATHOLIC</td>\n",
       "      <td>MARRIED</td>\n",
       "      <td>WHITE</td>\n",
       "      <td>NaN</td>\n",
       "      <td>NaN</td>\n",
       "      <td>BRAIN MASS</td>\n",
       "      <td>0</td>\n",
       "      <td>1</td>\n",
       "    </tr>\n",
       "    <tr>\n",
       "      <th>3</th>\n",
       "      <td>24</td>\n",
       "      <td>24</td>\n",
       "      <td>161859</td>\n",
       "      <td>2139-06-06 16:14:00</td>\n",
       "      <td>2139-06-09 12:48:00</td>\n",
       "      <td>NaN</td>\n",
       "      <td>EMERGENCY</td>\n",
       "      <td>TRANSFER FROM HOSP/EXTRAM</td>\n",
       "      <td>HOME</td>\n",
       "      <td>Private</td>\n",
       "      <td>NaN</td>\n",
       "      <td>PROTESTANT QUAKER</td>\n",
       "      <td>SINGLE</td>\n",
       "      <td>WHITE</td>\n",
       "      <td>NaN</td>\n",
       "      <td>NaN</td>\n",
       "      <td>INTERIOR MYOCARDIAL INFARCTION</td>\n",
       "      <td>0</td>\n",
       "      <td>1</td>\n",
       "    </tr>\n",
       "    <tr>\n",
       "      <th>4</th>\n",
       "      <td>25</td>\n",
       "      <td>25</td>\n",
       "      <td>129635</td>\n",
       "      <td>2160-11-02 02:06:00</td>\n",
       "      <td>2160-11-05 14:55:00</td>\n",
       "      <td>NaN</td>\n",
       "      <td>EMERGENCY</td>\n",
       "      <td>EMERGENCY ROOM ADMIT</td>\n",
       "      <td>HOME</td>\n",
       "      <td>Private</td>\n",
       "      <td>NaN</td>\n",
       "      <td>UNOBTAINABLE</td>\n",
       "      <td>MARRIED</td>\n",
       "      <td>WHITE</td>\n",
       "      <td>2160-11-02 01:01:00</td>\n",
       "      <td>2160-11-02 04:27:00</td>\n",
       "      <td>ACUTE CORONARY SYNDROME</td>\n",
       "      <td>0</td>\n",
       "      <td>1</td>\n",
       "    </tr>\n",
       "  </tbody>\n",
       "</table>\n",
       "</div>"
      ],
      "text/plain": [
       "   ROW_ID  SUBJECT_ID  HADM_ID            ADMITTIME            DISCHTIME  \\\n",
       "0      21          22   165315  2196-04-09 12:26:00  2196-04-10 15:54:00   \n",
       "1      22          23   152223  2153-09-03 07:15:00  2153-09-08 19:10:00   \n",
       "2      23          23   124321  2157-10-18 19:34:00  2157-10-25 14:00:00   \n",
       "3      24          24   161859  2139-06-06 16:14:00  2139-06-09 12:48:00   \n",
       "4      25          25   129635  2160-11-02 02:06:00  2160-11-05 14:55:00   \n",
       "\n",
       "  DEATHTIME ADMISSION_TYPE         ADMISSION_LOCATION  \\\n",
       "0       NaN      EMERGENCY       EMERGENCY ROOM ADMIT   \n",
       "1       NaN       ELECTIVE  PHYS REFERRAL/NORMAL DELI   \n",
       "2       NaN      EMERGENCY  TRANSFER FROM HOSP/EXTRAM   \n",
       "3       NaN      EMERGENCY  TRANSFER FROM HOSP/EXTRAM   \n",
       "4       NaN      EMERGENCY       EMERGENCY ROOM ADMIT   \n",
       "\n",
       "          DISCHARGE_LOCATION INSURANCE LANGUAGE           RELIGION  \\\n",
       "0  DISC-TRAN CANCER/CHLDRN H   Private      NaN       UNOBTAINABLE   \n",
       "1           HOME HEALTH CARE  Medicare      NaN           CATHOLIC   \n",
       "2           HOME HEALTH CARE  Medicare     ENGL           CATHOLIC   \n",
       "3                       HOME   Private      NaN  PROTESTANT QUAKER   \n",
       "4                       HOME   Private      NaN       UNOBTAINABLE   \n",
       "\n",
       "  MARITAL_STATUS ETHNICITY            EDREGTIME            EDOUTTIME  \\\n",
       "0        MARRIED     WHITE  2196-04-09 10:06:00  2196-04-09 13:24:00   \n",
       "1        MARRIED     WHITE                  NaN                  NaN   \n",
       "2        MARRIED     WHITE                  NaN                  NaN   \n",
       "3         SINGLE     WHITE                  NaN                  NaN   \n",
       "4        MARRIED     WHITE  2160-11-02 01:01:00  2160-11-02 04:27:00   \n",
       "\n",
       "                                           DIAGNOSIS  HOSPITAL_EXPIRE_FLAG  \\\n",
       "0                            BENZODIAZEPINE OVERDOSE                     0   \n",
       "1  CORONARY ARTERY DISEASE\\CORONARY ARTERY BYPASS...                     0   \n",
       "2                                         BRAIN MASS                     0   \n",
       "3                     INTERIOR MYOCARDIAL INFARCTION                     0   \n",
       "4                            ACUTE CORONARY SYNDROME                     0   \n",
       "\n",
       "   HAS_CHARTEVENTS_DATA  \n",
       "0                     1  \n",
       "1                     1  \n",
       "2                     1  \n",
       "3                     1  \n",
       "4                     1  "
      ]
     },
     "execution_count": 6,
     "metadata": {},
     "output_type": "execute_result"
    }
   ],
   "source": [
    "ADMISSIONS.head()"
   ]
  },
  {
   "cell_type": "code",
   "execution_count": 7,
   "id": "sweet-envelope",
   "metadata": {},
   "outputs": [],
   "source": [
    "patients_admission = defaultdict(set)\n",
    "\n",
    "for row in ADMISSIONS.itertuples():\n",
    "    patients_admission[row.SUBJECT_ID].add(row.HADM_ID)\n",
    "    \n",
    "patients_admission_df = pd.DataFrame({'patient': patients_admission.keys(), 'n_admissions': map(len, patients_admission.values())})"
   ]
  },
  {
   "cell_type": "code",
   "execution_count": 8,
   "id": "studied-satisfaction",
   "metadata": {},
   "outputs": [],
   "source": [
    "patients_admission_count = list(map(lambda t: (t[0], len(t[1])), patients_admission.items()))"
   ]
  },
  {
   "cell_type": "code",
   "execution_count": 9,
   "id": "perceived-floor",
   "metadata": {},
   "outputs": [],
   "source": [
    "_, counts = zip(*patients_admission_count)"
   ]
  },
  {
   "cell_type": "code",
   "execution_count": 10,
   "id": "governmental-franklin",
   "metadata": {},
   "outputs": [],
   "source": [
    "admissions_hist = np.bincount(counts)"
   ]
  },
  {
   "cell_type": "code",
   "execution_count": 11,
   "id": "armed-continuity",
   "metadata": {},
   "outputs": [
    {
     "data": {
      "text/plain": [
       "array([    0, 38983,  5160,  1342,   508,   246,   113,    51,    31,\n",
       "          26,    14,    13,     8,     5,     4,     1,     2,     3,\n",
       "           0,     1,     1,     1,     1,     1,     1,     0,     0,\n",
       "           0,     0,     0,     0,     1,     0,     0,     2,     0,\n",
       "           0,     0,     0,     0,     0,     0,     1])"
      ]
     },
     "execution_count": 11,
     "metadata": {},
     "output_type": "execute_result"
    }
   ],
   "source": [
    "admissions_hist"
   ]
  },
  {
   "cell_type": "code",
   "execution_count": 12,
   "id": "apart-neighborhood",
   "metadata": {},
   "outputs": [
    {
     "data": {
      "text/plain": [
       "7537"
      ]
     },
     "execution_count": 12,
     "metadata": {},
     "output_type": "execute_result"
    }
   ],
   "source": [
    "# In GRAM paper, all patients with at least 2 visits were utilized (n=7537).\n",
    "np.sum(patients_admission_df.n_admissions > 1)"
   ]
  },
  {
   "cell_type": "markdown",
   "id": "martial-tucson",
   "metadata": {},
   "source": [
    "### Select patients with at least 2 visits\n",
    "\n",
    "- Followed by GRAM paper.\n",
    "- n=7537"
   ]
  },
  {
   "cell_type": "code",
   "execution_count": 13,
   "id": "handy-festival",
   "metadata": {},
   "outputs": [],
   "source": [
    "multi_visit_mimic_dir = '/home/asem/GP/ehr-data/mimic3-multi-visit'\n",
    "\n",
    "patients_multi_visits = set(patients_admission_df[patients_admission_df.n_admissions > 1].patient.tolist())"
   ]
  },
  {
   "cell_type": "code",
   "execution_count": 16,
   "id": "confirmed-surveillance",
   "metadata": {},
   "outputs": [
    {
     "data": {
      "text/html": [
       "<div>\n",
       "<style scoped>\n",
       "    .dataframe tbody tr th:only-of-type {\n",
       "        vertical-align: middle;\n",
       "    }\n",
       "\n",
       "    .dataframe tbody tr th {\n",
       "        vertical-align: top;\n",
       "    }\n",
       "\n",
       "    .dataframe thead th {\n",
       "        text-align: right;\n",
       "    }\n",
       "</style>\n",
       "<table border=\"1\" class=\"dataframe\">\n",
       "  <thead>\n",
       "    <tr style=\"text-align: right;\">\n",
       "      <th></th>\n",
       "      <th>ROW_ID</th>\n",
       "      <th>SUBJECT_ID</th>\n",
       "      <th>GENDER</th>\n",
       "      <th>DOB</th>\n",
       "      <th>DOD</th>\n",
       "      <th>DOD_HOSP</th>\n",
       "      <th>DOD_SSN</th>\n",
       "      <th>EXPIRE_FLAG</th>\n",
       "    </tr>\n",
       "  </thead>\n",
       "  <tbody>\n",
       "    <tr>\n",
       "      <th>0</th>\n",
       "      <td>234</td>\n",
       "      <td>249</td>\n",
       "      <td>F</td>\n",
       "      <td>2075-03-13 00:00:00</td>\n",
       "      <td>NaN</td>\n",
       "      <td>NaN</td>\n",
       "      <td>NaN</td>\n",
       "      <td>0</td>\n",
       "    </tr>\n",
       "    <tr>\n",
       "      <th>1</th>\n",
       "      <td>237</td>\n",
       "      <td>252</td>\n",
       "      <td>M</td>\n",
       "      <td>2078-03-06 00:00:00</td>\n",
       "      <td>NaN</td>\n",
       "      <td>NaN</td>\n",
       "      <td>NaN</td>\n",
       "      <td>0</td>\n",
       "    </tr>\n",
       "    <tr>\n",
       "      <th>2</th>\n",
       "      <td>240</td>\n",
       "      <td>256</td>\n",
       "      <td>M</td>\n",
       "      <td>2086-07-31 00:00:00</td>\n",
       "      <td>NaN</td>\n",
       "      <td>NaN</td>\n",
       "      <td>NaN</td>\n",
       "      <td>0</td>\n",
       "    </tr>\n",
       "    <tr>\n",
       "      <th>3</th>\n",
       "      <td>628</td>\n",
       "      <td>665</td>\n",
       "      <td>M</td>\n",
       "      <td>2052-05-20 00:00:00</td>\n",
       "      <td>2120-02-04 00:00:00</td>\n",
       "      <td>2120-02-04 00:00:00</td>\n",
       "      <td>NaN</td>\n",
       "      <td>1</td>\n",
       "    </tr>\n",
       "    <tr>\n",
       "      <th>4</th>\n",
       "      <td>637</td>\n",
       "      <td>674</td>\n",
       "      <td>F</td>\n",
       "      <td>2113-12-14 00:00:00</td>\n",
       "      <td>2195-02-17 00:00:00</td>\n",
       "      <td>2195-02-17 00:00:00</td>\n",
       "      <td>2195-02-17 00:00:00</td>\n",
       "      <td>1</td>\n",
       "    </tr>\n",
       "  </tbody>\n",
       "</table>\n",
       "</div>"
      ],
      "text/plain": [
       "   ROW_ID  SUBJECT_ID GENDER                  DOB                  DOD  \\\n",
       "0     234         249      F  2075-03-13 00:00:00                  NaN   \n",
       "1     237         252      M  2078-03-06 00:00:00                  NaN   \n",
       "2     240         256      M  2086-07-31 00:00:00                  NaN   \n",
       "3     628         665      M  2052-05-20 00:00:00  2120-02-04 00:00:00   \n",
       "4     637         674      F  2113-12-14 00:00:00  2195-02-17 00:00:00   \n",
       "\n",
       "              DOD_HOSP              DOD_SSN  EXPIRE_FLAG  \n",
       "0                  NaN                  NaN            0  \n",
       "1                  NaN                  NaN            0  \n",
       "2                  NaN                  NaN            0  \n",
       "3  2120-02-04 00:00:00                  NaN            1  \n",
       "4  2195-02-17 00:00:00  2195-02-17 00:00:00            1  "
      ]
     },
     "execution_count": 16,
     "metadata": {},
     "output_type": "execute_result"
    }
   ],
   "source": [
    "PATIENTS = pd.read_csv(f'{mimic_dir}/PATIENTS.csv.gz')\n",
    "PATIENTS = PATIENTS[PATIENTS.SUBJECT_ID.isin(patients_multi_visits)].reset_index(drop=True)\n",
    "PATIENTS.to_csv(f'{multi_visit_mimic_dir}/PATIENTS.csv.gz', compression='gzip', index=False)\n",
    "PATIENTS.head()"
   ]
  },
  {
   "cell_type": "code",
   "execution_count": 20,
   "id": "rocky-value",
   "metadata": {},
   "outputs": [
    {
     "data": {
      "text/html": [
       "<div>\n",
       "<style scoped>\n",
       "    .dataframe tbody tr th:only-of-type {\n",
       "        vertical-align: middle;\n",
       "    }\n",
       "\n",
       "    .dataframe tbody tr th {\n",
       "        vertical-align: top;\n",
       "    }\n",
       "\n",
       "    .dataframe thead th {\n",
       "        text-align: right;\n",
       "    }\n",
       "</style>\n",
       "<table border=\"1\" class=\"dataframe\">\n",
       "  <thead>\n",
       "    <tr style=\"text-align: right;\">\n",
       "      <th></th>\n",
       "      <th>ROW_ID</th>\n",
       "      <th>SUBJECT_ID</th>\n",
       "      <th>GENDER</th>\n",
       "      <th>DOB</th>\n",
       "      <th>DOD</th>\n",
       "      <th>DOD_HOSP</th>\n",
       "      <th>DOD_SSN</th>\n",
       "      <th>EXPIRE_FLAG</th>\n",
       "    </tr>\n",
       "  </thead>\n",
       "  <tbody>\n",
       "    <tr>\n",
       "      <th>0</th>\n",
       "      <td>234</td>\n",
       "      <td>249</td>\n",
       "      <td>F</td>\n",
       "      <td>2075-03-13 00:00:00</td>\n",
       "      <td>NaN</td>\n",
       "      <td>NaN</td>\n",
       "      <td>NaN</td>\n",
       "      <td>0</td>\n",
       "    </tr>\n",
       "    <tr>\n",
       "      <th>1</th>\n",
       "      <td>237</td>\n",
       "      <td>252</td>\n",
       "      <td>M</td>\n",
       "      <td>2078-03-06 00:00:00</td>\n",
       "      <td>NaN</td>\n",
       "      <td>NaN</td>\n",
       "      <td>NaN</td>\n",
       "      <td>0</td>\n",
       "    </tr>\n",
       "    <tr>\n",
       "      <th>2</th>\n",
       "      <td>240</td>\n",
       "      <td>256</td>\n",
       "      <td>M</td>\n",
       "      <td>2086-07-31 00:00:00</td>\n",
       "      <td>NaN</td>\n",
       "      <td>NaN</td>\n",
       "      <td>NaN</td>\n",
       "      <td>0</td>\n",
       "    </tr>\n",
       "    <tr>\n",
       "      <th>3</th>\n",
       "      <td>628</td>\n",
       "      <td>665</td>\n",
       "      <td>M</td>\n",
       "      <td>2052-05-20 00:00:00</td>\n",
       "      <td>2120-02-04 00:00:00</td>\n",
       "      <td>2120-02-04 00:00:00</td>\n",
       "      <td>NaN</td>\n",
       "      <td>1</td>\n",
       "    </tr>\n",
       "    <tr>\n",
       "      <th>4</th>\n",
       "      <td>637</td>\n",
       "      <td>674</td>\n",
       "      <td>F</td>\n",
       "      <td>2113-12-14 00:00:00</td>\n",
       "      <td>2195-02-17 00:00:00</td>\n",
       "      <td>2195-02-17 00:00:00</td>\n",
       "      <td>2195-02-17 00:00:00</td>\n",
       "      <td>1</td>\n",
       "    </tr>\n",
       "  </tbody>\n",
       "</table>\n",
       "</div>"
      ],
      "text/plain": [
       "   ROW_ID  SUBJECT_ID GENDER                  DOB                  DOD  \\\n",
       "0     234         249      F  2075-03-13 00:00:00                  NaN   \n",
       "1     237         252      M  2078-03-06 00:00:00                  NaN   \n",
       "2     240         256      M  2086-07-31 00:00:00                  NaN   \n",
       "3     628         665      M  2052-05-20 00:00:00  2120-02-04 00:00:00   \n",
       "4     637         674      F  2113-12-14 00:00:00  2195-02-17 00:00:00   \n",
       "\n",
       "              DOD_HOSP              DOD_SSN  EXPIRE_FLAG  \n",
       "0                  NaN                  NaN            0  \n",
       "1                  NaN                  NaN            0  \n",
       "2                  NaN                  NaN            0  \n",
       "3  2120-02-04 00:00:00                  NaN            1  \n",
       "4  2195-02-17 00:00:00  2195-02-17 00:00:00            1  "
      ]
     },
     "execution_count": 20,
     "metadata": {},
     "output_type": "execute_result"
    }
   ],
   "source": [
    "PATIENTS = pd.read_csv(f'{multi_visit_mimic_dir}/PATIENTS.csv.gz')\n",
    "PATIENTS.head()"
   ]
  },
  {
   "cell_type": "code",
   "execution_count": 17,
   "id": "actual-knight",
   "metadata": {},
   "outputs": [],
   "source": [
    "ADMISSIONS = ADMISSIONS[ADMISSIONS.SUBJECT_ID.isin(patients_multi_visits)].reset_index(drop=True)\n",
    "ADMISSIONS.to_csv(f'{multi_visit_mimic_dir}/ADMISSIONS.csv.gz', compression='gzip', index=False)\n"
   ]
  },
  {
   "cell_type": "code",
   "execution_count": 18,
   "id": "terminal-breakfast",
   "metadata": {},
   "outputs": [],
   "source": [
    "DIAGNOSES_ICD = pd.read_csv(f'{mimic_dir}/DIAGNOSES_ICD.csv.gz')\n",
    "DIAGNOSES_ICD = DIAGNOSES_ICD[DIAGNOSES_ICD.SUBJECT_ID.isin(patients_multi_visits)].reset_index(drop=True)\n",
    "DIAGNOSES_ICD.to_csv(f'{multi_visit_mimic_dir}/DIAGNOSES_ICD.csv.gz', compression='gzip', index=False)\n",
    "\n",
    "\n",
    "PROCEDURES_ICD = pd.read_csv(f'{mimic_dir}/PROCEDURES_ICD.csv.gz')\n",
    "PROCEDURES_ICD = DIAGNOSES_ICD[DIAGNOSES_ICD.SUBJECT_ID.isin(patients_multi_visits)].reset_index(drop=True)\n",
    "PROCEDURES_ICD.to_csv(f'{multi_visit_mimic_dir}/PROCEDURES_ICD.csv.gz', compression='gzip', index=False)\n",
    "\n"
   ]
  },
  {
   "cell_type": "code",
   "execution_count": 19,
   "id": "small-reaction",
   "metadata": {},
   "outputs": [],
   "source": [
    "LABEVENTS = pd.read_csv(f'{mimic_dir}/LABEVENTS.csv.gz')\n",
    "LABEVENTS = LABEVENTS[LABEVENTS.SUBJECT_ID.isin(patients_multi_visits)].reset_index(drop=True)\n",
    "LABEVENTS.to_csv(f'{multi_visit_mimic_dir}/LABEVENTS.csv.gz', compression='gzip', index=False)"
   ]
  },
  {
   "cell_type": "code",
   "execution_count": null,
   "id": "outdoor-quantum",
   "metadata": {},
   "outputs": [],
   "source": [
    "CHARTEVENTS = pd.read_csv(f'{mimic_dir}/CHARTEVENTS.csv.gz')"
   ]
  },
  {
   "cell_type": "code",
   "execution_count": null,
   "id": "underlying-portable",
   "metadata": {},
   "outputs": [],
   "source": [
    "CHARTEVENTS = CHARTEVENTS[CHARTEVENTS.SUBJECT_ID.isin(patients_multi_visits)].reset_index(drop=True)\n",
    "CHARTEVENTS.to_csv(f'{multi_visit_mimic_dir}/CHARTEVENTS.csv.gz', compression='gzip', index=False)"
   ]
  },
  {
   "cell_type": "code",
   "execution_count": null,
   "id": "specified-category",
   "metadata": {},
   "outputs": [],
   "source": []
  }
 ],
 "metadata": {
  "kernelspec": {
   "display_name": "Python 3",
   "language": "python",
   "name": "python3"
  },
  "language_info": {
   "codemirror_mode": {
    "name": "ipython",
    "version": 3
   },
   "file_extension": ".py",
   "mimetype": "text/x-python",
   "name": "python",
   "nbconvert_exporter": "python",
   "pygments_lexer": "ipython3",
   "version": "3.8.5"
  }
 },
 "nbformat": 4,
 "nbformat_minor": 5
}
