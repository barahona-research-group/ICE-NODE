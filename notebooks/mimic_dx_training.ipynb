{
 "cells": [
  {
   "cell_type": "markdown",
   "id": "f53f4d3c",
   "metadata": {},
   "source": [
    "# Table of Content\n",
    "\n",
    "<a name=\"outline\"></a>\n",
    "\n",
    "## Setup\n",
    "\n",
    "- [A](#seca) External Imports\n",
    "- [B](#secb) Internal Imports\n",
    "- [C](#secc) Configurations and Paths \n",
    "- [D](#secd) JAX Interface\n",
    "- [E](#sece) General Utility Functions\n",
    "\n",
    "\n",
    "## Training\n",
    "\n",
    "- [1](#sec1) Training ICE-NODE and The Baselines\n"
   ]
  },
  {
   "cell_type": "markdown",
   "id": "697a491c",
   "metadata": {},
   "source": [
    "<a name=\"seca\"></a>\n",
    "\n",
    "### A External Imports [^](#outline)"
   ]
  },
  {
   "cell_type": "code",
   "execution_count": 1,
   "id": "4cfc614e",
   "metadata": {},
   "outputs": [],
   "source": [
    "%load_ext autoreload\n",
    "%autoreload 2\n",
    "import sys\n",
    "import os\n",
    "import glob\n",
    "import random\n",
    "from collections import defaultdict\n",
    "from pathlib import Path\n",
    "\n",
    "from IPython.display import display\n",
    "\n",
    "import pandas as pd\n",
    "\n",
    "from tqdm import tqdm\n",
    "import jax\n",
    "jax.config.update('jax_platform_name', 'gpu')"
   ]
  },
  {
   "cell_type": "markdown",
   "id": "23f0d568",
   "metadata": {},
   "source": [
    "<a name=\"secb\"></a>\n",
    "\n",
    "### B Internal Imports [^](#outline)"
   ]
  },
  {
   "cell_type": "code",
   "execution_count": 2,
   "id": "894a3743",
   "metadata": {},
   "outputs": [],
   "source": [
    "\n",
    "\n",
    "sys.path.append(\"..\")\n",
    "\n",
    "from lib import utils as U\n",
    "from lib.ehr.dataset import load_dataset"
   ]
  },
  {
   "cell_type": "code",
   "execution_count": 3,
   "id": "8c176dbe",
   "metadata": {},
   "outputs": [],
   "source": [
    "# Assign the folder of the dataset to `DATA_FILE`.\n",
    "\n",
    "HOME = os.environ.get('HOME')\n",
    "DATA_DIR = f'{HOME}/GP/ehr-data'\n",
    "SOURCE_DIR = os.path.abspath(\"..\")"
   ]
  },
  {
   "cell_type": "markdown",
   "id": "d9340794",
   "metadata": {},
   "source": [
    "<a name=\"secd\"></a>\n",
    "\n",
    "### C Configurations and Paths [^](#outline)"
   ]
  },
  {
   "cell_type": "code",
   "execution_count": null,
   "id": "73ca7906",
   "metadata": {},
   "outputs": [],
   "source": []
  },
  {
   "cell_type": "code",
   "execution_count": 4,
   "id": "f1898f46",
   "metadata": {},
   "outputs": [],
   "source": [
    "\n",
    "output_dir = 'mimic_artefacts'\n",
    "Path(output_dir).mkdir(parents=True, exist_ok=True)"
   ]
  },
  {
   "cell_type": "code",
   "execution_count": null,
   "id": "86e81c71",
   "metadata": {},
   "outputs": [
    {
     "name": "stderr",
     "output_type": "stream",
     "text": [
      "WARNING:absl:\n",
      "                Unrecognised <class 'lib.ehr.coding_scheme.DxICD9'> codes (38)\n",
      "                to be removed: ['041.49', '282.40', '282.46', '284.11', '284.12', '284.19', '294.20', '294.21', '348.82', '365.70', '425.11', '425.18', '444.09', '512.83', '512.84', '512.89', '516.31', '516.34', '516.36', '518.51', '518.52', '518.53', '573.5', '596.89', '719.70', '747.32', '793.11', '793.19', '795.51', '997.49', '998.01', '998.09', '999.32', '999.33', 'V12.55', 'V13.89', 'V54.82', 'V88.21']\n",
      "WARNING:absl:\n",
      "                Unrecognised <class 'lib.ehr.coding_scheme.PrICD9'> codes (7)\n",
      "                to be removed: ['02.21', '17.55', '17.56', '35.05', '36.01', '36.02', '36.05']\n"
     ]
    }
   ],
   "source": [
    "with U.modified_environ(DATA_DIR=DATA_DIR):\n",
    "    m3_dataset = load_dataset('M3')\n",
    "    m4_dataset = load_dataset('M4')\n",
    "   "
   ]
  },
  {
   "cell_type": "code",
   "execution_count": null,
   "id": "c8d78296",
   "metadata": {},
   "outputs": [],
   "source": [
    "from lib.ml import ICENODE, ICENODE_UNIFORM, GRU, RETAIN, WindowLogReg, NJODE\n",
    "%load_ext autoreload\n",
    "%autoreload 2\n",
    "\"\"\"\n",
    "predefined hyperparams re: each model.\n",
    "\"\"\"\n",
    "\n",
    "model_cls = {\n",
    "    'ICE-NODE': ICENODE,\n",
    "    'ICE-NODE_UNIFORM': ICENODE_UNIFORM,\n",
    "    'GRU': GRU,\n",
    "    'RETAIN': RETAIN,\n",
    "    'LogReg': WindowLogReg,\n",
    "    'NJODE': NJODE\n",
    "}\n",
    "\n",
    "model_config = {\n",
    "    'ICE-NODE': f'{SOURCE_DIR}/expt_configs/icenode.json' ,\n",
    "    'ICE-NODE_UNIFORM': f'{SOURCE_DIR}/expt_configs/icenode.json' ,\n",
    "    'GRU': f'{SOURCE_DIR}/expt_configs/gru.json' ,\n",
    "    'RETAIN': f'{SOURCE_DIR}/expt_configs/retain.json',\n",
    "    'LogReg': f'{SOURCE_DIR}/expt_configs/window_logreg.json',\n",
    "    'NJODE': f'{SOURCE_DIR}/expt_configs/njode.json'\n",
    "}\n",
    "\n",
    "model_config = {clf: U.load_config(file) for clf, file in model_config.items()}\n",
    "\n",
    "clfs = [\n",
    "    'ICE-NODE', \n",
    "    'ICE-NODE_UNIFORM', \n",
    "    'GRU', 'RETAIN', 'LogReg', 'NJODE']\n"
   ]
  },
  {
   "cell_type": "code",
   "execution_count": null,
   "id": "ecf14e71",
   "metadata": {},
   "outputs": [],
   "source": [
    "# icenode_variants = []\n",
    "\n",
    "# timescale = {'Ts7': 7.0, 'Ts30': 30.0}\n",
    "# embeddings_size = {'E200': 200, 'E250': 250, 'E300': 300}\n",
    "# tayreg = {'Ty0': 0, 'Ty3': 3}\n",
    "# for ts_key, ts_val in timescale.items():\n",
    "#     for e_key, e_val in embeddings_size.items():\n",
    "#         for tay_key, tay_val in tayreg.items():\n",
    "#             model_name = f'ICE-NODE-{\"\".join((ts_key, e_key, tay_key))}'\n",
    "#             icenode_variants.append(model_name)\n",
    "            \n",
    "#             config = U.load_config(f'{SOURCE_DIR}/expt_configs/icenode.json')\n",
    "#             config['emb']['dx']['embeddings_size'] = e_val\n",
    "#             config['model']['timescale'] = ts_val\n",
    "#             config['training']['tay_reg'] = tay_val\n",
    "#             model_config[model_name] = config\n",
    "#             model_cls[model_name] = ICENODE\n",
    "# clfs.extend(icenode_variants)"
   ]
  },
  {
   "cell_type": "code",
   "execution_count": null,
   "id": "9ccb6be2",
   "metadata": {},
   "outputs": [],
   "source": [
    "m3_train_output_dir = {clf: f'{output_dir}/m3_train/{clf}' for clf in clfs}\n",
    "m4_train_output_dir = {clf: f'{output_dir}/m4_train/{clf}' for clf in clfs}\n",
    "\n",
    "[Path(d).mkdir(parents=True, exist_ok=True) for d in m3_train_output_dir.values()]\n",
    "[Path(d).mkdir(parents=True, exist_ok=True) for d in m4_train_output_dir.values()]"
   ]
  },
  {
   "cell_type": "code",
   "execution_count": null,
   "id": "394a3a3f",
   "metadata": {},
   "outputs": [],
   "source": [
    "from lib.ml import ConfigDiskWriter, MinibatchLogger, EvaluationDiskWriter, ParamsDiskWriter"
   ]
  },
  {
   "cell_type": "markdown",
   "id": "11fa1032",
   "metadata": {},
   "source": [
    "The reporter objects are called inside training iterations\n",
    "Each has its own functionality:\n",
    "1. **ConfigDiskWriter**: writes the experiment config file as JSON in the same training directory\n",
    "2. **MinibatchLogger**: writes to the console the training progress details.\n",
    "3. **EvaluationDiskWriter**: writes the evaluation as csv tables in the same training directory for each step of the 100.\n",
    "4. **ParamsDiskWriter**: writes the model parameters snapshot at each step out of 100."
   ]
  },
  {
   "cell_type": "code",
   "execution_count": null,
   "id": "701e3b8f",
   "metadata": {},
   "outputs": [],
   "source": [
    "make_reporters = lambda output_dir, config: [ConfigDiskWriter(output_dir=output_dir, config=config),\n",
    "                                             MinibatchLogger(config),\n",
    "                                             EvaluationDiskWriter(output_dir=output_dir),\n",
    "                                             ParamsDiskWriter(output_dir=output_dir)]\n",
    "\n",
    "m3_reporters = {model: make_reporters(m3_train_output_dir[model], model_config[model]) for model in clfs}\n",
    "m4_reporters = {model: make_reporters(m4_train_output_dir[model], model_config[model]) for model in clfs}"
   ]
  },
  {
   "cell_type": "markdown",
   "id": "24d26707",
   "metadata": {},
   "source": [
    "<a name=\"sece\"></a>\n",
    "\n",
    "### D JAX Interface [^](#outline)"
   ]
  },
  {
   "cell_type": "code",
   "execution_count": null,
   "id": "c2384d73",
   "metadata": {},
   "outputs": [],
   "source": [
    "from lib.ehr.coding_scheme import DxCCS, DxFlatCCS, DxICD9, DxICD10\n",
    "from lib.ehr import Subject_JAX\n",
    "from lib.ehr import StaticInfoFlags\n",
    "\n",
    "%load_ext autoreload\n",
    "%autoreload 2"
   ]
  },
  {
   "cell_type": "markdown",
   "id": "1208aa8d",
   "metadata": {},
   "source": [
    "The dictionary `code_scheme` in the next cell specifies the code spaces of:\n",
    "- 'dx': diagnostic input (input features) codes. Possible arguments:  `DxCCS()`, `DxFlatCCS()`, `DxICD9()`, `DxICD10()`.\n",
    "- 'outcome': diagnostic outcome (target to be predicted) codes. Possible arguments: \n",
    "    - `OutcomeExtractor('<outcome_label>')`  for prediction of all `<outcome_label>` codes or \n",
    "    - `FirstOccurrenceOutcomeExtractor('<outcome_label>')` for prediction of `<outcome_label>` for the first occurrence per patient).\n",
    "    - `'<outcome_label>'` specifies a subset of dx-codes defined by JSON files in `lib/ehr/resources/outcome_filters`, where each of the labels below links to the following JSON file:\n",
    "        - `'dx_flatccs_mlhc_groups'`:  `'dx_flatccs_mlhc_groups.json'`,\n",
    "        - `'dx_flatccs_filter_v1'`: `'dx_flatccs_v1.json'`,\n",
    "        - `'dx_icd9_filter_v1'`: `'dx_icd9_v1.json'`,\n",
    "        - `'dx_icd9_filter_v2_groups'`: `'dx_icd9_v2_groups.json'`,\n",
    "        - `'dx_icd9_filter_v3_groups'`: `'dx_icd9_v3_groups.json'`\n",
    "    \n",
    "\n",
    "**Note**: OutcomeExtractor can be configured through a JSON file to focus only a subset of the diagnostic codes. For example,\n",
    "you can focus the prediction objective on a small subset of interest (e.g. to predict only pulmonary-heart \n",
    "diseases codes, etc.).\n",
    "OutcomeExtractor can also be replaced by FirstOccurrenceOutcomeExtractor to enforce the prediction \n",
    "objective to predict only the first occurrence of each code for one patient, and subsequent\n",
    "redundant occurences will be avoided and not incorporated in the loss function."
   ]
  },
  {
   "cell_type": "code",
   "execution_count": null,
   "id": "76078abb",
   "metadata": {},
   "outputs": [],
   "source": [
    "from lib.ehr import OutcomeExtractor, SurvivalOutcomeExtractor\n",
    "outcome_class = OutcomeExtractor"
   ]
  },
  {
   "cell_type": "code",
   "execution_count": null,
   "id": "4ccd6b27",
   "metadata": {},
   "outputs": [],
   "source": [
    "code_scheme = {\n",
    "    'dx': DxCCS(), # other options \n",
    "    'outcome': OutcomeExtractor('dx_flatccs_filter_v1')\n",
    "}"
   ]
  },
  {
   "cell_type": "markdown",
   "id": "3e44b5d7",
   "metadata": {},
   "source": [
    "### Adding Demographic Information in Training\n",
    "\n",
    "What do you need to include as control features? **Uncomment each line to consider the corresponding static information.**"
   ]
  },
  {
   "cell_type": "code",
   "execution_count": null,
   "id": "02e43e04",
   "metadata": {},
   "outputs": [],
   "source": [
    "\n",
    "static_info_flags = StaticInfoFlags(gender=True, age=True)\n",
    "\n",
    "m3_interface = Subject_JAX.from_dataset(m3_dataset, \n",
    "                                        code_scheme=code_scheme, \n",
    "                                        static_info_flags=static_info_flags,\n",
    "                                       data_max_size_gb=1)\n",
    "m4_interface = Subject_JAX.from_dataset(m4_dataset, \n",
    "                                        code_scheme=code_scheme, \n",
    "                                        static_info_flags=static_info_flags,\n",
    "                                       data_max_size_gb=1)\n",
    "\n",
    "m3_splits = m3_interface.random_splits(split1=0.7, split2=0.85, random_seed=42)\n",
    "m4_splits = m4_interface.random_splits(split1=0.7, split2=0.85, random_seed=42)"
   ]
  },
  {
   "cell_type": "code",
   "execution_count": null,
   "id": "f28b7c6b",
   "metadata": {},
   "outputs": [],
   "source": [
    "import jax.random as jrandom\n",
    "import lib.ml as ml\n",
    "%load_ext autoreload\n",
    "%autoreload 2\n",
    "key = jrandom.PRNGKey(0)"
   ]
  },
  {
   "cell_type": "markdown",
   "id": "ad3156b8",
   "metadata": {},
   "source": [
    "In the next cell we load a dictionary for each model specifiying the experiment configuration per model.\n",
    "The classname of the trainer used is also specified in the experiment configs.\n",
    "For example, this is the configuration file of ICE-NODE experiment.\n",
    "\n",
    "```json\n",
    "{\n",
    "    \"emb\": {\n",
    "        \"dx\": {\n",
    "           \"decoder_n_layers\": 2,\n",
    "           \"classname\":  \"MatrixEmbeddings\",      \n",
    "           \"embeddings_size\": 300\n",
    "        }\n",
    "    },\n",
    "    \"model\": {\n",
    "        \"ode_dyn_label\": \"mlp3\",\n",
    "        \"ode_init_var\": 1e-7,\n",
    "        \"state_size\": 30,\n",
    "        \"timescale\": 30\n",
    "    },\n",
    "    \"training\": {\n",
    "        \"batch_size\": 256,\n",
    "        \"decay_rate\": [0.25, 0.33],\n",
    "        \"lr\": [7e-5,  1e-3],\n",
    "        \"epochs\": 60,\n",
    "        \"reg_hyperparams\": {\n",
    "            \"L_dyn\": 1000.0,\n",
    "            \"L_l1\": 0,\n",
    "            \"L_l2\": 0\n",
    "        },\n",
    "        \"opt\": \"adam\",\n",
    "        \"classname\": \"ODETrainer2LR\" <---- \"classname, so this class should be available through ml package.\"\n",
    "    }\n",
    "}\n",
    "```\n",
    "\n",
    "Since we have a string of the classname, one way to get `ml.ODETrainer2LR` is `getattr(ml, 'ODETrainer2LR')`"
   ]
  },
  {
   "cell_type": "code",
   "execution_count": null,
   "id": "542d1b22",
   "metadata": {},
   "outputs": [],
   "source": [
    "m3_models = {clf: model_cls[clf].from_config(model_config[clf],\n",
    "                                              m3_interface,\n",
    "                                              m3_splits[0],\n",
    "                                              key) for clf in clfs}\n",
    "m4_models = {clf: model_cls[clf].from_config(model_config[clf],\n",
    "                                              m4_interface,\n",
    "                                              m4_splits[0],\n",
    "                                              key) for clf in clfs}\n",
    "\n",
    "\n",
    "\n",
    "trainers_cls = {clf: getattr(ml, model_config[clf][\"training\"][\"classname\"]) for clf in clfs}\n",
    "trainers = {clf: trainers_cls[clf](**model_config[clf][\"training\"]) for clf in clfs}"
   ]
  },
  {
   "cell_type": "markdown",
   "id": "13c1b824",
   "metadata": {},
   "source": [
    "## Metrics of Interest Specification"
   ]
  },
  {
   "cell_type": "code",
   "execution_count": null,
   "id": "e4df755f",
   "metadata": {},
   "outputs": [],
   "source": [
    "from lib.metric import (CodeAUC, UntilFirstCodeAUC, AdmissionAUC, CodeGroupTopAlarmAccuracy, LossMetric, MetricsCollection)"
   ]
  },
  {
   "cell_type": "markdown",
   "id": "23f7f67e",
   "metadata": {},
   "source": [
    "## Evaluation Metrics per Model\n",
    "\n",
    "1. *CodeAUC*: evaluates the prediction AUC per code (aggregating over all subject visits, for all subjects)\n",
    "2. *UntilFirstCodeAUC*: same as *CodeAUC*, but evaluates the prediction AUC until the first occurrence for each subject, once the code occured, all the subsequent visits are ignored for that code. If the code does not show in a particular subject, all the subject visits are ignored.\n",
    "3. *AdmissionAUC*: evaluates the prediction AUC per visit (i.e. probability of assigning higher risk values for present codes than the absent ones).\n",
    "4. *CodeGroupTopAlarmAccuracy*: partition codes into groups according the code frequency (from the most frequent to the least), and for each visit picks the top `k` risks, and the metric evaluates the accuracy of the top `k` riskiest codes by the model for being indeed present.\n",
    "5. *LossMetric*: records the loss values for different loss variants, which doesn't necessarily include the actual loss function that was used in the training.\n",
    "6. *MetricsCollection*: Groups multiple metrics to be considered at once."
   ]
  },
  {
   "cell_type": "markdown",
   "id": "de3968aa",
   "metadata": {},
   "source": [
    "**Note:** you will get different results when calling the method `outcome_by_percentiles` by changing the 'outcome' enty of the `ode_scheme` dictionary as following:\n",
    "- OutcomeExtractor: the counting will consider the code and its redundant occurrence for each subject, then aggregated over all subjects \n",
    "- FirstOccurrenceOutcomeExtractor: the counting will consider the first occurrence only for each subject, then aggregated over all subjects."
   ]
  },
  {
   "cell_type": "code",
   "execution_count": null,
   "id": "a37fd74c",
   "metadata": {},
   "outputs": [],
   "source": [
    "# pecentile_range=20 will partition the codes into five gruops, where each group contains \n",
    "# codes that overall constitutes 20% of the codes in all visits of specified 'subjects' list.\n",
    "m3_code_freq_partitions = m3_interface.outcome_by_percentiles(percentile_range=20, subjects=m3_splits[0])\n",
    "m4_code_freq_partitions = m4_interface.outcome_by_percentiles(percentile_range=20, subjects=m4_splits[0])\n",
    "\n",
    "# Evaluate for different k values\n",
    "top_k_list = [3, 5, 10, 15, 20]\n",
    "\n",
    "m3_metrics = [CodeAUC(m3_interface),\n",
    "              UntilFirstCodeAUC(m3_interface),\n",
    "              AdmissionAUC(m3_interface),\n",
    "              LossMetric(m3_interface),\n",
    "              CodeGroupTopAlarmAccuracy(m3_interface, top_k_list=top_k_list, code_groups=m3_code_freq_partitions)]\n",
    "m4_metrics = [CodeAUC(m4_interface),\n",
    "              UntilFirstCodeAUC(m4_interface),\n",
    "              AdmissionAUC(m4_interface),\n",
    "              LossMetric(m4_interface),\n",
    "              CodeGroupTopAlarmAccuracy(m4_interface, top_k_list=top_k_list, code_groups=m4_code_freq_partitions)]\n",
    "\n",
    "m3_metrics = MetricsCollection(m3_metrics)\n",
    "m4_metrics = MetricsCollection(m4_metrics)"
   ]
  },
  {
   "cell_type": "markdown",
   "id": "05f87624",
   "metadata": {},
   "source": [
    "<a name=\"sec1\"></a>\n",
    "\n",
    "### 1 Training ICE-NODE and The Baselines (#outline)"
   ]
  },
  {
   "cell_type": "code",
   "execution_count": null,
   "id": "ffcc11e6",
   "metadata": {},
   "outputs": [],
   "source": [
    "from lib.ml import MetricsHistory\n",
    "\n",
    "def m3_train(clf):\n",
    "    output_dir = m3_train_output_dir[clf]\n",
    "    config = model_config[clf]\n",
    "    model = m3_models[clf]\n",
    "    trainer = trainers[clf]\n",
    "    reporters = [EvaluationDiskWriter(output_dir), # <- responsible for writing evaluation tables on disk at the given path\n",
    "                 ParamsDiskWriter(output_dir), # <- responsible for writing model parameters snapshot after each iteration.\n",
    "                 ConfigDiskWriter(output_dir, config), # writes the config file as JSON\n",
    "                ]\n",
    "    \n",
    "    history = MetricsHistory(m3_metrics) # <- empty history\n",
    "    \n",
    "    return trainer(model, m3_interface, m3_splits, history=history, reporters=reporters, prng_seed=42)\n",
    "\n",
    "def m4_train(clf):\n",
    "    output_dir = m4_train_output_dir[clf]\n",
    "    config = model_config[clf]\n",
    "    model = m4_models[clf]\n",
    "    trainer = trainers[clf]\n",
    "    reporters = [EvaluationDiskWriter(output_dir), # <- responsible for writing evaluation tables on disk at the given path\n",
    "                 ParamsDiskWriter(output_dir), # <- responsible for writing model parameters snapshot after each iteration.\n",
    "                 ConfigDiskWriter(output_dir, config), # writes the config file as JSON\n",
    "                ]\n",
    "    \n",
    "    history = MetricsHistory(m4_metrics) # <- empty history\n",
    "    \n",
    "    return trainer(model, m4_interface, m4_splits, history=history, reporters=reporters, prng_seed=42)"
   ]
  },
  {
   "cell_type": "markdown",
   "id": "71c8cdd4",
   "metadata": {},
   "source": [
    "#### NJODE"
   ]
  },
  {
   "cell_type": "code",
   "execution_count": null,
   "id": "9ca021af",
   "metadata": {},
   "outputs": [],
   "source": [
    "m3_njode_results = m3_train('NJODE')"
   ]
  },
  {
   "cell_type": "markdown",
   "id": "958d7262",
   "metadata": {},
   "source": [
    "#### ICE-NODE"
   ]
  },
  {
   "cell_type": "code",
   "execution_count": 20,
   "id": "2abbed34",
   "metadata": {},
   "outputs": [],
   "source": [
    "# for icenode_variant in icenode_variants:\n",
    "#     print(icenode_variant)\n",
    "#     m3_train(icenode_variant)"
   ]
  },
  {
   "cell_type": "code",
   "execution_count": 21,
   "id": "80826221",
   "metadata": {},
   "outputs": [
    {
     "name": "stderr",
     "output_type": "stream",
     "text": [
      "  0%|                                                                                                                                | 0/1439 [00:00<?, ?it/s]/home/asem/GP/env/icenode-dev/lib/python3.8/zipfile.py:1517: UserWarning: Duplicate name: 'step0000.eqx'\n",
      "  return self._open_to_write(zinfo, force_zip64=force_zip64)\n",
      "  1%|█▏                                                                                                                   | 14/1439 [02:14<2:56:17,  7.42s/it]/home/asem/GP/env/icenode-dev/lib/python3.8/zipfile.py:1517: UserWarning: Duplicate name: 'step0001.eqx'\n",
      "  return self._open_to_write(zinfo, force_zip64=force_zip64)\n",
      "  2%|██▎                                                                                                                  | 29/1439 [04:17<2:34:50,  6.59s/it]/home/asem/GP/env/icenode-dev/lib/python3.8/zipfile.py:1517: UserWarning: Duplicate name: 'step0002.eqx'\n",
      "  return self._open_to_write(zinfo, force_zip64=force_zip64)\n",
      "  3%|███▍                                                                                                                 | 43/1439 [06:11<2:41:12,  6.93s/it]/home/asem/GP/env/icenode-dev/lib/python3.8/zipfile.py:1517: UserWarning: Duplicate name: 'step0003.eqx'\n",
      "  return self._open_to_write(zinfo, force_zip64=force_zip64)\n",
      "  4%|████▋                                                                                                                | 58/1439 [08:06<2:29:54,  6.51s/it]/home/asem/GP/env/icenode-dev/lib/python3.8/zipfile.py:1517: UserWarning: Duplicate name: 'step0004.eqx'\n",
      "  return self._open_to_write(zinfo, force_zip64=force_zip64)\n",
      "  5%|█████▊                                                                                                               | 72/1439 [09:53<2:28:14,  6.51s/it]/home/asem/GP/env/icenode-dev/lib/python3.8/zipfile.py:1517: UserWarning: Duplicate name: 'step0005.eqx'\n",
      "  return self._open_to_write(zinfo, force_zip64=force_zip64)\n",
      "  6%|███████                                                                                                              | 87/1439 [11:53<2:37:15,  6.98s/it]/home/asem/GP/env/icenode-dev/lib/python3.8/zipfile.py:1517: UserWarning: Duplicate name: 'step0006.eqx'\n",
      "  return self._open_to_write(zinfo, force_zip64=force_zip64)\n",
      "  7%|████████▏                                                                                                           | 101/1439 [13:43<2:30:57,  6.77s/it]/home/asem/GP/env/icenode-dev/lib/python3.8/zipfile.py:1517: UserWarning: Duplicate name: 'step0007.eqx'\n",
      "  return self._open_to_write(zinfo, force_zip64=force_zip64)\n",
      "  8%|█████████▎                                                                                                          | 116/1439 [15:40<2:25:33,  6.60s/it]/home/asem/GP/env/icenode-dev/lib/python3.8/zipfile.py:1517: UserWarning: Duplicate name: 'step0008.eqx'\n",
      "  return self._open_to_write(zinfo, force_zip64=force_zip64)\n",
      "  9%|██████████▍                                                                                                         | 130/1439 [17:30<2:21:31,  6.49s/it]/home/asem/GP/env/icenode-dev/lib/python3.8/zipfile.py:1517: UserWarning: Duplicate name: 'step0009.eqx'\n",
      "  return self._open_to_write(zinfo, force_zip64=force_zip64)\n",
      " 10%|███████████▋                                                                                                        | 145/1439 [19:32<2:32:10,  7.06s/it]/home/asem/GP/env/icenode-dev/lib/python3.8/zipfile.py:1517: UserWarning: Duplicate name: 'step0010.eqx'\n",
      "  return self._open_to_write(zinfo, force_zip64=force_zip64)\n",
      " 11%|████████████▊                                                                                                       | 159/1439 [21:20<2:27:37,  6.92s/it]/home/asem/GP/env/icenode-dev/lib/python3.8/zipfile.py:1517: UserWarning: Duplicate name: 'step0011.eqx'\n",
      "  return self._open_to_write(zinfo, force_zip64=force_zip64)\n",
      " 12%|██████████████                                                                                                      | 174/1439 [23:18<2:29:48,  7.11s/it]/home/asem/GP/env/icenode-dev/lib/python3.8/zipfile.py:1517: UserWarning: Duplicate name: 'step0012.eqx'\n",
      "  return self._open_to_write(zinfo, force_zip64=force_zip64)\n",
      " 13%|███████████████▏                                                                                                    | 188/1439 [25:09<2:21:30,  6.79s/it]/home/asem/GP/env/icenode-dev/lib/python3.8/zipfile.py:1517: UserWarning: Duplicate name: 'step0013.eqx'\n",
      "  return self._open_to_write(zinfo, force_zip64=force_zip64)\n",
      " 14%|████████████████▎                                                                                                   | 203/1439 [27:06<2:29:50,  7.27s/it]/home/asem/GP/env/icenode-dev/lib/python3.8/zipfile.py:1517: UserWarning: Duplicate name: 'step0014.eqx'\n",
      "  return self._open_to_write(zinfo, force_zip64=force_zip64)\n",
      " 15%|█████████████████▍                                                                                                  | 217/1439 [28:58<2:23:57,  7.07s/it]/home/asem/GP/env/icenode-dev/lib/python3.8/zipfile.py:1517: UserWarning: Duplicate name: 'step0015.eqx'\n",
      "  return self._open_to_write(zinfo, force_zip64=force_zip64)\n",
      " 16%|██████████████████▋                                                                                                 | 232/1439 [30:54<2:23:19,  7.12s/it]/home/asem/GP/env/icenode-dev/lib/python3.8/zipfile.py:1517: UserWarning: Duplicate name: 'step0016.eqx'\n",
      "  return self._open_to_write(zinfo, force_zip64=force_zip64)\n",
      " 17%|███████████████████▊                                                                                                | 246/1439 [32:43<2:11:14,  6.60s/it]/home/asem/GP/env/icenode-dev/lib/python3.8/zipfile.py:1517: UserWarning: Duplicate name: 'step0017.eqx'\n",
      "  return self._open_to_write(zinfo, force_zip64=force_zip64)\n",
      " 18%|█████████████████████                                                                                               | 261/1439 [34:41<2:27:22,  7.51s/it]/home/asem/GP/env/icenode-dev/lib/python3.8/zipfile.py:1517: UserWarning: Duplicate name: 'step0018.eqx'\n",
      "  return self._open_to_write(zinfo, force_zip64=force_zip64)\n",
      " 19%|██████████████████████▏                                                                                             | 275/1439 [36:32<2:19:34,  7.20s/it]/home/asem/GP/env/icenode-dev/lib/python3.8/zipfile.py:1517: UserWarning: Duplicate name: 'step0019.eqx'\n",
      "  return self._open_to_write(zinfo, force_zip64=force_zip64)\n",
      " 20%|███████████████████████▍                                                                                            | 290/1439 [38:30<2:10:41,  6.82s/it]/home/asem/GP/env/icenode-dev/lib/python3.8/zipfile.py:1517: UserWarning: Duplicate name: 'step0020.eqx'\n",
      "  return self._open_to_write(zinfo, force_zip64=force_zip64)\n",
      " 21%|████████████████████████▌                                                                                           | 305/1439 [40:27<2:05:40,  6.65s/it]/home/asem/GP/env/icenode-dev/lib/python3.8/zipfile.py:1517: UserWarning: Duplicate name: 'step0021.eqx'\n",
      "  return self._open_to_write(zinfo, force_zip64=force_zip64)\n",
      " 22%|█████████████████████████▋                                                                                          | 319/1439 [42:17<2:00:38,  6.46s/it]/home/asem/GP/env/icenode-dev/lib/python3.8/zipfile.py:1517: UserWarning: Duplicate name: 'step0022.eqx'\n",
      "  return self._open_to_write(zinfo, force_zip64=force_zip64)\n",
      " 23%|██████████████████████████▉                                                                                         | 334/1439 [44:13<2:09:27,  7.03s/it]/home/asem/GP/env/icenode-dev/lib/python3.8/zipfile.py:1517: UserWarning: Duplicate name: 'step0023.eqx'\n",
      "  return self._open_to_write(zinfo, force_zip64=force_zip64)\n",
      " 24%|████████████████████████████                                                                                        | 348/1439 [46:02<2:01:31,  6.68s/it]/home/asem/GP/env/icenode-dev/lib/python3.8/zipfile.py:1517: UserWarning: Duplicate name: 'step0024.eqx'\n",
      "  return self._open_to_write(zinfo, force_zip64=force_zip64)\n",
      " 25%|█████████████████████████████▎                                                                                      | 363/1439 [48:04<2:06:32,  7.06s/it]/home/asem/GP/env/icenode-dev/lib/python3.8/zipfile.py:1517: UserWarning: Duplicate name: 'step0025.eqx'\n",
      "  return self._open_to_write(zinfo, force_zip64=force_zip64)\n",
      " 26%|██████████████████████████████▍                                                                                     | 377/1439 [49:57<2:07:20,  7.19s/it]/home/asem/GP/env/icenode-dev/lib/python3.8/zipfile.py:1517: UserWarning: Duplicate name: 'step0026.eqx'\n",
      "  return self._open_to_write(zinfo, force_zip64=force_zip64)\n",
      " 27%|███████████████████████████████▌                                                                                    | 392/1439 [51:53<2:00:20,  6.90s/it]/home/asem/GP/env/icenode-dev/lib/python3.8/zipfile.py:1517: UserWarning: Duplicate name: 'step0027.eqx'\n",
      "  return self._open_to_write(zinfo, force_zip64=force_zip64)\n",
      " 28%|████████████████████████████████▋                                                                                   | 406/1439 [53:43<1:55:06,  6.69s/it]/home/asem/GP/env/icenode-dev/lib/python3.8/zipfile.py:1517: UserWarning: Duplicate name: 'step0028.eqx'\n",
      "  return self._open_to_write(zinfo, force_zip64=force_zip64)\n",
      " 29%|█████████████████████████████████▉                                                                                  | 421/1439 [55:37<1:51:11,  6.55s/it]/home/asem/GP/env/icenode-dev/lib/python3.8/zipfile.py:1517: UserWarning: Duplicate name: 'step0029.eqx'\n",
      "  return self._open_to_write(zinfo, force_zip64=force_zip64)\n",
      " 30%|███████████████████████████████████                                                                                 | 435/1439 [57:25<1:50:39,  6.61s/it]/home/asem/GP/env/icenode-dev/lib/python3.8/zipfile.py:1517: UserWarning: Duplicate name: 'step0030.eqx'\n",
      "  return self._open_to_write(zinfo, force_zip64=force_zip64)\n",
      " 31%|████████████████████████████████████▎                                                                               | 450/1439 [59:23<1:55:38,  7.02s/it]/home/asem/GP/env/icenode-dev/lib/python3.8/zipfile.py:1517: UserWarning: Duplicate name: 'step0031.eqx'\n",
      "  return self._open_to_write(zinfo, force_zip64=force_zip64)\n",
      " 32%|████████████████████████████████████▊                                                                             | 464/1439 [1:01:08<1:46:11,  6.54s/it]/home/asem/GP/env/icenode-dev/lib/python3.8/zipfile.py:1517: UserWarning: Duplicate name: 'step0032.eqx'\n",
      "  return self._open_to_write(zinfo, force_zip64=force_zip64)\n",
      " 33%|█████████████████████████████████████▉                                                                            | 479/1439 [1:03:01<1:41:56,  6.37s/it]/home/asem/GP/env/icenode-dev/lib/python3.8/zipfile.py:1517: UserWarning: Duplicate name: 'step0033.eqx'\n",
      "  return self._open_to_write(zinfo, force_zip64=force_zip64)\n",
      " 34%|███████████████████████████████████████                                                                           | 493/1439 [1:04:50<1:45:18,  6.68s/it]/home/asem/GP/env/icenode-dev/lib/python3.8/zipfile.py:1517: UserWarning: Duplicate name: 'step0034.eqx'\n",
      "  return self._open_to_write(zinfo, force_zip64=force_zip64)\n",
      " 35%|████████████████████████████████████████▏                                                                         | 508/1439 [1:06:51<1:53:05,  7.29s/it]/home/asem/GP/env/icenode-dev/lib/python3.8/zipfile.py:1517: UserWarning: Duplicate name: 'step0035.eqx'\n",
      "  return self._open_to_write(zinfo, force_zip64=force_zip64)\n",
      " 36%|█████████████████████████████████████████▎                                                                        | 522/1439 [1:08:43<1:46:11,  6.95s/it]/home/asem/GP/env/icenode-dev/lib/python3.8/zipfile.py:1517: UserWarning: Duplicate name: 'step0036.eqx'\n",
      "  return self._open_to_write(zinfo, force_zip64=force_zip64)\n",
      " 37%|██████████████████████████████████████████▌                                                                       | 537/1439 [1:10:40<1:42:26,  6.81s/it]/home/asem/GP/env/icenode-dev/lib/python3.8/zipfile.py:1517: UserWarning: Duplicate name: 'step0037.eqx'\n",
      "  return self._open_to_write(zinfo, force_zip64=force_zip64)\n",
      " 38%|███████████████████████████████████████████▋                                                                      | 551/1439 [1:12:29<1:37:39,  6.60s/it]/home/asem/GP/env/icenode-dev/lib/python3.8/zipfile.py:1517: UserWarning: Duplicate name: 'step0038.eqx'\n",
      "  return self._open_to_write(zinfo, force_zip64=force_zip64)\n",
      " 39%|████████████████████████████████████████████▊                                                                     | 566/1439 [1:14:24<1:43:46,  7.13s/it]/home/asem/GP/env/icenode-dev/lib/python3.8/zipfile.py:1517: UserWarning: Duplicate name: 'step0039.eqx'\n",
      "  return self._open_to_write(zinfo, force_zip64=force_zip64)\n",
      " 40%|██████████████████████████████████████████████                                                                    | 581/1439 [1:16:18<1:36:14,  6.73s/it]/home/asem/GP/env/icenode-dev/lib/python3.8/zipfile.py:1517: UserWarning: Duplicate name: 'step0040.eqx'\n",
      "  return self._open_to_write(zinfo, force_zip64=force_zip64)\n",
      " 41%|███████████████████████████████████████████████▏                                                                  | 595/1439 [1:18:02<1:28:38,  6.30s/it]/home/asem/GP/env/icenode-dev/lib/python3.8/zipfile.py:1517: UserWarning: Duplicate name: 'step0041.eqx'\n",
      "  return self._open_to_write(zinfo, force_zip64=force_zip64)\n",
      " 42%|████████████████████████████████████████████████▎                                                                 | 610/1439 [1:19:57<1:31:21,  6.61s/it]/home/asem/GP/env/icenode-dev/lib/python3.8/zipfile.py:1517: UserWarning: Duplicate name: 'step0042.eqx'\n",
      "  return self._open_to_write(zinfo, force_zip64=force_zip64)\n",
      " 43%|█████████████████████████████████████████████████▍                                                                | 624/1439 [1:21:47<1:26:38,  6.38s/it]/home/asem/GP/env/icenode-dev/lib/python3.8/zipfile.py:1517: UserWarning: Duplicate name: 'step0043.eqx'\n",
      "  return self._open_to_write(zinfo, force_zip64=force_zip64)\n",
      " 44%|██████████████████████████████████████████████████▌                                                               | 639/1439 [1:23:51<1:40:24,  7.53s/it]/home/asem/GP/env/icenode-dev/lib/python3.8/zipfile.py:1517: UserWarning: Duplicate name: 'step0044.eqx'\n",
      "  return self._open_to_write(zinfo, force_zip64=force_zip64)\n",
      " 45%|███████████████████████████████████████████████████▋                                                              | 653/1439 [1:25:42<1:30:43,  6.93s/it]/home/asem/GP/env/icenode-dev/lib/python3.8/zipfile.py:1517: UserWarning: Duplicate name: 'step0045.eqx'\n",
      "  return self._open_to_write(zinfo, force_zip64=force_zip64)\n",
      " 46%|████████████████████████████████████████████████████▉                                                             | 668/1439 [1:27:41<1:28:04,  6.85s/it]/home/asem/GP/env/icenode-dev/lib/python3.8/zipfile.py:1517: UserWarning: Duplicate name: 'step0046.eqx'\n",
      "  return self._open_to_write(zinfo, force_zip64=force_zip64)\n",
      " 47%|██████████████████████████████████████████████████████                                                            | 682/1439 [1:29:33<1:24:17,  6.68s/it]/home/asem/GP/env/icenode-dev/lib/python3.8/zipfile.py:1517: UserWarning: Duplicate name: 'step0047.eqx'\n",
      "  return self._open_to_write(zinfo, force_zip64=force_zip64)\n",
      " 48%|███████████████████████████████████████████████████████▏                                                          | 697/1439 [1:31:32<1:24:26,  6.83s/it]/home/asem/GP/env/icenode-dev/lib/python3.8/zipfile.py:1517: UserWarning: Duplicate name: 'step0048.eqx'\n",
      "  return self._open_to_write(zinfo, force_zip64=force_zip64)\n",
      " 49%|████████████████████████████████████████████████████████▎                                                         | 711/1439 [1:33:22<1:25:05,  7.01s/it]/home/asem/GP/env/icenode-dev/lib/python3.8/zipfile.py:1517: UserWarning: Duplicate name: 'step0049.eqx'\n",
      "  return self._open_to_write(zinfo, force_zip64=force_zip64)\n"
     ]
    },
    {
     "name": "stderr",
     "output_type": "stream",
     "text": [
      " 50%|█████████████████████████████████████████████████████████▌                                                        | 726/1439 [1:35:20<1:20:33,  6.78s/it]/home/asem/GP/env/icenode-dev/lib/python3.8/zipfile.py:1517: UserWarning: Duplicate name: 'step0050.eqx'\n",
      "  return self._open_to_write(zinfo, force_zip64=force_zip64)\n",
      " 51%|██████████████████████████████████████████████████████████▌                                                       | 740/1439 [1:37:11<1:18:05,  6.70s/it]/home/asem/GP/env/icenode-dev/lib/python3.8/zipfile.py:1517: UserWarning: Duplicate name: 'step0051.eqx'\n",
      "  return self._open_to_write(zinfo, force_zip64=force_zip64)\n",
      " 52%|███████████████████████████████████████████████████████████▊                                                      | 755/1439 [1:39:09<1:19:18,  6.96s/it]/home/asem/GP/env/icenode-dev/lib/python3.8/zipfile.py:1517: UserWarning: Duplicate name: 'step0052.eqx'\n",
      "  return self._open_to_write(zinfo, force_zip64=force_zip64)\n",
      " 53%|████████████████████████████████████████████████████████████▉                                                     | 769/1439 [1:40:56<1:16:05,  6.81s/it]/home/asem/GP/env/icenode-dev/lib/python3.8/zipfile.py:1517: UserWarning: Duplicate name: 'step0053.eqx'\n",
      "  return self._open_to_write(zinfo, force_zip64=force_zip64)\n",
      " 54%|██████████████████████████████████████████████████████████████                                                    | 784/1439 [1:42:53<1:16:20,  6.99s/it]/home/asem/GP/env/icenode-dev/lib/python3.8/zipfile.py:1517: UserWarning: Duplicate name: 'step0054.eqx'\n",
      "  return self._open_to_write(zinfo, force_zip64=force_zip64)\n",
      " 55%|███████████████████████████████████████████████████████████████▏                                                  | 798/1439 [1:44:45<1:13:34,  6.89s/it]/home/asem/GP/env/icenode-dev/lib/python3.8/zipfile.py:1517: UserWarning: Duplicate name: 'step0055.eqx'\n",
      "  return self._open_to_write(zinfo, force_zip64=force_zip64)\n",
      " 56%|████████████████████████████████████████████████████████████████▍                                                 | 813/1439 [1:46:44<1:08:57,  6.61s/it]/home/asem/GP/env/icenode-dev/lib/python3.8/zipfile.py:1517: UserWarning: Duplicate name: 'step0056.eqx'\n",
      "  return self._open_to_write(zinfo, force_zip64=force_zip64)\n",
      " 57%|█████████████████████████████████████████████████████████████████▌                                                | 827/1439 [1:48:38<1:13:37,  7.22s/it]/home/asem/GP/env/icenode-dev/lib/python3.8/zipfile.py:1517: UserWarning: Duplicate name: 'step0057.eqx'\n",
      "  return self._open_to_write(zinfo, force_zip64=force_zip64)\n",
      " 59%|██████████████████████████████████████████████████████████████████▋                                               | 842/1439 [1:50:43<1:14:11,  7.46s/it]/home/asem/GP/env/icenode-dev/lib/python3.8/zipfile.py:1517: UserWarning: Duplicate name: 'step0058.eqx'\n",
      "  return self._open_to_write(zinfo, force_zip64=force_zip64)\n",
      " 59%|███████████████████████████████████████████████████████████████████▊                                              | 856/1439 [1:52:35<1:07:51,  6.98s/it]/home/asem/GP/env/icenode-dev/lib/python3.8/zipfile.py:1517: UserWarning: Duplicate name: 'step0059.eqx'\n",
      "  return self._open_to_write(zinfo, force_zip64=force_zip64)\n",
      " 61%|█████████████████████████████████████████████████████████████████████                                             | 871/1439 [1:54:31<1:04:58,  6.86s/it]/home/asem/GP/env/icenode-dev/lib/python3.8/zipfile.py:1517: UserWarning: Duplicate name: 'step0060.eqx'\n",
      "  return self._open_to_write(zinfo, force_zip64=force_zip64)\n",
      " 62%|██████████████████████████████████████████████████████████████████████▏                                           | 886/1439 [1:56:32<1:06:41,  7.24s/it]/home/asem/GP/env/icenode-dev/lib/python3.8/zipfile.py:1517: UserWarning: Duplicate name: 'step0061.eqx'\n",
      "  return self._open_to_write(zinfo, force_zip64=force_zip64)\n",
      " 63%|███████████████████████████████████████████████████████████████████████▎                                          | 900/1439 [1:58:22<1:01:14,  6.82s/it]/home/asem/GP/env/icenode-dev/lib/python3.8/zipfile.py:1517: UserWarning: Duplicate name: 'step0062.eqx'\n",
      "  return self._open_to_write(zinfo, force_zip64=force_zip64)\n",
      " 64%|████████████████████████████████████████████████████████████████████████▍                                         | 915/1439 [2:00:24<1:01:47,  7.07s/it]/home/asem/GP/env/icenode-dev/lib/python3.8/zipfile.py:1517: UserWarning: Duplicate name: 'step0063.eqx'\n",
      "  return self._open_to_write(zinfo, force_zip64=force_zip64)\n",
      " 65%|██████████████████████████████████████████████████████████████████████████▉                                         | 929/1439 [2:02:17<58:22,  6.87s/it]/home/asem/GP/env/icenode-dev/lib/python3.8/zipfile.py:1517: UserWarning: Duplicate name: 'step0064.eqx'\n",
      "  return self._open_to_write(zinfo, force_zip64=force_zip64)\n",
      " 66%|████████████████████████████████████████████████████████████████████████████                                        | 944/1439 [2:04:19<56:54,  6.90s/it]/home/asem/GP/env/icenode-dev/lib/python3.8/zipfile.py:1517: UserWarning: Duplicate name: 'step0065.eqx'\n",
      "  return self._open_to_write(zinfo, force_zip64=force_zip64)\n",
      " 67%|█████████████████████████████████████████████████████████████████████████████▏                                      | 958/1439 [2:06:06<53:38,  6.69s/it]/home/asem/GP/env/icenode-dev/lib/python3.8/zipfile.py:1517: UserWarning: Duplicate name: 'step0066.eqx'\n",
      "  return self._open_to_write(zinfo, force_zip64=force_zip64)\n",
      " 68%|██████████████████████████████████████████████████████████████████████████████▍                                     | 973/1439 [2:08:06<56:03,  7.22s/it]/home/asem/GP/env/icenode-dev/lib/python3.8/zipfile.py:1517: UserWarning: Duplicate name: 'step0067.eqx'\n",
      "  return self._open_to_write(zinfo, force_zip64=force_zip64)\n",
      " 69%|███████████████████████████████████████████████████████████████████████████████▌                                    | 987/1439 [2:10:01<51:27,  6.83s/it]/home/asem/GP/env/icenode-dev/lib/python3.8/zipfile.py:1517: UserWarning: Duplicate name: 'step0068.eqx'\n",
      "  return self._open_to_write(zinfo, force_zip64=force_zip64)\n",
      " 70%|████████████████████████████████████████████████████████████████████████████████                                   | 1002/1439 [2:11:59<53:03,  7.28s/it]/home/asem/GP/env/icenode-dev/lib/python3.8/zipfile.py:1517: UserWarning: Duplicate name: 'step0069.eqx'\n",
      "  return self._open_to_write(zinfo, force_zip64=force_zip64)\n",
      " 71%|█████████████████████████████████████████████████████████████████████████████████▏                                 | 1016/1439 [2:13:51<50:14,  7.13s/it]/home/asem/GP/env/icenode-dev/lib/python3.8/zipfile.py:1517: UserWarning: Duplicate name: 'step0070.eqx'\n",
      "  return self._open_to_write(zinfo, force_zip64=force_zip64)\n",
      " 72%|██████████████████████████████████████████████████████████████████████████████████▍                                | 1031/1439 [2:15:47<44:22,  6.53s/it]/home/asem/GP/env/icenode-dev/lib/python3.8/zipfile.py:1517: UserWarning: Duplicate name: 'step0071.eqx'\n",
      "  return self._open_to_write(zinfo, force_zip64=force_zip64)\n",
      " 73%|███████████████████████████████████████████████████████████████████████████████████▌                               | 1045/1439 [2:17:35<44:18,  6.75s/it]/home/asem/GP/env/icenode-dev/lib/python3.8/zipfile.py:1517: UserWarning: Duplicate name: 'step0072.eqx'\n",
      "  return self._open_to_write(zinfo, force_zip64=force_zip64)\n",
      " 74%|████████████████████████████████████████████████████████████████████████████████████▋                              | 1060/1439 [2:19:31<41:23,  6.55s/it]/home/asem/GP/env/icenode-dev/lib/python3.8/zipfile.py:1517: UserWarning: Duplicate name: 'step0073.eqx'\n",
      "  return self._open_to_write(zinfo, force_zip64=force_zip64)\n",
      " 75%|█████████████████████████████████████████████████████████████████████████████████████▊                             | 1074/1439 [2:21:20<41:12,  6.77s/it]/home/asem/GP/env/icenode-dev/lib/python3.8/zipfile.py:1517: UserWarning: Duplicate name: 'step0074.eqx'\n",
      "  return self._open_to_write(zinfo, force_zip64=force_zip64)\n",
      " 76%|███████████████████████████████████████████████████████████████████████████████████████                            | 1089/1439 [2:23:18<39:44,  6.81s/it]/home/asem/GP/env/icenode-dev/lib/python3.8/zipfile.py:1517: UserWarning: Duplicate name: 'step0075.eqx'\n",
      "  return self._open_to_write(zinfo, force_zip64=force_zip64)\n",
      " 77%|████████████████████████████████████████████████████████████████████████████████████████▏                          | 1103/1439 [2:25:09<38:53,  6.94s/it]/home/asem/GP/env/icenode-dev/lib/python3.8/zipfile.py:1517: UserWarning: Duplicate name: 'step0076.eqx'\n",
      "  return self._open_to_write(zinfo, force_zip64=force_zip64)\n",
      " 78%|█████████████████████████████████████████████████████████████████████████████████████████▎                         | 1118/1439 [2:27:09<37:35,  7.03s/it]/home/asem/GP/env/icenode-dev/lib/python3.8/zipfile.py:1517: UserWarning: Duplicate name: 'step0077.eqx'\n",
      "  return self._open_to_write(zinfo, force_zip64=force_zip64)\n",
      " 79%|██████████████████████████████████████████████████████████████████████████████████████████▍                        | 1132/1439 [2:29:03<34:49,  6.80s/it]/home/asem/GP/env/icenode-dev/lib/python3.8/zipfile.py:1517: UserWarning: Duplicate name: 'step0078.eqx'\n",
      "  return self._open_to_write(zinfo, force_zip64=force_zip64)\n",
      " 80%|███████████████████████████████████████████████████████████████████████████████████████████▋                       | 1147/1439 [2:31:00<34:35,  7.11s/it]/home/asem/GP/env/icenode-dev/lib/python3.8/zipfile.py:1517: UserWarning: Duplicate name: 'step0079.eqx'\n",
      "  return self._open_to_write(zinfo, force_zip64=force_zip64)\n",
      " 81%|████████████████████████████████████████████████████████████████████████████████████████████▊                      | 1162/1439 [2:32:58<32:16,  6.99s/it]/home/asem/GP/env/icenode-dev/lib/python3.8/zipfile.py:1517: UserWarning: Duplicate name: 'step0080.eqx'\n",
      "  return self._open_to_write(zinfo, force_zip64=force_zip64)\n",
      " 82%|█████████████████████████████████████████████████████████████████████████████████████████████▉                     | 1176/1439 [2:34:48<29:53,  6.82s/it]/home/asem/GP/env/icenode-dev/lib/python3.8/zipfile.py:1517: UserWarning: Duplicate name: 'step0081.eqx'\n",
      "  return self._open_to_write(zinfo, force_zip64=force_zip64)\n",
      " 83%|███████████████████████████████████████████████████████████████████████████████████████████████▏                   | 1191/1439 [2:36:43<27:16,  6.60s/it]/home/asem/GP/env/icenode-dev/lib/python3.8/zipfile.py:1517: UserWarning: Duplicate name: 'step0082.eqx'\n",
      "  return self._open_to_write(zinfo, force_zip64=force_zip64)\n",
      " 84%|████████████████████████████████████████████████████████████████████████████████████████████████▎                  | 1205/1439 [2:38:35<28:24,  7.28s/it]/home/asem/GP/env/icenode-dev/lib/python3.8/zipfile.py:1517: UserWarning: Duplicate name: 'step0083.eqx'\n",
      "  return self._open_to_write(zinfo, force_zip64=force_zip64)\n",
      " 85%|█████████████████████████████████████████████████████████████████████████████████████████████████▍                 | 1220/1439 [2:40:34<26:20,  7.22s/it]/home/asem/GP/env/icenode-dev/lib/python3.8/zipfile.py:1517: UserWarning: Duplicate name: 'step0084.eqx'\n",
      "  return self._open_to_write(zinfo, force_zip64=force_zip64)\n",
      " 86%|██████████████████████████████████████████████████████████████████████████████████████████████████▌                | 1234/1439 [2:42:23<23:23,  6.85s/it]/home/asem/GP/env/icenode-dev/lib/python3.8/zipfile.py:1517: UserWarning: Duplicate name: 'step0085.eqx'\n",
      "  return self._open_to_write(zinfo, force_zip64=force_zip64)\n",
      " 87%|███████████████████████████████████████████████████████████████████████████████████████████████████▊               | 1249/1439 [2:44:23<22:01,  6.95s/it]/home/asem/GP/env/icenode-dev/lib/python3.8/zipfile.py:1517: UserWarning: Duplicate name: 'step0086.eqx'\n",
      "  return self._open_to_write(zinfo, force_zip64=force_zip64)\n",
      " 88%|████████████████████████████████████████████████████████████████████████████████████████████████████▉              | 1263/1439 [2:46:11<18:57,  6.46s/it]/home/asem/GP/env/icenode-dev/lib/python3.8/zipfile.py:1517: UserWarning: Duplicate name: 'step0087.eqx'\n",
      "  return self._open_to_write(zinfo, force_zip64=force_zip64)\n",
      " 89%|██████████████████████████████████████████████████████████████████████████████████████████████████████▏            | 1278/1439 [2:48:10<18:09,  6.77s/it]/home/asem/GP/env/icenode-dev/lib/python3.8/zipfile.py:1517: UserWarning: Duplicate name: 'step0088.eqx'\n",
      "  return self._open_to_write(zinfo, force_zip64=force_zip64)\n",
      " 90%|███████████████████████████████████████████████████████████████████████████████████████████████████████▎           | 1292/1439 [2:50:00<16:55,  6.91s/it]/home/asem/GP/env/icenode-dev/lib/python3.8/zipfile.py:1517: UserWarning: Duplicate name: 'step0089.eqx'\n",
      "  return self._open_to_write(zinfo, force_zip64=force_zip64)\n",
      " 91%|████████████████████████████████████████████████████████████████████████████████████████████████████████▍          | 1307/1439 [2:51:56<14:21,  6.53s/it]/home/asem/GP/env/icenode-dev/lib/python3.8/zipfile.py:1517: UserWarning: Duplicate name: 'step0090.eqx'\n",
      "  return self._open_to_write(zinfo, force_zip64=force_zip64)\n",
      " 92%|█████████████████████████████████████████████████████████████████████████████████████████████████████████▌         | 1321/1439 [2:53:45<13:10,  6.70s/it]/home/asem/GP/env/icenode-dev/lib/python3.8/zipfile.py:1517: UserWarning: Duplicate name: 'step0091.eqx'\n",
      "  return self._open_to_write(zinfo, force_zip64=force_zip64)\n",
      " 93%|██████████████████████████████████████████████████████████████████████████████████████████████████████████▊        | 1336/1439 [2:55:45<13:10,  7.67s/it]/home/asem/GP/env/icenode-dev/lib/python3.8/zipfile.py:1517: UserWarning: Duplicate name: 'step0092.eqx'\n",
      "  return self._open_to_write(zinfo, force_zip64=force_zip64)\n",
      " 94%|███████████████████████████████████████████████████████████████████████████████████████████████████████████▉       | 1350/1439 [2:57:33<09:44,  6.57s/it]/home/asem/GP/env/icenode-dev/lib/python3.8/zipfile.py:1517: UserWarning: Duplicate name: 'step0093.eqx'\n",
      "  return self._open_to_write(zinfo, force_zip64=force_zip64)\n",
      " 95%|█████████████████████████████████████████████████████████████████████████████████████████████████████████████      | 1365/1439 [2:59:31<08:31,  6.92s/it]/home/asem/GP/env/icenode-dev/lib/python3.8/zipfile.py:1517: UserWarning: Duplicate name: 'step0094.eqx'\n",
      "  return self._open_to_write(zinfo, force_zip64=force_zip64)\n",
      " 96%|██████████████████████████████████████████████████████████████████████████████████████████████████████████████▏    | 1379/1439 [3:01:23<07:05,  7.09s/it]/home/asem/GP/env/icenode-dev/lib/python3.8/zipfile.py:1517: UserWarning: Duplicate name: 'step0095.eqx'\n",
      "  return self._open_to_write(zinfo, force_zip64=force_zip64)\n",
      " 97%|███████████████████████████████████████████████████████████████████████████████████████████████████████████████▍   | 1394/1439 [3:03:20<05:07,  6.84s/it]/home/asem/GP/env/icenode-dev/lib/python3.8/zipfile.py:1517: UserWarning: Duplicate name: 'step0096.eqx'\n",
      "  return self._open_to_write(zinfo, force_zip64=force_zip64)\n",
      " 98%|████████████████████████████████████████████████████████████████████████████████████████████████████████████████▌  | 1408/1439 [3:05:13<03:43,  7.20s/it]/home/asem/GP/env/icenode-dev/lib/python3.8/zipfile.py:1517: UserWarning: Duplicate name: 'step0097.eqx'\n",
      "  return self._open_to_write(zinfo, force_zip64=force_zip64)\n",
      " 99%|█████████████████████████████████████████████████████████████████████████████████████████████████████████████████▋ | 1423/1439 [3:07:16<01:55,  7.24s/it]/home/asem/GP/env/icenode-dev/lib/python3.8/zipfile.py:1517: UserWarning: Duplicate name: 'step0098.eqx'\n",
      "  return self._open_to_write(zinfo, force_zip64=force_zip64)\n",
      "100%|██████████████████████████████████████████████████████████████████████████████████████████████████████████████████▉| 1438/1439 [3:09:11<00:06,  6.80s/it]/home/asem/GP/env/icenode-dev/lib/python3.8/zipfile.py:1517: UserWarning: Duplicate name: 'step0099.eqx'\n",
      "  return self._open_to_write(zinfo, force_zip64=force_zip64)\n"
     ]
    },
    {
     "name": "stderr",
     "output_type": "stream",
     "text": [
      "100%|███████████████████████████████████████████████████████████████████████████████████████████████████████████████████| 1439/1439 [3:09:45<00:00,  7.91s/it]\n"
     ]
    }
   ],
   "source": [
    "m3_icenode_results = m3_train('ICE-NODE')"
   ]
  },
  {
   "cell_type": "code",
   "execution_count": null,
   "id": "c91a09d4",
   "metadata": {},
   "outputs": [
    {
     "name": "stderr",
     "output_type": "stream",
     "text": [
      " 26%|████████████████████████████▋                                                                                   | 1914/7465 [8:56:04<18:52:26, 12.24s/it]"
     ]
    }
   ],
   "source": [
    "m4_icenode_results = m4_train('ICE-NODE')"
   ]
  },
  {
   "cell_type": "markdown",
   "id": "bf6a21bb",
   "metadata": {},
   "source": [
    "#### ICE-NODE_UNIFORM"
   ]
  },
  {
   "cell_type": "code",
   "execution_count": 22,
   "id": "9e9694c6",
   "metadata": {},
   "outputs": [
    {
     "name": "stderr",
     "output_type": "stream",
     "text": [
      "100%|███████████████████████████████████████████████████████████████████████████████████████████████████████████████████| 1439/1439 [2:29:28<00:00,  6.23s/it]\n"
     ]
    }
   ],
   "source": [
    "m3_icenode_uniform_results = m3_train('ICE-NODE_UNIFORM')"
   ]
  },
  {
   "cell_type": "code",
   "execution_count": null,
   "id": "f868ee28",
   "metadata": {},
   "outputs": [],
   "source": [
    "m4_icenode_uniform_results = m4_train('ICE-NODE_UNIFORM')"
   ]
  },
  {
   "cell_type": "markdown",
   "id": "083317e8",
   "metadata": {},
   "source": [
    "#### GRU"
   ]
  },
  {
   "cell_type": "code",
   "execution_count": 23,
   "id": "49726833",
   "metadata": {},
   "outputs": [
    {
     "name": "stderr",
     "output_type": "stream",
     "text": [
      "  0%|                                                                                                                               | 0/10832 [00:00<?, ?it/s]/home/asem/GP/env/icenode-dev/lib/python3.8/zipfile.py:1517: UserWarning: Duplicate name: 'step0000.eqx'\n",
      "  return self._open_to_write(zinfo, force_zip64=force_zip64)\n",
      "  1%|█▏                                                                                                                 | 109/10832 [02:15<2:21:33,  1.26it/s]/home/asem/GP/env/icenode-dev/lib/python3.8/zipfile.py:1517: UserWarning: Duplicate name: 'step0001.eqx'\n",
      "  return self._open_to_write(zinfo, force_zip64=force_zip64)\n",
      "  2%|██▎                                                                                                                | 218/10832 [04:02<2:28:09,  1.19it/s]/home/asem/GP/env/icenode-dev/lib/python3.8/zipfile.py:1517: UserWarning: Duplicate name: 'step0002.eqx'\n",
      "  return self._open_to_write(zinfo, force_zip64=force_zip64)\n",
      "  3%|███▍                                                                                                               | 328/10832 [05:46<2:45:08,  1.06it/s]/home/asem/GP/env/icenode-dev/lib/python3.8/zipfile.py:1517: UserWarning: Duplicate name: 'step0003.eqx'\n",
      "  return self._open_to_write(zinfo, force_zip64=force_zip64)\n",
      "  4%|████▋                                                                                                              | 437/10832 [07:28<2:31:56,  1.14it/s]/home/asem/GP/env/icenode-dev/lib/python3.8/zipfile.py:1517: UserWarning: Duplicate name: 'step0004.eqx'\n",
      "  return self._open_to_write(zinfo, force_zip64=force_zip64)\n",
      "  5%|█████▊                                                                                                             | 547/10832 [09:09<2:35:00,  1.11it/s]/home/asem/GP/env/icenode-dev/lib/python3.8/zipfile.py:1517: UserWarning: Duplicate name: 'step0005.eqx'\n",
      "  return self._open_to_write(zinfo, force_zip64=force_zip64)\n",
      "  6%|██████▉                                                                                                            | 656/10832 [10:45<2:17:47,  1.23it/s]/home/asem/GP/env/icenode-dev/lib/python3.8/zipfile.py:1517: UserWarning: Duplicate name: 'step0006.eqx'\n",
      "  return self._open_to_write(zinfo, force_zip64=force_zip64)\n",
      "  7%|████████                                                                                                           | 765/10832 [12:24<2:07:08,  1.32it/s]/home/asem/GP/env/icenode-dev/lib/python3.8/zipfile.py:1517: UserWarning: Duplicate name: 'step0007.eqx'\n",
      "  return self._open_to_write(zinfo, force_zip64=force_zip64)\n",
      "  8%|█████████▎                                                                                                         | 875/10832 [14:02<2:09:44,  1.28it/s]/home/asem/GP/env/icenode-dev/lib/python3.8/zipfile.py:1517: UserWarning: Duplicate name: 'step0008.eqx'\n",
      "  return self._open_to_write(zinfo, force_zip64=force_zip64)\n",
      "  9%|██████████▍                                                                                                        | 984/10832 [15:37<1:58:42,  1.38it/s]/home/asem/GP/env/icenode-dev/lib/python3.8/zipfile.py:1517: UserWarning: Duplicate name: 'step0009.eqx'\n",
      "  return self._open_to_write(zinfo, force_zip64=force_zip64)\n",
      " 10%|███████████▌                                                                                                      | 1094/10832 [17:16<2:18:09,  1.17it/s]/home/asem/GP/env/icenode-dev/lib/python3.8/zipfile.py:1517: UserWarning: Duplicate name: 'step0010.eqx'\n",
      "  return self._open_to_write(zinfo, force_zip64=force_zip64)\n",
      " 11%|████████████▋                                                                                                     | 1203/10832 [18:57<2:06:40,  1.27it/s]/home/asem/GP/env/icenode-dev/lib/python3.8/zipfile.py:1517: UserWarning: Duplicate name: 'step0011.eqx'\n",
      "  return self._open_to_write(zinfo, force_zip64=force_zip64)\n",
      " 12%|█████████████▊                                                                                                    | 1312/10832 [20:41<2:04:42,  1.27it/s]/home/asem/GP/env/icenode-dev/lib/python3.8/zipfile.py:1517: UserWarning: Duplicate name: 'step0012.eqx'\n",
      "  return self._open_to_write(zinfo, force_zip64=force_zip64)\n",
      " 13%|██████████████▉                                                                                                   | 1422/10832 [22:21<2:06:12,  1.24it/s]/home/asem/GP/env/icenode-dev/lib/python3.8/zipfile.py:1517: UserWarning: Duplicate name: 'step0013.eqx'\n",
      "  return self._open_to_write(zinfo, force_zip64=force_zip64)\n",
      " 14%|████████████████                                                                                                  | 1531/10832 [24:01<1:59:30,  1.30it/s]/home/asem/GP/env/icenode-dev/lib/python3.8/zipfile.py:1517: UserWarning: Duplicate name: 'step0014.eqx'\n",
      "  return self._open_to_write(zinfo, force_zip64=force_zip64)\n",
      " 15%|█████████████████▎                                                                                                | 1641/10832 [25:41<2:03:27,  1.24it/s]/home/asem/GP/env/icenode-dev/lib/python3.8/zipfile.py:1517: UserWarning: Duplicate name: 'step0015.eqx'\n",
      "  return self._open_to_write(zinfo, force_zip64=force_zip64)\n",
      " 16%|██████████████████▍                                                                                               | 1750/10832 [27:19<2:50:15,  1.12s/it]/home/asem/GP/env/icenode-dev/lib/python3.8/zipfile.py:1517: UserWarning: Duplicate name: 'step0016.eqx'\n",
      "  return self._open_to_write(zinfo, force_zip64=force_zip64)\n",
      " 17%|███████████████████▌                                                                                              | 1859/10832 [28:57<2:03:29,  1.21it/s]/home/asem/GP/env/icenode-dev/lib/python3.8/zipfile.py:1517: UserWarning: Duplicate name: 'step0017.eqx'\n",
      "  return self._open_to_write(zinfo, force_zip64=force_zip64)\n",
      " 18%|████████████████████▋                                                                                             | 1969/10832 [30:39<1:47:36,  1.37it/s]/home/asem/GP/env/icenode-dev/lib/python3.8/zipfile.py:1517: UserWarning: Duplicate name: 'step0018.eqx'\n",
      "  return self._open_to_write(zinfo, force_zip64=force_zip64)\n",
      " 19%|█████████████████████▊                                                                                            | 2078/10832 [32:17<2:17:32,  1.06it/s]/home/asem/GP/env/icenode-dev/lib/python3.8/zipfile.py:1517: UserWarning: Duplicate name: 'step0019.eqx'\n",
      "  return self._open_to_write(zinfo, force_zip64=force_zip64)\n",
      " 20%|███████████████████████                                                                                           | 2188/10832 [33:56<1:57:43,  1.22it/s]/home/asem/GP/env/icenode-dev/lib/python3.8/zipfile.py:1517: UserWarning: Duplicate name: 'step0020.eqx'\n",
      "  return self._open_to_write(zinfo, force_zip64=force_zip64)\n",
      " 21%|████████████████████████▏                                                                                         | 2297/10832 [35:35<1:52:13,  1.27it/s]/home/asem/GP/env/icenode-dev/lib/python3.8/zipfile.py:1517: UserWarning: Duplicate name: 'step0021.eqx'\n",
      "  return self._open_to_write(zinfo, force_zip64=force_zip64)\n",
      " 22%|█████████████████████████▎                                                                                        | 2406/10832 [37:16<2:10:53,  1.07it/s]/home/asem/GP/env/icenode-dev/lib/python3.8/zipfile.py:1517: UserWarning: Duplicate name: 'step0022.eqx'\n",
      "  return self._open_to_write(zinfo, force_zip64=force_zip64)\n",
      " 23%|██████████████████████████▍                                                                                       | 2516/10832 [38:59<3:30:36,  1.52s/it]/home/asem/GP/env/icenode-dev/lib/python3.8/zipfile.py:1517: UserWarning: Duplicate name: 'step0023.eqx'\n",
      "  return self._open_to_write(zinfo, force_zip64=force_zip64)\n",
      " 24%|███████████████████████████▋                                                                                      | 2625/10832 [40:36<2:03:52,  1.10it/s]/home/asem/GP/env/icenode-dev/lib/python3.8/zipfile.py:1517: UserWarning: Duplicate name: 'step0024.eqx'\n",
      "  return self._open_to_write(zinfo, force_zip64=force_zip64)\n",
      " 25%|████████████████████████████▊                                                                                     | 2735/10832 [42:18<1:49:14,  1.24it/s]/home/asem/GP/env/icenode-dev/lib/python3.8/zipfile.py:1517: UserWarning: Duplicate name: 'step0025.eqx'\n",
      "  return self._open_to_write(zinfo, force_zip64=force_zip64)\n",
      " 26%|█████████████████████████████▉                                                                                    | 2844/10832 [43:58<1:40:53,  1.32it/s]/home/asem/GP/env/icenode-dev/lib/python3.8/zipfile.py:1517: UserWarning: Duplicate name: 'step0026.eqx'\n",
      "  return self._open_to_write(zinfo, force_zip64=force_zip64)\n",
      " 27%|███████████████████████████████                                                                                   | 2953/10832 [45:36<1:48:59,  1.20it/s]/home/asem/GP/env/icenode-dev/lib/python3.8/zipfile.py:1517: UserWarning: Duplicate name: 'step0027.eqx'\n",
      "  return self._open_to_write(zinfo, force_zip64=force_zip64)\n",
      " 28%|████████████████████████████████▏                                                                                 | 3063/10832 [47:17<1:41:10,  1.28it/s]/home/asem/GP/env/icenode-dev/lib/python3.8/zipfile.py:1517: UserWarning: Duplicate name: 'step0028.eqx'\n",
      "  return self._open_to_write(zinfo, force_zip64=force_zip64)\n",
      " 29%|█████████████████████████████████▍                                                                                | 3172/10832 [48:55<1:42:06,  1.25it/s]/home/asem/GP/env/icenode-dev/lib/python3.8/zipfile.py:1517: UserWarning: Duplicate name: 'step0029.eqx'\n",
      "  return self._open_to_write(zinfo, force_zip64=force_zip64)\n",
      " 30%|██████████████████████████████████▌                                                                               | 3282/10832 [50:35<1:36:51,  1.30it/s]/home/asem/GP/env/icenode-dev/lib/python3.8/zipfile.py:1517: UserWarning: Duplicate name: 'step0030.eqx'\n",
      "  return self._open_to_write(zinfo, force_zip64=force_zip64)\n",
      " 31%|███████████████████████████████████▋                                                                              | 3391/10832 [52:14<1:31:57,  1.35it/s]/home/asem/GP/env/icenode-dev/lib/python3.8/zipfile.py:1517: UserWarning: Duplicate name: 'step0031.eqx'\n",
      "  return self._open_to_write(zinfo, force_zip64=force_zip64)\n",
      " 32%|████████████████████████████████████▊                                                                             | 3500/10832 [53:53<1:35:43,  1.28it/s]/home/asem/GP/env/icenode-dev/lib/python3.8/zipfile.py:1517: UserWarning: Duplicate name: 'step0032.eqx'\n",
      "  return self._open_to_write(zinfo, force_zip64=force_zip64)\n",
      " 33%|█████████████████████████████████████▉                                                                            | 3610/10832 [55:34<1:55:43,  1.04it/s]/home/asem/GP/env/icenode-dev/lib/python3.8/zipfile.py:1517: UserWarning: Duplicate name: 'step0033.eqx'\n",
      "  return self._open_to_write(zinfo, force_zip64=force_zip64)\n",
      " 34%|███████████████████████████████████████▏                                                                          | 3719/10832 [57:12<1:43:38,  1.14it/s]/home/asem/GP/env/icenode-dev/lib/python3.8/zipfile.py:1517: UserWarning: Duplicate name: 'step0034.eqx'\n",
      "  return self._open_to_write(zinfo, force_zip64=force_zip64)\n",
      " 35%|████████████████████████████████████████▎                                                                         | 3829/10832 [58:52<1:41:34,  1.15it/s]/home/asem/GP/env/icenode-dev/lib/python3.8/zipfile.py:1517: UserWarning: Duplicate name: 'step0035.eqx'\n",
      "  return self._open_to_write(zinfo, force_zip64=force_zip64)\n",
      " 36%|████████████████████████████████████████▋                                                                       | 3938/10832 [1:00:32<1:38:14,  1.17it/s]/home/asem/GP/env/icenode-dev/lib/python3.8/zipfile.py:1517: UserWarning: Duplicate name: 'step0036.eqx'\n",
      "  return self._open_to_write(zinfo, force_zip64=force_zip64)\n",
      " 37%|█████████████████████████████████████████▊                                                                      | 4047/10832 [1:02:09<1:32:45,  1.22it/s]/home/asem/GP/env/icenode-dev/lib/python3.8/zipfile.py:1517: UserWarning: Duplicate name: 'step0037.eqx'\n",
      "  return self._open_to_write(zinfo, force_zip64=force_zip64)\n",
      " 38%|██████████████████████████████████████████▉                                                                     | 4157/10832 [1:03:50<1:26:06,  1.29it/s]/home/asem/GP/env/icenode-dev/lib/python3.8/zipfile.py:1517: UserWarning: Duplicate name: 'step0038.eqx'\n",
      "  return self._open_to_write(zinfo, force_zip64=force_zip64)\n",
      " 39%|████████████████████████████████████████████                                                                    | 4266/10832 [1:05:29<1:22:33,  1.33it/s]/home/asem/GP/env/icenode-dev/lib/python3.8/zipfile.py:1517: UserWarning: Duplicate name: 'step0039.eqx'\n",
      "  return self._open_to_write(zinfo, force_zip64=force_zip64)\n",
      " 40%|█████████████████████████████████████████████▏                                                                  | 4376/10832 [1:07:10<2:12:24,  1.23s/it]/home/asem/GP/env/icenode-dev/lib/python3.8/zipfile.py:1517: UserWarning: Duplicate name: 'step0040.eqx'\n",
      "  return self._open_to_write(zinfo, force_zip64=force_zip64)\n",
      " 41%|██████████████████████████████████████████████▎                                                                 | 4485/10832 [1:08:50<1:34:41,  1.12it/s]/home/asem/GP/env/icenode-dev/lib/python3.8/zipfile.py:1517: UserWarning: Duplicate name: 'step0041.eqx'\n",
      "  return self._open_to_write(zinfo, force_zip64=force_zip64)\n",
      " 42%|███████████████████████████████████████████████▌                                                                | 4594/10832 [1:10:32<1:28:25,  1.18it/s]/home/asem/GP/env/icenode-dev/lib/python3.8/zipfile.py:1517: UserWarning: Duplicate name: 'step0042.eqx'\n",
      "  return self._open_to_write(zinfo, force_zip64=force_zip64)\n",
      " 43%|████████████████████████████████████████████████▋                                                               | 4704/10832 [1:12:15<1:42:08,  1.00s/it]/home/asem/GP/env/icenode-dev/lib/python3.8/zipfile.py:1517: UserWarning: Duplicate name: 'step0043.eqx'\n",
      "  return self._open_to_write(zinfo, force_zip64=force_zip64)\n",
      " 44%|█████████████████████████████████████████████████▊                                                              | 4813/10832 [1:13:54<2:04:22,  1.24s/it]/home/asem/GP/env/icenode-dev/lib/python3.8/zipfile.py:1517: UserWarning: Duplicate name: 'step0044.eqx'\n",
      "  return self._open_to_write(zinfo, force_zip64=force_zip64)\n",
      " 45%|██████████████████████████████████████████████████▉                                                             | 4923/10832 [1:15:31<1:15:24,  1.31it/s]/home/asem/GP/env/icenode-dev/lib/python3.8/zipfile.py:1517: UserWarning: Duplicate name: 'step0045.eqx'\n",
      "  return self._open_to_write(zinfo, force_zip64=force_zip64)\n",
      " 46%|████████████████████████████████████████████████████                                                            | 5032/10832 [1:17:07<1:13:28,  1.32it/s]/home/asem/GP/env/icenode-dev/lib/python3.8/zipfile.py:1517: UserWarning: Duplicate name: 'step0046.eqx'\n",
      "  return self._open_to_write(zinfo, force_zip64=force_zip64)\n",
      " 47%|█████████████████████████████████████████████████████▏                                                          | 5141/10832 [1:18:49<1:27:40,  1.08it/s]/home/asem/GP/env/icenode-dev/lib/python3.8/zipfile.py:1517: UserWarning: Duplicate name: 'step0047.eqx'\n",
      "  return self._open_to_write(zinfo, force_zip64=force_zip64)\n",
      " 48%|██████████████████████████████████████████████████████▎                                                         | 5251/10832 [1:20:30<1:16:48,  1.21it/s]/home/asem/GP/env/icenode-dev/lib/python3.8/zipfile.py:1517: UserWarning: Duplicate name: 'step0048.eqx'\n",
      "  return self._open_to_write(zinfo, force_zip64=force_zip64)\n",
      " 49%|███████████████████████████████████████████████████████▍                                                        | 5360/10832 [1:22:09<1:23:57,  1.09it/s]/home/asem/GP/env/icenode-dev/lib/python3.8/zipfile.py:1517: UserWarning: Duplicate name: 'step0049.eqx'\n",
      "  return self._open_to_write(zinfo, force_zip64=force_zip64)\n"
     ]
    },
    {
     "name": "stderr",
     "output_type": "stream",
     "text": [
      " 50%|████████████████████████████████████████████████████████▌                                                       | 5470/10832 [1:23:53<1:22:30,  1.08it/s]/home/asem/GP/env/icenode-dev/lib/python3.8/zipfile.py:1517: UserWarning: Duplicate name: 'step0050.eqx'\n",
      "  return self._open_to_write(zinfo, force_zip64=force_zip64)\n",
      " 52%|█████████████████████████████████████████████████████████▋                                                      | 5579/10832 [1:25:34<1:08:39,  1.28it/s]/home/asem/GP/env/icenode-dev/lib/python3.8/zipfile.py:1517: UserWarning: Duplicate name: 'step0051.eqx'\n",
      "  return self._open_to_write(zinfo, force_zip64=force_zip64)\n",
      " 53%|██████████████████████████████████████████████████████████▊                                                     | 5689/10832 [1:27:14<1:14:50,  1.15it/s]/home/asem/GP/env/icenode-dev/lib/python3.8/zipfile.py:1517: UserWarning: Duplicate name: 'step0052.eqx'\n",
      "  return self._open_to_write(zinfo, force_zip64=force_zip64)\n",
      " 54%|███████████████████████████████████████████████████████████▉                                                    | 5798/10832 [1:28:57<1:15:31,  1.11it/s]/home/asem/GP/env/icenode-dev/lib/python3.8/zipfile.py:1517: UserWarning: Duplicate name: 'step0053.eqx'\n",
      "  return self._open_to_write(zinfo, force_zip64=force_zip64)\n",
      " 55%|█████████████████████████████████████████████████████████████                                                   | 5907/10832 [1:30:38<1:07:09,  1.22it/s]/home/asem/GP/env/icenode-dev/lib/python3.8/zipfile.py:1517: UserWarning: Duplicate name: 'step0054.eqx'\n",
      "  return self._open_to_write(zinfo, force_zip64=force_zip64)\n",
      " 56%|██████████████████████████████████████████████████████████████▏                                                 | 6017/10832 [1:32:17<1:02:45,  1.28it/s]/home/asem/GP/env/icenode-dev/lib/python3.8/zipfile.py:1517: UserWarning: Duplicate name: 'step0055.eqx'\n",
      "  return self._open_to_write(zinfo, force_zip64=force_zip64)\n",
      " 57%|███████████████████████████████████████████████████████████████▎                                                | 6126/10832 [1:33:54<1:00:37,  1.29it/s]/home/asem/GP/env/icenode-dev/lib/python3.8/zipfile.py:1517: UserWarning: Duplicate name: 'step0056.eqx'\n",
      "  return self._open_to_write(zinfo, force_zip64=force_zip64)\n",
      " 58%|█████████████████████████████████████████████████████████████████▋                                                | 6236/10832 [1:35:37<59:53,  1.28it/s]/home/asem/GP/env/icenode-dev/lib/python3.8/zipfile.py:1517: UserWarning: Duplicate name: 'step0057.eqx'\n",
      "  return self._open_to_write(zinfo, force_zip64=force_zip64)\n",
      " 59%|█████████████████████████████████████████████████████████████████▌                                              | 6345/10832 [1:37:15<1:00:29,  1.24it/s]/home/asem/GP/env/icenode-dev/lib/python3.8/zipfile.py:1517: UserWarning: Duplicate name: 'step0058.eqx'\n",
      "  return self._open_to_write(zinfo, force_zip64=force_zip64)\n",
      " 60%|███████████████████████████████████████████████████████████████████▉                                              | 6454/10832 [1:38:52<53:32,  1.36it/s]/home/asem/GP/env/icenode-dev/lib/python3.8/zipfile.py:1517: UserWarning: Duplicate name: 'step0059.eqx'\n",
      "  return self._open_to_write(zinfo, force_zip64=force_zip64)\n",
      " 61%|█████████████████████████████████████████████████████████████████████                                             | 6564/10832 [1:40:33<56:36,  1.26it/s]/home/asem/GP/env/icenode-dev/lib/python3.8/zipfile.py:1517: UserWarning: Duplicate name: 'step0060.eqx'\n",
      "  return self._open_to_write(zinfo, force_zip64=force_zip64)\n",
      " 62%|██████████████████████████████████████████████████████████████████████▏                                           | 6673/10832 [1:42:15<55:47,  1.24it/s]/home/asem/GP/env/icenode-dev/lib/python3.8/zipfile.py:1517: UserWarning: Duplicate name: 'step0061.eqx'\n",
      "  return self._open_to_write(zinfo, force_zip64=force_zip64)\n",
      " 63%|██████████████████████████████████████████████████████████████████████▏                                         | 6783/10832 [1:43:54<1:08:29,  1.02s/it]/home/asem/GP/env/icenode-dev/lib/python3.8/zipfile.py:1517: UserWarning: Duplicate name: 'step0062.eqx'\n",
      "  return self._open_to_write(zinfo, force_zip64=force_zip64)\n",
      " 64%|████████████████████████████████████████████████████████████████████████▌                                         | 6892/10832 [1:45:33<47:58,  1.37it/s]/home/asem/GP/env/icenode-dev/lib/python3.8/zipfile.py:1517: UserWarning: Duplicate name: 'step0063.eqx'\n",
      "  return self._open_to_write(zinfo, force_zip64=force_zip64)\n",
      " 65%|█████████████████████████████████████████████████████████████████████████▋                                        | 7001/10832 [1:47:14<49:01,  1.30it/s]/home/asem/GP/env/icenode-dev/lib/python3.8/zipfile.py:1517: UserWarning: Duplicate name: 'step0064.eqx'\n",
      "  return self._open_to_write(zinfo, force_zip64=force_zip64)\n",
      " 66%|██████████████████████████████████████████████████████████████████████████▊                                       | 7111/10832 [1:48:55<48:30,  1.28it/s]/home/asem/GP/env/icenode-dev/lib/python3.8/zipfile.py:1517: UserWarning: Duplicate name: 'step0065.eqx'\n",
      "  return self._open_to_write(zinfo, force_zip64=force_zip64)\n",
      " 67%|███████████████████████████████████████████████████████████████████████████▉                                      | 7220/10832 [1:50:33<47:42,  1.26it/s]/home/asem/GP/env/icenode-dev/lib/python3.8/zipfile.py:1517: UserWarning: Duplicate name: 'step0066.eqx'\n",
      "  return self._open_to_write(zinfo, force_zip64=force_zip64)\n",
      " 68%|█████████████████████████████████████████████████████████████████████████████▏                                    | 7330/10832 [1:52:15<46:28,  1.26it/s]/home/asem/GP/env/icenode-dev/lib/python3.8/zipfile.py:1517: UserWarning: Duplicate name: 'step0067.eqx'\n",
      "  return self._open_to_write(zinfo, force_zip64=force_zip64)\n",
      " 69%|██████████████████████████████████████████████████████████████████████████████▎                                   | 7439/10832 [1:53:57<42:49,  1.32it/s]/home/asem/GP/env/icenode-dev/lib/python3.8/zipfile.py:1517: UserWarning: Duplicate name: 'step0068.eqx'\n",
      "  return self._open_to_write(zinfo, force_zip64=force_zip64)\n",
      " 70%|███████████████████████████████████████████████████████████████████████████████▍                                  | 7548/10832 [1:55:39<42:21,  1.29it/s]/home/asem/GP/env/icenode-dev/lib/python3.8/zipfile.py:1517: UserWarning: Duplicate name: 'step0069.eqx'\n",
      "  return self._open_to_write(zinfo, force_zip64=force_zip64)\n",
      " 71%|████████████████████████████████████████████████████████████████████████████████▌                                 | 7658/10832 [1:57:16<41:25,  1.28it/s]/home/asem/GP/env/icenode-dev/lib/python3.8/zipfile.py:1517: UserWarning: Duplicate name: 'step0070.eqx'\n",
      "  return self._open_to_write(zinfo, force_zip64=force_zip64)\n",
      " 72%|█████████████████████████████████████████████████████████████████████████████████▋                                | 7767/10832 [1:58:55<44:16,  1.15it/s]/home/asem/GP/env/icenode-dev/lib/python3.8/zipfile.py:1517: UserWarning: Duplicate name: 'step0071.eqx'\n",
      "  return self._open_to_write(zinfo, force_zip64=force_zip64)\n",
      " 73%|██████████████████████████████████████████████████████████████████████████████████▉                               | 7877/10832 [2:00:34<36:56,  1.33it/s]/home/asem/GP/env/icenode-dev/lib/python3.8/zipfile.py:1517: UserWarning: Duplicate name: 'step0072.eqx'\n",
      "  return self._open_to_write(zinfo, force_zip64=force_zip64)\n",
      " 74%|████████████████████████████████████████████████████████████████████████████████████                              | 7986/10832 [2:02:14<51:16,  1.08s/it]/home/asem/GP/env/icenode-dev/lib/python3.8/zipfile.py:1517: UserWarning: Duplicate name: 'step0073.eqx'\n",
      "  return self._open_to_write(zinfo, force_zip64=force_zip64)\n",
      " 75%|█████████████████████████████████████████████████████████████████████████████████████▏                            | 8095/10832 [2:03:53<35:30,  1.28it/s]/home/asem/GP/env/icenode-dev/lib/python3.8/zipfile.py:1517: UserWarning: Duplicate name: 'step0074.eqx'\n",
      "  return self._open_to_write(zinfo, force_zip64=force_zip64)\n",
      " 76%|██████████████████████████████████████████████████████████████████████████████████████▎                           | 8205/10832 [2:05:35<35:55,  1.22it/s]/home/asem/GP/env/icenode-dev/lib/python3.8/zipfile.py:1517: UserWarning: Duplicate name: 'step0075.eqx'\n",
      "  return self._open_to_write(zinfo, force_zip64=force_zip64)\n",
      " 77%|███████████████████████████████████████████████████████████████████████████████████████▍                          | 8314/10832 [2:07:15<32:32,  1.29it/s]/home/asem/GP/env/icenode-dev/lib/python3.8/zipfile.py:1517: UserWarning: Duplicate name: 'step0076.eqx'\n",
      "  return self._open_to_write(zinfo, force_zip64=force_zip64)\n",
      " 78%|████████████████████████████████████████████████████████████████████████████████████████▋                         | 8424/10832 [2:08:53<30:00,  1.34it/s]/home/asem/GP/env/icenode-dev/lib/python3.8/zipfile.py:1517: UserWarning: Duplicate name: 'step0077.eqx'\n",
      "  return self._open_to_write(zinfo, force_zip64=force_zip64)\n",
      " 79%|█████████████████████████████████████████████████████████████████████████████████████████▊                        | 8533/10832 [2:10:32<29:59,  1.28it/s]/home/asem/GP/env/icenode-dev/lib/python3.8/zipfile.py:1517: UserWarning: Duplicate name: 'step0078.eqx'\n",
      "  return self._open_to_write(zinfo, force_zip64=force_zip64)\n",
      " 80%|██████████████████████████████████████████████████████████████████████████████████████████▉                       | 8642/10832 [2:12:13<31:39,  1.15it/s]/home/asem/GP/env/icenode-dev/lib/python3.8/zipfile.py:1517: UserWarning: Duplicate name: 'step0079.eqx'\n",
      "  return self._open_to_write(zinfo, force_zip64=force_zip64)\n",
      " 81%|████████████████████████████████████████████████████████████████████████████████████████████                      | 8752/10832 [2:13:52<38:13,  1.10s/it]/home/asem/GP/env/icenode-dev/lib/python3.8/zipfile.py:1517: UserWarning: Duplicate name: 'step0080.eqx'\n",
      "  return self._open_to_write(zinfo, force_zip64=force_zip64)\n",
      " 82%|█████████████████████████████████████████████████████████████████████████████████████████████▎                    | 8861/10832 [2:15:30<27:55,  1.18it/s]/home/asem/GP/env/icenode-dev/lib/python3.8/zipfile.py:1517: UserWarning: Duplicate name: 'step0081.eqx'\n",
      "  return self._open_to_write(zinfo, force_zip64=force_zip64)\n",
      " 83%|██████████████████████████████████████████████████████████████████████████████████████████████▍                   | 8971/10832 [2:17:08<24:27,  1.27it/s]/home/asem/GP/env/icenode-dev/lib/python3.8/zipfile.py:1517: UserWarning: Duplicate name: 'step0082.eqx'\n",
      "  return self._open_to_write(zinfo, force_zip64=force_zip64)\n",
      " 84%|███████████████████████████████████████████████████████████████████████████████████████████████▌                  | 9080/10832 [2:18:48<22:59,  1.27it/s]/home/asem/GP/env/icenode-dev/lib/python3.8/zipfile.py:1517: UserWarning: Duplicate name: 'step0083.eqx'\n",
      "  return self._open_to_write(zinfo, force_zip64=force_zip64)\n",
      " 85%|████████████████████████████████████████████████████████████████████████████████████████████████▋                 | 9189/10832 [2:20:25<21:08,  1.30it/s]/home/asem/GP/env/icenode-dev/lib/python3.8/zipfile.py:1517: UserWarning: Duplicate name: 'step0084.eqx'\n",
      "  return self._open_to_write(zinfo, force_zip64=force_zip64)\n",
      " 86%|█████████████████████████████████████████████████████████████████████████████████████████████████▊                | 9299/10832 [2:22:03<19:18,  1.32it/s]/home/asem/GP/env/icenode-dev/lib/python3.8/zipfile.py:1517: UserWarning: Duplicate name: 'step0085.eqx'\n",
      "  return self._open_to_write(zinfo, force_zip64=force_zip64)\n",
      " 87%|███████████████████████████████████████████████████████████████████████████████████████████████████               | 9408/10832 [2:23:40<17:57,  1.32it/s]/home/asem/GP/env/icenode-dev/lib/python3.8/zipfile.py:1517: UserWarning: Duplicate name: 'step0086.eqx'\n",
      "  return self._open_to_write(zinfo, force_zip64=force_zip64)\n",
      " 88%|████████████████████████████████████████████████████████████████████████████████████████████████████▏             | 9518/10832 [2:25:20<20:38,  1.06it/s]/home/asem/GP/env/icenode-dev/lib/python3.8/zipfile.py:1517: UserWarning: Duplicate name: 'step0087.eqx'\n",
      "  return self._open_to_write(zinfo, force_zip64=force_zip64)\n",
      " 89%|█████████████████████████████████████████████████████████████████████████████████████████████████████▎            | 9627/10832 [2:27:01<16:24,  1.22it/s]/home/asem/GP/env/icenode-dev/lib/python3.8/zipfile.py:1517: UserWarning: Duplicate name: 'step0088.eqx'\n",
      "  return self._open_to_write(zinfo, force_zip64=force_zip64)\n",
      " 90%|██████████████████████████████████████████████████████████████████████████████████████████████████████▍           | 9736/10832 [2:28:40<15:35,  1.17it/s]/home/asem/GP/env/icenode-dev/lib/python3.8/zipfile.py:1517: UserWarning: Duplicate name: 'step0089.eqx'\n",
      "  return self._open_to_write(zinfo, force_zip64=force_zip64)\n",
      " 91%|███████████████████████████████████████████████████████████████████████████████████████████████████████▌          | 9846/10832 [2:30:21<15:13,  1.08it/s]/home/asem/GP/env/icenode-dev/lib/python3.8/zipfile.py:1517: UserWarning: Duplicate name: 'step0090.eqx'\n",
      "  return self._open_to_write(zinfo, force_zip64=force_zip64)\n",
      " 92%|████████████████████████████████████████████████████████████████████████████████████████████████████████▊         | 9955/10832 [2:31:58<11:01,  1.33it/s]/home/asem/GP/env/icenode-dev/lib/python3.8/zipfile.py:1517: UserWarning: Duplicate name: 'step0091.eqx'\n",
      "  return self._open_to_write(zinfo, force_zip64=force_zip64)\n",
      " 93%|████████████████████████████████████████████████████████████████████████████████████████████████████████▉        | 10065/10832 [2:33:40<10:27,  1.22it/s]/home/asem/GP/env/icenode-dev/lib/python3.8/zipfile.py:1517: UserWarning: Duplicate name: 'step0092.eqx'\n",
      "  return self._open_to_write(zinfo, force_zip64=force_zip64)\n",
      " 94%|██████████████████████████████████████████████████████████████████████████████████████████████████████████▏      | 10174/10832 [2:35:23<11:05,  1.01s/it]/home/asem/GP/env/icenode-dev/lib/python3.8/zipfile.py:1517: UserWarning: Duplicate name: 'step0093.eqx'\n",
      "  return self._open_to_write(zinfo, force_zip64=force_zip64)\n",
      " 95%|███████████████████████████████████████████████████████████████████████████████████████████████████████████▎     | 10283/10832 [2:37:02<11:20,  1.24s/it]/home/asem/GP/env/icenode-dev/lib/python3.8/zipfile.py:1517: UserWarning: Duplicate name: 'step0094.eqx'\n",
      "  return self._open_to_write(zinfo, force_zip64=force_zip64)\n",
      " 96%|████████████████████████████████████████████████████████████████████████████████████████████████████████████▍    | 10393/10832 [2:38:39<05:40,  1.29it/s]/home/asem/GP/env/icenode-dev/lib/python3.8/zipfile.py:1517: UserWarning: Duplicate name: 'step0095.eqx'\n",
      "  return self._open_to_write(zinfo, force_zip64=force_zip64)\n",
      " 97%|█████████████████████████████████████████████████████████████████████████████████████████████████████████████▌   | 10502/10832 [2:40:18<04:06,  1.34it/s]/home/asem/GP/env/icenode-dev/lib/python3.8/zipfile.py:1517: UserWarning: Duplicate name: 'step0096.eqx'\n",
      "  return self._open_to_write(zinfo, force_zip64=force_zip64)\n",
      " 98%|██████████████████████████████████████████████████████████████████████████████████████████████████████████████▋  | 10612/10832 [2:42:01<03:02,  1.21it/s]/home/asem/GP/env/icenode-dev/lib/python3.8/zipfile.py:1517: UserWarning: Duplicate name: 'step0097.eqx'\n",
      "  return self._open_to_write(zinfo, force_zip64=force_zip64)\n",
      " 99%|███████████████████████████████████████████████████████████████████████████████████████████████████████████████▊ | 10721/10832 [2:43:41<01:44,  1.06it/s]/home/asem/GP/env/icenode-dev/lib/python3.8/zipfile.py:1517: UserWarning: Duplicate name: 'step0098.eqx'\n",
      "  return self._open_to_write(zinfo, force_zip64=force_zip64)\n",
      "100%|████████████████████████████████████████████████████████████████████████████████████████████████████████████████▉| 10831/10832 [2:45:22<00:00,  1.31it/s]/home/asem/GP/env/icenode-dev/lib/python3.8/zipfile.py:1517: UserWarning: Duplicate name: 'step0099.eqx'\n",
      "  return self._open_to_write(zinfo, force_zip64=force_zip64)\n"
     ]
    },
    {
     "name": "stderr",
     "output_type": "stream",
     "text": [
      "100%|█████████████████████████████████████████████████████████████████████████████████████████████████████████████████| 10832/10832 [2:45:40<00:00,  1.09it/s]\n"
     ]
    }
   ],
   "source": [
    "m3_gru_results = m3_train('GRU')"
   ]
  },
  {
   "cell_type": "code",
   "execution_count": null,
   "id": "72be64a0",
   "metadata": {},
   "outputs": [],
   "source": [
    "m4_gru_results = m4_train('GRU')"
   ]
  },
  {
   "cell_type": "markdown",
   "id": "78ad24c2",
   "metadata": {},
   "source": [
    "#### RETAIN"
   ]
  },
  {
   "cell_type": "code",
   "execution_count": 24,
   "id": "f2182d47",
   "metadata": {},
   "outputs": [
    {
     "name": "stderr",
     "output_type": "stream",
     "text": [
      "100%|██████████████████████████████████████████████████████████████████████████████████████████████████████████████████| 6576/6576 [12:09:54<00:00,  6.66s/it]\n"
     ]
    }
   ],
   "source": [
    "m3_retain_results = m3_train('RETAIN')"
   ]
  },
  {
   "cell_type": "code",
   "execution_count": null,
   "id": "72f0b60c",
   "metadata": {},
   "outputs": [],
   "source": [
    "m4_retain_results = m4_train('RETAIN')"
   ]
  },
  {
   "cell_type": "code",
   "execution_count": 22,
   "id": "cda3b7b5",
   "metadata": {},
   "outputs": [
    {
     "name": "stderr",
     "output_type": "stream",
     "text": [
      "  0%|                                                                                                                                | 0/1439 [00:00<?, ?it/s]/home/asem/GP/env/icenode-dev/lib/python3.8/zipfile.py:1517: UserWarning: Duplicate name: 'step0000.eqx'\n",
      "  return self._open_to_write(zinfo, force_zip64=force_zip64)\n",
      "  1%|█▏                                                                                                                   | 14/1439 [06:52<3:07:14,  7.88s/it]/home/asem/GP/env/icenode-dev/lib/python3.8/zipfile.py:1517: UserWarning: Duplicate name: 'step0001.eqx'\n",
      "  return self._open_to_write(zinfo, force_zip64=force_zip64)\n",
      "  2%|██▎                                                                                                                  | 29/1439 [13:33<2:46:27,  7.08s/it]/home/asem/GP/env/icenode-dev/lib/python3.8/zipfile.py:1517: UserWarning: Duplicate name: 'step0002.eqx'\n",
      "  return self._open_to_write(zinfo, force_zip64=force_zip64)\n",
      "  3%|███▍                                                                                                                 | 43/1439 [20:17<3:06:21,  8.01s/it]/home/asem/GP/env/icenode-dev/lib/python3.8/zipfile.py:1517: UserWarning: Duplicate name: 'step0003.eqx'\n",
      "  return self._open_to_write(zinfo, force_zip64=force_zip64)\n",
      "  4%|████▋                                                                                                                | 58/1439 [26:58<2:44:47,  7.16s/it]/home/asem/GP/env/icenode-dev/lib/python3.8/zipfile.py:1517: UserWarning: Duplicate name: 'step0004.eqx'\n",
      "  return self._open_to_write(zinfo, force_zip64=force_zip64)\n",
      "  5%|█████▊                                                                                                               | 72/1439 [33:22<2:29:29,  6.56s/it]/home/asem/GP/env/icenode-dev/lib/python3.8/zipfile.py:1517: UserWarning: Duplicate name: 'step0005.eqx'\n",
      "  return self._open_to_write(zinfo, force_zip64=force_zip64)\n",
      "  6%|███████                                                                                                              | 87/1439 [40:09<2:46:02,  7.37s/it]/home/asem/GP/env/icenode-dev/lib/python3.8/zipfile.py:1517: UserWarning: Duplicate name: 'step0006.eqx'\n",
      "  return self._open_to_write(zinfo, force_zip64=force_zip64)\n",
      "  7%|████████▏                                                                                                           | 101/1439 [46:48<2:47:42,  7.52s/it]/home/asem/GP/env/icenode-dev/lib/python3.8/zipfile.py:1517: UserWarning: Duplicate name: 'step0007.eqx'\n",
      "  return self._open_to_write(zinfo, force_zip64=force_zip64)\n",
      "  8%|█████████▎                                                                                                          | 116/1439 [53:45<3:00:38,  8.19s/it]/home/asem/GP/env/icenode-dev/lib/python3.8/zipfile.py:1517: UserWarning: Duplicate name: 'step0008.eqx'\n",
      "  return self._open_to_write(zinfo, force_zip64=force_zip64)\n",
      "  9%|██████████▎                                                                                                       | 130/1439 [1:00:29<2:41:49,  7.42s/it]/home/asem/GP/env/icenode-dev/lib/python3.8/zipfile.py:1517: UserWarning: Duplicate name: 'step0009.eqx'\n",
      "  return self._open_to_write(zinfo, force_zip64=force_zip64)\n",
      " 10%|███████████▍                                                                                                      | 145/1439 [1:07:14<2:43:14,  7.57s/it]/home/asem/GP/env/icenode-dev/lib/python3.8/zipfile.py:1517: UserWarning: Duplicate name: 'step0010.eqx'\n",
      "  return self._open_to_write(zinfo, force_zip64=force_zip64)\n",
      " 11%|████████████▌                                                                                                     | 159/1439 [1:13:38<2:32:48,  7.16s/it]/home/asem/GP/env/icenode-dev/lib/python3.8/zipfile.py:1517: UserWarning: Duplicate name: 'step0011.eqx'\n",
      "  return self._open_to_write(zinfo, force_zip64=force_zip64)\n",
      " 12%|█████████████▊                                                                                                    | 174/1439 [1:20:17<2:44:43,  7.81s/it]/home/asem/GP/env/icenode-dev/lib/python3.8/zipfile.py:1517: UserWarning: Duplicate name: 'step0012.eqx'\n",
      "  return self._open_to_write(zinfo, force_zip64=force_zip64)\n",
      " 13%|██████████████▉                                                                                                   | 188/1439 [1:26:51<2:36:24,  7.50s/it]/home/asem/GP/env/icenode-dev/lib/python3.8/zipfile.py:1517: UserWarning: Duplicate name: 'step0013.eqx'\n",
      "  return self._open_to_write(zinfo, force_zip64=force_zip64)\n",
      " 14%|████████████████                                                                                                  | 203/1439 [1:33:30<2:34:03,  7.48s/it]/home/asem/GP/env/icenode-dev/lib/python3.8/zipfile.py:1517: UserWarning: Duplicate name: 'step0014.eqx'\n",
      "  return self._open_to_write(zinfo, force_zip64=force_zip64)\n",
      " 15%|█████████████████▏                                                                                                | 217/1439 [1:40:14<2:57:39,  8.72s/it]/home/asem/GP/env/icenode-dev/lib/python3.8/zipfile.py:1517: UserWarning: Duplicate name: 'step0015.eqx'\n",
      "  return self._open_to_write(zinfo, force_zip64=force_zip64)\n",
      " 16%|██████████████████▍                                                                                               | 232/1439 [1:46:52<2:38:15,  7.87s/it]/home/asem/GP/env/icenode-dev/lib/python3.8/zipfile.py:1517: UserWarning: Duplicate name: 'step0016.eqx'\n",
      "  return self._open_to_write(zinfo, force_zip64=force_zip64)\n",
      " 17%|███████████████████▍                                                                                              | 246/1439 [1:53:27<2:28:44,  7.48s/it]/home/asem/GP/env/icenode-dev/lib/python3.8/zipfile.py:1517: UserWarning: Duplicate name: 'step0017.eqx'\n",
      "  return self._open_to_write(zinfo, force_zip64=force_zip64)\n",
      " 18%|████████████████████▋                                                                                             | 261/1439 [2:00:09<2:37:29,  8.02s/it]/home/asem/GP/env/icenode-dev/lib/python3.8/zipfile.py:1517: UserWarning: Duplicate name: 'step0018.eqx'\n",
      "  return self._open_to_write(zinfo, force_zip64=force_zip64)\n",
      " 19%|█████████████████████▊                                                                                            | 275/1439 [2:06:46<2:52:22,  8.89s/it]/home/asem/GP/env/icenode-dev/lib/python3.8/zipfile.py:1517: UserWarning: Duplicate name: 'step0019.eqx'\n",
      "  return self._open_to_write(zinfo, force_zip64=force_zip64)\n",
      " 20%|██████████████████████▉                                                                                           | 290/1439 [2:13:38<2:31:21,  7.90s/it]/home/asem/GP/env/icenode-dev/lib/python3.8/zipfile.py:1517: UserWarning: Duplicate name: 'step0020.eqx'\n",
      "  return self._open_to_write(zinfo, force_zip64=force_zip64)\n",
      " 21%|████████████████████████▏                                                                                         | 305/1439 [2:20:26<2:19:01,  7.36s/it]/home/asem/GP/env/icenode-dev/lib/python3.8/zipfile.py:1517: UserWarning: Duplicate name: 'step0021.eqx'\n",
      "  return self._open_to_write(zinfo, force_zip64=force_zip64)\n",
      " 22%|█████████████████████████▎                                                                                        | 319/1439 [2:27:01<2:12:20,  7.09s/it]/home/asem/GP/env/icenode-dev/lib/python3.8/zipfile.py:1517: UserWarning: Duplicate name: 'step0022.eqx'\n",
      "  return self._open_to_write(zinfo, force_zip64=force_zip64)\n",
      " 23%|██████████████████████████▍                                                                                       | 334/1439 [2:33:37<2:12:50,  7.21s/it]/home/asem/GP/env/icenode-dev/lib/python3.8/zipfile.py:1517: UserWarning: Duplicate name: 'step0023.eqx'\n",
      "  return self._open_to_write(zinfo, force_zip64=force_zip64)\n",
      " 24%|███████████████████████████▌                                                                                      | 348/1439 [2:40:14<2:12:42,  7.30s/it]/home/asem/GP/env/icenode-dev/lib/python3.8/zipfile.py:1517: UserWarning: Duplicate name: 'step0024.eqx'\n",
      "  return self._open_to_write(zinfo, force_zip64=force_zip64)\n",
      " 25%|████████████████████████████▊                                                                                     | 363/1439 [2:47:02<2:12:07,  7.37s/it]/home/asem/GP/env/icenode-dev/lib/python3.8/zipfile.py:1517: UserWarning: Duplicate name: 'step0025.eqx'\n",
      "  return self._open_to_write(zinfo, force_zip64=force_zip64)\n",
      " 26%|█████████████████████████████▊                                                                                    | 377/1439 [2:53:46<2:25:45,  8.23s/it]/home/asem/GP/env/icenode-dev/lib/python3.8/zipfile.py:1517: UserWarning: Duplicate name: 'step0026.eqx'\n",
      "  return self._open_to_write(zinfo, force_zip64=force_zip64)\n",
      "100%|██████████████████████████████████████████████████████████████████████████████████████████████████████████████████| 1439/1439 [11:09:19<00:00, 27.91s/it]\n"
     ]
    }
   ],
   "source": [
    "m3_logreg_results = m3_train('LogReg')"
   ]
  },
  {
   "cell_type": "code",
   "execution_count": null,
   "id": "efcce213",
   "metadata": {},
   "outputs": [],
   "source": [
    "m4_logreg_results = m4_train('LogReg')"
   ]
  },
  {
   "cell_type": "code",
   "execution_count": null,
   "id": "35f0659c",
   "metadata": {},
   "outputs": [],
   "source": []
  }
 ],
 "metadata": {
  "kernelspec": {
   "display_name": "Python 3 (ipykernel)",
   "language": "python",
   "name": "python3"
  },
  "language_info": {
   "codemirror_mode": {
    "name": "ipython",
    "version": 3
   },
   "file_extension": ".py",
   "mimetype": "text/x-python",
   "name": "python",
   "nbconvert_exporter": "python",
   "pygments_lexer": "ipython3",
   "version": "3.8.13"
  }
 },
 "nbformat": 4,
 "nbformat_minor": 5
}
