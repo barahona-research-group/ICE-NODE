{
 "cells": [
  {
   "cell_type": "markdown",
   "id": "f53f4d3c",
   "metadata": {},
   "source": [
    "# Table of Content\n",
    "\n",
    "<a name=\"outline\"></a>\n",
    "\n",
    "## Setup\n",
    "\n",
    "- [A](#seca) External Imports\n",
    "- [B](#secb) Internal Imports\n",
    "- [C](#secc) Configurations and Paths \n",
    "- [D](#secd) JAX Interface\n",
    "- [E](#sece) General Utility Functions\n",
    "\n",
    "\n",
    "## Training\n",
    "\n",
    "- [1](#sec1) Training ICE-NODE and The Baselines\n"
   ]
  },
  {
   "cell_type": "markdown",
   "id": "697a491c",
   "metadata": {},
   "source": [
    "<a name=\"seca\"></a>\n",
    "\n",
    "### A External Imports [^](#outline)"
   ]
  },
  {
   "cell_type": "code",
   "execution_count": 1,
   "id": "4cfc614e",
   "metadata": {},
   "outputs": [],
   "source": [
    "%load_ext autoreload\n",
    "%autoreload 2\n",
    "import sys\n",
    "import os\n",
    "import glob\n",
    "import random\n",
    "from collections import defaultdict\n",
    "from pathlib import Path\n",
    "\n",
    "from IPython.display import display\n",
    "\n",
    "import pandas as pd\n",
    "\n",
    "from tqdm import tqdm\n",
    "import jax\n",
    "jax.config.update('jax_platform_name', 'gpu')"
   ]
  },
  {
   "cell_type": "markdown",
   "id": "23f0d568",
   "metadata": {},
   "source": [
    "<a name=\"secb\"></a>\n",
    "\n",
    "### B Internal Imports [^](#outline)"
   ]
  },
  {
   "cell_type": "code",
   "execution_count": 2,
   "id": "894a3743",
   "metadata": {},
   "outputs": [],
   "source": [
    "\n",
    "\n",
    "sys.path.append(\"..\")\n",
    "\n",
    "from lib import utils as U\n",
    "from lib.ehr.dataset import load_dataset"
   ]
  },
  {
   "cell_type": "code",
   "execution_count": 3,
   "id": "8c176dbe",
   "metadata": {},
   "outputs": [],
   "source": [
    "# Assign the folder of the dataset to `DATA_FILE`.\n",
    "\n",
    "HOME = os.environ.get('HOME')\n",
    "DATA_DIR = f'{HOME}/GP/ehr-data'\n",
    "SOURCE_DIR = os.path.abspath(\"..\")"
   ]
  },
  {
   "cell_type": "markdown",
   "id": "d9340794",
   "metadata": {},
   "source": [
    "<a name=\"secd\"></a>\n",
    "\n",
    "### C Configurations and Paths [^](#outline)"
   ]
  },
  {
   "cell_type": "code",
   "execution_count": null,
   "id": "73ca7906",
   "metadata": {},
   "outputs": [],
   "source": []
  },
  {
   "cell_type": "code",
   "execution_count": 4,
   "id": "f1898f46",
   "metadata": {},
   "outputs": [],
   "source": [
    "\n",
    "output_dir = 'mimic_artefacts_surv'\n",
    "Path(output_dir).mkdir(parents=True, exist_ok=True)"
   ]
  },
  {
   "cell_type": "code",
   "execution_count": 5,
   "id": "86e81c71",
   "metadata": {},
   "outputs": [
    {
     "name": "stderr",
     "output_type": "stream",
     "text": [
      "WARNING:absl:\n",
      "                Unrecognised <class 'lib.ehr.coding_scheme.DxICD9'> codes (38)\n",
      "                to be removed: ['041.49', '282.40', '282.46', '284.11', '284.12', '284.19', '294.20', '294.21', '348.82', '365.70', '425.11', '425.18', '444.09', '512.83', '512.84', '512.89', '516.31', '516.34', '516.36', '518.51', '518.52', '518.53', '573.5', '596.89', '719.70', '747.32', '793.11', '793.19', '795.51', '997.49', '998.01', '998.09', '999.32', '999.33', 'V12.55', 'V13.89', 'V54.82', 'V88.21']\n",
      "WARNING:absl:\n",
      "                Unrecognised <class 'lib.ehr.coding_scheme.PrICD9'> codes (7)\n",
      "                to be removed: ['02.21', '17.55', '17.56', '35.05', '36.01', '36.02', '36.05']\n"
     ]
    }
   ],
   "source": [
    "with U.modified_environ(DATA_DIR=DATA_DIR):\n",
    "    m3_dataset = load_dataset('M3')\n",
    "#     m4_dataset = load_dataset('M4')\n",
    "   "
   ]
  },
  {
   "cell_type": "code",
   "execution_count": 6,
   "id": "c8d78296",
   "metadata": {},
   "outputs": [
    {
     "name": "stdout",
     "output_type": "stream",
     "text": [
      "The autoreload extension is already loaded. To reload it, use:\n",
      "  %reload_ext autoreload\n"
     ]
    }
   ],
   "source": [
    "from lib.ml import ICENODE, ICENODE_UNIFORM, GRU, RETAIN, WindowLogReg, NJODE\n",
    "%load_ext autoreload\n",
    "%autoreload 2\n",
    "\"\"\"\n",
    "predefined hyperparams re: each model.\n",
    "\"\"\"\n",
    "\n",
    "model_cls = {\n",
    "    'ICE-NODE': ICENODE,\n",
    "    'ICE-NODE_UNIFORM': ICENODE_UNIFORM,\n",
    "    'GRU': GRU,\n",
    "    'RETAIN': RETAIN,\n",
    "    'LogReg': WindowLogReg,\n",
    "    'NJODE': NJODE\n",
    "}\n",
    "\n",
    "model_config = {\n",
    "    'ICE-NODE': f'{SOURCE_DIR}/expt_configs/icenode.json' ,\n",
    "    'ICE-NODE_UNIFORM': f'{SOURCE_DIR}/expt_configs/icenode.json' ,\n",
    "    'GRU': f'{SOURCE_DIR}/expt_configs/gru.json' ,\n",
    "    'RETAIN': f'{SOURCE_DIR}/expt_configs/retain.json',\n",
    "    'LogReg': f'{SOURCE_DIR}/expt_configs/window_logreg.json',\n",
    "    'NJODE': f'{SOURCE_DIR}/expt_configs/njode.json'\n",
    "}\n",
    "\n",
    "model_config = {clf: U.load_config(file) for clf, file in model_config.items()}\n",
    "\n",
    "clfs = [\n",
    "    'ICE-NODE', \n",
    "    'ICE-NODE_UNIFORM', \n",
    "    'GRU', 'RETAIN', 'LogReg', 'NJODE']\n"
   ]
  },
  {
   "cell_type": "code",
   "execution_count": 7,
   "id": "ecf14e71",
   "metadata": {},
   "outputs": [],
   "source": [
    "# icenode_variants = []\n",
    "\n",
    "# timescale = {'Ts7': 7.0, 'Ts30': 30.0}\n",
    "# embeddings_size = {'E200': 200, 'E250': 250, 'E300': 300}\n",
    "# tayreg = {'Ty0': 0, 'Ty3': 3}\n",
    "# for ts_key, ts_val in timescale.items():\n",
    "#     for e_key, e_val in embeddings_size.items():\n",
    "#         for tay_key, tay_val in tayreg.items():\n",
    "#             model_name = f'ICE-NODE-{\"\".join((ts_key, e_key, tay_key))}'\n",
    "#             icenode_variants.append(model_name)\n",
    "            \n",
    "#             config = U.load_config(f'{SOURCE_DIR}/expt_configs/icenode.json')\n",
    "#             config['emb']['dx']['embeddings_size'] = e_val\n",
    "#             config['model']['timescale'] = ts_val\n",
    "#             config['training']['tay_reg'] = tay_val\n",
    "#             model_config[model_name] = config\n",
    "#             model_cls[model_name] = ICENODE\n",
    "# clfs.extend(icenode_variants)"
   ]
  },
  {
   "cell_type": "code",
   "execution_count": 8,
   "id": "9ccb6be2",
   "metadata": {},
   "outputs": [
    {
     "data": {
      "text/plain": [
       "[None, None, None, None, None, None]"
      ]
     },
     "execution_count": 8,
     "metadata": {},
     "output_type": "execute_result"
    }
   ],
   "source": [
    "m3_train_output_dir = {clf: f'{output_dir}/m3_train/{clf}' for clf in clfs}\n",
    "m4_train_output_dir = {clf: f'{output_dir}/m4_train/{clf}' for clf in clfs}\n",
    "\n",
    "[Path(d).mkdir(parents=True, exist_ok=True) for d in m3_train_output_dir.values()]\n",
    "[Path(d).mkdir(parents=True, exist_ok=True) for d in m4_train_output_dir.values()]"
   ]
  },
  {
   "cell_type": "code",
   "execution_count": 9,
   "id": "394a3a3f",
   "metadata": {},
   "outputs": [],
   "source": [
    "from lib.ml import ConfigDiskWriter, MinibatchLogger, EvaluationDiskWriter, ParamsDiskWriter"
   ]
  },
  {
   "cell_type": "markdown",
   "id": "11fa1032",
   "metadata": {},
   "source": [
    "The reporter objects are called inside training iterations\n",
    "Each has its own functionality:\n",
    "1. **ConfigDiskWriter**: writes the experiment config file as JSON in the same training directory\n",
    "2. **MinibatchLogger**: writes to the console the training progress details.\n",
    "3. **EvaluationDiskWriter**: writes the evaluation as csv tables in the same training directory for each step of the 100.\n",
    "4. **ParamsDiskWriter**: writes the model parameters snapshot at each step out of 100."
   ]
  },
  {
   "cell_type": "code",
   "execution_count": 10,
   "id": "701e3b8f",
   "metadata": {},
   "outputs": [],
   "source": [
    "make_reporters = lambda output_dir, config: [ConfigDiskWriter(output_dir=output_dir, config=config),\n",
    "                                             MinibatchLogger(config),\n",
    "                                             EvaluationDiskWriter(output_dir=output_dir),\n",
    "                                             ParamsDiskWriter(output_dir=output_dir)]\n",
    "\n",
    "m3_reporters = {model: make_reporters(m3_train_output_dir[model], model_config[model]) for model in clfs}\n",
    "# m4_reporters = {model: make_reporters(m4_train_output_dir[model], model_config[model]) for model in clfs}"
   ]
  },
  {
   "cell_type": "markdown",
   "id": "24d26707",
   "metadata": {},
   "source": [
    "<a name=\"sece\"></a>\n",
    "\n",
    "### D JAX Interface [^](#outline)"
   ]
  },
  {
   "cell_type": "code",
   "execution_count": 11,
   "id": "c2384d73",
   "metadata": {},
   "outputs": [
    {
     "name": "stdout",
     "output_type": "stream",
     "text": [
      "The autoreload extension is already loaded. To reload it, use:\n",
      "  %reload_ext autoreload\n"
     ]
    }
   ],
   "source": [
    "from lib.ehr.coding_scheme import DxCCS, DxFlatCCS, DxICD9, DxICD10\n",
    "from lib.ehr import Subject_JAX\n",
    "from lib.ehr import StaticInfoFlags\n",
    "\n",
    "%load_ext autoreload\n",
    "%autoreload 2"
   ]
  },
  {
   "cell_type": "markdown",
   "id": "1208aa8d",
   "metadata": {},
   "source": [
    "The dictionary `code_scheme` in the next cell specifies the code spaces of:\n",
    "- 'dx': diagnostic input (input features) codes. Possible arguments:  `DxCCS()`, `DxFlatCCS()`, `DxICD9()`, `DxICD10()`.\n",
    "- 'outcome': diagnostic outcome (target to be predicted) codes. Possible arguments: \n",
    "    - `OutcomeExtractor('<outcome_label>')`  for prediction of all `<outcome_label>` codes or \n",
    "    - `FirstOccurrenceOutcomeExtractor('<outcome_label>')` for prediction of `<outcome_label>` for the first occurrence per patient).\n",
    "    - `'<outcome_label>'` specifies a subset of dx-codes defined by JSON files in `lib/ehr/resources/outcome_filters`, where each of the labels below links to the following JSON file:\n",
    "        - `'dx_flatccs_mlhc_groups'`:  `'dx_flatccs_mlhc_groups.json'`,\n",
    "        - `'dx_flatccs_filter_v1'`: `'dx_flatccs_v1.json'`,\n",
    "        - `'dx_icd9_filter_v1'`: `'dx_icd9_v1.json'`,\n",
    "        - `'dx_icd9_filter_v2_groups'`: `'dx_icd9_v2_groups.json'`,\n",
    "        - `'dx_icd9_filter_v3_groups'`: `'dx_icd9_v3_groups.json'`\n",
    "    \n",
    "\n",
    "**Note**: OutcomeExtractor can be configured through a JSON file to focus only a subset of the diagnostic codes. For example,\n",
    "you can focus the prediction objective on a small subset of interest (e.g. to predict only pulmonary-heart \n",
    "diseases codes, etc.).\n",
    "OutcomeExtractor can also be replaced by FirstOccurrenceOutcomeExtractor to enforce the prediction \n",
    "objective to predict only the first occurrence of each code for one patient, and subsequent\n",
    "redundant occurences will be avoided and not incorporated in the loss function."
   ]
  },
  {
   "cell_type": "code",
   "execution_count": 12,
   "id": "76078abb",
   "metadata": {},
   "outputs": [],
   "source": [
    "from lib.ehr import OutcomeExtractor, SurvivalOutcomeExtractor"
   ]
  },
  {
   "cell_type": "code",
   "execution_count": 13,
   "id": "4ccd6b27",
   "metadata": {},
   "outputs": [],
   "source": [
    "code_scheme = {\n",
    "    'dx': DxCCS(), # other options \n",
    "    'outcome': SurvivalOutcomeExtractor('dx_flatccs_filter_v1')\n",
    "}"
   ]
  },
  {
   "cell_type": "markdown",
   "id": "3e44b5d7",
   "metadata": {},
   "source": [
    "### Adding Demographic Information in Training\n",
    "\n",
    "What do you need to include as control features? **Uncomment each line to consider the corresponding static information.**"
   ]
  },
  {
   "cell_type": "code",
   "execution_count": 14,
   "id": "02e43e04",
   "metadata": {},
   "outputs": [
    {
     "name": "stderr",
     "output_type": "stream",
     "text": [
      "WARNING:absl:Source discrepancy\n",
      "WARNING:absl:M: dx_icd9->dx_ccs \n",
      "\n",
      "                            S - M_domain (2497, p=0.14371223021582732):\n",
      "                            ['001', '002', '003', '003.2', '004']...\n",
      "\n",
      "                            M_domain - S (0, p=0.0):\n",
      "                            []...\n",
      "\n",
      "                            M_domain (14878):\n",
      "                            ['001.0', '001.1', '001.9', '002.0', '002.1']...\n",
      "\n",
      "                            S (17375): ['001', '001.0', '001.1', '001.9', '002']...\n",
      "WARNING:absl:Source discrepancy\n",
      "WARNING:absl:M: dx_icd9->dx_flatccs \n",
      "\n",
      "                            S - M_domain (2497, p=0.14371223021582732):\n",
      "                            ['001', '002', '003', '003.2', '004']...\n",
      "\n",
      "                            M_domain - S (0, p=0.0):\n",
      "                            []...\n",
      "\n",
      "                            M_domain (14878):\n",
      "                            ['001.0', '001.1', '001.9', '002.0', '002.1']...\n",
      "\n",
      "                            S (17375): ['001', '001.0', '001.1', '001.9', '002']...\n"
     ]
    }
   ],
   "source": [
    "\n",
    "static_info_flags = StaticInfoFlags(gender=True, age=True)\n",
    "\n",
    "m3_interface = Subject_JAX.from_dataset(m3_dataset, \n",
    "                                        code_scheme=code_scheme, \n",
    "                                        static_info_flags=static_info_flags,\n",
    "                                       data_max_size_gb=1)\n",
    "# m4_interface = Subject_JAX.from_dataset(m4_dataset, \n",
    "#                                         code_scheme=code_scheme, \n",
    "#                                         static_info_flags=static_info_flags,\n",
    "#                                        data_max_size_gb=1)\n",
    "\n",
    "m3_splits = m3_interface.random_splits(split1=0.7, split2=0.85, random_seed=42)\n",
    "# m4_splits = m4_interface.random_splits(split1=0.7, split2=0.85, random_seed=42)"
   ]
  },
  {
   "cell_type": "code",
   "execution_count": 15,
   "id": "f28b7c6b",
   "metadata": {},
   "outputs": [
    {
     "name": "stdout",
     "output_type": "stream",
     "text": [
      "The autoreload extension is already loaded. To reload it, use:\n",
      "  %reload_ext autoreload\n"
     ]
    }
   ],
   "source": [
    "import jax.random as jrandom\n",
    "import lib.ml as ml\n",
    "%load_ext autoreload\n",
    "%autoreload 2\n",
    "key = jrandom.PRNGKey(0)"
   ]
  },
  {
   "cell_type": "markdown",
   "id": "ad3156b8",
   "metadata": {},
   "source": [
    "In the next cell we load a dictionary for each model specifiying the experiment configuration per model.\n",
    "The classname of the trainer used is also specified in the experiment configs.\n",
    "For example, this is the configuration file of ICE-NODE experiment.\n",
    "\n",
    "```json\n",
    "{\n",
    "    \"emb\": {\n",
    "        \"dx\": {\n",
    "           \"decoder_n_layers\": 2,\n",
    "           \"classname\":  \"MatrixEmbeddings\",      \n",
    "           \"embeddings_size\": 300\n",
    "        }\n",
    "    },\n",
    "    \"model\": {\n",
    "        \"ode_dyn_label\": \"mlp3\",\n",
    "        \"ode_init_var\": 1e-7,\n",
    "        \"state_size\": 30,\n",
    "        \"timescale\": 30\n",
    "    },\n",
    "    \"training\": {\n",
    "        \"batch_size\": 256,\n",
    "        \"decay_rate\": [0.25, 0.33],\n",
    "        \"lr\": [7e-5,  1e-3],\n",
    "        \"epochs\": 60,\n",
    "        \"reg_hyperparams\": {\n",
    "            \"L_dyn\": 1000.0,\n",
    "            \"L_l1\": 0,\n",
    "            \"L_l2\": 0\n",
    "        },\n",
    "        \"opt\": \"adam\",\n",
    "        \"classname\": \"ODETrainer2LR\" <---- \"classname, so this class should be available through ml package.\"\n",
    "    }\n",
    "}\n",
    "```\n",
    "\n",
    "Since we have a string of the classname, one way to get `ml.ODETrainer2LR` is `getattr(ml, 'ODETrainer2LR')`"
   ]
  },
  {
   "cell_type": "code",
   "execution_count": 16,
   "id": "542d1b22",
   "metadata": {},
   "outputs": [],
   "source": [
    "m3_models = {clf: model_cls[clf].from_config(model_config[clf],\n",
    "                                              m3_interface,\n",
    "                                              m3_splits[0],\n",
    "                                              key) for clf in clfs}\n",
    "# m4_models = {clf: model_cls[clf].from_config(model_config[clf],\n",
    "#                                               m4_interface,\n",
    "#                                               m4_splits[0],\n",
    "#                                               key) for clf in clfs}\n",
    "\n",
    "\n",
    "\n",
    "trainers_cls = {clf: getattr(ml, model_config[clf][\"training\"][\"classname\"]) for clf in clfs}\n",
    "trainers = {clf: trainers_cls[clf](**model_config[clf][\"training\"]) for clf in clfs}"
   ]
  },
  {
   "cell_type": "markdown",
   "id": "13c1b824",
   "metadata": {},
   "source": [
    "## Metrics of Interest Specification"
   ]
  },
  {
   "cell_type": "code",
   "execution_count": 17,
   "id": "e4df755f",
   "metadata": {},
   "outputs": [],
   "source": [
    "from lib.metric import (CodeAUC, UntilFirstCodeAUC, AdmissionAUC, CodeGroupTopAlarmAccuracy, LossMetric, MetricsCollection)"
   ]
  },
  {
   "cell_type": "markdown",
   "id": "23f7f67e",
   "metadata": {},
   "source": [
    "## Evaluation Metrics per Model\n",
    "\n",
    "1. *CodeAUC*: evaluates the prediction AUC per code (aggregating over all subject visits, for all subjects)\n",
    "2. *UntilFirstCodeAUC*: same as *CodeAUC*, but evaluates the prediction AUC until the first occurrence for each subject, once the code occured, all the subsequent visits are ignored for that code. If the code does not show in a particular subject, all the subject visits are ignored.\n",
    "3. *AdmissionAUC*: evaluates the prediction AUC per visit (i.e. probability of assigning higher risk values for present codes than the absent ones).\n",
    "4. *CodeGroupTopAlarmAccuracy*: partition codes into groups according the code frequency (from the most frequent to the least), and for each visit picks the top `k` risks, and the metric evaluates the accuracy of the top `k` riskiest codes by the model for being indeed present.\n",
    "5. *LossMetric*: records the loss values for different loss variants, which doesn't necessarily include the actual loss function that was used in the training.\n",
    "6. *MetricsCollection*: Groups multiple metrics to be considered at once."
   ]
  },
  {
   "cell_type": "markdown",
   "id": "de3968aa",
   "metadata": {},
   "source": [
    "**Note:** you will get different results when calling the method `outcome_by_percentiles` by changing the 'outcome' enty of the `ode_scheme` dictionary as following:\n",
    "- OutcomeExtractor: the counting will consider the code and its redundant occurrence for each subject, then aggregated over all subjects \n",
    "- FirstOccurrenceOutcomeExtractor: the counting will consider the first occurrence only for each subject, then aggregated over all subjects."
   ]
  },
  {
   "cell_type": "code",
   "execution_count": 18,
   "id": "a37fd74c",
   "metadata": {},
   "outputs": [],
   "source": [
    "# pecentile_range=20 will partition the codes into five gruops, where each group contains \n",
    "# codes that overall constitutes 20% of the codes in all visits of specified 'subjects' list.\n",
    "m3_code_freq_partitions = m3_interface.outcome_by_percentiles(percentile_range=20, subjects=m3_splits[0])\n",
    "# m4_code_freq_partitions = m4_interface.outcome_by_percentiles(percentile_range=20, subjects=m4_splits[0])\n",
    "\n",
    "# Evaluate for different k values\n",
    "top_k_list = [3, 5, 10, 15, 20]\n",
    "\n",
    "m3_metrics = [CodeAUC(m3_interface),\n",
    "              UntilFirstCodeAUC(m3_interface),\n",
    "              AdmissionAUC(m3_interface),\n",
    "              LossMetric(m3_interface),\n",
    "              CodeGroupTopAlarmAccuracy(m3_interface, top_k_list=top_k_list, code_groups=m3_code_freq_partitions)]\n",
    "# m4_metrics = [CodeAUC(m4_interface),\n",
    "#               UntilFirstCodeAUC(m4_interface),\n",
    "#               AdmissionAUC(m4_interface),\n",
    "#               LossMetric(m4_interface),\n",
    "#               CodeGroupTopAlarmAccuracy(m4_interface, top_k_list=top_k_list, code_groups=m4_code_freq_partitions)]\n",
    "\n",
    "m3_metrics = MetricsCollection(m3_metrics)\n",
    "# m4_metrics = MetricsCollection(m4_metrics)"
   ]
  },
  {
   "cell_type": "markdown",
   "id": "05f87624",
   "metadata": {},
   "source": [
    "<a name=\"sec1\"></a>\n",
    "\n",
    "### 1 Training ICE-NODE and The Baselines (#outline)"
   ]
  },
  {
   "cell_type": "code",
   "execution_count": 19,
   "id": "ffcc11e6",
   "metadata": {},
   "outputs": [],
   "source": [
    "from lib.ml import MetricsHistory\n",
    "\n",
    "def m3_train(clf):\n",
    "    output_dir = m3_train_output_dir[clf]\n",
    "    config = model_config[clf]\n",
    "    model = m3_models[clf]\n",
    "    trainer = trainers[clf]\n",
    "    reporters = [EvaluationDiskWriter(output_dir), # <- responsible for writing evaluation tables on disk at the given path\n",
    "                 ParamsDiskWriter(output_dir), # <- responsible for writing model parameters snapshot after each iteration.\n",
    "                 ConfigDiskWriter(output_dir, config), # writes the config file as JSON\n",
    "                ]\n",
    "    \n",
    "    history = MetricsHistory(m3_metrics) # <- empty history\n",
    "    \n",
    "    return trainer(model, m3_interface, m3_splits, history=history, reporters=reporters, prng_seed=42)\n",
    "\n",
    "# def m4_train(clf):\n",
    "#     output_dir = m4_train_output_dir[clf]\n",
    "#     config = model_config[clf]\n",
    "#     model = m4_models[clf]\n",
    "#     trainer = trainers[clf]\n",
    "#     reporters = [EvaluationDiskWriter(output_dir), # <- responsible for writing evaluation tables on disk at the given path\n",
    "#                  ParamsDiskWriter(output_dir), # <- responsible for writing model parameters snapshot after each iteration.\n",
    "#                  ConfigDiskWriter(output_dir, config), # writes the config file as JSON\n",
    "#                 ]\n",
    "    \n",
    "#     history = MetricsHistory(m4_metrics) # <- empty history\n",
    "    \n",
    "#     return trainer(model, m4_interface, m4_splits, history=history, reporters=reporters, prng_seed=42)"
   ]
  },
  {
   "cell_type": "markdown",
   "id": "7e0416a9",
   "metadata": {},
   "source": [
    "#### NJODE"
   ]
  },
  {
   "cell_type": "code",
   "execution_count": 20,
   "id": "3cedb0ec",
   "metadata": {},
   "outputs": [
    {
     "name": "stderr",
     "output_type": "stream",
     "text": [
      "  0%|                                                                                                                               | 0/11509 [00:00<?, ?it/s]/home/asem/GP/ICE-NODE/notebooks/../lib/metric/stat.py:254: RuntimeWarning: Mean of empty slice\n",
      "  row.append(agg_f(field_vals))\n",
      "/home/asem/GP/env/icenode-dev/lib/python3.8/site-packages/numpy/lib/nanfunctions.py:1218: RuntimeWarning: All-NaN slice encountered\n",
      "  r, k = function_base._ureduce(a, func=_nanmedian, axis=axis, out=out,\n",
      "/home/asem/GP/ICE-NODE/notebooks/../lib/metric/stat.py:254: RuntimeWarning: All-NaN slice encountered\n",
      "  row.append(agg_f(field_vals))\n",
      "  0%|                                                                                                                               | 0/11509 [00:31<?, ?it/s]\n"
     ]
    },
    {
     "ename": "KeyboardInterrupt",
     "evalue": "",
     "output_type": "error",
     "traceback": [
      "\u001b[0;31m---------------------------------------------------------------------------\u001b[0m",
      "\u001b[0;31mKeyboardInterrupt\u001b[0m                         Traceback (most recent call last)",
      "Cell \u001b[0;32mIn[20], line 1\u001b[0m\n\u001b[0;32m----> 1\u001b[0m m3_njode_results \u001b[38;5;241m=\u001b[39m \u001b[43mm3_train\u001b[49m\u001b[43m(\u001b[49m\u001b[38;5;124;43m'\u001b[39;49m\u001b[38;5;124;43mNJODE\u001b[39;49m\u001b[38;5;124;43m'\u001b[39;49m\u001b[43m)\u001b[49m\n",
      "Cell \u001b[0;32mIn[19], line 15\u001b[0m, in \u001b[0;36mm3_train\u001b[0;34m(clf)\u001b[0m\n\u001b[1;32m      8\u001b[0m reporters \u001b[38;5;241m=\u001b[39m [EvaluationDiskWriter(output_dir), \u001b[38;5;66;03m# <- responsible for writing evaluation tables on disk at the given path\u001b[39;00m\n\u001b[1;32m      9\u001b[0m              ParamsDiskWriter(output_dir), \u001b[38;5;66;03m# <- responsible for writing model parameters snapshot after each iteration.\u001b[39;00m\n\u001b[1;32m     10\u001b[0m              ConfigDiskWriter(output_dir, config), \u001b[38;5;66;03m# writes the config file as JSON\u001b[39;00m\n\u001b[1;32m     11\u001b[0m             ]\n\u001b[1;32m     13\u001b[0m history \u001b[38;5;241m=\u001b[39m MetricsHistory(m3_metrics) \u001b[38;5;66;03m# <- empty history\u001b[39;00m\n\u001b[0;32m---> 15\u001b[0m \u001b[38;5;28;01mreturn\u001b[39;00m \u001b[43mtrainer\u001b[49m\u001b[43m(\u001b[49m\u001b[43mmodel\u001b[49m\u001b[43m,\u001b[49m\u001b[43m \u001b[49m\u001b[43mm3_interface\u001b[49m\u001b[43m,\u001b[49m\u001b[43m \u001b[49m\u001b[43mm3_splits\u001b[49m\u001b[43m,\u001b[49m\u001b[43m \u001b[49m\u001b[43mhistory\u001b[49m\u001b[38;5;241;43m=\u001b[39;49m\u001b[43mhistory\u001b[49m\u001b[43m,\u001b[49m\u001b[43m \u001b[49m\u001b[43mreporters\u001b[49m\u001b[38;5;241;43m=\u001b[39;49m\u001b[43mreporters\u001b[49m\u001b[43m,\u001b[49m\u001b[43m \u001b[49m\u001b[43mprng_seed\u001b[49m\u001b[38;5;241;43m=\u001b[39;49m\u001b[38;5;241;43m42\u001b[39;49m\u001b[43m)\u001b[49m\n",
      "File \u001b[0;32m~/GP/ICE-NODE/notebooks/../lib/ml/abstract_trainer.py:295\u001b[0m, in \u001b[0;36mTrainer.__call__\u001b[0;34m(self, model, subject_interface, splits, history, continue_training, prng_seed, trial_terminate_time, reporters)\u001b[0m\n\u001b[1;32m    292\u001b[0m trn_loss, trn_preds \u001b[38;5;241m=\u001b[39m \u001b[38;5;28mself\u001b[39m\u001b[38;5;241m.\u001b[39meval(model, subject_interface,\n\u001b[1;32m    293\u001b[0m                                 train_batch)\n\u001b[1;32m    294\u001b[0m history\u001b[38;5;241m.\u001b[39mappend_train_iteration(trn_preds, trn_loss)\n\u001b[0;32m--> 295\u001b[0m val_loss, val_preds \u001b[38;5;241m=\u001b[39m \u001b[38;5;28;43mself\u001b[39;49m\u001b[38;5;241;43m.\u001b[39;49m\u001b[43meval\u001b[49m\u001b[43m(\u001b[49m\u001b[43mmodel\u001b[49m\u001b[43m,\u001b[49m\u001b[43m \u001b[49m\u001b[43msubject_interface\u001b[49m\u001b[43m,\u001b[49m\n\u001b[1;32m    296\u001b[0m \u001b[43m                                \u001b[49m\u001b[43mvalid_ids\u001b[49m\u001b[43m)\u001b[49m\n\u001b[1;32m    297\u001b[0m history\u001b[38;5;241m.\u001b[39mappend_validation_iteration(val_preds, val_loss)\n\u001b[1;32m    299\u001b[0m \u001b[38;5;28;01mif\u001b[39;00m i \u001b[38;5;241m==\u001b[39m iters \u001b[38;5;241m-\u001b[39m \u001b[38;5;241m1\u001b[39m:\n",
      "File \u001b[0;32m~/GP/ICE-NODE/notebooks/../lib/ml/abstract_trainer.py:162\u001b[0m, in \u001b[0;36mTrainer.eval\u001b[0;34m(self, model, subject_interface, batch, args)\u001b[0m\n\u001b[1;32m    156\u001b[0m \u001b[38;5;28;01mdef\u001b[39;00m \u001b[38;5;21meval\u001b[39m(\u001b[38;5;28mself\u001b[39m,\n\u001b[1;32m    157\u001b[0m          model: AbstractModel,\n\u001b[1;32m    158\u001b[0m          subject_interface: Subject_JAX,\n\u001b[1;32m    159\u001b[0m          batch: List[\u001b[38;5;28mint\u001b[39m],\n\u001b[1;32m    160\u001b[0m          args\u001b[38;5;241m=\u001b[39m\u001b[38;5;28mdict\u001b[39m()) \u001b[38;5;241m-\u001b[39m\u001b[38;5;241m>\u001b[39m Dict[\u001b[38;5;28mstr\u001b[39m, \u001b[38;5;28mfloat\u001b[39m]:\n\u001b[1;32m    161\u001b[0m     args[\u001b[38;5;124m'\u001b[39m\u001b[38;5;124meval_only\u001b[39m\u001b[38;5;124m'\u001b[39m] \u001b[38;5;241m=\u001b[39m \u001b[38;5;28;01mTrue\u001b[39;00m\n\u001b[0;32m--> 162\u001b[0m     _, (loss, preds) \u001b[38;5;241m=\u001b[39m \u001b[38;5;28;43mself\u001b[39;49m\u001b[38;5;241;43m.\u001b[39;49m\u001b[43munreg_loss\u001b[49m\u001b[43m(\u001b[49m\u001b[43mmodel\u001b[49m\u001b[43m,\u001b[49m\u001b[43m \u001b[49m\u001b[43msubject_interface\u001b[49m\u001b[43m,\u001b[49m\u001b[43m \u001b[49m\u001b[43mbatch\u001b[49m\u001b[43m,\u001b[49m\n\u001b[1;32m    163\u001b[0m \u001b[43m                                       \u001b[49m\u001b[43margs\u001b[49m\u001b[43m)\u001b[49m\n\u001b[1;32m    165\u001b[0m     \u001b[38;5;28;01mreturn\u001b[39;00m loss, preds\n",
      "File \u001b[0;32m~/GP/ICE-NODE/notebooks/../lib/ml/abstract_trainer.py:120\u001b[0m, in \u001b[0;36mTrainer.unreg_loss\u001b[0;34m(self, model, subject_interface, batch, args)\u001b[0m\n\u001b[1;32m    115\u001b[0m \u001b[38;5;28;01mdef\u001b[39;00m \u001b[38;5;21munreg_loss\u001b[39m(\u001b[38;5;28mself\u001b[39m,\n\u001b[1;32m    116\u001b[0m                model: AbstractModel,\n\u001b[1;32m    117\u001b[0m                subject_interface: Subject_JAX,\n\u001b[1;32m    118\u001b[0m                batch: List[\u001b[38;5;28mint\u001b[39m],\n\u001b[1;32m    119\u001b[0m                args: Dict[\u001b[38;5;28mstr\u001b[39m, Any] \u001b[38;5;241m=\u001b[39m \u001b[38;5;28mdict\u001b[39m()):\n\u001b[0;32m--> 120\u001b[0m     res \u001b[38;5;241m=\u001b[39m \u001b[43mmodel\u001b[49m\u001b[43m(\u001b[49m\u001b[43msubject_interface\u001b[49m\u001b[43m,\u001b[49m\u001b[43m \u001b[49m\u001b[43mbatch\u001b[49m\u001b[43m,\u001b[49m\u001b[43m \u001b[49m\u001b[43margs\u001b[49m\u001b[43m)\u001b[49m\n\u001b[1;32m    122\u001b[0m     l \u001b[38;5;241m=\u001b[39m res[\u001b[38;5;124m'\u001b[39m\u001b[38;5;124mpredictions\u001b[39m\u001b[38;5;124m'\u001b[39m]\u001b[38;5;241m.\u001b[39mprediction_loss(\u001b[38;5;28mself\u001b[39m\u001b[38;5;241m.\u001b[39mdx_loss())\n\u001b[1;32m    123\u001b[0m     \u001b[38;5;28;01mreturn\u001b[39;00m l, ({\u001b[38;5;124m'\u001b[39m\u001b[38;5;124mdx_loss\u001b[39m\u001b[38;5;124m'\u001b[39m: l}, res[\u001b[38;5;124m'\u001b[39m\u001b[38;5;124mpredictions\u001b[39m\u001b[38;5;124m'\u001b[39m])\n",
      "File \u001b[0;32m~/GP/ICE-NODE/notebooks/../lib/ml/dx_njode.py:204\u001b[0m, in \u001b[0;36mNJODE.__call__\u001b[0;34m(self, subject_interface, subjects_batch, args)\u001b[0m\n\u001b[1;32m    200\u001b[0m integration_time \u001b[38;5;241m=\u001b[39m \u001b[38;5;28mself\u001b[39m\u001b[38;5;241m.\u001b[39m_time_diff(current_disch_time,\n\u001b[1;32m    201\u001b[0m                                    last_disch_time)\n\u001b[1;32m    203\u001b[0m \u001b[38;5;66;03m# ODE control content: static features, previous dx, time.\u001b[39;00m\n\u001b[0;32m--> 204\u001b[0m ctrl \u001b[38;5;241m=\u001b[39m \u001b[43mjnp\u001b[49m\u001b[38;5;241;43m.\u001b[39;49m\u001b[43mhstack\u001b[49m\u001b[43m(\u001b[49m\n\u001b[1;32m    205\u001b[0m \u001b[43m    \u001b[49m\u001b[43m(\u001b[49m\u001b[43mstatic\u001b[49m\u001b[43m,\u001b[49m\u001b[43m \u001b[49m\u001b[43mprev_adm\u001b[49m\u001b[38;5;241;43m.\u001b[39;49m\u001b[43mdx_vec\u001b[49m\u001b[43m,\u001b[49m\u001b[43m \u001b[49m\u001b[43msubject_state\u001b[49m\u001b[38;5;241;43m.\u001b[39;49m\u001b[43mtime\u001b[49m\u001b[43m)\u001b[49m\u001b[43m)\u001b[49m\n\u001b[1;32m    207\u001b[0m \u001b[38;5;66;03m# Integrate until next discharge.\u001b[39;00m\n\u001b[1;32m    208\u001b[0m subject_state, r, traj \u001b[38;5;241m=\u001b[39m \u001b[38;5;28mself\u001b[39m\u001b[38;5;241m.\u001b[39m_integrate_state(\n\u001b[1;32m    209\u001b[0m     subject_state, integration_time, ctrl, args)\n",
      "File \u001b[0;32m~/GP/env/icenode-dev/lib/python3.8/site-packages/jax/_src/numpy/lax_numpy.py:1822\u001b[0m, in \u001b[0;36mhstack\u001b[0;34m(tup, dtype)\u001b[0m\n\u001b[1;32m   1820\u001b[0m   arr0_ndim \u001b[38;5;241m=\u001b[39m arrs\u001b[38;5;241m.\u001b[39mndim \u001b[38;5;241m-\u001b[39m \u001b[38;5;241m1\u001b[39m\n\u001b[1;32m   1821\u001b[0m \u001b[38;5;28;01melse\u001b[39;00m:\n\u001b[0;32m-> 1822\u001b[0m   arrs \u001b[38;5;241m=\u001b[39m [atleast_1d(m) \u001b[38;5;28;01mfor\u001b[39;00m m \u001b[38;5;129;01min\u001b[39;00m tup]\n\u001b[1;32m   1823\u001b[0m   arr0_ndim \u001b[38;5;241m=\u001b[39m arrs[\u001b[38;5;241m0\u001b[39m]\u001b[38;5;241m.\u001b[39mndim\n\u001b[1;32m   1824\u001b[0m \u001b[38;5;28;01mreturn\u001b[39;00m concatenate(arrs, axis\u001b[38;5;241m=\u001b[39m\u001b[38;5;241m0\u001b[39m \u001b[38;5;28;01mif\u001b[39;00m arr0_ndim \u001b[38;5;241m==\u001b[39m \u001b[38;5;241m1\u001b[39m \u001b[38;5;28;01melse\u001b[39;00m \u001b[38;5;241m1\u001b[39m, dtype\u001b[38;5;241m=\u001b[39mdtype)\n",
      "File \u001b[0;32m~/GP/env/icenode-dev/lib/python3.8/site-packages/jax/_src/numpy/lax_numpy.py:1822\u001b[0m, in \u001b[0;36m<listcomp>\u001b[0;34m(.0)\u001b[0m\n\u001b[1;32m   1820\u001b[0m   arr0_ndim \u001b[38;5;241m=\u001b[39m arrs\u001b[38;5;241m.\u001b[39mndim \u001b[38;5;241m-\u001b[39m \u001b[38;5;241m1\u001b[39m\n\u001b[1;32m   1821\u001b[0m \u001b[38;5;28;01melse\u001b[39;00m:\n\u001b[0;32m-> 1822\u001b[0m   arrs \u001b[38;5;241m=\u001b[39m [\u001b[43matleast_1d\u001b[49m\u001b[43m(\u001b[49m\u001b[43mm\u001b[49m\u001b[43m)\u001b[49m \u001b[38;5;28;01mfor\u001b[39;00m m \u001b[38;5;129;01min\u001b[39;00m tup]\n\u001b[1;32m   1823\u001b[0m   arr0_ndim \u001b[38;5;241m=\u001b[39m arrs[\u001b[38;5;241m0\u001b[39m]\u001b[38;5;241m.\u001b[39mndim\n\u001b[1;32m   1824\u001b[0m \u001b[38;5;28;01mreturn\u001b[39;00m concatenate(arrs, axis\u001b[38;5;241m=\u001b[39m\u001b[38;5;241m0\u001b[39m \u001b[38;5;28;01mif\u001b[39;00m arr0_ndim \u001b[38;5;241m==\u001b[39m \u001b[38;5;241m1\u001b[39m \u001b[38;5;28;01melse\u001b[39;00m \u001b[38;5;241m1\u001b[39m, dtype\u001b[38;5;241m=\u001b[39mdtype)\n",
      "    \u001b[0;31m[... skipping hidden 1 frame]\u001b[0m\n",
      "File \u001b[0;32m~/GP/env/icenode-dev/lib/python3.8/site-packages/jax/_src/api.py:622\u001b[0m, in \u001b[0;36m_cpp_jit.<locals>.cache_miss\u001b[0;34m(*args, **kwargs)\u001b[0m\n\u001b[1;32m    619\u001b[0m execute \u001b[38;5;241m=\u001b[39m \u001b[38;5;28;01mNone\u001b[39;00m\n\u001b[1;32m    620\u001b[0m \u001b[38;5;28;01mif\u001b[39;00m \u001b[38;5;28misinstance\u001b[39m(top_trace, core\u001b[38;5;241m.\u001b[39mEvalTrace) \u001b[38;5;129;01mand\u001b[39;00m \u001b[38;5;129;01mnot\u001b[39;00m (\n\u001b[1;32m    621\u001b[0m     jax\u001b[38;5;241m.\u001b[39mconfig\u001b[38;5;241m.\u001b[39mjax_debug_nans \u001b[38;5;129;01mor\u001b[39;00m jax\u001b[38;5;241m.\u001b[39mconfig\u001b[38;5;241m.\u001b[39mjax_debug_infs):\n\u001b[0;32m--> 622\u001b[0m   execute \u001b[38;5;241m=\u001b[39m \u001b[43mdispatch\u001b[49m\u001b[38;5;241;43m.\u001b[39;49m\u001b[43m_xla_call_impl_lazy\u001b[49m\u001b[43m(\u001b[49m\u001b[43mfun_\u001b[49m\u001b[43m,\u001b[49m\u001b[43m \u001b[49m\u001b[38;5;241;43m*\u001b[39;49m\u001b[43mtracers\u001b[49m\u001b[43m,\u001b[49m\u001b[43m \u001b[49m\u001b[38;5;241;43m*\u001b[39;49m\u001b[38;5;241;43m*\u001b[39;49m\u001b[43mparams\u001b[49m\u001b[43m)\u001b[49m\n\u001b[1;32m    623\u001b[0m   out_flat \u001b[38;5;241m=\u001b[39m call_bind_continuation(execute(\u001b[38;5;241m*\u001b[39margs_flat))\n\u001b[1;32m    624\u001b[0m \u001b[38;5;28;01melse\u001b[39;00m:\n",
      "File \u001b[0;32m~/GP/env/icenode-dev/lib/python3.8/site-packages/jax/_src/dispatch.py:241\u001b[0m, in \u001b[0;36m_xla_call_impl_lazy\u001b[0;34m(***failed resolving arguments***)\u001b[0m\n\u001b[1;32m    239\u001b[0m     \u001b[38;5;28;01mraise\u001b[39;00m \u001b[38;5;167;01mNotImplementedError\u001b[39;00m(\u001b[38;5;124m'\u001b[39m\u001b[38;5;124mDynamic shapes do not work with Array.\u001b[39m\u001b[38;5;124m'\u001b[39m)\n\u001b[1;32m    240\u001b[0m   arg_specs \u001b[38;5;241m=\u001b[39m [(\u001b[38;5;28;01mNone\u001b[39;00m, \u001b[38;5;28mgetattr\u001b[39m(x, \u001b[38;5;124m'\u001b[39m\u001b[38;5;124m_device\u001b[39m\u001b[38;5;124m'\u001b[39m, \u001b[38;5;28;01mNone\u001b[39;00m)) \u001b[38;5;28;01mfor\u001b[39;00m x \u001b[38;5;129;01min\u001b[39;00m args]\n\u001b[0;32m--> 241\u001b[0m \u001b[38;5;28;01mreturn\u001b[39;00m \u001b[43mxla_callable\u001b[49m\u001b[43m(\u001b[49m\u001b[43mfun\u001b[49m\u001b[43m,\u001b[49m\u001b[43m \u001b[49m\u001b[43mdevice\u001b[49m\u001b[43m,\u001b[49m\u001b[43m \u001b[49m\u001b[43mbackend\u001b[49m\u001b[43m,\u001b[49m\u001b[43m \u001b[49m\u001b[43mname\u001b[49m\u001b[43m,\u001b[49m\u001b[43m \u001b[49m\u001b[43mdonated_invars\u001b[49m\u001b[43m,\u001b[49m\u001b[43m \u001b[49m\u001b[43mkeep_unused\u001b[49m\u001b[43m,\u001b[49m\n\u001b[1;32m    242\u001b[0m \u001b[43m                    \u001b[49m\u001b[38;5;241;43m*\u001b[39;49m\u001b[43marg_specs\u001b[49m\u001b[43m)\u001b[49m\n",
      "File \u001b[0;32m~/GP/env/icenode-dev/lib/python3.8/site-packages/jax/linear_util.py:298\u001b[0m, in \u001b[0;36mcache.<locals>.memoized_fun\u001b[0;34m(fun, *args)\u001b[0m\n\u001b[1;32m    295\u001b[0m \u001b[38;5;28;01melse\u001b[39;00m:\n\u001b[1;32m    296\u001b[0m   key \u001b[38;5;241m=\u001b[39m (fun\u001b[38;5;241m.\u001b[39mtransforms, fun\u001b[38;5;241m.\u001b[39mparams, fun\u001b[38;5;241m.\u001b[39min_type, args, config\u001b[38;5;241m.\u001b[39mx64_enabled,\n\u001b[1;32m    297\u001b[0m          config\u001b[38;5;241m.\u001b[39mjax_default_device, config\u001b[38;5;241m.\u001b[39m_trace_context())\n\u001b[0;32m--> 298\u001b[0m result \u001b[38;5;241m=\u001b[39m \u001b[43mcache\u001b[49m\u001b[38;5;241;43m.\u001b[39;49m\u001b[43mget\u001b[49m\u001b[43m(\u001b[49m\u001b[43mkey\u001b[49m\u001b[43m,\u001b[49m\u001b[43m \u001b[49m\u001b[38;5;28;43;01mNone\u001b[39;49;00m\u001b[43m)\u001b[49m\n\u001b[1;32m    299\u001b[0m \u001b[38;5;28;01mif\u001b[39;00m result \u001b[38;5;129;01mis\u001b[39;00m \u001b[38;5;129;01mnot\u001b[39;00m \u001b[38;5;28;01mNone\u001b[39;00m:\n\u001b[1;32m    300\u001b[0m   ans, stores \u001b[38;5;241m=\u001b[39m result\n",
      "File \u001b[0;32m~/GP/env/icenode-dev/lib/python3.8/site-packages/jax/core.py:1402\u001b[0m, in \u001b[0;36mShapedArray.__hash__\u001b[0;34m(self)\u001b[0m\n\u001b[1;32m   1396\u001b[0m \u001b[38;5;28;01mdef\u001b[39;00m \u001b[38;5;21m__eq__\u001b[39m(\u001b[38;5;28mself\u001b[39m, other):\n\u001b[1;32m   1397\u001b[0m   \u001b[38;5;28;01mreturn\u001b[39;00m (\u001b[38;5;28mtype\u001b[39m(\u001b[38;5;28mself\u001b[39m) \u001b[38;5;129;01mis\u001b[39;00m \u001b[38;5;28mtype\u001b[39m(other)\n\u001b[1;32m   1398\u001b[0m           \u001b[38;5;129;01mand\u001b[39;00m \u001b[38;5;28mself\u001b[39m\u001b[38;5;241m.\u001b[39mdtype \u001b[38;5;241m==\u001b[39m other\u001b[38;5;241m.\u001b[39mdtype \u001b[38;5;129;01mand\u001b[39;00m \u001b[38;5;28mself\u001b[39m\u001b[38;5;241m.\u001b[39mshape \u001b[38;5;241m==\u001b[39m other\u001b[38;5;241m.\u001b[39mshape\n\u001b[1;32m   1399\u001b[0m           \u001b[38;5;129;01mand\u001b[39;00m \u001b[38;5;28mself\u001b[39m\u001b[38;5;241m.\u001b[39mweak_type \u001b[38;5;241m==\u001b[39m other\u001b[38;5;241m.\u001b[39mweak_type\n\u001b[1;32m   1400\u001b[0m           \u001b[38;5;129;01mand\u001b[39;00m \u001b[38;5;28mself\u001b[39m\u001b[38;5;241m.\u001b[39mnamed_shape \u001b[38;5;241m==\u001b[39m other\u001b[38;5;241m.\u001b[39mnamed_shape)\n\u001b[0;32m-> 1402\u001b[0m \u001b[38;5;28;01mdef\u001b[39;00m \u001b[38;5;21m__hash__\u001b[39m(\u001b[38;5;28mself\u001b[39m):\n\u001b[1;32m   1403\u001b[0m   \u001b[38;5;66;03m# can use hash(self.dtype) and rely on the fact that numpy reuses base dtype\u001b[39;00m\n\u001b[1;32m   1404\u001b[0m   \u001b[38;5;66;03m# objects, e.g. `np.zeros(3).dtype is np.zeros(4).dtype`, or we can use\u001b[39;00m\n\u001b[1;32m   1405\u001b[0m   \u001b[38;5;66;03m# the unique character code via hash(self.dtype.char)\u001b[39;00m\n\u001b[1;32m   1406\u001b[0m   \u001b[38;5;28;01mreturn\u001b[39;00m \u001b[38;5;28mhash\u001b[39m((\u001b[38;5;28mself\u001b[39m\u001b[38;5;241m.\u001b[39mshape, \u001b[38;5;28mself\u001b[39m\u001b[38;5;241m.\u001b[39mdtype, \u001b[38;5;28mself\u001b[39m\u001b[38;5;241m.\u001b[39mweak_type,\n\u001b[1;32m   1407\u001b[0m                \u001b[38;5;28mtuple\u001b[39m(\u001b[38;5;28mself\u001b[39m\u001b[38;5;241m.\u001b[39mnamed_shape\u001b[38;5;241m.\u001b[39mitems())))\n\u001b[1;32m   1409\u001b[0m \u001b[38;5;28;01mdef\u001b[39;00m \u001b[38;5;21mat_least_vspace\u001b[39m(\u001b[38;5;28mself\u001b[39m):\n",
      "\u001b[0;31mKeyboardInterrupt\u001b[0m: "
     ]
    }
   ],
   "source": [
    "m3_njode_results = m3_train('NJODE')"
   ]
  },
  {
   "cell_type": "markdown",
   "id": "958d7262",
   "metadata": {},
   "source": [
    "#### ICE-NODE"
   ]
  },
  {
   "cell_type": "code",
   "execution_count": null,
   "id": "2abbed34",
   "metadata": {},
   "outputs": [],
   "source": [
    "# for icenode_variant in icenode_variants:\n",
    "#     print(icenode_variant)\n",
    "#     m3_train(icenode_variant)"
   ]
  },
  {
   "cell_type": "code",
   "execution_count": 21,
   "id": "80826221",
   "metadata": {},
   "outputs": [
    {
     "name": "stderr",
     "output_type": "stream",
     "text": [
      "  0%|                                                                                                                     | 1/1439 [01:07<27:02:20, 67.69s/it]\n"
     ]
    },
    {
     "ename": "KeyboardInterrupt",
     "evalue": "",
     "output_type": "error",
     "traceback": [
      "\u001b[0;31m---------------------------------------------------------------------------\u001b[0m",
      "\u001b[0;31mKeyboardInterrupt\u001b[0m                         Traceback (most recent call last)",
      "Cell \u001b[0;32mIn[21], line 1\u001b[0m\n\u001b[0;32m----> 1\u001b[0m m3_icenode_results \u001b[38;5;241m=\u001b[39m \u001b[43mm3_train\u001b[49m\u001b[43m(\u001b[49m\u001b[38;5;124;43m'\u001b[39;49m\u001b[38;5;124;43mICE-NODE\u001b[39;49m\u001b[38;5;124;43m'\u001b[39;49m\u001b[43m)\u001b[49m\n",
      "Cell \u001b[0;32mIn[19], line 15\u001b[0m, in \u001b[0;36mm3_train\u001b[0;34m(clf)\u001b[0m\n\u001b[1;32m      8\u001b[0m reporters \u001b[38;5;241m=\u001b[39m [EvaluationDiskWriter(output_dir), \u001b[38;5;66;03m# <- responsible for writing evaluation tables on disk at the given path\u001b[39;00m\n\u001b[1;32m      9\u001b[0m              ParamsDiskWriter(output_dir), \u001b[38;5;66;03m# <- responsible for writing model parameters snapshot after each iteration.\u001b[39;00m\n\u001b[1;32m     10\u001b[0m              ConfigDiskWriter(output_dir, config), \u001b[38;5;66;03m# writes the config file as JSON\u001b[39;00m\n\u001b[1;32m     11\u001b[0m             ]\n\u001b[1;32m     13\u001b[0m history \u001b[38;5;241m=\u001b[39m MetricsHistory(m3_metrics) \u001b[38;5;66;03m# <- empty history\u001b[39;00m\n\u001b[0;32m---> 15\u001b[0m \u001b[38;5;28;01mreturn\u001b[39;00m \u001b[43mtrainer\u001b[49m\u001b[43m(\u001b[49m\u001b[43mmodel\u001b[49m\u001b[43m,\u001b[49m\u001b[43m \u001b[49m\u001b[43mm3_interface\u001b[49m\u001b[43m,\u001b[49m\u001b[43m \u001b[49m\u001b[43mm3_splits\u001b[49m\u001b[43m,\u001b[49m\u001b[43m \u001b[49m\u001b[43mhistory\u001b[49m\u001b[38;5;241;43m=\u001b[39;49m\u001b[43mhistory\u001b[49m\u001b[43m,\u001b[49m\u001b[43m \u001b[49m\u001b[43mreporters\u001b[49m\u001b[38;5;241;43m=\u001b[39;49m\u001b[43mreporters\u001b[49m\u001b[43m,\u001b[49m\u001b[43m \u001b[49m\u001b[43mprng_seed\u001b[49m\u001b[38;5;241;43m=\u001b[39;49m\u001b[38;5;241;43m42\u001b[39;49m\u001b[43m)\u001b[49m\n",
      "File \u001b[0;32m~/GP/ICE-NODE/notebooks/../lib/ml/abstract_trainer.py:273\u001b[0m, in \u001b[0;36mTrainer.__call__\u001b[0;34m(self, model, subject_interface, splits, history, continue_training, prng_seed, trial_terminate_time, reporters)\u001b[0m\n\u001b[1;32m    270\u001b[0m train_batch \u001b[38;5;241m=\u001b[39m [train_ids[i] \u001b[38;5;28;01mfor\u001b[39;00m i \u001b[38;5;129;01min\u001b[39;00m shuffled_idx[:batch_size]]\n\u001b[1;32m    272\u001b[0m \u001b[38;5;28;01mtry\u001b[39;00m:\n\u001b[0;32m--> 273\u001b[0m     opt_state, model, _ \u001b[38;5;241m=\u001b[39m \u001b[38;5;28;43mself\u001b[39;49m\u001b[38;5;241;43m.\u001b[39;49m\u001b[43mstep_optimizer\u001b[49m\u001b[43m(\u001b[49m\n\u001b[1;32m    274\u001b[0m \u001b[43m        \u001b[49m\u001b[43mi\u001b[49m\u001b[43m,\u001b[49m\u001b[43m \u001b[49m\u001b[43mopt_state\u001b[49m\u001b[43m,\u001b[49m\u001b[43m \u001b[49m\u001b[43mmodel\u001b[49m\u001b[43m,\u001b[49m\u001b[43m \u001b[49m\u001b[43msubject_interface\u001b[49m\u001b[43m,\u001b[49m\u001b[43m \u001b[49m\u001b[43mtrain_batch\u001b[49m\u001b[43m)\u001b[49m\n\u001b[1;32m    276\u001b[0m \u001b[38;5;28;01mexcept\u001b[39;00m \u001b[38;5;167;01mRuntimeError\u001b[39;00m \u001b[38;5;28;01mas\u001b[39;00m e:\n\u001b[1;32m    277\u001b[0m     [\n\u001b[1;32m    278\u001b[0m         r\u001b[38;5;241m.\u001b[39mreport_nan_detected(\u001b[38;5;124m'\u001b[39m\u001b[38;5;124mPossible ODE failure\u001b[39m\u001b[38;5;124m'\u001b[39m)\n\u001b[1;32m    279\u001b[0m         \u001b[38;5;28;01mfor\u001b[39;00m r \u001b[38;5;129;01min\u001b[39;00m reporters\n\u001b[1;32m    280\u001b[0m     ]\n",
      "File \u001b[0;32m~/GP/ICE-NODE/notebooks/../lib/ml/abstract_trainer.py:352\u001b[0m, in \u001b[0;36mTrainer2LR.step_optimizer\u001b[0;34m(self, step, opt_state, model, subject_interface, batch)\u001b[0m\n\u001b[1;32m    349\u001b[0m opt2_u, opt2_p \u001b[38;5;241m=\u001b[39m opt2\n\u001b[1;32m    351\u001b[0m grad_f \u001b[38;5;241m=\u001b[39m eqx\u001b[38;5;241m.\u001b[39mfilter_grad(\u001b[38;5;28mself\u001b[39m\u001b[38;5;241m.\u001b[39mloss, has_aux\u001b[38;5;241m=\u001b[39m\u001b[38;5;28;01mTrue\u001b[39;00m)\n\u001b[0;32m--> 352\u001b[0m grads, aux \u001b[38;5;241m=\u001b[39m \u001b[43mgrad_f\u001b[49m\u001b[43m(\u001b[49m\u001b[43mmodel\u001b[49m\u001b[43m,\u001b[49m\u001b[43m \u001b[49m\u001b[43msubject_interface\u001b[49m\u001b[43m,\u001b[49m\u001b[43m \u001b[49m\u001b[43mbatch\u001b[49m\u001b[43m)\u001b[49m\n\u001b[1;32m    353\u001b[0m g1, g2 \u001b[38;5;241m=\u001b[39m model\u001b[38;5;241m.\u001b[39memb_dyn_partition(grads)\n\u001b[1;32m    355\u001b[0m opt1_s \u001b[38;5;241m=\u001b[39m opt1_u(step, g1, opt1_s)\n",
      "File \u001b[0;32m~/GP/env/icenode-dev/lib/python3.8/site-packages/equinox/grad.py:53\u001b[0m, in \u001b[0;36m_GradWrapper.__call__\u001b[0;34m(_GradWrapper__self, *args, **kwargs)\u001b[0m\n\u001b[1;32m     52\u001b[0m \u001b[38;5;28;01mdef\u001b[39;00m \u001b[38;5;21m__call__\u001b[39m(__self, \u001b[38;5;241m*\u001b[39margs, \u001b[38;5;241m*\u001b[39m\u001b[38;5;241m*\u001b[39mkwargs):\n\u001b[0;32m---> 53\u001b[0m     value, grad \u001b[38;5;241m=\u001b[39m \u001b[43m__self\u001b[49m\u001b[38;5;241;43m.\u001b[39;49m\u001b[43m_fun_value_and_grad\u001b[49m\u001b[43m(\u001b[49m\u001b[38;5;241;43m*\u001b[39;49m\u001b[43margs\u001b[49m\u001b[43m,\u001b[49m\u001b[43m \u001b[49m\u001b[38;5;241;43m*\u001b[39;49m\u001b[38;5;241;43m*\u001b[39;49m\u001b[43mkwargs\u001b[49m\u001b[43m)\u001b[49m\n\u001b[1;32m     54\u001b[0m     \u001b[38;5;28;01mif\u001b[39;00m __self\u001b[38;5;241m.\u001b[39m_has_aux:\n\u001b[1;32m     55\u001b[0m         _, aux \u001b[38;5;241m=\u001b[39m value\n",
      "File \u001b[0;32m~/GP/env/icenode-dev/lib/python3.8/site-packages/equinox/grad.py:40\u001b[0m, in \u001b[0;36m_ValueAndGradWrapper.__call__\u001b[0;34m(_ValueAndGradWrapper__self, _ValueAndGradWrapper__x, *args, **kwargs)\u001b[0m\n\u001b[1;32m     37\u001b[0m     \u001b[38;5;28;01mreturn\u001b[39;00m __self\u001b[38;5;241m.\u001b[39m_fun(_x, \u001b[38;5;241m*\u001b[39m_args, \u001b[38;5;241m*\u001b[39m\u001b[38;5;241m*\u001b[39m_kwargs)\n\u001b[1;32m     39\u001b[0m diff_x, nondiff_x \u001b[38;5;241m=\u001b[39m partition(__x, __self\u001b[38;5;241m.\u001b[39m_arg)\n\u001b[0;32m---> 40\u001b[0m \u001b[38;5;28;01mreturn\u001b[39;00m \u001b[43mfun_value_and_grad\u001b[49m\u001b[43m(\u001b[49m\u001b[43mdiff_x\u001b[49m\u001b[43m,\u001b[49m\u001b[43m \u001b[49m\u001b[43mnondiff_x\u001b[49m\u001b[43m,\u001b[49m\u001b[43m \u001b[49m\u001b[38;5;241;43m*\u001b[39;49m\u001b[43margs\u001b[49m\u001b[43m,\u001b[49m\u001b[43m \u001b[49m\u001b[38;5;241;43m*\u001b[39;49m\u001b[38;5;241;43m*\u001b[39;49m\u001b[43mkwargs\u001b[49m\u001b[43m)\u001b[49m\n",
      "    \u001b[0;31m[... skipping hidden 1 frame]\u001b[0m\n",
      "File \u001b[0;32m~/GP/env/icenode-dev/lib/python3.8/site-packages/jax/_src/api.py:1167\u001b[0m, in \u001b[0;36mvalue_and_grad.<locals>.value_and_grad_f\u001b[0;34m(*args, **kwargs)\u001b[0m\n\u001b[1;32m   1165\u001b[0m   ans, vjp_py \u001b[38;5;241m=\u001b[39m _vjp(f_partial, \u001b[38;5;241m*\u001b[39mdyn_args, reduce_axes\u001b[38;5;241m=\u001b[39mreduce_axes)\n\u001b[1;32m   1166\u001b[0m \u001b[38;5;28;01melse\u001b[39;00m:\n\u001b[0;32m-> 1167\u001b[0m   ans, vjp_py, aux \u001b[38;5;241m=\u001b[39m \u001b[43m_vjp\u001b[49m\u001b[43m(\u001b[49m\n\u001b[1;32m   1168\u001b[0m \u001b[43m      \u001b[49m\u001b[43mf_partial\u001b[49m\u001b[43m,\u001b[49m\u001b[43m \u001b[49m\u001b[38;5;241;43m*\u001b[39;49m\u001b[43mdyn_args\u001b[49m\u001b[43m,\u001b[49m\u001b[43m \u001b[49m\u001b[43mhas_aux\u001b[49m\u001b[38;5;241;43m=\u001b[39;49m\u001b[38;5;28;43;01mTrue\u001b[39;49;00m\u001b[43m,\u001b[49m\u001b[43m \u001b[49m\u001b[43mreduce_axes\u001b[49m\u001b[38;5;241;43m=\u001b[39;49m\u001b[43mreduce_axes\u001b[49m\u001b[43m)\u001b[49m\n\u001b[1;32m   1169\u001b[0m _check_scalar(ans)\n\u001b[1;32m   1170\u001b[0m tree_map(partial(_check_output_dtype_grad, holomorphic), ans)\n",
      "File \u001b[0;32m~/GP/env/icenode-dev/lib/python3.8/site-packages/jax/_src/api.py:2659\u001b[0m, in \u001b[0;36m_vjp\u001b[0;34m(fun, has_aux, reduce_axes, *primals)\u001b[0m\n\u001b[1;32m   2657\u001b[0m \u001b[38;5;28;01melse\u001b[39;00m:\n\u001b[1;32m   2658\u001b[0m   flat_fun, out_aux_trees \u001b[38;5;241m=\u001b[39m flatten_fun_nokwargs2(fun, in_tree)\n\u001b[0;32m-> 2659\u001b[0m   out_primal, out_vjp, aux \u001b[38;5;241m=\u001b[39m \u001b[43mad\u001b[49m\u001b[38;5;241;43m.\u001b[39;49m\u001b[43mvjp\u001b[49m\u001b[43m(\u001b[49m\n\u001b[1;32m   2660\u001b[0m \u001b[43m      \u001b[49m\u001b[43mflat_fun\u001b[49m\u001b[43m,\u001b[49m\u001b[43m \u001b[49m\u001b[43mprimals_flat\u001b[49m\u001b[43m,\u001b[49m\u001b[43m \u001b[49m\u001b[43mhas_aux\u001b[49m\u001b[38;5;241;43m=\u001b[39;49m\u001b[38;5;28;43;01mTrue\u001b[39;49;00m\u001b[43m,\u001b[49m\u001b[43m \u001b[49m\u001b[43mreduce_axes\u001b[49m\u001b[38;5;241;43m=\u001b[39;49m\u001b[43mreduce_axes\u001b[49m\u001b[43m)\u001b[49m\n\u001b[1;32m   2661\u001b[0m   out_tree, aux_tree \u001b[38;5;241m=\u001b[39m out_aux_trees()\n\u001b[1;32m   2662\u001b[0m out_primal_py \u001b[38;5;241m=\u001b[39m tree_unflatten(out_tree, out_primal)\n",
      "File \u001b[0;32m~/GP/env/icenode-dev/lib/python3.8/site-packages/jax/interpreters/ad.py:137\u001b[0m, in \u001b[0;36mvjp\u001b[0;34m(traceable, primals, has_aux, reduce_axes)\u001b[0m\n\u001b[1;32m    135\u001b[0m   out_primals, pvals, jaxpr, consts \u001b[38;5;241m=\u001b[39m linearize(traceable, \u001b[38;5;241m*\u001b[39mprimals)\n\u001b[1;32m    136\u001b[0m \u001b[38;5;28;01melse\u001b[39;00m:\n\u001b[0;32m--> 137\u001b[0m   out_primals, pvals, jaxpr, consts, aux \u001b[38;5;241m=\u001b[39m \u001b[43mlinearize\u001b[49m\u001b[43m(\u001b[49m\u001b[43mtraceable\u001b[49m\u001b[43m,\u001b[49m\u001b[43m \u001b[49m\u001b[38;5;241;43m*\u001b[39;49m\u001b[43mprimals\u001b[49m\u001b[43m,\u001b[49m\u001b[43m \u001b[49m\u001b[43mhas_aux\u001b[49m\u001b[38;5;241;43m=\u001b[39;49m\u001b[38;5;28;43;01mTrue\u001b[39;49;00m\u001b[43m)\u001b[49m\n\u001b[1;32m    139\u001b[0m \u001b[38;5;28;01mdef\u001b[39;00m \u001b[38;5;21munbound_vjp\u001b[39m(pvals, jaxpr, consts, \u001b[38;5;241m*\u001b[39mcts):\n\u001b[1;32m    140\u001b[0m   cts \u001b[38;5;241m=\u001b[39m \u001b[38;5;28mtuple\u001b[39m(ct \u001b[38;5;28;01mfor\u001b[39;00m ct, pval \u001b[38;5;129;01min\u001b[39;00m \u001b[38;5;28mzip\u001b[39m(cts, pvals) \u001b[38;5;28;01mif\u001b[39;00m \u001b[38;5;129;01mnot\u001b[39;00m pval\u001b[38;5;241m.\u001b[39mis_known())\n",
      "File \u001b[0;32m~/GP/env/icenode-dev/lib/python3.8/site-packages/jax/interpreters/ad.py:124\u001b[0m, in \u001b[0;36mlinearize\u001b[0;34m(traceable, *primals, **kwargs)\u001b[0m\n\u001b[1;32m    122\u001b[0m _, in_tree \u001b[38;5;241m=\u001b[39m tree_flatten(((primals, primals), {}))\n\u001b[1;32m    123\u001b[0m jvpfun_flat, out_tree \u001b[38;5;241m=\u001b[39m flatten_fun(jvpfun, in_tree)\n\u001b[0;32m--> 124\u001b[0m jaxpr, out_pvals, consts \u001b[38;5;241m=\u001b[39m \u001b[43mpe\u001b[49m\u001b[38;5;241;43m.\u001b[39;49m\u001b[43mtrace_to_jaxpr_nounits\u001b[49m\u001b[43m(\u001b[49m\u001b[43mjvpfun_flat\u001b[49m\u001b[43m,\u001b[49m\u001b[43m \u001b[49m\u001b[43min_pvals\u001b[49m\u001b[43m)\u001b[49m\n\u001b[1;32m    125\u001b[0m out_primals_pvals, out_tangents_pvals \u001b[38;5;241m=\u001b[39m tree_unflatten(out_tree(), out_pvals)\n\u001b[1;32m    126\u001b[0m \u001b[38;5;28;01massert\u001b[39;00m \u001b[38;5;28mall\u001b[39m(out_primal_pval\u001b[38;5;241m.\u001b[39mis_known() \u001b[38;5;28;01mfor\u001b[39;00m out_primal_pval \u001b[38;5;129;01min\u001b[39;00m out_primals_pvals)\n",
      "File \u001b[0;32m~/GP/env/icenode-dev/lib/python3.8/site-packages/jax/_src/profiler.py:314\u001b[0m, in \u001b[0;36mannotate_function.<locals>.wrapper\u001b[0;34m(*args, **kwargs)\u001b[0m\n\u001b[1;32m    311\u001b[0m \u001b[38;5;129m@wraps\u001b[39m(func)\n\u001b[1;32m    312\u001b[0m \u001b[38;5;28;01mdef\u001b[39;00m \u001b[38;5;21mwrapper\u001b[39m(\u001b[38;5;241m*\u001b[39margs, \u001b[38;5;241m*\u001b[39m\u001b[38;5;241m*\u001b[39mkwargs):\n\u001b[1;32m    313\u001b[0m   \u001b[38;5;28;01mwith\u001b[39;00m TraceAnnotation(name, \u001b[38;5;241m*\u001b[39m\u001b[38;5;241m*\u001b[39mdecorator_kwargs):\n\u001b[0;32m--> 314\u001b[0m     \u001b[38;5;28;01mreturn\u001b[39;00m \u001b[43mfunc\u001b[49m\u001b[43m(\u001b[49m\u001b[38;5;241;43m*\u001b[39;49m\u001b[43margs\u001b[49m\u001b[43m,\u001b[49m\u001b[43m \u001b[49m\u001b[38;5;241;43m*\u001b[39;49m\u001b[38;5;241;43m*\u001b[39;49m\u001b[43mkwargs\u001b[49m\u001b[43m)\u001b[49m\n\u001b[1;32m    315\u001b[0m   \u001b[38;5;28;01mreturn\u001b[39;00m wrapper\n",
      "File \u001b[0;32m~/GP/env/icenode-dev/lib/python3.8/site-packages/jax/interpreters/partial_eval.py:767\u001b[0m, in \u001b[0;36mtrace_to_jaxpr_nounits\u001b[0;34m(fun, pvals, instantiate)\u001b[0m\n\u001b[1;32m    765\u001b[0m \u001b[38;5;28;01mwith\u001b[39;00m core\u001b[38;5;241m.\u001b[39mnew_main(JaxprTrace, name_stack\u001b[38;5;241m=\u001b[39mcurrent_name_stack) \u001b[38;5;28;01mas\u001b[39;00m main:\n\u001b[1;32m    766\u001b[0m   fun \u001b[38;5;241m=\u001b[39m trace_to_subjaxpr_nounits(fun, main, instantiate)\n\u001b[0;32m--> 767\u001b[0m   jaxpr, (out_pvals, consts, env) \u001b[38;5;241m=\u001b[39m \u001b[43mfun\u001b[49m\u001b[38;5;241;43m.\u001b[39;49m\u001b[43mcall_wrapped\u001b[49m\u001b[43m(\u001b[49m\u001b[43mpvals\u001b[49m\u001b[43m)\u001b[49m\n\u001b[1;32m    768\u001b[0m   \u001b[38;5;28;01massert\u001b[39;00m \u001b[38;5;129;01mnot\u001b[39;00m env\n\u001b[1;32m    769\u001b[0m   \u001b[38;5;28;01mdel\u001b[39;00m main, fun, env\n",
      "File \u001b[0;32m~/GP/env/icenode-dev/lib/python3.8/site-packages/jax/linear_util.py:167\u001b[0m, in \u001b[0;36mWrappedFun.call_wrapped\u001b[0;34m(self, *args, **kwargs)\u001b[0m\n\u001b[1;32m    164\u001b[0m gen \u001b[38;5;241m=\u001b[39m gen_static_args \u001b[38;5;241m=\u001b[39m out_store \u001b[38;5;241m=\u001b[39m \u001b[38;5;28;01mNone\u001b[39;00m\n\u001b[1;32m    166\u001b[0m \u001b[38;5;28;01mtry\u001b[39;00m:\n\u001b[0;32m--> 167\u001b[0m   ans \u001b[38;5;241m=\u001b[39m \u001b[38;5;28;43mself\u001b[39;49m\u001b[38;5;241;43m.\u001b[39;49m\u001b[43mf\u001b[49m\u001b[43m(\u001b[49m\u001b[38;5;241;43m*\u001b[39;49m\u001b[43margs\u001b[49m\u001b[43m,\u001b[49m\u001b[43m \u001b[49m\u001b[38;5;241;43m*\u001b[39;49m\u001b[38;5;241;43m*\u001b[39;49m\u001b[38;5;28;43mdict\u001b[39;49m\u001b[43m(\u001b[49m\u001b[38;5;28;43mself\u001b[39;49m\u001b[38;5;241;43m.\u001b[39;49m\u001b[43mparams\u001b[49m\u001b[43m,\u001b[49m\u001b[43m \u001b[49m\u001b[38;5;241;43m*\u001b[39;49m\u001b[38;5;241;43m*\u001b[39;49m\u001b[43mkwargs\u001b[49m\u001b[43m)\u001b[49m\u001b[43m)\u001b[49m\n\u001b[1;32m    168\u001b[0m \u001b[38;5;28;01mexcept\u001b[39;00m:\n\u001b[1;32m    169\u001b[0m   \u001b[38;5;66;03m# Some transformations yield from inside context managers, so we have to\u001b[39;00m\n\u001b[1;32m    170\u001b[0m   \u001b[38;5;66;03m# interrupt them before reraising the exception. Otherwise they will only\u001b[39;00m\n\u001b[1;32m    171\u001b[0m   \u001b[38;5;66;03m# get garbage-collected at some later time, running their cleanup tasks\u001b[39;00m\n\u001b[1;32m    172\u001b[0m   \u001b[38;5;66;03m# only after this exception is handled, which can corrupt the global\u001b[39;00m\n\u001b[1;32m    173\u001b[0m   \u001b[38;5;66;03m# state.\u001b[39;00m\n\u001b[1;32m    174\u001b[0m   \u001b[38;5;28;01mwhile\u001b[39;00m stack:\n",
      "File \u001b[0;32m~/GP/env/icenode-dev/lib/python3.8/site-packages/equinox/grad.py:37\u001b[0m, in \u001b[0;36m_ValueAndGradWrapper.__call__.<locals>.fun_value_and_grad\u001b[0;34m(_diff_x, _nondiff_x, *_args, **_kwargs)\u001b[0m\n\u001b[1;32m     34\u001b[0m \u001b[38;5;129m@ft\u001b[39m\u001b[38;5;241m.\u001b[39mpartial(jax\u001b[38;5;241m.\u001b[39mvalue_and_grad, argnums\u001b[38;5;241m=\u001b[39m\u001b[38;5;241m0\u001b[39m, \u001b[38;5;241m*\u001b[39m\u001b[38;5;241m*\u001b[39m__self\u001b[38;5;241m.\u001b[39m_gradkwargs)\n\u001b[1;32m     35\u001b[0m \u001b[38;5;28;01mdef\u001b[39;00m \u001b[38;5;21mfun_value_and_grad\u001b[39m(_diff_x, _nondiff_x, \u001b[38;5;241m*\u001b[39m_args, \u001b[38;5;241m*\u001b[39m\u001b[38;5;241m*\u001b[39m_kwargs):\n\u001b[1;32m     36\u001b[0m     _x \u001b[38;5;241m=\u001b[39m combine(_diff_x, _nondiff_x)\n\u001b[0;32m---> 37\u001b[0m     \u001b[38;5;28;01mreturn\u001b[39;00m \u001b[43m__self\u001b[49m\u001b[38;5;241;43m.\u001b[39;49m\u001b[43m_fun\u001b[49m\u001b[43m(\u001b[49m\u001b[43m_x\u001b[49m\u001b[43m,\u001b[49m\u001b[43m \u001b[49m\u001b[38;5;241;43m*\u001b[39;49m\u001b[43m_args\u001b[49m\u001b[43m,\u001b[49m\u001b[43m \u001b[49m\u001b[38;5;241;43m*\u001b[39;49m\u001b[38;5;241;43m*\u001b[39;49m\u001b[43m_kwargs\u001b[49m\u001b[43m)\u001b[49m\n",
      "File \u001b[0;32m~/GP/ICE-NODE/notebooks/../lib/ml/abstract_trainer.py:154\u001b[0m, in \u001b[0;36mTrainer.loss\u001b[0;34m(self, model, subject_interface, batch, args)\u001b[0m\n\u001b[1;32m    152\u001b[0m     \u001b[38;5;28;01mreturn\u001b[39;00m \u001b[38;5;28mself\u001b[39m\u001b[38;5;241m.\u001b[39munreg_loss(model, subject_interface, batch, args)\n\u001b[1;32m    153\u001b[0m \u001b[38;5;28;01melse\u001b[39;00m:\n\u001b[0;32m--> 154\u001b[0m     \u001b[38;5;28;01mreturn\u001b[39;00m \u001b[38;5;28;43mself\u001b[39;49m\u001b[38;5;241;43m.\u001b[39;49m\u001b[43mreg_loss\u001b[49m\u001b[43m(\u001b[49m\u001b[43mmodel\u001b[49m\u001b[43m,\u001b[49m\u001b[43m \u001b[49m\u001b[43msubject_interface\u001b[49m\u001b[43m,\u001b[49m\u001b[43m \u001b[49m\u001b[43mbatch\u001b[49m\u001b[43m,\u001b[49m\u001b[43m \u001b[49m\u001b[43margs\u001b[49m\u001b[43m)\u001b[49m\n",
      "File \u001b[0;32m~/GP/ICE-NODE/notebooks/../lib/ml/abstract_trainer.py:419\u001b[0m, in \u001b[0;36mODETrainer.reg_loss\u001b[0;34m(self, model, subject_interface, batch, args)\u001b[0m\n\u001b[1;32m    417\u001b[0m res \u001b[38;5;241m=\u001b[39m model(subject_interface, batch, args)\n\u001b[1;32m    418\u001b[0m preds \u001b[38;5;241m=\u001b[39m res[\u001b[38;5;124m'\u001b[39m\u001b[38;5;124mpredictions\u001b[39m\u001b[38;5;124m'\u001b[39m]\n\u001b[0;32m--> 419\u001b[0m l \u001b[38;5;241m=\u001b[39m \u001b[43mpreds\u001b[49m\u001b[38;5;241;43m.\u001b[39;49m\u001b[43mprediction_loss\u001b[49m\u001b[43m(\u001b[49m\u001b[38;5;28;43mself\u001b[39;49m\u001b[38;5;241;43m.\u001b[39;49m\u001b[43mdx_loss\u001b[49m\u001b[43m(\u001b[49m\u001b[43m)\u001b[49m\u001b[43m)\u001b[49m\n\u001b[1;32m    421\u001b[0m integration_weeks \u001b[38;5;241m=\u001b[39m \u001b[38;5;28mself\u001b[39m\u001b[38;5;241m.\u001b[39modeint_time(preds) \u001b[38;5;241m/\u001b[39m \u001b[38;5;241m7\u001b[39m\n\u001b[1;32m    422\u001b[0m l1_loss \u001b[38;5;241m=\u001b[39m model\u001b[38;5;241m.\u001b[39ml1()\n",
      "File \u001b[0;32m~/GP/ICE-NODE/notebooks/../lib/ehr/jax_interface.py:184\u001b[0m, in \u001b[0;36mBatchPredictedRisks.prediction_loss\u001b[0;34m(self, loss_f)\u001b[0m\n\u001b[1;32m    183\u001b[0m \u001b[38;5;28;01mdef\u001b[39;00m \u001b[38;5;21mprediction_loss\u001b[39m(\u001b[38;5;28mself\u001b[39m, loss_f: LossFunction):\n\u001b[0;32m--> 184\u001b[0m     loss \u001b[38;5;241m=\u001b[39m [\n\u001b[1;32m    185\u001b[0m         \u001b[38;5;28mself\u001b[39m\u001b[38;5;241m.\u001b[39msubject_prediction_loss(subject_id, loss_f)\n\u001b[1;32m    186\u001b[0m         \u001b[38;5;28;01mfor\u001b[39;00m subject_id \u001b[38;5;129;01min\u001b[39;00m \u001b[38;5;28mself\u001b[39m\u001b[38;5;241m.\u001b[39mkeys()\n\u001b[1;32m    187\u001b[0m     ]\n\u001b[1;32m    188\u001b[0m     \u001b[38;5;28;01mreturn\u001b[39;00m jnp\u001b[38;5;241m.\u001b[39mnanmean(jnp\u001b[38;5;241m.\u001b[39marray(loss))\n",
      "File \u001b[0;32m~/GP/ICE-NODE/notebooks/../lib/ehr/jax_interface.py:185\u001b[0m, in \u001b[0;36m<listcomp>\u001b[0;34m(.0)\u001b[0m\n\u001b[1;32m    183\u001b[0m \u001b[38;5;28;01mdef\u001b[39;00m \u001b[38;5;21mprediction_loss\u001b[39m(\u001b[38;5;28mself\u001b[39m, loss_f: LossFunction):\n\u001b[1;32m    184\u001b[0m     loss \u001b[38;5;241m=\u001b[39m [\n\u001b[0;32m--> 185\u001b[0m         \u001b[38;5;28;43mself\u001b[39;49m\u001b[38;5;241;43m.\u001b[39;49m\u001b[43msubject_prediction_loss\u001b[49m\u001b[43m(\u001b[49m\u001b[43msubject_id\u001b[49m\u001b[43m,\u001b[49m\u001b[43m \u001b[49m\u001b[43mloss_f\u001b[49m\u001b[43m)\u001b[49m\n\u001b[1;32m    186\u001b[0m         \u001b[38;5;28;01mfor\u001b[39;00m subject_id \u001b[38;5;129;01min\u001b[39;00m \u001b[38;5;28mself\u001b[39m\u001b[38;5;241m.\u001b[39mkeys()\n\u001b[1;32m    187\u001b[0m     ]\n\u001b[1;32m    188\u001b[0m     \u001b[38;5;28;01mreturn\u001b[39;00m jnp\u001b[38;5;241m.\u001b[39mnanmean(jnp\u001b[38;5;241m.\u001b[39marray(loss))\n",
      "File \u001b[0;32m~/GP/ICE-NODE/notebooks/../lib/ehr/jax_interface.py:178\u001b[0m, in \u001b[0;36mBatchPredictedRisks.subject_prediction_loss\u001b[0;34m(self, subject_id, loss_f)\u001b[0m\n\u001b[1;32m    175\u001b[0m     prediction\u001b[38;5;241m.\u001b[39mappend(r\u001b[38;5;241m.\u001b[39mprediction)\n\u001b[1;32m    177\u001b[0m outcome \u001b[38;5;241m=\u001b[39m jnp\u001b[38;5;241m.\u001b[39mvstack(outcome)\n\u001b[0;32m--> 178\u001b[0m prediction \u001b[38;5;241m=\u001b[39m \u001b[43mjnp\u001b[49m\u001b[38;5;241;43m.\u001b[39;49m\u001b[43mvstack\u001b[49m\u001b[43m(\u001b[49m\u001b[43mprediction\u001b[49m\u001b[43m)\u001b[49m\n\u001b[1;32m    179\u001b[0m mask \u001b[38;5;241m=\u001b[39m jnp\u001b[38;5;241m.\u001b[39mones_like(outcome)\n\u001b[1;32m    181\u001b[0m \u001b[38;5;28;01mreturn\u001b[39;00m loss_f(outcome, prediction, mask)\n",
      "File \u001b[0;32m~/GP/env/icenode-dev/lib/python3.8/site-packages/jax/_src/numpy/lax_numpy.py:1810\u001b[0m, in \u001b[0;36mvstack\u001b[0;34m(tup, dtype)\u001b[0m\n\u001b[1;32m   1808\u001b[0m   arrs \u001b[38;5;241m=\u001b[39m jax\u001b[38;5;241m.\u001b[39mvmap(atleast_2d)(tup)\n\u001b[1;32m   1809\u001b[0m \u001b[38;5;28;01melse\u001b[39;00m:\n\u001b[0;32m-> 1810\u001b[0m   arrs \u001b[38;5;241m=\u001b[39m [atleast_2d(m) \u001b[38;5;28;01mfor\u001b[39;00m m \u001b[38;5;129;01min\u001b[39;00m tup]\n\u001b[1;32m   1811\u001b[0m \u001b[38;5;28;01mreturn\u001b[39;00m concatenate(arrs, axis\u001b[38;5;241m=\u001b[39m\u001b[38;5;241m0\u001b[39m, dtype\u001b[38;5;241m=\u001b[39mdtype)\n",
      "File \u001b[0;32m~/GP/env/icenode-dev/lib/python3.8/site-packages/jax/_src/numpy/lax_numpy.py:1810\u001b[0m, in \u001b[0;36m<listcomp>\u001b[0;34m(.0)\u001b[0m\n\u001b[1;32m   1808\u001b[0m   arrs \u001b[38;5;241m=\u001b[39m jax\u001b[38;5;241m.\u001b[39mvmap(atleast_2d)(tup)\n\u001b[1;32m   1809\u001b[0m \u001b[38;5;28;01melse\u001b[39;00m:\n\u001b[0;32m-> 1810\u001b[0m   arrs \u001b[38;5;241m=\u001b[39m [\u001b[43matleast_2d\u001b[49m\u001b[43m(\u001b[49m\u001b[43mm\u001b[49m\u001b[43m)\u001b[49m \u001b[38;5;28;01mfor\u001b[39;00m m \u001b[38;5;129;01min\u001b[39;00m tup]\n\u001b[1;32m   1811\u001b[0m \u001b[38;5;28;01mreturn\u001b[39;00m concatenate(arrs, axis\u001b[38;5;241m=\u001b[39m\u001b[38;5;241m0\u001b[39m, dtype\u001b[38;5;241m=\u001b[39mdtype)\n",
      "    \u001b[0;31m[... skipping hidden 1 frame]\u001b[0m\n",
      "File \u001b[0;32m~/GP/env/icenode-dev/lib/python3.8/site-packages/jax/_src/api.py:626\u001b[0m, in \u001b[0;36m_cpp_jit.<locals>.cache_miss\u001b[0;34m(*args, **kwargs)\u001b[0m\n\u001b[1;32m    623\u001b[0m   out_flat \u001b[38;5;241m=\u001b[39m call_bind_continuation(execute(\u001b[38;5;241m*\u001b[39margs_flat))\n\u001b[1;32m    624\u001b[0m \u001b[38;5;28;01melse\u001b[39;00m:\n\u001b[1;32m    625\u001b[0m   out_flat \u001b[38;5;241m=\u001b[39m call_bind_continuation(\n\u001b[0;32m--> 626\u001b[0m       \u001b[43mtop_trace\u001b[49m\u001b[38;5;241;43m.\u001b[39;49m\u001b[43mprocess_call\u001b[49m\u001b[43m(\u001b[49m\u001b[43mprimitive\u001b[49m\u001b[43m,\u001b[49m\u001b[43m \u001b[49m\u001b[43mfun_\u001b[49m\u001b[43m,\u001b[49m\u001b[43m \u001b[49m\u001b[43mtracers\u001b[49m\u001b[43m,\u001b[49m\u001b[43m \u001b[49m\u001b[43mparams\u001b[49m\u001b[43m)\u001b[49m)\n\u001b[1;32m    627\u001b[0m out_pytree_def \u001b[38;5;241m=\u001b[39m out_tree()\n\u001b[1;32m    628\u001b[0m out \u001b[38;5;241m=\u001b[39m tree_unflatten(out_pytree_def, out_flat)\n",
      "File \u001b[0;32m~/GP/env/icenode-dev/lib/python3.8/site-packages/jax/interpreters/ad.py:339\u001b[0m, in \u001b[0;36mJVPTrace.process_call\u001b[0;34m(self, call_primitive, f, tracers, params)\u001b[0m\n\u001b[1;32m    337\u001b[0m update_params \u001b[38;5;241m=\u001b[39m call_param_updaters\u001b[38;5;241m.\u001b[39mget(call_primitive)\n\u001b[1;32m    338\u001b[0m new_params \u001b[38;5;241m=\u001b[39m update_params(params, which_nz) \u001b[38;5;28;01mif\u001b[39;00m update_params \u001b[38;5;28;01melse\u001b[39;00m params\n\u001b[0;32m--> 339\u001b[0m result \u001b[38;5;241m=\u001b[39m \u001b[43mcall_primitive\u001b[49m\u001b[38;5;241;43m.\u001b[39;49m\u001b[43mbind\u001b[49m\u001b[43m(\u001b[49m\u001b[43m_update_annotation\u001b[49m\u001b[43m(\u001b[49m\u001b[43mf_jvp\u001b[49m\u001b[43m,\u001b[49m\u001b[43m \u001b[49m\u001b[43mf\u001b[49m\u001b[38;5;241;43m.\u001b[39;49m\u001b[43min_type\u001b[49m\u001b[43m,\u001b[49m\u001b[43m \u001b[49m\u001b[43mwhich_nz\u001b[49m\u001b[43m)\u001b[49m\u001b[43m,\u001b[49m\n\u001b[1;32m    340\u001b[0m \u001b[43m                             \u001b[49m\u001b[38;5;241;43m*\u001b[39;49m\u001b[43margs\u001b[49m\u001b[43m,\u001b[49m\u001b[43m \u001b[49m\u001b[38;5;241;43m*\u001b[39;49m\u001b[38;5;241;43m*\u001b[39;49m\u001b[43mnew_params\u001b[49m\u001b[43m)\u001b[49m\n\u001b[1;32m    341\u001b[0m primal_out, tangent_out \u001b[38;5;241m=\u001b[39m tree_unflatten(out_tree(), result)\n\u001b[1;32m    342\u001b[0m tangent_out \u001b[38;5;241m=\u001b[39m [Zero(get_aval(p)\u001b[38;5;241m.\u001b[39mat_least_vspace()) \u001b[38;5;28;01mif\u001b[39;00m t \u001b[38;5;129;01mis\u001b[39;00m \u001b[38;5;28;01mNone\u001b[39;00m \u001b[38;5;28;01melse\u001b[39;00m t\n\u001b[1;32m    343\u001b[0m                \u001b[38;5;28;01mfor\u001b[39;00m p, t \u001b[38;5;129;01min\u001b[39;00m \u001b[38;5;28mzip\u001b[39m(primal_out, tangent_out)]\n",
      "File \u001b[0;32m~/GP/env/icenode-dev/lib/python3.8/site-packages/jax/core.py:2024\u001b[0m, in \u001b[0;36mCallPrimitive.bind\u001b[0;34m(self, fun, *args, **params)\u001b[0m\n\u001b[1;32m   2021\u001b[0m \u001b[38;5;28;01mdef\u001b[39;00m \u001b[38;5;21mbind\u001b[39m(\u001b[38;5;28mself\u001b[39m, fun, \u001b[38;5;241m*\u001b[39margs, \u001b[38;5;241m*\u001b[39m\u001b[38;5;241m*\u001b[39mparams):\n\u001b[1;32m   2022\u001b[0m   call_bind_continuation, top_trace, fun_, tracers, params \u001b[38;5;241m=\u001b[39m (\n\u001b[1;32m   2023\u001b[0m       call_bind_with_continuation(\u001b[38;5;28mself\u001b[39m, fun, \u001b[38;5;241m*\u001b[39margs, \u001b[38;5;241m*\u001b[39m\u001b[38;5;241m*\u001b[39mparams))\n\u001b[0;32m-> 2024\u001b[0m   outs \u001b[38;5;241m=\u001b[39m \u001b[43mtop_trace\u001b[49m\u001b[38;5;241;43m.\u001b[39;49m\u001b[43mprocess_call\u001b[49m\u001b[43m(\u001b[49m\u001b[38;5;28;43mself\u001b[39;49m\u001b[43m,\u001b[49m\u001b[43m \u001b[49m\u001b[43mfun_\u001b[49m\u001b[43m,\u001b[49m\u001b[43m \u001b[49m\u001b[43mtracers\u001b[49m\u001b[43m,\u001b[49m\u001b[43m \u001b[49m\u001b[43mparams\u001b[49m\u001b[43m)\u001b[49m\n\u001b[1;32m   2025\u001b[0m   \u001b[38;5;28;01mreturn\u001b[39;00m call_bind_continuation(outs)\n",
      "File \u001b[0;32m~/GP/env/icenode-dev/lib/python3.8/site-packages/jax/interpreters/partial_eval.py:265\u001b[0m, in \u001b[0;36mJaxprTrace.process_call\u001b[0;34m(self, primitive, f, tracers, params)\u001b[0m\n\u001b[1;32m    262\u001b[0m const_params \u001b[38;5;241m=\u001b[39m update_params(params, in_knowns, \u001b[38;5;241m0\u001b[39m)\n\u001b[1;32m    264\u001b[0m \u001b[38;5;66;03m# Run the call, getting known out vals and aux data used for staged-out call\u001b[39;00m\n\u001b[0;32m--> 265\u001b[0m out \u001b[38;5;241m=\u001b[39m \u001b[43mprimitive\u001b[49m\u001b[38;5;241;43m.\u001b[39;49m\u001b[43mbind\u001b[49m\u001b[43m(\u001b[49m\u001b[43m_update_annotation_known\u001b[49m\u001b[43m(\u001b[49m\u001b[43mf_\u001b[49m\u001b[43m,\u001b[49m\u001b[43m \u001b[49m\u001b[43mf\u001b[49m\u001b[38;5;241;43m.\u001b[39;49m\u001b[43min_type\u001b[49m\u001b[43m,\u001b[49m\u001b[43m \u001b[49m\u001b[43min_knowns\u001b[49m\u001b[43m)\u001b[49m\u001b[43m,\u001b[49m\n\u001b[1;32m    266\u001b[0m \u001b[43m                     \u001b[49m\u001b[38;5;241;43m*\u001b[39;49m\u001b[43min_consts\u001b[49m\u001b[43m,\u001b[49m\u001b[43m \u001b[49m\u001b[38;5;241;43m*\u001b[39;49m\u001b[38;5;241;43m*\u001b[39;49m\u001b[43mconst_params\u001b[49m\u001b[43m)\u001b[49m\n\u001b[1;32m    267\u001b[0m fwds, out_knowns, out_type, jaxpr, env \u001b[38;5;241m=\u001b[39m aux()\n\u001b[1;32m    268\u001b[0m \u001b[38;5;66;03m# Split apart known outputs from the original call and non-fwded residuals.\u001b[39;00m\n",
      "File \u001b[0;32m~/GP/env/icenode-dev/lib/python3.8/site-packages/jax/core.py:2023\u001b[0m, in \u001b[0;36mCallPrimitive.bind\u001b[0;34m(self, fun, *args, **params)\u001b[0m\n\u001b[1;32m   2021\u001b[0m \u001b[38;5;28;01mdef\u001b[39;00m \u001b[38;5;21mbind\u001b[39m(\u001b[38;5;28mself\u001b[39m, fun, \u001b[38;5;241m*\u001b[39margs, \u001b[38;5;241m*\u001b[39m\u001b[38;5;241m*\u001b[39mparams):\n\u001b[1;32m   2022\u001b[0m   call_bind_continuation, top_trace, fun_, tracers, params \u001b[38;5;241m=\u001b[39m (\n\u001b[0;32m-> 2023\u001b[0m       \u001b[43mcall_bind_with_continuation\u001b[49m\u001b[43m(\u001b[49m\u001b[38;5;28;43mself\u001b[39;49m\u001b[43m,\u001b[49m\u001b[43m \u001b[49m\u001b[43mfun\u001b[49m\u001b[43m,\u001b[49m\u001b[43m \u001b[49m\u001b[38;5;241;43m*\u001b[39;49m\u001b[43margs\u001b[49m\u001b[43m,\u001b[49m\u001b[43m \u001b[49m\u001b[38;5;241;43m*\u001b[39;49m\u001b[38;5;241;43m*\u001b[39;49m\u001b[43mparams\u001b[49m\u001b[43m)\u001b[49m)\n\u001b[1;32m   2024\u001b[0m   outs \u001b[38;5;241m=\u001b[39m top_trace\u001b[38;5;241m.\u001b[39mprocess_call(\u001b[38;5;28mself\u001b[39m, fun_, tracers, params)\n\u001b[1;32m   2025\u001b[0m   \u001b[38;5;28;01mreturn\u001b[39;00m call_bind_continuation(outs)\n",
      "File \u001b[0;32m~/GP/env/icenode-dev/lib/python3.8/site-packages/jax/core.py:2036\u001b[0m, in \u001b[0;36mcall_bind_with_continuation\u001b[0;34m(primitive, fun, *args, **params)\u001b[0m\n\u001b[1;32m   2035\u001b[0m \u001b[38;5;28;01mdef\u001b[39;00m \u001b[38;5;21mcall_bind_with_continuation\u001b[39m(primitive: CallPrimitive, fun, \u001b[38;5;241m*\u001b[39margs, \u001b[38;5;241m*\u001b[39m\u001b[38;5;241m*\u001b[39mparams):\n\u001b[0;32m-> 2036\u001b[0m   top_trace \u001b[38;5;241m=\u001b[39m \u001b[43mfind_top_trace\u001b[49m\u001b[43m(\u001b[49m\u001b[43margs\u001b[49m\u001b[43m)\u001b[49m\n\u001b[1;32m   2037\u001b[0m   fun_, env_trace_todo \u001b[38;5;241m=\u001b[39m process_env_traces_call(\n\u001b[1;32m   2038\u001b[0m       fun, primitive, top_trace \u001b[38;5;129;01mand\u001b[39;00m top_trace\u001b[38;5;241m.\u001b[39mlevel, \u001b[38;5;28mtuple\u001b[39m(params\u001b[38;5;241m.\u001b[39mitems()))\n\u001b[1;32m   2039\u001b[0m   tracers \u001b[38;5;241m=\u001b[39m \u001b[38;5;28mmap\u001b[39m(top_trace\u001b[38;5;241m.\u001b[39mfull_raise, args)\n",
      "File \u001b[0;32m~/GP/env/icenode-dev/lib/python3.8/site-packages/jax/core.py:1126\u001b[0m, in \u001b[0;36mfind_top_trace\u001b[0;34m(xs)\u001b[0m\n\u001b[1;32m   1123\u001b[0m dynamic \u001b[38;5;241m=\u001b[39m thread_local_state\u001b[38;5;241m.\u001b[39mtrace_state\u001b[38;5;241m.\u001b[39mtrace_stack\u001b[38;5;241m.\u001b[39mdynamic\n\u001b[1;32m   1124\u001b[0m top_main \u001b[38;5;241m=\u001b[39m (dynamic \u001b[38;5;28;01mif\u001b[39;00m top_main \u001b[38;5;129;01mis\u001b[39;00m \u001b[38;5;28;01mNone\u001b[39;00m \u001b[38;5;129;01mor\u001b[39;00m dynamic\u001b[38;5;241m.\u001b[39mlevel \u001b[38;5;241m>\u001b[39m top_main\u001b[38;5;241m.\u001b[39mlevel\n\u001b[1;32m   1125\u001b[0m             \u001b[38;5;28;01melse\u001b[39;00m top_main)\n\u001b[0;32m-> 1126\u001b[0m \u001b[38;5;28;01mreturn\u001b[39;00m top_main \u001b[38;5;129;01mand\u001b[39;00m top_main\u001b[38;5;241m.\u001b[39mwith_cur_sublevel()\n",
      "\u001b[0;31mKeyboardInterrupt\u001b[0m: "
     ]
    }
   ],
   "source": [
    "m3_icenode_results = m3_train('ICE-NODE')"
   ]
  },
  {
   "cell_type": "code",
   "execution_count": null,
   "id": "c91a09d4",
   "metadata": {},
   "outputs": [],
   "source": [
    "m4_icenode_results = m4_train('ICE-NODE')"
   ]
  },
  {
   "cell_type": "markdown",
   "id": "bf6a21bb",
   "metadata": {},
   "source": [
    "#### ICE-NODE_UNIFORM"
   ]
  },
  {
   "cell_type": "code",
   "execution_count": null,
   "id": "9e9694c6",
   "metadata": {},
   "outputs": [],
   "source": [
    "m3_icenode_uniform_results = m3_train('ICE-NODE_UNIFORM')"
   ]
  },
  {
   "cell_type": "code",
   "execution_count": null,
   "id": "f868ee28",
   "metadata": {},
   "outputs": [],
   "source": [
    "m4_icenode_uniform_results = m4_train('ICE-NODE_UNIFORM')"
   ]
  },
  {
   "cell_type": "markdown",
   "id": "083317e8",
   "metadata": {},
   "source": [
    "#### GRU"
   ]
  },
  {
   "cell_type": "code",
   "execution_count": null,
   "id": "49726833",
   "metadata": {},
   "outputs": [
    {
     "name": "stderr",
     "output_type": "stream",
     "text": [
      "\r",
      "  0%|                                                                                                                               | 0/10832 [00:00<?, ?it/s]"
     ]
    }
   ],
   "source": [
    "m3_gru_results = m3_train('GRU')"
   ]
  },
  {
   "cell_type": "code",
   "execution_count": null,
   "id": "72be64a0",
   "metadata": {},
   "outputs": [],
   "source": [
    "m4_gru_results = m4_train('GRU')"
   ]
  },
  {
   "cell_type": "markdown",
   "id": "78ad24c2",
   "metadata": {},
   "source": [
    "#### RETAIN"
   ]
  },
  {
   "cell_type": "code",
   "execution_count": null,
   "id": "f2182d47",
   "metadata": {},
   "outputs": [],
   "source": [
    "m3_retain_results = m3_train('RETAIN')"
   ]
  },
  {
   "cell_type": "code",
   "execution_count": null,
   "id": "72f0b60c",
   "metadata": {},
   "outputs": [],
   "source": [
    "m4_retain_results = m4_train('RETAIN')"
   ]
  },
  {
   "cell_type": "code",
   "execution_count": 22,
   "id": "cda3b7b5",
   "metadata": {},
   "outputs": [
    {
     "name": "stderr",
     "output_type": "stream",
     "text": [
      "  0%|                                                                                                                                | 0/1439 [00:00<?, ?it/s]/home/asem/GP/env/icenode-dev/lib/python3.8/zipfile.py:1517: UserWarning: Duplicate name: 'step0000.eqx'\n",
      "  return self._open_to_write(zinfo, force_zip64=force_zip64)\n",
      "  1%|█▏                                                                                                                   | 14/1439 [06:52<3:07:14,  7.88s/it]/home/asem/GP/env/icenode-dev/lib/python3.8/zipfile.py:1517: UserWarning: Duplicate name: 'step0001.eqx'\n",
      "  return self._open_to_write(zinfo, force_zip64=force_zip64)\n",
      "  2%|██▎                                                                                                                  | 29/1439 [13:33<2:46:27,  7.08s/it]/home/asem/GP/env/icenode-dev/lib/python3.8/zipfile.py:1517: UserWarning: Duplicate name: 'step0002.eqx'\n",
      "  return self._open_to_write(zinfo, force_zip64=force_zip64)\n",
      "  3%|███▍                                                                                                                 | 43/1439 [20:17<3:06:21,  8.01s/it]/home/asem/GP/env/icenode-dev/lib/python3.8/zipfile.py:1517: UserWarning: Duplicate name: 'step0003.eqx'\n",
      "  return self._open_to_write(zinfo, force_zip64=force_zip64)\n",
      "  4%|████▋                                                                                                                | 58/1439 [26:58<2:44:47,  7.16s/it]/home/asem/GP/env/icenode-dev/lib/python3.8/zipfile.py:1517: UserWarning: Duplicate name: 'step0004.eqx'\n",
      "  return self._open_to_write(zinfo, force_zip64=force_zip64)\n",
      "  5%|█████▊                                                                                                               | 72/1439 [33:22<2:29:29,  6.56s/it]/home/asem/GP/env/icenode-dev/lib/python3.8/zipfile.py:1517: UserWarning: Duplicate name: 'step0005.eqx'\n",
      "  return self._open_to_write(zinfo, force_zip64=force_zip64)\n",
      "  6%|███████                                                                                                              | 87/1439 [40:09<2:46:02,  7.37s/it]/home/asem/GP/env/icenode-dev/lib/python3.8/zipfile.py:1517: UserWarning: Duplicate name: 'step0006.eqx'\n",
      "  return self._open_to_write(zinfo, force_zip64=force_zip64)\n",
      "  7%|████████▏                                                                                                           | 101/1439 [46:48<2:47:42,  7.52s/it]/home/asem/GP/env/icenode-dev/lib/python3.8/zipfile.py:1517: UserWarning: Duplicate name: 'step0007.eqx'\n",
      "  return self._open_to_write(zinfo, force_zip64=force_zip64)\n",
      "  8%|█████████▎                                                                                                          | 116/1439 [53:45<3:00:38,  8.19s/it]/home/asem/GP/env/icenode-dev/lib/python3.8/zipfile.py:1517: UserWarning: Duplicate name: 'step0008.eqx'\n",
      "  return self._open_to_write(zinfo, force_zip64=force_zip64)\n",
      "  9%|██████████▎                                                                                                       | 130/1439 [1:00:29<2:41:49,  7.42s/it]/home/asem/GP/env/icenode-dev/lib/python3.8/zipfile.py:1517: UserWarning: Duplicate name: 'step0009.eqx'\n",
      "  return self._open_to_write(zinfo, force_zip64=force_zip64)\n",
      " 10%|███████████▍                                                                                                      | 145/1439 [1:07:14<2:43:14,  7.57s/it]/home/asem/GP/env/icenode-dev/lib/python3.8/zipfile.py:1517: UserWarning: Duplicate name: 'step0010.eqx'\n",
      "  return self._open_to_write(zinfo, force_zip64=force_zip64)\n",
      " 11%|████████████▌                                                                                                     | 159/1439 [1:13:38<2:32:48,  7.16s/it]/home/asem/GP/env/icenode-dev/lib/python3.8/zipfile.py:1517: UserWarning: Duplicate name: 'step0011.eqx'\n",
      "  return self._open_to_write(zinfo, force_zip64=force_zip64)\n",
      " 12%|█████████████▊                                                                                                    | 174/1439 [1:20:17<2:44:43,  7.81s/it]/home/asem/GP/env/icenode-dev/lib/python3.8/zipfile.py:1517: UserWarning: Duplicate name: 'step0012.eqx'\n",
      "  return self._open_to_write(zinfo, force_zip64=force_zip64)\n",
      " 13%|██████████████▉                                                                                                   | 188/1439 [1:26:51<2:36:24,  7.50s/it]/home/asem/GP/env/icenode-dev/lib/python3.8/zipfile.py:1517: UserWarning: Duplicate name: 'step0013.eqx'\n",
      "  return self._open_to_write(zinfo, force_zip64=force_zip64)\n",
      " 14%|████████████████                                                                                                  | 203/1439 [1:33:30<2:34:03,  7.48s/it]/home/asem/GP/env/icenode-dev/lib/python3.8/zipfile.py:1517: UserWarning: Duplicate name: 'step0014.eqx'\n",
      "  return self._open_to_write(zinfo, force_zip64=force_zip64)\n",
      " 15%|█████████████████▏                                                                                                | 217/1439 [1:40:14<2:57:39,  8.72s/it]/home/asem/GP/env/icenode-dev/lib/python3.8/zipfile.py:1517: UserWarning: Duplicate name: 'step0015.eqx'\n",
      "  return self._open_to_write(zinfo, force_zip64=force_zip64)\n",
      " 16%|██████████████████▍                                                                                               | 232/1439 [1:46:52<2:38:15,  7.87s/it]/home/asem/GP/env/icenode-dev/lib/python3.8/zipfile.py:1517: UserWarning: Duplicate name: 'step0016.eqx'\n",
      "  return self._open_to_write(zinfo, force_zip64=force_zip64)\n",
      " 17%|███████████████████▍                                                                                              | 246/1439 [1:53:27<2:28:44,  7.48s/it]/home/asem/GP/env/icenode-dev/lib/python3.8/zipfile.py:1517: UserWarning: Duplicate name: 'step0017.eqx'\n",
      "  return self._open_to_write(zinfo, force_zip64=force_zip64)\n",
      " 18%|████████████████████▋                                                                                             | 261/1439 [2:00:09<2:37:29,  8.02s/it]/home/asem/GP/env/icenode-dev/lib/python3.8/zipfile.py:1517: UserWarning: Duplicate name: 'step0018.eqx'\n",
      "  return self._open_to_write(zinfo, force_zip64=force_zip64)\n",
      " 19%|█████████████████████▊                                                                                            | 275/1439 [2:06:46<2:52:22,  8.89s/it]/home/asem/GP/env/icenode-dev/lib/python3.8/zipfile.py:1517: UserWarning: Duplicate name: 'step0019.eqx'\n",
      "  return self._open_to_write(zinfo, force_zip64=force_zip64)\n",
      " 20%|██████████████████████▉                                                                                           | 290/1439 [2:13:38<2:31:21,  7.90s/it]/home/asem/GP/env/icenode-dev/lib/python3.8/zipfile.py:1517: UserWarning: Duplicate name: 'step0020.eqx'\n",
      "  return self._open_to_write(zinfo, force_zip64=force_zip64)\n",
      " 21%|████████████████████████▏                                                                                         | 305/1439 [2:20:26<2:19:01,  7.36s/it]/home/asem/GP/env/icenode-dev/lib/python3.8/zipfile.py:1517: UserWarning: Duplicate name: 'step0021.eqx'\n",
      "  return self._open_to_write(zinfo, force_zip64=force_zip64)\n",
      " 22%|█████████████████████████▎                                                                                        | 319/1439 [2:27:01<2:12:20,  7.09s/it]/home/asem/GP/env/icenode-dev/lib/python3.8/zipfile.py:1517: UserWarning: Duplicate name: 'step0022.eqx'\n",
      "  return self._open_to_write(zinfo, force_zip64=force_zip64)\n",
      " 23%|██████████████████████████▍                                                                                       | 334/1439 [2:33:37<2:12:50,  7.21s/it]/home/asem/GP/env/icenode-dev/lib/python3.8/zipfile.py:1517: UserWarning: Duplicate name: 'step0023.eqx'\n",
      "  return self._open_to_write(zinfo, force_zip64=force_zip64)\n",
      " 24%|███████████████████████████▌                                                                                      | 348/1439 [2:40:14<2:12:42,  7.30s/it]/home/asem/GP/env/icenode-dev/lib/python3.8/zipfile.py:1517: UserWarning: Duplicate name: 'step0024.eqx'\n",
      "  return self._open_to_write(zinfo, force_zip64=force_zip64)\n",
      " 25%|████████████████████████████▊                                                                                     | 363/1439 [2:47:02<2:12:07,  7.37s/it]/home/asem/GP/env/icenode-dev/lib/python3.8/zipfile.py:1517: UserWarning: Duplicate name: 'step0025.eqx'\n",
      "  return self._open_to_write(zinfo, force_zip64=force_zip64)\n",
      " 26%|█████████████████████████████▊                                                                                    | 377/1439 [2:53:46<2:25:45,  8.23s/it]/home/asem/GP/env/icenode-dev/lib/python3.8/zipfile.py:1517: UserWarning: Duplicate name: 'step0026.eqx'\n",
      "  return self._open_to_write(zinfo, force_zip64=force_zip64)\n",
      "100%|██████████████████████████████████████████████████████████████████████████████████████████████████████████████████| 1439/1439 [11:09:19<00:00, 27.91s/it]\n"
     ]
    }
   ],
   "source": [
    "m3_logreg_results = m3_train('LogReg')"
   ]
  },
  {
   "cell_type": "code",
   "execution_count": null,
   "id": "efcce213",
   "metadata": {},
   "outputs": [],
   "source": [
    "m4_logreg_results = m4_train('LogReg')"
   ]
  },
  {
   "cell_type": "code",
   "execution_count": null,
   "id": "35f0659c",
   "metadata": {},
   "outputs": [],
   "source": []
  }
 ],
 "metadata": {
  "kernelspec": {
   "display_name": "Python 3 (ipykernel)",
   "language": "python",
   "name": "python3"
  },
  "language_info": {
   "codemirror_mode": {
    "name": "ipython",
    "version": 3
   },
   "file_extension": ".py",
   "mimetype": "text/x-python",
   "name": "python",
   "nbconvert_exporter": "python",
   "pygments_lexer": "ipython3",
   "version": "3.8.13"
  }
 },
 "nbformat": 4,
 "nbformat_minor": 5
}
