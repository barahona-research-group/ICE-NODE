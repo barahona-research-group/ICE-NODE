{
 "cells": [
  {
   "cell_type": "code",
   "execution_count": 1,
   "id": "f24981cf-f9e9-43ff-bf76-a84f44e4e9ce",
   "metadata": {},
   "source": [
    "%load_ext autoreload\n",
    "%autoreload 2\n",
    "import sys\n",
    "    \n",
    "\n",
    "sys.path.append(\"../..\")\n",
    "from lib.ehr.example_schemes.snomed import SNOMEDCT"
   ],
   "outputs": []
  },
  {
   "cell_type": "code",
   "execution_count": 2,
   "id": "974e037f-0a56-4b47-aa93-f03fcf33c5e5",
   "metadata": {},
   "source": [
    "SNOMED_ROOT = '/home/asem/GP/ehr-data/SNOMED-CT/derived'\n",
    "snomed = SNOMEDCT.from_files(\n",
    "    name='SNOMED_20240925000001',\n",
    "    cdb_active_path=f'{SNOMED_ROOT}/snomed_cdb_csv_SNOMEDCT_full_active_UK_drug_ext_Release_20240925000001.csv',\n",
    "    cdb_inactive_path=f'{SNOMED_ROOT}/snomed_cdb_csv_SNOMEDCT_full_inactive_UK_drug_ext_Release_20240925000001.csv',\n",
    "    ch2pt_json_path=f'{SNOMED_ROOT}/20240925_isa_active_rela_ch2pt.json')"
   ],
   "outputs": []
  },
  {
   "cell_type": "code",
   "execution_count": 78,
   "id": "3de21267-a8f3-4434-8776-cf7549287406",
   "metadata": {},
   "source": [
    "import pandas as pd\n",
    "\n",
    "relations_of_interest = [\n",
    "    'S-370132008', # Scale type\n",
    "    'S-370130000', # Proporty\n",
    "    'S-704319004', # Inheres-in\n",
    "    'S-718497002', # Inherent location (commented, small size)\n",
    "    # 'S-704321009', # Charecterizes (commented because it gives non-unique relation type per code)\n",
    "]\n",
    "\n",
    "def expand_desc(x):\n",
    "    return f'{snomed.desc[x]} ({x})' if x in snomed.desc else 'NA'\n",
    "\n",
    "\n",
    "scale_types = ['S-26716007', # qualitative\n",
    "               'S-30766002', # quantitative\n",
    "               'S-117362005', # nominal value (standardized measurment)\n",
    "               'S-117363000', # ordinal value.\n",
    "               'S-117365007' # ordinal or quantitative\n",
    "              ]\n",
    "\n",
    "\n",
    "scaled_snomed_codes_relats = pd.read_csv('/home/asem/GP/ehr-data/SNOMED-CT/derived/scaled_codes_relations.csv', index_col=[0])\n",
    "# select codes that can be quantitative.\n",
    "quantitative_snomed_codes = scaled_snomed_codes_relats[scaled_snomed_codes_relats.destinationId.isin([ 'S-30766002', 'S-117365007'])].sourceId.unique()\n",
    "\n",
    "quantitative_snomed_codes_relats = scaled_snomed_codes_relats[scaled_snomed_codes_relats.sourceId.isin(quantitative_snomed_codes)]\n",
    "quantitative_snomed_codes_relats = quantitative_snomed_codes_relats[quantitative_snomed_codes_relats.typeId.isin(relations_of_interest)]\n",
    "\n",
    "\n",
    "# print(quantitative_snomed_codes_relats.typeId.value_counts())\n",
    "\n",
    "\n",
    "quantitative_snomed_codes_relats.set_index(['sourceId', 'typeId']).index.is_unique\n",
    "\n",
    "scale_type = quantitative_snomed_codes_relats[quantitative_snomed_codes_relats.typeId == 'S-370132008'].set_index(['sourceId'])['destinationId'].to_dict()\n",
    "property = quantitative_snomed_codes_relats[quantitative_snomed_codes_relats.typeId == 'S-370130000'].set_index(['sourceId'])['destinationId'].to_dict()\n",
    "inheres_in = quantitative_snomed_codes_relats[quantitative_snomed_codes_relats.typeId == 'S-704319004'].set_index(['sourceId'])['destinationId'].to_dict()\n",
    "inherent_loc = quantitative_snomed_codes_relats[quantitative_snomed_codes_relats.typeId == 'S-718497002'].set_index(['sourceId'])['destinationId'].to_dict()\n",
    "\n",
    "scaled_codes = pd.DataFrame({'prefixed_code': quantitative_snomed_codes_relats.sourceId.unique()})\n",
    "scaled_codes['code'] = scaled_codes.prefixed_code.map(lambda x: x.split('-')[1])\n",
    "scaled_codes['name'] = scaled_codes.prefixed_code.map(snomed.desc)\n",
    "scaled_codes['scale_type'] = scaled_codes['prefixed_code'].map(scale_type).map(expand_desc)\n",
    "scaled_codes['property'] = scaled_codes['prefixed_code'].map(property).map(expand_desc)\n",
    "scaled_codes['inheres_in'] = scaled_codes['prefixed_code'].map(inheres_in | inherent_loc).map(expand_desc)\n",
    "\n",
    "scaled_codes = scaled_codes.set_index(['scale_type', 'property', 'inheres_in']).sort_index()\n",
    "# Which relation type is unique.\n",
    "# relation_types = quantitative_snomed_codes_relats.typeId.unique()\n",
    "# for typeId in relation_types:\n",
    "#     df = quantitative_snomed_codes_relats[quantitative_snomed_codes_relats.typeId == typeId]\n",
    "#     if df.set_index(['sourceId']).index.is_unique == False:\n",
    "#         print(typeId)"
   ],
   "outputs": []
  },
  {
   "cell_type": "code",
   "execution_count": 84,
   "id": "d8b92a1d-f6bc-4a70-84ce-64e95d72f07b",
   "metadata": {},
   "source": [
    "snomed.desc['S-1031981000000109']"
   ],
   "outputs": []
  },
  {
   "cell_type": "code",
   "execution_count": 83,
   "id": "4900d2e6-ba30-4556-b064-d5501ea37604",
   "metadata": {},
   "source": [
    "with pd.ExcelWriter('scaled_codes.xlsx', mode='w', engine='xlsxwriter') as writer:  \n",
    "    scaled_codes.to_excel(writer, sheet_name='Sheet_1')"
   ],
   "outputs": []
  },
  {
   "cell_type": "code",
   "execution_count": 73,
   "id": "8a08caa3-a514-4aa6-a7fe-128a05a14fd4",
   "metadata": {},
   "source": [
    "len(scale_type), len(property), len(inheres_in), len(inherent_loc), "
   ],
   "outputs": []
  },
  {
   "cell_type": "code",
   "execution_count": 56,
   "id": "fdb11ec2-cbfa-4248-9d97-eb4c2d0d26e7",
   "metadata": {},
   "source": [
    "quantitative_snomed_codes_relats.sourceId = quantitative_snomed_codes_relats.sourceId.map(expand_desc)\n",
    "quantitative_snomed_codes_relats.typeId = quantitative_snomed_codes_relats.typeId.map(expand_desc)\n",
    "quantitative_snomed_codes_relats.destinationId = quantitative_snomed_codes_relats.destinationId.map(expand_desc)\n",
    "quantitative_snomed_codes_relats.set_index(['typeId', 'destinationId'])[['sourceId']].sort_index()"
   ],
   "outputs": []
  },
  {
   "cell_type": "code",
   "execution_count": 25,
   "id": "41e86b31-b9ef-4561-8eb9-17377310e88a",
   "metadata": {},
   "source": [
    "snomed.desc['S-117363000']"
   ],
   "outputs": []
  },
  {
   "cell_type": "code",
   "execution_count": 3,
   "id": "6f70b961-950d-4b2c-9c95-2f064c64e327",
   "metadata": {},
   "source": [
    "# digraph = snomed.to_networkx()"
   ],
   "outputs": []
  },
  {
   "cell_type": "code",
   "execution_count": 4,
   "id": "62e0f8a6-3da0-43f2-ae73-dda6dc6b2e39",
   "metadata": {},
   "source": [
    "from tqdm import tqdm\n",
    "\n",
    "def detect_simple_cycle(graph):\n",
    "    vertices = set(graph.keys()) | set.union(*graph.values())\n",
    "    visited = {k: False for k in vertices}\n",
    "    rec_stack = []\n",
    "\n",
    "    for v in tqdm(vertices):\n",
    "        if not visited[v]:\n",
    "            if dfs_util(graph, v, visited, rec_stack):\n",
    "                return True\n",
    "\n",
    "    return False\n",
    "\n",
    "def dfs_util(graph, v, visited, rec_stack):\n",
    "    visited[v] = True\n",
    "    rec_stack.append(v)\n",
    "\n",
    "    for neighbor in graph.get(v, []):\n",
    "        if visited[neighbor]:\n",
    "            if neighbor in rec_stack:\n",
    "                return True\n",
    "        elif not visited[neighbor]:\n",
    "            if dfs_util(graph, neighbor, visited, rec_stack):\n",
    "                return True\n",
    "\n",
    "    rec_stack.pop()\n",
    "    return False\n",
    "    \n",
    "detect_simple_cycle(snomed.ch2pt)"
   ],
   "outputs": []
  },
  {
   "cell_type": "code",
   "execution_count": 10,
   "id": "55bbe133-8aac-408b-b546-4c4eefb511ab",
   "metadata": {},
   "source": [
    "observable_entity = snomed.code_successors_bfs(\"S-363787002\", False)"
   ],
   "outputs": []
  },
  {
   "cell_type": "code",
   "execution_count": 16,
   "id": "e7003475-85ce-4bac-8e4a-53e1e0e509de",
   "metadata": {},
   "source": [
    "observables_diagraph =snomed.to_networkx(observable_entity)"
   ],
   "outputs": []
  },
  {
   "cell_type": "code",
   "execution_count": 17,
   "id": "a1b1e424-0c8d-4eea-a32d-8b842f636329",
   "metadata": {},
   "source": [
    "observables_diagraph"
   ],
   "outputs": []
  },
  {
   "cell_type": "code",
   "execution_count": null,
   "id": "c4b5b1c0-3a16-47b3-8679-4975c7017742",
   "metadata": {},
   "source": [],
   "outputs": []
  }
 ],
 "metadata": {
  "kernelspec": {
   "display_name": "Python 3 (ipykernel)",
   "language": "python",
   "name": "python3"
  },
  "language_info": {
   "codemirror_mode": {
    "name": "ipython",
    "version": 3
   },
   "file_extension": ".py",
   "mimetype": "text/x-python",
   "name": "python",
   "nbconvert_exporter": "python",
   "pygments_lexer": "ipython3",
   "version": "3.11.8"
  }
 },
 "nbformat": 4,
 "nbformat_minor": 5
}
