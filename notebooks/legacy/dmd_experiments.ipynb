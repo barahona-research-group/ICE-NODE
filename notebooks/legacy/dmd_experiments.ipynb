{
 "cells": [
  {
   "cell_type": "code",
   "execution_count": 1,
   "id": "482adf66",
   "metadata": {},
   "source": [
    "%load_ext autoreload\n",
    "%autoreload 2\n",
    "import sys\n",
    "import os\n",
    "import glob\n",
    "import random\n",
    "from collections import defaultdict\n",
    "from pathlib import Path\n",
    "\n",
    "from IPython.display import display\n",
    "import numpy as np\n",
    "import pandas as pd\n",
    "\n",
    "from tqdm import tqdm\n",
    "import jax\n",
    "jax.config.update('jax_platform_name', 'gpu')"
   ],
   "outputs": []
  },
  {
   "cell_type": "code",
   "execution_count": 2,
   "id": "99407d2b",
   "metadata": {},
   "source": [
    "# !pip install PyDMD"
   ],
   "outputs": []
  },
  {
   "cell_type": "code",
   "execution_count": 3,
   "id": "5bd6bcef",
   "metadata": {},
   "source": [
    "sys.path.append(\"..\")\n",
    "\n",
    "from lib import utils as U\n",
    "from lib.ehr.dataset import load_dataset"
   ],
   "outputs": []
  },
  {
   "cell_type": "code",
   "execution_count": 4,
   "id": "2c38a6e7",
   "metadata": {},
   "source": [
    "# Assign the folder of the dataset to `DATA_FILE`.\n",
    "\n",
    "HOME = os.environ.get('HOME')\n",
    "DATA_DIR = f'{HOME}/GP/ehr-data'\n",
    "SOURCE_DIR = os.path.abspath(\"..\")"
   ],
   "outputs": []
  },
  {
   "cell_type": "code",
   "execution_count": 5,
   "id": "2fee9220",
   "metadata": {},
   "source": [
    "\n",
    "output_dir = 'mimic_artefacts'\n",
    "Path(output_dir).mkdir(parents=True, exist_ok=True)"
   ],
   "outputs": []
  },
  {
   "cell_type": "code",
   "execution_count": 6,
   "id": "3a2a97f8",
   "metadata": {},
   "source": [
    "with U.modified_environ(DATA_DIR=DATA_DIR):\n",
    "    m3_dataset = load_dataset('M3')\n",
    "    m4_dataset = load_dataset('M4')\n",
    "   "
   ],
   "outputs": []
  },
  {
   "cell_type": "code",
   "execution_count": 7,
   "id": "6a9a8fbb",
   "metadata": {},
   "source": [
    "from lib.ehr.coding_scheme import DxCCS, DxFlatCCS, DxICD9, DxICD10\n",
    "from lib.ehr import Subject_JAX\n",
    "from lib.ehr import StaticInfoFlags\n",
    "\n",
    "%load_ext autoreload\n",
    "%autoreload 2"
   ],
   "outputs": []
  },
  {
   "cell_type": "code",
   "execution_count": 8,
   "id": "cd5d91ce",
   "metadata": {},
   "source": [
    "from lib.ehr import OutcomeExtractor, SurvivalOutcomeExtractor\n",
    "outcome_class = SurvivalOutcomeExtractor"
   ],
   "outputs": []
  },
  {
   "cell_type": "code",
   "execution_count": 9,
   "id": "5ca09f69",
   "metadata": {},
   "source": [
    "code_scheme = {\n",
    "    'dx': DxCCS(), # other options \n",
    "    'outcome': SurvivalOutcomeExtractor('dx_flatccs_filter_v1')\n",
    "}"
   ],
   "outputs": []
  },
  {
   "cell_type": "code",
   "execution_count": 10,
   "id": "1d8321ca",
   "metadata": {},
   "source": [
    "static_info_flags = StaticInfoFlags(gender=True, age=True)\n",
    "\n",
    "m3_interface = Subject_JAX.from_dataset(m3_dataset, \n",
    "                                        code_scheme=code_scheme, \n",
    "                                        static_info_flags=static_info_flags,\n",
    "                                       data_max_size_gb=1)\n",
    "m4_interface = Subject_JAX.from_dataset(m4_dataset, \n",
    "                                        code_scheme=code_scheme, \n",
    "                                        static_info_flags=static_info_flags,\n",
    "                                       data_max_size_gb=1)"
   ],
   "outputs": []
  },
  {
   "cell_type": "code",
   "execution_count": 11,
   "id": "ccc81172",
   "metadata": {},
   "source": [
    "\n",
    "def subject_outcome_acquisition_sequence(interface, subject_adms, resolution=7):\n",
    "    current_time = resolution\n",
    "    X = [subject_adms[0].outcome[0]]\n",
    "    for adm in subject_adms[1:]:\n",
    "        new_outcome = np.maximum(X[-1], adm.outcome[0])\n",
    "        if adm.admission_time <= current_time:\n",
    "            X[-1] = new_outcome\n",
    "            continue\n",
    "\n",
    "        while current_time < adm.admission_time:\n",
    "            current_time += resolution\n",
    "            X.append(new_outcome)\n",
    "\n",
    "    return X\n",
    "\n",
    "def outcome_acquisition_sequence(interface, resolution=7):\n",
    "    return {\n",
    "        i: subject_outcome_acquisition_sequence(interface, adms, resolution)\n",
    "        for i, adms in interface.items()\n",
    "    }\n",
    "\n",
    "def outcome_acquisition_transition(interface, resolution=7):\n",
    "    sequence = outcome_acquisition_sequence(interface, resolution)\n",
    "    X_prev, X_next = [], []\n",
    "    for i, seq in sequence.items():\n",
    "        X_prev.extend(seq[:-1])\n",
    "        X_next.extend(seq[1:])\n",
    "    return X_prev, X_next, sequence"
   ],
   "outputs": []
  },
  {
   "cell_type": "code",
   "execution_count": 51,
   "id": "0594983a",
   "metadata": {},
   "source": [
    "X_prev, X_next, ack_seq = outcome_acquisition_transition(m3_interface, 30)\n",
    "X_prev = np.stack(X_prev, axis=1)\n",
    "X_next = np.stack(X_next, axis=1)"
   ],
   "outputs": []
  },
  {
   "cell_type": "code",
   "execution_count": 45,
   "id": "54ae7a42",
   "metadata": {},
   "source": [
    "X_prev.shape"
   ],
   "outputs": []
  },
  {
   "cell_type": "code",
   "execution_count": 28,
   "id": "f3fe208a",
   "metadata": {},
   "source": [
    "from pydmd import MrDMD\n",
    "from pydmd import DMD\n",
    "from pydmd import DMDBase\n",
    "from pydmd.snapshots import Snapshots\n",
    "from pydmd.utils import compute_tlsq\n",
    "from pydmd.plotter import plot_eigs"
   ],
   "outputs": []
  },
  {
   "cell_type": "code",
   "execution_count": 25,
   "id": "3a7961d3",
   "metadata": {},
   "source": [
    "class BatchDMD(DMD):\n",
    "    def fit(self, X_prev, X_next):\n",
    "        \"\"\"\n",
    "        Compute the Dynamic Modes Decomposition to the input data.\n",
    "\n",
    "        :param X: the input snapshots.\n",
    "        :type X: numpy.ndarray or iterable\n",
    "        \"\"\"\n",
    "        self._reset()\n",
    "\n",
    "        self._snapshots_holder = Snapshots(X_prev)\n",
    "\n",
    "        n_samples = self.snapshots.shape[1]\n",
    "\n",
    "        X, Y = compute_tlsq(X_prev, X_next, self._tlsq_rank)\n",
    "        self._svd_modes, _, _ = self.operator.compute_operator(X_prev, X_next)\n",
    "\n",
    "        # Default timesteps\n",
    "        self._set_initial_time_dictionary(\n",
    "            {\"t0\": 0, \"tend\": n_samples - 1, \"dt\": 1}\n",
    "        )\n",
    "\n",
    "        self._b = self._compute_amplitudes()\n",
    "\n",
    "        return self\n",
    "    \n",
    "    \n",
    "   "
   ],
   "outputs": []
  },
  {
   "cell_type": "code",
   "execution_count": null,
   "id": "2f02d697",
   "metadata": {},
   "source": [
    "import matplotlib.pyplot as plt\n",
    "\n",
    "def make_plot(X, figsize=(12, 8), title=''):\n",
    "    \"\"\"\n",
    "    Plot of the data X\n",
    "    \"\"\"\n",
    "    plt.figure(figsize=figsize)\n",
    "    plt.title(title)\n",
    "    x = np.linspace(0, X.shape[1], X.shape[1])\n",
    "    t = np.linspace(0, X.shape[0], X.shape[0])\n",
    "    X = np.real(X)\n",
    "    CS = plt.pcolor(x, t, X)\n",
    "    cbar = plt.colorbar(CS)\n",
    "    plt.xlabel('Space')\n",
    "    plt.ylabel('Time')\n",
    "    plt.show()\n",
    "\n",
    "    \n",
    "\n",
    "\n",
    "make_plot(X_prev.T)"
   ],
   "outputs": []
  },
  {
   "cell_type": "code",
   "execution_count": 83,
   "id": "80884490",
   "metadata": {},
   "source": [
    "\n",
    "first_dmd = BatchDMD(svd_rank=100, opt=True, sorted_eigs='abs', tikhonov_regularization=1e-3)\n",
    "first_dmd.fit(1-X_prev, 1-X_next)"
   ],
   "outputs": []
  },
  {
   "cell_type": "code",
   "execution_count": 84,
   "id": "5db4afae",
   "metadata": {},
   "source": [
    "plot_eigs(first_dmd, show_axes=True, show_unit_circle=True)"
   ],
   "outputs": []
  },
  {
   "cell_type": "code",
   "execution_count": 85,
   "id": "c4f69ea2",
   "metadata": {},
   "source": [
    "X_next_recons = first_dmd.predict(1-X_prev)\n",
    "X_next_recons.shape"
   ],
   "outputs": []
  },
  {
   "cell_type": "code",
   "execution_count": 86,
   "id": "83fc8be6",
   "metadata": {},
   "source": [
    "constant_one_mask = (X_prev == X_next) & (X_prev == 1)\n",
    "constant_zero_mask = (X_prev == X_next) & (X_prev == 0)\n",
    "transition_mask = X_prev != X_next\n",
    "freq = np.mean(1-X_next, axis=1)\n",
    "\n",
    "\n",
    "np.mean(constant_one_mask), np.mean(constant_zero_mask), np.mean(transition_mask)"
   ],
   "outputs": []
  },
  {
   "cell_type": "code",
   "execution_count": 87,
   "id": "ebb6b98d",
   "metadata": {},
   "source": [
    "error = np.abs((1-X_next) - X_next_recons.real)\n",
    "transition_error = np.sum(transition_mask * error, axis=1) / np.sum(transition_mask, axis=1)\n",
    "transition_error\n",
    "# mean_transition_error = np.mean(, axis=1)\n",
    "# error"
   ],
   "outputs": []
  },
  {
   "cell_type": "code",
   "execution_count": 89,
   "id": "7bec487e",
   "metadata": {},
   "source": [
    "import matplotlib.pyplot as plt\n",
    "\n",
    "for mode in first_dmd.modes.T[:3]:\n",
    "    plt.plot(mode.real)\n",
    "    plt.title(\"Modes\")\n",
    "plt.show()\n",
    "\n",
    "for dynamic in first_dmd.dynamics:\n",
    "    plt.plot(dynamic.real[:12])\n",
    "    plt.title(\"Dynamics\")\n",
    "plt.show()\n",
    "\n"
   ],
   "outputs": []
  },
  {
   "cell_type": "code",
   "execution_count": null,
   "id": "f8e45501",
   "metadata": {},
   "source": [],
   "outputs": []
  }
 ],
 "metadata": {
  "kernelspec": {
   "display_name": "Python 3 (ipykernel)",
   "language": "python",
   "name": "python3"
  },
  "language_info": {
   "codemirror_mode": {
    "name": "ipython",
    "version": 3
   },
   "file_extension": ".py",
   "mimetype": "text/x-python",
   "name": "python",
   "nbconvert_exporter": "python",
   "pygments_lexer": "ipython3",
   "version": "3.8.13"
  }
 },
 "nbformat": 4,
 "nbformat_minor": 5
}
