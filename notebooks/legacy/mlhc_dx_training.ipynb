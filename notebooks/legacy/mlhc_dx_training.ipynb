{
 "cells": [
  {
   "cell_type": "markdown",
   "id": "f53f4d3c",
   "metadata": {},
   "source": [
    "# Table of Content\n",
    "\n",
    "<a name=\"outline\"></a>\n",
    "\n",
    "## Setup\n",
    "\n",
    "- [A](#seca) External Imports\n",
    "- [B](#secb) Internal Imports\n",
    "- [C](#secc) Configurations and Paths \n",
    "- [D](#secd) Patient Interface and Train/Val/Test Partitioning\n",
    "- [E](#sece) General Utility Functions\n",
    "\n",
    "\n",
    "## Training\n",
    "\n",
    "- [1](#sec1) Training ICE-NODE and The Baselines on MIMIC-III\n",
    "- [2](#sec2) Training ICE-NODE and The Baselines on MIMIC-IV"
   ]
  },
  {
   "cell_type": "markdown",
   "id": "697a491c",
   "metadata": {},
   "source": [
    "<a name=\"seca\"></a>\n",
    "\n",
    "### A External Imports [^](#outline)"
   ]
  },
  {
   "cell_type": "code",
   "execution_count": 1,
   "id": "4cfc614e",
   "metadata": {},
   "source": [
    "import sys\n",
    "import os\n",
    "import glob\n",
    "import random\n",
    "from collections import defaultdict\n",
    "from pathlib import Path\n",
    "\n",
    "from IPython.display import display\n",
    "\n",
    "import pandas as pd\n",
    "\n",
    "from tqdm import tqdm"
   ],
   "outputs": []
  },
  {
   "cell_type": "markdown",
   "id": "23f0d568",
   "metadata": {},
   "source": [
    "<a name=\"secb\"></a>\n",
    "\n",
    "### B Internal Imports [^](#outline)"
   ]
  },
  {
   "cell_type": "code",
   "execution_count": 2,
   "id": "894a3743",
   "metadata": {},
   "source": [
    "%load_ext autoreload\n",
    "%autoreload 2\n",
    "\n",
    "import train as T\n",
    "import common as C\n"
   ],
   "outputs": []
  },
  {
   "cell_type": "code",
   "execution_count": 3,
   "id": "8c176dbe",
   "metadata": {},
   "source": [
    "# HOME and DATA_STORE are arbitrary, change as appropriate.\n",
    "HOME = os.environ.get('HOME')\n",
    "DATA_STORE = f'{HOME}/GP/ehr-data'\n",
    "\n",
    "SOURCE_DIR = os.path.abspath(\"..\")"
   ],
   "outputs": []
  },
  {
   "cell_type": "markdown",
   "id": "d9340794",
   "metadata": {},
   "source": [
    "<a name=\"secd\"></a>\n",
    "\n",
    "### D Configurations and Paths [^](#outline)"
   ]
  },
  {
   "cell_type": "markdown",
   "id": "5d5c56b2",
   "metadata": {},
   "source": [
    "**Assign** MIMIC-III and MIMIC-IV directory paths into `mimic3` and `mimic4` variables."
   ]
  },
  {
   "cell_type": "code",
   "execution_count": 4,
   "id": "f1898f46",
   "metadata": {},
   "source": [
    "output_dir = 'artefacts'\n",
    "Path(output_dir).mkdir(parents=True, exist_ok=True)"
   ],
   "outputs": []
  },
  {
   "cell_type": "code",
   "execution_count": 12,
   "id": "c8d78296",
   "metadata": {},
   "source": [
    "with C.modified_environ(DATA_DIR=DATA_STORE):\n",
    "    mimic3_dataset = C.datasets['M3']\n",
    "    mimic4_dataset = C.datasets['M4']\n",
    "   \n",
    "\n",
    "\n",
    "\"\"\"\n",
    "optimal hyperparams re: each model.\n",
    "\"\"\"\n",
    "\n",
    "model_config = {\n",
    "    'ICE-NODE': f'{SOURCE_DIR}/optimal_configs/icenode_v1/icenode_2lr.json' ,\n",
    "    'ICE-NODE_UNIFORM': f'{SOURCE_DIR}/optimal_configs/icenode_v1/icenode_2lr.json' ,\n",
    "    'GRU': f'{SOURCE_DIR}/optimal_configs/icenode_v1/gru.json' ,\n",
    "    'RETAIN': f'{SOURCE_DIR}/optimal_configs/icenode_v1/retain.json'\n",
    "}\n",
    "\n",
    "model_config = {clf: C.load_config(file) for clf, file in model_config.items()}\n",
    "\n",
    "clfs = ['ICE-NODE', 'ICE-NODE_UNIFORM', 'GRU', 'RETAIN']"
   ],
   "outputs": []
  },
  {
   "cell_type": "code",
   "execution_count": 6,
   "id": "9ccb6be2",
   "metadata": {},
   "source": [
    "m3_train_output_dir = {clf: f'{output_dir}/m3_train/{clf}' for clf in clfs}\n",
    "m4_train_output_dir = {clf: f'{output_dir}/m4_train/{clf}' for clf in clfs}\n",
    "\n",
    "[Path(d).mkdir(parents=True, exist_ok=True) for d in m3_train_output_dir.values()]\n",
    "[Path(d).mkdir(parents=True, exist_ok=True) for d in m4_train_output_dir.values()]"
   ],
   "outputs": []
  },
  {
   "cell_type": "code",
   "execution_count": 7,
   "id": "701e3b8f",
   "metadata": {},
   "source": [
    "m3_reporters = T.make_reporters(clfs, m3_train_output_dir)\n",
    "m4_reporters = T.make_reporters(clfs, m4_train_output_dir)"
   ],
   "outputs": []
  },
  {
   "cell_type": "markdown",
   "id": "24d26707",
   "metadata": {},
   "source": [
    "<a name=\"sece\"></a>\n",
    "\n",
    "### E Patient Interface and Train/Val/Test Patitioning [^](#outline)"
   ]
  },
  {
   "cell_type": "code",
   "execution_count": 8,
   "id": "02e43e04",
   "metadata": {},
   "source": [
    "code_scheme = {\n",
    "    'dx': 'dx_ccs',\n",
    "    'dx_outcome': 'dx_flatccs_filter_v1'\n",
    "}\n",
    "m3_interface = C.Subject_JAX.from_dataset(mimic3_dataset, code_scheme=code_scheme)\n",
    "m4_interface = C.Subject_JAX.from_dataset(mimic4_dataset, code_scheme=code_scheme)\n",
    "\n",
    "m3_splits = m3_interface.random_splits(split1=0.7, split2=0.85, random_seed=42)\n",
    "m4_splits = m4_interface.random_splits(split1=0.7, split2=0.85, random_seed=42)\n"
   ],
   "outputs": []
  },
  {
   "cell_type": "code",
   "execution_count": 9,
   "id": "ca3a0902",
   "metadata": {},
   "source": [
    "m4_percentiles = m4_interface.dx_outcome_by_percentiles(20)\n",
    "m3_percentiles = m3_interface.dx_outcome_by_percentiles(20)\n",
    "\n",
    "m3_train_percentiles = m3_interface.dx_outcome_by_percentiles(20, m3_splits[0])\n",
    "m4_train_percentiles = m4_interface.dx_outcome_by_percentiles(20, m4_splits[0])"
   ],
   "outputs": []
  },
  {
   "cell_type": "code",
   "execution_count": 13,
   "id": "542d1b22",
   "metadata": {},
   "source": [
    "m3_models = T.init_models(clfs, model_config, m3_interface, m3_splits[0])\n",
    "\n",
    "m4_models = T.init_models(clfs, model_config, m4_interface, m4_splits[0])"
   ],
   "outputs": []
  },
  {
   "cell_type": "markdown",
   "id": "05f87624",
   "metadata": {},
   "source": [
    "<a name=\"sec1\"></a>\n",
    "\n",
    "### 1 Training ICE-NODE and The Baselines on MIMIC-III [^](#outline)"
   ]
  },
  {
   "cell_type": "markdown",
   "id": "958d7262",
   "metadata": {},
   "source": [
    "#### ICE-NODE"
   ]
  },
  {
   "cell_type": "code",
   "execution_count": 14,
   "id": "c91a09d4",
   "metadata": {},
   "source": [
    "## TODO: This may take a long time, a pretrained model already exists in (yy).\n",
    "m3_trained_icenode = T.train(m3_models['ICE-NODE'], config=model_config['ICE-NODE'], \n",
    "                             splits=m3_splits, code_groups=m3_train_percentiles,\n",
    "                             reporters=m3_reporters['ICE-NODE'])"
   ],
   "outputs": []
  },
  {
   "cell_type": "markdown",
   "id": "bf6a21bb",
   "metadata": {},
   "source": [
    "#### ICE-NODE_UNIFORM"
   ]
  },
  {
   "cell_type": "code",
   "execution_count": null,
   "id": "f868ee28",
   "metadata": {},
   "source": [
    "## TODO: This can take up to (xx), trained model already exist in (yy).\n",
    "m3_trained_icenode_uni = T.train(m3_models['ICE-NODE_UNIFORM'], config=model_config['ICE-NODE_UNIFORM'], \n",
    "                                 splits=m3_splits, code_groups=m3_train_percentiles,\n",
    "                                 reporters=m3_reporters['ICE-NODE_UNIFORM'])\n"
   ],
   "outputs": []
  },
  {
   "cell_type": "markdown",
   "id": "083317e8",
   "metadata": {},
   "source": [
    "#### GRU"
   ]
  },
  {
   "cell_type": "code",
   "execution_count": null,
   "id": "72be64a0",
   "metadata": {},
   "source": [
    "## TODO: This can take up to (xx), trained model already exist in (yy).\n",
    "m3_trained_gru = T.train(m3_models['GRU'], config=model_config['GRU'], \n",
    "                         splits=m3_splits, code_groups=m3_train_percentiles,\n",
    "                         reporters=m3_reporters['GRU'])"
   ],
   "outputs": []
  },
  {
   "cell_type": "markdown",
   "id": "78ad24c2",
   "metadata": {},
   "source": [
    "#### RETAIN"
   ]
  },
  {
   "cell_type": "code",
   "execution_count": null,
   "id": "72f0b60c",
   "metadata": {},
   "source": [
    "## TODO: This can take up to (xx), trained model already exist in (yy).\n",
    "m3_trained_retain = T.train(m3_models['RETAIN'], config=model_config['RETAIN'], \n",
    "                         splits=m3_splits, code_groups=m3_train_percentiles,\n",
    "                         reporters=m3_reporters['RETAIN'])"
   ],
   "outputs": []
  },
  {
   "cell_type": "markdown",
   "id": "e40a5340",
   "metadata": {},
   "source": [
    "<a name=\"sec2\"></a>\n",
    "\n",
    "### 2 Training ICE-NODE and The Baselines on MIMIC-IV [^](#outline)"
   ]
  },
  {
   "cell_type": "markdown",
   "id": "d7e7f068",
   "metadata": {},
   "source": [
    "#### ICE-NODE"
   ]
  },
  {
   "cell_type": "code",
   "execution_count": null,
   "id": "9c281674",
   "metadata": {},
   "source": [
    "## TODO: This can take up to (xx), trained model already exist in (yy).\n",
    "m4_trained_icenode = T.train(m4_models['ICE-NODE'], config=model_config['ICE-NODE'], \n",
    "                             splits=m4_splits, code_groups=m4_train_percentiles,\n",
    "                             reporters=m4_reporters['ICE-NODE'])"
   ],
   "outputs": []
  },
  {
   "cell_type": "markdown",
   "id": "ff7db731",
   "metadata": {},
   "source": [
    "#### ICE-NODE_UNIFORM"
   ]
  },
  {
   "cell_type": "code",
   "execution_count": null,
   "id": "87b2e96b",
   "metadata": {},
   "source": [
    "## TODO: This can take up to (xx), trained model already exist in (yy).\n",
    "m4_trained_icenode_uni = T.train(m4_models['ICE-NODE_UNIFORM'], config=model_config['ICE-NODE_UNIFORM'], \n",
    "                             splits=m4_splits, code_groups=m4_train_percentiles,\n",
    "                             reporters=m4_reporters['ICE-NODE_UNIFORM'])\n"
   ],
   "outputs": []
  },
  {
   "cell_type": "markdown",
   "id": "6046f86c",
   "metadata": {},
   "source": [
    "#### GRU"
   ]
  },
  {
   "cell_type": "code",
   "execution_count": null,
   "id": "c8ab190e",
   "metadata": {},
   "source": [
    "m4_gru_model, m4_gru_state = m4_models['GRU']\n",
    "## TODO: This can take up to (xx), trained model already exist in (yy).\n",
    "m4_gru_state, m4_gru_evals = train_model(m4_gru_model, m4_gru_state,\n",
    "                                         model_config['GRU'], \n",
    "                                         m4_train_ids, m4_valid_ids,\n",
    "                                         'trained_models/m4_gru', \n",
    "                                         m4_train_percentiles)"
   ],
   "outputs": []
  },
  {
   "cell_type": "markdown",
   "id": "55a55f14",
   "metadata": {},
   "source": [
    "#### RETAIN"
   ]
  },
  {
   "cell_type": "code",
   "execution_count": null,
   "id": "bdea6d71",
   "metadata": {},
   "source": [
    "m4_retain_model, m4_retain_state = m4_models['RETAIN']\n",
    "## RESOURCES WARNING: This model, with this large dataset and occasionally long patient histories, \n",
    "## unfortunately requires larger memory than what is available in usual high-end GPUs (e.g. 12 GB in my main workstation).\n",
    "## For this particular experiment, we relied on CPUs and the CPU RAM (over 64 GB).\n",
    "## Regarding training on MIMIC-IV, ICE-NODE and ICE-NODE_UNIFORM have finished training in less than 48 hours, \n",
    "## while GRU model has finished in less than 24 hours, however\n",
    "## RETAIN training on MIMIC-IV would need more than three weeks to finish on a CPU.\n",
    "## There is already a pretrained model that we add to this anonymous repository.\n",
    "m4_retain_state, m4_retain_evals = train_model(m4_retain_model, m4_retain_state,\n",
    "                                               model_config['RETAIN'],\n",
    "                                               m4_train_ids, m4_valid_ids,\n",
    "                                               'trained_models/m4_retain',\n",
    "                                               m4_train_percentiles)"
   ],
   "outputs": []
  },
  {
   "cell_type": "code",
   "execution_count": null,
   "id": "1ff51f78",
   "metadata": {},
   "source": [],
   "outputs": []
  }
 ],
 "metadata": {
  "kernelspec": {
   "display_name": "Python 3 (ipykernel)",
   "language": "python",
   "name": "python3"
  },
  "language_info": {
   "codemirror_mode": {
    "name": "ipython",
    "version": 3
   },
   "file_extension": ".py",
   "mimetype": "text/x-python",
   "name": "python",
   "nbconvert_exporter": "python",
   "pygments_lexer": "ipython3",
   "version": "3.8.13"
  }
 },
 "nbformat": 4,
 "nbformat_minor": 5
}
