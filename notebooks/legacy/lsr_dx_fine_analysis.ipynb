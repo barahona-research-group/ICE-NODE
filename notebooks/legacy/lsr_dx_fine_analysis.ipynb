{
 "cells": [
  {
   "cell_type": "markdown",
   "id": "f53f4d3c",
   "metadata": {},
   "source": [
    "# Table of Content\n",
    "\n",
    "<a name=\"outline\"></a>\n",
    "\n",
    "## Setup\n",
    "\n",
    "- [A](#seca) External Imports\n",
    "- [B](#secb) Internal Imports\n",
    "- [C](#secd) Configurations and Paths \n",
    "- [D](#sece) Patient Interface and Train/Val/Test Partitioning\n",
    "\n",
    "\n",
    "## Evaluations\n",
    "\n",
    "- [1](#sec2) Predictive Performance: MIMIC-III (Test Set)\n",
    "- [2](#sec3) Predictive Performance: MIMIC-IV (Test Set)\n",
    "- [3](#sec4) Predictive Performance: from MIMIC-IV (Training Set) to MIMIC-III (All)"
   ]
  },
  {
   "cell_type": "markdown",
   "id": "697a491c",
   "metadata": {},
   "source": [
    "<a name=\"seca\"></a>\n",
    "\n",
    "### A External Imports [^](#outline)"
   ]
  },
  {
   "cell_type": "code",
   "execution_count": 1,
   "id": "4cfc614e",
   "metadata": {},
   "source": [
    "import os\n",
    "import matplotlib.pyplot as plt\n",
    "import numpy as np\n",
    "import pandas as pd\n",
    "import seaborn as sns\n",
    "from pathlib import Path\n",
    "from IPython.display import display\n",
    "from upsetplot import from_contents, plot, UpSet, from_indicators\n"
   ],
   "outputs": []
  },
  {
   "cell_type": "markdown",
   "id": "23f0d568",
   "metadata": {},
   "source": [
    "<a name=\"secb\"></a>\n",
    "\n",
    "### B Internal Imports [^](#outline)"
   ]
  },
  {
   "cell_type": "code",
   "execution_count": 2,
   "id": "894a3743",
   "metadata": {},
   "source": [
    "# HOME and DATA_STORE are arbitrary, change as appropriate.\n",
    "HOME = os.environ.get('HOME')\n",
    "DATA_STORE = f'{HOME}/GP/ehr-data'\n",
    "\n",
    "\n",
    "\n",
    "%load_ext autoreload\n",
    "%autoreload 2\n",
    "\n",
    "import analysis as A\n",
    "import common as C"
   ],
   "outputs": []
  },
  {
   "cell_type": "markdown",
   "id": "d9340794",
   "metadata": {},
   "source": [
    "<a name=\"secc\"></a>\n",
    "\n",
    "### C Configurations and Paths [^](#outline)"
   ]
  },
  {
   "cell_type": "code",
   "execution_count": 3,
   "id": "9e935c81",
   "metadata": {},
   "source": [
    "with C.modified_environ(DATA_DIR=DATA_STORE):\n",
    "    mimic3_dataset = C.datasets['M3']\n",
    "    mimic4_dataset = C.datasets['M4']"
   ],
   "outputs": []
  },
  {
   "cell_type": "markdown",
   "id": "235cb68f",
   "metadata": {},
   "source": [
    "The following cell configures the location of the models pretrained on MIMIC-III (M3) and MIMIC-IV (M4), with GRAM embeddings (G) and without. Each training experiment produces 100 snapshots of parameters (100 training checkpoints throughout all the training iterations), and this Notebook picks the one that maximizes the average AUC of the visit level (prob. of having higher risks for present codes than the absent codes of the same visit)."
   ]
  },
  {
   "cell_type": "code",
   "execution_count": 4,
   "id": "30472e45",
   "metadata": {},
   "source": [
    "train_dir = {\n",
    "    # Location of training experiments on MIMIC-III.\n",
    "    'M3': f'{DATA_STORE}/icd9v3/M3',\n",
    "    # Location of training experiments on MIMIC-IV.\n",
    "    'M4': f'{DATA_STORE}/icd9v3/M4'\n",
    "}"
   ],
   "outputs": []
  },
  {
   "cell_type": "code",
   "execution_count": 5,
   "id": "c8d78296",
   "metadata": {},
   "source": [
    "relative_auc_config = {\n",
    "    'pvalue': 0.01, \n",
    "    'min_auc': 0.9\n",
    "}\n",
    "top_k_list=[1, 2, 3, 5, 7, 10, 15, 20]\n",
    "percentile_range=20 \n",
    "n_percentiles=int(100/percentile_range)\n",
    "\n",
    "import matplotlib.font_manager as font_manager\n",
    "plt.rcParams.update(plt.rcParamsDefault)\n",
    "plt.rcParams.update({'font.family': 'sans-serif',\n",
    "                     'font.sans-serif': 'Helvetica',\n",
    "                     'font.weight':  'normal'})"
   ],
   "outputs": []
  },
  {
   "cell_type": "code",
   "execution_count": 6,
   "id": "1e347422",
   "metadata": {},
   "source": [
    "output_dir = 'artefacts'\n",
    "Path(output_dir).mkdir(parents=True, exist_ok=True)\n"
   ],
   "outputs": []
  },
  {
   "cell_type": "markdown",
   "id": "24d26707",
   "metadata": {},
   "source": [
    "<a name=\"secd\"></a>\n",
    "\n",
    "### D Patient Interface and Train/Val/Test Patitioning [^](#outline)"
   ]
  },
  {
   "cell_type": "code",
   "execution_count": 7,
   "id": "ed738552",
   "metadata": {},
   "source": [
    "code_scheme_M =  {\n",
    "        \"dx\": \"dx_icd9\",\n",
    "        \"pr\": \"pr_icd9\",\n",
    "        \"dx_outcome\": \"dx_icd9_filter_v3_groups\",\n",
    "        \"pr\": \"pr_icd9\"\n",
    "}\n",
    "\n",
    "code_scheme_G = {\n",
    "        \"dx\": \"dx_icd9\",\n",
    "        \"pr\": \"pr_icd9\",\n",
    "        \"dx_dagvec\": True,\n",
    "        \"pr_dagvec\": True,\n",
    "        \"dx_outcome\": \"dx_icd9_filter_v3_groups\"\n",
    "}\n",
    "\n",
    "m3_interface_M = C.Subject_JAX.from_dataset(mimic3_dataset, code_scheme=code_scheme_M)\n",
    "m4_interface_M = C.Subject_JAX.from_dataset(mimic4_dataset, code_scheme=code_scheme_M)\n",
    "\n",
    "m3_interface_G = C.Subject_JAX.from_dataset(mimic3_dataset, code_scheme=code_scheme_G)\n",
    "m4_interface_G = C.Subject_JAX.from_dataset(mimic4_dataset, code_scheme=code_scheme_G)"
   ],
   "outputs": []
  },
  {
   "cell_type": "code",
   "execution_count": 8,
   "id": "27c24ace",
   "metadata": {},
   "source": [
    "m4_splits = m4_interface_M.random_splits(split1=0.7, split2=0.85, random_seed=42)\n",
    "m3_splits = m3_interface_M.random_splits(split1=0.7, split2=0.85, random_seed=42)"
   ],
   "outputs": []
  },
  {
   "cell_type": "code",
   "execution_count": 9,
   "id": "1895c6fb",
   "metadata": {},
   "source": [
    "m3_train_ids, m3_valid_ids, m3_test_ids = m3_splits\n",
    "m4_train_ids, m4_valid_ids, m4_test_ids = m4_splits\n"
   ],
   "outputs": []
  },
  {
   "cell_type": "code",
   "execution_count": 10,
   "id": "ca3a0902",
   "metadata": {},
   "source": [
    "m3_percentiles = m3_interface_M.dx_outcome_by_percentiles(20, m3_splits[0])\n",
    "m4_percentiles = m4_interface_M.dx_outcome_by_percentiles(20, m4_splits[0])"
   ],
   "outputs": []
  },
  {
   "cell_type": "markdown",
   "id": "4e5de22c",
   "metadata": {},
   "source": [
    "<a name=\"sec1\"></a>\n",
    "\n",
    "## 1 Snooping/Selecting Best Models from the Validation Set [^](#outline)"
   ]
  },
  {
   "cell_type": "code",
   "execution_count": 11,
   "id": "cabe83ef",
   "metadata": {},
   "source": [
    "from glob import glob\n",
    "clfs = [os.path.basename(d) for d in glob(f\"{train_dir['M3']}/*\")]\n",
    "model_dir = dict(zip(clfs, clfs))"
   ],
   "outputs": []
  },
  {
   "cell_type": "code",
   "execution_count": 12,
   "id": "b35cd234",
   "metadata": {},
   "source": [
    "print('> Models trained on MIMIC-III')\n",
    "m3_top = A.get_trained_models(clfs=clfs, train_dir=train_dir, model_dir=model_dir, data_tag='M3', \n",
    "                               criterion='MICRO-AUC',  comp=max)\n",
    "display(m3_top['summary'])\n",
    "\n",
    "print('> Models trained on MIMIC-IV')\n",
    "m4_top = A.get_trained_models(clfs=clfs, train_dir=train_dir, model_dir=model_dir, data_tag='M4', \n",
    "                               criterion='MICRO-AUC',  comp=max)\n",
    "display(m4_top['summary'])"
   ],
   "outputs": []
  },
  {
   "cell_type": "code",
   "execution_count": 13,
   "id": "6ad6ecc6",
   "metadata": {},
   "source": [
    "m3_interface = {'M': m3_interface_M, 'G': m3_interface_G}\n",
    "m3_models = C.lsr_get_models(clfs, m3_top[\"config\"], m3_top[\"params\"], m3_interface)\n",
    "\n",
    "m4_interface = {'M': m4_interface_M, 'G': m4_interface_G}\n",
    "m4_models = C.lsr_get_models(clfs, m4_top[\"config\"], m4_top[\"params\"], m4_interface)\n"
   ],
   "outputs": []
  },
  {
   "cell_type": "code",
   "execution_count": 14,
   "id": "f19fd24f",
   "metadata": {},
   "source": [
    "\n",
    "def cross_predictor(clf, source_tag, target_tag):\n",
    "    _params = {'M3': m3_top['params'][clf], \n",
    "               'M4': m4_top['params'][clf]}\n",
    "    _config = {'M3': m3_top['config'][clf], \n",
    "               'M4': m4_top['config'][clf]}\n",
    "    _interface = {'M3': m3_interface, 'M4': m4_interface}\n",
    "    _emb = 'G' if '_G' in clf else 'M'\n",
    "\n",
    "    return C.lsr_get_model(clf=clf, \n",
    "                           config=_config[source_tag], \n",
    "                           params=_params[source_tag],\n",
    "                           interface = _interface[target_tag][_emb])\n"
   ],
   "outputs": []
  },
  {
   "cell_type": "markdown",
   "id": "f6323308",
   "metadata": {},
   "source": [
    "<a name=\"sec2\"></a>\n",
    "\n",
    "## 2 Predictive Performance on MIMIC-III (Test Set) [^](#outline)"
   ]
  },
  {
   "cell_type": "code",
   "execution_count": 15,
   "id": "7196d5b5",
   "metadata": {},
   "source": [
    "m3_predictors = {clf: cross_predictor(clf, 'M3', 'M3') for clf in clfs}"
   ],
   "outputs": []
  },
  {
   "cell_type": "code",
   "execution_count": 16,
   "id": "7ff5b1ff",
   "metadata": {},
   "source": [
    "test_res_m3 = {clf: C.eval2_(model, m3_splits[2]) for clf, model in m3_predictors.items()} "
   ],
   "outputs": []
  },
  {
   "cell_type": "code",
   "execution_count": 26,
   "id": "43f74ca2",
   "metadata": {},
   "source": [
    "auctests_m3 = A.codes_auc_pairwise_tests({k: v['risk_prediction'] for k, v in test_res_m3.items()}, fast=True)\n"
   ],
   "outputs": []
  },
  {
   "cell_type": "code",
   "execution_count": 27,
   "id": "535f46c1",
   "metadata": {},
   "source": [
    "test_cols = [col for col in auctests_m3.columns if col[:2] == 'P0']\n",
    "auctests_m3.loc[:, test_cols].isnull().max(axis=1).sum()"
   ],
   "outputs": []
  },
  {
   "cell_type": "code",
   "execution_count": null,
   "id": "dee80b1f",
   "metadata": {},
   "source": [
    "# upset_clfs = ['ICE-NODE', 'ICE-NODE_UNIFORM', 'GRU', 'RETAIN', 'LogReg', \n",
    "#               'ICE-NODE/G', 'ICE-NODE_UNIFORM/G', 'GRU/G']\n",
    "m3_freq_v = m3_interface_M.dx_outcome_frequency_vec(m3_train_ids) \n",
    "m3_code_attrs = {'Code frequency': dict(zip(range(len(m3_freq_v)), m3_freq_v))}\n",
    "\n",
    "m3_upset_result = A.relative_performance_upset(auctests_m3, clfs, \n",
    "                                               code_attrs=m3_code_attrs,\n",
    "                                               interface=m3_interface_M,\n",
    "                                               **relative_auc_config)\n",
    "upset_ctx = lambda : sns.plotting_context(\"paper\", font_scale=1.5, rc={\"font.family\": \"sans-serif\", \n",
    "                                                                        'axes.labelsize': 'medium',\n",
    "                                                                       'ytick.labelsize': 'medium'})\n",
    "\n",
    "\n",
    "\n",
    "with sns.axes_style(\"darkgrid\"), upset_ctx():\n",
    "    upset_format = from_indicators(m3_upset_result['indicator_df'], data=m3_upset_result['data'])\n",
    "    upset_object = UpSet(upset_format, subset_size='count', show_counts=True)\n",
    "    upset_object.style_subsets(absent=['LogReg'], present=('ICE-NODE', 'GRU', 'RETAIN'),\n",
    "                               facecolor=\"red\",\n",
    "                               edgecolor=\"red\", linewidth=3)\n",
    "    upset_object.add_catplot(value='Code frequency', kind=\"strip\")\n",
    "    \n",
    "    g = upset_object.plot()\n",
    "        \n",
    "    current_figure = plt.gcf()\n",
    "    w, h = 2.5, 3\n",
    "    wi, hi = current_figure.get_size_inches()\n",
    "    current_figure.set_size_inches(hi*(w/h), hi)\n",
    "    current_figure.savefig(f\"{output_dir}/upset_M3.pdf\", bbox_inches='tight')\n",
    "    plt.show()"
   ],
   "outputs": []
  },
  {
   "cell_type": "code",
   "execution_count": 36,
   "id": "de1bc591",
   "metadata": {},
   "source": [
    "results_m3_eval,_ = A.evaluation_table(test_res_m3, m3_percentiles, top_k_list=top_k_list)"
   ],
   "outputs": []
  },
  {
   "cell_type": "code",
   "execution_count": 37,
   "id": "b4c44928",
   "metadata": {},
   "source": [
    "# table_clfs = ('LogReg', \n",
    "#               'RETAIN',\n",
    "#               'GRU',\n",
    "#               'GRU/G',\n",
    "#               'ICE-NODE_UNIFORM',\n",
    "#               'ICE-NODE_UNIFORM/G',\n",
    "#               'ICE-NODE', \n",
    "#               'ICE-NODE/G'\n",
    "#               )\n",
    "table_clfs = sorted(clfs)\n",
    "results_m3_tables = A.top_k_tables(table_clfs, results_m3_eval, top_k_list=top_k_list,\n",
    "                                   n_percentiles=n_percentiles, out_prefix=f'{output_dir}/M3')"
   ],
   "outputs": []
  },
  {
   "cell_type": "code",
   "execution_count": 30,
   "id": "272f385b",
   "metadata": {},
   "source": [
    "competing_tests_df = auctests_m3[auctests_m3.CODE_INDEX.isin(m3_upset_result['indicator_df'][m3_upset_result['indicator_df']['LogReg']==False].index)]\n",
    "competing_tests_df.loc[:, [col for col in competing_tests_df.columns if col[:2]=='P0']]"
   ],
   "outputs": []
  },
  {
   "cell_type": "code",
   "execution_count": 31,
   "id": "a6f0ab6a",
   "metadata": {},
   "source": [
    "upset_clfs = ['ICE-NODE', 'ICE-NODE_UNIFORM', 'GRU', 'RETAIN', 'LogReg',\n",
    "              'ICE-NODE/G', 'ICE-NODE_UNIFORM/G', 'GRU/G']\n",
    "\n",
    "ax = A.selected_auc_barplot(upset_clfs, competing_tests_df,  horizontal=True)\n",
    "ax.legend(fontsize=22, title_fontsize=32,\n",
    "          bbox_to_anchor=(-0.02, 1), ncol=2)\n",
    "plt.xticks(fontsize=30)\n",
    "plt.yticks(fontsize=30)\n",
    "\n",
    "current_figure = plt.gcf()\n",
    "# w, h = 4, 4\n",
    "# wi, hi = current_figure.get_size_inches()\n",
    "# current_figure.set_size_inches(hi*(w/h), hi)\n",
    "\n",
    "current_figure.savefig(f\"{output_dir}/icenode_m3.pdf\", bbox_inches='tight')\n",
    "plt.show()\n"
   ],
   "outputs": []
  },
  {
   "cell_type": "markdown",
   "id": "30d43833",
   "metadata": {},
   "source": [
    "<a name=\"sec3\"></a>\n",
    "\n",
    "## 3 Relative AUC Performance on MIMIC-IV (Test Set) [^](#outline)"
   ]
  },
  {
   "cell_type": "code",
   "execution_count": 20,
   "id": "6a76a1d4",
   "metadata": {},
   "source": [
    "m4_predictors = {clf: cross_predictor(clf, 'M4', 'M4') for clf in clfs}"
   ],
   "outputs": []
  },
  {
   "cell_type": "code",
   "execution_count": 21,
   "id": "ede2567e",
   "metadata": {},
   "source": [
    "test_res_m4 = {clf: C.eval2_(model, m4_test_ids) for clf, model in m4_predictors.items()} "
   ],
   "outputs": []
  },
  {
   "cell_type": "code",
   "execution_count": 38,
   "id": "7a5e98c2",
   "metadata": {},
   "source": [
    "auctests_m4 = A.codes_auc_pairwise_tests({k: v['risk_prediction'] for k, v in test_res_m4.items()}, fast=True)\n"
   ],
   "outputs": []
  },
  {
   "cell_type": "code",
   "execution_count": 41,
   "id": "4a28ca72",
   "metadata": {},
   "source": [
    "# upset_clfs = ('ICE-NODE', 'ICE-NODE_UNIFORM', 'GRU', 'RETAIN', 'LogReg',)\n",
    "#                'ICE-NODE/G', 'ICE-NODE_UNIFORM/G', 'GRU/G')\n",
    "\n",
    "m4_freq_v = m4_interface_M.dx_outcome_frequency_vec(m4_train_ids) \n",
    "m4_code_attrs = {'Code frequency': dict(zip(range(len(m4_freq_v)), m4_freq_v))}\n",
    "\n",
    "m4_upset_result = A.relative_performance_upset(auctests_m4, clfs, \n",
    "                                               code_attrs=m4_code_attrs,\n",
    "                                               interface=m4_interface_M,\n",
    "                                               **relative_auc_config)\n",
    "upset_ctx = lambda : sns.plotting_context(\"paper\",  font_scale=1.5, rc={\"font.family\": \"Loma\", \n",
    "                                                                        'axes.labelsize': 'medium',\n",
    "                                                                       'ytick.labelsize': 'medium'})\n",
    "with sns.axes_style(\"darkgrid\"), upset_ctx():\n",
    "    upset_format = from_indicators(m4_upset_result['indicator_df'], data=m4_upset_result['data'])\n",
    "    upset_object = UpSet(upset_format, subset_size='count', show_counts=True)\n",
    "#     upset_object.style_subsets(present=['ICE-NODE'], absent=('ICE-NODE_UNIFORM', 'GRU', 'RETAIN'),\n",
    "#                                edgecolor=\"red\", linewidth=3, facecolor=\"red\")\n",
    "    upset_object.add_catplot(value='Code frequency', kind=\"strip\")\n",
    "\n",
    "    g = upset_object.plot()\n",
    "    current_figure = plt.gcf()\n",
    "#     w, h = 5, 3\n",
    "#     wi, hi = current_figure.get_size_inches()\n",
    "#     current_figure.set_size_inches(hi*(w/h), hi)\n",
    "\n",
    "    current_figure.savefig(f\"{output_dir}/upset_M4.pdf\", bbox_inches='tight')\n",
    "    plt.show()\n"
   ],
   "outputs": []
  },
  {
   "cell_type": "code",
   "execution_count": 42,
   "id": "eec332ab",
   "metadata": {},
   "source": [
    "results_m4_eval, _ = A.evaluation_table(test_res_m4, m4_percentiles, top_k_list=top_k_list)"
   ],
   "outputs": []
  },
  {
   "cell_type": "code",
   "execution_count": 43,
   "id": "a8714f05",
   "metadata": {},
   "source": [
    "# table_clfs = ('LogReg', \n",
    "#               'RETAIN',\n",
    "#               'GRU',\n",
    "#               'GRU/G',\n",
    "#               'ICE-NODE_UNIFORM',\n",
    "#               'ICE-NODE_UNIFORM/G',\n",
    "#               'ICE-NODE', \n",
    "#               'ICE-NODE/G',\n",
    "#               )\n",
    "table_clfs = sorted(clfs)\n",
    "results_m4_tables = A.top_k_tables(table_clfs, results_m4_eval, top_k_list=top_k_list, \n",
    "                                   n_percentiles=n_percentiles, out_prefix=f'{output_dir}/M4')"
   ],
   "outputs": []
  },
  {
   "cell_type": "code",
   "execution_count": 38,
   "id": "1f3f0563",
   "metadata": {},
   "source": [
    "icenode_m4_excl = m4_upset_result['content_sets']['ICE-NODE'] - set.union(*list(m4_upset_result['content_sets'][clf] for clf in ('RETAIN', 'GRU', 'ICE-NODE_UNIFORM')))\n",
    "icenode_m4_excl = m4_upset_result['competing_performance'][m4_upset_result['competing_performance']['CODE_INDEX'].isin(icenode_m4_excl)]\n",
    "icenode_m4_excl"
   ],
   "outputs": []
  },
  {
   "cell_type": "code",
   "execution_count": 39,
   "id": "f16faeb2",
   "metadata": {},
   "source": [
    "# icenode_ratain_gru_m4 = upsetcontents_m4['ICE-NODE']\n",
    "# icenode_ratain_gru_m4 = compete_codesm4[compete_codesm4['CODE_INDEX'].isin(icenode_ratain_gru_m4)]\n",
    "# icenode_ratain_gru_m4.sort_values('AUC(ICE-NODE)', ascending=False)[['CODE_INDEX', 'N_POSITIVE_CODES', 'DESC', 'AUC(ICE-NODE)']]"
   ],
   "outputs": []
  },
  {
   "cell_type": "code",
   "execution_count": 40,
   "id": "22935ba7",
   "metadata": {},
   "source": [
    "upset_clfs = ('ICE-NODE', 'ICE-NODE_UNIFORM', 'GRU', 'RETAIN', 'LogReg')\n",
    "w, h = 4, 3\n",
    "ax = A.selected_auc_barplot(upset_clfs, icenode_m4_excl, horizontal=True)\n",
    "\n",
    "plt.xticks(fontsize=30)\n",
    "plt.yticks(fontsize=30)\n",
    "ax.legend(fontsize=22, title_fontsize=32,\n",
    "          bbox_to_anchor=(-0.02, 1), ncol=2)\n",
    "current_figure = plt.gcf()\n",
    "w, h = 4, 4\n",
    "wi, hi = current_figure.get_size_inches()\n",
    "current_figure.set_size_inches(hi*(w/h), hi)\n",
    "\n",
    "current_figure.savefig(f\"{output_dir}/icenode_m4.pdf\", bbox_inches='tight')\n",
    "plt.show()\n"
   ],
   "outputs": []
  },
  {
   "cell_type": "markdown",
   "id": "89a7e699",
   "metadata": {},
   "source": [
    "<a name=\"sec4\"></a>\n",
    "\n",
    "## 4 Relative AUC Performance From MIMIC-IV (Training Set) to MIMIC-III (All) [^](#outline)"
   ]
  },
  {
   "cell_type": "code",
   "execution_count": 44,
   "id": "3ad1247b",
   "metadata": {},
   "source": [
    "# clfs_ordered = ('ICE-NODE', 'ICE-NODE_UNIFORM', 'GRU', 'RETAIN')\n",
    "m3_subjects = list(m3_interface_M.subjects.keys())\n",
    "m4m3_predictors = {clf: cross_predictor(clf, 'M4', 'M3') for clf in clfs}"
   ],
   "outputs": []
  },
  {
   "cell_type": "code",
   "execution_count": 23,
   "id": "a2555b89",
   "metadata": {},
   "source": [
    "test_res_m4m3 = {clf: C.eval2_(model, m3_subjects) for clf, model in m4m3_predictors.items()} "
   ],
   "outputs": []
  },
  {
   "cell_type": "code",
   "execution_count": 39,
   "id": "a06aac33",
   "metadata": {},
   "source": [
    "auctests_m4m3 = A.codes_auc_pairwise_tests({k: v['risk_prediction'] for k, v in test_res_m4m3.items()}, fast=True)"
   ],
   "outputs": []
  },
  {
   "cell_type": "code",
   "execution_count": 47,
   "id": "3244ca3a",
   "metadata": {},
   "source": [
    "# upset_clfs = ('ICE-NODE', 'ICE-NODE_UNIFORM', 'GRU', 'RETAIN', 'LogReg',)\n",
    "#                 'ICE-NODE/G', 'ICE-NODE_UNIFORM/G', 'GRU/G')\n",
    "\n",
    "m4m3_freq_v = m4_interface_M.dx_outcome_frequency_vec(m4_train_ids) \n",
    "m4m3_code_attrs = {'Code frequency': dict(zip(range(len(m4_freq_v)), m4_freq_v))}\n",
    "\n",
    "m4m3_upset_result = A.relative_performance_upset(auctests_m4m3, clfs, \n",
    "                                                 code_attrs=m4m3_code_attrs,\n",
    "                                                 interface=m3_interface_M,\n",
    "                                                 **relative_auc_config)\n",
    "\n",
    "upset_ctx = lambda : sns.plotting_context(\"paper\", font_scale=1.5, rc={\"font.family\": \"Loma\", \n",
    "                                                                        'axes.labelsize': 'medium',\n",
    "                                                                       'ytick.labelsize': 'medium'})\n",
    "with sns.axes_style(\"darkgrid\"), upset_ctx():\n",
    "    upset_format = from_indicators(m4m3_upset_result['indicator_df'], data=m4m3_upset_result['data'])\n",
    "    upset_object = UpSet(upset_format, subset_size='count', show_counts=True)\n",
    "    upset_object.add_catplot(value='Code frequency', kind=\"strip\")\n",
    "\n",
    "#     upset_object.style_subsets(present='ICE-NODE', absent=['ICE-NODE_UNIFORM', 'GRU', 'RETAIN'],\n",
    "#                               edgecolor=\"red\", facecolor=\"red\")\n",
    "    g = upset_object.plot()\n",
    "    \n",
    "    current_figure = plt.gcf()\n",
    "    current_figure.savefig(f\"{output_dir}/upset_M4M3.pdf\", bbox_inches='tight')\n",
    "    plt.show()"
   ],
   "outputs": []
  },
  {
   "cell_type": "code",
   "execution_count": 49,
   "id": "e8862950",
   "metadata": {},
   "source": [
    "results_m4m3_eval, _ = A.evaluation_table(test_res_m4m3, m4_percentiles, top_k_list=top_k_list)"
   ],
   "outputs": []
  },
  {
   "cell_type": "code",
   "execution_count": 50,
   "id": "3f4a9042",
   "metadata": {},
   "source": [
    "# table_clfs = ('LogReg', \n",
    "#               'RETAIN',\n",
    "#               'GRU',\n",
    "#               'GRU/G',\n",
    "#               'ICE-NODE', \n",
    "#               'ICE-NODE/G',\n",
    "#               'ICE-NODE_UNIFORM',\n",
    "#               'ICE-NODE_UNIFORM/G'\n",
    "#               )\n",
    "table_clfs = sorted(clfs)\n",
    "results_m4m3_tables = A.top_k_tables(table_clfs, results_m4m3_eval, top_k_list=top_k_list, \n",
    "                                     n_percentiles=n_percentiles, out_prefix=f'{output_dir}/M4M3')"
   ],
   "outputs": []
  },
  {
   "cell_type": "code",
   "execution_count": 47,
   "id": "d2c06568",
   "metadata": {},
   "source": [
    "icenode_m4m3_excl = m4m3_upset_result['content_sets']['ICE-NODE'] - set.union(*list(m4m3_upset_result['content_sets'][clf] for clf in ('RETAIN', 'GRU', 'ICE-NODE_UNIFORM')))\n",
    "icenode_m4m3_excl = compete_codesm4m3[m4m3_upset_result['competing_performance']['CODE_INDEX'].isin(icenode_m4m3_excl)]\n",
    "icenode_m4m3_excl"
   ],
   "outputs": []
  },
  {
   "cell_type": "code",
   "execution_count": null,
   "id": "7f942b81",
   "metadata": {},
   "source": [
    "ax = A.selected_auc_barplot(upset_clfs, icenode_m4m3_excl, horizontal=True)\n",
    "\n",
    "plt.xticks(fontsize=30)\n",
    "plt.yticks(fontsize=30)\n",
    "# ax.legend(fontsize=22, title_fontsize=32,\n",
    "#           bbox_to_anchor=(0.02, 1), ncol=2)\n",
    "plt.xticks(fontsize=30)\n",
    "plt.yticks(fontsize=30)\n",
    "ax.legend(fontsize=22, title_fontsize=32,\n",
    "          bbox_to_anchor=(1, 1.25), ncol=2)\n",
    "\n",
    "current_figure = plt.gcf()\n",
    "current_figure.savefig(f\"{output_dir}/icenode_m4m3.pdf\", bbox_inches='tight')\n",
    "plt.show()\n"
   ],
   "outputs": []
  },
  {
   "cell_type": "markdown",
   "id": "86634c4c",
   "metadata": {},
   "source": [
    "## Trajectories for Patients with CCS codes best predicted with ICENODE"
   ]
  },
  {
   "cell_type": "markdown",
   "id": "fcfc4c29",
   "metadata": {},
   "source": [
    "### Analyse AUC for Each Admission in the Test Partition"
   ]
  },
  {
   "cell_type": "code",
   "execution_count": 34,
   "id": "5df33d48",
   "metadata": {},
   "source": [
    "def admissions_auc_scores(model, test_ids):\n",
    "    model, state = model\n",
    "    return model.admissions_auc_scores(state, test_ids)"
   ],
   "outputs": []
  },
  {
   "cell_type": "code",
   "execution_count": 35,
   "id": "d075dda5",
   "metadata": {},
   "source": [
    "m4_icenode_visit_auc_df = admissions_auc_scores(m4_predictors['ICE-NODE'], m4_test_ids)\n",
    "m4_icenode_visit_auc_df['N_VISITS'] = m4_icenode_visit_auc_df['SUBJECT_ID'].apply(lambda i: (m4_icenode_visit_auc_df['SUBJECT_ID'] == i).sum())"
   ],
   "outputs": []
  },
  {
   "cell_type": "code",
   "execution_count": 36,
   "id": "bd1cbeb0",
   "metadata": {},
   "source": [
    "m4_visit_auc_subject = m4_icenode_visit_auc_df.groupby('SUBJECT_ID').agg(\n",
    "    {'AUC': 'mean', \n",
    "     'N_VISITS': 'max', \n",
    "     'N_CODES': ['min', 'max', 'mean', 'median'], \n",
    "     'INTERVALS': ['mean', 'max', 'min'] })"
   ],
   "outputs": []
  },
  {
   "cell_type": "code",
   "execution_count": 37,
   "id": "ee81ee97",
   "metadata": {},
   "source": [
    "m4m3_icenode_visit_auc_df = admissions_auc_scores(m4m3_predictors['ICE-NODE'], m3_interface.subjects.keys())\n",
    "m4m3_icenode_visit_auc_df['N_VISITS'] = m4m3_icenode_visit_auc_df['SUBJECT_ID'].apply(lambda i: (m4m3_icenode_visit_auc_df['SUBJECT_ID'] == i).sum())\n",
    "m4m3_visit_auc_subject = m4m3_icenode_visit_auc_df.groupby('SUBJECT_ID').agg(\n",
    "    {'AUC': 'mean', \n",
    "     'N_VISITS': 'max', \n",
    "     'N_CODES': ['min', 'max', 'mean', 'median'], \n",
    "     'INTERVALS': ['mean', 'max', 'min']\n",
    "    })\n"
   ],
   "outputs": []
  },
  {
   "cell_type": "code",
   "execution_count": 38,
   "id": "546ed05c",
   "metadata": {},
   "source": [
    "m4_best_visit_auc_subjects =  m4_visit_auc_subject[(m4_visit_auc_subject.N_VISITS['max'] > 2) & (m4_visit_auc_subject.INTERVALS['max'] < 150)]\n",
    "m4m3_best_visit_auc_subjects =  m4m3_visit_auc_subject[(m4m3_visit_auc_subject.N_VISITS['max'] > 1) & (m4m3_visit_auc_subject.INTERVALS['max'] < 150)]\n"
   ],
   "outputs": []
  },
  {
   "cell_type": "code",
   "execution_count": 39,
   "id": "429952cb",
   "metadata": {},
   "source": [
    "len(m4_best_visit_auc_subjects), len(m4m3_best_visit_auc_subjects)"
   ],
   "outputs": []
  },
  {
   "cell_type": "code",
   "execution_count": 40,
   "id": "aabfcd46",
   "metadata": {},
   "source": [
    "m4_ccs_history = {i: m4_interface.dx_flatccs_history(i) for i in m4_best_visit_auc_subjects.index}\n",
    "m4m3_ccs_history = {i: m3_interface.dx_flatccs_history(i) for i in m4m3_best_visit_auc_subjects.index}\n",
    "\n",
    "m4_ccs_idx_frequency = m4_interface.dx_flatccs_frequency(list(m4_best_visit_auc_subjects.index))\n",
    "m3_ccs_idx_frequency = m3_interface.dx_flatccs_frequency(list(m4m3_best_visit_auc_subjects.index))"
   ],
   "outputs": []
  },
  {
   "cell_type": "code",
   "execution_count": 41,
   "id": "37e6927d",
   "metadata": {},
   "source": [
    "m4_history_all_ccs_codes = set(map(C.ccs_dag.dx_flatccs_idx.get, set.union(*[set(h.keys()) for h in m4_ccs_history.values()])))\n",
    "m3_history_all_ccs_codes = set(map(C.ccs_dag.dx_flatccs_idx.get, set.union(*[set(h.keys()) for h in m4m3_ccs_history.values()])))\n",
    "m4_history_all_ccs_codes = {idx for idx in m4_history_all_ccs_codes if m4_ccs_idx_frequency[idx] < 10}\n",
    "m3_history_all_ccs_codes = {idx for idx in m3_history_all_ccs_codes if m3_ccs_idx_frequency[idx] < 10}\n",
    "\n",
    "len(m4_history_all_ccs_codes), len(m3_history_all_ccs_codes)"
   ],
   "outputs": []
  },
  {
   "cell_type": "code",
   "execution_count": 42,
   "id": "dcf1af53",
   "metadata": {},
   "source": [
    "icenode_m4_competent = upsetcontents_m4['ICE-NODE'] \n",
    "icenode_m4_competent = auctests_m4[auctests_m4['CODE_INDEX'].isin(icenode_m4_competent)]\n",
    "icenode_m4_competent = icenode_m4_competent[['N_POSITIVE_CODES', 'AUC(ICE-NODE)', 'DESC']].sort_values('N_POSITIVE_CODES',ascending=False)\n",
    "# icenode_m4_competent.head(50)\n",
    "trajectory_ccs_codes_level2 = [\n",
    "    173, 168, 169, 156, 165, 216, 171, 100, 167\n",
    "]\n",
    "icenode_m4_competent[icenode_m4_competent.index.isin(trajectory_ccs_codes_level2)]"
   ],
   "outputs": []
  },
  {
   "cell_type": "code",
   "execution_count": 43,
   "id": "0abd5e72",
   "metadata": {},
   "source": [
    "trajectory_ccs_codes_level1 = [\n",
    "    64, #renal fail \n",
    "    6, # pulm heart dx\n",
    "    236, # ear dx \n",
    "]\n"
   ],
   "outputs": []
  },
  {
   "cell_type": "code",
   "execution_count": 44,
   "id": "a6524fc6",
   "metadata": {},
   "source": [
    "m4_ccs_history_level1 = {i: history for i, history in m4_ccs_history.items() \n",
    "                         if len(set(map(A.dx_flatccs_idx2code.get, trajectory_ccs_codes_level1)) & set(history.keys())) > 0}\n",
    "m4m3_ccs_history_level1 = {i: history for i, history in m4m3_ccs_history.items() \n",
    "                         if len(set(map(A.dx_flatccs_idx2code.get, trajectory_ccs_codes_level1)) & set(history.keys())) > 0}\n",
    "\n",
    "m4_ccs_history_level2 = {i: history for i, history in m4_ccs_history.items() \n",
    "                         if len(set(map(A.dx_flatccs_idx2code.get, trajectory_ccs_codes_level2)) & set(history.keys())) > 0}\n",
    "m4m3_ccs_history_level2 = {i: history for i, history in m4m3_ccs_history.items() \n",
    "                         if len(set(map(A.dx_flatccs_idx2code.get, trajectory_ccs_codes_level2)) & set(history.keys())) > 0}"
   ],
   "outputs": []
  },
  {
   "cell_type": "code",
   "execution_count": 45,
   "id": "246fdc86",
   "metadata": {},
   "source": [
    "len(m4_ccs_history_level1), len(m4m3_ccs_history_level1), len(m4_ccs_history_level2), len(m4m3_ccs_history_level2) \n"
   ],
   "outputs": []
  },
  {
   "cell_type": "code",
   "execution_count": 46,
   "id": "4b952bcd",
   "metadata": {},
   "source": [
    "m4_cases = set(m4_ccs_history_level1.keys()) | set(m4_ccs_history_level2.keys())\n",
    "m4m3_cases = set(m4m3_ccs_history_level1.keys()) | set(m4m3_ccs_history_level2.keys())\n",
    "len(m4_cases), len(m4m3_cases)"
   ],
   "outputs": []
  },
  {
   "cell_type": "code",
   "execution_count": 47,
   "id": "8d35ce59",
   "metadata": {},
   "source": [
    "m4_icenode, m4_icenode_state = m4_predictors['ICE-NODE']\n",
    "m4_trajectory = m4_icenode.sample_trajectory(m4_icenode_state, m4_cases, 1)"
   ],
   "outputs": []
  },
  {
   "cell_type": "code",
   "execution_count": 48,
   "id": "8cfc4ec3",
   "metadata": {},
   "source": [
    "m4m3_icenode, m4m3_icenode_state = m4m3_predictors['ICE-NODE']\n",
    "m4m3_trajectory = m4m3_icenode.sample_trajectory(m4m3_icenode_state, m4m3_cases, 1)"
   ],
   "outputs": []
  },
  {
   "cell_type": "code",
   "execution_count": 49,
   "id": "637b96e5",
   "metadata": {},
   "source": [
    "# m4_selected_subjects = [\n",
    "#     13798593, #acute-renal\n",
    "#     13965528, #acute-renal\n",
    "#     11907876, #pulmonary heart dx\n",
    "#     13557547, #ear dx\n",
    "#     10139504, #acute renal fail\n",
    "#     12367864, #pulomonary-heart dx\n",
    "# ]\n",
    "\n",
    "# m4_selected_trajectory = {i: m4_trajectory[i] for i in m4_selected_subjects}\n",
    "\n",
    "# m3_selected_subjects = [\n",
    "#     50093 #pulmonary-heart dx\n",
    "# ]\n",
    "\n",
    "# m3_selected_trajectory = {i: m4m3_trajectory[i] for i in m3_selected_subjects}\n"
   ],
   "outputs": []
  },
  {
   "cell_type": "code",
   "execution_count": 174,
   "id": "e95b021c",
   "metadata": {},
   "source": [
    "import random\n",
    "\n",
    "trajectory_ccs_codes_level1 = [\n",
    "    64, #renal fail \n",
    "    6, # pulm heart dx\n",
    "    236, # ear dx \n",
    "    # Others\n",
    "    100, # Brnch/lng ca\n",
    "    168, # Kidney/rnl ca\n",
    "    194, # Immunity dx\n",
    "]\n",
    "\n",
    "\n",
    "\n",
    "# icenode_m4_competent.head(50)\n",
    "trajectory_ccs_codes_level2 = [\n",
    "    173, 168, 169, 156, 165, 216, 171, 100, 167\n",
    "]\n",
    "\n",
    "random.seed(42)\n",
    "ccs_color = {\n",
    "    6: 'blue',\n",
    "    64: 'purple',\n",
    "    236: 'orange',\n",
    "    # Others\n",
    "    100: 'salmon', # Brnch/lng ca\n",
    "    168: 'navy', # Kidney/rnl ca\n",
    "    194: 'pink', # Immunity dx\n",
    "    **{idx: \"#\"+''.join([random.choice('0123456789ABCDEF') for j in range(6)])\n",
    "                   for idx in trajectory_ccs_codes_level2}\n",
    "}\n",
    "\n",
    "\n",
    "plt.rcParams['figure.figsize'] = (10, 7)\n",
    "\n"
   ],
   "outputs": []
  },
  {
   "cell_type": "code",
   "execution_count": 183,
   "id": "5bcce07b",
   "metadata": {},
   "source": [
    "plt.close('all')\n",
    "for data_label, interface, trajectory_set in zip([\"M4\", \"M3\"], [m4_interface, m3_interface], [m4_trajectory, m4m3_trajectory]):\n",
    "    for indices_label, ccs_indices in zip([\"L1\", \"L2\", \"L1UL2\"], [trajectory_ccs_codes_level1, trajectory_ccs_codes_level2, trajectory_ccs_codes_level1 + trajectory_ccs_codes_level2]):\n",
    "        out_dir = f'{output_dir}/trajectories/{data_label}_{indices_label}' \n",
    "        Path(out_dir).mkdir(parents=True, exist_ok=True)\n",
    "        A.plot_trajectory(trajectories=trajectory_set, \n",
    "                          interface=interface, \n",
    "                          flatccs_selection=ccs_indices, \n",
    "                          ccs_color=ccs_color,\n",
    "                          out_dir=out_dir)"
   ],
   "outputs": []
  },
  {
   "cell_type": "code",
   "execution_count": null,
   "id": "6ed7f64d",
   "metadata": {},
   "source": [],
   "outputs": []
  }
 ],
 "metadata": {
  "kernelspec": {
   "display_name": "Python 3 (ipykernel)",
   "language": "python",
   "name": "python3"
  },
  "language_info": {
   "codemirror_mode": {
    "name": "ipython",
    "version": 3
   },
   "file_extension": ".py",
   "mimetype": "text/x-python",
   "name": "python",
   "nbconvert_exporter": "python",
   "pygments_lexer": "ipython3",
   "version": "3.8.13"
  }
 },
 "nbformat": 4,
 "nbformat_minor": 5
}
