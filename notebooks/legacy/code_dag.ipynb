{
 "cells": [
  {
   "cell_type": "code",
   "execution_count": 3,
   "id": "206cd736",
   "metadata": {},
   "source": [
    "\n",
    "%load_ext autoreload\n",
    "%autoreload 2\n",
    "\n",
    "import analysis as A\n",
    "import common as C"
   ],
   "outputs": []
  },
  {
   "cell_type": "code",
   "execution_count": 3,
   "id": "46f06364",
   "metadata": {},
   "source": [
    "icd9 = C.code_scheme['dx_icd9']"
   ],
   "outputs": []
  },
  {
   "cell_type": "code",
   "execution_count": 4,
   "id": "8f9af6bd",
   "metadata": {},
   "source": [
    "icd9_dag = icd9.to_digraph(node_attrs={'desc': icd9.dag_desc})"
   ],
   "outputs": []
  },
  {
   "cell_type": "code",
   "execution_count": 6,
   "id": "b61e34f2",
   "metadata": {},
   "source": [
    "import networkx as nx\n",
    "\n",
    "nx.write_graphml(icd9_dag, 'icd9_dag.graphml')"
   ],
   "outputs": []
  },
  {
   "cell_type": "code",
   "execution_count": 10,
   "id": "f8479d7e",
   "metadata": {},
   "source": [
    "import json\n",
    "from networkx.readwrite import json_graph\n",
    "\n",
    "def read_json_file(filename):\n",
    "    with open(filename) as f:\n",
    "        js_graph = json.load(f)['graph']\n",
    "    return json_graph.node_link_graph(js_graph, attrs=dict(link='edges'))"
   ],
   "outputs": []
  },
  {
   "cell_type": "code",
   "execution_count": 48,
   "id": "1dc47b06",
   "metadata": {},
   "source": [
    "icd9_selection2 = read_json_file('icd9_v3_groups.json')\n",
    "dag2code = {d: c for c, d in icd9.code2dag.items()}\n",
    "selected_codes = []\n",
    "for node in icd9_selection2.nodes.values():\n",
    "    dag_name = node['metadata']['Node Name']\n",
    "    if dag_name in dag2code:\n",
    "        selected_codes.append(dag2code[dag_name])\n"
   ],
   "outputs": []
  },
  {
   "cell_type": "code",
   "execution_count": 49,
   "id": "c208b002",
   "metadata": {},
   "source": [
    "outcome = {'code_scheme': 'dx_icd9',\n",
    "          'selected_codes': selected_codes,\n",
    "          'selected_codes_description': dict(zip(selected_codes, map(icd9.desc.get, selected_codes))),\n",
    "          'outcome_scheme': 'dx_icd9'}"
   ],
   "outputs": []
  },
  {
   "cell_type": "code",
   "execution_count": 50,
   "id": "881c0ff5",
   "metadata": {},
   "source": [
    "C.write_config(outcome, 'dx_icd9_v3_groups.json')"
   ],
   "outputs": []
  },
  {
   "cell_type": "code",
   "execution_count": 1,
   "id": "47681634",
   "metadata": {},
   "source": [
    "import pandas as pd"
   ],
   "outputs": []
  },
  {
   "cell_type": "code",
   "execution_count": 5,
   "id": "a6c65957",
   "metadata": {},
   "source": [
    "df = pd.read_csv('$dxref 2015 filtered.txt', skiprows=1)"
   ],
   "outputs": []
  },
  {
   "cell_type": "code",
   "execution_count": 4,
   "id": "c87b9e55",
   "metadata": {},
   "source": [
    "fccs = C.code_scheme['dx_flatccs']"
   ],
   "outputs": []
  },
  {
   "cell_type": "code",
   "execution_count": 6,
   "id": "2a5b1cb8",
   "metadata": {},
   "source": [
    "dx_ccs_cat_list = df['\\'CCS CATEGORY\\''].apply(\n",
    "            lambda cat: cat.strip('\\'').strip()).tolist()"
   ],
   "outputs": []
  },
  {
   "cell_type": "code",
   "execution_count": 19,
   "id": "5c910b82",
   "metadata": {},
   "source": [
    "flatccs_codes = set(dx_ccs_cat_list)\n",
    "exclude = [c for c in fccs.codes if c not in flatccs_codes]\n",
    "exclude"
   ],
   "outputs": []
  },
  {
   "cell_type": "code",
   "execution_count": 9,
   "id": "8cae8c7e",
   "metadata": {},
   "source": [
    "len(flatccs_codes)"
   ],
   "outputs": []
  },
  {
   "cell_type": "code",
   "execution_count": 22,
   "id": "1d8540d9",
   "metadata": {},
   "source": [
    "outcome = {'code_scheme': 'dx_flatccs',\n",
    "          'exclude_codes': sorted(exclude),\n",
    "          'exclude_codes_description': dict(zip(exclude, map(fccs.desc.get, exclude))),\n",
    "          'outcome_scheme': 'dx_flatccs'\n",
    "          }"
   ],
   "outputs": []
  },
  {
   "cell_type": "code",
   "execution_count": 23,
   "id": "94879cbd",
   "metadata": {},
   "source": [
    "C.write_config(outcome, 'dx_flatccs_mlhc_groups.json')"
   ],
   "outputs": []
  },
  {
   "cell_type": "code",
   "execution_count": 14,
   "id": "6a4a77b7",
   "metadata": {},
   "source": [
    "l = ['1', '10', '100', '101', '102', '103', '104', '105', '106', '107', '108', '109', '11', '110', '111', '112', '113', '114', '115', '116', '117', '118', '119', '12', '120', '121', '122', '123', '124', '125', '126', '127', '128', '129', '13', '130', '131', '132', '133', '134', '135', '136', '137', '138', '139', '14', '140', '141', '142', '143', '144', '145', '146', '147', '148', '149', '15', '151', '152', '153', '154', '155', '156', '157', '158', '159', '16', '160', '161', '162', '163', '164', '165', '166', '167', '168', '169', '17', '170', '171', '172', '173', '174', '175', '176', '177', '178', '179', '18', '180', '181', '182', '183', '184', '185', '186', '187', '188', '189', '19', '190', '191', '192', '193', '194', '195', '196', '197', '198', '199', '2', '20', '200', '201', '202', '203', '204', '205', '206', '207', '208', '209', '21', '210', '211', '212', '213', '214', '215', '216', '217', '218', '219', '22', '220', '221', '222', '223', '224', '225', '226', '227', '228', '229', '23', '230', '231', '232', '233', '24', '245', '246', '247', '248', '249', '25', '250', '251', '252', '26', '27', '28', '29', '3', '30', '31', '32', '33', '34', '35', '36', '37', '38', '39', '4', '40', '41', '42', '43', '44', '45', '46', '47', '48', '49', '5', '50', '51', '52', '53', '54', '55', '56', '57', '58', '59', '6', '60', '61', '62', '63', '64', '651', '652', '653', '654', '655', '656', '657', '658', '659', '660', '661', '670', '7', '76', '77', '78', '79', '8', '80', '81', '82', '83', '84', '85', '86', '87', '88', '89', '9', '90', '91', '92', '93', '94', '95', '96', '97', '98', '99']\n",
    "\n"
   ],
   "outputs": []
  },
  {
   "cell_type": "code",
   "execution_count": 16,
   "id": "a1133a96",
   "metadata": {},
   "source": [
    "flatccs_codes - set(fccs.codes)"
   ],
   "outputs": []
  },
  {
   "cell_type": "code",
   "execution_count": null,
   "id": "5dea6a59",
   "metadata": {},
   "source": [],
   "outputs": []
  }
 ],
 "metadata": {
  "kernelspec": {
   "display_name": "Python 3 (ipykernel)",
   "language": "python",
   "name": "python3"
  },
  "language_info": {
   "codemirror_mode": {
    "name": "ipython",
    "version": 3
   },
   "file_extension": ".py",
   "mimetype": "text/x-python",
   "name": "python",
   "nbconvert_exporter": "python",
   "pygments_lexer": "ipython3",
   "version": "3.8.13"
  }
 },
 "nbformat": 4,
 "nbformat_minor": 5
}
