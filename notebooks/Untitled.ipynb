{
 "cells": [
  {
   "cell_type": "code",
   "execution_count": 11,
   "id": "feff382f",
   "metadata": {},
   "outputs": [],
   "source": [
    "import os\n",
    "import glob\n",
    "import matplotlib.pyplot as plt\n",
    "import seaborn as sns\n",
    "from pathlib import Path\n",
    "from IPython.display import display\n",
    "from jax.tree_util import tree_map "
   ]
  },
  {
   "cell_type": "code",
   "execution_count": 12,
   "id": "c84cdb7c",
   "metadata": {},
   "outputs": [
    {
     "name": "stdout",
     "output_type": "stream",
     "text": [
      "The autoreload extension is already loaded. To reload it, use:\n",
      "  %reload_ext autoreload\n"
     ]
    }
   ],
   "source": [
    "HOME = os.environ.get('HOME')\n",
    "\n",
    "\n",
    "import analysis as A\n",
    "import common as C\n",
    "\n",
    "%load_ext autoreload\n",
    "%autoreload 2"
   ]
  },
  {
   "cell_type": "code",
   "execution_count": 13,
   "id": "0ef9730b",
   "metadata": {},
   "outputs": [],
   "source": [
    "mimic_dir = {\n",
    "    'M3': f'{HOME}/GP/ehr-data/mimic3-transforms',\n",
    "    'M4': f'{HOME}/GP/ehr-data/mimic4-transforms'\n",
    "}\n",
    "\n",
    "train_dir = {\n",
    "    'GM3': f'{HOME}/GP/ehr-data/icenode-m3-exp/train_config_v0.2.25_G_M3',\n",
    "    'M3': f'{HOME}/GP/ehr-data/icenode-m3-exp/train_config_v0.2.25_M3',\n",
    "    'M4': f'{HOME}/GP/ehr-data/icenode-m4-exp/train_config_v0.2.25_M4',\n",
    "    'GM4': f'{HOME}/GP/ehr-data/icenode-m4-exp/train_config_v0.2.25_G_M4'\n",
    "}\n",
    "\n",
    "model_dir = {\n",
    "    'ICE-NODE': 'icenode_2lr',\n",
    "    'ICE-NODE_UNIFORM': 'icenode_uniform2lr',\n",
    "    'GRU': 'gru',\n",
    "    'RETAIN': 'retain'\n",
    "}\n",
    "\n",
    "\n",
    "clfs = list(model_dir.keys())\n"
   ]
  },
  {
   "cell_type": "code",
   "execution_count": 30,
   "id": "1a10f262",
   "metadata": {},
   "outputs": [],
   "source": [
    "\n",
    "def fix(clfs, train_dir, model_dir, data_tag):\n",
    "    clfs_params_dir = train_dir[data_tag]\n",
    "    for clf in clfs:\n",
    "        clf_dir = model_dir[clf]\n",
    "        clf_cls = C.model_cls[clf]\n",
    "        param_files = sorted(\n",
    "            glob.glob(f'{clfs_params_dir}/{clf_dir}/*params.pickle', recursive=False))\n",
    "        \n",
    "        for param_file in param_files:\n",
    "            params = C.load_params(param_file)\n",
    "            if 'diag_emb' in params:\n",
    "                print('x')\n",
    "                params['dx_emb'] = params['diag_emb']\n",
    "                del params['diag_emb']\n",
    "                C.write_params(params, param_file)\n",
    "        \n",
    "        if len(param_files) > 0:\n",
    "            config = C.load_config(f'{clfs_params_dir}/{clf_dir}/config.json')\n",
    "        \n",
    "            if 'emb' in config:\n",
    "                if 'diag' in config['emb']:\n",
    "                    config['emb']['dx'] = config['emb']['diag']\n",
    "                    del config['emb']['diag']\n",
    "\n",
    "            C.write_config(config, f'{clfs_params_dir}/{clf_dir}/config.json')\n",
    "        \n",
    "        \n",
    "        "
   ]
  },
  {
   "cell_type": "code",
   "execution_count": 31,
   "id": "f054ff41",
   "metadata": {},
   "outputs": [],
   "source": [
    "fix(clfs, train_dir, model_dir, 'M3')"
   ]
  },
  {
   "cell_type": "code",
   "execution_count": 32,
   "id": "dce58e65",
   "metadata": {},
   "outputs": [],
   "source": [
    "fix(clfs, train_dir, model_dir, 'M4')"
   ]
  },
  {
   "cell_type": "code",
   "execution_count": 33,
   "id": "d7b7a578",
   "metadata": {},
   "outputs": [],
   "source": [
    "fix(clfs, train_dir, model_dir, 'GM3')"
   ]
  },
  {
   "cell_type": "code",
   "execution_count": 34,
   "id": "bb20abce",
   "metadata": {},
   "outputs": [],
   "source": [
    "fix(clfs, train_dir, model_dir, 'GM4')"
   ]
  },
  {
   "cell_type": "code",
   "execution_count": null,
   "id": "35dd56f7",
   "metadata": {},
   "outputs": [],
   "source": []
  }
 ],
 "metadata": {
  "kernelspec": {
   "display_name": "Python 3 (ipykernel)",
   "language": "python",
   "name": "python3"
  },
  "language_info": {
   "codemirror_mode": {
    "name": "ipython",
    "version": 3
   },
   "file_extension": ".py",
   "mimetype": "text/x-python",
   "name": "python",
   "nbconvert_exporter": "python",
   "pygments_lexer": "ipython3",
   "version": "3.8.12"
  }
 },
 "nbformat": 4,
 "nbformat_minor": 5
}
