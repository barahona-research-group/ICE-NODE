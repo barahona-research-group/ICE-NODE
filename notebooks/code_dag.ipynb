{
 "cells": [
  {
   "cell_type": "code",
   "execution_count": 2,
   "id": "206cd736",
   "metadata": {},
   "outputs": [
    {
     "name": "stdout",
     "output_type": "stream",
     "text": [
      "The autoreload extension is already loaded. To reload it, use:\n",
      "  %reload_ext autoreload\n"
     ]
    }
   ],
   "source": [
    "\n",
    "%load_ext autoreload\n",
    "%autoreload 2\n",
    "\n",
    "import analysis as A\n",
    "import common as C"
   ]
  },
  {
   "cell_type": "code",
   "execution_count": 3,
   "id": "46f06364",
   "metadata": {},
   "outputs": [],
   "source": [
    "icd9 = C.code_scheme['dx_icd9']"
   ]
  },
  {
   "cell_type": "code",
   "execution_count": 4,
   "id": "8f9af6bd",
   "metadata": {},
   "outputs": [],
   "source": [
    "icd9_dag = icd9.to_digraph(node_attrs={'desc': icd9.dag_desc})"
   ]
  },
  {
   "cell_type": "code",
   "execution_count": 6,
   "id": "b61e34f2",
   "metadata": {},
   "outputs": [],
   "source": [
    "import networkx as nx\n",
    "\n",
    "nx.write_graphml(icd9_dag, 'icd9_dag.graphml')"
   ]
  },
  {
   "cell_type": "code",
   "execution_count": 20,
   "id": "f8479d7e",
   "metadata": {},
   "outputs": [],
   "source": [
    "import json\n",
    "from networkx.readwrite import json_graph\n",
    "\n",
    "def read_json_file(filename):\n",
    "    with open(filename) as f:\n",
    "        js_graph = json.load(f)['graph']\n",
    "    return json_graph.node_link_graph(js_graph, attrs=dict(link='edges'))"
   ]
  },
  {
   "cell_type": "code",
   "execution_count": 48,
   "id": "1dc47b06",
   "metadata": {},
   "outputs": [],
   "source": [
    "icd9_selection2 = read_json_file('icd9_v3_groups.json')\n",
    "dag2code = {d: c for c, d in icd9.code2dag.items()}\n",
    "selected_codes = []\n",
    "for node in icd9_selection2.nodes.values():\n",
    "    dag_name = node['metadata']['Node Name']\n",
    "    if dag_name in dag2code:\n",
    "        selected_codes.append(dag2code[dag_name])\n"
   ]
  },
  {
   "cell_type": "code",
   "execution_count": 49,
   "id": "c208b002",
   "metadata": {},
   "outputs": [],
   "source": [
    "outcome = {'code_scheme': 'dx_icd9',\n",
    "          'selected_codes': selected_codes,\n",
    "          'selected_codes_description': dict(zip(selected_codes, map(icd9.desc.get, selected_codes))),\n",
    "          'outcome_scheme': 'dx_icd9'}"
   ]
  },
  {
   "cell_type": "code",
   "execution_count": 50,
   "id": "881c0ff5",
   "metadata": {},
   "outputs": [],
   "source": [
    "C.write_config(outcome, 'dx_icd9_v3_groups.json')"
   ]
  },
  {
   "cell_type": "code",
   "execution_count": null,
   "id": "47681634",
   "metadata": {},
   "outputs": [],
   "source": []
  }
 ],
 "metadata": {
  "kernelspec": {
   "display_name": "Python 3 (ipykernel)",
   "language": "python",
   "name": "python3"
  },
  "language_info": {
   "codemirror_mode": {
    "name": "ipython",
    "version": 3
   },
   "file_extension": ".py",
   "mimetype": "text/x-python",
   "name": "python",
   "nbconvert_exporter": "python",
   "pygments_lexer": "ipython3",
   "version": "3.8.13"
  }
 },
 "nbformat": 4,
 "nbformat_minor": 5
}
