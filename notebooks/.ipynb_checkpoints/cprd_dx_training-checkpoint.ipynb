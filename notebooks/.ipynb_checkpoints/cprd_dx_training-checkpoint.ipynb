{
 "cells": [
  {
   "cell_type": "markdown",
   "id": "f53f4d3c",
   "metadata": {},
   "source": [
    "# Table of Content\n",
    "\n",
    "<a name=\"outline\"></a>\n",
    "\n",
    "## Setup\n",
    "\n",
    "- [A](#seca) External Imports\n",
    "- [B](#secb) Internal Imports\n",
    "- [C](#secc) Configurations and Paths \n",
    "- [D](#secd) Patient Interface and Train/Val/Test Partitioning\n",
    "- [E](#sece) General Utility Functions\n",
    "\n",
    "\n",
    "## Training\n",
    "\n",
    "- [1](#sec1) Training ICE-NODE and The Baselines on MIMIC-III\n",
    "- [2](#sec2) Training ICE-NODE and The Baselines on MIMIC-IV"
   ]
  },
  {
   "cell_type": "markdown",
   "id": "697a491c",
   "metadata": {},
   "source": [
    "<a name=\"seca\"></a>\n",
    "\n",
    "### A External Imports [^](#outline)"
   ]
  },
  {
   "cell_type": "code",
   "execution_count": 1,
   "id": "4cfc614e",
   "metadata": {},
   "outputs": [],
   "source": [
    "import sys\n",
    "import os\n",
    "import glob\n",
    "import random\n",
    "from collections import defaultdict\n",
    "from pathlib import Path\n",
    "\n",
    "from IPython.display import display\n",
    "\n",
    "import pandas as pd\n",
    "\n",
    "from tqdm import tqdm"
   ]
  },
  {
   "cell_type": "markdown",
   "id": "23f0d568",
   "metadata": {},
   "source": [
    "<a name=\"secb\"></a>\n",
    "\n",
    "### B Internal Imports [^](#outline)"
   ]
  },
  {
   "cell_type": "code",
   "execution_count": 2,
   "id": "894a3743",
   "metadata": {},
   "outputs": [
    {
     "name": "stderr",
     "output_type": "stream",
     "text": [
      "/home/asem/GP/env/icenode-dev/lib/python3.8/site-packages/haiku/_src/data_structures.py:37: FutureWarning: jax.tree_structure is deprecated, and will be removed in a future release. Use jax.tree_util.tree_structure instead.\n",
      "  PyTreeDef = type(jax.tree_structure(None))\n"
     ]
    }
   ],
   "source": [
    "%load_ext autoreload\n",
    "%autoreload 2\n",
    "\n",
    "import train as T\n",
    "import common as C\n"
   ]
  },
  {
   "cell_type": "code",
   "execution_count": 3,
   "id": "8c176dbe",
   "metadata": {},
   "outputs": [],
   "source": [
    "# HOME and DATA_STORE are arbitrary, change as appropriate.\n",
    "HOME = os.environ.get('HOME')\n",
    "DATA_STORE = f'{HOME}/GP/ehr-data'\n",
    "DATA_FILE = os.path.join(DATA_STORE, 'cprd-data/DUMMY_DATA.csv')\n",
    "SOURCE_DIR = os.path.abspath(\"..\")"
   ]
  },
  {
   "cell_type": "markdown",
   "id": "d9340794",
   "metadata": {},
   "source": [
    "<a name=\"secd\"></a>\n",
    "\n",
    "### D Configurations and Paths [^](#outline)"
   ]
  },
  {
   "cell_type": "markdown",
   "id": "5d5c56b2",
   "metadata": {},
   "source": [
    "**Assign** MIMIC-III and MIMIC-IV directory paths into `mimic3` and `mimic4` variables."
   ]
  },
  {
   "cell_type": "code",
   "execution_count": 4,
   "id": "f1898f46",
   "metadata": {},
   "outputs": [],
   "source": [
    "output_dir = 'cprd_artefacts'\n",
    "Path(output_dir).mkdir(parents=True, exist_ok=True)"
   ]
  },
  {
   "cell_type": "code",
   "execution_count": 5,
   "id": "86e81c71",
   "metadata": {},
   "outputs": [],
   "source": [
    "with C.modified_environ(DATA_FILE=DATA_FILE):\n",
    "    cprd_dataset = C.datasets['CPRD']\n",
    "   "
   ]
  },
  {
   "cell_type": "code",
   "execution_count": 6,
   "id": "c8d78296",
   "metadata": {},
   "outputs": [],
   "source": [
    "\"\"\"\n",
    "optimal hyperparams re: each model.\n",
    "\"\"\"\n",
    "\n",
    "model_config = {\n",
    "    'ICE-NODE': f'{SOURCE_DIR}/expt_configs/cprd/icenode_2lr.json' ,\n",
    "    'ICE-NODE_UNIFORM': f'{SOURCE_DIR}/expt_configs/cprd/icenode_2lr.json' ,\n",
    "    'GRU': f'{SOURCE_DIR}/expt_configs/cprd/gru.json' ,\n",
    "    'RETAIN': f'{SOURCE_DIR}/expt_configs/cprd/retain.json'\n",
    "}\n",
    "\n",
    "model_config = {clf: C.load_config(file) for clf, file in model_config.items()}\n",
    "\n",
    "clfs = ['ICE-NODE', 'ICE-NODE_UNIFORM', 'GRU', 'RETAIN']"
   ]
  },
  {
   "cell_type": "code",
   "execution_count": 7,
   "id": "9ccb6be2",
   "metadata": {},
   "outputs": [
    {
     "data": {
      "text/plain": [
       "[None, None, None, None]"
      ]
     },
     "execution_count": 7,
     "metadata": {},
     "output_type": "execute_result"
    }
   ],
   "source": [
    "cprd_train_output_dir = {clf: f'{output_dir}/train/{clf}' for clf in clfs}\n",
    "\n",
    "[Path(d).mkdir(parents=True, exist_ok=True) for d in cprd_train_output_dir.values()]"
   ]
  },
  {
   "cell_type": "code",
   "execution_count": 8,
   "id": "701e3b8f",
   "metadata": {},
   "outputs": [],
   "source": [
    "cprd_reporters = T.make_reporters(clfs, cprd_train_output_dir)"
   ]
  },
  {
   "cell_type": "markdown",
   "id": "24d26707",
   "metadata": {},
   "source": [
    "<a name=\"sece\"></a>\n",
    "\n",
    "### E Patient Interface and Train/Val/Test Patitioning [^](#outline)"
   ]
  },
  {
   "cell_type": "code",
   "execution_count": 9,
   "id": "02e43e04",
   "metadata": {},
   "outputs": [],
   "source": [
    "code_scheme = {\n",
    "    'dx': 'dx_cprd_ltc9809',\n",
    "    'dx_outcome': 'dx_cprd_ltc9809'\n",
    "}\n",
    "cprd_interface = C.Subject_JAX.from_dataset(cprd_dataset, code_scheme=code_scheme)\n",
    "cprd_splits = cprd_interface.random_splits(split1=0.7, split2=0.85, random_seed=42)\n"
   ]
  },
  {
   "cell_type": "code",
   "execution_count": 10,
   "id": "ca3a0902",
   "metadata": {},
   "outputs": [],
   "source": [
    "cprd_percentiles = cprd_interface.dx_outcome_by_percentiles(20)\n",
    "cprd_train_percentiles = cprd_interface.dx_outcome_by_percentiles(20, cprd_splits[0])"
   ]
  },
  {
   "cell_type": "code",
   "execution_count": 11,
   "id": "542d1b22",
   "metadata": {},
   "outputs": [
    {
     "name": "stderr",
     "output_type": "stream",
     "text": [
      "/home/asem/GP/env/icenode-dev/lib/python3.8/site-packages/haiku/_src/data_structures.py:144: FutureWarning: jax.tree_flatten is deprecated, and will be removed in a future release. Use jax.tree_util.tree_flatten instead.\n",
      "  leaves, treedef = jax.tree_flatten(tree)\n",
      "/home/asem/GP/env/icenode-dev/lib/python3.8/site-packages/haiku/_src/data_structures.py:145: FutureWarning: jax.tree_unflatten is deprecated, and will be removed in a future release. Use jax.tree_util.tree_unflatten instead.\n",
      "  return jax.tree_unflatten(treedef, leaves)\n"
     ]
    }
   ],
   "source": [
    "cprd_models = T.init_models(clfs, model_config, cprd_interface, cprd_splits[0])\n"
   ]
  },
  {
   "cell_type": "markdown",
   "id": "05f87624",
   "metadata": {},
   "source": [
    "<a name=\"sec1\"></a>\n",
    "\n",
    "### 1 Training ICE-NODE and The Baselines on MIMIC-III [^](#outline)"
   ]
  },
  {
   "cell_type": "markdown",
   "id": "958d7262",
   "metadata": {},
   "source": [
    "#### ICE-NODE"
   ]
  },
  {
   "cell_type": "code",
   "execution_count": 12,
   "id": "c91a09d4",
   "metadata": {},
   "outputs": [
    {
     "ename": "NameError",
     "evalue": "name 'cprd_reporters' is not defined",
     "output_type": "error",
     "traceback": [
      "\u001b[0;31m---------------------------------------------------------------------------\u001b[0m",
      "\u001b[0;31mNameError\u001b[0m                                 Traceback (most recent call last)",
      "\u001b[0;32m/tmp/ipykernel_1132142/806459271.py\u001b[0m in \u001b[0;36m<module>\u001b[0;34m\u001b[0m\n\u001b[1;32m      2\u001b[0m cprd_trained_icenode = T.train(cprd_models['ICE-NODE'], config=model_config['ICE-NODE'], \n\u001b[1;32m      3\u001b[0m                              \u001b[0msplits\u001b[0m\u001b[0;34m=\u001b[0m\u001b[0mcprd_splits\u001b[0m\u001b[0;34m,\u001b[0m \u001b[0mcode_groups\u001b[0m\u001b[0;34m=\u001b[0m\u001b[0mcprd_train_percentiles\u001b[0m\u001b[0;34m,\u001b[0m\u001b[0;34m\u001b[0m\u001b[0;34m\u001b[0m\u001b[0m\n\u001b[0;32m----> 4\u001b[0;31m                              reporters=cprd_reporters['ICE-NODE'])\n\u001b[0m",
      "\u001b[0;31mNameError\u001b[0m: name 'cprd_reporters' is not defined"
     ]
    }
   ],
   "source": [
    "## TODO: This may take a long time, a pretrained model already exists in (yy).\n",
    "cprd_trained_icenode = T.train(cprd_models['ICE-NODE'], config=model_config['ICE-NODE'], \n",
    "                             splits=cprd_splits, code_groups=cprd_train_percentiles,\n",
    "                             reporters=cprd_reporters['ICE-NODE'])"
   ]
  },
  {
   "cell_type": "markdown",
   "id": "bf6a21bb",
   "metadata": {},
   "source": [
    "#### ICE-NODE_UNIFORM"
   ]
  },
  {
   "cell_type": "code",
   "execution_count": null,
   "id": "f868ee28",
   "metadata": {},
   "outputs": [],
   "source": [
    "## TODO: This can take up to (xx), trained model already exist in (yy).\n",
    "cprd_trained_icenode_uni = T.train(cprd_models['ICE-NODE_UNIFORM'], config=model_config['ICE-NODE_UNIFORM'], \n",
    "                                 splits=cprd_splits, code_groups=cprd_train_percentiles,\n",
    "                                 reporters=cprd_reporters['ICE-NODE_UNIFORM'])\n"
   ]
  },
  {
   "cell_type": "markdown",
   "id": "083317e8",
   "metadata": {},
   "source": [
    "#### GRU"
   ]
  },
  {
   "cell_type": "code",
   "execution_count": null,
   "id": "72be64a0",
   "metadata": {},
   "outputs": [],
   "source": [
    "## TODO: This can take up to (xx), trained model already exist in (yy).\n",
    "cprd_trained_gru = T.train(cprd_models['GRU'], config=model_config['GRU'], \n",
    "                         splits=cprd_splits, code_groups=cprd_train_percentiles,\n",
    "                         reporters=cprd_reporters['GRU'])"
   ]
  },
  {
   "cell_type": "markdown",
   "id": "78ad24c2",
   "metadata": {},
   "source": [
    "#### RETAIN"
   ]
  },
  {
   "cell_type": "code",
   "execution_count": null,
   "id": "72f0b60c",
   "metadata": {},
   "outputs": [],
   "source": [
    "## TODO: This can take up to (xx), trained model already exist in (yy).\n",
    "cprd_trained_retain = T.train(cprd_models['RETAIN'], config=model_config['RETAIN'], \n",
    "                         splits=cprd_splits, code_groups=cprd_train_percentiles,\n",
    "                         reporters=cprd_reporters['RETAIN'])"
   ]
  }
 ],
 "metadata": {
  "kernelspec": {
   "display_name": "Python 3 (ipykernel)",
   "language": "python",
   "name": "python3"
  },
  "language_info": {
   "codemirror_mode": {
    "name": "ipython",
    "version": 3
   },
   "file_extension": ".py",
   "mimetype": "text/x-python",
   "name": "python",
   "nbconvert_exporter": "python",
   "pygments_lexer": "ipython3",
   "version": "3.8.13"
  }
 },
 "nbformat": 4,
 "nbformat_minor": 5
}
