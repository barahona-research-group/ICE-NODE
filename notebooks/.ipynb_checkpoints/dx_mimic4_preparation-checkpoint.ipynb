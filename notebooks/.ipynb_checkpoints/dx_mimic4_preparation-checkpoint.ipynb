{
 "cells": [
  {
   "cell_type": "markdown",
   "id": "36de0219",
   "metadata": {},
   "source": [
    "# MIMIC-IV Preparation\n",
    "\n",
    "This tutorial provides the steps of downloading the publicly available MIMIC-IV dataset (assuming granted access), followed by cohort selection, and transformation to a compatible format with out software.\n",
    "\n",
    "<a name=\"outline\"></a>\n",
    "\n",
    "## Outline\n",
    "\n",
    "- [1](#sec1) Downloading MIMIC-IV\n",
    "- [2](#sec2) Cohort Selection\n",
    "- [3](#sec3) Export\n"
   ]
  },
  {
   "cell_type": "code",
   "execution_count": null,
   "id": "a53d96d7",
   "metadata": {},
   "outputs": [],
   "source": [
    "import pandas as pd\n",
    "from collections import defaultdict"
   ]
  },
  {
   "cell_type": "markdown",
   "id": "200b4fda",
   "metadata": {},
   "source": [
    "<a name=\"sec1\"></a>\n",
    "\n",
    "## 1 Downloading MIMIC-IV  [^](#outline)\n",
    "\n",
    "We assume a granted access to [MIMIC-IV dataset](https://physionet.org/content/mimiciv/1.0/), a process that often takes two weeks from the access request to the approval. From our experience, a granted access to MIMIC-III automatically grants access to MIMIC-IV.\n",
    "\n",
    "From this page [https://physionet.org/content/mimiciv/1.0/](https://physionet.org/content/mimiciv/1.0/), consult the online file browser at the end of the page to download the following files:\n",
    "\n",
    "1. [`core/admissions.csv.gz`](https://physionet.org/files/mimiciv/1.0/core/admissions.csv.gz?download)\n",
    "2. [`hosp/diagnoses_icd.csv.gz`](https://physionet.org/files/mimiciv/1.0/hosp/diagnoses_icd.csv.gz?download)\n",
    "\n",
    "\n",
    "copy/paste these two files into an arbitrary location of your choice and assign that dirctory path to the variable `mimic4_dir`.\n"
   ]
  },
  {
   "cell_type": "code",
   "execution_count": null,
   "id": "6223192f",
   "metadata": {},
   "outputs": [],
   "source": [
    "\n",
    "# Load admission file\n",
    "admissions_df = pd.read_csv('data/admissions.csv.gz')\n",
    "\n",
    "# Count of all subjects in MIMIC-III\n",
    "print(f'#Subjects: {admissions_df.subject_id.nunique()}')\n",
    "\n",
    "admissions_df"
   ]
  },
  {
   "cell_type": "code",
   "execution_count": null,
   "id": "8bfb27ee",
   "metadata": {},
   "outputs": [],
   "source": [
    "# Load Diagnosis file\n",
    "diag_df = pd.read_csv('data/diagnoses_icd.csv.gz', dtype = {'icd_code': str})\n",
    "diag_df"
   ]
  },
  {
   "cell_type": "markdown",
   "id": "1edc5cb5",
   "metadata": {},
   "source": [
    "<a name=\"sec2\"></a>\n",
    "\n",
    "## 2 Cohort Selection  [^](#outline)"
   ]
  },
  {
   "cell_type": "markdown",
   "id": "840e1f44",
   "metadata": {},
   "source": [
    "### 2.A Patient Selection: Minimum of Two Visits\n",
    "\n",
    "Patients with only one admission (i.e. single timestamp for the diagnosis codes) are not useful in training/validation/testing."
   ]
  },
  {
   "cell_type": "code",
   "execution_count": null,
   "id": "e03e164a",
   "metadata": {},
   "outputs": [],
   "source": [
    "patient_admissions = defaultdict(set)\n",
    "\n",
    "for row in admissions_df.itertuples():\n",
    "    patient_admissions[row.subject_id].add(row.hadm_id)\n",
    "    \n",
    "patients_admissions_df = pd.DataFrame({\n",
    "    'patient': patient_admissions.keys(), \n",
    "    'n_admissions': map(len, patient_admissions.values())\n",
    "})\n",
    "\n",
    "\n",
    "selected_patients_A = set(patients_admissions_df[patients_admissions_df.n_admissions > 1].patient.tolist())\n",
    "\n",
    "len(selected_patients_A)"
   ]
  },
  {
   "cell_type": "markdown",
   "id": "26a9fd3a",
   "metadata": {},
   "source": [
    "Apply the filtration"
   ]
  },
  {
   "cell_type": "code",
   "execution_count": null,
   "id": "1800f5ae",
   "metadata": {},
   "outputs": [],
   "source": [
    "admissions_A_df = admissions_df[admissions_df.subject_id.isin(selected_patients_A)].reset_index(drop=True)\n",
    "diag_A_df =  diag_df[diag_df.hadm_id.isin(admissions_A_df.hadm_id)].reset_index(drop=True)\n",
    "diag_A_df = diag_A_df[diag_A_df.icd_code.notnull()].reset_index(drop=True)\n",
    "admissions_A_df.subject_id.nunique(), len(admissions_A_df), len(diag_A_df)"
   ]
  },
  {
   "cell_type": "markdown",
   "id": "abfd40ab",
   "metadata": {},
   "source": [
    "### 2.B Patient Selection: Maximum Hospital Stay is Two Weeks"
   ]
  },
  {
   "cell_type": "code",
   "execution_count": null,
   "id": "7e77721f",
   "metadata": {},
   "outputs": [],
   "source": [
    "admit = pd.to_datetime(admissions_A_df['admittime'], infer_datetime_format=True).dt.normalize() \n",
    "disch = pd.to_datetime(admissions_A_df['dischtime'], infer_datetime_format=True).dt.normalize()\n",
    "admissions_A_df['days'] = (disch - admit).dt.days\n",
    "admissions_A_df.head()"
   ]
  },
  {
   "cell_type": "code",
   "execution_count": null,
   "id": "db9da107",
   "metadata": {},
   "outputs": [],
   "source": [
    "longest_admission = {}\n",
    "for subject_id, subject_df in admissions_A_df.groupby('subject_id'):\n",
    "    longest_admission[subject_id] = subject_df.days.max()\n",
    "    \n",
    "admissions_A_df['max_days'] = admissions_A_df.subject_id.map(longest_admission)\n",
    "selected_patients_B = set(admissions_A_df[admissions_A_df.max_days <= 14].subject_id)"
   ]
  },
  {
   "cell_type": "markdown",
   "id": "bb486a73",
   "metadata": {},
   "source": [
    "Apply the filtration"
   ]
  },
  {
   "cell_type": "code",
   "execution_count": null,
   "id": "5179cb06",
   "metadata": {},
   "outputs": [],
   "source": [
    "admissions_B_df = admissions_A_df[admissions_A_df.subject_id.isin(selected_patients_B)].reset_index(drop=True)\n",
    "diag_B_df =  diag_A_df[diag_A_df.hadm_id.isin(admissions_B_df.hadm_id)].reset_index(drop=True)\n",
    "diag_B_df = diag_B_df[diag_B_df.icd_code.notnull()].reset_index(drop=True)\n",
    "admissions_B_df.subject_id.nunique(), len(admissions_B_df), len(diag_B_df)"
   ]
  },
  {
   "cell_type": "markdown",
   "id": "52ee665d",
   "metadata": {},
   "source": [
    "<a name=\"sec3\"></a>\n",
    "\n",
    "## 3 Export  [^](#outline)\n",
    "\n",
    "Select relevant columns from `admissions_B_df` and `diag_B_df` then write to disk."
   ]
  },
  {
   "cell_type": "code",
   "execution_count": null,
   "id": "7fe6496d",
   "metadata": {},
   "outputs": [],
   "source": [
    "admissions_selected_df = admissions_B_df[['subject_id', 'hadm_id', 'admittime', 'dischtime']]"
   ]
  },
  {
   "cell_type": "code",
   "execution_count": null,
   "id": "70695add",
   "metadata": {},
   "outputs": [],
   "source": [
    "admissions_selected_df.admittime = pd.to_datetime(admissions_selected_df.admittime, \n",
    "                                                  infer_datetime_format=True).dt.normalize()\n",
    "admissions_selected_df.dischtime = pd.to_datetime(admissions_selected_df.dischtime, \n",
    "                                                  infer_datetime_format=True).dt.normalize()"
   ]
  },
  {
   "cell_type": "code",
   "execution_count": null,
   "id": "4e814f2f",
   "metadata": {},
   "outputs": [],
   "source": [
    "admissions_selected_df.head()"
   ]
  },
  {
   "cell_type": "code",
   "execution_count": null,
   "id": "272ae60e",
   "metadata": {},
   "outputs": [],
   "source": [
    "diag_selected_df = diag_B_df[['subject_id', 'hadm_id', 'icd_code', 'icd_version']]\n",
    "diag_selected_df = diag_selected_df[diag_selected_df.icd_code.notnull()]"
   ]
  },
  {
   "cell_type": "markdown",
   "id": "56d4a71a",
   "metadata": {},
   "source": [
    "### Convert ICD10 to ICD9\n",
    "\n",
    "MIMIC-IV uses both ICD9 and ICD10 coding schemes as opposed to MIMIC-III which only uses ICD9.\n",
    "In the current research all coding schemes are mapped to CCS coding scheme.\n",
    "The developed library supports ICD9 to CCS mapping, while mapping from ICD10 is not yet supported.\n",
    "For MIMIC-IV, we will first convert all ICD10 codes to ICD9 in the following cells, so after that we can apply the same pipeline on MIMIC-III and MIMIC-IV.\n"
   ]
  },
  {
   "cell_type": "code",
   "execution_count": null,
   "id": "1a622fb5",
   "metadata": {},
   "outputs": [],
   "source": [
    "icd_conv = pd.read_csv('icd10toicd9gem.csv', dtype = {'icd9cm': str, 'icd10cm': str})\n",
    "icd_conv.head()"
   ]
  },
  {
   "cell_type": "code",
   "execution_count": null,
   "id": "e4d1ade6",
   "metadata": {},
   "outputs": [],
   "source": [
    "# Conversion dictionary (1:N map)\n",
    "icd_conv_dict = defaultdict(set)\n",
    "\n",
    "for row in icd_conv[icd_conv.no_map == 0].itertuples():\n",
    "    icd_conv_dict[row.icd10cm].add(row.icd9cm)\n",
    "    \n",
    "diagnoses_icd_10 = diag_selected_df[diag_selected_df.icd_version == 10]\n",
    "\n",
    "diagnoses_icd9_converted = {'subject_id': [],\n",
    "                            'hadm_id': [],\n",
    "                            'icd_code': [],\n",
    "                            'icd_version': []}\n",
    "\n",
    "for row in diagnoses_icd_10.itertuples():\n",
    "    for icd9 in icd_conv_dict.get(row.icd_code, {}):\n",
    "        diagnoses_icd9_converted['subject_id'].append(row.subject_id)\n",
    "        diagnoses_icd9_converted['hadm_id'].append(row.hadm_id)\n",
    "        diagnoses_icd9_converted['icd_code'].append(icd9)\n",
    "        diagnoses_icd9_converted['icd_version'].append(9)\n",
    "diagnoses_icd9_converted = pd.DataFrame(diagnoses_icd9_converted)\n",
    "\n",
    "# The original rows with ICD9\n",
    "diagnoses_icd9 = diag_selected_df[diag_selected_df.icd_version == 9]\n",
    "\n",
    "\n",
    "\n",
    "# Now with merging the converted ICD9\n",
    "diagnoses_icd9 = diagnoses_icd9.append(diagnoses_icd9_converted)\n",
    "\n",
    "# Remove the column 'icd_version' (everythin is version 9 now)\n",
    "diagnoses_icd9 = diagnoses_icd9[['subject_id', 'hadm_id', 'icd_code']]\n",
    "\n",
    "# capitalize all column names (to follow the same convention of MIMIC-III, and to be compatible with the library)\n",
    "diagnoses_icd9.columns = ['SUBJECT_ID', 'HADM_ID', 'ICD9_CODE']\n",
    "admissions_selected_df.columns = ['SUBJECT_ID', 'HADM_ID', 'ADMITTIME', 'DISCHTIME']"
   ]
  },
  {
   "cell_type": "code",
   "execution_count": null,
   "id": "80657a94",
   "metadata": {},
   "outputs": [],
   "source": [
    "diagnoses_icd9.head()"
   ]
  },
  {
   "cell_type": "code",
   "execution_count": null,
   "id": "9a054f5b",
   "metadata": {},
   "outputs": [],
   "source": [
    "admissions_selected_df.to_csv('data/mimic4_adm_df.csv.gz', compression='gzip', index=False)\n",
    "diagnoses_icd9.to_csv('data/mimic4_diag_df.csv.gz', compression='gzip', index=False)"
   ]
  },
  {
   "cell_type": "code",
   "execution_count": null,
   "id": "65f483d1",
   "metadata": {},
   "outputs": [],
   "source": []
  }
 ],
 "metadata": {
  "kernelspec": {
   "display_name": "Python 3 (ipykernel)",
   "language": "python",
   "name": "python3"
  },
  "language_info": {
   "codemirror_mode": {
    "name": "ipython",
    "version": 3
   },
   "file_extension": ".py",
   "mimetype": "text/x-python",
   "name": "python",
   "nbconvert_exporter": "python",
   "pygments_lexer": "ipython3",
   "version": "3.8.12"
  }
 },
 "nbformat": 4,
 "nbformat_minor": 5
}
