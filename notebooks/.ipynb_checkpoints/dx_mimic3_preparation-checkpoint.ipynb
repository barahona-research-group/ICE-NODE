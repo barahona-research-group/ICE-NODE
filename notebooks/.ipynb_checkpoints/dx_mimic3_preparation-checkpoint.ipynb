{
 "cells": [
  {
   "cell_type": "markdown",
   "id": "c046e4ec",
   "metadata": {},
   "source": [
    "# MIMIC-III Preparation\n",
    "\n",
    "This tutorial provides the steps of downloading the publicly available MIMIC-III dataset (assuming granted access), followed by cohort selection, and transformation to a compatible format with out software.\n",
    "\n",
    "<a name=\"outline\"></a>\n",
    "\n",
    "## Outline\n",
    "\n",
    "- [1](#sec1) Downloading MIMIC-III\n",
    "- [2](#sec2) Cohort Selection\n",
    "- [3](#sec3) Export\n"
   ]
  },
  {
   "cell_type": "code",
   "execution_count": 1,
   "id": "e5fee477",
   "metadata": {},
   "outputs": [],
   "source": [
    "import pandas as pd\n",
    "from collections import defaultdict"
   ]
  },
  {
   "cell_type": "markdown",
   "id": "1adad904",
   "metadata": {},
   "source": [
    "<a name=\"sec1\"></a>\n",
    "\n",
    "## 1 Downloading MIMIC-III  [^](#outline)\n",
    "\n",
    "We assume a granted access to [MIMIC-III dataset](https://physionet.org/content/mimiciii/1.4/), a process that often takes two weeks from the access request to the approval.\n",
    "\n",
    "From this page [https://physionet.org/content/mimiciii/1.4/](https://physionet.org/content/mimiciii/1.4/), consult the table at the end of the page to download the following files:\n",
    "\n",
    "1. [`ADMISSIONS.csv.gz`](https://physionet.org/files/mimiciii/1.4/ADMISSIONS.csv.gz?download)\n",
    "2. [`DIAGNOSES_ICD.csv.gz`](https://physionet.org/files/mimiciii/1.4/DIAGNOSES_ICD.csv.gz?download)\n",
    "\n",
    "\n",
    "copy/paste these two files into an arbitrary location of your choice and assign that dirctory path to the variable `mimic3_dir`.\n"
   ]
  },
  {
   "cell_type": "code",
   "execution_count": 2,
   "id": "0e56882f",
   "metadata": {},
   "outputs": [
    {
     "name": "stdout",
     "output_type": "stream",
     "text": [
      "#Subjects: 4434\n"
     ]
    },
    {
     "data": {
      "text/html": [
       "<div>\n",
       "<style scoped>\n",
       "    .dataframe tbody tr th:only-of-type {\n",
       "        vertical-align: middle;\n",
       "    }\n",
       "\n",
       "    .dataframe tbody tr th {\n",
       "        vertical-align: top;\n",
       "    }\n",
       "\n",
       "    .dataframe thead th {\n",
       "        text-align: right;\n",
       "    }\n",
       "</style>\n",
       "<table border=\"1\" class=\"dataframe\">\n",
       "  <thead>\n",
       "    <tr style=\"text-align: right;\">\n",
       "      <th></th>\n",
       "      <th>SUBJECT_ID</th>\n",
       "      <th>HADM_ID</th>\n",
       "      <th>ADMITTIME</th>\n",
       "      <th>DISCHTIME</th>\n",
       "      <th>ADMISSION_TYPE</th>\n",
       "      <th>ADMISSION_LOCATION</th>\n",
       "      <th>ETHNICITY</th>\n",
       "      <th>DIAGNOSIS</th>\n",
       "      <th>DAYS</th>\n",
       "      <th>MAX_DAYS</th>\n",
       "    </tr>\n",
       "  </thead>\n",
       "  <tbody>\n",
       "    <tr>\n",
       "      <th>0</th>\n",
       "      <td>23</td>\n",
       "      <td>152223</td>\n",
       "      <td>2153-09-03</td>\n",
       "      <td>2153-09-08</td>\n",
       "      <td>ELECTIVE</td>\n",
       "      <td>PHYS REFERRAL/NORMAL DELI</td>\n",
       "      <td>WHITE</td>\n",
       "      <td>CORONARY ARTERY DISEASE\\CORONARY ARTERY BYPASS...</td>\n",
       "      <td>5</td>\n",
       "      <td>7</td>\n",
       "    </tr>\n",
       "    <tr>\n",
       "      <th>1</th>\n",
       "      <td>23</td>\n",
       "      <td>124321</td>\n",
       "      <td>2157-10-18</td>\n",
       "      <td>2157-10-25</td>\n",
       "      <td>EMERGENCY</td>\n",
       "      <td>TRANSFER FROM HOSP/EXTRAM</td>\n",
       "      <td>WHITE</td>\n",
       "      <td>BRAIN MASS</td>\n",
       "      <td>7</td>\n",
       "      <td>7</td>\n",
       "    </tr>\n",
       "    <tr>\n",
       "      <th>2</th>\n",
       "      <td>34</td>\n",
       "      <td>115799</td>\n",
       "      <td>2186-07-18</td>\n",
       "      <td>2186-07-20</td>\n",
       "      <td>EMERGENCY</td>\n",
       "      <td>TRANSFER FROM HOSP/EXTRAM</td>\n",
       "      <td>WHITE</td>\n",
       "      <td>CHEST PAIN\\CATH</td>\n",
       "      <td>2</td>\n",
       "      <td>2</td>\n",
       "    </tr>\n",
       "    <tr>\n",
       "      <th>3</th>\n",
       "      <td>34</td>\n",
       "      <td>144319</td>\n",
       "      <td>2191-02-23</td>\n",
       "      <td>2191-02-25</td>\n",
       "      <td>EMERGENCY</td>\n",
       "      <td>CLINIC REFERRAL/PREMATURE</td>\n",
       "      <td>WHITE</td>\n",
       "      <td>BRADYCARDIA</td>\n",
       "      <td>2</td>\n",
       "      <td>2</td>\n",
       "    </tr>\n",
       "    <tr>\n",
       "      <th>4</th>\n",
       "      <td>36</td>\n",
       "      <td>182104</td>\n",
       "      <td>2131-04-30</td>\n",
       "      <td>2131-05-08</td>\n",
       "      <td>EMERGENCY</td>\n",
       "      <td>CLINIC REFERRAL/PREMATURE</td>\n",
       "      <td>WHITE</td>\n",
       "      <td>CORONARY ARTERY DISEASE\\CORONARY ARTERY BYPASS...</td>\n",
       "      <td>8</td>\n",
       "      <td>13</td>\n",
       "    </tr>\n",
       "    <tr>\n",
       "      <th>...</th>\n",
       "      <td>...</td>\n",
       "      <td>...</td>\n",
       "      <td>...</td>\n",
       "      <td>...</td>\n",
       "      <td>...</td>\n",
       "      <td>...</td>\n",
       "      <td>...</td>\n",
       "      <td>...</td>\n",
       "      <td>...</td>\n",
       "      <td>...</td>\n",
       "    </tr>\n",
       "    <tr>\n",
       "      <th>10949</th>\n",
       "      <td>98759</td>\n",
       "      <td>109836</td>\n",
       "      <td>2165-05-05</td>\n",
       "      <td>2165-05-08</td>\n",
       "      <td>EMERGENCY</td>\n",
       "      <td>CLINIC REFERRAL/PREMATURE</td>\n",
       "      <td>WHITE</td>\n",
       "      <td>BRAIN ANEURYSM</td>\n",
       "      <td>3</td>\n",
       "      <td>3</td>\n",
       "    </tr>\n",
       "    <tr>\n",
       "      <th>10950</th>\n",
       "      <td>98759</td>\n",
       "      <td>175386</td>\n",
       "      <td>2165-06-05</td>\n",
       "      <td>2165-06-07</td>\n",
       "      <td>ELECTIVE</td>\n",
       "      <td>PHYS REFERRAL/NORMAL DELI</td>\n",
       "      <td>WHITE</td>\n",
       "      <td>BRAIN ANEURYSM/SDA</td>\n",
       "      <td>2</td>\n",
       "      <td>3</td>\n",
       "    </tr>\n",
       "    <tr>\n",
       "      <th>10951</th>\n",
       "      <td>98761</td>\n",
       "      <td>184477</td>\n",
       "      <td>2186-01-16</td>\n",
       "      <td>2186-01-16</td>\n",
       "      <td>ELECTIVE</td>\n",
       "      <td>PHYS REFERRAL/NORMAL DELI</td>\n",
       "      <td>WHITE</td>\n",
       "      <td>GASTROPARESIS\\PLACEMENT OF G-TUBE **REMOTE WES...</td>\n",
       "      <td>0</td>\n",
       "      <td>7</td>\n",
       "    </tr>\n",
       "    <tr>\n",
       "      <th>10952</th>\n",
       "      <td>98761</td>\n",
       "      <td>182540</td>\n",
       "      <td>2186-02-08</td>\n",
       "      <td>2186-02-08</td>\n",
       "      <td>ELECTIVE</td>\n",
       "      <td>PHYS REFERRAL/NORMAL DELI</td>\n",
       "      <td>WHITE</td>\n",
       "      <td>SHORT GUT SYNDROME/SDA</td>\n",
       "      <td>0</td>\n",
       "      <td>7</td>\n",
       "    </tr>\n",
       "    <tr>\n",
       "      <th>10953</th>\n",
       "      <td>98761</td>\n",
       "      <td>175884</td>\n",
       "      <td>2189-07-10</td>\n",
       "      <td>2189-07-17</td>\n",
       "      <td>EMERGENCY</td>\n",
       "      <td>CLINIC REFERRAL/PREMATURE</td>\n",
       "      <td>WHITE</td>\n",
       "      <td>DEHYDRATION</td>\n",
       "      <td>7</td>\n",
       "      <td>7</td>\n",
       "    </tr>\n",
       "  </tbody>\n",
       "</table>\n",
       "<p>10954 rows × 10 columns</p>\n",
       "</div>"
      ],
      "text/plain": [
       "       SUBJECT_ID  HADM_ID   ADMITTIME   DISCHTIME ADMISSION_TYPE  \\\n",
       "0              23   152223  2153-09-03  2153-09-08       ELECTIVE   \n",
       "1              23   124321  2157-10-18  2157-10-25      EMERGENCY   \n",
       "2              34   115799  2186-07-18  2186-07-20      EMERGENCY   \n",
       "3              34   144319  2191-02-23  2191-02-25      EMERGENCY   \n",
       "4              36   182104  2131-04-30  2131-05-08      EMERGENCY   \n",
       "...           ...      ...         ...         ...            ...   \n",
       "10949       98759   109836  2165-05-05  2165-05-08      EMERGENCY   \n",
       "10950       98759   175386  2165-06-05  2165-06-07       ELECTIVE   \n",
       "10951       98761   184477  2186-01-16  2186-01-16       ELECTIVE   \n",
       "10952       98761   182540  2186-02-08  2186-02-08       ELECTIVE   \n",
       "10953       98761   175884  2189-07-10  2189-07-17      EMERGENCY   \n",
       "\n",
       "              ADMISSION_LOCATION ETHNICITY  \\\n",
       "0      PHYS REFERRAL/NORMAL DELI     WHITE   \n",
       "1      TRANSFER FROM HOSP/EXTRAM     WHITE   \n",
       "2      TRANSFER FROM HOSP/EXTRAM     WHITE   \n",
       "3      CLINIC REFERRAL/PREMATURE     WHITE   \n",
       "4      CLINIC REFERRAL/PREMATURE     WHITE   \n",
       "...                          ...       ...   \n",
       "10949  CLINIC REFERRAL/PREMATURE     WHITE   \n",
       "10950  PHYS REFERRAL/NORMAL DELI     WHITE   \n",
       "10951  PHYS REFERRAL/NORMAL DELI     WHITE   \n",
       "10952  PHYS REFERRAL/NORMAL DELI     WHITE   \n",
       "10953  CLINIC REFERRAL/PREMATURE     WHITE   \n",
       "\n",
       "                                               DIAGNOSIS  DAYS  MAX_DAYS  \n",
       "0      CORONARY ARTERY DISEASE\\CORONARY ARTERY BYPASS...     5         7  \n",
       "1                                             BRAIN MASS     7         7  \n",
       "2                                        CHEST PAIN\\CATH     2         2  \n",
       "3                                            BRADYCARDIA     2         2  \n",
       "4      CORONARY ARTERY DISEASE\\CORONARY ARTERY BYPASS...     8        13  \n",
       "...                                                  ...   ...       ...  \n",
       "10949                                     BRAIN ANEURYSM     3         3  \n",
       "10950                                 BRAIN ANEURYSM/SDA     2         3  \n",
       "10951  GASTROPARESIS\\PLACEMENT OF G-TUBE **REMOTE WES...     0         7  \n",
       "10952                             SHORT GUT SYNDROME/SDA     0         7  \n",
       "10953                                        DEHYDRATION     7         7  \n",
       "\n",
       "[10954 rows x 10 columns]"
      ]
     },
     "execution_count": 2,
     "metadata": {},
     "output_type": "execute_result"
    }
   ],
   "source": [
    "# HOME and DATA_STORE are arbitrary, change as appropriate.\n",
    "HOME = os.environ.get('HOME')\n",
    "DATA_STORE = f'{HOME}/GP/ehr-cohort'\n",
    "\n",
    "\n",
    "mimic3_dir = f'{DATA_STORE}/mimic3-transforms'\n",
    "# Load admission file\n",
    "admissions_df = pd.read_csv(f'{mimic3_dir}/ADMISSIONS.csv.gz')\n",
    "\n",
    "# Count of all subjects in MIMIC-III\n",
    "print(f'#Subjects: {admissions_df.SUBJECT_ID.nunique()}')\n",
    "\n",
    "admissions_df"
   ]
  },
  {
   "cell_type": "code",
   "execution_count": 3,
   "id": "c278fd69",
   "metadata": {},
   "outputs": [
    {
     "data": {
      "text/html": [
       "<div>\n",
       "<style scoped>\n",
       "    .dataframe tbody tr th:only-of-type {\n",
       "        vertical-align: middle;\n",
       "    }\n",
       "\n",
       "    .dataframe tbody tr th {\n",
       "        vertical-align: top;\n",
       "    }\n",
       "\n",
       "    .dataframe thead th {\n",
       "        text-align: right;\n",
       "    }\n",
       "</style>\n",
       "<table border=\"1\" class=\"dataframe\">\n",
       "  <thead>\n",
       "    <tr style=\"text-align: right;\">\n",
       "      <th></th>\n",
       "      <th>SUBJECT_ID</th>\n",
       "      <th>HADM_ID</th>\n",
       "      <th>ICD9_CODE</th>\n",
       "    </tr>\n",
       "  </thead>\n",
       "  <tbody>\n",
       "    <tr>\n",
       "      <th>0</th>\n",
       "      <td>112</td>\n",
       "      <td>174105</td>\n",
       "      <td>53100</td>\n",
       "    </tr>\n",
       "    <tr>\n",
       "      <th>1</th>\n",
       "      <td>112</td>\n",
       "      <td>174105</td>\n",
       "      <td>41071</td>\n",
       "    </tr>\n",
       "    <tr>\n",
       "      <th>2</th>\n",
       "      <td>112</td>\n",
       "      <td>174105</td>\n",
       "      <td>2859</td>\n",
       "    </tr>\n",
       "    <tr>\n",
       "      <th>3</th>\n",
       "      <td>112</td>\n",
       "      <td>174105</td>\n",
       "      <td>41401</td>\n",
       "    </tr>\n",
       "    <tr>\n",
       "      <th>4</th>\n",
       "      <td>112</td>\n",
       "      <td>174105</td>\n",
       "      <td>725</td>\n",
       "    </tr>\n",
       "    <tr>\n",
       "      <th>...</th>\n",
       "      <td>...</td>\n",
       "      <td>...</td>\n",
       "      <td>...</td>\n",
       "    </tr>\n",
       "    <tr>\n",
       "      <th>127261</th>\n",
       "      <td>97488</td>\n",
       "      <td>161999</td>\n",
       "      <td>0414</td>\n",
       "    </tr>\n",
       "    <tr>\n",
       "      <th>127262</th>\n",
       "      <td>97488</td>\n",
       "      <td>161999</td>\n",
       "      <td>30391</td>\n",
       "    </tr>\n",
       "    <tr>\n",
       "      <th>127263</th>\n",
       "      <td>97488</td>\n",
       "      <td>161999</td>\n",
       "      <td>E8798</td>\n",
       "    </tr>\n",
       "    <tr>\n",
       "      <th>127264</th>\n",
       "      <td>97488</td>\n",
       "      <td>161999</td>\n",
       "      <td>78791</td>\n",
       "    </tr>\n",
       "    <tr>\n",
       "      <th>127265</th>\n",
       "      <td>97488</td>\n",
       "      <td>161999</td>\n",
       "      <td>V4986</td>\n",
       "    </tr>\n",
       "  </tbody>\n",
       "</table>\n",
       "<p>127266 rows × 3 columns</p>\n",
       "</div>"
      ],
      "text/plain": [
       "        SUBJECT_ID  HADM_ID ICD9_CODE\n",
       "0              112   174105     53100\n",
       "1              112   174105     41071\n",
       "2              112   174105      2859\n",
       "3              112   174105     41401\n",
       "4              112   174105       725\n",
       "...            ...      ...       ...\n",
       "127261       97488   161999      0414\n",
       "127262       97488   161999     30391\n",
       "127263       97488   161999     E8798\n",
       "127264       97488   161999     78791\n",
       "127265       97488   161999     V4986\n",
       "\n",
       "[127266 rows x 3 columns]"
      ]
     },
     "execution_count": 3,
     "metadata": {},
     "output_type": "execute_result"
    }
   ],
   "source": [
    "# Load Diagnosis file\n",
    "diag_df = pd.read_csv(f'{mimic3_dir}/DIAGNOSES_ICD.csv.gz', dtype = {'ICD9_CODE': str})\n",
    "\n",
    "\n",
    "diag_df"
   ]
  },
  {
   "cell_type": "markdown",
   "id": "b79f7ded",
   "metadata": {},
   "source": [
    "<a name=\"sec2\"></a>\n",
    "\n",
    "## 2 Cohort Selection  [^](#outline)"
   ]
  },
  {
   "cell_type": "markdown",
   "id": "b1927197",
   "metadata": {},
   "source": [
    "### 2.A Patient Selection: Minimum of Two Visits\n",
    "\n",
    "Patients with only one admission (i.e. single timestamp for the diagnosis codes) are not useful in training/validation/testing."
   ]
  },
  {
   "cell_type": "code",
   "execution_count": 4,
   "id": "6422b979",
   "metadata": {},
   "outputs": [
    {
     "data": {
      "text/plain": [
       "4434"
      ]
     },
     "execution_count": 4,
     "metadata": {},
     "output_type": "execute_result"
    }
   ],
   "source": [
    "patient_admissions = defaultdict(set)\n",
    "\n",
    "for row in admissions_df.itertuples():\n",
    "    patient_admissions[row.SUBJECT_ID].add(row.HADM_ID)\n",
    "    \n",
    "patients_admissions_df = pd.DataFrame({\n",
    "    'patient': patient_admissions.keys(), \n",
    "    'n_admissions': map(len, patient_admissions.values())\n",
    "})\n",
    "\n",
    "\n",
    "selected_patients_A = set(patients_admissions_df[patients_admissions_df.n_admissions > 1].patient.tolist())\n",
    "\n",
    "len(selected_patients_A)"
   ]
  },
  {
   "cell_type": "markdown",
   "id": "ca8d0dbb",
   "metadata": {},
   "source": [
    "Apply the filtration"
   ]
  },
  {
   "cell_type": "code",
   "execution_count": 5,
   "id": "21c40135",
   "metadata": {},
   "outputs": [
    {
     "data": {
      "text/plain": [
       "(4434, 10954, 127227)"
      ]
     },
     "execution_count": 5,
     "metadata": {},
     "output_type": "execute_result"
    }
   ],
   "source": [
    "admissions_A_df = admissions_df[admissions_df.SUBJECT_ID.isin(selected_patients_A)].reset_index(drop=True)\n",
    "diag_A_df =  diag_df[diag_df.HADM_ID.isin(admissions_A_df.HADM_ID)].reset_index(drop=True)\n",
    "diag_A_df = diag_A_df[diag_A_df.ICD9_CODE.notnull()].reset_index(drop=True)\n",
    "admissions_A_df.SUBJECT_ID.nunique(), len(admissions_A_df), len(diag_A_df)"
   ]
  },
  {
   "cell_type": "markdown",
   "id": "e03375e6",
   "metadata": {},
   "source": [
    "### 2.B Patient Selection: Maximum Hospital Stay is Two Weeks"
   ]
  },
  {
   "cell_type": "code",
   "execution_count": 6,
   "id": "29318233",
   "metadata": {},
   "outputs": [
    {
     "data": {
      "text/html": [
       "<div>\n",
       "<style scoped>\n",
       "    .dataframe tbody tr th:only-of-type {\n",
       "        vertical-align: middle;\n",
       "    }\n",
       "\n",
       "    .dataframe tbody tr th {\n",
       "        vertical-align: top;\n",
       "    }\n",
       "\n",
       "    .dataframe thead th {\n",
       "        text-align: right;\n",
       "    }\n",
       "</style>\n",
       "<table border=\"1\" class=\"dataframe\">\n",
       "  <thead>\n",
       "    <tr style=\"text-align: right;\">\n",
       "      <th></th>\n",
       "      <th>SUBJECT_ID</th>\n",
       "      <th>HADM_ID</th>\n",
       "      <th>ADMITTIME</th>\n",
       "      <th>DISCHTIME</th>\n",
       "      <th>ADMISSION_TYPE</th>\n",
       "      <th>ADMISSION_LOCATION</th>\n",
       "      <th>ETHNICITY</th>\n",
       "      <th>DIAGNOSIS</th>\n",
       "      <th>DAYS</th>\n",
       "      <th>MAX_DAYS</th>\n",
       "      <th>days</th>\n",
       "    </tr>\n",
       "  </thead>\n",
       "  <tbody>\n",
       "    <tr>\n",
       "      <th>0</th>\n",
       "      <td>23</td>\n",
       "      <td>152223</td>\n",
       "      <td>2153-09-03</td>\n",
       "      <td>2153-09-08</td>\n",
       "      <td>ELECTIVE</td>\n",
       "      <td>PHYS REFERRAL/NORMAL DELI</td>\n",
       "      <td>WHITE</td>\n",
       "      <td>CORONARY ARTERY DISEASE\\CORONARY ARTERY BYPASS...</td>\n",
       "      <td>5</td>\n",
       "      <td>7</td>\n",
       "      <td>5</td>\n",
       "    </tr>\n",
       "    <tr>\n",
       "      <th>1</th>\n",
       "      <td>23</td>\n",
       "      <td>124321</td>\n",
       "      <td>2157-10-18</td>\n",
       "      <td>2157-10-25</td>\n",
       "      <td>EMERGENCY</td>\n",
       "      <td>TRANSFER FROM HOSP/EXTRAM</td>\n",
       "      <td>WHITE</td>\n",
       "      <td>BRAIN MASS</td>\n",
       "      <td>7</td>\n",
       "      <td>7</td>\n",
       "      <td>7</td>\n",
       "    </tr>\n",
       "    <tr>\n",
       "      <th>2</th>\n",
       "      <td>34</td>\n",
       "      <td>115799</td>\n",
       "      <td>2186-07-18</td>\n",
       "      <td>2186-07-20</td>\n",
       "      <td>EMERGENCY</td>\n",
       "      <td>TRANSFER FROM HOSP/EXTRAM</td>\n",
       "      <td>WHITE</td>\n",
       "      <td>CHEST PAIN\\CATH</td>\n",
       "      <td>2</td>\n",
       "      <td>2</td>\n",
       "      <td>2</td>\n",
       "    </tr>\n",
       "    <tr>\n",
       "      <th>3</th>\n",
       "      <td>34</td>\n",
       "      <td>144319</td>\n",
       "      <td>2191-02-23</td>\n",
       "      <td>2191-02-25</td>\n",
       "      <td>EMERGENCY</td>\n",
       "      <td>CLINIC REFERRAL/PREMATURE</td>\n",
       "      <td>WHITE</td>\n",
       "      <td>BRADYCARDIA</td>\n",
       "      <td>2</td>\n",
       "      <td>2</td>\n",
       "      <td>2</td>\n",
       "    </tr>\n",
       "    <tr>\n",
       "      <th>4</th>\n",
       "      <td>36</td>\n",
       "      <td>182104</td>\n",
       "      <td>2131-04-30</td>\n",
       "      <td>2131-05-08</td>\n",
       "      <td>EMERGENCY</td>\n",
       "      <td>CLINIC REFERRAL/PREMATURE</td>\n",
       "      <td>WHITE</td>\n",
       "      <td>CORONARY ARTERY DISEASE\\CORONARY ARTERY BYPASS...</td>\n",
       "      <td>8</td>\n",
       "      <td>13</td>\n",
       "      <td>8</td>\n",
       "    </tr>\n",
       "  </tbody>\n",
       "</table>\n",
       "</div>"
      ],
      "text/plain": [
       "   SUBJECT_ID  HADM_ID   ADMITTIME   DISCHTIME ADMISSION_TYPE  \\\n",
       "0          23   152223  2153-09-03  2153-09-08       ELECTIVE   \n",
       "1          23   124321  2157-10-18  2157-10-25      EMERGENCY   \n",
       "2          34   115799  2186-07-18  2186-07-20      EMERGENCY   \n",
       "3          34   144319  2191-02-23  2191-02-25      EMERGENCY   \n",
       "4          36   182104  2131-04-30  2131-05-08      EMERGENCY   \n",
       "\n",
       "          ADMISSION_LOCATION ETHNICITY  \\\n",
       "0  PHYS REFERRAL/NORMAL DELI     WHITE   \n",
       "1  TRANSFER FROM HOSP/EXTRAM     WHITE   \n",
       "2  TRANSFER FROM HOSP/EXTRAM     WHITE   \n",
       "3  CLINIC REFERRAL/PREMATURE     WHITE   \n",
       "4  CLINIC REFERRAL/PREMATURE     WHITE   \n",
       "\n",
       "                                           DIAGNOSIS  DAYS  MAX_DAYS  days  \n",
       "0  CORONARY ARTERY DISEASE\\CORONARY ARTERY BYPASS...     5         7     5  \n",
       "1                                         BRAIN MASS     7         7     7  \n",
       "2                                    CHEST PAIN\\CATH     2         2     2  \n",
       "3                                        BRADYCARDIA     2         2     2  \n",
       "4  CORONARY ARTERY DISEASE\\CORONARY ARTERY BYPASS...     8        13     8  "
      ]
     },
     "execution_count": 6,
     "metadata": {},
     "output_type": "execute_result"
    }
   ],
   "source": [
    "admit = pd.to_datetime(admissions_A_df['ADMITTIME'], infer_datetime_format=True).dt.normalize() \n",
    "disch = pd.to_datetime(admissions_A_df['DISCHTIME'], infer_datetime_format=True).dt.normalize()\n",
    "admissions_A_df['days'] = (disch - admit).dt.days\n",
    "admissions_A_df.head()"
   ]
  },
  {
   "cell_type": "code",
   "execution_count": 7,
   "id": "758ea6ac",
   "metadata": {},
   "outputs": [],
   "source": [
    "longest_admission = {}\n",
    "for subject_id, subject_df in admissions_A_df.groupby('SUBJECT_ID'):\n",
    "    longest_admission[subject_id] = subject_df.days.max()\n",
    "    \n",
    "admissions_A_df['max_days'] = admissions_A_df.SUBJECT_ID.map(longest_admission)\n",
    "selected_patients_B = set(admissions_A_df[admissions_A_df.max_days <= 14].SUBJECT_ID)"
   ]
  },
  {
   "cell_type": "markdown",
   "id": "360ac5bd",
   "metadata": {},
   "source": [
    "Apply the filtration"
   ]
  },
  {
   "cell_type": "code",
   "execution_count": 8,
   "id": "a7ec1134",
   "metadata": {},
   "outputs": [
    {
     "data": {
      "text/plain": [
       "(4434, 10954, 127227)"
      ]
     },
     "execution_count": 8,
     "metadata": {},
     "output_type": "execute_result"
    }
   ],
   "source": [
    "admissions_B_df = admissions_A_df[admissions_A_df.SUBJECT_ID.isin(selected_patients_B)].reset_index(drop=True)\n",
    "diag_B_df =  diag_A_df[diag_A_df.HADM_ID.isin(admissions_B_df.HADM_ID)].reset_index(drop=True)\n",
    "diag_B_df = diag_B_df[diag_B_df.ICD9_CODE.notnull()].reset_index(drop=True)\n",
    "admissions_B_df.SUBJECT_ID.nunique(), len(admissions_B_df), len(diag_B_df)"
   ]
  },
  {
   "cell_type": "markdown",
   "id": "645a55b4",
   "metadata": {},
   "source": [
    "<a name=\"sec3\"></a>\n",
    "\n",
    "## 3 Export  [^](#outline)\n",
    "\n",
    "Select relevant columns from `admissions_B_df` and `diag_B_df` then write to disk."
   ]
  },
  {
   "cell_type": "code",
   "execution_count": 9,
   "id": "79b74378",
   "metadata": {},
   "outputs": [],
   "source": [
    "admissions_selected_df = admissions_B_df[['SUBJECT_ID', 'HADM_ID', 'ADMITTIME', 'DISCHTIME']]"
   ]
  },
  {
   "cell_type": "code",
   "execution_count": 10,
   "id": "62e48bc5",
   "metadata": {},
   "outputs": [
    {
     "name": "stderr",
     "output_type": "stream",
     "text": [
      "/home/asem/GP/ICENODE/icenode-env/lib/python3.8/site-packages/pandas/core/generic.py:5516: SettingWithCopyWarning: \n",
      "A value is trying to be set on a copy of a slice from a DataFrame.\n",
      "Try using .loc[row_indexer,col_indexer] = value instead\n",
      "\n",
      "See the caveats in the documentation: https://pandas.pydata.org/pandas-docs/stable/user_guide/indexing.html#returning-a-view-versus-a-copy\n",
      "  self[name] = value\n"
     ]
    }
   ],
   "source": [
    "admissions_selected_df.ADMITTIME = pd.to_datetime(admissions_selected_df.ADMITTIME, \n",
    "                                                  infer_datetime_format=True).dt.normalize()\n",
    "admissions_selected_df.DISCHTIME = pd.to_datetime(admissions_selected_df.DISCHTIME, \n",
    "                                                  infer_datetime_format=True).dt.normalize()"
   ]
  },
  {
   "cell_type": "code",
   "execution_count": 11,
   "id": "5dd175df",
   "metadata": {},
   "outputs": [],
   "source": [
    "diag_selected_df = diag_B_df[['SUBJECT_ID', 'HADM_ID', 'ICD9_CODE']]\n",
    "diag_selected_df = diag_selected_df[diag_selected_df.ICD9_CODE.notnull()]"
   ]
  },
  {
   "cell_type": "code",
   "execution_count": 16,
   "id": "296a3b71",
   "metadata": {},
   "outputs": [],
   "source": [
    "admissions_selected_df.to_csv(f'{mimic3_dir}/adm_df.csv.gz', compression='gzip', index=False)\n",
    "diag_selected_df.to_csv(f'{mimic3_dir}/dx_df.csv.gz', compression='gzip', index=False)"
   ]
  },
  {
   "cell_type": "markdown",
   "id": "8b716534",
   "metadata": {},
   "source": [
    "### Generate Synthetic"
   ]
  },
  {
   "cell_type": "markdown",
   "id": "d091415a",
   "metadata": {},
   "source": [
    "Generate a sample with shuffled event types in case you are interested to share a public sample for testing."
   ]
  },
  {
   "cell_type": "code",
   "execution_count": 13,
   "id": "eaebbd5d",
   "metadata": {},
   "outputs": [],
   "source": [
    "adm_syn_df = admissions_selected_df.copy()\n",
    "diag_syn_df = diag_selected_df.copy()"
   ]
  },
  {
   "cell_type": "code",
   "execution_count": 14,
   "id": "d2c3c777",
   "metadata": {},
   "outputs": [],
   "source": [
    "subjects = set(adm_syn_df.SUBJECT_ID)"
   ]
  },
  {
   "cell_type": "code",
   "execution_count": 15,
   "id": "98023841",
   "metadata": {},
   "outputs": [
    {
     "data": {
      "text/plain": [
       "4434"
      ]
     },
     "execution_count": 15,
     "metadata": {},
     "output_type": "execute_result"
    }
   ],
   "source": [
    "len(subjects)"
   ]
  },
  {
   "cell_type": "code",
   "execution_count": 32,
   "id": "6fa5e475",
   "metadata": {},
   "outputs": [],
   "source": [
    "import random\n",
    "import numpy as np\n",
    "random.seed(42)\n",
    "syn_subjects = random.sample(subjects, 150)"
   ]
  },
  {
   "cell_type": "code",
   "execution_count": 33,
   "id": "a6fede5f",
   "metadata": {},
   "outputs": [],
   "source": [
    "adm_syn_df = adm_syn_df[adm_syn_df.SUBJECT_ID.isin(syn_subjects)]\n",
    "diag_syn_df = diag_syn_df[diag_syn_df.SUBJECT_ID.isin(syn_subjects)]"
   ]
  },
  {
   "cell_type": "code",
   "execution_count": 34,
   "id": "9409444e",
   "metadata": {},
   "outputs": [
    {
     "data": {
      "text/html": [
       "<div>\n",
       "<style scoped>\n",
       "    .dataframe tbody tr th:only-of-type {\n",
       "        vertical-align: middle;\n",
       "    }\n",
       "\n",
       "    .dataframe tbody tr th {\n",
       "        vertical-align: top;\n",
       "    }\n",
       "\n",
       "    .dataframe thead th {\n",
       "        text-align: right;\n",
       "    }\n",
       "</style>\n",
       "<table border=\"1\" class=\"dataframe\">\n",
       "  <thead>\n",
       "    <tr style=\"text-align: right;\">\n",
       "      <th></th>\n",
       "      <th>SUBJECT_ID</th>\n",
       "      <th>HADM_ID</th>\n",
       "      <th>ICD9_CODE</th>\n",
       "    </tr>\n",
       "  </thead>\n",
       "  <tbody>\n",
       "    <tr>\n",
       "      <th>335</th>\n",
       "      <td>321</td>\n",
       "      <td>192097</td>\n",
       "      <td>73382</td>\n",
       "    </tr>\n",
       "    <tr>\n",
       "      <th>336</th>\n",
       "      <td>321</td>\n",
       "      <td>192097</td>\n",
       "      <td>42731</td>\n",
       "    </tr>\n",
       "    <tr>\n",
       "      <th>337</th>\n",
       "      <td>321</td>\n",
       "      <td>192097</td>\n",
       "      <td>29281</td>\n",
       "    </tr>\n",
       "    <tr>\n",
       "      <th>338</th>\n",
       "      <td>321</td>\n",
       "      <td>192097</td>\n",
       "      <td>2851</td>\n",
       "    </tr>\n",
       "    <tr>\n",
       "      <th>339</th>\n",
       "      <td>321</td>\n",
       "      <td>192097</td>\n",
       "      <td>25000</td>\n",
       "    </tr>\n",
       "  </tbody>\n",
       "</table>\n",
       "</div>"
      ],
      "text/plain": [
       "     SUBJECT_ID  HADM_ID ICD9_CODE\n",
       "335         321   192097     73382\n",
       "336         321   192097     42731\n",
       "337         321   192097     29281\n",
       "338         321   192097      2851\n",
       "339         321   192097     25000"
      ]
     },
     "execution_count": 34,
     "metadata": {},
     "output_type": "execute_result"
    }
   ],
   "source": [
    "diag_syn_df.head()"
   ]
  },
  {
   "cell_type": "code",
   "execution_count": 35,
   "id": "81e73323",
   "metadata": {},
   "outputs": [],
   "source": [
    "diag_syn_df['ICD9_CODE'] =  np.random.permutation(list(diag_syn_df['ICD9_CODE']))"
   ]
  },
  {
   "cell_type": "code",
   "execution_count": 36,
   "id": "837549ab",
   "metadata": {},
   "outputs": [
    {
     "data": {
      "text/html": [
       "<div>\n",
       "<style scoped>\n",
       "    .dataframe tbody tr th:only-of-type {\n",
       "        vertical-align: middle;\n",
       "    }\n",
       "\n",
       "    .dataframe tbody tr th {\n",
       "        vertical-align: top;\n",
       "    }\n",
       "\n",
       "    .dataframe thead th {\n",
       "        text-align: right;\n",
       "    }\n",
       "</style>\n",
       "<table border=\"1\" class=\"dataframe\">\n",
       "  <thead>\n",
       "    <tr style=\"text-align: right;\">\n",
       "      <th></th>\n",
       "      <th>SUBJECT_ID</th>\n",
       "      <th>HADM_ID</th>\n",
       "      <th>ICD9_CODE</th>\n",
       "    </tr>\n",
       "  </thead>\n",
       "  <tbody>\n",
       "    <tr>\n",
       "      <th>335</th>\n",
       "      <td>321</td>\n",
       "      <td>192097</td>\n",
       "      <td>43320</td>\n",
       "    </tr>\n",
       "    <tr>\n",
       "      <th>336</th>\n",
       "      <td>321</td>\n",
       "      <td>192097</td>\n",
       "      <td>V103</td>\n",
       "    </tr>\n",
       "    <tr>\n",
       "      <th>337</th>\n",
       "      <td>321</td>\n",
       "      <td>192097</td>\n",
       "      <td>4254</td>\n",
       "    </tr>\n",
       "    <tr>\n",
       "      <th>338</th>\n",
       "      <td>321</td>\n",
       "      <td>192097</td>\n",
       "      <td>25000</td>\n",
       "    </tr>\n",
       "    <tr>\n",
       "      <th>339</th>\n",
       "      <td>321</td>\n",
       "      <td>192097</td>\n",
       "      <td>42731</td>\n",
       "    </tr>\n",
       "  </tbody>\n",
       "</table>\n",
       "</div>"
      ],
      "text/plain": [
       "     SUBJECT_ID  HADM_ID ICD9_CODE\n",
       "335         321   192097     43320\n",
       "336         321   192097      V103\n",
       "337         321   192097      4254\n",
       "338         321   192097     25000\n",
       "339         321   192097     42731"
      ]
     },
     "execution_count": 36,
     "metadata": {},
     "output_type": "execute_result"
    }
   ],
   "source": [
    "diag_syn_df.head()"
   ]
  },
  {
   "cell_type": "code",
   "execution_count": 17,
   "id": "31e00184",
   "metadata": {},
   "outputs": [],
   "source": [
    "adm_syn_df.to_csv(f'{mimic3_dir}/syn_adm_df.csv.gz', compression='gzip', index=False)\n",
    "diag_syn_df.to_csv(f'{mimic3_dir}/syn_dx_df.csv.gz', compression='gzip', index=False)\n"
   ]
  },
  {
   "cell_type": "code",
   "execution_count": null,
   "id": "98320610",
   "metadata": {},
   "outputs": [],
   "source": []
  }
 ],
 "metadata": {
  "kernelspec": {
   "display_name": "Python 3 (ipykernel)",
   "language": "python",
   "name": "python3"
  },
  "language_info": {
   "codemirror_mode": {
    "name": "ipython",
    "version": 3
   },
   "file_extension": ".py",
   "mimetype": "text/x-python",
   "name": "python",
   "nbconvert_exporter": "python",
   "pygments_lexer": "ipython3",
   "version": "3.8.12"
  }
 },
 "nbformat": 4,
 "nbformat_minor": 5
}
