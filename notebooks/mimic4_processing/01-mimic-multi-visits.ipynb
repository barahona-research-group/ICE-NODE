{
 "cells": [
  {
   "cell_type": "code",
   "execution_count": 3,
   "id": "competitive-updating",
   "metadata": {},
   "outputs": [],
   "source": [
    "import numpy as np\n",
    "import pandas as pd\n",
    "import json\n",
    "import collections\n",
    "from collections import defaultdict \n",
    "from functools import partial\n",
    "import networkx as nx\n",
    "import matplotlib.pyplot as plt\n",
    "import seaborn as sns\n",
    "from tqdm import tqdm\n"
   ]
  },
  {
   "cell_type": "code",
   "execution_count": 7,
   "id": "missing-integral",
   "metadata": {},
   "outputs": [],
   "source": [
    "mimic_dir = '/home/asem/GP/ehr-data/phys-mimic4v2.0/physionet.org/files/mimiciv/2.0'"
   ]
  },
  {
   "cell_type": "code",
   "execution_count": 8,
   "id": "mexican-examination",
   "metadata": {},
   "outputs": [],
   "source": [
    "# Good read: https://iq-inc.com/importerror-attempted-relative-import/\n",
    "\n",
    "import sys\n",
    "import importlib"
   ]
  },
  {
   "cell_type": "markdown",
   "id": "maritime-symposium",
   "metadata": {},
   "source": [
    "### Notes\n",
    "\n",
    "#### TODO\n",
    "\n",
    "1. From DIAGNOSES_ICD:\n",
    "    - map to CCS (multi/single)\n",
    "    - histogram of diseases (number of patients for each CCS code)\n",
    "2. From ADMISSION and ICUSTAY:\n",
    "    - #Admissions per patient\n",
    "    - #ICUStays per patient\n",
    "    - #ICUStays per admission\n",
    "3. measurements: merge all measurements by HADM_ID (aggregate by median, 0.9 quantile, 0.1 quantile)."
   ]
  },
  {
   "cell_type": "code",
   "execution_count": 10,
   "id": "major-concord",
   "metadata": {},
   "outputs": [],
   "source": [
    "admissions = pd.read_csv(f'{mimic_dir}/hosp/admissions.csv.gz')"
   ]
  },
  {
   "cell_type": "code",
   "execution_count": 11,
   "id": "biblical-twenty",
   "metadata": {},
   "outputs": [
    {
     "data": {
      "text/html": [
       "<div>\n",
       "<style scoped>\n",
       "    .dataframe tbody tr th:only-of-type {\n",
       "        vertical-align: middle;\n",
       "    }\n",
       "\n",
       "    .dataframe tbody tr th {\n",
       "        vertical-align: top;\n",
       "    }\n",
       "\n",
       "    .dataframe thead th {\n",
       "        text-align: right;\n",
       "    }\n",
       "</style>\n",
       "<table border=\"1\" class=\"dataframe\">\n",
       "  <thead>\n",
       "    <tr style=\"text-align: right;\">\n",
       "      <th></th>\n",
       "      <th>subject_id</th>\n",
       "      <th>hadm_id</th>\n",
       "      <th>admittime</th>\n",
       "      <th>dischtime</th>\n",
       "      <th>deathtime</th>\n",
       "      <th>admission_type</th>\n",
       "      <th>admission_location</th>\n",
       "      <th>discharge_location</th>\n",
       "      <th>insurance</th>\n",
       "      <th>language</th>\n",
       "      <th>marital_status</th>\n",
       "      <th>race</th>\n",
       "      <th>edregtime</th>\n",
       "      <th>edouttime</th>\n",
       "      <th>hospital_expire_flag</th>\n",
       "    </tr>\n",
       "  </thead>\n",
       "  <tbody>\n",
       "    <tr>\n",
       "      <th>0</th>\n",
       "      <td>10000032</td>\n",
       "      <td>22595853</td>\n",
       "      <td>2180-05-06 22:23:00</td>\n",
       "      <td>2180-05-07 17:15:00</td>\n",
       "      <td>NaN</td>\n",
       "      <td>URGENT</td>\n",
       "      <td>TRANSFER FROM HOSPITAL</td>\n",
       "      <td>HOME</td>\n",
       "      <td>Other</td>\n",
       "      <td>ENGLISH</td>\n",
       "      <td>WIDOWED</td>\n",
       "      <td>WHITE</td>\n",
       "      <td>2180-05-06 19:17:00</td>\n",
       "      <td>2180-05-06 23:30:00</td>\n",
       "      <td>0</td>\n",
       "    </tr>\n",
       "    <tr>\n",
       "      <th>1</th>\n",
       "      <td>10000032</td>\n",
       "      <td>22841357</td>\n",
       "      <td>2180-06-26 18:27:00</td>\n",
       "      <td>2180-06-27 18:49:00</td>\n",
       "      <td>NaN</td>\n",
       "      <td>EW EMER.</td>\n",
       "      <td>EMERGENCY ROOM</td>\n",
       "      <td>HOME</td>\n",
       "      <td>Medicaid</td>\n",
       "      <td>ENGLISH</td>\n",
       "      <td>WIDOWED</td>\n",
       "      <td>WHITE</td>\n",
       "      <td>2180-06-26 15:54:00</td>\n",
       "      <td>2180-06-26 21:31:00</td>\n",
       "      <td>0</td>\n",
       "    </tr>\n",
       "    <tr>\n",
       "      <th>2</th>\n",
       "      <td>10000032</td>\n",
       "      <td>25742920</td>\n",
       "      <td>2180-08-05 23:44:00</td>\n",
       "      <td>2180-08-07 17:50:00</td>\n",
       "      <td>NaN</td>\n",
       "      <td>EW EMER.</td>\n",
       "      <td>EMERGENCY ROOM</td>\n",
       "      <td>HOSPICE</td>\n",
       "      <td>Medicaid</td>\n",
       "      <td>ENGLISH</td>\n",
       "      <td>WIDOWED</td>\n",
       "      <td>WHITE</td>\n",
       "      <td>2180-08-05 20:58:00</td>\n",
       "      <td>2180-08-06 01:44:00</td>\n",
       "      <td>0</td>\n",
       "    </tr>\n",
       "    <tr>\n",
       "      <th>3</th>\n",
       "      <td>10000032</td>\n",
       "      <td>29079034</td>\n",
       "      <td>2180-07-23 12:35:00</td>\n",
       "      <td>2180-07-25 17:55:00</td>\n",
       "      <td>NaN</td>\n",
       "      <td>EW EMER.</td>\n",
       "      <td>EMERGENCY ROOM</td>\n",
       "      <td>HOME</td>\n",
       "      <td>Medicaid</td>\n",
       "      <td>ENGLISH</td>\n",
       "      <td>WIDOWED</td>\n",
       "      <td>WHITE</td>\n",
       "      <td>2180-07-23 05:54:00</td>\n",
       "      <td>2180-07-23 14:00:00</td>\n",
       "      <td>0</td>\n",
       "    </tr>\n",
       "    <tr>\n",
       "      <th>4</th>\n",
       "      <td>10000068</td>\n",
       "      <td>25022803</td>\n",
       "      <td>2160-03-03 23:16:00</td>\n",
       "      <td>2160-03-04 06:26:00</td>\n",
       "      <td>NaN</td>\n",
       "      <td>EU OBSERVATION</td>\n",
       "      <td>EMERGENCY ROOM</td>\n",
       "      <td>NaN</td>\n",
       "      <td>Other</td>\n",
       "      <td>ENGLISH</td>\n",
       "      <td>SINGLE</td>\n",
       "      <td>WHITE</td>\n",
       "      <td>2160-03-03 21:55:00</td>\n",
       "      <td>2160-03-04 06:26:00</td>\n",
       "      <td>0</td>\n",
       "    </tr>\n",
       "  </tbody>\n",
       "</table>\n",
       "</div>"
      ],
      "text/plain": [
       "   subject_id   hadm_id            admittime            dischtime deathtime  \\\n",
       "0    10000032  22595853  2180-05-06 22:23:00  2180-05-07 17:15:00       NaN   \n",
       "1    10000032  22841357  2180-06-26 18:27:00  2180-06-27 18:49:00       NaN   \n",
       "2    10000032  25742920  2180-08-05 23:44:00  2180-08-07 17:50:00       NaN   \n",
       "3    10000032  29079034  2180-07-23 12:35:00  2180-07-25 17:55:00       NaN   \n",
       "4    10000068  25022803  2160-03-03 23:16:00  2160-03-04 06:26:00       NaN   \n",
       "\n",
       "   admission_type      admission_location discharge_location insurance  \\\n",
       "0          URGENT  TRANSFER FROM HOSPITAL               HOME     Other   \n",
       "1        EW EMER.          EMERGENCY ROOM               HOME  Medicaid   \n",
       "2        EW EMER.          EMERGENCY ROOM            HOSPICE  Medicaid   \n",
       "3        EW EMER.          EMERGENCY ROOM               HOME  Medicaid   \n",
       "4  EU OBSERVATION          EMERGENCY ROOM                NaN     Other   \n",
       "\n",
       "  language marital_status   race            edregtime            edouttime  \\\n",
       "0  ENGLISH        WIDOWED  WHITE  2180-05-06 19:17:00  2180-05-06 23:30:00   \n",
       "1  ENGLISH        WIDOWED  WHITE  2180-06-26 15:54:00  2180-06-26 21:31:00   \n",
       "2  ENGLISH        WIDOWED  WHITE  2180-08-05 20:58:00  2180-08-06 01:44:00   \n",
       "3  ENGLISH        WIDOWED  WHITE  2180-07-23 05:54:00  2180-07-23 14:00:00   \n",
       "4  ENGLISH         SINGLE  WHITE  2160-03-03 21:55:00  2160-03-04 06:26:00   \n",
       "\n",
       "   hospital_expire_flag  \n",
       "0                     0  \n",
       "1                     0  \n",
       "2                     0  \n",
       "3                     0  \n",
       "4                     0  "
      ]
     },
     "execution_count": 11,
     "metadata": {},
     "output_type": "execute_result"
    }
   ],
   "source": [
    "admissions.head()"
   ]
  },
  {
   "cell_type": "code",
   "execution_count": 12,
   "id": "light-senior",
   "metadata": {},
   "outputs": [
    {
     "data": {
      "text/plain": [
       "190279"
      ]
     },
     "execution_count": 12,
     "metadata": {},
     "output_type": "execute_result"
    }
   ],
   "source": [
    "len(set(admissions.subject_id))"
   ]
  },
  {
   "cell_type": "code",
   "execution_count": 13,
   "id": "divine-hayes",
   "metadata": {},
   "outputs": [],
   "source": [
    "patients_admission = defaultdict(set)\n",
    "\n",
    "for row in admissions.itertuples():\n",
    "    patients_admission[row.subject_id].add(row.hadm_id)\n",
    "    \n",
    "patients_admission_df = pd.DataFrame({'patient': patients_admission.keys(), 'n_admissions': map(len, patients_admission.values())})"
   ]
  },
  {
   "cell_type": "code",
   "execution_count": 14,
   "id": "stretch-paragraph",
   "metadata": {},
   "outputs": [],
   "source": [
    "patients_admission_count = list(map(lambda t: (t[0], len(t[1])), patients_admission.items()))"
   ]
  },
  {
   "cell_type": "code",
   "execution_count": 15,
   "id": "front-absolute",
   "metadata": {},
   "outputs": [],
   "source": [
    "_, counts = zip(*patients_admission_count)"
   ]
  },
  {
   "cell_type": "code",
   "execution_count": 16,
   "id": "introductory-craft",
   "metadata": {},
   "outputs": [],
   "source": [
    "admissions_hist = np.bincount(counts)"
   ]
  },
  {
   "cell_type": "code",
   "execution_count": 17,
   "id": "traditional-apollo",
   "metadata": {},
   "outputs": [
    {
     "data": {
      "text/plain": [
       "array([     0, 106468,  37638,  16792,   9190,   5491,   3536,   2415,\n",
       "         1783,   1364,    991,    797,    626,    494,    419,    325,\n",
       "          250,    198,    178,    147,    150,    101,    108,     73,\n",
       "           71,     55,     52,     57,     40,     32,     39,     30,\n",
       "           29,     30,     21,     29,     22,     19,     11,     11,\n",
       "           14,     16,     10,      6,     14,      6,      6,      8,\n",
       "            7,     11,      6,      5,      5,      7,      2,      6,\n",
       "            4,      3,      5,      2,      2,      1,      2,      1,\n",
       "            6,      1,      0,      2,      3,      3,      1,      3,\n",
       "            1,      0,      0,      1,      1,      1,      1,      2,\n",
       "            1,      0,      1,      0,      2,      1,      1,      0,\n",
       "            1,      2,      0,      0,      2,      1,      1,      1,\n",
       "            0,      1,      1,      0,      0,      0,      0,      0,\n",
       "            0,      0,      0,      0,      0,      0,      0,      0,\n",
       "            0,      0,      0,      0,      0,      0,      0,      0,\n",
       "            0,      0,      0,      0,      0,      0,      0,      0,\n",
       "            0,      1,      1,      0,      0,      0,      0,      0,\n",
       "            0,      0,      0,      0,      0,      0,      1,      0,\n",
       "            0,      0,      0,      0,      0,      0,      0,      0,\n",
       "            0,      0,      0,      0,      0,      0,      0,      0,\n",
       "            0,      0,      0,      1,      0,      0,      0,      0,\n",
       "            0,      0,      0,      0,      0,      0,      0,      0,\n",
       "            0,      0,      0,      0,      0,      0,      0,      0,\n",
       "            0,      1,      0,      0,      0,      0,      0,      0,\n",
       "            0,      0,      0,      0,      0,      0,      0,      0,\n",
       "            0,      0,      0,      0,      0,      0,      0,      0,\n",
       "            0,      0,      0,      0,      0,      0,      0,      0,\n",
       "            0,      0,      0,      0,      0,      0,      0,      0,\n",
       "            0,      0,      0,      0,      0,      0,      0,      0,\n",
       "            0,      0,      0,      0,      0,      0,      1])"
      ]
     },
     "execution_count": 17,
     "metadata": {},
     "output_type": "execute_result"
    }
   ],
   "source": [
    "admissions_hist"
   ]
  },
  {
   "cell_type": "code",
   "execution_count": 18,
   "id": "social-intensity",
   "metadata": {},
   "outputs": [
    {
     "data": {
      "text/plain": [
       "83811"
      ]
     },
     "execution_count": 18,
     "metadata": {},
     "output_type": "execute_result"
    }
   ],
   "source": [
    "# In GRAM paper, all patients with at least 2 visits were utilized (n=7537).\n",
    "np.sum(patients_admission_df.n_admissions > 1)"
   ]
  },
  {
   "cell_type": "markdown",
   "id": "selective-birth",
   "metadata": {},
   "source": [
    "### Select patients with at least 2 visits\n",
    "\n",
    "- Followed by GRAM paper.\n",
    "- n=7537"
   ]
  },
  {
   "cell_type": "code",
   "execution_count": 19,
   "id": "considered-conservative",
   "metadata": {},
   "outputs": [],
   "source": [
    "multi_visit_mimic_dir = '/home/asem/GP/ehr-data/mimic4-cohort'\n",
    "\n",
    "patients_multi_visits = set(patients_admission_df[patients_admission_df.n_admissions > 1].patient.tolist())"
   ]
  },
  {
   "cell_type": "code",
   "execution_count": 20,
   "id": "legislative-bread",
   "metadata": {},
   "outputs": [
    {
     "data": {
      "text/html": [
       "<div>\n",
       "<style scoped>\n",
       "    .dataframe tbody tr th:only-of-type {\n",
       "        vertical-align: middle;\n",
       "    }\n",
       "\n",
       "    .dataframe tbody tr th {\n",
       "        vertical-align: top;\n",
       "    }\n",
       "\n",
       "    .dataframe thead th {\n",
       "        text-align: right;\n",
       "    }\n",
       "</style>\n",
       "<table border=\"1\" class=\"dataframe\">\n",
       "  <thead>\n",
       "    <tr style=\"text-align: right;\">\n",
       "      <th></th>\n",
       "      <th>subject_id</th>\n",
       "      <th>gender</th>\n",
       "      <th>anchor_age</th>\n",
       "      <th>anchor_year</th>\n",
       "      <th>anchor_year_group</th>\n",
       "      <th>dod</th>\n",
       "    </tr>\n",
       "  </thead>\n",
       "  <tbody>\n",
       "    <tr>\n",
       "      <th>0</th>\n",
       "      <td>10000032</td>\n",
       "      <td>F</td>\n",
       "      <td>52</td>\n",
       "      <td>2180</td>\n",
       "      <td>2014 - 2016</td>\n",
       "      <td>2180-09-09</td>\n",
       "    </tr>\n",
       "    <tr>\n",
       "      <th>1</th>\n",
       "      <td>10000084</td>\n",
       "      <td>M</td>\n",
       "      <td>72</td>\n",
       "      <td>2160</td>\n",
       "      <td>2017 - 2019</td>\n",
       "      <td>2161-02-13</td>\n",
       "    </tr>\n",
       "    <tr>\n",
       "      <th>2</th>\n",
       "      <td>10000117</td>\n",
       "      <td>F</td>\n",
       "      <td>48</td>\n",
       "      <td>2174</td>\n",
       "      <td>2008 - 2010</td>\n",
       "      <td>NaN</td>\n",
       "    </tr>\n",
       "    <tr>\n",
       "      <th>3</th>\n",
       "      <td>10000826</td>\n",
       "      <td>F</td>\n",
       "      <td>32</td>\n",
       "      <td>2146</td>\n",
       "      <td>2008 - 2010</td>\n",
       "      <td>NaN</td>\n",
       "    </tr>\n",
       "    <tr>\n",
       "      <th>4</th>\n",
       "      <td>10000883</td>\n",
       "      <td>M</td>\n",
       "      <td>20</td>\n",
       "      <td>2124</td>\n",
       "      <td>2008 - 2010</td>\n",
       "      <td>NaN</td>\n",
       "    </tr>\n",
       "  </tbody>\n",
       "</table>\n",
       "</div>"
      ],
      "text/plain": [
       "   subject_id gender  anchor_age  anchor_year anchor_year_group         dod\n",
       "0    10000032      F          52         2180       2014 - 2016  2180-09-09\n",
       "1    10000084      M          72         2160       2017 - 2019  2161-02-13\n",
       "2    10000117      F          48         2174       2008 - 2010         NaN\n",
       "3    10000826      F          32         2146       2008 - 2010         NaN\n",
       "4    10000883      M          20         2124       2008 - 2010         NaN"
      ]
     },
     "execution_count": 20,
     "metadata": {},
     "output_type": "execute_result"
    }
   ],
   "source": [
    "patients = pd.read_csv(f'{mimic_dir}/hosp/patients.csv.gz')\n",
    "patients = patients[patients.subject_id.isin(patients_multi_visits)].reset_index(drop=True)\n",
    "patients.to_csv(f'{multi_visit_mimic_dir}/patients.csv.gz', compression='gzip', index=False)\n",
    "patients.head()"
   ]
  },
  {
   "cell_type": "code",
   "execution_count": 21,
   "id": "surgical-point",
   "metadata": {},
   "outputs": [
    {
     "data": {
      "text/html": [
       "<div>\n",
       "<style scoped>\n",
       "    .dataframe tbody tr th:only-of-type {\n",
       "        vertical-align: middle;\n",
       "    }\n",
       "\n",
       "    .dataframe tbody tr th {\n",
       "        vertical-align: top;\n",
       "    }\n",
       "\n",
       "    .dataframe thead th {\n",
       "        text-align: right;\n",
       "    }\n",
       "</style>\n",
       "<table border=\"1\" class=\"dataframe\">\n",
       "  <thead>\n",
       "    <tr style=\"text-align: right;\">\n",
       "      <th></th>\n",
       "      <th>subject_id</th>\n",
       "      <th>gender</th>\n",
       "      <th>anchor_age</th>\n",
       "      <th>anchor_year</th>\n",
       "      <th>anchor_year_group</th>\n",
       "      <th>dod</th>\n",
       "    </tr>\n",
       "  </thead>\n",
       "  <tbody>\n",
       "    <tr>\n",
       "      <th>0</th>\n",
       "      <td>10000032</td>\n",
       "      <td>F</td>\n",
       "      <td>52</td>\n",
       "      <td>2180</td>\n",
       "      <td>2014 - 2016</td>\n",
       "      <td>2180-09-09</td>\n",
       "    </tr>\n",
       "    <tr>\n",
       "      <th>1</th>\n",
       "      <td>10000084</td>\n",
       "      <td>M</td>\n",
       "      <td>72</td>\n",
       "      <td>2160</td>\n",
       "      <td>2017 - 2019</td>\n",
       "      <td>2161-02-13</td>\n",
       "    </tr>\n",
       "    <tr>\n",
       "      <th>2</th>\n",
       "      <td>10000117</td>\n",
       "      <td>F</td>\n",
       "      <td>48</td>\n",
       "      <td>2174</td>\n",
       "      <td>2008 - 2010</td>\n",
       "      <td>NaN</td>\n",
       "    </tr>\n",
       "    <tr>\n",
       "      <th>3</th>\n",
       "      <td>10000826</td>\n",
       "      <td>F</td>\n",
       "      <td>32</td>\n",
       "      <td>2146</td>\n",
       "      <td>2008 - 2010</td>\n",
       "      <td>NaN</td>\n",
       "    </tr>\n",
       "    <tr>\n",
       "      <th>4</th>\n",
       "      <td>10000883</td>\n",
       "      <td>M</td>\n",
       "      <td>20</td>\n",
       "      <td>2124</td>\n",
       "      <td>2008 - 2010</td>\n",
       "      <td>NaN</td>\n",
       "    </tr>\n",
       "  </tbody>\n",
       "</table>\n",
       "</div>"
      ],
      "text/plain": [
       "   subject_id gender  anchor_age  anchor_year anchor_year_group         dod\n",
       "0    10000032      F          52         2180       2014 - 2016  2180-09-09\n",
       "1    10000084      M          72         2160       2017 - 2019  2161-02-13\n",
       "2    10000117      F          48         2174       2008 - 2010         NaN\n",
       "3    10000826      F          32         2146       2008 - 2010         NaN\n",
       "4    10000883      M          20         2124       2008 - 2010         NaN"
      ]
     },
     "execution_count": 21,
     "metadata": {},
     "output_type": "execute_result"
    }
   ],
   "source": [
    "patients = pd.read_csv(f'{multi_visit_mimic_dir}/patients.csv.gz')\n",
    "patients.head()"
   ]
  },
  {
   "cell_type": "code",
   "execution_count": 22,
   "id": "present-majority",
   "metadata": {},
   "outputs": [],
   "source": [
    "admissions = admissions[admissions.subject_id.isin(patients_multi_visits)].reset_index(drop=True)\n",
    "admissions.to_csv(f'{multi_visit_mimic_dir}/admissions.csv.gz', compression='gzip', index=False)\n"
   ]
  },
  {
   "cell_type": "code",
   "execution_count": 24,
   "id": "married-liabilities",
   "metadata": {},
   "outputs": [],
   "source": [
    "diagnoses_icd = pd.read_csv(f'{mimic_dir}/hosp/diagnoses_icd.csv.gz', dtype = {'icd_code': str})\n",
    "diagnoses_icd = diagnoses_icd[diagnoses_icd.subject_id.isin(patients_multi_visits)].reset_index(drop=True)\n",
    "diagnoses_icd.to_csv(f'{multi_visit_mimic_dir}/diagnoses_icd.csv.gz', compression='gzip', index=False)\n",
    "\n",
    "\n",
    "procedures_icd = pd.read_csv(f'{mimic_dir}/hosp/procedures_icd.csv.gz', dtype = {'icd_code': str})\n",
    "procedures_icd = procedures_icd[procedures_icd.subject_id.isin(patients_multi_visits)].reset_index(drop=True)\n",
    "procedures_icd.to_csv(f'{multi_visit_mimic_dir}/procedures_icd.csv.gz', compression='gzip', index=False)\n",
    "\n"
   ]
  },
  {
   "cell_type": "code",
   "execution_count": null,
   "id": "b20da009",
   "metadata": {},
   "outputs": [],
   "source": []
  }
 ],
 "metadata": {
  "kernelspec": {
   "display_name": "Python 3 (ipykernel)",
   "language": "python",
   "name": "python3"
  },
  "language_info": {
   "codemirror_mode": {
    "name": "ipython",
    "version": 3
   },
   "file_extension": ".py",
   "mimetype": "text/x-python",
   "name": "python",
   "nbconvert_exporter": "python",
   "pygments_lexer": "ipython3",
   "version": "3.8.13"
  }
 },
 "nbformat": 4,
 "nbformat_minor": 5
}
