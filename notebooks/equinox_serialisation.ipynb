{
 "cells": [
  {
   "cell_type": "code",
   "execution_count": 1,
   "id": "f10ab811",
   "metadata": {},
   "outputs": [],
   "source": [
    "import jax.numpy as jnp\n",
    "import jax.random as jrandom\n",
    "import jax.tree_util as jtu\n",
    "\n",
    "import equinox as eqx"
   ]
  },
  {
   "cell_type": "code",
   "execution_count": 2,
   "id": "a6c978bf",
   "metadata": {},
   "outputs": [],
   "source": [
    "key = jrandom.PRNGKey(10)\n",
    "\n",
    "class Model(eqx.Module):\n",
    "    mlp: eqx.nn.MLP\n",
    "    label: str\n",
    "    act: eqx.nn.Lambda\n",
    "    d = dict(a=3)\n",
    "    l = [2, 3]\n",
    "    def __init__(self, in_d, out_d, w, d, act, key):\n",
    "        self.mlp = eqx.nn.MLP(in_d, out_d, w, d, act, act, key=key)\n",
    "        self.label = 'some_important_label'\n",
    "        self.act = eqx.nn.Lambda(jnp.tanh)\n",
    "        \n",
    "    def __call__(self, x):\n",
    "        return self.act(self.mlp(x))\n",
    "\n",
    "f1 = Model(10, 10, 10, 10, jnp.tanh, key=key)"
   ]
  },
  {
   "cell_type": "code",
   "execution_count": 3,
   "id": "7b4f23b3",
   "metadata": {},
   "outputs": [],
   "source": [
    "x = jrandom.normal(key, shape=(10,))"
   ]
  },
  {
   "cell_type": "code",
   "execution_count": 4,
   "id": "3d27c82f",
   "metadata": {},
   "outputs": [
    {
     "data": {
      "text/plain": [
       "Array([-0.10066809,  0.01973604, -0.1169754 ,  0.00370935,  0.00341123,\n",
       "        0.23280813,  0.14593743,  0.32178235,  0.09192786,  0.12030009],      dtype=float32)"
      ]
     },
     "execution_count": 4,
     "metadata": {},
     "output_type": "execute_result"
    }
   ],
   "source": [
    "f1(x)"
   ]
  },
  {
   "cell_type": "code",
   "execution_count": 7,
   "id": "fcd7d00f",
   "metadata": {},
   "outputs": [],
   "source": [
    "eqx.tree_serialise_leaves(\"10.eqx\", f1)"
   ]
  },
  {
   "cell_type": "code",
   "execution_count": 8,
   "id": "9d8289e5",
   "metadata": {},
   "outputs": [
    {
     "data": {
      "text/plain": [
       "Model(\n",
       "  mlp=MLP(\n",
       "    layers=[\n",
       "      Linear(\n",
       "        weight=f32[10,10],\n",
       "        bias=f32[10],\n",
       "        in_features=10,\n",
       "        out_features=10,\n",
       "        use_bias=True\n",
       "      ),\n",
       "      Linear(\n",
       "        weight=f32[10,10],\n",
       "        bias=f32[10],\n",
       "        in_features=10,\n",
       "        out_features=10,\n",
       "        use_bias=True\n",
       "      ),\n",
       "      Linear(\n",
       "        weight=f32[10,10],\n",
       "        bias=f32[10],\n",
       "        in_features=10,\n",
       "        out_features=10,\n",
       "        use_bias=True\n",
       "      ),\n",
       "      Linear(\n",
       "        weight=f32[10,10],\n",
       "        bias=f32[10],\n",
       "        in_features=10,\n",
       "        out_features=10,\n",
       "        use_bias=True\n",
       "      ),\n",
       "      Linear(\n",
       "        weight=f32[10,10],\n",
       "        bias=f32[10],\n",
       "        in_features=10,\n",
       "        out_features=10,\n",
       "        use_bias=True\n",
       "      ),\n",
       "      Linear(\n",
       "        weight=f32[10,10],\n",
       "        bias=f32[10],\n",
       "        in_features=10,\n",
       "        out_features=10,\n",
       "        use_bias=True\n",
       "      ),\n",
       "      Linear(\n",
       "        weight=f32[10,10],\n",
       "        bias=f32[10],\n",
       "        in_features=10,\n",
       "        out_features=10,\n",
       "        use_bias=True\n",
       "      ),\n",
       "      Linear(\n",
       "        weight=f32[10,10],\n",
       "        bias=f32[10],\n",
       "        in_features=10,\n",
       "        out_features=10,\n",
       "        use_bias=True\n",
       "      ),\n",
       "      Linear(\n",
       "        weight=f32[10,10],\n",
       "        bias=f32[10],\n",
       "        in_features=10,\n",
       "        out_features=10,\n",
       "        use_bias=True\n",
       "      ),\n",
       "      Linear(\n",
       "        weight=f32[10,10],\n",
       "        bias=f32[10],\n",
       "        in_features=10,\n",
       "        out_features=10,\n",
       "        use_bias=True\n",
       "      ),\n",
       "      Linear(\n",
       "        weight=f32[10,10],\n",
       "        bias=f32[10],\n",
       "        in_features=10,\n",
       "        out_features=10,\n",
       "        use_bias=True\n",
       "      )\n",
       "    ],\n",
       "    activation=<wrapped function <lambda>>,\n",
       "    final_activation=<wrapped function <lambda>>,\n",
       "    in_size=10,\n",
       "    out_size=10,\n",
       "    width_size=10,\n",
       "    depth=10\n",
       "  ),\n",
       "  label='some_important_label',\n",
       "  act=Lambda(fn=<wrapped function <lambda>>)\n",
       ")"
      ]
     },
     "execution_count": 8,
     "metadata": {},
     "output_type": "execute_result"
    }
   ],
   "source": [
    "f2 = Model(10, 10, 10, 10, jnp.tanh, key=key)\n",
    "eqx.tree_deserialise_leaves(\"10.eqx\", f2)"
   ]
  },
  {
   "cell_type": "code",
   "execution_count": 9,
   "id": "e5bccfa5",
   "metadata": {},
   "outputs": [
    {
     "data": {
      "text/plain": [
       "Array([-0.10066809,  0.01973604, -0.1169754 ,  0.00370935,  0.00341123,\n",
       "        0.23280813,  0.14593743,  0.32178235,  0.09192786,  0.12030009],      dtype=float32)"
      ]
     },
     "execution_count": 9,
     "metadata": {},
     "output_type": "execute_result"
    }
   ],
   "source": [
    "f2(x)"
   ]
  },
  {
   "cell_type": "code",
   "execution_count": null,
   "id": "66451805",
   "metadata": {},
   "outputs": [],
   "source": []
  },
  {
   "cell_type": "code",
   "execution_count": 12,
   "id": "d702425a",
   "metadata": {},
   "outputs": [],
   "source": [
    "def equal_models(model1, model2):\n",
    "    eq = jtu.tree_map(lambda leaf1, leaf2: leaf1 == leaf2, model1, model2)\n",
    "    _, tdef1 = jtu.tree_flatten(model1)\n",
    "    _, tdef2 = jtu.tree_flatten(model2)\n",
    "    \n",
    "    return all(a.all() if isinstance(a, jnp.ndarray) else a\n",
    "               for a in jtu.tree_leaves(eq)) and tdef1 == tdef2\n",
    "\n"
   ]
  },
  {
   "cell_type": "code",
   "execution_count": 13,
   "id": "177dc62b",
   "metadata": {},
   "outputs": [
    {
     "name": "stdout",
     "output_type": "stream",
     "text": [
      "val: True\n",
      "val: True\n",
      "val: True\n",
      "val: True\n",
      "val: True\n",
      "val: True\n",
      "val: True\n",
      "val: True\n",
      "val: True\n",
      "val: True\n",
      "val: True\n",
      "val: True\n",
      "val: True\n",
      "val: True\n",
      "val: True\n",
      "val: True\n",
      "val: True\n",
      "val: True\n",
      "val: True\n",
      "val: True\n",
      "val: True\n",
      "val: True\n"
     ]
    },
    {
     "data": {
      "text/plain": [
       "True"
      ]
     },
     "execution_count": 13,
     "metadata": {},
     "output_type": "execute_result"
    }
   ],
   "source": [
    "equal_models(f1, f2)"
   ]
  },
  {
   "cell_type": "code",
   "execution_count": 78,
   "id": "b154679a",
   "metadata": {},
   "outputs": [
    {
     "data": {
      "text/plain": [
       "{'a': 3}"
      ]
     },
     "execution_count": 78,
     "metadata": {},
     "output_type": "execute_result"
    }
   ],
   "source": [
    "f2.d\n"
   ]
  },
  {
   "cell_type": "code",
   "execution_count": null,
   "id": "3e06685a",
   "metadata": {},
   "outputs": [],
   "source": []
  }
 ],
 "metadata": {
  "kernelspec": {
   "display_name": "Python 3 (ipykernel)",
   "language": "python",
   "name": "python3"
  },
  "language_info": {
   "codemirror_mode": {
    "name": "ipython",
    "version": 3
   },
   "file_extension": ".py",
   "mimetype": "text/x-python",
   "name": "python",
   "nbconvert_exporter": "python",
   "pygments_lexer": "ipython3",
   "version": "3.8.13"
  }
 },
 "nbformat": 4,
 "nbformat_minor": 5
}
