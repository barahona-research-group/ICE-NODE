{
 "cells": [
  {
   "cell_type": "code",
   "execution_count": 1,
   "id": "f10ab811",
   "metadata": {},
   "outputs": [],
   "source": [
    "import jax.numpy as jnp\n",
    "import jax.random as jrandom\n",
    "import jax.tree_util as jtu\n",
    "\n",
    "import equinox as eqx"
   ]
  },
  {
   "cell_type": "code",
   "execution_count": 23,
   "id": "a6c978bf",
   "metadata": {},
   "outputs": [],
   "source": [
    "key = jrandom.PRNGKey(10)\n",
    "\n",
    "class Model(eqx.Module):\n",
    "    mlp: eqx.nn.MLP\n",
    "    def __init__(self, in_d, out_d, w, d, act, key):\n",
    "        self.mlp = eqx.nn.MLP(in_d, out_d, w, d, act, act, key=key)\n",
    "    \n",
    "    def __call__(self, x):\n",
    "        return self.mlp(x)\n",
    "\n",
    "f1 = Model(10, 10, 10, 10, jnp.tanh, key=key)"
   ]
  },
  {
   "cell_type": "code",
   "execution_count": 24,
   "id": "7b4f23b3",
   "metadata": {},
   "outputs": [],
   "source": [
    "x = jrandom.normal(key, shape=(10,))"
   ]
  },
  {
   "cell_type": "code",
   "execution_count": 25,
   "id": "3d27c82f",
   "metadata": {},
   "outputs": [
    {
     "data": {
      "text/plain": [
       "Array([-0.1010102 ,  0.01973858, -0.11751334,  0.00370937,  0.00341123,\n",
       "        0.23715648,  0.14698686,  0.3336342 ,  0.0921881 ,  0.12088551],      dtype=float32)"
      ]
     },
     "execution_count": 25,
     "metadata": {},
     "output_type": "execute_result"
    }
   ],
   "source": [
    "f1(x)"
   ]
  },
  {
   "cell_type": "code",
   "execution_count": 26,
   "id": "fcd7d00f",
   "metadata": {},
   "outputs": [],
   "source": [
    "eqx.tree_serialise_leaves(\"10.eqx\", f1)"
   ]
  },
  {
   "cell_type": "code",
   "execution_count": 31,
   "id": "9d8289e5",
   "metadata": {},
   "outputs": [],
   "source": [
    "f2 = Model(10, 10, 10, 10, jnp.tanh, key=key)\n",
    "eqx.tree_serialise_leaves(\"10.eqx\", f2)"
   ]
  },
  {
   "cell_type": "code",
   "execution_count": 32,
   "id": "e5bccfa5",
   "metadata": {},
   "outputs": [
    {
     "data": {
      "text/plain": [
       "Array([-0.1010102 ,  0.01973858, -0.11751334,  0.00370937,  0.00341123,\n",
       "        0.23715648,  0.14698686,  0.3336342 ,  0.0921881 ,  0.12088551],      dtype=float32)"
      ]
     },
     "execution_count": 32,
     "metadata": {},
     "output_type": "execute_result"
    }
   ],
   "source": [
    "f2(x)"
   ]
  },
  {
   "cell_type": "code",
   "execution_count": 33,
   "id": "d702425a",
   "metadata": {},
   "outputs": [],
   "source": [
    "def equal_models(model1, model2):\n",
    "    eq = jtu.tree_map(lambda leaf1, leaf2: leaf1 == leaf2, model1, model2)\n",
    "    return all(a.all() if isinstance(a, jnp.ndarray) else a\n",
    "               for a in jtu.tree_leaves(eq))\n",
    "\n"
   ]
  },
  {
   "cell_type": "code",
   "execution_count": 34,
   "id": "177dc62b",
   "metadata": {},
   "outputs": [
    {
     "data": {
      "text/plain": [
       "True"
      ]
     },
     "execution_count": 34,
     "metadata": {},
     "output_type": "execute_result"
    }
   ],
   "source": [
    "equal_models(f1, f2)"
   ]
  },
  {
   "cell_type": "code",
   "execution_count": null,
   "id": "b154679a",
   "metadata": {},
   "outputs": [],
   "source": []
  }
 ],
 "metadata": {
  "kernelspec": {
   "display_name": "Python 3 (ipykernel)",
   "language": "python",
   "name": "python3"
  },
  "language_info": {
   "codemirror_mode": {
    "name": "ipython",
    "version": 3
   },
   "file_extension": ".py",
   "mimetype": "text/x-python",
   "name": "python",
   "nbconvert_exporter": "python",
   "pygments_lexer": "ipython3",
   "version": "3.8.13"
  }
 },
 "nbformat": 4,
 "nbformat_minor": 5
}
