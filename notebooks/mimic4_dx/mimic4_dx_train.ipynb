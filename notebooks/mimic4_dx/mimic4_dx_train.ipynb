{
 "cells": [
  {
   "cell_type": "code",
   "execution_count": 1,
   "id": "ab383786",
   "metadata": {},
   "source": [
    "%load_ext autoreload\n",
    "%autoreload 2\n",
    "import sys\n",
    "import os\n",
    "import glob\n",
    "import random\n",
    "from collections import defaultdict\n",
    "from pathlib import Path\n",
    "\n",
    "from IPython.display import display\n",
    "\n",
    "import pandas as pd\n",
    "import dask\n",
    "\n",
    "from tqdm import tqdm\n",
    "import jax\n",
    "jax.config.update('jax_platform_name', 'cpu')\n",
    "# jax.config.update('jax_log_compiles', True)\n",
    "# jax.config.update(\"jax_debug_nans\", True)\n",
    "# jax.config.update(\"jax_enable_x64\", True)"
   ],
   "outputs": []
  },
  {
   "cell_type": "code",
   "execution_count": 2,
   "id": "c83480cb",
   "metadata": {},
   "source": [
    "\n",
    "\n",
    "sys.path.append(\"../..\")\n",
    "\n",
    "from lib import utils as U\n",
    "from lib.ehr.dataset import load_dataset, load_dataset_scheme, load_dataset_config, Dataset\n",
    "from lib.ehr.interface import Patients, InterfaceConfig\n",
    "from lib.ehr.concepts import DemographicVectorConfig\n"
   ],
   "outputs": []
  },
  {
   "cell_type": "code",
   "execution_count": 3,
   "id": "99451f48",
   "metadata": {},
   "source": [
    "import logging\n",
    "logging.root.level = logging.INFO"
   ],
   "outputs": []
  },
  {
   "cell_type": "code",
   "execution_count": 4,
   "id": "19d8ad3d",
   "metadata": {},
   "source": [
    "tag = 'M4'\n",
    "PATH = f'{os.environ.get(\"HOME\")}/GP/ehr-data/mimic4-cohort'\n",
    "sample = None\n",
    "cache =  f'cached_inteface/patients_{tag}'\n",
    "dataset_config = load_dataset_config(tag, \n",
    "                                     sample=sample,\n",
    "                                     path=PATH)\n",
    "dataset_gen = lambda c: load_dataset(config=c)\n"
   ],
   "outputs": []
  },
  {
   "cell_type": "code",
   "execution_count": 5,
   "id": "044e6663",
   "metadata": {},
   "source": [
    "dataset_config"
   ],
   "outputs": []
  },
  {
   "cell_type": "markdown",
   "id": "dd9b26d5",
   "metadata": {},
   "source": [
    "##### Possible Interface Scheme Configurations"
   ]
  },
  {
   "cell_type": "code",
   "execution_count": 6,
   "id": "2ce64ad7",
   "metadata": {},
   "source": [
    "import json\n",
    "dataset_scheme = load_dataset_scheme(tag)\n",
    "interface_schem_options = dataset_scheme.supported_target_scheme_options\n",
    "print(json.dumps(interface_schem_options, sort_keys=True, indent=4))"
   ],
   "outputs": []
  },
  {
   "cell_type": "code",
   "execution_count": 7,
   "id": "0a05db81",
   "metadata": {},
   "source": [
    "dataset_scheme"
   ],
   "outputs": []
  },
  {
   "cell_type": "code",
   "execution_count": 8,
   "id": "c997eab1",
   "metadata": {},
   "source": [
    "interface_scheme = dataset_scheme.make_target_scheme_config(dx='DxICD9',\n",
    "                                                            outcome='dx_icd9_filter_v3_groups',\n",
    "                                                            ethnicity='MIMIC4Eth5')\n",
    "\n",
    "\n",
    "# Demographic vector attributes\n",
    "demographic_vector_conf = DemographicVectorConfig(\n",
    "    age=False, \n",
    "    gender=False, \n",
    "    ethnicity=False\n",
    ")\n",
    "interface_config = InterfaceConfig(scheme=interface_scheme,\n",
    "                                   dataset_scheme=dataset_scheme,\n",
    "                                   demographic_vector=demographic_vector_conf,\n",
    "                                   cache=cache)"
   ],
   "outputs": []
  },
  {
   "cell_type": "code",
   "execution_count": 9,
   "id": "abb4fb14",
   "metadata": {},
   "source": [
    "interface_config"
   ],
   "outputs": []
  },
  {
   "cell_type": "code",
   "execution_count": 10,
   "id": "0da45b5c",
   "metadata": {},
   "source": [
    "m4patients = Patients.try_load_cached(interface_config,\n",
    "                                      dataset_config=dataset_config,\n",
    "                                      dataset_generator=dataset_gen,\n",
    "                                      num_workers=8)"
   ],
   "outputs": []
  },
  {
   "cell_type": "code",
   "execution_count": 11,
   "id": "28e6543c",
   "metadata": {},
   "source": [
    "splits = m4patients.dataset.random_splits([0.8, 0.9], random_seed=42, balanced='admissions')"
   ],
   "outputs": []
  },
  {
   "cell_type": "code",
   "execution_count": 12,
   "id": "d06795c0",
   "metadata": {},
   "source": [
    "len(m4patients.subjects)"
   ],
   "outputs": []
  },
  {
   "cell_type": "code",
   "execution_count": 13,
   "id": "03b56fc9",
   "metadata": {},
   "source": [
    "m4patients.subjects[splits[0][0]]"
   ],
   "outputs": []
  },
  {
   "cell_type": "code",
   "execution_count": 14,
   "id": "cebd58c5",
   "metadata": {},
   "source": [
    "# m4patients.size_in_bytes() / 1024 ** 3"
   ],
   "outputs": []
  },
  {
   "cell_type": "code",
   "execution_count": 15,
   "id": "b598eb42",
   "metadata": {},
   "source": [
    "# val_batch = m4patients.device_batch(splits[1])"
   ],
   "outputs": []
  },
  {
   "cell_type": "code",
   "execution_count": 16,
   "id": "428f1548",
   "metadata": {},
   "source": [
    "# tst_batch = m4patients.device_batch(splits[2])"
   ],
   "outputs": []
  },
  {
   "cell_type": "code",
   "execution_count": 17,
   "id": "0108a8a5",
   "metadata": {},
   "source": [
    "# val_batch.size_in_bytes() / 1024 ** 3, tst_batch.size_in_bytes() / 1024 ** 3"
   ],
   "outputs": []
  },
  {
   "cell_type": "code",
   "execution_count": 18,
   "id": "84e24feb",
   "metadata": {},
   "source": [
    "# batch = m4patients.device_batch(splits[0][:32])"
   ],
   "outputs": []
  },
  {
   "cell_type": "code",
   "execution_count": 19,
   "id": "0af85343",
   "metadata": {},
   "source": [
    "# batch.size_in_bytes() / 1024 ** 3"
   ],
   "outputs": []
  },
  {
   "cell_type": "code",
   "execution_count": 20,
   "id": "0210e539",
   "metadata": {},
   "source": [
    "# len(batch.subjects)"
   ],
   "outputs": []
  },
  {
   "cell_type": "code",
   "execution_count": 21,
   "id": "de0adf08",
   "metadata": {},
   "source": [
    "# batch.n_admissions()"
   ],
   "outputs": []
  },
  {
   "cell_type": "code",
   "execution_count": 22,
   "id": "0464a3bb",
   "metadata": {},
   "source": [
    "# batch.n_segments()"
   ],
   "outputs": []
  },
  {
   "cell_type": "code",
   "execution_count": 23,
   "id": "1b3711f3",
   "metadata": {},
   "source": [
    "# batch.n_obs_times()"
   ],
   "outputs": []
  },
  {
   "cell_type": "code",
   "execution_count": 24,
   "id": "9756e21b",
   "metadata": {},
   "source": [
    "# s = batch.subjects[splits[0][6]].admissions[0]"
   ],
   "outputs": []
  },
  {
   "cell_type": "markdown",
   "id": "b66a64de",
   "metadata": {},
   "source": [
    "### التدريب على نموذج المعادلات التفاضلية الاعتيادية العصبية\n"
   ]
  },
  {
   "cell_type": "code",
   "execution_count": 25,
   "id": "9442545b",
   "metadata": {},
   "source": [
    "from lib.ml import (ICENODE, ICENODEDimensions, \n",
    "                    GRU, GRUDimensions,\n",
    "                    RETAIN, RETAINDimensions,\n",
    "                    PatientEmbeddingDimensions, \n",
    "                    Trainer, TrainerReporting, OptimizerConfig, WarmupConfig,\n",
    "                    TrainerConfig, ReportingConfig)\n",
    "from lib.metric import  (CodeAUC, UntilFirstCodeAUC, AdmissionAUC,\n",
    "                      CodeGroupTopAlarmAccuracy, LossMetric, ObsCodeLevelLossMetric)\n",
    "\n",
    "import jax.random as jrandom"
   ],
   "outputs": []
  },
  {
   "cell_type": "code",
   "execution_count": 26,
   "id": "c911e2f3",
   "metadata": {},
   "source": [
    "emb_dims = PatientEmbeddingDimensions(dx=30, demo=0)\n",
    "key = jrandom.PRNGKey(0)\n",
    "\n",
    "def icenode_model():\n",
    "    dims = ICENODEDimensions(mem=15, emb=emb_dims)\n",
    "    return ICENODE(dims=dims, schemes=m4patients.schemes, \n",
    "                   demographic_vector_config=m4patients.config.demographic_vector,\n",
    "                   key=key)\n",
    "\n",
    "def gru_model():\n",
    "    dims = GRUDimensions(emb=emb_dims)\n",
    "    return GRU(dims=dims, schemes=m4patients.schemes, \n",
    "                   demographic_vector_config=m4patients.config.demographic_vector,\n",
    "                   key=key)\n",
    "\n",
    "def retain_model():\n",
    "    dims = RETAINDimensions(mem_a=25, mem_b=25, emb=emb_dims)\n",
    "    return RETAIN(dims=dims, schemes=m4patients.schemes, \n",
    "                   demographic_vector_config=m4patients.config.demographic_vector,\n",
    "                   key=key)\n",
    "\n",
    "models = {\n",
    "    'dx_icenode': icenode_model(),\n",
    "    'dx_gru': gru_model(),\n",
    "    'dx_retain': retain_model()\n",
    "}"
   ],
   "outputs": []
  },
  {
   "cell_type": "code",
   "execution_count": 27,
   "id": "72d4f9c8",
   "metadata": {},
   "source": [
    "# res = m.batch_predict(m4inpatients.device_batch(), leave_pbar=True)"
   ],
   "outputs": []
  },
  {
   "cell_type": "code",
   "execution_count": 28,
   "id": "3658579e",
   "metadata": {
    "scrolled": true
   },
   "source": [
    "trainer_conf = TrainerConfig(optimizer=OptimizerConfig(opt='adam', lr=1e-3),\n",
    "                             epochs=150,\n",
    "                             batch_size=32,\n",
    "                             dx_loss='allpairs_sigmoid_rank')\n",
    "trainer = Trainer(trainer_conf)\n",
    "\n",
    "warmup = WarmupConfig(epochs=0.1, \n",
    "                      batch_size=8,\n",
    "                      opt='adam', \n",
    "                      lr=1e-3, \n",
    "                      decay_rate=0.5)\n",
    "\n",
    "loss_metric =  LossMetric(m4patients, \n",
    "                          dx_loss=('softmax_bce', 'balanced_focal_softmax_bce', \n",
    "                                   'balanced_focal_bce', 'allpairs_exp_rank', 'allpairs_hard_rank', \n",
    "                                   'allpairs_sigmoid_rank'))\n",
    "\n",
    "metrics = [CodeAUC(m4patients), \n",
    "           AdmissionAUC(m4patients), \n",
    "           CodeGroupTopAlarmAccuracy(m4patients, n_partitions=5,  top_k_list=[3, 5, 10, 15, 20], train_split=splits[0]),\n",
    "           loss_metric]"
   ],
   "outputs": []
  },
  {
   "cell_type": "code",
   "execution_count": null,
   "id": "d5090a9c",
   "metadata": {
    "scrolled": false
   },
   "source": [
    "res = {}\n",
    "for name in ['dx_gru', 'dx_retain']:\n",
    "    model = models[name]\n",
    "    print(name)\n",
    "    reporting_conf = ReportingConfig(output_dir=name,\n",
    "                                     console=True,\n",
    "                                     model_stats=False,\n",
    "                                     parameter_snapshots=True,\n",
    "                                     config_json=True)\n",
    "    reporting = TrainerReporting(reporting_conf, metrics=metrics)\n",
    "    res[name] = trainer(model, m4patients, \n",
    "                  splits=splits,\n",
    "                  reporting=reporting,\n",
    "                  n_evals=100,\n",
    "#                   warmup_config=warmup,\n",
    "                  continue_training=False)"
   ],
   "outputs": []
  },
  {
   "cell_type": "code",
   "execution_count": null,
   "id": "573c74fe",
   "metadata": {},
   "source": [],
   "outputs": []
  }
 ],
 "metadata": {
  "kernelspec": {
   "display_name": "Python 3 (ipykernel)",
   "language": "python",
   "name": "python3"
  },
  "language_info": {
   "codemirror_mode": {
    "name": "ipython",
    "version": 3
   },
   "file_extension": ".py",
   "mimetype": "text/x-python",
   "name": "python",
   "nbconvert_exporter": "python",
   "pygments_lexer": "ipython3",
   "version": "3.9.17"
  }
 },
 "nbformat": 4,
 "nbformat_minor": 5
}
