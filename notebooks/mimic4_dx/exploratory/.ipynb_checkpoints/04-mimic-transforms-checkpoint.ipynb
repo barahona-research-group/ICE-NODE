{
 "cells": [
  {
   "cell_type": "code",
   "execution_count": 1,
   "id": "artificial-network",
   "metadata": {},
   "source": [
    "import numpy as np\n",
    "import pandas as pd\n",
    "import json\n",
    "import collections\n",
    "from collections import defaultdict \n",
    "from functools import partial\n",
    "import matplotlib.pyplot as plt\n",
    "import seaborn as sns\n",
    "\n",
    "from tqdm import tqdm\n"
   ],
   "outputs": []
  },
  {
   "cell_type": "code",
   "execution_count": 2,
   "id": "formal-organic",
   "metadata": {},
   "source": [
    "multi_visit_mimic_dir = '/home/asem/GP/ehr-data/mimic4-multi-visit'\n",
    "transformed_mimic_dir = '/home/asem/GP/ehr-data/mimic4-transforms'\n",
    "mimic_dir = '/home/asem/GP/ehr-data/mimic4-v1.0/physionet.org/files/mimiciv/1.0'"
   ],
   "outputs": []
  },
  {
   "cell_type": "code",
   "execution_count": 3,
   "id": "northern-citation",
   "metadata": {},
   "source": [
    "patients = pd.read_csv(f'{multi_visit_mimic_dir}/patients_2wks.csv.gz')\n",
    "admissions = pd.read_csv(f'{multi_visit_mimic_dir}/admissions_2wks.csv.gz')\n",
    "diagnoses_icd = pd.read_csv(f'{multi_visit_mimic_dir}/diagnoses_icd_2wks.csv.gz', dtype = {'icd_code': str})\n",
    "procedures_icd = pd.read_csv(f'{multi_visit_mimic_dir}/procedures_icd_2wks.csv.gz', dtype = {'icd_code': str})"
   ],
   "outputs": []
  },
  {
   "cell_type": "markdown",
   "id": "sticky-chapel",
   "metadata": {},
   "source": [
    "# Checklist\n",
    "\n",
    "- (A) **Cast datetime to date**.\n",
    "- (B) **Merge CHARTEVENTS and LABEVENTS**\n",
    "- (C) **Remove outliers by IQR** (NOTE: possible information leakage between training and testing. So the aim just to assess the ability of neural ODEs to predict codes for next visits compared to GRAM methods. But for real clinical investigation, outlier removal should be applied on training subset then passing filtration limits to test subset.)\n",
    "- (D) **Normalize to Z-scores**. (NOTE: see (C)).\n",
    "- (E) **For repeated measurements in the same day, consider the average.**\n",
    "    - Average is considered instead of median to be sensitive to edge (and sporadic) values which could be indicative of health conditions.\n",
    "- (F) For DX/PR codes:\n",
    "    1. Add to the middle day of the H. Adm.\n",
    "    2. Add to all days of the H.Adm.\n"
   ]
  },
  {
   "cell_type": "markdown",
   "id": "opening-glenn",
   "metadata": {},
   "source": [
    "# (A) Cast datetime to date"
   ]
  },
  {
   "cell_type": "markdown",
   "id": "extensive-monthly",
   "metadata": {},
   "source": [
    "## (A-1) PATIENTS table"
   ]
  },
  {
   "cell_type": "code",
   "execution_count": 4,
   "id": "dependent-attachment",
   "metadata": {},
   "source": [
    "patients.head()"
   ],
   "outputs": []
  },
  {
   "cell_type": "code",
   "execution_count": 5,
   "id": "portable-budget",
   "metadata": {},
   "source": [
    "patients.dtypes"
   ],
   "outputs": []
  },
  {
   "cell_type": "code",
   "execution_count": 6,
   "id": "minor-dietary",
   "metadata": {},
   "source": [
    "patients = patients[['subject_id', 'gender', 'anchor_age', 'anchor_year']]\n",
    "patients['dob'] = pd.to_datetime(patients['anchor_year'] - patients['anchor_age'], format='%Y').dt.normalize()"
   ],
   "outputs": []
  },
  {
   "cell_type": "code",
   "execution_count": 7,
   "id": "checked-marathon",
   "metadata": {},
   "source": [
    "patients.head()"
   ],
   "outputs": []
  },
  {
   "cell_type": "code",
   "execution_count": 8,
   "id": "corrected-generation",
   "metadata": {},
   "source": [
    "patients.dtypes"
   ],
   "outputs": []
  },
  {
   "cell_type": "markdown",
   "id": "starting-prayer",
   "metadata": {},
   "source": [
    "## (A-2) ADMISSIONS table"
   ]
  },
  {
   "cell_type": "code",
   "execution_count": 9,
   "id": "technological-tamil",
   "metadata": {},
   "source": [
    "admissions.head()"
   ],
   "outputs": []
  },
  {
   "cell_type": "code",
   "execution_count": 10,
   "id": "driven-humidity",
   "metadata": {},
   "source": [
    "admissions = admissions[['subject_id', 'hadm_id', 'admittime', 'dischtime', 'ethnicity']]\n",
    "admissions.columns = ['SUBJECT_ID', 'HADM_ID', 'ADMITTIME', 'DISCHTIME', 'ETHNICITY']"
   ],
   "outputs": []
  },
  {
   "cell_type": "code",
   "execution_count": 11,
   "id": "focused-adams",
   "metadata": {},
   "source": [
    "admissions.ADMITTIME = pd.to_datetime(admissions.ADMITTIME, infer_datetime_format=True).dt.normalize()\n",
    "admissions.DISCHTIME = pd.to_datetime(admissions.DISCHTIME, infer_datetime_format=True).dt.normalize()\n",
    "admissions.head()"
   ],
   "outputs": []
  },
  {
   "cell_type": "code",
   "execution_count": 12,
   "id": "inner-reflection",
   "metadata": {},
   "source": [
    "admissions.dtypes"
   ],
   "outputs": []
  },
  {
   "cell_type": "markdown",
   "id": "vietnamese-carolina",
   "metadata": {},
   "source": [
    "## (A-3) DIAGNOSES  and PROCEDURES tables"
   ]
  },
  {
   "cell_type": "code",
   "execution_count": 13,
   "id": "regulated-command",
   "metadata": {},
   "source": [
    "diagnoses_icd.head()"
   ],
   "outputs": []
  },
  {
   "cell_type": "code",
   "execution_count": 14,
   "id": "bright-georgia",
   "metadata": {},
   "source": [
    "diagnoses_icd = diagnoses_icd[['subject_id', 'hadm_id', 'icd_code', 'icd_version']]"
   ],
   "outputs": []
  },
  {
   "cell_type": "code",
   "execution_count": 15,
   "id": "prompt-editing",
   "metadata": {},
   "source": [
    "procedures_icd.head()\n"
   ],
   "outputs": []
  },
  {
   "cell_type": "code",
   "execution_count": 16,
   "id": "baking-bouquet",
   "metadata": {},
   "source": [
    "procedures_icd = procedures_icd[['subject_id', 'hadm_id', 'icd_code', 'icd_version']]"
   ],
   "outputs": []
  },
  {
   "cell_type": "markdown",
   "id": "irish-shuttle",
   "metadata": {},
   "source": [
    "## Convert ICD-10 to ICD-9"
   ]
  },
  {
   "cell_type": "code",
   "execution_count": 17,
   "id": "reasonable-worth",
   "metadata": {},
   "source": [
    "icd_conv = pd.read_csv('icd10toicd9gem.csv', dtype = {'icd9cm': str, 'icd10cm': str})\n",
    "icd_conv.head()\n"
   ],
   "outputs": []
  },
  {
   "cell_type": "code",
   "execution_count": 18,
   "id": "established-education",
   "metadata": {},
   "source": [
    "(icd_conv.no_map == 0).mean()"
   ],
   "outputs": []
  },
  {
   "cell_type": "code",
   "execution_count": 19,
   "id": "hungry-teaching",
   "metadata": {},
   "source": [
    "from collections import defaultdict\n",
    "icd_conv_dict = defaultdict(set)\n",
    "for row in icd_conv[icd_conv.no_map == 0].itertuples():\n",
    "    icd_conv_dict[row.icd10cm].add(row.icd9cm)"
   ],
   "outputs": []
  },
  {
   "cell_type": "code",
   "execution_count": 20,
   "id": "developed-calvin",
   "metadata": {},
   "source": [
    "set(map(len, icd_conv_dict.values()))"
   ],
   "outputs": []
  },
  {
   "cell_type": "code",
   "execution_count": 21,
   "id": "modified-arkansas",
   "metadata": {},
   "source": [
    "diagnoses_icd_10 = diagnoses_icd[diagnoses_icd.icd_version == 10]\n",
    "procedures_icd_10 = procedures_icd[procedures_icd.icd_version == 10]\n"
   ],
   "outputs": []
  },
  {
   "cell_type": "code",
   "execution_count": 22,
   "id": "fatal-amino",
   "metadata": {},
   "source": [
    "diagnoses_icd9_converted = {'subject_id': [],\n",
    "                            'hadm_id': [],\n",
    "                            'icd_code': [],\n",
    "                            'icd_version': []}\n",
    "procedures_icd9_converted = {'subject_id': [],\n",
    "                            'hadm_id': [],\n",
    "                            'icd_code': [],\n",
    "                            'icd_version': []}\n",
    "\n",
    "for row in diagnoses_icd_10.itertuples():\n",
    "    for icd9 in icd_conv_dict.get(row.icd_code, {}):\n",
    "        diagnoses_icd9_converted['subject_id'].append(row.subject_id)\n",
    "        diagnoses_icd9_converted['hadm_id'].append(row.hadm_id)\n",
    "        diagnoses_icd9_converted['icd_code'].append(icd9)\n",
    "        diagnoses_icd9_converted['icd_version'].append(9)\n",
    "\n",
    "for row in procedures_icd_10.itertuples():\n",
    "    for icd9 in icd_conv_dict.get(row.icd_code, {}):\n",
    "        procedures_icd9_converted['subject_id'].append(row.subject_id)\n",
    "        procedures_icd9_converted['hadm_id'].append(row.hadm_id)\n",
    "        procedures_icd9_converted['icd_code'].append(icd9)\n",
    "        procedures_icd9_converted['icd_version'].append(9)"
   ],
   "outputs": []
  },
  {
   "cell_type": "code",
   "execution_count": 23,
   "id": "faced-algorithm",
   "metadata": {},
   "source": [
    "diagnoses_icd9_converted = pd.DataFrame(diagnoses_icd9_converted)\n",
    "procedures_icd9_converted = pd.DataFrame(procedures_icd9_converted)\n"
   ],
   "outputs": []
  },
  {
   "cell_type": "code",
   "execution_count": 24,
   "id": "specified-addition",
   "metadata": {},
   "source": [
    "print('diag 10->9 expansion ratio:', len(diagnoses_icd9_converted)/len(diagnoses_icd_10))\n",
    "print('proc 10->9 expansion ratio:', len(procedures_icd9_converted)/len(procedures_icd_10))\n"
   ],
   "outputs": []
  },
  {
   "cell_type": "code",
   "execution_count": 25,
   "id": "applied-assist",
   "metadata": {},
   "source": [
    "# The original rows with ICD9\n",
    "diagnoses_icd9 = diagnoses_icd[diagnoses_icd.icd_version == 9]\n",
    "procedures_icd9 = procedures_icd[procedures_icd.icd_version == 9]\n",
    "\n",
    "print('|diag_icd9_original|=', len(diagnoses_icd9))\n",
    "print('|proc_icd9_original|=', len(procedures_icd9))\n",
    "\n",
    "print('|diag_icd9_converted|=', len(diagnoses_icd9_converted))\n",
    "print('|proc_icd9_converted|=', len(procedures_icd9_converted))\n",
    "\n",
    "\n",
    "# Now with merging the converted ICD9\n",
    "diagnoses_icd9 = diagnoses_icd9.append(diagnoses_icd9_converted)\n",
    "procedures_icd9 = procedures_icd9.append(procedures_icd9_converted)\n",
    "\n",
    "print('|diag_icd9_total|=', len(diagnoses_icd9))\n",
    "print('|proc_icd9_total|=', len(procedures_icd9))\n"
   ],
   "outputs": []
  },
  {
   "cell_type": "code",
   "execution_count": 26,
   "id": "useful-brand",
   "metadata": {},
   "source": [
    "diagnoses_icd9.to_csv(f'{transformed_mimic_dir}/diagnoses_icd9.csv.gz', compression='gzip', index=False)\n",
    "procedures_icd9.to_csv(f'{transformed_mimic_dir}/procedures_icd9.csv.gz', compression='gzip', index=False)"
   ],
   "outputs": []
  },
  {
   "cell_type": "code",
   "execution_count": 27,
   "id": "opened-catch",
   "metadata": {},
   "source": [
    "patients"
   ],
   "outputs": []
  },
  {
   "cell_type": "code",
   "execution_count": 28,
   "id": "structural-instrumentation",
   "metadata": {},
   "source": [
    "set(patients.gender)"
   ],
   "outputs": []
  },
  {
   "cell_type": "markdown",
   "id": "collective-citation",
   "metadata": {},
   "source": [
    "## (F) Ethnicity normalization (grouping)"
   ]
  },
  {
   "cell_type": "code",
   "execution_count": 29,
   "id": "favorite-force",
   "metadata": {},
   "source": [
    "admissions"
   ],
   "outputs": []
  },
  {
   "cell_type": "code",
   "execution_count": 30,
   "id": "conservative-collector",
   "metadata": {},
   "source": [
    "set(admissions.ETHNICITY)"
   ],
   "outputs": []
  },
  {
   "cell_type": "code",
   "execution_count": null,
   "id": "coated-coverage",
   "metadata": {},
   "source": [],
   "outputs": []
  },
  {
   "cell_type": "code",
   "execution_count": 31,
   "id": "monthly-newark",
   "metadata": {},
   "source": [
    "ethnicity_group_d = {\n",
    "    'AMERICAN INDIAN/ALASKA NATIVE': ['AMERICAN INDIAN/ALASKA NATIVE'],\n",
    "    'ASIAN': ['ASIAN'],\n",
    "    'BLACK/AFRICAN': ['BLACK/AFRICAN AMERICAN'],\n",
    "    'HISPANIC OR LATINO': ['HISPANIC/LATINO'],\n",
    "    'WHITE': ['WHITE'],\n",
    "    'UNKNOWN': ['OTHER', 'UNABLE TO OBTAIN', 'UNKNOWN']\n",
    "}\n",
    "\n",
    "# 8 ethnicities mapped to 6 groups"
   ],
   "outputs": []
  },
  {
   "cell_type": "code",
   "execution_count": 32,
   "id": "hourly-leone",
   "metadata": {},
   "source": [
    "ethnicity_d = {}\n",
    "for ethnic_group, ethnic_labels in ethnicity_group_d.items():\n",
    "    for eth_label in ethnic_labels:\n",
    "        assert eth_label not in ethnicity_d, f\"{eth_label} is assigned to multiple groups: {ethnicity_d[eth_label]} and ethnic_group.\"\n",
    "        \n",
    "        ethnicity_d[eth_label] = ethnic_group"
   ],
   "outputs": []
  },
  {
   "cell_type": "code",
   "execution_count": 33,
   "id": "behavioral-future",
   "metadata": {},
   "source": [
    "len(ethnicity_d)"
   ],
   "outputs": []
  },
  {
   "cell_type": "markdown",
   "id": "elect-hierarchy",
   "metadata": {},
   "source": [
    "- When patient has admissions with different ethnicities recorded,\n",
    "\n",
    "1. group the different ethnicities using the grouping above into a new set\n",
    "2. if the set has at least one group in addition to 'UNKNOWN', remove 'UNKNOWN'\n",
    "3. if set still has more than a group, then assign 'UNKNOWN'\n"
   ]
  },
  {
   "cell_type": "code",
   "execution_count": 34,
   "id": "instant-front",
   "metadata": {},
   "source": [
    "subject_ethnicity_d = {}\n",
    "for subject_id, subject_df in admissions.groupby('SUBJECT_ID'):\n",
    "    ethnicity = set(map(ethnicity_d.get, subject_df.ETHNICITY))\n",
    "    if len(ethnicity) > 1 and 'UNKNOWN' in ethnicity:\n",
    "        ethnicity.remove('UNKNOWN')\n",
    "    if len(ethnicity) == 1:\n",
    "        ethnicity = ethnicity.pop()\n",
    "    else:\n",
    "        ethnicity = 'UNKNOWN'\n",
    "    subject_ethnicity_d[subject_id] = ethnicity"
   ],
   "outputs": []
  },
  {
   "cell_type": "code",
   "execution_count": 35,
   "id": "ranging-exception",
   "metadata": {},
   "source": [
    "len(subject_ethnicity_d)"
   ],
   "outputs": []
  },
  {
   "cell_type": "markdown",
   "id": "attached-cisco",
   "metadata": {},
   "source": [
    "## (G) Static attributes table"
   ]
  },
  {
   "cell_type": "code",
   "execution_count": 36,
   "id": "american-basic",
   "metadata": {},
   "source": [
    "static_df = patients.copy(deep=True)\n",
    "static_df['ETHNIC_GROUP'] = static_df.subject_id.map(subject_ethnicity_d)"
   ],
   "outputs": []
  },
  {
   "cell_type": "code",
   "execution_count": 37,
   "id": "painted-opportunity",
   "metadata": {},
   "source": [
    "static_df"
   ],
   "outputs": []
  },
  {
   "cell_type": "code",
   "execution_count": 38,
   "id": "convinced-dealing",
   "metadata": {},
   "source": [
    "static_df = static_df[['subject_id', 'gender', 'dob', 'ETHNIC_GROUP']]\n",
    "static_df.columns = ['SUBJECT_ID', 'GENDER', 'DOB', 'ETHNIC_GROUP']"
   ],
   "outputs": []
  },
  {
   "cell_type": "code",
   "execution_count": 39,
   "id": "surgical-netscape",
   "metadata": {},
   "source": [
    "static_df.to_csv(f'{transformed_mimic_dir}/static_df.csv.gz', compression='gzip', index=False)\n"
   ],
   "outputs": []
  },
  {
   "cell_type": "markdown",
   "id": "valuable-framework",
   "metadata": {},
   "source": [
    "## (H) Statistics of admissions table"
   ]
  },
  {
   "cell_type": "code",
   "execution_count": 45,
   "id": "choice-accuracy",
   "metadata": {},
   "source": [
    "\n",
    "patient_ordered_admissions = {}\n",
    "\n",
    "for patient_id, patient_df in admissions.groupby('SUBJECT_ID'):\n",
    "    admit = patient_df['ADMITTIME'].sort_values()\n",
    "    patient_ordered_admissions[patient_id] = list(admit)"
   ],
   "outputs": []
  },
  {
   "cell_type": "code",
   "execution_count": 46,
   "id": "final-woman",
   "metadata": {},
   "source": [
    "patient_intervals = defaultdict(list)\n",
    "all_intervals = []\n",
    "for patient_id, admittimes in patient_ordered_admissions.items():\n",
    "    intervals = []\n",
    "    for adm1, adm2 in zip(admittimes[:-1], admittimes[1:]):\n",
    "        weeks = (adm2 - adm1).days / 7\n",
    "        intervals.append(weeks)\n",
    "        all_intervals.append(weeks)\n",
    "    patient_intervals[patient_id] = intervals\n",
    "    \n",
    "pd.DataFrame({'intervals(weeks)': all_intervals}).describe()"
   ],
   "outputs": []
  },
  {
   "cell_type": "markdown",
   "id": "dynamic-conviction",
   "metadata": {},
   "source": [
    "## (J) Finalize PROCEDURES/DIAGNOSES tables"
   ]
  },
  {
   "cell_type": "code",
   "execution_count": 165,
   "id": "fluid-absorption",
   "metadata": {},
   "source": [
    "diagnoses_icd9 = diagnoses_icd9[['subject_id', 'hadm_id', 'icd_code']]\n",
    "diagnoses_icd9.columns = ['SUBJECT_ID', 'HADM_ID', 'ICD9_CODE']\n",
    "diagnoses_icd9 = diagnoses_icd9.sort_values(by=['SUBJECT_ID', 'HADM_ID']).reset_index(drop=True)"
   ],
   "outputs": []
  },
  {
   "cell_type": "code",
   "execution_count": 166,
   "id": "hindu-moral",
   "metadata": {},
   "source": [
    "diag_df = diagnoses_icd9[diagnoses_icd9.ICD9_CODE.notnull()]\n",
    "diag_df"
   ],
   "outputs": []
  },
  {
   "cell_type": "code",
   "execution_count": 167,
   "id": "concerned-museum",
   "metadata": {},
   "source": [
    "procedures_icd9 = procedures_icd9[['subject_id', 'hadm_id', 'icd_code']]\n",
    "procedures_icd9.columns = ['SUBJECT_ID', 'HADM_ID', 'ICD9_CODE']\n",
    "procedures_icd9 = procedures_icd9.sort_values(by=['SUBJECT_ID', 'HADM_ID']).reset_index(drop=True)"
   ],
   "outputs": []
  },
  {
   "cell_type": "code",
   "execution_count": 168,
   "id": "nutritional-pakistan",
   "metadata": {},
   "source": [
    "proc_df = procedures_icd9[procedures_icd9.ICD9_CODE.notnull()]\n",
    "proc_df"
   ],
   "outputs": []
  },
  {
   "cell_type": "markdown",
   "id": "welcome-prefix",
   "metadata": {},
   "source": [
    "### Remove duplicate codes for the same patient for the same admission"
   ]
  },
  {
   "cell_type": "code",
   "execution_count": 169,
   "id": "drawn-acting",
   "metadata": {},
   "source": [
    "diag_df = diag_df.drop_duplicates(ignore_index=True)\n",
    "diag_df"
   ],
   "outputs": []
  },
  {
   "cell_type": "code",
   "execution_count": 170,
   "id": "induced-surveillance",
   "metadata": {},
   "source": [
    "proc_df = proc_df.drop_duplicates(ignore_index=True)\n",
    "proc_df"
   ],
   "outputs": []
  },
  {
   "cell_type": "code",
   "execution_count": 171,
   "id": "stretch-crack",
   "metadata": {},
   "source": [
    "diag_df.to_csv(f'{transformed_mimic_dir}/diag_df.csv.gz', compression='gzip', index=False)\n",
    "proc_df.to_csv(f'{transformed_mimic_dir}/proc_df.csv.gz', compression='gzip', index=False)\n"
   ],
   "outputs": []
  },
  {
   "cell_type": "code",
   "execution_count": 172,
   "id": "encouraging-assignment",
   "metadata": {},
   "source": [
    "diag_df"
   ],
   "outputs": []
  },
  {
   "cell_type": "code",
   "execution_count": 173,
   "id": "standing-digit",
   "metadata": {},
   "source": [
    "proc_df"
   ],
   "outputs": []
  },
  {
   "cell_type": "code",
   "execution_count": 174,
   "id": "independent-processor",
   "metadata": {},
   "source": [
    "print('avg. icd9 codes per admission', len(diag_df)/diag_df['HADM_ID'].nunique())"
   ],
   "outputs": []
  },
  {
   "cell_type": "code",
   "execution_count": 175,
   "id": "beginning-crossing",
   "metadata": {},
   "source": [
    "len(set(diag_df.HADM_ID))"
   ],
   "outputs": []
  },
  {
   "cell_type": "code",
   "execution_count": 176,
   "id": "square-maldives",
   "metadata": {},
   "source": [
    "len(set(admissions.HADM_ID))"
   ],
   "outputs": []
  },
  {
   "cell_type": "code",
   "execution_count": 177,
   "id": "aggressive-collective",
   "metadata": {},
   "source": [
    "len(set(diag_df.HADM_ID) - set(admissions.HADM_ID))"
   ],
   "outputs": []
  },
  {
   "cell_type": "code",
   "execution_count": 179,
   "id": "rubber-composite",
   "metadata": {},
   "source": [
    "import os, sys\n",
    "parent_dir = os.path.abspath('..')\n",
    "# the parent_dir could already be there if the kernel was not restarted,\n",
    "# and we run this cell again\n",
    "if parent_dir not in sys.path:\n",
    "    sys.path.append(parent_dir)\n",
    "    \n",
    "from mimicnet.mimic3 import concept, dag\n",
    "\n",
    "KG = dag.CCSDAG()\n",
    "admission_n_ccs_codes = {}\n",
    "admission_n_icd_codes = {}"
   ],
   "outputs": []
  },
  {
   "cell_type": "code",
   "execution_count": 186,
   "id": "organized-trunk",
   "metadata": {},
   "source": [
    "for admission_id, diag_adm_df in diag_df.groupby('HADM_ID'):\n",
    "    icd_codes = set(diag_adm_df.ICD9_CODE)\n",
    "    ccs_codes = set(map(KG.diag_icd2ccs.get, icd_codes))\n",
    "    admission_n_ccs_codes[admission_id] = len(ccs_codes)\n",
    "    admission_n_icd_codes[admission_id] = len(icd_codes)"
   ],
   "outputs": []
  },
  {
   "cell_type": "code",
   "execution_count": 188,
   "id": "enclosed-component",
   "metadata": {},
   "source": [
    "admission_n_codes = pd.DataFrame(index=admission_n_ccs_codes.keys(),\n",
    "                                data = {'CCS': admission_n_ccs_codes.values(),\n",
    "                                       'ICD': admission_n_icd_codes.values()})"
   ],
   "outputs": []
  },
  {
   "cell_type": "code",
   "execution_count": 190,
   "id": "specified-permit",
   "metadata": {},
   "source": [
    "admission_n_codes.describe()"
   ],
   "outputs": []
  },
  {
   "cell_type": "code",
   "execution_count": 185,
   "id": "ruled-object",
   "metadata": {},
   "source": [
    "dir(KG)"
   ],
   "outputs": []
  },
  {
   "cell_type": "code",
   "execution_count": null,
   "id": "saving-preliminary",
   "metadata": {},
   "source": [],
   "outputs": []
  }
 ],
 "metadata": {
  "kernelspec": {
   "display_name": "Python 3 (ipykernel)",
   "language": "python",
   "name": "python3"
  },
  "language_info": {
   "codemirror_mode": {
    "name": "ipython",
    "version": 3
   },
   "file_extension": ".py",
   "mimetype": "text/x-python",
   "name": "python",
   "nbconvert_exporter": "python",
   "pygments_lexer": "ipython3",
   "version": "3.8.12"
  }
 },
 "nbformat": 4,
 "nbformat_minor": 5
}
