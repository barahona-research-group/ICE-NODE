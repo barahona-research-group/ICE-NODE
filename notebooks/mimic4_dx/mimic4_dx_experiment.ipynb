{
 "cells": [
  {
   "cell_type": "code",
   "execution_count": 1,
   "id": "ab383786",
   "metadata": {},
   "outputs": [],
   "source": [
    "%load_ext autoreload\n",
    "%autoreload 2\n",
    "import sys\n",
    "import os\n",
    "import glob\n",
    "import random\n",
    "from collections import defaultdict\n",
    "from pathlib import Path\n",
    "\n",
    "from IPython.display import display\n",
    "\n",
    "import pandas as pd\n",
    "import dask\n",
    "\n",
    "from tqdm import tqdm\n",
    "import jax\n",
    "jax.config.update('jax_platform_name', 'cpu')\n",
    "# jax.config.update('jax_log_compiles', True)\n",
    "# jax.config.update(\"jax_debug_nans\", True)\n",
    "# jax.config.update(\"jax_enable_x64\", True)"
   ]
  },
  {
   "cell_type": "code",
   "execution_count": 2,
   "id": "c83480cb",
   "metadata": {},
   "outputs": [],
   "source": [
    "\n",
    "\n",
    "sys.path.append(\"../..\")\n",
    "\n",
    "from lib import utils as U\n",
    "from lib.ehr import load_dataset, load_dataset_scheme, load_dataset_config, Dataset\n",
    "from lib.ehr.interface import Patients, InterfaceConfig\n",
    "from lib.ehr.concepts import DemographicVectorConfig\n"
   ]
  },
  {
   "cell_type": "code",
   "execution_count": 3,
   "id": "99451f48",
   "metadata": {},
   "outputs": [],
   "source": [
    "import logging\n",
    "logging.root.level = logging.INFO"
   ]
  },
  {
   "cell_type": "code",
   "execution_count": 4,
   "id": "101f5d73",
   "metadata": {},
   "outputs": [],
   "source": [
    "tag = 'M4'\n",
    "PATH = f'{os.environ.get(\"HOME\")}/GP/ehr-data/mimic4-cohort'\n",
    "sample = None\n",
    "cache =  f'cached_inteface/patients_{tag}_{sample or \"\"}'\n",
    "dataset_config = load_dataset_config(tag, \n",
    "                                     sample=sample,\n",
    "                                     path=PATH)"
   ]
  },
  {
   "cell_type": "markdown",
   "id": "a784b45c",
   "metadata": {},
   "source": [
    "##### Possible Interface Scheme Configurations"
   ]
  },
  {
   "cell_type": "code",
   "execution_count": 5,
   "id": "3c1b3f89",
   "metadata": {},
   "outputs": [
    {
     "name": "stdout",
     "output_type": "stream",
     "text": [
      "{\n",
      "    \"dx\": [\n",
      "        \"DxICD10\",\n",
      "        \"DxCCS\",\n",
      "        \"DxICD9\",\n",
      "        \"DxFlatCCS\"\n",
      "    ],\n",
      "    \"ethnicity\": [\n",
      "        \"MIMIC4Eth32\",\n",
      "        \"MIMIC4Eth5\"\n",
      "    ],\n",
      "    \"gender\": [\n",
      "        \"Gender\"\n",
      "    ],\n",
      "    \"outcome\": [\n",
      "        \"dx_flatccs_filter_v1\",\n",
      "        \"dx_icd9_filter_v1\",\n",
      "        \"dx_flatccs_mlhc_groups\",\n",
      "        \"dx_icd9_filter_v2_groups\",\n",
      "        \"dx_icd9_filter_v3_groups\"\n",
      "    ]\n",
      "}\n"
     ]
    }
   ],
   "source": [
    "import json\n",
    "dataset_scheme = load_dataset_scheme(tag)\n",
    "interface_schem_options = dataset_scheme.supported_target_scheme_options\n",
    "print(json.dumps(interface_schem_options, sort_keys=True, indent=4))"
   ]
  },
  {
   "cell_type": "code",
   "execution_count": 6,
   "id": "95c3df4c",
   "metadata": {},
   "outputs": [],
   "source": [
    "interface_scheme = dataset_scheme.make_target_scheme_config(dx='DxICD9',\n",
    "                                                            outcome='dx_icd9_filter_v3_groups',\n",
    "                                                            ethnicity='MIMIC4Eth5')\n",
    "\n",
    "\n",
    "# Demographic vector attributes\n",
    "demographic_vector_conf = DemographicVectorConfig(\n",
    "    age=False, \n",
    "    gender=False, \n",
    "    ethnicity=False\n",
    ")\n",
    "interface_config = InterfaceConfig(scheme=interface_scheme,\n",
    "                                   dataset_scheme=dataset_scheme,\n",
    "                                   demographic_vector=demographic_vector_conf,\n",
    "                                   cache=cache)"
   ]
  },
  {
   "cell_type": "code",
   "execution_count": 7,
   "id": "e2bf7879",
   "metadata": {},
   "outputs": [],
   "source": [
    "from lib.ml import (ICENODE, ICENODEConfig, OutpatientEmbeddingConfig,  SplitConfig,\n",
    "                    Trainer, TrainerConfig, TrainerReporting, OptimizerConfig, WarmupConfig, ReportingConfig)\n",
    "from lib.metric import  (CodeAUC, UntilFirstCodeAUC, AdmissionAUC, CodeLevelMetricConfig, MetricLevelsConfig,\n",
    "                         LossMetricConfig,\n",
    "                      CodeGroupTopAlarmAccuracy, LossMetric, ObsCodeLevelLossMetric, CodeGroupTopAlarmAccuracyConfig)\n",
    "from lib.ml import Experiment, ExperimentConfig, SplitConfig\n",
    "\n",
    "import jax.random as jrandom"
   ]
  },
  {
   "cell_type": "code",
   "execution_count": 8,
   "id": "c911e2f3",
   "metadata": {},
   "outputs": [],
   "source": [
    "emb_dims = OutpatientEmbeddingConfig(dx=30, demo=0)\n",
    "model_config = ICENODEConfig(mem=15, emb=emb_dims)\n",
    "model_classname = ICENODE.__name__"
   ]
  },
  {
   "cell_type": "code",
   "execution_count": 9,
   "id": "3658579e",
   "metadata": {
    "scrolled": true
   },
   "outputs": [],
   "source": [
    "trainer_config = TrainerConfig(optimizer=OptimizerConfig(opt='adam', lr=1e-3),\n",
    "                          epochs=80,\n",
    "                          batch_size=128,\n",
    "                          dx_loss='balanced_focal_bce',\n",
    "                          obs_loss='mse',\n",
    "                          lead_loss='mse')\n",
    "\n",
    "warmup = WarmupConfig(epochs=0.1, \n",
    "                      batch_size=8,\n",
    "                      opt='adam', lr=1e-3, \n",
    "                      decay_rate=0.5)\n",
    "\n",
    "\n"
   ]
  },
  {
   "cell_type": "code",
   "execution_count": 10,
   "id": "a9f441a2",
   "metadata": {},
   "outputs": [],
   "source": [
    "dx_loss = [\"softmax_bce\", \"balanced_focal_softmax_bce\", \"balanced_focal_bce\",\n",
    "          \"allpairs_exp_rank\", \"allpairs_hard_rank\", \"allpairs_sigmoid_rank\"]\n",
    "obs_loss =  [\"mse\", \"mae\", \"rms\"]\n",
    "                \n",
    "metrics_conf = [\n",
    "    (CodeAUC, CodeLevelMetricConfig(aggregate_level=True, code_level=True)),\n",
    "    (AdmissionAUC, MetricLevelsConfig(admission=False, aggregate=True, subject_aggregate=False)),\n",
    "    (CodeGroupTopAlarmAccuracy, CodeGroupTopAlarmAccuracyConfig(n_partitions=5, top_k_list=[3, 5, 10, 15, 20])),\n",
    "    (LossMetric, LossMetricConfig(dx_loss=dx_loss))\n",
    "]\n",
    "metrics_conf = [m.export_module_class(c) for m, c in metrics_conf]"
   ]
  },
  {
   "cell_type": "code",
   "execution_count": 11,
   "id": "02d82d83",
   "metadata": {},
   "outputs": [],
   "source": [
    "reporting_conf = ReportingConfig(output_dir='icenode',\n",
    "                                 console=True,\n",
    "                                 model_stats=False,\n",
    "                                 parameter_snapshots=True,\n",
    "                                 config_json=True)"
   ]
  },
  {
   "cell_type": "code",
   "execution_count": 12,
   "id": "78dbc88d",
   "metadata": {},
   "outputs": [],
   "source": [
    "expt_config = ExperimentConfig(dataset=dataset_config,\n",
    "                              interface=interface_config,\n",
    "                              split=SplitConfig(train=0.8, val=0.1, test=0.1, balanced='admissions'),\n",
    "                              trainer=trainer_config,\n",
    "                              metrics=metrics_conf,\n",
    "                              reporting=reporting_conf,\n",
    "                              model=model_config,\n",
    "                              model_classname=model_classname,\n",
    "                              n_evals=100,\n",
    "                              continue_training=True,\n",
    "                              warmup=None,\n",
    "                              reg_hyperparams=None)"
   ]
  },
  {
   "cell_type": "code",
   "execution_count": 13,
   "id": "6fde0501",
   "metadata": {},
   "outputs": [],
   "source": [
    "experiment = Experiment(expt_config)"
   ]
  },
  {
   "cell_type": "code",
   "execution_count": 14,
   "id": "410b8328",
   "metadata": {},
   "outputs": [
    {
     "data": {
      "text/plain": [
       "ExperimentConfig(\n",
       "  dataset=DatasetConfig(\n",
       "    path='/home/asem/GP/ehr-data/mimic4-cohort',\n",
       "    scheme=DatasetSchemeConfig(\n",
       "      dx={'10': 'DxICD10', '9': 'DxICD9'},\n",
       "      ethnicity='MIMIC4Eth32',\n",
       "      gender='Gender',\n",
       "      outcome=None\n",
       "    ),\n",
       "    scheme_classname='MIMIC4DatasetScheme',\n",
       "    colname={\n",
       "      'adm':\n",
       "      {\n",
       "        'admittime':\n",
       "        'admittime',\n",
       "        'dischtime':\n",
       "        'dischtime',\n",
       "        'index':\n",
       "        'hadm_id',\n",
       "        'subject_id':\n",
       "        'subject_id'\n",
       "      },\n",
       "      'dx':\n",
       "      {'admission_id': 'hadm_id', 'code': 'icd_code', 'version': 'icd_version'},\n",
       "      'static':\n",
       "      {\n",
       "        'anchor_age':\n",
       "        'anchor_age',\n",
       "        'anchor_year':\n",
       "        'anchor_year',\n",
       "        'ethnicity':\n",
       "        'race',\n",
       "        'gender':\n",
       "        'gender',\n",
       "        'index':\n",
       "        'subject_id'\n",
       "      }\n",
       "    },\n",
       "    files={\n",
       "      'adm':\n",
       "      'adm_df.csv.gz',\n",
       "      'dx':\n",
       "      'dx_df.csv.gz',\n",
       "      'static':\n",
       "      'static_df.csv.gz'\n",
       "    },\n",
       "    sample=None,\n",
       "    meta_fpath='',\n",
       "    tag='M4',\n",
       "    overlapping_admissions='merge'\n",
       "  ),\n",
       "  interface=InterfaceConfig(\n",
       "    demographic_vector=DemographicVectorConfig(\n",
       "      gender=False,\n",
       "      age=False,\n",
       "      ethnicity=False\n",
       "    ),\n",
       "    leading_observable=None,\n",
       "    scheme=DatasetSchemeConfig(\n",
       "      dx='DxICD9',\n",
       "      ethnicity='MIMIC4Eth5',\n",
       "      gender='Gender',\n",
       "      outcome='dx_icd9_filter_v3_groups'\n",
       "    ),\n",
       "    cache='cached_inteface/patients_M4_'\n",
       "  ),\n",
       "  split=SplitConfig(train=0.8, val=0.1, test=0.1, balanced='admissions'),\n",
       "  trainer=TrainerConfig(\n",
       "    optimizer=OptimizerConfig(\n",
       "      opt='adam',\n",
       "      lr=0.001,\n",
       "      decay_rate=None,\n",
       "      reverse_schedule=False\n",
       "    ),\n",
       "    epochs=80,\n",
       "    batch_size=128,\n",
       "    dx_loss='balanced_focal_bce',\n",
       "    obs_loss='mse',\n",
       "    lead_loss='mse'\n",
       "  ),\n",
       "  model=ICENODEConfig(emb=OutpatientEmbeddingConfig(dx=30, demo=0), mem=15),\n",
       "  model_classname='ICENODE',\n",
       "  metrics=[\n",
       "    {\n",
       "      'config':\n",
       "      {\n",
       "        '_type':\n",
       "        'CodeLevelMetricConfig',\n",
       "        'aggregate_level':\n",
       "        True,\n",
       "        'code_level':\n",
       "        True\n",
       "      },\n",
       "      'classname':\n",
       "      'CodeAUC',\n",
       "      'external_argnames':\n",
       "      ['patients']\n",
       "    },\n",
       "    {\n",
       "      'config':\n",
       "      {\n",
       "        '_type':\n",
       "        'MetricLevelsConfig',\n",
       "        'admission':\n",
       "        False,\n",
       "        'aggregate':\n",
       "        True,\n",
       "        'subject_aggregate':\n",
       "        False\n",
       "      },\n",
       "      'classname':\n",
       "      'AdmissionAUC',\n",
       "      'external_argnames':\n",
       "      ['patients']\n",
       "    },\n",
       "    {\n",
       "      'config':\n",
       "      {\n",
       "        '_type':\n",
       "        'CodeGroupTopAlarmAccuracyConfig',\n",
       "        'n_partitions':\n",
       "        5,\n",
       "        'top_k_list':\n",
       "        [3, 5, 10, 15, 20]\n",
       "      },\n",
       "      'classname':\n",
       "      'CodeGroupTopAlarmAccuracy',\n",
       "      'external_argnames':\n",
       "      ('train_split', 'patients')\n",
       "    },\n",
       "    {\n",
       "      'config':\n",
       "      {\n",
       "        '_type':\n",
       "        'LossMetricConfig',\n",
       "        'dx_loss':\n",
       "        [\n",
       "          'softmax_bce',\n",
       "          'balanced_focal_softmax_bce',\n",
       "          'balanced_focal_bce',\n",
       "          'allpairs_exp_rank',\n",
       "          'allpairs_hard_rank',\n",
       "          'allpairs_sigmoid_rank'\n",
       "        ],\n",
       "        'lead_loss':\n",
       "        [],\n",
       "        'obs_loss':\n",
       "        []\n",
       "      },\n",
       "      'classname':\n",
       "      'LossMetric',\n",
       "      'external_argnames':\n",
       "      ['patients']\n",
       "    }\n",
       "  ],\n",
       "  reporting=ReportingConfig(\n",
       "    output_dir='icenode',\n",
       "    console=True,\n",
       "    parameter_snapshots=True,\n",
       "    config_json=True,\n",
       "    model_stats=False\n",
       "  ),\n",
       "  n_evals=100,\n",
       "  continue_training=True,\n",
       "  warmup=None,\n",
       "  reg_hyperparams=None\n",
       ")"
      ]
     },
     "execution_count": 14,
     "metadata": {},
     "output_type": "execute_result"
    }
   ],
   "source": [
    "expt_config"
   ]
  },
  {
   "cell_type": "code",
   "execution_count": null,
   "id": "759b4b0e",
   "metadata": {},
   "outputs": [
    {
     "name": "stderr",
     "output_type": "stream",
     "text": [
      "/home/asem/GP/env/icenode-dev/lib/python3.9/site-packages/dask/dataframe/io/csv.py:544: UserWarning: Warning gzip compression does not support breaking apart files\n",
      "Please ensure that each individual file can fit in memory and\n",
      "use the keyword ``blocksize=None to remove this message``\n",
      "Setting ``blocksize=None``\n",
      "  warn(\n",
      "/home/asem/GP/env/icenode-dev/lib/python3.9/site-packages/dask/dataframe/io/csv.py:544: UserWarning: Warning gzip compression does not support breaking apart files\n",
      "Please ensure that each individual file can fit in memory and\n",
      "use the keyword ``blocksize=None to remove this message``\n",
      "Setting ``blocksize=None``\n",
      "  warn(\n",
      "/home/asem/GP/env/icenode-dev/lib/python3.9/site-packages/dask/dataframe/io/csv.py:544: UserWarning: Warning gzip compression does not support breaking apart files\n",
      "Please ensure that each individual file can fit in memory and\n",
      "use the keyword ``blocksize=None to remove this message``\n",
      "Setting ``blocksize=None``\n",
      "  warn(\n"
     ]
    }
   ],
   "source": [
    "ds = experiment.load_dataset(experiment.config.dataset)"
   ]
  },
  {
   "cell_type": "code",
   "execution_count": null,
   "id": "6b1e7b25",
   "metadata": {},
   "outputs": [],
   "source": [
    "type(ds)"
   ]
  },
  {
   "cell_type": "code",
   "execution_count": null,
   "id": "c3752b3f",
   "metadata": {},
   "outputs": [],
   "source": [
    "logging.level = logging.DEBUG"
   ]
  },
  {
   "cell_type": "code",
   "execution_count": null,
   "id": "ddbeed4b",
   "metadata": {},
   "outputs": [],
   "source": [
    "result = experiment.run()"
   ]
  },
  {
   "cell_type": "markdown",
   "id": "6ae45553",
   "metadata": {},
   "source": [
    "###### "
   ]
  }
 ],
 "metadata": {
  "kernelspec": {
   "display_name": "Python 3 (ipykernel)",
   "language": "python",
   "name": "python3"
  },
  "language_info": {
   "codemirror_mode": {
    "name": "ipython",
    "version": 3
   },
   "file_extension": ".py",
   "mimetype": "text/x-python",
   "name": "python",
   "nbconvert_exporter": "python",
   "pygments_lexer": "ipython3",
   "version": "3.9.17"
  }
 },
 "nbformat": 4,
 "nbformat_minor": 5
}
