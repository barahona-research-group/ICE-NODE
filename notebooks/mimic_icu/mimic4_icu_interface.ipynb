{
 "cells": [
  {
   "cell_type": "code",
   "execution_count": 1,
   "id": "ab383786",
   "metadata": {},
   "outputs": [],
   "source": [
    "%load_ext autoreload\n",
    "%autoreload 2\n",
    "import sys\n",
    "import os\n",
    "import glob\n",
    "import random\n",
    "from collections import defaultdict\n",
    "from pathlib import Path\n",
    "\n",
    "from IPython.display import display\n",
    "\n",
    "import pandas as pd\n",
    "\n",
    "from tqdm import tqdm\n",
    "import jax\n",
    "jax.config.update('jax_platform_name', 'gpu')\n",
    "# jax.config.update(\"jax_debug_nans\", True)"
   ]
  },
  {
   "cell_type": "code",
   "execution_count": 2,
   "id": "c83480cb",
   "metadata": {},
   "outputs": [],
   "source": [
    "\n",
    "\n",
    "sys.path.append(\"../..\")\n",
    "\n",
    "from lib import utils as U\n",
    "from lib.ehr.dataset import load_dataset\n",
    "from lib.ehr.inpatient_interface import Patients"
   ]
  },
  {
   "cell_type": "code",
   "execution_count": 3,
   "id": "99451f48",
   "metadata": {},
   "outputs": [],
   "source": [
    "# import logging\n",
    "# logging.root.level = logging.DEBUG"
   ]
  },
  {
   "cell_type": "code",
   "execution_count": 4,
   "id": "fc796475",
   "metadata": {},
   "outputs": [],
   "source": [
    "# from lib.ehr.coding_scheme import MIMIC4Procedures, MIMIC4ProcedureGroups\n",
    "# from lib.ehr.coding_scheme import MIMIC4Input, MIMIC4InputGroups\n",
    "\n",
    "# cproc = MIMIC4Procedures()\n",
    "# cproc_g = MIMIC4ProcedureGroups()\n",
    "# cinp = MIMIC4Input()\n",
    "# cinp_g = MIMIC4InputGroups()"
   ]
  },
  {
   "cell_type": "code",
   "execution_count": 5,
   "id": "0e2c666a",
   "metadata": {},
   "outputs": [],
   "source": [
    "# Assign the folder of the dataset to `DATA_FILE`.\n",
    "import dask\n",
    "\n",
    "HOME = os.environ.get('HOME')\n",
    "DATA_DIR = f'{HOME}/GP/ehr-data'\n",
    "SOURCE_DIR = os.path.abspath(\"..\")\n",
    "\n",
    "with U.modified_environ(DATA_DIR=DATA_DIR), dask.config.set(scheduler='processes'):\n",
    "    m4icu_dataset = load_dataset('M4ICU')\n",
    "   "
   ]
  },
  {
   "cell_type": "code",
   "execution_count": 6,
   "id": "815c6c95",
   "metadata": {},
   "outputs": [],
   "source": [
    "splits = m4icu_dataset.random_splits([0.8, 0.9], random_seed=42, balanced='subjects')"
   ]
  },
  {
   "cell_type": "code",
   "execution_count": 7,
   "id": "05423dc4",
   "metadata": {},
   "outputs": [],
   "source": [
    "preprocessing = m4icu_dataset.fit_preprocessing(splits[0])"
   ]
  },
  {
   "cell_type": "code",
   "execution_count": 8,
   "id": "c89fda53",
   "metadata": {},
   "outputs": [],
   "source": [
    "m4icu_dataset.apply_preprocessing(preprocessing)"
   ]
  },
  {
   "cell_type": "code",
   "execution_count": 9,
   "id": "a357dc92",
   "metadata": {},
   "outputs": [],
   "source": [
    "m4inpatients = Patients(m4icu_dataset)"
   ]
  },
  {
   "cell_type": "code",
   "execution_count": 10,
   "id": "435ce976",
   "metadata": {
    "scrolled": true
   },
   "outputs": [
    {
     "name": "stderr",
     "output_type": "stream",
     "text": [
      "/home/asem/GP/ICENODE/notebooks/mimic_icu/../../lib/ehr/dataset.py:977: PerformanceWarning: Adding/subtracting object-dtype array to DatetimeArray not vectorized.\n",
      "  dob = anchor_date + anchor_age\n",
      "WARNING:root:\n",
      "                            dx_icd10->dx_icd9 Unrecognised t_codes\n",
      "                            (169):\n",
      "                            ['041.41', '041.42', '041.43', '041.49', '173.00', '173.01', '173.02', '173.09', '173.10', '173.11', '173.12', '173.19', '173.20', '173.21', '173.22', '173.29', '173.30', '173.31', '173.32', '173.39']...\n",
      "WARNING:root:\n",
      "                            dx_icd10->dx_icd9 Unrecognised s_codes\n",
      "                            (49910):\n",
      "                            ['E08.3211', 'E08.3212', 'E08.3213', 'E08.3219', 'E08.3291', 'E08.3292', 'E08.3293', 'E08.3299', 'E08.3311', 'E08.3312', 'E08.3313', 'E08.3319', 'E08.3391', 'E08.3392', 'E08.3393', 'E08.3399', 'E08.3411', 'E08.3412', 'E08.3413', 'E08.3419']...\n",
      "WARNING:root:\n",
      "                            dx_icd10->dx_icd9 Unrecognised t_codes\n",
      "                            (169):\n",
      "                            ['041.41', '041.42', '041.43', '041.49', '173.00', '173.01', '173.02', '173.09', '173.10', '173.11', '173.12', '173.19', '173.20', '173.21', '173.22', '173.29', '173.30', '173.31', '173.32', '173.39']...\n",
      "WARNING:root:\n",
      "                            dx_icd10->dx_icd9 Unrecognised s_codes\n",
      "                            (49910):\n",
      "                            ['E08.3211', 'E08.3212', 'E08.3213', 'E08.3219', 'E08.3291', 'E08.3292', 'E08.3293', 'E08.3299', 'E08.3311', 'E08.3312', 'E08.3313', 'E08.3319', 'E08.3391', 'E08.3392', 'E08.3393', 'E08.3399', 'E08.3411', 'E08.3412', 'E08.3413', 'E08.3419']...\n",
      "WARNING:root:Source discrepancy\n",
      "WARNING:root:M: dx_icd10->dx_icd9 \n",
      "\n",
      "                            S - M_domain (24464, p=0.5333449606488042):\n",
      "                            ['A00', 'A01', 'A01.0', 'A02', 'A02.2']...\n",
      "\n",
      "                            M_domain - S (0, p=0.0):\n",
      "                            []...\n",
      "\n",
      "                            M_domain (21405):\n",
      "                            ['A00.0', 'A00.1', 'A00.9', 'A01.00', 'A01.01']...\n",
      "\n",
      "                            S (45869): ['A00', 'A00.0', 'A00.1', 'A00.9', 'A01']...\n"
     ]
    }
   ],
   "source": [
    "# from concurrent.futures import ThreadPoolExecutor\n",
    "# with dask.config.set(pool=ThreadPoolExecutor(12)):\n",
    "with dask.config.set(scheduler='processes', num_workers=12):\n",
    "    m4inpatients = m4inpatients.load_subjects(splits[0][:100], num_workers=12)"
   ]
  },
  {
   "cell_type": "code",
   "execution_count": 11,
   "id": "cebd58c5",
   "metadata": {},
   "outputs": [],
   "source": [
    "# m4inpatients.size_in_bytes() / 1024 ** 3"
   ]
  },
  {
   "cell_type": "code",
   "execution_count": 12,
   "id": "b598eb42",
   "metadata": {},
   "outputs": [],
   "source": [
    "# val_batch = m4inpatients.device_batch(splits[1])"
   ]
  },
  {
   "cell_type": "code",
   "execution_count": 13,
   "id": "428f1548",
   "metadata": {},
   "outputs": [],
   "source": [
    "# tst_batch = m4inpatients.device_batch(splits[2])"
   ]
  },
  {
   "cell_type": "code",
   "execution_count": 14,
   "id": "0108a8a5",
   "metadata": {},
   "outputs": [],
   "source": [
    "# val_batch.size_in_bytes() / 1024 ** 3, tst_batch.size_in_bytes() / 1024 ** 3"
   ]
  },
  {
   "cell_type": "code",
   "execution_count": 15,
   "id": "84e24feb",
   "metadata": {},
   "outputs": [
    {
     "data": {
      "application/vnd.jupyter.widget-view+json": {
       "model_id": "",
       "version_major": 2,
       "version_minor": 0
      },
      "text/plain": [
       "Loading to device:   0%|          | 0/32 [00:00<?, ?subject/s]"
      ]
     },
     "metadata": {},
     "output_type": "display_data"
    }
   ],
   "source": [
    "batch = m4inpatients.device_batch(splits[0][:32])"
   ]
  },
  {
   "cell_type": "code",
   "execution_count": 16,
   "id": "0af85343",
   "metadata": {},
   "outputs": [
    {
     "data": {
      "text/plain": [
       "0.0056365299969911575"
      ]
     },
     "execution_count": 16,
     "metadata": {},
     "output_type": "execute_result"
    }
   ],
   "source": [
    "batch.size_in_bytes() / 1024 ** 3"
   ]
  },
  {
   "cell_type": "code",
   "execution_count": 17,
   "id": "0210e539",
   "metadata": {},
   "outputs": [
    {
     "data": {
      "text/plain": [
       "32"
      ]
     },
     "execution_count": 17,
     "metadata": {},
     "output_type": "execute_result"
    }
   ],
   "source": [
    "len(batch.subjects)"
   ]
  },
  {
   "cell_type": "code",
   "execution_count": 18,
   "id": "de0adf08",
   "metadata": {},
   "outputs": [
    {
     "data": {
      "text/plain": [
       "120"
      ]
     },
     "execution_count": 18,
     "metadata": {},
     "output_type": "execute_result"
    }
   ],
   "source": [
    "batch.n_admissions()"
   ]
  },
  {
   "cell_type": "code",
   "execution_count": 19,
   "id": "0464a3bb",
   "metadata": {},
   "outputs": [
    {
     "data": {
      "text/plain": [
       "7622"
      ]
     },
     "execution_count": 19,
     "metadata": {},
     "output_type": "execute_result"
    }
   ],
   "source": [
    "batch.n_segments()"
   ]
  },
  {
   "cell_type": "code",
   "execution_count": 20,
   "id": "1b3711f3",
   "metadata": {},
   "outputs": [
    {
     "data": {
      "text/plain": [
       "5826"
      ]
     },
     "execution_count": 20,
     "metadata": {},
     "output_type": "execute_result"
    }
   ],
   "source": [
    "batch.n_obs_times()"
   ]
  },
  {
   "cell_type": "code",
   "execution_count": 21,
   "id": "26fa5b6f",
   "metadata": {},
   "outputs": [],
   "source": [
    "# import numpy as np\n",
    "# import matplotlib.pyplot as plt\n",
    "\n",
    "# a = m4inpatients_jax.obs_coocurrence_matrix\n",
    "# a = np.array(a)\n",
    "# plt.imshow(a, cmap='hot', interpolation='nearest')\n",
    "# plt.show()"
   ]
  },
  {
   "cell_type": "code",
   "execution_count": 22,
   "id": "9756e21b",
   "metadata": {},
   "outputs": [
    {
     "data": {
      "text/plain": [
       "InpatientInput(\n",
       "  index=i32[100],\n",
       "  rate=f16[100],\n",
       "  starttime=f32[100],\n",
       "  endtime=f32[100],\n",
       "  size=318\n",
       ")"
      ]
     },
     "execution_count": 22,
     "metadata": {},
     "output_type": "execute_result"
    }
   ],
   "source": [
    "s = batch.subjects[splits[0][6]].admissions[0].interventions.input_\n",
    "s"
   ]
  },
  {
   "cell_type": "code",
   "execution_count": 23,
   "id": "0135d6c5",
   "metadata": {},
   "outputs": [
    {
     "data": {
      "text/plain": [
       "7167.583333333333"
      ]
     },
     "execution_count": 23,
     "metadata": {},
     "output_type": "execute_result"
    }
   ],
   "source": [
    "batch.interval_hours(splits[0][:10])"
   ]
  },
  {
   "cell_type": "markdown",
   "id": "b66a64de",
   "metadata": {},
   "source": [
    "### التدريب على نموذج المعادلات التفاضلية الاعتيادية العصبية\n"
   ]
  },
  {
   "cell_type": "code",
   "execution_count": 24,
   "id": "9442545b",
   "metadata": {},
   "outputs": [],
   "source": [
    "from lib.ml.in_icenode import InICENODE, InICENODEDimensions\n",
    "import jax.random as jrandom"
   ]
  },
  {
   "cell_type": "code",
   "execution_count": null,
   "id": "64a9aa22",
   "metadata": {},
   "outputs": [],
   "source": []
  },
  {
   "cell_type": "code",
   "execution_count": null,
   "id": "c76f7940",
   "metadata": {},
   "outputs": [],
   "source": []
  },
  {
   "cell_type": "code",
   "execution_count": 25,
   "id": "c911e2f3",
   "metadata": {},
   "outputs": [],
   "source": [
    "dims = InICENODEDimensions(state_m=15, \n",
    "                state_dx_e=10,\n",
    "                state_obs_e=25,\n",
    "                input_e=10,\n",
    "                proc_e=10,\n",
    "                demo_e=5,\n",
    "                int_e=15)\n",
    "key = jrandom.PRNGKey(0)\n",
    "\n",
    "m = InICENODE(dims=dims, \n",
    "              scheme=m4icu_dataset.scheme,\n",
    "              key=key)"
   ]
  },
  {
   "cell_type": "code",
   "execution_count": 26,
   "id": "72d4f9c8",
   "metadata": {},
   "outputs": [],
   "source": [
    "# res = m.batch_predict(batch, leave_pbar=True)"
   ]
  },
  {
   "cell_type": "code",
   "execution_count": 27,
   "id": "da36da05",
   "metadata": {},
   "outputs": [],
   "source": [
    "from lib.ml import InTrainer, MetricsHistory\n",
    "from lib.metric import  (CodeAUC, UntilFirstCodeAUC, AdmissionAUC,\n",
    "                      CodeGroupTopAlarmAccuracy, LossMetric, MetricsCollection)\n",
    "\n",
    "from lib.ml import MinibatchLogger, EvaluationDiskWriter, ParamsDiskWriter, ConfigDiskWriter"
   ]
  },
  {
   "cell_type": "code",
   "execution_count": 28,
   "id": "33d14ad1",
   "metadata": {},
   "outputs": [],
   "source": [
    "config = {        \n",
    "    \"batch_size\": 32,\n",
    "    \"lr\": 1e-3,\n",
    "    \"epochs\": 150,\n",
    "    \"opt\": \"adam\",\n",
    "    \"reg_hyperparams\": None\n",
    "}\n",
    "trainer = InTrainer(**config)\n",
    "expt_dir = 'inicenode'"
   ]
  },
  {
   "cell_type": "code",
   "execution_count": 29,
   "id": "8570af33",
   "metadata": {},
   "outputs": [],
   "source": [
    "metrics = [\n",
    "    CodeAUC(m4inpatients),\n",
    "    UntilFirstCodeAUC(m4inpatients),\n",
    "    AdmissionAUC(m4inpatients),\n",
    "    LossMetric(m4inpatients)\n",
    "]\n",
    "reporters = [\n",
    "        MinibatchLogger(config),\n",
    "#         EvaluationDiskWriter(output_dir=expt_dir),\n",
    "#         ParamsDiskWriter(output_dir=expt_dir),\n",
    "#         ConfigDiskWriter(output_dir=expt_dir, config=config)\n",
    "    ]\n",
    "metrics = MetricsCollection(metrics)\n",
    "history = MetricsHistory(metrics)"
   ]
  },
  {
   "cell_type": "code",
   "execution_count": null,
   "id": "30fde333",
   "metadata": {},
   "outputs": [
    {
     "data": {
      "application/vnd.jupyter.widget-view+json": {
       "model_id": "",
       "version_major": 2,
       "version_minor": 0
      },
      "text/plain": [
       "Loading to device:   0%|          | 0/14 [00:00<?, ?subject/s]"
      ]
     },
     "metadata": {},
     "output_type": "display_data"
    },
    {
     "data": {
      "application/vnd.jupyter.widget-view+json": {
       "model_id": "51a4064003ae4c7ea67e62f01f502194",
       "version_major": 2,
       "version_minor": 0
      },
      "text/plain": [
       "  0%|          | 0/150 [00:00<?, ?Epoch/s]"
      ]
     },
     "metadata": {},
     "output_type": "display_data"
    },
    {
     "data": {
      "application/vnd.jupyter.widget-view+json": {
       "model_id": "9631853ee26d406d835d1c56d3e8ce9d",
       "version_major": 2,
       "version_minor": 0
      },
      "text/plain": [
       "  0%|          | 0/10 [00:00<?, ?Batch/s]"
      ]
     },
     "metadata": {},
     "output_type": "display_data"
    },
    {
     "data": {
      "application/vnd.jupyter.widget-view+json": {
       "model_id": "",
       "version_major": 2,
       "version_minor": 0
      },
      "text/plain": [
       "Loading to device:   0%|          | 0/10 [00:00<?, ?subject/s]"
      ]
     },
     "metadata": {},
     "output_type": "display_data"
    },
    {
     "data": {
      "application/vnd.jupyter.widget-view+json": {
       "model_id": "",
       "version_major": 2,
       "version_minor": 0
      },
      "text/plain": [
       "Embedding:   0%|          | 0/10 [00:00<?, ?subject/s]"
      ]
     },
     "metadata": {},
     "output_type": "display_data"
    },
    {
     "data": {
      "application/vnd.jupyter.widget-view+json": {
       "model_id": "",
       "version_major": 2,
       "version_minor": 0
      },
      "text/plain": [
       "  0%|          | 0.00/213.48 [00:00<?, ?odeint-days/s]"
      ]
     },
     "metadata": {},
     "output_type": "display_data"
    }
   ],
   "source": [
    "    \n",
    "splits = m4inpatients.random_splits([0.9, 0.95], \n",
    "                                    balanced='admissions')\n",
    "res = trainer(m, m4inpatients, splits=splits, history=history, \n",
    "             reporters=reporters)"
   ]
  },
  {
   "cell_type": "code",
   "execution_count": null,
   "id": "564f03a3",
   "metadata": {},
   "outputs": [],
   "source": [
    "import jax.tree_util as jtu\n",
    "import jax.numpy as jnp\n",
    "import equinox as eqx\n",
    "\n",
    "jtu.tree_map(lambda x: f'{x.shape} {jnp.any(jnp.isnan(x)).item()}' if eqx.is_array(x) else None , res['model'])"
   ]
  },
  {
   "cell_type": "code",
   "execution_count": null,
   "id": "7972d2a5",
   "metadata": {},
   "outputs": [],
   "source": []
  }
 ],
 "metadata": {
  "kernelspec": {
   "display_name": "Python 3 (ipykernel)",
   "language": "python",
   "name": "python3"
  },
  "language_info": {
   "codemirror_mode": {
    "name": "ipython",
    "version": 3
   },
   "file_extension": ".py",
   "mimetype": "text/x-python",
   "name": "python",
   "nbconvert_exporter": "python",
   "pygments_lexer": "ipython3",
   "version": "3.9.17"
  }
 },
 "nbformat": 4,
 "nbformat_minor": 5
}
