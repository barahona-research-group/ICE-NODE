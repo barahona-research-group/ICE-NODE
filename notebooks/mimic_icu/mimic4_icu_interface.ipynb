{
 "cells": [
  {
   "cell_type": "code",
   "execution_count": 1,
   "id": "ab383786",
   "metadata": {},
   "outputs": [],
   "source": [
    "%load_ext autoreload\n",
    "%autoreload 2\n",
    "import sys\n",
    "import os\n",
    "import glob\n",
    "import random\n",
    "from collections import defaultdict\n",
    "from pathlib import Path\n",
    "\n",
    "from IPython.display import display\n",
    "\n",
    "import pandas as pd\n",
    "\n",
    "from tqdm import tqdm\n",
    "import jax\n",
    "jax.config.update('jax_platform_name', 'gpu')\n",
    "# jax.config.update(\"jax_debug_nans\", True)"
   ]
  },
  {
   "cell_type": "code",
   "execution_count": 2,
   "id": "c83480cb",
   "metadata": {},
   "outputs": [],
   "source": [
    "\n",
    "\n",
    "sys.path.append(\"../..\")\n",
    "\n",
    "from lib import utils as U\n",
    "from lib.ehr.dataset import load_dataset\n",
    "from lib.ehr.inpatient_interface import Patients"
   ]
  },
  {
   "cell_type": "code",
   "execution_count": 3,
   "id": "99451f48",
   "metadata": {},
   "outputs": [],
   "source": [
    "# import logging\n",
    "# logging.root.level = logging.DEBUG"
   ]
  },
  {
   "cell_type": "code",
   "execution_count": 4,
   "id": "fc796475",
   "metadata": {},
   "outputs": [],
   "source": [
    "# from lib.ehr.coding_scheme import MIMIC4Procedures, MIMIC4ProcedureGroups\n",
    "# from lib.ehr.coding_scheme import MIMIC4Input, MIMIC4InputGroups\n",
    "\n",
    "# cproc = MIMIC4Procedures()\n",
    "# cproc_g = MIMIC4ProcedureGroups()\n",
    "# cinp = MIMIC4Input()\n",
    "# cinp_g = MIMIC4InputGroups()"
   ]
  },
  {
   "cell_type": "code",
   "execution_count": 5,
   "id": "0e2c666a",
   "metadata": {},
   "outputs": [],
   "source": [
    "# Assign the folder of the dataset to `DATA_FILE`.\n",
    "import dask\n",
    "\n",
    "HOME = os.environ.get('HOME')\n",
    "DATA_DIR = f'{HOME}/GP/ehr-data'\n",
    "SOURCE_DIR = os.path.abspath(\"..\")\n",
    "\n",
    "with U.modified_environ(DATA_DIR=DATA_DIR), dask.config.set(scheduler='processes'):\n",
    "    m4icu_dataset = load_dataset('M4ICU')\n",
    "   "
   ]
  },
  {
   "cell_type": "code",
   "execution_count": 6,
   "id": "815c6c95",
   "metadata": {},
   "outputs": [],
   "source": [
    "splits = m4icu_dataset.random_splits([0.8, 0.9], random_seed=42, balanced='subjects')"
   ]
  },
  {
   "cell_type": "code",
   "execution_count": 7,
   "id": "05423dc4",
   "metadata": {},
   "outputs": [],
   "source": [
    "preprocessing = m4icu_dataset.fit_preprocessing(splits[0])"
   ]
  },
  {
   "cell_type": "code",
   "execution_count": 8,
   "id": "c89fda53",
   "metadata": {},
   "outputs": [],
   "source": [
    "m4icu_dataset.apply_preprocessing(preprocessing)"
   ]
  },
  {
   "cell_type": "code",
   "execution_count": 9,
   "id": "a357dc92",
   "metadata": {},
   "outputs": [],
   "source": [
    "m4inpatients = Patients(m4icu_dataset)"
   ]
  },
  {
   "cell_type": "code",
   "execution_count": 10,
   "id": "435ce976",
   "metadata": {
    "scrolled": true
   },
   "outputs": [
    {
     "name": "stderr",
     "output_type": "stream",
     "text": [
      "/home/asem/GP/ICENODE/notebooks/mimic_icu/../../lib/ehr/dataset.py:977: PerformanceWarning: Adding/subtracting object-dtype array to DatetimeArray not vectorized.\n",
      "  dob = anchor_date + anchor_age\n",
      "WARNING:root:\n",
      "                            dx_icd10->dx_icd9 Unrecognised t_codes\n",
      "                            (169):\n",
      "                            ['041.41', '041.42', '041.43', '041.49', '173.00', '173.01', '173.02', '173.09', '173.10', '173.11', '173.12', '173.19', '173.20', '173.21', '173.22', '173.29', '173.30', '173.31', '173.32', '173.39']...\n",
      "WARNING:root:\n",
      "                            dx_icd10->dx_icd9 Unrecognised s_codes\n",
      "                            (49910):\n",
      "                            ['E08.3211', 'E08.3212', 'E08.3213', 'E08.3219', 'E08.3291', 'E08.3292', 'E08.3293', 'E08.3299', 'E08.3311', 'E08.3312', 'E08.3313', 'E08.3319', 'E08.3391', 'E08.3392', 'E08.3393', 'E08.3399', 'E08.3411', 'E08.3412', 'E08.3413', 'E08.3419']...\n",
      "WARNING:root:\n",
      "                            dx_icd10->dx_icd9 Unrecognised t_codes\n",
      "                            (169):\n",
      "                            ['041.41', '041.42', '041.43', '041.49', '173.00', '173.01', '173.02', '173.09', '173.10', '173.11', '173.12', '173.19', '173.20', '173.21', '173.22', '173.29', '173.30', '173.31', '173.32', '173.39']...\n",
      "WARNING:root:\n",
      "                            dx_icd10->dx_icd9 Unrecognised s_codes\n",
      "                            (49910):\n",
      "                            ['E08.3211', 'E08.3212', 'E08.3213', 'E08.3219', 'E08.3291', 'E08.3292', 'E08.3293', 'E08.3299', 'E08.3311', 'E08.3312', 'E08.3313', 'E08.3319', 'E08.3391', 'E08.3392', 'E08.3393', 'E08.3399', 'E08.3411', 'E08.3412', 'E08.3413', 'E08.3419']...\n",
      "WARNING:root:Source discrepancy\n",
      "WARNING:root:M: dx_icd10->dx_icd9 \n",
      "\n",
      "                            S - M_domain (24464, p=0.5333449606488042):\n",
      "                            ['A00', 'A01', 'A01.0', 'A02', 'A02.2']...\n",
      "\n",
      "                            M_domain - S (0, p=0.0):\n",
      "                            []...\n",
      "\n",
      "                            M_domain (21405):\n",
      "                            ['A00.0', 'A00.1', 'A00.9', 'A01.00', 'A01.01']...\n",
      "\n",
      "                            S (45869): ['A00', 'A00.0', 'A00.1', 'A00.9', 'A01']...\n"
     ]
    }
   ],
   "source": [
    "# from concurrent.futures import ThreadPoolExecutor\n",
    "# with dask.config.set(pool=ThreadPoolExecutor(12)):\n",
    "with dask.config.set(scheduler='processes', num_workers=12):\n",
    "    m4inpatients = m4inpatients.load_subjects(splits[0][:100], num_workers=12)"
   ]
  },
  {
   "cell_type": "code",
   "execution_count": 11,
   "id": "cebd58c5",
   "metadata": {},
   "outputs": [],
   "source": [
    "# m4inpatients.size_in_bytes() / 1024 ** 3"
   ]
  },
  {
   "cell_type": "code",
   "execution_count": 12,
   "id": "b598eb42",
   "metadata": {},
   "outputs": [],
   "source": [
    "# val_batch = m4inpatients.device_batch(splits[1])"
   ]
  },
  {
   "cell_type": "code",
   "execution_count": 13,
   "id": "428f1548",
   "metadata": {},
   "outputs": [],
   "source": [
    "# tst_batch = m4inpatients.device_batch(splits[2])"
   ]
  },
  {
   "cell_type": "code",
   "execution_count": 14,
   "id": "0108a8a5",
   "metadata": {},
   "outputs": [],
   "source": [
    "# val_batch.size_in_bytes() / 1024 ** 3, tst_batch.size_in_bytes() / 1024 ** 3"
   ]
  },
  {
   "cell_type": "code",
   "execution_count": 15,
   "id": "84e24feb",
   "metadata": {},
   "outputs": [
    {
     "data": {
      "application/vnd.jupyter.widget-view+json": {
       "model_id": "",
       "version_major": 2,
       "version_minor": 0
      },
      "text/plain": [
       "Loading to device:   0%|          | 0/32 [00:00<?, ?subject/s]"
      ]
     },
     "metadata": {},
     "output_type": "display_data"
    }
   ],
   "source": [
    "batch = m4inpatients.device_batch(splits[0][:32])"
   ]
  },
  {
   "cell_type": "code",
   "execution_count": 16,
   "id": "0af85343",
   "metadata": {},
   "outputs": [
    {
     "data": {
      "text/plain": [
       "0.0056365299969911575"
      ]
     },
     "execution_count": 16,
     "metadata": {},
     "output_type": "execute_result"
    }
   ],
   "source": [
    "batch.size_in_bytes() / 1024 ** 3"
   ]
  },
  {
   "cell_type": "code",
   "execution_count": 17,
   "id": "0210e539",
   "metadata": {},
   "outputs": [
    {
     "data": {
      "text/plain": [
       "32"
      ]
     },
     "execution_count": 17,
     "metadata": {},
     "output_type": "execute_result"
    }
   ],
   "source": [
    "len(batch.subjects)"
   ]
  },
  {
   "cell_type": "code",
   "execution_count": 18,
   "id": "de0adf08",
   "metadata": {},
   "outputs": [
    {
     "data": {
      "text/plain": [
       "120"
      ]
     },
     "execution_count": 18,
     "metadata": {},
     "output_type": "execute_result"
    }
   ],
   "source": [
    "batch.n_admissions()"
   ]
  },
  {
   "cell_type": "code",
   "execution_count": 19,
   "id": "0464a3bb",
   "metadata": {},
   "outputs": [
    {
     "data": {
      "text/plain": [
       "7622"
      ]
     },
     "execution_count": 19,
     "metadata": {},
     "output_type": "execute_result"
    }
   ],
   "source": [
    "batch.n_segments()"
   ]
  },
  {
   "cell_type": "code",
   "execution_count": 20,
   "id": "1b3711f3",
   "metadata": {},
   "outputs": [
    {
     "data": {
      "text/plain": [
       "5826"
      ]
     },
     "execution_count": 20,
     "metadata": {},
     "output_type": "execute_result"
    }
   ],
   "source": [
    "batch.n_obs_times()"
   ]
  },
  {
   "cell_type": "code",
   "execution_count": 21,
   "id": "26fa5b6f",
   "metadata": {},
   "outputs": [],
   "source": [
    "# import numpy as np\n",
    "# import matplotlib.pyplot as plt\n",
    "\n",
    "# a = m4inpatients_jax.obs_coocurrence_matrix\n",
    "# a = np.array(a)\n",
    "# plt.imshow(a, cmap='hot', interpolation='nearest')\n",
    "# plt.show()"
   ]
  },
  {
   "cell_type": "code",
   "execution_count": 22,
   "id": "9756e21b",
   "metadata": {},
   "outputs": [
    {
     "data": {
      "text/plain": [
       "InpatientInput(\n",
       "  index=i32[100],\n",
       "  rate=f16[100],\n",
       "  starttime=f32[100],\n",
       "  endtime=f32[100],\n",
       "  size=318\n",
       ")"
      ]
     },
     "execution_count": 22,
     "metadata": {},
     "output_type": "execute_result"
    }
   ],
   "source": [
    "s = batch.subjects[splits[0][6]].admissions[0].interventions.input_\n",
    "s"
   ]
  },
  {
   "cell_type": "code",
   "execution_count": 23,
   "id": "0135d6c5",
   "metadata": {},
   "outputs": [
    {
     "data": {
      "text/plain": [
       "7167.583333333333"
      ]
     },
     "execution_count": 23,
     "metadata": {},
     "output_type": "execute_result"
    }
   ],
   "source": [
    "batch.interval_hours(splits[0][:10])"
   ]
  },
  {
   "cell_type": "markdown",
   "id": "b66a64de",
   "metadata": {},
   "source": [
    "### التدريب على نموذج المعادلات التفاضلية الاعتيادية العصبية\n"
   ]
  },
  {
   "cell_type": "code",
   "execution_count": 24,
   "id": "9442545b",
   "metadata": {},
   "outputs": [],
   "source": [
    "from lib.ml.in_icenode import InICENODE, InICENODEDimensions\n",
    "import jax.random as jrandom"
   ]
  },
  {
   "cell_type": "code",
   "execution_count": null,
   "id": "4a67ad64",
   "metadata": {},
   "outputs": [],
   "source": []
  },
  {
   "cell_type": "code",
   "execution_count": null,
   "id": "ec043fd4",
   "metadata": {},
   "outputs": [],
   "source": []
  },
  {
   "cell_type": "code",
   "execution_count": 25,
   "id": "c911e2f3",
   "metadata": {},
   "outputs": [],
   "source": [
    "dims = InICENODEDimensions(state_m=15, \n",
    "                state_dx_e=10,\n",
    "                state_obs_e=25,\n",
    "                input_e=10,\n",
    "                proc_e=10,\n",
    "                demo_e=5,\n",
    "                int_e=15)\n",
    "key = jrandom.PRNGKey(0)\n",
    "\n",
    "m = InICENODE(dims=dims, \n",
    "              scheme=m4icu_dataset.scheme,\n",
    "              key=key)"
   ]
  },
  {
   "cell_type": "code",
   "execution_count": 26,
   "id": "72d4f9c8",
   "metadata": {},
   "outputs": [],
   "source": [
    "# res = m.batch_predict(batch, leave_pbar=True)"
   ]
  },
  {
   "cell_type": "code",
   "execution_count": 27,
   "id": "5413743a",
   "metadata": {},
   "outputs": [],
   "source": [
    "from lib.ml import InTrainer, MetricsHistory\n",
    "from lib.metric import  (CodeAUC, UntilFirstCodeAUC, AdmissionAUC,\n",
    "                      CodeGroupTopAlarmAccuracy, LossMetric, MetricsCollection)\n",
    "\n",
    "from lib.ml import MinibatchLogger, EvaluationDiskWriter, ParamsDiskWriter, ConfigDiskWriter"
   ]
  },
  {
   "cell_type": "code",
   "execution_count": 28,
   "id": "3658579e",
   "metadata": {},
   "outputs": [],
   "source": [
    "config = {        \n",
    "    \"batch_size\": 32,\n",
    "    \"lr\": 1e-3,\n",
    "    \"epochs\": 150,\n",
    "    \"opt\": \"adam\",\n",
    "    \"reg_hyperparams\": None\n",
    "}\n",
    "trainer = InTrainer(**config)\n",
    "expt_dir = 'inicenode'"
   ]
  },
  {
   "cell_type": "code",
   "execution_count": 29,
   "id": "a9411da9",
   "metadata": {},
   "outputs": [],
   "source": [
    "metrics = [\n",
    "    CodeAUC(m4inpatients),\n",
    "    UntilFirstCodeAUC(m4inpatients),\n",
    "    AdmissionAUC(m4inpatients),\n",
    "    LossMetric(m4inpatients)\n",
    "]\n",
    "reporters = [\n",
    "        MinibatchLogger(config),\n",
    "#         EvaluationDiskWriter(output_dir=expt_dir),\n",
    "#         ParamsDiskWriter(output_dir=expt_dir),\n",
    "#         ConfigDiskWriter(output_dir=expt_dir, config=config)\n",
    "    ]\n",
    "metrics = MetricsCollection(metrics)\n",
    "history = MetricsHistory(metrics)"
   ]
  },
  {
   "cell_type": "code",
   "execution_count": 30,
   "id": "d5090a9c",
   "metadata": {},
   "outputs": [
    {
     "data": {
      "application/vnd.jupyter.widget-view+json": {
       "model_id": "",
       "version_major": 2,
       "version_minor": 0
      },
      "text/plain": [
       "Loading to device:   0%|          | 0/14 [00:00<?, ?subject/s]"
      ]
     },
     "metadata": {},
     "output_type": "display_data"
    },
    {
     "data": {
      "application/vnd.jupyter.widget-view+json": {
       "model_id": "51a4064003ae4c7ea67e62f01f502194",
       "version_major": 2,
       "version_minor": 0
      },
      "text/plain": [
       "  0%|          | 0/150 [00:00<?, ?Epoch/s]"
      ]
     },
     "metadata": {},
     "output_type": "display_data"
    },
    {
     "data": {
      "application/vnd.jupyter.widget-view+json": {
       "model_id": "9631853ee26d406d835d1c56d3e8ce9d",
       "version_major": 2,
       "version_minor": 0
      },
      "text/plain": [
       "  0%|          | 0/10 [00:00<?, ?Batch/s]"
      ]
     },
     "metadata": {},
     "output_type": "display_data"
    },
    {
     "data": {
      "application/vnd.jupyter.widget-view+json": {
       "model_id": "",
       "version_major": 2,
       "version_minor": 0
      },
      "text/plain": [
       "Loading to device:   0%|          | 0/10 [00:00<?, ?subject/s]"
      ]
     },
     "metadata": {},
     "output_type": "display_data"
    },
    {
     "data": {
      "application/vnd.jupyter.widget-view+json": {
       "model_id": "",
       "version_major": 2,
       "version_minor": 0
      },
      "text/plain": [
       "Embedding:   0%|          | 0/10 [00:00<?, ?subject/s]"
      ]
     },
     "metadata": {},
     "output_type": "display_data"
    },
    {
     "data": {
      "application/vnd.jupyter.widget-view+json": {
       "model_id": "",
       "version_major": 2,
       "version_minor": 0
      },
      "text/plain": [
       "  0%|          | 0.00/213.48 [00:00<?, ?odeint-days/s]"
      ]
     },
     "metadata": {},
     "output_type": "display_data"
    },
    {
     "name": "stderr",
     "output_type": "stream",
     "text": [
      "WARNING:absl:NaN detected\n"
     ]
    }
   ],
   "source": [
    "    \n",
    "splits = m4inpatients.random_splits([0.9, 0.95], \n",
    "                                    balanced='admissions')\n",
    "res = trainer(m, m4inpatients, splits=splits, history=history, \n",
    "             reporters=reporters)"
   ]
  },
  {
   "cell_type": "code",
   "execution_count": 31,
   "id": "e7985d4d",
   "metadata": {},
   "outputs": [
    {
     "data": {
      "text/plain": [
       "InICENODE(\n",
       "  f_emb=InpatientEmbedding(\n",
       "    f_dx_emb=MLP(\n",
       "      layers=(\n",
       "        Linear(\n",
       "          weight='(50, 17375) True',\n",
       "          bias='(50,) True',\n",
       "          in_features=17375,\n",
       "          out_features=50,\n",
       "          use_bias=True\n",
       "        ),\n",
       "        Linear(\n",
       "          weight='(10, 50) True',\n",
       "          bias='(10,) True',\n",
       "          in_features=50,\n",
       "          out_features=10,\n",
       "          use_bias=True\n",
       "        )\n",
       "      ),\n",
       "      activation=None,\n",
       "      final_activation=None,\n",
       "      use_bias=True,\n",
       "      use_final_bias=True,\n",
       "      in_size=17375,\n",
       "      out_size=10,\n",
       "      width_size=50,\n",
       "      depth=1\n",
       "    ),\n",
       "    f_dem_emb=MLP(\n",
       "      layers=(\n",
       "        Linear(\n",
       "          weight='(25, 7) True',\n",
       "          bias='(25,) True',\n",
       "          in_features=7,\n",
       "          out_features=25,\n",
       "          use_bias=True\n",
       "        ),\n",
       "        Linear(\n",
       "          weight='(5, 25) True',\n",
       "          bias='(5,) True',\n",
       "          in_features=25,\n",
       "          out_features=5,\n",
       "          use_bias=True\n",
       "        )\n",
       "      ),\n",
       "      activation=None,\n",
       "      final_activation=None,\n",
       "      use_bias=True,\n",
       "      use_final_bias=True,\n",
       "      in_size=7,\n",
       "      out_size=5,\n",
       "      width_size=25,\n",
       "      depth=1\n",
       "    ),\n",
       "    f_inp_agg=AggregateRepresentation(\n",
       "      aggregators=[\n",
       "        MaskedOr(mask=bool[134,161]),\n",
       "        MaskedSum(mask=bool[31,38]),\n",
       "        MaskedPerceptron(\n",
       "          mask=bool[32,119],\n",
       "          linear=Linear(\n",
       "            weight='(32, 119) True',\n",
       "            bias=None,\n",
       "            in_features=119,\n",
       "            out_features=32,\n",
       "            use_bias=False\n",
       "          )\n",
       "        )\n",
       "      ],\n",
       "      splits=(161, 199)\n",
       "    ),\n",
       "    f_inp_emb=MLP(\n",
       "      layers=(\n",
       "        Linear(\n",
       "          weight='(50, 197) True',\n",
       "          bias='(50,) True',\n",
       "          in_features=197,\n",
       "          out_features=50,\n",
       "          use_bias=True\n",
       "        ),\n",
       "        Linear(\n",
       "          weight='(10, 50) True',\n",
       "          bias='(10,) True',\n",
       "          in_features=50,\n",
       "          out_features=10,\n",
       "          use_bias=True\n",
       "        )\n",
       "      ),\n",
       "      activation=None,\n",
       "      final_activation=None,\n",
       "      use_bias=True,\n",
       "      use_final_bias=True,\n",
       "      in_size=197,\n",
       "      out_size=10,\n",
       "      width_size=50,\n",
       "      depth=1\n",
       "    ),\n",
       "    f_proc_emb=MLP(\n",
       "      layers=(\n",
       "        Linear(\n",
       "          weight='(50, 51) True',\n",
       "          bias='(50,) True',\n",
       "          in_features=51,\n",
       "          out_features=50,\n",
       "          use_bias=True\n",
       "        ),\n",
       "        Linear(\n",
       "          weight='(10, 50) True',\n",
       "          bias='(10,) True',\n",
       "          in_features=50,\n",
       "          out_features=10,\n",
       "          use_bias=True\n",
       "        )\n",
       "      ),\n",
       "      activation=None,\n",
       "      final_activation=None,\n",
       "      use_bias=True,\n",
       "      use_final_bias=True,\n",
       "      in_size=51,\n",
       "      out_size=10,\n",
       "      width_size=50,\n",
       "      depth=1\n",
       "    ),\n",
       "    f_int_emb=MLP(\n",
       "      layers=(\n",
       "        Linear(\n",
       "          weight='(75, 25) True',\n",
       "          bias='(75,) True',\n",
       "          in_features=25,\n",
       "          out_features=75,\n",
       "          use_bias=True\n",
       "        ),\n",
       "        Linear(\n",
       "          weight='(15, 75) True',\n",
       "          bias='(15,) True',\n",
       "          in_features=75,\n",
       "          out_features=15,\n",
       "          use_bias=True\n",
       "        )\n",
       "      ),\n",
       "      activation=None,\n",
       "      final_activation=None,\n",
       "      use_bias=True,\n",
       "      use_final_bias=True,\n",
       "      in_size=25,\n",
       "      out_size=15,\n",
       "      width_size=75,\n",
       "      depth=1\n",
       "    )\n",
       "  ),\n",
       "  f_obs_dec=MLP(\n",
       "    layers=(\n",
       "      Linear(\n",
       "        weight='(125, 25) True',\n",
       "        bias='(125,) True',\n",
       "        in_features=25,\n",
       "        out_features=125,\n",
       "        use_bias=True\n",
       "      ),\n",
       "      Linear(\n",
       "        weight='(60, 125) True',\n",
       "        bias='(60,) True',\n",
       "        in_features=125,\n",
       "        out_features=60,\n",
       "        use_bias=True\n",
       "      )\n",
       "    ),\n",
       "    activation=None,\n",
       "    final_activation=None,\n",
       "    use_bias=True,\n",
       "    use_final_bias=True,\n",
       "    in_size=25,\n",
       "    out_size=60,\n",
       "    width_size=125,\n",
       "    depth=1\n",
       "  ),\n",
       "  f_dx_dec=MLP(\n",
       "    layers=(\n",
       "      Linear(\n",
       "        weight='(50, 10) True',\n",
       "        bias='(50,) False',\n",
       "        in_features=10,\n",
       "        out_features=50,\n",
       "        use_bias=True\n",
       "      ),\n",
       "      Linear(\n",
       "        weight='(2081, 50) True',\n",
       "        bias='(2081,) True',\n",
       "        in_features=50,\n",
       "        out_features=2081,\n",
       "        use_bias=True\n",
       "      )\n",
       "    ),\n",
       "    activation=None,\n",
       "    final_activation=None,\n",
       "    use_bias=True,\n",
       "    use_final_bias=True,\n",
       "    in_size=10,\n",
       "    out_size=2081,\n",
       "    width_size=50,\n",
       "    depth=1\n",
       "  ),\n",
       "  f_dyn=NeuralODE_JAX(\n",
       "    ode_dyn=MLP(\n",
       "      layers=(\n",
       "        Linear(\n",
       "          weight='(250, 65) True',\n",
       "          bias='(250,) True',\n",
       "          in_features=65,\n",
       "          out_features=250,\n",
       "          use_bias=True\n",
       "        ),\n",
       "        Linear(\n",
       "          weight='(250, 250) True',\n",
       "          bias='(250,) True',\n",
       "          in_features=250,\n",
       "          out_features=250,\n",
       "          use_bias=True\n",
       "        ),\n",
       "        Linear(\n",
       "          weight='(250, 250) True',\n",
       "          bias='(250,) True',\n",
       "          in_features=250,\n",
       "          out_features=250,\n",
       "          use_bias=True\n",
       "        ),\n",
       "        Linear(\n",
       "          weight='(50, 250) True',\n",
       "          bias='(50,) True',\n",
       "          in_features=250,\n",
       "          out_features=50,\n",
       "          use_bias=True\n",
       "        )\n",
       "      ),\n",
       "      activation=None,\n",
       "      final_activation=None,\n",
       "      use_bias=True,\n",
       "      use_final_bias=True,\n",
       "      in_size=65,\n",
       "      out_size=50,\n",
       "      width_size=250,\n",
       "      depth=3\n",
       "    ),\n",
       "    timescale=1.0\n",
       "  ),\n",
       "  f_update=ObsStateUpdate(\n",
       "    f_project_error=MLP(\n",
       "      layers=(\n",
       "        Linear(\n",
       "          weight='(300, 60) True',\n",
       "          bias='(300,) True',\n",
       "          in_features=60,\n",
       "          out_features=300,\n",
       "          use_bias=True\n",
       "        ),\n",
       "        Linear(\n",
       "          weight='(60, 300) True',\n",
       "          bias='(60,) True',\n",
       "          in_features=300,\n",
       "          out_features=60,\n",
       "          use_bias=True\n",
       "        )\n",
       "      ),\n",
       "      activation=None,\n",
       "      final_activation=None,\n",
       "      use_bias=True,\n",
       "      use_final_bias=True,\n",
       "      in_size=60,\n",
       "      out_size=60,\n",
       "      width_size=300,\n",
       "      depth=1\n",
       "    ),\n",
       "    f_update=GRUCell(\n",
       "      weight_ih='(150, 60) True',\n",
       "      weight_hh='(150, 50) True',\n",
       "      bias='(150,) True',\n",
       "      bias_n='(50,) True',\n",
       "      input_size=60,\n",
       "      hidden_size=50,\n",
       "      use_bias=True\n",
       "    )\n",
       "  ),\n",
       "  scheme=MIMIC4ICUDatasetScheme(\n",
       "    dx_source={\n",
       "      '9':\n",
       "      <lib.ehr.coding_scheme.DxICD9 object at 0x7f49cd12a760>,\n",
       "      '10':\n",
       "      <lib.ehr.coding_scheme.DxICD10 object at 0x7f49cd14cb20>\n",
       "    },\n",
       "    dx_target=<lib.ehr.coding_scheme.DxICD9 object at 0x7f49cd12a760>,\n",
       "    outcome=<lib.ehr.outcome.OutcomeExtractor object at 0x7f49cd10a1c0>,\n",
       "    int_proc_source=<lib.ehr.coding_scheme.MIMIC4Procedures object at 0x7f49cd0ef130>,\n",
       "    int_proc_target=<lib.ehr.coding_scheme.MIMIC4ProcedureGroups object at 0x7f49cd1535e0>,\n",
       "    int_input_source=<lib.ehr.coding_scheme.MIMIC4Input object at 0x7f49cd13ef10>,\n",
       "    int_input_target=<lib.ehr.coding_scheme.MIMIC4InputGroups object at 0x7f49cca7da00>,\n",
       "    eth_source=<lib.ehr.coding_scheme.MIMIC4Eth32 object at 0x7f49cd1536d0>,\n",
       "    eth_target=<lib.ehr.coding_scheme.MIMIC4Eth5 object at 0x7f49cd0ef070>,\n",
       "    obs=<lib.ehr.coding_scheme.MIMIC4Observables object at 0x7f49cd0ef310>\n",
       "  ),\n",
       "  dims=InICENODEDimensions(\n",
       "    state_m=15,\n",
       "    state_dx_e=10,\n",
       "    state_obs_e=25,\n",
       "    input_e=10,\n",
       "    proc_e=10,\n",
       "    demo_e=5,\n",
       "    int_e=15\n",
       "  )\n",
       ")"
      ]
     },
     "execution_count": 31,
     "metadata": {},
     "output_type": "execute_result"
    }
   ],
   "source": [
    "import jax.tree_util as jtu\n",
    "import jax.numpy as jnp\n",
    "import equinox as eqx\n",
    "\n",
    "jtu.tree_map(lambda x: f'{x.shape} {jnp.any(jnp.isnan(x)).item()}' if eqx.is_array(x) else None , res['model'])"
   ]
  },
  {
   "cell_type": "code",
   "execution_count": null,
   "id": "dc769b9a",
   "metadata": {},
   "outputs": [],
   "source": []
  }
 ],
 "metadata": {
  "kernelspec": {
   "display_name": "Python 3 (ipykernel)",
   "language": "python",
   "name": "python3"
  },
  "language_info": {
   "codemirror_mode": {
    "name": "ipython",
    "version": 3
   },
   "file_extension": ".py",
   "mimetype": "text/x-python",
   "name": "python",
   "nbconvert_exporter": "python",
   "pygments_lexer": "ipython3",
   "version": "3.9.17"
  }
 },
 "nbformat": 4,
 "nbformat_minor": 5
}
