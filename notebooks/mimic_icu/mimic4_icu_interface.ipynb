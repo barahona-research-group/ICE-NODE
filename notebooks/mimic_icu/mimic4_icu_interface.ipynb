{
 "cells": [
  {
   "cell_type": "code",
   "execution_count": 1,
   "id": "ab383786",
   "metadata": {},
   "outputs": [],
   "source": [
    "%load_ext autoreload\n",
    "%autoreload 2\n",
    "import sys\n",
    "import os\n",
    "import glob\n",
    "import random\n",
    "from collections import defaultdict\n",
    "from pathlib import Path\n",
    "\n",
    "from IPython.display import display\n",
    "\n",
    "import pandas as pd\n",
    "\n",
    "from tqdm import tqdm\n",
    "import jax\n",
    "jax.config.update('jax_platform_name', 'gpu')\n",
    "jax.config.update(\"jax_debug_nans\", True)\n",
    "# jax.config.update(\"jax_enable_x64\", True)"
   ]
  },
  {
   "cell_type": "code",
   "execution_count": 2,
   "id": "c83480cb",
   "metadata": {},
   "outputs": [
    {
     "ename": "ModuleNotFoundError",
     "evalue": "No module named 'lib.ehr.inpatient_concepts'",
     "output_type": "error",
     "traceback": [
      "\u001b[0;31m---------------------------------------------------------------------------\u001b[0m",
      "\u001b[0;31mModuleNotFoundError\u001b[0m                       Traceback (most recent call last)",
      "Cell \u001b[0;32mIn[2], line 4\u001b[0m\n\u001b[1;32m      1\u001b[0m sys\u001b[38;5;241m.\u001b[39mpath\u001b[38;5;241m.\u001b[39mappend(\u001b[38;5;124m\"\u001b[39m\u001b[38;5;124m../..\u001b[39m\u001b[38;5;124m\"\u001b[39m)\n\u001b[1;32m      3\u001b[0m \u001b[38;5;28;01mfrom\u001b[39;00m \u001b[38;5;21;01mlib\u001b[39;00m \u001b[38;5;28;01mimport\u001b[39;00m utils \u001b[38;5;28;01mas\u001b[39;00m U\n\u001b[0;32m----> 4\u001b[0m \u001b[38;5;28;01mfrom\u001b[39;00m \u001b[38;5;21;01mlib\u001b[39;00m\u001b[38;5;21;01m.\u001b[39;00m\u001b[38;5;21;01mehr\u001b[39;00m\u001b[38;5;21;01m.\u001b[39;00m\u001b[38;5;21;01mdataset\u001b[39;00m \u001b[38;5;28;01mimport\u001b[39;00m load_dataset\n\u001b[1;32m      5\u001b[0m \u001b[38;5;28;01mfrom\u001b[39;00m \u001b[38;5;21;01mlib\u001b[39;00m\u001b[38;5;21;01m.\u001b[39;00m\u001b[38;5;21;01mehr\u001b[39;00m\u001b[38;5;21;01m.\u001b[39;00m\u001b[38;5;21;01minpatient_interface\u001b[39;00m \u001b[38;5;28;01mimport\u001b[39;00m Patients\n",
      "File \u001b[0;32m~/GP/ICENODE/notebooks/mimic_icu/../../lib/ehr/__init__.py:8\u001b[0m\n\u001b[1;32m      4\u001b[0m \u001b[38;5;28;01mfrom\u001b[39;00m \u001b[38;5;21;01m.\u001b[39;00m\u001b[38;5;21;01moutcome\u001b[39;00m \u001b[38;5;28;01mimport\u001b[39;00m (OutcomeExtractor, outcome_conf_files)\n\u001b[1;32m      5\u001b[0m \u001b[38;5;28;01mfrom\u001b[39;00m \u001b[38;5;21;01m.\u001b[39;00m\u001b[38;5;21;01mconcepts\u001b[39;00m \u001b[38;5;28;01mimport\u001b[39;00m (Admission, Patient, InpatientObservables,\n\u001b[1;32m      6\u001b[0m                        InpatientInterventions, AggregateRepresentation,\n\u001b[1;32m      7\u001b[0m                        StaticInfo, InpatientInput, CodesVector)\n\u001b[0;32m----> 8\u001b[0m \u001b[38;5;28;01mfrom\u001b[39;00m \u001b[38;5;21;01m.\u001b[39;00m\u001b[38;5;21;01minpatient_interface\u001b[39;00m \u001b[38;5;28;01mimport\u001b[39;00m (AdmissionPrediction, Predictions, Patients)\n",
      "File \u001b[0;32m~/GP/ICENODE/notebooks/mimic_icu/../../lib/ehr/inpatient_interface.py:11\u001b[0m\n\u001b[1;32m      9\u001b[0m \u001b[38;5;28;01mfrom\u001b[39;00m \u001b[38;5;21;01m.\u001b[39;00m\u001b[38;5;21;01m.\u001b[39;00m\u001b[38;5;21;01mutils\u001b[39;00m \u001b[38;5;28;01mimport\u001b[39;00m tqdm_constructor\n\u001b[1;32m     10\u001b[0m \u001b[38;5;28;01mfrom\u001b[39;00m \u001b[38;5;21;01m.\u001b[39;00m\u001b[38;5;21;01mdataset\u001b[39;00m \u001b[38;5;28;01mimport\u001b[39;00m MIMIC4ICUDataset\n\u001b[0;32m---> 11\u001b[0m \u001b[38;5;28;01mfrom\u001b[39;00m \u001b[38;5;21;01m.\u001b[39;00m\u001b[38;5;21;01minpatient_concepts\u001b[39;00m \u001b[38;5;28;01mimport\u001b[39;00m (Admission, Patient, InpatientObservables,\n\u001b[1;32m     12\u001b[0m                                  InpatientInterventions, CodesVector)\n\u001b[1;32m     15\u001b[0m \u001b[38;5;28;01mdef\u001b[39;00m \u001b[38;5;21moutcome_first_occurrence\u001b[39m(sorted_admissions: List[Admission]):\n\u001b[1;32m     16\u001b[0m     first_occurrence \u001b[38;5;241m=\u001b[39m np\u001b[38;5;241m.\u001b[39mempty_like(sorted_admissions[\u001b[38;5;241m0\u001b[39m]\u001b[38;5;241m.\u001b[39moutcome\u001b[38;5;241m.\u001b[39mvec,\n\u001b[1;32m     17\u001b[0m                                      dtype\u001b[38;5;241m=\u001b[39m\u001b[38;5;28mint\u001b[39m)\n",
      "\u001b[0;31mModuleNotFoundError\u001b[0m: No module named 'lib.ehr.inpatient_concepts'"
     ]
    }
   ],
   "source": [
    "\n",
    "\n",
    "sys.path.append(\"../..\")\n",
    "\n",
    "from lib import utils as U\n",
    "from lib.ehr.dataset import load_dataset\n",
    "from lib.ehr.inpatient_interface import Patients"
   ]
  },
  {
   "cell_type": "code",
   "execution_count": null,
   "id": "99451f48",
   "metadata": {},
   "outputs": [],
   "source": [
    "import logging\n",
    "logging.root.level = logging.DEBUG"
   ]
  },
  {
   "cell_type": "code",
   "execution_count": null,
   "id": "fc796475",
   "metadata": {},
   "outputs": [],
   "source": [
    "# from lib.ehr.coding_scheme import MIMIC4Procedures, MIMIC4ProcedureGroups\n",
    "# from lib.ehr.coding_scheme import MIMIC4Input, MIMIC4InputGroups\n",
    "\n",
    "# cproc = MIMIC4Procedures()\n",
    "# cproc_g = MIMIC4ProcedureGroups()\n",
    "# cinp = MIMIC4Input()\n",
    "# cinp_g = MIMIC4InputGroups()"
   ]
  },
  {
   "cell_type": "code",
   "execution_count": null,
   "id": "0e2c666a",
   "metadata": {},
   "outputs": [],
   "source": [
    "# Assign the folder of the dataset to `DATA_FILE`.\n",
    "import dask\n",
    "\n",
    "HOME = os.environ.get('HOME')\n",
    "DATA_DIR = f'{HOME}/GP/ehr-data'\n",
    "SOURCE_DIR = os.path.abspath(\"..\")\n",
    "\n",
    "with U.modified_environ(DATA_DIR=DATA_DIR), dask.config.set(scheduler='processes'):\n",
    "    m4icu_dataset = load_dataset('M4ICU')\n",
    "   "
   ]
  },
  {
   "cell_type": "code",
   "execution_count": null,
   "id": "815c6c95",
   "metadata": {},
   "outputs": [],
   "source": [
    "splits = m4icu_dataset.random_splits([0.8, 0.9], random_seed=42, balanced='subjects')"
   ]
  },
  {
   "cell_type": "code",
   "execution_count": null,
   "id": "05423dc4",
   "metadata": {},
   "outputs": [],
   "source": [
    "preprocessing = m4icu_dataset.fit_preprocessing(splits[0])"
   ]
  },
  {
   "cell_type": "code",
   "execution_count": null,
   "id": "c89fda53",
   "metadata": {},
   "outputs": [],
   "source": [
    "m4icu_dataset.apply_preprocessing(preprocessing)"
   ]
  },
  {
   "cell_type": "code",
   "execution_count": null,
   "id": "435ce976",
   "metadata": {
    "scrolled": true
   },
   "outputs": [],
   "source": [
    "with dask.config.set(scheduler='processes', num_workers=12):\n",
    "    m4inpatients = Patients(m4icu_dataset).load_subjects(num_workers=12)"
   ]
  },
  {
   "cell_type": "code",
   "execution_count": null,
   "id": "cebd58c5",
   "metadata": {},
   "outputs": [],
   "source": [
    "# m4inpatients.size_in_bytes() / 1024 ** 3"
   ]
  },
  {
   "cell_type": "code",
   "execution_count": null,
   "id": "b598eb42",
   "metadata": {},
   "outputs": [],
   "source": [
    "# val_batch = m4inpatients.device_batch(splits[1])"
   ]
  },
  {
   "cell_type": "code",
   "execution_count": null,
   "id": "428f1548",
   "metadata": {},
   "outputs": [],
   "source": [
    "# tst_batch = m4inpatients.device_batch(splits[2])"
   ]
  },
  {
   "cell_type": "code",
   "execution_count": null,
   "id": "0108a8a5",
   "metadata": {},
   "outputs": [],
   "source": [
    "# val_batch.size_in_bytes() / 1024 ** 3, tst_batch.size_in_bytes() / 1024 ** 3"
   ]
  },
  {
   "cell_type": "code",
   "execution_count": null,
   "id": "caa5051f",
   "metadata": {},
   "outputs": [],
   "source": []
  },
  {
   "cell_type": "code",
   "execution_count": null,
   "id": "84e24feb",
   "metadata": {},
   "outputs": [],
   "source": [
    "batch = m4inpatients.device_batch(splits[0][:32])"
   ]
  },
  {
   "cell_type": "code",
   "execution_count": null,
   "id": "0af85343",
   "metadata": {},
   "outputs": [],
   "source": [
    "batch.size_in_bytes() / 1024 ** 3"
   ]
  },
  {
   "cell_type": "code",
   "execution_count": null,
   "id": "0210e539",
   "metadata": {},
   "outputs": [],
   "source": [
    "len(batch.subjects)"
   ]
  },
  {
   "cell_type": "code",
   "execution_count": null,
   "id": "de0adf08",
   "metadata": {},
   "outputs": [],
   "source": [
    "batch.n_admissions()"
   ]
  },
  {
   "cell_type": "code",
   "execution_count": null,
   "id": "0464a3bb",
   "metadata": {},
   "outputs": [],
   "source": [
    "batch.n_segments()"
   ]
  },
  {
   "cell_type": "code",
   "execution_count": null,
   "id": "1b3711f3",
   "metadata": {},
   "outputs": [],
   "source": [
    "batch.n_obs_times()"
   ]
  },
  {
   "cell_type": "code",
   "execution_count": null,
   "id": "26fa5b6f",
   "metadata": {},
   "outputs": [],
   "source": [
    "# import numpy as np\n",
    "# import matplotlib.pyplot as plt\n",
    "\n",
    "# a = m4inpatients_jax.obs_coocurrence_matrix\n",
    "# a = np.array(a)\n",
    "# plt.imshow(a, cmap='hot', interpolation='nearest')\n",
    "# plt.show()"
   ]
  },
  {
   "cell_type": "code",
   "execution_count": null,
   "id": "9756e21b",
   "metadata": {},
   "outputs": [],
   "source": [
    "# s = batch.subjects[splits[0][6]].admissions[0].interventions.input_\n",
    "# s"
   ]
  },
  {
   "cell_type": "code",
   "execution_count": null,
   "id": "0135d6c5",
   "metadata": {},
   "outputs": [],
   "source": [
    "# batch.interval_hours(splits[0][:10])"
   ]
  },
  {
   "cell_type": "markdown",
   "id": "b66a64de",
   "metadata": {},
   "source": [
    "### التدريب على نموذج المعادلات التفاضلية الاعتيادية العصبية\n"
   ]
  },
  {
   "cell_type": "code",
   "execution_count": null,
   "id": "9442545b",
   "metadata": {},
   "outputs": [],
   "source": [
    "from lib.ml.in_icenode import InICENODE, InICENODEDimensions\n",
    "import jax.random as jrandom"
   ]
  },
  {
   "cell_type": "code",
   "execution_count": null,
   "id": "4a67ad64",
   "metadata": {},
   "outputs": [],
   "source": []
  },
  {
   "cell_type": "code",
   "execution_count": null,
   "id": "ec043fd4",
   "metadata": {},
   "outputs": [],
   "source": []
  },
  {
   "cell_type": "code",
   "execution_count": null,
   "id": "c911e2f3",
   "metadata": {},
   "outputs": [],
   "source": [
    "dims = InICENODEDimensions(state_m=15, \n",
    "                state_dx_e=10,\n",
    "                state_obs_e=25,\n",
    "                input_e=10,\n",
    "                proc_e=10,\n",
    "                demo_e=5,\n",
    "                int_e=15)\n",
    "key = jrandom.PRNGKey(0)\n",
    "\n",
    "m = InICENODE(dims=dims, \n",
    "              scheme=m4icu_dataset.scheme,\n",
    "              key=key)"
   ]
  },
  {
   "cell_type": "code",
   "execution_count": null,
   "id": "72d4f9c8",
   "metadata": {},
   "outputs": [],
   "source": [
    "# res = m.batch_predict(m4inpatients.device_batch(), leave_pbar=True)"
   ]
  },
  {
   "cell_type": "code",
   "execution_count": null,
   "id": "5413743a",
   "metadata": {},
   "outputs": [],
   "source": [
    "from lib.ml import InTrainer, MetricsHistory\n",
    "from lib.metric import  (CodeAUC, UntilFirstCodeAUC, AdmissionAUC,\n",
    "                      CodeGroupTopAlarmAccuracy, LossMetric, MetricsCollection)\n",
    "\n",
    "from lib.ml import MinibatchLogger, EvaluationDiskWriter, ParamsDiskWriter, ConfigDiskWriter"
   ]
  },
  {
   "cell_type": "code",
   "execution_count": null,
   "id": "3658579e",
   "metadata": {},
   "outputs": [],
   "source": [
    "config = {        \n",
    "    \"batch_size\": 32,\n",
    "    \"lr\": 1e-3,\n",
    "    \"epochs\": 150,\n",
    "    \"opt\": \"adam\",\n",
    "    \"reg_hyperparams\": None\n",
    "}\n",
    "trainer = InTrainer(**config)\n",
    "expt_dir = 'inicenode'"
   ]
  },
  {
   "cell_type": "code",
   "execution_count": null,
   "id": "a9411da9",
   "metadata": {},
   "outputs": [],
   "source": [
    "metrics = [\n",
    "    CodeAUC(m4inpatients),\n",
    "    UntilFirstCodeAUC(m4inpatients),\n",
    "    AdmissionAUC(m4inpatients),\n",
    "    LossMetric(m4inpatients)\n",
    "]\n",
    "reporters = [\n",
    "        MinibatchLogger(config),\n",
    "#         EvaluationDiskWriter(output_dir=expt_dir),\n",
    "#         ParamsDiskWriter(output_dir=expt_dir),\n",
    "#         ConfigDiskWriter(output_dir=expt_dir, config=config)\n",
    "    ]\n",
    "metrics = MetricsCollection(metrics)\n",
    "history = MetricsHistory(metrics)"
   ]
  },
  {
   "cell_type": "code",
   "execution_count": null,
   "id": "d5090a9c",
   "metadata": {},
   "outputs": [],
   "source": [
    "    \n",
    "splits = m4inpatients.random_splits([0.9, 0.95], \n",
    "                                    balanced='admissions')\n",
    "res = trainer(m, m4inpatients, splits=splits, history=history, \n",
    "             reporters=reporters)"
   ]
  },
  {
   "cell_type": "code",
   "execution_count": null,
   "id": "e7985d4d",
   "metadata": {},
   "outputs": [],
   "source": [
    "# import jax.tree_util as jtu\n",
    "# import jax.numpy as jnp\n",
    "# import equinox as eqx\n",
    "\n",
    "# jtu.tree_map(lambda x: f'{x.shape} {jnp.any(jnp.isnan(x)).item()}' if eqx.is_array(x) else None , m)"
   ]
  },
  {
   "cell_type": "code",
   "execution_count": null,
   "id": "dc769b9a",
   "metadata": {},
   "outputs": [],
   "source": [
    "# emb_subj = {i: m.f_emb(s) for i, s in m4inpatients.device_batch().subjects.items()}"
   ]
  },
  {
   "cell_type": "code",
   "execution_count": null,
   "id": "e7251a6d",
   "metadata": {},
   "outputs": [],
   "source": []
  }
 ],
 "metadata": {
  "kernelspec": {
   "display_name": "Python 3 (ipykernel)",
   "language": "python",
   "name": "python3"
  },
  "language_info": {
   "codemirror_mode": {
    "name": "ipython",
    "version": 3
   },
   "file_extension": ".py",
   "mimetype": "text/x-python",
   "name": "python",
   "nbconvert_exporter": "python",
   "pygments_lexer": "ipython3",
   "version": "3.9.17"
  }
 },
 "nbformat": 4,
 "nbformat_minor": 5
}
