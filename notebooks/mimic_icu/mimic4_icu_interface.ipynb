{
 "cells": [
  {
   "cell_type": "code",
   "execution_count": 1,
   "id": "ab383786",
   "metadata": {},
   "outputs": [],
   "source": [
    "%load_ext autoreload\n",
    "%autoreload 2\n",
    "import sys\n",
    "import os\n",
    "import glob\n",
    "import random\n",
    "from collections import defaultdict\n",
    "from pathlib import Path\n",
    "\n",
    "from IPython.display import display\n",
    "\n",
    "import pandas as pd\n",
    "\n",
    "from tqdm import tqdm\n",
    "import jax\n",
    "jax.config.update('jax_platform_name', 'gpu')"
   ]
  },
  {
   "cell_type": "code",
   "execution_count": null,
   "id": "8d78e7b4",
   "metadata": {},
   "outputs": [],
   "source": []
  },
  {
   "cell_type": "code",
   "execution_count": 2,
   "id": "c83480cb",
   "metadata": {},
   "outputs": [],
   "source": [
    "\n",
    "\n",
    "sys.path.append(\"../..\")\n",
    "\n",
    "from lib import utils as U\n",
    "from lib.ehr.dataset import load_dataset\n",
    "from lib.ehr.inpatient_interface import Inpatients"
   ]
  },
  {
   "cell_type": "code",
   "execution_count": 3,
   "id": "99451f48",
   "metadata": {},
   "outputs": [],
   "source": [
    "import logging\n",
    "logging.root.level = logging.DEBUG"
   ]
  },
  {
   "cell_type": "code",
   "execution_count": 4,
   "id": "fc796475",
   "metadata": {},
   "outputs": [],
   "source": [
    "from lib.ehr.coding_scheme import MIMIC4Procedures, MIMIC4ProcedureGroups\n",
    "from lib.ehr.coding_scheme import MIMIC4Input, MIMIC4InputGroups\n",
    "\n",
    "cproc = MIMIC4Procedures()\n",
    "cproc_g = MIMIC4ProcedureGroups()\n",
    "cinp = MIMIC4Input()\n",
    "cinp_g = MIMIC4InputGroups()"
   ]
  },
  {
   "cell_type": "code",
   "execution_count": 5,
   "id": "93f4e7be",
   "metadata": {},
   "outputs": [
    {
     "data": {
      "text/plain": [
       "{'Abciximab': {'Abciximab (Reopro)'},\n",
       " 'Acetaminophen-IV': {'Acetaminophen-IV'},\n",
       " 'Acetylcysteine': {'Acetylcysteine'},\n",
       " 'Adenosine': {'Adenosine'},\n",
       " 'Alteplase (TPA)': {'Alteplase (TPA)'},\n",
       " 'Ambisome': {'Ambisome'},\n",
       " 'Amikacin': {'Amikacin'},\n",
       " 'Amino Acids': {'Amino Acids'},\n",
       " 'Aminocaproic acid (Amicar)': {'Aminocaproic acid (Amicar)'},\n",
       " 'Aminophylline': {'Aminophylline'},\n",
       " 'Amiodarone': {'Amiodarone', 'Amiodarone 450/250', 'Amiodarone 600/500'},\n",
       " 'Ampicillin': {'Ampicillin'},\n",
       " 'Ampicillin/Sulbactam (Unasyn)': {'Ampicillin/Sulbactam (Unasyn)'},\n",
       " 'Angiotensin II (Giapreza)': {'Angiotensin II (Giapreza)'},\n",
       " 'Argatroban': {'Argatroban'},\n",
       " 'Atovaquone': {'Atovaquone'},\n",
       " 'Atropine': {'Atropine'},\n",
       " 'Azithromycin': {'Azithromycin', 'Erythromycin'},\n",
       " 'Aztreonam': {'Aztreonam'},\n",
       " 'Bactrim (SMX/TMP)': {'Bactrim (SMX/TMP)'},\n",
       " 'Beneprotein': {'Beneprotein', 'Beneprotein.'},\n",
       " 'Bivalirudin (Angiomax)': {'Bivalirudin (Angiomax)',\n",
       "  'Bivalirudin (Angiomax) (Impella)'},\n",
       " 'Boost Glucose Control': {'Boost Glucose Control (1/2)',\n",
       "  'Boost Glucose Control (1/4)',\n",
       "  'Boost Glucose Control (3/4)',\n",
       "  'Boost Glucose Control (Full)'},\n",
       " 'Calcium Chloride': {'Calcium Chloride'},\n",
       " 'Calcium Gluconate': {'Calcium Gluconate',\n",
       "  'Calcium Gluconate (Bolus)',\n",
       "  'Calcium Gluconate (CRRT)'},\n",
       " 'Carafate (Sucralfate)': {'Carafate (Sucralfate)'},\n",
       " 'Caspofungin': {'Caspofungin'},\n",
       " 'Cefazolin': {'Cefazolin'},\n",
       " 'Cefepime': {'Cefepime'},\n",
       " 'Ceftaroline': {'Ceftaroline'},\n",
       " 'Ceftazidime': {'Ceftazidime'},\n",
       " 'Ceftriaxone': {'Ceftriaxone'},\n",
       " 'Cisatracurium': {'Cisatracurium'},\n",
       " 'Citrate': {'Citrate'},\n",
       " 'Clevidipine (Cleviprex)': {'Clevidipine (Cleviprex)'},\n",
       " 'Clindamycin': {'Clindamycin'},\n",
       " 'Colistin': {'Colistin'},\n",
       " 'Coumadin (Warfarin)': {'Coumadin (Warfarin)'},\n",
       " 'Cyclosporine': {'Cyclosporine'},\n",
       " 'Daptomycin': {'Daptomycin'},\n",
       " 'Dexmedetomidine (Precedex)': {'Dexmedetomidine (Precedex)'},\n",
       " 'Diazepam (Valium)': {'Diazepam (Valium)'},\n",
       " 'Digoxin (Lanoxin)': {'Digoxin (Lanoxin)'},\n",
       " 'Dilantin': {'Dilantin'},\n",
       " 'Diltiazem': {'Diltiazem'},\n",
       " 'Dobutamine': {'Dobutamine'},\n",
       " 'Drotrecogin (Xigris)': {'Drotrecogin (Xigris)'},\n",
       " 'Enlive (Full)': {'Enlive (Full)'},\n",
       " 'Enoxaparin (Lovenox)': {'Enoxaparin (Lovenox)'},\n",
       " 'Epoprostenol (Veletri)': {'Epoprostenol (Veletri)'},\n",
       " 'Eptifibatide (Integrilin)': {'Eptifibatide (Integrilin)'},\n",
       " 'Ertapenem sodium (Invanz)': {'Ertapenem sodium (Invanz)'},\n",
       " 'Esmolol': {'Esmolol'},\n",
       " 'Esomeprazole (Nexium)': {'Esomeprazole (Nexium)'},\n",
       " 'Ethambutol': {'Ethambutol'},\n",
       " 'Factor VIII': {'Factor VIII', 'Factor VIIa'},\n",
       " 'Famotidine (Pepcid)': {'Famotidine (Pepcid)'},\n",
       " 'Fentanyl': {'Fentanyl', 'Fentanyl (Concentrate)'},\n",
       " 'Fiber Supplement (i.e. Banana Flakes)': {'Fiber Supplement (i.e. Banana Flakes)'},\n",
       " 'Fluconazole': {'Fluconazole', 'Voriconazole'},\n",
       " 'Folic Acid': {'Folic Acid'},\n",
       " 'Fondaparinux': {'Fondaparinux'},\n",
       " 'Foscarnet': {'Foscarnet'},\n",
       " 'Fosphenytoin': {'Fosphenytoin'},\n",
       " 'GT Flush': {'GT Flush'},\n",
       " 'Gastric Meds': {'Gastric Meds'},\n",
       " 'Gentamicin': {'Gentamicin'},\n",
       " 'Glycopyrolate (Robinul)': {'Glycopyrolate (Robinul)'},\n",
       " 'Haloperidol (Haldol)': {'Haloperidol (Haldol)'},\n",
       " 'Heparin Sodium': {'Heparin Sodium',\n",
       "  'Heparin Sodium (Impella)',\n",
       "  'Heparin Sodium (Prophylaxis)'},\n",
       " 'Hydralazine': {'Hydralazine'},\n",
       " 'Hydrochloric Acid - HCL': {'Hydrochloric Acid - HCL'},\n",
       " 'Hydromorphone (Dilaudid)': {'Hydromorphone (Dilaudid)'},\n",
       " 'IV Immune Globulin (IVIG)': {'IV Immune Globulin (IVIG)'},\n",
       " 'Imipenem/Cilastatin': {'Imipenem/Cilastatin'},\n",
       " 'Isoniazid': {'Isoniazid'},\n",
       " 'Isuprel': {'Isuprel'},\n",
       " 'Keflex': {'Keflex'},\n",
       " 'Ketorolac (Toradol)': {'Ketorolac (Toradol)'},\n",
       " 'Labetalol': {'Labetalol'},\n",
       " 'Lansoprazole (Prevacid)': {'Lansoprazole (Prevacid)'},\n",
       " 'Lepirudin': {'Lepirudin'},\n",
       " 'Levetiracetam (Keppra)': {'Levetiracetam (Keppra)'},\n",
       " 'Lidocaine': {'Lidocaine'},\n",
       " 'Linezolid': {'Linezolid'},\n",
       " 'Lipids (additive)': {'Lipids (additive)', 'Lipids 10%', 'Lipids 20%'},\n",
       " 'Lorazepam (Ativan)': {'Lorazepam (Ativan)'},\n",
       " 'Magnesium Sulfate': {'Magnesium Sulfate',\n",
       "  'Magnesium Sulfate (Bolus)',\n",
       "  'Magnesium Sulfate (OB-GYN)'},\n",
       " 'Mannitol': {'Mannitol'},\n",
       " 'Meperidine (Demerol)': {'Meperidine (Demerol)'},\n",
       " 'Meropenem': {'Meropenem'},\n",
       " 'Methadone Hydrochloride': {'Methadone Hydrochloride'},\n",
       " 'Metoprolol': {'Metoprolol'},\n",
       " 'Metronidazole': {'Metronidazole'},\n",
       " 'Micafungin': {'Micafungin'},\n",
       " 'Midazolam (Versed)': {'Midazolam (Versed)'},\n",
       " 'Milrinone': {'Milrinone'},\n",
       " 'Morphine Sulfate': {'Morphine Sulfate'},\n",
       " 'Multivitamins': {'Multivitamins'},\n",
       " 'Mycophenolate mofetil (Cellcept)': {'Mycophenolate mofetil (Cellcept)'},\n",
       " 'Nafcillin': {'Nafcillin'},\n",
       " 'Naloxone (Narcan)': {'Naloxone (Narcan)'},\n",
       " 'Neostigmine (Prostigmin)': {'Neostigmine (Prostigmin)'},\n",
       " 'Nesiritide': {'Nesiritide'},\n",
       " 'Nicardipine': {'Nicardipine', 'Nicardipine 40mg/200'},\n",
       " 'Nitroglycerin': {'Nitroglycerin'},\n",
       " 'Nitroprusside': {'Nitroprusside'},\n",
       " 'Octreotide': {'Octreotide'},\n",
       " 'Omeprazole (Prilosec)': {'Omeprazole (Prilosec)'},\n",
       " 'Ondansetron (Zofran)': {'Ondansetron (Zofran)'},\n",
       " 'Optisource': {'Optisource'},\n",
       " 'Pamidronate': {'Pamidronate'},\n",
       " 'Pantoprazole (Protonix)': {'Pantoprazole (Protonix)'},\n",
       " 'Penicillin G potassium': {'Penicillin G potassium'},\n",
       " 'Pentobarbital': {'Pentobarbital'},\n",
       " 'Piperacillin': {'Piperacillin', 'Piperacillin/Tazobactam (Zosyn)'},\n",
       " 'Procainamide': {'Procainamide'},\n",
       " 'Profilnine': {'Profilnine'},\n",
       " 'Propofol': {'Propofol'},\n",
       " 'Protamine sulfate': {'Protamine sulfate'},\n",
       " 'Pyrazinamide': {'Pyrazinamide'},\n",
       " 'Quinine': {'Quinine'},\n",
       " 'Ranitidine': {'Ranitidine', 'Ranitidine (Prophylaxis)'},\n",
       " 'Rifampin': {'Rifampin'},\n",
       " 'Rocuronium': {'Rocuronium', 'Vecuronium'},\n",
       " 'Tamiflu': {'Tamiflu'},\n",
       " 'Tirofiban (Aggrastat)': {'Tirofiban (Aggrastat)'},\n",
       " 'Tobramycin': {'Tobramycin'},\n",
       " 'Treprostinil (Remodulin)': {'Treprostinil (Remodulin)'},\n",
       " 'Vancomycin': {'Vancomycin'},\n",
       " 'Verapamil': {'Verapamil'},\n",
       " 'Vitamin K (Phytonadione)': {'Vitamin K (Phytonadione)'},\n",
       " 'XXXcyclovir': {'Acyclovir', 'Gancyclovir', 'Valgancyclovir'},\n",
       " 'XXXfloxacin': {'Ciprofloxacin', 'Levofloxacin', 'Moxifloxacin'},\n",
       " 'ACD-A Citrate': {'ACD-A Citrate (1000ml)', 'ACD-A Citrate (500ml)'},\n",
       " 'Bumetanide (Bumex)': {'Bumetanide (Bumex)'},\n",
       " 'Cryoprecipitate': {'Cryoprecipitate'},\n",
       " 'Dextran': {'Dextran 40'},\n",
       " 'Epinephrine': {'Epinephrine', 'Epinephrine.'},\n",
       " 'Free Water': {'Free Water'},\n",
       " 'Fresh Frozen Plasma': {'Fresh Frozen Plasma'},\n",
       " 'Hetastarch (Hespan)': {'Hetastarch (Hespan) 6%'},\n",
       " 'LR': {'LR'},\n",
       " 'Norepinephrine': {'Norepinephrine'},\n",
       " 'OR Autologous Blood Intake': {'OR Autologous Blood Intake'},\n",
       " 'OR Cell Saver Intake': {'OR Cell Saver Intake'},\n",
       " 'OR Cryoprecipitate Intake': {'OR Cryoprecipitate Intake'},\n",
       " 'Osmolite 1.5 (Full)': {'Osmolite 1.5 (Full)'},\n",
       " 'Packed Red Blood Cells': {'Packed Red Blood Cells'},\n",
       " 'Peripheral Parenteral Nutrition': {'Peripheral Parenteral Nutrition'},\n",
       " 'Plasma Pheresis': {'Plasma Pheresis'},\n",
       " 'Platelets': {'Platelets'},\n",
       " 'Potassium Chloride': {'Potassium Chloride'},\n",
       " 'ProBalance (Full)': {'ProBalance (Full)'},\n",
       " 'Resource Fruit Beverage': {'Resource Fruit Beverage'},\n",
       " 'Shake': {'Chocolate Scandi Shake (mixed)',\n",
       "  'Mighty Shake (Chocolate)',\n",
       "  'Mighty Shake (Vanilla/Strawberry)',\n",
       "  'Mighty Shake (no sugar added)',\n",
       "  'Vanilla Lactose Free Scandi Shake (mixed)'},\n",
       " 'Sodium Acetate': {'Sodium Acetate.'},\n",
       " 'Sodium Bicarbonate': {'Sodium Bicarbonate 8.4%',\n",
       "  'Sodium Bicarbonate 8.4% (Amp)'},\n",
       " 'Solution': {'Solution'},\n",
       " 'Sterile Water': {'Sterile Water'},\n",
       " 'TPN w/ Lipids': {'TPN w/ Lipids'},\n",
       " 'TPN without Lipids': {'TPN without Lipids'},\n",
       " 'Vasopressin': {'Vasopressin'},\n",
       " 'Vital 1.5 (Full)': {'Vital 1.5 (Full)'},\n",
       " 'Vital High Protein (Full)': {'Vital High Protein (Full)'},\n",
       " 'Albumin 25%': {'Albumin 25%', 'Albumin 5%'},\n",
       " 'D5': {'D5 1/2NS', 'D5 1/4NS', 'D5LR', 'D5NS'},\n",
       " 'Dextrose': {'Dextrose 10%',\n",
       "  'Dextrose 20%',\n",
       "  'Dextrose 30%',\n",
       "  'Dextrose 40%',\n",
       "  'Dextrose 5%',\n",
       "  'Dextrose 50%',\n",
       "  'Dextrose PN'},\n",
       " 'Dopamine': {'Dopamine', 'Ketamine', 'Thiamine'},\n",
       " 'Doxycycline': {'Doxycycline', 'Tigecycline'},\n",
       " 'Ensure': {'Ensure (3/4)', 'Ensure (Full)', 'Ensure Plus (Full)'},\n",
       " 'Fibersource HN (1/2)': {'Fibersource HN (1/2)',\n",
       "  'Fibersource HN (1/4)',\n",
       "  'Fibersource HN (3/4)',\n",
       "  'Fibersource HN (Full)'},\n",
       " 'Furosemide (Lasix)': {'Furosemide (Lasix)', 'Furosemide (Lasix) 250/50'},\n",
       " 'Glucerna': {'Glucerna (1/2)',\n",
       "  'Glucerna (Full)',\n",
       "  'Glucerna 1.2 (Full)',\n",
       "  'Glucerna 1.5 (Full)'},\n",
       " 'Impact': {'Impact (1/2)',\n",
       "  'Impact (1/4)',\n",
       "  'Impact (3/4)',\n",
       "  'Impact (Full)',\n",
       "  'Impact with Fiber (1/2)',\n",
       "  'Impact with Fiber (1/4)',\n",
       "  'Impact with Fiber (3/4)',\n",
       "  'Impact with Fiber (Full)'},\n",
       " 'Insulin': {'Insulin - 70/30',\n",
       "  'Insulin - Glargine',\n",
       "  'Insulin - Humalog',\n",
       "  'Insulin - Humalog 75/25',\n",
       "  'Insulin - NPH',\n",
       "  'Insulin - Novolog',\n",
       "  'Insulin - Regular',\n",
       "  'Insulin - U500'},\n",
       " 'Isosource': {'Isosource 1.5 (1/2)',\n",
       "  'Isosource 1.5 (1/4)',\n",
       "  'Isosource 1.5 (2/3)',\n",
       "  'Isosource 1.5 (3/4)',\n",
       "  'Isosource 1.5 (Full)'},\n",
       " 'Jevity': {'Jevity 1.2 (Full)', 'Jevity 1.5 (Full)'},\n",
       " 'K Phos': {'K Phos', 'Na Phos'},\n",
       " 'KCL (Bolus)': {'KCL (Bolus)', 'KCl (CRRT)'},\n",
       " 'NaCl': {'NaCl 0.45%',\n",
       "  'NaCl 0.9%',\n",
       "  'NaCl 23.4%',\n",
       "  'NaCl 3% (Hypertonic Saline)'},\n",
       " 'Nepro (1/2)': {'Nepro (1/2)', 'Nepro (Full)'},\n",
       " 'NovaSource Renal': {'NovaSource Renal (1/2)',\n",
       "  'NovaSource Renal (3/4)',\n",
       "  'NovaSource Renal (Full)'},\n",
       " 'Nutren': {'Nutren 2.0 (1/2)',\n",
       "  'Nutren 2.0 (1/4)',\n",
       "  'Nutren 2.0 (2/3)',\n",
       "  'Nutren 2.0 (3/4)',\n",
       "  'Nutren 2.0 (Full)',\n",
       "  'Nutren Pulmonary (1/2)',\n",
       "  'Nutren Pulmonary (3/4)',\n",
       "  'Nutren Pulmonary (Full)',\n",
       "  'Nutren Renal (1/2)',\n",
       "  'Nutren Renal (1/4)',\n",
       "  'Nutren Renal (3/4)',\n",
       "  'Nutren Renal (Full)'},\n",
       " 'OR Colloid Intake': {'OR Colloid Intake', 'PACU Colloid Intake'},\n",
       " 'OR Crystalloid Intake': {'OR Crystalloid Intake', 'PACU Crystalloid Intake'},\n",
       " 'OR FFP Intake': {'OR FFP Intake', 'PACU FFP Intake'},\n",
       " 'OR Packed RBC Intake': {'OR Packed RBC Intake', 'PACU Packed RBC Intake'},\n",
       " 'OR Platelet Intake': {'OR Platelet Intake', 'PACU Platelet Intake'},\n",
       " 'PACU PO Intake': {'PACU PO Intake', 'PO Intake'},\n",
       " 'Peptamen': {'Peptamen 1.5 (1/2)',\n",
       "  'Peptamen 1.5 (1/4)',\n",
       "  'Peptamen 1.5 (3/4)',\n",
       "  'Peptamen 1.5 (Full)',\n",
       "  'Peptamen Bariatric (Full)'},\n",
       " 'Phenylephrine': {'Phenylephrine',\n",
       "  'Phenylephrine (200/250)',\n",
       "  'Phenylephrine (50/250)'},\n",
       " 'Promote': {'Promote (Full)', 'Promote with Fiber (Full)'},\n",
       " 'Pulmocare': {'Pulmocare (1/2)', 'Pulmocare (1/4)', 'Pulmocare (Full)'},\n",
       " 'Replete': {'Replete (1/2)',\n",
       "  'Replete (1/4)',\n",
       "  'Replete (2/3)',\n",
       "  'Replete (3/4)',\n",
       "  'Replete (Full)',\n",
       "  'Replete with Fiber (1/2)',\n",
       "  'Replete with Fiber (1/4)',\n",
       "  'Replete with Fiber (2/3)',\n",
       "  'Replete with Fiber (3/4)',\n",
       "  'Replete with Fiber (Full)'},\n",
       " 'Two Cal HN': {'Two Cal HN (1/2)', 'Two Cal HN (Full)'},\n",
       " 'Vivonex': {'Vivonex (1/2)', 'Vivonex (3/4)', 'Vivonex (Full)'}}"
      ]
     },
     "execution_count": 5,
     "metadata": {},
     "output_type": "execute_result"
    }
   ],
   "source": [
    "cinp_g.groups\n"
   ]
  },
  {
   "cell_type": "code",
   "execution_count": null,
   "id": "0e2c666a",
   "metadata": {},
   "outputs": [],
   "source": [
    "# Assign the folder of the dataset to `DATA_FILE`.\n",
    "import dask\n",
    "\n",
    "HOME = os.environ.get('HOME')\n",
    "DATA_DIR = f'{HOME}/GP/ehr-data'\n",
    "SOURCE_DIR = os.path.abspath(\"..\")\n",
    "\n",
    "with U.modified_environ(DATA_DIR=DATA_DIR), dask.config.set(scheduler='processes'):\n",
    "    m4inpatient_dataset = load_dataset('M4ICU')\n",
    "   "
   ]
  },
  {
   "cell_type": "code",
   "execution_count": null,
   "id": "815c6c95",
   "metadata": {},
   "outputs": [],
   "source": [
    "splits = m4inpatient_dataset.random_splits([0.1, 0.7], 42, 'subjects')\n",
    "\n"
   ]
  },
  {
   "cell_type": "code",
   "execution_count": null,
   "id": "05423dc4",
   "metadata": {},
   "outputs": [],
   "source": [
    "preprocessing = m4inpatient_dataset.fit_preprocessing(splits[0])"
   ]
  },
  {
   "cell_type": "code",
   "execution_count": null,
   "id": "a357dc92",
   "metadata": {},
   "outputs": [],
   "source": [
    "\n",
    "m4inpatient_dataset.apply_preprocessing(preprocessing)"
   ]
  },
  {
   "cell_type": "code",
   "execution_count": null,
   "id": "435ce976",
   "metadata": {
    "scrolled": true
   },
   "outputs": [],
   "source": [
    "# from concurrent.futures import ThreadPoolExecutor\n",
    "# with dask.config.set(pool=ThreadPoolExecutor(12)):\n",
    "with dask.config.set(scheduler='processes', num_workers=12):\n",
    "    m4inpatients = Inpatients(m4inpatient_dataset, splits[0][:10], num_workers=12)"
   ]
  },
  {
   "cell_type": "code",
   "execution_count": null,
   "id": "cebd58c5",
   "metadata": {},
   "outputs": [],
   "source": [
    "m4inpatients.size_in_bytes() / 1024 ** 3"
   ]
  },
  {
   "cell_type": "code",
   "execution_count": null,
   "id": "84e24feb",
   "metadata": {},
   "outputs": [],
   "source": [
    "m4inpatients_jax = m4inpatients.to_jax_arrays(splits[0][:10])"
   ]
  },
  {
   "cell_type": "code",
   "execution_count": null,
   "id": "0af85343",
   "metadata": {},
   "outputs": [],
   "source": [
    "m4inpatients_jax.size_in_bytes() / 1024 ** 3"
   ]
  },
  {
   "cell_type": "code",
   "execution_count": null,
   "id": "0210e539",
   "metadata": {},
   "outputs": [],
   "source": [
    "len(m4inpatients_jax.subjects)"
   ]
  },
  {
   "cell_type": "code",
   "execution_count": null,
   "id": "de0adf08",
   "metadata": {},
   "outputs": [],
   "source": [
    "m4inpatients_jax.n_admissions()"
   ]
  },
  {
   "cell_type": "code",
   "execution_count": null,
   "id": "0464a3bb",
   "metadata": {},
   "outputs": [],
   "source": [
    "m4inpatients_jax.n_segments()"
   ]
  },
  {
   "cell_type": "code",
   "execution_count": null,
   "id": "1b3711f3",
   "metadata": {},
   "outputs": [],
   "source": [
    "m4inpatients_jax.n_obs_times()"
   ]
  },
  {
   "cell_type": "code",
   "execution_count": null,
   "id": "26fa5b6f",
   "metadata": {},
   "outputs": [],
   "source": [
    "# import numpy as np\n",
    "# import matplotlib.pyplot as plt\n",
    "\n",
    "# a = m4inpatients_jax.obs_coocurrence_matrix\n",
    "# a = np.array(a)\n",
    "# plt.imshow(a, cmap='hot', interpolation='nearest')\n",
    "# plt.show()"
   ]
  },
  {
   "cell_type": "code",
   "execution_count": null,
   "id": "9756e21b",
   "metadata": {},
   "outputs": [],
   "source": [
    "s = m4inpatients_jax.subjects[splits[0][6]].admissions[0].interventions.input_\n",
    "s"
   ]
  },
  {
   "cell_type": "code",
   "execution_count": null,
   "id": "0135d6c5",
   "metadata": {},
   "outputs": [],
   "source": [
    "m4inpatients_jax.interval_hours(splits[0][:10])"
   ]
  },
  {
   "cell_type": "code",
   "execution_count": null,
   "id": "a0de0ccd",
   "metadata": {},
   "outputs": [],
   "source": [
    "s"
   ]
  },
  {
   "cell_type": "markdown",
   "id": "b66a64de",
   "metadata": {},
   "source": [
    "### التدريب على نموذج المعادلات التفاضلية الاعتيادية العصبية\n"
   ]
  },
  {
   "cell_type": "code",
   "execution_count": null,
   "id": "9442545b",
   "metadata": {},
   "outputs": [],
   "source": [
    "from lib.ml.in_icenode import InICENODE, InICENODEDimensions\n",
    "import jax.random as jrandom"
   ]
  },
  {
   "cell_type": "code",
   "execution_count": null,
   "id": "c911e2f3",
   "metadata": {},
   "outputs": [],
   "source": [
    "dims = InICENODEDimensions(state_m=15, \n",
    "                state_dx_e=10,\n",
    "                state_obs_e=25,\n",
    "                input_e=10,\n",
    "                proc_e=10,\n",
    "                demo_e=5,\n",
    "                int_e=15)\n",
    "key = jrandom.PRNGKey(0)\n",
    "\n",
    "m = InICENODE(dims=dims, \n",
    "              scheme=m4inpatient_dataset.scheme,\n",
    "              key=key)"
   ]
  },
  {
   "cell_type": "code",
   "execution_count": null,
   "id": "72d4f9c8",
   "metadata": {},
   "outputs": [],
   "source": [
    "res = m.batch_predict(m4inpatients_jax, splits[0][:10])"
   ]
  },
  {
   "cell_type": "code",
   "execution_count": null,
   "id": "84c66942",
   "metadata": {},
   "outputs": [],
   "source": [
    "m4inpatients_jax.subjects[splits[0][0]].admissions[0].interventions"
   ]
  },
  {
   "cell_type": "code",
   "execution_count": null,
   "id": "7285c92d",
   "metadata": {},
   "outputs": [],
   "source": [
    "m.f_emb.f_inp_agg.splits"
   ]
  },
  {
   "cell_type": "code",
   "execution_count": null,
   "id": "71c21ad0",
   "metadata": {},
   "outputs": [],
   "source": [
    "m4inpatients_jax.subjects[splits[0][0]].admissions[0].admission_dates"
   ]
  },
  {
   "cell_type": "code",
   "execution_count": null,
   "id": "e9de4a42",
   "metadata": {},
   "outputs": [],
   "source": []
  }
 ],
 "metadata": {
  "kernelspec": {
   "display_name": "Python 3 (ipykernel)",
   "language": "python",
   "name": "python3"
  },
  "language_info": {
   "codemirror_mode": {
    "name": "ipython",
    "version": 3
   },
   "file_extension": ".py",
   "mimetype": "text/x-python",
   "name": "python",
   "nbconvert_exporter": "python",
   "pygments_lexer": "ipython3",
   "version": "3.10.12"
  }
 },
 "nbformat": 4,
 "nbformat_minor": 5
}
