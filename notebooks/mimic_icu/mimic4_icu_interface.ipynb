{
 "cells": [
  {
   "cell_type": "code",
   "execution_count": 1,
   "id": "ab383786",
   "metadata": {},
   "outputs": [],
   "source": [
    "%load_ext autoreload\n",
    "%autoreload 2\n",
    "import sys\n",
    "import os\n",
    "import glob\n",
    "import random\n",
    "from collections import defaultdict\n",
    "from pathlib import Path\n",
    "\n",
    "from IPython.display import display\n",
    "\n",
    "import pandas as pd\n",
    "\n",
    "from tqdm import tqdm\n",
    "import jax\n",
    "jax.config.update('jax_platform_name', 'cpu')"
   ]
  },
  {
   "cell_type": "code",
   "execution_count": 2,
   "id": "c83480cb",
   "metadata": {},
   "outputs": [],
   "source": [
    "\n",
    "\n",
    "sys.path.append(\"../..\")\n",
    "\n",
    "from lib import utils as U\n",
    "from lib.ehr.dataset import load_dataset\n",
    "from lib.ehr.inpatient_interface import Inpatients"
   ]
  },
  {
   "cell_type": "code",
   "execution_count": 3,
   "id": "93f4e7be",
   "metadata": {},
   "outputs": [],
   "source": [
    "import logging\n",
    "# logging.root.level = logging.DEBUG\n"
   ]
  },
  {
   "cell_type": "code",
   "execution_count": 4,
   "id": "0e2c666a",
   "metadata": {},
   "outputs": [],
   "source": [
    "# Assign the folder of the dataset to `DATA_FILE`.\n",
    "import dask\n",
    "\n",
    "HOME = os.environ.get('HOME')\n",
    "DATA_DIR = f'{HOME}/GP/ehr-data'\n",
    "SOURCE_DIR = os.path.abspath(\"..\")\n",
    "\n",
    "with U.modified_environ(DATA_DIR=DATA_DIR), dask.config.set(scheduler='processes'):\n",
    "    m4inpatient_dataset = load_dataset('M4ICU')\n",
    "   "
   ]
  },
  {
   "cell_type": "code",
   "execution_count": 5,
   "id": "815c6c95",
   "metadata": {},
   "outputs": [],
   "source": [
    "splits = m4inpatient_dataset.random_splits([0.1, 0.7], 42, 'subjects')\n",
    "\n"
   ]
  },
  {
   "cell_type": "code",
   "execution_count": 6,
   "id": "05423dc4",
   "metadata": {},
   "outputs": [],
   "source": [
    "preprocessing = m4inpatient_dataset.fit_preprocessing(splits[0])"
   ]
  },
  {
   "cell_type": "code",
   "execution_count": 7,
   "id": "a357dc92",
   "metadata": {},
   "outputs": [],
   "source": [
    "\n",
    "m4inpatient_dataset.apply_preprocessing(preprocessing)"
   ]
  },
  {
   "cell_type": "code",
   "execution_count": 8,
   "id": "435ce976",
   "metadata": {
    "scrolled": true
   },
   "outputs": [
    {
     "name": "stderr",
     "output_type": "stream",
     "text": [
      "/home/asem/GP/ICENODE/notebooks/mimic_icu/../../lib/ehr/dataset.py:943: PerformanceWarning: Adding/subtracting object-dtype array to DatetimeArray not vectorized.\n",
      "  dob = anchor_date + anchor_age\n",
      "WARNING:absl:\n",
      "                            dx_icd10->dx_icd9 Unrecognised t_codes\n",
      "                            (169):\n",
      "                            ['041.41', '041.42', '041.43', '041.49', '173.00', '173.01', '173.02', '173.09', '173.10', '173.11', '173.12', '173.19', '173.20', '173.21', '173.22', '173.29', '173.30', '173.31', '173.32', '173.39']...\n",
      "WARNING:absl:\n",
      "                            dx_icd10->dx_icd9 Unrecognised s_codes\n",
      "                            (49910):\n",
      "                            ['E08.3211', 'E08.3212', 'E08.3213', 'E08.3219', 'E08.3291', 'E08.3292', 'E08.3293', 'E08.3299', 'E08.3311', 'E08.3312', 'E08.3313', 'E08.3319', 'E08.3391', 'E08.3392', 'E08.3393', 'E08.3399', 'E08.3411', 'E08.3412', 'E08.3413', 'E08.3419']...\n",
      "WARNING:absl:\n",
      "                            dx_icd10->dx_icd9 Unrecognised t_codes\n",
      "                            (169):\n",
      "                            ['041.41', '041.42', '041.43', '041.49', '173.00', '173.01', '173.02', '173.09', '173.10', '173.11', '173.12', '173.19', '173.20', '173.21', '173.22', '173.29', '173.30', '173.31', '173.32', '173.39']...\n",
      "WARNING:absl:\n",
      "                            dx_icd10->dx_icd9 Unrecognised s_codes\n",
      "                            (49910):\n",
      "                            ['E08.3211', 'E08.3212', 'E08.3213', 'E08.3219', 'E08.3291', 'E08.3292', 'E08.3293', 'E08.3299', 'E08.3311', 'E08.3312', 'E08.3313', 'E08.3319', 'E08.3391', 'E08.3392', 'E08.3393', 'E08.3399', 'E08.3411', 'E08.3412', 'E08.3413', 'E08.3419']...\n",
      "WARNING:absl:Source discrepancy\n",
      "WARNING:absl:M: dx_icd10->dx_icd9 \n",
      "\n",
      "                            S - M_domain (24464, p=0.5333449606488042):\n",
      "                            ['A00', 'A01', 'A01.0', 'A02', 'A02.2']...\n",
      "\n",
      "                            M_domain - S (0, p=0.0):\n",
      "                            []...\n",
      "\n",
      "                            M_domain (21405):\n",
      "                            ['A00.0', 'A00.1', 'A00.9', 'A01.00', 'A01.01']...\n",
      "\n",
      "                            S (45869): ['A00', 'A00.0', 'A00.1', 'A00.9', 'A01']...\n"
     ]
    }
   ],
   "source": [
    "# from concurrent.futures import ThreadPoolExecutor\n",
    "# with dask.config.set(pool=ThreadPoolExecutor(12)):\n",
    "with dask.config.set(scheduler='processes', num_workers=12):\n",
    "    m4inaptients = Inpatients(m4inpatient_dataset, splits[0], num_workers=12)"
   ]
  },
  {
   "cell_type": "code",
   "execution_count": 9,
   "id": "cebd58c5",
   "metadata": {},
   "outputs": [
    {
     "data": {
      "text/plain": [
       "0.7889224896207452"
      ]
     },
     "execution_count": 9,
     "metadata": {},
     "output_type": "execute_result"
    }
   ],
   "source": [
    "m4inaptients.size_in_bytes() / 1024 ** 3"
   ]
  },
  {
   "cell_type": "code",
   "execution_count": 10,
   "id": "84e24feb",
   "metadata": {},
   "outputs": [],
   "source": [
    "m4inaptients_jax = m4inaptients.to_jax_arrays(splits[0])"
   ]
  },
  {
   "cell_type": "code",
   "execution_count": 11,
   "id": "0af85343",
   "metadata": {},
   "outputs": [
    {
     "data": {
      "text/plain": [
       "0.7730227569118142"
      ]
     },
     "execution_count": 11,
     "metadata": {},
     "output_type": "execute_result"
    }
   ],
   "source": [
    "m4inaptients_jax.size_in_bytes() / 1024 ** 3"
   ]
  },
  {
   "cell_type": "code",
   "execution_count": 12,
   "id": "0210e539",
   "metadata": {},
   "outputs": [
    {
     "data": {
      "text/plain": [
       "5092"
      ]
     },
     "execution_count": 12,
     "metadata": {},
     "output_type": "execute_result"
    }
   ],
   "source": [
    "len(m4inaptients_jax.subjects)"
   ]
  },
  {
   "cell_type": "code",
   "execution_count": 13,
   "id": "de0adf08",
   "metadata": {},
   "outputs": [
    {
     "data": {
      "text/plain": [
       "17292"
      ]
     },
     "execution_count": 13,
     "metadata": {},
     "output_type": "execute_result"
    }
   ],
   "source": [
    "m4inaptients_jax.n_admissions()"
   ]
  },
  {
   "cell_type": "code",
   "execution_count": 14,
   "id": "0464a3bb",
   "metadata": {},
   "outputs": [
    {
     "data": {
      "text/plain": [
       "893563"
      ]
     },
     "execution_count": 14,
     "metadata": {},
     "output_type": "execute_result"
    }
   ],
   "source": [
    "m4inaptients.n_segments()"
   ]
  },
  {
   "cell_type": "code",
   "execution_count": 15,
   "id": "1b3711f3",
   "metadata": {},
   "outputs": [
    {
     "data": {
      "text/plain": [
       "724696"
      ]
     },
     "execution_count": 15,
     "metadata": {},
     "output_type": "execute_result"
    }
   ],
   "source": [
    "m4inaptients.n_obs_times()"
   ]
  },
  {
   "cell_type": "code",
   "execution_count": 17,
   "id": "732ecd78",
   "metadata": {},
   "outputs": [
    {
     "data": {
      "text/plain": [
       "0.22646098042029578"
      ]
     },
     "execution_count": 17,
     "metadata": {},
     "output_type": "execute_result"
    }
   ],
   "source": [
    "m4inaptients.p_obs()"
   ]
  },
  {
   "cell_type": "code",
   "execution_count": 18,
   "id": "26fa5b6f",
   "metadata": {},
   "outputs": [],
   "source": [
    "# import numpy as np\n",
    "# import matplotlib.pyplot as plt\n",
    "\n",
    "# a = m4inaptients.obs_coocurrence_matrix\n",
    "# a = np.array(a)\n",
    "# plt.imshow(a, cmap='hot', interpolation='nearest')\n",
    "# plt.show()"
   ]
  },
  {
   "cell_type": "code",
   "execution_count": 19,
   "id": "9756e21b",
   "metadata": {},
   "outputs": [],
   "source": [
    "s = m4inaptients_jax.subjects[splits[0][0]]"
   ]
  },
  {
   "cell_type": "code",
   "execution_count": 20,
   "id": "a0de0ccd",
   "metadata": {},
   "outputs": [
    {
     "data": {
      "text/plain": [
       "Inpatient(\n",
       "  subject_id=14825539,\n",
       "  static_info=InpatientStaticInfo(\n",
       "    gender='M',\n",
       "    date_of_birth=Timestamp('2136-01-01 00:00:00'),\n",
       "    ethnicity=bool[5],\n",
       "    ethnicity_scheme=<lib.ehr.coding_scheme.MIMIC4Eth5 object at 0x7f5cb5075c40>,\n",
       "    constant_vec=bool[6]\n",
       "  ),\n",
       "  admissions=[\n",
       "    InpatientAdmission(\n",
       "      admission_id=24350756,\n",
       "      admission_dates=(\n",
       "        Timestamp('2181-01-27 13:21:00'),\n",
       "        Timestamp('2181-02-02 13:15:00')\n",
       "      ),\n",
       "      dx_codes=CodesVector(\n",
       "        vec=bool[17375],\n",
       "        scheme=<lib.ehr.coding_scheme.DxICD9 object at 0x7f5cb49bb910>\n",
       "      ),\n",
       "      dx_codes_history=CodesVector(\n",
       "        vec=bool[17375],\n",
       "        scheme=<lib.ehr.coding_scheme.DxICD9 object at 0x7f5cb49bb910>\n",
       "      ),\n",
       "      outcome=CodesVector(\n",
       "        vec=bool[2081],\n",
       "        scheme=<lib.ehr.outcome.OutcomeExtractor object at 0x7f5cb507bd60>\n",
       "      ),\n",
       "      observables=[\n",
       "        InpatientObservables(time=f32[0], value=f16[0,60], mask=bool[0,60]),\n",
       "        InpatientObservables(time=f32[0], value=f16[0,60], mask=bool[0,60]),\n",
       "        InpatientObservables(time=f32[0], value=f16[0,60], mask=bool[0,60]),\n",
       "        InpatientObservables(time=f32[0], value=f16[0,60], mask=bool[0,60]),\n",
       "        InpatientObservables(time=f32[1], value=f16[1,60], mask=bool[1,60]),\n",
       "        InpatientObservables(time=f32[0], value=f16[0,60], mask=bool[0,60]),\n",
       "        InpatientObservables(time=f32[1], value=f16[1,60], mask=bool[1,60]),\n",
       "        InpatientObservables(time=f32[0], value=f16[0,60], mask=bool[0,60]),\n",
       "        InpatientObservables(time=f32[4], value=f16[4,60], mask=bool[4,60]),\n",
       "        InpatientObservables(time=f32[1], value=f16[1,60], mask=bool[1,60]),\n",
       "        InpatientObservables(time=f32[1], value=f16[1,60], mask=bool[1,60]),\n",
       "        InpatientObservables(time=f32[0], value=f16[0,60], mask=bool[0,60]),\n",
       "        InpatientObservables(time=f32[1], value=f16[1,60], mask=bool[1,60]),\n",
       "        InpatientObservables(time=f32[1], value=f16[1,60], mask=bool[1,60]),\n",
       "        InpatientObservables(time=f32[2], value=f16[2,60], mask=bool[2,60]),\n",
       "        InpatientObservables(time=f32[1], value=f16[1,60], mask=bool[1,60]),\n",
       "        InpatientObservables(time=f32[0], value=f16[0,60], mask=bool[0,60]),\n",
       "        InpatientObservables(time=f32[3], value=f16[3,60], mask=bool[3,60]),\n",
       "        InpatientObservables(time=f32[1], value=f16[1,60], mask=bool[1,60]),\n",
       "        InpatientObservables(time=f32[0], value=f16[0,60], mask=bool[0,60]),\n",
       "        InpatientObservables(time=f32[1], value=f16[1,60], mask=bool[1,60]),\n",
       "        InpatientObservables(time=f32[1], value=f16[1,60], mask=bool[1,60]),\n",
       "        InpatientObservables(time=f32[0], value=f16[0,60], mask=bool[0,60]),\n",
       "        InpatientObservables(time=f32[0], value=f16[0,60], mask=bool[0,60]),\n",
       "        InpatientObservables(time=f32[1], value=f16[1,60], mask=bool[1,60]),\n",
       "        InpatientObservables(time=f32[0], value=f16[0,60], mask=bool[0,60]),\n",
       "        InpatientObservables(time=f32[2], value=f16[2,60], mask=bool[2,60]),\n",
       "        InpatientObservables(time=f32[1], value=f16[1,60], mask=bool[1,60]),\n",
       "        InpatientObservables(time=f32[0], value=f16[0,60], mask=bool[0,60]),\n",
       "        InpatientObservables(time=f32[0], value=f16[0,60], mask=bool[0,60]),\n",
       "        InpatientObservables(time=f32[0], value=f16[0,60], mask=bool[0,60]),\n",
       "        InpatientObservables(time=f32[1], value=f16[1,60], mask=bool[1,60]),\n",
       "        InpatientObservables(time=f32[0], value=f16[0,60], mask=bool[0,60]),\n",
       "        InpatientObservables(time=f32[1], value=f16[1,60], mask=bool[1,60]),\n",
       "        InpatientObservables(time=f32[3], value=f16[3,60], mask=bool[3,60]),\n",
       "        InpatientObservables(time=f32[1], value=f16[1,60], mask=bool[1,60]),\n",
       "        InpatientObservables(time=f32[1], value=f16[1,60], mask=bool[1,60]),\n",
       "        InpatientObservables(time=f32[0], value=f16[0,60], mask=bool[0,60]),\n",
       "        InpatientObservables(time=f32[2], value=f16[2,60], mask=bool[2,60]),\n",
       "        InpatientObservables(time=f32[1], value=f16[1,60], mask=bool[1,60]),\n",
       "        InpatientObservables(time=f32[0], value=f16[0,60], mask=bool[0,60]),\n",
       "        InpatientObservables(time=f32[1], value=f16[1,60], mask=bool[1,60]),\n",
       "        InpatientObservables(time=f32[0], value=f16[0,60], mask=bool[0,60]),\n",
       "        InpatientObservables(time=f32[0], value=f16[0,60], mask=bool[0,60]),\n",
       "        InpatientObservables(time=f32[1], value=f16[1,60], mask=bool[1,60]),\n",
       "        InpatientObservables(time=f32[0], value=f16[0,60], mask=bool[0,60]),\n",
       "        InpatientObservables(time=f32[4], value=f16[4,60], mask=bool[4,60]),\n",
       "        InpatientObservables(time=f32[5], value=f16[5,60], mask=bool[5,60]),\n",
       "        InpatientObservables(time=f32[0], value=f16[0,60], mask=bool[0,60]),\n",
       "        InpatientObservables(time=f32[0], value=f16[0,60], mask=bool[0,60]),\n",
       "        InpatientObservables(time=f32[5], value=f16[5,60], mask=bool[5,60]),\n",
       "        InpatientObservables(time=f32[0], value=f16[0,60], mask=bool[0,60]),\n",
       "        InpatientObservables(time=f32[0], value=f16[0,60], mask=bool[0,60]),\n",
       "        InpatientObservables(time=f32[0], value=f16[0,60], mask=bool[0,60]),\n",
       "        InpatientObservables(time=f32[1], value=f16[1,60], mask=bool[1,60]),\n",
       "        InpatientObservables(time=f32[0], value=f16[0,60], mask=bool[0,60]),\n",
       "        InpatientObservables(time=f32[0], value=f16[0,60], mask=bool[0,60]),\n",
       "        InpatientObservables(time=f32[0], value=f16[0,60], mask=bool[0,60]),\n",
       "        InpatientObservables(time=f32[0], value=f16[0,60], mask=bool[0,60]),\n",
       "        InpatientObservables(time=f32[0], value=f16[0,60], mask=bool[0,60]),\n",
       "        InpatientObservables(time=f32[1], value=f16[1,60], mask=bool[1,60]),\n",
       "        InpatientObservables(time=f32[0], value=f16[0,60], mask=bool[0,60]),\n",
       "        InpatientObservables(time=f32[0], value=f16[0,60], mask=bool[0,60]),\n",
       "        InpatientObservables(time=f32[0], value=f16[0,60], mask=bool[0,60]),\n",
       "        InpatientObservables(time=f32[0], value=f16[0,60], mask=bool[0,60]),\n",
       "        InpatientObservables(time=f32[0], value=f16[0,60], mask=bool[0,60]),\n",
       "        InpatientObservables(time=f32[0], value=f16[0,60], mask=bool[0,60]),\n",
       "        InpatientObservables(time=f32[1], value=f16[1,60], mask=bool[1,60]),\n",
       "        InpatientObservables(time=f32[0], value=f16[0,60], mask=bool[0,60]),\n",
       "        InpatientObservables(time=f32[0], value=f16[0,60], mask=bool[0,60]),\n",
       "        InpatientObservables(time=f32[0], value=f16[0,60], mask=bool[0,60]),\n",
       "        InpatientObservables(time=f32[0], value=f16[0,60], mask=bool[0,60]),\n",
       "        InpatientObservables(time=f32[0], value=f16[0,60], mask=bool[0,60]),\n",
       "        InpatientObservables(time=f32[0], value=f16[0,60], mask=bool[0,60]),\n",
       "        InpatientObservables(time=f32[0], value=f16[0,60], mask=bool[0,60]),\n",
       "        InpatientObservables(time=f32[1], value=f16[1,60], mask=bool[1,60]),\n",
       "        InpatientObservables(time=f32[0], value=f16[0,60], mask=bool[0,60]),\n",
       "        InpatientObservables(time=f32[0], value=f16[0,60], mask=bool[0,60]),\n",
       "        InpatientObservables(time=f32[0], value=f16[0,60], mask=bool[0,60]),\n",
       "        InpatientObservables(time=f32[0], value=f16[0,60], mask=bool[0,60]),\n",
       "        InpatientObservables(time=f32[0], value=f16[0,60], mask=bool[0,60]),\n",
       "        InpatientObservables(time=f32[1], value=f16[1,60], mask=bool[1,60]),\n",
       "        InpatientObservables(time=f32[0], value=f16[0,60], mask=bool[0,60]),\n",
       "        InpatientObservables(time=f32[0], value=f16[0,60], mask=bool[0,60]),\n",
       "        InpatientObservables(time=f32[0], value=f16[0,60], mask=bool[0,60]),\n",
       "        InpatientObservables(time=f32[0], value=f16[0,60], mask=bool[0,60]),\n",
       "        InpatientObservables(time=f32[1], value=f16[1,60], mask=bool[1,60]),\n",
       "        InpatientObservables(time=f32[0], value=f16[0,60], mask=bool[0,60]),\n",
       "        InpatientObservables(time=f32[0], value=f16[0,60], mask=bool[0,60]),\n",
       "        InpatientObservables(time=f32[0], value=f16[0,60], mask=bool[0,60]),\n",
       "        InpatientObservables(time=f32[1], value=f16[1,60], mask=bool[1,60]),\n",
       "        InpatientObservables(time=f32[1], value=f16[1,60], mask=bool[1,60]),\n",
       "        InpatientObservables(time=f32[1], value=f16[1,60], mask=bool[1,60]),\n",
       "        InpatientObservables(time=f32[0], value=f16[0,60], mask=bool[0,60]),\n",
       "        InpatientObservables(time=f32[1], value=f16[1,60], mask=bool[1,60]),\n",
       "        InpatientObservables(time=f32[1], value=f16[1,60], mask=bool[1,60]),\n",
       "        InpatientObservables(time=f32[0], value=f16[0,60], mask=bool[0,60]),\n",
       "        InpatientObservables(time=f32[0], value=f16[0,60], mask=bool[0,60]),\n",
       "        InpatientObservables(time=f32[1], value=f16[1,60], mask=bool[1,60]),\n",
       "        InpatientObservables(time=f32[0], value=f16[0,60], mask=bool[0,60]),\n",
       "        InpatientObservables(time=f32[1], value=f16[1,60], mask=bool[1,60]),\n",
       "        InpatientObservables(time=f32[1], value=f16[1,60], mask=bool[1,60]),\n",
       "        InpatientObservables(time=f32[0], value=f16[0,60], mask=bool[0,60]),\n",
       "        InpatientObservables(time=f32[0], value=f16[0,60], mask=bool[0,60]),\n",
       "        InpatientObservables(time=f32[0], value=f16[0,60], mask=bool[0,60]),\n",
       "        InpatientObservables(time=f32[0], value=f16[0,60], mask=bool[0,60]),\n",
       "        InpatientObservables(time=f32[0], value=f16[0,60], mask=bool[0,60]),\n",
       "        InpatientObservables(time=f32[0], value=f16[0,60], mask=bool[0,60]),\n",
       "        InpatientObservables(time=f32[1], value=f16[1,60], mask=bool[1,60]),\n",
       "        InpatientObservables(time=f32[0], value=f16[0,60], mask=bool[0,60]),\n",
       "        InpatientObservables(time=f32[0], value=f16[0,60], mask=bool[0,60]),\n",
       "        InpatientObservables(time=f32[0], value=f16[0,60], mask=bool[0,60]),\n",
       "        InpatientObservables(time=f32[0], value=f16[0,60], mask=bool[0,60]),\n",
       "        InpatientObservables(time=f32[1], value=f16[1,60], mask=bool[1,60]),\n",
       "        InpatientObservables(time=f32[0], value=f16[0,60], mask=bool[0,60]),\n",
       "        InpatientObservables(time=f32[0], value=f16[0,60], mask=bool[0,60]),\n",
       "        InpatientObservables(time=f32[0], value=f16[0,60], mask=bool[0,60]),\n",
       "        InpatientObservables(time=f32[1], value=f16[1,60], mask=bool[1,60]),\n",
       "        InpatientObservables(time=f32[0], value=f16[0,60], mask=bool[0,60]),\n",
       "        InpatientObservables(time=f32[1], value=f16[1,60], mask=bool[1,60]),\n",
       "        InpatientObservables(time=f32[0], value=f16[0,60], mask=bool[0,60]),\n",
       "        InpatientObservables(time=f32[1], value=f16[1,60], mask=bool[1,60]),\n",
       "        InpatientObservables(time=f32[0], value=f16[0,60], mask=bool[0,60]),\n",
       "        InpatientObservables(time=f32[0], value=f16[0,60], mask=bool[0,60]),\n",
       "        InpatientObservables(time=f32[0], value=f16[0,60], mask=bool[0,60]),\n",
       "        InpatientObservables(time=f32[0], value=f16[0,60], mask=bool[0,60]),\n",
       "        InpatientObservables(time=f32[1], value=f16[1,60], mask=bool[1,60]),\n",
       "        InpatientObservables(time=f32[0], value=f16[0,60], mask=bool[0,60]),\n",
       "        InpatientObservables(time=f32[0], value=f16[0,60], mask=bool[0,60]),\n",
       "        InpatientObservables(time=f32[0], value=f16[0,60], mask=bool[0,60]),\n",
       "        InpatientObservables(time=f32[0], value=f16[0,60], mask=bool[0,60]),\n",
       "        InpatientObservables(time=f32[0], value=f16[0,60], mask=bool[0,60]),\n",
       "        InpatientObservables(time=f32[0], value=f16[0,60], mask=bool[0,60]),\n",
       "        InpatientObservables(time=f32[1], value=f16[1,60], mask=bool[1,60]),\n",
       "        InpatientObservables(time=f32[0], value=f16[0,60], mask=bool[0,60]),\n",
       "        InpatientObservables(time=f32[0], value=f16[0,60], mask=bool[0,60]),\n",
       "        InpatientObservables(time=f32[0], value=f16[0,60], mask=bool[0,60]),\n",
       "        InpatientObservables(time=f32[1], value=f16[1,60], mask=bool[1,60]),\n",
       "        InpatientObservables(time=f32[0], value=f16[0,60], mask=bool[0,60]),\n",
       "        InpatientObservables(time=f32[0], value=f16[0,60], mask=bool[0,60]),\n",
       "        InpatientObservables(time=f32[0], value=f16[0,60], mask=bool[0,60]),\n",
       "        InpatientObservables(time=f32[0], value=f16[0,60], mask=bool[0,60]),\n",
       "        InpatientObservables(time=f32[0], value=f16[0,60], mask=bool[0,60]),\n",
       "        InpatientObservables(time=f32[1], value=f16[1,60], mask=bool[1,60]),\n",
       "        InpatientObservables(time=f32[0], value=f16[0,60], mask=bool[0,60]),\n",
       "        InpatientObservables(time=f32[0], value=f16[0,60], mask=bool[0,60]),\n",
       "        InpatientObservables(time=f32[0], value=f16[0,60], mask=bool[0,60]),\n",
       "        InpatientObservables(time=f32[0], value=f16[0,60], mask=bool[0,60]),\n",
       "        InpatientObservables(time=f32[0], value=f16[0,60], mask=bool[0,60]),\n",
       "        InpatientObservables(time=f32[1], value=f16[1,60], mask=bool[1,60]),\n",
       "        InpatientObservables(time=f32[0], value=f16[0,60], mask=bool[0,60]),\n",
       "        InpatientObservables(time=f32[1], value=f16[1,60], mask=bool[1,60]),\n",
       "        InpatientObservables(time=f32[0], value=f16[0,60], mask=bool[0,60]),\n",
       "        InpatientObservables(time=f32[1], value=f16[1,60], mask=bool[1,60]),\n",
       "        InpatientObservables(time=f32[0], value=f16[0,60], mask=bool[0,60]),\n",
       "        InpatientObservables(time=f32[0], value=f16[0,60], mask=bool[0,60]),\n",
       "        InpatientObservables(time=f32[0], value=f16[0,60], mask=bool[0,60]),\n",
       "        InpatientObservables(time=f32[1], value=f16[1,60], mask=bool[1,60]),\n",
       "        InpatientObservables(time=f32[0], value=f16[0,60], mask=bool[0,60]),\n",
       "        InpatientObservables(time=f32[0], value=f16[0,60], mask=bool[0,60]),\n",
       "        InpatientObservables(time=f32[4], value=f16[4,60], mask=bool[4,60])\n",
       "      ],\n",
       "      interventions=InpatientInterventions(\n",
       "        proc=None,\n",
       "        input_=InpatientInput(\n",
       "          index=i32[206],\n",
       "          rate=f32[206],\n",
       "          starttime=f32[206],\n",
       "          endtime=f32[206],\n",
       "          size=469\n",
       "        ),\n",
       "        time=[\n",
       "          (0.0, 0.016666666666666666),\n",
       "          (0.016666666666666666, 0.15),\n",
       "          (0.15, 0.5666666666666667),\n",
       "          (0.5666666666666667, 0.5833333333333334),\n",
       "          (0.5833333333333334, 1.3833333333333333),\n",
       "          (1.3833333333333333, 1.65),\n",
       "          (1.65, 1.6666666666666667),\n",
       "          (1.6666666666666667, 1.6833333333333333),\n",
       "          (1.6833333333333333, 5.816666666666666),\n",
       "          (5.816666666666666, 6.7),\n",
       "          (6.7, 7.7),\n",
       "          (7.7, 7.833333333333333),\n",
       "          (7.833333333333333, 9.65),\n",
       "          (9.65, 9.666666666666666),\n",
       "          (9.666666666666666, 11.666666666666666),\n",
       "          (11.666666666666666, 12.85),\n",
       "          (12.85, 12.866666666666667),\n",
       "          (12.866666666666667, 16.033333333333335),\n",
       "          (16.033333333333335, 16.833333333333332),\n",
       "          (16.833333333333332, 17.5),\n",
       "          (17.5, 18.133333333333333),\n",
       "          (18.133333333333333, 18.783333333333335),\n",
       "          (18.783333333333335, 18.8),\n",
       "          (18.8, 19.65),\n",
       "          (19.65, 19.666666666666668),\n",
       "          (19.666666666666668, 19.833333333333332),\n",
       "          (19.833333333333332, 21.833333333333332),\n",
       "          (21.833333333333332, 23.016666666666666),\n",
       "          (23.016666666666666, 23.35),\n",
       "          (23.35, 23.4),\n",
       "          (23.4, 23.416666666666668),\n",
       "          (23.416666666666668, 23.816666666666666),\n",
       "          (23.816666666666666, 24.15),\n",
       "          (24.15, 25.116666666666667),\n",
       "          (25.116666666666667, 28.35),\n",
       "          (28.35, 29.166666666666668),\n",
       "          (29.166666666666668, 29.716666666666665),\n",
       "          (29.716666666666665, 29.733333333333334),\n",
       "          (29.733333333333334, 32.15),\n",
       "          (32.15, 33.55),\n",
       "          (33.55, 33.65),\n",
       "          (33.65, 33.666666666666664),\n",
       "          (33.666666666666664, 34.06666666666667),\n",
       "          (34.06666666666667, 34.65),\n",
       "          (34.65, 34.7),\n",
       "          (34.7, 35.65),\n",
       "          (35.65, 38.766666666666666),\n",
       "          (38.766666666666666, 43.88333333333333),\n",
       "          (43.88333333333333, 43.9),\n",
       "          (43.9, 44.0),\n",
       "          (44.0, 49.21666666666667),\n",
       "          (49.21666666666667, 49.233333333333334),\n",
       "          (49.233333333333334, 49.35),\n",
       "          (49.35, 49.65),\n",
       "          (49.65, 49.666666666666664),\n",
       "          (49.666666666666664, 49.88333333333333),\n",
       "          (49.88333333333333, 49.93333333333333),\n",
       "          (49.93333333333333, 49.983333333333334),\n",
       "          (49.983333333333334, 50.15),\n",
       "          (50.15, 50.166666666666664),\n",
       "          (50.166666666666664, 50.8),\n",
       "          (50.8, 50.88333333333333),\n",
       "          (50.88333333333333, 50.9),\n",
       "          (50.9, 50.983333333333334),\n",
       "          (50.983333333333334, 51.0),\n",
       "          (51.0, 51.35),\n",
       "          (51.35, 51.65),\n",
       "          (51.65, 51.666666666666664),\n",
       "          (51.666666666666664, 51.9),\n",
       "          (51.9, 51.93333333333333),\n",
       "          (51.93333333333333, 52.18333333333333),\n",
       "          (52.18333333333333, 52.35),\n",
       "          (52.35, 52.46666666666667),\n",
       "          (52.46666666666667, 52.583333333333336),\n",
       "          (52.583333333333336, 52.65),\n",
       "          (52.65, 52.666666666666664),\n",
       "          (52.666666666666664, 52.75),\n",
       "          (52.75, 52.81666666666667),\n",
       "          (52.81666666666667, 53.2),\n",
       "          (53.2, 53.25),\n",
       "          (53.25, 53.55),\n",
       "          (53.55, 53.75),\n",
       "          (53.75, 53.766666666666666),\n",
       "          (53.766666666666666, 54.06666666666667),\n",
       "          (54.06666666666667, 54.25),\n",
       "          (54.25, 54.65),\n",
       "          (54.65, 54.666666666666664),\n",
       "          (54.666666666666664, 55.15),\n",
       "          (55.15, 55.166666666666664),\n",
       "          (55.166666666666664, 55.65),\n",
       "          (55.65, 56.65),\n",
       "          (56.65, 57.65),\n",
       "          (57.65, 57.68333333333333),\n",
       "          (57.68333333333333, 58.65),\n",
       "          (58.65, 59.65),\n",
       "          (59.65, 60.15),\n",
       "          (60.15, 60.166666666666664),\n",
       "          (60.166666666666664, 60.65),\n",
       "          (60.65, 61.15),\n",
       "          (61.15, 61.166666666666664),\n",
       "          (61.166666666666664, 62.65),\n",
       "          (62.65, 62.666666666666664),\n",
       "          (62.666666666666664, 62.88333333333333),\n",
       "          (62.88333333333333, 62.9),\n",
       "          (62.9, 63.15),\n",
       "          (63.15, 63.4),\n",
       "          (63.4, 63.416666666666664),\n",
       "          (63.416666666666664, 63.65),\n",
       "          (63.65, 63.9),\n",
       "          (63.9, 64.15),\n",
       "          (64.15, 64.16666666666667),\n",
       "          (64.16666666666667, 64.4),\n",
       "          (64.4, 64.65),\n",
       "          (64.65, 64.9),\n",
       "          (64.9, 65.15),\n",
       "          (65.15, 65.16666666666667),\n",
       "          (65.16666666666667, 65.65),\n",
       "          (65.65, 66.15),\n",
       "          (66.15, 66.65),\n",
       "          (66.65, 66.66666666666667),\n",
       "          (66.66666666666667, 67.51666666666667),\n",
       "          (67.51666666666667, 67.75),\n",
       "          (67.75, 67.76666666666667),\n",
       "          (67.76666666666667, 67.95),\n",
       "          (67.95, 68.23333333333333),\n",
       "          (68.23333333333333, 68.65),\n",
       "          (68.65, 68.66666666666667),\n",
       "          (68.66666666666667, 68.68333333333334),\n",
       "          (68.68333333333334, 68.91666666666667),\n",
       "          (68.91666666666667, 69.18333333333334),\n",
       "          (69.18333333333334, 69.38333333333334),\n",
       "          (69.38333333333334, 69.55),\n",
       "          (69.55, 69.56666666666666),\n",
       "          (69.56666666666666, 69.76666666666667),\n",
       "          (69.76666666666667, 69.9),\n",
       "          (69.9, 70.58333333333333),\n",
       "          (70.58333333333333, 70.65),\n",
       "          (70.65, 70.66666666666667),\n",
       "          (70.66666666666667, 70.85),\n",
       "          (70.85, 71.15),\n",
       "          (71.15, 71.16666666666667),\n",
       "          (71.16666666666667, 71.58333333333333),\n",
       "          (71.58333333333333, 71.6),\n",
       "          (71.6, 71.85),\n",
       "          (71.85, 71.9),\n",
       "          (71.9, 71.91666666666667),\n",
       "          (71.91666666666667, 72.08333333333333),\n",
       "          (72.08333333333333, 72.1),\n",
       "          (72.1, 72.13333333333334),\n",
       "          (72.13333333333334, 72.83333333333333),\n",
       "          (72.83333333333333, 73.1),\n",
       "          (73.1, 74.23333333333333),\n",
       "          (74.23333333333333, 74.65),\n",
       "          (74.65, 74.66666666666667),\n",
       "          (74.66666666666667, 74.98333333333333),\n",
       "          (74.98333333333333, 75.0),\n",
       "          (75.0, 75.65),\n",
       "          (75.65, 75.9),\n",
       "          (75.9, 75.91666666666667),\n",
       "          (75.91666666666667, 76.65),\n",
       "          (76.65, 143.9)\n",
       "        ],\n",
       "        segmented_input=None,\n",
       "        segmented_proc=[\n",
       "          bool[51],\n",
       "          bool[51],\n",
       "          bool[51],\n",
       "          bool[51],\n",
       "          bool[51],\n",
       "          bool[51],\n",
       "          bool[51],\n",
       "          bool[51],\n",
       "          bool[51],\n",
       "          bool[51],\n",
       "          bool[51],\n",
       "          bool[51],\n",
       "          bool[51],\n",
       "          bool[51],\n",
       "          bool[51],\n",
       "          bool[51],\n",
       "          bool[51],\n",
       "          bool[51],\n",
       "          bool[51],\n",
       "          bool[51],\n",
       "          bool[51],\n",
       "          bool[51],\n",
       "          bool[51],\n",
       "          bool[51],\n",
       "          bool[51],\n",
       "          bool[51],\n",
       "          bool[51],\n",
       "          bool[51],\n",
       "          bool[51],\n",
       "          bool[51],\n",
       "          bool[51],\n",
       "          bool[51],\n",
       "          bool[51],\n",
       "          bool[51],\n",
       "          bool[51],\n",
       "          bool[51],\n",
       "          bool[51],\n",
       "          bool[51],\n",
       "          bool[51],\n",
       "          bool[51],\n",
       "          bool[51],\n",
       "          bool[51],\n",
       "          bool[51],\n",
       "          bool[51],\n",
       "          bool[51],\n",
       "          bool[51],\n",
       "          bool[51],\n",
       "          bool[51],\n",
       "          bool[51],\n",
       "          bool[51],\n",
       "          bool[51],\n",
       "          bool[51],\n",
       "          bool[51],\n",
       "          bool[51],\n",
       "          bool[51],\n",
       "          bool[51],\n",
       "          bool[51],\n",
       "          bool[51],\n",
       "          bool[51],\n",
       "          bool[51],\n",
       "          bool[51],\n",
       "          bool[51],\n",
       "          bool[51],\n",
       "          bool[51],\n",
       "          bool[51],\n",
       "          bool[51],\n",
       "          bool[51],\n",
       "          bool[51],\n",
       "          bool[51],\n",
       "          bool[51],\n",
       "          bool[51],\n",
       "          bool[51],\n",
       "          bool[51],\n",
       "          bool[51],\n",
       "          bool[51],\n",
       "          bool[51],\n",
       "          bool[51],\n",
       "          bool[51],\n",
       "          bool[51],\n",
       "          bool[51],\n",
       "          bool[51],\n",
       "          bool[51],\n",
       "          bool[51],\n",
       "          bool[51],\n",
       "          bool[51],\n",
       "          bool[51],\n",
       "          bool[51],\n",
       "          bool[51],\n",
       "          bool[51],\n",
       "          bool[51],\n",
       "          bool[51],\n",
       "          bool[51],\n",
       "          bool[51],\n",
       "          bool[51],\n",
       "          bool[51],\n",
       "          bool[51],\n",
       "          bool[51],\n",
       "          bool[51],\n",
       "          bool[51],\n",
       "          bool[51],\n",
       "          bool[51],\n",
       "          bool[51],\n",
       "          bool[51],\n",
       "          bool[51],\n",
       "          bool[51],\n",
       "          bool[51],\n",
       "          bool[51],\n",
       "          bool[51],\n",
       "          bool[51],\n",
       "          bool[51],\n",
       "          bool[51],\n",
       "          bool[51],\n",
       "          bool[51],\n",
       "          bool[51],\n",
       "          bool[51],\n",
       "          bool[51],\n",
       "          bool[51],\n",
       "          bool[51],\n",
       "          bool[51],\n",
       "          bool[51],\n",
       "          bool[51],\n",
       "          bool[51],\n",
       "          bool[51],\n",
       "          bool[51],\n",
       "          bool[51],\n",
       "          bool[51],\n",
       "          bool[51],\n",
       "          bool[51],\n",
       "          bool[51],\n",
       "          bool[51],\n",
       "          bool[51],\n",
       "          bool[51],\n",
       "          bool[51],\n",
       "          bool[51],\n",
       "          bool[51],\n",
       "          bool[51],\n",
       "          bool[51],\n",
       "          bool[51],\n",
       "          bool[51],\n",
       "          bool[51],\n",
       "          bool[51],\n",
       "          bool[51],\n",
       "          bool[51],\n",
       "          bool[51],\n",
       "          bool[51],\n",
       "          bool[51],\n",
       "          bool[51],\n",
       "          bool[51],\n",
       "          bool[51],\n",
       "          bool[51],\n",
       "          bool[51],\n",
       "          bool[51],\n",
       "          bool[51],\n",
       "          bool[51],\n",
       "          bool[51],\n",
       "          bool[51],\n",
       "          bool[51],\n",
       "          bool[51],\n",
       "          bool[51],\n",
       "          bool[51],\n",
       "          bool[51]\n",
       "        ]\n",
       "      )\n",
       "    )\n",
       "  ]\n",
       ")"
      ]
     },
     "execution_count": 20,
     "metadata": {},
     "output_type": "execute_result"
    }
   ],
   "source": [
    "s"
   ]
  },
  {
   "cell_type": "code",
   "execution_count": 21,
   "id": "0625e61c",
   "metadata": {},
   "outputs": [
    {
     "name": "stderr",
     "output_type": "stream",
     "text": [
      "/home/asem/GP/env/icenode-dev/lib/python3.9/site-packages/jax/_src/numpy/lax_numpy.py:3662: UserWarning: 'kind' argument to argsort is ignored; only 'stable' sorts are supported.\n",
      "  warnings.warn(\"'kind' argument to argsort is ignored; only 'stable' sorts \"\n"
     ]
    },
    {
     "data": {
      "text/plain": [
       "[Array([   0,    1,    2, ..., 1376, 1618, 1511], dtype=int32),\n",
       " Array([2039, 1591, 1989, 1817, 1414, 1419, 1897, 1478, 1424,  374, 1861,\n",
       "        1402,  382, 1486, 1946, 1405,  380, 1606, 1830,  367, 1592, 1959,\n",
       "        1596, 1811, 1862, 1885, 1950, 1504, 1466, 1417, 1412, 1422, 1549,\n",
       "        1392, 1395, 1398, 1616, 1401, 1562, 1404, 1607, 1810], dtype=int32),\n",
       " Array([1621, 1516, 1550, 1958, 1489, 1615, 1828, 1408, 1620, 1791, 1894,\n",
       "        1835, 1961, 1482, 1631], dtype=int32),\n",
       " Array([1852, 1962, 2061, 1407, 1386, 1387, 1954], dtype=int32),\n",
       " Array([1595, 1490, 1610, 1388], dtype=int32)]"
      ]
     },
     "execution_count": 21,
     "metadata": {},
     "output_type": "execute_result"
    }
   ],
   "source": [
    "m4inaptients_jax.outcome_frequency_partitions(5, splits[0])"
   ]
  },
  {
   "cell_type": "code",
   "execution_count": 22,
   "id": "004f482e",
   "metadata": {},
   "outputs": [
    {
     "data": {
      "text/plain": [
       "Array([0.65], dtype=float32)"
      ]
     },
     "execution_count": 22,
     "metadata": {},
     "output_type": "execute_result"
    }
   ],
   "source": [
    "s.admissions[0].observables[4].time"
   ]
  },
  {
   "cell_type": "code",
   "execution_count": 23,
   "id": "544c4103",
   "metadata": {},
   "outputs": [
    {
     "data": {
      "text/plain": [
       "InpatientStaticInfo(\n",
       "  gender='M',\n",
       "  date_of_birth=Timestamp('2136-01-01 00:00:00'),\n",
       "  ethnicity=bool[5],\n",
       "  ethnicity_scheme=<lib.ehr.coding_scheme.MIMIC4Eth5 object at 0x7f5cb5075c40>,\n",
       "  constant_vec=bool[6]\n",
       ")"
      ]
     },
     "execution_count": 23,
     "metadata": {},
     "output_type": "execute_result"
    }
   ],
   "source": [
    "s.static_info"
   ]
  },
  {
   "cell_type": "code",
   "execution_count": 24,
   "id": "373c106f",
   "metadata": {},
   "outputs": [
    {
     "data": {
      "text/plain": [
       "45.073237508555785"
      ]
     },
     "execution_count": 24,
     "metadata": {},
     "output_type": "execute_result"
    }
   ],
   "source": [
    "s.static_info.age(s.admissions[0].admission_dates[0])"
   ]
  },
  {
   "cell_type": "markdown",
   "id": "a4d9f714",
   "metadata": {},
   "source": [
    "### التدريب على نموذج المعادلات التفاضلية الاعتيادية العصبية\n"
   ]
  },
  {
   "cell_type": "code",
   "execution_count": 25,
   "id": "d3af2c93",
   "metadata": {},
   "outputs": [
    {
     "name": "stderr",
     "output_type": "stream",
     "text": [
      "/home/asem/GP/env/icenode-dev/lib/python3.9/site-packages/equinox/_ad.py:753: UserWarning: As of Equinox 0.10.7, `equinox.filter_custom_vjp.defvjp` is deprecated in favour of `.def_fwd` and `.def_bwd`. This new API supports symbolic zeros, which allow for more efficient autodifferentiation rules. In particular:\n",
      "- the fwd and bwd functions take an extra `perturbed` argument, which     indicates which primals actually need a gradient. You can use this     to skip computing the gradient for any unperturbed value. (You can     also safely just ignore this if you wish.)\n",
      "- `None` was previously passed to indicate a symbolic zero gradient for     all objects that weren't inexact arrays, but all inexact arrays     always had an array-valued gradient. Now, `None` may also be passed     to indicate that an inexact array has a symbolic zero gradient.\n",
      "  warnings.warn(\n"
     ]
    }
   ],
   "source": [
    "from lib.ml.in_icenode import InICENODE, InICENODEDimensions\n",
    "import jax.random as jrandom"
   ]
  },
  {
   "cell_type": "code",
   "execution_count": 34,
   "id": "77b0df79",
   "metadata": {},
   "outputs": [],
   "source": [
    "dims = InICENODEDimensions(state_m=15, \n",
    "                state_dx_e=10,\n",
    "                state_obs_e=25,\n",
    "                input_e=10,\n",
    "                proc_e=10,\n",
    "                demo_e=5,\n",
    "                int_e=15)\n",
    "key = jrandom.PRNGKey(0)\n",
    "\n",
    "m = InICENODE(dims=dims, \n",
    "              scheme=m4inpatient_dataset.scheme,\n",
    "              key=key)"
   ]
  },
  {
   "cell_type": "code",
   "execution_count": 37,
   "id": "4ed1842e",
   "metadata": {},
   "outputs": [
    {
     "name": "stderr",
     "output_type": "stream",
     "text": [
      "  0%|                                                                           | 1.65/3986.9999999999995 [00:00<01:50, 36.05it/s]"
     ]
    },
    {
     "name": "stdout",
     "output_type": "stream",
     "text": [
      "0.06666664282480872 <class 'float'>\n",
      "-2.3841857821338408e-08 <class 'float'>\n"
     ]
    },
    {
     "name": "stderr",
     "output_type": "stream",
     "text": [
      "\n"
     ]
    },
    {
     "ename": "XlaRuntimeError",
     "evalue": "INTERNAL: Generated function failed: CpuCallback error: RuntimeError: Must have (t1 - t0) * dt0 >= 0, we instead got t1 with value Traced<ShapedArray(float32[])>with<DynamicJaxprTrace(level=2/0)> and type <class 'jax._src.interpreters.partial_eval.DynamicJaxprTracer'>, t0 with value Traced<ShapedArray(float32[])>with<DynamicJaxprTrace(level=2/0)> and type <class 'jax._src.interpreters.partial_eval.DynamicJaxprTracer'>, dt0 with value Traced<ShapedArray(float32[])>with<DynamicJaxprTrace(level=2/0)> and type <class 'jax._src.interpreters.partial_eval.DynamicJaxprTracer'>\n\nAt:\n  /home/asem/GP/env/icenode-dev/lib/python3.9/site-packages/equinox/_errors.py(56): raises\n  /home/asem/GP/env/icenode-dev/lib/python3.9/site-packages/jax/_src/callback.py(186): _flat_callback\n  /home/asem/GP/env/icenode-dev/lib/python3.9/site-packages/jax/_src/callback.py(46): pure_callback_impl\n  /home/asem/GP/env/icenode-dev/lib/python3.9/site-packages/jax/_src/callback.py(108): _callback\n  /home/asem/GP/env/icenode-dev/lib/python3.9/site-packages/jax/_src/interpreters/mlir.py(1964): _wrapped_callback\n  /home/asem/GP/env/icenode-dev/lib/python3.9/site-packages/jax/_src/interpreters/pxla.py(1229): __call__\n  /home/asem/GP/env/icenode-dev/lib/python3.9/site-packages/jax/_src/profiler.py(314): wrapper\n  /home/asem/GP/env/icenode-dev/lib/python3.9/site-packages/jax/_src/pjit.py(1148): _pjit_call_impl_python\n  /home/asem/GP/env/icenode-dev/lib/python3.9/site-packages/jax/_src/pjit.py(1192): call_impl_cache_miss\n  /home/asem/GP/env/icenode-dev/lib/python3.9/site-packages/jax/_src/pjit.py(1209): _pjit_call_impl\n  /home/asem/GP/env/icenode-dev/lib/python3.9/site-packages/jax/_src/core.py(821): process_primitive\n  /home/asem/GP/env/icenode-dev/lib/python3.9/site-packages/jax/_src/core.py(389): bind_with_trace\n  /home/asem/GP/env/icenode-dev/lib/python3.9/site-packages/jax/_src/core.py(2596): bind\n  /home/asem/GP/env/icenode-dev/lib/python3.9/site-packages/jax/_src/pjit.py(166): _python_pjit_helper\n  /home/asem/GP/env/icenode-dev/lib/python3.9/site-packages/jax/_src/pjit.py(253): cache_miss\n  /home/asem/GP/env/icenode-dev/lib/python3.9/site-packages/jax/_src/traceback_util.py(166): reraise_with_filtered_traceback\n  /home/asem/GP/env/icenode-dev/lib/python3.9/site-packages/equinox/_jit.py(103): _call\n  /home/asem/GP/env/icenode-dev/lib/python3.9/site-packages/equinox/_jit.py(107): __call__\n  /home/asem/GP/env/icenode-dev/lib/python3.9/site-packages/equinox/_module.py(522): __call__\n  /home/asem/GP/ICENODE/notebooks/mimic_icu/../../lib/ml/in_icenode.py(203): step_segment\n  /home/asem/GP/ICENODE/notebooks/mimic_icu/../../lib/ml/in_icenode.py(229): __call__\n  /home/asem/GP/ICENODE/notebooks/mimic_icu/../../lib/ml/in_icenode.py(252): batch_predict\n  /tmp/ipykernel_104230/2853606103.py(1): <module>\n  /home/asem/GP/env/icenode-dev/lib/python3.9/site-packages/IPython/core/interactiveshell.py(3505): run_code\n  /home/asem/GP/env/icenode-dev/lib/python3.9/site-packages/IPython/core/interactiveshell.py(3445): run_ast_nodes\n  /home/asem/GP/env/icenode-dev/lib/python3.9/site-packages/IPython/core/interactiveshell.py(3266): run_cell_async\n  /home/asem/GP/env/icenode-dev/lib/python3.9/site-packages/IPython/core/async_helpers.py(129): _pseudo_sync_runner\n  /home/asem/GP/env/icenode-dev/lib/python3.9/site-packages/IPython/core/interactiveshell.py(3061): _run_cell\n  /home/asem/GP/env/icenode-dev/lib/python3.9/site-packages/IPython/core/interactiveshell.py(3006): run_cell\n  /home/asem/GP/env/icenode-dev/lib/python3.9/site-packages/ipykernel/zmqshell.py(531): run_cell\n  /home/asem/GP/env/icenode-dev/lib/python3.9/site-packages/ipykernel/ipkernel.py(411): do_execute\n  /home/asem/GP/env/icenode-dev/lib/python3.9/site-packages/ipykernel/kernelbase.py(729): execute_request\n  /home/asem/GP/env/icenode-dev/lib/python3.9/site-packages/ipykernel/kernelbase.py(406): dispatch_shell\n  /home/asem/GP/env/icenode-dev/lib/python3.9/site-packages/ipykernel/kernelbase.py(499): process_one\n  /home/asem/GP/env/icenode-dev/lib/python3.9/site-packages/ipykernel/kernelbase.py(510): dispatch_queue\n  /home/asem/GP/env/icenode-dev/lib/python3.9/asyncio/events.py(80): _run\n  /home/asem/GP/env/icenode-dev/lib/python3.9/asyncio/base_events.py(1905): _run_once\n  /home/asem/GP/env/icenode-dev/lib/python3.9/asyncio/base_events.py(601): run_forever\n  /home/asem/GP/env/icenode-dev/lib/python3.9/site-packages/tornado/platform/asyncio.py(215): start\n  /home/asem/GP/env/icenode-dev/lib/python3.9/site-packages/ipykernel/kernelapp.py(711): start\n  /home/asem/GP/env/icenode-dev/lib/python3.9/site-packages/traitlets/config/application.py(992): launch_instance\n  /home/asem/GP/env/icenode-dev/lib/python3.9/site-packages/ipykernel_launcher.py(17): <module>\n  /home/asem/GP/env/icenode-dev/lib/python3.9/runpy.py(87): _run_code\n  /home/asem/GP/env/icenode-dev/lib/python3.9/runpy.py(197): _run_module_as_main\n",
     "output_type": "error",
     "traceback": [
      "\u001b[0;31m---------------------------------------------------------------------------\u001b[0m",
      "\u001b[0;31mXlaRuntimeError\u001b[0m                           Traceback (most recent call last)",
      "Cell \u001b[0;32mIn[37], line 1\u001b[0m\n\u001b[0;32m----> 1\u001b[0m \u001b[43mm\u001b[49m\u001b[38;5;241;43m.\u001b[39;49m\u001b[43mbatch_predict\u001b[49m\u001b[43m(\u001b[49m\u001b[43mm4inaptients_jax\u001b[49m\u001b[43m,\u001b[49m\u001b[43m \u001b[49m\u001b[43msplits\u001b[49m\u001b[43m[\u001b[49m\u001b[38;5;241;43m0\u001b[39;49m\u001b[43m]\u001b[49m\u001b[43m[\u001b[49m\u001b[43m:\u001b[49m\u001b[38;5;241;43m10\u001b[39;49m\u001b[43m]\u001b[49m\u001b[43m)\u001b[49m\n",
      "File \u001b[0;32m~/GP/ICENODE/notebooks/mimic_icu/../../lib/ml/in_icenode.py:252\u001b[0m, in \u001b[0;36mInICENODE.batch_predict\u001b[0;34m(self, inpatients, subjects_batch)\u001b[0m\n\u001b[1;32m    247\u001b[0m     embedded_admissions \u001b[38;5;241m=\u001b[39m inpatients_emb[i]\n\u001b[1;32m    248\u001b[0m     \u001b[38;5;28;01mfor\u001b[39;00m adm, adm_e \u001b[38;5;129;01min\u001b[39;00m \u001b[38;5;28mzip\u001b[39m(inpatient\u001b[38;5;241m.\u001b[39madmissions,\n\u001b[1;32m    249\u001b[0m                           embedded_admissions):\n\u001b[1;32m    250\u001b[0m         results\u001b[38;5;241m.\u001b[39madd(subject_id\u001b[38;5;241m=\u001b[39mi,\n\u001b[1;32m    251\u001b[0m                     admission\u001b[38;5;241m=\u001b[39madm,\n\u001b[0;32m--> 252\u001b[0m                     prediction\u001b[38;5;241m=\u001b[39m\u001b[38;5;28;43mself\u001b[39;49m\u001b[43m(\u001b[49m\u001b[43madm\u001b[49m\u001b[43m,\u001b[49m\u001b[43m \u001b[49m\u001b[43madm_e\u001b[49m\u001b[43m,\u001b[49m\u001b[43m \u001b[49m\u001b[43mpbar\u001b[49m\u001b[38;5;241;43m.\u001b[39;49m\u001b[43mupdate\u001b[49m\u001b[43m)\u001b[49m)\n\u001b[1;32m    253\u001b[0m \u001b[38;5;28;01mreturn\u001b[39;00m results\n",
      "File \u001b[0;32m~/GP/ICENODE/notebooks/mimic_icu/../../lib/ml/in_icenode.py:229\u001b[0m, in \u001b[0;36mInICENODE.__call__\u001b[0;34m(self, admission, embedded_admission, progress_update)\u001b[0m\n\u001b[1;32m    227\u001b[0m \u001b[38;5;28;01mfor\u001b[39;00m i \u001b[38;5;129;01min\u001b[39;00m \u001b[38;5;28mrange\u001b[39m(\u001b[38;5;28mlen\u001b[39m(int_e)):\n\u001b[1;32m    228\u001b[0m     t \u001b[38;5;241m=\u001b[39m admission\u001b[38;5;241m.\u001b[39minterventions\u001b[38;5;241m.\u001b[39mtime[i]\n\u001b[0;32m--> 229\u001b[0m     state, pred_obs \u001b[38;5;241m=\u001b[39m \u001b[38;5;28;43mself\u001b[39;49m\u001b[38;5;241;43m.\u001b[39;49m\u001b[43mstep_segment\u001b[49m\u001b[43m(\u001b[49m\u001b[43mstate\u001b[49m\u001b[43m,\u001b[49m\u001b[43m \u001b[49m\u001b[43mint_e\u001b[49m\u001b[43m[\u001b[49m\u001b[43mi\u001b[49m\u001b[43m]\u001b[49m\u001b[43m,\u001b[49m\u001b[43m \u001b[49m\u001b[43mobs\u001b[49m\u001b[43m[\u001b[49m\u001b[43mi\u001b[49m\u001b[43m]\u001b[49m\u001b[43m,\u001b[49m\u001b[43m \u001b[49m\u001b[38;5;241;43m*\u001b[39;49m\u001b[43mt\u001b[49m\u001b[43m)\u001b[49m\n\u001b[1;32m    230\u001b[0m     pred_obs_l\u001b[38;5;241m.\u001b[39mappend(pred_obs)\n\u001b[1;32m    231\u001b[0m     progress_update(t[\u001b[38;5;241m1\u001b[39m] \u001b[38;5;241m-\u001b[39m t[\u001b[38;5;241m0\u001b[39m])\n",
      "File \u001b[0;32m~/GP/ICENODE/notebooks/mimic_icu/../../lib/ml/in_icenode.py:203\u001b[0m, in \u001b[0;36mInICENODE.step_segment\u001b[0;34m(self, state, int_e, obs, t0, t1)\u001b[0m\n\u001b[1;32m    201\u001b[0m dt \u001b[38;5;241m=\u001b[39m to\u001b[38;5;241m.\u001b[39mitem() \u001b[38;5;241m-\u001b[39m t\n\u001b[1;32m    202\u001b[0m \u001b[38;5;28mprint\u001b[39m(dt, \u001b[38;5;28mtype\u001b[39m(dt))\n\u001b[0;32m--> 203\u001b[0m state \u001b[38;5;241m=\u001b[39m \u001b[38;5;28;43mself\u001b[39;49m\u001b[38;5;241;43m.\u001b[39;49m\u001b[43mf_dyn\u001b[49m\u001b[43m(\u001b[49m\u001b[43mdt\u001b[49m\u001b[43m,\u001b[49m\u001b[43m \u001b[49m\u001b[43mstate\u001b[49m\u001b[43m,\u001b[49m\u001b[43m \u001b[49m\u001b[43margs\u001b[49m\u001b[38;5;241;43m=\u001b[39;49m\u001b[38;5;28;43mdict\u001b[39;49m\u001b[43m(\u001b[49m\u001b[43mcontrol\u001b[49m\u001b[38;5;241;43m=\u001b[39;49m\u001b[43mint_e\u001b[49m\u001b[43m)\u001b[49m\u001b[43m)\u001b[49m[\u001b[38;5;241m-\u001b[39m\u001b[38;5;241m1\u001b[39m]\n\u001b[1;32m    204\u001b[0m _1, obs_e, _2 \u001b[38;5;241m=\u001b[39m \u001b[38;5;28mself\u001b[39m\u001b[38;5;241m.\u001b[39msplit_state(state)\n\u001b[1;32m    205\u001b[0m pred_obs \u001b[38;5;241m=\u001b[39m \u001b[38;5;28mself\u001b[39m\u001b[38;5;241m.\u001b[39mf_obs_dec(obs_e)\n",
      "File \u001b[0;32m~/GP/env/icenode-dev/lib/python3.9/site-packages/equinox/_module.py:522\u001b[0m, in \u001b[0;36mPartial.__call__\u001b[0;34m(self, *args, **kwargs)\u001b[0m\n\u001b[1;32m    509\u001b[0m \u001b[38;5;28;01mdef\u001b[39;00m \u001b[38;5;21m__call__\u001b[39m(\u001b[38;5;28mself\u001b[39m, \u001b[38;5;241m*\u001b[39margs, \u001b[38;5;241m*\u001b[39m\u001b[38;5;241m*\u001b[39mkwargs):\n\u001b[1;32m    510\u001b[0m \u001b[38;5;250m    \u001b[39m\u001b[38;5;124;03m\"\"\"Call the wrapped `self.func`.\u001b[39;00m\n\u001b[1;32m    511\u001b[0m \n\u001b[1;32m    512\u001b[0m \u001b[38;5;124;03m    **Arguments:**\u001b[39;00m\n\u001b[0;32m   (...)\u001b[0m\n\u001b[1;32m    520\u001b[0m \u001b[38;5;124;03m    The result of the wrapped function.\u001b[39;00m\n\u001b[1;32m    521\u001b[0m \u001b[38;5;124;03m    \"\"\"\u001b[39;00m\n\u001b[0;32m--> 522\u001b[0m     \u001b[38;5;28;01mreturn\u001b[39;00m \u001b[38;5;28;43mself\u001b[39;49m\u001b[38;5;241;43m.\u001b[39;49m\u001b[43mfunc\u001b[49m\u001b[43m(\u001b[49m\u001b[38;5;241;43m*\u001b[39;49m\u001b[38;5;28;43mself\u001b[39;49m\u001b[38;5;241;43m.\u001b[39;49m\u001b[43margs\u001b[49m\u001b[43m,\u001b[49m\u001b[43m \u001b[49m\u001b[38;5;241;43m*\u001b[39;49m\u001b[43margs\u001b[49m\u001b[43m,\u001b[49m\u001b[43m \u001b[49m\u001b[38;5;241;43m*\u001b[39;49m\u001b[38;5;241;43m*\u001b[39;49m\u001b[43mkwargs\u001b[49m\u001b[43m,\u001b[49m\u001b[43m \u001b[49m\u001b[38;5;241;43m*\u001b[39;49m\u001b[38;5;241;43m*\u001b[39;49m\u001b[38;5;28;43mself\u001b[39;49m\u001b[38;5;241;43m.\u001b[39;49m\u001b[43mkeywords\u001b[49m\u001b[43m)\u001b[49m\n",
      "File \u001b[0;32m~/GP/env/icenode-dev/lib/python3.9/site-packages/equinox/_jit.py:107\u001b[0m, in \u001b[0;36m_JitWrapper.__call__\u001b[0;34m(self, *args, **kwargs)\u001b[0m\n\u001b[1;32m    106\u001b[0m \u001b[38;5;28;01mdef\u001b[39;00m \u001b[38;5;21m__call__\u001b[39m(\u001b[38;5;28mself\u001b[39m, \u001b[38;5;241m/\u001b[39m, \u001b[38;5;241m*\u001b[39margs, \u001b[38;5;241m*\u001b[39m\u001b[38;5;241m*\u001b[39mkwargs):\n\u001b[0;32m--> 107\u001b[0m     \u001b[38;5;28;01mreturn\u001b[39;00m \u001b[38;5;28;43mself\u001b[39;49m\u001b[38;5;241;43m.\u001b[39;49m\u001b[43m_call\u001b[49m\u001b[43m(\u001b[49m\u001b[38;5;28;43;01mFalse\u001b[39;49;00m\u001b[43m,\u001b[49m\u001b[43m \u001b[49m\u001b[43margs\u001b[49m\u001b[43m,\u001b[49m\u001b[43m \u001b[49m\u001b[43mkwargs\u001b[49m\u001b[43m)\u001b[49m\n",
      "File \u001b[0;32m~/GP/env/icenode-dev/lib/python3.9/site-packages/equinox/_jit.py:103\u001b[0m, in \u001b[0;36m_JitWrapper._call\u001b[0;34m(self, is_lower, args, kwargs)\u001b[0m\n\u001b[1;32m    101\u001b[0m         out \u001b[38;5;241m=\u001b[39m \u001b[38;5;28mself\u001b[39m\u001b[38;5;241m.\u001b[39m_cached(dynamic, static)\n\u001b[1;32m    102\u001b[0m \u001b[38;5;28;01melse\u001b[39;00m:\n\u001b[0;32m--> 103\u001b[0m     out \u001b[38;5;241m=\u001b[39m \u001b[38;5;28;43mself\u001b[39;49m\u001b[38;5;241;43m.\u001b[39;49m\u001b[43m_cached\u001b[49m\u001b[43m(\u001b[49m\u001b[43mdynamic\u001b[49m\u001b[43m,\u001b[49m\u001b[43m \u001b[49m\u001b[43mstatic\u001b[49m\u001b[43m)\u001b[49m\n\u001b[1;32m    104\u001b[0m \u001b[38;5;28;01mreturn\u001b[39;00m _postprocess(out)\n",
      "    \u001b[0;31m[... skipping hidden 10 frame]\u001b[0m\n",
      "File \u001b[0;32m~/GP/env/icenode-dev/lib/python3.9/site-packages/jax/_src/interpreters/pxla.py:1229\u001b[0m, in \u001b[0;36mExecuteReplicated.__call__\u001b[0;34m(self, *args)\u001b[0m\n\u001b[1;32m   1224\u001b[0m   \u001b[38;5;28mself\u001b[39m\u001b[38;5;241m.\u001b[39m_handle_token_bufs(\n\u001b[1;32m   1225\u001b[0m       results\u001b[38;5;241m.\u001b[39mdisassemble_prefix_into_single_device_arrays(\n\u001b[1;32m   1226\u001b[0m           \u001b[38;5;28mlen\u001b[39m(\u001b[38;5;28mself\u001b[39m\u001b[38;5;241m.\u001b[39mordered_effects)),\n\u001b[1;32m   1227\u001b[0m       results\u001b[38;5;241m.\u001b[39mconsume_token())\n\u001b[1;32m   1228\u001b[0m \u001b[38;5;28;01melse\u001b[39;00m:\n\u001b[0;32m-> 1229\u001b[0m   results \u001b[38;5;241m=\u001b[39m \u001b[38;5;28;43mself\u001b[39;49m\u001b[38;5;241;43m.\u001b[39;49m\u001b[43mxla_executable\u001b[49m\u001b[38;5;241;43m.\u001b[39;49m\u001b[43mexecute_sharded\u001b[49m\u001b[43m(\u001b[49m\u001b[43minput_bufs\u001b[49m\u001b[43m)\u001b[49m\n\u001b[1;32m   1230\u001b[0m \u001b[38;5;28;01mif\u001b[39;00m dispatch\u001b[38;5;241m.\u001b[39mneeds_check_special():\n\u001b[1;32m   1231\u001b[0m   out_arrays \u001b[38;5;241m=\u001b[39m results\u001b[38;5;241m.\u001b[39mdisassemble_into_single_device_arrays()\n",
      "\u001b[0;31mXlaRuntimeError\u001b[0m: INTERNAL: Generated function failed: CpuCallback error: RuntimeError: Must have (t1 - t0) * dt0 >= 0, we instead got t1 with value Traced<ShapedArray(float32[])>with<DynamicJaxprTrace(level=2/0)> and type <class 'jax._src.interpreters.partial_eval.DynamicJaxprTracer'>, t0 with value Traced<ShapedArray(float32[])>with<DynamicJaxprTrace(level=2/0)> and type <class 'jax._src.interpreters.partial_eval.DynamicJaxprTracer'>, dt0 with value Traced<ShapedArray(float32[])>with<DynamicJaxprTrace(level=2/0)> and type <class 'jax._src.interpreters.partial_eval.DynamicJaxprTracer'>\n\nAt:\n  /home/asem/GP/env/icenode-dev/lib/python3.9/site-packages/equinox/_errors.py(56): raises\n  /home/asem/GP/env/icenode-dev/lib/python3.9/site-packages/jax/_src/callback.py(186): _flat_callback\n  /home/asem/GP/env/icenode-dev/lib/python3.9/site-packages/jax/_src/callback.py(46): pure_callback_impl\n  /home/asem/GP/env/icenode-dev/lib/python3.9/site-packages/jax/_src/callback.py(108): _callback\n  /home/asem/GP/env/icenode-dev/lib/python3.9/site-packages/jax/_src/interpreters/mlir.py(1964): _wrapped_callback\n  /home/asem/GP/env/icenode-dev/lib/python3.9/site-packages/jax/_src/interpreters/pxla.py(1229): __call__\n  /home/asem/GP/env/icenode-dev/lib/python3.9/site-packages/jax/_src/profiler.py(314): wrapper\n  /home/asem/GP/env/icenode-dev/lib/python3.9/site-packages/jax/_src/pjit.py(1148): _pjit_call_impl_python\n  /home/asem/GP/env/icenode-dev/lib/python3.9/site-packages/jax/_src/pjit.py(1192): call_impl_cache_miss\n  /home/asem/GP/env/icenode-dev/lib/python3.9/site-packages/jax/_src/pjit.py(1209): _pjit_call_impl\n  /home/asem/GP/env/icenode-dev/lib/python3.9/site-packages/jax/_src/core.py(821): process_primitive\n  /home/asem/GP/env/icenode-dev/lib/python3.9/site-packages/jax/_src/core.py(389): bind_with_trace\n  /home/asem/GP/env/icenode-dev/lib/python3.9/site-packages/jax/_src/core.py(2596): bind\n  /home/asem/GP/env/icenode-dev/lib/python3.9/site-packages/jax/_src/pjit.py(166): _python_pjit_helper\n  /home/asem/GP/env/icenode-dev/lib/python3.9/site-packages/jax/_src/pjit.py(253): cache_miss\n  /home/asem/GP/env/icenode-dev/lib/python3.9/site-packages/jax/_src/traceback_util.py(166): reraise_with_filtered_traceback\n  /home/asem/GP/env/icenode-dev/lib/python3.9/site-packages/equinox/_jit.py(103): _call\n  /home/asem/GP/env/icenode-dev/lib/python3.9/site-packages/equinox/_jit.py(107): __call__\n  /home/asem/GP/env/icenode-dev/lib/python3.9/site-packages/equinox/_module.py(522): __call__\n  /home/asem/GP/ICENODE/notebooks/mimic_icu/../../lib/ml/in_icenode.py(203): step_segment\n  /home/asem/GP/ICENODE/notebooks/mimic_icu/../../lib/ml/in_icenode.py(229): __call__\n  /home/asem/GP/ICENODE/notebooks/mimic_icu/../../lib/ml/in_icenode.py(252): batch_predict\n  /tmp/ipykernel_104230/2853606103.py(1): <module>\n  /home/asem/GP/env/icenode-dev/lib/python3.9/site-packages/IPython/core/interactiveshell.py(3505): run_code\n  /home/asem/GP/env/icenode-dev/lib/python3.9/site-packages/IPython/core/interactiveshell.py(3445): run_ast_nodes\n  /home/asem/GP/env/icenode-dev/lib/python3.9/site-packages/IPython/core/interactiveshell.py(3266): run_cell_async\n  /home/asem/GP/env/icenode-dev/lib/python3.9/site-packages/IPython/core/async_helpers.py(129): _pseudo_sync_runner\n  /home/asem/GP/env/icenode-dev/lib/python3.9/site-packages/IPython/core/interactiveshell.py(3061): _run_cell\n  /home/asem/GP/env/icenode-dev/lib/python3.9/site-packages/IPython/core/interactiveshell.py(3006): run_cell\n  /home/asem/GP/env/icenode-dev/lib/python3.9/site-packages/ipykernel/zmqshell.py(531): run_cell\n  /home/asem/GP/env/icenode-dev/lib/python3.9/site-packages/ipykernel/ipkernel.py(411): do_execute\n  /home/asem/GP/env/icenode-dev/lib/python3.9/site-packages/ipykernel/kernelbase.py(729): execute_request\n  /home/asem/GP/env/icenode-dev/lib/python3.9/site-packages/ipykernel/kernelbase.py(406): dispatch_shell\n  /home/asem/GP/env/icenode-dev/lib/python3.9/site-packages/ipykernel/kernelbase.py(499): process_one\n  /home/asem/GP/env/icenode-dev/lib/python3.9/site-packages/ipykernel/kernelbase.py(510): dispatch_queue\n  /home/asem/GP/env/icenode-dev/lib/python3.9/asyncio/events.py(80): _run\n  /home/asem/GP/env/icenode-dev/lib/python3.9/asyncio/base_events.py(1905): _run_once\n  /home/asem/GP/env/icenode-dev/lib/python3.9/asyncio/base_events.py(601): run_forever\n  /home/asem/GP/env/icenode-dev/lib/python3.9/site-packages/tornado/platform/asyncio.py(215): start\n  /home/asem/GP/env/icenode-dev/lib/python3.9/site-packages/ipykernel/kernelapp.py(711): start\n  /home/asem/GP/env/icenode-dev/lib/python3.9/site-packages/traitlets/config/application.py(992): launch_instance\n  /home/asem/GP/env/icenode-dev/lib/python3.9/site-packages/ipykernel_launcher.py(17): <module>\n  /home/asem/GP/env/icenode-dev/lib/python3.9/runpy.py(87): _run_code\n  /home/asem/GP/env/icenode-dev/lib/python3.9/runpy.py(197): _run_module_as_main\n"
     ]
    }
   ],
   "source": [
    "m.batch_predict(m4inaptients_jax, splits[0][:10])"
   ]
  },
  {
   "cell_type": "code",
   "execution_count": 43,
   "id": "09ef9c7d",
   "metadata": {},
   "outputs": [
    {
     "data": {
      "text/plain": [
       "-22.683333333333334"
      ]
     },
     "execution_count": 43,
     "metadata": {},
     "output_type": "execute_result"
    }
   ],
   "source": [
    "m4inpatient_dataset.df['adm']['adm_interval'].min()"
   ]
  },
  {
   "cell_type": "code",
   "execution_count": null,
   "id": "ccb4c827",
   "metadata": {},
   "outputs": [],
   "source": [
    "## Check sorted!\n",
    "## NOOOOOO, remove subjects with at least one adm_interval of negative values."
   ]
  },
  {
   "cell_type": "code",
   "execution_count": null,
   "id": "02911d60",
   "metadata": {},
   "outputs": [],
   "source": []
  }
 ],
 "metadata": {
  "kernelspec": {
   "display_name": "Python 3 (ipykernel)",
   "language": "python",
   "name": "python3"
  },
  "language_info": {
   "codemirror_mode": {
    "name": "ipython",
    "version": 3
   },
   "file_extension": ".py",
   "mimetype": "text/x-python",
   "name": "python",
   "nbconvert_exporter": "python",
   "pygments_lexer": "ipython3",
   "version": "3.9.17"
  }
 },
 "nbformat": 4,
 "nbformat_minor": 5
}
