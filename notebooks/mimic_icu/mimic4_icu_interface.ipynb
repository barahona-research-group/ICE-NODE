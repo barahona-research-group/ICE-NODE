{
 "cells": [
  {
   "cell_type": "code",
   "execution_count": 1,
   "id": "ab383786",
   "metadata": {},
   "outputs": [],
   "source": [
    "%load_ext autoreload\n",
    "%autoreload 2\n",
    "import sys\n",
    "import os\n",
    "import glob\n",
    "import random\n",
    "from collections import defaultdict\n",
    "from pathlib import Path\n",
    "\n",
    "from IPython.display import display\n",
    "\n",
    "import pandas as pd\n",
    "\n",
    "from tqdm import tqdm\n",
    "import jax\n",
    "jax.config.update('jax_platform_name', 'gpu')\n",
    "# jax.config.update('jax_log_compiles', True)\n",
    "# jax.config.update(\"jax_debug_nans\", True)\n",
    "# jax.config.update(\"jax_enable_x64\", True)"
   ]
  },
  {
   "cell_type": "code",
   "execution_count": 2,
   "id": "c83480cb",
   "metadata": {},
   "outputs": [],
   "source": [
    "\n",
    "\n",
    "sys.path.append(\"../..\")\n",
    "\n",
    "from lib import utils as U\n",
    "from lib.ehr.dataset import load_dataset, load_dataset_scheme\n",
    "from lib.ehr.interface import Patients\n"
   ]
  },
  {
   "cell_type": "code",
   "execution_count": 3,
   "id": "756814ea",
   "metadata": {},
   "outputs": [],
   "source": [
    "# scheme = load_dataset_scheme('M4ICU')"
   ]
  },
  {
   "cell_type": "code",
   "execution_count": 4,
   "id": "99451f48",
   "metadata": {},
   "outputs": [],
   "source": [
    "import logging\n",
    "logging.root.level = logging.DEBUG"
   ]
  },
  {
   "cell_type": "code",
   "execution_count": 5,
   "id": "fc796475",
   "metadata": {},
   "outputs": [],
   "source": [
    "# from lib.ehr.coding_scheme import MIMIC4Procedures, MIMIC4ProcedureGroups\n",
    "# from lib.ehr.coding_scheme import MIMIC4Input, MIMIC4InputGroups\n",
    "\n",
    "# cproc = MIMIC4Procedures()\n",
    "# cproc_g = MIMIC4ProcedureGroups()\n",
    "# cinp = MIMIC4Input()\n",
    "# cinp_g = MIMIC4InputGroups()"
   ]
  },
  {
   "cell_type": "code",
   "execution_count": 6,
   "id": "0da45b5c",
   "metadata": {},
   "outputs": [
    {
     "name": "stderr",
     "output_type": "stream",
     "text": [
      "DEBUG:root:Loading dataframe files\n",
      "DEBUG:fsspec.local:open file: /home/asem/GP/ehr-data/mimic4icu-cohort/adm_df.csv\n",
      "DEBUG:fsspec.local:open file: /home/asem/GP/ehr-data/mimic4icu-cohort/dx_df.csv\n",
      "DEBUG:fsspec.local:open file: /home/asem/GP/ehr-data/mimic4icu-cohort/static_df.csv\n",
      "DEBUG:fsspec.local:open file: /home/asem/GP/ehr-data/mimic4icu-cohort/obs_df.csv\n",
      "DEBUG:fsspec.local:open file: /home/asem/GP/ehr-data/mimic4icu-cohort/int_input.csv\n",
      "DEBUG:fsspec.local:open file: /home/asem/GP/ehr-data/mimic4icu-cohort/int_proc.csv\n",
      "DEBUG:root:[DONE] Loading dataframe files\n",
      "DEBUG:root:Preprocess admissions\n",
      "DEBUG:root:Removing subjects with at least one negative adm_interval: 18\n",
      "DEBUG:root:adm: Merging overlapping admissions\n",
      "DEBUG:root:adm: Merged 84 overlapping admissions\n",
      "DEBUG:root:[DONE] Preprocess admissions\n",
      "DEBUG:root:Matching admission_id\n",
      "DEBUG:root:[DONE] Matching admission_id\n",
      "DEBUG:root:Time casting..\n",
      "DEBUG:root:[DONE] Time casting..\n",
      "DEBUG:root:Constructing dx_icd9 (<class 'lib.ehr.coding_scheme.DxICD9'>) scheme\n",
      "DEBUG:root:Constructing dx_icd9 (<class 'lib.ehr.coding_scheme.DxICD9'>) scheme\n",
      "DEBUG:root:Constructing dx_icd9 (<class 'lib.ehr.coding_scheme.DxICD9'>) scheme\n",
      "DEBUG:root:Constructing dx_icd9_filter_v3_groups (<class 'lib.ehr.coding_scheme.OutcomeExtractor'>) scheme\n",
      "DEBUG:root:Constructing mimic4_eth32 (<class 'lib.ehr.coding_scheme.MIMICEth32'>) scheme\n",
      "DEBUG:root:Constructing mimic4_eth5 (<class 'lib.ehr.coding_scheme.MIMICEth5'>) scheme\n",
      "DEBUG:root:Constructing gender (<class 'lib.ehr.coding_scheme.Gender'>) scheme\n",
      "DEBUG:root:Constructing dx_icd9 (<class 'lib.ehr.coding_scheme.DxICD9'>) scheme\n",
      "DEBUG:root:Constructing dx_icd10 (<class 'lib.ehr.coding_scheme.DxICD10'>) scheme\n",
      "DEBUG:root:Constructing int_mimic4_proc (<class 'lib.ehr.coding_scheme.MIMICProcedures'>) scheme\n",
      "DEBUG:root:Constructing int_mimic4_grouped_proc (<class 'lib.ehr.coding_scheme.MIMICProcedureGroups'>) scheme\n",
      "DEBUG:root:Constructing int_mimic4_input (<class 'lib.ehr.coding_scheme.MIMICInput'>) scheme\n",
      "DEBUG:root:Constructing int_mimic4_input_group (<class 'lib.ehr.coding_scheme.MIMICInputGroups'>) scheme\n",
      "DEBUG:root:Constructing int_mimic4_obs (<class 'lib.ehr.coding_scheme.MIMICObservables'>) scheme\n",
      "DEBUG:root:Dataframes validation and time conversion\n",
      "DEBUG:root:Unrecognised ICD v['10'] codes: 1411 (21.93%)\n",
      "DEBUG:root:Unrecognised <class 'lib.ehr.coding_scheme.DxICD10'> codes (1411) to be removed (first 30): ['E10.3293', 'E10.3299', 'E10.3313', 'E10.3393', 'E10.3413', 'E10.3511', 'E10.3513', 'E10.3593', 'E10.3599', 'E11.3213', 'E11.3219', 'E11.3293', 'E11.3299', 'E11.3311', 'E11.3399', 'E11.3413', 'E11.3499', 'E11.3513', 'E11.3519', 'E11.3592', 'E11.3599', 'H34.8112', 'H35.3110', 'H35.3120', 'H35.3130', 'H35.3220', 'H35.3290', 'H40.10X0', 'H40.1130', 'H40.1190']\n",
      "DEBUG:root:Unrecognised ICD v['9'] codes: 80 (1.62%)\n",
      "DEBUG:root:Unrecognised <class 'lib.ehr.coding_scheme.DxICD9'> codes (80) to be removed (first 30): ['041.49', '173.21', '173.22', '173.32', '173.40', '173.41', '173.42', '173.50', '173.52', '173.62', '173.91', '173.92', '282.40', '282.43', '282.44', '282.46', '284.11', '284.12', '284.19', '286.52', '294.20', '294.21', '310.81', '310.89', '331.6', '348.82', '358.30', '365.70', '365.73', '414.4']\n",
      "DEBUG:root:Removed codes: Series([], Name: code, dtype: object)\n",
      "DEBUG:root:Removed codes: 0                 Cath Lab Intake\n",
      "1                       Piggyback\n",
      "2    Pre-Admission/Non-ICU Intake\n",
      "3                      Cell Saver\n",
      "Name: label, dtype: object\n",
      "DEBUG:root:Removed codes: Series([], Name: code, dtype: object)\n",
      "DEBUG:root:Removing subjects with at least one nan input rate: 1\n",
      "DEBUG:root:[DONE] Dataframes validation and time conversion\n"
     ]
    }
   ],
   "source": [
    "# Assign the folder of the dataset to `DATA_FILE`.\n",
    "import dask\n",
    "\n",
    "HOME = os.environ.get('HOME')\n",
    "DATA_DIR = f'{HOME}/GP/ehr-data'\n",
    "SOURCE_DIR = os.path.abspath(\"..\")\n",
    "\n",
    "with U.modified_environ(DATA_DIR=DATA_DIR), dask.config.set(scheduler='processes'):\n",
    "    m4icu_dataset = load_dataset('M4ICU', sample=10000)\n",
    "   "
   ]
  },
  {
   "cell_type": "code",
   "execution_count": 7,
   "id": "815c6c95",
   "metadata": {},
   "outputs": [],
   "source": [
    "splits = m4icu_dataset.random_splits([0.8, 0.9], random_seed=42, balanced='admissions')"
   ]
  },
  {
   "cell_type": "code",
   "execution_count": 8,
   "id": "05423dc4",
   "metadata": {},
   "outputs": [
    {
     "name": "stderr",
     "output_type": "stream",
     "text": [
      "DEBUG:root:Removed 472034 (0.024) outliers from obs\n"
     ]
    }
   ],
   "source": [
    "outlier_remover = m4icu_dataset.fit_outlier_remover(splits[0])\n",
    "m4icu_dataset.remove_outliers(outlier_remover)"
   ]
  },
  {
   "cell_type": "code",
   "execution_count": 9,
   "id": "c89fda53",
   "metadata": {},
   "outputs": [],
   "source": [
    "scalers = m4icu_dataset.fit_scalers(splits[0])\n",
    "m4icu_dataset.apply_scalers(scalers)"
   ]
  },
  {
   "cell_type": "code",
   "execution_count": 10,
   "id": "c822d868",
   "metadata": {},
   "outputs": [],
   "source": [
    "from lib.ehr.concepts import DemographicVectorConfig\n",
    "\n",
    "demographic_vector_conf = DemographicVectorConfig(age=True,\n",
    "                                                  gender=True,\n",
    "                                                  ethnicity=True)"
   ]
  },
  {
   "cell_type": "code",
   "execution_count": 11,
   "id": "435ce976",
   "metadata": {
    "scrolled": true
   },
   "outputs": [
    {
     "name": "stderr",
     "output_type": "stream",
     "text": [
      "/home/asem/GP/ICE-NODE/notebooks/mimic_icu/../../lib/ehr/dataset.py:828: PerformanceWarning: Adding/subtracting object-dtype array to DatetimeArray not vectorized.\n",
      "  dob = anchor_date + anchor_age\n",
      "DEBUG:root:Constructing mimic4_eth32 (<class 'lib.ehr.coding_scheme.MIMICEth32'>) scheme\n",
      "DEBUG:root:Constructing mimic4_eth5 (<class 'lib.ehr.coding_scheme.MIMICEth5'>) scheme\n",
      "DEBUG:root:Extracting dx codes...\n",
      "DEBUG:root:Constructing dx_icd10 (<class 'lib.ehr.coding_scheme.DxICD10'>) scheme\n",
      "DEBUG:root:Constructing dx_icd9 (<class 'lib.ehr.coding_scheme.DxICD9'>) scheme\n",
      "WARNING:root:\n",
      "                            dx_icd10->dx_icd9 Unrecognised t_codes\n",
      "                            (169):\n",
      "                            ['041.41', '041.42', '041.43', '041.49', '173.00', '173.01', '173.02', '173.09', '173.10', '173.11', '173.12', '173.19', '173.20', '173.21', '173.22', '173.29', '173.30', '173.31', '173.32', '173.39']...\n",
      "WARNING:root:\n",
      "                            dx_icd10->dx_icd9 Unrecognised s_codes\n",
      "                            (49910):\n",
      "                            ['E08.3211', 'E08.3212', 'E08.3213', 'E08.3219', 'E08.3291', 'E08.3292', 'E08.3293', 'E08.3299', 'E08.3311', 'E08.3312', 'E08.3313', 'E08.3319', 'E08.3391', 'E08.3392', 'E08.3393', 'E08.3399', 'E08.3411', 'E08.3412', 'E08.3413', 'E08.3419']...\n",
      "WARNING:root:\n",
      "                            dx_icd10->dx_icd9 Unrecognised t_codes\n",
      "                            (169):\n",
      "                            ['041.41', '041.42', '041.43', '041.49', '173.00', '173.01', '173.02', '173.09', '173.10', '173.11', '173.12', '173.19', '173.20', '173.21', '173.22', '173.29', '173.30', '173.31', '173.32', '173.39']...\n",
      "WARNING:root:\n",
      "                            dx_icd10->dx_icd9 Unrecognised s_codes\n",
      "                            (49910):\n",
      "                            ['E08.3211', 'E08.3212', 'E08.3213', 'E08.3219', 'E08.3291', 'E08.3292', 'E08.3293', 'E08.3299', 'E08.3311', 'E08.3312', 'E08.3313', 'E08.3319', 'E08.3391', 'E08.3392', 'E08.3393', 'E08.3399', 'E08.3411', 'E08.3412', 'E08.3413', 'E08.3419']...\n",
      "WARNING:root:Source discrepancy\n",
      "WARNING:root:M: dx_icd10->dx_icd9 \n",
      "\n",
      "                            S - M_domain (24464, p=0.5333449606488042):\n",
      "                            ['A00', 'A01', 'A01.0', 'A02', 'A02.2']...\n",
      "\n",
      "                            M_domain - S (0, p=0.0):\n",
      "                            []...\n",
      "\n",
      "                            M_domain (21405):\n",
      "                            ['A00.0', 'A00.1', 'A00.9', 'A01.00', 'A01.01']...\n",
      "\n",
      "                            S (45869): ['A00', 'A00.0', 'A00.1', 'A00.9', 'A01']...\n",
      "DEBUG:root:[DONE] Extracting dx codes\n",
      "DEBUG:root:Extracting dx codes history...\n",
      "DEBUG:root:[DONE] Extracting dx codes history\n",
      "DEBUG:root:Extracting outcome...\n",
      "DEBUG:root:[DONE] Extracting outcome\n",
      "DEBUG:root:Extracting procedures...\n",
      "DEBUG:root:[DONE] Extracting procedures\n",
      "DEBUG:root:Extracting inputs...\n",
      "DEBUG:root:[DONE] Extracting inputs\n",
      "DEBUG:root:Extracting observables...\n",
      "DEBUG:root:obs: filter adms\n",
      "DEBUG:root:obs: dasking\n",
      "DEBUG:root:obs: groupby\n",
      "DEBUG:root:obs: undasking\n",
      "DEBUG:root:obs: extract\n",
      "DEBUG:root:obs: empty\n",
      "DEBUG:root:[DONE] Extracting observables\n",
      "DEBUG:root:Compiling admissions...\n",
      "WARNING:jax._src.dispatch:Finished tracing + transforming <lambda> for pjit in 0.0014824867248535156 sec\n",
      "WARNING:jax._src.dispatch:Finished tracing + transforming <lambda> for pjit in 0.001386880874633789 sec\n",
      "WARNING:jax._src.dispatch:Finished tracing + transforming _reduce_any for pjit in 0.0011043548583984375 sec\n",
      "WARNING:jax._src.dispatch:Finished tracing + transforming atleast_1d for pjit in 0.0005457401275634766 sec\n",
      "WARNING:jax._src.dispatch:Finished tracing + transforming __call__ for pjit in 0.024489402770996094 sec\n",
      "DEBUG:jax._src.xla_bridge:Initializing backend 'cpu'\n",
      "DEBUG:jax._src.xla_bridge:Backend 'cpu' initialized\n",
      "DEBUG:jax._src.xla_bridge:Initializing backend 'cuda'\n",
      "DEBUG:jax._src.xla_bridge:Backend 'cuda' initialized\n",
      "DEBUG:jax._src.xla_bridge:Initializing backend 'rocm'\n",
      "INFO:jax._src.xla_bridge:Unable to initialize backend 'rocm': NOT_FOUND: Could not find registered platform with name: \"rocm\". Available platform names are: CUDA Interpreter\n",
      "DEBUG:jax._src.xla_bridge:Initializing backend 'tpu'\n",
      "INFO:jax._src.xla_bridge:Unable to initialize backend 'tpu': module 'jaxlib.xla_extension' has no attribute 'get_tpu_client'\n",
      "DEBUG:jax._src.interpreters.pxla:Compiling __call__ for with global shapes and types [ShapedArray(bool[140])]. Argument mapping: (GSPMDSharding({replicated}),).\n",
      "WARNING:jax._src.dispatch:Finished jaxpr to MLIR module conversion jit(__call__) in 0.014366388320922852 sec\n",
      "DEBUG:jax._src.xla_bridge:get_compile_options: num_replicas=1 num_partitions=1 device_assignment=[[gpu(id=0)]]\n",
      "WARNING:jax._src.dispatch:Finished XLA compilation of jit(__call__) in 0.27498722076416016 sec\n"
     ]
    }
   ],
   "source": [
    "with dask.config.set(scheduler='processes', num_workers=12):\n",
    "    m4inpatients = Patients(m4icu_dataset, demographic_vector_conf).load_subjects(num_workers=12)"
   ]
  },
  {
   "cell_type": "code",
   "execution_count": null,
   "id": "93585933",
   "metadata": {},
   "outputs": [],
   "source": []
  },
  {
   "cell_type": "code",
   "execution_count": null,
   "id": "2f230fd0",
   "metadata": {},
   "outputs": [],
   "source": [
    "m4inpatients.save('m4inpatients.pickle')"
   ]
  },
  {
   "cell_type": "code",
   "execution_count": null,
   "id": "36413f00",
   "metadata": {},
   "outputs": [],
   "source": [
    "l_m4inpatients = Patients.load('m4inpatients.pickle')"
   ]
  },
  {
   "cell_type": "code",
   "execution_count": 14,
   "id": "d06795c0",
   "metadata": {},
   "outputs": [
    {
     "data": {
      "text/plain": [
       "9981"
      ]
     },
     "execution_count": 14,
     "metadata": {},
     "output_type": "execute_result"
    }
   ],
   "source": [
    "len(m4inpatients.subjects)"
   ]
  },
  {
   "cell_type": "code",
   "execution_count": 12,
   "id": "cebd58c5",
   "metadata": {},
   "outputs": [],
   "source": [
    "# m4inpatients.size_in_bytes() / 1024 ** 3"
   ]
  },
  {
   "cell_type": "code",
   "execution_count": 13,
   "id": "b598eb42",
   "metadata": {},
   "outputs": [],
   "source": [
    "# val_batch = m4inpatients.device_batch(splits[1])"
   ]
  },
  {
   "cell_type": "code",
   "execution_count": 14,
   "id": "428f1548",
   "metadata": {},
   "outputs": [],
   "source": [
    "# tst_batch = m4inpatients.device_batch(splits[2])"
   ]
  },
  {
   "cell_type": "code",
   "execution_count": 15,
   "id": "0108a8a5",
   "metadata": {},
   "outputs": [],
   "source": [
    "# val_batch.size_in_bytes() / 1024 ** 3, tst_batch.size_in_bytes() / 1024 ** 3"
   ]
  },
  {
   "cell_type": "code",
   "execution_count": null,
   "id": "caa5051f",
   "metadata": {},
   "outputs": [],
   "source": []
  },
  {
   "cell_type": "code",
   "execution_count": 16,
   "id": "84e24feb",
   "metadata": {},
   "outputs": [],
   "source": [
    "# batch = m4inpatients.device_batch(splits[0][:32])"
   ]
  },
  {
   "cell_type": "code",
   "execution_count": 17,
   "id": "0af85343",
   "metadata": {},
   "outputs": [],
   "source": [
    "# batch.size_in_bytes() / 1024 ** 3"
   ]
  },
  {
   "cell_type": "code",
   "execution_count": 18,
   "id": "0210e539",
   "metadata": {},
   "outputs": [],
   "source": [
    "# len(batch.subjects)"
   ]
  },
  {
   "cell_type": "code",
   "execution_count": 19,
   "id": "de0adf08",
   "metadata": {},
   "outputs": [],
   "source": [
    "# batch.n_admissions()"
   ]
  },
  {
   "cell_type": "code",
   "execution_count": 20,
   "id": "0464a3bb",
   "metadata": {},
   "outputs": [],
   "source": [
    "# batch.n_segments()"
   ]
  },
  {
   "cell_type": "code",
   "execution_count": 21,
   "id": "1b3711f3",
   "metadata": {},
   "outputs": [],
   "source": [
    "# batch.n_obs_times()"
   ]
  },
  {
   "cell_type": "code",
   "execution_count": 22,
   "id": "26fa5b6f",
   "metadata": {},
   "outputs": [],
   "source": [
    "# import numpy as np\n",
    "# import matplotlib.pyplot as plt\n",
    "\n",
    "# a = m4inpatients_jax.obs_coocurrence_matrix\n",
    "# a = np.array(a)\n",
    "# plt.imshow(a, cmap='hot', interpolation='nearest')\n",
    "# plt.show()"
   ]
  },
  {
   "cell_type": "code",
   "execution_count": 23,
   "id": "9756e21b",
   "metadata": {},
   "outputs": [],
   "source": [
    "# s = batch.subjects[splits[0][6]].admissions[0]\n",
    "# s"
   ]
  },
  {
   "cell_type": "code",
   "execution_count": 24,
   "id": "0135d6c5",
   "metadata": {},
   "outputs": [],
   "source": [
    "# batch.interval_hours(splits[0][:10])"
   ]
  },
  {
   "cell_type": "markdown",
   "id": "b66a64de",
   "metadata": {},
   "source": [
    "### التدريب على نموذج المعادلات التفاضلية الاعتيادية العصبية\n"
   ]
  },
  {
   "cell_type": "code",
   "execution_count": 25,
   "id": "d1d975a0",
   "metadata": {},
   "outputs": [
    {
     "name": "stdout",
     "output_type": "stream",
     "text": [
      "139749651832640 139760821493824\n"
     ]
    }
   ],
   "source": [
    "import numpy as np\n",
    "a = np.array([4, 5])\n",
    "b = np.array([5, 6])\n",
    "\n",
    "c1 = a.sum\n",
    "c2 = b.sum\n",
    "\n",
    "print(id(c1), id(c2))"
   ]
  },
  {
   "cell_type": "code",
   "execution_count": 17,
   "id": "9442545b",
   "metadata": {},
   "outputs": [
    {
     "name": "stderr",
     "output_type": "stream",
     "text": [
      "DEBUG:matplotlib:matplotlib data path: /home/asem/GP/env/icenode-dev/lib/python3.9/site-packages/matplotlib/mpl-data\n",
      "DEBUG:matplotlib:CONFIGDIR=/home/asem/.config/matplotlib\n",
      "DEBUG:matplotlib:interactive is False\n",
      "DEBUG:matplotlib:platform is linux\n",
      "DEBUG:matplotlib:CACHEDIR=/home/asem/.cache/matplotlib\n",
      "DEBUG:matplotlib.font_manager:Using fontManager instance from /home/asem/.cache/matplotlib/fontlist-v330.json\n"
     ]
    }
   ],
   "source": [
    "from lib.ml import (InICENODE, InICENODEDimensions, InpatientEmbeddingDimensions, \n",
    "                    InTrainer, TrainerReporting, OptimizerConfig)\n",
    "from lib.metric import  (CodeAUC, UntilFirstCodeAUC, AdmissionAUC,\n",
    "                      CodeGroupTopAlarmAccuracy, LossMetric, ObsCodeLevelLossMetric)\n",
    "\n",
    "import jax.random as jrandom"
   ]
  },
  {
   "cell_type": "code",
   "execution_count": 27,
   "id": "c911e2f3",
   "metadata": {},
   "outputs": [],
   "source": [
    "emb_dims = InpatientEmbeddingDimensions(dx=10, inp=10, proc=10, demo=5, inp_proc_demo=15)\n",
    "dims = InICENODEDimensions(mem=15, obs=25, emb=emb_dims)\n",
    "key = jrandom.PRNGKey(0)\n",
    "\n",
    "m = InICENODE(dims=dims, \n",
    "              scheme=m4icu_dataset.scheme,\n",
    "              demographic_vector_config=demographic_vector_conf,\n",
    "              key=key)"
   ]
  },
  {
   "cell_type": "code",
   "execution_count": 28,
   "id": "72d4f9c8",
   "metadata": {},
   "outputs": [],
   "source": [
    "# res = m.batch_predict(m4inpatients.device_batch(), leave_pbar=True)"
   ]
  },
  {
   "cell_type": "code",
   "execution_count": 18,
   "id": "3658579e",
   "metadata": {},
   "outputs": [
    {
     "ename": "NameError",
     "evalue": "name 'm4inpatients' is not defined",
     "output_type": "error",
     "traceback": [
      "\u001b[0;31m---------------------------------------------------------------------------\u001b[0m",
      "\u001b[0;31mNameError\u001b[0m                                 Traceback (most recent call last)",
      "Cell \u001b[0;32mIn[18], line 5\u001b[0m\n\u001b[1;32m      1\u001b[0m trainer \u001b[38;5;241m=\u001b[39m InTrainer(optimizer_config\u001b[38;5;241m=\u001b[39mOptimizerConfig(opt\u001b[38;5;241m=\u001b[39m\u001b[38;5;124m'\u001b[39m\u001b[38;5;124madam\u001b[39m\u001b[38;5;124m'\u001b[39m, lr\u001b[38;5;241m=\u001b[39m\u001b[38;5;241m1e-3\u001b[39m),\n\u001b[1;32m      2\u001b[0m                     reg_hyperparams\u001b[38;5;241m=\u001b[39m\u001b[38;5;28;01mNone\u001b[39;00m,\n\u001b[1;32m      3\u001b[0m                     epochs\u001b[38;5;241m=\u001b[39m\u001b[38;5;241m150\u001b[39m,\n\u001b[1;32m      4\u001b[0m                     batch_size\u001b[38;5;241m=\u001b[39m\u001b[38;5;241m32\u001b[39m)\n\u001b[0;32m----> 5\u001b[0m loss_metric \u001b[38;5;241m=\u001b[39m  LossMetric(\u001b[43mm4inpatients\u001b[49m, \n\u001b[1;32m      6\u001b[0m                           dx_loss\u001b[38;5;241m=\u001b[39m(\u001b[38;5;124m'\u001b[39m\u001b[38;5;124msoftmax_bce\u001b[39m\u001b[38;5;124m'\u001b[39m, \u001b[38;5;124m'\u001b[39m\u001b[38;5;124mbalanced_focal_softmax_bce\u001b[39m\u001b[38;5;124m'\u001b[39m, \u001b[38;5;124m'\u001b[39m\u001b[38;5;124mbalanced_focal_bce\u001b[39m\u001b[38;5;124m'\u001b[39m),\n\u001b[1;32m      7\u001b[0m                           obs_loss\u001b[38;5;241m=\u001b[39m(\u001b[38;5;124m'\u001b[39m\u001b[38;5;124mmse\u001b[39m\u001b[38;5;124m'\u001b[39m, \u001b[38;5;124m'\u001b[39m\u001b[38;5;124mrms\u001b[39m\u001b[38;5;124m'\u001b[39m, \u001b[38;5;124m'\u001b[39m\u001b[38;5;124mmae\u001b[39m\u001b[38;5;124m'\u001b[39m))\n\u001b[1;32m      8\u001b[0m obs_code_loss_metric \u001b[38;5;241m=\u001b[39m ObsCodeLevelLossMetric(m4inpatients, obs_loss\u001b[38;5;241m=\u001b[39m(\u001b[38;5;124m'\u001b[39m\u001b[38;5;124mmse\u001b[39m\u001b[38;5;124m'\u001b[39m, \u001b[38;5;124m'\u001b[39m\u001b[38;5;124mrms\u001b[39m\u001b[38;5;124m'\u001b[39m, \u001b[38;5;124m'\u001b[39m\u001b[38;5;124mmae\u001b[39m\u001b[38;5;124m'\u001b[39m))\n\u001b[1;32m     10\u001b[0m metrics \u001b[38;5;241m=\u001b[39m [CodeAUC(m4inpatients), AdmissionAUC(m4inpatients), obs_code_loss_metric, loss_metric]\n",
      "\u001b[0;31mNameError\u001b[0m: name 'm4inpatients' is not defined"
     ]
    }
   ],
   "source": [
    "trainer = InTrainer(optimizer_config=OptimizerConfig(opt='adam', lr=1e-3),\n",
    "                    reg_hyperparams=None,\n",
    "                    epochs=150,\n",
    "                    batch_size=32)\n",
    "loss_metric =  LossMetric(m4inpatients, \n",
    "                          dx_loss=('softmax_bce', 'balanced_focal_softmax_bce', 'balanced_focal_bce'),\n",
    "                          obs_loss=('mse', 'rms', 'mae'))\n",
    "obs_code_loss_metric = ObsCodeLevelLossMetric(m4inpatients, obs_loss=('mse', 'rms', 'mae'))\n",
    "\n",
    "metrics = [CodeAUC(m4inpatients), AdmissionAUC(m4inpatients), obs_code_loss_metric, loss_metric]\n",
    "\n",
    "reporting = TrainerReporting(output_dir='inicenode',\n",
    "                             metrics=metrics,\n",
    "                             console=True,\n",
    "                             parameter_snapshots=True,\n",
    "                             config_json=True)"
   ]
  },
  {
   "cell_type": "code",
   "execution_count": 32,
   "id": "d5090a9c",
   "metadata": {},
   "outputs": [
    {
     "data": {
      "application/vnd.jupyter.widget-view+json": {
       "model_id": "",
       "version_major": 2,
       "version_minor": 0
      },
      "text/plain": [
       "Loading to device:   0%|          | 0/516 [00:00<?, ?subject/s]"
      ]
     },
     "metadata": {},
     "output_type": "display_data"
    },
    {
     "data": {
      "application/vnd.jupyter.widget-view+json": {
       "model_id": "d7a79935804c447e985986620caec939",
       "version_major": 2,
       "version_minor": 0
      },
      "text/plain": [
       "  0%|          | 0/150 [00:00<?, ?Epoch/s]"
      ]
     },
     "metadata": {},
     "output_type": "display_data"
    },
    {
     "data": {
      "application/vnd.jupyter.widget-view+json": {
       "model_id": "7e935068b7804b56a9cfe4b0766c49f1",
       "version_major": 2,
       "version_minor": 0
      },
      "text/plain": [
       "  0%|          | 0/5326 [00:00<?, ?Batch/s]"
      ]
     },
     "metadata": {},
     "output_type": "display_data"
    },
    {
     "data": {
      "application/vnd.jupyter.widget-view+json": {
       "model_id": "",
       "version_major": 2,
       "version_minor": 0
      },
      "text/plain": [
       "Loading to device:   0%|          | 0/5 [00:00<?, ?subject/s]"
      ]
     },
     "metadata": {},
     "output_type": "display_data"
    },
    {
     "data": {
      "application/vnd.jupyter.widget-view+json": {
       "model_id": "",
       "version_major": 2,
       "version_minor": 0
      },
      "text/plain": [
       "Embedding:   0%|          | 0/5 [00:00<?, ?subject/s]"
      ]
     },
     "metadata": {},
     "output_type": "display_data"
    },
    {
     "data": {
      "application/vnd.jupyter.widget-view+json": {
       "model_id": "",
       "version_major": 2,
       "version_minor": 0
      },
      "text/plain": [
       "  0%|          | 0.00/113.04 [00:00<?, ?odeint-days/s]"
      ]
     },
     "metadata": {},
     "output_type": "display_data"
    },
    {
     "data": {
      "application/vnd.jupyter.widget-view+json": {
       "model_id": "",
       "version_major": 2,
       "version_minor": 0
      },
      "text/plain": [
       "Embedding:   0%|          | 0/5 [00:00<?, ?subject/s]"
      ]
     },
     "metadata": {},
     "output_type": "display_data"
    },
    {
     "data": {
      "application/vnd.jupyter.widget-view+json": {
       "model_id": "",
       "version_major": 2,
       "version_minor": 0
      },
      "text/plain": [
       "  0%|          | 0.00/113.04 [00:00<?, ?odeint-days/s]"
      ]
     },
     "metadata": {},
     "output_type": "display_data"
    },
    {
     "data": {
      "application/vnd.jupyter.widget-view+json": {
       "model_id": "",
       "version_major": 2,
       "version_minor": 0
      },
      "text/plain": [
       "Embedding:   0%|          | 0/516 [00:00<?, ?subject/s]"
      ]
     },
     "metadata": {},
     "output_type": "display_data"
    },
    {
     "data": {
      "application/vnd.jupyter.widget-view+json": {
       "model_id": "",
       "version_major": 2,
       "version_minor": 0
      },
      "text/plain": [
       "  0%|          | 0.00/10606.41 [00:00<?, ?odeint-days/s]"
      ]
     },
     "metadata": {},
     "output_type": "display_data"
    },
    {
     "name": "stderr",
     "output_type": "stream",
     "text": [
      "WARNING:root:Skipping prediction with NaNs: subject_id=18385734, admission_id=26745089 interval_hours= 343.68333333333334. Note: long intervals is a likely reason to destabilise the model\n",
      "WARNING:root:Average interval_hours: 146.26586114307634\n"
     ]
    },
    {
     "data": {
      "application/vnd.jupyter.widget-view+json": {
       "model_id": "",
       "version_major": 2,
       "version_minor": 0
      },
      "text/plain": [
       "Loading to device:   0%|          | 0/10 [00:00<?, ?subject/s]"
      ]
     },
     "metadata": {},
     "output_type": "display_data"
    },
    {
     "data": {
      "application/vnd.jupyter.widget-view+json": {
       "model_id": "",
       "version_major": 2,
       "version_minor": 0
      },
      "text/plain": [
       "Embedding:   0%|          | 0/10 [00:00<?, ?subject/s]"
      ]
     },
     "metadata": {},
     "output_type": "display_data"
    },
    {
     "data": {
      "application/vnd.jupyter.widget-view+json": {
       "model_id": "",
       "version_major": 2,
       "version_minor": 0
      },
      "text/plain": [
       "  0%|          | 0.00/180.51 [00:00<?, ?odeint-days/s]"
      ]
     },
     "metadata": {},
     "output_type": "display_data"
    },
    {
     "data": {
      "application/vnd.jupyter.widget-view+json": {
       "model_id": "",
       "version_major": 2,
       "version_minor": 0
      },
      "text/plain": [
       "Loading to device:   0%|          | 0/8 [00:00<?, ?subject/s]"
      ]
     },
     "metadata": {},
     "output_type": "display_data"
    },
    {
     "data": {
      "application/vnd.jupyter.widget-view+json": {
       "model_id": "",
       "version_major": 2,
       "version_minor": 0
      },
      "text/plain": [
       "Embedding:   0%|          | 0/8 [00:00<?, ?subject/s]"
      ]
     },
     "metadata": {},
     "output_type": "display_data"
    },
    {
     "data": {
      "application/vnd.jupyter.widget-view+json": {
       "model_id": "",
       "version_major": 2,
       "version_minor": 0
      },
      "text/plain": [
       "  0%|          | 0.00/179.42 [00:00<?, ?odeint-days/s]"
      ]
     },
     "metadata": {},
     "output_type": "display_data"
    },
    {
     "data": {
      "application/vnd.jupyter.widget-view+json": {
       "model_id": "",
       "version_major": 2,
       "version_minor": 0
      },
      "text/plain": [
       "Embedding:   0%|          | 0/8 [00:00<?, ?subject/s]"
      ]
     },
     "metadata": {},
     "output_type": "display_data"
    },
    {
     "data": {
      "application/vnd.jupyter.widget-view+json": {
       "model_id": "",
       "version_major": 2,
       "version_minor": 0
      },
      "text/plain": [
       "  0%|          | 0.00/179.42 [00:00<?, ?odeint-days/s]"
      ]
     },
     "metadata": {},
     "output_type": "display_data"
    },
    {
     "data": {
      "application/vnd.jupyter.widget-view+json": {
       "model_id": "",
       "version_major": 2,
       "version_minor": 0
      },
      "text/plain": [
       "Embedding:   0%|          | 0/516 [00:00<?, ?subject/s]"
      ]
     },
     "metadata": {},
     "output_type": "display_data"
    },
    {
     "data": {
      "application/vnd.jupyter.widget-view+json": {
       "model_id": "043cbeb6332345c6a245b7584d9bc890",
       "version_major": 2,
       "version_minor": 0
      },
      "text/plain": [
       "  0%|          | 0.00/10606.41 [00:00<?, ?odeint-days/s]"
      ]
     },
     "metadata": {},
     "output_type": "display_data"
    },
    {
     "ename": "KeyboardInterrupt",
     "evalue": "",
     "output_type": "error",
     "traceback": [
      "\u001b[0;31m---------------------------------------------------------------------------\u001b[0m",
      "\u001b[0;31mKeyboardInterrupt\u001b[0m                         Traceback (most recent call last)",
      "Cell \u001b[0;32mIn[32], line 3\u001b[0m\n\u001b[1;32m      1\u001b[0m splits \u001b[38;5;241m=\u001b[39m m4inpatients\u001b[38;5;241m.\u001b[39mrandom_splits([\u001b[38;5;241m0.98\u001b[39m, \u001b[38;5;241m0.99\u001b[39m], \n\u001b[1;32m      2\u001b[0m                                     balanced\u001b[38;5;241m=\u001b[39m\u001b[38;5;124m'\u001b[39m\u001b[38;5;124madmissions\u001b[39m\u001b[38;5;124m'\u001b[39m)\n\u001b[0;32m----> 3\u001b[0m res \u001b[38;5;241m=\u001b[39m \u001b[43mtrainer\u001b[49m\u001b[43m(\u001b[49m\u001b[43mm\u001b[49m\u001b[43m,\u001b[49m\u001b[43m \u001b[49m\u001b[43mm4inpatients\u001b[49m\u001b[43m,\u001b[49m\u001b[43m \u001b[49m\n\u001b[1;32m      4\u001b[0m \u001b[43m              \u001b[49m\u001b[43msplits\u001b[49m\u001b[38;5;241;43m=\u001b[39;49m\u001b[43msplits\u001b[49m\u001b[43m,\u001b[49m\n\u001b[1;32m      5\u001b[0m \u001b[43m              \u001b[49m\u001b[43mreporting\u001b[49m\u001b[38;5;241;43m=\u001b[39;49m\u001b[43mreporting\u001b[49m\u001b[43m,\u001b[49m\n\u001b[1;32m      6\u001b[0m \u001b[43m             \u001b[49m\u001b[43mn_evals\u001b[49m\u001b[38;5;241;43m=\u001b[39;49m\u001b[38;5;241;43m500000\u001b[39;49m\u001b[43m)\u001b[49m\n",
      "File \u001b[0;32m~/GP/ICENODE/notebooks/mimic_icu/../../lib/ml/trainer.py:499\u001b[0m, in \u001b[0;36mTrainer.__call__\u001b[0;34m(self, model, patients, splits, n_evals, reporting, continue_training, prng_seed, trial_terminate_time)\u001b[0m\n\u001b[1;32m    496\u001b[0m \u001b[38;5;28;01mfor\u001b[39;00m c \u001b[38;5;129;01min\u001b[39;00m reporting\u001b[38;5;241m.\u001b[39mconnections(signals):\n\u001b[1;32m    497\u001b[0m     stack\u001b[38;5;241m.\u001b[39menter_context(c)\n\u001b[0;32m--> 499\u001b[0m \u001b[38;5;28;01mreturn\u001b[39;00m \u001b[38;5;28;43mself\u001b[39;49m\u001b[38;5;241;43m.\u001b[39;49m\u001b[43m_train\u001b[49m\u001b[43m(\u001b[49m\u001b[43mmodel\u001b[49m\u001b[38;5;241;43m=\u001b[39;49m\u001b[43mmodel\u001b[49m\u001b[43m,\u001b[49m\n\u001b[1;32m    500\u001b[0m \u001b[43m                   \u001b[49m\u001b[43mpatients\u001b[49m\u001b[38;5;241;43m=\u001b[39;49m\u001b[43mpatients\u001b[49m\u001b[43m,\u001b[49m\n\u001b[1;32m    501\u001b[0m \u001b[43m                   \u001b[49m\u001b[43msplits\u001b[49m\u001b[38;5;241;43m=\u001b[39;49m\u001b[43msplits\u001b[49m\u001b[43m,\u001b[49m\n\u001b[1;32m    502\u001b[0m \u001b[43m                   \u001b[49m\u001b[43mn_evals\u001b[49m\u001b[38;5;241;43m=\u001b[39;49m\u001b[43mn_evals\u001b[49m\u001b[43m,\u001b[49m\n\u001b[1;32m    503\u001b[0m \u001b[43m                   \u001b[49m\u001b[43mcontinue_training\u001b[49m\u001b[38;5;241;43m=\u001b[39;49m\u001b[43mcontinue_training\u001b[49m\u001b[43m,\u001b[49m\n\u001b[1;32m    504\u001b[0m \u001b[43m                   \u001b[49m\u001b[43mprng_seed\u001b[49m\u001b[38;5;241;43m=\u001b[39;49m\u001b[43mprng_seed\u001b[49m\u001b[43m,\u001b[49m\n\u001b[1;32m    505\u001b[0m \u001b[43m                   \u001b[49m\u001b[43mtrial_terminate_time\u001b[49m\u001b[38;5;241;43m=\u001b[39;49m\u001b[43mtrial_terminate_time\u001b[49m\u001b[43m,\u001b[49m\n\u001b[1;32m    506\u001b[0m \u001b[43m                   \u001b[49m\u001b[43mhistory\u001b[49m\u001b[38;5;241;43m=\u001b[39;49m\u001b[43mreporting\u001b[49m\u001b[38;5;241;43m.\u001b[39;49m\u001b[43mnew_training_history\u001b[49m\u001b[43m(\u001b[49m\u001b[43m)\u001b[49m\u001b[43m,\u001b[49m\n\u001b[1;32m    507\u001b[0m \u001b[43m                   \u001b[49m\u001b[43msignals\u001b[49m\u001b[38;5;241;43m=\u001b[39;49m\u001b[43msignals\u001b[49m\u001b[43m)\u001b[49m\n",
      "File \u001b[0;32m~/GP/ICENODE/notebooks/mimic_icu/../../lib/ml/trainer.py:579\u001b[0m, in \u001b[0;36mTrainer._train\u001b[0;34m(self, model, patients, splits, n_evals, continue_training, prng_seed, trial_terminate_time, history, signals)\u001b[0m\n\u001b[1;32m    576\u001b[0m     \u001b[38;5;28;01mcontinue\u001b[39;00m\n\u001b[1;32m    578\u001b[0m history\u001b[38;5;241m.\u001b[39mappend_train_iteration(\u001b[38;5;28mself\u001b[39m\u001b[38;5;241m.\u001b[39meval(model, batch))\n\u001b[0;32m--> 579\u001b[0m history\u001b[38;5;241m.\u001b[39mappend_val_iteration(\u001b[38;5;28;43mself\u001b[39;49m\u001b[38;5;241;43m.\u001b[39;49m\u001b[43meval\u001b[49m\u001b[43m(\u001b[49m\u001b[43mmodel\u001b[49m\u001b[43m,\u001b[49m\u001b[43m \u001b[49m\u001b[43mval_batch\u001b[49m\u001b[43m)\u001b[49m)\n\u001b[1;32m    581\u001b[0m \u001b[38;5;28;01mif\u001b[39;00m step \u001b[38;5;241m==\u001b[39m iters \u001b[38;5;241m-\u001b[39m \u001b[38;5;241m1\u001b[39m:\n\u001b[1;32m    582\u001b[0m     test_batch \u001b[38;5;241m=\u001b[39m patients\u001b[38;5;241m.\u001b[39mdevice_batch(test_ids)\n",
      "File \u001b[0;32m~/GP/ICENODE/notebooks/mimic_icu/../../lib/ml/trainer.py:465\u001b[0m, in \u001b[0;36mTrainer.eval\u001b[0;34m(self, model, patients)\u001b[0m\n\u001b[1;32m    463\u001b[0m \u001b[38;5;28;01mdef\u001b[39;00m \u001b[38;5;21meval\u001b[39m(\u001b[38;5;28mself\u001b[39m, model: AbstractModel,\n\u001b[1;32m    464\u001b[0m          patients: Patients) \u001b[38;5;241m-\u001b[39m\u001b[38;5;241m>\u001b[39m Dict[\u001b[38;5;28mstr\u001b[39m, \u001b[38;5;28mfloat\u001b[39m]:\n\u001b[0;32m--> 465\u001b[0m     \u001b[38;5;28;01mreturn\u001b[39;00m \u001b[43mmodel\u001b[49m\u001b[38;5;241;43m.\u001b[39;49m\u001b[43mbatch_predict\u001b[49m\u001b[43m(\u001b[49m\u001b[43mpatients\u001b[49m\u001b[43m,\u001b[49m\u001b[43m \u001b[49m\u001b[43mleave_pbar\u001b[49m\u001b[38;5;241;43m=\u001b[39;49m\u001b[38;5;28;43;01mFalse\u001b[39;49;00m\u001b[43m)\u001b[49m\n",
      "File \u001b[0;32m~/GP/ICENODE/notebooks/mimic_icu/../../lib/ml/model.py:103\u001b[0m, in \u001b[0;36mInpatientModel.batch_predict\u001b[0;34m(self, inpatients, leave_pbar)\u001b[0m\n\u001b[1;32m     99\u001b[0m     embedded_admissions \u001b[38;5;241m=\u001b[39m inpatients_emb[subject_id]\n\u001b[1;32m    100\u001b[0m     \u001b[38;5;28;01mfor\u001b[39;00m adm, adm_e \u001b[38;5;129;01min\u001b[39;00m \u001b[38;5;28mzip\u001b[39m(inpatient\u001b[38;5;241m.\u001b[39madmissions,\n\u001b[1;32m    101\u001b[0m                           embedded_admissions):\n\u001b[1;32m    102\u001b[0m         results\u001b[38;5;241m.\u001b[39madd(subject_id\u001b[38;5;241m=\u001b[39msubject_id,\n\u001b[0;32m--> 103\u001b[0m                     prediction\u001b[38;5;241m=\u001b[39m\u001b[38;5;28;43mself\u001b[39;49m\u001b[43m(\u001b[49m\u001b[43madm\u001b[49m\u001b[43m,\u001b[49m\u001b[43m \u001b[49m\u001b[43madm_e\u001b[49m\u001b[43m)\u001b[49m)\n\u001b[1;32m    104\u001b[0m         pbar\u001b[38;5;241m.\u001b[39mupdate(adm\u001b[38;5;241m.\u001b[39minterval_days)\n\u001b[1;32m    105\u001b[0m \u001b[38;5;28;01mreturn\u001b[39;00m results\u001b[38;5;241m.\u001b[39mfilter_nans()\n",
      "File \u001b[0;32m~/GP/ICENODE/notebooks/mimic_icu/../../lib/ml/in_models.py:156\u001b[0m, in \u001b[0;36mInICENODE.__call__\u001b[0;34m(self, admission, embedded_admission)\u001b[0m\n\u001b[1;32m    154\u001b[0m \u001b[38;5;28;01mfor\u001b[39;00m i \u001b[38;5;129;01min\u001b[39;00m \u001b[38;5;28mrange\u001b[39m(\u001b[38;5;28mlen\u001b[39m(t0)):\n\u001b[1;32m    155\u001b[0m     t \u001b[38;5;241m=\u001b[39m t0[i], t1[i]\n\u001b[0;32m--> 156\u001b[0m     state, pred_obs \u001b[38;5;241m=\u001b[39m \u001b[38;5;28;43mself\u001b[39;49m\u001b[38;5;241;43m.\u001b[39;49m\u001b[43mstep_segment\u001b[49m\u001b[43m(\u001b[49m\u001b[43mstate\u001b[49m\u001b[43m,\u001b[49m\u001b[43m \u001b[49m\u001b[43mint_e\u001b[49m\u001b[43m[\u001b[49m\u001b[43mi\u001b[49m\u001b[43m]\u001b[49m\u001b[43m,\u001b[49m\u001b[43m \u001b[49m\u001b[43mobs\u001b[49m\u001b[43m[\u001b[49m\u001b[43mi\u001b[49m\u001b[43m]\u001b[49m\u001b[43m,\u001b[49m\u001b[43m \u001b[49m\u001b[38;5;241;43m*\u001b[39;49m\u001b[43mt\u001b[49m\u001b[43m)\u001b[49m\n\u001b[1;32m    157\u001b[0m     pred_obs_l\u001b[38;5;241m.\u001b[39mappend(pred_obs)\n\u001b[1;32m    158\u001b[0m pred_dx \u001b[38;5;241m=\u001b[39m CodesVector(\u001b[38;5;28mself\u001b[39m\u001b[38;5;241m.\u001b[39mf_dx_dec(\u001b[38;5;28mself\u001b[39m\u001b[38;5;241m.\u001b[39msplit_state(state)[\u001b[38;5;241m2\u001b[39m]),\n\u001b[1;32m    159\u001b[0m                       admission\u001b[38;5;241m.\u001b[39moutcome\u001b[38;5;241m.\u001b[39mscheme)\n",
      "File \u001b[0;32m~/GP/ICENODE/notebooks/mimic_icu/../../lib/ml/in_models.py:137\u001b[0m, in \u001b[0;36mInICENODE.step_segment\u001b[0;34m(self, state, int_e, obs, t0, t1)\u001b[0m\n\u001b[1;32m    134\u001b[0m     t \u001b[38;5;241m=\u001b[39m t_obs\n\u001b[1;32m    135\u001b[0m     preds\u001b[38;5;241m.\u001b[39mappend(pred_obs)\n\u001b[0;32m--> 137\u001b[0m state \u001b[38;5;241m=\u001b[39m \u001b[38;5;28;43mself\u001b[39;49m\u001b[38;5;241;43m.\u001b[39;49m\u001b[43m_safe_integrate\u001b[49m\u001b[43m(\u001b[49m\u001b[43mt1\u001b[49m\u001b[43m \u001b[49m\u001b[38;5;241;43m-\u001b[39;49m\u001b[43m \u001b[49m\u001b[43mt\u001b[49m\u001b[43m,\u001b[49m\u001b[43m \u001b[49m\u001b[43mstate\u001b[49m\u001b[43m,\u001b[49m\u001b[43m \u001b[49m\u001b[43mint_e\u001b[49m\u001b[43m)\u001b[49m\n\u001b[1;32m    139\u001b[0m \u001b[38;5;28;01mif\u001b[39;00m \u001b[38;5;28mlen\u001b[39m(preds) \u001b[38;5;241m>\u001b[39m \u001b[38;5;241m0\u001b[39m:\n\u001b[1;32m    140\u001b[0m     pred_obs_val \u001b[38;5;241m=\u001b[39m jnp\u001b[38;5;241m.\u001b[39mvstack(preds)\n",
      "File \u001b[0;32m~/GP/env/icenode-dev/lib/python3.9/site-packages/equinox/_module.py:522\u001b[0m, in \u001b[0;36mPartial.__call__\u001b[0;34m(self, *args, **kwargs)\u001b[0m\n\u001b[1;32m    509\u001b[0m \u001b[38;5;28;01mdef\u001b[39;00m \u001b[38;5;21m__call__\u001b[39m(\u001b[38;5;28mself\u001b[39m, \u001b[38;5;241m*\u001b[39margs, \u001b[38;5;241m*\u001b[39m\u001b[38;5;241m*\u001b[39mkwargs):\n\u001b[1;32m    510\u001b[0m \u001b[38;5;250m    \u001b[39m\u001b[38;5;124;03m\"\"\"Call the wrapped `self.func`.\u001b[39;00m\n\u001b[1;32m    511\u001b[0m \n\u001b[1;32m    512\u001b[0m \u001b[38;5;124;03m    **Arguments:**\u001b[39;00m\n\u001b[0;32m   (...)\u001b[0m\n\u001b[1;32m    520\u001b[0m \u001b[38;5;124;03m    The result of the wrapped function.\u001b[39;00m\n\u001b[1;32m    521\u001b[0m \u001b[38;5;124;03m    \"\"\"\u001b[39;00m\n\u001b[0;32m--> 522\u001b[0m     \u001b[38;5;28;01mreturn\u001b[39;00m \u001b[38;5;28;43mself\u001b[39;49m\u001b[38;5;241;43m.\u001b[39;49m\u001b[43mfunc\u001b[49m\u001b[43m(\u001b[49m\u001b[38;5;241;43m*\u001b[39;49m\u001b[38;5;28;43mself\u001b[39;49m\u001b[38;5;241;43m.\u001b[39;49m\u001b[43margs\u001b[49m\u001b[43m,\u001b[49m\u001b[43m \u001b[49m\u001b[38;5;241;43m*\u001b[39;49m\u001b[43margs\u001b[49m\u001b[43m,\u001b[49m\u001b[43m \u001b[49m\u001b[38;5;241;43m*\u001b[39;49m\u001b[38;5;241;43m*\u001b[39;49m\u001b[43mkwargs\u001b[49m\u001b[43m,\u001b[49m\u001b[43m \u001b[49m\u001b[38;5;241;43m*\u001b[39;49m\u001b[38;5;241;43m*\u001b[39;49m\u001b[38;5;28;43mself\u001b[39;49m\u001b[38;5;241;43m.\u001b[39;49m\u001b[43mkeywords\u001b[49m\u001b[43m)\u001b[49m\n",
      "File \u001b[0;32m~/GP/env/icenode-dev/lib/python3.9/site-packages/equinox/_jit.py:107\u001b[0m, in \u001b[0;36m_JitWrapper.__call__\u001b[0;34m(self, *args, **kwargs)\u001b[0m\n\u001b[1;32m    106\u001b[0m \u001b[38;5;28;01mdef\u001b[39;00m \u001b[38;5;21m__call__\u001b[39m(\u001b[38;5;28mself\u001b[39m, \u001b[38;5;241m/\u001b[39m, \u001b[38;5;241m*\u001b[39margs, \u001b[38;5;241m*\u001b[39m\u001b[38;5;241m*\u001b[39mkwargs):\n\u001b[0;32m--> 107\u001b[0m     \u001b[38;5;28;01mreturn\u001b[39;00m \u001b[38;5;28;43mself\u001b[39;49m\u001b[38;5;241;43m.\u001b[39;49m\u001b[43m_call\u001b[49m\u001b[43m(\u001b[49m\u001b[38;5;28;43;01mFalse\u001b[39;49;00m\u001b[43m,\u001b[49m\u001b[43m \u001b[49m\u001b[43margs\u001b[49m\u001b[43m,\u001b[49m\u001b[43m \u001b[49m\u001b[43mkwargs\u001b[49m\u001b[43m)\u001b[49m\n",
      "File \u001b[0;32m~/GP/env/icenode-dev/lib/python3.9/site-packages/equinox/_jit.py:103\u001b[0m, in \u001b[0;36m_JitWrapper._call\u001b[0;34m(self, is_lower, args, kwargs)\u001b[0m\n\u001b[1;32m    101\u001b[0m         out \u001b[38;5;241m=\u001b[39m \u001b[38;5;28mself\u001b[39m\u001b[38;5;241m.\u001b[39m_cached(dynamic, static)\n\u001b[1;32m    102\u001b[0m \u001b[38;5;28;01melse\u001b[39;00m:\n\u001b[0;32m--> 103\u001b[0m     out \u001b[38;5;241m=\u001b[39m \u001b[38;5;28;43mself\u001b[39;49m\u001b[38;5;241;43m.\u001b[39;49m\u001b[43m_cached\u001b[49m\u001b[43m(\u001b[49m\u001b[43mdynamic\u001b[49m\u001b[43m,\u001b[49m\u001b[43m \u001b[49m\u001b[43mstatic\u001b[49m\u001b[43m)\u001b[49m\n\u001b[1;32m    104\u001b[0m \u001b[38;5;28;01mreturn\u001b[39;00m _postprocess(out)\n",
      "File \u001b[0;32m~/GP/env/icenode-dev/lib/python3.9/site-packages/equinox/_module.py:307\u001b[0m, in \u001b[0;36m_unflatten_module\u001b[0;34m(cls, aux, dynamic_field_values)\u001b[0m\n\u001b[1;32m    297\u001b[0m     aux \u001b[38;5;241m=\u001b[39m _FlattenedData(\n\u001b[1;32m    298\u001b[0m         \u001b[38;5;28mtuple\u001b[39m(dynamic_field_names),\n\u001b[1;32m    299\u001b[0m         \u001b[38;5;28mtuple\u001b[39m(static_field_names),\n\u001b[0;32m   (...)\u001b[0m\n\u001b[1;32m    302\u001b[0m         \u001b[38;5;28mtuple\u001b[39m(wrapper_field_values),\n\u001b[1;32m    303\u001b[0m     )\n\u001b[1;32m    304\u001b[0m     \u001b[38;5;28;01mreturn\u001b[39;00m \u001b[38;5;28mtuple\u001b[39m(dynamic_field_values), aux\n\u001b[0;32m--> 307\u001b[0m \u001b[38;5;28;01mdef\u001b[39;00m \u001b[38;5;21m_unflatten_module\u001b[39m(\u001b[38;5;28mcls\u001b[39m: \u001b[38;5;28mtype\u001b[39m[\u001b[38;5;124m\"\u001b[39m\u001b[38;5;124mModule\u001b[39m\u001b[38;5;124m\"\u001b[39m], aux: _FlattenedData, dynamic_field_values):\n\u001b[1;32m    308\u001b[0m     module \u001b[38;5;241m=\u001b[39m \u001b[38;5;28mobject\u001b[39m\u001b[38;5;241m.\u001b[39m\u001b[38;5;21m__new__\u001b[39m(\u001b[38;5;28mcls\u001b[39m)\n\u001b[1;32m    309\u001b[0m     \u001b[38;5;28;01mfor\u001b[39;00m name, value \u001b[38;5;129;01min\u001b[39;00m \u001b[38;5;28mzip\u001b[39m(aux\u001b[38;5;241m.\u001b[39mdynamic_field_names, dynamic_field_values):\n",
      "\u001b[0;31mKeyboardInterrupt\u001b[0m: "
     ]
    }
   ],
   "source": [
    "    \n",
    "splits = m4inpatients.random_splits([0.9, 0.95], \n",
    "                                    balanced='admissions')\n",
    "res = trainer(m, m4inpatients, \n",
    "              splits=splits,\n",
    "              reporting=reporting)"
   ]
  },
  {
   "cell_type": "code",
   "execution_count": null,
   "id": "e7985d4d",
   "metadata": {},
   "outputs": [],
   "source": [
    "# import jax.tree_util as jtu\n",
    "# import jax.numpy as jnp\n",
    "# import equinox as eqx\n",
    "\n",
    "# jtu.tree_map(lambda x: f'{x.shape} {jnp.any(jnp.isnan(x)).item()}' if eqx.is_array(x) else None , m)"
   ]
  },
  {
   "cell_type": "code",
   "execution_count": null,
   "id": "dc769b9a",
   "metadata": {},
   "outputs": [],
   "source": [
    "# emb_subj = {i: m.f_emb(s) for i, s in m4inpatients.device_batch().subjects.items()}"
   ]
  },
  {
   "cell_type": "code",
   "execution_count": null,
   "id": "e7251a6d",
   "metadata": {},
   "outputs": [],
   "source": []
  },
  {
   "cell_type": "code",
   "execution_count": null,
   "id": "8404763e",
   "metadata": {},
   "outputs": [],
   "source": []
  }
 ],
 "metadata": {
  "kernelspec": {
   "display_name": "Python 3 (ipykernel)",
   "language": "python",
   "name": "python3"
  },
  "language_info": {
   "codemirror_mode": {
    "name": "ipython",
    "version": 3
   },
   "file_extension": ".py",
   "mimetype": "text/x-python",
   "name": "python",
   "nbconvert_exporter": "python",
   "pygments_lexer": "ipython3",
   "version": "3.10.12"
  }
 },
 "nbformat": 4,
 "nbformat_minor": 5
}
