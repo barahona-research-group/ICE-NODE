{
 "cells": [
  {
   "cell_type": "code",
   "execution_count": 1,
   "id": "ab383786",
   "metadata": {},
   "outputs": [],
   "source": [
    "%load_ext autoreload\n",
    "%autoreload 2\n",
    "import sys\n",
    "import os\n",
    "import glob\n",
    "import random\n",
    "from collections import defaultdict\n",
    "from pathlib import Path\n",
    "\n",
    "from IPython.display import display\n",
    "\n",
    "import pandas as pd\n",
    "\n",
    "from tqdm import tqdm\n",
    "import jax\n",
    "jax.config.update('jax_platform_name', 'gpu')\n",
    "jax.config.update(\"jax_debug_nans\", True)\n",
    "# jax.config.update(\"jax_enable_x64\", True)"
   ]
  },
  {
   "cell_type": "code",
   "execution_count": 2,
   "id": "c83480cb",
   "metadata": {},
   "outputs": [],
   "source": [
    "\n",
    "\n",
    "sys.path.append(\"../..\")\n",
    "\n",
    "from lib import utils as U\n",
    "from lib.ehr.dataset import load_dataset\n",
    "from lib.ehr.inpatient_interface import Patients"
   ]
  },
  {
   "cell_type": "code",
   "execution_count": 3,
   "id": "99451f48",
   "metadata": {},
   "outputs": [],
   "source": [
    "import logging\n",
    "logging.root.level = logging.DEBUG"
   ]
  },
  {
   "cell_type": "code",
   "execution_count": 4,
   "id": "fc796475",
   "metadata": {},
   "outputs": [],
   "source": [
    "# from lib.ehr.coding_scheme import MIMIC4Procedures, MIMIC4ProcedureGroups\n",
    "# from lib.ehr.coding_scheme import MIMIC4Input, MIMIC4InputGroups\n",
    "\n",
    "# cproc = MIMIC4Procedures()\n",
    "# cproc_g = MIMIC4ProcedureGroups()\n",
    "# cinp = MIMIC4Input()\n",
    "# cinp_g = MIMIC4InputGroups()"
   ]
  },
  {
   "cell_type": "code",
   "execution_count": 5,
   "id": "0e2c666a",
   "metadata": {},
   "outputs": [
    {
     "name": "stderr",
     "output_type": "stream",
     "text": [
      "DEBUG:root:Loading dataframe files\n",
      "DEBUG:fsspec.local:open file: /home/asem/GP/ehr-data/mimic4icu-cohort/adm_df.csv\n",
      "DEBUG:fsspec.local:open file: /home/asem/GP/ehr-data/mimic4icu-cohort/dx_df.csv\n",
      "DEBUG:fsspec.local:open file: /home/asem/GP/ehr-data/mimic4icu-cohort/static_df.csv\n",
      "DEBUG:fsspec.local:open file: /home/asem/GP/ehr-data/mimic4icu-cohort/obs_df.csv\n",
      "DEBUG:fsspec.local:open file: /home/asem/GP/ehr-data/mimic4icu-cohort/int_input.csv\n",
      "DEBUG:fsspec.local:open file: /home/asem/GP/ehr-data/mimic4icu-cohort/int_proc.csv\n",
      "DEBUG:root:[DONE] Loading dataframe files\n",
      "DEBUG:root:Preprocess admissions\n",
      "DEBUG:root:Removing subjects with at least one negative adm_interval: 84\n",
      "DEBUG:root:adm: Merging overlapping admissions\n",
      "DEBUG:root:adm: Merged 356 overlapping admissions\n",
      "DEBUG:root:[DONE] Preprocess admissions\n",
      "DEBUG:root:Matching admission_id\n",
      "DEBUG:root:[DONE] Matching admission_id\n",
      "DEBUG:root:Time casting..\n",
      "DEBUG:root:[DONE] Time casting..\n",
      "DEBUG:root:Constructing dx_icd9 (<class 'lib.ehr.coding_scheme.DxICD9'>) scheme\n",
      "DEBUG:root:Constructing dx_icd10 (<class 'lib.ehr.coding_scheme.DxICD10'>) scheme\n",
      "DEBUG:root:Constructing dx_icd9 (<class 'lib.ehr.coding_scheme.DxICD9'>) scheme\n",
      "DEBUG:root:Constructing dx_icd9 (<class 'lib.ehr.coding_scheme.DxICD9'>) scheme\n",
      "DEBUG:root:Constructing dx_icd9 (<class 'lib.ehr.coding_scheme.DxICD9'>) scheme\n",
      "DEBUG:root:Constructing dx_icd9_filter_v3_groups (<class 'lib.ehr.outcome.OutcomeExtractor'>) scheme\n",
      "DEBUG:root:Constructing mimic4_eth32 (<class 'lib.ehr.coding_scheme.MIMIC4Eth32'>) scheme\n",
      "DEBUG:root:Constructing mimic4_eth5 (<class 'lib.ehr.coding_scheme.MIMIC4Eth5'>) scheme\n",
      "DEBUG:root:Constructing int_mimic4_proc (<class 'lib.ehr.coding_scheme.MIMIC4Procedures'>) scheme\n",
      "DEBUG:root:Constructing int_mimic4_grouped_proc (<class 'lib.ehr.coding_scheme.MIMIC4ProcedureGroups'>) scheme\n",
      "DEBUG:root:Constructing int_mimic4_input (<class 'lib.ehr.coding_scheme.MIMIC4Input'>) scheme\n",
      "DEBUG:root:Constructing int_mimic4_input_group (<class 'lib.ehr.coding_scheme.MIMIC4InputGroups'>) scheme\n",
      "DEBUG:root:Constructing int_mimic4_obs (<class 'lib.ehr.coding_scheme.MIMIC4Observables'>) scheme\n",
      "DEBUG:root:Dataframes validation and time conversion\n",
      "DEBUG:root:Unrecognised ICD v['10'] codes: 3323                     (28.74%)\n",
      "DEBUG:root:\n",
      "                    Unrecognised <class 'lib.ehr.coding_scheme.DxICD10'> codes (3323)\n",
      "                    to be removed (first 30): ['E08.3513', 'E10.3213', 'E10.3219', 'E10.3291', 'E10.3293', 'E10.3299', 'E10.3313', 'E10.3319', 'E10.3393', 'E10.3399', 'E10.3411', 'E10.3413', 'E10.3491', 'E10.3511', 'E10.3512', 'E10.3513', 'E10.3519', 'E10.3522', 'E10.3523', 'E10.3531', 'E10.3532', 'E10.3559', 'E10.3591', 'E10.3592', 'E10.3593', 'E10.3599', 'E11.3213', 'E11.3219', 'E11.3291', 'E11.3292']\n",
      "DEBUG:root:Unrecognised ICD v['9'] codes: 118                     (1.63%)\n",
      "DEBUG:root:\n",
      "                    Unrecognised <class 'lib.ehr.coding_scheme.DxICD9'> codes (118)\n",
      "                    to be removed (first 30): ['041.49', '173.21', '173.22', '173.30', '173.31', '173.32', '173.40', '173.41', '173.42', '173.50', '173.51', '173.52', '173.59', '173.60', '173.61', '173.62', '173.70', '173.71', '173.72', '173.79', '173.80', '173.81', '173.82', '173.91', '173.92', '173.99', '282.40', '282.43', '282.44', '282.46']\n",
      "DEBUG:root:Removed codes: Series([], Name: code, dtype: object)\n",
      "DEBUG:root:Removed codes: 0                       Piggyback\n",
      "1    Pre-Admission/Non-ICU Intake\n",
      "2                 Cath Lab Intake\n",
      "3                      Cell Saver\n",
      "Name: label, dtype: object\n",
      "DEBUG:root:Removed codes: Series([], Name: code, dtype: object)\n",
      "DEBUG:root:Removing subjects with at least one nan input rate: 8\n",
      "DEBUG:root:[DONE] Dataframes validation and time conversion\n"
     ]
    }
   ],
   "source": [
    "# Assign the folder of the dataset to `DATA_FILE`.\n",
    "import dask\n",
    "\n",
    "HOME = os.environ.get('HOME')\n",
    "DATA_DIR = f'{HOME}/GP/ehr-data'\n",
    "SOURCE_DIR = os.path.abspath(\"..\")\n",
    "\n",
    "with U.modified_environ(DATA_DIR=DATA_DIR), dask.config.set(scheduler='processes'):\n",
    "    m4icu_dataset = load_dataset('M4ICU')\n",
    "   "
   ]
  },
  {
   "cell_type": "code",
   "execution_count": 6,
   "id": "815c6c95",
   "metadata": {},
   "outputs": [],
   "source": [
    "splits = m4icu_dataset.random_splits([0.8, 0.9], random_seed=42, balanced='subjects')"
   ]
  },
  {
   "cell_type": "code",
   "execution_count": 7,
   "id": "05423dc4",
   "metadata": {},
   "outputs": [],
   "source": [
    "preprocessing = m4icu_dataset.fit_preprocessing(splits[0])"
   ]
  },
  {
   "cell_type": "code",
   "execution_count": 8,
   "id": "c89fda53",
   "metadata": {},
   "outputs": [
    {
     "name": "stderr",
     "output_type": "stream",
     "text": [
      "DEBUG:root:Removed 2323089 (0.023) outliers from obs\n"
     ]
    }
   ],
   "source": [
    "m4icu_dataset.apply_preprocessing(preprocessing)"
   ]
  },
  {
   "cell_type": "code",
   "execution_count": 9,
   "id": "a357dc92",
   "metadata": {},
   "outputs": [],
   "source": [
    "m4inpatients = Patients(m4icu_dataset)"
   ]
  },
  {
   "cell_type": "code",
   "execution_count": 10,
   "id": "7175d0aa",
   "metadata": {},
   "outputs": [],
   "source": [
    "# df = m4icu_dataset.df['int_input']\n",
    "# df[df['normalised_amount_per_hour'].isnull()]"
   ]
  },
  {
   "cell_type": "code",
   "execution_count": 11,
   "id": "435ce976",
   "metadata": {
    "scrolled": true
   },
   "outputs": [
    {
     "name": "stderr",
     "output_type": "stream",
     "text": [
      "/home/asem/GP/ICENODE/notebooks/mimic_icu/../../lib/ehr/dataset.py:1119: PerformanceWarning: Adding/subtracting object-dtype array to DatetimeArray not vectorized.\n",
      "  dob = anchor_date + anchor_age\n",
      "DEBUG:root:Constructing mimic4_eth32 (<class 'lib.ehr.coding_scheme.MIMIC4Eth32'>) scheme\n",
      "DEBUG:root:Constructing mimic4_eth5 (<class 'lib.ehr.coding_scheme.MIMIC4Eth5'>) scheme\n",
      "DEBUG:root:Extracting dx codes...\n",
      "DEBUG:root:Constructing dx_icd10 (<class 'lib.ehr.coding_scheme.DxICD10'>) scheme\n",
      "DEBUG:root:Constructing dx_icd9 (<class 'lib.ehr.coding_scheme.DxICD9'>) scheme\n",
      "WARNING:root:\n",
      "                            dx_icd10->dx_icd9 Unrecognised t_codes\n",
      "                            (169):\n",
      "                            ['041.41', '041.42', '041.43', '041.49', '173.00', '173.01', '173.02', '173.09', '173.10', '173.11', '173.12', '173.19', '173.20', '173.21', '173.22', '173.29', '173.30', '173.31', '173.32', '173.39']...\n",
      "WARNING:root:\n",
      "                            dx_icd10->dx_icd9 Unrecognised s_codes\n",
      "                            (49910):\n",
      "                            ['E08.3211', 'E08.3212', 'E08.3213', 'E08.3219', 'E08.3291', 'E08.3292', 'E08.3293', 'E08.3299', 'E08.3311', 'E08.3312', 'E08.3313', 'E08.3319', 'E08.3391', 'E08.3392', 'E08.3393', 'E08.3399', 'E08.3411', 'E08.3412', 'E08.3413', 'E08.3419']...\n",
      "WARNING:root:\n",
      "                            dx_icd10->dx_icd9 Unrecognised t_codes\n",
      "                            (169):\n",
      "                            ['041.41', '041.42', '041.43', '041.49', '173.00', '173.01', '173.02', '173.09', '173.10', '173.11', '173.12', '173.19', '173.20', '173.21', '173.22', '173.29', '173.30', '173.31', '173.32', '173.39']...\n",
      "WARNING:root:\n",
      "                            dx_icd10->dx_icd9 Unrecognised s_codes\n",
      "                            (49910):\n",
      "                            ['E08.3211', 'E08.3212', 'E08.3213', 'E08.3219', 'E08.3291', 'E08.3292', 'E08.3293', 'E08.3299', 'E08.3311', 'E08.3312', 'E08.3313', 'E08.3319', 'E08.3391', 'E08.3392', 'E08.3393', 'E08.3399', 'E08.3411', 'E08.3412', 'E08.3413', 'E08.3419']...\n",
      "WARNING:root:Source discrepancy\n",
      "WARNING:root:M: dx_icd10->dx_icd9 \n",
      "\n",
      "                            S - M_domain (24464, p=0.5333449606488042):\n",
      "                            ['A00', 'A01', 'A01.0', 'A02', 'A02.2']...\n",
      "\n",
      "                            M_domain - S (0, p=0.0):\n",
      "                            []...\n",
      "\n",
      "                            M_domain (21405):\n",
      "                            ['A00.0', 'A00.1', 'A00.9', 'A01.00', 'A01.01']...\n",
      "\n",
      "                            S (45869): ['A00', 'A00.0', 'A00.1', 'A00.9', 'A01']...\n",
      "DEBUG:root:[DONE] Extracting dx codes\n",
      "DEBUG:root:Extracting dx codes history...\n",
      "DEBUG:root:[DONE] Extracting dx codes history\n",
      "DEBUG:root:Extracting outcome...\n",
      "DEBUG:root:[DONE] Extracting outcome\n",
      "DEBUG:root:Extracting procedures...\n",
      "DEBUG:root:[DONE] Extracting procedures\n",
      "DEBUG:root:Extracting inputs...\n",
      "DEBUG:root:[DONE] Extracting inputs\n",
      "DEBUG:root:Extracting observables...\n",
      "DEBUG:root:obs: filter adms\n",
      "DEBUG:root:obs: dasking\n",
      "DEBUG:root:obs: groupby\n",
      "DEBUG:root:obs: undasking\n",
      "DEBUG:root:obs: extract\n",
      "DEBUG:root:obs: empty\n",
      "DEBUG:root:[DONE] Extracting observables\n",
      "DEBUG:root:Compiling admissions...\n"
     ]
    }
   ],
   "source": [
    "# from concurrent.futures import ThreadPoolExecutor\n",
    "# with dask.config.set(pool=ThreadPoolExecutor(12)):\n",
    "with dask.config.set(scheduler='processes', num_workers=12):\n",
    "    m4inpatients = m4inpatients.load_subjects(splits[0][:100], num_workers=12)"
   ]
  },
  {
   "cell_type": "code",
   "execution_count": null,
   "id": "cebd58c5",
   "metadata": {},
   "outputs": [],
   "source": [
    "# m4inpatients.size_in_bytes() / 1024 ** 3"
   ]
  },
  {
   "cell_type": "code",
   "execution_count": null,
   "id": "b598eb42",
   "metadata": {},
   "outputs": [],
   "source": [
    "# val_batch = m4inpatients.device_batch(splits[1])"
   ]
  },
  {
   "cell_type": "code",
   "execution_count": null,
   "id": "428f1548",
   "metadata": {},
   "outputs": [],
   "source": [
    "# tst_batch = m4inpatients.device_batch(splits[2])"
   ]
  },
  {
   "cell_type": "code",
   "execution_count": null,
   "id": "0108a8a5",
   "metadata": {},
   "outputs": [],
   "source": [
    "# val_batch.size_in_bytes() / 1024 ** 3, tst_batch.size_in_bytes() / 1024 ** 3"
   ]
  },
  {
   "cell_type": "code",
   "execution_count": null,
   "id": "1e1174f9",
   "metadata": {},
   "outputs": [],
   "source": []
  },
  {
   "cell_type": "code",
   "execution_count": 12,
   "id": "84e24feb",
   "metadata": {},
   "outputs": [
    {
     "data": {
      "application/vnd.jupyter.widget-view+json": {
       "model_id": "",
       "version_major": 2,
       "version_minor": 0
      },
      "text/plain": [
       "Loading to device:   0%|          | 0/32 [00:00<?, ?subject/s]"
      ]
     },
     "metadata": {},
     "output_type": "display_data"
    },
    {
     "name": "stderr",
     "output_type": "stream",
     "text": [
      "WARNING:jax._src.dispatch:Finished tracing + transforming jit(convert_element_type) in 0.00025653839111328125 sec\n",
      "DEBUG:jax._src.xla_bridge:Initializing backend 'cpu'\n",
      "DEBUG:jax._src.xla_bridge:Backend 'cpu' initialized\n",
      "DEBUG:jax._src.xla_bridge:Initializing backend 'cuda'\n",
      "DEBUG:jax._src.xla_bridge:Backend 'cuda' initialized\n",
      "DEBUG:jax._src.xla_bridge:Initializing backend 'rocm'\n",
      "INFO:jax._src.xla_bridge:Unable to initialize backend 'rocm': NOT_FOUND: Could not find registered platform with name: \"rocm\". Available platform names are: Interpreter CUDA\n",
      "DEBUG:jax._src.xla_bridge:Initializing backend 'tpu'\n",
      "INFO:jax._src.xla_bridge:Unable to initialize backend 'tpu': module 'jaxlib.xla_extension' has no attribute 'get_tpu_client'\n",
      "WARNING:jax._src.dispatch:Finished tracing + transforming jit(convert_element_type) in 0.0001914501190185547 sec\n",
      "WARNING:jax._src.dispatch:Finished tracing + transforming jit(convert_element_type) in 0.00013518333435058594 sec\n",
      "WARNING:jax._src.dispatch:Finished tracing + transforming jit(convert_element_type) in 0.00020122528076171875 sec\n",
      "WARNING:jax._src.dispatch:Finished tracing + transforming jit(convert_element_type) in 0.00013685226440429688 sec\n",
      "WARNING:jax._src.dispatch:Finished tracing + transforming jit(convert_element_type) in 0.0001366138458251953 sec\n",
      "WARNING:jax._src.dispatch:Finished tracing + transforming jit(convert_element_type) in 0.00013446807861328125 sec\n",
      "WARNING:jax._src.dispatch:Finished tracing + transforming jit(convert_element_type) in 0.00013518333435058594 sec\n",
      "WARNING:jax._src.dispatch:Finished tracing + transforming jit(convert_element_type) in 0.00013327598571777344 sec\n",
      "WARNING:jax._src.dispatch:Finished tracing + transforming jit(convert_element_type) in 0.00014138221740722656 sec\n",
      "WARNING:jax._src.dispatch:Finished tracing + transforming jit(convert_element_type) in 0.0001373291015625 sec\n",
      "WARNING:jax._src.dispatch:Finished tracing + transforming jit(convert_element_type) in 0.0002048015594482422 sec\n",
      "WARNING:jax._src.dispatch:Finished tracing + transforming jit(convert_element_type) in 0.0001277923583984375 sec\n",
      "WARNING:jax._src.dispatch:Finished tracing + transforming jit(convert_element_type) in 0.00013303756713867188 sec\n",
      "WARNING:jax._src.dispatch:Finished tracing + transforming jit(convert_element_type) in 0.00012731552124023438 sec\n",
      "WARNING:jax._src.dispatch:Finished tracing + transforming jit(convert_element_type) in 0.00013375282287597656 sec\n",
      "WARNING:jax._src.dispatch:Finished tracing + transforming jit(convert_element_type) in 0.00012874603271484375 sec\n",
      "WARNING:jax._src.dispatch:Finished tracing + transforming jit(convert_element_type) in 0.00012755393981933594 sec\n",
      "WARNING:jax._src.dispatch:Finished tracing + transforming jit(convert_element_type) in 0.00012826919555664062 sec\n",
      "WARNING:jax._src.dispatch:Finished tracing + transforming jit(convert_element_type) in 0.0001289844512939453 sec\n",
      "WARNING:jax._src.dispatch:Finished tracing + transforming jit(convert_element_type) in 0.00017023086547851562 sec\n",
      "WARNING:jax._src.dispatch:Finished tracing + transforming jit(convert_element_type) in 0.00013327598571777344 sec\n",
      "WARNING:jax._src.dispatch:Finished tracing + transforming jit(convert_element_type) in 0.000133514404296875 sec\n",
      "WARNING:jax._src.dispatch:Finished tracing + transforming jit(convert_element_type) in 0.00015091896057128906 sec\n",
      "WARNING:jax._src.dispatch:Finished tracing + transforming jit(convert_element_type) in 0.0001533031463623047 sec\n",
      "WARNING:jax._src.dispatch:Finished tracing + transforming jit(convert_element_type) in 0.00013709068298339844 sec\n",
      "WARNING:jax._src.dispatch:Finished tracing + transforming jit(convert_element_type) in 0.00013756752014160156 sec\n",
      "WARNING:jax._src.dispatch:Finished tracing + transforming jit(convert_element_type) in 0.00013375282287597656 sec\n",
      "WARNING:jax._src.dispatch:Finished tracing + transforming jit(convert_element_type) in 0.0001323223114013672 sec\n",
      "WARNING:jax._src.dispatch:Finished tracing + transforming jit(convert_element_type) in 0.0001678466796875 sec\n",
      "WARNING:jax._src.dispatch:Finished tracing + transforming jit(convert_element_type) in 0.0001850128173828125 sec\n",
      "WARNING:jax._src.dispatch:Finished tracing + transforming jit(convert_element_type) in 0.00013399124145507812 sec\n",
      "WARNING:jax._src.dispatch:Finished tracing + transforming jit(convert_element_type) in 0.0001366138458251953 sec\n",
      "WARNING:jax._src.dispatch:Finished tracing + transforming jit(convert_element_type) in 0.00015926361083984375 sec\n",
      "WARNING:jax._src.dispatch:Finished tracing + transforming jit(convert_element_type) in 0.000133514404296875 sec\n",
      "WARNING:jax._src.dispatch:Finished tracing + transforming jit(convert_element_type) in 0.0001742839813232422 sec\n",
      "WARNING:jax._src.dispatch:Finished tracing + transforming jit(convert_element_type) in 0.00020599365234375 sec\n",
      "WARNING:jax._src.dispatch:Finished tracing + transforming jit(convert_element_type) in 0.0001392364501953125 sec\n",
      "WARNING:jax._src.dispatch:Finished tracing + transforming jit(convert_element_type) in 0.00013256072998046875 sec\n",
      "WARNING:jax._src.dispatch:Finished tracing + transforming jit(convert_element_type) in 0.00017786026000976562 sec\n",
      "WARNING:jax._src.dispatch:Finished tracing + transforming jit(convert_element_type) in 0.0001347064971923828 sec\n",
      "WARNING:jax._src.dispatch:Finished tracing + transforming jit(convert_element_type) in 0.00013899803161621094 sec\n",
      "WARNING:jax._src.dispatch:Finished tracing + transforming jit(convert_element_type) in 0.0001354217529296875 sec\n",
      "WARNING:jax._src.dispatch:Finished tracing + transforming jit(convert_element_type) in 0.00014066696166992188 sec\n",
      "WARNING:jax._src.dispatch:Finished tracing + transforming jit(convert_element_type) in 0.00017142295837402344 sec\n",
      "WARNING:jax._src.dispatch:Finished tracing + transforming jit(convert_element_type) in 0.00013709068298339844 sec\n",
      "WARNING:jax._src.dispatch:Finished tracing + transforming jit(convert_element_type) in 0.00014400482177734375 sec\n",
      "WARNING:jax._src.dispatch:Finished tracing + transforming jit(convert_element_type) in 0.0001392364501953125 sec\n",
      "WARNING:jax._src.dispatch:Finished tracing + transforming jit(convert_element_type) in 0.00018262863159179688 sec\n",
      "WARNING:jax._src.dispatch:Finished tracing + transforming jit(convert_element_type) in 0.00013399124145507812 sec\n",
      "WARNING:jax._src.dispatch:Finished tracing + transforming jit(convert_element_type) in 0.00013685226440429688 sec\n",
      "WARNING:jax._src.dispatch:Finished tracing + transforming jit(convert_element_type) in 0.0001327991485595703 sec\n",
      "WARNING:jax._src.dispatch:Finished tracing + transforming jit(convert_element_type) in 0.00013327598571777344 sec\n",
      "WARNING:jax._src.dispatch:Finished tracing + transforming jit(convert_element_type) in 0.00013589859008789062 sec\n",
      "WARNING:jax._src.dispatch:Finished tracing + transforming jit(convert_element_type) in 0.0002589225769042969 sec\n",
      "WARNING:jax._src.dispatch:Finished tracing + transforming jit(convert_element_type) in 0.00015282630920410156 sec\n",
      "WARNING:jax._src.dispatch:Finished tracing + transforming jit(convert_element_type) in 0.00013566017150878906 sec\n",
      "WARNING:jax._src.dispatch:Finished tracing + transforming jit(convert_element_type) in 0.0001544952392578125 sec\n",
      "WARNING:jax._src.dispatch:Finished tracing + transforming jit(convert_element_type) in 0.0001327991485595703 sec\n",
      "WARNING:jax._src.dispatch:Finished tracing + transforming jit(convert_element_type) in 0.00014781951904296875 sec\n",
      "WARNING:jax._src.dispatch:Finished tracing + transforming jit(convert_element_type) in 0.00016880035400390625 sec\n",
      "WARNING:jax._src.dispatch:Finished tracing + transforming jit(convert_element_type) in 0.0001354217529296875 sec\n",
      "WARNING:jax._src.dispatch:Finished tracing + transforming jit(convert_element_type) in 0.00014495849609375 sec\n",
      "WARNING:jax._src.dispatch:Finished tracing + transforming jit(convert_element_type) in 0.00016808509826660156 sec\n",
      "WARNING:jax._src.dispatch:Finished tracing + transforming jit(convert_element_type) in 0.00013208389282226562 sec\n",
      "WARNING:jax._src.dispatch:Finished tracing + transforming jit(convert_element_type) in 0.0001285076141357422 sec\n",
      "WARNING:jax._src.dispatch:Finished tracing + transforming jit(convert_element_type) in 0.0001304149627685547 sec\n"
     ]
    },
    {
     "name": "stderr",
     "output_type": "stream",
     "text": [
      "WARNING:jax._src.dispatch:Finished tracing + transforming jit(convert_element_type) in 0.0001285076141357422 sec\n",
      "WARNING:jax._src.dispatch:Finished tracing + transforming jit(convert_element_type) in 0.00012969970703125 sec\n",
      "WARNING:jax._src.dispatch:Finished tracing + transforming jit(convert_element_type) in 0.00012922286987304688 sec\n",
      "WARNING:jax._src.dispatch:Finished tracing + transforming jit(convert_element_type) in 0.00013065338134765625 sec\n",
      "WARNING:jax._src.dispatch:Finished tracing + transforming jit(convert_element_type) in 0.00014662742614746094 sec\n",
      "WARNING:jax._src.dispatch:Finished tracing + transforming jit(convert_element_type) in 0.00019669532775878906 sec\n",
      "WARNING:jax._src.dispatch:Finished tracing + transforming jit(convert_element_type) in 0.0001308917999267578 sec\n",
      "WARNING:jax._src.dispatch:Finished tracing + transforming jit(convert_element_type) in 0.00012874603271484375 sec\n",
      "WARNING:jax._src.dispatch:Finished tracing + transforming jit(convert_element_type) in 0.0001671314239501953 sec\n",
      "WARNING:jax._src.dispatch:Finished tracing + transforming jit(convert_element_type) in 0.0002753734588623047 sec\n",
      "WARNING:jax._src.dispatch:Finished tracing + transforming jit(convert_element_type) in 0.0002505779266357422 sec\n",
      "WARNING:jax._src.dispatch:Finished tracing + transforming jit(convert_element_type) in 0.00016736984252929688 sec\n",
      "WARNING:jax._src.dispatch:Finished tracing + transforming jit(convert_element_type) in 0.00014710426330566406 sec\n",
      "WARNING:jax._src.dispatch:Finished tracing + transforming jit(convert_element_type) in 0.00017118453979492188 sec\n",
      "WARNING:jax._src.dispatch:Finished tracing + transforming jit(convert_element_type) in 0.0001456737518310547 sec\n",
      "WARNING:jax._src.dispatch:Finished tracing + transforming jit(convert_element_type) in 0.00013494491577148438 sec\n",
      "WARNING:jax._src.dispatch:Finished tracing + transforming jit(convert_element_type) in 0.0001392364501953125 sec\n",
      "WARNING:jax._src.dispatch:Finished tracing + transforming jit(convert_element_type) in 0.00016450881958007812 sec\n",
      "WARNING:jax._src.dispatch:Finished tracing + transforming jit(convert_element_type) in 0.0001327991485595703 sec\n",
      "WARNING:jax._src.dispatch:Finished tracing + transforming jit(convert_element_type) in 0.00017189979553222656 sec\n",
      "WARNING:jax._src.dispatch:Finished tracing + transforming jit(convert_element_type) in 0.00013446807861328125 sec\n",
      "WARNING:jax._src.dispatch:Finished tracing + transforming jit(convert_element_type) in 0.0001666545867919922 sec\n",
      "WARNING:jax._src.dispatch:Finished tracing + transforming jit(convert_element_type) in 0.00019216537475585938 sec\n",
      "WARNING:jax._src.dispatch:Finished tracing + transforming jit(convert_element_type) in 0.00017023086547851562 sec\n",
      "WARNING:jax._src.dispatch:Finished tracing + transforming jit(convert_element_type) in 0.0001316070556640625 sec\n",
      "WARNING:jax._src.dispatch:Finished tracing + transforming jit(convert_element_type) in 0.00012969970703125 sec\n",
      "WARNING:jax._src.dispatch:Finished tracing + transforming jit(convert_element_type) in 0.00013017654418945312 sec\n",
      "WARNING:jax._src.dispatch:Finished tracing + transforming jit(convert_element_type) in 0.00016760826110839844 sec\n",
      "WARNING:jax._src.dispatch:Finished tracing + transforming jit(convert_element_type) in 0.0001347064971923828 sec\n",
      "WARNING:jax._src.dispatch:Finished tracing + transforming jit(convert_element_type) in 0.0002410411834716797 sec\n",
      "WARNING:jax._src.dispatch:Finished tracing + transforming jit(convert_element_type) in 0.0001347064971923828 sec\n",
      "WARNING:jax._src.dispatch:Finished tracing + transforming jit(convert_element_type) in 0.00023674964904785156 sec\n",
      "WARNING:jax._src.dispatch:Finished tracing + transforming jit(convert_element_type) in 0.00013375282287597656 sec\n",
      "WARNING:jax._src.dispatch:Finished tracing + transforming jit(convert_element_type) in 0.00017380714416503906 sec\n",
      "WARNING:jax._src.dispatch:Finished tracing + transforming jit(convert_element_type) in 0.00013184547424316406 sec\n",
      "WARNING:jax._src.dispatch:Finished tracing + transforming jit(convert_element_type) in 0.00017189979553222656 sec\n",
      "WARNING:jax._src.dispatch:Finished tracing + transforming jit(convert_element_type) in 0.00020313262939453125 sec\n",
      "WARNING:jax._src.dispatch:Finished tracing + transforming jit(convert_element_type) in 0.00013780593872070312 sec\n",
      "WARNING:jax._src.dispatch:Finished tracing + transforming jit(convert_element_type) in 0.0001366138458251953 sec\n",
      "WARNING:jax._src.dispatch:Finished tracing + transforming jit(convert_element_type) in 0.0001690387725830078 sec\n",
      "WARNING:jax._src.dispatch:Finished tracing + transforming jit(convert_element_type) in 0.00013208389282226562 sec\n",
      "WARNING:jax._src.dispatch:Finished tracing + transforming jit(convert_element_type) in 0.0001709461212158203 sec\n",
      "WARNING:jax._src.dispatch:Finished tracing + transforming jit(convert_element_type) in 0.00013327598571777344 sec\n",
      "WARNING:jax._src.dispatch:Finished tracing + transforming jit(convert_element_type) in 0.0001628398895263672 sec\n",
      "WARNING:jax._src.dispatch:Finished tracing + transforming jit(convert_element_type) in 0.00013375282287597656 sec\n",
      "WARNING:jax._src.dispatch:Finished tracing + transforming jit(convert_element_type) in 0.0001614093780517578 sec\n",
      "WARNING:jax._src.dispatch:Finished tracing + transforming jit(convert_element_type) in 0.00013446807861328125 sec\n",
      "WARNING:jax._src.dispatch:Finished tracing + transforming jit(convert_element_type) in 0.00013685226440429688 sec\n",
      "WARNING:jax._src.dispatch:Finished tracing + transforming jit(convert_element_type) in 0.00017070770263671875 sec\n",
      "WARNING:jax._src.dispatch:Finished tracing + transforming jit(convert_element_type) in 0.0001354217529296875 sec\n",
      "WARNING:jax._src.dispatch:Finished tracing + transforming jit(convert_element_type) in 0.00026297569274902344 sec\n",
      "WARNING:jax._src.dispatch:Finished tracing + transforming jit(convert_element_type) in 0.00014448165893554688 sec\n",
      "WARNING:jax._src.dispatch:Finished tracing + transforming jit(convert_element_type) in 0.0001456737518310547 sec\n",
      "WARNING:jax._src.dispatch:Finished tracing + transforming jit(convert_element_type) in 0.00012993812561035156 sec\n",
      "WARNING:jax._src.dispatch:Finished tracing + transforming jit(convert_element_type) in 0.00020623207092285156 sec\n",
      "WARNING:jax._src.dispatch:Finished tracing + transforming jit(convert_element_type) in 0.0001342296600341797 sec\n",
      "WARNING:jax._src.dispatch:Finished tracing + transforming jit(convert_element_type) in 0.00016927719116210938 sec\n",
      "WARNING:jax._src.dispatch:Finished tracing + transforming jit(convert_element_type) in 0.0002372264862060547 sec\n",
      "WARNING:jax._src.dispatch:Finished tracing + transforming jit(convert_element_type) in 0.0001354217529296875 sec\n",
      "WARNING:jax._src.dispatch:Finished tracing + transforming jit(convert_element_type) in 0.00026702880859375 sec\n",
      "WARNING:jax._src.dispatch:Finished tracing + transforming jit(convert_element_type) in 0.0001342296600341797 sec\n",
      "WARNING:jax._src.dispatch:Finished tracing + transforming jit(convert_element_type) in 0.00016736984252929688 sec\n",
      "WARNING:jax._src.dispatch:Finished tracing + transforming jit(convert_element_type) in 0.0002262592315673828 sec\n",
      "WARNING:jax._src.dispatch:Finished tracing + transforming jit(convert_element_type) in 0.00017380714416503906 sec\n",
      "WARNING:jax._src.dispatch:Finished tracing + transforming jit(convert_element_type) in 0.00014710426330566406 sec\n",
      "WARNING:jax._src.dispatch:Finished tracing + transforming jit(convert_element_type) in 0.00017142295837402344 sec\n",
      "WARNING:jax._src.dispatch:Finished tracing + transforming jit(convert_element_type) in 0.0001342296600341797 sec\n",
      "WARNING:jax._src.dispatch:Finished tracing + transforming jit(convert_element_type) in 0.0001323223114013672 sec\n",
      "WARNING:jax._src.dispatch:Finished tracing + transforming jit(convert_element_type) in 0.00017023086547851562 sec\n",
      "WARNING:jax._src.dispatch:Finished tracing + transforming jit(convert_element_type) in 0.00013589859008789062 sec\n",
      "WARNING:jax._src.dispatch:Finished tracing + transforming jit(convert_element_type) in 0.00016736984252929688 sec\n",
      "WARNING:jax._src.dispatch:Finished tracing + transforming jit(convert_element_type) in 0.0001342296600341797 sec\n",
      "WARNING:jax._src.dispatch:Finished tracing + transforming jit(convert_element_type) in 0.00013017654418945312 sec\n"
     ]
    },
    {
     "name": "stderr",
     "output_type": "stream",
     "text": [
      "WARNING:jax._src.dispatch:Finished tracing + transforming jit(convert_element_type) in 0.00013136863708496094 sec\n",
      "WARNING:jax._src.dispatch:Finished tracing + transforming jit(convert_element_type) in 0.0001327991485595703 sec\n",
      "WARNING:jax._src.dispatch:Finished tracing + transforming jit(convert_element_type) in 0.00016951560974121094 sec\n",
      "WARNING:jax._src.dispatch:Finished tracing + transforming jit(convert_element_type) in 0.00013375282287597656 sec\n"
     ]
    }
   ],
   "source": [
    "batch = m4inpatients.device_batch(splits[0][:32])"
   ]
  },
  {
   "cell_type": "code",
   "execution_count": 13,
   "id": "0af85343",
   "metadata": {},
   "outputs": [
    {
     "data": {
      "text/plain": [
       "0.004255837760865688"
      ]
     },
     "execution_count": 13,
     "metadata": {},
     "output_type": "execute_result"
    }
   ],
   "source": [
    "batch.size_in_bytes() / 1024 ** 3"
   ]
  },
  {
   "cell_type": "code",
   "execution_count": 14,
   "id": "0210e539",
   "metadata": {},
   "outputs": [
    {
     "data": {
      "text/plain": [
       "32"
      ]
     },
     "execution_count": 14,
     "metadata": {},
     "output_type": "execute_result"
    }
   ],
   "source": [
    "len(batch.subjects)"
   ]
  },
  {
   "cell_type": "code",
   "execution_count": 15,
   "id": "de0adf08",
   "metadata": {},
   "outputs": [
    {
     "data": {
      "text/plain": [
       "95"
      ]
     },
     "execution_count": 15,
     "metadata": {},
     "output_type": "execute_result"
    }
   ],
   "source": [
    "batch.n_admissions()"
   ]
  },
  {
   "cell_type": "code",
   "execution_count": 16,
   "id": "0464a3bb",
   "metadata": {},
   "outputs": [
    {
     "data": {
      "text/plain": [
       "4765"
      ]
     },
     "execution_count": 16,
     "metadata": {},
     "output_type": "execute_result"
    }
   ],
   "source": [
    "batch.n_segments()"
   ]
  },
  {
   "cell_type": "code",
   "execution_count": 17,
   "id": "1b3711f3",
   "metadata": {},
   "outputs": [
    {
     "data": {
      "text/plain": [
       "3793"
      ]
     },
     "execution_count": 17,
     "metadata": {},
     "output_type": "execute_result"
    }
   ],
   "source": [
    "batch.n_obs_times()"
   ]
  },
  {
   "cell_type": "code",
   "execution_count": null,
   "id": "26fa5b6f",
   "metadata": {},
   "outputs": [],
   "source": [
    "# import numpy as np\n",
    "# import matplotlib.pyplot as plt\n",
    "\n",
    "# a = m4inpatients_jax.obs_coocurrence_matrix\n",
    "# a = np.array(a)\n",
    "# plt.imshow(a, cmap='hot', interpolation='nearest')\n",
    "# plt.show()"
   ]
  },
  {
   "cell_type": "code",
   "execution_count": null,
   "id": "9756e21b",
   "metadata": {},
   "outputs": [],
   "source": [
    "s = batch.subjects[splits[0][6]].admissions[0].interventions.input_\n",
    "s"
   ]
  },
  {
   "cell_type": "code",
   "execution_count": null,
   "id": "0135d6c5",
   "metadata": {},
   "outputs": [],
   "source": [
    "batch.interval_hours(splits[0][:10])"
   ]
  },
  {
   "cell_type": "markdown",
   "id": "b66a64de",
   "metadata": {},
   "source": [
    "### التدريب على نموذج المعادلات التفاضلية الاعتيادية العصبية\n"
   ]
  },
  {
   "cell_type": "code",
   "execution_count": null,
   "id": "9442545b",
   "metadata": {},
   "outputs": [],
   "source": [
    "from lib.ml.in_icenode import InICENODE, InICENODEDimensions\n",
    "import jax.random as jrandom"
   ]
  },
  {
   "cell_type": "code",
   "execution_count": null,
   "id": "4a67ad64",
   "metadata": {},
   "outputs": [],
   "source": []
  },
  {
   "cell_type": "code",
   "execution_count": null,
   "id": "ec043fd4",
   "metadata": {},
   "outputs": [],
   "source": []
  },
  {
   "cell_type": "code",
   "execution_count": null,
   "id": "c911e2f3",
   "metadata": {},
   "outputs": [],
   "source": [
    "dims = InICENODEDimensions(state_m=15, \n",
    "                state_dx_e=10,\n",
    "                state_obs_e=25,\n",
    "                input_e=10,\n",
    "                proc_e=10,\n",
    "                demo_e=5,\n",
    "                int_e=15)\n",
    "key = jrandom.PRNGKey(0)\n",
    "\n",
    "m = InICENODE(dims=dims, \n",
    "              scheme=m4icu_dataset.scheme,\n",
    "              key=key)"
   ]
  },
  {
   "cell_type": "code",
   "execution_count": null,
   "id": "72d4f9c8",
   "metadata": {},
   "outputs": [],
   "source": [
    "# res = m.batch_predict(m4inpatients.device_batch(), leave_pbar=True)"
   ]
  },
  {
   "cell_type": "code",
   "execution_count": null,
   "id": "5413743a",
   "metadata": {},
   "outputs": [],
   "source": [
    "from lib.ml import InTrainer, MetricsHistory\n",
    "from lib.metric import  (CodeAUC, UntilFirstCodeAUC, AdmissionAUC,\n",
    "                      CodeGroupTopAlarmAccuracy, LossMetric, MetricsCollection)\n",
    "\n",
    "from lib.ml import MinibatchLogger, EvaluationDiskWriter, ParamsDiskWriter, ConfigDiskWriter"
   ]
  },
  {
   "cell_type": "code",
   "execution_count": null,
   "id": "3658579e",
   "metadata": {},
   "outputs": [],
   "source": [
    "config = {        \n",
    "    \"batch_size\": 32,\n",
    "    \"lr\": 1e-3,\n",
    "    \"epochs\": 150,\n",
    "    \"opt\": \"adam\",\n",
    "    \"reg_hyperparams\": None\n",
    "}\n",
    "trainer = InTrainer(**config)\n",
    "expt_dir = 'inicenode'"
   ]
  },
  {
   "cell_type": "code",
   "execution_count": null,
   "id": "a9411da9",
   "metadata": {},
   "outputs": [],
   "source": [
    "metrics = [\n",
    "    CodeAUC(m4inpatients),\n",
    "    UntilFirstCodeAUC(m4inpatients),\n",
    "    AdmissionAUC(m4inpatients),\n",
    "    LossMetric(m4inpatients)\n",
    "]\n",
    "reporters = [\n",
    "        MinibatchLogger(config),\n",
    "#         EvaluationDiskWriter(output_dir=expt_dir),\n",
    "#         ParamsDiskWriter(output_dir=expt_dir),\n",
    "#         ConfigDiskWriter(output_dir=expt_dir, config=config)\n",
    "    ]\n",
    "metrics = MetricsCollection(metrics)\n",
    "history = MetricsHistory(metrics)"
   ]
  },
  {
   "cell_type": "code",
   "execution_count": null,
   "id": "d5090a9c",
   "metadata": {},
   "outputs": [],
   "source": [
    "    \n",
    "splits = m4inpatients.random_splits([0.9, 0.95], \n",
    "                                    balanced='admissions')\n",
    "res = trainer(m, m4inpatients, splits=splits, history=history, \n",
    "             reporters=reporters)"
   ]
  },
  {
   "cell_type": "code",
   "execution_count": null,
   "id": "e7985d4d",
   "metadata": {},
   "outputs": [],
   "source": [
    "# import jax.tree_util as jtu\n",
    "# import jax.numpy as jnp\n",
    "# import equinox as eqx\n",
    "\n",
    "# jtu.tree_map(lambda x: f'{x.shape} {jnp.any(jnp.isnan(x)).item()}' if eqx.is_array(x) else None , m)"
   ]
  },
  {
   "cell_type": "code",
   "execution_count": null,
   "id": "dc769b9a",
   "metadata": {},
   "outputs": [],
   "source": [
    "# emb_subj = {i: m.f_emb(s) for i, s in m4inpatients.device_batch().subjects.items()}"
   ]
  },
  {
   "cell_type": "code",
   "execution_count": null,
   "id": "5a421394",
   "metadata": {},
   "outputs": [],
   "source": []
  }
 ],
 "metadata": {
  "kernelspec": {
   "display_name": "Python 3 (ipykernel)",
   "language": "python",
   "name": "python3"
  },
  "language_info": {
   "codemirror_mode": {
    "name": "ipython",
    "version": 3
   },
   "file_extension": ".py",
   "mimetype": "text/x-python",
   "name": "python",
   "nbconvert_exporter": "python",
   "pygments_lexer": "ipython3",
   "version": "3.9.17"
  }
 },
 "nbformat": 4,
 "nbformat_minor": 5
}
