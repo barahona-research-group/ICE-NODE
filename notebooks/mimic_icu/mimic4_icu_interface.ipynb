{
 "cells": [
  {
   "cell_type": "code",
   "execution_count": 1,
   "id": "ab383786",
   "metadata": {},
   "outputs": [],
   "source": [
    "%load_ext autoreload\n",
    "%autoreload 2\n",
    "import sys\n",
    "import os\n",
    "import glob\n",
    "import random\n",
    "from collections import defaultdict\n",
    "from pathlib import Path\n",
    "\n",
    "from IPython.display import display\n",
    "\n",
    "import pandas as pd\n",
    "\n",
    "from tqdm import tqdm\n",
    "import jax\n",
    "jax.config.update('jax_platform_name', 'cpu')"
   ]
  },
  {
   "cell_type": "code",
   "execution_count": 2,
   "id": "c83480cb",
   "metadata": {},
   "outputs": [],
   "source": [
    "\n",
    "\n",
    "sys.path.append(\"../..\")\n",
    "\n",
    "from lib import utils as U\n",
    "from lib.ehr.dataset import load_dataset\n",
    "from lib.ehr.icu_interface import Inpatients"
   ]
  },
  {
   "cell_type": "code",
   "execution_count": 3,
   "id": "93f4e7be",
   "metadata": {},
   "outputs": [],
   "source": [
    "import logging\n",
    "logging.root.level = logging.DEBUG\n"
   ]
  },
  {
   "cell_type": "code",
   "execution_count": null,
   "id": "0e2c666a",
   "metadata": {},
   "outputs": [
    {
     "name": "stderr",
     "output_type": "stream",
     "text": [
      "DEBUG:root:Loading dataframes\n"
     ]
    }
   ],
   "source": [
    "# Assign the folder of the dataset to `DATA_FILE`.\n",
    "\n",
    "HOME = os.environ.get('HOME')\n",
    "DATA_DIR = f'{HOME}/GP/ehr-data'\n",
    "SOURCE_DIR = os.path.abspath(\"..\")\n",
    "\n",
    "with U.modified_environ(DATA_DIR=DATA_DIR):\n",
    "    m4inpatient_dataset = load_dataset('M4ICU')\n",
    "   "
   ]
  },
  {
   "cell_type": "code",
   "execution_count": null,
   "id": "7961c06a",
   "metadata": {},
   "outputs": [],
   "source": [
    "splits = m4inpatient_dataset.random_splits(0.8, 0.9, 42)"
   ]
  },
  {
   "cell_type": "code",
   "execution_count": null,
   "id": "2792ec52",
   "metadata": {},
   "outputs": [],
   "source": [
    "list(map(len, splits))"
   ]
  },
  {
   "cell_type": "code",
   "execution_count": null,
   "id": "64feefd9",
   "metadata": {},
   "outputs": [],
   "source": [
    "import jax\n",
    "from concurrent.futures import ThreadPoolExecutor\n",
    "\n",
    "jax.config.update('jax_platform_name', 'cpu')"
   ]
  },
  {
   "cell_type": "code",
   "execution_count": null,
   "id": "47077919",
   "metadata": {},
   "outputs": [],
   "source": [
    "%%timeit\n",
    "m4inaptients = Inpatients(m4inpatient_dataset, splits[2][:2048], max_workers=1)\n",
    "m4inaptients_jax = m4inaptients.to_jax_arrays()"
   ]
  },
  {
   "cell_type": "code",
   "execution_count": null,
   "id": "454c5b7c",
   "metadata": {},
   "outputs": [],
   "source": [
    "%%timeit\n",
    "m4inaptients = Inpatients(m4inpatient_dataset, splits[2][:2048], max_workers=2)\n",
    "m4inaptients_jax = m4inaptients.to_jax_arrays()"
   ]
  },
  {
   "cell_type": "code",
   "execution_count": null,
   "id": "76b51c08",
   "metadata": {},
   "outputs": [],
   "source": [
    "%%timeit\n",
    "m4inaptients = Inpatients(m4inpatient_dataset, splits[2][:2048], max_workers=4)\n",
    "m4inaptients_jax = m4inaptients.to_jax_arrays()"
   ]
  },
  {
   "cell_type": "code",
   "execution_count": null,
   "id": "85a18e37",
   "metadata": {},
   "outputs": [],
   "source": [
    "%%timeit\n",
    "m4inaptients = Inpatients(m4inpatient_dataset, splits[2][:2048], max_workers=8)\n",
    "m4inaptients_jax = m4inaptients.to_jax_arrays()"
   ]
  },
  {
   "cell_type": "code",
   "execution_count": null,
   "id": "b2cc67d0",
   "metadata": {},
   "outputs": [],
   "source": [
    "%%timeit\n",
    "m4inaptients = Inpatients(m4inpatient_dataset, splits[2][:2048], max_workers=16)\n",
    "m4inaptients_jax = m4inaptients.to_jax_arrays()"
   ]
  },
  {
   "cell_type": "code",
   "execution_count": null,
   "id": "62a98606",
   "metadata": {},
   "outputs": [],
   "source": [
    "m4inaptients.size_in_bytes / 1024 ** 3"
   ]
  },
  {
   "cell_type": "code",
   "execution_count": null,
   "id": "891c8ad1",
   "metadata": {},
   "outputs": [],
   "source": [
    "import jax.tree_util as jtree\n",
    "import equinox as eqx\n",
    "import jax.numpy as jnp\n",
    "is_arr = eqx.filter(m4inaptients.subjects, eqx.is_array)\n",
    "arr_size = jtree.tree_map(lambda a, flag: jnp.size(a) * jnp.dtype(a).itemsize if flag is not None else 0, \n",
    "                         m4inaptients.subjects, is_arr)\n",
    "batch_size = sum(jtree.tree_leaves(arr_size))\n",
    "batch_size\n",
    "# is_arr = eqx.filter(m4inaptients.subjects, eqx.is_array)\n",
    "# jtree.tree_leaves(m4inaptients.subjects)"
   ]
  },
  {
   "cell_type": "code",
   "execution_count": null,
   "id": "e9917e92",
   "metadata": {},
   "outputs": [],
   "source": [
    "is_arr[0].admissions[0].procedures"
   ]
  },
  {
   "cell_type": "code",
   "execution_count": null,
   "id": "f7132624",
   "metadata": {},
   "outputs": [],
   "source": [
    "m4inaptients.subjects[0].admissions[0].procedures"
   ]
  },
  {
   "cell_type": "code",
   "execution_count": null,
   "id": "f2ba4ab0",
   "metadata": {},
   "outputs": [],
   "source": [
    "eqx.is_array([0, 1])"
   ]
  },
  {
   "cell_type": "code",
   "execution_count": null,
   "id": "fcc38d05",
   "metadata": {},
   "outputs": [],
   "source": [
    "import jax.numpy as jnp\n",
    "a = jnp.array([1, 1, 0], dtype=jnp.float16)\n",
    "jnp.dtype(a).itemsize * jnp.size(a)\n"
   ]
  },
  {
   "cell_type": "code",
   "execution_count": null,
   "id": "26fa0d11",
   "metadata": {},
   "outputs": [],
   "source": [
    "a.size"
   ]
  },
  {
   "cell_type": "code",
   "execution_count": null,
   "id": "28af572c",
   "metadata": {},
   "outputs": [],
   "source": [
    "from lib.ehr.coding_scheme import DxICD9, DxICD10"
   ]
  },
  {
   "cell_type": "code",
   "execution_count": null,
   "id": "f3ef0f50",
   "metadata": {},
   "outputs": [],
   "source": [
    "s = DxICD10()"
   ]
  },
  {
   "cell_type": "code",
   "execution_count": null,
   "id": "5976b952",
   "metadata": {},
   "outputs": [],
   "source": [
    "len(s)"
   ]
  },
  {
   "cell_type": "markdown",
   "id": "ab56a1b2",
   "metadata": {},
   "source": [
    "## TODO\n",
    "\n",
    "1. Squeeze code vectors.\n",
    "2. Squeeze float32 to float16."
   ]
  },
  {
   "cell_type": "code",
   "execution_count": null,
   "id": "ca2b87c4",
   "metadata": {},
   "outputs": [],
   "source": [
    "!ls  /home/asem/GP/ICE-NODE/lib/ehr/resources/"
   ]
  },
  {
   "cell_type": "code",
   "execution_count": null,
   "id": "1785891a",
   "metadata": {},
   "outputs": [],
   "source": [
    "df = pd.read_csv('/home/asem/GP/ICE-NODE/lib/ehr/resources/mimic4_int_grouper_proc.csv.gz')"
   ]
  },
  {
   "cell_type": "code",
   "execution_count": null,
   "id": "d399cafa",
   "metadata": {},
   "outputs": [],
   "source": [
    "df.group.nunique()"
   ]
  },
  {
   "cell_type": "code",
   "execution_count": null,
   "id": "3c7d4ab0",
   "metadata": {},
   "outputs": [],
   "source": []
  }
 ],
 "metadata": {
  "kernelspec": {
   "display_name": "Python 3 (ipykernel)",
   "language": "python",
   "name": "python3"
  },
  "language_info": {
   "codemirror_mode": {
    "name": "ipython",
    "version": 3
   },
   "file_extension": ".py",
   "mimetype": "text/x-python",
   "name": "python",
   "nbconvert_exporter": "python",
   "pygments_lexer": "ipython3",
   "version": "3.8.13"
  }
 },
 "nbformat": 4,
 "nbformat_minor": 5
}
