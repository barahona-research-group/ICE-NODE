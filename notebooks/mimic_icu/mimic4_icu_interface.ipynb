{
 "cells": [
  {
   "cell_type": "code",
   "execution_count": 1,
   "id": "ab383786",
   "metadata": {},
   "outputs": [],
   "source": [
    "%load_ext autoreload\n",
    "%autoreload 2\n",
    "import sys\n",
    "import os\n",
    "import glob\n",
    "import random\n",
    "from collections import defaultdict\n",
    "from pathlib import Path\n",
    "\n",
    "from IPython.display import display\n",
    "\n",
    "import pandas as pd\n",
    "\n",
    "from tqdm import tqdm\n",
    "import jax\n",
    "jax.config.update('jax_platform_name', 'gpu')\n",
    "# jax.config.update(\"jax_debug_nans\", True)\n",
    "# jax.config.update(\"jax_enable_x64\", True)"
   ]
  },
  {
   "cell_type": "code",
   "execution_count": 2,
   "id": "c83480cb",
   "metadata": {},
   "outputs": [],
   "source": [
    "\n",
    "\n",
    "sys.path.append(\"../..\")\n",
    "\n",
    "from lib import utils as U\n",
    "from lib.ehr.dataset import load_dataset, load_dataset_scheme\n",
    "from lib.ehr.interface import Patients\n"
   ]
  },
  {
   "cell_type": "code",
   "execution_count": 3,
   "id": "84683c18",
   "metadata": {},
   "outputs": [],
   "source": [
    "# scheme = load_dataset_scheme('M4ICU')"
   ]
  },
  {
   "cell_type": "code",
   "execution_count": 4,
   "id": "99451f48",
   "metadata": {},
   "outputs": [],
   "source": [
    "import logging\n",
    "logging.root.level = logging.DEBUG"
   ]
  },
  {
   "cell_type": "code",
   "execution_count": 5,
   "id": "fc796475",
   "metadata": {},
   "outputs": [],
   "source": [
    "# from lib.ehr.coding_scheme import MIMIC4Procedures, MIMIC4ProcedureGroups\n",
    "# from lib.ehr.coding_scheme import MIMIC4Input, MIMIC4InputGroups\n",
    "\n",
    "# cproc = MIMIC4Procedures()\n",
    "# cproc_g = MIMIC4ProcedureGroups()\n",
    "# cinp = MIMIC4Input()\n",
    "# cinp_g = MIMIC4InputGroups()"
   ]
  },
  {
   "cell_type": "code",
   "execution_count": null,
   "id": "19a42f06",
   "metadata": {},
   "outputs": [
    {
     "name": "stderr",
     "output_type": "stream",
     "text": [
      "DEBUG:root:Loading dataframe files\n",
      "DEBUG:fsspec.local:open file: /home/asem/GP/ehr-data/mimic4icu-cohort/adm_df.csv\n",
      "DEBUG:fsspec.local:open file: /home/asem/GP/ehr-data/mimic4icu-cohort/dx_df.csv\n",
      "DEBUG:fsspec.local:open file: /home/asem/GP/ehr-data/mimic4icu-cohort/static_df.csv\n",
      "DEBUG:fsspec.local:open file: /home/asem/GP/ehr-data/mimic4icu-cohort/obs_df.csv\n",
      "DEBUG:fsspec.local:open file: /home/asem/GP/ehr-data/mimic4icu-cohort/int_input.csv\n",
      "DEBUG:fsspec.local:open file: /home/asem/GP/ehr-data/mimic4icu-cohort/int_proc.csv\n",
      "DEBUG:root:[DONE] Loading dataframe files\n",
      "DEBUG:root:Preprocess admissions\n",
      "DEBUG:root:Removing subjects with at least one negative adm_interval: 0\n",
      "DEBUG:root:adm: Merging overlapping admissions\n",
      "DEBUG:root:adm: Merged 1 overlapping admissions\n",
      "DEBUG:root:[DONE] Preprocess admissions\n",
      "DEBUG:root:Matching admission_id\n",
      "DEBUG:root:[DONE] Matching admission_id\n",
      "DEBUG:root:Time casting..\n",
      "DEBUG:root:[DONE] Time casting..\n",
      "DEBUG:root:Constructing dx_icd9 (<class 'lib.ehr.coding_scheme.DxICD9'>) scheme\n",
      "DEBUG:root:Constructing dx_icd10 (<class 'lib.ehr.coding_scheme.DxICD10'>) scheme\n",
      "DEBUG:root:Constructing dx_icd9 (<class 'lib.ehr.coding_scheme.DxICD9'>) scheme\n",
      "DEBUG:root:Constructing dx_icd9 (<class 'lib.ehr.coding_scheme.DxICD9'>) scheme\n",
      "DEBUG:root:Constructing dx_icd9 (<class 'lib.ehr.coding_scheme.DxICD9'>) scheme\n",
      "DEBUG:root:Constructing dx_icd9_filter_v3_groups (<class 'lib.ehr.coding_scheme.OutcomeExtractor'>) scheme\n",
      "DEBUG:root:Constructing mimic4_eth32 (<class 'lib.ehr.coding_scheme.MIMICEth32'>) scheme\n",
      "DEBUG:root:Constructing mimic4_eth5 (<class 'lib.ehr.coding_scheme.MIMICEth5'>) scheme\n",
      "DEBUG:root:Constructing gender (<class 'lib.ehr.coding_scheme.Gender'>) scheme\n",
      "DEBUG:root:Constructing int_mimic4_proc (<class 'lib.ehr.coding_scheme.MIMICProcedures'>) scheme\n",
      "DEBUG:root:Constructing int_mimic4_grouped_proc (<class 'lib.ehr.coding_scheme.MIMICProcedureGroups'>) scheme\n",
      "DEBUG:root:Constructing int_mimic4_input (<class 'lib.ehr.coding_scheme.MIMICInput'>) scheme\n",
      "DEBUG:root:Constructing int_mimic4_input_group (<class 'lib.ehr.coding_scheme.MIMICInputGroups'>) scheme\n",
      "DEBUG:root:Constructing int_mimic4_obs (<class 'lib.ehr.coding_scheme.MIMICObservables'>) scheme\n",
      "DEBUG:root:Dataframes validation and time conversion\n",
      "DEBUG:root:Unrecognised ICD v['10'] codes: 73 (9.69%)\n",
      "DEBUG:root:Unrecognised <class 'lib.ehr.coding_scheme.DxICD10'> codes (73) to be removed (first 30): ['O36.8130', 'O41.1230', 'S06.5X0A', 'S06.6X9A', 'S09.90XA', 'S10.91XA', 'S12.200D', 'S12.300D', 'S12.301A', 'S13.141A', 'S13.151A', 'S13.171A', 'S20.219A', 'S20.319A', 'S22.41XA', 'S22.41XD', 'S27.2XXA', 'S32.421A', 'S39.81XA', 'S50.811A', 'S73.004A', 'S80.12XA', 'S82.101B', 'S82.141A', 'S82.201A', 'S82.391C', 'S82.831B', 'S86.821A', 'S92.031A', 'T38.0X5A']\n",
      "DEBUG:root:Unrecognised ICD v['9'] codes: 13 (1.18%)\n",
      "DEBUG:root:Unrecognised <class 'lib.ehr.coding_scheme.DxICD9'> codes (13) to be removed (first 30): ['041.49', '284.19', '286.52', '294.20', '365.70', '518.51', '539.89', '793.11', '793.19', '997.41', '997.49', '998.01', 'V12.55']\n",
      "DEBUG:root:Removed codes: Series([], Name: code, dtype: object)\n",
      "DEBUG:root:Removed codes: 0                       Piggyback\n",
      "1    Pre-Admission/Non-ICU Intake\n",
      "2                 Cath Lab Intake\n",
      "3                      Cell Saver\n",
      "Name: label, dtype: object\n"
     ]
    }
   ],
   "source": [
    "# Assign the folder of the dataset to `DATA_FILE`.\n",
    "import dask\n",
    "\n",
    "HOME = os.environ.get('HOME')\n",
    "DATA_DIR = f'{HOME}/GP/ehr-data'\n",
    "SOURCE_DIR = os.path.abspath(\"..\")\n",
    "\n",
    "with U.modified_environ(DATA_DIR=DATA_DIR), dask.config.set(scheduler='processes'):\n",
    "    m4icu_dataset = load_dataset('M4ICU', sample=200)\n",
    "   "
   ]
  },
  {
   "cell_type": "code",
   "execution_count": null,
   "id": "815c6c95",
   "metadata": {},
   "outputs": [],
   "source": [
    "splits = m4icu_dataset.random_splits([0.8, 0.9], random_seed=42, balanced='subjects')"
   ]
  },
  {
   "cell_type": "code",
   "execution_count": null,
   "id": "05423dc4",
   "metadata": {},
   "outputs": [],
   "source": [
    "preprocessing = m4icu_dataset.fit_preprocessing(splits[0])"
   ]
  },
  {
   "cell_type": "code",
   "execution_count": null,
   "id": "c89fda53",
   "metadata": {},
   "outputs": [],
   "source": [
    "m4icu_dataset.apply_preprocessing(preprocessing)"
   ]
  },
  {
   "cell_type": "code",
   "execution_count": null,
   "id": "f394ed0d",
   "metadata": {},
   "outputs": [],
   "source": [
    "from lib.ehr.concepts import DemographicVectorConfig\n",
    "\n",
    "demographic_vector_conf = DemographicVectorConfig(age=True,\n",
    "                                                  gender=True,\n",
    "                                                  ethnicity=True)"
   ]
  },
  {
   "cell_type": "code",
   "execution_count": null,
   "id": "435ce976",
   "metadata": {
    "scrolled": true
   },
   "outputs": [],
   "source": [
    "with dask.config.set(scheduler='processes', num_workers=12):\n",
    "    m4inpatients = Patients(m4icu_dataset, demographic_vector_conf).load_subjects(num_workers=12)"
   ]
  },
  {
   "cell_type": "code",
   "execution_count": null,
   "id": "cebd58c5",
   "metadata": {},
   "outputs": [],
   "source": [
    "# m4inpatients.size_in_bytes() / 1024 ** 3"
   ]
  },
  {
   "cell_type": "code",
   "execution_count": null,
   "id": "b598eb42",
   "metadata": {},
   "outputs": [],
   "source": [
    "# val_batch = m4inpatients.device_batch(splits[1])"
   ]
  },
  {
   "cell_type": "code",
   "execution_count": null,
   "id": "428f1548",
   "metadata": {},
   "outputs": [],
   "source": [
    "# tst_batch = m4inpatients.device_batch(splits[2])"
   ]
  },
  {
   "cell_type": "code",
   "execution_count": null,
   "id": "0108a8a5",
   "metadata": {},
   "outputs": [],
   "source": [
    "# val_batch.size_in_bytes() / 1024 ** 3, tst_batch.size_in_bytes() / 1024 ** 3"
   ]
  },
  {
   "cell_type": "code",
   "execution_count": null,
   "id": "caa5051f",
   "metadata": {},
   "outputs": [],
   "source": []
  },
  {
   "cell_type": "code",
   "execution_count": null,
   "id": "84e24feb",
   "metadata": {},
   "outputs": [],
   "source": [
    "# batch = m4inpatients.device_batch(splits[0][:32])"
   ]
  },
  {
   "cell_type": "code",
   "execution_count": null,
   "id": "0af85343",
   "metadata": {},
   "outputs": [],
   "source": [
    "# batch.size_in_bytes() / 1024 ** 3"
   ]
  },
  {
   "cell_type": "code",
   "execution_count": null,
   "id": "0210e539",
   "metadata": {},
   "outputs": [],
   "source": [
    "# len(batch.subjects)"
   ]
  },
  {
   "cell_type": "code",
   "execution_count": null,
   "id": "de0adf08",
   "metadata": {},
   "outputs": [],
   "source": [
    "# batch.n_admissions()"
   ]
  },
  {
   "cell_type": "code",
   "execution_count": null,
   "id": "0464a3bb",
   "metadata": {},
   "outputs": [],
   "source": [
    "# batch.n_segments()"
   ]
  },
  {
   "cell_type": "code",
   "execution_count": null,
   "id": "1b3711f3",
   "metadata": {},
   "outputs": [],
   "source": [
    "# batch.n_obs_times()"
   ]
  },
  {
   "cell_type": "code",
   "execution_count": null,
   "id": "26fa5b6f",
   "metadata": {},
   "outputs": [],
   "source": [
    "# import numpy as np\n",
    "# import matplotlib.pyplot as plt\n",
    "\n",
    "# a = m4inpatients_jax.obs_coocurrence_matrix\n",
    "# a = np.array(a)\n",
    "# plt.imshow(a, cmap='hot', interpolation='nearest')\n",
    "# plt.show()"
   ]
  },
  {
   "cell_type": "code",
   "execution_count": null,
   "id": "9756e21b",
   "metadata": {},
   "outputs": [],
   "source": [
    "# s = batch.subjects[splits[0][6]].admissions[0]\n",
    "# s"
   ]
  },
  {
   "cell_type": "code",
   "execution_count": null,
   "id": "0135d6c5",
   "metadata": {},
   "outputs": [],
   "source": [
    "# batch.interval_hours(splits[0][:10])"
   ]
  },
  {
   "cell_type": "markdown",
   "id": "b66a64de",
   "metadata": {},
   "source": [
    "### التدريب على نموذج المعادلات التفاضلية الاعتيادية العصبية\n"
   ]
  },
  {
   "cell_type": "code",
   "execution_count": null,
   "id": "9442545b",
   "metadata": {},
   "outputs": [],
   "source": [
    "from lib.ml.in_icenode import InICENODE, InICENODEDimensions\n",
    "from lib.embeddings import InpatientEmbeddingDimensions\n",
    "import jax.random as jrandom"
   ]
  },
  {
   "cell_type": "code",
   "execution_count": null,
   "id": "c911e2f3",
   "metadata": {},
   "outputs": [],
   "source": [
    "emb_dims = InpatientEmbeddingDimensions(dx=10, inp=10, proc=10, demo=5, inp_proc_demo=15)\n",
    "dims = InICENODEDimensions(mem=15, obs=25, emb=emb_dims)\n",
    "key = jrandom.PRNGKey(0)\n",
    "\n",
    "m = InICENODE(dims=dims, \n",
    "              scheme=m4icu_dataset.scheme,\n",
    "              demographic_vector_config=demographic_vector_conf,\n",
    "              key=key)"
   ]
  },
  {
   "cell_type": "code",
   "execution_count": null,
   "id": "72d4f9c8",
   "metadata": {},
   "outputs": [],
   "source": [
    "# res = m.batch_predict(m4inpatients.device_batch(), leave_pbar=True)"
   ]
  },
  {
   "cell_type": "code",
   "execution_count": null,
   "id": "5413743a",
   "metadata": {},
   "outputs": [],
   "source": [
    "from lib.ml import InTrainer, MetricsHistory\n",
    "from lib.metric import  (CodeAUC, UntilFirstCodeAUC, AdmissionAUC,\n",
    "                      CodeGroupTopAlarmAccuracy, LossMetric, MetricsCollection)\n",
    "\n",
    "from lib.ml import MinibatchLogger, EvaluationDiskWriter, ParamsDiskWriter, ConfigDiskWriter"
   ]
  },
  {
   "cell_type": "code",
   "execution_count": null,
   "id": "3658579e",
   "metadata": {},
   "outputs": [],
   "source": [
    "train_config = {        \n",
    "    \"batch_size\": 32,\n",
    "    \"lr\": 1e-3,\n",
    "    \"epochs\": 150,\n",
    "    \"opt\": \"adam\",\n",
    "    \"reg_hyperparams\": None\n",
    "}\n",
    "trainer = InTrainer(**train_config)\n",
    "expt_dir = 'inicenode'"
   ]
  },
  {
   "cell_type": "code",
   "execution_count": null,
   "id": "a9411da9",
   "metadata": {},
   "outputs": [],
   "source": [
    "metrics = [\n",
    "    CodeAUC(m4inpatients),\n",
    "    UntilFirstCodeAUC(m4inpatients),\n",
    "    AdmissionAUC(m4inpatients),\n",
    "    LossMetric(m4inpatients)\n",
    "]\n",
    "reporters = [\n",
    "        MinibatchLogger(train_config),\n",
    "        EvaluationDiskWriter(output_dir=expt_dir),\n",
    "#         ParamsDiskWriter(output_dir=expt_dir),\n",
    "#         ConfigDiskWriter(output_dir=expt_dir, config=train_config)\n",
    "    ]\n",
    "metrics = MetricsCollection(metrics)\n",
    "history = MetricsHistory(metrics)"
   ]
  },
  {
   "cell_type": "code",
   "execution_count": null,
   "id": "d5090a9c",
   "metadata": {},
   "outputs": [],
   "source": [
    "    \n",
    "splits = m4inpatients.random_splits([0.9, 0.95], \n",
    "                                    balanced='admissions')\n",
    "res = trainer(m, m4inpatients, splits=splits, history=history, \n",
    "             reporters=reporters)"
   ]
  },
  {
   "cell_type": "code",
   "execution_count": null,
   "id": "e7985d4d",
   "metadata": {},
   "outputs": [],
   "source": [
    "# import jax.tree_util as jtu\n",
    "# import jax.numpy as jnp\n",
    "# import equinox as eqx\n",
    "\n",
    "# jtu.tree_map(lambda x: f'{x.shape} {jnp.any(jnp.isnan(x)).item()}' if eqx.is_array(x) else None , m)"
   ]
  },
  {
   "cell_type": "code",
   "execution_count": null,
   "id": "dc769b9a",
   "metadata": {},
   "outputs": [],
   "source": [
    "# emb_subj = {i: m.f_emb(s) for i, s in m4inpatients.device_batch().subjects.items()}"
   ]
  },
  {
   "cell_type": "code",
   "execution_count": null,
   "id": "e7251a6d",
   "metadata": {},
   "outputs": [],
   "source": []
  },
  {
   "cell_type": "code",
   "execution_count": null,
   "id": "3d1fc25c",
   "metadata": {},
   "outputs": [],
   "source": []
  }
 ],
 "metadata": {
  "kernelspec": {
   "display_name": "Python 3 (ipykernel)",
   "language": "python",
   "name": "python3"
  },
  "language_info": {
   "codemirror_mode": {
    "name": "ipython",
    "version": 3
   },
   "file_extension": ".py",
   "mimetype": "text/x-python",
   "name": "python",
   "nbconvert_exporter": "python",
   "pygments_lexer": "ipython3",
   "version": "3.9.17"
  }
 },
 "nbformat": 4,
 "nbformat_minor": 5
}
