{
 "cells": [
  {
   "cell_type": "code",
   "execution_count": 1,
   "id": "ab383786",
   "metadata": {},
   "outputs": [],
   "source": [
    "%load_ext autoreload\n",
    "%autoreload 2\n",
    "import sys\n",
    "import os\n",
    "import glob\n",
    "import random\n",
    "from collections import defaultdict\n",
    "from pathlib import Path\n",
    "\n",
    "from IPython.display import display\n",
    "\n",
    "import pandas as pd\n",
    "\n",
    "from tqdm import tqdm\n",
    "import jax\n",
    "jax.config.update('jax_platform_name', 'cpu')"
   ]
  },
  {
   "cell_type": "code",
   "execution_count": 2,
   "id": "c83480cb",
   "metadata": {},
   "outputs": [],
   "source": [
    "\n",
    "\n",
    "sys.path.append(\"../..\")\n",
    "\n",
    "from lib import utils as U\n",
    "from lib.ehr.dataset import load_dataset\n",
    "from lib.ehr.icu_interface import Inpatients"
   ]
  },
  {
   "cell_type": "code",
   "execution_count": 3,
   "id": "93f4e7be",
   "metadata": {},
   "outputs": [],
   "source": [
    "import logging\n",
    "logging.root.level = logging.DEBUG\n"
   ]
  },
  {
   "cell_type": "code",
   "execution_count": null,
   "id": "0e2c666a",
   "metadata": {},
   "outputs": [
    {
     "name": "stderr",
     "output_type": "stream",
     "text": [
      "DEBUG:root:Loading dataframe files\n"
     ]
    }
   ],
   "source": [
    "# Assign the folder of the dataset to `DATA_FILE`.\n",
    "\n",
    "HOME = os.environ.get('HOME')\n",
    "DATA_DIR = f'{HOME}/GP/ehr-data'\n",
    "SOURCE_DIR = os.path.abspath(\"..\")\n",
    "\n",
    "with U.modified_environ(DATA_DIR=DATA_DIR):\n",
    "    m4inpatient_dataset = load_dataset('M4ICU', max_workers=1)\n",
    "   "
   ]
  },
  {
   "cell_type": "code",
   "execution_count": null,
   "id": "ebb7f07c",
   "metadata": {},
   "outputs": [],
   "source": [
    "splits = m4inpatient_dataset.random_splits(0.8, 0.9, 42)"
   ]
  },
  {
   "cell_type": "code",
   "execution_count": null,
   "id": "945fbea6",
   "metadata": {},
   "outputs": [],
   "source": [
    "preprocessing = m4inpatient_dataset.fit_preprocessing(splits[0])"
   ]
  },
  {
   "cell_type": "code",
   "execution_count": null,
   "id": "30a22d57",
   "metadata": {},
   "outputs": [],
   "source": [
    "m4inpatient_dataset.apply_preprocessing(preprocessing)"
   ]
  },
  {
   "cell_type": "code",
   "execution_count": null,
   "id": "05bf2b96",
   "metadata": {},
   "outputs": [],
   "source": [
    "m4inaptients = m4inpatient_dataset.to_subjects(splits[2])"
   ]
  },
  {
   "cell_type": "code",
   "execution_count": 9,
   "id": "1882a60b",
   "metadata": {},
   "outputs": [
    {
     "ename": "NameError",
     "evalue": "name 'm4inaptients' is not defined",
     "output_type": "error",
     "traceback": [
      "\u001b[0;31m---------------------------------------------------------------------------\u001b[0m",
      "\u001b[0;31mNameError\u001b[0m                                 Traceback (most recent call last)",
      "Cell \u001b[0;32mIn[9], line 1\u001b[0m\n\u001b[0;32m----> 1\u001b[0m \u001b[43mm4inaptients\u001b[49m\u001b[38;5;241m.\u001b[39msize_in_bytes \u001b[38;5;241m/\u001b[39m \u001b[38;5;241m1024\u001b[39m \u001b[38;5;241m*\u001b[39m\u001b[38;5;241m*\u001b[39m \u001b[38;5;241m3\u001b[39m\n",
      "\u001b[0;31mNameError\u001b[0m: name 'm4inaptients' is not defined"
     ]
    }
   ],
   "source": [
    "m4inaptients.size_in_bytes / 1024 ** 3"
   ]
  },
  {
   "cell_type": "code",
   "execution_count": null,
   "id": "6742abba",
   "metadata": {},
   "outputs": [],
   "source": [
    "m4inaptients_jax = m4inaptients.to_jax_arrays(splits[2])"
   ]
  },
  {
   "cell_type": "code",
   "execution_count": null,
   "id": "d8b0dc31",
   "metadata": {},
   "outputs": [],
   "source": [
    "m4inaptients_jax.size_in_bytes / 1024 ** 3"
   ]
  },
  {
   "cell_type": "markdown",
   "id": "ab56a1b2",
   "metadata": {},
   "source": [
    "## TODO\n",
    "\n",
    "1. Squeeze code vectors.\n",
    "2. Squeeze float32 to float16."
   ]
  },
  {
   "cell_type": "code",
   "execution_count": null,
   "id": "3c7d4ab0",
   "metadata": {},
   "outputs": [],
   "source": []
  }
 ],
 "metadata": {
  "kernelspec": {
   "display_name": "Python 3 (ipykernel)",
   "language": "python",
   "name": "python3"
  },
  "language_info": {
   "codemirror_mode": {
    "name": "ipython",
    "version": 3
   },
   "file_extension": ".py",
   "mimetype": "text/x-python",
   "name": "python",
   "nbconvert_exporter": "python",
   "pygments_lexer": "ipython3",
   "version": "3.8.13"
  }
 },
 "nbformat": 4,
 "nbformat_minor": 5
}
