{
 "cells": [
  {
   "cell_type": "code",
   "execution_count": 1,
   "id": "ab383786",
   "metadata": {},
   "outputs": [],
   "source": [
    "%load_ext autoreload\n",
    "%autoreload 2\n",
    "import sys\n",
    "import os\n",
    "import glob\n",
    "import random\n",
    "from collections import defaultdict\n",
    "from pathlib import Path\n",
    "\n",
    "from IPython.display import display\n",
    "\n",
    "import pandas as pd\n",
    "\n",
    "from tqdm import tqdm\n",
    "import jax\n",
    "jax.config.update('jax_platform_name', 'gpu')"
   ]
  },
  {
   "cell_type": "code",
   "execution_count": null,
   "id": "8d78e7b4",
   "metadata": {},
   "outputs": [],
   "source": []
  },
  {
   "cell_type": "code",
   "execution_count": 2,
   "id": "c83480cb",
   "metadata": {},
   "outputs": [],
   "source": [
    "\n",
    "\n",
    "sys.path.append(\"../..\")\n",
    "\n",
    "from lib import utils as U\n",
    "from lib.ehr.dataset import load_dataset\n",
    "from lib.ehr.inpatient_interface import Inpatients"
   ]
  },
  {
   "cell_type": "code",
   "execution_count": 3,
   "id": "99451f48",
   "metadata": {},
   "outputs": [],
   "source": [
    "import logging\n",
    "logging.root.level = logging.DEBUG"
   ]
  },
  {
   "cell_type": "code",
   "execution_count": 4,
   "id": "fc796475",
   "metadata": {},
   "outputs": [],
   "source": [
    "# from lib.ehr.coding_scheme import MIMIC4Procedures, MIMIC4ProcedureGroups\n",
    "# from lib.ehr.coding_scheme import MIMIC4Input, MIMIC4InputGroups\n",
    "\n",
    "# cproc = MIMIC4Procedures()\n",
    "# cproc_g = MIMIC4ProcedureGroups()\n",
    "# cinp = MIMIC4Input()\n",
    "# cinp_g = MIMIC4InputGroups()"
   ]
  },
  {
   "cell_type": "code",
   "execution_count": 4,
   "id": "0e2c666a",
   "metadata": {},
   "outputs": [
    {
     "name": "stderr",
     "output_type": "stream",
     "text": [
      "DEBUG:fsspec.local:open file: /home/asem/GP/ehr-data/mimic4icu-cohort/adm_df.csv\n",
      "DEBUG:fsspec.local:open file: /home/asem/GP/ehr-data/mimic4icu-cohort/dx_df.csv\n",
      "DEBUG:fsspec.local:open file: /home/asem/GP/ehr-data/mimic4icu-cohort/static_df.csv\n",
      "DEBUG:fsspec.local:open file: /home/asem/GP/ehr-data/mimic4icu-cohort/obs_df.csv\n",
      "DEBUG:fsspec.local:open file: /home/asem/GP/ehr-data/mimic4icu-cohort/int_input.csv\n",
      "DEBUG:fsspec.local:open file: /home/asem/GP/ehr-data/mimic4icu-cohort/int_proc.csv\n",
      "DEBUG:root:[DONE] Matching admission_id\n",
      "DEBUG:root:Time casting..\n",
      "DEBUG:root:[DONE] Time casting..\n",
      "DEBUG:root:Constructing dx_icd9 (<class 'lib.ehr.coding_scheme.DxICD9'>) scheme\n",
      "DEBUG:root:Constructing dx_icd10 (<class 'lib.ehr.coding_scheme.DxICD10'>) scheme\n",
      "DEBUG:root:Constructing dx_icd9 (<class 'lib.ehr.coding_scheme.DxICD9'>) scheme\n",
      "DEBUG:root:Constructing dx_icd9 (<class 'lib.ehr.coding_scheme.DxICD9'>) scheme\n",
      "DEBUG:root:Constructing dx_icd9 (<class 'lib.ehr.coding_scheme.DxICD9'>) scheme\n",
      "DEBUG:root:Constructing dx_icd9_filter_v3_groups (<class 'lib.ehr.outcome.OutcomeExtractor'>) scheme\n",
      "DEBUG:root:Constructing int_mimic4_proc (<class 'lib.ehr.coding_scheme.MIMIC4Procedures'>) scheme\n",
      "DEBUG:root:Constructing int_mimic4_grouped_proc (<class 'lib.ehr.coding_scheme.MIMIC4ProcedureGroups'>) scheme\n",
      "DEBUG:root:Constructing int_mimic4_input (<class 'lib.ehr.coding_scheme.MIMIC4Input'>) scheme\n",
      "DEBUG:root:Constructing int_mimic4_input_group (<class 'lib.ehr.coding_scheme.MIMIC4InputGroups'>) scheme\n",
      "DEBUG:root:Constructing mimic4_eth32 (<class 'lib.ehr.coding_scheme.MIMIC4Eth32'>) scheme\n",
      "DEBUG:root:Constructing mimic4_eth5 (<class 'lib.ehr.coding_scheme.MIMIC4Eth5'>) scheme\n",
      "DEBUG:root:Constructing int_mimic4_obs (<class 'lib.ehr.coding_scheme.MIMIC4Observables'>) scheme\n",
      "DEBUG:root:Dataframes validation and time conversion\n",
      "INFO:root:Unrecognised ICD v['10'] codes: 3323 (28.74%)\n",
      "DEBUG:root:\n",
      "                    Unrecognised <class 'lib.ehr.coding_scheme.DxICD10'> codes (3323)\n",
      "                    to be removed (first 30): ['E08.3513', 'E10.3213', 'E10.3219', 'E10.3291', 'E10.3293', 'E10.3299', 'E10.3313', 'E10.3319', 'E10.3393', 'E10.3399', 'E10.3411', 'E10.3413', 'E10.3491', 'E10.3511', 'E10.3512', 'E10.3513', 'E10.3519', 'E10.3522', 'E10.3523', 'E10.3531', 'E10.3532', 'E10.3559', 'E10.3591', 'E10.3592', 'E10.3593', 'E10.3599', 'E11.3213', 'E11.3219', 'E11.3291', 'E11.3292']\n",
      "INFO:root:Unrecognised ICD v['9'] codes: 118 (1.63%)\n",
      "DEBUG:root:\n",
      "                    Unrecognised <class 'lib.ehr.coding_scheme.DxICD9'> codes (118)\n",
      "                    to be removed (first 30): ['041.49', '173.21', '173.22', '173.30', '173.31', '173.32', '173.40', '173.41', '173.42', '173.50', '173.51', '173.52', '173.59', '173.60', '173.61', '173.62', '173.70', '173.71', '173.72', '173.79', '173.80', '173.81', '173.82', '173.91', '173.92', '173.99', '282.40', '282.43', '282.44', '282.46']\n",
      "DEBUG:root:Removed codes: Series([], Name: code, dtype: object)\n",
      "DEBUG:root:Removed codes: 0                       Piggyback\n",
      "1    Pre-Admission/Non-ICU Intake\n",
      "2                 Cath Lab Intake\n",
      "3                      Cell Saver\n",
      "Name: label, dtype: object\n",
      "DEBUG:root:Removed codes: Series([], Name: code, dtype: object)\n",
      "DEBUG:root:Removing subjects with at least one negative adm_interval: 84\n",
      "DEBUG:root:[DONE] Dataframes validation and time conversion\n"
     ]
    }
   ],
   "source": [
    "# Assign the folder of the dataset to `DATA_FILE`.\n",
    "import dask\n",
    "\n",
    "HOME = os.environ.get('HOME')\n",
    "DATA_DIR = f'{HOME}/GP/ehr-data'\n",
    "SOURCE_DIR = os.path.abspath(\"..\")\n",
    "\n",
    "with U.modified_environ(DATA_DIR=DATA_DIR), dask.config.set(scheduler='processes'):\n",
    "    m4inpatient_dataset = load_dataset('M4ICU')\n",
    "   "
   ]
  },
  {
   "cell_type": "code",
   "execution_count": 7,
   "id": "815c6c95",
   "metadata": {},
   "outputs": [],
   "source": [
    "splits = m4inpatient_dataset.random_splits([0.8, 0.9], random_seed=42, balanced='subjects')"
   ]
  },
  {
   "cell_type": "code",
   "execution_count": 8,
   "id": "05423dc4",
   "metadata": {},
   "outputs": [],
   "source": [
    "preprocessing = m4inpatient_dataset.fit_preprocessing(splits[0])"
   ]
  },
  {
   "cell_type": "code",
   "execution_count": 9,
   "id": "a357dc92",
   "metadata": {},
   "outputs": [
    {
     "name": "stderr",
     "output_type": "stream",
     "text": [
      "DEBUG:root:Removed 2328566 (0.023) outliers from obs\n"
     ]
    }
   ],
   "source": [
    "m4inpatient_dataset.apply_preprocessing(preprocessing)\n",
    "m4inpatients = Inpatients(m4inpatient_dataset)"
   ]
  },
  {
   "cell_type": "code",
   "execution_count": null,
   "id": "435ce976",
   "metadata": {
    "scrolled": true
   },
   "outputs": [
    {
     "name": "stderr",
     "output_type": "stream",
     "text": [
      "/home/asem/GP/env/icenode-dev/lib/python3.10/site-packages/pandas/core/arrays/datetimelike.py:1187: PerformanceWarning: Adding/subtracting object-dtype array to DatetimeArray not vectorized\n",
      "  warnings.warn(\n",
      "DEBUG:root:Extracting dx codes...\n",
      "DEBUG:root:[DONE] Extracting dx codes\n",
      "DEBUG:root:Extracting dx codes history...\n",
      "DEBUG:root:[DONE] Extracting dx codes history\n",
      "DEBUG:root:Extracting outcome...\n",
      "DEBUG:root:[DONE] Extracting outcome\n",
      "DEBUG:root:Extracting procedures...\n",
      "DEBUG:root:[DONE] Extracting procedures\n",
      "DEBUG:root:Extracting inputs...\n",
      "DEBUG:root:[DONE] Extracting inputs\n",
      "DEBUG:root:Extracting observables...\n",
      "DEBUG:root:obs: filter adms\n",
      "DEBUG:root:obs: dasking\n",
      "DEBUG:root:obs: groupby\n",
      "DEBUG:root:obs: undasking\n"
     ]
    }
   ],
   "source": [
    "# from concurrent.futures import ThreadPoolExecutor\n",
    "# with dask.config.set(pool=ThreadPoolExecutor(12)):\n",
    "with dask.config.set(scheduler='processes', num_workers=12):\n",
    "    m4inpatients = m4inpatients.load_subjects(splits[0], num_workers=12)"
   ]
  },
  {
   "cell_type": "code",
   "execution_count": 14,
   "id": "cebd58c5",
   "metadata": {},
   "outputs": [
    {
     "data": {
      "text/plain": [
       "0.0022434135898947716"
      ]
     },
     "execution_count": 14,
     "metadata": {},
     "output_type": "execute_result"
    }
   ],
   "source": [
    "m4inpatients.size_in_bytes() / 1024 ** 3"
   ]
  },
  {
   "cell_type": "code",
   "execution_count": 15,
   "id": "84e24feb",
   "metadata": {},
   "outputs": [
    {
     "name": "stderr",
     "output_type": "stream",
     "text": [
      "WARNING:jax._src.dispatch:Finished tracing + transforming jit(convert_element_type) in 0.0010533332824707031 sec\n",
      "DEBUG:jax._src.xla_bridge:Initializing backend 'cpu'\n",
      "DEBUG:jax._src.xla_bridge:Backend 'cpu' initialized\n",
      "DEBUG:jax._src.xla_bridge:Initializing backend 'cuda'\n",
      "DEBUG:jax._src.xla_bridge:Backend 'cuda' initialized\n",
      "DEBUG:jax._src.xla_bridge:Initializing backend 'rocm'\n",
      "INFO:jax._src.xla_bridge:Unable to initialize backend 'rocm': NOT_FOUND: Could not find registered platform with name: \"rocm\". Available platform names are: Interpreter CUDA\n",
      "DEBUG:jax._src.xla_bridge:Initializing backend 'tpu'\n",
      "INFO:jax._src.xla_bridge:Unable to initialize backend 'tpu': module 'jaxlib.xla_extension' has no attribute 'get_tpu_client'\n",
      "WARNING:jax._src.dispatch:Finished tracing + transforming jit(convert_element_type) in 0.0004799365997314453 sec\n",
      "WARNING:jax._src.dispatch:Finished tracing + transforming jit(convert_element_type) in 0.00037169456481933594 sec\n",
      "WARNING:jax._src.dispatch:Finished tracing + transforming jit(convert_element_type) in 0.0002779960632324219 sec\n",
      "WARNING:jax._src.dispatch:Finished tracing + transforming jit(convert_element_type) in 0.0006530284881591797 sec\n",
      "WARNING:jax._src.dispatch:Finished tracing + transforming jit(convert_element_type) in 0.0003612041473388672 sec\n",
      "WARNING:jax._src.dispatch:Finished tracing + transforming jit(convert_element_type) in 0.00045990943908691406 sec\n",
      "WARNING:jax._src.dispatch:Finished tracing + transforming jit(convert_element_type) in 0.00027060508728027344 sec\n",
      "WARNING:jax._src.dispatch:Finished tracing + transforming jit(convert_element_type) in 0.000457763671875 sec\n",
      "WARNING:jax._src.dispatch:Finished tracing + transforming jit(convert_element_type) in 0.00026297569274902344 sec\n",
      "WARNING:jax._src.dispatch:Finished tracing + transforming jit(convert_element_type) in 0.0003669261932373047 sec\n",
      "WARNING:jax._src.dispatch:Finished tracing + transforming jit(convert_element_type) in 0.0002810955047607422 sec\n",
      "WARNING:jax._src.dispatch:Finished tracing + transforming jit(convert_element_type) in 0.00029397010803222656 sec\n",
      "WARNING:jax._src.dispatch:Finished tracing + transforming jit(convert_element_type) in 0.0003948211669921875 sec\n",
      "WARNING:jax._src.dispatch:Finished tracing + transforming jit(convert_element_type) in 0.0003032684326171875 sec\n",
      "WARNING:jax._src.dispatch:Finished tracing + transforming jit(convert_element_type) in 0.0002713203430175781 sec\n",
      "WARNING:jax._src.dispatch:Finished tracing + transforming jit(convert_element_type) in 0.0003037452697753906 sec\n",
      "WARNING:jax._src.dispatch:Finished tracing + transforming jit(convert_element_type) in 0.0003085136413574219 sec\n",
      "WARNING:jax._src.dispatch:Finished tracing + transforming jit(convert_element_type) in 0.00030159950256347656 sec\n",
      "WARNING:jax._src.dispatch:Finished tracing + transforming jit(convert_element_type) in 0.0004966259002685547 sec\n",
      "WARNING:jax._src.dispatch:Finished tracing + transforming jit(convert_element_type) in 0.0002956390380859375 sec\n",
      "WARNING:jax._src.dispatch:Finished tracing + transforming jit(convert_element_type) in 0.0004534721374511719 sec\n",
      "WARNING:jax._src.dispatch:Finished tracing + transforming jit(convert_element_type) in 0.0003497600555419922 sec\n",
      "WARNING:jax._src.dispatch:Finished tracing + transforming jit(convert_element_type) in 0.0003101825714111328 sec\n",
      "WARNING:jax._src.dispatch:Finished tracing + transforming jit(convert_element_type) in 0.00034117698669433594 sec\n",
      "WARNING:jax._src.dispatch:Finished tracing + transforming jit(convert_element_type) in 0.00031685829162597656 sec\n",
      "WARNING:jax._src.dispatch:Finished tracing + transforming jit(convert_element_type) in 0.0003523826599121094 sec\n",
      "WARNING:jax._src.dispatch:Finished tracing + transforming jit(convert_element_type) in 0.00032782554626464844 sec\n",
      "WARNING:jax._src.dispatch:Finished tracing + transforming jit(convert_element_type) in 0.00030541419982910156 sec\n",
      "WARNING:jax._src.dispatch:Finished tracing + transforming jit(convert_element_type) in 0.0004470348358154297 sec\n",
      "WARNING:jax._src.dispatch:Finished tracing + transforming jit(convert_element_type) in 0.00036978721618652344 sec\n",
      "WARNING:jax._src.dispatch:Finished tracing + transforming jit(convert_element_type) in 0.0002887248992919922 sec\n",
      "WARNING:jax._src.dispatch:Finished tracing + transforming jit(convert_element_type) in 0.0003349781036376953 sec\n",
      "WARNING:jax._src.dispatch:Finished tracing + transforming jit(convert_element_type) in 0.000301361083984375 sec\n",
      "WARNING:jax._src.dispatch:Finished tracing + transforming jit(convert_element_type) in 0.0003044605255126953 sec\n",
      "WARNING:jax._src.dispatch:Finished tracing + transforming jit(convert_element_type) in 0.0004773139953613281 sec\n",
      "WARNING:jax._src.dispatch:Finished tracing + transforming jit(convert_element_type) in 0.0002994537353515625 sec\n",
      "WARNING:jax._src.dispatch:Finished tracing + transforming jit(convert_element_type) in 0.00029277801513671875 sec\n",
      "WARNING:jax._src.dispatch:Finished tracing + transforming jit(convert_element_type) in 0.0003561973571777344 sec\n",
      "WARNING:jax._src.dispatch:Finished tracing + transforming jit(convert_element_type) in 0.00029778480529785156 sec\n",
      "WARNING:jax._src.dispatch:Finished tracing + transforming jit(convert_element_type) in 0.00037217140197753906 sec\n",
      "WARNING:jax._src.dispatch:Finished tracing + transforming jit(convert_element_type) in 0.0002651214599609375 sec\n",
      "WARNING:jax._src.dispatch:Finished tracing + transforming jit(convert_element_type) in 0.0003483295440673828 sec\n",
      "WARNING:jax._src.dispatch:Finished tracing + transforming jit(convert_element_type) in 0.0003972053527832031 sec\n",
      "WARNING:jax._src.dispatch:Finished tracing + transforming jit(convert_element_type) in 0.0002827644348144531 sec\n",
      "WARNING:jax._src.dispatch:Finished tracing + transforming jit(convert_element_type) in 0.00026154518127441406 sec\n",
      "WARNING:jax._src.dispatch:Finished tracing + transforming jit(convert_element_type) in 0.00028824806213378906 sec\n",
      "WARNING:jax._src.dispatch:Finished tracing + transforming jit(convert_element_type) in 0.0002543926239013672 sec\n",
      "WARNING:jax._src.dispatch:Finished tracing + transforming jit(convert_element_type) in 0.000347137451171875 sec\n",
      "WARNING:jax._src.dispatch:Finished tracing + transforming jit(convert_element_type) in 0.0004951953887939453 sec\n",
      "WARNING:jax._src.dispatch:Finished tracing + transforming jit(convert_element_type) in 0.0003898143768310547 sec\n",
      "WARNING:jax._src.dispatch:Finished tracing + transforming jit(convert_element_type) in 0.00040793418884277344 sec\n",
      "WARNING:jax._src.dispatch:Finished tracing + transforming jit(convert_element_type) in 0.00043845176696777344 sec\n",
      "WARNING:jax._src.dispatch:Finished tracing + transforming jit(convert_element_type) in 0.0003871917724609375 sec\n",
      "WARNING:jax._src.dispatch:Finished tracing + transforming jit(convert_element_type) in 0.0004773139953613281 sec\n",
      "WARNING:jax._src.dispatch:Finished tracing + transforming jit(convert_element_type) in 0.0004239082336425781 sec\n",
      "WARNING:jax._src.dispatch:Finished tracing + transforming jit(convert_element_type) in 0.0003993511199951172 sec\n",
      "WARNING:jax._src.dispatch:Finished tracing + transforming jit(convert_element_type) in 0.00033164024353027344 sec\n",
      "WARNING:jax._src.dispatch:Finished tracing + transforming jit(convert_element_type) in 0.0002741813659667969 sec\n",
      "WARNING:jax._src.dispatch:Finished tracing + transforming jit(convert_element_type) in 0.00028777122497558594 sec\n",
      "WARNING:jax._src.dispatch:Finished tracing + transforming jit(convert_element_type) in 0.0002789497375488281 sec\n",
      "WARNING:jax._src.dispatch:Finished tracing + transforming jit(convert_element_type) in 0.00044083595275878906 sec\n",
      "WARNING:jax._src.dispatch:Finished tracing + transforming jit(convert_element_type) in 0.00029730796813964844 sec\n",
      "WARNING:jax._src.dispatch:Finished tracing + transforming jit(convert_element_type) in 0.0003561973571777344 sec\n",
      "WARNING:jax._src.dispatch:Finished tracing + transforming jit(convert_element_type) in 0.0058002471923828125 sec\n",
      "WARNING:jax._src.dispatch:Finished tracing + transforming jit(convert_element_type) in 0.0003635883331298828 sec\n",
      "WARNING:jax._src.dispatch:Finished tracing + transforming jit(convert_element_type) in 0.0002980232238769531 sec\n"
     ]
    },
    {
     "name": "stderr",
     "output_type": "stream",
     "text": [
      "WARNING:jax._src.dispatch:Finished tracing + transforming jit(convert_element_type) in 0.0003025531768798828 sec\n",
      "WARNING:jax._src.dispatch:Finished tracing + transforming jit(convert_element_type) in 0.0004887580871582031 sec\n",
      "WARNING:jax._src.dispatch:Finished tracing + transforming jit(convert_element_type) in 0.0003113746643066406 sec\n",
      "WARNING:jax._src.dispatch:Finished tracing + transforming jit(convert_element_type) in 0.0003018379211425781 sec\n",
      "WARNING:jax._src.dispatch:Finished tracing + transforming jit(convert_element_type) in 0.0003848075866699219 sec\n",
      "WARNING:jax._src.dispatch:Finished tracing + transforming jit(convert_element_type) in 0.0004878044128417969 sec\n",
      "WARNING:jax._src.dispatch:Finished tracing + transforming jit(convert_element_type) in 0.0003769397735595703 sec\n",
      "WARNING:jax._src.dispatch:Finished tracing + transforming jit(convert_element_type) in 0.0003104209899902344 sec\n",
      "WARNING:jax._src.dispatch:Finished tracing + transforming jit(convert_element_type) in 0.0004169940948486328 sec\n",
      "WARNING:jax._src.dispatch:Finished tracing + transforming jit(convert_element_type) in 0.000308990478515625 sec\n",
      "WARNING:jax._src.dispatch:Finished tracing + transforming jit(convert_element_type) in 0.0002880096435546875 sec\n",
      "WARNING:jax._src.dispatch:Finished tracing + transforming jit(convert_element_type) in 0.00028228759765625 sec\n",
      "WARNING:jax._src.dispatch:Finished tracing + transforming jit(convert_element_type) in 0.0003387928009033203 sec\n",
      "WARNING:jax._src.dispatch:Finished tracing + transforming jit(convert_element_type) in 0.0004723072052001953 sec\n",
      "WARNING:jax._src.dispatch:Finished tracing + transforming jit(convert_element_type) in 0.0003161430358886719 sec\n",
      "WARNING:jax._src.dispatch:Finished tracing + transforming jit(convert_element_type) in 0.0003216266632080078 sec\n",
      "WARNING:jax._src.dispatch:Finished tracing + transforming jit(convert_element_type) in 0.0004868507385253906 sec\n",
      "WARNING:jax._src.dispatch:Finished tracing + transforming jit(convert_element_type) in 0.0003707408905029297 sec\n",
      "WARNING:jax._src.dispatch:Finished tracing + transforming jit(convert_element_type) in 0.0003383159637451172 sec\n",
      "WARNING:jax._src.dispatch:Finished tracing + transforming jit(convert_element_type) in 0.00032520294189453125 sec\n",
      "WARNING:jax._src.dispatch:Finished tracing + transforming jit(convert_element_type) in 0.0003008842468261719 sec\n",
      "WARNING:jax._src.dispatch:Finished tracing + transforming jit(convert_element_type) in 0.000308990478515625 sec\n",
      "WARNING:jax._src.dispatch:Finished tracing + transforming jit(convert_element_type) in 0.00036716461181640625 sec\n",
      "WARNING:jax._src.dispatch:Finished tracing + transforming jit(convert_element_type) in 0.00046324729919433594 sec\n",
      "WARNING:jax._src.dispatch:Finished tracing + transforming jit(convert_element_type) in 0.0003457069396972656 sec\n",
      "WARNING:jax._src.dispatch:Finished tracing + transforming jit(convert_element_type) in 0.0003020763397216797 sec\n",
      "WARNING:jax._src.dispatch:Finished tracing + transforming jit(convert_element_type) in 0.00040268898010253906 sec\n",
      "WARNING:jax._src.dispatch:Finished tracing + transforming jit(convert_element_type) in 0.0003066062927246094 sec\n",
      "WARNING:jax._src.dispatch:Finished tracing + transforming jit(convert_element_type) in 0.0003113746643066406 sec\n",
      "WARNING:jax._src.dispatch:Finished tracing + transforming jit(convert_element_type) in 0.00038361549377441406 sec\n",
      "WARNING:jax._src.dispatch:Finished tracing + transforming jit(convert_element_type) in 0.00046062469482421875 sec\n"
     ]
    }
   ],
   "source": [
    "m4inpatients_jax = m4inpatients.to_jax_arrays(splits[0][:10])"
   ]
  },
  {
   "cell_type": "code",
   "execution_count": 16,
   "id": "0af85343",
   "metadata": {},
   "outputs": [
    {
     "data": {
      "text/plain": [
       "0.0022238409146666527"
      ]
     },
     "execution_count": 16,
     "metadata": {},
     "output_type": "execute_result"
    }
   ],
   "source": [
    "m4inpatients_jax.size_in_bytes() / 1024 ** 3"
   ]
  },
  {
   "cell_type": "code",
   "execution_count": 17,
   "id": "0210e539",
   "metadata": {},
   "outputs": [
    {
     "data": {
      "text/plain": [
       "10"
      ]
     },
     "execution_count": 17,
     "metadata": {},
     "output_type": "execute_result"
    }
   ],
   "source": [
    "len(m4inpatients_jax.subjects)"
   ]
  },
  {
   "cell_type": "code",
   "execution_count": 18,
   "id": "de0adf08",
   "metadata": {},
   "outputs": [
    {
     "data": {
      "text/plain": [
       "51"
      ]
     },
     "execution_count": 18,
     "metadata": {},
     "output_type": "execute_result"
    }
   ],
   "source": [
    "m4inpatients_jax.n_admissions()"
   ]
  },
  {
   "cell_type": "code",
   "execution_count": 19,
   "id": "0464a3bb",
   "metadata": {},
   "outputs": [
    {
     "data": {
      "text/plain": [
       "2549"
      ]
     },
     "execution_count": 19,
     "metadata": {},
     "output_type": "execute_result"
    }
   ],
   "source": [
    "m4inpatients_jax.n_segments()"
   ]
  },
  {
   "cell_type": "code",
   "execution_count": 20,
   "id": "1b3711f3",
   "metadata": {},
   "outputs": [
    {
     "data": {
      "text/plain": [
       "1754"
      ]
     },
     "execution_count": 20,
     "metadata": {},
     "output_type": "execute_result"
    }
   ],
   "source": [
    "m4inpatients_jax.n_obs_times()"
   ]
  },
  {
   "cell_type": "code",
   "execution_count": 21,
   "id": "26fa5b6f",
   "metadata": {},
   "outputs": [],
   "source": [
    "# import numpy as np\n",
    "# import matplotlib.pyplot as plt\n",
    "\n",
    "# a = m4inpatients_jax.obs_coocurrence_matrix\n",
    "# a = np.array(a)\n",
    "# plt.imshow(a, cmap='hot', interpolation='nearest')\n",
    "# plt.show()"
   ]
  },
  {
   "cell_type": "code",
   "execution_count": 22,
   "id": "9756e21b",
   "metadata": {},
   "outputs": [
    {
     "data": {
      "text/plain": [
       "InpatientInput(\n",
       "  index=i32[100],\n",
       "  rate=f16[100],\n",
       "  starttime=f32[100],\n",
       "  endtime=f32[100],\n",
       "  size=318\n",
       ")"
      ]
     },
     "execution_count": 22,
     "metadata": {},
     "output_type": "execute_result"
    }
   ],
   "source": [
    "s = m4inpatients_jax.subjects[splits[0][6]].admissions[0].interventions.input_\n",
    "s"
   ]
  },
  {
   "cell_type": "code",
   "execution_count": 23,
   "id": "0135d6c5",
   "metadata": {},
   "outputs": [
    {
     "data": {
      "text/plain": [
       "7167.583333333333"
      ]
     },
     "execution_count": 23,
     "metadata": {},
     "output_type": "execute_result"
    }
   ],
   "source": [
    "m4inpatients_jax.interval_hours(splits[0][:10])"
   ]
  },
  {
   "cell_type": "code",
   "execution_count": 24,
   "id": "a0de0ccd",
   "metadata": {},
   "outputs": [
    {
     "data": {
      "text/plain": [
       "InpatientInput(\n",
       "  index=i32[100],\n",
       "  rate=f16[100],\n",
       "  starttime=f32[100],\n",
       "  endtime=f32[100],\n",
       "  size=318\n",
       ")"
      ]
     },
     "execution_count": 24,
     "metadata": {},
     "output_type": "execute_result"
    }
   ],
   "source": [
    "s"
   ]
  },
  {
   "cell_type": "markdown",
   "id": "b66a64de",
   "metadata": {},
   "source": [
    "### التدريب على نموذج المعادلات التفاضلية الاعتيادية العصبية\n"
   ]
  },
  {
   "cell_type": "code",
   "execution_count": 26,
   "id": "9442545b",
   "metadata": {},
   "outputs": [],
   "source": [
    "from lib.ml.in_icenode import InICENODE, InICENODEDimensions\n",
    "import jax.random as jrandom"
   ]
  },
  {
   "cell_type": "code",
   "execution_count": 27,
   "id": "c911e2f3",
   "metadata": {},
   "outputs": [
    {
     "name": "stderr",
     "output_type": "stream",
     "text": [
      "WARNING:jax._src.dispatch:Finished tracing + transforming jit(convert_element_type) in 0.0006372928619384766 sec\n",
      "WARNING:jax._src.dispatch:Finished tracing + transforming <lambda> for pjit in 0.0013730525970458984 sec\n",
      "WARNING:jax._src.dispatch:Finished tracing + transforming _threefry_seed for pjit in 0.008573293685913086 sec\n",
      "DEBUG:jax._src.interpreters.pxla:Compiling _threefry_seed for with global shapes and types [ShapedArray(int32[])]. Argument mapping: (GSPMDSharding({replicated}),).\n",
      "WARNING:jax._src.dispatch:Finished jaxpr to MLIR module conversion jit(_threefry_seed) in 0.03604412078857422 sec\n",
      "DEBUG:jax._src.xla_bridge:get_compile_options: num_replicas=1 num_partitions=1 device_assignment=[[gpu(id=0)]]\n",
      "WARNING:jax._src.dispatch:Finished XLA compilation of jit(_threefry_seed) in 0.6097228527069092 sec\n",
      "WARNING:jax._src.dispatch:Finished tracing + transforming ravel for pjit in 0.00040912628173828125 sec\n",
      "WARNING:jax._src.dispatch:Finished tracing + transforming threefry_2x32 for pjit in 0.0032854080200195312 sec\n",
      "WARNING:jax._src.dispatch:Finished tracing + transforming _threefry_split_original for pjit in 0.006291627883911133 sec\n",
      "WARNING:jax._src.dispatch:Finished tracing + transforming _threefry_split for pjit in 0.009502172470092773 sec\n",
      "DEBUG:jax._src.interpreters.pxla:Compiling _threefry_split for with global shapes and types [ShapedArray(uint32[2])]. Argument mapping: (GSPMDSharding({replicated}),).\n",
      "WARNING:jax._src.dispatch:Finished jaxpr to MLIR module conversion jit(_threefry_split) in 0.0036046504974365234 sec\n",
      "DEBUG:jax._src.xla_bridge:get_compile_options: num_replicas=1 num_partitions=1 device_assignment=[[gpu(id=0)]]\n",
      "WARNING:jax._src.dispatch:Finished XLA compilation of jit(_threefry_split) in 0.09928202629089355 sec\n",
      "WARNING:jax._src.dispatch:Finished tracing + transforming _unstack for pjit in 0.0011878013610839844 sec\n",
      "DEBUG:jax._src.interpreters.pxla:Compiling _unstack for with global shapes and types [ShapedArray(uint32[5,2])]. Argument mapping: (GSPMDSharding({replicated}),).\n",
      "WARNING:jax._src.dispatch:Finished jaxpr to MLIR module conversion jit(_unstack) in 0.0030181407928466797 sec\n",
      "DEBUG:jax._src.xla_bridge:get_compile_options: num_replicas=1 num_partitions=1 device_assignment=[[gpu(id=0)]]\n",
      "WARNING:jax._src.dispatch:Finished XLA compilation of jit(_unstack) in 0.05997443199157715 sec\n",
      "WARNING:jax._src.dispatch:Finished tracing + transforming ravel for pjit in 0.0002224445343017578 sec\n",
      "WARNING:jax._src.dispatch:Finished tracing + transforming threefry_2x32 for pjit in 0.0029425621032714844 sec\n",
      "WARNING:jax._src.dispatch:Finished tracing + transforming _threefry_split_original for pjit in 0.007528781890869141 sec\n",
      "WARNING:jax._src.dispatch:Finished tracing + transforming _threefry_split for pjit in 0.013020753860473633 sec\n",
      "DEBUG:jax._src.interpreters.pxla:Compiling _threefry_split for with global shapes and types [ShapedArray(uint32[2])]. Argument mapping: (GSPMDSharding({replicated}),).\n",
      "WARNING:jax._src.dispatch:Finished jaxpr to MLIR module conversion jit(_threefry_split) in 0.008734941482543945 sec\n",
      "DEBUG:jax._src.xla_bridge:get_compile_options: num_replicas=1 num_partitions=1 device_assignment=[[gpu(id=0)]]\n",
      "WARNING:jax._src.dispatch:Finished XLA compilation of jit(_threefry_split) in 0.08039355278015137 sec\n",
      "WARNING:jax._src.dispatch:Finished tracing + transforming _unstack for pjit in 0.0014109611511230469 sec\n",
      "DEBUG:jax._src.interpreters.pxla:Compiling _unstack for with global shapes and types [ShapedArray(uint32[6,2])]. Argument mapping: (GSPMDSharding({replicated}),).\n",
      "WARNING:jax._src.dispatch:Finished jaxpr to MLIR module conversion jit(_unstack) in 0.003744363784790039 sec\n",
      "DEBUG:jax._src.xla_bridge:get_compile_options: num_replicas=1 num_partitions=1 device_assignment=[[gpu(id=0)]]\n",
      "WARNING:jax._src.dispatch:Finished XLA compilation of jit(_unstack) in 0.08663344383239746 sec\n",
      "WARNING:jax._src.dispatch:Finished tracing + transforming ravel for pjit in 0.0007529258728027344 sec\n",
      "WARNING:jax._src.dispatch:Finished tracing + transforming threefry_2x32 for pjit in 0.008673906326293945 sec\n",
      "WARNING:jax._src.dispatch:Finished tracing + transforming _threefry_split_original for pjit in 0.01477503776550293 sec\n",
      "WARNING:jax._src.dispatch:Finished tracing + transforming _threefry_split for pjit in 0.019869565963745117 sec\n",
      "DEBUG:jax._src.interpreters.pxla:Compiling _threefry_split for with global shapes and types [ShapedArray(uint32[2])]. Argument mapping: (GSPMDSharding({replicated}),).\n",
      "WARNING:jax._src.dispatch:Finished jaxpr to MLIR module conversion jit(_threefry_split) in 0.008419036865234375 sec\n",
      "DEBUG:jax._src.xla_bridge:get_compile_options: num_replicas=1 num_partitions=1 device_assignment=[[gpu(id=0)]]\n",
      "WARNING:jax._src.dispatch:Finished XLA compilation of jit(_threefry_split) in 0.1257953643798828 sec\n",
      "WARNING:jax._src.dispatch:Finished tracing + transforming jit(convert_element_type) in 0.00034117698669433594 sec\n",
      "DEBUG:jax._src.interpreters.pxla:Compiling convert_element_type for with global shapes and types [ShapedArray(int32[])]. Argument mapping: (GSPMDSharding({replicated}),).\n",
      "WARNING:jax._src.dispatch:Finished jaxpr to MLIR module conversion jit(convert_element_type) in 0.003888845443725586 sec\n",
      "DEBUG:jax._src.xla_bridge:get_compile_options: num_replicas=1 num_partitions=1 device_assignment=[[gpu(id=0)]]\n",
      "WARNING:jax._src.dispatch:Finished XLA compilation of jit(convert_element_type) in 0.0164182186126709 sec\n",
      "WARNING:jax._src.dispatch:Finished tracing + transforming fn for pjit in 0.0006198883056640625 sec\n",
      "DEBUG:jax._src.interpreters.pxla:Compiling fn for with global shapes and types [ShapedArray(int32[], weak_type=True), ShapedArray(int32[], weak_type=True)]. Argument mapping: (GSPMDSharding({replicated}), GSPMDSharding({replicated})).\n",
      "WARNING:jax._src.dispatch:Finished jaxpr to MLIR module conversion jit(fn) in 0.0048084259033203125 sec\n",
      "DEBUG:jax._src.xla_bridge:get_compile_options: num_replicas=1 num_partitions=1 device_assignment=[[gpu(id=0)]]\n",
      "WARNING:jax._src.dispatch:Finished XLA compilation of jit(fn) in 0.09597587585449219 sec\n",
      "WARNING:jax._src.dispatch:Finished tracing + transforming fn for pjit in 0.0006847381591796875 sec\n",
      "DEBUG:jax._src.interpreters.pxla:Compiling fn for with global shapes and types [ShapedArray(int32[], weak_type=True), ShapedArray(int32[])]. Argument mapping: (GSPMDSharding({replicated}), GSPMDSharding({replicated})).\n",
      "WARNING:jax._src.dispatch:Finished jaxpr to MLIR module conversion jit(fn) in 0.0023386478424072266 sec\n",
      "DEBUG:jax._src.xla_bridge:get_compile_options: num_replicas=1 num_partitions=1 device_assignment=[[gpu(id=0)]]\n",
      "WARNING:jax._src.dispatch:Finished XLA compilation of jit(fn) in 0.05613994598388672 sec\n",
      "WARNING:jax._src.dispatch:Finished tracing + transforming jit(select_n) in 0.0003688335418701172 sec\n",
      "DEBUG:jax._src.interpreters.pxla:Compiling select_n for with global shapes and types [ShapedArray(bool[], weak_type=True), ShapedArray(int32[], weak_type=True), ShapedArray(int32[])]. Argument mapping: (GSPMDSharding({replicated}), GSPMDSharding({replicated}), GSPMDSharding({replicated})).\n",
      "WARNING:jax._src.dispatch:Finished jaxpr to MLIR module conversion jit(select_n) in 0.0018758773803710938 sec\n",
      "DEBUG:jax._src.xla_bridge:get_compile_options: num_replicas=1 num_partitions=1 device_assignment=[[gpu(id=0)]]\n",
      "WARNING:jax._src.dispatch:Finished XLA compilation of jit(select_n) in 0.10020589828491211 sec\n",
      "WARNING:jax._src.dispatch:Finished tracing + transforming jit(dynamic_slice) in 0.00038313865661621094 sec\n",
      "DEBUG:jax._src.interpreters.pxla:Compiling dynamic_slice for with global shapes and types [ShapedArray(uint32[2,2]), ShapedArray(int32[]), ShapedArray(int32[])]. Argument mapping: (GSPMDSharding({replicated}), GSPMDSharding({replicated}), GSPMDSharding({replicated})).\n",
      "WARNING:jax._src.dispatch:Finished jaxpr to MLIR module conversion jit(dynamic_slice) in 0.0018513202667236328 sec\n",
      "DEBUG:jax._src.xla_bridge:get_compile_options: num_replicas=1 num_partitions=1 device_assignment=[[gpu(id=0)]]\n",
      "WARNING:jax._src.dispatch:Finished XLA compilation of jit(dynamic_slice) in 0.11026310920715332 sec\n",
      "WARNING:jax._src.dispatch:Finished tracing + transforming jit(squeeze) in 0.00064849853515625 sec\n"
     ]
    },
    {
     "name": "stderr",
     "output_type": "stream",
     "text": [
      "DEBUG:jax._src.interpreters.pxla:Compiling squeeze for with global shapes and types [ShapedArray(uint32[1,2])]. Argument mapping: (GSPMDSharding({replicated}),).\n",
      "WARNING:jax._src.dispatch:Finished jaxpr to MLIR module conversion jit(squeeze) in 0.0036950111389160156 sec\n",
      "DEBUG:jax._src.xla_bridge:get_compile_options: num_replicas=1 num_partitions=1 device_assignment=[[gpu(id=0)]]\n",
      "WARNING:jax._src.dispatch:Finished XLA compilation of jit(squeeze) in 0.030312299728393555 sec\n",
      "WARNING:jax._src.dispatch:Finished tracing + transforming _unstack for pjit in 0.0018465518951416016 sec\n",
      "DEBUG:jax._src.interpreters.pxla:Compiling _unstack for with global shapes and types [ShapedArray(uint32[2,2])]. Argument mapping: (GSPMDSharding({replicated}),).\n",
      "WARNING:jax._src.dispatch:Finished jaxpr to MLIR module conversion jit(_unstack) in 0.005237579345703125 sec\n",
      "DEBUG:jax._src.xla_bridge:get_compile_options: num_replicas=1 num_partitions=1 device_assignment=[[gpu(id=0)]]\n",
      "WARNING:jax._src.dispatch:Finished XLA compilation of jit(_unstack) in 0.058048248291015625 sec\n",
      "WARNING:jax._src.dispatch:Finished tracing + transforming <lambda> for pjit in 0.00040435791015625 sec\n",
      "WARNING:jax._src.dispatch:Finished tracing + transforming <lambda> for pjit in 0.0003955364227294922 sec\n",
      "WARNING:jax._src.dispatch:Finished tracing + transforming fn for pjit in 0.0014362335205078125 sec\n",
      "WARNING:jax._src.dispatch:Finished tracing + transforming fn for pjit in 0.0010671615600585938 sec\n",
      "WARNING:jax._src.dispatch:Finished tracing + transforming _uniform for pjit in 0.013339996337890625 sec\n",
      "DEBUG:jax._src.interpreters.pxla:Compiling _uniform for with global shapes and types [ShapedArray(key<fry>[]), ShapedArray(float32[], weak_type=True), ShapedArray(float32[], weak_type=True)]. Argument mapping: (GSPMDSharding({replicated}), GSPMDSharding({replicated}), GSPMDSharding({replicated})).\n",
      "WARNING:jax._src.dispatch:Finished tracing + transforming ravel for pjit in 0.00037384033203125 sec\n",
      "WARNING:jax._src.dispatch:Finished tracing + transforming threefry_2x32 for pjit in 0.002902507781982422 sec\n",
      "WARNING:jax._src.dispatch:Finished tracing + transforming _threefry_random_bits_original for pjit in 0.006415843963623047 sec\n",
      "WARNING:jax._src.dispatch:Finished jaxpr to MLIR module conversion jit(_uniform) in 0.017420291900634766 sec\n",
      "DEBUG:jax._src.xla_bridge:get_compile_options: num_replicas=1 num_partitions=1 device_assignment=[[gpu(id=0)]]\n",
      "WARNING:jax._src.dispatch:Finished XLA compilation of jit(_uniform) in 0.10920262336730957 sec\n",
      "WARNING:jax._src.dispatch:Finished tracing + transforming <lambda> for pjit in 0.0004553794860839844 sec\n",
      "WARNING:jax._src.dispatch:Finished tracing + transforming <lambda> for pjit in 0.0004968643188476562 sec\n",
      "WARNING:jax._src.dispatch:Finished tracing + transforming fn for pjit in 0.0011889934539794922 sec\n",
      "WARNING:jax._src.dispatch:Finished tracing + transforming fn for pjit in 0.001707315444946289 sec\n",
      "WARNING:jax._src.dispatch:Finished tracing + transforming _uniform for pjit in 0.015572071075439453 sec\n",
      "DEBUG:jax._src.interpreters.pxla:Compiling _uniform for with global shapes and types [ShapedArray(key<fry>[]), ShapedArray(float32[], weak_type=True), ShapedArray(float32[], weak_type=True)]. Argument mapping: (GSPMDSharding({replicated}), GSPMDSharding({replicated}), GSPMDSharding({replicated})).\n",
      "WARNING:jax._src.dispatch:Finished tracing + transforming ravel for pjit in 0.0004553794860839844 sec\n",
      "WARNING:jax._src.dispatch:Finished tracing + transforming threefry_2x32 for pjit in 0.003991127014160156 sec\n",
      "WARNING:jax._src.dispatch:Finished tracing + transforming _threefry_random_bits_original for pjit in 0.0071032047271728516 sec\n",
      "WARNING:jax._src.dispatch:Finished jaxpr to MLIR module conversion jit(_uniform) in 0.019994020462036133 sec\n",
      "DEBUG:jax._src.xla_bridge:get_compile_options: num_replicas=1 num_partitions=1 device_assignment=[[gpu(id=0)]]\n",
      "WARNING:jax._src.dispatch:Finished XLA compilation of jit(_uniform) in 0.1021277904510498 sec\n",
      "WARNING:jax._src.dispatch:Finished tracing + transforming <lambda> for pjit in 0.0004565715789794922 sec\n",
      "WARNING:jax._src.dispatch:Finished tracing + transforming fn for pjit in 0.00043845176696777344 sec\n",
      "WARNING:jax._src.dispatch:Finished tracing + transforming fn for pjit in 0.0007925033569335938 sec\n",
      "WARNING:jax._src.dispatch:Finished tracing + transforming _uniform for pjit in 0.008260011672973633 sec\n",
      "DEBUG:jax._src.interpreters.pxla:Compiling _uniform for with global shapes and types [ShapedArray(key<fry>[]), ShapedArray(float32[], weak_type=True), ShapedArray(float32[], weak_type=True)]. Argument mapping: (GSPMDSharding({replicated}), GSPMDSharding({replicated}), GSPMDSharding({replicated})).\n",
      "WARNING:jax._src.dispatch:Finished tracing + transforming ravel for pjit in 0.00020384788513183594 sec\n",
      "WARNING:jax._src.dispatch:Finished tracing + transforming threefry_2x32 for pjit in 0.0029668807983398438 sec\n",
      "WARNING:jax._src.dispatch:Finished tracing + transforming _threefry_random_bits_original for pjit in 0.005741119384765625 sec\n",
      "WARNING:jax._src.dispatch:Finished jaxpr to MLIR module conversion jit(_uniform) in 0.016116857528686523 sec\n",
      "DEBUG:jax._src.xla_bridge:get_compile_options: num_replicas=1 num_partitions=1 device_assignment=[[gpu(id=0)]]\n",
      "WARNING:jax._src.dispatch:Finished XLA compilation of jit(_uniform) in 0.12248754501342773 sec\n",
      "WARNING:jax._src.dispatch:Finished tracing + transforming <lambda> for pjit in 0.0004887580871582031 sec\n",
      "WARNING:jax._src.dispatch:Finished tracing + transforming fn for pjit in 0.00043702125549316406 sec\n",
      "WARNING:jax._src.dispatch:Finished tracing + transforming fn for pjit in 0.0009469985961914062 sec\n",
      "WARNING:jax._src.dispatch:Finished tracing + transforming _uniform for pjit in 0.010124444961547852 sec\n",
      "DEBUG:jax._src.interpreters.pxla:Compiling _uniform for with global shapes and types [ShapedArray(key<fry>[]), ShapedArray(float32[], weak_type=True), ShapedArray(float32[], weak_type=True)]. Argument mapping: (GSPMDSharding({replicated}), GSPMDSharding({replicated}), GSPMDSharding({replicated})).\n",
      "WARNING:jax._src.dispatch:Finished tracing + transforming _threefry_random_bits_original for pjit in 0.001285552978515625 sec\n",
      "WARNING:jax._src.dispatch:Finished jaxpr to MLIR module conversion jit(_uniform) in 0.011316776275634766 sec\n",
      "DEBUG:jax._src.xla_bridge:get_compile_options: num_replicas=1 num_partitions=1 device_assignment=[[gpu(id=0)]]\n",
      "WARNING:jax._src.dispatch:Finished XLA compilation of jit(_uniform) in 0.07800436019897461 sec\n",
      "WARNING:jax._src.dispatch:Finished tracing + transforming jit(convert_element_type) in 0.0002579689025878906 sec\n",
      "WARNING:jax._src.dispatch:Finished tracing + transforming jit(convert_element_type) in 0.00026297569274902344 sec\n",
      "WARNING:jax._src.dispatch:Finished tracing + transforming jit(convert_element_type) in 0.00026154518127441406 sec\n",
      "WARNING:jax._src.dispatch:Finished tracing + transforming <lambda> for pjit in 0.0008723735809326172 sec\n",
      "WARNING:jax._src.dispatch:Finished tracing + transforming fn for pjit in 0.0009477138519287109 sec\n",
      "WARNING:jax._src.dispatch:Finished tracing + transforming fn for pjit in 0.0017762184143066406 sec\n",
      "WARNING:jax._src.dispatch:Finished tracing + transforming _uniform for pjit in 0.013792991638183594 sec\n",
      "DEBUG:jax._src.interpreters.pxla:Compiling _uniform for with global shapes and types [ShapedArray(key<fry>[]), ShapedArray(float32[], weak_type=True), ShapedArray(float32[], weak_type=True)]. Argument mapping: (GSPMDSharding({replicated}), GSPMDSharding({replicated}), GSPMDSharding({replicated})).\n",
      "WARNING:jax._src.dispatch:Finished tracing + transforming ravel for pjit in 0.00041961669921875 sec\n",
      "WARNING:jax._src.dispatch:Finished tracing + transforming threefry_2x32 for pjit in 0.0053212642669677734 sec\n",
      "WARNING:jax._src.dispatch:Finished tracing + transforming _threefry_random_bits_original for pjit in 0.009816646575927734 sec\n",
      "WARNING:jax._src.dispatch:Finished jaxpr to MLIR module conversion jit(_uniform) in 0.023739099502563477 sec\n",
      "DEBUG:jax._src.xla_bridge:get_compile_options: num_replicas=1 num_partitions=1 device_assignment=[[gpu(id=0)]]\n",
      "WARNING:jax._src.dispatch:Finished XLA compilation of jit(_uniform) in 0.09231066703796387 sec\n",
      "WARNING:jax._src.dispatch:Finished tracing + transforming ravel for pjit in 0.0002295970916748047 sec\n"
     ]
    },
    {
     "name": "stderr",
     "output_type": "stream",
     "text": [
      "WARNING:jax._src.dispatch:Finished tracing + transforming threefry_2x32 for pjit in 0.0024831295013427734 sec\n",
      "WARNING:jax._src.dispatch:Finished tracing + transforming _threefry_split_original for pjit in 0.004970550537109375 sec\n",
      "WARNING:jax._src.dispatch:Finished tracing + transforming _threefry_split for pjit in 0.007807731628417969 sec\n",
      "DEBUG:jax._src.interpreters.pxla:Compiling _threefry_split for with global shapes and types [ShapedArray(uint32[2])]. Argument mapping: (GSPMDSharding({replicated}),).\n",
      "WARNING:jax._src.dispatch:Finished jaxpr to MLIR module conversion jit(_threefry_split) in 0.0035338401794433594 sec\n",
      "DEBUG:jax._src.xla_bridge:get_compile_options: num_replicas=1 num_partitions=1 device_assignment=[[gpu(id=0)]]\n",
      "WARNING:jax._src.dispatch:Finished XLA compilation of jit(_threefry_split) in 0.07670307159423828 sec\n",
      "WARNING:jax._src.dispatch:Finished tracing + transforming _unstack for pjit in 0.0005986690521240234 sec\n",
      "DEBUG:jax._src.interpreters.pxla:Compiling _unstack for with global shapes and types [ShapedArray(uint32[1,2])]. Argument mapping: (GSPMDSharding({replicated}),).\n",
      "WARNING:jax._src.dispatch:Finished jaxpr to MLIR module conversion jit(_unstack) in 0.002450704574584961 sec\n",
      "DEBUG:jax._src.xla_bridge:get_compile_options: num_replicas=1 num_partitions=1 device_assignment=[[gpu(id=0)]]\n",
      "WARNING:jax._src.dispatch:Finished XLA compilation of jit(_unstack) in 0.015255928039550781 sec\n",
      "WARNING:jax._src.dispatch:Finished tracing + transforming <lambda> for pjit in 0.0005037784576416016 sec\n",
      "WARNING:jax._src.dispatch:Finished tracing + transforming fn for pjit in 0.001535654067993164 sec\n",
      "WARNING:jax._src.dispatch:Finished tracing + transforming fn for pjit in 0.000705718994140625 sec\n",
      "WARNING:jax._src.dispatch:Finished tracing + transforming _uniform for pjit in 0.010471343994140625 sec\n",
      "DEBUG:jax._src.interpreters.pxla:Compiling _uniform for with global shapes and types [ShapedArray(key<fry>[]), ShapedArray(float32[], weak_type=True), ShapedArray(float32[], weak_type=True)]. Argument mapping: (GSPMDSharding({replicated}), GSPMDSharding({replicated}), GSPMDSharding({replicated})).\n",
      "WARNING:jax._src.dispatch:Finished tracing + transforming ravel for pjit in 0.0007114410400390625 sec\n",
      "WARNING:jax._src.dispatch:Finished tracing + transforming threefry_2x32 for pjit in 0.0038537979125976562 sec\n",
      "WARNING:jax._src.dispatch:Finished tracing + transforming _threefry_random_bits_original for pjit in 0.006474733352661133 sec\n",
      "WARNING:jax._src.dispatch:Finished jaxpr to MLIR module conversion jit(_uniform) in 0.017299890518188477 sec\n",
      "DEBUG:jax._src.xla_bridge:get_compile_options: num_replicas=1 num_partitions=1 device_assignment=[[gpu(id=0)]]\n",
      "WARNING:jax._src.dispatch:Finished XLA compilation of jit(_uniform) in 0.08631372451782227 sec\n",
      "WARNING:jax._src.dispatch:Finished tracing + transforming <lambda> for pjit in 0.0003688335418701172 sec\n",
      "WARNING:jax._src.dispatch:Finished tracing + transforming fn for pjit in 0.00038695335388183594 sec\n",
      "WARNING:jax._src.dispatch:Finished tracing + transforming fn for pjit in 0.0005848407745361328 sec\n",
      "WARNING:jax._src.dispatch:Finished tracing + transforming _uniform for pjit in 0.00693964958190918 sec\n",
      "DEBUG:jax._src.interpreters.pxla:Compiling _uniform for with global shapes and types [ShapedArray(key<fry>[]), ShapedArray(float32[], weak_type=True), ShapedArray(float32[], weak_type=True)]. Argument mapping: (GSPMDSharding({replicated}), GSPMDSharding({replicated}), GSPMDSharding({replicated})).\n",
      "WARNING:jax._src.dispatch:Finished tracing + transforming ravel for pjit in 0.0002560615539550781 sec\n",
      "WARNING:jax._src.dispatch:Finished tracing + transforming threefry_2x32 for pjit in 0.0030982494354248047 sec\n",
      "WARNING:jax._src.dispatch:Finished tracing + transforming _threefry_random_bits_original for pjit in 0.0057086944580078125 sec\n",
      "WARNING:jax._src.dispatch:Finished jaxpr to MLIR module conversion jit(_uniform) in 0.016546010971069336 sec\n",
      "DEBUG:jax._src.xla_bridge:get_compile_options: num_replicas=1 num_partitions=1 device_assignment=[[gpu(id=0)]]\n",
      "WARNING:jax._src.dispatch:Finished XLA compilation of jit(_uniform) in 0.0843813419342041 sec\n",
      "WARNING:jax._src.dispatch:Finished tracing + transforming <lambda> for pjit in 0.0008223056793212891 sec\n",
      "WARNING:jax._src.dispatch:Finished tracing + transforming fn for pjit in 0.000985860824584961 sec\n",
      "WARNING:jax._src.dispatch:Finished tracing + transforming fn for pjit in 0.00039505958557128906 sec\n",
      "WARNING:jax._src.dispatch:Finished tracing + transforming _uniform for pjit in 0.011311531066894531 sec\n",
      "DEBUG:jax._src.interpreters.pxla:Compiling _uniform for with global shapes and types [ShapedArray(key<fry>[]), ShapedArray(float32[], weak_type=True), ShapedArray(float32[], weak_type=True)]. Argument mapping: (GSPMDSharding({replicated}), GSPMDSharding({replicated}), GSPMDSharding({replicated})).\n",
      "WARNING:jax._src.dispatch:Finished tracing + transforming ravel for pjit in 0.00023794174194335938 sec\n",
      "WARNING:jax._src.dispatch:Finished tracing + transforming threefry_2x32 for pjit in 0.0040967464447021484 sec\n",
      "WARNING:jax._src.dispatch:Finished tracing + transforming _threefry_random_bits_original for pjit in 0.00765538215637207 sec\n",
      "WARNING:jax._src.dispatch:Finished jaxpr to MLIR module conversion jit(_uniform) in 0.017452001571655273 sec\n",
      "DEBUG:jax._src.xla_bridge:get_compile_options: num_replicas=1 num_partitions=1 device_assignment=[[gpu(id=0)]]\n",
      "WARNING:jax._src.dispatch:Finished XLA compilation of jit(_uniform) in 0.09409642219543457 sec\n",
      "WARNING:jax._src.dispatch:Finished tracing + transforming <lambda> for pjit in 0.0005478858947753906 sec\n",
      "WARNING:jax._src.dispatch:Finished tracing + transforming fn for pjit in 0.0008494853973388672 sec\n",
      "WARNING:jax._src.dispatch:Finished tracing + transforming fn for pjit in 0.0007340908050537109 sec\n",
      "WARNING:jax._src.dispatch:Finished tracing + transforming _uniform for pjit in 0.011060953140258789 sec\n",
      "DEBUG:jax._src.interpreters.pxla:Compiling _uniform for with global shapes and types [ShapedArray(key<fry>[]), ShapedArray(float32[], weak_type=True), ShapedArray(float32[], weak_type=True)]. Argument mapping: (GSPMDSharding({replicated}), GSPMDSharding({replicated}), GSPMDSharding({replicated})).\n",
      "WARNING:jax._src.dispatch:Finished tracing + transforming ravel for pjit in 0.00028228759765625 sec\n",
      "WARNING:jax._src.dispatch:Finished tracing + transforming threefry_2x32 for pjit in 0.0030786991119384766 sec\n",
      "WARNING:jax._src.dispatch:Finished tracing + transforming _threefry_random_bits_original for pjit in 0.008324384689331055 sec\n",
      "WARNING:jax._src.dispatch:Finished jaxpr to MLIR module conversion jit(_uniform) in 0.019153594970703125 sec\n",
      "DEBUG:jax._src.xla_bridge:get_compile_options: num_replicas=1 num_partitions=1 device_assignment=[[gpu(id=0)]]\n",
      "WARNING:jax._src.dispatch:Finished XLA compilation of jit(_uniform) in 0.09737420082092285 sec\n",
      "WARNING:jax._src.dispatch:Finished tracing + transforming <lambda> for pjit in 0.0004394054412841797 sec\n",
      "WARNING:jax._src.dispatch:Finished tracing + transforming fn for pjit in 0.00043320655822753906 sec\n",
      "WARNING:jax._src.dispatch:Finished tracing + transforming fn for pjit in 0.0005307197570800781 sec\n",
      "WARNING:jax._src.dispatch:Finished tracing + transforming _uniform for pjit in 0.00786280632019043 sec\n",
      "DEBUG:jax._src.interpreters.pxla:Compiling _uniform for with global shapes and types [ShapedArray(key<fry>[]), ShapedArray(float32[], weak_type=True), ShapedArray(float32[], weak_type=True)]. Argument mapping: (GSPMDSharding({replicated}), GSPMDSharding({replicated}), GSPMDSharding({replicated})).\n",
      "WARNING:jax._src.dispatch:Finished tracing + transforming ravel for pjit in 0.00027942657470703125 sec\n",
      "WARNING:jax._src.dispatch:Finished tracing + transforming threefry_2x32 for pjit in 0.0034787654876708984 sec\n",
      "WARNING:jax._src.dispatch:Finished tracing + transforming _threefry_random_bits_original for pjit in 0.00690770149230957 sec\n",
      "WARNING:jax._src.dispatch:Finished jaxpr to MLIR module conversion jit(_uniform) in 0.01996302604675293 sec\n",
      "DEBUG:jax._src.xla_bridge:get_compile_options: num_replicas=1 num_partitions=1 device_assignment=[[gpu(id=0)]]\n",
      "WARNING:jax._src.dispatch:Finished XLA compilation of jit(_uniform) in 0.08846473693847656 sec\n"
     ]
    },
    {
     "name": "stderr",
     "output_type": "stream",
     "text": [
      "WARNING:jax._src.dispatch:Finished tracing + transforming <lambda> for pjit in 0.0006706714630126953 sec\n",
      "WARNING:jax._src.dispatch:Finished tracing + transforming fn for pjit in 0.0005369186401367188 sec\n",
      "WARNING:jax._src.dispatch:Finished tracing + transforming fn for pjit in 0.00046062469482421875 sec\n",
      "WARNING:jax._src.dispatch:Finished tracing + transforming _uniform for pjit in 0.008666038513183594 sec\n",
      "DEBUG:jax._src.interpreters.pxla:Compiling _uniform for with global shapes and types [ShapedArray(key<fry>[]), ShapedArray(float32[], weak_type=True), ShapedArray(float32[], weak_type=True)]. Argument mapping: (GSPMDSharding({replicated}), GSPMDSharding({replicated}), GSPMDSharding({replicated})).\n",
      "WARNING:jax._src.dispatch:Finished tracing + transforming ravel for pjit in 0.00041961669921875 sec\n",
      "WARNING:jax._src.dispatch:Finished tracing + transforming threefry_2x32 for pjit in 0.003895998001098633 sec\n",
      "WARNING:jax._src.dispatch:Finished tracing + transforming _threefry_random_bits_original for pjit in 0.006934642791748047 sec\n",
      "WARNING:jax._src.dispatch:Finished jaxpr to MLIR module conversion jit(_uniform) in 0.017455577850341797 sec\n",
      "DEBUG:jax._src.xla_bridge:get_compile_options: num_replicas=1 num_partitions=1 device_assignment=[[gpu(id=0)]]\n",
      "WARNING:jax._src.dispatch:Finished XLA compilation of jit(_uniform) in 0.11185979843139648 sec\n",
      "WARNING:jax._src.dispatch:Finished tracing + transforming <lambda> for pjit in 0.00043320655822753906 sec\n",
      "WARNING:jax._src.dispatch:Finished tracing + transforming fn for pjit in 0.0006046295166015625 sec\n",
      "WARNING:jax._src.dispatch:Finished tracing + transforming fn for pjit in 0.0006384849548339844 sec\n",
      "WARNING:jax._src.dispatch:Finished tracing + transforming _uniform for pjit in 0.008635997772216797 sec\n",
      "DEBUG:jax._src.interpreters.pxla:Compiling _uniform for with global shapes and types [ShapedArray(key<fry>[]), ShapedArray(float32[], weak_type=True), ShapedArray(float32[], weak_type=True)]. Argument mapping: (GSPMDSharding({replicated}), GSPMDSharding({replicated}), GSPMDSharding({replicated})).\n",
      "WARNING:jax._src.dispatch:Finished tracing + transforming ravel for pjit in 0.00032138824462890625 sec\n",
      "WARNING:jax._src.dispatch:Finished tracing + transforming threefry_2x32 for pjit in 0.00425410270690918 sec\n",
      "WARNING:jax._src.dispatch:Finished tracing + transforming _threefry_random_bits_original for pjit in 0.0072786808013916016 sec\n",
      "WARNING:jax._src.dispatch:Finished jaxpr to MLIR module conversion jit(_uniform) in 0.02660202980041504 sec\n",
      "DEBUG:jax._src.xla_bridge:get_compile_options: num_replicas=1 num_partitions=1 device_assignment=[[gpu(id=0)]]\n",
      "WARNING:jax._src.dispatch:Finished XLA compilation of jit(_uniform) in 0.13497543334960938 sec\n",
      "WARNING:jax._src.dispatch:Finished tracing + transforming <lambda> for pjit in 0.0010516643524169922 sec\n",
      "WARNING:jax._src.dispatch:Finished tracing + transforming fn for pjit in 0.0012509822845458984 sec\n",
      "WARNING:jax._src.dispatch:Finished tracing + transforming fn for pjit in 0.0011169910430908203 sec\n",
      "WARNING:jax._src.dispatch:Finished tracing + transforming _uniform for pjit in 0.016333341598510742 sec\n",
      "DEBUG:jax._src.interpreters.pxla:Compiling _uniform for with global shapes and types [ShapedArray(key<fry>[]), ShapedArray(float32[], weak_type=True), ShapedArray(float32[], weak_type=True)]. Argument mapping: (GSPMDSharding({replicated}), GSPMDSharding({replicated}), GSPMDSharding({replicated})).\n",
      "WARNING:jax._src.dispatch:Finished tracing + transforming ravel for pjit in 0.00018906593322753906 sec\n",
      "WARNING:jax._src.dispatch:Finished tracing + transforming threefry_2x32 for pjit in 0.0038368701934814453 sec\n",
      "WARNING:jax._src.dispatch:Finished tracing + transforming _threefry_random_bits_original for pjit in 0.007336854934692383 sec\n",
      "WARNING:jax._src.dispatch:Finished jaxpr to MLIR module conversion jit(_uniform) in 0.01775503158569336 sec\n",
      "DEBUG:jax._src.xla_bridge:get_compile_options: num_replicas=1 num_partitions=1 device_assignment=[[gpu(id=0)]]\n",
      "WARNING:jax._src.dispatch:Finished XLA compilation of jit(_uniform) in 0.07862687110900879 sec\n",
      "WARNING:jax._src.dispatch:Finished tracing + transforming <lambda> for pjit in 0.0006957054138183594 sec\n",
      "WARNING:jax._src.dispatch:Finished tracing + transforming fn for pjit in 0.0007793903350830078 sec\n",
      "WARNING:jax._src.dispatch:Finished tracing + transforming fn for pjit in 0.0004930496215820312 sec\n",
      "WARNING:jax._src.dispatch:Finished tracing + transforming _uniform for pjit in 0.008856773376464844 sec\n",
      "DEBUG:jax._src.interpreters.pxla:Compiling _uniform for with global shapes and types [ShapedArray(key<fry>[]), ShapedArray(float32[], weak_type=True), ShapedArray(float32[], weak_type=True)]. Argument mapping: (GSPMDSharding({replicated}), GSPMDSharding({replicated}), GSPMDSharding({replicated})).\n",
      "WARNING:jax._src.dispatch:Finished tracing + transforming ravel for pjit in 0.0002503395080566406 sec\n",
      "WARNING:jax._src.dispatch:Finished tracing + transforming threefry_2x32 for pjit in 0.0028777122497558594 sec\n",
      "WARNING:jax._src.dispatch:Finished tracing + transforming _threefry_random_bits_original for pjit in 0.005499839782714844 sec\n",
      "WARNING:jax._src.dispatch:Finished jaxpr to MLIR module conversion jit(_uniform) in 0.016071081161499023 sec\n",
      "DEBUG:jax._src.xla_bridge:get_compile_options: num_replicas=1 num_partitions=1 device_assignment=[[gpu(id=0)]]\n",
      "WARNING:jax._src.dispatch:Finished XLA compilation of jit(_uniform) in 0.11389875411987305 sec\n",
      "WARNING:jax._src.dispatch:Finished tracing + transforming <lambda> for pjit in 0.001272439956665039 sec\n",
      "WARNING:jax._src.dispatch:Finished tracing + transforming fn for pjit in 0.0013127326965332031 sec\n",
      "WARNING:jax._src.dispatch:Finished tracing + transforming fn for pjit in 0.001207113265991211 sec\n",
      "WARNING:jax._src.dispatch:Finished tracing + transforming _uniform for pjit in 0.0161287784576416 sec\n",
      "DEBUG:jax._src.interpreters.pxla:Compiling _uniform for with global shapes and types [ShapedArray(key<fry>[]), ShapedArray(float32[], weak_type=True), ShapedArray(float32[], weak_type=True)]. Argument mapping: (GSPMDSharding({replicated}), GSPMDSharding({replicated}), GSPMDSharding({replicated})).\n",
      "WARNING:jax._src.dispatch:Finished tracing + transforming ravel for pjit in 0.0005984306335449219 sec\n",
      "WARNING:jax._src.dispatch:Finished tracing + transforming threefry_2x32 for pjit in 0.006244182586669922 sec\n",
      "WARNING:jax._src.dispatch:Finished tracing + transforming _threefry_random_bits_original for pjit in 0.011837244033813477 sec\n",
      "WARNING:jax._src.dispatch:Finished jaxpr to MLIR module conversion jit(_uniform) in 0.027155399322509766 sec\n",
      "DEBUG:jax._src.xla_bridge:get_compile_options: num_replicas=1 num_partitions=1 device_assignment=[[gpu(id=0)]]\n",
      "WARNING:jax._src.dispatch:Finished XLA compilation of jit(_uniform) in 0.0933220386505127 sec\n",
      "WARNING:jax._src.dispatch:Finished tracing + transforming <lambda> for pjit in 0.0004839897155761719 sec\n",
      "WARNING:jax._src.dispatch:Finished tracing + transforming fn for pjit in 0.0007481575012207031 sec\n",
      "WARNING:jax._src.dispatch:Finished tracing + transforming fn for pjit in 0.0006508827209472656 sec\n",
      "WARNING:jax._src.dispatch:Finished tracing + transforming _uniform for pjit in 0.009145259857177734 sec\n",
      "DEBUG:jax._src.interpreters.pxla:Compiling _uniform for with global shapes and types [ShapedArray(key<fry>[]), ShapedArray(float32[], weak_type=True), ShapedArray(float32[], weak_type=True)]. Argument mapping: (GSPMDSharding({replicated}), GSPMDSharding({replicated}), GSPMDSharding({replicated})).\n",
      "WARNING:jax._src.dispatch:Finished tracing + transforming ravel for pjit in 0.0002243518829345703 sec\n",
      "WARNING:jax._src.dispatch:Finished tracing + transforming threefry_2x32 for pjit in 0.0032396316528320312 sec\n",
      "WARNING:jax._src.dispatch:Finished tracing + transforming _threefry_random_bits_original for pjit in 0.006288290023803711 sec\n",
      "WARNING:jax._src.dispatch:Finished jaxpr to MLIR module conversion jit(_uniform) in 0.016628026962280273 sec\n",
      "DEBUG:jax._src.xla_bridge:get_compile_options: num_replicas=1 num_partitions=1 device_assignment=[[gpu(id=0)]]\n",
      "WARNING:jax._src.dispatch:Finished XLA compilation of jit(_uniform) in 0.1257343292236328 sec\n",
      "WARNING:jax._src.dispatch:Finished tracing + transforming <lambda> for pjit in 0.0006823539733886719 sec\n"
     ]
    },
    {
     "name": "stderr",
     "output_type": "stream",
     "text": [
      "WARNING:jax._src.dispatch:Finished tracing + transforming fn for pjit in 0.0005347728729248047 sec\n",
      "WARNING:jax._src.dispatch:Finished tracing + transforming fn for pjit in 0.0006682872772216797 sec\n",
      "WARNING:jax._src.dispatch:Finished tracing + transforming _uniform for pjit in 0.008961200714111328 sec\n",
      "DEBUG:jax._src.interpreters.pxla:Compiling _uniform for with global shapes and types [ShapedArray(key<fry>[]), ShapedArray(float32[], weak_type=True), ShapedArray(float32[], weak_type=True)]. Argument mapping: (GSPMDSharding({replicated}), GSPMDSharding({replicated}), GSPMDSharding({replicated})).\n",
      "WARNING:jax._src.dispatch:Finished tracing + transforming _threefry_random_bits_original for pjit in 0.002534151077270508 sec\n",
      "WARNING:jax._src.dispatch:Finished jaxpr to MLIR module conversion jit(_uniform) in 0.014892816543579102 sec\n",
      "DEBUG:jax._src.xla_bridge:get_compile_options: num_replicas=1 num_partitions=1 device_assignment=[[gpu(id=0)]]\n",
      "WARNING:jax._src.dispatch:Finished XLA compilation of jit(_uniform) in 0.054647207260131836 sec\n",
      "WARNING:jax._src.dispatch:Finished tracing + transforming <lambda> for pjit in 0.0004782676696777344 sec\n",
      "WARNING:jax._src.dispatch:Finished tracing + transforming fn for pjit in 0.0007097721099853516 sec\n",
      "WARNING:jax._src.dispatch:Finished tracing + transforming fn for pjit in 0.0006477832794189453 sec\n",
      "WARNING:jax._src.dispatch:Finished tracing + transforming _uniform for pjit in 0.008908510208129883 sec\n",
      "DEBUG:jax._src.interpreters.pxla:Compiling _uniform for with global shapes and types [ShapedArray(key<fry>[]), ShapedArray(float32[], weak_type=True), ShapedArray(float32[], weak_type=True)]. Argument mapping: (GSPMDSharding({replicated}), GSPMDSharding({replicated}), GSPMDSharding({replicated})).\n",
      "WARNING:jax._src.dispatch:Finished tracing + transforming ravel for pjit in 0.0004456043243408203 sec\n",
      "WARNING:jax._src.dispatch:Finished tracing + transforming threefry_2x32 for pjit in 0.003275156021118164 sec\n",
      "WARNING:jax._src.dispatch:Finished tracing + transforming _threefry_random_bits_original for pjit in 0.0066356658935546875 sec\n",
      "WARNING:jax._src.dispatch:Finished jaxpr to MLIR module conversion jit(_uniform) in 0.02056121826171875 sec\n",
      "DEBUG:jax._src.xla_bridge:get_compile_options: num_replicas=1 num_partitions=1 device_assignment=[[gpu(id=0)]]\n",
      "WARNING:jax._src.dispatch:Finished XLA compilation of jit(_uniform) in 0.08904004096984863 sec\n",
      "WARNING:jax._src.dispatch:Finished tracing + transforming <lambda> for pjit in 0.0004642009735107422 sec\n",
      "WARNING:jax._src.dispatch:Finished tracing + transforming fn for pjit in 0.0005123615264892578 sec\n",
      "WARNING:jax._src.dispatch:Finished tracing + transforming fn for pjit in 0.0006530284881591797 sec\n",
      "WARNING:jax._src.dispatch:Finished tracing + transforming _uniform for pjit in 0.00832366943359375 sec\n",
      "DEBUG:jax._src.interpreters.pxla:Compiling _uniform for with global shapes and types [ShapedArray(key<fry>[]), ShapedArray(float32[], weak_type=True), ShapedArray(float32[], weak_type=True)]. Argument mapping: (GSPMDSharding({replicated}), GSPMDSharding({replicated}), GSPMDSharding({replicated})).\n",
      "WARNING:jax._src.dispatch:Finished tracing + transforming ravel for pjit in 0.00023412704467773438 sec\n",
      "WARNING:jax._src.dispatch:Finished tracing + transforming threefry_2x32 for pjit in 0.0030891895294189453 sec\n",
      "WARNING:jax._src.dispatch:Finished tracing + transforming _threefry_random_bits_original for pjit in 0.005900382995605469 sec\n",
      "WARNING:jax._src.dispatch:Finished jaxpr to MLIR module conversion jit(_uniform) in 0.017546653747558594 sec\n",
      "DEBUG:jax._src.xla_bridge:get_compile_options: num_replicas=1 num_partitions=1 device_assignment=[[gpu(id=0)]]\n",
      "WARNING:jax._src.dispatch:Finished XLA compilation of jit(_uniform) in 0.11066222190856934 sec\n",
      "WARNING:jax._src.dispatch:Finished tracing + transforming <lambda> for pjit in 0.0009925365447998047 sec\n",
      "WARNING:jax._src.dispatch:Finished tracing + transforming fn for pjit in 0.0005514621734619141 sec\n",
      "WARNING:jax._src.dispatch:Finished tracing + transforming fn for pjit in 0.0007388591766357422 sec\n",
      "WARNING:jax._src.dispatch:Finished tracing + transforming _uniform for pjit in 0.010495185852050781 sec\n",
      "DEBUG:jax._src.interpreters.pxla:Compiling _uniform for with global shapes and types [ShapedArray(key<fry>[]), ShapedArray(float32[], weak_type=True), ShapedArray(float32[], weak_type=True)]. Argument mapping: (GSPMDSharding({replicated}), GSPMDSharding({replicated}), GSPMDSharding({replicated})).\n",
      "WARNING:jax._src.dispatch:Finished tracing + transforming _threefry_random_bits_original for pjit in 0.0017752647399902344 sec\n",
      "WARNING:jax._src.dispatch:Finished jaxpr to MLIR module conversion jit(_uniform) in 0.013545989990234375 sec\n",
      "DEBUG:jax._src.xla_bridge:get_compile_options: num_replicas=1 num_partitions=1 device_assignment=[[gpu(id=0)]]\n",
      "WARNING:jax._src.dispatch:Finished XLA compilation of jit(_uniform) in 0.044486284255981445 sec\n",
      "WARNING:jax._src.dispatch:Finished tracing + transforming <lambda> for pjit in 0.0006053447723388672 sec\n",
      "WARNING:jax._src.dispatch:Finished tracing + transforming fn for pjit in 0.0004889965057373047 sec\n",
      "WARNING:jax._src.dispatch:Finished tracing + transforming fn for pjit in 0.000835418701171875 sec\n",
      "WARNING:jax._src.dispatch:Finished tracing + transforming _uniform for pjit in 0.008246421813964844 sec\n",
      "DEBUG:jax._src.interpreters.pxla:Compiling _uniform for with global shapes and types [ShapedArray(key<fry>[]), ShapedArray(float32[], weak_type=True), ShapedArray(float32[], weak_type=True)]. Argument mapping: (GSPMDSharding({replicated}), GSPMDSharding({replicated}), GSPMDSharding({replicated})).\n",
      "WARNING:jax._src.dispatch:Finished tracing + transforming _threefry_random_bits_original for pjit in 0.0014667510986328125 sec\n",
      "WARNING:jax._src.dispatch:Finished jaxpr to MLIR module conversion jit(_uniform) in 0.012674808502197266 sec\n",
      "DEBUG:jax._src.xla_bridge:get_compile_options: num_replicas=1 num_partitions=1 device_assignment=[[gpu(id=0)]]\n",
      "WARNING:jax._src.dispatch:Finished XLA compilation of jit(_uniform) in 0.09193587303161621 sec\n",
      "WARNING:jax._src.dispatch:Finished tracing + transforming <lambda> for pjit in 0.0005719661712646484 sec\n",
      "WARNING:jax._src.dispatch:Finished tracing + transforming fn for pjit in 0.0007624626159667969 sec\n",
      "WARNING:jax._src.dispatch:Finished tracing + transforming fn for pjit in 0.0007047653198242188 sec\n",
      "WARNING:jax._src.dispatch:Finished tracing + transforming _uniform for pjit in 0.01207113265991211 sec\n",
      "DEBUG:jax._src.interpreters.pxla:Compiling _uniform for with global shapes and types [ShapedArray(key<fry>[]), ShapedArray(float32[], weak_type=True), ShapedArray(float32[], weak_type=True)]. Argument mapping: (GSPMDSharding({replicated}), GSPMDSharding({replicated}), GSPMDSharding({replicated})).\n",
      "WARNING:jax._src.dispatch:Finished tracing + transforming ravel for pjit in 0.0002357959747314453 sec\n",
      "WARNING:jax._src.dispatch:Finished tracing + transforming threefry_2x32 for pjit in 0.004507303237915039 sec\n",
      "WARNING:jax._src.dispatch:Finished tracing + transforming _threefry_random_bits_original for pjit in 0.007394313812255859 sec\n",
      "WARNING:jax._src.dispatch:Finished jaxpr to MLIR module conversion jit(_uniform) in 0.01751875877380371 sec\n",
      "DEBUG:jax._src.xla_bridge:get_compile_options: num_replicas=1 num_partitions=1 device_assignment=[[gpu(id=0)]]\n",
      "WARNING:jax._src.dispatch:Finished XLA compilation of jit(_uniform) in 0.0941612720489502 sec\n",
      "WARNING:jax._src.dispatch:Finished tracing + transforming ravel for pjit in 0.00021123886108398438 sec\n",
      "WARNING:jax._src.dispatch:Finished tracing + transforming threefry_2x32 for pjit in 0.0023822784423828125 sec\n",
      "WARNING:jax._src.dispatch:Finished tracing + transforming _threefry_split_original for pjit in 0.005201578140258789 sec\n",
      "WARNING:jax._src.dispatch:Finished tracing + transforming _threefry_split for pjit in 0.008321523666381836 sec\n",
      "DEBUG:jax._src.interpreters.pxla:Compiling _threefry_split for with global shapes and types [ShapedArray(uint32[2])]. Argument mapping: (GSPMDSharding({replicated}),).\n",
      "WARNING:jax._src.dispatch:Finished jaxpr to MLIR module conversion jit(_threefry_split) in 0.0040340423583984375 sec\n",
      "DEBUG:jax._src.xla_bridge:get_compile_options: num_replicas=1 num_partitions=1 device_assignment=[[gpu(id=0)]]\n"
     ]
    },
    {
     "name": "stderr",
     "output_type": "stream",
     "text": [
      "WARNING:jax._src.dispatch:Finished XLA compilation of jit(_threefry_split) in 0.07588315010070801 sec\n",
      "WARNING:jax._src.dispatch:Finished tracing + transforming jit(dynamic_slice) in 0.0003523826599121094 sec\n",
      "DEBUG:jax._src.interpreters.pxla:Compiling dynamic_slice for with global shapes and types [ShapedArray(uint32[4,2]), ShapedArray(int32[]), ShapedArray(int32[])]. Argument mapping: (GSPMDSharding({replicated}), GSPMDSharding({replicated}), GSPMDSharding({replicated})).\n",
      "WARNING:jax._src.dispatch:Finished jaxpr to MLIR module conversion jit(dynamic_slice) in 0.0022084712982177734 sec\n",
      "DEBUG:jax._src.xla_bridge:get_compile_options: num_replicas=1 num_partitions=1 device_assignment=[[gpu(id=0)]]\n",
      "WARNING:jax._src.dispatch:Finished XLA compilation of jit(dynamic_slice) in 0.0640411376953125 sec\n",
      "WARNING:jax._src.dispatch:Finished tracing + transforming <lambda> for pjit in 0.0004105567932128906 sec\n",
      "WARNING:jax._src.dispatch:Finished tracing + transforming fn for pjit in 0.0005705356597900391 sec\n",
      "WARNING:jax._src.dispatch:Finished tracing + transforming fn for pjit in 0.0007131099700927734 sec\n",
      "WARNING:jax._src.dispatch:Finished tracing + transforming _uniform for pjit in 0.009573221206665039 sec\n",
      "DEBUG:jax._src.interpreters.pxla:Compiling _uniform for with global shapes and types [ShapedArray(key<fry>[]), ShapedArray(float32[], weak_type=True), ShapedArray(float32[], weak_type=True)]. Argument mapping: (GSPMDSharding({replicated}), GSPMDSharding({replicated}), GSPMDSharding({replicated})).\n",
      "WARNING:jax._src.dispatch:Finished tracing + transforming ravel for pjit in 0.00028228759765625 sec\n",
      "WARNING:jax._src.dispatch:Finished tracing + transforming threefry_2x32 for pjit in 0.0030565261840820312 sec\n",
      "WARNING:jax._src.dispatch:Finished tracing + transforming _threefry_random_bits_original for pjit in 0.005761146545410156 sec\n",
      "WARNING:jax._src.dispatch:Finished jaxpr to MLIR module conversion jit(_uniform) in 0.015750885009765625 sec\n",
      "DEBUG:jax._src.xla_bridge:get_compile_options: num_replicas=1 num_partitions=1 device_assignment=[[gpu(id=0)]]\n",
      "WARNING:jax._src.dispatch:Finished XLA compilation of jit(_uniform) in 0.12814068794250488 sec\n",
      "WARNING:jax._src.dispatch:Finished tracing + transforming <lambda> for pjit in 0.0009746551513671875 sec\n",
      "WARNING:jax._src.dispatch:Finished tracing + transforming fn for pjit in 0.00045371055603027344 sec\n",
      "WARNING:jax._src.dispatch:Finished tracing + transforming fn for pjit in 0.0007104873657226562 sec\n",
      "WARNING:jax._src.dispatch:Finished tracing + transforming _uniform for pjit in 0.010236740112304688 sec\n",
      "DEBUG:jax._src.interpreters.pxla:Compiling _uniform for with global shapes and types [ShapedArray(key<fry>[]), ShapedArray(float32[], weak_type=True), ShapedArray(float32[], weak_type=True)]. Argument mapping: (GSPMDSharding({replicated}), GSPMDSharding({replicated}), GSPMDSharding({replicated})).\n",
      "WARNING:jax._src.dispatch:Finished tracing + transforming ravel for pjit in 0.0003199577331542969 sec\n",
      "WARNING:jax._src.dispatch:Finished tracing + transforming threefry_2x32 for pjit in 0.0042877197265625 sec\n",
      "WARNING:jax._src.dispatch:Finished tracing + transforming _threefry_random_bits_original for pjit in 0.007225751876831055 sec\n",
      "WARNING:jax._src.dispatch:Finished jaxpr to MLIR module conversion jit(_uniform) in 0.017415285110473633 sec\n",
      "DEBUG:jax._src.xla_bridge:get_compile_options: num_replicas=1 num_partitions=1 device_assignment=[[gpu(id=0)]]\n",
      "WARNING:jax._src.dispatch:Finished XLA compilation of jit(_uniform) in 0.1458735466003418 sec\n",
      "WARNING:jax._src.dispatch:Finished tracing + transforming <lambda> for pjit in 0.0004334449768066406 sec\n",
      "WARNING:jax._src.dispatch:Finished tracing + transforming fn for pjit in 0.0006282329559326172 sec\n",
      "WARNING:jax._src.dispatch:Finished tracing + transforming fn for pjit in 0.0015072822570800781 sec\n",
      "WARNING:jax._src.dispatch:Finished tracing + transforming _uniform for pjit in 0.01121068000793457 sec\n",
      "DEBUG:jax._src.interpreters.pxla:Compiling _uniform for with global shapes and types [ShapedArray(key<fry>[]), ShapedArray(float32[], weak_type=True), ShapedArray(float32[], weak_type=True)]. Argument mapping: (GSPMDSharding({replicated}), GSPMDSharding({replicated}), GSPMDSharding({replicated})).\n",
      "WARNING:jax._src.dispatch:Finished tracing + transforming ravel for pjit in 0.0013530254364013672 sec\n",
      "WARNING:jax._src.dispatch:Finished tracing + transforming threefry_2x32 for pjit in 0.004979610443115234 sec\n",
      "WARNING:jax._src.dispatch:Finished tracing + transforming _threefry_random_bits_original for pjit in 0.008023262023925781 sec\n",
      "WARNING:jax._src.dispatch:Finished jaxpr to MLIR module conversion jit(_uniform) in 0.019924640655517578 sec\n",
      "DEBUG:jax._src.xla_bridge:get_compile_options: num_replicas=1 num_partitions=1 device_assignment=[[gpu(id=0)]]\n",
      "WARNING:jax._src.dispatch:Finished XLA compilation of jit(_uniform) in 0.13142919540405273 sec\n",
      "WARNING:jax._src.dispatch:Finished tracing + transforming <lambda> for pjit in 0.00047969818115234375 sec\n",
      "WARNING:jax._src.dispatch:Finished tracing + transforming fn for pjit in 0.00041985511779785156 sec\n",
      "WARNING:jax._src.dispatch:Finished tracing + transforming fn for pjit in 0.0007302761077880859 sec\n",
      "WARNING:jax._src.dispatch:Finished tracing + transforming _uniform for pjit in 0.008401155471801758 sec\n",
      "DEBUG:jax._src.interpreters.pxla:Compiling _uniform for with global shapes and types [ShapedArray(key<fry>[]), ShapedArray(float32[], weak_type=True), ShapedArray(float32[], weak_type=True)]. Argument mapping: (GSPMDSharding({replicated}), GSPMDSharding({replicated}), GSPMDSharding({replicated})).\n",
      "WARNING:jax._src.dispatch:Finished tracing + transforming ravel for pjit in 0.0003883838653564453 sec\n",
      "WARNING:jax._src.dispatch:Finished tracing + transforming threefry_2x32 for pjit in 0.0038025379180908203 sec\n",
      "WARNING:jax._src.dispatch:Finished tracing + transforming _threefry_random_bits_original for pjit in 0.007513999938964844 sec\n",
      "WARNING:jax._src.dispatch:Finished jaxpr to MLIR module conversion jit(_uniform) in 0.025512218475341797 sec\n",
      "DEBUG:jax._src.xla_bridge:get_compile_options: num_replicas=1 num_partitions=1 device_assignment=[[gpu(id=0)]]\n",
      "WARNING:jax._src.dispatch:Finished XLA compilation of jit(_uniform) in 0.1175234317779541 sec\n",
      "WARNING:jax._src.dispatch:Finished tracing + transforming fn for pjit in 0.0014526844024658203 sec\n",
      "DEBUG:jax._src.interpreters.pxla:Compiling fn for with global shapes and types [ShapedArray(float32[], weak_type=True), ShapedArray(float32[250,65])]. Argument mapping: (GSPMDSharding({replicated}), GSPMDSharding({replicated})).\n",
      "WARNING:jax._src.dispatch:Finished jaxpr to MLIR module conversion jit(fn) in 0.005666017532348633 sec\n",
      "DEBUG:jax._src.xla_bridge:get_compile_options: num_replicas=1 num_partitions=1 device_assignment=[[gpu(id=0)]]\n",
      "WARNING:jax._src.dispatch:Finished XLA compilation of jit(fn) in 0.08117914199829102 sec\n",
      "WARNING:jax._src.dispatch:Finished tracing + transforming fn for pjit in 0.0007002353668212891 sec\n",
      "DEBUG:jax._src.interpreters.pxla:Compiling fn for with global shapes and types [ShapedArray(float32[], weak_type=True), ShapedArray(float32[250])]. Argument mapping: (GSPMDSharding({replicated}), GSPMDSharding({replicated})).\n",
      "WARNING:jax._src.dispatch:Finished jaxpr to MLIR module conversion jit(fn) in 0.002023935317993164 sec\n",
      "DEBUG:jax._src.xla_bridge:get_compile_options: num_replicas=1 num_partitions=1 device_assignment=[[gpu(id=0)]]\n",
      "WARNING:jax._src.dispatch:Finished XLA compilation of jit(fn) in 0.06604671478271484 sec\n",
      "WARNING:jax._src.dispatch:Finished tracing + transforming fn for pjit in 0.0011982917785644531 sec\n",
      "DEBUG:jax._src.interpreters.pxla:Compiling fn for with global shapes and types [ShapedArray(float32[], weak_type=True), ShapedArray(float32[250,250])]. Argument mapping: (GSPMDSharding({replicated}), GSPMDSharding({replicated})).\n",
      "WARNING:jax._src.dispatch:Finished jaxpr to MLIR module conversion jit(fn) in 0.003793954849243164 sec\n",
      "DEBUG:jax._src.xla_bridge:get_compile_options: num_replicas=1 num_partitions=1 device_assignment=[[gpu(id=0)]]\n",
      "WARNING:jax._src.dispatch:Finished XLA compilation of jit(fn) in 0.09952402114868164 sec\n",
      "WARNING:jax._src.dispatch:Finished tracing + transforming fn for pjit in 0.0005669593811035156 sec\n"
     ]
    },
    {
     "name": "stderr",
     "output_type": "stream",
     "text": [
      "DEBUG:jax._src.interpreters.pxla:Compiling fn for with global shapes and types [ShapedArray(float32[], weak_type=True), ShapedArray(float32[50,250])]. Argument mapping: (GSPMDSharding({replicated}), GSPMDSharding({replicated})).\n",
      "WARNING:jax._src.dispatch:Finished jaxpr to MLIR module conversion jit(fn) in 0.0020160675048828125 sec\n",
      "DEBUG:jax._src.xla_bridge:get_compile_options: num_replicas=1 num_partitions=1 device_assignment=[[gpu(id=0)]]\n",
      "WARNING:jax._src.dispatch:Finished XLA compilation of jit(fn) in 0.11173510551452637 sec\n",
      "WARNING:jax._src.dispatch:Finished tracing + transforming fn for pjit in 0.0014820098876953125 sec\n",
      "DEBUG:jax._src.interpreters.pxla:Compiling fn for with global shapes and types [ShapedArray(float32[], weak_type=True), ShapedArray(float32[50])]. Argument mapping: (GSPMDSharding({replicated}), GSPMDSharding({replicated})).\n",
      "WARNING:jax._src.dispatch:Finished jaxpr to MLIR module conversion jit(fn) in 0.005028486251831055 sec\n",
      "DEBUG:jax._src.xla_bridge:get_compile_options: num_replicas=1 num_partitions=1 device_assignment=[[gpu(id=0)]]\n",
      "WARNING:jax._src.dispatch:Finished XLA compilation of jit(fn) in 0.07106971740722656 sec\n",
      "WARNING:jax._src.dispatch:Finished tracing + transforming <lambda> for pjit in 0.0018754005432128906 sec\n",
      "WARNING:jax._src.dispatch:Finished tracing + transforming fn for pjit in 0.0014791488647460938 sec\n",
      "WARNING:jax._src.dispatch:Finished tracing + transforming fn for pjit in 0.0013248920440673828 sec\n",
      "WARNING:jax._src.dispatch:Finished tracing + transforming _uniform for pjit in 0.0168459415435791 sec\n",
      "DEBUG:jax._src.interpreters.pxla:Compiling _uniform for with global shapes and types [ShapedArray(key<fry>[]), ShapedArray(float32[], weak_type=True), ShapedArray(float32[], weak_type=True)]. Argument mapping: (GSPMDSharding({replicated}), GSPMDSharding({replicated}), GSPMDSharding({replicated})).\n",
      "WARNING:jax._src.dispatch:Finished tracing + transforming ravel for pjit in 0.00038170814514160156 sec\n",
      "WARNING:jax._src.dispatch:Finished tracing + transforming threefry_2x32 for pjit in 0.004279375076293945 sec\n",
      "WARNING:jax._src.dispatch:Finished tracing + transforming _threefry_random_bits_original for pjit in 0.0071468353271484375 sec\n",
      "WARNING:jax._src.dispatch:Finished jaxpr to MLIR module conversion jit(_uniform) in 0.01976776123046875 sec\n",
      "DEBUG:jax._src.xla_bridge:get_compile_options: num_replicas=1 num_partitions=1 device_assignment=[[gpu(id=0)]]\n",
      "WARNING:jax._src.dispatch:Finished XLA compilation of jit(_uniform) in 0.08308625221252441 sec\n",
      "WARNING:jax._src.dispatch:Finished tracing + transforming <lambda> for pjit in 0.00039124488830566406 sec\n",
      "WARNING:jax._src.dispatch:Finished tracing + transforming fn for pjit in 0.00039768218994140625 sec\n",
      "WARNING:jax._src.dispatch:Finished tracing + transforming fn for pjit in 0.0006029605865478516 sec\n",
      "WARNING:jax._src.dispatch:Finished tracing + transforming _uniform for pjit in 0.008878469467163086 sec\n",
      "DEBUG:jax._src.interpreters.pxla:Compiling _uniform for with global shapes and types [ShapedArray(key<fry>[]), ShapedArray(float32[], weak_type=True), ShapedArray(float32[], weak_type=True)]. Argument mapping: (GSPMDSharding({replicated}), GSPMDSharding({replicated}), GSPMDSharding({replicated})).\n",
      "WARNING:jax._src.dispatch:Finished tracing + transforming ravel for pjit in 0.00020360946655273438 sec\n",
      "WARNING:jax._src.dispatch:Finished tracing + transforming threefry_2x32 for pjit in 0.002957582473754883 sec\n",
      "WARNING:jax._src.dispatch:Finished tracing + transforming _threefry_random_bits_original for pjit in 0.005667924880981445 sec\n",
      "WARNING:jax._src.dispatch:Finished jaxpr to MLIR module conversion jit(_uniform) in 0.01503753662109375 sec\n",
      "DEBUG:jax._src.xla_bridge:get_compile_options: num_replicas=1 num_partitions=1 device_assignment=[[gpu(id=0)]]\n",
      "WARNING:jax._src.dispatch:Finished XLA compilation of jit(_uniform) in 0.0905916690826416 sec\n",
      "WARNING:jax._src.dispatch:Finished tracing + transforming <lambda> for pjit in 0.00041866302490234375 sec\n",
      "WARNING:jax._src.dispatch:Finished tracing + transforming fn for pjit in 0.0005109310150146484 sec\n",
      "WARNING:jax._src.dispatch:Finished tracing + transforming fn for pjit in 0.0008015632629394531 sec\n",
      "WARNING:jax._src.dispatch:Finished tracing + transforming _uniform for pjit in 0.008772850036621094 sec\n",
      "DEBUG:jax._src.interpreters.pxla:Compiling _uniform for with global shapes and types [ShapedArray(key<fry>[]), ShapedArray(float32[], weak_type=True), ShapedArray(float32[], weak_type=True)]. Argument mapping: (GSPMDSharding({replicated}), GSPMDSharding({replicated}), GSPMDSharding({replicated})).\n",
      "WARNING:jax._src.dispatch:Finished tracing + transforming _threefry_random_bits_original for pjit in 0.0016841888427734375 sec\n",
      "WARNING:jax._src.dispatch:Finished jaxpr to MLIR module conversion jit(_uniform) in 0.011420965194702148 sec\n",
      "DEBUG:jax._src.xla_bridge:get_compile_options: num_replicas=1 num_partitions=1 device_assignment=[[gpu(id=0)]]\n",
      "WARNING:jax._src.dispatch:Finished XLA compilation of jit(_uniform) in 0.040372610092163086 sec\n",
      "WARNING:jax._src.dispatch:Finished tracing + transforming _unstack for pjit in 0.0011436939239501953 sec\n",
      "DEBUG:jax._src.interpreters.pxla:Compiling _unstack for with global shapes and types [ShapedArray(uint32[4,2])]. Argument mapping: (GSPMDSharding({replicated}),).\n",
      "WARNING:jax._src.dispatch:Finished jaxpr to MLIR module conversion jit(_unstack) in 0.0025985240936279297 sec\n",
      "DEBUG:jax._src.xla_bridge:get_compile_options: num_replicas=1 num_partitions=1 device_assignment=[[gpu(id=0)]]\n",
      "WARNING:jax._src.dispatch:Finished XLA compilation of jit(_unstack) in 0.06466174125671387 sec\n",
      "WARNING:jax._src.dispatch:Finished tracing + transforming <lambda> for pjit in 0.0006265640258789062 sec\n",
      "WARNING:jax._src.dispatch:Finished tracing + transforming fn for pjit in 0.0005238056182861328 sec\n",
      "WARNING:jax._src.dispatch:Finished tracing + transforming fn for pjit in 0.0005331039428710938 sec\n",
      "WARNING:jax._src.dispatch:Finished tracing + transforming _uniform for pjit in 0.009030580520629883 sec\n",
      "DEBUG:jax._src.interpreters.pxla:Compiling _uniform for with global shapes and types [ShapedArray(key<fry>[]), ShapedArray(float32[], weak_type=True), ShapedArray(float32[], weak_type=True)]. Argument mapping: (GSPMDSharding({replicated}), GSPMDSharding({replicated}), GSPMDSharding({replicated})).\n",
      "WARNING:jax._src.dispatch:Finished tracing + transforming ravel for pjit in 0.000499725341796875 sec\n",
      "WARNING:jax._src.dispatch:Finished tracing + transforming threefry_2x32 for pjit in 0.005281925201416016 sec\n",
      "WARNING:jax._src.dispatch:Finished tracing + transforming _threefry_random_bits_original for pjit in 0.009799480438232422 sec\n",
      "WARNING:jax._src.dispatch:Finished jaxpr to MLIR module conversion jit(_uniform) in 0.02771902084350586 sec\n",
      "DEBUG:jax._src.xla_bridge:get_compile_options: num_replicas=1 num_partitions=1 device_assignment=[[gpu(id=0)]]\n",
      "WARNING:jax._src.dispatch:Finished XLA compilation of jit(_uniform) in 0.10426092147827148 sec\n",
      "WARNING:jax._src.dispatch:Finished tracing + transforming <lambda> for pjit in 0.0004909038543701172 sec\n",
      "WARNING:jax._src.dispatch:Finished tracing + transforming fn for pjit in 0.0005006790161132812 sec\n",
      "WARNING:jax._src.dispatch:Finished tracing + transforming fn for pjit in 0.00087738037109375 sec\n",
      "WARNING:jax._src.dispatch:Finished tracing + transforming _uniform for pjit in 0.00862884521484375 sec\n",
      "DEBUG:jax._src.interpreters.pxla:Compiling _uniform for with global shapes and types [ShapedArray(key<fry>[]), ShapedArray(float32[], weak_type=True), ShapedArray(float32[], weak_type=True)]. Argument mapping: (GSPMDSharding({replicated}), GSPMDSharding({replicated}), GSPMDSharding({replicated})).\n",
      "WARNING:jax._src.dispatch:Finished tracing + transforming _threefry_random_bits_original for pjit in 0.002049684524536133 sec\n",
      "WARNING:jax._src.dispatch:Finished jaxpr to MLIR module conversion jit(_uniform) in 0.013147115707397461 sec\n",
      "DEBUG:jax._src.xla_bridge:get_compile_options: num_replicas=1 num_partitions=1 device_assignment=[[gpu(id=0)]]\n",
      "WARNING:jax._src.dispatch:Finished XLA compilation of jit(_uniform) in 0.04207277297973633 sec\n",
      "WARNING:jax._src.dispatch:Finished tracing + transforming <lambda> for pjit in 0.00045418739318847656 sec\n"
     ]
    },
    {
     "name": "stderr",
     "output_type": "stream",
     "text": [
      "WARNING:jax._src.dispatch:Finished tracing + transforming fn for pjit in 0.0004832744598388672 sec\n",
      "WARNING:jax._src.dispatch:Finished tracing + transforming fn for pjit in 0.0004949569702148438 sec\n",
      "WARNING:jax._src.dispatch:Finished tracing + transforming _uniform for pjit in 0.00837564468383789 sec\n",
      "DEBUG:jax._src.interpreters.pxla:Compiling _uniform for with global shapes and types [ShapedArray(key<fry>[]), ShapedArray(float32[], weak_type=True), ShapedArray(float32[], weak_type=True)]. Argument mapping: (GSPMDSharding({replicated}), GSPMDSharding({replicated}), GSPMDSharding({replicated})).\n",
      "WARNING:jax._src.dispatch:Finished tracing + transforming ravel for pjit in 0.00021886825561523438 sec\n",
      "WARNING:jax._src.dispatch:Finished tracing + transforming threefry_2x32 for pjit in 0.003250598907470703 sec\n",
      "WARNING:jax._src.dispatch:Finished tracing + transforming _threefry_random_bits_original for pjit in 0.006970405578613281 sec\n",
      "WARNING:jax._src.dispatch:Finished jaxpr to MLIR module conversion jit(_uniform) in 0.018209218978881836 sec\n",
      "DEBUG:jax._src.xla_bridge:get_compile_options: num_replicas=1 num_partitions=1 device_assignment=[[gpu(id=0)]]\n",
      "WARNING:jax._src.dispatch:Finished XLA compilation of jit(_uniform) in 0.09770774841308594 sec\n"
     ]
    }
   ],
   "source": [
    "dims = InICENODEDimensions(state_m=15, \n",
    "                state_dx_e=10,\n",
    "                state_obs_e=25,\n",
    "                input_e=10,\n",
    "                proc_e=10,\n",
    "                demo_e=5,\n",
    "                int_e=15)\n",
    "key = jrandom.PRNGKey(0)\n",
    "\n",
    "m = InICENODE(dims=dims, \n",
    "              scheme=m4inpatient_dataset.scheme,\n",
    "              key=key)"
   ]
  },
  {
   "cell_type": "code",
   "execution_count": 29,
   "id": "72d4f9c8",
   "metadata": {},
   "outputs": [
    {
     "name": "stderr",
     "output_type": "stream",
     "text": [
      "Embedding: 100%|███████████████████████████████████████████████████████████████████████████████████████████████████████████████████████████████████████████████████████| 10/10 [00:01<00:00,  5.97subject/s]\n",
      "Subject 10/10: 100%|███████████████████████████████████████████████████████████████████████████████████████████████████████████████████████████████████████| 298.65/298.65 [00:33<00:00,  8.96odeint-days/s]\n"
     ]
    }
   ],
   "source": [
    "res = m.batch_predict(m4inpatients_jax, splits[0][:10])"
   ]
  },
  {
   "cell_type": "code",
   "execution_count": 24,
   "id": "84c66942",
   "metadata": {},
   "outputs": [
    {
     "data": {
      "text/plain": [
       "InpatientInterventions(\n",
       "  proc=None,\n",
       "  input_=InpatientInput(\n",
       "    index=i32[200],\n",
       "    rate=f16[200],\n",
       "    starttime=f32[200],\n",
       "    endtime=f32[200],\n",
       "    size=318\n",
       "  ),\n",
       "  time=f32[161],\n",
       "  segmented_input=None,\n",
       "  segmented_proc=bool[160,51]\n",
       ")"
      ]
     },
     "execution_count": 24,
     "metadata": {},
     "output_type": "execute_result"
    }
   ],
   "source": [
    "m4inpatients_jax.subjects[splits[0][0]].admissions[0].interventions"
   ]
  },
  {
   "cell_type": "code",
   "execution_count": 25,
   "id": "7285c92d",
   "metadata": {},
   "outputs": [
    {
     "data": {
      "text/plain": [
       "(161, 199)"
      ]
     },
     "execution_count": 25,
     "metadata": {},
     "output_type": "execute_result"
    }
   ],
   "source": [
    "m.f_emb.f_inp_agg.splits"
   ]
  },
  {
   "cell_type": "code",
   "execution_count": 26,
   "id": "71c21ad0",
   "metadata": {},
   "outputs": [
    {
     "data": {
      "text/plain": [
       "(Timestamp('2138-06-25 17:03:00'), Timestamp('2138-06-29 12:19:00'))"
      ]
     },
     "execution_count": 26,
     "metadata": {},
     "output_type": "execute_result"
    }
   ],
   "source": [
    "m4inpatients_jax.subjects[splits[0][0]].admissions[0].admission_dates"
   ]
  },
  {
   "cell_type": "code",
   "execution_count": null,
   "id": "e9de4a42",
   "metadata": {},
   "outputs": [],
   "source": []
  }
 ],
 "metadata": {
  "kernelspec": {
   "display_name": "Python 3 (ipykernel)",
   "language": "python",
   "name": "python3"
  },
  "language_info": {
   "codemirror_mode": {
    "name": "ipython",
    "version": 3
   },
   "file_extension": ".py",
   "mimetype": "text/x-python",
   "name": "python",
   "nbconvert_exporter": "python",
   "pygments_lexer": "ipython3",
   "version": "3.10.12"
  }
 },
 "nbformat": 4,
 "nbformat_minor": 5
}
