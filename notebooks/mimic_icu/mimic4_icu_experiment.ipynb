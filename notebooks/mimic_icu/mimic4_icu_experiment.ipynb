{
 "cells": [
  {
   "cell_type": "code",
   "execution_count": null,
   "id": "ab383786",
   "metadata": {},
   "outputs": [],
   "source": [
    "%load_ext autoreload\n",
    "%autoreload 2\n",
    "import sys\n",
    "import os\n",
    "import glob\n",
    "import random\n",
    "from collections import defaultdict\n",
    "from pathlib import Path\n",
    "\n",
    "from IPython.display import display\n",
    "\n",
    "import pandas as pd\n",
    "import dask\n",
    "\n",
    "from tqdm import tqdm\n",
    "import jax\n",
    "jax.config.update('jax_platform_name', 'cpu')\n",
    "# jax.config.update('jax_log_compiles', True)\n",
    "# jax.config.update(\"jax_debug_nans\", True)\n",
    "# jax.config.update(\"jax_enable_x64\", True)"
   ]
  },
  {
   "cell_type": "code",
   "execution_count": null,
   "id": "c83480cb",
   "metadata": {},
   "outputs": [],
   "source": [
    "\n",
    "\n",
    "sys.path.append(\"../..\")\n",
    "\n",
    "from lib import utils as U\n",
    "from lib.ehr import load_dataset, load_dataset_scheme, load_dataset_config, Dataset\n",
    "from lib.ehr.interface import Patients, InterfaceConfig\n",
    "from lib.ehr.concepts import DemographicVectorConfig, LeadingObservableConfig\n"
   ]
  },
  {
   "cell_type": "code",
   "execution_count": null,
   "id": "99451f48",
   "metadata": {},
   "outputs": [],
   "source": [
    "import logging\n",
    "logging.root.level = logging.INFO"
   ]
  },
  {
   "cell_type": "code",
   "execution_count": null,
   "id": "17d853b3",
   "metadata": {},
   "outputs": [],
   "source": [
    "tag = 'M4ICU'\n",
    "PATH = f'{os.environ.get(\"HOME\")}/GP/ehr-data/mimic4icu-cohort'\n",
    "sample = 500\n",
    "cache =  f'cached_inteface/patients_{tag}_{sample or \"\"}'\n",
    "dataset_config = load_dataset_config(tag, \n",
    "                                     sample=sample,\n",
    "                                     path=PATH)"
   ]
  },
  {
   "cell_type": "code",
   "execution_count": null,
   "id": "7ed894e3",
   "metadata": {},
   "outputs": [],
   "source": [
    "cache"
   ]
  },
  {
   "cell_type": "markdown",
   "id": "05d63425",
   "metadata": {},
   "source": [
    "##### Possible Interface Scheme Configurations"
   ]
  },
  {
   "cell_type": "code",
   "execution_count": null,
   "id": "ee0457bb",
   "metadata": {},
   "outputs": [],
   "source": [
    "import json\n",
    "dataset_scheme = load_dataset_scheme(tag)\n",
    "interface_schem_options = dataset_scheme.supported_target_scheme_options\n",
    "print(json.dumps(interface_schem_options, sort_keys=True, indent=4))"
   ]
  },
  {
   "cell_type": "markdown",
   "id": "07ad1a84",
   "metadata": {},
   "source": [
    "#### Leading Observable for Early Prediction Task"
   ]
  },
  {
   "cell_type": "code",
   "execution_count": null,
   "id": "e2268607",
   "metadata": {},
   "outputs": [],
   "source": [
    "scheme_df = dataset_scheme.obs.as_dataframe()\n",
    "display(scheme_df[scheme_df.desc.str.contains('aki')])"
   ]
  },
  {
   "cell_type": "code",
   "execution_count": null,
   "id": "a573f669",
   "metadata": {},
   "outputs": [],
   "source": [
    "\n",
    "# Demographic vector attributes\n",
    "demographic_vector_conf = DemographicVectorConfig(\n",
    "    age=False, \n",
    "    gender=False, \n",
    "    ethnicity=False\n",
    ")\n",
    "\n",
    "# Leading \n",
    "leading_AKI = LeadingObservableConfig(leading_hours=tuple(6 * i for i in range(1, 13)),\n",
    "                                      window_aggregate='max',\n",
    "                                      scheme=dataset_scheme.obs,\n",
    "                                      index=42)"
   ]
  },
  {
   "cell_type": "code",
   "execution_count": null,
   "id": "f7ee7624",
   "metadata": {},
   "outputs": [],
   "source": [
    "interface_scheme = dataset_scheme.make_target_scheme_config(dx='DxICD9',\n",
    "                                                            outcome='dx_icd9_filter_v3_groups',\n",
    "                                                            ethnicity='MIMIC4Eth5')\n",
    "interface_config = InterfaceConfig(scheme=interface_scheme,\n",
    "                                   dataset_scheme=dataset_scheme,\n",
    "                                   demographic_vector=demographic_vector_conf,\n",
    "                                   leading_observable=leading_AKI,\n",
    "                                   cache=cache)"
   ]
  },
  {
   "cell_type": "markdown",
   "id": "b66a64de",
   "metadata": {},
   "source": [
    "### التدريب على نموذج المعادلات التفاضلية الاعتيادية العصبية\n"
   ]
  },
  {
   "cell_type": "code",
   "execution_count": null,
   "id": "9442545b",
   "metadata": {},
   "outputs": [],
   "source": [
    "from lib.ml import (InICENODE, InICENODEConfig, InpatientEmbeddingConfig,  SplitConfig,\n",
    "                    InTrainer, TrainerConfig, TrainerReporting, OptimizerConfig, WarmupConfig, ReportingConfig)\n",
    "from lib.metric import  (CodeAUC, UntilFirstCodeAUC, AdmissionAUC, CodeLevelMetricConfig, MetricLevelsConfig,\n",
    "                         LossMetricConfig,\n",
    "                      CodeGroupTopAlarmAccuracy, LossMetric, ObsCodeLevelLossMetric, CodeGroupTopAlarmAccuracyConfig)\n",
    "from lib.ml import Experiment, InpatientExperiment, ExperimentConfig, SplitConfig\n",
    "\n",
    "import jax.random as jrandom"
   ]
  },
  {
   "cell_type": "code",
   "execution_count": null,
   "id": "c911e2f3",
   "metadata": {},
   "outputs": [],
   "source": [
    "emb_dims = InpatientEmbeddingConfig(dx=30, inp=15, proc=15, \n",
    "                                        demo=0, \n",
    "                                        inp_proc_demo=10)\n",
    "model_config = InICENODEConfig(mem=15, obs=25, lead=5, emb=emb_dims)\n",
    "model_classname = InICENODE.__name__"
   ]
  },
  {
   "cell_type": "code",
   "execution_count": null,
   "id": "3658579e",
   "metadata": {
    "scrolled": true
   },
   "outputs": [],
   "source": [
    "trainer_config = TrainerConfig(optimizer=OptimizerConfig(opt='adam', lr=1e-3),\n",
    "                          epochs=80,\n",
    "                          batch_size=128,\n",
    "                          dx_loss='balanced_focal_bce',\n",
    "                          obs_loss='mse',\n",
    "                          lead_loss='mse')\n",
    "\n",
    "warmup = WarmupConfig(epochs=0.1, \n",
    "                      batch_size=8,\n",
    "                      opt='adam', lr=1e-3, \n",
    "                      decay_rate=0.5)\n",
    "\n",
    "\n"
   ]
  },
  {
   "cell_type": "code",
   "execution_count": null,
   "id": "b98b6b84",
   "metadata": {},
   "outputs": [],
   "source": [
    "dx_loss = [\"softmax_bce\", \"balanced_focal_softmax_bce\", \"balanced_focal_bce\",\n",
    "          \"allpairs_exp_rank\", \"allpairs_hard_rank\", \"allpairs_sigmoid_rank\"]\n",
    "lead_loss = [\"mse\", \"mae\", \"rms\"]\n",
    "obs_loss =  [\"mse\", \"mae\", \"rms\"]\n",
    "                \n",
    "metrics_conf = [\n",
    "    (CodeAUC, CodeLevelMetricConfig(aggregate_level=True, code_level=True)),\n",
    "    (AdmissionAUC, MetricLevelsConfig(admission=False, aggregate=True, subject_aggregate=False)),\n",
    "    (CodeGroupTopAlarmAccuracy, CodeGroupTopAlarmAccuracyConfig(n_partitions=5, top_k_list=[3, 5, 10, 15, 20])),\n",
    "    (LossMetric, LossMetricConfig(dx_loss=dx_loss, lead_loss=lead_loss, obs_loss=obs_loss))\n",
    "]\n",
    "metrics_conf = [m.export_module_class(c) for m, c in metrics_conf]"
   ]
  },
  {
   "cell_type": "code",
   "execution_count": null,
   "id": "16b25d51",
   "metadata": {},
   "outputs": [],
   "source": [
    "reporting_conf = ReportingConfig(output_dir='inicenode',\n",
    "                                 console=True,\n",
    "                                 model_stats=False,\n",
    "                                 parameter_snapshots=True,\n",
    "                                 config_json=True)"
   ]
  },
  {
   "cell_type": "code",
   "execution_count": null,
   "id": "9d5a66aa",
   "metadata": {},
   "outputs": [],
   "source": [
    "expt_config = ExperimentConfig(dataset=dataset_config,\n",
    "                              interface=interface_config,\n",
    "                              split=SplitConfig(train=0.8, val=0.1, test=0.1, balanced='admissions'),\n",
    "                              trainer=trainer_config,\n",
    "                              metrics=metrics_conf,\n",
    "                              reporting=reporting_conf,\n",
    "                              model=model_config,\n",
    "                              model_classname=model_classname,\n",
    "                              n_evals=100,\n",
    "                              continue_training=True,\n",
    "                              warmup=None,\n",
    "                              reg_hyperparams=None)"
   ]
  },
  {
   "cell_type": "code",
   "execution_count": null,
   "id": "3899be52",
   "metadata": {},
   "outputs": [],
   "source": [
    "experiment = InpatientExperiment(expt_config)"
   ]
  },
  {
   "cell_type": "code",
   "execution_count": null,
   "id": "386b2156",
   "metadata": {},
   "outputs": [],
   "source": [
    "result = experiment.run()"
   ]
  },
  {
   "cell_type": "code",
   "execution_count": null,
   "id": "6b09ed67",
   "metadata": {},
   "outputs": [],
   "source": []
  }
 ],
 "metadata": {
  "kernelspec": {
   "display_name": "Python 3 (ipykernel)",
   "language": "python",
   "name": "python3"
  },
  "language_info": {
   "codemirror_mode": {
    "name": "ipython",
    "version": 3
   },
   "file_extension": ".py",
   "mimetype": "text/x-python",
   "name": "python",
   "nbconvert_exporter": "python",
   "pygments_lexer": "ipython3",
   "version": "3.9.17"
  }
 },
 "nbformat": 4,
 "nbformat_minor": 5
}
