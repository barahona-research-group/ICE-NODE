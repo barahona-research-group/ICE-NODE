{
 "cells": [
  {
   "cell_type": "code",
   "execution_count": 1,
   "id": "ab383786",
   "metadata": {},
   "outputs": [],
   "source": [
    "%load_ext autoreload\n",
    "%autoreload 2\n",
    "import sys\n",
    "import os\n",
    "import glob\n",
    "import random\n",
    "from collections import defaultdict\n",
    "from pathlib import Path\n",
    "\n",
    "from IPython.display import display\n",
    "\n",
    "import pandas as pd\n",
    "import dask\n",
    "\n",
    "from tqdm import tqdm\n",
    "import jax\n",
    "jax.config.update('jax_platform_name', 'cpu')\n",
    "# jax.config.update('jax_log_compiles', True)\n",
    "# jax.config.update(\"jax_debug_nans\", True)\n",
    "# jax.config.update(\"jax_enable_x64\", True)"
   ]
  },
  {
   "cell_type": "code",
   "execution_count": 2,
   "id": "c83480cb",
   "metadata": {},
   "outputs": [],
   "source": [
    "\n",
    "\n",
    "sys.path.append(\"../..\")\n",
    "\n",
    "from lib import utils as U\n",
    "from lib.ehr import load_dataset, load_dataset_scheme, load_dataset_config, Dataset\n",
    "from lib.ehr.interface import Patients, InterfaceConfig\n",
    "from lib.ehr.concepts import DemographicVectorConfig, LeadingObservableConfig\n"
   ]
  },
  {
   "cell_type": "code",
   "execution_count": 3,
   "id": "99451f48",
   "metadata": {},
   "outputs": [],
   "source": [
    "import logging\n",
    "logging.root.level = logging.INFO"
   ]
  },
  {
   "cell_type": "code",
   "execution_count": 4,
   "id": "17d853b3",
   "metadata": {},
   "outputs": [],
   "source": [
    "tag = 'M4ICU'\n",
    "PATH = f'{os.environ.get(\"HOME\")}/GP/ehr-data/mimic4icu-cohort'\n",
    "sample = 500\n",
    "cache =  f'cached_inteface/patients_{tag}_{sample or \"\"}'\n",
    "dataset_config = load_dataset_config(tag, \n",
    "                                     sample=sample,\n",
    "                                     path=PATH)"
   ]
  },
  {
   "cell_type": "code",
   "execution_count": 5,
   "id": "7ed894e3",
   "metadata": {},
   "outputs": [
    {
     "data": {
      "text/plain": [
       "'cached_inteface/patients_M4ICU_500'"
      ]
     },
     "execution_count": 5,
     "metadata": {},
     "output_type": "execute_result"
    }
   ],
   "source": [
    "cache"
   ]
  },
  {
   "cell_type": "markdown",
   "id": "05d63425",
   "metadata": {},
   "source": [
    "##### Possible Interface Scheme Configurations"
   ]
  },
  {
   "cell_type": "code",
   "execution_count": 6,
   "id": "ee0457bb",
   "metadata": {},
   "outputs": [
    {
     "name": "stdout",
     "output_type": "stream",
     "text": [
      "{\n",
      "    \"dx\": [\n",
      "        \"DxICD9\",\n",
      "        \"DxICD10\",\n",
      "        \"DxFlatCCS\",\n",
      "        \"DxCCS\"\n",
      "    ],\n",
      "    \"ethnicity\": [\n",
      "        \"MIMIC4Eth32\",\n",
      "        \"MIMIC4Eth5\"\n",
      "    ],\n",
      "    \"gender\": [\n",
      "        \"Gender\"\n",
      "    ],\n",
      "    \"int_input\": [\n",
      "        \"MIMICInput\",\n",
      "        \"MIMICInputGroups\"\n",
      "    ],\n",
      "    \"int_proc\": [\n",
      "        \"MIMICProcedures\",\n",
      "        \"MIMICProcedureGroups\"\n",
      "    ],\n",
      "    \"obs\": [\n",
      "        \"MIMICObservables\"\n",
      "    ],\n",
      "    \"outcome\": [\n",
      "        \"dx_icd9_filter_v3_groups\",\n",
      "        \"dx_icd9_filter_v2_groups\",\n",
      "        \"dx_icd9_filter_v1\",\n",
      "        \"dx_flatccs_filter_v1\",\n",
      "        \"dx_flatccs_mlhc_groups\"\n",
      "    ]\n",
      "}\n"
     ]
    }
   ],
   "source": [
    "import json\n",
    "dataset_scheme = load_dataset_scheme(tag)\n",
    "interface_schem_options = dataset_scheme.supported_target_scheme_options\n",
    "print(json.dumps(interface_schem_options, sort_keys=True, indent=4))"
   ]
  },
  {
   "cell_type": "markdown",
   "id": "07ad1a84",
   "metadata": {},
   "source": [
    "#### Leading Observable for Early Prediction Task"
   ]
  },
  {
   "cell_type": "code",
   "execution_count": 7,
   "id": "e2268607",
   "metadata": {},
   "outputs": [
    {
     "data": {
      "text/html": [
       "<div>\n",
       "<style scoped>\n",
       "    .dataframe tbody tr th:only-of-type {\n",
       "        vertical-align: middle;\n",
       "    }\n",
       "\n",
       "    .dataframe tbody tr th {\n",
       "        vertical-align: top;\n",
       "    }\n",
       "\n",
       "    .dataframe thead th {\n",
       "        text-align: right;\n",
       "    }\n",
       "</style>\n",
       "<table border=\"1\" class=\"dataframe\">\n",
       "  <thead>\n",
       "    <tr style=\"text-align: right;\">\n",
       "      <th></th>\n",
       "      <th>code</th>\n",
       "      <th>desc</th>\n",
       "    </tr>\n",
       "  </thead>\n",
       "  <tbody>\n",
       "    <tr>\n",
       "      <th>42</th>\n",
       "      <td>o42</td>\n",
       "      <td>aki_stage_smoothed</td>\n",
       "    </tr>\n",
       "  </tbody>\n",
       "</table>\n",
       "</div>"
      ],
      "text/plain": [
       "   code                desc\n",
       "42  o42  aki_stage_smoothed"
      ]
     },
     "metadata": {},
     "output_type": "display_data"
    }
   ],
   "source": [
    "scheme_df = dataset_scheme.obs.as_dataframe()\n",
    "display(scheme_df[scheme_df.desc.str.contains('aki')])"
   ]
  },
  {
   "cell_type": "code",
   "execution_count": 8,
   "id": "a573f669",
   "metadata": {},
   "outputs": [],
   "source": [
    "\n",
    "# Demographic vector attributes\n",
    "demographic_vector_conf = DemographicVectorConfig(\n",
    "    age=False, \n",
    "    gender=False, \n",
    "    ethnicity=False\n",
    ")\n",
    "\n",
    "# Leading \n",
    "leading_AKI = LeadingObservableConfig(leading_hours=tuple(6 * i for i in range(1, 13)),\n",
    "                                      window_aggregate='max',\n",
    "                                      scheme=dataset_scheme.obs,\n",
    "                                      index=42)"
   ]
  },
  {
   "cell_type": "code",
   "execution_count": 9,
   "id": "f7ee7624",
   "metadata": {},
   "outputs": [],
   "source": [
    "interface_scheme = dataset_scheme.make_target_scheme_config(dx='DxICD9',\n",
    "                                                            outcome='dx_icd9_filter_v3_groups',\n",
    "                                                            ethnicity='MIMIC4Eth5')\n",
    "interface_config = InterfaceConfig(scheme=interface_scheme,\n",
    "                                   dataset_scheme=dataset_scheme,\n",
    "                                   demographic_vector=demographic_vector_conf,\n",
    "                                   leading_observable=leading_AKI,\n",
    "                                   cache=cache)"
   ]
  },
  {
   "cell_type": "markdown",
   "id": "b66a64de",
   "metadata": {},
   "source": [
    "### التدريب على نموذج المعادلات التفاضلية الاعتيادية العصبية\n"
   ]
  },
  {
   "cell_type": "code",
   "execution_count": 10,
   "id": "9442545b",
   "metadata": {},
   "outputs": [],
   "source": [
    "from lib.ml import (InICENODE, InICENODEConfig, InpatientEmbeddingConfig,  SplitConfig,\n",
    "                    InTrainer, TrainerConfig, TrainerReporting, OptimizerConfig, WarmupConfig, ReportingConfig)\n",
    "from lib.metric import  (CodeAUC, UntilFirstCodeAUC, AdmissionAUC, CodeLevelMetricConfig, MetricLevelsConfig,\n",
    "                         LossMetricConfig,\n",
    "                      CodeGroupTopAlarmAccuracy, LossMetric, ObsCodeLevelLossMetric, CodeGroupTopAlarmAccuracyConfig)\n",
    "from lib.ml import Experiment, InpatientExperiment, ExperimentConfig, SplitConfig\n",
    "\n",
    "import jax.random as jrandom"
   ]
  },
  {
   "cell_type": "code",
   "execution_count": 11,
   "id": "c911e2f3",
   "metadata": {},
   "outputs": [],
   "source": [
    "emb_dims = InpatientEmbeddingConfig(dx=30, inp=15, proc=15, \n",
    "                                        demo=0, \n",
    "                                        inp_proc_demo=10)\n",
    "model_config = InICENODEConfig(mem=15, obs=25, lead=5, emb=emb_dims)\n",
    "model_classname = InICENODE.__name__"
   ]
  },
  {
   "cell_type": "code",
   "execution_count": 12,
   "id": "3658579e",
   "metadata": {
    "scrolled": true
   },
   "outputs": [],
   "source": [
    "trainer_config = TrainerConfig(optimizer=OptimizerConfig(opt='adam', lr=1e-3),\n",
    "                          epochs=80,\n",
    "                          batch_size=128,\n",
    "                          dx_loss='balanced_focal_bce',\n",
    "                          obs_loss='mse',\n",
    "                          lead_loss='mse')\n",
    "\n",
    "warmup = WarmupConfig(epochs=0.1, \n",
    "                      batch_size=8,\n",
    "                      opt='adam', lr=1e-3, \n",
    "                      decay_rate=0.5)\n",
    "\n",
    "\n"
   ]
  },
  {
   "cell_type": "code",
   "execution_count": 13,
   "id": "92ed1cd0",
   "metadata": {},
   "outputs": [],
   "source": [
    "dx_loss = [\"softmax_bce\", \"balanced_focal_softmax_bce\", \"balanced_focal_bce\",\n",
    "          \"allpairs_exp_rank\", \"allpairs_hard_rank\", \"allpairs_sigmoid_rank\"]\n",
    "lead_loss = [\"mse\", \"mae\", \"rms\"]\n",
    "obs_loss =  [\"mse\", \"mae\", \"rms\"]\n",
    "                \n",
    "metrics_conf = [\n",
    "    (CodeAUC, CodeLevelMetricConfig(aggregate_level=True, code_level=True)),\n",
    "    (AdmissionAUC, MetricLevelsConfig(admission=False, aggregate=True, subject_aggregate=False)),\n",
    "    (CodeGroupTopAlarmAccuracy, CodeGroupTopAlarmAccuracyConfig(n_partitions=5, top_k_list=[3, 5, 10, 15, 20])),\n",
    "    (LossMetric, LossMetricConfig(dx_loss=dx_loss, lead_loss=lead_loss, obs_loss=obs_loss))\n",
    "]\n",
    "metrics_conf = [m.export_module_class(c) for m, c in metrics_conf]"
   ]
  },
  {
   "cell_type": "code",
   "execution_count": 14,
   "id": "1516c344",
   "metadata": {},
   "outputs": [],
   "source": [
    "reporting_conf = ReportingConfig(output_dir='inicenode',\n",
    "                                 console=True,\n",
    "                                 model_stats=False,\n",
    "                                 parameter_snapshots=True,\n",
    "                                 config_json=True)"
   ]
  },
  {
   "cell_type": "code",
   "execution_count": 15,
   "id": "f1d2e906",
   "metadata": {},
   "outputs": [],
   "source": [
    "expt_config = ExperimentConfig(dataset=dataset_config,\n",
    "                              interface=interface_config,\n",
    "                              split=SplitConfig(train=0.8, val=0.1, test=0.1, balanced='admissions'),\n",
    "                              trainer=trainer_config,\n",
    "                              metrics=metrics_conf,\n",
    "                              reporting=reporting_conf,\n",
    "                              model=model_config,\n",
    "                              model_classname=model_classname,\n",
    "                              n_evals=100,\n",
    "                              continue_training=True,\n",
    "                              warmup=None,\n",
    "                              reg_hyperparams=None)"
   ]
  },
  {
   "cell_type": "code",
   "execution_count": 16,
   "id": "8381f3d0",
   "metadata": {},
   "outputs": [],
   "source": [
    "experiment = InpatientExperiment(expt_config)"
   ]
  },
  {
   "cell_type": "code",
   "execution_count": null,
   "id": "77fd66d8",
   "metadata": {},
   "outputs": [
    {
     "name": "stderr",
     "output_type": "stream",
     "text": [
      "INFO:root:Loading cached subjects.\n",
      "INFO:jax._src.xla_bridge:Unable to initialize backend 'rocm': NOT_FOUND: Could not find registered platform with name: \"rocm\". Available platform names are: Interpreter CUDA\n",
      "INFO:jax._src.xla_bridge:Unable to initialize backend 'tpu': module 'jaxlib.xla_extension' has no attribute 'get_tpu_client'\n",
      "INFO:root:Continuing training from step 0\n",
      "INFO:root:HPs: TrainerConfig(\n",
      "  optimizer=OptimizerConfig(\n",
      "    opt='adam',\n",
      "    lr=0.001,\n",
      "    decay_rate=None,\n",
      "    reverse_schedule=False\n",
      "  ),\n",
      "  epochs=80,\n",
      "  batch_size=128,\n",
      "  dx_loss='balanced_focal_bce',\n",
      "  obs_loss='mse',\n",
      "  lead_loss='mse'\n",
      ")\n"
     ]
    },
    {
     "data": {
      "application/vnd.jupyter.widget-view+json": {
       "model_id": "",
       "version_major": 2,
       "version_minor": 0
      },
      "text/plain": [
       "Loading to device:   0%|          | 0/34 [00:00<?, ?subject/s]"
      ]
     },
     "metadata": {},
     "output_type": "display_data"
    },
    {
     "data": {
      "application/vnd.jupyter.widget-view+json": {
       "model_id": "0695647ed9ea4e3ea66ce8d3fd23956c",
       "version_major": 2,
       "version_minor": 0
      },
      "text/plain": [
       "  0%|          | 0/80 [00:00<?, ?Epoch/s]"
      ]
     },
     "metadata": {},
     "output_type": "display_data"
    },
    {
     "data": {
      "application/vnd.jupyter.widget-view+json": {
       "model_id": "28e01b6bac394dc28c16dfb6a6900cc9",
       "version_major": 2,
       "version_minor": 0
      },
      "text/plain": [
       "  0%|          | 0/9 [00:00<?, ?Batch/s]"
      ]
     },
     "metadata": {},
     "output_type": "display_data"
    },
    {
     "data": {
      "application/vnd.jupyter.widget-view+json": {
       "model_id": "",
       "version_major": 2,
       "version_minor": 0
      },
      "text/plain": [
       "Loading to device:   0%|          | 0/52 [00:00<?, ?subject/s]"
      ]
     },
     "metadata": {},
     "output_type": "display_data"
    },
    {
     "data": {
      "application/vnd.jupyter.widget-view+json": {
       "model_id": "",
       "version_major": 2,
       "version_minor": 0
      },
      "text/plain": [
       "Embedding:   0%|          | 0/52 [00:00<?, ?subject/s]"
      ]
     },
     "metadata": {},
     "output_type": "display_data"
    },
    {
     "data": {
      "application/vnd.jupyter.widget-view+json": {
       "model_id": "",
       "version_major": 2,
       "version_minor": 0
      },
      "text/plain": [
       "  0%|          | 0.00/710.04 [00:00<?, ?longitudinal-days/s]"
      ]
     },
     "metadata": {},
     "output_type": "display_data"
    },
    {
     "data": {
      "application/vnd.jupyter.widget-view+json": {
       "model_id": "",
       "version_major": 2,
       "version_minor": 0
      },
      "text/plain": [
       "Loading to device:   0%|          | 0/56 [00:00<?, ?subject/s]"
      ]
     },
     "metadata": {},
     "output_type": "display_data"
    },
    {
     "data": {
      "application/vnd.jupyter.widget-view+json": {
       "model_id": "",
       "version_major": 2,
       "version_minor": 0
      },
      "text/plain": [
       "Embedding:   0%|          | 0/56 [00:00<?, ?subject/s]"
      ]
     },
     "metadata": {},
     "output_type": "display_data"
    },
    {
     "data": {
      "application/vnd.jupyter.widget-view+json": {
       "model_id": "",
       "version_major": 2,
       "version_minor": 0
      },
      "text/plain": [
       "  0%|          | 0.00/882.62 [00:00<?, ?longitudinal-days/s]"
      ]
     },
     "metadata": {},
     "output_type": "display_data"
    },
    {
     "data": {
      "application/vnd.jupyter.widget-view+json": {
       "model_id": "",
       "version_major": 2,
       "version_minor": 0
      },
      "text/plain": [
       "Loading to device:   0%|          | 0/46 [00:00<?, ?subject/s]"
      ]
     },
     "metadata": {},
     "output_type": "display_data"
    },
    {
     "data": {
      "application/vnd.jupyter.widget-view+json": {
       "model_id": "",
       "version_major": 2,
       "version_minor": 0
      },
      "text/plain": [
       "Embedding:   0%|          | 0/46 [00:00<?, ?subject/s]"
      ]
     },
     "metadata": {},
     "output_type": "display_data"
    },
    {
     "data": {
      "application/vnd.jupyter.widget-view+json": {
       "model_id": "",
       "version_major": 2,
       "version_minor": 0
      },
      "text/plain": [
       "  0%|          | 0.00/752.12 [00:00<?, ?longitudinal-days/s]"
      ]
     },
     "metadata": {},
     "output_type": "display_data"
    },
    {
     "data": {
      "application/vnd.jupyter.widget-view+json": {
       "model_id": "",
       "version_major": 2,
       "version_minor": 0
      },
      "text/plain": [
       "Loading to device:   0%|          | 0/52 [00:00<?, ?subject/s]"
      ]
     },
     "metadata": {},
     "output_type": "display_data"
    },
    {
     "data": {
      "application/vnd.jupyter.widget-view+json": {
       "model_id": "",
       "version_major": 2,
       "version_minor": 0
      },
      "text/plain": [
       "Embedding:   0%|          | 0/52 [00:00<?, ?subject/s]"
      ]
     },
     "metadata": {},
     "output_type": "display_data"
    },
    {
     "data": {
      "application/vnd.jupyter.widget-view+json": {
       "model_id": "",
       "version_major": 2,
       "version_minor": 0
      },
      "text/plain": [
       "  0%|          | 0.00/901.79 [00:00<?, ?longitudinal-days/s]"
      ]
     },
     "metadata": {},
     "output_type": "display_data"
    },
    {
     "name": "stderr",
     "output_type": "stream",
     "text": [
      "WARNING:root:Skipping prediction with NaNs: subject_id=16249856, admission_id=22430974 interval_hours= 645.7833333333333. Note: long intervals is a likely reason to destabilise the model\n",
      "WARNING:root:Average interval_hours: 156.6957711442786\n"
     ]
    },
    {
     "data": {
      "application/vnd.jupyter.widget-view+json": {
       "model_id": "",
       "version_major": 2,
       "version_minor": 0
      },
      "text/plain": [
       "Loading to device:   0%|          | 0/52 [00:00<?, ?subject/s]"
      ]
     },
     "metadata": {},
     "output_type": "display_data"
    },
    {
     "data": {
      "application/vnd.jupyter.widget-view+json": {
       "model_id": "",
       "version_major": 2,
       "version_minor": 0
      },
      "text/plain": [
       "Embedding:   0%|          | 0/52 [00:00<?, ?subject/s]"
      ]
     },
     "metadata": {},
     "output_type": "display_data"
    },
    {
     "data": {
      "application/vnd.jupyter.widget-view+json": {
       "model_id": "4bcb19478737446b8de52d910913478e",
       "version_major": 2,
       "version_minor": 0
      },
      "text/plain": [
       "  0%|          | 0.00/989.21 [00:00<?, ?longitudinal-days/s]"
      ]
     },
     "metadata": {},
     "output_type": "display_data"
    }
   ],
   "source": [
    "result = experiment.run()"
   ]
  },
  {
   "cell_type": "code",
   "execution_count": null,
   "id": "10ba32a3",
   "metadata": {},
   "outputs": [],
   "source": []
  }
 ],
 "metadata": {
  "kernelspec": {
   "display_name": "Python 3 (ipykernel)",
   "language": "python",
   "name": "python3"
  },
  "language_info": {
   "codemirror_mode": {
    "name": "ipython",
    "version": 3
   },
   "file_extension": ".py",
   "mimetype": "text/x-python",
   "name": "python",
   "nbconvert_exporter": "python",
   "pygments_lexer": "ipython3",
   "version": "3.9.17"
  }
 },
 "nbformat": 4,
 "nbformat_minor": 5
}
