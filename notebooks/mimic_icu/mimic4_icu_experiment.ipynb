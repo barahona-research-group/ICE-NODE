{
 "cells": [
  {
   "cell_type": "code",
   "execution_count": 1,
   "id": "ab383786",
   "metadata": {},
   "outputs": [],
   "source": [
    "%load_ext autoreload\n",
    "%autoreload 2\n",
    "import sys\n",
    "import os\n",
    "import glob\n",
    "import random\n",
    "from collections import defaultdict\n",
    "from pathlib import Path\n",
    "\n",
    "from IPython.display import display\n",
    "\n",
    "import pandas as pd\n",
    "import dask\n",
    "\n",
    "from tqdm import tqdm\n",
    "import jax\n",
    "jax.config.update('jax_platform_name', 'cpu')\n",
    "# jax.config.update('jax_log_compiles', True)\n",
    "# jax.config.update(\"jax_debug_nans\", True)\n",
    "# jax.config.update(\"jax_enable_x64\", True)"
   ]
  },
  {
   "cell_type": "code",
   "execution_count": 2,
   "id": "c83480cb",
   "metadata": {},
   "outputs": [],
   "source": [
    "\n",
    "\n",
    "sys.path.append(\"../..\")\n",
    "\n",
    "from lib import utils as U\n",
    "from lib.ehr import load_dataset, load_dataset_scheme, load_dataset_config, Dataset\n",
    "from lib.ehr.interface import Patients, InterfaceConfig\n",
    "from lib.ehr.concepts import DemographicVectorConfig, LeadingObservableConfig\n"
   ]
  },
  {
   "cell_type": "code",
   "execution_count": 3,
   "id": "99451f48",
   "metadata": {},
   "outputs": [],
   "source": [
    "import logging\n",
    "logging.root.level = logging.INFO"
   ]
  },
  {
   "cell_type": "code",
   "execution_count": 4,
   "id": "17d853b3",
   "metadata": {},
   "outputs": [],
   "source": [
    "# tag = 'M4ICU'\n",
    "# PATH = f'{os.environ.get(\"HOME\")}/GP/ehr-data/mimic4icu-cohort'\n",
    "# sample = 300\n",
    "# offset = 50\n",
    "# cache =  f'cached_inteface/patients_{tag}_S{sample}_O{offset}'\n",
    "# dataset_config = load_dataset_config(tag, \n",
    "#                                      sample=sample,\n",
    "#                                      offset=offset,\n",
    "#                                      path=PATH)"
   ]
  },
  {
   "cell_type": "code",
   "execution_count": 5,
   "id": "7c822eef",
   "metadata": {},
   "outputs": [],
   "source": [
    "tag = 'M4ICU'\n",
    "PATH = f'{os.environ.get(\"HOME\")}/GP/ehr-data/mimic4icu-cohort'\n",
    "sample = 30\n",
    "offset = 50\n",
    "# time_binning = 6\n",
    "time_binning = None\n",
    "\n",
    "# cache =  f'cached_inteface/patients_{tag}_S{sample}_O{offset}_TB{time_binning}h'\n",
    "cache =  f'cached_inteface/patients_{tag}_S{sample}_O{offset}'\n",
    "dataset_config = load_dataset_config(tag, \n",
    "                                     sample=sample,\n",
    "                                     offset=offset,\n",
    "                                     path=PATH)"
   ]
  },
  {
   "cell_type": "code",
   "execution_count": 6,
   "id": "7ed894e3",
   "metadata": {},
   "outputs": [
    {
     "data": {
      "text/plain": [
       "'cached_inteface/patients_M4ICU_S30_O50'"
      ]
     },
     "execution_count": 6,
     "metadata": {},
     "output_type": "execute_result"
    }
   ],
   "source": [
    "cache"
   ]
  },
  {
   "cell_type": "markdown",
   "id": "05d63425",
   "metadata": {},
   "source": [
    "##### Possible Interface Scheme Configurations"
   ]
  },
  {
   "cell_type": "code",
   "execution_count": 7,
   "id": "ee0457bb",
   "metadata": {},
   "outputs": [
    {
     "name": "stdout",
     "output_type": "stream",
     "text": [
      "{\n",
      "    \"dx\": [\n",
      "        \"DxCCS\",\n",
      "        \"DxICD9\",\n",
      "        \"DxICD10\",\n",
      "        \"DxFlatCCS\"\n",
      "    ],\n",
      "    \"ethnicity\": [\n",
      "        \"MIMIC4Eth32\",\n",
      "        \"MIMIC4Eth5\"\n",
      "    ],\n",
      "    \"gender\": [\n",
      "        \"Gender\"\n",
      "    ],\n",
      "    \"int_input\": [\n",
      "        \"MIMICInput\",\n",
      "        \"MIMICInputGroups\"\n",
      "    ],\n",
      "    \"int_proc\": [\n",
      "        \"MIMICProcedures\",\n",
      "        \"MIMICProcedureGroups\"\n",
      "    ],\n",
      "    \"obs\": [\n",
      "        \"MIMICObservables\"\n",
      "    ],\n",
      "    \"outcome\": [\n",
      "        \"dx_flatccs_filter_v1\",\n",
      "        \"dx_flatccs_mlhc_groups\",\n",
      "        \"dx_icd9_filter_v3_groups\",\n",
      "        \"dx_icd9_filter_v2_groups\",\n",
      "        \"dx_icd9_filter_v1\"\n",
      "    ]\n",
      "}\n"
     ]
    }
   ],
   "source": [
    "import json\n",
    "dataset_scheme = load_dataset_scheme(tag)\n",
    "interface_schem_options = dataset_scheme.supported_target_scheme_options\n",
    "print(json.dumps(interface_schem_options, sort_keys=True, indent=4))"
   ]
  },
  {
   "cell_type": "markdown",
   "id": "07ad1a84",
   "metadata": {},
   "source": [
    "#### Leading Observable for Early Prediction Task"
   ]
  },
  {
   "cell_type": "code",
   "execution_count": 8,
   "id": "e2268607",
   "metadata": {},
   "outputs": [
    {
     "data": {
      "text/html": [
       "<div>\n",
       "<style scoped>\n",
       "    .dataframe tbody tr th:only-of-type {\n",
       "        vertical-align: middle;\n",
       "    }\n",
       "\n",
       "    .dataframe tbody tr th {\n",
       "        vertical-align: top;\n",
       "    }\n",
       "\n",
       "    .dataframe thead th {\n",
       "        text-align: right;\n",
       "    }\n",
       "</style>\n",
       "<table border=\"1\" class=\"dataframe\">\n",
       "  <thead>\n",
       "    <tr style=\"text-align: right;\">\n",
       "      <th></th>\n",
       "      <th>code</th>\n",
       "      <th>desc</th>\n",
       "    </tr>\n",
       "  </thead>\n",
       "  <tbody>\n",
       "    <tr>\n",
       "      <th>42</th>\n",
       "      <td>o42</td>\n",
       "      <td>aki_stage_smoothed</td>\n",
       "    </tr>\n",
       "  </tbody>\n",
       "</table>\n",
       "</div>"
      ],
      "text/plain": [
       "   code                desc\n",
       "42  o42  aki_stage_smoothed"
      ]
     },
     "metadata": {},
     "output_type": "display_data"
    }
   ],
   "source": [
    "scheme_df = dataset_scheme.obs.as_dataframe()\n",
    "display(scheme_df[scheme_df.desc.str.contains('aki')])"
   ]
  },
  {
   "cell_type": "code",
   "execution_count": 9,
   "id": "a573f669",
   "metadata": {},
   "outputs": [],
   "source": [
    "\n",
    "# Demographic vector attributes\n",
    "demographic_vector_conf = DemographicVectorConfig(\n",
    "    age=True, \n",
    "    gender=True, \n",
    "    ethnicity=True\n",
    ")\n",
    "\n",
    "# Leading \n",
    "leading_AKI = LeadingObservableConfig(leading_hours=[6, 12, 24, 48, 72],\n",
    "                                      window_aggregate='max',\n",
    "                                      scheme=dataset_scheme.obs,\n",
    "                                      index=42)"
   ]
  },
  {
   "cell_type": "code",
   "execution_count": 10,
   "id": "f7ee7624",
   "metadata": {},
   "outputs": [],
   "source": [
    "interface_scheme = dataset_scheme.make_target_scheme_config(dx='DxICD9',\n",
    "                                                            outcome='dx_icd9_filter_v3_groups',\n",
    "                                                            ethnicity='MIMIC4Eth5')\n",
    "interface_config = InterfaceConfig(scheme=interface_scheme,\n",
    "                                   dataset_scheme=dataset_scheme,\n",
    "                                   demographic_vector=demographic_vector_conf,\n",
    "                                   leading_observable=leading_AKI,\n",
    "                                   time_binning=time_binning,\n",
    "                                   cache=cache)"
   ]
  },
  {
   "cell_type": "markdown",
   "id": "b66a64de",
   "metadata": {},
   "source": [
    "### التدريب على نموذج المعادلات التفاضلية الاعتيادية العصبية\n"
   ]
  },
  {
   "cell_type": "code",
   "execution_count": 12,
   "id": "9442545b",
   "metadata": {},
   "outputs": [],
   "source": [
    "from lib.ml import (InICENODE, InICENODEConfig, InpatientEmbeddingConfig,  \n",
    "                    SplitConfig, InpatientLiteEmbeddingConfig, DeepMindPatientEmbeddingConfig,\n",
    "                    InTrainer, TrainerConfig, TrainerReporting, OptimizerConfig, WarmupConfig, ReportingConfig,\n",
    "                   InGRU, InGRUJump, InICENODELite, InICENODELiteConfig)\n",
    "from lib.metric import  (CodeAUC, UntilFirstCodeAUC, AdmissionAUC, CodeLevelMetricConfig, MetricLevelsConfig,\n",
    "                         LossMetricConfig, CodeGroupTopAlarmAccuracy, LossMetric, ObsCodeLevelLossMetric, \n",
    "                         CodeGroupTopAlarmAccuracyConfig, LeadingObsTrends, \n",
    "                        AKISegmentedAdmissionMetric, AKISegmentedAdmissionConfig)\n",
    "from lib.ml import Experiment, InpatientExperiment, ExperimentConfig, SplitConfig\n",
    "\n",
    "import jax.random as jrandom"
   ]
  },
  {
   "cell_type": "code",
   "execution_count": 13,
   "id": "c911e2f3",
   "metadata": {},
   "outputs": [],
   "source": [
    "# emb_dims = InpatientEmbeddingConfig(dx=30, inp=15, proc=15, \n",
    "#                                         demo=5, \n",
    "#                                         inp_proc_demo=10)\n",
    "# model_config = InICENODEConfig(mem=15, obs=25, lead=5, emb=emb_dims,\n",
    "#                               lead_predictor='mlp')\n",
    "# model_classname = InICENODE.__name__"
   ]
  },
  {
   "cell_type": "code",
   "execution_count": 15,
   "id": "fda25064",
   "metadata": {},
   "outputs": [],
   "source": [
    "emb_dims = InpatientEmbeddingConfig(dx=30, inp=15, proc=15, \n",
    "                                        demo=5, \n",
    "                                        inp_proc_demo=10)\n",
    "model_config = InICENODEConfig(mem=15, obs=25, lead=5, emb=emb_dims,\n",
    "                              lead_predictor='mlp')\n",
    "model_classname = InICENODELite.__name__"
   ]
  },
  {
   "cell_type": "code",
   "execution_count": 16,
   "id": "dd1037da",
   "metadata": {},
   "outputs": [],
   "source": [
    "# emb_dims = InpatientLiteEmbeddingConfig(dx=30, demo=5)\n",
    "# model_config = InICENODELiteConfig(mem=15, obs=25, lead=5, emb=emb_dims,\n",
    "#                               lead_predictor='mlp')\n",
    "# model_classname = InGRUJump.__name__"
   ]
  },
  {
   "cell_type": "code",
   "execution_count": 17,
   "id": "6ce296fd",
   "metadata": {},
   "outputs": [],
   "source": [
    "# emb_dims = DeepMindPatientEmbeddingConfig(dx=30, demo=5, obs=20, sequence=50)\n",
    "# model_config = InICENODELiteConfig(mem=15, obs=25, lead=5, emb=emb_dims,\n",
    "#                               lead_predictor='mlp')\n",
    "# model_classname = InGRU.__name__"
   ]
  },
  {
   "cell_type": "code",
   "execution_count": 18,
   "id": "3658579e",
   "metadata": {
    "scrolled": true
   },
   "outputs": [],
   "source": [
    "trainer_config = TrainerConfig(optimizer=OptimizerConfig(opt='adam', lr=1e-3),\n",
    "                          epochs=3,\n",
    "                          batch_size=64,\n",
    "                          dx_loss='balanced_focal_bce',\n",
    "                          obs_loss='mse',\n",
    "                          lead_loss='mse')\n",
    "\n",
    "warmup = WarmupConfig(epochs=0.1, \n",
    "                      batch_size=8,\n",
    "                      opt='adam', lr=1e-3, \n",
    "                      decay_rate=0.5)\n",
    "\n",
    "\n"
   ]
  },
  {
   "cell_type": "code",
   "execution_count": 19,
   "id": "b98b6b84",
   "metadata": {},
   "outputs": [],
   "source": [
    "dx_loss = [\"softmax_bce\", \"balanced_focal_softmax_bce\", \"balanced_focal_bce\",\n",
    "          \"allpairs_exp_rank\", \"allpairs_hard_rank\", \"allpairs_sigmoid_rank\"]\n",
    "lead_loss = [\"mse\", \"mae\", \"rms\", \"softdtw(0.1)\"]\n",
    "obs_loss =  [\"mse\", \"mae\", \"rms\"]\n",
    "                \n",
    "metrics_conf = [\n",
    "#     (CodeAUC, CodeLevelMetricConfig(aggregate_level=True, code_level=True)),\n",
    "#     (AdmissionAUC, MetricLevelsConfig(admission=False, aggregate=True, subject_aggregate=False)),\n",
    "#     (CodeGroupTopAlarmAccuracy, CodeGroupTopAlarmAccuracyConfig(n_partitions=5, top_k_list=[3, 5, 10, 15, 20])),\n",
    "    (LossMetric, LossMetricConfig(dx_loss=dx_loss, lead_loss=lead_loss, obs_loss=obs_loss)),\n",
    "    (LeadingObsTrends, CodeLevelMetricConfig(aggregate_level=True, code_level=True)),\n",
    "    (AKISegmentedAdmissionMetric, AKISegmentedAdmissionConfig())\n",
    "]\n",
    "metrics_conf = [m.export_module_class(c) for m, c in metrics_conf]"
   ]
  },
  {
   "cell_type": "code",
   "execution_count": 20,
   "id": "16b25d51",
   "metadata": {},
   "outputs": [],
   "source": [
    "reporting_conf = ReportingConfig(output_dir='mlp_ingru',\n",
    "                                 console=True,\n",
    "                                 model_stats=False,\n",
    "                                 parameter_snapshots=True,\n",
    "                                 config_json=True)"
   ]
  },
  {
   "cell_type": "code",
   "execution_count": 21,
   "id": "9d5a66aa",
   "metadata": {},
   "outputs": [],
   "source": [
    "expt_config = ExperimentConfig(dataset=dataset_config,\n",
    "                              interface=interface_config,\n",
    "                              split=SplitConfig(train=0.8, val=0.1, test=0.1, balanced='admissions'),\n",
    "                              trainer=trainer_config,\n",
    "                              metrics=metrics_conf,\n",
    "                              reporting=reporting_conf,\n",
    "                              model=model_config,\n",
    "                              model_classname=model_classname,\n",
    "                              n_evals=100,\n",
    "                              continue_training=True,\n",
    "                              warmup=None,\n",
    "                              reg_hyperparams=None)"
   ]
  },
  {
   "cell_type": "code",
   "execution_count": 22,
   "id": "3899be52",
   "metadata": {},
   "outputs": [],
   "source": [
    "experiment = InpatientExperiment(expt_config)"
   ]
  },
  {
   "cell_type": "code",
   "execution_count": 23,
   "id": "131bfd15",
   "metadata": {},
   "outputs": [],
   "source": [
    "# IF = experiment.load_interface()\n",
    "# m = experiment.load_model(IF)"
   ]
  },
  {
   "cell_type": "code",
   "execution_count": 24,
   "id": "3543bc19",
   "metadata": {},
   "outputs": [],
   "source": [
    "# m._f_emb(IF.subjects['10630336'])"
   ]
  },
  {
   "cell_type": "code",
   "execution_count": 25,
   "id": "9a421369",
   "metadata": {},
   "outputs": [],
   "source": [
    "# m._f_emb(IF.subjects[''])"
   ]
  },
  {
   "cell_type": "code",
   "execution_count": 26,
   "id": "716b2c54",
   "metadata": {},
   "outputs": [],
   "source": [
    "# m._f_init"
   ]
  },
  {
   "cell_type": "code",
   "execution_count": null,
   "id": "386b2156",
   "metadata": {},
   "outputs": [
    {
     "name": "stderr",
     "output_type": "stream",
     "text": [
      "INFO:root:Loading cached subjects.\n",
      "2023-11-23 16:11:37.930227: E external/xla/xla/stream_executor/cuda/cuda_driver.cc:268] failed call to cuInit: CUDA_ERROR_UNKNOWN: unknown error\n",
      "INFO:jax._src.xla_bridge:Unable to initialize backend 'cuda': FAILED_PRECONDITION: No visible GPU devices.\n",
      "INFO:jax._src.xla_bridge:Unable to initialize backend 'rocm': NOT_FOUND: Could not find registered platform with name: \"rocm\". Available platform names are: CUDA Interpreter\n",
      "INFO:jax._src.xla_bridge:Unable to initialize backend 'tpu': module 'jaxlib.xla_extension' has no attribute 'get_tpu_client'\n",
      "INFO:root:Continuing training from step 0\n",
      "INFO:root:HPs: TrainerConfig(\n",
      "  optimizer=OptimizerConfig(\n",
      "    opt='adam',\n",
      "    lr=0.001,\n",
      "    decay_rate=None,\n",
      "    reverse_schedule=False\n",
      "  ),\n",
      "  epochs=3,\n",
      "  batch_size=64,\n",
      "  dx_loss='balanced_focal_bce',\n",
      "  obs_loss='mse',\n",
      "  lead_loss='mse'\n",
      ")\n"
     ]
    },
    {
     "data": {
      "application/json": {
       "ascii": false,
       "bar_format": null,
       "colour": null,
       "elapsed": 0.006171226501464844,
       "initial": 0,
       "n": 0,
       "ncols": null,
       "nrows": 53,
       "postfix": null,
       "prefix": "Loading to device",
       "rate": null,
       "total": 0,
       "unit": "subject",
       "unit_divisor": 1000,
       "unit_scale": false
      },
      "application/vnd.jupyter.widget-view+json": {
       "model_id": "",
       "version_major": 2,
       "version_minor": 0
      },
      "text/plain": [
       "Loading to device: 0subject [00:00, ?subject/s]"
      ]
     },
     "metadata": {},
     "output_type": "display_data"
    },
    {
     "data": {
      "application/json": {
       "ascii": false,
       "bar_format": null,
       "colour": null,
       "elapsed": 0.003518342971801758,
       "initial": 0,
       "n": 0,
       "ncols": null,
       "nrows": 53,
       "postfix": null,
       "prefix": "",
       "rate": null,
       "total": 3,
       "unit": "Epoch",
       "unit_divisor": 1000,
       "unit_scale": false
      },
      "application/vnd.jupyter.widget-view+json": {
       "model_id": "6b754fdf608b4eb8b6fcd5ef50a84cf6",
       "version_major": 2,
       "version_minor": 0
      },
      "text/plain": [
       "  0%|          | 0/3 [00:00<?, ?Epoch/s]"
      ]
     },
     "metadata": {},
     "output_type": "display_data"
    },
    {
     "data": {
      "application/json": {
       "ascii": false,
       "bar_format": null,
       "colour": null,
       "elapsed": 0.004630327224731445,
       "initial": 0,
       "n": 0,
       "ncols": null,
       "nrows": 53,
       "postfix": null,
       "prefix": "",
       "rate": null,
       "total": 1,
       "unit": "Batch",
       "unit_divisor": 1000,
       "unit_scale": false
      },
      "application/vnd.jupyter.widget-view+json": {
       "model_id": "26afd3de48104167bbf62b072d298829",
       "version_major": 2,
       "version_minor": 0
      },
      "text/plain": [
       "  0%|          | 0/1 [00:00<?, ?Batch/s]"
      ]
     },
     "metadata": {},
     "output_type": "display_data"
    },
    {
     "data": {
      "application/json": {
       "ascii": false,
       "bar_format": null,
       "colour": null,
       "elapsed": 0.0048444271087646484,
       "initial": 0,
       "n": 0,
       "ncols": null,
       "nrows": 53,
       "postfix": null,
       "prefix": "Loading to device",
       "rate": null,
       "total": 25,
       "unit": "subject",
       "unit_divisor": 1000,
       "unit_scale": false
      },
      "application/vnd.jupyter.widget-view+json": {
       "model_id": "",
       "version_major": 2,
       "version_minor": 0
      },
      "text/plain": [
       "Loading to device:   0%|          | 0/25 [00:00<?, ?subject/s]"
      ]
     },
     "metadata": {},
     "output_type": "display_data"
    },
    {
     "data": {
      "application/json": {
       "ascii": false,
       "bar_format": null,
       "colour": null,
       "elapsed": 0.003618955612182617,
       "initial": 0,
       "n": 0,
       "ncols": null,
       "nrows": 53,
       "postfix": null,
       "prefix": "Embedding",
       "rate": null,
       "total": 25,
       "unit": "subject",
       "unit_divisor": 1000,
       "unit_scale": false
      },
      "application/vnd.jupyter.widget-view+json": {
       "model_id": "",
       "version_major": 2,
       "version_minor": 0
      },
      "text/plain": [
       "Embedding:   0%|          | 0/25 [00:00<?, ?subject/s]"
      ]
     },
     "metadata": {},
     "output_type": "display_data"
    },
    {
     "data": {
      "application/json": {
       "ascii": false,
       "bar_format": "{l_bar}{bar}| {n:.2f}/{total:.2f} [{elapsed}<{remaining}, {rate_fmt}{postfix}]",
       "colour": null,
       "elapsed": 0.003388643264770508,
       "initial": 0,
       "n": 0,
       "ncols": null,
       "nrows": 53,
       "postfix": null,
       "prefix": "",
       "rate": null,
       "total": 580.2590277777778,
       "unit": "longitudinal-days",
       "unit_divisor": 1000,
       "unit_scale": false
      },
      "application/vnd.jupyter.widget-view+json": {
       "model_id": "47546cbfe90444cd89562010eb16c23a",
       "version_major": 2,
       "version_minor": 0
      },
      "text/plain": [
       "  0%|          | 0.00/580.26 [00:00<?, ?longitudinal-days/s]"
      ]
     },
     "metadata": {},
     "output_type": "display_data"
    }
   ],
   "source": [
    "result = experiment.run()"
   ]
  },
  {
   "cell_type": "code",
   "execution_count": 31,
   "id": "95384fea",
   "metadata": {},
   "outputs": [
    {
     "data": {
      "text/plain": [
       "InICENODELiteConfig(\n",
       "  emb=DeepMindPatientEmbeddingConfig(dx=30, demo=5, obs=20, sequence=50),\n",
       "  mem=15,\n",
       "  obs=25,\n",
       "  lead=5,\n",
       "  lead_predictor='mlp'\n",
       ")"
      ]
     },
     "execution_count": 31,
     "metadata": {},
     "output_type": "execute_result"
    }
   ],
   "source": [
    "expt_config.model"
   ]
  },
  {
   "cell_type": "code",
   "execution_count": null,
   "id": "6b09ed67",
   "metadata": {},
   "outputs": [],
   "source": [
    "import pandas as pd\n",
    "\n",
    "# df = pd.read_csv('/home/asem/GP/ehr-data/m4icu_out/mlp_mse_icenodelite/val_evals.csv.gz')\n",
    "df = pd.read_csv('/home/asem/GP/ehr-data/m4icu_out/mlp_mse_icenode/val_evals.csv.gz', index_col=0)\n",
    "\n",
    "# df = pd.read_csv('mlp_inicenode/val_evals.csv.gz')"
   ]
  },
  {
   "cell_type": "code",
   "execution_count": null,
   "id": "64bca0c4",
   "metadata": {},
   "outputs": [],
   "source": [
    "auc1_cols = [c for c in df.columns if 'first_emergence_auc' in c]\n",
    "auc2_cols = [c for c in df.columns if 'AKISegmentedAdmissionMetric.emergence_auc' in c]\n",
    "auc3_cols = [c for c in df.columns if 'all_emergence_auc' in c]\n",
    "loss_cols = [c for c in df.columns if 'Loss' in c]"
   ]
  },
  {
   "cell_type": "code",
   "execution_count": null,
   "id": "f4629e24",
   "metadata": {},
   "outputs": [],
   "source": [
    "df[auc3_cols]"
   ]
  },
  {
   "cell_type": "code",
   "execution_count": null,
   "id": "7eca846f",
   "metadata": {},
   "outputs": [],
   "source": [
    "df['elapsed_time'] / 3600"
   ]
  },
  {
   "cell_type": "code",
   "execution_count": null,
   "id": "6707ca63",
   "metadata": {},
   "outputs": [],
   "source": []
  }
 ],
 "metadata": {
  "kernelspec": {
   "display_name": "Python 3 (ipykernel)",
   "language": "python",
   "name": "python3"
  },
  "language_info": {
   "codemirror_mode": {
    "name": "ipython",
    "version": 3
   },
   "file_extension": ".py",
   "mimetype": "text/x-python",
   "name": "python",
   "nbconvert_exporter": "python",
   "pygments_lexer": "ipython3",
   "version": "3.10.12"
  }
 },
 "nbformat": 4,
 "nbformat_minor": 5
}
