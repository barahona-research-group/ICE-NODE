{
 "cells": [
  {
   "cell_type": "code",
   "execution_count": 1,
   "id": "c171109b",
   "metadata": {},
   "outputs": [],
   "source": [
    "import numpy as np\n",
    "from sklearn import metrics"
   ]
  },
  {
   "cell_type": "code",
   "execution_count": 5,
   "id": "9f5ac7ae",
   "metadata": {},
   "outputs": [],
   "source": [
    "def compute_auc(v_truth, v_preds):\n",
    "\n",
    "    def _reject_auc(ground_truth):\n",
    "        # Reject if all positives (1) or all negatives (0).\n",
    "        n_pos = ground_truth.sum()\n",
    "        return (n_pos == 0 or n_pos == np.size(ground_truth))\n",
    "\n",
    "    if _reject_auc(v_truth):\n",
    "        return float('nan')\n",
    "    \"\"\"Compute the area under the ROC from the ground-truth `v_truth` and\n",
    "     the predictions `v_preds`.\"\"\"\n",
    "    fpr, tpr, _ = metrics.roc_curve(v_truth.flatten(),\n",
    "                                    v_preds.flatten(),\n",
    "                                    pos_label=1)\n",
    "    return metrics.auc(fpr, tpr)\n",
    "\n",
    "\n",
    "\n",
    "def compute_auc2(y_true, y_prob):\n",
    "    y_true = np.asarray(y_true)\n",
    "    y_true = y_true[np.argsort(y_prob)]\n",
    "    nfalse = 0\n",
    "    auc = 0\n",
    "    n = len(y_true)\n",
    "    for i in range(n):\n",
    "        y_i = y_true[i]\n",
    "        nfalse += (1 - y_i)\n",
    "        auc += y_i * nfalse\n",
    "    auc /= (nfalse * (n - nfalse))\n",
    "    return auc\n",
    "\n",
    "def nan_compute_auc(v_truth, v_preds):\n",
    "    isnan = np.isnan(v_truth) | np.isnan(v_preds)\n",
    "    v_truth = v_truth[~isnan]\n",
    "    v_preds = v_preds[~isnan]\n",
    "    npos = v_truth.sum()\n",
    "    nneg = np.size(v_truth) - npos\n",
    "    return (npos, nneg), compute_auc(v_truth, v_preds)\n",
    "\n",
    "def nan_compute_auc2(v_truth, v_preds):\n",
    "    isnan = np.isnan(v_truth) | np.isnan(v_preds)\n",
    "    v_truth = v_truth[~isnan]\n",
    "    v_preds = v_preds[~isnan]\n",
    "    npos = v_truth.sum()\n",
    "    nneg = np.size(v_truth) - npos\n",
    "    return (npos, nneg), compute_auc2(v_truth, v_preds)\n",
    "\n"
   ]
  },
  {
   "cell_type": "code",
   "execution_count": 11,
   "id": "ea3d1bea",
   "metadata": {},
   "outputs": [],
   "source": [
    "np.random.seed(0)\n",
    "gt = np.random.binomial(1, p=0.5, size=10**8)\n",
    "pr_l = np.random.uniform(low=0.2, high=0.7, size=10**8)\n",
    "pr_h = np.random.uniform(low=0.4, high=0.9, size=10**8)\n",
    "pr = np.where(gt, pr_h, pr_l)"
   ]
  },
  {
   "cell_type": "code",
   "execution_count": 9,
   "id": "d7a22b5e",
   "metadata": {},
   "outputs": [],
   "source": [
    "auc1 = nan_compute_auc(gt, pr)"
   ]
  },
  {
   "cell_type": "code",
   "execution_count": 10,
   "id": "e751d297",
   "metadata": {},
   "outputs": [
    {
     "data": {
      "text/plain": [
       "((5001790, 4998210), 0.8198338020120195)"
      ]
     },
     "execution_count": 10,
     "metadata": {},
     "output_type": "execute_result"
    }
   ],
   "source": [
    "auc1"
   ]
  },
  {
   "cell_type": "code",
   "execution_count": 12,
   "id": "1eadb535",
   "metadata": {},
   "outputs": [],
   "source": [
    "auc2 = nan_compute_auc2(gt, pr)"
   ]
  },
  {
   "cell_type": "code",
   "execution_count": 13,
   "id": "93c22e28",
   "metadata": {},
   "outputs": [
    {
     "data": {
      "text/plain": [
       "((49999058, 50000942), 0.8200049047264956)"
      ]
     },
     "execution_count": 13,
     "metadata": {},
     "output_type": "execute_result"
    }
   ],
   "source": [
    "auc2"
   ]
  },
  {
   "cell_type": "code",
   "execution_count": null,
   "id": "8e5c27db",
   "metadata": {},
   "outputs": [],
   "source": []
  }
 ],
 "metadata": {
  "kernelspec": {
   "display_name": "Python 3 (ipykernel)",
   "language": "python",
   "name": "python3"
  },
  "language_info": {
   "codemirror_mode": {
    "name": "ipython",
    "version": 3
   },
   "file_extension": ".py",
   "mimetype": "text/x-python",
   "name": "python",
   "nbconvert_exporter": "python",
   "pygments_lexer": "ipython3",
   "version": "3.9.17"
  }
 },
 "nbformat": 4,
 "nbformat_minor": 5
}
