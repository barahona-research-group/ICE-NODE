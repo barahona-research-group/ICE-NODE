{
 "cells": [
  {
   "cell_type": "code",
   "execution_count": 1,
   "id": "ab383786",
   "metadata": {},
   "outputs": [],
   "source": [
    "%load_ext autoreload\n",
    "%autoreload 2\n",
    "import sys\n",
    "import os\n",
    "import glob\n",
    "import random\n",
    "from collections import defaultdict\n",
    "from pathlib import Path\n",
    "\n",
    "from IPython.display import display\n",
    "\n",
    "import pandas as pd\n",
    "import dask\n",
    "\n",
    "from tqdm import tqdm\n",
    "import jax\n",
    "jax.config.update('jax_platform_name', 'cpu')\n",
    "# jax.config.update('jax_log_compiles', True)\n",
    "# jax.config.update(\"jax_debug_nans\", True)\n",
    "# jax.config.update(\"jax_enable_x64\", True)"
   ]
  },
  {
   "cell_type": "code",
   "execution_count": 2,
   "id": "c83480cb",
   "metadata": {},
   "outputs": [],
   "source": [
    "\n",
    "\n",
    "sys.path.append(\"../..\")\n",
    "\n",
    "from lib import utils as U\n",
    "from lib.ehr import load_dataset, load_dataset_scheme, load_dataset_config, Dataset\n",
    "from lib.ehr.interface import Patients, InterfaceConfig\n",
    "from lib.ehr.concepts import DemographicVectorConfig, LeadingObservableConfig\n"
   ]
  },
  {
   "cell_type": "code",
   "execution_count": 3,
   "id": "99451f48",
   "metadata": {},
   "outputs": [],
   "source": [
    "import logging\n",
    "logging.root.level = logging.INFO"
   ]
  },
  {
   "cell_type": "code",
   "execution_count": 4,
   "id": "17d853b3",
   "metadata": {},
   "outputs": [],
   "source": [
    "tag = 'M4ICU'\n",
    "PATH = f'{os.environ.get(\"HOME\")}/GP/ehr-data/mimic4icu-cohort'\n",
    "sample = 100\n",
    "offset = 0\n",
    "cache =  f'cached_inteface/patients_{tag}_S{sample or \"\"}_O{offset or \"\"}'\n",
    "dataset_config = load_dataset_config(tag, \n",
    "                                     sample=sample,\n",
    "                                     offset=offset,\n",
    "                                     path=PATH)"
   ]
  },
  {
   "cell_type": "code",
   "execution_count": 5,
   "id": "7ed894e3",
   "metadata": {},
   "outputs": [
    {
     "data": {
      "text/plain": [
       "'cached_inteface/patients_M4ICU_S100_O'"
      ]
     },
     "execution_count": 5,
     "metadata": {},
     "output_type": "execute_result"
    }
   ],
   "source": [
    "cache"
   ]
  },
  {
   "cell_type": "markdown",
   "id": "05d63425",
   "metadata": {},
   "source": [
    "##### Possible Interface Scheme Configurations"
   ]
  },
  {
   "cell_type": "code",
   "execution_count": 6,
   "id": "ee0457bb",
   "metadata": {},
   "outputs": [
    {
     "name": "stdout",
     "output_type": "stream",
     "text": [
      "{\n",
      "    \"dx\": [\n",
      "        \"DxICD9\",\n",
      "        \"DxFlatCCS\",\n",
      "        \"DxICD10\",\n",
      "        \"DxCCS\"\n",
      "    ],\n",
      "    \"ethnicity\": [\n",
      "        \"MIMIC4Eth32\",\n",
      "        \"MIMIC4Eth5\"\n",
      "    ],\n",
      "    \"gender\": [\n",
      "        \"Gender\"\n",
      "    ],\n",
      "    \"int_input\": [\n",
      "        \"MIMICInput\",\n",
      "        \"MIMICInputGroups\"\n",
      "    ],\n",
      "    \"int_proc\": [\n",
      "        \"MIMICProcedures\",\n",
      "        \"MIMICProcedureGroups\"\n",
      "    ],\n",
      "    \"obs\": [\n",
      "        \"MIMICObservables\"\n",
      "    ],\n",
      "    \"outcome\": [\n",
      "        \"dx_icd9_filter_v2_groups\",\n",
      "        \"dx_icd9_filter_v3_groups\",\n",
      "        \"dx_flatccs_mlhc_groups\",\n",
      "        \"dx_flatccs_filter_v1\",\n",
      "        \"dx_icd9_filter_v1\"\n",
      "    ]\n",
      "}\n"
     ]
    }
   ],
   "source": [
    "import json\n",
    "dataset_scheme = load_dataset_scheme(tag)\n",
    "interface_schem_options = dataset_scheme.supported_target_scheme_options\n",
    "print(json.dumps(interface_schem_options, sort_keys=True, indent=4))"
   ]
  },
  {
   "cell_type": "markdown",
   "id": "07ad1a84",
   "metadata": {},
   "source": [
    "#### Leading Observable for Early Prediction Task"
   ]
  },
  {
   "cell_type": "code",
   "execution_count": 7,
   "id": "e2268607",
   "metadata": {},
   "outputs": [
    {
     "data": {
      "text/html": [
       "<div>\n",
       "<style scoped>\n",
       "    .dataframe tbody tr th:only-of-type {\n",
       "        vertical-align: middle;\n",
       "    }\n",
       "\n",
       "    .dataframe tbody tr th {\n",
       "        vertical-align: top;\n",
       "    }\n",
       "\n",
       "    .dataframe thead th {\n",
       "        text-align: right;\n",
       "    }\n",
       "</style>\n",
       "<table border=\"1\" class=\"dataframe\">\n",
       "  <thead>\n",
       "    <tr style=\"text-align: right;\">\n",
       "      <th></th>\n",
       "      <th>code</th>\n",
       "      <th>desc</th>\n",
       "    </tr>\n",
       "  </thead>\n",
       "  <tbody>\n",
       "    <tr>\n",
       "      <th>42</th>\n",
       "      <td>o42</td>\n",
       "      <td>aki_stage_smoothed</td>\n",
       "    </tr>\n",
       "  </tbody>\n",
       "</table>\n",
       "</div>"
      ],
      "text/plain": [
       "   code                desc\n",
       "42  o42  aki_stage_smoothed"
      ]
     },
     "metadata": {},
     "output_type": "display_data"
    }
   ],
   "source": [
    "scheme_df = dataset_scheme.obs.as_dataframe()\n",
    "display(scheme_df[scheme_df.desc.str.contains('aki')])"
   ]
  },
  {
   "cell_type": "code",
   "execution_count": 8,
   "id": "a573f669",
   "metadata": {},
   "outputs": [],
   "source": [
    "\n",
    "# Demographic vector attributes\n",
    "demographic_vector_conf = DemographicVectorConfig(\n",
    "    age=True, \n",
    "    gender=True, \n",
    "    ethnicity=True\n",
    ")\n",
    "\n",
    "# Leading \n",
    "leading_AKI = LeadingObservableConfig(leading_hours=[6, 12, 24, 48, 72],\n",
    "                                      window_aggregate='max',\n",
    "                                      scheme=dataset_scheme.obs,\n",
    "                                      index=42)"
   ]
  },
  {
   "cell_type": "code",
   "execution_count": 9,
   "id": "f7ee7624",
   "metadata": {},
   "outputs": [],
   "source": [
    "interface_scheme = dataset_scheme.make_target_scheme_config(dx='DxICD9',\n",
    "                                                            outcome='dx_icd9_filter_v3_groups',\n",
    "                                                            ethnicity='MIMIC4Eth5')\n",
    "interface_config = InterfaceConfig(scheme=interface_scheme,\n",
    "                                   dataset_scheme=dataset_scheme,\n",
    "                                   demographic_vector=demographic_vector_conf,\n",
    "                                   leading_observable=leading_AKI,\n",
    "                                   cache=cache)"
   ]
  },
  {
   "cell_type": "markdown",
   "id": "b66a64de",
   "metadata": {},
   "source": [
    "### التدريب على نموذج المعادلات التفاضلية الاعتيادية العصبية\n"
   ]
  },
  {
   "cell_type": "code",
   "execution_count": 10,
   "id": "9442545b",
   "metadata": {},
   "outputs": [],
   "source": [
    "from lib.ml import (InICENODE, InICENODELite, InICENODEConfig, InpatientEmbeddingConfig,  SplitConfig,\n",
    "                    InTrainer, TrainerConfig, TrainerReporting, OptimizerConfig, WarmupConfig, ReportingConfig)\n",
    "from lib.metric import  (CodeAUC, UntilFirstCodeAUC, AdmissionAUC, CodeLevelMetricConfig, MetricLevelsConfig,\n",
    "                         LossMetricConfig,\n",
    "                         CodeGroupTopAlarmAccuracy, LossMetric, ObsCodeLevelLossMetric, \n",
    "                         CodeGroupTopAlarmAccuracyConfig,\n",
    "                         LeadingObsTrends, AKISegmentedAdmissionConfig, AKISegmentedAdmissionMetric)\n",
    "from lib.ml import Experiment, InpatientExperiment, ExperimentConfig, SplitConfig\n",
    "\n",
    "import jax.random as jrandom"
   ]
  },
  {
   "cell_type": "code",
   "execution_count": 11,
   "id": "c911e2f3",
   "metadata": {},
   "outputs": [],
   "source": [
    "emb_dims = InpatientEmbeddingConfig(dx=30, inp=15, proc=15, \n",
    "                                        demo=5, \n",
    "                                        inp_proc_demo=10)\n",
    "model_config = InICENODEConfig(mem=15, obs=25, lead=5, emb=emb_dims,\n",
    "                              lead_predictor='mlp')\n",
    "model_classname = InICENODELite.__name__"
   ]
  },
  {
   "cell_type": "code",
   "execution_count": 12,
   "id": "3658579e",
   "metadata": {
    "scrolled": true
   },
   "outputs": [],
   "source": [
    "trainer_config = TrainerConfig(optimizer=OptimizerConfig(opt='adam', lr=1e-3),\n",
    "                          epochs=1,\n",
    "                          batch_size=32,\n",
    "                          obs_loss='mse',\n",
    "                          lead_loss='mse')\n",
    "\n",
    "warmup = WarmupConfig(epochs=0.1, \n",
    "                      batch_size=8,\n",
    "                      opt='adam', lr=1e-3, \n",
    "                      decay_rate=0.5)\n",
    "\n",
    "\n"
   ]
  },
  {
   "cell_type": "code",
   "execution_count": 13,
   "id": "b98b6b84",
   "metadata": {},
   "outputs": [],
   "source": [
    "dx_loss = [\"softmax_bce\", \"balanced_focal_softmax_bce\", \"balanced_focal_bce\",\n",
    "          \"allpairs_exp_rank\", \"allpairs_hard_rank\", \"allpairs_sigmoid_rank\"]\n",
    "dx_loss = []\n",
    "lead_loss = [\"mse\", \"mae\", \"rms\", \"softdtw(0.1)\"]\n",
    "obs_loss =  [\"mse\", \"mae\", \"rms\"]\n",
    "                \n",
    "metrics_conf = [\n",
    "    (LossMetric, LossMetricConfig(dx_loss=dx_loss, lead_loss=lead_loss, obs_loss=obs_loss)),\n",
    "    (LeadingObsTrends, CodeLevelMetricConfig(aggregate_level=True, code_level=True)),\n",
    "    (AKISegmentedAdmissionMetric, AKISegmentedAdmissionConfig(stable_window=24))\n",
    "]\n",
    "metrics_conf = [m.export_module_class(c) for m, c in metrics_conf]"
   ]
  },
  {
   "cell_type": "code",
   "execution_count": 14,
   "id": "16b25d51",
   "metadata": {},
   "outputs": [],
   "source": [
    "reporting_conf = ReportingConfig(output_dir='inicenodelite',\n",
    "                                 console=True,\n",
    "                                 model_stats=False,\n",
    "                                 parameter_snapshots=True,\n",
    "                                 config_json=True)"
   ]
  },
  {
   "cell_type": "code",
   "execution_count": 15,
   "id": "9d5a66aa",
   "metadata": {},
   "outputs": [],
   "source": [
    "expt_config = ExperimentConfig(dataset=dataset_config,\n",
    "                              interface=interface_config,\n",
    "                              split=SplitConfig(train=0.8, val=0.1, test=0.1, balanced='admissions'),\n",
    "                              trainer=trainer_config,\n",
    "                              metrics=metrics_conf,\n",
    "                              reporting=reporting_conf,\n",
    "                              model=model_config,\n",
    "                              model_classname=model_classname,\n",
    "                              n_evals=100,\n",
    "                              continue_training=False,\n",
    "                              warmup=None,\n",
    "                              reg_hyperparams=None)"
   ]
  },
  {
   "cell_type": "code",
   "execution_count": 16,
   "id": "3899be52",
   "metadata": {},
   "outputs": [],
   "source": [
    "experiment = InpatientExperiment(expt_config)"
   ]
  },
  {
   "cell_type": "code",
   "execution_count": null,
   "id": "386b2156",
   "metadata": {},
   "outputs": [
    {
     "name": "stderr",
     "output_type": "stream",
     "text": [
      "INFO:root:Loading cached subjects.\n",
      "INFO:jax._src.xla_bridge:Unable to initialize backend 'rocm': NOT_FOUND: Could not find registered platform with name: \"rocm\". Available platform names are: CUDA Interpreter\n",
      "INFO:jax._src.xla_bridge:Unable to initialize backend 'tpu': module 'jaxlib.xla_extension' has no attribute 'get_tpu_client'\n",
      "INFO:root:HPs: TrainerConfig(\n",
      "  optimizer=OptimizerConfig(\n",
      "    opt='adam',\n",
      "    lr=0.001,\n",
      "    decay_rate=None,\n",
      "    reverse_schedule=False\n",
      "  ),\n",
      "  epochs=1,\n",
      "  batch_size=32,\n",
      "  dx_loss='balanced_focal_bce',\n",
      "  obs_loss='mse',\n",
      "  lead_loss='mse'\n",
      ")\n"
     ]
    },
    {
     "data": {
      "application/json": {
       "ascii": false,
       "bar_format": null,
       "colour": null,
       "elapsed": 0.004754066467285156,
       "initial": 0,
       "n": 0,
       "ncols": null,
       "nrows": 55,
       "postfix": null,
       "prefix": "Loading to device",
       "rate": null,
       "total": 18,
       "unit": "subject",
       "unit_divisor": 1000,
       "unit_scale": false
      },
      "application/vnd.jupyter.widget-view+json": {
       "model_id": "",
       "version_major": 2,
       "version_minor": 0
      },
      "text/plain": [
       "Loading to device:   0%|          | 0/18 [00:00<?, ?subject/s]"
      ]
     },
     "metadata": {},
     "output_type": "display_data"
    },
    {
     "data": {
      "application/json": {
       "ascii": false,
       "bar_format": null,
       "colour": null,
       "elapsed": 0.004313945770263672,
       "initial": 0,
       "n": 0,
       "ncols": null,
       "nrows": 55,
       "postfix": null,
       "prefix": "",
       "rate": null,
       "total": 1,
       "unit": "Epoch",
       "unit_divisor": 1000,
       "unit_scale": false
      },
      "application/vnd.jupyter.widget-view+json": {
       "model_id": "f3e4c22e18df401bb95033daf1dfd5b4",
       "version_major": 2,
       "version_minor": 0
      },
      "text/plain": [
       "  0%|          | 0/1 [00:00<?, ?Epoch/s]"
      ]
     },
     "metadata": {},
     "output_type": "display_data"
    },
    {
     "data": {
      "application/json": {
       "ascii": false,
       "bar_format": null,
       "colour": null,
       "elapsed": 0.005701303482055664,
       "initial": 0,
       "n": 0,
       "ncols": null,
       "nrows": 55,
       "postfix": null,
       "prefix": "",
       "rate": null,
       "total": 9,
       "unit": "Batch",
       "unit_divisor": 1000,
       "unit_scale": false
      },
      "application/vnd.jupyter.widget-view+json": {
       "model_id": "fd547e877ed7475bb41a1b8d1a3b355c",
       "version_major": 2,
       "version_minor": 0
      },
      "text/plain": [
       "  0%|          | 0/9 [00:00<?, ?Batch/s]"
      ]
     },
     "metadata": {},
     "output_type": "display_data"
    },
    {
     "data": {
      "application/json": {
       "ascii": false,
       "bar_format": null,
       "colour": null,
       "elapsed": 0.0056455135345458984,
       "initial": 0,
       "n": 0,
       "ncols": null,
       "nrows": 55,
       "postfix": null,
       "prefix": "Loading to device",
       "rate": null,
       "total": 6,
       "unit": "subject",
       "unit_divisor": 1000,
       "unit_scale": false
      },
      "application/vnd.jupyter.widget-view+json": {
       "model_id": "",
       "version_major": 2,
       "version_minor": 0
      },
      "text/plain": [
       "Loading to device:   0%|          | 0/6 [00:00<?, ?subject/s]"
      ]
     },
     "metadata": {},
     "output_type": "display_data"
    },
    {
     "data": {
      "application/json": {
       "ascii": false,
       "bar_format": null,
       "colour": null,
       "elapsed": 0.004437923431396484,
       "initial": 0,
       "n": 0,
       "ncols": null,
       "nrows": 55,
       "postfix": null,
       "prefix": "Embedding",
       "rate": null,
       "total": 6,
       "unit": "subject",
       "unit_divisor": 1000,
       "unit_scale": false
      },
      "application/vnd.jupyter.widget-view+json": {
       "model_id": "",
       "version_major": 2,
       "version_minor": 0
      },
      "text/plain": [
       "Embedding:   0%|          | 0/6 [00:00<?, ?subject/s]"
      ]
     },
     "metadata": {},
     "output_type": "display_data"
    },
    {
     "data": {
      "application/json": {
       "ascii": false,
       "bar_format": "{l_bar}{bar}| {n:.2f}/{total:.2f} [{elapsed}<{remaining}, {rate_fmt}{postfix}]",
       "colour": null,
       "elapsed": 0.0033278465270996094,
       "initial": 0,
       "n": 0,
       "ncols": null,
       "nrows": 55,
       "postfix": null,
       "prefix": "",
       "rate": null,
       "total": 204.77152777777778,
       "unit": "longitudinal-days",
       "unit_divisor": 1000,
       "unit_scale": false
      },
      "application/vnd.jupyter.widget-view+json": {
       "model_id": "",
       "version_major": 2,
       "version_minor": 0
      },
      "text/plain": [
       "  0%|          | 0.00/204.77 [00:00<?, ?longitudinal-days/s]"
      ]
     },
     "metadata": {},
     "output_type": "display_data"
    },
    {
     "name": "stderr",
     "output_type": "stream",
     "text": [
      "WARNING:root:Skipping prediction with NaNs: subject_id=16027970, admission_id=20830648 interval_hours= 715.4833333333333. Note: long intervals is a likely reason to destabilise the model\n",
      "WARNING:root:Average interval_hours: 247.0019607843137\n"
     ]
    },
    {
     "data": {
      "application/json": {
       "ascii": false,
       "bar_format": null,
       "colour": null,
       "elapsed": 0.004202842712402344,
       "initial": 0,
       "n": 0,
       "ncols": null,
       "nrows": 55,
       "postfix": null,
       "prefix": "Embedding",
       "rate": null,
       "total": 6,
       "unit": "subject",
       "unit_divisor": 1000,
       "unit_scale": false
      },
      "application/vnd.jupyter.widget-view+json": {
       "model_id": "",
       "version_major": 2,
       "version_minor": 0
      },
      "text/plain": [
       "Embedding:   0%|          | 0/6 [00:00<?, ?subject/s]"
      ]
     },
     "metadata": {},
     "output_type": "display_data"
    },
    {
     "data": {
      "application/json": {
       "ascii": false,
       "bar_format": "{l_bar}{bar}| {n:.2f}/{total:.2f} [{elapsed}<{remaining}, {rate_fmt}{postfix}]",
       "colour": null,
       "elapsed": 0.005061626434326172,
       "initial": 0,
       "n": 0,
       "ncols": null,
       "nrows": 55,
       "postfix": null,
       "prefix": "",
       "rate": null,
       "total": 204.77152777777778,
       "unit": "longitudinal-days",
       "unit_divisor": 1000,
       "unit_scale": false
      },
      "application/vnd.jupyter.widget-view+json": {
       "model_id": "",
       "version_major": 2,
       "version_minor": 0
      },
      "text/plain": [
       "  0%|          | 0.00/204.77 [00:00<?, ?longitudinal-days/s]"
      ]
     },
     "metadata": {},
     "output_type": "display_data"
    },
    {
     "name": "stderr",
     "output_type": "stream",
     "text": [
      "WARNING:root:Skipping prediction with NaNs: subject_id=16027970, admission_id=20830648 interval_hours= 715.4833333333333. Note: long intervals is a likely reason to destabilise the model\n",
      "WARNING:root:Average interval_hours: 247.0019607843137\n",
      "/home/asem/GP/env/icenode-dev/lib/python3.10/site-packages/scipy/stats/_stats_py.py:4916: ConstantInputWarning: An input array is constant; the correlation coefficient is not defined.\n",
      "  warnings.warn(stats.ConstantInputWarning(warn_msg))\n"
     ]
    }
   ],
   "source": [
    "result = experiment.run()"
   ]
  },
  {
   "cell_type": "code",
   "execution_count": 21,
   "id": "48779b5c",
   "metadata": {},
   "outputs": [
    {
     "data": {
      "text/plain": [
       "ExperimentConfig(\n",
       "  dataset=DatasetConfig(\n",
       "    path='/home/asem/GP/ehr-data/mimic4icu-cohort',\n",
       "    scheme=MIMIC4ICUDatasetSchemeConfig(\n",
       "      dx={'10': 'DxICD10', '9': 'DxICD9'},\n",
       "      ethnicity='MIMIC4Eth32',\n",
       "      gender='Gender',\n",
       "      outcome='dx_icd9_filter_v3_groups',\n",
       "      int_proc='MIMICProcedures',\n",
       "      int_input='MIMICInput',\n",
       "      obs='MIMICObservables'\n",
       "    ),\n",
       "    scheme_classname='MIMIC4ICUDatasetScheme',\n",
       "    colname={\n",
       "      'adm':\n",
       "      {\n",
       "        'admittime':\n",
       "        'admittime',\n",
       "        'dischtime':\n",
       "        'dischtime',\n",
       "        'index':\n",
       "        'hadm_id',\n",
       "        'subject_id':\n",
       "        'subject_id'\n",
       "      },\n",
       "      'dx':\n",
       "      {\n",
       "        'admission_id':\n",
       "        'hadm_id',\n",
       "        'code':\n",
       "        'icd_code',\n",
       "        'subject_id':\n",
       "        'subject_id',\n",
       "        'version':\n",
       "        'icd_version'\n",
       "      },\n",
       "      'int_input':\n",
       "      {\n",
       "        'admission_id':\n",
       "        'hadm_id',\n",
       "        'code':\n",
       "        'label',\n",
       "        'end_time':\n",
       "        'end_time',\n",
       "        'rate':\n",
       "        'normalised_amount_per_hour',\n",
       "        'start_time':\n",
       "        'start_time'\n",
       "      },\n",
       "      'int_proc':\n",
       "      {\n",
       "        'admission_id':\n",
       "        'hadm_id',\n",
       "        'code':\n",
       "        'code',\n",
       "        'end_time':\n",
       "        'end_time',\n",
       "        'start_time':\n",
       "        'start_time'\n",
       "      },\n",
       "      'obs':\n",
       "      {\n",
       "        'admission_id':\n",
       "        'hadm_id',\n",
       "        'code':\n",
       "        'code',\n",
       "        'timestamp':\n",
       "        'time_bin',\n",
       "        'value':\n",
       "        'value'\n",
       "      },\n",
       "      'static':\n",
       "      {\n",
       "        'anchor_age':\n",
       "        'anchor_age',\n",
       "        'anchor_year':\n",
       "        'anchor_year',\n",
       "        'ethnicity':\n",
       "        'race',\n",
       "        'gender':\n",
       "        'gender',\n",
       "        'index':\n",
       "        'subject_id'\n",
       "      }\n",
       "    },\n",
       "    files={\n",
       "      'adm':\n",
       "      'adm_df.csv',\n",
       "      'dx':\n",
       "      'dx_df.csv',\n",
       "      'int_input':\n",
       "      'int_input.csv',\n",
       "      'int_proc':\n",
       "      'int_proc.csv',\n",
       "      'obs':\n",
       "      'obs_df.csv',\n",
       "      'static':\n",
       "      'static_df.csv'\n",
       "    },\n",
       "    sample=100,\n",
       "    offset=0,\n",
       "    meta_fpath='',\n",
       "    tag='M4ICU',\n",
       "    overlapping_admissions='merge'\n",
       "  ),\n",
       "  interface=InterfaceConfig(\n",
       "    demographic_vector=DemographicVectorConfig(\n",
       "      gender=True,\n",
       "      age=True,\n",
       "      ethnicity=True\n",
       "    ),\n",
       "    leading_observable=LeadingObservableConfig(\n",
       "      index=42,\n",
       "      leading_hours=[6, 12, 24, 48, 72],\n",
       "      window_aggregate='max',\n",
       "      scheme='MIMICObservables',\n",
       "      _scheme=<lib.ehr.coding_scheme.MIMICObservables object at 0x7f2ad005ebf0>,\n",
       "      _window_aggregate=<function nan_agg_max>,\n",
       "      _index2code={\n",
       "        0:\n",
       "        'aki_stage_smoothed_next_6hrs',\n",
       "        1:\n",
       "        'aki_stage_smoothed_next_12hrs',\n",
       "        2:\n",
       "        'aki_stage_smoothed_next_24hrs',\n",
       "        3:\n",
       "        'aki_stage_smoothed_next_48hrs',\n",
       "        4:\n",
       "        'aki_stage_smoothed_next_72hrs'\n",
       "      },\n",
       "      _code2index={\n",
       "        'aki_stage_smoothed_next_6hrs':\n",
       "        0,\n",
       "        'aki_stage_smoothed_next_12hrs':\n",
       "        1,\n",
       "        'aki_stage_smoothed_next_24hrs':\n",
       "        2,\n",
       "        'aki_stage_smoothed_next_48hrs':\n",
       "        3,\n",
       "        'aki_stage_smoothed_next_72hrs':\n",
       "        4\n",
       "      }\n",
       "    ),\n",
       "    scheme=MIMIC4ICUDatasetSchemeConfig(\n",
       "      dx='DxICD9',\n",
       "      ethnicity='MIMIC4Eth5',\n",
       "      gender='Gender',\n",
       "      outcome='dx_icd9_filter_v3_groups',\n",
       "      int_proc='MIMICProcedureGroups',\n",
       "      int_input='MIMICInputGroups',\n",
       "      obs='MIMICObservables'\n",
       "    ),\n",
       "    cache='cached_inteface/patients_M4ICU_S100_O'\n",
       "  ),\n",
       "  split=SplitConfig(train=0.8, val=0.1, test=0.1, balanced='admissions'),\n",
       "  trainer=TrainerConfig(\n",
       "    optimizer=OptimizerConfig(\n",
       "      opt='adam',\n",
       "      lr=0.001,\n",
       "      decay_rate=None,\n",
       "      reverse_schedule=False\n",
       "    ),\n",
       "    epochs=1,\n",
       "    batch_size=32,\n",
       "    dx_loss='balanced_focal_bce',\n",
       "    obs_loss='mse',\n",
       "    lead_loss='mse'\n",
       "  ),\n",
       "  model=InICENODEConfig(\n",
       "    emb=InpatientEmbeddingConfig(\n",
       "      dx=30,\n",
       "      demo=5,\n",
       "      inp=15,\n",
       "      proc=15,\n",
       "      inp_proc_demo=10\n",
       "    ),\n",
       "    mem=15,\n",
       "    obs=25,\n",
       "    lead=5,\n",
       "    lead_predictor='monotonic'\n",
       "  ),\n",
       "  model_classname='InICENODELite',\n",
       "  metrics=[\n",
       "    {\n",
       "      'config':\n",
       "      {\n",
       "        '_type':\n",
       "        'LossMetricConfig',\n",
       "        'dx_loss':\n",
       "        [],\n",
       "        'lead_loss':\n",
       "        ['mse', 'mae', 'rms', 'softdtw(0.1)'],\n",
       "        'obs_loss':\n",
       "        ['mse', 'mae', 'rms']\n",
       "      },\n",
       "      'classname':\n",
       "      'LossMetric',\n",
       "      'external_argnames':\n",
       "      ['patients']\n",
       "    },\n",
       "    {\n",
       "      'config':\n",
       "      {\n",
       "        '_type':\n",
       "        'CodeLevelMetricConfig',\n",
       "        'aggregate_level':\n",
       "        True,\n",
       "        'code_level':\n",
       "        True\n",
       "      },\n",
       "      'classname':\n",
       "      'LeadingObsTrends',\n",
       "      'external_argnames':\n",
       "      ['patients']\n",
       "    },\n",
       "    {\n",
       "      'config':\n",
       "      {'_type': 'AKISegmentedAdmissionConfig', 'stable_window': 24},\n",
       "      'classname':\n",
       "      'AKISegmentedAdmissionMetric',\n",
       "      'external_argnames':\n",
       "      ['patients']\n",
       "    }\n",
       "  ],\n",
       "  reporting=ReportingConfig(\n",
       "    output_dir='inicenodelite',\n",
       "    console=True,\n",
       "    parameter_snapshots=True,\n",
       "    config_json=True,\n",
       "    model_stats=False\n",
       "  ),\n",
       "  n_evals=100,\n",
       "  continue_training=False,\n",
       "  warmup=None,\n",
       "  reg_hyperparams=None\n",
       ")"
      ]
     },
     "execution_count": 21,
     "metadata": {},
     "output_type": "execute_result"
    }
   ],
   "source": [
    "expt_config"
   ]
  },
  {
   "cell_type": "code",
   "execution_count": 2,
   "id": "98470526",
   "metadata": {},
   "outputs": [
    {
     "data": {
      "text/plain": [
       "[1, 2]"
      ]
     },
     "execution_count": 2,
     "metadata": {},
     "output_type": "execute_result"
    }
   ],
   "source": [
    "l[None:2]"
   ]
  },
  {
   "cell_type": "code",
   "execution_count": 3,
   "id": "e5294347",
   "metadata": {},
   "outputs": [
    {
     "data": {
      "text/plain": [
       "[2, 3]"
      ]
     },
     "execution_count": 3,
     "metadata": {},
     "output_type": "execute_result"
    }
   ],
   "source": [
    "l[1:None]"
   ]
  },
  {
   "cell_type": "code",
   "execution_count": null,
   "id": "f15418e1",
   "metadata": {},
   "outputs": [],
   "source": []
  }
 ],
 "metadata": {
  "kernelspec": {
   "display_name": "Python 3 (ipykernel)",
   "language": "python",
   "name": "python3"
  },
  "language_info": {
   "codemirror_mode": {
    "name": "ipython",
    "version": 3
   },
   "file_extension": ".py",
   "mimetype": "text/x-python",
   "name": "python",
   "nbconvert_exporter": "python",
   "pygments_lexer": "ipython3",
   "version": "3.9.17"
  }
 },
 "nbformat": 4,
 "nbformat_minor": 5
}
