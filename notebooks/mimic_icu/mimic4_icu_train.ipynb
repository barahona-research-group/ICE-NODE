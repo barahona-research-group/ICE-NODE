{
 "cells": [
  {
   "cell_type": "code",
   "execution_count": 1,
   "id": "ab383786",
   "metadata": {},
   "source": [
    "%load_ext autoreload\n",
    "%autoreload 2\n",
    "import sys\n",
    "import os\n",
    "import glob\n",
    "import random\n",
    "from collections import defaultdict\n",
    "from pathlib import Path\n",
    "\n",
    "from IPython.display import display\n",
    "\n",
    "import pandas as pd\n",
    "import dask\n",
    "\n",
    "from tqdm import tqdm\n",
    "import jax\n",
    "jax.config.update('jax_platform_name', 'cpu')\n",
    "# jax.config.update('jax_log_compiles', True)\n",
    "# jax.config.update(\"jax_debug_nans\", True)\n",
    "# jax.config.update(\"jax_enable_x64\", True)"
   ],
   "outputs": []
  },
  {
   "cell_type": "code",
   "execution_count": 2,
   "id": "c83480cb",
   "metadata": {},
   "source": [
    "\n",
    "\n",
    "sys.path.append(\"../..\")\n",
    "\n",
    "from lib import utils as U\n",
    "from lib.ehr import load_dataset, load_dataset_scheme, load_dataset_config, Dataset\n",
    "from lib.ehr.interface import Patients, InterfaceConfig\n",
    "from lib.ehr.concepts import DemographicVectorConfig, LeadingObservableConfig\n"
   ],
   "outputs": []
  },
  {
   "cell_type": "code",
   "execution_count": 3,
   "id": "99451f48",
   "metadata": {},
   "source": [
    "import logging\n",
    "logging.root.level = logging.DEBUG"
   ],
   "outputs": []
  },
  {
   "cell_type": "code",
   "execution_count": 4,
   "id": "17d853b3",
   "metadata": {},
   "source": [
    "tag = 'M4ICU'\n",
    "PATH = f'{os.environ.get(\"HOME\")}/GP/ehr-data/mimic4icu-cohort'\n",
    "sample = 30000\n",
    "cache =  f'cached_inteface/patients_{tag}_{sample or \"\"}'\n",
    "dataset_config = load_dataset_config(tag, \n",
    "                                     sample=sample,\n",
    "                                     path=PATH)"
   ],
   "outputs": []
  },
  {
   "cell_type": "code",
   "execution_count": 5,
   "id": "7ed894e3",
   "metadata": {},
   "source": [
    "cache"
   ],
   "outputs": []
  },
  {
   "cell_type": "markdown",
   "id": "05d63425",
   "metadata": {},
   "source": [
    "##### Possible Interface Scheme Configurations"
   ]
  },
  {
   "cell_type": "code",
   "execution_count": 6,
   "id": "ee0457bb",
   "metadata": {},
   "source": [
    "import json\n",
    "dataset_scheme = load_dataset_scheme(tag)\n",
    "interface_schem_options = dataset_scheme.supported_target_scheme_options\n",
    "print(json.dumps(interface_schem_options, sort_keys=True, indent=4))"
   ],
   "outputs": []
  },
  {
   "cell_type": "markdown",
   "id": "07ad1a84",
   "metadata": {},
   "source": [
    "#### Leading Observable for Early Prediction Task"
   ]
  },
  {
   "cell_type": "code",
   "execution_count": 7,
   "id": "e2268607",
   "metadata": {},
   "source": [
    "scheme_df = dataset_scheme.obs.as_dataframe()\n",
    "display(scheme_df[scheme_df.desc.str.contains('aki')])"
   ],
   "outputs": []
  },
  {
   "cell_type": "code",
   "execution_count": 8,
   "id": "a573f669",
   "metadata": {},
   "source": [
    "\n",
    "# Demographic vector attributes\n",
    "demographic_vector_conf = DemographicVectorConfig(\n",
    "    age=False, \n",
    "    gender=False, \n",
    "    ethnicity=False\n",
    ")\n",
    "\n",
    "# Leading \n",
    "leading_AKI = LeadingObservableConfig(leading_hours=tuple(6 * i for i in range(1, 13)),\n",
    "                                      window_aggregate='max',\n",
    "                                      scheme=dataset_scheme.obs,\n",
    "                                      index=42)"
   ],
   "outputs": []
  },
  {
   "cell_type": "code",
   "execution_count": 9,
   "id": "f7ee7624",
   "metadata": {},
   "source": [
    "interface_scheme = dataset_scheme.make_target_scheme_config(dx='DxICD9',\n",
    "                                                            outcome='dx_icd9_filter_v3_groups',\n",
    "                                                            ethnicity='MIMIC4Eth5')\n",
    "interface_config = InterfaceConfig(scheme=interface_scheme,\n",
    "                                   dataset_scheme=dataset_scheme,\n",
    "                                   demographic_vector=demographic_vector_conf,\n",
    "                                   leading_observable=leading_AKI,\n",
    "                                   cache=cache)\n",
    "\n",
    "def dataset_gen(dataset_config):\n",
    "    dataset = load_dataset(config=dataset_config)\n",
    "    # Use training-split for fitting the outlier_remover and the scalers.\n",
    "    splits = dataset.random_splits([0.8, 0.9], random_seed=42, balanced='admissions')\n",
    "    # Outlier removal\n",
    "    outlier_remover = dataset.fit_outlier_remover(splits[0])\n",
    "    dataset = dataset.remove_outliers(outlier_remover)\n",
    "\n",
    "    # Scale\n",
    "    scalers = dataset.fit_scalers(splits[0])\n",
    "    return dataset.apply_scalers(scalers)\n",
    "        "
   ],
   "outputs": []
  },
  {
   "cell_type": "code",
   "execution_count": 10,
   "id": "0da45b5c",
   "metadata": {},
   "source": [
    "m4patients = Patients.try_load_cached(interface_config,\n",
    "                                      dataset_config=dataset_config,\n",
    "                                      dataset_generator=dataset_gen,\n",
    "                                      num_workers=8)"
   ],
   "outputs": []
  },
  {
   "cell_type": "code",
   "execution_count": 14,
   "id": "d06795c0",
   "metadata": {},
   "source": [
    "len(m4patients.subjects)"
   ],
   "outputs": []
  },
  {
   "cell_type": "code",
   "execution_count": 18,
   "id": "a7cc46ec",
   "metadata": {},
   "source": [
    "m4patients.config.leading_observable.index"
   ],
   "outputs": []
  },
  {
   "cell_type": "code",
   "execution_count": 21,
   "id": "e0228f2c",
   "metadata": {},
   "source": [
    "sub_ids = sorted(m4patients.subjects)\n",
    "sid = 0\n",
    "aid = 3\n",
    "adm = m4patients.subjects[sub_ids[sid]].admissions[aid]\n",
    "adm"
   ],
   "outputs": []
  },
  {
   "cell_type": "code",
   "execution_count": 38,
   "id": "5cd179db",
   "metadata": {},
   "source": [
    "adm.interventions.time"
   ],
   "outputs": []
  },
  {
   "cell_type": "code",
   "execution_count": 31,
   "id": "e3557c8e",
   "metadata": {},
   "source": [
    "all_obs = adm.observables[0].concat(adm.observables)"
   ],
   "outputs": []
  },
  {
   "cell_type": "code",
   "execution_count": 37,
   "id": "b8248a40",
   "metadata": {},
   "source": [
    "all_obs.as_dataframe(dataset_scheme.obs, True)"
   ],
   "outputs": []
  },
  {
   "cell_type": "code",
   "execution_count": null,
   "id": "d3b9b5f9",
   "metadata": {},
   "source": [],
   "outputs": []
  },
  {
   "cell_type": "code",
   "execution_count": null,
   "id": "d6f54e97",
   "metadata": {},
   "source": [
    "all_obs.value[:, 42]\n",
    "# value[:, 42]"
   ],
   "outputs": []
  },
  {
   "cell_type": "code",
   "execution_count": null,
   "id": "ad03a128",
   "metadata": {},
   "source": [
    "all_leading = adm.leading_observable[0].concat(adm.leading_observable)\n",
    "all_leading.value"
   ],
   "outputs": []
  },
  {
   "cell_type": "code",
   "execution_count": null,
   "id": "b40e3ff4",
   "metadata": {},
   "source": [
    "all_leading.mask"
   ],
   "outputs": []
  },
  {
   "cell_type": "code",
   "execution_count": null,
   "id": "40512244",
   "metadata": {},
   "source": [
    "adm.leading_observable[0].mask"
   ],
   "outputs": []
  },
  {
   "cell_type": "code",
   "execution_count": null,
   "id": "cebd58c5",
   "metadata": {},
   "source": [
    "# m4inpatients.size_in_bytes() / 1024 ** 3"
   ],
   "outputs": []
  },
  {
   "cell_type": "code",
   "execution_count": null,
   "id": "b598eb42",
   "metadata": {},
   "source": [
    "# val_batch = m4inpatients.device_batch(splits[1])"
   ],
   "outputs": []
  },
  {
   "cell_type": "code",
   "execution_count": null,
   "id": "428f1548",
   "metadata": {},
   "source": [
    "# tst_batch = m4inpatients.device_batch(splits[2])"
   ],
   "outputs": []
  },
  {
   "cell_type": "code",
   "execution_count": null,
   "id": "0108a8a5",
   "metadata": {},
   "source": [
    "# val_batch.size_in_bytes() / 1024 ** 3, tst_batch.size_in_bytes() / 1024 ** 3"
   ],
   "outputs": []
  },
  {
   "cell_type": "code",
   "execution_count": null,
   "id": "84e24feb",
   "metadata": {},
   "source": [
    "# batch = m4inpatients.device_batch(splits[0][:32])"
   ],
   "outputs": []
  },
  {
   "cell_type": "code",
   "execution_count": null,
   "id": "0af85343",
   "metadata": {},
   "source": [
    "# batch.size_in_bytes() / 1024 ** 3"
   ],
   "outputs": []
  },
  {
   "cell_type": "code",
   "execution_count": null,
   "id": "0210e539",
   "metadata": {},
   "source": [
    "# len(batch.subjects)"
   ],
   "outputs": []
  },
  {
   "cell_type": "code",
   "execution_count": null,
   "id": "de0adf08",
   "metadata": {},
   "source": [
    "# batch.n_admissions()"
   ],
   "outputs": []
  },
  {
   "cell_type": "code",
   "execution_count": null,
   "id": "0464a3bb",
   "metadata": {},
   "source": [
    "# batch.n_segments()"
   ],
   "outputs": []
  },
  {
   "cell_type": "code",
   "execution_count": null,
   "id": "1b3711f3",
   "metadata": {},
   "source": [
    "# batch.n_obs_times()"
   ],
   "outputs": []
  },
  {
   "cell_type": "code",
   "execution_count": null,
   "id": "26fa5b6f",
   "metadata": {},
   "source": [
    "# import numpy as np\n",
    "# import matplotlib.pyplot as plt\n",
    "\n",
    "# a = m4inpatients_jax.obs_coocurrence_matrix\n",
    "# a = np.array(a)\n",
    "# plt.imshow(a, cmap='hot', interpolation='nearest')\n",
    "# plt.show()"
   ],
   "outputs": []
  },
  {
   "cell_type": "code",
   "execution_count": null,
   "id": "9756e21b",
   "metadata": {},
   "source": [
    "# s = batch.subjects[splits[0][6]].admissions[0]\n",
    "# s.observables[0].value"
   ],
   "outputs": []
  },
  {
   "cell_type": "code",
   "execution_count": null,
   "id": "0135d6c5",
   "metadata": {},
   "source": [
    "# batch.interval_hours(splits[0][:10])"
   ],
   "outputs": []
  },
  {
   "cell_type": "markdown",
   "id": "b66a64de",
   "metadata": {},
   "source": [
    "### التدريب على نموذج المعادلات التفاضلية الاعتيادية العصبية\n"
   ]
  },
  {
   "cell_type": "code",
   "execution_count": null,
   "id": "9442545b",
   "metadata": {},
   "source": [
    "from lib.ml import (InICENODE, InICENODEDimensions, InpatientEmbeddingDimensions, \n",
    "                    InTrainer, TrainerReporting, OptimizerConfig, WarmupConfig)\n",
    "from lib.metric import  (CodeAUC, UntilFirstCodeAUC, AdmissionAUC,\n",
    "                      CodeGroupTopAlarmAccuracy, LossMetric, ObsCodeLevelLossMetric)\n",
    "\n",
    "import jax.random as jrandom"
   ],
   "outputs": []
  },
  {
   "cell_type": "code",
   "execution_count": null,
   "id": "c911e2f3",
   "metadata": {},
   "source": [
    "emb_dims = InpatientEmbeddingDimensions(dx=30, inp=15, proc=15, \n",
    "                                        demo=0, \n",
    "                                        inp_proc_demo=10)\n",
    "dims = InICENODEDimensions(mem=15, obs=25, emb=emb_dims)\n",
    "key = jrandom.PRNGKey(0)\n",
    "\n",
    "m = InICENODE(dims=dims, \n",
    "              schemes=m4inpatients.schemes,\n",
    "              demographic_vector_config=m4inpatients.demographic_vector_config,\n",
    "              key=key)"
   ],
   "outputs": []
  },
  {
   "cell_type": "code",
   "execution_count": null,
   "id": "72d4f9c8",
   "metadata": {},
   "source": [
    "# res = m.batch_predict(m4inpatients.device_batch(), leave_pbar=True)"
   ],
   "outputs": []
  },
  {
   "cell_type": "code",
   "execution_count": null,
   "id": "3658579e",
   "metadata": {
    "scrolled": true
   },
   "source": [
    "splits = m4inpatients.random_splits([0.9, 0.95], \n",
    "                                    balanced='admissions')\n",
    "\n",
    "trainer = InTrainer(optimizer_config=OptimizerConfig(opt='adam', lr=1e-3),\n",
    "                    reg_hyperparams=None,\n",
    "                    epochs=80,\n",
    "                    batch_size=128,\n",
    "                    dx_loss='allpairs_sigmoid_rank',\n",
    "                    obs_loss='mse')\n",
    "\n",
    "warmup = WarmupConfig(epochs=0.1, \n",
    "                      batch_size=8,\n",
    "                      opt='adam', lr=1e-3, \n",
    "                      decay_rate=0.5)\n",
    "\n",
    "loss_metric =  LossMetric(m4inpatients, \n",
    "                          dx_loss=('softmax_bce', 'balanced_focal_softmax_bce', \n",
    "                                   'balanced_focal_bce', 'allpairs_exp_rank', 'allpairs_hard_rank', \n",
    "                                   'allpairs_sigmoid_rank'),\n",
    "                         obs_loss=('mse', 'mae', 'rms'))\n",
    "\n",
    "metrics = [CodeAUC(m4inpatients), \n",
    "           AdmissionAUC(m4inpatients), \n",
    "           CodeGroupTopAlarmAccuracy(m4inpatients, n_partitions=5, \n",
    "                                     top_k_list=[3, 5, 10, 15, 20],\n",
    "                                     train_split=splits[0]), \n",
    "           loss_metric]\n",
    "\n",
    "\n",
    "reporting = TrainerReporting(output_dir='inicenode',\n",
    "                             metrics=metrics,\n",
    "                             console=True,\n",
    "                             parameter_snapshots=True,\n",
    "                             config_json=True)"
   ],
   "outputs": []
  },
  {
   "cell_type": "code",
   "execution_count": null,
   "id": "d5090a9c",
   "metadata": {},
   "source": [
    "res = trainer(m, m4inpatients, \n",
    "              splits=splits,\n",
    "              reporting=reporting,\n",
    "              n_evals=100,\n",
    "              warmup_config=warmup,\n",
    "              continue_training=False)"
   ],
   "outputs": []
  },
  {
   "cell_type": "code",
   "execution_count": null,
   "id": "589840b1",
   "metadata": {},
   "source": [
    "import numpy as np\n",
    "import pandas as pd\n",
    "sigmoid = lambda x: 1 / (1 + np.exp(x))\n",
    "\n",
    "p_delta = np.array(np.linspace(0, 1, 11))\n",
    "scales = np.array([2**i for i in range(5)])\n",
    "p_delta_scaled = np.outer(p_delta, scales)\n",
    "leading_loss = sigmoid(p_delta_scaled)\n",
    "lagging_loss = sigmoid(-p_delta_scaled)\n",
    "df1 = pd.DataFrame(leading_loss, columns=[f'scale:{s}' for s in scales],\n",
    "                  index=p_delta).rename_axis('p_delta')\n",
    "df2 = pd.DataFrame(lagging_loss, columns=[f'scale:{s}' for s in scales],\n",
    "                  index=p_delta).rename_axis('p_delta')\n",
    "df3 = df1 / df2\n",
    "df1"
   ],
   "outputs": []
  },
  {
   "cell_type": "code",
   "execution_count": null,
   "id": "9eb5bc49",
   "metadata": {},
   "source": [
    "df2"
   ],
   "outputs": []
  },
  {
   "cell_type": "code",
   "execution_count": null,
   "id": "827f77ff",
   "metadata": {},
   "source": [
    "df3"
   ],
   "outputs": []
  }
 ],
 "metadata": {
  "kernelspec": {
   "display_name": "Python 3 (ipykernel)",
   "language": "python",
   "name": "python3"
  },
  "language_info": {
   "codemirror_mode": {
    "name": "ipython",
    "version": 3
   },
   "file_extension": ".py",
   "mimetype": "text/x-python",
   "name": "python",
   "nbconvert_exporter": "python",
   "pygments_lexer": "ipython3",
   "version": "3.9.17"
  }
 },
 "nbformat": 4,
 "nbformat_minor": 5
}
