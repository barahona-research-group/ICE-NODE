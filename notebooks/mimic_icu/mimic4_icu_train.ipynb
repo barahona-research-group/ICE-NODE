{
 "cells": [
  {
   "cell_type": "code",
   "execution_count": 1,
   "id": "ab383786",
   "metadata": {},
   "outputs": [],
   "source": [
    "%load_ext autoreload\n",
    "%autoreload 2\n",
    "import sys\n",
    "import os\n",
    "import glob\n",
    "import random\n",
    "from collections import defaultdict\n",
    "from pathlib import Path\n",
    "\n",
    "from IPython.display import display\n",
    "\n",
    "import pandas as pd\n",
    "import dask\n",
    "\n",
    "from tqdm import tqdm\n",
    "import jax\n",
    "jax.config.update('jax_platform_name', 'gpu')\n",
    "# jax.config.update('jax_log_compiles', True)\n",
    "# jax.config.update(\"jax_debug_nans\", True)\n",
    "# jax.config.update(\"jax_enable_x64\", True)"
   ]
  },
  {
   "cell_type": "code",
   "execution_count": 2,
   "id": "c83480cb",
   "metadata": {},
   "outputs": [],
   "source": [
    "\n",
    "\n",
    "sys.path.append(\"../..\")\n",
    "\n",
    "from lib import utils as U\n",
    "from lib.ehr.dataset import load_dataset, load_dataset_scheme, Dataset\n",
    "from lib.ehr.interface import Patients\n",
    "from lib.ehr.concepts import DemographicVectorConfig\n"
   ]
  },
  {
   "cell_type": "code",
   "execution_count": 3,
   "id": "99451f48",
   "metadata": {},
   "outputs": [],
   "source": [
    "import logging\n",
    "logging.root.level = logging.INFO"
   ]
  },
  {
   "cell_type": "code",
   "execution_count": 4,
   "id": "17d853b3",
   "metadata": {},
   "outputs": [],
   "source": [
    "# Assign the folder of the dataset to `DATA_FILE`.\n",
    "\n",
    "HOME = os.environ.get('HOME')\n",
    "DATA_DIR = f'{HOME}/GP/ehr-data'\n",
    "SOURCE_DIR = os.path.abspath(\"..\")\n",
    "cache_to_disk = 'cached_inteface/m4inpatients8000'\n",
    "use_cached =  False #'cached_inteface/m4inpatients_8000' #cache_to_disk        # False # \n"
   ]
  },
  {
   "cell_type": "markdown",
   "id": "48c4fd08",
   "metadata": {},
   "source": [
    "##### Possible Interface Scheme Configurations"
   ]
  },
  {
   "cell_type": "code",
   "execution_count": 5,
   "id": "ee0457bb",
   "metadata": {},
   "outputs": [
    {
     "name": "stdout",
     "output_type": "stream",
     "text": [
      "{\n",
      "    \"dx\": [\n",
      "        \"DxICD10\",\n",
      "        \"DxCCS\",\n",
      "        \"DxFlatCCS\",\n",
      "        \"DxICD9\"\n",
      "    ],\n",
      "    \"ethnicity\": [\n",
      "        \"MIMIC4Eth32\",\n",
      "        \"MIMIC4Eth5\"\n",
      "    ],\n",
      "    \"gender\": [\n",
      "        \"Gender\"\n",
      "    ],\n",
      "    \"int_input\": [\n",
      "        \"MIMICInput\",\n",
      "        \"MIMICInputGroups\"\n",
      "    ],\n",
      "    \"int_proc\": [\n",
      "        \"MIMICProcedures\",\n",
      "        \"MIMICProcedureGroups\"\n",
      "    ],\n",
      "    \"obs\": [\n",
      "        \"MIMICObservables\"\n",
      "    ],\n",
      "    \"outcome\": [\n",
      "        \"dx_icd9_filter_v2_groups\",\n",
      "        \"dx_flatccs_filter_v1\",\n",
      "        \"dx_icd9_filter_v3_groups\",\n",
      "        \"dx_icd9_filter_v1\",\n",
      "        \"dx_flatccs_mlhc_groups\"\n",
      "    ]\n",
      "}\n"
     ]
    }
   ],
   "source": [
    "import json\n",
    "interface_schem_options = load_dataset_scheme('M4ICU').supported_target_scheme_options\n",
    "print(json.dumps(interface_schem_options, sort_keys=True, indent=4))\n",
    "\n"
   ]
  },
  {
   "cell_type": "code",
   "execution_count": 6,
   "id": "7b89bd99",
   "metadata": {},
   "outputs": [],
   "source": [
    "interface_scheme_kw = dict(dx='DxCCS',\n",
    "                           outcome='dx_flatccs_filter_v1',\n",
    "                           ethnicity='MIMIC4Eth5')"
   ]
  },
  {
   "cell_type": "code",
   "execution_count": 7,
   "id": "0da45b5c",
   "metadata": {},
   "outputs": [
    {
     "name": "stderr",
     "output_type": "stream",
     "text": [
      "/home/asem/GP/ICENODE/notebooks/mimic_icu/../../lib/ehr/dataset.py:1137: PerformanceWarning: Adding/subtracting object-dtype array to DatetimeArray not vectorized.\n",
      "  dob = anchor_date + anchor_age\n",
      "INFO:jax._src.xla_bridge:Unable to initialize backend 'rocm': NOT_FOUND: Could not find registered platform with name: \"rocm\". Available platform names are: Interpreter CUDA\n",
      "INFO:jax._src.xla_bridge:Unable to initialize backend 'tpu': module 'jaxlib.xla_extension' has no attribute 'get_tpu_client'\n"
     ]
    }
   ],
   "source": [
    "if use_cached:\n",
    "    m4inpatients = Patients.load(use_cached)\n",
    "    splits = m4inpatients.dataset.random_splits([0.8, 0.9], random_seed=42, balanced='admissions')\n",
    "\n",
    "else:\n",
    "    with U.modified_environ(DATA_DIR=DATA_DIR), dask.config.set(scheduler='processes', num_workers=12):\n",
    "        \n",
    "        # Load dataset\n",
    "        m4icu_dataset = load_dataset('M4ICU', sample=8000)\n",
    "        # Use training-split for fitting the outlier_remover and the scalers.\n",
    "        splits = m4icu_dataset.random_splits([0.8, 0.9], random_seed=42, balanced='admissions')\n",
    "        # Outlier removal\n",
    "        outlier_remover = m4icu_dataset.fit_outlier_remover(splits[0])\n",
    "        m4icu_dataset = m4icu_dataset.remove_outliers(outlier_remover)\n",
    "        \n",
    "        # Scale\n",
    "        scalers = m4icu_dataset.fit_scalers(splits[0])\n",
    "        m4icu_dataset = m4icu_dataset.apply_scalers(scalers)\n",
    "        \n",
    "        # Demographic vector attributes\n",
    "        demographic_vector_conf = DemographicVectorConfig(\n",
    "            age=False, \n",
    "            gender=False, \n",
    "            ethnicity=False\n",
    "        )\n",
    "        # Load interface\n",
    "        m4inpatients = Patients(\n",
    "            m4icu_dataset, demographic_vector_conf,\n",
    "            **interface_scheme_kw\n",
    "        ).load_subjects(num_workers=12)\n",
    "\n",
    "        # Cache to disk\n",
    "        m4inpatients.save(cache_to_disk, overwrite=True)"
   ]
  },
  {
   "cell_type": "code",
   "execution_count": 8,
   "id": "d06795c0",
   "metadata": {},
   "outputs": [
    {
     "data": {
      "text/plain": [
       "7984"
      ]
     },
     "execution_count": 8,
     "metadata": {},
     "output_type": "execute_result"
    }
   ],
   "source": [
    "len(m4inpatients.subjects)"
   ]
  },
  {
   "cell_type": "code",
   "execution_count": 9,
   "id": "cebd58c5",
   "metadata": {},
   "outputs": [],
   "source": [
    "# m4inpatients.size_in_bytes() / 1024 ** 3"
   ]
  },
  {
   "cell_type": "code",
   "execution_count": 10,
   "id": "b598eb42",
   "metadata": {},
   "outputs": [],
   "source": [
    "# val_batch = m4inpatients.device_batch(splits[1])"
   ]
  },
  {
   "cell_type": "code",
   "execution_count": 11,
   "id": "428f1548",
   "metadata": {},
   "outputs": [],
   "source": [
    "# tst_batch = m4inpatients.device_batch(splits[2])"
   ]
  },
  {
   "cell_type": "code",
   "execution_count": 12,
   "id": "0108a8a5",
   "metadata": {},
   "outputs": [],
   "source": [
    "# val_batch.size_in_bytes() / 1024 ** 3, tst_batch.size_in_bytes() / 1024 ** 3"
   ]
  },
  {
   "cell_type": "code",
   "execution_count": 13,
   "id": "84e24feb",
   "metadata": {},
   "outputs": [],
   "source": [
    "# batch = m4inpatients.device_batch(splits[0][:32])"
   ]
  },
  {
   "cell_type": "code",
   "execution_count": 14,
   "id": "0af85343",
   "metadata": {},
   "outputs": [],
   "source": [
    "# batch.size_in_bytes() / 1024 ** 3"
   ]
  },
  {
   "cell_type": "code",
   "execution_count": 15,
   "id": "0210e539",
   "metadata": {},
   "outputs": [],
   "source": [
    "# len(batch.subjects)"
   ]
  },
  {
   "cell_type": "code",
   "execution_count": 16,
   "id": "de0adf08",
   "metadata": {},
   "outputs": [],
   "source": [
    "# batch.n_admissions()"
   ]
  },
  {
   "cell_type": "code",
   "execution_count": 17,
   "id": "0464a3bb",
   "metadata": {},
   "outputs": [],
   "source": [
    "# batch.n_segments()"
   ]
  },
  {
   "cell_type": "code",
   "execution_count": 18,
   "id": "1b3711f3",
   "metadata": {},
   "outputs": [],
   "source": [
    "# batch.n_obs_times()"
   ]
  },
  {
   "cell_type": "code",
   "execution_count": 19,
   "id": "26fa5b6f",
   "metadata": {},
   "outputs": [],
   "source": [
    "# import numpy as np\n",
    "# import matplotlib.pyplot as plt\n",
    "\n",
    "# a = m4inpatients_jax.obs_coocurrence_matrix\n",
    "# a = np.array(a)\n",
    "# plt.imshow(a, cmap='hot', interpolation='nearest')\n",
    "# plt.show()"
   ]
  },
  {
   "cell_type": "code",
   "execution_count": 20,
   "id": "9756e21b",
   "metadata": {},
   "outputs": [],
   "source": [
    "# s = batch.subjects[splits[0][6]].admissions[0]\n",
    "# s.observables[0].value"
   ]
  },
  {
   "cell_type": "code",
   "execution_count": 21,
   "id": "0135d6c5",
   "metadata": {},
   "outputs": [],
   "source": [
    "# batch.interval_hours(splits[0][:10])"
   ]
  },
  {
   "cell_type": "markdown",
   "id": "b66a64de",
   "metadata": {},
   "source": [
    "### التدريب على نموذج المعادلات التفاضلية الاعتيادية العصبية\n"
   ]
  },
  {
   "cell_type": "code",
   "execution_count": 22,
   "id": "9442545b",
   "metadata": {},
   "outputs": [],
   "source": [
    "from lib.ml import (InICENODE, InICENODEDimensions, InpatientEmbeddingDimensions, \n",
    "                    InTrainer, TrainerReporting, OptimizerConfig, WarmupConfig)\n",
    "from lib.metric import  (CodeAUC, UntilFirstCodeAUC, AdmissionAUC,\n",
    "                      CodeGroupTopAlarmAccuracy, LossMetric, ObsCodeLevelLossMetric)\n",
    "\n",
    "import jax.random as jrandom"
   ]
  },
  {
   "cell_type": "code",
   "execution_count": 25,
   "id": "c911e2f3",
   "metadata": {},
   "outputs": [],
   "source": [
    "emb_dims = InpatientEmbeddingDimensions(dx=50, inp=15, proc=15, \n",
    "                                        demo=0, \n",
    "                                        inp_proc_demo=10)\n",
    "dims = InICENODEDimensions(mem=15, obs=25, emb=emb_dims)\n",
    "key = jrandom.PRNGKey(0)\n",
    "\n",
    "m = InICENODE(dims=dims, \n",
    "              schemes=m4inpatients.schemes,\n",
    "              demographic_vector_config=m4inpatients.demographic_vector_config,\n",
    "              key=key)"
   ]
  },
  {
   "cell_type": "code",
   "execution_count": 26,
   "id": "72d4f9c8",
   "metadata": {},
   "outputs": [],
   "source": [
    "# res = m.batch_predict(m4inpatients.device_batch(), leave_pbar=True)"
   ]
  },
  {
   "cell_type": "code",
   "execution_count": 27,
   "id": "3658579e",
   "metadata": {
    "scrolled": true
   },
   "outputs": [],
   "source": [
    "splits = m4inpatients.random_splits([0.9, 0.95], \n",
    "                                    balanced='admissions')\n",
    "\n",
    "trainer = InTrainer(optimizer_config=OptimizerConfig(opt='adam', lr=1e-3),\n",
    "                    reg_hyperparams=None,\n",
    "                    epochs=80,\n",
    "                    batch_size=128,\n",
    "                    dx_loss='allpairs_sigmoid_rank',\n",
    "                    obs_loss='mse')\n",
    "\n",
    "warmup = WarmupConfig(epochs=0.1, \n",
    "                      batch_size=8,\n",
    "                      opt='adam', lr=1e-3, \n",
    "                      decay_rate=0.5)\n",
    "\n",
    "loss_metric =  LossMetric(m4inpatients, \n",
    "                          dx_loss=('softmax_bce', 'balanced_focal_softmax_bce', \n",
    "                                   'balanced_focal_bce', 'allpairs_exp_rank', 'allpairs_hard_rank', \n",
    "                                   'allpairs_sigmoid_rank'),\n",
    "                         obs_loss=('mse', 'mae', 'rms'))\n",
    "\n",
    "metrics = [CodeAUC(m4inpatients), \n",
    "           AdmissionAUC(m4inpatients), \n",
    "           CodeGroupTopAlarmAccuracy(m4inpatients, n_partitions=5, \n",
    "                                     top_k_list=[3, 5, 10, 15, 20],\n",
    "                                     train_split=splits[0]), \n",
    "           loss_metric]\n",
    "\n",
    "\n",
    "reporting = TrainerReporting(output_dir='inicenode',\n",
    "                             metrics=metrics,\n",
    "                             console=True,\n",
    "                             parameter_snapshots=True,\n",
    "                             config_json=True)"
   ]
  },
  {
   "cell_type": "code",
   "execution_count": null,
   "id": "d5090a9c",
   "metadata": {},
   "outputs": [
    {
     "name": "stderr",
     "output_type": "stream",
     "text": [
      "INFO:root:Warming up...\n"
     ]
    },
    {
     "data": {
      "application/vnd.jupyter.widget-view+json": {
       "model_id": "",
       "version_major": 2,
       "version_minor": 0
      },
      "text/plain": [
       "Loading to device: 0subject [00:00, ?subject/s]"
      ]
     },
     "metadata": {},
     "output_type": "display_data"
    },
    {
     "data": {
      "application/vnd.jupyter.widget-view+json": {
       "model_id": "42427bf3cb4545398abec0c40034d8fc",
       "version_major": 2,
       "version_minor": 0
      },
      "text/plain": [
       "  0%|          | 0/1 [00:00<?, ?Epoch/s]"
      ]
     },
     "metadata": {},
     "output_type": "display_data"
    },
    {
     "data": {
      "application/vnd.jupyter.widget-view+json": {
       "model_id": "85a782ced2c24615b9a17c16940b4d19",
       "version_major": 2,
       "version_minor": 0
      },
      "text/plain": [
       "  0%|          | 0/295 [00:00<?, ?Batch/s]"
      ]
     },
     "metadata": {},
     "output_type": "display_data"
    },
    {
     "data": {
      "application/vnd.jupyter.widget-view+json": {
       "model_id": "",
       "version_major": 2,
       "version_minor": 0
      },
      "text/plain": [
       "Loading to device:   0%|          | 0/4 [00:00<?, ?subject/s]"
      ]
     },
     "metadata": {},
     "output_type": "display_data"
    },
    {
     "data": {
      "application/vnd.jupyter.widget-view+json": {
       "model_id": "e049a5208d8c45e28c4a41ecb199a996",
       "version_major": 2,
       "version_minor": 0
      },
      "text/plain": [
       "Embedding:   0%|          | 0/4 [00:00<?, ?subject/s]"
      ]
     },
     "metadata": {},
     "output_type": "display_data"
    }
   ],
   "source": [
    "res = trainer(m, m4inpatients, \n",
    "              splits=splits,\n",
    "              reporting=reporting,\n",
    "              n_evals=100,\n",
    "              warmup_config=warmup,\n",
    "              continue_training=False)"
   ]
  },
  {
   "cell_type": "code",
   "execution_count": null,
   "id": "589840b1",
   "metadata": {},
   "outputs": [],
   "source": [
    "import numpy as np\n",
    "import pandas as pd\n",
    "sigmoid = lambda x: 1 / (1 + np.exp(x))\n",
    "\n",
    "p_delta = np.array(np.linspace(0, 1, 11))\n",
    "scales = np.array([2**i for i in range(5)])\n",
    "p_delta_scaled = np.outer(p_delta, scales)\n",
    "leading_loss = sigmoid(p_delta_scaled)\n",
    "lagging_loss = sigmoid(-p_delta_scaled)\n",
    "df1 = pd.DataFrame(leading_loss, columns=[f'scale:{s}' for s in scales],\n",
    "                  index=p_delta).rename_axis('p_delta')\n",
    "df2 = pd.DataFrame(lagging_loss, columns=[f'scale:{s}' for s in scales],\n",
    "                  index=p_delta).rename_axis('p_delta')\n",
    "df3 = df1 / df2\n",
    "df1"
   ]
  },
  {
   "cell_type": "code",
   "execution_count": null,
   "id": "9eb5bc49",
   "metadata": {},
   "outputs": [],
   "source": [
    "df2"
   ]
  },
  {
   "cell_type": "code",
   "execution_count": null,
   "id": "827f77ff",
   "metadata": {},
   "outputs": [],
   "source": [
    "df3"
   ]
  }
 ],
 "metadata": {
  "kernelspec": {
   "display_name": "Python 3 (ipykernel)",
   "language": "python",
   "name": "python3"
  },
  "language_info": {
   "codemirror_mode": {
    "name": "ipython",
    "version": 3
   },
   "file_extension": ".py",
   "mimetype": "text/x-python",
   "name": "python",
   "nbconvert_exporter": "python",
   "pygments_lexer": "ipython3",
   "version": "3.9.17"
  }
 },
 "nbformat": 4,
 "nbformat_minor": 5
}
