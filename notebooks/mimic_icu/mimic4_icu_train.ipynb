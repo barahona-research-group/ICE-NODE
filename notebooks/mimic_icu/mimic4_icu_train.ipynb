{
 "cells": [
  {
   "cell_type": "code",
   "execution_count": 1,
   "id": "ab383786",
   "metadata": {},
   "outputs": [],
   "source": [
    "%load_ext autoreload\n",
    "%autoreload 2\n",
    "import sys\n",
    "import os\n",
    "import glob\n",
    "import random\n",
    "from collections import defaultdict\n",
    "from pathlib import Path\n",
    "\n",
    "from IPython.display import display\n",
    "\n",
    "import pandas as pd\n",
    "import dask\n",
    "\n",
    "from tqdm import tqdm\n",
    "import jax\n",
    "jax.config.update('jax_platform_name', 'cpu')\n",
    "# jax.config.update('jax_log_compiles', True)\n",
    "# jax.config.update(\"jax_debug_nans\", True)\n",
    "# jax.config.update(\"jax_enable_x64\", True)"
   ]
  },
  {
   "cell_type": "code",
   "execution_count": 2,
   "id": "c83480cb",
   "metadata": {},
   "outputs": [],
   "source": [
    "\n",
    "\n",
    "sys.path.append(\"../..\")\n",
    "\n",
    "from lib import utils as U\n",
    "from lib.ehr.dataset import load_dataset, load_dataset_scheme, load_dataset_config, Dataset\n",
    "from lib.ehr.interface import Patients, InterfaceConfig\n",
    "from lib.ehr.concepts import DemographicVectorConfig, LeadingObservableConfig\n"
   ]
  },
  {
   "cell_type": "code",
   "execution_count": 3,
   "id": "99451f48",
   "metadata": {},
   "outputs": [],
   "source": [
    "import logging\n",
    "logging.root.level = logging.DEBUG"
   ]
  },
  {
   "cell_type": "code",
   "execution_count": 4,
   "id": "17d853b3",
   "metadata": {},
   "outputs": [],
   "source": [
    "tag = 'M4ICU'\n",
    "PATH = f'{os.environ.get(\"HOME\")}/GP/ehr-data/mimic4icu-cohort'\n",
    "sample = None\n",
    "cache =  f'cached_inteface/patients_{tag}_{sample or \"\"}'\n",
    "dataset_config = load_dataset_config(tag, \n",
    "                                     sample=sample,\n",
    "                                     path=PATH)"
   ]
  },
  {
   "cell_type": "code",
   "execution_count": 5,
   "id": "7ed894e3",
   "metadata": {},
   "outputs": [
    {
     "data": {
      "text/plain": [
       "'cached_inteface/patients_M4ICU_'"
      ]
     },
     "execution_count": 5,
     "metadata": {},
     "output_type": "execute_result"
    }
   ],
   "source": [
    "cache"
   ]
  },
  {
   "cell_type": "markdown",
   "id": "05d63425",
   "metadata": {},
   "source": [
    "##### Possible Interface Scheme Configurations"
   ]
  },
  {
   "cell_type": "code",
   "execution_count": 6,
   "id": "ee0457bb",
   "metadata": {},
   "outputs": [
    {
     "name": "stderr",
     "output_type": "stream",
     "text": [
      "DEBUG:root:Constructing dx_icd9 (<class 'lib.ehr.coding_scheme.DxICD9'>) scheme\n",
      "DEBUG:root:Constructing dx_icd9 (<class 'lib.ehr.coding_scheme.DxICD9'>) scheme\n",
      "DEBUG:root:Constructing dx_icd9_filter_v3_groups (<class 'lib.ehr.coding_scheme.OutcomeExtractor'>) scheme\n",
      "DEBUG:root:Constructing int_mimic4_proc (<class 'lib.ehr.coding_scheme.MIMICProcedures'>) scheme\n",
      "DEBUG:root:Constructing int_mimic4_input (<class 'lib.ehr.coding_scheme.MIMICInput'>) scheme\n",
      "DEBUG:root:Constructing int_mimic4_obs (<class 'lib.ehr.coding_scheme.MIMICObservables'>) scheme\n",
      "DEBUG:root:Constructing mimic4_eth32 (<class 'lib.ehr.coding_scheme.MIMIC4Eth32'>) scheme\n",
      "DEBUG:root:Constructing gender (<class 'lib.ehr.coding_scheme.Gender'>) scheme\n",
      "DEBUG:root:Constructing dx_icd9 (<class 'lib.ehr.coding_scheme.DxICD9'>) scheme\n",
      "DEBUG:root:Constructing dx_icd10 (<class 'lib.ehr.coding_scheme.DxICD10'>) scheme\n"
     ]
    },
    {
     "name": "stdout",
     "output_type": "stream",
     "text": [
      "{\n",
      "    \"dx\": [\n",
      "        \"DxICD10\",\n",
      "        \"DxICD9\",\n",
      "        \"DxFlatCCS\",\n",
      "        \"DxCCS\"\n",
      "    ],\n",
      "    \"ethnicity\": [\n",
      "        \"MIMIC4Eth32\",\n",
      "        \"MIMIC4Eth5\"\n",
      "    ],\n",
      "    \"gender\": [\n",
      "        \"Gender\"\n",
      "    ],\n",
      "    \"int_input\": [\n",
      "        \"MIMICInput\",\n",
      "        \"MIMICInputGroups\"\n",
      "    ],\n",
      "    \"int_proc\": [\n",
      "        \"MIMICProcedures\",\n",
      "        \"MIMICProcedureGroups\"\n",
      "    ],\n",
      "    \"obs\": [\n",
      "        \"MIMICObservables\"\n",
      "    ],\n",
      "    \"outcome\": [\n",
      "        \"dx_flatccs_mlhc_groups\",\n",
      "        \"dx_icd9_filter_v1\",\n",
      "        \"dx_icd9_filter_v2_groups\",\n",
      "        \"dx_icd9_filter_v3_groups\",\n",
      "        \"dx_flatccs_filter_v1\"\n",
      "    ]\n",
      "}\n"
     ]
    }
   ],
   "source": [
    "import json\n",
    "dataset_scheme = load_dataset_scheme(tag)\n",
    "interface_schem_options = dataset_scheme.supported_target_scheme_options\n",
    "print(json.dumps(interface_schem_options, sort_keys=True, indent=4))"
   ]
  },
  {
   "cell_type": "markdown",
   "id": "07ad1a84",
   "metadata": {},
   "source": [
    "#### Leading Observable for Early Prediction Task"
   ]
  },
  {
   "cell_type": "code",
   "execution_count": 7,
   "id": "e2268607",
   "metadata": {},
   "outputs": [
    {
     "data": {
      "text/html": [
       "<div>\n",
       "<style scoped>\n",
       "    .dataframe tbody tr th:only-of-type {\n",
       "        vertical-align: middle;\n",
       "    }\n",
       "\n",
       "    .dataframe tbody tr th {\n",
       "        vertical-align: top;\n",
       "    }\n",
       "\n",
       "    .dataframe thead th {\n",
       "        text-align: right;\n",
       "    }\n",
       "</style>\n",
       "<table border=\"1\" class=\"dataframe\">\n",
       "  <thead>\n",
       "    <tr style=\"text-align: right;\">\n",
       "      <th></th>\n",
       "      <th>code</th>\n",
       "      <th>desc</th>\n",
       "    </tr>\n",
       "  </thead>\n",
       "  <tbody>\n",
       "    <tr>\n",
       "      <th>42</th>\n",
       "      <td>o42</td>\n",
       "      <td>aki_stage_smoothed</td>\n",
       "    </tr>\n",
       "  </tbody>\n",
       "</table>\n",
       "</div>"
      ],
      "text/plain": [
       "   code                desc\n",
       "42  o42  aki_stage_smoothed"
      ]
     },
     "metadata": {},
     "output_type": "display_data"
    }
   ],
   "source": [
    "scheme_df = dataset_scheme.obs.as_dataframe()\n",
    "display(scheme_df[scheme_df.desc.str.contains('aki')])"
   ]
  },
  {
   "cell_type": "code",
   "execution_count": 8,
   "id": "a573f669",
   "metadata": {},
   "outputs": [],
   "source": [
    "\n",
    "# Demographic vector attributes\n",
    "demographic_vector_conf = DemographicVectorConfig(\n",
    "    age=False, \n",
    "    gender=False, \n",
    "    ethnicity=False\n",
    ")\n",
    "\n",
    "# Leading \n",
    "leading_AKI = LeadingObservableConfig(leading_hours=tuple(6 * i for i in range(1, 13)),\n",
    "                                      window_aggregate='max',\n",
    "                                      scheme=dataset_scheme.obs,\n",
    "                                      index=42)"
   ]
  },
  {
   "cell_type": "code",
   "execution_count": 9,
   "id": "f7ee7624",
   "metadata": {},
   "outputs": [],
   "source": [
    "interface_scheme = dataset_scheme.make_target_scheme_config(dx='DxICD9',\n",
    "                                                            outcome='dx_icd9_filter_v3_groups',\n",
    "                                                            ethnicity='MIMIC4Eth5')\n",
    "interface_config = InterfaceConfig(scheme=interface_scheme,\n",
    "                                   dataset_scheme=dataset_scheme,\n",
    "                                   demographic_vector=demographic_vector_conf,\n",
    "                                   leading_observable=leading_AKI,\n",
    "                                   cache=cache)\n",
    "\n",
    "def dataset_gen(dataset_config):\n",
    "    dataset = load_dataset(config=dataset_config)\n",
    "    # Use training-split for fitting the outlier_remover and the scalers.\n",
    "    splits = dataset.random_splits([0.8, 0.9], random_seed=42, balanced='admissions')\n",
    "    # Outlier removal\n",
    "    outlier_remover = dataset.fit_outlier_remover(splits[0])\n",
    "    dataset = dataset.remove_outliers(outlier_remover)\n",
    "\n",
    "    # Scale\n",
    "    scalers = dataset.fit_scalers(splits[0])\n",
    "    return dataset.apply_scalers(scalers)\n",
    "        "
   ]
  },
  {
   "cell_type": "code",
   "execution_count": null,
   "id": "0da45b5c",
   "metadata": {},
   "outputs": [
    {
     "name": "stderr",
     "output_type": "stream",
     "text": [
      "INFO:root:Cache does not match config, ignoring cache.\n",
      "INFO:root:Loading subjects from scratch.\n",
      "DEBUG:root:Constructing dx_icd9 (<class 'lib.ehr.coding_scheme.DxICD9'>) scheme\n",
      "DEBUG:root:Constructing dx_icd9 (<class 'lib.ehr.coding_scheme.DxICD9'>) scheme\n",
      "DEBUG:root:Constructing dx_icd9_filter_v3_groups (<class 'lib.ehr.coding_scheme.OutcomeExtractor'>) scheme\n",
      "DEBUG:root:Constructing int_mimic4_proc (<class 'lib.ehr.coding_scheme.MIMICProcedures'>) scheme\n",
      "DEBUG:root:Constructing int_mimic4_input (<class 'lib.ehr.coding_scheme.MIMICInput'>) scheme\n",
      "DEBUG:root:Constructing int_mimic4_obs (<class 'lib.ehr.coding_scheme.MIMICObservables'>) scheme\n",
      "DEBUG:root:Constructing mimic4_eth32 (<class 'lib.ehr.coding_scheme.MIMIC4Eth32'>) scheme\n",
      "DEBUG:root:Constructing gender (<class 'lib.ehr.coding_scheme.Gender'>) scheme\n",
      "DEBUG:root:Constructing dx_icd9 (<class 'lib.ehr.coding_scheme.DxICD9'>) scheme\n",
      "DEBUG:root:Constructing dx_icd10 (<class 'lib.ehr.coding_scheme.DxICD10'>) scheme\n",
      "DEBUG:root:Loading dataframe files\n",
      "DEBUG:fsspec.local:open file: /home/asem/GP/ehr-data/mimic4icu-cohort/adm_df.csv\n",
      "DEBUG:fsspec.local:open file: /home/asem/GP/ehr-data/mimic4icu-cohort/dx_df.csv\n",
      "DEBUG:fsspec.local:open file: /home/asem/GP/ehr-data/mimic4icu-cohort/static_df.csv\n",
      "DEBUG:fsspec.local:open file: /home/asem/GP/ehr-data/mimic4icu-cohort/obs_df.csv\n",
      "DEBUG:fsspec.local:open file: /home/asem/GP/ehr-data/mimic4icu-cohort/int_input.csv\n",
      "DEBUG:fsspec.local:open file: /home/asem/GP/ehr-data/mimic4icu-cohort/int_proc.csv\n",
      "DEBUG:root:[DONE] Loading dataframe files\n",
      "DEBUG:root:Preprocess admissions\n",
      "DEBUG:root:Removing subjects with at least one negative adm_interval: 84\n",
      "DEBUG:root:adm: Merging overlapping admissions\n",
      "DEBUG:root:adm: Merged 356 overlapping admissions\n",
      "DEBUG:root:[DONE] Preprocess admissions\n",
      "DEBUG:root:Matching admission_id\n",
      "DEBUG:root:[DONE] Matching admission_id\n",
      "DEBUG:root:Dataframes validation and time conversion\n",
      "DEBUG:root:Unrecognised ICD v['10'] codes: 3323 (28.74%)\n",
      "DEBUG:root:Unrecognised <class 'lib.ehr.coding_scheme.DxICD10'> codes (3323) to be removed (first 30): ['E08.3513', 'E10.3213', 'E10.3219', 'E10.3291', 'E10.3293', 'E10.3299', 'E10.3313', 'E10.3319', 'E10.3393', 'E10.3399', 'E10.3411', 'E10.3413', 'E10.3491', 'E10.3511', 'E10.3512', 'E10.3513', 'E10.3519', 'E10.3522', 'E10.3523', 'E10.3531', 'E10.3532', 'E10.3559', 'E10.3591', 'E10.3592', 'E10.3593', 'E10.3599', 'E11.3213', 'E11.3219', 'E11.3291', 'E11.3292']\n",
      "DEBUG:root:Unrecognised ICD v['9'] codes: 118 (1.63%)\n",
      "DEBUG:root:Unrecognised <class 'lib.ehr.coding_scheme.DxICD9'> codes (118) to be removed (first 30): ['041.49', '173.21', '173.22', '173.30', '173.31', '173.32', '173.40', '173.41', '173.42', '173.50', '173.51', '173.52', '173.59', '173.60', '173.61', '173.62', '173.70', '173.71', '173.72', '173.79', '173.80', '173.81', '173.82', '173.91', '173.92', '173.99', '282.40', '282.43', '282.44', '282.46']\n",
      "DEBUG:root:Removing subjects by matching demographic(-84)and admissions(-0)tables\n",
      "DEBUG:root:[DONE] Dataframes validation and time conversion\n",
      "DEBUG:root:Time casting..\n",
      "DEBUG:root:[DONE] Time casting..\n",
      "DEBUG:root:Dataframes validation and time conversion\n",
      "DEBUG:root:Removed codes: []\n",
      "DEBUG:root:Removed codes: ['Piggyback' 'Pre-Admission/Non-ICU Intake' 'Cath Lab Intake' 'Cell Saver']\n",
      "DEBUG:root:Removed codes: []\n",
      "DEBUG:root:Removing subjects with at least one nan input rate: 8\n",
      "DEBUG:root:Removing subjects by matching demographic(-8)and admissions(-0)tables\n",
      "DEBUG:root:[DONE] Dataframes validation and time conversion\n",
      "DEBUG:root:Removed 2324099 (0.023) outliers from obs\n",
      "DEBUG:root:Constructing dx_icd9 (<class 'lib.ehr.coding_scheme.DxICD9'>) scheme\n",
      "DEBUG:root:Constructing dx_icd9 (<class 'lib.ehr.coding_scheme.DxICD9'>) scheme\n",
      "DEBUG:root:Constructing dx_icd9_filter_v3_groups (<class 'lib.ehr.coding_scheme.OutcomeExtractor'>) scheme\n",
      "DEBUG:root:Constructing int_mimic4_grouped_proc (<class 'lib.ehr.coding_scheme.MIMICProcedureGroups'>) scheme\n",
      "DEBUG:root:Constructing int_mimic4_input_group (<class 'lib.ehr.coding_scheme.MIMICInputGroups'>) scheme\n",
      "DEBUG:root:Constructing int_mimic4_obs (<class 'lib.ehr.coding_scheme.MIMICObservables'>) scheme\n",
      "DEBUG:root:Constructing mimic4_eth5 (<class 'lib.ehr.coding_scheme.MIMIC4Eth5'>) scheme\n",
      "DEBUG:root:Constructing gender (<class 'lib.ehr.coding_scheme.Gender'>) scheme\n",
      "DEBUG:root:Constructing dx_icd9 (<class 'lib.ehr.coding_scheme.DxICD9'>) scheme\n",
      "DEBUG:root:Constructing mimic4_eth32 (<class 'lib.ehr.coding_scheme.MIMIC4Eth32'>) scheme\n",
      "DEBUG:root:Constructing mimic4_eth5 (<class 'lib.ehr.coding_scheme.MIMIC4Eth5'>) scheme\n",
      "DEBUG:root:Constructing int_mimic4_proc (<class 'lib.ehr.coding_scheme.MIMICProcedures'>) scheme\n",
      "DEBUG:root:Constructing int_mimic4_grouped_proc (<class 'lib.ehr.coding_scheme.MIMICProcedureGroups'>) scheme\n",
      "DEBUG:root:Target discrepancy\n",
      "DEBUG:root:M: int_mimic4_proc->int_mimic4_grouped_proc \n",
      "\n",
      "Mapping converts to codes that are not supported by the target scheme.\n",
      "|M-range - T|=1; |M-range - T|/|M-range|=0.02); first5(M-range - T)=['exclude']\n",
      "\n",
      "Target codes that not covered by the mapping. |T - M-range|=0; |T - M-range|/|T|=0.00; first5(T - M-range)=[]\n",
      "\n",
      "|M-range|=52; first5(M-range) ['abdomin_drain', 'adhesion_lysis', 'antibiotics', 'art_catheterization', 'arthrocentesis'].\n",
      "\n",
      "|T|=51; first5(T)=['abdomin_drain', 'adhesion_lysis', 'antibiotics', 'art_catheterization', 'arthrocentesis']\n",
      "        \n",
      "DEBUG:root:Constructing int_mimic4_input (<class 'lib.ehr.coding_scheme.MIMICInput'>) scheme\n",
      "DEBUG:root:Constructing int_mimic4_input_group (<class 'lib.ehr.coding_scheme.MIMICInputGroups'>) scheme\n",
      "DEBUG:root:Target discrepancy\n",
      "DEBUG:root:M: int_mimic4_input->int_mimic4_input_group \n",
      "\n",
      "Mapping converts to codes that are not supported by the target scheme.\n",
      "|M-range - T|=4; |M-range - T|/|M-range|=0.02); first5(M-range - T)=['Cath Lab Intake', 'Cell Saver', 'Piggyback', 'Pre-Admission/Non-ICU Intake']\n",
      "\n",
      "Target codes that not covered by the mapping. |T - M-range|=0; |T - M-range|/|T|=0.00; first5(T - M-range)=[]\n",
      "\n",
      "|M-range|=201; first5(M-range) ['ACD-A Citrate', 'Abciximab', 'Acetaminophen-IV', 'Acetylcysteine', 'Adenosine'].\n",
      "\n",
      "|T|=197; first5(T)=['ACD-A Citrate', 'Abciximab', 'Acetaminophen-IV', 'Acetylcysteine', 'Adenosine']\n",
      "        \n",
      "DEBUG:root:Constructing dx_icd10 (<class 'lib.ehr.coding_scheme.DxICD10'>) scheme\n",
      "DEBUG:root:Constructing dx_icd9 (<class 'lib.ehr.coding_scheme.DxICD9'>) scheme\n",
      "DEBUG:root:\n",
      "                            dx_icd10->dx_icd9 Unrecognised t_codes\n",
      "                            (169):\n",
      "                            ['041.41', '041.42', '041.43', '041.49', '173.00', '173.01', '173.02', '173.09', '173.10', '173.11', '173.12', '173.19', '173.20', '173.21', '173.22', '173.29', '173.30', '173.31', '173.32', '173.39']...\n",
      "DEBUG:root:\n",
      "                            dx_icd10->dx_icd9 Unrecognised s_codes\n",
      "                            (49910):\n",
      "                            ['E08.3211', 'E08.3212', 'E08.3213', 'E08.3219', 'E08.3291', 'E08.3292', 'E08.3293', 'E08.3299', 'E08.3311', 'E08.3312', 'E08.3313', 'E08.3319', 'E08.3391', 'E08.3392', 'E08.3393', 'E08.3399', 'E08.3411', 'E08.3412', 'E08.3413', 'E08.3419']...\n",
      "DEBUG:root:\n",
      "                            dx_icd10->dx_icd9 Unrecognised t_codes\n",
      "                            (169):\n",
      "                            ['041.41', '041.42', '041.43', '041.49', '173.00', '173.01', '173.02', '173.09', '173.10', '173.11', '173.12', '173.19', '173.20', '173.21', '173.22', '173.29', '173.30', '173.31', '173.32', '173.39']...\n",
      "DEBUG:root:\n",
      "                            dx_icd10->dx_icd9 Unrecognised s_codes\n",
      "                            (49910):\n",
      "                            ['E08.3211', 'E08.3212', 'E08.3213', 'E08.3219', 'E08.3291', 'E08.3292', 'E08.3293', 'E08.3299', 'E08.3311', 'E08.3312', 'E08.3313', 'E08.3319', 'E08.3391', 'E08.3392', 'E08.3393', 'E08.3399', 'E08.3411', 'E08.3412', 'E08.3413', 'E08.3419']...\n",
      "DEBUG:root:Source discrepancy\n",
      "DEBUG:root:M: dx_icd10->dx_icd9 \n",
      "\n",
      "Mapping converts codes that are not supported by the source scheme.|M-domain - S|=0; |M-domain - S|/|M-domain|=0.00); first5(M-domain - S)=[]\n",
      "\n",
      "Source codes that not covered by the mapping. |S - M-domain|=24464; |S - M-domain|/|S|=0.53; first5(S - M-domain)=['A00', 'A01', 'A01.0', 'A02', 'A02.2']\n",
      "\n",
      "|M-domain|=21405; first5(M-domain) ['A00.0', 'A00.1', 'A00.9', 'A01.00', 'A01.01'].\n",
      "\n",
      "|S|=45869; first5(S)=['A00', 'A00.0', 'A00.1', 'A00.9', 'A01']\n",
      "        \n"
     ]
    },
    {
     "name": "stderr",
     "output_type": "stream",
     "text": [
      "/home/asem/GP/ICENODE/notebooks/mimic_icu/../../lib/ehr/dataset.py:1211: PerformanceWarning: Adding/subtracting object-dtype array to DatetimeArray not vectorized.\n",
      "  dob = anchor_date + anchor_age\n",
      "DEBUG:root:Extracting dx codes...\n",
      "DEBUG:root:[DONE] Extracting dx codes\n",
      "DEBUG:root:Extracting dx codes history...\n",
      "DEBUG:root:[DONE] Extracting dx codes history\n",
      "DEBUG:root:Extracting outcome...\n",
      "DEBUG:root:[DONE] Extracting outcome\n",
      "DEBUG:root:Extracting procedures...\n",
      "DEBUG:root:[DONE] Extracting procedures\n",
      "DEBUG:root:Extracting inputs...\n",
      "DEBUG:root:[DONE] Extracting inputs\n",
      "DEBUG:root:Extracting observables...\n",
      "DEBUG:root:obs: filter adms\n",
      "DEBUG:root:obs: dasking\n",
      "DEBUG:root:obs: groupby\n",
      "DEBUG:root:obs: undasking\n"
     ]
    }
   ],
   "source": [
    "m4patients = Patients.try_load_cached(interface_config,\n",
    "                                      dataset_config=dataset_config,\n",
    "                                      dataset_generator=dataset_gen,\n",
    "                                      num_workers=8)"
   ]
  },
  {
   "cell_type": "code",
   "execution_count": null,
   "id": "d06795c0",
   "metadata": {},
   "outputs": [],
   "source": [
    "len(m4inpatients.subjects)"
   ]
  },
  {
   "cell_type": "code",
   "execution_count": null,
   "id": "fe3afc5e",
   "metadata": {},
   "outputs": [],
   "source": [
    "leading_AKI"
   ]
  },
  {
   "cell_type": "code",
   "execution_count": null,
   "id": "a7cc46ec",
   "metadata": {},
   "outputs": [],
   "source": [
    "m4inpatients.leading_observable_config.index"
   ]
  },
  {
   "cell_type": "code",
   "execution_count": null,
   "id": "e0228f2c",
   "metadata": {},
   "outputs": [],
   "source": [
    "sub_ids = sorted(m4inpatients.subjects)\n",
    "sid = 0\n",
    "aid = 4\n",
    "adm = m4inpatients.subjects[sub_ids[sid]].admissions[aid]\n",
    "adm"
   ]
  },
  {
   "cell_type": "code",
   "execution_count": null,
   "id": "5cd179db",
   "metadata": {},
   "outputs": [],
   "source": [
    "adm.interventions.time"
   ]
  },
  {
   "cell_type": "code",
   "execution_count": null,
   "id": "b8248a40",
   "metadata": {},
   "outputs": [],
   "source": [
    "all_obs = adm.observables[0].concat(adm.observables)\n",
    "all_obs.time"
   ]
  },
  {
   "cell_type": "code",
   "execution_count": null,
   "id": "d6f54e97",
   "metadata": {},
   "outputs": [],
   "source": [
    "all_obs.value[:, 42]\n",
    "# value[:, 42]"
   ]
  },
  {
   "cell_type": "code",
   "execution_count": null,
   "id": "ad03a128",
   "metadata": {},
   "outputs": [],
   "source": [
    "all_leading = adm.leading_observable[0].concat(adm.leading_observable)\n",
    "all_leading.value"
   ]
  },
  {
   "cell_type": "code",
   "execution_count": null,
   "id": "b40e3ff4",
   "metadata": {},
   "outputs": [],
   "source": [
    "all_leading.mask"
   ]
  },
  {
   "cell_type": "code",
   "execution_count": null,
   "id": "40512244",
   "metadata": {},
   "outputs": [],
   "source": [
    "adm.leading_observable[0].mask"
   ]
  },
  {
   "cell_type": "code",
   "execution_count": null,
   "id": "cebd58c5",
   "metadata": {},
   "outputs": [],
   "source": [
    "# m4inpatients.size_in_bytes() / 1024 ** 3"
   ]
  },
  {
   "cell_type": "code",
   "execution_count": null,
   "id": "b598eb42",
   "metadata": {},
   "outputs": [],
   "source": [
    "# val_batch = m4inpatients.device_batch(splits[1])"
   ]
  },
  {
   "cell_type": "code",
   "execution_count": null,
   "id": "428f1548",
   "metadata": {},
   "outputs": [],
   "source": [
    "# tst_batch = m4inpatients.device_batch(splits[2])"
   ]
  },
  {
   "cell_type": "code",
   "execution_count": null,
   "id": "0108a8a5",
   "metadata": {},
   "outputs": [],
   "source": [
    "# val_batch.size_in_bytes() / 1024 ** 3, tst_batch.size_in_bytes() / 1024 ** 3"
   ]
  },
  {
   "cell_type": "code",
   "execution_count": null,
   "id": "84e24feb",
   "metadata": {},
   "outputs": [],
   "source": [
    "# batch = m4inpatients.device_batch(splits[0][:32])"
   ]
  },
  {
   "cell_type": "code",
   "execution_count": null,
   "id": "0af85343",
   "metadata": {},
   "outputs": [],
   "source": [
    "# batch.size_in_bytes() / 1024 ** 3"
   ]
  },
  {
   "cell_type": "code",
   "execution_count": null,
   "id": "0210e539",
   "metadata": {},
   "outputs": [],
   "source": [
    "# len(batch.subjects)"
   ]
  },
  {
   "cell_type": "code",
   "execution_count": null,
   "id": "de0adf08",
   "metadata": {},
   "outputs": [],
   "source": [
    "# batch.n_admissions()"
   ]
  },
  {
   "cell_type": "code",
   "execution_count": null,
   "id": "0464a3bb",
   "metadata": {},
   "outputs": [],
   "source": [
    "# batch.n_segments()"
   ]
  },
  {
   "cell_type": "code",
   "execution_count": null,
   "id": "1b3711f3",
   "metadata": {},
   "outputs": [],
   "source": [
    "# batch.n_obs_times()"
   ]
  },
  {
   "cell_type": "code",
   "execution_count": null,
   "id": "26fa5b6f",
   "metadata": {},
   "outputs": [],
   "source": [
    "# import numpy as np\n",
    "# import matplotlib.pyplot as plt\n",
    "\n",
    "# a = m4inpatients_jax.obs_coocurrence_matrix\n",
    "# a = np.array(a)\n",
    "# plt.imshow(a, cmap='hot', interpolation='nearest')\n",
    "# plt.show()"
   ]
  },
  {
   "cell_type": "code",
   "execution_count": null,
   "id": "9756e21b",
   "metadata": {},
   "outputs": [],
   "source": [
    "# s = batch.subjects[splits[0][6]].admissions[0]\n",
    "# s.observables[0].value"
   ]
  },
  {
   "cell_type": "code",
   "execution_count": null,
   "id": "0135d6c5",
   "metadata": {},
   "outputs": [],
   "source": [
    "# batch.interval_hours(splits[0][:10])"
   ]
  },
  {
   "cell_type": "markdown",
   "id": "b66a64de",
   "metadata": {},
   "source": [
    "### التدريب على نموذج المعادلات التفاضلية الاعتيادية العصبية\n"
   ]
  },
  {
   "cell_type": "code",
   "execution_count": null,
   "id": "9442545b",
   "metadata": {},
   "outputs": [],
   "source": [
    "from lib.ml import (InICENODE, InICENODEDimensions, InpatientEmbeddingDimensions, \n",
    "                    InTrainer, TrainerReporting, OptimizerConfig, WarmupConfig)\n",
    "from lib.metric import  (CodeAUC, UntilFirstCodeAUC, AdmissionAUC,\n",
    "                      CodeGroupTopAlarmAccuracy, LossMetric, ObsCodeLevelLossMetric)\n",
    "\n",
    "import jax.random as jrandom"
   ]
  },
  {
   "cell_type": "code",
   "execution_count": null,
   "id": "c911e2f3",
   "metadata": {},
   "outputs": [],
   "source": [
    "emb_dims = InpatientEmbeddingDimensions(dx=30, inp=15, proc=15, \n",
    "                                        demo=0, \n",
    "                                        inp_proc_demo=10)\n",
    "dims = InICENODEDimensions(mem=15, obs=25, emb=emb_dims)\n",
    "key = jrandom.PRNGKey(0)\n",
    "\n",
    "m = InICENODE(dims=dims, \n",
    "              schemes=m4inpatients.schemes,\n",
    "              demographic_vector_config=m4inpatients.demographic_vector_config,\n",
    "              key=key)"
   ]
  },
  {
   "cell_type": "code",
   "execution_count": null,
   "id": "72d4f9c8",
   "metadata": {},
   "outputs": [],
   "source": [
    "# res = m.batch_predict(m4inpatients.device_batch(), leave_pbar=True)"
   ]
  },
  {
   "cell_type": "code",
   "execution_count": null,
   "id": "3658579e",
   "metadata": {
    "scrolled": true
   },
   "outputs": [],
   "source": [
    "splits = m4inpatients.random_splits([0.9, 0.95], \n",
    "                                    balanced='admissions')\n",
    "\n",
    "trainer = InTrainer(optimizer_config=OptimizerConfig(opt='adam', lr=1e-3),\n",
    "                    reg_hyperparams=None,\n",
    "                    epochs=80,\n",
    "                    batch_size=128,\n",
    "                    dx_loss='allpairs_sigmoid_rank',\n",
    "                    obs_loss='mse')\n",
    "\n",
    "warmup = WarmupConfig(epochs=0.1, \n",
    "                      batch_size=8,\n",
    "                      opt='adam', lr=1e-3, \n",
    "                      decay_rate=0.5)\n",
    "\n",
    "loss_metric =  LossMetric(m4inpatients, \n",
    "                          dx_loss=('softmax_bce', 'balanced_focal_softmax_bce', \n",
    "                                   'balanced_focal_bce', 'allpairs_exp_rank', 'allpairs_hard_rank', \n",
    "                                   'allpairs_sigmoid_rank'),\n",
    "                         obs_loss=('mse', 'mae', 'rms'))\n",
    "\n",
    "metrics = [CodeAUC(m4inpatients), \n",
    "           AdmissionAUC(m4inpatients), \n",
    "           CodeGroupTopAlarmAccuracy(m4inpatients, n_partitions=5, \n",
    "                                     top_k_list=[3, 5, 10, 15, 20],\n",
    "                                     train_split=splits[0]), \n",
    "           loss_metric]\n",
    "\n",
    "\n",
    "reporting = TrainerReporting(output_dir='inicenode',\n",
    "                             metrics=metrics,\n",
    "                             console=True,\n",
    "                             parameter_snapshots=True,\n",
    "                             config_json=True)"
   ]
  },
  {
   "cell_type": "code",
   "execution_count": null,
   "id": "d5090a9c",
   "metadata": {},
   "outputs": [],
   "source": [
    "res = trainer(m, m4inpatients, \n",
    "              splits=splits,\n",
    "              reporting=reporting,\n",
    "              n_evals=100,\n",
    "              warmup_config=warmup,\n",
    "              continue_training=False)"
   ]
  },
  {
   "cell_type": "code",
   "execution_count": null,
   "id": "589840b1",
   "metadata": {},
   "outputs": [],
   "source": [
    "import numpy as np\n",
    "import pandas as pd\n",
    "sigmoid = lambda x: 1 / (1 + np.exp(x))\n",
    "\n",
    "p_delta = np.array(np.linspace(0, 1, 11))\n",
    "scales = np.array([2**i for i in range(5)])\n",
    "p_delta_scaled = np.outer(p_delta, scales)\n",
    "leading_loss = sigmoid(p_delta_scaled)\n",
    "lagging_loss = sigmoid(-p_delta_scaled)\n",
    "df1 = pd.DataFrame(leading_loss, columns=[f'scale:{s}' for s in scales],\n",
    "                  index=p_delta).rename_axis('p_delta')\n",
    "df2 = pd.DataFrame(lagging_loss, columns=[f'scale:{s}' for s in scales],\n",
    "                  index=p_delta).rename_axis('p_delta')\n",
    "df3 = df1 / df2\n",
    "df1"
   ]
  },
  {
   "cell_type": "code",
   "execution_count": null,
   "id": "9eb5bc49",
   "metadata": {},
   "outputs": [],
   "source": [
    "df2"
   ]
  },
  {
   "cell_type": "code",
   "execution_count": null,
   "id": "827f77ff",
   "metadata": {},
   "outputs": [],
   "source": [
    "df3"
   ]
  }
 ],
 "metadata": {
  "kernelspec": {
   "display_name": "Python 3 (ipykernel)",
   "language": "python",
   "name": "python3"
  },
  "language_info": {
   "codemirror_mode": {
    "name": "ipython",
    "version": 3
   },
   "file_extension": ".py",
   "mimetype": "text/x-python",
   "name": "python",
   "nbconvert_exporter": "python",
   "pygments_lexer": "ipython3",
   "version": "3.9.17"
  }
 },
 "nbformat": 4,
 "nbformat_minor": 5
}
