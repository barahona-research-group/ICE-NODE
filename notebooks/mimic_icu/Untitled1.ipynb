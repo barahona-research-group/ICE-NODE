{
 "cells": [
  {
   "cell_type": "code",
   "execution_count": 160,
   "id": "91431294",
   "metadata": {},
   "outputs": [],
   "source": [
    "import numpy as np\n",
    "import numpy as onp"
   ]
  },
  {
   "cell_type": "code",
   "execution_count": 161,
   "id": "6f9b3b78",
   "metadata": {},
   "outputs": [],
   "source": [
    "\n",
    "def nan_concat_leading_windows(x):\n",
    "    n = len(x)\n",
    "    add_arr = np.full(n - 1, np.nan)\n",
    "    x_ext = np.concatenate((add_arr, x[::-1]))\n",
    "    strided = np.lib.stride_tricks.as_strided\n",
    "    nrows = len(x_ext) - n + 1\n",
    "    s = x_ext.strides[0]\n",
    "    return strided(x_ext, shape=(nrows, n), strides=(s, s))[::-1, ::-1]\n",
    "\n",
    "\n",
    "def nan_concat_lagging_windows(x):\n",
    "    n = len(x)\n",
    "    add_arr = np.full(n - 1, np.nan)\n",
    "    x_ext = np.concatenate((add_arr, x))[::-1]\n",
    "    strided = np.lib.stride_tricks.as_strided\n",
    "    nrows = len(x_ext) - n + 1\n",
    "    s = x_ext.strides[0]\n",
    "    return strided(x_ext, shape=(nrows, n), strides=(s, s))[::-1, ::-1]\n",
    "\n",
    "\n",
    "def nan_concat_lagging_windows(x):\n",
    "    n = len(x)\n",
    "    add_arr = onp.full(n - 1, onp.nan)\n",
    "    x_ext = onp.concatenate((add_arr, x))\n",
    "    strided = onp.lib.stride_tricks.as_strided\n",
    "    nrows = len(x_ext) - n + 1\n",
    "    s = x_ext.strides[0]\n",
    "    return strided(x_ext, shape=(nrows, n), strides=(s, s))[:, :]\n",
    "\n"
   ]
  },
  {
   "cell_type": "code",
   "execution_count": 162,
   "id": "db9439fc",
   "metadata": {},
   "outputs": [
    {
     "data": {
      "text/plain": [
       "array([ 0,  1,  2,  3,  4,  5,  6,  7,  8,  9, 10, 11, 12, 13, 14])"
      ]
     },
     "execution_count": 162,
     "metadata": {},
     "output_type": "execute_result"
    }
   ],
   "source": [
    "x = np.arange(15)\n",
    "x"
   ]
  },
  {
   "cell_type": "code",
   "execution_count": 163,
   "id": "dfc75e47",
   "metadata": {},
   "outputs": [],
   "source": [
    "x1 = nan_concat_leading_windows(x)\n",
    "x2 = nan_concat_lagging_windows(x)"
   ]
  },
  {
   "cell_type": "code",
   "execution_count": 164,
   "id": "5b1e53ed",
   "metadata": {},
   "outputs": [
    {
     "data": {
      "text/plain": [
       "array([[ 0.,  1.,  2.,  3.,  4.,  5.,  6.,  7.,  8.,  9., 10., 11., 12.,\n",
       "        13., 14.],\n",
       "       [ 1.,  2.,  3.,  4.,  5.,  6.,  7.,  8.,  9., 10., 11., 12., 13.,\n",
       "        14., nan],\n",
       "       [ 2.,  3.,  4.,  5.,  6.,  7.,  8.,  9., 10., 11., 12., 13., 14.,\n",
       "        nan, nan],\n",
       "       [ 3.,  4.,  5.,  6.,  7.,  8.,  9., 10., 11., 12., 13., 14., nan,\n",
       "        nan, nan],\n",
       "       [ 4.,  5.,  6.,  7.,  8.,  9., 10., 11., 12., 13., 14., nan, nan,\n",
       "        nan, nan],\n",
       "       [ 5.,  6.,  7.,  8.,  9., 10., 11., 12., 13., 14., nan, nan, nan,\n",
       "        nan, nan],\n",
       "       [ 6.,  7.,  8.,  9., 10., 11., 12., 13., 14., nan, nan, nan, nan,\n",
       "        nan, nan],\n",
       "       [ 7.,  8.,  9., 10., 11., 12., 13., 14., nan, nan, nan, nan, nan,\n",
       "        nan, nan],\n",
       "       [ 8.,  9., 10., 11., 12., 13., 14., nan, nan, nan, nan, nan, nan,\n",
       "        nan, nan],\n",
       "       [ 9., 10., 11., 12., 13., 14., nan, nan, nan, nan, nan, nan, nan,\n",
       "        nan, nan],\n",
       "       [10., 11., 12., 13., 14., nan, nan, nan, nan, nan, nan, nan, nan,\n",
       "        nan, nan],\n",
       "       [11., 12., 13., 14., nan, nan, nan, nan, nan, nan, nan, nan, nan,\n",
       "        nan, nan],\n",
       "       [12., 13., 14., nan, nan, nan, nan, nan, nan, nan, nan, nan, nan,\n",
       "        nan, nan],\n",
       "       [13., 14., nan, nan, nan, nan, nan, nan, nan, nan, nan, nan, nan,\n",
       "        nan, nan],\n",
       "       [14., nan, nan, nan, nan, nan, nan, nan, nan, nan, nan, nan, nan,\n",
       "        nan, nan]])"
      ]
     },
     "execution_count": 164,
     "metadata": {},
     "output_type": "execute_result"
    }
   ],
   "source": [
    "x1"
   ]
  },
  {
   "cell_type": "code",
   "execution_count": 165,
   "id": "3e482c65",
   "metadata": {},
   "outputs": [
    {
     "data": {
      "text/plain": [
       "array([[nan, nan, nan, nan, nan, nan, nan, nan, nan, nan, nan, nan, nan,\n",
       "        nan,  0.],\n",
       "       [nan, nan, nan, nan, nan, nan, nan, nan, nan, nan, nan, nan, nan,\n",
       "         0.,  1.],\n",
       "       [nan, nan, nan, nan, nan, nan, nan, nan, nan, nan, nan, nan,  0.,\n",
       "         1.,  2.],\n",
       "       [nan, nan, nan, nan, nan, nan, nan, nan, nan, nan, nan,  0.,  1.,\n",
       "         2.,  3.],\n",
       "       [nan, nan, nan, nan, nan, nan, nan, nan, nan, nan,  0.,  1.,  2.,\n",
       "         3.,  4.],\n",
       "       [nan, nan, nan, nan, nan, nan, nan, nan, nan,  0.,  1.,  2.,  3.,\n",
       "         4.,  5.],\n",
       "       [nan, nan, nan, nan, nan, nan, nan, nan,  0.,  1.,  2.,  3.,  4.,\n",
       "         5.,  6.],\n",
       "       [nan, nan, nan, nan, nan, nan, nan,  0.,  1.,  2.,  3.,  4.,  5.,\n",
       "         6.,  7.],\n",
       "       [nan, nan, nan, nan, nan, nan,  0.,  1.,  2.,  3.,  4.,  5.,  6.,\n",
       "         7.,  8.],\n",
       "       [nan, nan, nan, nan, nan,  0.,  1.,  2.,  3.,  4.,  5.,  6.,  7.,\n",
       "         8.,  9.],\n",
       "       [nan, nan, nan, nan,  0.,  1.,  2.,  3.,  4.,  5.,  6.,  7.,  8.,\n",
       "         9., 10.],\n",
       "       [nan, nan, nan,  0.,  1.,  2.,  3.,  4.,  5.,  6.,  7.,  8.,  9.,\n",
       "        10., 11.],\n",
       "       [nan, nan,  0.,  1.,  2.,  3.,  4.,  5.,  6.,  7.,  8.,  9., 10.,\n",
       "        11., 12.],\n",
       "       [nan,  0.,  1.,  2.,  3.,  4.,  5.,  6.,  7.,  8.,  9., 10., 11.,\n",
       "        12., 13.],\n",
       "       [ 0.,  1.,  2.,  3.,  4.,  5.,  6.,  7.,  8.,  9., 10., 11., 12.,\n",
       "        13., 14.]])"
      ]
     },
     "execution_count": 165,
     "metadata": {},
     "output_type": "execute_result"
    }
   ],
   "source": [
    "x2"
   ]
  },
  {
   "cell_type": "code",
   "execution_count": null,
   "id": "bf51a151",
   "metadata": {},
   "outputs": [],
   "source": []
  },
  {
   "cell_type": "code",
   "execution_count": 86,
   "id": "d603d6bb",
   "metadata": {},
   "outputs": [],
   "source": [
    "a = np.arange(100).reshape(10, 10)"
   ]
  },
  {
   "cell_type": "code",
   "execution_count": 88,
   "id": "c7b0769a",
   "metadata": {},
   "outputs": [
    {
     "data": {
      "text/plain": [
       "array([nan, nan, nan, nan, nan, nan, nan,  0.,  2.,  4.,  6.,  8., 10.,\n",
       "       12., 14.])"
      ]
     },
     "execution_count": 88,
     "metadata": {},
     "output_type": "execute_result"
    }
   ],
   "source": [
    "np.diag(x2)"
   ]
  },
  {
   "cell_type": "code",
   "execution_count": 170,
   "id": "db3a0d50",
   "metadata": {},
   "outputs": [
    {
     "data": {
      "text/plain": [
       "array([[ 0.],\n",
       "       [ 1.],\n",
       "       [ 2.],\n",
       "       [ 3.],\n",
       "       [ 4.],\n",
       "       [ 5.],\n",
       "       [ 6.],\n",
       "       [ 7.],\n",
       "       [ 8.],\n",
       "       [ 9.],\n",
       "       [10.],\n",
       "       [11.],\n",
       "       [12.],\n",
       "       [13.],\n",
       "       [14.]])"
      ]
     },
     "execution_count": 170,
     "metadata": {},
     "output_type": "execute_result"
    }
   ],
   "source": [
    "x2[:, -1, None]"
   ]
  },
  {
   "cell_type": "code",
   "execution_count": 172,
   "id": "06760c70",
   "metadata": {},
   "outputs": [],
   "source": [
    "diff = x2[:, -1, None] - x2"
   ]
  },
  {
   "cell_type": "code",
   "execution_count": 176,
   "id": "b44971d0",
   "metadata": {},
   "outputs": [],
   "source": [
    "x3 = onp.where(diff <= 3, x2, onp.nan)"
   ]
  },
  {
   "cell_type": "code",
   "execution_count": 178,
   "id": "a07e17cf",
   "metadata": {},
   "outputs": [
    {
     "data": {
      "text/plain": [
       "array([ 0.,  1.,  2.,  3.,  4.,  5.,  6.,  7.,  8.,  9., 10., 11., 12.,\n",
       "       13., 14.])"
      ]
     },
     "execution_count": 178,
     "metadata": {},
     "output_type": "execute_result"
    }
   ],
   "source": [
    "onp.nanmax(x3, axis=1)"
   ]
  },
  {
   "cell_type": "code",
   "execution_count": 179,
   "id": "3c598934",
   "metadata": {},
   "outputs": [
    {
     "name": "stderr",
     "output_type": "stream",
     "text": [
      "/tmp/ipykernel_102606/3014938994.py:1: RuntimeWarning: All-NaN slice encountered\n",
      "  onp.nanmax(np.array([np.nan, np.nan]))\n"
     ]
    },
    {
     "data": {
      "text/plain": [
       "nan"
      ]
     },
     "execution_count": 179,
     "metadata": {},
     "output_type": "execute_result"
    }
   ],
   "source": [
    "onp.nanmax(np.array([np.nan, np.nan]))"
   ]
  },
  {
   "cell_type": "code",
   "execution_count": 180,
   "id": "d9f794e5",
   "metadata": {},
   "outputs": [
    {
     "data": {
      "text/plain": [
       "False"
      ]
     },
     "execution_count": 180,
     "metadata": {},
     "output_type": "execute_result"
    }
   ],
   "source": [
    "onp.nan > 3"
   ]
  },
  {
   "cell_type": "code",
   "execution_count": 187,
   "id": "0617336f",
   "metadata": {},
   "outputs": [
    {
     "data": {
      "text/plain": [
       "array([0, 0, 0, 1, 0, 1, 0])"
      ]
     },
     "execution_count": 187,
     "metadata": {},
     "output_type": "execute_result"
    }
   ],
   "source": [
    "x = np.array([0, 0, 0, 1, 1, 0, 0])\n",
    "diff = np.hstack((0, x[1:] - x[:-1]))\n",
    "jumps = np.where(diff != 0, 1, 0)\n",
    "jumps"
   ]
  },
  {
   "cell_type": "code",
   "execution_count": 193,
   "id": "f6881300",
   "metadata": {},
   "outputs": [
    {
     "data": {
      "text/plain": [
       "array([0, 0, 0, 1, 0, 1, 0])"
      ]
     },
     "execution_count": 193,
     "metadata": {},
     "output_type": "execute_result"
    }
   ],
   "source": [
    "y = np.where(jumps!=0, 1, 0)\n",
    "y"
   ]
  },
  {
   "cell_type": "code",
   "execution_count": 196,
   "id": "2ed1026b",
   "metadata": {},
   "outputs": [
    {
     "data": {
      "text/plain": [
       "[3, 5]"
      ]
     },
     "execution_count": 196,
     "metadata": {},
     "output_type": "execute_result"
    }
   ],
   "source": [
    "np.argwhere(y).flatten().tolist()"
   ]
  },
  {
   "cell_type": "code",
   "execution_count": 190,
   "id": "856af709",
   "metadata": {},
   "outputs": [
    {
     "data": {
      "text/plain": [
       "array([0, 0, 1, 0, 1, 0])"
      ]
     },
     "execution_count": 190,
     "metadata": {},
     "output_type": "execute_result"
    }
   ],
   "source": []
  },
  {
   "cell_type": "code",
   "execution_count": 7,
   "id": "3af644f8",
   "metadata": {},
   "outputs": [],
   "source": [
    "import equinox as eqx\n",
    "import jax.random as jrand\n",
    "import jax.numpy as jnp"
   ]
  },
  {
   "cell_type": "code",
   "execution_count": 6,
   "id": "4becd667",
   "metadata": {},
   "outputs": [],
   "source": [
    "mlp = eqx.nn.MLP(in_size=5,\n",
    "                out_size=0,\n",
    "                key=jrand.PRNGKey(0),\n",
    "                width_size=5,\n",
    "                depth=3)"
   ]
  },
  {
   "cell_type": "code",
   "execution_count": 8,
   "id": "0e8a1403",
   "metadata": {},
   "outputs": [
    {
     "data": {
      "text/plain": [
       "Array([], dtype=float32)"
      ]
     },
     "execution_count": 8,
     "metadata": {},
     "output_type": "execute_result"
    }
   ],
   "source": [
    "mlp(jnp.arange(5))"
   ]
  },
  {
   "cell_type": "code",
   "execution_count": 2,
   "id": "1497ba9f",
   "metadata": {},
   "outputs": [],
   "source": [
    "?eqx.nn.MLP"
   ]
  },
  {
   "cell_type": "code",
   "execution_count": null,
   "id": "85515456",
   "metadata": {},
   "outputs": [],
   "source": []
  }
 ],
 "metadata": {
  "kernelspec": {
   "display_name": "Python 3 (ipykernel)",
   "language": "python",
   "name": "python3"
  },
  "language_info": {
   "codemirror_mode": {
    "name": "ipython",
    "version": 3
   },
   "file_extension": ".py",
   "mimetype": "text/x-python",
   "name": "python",
   "nbconvert_exporter": "python",
   "pygments_lexer": "ipython3",
   "version": "3.10.12"
  }
 },
 "nbformat": 4,
 "nbformat_minor": 5
}
