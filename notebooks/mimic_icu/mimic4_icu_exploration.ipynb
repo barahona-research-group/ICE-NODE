{
 "cells": [
  {
   "cell_type": "code",
   "execution_count": 1,
   "id": "5a0973b9",
   "metadata": {},
   "outputs": [],
   "source": [
    "from collections import OrderedDict\n",
    "\n",
    "import matplotlib.pyplot as plt\n",
    "import numpy as np\n",
    "import pandas as pd\n",
    "import seaborn as sns\n",
    "# !pip install tableone\n",
    "from tableone import TableOne\n",
    "# !pip install psycopg2-binary\n",
    "import psycopg2"
   ]
  },
  {
   "cell_type": "code",
   "execution_count": 2,
   "id": "c5a9fd4b",
   "metadata": {},
   "outputs": [],
   "source": [
    "# create a database connection\n",
    "sqluser = 'asem'\n",
    "dbname = 'mimiciv'\n",
    "hostname = 'localhost'\n",
    "password='qwerasdf'\n",
    "hosp_schema_name = 'mimiciv_hosp'\n",
    "\n",
    "# Connect to local postgres version of mimic\n",
    "con = psycopg2.connect(dbname=dbname, user=sqluser, host=hostname, password=password)"
   ]
  },
  {
   "cell_type": "code",
   "execution_count": 3,
   "id": "54101105",
   "metadata": {},
   "outputs": [],
   "source": [
    "query = \\\n",
    "\"\"\"\n",
    "SELECT\n",
    "      pat.subject_id\n",
    "    , adm.hadm_id\n",
    "    , DENSE_RANK() OVER hadm_window AS hosp_stay_num\n",
    "    , CASE\n",
    "        WHEN FIRST_VALUE(adm.hadm_id) OVER hadm_window = adm.hadm_id THEN 1\n",
    "        ELSE 0\n",
    "      END AS pat_count\n",
    "    , pat.anchor_age + (EXTRACT(YEAR FROM adm.admittime) - pat.anchor_year) AS age\n",
    "    , pat.gender\n",
    "    , adm.insurance\n",
    "    , mimiciv_derived.DATETIME_DIFF(adm.dischtime, adm.admittime, 'HOUR') / 24 AS hosp_los\n",
    "    , pat.dod\n",
    "    , mimiciv_derived.DATETIME_DIFF(pat.dod, CAST(adm.dischtime AS DATE), 'DAY') AS days_to_death\n",
    "    -- mortality flags\n",
    "    , CASE WHEN mimiciv_derived.DATETIME_DIFF(pat.dod, CAST(adm.dischtime AS DATE), 'DAY') = 0 THEN 1 ELSE 0 END AS hospital_mortality\n",
    "FROM mimiciv_hosp.patients pat\n",
    "INNER JOIN mimiciv_hosp.admissions adm\n",
    "    ON pat.subject_id = adm.subject_id\n",
    "WINDOW hadm_window AS (PARTITION BY pat.subject_id ORDER BY adm.admittime)\n",
    "\"\"\"\n",
    "\n",
    "hosp = pd.read_sql_query(query,con)"
   ]
  },
  {
   "cell_type": "code",
   "execution_count": 4,
   "id": "82c2b7ef",
   "metadata": {},
   "outputs": [
    {
     "data": {
      "text/plain": [
       "0         22595853\n",
       "1         22841357\n",
       "2         29079034\n",
       "3         25742920\n",
       "5         23052089\n",
       "            ...   \n",
       "431226    29734428\n",
       "431227    25744818\n",
       "431228    26071774\n",
       "431229    21033226\n",
       "431230    23865745\n",
       "Name: hadm_id, Length: 392689, dtype: int64"
      ]
     },
     "execution_count": 4,
     "metadata": {},
     "output_type": "execute_result"
    }
   ],
   "source": [
    "# Admission IDs with Length of Stay at least 12 hours.\n",
    "hadm_id_los_geq_12h = hosp[hosp.hosp_los > 0.5].hadm_id\n",
    "hadm_id_los_geq_12h"
   ]
  },
  {
   "cell_type": "code",
   "execution_count": 5,
   "id": "e3726eb8",
   "metadata": {},
   "outputs": [
    {
     "data": {
      "text/html": [
       "<div>\n",
       "<style scoped>\n",
       "    .dataframe tbody tr th:only-of-type {\n",
       "        vertical-align: middle;\n",
       "    }\n",
       "\n",
       "    .dataframe tbody tr th {\n",
       "        vertical-align: top;\n",
       "    }\n",
       "\n",
       "    .dataframe thead th {\n",
       "        text-align: right;\n",
       "    }\n",
       "</style>\n",
       "<table border=\"1\" class=\"dataframe\">\n",
       "  <thead>\n",
       "    <tr style=\"text-align: right;\">\n",
       "      <th></th>\n",
       "      <th>subject_id</th>\n",
       "      <th>hadm_id</th>\n",
       "      <th>admittime</th>\n",
       "      <th>dischtime</th>\n",
       "    </tr>\n",
       "  </thead>\n",
       "  <tbody>\n",
       "    <tr>\n",
       "      <th>0</th>\n",
       "      <td>10000032</td>\n",
       "      <td>22595853</td>\n",
       "      <td>2180-05-06 22:23:00</td>\n",
       "      <td>2180-05-07 17:15:00</td>\n",
       "    </tr>\n",
       "    <tr>\n",
       "      <th>1</th>\n",
       "      <td>10000032</td>\n",
       "      <td>22841357</td>\n",
       "      <td>2180-06-26 18:27:00</td>\n",
       "      <td>2180-06-27 18:49:00</td>\n",
       "    </tr>\n",
       "    <tr>\n",
       "      <th>2</th>\n",
       "      <td>10000032</td>\n",
       "      <td>25742920</td>\n",
       "      <td>2180-08-05 23:44:00</td>\n",
       "      <td>2180-08-07 17:50:00</td>\n",
       "    </tr>\n",
       "    <tr>\n",
       "      <th>3</th>\n",
       "      <td>10000032</td>\n",
       "      <td>29079034</td>\n",
       "      <td>2180-07-23 12:35:00</td>\n",
       "      <td>2180-07-25 17:55:00</td>\n",
       "    </tr>\n",
       "    <tr>\n",
       "      <th>4</th>\n",
       "      <td>10000068</td>\n",
       "      <td>25022803</td>\n",
       "      <td>2160-03-03 23:16:00</td>\n",
       "      <td>2160-03-04 06:26:00</td>\n",
       "    </tr>\n",
       "    <tr>\n",
       "      <th>...</th>\n",
       "      <td>...</td>\n",
       "      <td>...</td>\n",
       "      <td>...</td>\n",
       "      <td>...</td>\n",
       "    </tr>\n",
       "    <tr>\n",
       "      <th>431226</th>\n",
       "      <td>19999828</td>\n",
       "      <td>25744818</td>\n",
       "      <td>2149-01-08 16:44:00</td>\n",
       "      <td>2149-01-18 17:00:00</td>\n",
       "    </tr>\n",
       "    <tr>\n",
       "      <th>431227</th>\n",
       "      <td>19999828</td>\n",
       "      <td>29734428</td>\n",
       "      <td>2147-07-18 16:23:00</td>\n",
       "      <td>2147-08-04 18:10:00</td>\n",
       "    </tr>\n",
       "    <tr>\n",
       "      <th>431228</th>\n",
       "      <td>19999840</td>\n",
       "      <td>21033226</td>\n",
       "      <td>2164-09-10 13:47:00</td>\n",
       "      <td>2164-09-17 13:42:00</td>\n",
       "    </tr>\n",
       "    <tr>\n",
       "      <th>431229</th>\n",
       "      <td>19999840</td>\n",
       "      <td>26071774</td>\n",
       "      <td>2164-07-25 00:27:00</td>\n",
       "      <td>2164-07-28 12:15:00</td>\n",
       "    </tr>\n",
       "    <tr>\n",
       "      <th>431230</th>\n",
       "      <td>19999987</td>\n",
       "      <td>23865745</td>\n",
       "      <td>2145-11-02 21:38:00</td>\n",
       "      <td>2145-11-11 12:57:00</td>\n",
       "    </tr>\n",
       "  </tbody>\n",
       "</table>\n",
       "<p>431231 rows × 4 columns</p>\n",
       "</div>"
      ],
      "text/plain": [
       "        subject_id   hadm_id           admittime           dischtime\n",
       "0         10000032  22595853 2180-05-06 22:23:00 2180-05-07 17:15:00\n",
       "1         10000032  22841357 2180-06-26 18:27:00 2180-06-27 18:49:00\n",
       "2         10000032  25742920 2180-08-05 23:44:00 2180-08-07 17:50:00\n",
       "3         10000032  29079034 2180-07-23 12:35:00 2180-07-25 17:55:00\n",
       "4         10000068  25022803 2160-03-03 23:16:00 2160-03-04 06:26:00\n",
       "...            ...       ...                 ...                 ...\n",
       "431226    19999828  25744818 2149-01-08 16:44:00 2149-01-18 17:00:00\n",
       "431227    19999828  29734428 2147-07-18 16:23:00 2147-08-04 18:10:00\n",
       "431228    19999840  21033226 2164-09-10 13:47:00 2164-09-17 13:42:00\n",
       "431229    19999840  26071774 2164-07-25 00:27:00 2164-07-28 12:15:00\n",
       "431230    19999987  23865745 2145-11-02 21:38:00 2145-11-11 12:57:00\n",
       "\n",
       "[431231 rows x 4 columns]"
      ]
     },
     "execution_count": 5,
     "metadata": {},
     "output_type": "execute_result"
    }
   ],
   "source": [
    "adm_df = pd.read_sql_query(\"\"\"\n",
    "SELECT subject_id, hadm_id, admittime, dischtime FROM mimiciv_hosp.admissions\n",
    "\"\"\", con)\n",
    "adm_df"
   ]
  },
  {
   "cell_type": "code",
   "execution_count": 6,
   "id": "9973946b",
   "metadata": {},
   "outputs": [],
   "source": [
    "\n",
    "# add 1 year mortality\n",
    "hosp['one_year_mortality'] = hosp['days_to_death'].notnull().astype(int)\n",
    "\n",
    "# create a dataframe with the days to death for only the last ICU stay\n",
    "last_dod = hosp.groupby('subject_id')[['hosp_stay_num']].max().reset_index()\n",
    "last_dod = last_dod.merge(hosp[['subject_id', 'hosp_stay_num', 'days_to_death']], on=['subject_id', 'hosp_stay_num'], how='inner')\n",
    "last_dod.rename(columns={'days_to_death': 'days_to_death_last_stay_id'}, inplace=True)\n",
    "\n",
    "hosp = hosp.merge(last_dod, how='left', on=['subject_id', 'hosp_stay_num'])\n",
    "del last_dod\n",
    "hosp.sort_values(['subject_id', 'hosp_stay_num'], inplace=True)\n",
    "\n",
    "# fix some data type issues\n",
    "int_cols = hosp.dtypes.values==\"Int64\"\n",
    "hosp.loc[:, int_cols] = hosp.loc[:, int_cols].astype(float)\n",
    "hosp.loc[:, int_cols] = hosp.loc[:, int_cols].astype(int, errors=\"ignore\")\n"
   ]
  },
  {
   "cell_type": "code",
   "execution_count": 7,
   "id": "8b19a620",
   "metadata": {},
   "outputs": [],
   "source": [
    "query = \\\n",
    "\"\"\"\n",
    "SELECT\n",
    "      pat.subject_id\n",
    "    , adm.hadm_id\n",
    "    , icu.stay_id\n",
    "    , ROW_NUMBER() OVER (PARTITION BY pat.subject_id ORDER BY icu.intime) AS icu_stay_num\n",
    "    , DENSE_RANK() OVER (PARTITION BY pat.subject_id ORDER BY adm.admittime) AS hosp_stay_num\n",
    "    , CASE\n",
    "        WHEN FIRST_VALUE(icu.stay_id) OVER icustay_window = icu.stay_id THEN 1\n",
    "        ELSE 0\n",
    "      END AS pat_count\n",
    "    , pat.anchor_age + (EXTRACT(YEAR FROM icu.intime) - pat.anchor_year) AS age\n",
    "    , pat.gender\n",
    "    , adm.insurance\n",
    "    , icu.first_careunit\n",
    "    , icu.los AS icu_los\n",
    "    , mimiciv_derived.DATETIME_DIFF(adm.dischtime, adm.admittime, 'HOUR') / 24 AS hosp_los\n",
    "    , pat.dod\n",
    "    , mimiciv_derived.DATETIME_DIFF(pat.dod, CAST(adm.dischtime AS DATE), 'DAY') AS days_to_death\n",
    "    -- mortality flags\n",
    "    , CASE WHEN mimiciv_derived.DATETIME_DIFF(pat.dod, CAST(adm.dischtime AS DATE), 'DAY') = 0 THEN 1 ELSE 0 END AS hospital_mortality\n",
    "    , CASE WHEN mimiciv_derived.DATETIME_DIFF(pat.dod, CAST(icu.outtime AS DATE), 'DAY') = 0 THEN 1 ELSE 0 END AS icu_mortality\n",
    "FROM mimiciv_hosp.patients pat\n",
    "INNER JOIN mimiciv_hosp.admissions adm\n",
    "    ON pat.subject_id = adm.subject_id\n",
    "INNER JOIN mimiciv_icu.icustays icu\n",
    "    ON adm.hadm_id = icu.hadm_id\n",
    "WINDOW hadm_window AS (PARTITION BY pat.subject_id ORDER BY adm.admittime)\n",
    "     , icustay_window AS (PARTITION BY pat.subject_id ORDER BY icu.intime)\n",
    "\"\"\"\n",
    "\n",
    "data = pd.read_sql_query(query,con)"
   ]
  },
  {
   "cell_type": "code",
   "execution_count": 8,
   "id": "632e1262",
   "metadata": {},
   "outputs": [],
   "source": [
    "# add 1 year mortality\n",
    "data['one_year_mortality'] = data['days_to_death'].notnull().astype(int)\n",
    "\n",
    "# create a dataframe with the days to death for only the last ICU stay\n",
    "last_dod = data.groupby('subject_id')[['icu_stay_num']].max().reset_index()\n",
    "last_dod = last_dod.merge(data[['subject_id', 'icu_stay_num', 'days_to_death']], on=['subject_id', 'icu_stay_num'], how='inner')\n",
    "last_dod.rename(columns={'days_to_death': 'days_to_death_last_stay_id'}, inplace=True)\n",
    "\n",
    "data = data.merge(last_dod, how='left', on=['subject_id', 'icu_stay_num'])\n",
    "del last_dod\n",
    "data.sort_values(['subject_id', 'icu_stay_num'], inplace=True)\n",
    "\n",
    "# add a grouping variable for table one so we can have hospital mortality as a group and a row\n",
    "data['hosp_mort'] = data['hospital_mortality']\n",
    "\n",
    "# fix some data type issues\n",
    "int_cols = data.dtypes.values==\"Int64\"\n",
    "data.loc[:, int_cols] = data.loc[:, int_cols].astype(float)\n",
    "data.loc[:, int_cols] = data.loc[:, int_cols].astype(int, errors=\"ignore\")"
   ]
  },
  {
   "cell_type": "code",
   "execution_count": 9,
   "id": "fe3d025a",
   "metadata": {},
   "outputs": [
    {
     "name": "stdout",
     "output_type": "stream",
     "text": [
      "ICU demographics\n"
     ]
    },
    {
     "name": "stderr",
     "output_type": "stream",
     "text": [
      "/home/asem/GP/env/icenode-dev/lib/python3.8/site-packages/tableone/tableone.py:1433: UserWarning: Order variable not found: hadm_count\n",
      "  warnings.warn(\"Order variable not found: {}\".format(k))\n"
     ]
    },
    {
     "data": {
      "text/html": [
       "<div>\n",
       "<style scoped>\n",
       "    .dataframe tbody tr th:only-of-type {\n",
       "        vertical-align: middle;\n",
       "    }\n",
       "\n",
       "    .dataframe tbody tr th {\n",
       "        vertical-align: top;\n",
       "    }\n",
       "\n",
       "    .dataframe thead th {\n",
       "        text-align: right;\n",
       "    }\n",
       "</style>\n",
       "<table border=\"1\" class=\"dataframe\">\n",
       "  <thead>\n",
       "    <tr style=\"text-align: right;\">\n",
       "      <th></th>\n",
       "      <th></th>\n",
       "      <th>Missing</th>\n",
       "      <th>Overall</th>\n",
       "    </tr>\n",
       "  </thead>\n",
       "  <tbody>\n",
       "    <tr>\n",
       "      <th>n</th>\n",
       "      <th></th>\n",
       "      <td></td>\n",
       "      <td>73181</td>\n",
       "    </tr>\n",
       "    <tr>\n",
       "      <th>Distinct patients, n (%)</th>\n",
       "      <th>1</th>\n",
       "      <td>0</td>\n",
       "      <td>50920 (69.6)</td>\n",
       "    </tr>\n",
       "    <tr>\n",
       "      <th>Age, mean (SD)</th>\n",
       "      <th></th>\n",
       "      <td>0</td>\n",
       "      <td>64.7 (16.9)</td>\n",
       "    </tr>\n",
       "    <tr>\n",
       "      <th>Administrative Gender, n (%)</th>\n",
       "      <th>F</th>\n",
       "      <td>0</td>\n",
       "      <td>32363 (44.2)</td>\n",
       "    </tr>\n",
       "    <tr>\n",
       "      <th rowspan=\"3\" valign=\"top\">Insurance, n (%)</th>\n",
       "      <th>Medicaid</th>\n",
       "      <td>0</td>\n",
       "      <td>5528 (7.6)</td>\n",
       "    </tr>\n",
       "    <tr>\n",
       "      <th>Medicare</th>\n",
       "      <td></td>\n",
       "      <td>33091 (45.2)</td>\n",
       "    </tr>\n",
       "    <tr>\n",
       "      <th>Other</th>\n",
       "      <td></td>\n",
       "      <td>34562 (47.2)</td>\n",
       "    </tr>\n",
       "    <tr>\n",
       "      <th>Hospital length of stay, mean (SD)</th>\n",
       "      <th></th>\n",
       "      <td>0</td>\n",
       "      <td>11.0 (13.3)</td>\n",
       "    </tr>\n",
       "    <tr>\n",
       "      <th>In-hospital mortality, n (%)</th>\n",
       "      <th>1</th>\n",
       "      <td>0</td>\n",
       "      <td>8511 (11.6)</td>\n",
       "    </tr>\n",
       "    <tr>\n",
       "      <th>One year mortality, n (%)</th>\n",
       "      <th>1</th>\n",
       "      <td>0</td>\n",
       "      <td>28274 (38.6)</td>\n",
       "    </tr>\n",
       "  </tbody>\n",
       "</table>\n",
       "</div><br />"
      ],
      "text/plain": [
       "                                            Missing       Overall\n",
       "n                                                           73181\n",
       "Distinct patients, n (%)           1              0  50920 (69.6)\n",
       "Age, mean (SD)                                    0   64.7 (16.9)\n",
       "Administrative Gender, n (%)       F              0  32363 (44.2)\n",
       "Insurance, n (%)                   Medicaid       0    5528 (7.6)\n",
       "                                   Medicare          33091 (45.2)\n",
       "                                   Other             34562 (47.2)\n",
       "Hospital length of stay, mean (SD)                0   11.0 (13.3)\n",
       "In-hospital mortality, n (%)       1              0   8511 (11.6)\n",
       "One year mortality, n (%)          1              0  28274 (38.6)"
      ]
     },
     "metadata": {},
     "output_type": "display_data"
    },
    {
     "name": "stdout",
     "output_type": "stream",
     "text": [
      "Hospital demographics\n"
     ]
    },
    {
     "name": "stderr",
     "output_type": "stream",
     "text": [
      "/home/asem/GP/env/icenode-dev/lib/python3.8/site-packages/tableone/tableone.py:1433: UserWarning: Order variable not found: hadm_count\n",
      "  warnings.warn(\"Order variable not found: {}\".format(k))\n"
     ]
    },
    {
     "data": {
      "text/html": [
       "<div>\n",
       "<style scoped>\n",
       "    .dataframe tbody tr th:only-of-type {\n",
       "        vertical-align: middle;\n",
       "    }\n",
       "\n",
       "    .dataframe tbody tr th {\n",
       "        vertical-align: top;\n",
       "    }\n",
       "\n",
       "    .dataframe thead th {\n",
       "        text-align: right;\n",
       "    }\n",
       "</style>\n",
       "<table border=\"1\" class=\"dataframe\">\n",
       "  <thead>\n",
       "    <tr style=\"text-align: right;\">\n",
       "      <th></th>\n",
       "      <th></th>\n",
       "      <th>Missing</th>\n",
       "      <th>Overall</th>\n",
       "    </tr>\n",
       "  </thead>\n",
       "  <tbody>\n",
       "    <tr>\n",
       "      <th>n</th>\n",
       "      <th></th>\n",
       "      <td></td>\n",
       "      <td>431231</td>\n",
       "    </tr>\n",
       "    <tr>\n",
       "      <th>Distinct patients, n (%)</th>\n",
       "      <th>1</th>\n",
       "      <td>0</td>\n",
       "      <td>180733 (41.9)</td>\n",
       "    </tr>\n",
       "    <tr>\n",
       "      <th>Age, mean (SD)</th>\n",
       "      <th></th>\n",
       "      <td>0</td>\n",
       "      <td>58.8 (19.2)</td>\n",
       "    </tr>\n",
       "    <tr>\n",
       "      <th>Administrative Gender, n (%)</th>\n",
       "      <th>F</th>\n",
       "      <td>0</td>\n",
       "      <td>224990 (52.2)</td>\n",
       "    </tr>\n",
       "    <tr>\n",
       "      <th rowspan=\"3\" valign=\"top\">Insurance, n (%)</th>\n",
       "      <th>Medicaid</th>\n",
       "      <td>0</td>\n",
       "      <td>41330 (9.6)</td>\n",
       "    </tr>\n",
       "    <tr>\n",
       "      <th>Medicare</th>\n",
       "      <td></td>\n",
       "      <td>160560 (37.2)</td>\n",
       "    </tr>\n",
       "    <tr>\n",
       "      <th>Other</th>\n",
       "      <td></td>\n",
       "      <td>229341 (53.2)</td>\n",
       "    </tr>\n",
       "    <tr>\n",
       "      <th>Hospital length of stay, mean (SD)</th>\n",
       "      <th></th>\n",
       "      <td>0</td>\n",
       "      <td>4.5 (6.6)</td>\n",
       "    </tr>\n",
       "    <tr>\n",
       "      <th>In-hospital mortality, n (%)</th>\n",
       "      <th>1</th>\n",
       "      <td>0</td>\n",
       "      <td>8869 (2.1)</td>\n",
       "    </tr>\n",
       "    <tr>\n",
       "      <th>One year mortality, n (%)</th>\n",
       "      <th>1</th>\n",
       "      <td>0</td>\n",
       "      <td>106218 (24.6)</td>\n",
       "    </tr>\n",
       "  </tbody>\n",
       "</table>\n",
       "</div><br />"
      ],
      "text/plain": [
       "                                            Missing        Overall\n",
       "n                                                           431231\n",
       "Distinct patients, n (%)           1              0  180733 (41.9)\n",
       "Age, mean (SD)                                    0    58.8 (19.2)\n",
       "Administrative Gender, n (%)       F              0  224990 (52.2)\n",
       "Insurance, n (%)                   Medicaid       0    41330 (9.6)\n",
       "                                   Medicare          160560 (37.2)\n",
       "                                   Other             229341 (53.2)\n",
       "Hospital length of stay, mean (SD)                0      4.5 (6.6)\n",
       "In-hospital mortality, n (%)       1              0     8869 (2.1)\n",
       "One year mortality, n (%)          1              0  106218 (24.6)"
      ]
     },
     "metadata": {},
     "output_type": "display_data"
    }
   ],
   "source": [
    "\n",
    "\n",
    "columns = [\n",
    "    \"pat_count\",\n",
    "    # , \"hadm_count\",\n",
    "    \"age\", \"gender\", \"insurance\",\n",
    "    # \"first_careunit\",\n",
    "    # \"icu_los\",\n",
    "    \"hosp_los\",\n",
    "    # 'icu_mortality',\n",
    "    'hospital_mortality',\n",
    "    \"one_year_mortality\",\n",
    "    # \"days_to_death_last_stay_id\"\n",
    "]\n",
    "\n",
    "categorical = [\n",
    "    \"pat_count\",\n",
    "    # \"hadm_count\",\n",
    "    \"gender\", \"insurance\",\n",
    "    # \"first_careunit\",\n",
    "    # mortality flags\n",
    "    # 'icu_mortality',\n",
    "    'hospital_mortality',\n",
    "    'one_year_mortality',\n",
    "]\n",
    "\n",
    "order = {\n",
    "    \"pat_count\": [1, 0],\n",
    "    \"hadm_count\": [1, 0],\n",
    "    \"gender\": [\"F\", \"M\"],\n",
    "    # \"icu_mortality\": [1, 0],\n",
    "    \"hospital_mortality\": [1, 0],\n",
    "    \"one_year_mortality\": [1, 0],\n",
    "}\n",
    "\n",
    "limit = {\n",
    "    \"pat_count\": 1, \"hadm_count\": 1,\n",
    "    \"gender\": 1,\n",
    "    # \"icu_mortality\": 1,\n",
    "    \"hospital_mortality\": 1,\n",
    "    \"one_year_mortality\": 1,\n",
    "}\n",
    "\n",
    "rename = {\n",
    "    \"pat_count\": \"Distinct patients\", \"hadm_count\": \"Distinct hospitalizations\",\n",
    "    \"age\": \"Age\", \"gender\": \"Administrative Gender\", \"insurance\": \"Insurance\",\n",
    "    \"first_careunit\": \"First ICU stay, unit type\",\n",
    "    \"icu_los\": \"ICU length of stay\", \"hosp_los\": \"Hospital length of stay\",\n",
    "    \"icu_mortality\": \"In-ICU mortality\",\n",
    "    \"hospital_mortality\": \"In-hospital mortality\",\n",
    "    \"one_year_mortality\": \"One year mortality\",\n",
    "    # \"days_to_death_last_stay_id\": \"Time to death (days)\",\n",
    "}\n",
    "\n",
    "print('ICU demographics')\n",
    "icu_table = TableOne(data, columns=columns, categorical=categorical, order=order, limit=limit, rename=rename)\n",
    "display(icu_table)\n",
    "print('Hospital demographics')\n",
    "hosp_table = TableOne(hosp, columns=columns, categorical=categorical, order=order, limit=limit, rename=rename)\n",
    "display(hosp_table)\n",
    "\n"
   ]
  },
  {
   "cell_type": "markdown",
   "id": "d7a22d93",
   "metadata": {},
   "source": [
    "### Observable Measurements (Prediction Target)"
   ]
  },
  {
   "cell_type": "code",
   "execution_count": 10,
   "id": "62d2ebd7",
   "metadata": {},
   "outputs": [],
   "source": [
    "## NUMERIC FEATURES\n",
    "## TODO: add mergers across tables and within-tables.\n",
    "\n",
    "blood_gas = ['so2', 'po2', 'pco2', 'fio2', 'fio2_chartevents', 'aado2', 'aado2_calc', 'pao2fio2ratio', 'ph', 'baseexcess', 'bicarbonate', 'totalco2', 'hematocrit', 'hemoglobin', 'carboxyhemoglobin', 'methemoglobin', 'chloride', 'calcium', 'temperature', 'potassium', 'sodium', 'lactate', 'glucose']\n",
    "\n",
    "blood_chemistry = ['albumin','globulin','total_protein','aniongap','bicarbonate','bun','calcium','chloride','creatinine','glucose','sodium','potassium']\n",
    "\n",
    "cardiac_markers = ['troponin_t','ntprobnp','ck_mb']\n",
    "\n",
    "cbc = ['hematocrit','hemoglobin','mch','mchc','mcv','platelet','rbc','rdw','rdwsd','wbc']\n",
    "\n",
    "vital_signs = ['heart_rate','sbp','dbp','mbp','sbp_ni','dbp_ni','mbp_ni','resp_rate','temperature','spo2','glucose']\n",
    "\n",
    "# Glasgow Coma Scale, a measure of neurological function\n",
    "coma_signs = ['gcs','gcs_motor','gcs_verbal','gcs_eyes','gcs_unable']\n",
    "\n",
    "renal_out = ['uo_rt_6hr', 'uo_rt_12hr', 'uo_rt_24hr']\n",
    "\n",
    "renal_creat = ['creat']\n",
    "\n",
    "renal_aki = ['aki_stage_smoothed']"
   ]
  },
  {
   "cell_type": "code",
   "execution_count": 11,
   "id": "c159061e",
   "metadata": {},
   "outputs": [],
   "source": [
    "def filter_measurements(df, hadm_id_selection=None, subject_id_selection=None):\n",
    "    n = OrderedDict()\n",
    "    n['n0'] = len(df)\n",
    "    \n",
    "    cols = df.columns\n",
    "    \n",
    "    # (1) Filter measurements based on admission_id selection.\n",
    "    if hadm_id_selection is not None:\n",
    "        df = df[df.hadm_id.isin(hadm_id_selection)]\n",
    "    \n",
    "    n['n adm. filter'] = len(df)\n",
    "    \n",
    "    \n",
    "    # Merge with Admission Table\n",
    "    df_ = df.merge(adm_df, on='hadm_id', how='left')\n",
    "\n",
    "    # (2) Filter measurements based on subject_id selection\n",
    "    if subject_id_selection is not None:\n",
    "        df_ = df_[df_.subject_id.isin(subject_id_selection)]\n",
    "    \n",
    "    n['n subj. filter'] = len(df_)\n",
    "        \n",
    "    # (3) Filter measurements with time_bin outside the hosp stay.\n",
    "    mask = df_.time_bin.between(df_.admittime, df_.dischtime)\n",
    "    \n",
    "    df_ = df_[mask]\n",
    "    df = df_[cols]\n",
    "    n['n in-patient time'] = len(df)\n",
    "    \n",
    "    print('\\n'.join(f'{filt}: {num} ({100 * num / n[\"n0\"]:.1f})' for filt, num in n.items()))\n",
    "    print('\\n========\\n')\n",
    "    return df"
   ]
  },
  {
   "cell_type": "markdown",
   "id": "1ef43e8b",
   "metadata": {},
   "source": [
    "### Numeric Feature Tables"
   ]
  },
  {
   "cell_type": "code",
   "execution_count": 12,
   "id": "722d5f67",
   "metadata": {},
   "outputs": [],
   "source": [
    "agg_interval = 'hour'\n",
    "# For higher resolution binning see: \n",
    "# https://stackoverflow.com/questions/7299342/what-is-the-fastest-way-to-truncate-timestamps-to-5-minutes-in-postgres\n",
    "\n",
    "# Time-binning can be specific for each table"
   ]
  },
  {
   "cell_type": "code",
   "execution_count": 13,
   "id": "9db57a36",
   "metadata": {},
   "outputs": [],
   "source": [
    "renal_out_query = f\"\"\"\n",
    "select icu.hadm_id,\n",
    "       {', '.join(map(lambda e: f'avg(r.{e}) as {e}', renal_out))},\n",
    "       date_trunc('{agg_interval}', r.charttime) time_bin\n",
    "from mimiciv_derived.kdigo_uo as r\n",
    "inner join mimiciv_icu.icustays as icu\n",
    " on icu.stay_id = r.stay_id\n",
    "group by icu.hadm_id, time_bin\n",
    "\"\"\"\n",
    "\n",
    "renal_creat_query = f\"\"\"\n",
    "select icu.hadm_id,\n",
    "       {', '.join(map(lambda e: f'avg(r.{e}) as {e}', renal_creat))},\n",
    "       date_trunc('{agg_interval}', r.charttime) time_bin\n",
    "from mimiciv_derived.kdigo_creatinine as r\n",
    "inner join mimiciv_icu.icustays as icu\n",
    " on icu.stay_id = r.stay_id\n",
    "group by icu.hadm_id, time_bin\n",
    "\"\"\"\n",
    "\n",
    "renal_aki_query = f\"\"\"\n",
    "select icu.hadm_id,\n",
    "       {', '.join(map(lambda e: f'avg(r.{e}) as {e}', renal_aki))},\n",
    "       date_trunc('{agg_interval}', r.charttime) time_bin\n",
    "from mimiciv_derived.kdigo_stages as r\n",
    "inner join mimiciv_icu.icustays as icu\n",
    " on icu.stay_id = r.stay_id\n",
    "group by icu.hadm_id, time_bin\n",
    "\"\"\"\n",
    "\n",
    "renal_out_df = pd.read_sql_query(renal_out_query, con)\n",
    "renal_creat_df = pd.read_sql_query(renal_creat_query, con)\n",
    "renal_aki_df = pd.read_sql_query(renal_aki_query, con)\n"
   ]
  },
  {
   "cell_type": "code",
   "execution_count": 14,
   "id": "5aa3bfdd",
   "metadata": {},
   "outputs": [],
   "source": [
    "renal_hadm_id = pd.Series(renal_aki_df.hadm_id.unique())"
   ]
  },
  {
   "cell_type": "code",
   "execution_count": 15,
   "id": "45c663d4",
   "metadata": {},
   "outputs": [
    {
     "data": {
      "text/html": [
       "<div>\n",
       "<style scoped>\n",
       "    .dataframe tbody tr th:only-of-type {\n",
       "        vertical-align: middle;\n",
       "    }\n",
       "\n",
       "    .dataframe tbody tr th {\n",
       "        vertical-align: top;\n",
       "    }\n",
       "\n",
       "    .dataframe thead th {\n",
       "        text-align: right;\n",
       "    }\n",
       "</style>\n",
       "<table border=\"1\" class=\"dataframe\">\n",
       "  <thead>\n",
       "    <tr style=\"text-align: right;\">\n",
       "      <th></th>\n",
       "      <th>subject_id</th>\n",
       "      <th>hadm_id</th>\n",
       "      <th>admittime</th>\n",
       "      <th>dischtime</th>\n",
       "      <th>adm_has_renal_data</th>\n",
       "    </tr>\n",
       "  </thead>\n",
       "  <tbody>\n",
       "    <tr>\n",
       "      <th>0</th>\n",
       "      <td>10000032</td>\n",
       "      <td>22595853</td>\n",
       "      <td>2180-05-06 22:23:00</td>\n",
       "      <td>2180-05-07 17:15:00</td>\n",
       "      <td>False</td>\n",
       "    </tr>\n",
       "    <tr>\n",
       "      <th>1</th>\n",
       "      <td>10000032</td>\n",
       "      <td>22841357</td>\n",
       "      <td>2180-06-26 18:27:00</td>\n",
       "      <td>2180-06-27 18:49:00</td>\n",
       "      <td>False</td>\n",
       "    </tr>\n",
       "    <tr>\n",
       "      <th>2</th>\n",
       "      <td>10000032</td>\n",
       "      <td>25742920</td>\n",
       "      <td>2180-08-05 23:44:00</td>\n",
       "      <td>2180-08-07 17:50:00</td>\n",
       "      <td>False</td>\n",
       "    </tr>\n",
       "    <tr>\n",
       "      <th>3</th>\n",
       "      <td>10000032</td>\n",
       "      <td>29079034</td>\n",
       "      <td>2180-07-23 12:35:00</td>\n",
       "      <td>2180-07-25 17:55:00</td>\n",
       "      <td>True</td>\n",
       "    </tr>\n",
       "    <tr>\n",
       "      <th>4</th>\n",
       "      <td>10000068</td>\n",
       "      <td>25022803</td>\n",
       "      <td>2160-03-03 23:16:00</td>\n",
       "      <td>2160-03-04 06:26:00</td>\n",
       "      <td>False</td>\n",
       "    </tr>\n",
       "    <tr>\n",
       "      <th>...</th>\n",
       "      <td>...</td>\n",
       "      <td>...</td>\n",
       "      <td>...</td>\n",
       "      <td>...</td>\n",
       "      <td>...</td>\n",
       "    </tr>\n",
       "    <tr>\n",
       "      <th>431226</th>\n",
       "      <td>19999828</td>\n",
       "      <td>25744818</td>\n",
       "      <td>2149-01-08 16:44:00</td>\n",
       "      <td>2149-01-18 17:00:00</td>\n",
       "      <td>True</td>\n",
       "    </tr>\n",
       "    <tr>\n",
       "      <th>431227</th>\n",
       "      <td>19999828</td>\n",
       "      <td>29734428</td>\n",
       "      <td>2147-07-18 16:23:00</td>\n",
       "      <td>2147-08-04 18:10:00</td>\n",
       "      <td>False</td>\n",
       "    </tr>\n",
       "    <tr>\n",
       "      <th>431228</th>\n",
       "      <td>19999840</td>\n",
       "      <td>21033226</td>\n",
       "      <td>2164-09-10 13:47:00</td>\n",
       "      <td>2164-09-17 13:42:00</td>\n",
       "      <td>True</td>\n",
       "    </tr>\n",
       "    <tr>\n",
       "      <th>431229</th>\n",
       "      <td>19999840</td>\n",
       "      <td>26071774</td>\n",
       "      <td>2164-07-25 00:27:00</td>\n",
       "      <td>2164-07-28 12:15:00</td>\n",
       "      <td>False</td>\n",
       "    </tr>\n",
       "    <tr>\n",
       "      <th>431230</th>\n",
       "      <td>19999987</td>\n",
       "      <td>23865745</td>\n",
       "      <td>2145-11-02 21:38:00</td>\n",
       "      <td>2145-11-11 12:57:00</td>\n",
       "      <td>True</td>\n",
       "    </tr>\n",
       "  </tbody>\n",
       "</table>\n",
       "<p>431231 rows × 5 columns</p>\n",
       "</div>"
      ],
      "text/plain": [
       "        subject_id   hadm_id           admittime           dischtime  \\\n",
       "0         10000032  22595853 2180-05-06 22:23:00 2180-05-07 17:15:00   \n",
       "1         10000032  22841357 2180-06-26 18:27:00 2180-06-27 18:49:00   \n",
       "2         10000032  25742920 2180-08-05 23:44:00 2180-08-07 17:50:00   \n",
       "3         10000032  29079034 2180-07-23 12:35:00 2180-07-25 17:55:00   \n",
       "4         10000068  25022803 2160-03-03 23:16:00 2160-03-04 06:26:00   \n",
       "...            ...       ...                 ...                 ...   \n",
       "431226    19999828  25744818 2149-01-08 16:44:00 2149-01-18 17:00:00   \n",
       "431227    19999828  29734428 2147-07-18 16:23:00 2147-08-04 18:10:00   \n",
       "431228    19999840  21033226 2164-09-10 13:47:00 2164-09-17 13:42:00   \n",
       "431229    19999840  26071774 2164-07-25 00:27:00 2164-07-28 12:15:00   \n",
       "431230    19999987  23865745 2145-11-02 21:38:00 2145-11-11 12:57:00   \n",
       "\n",
       "        adm_has_renal_data  \n",
       "0                    False  \n",
       "1                    False  \n",
       "2                    False  \n",
       "3                     True  \n",
       "4                    False  \n",
       "...                    ...  \n",
       "431226                True  \n",
       "431227               False  \n",
       "431228                True  \n",
       "431229               False  \n",
       "431230                True  \n",
       "\n",
       "[431231 rows x 5 columns]"
      ]
     },
     "execution_count": 15,
     "metadata": {},
     "output_type": "execute_result"
    }
   ],
   "source": [
    "adm_df['adm_has_renal_data'] = adm_df.hadm_id.isin(renal_hadm_id)\n",
    "adm_df"
   ]
  },
  {
   "cell_type": "code",
   "execution_count": 16,
   "id": "a18ac546",
   "metadata": {},
   "outputs": [
    {
     "name": "stderr",
     "output_type": "stream",
     "text": [
      "/tmp/ipykernel_404660/2440518339.py:3: SettingWithCopyWarning: \n",
      "A value is trying to be set on a copy of a slice from a DataFrame.\n",
      "Try using .loc[row_indexer,col_indexer] = value instead\n",
      "\n",
      "See the caveats in the documentation: https://pandas.pydata.org/pandas-docs/stable/user_guide/indexing.html#returning-a-view-versus-a-copy\n",
      "  subjects_with_renal_info['p_adm_with_renal_info'] = subjects_with_renal_info['adm_has_renal_data'] / subjects_with_renal_info['n_adm']\n"
     ]
    }
   ],
   "source": [
    "subject_has_renal = adm_df.groupby('subject_id', as_index=False).agg(n_adm=('hadm_id', 'nunique'), adm_has_renal_data=('adm_has_renal_data', 'sum'))\n",
    "subjects_with_renal_info = subject_has_renal[subject_has_renal['adm_has_renal_data'] > 0]\n",
    "subjects_with_renal_info['p_adm_with_renal_info'] = subjects_with_renal_info['adm_has_renal_data'] / subjects_with_renal_info['n_adm']\n",
    "subject_id_with_renal_info = subjects_with_renal_info.subject_id\n",
    "# subjects_with_renal_info['p_adm_with_renal_info'].hist()"
   ]
  },
  {
   "cell_type": "code",
   "execution_count": 17,
   "id": "dd35907f",
   "metadata": {},
   "outputs": [
    {
     "name": "stdout",
     "output_type": "stream",
     "text": [
      "n0: 3294878 (100.0)\n",
      "n adm. filter: 3292534 (99.9)\n",
      "n subj. filter: 3292534 (99.9)\n",
      "n in-patient time: 3285718 (99.7)\n",
      "\n",
      "========\n",
      "\n",
      "n0: 568158 (100.0)\n",
      "n adm. filter: 566564 (99.7)\n",
      "n subj. filter: 566564 (99.7)\n",
      "n in-patient time: 502249 (88.4)\n",
      "\n",
      "========\n",
      "\n",
      "n0: 3687859 (100.0)\n",
      "n adm. filter: 3684212 (99.9)\n",
      "n subj. filter: 3684212 (99.9)\n",
      "n in-patient time: 3613898 (98.0)\n",
      "\n",
      "========\n",
      "\n"
     ]
    }
   ],
   "source": [
    "renal_out_df = filter_measurements(renal_out_df, hadm_id_selection=hadm_id_los_geq_12h, \n",
    "                                   subject_id_selection=subject_id_with_renal_info)\n",
    "renal_creat_df = filter_measurements(renal_creat_df, hadm_id_selection=hadm_id_los_geq_12h, \n",
    "                                     subject_id_selection=subject_id_with_renal_info)\n",
    "renal_aki_df = filter_measurements(renal_aki_df, hadm_id_selection=hadm_id_los_geq_12h, \n",
    "                                   subject_id_selection=subject_id_with_renal_info)"
   ]
  },
  {
   "cell_type": "code",
   "execution_count": 18,
   "id": "49eacb32",
   "metadata": {},
   "outputs": [],
   "source": [
    "sofa_query = f\"\"\"\n",
    "select hadm_id,\n",
    "      avg(s.sofa_24hours) as sofa ,\n",
    "      date_trunc('{agg_interval}', s.endtime) time_bin\n",
    "from mimiciv_derived.sofa as s\n",
    "inner join mimiciv_icu.icustays icu on s.stay_id = icu.stay_id\n",
    "group by hadm_id, time_bin\n",
    "\"\"\"\n",
    "\n",
    "sofa_df = pd.read_sql_query(sofa_query,con)"
   ]
  },
  {
   "cell_type": "code",
   "execution_count": 19,
   "id": "28cb0275",
   "metadata": {},
   "outputs": [
    {
     "name": "stdout",
     "output_type": "stream",
     "text": [
      "n0: 6044160 (100.0)\n",
      "n adm. filter: 6037941 (99.9)\n",
      "n subj. filter: 6037941 (99.9)\n",
      "n in-patient time: 6001782 (99.3)\n",
      "\n",
      "========\n",
      "\n"
     ]
    }
   ],
   "source": [
    "sofa_df = filter_measurements(sofa_df, hadm_id_selection=hadm_id_los_geq_12h, \n",
    "                            subject_id_selection=subject_id_with_renal_info)"
   ]
  },
  {
   "cell_type": "code",
   "execution_count": 20,
   "id": "00ec2df9",
   "metadata": {},
   "outputs": [],
   "source": [
    "blood_gas_query = f\"\"\"\n",
    "select hadm_id,\n",
    "       {', '.join(map(lambda e: f'avg(bg.{e}) as {e}', blood_gas))},\n",
    "       date_trunc('{agg_interval}', bg.charttime) time_bin\n",
    "from mimiciv_derived.bg as bg\n",
    "group by hadm_id, time_bin\n",
    "\"\"\"\n",
    "\n",
    "bg_df = pd.read_sql_query(blood_gas_query,con)"
   ]
  },
  {
   "cell_type": "code",
   "execution_count": 21,
   "id": "45497725",
   "metadata": {},
   "outputs": [
    {
     "name": "stdout",
     "output_type": "stream",
     "text": [
      "n0: 491564 (100.0)\n",
      "n adm. filter: 442007 (89.9)\n",
      "n subj. filter: 409545 (83.3)\n",
      "n in-patient time: 404226 (82.2)\n",
      "\n",
      "========\n",
      "\n"
     ]
    }
   ],
   "source": [
    "bg_df = filter_measurements(bg_df, hadm_id_selection=hadm_id_los_geq_12h, \n",
    "                            subject_id_selection=subject_id_with_renal_info)"
   ]
  },
  {
   "cell_type": "code",
   "execution_count": 22,
   "id": "4d8ca15a",
   "metadata": {},
   "outputs": [],
   "source": [
    "blood_chemistry_query = f\"\"\"\n",
    "select hadm_id,\n",
    "       {', '.join(map(lambda e: f'avg(ch.{e}) as {e}', blood_chemistry))},\n",
    "       date_trunc('{agg_interval}', ch.charttime) time_bin\n",
    "from mimiciv_derived.chemistry as ch\n",
    "group by hadm_id, time_bin\n",
    "\"\"\"\n",
    "\n",
    "ch_df = pd.read_sql_query(blood_chemistry_query,con)"
   ]
  },
  {
   "cell_type": "code",
   "execution_count": 23,
   "id": "f3ccdda6",
   "metadata": {},
   "outputs": [
    {
     "name": "stdout",
     "output_type": "stream",
     "text": [
      "n0: 2530982 (100.0)\n",
      "n adm. filter: 1987259 (78.5)\n",
      "n subj. filter: 1334968 (52.7)\n",
      "n in-patient time: 1313463 (51.9)\n",
      "\n",
      "========\n",
      "\n"
     ]
    }
   ],
   "source": [
    "ch_df = filter_measurements(ch_df, hadm_id_selection=hadm_id_los_geq_12h, \n",
    "                            subject_id_selection=subject_id_with_renal_info)"
   ]
  },
  {
   "cell_type": "code",
   "execution_count": 24,
   "id": "276cd4a6",
   "metadata": {},
   "outputs": [],
   "source": [
    "cardiac_marker_query = \\\n",
    "f\"\"\"\n",
    "WITH trop AS\n",
    "(\n",
    "    SELECT specimen_id, MAX(valuenum) AS troponin_t\n",
    "    FROM mimiciv_hosp.labevents\n",
    "    WHERE itemid = 51003\n",
    "    GROUP BY specimen_id\n",
    ")\n",
    "SELECT\n",
    "    c.hadm_id\n",
    "    , date_trunc('{agg_interval}', c.charttime) time_bin\n",
    "    , avg(trop.troponin_t) as troponin_t\n",
    "    , avg(c.ntprobnp) as ntprobnp\n",
    "    , avg(c.ck_mb) as ck_mb\n",
    "FROM mimiciv_hosp.admissions a\n",
    "LEFT JOIN mimiciv_derived.cardiac_marker c\n",
    "  ON a.hadm_id = c.hadm_id\n",
    "LEFT JOIN trop\n",
    "  ON c.specimen_id = trop.specimen_id\n",
    "GROUP BY c.hadm_id, time_bin\n",
    "\"\"\"\n",
    "\n",
    "cardiac_df = pd.read_sql_query(cardiac_marker_query,con)"
   ]
  },
  {
   "cell_type": "code",
   "execution_count": 25,
   "id": "634276fd",
   "metadata": {},
   "outputs": [
    {
     "name": "stdout",
     "output_type": "stream",
     "text": [
      "n0: 179011 (100.0)\n",
      "n adm. filter: 177838 (99.3)\n",
      "n subj. filter: 122907 (68.7)\n",
      "n in-patient time: 116983 (65.3)\n",
      "\n",
      "========\n",
      "\n"
     ]
    }
   ],
   "source": [
    "cardiac_df = filter_measurements(cardiac_df, hadm_id_selection=hadm_id_los_geq_12h, \n",
    "                                 subject_id_selection=subject_id_with_renal_info)"
   ]
  },
  {
   "cell_type": "code",
   "execution_count": 26,
   "id": "77dc7932",
   "metadata": {},
   "outputs": [],
   "source": [
    "temp_query = \\\n",
    "f\"\"\"\n",
    "WITH temp_t AS (\n",
    "    SELECT c.hadm_id\n",
    "        , c.charttime\n",
    "        , CASE\n",
    "            WHEN LOWER(c.valueuom)  like '%°f%' THEN (c.valuenum - 32) / 1.8\n",
    "                ELSE c.valuenum\n",
    "          END AS temperature\n",
    "    FROM mimiciv_hosp.admissions a\n",
    "    INNER JOIN mimiciv_icu.chartevents c\n",
    "      ON a.hadm_id = c.hadm_id\n",
    "    INNER JOIN mimiciv_icu.d_items di\n",
    "      ON c.itemid = di.itemid\n",
    "    AND c.itemid IN\n",
    "    (\n",
    "    227632, -- Arctic Sun/Alsius Temp #1 C\n",
    "    227634, -- Arctic Sun/Alsius Temp #2 C\n",
    "    223761 -- Temperature Fahrenheit\n",
    "    )\n",
    "    AND valuenum > 10 AND valuenum < 120\n",
    ")\n",
    "SELECT temp_t.hadm_id\n",
    "     , AVG(temp_t.temperature) temperature\n",
    "     , DATE_TRUNC('{agg_interval}', temp_t.charttime) time_bin\n",
    "FROM temp_t\n",
    "GROUP BY temp_t.hadm_id, time_bin\n",
    "\"\"\"\n",
    "temp_df = pd.read_sql_query(temp_query,con)"
   ]
  },
  {
   "cell_type": "code",
   "execution_count": 27,
   "id": "d90c6138",
   "metadata": {},
   "outputs": [
    {
     "name": "stdout",
     "output_type": "stream",
     "text": [
      "n0: 1534954 (100.0)\n",
      "n adm. filter: 1533292 (99.9)\n",
      "n subj. filter: 1533292 (99.9)\n",
      "n in-patient time: 1526910 (99.5)\n",
      "\n",
      "========\n",
      "\n"
     ]
    }
   ],
   "source": [
    "temp_df = filter_measurements(temp_df, hadm_id_selection=hadm_id_los_geq_12h, \n",
    "                              subject_id_selection=subject_id_with_renal_info)"
   ]
  },
  {
   "cell_type": "code",
   "execution_count": 28,
   "id": "03bc265d",
   "metadata": {},
   "outputs": [],
   "source": [
    "weight_query = f\"\"\"\n",
    "select icu.hadm_id,\n",
    "     avg(w.weight) weight,\n",
    "        w.time_bin\n",
    " from (\n",
    " (select stay_id, w.weight, date_trunc('{agg_interval}', w.starttime) time_bin\n",
    "  from mimiciv_derived.weight_durations as w)\n",
    " union all\n",
    " (select stay_id, w.weight, date_trunc('{agg_interval}', w.endtime) time_bin\n",
    "     from mimiciv_derived.weight_durations as w)\n",
    " ) w\n",
    "inner join mimiciv_icu.icustays icu on w.stay_id = icu.stay_id\n",
    "group by icu.hadm_id, w.time_bin\n",
    "\"\"\"\n",
    "\n",
    "weight_df = pd.read_sql_query(weight_query,con)"
   ]
  },
  {
   "cell_type": "code",
   "execution_count": 29,
   "id": "b0bc98d3",
   "metadata": {},
   "outputs": [
    {
     "name": "stdout",
     "output_type": "stream",
     "text": [
      "n0: 339479 (100.0)\n",
      "n adm. filter: 337848 (99.5)\n",
      "n subj. filter: 337848 (99.5)\n",
      "n in-patient time: 288349 (84.9)\n",
      "\n",
      "========\n",
      "\n"
     ]
    }
   ],
   "source": [
    "weight_df = filter_measurements(weight_df, hadm_id_selection=hadm_id_los_geq_12h, \n",
    "                                subject_id_selection=subject_id_with_renal_info)"
   ]
  },
  {
   "cell_type": "code",
   "execution_count": 30,
   "id": "3e5fec33",
   "metadata": {},
   "outputs": [],
   "source": [
    "cbc_query = f\"\"\"\n",
    "select hadm_id,\n",
    "       {', '.join(map(lambda e: f'avg(cbc.{e}) as {e}', cbc))},\n",
    "       date_trunc('{agg_interval}', cbc.charttime) time_bin\n",
    "from mimiciv_derived.complete_blood_count as cbc\n",
    "group by hadm_id, time_bin\n",
    "\"\"\"\n",
    "cbc_df = pd.read_sql_query(cbc_query, con)"
   ]
  },
  {
   "cell_type": "code",
   "execution_count": 31,
   "id": "77b88303",
   "metadata": {},
   "outputs": [
    {
     "name": "stdout",
     "output_type": "stream",
     "text": [
      "n0: 2463587 (100.0)\n",
      "n adm. filter: 1925075 (78.1)\n",
      "n subj. filter: 1259401 (51.1)\n",
      "n in-patient time: 1238087 (50.3)\n",
      "\n",
      "========\n",
      "\n"
     ]
    }
   ],
   "source": [
    "cbc_df = filter_measurements(cbc_df, hadm_id_selection=hadm_id_los_geq_12h, \n",
    "                             subject_id_selection=subject_id_with_renal_info)"
   ]
  },
  {
   "cell_type": "code",
   "execution_count": 32,
   "id": "652cbb63",
   "metadata": {},
   "outputs": [],
   "source": [
    "vital_query = f\"\"\"\n",
    "select icu.hadm_id,\n",
    "       {', '.join(map(lambda e: f'avg(v.{e}) as {e}', vital_signs))},\n",
    "       date_trunc('{agg_interval}', v.charttime) time_bin\n",
    "from mimiciv_derived.vitalsign as v\n",
    "inner join mimiciv_icu.icustays as icu\n",
    " on icu.stay_id = v.stay_id\n",
    "group by icu.hadm_id, time_bin\n",
    "\"\"\"\n",
    "vital_df = pd.read_sql_query(vital_query, con)"
   ]
  },
  {
   "cell_type": "code",
   "execution_count": 33,
   "id": "c4bef1e2",
   "metadata": {},
   "outputs": [
    {
     "name": "stdout",
     "output_type": "stream",
     "text": [
      "n0: 5886450 (100.0)\n",
      "n adm. filter: 5880273 (99.9)\n",
      "n subj. filter: 5880273 (99.9)\n",
      "n in-patient time: 5861008 (99.6)\n",
      "\n",
      "========\n",
      "\n"
     ]
    }
   ],
   "source": [
    "vital_df = filter_measurements(vital_df, hadm_id_selection=hadm_id_los_geq_12h, \n",
    "                               subject_id_selection=subject_id_with_renal_info)"
   ]
  },
  {
   "cell_type": "code",
   "execution_count": 34,
   "id": "134123a4",
   "metadata": {},
   "outputs": [],
   "source": [
    "gcs_query = f\"\"\"\n",
    "select icu.hadm_id,\n",
    "       {', '.join(map(lambda e: f'avg(gcs.{e}) as {e}', coma_signs))},\n",
    "       date_trunc('{agg_interval}', gcs.charttime) time_bin\n",
    "from mimiciv_derived.gcs as gcs\n",
    "inner join mimiciv_icu.icustays as icu\n",
    " on icu.stay_id = gcs.stay_id\n",
    "group by icu.hadm_id, time_bin\n",
    "\"\"\"\n",
    "gcs_df = pd.read_sql_query(gcs_query, con)"
   ]
  },
  {
   "cell_type": "code",
   "execution_count": 35,
   "id": "ec028841",
   "metadata": {},
   "outputs": [
    {
     "name": "stdout",
     "output_type": "stream",
     "text": [
      "n0: 1628182 (100.0)\n",
      "n adm. filter: 1626537 (99.9)\n",
      "n subj. filter: 1626537 (99.9)\n",
      "n in-patient time: 1621695 (99.6)\n",
      "\n",
      "========\n",
      "\n"
     ]
    }
   ],
   "source": [
    "gcs_df = filter_measurements(gcs_df, hadm_id_selection=hadm_id_los_geq_12h, \n",
    "                             subject_id_selection=subject_id_with_renal_info)"
   ]
  },
  {
   "cell_type": "code",
   "execution_count": null,
   "id": "48b2fd11",
   "metadata": {},
   "outputs": [],
   "source": [
    "\n",
    "bg_df.to_csv('obs_bg.csv.gz', compression='gzip')\n",
    "ch_df.to_csv('obs_ch.csv.gz', compression='gzip')\n",
    "cardiac_df.to_csv('obs_cardiac.csv.gz', compression='gzip')\n",
    "temp_df.to_csv('obs_temp.csv.gz', compression='gzip')\n",
    "weight_df.to_csv('obs_weight.csv.gz', compression='gzip')\n",
    "cbc_df.to_csv('obs_cbc.csv.gz', compression='gzip')\n",
    "vital_df.to_csv('obs_vital.csv.gz', compression='gzip')\n",
    "gcs_df.to_csv('obs_gcs.csv.gz', compression='gzip')\n",
    "renal_out_df.to_csv('obs_renal_out.csv.gz', compression='gzip')\n",
    "renal_creat_df.to_csv('obs_renal_creat.csv.gz', compression='gzip')\n",
    "renal_aki_df.to_csv('obs_renal_aki.csv.gz', compression='gzip')\n",
    "sofa_df.to_csv('obs_sofa.csv.gz', compression='gzip')"
   ]
  },
  {
   "cell_type": "markdown",
   "id": "ea32e37d",
   "metadata": {},
   "source": [
    "### Interventions\n",
    "\n"
   ]
  },
  {
   "cell_type": "code",
   "execution_count": null,
   "id": "d11cef40",
   "metadata": {},
   "outputs": [],
   "source": [
    "## Inputs - Canonicalise\n",
    "\n",
    "input_query = \\\n",
    "\"\"\"\n",
    "SELECT\n",
    "    a.hadm_id\n",
    "    , inp.starttime as start_time\n",
    "    , inp.endtime as end_time\n",
    "    , di.label\n",
    "    , inp.rate \n",
    "    , inp.amount\n",
    "    , inp.rateuom\n",
    "    , inp.amountuom\n",
    "FROM mimiciv_hosp.admissions a\n",
    "INNER JOIN mimiciv_icu.icustays i\n",
    "    ON a.hadm_id = i.hadm_id\n",
    "LEFT JOIN mimiciv_icu.inputevents inp\n",
    "    ON i.stay_id = inp.stay_id\n",
    "LEFT JOIN mimiciv_icu.d_items di\n",
    "    ON inp.itemid = di.itemid\n",
    "\"\"\"\n",
    "\n",
    "\n",
    "## Procedures - Canonicalise and Refine\n",
    "icuproc_query = \\\n",
    "\"\"\"\n",
    "SELECT\n",
    "    a.hadm_id\n",
    "    , pe.starttime as start_time\n",
    "    , pe.endtime as end_time\n",
    "    , di.label\n",
    "    , pe.value\n",
    "FROM mimiciv_hosp.admissions a\n",
    "INNER JOIN mimiciv_icu.icustays i\n",
    "    ON a.hadm_id = i.hadm_id\n",
    "LEFT JOIN mimiciv_icu.procedureevents pe\n",
    "    ON i.stay_id = pe.stay_id\n",
    "LEFT JOIN mimiciv_icu.d_items di\n",
    "    ON pe.itemid = di.itemid\n",
    "\"\"\"\n",
    "\n",
    "hospicdproc_query = \\\n",
    "\"\"\"\n",
    "select pi.hadm_id\n",
    ", (pi.chartdate)::timestamp as start_time\n",
    ", (pi.chartdate + interval '1 hour')::timestamp as end_time\n",
    ", pi.icd_code\n",
    ", pi.icd_version\n",
    ", di.long_title\n",
    "FROM mimiciv_hosp.procedures_icd pi\n",
    "INNER JOIN mimiciv_hosp.d_icd_procedures di\n",
    "  ON pi.icd_version = di.icd_version\n",
    "  AND pi.icd_code = di.icd_code\n",
    "INNER JOIN mimiciv_hosp.admissions a\n",
    "  ON pi.hadm_id = a.hadm_id\n",
    "\"\"\"\n",
    "\n",
    "\n",
    "# === provider order entry (poe) <----- very messy, high irrelevance, ignore\n",
    "\n",
    "poe_query = f\"\"\"\n",
    "SELECT\n",
    "    a.hadm_id\n",
    "    , mimiciv_derived.DATETIME_DIFF(p.ordertime, a.admittime, 'DAY') AS offset\n",
    "    , p.poe_id\n",
    "    , p.order_type, p.order_subtype\n",
    "    , p.transaction_type\n",
    "    , pd.field_name\n",
    "    , pd.field_value\n",
    "FROM mimiciv_hosp.admissions a\n",
    "INNER JOIN mimiciv_hosp.poe p\n",
    "    ON a.hadm_id = p.hadm_id\n",
    "LEFT JOIN  mimiciv_hosp.poe_detail pd\n",
    "    ON p.poe_id = pd.poe_id\n",
    "\"\"\""
   ]
  },
  {
   "cell_type": "code",
   "execution_count": null,
   "id": "1920e3c6",
   "metadata": {},
   "outputs": [],
   "source": [
    "input_df = pd.read_sql_query(input_query,con)"
   ]
  },
  {
   "cell_type": "code",
   "execution_count": null,
   "id": "abd57e5f",
   "metadata": {},
   "outputs": [],
   "source": [
    "icuproc_df = pd.read_sql_query(icuproc_query,con)"
   ]
  },
  {
   "cell_type": "code",
   "execution_count": null,
   "id": "bcaa8c5e",
   "metadata": {},
   "outputs": [],
   "source": [
    "hospicdproc_df = pd.read_sql_query(hospicdproc_query,con)"
   ]
  },
  {
   "cell_type": "code",
   "execution_count": null,
   "id": "8dbb6942",
   "metadata": {},
   "outputs": [],
   "source": [
    "# Ignored entirely\n",
    "# poe_df = pd.read_sql_query(poe_query,con)"
   ]
  },
  {
   "cell_type": "code",
   "execution_count": null,
   "id": "15b52aea",
   "metadata": {},
   "outputs": [],
   "source": [
    "def filter_interventions(df, hadm_id_selection=None, subject_id_selection=None):\n",
    "    n = OrderedDict()\n",
    "    n['n0'] = len(df)\n",
    "    \n",
    "    cols = df.columns\n",
    "    \n",
    "    # (1) Filter interventions based on admission_id selection.\n",
    "    if hadm_id_selection is not None:\n",
    "        df = df[df.hadm_id.isin(hadm_id_selection)]\n",
    "    \n",
    "    n['n adm. filter'] = len(df)\n",
    "    \n",
    "    \n",
    "    # Merge with Admission Table\n",
    "    df_ = df.merge(adm_df, on='hadm_id', how='left')\n",
    "\n",
    "    # (2) Filter interventions based on subject_id selection\n",
    "    if subject_id_selection is not None:\n",
    "        df_ = df_[df_.subject_id.isin(subject_id_selection)]\n",
    "    \n",
    "    n['n subj. filter'] = len(df_)\n",
    "        \n",
    "    # (3) Filter interventions with intervals outside the hosp stay.\n",
    "    mask1 = df_.start_time.between(df_.admittime, df_.dischtime)\n",
    "    mask2 = df_.end_time.between(df_.admittime, df_.dischtime)\n",
    "    n['n start-time filter'] = sum(mask1)\n",
    "    n['n end-time filter'] = sum(mask1 & mask2)\n",
    "\n",
    "    df_ = df_[mask1 & mask2]    \n",
    "    \n",
    "    df = df_[cols]\n",
    "    n['n in-patient time'] = len(df)\n",
    "    \n",
    "    print('\\n'.join(f'{filt}: {num} ({100 * num / n[\"n0\"]:.1f})' for filt, num in n.items()))\n",
    "    print('\\n========\\n')\n",
    "    return df"
   ]
  },
  {
   "cell_type": "code",
   "execution_count": null,
   "id": "8d0ce24b",
   "metadata": {},
   "outputs": [],
   "source": [
    "input_df = filter_interventions(input_df, hadm_id_selection=hadm_id_los_geq_12h, \n",
    "                                subject_id_selection=subject_id_with_renal_info)"
   ]
  },
  {
   "cell_type": "code",
   "execution_count": null,
   "id": "520d7e85",
   "metadata": {},
   "outputs": [],
   "source": [
    "input_df.label.nunique()"
   ]
  },
  {
   "cell_type": "code",
   "execution_count": null,
   "id": "0c5e1dc4",
   "metadata": {},
   "outputs": [],
   "source": [
    "icuproc_df = filter_interventions(icuproc_df, hadm_id_selection=hadm_id_los_geq_12h, \n",
    "                                subject_id_selection=subject_id_with_renal_info)"
   ]
  },
  {
   "cell_type": "code",
   "execution_count": null,
   "id": "e54fd11d",
   "metadata": {},
   "outputs": [],
   "source": [
    "hospicdproc_df = filter_interventions(hospicdproc_df, hadm_id_selection=hadm_id_los_geq_12h, \n",
    "                                subject_id_selection=subject_id_with_renal_info)"
   ]
  },
  {
   "cell_type": "code",
   "execution_count": null,
   "id": "f4c405dc",
   "metadata": {},
   "outputs": [],
   "source": [
    "hospicdproc_df"
   ]
  },
  {
   "cell_type": "markdown",
   "id": "f951060b",
   "metadata": {},
   "source": [
    "### `hospicdproc` + `icuproc` Further filteration and grouper"
   ]
  },
  {
   "cell_type": "code",
   "execution_count": null,
   "id": "85e05ed6",
   "metadata": {},
   "outputs": [],
   "source": [
    "df = hospicdproc_df.merge(adm_df, on='hadm_id', how='left')\n",
    "\n",
    "# timeperc_within_stay = (df['start_time'] - df['admittime']).dt.total_seconds() /(df['dischtime'] - df['admittime']).dt.total_seconds()\n",
    "# timeperc_within_stay.plot.kde()"
   ]
  },
  {
   "cell_type": "code",
   "execution_count": null,
   "id": "f900c29c",
   "metadata": {},
   "outputs": [],
   "source": [
    "icd_n_subjects = df.groupby(['icd_code', 'long_title', 'icd_version'], as_index=False).agg(n_subjects=('subject_id', 'nunique'))\n",
    "icd_n_subjects['p_subjects'] = icd_n_subjects['n_subjects'] / len(subject_id_with_renal_info)\n",
    "# icd_n_subjects['p_subjects'].plot.kde()"
   ]
  },
  {
   "cell_type": "code",
   "execution_count": null,
   "id": "0fb5f065",
   "metadata": {},
   "outputs": [],
   "source": [
    "# Conisder ICD codes with minimum coverage of 0.5% of the selected subjects.\n",
    "hospicd_R1 = icd_n_subjects[icd_n_subjects['p_subjects'] > 0.005]\n",
    "\n",
    "# Remove procedures that are purely diagnostic.\n",
    "patterns = ['diag', 'fluoro', 'biops', 'inspection', 'bronchoscop', 'monitor', 'ultrasonography']\n",
    "\n",
    "hospicd_R2_mask = hospicd_R1['long_title'].str.match('|'.join(f'(.*{p}.*)' for p in patterns), case=False)\n",
    "hospicd_R2 = hospicd_R1[~hospicd_R2_mask]\n",
    "\n",
    "\n",
    "hospicd_R1.to_csv('hospicd_R1.csv')\n",
    "hospicd_R2.to_csv('hospicd_R2.csv')"
   ]
  },
  {
   "cell_type": "code",
   "execution_count": null,
   "id": "7afaefbd",
   "metadata": {},
   "outputs": [],
   "source": [
    "# Apply filteration.\n",
    "hospicdproc_df = hospicdproc_df[hospicdproc_df.icd_code.isin(hospicd_R2.icd_code)]"
   ]
  },
  {
   "cell_type": "code",
   "execution_count": null,
   "id": "16fdebc8",
   "metadata": {},
   "outputs": [],
   "source": [
    "df = hospicdproc_df.merge(adm_df, on='hadm_id', how='left')\n",
    "\n",
    "# timeperc_within_stay = (df['start_time'] - df['admittime']).dt.total_seconds() /(df['dischtime'] - df['admittime']).dt.total_seconds()\n",
    "# timeperc_within_stay.plot.kde(bw_method=0.05)"
   ]
  },
  {
   "cell_type": "code",
   "execution_count": null,
   "id": "31347331",
   "metadata": {},
   "outputs": [],
   "source": [
    "icd_n_subjects = df.groupby(['icd_code', 'long_title', 'icd_version'], as_index=False).agg(n_subjects=('subject_id', 'nunique'))\n",
    "icd_n_subjects['p_subjects'] = icd_n_subjects['n_subjects'] / len(subject_id_with_renal_info)\n",
    "# icd_n_subjects['p_subjects'].plot.kde(bw_method=0.01)"
   ]
  },
  {
   "cell_type": "code",
   "execution_count": null,
   "id": "f8dcb26d",
   "metadata": {},
   "outputs": [],
   "source": [
    "hospicdproc_df"
   ]
  },
  {
   "cell_type": "code",
   "execution_count": null,
   "id": "41e84898",
   "metadata": {},
   "outputs": [],
   "source": [
    "hospicdproc_grouper = pd.read_csv('int_grouper_hospicdproc.csv')\n",
    "hospicdproc_grouper"
   ]
  },
  {
   "cell_type": "code",
   "execution_count": null,
   "id": "093e227d",
   "metadata": {},
   "outputs": [],
   "source": [
    "n1 = len(hospicdproc_df)\n",
    "icd_selection = set(hospicdproc_grouper.icd_code)\n",
    "print(hospicdproc_grouper.icd_code.nunique(), len(hospicdproc_grouper))\n",
    "\n"
   ]
  },
  {
   "cell_type": "code",
   "execution_count": null,
   "id": "af4b670e",
   "metadata": {},
   "outputs": [],
   "source": [
    "hospicdproc_df = hospicdproc_df[hospicdproc_df.icd_code.isin(icd_selection)]\n",
    "n2 = len(hospicdproc_df)\n",
    "n1, n2"
   ]
  },
  {
   "cell_type": "markdown",
   "id": "2550d52e",
   "metadata": {},
   "source": [
    "#### Standard Procedure Table"
   ]
  },
  {
   "cell_type": "code",
   "execution_count": null,
   "id": "1d06638e",
   "metadata": {},
   "outputs": [],
   "source": [
    "hospicd_coder = lambda v, c: f\"v{v}:c{c}\"\n",
    "\n",
    "hospicdproc_df[\"code\"] = list(map(hospicd_coder, hospicdproc_df[\"icd_version\"], hospicdproc_df[\"icd_code\"]))\n",
    "hospicdproc_grouper[\"code\"] = list(map(hospicd_coder, hospicdproc_grouper[\"icd_version\"], hospicdproc_grouper[\"icd_code\"]))\n",
    "hospicdproc_grouper[\"label\"] = hospicdproc_grouper[\"long_title\"]\n",
    "\n",
    "hospicdproc_df = hospicdproc_df[[\"hadm_id\", \"start_time\", \"end_time\", \"code\"]]\n",
    "hospicdproc_grouper = hospicdproc_grouper[[\"code\", \"group\", \"label\"]]"
   ]
  },
  {
   "cell_type": "markdown",
   "id": "9bb7371a",
   "metadata": {},
   "source": [
    "### 'icuproc` refinement"
   ]
  },
  {
   "cell_type": "code",
   "execution_count": null,
   "id": "272b5cc7",
   "metadata": {},
   "outputs": [],
   "source": [
    "icuproc_df"
   ]
  },
  {
   "cell_type": "code",
   "execution_count": null,
   "id": "4562aacc",
   "metadata": {},
   "outputs": [],
   "source": [
    "icuproc_df['total_interval_hrs'] = (icuproc_df['end_time'] - icuproc_df['start_time']).dt.total_seconds() / 3600\n",
    "icuproc_df['total_interval_mins'] = (icuproc_df['end_time'] - icuproc_df['start_time']).dt.total_seconds() / 60\n",
    "icuproc_df['value_per_hour'] = icuproc_df['value'] / icuproc_df['total_interval_hrs']\n",
    "\n",
    "df = icuproc_df.merge(adm_df, on='hadm_id', how='left')\n",
    "df['count'] = 1"
   ]
  },
  {
   "cell_type": "code",
   "execution_count": null,
   "id": "0f41f096",
   "metadata": {},
   "outputs": [],
   "source": [
    "icuproc_n_subjects = df.groupby('label', as_index=False).agg(\n",
    "    n_subjects=('subject_id', 'nunique'),\n",
    "    n=('count', 'sum'),\n",
    "    mean_value=('value', 'mean'),\n",
    "    std_value=('value', 'std'),\n",
    "    mean_value_per_hour=('value_per_hour', 'mean'),\n",
    "    std_value_per_hour=('value_per_hour', 'std'),\n",
    "    mean_interval_minutes=('total_interval_mins', 'mean'),\n",
    "    std_interval_minutes=('total_interval_mins', 'std'))\n",
    "    "
   ]
  },
  {
   "cell_type": "code",
   "execution_count": null,
   "id": "1225294d",
   "metadata": {},
   "outputs": [],
   "source": [
    "icuproc_n_subjects.to_csv('icuproc_n_subjects.csv')"
   ]
  },
  {
   "cell_type": "code",
   "execution_count": null,
   "id": "f9eac9c8",
   "metadata": {},
   "outputs": [],
   "source": [
    "int_icuproc_grouper = pd.read_csv('int_grouper_icuproc.csv')"
   ]
  },
  {
   "cell_type": "code",
   "execution_count": null,
   "id": "7c860c6b",
   "metadata": {},
   "outputs": [],
   "source": [
    "n1 = len(icuproc_df)\n",
    "exclude_icuproc = set(int_icuproc_grouper[int_icuproc_grouper.group == 'exclude'].label)\n",
    "\n",
    "icuproc_df = icuproc_df[~icuproc_df.label.isin(exclude_icuproc)]\n",
    "n2 = len(icuproc_df)\n",
    "n1, n2"
   ]
  },
  {
   "cell_type": "markdown",
   "id": "37ecb4ba",
   "metadata": {},
   "source": [
    "#### Standard Procedure Table"
   ]
  },
  {
   "cell_type": "code",
   "execution_count": null,
   "id": "7fba469a",
   "metadata": {},
   "outputs": [],
   "source": [
    "icuproc_df[\"code\"] = icuproc_df[\"label\"]\n",
    "int_icuproc_grouper[\"code\"] = int_icuproc_grouper[\"label\"]\n",
    "int_icuproc_grouper[\"label\"] = int_icuproc_grouper[\"label\"]\n",
    "\n",
    "icuproc_df = icuproc_df[[\"hadm_id\", \"start_time\", \"end_time\", \"code\"]]\n",
    "int_icuproc_grouper = int_icuproc_grouper[[\"code\", \"group\", \"label\"]]"
   ]
  },
  {
   "cell_type": "code",
   "execution_count": null,
   "id": "1de7bd0e",
   "metadata": {},
   "outputs": [],
   "source": [
    "int_proc_df = pd.concat([hospicdproc_df, icuproc_df], axis=0)\n",
    "int_grouper_proc = pd.concat([hospicdproc_grouper, int_icuproc_grouper], axis=0)\n",
    "\n",
    "int_proc_df.to_csv('int_proc.csv.gz', compression='gzip')\n",
    "int_grouper_proc.to_csv('int_grouper_proc.csv.gz', compression='gzip')"
   ]
  },
  {
   "cell_type": "markdown",
   "id": "afb3a6bd",
   "metadata": {},
   "source": [
    "### `input` filteration and refinement"
   ]
  },
  {
   "cell_type": "code",
   "execution_count": null,
   "id": "dbe42ca1",
   "metadata": {},
   "outputs": [],
   "source": [
    "input_df['total_interval_hrs'] = (input_df['end_time'] - input_df['start_time']).dt.total_seconds() / 3600\n",
    "input_df['total_interval_mins'] = (input_df['end_time'] - input_df['start_time']).dt.total_seconds() / 60\n",
    "input_df['amount_per_hour'] = input_df['amount'] / input_df['total_interval_hrs']"
   ]
  },
  {
   "cell_type": "code",
   "execution_count": null,
   "id": "4f7d47fd",
   "metadata": {},
   "outputs": [],
   "source": [
    "df = input_df.merge(adm_df, on='hadm_id', how='left')\n",
    "df['count'] = 1"
   ]
  },
  {
   "cell_type": "code",
   "execution_count": null,
   "id": "34f16a3a",
   "metadata": {},
   "outputs": [],
   "source": [
    "input_n_subjects = df.groupby(['label', 'amountuom'], as_index=False).agg(\n",
    "    n_subjects=('subject_id', 'nunique'),\n",
    "    n=('count', 'sum'),\n",
    "    mean_amount=('amount', 'mean'),\n",
    "    std_amount=('amount', 'std'),\n",
    "    mean_amount_per_hour=('amount_per_hour', 'mean'),\n",
    "    std_amount_per_hour=('amount_per_hour', 'std'),\n",
    "    mean_interval_minutes=('total_interval_mins', 'mean'),\n",
    "    std_interval_minutes=('total_interval_mins', 'std'))\n",
    "    "
   ]
  },
  {
   "cell_type": "code",
   "execution_count": null,
   "id": "857ff4cc",
   "metadata": {},
   "outputs": [],
   "source": [
    "input_n_subjects.to_csv('input_n_subjects.csv')\n"
   ]
  },
  {
   "cell_type": "code",
   "execution_count": null,
   "id": "9a5487f5",
   "metadata": {},
   "outputs": [],
   "source": [
    "\"\"\"\n",
    "from IPython.display import display\n",
    "\n",
    "input_n_subjects_tom = pd.read_csv('input_n_subjects_tom.csv', index_col=[0])\n",
    "# Change 'M' (maybe) to 'Y' (yes)\n",
    "input_n_subjects_tom.loc[input_n_subjects_tom['dose_impact'] == 'M', 'dose_impact'] = 'Y'\n",
    "\n",
    "# Add column for unit normalisation, default=1.0\n",
    "input_n_subjects_tom['rate_normaliser'] = 1.0\n",
    "\n",
    "# Add label groups\n",
    "input_n_subjects_tom['group'] = input_n_subjects_tom.label.map(input_group_map)\n",
    "\n",
    "# Default group decision:\n",
    "\n",
    "init_decision = {}\n",
    "for group, group_df in input_n_subjects_tom.groupby('group'):\n",
    "    dose_impact = list(group_df['dose_impact'].unique())\n",
    "    \n",
    "    assert len(dose_impact) == 1, f\"Incosistant dose impact decision {group}.\"\n",
    "    dose_impact = dose_impact[0]\n",
    "    if dose_impact == 'Y':\n",
    "        if group_df.label.nunique() > 1:\n",
    "            if group_df.amountuom.nunique() > 1:\n",
    "                init_decision[group] = 'DS(or DH, norm)'\n",
    "            else:\n",
    "                init_decision[group] = 'DS(or DH)'\n",
    "        else:\n",
    "            if group_df.amountuom.nunique() > 1:\n",
    "                init_decision[group] = 'DH(norm)'\n",
    "            else:\n",
    "                init_decision[group] = 'DH'\n",
    "    elif dose_impact == 'N':\n",
    "        \n",
    "        if group_df.label.nunique() > 1:\n",
    "            init_decision[group] = 'H(or S)'\n",
    "        else:\n",
    "            init_decision[group] = 'H'\n",
    "    else:\n",
    "        init_decision[group] = 'E'\n",
    "\n",
    "input_n_subjects_tom['group_decision'] = input_n_subjects_tom['group'].map(init_decision)\n",
    "\n",
    "# Change the order of rate_normaliser column\n",
    "input_n_subjects_tom.insert(1, 'rate_normaliser', input_n_subjects_tom.pop('rate_normaliser'))\n",
    "\n",
    "input_n_subjects_tom = input_n_subjects_tom.set_index(['group', 'dose_impact', 'group_decision', 'label', 'amountuom'])\n",
    "\"\"\""
   ]
  },
  {
   "cell_type": "code",
   "execution_count": null,
   "id": "51fd8397",
   "metadata": {},
   "outputs": [],
   "source": [
    "\"\"\"\n",
    "with pd.ExcelWriter('input_label_groups_notes.xlsx') as writer:\n",
    "    input_n_subjects_tom.to_excel(writer, sheet_name='Sheet1', merge_cells = True)\n",
    "\"\"\""
   ]
  },
  {
   "cell_type": "code",
   "execution_count": null,
   "id": "ea85d44b",
   "metadata": {},
   "outputs": [],
   "source": [
    "int_grouper_input_df = pd.read_excel('input_label_groups_decisions.xlsx').fillna(method='ffill')"
   ]
  },
  {
   "cell_type": "code",
   "execution_count": null,
   "id": "7a6d7572",
   "metadata": {},
   "outputs": [],
   "source": [
    "int_grouper_input_df"
   ]
  },
  {
   "cell_type": "code",
   "execution_count": null,
   "id": "2890f1f0",
   "metadata": {},
   "outputs": [],
   "source": [
    "int_grouper_input_df.to_csv('int_grouper_input.csv.gz', compression='gzip')"
   ]
  },
  {
   "cell_type": "code",
   "execution_count": null,
   "id": "fd7b9fd4",
   "metadata": {},
   "outputs": [],
   "source": [
    "input_df"
   ]
  },
  {
   "cell_type": "code",
   "execution_count": null,
   "id": "6002b69d",
   "metadata": {},
   "outputs": [],
   "source": [
    "input_df.to_csv('int_input.csv.gz', compression='gzip')"
   ]
  },
  {
   "cell_type": "markdown",
   "id": "5decee0f",
   "metadata": {},
   "source": [
    "## Dx Codes Filteration"
   ]
  },
  {
   "cell_type": "code",
   "execution_count": null,
   "id": "857df37c",
   "metadata": {},
   "outputs": [],
   "source": [
    "def filter_discharge_codes(df, subject_id_selection=None):\n",
    "    n = OrderedDict()\n",
    "    n['n0'] = len(df)\n",
    "    \n",
    "    cols = df.columns\n",
    "    \n",
    "    # (1) Filter discharge codes if subject has a single admission.\n",
    "    n_adms = df.groupby('subject_id', as_index=False).agg(n_adms=('hadm_id', 'nunique'))\n",
    "    n_adms_subjects = set(n_adms[n_adms['n_adms'] > 1].subject_id)\n",
    "    df = df[df.subject_id.isin(n_adms_subjects)]\n",
    "    \n",
    "    n['n adm. > 1 filter'] = len(df)\n",
    "    \n",
    "\n",
    "    # (2) Filter discharge dx codes based on subject_id selection\n",
    "    if subject_id_selection is not None:\n",
    "        df = df[df.subject_id.isin(subject_id_selection)]\n",
    "    \n",
    "    n['n subj. filter'] = len(df)\n",
    "        \n",
    "    \n",
    "    print('\\n'.join(f'{filt}: {num} ({100 * num / n[\"n0\"]:.1f})' for filt, num in n.items()))\n",
    "    print('\\n========\\n')\n",
    "    return df"
   ]
  },
  {
   "cell_type": "code",
   "execution_count": null,
   "id": "67b30588",
   "metadata": {},
   "outputs": [],
   "source": [
    "dx_query = f\"\"\"\n",
    "SELECT\n",
    "    hadm_id, subject_id, icd_code, icd_version\n",
    "FROM mimiciv_hosp.diagnoses_icd \n",
    "\"\"\"\n",
    "dx_df = pd.read_sql_query(dx_query,con)"
   ]
  },
  {
   "cell_type": "code",
   "execution_count": null,
   "id": "31a51057",
   "metadata": {},
   "outputs": [],
   "source": [
    "dx_df = filter_discharge_codes(dx_df, subject_id_selection=subject_id_with_renal_info)"
   ]
  },
  {
   "cell_type": "code",
   "execution_count": null,
   "id": "2f1e627a",
   "metadata": {},
   "outputs": [],
   "source": [
    "dx_df"
   ]
  },
  {
   "cell_type": "code",
   "execution_count": null,
   "id": "40981734",
   "metadata": {},
   "outputs": [],
   "source": [
    "dx_df.to_csv('dx_df.csv.gz', compression='gzip')"
   ]
  },
  {
   "cell_type": "markdown",
   "id": "9807ce8e",
   "metadata": {},
   "source": [
    "## Admissions & Static Tables "
   ]
  },
  {
   "cell_type": "code",
   "execution_count": null,
   "id": "7b23f5db",
   "metadata": {},
   "outputs": [],
   "source": [
    "def filter_admissions(df, subject_id_selection=None):\n",
    "    n = OrderedDict()\n",
    "    n['n0'] = len(df)\n",
    "    \n",
    "    cols = df.columns\n",
    "\n",
    "    # (1) Filter discharge dx codes based on subject_id selection\n",
    "    if subject_id_selection is not None:\n",
    "        df = df[df.subject_id.isin(subject_id_selection)]\n",
    "    \n",
    "    n['n subj. filter'] = len(df)\n",
    "        \n",
    "    \n",
    "    print('\\n'.join(f'{filt}: {num} ({100 * num / n[\"n0\"]:.1f})' for filt, num in n.items()))\n",
    "    print('\\n========\\n')\n",
    "    return df"
   ]
  },
  {
   "cell_type": "code",
   "execution_count": null,
   "id": "b3a93f26",
   "metadata": {},
   "outputs": [],
   "source": [
    "adm_query = f\"\"\"\n",
    "SELECT\n",
    "    hadm_id, subject_id, admittime, dischtime, race\n",
    "FROM mimiciv_hosp.admissions \n",
    "\"\"\"\n",
    "adm_df = pd.read_sql_query(adm_query,con)"
   ]
  },
  {
   "cell_type": "code",
   "execution_count": null,
   "id": "3e9ccb0f",
   "metadata": {},
   "outputs": [],
   "source": [
    "static_query = f\"\"\"\n",
    "SELECT \n",
    "    p.subject_id, p.gender, a.race, p.anchor_age, p.anchor_year\n",
    "    from mimiciv_hosp.patients p\n",
    "    left join \n",
    "    (select subject_id, max(race) as race\n",
    "    from mimiciv_hosp.admissions\n",
    "    group by subject_id) as a\n",
    "    on p.subject_id = a.subject_id\n",
    "\"\"\"\n",
    "static_df = pd.read_sql_query(static_query,con)"
   ]
  },
  {
   "cell_type": "code",
   "execution_count": null,
   "id": "d9d7a14d",
   "metadata": {},
   "outputs": [],
   "source": [
    "adm_df = filter_admissions(adm_df, subject_id_selection=subject_id_with_renal_info)\n",
    "static_df = filter_admissions(static_df, subject_id_selection=subject_id_with_renal_info)\n"
   ]
  },
  {
   "cell_type": "code",
   "execution_count": null,
   "id": "fe58fa6b",
   "metadata": {},
   "outputs": [],
   "source": [
    "adm_df.to_csv('adm_df.csv.gz', compression='gzip')\n",
    "static_df.to_csv('static_df.csv.gz', compression='gzip')"
   ]
  },
  {
   "cell_type": "code",
   "execution_count": null,
   "id": "cdbce772",
   "metadata": {},
   "outputs": [],
   "source": []
  }
 ],
 "metadata": {
  "kernelspec": {
   "display_name": "Python 3 (ipykernel)",
   "language": "python",
   "name": "python3"
  },
  "language_info": {
   "codemirror_mode": {
    "name": "ipython",
    "version": 3
   },
   "file_extension": ".py",
   "mimetype": "text/x-python",
   "name": "python",
   "nbconvert_exporter": "python",
   "pygments_lexer": "ipython3",
   "version": "3.8.13"
  }
 },
 "nbformat": 4,
 "nbformat_minor": 5
}
