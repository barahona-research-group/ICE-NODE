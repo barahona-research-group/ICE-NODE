{
 "cells": [
  {
   "cell_type": "code",
   "execution_count": 1,
   "id": "76db9cf3",
   "metadata": {},
   "source": [
    "# %env XLA_PYTHON_CLIENT_PREALLOCATE=false\n"
   ],
   "outputs": []
  },
  {
   "cell_type": "code",
   "execution_count": 2,
   "id": "e647d3df",
   "metadata": {},
   "source": [
    "\n",
    "%load_ext autoreload\n",
    "%autoreload 2\n",
    "import sys\n",
    "import os\n",
    "import glob\n",
    "import random\n",
    "from collections import defaultdict\n",
    "from pathlib import Path\n",
    "\n",
    "from IPython.display import display\n",
    "\n",
    "import pandas as pd\n",
    "\n",
    "import jax\n",
    "jax.config.update('jax_platform_name', 'cpu')\n",
    "# jax.config.update('jax_log_compiles', True)\n",
    "# jax.config.update(\"jax_debug_nans\", True)\n",
    "# jax.config.update(\"jax_enable_x64\", True)"
   ],
   "outputs": []
  },
  {
   "cell_type": "code",
   "execution_count": 3,
   "id": "60405e0e",
   "metadata": {},
   "source": [
    "\n",
    "\n",
    "sys.path.append(\"../..\")\n",
    "\n",
    "from lib import utils as U\n",
    "from lib.ehr import load_dataset, load_dataset_scheme, load_dataset_config, Dataset\n",
    "from lib.ehr.interface import Patients, InterfaceConfig\n",
    "from lib.ehr.concepts import DemographicVectorConfig, LeadingObservableConfig\n"
   ],
   "outputs": []
  },
  {
   "cell_type": "code",
   "execution_count": null,
   "id": "2dd32bff",
   "metadata": {},
   "source": [],
   "outputs": []
  },
  {
   "cell_type": "markdown",
   "id": "176130a5",
   "metadata": {},
   "source": [
    "## Load Dataset"
   ]
  },
  {
   "cell_type": "code",
   "execution_count": 4,
   "id": "38bf7861",
   "metadata": {},
   "source": [
    "tag = 'M4ICU'\n",
    "PATH = f'{os.environ.get(\"HOME\")}/GP/ehr-data/mimic4icu-cohort'\n",
    "sample = 15000\n",
    "cache =  f'cached_inteface/patients_{tag}_{sample or \"\"}'\n",
    "dataset_config = load_dataset_config(tag, \n",
    "                                     sample=sample,\n",
    "                                     path=PATH)"
   ],
   "outputs": []
  },
  {
   "cell_type": "code",
   "execution_count": 5,
   "id": "2fe54219",
   "metadata": {},
   "source": [
    "import json\n",
    "dataset_scheme = load_dataset_scheme(tag)\n",
    "interface_schem_options = dataset_scheme.supported_target_scheme_options\n",
    "print(json.dumps(interface_schem_options, sort_keys=True, indent=4))"
   ],
   "outputs": []
  },
  {
   "cell_type": "code",
   "execution_count": 6,
   "id": "b656db98",
   "metadata": {},
   "source": [
    "\n",
    "# Demographic vector attributes\n",
    "demographic_vector_conf = DemographicVectorConfig(\n",
    "    age=False, \n",
    "    gender=False, \n",
    "    ethnicity=False\n",
    ")\n",
    "\n",
    "# Leading \n",
    "leading_AKI = LeadingObservableConfig(leading_hours=tuple(6 * i for i in range(1, 13)),\n",
    "                                      window_aggregate='max',\n",
    "                                      scheme=dataset_scheme.obs,\n",
    "                                      index=42)"
   ],
   "outputs": []
  },
  {
   "cell_type": "code",
   "execution_count": 7,
   "id": "8a92e42c",
   "metadata": {},
   "source": [
    "interface_scheme = dataset_scheme.make_target_scheme_config(dx='DxICD9',\n",
    "                                                            outcome='dx_icd9_filter_v3_groups',\n",
    "                                                            ethnicity='MIMIC4Eth5')\n",
    "interface_config = InterfaceConfig(scheme=interface_scheme,\n",
    "                                   dataset_scheme=dataset_scheme,\n",
    "                                   demographic_vector=demographic_vector_conf,\n",
    "                                   leading_observable=leading_AKI,\n",
    "                                   cache=cache)"
   ],
   "outputs": []
  },
  {
   "cell_type": "code",
   "execution_count": 8,
   "id": "4d50d50b",
   "metadata": {},
   "source": [
    "def dataset_gen(dataset_config):\n",
    "    dataset = load_dataset(config=dataset_config)\n",
    "    # Use training-split for fitting the outlier_remover and the scalers.\n",
    "    splits = dataset.random_splits([0.8, 0.9], random_seed=42, balanced='admissions')\n",
    "    # Outlier removal\n",
    "    outlier_remover = dataset.fit_outlier_remover(splits[0])\n",
    "    dataset = dataset.remove_outliers(outlier_remover)\n",
    "\n",
    "    # Scale\n",
    "    scalers = dataset.fit_scalers(splits[0])\n",
    "    return dataset.apply_scalers(scalers)\n",
    "        "
   ],
   "outputs": []
  },
  {
   "cell_type": "code",
   "execution_count": null,
   "id": "84d53d11",
   "metadata": {},
   "source": [
    "m4patients = Patients.try_load_cached(interface_config,\n",
    "                                      dataset_config=dataset_config,\n",
    "                                      dataset_generator=dataset_gen,\n",
    "                                      num_workers=8)"
   ],
   "outputs": []
  },
  {
   "cell_type": "code",
   "execution_count": null,
   "id": "561569b4",
   "metadata": {},
   "source": [
    "# import equinox as eqx\n",
    "# # Delete heavy loads\n",
    "# m4patients = eqx.tree_at(lambda x: x.subjects, m4patients, {})\n",
    "# m4patients = eqx.tree_at(lambda x: x.dataset, m4patients, None)"
   ],
   "outputs": []
  },
  {
   "cell_type": "markdown",
   "id": "c55ce107",
   "metadata": {},
   "source": [
    "## Load Model"
   ]
  },
  {
   "cell_type": "code",
   "execution_count": null,
   "id": "27cc4ee3",
   "metadata": {},
   "source": [
    "from lib.ml import InpatientExperiment\n",
    "from lib import Config, Module"
   ],
   "outputs": []
  },
  {
   "cell_type": "code",
   "execution_count": null,
   "id": "9372eab8",
   "metadata": {},
   "source": [
    "experiments_dir = f'{os.environ.get(\"HOME\")}/GP/ehr-data/m4icu_out/backup_override/sigmo_dtw_B32_icenode'\n",
    "# experiments_dir = f'{os.environ.get(\"HOME\")}/GP/ehr-data/m4icu_out/backup_override/sigmo_mse_B32_icenode'\n",
    "\n",
    "# experiments_dir = f'{os.environ.get(\"HOME\")}/GP/ehr-data/m4icu_out/mono_mse_icenode'\n",
    "# experiments_dir = f'{os.environ.get(\"HOME\")}/GP/ehr-data/m4icu_out/sigmo_dtw_icenode'\n",
    "# experiments_dir = f'{os.environ.get(\"HOME\")}/GP/ehr-data/m4icu_out/sigmo_mse_icenode'\n",
    "\n",
    "params_file = 'step9293.eqx'\n",
    "# params_file = 'step8260.eqx'\n",
    "\n",
    "# params_file = 'step3355.eqx'\n",
    "# params_file = 'step7227.eqx'\n",
    "# params_file = 'step2839.eqx'\n",
    "\n",
    "experiment_config = U.load_config(f'{experiments_dir}/config.json')\n",
    "experiment_config = Config.from_dict(experiment_config)\n",
    "experiment = InpatientExperiment(config=experiment_config)"
   ],
   "outputs": []
  },
  {
   "cell_type": "code",
   "execution_count": null,
   "id": "97444411",
   "metadata": {},
   "source": [
    "splits = experiment.load_splits(m4patients.dataset)\n",
    "model = experiment.load_model(m4patients)"
   ],
   "outputs": []
  },
  {
   "cell_type": "code",
   "execution_count": null,
   "id": "1cc2c8ee",
   "metadata": {},
   "source": [
    "[len(s) for s in splits]"
   ],
   "outputs": []
  },
  {
   "cell_type": "code",
   "execution_count": null,
   "id": "7918da6e",
   "metadata": {},
   "source": [
    "metrics = experiment.load_metrics(m4patients, splits)"
   ],
   "outputs": []
  },
  {
   "cell_type": "code",
   "execution_count": null,
   "id": "49b04a26",
   "metadata": {},
   "source": [
    "model = model.load_params_from_archive(f'{experiments_dir}/params.zip', params_file)\n"
   ],
   "outputs": []
  },
  {
   "cell_type": "code",
   "execution_count": null,
   "id": "14576aa9",
   "metadata": {},
   "source": [
    "test_split = m4patients.device_batch(splits[2])"
   ],
   "outputs": []
  },
  {
   "cell_type": "code",
   "execution_count": null,
   "id": "91c6aebb",
   "metadata": {},
   "source": [
    "predictions = model.batch_predict(test_split)"
   ],
   "outputs": []
  },
  {
   "cell_type": "code",
   "execution_count": null,
   "id": "8a65407a",
   "metadata": {},
   "source": [],
   "outputs": []
  },
  {
   "cell_type": "code",
   "execution_count": null,
   "id": "3f8f51d6",
   "metadata": {},
   "source": [
    "predictions.save(f'{experiments_dir}/predictions_{params_file}')"
   ],
   "outputs": []
  },
  {
   "cell_type": "code",
   "execution_count": null,
   "id": "cbcfdc5e",
   "metadata": {},
   "source": [
    "from lib.ehr import Predictions\n",
    "predictions = Predictions.load(f'{experiments_dir}/predictions_{params_file}')"
   ],
   "outputs": []
  },
  {
   "cell_type": "code",
   "execution_count": null,
   "id": "f641e9ef",
   "metadata": {},
   "source": [
    "predictions._defragment_observables()\n",
    "predictions.save(f'{experiments_dir}/defrag_predictions_{params_file}')"
   ],
   "outputs": []
  },
  {
   "cell_type": "code",
   "execution_count": 16,
   "id": "5acb5a73",
   "metadata": {},
   "source": [
    "from lib.ehr import Predictions\n",
    "predictions = Predictions.load(f'{experiments_dir}/defrag_predictions_{params_file}')"
   ],
   "outputs": []
  },
  {
   "cell_type": "code",
   "execution_count": null,
   "id": "fc9dd959",
   "metadata": {},
   "source": [
    "from lib.metric import AKISegmentedAdmissionMetric, AKISegmentedAdmissionConfig"
   ],
   "outputs": []
  },
  {
   "cell_type": "code",
   "execution_count": null,
   "id": "00b6c890",
   "metadata": {},
   "source": [
    "aki_metric = AKISegmentedAdmissionMetric(patients=m4patients, \n",
    "                                         config=AKISegmentedAdmissionConfig(stable_window=72))"
   ],
   "outputs": []
  },
  {
   "cell_type": "code",
   "execution_count": null,
   "id": "f4e8be6a",
   "metadata": {},
   "source": [
    "res,segmented_AKI,segmented_AKI_byclass = aki_metric(predictions)"
   ],
   "outputs": []
  },
  {
   "cell_type": "code",
   "execution_count": null,
   "id": "3713b596",
   "metadata": {},
   "source": [
    "res"
   ],
   "outputs": []
  },
  {
   "cell_type": "code",
   "execution_count": 29,
   "id": "09acc78c",
   "metadata": {},
   "source": [
    "segmented_AKI_byclass.keys()"
   ],
   "outputs": []
  },
  {
   "cell_type": "code",
   "execution_count": 30,
   "id": "c8282d72",
   "metadata": {},
   "source": [
    "segmented_AKI['28669544']"
   ],
   "outputs": []
  },
  {
   "cell_type": "code",
   "execution_count": 60,
   "id": "ca37d624",
   "metadata": {},
   "source": [
    "segmented_AKI_byclass['AKI_pre_emergence'][3]"
   ],
   "outputs": []
  },
  {
   "cell_type": "code",
   "execution_count": 63,
   "id": "198e73f8",
   "metadata": {},
   "source": [
    "# [sid for sid in predictions if '27896316' in predictions[sid]]"
   ],
   "outputs": []
  },
  {
   "cell_type": "code",
   "execution_count": 64,
   "id": "6c7b2ba8",
   "metadata": {},
   "source": [
    "import numpy as np\n",
    "# pred = predictions['14139649']['28669544']\n",
    "pred = predictions['14316710']['27896316' ]\n",
    "aki_now = pred.admission.observables.value[:, 42]\n",
    "lobs_gt = pred.admission.leading_observable\n",
    "lobs = pred.leading_observable\n",
    "aki_t = lobs.time\n",
    "aki_preds = np.max(lobs.value, axis=1)\n",
    "aki_mask = lobs.mask.max(axis=1) > 0\n",
    "aki_gt = np.max(lobs_gt.value, axis=1)"
   ],
   "outputs": []
  },
  {
   "cell_type": "code",
   "execution_count": 65,
   "id": "8f63aebb",
   "metadata": {},
   "source": [
    "import matplotlib.pyplot as plt\n",
    "\n",
    "# plot lines \n",
    "plt.scatter(aki_t, aki_preds, label = \"lead_aki_preds\", marker=\"x\") \n",
    "plt.scatter(aki_t, aki_gt, label = \"lead_aki_gt\", marker=\"x\") \n",
    "plt.scatter(aki_t, aki_now, label = \"aki_now\", marker=\"x\") \n",
    "\n",
    "plt.legend() \n",
    "plt.show()"
   ],
   "outputs": []
  },
  {
   "cell_type": "code",
   "execution_count": 57,
   "id": "8c22e5a0",
   "metadata": {},
   "source": [
    "aki_now"
   ],
   "outputs": []
  },
  {
   "cell_type": "code",
   "execution_count": 56,
   "id": "793c1b89",
   "metadata": {},
   "source": [
    "segmented_AKI['28669544']"
   ],
   "outputs": []
  },
  {
   "cell_type": "code",
   "execution_count": 21,
   "id": "e99127c5",
   "metadata": {},
   "source": [
    "import pandas as pd"
   ],
   "outputs": []
  },
  {
   "cell_type": "code",
   "execution_count": 38,
   "id": "7db4b718",
   "metadata": {},
   "source": [
    "val_df = pd.read_csv(f'{experiments_dir}/val_evals.csv.gz', index_col=[0])\n",
    "trn_df = pd.read_csv(f'{experiments_dir}/train_evals.csv.gz', index_col=[0])"
   ],
   "outputs": []
  },
  {
   "cell_type": "code",
   "execution_count": 39,
   "id": "ee09f72f",
   "metadata": {},
   "source": [
    "val_df"
   ],
   "outputs": []
  },
  {
   "cell_type": "code",
   "execution_count": 60,
   "id": "c4492288",
   "metadata": {},
   "source": [
    "obs_cols = [c for c in val_df.columns if 'obs' in c]\n",
    "lead_cols = [c for c in val_df.columns if 'lead' in c]\n",
    "dx_cols = [c for c in val_df.columns if 'dx' in c]\n",
    "obs_cols, lead_cols, dx_cols"
   ],
   "outputs": []
  },
  {
   "cell_type": "code",
   "execution_count": 61,
   "id": "1770543e",
   "metadata": {},
   "source": [
    "trn_obs_df = trn_df[obs_cols + lead_cols + dx_cols]\n",
    "val_obs_df = val_df[obs_cols + lead_cols + dx_cols]\n"
   ],
   "outputs": []
  },
  {
   "cell_type": "code",
   "execution_count": 62,
   "id": "3738d101",
   "metadata": {},
   "source": [
    "trn_obs_df"
   ],
   "outputs": []
  },
  {
   "cell_type": "code",
   "execution_count": 43,
   "id": "46b9ae44",
   "metadata": {},
   "source": [
    "val_obs_df"
   ],
   "outputs": []
  },
  {
   "cell_type": "code",
   "execution_count": 81,
   "id": "a85146b5",
   "metadata": {},
   "source": [
    "import matplotlib.pyplot as plt\n",
    "import numpy as np\n",
    "plt.rcParams.update({'font.size': 11})\n",
    "\n",
    "epochs = np.arange(len(val_obs_df)) + 1\n",
    "\n",
    "# plot lines \n",
    "plt.plot(epochs, val_obs_df['LossMetric.obs_mse'].values, label = \"Validation Loss\", marker='o') \n",
    "plt.plot(epochs, trn_obs_df['LossMetric.obs_mse'].values, label = \"Training Loss\", marker='o') \n",
    "\n",
    "plt.title('$\\mathcal{L}_z$: Observation MSE Loss')\n",
    "plt.xlabel('Epochs')\n",
    "plt.ylabel('Loss')\n",
    "\n",
    "current_figure = plt.gcf()\n",
    "current_figure.savefig(f'{experiments_dir}/obs_loss.pdf', bbox_inches='tight')\n",
    "\n",
    "plt.legend() \n",
    "plt.show()"
   ],
   "outputs": []
  },
  {
   "cell_type": "code",
   "execution_count": 82,
   "id": "86c688dd",
   "metadata": {},
   "source": [
    "# plot lines \n",
    "plt.plot(epochs, val_obs_df['LossMetric.lead_mse'].values, label = \"Validation Loss\", marker='o') \n",
    "plt.plot(epochs, trn_obs_df['LossMetric.lead_mse'].values, label = \"Training Loss\", marker='o') \n",
    "\n",
    "plt.title('$\\mathcal{L}_q$: AKI Early Prediction MSE Loss')\n",
    "plt.xlabel('Epochs')\n",
    "plt.ylabel('Loss')\n",
    "\n",
    "\n",
    "current_figure = plt.gcf()\n",
    "current_figure.savefig(f'{experiments_dir}/lead_loss.pdf', bbox_inches='tight')\n",
    "\n",
    "plt.legend() \n",
    "plt.show()"
   ],
   "outputs": []
  },
  {
   "cell_type": "code",
   "execution_count": 83,
   "id": "57c80159",
   "metadata": {},
   "source": [
    "# plot lines \n",
    "plt.plot(epochs, val_obs_df['LossMetric.dx_balanced_focal_bce'].values, label = \"Validation Loss\", marker='o') \n",
    "plt.plot(epochs, trn_obs_df['LossMetric.dx_balanced_focal_bce'].values, label = \"Training Loss\", marker='o') \n",
    "\n",
    "plt.title('$\\mathcal{L}_x$: Discharge Codes Prediction BCE Loss')\n",
    "plt.xlabel('Epochs')\n",
    "plt.ylabel('Loss')\n",
    "\n",
    "\n",
    "current_figure = plt.gcf()\n",
    "current_figure.savefig(f'{experiments_dir}/dx_loss.pdf', bbox_inches='tight')\n",
    "\n",
    "\n",
    "plt.legend() \n",
    "plt.show()"
   ],
   "outputs": []
  },
  {
   "cell_type": "code",
   "execution_count": 84,
   "id": "ff81cc7d",
   "metadata": {},
   "source": [
    "# plot lines \n",
    "val_loss = 50 * val_obs_df['LossMetric.obs_mse'] + 50 * val_obs_df['LossMetric.lead_mse'] +  val_obs_df['LossMetric.dx_balanced_focal_bce']\n",
    "trn_loss = 50 * trn_obs_df['LossMetric.obs_mse'] + 50 * trn_obs_df['LossMetric.lead_mse'] +  trn_obs_df['LossMetric.dx_balanced_focal_bce']\n",
    "\n",
    "plt.plot(epochs, val_loss.values, label = \"Validation Loss\", marker='o') \n",
    "plt.plot(epochs, trn_loss.values, label = \"Training Loss\", marker='o') \n",
    "\n",
    "plt.title('$\\mathcal{L}$: Multi-Objective Loss')\n",
    "plt.xlabel('Epochs')\n",
    "plt.ylabel('Loss')\n",
    "\n",
    "\n",
    "current_figure = plt.gcf()\n",
    "current_figure.savefig(f'{experiments_dir}/loss.pdf', bbox_inches='tight')\n",
    "\n",
    "\n",
    "plt.legend() \n",
    "plt.show()"
   ],
   "outputs": []
  },
  {
   "cell_type": "code",
   "execution_count": 88,
   "id": "08a8960f",
   "metadata": {},
   "source": [
    "first_emergence = {k:v for k,v in res.items() if k.startswith('first')}"
   ],
   "outputs": []
  },
  {
   "cell_type": "code",
   "execution_count": 92,
   "id": "22b0ff7f",
   "metadata": {},
   "source": [
    "first_emergence = {k.split('_')[-1]: v for k,v in first_emergence.items()}"
   ],
   "outputs": []
  },
  {
   "cell_type": "code",
   "execution_count": 94,
   "id": "d38597a5",
   "metadata": {},
   "source": [
    "fem_auc_df = pd.DataFrame(first_emergence, index=[0])"
   ],
   "outputs": []
  },
  {
   "cell_type": "code",
   "execution_count": 95,
   "id": "dad99c47",
   "metadata": {},
   "source": [
    "print(fem_auc_df.to_latex())"
   ],
   "outputs": []
  },
  {
   "cell_type": "code",
   "execution_count": null,
   "id": "e83c3330",
   "metadata": {},
   "source": [],
   "outputs": []
  }
 ],
 "metadata": {
  "kernelspec": {
   "display_name": "Python 3 (ipykernel)",
   "language": "python",
   "name": "python3"
  },
  "language_info": {
   "codemirror_mode": {
    "name": "ipython",
    "version": 3
   },
   "file_extension": ".py",
   "mimetype": "text/x-python",
   "name": "python",
   "nbconvert_exporter": "python",
   "pygments_lexer": "ipython3",
   "version": "3.9.17"
  }
 },
 "nbformat": 4,
 "nbformat_minor": 5
}
