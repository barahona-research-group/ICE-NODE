{
 "cells": [
  {
   "cell_type": "code",
   "execution_count": 1,
   "id": "76db9cf3",
   "metadata": {},
   "outputs": [],
   "source": [
    "# %env XLA_PYTHON_CLIENT_PREALLOCATE=false\n"
   ]
  },
  {
   "cell_type": "code",
   "execution_count": 2,
   "id": "e647d3df",
   "metadata": {},
   "outputs": [],
   "source": [
    "\n",
    "%load_ext autoreload\n",
    "%autoreload 2\n",
    "import sys\n",
    "import os\n",
    "import glob\n",
    "import random\n",
    "from collections import defaultdict\n",
    "from pathlib import Path\n",
    "\n",
    "from IPython.display import display\n",
    "\n",
    "import pandas as pd\n",
    "\n",
    "import jax\n",
    "jax.config.update('jax_platform_name', 'cpu')\n",
    "# jax.config.update('jax_log_compiles', True)\n",
    "# jax.config.update(\"jax_debug_nans\", True)\n",
    "# jax.config.update(\"jax_enable_x64\", True)"
   ]
  },
  {
   "cell_type": "code",
   "execution_count": 3,
   "id": "60405e0e",
   "metadata": {},
   "outputs": [],
   "source": [
    "\n",
    "\n",
    "sys.path.append(\"../..\")\n",
    "\n",
    "from lib import utils as U\n",
    "from lib.ehr import load_dataset, load_dataset_scheme, load_dataset_config, Dataset\n",
    "from lib.ehr.interface import Patients, InterfaceConfig\n",
    "from lib.ehr.concepts import DemographicVectorConfig, LeadingObservableConfig\n"
   ]
  },
  {
   "cell_type": "code",
   "execution_count": null,
   "id": "2dd32bff",
   "metadata": {},
   "outputs": [],
   "source": []
  },
  {
   "cell_type": "markdown",
   "id": "176130a5",
   "metadata": {},
   "source": [
    "## Load Dataset"
   ]
  },
  {
   "cell_type": "code",
   "execution_count": 4,
   "id": "38bf7861",
   "metadata": {},
   "outputs": [],
   "source": [
    "tag = 'M4ICU'\n",
    "PATH = f'{os.environ.get(\"HOME\")}/GP/ehr-data/mimic4icu-cohort'\n",
    "sample = 15000\n",
    "cache =  f'cached_inteface/patients_{tag}_{sample or \"\"}'\n",
    "dataset_config = load_dataset_config(tag, \n",
    "                                     sample=sample,\n",
    "                                     path=PATH)"
   ]
  },
  {
   "cell_type": "code",
   "execution_count": 5,
   "id": "2fe54219",
   "metadata": {},
   "outputs": [
    {
     "name": "stdout",
     "output_type": "stream",
     "text": [
      "{\n",
      "    \"dx\": [\n",
      "        \"DxICD10\",\n",
      "        \"DxICD9\",\n",
      "        \"DxFlatCCS\",\n",
      "        \"DxCCS\"\n",
      "    ],\n",
      "    \"ethnicity\": [\n",
      "        \"MIMIC4Eth32\",\n",
      "        \"MIMIC4Eth5\"\n",
      "    ],\n",
      "    \"gender\": [\n",
      "        \"Gender\"\n",
      "    ],\n",
      "    \"int_input\": [\n",
      "        \"MIMICInput\",\n",
      "        \"MIMICInputGroups\"\n",
      "    ],\n",
      "    \"int_proc\": [\n",
      "        \"MIMICProcedures\",\n",
      "        \"MIMICProcedureGroups\"\n",
      "    ],\n",
      "    \"obs\": [\n",
      "        \"MIMICObservables\"\n",
      "    ],\n",
      "    \"outcome\": [\n",
      "        \"dx_flatccs_filter_v1\",\n",
      "        \"dx_icd9_filter_v1\",\n",
      "        \"dx_flatccs_mlhc_groups\",\n",
      "        \"dx_icd9_filter_v3_groups\",\n",
      "        \"dx_icd9_filter_v2_groups\"\n",
      "    ]\n",
      "}\n"
     ]
    }
   ],
   "source": [
    "import json\n",
    "dataset_scheme = load_dataset_scheme(tag)\n",
    "interface_schem_options = dataset_scheme.supported_target_scheme_options\n",
    "print(json.dumps(interface_schem_options, sort_keys=True, indent=4))"
   ]
  },
  {
   "cell_type": "code",
   "execution_count": 6,
   "id": "b656db98",
   "metadata": {},
   "outputs": [],
   "source": [
    "\n",
    "# Demographic vector attributes\n",
    "demographic_vector_conf = DemographicVectorConfig(\n",
    "    age=False, \n",
    "    gender=False, \n",
    "    ethnicity=False\n",
    ")\n",
    "\n",
    "# Leading \n",
    "leading_AKI = LeadingObservableConfig(leading_hours=tuple(6 * i for i in range(1, 13)),\n",
    "                                      window_aggregate='max',\n",
    "                                      scheme=dataset_scheme.obs,\n",
    "                                      index=42)"
   ]
  },
  {
   "cell_type": "code",
   "execution_count": 7,
   "id": "8a92e42c",
   "metadata": {},
   "outputs": [],
   "source": [
    "interface_scheme = dataset_scheme.make_target_scheme_config(dx='DxICD9',\n",
    "                                                            outcome='dx_icd9_filter_v3_groups',\n",
    "                                                            ethnicity='MIMIC4Eth5')\n",
    "interface_config = InterfaceConfig(scheme=interface_scheme,\n",
    "                                   dataset_scheme=dataset_scheme,\n",
    "                                   demographic_vector=demographic_vector_conf,\n",
    "                                   leading_observable=leading_AKI,\n",
    "                                   cache=cache)"
   ]
  },
  {
   "cell_type": "code",
   "execution_count": 8,
   "id": "4d50d50b",
   "metadata": {},
   "outputs": [],
   "source": [
    "def dataset_gen(dataset_config):\n",
    "    dataset = load_dataset(config=dataset_config)\n",
    "    # Use training-split for fitting the outlier_remover and the scalers.\n",
    "    splits = dataset.random_splits([0.8, 0.9], random_seed=42, balanced='admissions')\n",
    "    # Outlier removal\n",
    "    outlier_remover = dataset.fit_outlier_remover(splits[0])\n",
    "    dataset = dataset.remove_outliers(outlier_remover)\n",
    "\n",
    "    # Scale\n",
    "    scalers = dataset.fit_scalers(splits[0])\n",
    "    return dataset.apply_scalers(scalers)\n",
    "        "
   ]
  },
  {
   "cell_type": "code",
   "execution_count": null,
   "id": "84d53d11",
   "metadata": {},
   "outputs": [
    {
     "name": "stderr",
     "output_type": "stream",
     "text": [
      "/home/asem/GP/ICE-NODE/notebooks/mimic_icu/../../lib/ehr/ds_mimic4.py:261: PerformanceWarning: Adding/subtracting object-dtype array to DatetimeArray not vectorized.\n",
      "  dob = anchor_date + anchor_age\n",
      "/home/asem/GP/ICE-NODE/notebooks/mimic_icu/../../lib/ehr/concepts.py:48: RuntimeWarning: All-NaN slice encountered\n",
      "  return func(x, axis)\n"
     ]
    }
   ],
   "source": [
    "m4patients = Patients.try_load_cached(interface_config,\n",
    "                                      dataset_config=dataset_config,\n",
    "                                      dataset_generator=dataset_gen,\n",
    "                                      num_workers=8)"
   ]
  },
  {
   "cell_type": "code",
   "execution_count": null,
   "id": "561569b4",
   "metadata": {},
   "outputs": [],
   "source": [
    "# import equinox as eqx\n",
    "# # Delete heavy loads\n",
    "# m4patients = eqx.tree_at(lambda x: x.subjects, m4patients, {})\n",
    "# m4patients = eqx.tree_at(lambda x: x.dataset, m4patients, None)"
   ]
  },
  {
   "cell_type": "markdown",
   "id": "c55ce107",
   "metadata": {},
   "source": [
    "## Load Model"
   ]
  },
  {
   "cell_type": "code",
   "execution_count": null,
   "id": "27cc4ee3",
   "metadata": {},
   "outputs": [],
   "source": [
    "from lib.ml import InpatientExperiment\n",
    "from lib import Config, Module"
   ]
  },
  {
   "cell_type": "code",
   "execution_count": null,
   "id": "9372eab8",
   "metadata": {},
   "outputs": [],
   "source": [
    "experiments_dir = f'{os.environ.get(\"HOME\")}/GP/ehr-data/m4icu_out/backup_override/sigmo_dtw_B32_icenode'\n",
    "# experiments_dir = f'{os.environ.get(\"HOME\")}/GP/ehr-data/m4icu_out/backup_override/sigmo_mse_B32_icenode'\n",
    "\n",
    "# experiments_dir = f'{os.environ.get(\"HOME\")}/GP/ehr-data/m4icu_out/mono_mse_icenode'\n",
    "# experiments_dir = f'{os.environ.get(\"HOME\")}/GP/ehr-data/m4icu_out/sigmo_dtw_icenode'\n",
    "# experiments_dir = f'{os.environ.get(\"HOME\")}/GP/ehr-data/m4icu_out/sigmo_mse_icenode'\n",
    "\n",
    "params_file = 'step9293.eqx'\n",
    "# params_file = 'step8260.eqx'\n",
    "\n",
    "# params_file = 'step3355.eqx'\n",
    "# params_file = 'step7227.eqx'\n",
    "# params_file = 'step2839.eqx'\n",
    "\n",
    "experiment_config = U.load_config(f'{experiments_dir}/config.json')\n",
    "experiment_config = Config.from_dict(experiment_config)\n",
    "experiment = InpatientExperiment(config=experiment_config)"
   ]
  },
  {
   "cell_type": "code",
   "execution_count": null,
   "id": "97444411",
   "metadata": {},
   "outputs": [],
   "source": [
    "splits = experiment.load_splits(m4patients.dataset)\n",
    "model = experiment.load_model(m4patients)"
   ]
  },
  {
   "cell_type": "code",
   "execution_count": null,
   "id": "1cc2c8ee",
   "metadata": {},
   "outputs": [],
   "source": [
    "[len(s) for s in splits]"
   ]
  },
  {
   "cell_type": "code",
   "execution_count": null,
   "id": "7918da6e",
   "metadata": {},
   "outputs": [],
   "source": [
    "metrics = experiment.load_metrics(m4patients, splits)"
   ]
  },
  {
   "cell_type": "code",
   "execution_count": null,
   "id": "49b04a26",
   "metadata": {},
   "outputs": [],
   "source": [
    "model = model.load_params_from_archive(f'{experiments_dir}/params.zip', params_file)\n"
   ]
  },
  {
   "cell_type": "code",
   "execution_count": null,
   "id": "14576aa9",
   "metadata": {},
   "outputs": [],
   "source": [
    "test_split = m4patients.device_batch(splits[2])"
   ]
  },
  {
   "cell_type": "code",
   "execution_count": null,
   "id": "91c6aebb",
   "metadata": {},
   "outputs": [],
   "source": [
    "predictions = model.batch_predict(test_split)"
   ]
  },
  {
   "cell_type": "code",
   "execution_count": null,
   "id": "8a65407a",
   "metadata": {},
   "outputs": [],
   "source": []
  },
  {
   "cell_type": "code",
   "execution_count": null,
   "id": "3f8f51d6",
   "metadata": {},
   "outputs": [],
   "source": [
    "predictions.save(f'{experiments_dir}/predictions_{params_file}')"
   ]
  },
  {
   "cell_type": "code",
   "execution_count": null,
   "id": "cbcfdc5e",
   "metadata": {},
   "outputs": [],
   "source": [
    "from lib.ehr import Predictions\n",
    "predictions = Predictions.load(f'{experiments_dir}/predictions_{params_file}')"
   ]
  },
  {
   "cell_type": "code",
   "execution_count": null,
   "id": "f641e9ef",
   "metadata": {},
   "outputs": [],
   "source": [
    "predictions._defragment_observables()\n",
    "predictions.save(f'{experiments_dir}/defrag_predictions_{params_file}')"
   ]
  },
  {
   "cell_type": "code",
   "execution_count": 16,
   "id": "5acb5a73",
   "metadata": {},
   "outputs": [],
   "source": [
    "from lib.ehr import Predictions\n",
    "predictions = Predictions.load(f'{experiments_dir}/defrag_predictions_{params_file}')"
   ]
  },
  {
   "cell_type": "code",
   "execution_count": null,
   "id": "fc9dd959",
   "metadata": {},
   "outputs": [],
   "source": [
    "from lib.metric import AKISegmentedAdmissionMetric, AKISegmentedAdmissionConfig"
   ]
  },
  {
   "cell_type": "code",
   "execution_count": null,
   "id": "00b6c890",
   "metadata": {},
   "outputs": [],
   "source": [
    "aki_metric = AKISegmentedAdmissionMetric(patients=m4patients, \n",
    "                                         config=AKISegmentedAdmissionConfig(stable_window=72))"
   ]
  },
  {
   "cell_type": "code",
   "execution_count": null,
   "id": "f4e8be6a",
   "metadata": {},
   "outputs": [],
   "source": [
    "res,segmented_AKI,segmented_AKI_byclass = aki_metric(predictions)"
   ]
  },
  {
   "cell_type": "code",
   "execution_count": null,
   "id": "3713b596",
   "metadata": {},
   "outputs": [],
   "source": [
    "res"
   ]
  },
  {
   "cell_type": "code",
   "execution_count": 29,
   "id": "09acc78c",
   "metadata": {},
   "outputs": [
    {
     "data": {
      "text/plain": [
       "dict_keys(['stable', 'first_AKI_pre_emergence', 'AKI', 'AKI_recovery', 'AKI_pre_emergence'])"
      ]
     },
     "execution_count": 29,
     "metadata": {},
     "output_type": "execute_result"
    }
   ],
   "source": [
    "segmented_AKI_byclass.keys()"
   ]
  },
  {
   "cell_type": "code",
   "execution_count": 30,
   "id": "c8282d72",
   "metadata": {},
   "outputs": [
    {
     "data": {
      "text/plain": [
       "[{'i1': 0,\n",
       "  'i2': 21,\n",
       "  'admission_id': '28669544',\n",
       "  'time': array([ 0.6666667,  2.6666667,  3.6666667,  6.6666665,  7.6666665,\n",
       "          8.666667 ,  9.666667 , 10.666667 , 11.666667 , 12.666667 ,\n",
       "         13.666667 , 14.666667 , 15.666667 , 16.666666 , 17.666666 ,\n",
       "         18.666666 , 19.666666 , 20.666666 , 21.666666 , 22.666666 ,\n",
       "         23.666666 ], dtype=float32),\n",
       "  'next_interval_time': 24.666666,\n",
       "  'aki_label': 0.0,\n",
       "  'aki_preds': array([0.37511462, 0.2644776 , 0.2306558 , 0.20567529, 0.21733357,\n",
       "         0.24723588, 0.26174635, 0.25366244, 0.23500448, 0.24214733,\n",
       "         0.24125636, 0.24461685, 0.21619093, 0.22181584, 0.19816257,\n",
       "         0.18689269, 0.18053725, 0.19344859, 0.18704256, 0.19382884,\n",
       "         0.1911887 ], dtype=float32),\n",
       "  'class': 'first_AKI_pre_emergence'},\n",
       " {'i1': 21,\n",
       "  'i2': 63,\n",
       "  'admission_id': '28669544',\n",
       "  'time': array([24.666666, 25.666666, 26.666666, 27.666666, 28.666666, 29.666666,\n",
       "         30.666666, 31.666666, 32.666668, 33.666668, 34.666668, 35.666668,\n",
       "         36.666668, 37.666668, 38.666668, 39.666668, 40.666668, 41.666668,\n",
       "         42.666668, 43.666668, 44.666668, 45.666668, 46.666668, 47.666668,\n",
       "         48.666668, 49.666668, 50.666668, 51.666668, 52.666668, 53.666668,\n",
       "         54.666668, 55.666668, 56.666668, 57.666668, 58.666668, 59.666668,\n",
       "         60.666668, 61.666668, 62.666668, 63.666668, 64.666664, 65.666664],\n",
       "        dtype=float32),\n",
       "  'next_interval_time': 66.666664,\n",
       "  'aki_label': 1.0,\n",
       "  'aki_preds': array([0.18491423, 0.5641004 , 0.5628365 , 0.550566  , 0.5281115 ,\n",
       "         0.4950539 , 0.5686681 , 0.51949584, 0.7758204 , 0.85879064,\n",
       "         0.9061149 , 0.92278194, 0.9184098 , 0.8844628 , 0.87409645,\n",
       "         0.8745302 , 0.8815443 , 0.81799793, 0.8410485 , 0.8583624 ,\n",
       "         0.86853117, 0.83566976, 0.7912843 , 0.83701146, 0.81600785,\n",
       "         0.8262974 , 0.57153314, 0.5198038 , 0.47822288, 0.4477507 ,\n",
       "         0.40498775, 0.3853272 , 0.55531794, 0.5561366 , 0.53387386,\n",
       "         0.5233708 , 0.5297505 , 0.5209356 , 0.5039388 , 0.4964366 ,\n",
       "         0.49493632, 0.4882324 ], dtype=float32),\n",
       "  'class': 'AKI'},\n",
       " {'i1': 63,\n",
       "  'i2': 85,\n",
       "  'admission_id': '28669544',\n",
       "  'time': array([ 66.666664,  67.666664,  68.666664,  69.666664,  70.666664,\n",
       "          71.666664,  72.666664,  73.666664,  74.666664,  75.666664,\n",
       "          78.666664,  86.666664, 109.666664, 134.66667 , 160.66667 ,\n",
       "         182.66667 , 206.66667 , 231.66667 , 254.66667 , 277.66666 ,\n",
       "         302.66666 , 326.66666 ], dtype=float32),\n",
       "  'next_interval_time': nan,\n",
       "  'aki_label': 0.0,\n",
       "  'aki_preds': array([0.46783602, 0.46776283, 0.4583186 , 0.4323067 , 0.44372576,\n",
       "         0.44161788, 0.44398347, 0.43606964, 0.4387328 , 0.42470616,\n",
       "         0.40015954, 0.34604737, 0.23831804, 0.2274977 , 0.2525607 ,\n",
       "         0.29794815, 0.2967012 , 0.29649818, 0.306047  , 0.31074053,\n",
       "         0.31224748, 0.30639243], dtype=float32),\n",
       "  'class': 'AKI_recovery'}]"
      ]
     },
     "execution_count": 30,
     "metadata": {},
     "output_type": "execute_result"
    }
   ],
   "source": [
    "segmented_AKI['28669544']"
   ]
  },
  {
   "cell_type": "code",
   "execution_count": 60,
   "id": "ca37d624",
   "metadata": {},
   "outputs": [
    {
     "data": {
      "text/plain": [
       "{'i1': 169,\n",
       " 'i2': 205,\n",
       " 'admission_id': '27896316',\n",
       " 'time': array([169.28334, 170.28334, 171.28334, 172.28334, 173.28334, 174.28334,\n",
       "        175.28334, 176.28334, 177.28334, 178.28334, 179.28334, 180.28334,\n",
       "        181.28334, 182.28334, 183.28334, 184.28334, 185.28334, 186.28334,\n",
       "        187.28334, 188.28334, 189.28334, 190.28334, 191.28334, 192.28334,\n",
       "        193.28334, 194.28334, 195.28334, 196.28334, 197.28334, 198.28334,\n",
       "        199.28334, 200.28334, 201.28334, 202.28334, 203.28334, 204.28334],\n",
       "       dtype=float32),\n",
       " 'next_interval_time': 205.28334,\n",
       " 'aki_label': 0.0,\n",
       " 'aki_preds': array([0.50052106, 0.4912325 , 0.44365042, 0.4406414 , 0.40044758,\n",
       "        0.40094587, 0.39979115, 0.3958742 , 0.4031109 , 0.37977692,\n",
       "        0.39408273, 0.41398734, 0.39114982, 0.38256338, 0.33789274,\n",
       "        0.34029925, 0.34548232, 0.36336356, 0.35727477, 0.31635088,\n",
       "        0.3078018 , 0.32867616, 0.32648912, 0.30685326, 0.26679882,\n",
       "        0.2584718 , 0.28765523, 0.3056373 , 0.2796724 , 0.26301238,\n",
       "        0.2696194 , 0.2733162 , 0.2884407 , 0.27082038, 0.25389802,\n",
       "        0.21001689], dtype=float32),\n",
       " 'class': 'AKI_pre_emergence'}"
      ]
     },
     "execution_count": 60,
     "metadata": {},
     "output_type": "execute_result"
    }
   ],
   "source": [
    "segmented_AKI_byclass['AKI_pre_emergence'][3]"
   ]
  },
  {
   "cell_type": "code",
   "execution_count": 63,
   "id": "198e73f8",
   "metadata": {},
   "outputs": [],
   "source": [
    "# [sid for sid in predictions if '27896316' in predictions[sid]]"
   ]
  },
  {
   "cell_type": "code",
   "execution_count": 64,
   "id": "6c7b2ba8",
   "metadata": {},
   "outputs": [],
   "source": [
    "import numpy as np\n",
    "# pred = predictions['14139649']['28669544']\n",
    "pred = predictions['14316710']['27896316' ]\n",
    "aki_now = pred.admission.observables.value[:, 42]\n",
    "lobs_gt = pred.admission.leading_observable\n",
    "lobs = pred.leading_observable\n",
    "aki_t = lobs.time\n",
    "aki_preds = np.max(lobs.value, axis=1)\n",
    "aki_mask = lobs.mask.max(axis=1) > 0\n",
    "aki_gt = np.max(lobs_gt.value, axis=1)"
   ]
  },
  {
   "cell_type": "code",
   "execution_count": 65,
   "id": "8f63aebb",
   "metadata": {},
   "outputs": [
    {
     "data": {
      "image/png": "[encoded data removed]",
      "text/plain": [
       "<Figure size 640x480 with 1 Axes>"
      ]
     },
     "metadata": {},
     "output_type": "display_data"
    }
   ],
   "source": [
    "import matplotlib.pyplot as plt\n",
    "\n",
    "# plot lines \n",
    "plt.scatter(aki_t, aki_preds, label = \"lead_aki_preds\", marker=\"x\") \n",
    "plt.scatter(aki_t, aki_gt, label = \"lead_aki_gt\", marker=\"x\") \n",
    "plt.scatter(aki_t, aki_now, label = \"aki_now\", marker=\"x\") \n",
    "\n",
    "plt.legend() \n",
    "plt.show()"
   ]
  },
  {
   "cell_type": "code",
   "execution_count": 57,
   "id": "8c22e5a0",
   "metadata": {},
   "outputs": [
    {
     "data": {
      "text/plain": [
       "Array([0.    , 0.    , 0.    , 0.    , 0.    , 0.    , 0.    , 0.    ,\n",
       "       0.    , 0.    , 0.    , 0.    , 0.    , 0.    , 0.    , 0.    ,\n",
       "       0.    , 0.    , 0.    , 0.    , 0.    , 0.6665, 0.    , 0.    ,\n",
       "       0.    , 0.    , 0.    , 0.    , 1.    , 1.    , 1.    , 1.    ,\n",
       "       1.    , 1.    , 1.    , 1.    , 1.    , 0.    , 1.    , 1.    ,\n",
       "       1.    , 1.    , 1.    , 1.    , 1.    , 1.    , 0.    , 0.    ,\n",
       "       0.    , 0.    , 0.    , 0.    , 0.3333, 0.    , 0.    , 0.    ,\n",
       "       0.3333, 0.    , 0.    , 0.    , 0.    , 0.    , 0.    , 0.    ,\n",
       "       0.    , 0.    , 0.    , 0.    , 0.    , 0.    , 0.    , 0.    ,\n",
       "       0.    , 0.    , 0.    , 0.    , 0.    , 0.    , 0.    , 0.    ,\n",
       "       0.    , 0.    , 0.    , 0.    , 0.    ], dtype=float16)"
      ]
     },
     "execution_count": 57,
     "metadata": {},
     "output_type": "execute_result"
    }
   ],
   "source": [
    "aki_now"
   ]
  },
  {
   "cell_type": "code",
   "execution_count": 56,
   "id": "793c1b89",
   "metadata": {},
   "outputs": [
    {
     "data": {
      "text/plain": [
       "[{'i1': 0,\n",
       "  'i2': 21,\n",
       "  'admission_id': '28669544',\n",
       "  'time': array([ 0.6666667,  2.6666667,  3.6666667,  6.6666665,  7.6666665,\n",
       "          8.666667 ,  9.666667 , 10.666667 , 11.666667 , 12.666667 ,\n",
       "         13.666667 , 14.666667 , 15.666667 , 16.666666 , 17.666666 ,\n",
       "         18.666666 , 19.666666 , 20.666666 , 21.666666 , 22.666666 ,\n",
       "         23.666666 ], dtype=float32),\n",
       "  'next_interval_time': 24.666666,\n",
       "  'aki_label': 0.0,\n",
       "  'aki_preds': array([0.37511462, 0.2644776 , 0.2306558 , 0.20567529, 0.21733357,\n",
       "         0.24723588, 0.26174635, 0.25366244, 0.23500448, 0.24214733,\n",
       "         0.24125636, 0.24461685, 0.21619093, 0.22181584, 0.19816257,\n",
       "         0.18689269, 0.18053725, 0.19344859, 0.18704256, 0.19382884,\n",
       "         0.1911887 ], dtype=float32),\n",
       "  'class': 'first_AKI_pre_emergence'},\n",
       " {'i1': 21,\n",
       "  'i2': 63,\n",
       "  'admission_id': '28669544',\n",
       "  'time': array([24.666666, 25.666666, 26.666666, 27.666666, 28.666666, 29.666666,\n",
       "         30.666666, 31.666666, 32.666668, 33.666668, 34.666668, 35.666668,\n",
       "         36.666668, 37.666668, 38.666668, 39.666668, 40.666668, 41.666668,\n",
       "         42.666668, 43.666668, 44.666668, 45.666668, 46.666668, 47.666668,\n",
       "         48.666668, 49.666668, 50.666668, 51.666668, 52.666668, 53.666668,\n",
       "         54.666668, 55.666668, 56.666668, 57.666668, 58.666668, 59.666668,\n",
       "         60.666668, 61.666668, 62.666668, 63.666668, 64.666664, 65.666664],\n",
       "        dtype=float32),\n",
       "  'next_interval_time': 66.666664,\n",
       "  'aki_label': 1.0,\n",
       "  'aki_preds': array([0.18491423, 0.5641004 , 0.5628365 , 0.550566  , 0.5281115 ,\n",
       "         0.4950539 , 0.5686681 , 0.51949584, 0.7758204 , 0.85879064,\n",
       "         0.9061149 , 0.92278194, 0.9184098 , 0.8844628 , 0.87409645,\n",
       "         0.8745302 , 0.8815443 , 0.81799793, 0.8410485 , 0.8583624 ,\n",
       "         0.86853117, 0.83566976, 0.7912843 , 0.83701146, 0.81600785,\n",
       "         0.8262974 , 0.57153314, 0.5198038 , 0.47822288, 0.4477507 ,\n",
       "         0.40498775, 0.3853272 , 0.55531794, 0.5561366 , 0.53387386,\n",
       "         0.5233708 , 0.5297505 , 0.5209356 , 0.5039388 , 0.4964366 ,\n",
       "         0.49493632, 0.4882324 ], dtype=float32),\n",
       "  'class': 'AKI'},\n",
       " {'i1': 63,\n",
       "  'i2': 85,\n",
       "  'admission_id': '28669544',\n",
       "  'time': array([ 66.666664,  67.666664,  68.666664,  69.666664,  70.666664,\n",
       "          71.666664,  72.666664,  73.666664,  74.666664,  75.666664,\n",
       "          78.666664,  86.666664, 109.666664, 134.66667 , 160.66667 ,\n",
       "         182.66667 , 206.66667 , 231.66667 , 254.66667 , 277.66666 ,\n",
       "         302.66666 , 326.66666 ], dtype=float32),\n",
       "  'next_interval_time': nan,\n",
       "  'aki_label': 0.0,\n",
       "  'aki_preds': array([0.46783602, 0.46776283, 0.4583186 , 0.4323067 , 0.44372576,\n",
       "         0.44161788, 0.44398347, 0.43606964, 0.4387328 , 0.42470616,\n",
       "         0.40015954, 0.34604737, 0.23831804, 0.2274977 , 0.2525607 ,\n",
       "         0.29794815, 0.2967012 , 0.29649818, 0.306047  , 0.31074053,\n",
       "         0.31224748, 0.30639243], dtype=float32),\n",
       "  'class': 'AKI_recovery'}]"
      ]
     },
     "execution_count": 56,
     "metadata": {},
     "output_type": "execute_result"
    }
   ],
   "source": [
    "segmented_AKI['28669544']"
   ]
  },
  {
   "cell_type": "code",
   "execution_count": 21,
   "id": "e99127c5",
   "metadata": {},
   "outputs": [],
   "source": [
    "import pandas as pd"
   ]
  },
  {
   "cell_type": "code",
   "execution_count": 38,
   "id": "7db4b718",
   "metadata": {},
   "outputs": [],
   "source": [
    "val_df = pd.read_csv(f'{experiments_dir}/val_evals.csv.gz', index_col=[0])\n",
    "trn_df = pd.read_csv(f'{experiments_dir}/train_evals.csv.gz', index_col=[0])"
   ]
  },
  {
   "cell_type": "code",
   "execution_count": 39,
   "id": "ee09f72f",
   "metadata": {},
   "outputs": [
    {
     "data": {
      "text/html": [
       "<div>\n",
       "<style scoped>\n",
       "    .dataframe tbody tr th:only-of-type {\n",
       "        vertical-align: middle;\n",
       "    }\n",
       "\n",
       "    .dataframe tbody tr th {\n",
       "        vertical-align: top;\n",
       "    }\n",
       "\n",
       "    .dataframe thead th {\n",
       "        text-align: right;\n",
       "    }\n",
       "</style>\n",
       "<table border=\"1\" class=\"dataframe\">\n",
       "  <thead>\n",
       "    <tr style=\"text-align: right;\">\n",
       "      <th></th>\n",
       "      <th>CodeAUC.I0C140.auc</th>\n",
       "      <th>CodeAUC.I0C140.n</th>\n",
       "      <th>CodeAUC.I1C140.0.auc</th>\n",
       "      <th>CodeAUC.I1C140.0.n</th>\n",
       "      <th>CodeAUC.I2C140.1.auc</th>\n",
       "      <th>CodeAUC.I2C140.1.n</th>\n",
       "      <th>CodeAUC.I3C140.3.auc</th>\n",
       "      <th>CodeAUC.I3C140.3.n</th>\n",
       "      <th>CodeAUC.I4C140.4.auc</th>\n",
       "      <th>CodeAUC.I4C140.4.n</th>\n",
       "      <th>...</th>\n",
       "      <th>LeadingObsTrends.min(rms)</th>\n",
       "      <th>LeadingObsTrends.std(rms)</th>\n",
       "      <th>LeadingObsTrends.count(rms)</th>\n",
       "      <th>LeadingObsTrends.mean(mse)</th>\n",
       "      <th>LeadingObsTrends.median(mse)</th>\n",
       "      <th>LeadingObsTrends.max(mse)</th>\n",
       "      <th>LeadingObsTrends.min(mse)</th>\n",
       "      <th>LeadingObsTrends.std(mse)</th>\n",
       "      <th>LeadingObsTrends.count(mse)</th>\n",
       "      <th>date_time</th>\n",
       "    </tr>\n",
       "  </thead>\n",
       "  <tbody>\n",
       "    <tr>\n",
       "      <th>1032</th>\n",
       "      <td>NaN</td>\n",
       "      <td>0</td>\n",
       "      <td>NaN</td>\n",
       "      <td>0</td>\n",
       "      <td>NaN</td>\n",
       "      <td>0</td>\n",
       "      <td>NaN</td>\n",
       "      <td>0</td>\n",
       "      <td>NaN</td>\n",
       "      <td>0</td>\n",
       "      <td>...</td>\n",
       "      <td>0.181447</td>\n",
       "      <td>0.021695</td>\n",
       "      <td>12</td>\n",
       "      <td>0.055579</td>\n",
       "      <td>0.058744</td>\n",
       "      <td>0.065963</td>\n",
       "      <td>0.032923</td>\n",
       "      <td>0.009619</td>\n",
       "      <td>12</td>\n",
       "      <td>2023-09-26 09:28:34.325422</td>\n",
       "    </tr>\n",
       "    <tr>\n",
       "      <th>2065</th>\n",
       "      <td>NaN</td>\n",
       "      <td>0</td>\n",
       "      <td>NaN</td>\n",
       "      <td>0</td>\n",
       "      <td>NaN</td>\n",
       "      <td>0</td>\n",
       "      <td>NaN</td>\n",
       "      <td>0</td>\n",
       "      <td>NaN</td>\n",
       "      <td>0</td>\n",
       "      <td>...</td>\n",
       "      <td>0.174278</td>\n",
       "      <td>0.021991</td>\n",
       "      <td>12</td>\n",
       "      <td>0.053333</td>\n",
       "      <td>0.056488</td>\n",
       "      <td>0.063279</td>\n",
       "      <td>0.030373</td>\n",
       "      <td>0.009480</td>\n",
       "      <td>12</td>\n",
       "      <td>2023-10-03 13:04:34.668361</td>\n",
       "    </tr>\n",
       "    <tr>\n",
       "      <th>3097</th>\n",
       "      <td>NaN</td>\n",
       "      <td>0</td>\n",
       "      <td>NaN</td>\n",
       "      <td>0</td>\n",
       "      <td>NaN</td>\n",
       "      <td>0</td>\n",
       "      <td>NaN</td>\n",
       "      <td>0</td>\n",
       "      <td>NaN</td>\n",
       "      <td>0</td>\n",
       "      <td>...</td>\n",
       "      <td>0.170651</td>\n",
       "      <td>0.022332</td>\n",
       "      <td>12</td>\n",
       "      <td>0.051848</td>\n",
       "      <td>0.054988</td>\n",
       "      <td>0.061908</td>\n",
       "      <td>0.029122</td>\n",
       "      <td>0.009490</td>\n",
       "      <td>12</td>\n",
       "      <td>2023-10-07 05:54:14.337119</td>\n",
       "    </tr>\n",
       "    <tr>\n",
       "      <th>4130</th>\n",
       "      <td>NaN</td>\n",
       "      <td>0</td>\n",
       "      <td>NaN</td>\n",
       "      <td>0</td>\n",
       "      <td>NaN</td>\n",
       "      <td>0</td>\n",
       "      <td>NaN</td>\n",
       "      <td>0</td>\n",
       "      <td>NaN</td>\n",
       "      <td>0</td>\n",
       "      <td>...</td>\n",
       "      <td>0.170718</td>\n",
       "      <td>0.022287</td>\n",
       "      <td>12</td>\n",
       "      <td>0.052137</td>\n",
       "      <td>0.055688</td>\n",
       "      <td>0.061459</td>\n",
       "      <td>0.029145</td>\n",
       "      <td>0.009463</td>\n",
       "      <td>12</td>\n",
       "      <td>2023-10-11 01:49:39.229448</td>\n",
       "    </tr>\n",
       "    <tr>\n",
       "      <th>5162</th>\n",
       "      <td>NaN</td>\n",
       "      <td>0</td>\n",
       "      <td>NaN</td>\n",
       "      <td>0</td>\n",
       "      <td>NaN</td>\n",
       "      <td>0</td>\n",
       "      <td>NaN</td>\n",
       "      <td>0</td>\n",
       "      <td>NaN</td>\n",
       "      <td>0</td>\n",
       "      <td>...</td>\n",
       "      <td>0.167582</td>\n",
       "      <td>0.023122</td>\n",
       "      <td>12</td>\n",
       "      <td>0.051898</td>\n",
       "      <td>0.055221</td>\n",
       "      <td>0.061833</td>\n",
       "      <td>0.028084</td>\n",
       "      <td>0.009767</td>\n",
       "      <td>12</td>\n",
       "      <td>2023-10-15 02:18:02.273523</td>\n",
       "    </tr>\n",
       "    <tr>\n",
       "      <th>6195</th>\n",
       "      <td>NaN</td>\n",
       "      <td>0</td>\n",
       "      <td>NaN</td>\n",
       "      <td>0</td>\n",
       "      <td>NaN</td>\n",
       "      <td>0</td>\n",
       "      <td>NaN</td>\n",
       "      <td>0</td>\n",
       "      <td>NaN</td>\n",
       "      <td>0</td>\n",
       "      <td>...</td>\n",
       "      <td>0.174156</td>\n",
       "      <td>0.024670</td>\n",
       "      <td>12</td>\n",
       "      <td>0.056425</td>\n",
       "      <td>0.059338</td>\n",
       "      <td>0.068942</td>\n",
       "      <td>0.030330</td>\n",
       "      <td>0.010913</td>\n",
       "      <td>12</td>\n",
       "      <td>2023-10-19 03:51:11.674501</td>\n",
       "    </tr>\n",
       "    <tr>\n",
       "      <th>7227</th>\n",
       "      <td>NaN</td>\n",
       "      <td>0</td>\n",
       "      <td>NaN</td>\n",
       "      <td>0</td>\n",
       "      <td>NaN</td>\n",
       "      <td>0</td>\n",
       "      <td>NaN</td>\n",
       "      <td>0</td>\n",
       "      <td>NaN</td>\n",
       "      <td>0</td>\n",
       "      <td>...</td>\n",
       "      <td>0.168224</td>\n",
       "      <td>0.024282</td>\n",
       "      <td>12</td>\n",
       "      <td>0.052957</td>\n",
       "      <td>0.056929</td>\n",
       "      <td>0.063095</td>\n",
       "      <td>0.028299</td>\n",
       "      <td>0.010350</td>\n",
       "      <td>12</td>\n",
       "      <td>2023-10-23 06:46:22.340168</td>\n",
       "    </tr>\n",
       "    <tr>\n",
       "      <th>8260</th>\n",
       "      <td>NaN</td>\n",
       "      <td>0</td>\n",
       "      <td>NaN</td>\n",
       "      <td>0</td>\n",
       "      <td>NaN</td>\n",
       "      <td>0</td>\n",
       "      <td>NaN</td>\n",
       "      <td>0</td>\n",
       "      <td>NaN</td>\n",
       "      <td>0</td>\n",
       "      <td>...</td>\n",
       "      <td>0.168176</td>\n",
       "      <td>0.023521</td>\n",
       "      <td>12</td>\n",
       "      <td>0.052608</td>\n",
       "      <td>0.055952</td>\n",
       "      <td>0.062997</td>\n",
       "      <td>0.028283</td>\n",
       "      <td>0.010000</td>\n",
       "      <td>12</td>\n",
       "      <td>2023-10-27 10:49:37.187119</td>\n",
       "    </tr>\n",
       "  </tbody>\n",
       "</table>\n",
       "<p>8 rows × 4473 columns</p>\n",
       "</div>"
      ],
      "text/plain": [
       "      CodeAUC.I0C140.auc  CodeAUC.I0C140.n  CodeAUC.I1C140.0.auc  \\\n",
       "1032                 NaN                 0                   NaN   \n",
       "2065                 NaN                 0                   NaN   \n",
       "3097                 NaN                 0                   NaN   \n",
       "4130                 NaN                 0                   NaN   \n",
       "5162                 NaN                 0                   NaN   \n",
       "6195                 NaN                 0                   NaN   \n",
       "7227                 NaN                 0                   NaN   \n",
       "8260                 NaN                 0                   NaN   \n",
       "\n",
       "      CodeAUC.I1C140.0.n  CodeAUC.I2C140.1.auc  CodeAUC.I2C140.1.n  \\\n",
       "1032                   0                   NaN                   0   \n",
       "2065                   0                   NaN                   0   \n",
       "3097                   0                   NaN                   0   \n",
       "4130                   0                   NaN                   0   \n",
       "5162                   0                   NaN                   0   \n",
       "6195                   0                   NaN                   0   \n",
       "7227                   0                   NaN                   0   \n",
       "8260                   0                   NaN                   0   \n",
       "\n",
       "      CodeAUC.I3C140.3.auc  CodeAUC.I3C140.3.n  CodeAUC.I4C140.4.auc  \\\n",
       "1032                   NaN                   0                   NaN   \n",
       "2065                   NaN                   0                   NaN   \n",
       "3097                   NaN                   0                   NaN   \n",
       "4130                   NaN                   0                   NaN   \n",
       "5162                   NaN                   0                   NaN   \n",
       "6195                   NaN                   0                   NaN   \n",
       "7227                   NaN                   0                   NaN   \n",
       "8260                   NaN                   0                   NaN   \n",
       "\n",
       "      CodeAUC.I4C140.4.n  ...  LeadingObsTrends.min(rms)  \\\n",
       "1032                   0  ...                   0.181447   \n",
       "2065                   0  ...                   0.174278   \n",
       "3097                   0  ...                   0.170651   \n",
       "4130                   0  ...                   0.170718   \n",
       "5162                   0  ...                   0.167582   \n",
       "6195                   0  ...                   0.174156   \n",
       "7227                   0  ...                   0.168224   \n",
       "8260                   0  ...                   0.168176   \n",
       "\n",
       "      LeadingObsTrends.std(rms)  LeadingObsTrends.count(rms)  \\\n",
       "1032                   0.021695                           12   \n",
       "2065                   0.021991                           12   \n",
       "3097                   0.022332                           12   \n",
       "4130                   0.022287                           12   \n",
       "5162                   0.023122                           12   \n",
       "6195                   0.024670                           12   \n",
       "7227                   0.024282                           12   \n",
       "8260                   0.023521                           12   \n",
       "\n",
       "      LeadingObsTrends.mean(mse)  LeadingObsTrends.median(mse)  \\\n",
       "1032                    0.055579                      0.058744   \n",
       "2065                    0.053333                      0.056488   \n",
       "3097                    0.051848                      0.054988   \n",
       "4130                    0.052137                      0.055688   \n",
       "5162                    0.051898                      0.055221   \n",
       "6195                    0.056425                      0.059338   \n",
       "7227                    0.052957                      0.056929   \n",
       "8260                    0.052608                      0.055952   \n",
       "\n",
       "      LeadingObsTrends.max(mse)  LeadingObsTrends.min(mse)  \\\n",
       "1032                   0.065963                   0.032923   \n",
       "2065                   0.063279                   0.030373   \n",
       "3097                   0.061908                   0.029122   \n",
       "4130                   0.061459                   0.029145   \n",
       "5162                   0.061833                   0.028084   \n",
       "6195                   0.068942                   0.030330   \n",
       "7227                   0.063095                   0.028299   \n",
       "8260                   0.062997                   0.028283   \n",
       "\n",
       "      LeadingObsTrends.std(mse)  LeadingObsTrends.count(mse)  \\\n",
       "1032                   0.009619                           12   \n",
       "2065                   0.009480                           12   \n",
       "3097                   0.009490                           12   \n",
       "4130                   0.009463                           12   \n",
       "5162                   0.009767                           12   \n",
       "6195                   0.010913                           12   \n",
       "7227                   0.010350                           12   \n",
       "8260                   0.010000                           12   \n",
       "\n",
       "                       date_time  \n",
       "1032  2023-09-26 09:28:34.325422  \n",
       "2065  2023-10-03 13:04:34.668361  \n",
       "3097  2023-10-07 05:54:14.337119  \n",
       "4130  2023-10-11 01:49:39.229448  \n",
       "5162  2023-10-15 02:18:02.273523  \n",
       "6195  2023-10-19 03:51:11.674501  \n",
       "7227  2023-10-23 06:46:22.340168  \n",
       "8260  2023-10-27 10:49:37.187119  \n",
       "\n",
       "[8 rows x 4473 columns]"
      ]
     },
     "execution_count": 39,
     "metadata": {},
     "output_type": "execute_result"
    }
   ],
   "source": [
    "val_df"
   ]
  },
  {
   "cell_type": "code",
   "execution_count": 60,
   "id": "c4492288",
   "metadata": {},
   "outputs": [
    {
     "data": {
      "text/plain": [
       "(['LossMetric.obs_mae', 'LossMetric.obs_mse', 'LossMetric.obs_rms'],\n",
       " ['LossMetric.lead_mae',\n",
       "  'LossMetric.lead_mse',\n",
       "  'LossMetric.lead_rms',\n",
       "  'LossMetric.lead_softdtw(0.1)'],\n",
       " ['LossMetric.dx_allpairs_exp_rank',\n",
       "  'LossMetric.dx_allpairs_hard_rank',\n",
       "  'LossMetric.dx_allpairs_sigmoid_rank',\n",
       "  'LossMetric.dx_balanced_focal_bce',\n",
       "  'LossMetric.dx_balanced_focal_softmax_bce',\n",
       "  'LossMetric.dx_softmax_bce'])"
      ]
     },
     "execution_count": 60,
     "metadata": {},
     "output_type": "execute_result"
    }
   ],
   "source": [
    "obs_cols = [c for c in val_df.columns if 'obs' in c]\n",
    "lead_cols = [c for c in val_df.columns if 'lead' in c]\n",
    "dx_cols = [c for c in val_df.columns if 'dx' in c]\n",
    "obs_cols, lead_cols, dx_cols"
   ]
  },
  {
   "cell_type": "code",
   "execution_count": 61,
   "id": "1770543e",
   "metadata": {},
   "outputs": [],
   "source": [
    "trn_obs_df = trn_df[obs_cols + lead_cols + dx_cols]\n",
    "val_obs_df = val_df[obs_cols + lead_cols + dx_cols]\n"
   ]
  },
  {
   "cell_type": "code",
   "execution_count": 62,
   "id": "3738d101",
   "metadata": {},
   "outputs": [
    {
     "data": {
      "text/html": [
       "<div>\n",
       "<style scoped>\n",
       "    .dataframe tbody tr th:only-of-type {\n",
       "        vertical-align: middle;\n",
       "    }\n",
       "\n",
       "    .dataframe tbody tr th {\n",
       "        vertical-align: top;\n",
       "    }\n",
       "\n",
       "    .dataframe thead th {\n",
       "        text-align: right;\n",
       "    }\n",
       "</style>\n",
       "<table border=\"1\" class=\"dataframe\">\n",
       "  <thead>\n",
       "    <tr style=\"text-align: right;\">\n",
       "      <th></th>\n",
       "      <th>LossMetric.obs_mae</th>\n",
       "      <th>LossMetric.obs_mse</th>\n",
       "      <th>LossMetric.obs_rms</th>\n",
       "      <th>LossMetric.lead_mae</th>\n",
       "      <th>LossMetric.lead_mse</th>\n",
       "      <th>LossMetric.lead_rms</th>\n",
       "      <th>LossMetric.lead_softdtw(0.1)</th>\n",
       "      <th>LossMetric.dx_allpairs_exp_rank</th>\n",
       "      <th>LossMetric.dx_allpairs_hard_rank</th>\n",
       "      <th>LossMetric.dx_allpairs_sigmoid_rank</th>\n",
       "      <th>LossMetric.dx_balanced_focal_bce</th>\n",
       "      <th>LossMetric.dx_balanced_focal_softmax_bce</th>\n",
       "      <th>LossMetric.dx_softmax_bce</th>\n",
       "    </tr>\n",
       "  </thead>\n",
       "  <tbody>\n",
       "    <tr>\n",
       "      <th>1032</th>\n",
       "      <td>0.070090</td>\n",
       "      <td>0.015749</td>\n",
       "      <td>0.125496</td>\n",
       "      <td>0.022218</td>\n",
       "      <td>0.009606</td>\n",
       "      <td>0.023321</td>\n",
       "      <td>-0.001852</td>\n",
       "      <td>0.050246</td>\n",
       "      <td>0.000593</td>\n",
       "      <td>0.031898</td>\n",
       "      <td>0.000045</td>\n",
       "      <td>0.001756</td>\n",
       "      <td>0.009579</td>\n",
       "    </tr>\n",
       "    <tr>\n",
       "      <th>2065</th>\n",
       "      <td>0.066221</td>\n",
       "      <td>0.016120</td>\n",
       "      <td>0.126965</td>\n",
       "      <td>0.016518</td>\n",
       "      <td>0.005024</td>\n",
       "      <td>0.017793</td>\n",
       "      <td>-0.061927</td>\n",
       "      <td>0.168330</td>\n",
       "      <td>0.003170</td>\n",
       "      <td>0.061338</td>\n",
       "      <td>0.000056</td>\n",
       "      <td>0.001453</td>\n",
       "      <td>0.007338</td>\n",
       "    </tr>\n",
       "    <tr>\n",
       "      <th>3097</th>\n",
       "      <td>0.054921</td>\n",
       "      <td>0.010687</td>\n",
       "      <td>0.103376</td>\n",
       "      <td>0.012072</td>\n",
       "      <td>0.002718</td>\n",
       "      <td>0.012874</td>\n",
       "      <td>-0.099748</td>\n",
       "      <td>0.039477</td>\n",
       "      <td>0.000417</td>\n",
       "      <td>0.024594</td>\n",
       "      <td>0.000043</td>\n",
       "      <td>0.002258</td>\n",
       "      <td>0.005919</td>\n",
       "    </tr>\n",
       "    <tr>\n",
       "      <th>4130</th>\n",
       "      <td>0.059365</td>\n",
       "      <td>0.012239</td>\n",
       "      <td>0.110629</td>\n",
       "      <td>0.013661</td>\n",
       "      <td>0.003923</td>\n",
       "      <td>0.015085</td>\n",
       "      <td>-0.081796</td>\n",
       "      <td>0.085807</td>\n",
       "      <td>0.001449</td>\n",
       "      <td>0.043979</td>\n",
       "      <td>0.000047</td>\n",
       "      <td>0.001474</td>\n",
       "      <td>0.005368</td>\n",
       "    </tr>\n",
       "    <tr>\n",
       "      <th>5162</th>\n",
       "      <td>0.065916</td>\n",
       "      <td>0.014452</td>\n",
       "      <td>0.120215</td>\n",
       "      <td>0.014069</td>\n",
       "      <td>0.003828</td>\n",
       "      <td>0.015156</td>\n",
       "      <td>-0.081824</td>\n",
       "      <td>0.133820</td>\n",
       "      <td>0.002278</td>\n",
       "      <td>0.053662</td>\n",
       "      <td>0.000065</td>\n",
       "      <td>0.002187</td>\n",
       "      <td>0.012566</td>\n",
       "    </tr>\n",
       "    <tr>\n",
       "      <th>6195</th>\n",
       "      <td>0.065847</td>\n",
       "      <td>0.012777</td>\n",
       "      <td>0.113034</td>\n",
       "      <td>0.009709</td>\n",
       "      <td>0.003746</td>\n",
       "      <td>0.010390</td>\n",
       "      <td>-0.091249</td>\n",
       "      <td>0.046658</td>\n",
       "      <td>0.000673</td>\n",
       "      <td>0.025218</td>\n",
       "      <td>0.000043</td>\n",
       "      <td>0.002196</td>\n",
       "      <td>0.008504</td>\n",
       "    </tr>\n",
       "    <tr>\n",
       "      <th>7227</th>\n",
       "      <td>0.058848</td>\n",
       "      <td>0.010710</td>\n",
       "      <td>0.103491</td>\n",
       "      <td>0.011689</td>\n",
       "      <td>0.003538</td>\n",
       "      <td>0.012529</td>\n",
       "      <td>-0.090507</td>\n",
       "      <td>0.126430</td>\n",
       "      <td>0.002100</td>\n",
       "      <td>0.048736</td>\n",
       "      <td>0.000056</td>\n",
       "      <td>0.001747</td>\n",
       "      <td>0.011317</td>\n",
       "    </tr>\n",
       "    <tr>\n",
       "      <th>8260</th>\n",
       "      <td>0.062345</td>\n",
       "      <td>0.012545</td>\n",
       "      <td>0.112006</td>\n",
       "      <td>0.013463</td>\n",
       "      <td>0.003831</td>\n",
       "      <td>0.014756</td>\n",
       "      <td>-0.082915</td>\n",
       "      <td>0.099706</td>\n",
       "      <td>0.001653</td>\n",
       "      <td>0.038364</td>\n",
       "      <td>0.000051</td>\n",
       "      <td>0.001774</td>\n",
       "      <td>0.013419</td>\n",
       "    </tr>\n",
       "  </tbody>\n",
       "</table>\n",
       "</div>"
      ],
      "text/plain": [
       "      LossMetric.obs_mae  LossMetric.obs_mse  LossMetric.obs_rms  \\\n",
       "1032            0.070090            0.015749            0.125496   \n",
       "2065            0.066221            0.016120            0.126965   \n",
       "3097            0.054921            0.010687            0.103376   \n",
       "4130            0.059365            0.012239            0.110629   \n",
       "5162            0.065916            0.014452            0.120215   \n",
       "6195            0.065847            0.012777            0.113034   \n",
       "7227            0.058848            0.010710            0.103491   \n",
       "8260            0.062345            0.012545            0.112006   \n",
       "\n",
       "      LossMetric.lead_mae  LossMetric.lead_mse  LossMetric.lead_rms  \\\n",
       "1032             0.022218             0.009606             0.023321   \n",
       "2065             0.016518             0.005024             0.017793   \n",
       "3097             0.012072             0.002718             0.012874   \n",
       "4130             0.013661             0.003923             0.015085   \n",
       "5162             0.014069             0.003828             0.015156   \n",
       "6195             0.009709             0.003746             0.010390   \n",
       "7227             0.011689             0.003538             0.012529   \n",
       "8260             0.013463             0.003831             0.014756   \n",
       "\n",
       "      LossMetric.lead_softdtw(0.1)  LossMetric.dx_allpairs_exp_rank  \\\n",
       "1032                     -0.001852                         0.050246   \n",
       "2065                     -0.061927                         0.168330   \n",
       "3097                     -0.099748                         0.039477   \n",
       "4130                     -0.081796                         0.085807   \n",
       "5162                     -0.081824                         0.133820   \n",
       "6195                     -0.091249                         0.046658   \n",
       "7227                     -0.090507                         0.126430   \n",
       "8260                     -0.082915                         0.099706   \n",
       "\n",
       "      LossMetric.dx_allpairs_hard_rank  LossMetric.dx_allpairs_sigmoid_rank  \\\n",
       "1032                          0.000593                             0.031898   \n",
       "2065                          0.003170                             0.061338   \n",
       "3097                          0.000417                             0.024594   \n",
       "4130                          0.001449                             0.043979   \n",
       "5162                          0.002278                             0.053662   \n",
       "6195                          0.000673                             0.025218   \n",
       "7227                          0.002100                             0.048736   \n",
       "8260                          0.001653                             0.038364   \n",
       "\n",
       "      LossMetric.dx_balanced_focal_bce  \\\n",
       "1032                          0.000045   \n",
       "2065                          0.000056   \n",
       "3097                          0.000043   \n",
       "4130                          0.000047   \n",
       "5162                          0.000065   \n",
       "6195                          0.000043   \n",
       "7227                          0.000056   \n",
       "8260                          0.000051   \n",
       "\n",
       "      LossMetric.dx_balanced_focal_softmax_bce  LossMetric.dx_softmax_bce  \n",
       "1032                                  0.001756                   0.009579  \n",
       "2065                                  0.001453                   0.007338  \n",
       "3097                                  0.002258                   0.005919  \n",
       "4130                                  0.001474                   0.005368  \n",
       "5162                                  0.002187                   0.012566  \n",
       "6195                                  0.002196                   0.008504  \n",
       "7227                                  0.001747                   0.011317  \n",
       "8260                                  0.001774                   0.013419  "
      ]
     },
     "execution_count": 62,
     "metadata": {},
     "output_type": "execute_result"
    }
   ],
   "source": [
    "trn_obs_df"
   ]
  },
  {
   "cell_type": "code",
   "execution_count": 43,
   "id": "46b9ae44",
   "metadata": {},
   "outputs": [
    {
     "data": {
      "text/html": [
       "<div>\n",
       "<style scoped>\n",
       "    .dataframe tbody tr th:only-of-type {\n",
       "        vertical-align: middle;\n",
       "    }\n",
       "\n",
       "    .dataframe tbody tr th {\n",
       "        vertical-align: top;\n",
       "    }\n",
       "\n",
       "    .dataframe thead th {\n",
       "        text-align: right;\n",
       "    }\n",
       "</style>\n",
       "<table border=\"1\" class=\"dataframe\">\n",
       "  <thead>\n",
       "    <tr style=\"text-align: right;\">\n",
       "      <th></th>\n",
       "      <th>LossMetric.obs_mae</th>\n",
       "      <th>LossMetric.obs_mse</th>\n",
       "      <th>LossMetric.obs_rms</th>\n",
       "    </tr>\n",
       "  </thead>\n",
       "  <tbody>\n",
       "    <tr>\n",
       "      <th>1032</th>\n",
       "      <td>0.071072</td>\n",
       "      <td>0.016635</td>\n",
       "      <td>0.128977</td>\n",
       "    </tr>\n",
       "    <tr>\n",
       "      <th>2065</th>\n",
       "      <td>0.066020</td>\n",
       "      <td>0.014598</td>\n",
       "      <td>0.120821</td>\n",
       "    </tr>\n",
       "    <tr>\n",
       "      <th>3097</th>\n",
       "      <td>0.063832</td>\n",
       "      <td>0.014037</td>\n",
       "      <td>0.118476</td>\n",
       "    </tr>\n",
       "    <tr>\n",
       "      <th>4130</th>\n",
       "      <td>0.063356</td>\n",
       "      <td>0.013826</td>\n",
       "      <td>0.117585</td>\n",
       "    </tr>\n",
       "    <tr>\n",
       "      <th>5162</th>\n",
       "      <td>0.061914</td>\n",
       "      <td>0.013456</td>\n",
       "      <td>0.115998</td>\n",
       "    </tr>\n",
       "    <tr>\n",
       "      <th>6195</th>\n",
       "      <td>0.061749</td>\n",
       "      <td>0.013519</td>\n",
       "      <td>0.116270</td>\n",
       "    </tr>\n",
       "    <tr>\n",
       "      <th>7227</th>\n",
       "      <td>0.060684</td>\n",
       "      <td>0.013244</td>\n",
       "      <td>0.115081</td>\n",
       "    </tr>\n",
       "    <tr>\n",
       "      <th>8260</th>\n",
       "      <td>0.060478</td>\n",
       "      <td>0.012963</td>\n",
       "      <td>0.113856</td>\n",
       "    </tr>\n",
       "  </tbody>\n",
       "</table>\n",
       "</div>"
      ],
      "text/plain": [
       "      LossMetric.obs_mae  LossMetric.obs_mse  LossMetric.obs_rms\n",
       "1032            0.071072            0.016635            0.128977\n",
       "2065            0.066020            0.014598            0.120821\n",
       "3097            0.063832            0.014037            0.118476\n",
       "4130            0.063356            0.013826            0.117585\n",
       "5162            0.061914            0.013456            0.115998\n",
       "6195            0.061749            0.013519            0.116270\n",
       "7227            0.060684            0.013244            0.115081\n",
       "8260            0.060478            0.012963            0.113856"
      ]
     },
     "execution_count": 43,
     "metadata": {},
     "output_type": "execute_result"
    }
   ],
   "source": [
    "val_obs_df"
   ]
  },
  {
   "cell_type": "code",
   "execution_count": 81,
   "id": "a85146b5",
   "metadata": {},
   "outputs": [
    {
     "data": {
      "image/png": "[encoded data removed]",
      "text/plain": [
       "<Figure size 640x480 with 1 Axes>"
      ]
     },
     "metadata": {},
     "output_type": "display_data"
    }
   ],
   "source": [
    "import matplotlib.pyplot as plt\n",
    "import numpy as np\n",
    "plt.rcParams.update({'font.size': 11})\n",
    "\n",
    "epochs = np.arange(len(val_obs_df)) + 1\n",
    "\n",
    "# plot lines \n",
    "plt.plot(epochs, val_obs_df['LossMetric.obs_mse'].values, label = \"Validation Loss\", marker='o') \n",
    "plt.plot(epochs, trn_obs_df['LossMetric.obs_mse'].values, label = \"Training Loss\", marker='o') \n",
    "\n",
    "plt.title('$\\mathcal{L}_z$: Observation MSE Loss')\n",
    "plt.xlabel('Epochs')\n",
    "plt.ylabel('Loss')\n",
    "\n",
    "current_figure = plt.gcf()\n",
    "current_figure.savefig(f'{experiments_dir}/obs_loss.pdf', bbox_inches='tight')\n",
    "\n",
    "plt.legend() \n",
    "plt.show()"
   ]
  },
  {
   "cell_type": "code",
   "execution_count": 82,
   "id": "86c688dd",
   "metadata": {},
   "outputs": [
    {
     "data": {
      "image/png": "[encoded data removed]",
      "text/plain": [
       "<Figure size 640x480 with 1 Axes>"
      ]
     },
     "metadata": {},
     "output_type": "display_data"
    }
   ],
   "source": [
    "# plot lines \n",
    "plt.plot(epochs, val_obs_df['LossMetric.lead_mse'].values, label = \"Validation Loss\", marker='o') \n",
    "plt.plot(epochs, trn_obs_df['LossMetric.lead_mse'].values, label = \"Training Loss\", marker='o') \n",
    "\n",
    "plt.title('$\\mathcal{L}_q$: AKI Early Prediction MSE Loss')\n",
    "plt.xlabel('Epochs')\n",
    "plt.ylabel('Loss')\n",
    "\n",
    "\n",
    "current_figure = plt.gcf()\n",
    "current_figure.savefig(f'{experiments_dir}/lead_loss.pdf', bbox_inches='tight')\n",
    "\n",
    "plt.legend() \n",
    "plt.show()"
   ]
  },
  {
   "cell_type": "code",
   "execution_count": 83,
   "id": "57c80159",
   "metadata": {},
   "outputs": [
    {
     "data": {
      "image/png": "[encoded data removed]",
      "text/plain": [
       "<Figure size 640x480 with 1 Axes>"
      ]
     },
     "metadata": {},
     "output_type": "display_data"
    }
   ],
   "source": [
    "# plot lines \n",
    "plt.plot(epochs, val_obs_df['LossMetric.dx_balanced_focal_bce'].values, label = \"Validation Loss\", marker='o') \n",
    "plt.plot(epochs, trn_obs_df['LossMetric.dx_balanced_focal_bce'].values, label = \"Training Loss\", marker='o') \n",
    "\n",
    "plt.title('$\\mathcal{L}_x$: Discharge Codes Prediction BCE Loss')\n",
    "plt.xlabel('Epochs')\n",
    "plt.ylabel('Loss')\n",
    "\n",
    "\n",
    "current_figure = plt.gcf()\n",
    "current_figure.savefig(f'{experiments_dir}/dx_loss.pdf', bbox_inches='tight')\n",
    "\n",
    "\n",
    "plt.legend() \n",
    "plt.show()"
   ]
  },
  {
   "cell_type": "code",
   "execution_count": 84,
   "id": "ff81cc7d",
   "metadata": {},
   "outputs": [
    {
     "data": {
      "image/png": "[encoded data removed]",
      "text/plain": [
       "<Figure size 640x480 with 1 Axes>"
      ]
     },
     "metadata": {},
     "output_type": "display_data"
    }
   ],
   "source": [
    "# plot lines \n",
    "val_loss = 50 * val_obs_df['LossMetric.obs_mse'] + 50 * val_obs_df['LossMetric.lead_mse'] +  val_obs_df['LossMetric.dx_balanced_focal_bce']\n",
    "trn_loss = 50 * trn_obs_df['LossMetric.obs_mse'] + 50 * trn_obs_df['LossMetric.lead_mse'] +  trn_obs_df['LossMetric.dx_balanced_focal_bce']\n",
    "\n",
    "plt.plot(epochs, val_loss.values, label = \"Validation Loss\", marker='o') \n",
    "plt.plot(epochs, trn_loss.values, label = \"Training Loss\", marker='o') \n",
    "\n",
    "plt.title('$\\mathcal{L}$: Multi-Objective Loss')\n",
    "plt.xlabel('Epochs')\n",
    "plt.ylabel('Loss')\n",
    "\n",
    "\n",
    "current_figure = plt.gcf()\n",
    "current_figure.savefig(f'{experiments_dir}/loss.pdf', bbox_inches='tight')\n",
    "\n",
    "\n",
    "plt.legend() \n",
    "plt.show()"
   ]
  },
  {
   "cell_type": "code",
   "execution_count": 88,
   "id": "08a8960f",
   "metadata": {},
   "outputs": [],
   "source": [
    "first_emergence = {k:v for k,v in res.items() if k.startswith('first')}"
   ]
  },
  {
   "cell_type": "code",
   "execution_count": 92,
   "id": "22b0ff7f",
   "metadata": {},
   "outputs": [],
   "source": [
    "first_emergence = {k.split('_')[-1]: v for k,v in first_emergence.items()}"
   ]
  },
  {
   "cell_type": "code",
   "execution_count": 94,
   "id": "d38597a5",
   "metadata": {},
   "outputs": [],
   "source": [
    "fem_auc_df = pd.DataFrame(first_emergence, index=[0])"
   ]
  },
  {
   "cell_type": "code",
   "execution_count": 95,
   "id": "dad99c47",
   "metadata": {},
   "outputs": [
    {
     "name": "stdout",
     "output_type": "stream",
     "text": [
      "\\begin{tabular}{lrrrrrrrrrrrr}\n",
      "\\toprule\n",
      " & 1-72 & 6-72 & 12-72 & 18-72 & 24-72 & 30-72 & 36-72 & 42-72 & 48-72 & 54-72 & 60-72 & 66-72 \\\\\n",
      "\\midrule\n",
      "0 & 0.620599 & 0.593415 & 0.561544 & 0.535354 & 0.511923 & 0.494267 & 0.477539 & 0.463883 & 0.459320 & 0.460780 & 0.462149 & 0.448579 \\\\\n",
      "\\bottomrule\n",
      "\\end{tabular}\n",
      "\n"
     ]
    }
   ],
   "source": [
    "print(fem_auc_df.to_latex())"
   ]
  },
  {
   "cell_type": "code",
   "execution_count": null,
   "id": "e83c3330",
   "metadata": {},
   "outputs": [],
   "source": []
  }
 ],
 "metadata": {
  "kernelspec": {
   "display_name": "Python 3 (ipykernel)",
   "language": "python",
   "name": "python3"
  },
  "language_info": {
   "codemirror_mode": {
    "name": "ipython",
    "version": 3
   },
   "file_extension": ".py",
   "mimetype": "text/x-python",
   "name": "python",
   "nbconvert_exporter": "python",
   "pygments_lexer": "ipython3",
   "version": "3.10.12"
  }
 },
 "nbformat": 4,
 "nbformat_minor": 5
}
