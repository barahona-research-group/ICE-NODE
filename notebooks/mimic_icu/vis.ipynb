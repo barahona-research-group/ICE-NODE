{
 "cells": [
  {
   "cell_type": "code",
   "execution_count": 1,
   "id": "76db9cf3",
   "metadata": {},
   "outputs": [],
   "source": [
    "# %env XLA_PYTHON_CLIENT_PREALLOCATE=false\n"
   ]
  },
  {
   "cell_type": "code",
   "execution_count": 2,
   "id": "e647d3df",
   "metadata": {},
   "outputs": [],
   "source": [
    "\n",
    "%load_ext autoreload\n",
    "%autoreload 2\n",
    "import sys\n",
    "import os\n",
    "import glob\n",
    "import random\n",
    "from collections import defaultdict\n",
    "from pathlib import Path\n",
    "\n",
    "from IPython.display import display\n",
    "\n",
    "import pandas as pd\n",
    "\n",
    "import jax\n",
    "jax.config.update('jax_platform_name', 'cpu')\n",
    "# jax.config.update('jax_log_compiles', True)\n",
    "# jax.config.update(\"jax_debug_nans\", True)\n",
    "# jax.config.update(\"jax_enable_x64\", True)"
   ]
  },
  {
   "cell_type": "code",
   "execution_count": 3,
   "id": "60405e0e",
   "metadata": {},
   "outputs": [],
   "source": [
    "\n",
    "\n",
    "sys.path.append(\"../..\")\n",
    "\n",
    "from lib import utils as U\n",
    "from lib.ehr import load_dataset, load_dataset_scheme, load_dataset_config, Dataset\n",
    "from lib.ehr.interface import Patients, InterfaceConfig\n",
    "from lib.ehr.concepts import DemographicVectorConfig, LeadingObservableConfig\n"
   ]
  },
  {
   "cell_type": "code",
   "execution_count": 4,
   "id": "2dd32bff",
   "metadata": {},
   "outputs": [],
   "source": [
    "import logging\n",
    "logging.root.level = logging.INFO"
   ]
  },
  {
   "cell_type": "markdown",
   "id": "176130a5",
   "metadata": {},
   "source": [
    "## Load Dataset"
   ]
  },
  {
   "cell_type": "code",
   "execution_count": 5,
   "id": "38bf7861",
   "metadata": {},
   "outputs": [],
   "source": [
    "tag = 'M4ICU'\n",
    "PATH = f'{os.environ.get(\"HOME\")}/GP/ehr-data/mimic4icu-cohort'\n",
    "sample = 100\n",
    "cache =  f'cached_inteface/patients_{tag}_{sample or \"\"}'\n",
    "dataset_config = load_dataset_config(tag, \n",
    "                                     sample=sample,\n",
    "                                     path=PATH)"
   ]
  },
  {
   "cell_type": "code",
   "execution_count": 6,
   "id": "2fe54219",
   "metadata": {},
   "outputs": [
    {
     "name": "stdout",
     "output_type": "stream",
     "text": [
      "{\n",
      "    \"dx\": [\n",
      "        \"DxICD10\",\n",
      "        \"DxCCS\",\n",
      "        \"DxICD9\",\n",
      "        \"DxFlatCCS\"\n",
      "    ],\n",
      "    \"ethnicity\": [\n",
      "        \"MIMIC4Eth32\",\n",
      "        \"MIMIC4Eth5\"\n",
      "    ],\n",
      "    \"gender\": [\n",
      "        \"Gender\"\n",
      "    ],\n",
      "    \"int_input\": [\n",
      "        \"MIMICInput\",\n",
      "        \"MIMICInputGroups\"\n",
      "    ],\n",
      "    \"int_proc\": [\n",
      "        \"MIMICProcedures\",\n",
      "        \"MIMICProcedureGroups\"\n",
      "    ],\n",
      "    \"obs\": [\n",
      "        \"MIMICObservables\"\n",
      "    ],\n",
      "    \"outcome\": [\n",
      "        \"dx_icd9_filter_v1\",\n",
      "        \"dx_icd9_filter_v2_groups\",\n",
      "        \"dx_flatccs_mlhc_groups\",\n",
      "        \"dx_flatccs_filter_v1\",\n",
      "        \"dx_icd9_filter_v3_groups\"\n",
      "    ]\n",
      "}\n"
     ]
    }
   ],
   "source": [
    "import json\n",
    "dataset_scheme = load_dataset_scheme(tag)\n",
    "interface_schem_options = dataset_scheme.supported_target_scheme_options\n",
    "print(json.dumps(interface_schem_options, sort_keys=True, indent=4))"
   ]
  },
  {
   "cell_type": "code",
   "execution_count": 7,
   "id": "b656db98",
   "metadata": {},
   "outputs": [],
   "source": [
    "\n",
    "# Demographic vector attributes\n",
    "demographic_vector_conf = DemographicVectorConfig(\n",
    "    age=True, \n",
    "    gender=True, \n",
    "    ethnicity=True\n",
    ")\n",
    "\n",
    "# Leading \n",
    "leading_AKI = LeadingObservableConfig(leading_hours=[6, 12, 24, 48, 72],\n",
    "                                      window_aggregate='max',\n",
    "                                      scheme=dataset_scheme.obs,\n",
    "                                      index=42)"
   ]
  },
  {
   "cell_type": "code",
   "execution_count": 8,
   "id": "8a92e42c",
   "metadata": {},
   "outputs": [],
   "source": [
    "interface_scheme = dataset_scheme.make_target_scheme_config(dx='DxICD9',\n",
    "                                                            outcome='dx_icd9_filter_v3_groups',\n",
    "                                                            ethnicity='MIMIC4Eth5')\n",
    "interface_config = InterfaceConfig(scheme=interface_scheme,\n",
    "                                   dataset_scheme=dataset_scheme,\n",
    "                                   demographic_vector=demographic_vector_conf,\n",
    "                                   leading_observable=leading_AKI,\n",
    "                                   cache=cache)"
   ]
  },
  {
   "cell_type": "code",
   "execution_count": 9,
   "id": "4d50d50b",
   "metadata": {},
   "outputs": [],
   "source": [
    "def dataset_gen(dataset_config):\n",
    "    dataset = load_dataset(config=dataset_config)\n",
    "    # Use training-split for fitting the outlier_remover and the scalers.\n",
    "    splits = dataset.random_splits([0.8, 0.9], random_seed=42, balanced='admissions')\n",
    "    # Outlier removal\n",
    "    outlier_remover = dataset.fit_outlier_remover(splits[0])\n",
    "    dataset = dataset.remove_outliers(outlier_remover)\n",
    "\n",
    "    # Scale\n",
    "    scalers = dataset.fit_scalers(splits[0])\n",
    "    return dataset.apply_scalers(scalers)\n",
    "        "
   ]
  },
  {
   "cell_type": "code",
   "execution_count": 10,
   "id": "84d53d11",
   "metadata": {},
   "outputs": [
    {
     "name": "stderr",
     "output_type": "stream",
     "text": [
      "INFO:root:Loading cached subjects.\n"
     ]
    }
   ],
   "source": [
    "m4patients = Patients.try_load_cached(interface_config,\n",
    "                                      dataset_config=dataset_config,\n",
    "                                      dataset_generator=dataset_gen,\n",
    "                                      num_workers=8)"
   ]
  },
  {
   "cell_type": "markdown",
   "id": "c55ce107",
   "metadata": {},
   "source": [
    "## Load Model"
   ]
  },
  {
   "cell_type": "code",
   "execution_count": 11,
   "id": "27cc4ee3",
   "metadata": {},
   "outputs": [],
   "source": [
    "from lib.ml import InpatientExperiment\n",
    "from lib.ehr import TrajectoryConfig\n",
    "from lib import Config, Module"
   ]
  },
  {
   "cell_type": "code",
   "execution_count": 12,
   "id": "9372eab8",
   "metadata": {},
   "outputs": [],
   "source": [
    "experiments_dir = f'{os.environ.get(\"HOME\")}/GP/ehr-data/m4icu_out/onestate_mlp_dtw_inicenode'\n",
    "\n",
    "params_file = 'step1470.eqx'\n",
    "\n",
    "experiment_config = U.load_config(f'{experiments_dir}/config.json')\n",
    "experiment_config = Config.from_dict(experiment_config)\n",
    "experiment = InpatientExperiment(config=experiment_config)"
   ]
  },
  {
   "cell_type": "code",
   "execution_count": 13,
   "id": "97444411",
   "metadata": {},
   "outputs": [],
   "source": [
    "splits = experiment.load_splits(m4patients.dataset)\n",
    "model = experiment.load_model(m4patients)"
   ]
  },
  {
   "cell_type": "code",
   "execution_count": 14,
   "id": "1cc2c8ee",
   "metadata": {},
   "outputs": [
    {
     "data": {
      "text/plain": [
       "[77, 18, 5]"
      ]
     },
     "execution_count": 14,
     "metadata": {},
     "output_type": "execute_result"
    }
   ],
   "source": [
    "[len(s) for s in splits]"
   ]
  },
  {
   "cell_type": "code",
   "execution_count": 15,
   "id": "7918da6e",
   "metadata": {},
   "outputs": [],
   "source": [
    "metrics = experiment.load_metrics(m4patients, splits)"
   ]
  },
  {
   "cell_type": "code",
   "execution_count": 16,
   "id": "49b04a26",
   "metadata": {},
   "outputs": [],
   "source": [
    "model = model.load_params_from_archive(f'{experiments_dir}/params.zip', params_file)\n"
   ]
  },
  {
   "cell_type": "code",
   "execution_count": 17,
   "id": "14576aa9",
   "metadata": {},
   "outputs": [
    {
     "data": {
      "application/json": {
       "ascii": false,
       "bar_format": null,
       "colour": null,
       "elapsed": 0.0038406848907470703,
       "initial": 0,
       "n": 0,
       "ncols": null,
       "nrows": 53,
       "postfix": null,
       "prefix": "Loading to device",
       "rate": null,
       "total": 5,
       "unit": "subject",
       "unit_divisor": 1000,
       "unit_scale": false
      },
      "application/vnd.jupyter.widget-view+json": {
       "model_id": "",
       "version_major": 2,
       "version_minor": 0
      },
      "text/plain": [
       "Loading to device:   0%|          | 0/5 [00:00<?, ?subject/s]"
      ]
     },
     "metadata": {},
     "output_type": "display_data"
    }
   ],
   "source": [
    "test_split = m4patients.device_batch(splits[2])"
   ]
  },
  {
   "cell_type": "code",
   "execution_count": 18,
   "id": "387bb55d",
   "metadata": {},
   "outputs": [],
   "source": [
    "traj_conf = TrajectoryConfig(sampling_rate=0.5)"
   ]
  },
  {
   "cell_type": "code",
   "execution_count": 25,
   "id": "91c6aebb",
   "metadata": {},
   "outputs": [
    {
     "data": {
      "application/json": {
       "ascii": false,
       "bar_format": null,
       "colour": null,
       "elapsed": 0.009908914566040039,
       "initial": 0,
       "n": 0,
       "ncols": null,
       "nrows": 53,
       "postfix": null,
       "prefix": "Embedding",
       "rate": null,
       "total": 5,
       "unit": "subject",
       "unit_divisor": 1000,
       "unit_scale": false
      },
      "application/vnd.jupyter.widget-view+json": {
       "model_id": "",
       "version_major": 2,
       "version_minor": 0
      },
      "text/plain": [
       "Embedding:   0%|          | 0/5 [00:00<?, ?subject/s]"
      ]
     },
     "metadata": {},
     "output_type": "display_data"
    },
    {
     "data": {
      "application/json": {
       "ascii": false,
       "bar_format": "{l_bar}{bar}| {n:.2f}/{total:.2f} [{elapsed}<{remaining}, {rate_fmt}{postfix}]",
       "colour": null,
       "elapsed": 0.0031824111938476562,
       "initial": 0,
       "n": 0,
       "ncols": null,
       "nrows": 53,
       "postfix": null,
       "prefix": "",
       "rate": null,
       "total": 166.22777777777782,
       "unit": "longitudinal-days",
       "unit_divisor": 1000,
       "unit_scale": false
      },
      "application/vnd.jupyter.widget-view+json": {
       "model_id": "",
       "version_major": 2,
       "version_minor": 0
      },
      "text/plain": [
       "  0%|          | 0.00/166.23 [00:00<?, ?longitudinal-days/s]"
      ]
     },
     "metadata": {},
     "output_type": "display_data"
    },
    {
     "name": "stderr",
     "output_type": "stream",
     "text": [
      "WARNING:root:Skipping prediction with NaNs: subject_id=19574847, admission_id=27297034 interval_hours= 201.81666666666666. Note: long intervals is a likely reason to destabilise the model\n",
      "WARNING:root:Skipping prediction with NaNs: subject_id=10532466, admission_id=26825602 interval_hours= 90.05. Note: long intervals is a likely reason to destabilise the model\n",
      "WARNING:root:Average interval_hours: 85.9906976744186\n"
     ]
    }
   ],
   "source": [
    "scaled_vis, unscaled_vis = model.predict_visualisables(test_split, store_embeddings=traj_conf)"
   ]
  },
  {
   "cell_type": "code",
   "execution_count": 41,
   "id": "a51f6be6",
   "metadata": {},
   "outputs": [
    {
     "data": {
      "text/plain": [
       "array([0.1301, 0.1328], dtype=float16)"
      ]
     },
     "execution_count": 41,
     "metadata": {},
     "output_type": "execute_result"
    }
   ],
   "source": [
    "scaled_vis['13672788']['24862501'].obs['o23'].value"
   ]
  },
  {
   "cell_type": "code",
   "execution_count": null,
   "id": "1809d29a",
   "metadata": {},
   "outputs": [],
   "source": [
    "cpu_predictions.admission.interventions.segmented_input.shape[1]"
   ]
  },
  {
   "cell_type": "code",
   "execution_count": null,
   "id": "5ade131f",
   "metadata": {},
   "outputs": [],
   "source": [
    "import equinox as eqx\n",
    "arrs, others = eqx.partition(predictions, eqx.is_array)\n",
    "arrs"
   ]
  },
  {
   "cell_type": "code",
   "execution_count": null,
   "id": "324da7e1",
   "metadata": {},
   "outputs": [],
   "source": [
    "arrs, others = eqx.partition(predictions, eqx.is_array)\n",
    "arrs"
   ]
  },
  {
   "cell_type": "code",
   "execution_count": null,
   "id": "e11ece68",
   "metadata": {},
   "outputs": [],
   "source": [
    "import numpy as np\n",
    "import jax.numpy as jnp\n",
    "\n",
    "arrs, others = eqx.partition({'x': np.arange(10), 'z': {'x': np.arange(5), 'z': {'y': jnp.arange(3)}}}, eqx.is_array)\n",
    "others"
   ]
  },
  {
   "cell_type": "code",
   "execution_count": null,
   "id": "445674b4",
   "metadata": {},
   "outputs": [],
   "source": [
    "cpu_predictions['13672788']['24862501'].admission.interventions.segmented_input.device()"
   ]
  },
  {
   "cell_type": "code",
   "execution_count": null,
   "id": "198db186",
   "metadata": {},
   "outputs": [],
   "source": [
    "cpu_predictions['13672788']['24862501'].admission.interventions.segmented_input.device()"
   ]
  },
  {
   "cell_type": "code",
   "execution_count": null,
   "id": "69cbedca",
   "metadata": {},
   "outputs": [],
   "source": [
    "m4patients.dataset.scalers_history['int_input'].max_val.index"
   ]
  },
  {
   "cell_type": "code",
   "execution_count": null,
   "id": "c1918124",
   "metadata": {},
   "outputs": [],
   "source": []
  }
 ],
 "metadata": {
  "kernelspec": {
   "display_name": "Python 3 (ipykernel)",
   "language": "python",
   "name": "python3"
  },
  "language_info": {
   "codemirror_mode": {
    "name": "ipython",
    "version": 3
   },
   "file_extension": ".py",
   "mimetype": "text/x-python",
   "name": "python",
   "nbconvert_exporter": "python",
   "pygments_lexer": "ipython3",
   "version": "3.10.12"
  }
 },
 "nbformat": 4,
 "nbformat_minor": 5
}
