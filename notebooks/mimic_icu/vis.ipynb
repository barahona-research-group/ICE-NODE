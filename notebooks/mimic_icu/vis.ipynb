{
 "cells": [
  {
   "cell_type": "code",
   "execution_count": 1,
   "id": "76db9cf3",
   "metadata": {},
   "source": [
    "# %env XLA_PYTHON_CLIENT_PREALLOCATE=false\n"
   ],
   "outputs": []
  },
  {
   "cell_type": "code",
   "execution_count": 2,
   "id": "e647d3df",
   "metadata": {},
   "source": [
    "\n",
    "%load_ext autoreload\n",
    "%autoreload 2\n",
    "import sys\n",
    "import os\n",
    "import glob\n",
    "import random\n",
    "from collections import defaultdict\n",
    "from pathlib import Path\n",
    "\n",
    "from IPython.display import display\n",
    "\n",
    "import pandas as pd\n",
    "\n",
    "import jax\n",
    "jax.config.update('jax_platform_name', 'cpu')\n",
    "# jax.config.update('jax_log_compiles', True)\n",
    "# jax.config.update(\"jax_debug_nans\", True)\n",
    "jax.config.update(\"jax_enable_x64\", True)"
   ],
   "outputs": []
  },
  {
   "cell_type": "code",
   "execution_count": 3,
   "id": "60405e0e",
   "metadata": {},
   "source": [
    "\n",
    "\n",
    "sys.path.append(\"../..\")\n",
    "\n",
    "from lib import utils as U\n",
    "from lib.ehr import load_dataset, load_dataset_scheme, load_dataset_config, Dataset\n",
    "from lib.ehr.interface import Patients, InterfaceConfig\n",
    "from lib.ehr.concepts import DemographicVectorConfig, LeadingObservableConfig\n"
   ],
   "outputs": []
  },
  {
   "cell_type": "code",
   "execution_count": 4,
   "id": "f3d06632",
   "metadata": {},
   "source": [
    "from lib.ml import EvaluationConfig, Evaluation"
   ],
   "outputs": []
  },
  {
   "cell_type": "code",
   "execution_count": 5,
   "id": "2b8310e7",
   "metadata": {},
   "source": [
    "conf = U.load_config('~/GP/ICENODE/experiment_templates/icu/eval.json')"
   ],
   "outputs": []
  },
  {
   "cell_type": "code",
   "execution_count": 6,
   "id": "794e7b46",
   "metadata": {},
   "source": [
    "conf = EvaluationConfig.from_dict(conf)\n",
    "conf"
   ],
   "outputs": []
  },
  {
   "cell_type": "code",
   "execution_count": 7,
   "id": "f9d89fb6",
   "metadata": {},
   "source": [
    "conf = conf.path_update('experiments_dir', '/home/asem/GP/ehr-data/m4icu_out')\n",
    "conf = conf.path_update('db', 'db.sqlite')\n",
    "conf"
   ],
   "outputs": []
  },
  {
   "cell_type": "code",
   "execution_count": 8,
   "id": "de4daea0",
   "metadata": {},
   "source": [
    "import logging\n",
    "logging.root.level = logging.INFO"
   ],
   "outputs": []
  },
  {
   "cell_type": "code",
   "execution_count": 9,
   "id": "8d98ba55",
   "metadata": {},
   "source": [
    "ev = Evaluation(conf)"
   ],
   "outputs": []
  },
  {
   "cell_type": "code",
   "execution_count": 11,
   "id": "c348483f",
   "metadata": {},
   "source": [
    "exp = ev.get_experiment('onestate_mlp_mse_inskelkoopman48')"
   ],
   "outputs": []
  },
  {
   "cell_type": "code",
   "execution_count": 12,
   "id": "02983988",
   "metadata": {},
   "source": [
    "IF = exp.load_interface()"
   ],
   "outputs": []
  },
  {
   "cell_type": "code",
   "execution_count": 13,
   "id": "7199344d",
   "metadata": {},
   "source": [
    "splits = exp.load_splits(IF.dataset)\n"
   ],
   "outputs": []
  },
  {
   "cell_type": "code",
   "execution_count": 14,
   "id": "5fdf4a72",
   "metadata": {},
   "source": [
    "metrics = ev.load_metrics(IF, splits)"
   ],
   "outputs": []
  },
  {
   "cell_type": "code",
   "execution_count": 19,
   "id": "2120c11c",
   "metadata": {},
   "source": [
    "metrics.metrics[1].fields()"
   ],
   "outputs": []
  },
  {
   "cell_type": "code",
   "execution_count": 10,
   "id": "4c0b20cb",
   "metadata": {},
   "source": [
    "ev.start()"
   ],
   "outputs": []
  },
  {
   "cell_type": "markdown",
   "id": "176130a5",
   "metadata": {},
   "source": [
    "## Load Dataset"
   ]
  },
  {
   "cell_type": "code",
   "execution_count": 5,
   "id": "38bf7861",
   "metadata": {},
   "source": [
    "tag = 'M4ICU'\n",
    "PATH = f'{os.environ.get(\"HOME\")}/GP/ehr-data/mimic4icu-cohort'\n",
    "sample = 100\n",
    "cache =  f'cached_inteface/patients_{tag}_{sample or \"\"}'\n",
    "dataset_config = load_dataset_config(tag, \n",
    "                                     sample=sample,\n",
    "                                     path=PATH)"
   ],
   "outputs": []
  },
  {
   "cell_type": "code",
   "execution_count": 6,
   "id": "2fe54219",
   "metadata": {},
   "source": [
    "import json\n",
    "dataset_scheme = load_dataset_scheme(tag)\n",
    "interface_schem_options = dataset_scheme.supported_target_scheme_options\n",
    "print(json.dumps(interface_schem_options, sort_keys=True, indent=4))"
   ],
   "outputs": []
  },
  {
   "cell_type": "code",
   "execution_count": 7,
   "id": "b656db98",
   "metadata": {},
   "source": [
    "\n",
    "# Demographic vector attributes\n",
    "demographic_vector_conf = DemographicVectorConfig(\n",
    "    age=True, \n",
    "    gender=True, \n",
    "    ethnicity=True\n",
    ")\n",
    "\n",
    "# Leading \n",
    "leading_AKI = LeadingObservableConfig(leading_hours=[6, 12, 24, 48, 72],\n",
    "                                      window_aggregate='max',\n",
    "                                      scheme=dataset_scheme.obs,\n",
    "                                      index=42)"
   ],
   "outputs": []
  },
  {
   "cell_type": "code",
   "execution_count": 8,
   "id": "8a92e42c",
   "metadata": {},
   "source": [
    "interface_scheme = dataset_scheme.make_target_scheme_config(dx='DxICD9',\n",
    "                                                            outcome='dx_icd9_filter_v3_groups',\n",
    "                                                            ethnicity='MIMIC4Eth5')\n",
    "interface_config = InterfaceConfig(scheme=interface_scheme,\n",
    "                                   dataset_scheme=dataset_scheme,\n",
    "                                   demographic_vector=demographic_vector_conf,\n",
    "                                   leading_observable=leading_AKI,\n",
    "                                   cache=cache)"
   ],
   "outputs": []
  },
  {
   "cell_type": "code",
   "execution_count": 9,
   "id": "4d50d50b",
   "metadata": {},
   "source": [
    "def dataset_gen(dataset_config):\n",
    "    dataset = load_dataset(config=dataset_config)\n",
    "    # Use training-split for fitting the outlier_remover and the scalers.\n",
    "    splits = dataset.random_splits([0.8, 0.9], random_seed=42, balanced='admissions')\n",
    "    # Outlier removal\n",
    "    outlier_remover = dataset.fit_outlier_remover(splits[0])\n",
    "    dataset = dataset.remove_outliers(outlier_remover)\n",
    "\n",
    "    # Scale\n",
    "    scalers = dataset.fit_scalers(splits[0])\n",
    "    return dataset.apply_scalers(scalers)\n",
    "        "
   ],
   "outputs": []
  },
  {
   "cell_type": "code",
   "execution_count": 10,
   "id": "84d53d11",
   "metadata": {},
   "source": [
    "m4patients = Patients.try_load_cached(interface_config,\n",
    "                                      dataset_config=dataset_config,\n",
    "                                      dataset_generator=dataset_gen,\n",
    "                                      num_workers=8)"
   ],
   "outputs": []
  },
  {
   "cell_type": "markdown",
   "id": "c55ce107",
   "metadata": {},
   "source": [
    "## Load Model"
   ]
  },
  {
   "cell_type": "code",
   "execution_count": 11,
   "id": "27cc4ee3",
   "metadata": {},
   "source": [
    "from lib.ml import InpatientExperiment\n",
    "from lib.ehr import TrajectoryConfig\n",
    "from lib import Config, Module"
   ],
   "outputs": []
  },
  {
   "cell_type": "code",
   "execution_count": 12,
   "id": "9372eab8",
   "metadata": {},
   "source": [
    "experiments_dir = f'{os.environ.get(\"HOME\")}/GP/ehr-data/m4icu_out/onestate_mlp_dtw_inicenode'\n",
    "\n",
    "params_file = 'step1470.eqx'\n",
    "\n",
    "experiment_config = U.load_config(f'{experiments_dir}/config.json')\n",
    "experiment_config = Config.from_dict(experiment_config)\n",
    "experiment = InpatientExperiment(config=experiment_config)"
   ],
   "outputs": []
  },
  {
   "cell_type": "code",
   "execution_count": 13,
   "id": "97444411",
   "metadata": {},
   "source": [
    "splits = experiment.load_splits(m4patients.dataset)\n",
    "model = experiment.load_model(m4patients)"
   ],
   "outputs": []
  },
  {
   "cell_type": "code",
   "execution_count": 14,
   "id": "1cc2c8ee",
   "metadata": {},
   "source": [
    "[len(s) for s in splits]"
   ],
   "outputs": []
  },
  {
   "cell_type": "code",
   "execution_count": 15,
   "id": "7918da6e",
   "metadata": {},
   "source": [
    "metrics = experiment.load_metrics(m4patients, splits)"
   ],
   "outputs": []
  },
  {
   "cell_type": "code",
   "execution_count": 16,
   "id": "49b04a26",
   "metadata": {},
   "source": [
    "model = model.load_params_from_archive(f'{experiments_dir}/params.zip', params_file)\n"
   ],
   "outputs": []
  },
  {
   "cell_type": "code",
   "execution_count": 17,
   "id": "14576aa9",
   "metadata": {},
   "source": [
    "test_split = m4patients.device_batch(splits[2])"
   ],
   "outputs": []
  },
  {
   "cell_type": "code",
   "execution_count": 18,
   "id": "c67df1d6",
   "metadata": {},
   "source": [
    "from lib.visualisables import ModelVisualiser\n",
    "ds_src_scheme, ds_t_scheme = m4patients.schemes\n"
   ],
   "outputs": []
  },
  {
   "cell_type": "code",
   "execution_count": 19,
   "id": "5eef2610",
   "metadata": {},
   "source": [
    "visualiser = ModelVisualiser(\n",
    "    scalers_history=m4patients.dataset.scalers_history,\n",
    "    trajectory_config=TrajectoryConfig(sampling_rate=0.5),\n",
    "    obs_scheme=ds_t_scheme.obs,\n",
    "    int_input_scheme=ds_src_scheme.int_input,\n",
    "    int_proc_scheme=ds_t_scheme.int_proc,\n",
    "    leading_observable_config=m4patients.config.leading_observable)"
   ],
   "outputs": []
  },
  {
   "cell_type": "code",
   "execution_count": 43,
   "id": "91c6aebb",
   "metadata": {},
   "source": [
    "vis = visualiser.batch_predict(model, test_split)"
   ],
   "outputs": []
  },
  {
   "cell_type": "code",
   "execution_count": 44,
   "id": "782c2ef9",
   "metadata": {},
   "source": [
    "from bokeh.plotting import figure, show\n",
    "from bokeh.io import output_notebook\n",
    "output_notebook()"
   ],
   "outputs": []
  },
  {
   "cell_type": "code",
   "execution_count": 45,
   "id": "31183407",
   "metadata": {},
   "source": [
    "\n",
    "[k for k in vis['13672788'] if len(vis['13672788'][k].lead) > 0]"
   ],
   "outputs": []
  },
  {
   "cell_type": "code",
   "execution_count": 87,
   "id": "54337f15",
   "metadata": {},
   "source": [
    "figures = visualiser.make_bokeh(vis['13672788']['21019221'])"
   ],
   "outputs": []
  },
  {
   "cell_type": "code",
   "execution_count": 88,
   "id": "d55aa1b2",
   "metadata": {},
   "source": [
    "show(figures['interventions'])"
   ],
   "outputs": []
  },
  {
   "cell_type": "code",
   "execution_count": 76,
   "id": "2b09a94c",
   "metadata": {},
   "source": [
    "show(figures['obs'])"
   ],
   "outputs": []
  },
  {
   "cell_type": "code",
   "execution_count": 77,
   "id": "f9f03d53",
   "metadata": {},
   "source": [
    "show(figures['lead'])"
   ],
   "outputs": []
  },
  {
   "cell_type": "code",
   "execution_count": null,
   "id": "b0f13564",
   "metadata": {},
   "source": [],
   "outputs": []
  }
 ],
 "metadata": {
  "kernelspec": {
   "display_name": "Python 3 (ipykernel)",
   "language": "python",
   "name": "python3"
  },
  "language_info": {
   "codemirror_mode": {
    "name": "ipython",
    "version": 3
   },
   "file_extension": ".py",
   "mimetype": "text/x-python",
   "name": "python",
   "nbconvert_exporter": "python",
   "pygments_lexer": "ipython3",
   "version": "3.9.17"
  }
 },
 "nbformat": 4,
 "nbformat_minor": 5
}
