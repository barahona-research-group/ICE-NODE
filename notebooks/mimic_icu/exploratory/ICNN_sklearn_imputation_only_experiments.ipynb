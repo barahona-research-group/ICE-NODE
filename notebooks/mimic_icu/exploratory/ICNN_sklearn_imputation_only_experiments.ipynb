{
 "cells": [
  {
   "cell_type": "markdown",
   "id": "94d59416-2f91-473a-8103-a3cd6343ac3d",
   "metadata": {},
   "source": [
    "## Libs\n"
   ]
  },
  {
   "cell_type": "code",
   "execution_count": 1,
   "id": "62c28bbb-0bea-4165-9bee-f54dad24ccc6",
   "metadata": {},
   "source": [
    "%load_ext autoreload\n",
    "%autoreload 2\n",
    "from typing import Tuple\n",
    "import sys\n",
    "import time\n",
    "import matplotlib.pyplot as plt\n",
    "import numpy as np\n",
    "import pandas as pd\n",
    "import jax\n",
    "import jax.numpy as jnp\n",
    "import jax.random as jr\n",
    "import equinox as eqx\n",
    "import optax\n",
    "from tqdm.notebook import tqdm\n",
    "from collections import defaultdict\n",
    "from functools import partial\n",
    "import sklearn.neural_network as sknn\n",
    "from sklearn.datasets import fetch_california_housing, load_diabetes\n",
    "from sklearn.ensemble import RandomForestRegressor\n",
    "from sklearn.experimental import enable_iterative_imputer  # noqa\n",
    "from sklearn.impute import IterativeImputer, KNNImputer, SimpleImputer\n",
    "from sklearn.model_selection import cross_val_score\n",
    "from sklearn.pipeline import make_pipeline\n",
    "from sklearn.preprocessing import StandardScaler\n",
    "\n",
    "\n",
    "jax.config.update('jax_enable_x64', True)\n",
    "jax.config.update('jax_platforms', 'cpu')\n",
    "# jax.config.update('jax_check_tracer_leaks', True) \n",
    "sys.path.append(\"../../..\")\n",
    "from lib.ml.icnn_modules import ProbICNNImputerTrainer\n",
    "import lib.ehr.example_datasets.mimiciv_aki as m4aki\n",
    "from lib.ehr.tvx_ehr import TVxEHR\n",
    "from lib.utils import modified_environ, write_config\n",
    " "
   ],
   "outputs": []
  },
  {
   "cell_type": "markdown",
   "id": "bedd275f-c187-456f-9624-228e685e2531",
   "metadata": {},
   "source": [
    "## Data Loading"
   ]
  },
  {
   "cell_type": "code",
   "execution_count": 2,
   "id": "fa92a456-7044-4d3a-bfbb-a9fcbe3079fc",
   "metadata": {},
   "source": [
    "X_diabetes_full, y_diabetes = load_diabetes(return_X_y=True)\n",
    "X_california_full, y_california = fetch_california_housing(return_X_y=True)\n",
    "\n",
    "def add_missingness(X_full: jnp.ndarray, key: jr.PRNGKey, p: float = 0.8) -> Tuple[jnp.ndarray, jnp.ndarray, jnp.ndarray]:\n",
    "    mask = np.array(jr.bernoulli(key, p=p, shape=X_full.shape))\n",
    "    X = jnp.where(mask, X_full, jnp.nan)\n",
    "    return X, mask\n",
    "\n",
    "\n",
    "X_california, M_california = add_missingness(X_california_full, jr.PRNGKey(0), 0.85)\n",
    "X_diabetes, M_diabetes = add_missingness(X_california_full, jr.PRNGKey(0), 0.85)"
   ],
   "outputs": []
  },
  {
   "cell_type": "markdown",
   "id": "1e678fa0-e9a7-4120-aba9-5c17792af3d7",
   "metadata": {},
   "source": [
    "### Split"
   ]
  },
  {
   "cell_type": "code",
   "execution_count": 3,
   "id": "7bb36cd0-60a4-441a-8bb1-e37455e8e7a4",
   "metadata": {},
   "source": [
    "optax_optimisers = {\n",
    "    'adam': optax.adam,\n",
    "    'polyak_sgd': optax.polyak_sgd,\n",
    "    'novograd': optax.novograd,\n",
    "    'lamb': optax.lamb,\n",
    "    'yogi': optax.yogi,\n",
    "}\n",
    "\n",
    "\n",
    "imputers =  {\n",
    "    'zero_imputer': lambda: SimpleImputer(missing_values=np.nan, add_indicator=False, strategy=\"constant\", fill_value=0),\n",
    "    'mean_imputer': lambda: SimpleImputer(missing_values=np.nan, add_indicator=False, strategy=\"mean\", fill_value=0),\n",
    "    'knn_imputer': lambda: KNNImputer(missing_values=np.nan),\n",
    "    'iter_imputer': lambda: IterativeImputer(\n",
    "        missing_values=np.nan,\n",
    "        add_indicator=False,\n",
    "        random_state=0,\n",
    "        n_nearest_features=5,\n",
    "        max_iter=5,\n",
    "        sample_posterior=True,\n",
    "    ),\n",
    "    'icnn_stacked_lognormal': lambda: ProbICNNImputerTrainer(steps=5000, icnn_model_name='stacked', loss='log_normal', artificial_missingness=0.8),\n",
    "    'icnn_stacked_kl': lambda: ProbICNNImputerTrainer(steps=5000, icnn_model_name='stacked', loss='kl_divergence', artificial_missingness=0.8),\n",
    "    'icnn_staged_lognormal': lambda: ProbICNNImputerTrainer(steps=5000, icnn_model_name='staged', loss='log_normal', artificial_missingness=0.8),\n",
    "    'icnn_staged_kl': lambda: ProbICNNImputerTrainer(steps=5000, icnn_model_name='staged', loss='kl_divergence', artificial_missingness=0.8),\n",
    "    'icnn_stacked_lognormal_sq': lambda: ProbICNNImputerTrainer(steps=5000, icnn_model_name='stacked', loss='log_normal', artificial_missingness=0.8, icnn_positivity='squared'),\n",
    "    'icnn_stacked_kl_sq': lambda: ProbICNNImputerTrainer(steps=5000, icnn_model_name='stacked', loss='kl_divergence', artificial_missingness=0.8, icnn_positivity='squared'),\n",
    "    'icnn_staged_lognormal_sq': lambda: ProbICNNImputerTrainer(steps=5000, icnn_model_name='staged', loss='log_normal', artificial_missingness=0.8, icnn_positivity='squared'),\n",
    "    'icnn_staged_kl_sq': lambda: ProbICNNImputerTrainer(steps=5000, icnn_model_name='staged', loss='kl_divergence', artificial_missingness=0.8, icnn_positivity='squared'),\n",
    "}\n",
    "\n"
   ],
   "outputs": []
  },
  {
   "cell_type": "markdown",
   "id": "0c1e66c6-0a03-4775-bd55-cccc0b7f0a32",
   "metadata": {},
   "source": [
    "## Imputation-only Performance"
   ]
  },
  {
   "cell_type": "code",
   "execution_count": 4,
   "id": "279ed9d2-b701-4f6a-a9f6-a8af0e59f890",
   "metadata": {},
   "source": [
    "diabetes_trained_imputer = {k: v().fit(X_diabetes) for k, v in imputers.items()} \n",
    "california_trained_imputer = {k: v().fit(X_california) for k, v in imputers.items()} "
   ],
   "outputs": []
  },
  {
   "cell_type": "code",
   "execution_count": 5,
   "id": "cbcb653b-df60-4308-b5fa-654617c02ccb",
   "metadata": {},
   "source": [
    "def per_feature_imputer_performance(imputer, X_full: jnp.ndarray, mask: jnp.ndarray):\n",
    "    X_missing = np.where(mask, X_full, np.nan)\n",
    "    X_imputed = imputer.transform(X_missing)\n",
    "    r2 = np.empty(X_full.shape[1]) + float('nan')\n",
    "    for i in range(X_full.shape[1]):\n",
    "        m = mask[:, i]\n",
    "        y_hat = X_imputed[:, i]\n",
    "        y = X_full[:, i]\n",
    "        r2[i] = r_squared(y[~m], y_hat[~m])\n",
    "    return r2"
   ],
   "outputs": []
  },
  {
   "cell_type": "code",
   "execution_count": 6,
   "id": "2ac586a0-ee56-416b-948a-865aed5c6db3",
   "metadata": {},
   "source": [
    "diabetes_r2_scores = {k: per_feature_imputer_performance(v, X_diabetes_full, M_diabetes) for k, v in diabetes_trained_imputer.items() }"
   ],
   "outputs": []
  },
  {
   "cell_type": "code",
   "execution_count": null,
   "id": "976c14d8-b31f-492b-b669-fd5877ddc1d7",
   "metadata": {},
   "source": [
    "california_r2_scores = {k: per_feature_imputer_performance(v, X_california_full, M_california) for k, v in california_trained_imputer.items() }"
   ],
   "outputs": []
  },
  {
   "cell_type": "code",
   "execution_count": 8,
   "id": "f133339d-eb25-4d39-bb38-79288c85a8e9",
   "metadata": {},
   "source": [
    "X_diabetes_full.shape, M_diabetes.shape"
   ],
   "outputs": []
  },
  {
   "cell_type": "code",
   "execution_count": null,
   "id": "0155a9e4-2747-4002-baa2-1922519a883f",
   "metadata": {},
   "source": [],
   "outputs": []
  }
 ],
 "metadata": {
  "kernelspec": {
   "display_name": "Python 3 (ipykernel)",
   "language": "python",
   "name": "python3"
  },
  "language_info": {
   "codemirror_mode": {
    "name": "ipython",
    "version": 3
   },
   "file_extension": ".py",
   "mimetype": "text/x-python",
   "name": "python",
   "nbconvert_exporter": "python",
   "pygments_lexer": "ipython3",
   "version": "3.11.8"
  }
 },
 "nbformat": 4,
 "nbformat_minor": 5
}
