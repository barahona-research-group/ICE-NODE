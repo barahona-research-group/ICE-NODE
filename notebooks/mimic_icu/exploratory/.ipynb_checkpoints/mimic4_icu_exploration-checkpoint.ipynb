{
 "cells": [
  {
   "cell_type": "code",
   "execution_count": 1,
   "id": "5a0973b9",
   "metadata": {
    "ExecuteTime": {
     "end_time": "2024-04-18T18:04:39.867871Z",
     "start_time": "2024-04-18T18:04:36.222938Z"
    }
   },
   "outputs": [],
   "source": [
    "%load_ext autoreload\n",
    "%autoreload 2\n",
    "\n",
    "import sys\n",
    "from collections import OrderedDict\n",
    "\n",
    "import matplotlib.pyplot as plt\n",
    "import numpy as np\n",
    "import pandas as pd\n",
    "\n",
    "sys.path.append(\"../../..\")\n",
    "\n",
    "import lib.ehr.example_datasets.mimiciv_aki as m4aki\n",
    "\n",
    "from lib.utils import modified_environ, write_config"
   ]
  },
  {
   "cell_type": "code",
   "execution_count": 2,
   "id": "c5a9fd4b",
   "metadata": {
    "ExecuteTime": {
     "end_time": "2024-04-18T18:04:39.889356Z",
     "start_time": "2024-04-18T18:04:39.868793Z"
    }
   },
   "outputs": [],
   "source": [
    "# create a database connection\n",
    "sqluser = 'postgres'\n",
    "dbname = 'mimiciv'\n",
    "hostname = 'localhost'\n",
    "password = 'qwerasdf'\n",
    "port = '5432'\n",
    "\n",
    "url = f'postgresql+psycopg2://{sqluser}:{password}@{hostname}:{port}/{dbname}'\n",
    "\n",
    "with modified_environ(MIMICIV_URL=url):\n",
    "    mimiciv_config = m4aki.AKIMIMICIVDatasetConfig()\n",
    "    tvx_config = m4aki.TVxAKIMIMICIVDatasetConfig()\n",
    "\n",
    "    write_config(mimiciv_config.to_dict(), 'dataset_mimiciv_aki_config.json')\n",
    "    write_config(tvx_config.to_dict(), 'tvx_mimiciv_aki_config.json')\n"
   ]
  },
  {
   "cell_type": "code",
   "execution_count": 3,
   "id": "8448e76db65f2acd",
   "metadata": {
    "ExecuteTime": {
     "end_time": "2024-04-18T18:10:50.722946Z",
     "start_time": "2024-04-18T18:04:39.890087Z"
    },
    "collapsed": false,
    "jupyter": {
     "outputs_hidden": false
    }
   },
   "outputs": [
    {
     "name": "stderr",
     "output_type": "stream",
     "text": [
      "WARNING:root:Lost 1 codes when generating the mapping between the Mixed ICD (mimiciv.aki_study.hosp_procedures) and the standard (pr_icd9). Loss stats: v9 0 (0.00), v10 1 (1.00); Loss ratios: v9  0.00, v10  0.03.\n",
      "WARNING:root:          code                                         desc  code_index icd_version icd_code\n",
      "\t33  10:5A1D60Z  Performance of Urinary Filtration, Multiple          33          10  5A1D60Z\n",
      "WARNING:root:Lost 10 codes when generating the mapping between the Mixed ICD (mimiciv.aki_study.hosp_procedures) and the standard (pr_flat_icd10). Loss stats: v9 9 (0.90), v10 1 (0.10); Loss ratios: v9  0.15, v10  0.03.\n",
      "WARNING:root:          code                                                                     desc  code_index icd_version icd_code\n",
      "\t33  10:5A1D60Z                              Performance of Urinary Filtration, Multiple          33          10  5A1D60Z\n",
      "\t38     9:00.40                                               Procedure on single vessel          38           9    00.40\n",
      "\t39     9:00.41                                                 Procedure on two vessels          39           9    00.41\n",
      "\t40     9:00.45                                          Insertion of one vascular stent          40           9    00.45\n",
      "\t41     9:00.46                                         Insertion of two vascular stents          41           9    00.46\n",
      "\t50     9:36.06                   Insertion of non-drug-eluting coronary artery stent(s)          50           9    36.06\n",
      "\t51     9:36.07                       Insertion of drug-eluting coronary artery stent(s)          51           9    36.07\n",
      "\t70     9:39.90  Insertion of non-drug-eluting peripheral (non-coronary) vessel stent(s)          70           9    39.90\n",
      "\t80     9:81.62                                      Fusion or refusion of 2-3 vertebrae          80           9    81.62\n",
      "\t81     9:81.63                                      Fusion or refusion of 4-8 vertebrae          81           9    81.63\n",
      "WARNING:root:Lost 73872 codes when generating the mapping between the Mixed ICD (mimiciv.aki_study.dx_discharge) and the standard (dx_icd9). Loss stats: v9 168 (0.00), v10 73704 (1.00); Loss ratios: v9  0.01, v10  0.77.\n",
      "IOPub data rate exceeded.\n",
      "The Jupyter server will temporarily stop sending output\n",
      "to the client in order to avoid crashing it.\n",
      "To change this limit, set the config variable\n",
      "`--ServerApp.iopub_data_rate_limit`.\n",
      "\n",
      "Current values:\n",
      "ServerApp.iopub_data_rate_limit=1000000.0 (bytes/sec)\n",
      "ServerApp.rate_limit_window=3.0 (secs)\n",
      "\n",
      "WARNING:root:Lost 54500 codes when generating the mapping between the Mixed ICD (mimiciv.aki_study.dx_discharge) and the standard (dx_flat_icd10). Loss stats: v9 4025 (0.07), v10 50475 (0.93); Loss ratios: v9  0.27, v10  0.53.\n",
      "IOPub data rate exceeded.\n",
      "The Jupyter server will temporarily stop sending output\n",
      "to the client in order to avoid crashing it.\n",
      "To change this limit, set the config variable\n",
      "`--ServerApp.iopub_data_rate_limit`.\n",
      "\n",
      "Current values:\n",
      "ServerApp.iopub_data_rate_limit=1000000.0 (bytes/sec)\n",
      "ServerApp.rate_limit_window=3.0 (secs)\n",
      "\n",
      "/home/asem/GP/ICENODE/notebooks/mimic_icu/exploratory/../../../lib/ehr/example_datasets/mimiciv.py:399: PerformanceWarning: Adding/subtracting object-dtype array to DatetimeArray not vectorized.\n",
      "  df[self.config.date_of_birth_alias] = anchor_date + anchor_age\n"
     ]
    }
   ],
   "source": [
    "with modified_environ(MIMICIV_URL=url):\n",
    "    dataset = m4aki.AKIMIMICIVDataset(config=mimiciv_config)           "
   ]
  },
  {
   "cell_type": "code",
   "execution_count": 4,
   "id": "2a23d6ad70d52e29",
   "metadata": {
    "ExecuteTime": {
     "end_time": "2024-04-18T18:16:04.712852Z",
     "start_time": "2024-04-18T18:10:50.724168Z"
    },
    "collapsed": false,
    "jupyter": {
     "outputs_hidden": false
    }
   },
   "outputs": [
    {
     "data": {
      "application/json": {
       "ascii": false,
       "bar_format": null,
       "colour": null,
       "elapsed": 0.003580808639526367,
       "initial": 0,
       "n": 0,
       "ncols": null,
       "nrows": 35,
       "postfix": null,
       "prefix": "Transforming Dataset",
       "rate": null,
       "total": 10,
       "unit": "transformations",
       "unit_divisor": 1000,
       "unit_scale": false
      },
      "application/vnd.jupyter.widget-view+json": {
       "model_id": "bde7be90fd564bdaaf869f634911e84b",
       "version_major": 2,
       "version_minor": 0
      },
      "text/plain": [
       "Transforming Dataset:   0%|          | 0/10 [00:00<?, ?transformations/s]"
      ]
     },
     "metadata": {},
     "output_type": "display_data"
    }
   ],
   "source": [
    "dataset = dataset.execute_pipeline()"
   ]
  },
  {
   "cell_type": "code",
   "execution_count": null,
   "id": "c52961b926069146",
   "metadata": {
    "ExecuteTime": {
     "end_time": "2024-04-18T18:16:04.715530Z",
     "start_time": "2024-04-18T18:16:04.713685Z"
    }
   },
   "outputs": [],
   "source": []
  },
  {
   "cell_type": "code",
   "execution_count": 5,
   "id": "b2638310a60d72ea",
   "metadata": {
    "ExecuteTime": {
     "end_time": "2024-04-18T18:16:04.731003Z",
     "start_time": "2024-04-18T18:16:04.716238Z"
    },
    "collapsed": false,
    "jupyter": {
     "outputs_hidden": false
    }
   },
   "outputs": [],
   "source": [
    "tvx = m4aki.TVxAKIMIMICIVDataset(config=tvx_config, dataset=dataset)"
   ]
  },
  {
   "cell_type": "code",
   "execution_count": null,
   "id": "567b308edce77e44",
   "metadata": {
    "ExecuteTime": {
     "end_time": "2024-04-18T18:17:14.561416Z",
     "start_time": "2024-04-18T18:16:04.731672Z"
    },
    "collapsed": false,
    "jupyter": {
     "outputs_hidden": false
    }
   },
   "outputs": [
    {
     "data": {
      "application/json": {
       "ascii": false,
       "bar_format": null,
       "colour": null,
       "elapsed": 0.0025177001953125,
       "initial": 0,
       "n": 0,
       "ncols": null,
       "nrows": 35,
       "postfix": null,
       "prefix": "Transforming Dataset",
       "rate": null,
       "total": 10,
       "unit": "transformations",
       "unit_divisor": 1000,
       "unit_scale": false
      },
      "application/vnd.jupyter.widget-view+json": {
       "model_id": "d95315422ca949189fbe5cfb5221746f",
       "version_major": 2,
       "version_minor": 0
      },
      "text/plain": [
       "Transforming Dataset:   0%|          | 0/10 [00:00<?, ?transformations/s]"
      ]
     },
     "metadata": {},
     "output_type": "display_data"
    },
    {
     "name": "stderr",
     "output_type": "stream",
     "text": [
      "WARNING:root:Some codes are not in the target scheme. 78705 / 2530454 codes were removed.\n"
     ]
    }
   ],
   "source": [
    "tvx = tvx.execute_pipeline()"
   ]
  },
  {
   "cell_type": "code",
   "execution_count": null,
   "id": "912bbdd5-496b-4a1f-8561-3ec6ee5a5541",
   "metadata": {},
   "outputs": [],
   "source": []
  }
 ],
 "metadata": {
  "kernelspec": {
   "display_name": "Python 3 (ipykernel)",
   "language": "python",
   "name": "python3"
  },
  "language_info": {
   "codemirror_mode": {
    "name": "ipython",
    "version": 3
   },
   "file_extension": ".py",
   "mimetype": "text/x-python",
   "name": "python",
   "nbconvert_exporter": "python",
   "pygments_lexer": "ipython3",
   "version": "3.11.8"
  }
 },
 "nbformat": 4,
 "nbformat_minor": 5
}
