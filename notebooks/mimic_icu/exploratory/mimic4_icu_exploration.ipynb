{
 "cells": [
  {
   "cell_type": "code",
   "execution_count": 1,
   "id": "5a0973b9",
   "metadata": {
    "ExecuteTime": {
     "end_time": "2024-03-04T17:44:23.362844Z",
     "start_time": "2024-03-04T17:44:21.062538Z"
    }
   },
   "outputs": [],
   "source": [
    "%load_ext autoreload\n",
    "%autoreload 2\n",
    "\n",
    "import sys\n",
    "from collections import OrderedDict\n",
    "\n",
    "import matplotlib.pyplot as plt\n",
    "import numpy as np\n",
    "import pandas as pd\n",
    "\n",
    "sys.path.append(\"../../..\")\n",
    "\n",
    "import lib.ehr.example_datasets.mimiciv as m4\n",
    "import lib.ehr.example_datasets.mimiciv_aki as m4aki"
   ]
  },
  {
   "cell_type": "code",
   "outputs": [
    {
     "data": {
      "text/plain": "'{\"a\": 1, \"b\": 2, \"c\": [\"a\", 3]}'"
     },
     "execution_count": 3,
     "metadata": {},
     "output_type": "execute_result"
    }
   ],
   "source": [],
   "metadata": {
    "collapsed": false,
    "ExecuteTime": {
     "end_time": "2024-03-04T20:04:36.416935Z",
     "start_time": "2024-03-04T20:04:36.413995Z"
    }
   },
   "id": "5547d9622a4f52a4",
   "execution_count": 3
  },
  {
   "cell_type": "code",
   "outputs": [
    {
     "data": {
      "text/plain": "'{\"additional_parameters\": {}, \"after\": 0, \"before\": null, \"column\": [\"icu_proc_start_time\", \"icu_proc_end_time\"], \"operation\": \"clamp\", \"table\": \"icu_procedures\", \"transformation\": \"FilterClampTimestampsToAdmissionInterval\", \"value_type\": \"count\"}'"
     },
     "execution_count": 8,
     "metadata": {},
     "output_type": "execute_result"
    }
   ],
   "source": [
    "from lib.ehr.pipeline import  ReportAttributes\n",
    "import json \n",
    "\n",
    "r = ReportAttributes(**{'additional_parameters': {}, 'after': 0, 'before': None, 'column': ('icu_proc_start_time', 'icu_proc_end_time'), 'operation': 'clamp', 'table': 'icu_procedures', 'transformation': 'FilterClampTimestampsToAdmissionInterval', 'value_type': 'count'})\n",
    "d = r.as_dict()\n",
    "\n",
    "json.dumps(d, default=vars)\n"
   ],
   "metadata": {
    "collapsed": false,
    "ExecuteTime": {
     "end_time": "2024-03-04T20:26:44.090385Z",
     "start_time": "2024-03-04T20:26:44.083697Z"
    }
   },
   "id": "132b527155ef087c",
   "execution_count": 8
  },
  {
   "cell_type": "code",
   "outputs": [],
   "source": [
    "# create a database connection\n",
    "sqluser = 'postgres'\n",
    "dbname = 'mimiciv'\n",
    "hostname = 'localhost'\n",
    "password = 'qwerasdf'\n",
    "port = '5432'\n",
    "\n",
    "mimiciv_config = m4.MIMICIVSQLTablesConfig(host=hostname, port=port, user=sqluser, password=password, dbname=dbname)\n",
    "mimiciv_interface = m4.MIMICIVSQLTablesInterface(mimiciv_config)\n",
    "mimiciv_engine = mimiciv_interface.create_engine()\n"
   ],
   "metadata": {
    "ExecuteTime": {
     "end_time": "2024-03-04T17:44:24.369976Z",
     "start_time": "2024-03-04T17:44:24.293516Z"
    }
   },
   "id": "c5a9fd4b",
   "execution_count": 2
  },
  {
   "cell_type": "code",
   "outputs": [
    {
     "name": "stderr",
     "output_type": "stream",
     "text": [
      "/home/asem/GP/ICENODE/lib/ehr/example_datasets/mimiciv.py:613: PerformanceWarning: Adding/subtracting object-dtype array to DatetimeArray not vectorized.\n",
      "  df[self.config.date_of_birth_alias] = anchor_date + anchor_age\n"
     ]
    }
   ],
   "source": [
    "mimiciv_scheme_conf = m4aki.AKIMIMICIVDatasetConfig(tables=mimiciv_config)\n",
    "\n",
    "dataset_raw = m4aki.AKIMIMICIVDataset(mimiciv_scheme_conf)"
   ],
   "metadata": {
    "collapsed": false,
    "ExecuteTime": {
     "end_time": "2024-03-04T17:49:32.852653Z",
     "start_time": "2024-03-04T17:44:27.897752Z"
    }
   },
   "id": "e39f9d7b959aadbd",
   "execution_count": 3
  },
  {
   "cell_type": "code",
   "outputs": [
    {
     "data": {
      "text/plain": "Transforming Dataset:   0%|          | 0/11 [00:00<?, ?transformations/s]",
      "application/vnd.jupyter.widget-view+json": {
       "version_major": 2,
       "version_minor": 0,
       "model_id": "81eb20228ba44749ad68a82a896b9a84"
      }
     },
     "metadata": {},
     "output_type": "display_data"
    },
    {
     "name": "stderr",
     "output_type": "stream",
     "text": [
      "/home/asem/GP/ICENODE/lib/ehr/pipeline.py:367: SettingWithCopyWarning: \n",
      "A value is trying to be set on a copy of a slice from a DataFrame.\n",
      "Try using .loc[row_indexer,col_indexer] = value instead\n",
      "\n",
      "See the caveats in the documentation: https://pandas.pydata.org/pandas-docs/stable/user_guide/indexing.html#returning-a-view-versus-a-copy\n",
      "  table[c_admission_id] = table[c_admission_id].map(lambda i: sub2sup.get(i, i))\n"
     ]
    },
    {
     "ename": "KeyboardInterrupt",
     "evalue": "",
     "output_type": "error",
     "traceback": [
      "\u001B[0;31m---------------------------------------------------------------------------\u001B[0m",
      "\u001B[0;31mKeyboardInterrupt\u001B[0m                         Traceback (most recent call last)",
      "Cell \u001B[0;32mIn[4], line 1\u001B[0m\n\u001B[0;32m----> 1\u001B[0m dataset \u001B[38;5;241m=\u001B[39m \u001B[43mdataset_raw\u001B[49m\u001B[38;5;241;43m.\u001B[39;49m\u001B[43mexecute_pipeline\u001B[49m\u001B[43m(\u001B[49m\u001B[43m)\u001B[49m\n",
      "File \u001B[0;32m~/GP/ICENODE/lib/ehr/dataset.py:497\u001B[0m, in \u001B[0;36mDataset.execute_pipeline\u001B[0;34m(self)\u001B[0m\n\u001B[1;32m    495\u001B[0m     logging\u001B[38;5;241m.\u001B[39mwarning(\u001B[38;5;124m\"\u001B[39m\u001B[38;5;124mPipeline has already been executed. Doing nothing.\u001B[39m\u001B[38;5;124m\"\u001B[39m)\n\u001B[1;32m    496\u001B[0m     \u001B[38;5;28;01mreturn\u001B[39;00m \u001B[38;5;28mself\u001B[39m\n\u001B[0;32m--> 497\u001B[0m dataset, aux \u001B[38;5;241m=\u001B[39m \u001B[38;5;28;43mself\u001B[39;49m\u001B[38;5;241;43m.\u001B[39;49m\u001B[43mcore_pipeline\u001B[49m\u001B[43m(\u001B[49m\u001B[38;5;28;43mself\u001B[39;49m\u001B[43m)\u001B[49m\n\u001B[1;32m    499\u001B[0m dataset \u001B[38;5;241m=\u001B[39m eqx\u001B[38;5;241m.\u001B[39mtree_at(\u001B[38;5;28;01mlambda\u001B[39;00m x: x\u001B[38;5;241m.\u001B[39mconfig\u001B[38;5;241m.\u001B[39mpipeline_executed, dataset, \u001B[38;5;28;01mTrue\u001B[39;00m)\n\u001B[1;32m    500\u001B[0m dataset \u001B[38;5;241m=\u001B[39m eqx\u001B[38;5;241m.\u001B[39mtree_at(\u001B[38;5;28;01mlambda\u001B[39;00m x: x\u001B[38;5;241m.\u001B[39mcore_pipeline_report, dataset, aux[\u001B[38;5;124m'\u001B[39m\u001B[38;5;124mreport\u001B[39m\u001B[38;5;124m'\u001B[39m])\n",
      "File \u001B[0;32m~/GP/ICENODE/lib/ehr/pipeline.py:165\u001B[0m, in \u001B[0;36mDatasetPipeline.__call__\u001B[0;34m(self, dataset)\u001B[0m\n\u001B[1;32m    162\u001B[0m current_report_list \u001B[38;5;241m=\u001B[39m new_report_list\n\u001B[1;32m    164\u001B[0m \u001B[38;5;28;01mif\u001B[39;00m \u001B[38;5;28mlen\u001B[39m(transformation_report) \u001B[38;5;241m>\u001B[39m \u001B[38;5;241m0\u001B[39m:\n\u001B[0;32m--> 165\u001B[0m     report_df \u001B[38;5;241m=\u001B[39m \u001B[43mpd\u001B[49m\u001B[38;5;241m.\u001B[39mDataFrame([x\u001B[38;5;241m.\u001B[39mas_dict() \u001B[38;5;28;01mfor\u001B[39;00m x \u001B[38;5;129;01min\u001B[39;00m transformation_report])\n\u001B[1;32m    166\u001B[0m     report_str \u001B[38;5;241m=\u001B[39m report_df\u001B[38;5;241m.\u001B[39mto_string()\u001B[38;5;241m.\u001B[39mreplace(\u001B[38;5;124m'\u001B[39m\u001B[38;5;130;01m\\n\u001B[39;00m\u001B[38;5;124m'\u001B[39m, \u001B[38;5;124m'\u001B[39m\u001B[38;5;130;01m\\n\u001B[39;00m\u001B[38;5;130;01m\\t\u001B[39;00m\u001B[38;5;124m'\u001B[39m)\n\u001B[1;32m    167\u001B[0m     logging\u001B[38;5;241m.\u001B[39mdebug(\u001B[38;5;124mf\u001B[39m\u001B[38;5;124m\"\u001B[39m\u001B[38;5;124mTransformation Statistics: \u001B[39m\u001B[38;5;132;01m{\u001B[39;00mt\u001B[38;5;241m.\u001B[39mname\u001B[38;5;250m \u001B[39m\u001B[38;5;129;01mor\u001B[39;00m\u001B[38;5;250m \u001B[39m\u001B[38;5;28mtype\u001B[39m(t)\u001B[38;5;241m.\u001B[39m\u001B[38;5;18m__name__\u001B[39m\u001B[38;5;132;01m}\u001B[39;00m\u001B[38;5;124m:\u001B[39m\u001B[38;5;130;01m\\n\u001B[39;00m\u001B[38;5;132;01m{\u001B[39;00mreport_str\u001B[38;5;132;01m}\u001B[39;00m\u001B[38;5;124m\"\u001B[39m)\n",
      "File \u001B[0;32m~/GP/ICENODE/lib/ehr/pipeline.py:165\u001B[0m, in \u001B[0;36mDatasetPipeline.__call__\u001B[0;34m(self, dataset)\u001B[0m\n\u001B[1;32m    162\u001B[0m current_report_list \u001B[38;5;241m=\u001B[39m new_report_list\n\u001B[1;32m    164\u001B[0m \u001B[38;5;28;01mif\u001B[39;00m \u001B[38;5;28mlen\u001B[39m(transformation_report) \u001B[38;5;241m>\u001B[39m \u001B[38;5;241m0\u001B[39m:\n\u001B[0;32m--> 165\u001B[0m     report_df \u001B[38;5;241m=\u001B[39m \u001B[43mpd\u001B[49m\u001B[38;5;241m.\u001B[39mDataFrame([x\u001B[38;5;241m.\u001B[39mas_dict() \u001B[38;5;28;01mfor\u001B[39;00m x \u001B[38;5;129;01min\u001B[39;00m transformation_report])\n\u001B[1;32m    166\u001B[0m     report_str \u001B[38;5;241m=\u001B[39m report_df\u001B[38;5;241m.\u001B[39mto_string()\u001B[38;5;241m.\u001B[39mreplace(\u001B[38;5;124m'\u001B[39m\u001B[38;5;130;01m\\n\u001B[39;00m\u001B[38;5;124m'\u001B[39m, \u001B[38;5;124m'\u001B[39m\u001B[38;5;130;01m\\n\u001B[39;00m\u001B[38;5;130;01m\\t\u001B[39;00m\u001B[38;5;124m'\u001B[39m)\n\u001B[1;32m    167\u001B[0m     logging\u001B[38;5;241m.\u001B[39mdebug(\u001B[38;5;124mf\u001B[39m\u001B[38;5;124m\"\u001B[39m\u001B[38;5;124mTransformation Statistics: \u001B[39m\u001B[38;5;132;01m{\u001B[39;00mt\u001B[38;5;241m.\u001B[39mname\u001B[38;5;250m \u001B[39m\u001B[38;5;129;01mor\u001B[39;00m\u001B[38;5;250m \u001B[39m\u001B[38;5;28mtype\u001B[39m(t)\u001B[38;5;241m.\u001B[39m\u001B[38;5;18m__name__\u001B[39m\u001B[38;5;132;01m}\u001B[39;00m\u001B[38;5;124m:\u001B[39m\u001B[38;5;130;01m\\n\u001B[39;00m\u001B[38;5;132;01m{\u001B[39;00mreport_str\u001B[38;5;132;01m}\u001B[39;00m\u001B[38;5;124m\"\u001B[39m)\n",
      "File \u001B[0;32m~/opt/pycharm-2023.3.2/plugins/python/helpers/pydev/_pydevd_bundle/pydevd_cython.pyx:1187\u001B[0m, in \u001B[0;36m_pydevd_bundle.pydevd_cython.SafeCallWrapper.__call__\u001B[0;34m()\u001B[0m\n",
      "File \u001B[0;32m~/opt/pycharm-2023.3.2/plugins/python/helpers/pydev/_pydevd_bundle/pydevd_cython.pyx:627\u001B[0m, in \u001B[0;36m_pydevd_bundle.pydevd_cython.PyDBFrame.trace_dispatch\u001B[0;34m()\u001B[0m\n",
      "File \u001B[0;32m~/opt/pycharm-2023.3.2/plugins/python/helpers/pydev/_pydevd_bundle/pydevd_cython.pyx:937\u001B[0m, in \u001B[0;36m_pydevd_bundle.pydevd_cython.PyDBFrame.trace_dispatch\u001B[0;34m()\u001B[0m\n",
      "File \u001B[0;32m~/opt/pycharm-2023.3.2/plugins/python/helpers/pydev/_pydevd_bundle/pydevd_cython.pyx:928\u001B[0m, in \u001B[0;36m_pydevd_bundle.pydevd_cython.PyDBFrame.trace_dispatch\u001B[0;34m()\u001B[0m\n",
      "File \u001B[0;32m~/opt/pycharm-2023.3.2/plugins/python/helpers/pydev/_pydevd_bundle/pydevd_cython.pyx:585\u001B[0m, in \u001B[0;36m_pydevd_bundle.pydevd_cython.PyDBFrame.do_wait_suspend\u001B[0;34m()\u001B[0m\n",
      "File \u001B[0;32m~/opt/pycharm-2023.3.2/plugins/python/helpers/pydev/pydevd.py:1184\u001B[0m, in \u001B[0;36mPyDB.do_wait_suspend\u001B[0;34m(self, thread, frame, event, arg, send_suspend_message, is_unhandled_exception)\u001B[0m\n\u001B[1;32m   1181\u001B[0m         from_this_thread\u001B[38;5;241m.\u001B[39mappend(frame_id)\n\u001B[1;32m   1183\u001B[0m \u001B[38;5;28;01mwith\u001B[39;00m \u001B[38;5;28mself\u001B[39m\u001B[38;5;241m.\u001B[39m_threads_suspended_single_notification\u001B[38;5;241m.\u001B[39mnotify_thread_suspended(thread_id, stop_reason):\n\u001B[0;32m-> 1184\u001B[0m     \u001B[38;5;28;43mself\u001B[39;49m\u001B[38;5;241;43m.\u001B[39;49m\u001B[43m_do_wait_suspend\u001B[49m\u001B[43m(\u001B[49m\u001B[43mthread\u001B[49m\u001B[43m,\u001B[49m\u001B[43m \u001B[49m\u001B[43mframe\u001B[49m\u001B[43m,\u001B[49m\u001B[43m \u001B[49m\u001B[43mevent\u001B[49m\u001B[43m,\u001B[49m\u001B[43m \u001B[49m\u001B[43marg\u001B[49m\u001B[43m,\u001B[49m\u001B[43m \u001B[49m\u001B[43msuspend_type\u001B[49m\u001B[43m,\u001B[49m\u001B[43m \u001B[49m\u001B[43mfrom_this_thread\u001B[49m\u001B[43m)\u001B[49m\n",
      "File \u001B[0;32m~/opt/pycharm-2023.3.2/plugins/python/helpers/pydev/pydevd.py:1199\u001B[0m, in \u001B[0;36mPyDB._do_wait_suspend\u001B[0;34m(self, thread, frame, event, arg, suspend_type, from_this_thread)\u001B[0m\n\u001B[1;32m   1196\u001B[0m             \u001B[38;5;28mself\u001B[39m\u001B[38;5;241m.\u001B[39m_call_mpl_hook()\n\u001B[1;32m   1198\u001B[0m         \u001B[38;5;28mself\u001B[39m\u001B[38;5;241m.\u001B[39mprocess_internal_commands()\n\u001B[0;32m-> 1199\u001B[0m         \u001B[43mtime\u001B[49m\u001B[38;5;241;43m.\u001B[39;49m\u001B[43msleep\u001B[49m\u001B[43m(\u001B[49m\u001B[38;5;241;43m0.01\u001B[39;49m\u001B[43m)\u001B[49m\n\u001B[1;32m   1201\u001B[0m \u001B[38;5;28mself\u001B[39m\u001B[38;5;241m.\u001B[39mcancel_async_evaluation(get_current_thread_id(thread), \u001B[38;5;28mstr\u001B[39m(\u001B[38;5;28mid\u001B[39m(frame)))\n\u001B[1;32m   1203\u001B[0m \u001B[38;5;66;03m# process any stepping instructions\u001B[39;00m\n",
      "\u001B[0;31mKeyboardInterrupt\u001B[0m: "
     ]
    }
   ],
   "source": [
    "dataset = dataset_raw.execute_pipeline()"
   ],
   "metadata": {
    "collapsed": false,
    "ExecuteTime": {
     "end_time": "2024-03-04T18:16:02.083167Z",
     "start_time": "2024-03-04T17:50:24.277948Z"
    }
   },
   "id": "4adb7cc562388089",
   "execution_count": 4
  },
  {
   "cell_type": "code",
   "outputs": [],
   "source": [],
   "metadata": {
    "collapsed": false
   },
   "id": "b26cb5729f281fbb"
  },
  {
   "cell_type": "markdown",
   "id": "b08bb8db",
   "metadata": {},
   "source": [
    "## Preprocessing\n",
    "\n",
    "Preparation into Dataset:\n",
    "\n",
    "- Inputs:\n",
    "    - selection of race (optional).\n",
    "    - selection of dx_codes (optional).\n",
    "    - selection of icu_proc codes (optional).\n",
    "    - selection of icu_inputs codes (optional).\n",
    "    - selection of hosp_proc codes (optional).\n",
    "    - selection of subjects from a function indicating an aki availability.\n",
    "    - icu_input unit-of-measurement conversion table.\n",
    "- Pipeline:\n",
    "    - Set Indices.\n",
    "    - Select subjects with at least one aki measurement (synchronize all).\n",
    "    - Cast Datetime.\n",
    "    - Merge overlapping admissions (remap hadm_id in all).\n",
    "    - Remove subjects having admissions with negative intervals (ensure the negative interval is handled correctly when merging overlaps.).\n",
    "    - Filter timestamped measurement outside the admittime/dischtime.\n",
    "    - Filter interventional intervals entirely outside admittime/dischtime.\n",
    "    - Clip overlapping interventional intervals to admittime/dischtime.\n",
    "    - Filter unsupported codes.\n",
    "    - Unit-normalize amount_per_hour.\n",
    "    - Remove subjects with invalid input rates.\n",
    "    - Replace Alphaneumeric Codes with Integer Indices.\n",
    "    - Replace timestamps with relative times from admission time.\n",
    "\n",
    "- Output: MIMICIVDataset (7 data tables + 7 scheme objects).\n",
    "    - `static_df` + (race_scheme, gender_scheme) \n",
    "    - `adm_df`\n",
    "    - `dx_df` + (dx_scheme: MixedICDScheme)\n",
    "    - `obs_df` + (obs_scheme: MIMICObsScheme)\n",
    "    - `icu_proc_df` + (icu_proc_scheme: ItemBasedScheme)\n",
    "    - `icu_input_df` + (icu_input_scheme: ItemBasedScheme)\n",
    "    - `hosp_proc_df` + (hocp_proc_scheme: MixedICDScheme)\n",
    " \n",
    "\n",
    "Preparation into DynSys interface:\n",
    "\n",
    "- Inputs:\n",
    "    - Dataset\n",
    "    - target::race_scheme, target::gender_scheme\n",
    "    - target::proc_scheme (groups `icu_proc_df` + `hosp_proc_df` into `proc_df`).\n",
    "    - target::input (group-aggregates `icu_input_df` items)\n",
    "    - target::dx_scheme\n",
    "    - outcome_extractor\n",
    "    - leading_config\n",
    "    - aggregation configuration:\n",
    "        - conditional aggregation measurements with small timescales, e.g.  quantile75(dt) < 1-hour\n",
    "        - hard aggregation, fixed time_bin interval.\n",
    "    - splits\n",
    "    - config outlier removal + rescaling.\n",
    "- Pipeline:\n",
    "    - Sample Subjects.\n",
    "    - Outlier removal and rescaling.\n",
    "    - Vectorize:\n",
    "        - dx\n",
    "        - dx_history\n",
    "        - obs\n",
    "        - input\n",
    "        - proc\n",
    "    - observations conditional aggregation OR hard aggregation.\n",
    "    - Vectorize:\n",
    "        - lead (extracted after aggregation of obs)\n",
    "    - Exclude admissions with less than 12 hours stay (it comes after vectorize so dx_history do not miss preceding admissions).\n",
    "- Output: DynEHRSystem (original dataset + VecPatients + 5 target_schemes + outcome_extractor + leaf_config)  \n",
    "\n"
   ]
  },
  {
   "cell_type": "markdown",
   "id": "ea32e37d",
   "metadata": {},
   "source": [
    "### Interventions\n",
    "\n"
   ]
  },
  {
   "cell_type": "markdown",
   "id": "bbc041fa",
   "metadata": {},
   "source": [
    "### `hospicdproc` + `icuproc` Further filteration and grouper"
   ]
  },
  {
   "cell_type": "code",
   "execution_count": null,
   "id": "85e05ed6",
   "metadata": {},
   "outputs": [],
   "source": [
    "df = hospicdproc_df.merge(adm_df, on='hadm_id', how='left')\n",
    "\n",
    "# timeperc_within_stay = (df['start_time'] - df['admittime']).dt.total_seconds() /(df['dischtime'] - df['admittime']).dt.total_seconds()\n",
    "# timeperc_within_stay.plot.kde()"
   ]
  },
  {
   "cell_type": "code",
   "execution_count": null,
   "id": "f900c29c",
   "metadata": {},
   "outputs": [],
   "source": [
    "icd_n_subjects = df.groupby(['icd_code', 'long_title', 'icd_version'], as_index=False).agg(\n",
    "    n_subjects=('subject_id', 'nunique'))\n",
    "icd_n_subjects['p_subjects'] = icd_n_subjects['n_subjects'] / len(subject_id_with_renal_info)\n",
    "# icd_n_subjects['p_subjects'].plot.kde()"
   ]
  },
  {
   "cell_type": "markdown",
   "id": "c705e457",
   "metadata": {},
   "source": [
    "### 'icuproc` refinement"
   ]
  },
  {
   "cell_type": "markdown",
   "id": "7d4c4cff",
   "metadata": {},
   "source": [
    "#### Standard Procedure Table"
   ]
  },
  {
   "cell_type": "markdown",
   "id": "476b5a8e",
   "metadata": {},
   "source": [
    "### `input` filteration and refinement"
   ]
  },
  {
   "cell_type": "markdown",
   "id": "2ce95dc3",
   "metadata": {},
   "source": [
    "#### Normalise rates of different units for the same input item"
   ]
  },
  {
   "cell_type": "code",
   "execution_count": null,
   "id": "c89c5f99",
   "metadata": {},
   "outputs": [],
   "source": [
    "rate_scaler = dict(zip(map(lambda c1, c2: f'{c1}-{c2}', int_grouper_input_df.label, int_grouper_input_df.amountuom),\n",
    "                       int_grouper_input_df.rate_normaliser))\n",
    "\n",
    "input_df['label-uom'] = list(map(lambda c1, c2: f'{c1}-{c2}', input_df.label, input_df.amountuom))\n",
    "input_df['normalised_amount_per_hour'] = input_df['amount_per_hour'] * input_df['label-uom'].map(rate_scaler)"
   ]
  },
  {
   "cell_type": "code",
   "execution_count": null,
   "id": "7a6a7055",
   "metadata": {},
   "outputs": [],
   "source": [
    "input_df = input_df[['hadm_id', 'start_time', 'end_time', 'label', 'normalised_amount_per_hour']]"
   ]
  },
  {
   "cell_type": "code",
   "execution_count": null,
   "id": "633c488c",
   "metadata": {},
   "outputs": [],
   "source": [
    "input_df.to_csv('int_input.csv.gz', compression='gzip')"
   ]
  },
  {
   "cell_type": "code",
   "execution_count": null,
   "id": "ab546964",
   "metadata": {},
   "outputs": [],
   "source": [
    "input_df"
   ]
  },
  {
   "cell_type": "markdown",
   "id": "64222b45",
   "metadata": {},
   "source": [
    "## Dx Codes Filteration"
   ]
  },
  {
   "cell_type": "code",
   "execution_count": null,
   "id": "0d4f5910",
   "metadata": {},
   "outputs": [],
   "source": [
    "def filter_discharge_codes(df, subject_id_selection=None):\n",
    "    n = OrderedDict()\n",
    "    n['n0'] = len(df)\n",
    "\n",
    "    cols = df.columns\n",
    "\n",
    "    # (1) Filter discharge codes if subject has a single admission.\n",
    "    n_adms = df.groupby('subject_id', as_index=False).agg(n_adms=('hadm_id', 'nunique'))\n",
    "    n_adms_subjects = set(n_adms[n_adms['n_adms'] > 1].subject_id)\n",
    "    df = df[df.subject_id.isin(n_adms_subjects)]\n",
    "\n",
    "    n['n adm. > 1 filter'] = len(df)\n",
    "\n",
    "    # (2) Filter discharge dx codes based on subject_id selection\n",
    "    if subject_id_selection is not None:\n",
    "        df = df[df.subject_id.isin(subject_id_selection)]\n",
    "\n",
    "    n['n subj. filter'] = len(df)\n",
    "\n",
    "    print('\\n'.join(f'{filt}: {num} ({100 * num / n[\"n0\"]:.1f})' for filt, num in n.items()))\n",
    "    print('\\n========\\n')\n",
    "    return df"
   ]
  },
  {
   "cell_type": "code",
   "execution_count": null,
   "id": "dca0531f",
   "metadata": {},
   "outputs": [],
   "source": [
    "dx_query = f\"\"\"\n",
    "SELECT\n",
    "    hadm_id, subject_id, icd_code, icd_version\n",
    "FROM mimiciv_hosp.diagnoses_icd \n",
    "\"\"\"\n",
    "dx_df = pd.read_sql_query(dx_query, con)"
   ]
  },
  {
   "cell_type": "code",
   "execution_count": null,
   "id": "008c13cb",
   "metadata": {},
   "outputs": [],
   "source": [
    "dx_df = filter_discharge_codes(dx_df, subject_id_selection=subject_id_with_renal_info)"
   ]
  },
  {
   "cell_type": "markdown",
   "id": "512de513",
   "metadata": {},
   "source": [
    "## Admissions & Static Tables "
   ]
  },
  {
   "cell_type": "code",
   "execution_count": null,
   "id": "c0f8f426",
   "metadata": {},
   "outputs": [],
   "source": [
    "def filter_admissions(df, subject_id_selection=None):\n",
    "    n = OrderedDict()\n",
    "    n['n0'] = len(df)\n",
    "\n",
    "    cols = df.columns\n",
    "\n",
    "    # (1) Filter discharge dx codes based on subject_id selection\n",
    "    if subject_id_selection is not None:\n",
    "        df = df[df.subject_id.isin(subject_id_selection)]\n",
    "\n",
    "    n['n subj. filter'] = len(df)\n",
    "\n",
    "    print('\\n'.join(f'{filt}: {num} ({100 * num / n[\"n0\"]:.1f})' for filt, num in n.items()))\n",
    "    print('\\n========\\n')\n",
    "    return df"
   ]
  },
  {
   "cell_type": "code",
   "execution_count": null,
   "id": "043c3e7a",
   "metadata": {},
   "outputs": [],
   "source": [
    "adm_df = filter_admissions(adm_df, subject_id_selection=subject_id_with_renal_info)\n",
    "static_df = filter_admissions(static_df, subject_id_selection=subject_id_with_renal_info)\n"
   ]
  },
  {
   "cell_type": "code",
   "execution_count": null,
   "id": "929cc89e",
   "metadata": {},
   "outputs": [],
   "source": [
    "adm_df.to_csv('adm_df.csv.gz', compression='gzip')\n",
    "static_df.to_csv('static_df.csv.gz', compression='gzip')"
   ]
  },
  {
   "cell_type": "code",
   "execution_count": null,
   "id": "e229e060",
   "metadata": {},
   "outputs": [],
   "source": [
    "\n",
    "# static_df.groupby('race', as_index=False).agg(n=('subject_id', 'count')).to_csv('race_groups.csv', compression='gzip')\n",
    "race_groups_df = pd.read_csv('race_grouper.csv', index_col=0)"
   ]
  },
  {
   "cell_type": "code",
   "execution_count": null,
   "id": "ca165b58",
   "metadata": {},
   "outputs": [],
   "source": [
    "race_groups_df.to_csv('mimic4_race_grouper.csv.gz', compression='gzip')"
   ]
  },
  {
   "cell_type": "code",
   "execution_count": null,
   "id": "694eb82f",
   "metadata": {},
   "outputs": [],
   "source": [
    "import seaborn as sns\n",
    "import sys\n",
    "\n",
    "sys.path.append(\"../../..\")\n",
    "\n",
    "from lib.ehr.coding_scheme import MIMIC4Observables\n",
    "\n",
    "C = MIMIC4Observables()\n",
    "\n",
    "z_min = -2.5\n",
    "z_max = -z_min\n",
    "q_min = 0.1\n",
    "q_max = 1 - q_min\n",
    "\n",
    "for code in sorted(m4inpatient_dataset.df['obs'].code.unique()):\n",
    "    df = m4inpatient_dataset.df['obs']\n",
    "    code_df = df[df.code == code]\n",
    "\n",
    "    q1 = code_df.value.quantile(q_min)\n",
    "    q2 = code_df.value.quantile(q_max)\n",
    "    qin_mask = code_df.value.between(q1, q2)\n",
    "\n",
    "    mu = code_df.value.mean()\n",
    "    std = code_df.value.std()\n",
    "    code_df['z'] = (code_df.value - mu) / std\n",
    "    x1 = mu + z_min * std\n",
    "    x2 = mu + z_max * std\n",
    "\n",
    "    zin_mask = code_df.z.between(z_min, z_max)\n",
    "\n",
    "    textstr = '\\n'.join((\n",
    "        f'n={len(code_df)}',\n",
    "        f'(min, max): ({code_df.value.min():0.2f}, {code_df.value.max():0.2f})',\n",
    "        f'p(qin): {qin_mask.mean():0.3f}',\n",
    "        f'p(zin): {zin_mask.mean():0.3f}',\n",
    "        f'p(zin or qin): {(qin_mask | zin_mask).mean(): 0.3f}'))\n",
    "    props = dict(boxstyle='round', facecolor='wheat', alpha=0.5)\n",
    "\n",
    "    g = sns.displot(code_df, x=\"value\", kde=True)\n",
    "\n",
    "    for ax in g.axes.flat:\n",
    "        args = zip([x1, x2, q1, q2],\n",
    "                   [\"solid\", \"solid\", \"dashed\", \"dashed\"],\n",
    "                   [\"red\", \"red\", \"red\", \"red\"])\n",
    "        ax.set_title(C.desc[code])\n",
    "        # place a text box in upper left in axes coords\n",
    "        ax.text(0.05, 0.95, textstr, transform=ax.transAxes, fontsize=10,\n",
    "                verticalalignment='top', bbox=props)\n",
    "        for x, style, color in args:\n",
    "            ax.axvline(x=x, ymin=0, ymax=1.0, linestyle=style, color=color)\n",
    "    g.savefig(f\"obs_outlier__{code}_{C.desc[code]}.pdf\", bbox_inches='tight')"
   ]
  }
 ],
 "metadata": {
  "kernelspec": {
   "display_name": "Python 3 (ipykernel)",
   "language": "python",
   "name": "python3"
  },
  "language_info": {
   "codemirror_mode": {
    "name": "ipython",
    "version": 3
   },
   "file_extension": ".py",
   "mimetype": "text/x-python",
   "name": "python",
   "nbconvert_exporter": "python",
   "pygments_lexer": "ipython3",
   "version": "3.10.12"
  }
 },
 "nbformat": 4,
 "nbformat_minor": 5
}
