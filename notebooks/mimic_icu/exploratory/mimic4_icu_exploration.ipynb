{
 "cells": [
  {
   "cell_type": "code",
   "outputs": [],
   "source": [
    "%load_ext autoreload\n",
    "%autoreload 2\n",
    "\n",
    "import sys\n",
    "from collections import OrderedDict\n",
    "\n",
    "import matplotlib.pyplot as plt\n",
    "import numpy as np\n",
    "import pandas as pd\n",
    "\n",
    "sys.path.append(\"../../..\")\n",
    "\n",
    "import lib.ehr._dataset_mimic4 as m4"
   ],
   "metadata": {
    "collapsed": false,
    "ExecuteTime": {
     "end_time": "2024-01-28T16:59:16.566641322Z",
     "start_time": "2024-01-28T16:59:14.387768925Z"
    }
   },
   "id": "5a0973b9",
   "execution_count": 1
  },
  {
   "cell_type": "code",
   "outputs": [],
   "source": [
    "from lib.ehr.coding_scheme import CodingScheme\n",
    "\n",
    "dx_icd10 = CodingScheme.from_name('dx_flat_icd10')\n",
    "pr_icd10 = CodingScheme.from_name('pr_flat_icd10')\n",
    "dx_icd9 = CodingScheme.from_name('dx_icd9')\n",
    "pr_icd9 = CodingScheme.from_name('pr_icd9')"
   ],
   "metadata": {
    "collapsed": false,
    "ExecuteTime": {
     "end_time": "2024-01-28T16:59:23.163315417Z",
     "start_time": "2024-01-28T16:59:16.568375949Z"
    }
   },
   "id": "db8538ae2a15b8f5",
   "execution_count": 2
  },
  {
   "cell_type": "code",
   "outputs": [],
   "source": [
    "# create a database connection\n",
    "sqluser = 'postgres'\n",
    "dbname = 'mimiciv'\n",
    "hostname = 'localhost'\n",
    "password = 'qwerasdf'\n",
    "port = '5432'\n",
    "\n",
    "mimiciv_config = m4.MIMICIVSQLConfig(host=hostname, port=port, user=sqluser, password=password, dbname=dbname)\n",
    "mimiciv_interface = m4.MIMICIVSQL(mimiciv_config)\n",
    "mimiciv_engine = mimiciv_interface.create_engine()\n"
   ],
   "metadata": {
    "collapsed": false,
    "ExecuteTime": {
     "end_time": "2024-01-28T16:59:23.360744952Z",
     "start_time": "2024-01-28T16:59:23.129992867Z"
    }
   },
   "id": "c5a9fd4b",
   "execution_count": 3
  },
  {
   "cell_type": "code",
   "outputs": [
    {
     "data": {
      "text/plain": "                  attribute\ntable_name                 \nblood_chemistry      sodium\nblood_chemistry   potassium\nblood_chemistry    globulin\nblood_chemistry     albumin\nblood_chemistry    aniongap\n...                     ...\nvital                   sbp\nvital             resp_rate\nvital            heart_rate\nvital                   dbp\nweight               weight\n\n[71 rows x 1 columns]",
      "text/html": "<div>\n<style scoped>\n    .dataframe tbody tr th:only-of-type {\n        vertical-align: middle;\n    }\n\n    .dataframe tbody tr th {\n        vertical-align: top;\n    }\n\n    .dataframe thead th {\n        text-align: right;\n    }\n</style>\n<table border=\"1\" class=\"dataframe\">\n  <thead>\n    <tr style=\"text-align: right;\">\n      <th></th>\n      <th>attribute</th>\n    </tr>\n    <tr>\n      <th>table_name</th>\n      <th></th>\n    </tr>\n  </thead>\n  <tbody>\n    <tr>\n      <th>blood_chemistry</th>\n      <td>sodium</td>\n    </tr>\n    <tr>\n      <th>blood_chemistry</th>\n      <td>potassium</td>\n    </tr>\n    <tr>\n      <th>blood_chemistry</th>\n      <td>globulin</td>\n    </tr>\n    <tr>\n      <th>blood_chemistry</th>\n      <td>albumin</td>\n    </tr>\n    <tr>\n      <th>blood_chemistry</th>\n      <td>aniongap</td>\n    </tr>\n    <tr>\n      <th>...</th>\n      <td>...</td>\n    </tr>\n    <tr>\n      <th>vital</th>\n      <td>sbp</td>\n    </tr>\n    <tr>\n      <th>vital</th>\n      <td>resp_rate</td>\n    </tr>\n    <tr>\n      <th>vital</th>\n      <td>heart_rate</td>\n    </tr>\n    <tr>\n      <th>vital</th>\n      <td>dbp</td>\n    </tr>\n    <tr>\n      <th>weight</th>\n      <td>weight</td>\n    </tr>\n  </tbody>\n</table>\n<p>71 rows × 1 columns</p>\n</div>"
     },
     "execution_count": 4,
     "metadata": {},
     "output_type": "execute_result"
    }
   ],
   "source": [
    "mimiciv_interface.supported_obs_variables"
   ],
   "metadata": {
    "collapsed": false,
    "ExecuteTime": {
     "end_time": "2024-01-28T16:59:23.370144157Z",
     "start_time": "2024-01-28T16:59:23.225362568Z"
    }
   },
   "id": "c4f810ad77978aa4",
   "execution_count": 4
  },
  {
   "cell_type": "code",
   "outputs": [
    {
     "data": {
      "text/plain": "       icd_code  icd_version  \\\n0       0010               9   \n1       0011               9   \n2       0019               9   \n3       0020               9   \n4       0021               9   \n...         ...          ...   \n109770  Z992              10   \n109771  Z993              10   \n109772  Z998              10   \n109773  Z9981             10   \n109774  Z9989             10   \n\n                                              description  \n0                          Cholera due to vibrio cholerae  \n1                   Cholera due to vibrio cholerae el tor  \n2                                    Cholera, unspecified  \n3                                           Typhoid fever  \n4                                     Paratyphoid fever A  \n...                                                   ...  \n109770                       Dependence on renal dialysis  \n109771                           Dependence on wheelchair  \n109772  Dependence on other enabling machines and devices  \n109773                  Dependence on supplemental oxygen  \n109774  Dependence on other enabling machines and devices  \n\n[109775 rows x 3 columns]",
      "text/html": "<div>\n<style scoped>\n    .dataframe tbody tr th:only-of-type {\n        vertical-align: middle;\n    }\n\n    .dataframe tbody tr th {\n        vertical-align: top;\n    }\n\n    .dataframe thead th {\n        text-align: right;\n    }\n</style>\n<table border=\"1\" class=\"dataframe\">\n  <thead>\n    <tr style=\"text-align: right;\">\n      <th></th>\n      <th>icd_code</th>\n      <th>icd_version</th>\n      <th>description</th>\n    </tr>\n  </thead>\n  <tbody>\n    <tr>\n      <th>0</th>\n      <td>0010</td>\n      <td>9</td>\n      <td>Cholera due to vibrio cholerae</td>\n    </tr>\n    <tr>\n      <th>1</th>\n      <td>0011</td>\n      <td>9</td>\n      <td>Cholera due to vibrio cholerae el tor</td>\n    </tr>\n    <tr>\n      <th>2</th>\n      <td>0019</td>\n      <td>9</td>\n      <td>Cholera, unspecified</td>\n    </tr>\n    <tr>\n      <th>3</th>\n      <td>0020</td>\n      <td>9</td>\n      <td>Typhoid fever</td>\n    </tr>\n    <tr>\n      <th>4</th>\n      <td>0021</td>\n      <td>9</td>\n      <td>Paratyphoid fever A</td>\n    </tr>\n    <tr>\n      <th>...</th>\n      <td>...</td>\n      <td>...</td>\n      <td>...</td>\n    </tr>\n    <tr>\n      <th>109770</th>\n      <td>Z992</td>\n      <td>10</td>\n      <td>Dependence on renal dialysis</td>\n    </tr>\n    <tr>\n      <th>109771</th>\n      <td>Z993</td>\n      <td>10</td>\n      <td>Dependence on wheelchair</td>\n    </tr>\n    <tr>\n      <th>109772</th>\n      <td>Z998</td>\n      <td>10</td>\n      <td>Dependence on other enabling machines and devices</td>\n    </tr>\n    <tr>\n      <th>109773</th>\n      <td>Z9981</td>\n      <td>10</td>\n      <td>Dependence on supplemental oxygen</td>\n    </tr>\n    <tr>\n      <th>109774</th>\n      <td>Z9989</td>\n      <td>10</td>\n      <td>Dependence on other enabling machines and devices</td>\n    </tr>\n  </tbody>\n</table>\n<p>109775 rows × 3 columns</p>\n</div>"
     },
     "execution_count": 5,
     "metadata": {},
     "output_type": "execute_result"
    }
   ],
   "source": [
    "mimiciv_interface.supported_dx_discharge\n"
   ],
   "metadata": {
    "collapsed": false,
    "ExecuteTime": {
     "end_time": "2024-01-28T16:59:23.627738456Z",
     "start_time": "2024-01-28T16:59:23.225912794Z"
    }
   },
   "id": "ddd5ef764993ebfc",
   "execution_count": 5
  },
  {
   "cell_type": "code",
   "outputs": [
    {
     "data": {
      "text/plain": "     itemid                       description\n0    220862                       Albumin 25%\n1    220864                        Albumin 5%\n2    220949                       Dextrose 5%\n3    220950                      Dextrose 10%\n4    220952                      Dextrose 50%\n..      ...                               ...\n319  229709         Angiotensin II (Giapreza)\n320  229760            Epoprostenol (Veletri)\n321  229764         Angiotensin II (Giapreza)\n322  229781  Bivalirudin (Angiomax) (Impella)\n323  229861                   Sodium Acetate.\n\n[324 rows x 2 columns]",
      "text/html": "<div>\n<style scoped>\n    .dataframe tbody tr th:only-of-type {\n        vertical-align: middle;\n    }\n\n    .dataframe tbody tr th {\n        vertical-align: top;\n    }\n\n    .dataframe thead th {\n        text-align: right;\n    }\n</style>\n<table border=\"1\" class=\"dataframe\">\n  <thead>\n    <tr style=\"text-align: right;\">\n      <th></th>\n      <th>itemid</th>\n      <th>description</th>\n    </tr>\n  </thead>\n  <tbody>\n    <tr>\n      <th>0</th>\n      <td>220862</td>\n      <td>Albumin 25%</td>\n    </tr>\n    <tr>\n      <th>1</th>\n      <td>220864</td>\n      <td>Albumin 5%</td>\n    </tr>\n    <tr>\n      <th>2</th>\n      <td>220949</td>\n      <td>Dextrose 5%</td>\n    </tr>\n    <tr>\n      <th>3</th>\n      <td>220950</td>\n      <td>Dextrose 10%</td>\n    </tr>\n    <tr>\n      <th>4</th>\n      <td>220952</td>\n      <td>Dextrose 50%</td>\n    </tr>\n    <tr>\n      <th>...</th>\n      <td>...</td>\n      <td>...</td>\n    </tr>\n    <tr>\n      <th>319</th>\n      <td>229709</td>\n      <td>Angiotensin II (Giapreza)</td>\n    </tr>\n    <tr>\n      <th>320</th>\n      <td>229760</td>\n      <td>Epoprostenol (Veletri)</td>\n    </tr>\n    <tr>\n      <th>321</th>\n      <td>229764</td>\n      <td>Angiotensin II (Giapreza)</td>\n    </tr>\n    <tr>\n      <th>322</th>\n      <td>229781</td>\n      <td>Bivalirudin (Angiomax) (Impella)</td>\n    </tr>\n    <tr>\n      <th>323</th>\n      <td>229861</td>\n      <td>Sodium Acetate.</td>\n    </tr>\n  </tbody>\n</table>\n<p>324 rows × 2 columns</p>\n</div>"
     },
     "execution_count": 6,
     "metadata": {},
     "output_type": "execute_result"
    }
   ],
   "source": [
    "mimiciv_interface.supported_icu_inputs"
   ],
   "metadata": {
    "collapsed": false,
    "ExecuteTime": {
     "end_time": "2024-01-28T16:59:25.415507282Z",
     "start_time": "2024-01-28T16:59:23.523974152Z"
    }
   },
   "id": "f4f2d32262e56616",
   "execution_count": 6
  },
  {
   "cell_type": "code",
   "outputs": [
    {
     "data": {
      "text/plain": "     itemid                             description\n0    229522  SEPS (Subdural Evacuating Port System)\n1    229581                    Portable Chest X-Ray\n2    229524                            Lumbar Drain\n3    228715                    Transcranial Doppler\n4    221214                                 CT scan\n..      ...                                     ...\n152  229575                     Travel to Radiology\n153  225447            Percutaneous Drain Insertion\n154  224272                               IABP line\n155  225459                             Chest X-Ray\n156  229577                     Cath Lab (Received)\n\n[157 rows x 2 columns]",
      "text/html": "<div>\n<style scoped>\n    .dataframe tbody tr th:only-of-type {\n        vertical-align: middle;\n    }\n\n    .dataframe tbody tr th {\n        vertical-align: top;\n    }\n\n    .dataframe thead th {\n        text-align: right;\n    }\n</style>\n<table border=\"1\" class=\"dataframe\">\n  <thead>\n    <tr style=\"text-align: right;\">\n      <th></th>\n      <th>itemid</th>\n      <th>description</th>\n    </tr>\n  </thead>\n  <tbody>\n    <tr>\n      <th>0</th>\n      <td>229522</td>\n      <td>SEPS (Subdural Evacuating Port System)</td>\n    </tr>\n    <tr>\n      <th>1</th>\n      <td>229581</td>\n      <td>Portable Chest X-Ray</td>\n    </tr>\n    <tr>\n      <th>2</th>\n      <td>229524</td>\n      <td>Lumbar Drain</td>\n    </tr>\n    <tr>\n      <th>3</th>\n      <td>228715</td>\n      <td>Transcranial Doppler</td>\n    </tr>\n    <tr>\n      <th>4</th>\n      <td>221214</td>\n      <td>CT scan</td>\n    </tr>\n    <tr>\n      <th>...</th>\n      <td>...</td>\n      <td>...</td>\n    </tr>\n    <tr>\n      <th>152</th>\n      <td>229575</td>\n      <td>Travel to Radiology</td>\n    </tr>\n    <tr>\n      <th>153</th>\n      <td>225447</td>\n      <td>Percutaneous Drain Insertion</td>\n    </tr>\n    <tr>\n      <th>154</th>\n      <td>224272</td>\n      <td>IABP line</td>\n    </tr>\n    <tr>\n      <th>155</th>\n      <td>225459</td>\n      <td>Chest X-Ray</td>\n    </tr>\n    <tr>\n      <th>156</th>\n      <td>229577</td>\n      <td>Cath Lab (Received)</td>\n    </tr>\n  </tbody>\n</table>\n<p>157 rows × 2 columns</p>\n</div>"
     },
     "execution_count": 7,
     "metadata": {},
     "output_type": "execute_result"
    }
   ],
   "source": [
    "mimiciv_interface.supported_icu_procedures"
   ],
   "metadata": {
    "collapsed": false,
    "ExecuteTime": {
     "end_time": "2024-01-28T16:59:25.734523974Z",
     "start_time": "2024-01-28T16:59:25.408102273Z"
    }
   },
   "id": "af8e4478c32c83b1",
   "execution_count": 7
  },
  {
   "cell_type": "code",
   "outputs": [
    {
     "data": {
      "text/plain": "      icd_code  icd_version                                        description\n0      0001               9  Therapeutic ultrasound of vessels of head and ...\n1      0002               9                    Therapeutic ultrasound of heart\n2      0003               9  Therapeutic ultrasound of peripheral vascular ...\n3      0009               9                       Other therapeutic ultrasound\n4      001               10  Central Nervous System and Cranial Nerves, Bypass\n...        ...          ...                                                ...\n85252  XW0DXV5           10  Introduction of Gilteritinib Antineoplastic in...\n85253  XXE               10  New Technology, Physiological Systems, Measure...\n85254  XXE5XM5           10  Measurement of Infection, Whole Blood Nucleic ...\n85255  XY0               10       New Technology, Extracorporeal, Introduction\n85256  XY0VX83           10  Extracorporeal Introduction of Endothelial Dam...\n\n[85257 rows x 3 columns]",
      "text/html": "<div>\n<style scoped>\n    .dataframe tbody tr th:only-of-type {\n        vertical-align: middle;\n    }\n\n    .dataframe tbody tr th {\n        vertical-align: top;\n    }\n\n    .dataframe thead th {\n        text-align: right;\n    }\n</style>\n<table border=\"1\" class=\"dataframe\">\n  <thead>\n    <tr style=\"text-align: right;\">\n      <th></th>\n      <th>icd_code</th>\n      <th>icd_version</th>\n      <th>description</th>\n    </tr>\n  </thead>\n  <tbody>\n    <tr>\n      <th>0</th>\n      <td>0001</td>\n      <td>9</td>\n      <td>Therapeutic ultrasound of vessels of head and ...</td>\n    </tr>\n    <tr>\n      <th>1</th>\n      <td>0002</td>\n      <td>9</td>\n      <td>Therapeutic ultrasound of heart</td>\n    </tr>\n    <tr>\n      <th>2</th>\n      <td>0003</td>\n      <td>9</td>\n      <td>Therapeutic ultrasound of peripheral vascular ...</td>\n    </tr>\n    <tr>\n      <th>3</th>\n      <td>0009</td>\n      <td>9</td>\n      <td>Other therapeutic ultrasound</td>\n    </tr>\n    <tr>\n      <th>4</th>\n      <td>001</td>\n      <td>10</td>\n      <td>Central Nervous System and Cranial Nerves, Bypass</td>\n    </tr>\n    <tr>\n      <th>...</th>\n      <td>...</td>\n      <td>...</td>\n      <td>...</td>\n    </tr>\n    <tr>\n      <th>85252</th>\n      <td>XW0DXV5</td>\n      <td>10</td>\n      <td>Introduction of Gilteritinib Antineoplastic in...</td>\n    </tr>\n    <tr>\n      <th>85253</th>\n      <td>XXE</td>\n      <td>10</td>\n      <td>New Technology, Physiological Systems, Measure...</td>\n    </tr>\n    <tr>\n      <th>85254</th>\n      <td>XXE5XM5</td>\n      <td>10</td>\n      <td>Measurement of Infection, Whole Blood Nucleic ...</td>\n    </tr>\n    <tr>\n      <th>85255</th>\n      <td>XY0</td>\n      <td>10</td>\n      <td>New Technology, Extracorporeal, Introduction</td>\n    </tr>\n    <tr>\n      <th>85256</th>\n      <td>XY0VX83</td>\n      <td>10</td>\n      <td>Extracorporeal Introduction of Endothelial Dam...</td>\n    </tr>\n  </tbody>\n</table>\n<p>85257 rows × 3 columns</p>\n</div>"
     },
     "execution_count": 8,
     "metadata": {},
     "output_type": "execute_result"
    }
   ],
   "source": [
    "mimiciv_interface.supported_hosp_procedures"
   ],
   "metadata": {
    "collapsed": false,
    "ExecuteTime": {
     "end_time": "2024-01-28T16:59:26.159229325Z",
     "start_time": "2024-01-28T16:59:25.631448678Z"
    }
   },
   "id": "d4fde8fecca14b",
   "execution_count": 8
  },
  {
   "cell_type": "code",
   "outputs": [],
   "source": [
    "obs_scheme = mimiciv_interface.register_obs_scheme('aki_study_obs', None)"
   ],
   "metadata": {
    "collapsed": false,
    "ExecuteTime": {
     "end_time": "2024-01-28T16:59:27.858407302Z",
     "start_time": "2024-01-28T16:59:27.651215117Z"
    }
   },
   "id": "e2df909c9a69d76c",
   "execution_count": 9
  },
  {
   "cell_type": "code",
   "outputs": [],
   "source": [
    "dx_scheme = mimiciv_interface.register_dx_discharge_scheme('aki_study_dx', None)"
   ],
   "metadata": {
    "collapsed": false,
    "ExecuteTime": {
     "end_time": "2024-01-28T17:00:11.502450173Z",
     "start_time": "2024-01-28T17:00:10.005263929Z"
    }
   },
   "id": "9820d79a0a9f9882",
   "execution_count": 10
  },
  {
   "cell_type": "code",
   "outputs": [],
   "source": [
    "\n",
    "icu_input_scheme = mimiciv_interface.register_icu_input_scheme('aki_study_icu_input', None)"
   ],
   "metadata": {
    "collapsed": false,
    "ExecuteTime": {
     "end_time": "2024-01-28T17:00:13.451035527Z",
     "start_time": "2024-01-28T17:00:11.505286315Z"
    }
   },
   "id": "2b95772114504e49",
   "execution_count": 11
  },
  {
   "cell_type": "code",
   "outputs": [],
   "source": [
    "\n",
    "icu_procedure_scheme = mimiciv_interface.register_icu_procedure_scheme('aki_study_icu_proc', None)"
   ],
   "metadata": {
    "collapsed": false,
    "ExecuteTime": {
     "end_time": "2024-01-28T17:00:13.641070394Z",
     "start_time": "2024-01-28T17:00:13.497291541Z"
    }
   },
   "id": "b81da7ad97719338",
   "execution_count": 12
  },
  {
   "cell_type": "code",
   "outputs": [],
   "source": [
    "\n",
    "hosp_procedure_scheme = mimiciv_interface.register_hosp_procedure_scheme('aki_study_hosp_proc', None)\n"
   ],
   "metadata": {
    "collapsed": false,
    "ExecuteTime": {
     "end_time": "2024-01-28T17:00:14.935172911Z",
     "start_time": "2024-01-28T17:00:13.642290652Z"
    }
   },
   "id": "5bd68471ce324a94",
   "execution_count": 13
  },
  {
   "cell_type": "code",
   "outputs": [
    {
     "data": {
      "text/plain": "                           code                         desc  code_index  \\\n0       blood_chemistry.albumin      blood_chemistry.albumin           0   \n1      blood_chemistry.aniongap     blood_chemistry.aniongap           1   \n2   blood_chemistry.bicarbonate  blood_chemistry.bicarbonate           2   \n3           blood_chemistry.bun          blood_chemistry.bun           3   \n4       blood_chemistry.calcium      blood_chemistry.calcium           4   \n..                          ...                          ...         ...   \n66                    vital.sbp                    vital.sbp          66   \n67                 vital.sbp_ni                 vital.sbp_ni          67   \n68                   vital.spo2                   vital.spo2          68   \n69            vital.temperature            vital.temperature          69   \n70                weight.weight                weight.weight          70   \n\n         table_name    attribute  \n0   blood_chemistry      albumin  \n1   blood_chemistry     aniongap  \n2   blood_chemistry  bicarbonate  \n3   blood_chemistry          bun  \n4   blood_chemistry      calcium  \n..              ...          ...  \n66            vital          sbp  \n67            vital       sbp_ni  \n68            vital         spo2  \n69            vital  temperature  \n70           weight       weight  \n\n[71 rows x 5 columns]",
      "text/html": "<div>\n<style scoped>\n    .dataframe tbody tr th:only-of-type {\n        vertical-align: middle;\n    }\n\n    .dataframe tbody tr th {\n        vertical-align: top;\n    }\n\n    .dataframe thead th {\n        text-align: right;\n    }\n</style>\n<table border=\"1\" class=\"dataframe\">\n  <thead>\n    <tr style=\"text-align: right;\">\n      <th></th>\n      <th>code</th>\n      <th>desc</th>\n      <th>code_index</th>\n      <th>table_name</th>\n      <th>attribute</th>\n    </tr>\n  </thead>\n  <tbody>\n    <tr>\n      <th>0</th>\n      <td>blood_chemistry.albumin</td>\n      <td>blood_chemistry.albumin</td>\n      <td>0</td>\n      <td>blood_chemistry</td>\n      <td>albumin</td>\n    </tr>\n    <tr>\n      <th>1</th>\n      <td>blood_chemistry.aniongap</td>\n      <td>blood_chemistry.aniongap</td>\n      <td>1</td>\n      <td>blood_chemistry</td>\n      <td>aniongap</td>\n    </tr>\n    <tr>\n      <th>2</th>\n      <td>blood_chemistry.bicarbonate</td>\n      <td>blood_chemistry.bicarbonate</td>\n      <td>2</td>\n      <td>blood_chemistry</td>\n      <td>bicarbonate</td>\n    </tr>\n    <tr>\n      <th>3</th>\n      <td>blood_chemistry.bun</td>\n      <td>blood_chemistry.bun</td>\n      <td>3</td>\n      <td>blood_chemistry</td>\n      <td>bun</td>\n    </tr>\n    <tr>\n      <th>4</th>\n      <td>blood_chemistry.calcium</td>\n      <td>blood_chemistry.calcium</td>\n      <td>4</td>\n      <td>blood_chemistry</td>\n      <td>calcium</td>\n    </tr>\n    <tr>\n      <th>...</th>\n      <td>...</td>\n      <td>...</td>\n      <td>...</td>\n      <td>...</td>\n      <td>...</td>\n    </tr>\n    <tr>\n      <th>66</th>\n      <td>vital.sbp</td>\n      <td>vital.sbp</td>\n      <td>66</td>\n      <td>vital</td>\n      <td>sbp</td>\n    </tr>\n    <tr>\n      <th>67</th>\n      <td>vital.sbp_ni</td>\n      <td>vital.sbp_ni</td>\n      <td>67</td>\n      <td>vital</td>\n      <td>sbp_ni</td>\n    </tr>\n    <tr>\n      <th>68</th>\n      <td>vital.spo2</td>\n      <td>vital.spo2</td>\n      <td>68</td>\n      <td>vital</td>\n      <td>spo2</td>\n    </tr>\n    <tr>\n      <th>69</th>\n      <td>vital.temperature</td>\n      <td>vital.temperature</td>\n      <td>69</td>\n      <td>vital</td>\n      <td>temperature</td>\n    </tr>\n    <tr>\n      <th>70</th>\n      <td>weight.weight</td>\n      <td>weight.weight</td>\n      <td>70</td>\n      <td>weight</td>\n      <td>weight</td>\n    </tr>\n  </tbody>\n</table>\n<p>71 rows × 5 columns</p>\n</div>"
     },
     "execution_count": 17,
     "metadata": {},
     "output_type": "execute_result"
    }
   ],
   "source": [
    "obs_scheme.as_dataframe()"
   ],
   "metadata": {
    "collapsed": false,
    "ExecuteTime": {
     "end_time": "2024-01-28T17:04:22.596676451Z",
     "start_time": "2024-01-28T17:04:22.553385791Z"
    }
   },
   "id": "44f31344bb66c435",
   "execution_count": 17
  },
  {
   "cell_type": "code",
   "outputs": [
    {
     "data": {
      "text/plain": "            code                                               desc  \\\n0         10:A00                                            Cholera   \n1       10:A00.0  Cholera due to Vibrio cholerae 01, biovar chol...   \n2       10:A00.1    Cholera due to Vibrio cholerae 01, biovar eltor   \n3       10:A00.9                               Cholera, unspecified   \n4         10:A01                     Typhoid and paratyphoid fevers   \n...          ...                                                ...   \n109770  9:V91.29  Quadruplet gestation, unable to determine numb...   \n109771  9:V91.90  Other specified multiple gestation, unspecifie...   \n109772  9:V91.91  Other specified multiple gestation, with two o...   \n109773  9:V91.92  Other specified multiple gestation, with two o...   \n109774  9:V91.99  Other specified multiple gestation, unable to ...   \n\n        code_index icd_version icd_code  \n0                0          10      A00  \n1                1          10    A00.0  \n2                2          10    A00.1  \n3                3          10    A00.9  \n4                4          10      A01  \n...            ...         ...      ...  \n109770      109770           9   V91.29  \n109771      109771           9   V91.90  \n109772      109772           9   V91.91  \n109773      109773           9   V91.92  \n109774      109774           9   V91.99  \n\n[109775 rows x 5 columns]",
      "text/html": "<div>\n<style scoped>\n    .dataframe tbody tr th:only-of-type {\n        vertical-align: middle;\n    }\n\n    .dataframe tbody tr th {\n        vertical-align: top;\n    }\n\n    .dataframe thead th {\n        text-align: right;\n    }\n</style>\n<table border=\"1\" class=\"dataframe\">\n  <thead>\n    <tr style=\"text-align: right;\">\n      <th></th>\n      <th>code</th>\n      <th>desc</th>\n      <th>code_index</th>\n      <th>icd_version</th>\n      <th>icd_code</th>\n    </tr>\n  </thead>\n  <tbody>\n    <tr>\n      <th>0</th>\n      <td>10:A00</td>\n      <td>Cholera</td>\n      <td>0</td>\n      <td>10</td>\n      <td>A00</td>\n    </tr>\n    <tr>\n      <th>1</th>\n      <td>10:A00.0</td>\n      <td>Cholera due to Vibrio cholerae 01, biovar chol...</td>\n      <td>1</td>\n      <td>10</td>\n      <td>A00.0</td>\n    </tr>\n    <tr>\n      <th>2</th>\n      <td>10:A00.1</td>\n      <td>Cholera due to Vibrio cholerae 01, biovar eltor</td>\n      <td>2</td>\n      <td>10</td>\n      <td>A00.1</td>\n    </tr>\n    <tr>\n      <th>3</th>\n      <td>10:A00.9</td>\n      <td>Cholera, unspecified</td>\n      <td>3</td>\n      <td>10</td>\n      <td>A00.9</td>\n    </tr>\n    <tr>\n      <th>4</th>\n      <td>10:A01</td>\n      <td>Typhoid and paratyphoid fevers</td>\n      <td>4</td>\n      <td>10</td>\n      <td>A01</td>\n    </tr>\n    <tr>\n      <th>...</th>\n      <td>...</td>\n      <td>...</td>\n      <td>...</td>\n      <td>...</td>\n      <td>...</td>\n    </tr>\n    <tr>\n      <th>109770</th>\n      <td>9:V91.29</td>\n      <td>Quadruplet gestation, unable to determine numb...</td>\n      <td>109770</td>\n      <td>9</td>\n      <td>V91.29</td>\n    </tr>\n    <tr>\n      <th>109771</th>\n      <td>9:V91.90</td>\n      <td>Other specified multiple gestation, unspecifie...</td>\n      <td>109771</td>\n      <td>9</td>\n      <td>V91.90</td>\n    </tr>\n    <tr>\n      <th>109772</th>\n      <td>9:V91.91</td>\n      <td>Other specified multiple gestation, with two o...</td>\n      <td>109772</td>\n      <td>9</td>\n      <td>V91.91</td>\n    </tr>\n    <tr>\n      <th>109773</th>\n      <td>9:V91.92</td>\n      <td>Other specified multiple gestation, with two o...</td>\n      <td>109773</td>\n      <td>9</td>\n      <td>V91.92</td>\n    </tr>\n    <tr>\n      <th>109774</th>\n      <td>9:V91.99</td>\n      <td>Other specified multiple gestation, unable to ...</td>\n      <td>109774</td>\n      <td>9</td>\n      <td>V91.99</td>\n    </tr>\n  </tbody>\n</table>\n<p>109775 rows × 5 columns</p>\n</div>"
     },
     "execution_count": 18,
     "metadata": {},
     "output_type": "execute_result"
    }
   ],
   "source": [
    "dx_scheme.as_dataframe()"
   ],
   "metadata": {
    "collapsed": false,
    "ExecuteTime": {
     "end_time": "2024-01-28T17:04:22.973739628Z",
     "start_time": "2024-01-28T17:04:22.561065798Z"
    }
   },
   "id": "9fcdaa3fa8abf7d0",
   "execution_count": 18
  },
  {
   "cell_type": "code",
   "outputs": [
    {
     "data": {
      "text/plain": "         code                                               desc\n0         A00                                            Cholera\n1       A00.0  Cholera due to Vibrio cholerae 01, biovar chol...\n2       A00.1    Cholera due to Vibrio cholerae 01, biovar eltor\n3       A00.9                               Cholera, unspecified\n4         A01                     Typhoid and paratyphoid fevers\n...       ...                                                ...\n45864   Z99.2                       Dependence on renal dialysis\n45865   Z99.3                           Dependence on wheelchair\n45866   Z99.8  Dependence on other enabling machines and devices\n45867  Z99.81                  Dependence on supplemental oxygen\n45868  Z99.89  Dependence on other enabling machines and devices\n\n[45869 rows x 2 columns]",
      "text/html": "<div>\n<style scoped>\n    .dataframe tbody tr th:only-of-type {\n        vertical-align: middle;\n    }\n\n    .dataframe tbody tr th {\n        vertical-align: top;\n    }\n\n    .dataframe thead th {\n        text-align: right;\n    }\n</style>\n<table border=\"1\" class=\"dataframe\">\n  <thead>\n    <tr style=\"text-align: right;\">\n      <th></th>\n      <th>code</th>\n      <th>desc</th>\n    </tr>\n  </thead>\n  <tbody>\n    <tr>\n      <th>0</th>\n      <td>A00</td>\n      <td>Cholera</td>\n    </tr>\n    <tr>\n      <th>1</th>\n      <td>A00.0</td>\n      <td>Cholera due to Vibrio cholerae 01, biovar chol...</td>\n    </tr>\n    <tr>\n      <th>2</th>\n      <td>A00.1</td>\n      <td>Cholera due to Vibrio cholerae 01, biovar eltor</td>\n    </tr>\n    <tr>\n      <th>3</th>\n      <td>A00.9</td>\n      <td>Cholera, unspecified</td>\n    </tr>\n    <tr>\n      <th>4</th>\n      <td>A01</td>\n      <td>Typhoid and paratyphoid fevers</td>\n    </tr>\n    <tr>\n      <th>...</th>\n      <td>...</td>\n      <td>...</td>\n    </tr>\n    <tr>\n      <th>45864</th>\n      <td>Z99.2</td>\n      <td>Dependence on renal dialysis</td>\n    </tr>\n    <tr>\n      <th>45865</th>\n      <td>Z99.3</td>\n      <td>Dependence on wheelchair</td>\n    </tr>\n    <tr>\n      <th>45866</th>\n      <td>Z99.8</td>\n      <td>Dependence on other enabling machines and devices</td>\n    </tr>\n    <tr>\n      <th>45867</th>\n      <td>Z99.81</td>\n      <td>Dependence on supplemental oxygen</td>\n    </tr>\n    <tr>\n      <th>45868</th>\n      <td>Z99.89</td>\n      <td>Dependence on other enabling machines and devices</td>\n    </tr>\n  </tbody>\n</table>\n<p>45869 rows × 2 columns</p>\n</div>"
     },
     "execution_count": 26,
     "metadata": {},
     "output_type": "execute_result"
    }
   ],
   "source": [
    "dx_scheme._icd_schemes['10'].as_dataframe()"
   ],
   "metadata": {
    "collapsed": false,
    "ExecuteTime": {
     "end_time": "2024-01-28T17:55:34.574083306Z",
     "start_time": "2024-01-28T17:55:34.490691627Z"
    }
   },
   "id": "a8cf119e2c757ebb",
   "execution_count": 26
  },
  {
   "cell_type": "code",
   "outputs": [
    {
     "data": {
      "text/plain": "       code                              desc\n0    220862                       Albumin 25%\n1    220864                        Albumin 5%\n2    220949                       Dextrose 5%\n3    220950                      Dextrose 10%\n4    220952                      Dextrose 50%\n..      ...                               ...\n319  229709         Angiotensin II (Giapreza)\n320  229760            Epoprostenol (Veletri)\n321  229764         Angiotensin II (Giapreza)\n322  229781  Bivalirudin (Angiomax) (Impella)\n323  229861                   Sodium Acetate.\n\n[324 rows x 2 columns]",
      "text/html": "<div>\n<style scoped>\n    .dataframe tbody tr th:only-of-type {\n        vertical-align: middle;\n    }\n\n    .dataframe tbody tr th {\n        vertical-align: top;\n    }\n\n    .dataframe thead th {\n        text-align: right;\n    }\n</style>\n<table border=\"1\" class=\"dataframe\">\n  <thead>\n    <tr style=\"text-align: right;\">\n      <th></th>\n      <th>code</th>\n      <th>desc</th>\n    </tr>\n  </thead>\n  <tbody>\n    <tr>\n      <th>0</th>\n      <td>220862</td>\n      <td>Albumin 25%</td>\n    </tr>\n    <tr>\n      <th>1</th>\n      <td>220864</td>\n      <td>Albumin 5%</td>\n    </tr>\n    <tr>\n      <th>2</th>\n      <td>220949</td>\n      <td>Dextrose 5%</td>\n    </tr>\n    <tr>\n      <th>3</th>\n      <td>220950</td>\n      <td>Dextrose 10%</td>\n    </tr>\n    <tr>\n      <th>4</th>\n      <td>220952</td>\n      <td>Dextrose 50%</td>\n    </tr>\n    <tr>\n      <th>...</th>\n      <td>...</td>\n      <td>...</td>\n    </tr>\n    <tr>\n      <th>319</th>\n      <td>229709</td>\n      <td>Angiotensin II (Giapreza)</td>\n    </tr>\n    <tr>\n      <th>320</th>\n      <td>229760</td>\n      <td>Epoprostenol (Veletri)</td>\n    </tr>\n    <tr>\n      <th>321</th>\n      <td>229764</td>\n      <td>Angiotensin II (Giapreza)</td>\n    </tr>\n    <tr>\n      <th>322</th>\n      <td>229781</td>\n      <td>Bivalirudin (Angiomax) (Impella)</td>\n    </tr>\n    <tr>\n      <th>323</th>\n      <td>229861</td>\n      <td>Sodium Acetate.</td>\n    </tr>\n  </tbody>\n</table>\n<p>324 rows × 2 columns</p>\n</div>"
     },
     "execution_count": 19,
     "metadata": {},
     "output_type": "execute_result"
    }
   ],
   "source": [
    "icu_input_scheme.as_dataframe()"
   ],
   "metadata": {
    "collapsed": false,
    "ExecuteTime": {
     "end_time": "2024-01-28T17:04:23.111134992Z",
     "start_time": "2024-01-28T17:04:22.825838464Z"
    }
   },
   "id": "8ee8af4a281330c",
   "execution_count": 19
  },
  {
   "cell_type": "code",
   "outputs": [
    {
     "data": {
      "text/plain": "       code                           desc\n0    221214                        CT scan\n1    221216                          X-ray\n2    221217                     Ultrasound\n3    221219                       Venogram\n4    221223                            EEG\n..      ...                            ...\n152  229585  Surgical Procedure at Bedside\n153  229586                     VAC Change\n154  229614               EEG (Continuous)\n155  229620            Massive Transfusion\n156  229755              Trigger Initiated\n\n[157 rows x 2 columns]",
      "text/html": "<div>\n<style scoped>\n    .dataframe tbody tr th:only-of-type {\n        vertical-align: middle;\n    }\n\n    .dataframe tbody tr th {\n        vertical-align: top;\n    }\n\n    .dataframe thead th {\n        text-align: right;\n    }\n</style>\n<table border=\"1\" class=\"dataframe\">\n  <thead>\n    <tr style=\"text-align: right;\">\n      <th></th>\n      <th>code</th>\n      <th>desc</th>\n    </tr>\n  </thead>\n  <tbody>\n    <tr>\n      <th>0</th>\n      <td>221214</td>\n      <td>CT scan</td>\n    </tr>\n    <tr>\n      <th>1</th>\n      <td>221216</td>\n      <td>X-ray</td>\n    </tr>\n    <tr>\n      <th>2</th>\n      <td>221217</td>\n      <td>Ultrasound</td>\n    </tr>\n    <tr>\n      <th>3</th>\n      <td>221219</td>\n      <td>Venogram</td>\n    </tr>\n    <tr>\n      <th>4</th>\n      <td>221223</td>\n      <td>EEG</td>\n    </tr>\n    <tr>\n      <th>...</th>\n      <td>...</td>\n      <td>...</td>\n    </tr>\n    <tr>\n      <th>152</th>\n      <td>229585</td>\n      <td>Surgical Procedure at Bedside</td>\n    </tr>\n    <tr>\n      <th>153</th>\n      <td>229586</td>\n      <td>VAC Change</td>\n    </tr>\n    <tr>\n      <th>154</th>\n      <td>229614</td>\n      <td>EEG (Continuous)</td>\n    </tr>\n    <tr>\n      <th>155</th>\n      <td>229620</td>\n      <td>Massive Transfusion</td>\n    </tr>\n    <tr>\n      <th>156</th>\n      <td>229755</td>\n      <td>Trigger Initiated</td>\n    </tr>\n  </tbody>\n</table>\n<p>157 rows × 2 columns</p>\n</div>"
     },
     "execution_count": 20,
     "metadata": {},
     "output_type": "execute_result"
    }
   ],
   "source": [
    "icu_procedure_scheme.as_dataframe() "
   ],
   "metadata": {
    "collapsed": false,
    "ExecuteTime": {
     "end_time": "2024-01-28T17:04:23.156143248Z",
     "start_time": "2024-01-28T17:04:22.873448441Z"
    }
   },
   "id": "8e22275890d425c7",
   "execution_count": 20
  },
  {
   "cell_type": "code",
   "outputs": [
    {
     "data": {
      "text/plain": "       code                                               desc\n0      00.0                      Therapeutic ultrasound (00.0)\n1     00.01  Therapeutic ultrasound of vessels of head and ...\n2     00.02            Therapeutic ultrasound of heart (00.02)\n3     00.03  Therapeutic ultrasound of peripheral vascular ...\n4     00.09               Other therapeutic ultrasound (00.09)\n...     ...                                                ...\n4618  99.95                     Stretching of foreskin (99.95)\n4619  99.96  Collection of sperm for artificial inseminatio...\n4620  99.97                         Fitting of denture (99.97)\n4621  99.98   Extraction of milk from lactating breast (99.98)\n4622  99.99             Other Miscellaneous procedures (99.99)\n\n[4623 rows x 2 columns]",
      "text/html": "<div>\n<style scoped>\n    .dataframe tbody tr th:only-of-type {\n        vertical-align: middle;\n    }\n\n    .dataframe tbody tr th {\n        vertical-align: top;\n    }\n\n    .dataframe thead th {\n        text-align: right;\n    }\n</style>\n<table border=\"1\" class=\"dataframe\">\n  <thead>\n    <tr style=\"text-align: right;\">\n      <th></th>\n      <th>code</th>\n      <th>desc</th>\n    </tr>\n  </thead>\n  <tbody>\n    <tr>\n      <th>0</th>\n      <td>00.0</td>\n      <td>Therapeutic ultrasound (00.0)</td>\n    </tr>\n    <tr>\n      <th>1</th>\n      <td>00.01</td>\n      <td>Therapeutic ultrasound of vessels of head and ...</td>\n    </tr>\n    <tr>\n      <th>2</th>\n      <td>00.02</td>\n      <td>Therapeutic ultrasound of heart (00.02)</td>\n    </tr>\n    <tr>\n      <th>3</th>\n      <td>00.03</td>\n      <td>Therapeutic ultrasound of peripheral vascular ...</td>\n    </tr>\n    <tr>\n      <th>4</th>\n      <td>00.09</td>\n      <td>Other therapeutic ultrasound (00.09)</td>\n    </tr>\n    <tr>\n      <th>...</th>\n      <td>...</td>\n      <td>...</td>\n    </tr>\n    <tr>\n      <th>4618</th>\n      <td>99.95</td>\n      <td>Stretching of foreskin (99.95)</td>\n    </tr>\n    <tr>\n      <th>4619</th>\n      <td>99.96</td>\n      <td>Collection of sperm for artificial inseminatio...</td>\n    </tr>\n    <tr>\n      <th>4620</th>\n      <td>99.97</td>\n      <td>Fitting of denture (99.97)</td>\n    </tr>\n    <tr>\n      <th>4621</th>\n      <td>99.98</td>\n      <td>Extraction of milk from lactating breast (99.98)</td>\n    </tr>\n    <tr>\n      <th>4622</th>\n      <td>99.99</td>\n      <td>Other Miscellaneous procedures (99.99)</td>\n    </tr>\n  </tbody>\n</table>\n<p>4623 rows × 2 columns</p>\n</div>"
     },
     "execution_count": 29,
     "metadata": {},
     "output_type": "execute_result"
    }
   ],
   "source": [
    "hosp_procedure_scheme._icd_schemes['9'].as_dataframe()"
   ],
   "metadata": {
    "collapsed": false,
    "ExecuteTime": {
     "end_time": "2024-01-28T17:56:26.117580082Z",
     "start_time": "2024-01-28T17:56:26.037571266Z"
    }
   },
   "id": "8de091d61eddba97",
   "execution_count": 29
  },
  {
   "cell_type": "code",
   "outputs": [],
   "source": [],
   "metadata": {
    "collapsed": false
   },
   "id": "d04adb777b986933"
  },
  {
   "cell_type": "code",
   "outputs": [],
   "source": [
    "# Admission IDs with Length of Stay at least 12 hours.\n",
    "hadm_id_los_geq_12h = hosp[hosp.hosp_los > 0.5].hadm_id\n",
    "hadm_id_los_geq_12h"
   ],
   "metadata": {
    "collapsed": false
   },
   "id": "82c2b7ef",
   "execution_count": null
  },
  {
   "cell_type": "code",
   "outputs": [],
   "source": [
    "adm_df = pd.read_sql_query(\"\"\"\n",
    "SELECT subject_id, hadm_id, admittime, dischtime FROM mimiciv_hosp.admissions\n",
    "\"\"\", con)\n",
    "adm_df"
   ],
   "metadata": {
    "collapsed": false
   },
   "id": "e3726eb8",
   "execution_count": null
  },
  {
   "cell_type": "code",
   "outputs": [],
   "source": [
    "renal_aki = ['aki_stage_smoothed']\n",
    "\n",
    "renal_aki_query = f\"\"\"\n",
    "select icu.hadm_id,\n",
    "       max(aki_stage_smoothed) as aki_stage_smoothed\n",
    "from mimiciv_derived.kdigo_stages as r\n",
    "inner join mimiciv_icu.icustays as icu\n",
    " on icu.stay_id = r.stay_id\n",
    "group by icu.hadm_id\n",
    "\"\"\"\n",
    "renal_aki_df = pd.read_sql_query(renal_aki_query, con)\n",
    "\n",
    "renal_hadm_id = pd.Series(renal_aki_df.hadm_id.unique())\n",
    "adm_df['adm_has_renal_data'] = adm_df.hadm_id.isin(renal_hadm_id)\n",
    "\n",
    "subject_has_renal = adm_df.groupby('subject_id', as_index=False).agg(n_adm=('hadm_id', 'nunique'),\n",
    "                                                                     adm_has_renal_data=('adm_has_renal_data', 'sum'))\n",
    "subject_has_renal.head(5)"
   ],
   "metadata": {
    "collapsed": false
   },
   "id": "e0ece0ab",
   "execution_count": null
  },
  {
   "cell_type": "code",
   "execution_count": null,
   "id": "f2e4e984",
   "metadata": {},
   "outputs": [],
   "source": [
    "subjects_with_renal_info = subject_has_renal[subject_has_renal['adm_has_renal_data'] > 0]\n",
    "subjects_with_renal_info[\n",
    "    'p_adm_with_renal_info'] = subjects_with_renal_info.adm_has_renal_data / subjects_with_renal_info.n_adm\n",
    "subject_id_with_renal_info = subjects_with_renal_info.subject_id"
   ]
  },
  {
   "cell_type": "code",
   "execution_count": null,
   "id": "67ad8c11",
   "metadata": {},
   "outputs": [],
   "source": []
  },
  {
   "cell_type": "code",
   "execution_count": null,
   "id": "b530f7a8",
   "metadata": {},
   "outputs": [],
   "source": [
    "hosp2 = hosp1[hosp1.hadm_id.isin(hadm_id_los_geq_12h)]\n",
    "hosp3 = hosp2[hosp2.subject_id.isin(subject_id_with_renal_info)]"
   ]
  },
  {
   "cell_type": "code",
   "execution_count": null,
   "id": "d57962db",
   "metadata": {},
   "outputs": [],
   "source": [
    "hosp2_table = TableOne(hosp2, columns=hosp_columns, categorical=hosp_categorical,\n",
    "                       order=hosp_order, limit=hosp_limit, rename=hosp_rename)\n",
    "display(hosp2_table)"
   ]
  },
  {
   "cell_type": "code",
   "execution_count": null,
   "id": "999fcd95",
   "metadata": {},
   "outputs": [],
   "source": [
    "hosp3_table = TableOne(hosp3, columns=hosp_columns, categorical=hosp_categorical,\n",
    "                       order=hosp_order, limit=hosp_limit, rename=hosp_rename)\n",
    "display(hosp3_table)"
   ]
  },
  {
   "cell_type": "code",
   "execution_count": null,
   "id": "b83a14df",
   "metadata": {},
   "outputs": [],
   "source": [
    "cat1 = hosp1_table.cat_table\n",
    "cont1 = hosp1_table.cont_table\n",
    "cat1['Selection'] = '1'\n",
    "cont1['Selection'] = '1'\n",
    "\n",
    "cat2 = hosp2_table.cat_table\n",
    "cont2 = hosp2_table.cont_table\n",
    "cat2['Selection'] = '2'\n",
    "cont2['Selection'] = '2'\n",
    "\n",
    "cat3 = hosp3_table.cat_table\n",
    "cont3 = hosp3_table.cont_table\n",
    "cat3['Selection'] = '3'\n",
    "cont3['Selection'] = '3'"
   ]
  },
  {
   "cell_type": "code",
   "execution_count": null,
   "id": "9e44d6d6",
   "metadata": {},
   "outputs": [],
   "source": [
    "import seaborn as sns\n",
    "\n",
    "cat = pd.concat([cat1, cat2, cat3]).reset_index()\n",
    "cat = cat[cat.value.isin(('F', 1, '1'))]\n",
    "cat = cat[cat.variable != 'pat_count']\n",
    "cat.loc[cat.variable == 'gender', 'variable'] = 'Females'\n",
    "cat.loc[cat.variable == 'hospital_mortality', 'variable'] = 'Hospital Mortality'\n",
    "cat.loc[cat.variable == 'one_year_mortality', 'variable'] = 'One-Year Mortality'\n",
    "\n",
    "cat['n'] = cat.Overall.map(lambda s: s.split(' ')[0]).astype(int)\n",
    "cat['%'] = cat.Overall.map(lambda s: s.split(' ')[1].replace('(', '').replace(')', '')).astype(float)"
   ]
  },
  {
   "cell_type": "code",
   "execution_count": null,
   "id": "35266180",
   "metadata": {},
   "outputs": [],
   "source": [
    "cont = pd.concat([cont1, cont2, cont3]).reset_index()\n",
    "cont.loc[cont.variable == 'age', 'variable'] = 'Age'\n",
    "cont.loc[cont.variable == 'hosp_los', 'variable'] = 'Hospital LoS'\n",
    "\n",
    "cont['mean'] = cont.Overall.map(lambda s: s.split(' ')[0]).astype(float)\n",
    "cont['SD'] = cont.Overall.map(lambda s: s.split(' ')[1].replace('(', '').replace(')', '')).astype(float)"
   ]
  },
  {
   "cell_type": "code",
   "execution_count": null,
   "id": "d05fa0f0",
   "metadata": {},
   "outputs": [],
   "source": [
    "cont"
   ]
  },
  {
   "cell_type": "code",
   "execution_count": null,
   "id": "28431059",
   "metadata": {},
   "outputs": [],
   "source": [
    "with sns.plotting_context(font_scale=2):\n",
    "    plot = sns.catplot(data=cat, x='%', y='variable', hue='Selection', kind='bar')\n",
    "    plot.savefig('consort_demo.pdf')"
   ]
  },
  {
   "cell_type": "code",
   "execution_count": null,
   "id": "f4b39ccc",
   "metadata": {},
   "outputs": [],
   "source": [
    "with sns.plotting_context(font_scale=2):\n",
    "    plot = sns.catplot(data=cat, x='%', y='variable', hue='Selection', kind='bar')\n",
    "    plot.savefig('consort_demo.pdf')"
   ]
  },
  {
   "cell_type": "code",
   "execution_count": null,
   "id": "3a7ae2a5",
   "metadata": {},
   "outputs": [],
   "source": [
    "# Scale the data, just a simple example of how you might determine the scaling\n",
    "cont_scaled = cont.copy()\n",
    "\n",
    "mask = cont_scaled.variable == 'Hospital LoS'\n",
    "scale = cont_scaled[~mask]['mean'].mean() / cont_scaled[mask]['mean'].mean()\n",
    "cont_scaled.loc[mask, 'mean'] = cont_scaled.loc[mask, 'mean'] * scale\n",
    "# cont_scaled.loc[mask, 'SD'] = cont_scaled.loc[mask, 'SD'] * scale\n",
    "\n",
    "# Plot\n",
    "fig, ax1 = plt.subplots()\n",
    "g = sns.barplot(x=\"variable\", y=\"mean\", hue=\"Selection\",\n",
    "                data=cont_scaled, ax=ax1)\n",
    "\n",
    "# x_coords = [p.get_x() + 0.5 * p.get_width() for p in g.patches]\n",
    "# y_coords = [p.get_height() for p in g.patches]\n",
    "# g.errorbar(x=x_coords, y=y_coords, \n",
    "#            yerr=cont_scaled[\"SD\"], \n",
    "#            fmt=\"none\", c=\"k\")\n",
    "\n",
    "# Create a second y-axis with the scaled ticks\n",
    "ax1.set_ylabel('Years')\n",
    "ax2 = ax1.twinx()\n",
    "\n",
    "# Ensure ticks occur at the same positions, then modify labels\n",
    "ax2.set_ylim(ax1.get_ylim())\n",
    "ax2.set_yticklabels(np.round(ax1.get_yticks() / scale, 1))\n",
    "ax2.set_ylabel('Days')\n",
    "\n",
    "plt.show()\n",
    "fig.savefig(\"consort_demo2.pdf\")"
   ]
  },
  {
   "cell_type": "markdown",
   "id": "d7a22d93",
   "metadata": {},
   "source": [
    "### Observable Measurements (Prediction Target)"
   ]
  },
  {
   "cell_type": "code",
   "execution_count": null,
   "id": "62d2ebd7",
   "metadata": {},
   "outputs": [],
   "source": [
    "## NUMERIC FEATURES\n",
    "## TODO: add mergers across tables and within-tables.\n",
    "\n",
    "blood_gas = ['so2', 'po2', 'pco2', 'fio2', 'fio2_chartevents', 'aado2', 'aado2_calc', 'pao2fio2ratio', 'ph',\n",
    "             'baseexcess', 'bicarbonate', 'totalco2', 'hematocrit', 'hemoglobin', 'carboxyhemoglobin', 'methemoglobin',\n",
    "             'chloride', 'calcium', 'temperature', 'potassium', 'sodium', 'lactate', 'glucose']\n",
    "\n",
    "blood_chemistry = ['albumin', 'globulin', 'total_protein', 'aniongap', 'bicarbonate', 'bun', 'calcium', 'chloride',\n",
    "                   'creatinine', 'glucose', 'sodium', 'potassium']\n",
    "\n",
    "cardiac_markers = ['troponin_t', 'ntprobnp', 'ck_mb']\n",
    "\n",
    "cbc = ['hematocrit', 'hemoglobin', 'mch', 'mchc', 'mcv', 'platelet', 'rbc', 'rdw', 'wbc']\n",
    "\n",
    "vital_signs = ['heart_rate', 'sbp', 'dbp', 'mbp', 'sbp_ni', 'dbp_ni', 'mbp_ni', 'resp_rate', 'temperature', 'spo2',\n",
    "               'glucose']\n",
    "\n",
    "# Glasgow Coma Scale, a measure of neurological function\n",
    "coma_signs = ['gcs', 'gcs_motor', 'gcs_verbal', 'gcs_eyes', 'gcs_unable']\n",
    "\n",
    "renal_out = ['uo_rt_6hr', 'uo_rt_12hr', 'uo_rt_24hr']\n",
    "\n",
    "renal_creat = ['creat']\n",
    "\n",
    "renal_aki = ['aki_stage_smoothed']"
   ]
  },
  {
   "cell_type": "markdown",
   "id": "1ef43e8b",
   "metadata": {},
   "source": [
    "### Numeric Feature Tables"
   ]
  },
  {
   "cell_type": "code",
   "execution_count": null,
   "id": "722d5f67",
   "metadata": {},
   "outputs": [],
   "source": []
  },
  {
   "cell_type": "code",
   "execution_count": null,
   "id": "9db57a36",
   "metadata": {},
   "outputs": [],
   "source": [
    "renal_out_query = f\"\"\"\n",
    "select icu.hadm_id,\n",
    "       {', '.join(renal_out)},\n",
    "       charttime time_bin\n",
    "from mimiciv_derived.kdigo_uo t\n",
    "inner join mimiciv_icu.icustays icu\n",
    "on icu.stay_id = t.stay_id\n",
    "\"\"\"\n",
    "\n",
    "renal_creat_query = f\"\"\"\n",
    "select hadm_id,\n",
    "       {', '.join(renal_creat)},\n",
    "       charttime time_bin\n",
    "from mimiciv_derived.kdigo_creatinine\n",
    "\"\"\"\n",
    "\n",
    "renal_aki_query = f\"\"\"\n",
    "select hadm_id,\n",
    "       {', '.join(renal_aki)},\n",
    "       charttime time_bin\n",
    "from mimiciv_derived.kdigo_stages\n",
    "\"\"\"\n",
    "\n",
    "renal_out_df = pd.read_sql_query(renal_out_query, con)\n",
    "renal_creat_df = pd.read_sql_query(renal_creat_query, con)\n",
    "renal_aki_df = pd.read_sql_query(renal_aki_query, con)\n"
   ]
  },
  {
   "cell_type": "code",
   "execution_count": null,
   "id": "b21c11f9",
   "metadata": {},
   "outputs": [],
   "source": [
    "renal_aki_df.aki_stage_smoothed.max()"
   ]
  },
  {
   "cell_type": "code",
   "execution_count": null,
   "id": "5aa3bfdd",
   "metadata": {},
   "outputs": [],
   "source": [
    "renal_hadm_id = pd.Series(renal_aki_df.hadm_id.unique())"
   ]
  },
  {
   "cell_type": "code",
   "execution_count": null,
   "id": "45c663d4",
   "metadata": {},
   "outputs": [],
   "source": [
    "adm_df['adm_has_renal_data'] = adm_df.hadm_id.isin(renal_hadm_id)\n",
    "adm_df\n",
    "\n",
    "\n"
   ]
  },
  {
   "cell_type": "code",
   "execution_count": null,
   "id": "a18ac546",
   "metadata": {},
   "outputs": [],
   "source": [
    "subject_has_renal = adm_df.groupby('subject_id', as_index=False).agg(n_adm=('hadm_id', 'nunique'),\n",
    "                                                                     adm_has_renal_data=('adm_has_renal_data', 'sum'))\n",
    "subjects_with_renal_info = subject_has_renal[subject_has_renal['adm_has_renal_data'] > 0]\n",
    "subjects_with_renal_info['p_adm_with_renal_info'] = subjects_with_renal_info['adm_has_renal_data'] / \\\n",
    "                                                    subjects_with_renal_info['n_adm']\n",
    "subject_id_with_renal_info = subjects_with_renal_info.subject_id\n",
    "# subjects_with_renal_info['p_adm_with_renal_info'].hist()"
   ]
  },
  {
   "cell_type": "code",
   "execution_count": null,
   "id": "39957214",
   "metadata": {},
   "outputs": [],
   "source": [
    "adm_df.subject_id.nunique()"
   ]
  },
  {
   "cell_type": "code",
   "execution_count": null,
   "id": "39b02c3b",
   "metadata": {},
   "outputs": [],
   "source": [
    "subject_id_with_renal_info"
   ]
  },
  {
   "cell_type": "code",
   "execution_count": null,
   "id": "dd35907f",
   "metadata": {},
   "outputs": [],
   "source": [
    "renal_out_df = filter_measurements(renal_out_df, hadm_id_selection=hadm_id_los_geq_12h,\n",
    "                                   subject_id_selection=subject_id_with_renal_info)\n",
    "renal_creat_df = filter_measurements(renal_creat_df, hadm_id_selection=hadm_id_los_geq_12h,\n",
    "                                     subject_id_selection=subject_id_with_renal_info)\n",
    "renal_aki_df = filter_measurements(renal_aki_df, hadm_id_selection=hadm_id_los_geq_12h,\n",
    "                                   subject_id_selection=subject_id_with_renal_info)"
   ]
  },
  {
   "cell_type": "code",
   "execution_count": null,
   "id": "708b0613",
   "metadata": {},
   "outputs": [],
   "source": [
    "sofa_query = f\"\"\"\n",
    "select hadm_id,\n",
    "      s.sofa_24hours as sofa ,\n",
    "      s.endtime time_bin\n",
    "from mimiciv_derived.sofa as s\n",
    "inner join mimiciv_icu.icustays icu on s.stay_id = icu.stay_id\n",
    "\"\"\"\n",
    "\n",
    "sofa_df = pd.read_sql_query(sofa_query, con)"
   ]
  },
  {
   "cell_type": "code",
   "execution_count": null,
   "id": "43d921fd",
   "metadata": {},
   "outputs": [],
   "source": [
    "sofa_df = filter_measurements(sofa_df, hadm_id_selection=hadm_id_los_geq_12h,\n",
    "                              subject_id_selection=subject_id_with_renal_info)"
   ]
  },
  {
   "cell_type": "code",
   "execution_count": null,
   "id": "00ec2df9",
   "metadata": {},
   "outputs": [],
   "source": [
    "blood_gas_query = f\"\"\"\n",
    "select hadm_id,\n",
    "       {', '.join(blood_gas)},\n",
    "       charttime time_bin\n",
    "from mimiciv_derived.bg as bg\n",
    "where hadm_id is not null\n",
    "\"\"\"\n",
    "\n",
    "bg_df = pd.read_sql_query(blood_gas_query, con)"
   ]
  },
  {
   "cell_type": "code",
   "outputs": [],
   "source": [
    "bg_df = filter_measurements(bg_df, hadm_id_selection=hadm_id_los_geq_12h,\n",
    "                            subject_id_selection=subject_id_with_renal_info)"
   ],
   "metadata": {},
   "id": "45497725",
   "execution_count": null
  },
  {
   "cell_type": "code",
   "outputs": [],
   "source": [
    "blood_chemistry_query = f\"\"\"\n",
    "select hadm_id,\n",
    "       {', '.join(blood_chemistry)},\n",
    "       charttime time_bin\n",
    "from mimiciv_derived.chemistry as ch\n",
    "where hadm_id is not null\n",
    "\"\"\"\n",
    "\n",
    "ch_df = pd.read_sql_query(blood_chemistry_query, con)"
   ],
   "metadata": {},
   "id": "4d8ca15a",
   "execution_count": null
  },
  {
   "cell_type": "code",
   "execution_count": null,
   "id": "14e033a4",
   "metadata": {},
   "outputs": [],
   "source": [
    "ch_df.dtypes"
   ]
  },
  {
   "cell_type": "code",
   "execution_count": null,
   "id": "f3ccdda6",
   "metadata": {},
   "outputs": [],
   "source": [
    "ch_df = filter_measurements(ch_df, hadm_id_selection=hadm_id_los_geq_12h,\n",
    "                            subject_id_selection=subject_id_with_renal_info)"
   ]
  },
  {
   "cell_type": "code",
   "execution_count": null,
   "id": "276cd4a6",
   "metadata": {},
   "outputs": [],
   "source": [
    "cardiac_marker_query = \\\n",
    "    f\"\"\"\n",
    "WITH trop AS\n",
    "(\n",
    "    SELECT specimen_id, MAX(valuenum) AS troponin_t\n",
    "    FROM mimiciv_hosp.labevents\n",
    "    WHERE itemid = 51003\n",
    "    GROUP BY specimen_id\n",
    ")\n",
    "SELECT\n",
    "    c.hadm_id\n",
    "    , charttime time_bin\n",
    "    , trop.troponin_t\n",
    "    , c.ntprobnp\n",
    "    , c.ck_mb\n",
    "FROM mimiciv_hosp.admissions a\n",
    "LEFT JOIN mimiciv_derived.cardiac_marker c\n",
    "  ON a.hadm_id = c.hadm_id\n",
    "LEFT JOIN trop\n",
    "  ON c.specimen_id = trop.specimen_id\n",
    "WHERE c.hadm_id is not null\n",
    "\"\"\"\n",
    "\n",
    "cardiac_df = pd.read_sql_query(cardiac_marker_query, con)"
   ]
  },
  {
   "cell_type": "code",
   "execution_count": null,
   "id": "10ca81f8",
   "metadata": {},
   "outputs": [],
   "source": [
    "cardiac_df.dtypes"
   ]
  },
  {
   "cell_type": "code",
   "outputs": [],
   "source": [
    "def filter_measurements(df, hadm_id_selection=None, subject_id_selection=None):\n",
    "    n = OrderedDict()\n",
    "    n['n0'] = len(df)\n",
    "\n",
    "    cols = df.columns\n",
    "\n",
    "    # (1) Filter measurements based on admission_id selection.\n",
    "    if hadm_id_selection is not None:\n",
    "        df = df[df.hadm_id.isin(hadm_id_selection)]\n",
    "\n",
    "    n['n adm. filter'] = len(df)\n",
    "\n",
    "    # Merge with Admission Table\n",
    "    df_ = df.merge(adm_df, on='hadm_id', how='left')\n",
    "\n",
    "    # (2) Filter measurements based on subject_id selection\n",
    "    if subject_id_selection is not None:\n",
    "        df_ = df_[df_.subject_id.isin(subject_id_selection)]\n",
    "\n",
    "    n['n subj. filter'] = len(df_)\n",
    "\n",
    "    # (3) Filter measurements with time_bin outside the hosp stay.\n",
    "    mask = df_.time_bin.between(df_.admittime, df_.dischtime)\n",
    "\n",
    "    df_ = df_[mask]\n",
    "    df = df_[cols]\n",
    "    n['n in-patient time'] = len(df)\n",
    "\n",
    "    print('\\n'.join(f'{filt}: {num} ({100 * num / n[\"n0\"]:.1f})' for filt, num in n.items()))\n",
    "    print('\\n========\\n')\n",
    "    return df"
   ],
   "metadata": {},
   "id": "c159061e",
   "execution_count": null
  },
  {
   "cell_type": "code",
   "execution_count": null,
   "id": "634276fd",
   "metadata": {},
   "outputs": [],
   "source": [
    "cardiac_df = filter_measurements(cardiac_df, hadm_id_selection=hadm_id_los_geq_12h,\n",
    "                                 subject_id_selection=subject_id_with_renal_info)"
   ]
  },
  {
   "cell_type": "code",
   "execution_count": null,
   "id": "a614accc",
   "metadata": {},
   "outputs": [],
   "source": [
    "weight_query = f\"\"\"\n",
    "select icu.hadm_id,\n",
    "     w.weight,\n",
    "        w.time_bin\n",
    " from (\n",
    " (select stay_id, w.weight, w.starttime time_bin\n",
    "  from mimiciv_derived.weight_durations as w)\n",
    " union all\n",
    " (select stay_id, w.weight, w.endtime time_bin\n",
    "     from mimiciv_derived.weight_durations as w)\n",
    " ) w\n",
    "inner join mimiciv_icu.icustays icu on w.stay_id = icu.stay_id\n",
    "\"\"\"\n",
    "\n",
    "weight_df = pd.read_sql_query(weight_query, con)"
   ]
  },
  {
   "cell_type": "code",
   "execution_count": null,
   "id": "9e9de307",
   "metadata": {},
   "outputs": [],
   "source": [
    "weight_df = filter_measurements(weight_df, hadm_id_selection=hadm_id_los_geq_12h,\n",
    "                                subject_id_selection=subject_id_with_renal_info)"
   ]
  },
  {
   "cell_type": "code",
   "execution_count": null,
   "id": "3e5fec33",
   "metadata": {},
   "outputs": [],
   "source": [
    "cbc_query = f\"\"\"\n",
    "select hadm_id,\n",
    "       {', '.join(cbc)},\n",
    "       cbc.charttime time_bin\n",
    "from mimiciv_derived.complete_blood_count as cbc\n",
    "where hadm_id is not null\n",
    "\"\"\"\n",
    "cbc_df = pd.read_sql_query(cbc_query, con)"
   ]
  },
  {
   "cell_type": "code",
   "execution_count": null,
   "id": "7d3978b8",
   "metadata": {},
   "outputs": [],
   "source": [
    "cbc_df.dtypes"
   ]
  },
  {
   "cell_type": "code",
   "execution_count": null,
   "id": "77b88303",
   "metadata": {},
   "outputs": [],
   "source": [
    "cbc_df = filter_measurements(cbc_df, hadm_id_selection=hadm_id_los_geq_12h,\n",
    "                             subject_id_selection=subject_id_with_renal_info)"
   ]
  },
  {
   "cell_type": "code",
   "execution_count": null,
   "id": "652cbb63",
   "metadata": {},
   "outputs": [],
   "source": [
    "vital_query = f\"\"\"\n",
    "select icu.hadm_id,\n",
    "       {', '.join(vital_signs)},\n",
    "       v.charttime time_bin\n",
    "from mimiciv_derived.vitalsign as v\n",
    "inner join mimiciv_icu.icustays as icu\n",
    " on icu.stay_id = v.stay_id\n",
    "\"\"\"\n",
    "vital_df = pd.read_sql_query(vital_query, con)"
   ]
  },
  {
   "cell_type": "code",
   "execution_count": null,
   "id": "c4bef1e2",
   "metadata": {},
   "outputs": [],
   "source": [
    "vital_df = filter_measurements(vital_df, hadm_id_selection=hadm_id_los_geq_12h,\n",
    "                               subject_id_selection=subject_id_with_renal_info)"
   ]
  },
  {
   "cell_type": "code",
   "execution_count": null,
   "id": "134123a4",
   "metadata": {},
   "outputs": [],
   "source": [
    "gcs_query = f\"\"\"\n",
    "select icu.hadm_id,\n",
    "       {', '.join(coma_signs)},\n",
    "       gcs.charttime time_bin\n",
    "from mimiciv_derived.gcs as gcs\n",
    "inner join mimiciv_icu.icustays as icu\n",
    " on icu.stay_id = gcs.stay_id\n",
    "\"\"\"\n",
    "gcs_df = pd.read_sql_query(gcs_query, con)"
   ]
  },
  {
   "cell_type": "code",
   "execution_count": null,
   "id": "ec028841",
   "metadata": {},
   "outputs": [],
   "source": [
    "gcs_df = filter_measurements(gcs_df, hadm_id_selection=hadm_id_los_geq_12h,\n",
    "                             subject_id_selection=subject_id_with_renal_info)"
   ]
  },
  {
   "cell_type": "code",
   "execution_count": null,
   "id": "d7924f94",
   "metadata": {},
   "outputs": [],
   "source": [
    "obs_tables = {'blood_gas': bg_df,\n",
    "              'chemistry': ch_df,\n",
    "              'cardiac_marker': cardiac_df,\n",
    "              'weight': weight_df,\n",
    "              'cbc': cbc_df,\n",
    "              'vital': vital_df,\n",
    "              'gcs': gcs_df,\n",
    "              'renal_out': renal_out_df,\n",
    "              'renal_creat': renal_creat_df,\n",
    "              'renal_aki': renal_aki_df,\n",
    "              'sofa': sofa_df}\n",
    "obs_columns = {table_name: set(df.columns) - {'time_bin', 'hadm_id'} for table_name, df in obs_tables.items()}"
   ]
  },
  {
   "cell_type": "code",
   "execution_count": null,
   "id": "7d0fd952",
   "metadata": {},
   "outputs": [],
   "source": [
    "obs_group = {col: group for group, cols in obs_columns.items() for col in cols}\n",
    "obs_codes = pd.DataFrame({'label': sorted(obs_group), 'group': map(obs_group.get, sorted(obs_group))})\n",
    "obs_codes = obs_codes.sort_values(by='group').reset_index(drop=True)\n",
    "obs_codes['code'] = obs_codes.index.map(lambda i: f'o{i:02d}')\n",
    "code_map = dict(zip(obs_codes.label, obs_codes.code))"
   ]
  },
  {
   "cell_type": "code",
   "execution_count": null,
   "id": "235c0a2a",
   "metadata": {},
   "outputs": [],
   "source": [
    "obs_melted_tables = {k: pd.melt(df, id_vars=['hadm_id', 'time_bin'],\n",
    "                                var_name=['code'],\n",
    "                                value_vars=obs_columns[k]) for k, df in\n",
    "                     obs_tables.items()}\n",
    "\n",
    "obs_melted_tables = {k: df[df.value.notnull()] for k, df in obs_melted_tables.items()}"
   ]
  },
  {
   "cell_type": "code",
   "execution_count": null,
   "id": "e8f1dce3",
   "metadata": {},
   "outputs": [],
   "source": [
    "obs_df = pd.concat(obs_melted_tables.values(), axis=0)"
   ]
  },
  {
   "cell_type": "code",
   "execution_count": null,
   "id": "17168ae5",
   "metadata": {},
   "outputs": [],
   "source": [
    "obs_df['code'] = obs_df['code'].map(code_map)\n",
    "obs_df"
   ]
  },
  {
   "cell_type": "code",
   "execution_count": null,
   "id": "48b2fd11",
   "metadata": {},
   "outputs": [],
   "source": [
    "obs_df.to_csv('obs_df.csv.gz', compression='gzip')\n",
    "obs_codes.to_csv('mimic4_obs_codes.csv.gz', compression='gzip')"
   ]
  },
  {
   "cell_type": "code",
   "execution_count": null,
   "id": "6199bc9a",
   "metadata": {},
   "outputs": [],
   "source": [
    "obs_codes"
   ]
  },
  {
   "cell_type": "markdown",
   "id": "ea32e37d",
   "metadata": {},
   "source": [
    "### Interventions\n",
    "\n"
   ]
  },
  {
   "cell_type": "code",
   "execution_count": null,
   "id": "d11cef40",
   "metadata": {},
   "outputs": [],
   "source": [
    "## Inputs - Canonicalise\n",
    "\n",
    "input_query = \\\n",
    "    \"\"\"\n",
    "    SELECT\n",
    "        a.hadm_id\n",
    "        , inp.starttime as start_time\n",
    "        , inp.endtime as end_time\n",
    "        , di.label\n",
    "        , di.itemid\n",
    "        , inp.rate \n",
    "        , inp.amount\n",
    "        , inp.rateuom\n",
    "        , inp.amountuom\n",
    "    FROM mimiciv_hosp.admissions a\n",
    "    INNER JOIN mimiciv_icu.icustays i\n",
    "        ON a.hadm_id = i.hadm_id\n",
    "    LEFT JOIN mimiciv_icu.inputevents inp\n",
    "        ON i.stay_id = inp.stay_id\n",
    "    LEFT JOIN mimiciv_icu.d_items di\n",
    "        ON inp.itemid = di.itemid\n",
    "    \"\"\"\n",
    "\n",
    "## Procedures - Canonicalise and Refine\n",
    "icuproc_query = \\\n",
    "    \"\"\"\n",
    "    SELECT\n",
    "        a.hadm_id\n",
    "        , pe.starttime as start_time\n",
    "        , pe.endtime as end_time\n",
    "        , di.label\n",
    "        , di.itemid\n",
    "        , pe.value\n",
    "    FROM mimiciv_hosp.admissions a\n",
    "    INNER JOIN mimiciv_icu.icustays i\n",
    "        ON a.hadm_id = i.hadm_id\n",
    "    LEFT JOIN mimiciv_icu.procedureevents pe\n",
    "        ON i.stay_id = pe.stay_id\n",
    "    LEFT JOIN mimiciv_icu.d_items di\n",
    "        ON pe.itemid = di.itemid\n",
    "    \"\"\"\n",
    "\n",
    "hospicdproc_query = \\\n",
    "    \"\"\"\n",
    "    select pi.hadm_id\n",
    "    , (pi.chartdate)::timestamp as start_time\n",
    "    , (pi.chartdate + interval '1 hour')::timestamp as end_time\n",
    "    , pi.icd_code\n",
    "    , pi.icd_version\n",
    "    , di.long_title\n",
    "    FROM mimiciv_hosp.procedures_icd pi\n",
    "    INNER JOIN mimiciv_hosp.d_icd_procedures di\n",
    "      ON pi.icd_version = di.icd_version\n",
    "      AND pi.icd_code = di.icd_code\n",
    "    INNER JOIN mimiciv_hosp.admissions a\n",
    "      ON pi.hadm_id = a.hadm_id\n",
    "    \"\"\"\n",
    "\n",
    "# === provider order entry (poe) <----- very messy, high irrelevance, ignore\n",
    "\n",
    "poe_query = f\"\"\"\n",
    "SELECT\n",
    "    a.hadm_id\n",
    "    , mimiciv_derived.DATETIME_DIFF(p.ordertime, a.admittime, 'DAY') AS offset\n",
    "    , p.poe_id\n",
    "    , p.order_type, p.order_subtype\n",
    "    , p.transaction_type\n",
    "    , pd.field_name\n",
    "    , pd.field_value\n",
    "FROM mimiciv_hosp.admissions a\n",
    "INNER JOIN mimiciv_hosp.poe p\n",
    "    ON a.hadm_id = p.hadm_id\n",
    "LEFT JOIN  mimiciv_hosp.poe_detail pd\n",
    "    ON p.poe_id = pd.poe_id\n",
    "\"\"\""
   ]
  },
  {
   "cell_type": "code",
   "execution_count": null,
   "id": "1920e3c6",
   "metadata": {},
   "outputs": [],
   "source": [
    "input_df = pd.read_sql_query(input_query, con)"
   ]
  },
  {
   "cell_type": "code",
   "execution_count": null,
   "id": "abd57e5f",
   "metadata": {},
   "outputs": [],
   "source": [
    "icuproc_df = pd.read_sql_query(icuproc_query, con, dtype=str)"
   ]
  },
  {
   "cell_type": "code",
   "execution_count": null,
   "id": "bcaa8c5e",
   "metadata": {},
   "outputs": [],
   "source": [
    "hospicdproc_df = pd.read_sql_query(hospicdproc_query, con, dtype=str)"
   ]
  },
  {
   "cell_type": "code",
   "outputs": [],
   "source": [
    "icuproc_df"
   ],
   "metadata": {
    "collapsed": false
   },
   "id": "f3992a64cd952e",
   "execution_count": null
  },
  {
   "cell_type": "code",
   "execution_count": null,
   "id": "8dbb6942",
   "metadata": {},
   "outputs": [],
   "source": [
    "# Ignored entirely\n",
    "# poe_df = pd.read_sql_query(poe_query,con)"
   ]
  },
  {
   "cell_type": "code",
   "execution_count": null,
   "id": "15b52aea",
   "metadata": {},
   "outputs": [],
   "source": [
    "def filter_interventions(df, hadm_id_selection=None, subject_id_selection=None):\n",
    "    n = OrderedDict()\n",
    "    n['n0'] = len(df)\n",
    "\n",
    "    cols = df.columns\n",
    "\n",
    "    # (1) Filter interventions based on admission_id selection.\n",
    "    if hadm_id_selection is not None:\n",
    "        df = df[df.hadm_id.isin(hadm_id_selection)]\n",
    "\n",
    "    n['n adm. filter'] = len(df)\n",
    "\n",
    "    # Merge with Admission Table\n",
    "    df_ = df.merge(adm_df, on='hadm_id', how='left')\n",
    "\n",
    "    # (2) Filter interventions based on subject_id selection\n",
    "    if subject_id_selection is not None:\n",
    "        df_ = df_[df_.subject_id.isin(subject_id_selection)]\n",
    "\n",
    "    n['n subj. filter'] = len(df_)\n",
    "\n",
    "    # (3) Filter interventions with intervals outside the hosp stay.\n",
    "    mask1 = df_.start_time.between(df_.admittime, df_.dischtime)\n",
    "    mask2 = df_.end_time.between(df_.admittime, df_.dischtime)\n",
    "    n['n start-time filter'] = sum(mask1)\n",
    "    n['n end-time filter'] = sum(mask1 & mask2)\n",
    "\n",
    "    df_ = df_[mask1 & mask2]\n",
    "\n",
    "    df = df_[cols]\n",
    "    n['n in-patient time'] = len(df)\n",
    "\n",
    "    print('\\n'.join(f'{filt}: {num} ({100 * num / n[\"n0\"]:.1f})' for filt, num in n.items()))\n",
    "    print('\\n========\\n')\n",
    "    return df"
   ]
  },
  {
   "cell_type": "code",
   "execution_count": null,
   "id": "8d0ce24b",
   "metadata": {},
   "outputs": [],
   "source": [
    "input_df = filter_interventions(input_df, hadm_id_selection=hadm_id_los_geq_12h,\n",
    "                                subject_id_selection=subject_id_with_renal_info)"
   ]
  },
  {
   "cell_type": "code",
   "execution_count": null,
   "id": "520d7e85",
   "metadata": {},
   "outputs": [],
   "source": [
    "input_df.label.nunique()"
   ]
  },
  {
   "cell_type": "code",
   "execution_count": null,
   "id": "0c5e1dc4",
   "metadata": {},
   "outputs": [],
   "source": [
    "icuproc_df = filter_interventions(icuproc_df, hadm_id_selection=hadm_id_los_geq_12h,\n",
    "                                  subject_id_selection=subject_id_with_renal_info)"
   ]
  },
  {
   "cell_type": "code",
   "execution_count": null,
   "id": "e54fd11d",
   "metadata": {},
   "outputs": [],
   "source": [
    "hospicdproc_df = filter_interventions(hospicdproc_df, hadm_id_selection=hadm_id_los_geq_12h,\n",
    "                                      subject_id_selection=subject_id_with_renal_info)"
   ]
  },
  {
   "cell_type": "code",
   "execution_count": null,
   "id": "ad5a0649",
   "metadata": {},
   "outputs": [],
   "source": [
    "hospicdproc_df"
   ]
  },
  {
   "cell_type": "markdown",
   "id": "bbc041fa",
   "metadata": {},
   "source": [
    "### `hospicdproc` + `icuproc` Further filteration and grouper"
   ]
  },
  {
   "cell_type": "code",
   "execution_count": null,
   "id": "85e05ed6",
   "metadata": {},
   "outputs": [],
   "source": [
    "df = hospicdproc_df.merge(adm_df, on='hadm_id', how='left')\n",
    "\n",
    "# timeperc_within_stay = (df['start_time'] - df['admittime']).dt.total_seconds() /(df['dischtime'] - df['admittime']).dt.total_seconds()\n",
    "# timeperc_within_stay.plot.kde()"
   ]
  },
  {
   "cell_type": "code",
   "execution_count": null,
   "id": "f900c29c",
   "metadata": {},
   "outputs": [],
   "source": [
    "icd_n_subjects = df.groupby(['icd_code', 'long_title', 'icd_version'], as_index=False).agg(\n",
    "    n_subjects=('subject_id', 'nunique'))\n",
    "icd_n_subjects['p_subjects'] = icd_n_subjects['n_subjects'] / len(subject_id_with_renal_info)\n",
    "# icd_n_subjects['p_subjects'].plot.kde()"
   ]
  },
  {
   "cell_type": "code",
   "execution_count": null,
   "id": "0fb5f065",
   "metadata": {},
   "outputs": [],
   "source": [
    "# Conisder ICD codes with minimum coverage of 0.5% of the selected subjects.\n",
    "hospicd_R1 = icd_n_subjects[icd_n_subjects['p_subjects'] > 0.005]\n",
    "\n",
    "# Remove diagnostic procedures.\n",
    "patterns = ['diag', 'fluoro', 'biops', 'inspection', 'bronchoscop', 'monitor', 'ultrasonography']\n",
    "\n",
    "hospicd_R2_mask = hospicd_R1['long_title'].str.match('|'.join(f'(.*{p}.*)' for p in patterns), case=False)\n",
    "hospicd_R2 = hospicd_R1[~hospicd_R2_mask]\n",
    "\n",
    "hospicd_R1.to_csv('hospicd_R1.csv')\n",
    "hospicd_R2.to_csv('hospicd_R2.csv')"
   ]
  },
  {
   "cell_type": "code",
   "execution_count": null,
   "id": "7afaefbd",
   "metadata": {},
   "outputs": [],
   "source": [
    "# Apply filteration.\n",
    "hospicdproc_df = hospicdproc_df[hospicdproc_df.icd_code.isin(hospicd_R2.icd_code)]"
   ]
  },
  {
   "cell_type": "code",
   "execution_count": null,
   "id": "16fdebc8",
   "metadata": {},
   "outputs": [],
   "source": [
    "df = hospicdproc_df.merge(adm_df, on='hadm_id', how='left')\n",
    "\n",
    "# timeperc_within_stay = (df['start_time'] - df['admittime']).dt.total_seconds() /(df['dischtime'] - df['admittime']).dt.total_seconds()\n",
    "# timeperc_within_stay.plot.kde(bw_method=0.05)"
   ]
  },
  {
   "cell_type": "code",
   "execution_count": null,
   "id": "31347331",
   "metadata": {},
   "outputs": [],
   "source": [
    "icd_n_subjects = df.groupby(['icd_code', 'long_title', 'icd_version'], as_index=False).agg(\n",
    "    n_subjects=('subject_id', 'nunique'))\n",
    "icd_n_subjects['p_subjects'] = icd_n_subjects['n_subjects'] / len(subject_id_with_renal_info)\n",
    "# icd_n_subjects['p_subjects'].plot.kde(bw_method=0.01)"
   ]
  },
  {
   "cell_type": "code",
   "execution_count": null,
   "id": "19e6beda",
   "metadata": {},
   "outputs": [],
   "source": [
    "hospicdproc_df"
   ]
  },
  {
   "cell_type": "code",
   "execution_count": null,
   "id": "5b89cf9d",
   "metadata": {},
   "outputs": [],
   "source": [
    "hospicdproc_grouper = pd.read_csv('int_grouper_hospicdproc.csv')\n",
    "hospicdproc_grouper"
   ]
  },
  {
   "cell_type": "code",
   "execution_count": null,
   "id": "5a200e91",
   "metadata": {},
   "outputs": [],
   "source": [
    "n1 = len(hospicdproc_df)\n",
    "icd_selection = set(hospicdproc_grouper.icd_code)\n",
    "print(hospicdproc_grouper.icd_code.nunique(), len(hospicdproc_grouper))\n",
    "\n"
   ]
  },
  {
   "cell_type": "code",
   "execution_count": null,
   "id": "7a493c19",
   "metadata": {},
   "outputs": [],
   "source": [
    "hospicdproc_df = hospicdproc_df[hospicdproc_df.icd_code.isin(icd_selection)]\n",
    "n2 = len(hospicdproc_df)\n",
    "n1, n2"
   ]
  },
  {
   "cell_type": "markdown",
   "id": "7c94515a",
   "metadata": {},
   "source": [
    "#### Standard Procedure Table"
   ]
  },
  {
   "cell_type": "code",
   "execution_count": null,
   "id": "99b918a9",
   "metadata": {},
   "outputs": [],
   "source": [
    "hospicd_coder = lambda v, c: f\"v{v}:c{c}\"\n",
    "\n",
    "hospicdproc_df[\"code\"] = list(map(hospicd_coder, hospicdproc_df[\"icd_version\"], hospicdproc_df[\"icd_code\"]))\n",
    "hospicdproc_grouper[\"code\"] = list(\n",
    "    map(hospicd_coder, hospicdproc_grouper[\"icd_version\"], hospicdproc_grouper[\"icd_code\"]))\n",
    "hospicdproc_grouper[\"label\"] = hospicdproc_grouper[\"long_title\"]\n",
    "\n",
    "hospicdproc_df = hospicdproc_df[[\"hadm_id\", \"start_time\", \"end_time\", \"code\"]]\n",
    "hospicdproc_grouper = hospicdproc_grouper[[\"code\", \"group\", \"label\"]]"
   ]
  },
  {
   "cell_type": "markdown",
   "id": "c705e457",
   "metadata": {},
   "source": [
    "### 'icuproc` refinement"
   ]
  },
  {
   "cell_type": "code",
   "execution_count": null,
   "id": "5407fef0",
   "metadata": {},
   "outputs": [],
   "source": [
    "icuproc_df"
   ]
  },
  {
   "cell_type": "code",
   "execution_count": null,
   "id": "1a0a0ceb",
   "metadata": {},
   "outputs": [],
   "source": [
    "icuproc_df['total_interval_hrs'] = (icuproc_df['end_time'] - icuproc_df['start_time']).dt.total_seconds() / 3600\n",
    "icuproc_df['total_interval_mins'] = (icuproc_df['end_time'] - icuproc_df['start_time']).dt.total_seconds() / 60\n",
    "icuproc_df['value_per_hour'] = icuproc_df['value'] / icuproc_df['total_interval_hrs']\n",
    "\n",
    "df = icuproc_df.merge(adm_df, on='hadm_id', how='left')\n",
    "df['count'] = 1"
   ]
  },
  {
   "cell_type": "code",
   "execution_count": null,
   "id": "6a38f160",
   "metadata": {},
   "outputs": [],
   "source": [
    "icuproc_n_subjects = df.groupby('label', as_index=False).agg(\n",
    "    n_subjects=('subject_id', 'nunique'),\n",
    "    n=('count', 'sum'),\n",
    "    mean_value=('value', 'mean'),\n",
    "    std_value=('value', 'std'),\n",
    "    mean_value_per_hour=('value_per_hour', 'mean'),\n",
    "    std_value_per_hour=('value_per_hour', 'std'),\n",
    "    mean_interval_minutes=('total_interval_mins', 'mean'),\n",
    "    std_interval_minutes=('total_interval_mins', 'std'))\n"
   ]
  },
  {
   "cell_type": "code",
   "execution_count": null,
   "id": "5556c123",
   "metadata": {},
   "outputs": [],
   "source": [
    "icuproc_n_subjects.to_csv('icuproc_n_subjects.csv')"
   ]
  },
  {
   "cell_type": "code",
   "execution_count": null,
   "id": "186aa633",
   "metadata": {},
   "outputs": [],
   "source": [
    "int_icuproc_grouper = pd.read_csv('int_grouper_icuproc.csv')"
   ]
  },
  {
   "cell_type": "code",
   "execution_count": null,
   "id": "cde0df00",
   "metadata": {},
   "outputs": [],
   "source": [
    "n1 = len(icuproc_df)\n",
    "exclude_icuproc = set(int_icuproc_grouper[int_icuproc_grouper.group == 'exclude'].label)\n",
    "\n",
    "icuproc_df = icuproc_df[~icuproc_df.label.isin(exclude_icuproc)]\n",
    "n2 = len(icuproc_df)\n",
    "n1, n2"
   ]
  },
  {
   "cell_type": "markdown",
   "id": "7d4c4cff",
   "metadata": {},
   "source": [
    "#### Standard Procedure Table"
   ]
  },
  {
   "cell_type": "code",
   "execution_count": null,
   "id": "9880022a",
   "metadata": {},
   "outputs": [],
   "source": [
    "icuproc_df[\"code\"] = icuproc_df[\"label\"]\n",
    "int_icuproc_grouper[\"code\"] = int_icuproc_grouper[\"label\"]\n",
    "int_icuproc_grouper[\"label\"] = int_icuproc_grouper[\"label\"]\n",
    "\n",
    "icuproc_df = icuproc_df[[\"hadm_id\", \"start_time\", \"end_time\", \"code\"]]\n",
    "int_icuproc_grouper = int_icuproc_grouper[[\"code\", \"group\", \"label\"]]"
   ]
  },
  {
   "cell_type": "code",
   "execution_count": null,
   "id": "1e21b51f",
   "metadata": {},
   "outputs": [],
   "source": [
    "int_proc_df = pd.concat([hospicdproc_df, icuproc_df], axis=0)\n",
    "int_grouper_proc = pd.concat([hospicdproc_grouper, int_icuproc_grouper], axis=0)\n",
    "\n",
    "int_proc_df.to_csv('int_proc.csv.gz', compression='gzip')\n",
    "int_grouper_proc.to_csv('mimic4_int_grouper_proc.csv.gz', compression='gzip')"
   ]
  },
  {
   "cell_type": "code",
   "execution_count": null,
   "id": "f7e03f33",
   "metadata": {},
   "outputs": [],
   "source": [
    "int_grouper_proc2 = int_grouper_proc.set_index(['group', 'code']).sort_index()\n",
    "with pd.ExcelWriter('int_grouper_proc2.xlsx') as writer:\n",
    "    int_grouper_proc2.to_excel(writer, sheet_name='Sheet1', merge_cells=True)"
   ]
  },
  {
   "cell_type": "code",
   "execution_count": null,
   "id": "280dcf00",
   "metadata": {},
   "outputs": [],
   "source": [
    "int_grouper_proc"
   ]
  },
  {
   "cell_type": "markdown",
   "id": "476b5a8e",
   "metadata": {},
   "source": [
    "### `input` filteration and refinement"
   ]
  },
  {
   "cell_type": "code",
   "execution_count": null,
   "id": "dbe42ca1",
   "metadata": {},
   "outputs": [],
   "source": [
    "input_df['total_interval_hrs'] = (input_df['end_time'] - input_df['start_time']).dt.total_seconds() / 3600\n",
    "input_df['total_interval_mins'] = (input_df['end_time'] - input_df['start_time']).dt.total_seconds() / 60\n",
    "input_df['amount_per_hour'] = input_df['amount'] / input_df['total_interval_hrs']"
   ]
  },
  {
   "cell_type": "code",
   "execution_count": null,
   "id": "4f7d47fd",
   "metadata": {},
   "outputs": [],
   "source": [
    "df = input_df.merge(adm_df, on='hadm_id', how='left')\n",
    "df['count'] = 1"
   ]
  },
  {
   "cell_type": "code",
   "execution_count": null,
   "id": "34f16a3a",
   "metadata": {},
   "outputs": [],
   "source": [
    "input_n_subjects = df.groupby(['label', 'amountuom'], as_index=False).agg(\n",
    "    n_subjects=('subject_id', 'nunique'),\n",
    "    n=('count', 'sum'),\n",
    "    mean_amount=('amount', 'mean'),\n",
    "    std_amount=('amount', 'std'),\n",
    "    mean_amount_per_hour=('amount_per_hour', 'mean'),\n",
    "    std_amount_per_hour=('amount_per_hour', 'std'),\n",
    "    mean_interval_minutes=('total_interval_mins', 'mean'),\n",
    "    std_interval_minutes=('total_interval_mins', 'std'))\n"
   ]
  },
  {
   "cell_type": "code",
   "execution_count": null,
   "id": "857ff4cc",
   "metadata": {},
   "outputs": [],
   "source": [
    "input_n_subjects.to_csv('input_n_subjects.csv')\n"
   ]
  },
  {
   "cell_type": "code",
   "execution_count": null,
   "id": "9a5487f5",
   "metadata": {},
   "outputs": [],
   "source": [
    "\"\"\"\n",
    "from IPython.display import display\n",
    "\n",
    "input_n_subjects_tom = pd.read_csv('input_n_subjects_tom.csv', index_col=[0])\n",
    "# Change 'M' (maybe) to 'Y' (yes)\n",
    "input_n_subjects_tom.loc[input_n_subjects_tom['dose_impact'] == 'M', 'dose_impact'] = 'Y'\n",
    "\n",
    "# Add column for unit normalisation, default=1.0\n",
    "input_n_subjects_tom['rate_normaliser'] = 1.0\n",
    "\n",
    "# Add label groups\n",
    "input_n_subjects_tom['group'] = input_n_subjects_tom.label.map(input_group_map)\n",
    "\n",
    "# Default group decision:\n",
    "\n",
    "init_decision = {}\n",
    "for group, group_df in input_n_subjects_tom.groupby('group'):\n",
    "    dose_impact = list(group_df['dose_impact'].unique())\n",
    "    \n",
    "    assert len(dose_impact) == 1, f\"Incosistant dose impact decision {group}.\"\n",
    "    dose_impact = dose_impact[0]\n",
    "    if dose_impact == 'Y':\n",
    "        if group_df.label.nunique() > 1:\n",
    "            if group_df.amountuom.nunique() > 1:\n",
    "                init_decision[group] = 'DS(or DH, norm)'\n",
    "            else:\n",
    "                init_decision[group] = 'DS(or DH)'\n",
    "        else:\n",
    "            if group_df.amountuom.nunique() > 1:\n",
    "                init_decision[group] = 'DH(norm)'\n",
    "            else:\n",
    "                init_decision[group] = 'DH'\n",
    "    elif dose_impact == 'N':\n",
    "        \n",
    "        if group_df.label.nunique() > 1:\n",
    "            init_decision[group] = 'H(or S)'\n",
    "        else:\n",
    "            init_decision[group] = 'H'\n",
    "    else:\n",
    "        init_decision[group] = 'E'\n",
    "\n",
    "input_n_subjects_tom['group_decision'] = input_n_subjects_tom['group'].map(init_decision)\n",
    "\n",
    "# Change the order of rate_normaliser column\n",
    "input_n_subjects_tom.insert(1, 'rate_normaliser', input_n_subjects_tom.pop('rate_normaliser'))\n",
    "\n",
    "input_n_subjects_tom = input_n_subjects_tom.set_index(['group', 'dose_impact', 'group_decision', 'label', 'amountuom'])\n",
    "\"\"\""
   ]
  },
  {
   "cell_type": "code",
   "execution_count": null,
   "id": "51fd8397",
   "metadata": {},
   "outputs": [],
   "source": [
    "\"\"\"\n",
    "with pd.ExcelWriter('input_label_groups_notes.xlsx') as writer:\n",
    "    input_n_subjects_tom.to_excel(writer, sheet_name='Sheet1', merge_cells = True)\n",
    "\"\"\""
   ]
  },
  {
   "cell_type": "code",
   "execution_count": null,
   "id": "ea85d44b",
   "metadata": {},
   "outputs": [],
   "source": [
    "int_grouper_input_df = pd.read_excel('input_label_groups_decisions.xlsx').fillna(method='ffill')"
   ]
  },
  {
   "cell_type": "code",
   "execution_count": null,
   "id": "1c84885d",
   "metadata": {},
   "outputs": [],
   "source": [
    "int_grouper_input_df"
   ]
  },
  {
   "cell_type": "code",
   "execution_count": null,
   "id": "929bde55",
   "metadata": {},
   "outputs": [],
   "source": [
    "int_grouper_input_df.group_decision.unique()"
   ]
  },
  {
   "cell_type": "code",
   "execution_count": null,
   "id": "35e02f6b",
   "metadata": {},
   "outputs": [],
   "source": [
    "int_grouper_input_df.to_csv('mimic4_int_grouper_input.csv.gz', compression='gzip')"
   ]
  },
  {
   "cell_type": "markdown",
   "id": "2ce95dc3",
   "metadata": {},
   "source": [
    "#### Normalise rates of different units for the same input item"
   ]
  },
  {
   "cell_type": "code",
   "execution_count": null,
   "id": "c89c5f99",
   "metadata": {},
   "outputs": [],
   "source": [
    "rate_scaler = dict(zip(map(lambda c1, c2: f'{c1}-{c2}', int_grouper_input_df.label, int_grouper_input_df.amountuom),\n",
    "                       int_grouper_input_df.rate_normaliser))\n",
    "\n",
    "input_df['label-uom'] = list(map(lambda c1, c2: f'{c1}-{c2}', input_df.label, input_df.amountuom))\n",
    "input_df['normalised_amount_per_hour'] = input_df['amount_per_hour'] * input_df['label-uom'].map(rate_scaler)"
   ]
  },
  {
   "cell_type": "code",
   "execution_count": null,
   "id": "7a6a7055",
   "metadata": {},
   "outputs": [],
   "source": [
    "input_df = input_df[['hadm_id', 'start_time', 'end_time', 'label', 'normalised_amount_per_hour']]"
   ]
  },
  {
   "cell_type": "code",
   "execution_count": null,
   "id": "633c488c",
   "metadata": {},
   "outputs": [],
   "source": [
    "input_df.to_csv('int_input.csv.gz', compression='gzip')"
   ]
  },
  {
   "cell_type": "code",
   "execution_count": null,
   "id": "ab546964",
   "metadata": {},
   "outputs": [],
   "source": [
    "input_df"
   ]
  },
  {
   "cell_type": "markdown",
   "id": "64222b45",
   "metadata": {},
   "source": [
    "## Dx Codes Filteration"
   ]
  },
  {
   "cell_type": "code",
   "execution_count": null,
   "id": "0d4f5910",
   "metadata": {},
   "outputs": [],
   "source": [
    "def filter_discharge_codes(df, subject_id_selection=None):\n",
    "    n = OrderedDict()\n",
    "    n['n0'] = len(df)\n",
    "\n",
    "    cols = df.columns\n",
    "\n",
    "    # (1) Filter discharge codes if subject has a single admission.\n",
    "    n_adms = df.groupby('subject_id', as_index=False).agg(n_adms=('hadm_id', 'nunique'))\n",
    "    n_adms_subjects = set(n_adms[n_adms['n_adms'] > 1].subject_id)\n",
    "    df = df[df.subject_id.isin(n_adms_subjects)]\n",
    "\n",
    "    n['n adm. > 1 filter'] = len(df)\n",
    "\n",
    "    # (2) Filter discharge dx codes based on subject_id selection\n",
    "    if subject_id_selection is not None:\n",
    "        df = df[df.subject_id.isin(subject_id_selection)]\n",
    "\n",
    "    n['n subj. filter'] = len(df)\n",
    "\n",
    "    print('\\n'.join(f'{filt}: {num} ({100 * num / n[\"n0\"]:.1f})' for filt, num in n.items()))\n",
    "    print('\\n========\\n')\n",
    "    return df"
   ]
  },
  {
   "cell_type": "code",
   "execution_count": null,
   "id": "dca0531f",
   "metadata": {},
   "outputs": [],
   "source": [
    "dx_query = f\"\"\"\n",
    "SELECT\n",
    "    hadm_id, subject_id, icd_code, icd_version\n",
    "FROM mimiciv_hosp.diagnoses_icd \n",
    "\"\"\"\n",
    "dx_df = pd.read_sql_query(dx_query, con)"
   ]
  },
  {
   "cell_type": "code",
   "execution_count": null,
   "id": "008c13cb",
   "metadata": {},
   "outputs": [],
   "source": [
    "dx_df = filter_discharge_codes(dx_df, subject_id_selection=subject_id_with_renal_info)"
   ]
  },
  {
   "cell_type": "code",
   "execution_count": null,
   "id": "9589354a",
   "metadata": {},
   "outputs": [],
   "source": [
    "dx_df"
   ]
  },
  {
   "cell_type": "code",
   "execution_count": null,
   "id": "bcf64aec",
   "metadata": {},
   "outputs": [],
   "source": [
    "dx_df.to_csv('dx_df.csv.gz', compression='gzip')"
   ]
  },
  {
   "cell_type": "markdown",
   "id": "512de513",
   "metadata": {},
   "source": [
    "## Admissions & Static Tables "
   ]
  },
  {
   "cell_type": "code",
   "execution_count": null,
   "id": "c0f8f426",
   "metadata": {},
   "outputs": [],
   "source": [
    "def filter_admissions(df, subject_id_selection=None):\n",
    "    n = OrderedDict()\n",
    "    n['n0'] = len(df)\n",
    "\n",
    "    cols = df.columns\n",
    "\n",
    "    # (1) Filter discharge dx codes based on subject_id selection\n",
    "    if subject_id_selection is not None:\n",
    "        df = df[df.subject_id.isin(subject_id_selection)]\n",
    "\n",
    "    n['n subj. filter'] = len(df)\n",
    "\n",
    "    print('\\n'.join(f'{filt}: {num} ({100 * num / n[\"n0\"]:.1f})' for filt, num in n.items()))\n",
    "    print('\\n========\\n')\n",
    "    return df"
   ]
  },
  {
   "cell_type": "code",
   "execution_count": null,
   "id": "16eb24f0",
   "metadata": {},
   "outputs": [],
   "source": [
    "adm_query = f\"\"\"\n",
    "SELECT\n",
    "    hadm_id, subject_id, admittime, dischtime, race\n",
    "FROM mimiciv_hosp.admissions \n",
    "\"\"\"\n",
    "adm_df = pd.read_sql_query(adm_query, con)"
   ]
  },
  {
   "cell_type": "code",
   "execution_count": null,
   "id": "d5de8a6e",
   "metadata": {},
   "outputs": [],
   "source": [
    "static_query = f\"\"\"\n",
    "SELECT \n",
    "    p.subject_id, p.gender, a.race, p.anchor_age, p.anchor_year\n",
    "    from mimiciv_hosp.patients p\n",
    "    left join \n",
    "    (select subject_id, max(race) as race\n",
    "    from mimiciv_hosp.admissions\n",
    "    group by subject_id) as a\n",
    "    on p.subject_id = a.subject_id\n",
    "\"\"\"\n",
    "static_df = pd.read_sql_query(static_query, con)"
   ]
  },
  {
   "cell_type": "code",
   "execution_count": null,
   "id": "043c3e7a",
   "metadata": {},
   "outputs": [],
   "source": [
    "adm_df = filter_admissions(adm_df, subject_id_selection=subject_id_with_renal_info)\n",
    "static_df = filter_admissions(static_df, subject_id_selection=subject_id_with_renal_info)\n"
   ]
  },
  {
   "cell_type": "code",
   "execution_count": null,
   "id": "929cc89e",
   "metadata": {},
   "outputs": [],
   "source": [
    "adm_df.to_csv('adm_df.csv.gz', compression='gzip')\n",
    "static_df.to_csv('static_df.csv.gz', compression='gzip')"
   ]
  },
  {
   "cell_type": "code",
   "execution_count": null,
   "id": "e229e060",
   "metadata": {},
   "outputs": [],
   "source": [
    "\n",
    "# static_df.groupby('race', as_index=False).agg(n=('subject_id', 'count')).to_csv('race_groups.csv', compression='gzip')\n",
    "race_groups_df = pd.read_csv('race_grouper.csv', index_col=0)"
   ]
  },
  {
   "cell_type": "code",
   "execution_count": null,
   "id": "ca165b58",
   "metadata": {},
   "outputs": [],
   "source": [
    "race_groups_df.to_csv('mimic4_race_grouper.csv.gz', compression='gzip')"
   ]
  },
  {
   "cell_type": "code",
   "execution_count": null,
   "id": "694eb82f",
   "metadata": {},
   "outputs": [],
   "source": [
    "import seaborn as sns\n",
    "import sys\n",
    "\n",
    "sys.path.append(\"../../..\")\n",
    "\n",
    "from lib.ehr.coding_scheme import MIMIC4Observables\n",
    "\n",
    "C = MIMIC4Observables()\n",
    "\n",
    "z_min = -2.5\n",
    "z_max = -z_min\n",
    "q_min = 0.1\n",
    "q_max = 1 - q_min\n",
    "\n",
    "for code in sorted(m4inpatient_dataset.df['obs'].code.unique()):\n",
    "    df = m4inpatient_dataset.df['obs']\n",
    "    code_df = df[df.code == code]\n",
    "\n",
    "    q1 = code_df.value.quantile(q_min)\n",
    "    q2 = code_df.value.quantile(q_max)\n",
    "    qin_mask = code_df.value.between(q1, q2)\n",
    "\n",
    "    mu = code_df.value.mean()\n",
    "    std = code_df.value.std()\n",
    "    code_df['z'] = (code_df.value - mu) / std\n",
    "    x1 = mu + z_min * std\n",
    "    x2 = mu + z_max * std\n",
    "\n",
    "    zin_mask = code_df.z.between(z_min, z_max)\n",
    "\n",
    "    textstr = '\\n'.join((\n",
    "        f'n={len(code_df)}',\n",
    "        f'(min, max): ({code_df.value.min():0.2f}, {code_df.value.max():0.2f})',\n",
    "        f'p(qin): {qin_mask.mean():0.3f}',\n",
    "        f'p(zin): {zin_mask.mean():0.3f}',\n",
    "        f'p(zin or qin): {(qin_mask | zin_mask).mean(): 0.3f}'))\n",
    "    props = dict(boxstyle='round', facecolor='wheat', alpha=0.5)\n",
    "\n",
    "    g = sns.displot(code_df, x=\"value\", kde=True)\n",
    "\n",
    "    for ax in g.axes.flat:\n",
    "        args = zip([x1, x2, q1, q2],\n",
    "                   [\"solid\", \"solid\", \"dashed\", \"dashed\"],\n",
    "                   [\"red\", \"red\", \"red\", \"red\"])\n",
    "        ax.set_title(C.desc[code])\n",
    "        # place a text box in upper left in axes coords\n",
    "        ax.text(0.05, 0.95, textstr, transform=ax.transAxes, fontsize=10,\n",
    "                verticalalignment='top', bbox=props)\n",
    "        for x, style, color in args:\n",
    "            ax.axvline(x=x, ymin=0, ymax=1.0, linestyle=style, color=color)\n",
    "    g.savefig(f\"obs_outlier__{code}_{C.desc[code]}.pdf\", bbox_inches='tight')"
   ]
  },
  {
   "cell_type": "code",
   "execution_count": null,
   "id": "acf808f1",
   "metadata": {},
   "outputs": [],
   "source": [
    "icuproc_df_unique = icuproc_df[['label', 'itemid']].drop_duplicates()\n",
    "icuproc_df_unique = icuproc_df_unique[icuproc_df_unique['itemid'].astype(float).notnull()]\n",
    "icuproc_df_unique = icuproc_df_unique.astype({'itemid': float}).astype({'itemid': int}).astype({'itemid': str})\n",
    "#.astype({'itemid': float}).astype({'itemid': int}).astype({'itemid': str})\n",
    "icuproc_df_unique"
   ]
  },
  {
   "cell_type": "code",
   "outputs": [],
   "source": [
    "icu_proc_selection = pd.read_csv('/home/asem/Downloads/mimic4_int_grouper_proc.csv.gz')\n",
    "icuproc_df_unique = pd.merge(icuproc_df_unique, icu_proc_selection[['label', 'group']],\n",
    "                             left_on='label', right_on='label', how='inner')\n",
    "icuproc_df_unique = icuproc_df_unique[icuproc_df_unique['group'] != 'exclude']\n",
    "icuproc_df_unique"
   ],
   "metadata": {
    "collapsed": false
   },
   "id": "a44cb4f51c452157",
   "execution_count": null
  },
  {
   "cell_type": "code",
   "outputs": [],
   "source": [
    "icuproc_df_unique.to_csv(\n",
    "    '/home/asem/GP/ICENODE/lib/ehr/resources/mimic4_aki_study/icu_procedures_itemid_selection.csv.gz',\n",
    "    compression='gzip', index=False)"
   ],
   "metadata": {
    "collapsed": false
   },
   "id": "a0ab3b92480cfa1e",
   "execution_count": null
  },
  {
   "cell_type": "code",
   "outputs": [],
   "source": [
    "unique_dx_codes.to_csv('/home/asem/GP/ICENODE/lib/ehr/resources/mimic4_aki_study/dx_icd_version_selection.csv',\n",
    "                       index=False)"
   ],
   "metadata": {
    "collapsed": false
   },
   "id": "365d8f9036c4caba",
   "execution_count": null
  },
  {
   "cell_type": "code",
   "outputs": [],
   "source": [
    "q = \"\"\"\n",
    "select icd_code, icd_version, long_title as description from mimiciv_hosp.d_icd_procedures \n",
    "\"\"\"\n",
    "hosp_proc_df = pd.read_sql_query(q, con, dtype=str)\n",
    "hosp_proc_df = hosp_proc_df[hosp_proc_df.description.isin(hosp_proc_selection_labels)]\n",
    "hosp_proc_df.to_csv('/home/asem/GP/ICENODE/lib/ehr/resources/mimic4_aki_study/hosp_procedures_icd_selection.csv',\n",
    "                    index=False)"
   ],
   "metadata": {
    "collapsed": false
   },
   "id": "51304e94e9789815",
   "execution_count": null
  },
  {
   "cell_type": "code",
   "outputs": [],
   "source": [
    "icu_input_labels_df = pd.DataFrame({'label': int_input_grouper.label.unique()})\n",
    "icu_input_df = input_df[['itemid', 'label']].reset_index(drop=True).drop_duplicates()"
   ],
   "metadata": {
    "collapsed": false
   },
   "id": "3d6639236047ffe4",
   "execution_count": null
  },
  {
   "cell_type": "code",
   "outputs": [],
   "source": [
    "icu_input_labels_df"
   ],
   "metadata": {
    "collapsed": false
   },
   "id": "db7cf97721692ea6",
   "execution_count": null
  },
  {
   "cell_type": "code",
   "outputs": [],
   "source": [
    "icu_input_df"
   ],
   "metadata": {
    "collapsed": false
   },
   "id": "64e3d162c5cc8372",
   "execution_count": null
  },
  {
   "cell_type": "code",
   "outputs": [],
   "source": [
    "icu_input_labels_df = pd.merge(icu_input_labels_df, icu_input_df,\n",
    "                               left_on='label', right_on='label', how='inner')"
   ],
   "metadata": {
    "collapsed": false
   },
   "id": "d8b23559747851fa",
   "execution_count": null
  },
  {
   "cell_type": "code",
   "outputs": [],
   "source": [
    "icu_input_labels_df = icu_input_labels_df.astype({'itemid': 'int64'}).astype({'itemid': str})"
   ],
   "metadata": {
    "collapsed": false
   },
   "id": "93ce26268d5b41bd",
   "execution_count": null
  },
  {
   "cell_type": "code",
   "outputs": [],
   "source": [
    "icu_input_labels_df"
   ],
   "metadata": {
    "collapsed": false
   },
   "id": "1f51322edf5518f6",
   "execution_count": null
  },
  {
   "cell_type": "code",
   "outputs": [],
   "source": [
    "icu_input_labels_df.to_csv('mimic4_aki_icu_inputs_itemid_selection.csv.gz', compression='gzip')"
   ],
   "metadata": {
    "collapsed": false
   },
   "id": "507b327a846c817c",
   "execution_count": null
  },
  {
   "cell_type": "code",
   "outputs": [],
   "source": [
    "icu_input_labels_df.itemid.nunique()"
   ],
   "metadata": {
    "collapsed": false
   },
   "id": "a14db44e247307ea",
   "execution_count": null
  },
  {
   "cell_type": "code",
   "outputs": [],
   "source": [],
   "metadata": {
    "collapsed": false
   },
   "id": "af112ddcfd46cd9b"
  }
 ],
 "metadata": {
  "kernelspec": {
   "display_name": "Python 3 (ipykernel)",
   "language": "python",
   "name": "python3"
  },
  "language_info": {
   "codemirror_mode": {
    "name": "ipython",
    "version": 3
   },
   "file_extension": ".py",
   "mimetype": "text/x-python",
   "name": "python",
   "nbconvert_exporter": "python",
   "pygments_lexer": "ipython3",
   "version": "3.9.17"
  }
 },
 "nbformat": 4,
 "nbformat_minor": 5
}
