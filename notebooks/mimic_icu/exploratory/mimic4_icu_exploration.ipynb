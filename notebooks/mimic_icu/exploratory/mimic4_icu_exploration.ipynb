{
 "cells": [
  {
   "cell_type": "code",
   "execution_count": 1,
   "id": "5a0973b9",
   "metadata": {
    "ExecuteTime": {
     "end_time": "2024-04-18T18:04:39.867871Z",
     "start_time": "2024-04-18T18:04:36.222938Z"
    }
   },
   "outputs": [],
   "source": [
    "%load_ext autoreload\n",
    "%autoreload 2\n",
    "\n",
    "import sys\n",
    "from collections import OrderedDict\n",
    "\n",
    "import matplotlib.pyplot as plt\n",
    "import numpy as np\n",
    "import pandas as pd\n",
    "\n",
    "sys.path.append(\"../../..\")\n",
    "\n",
    "import lib.ehr.example_datasets.mimiciv_aki as m4aki\n",
    "from lib.ehr.tvx_ehr import TVxEHR\n",
    "from lib.utils import modified_environ, write_config\n"
   ]
  },
  {
   "cell_type": "code",
   "execution_count": 2,
   "id": "c5a9fd4b",
   "metadata": {
    "ExecuteTime": {
     "end_time": "2024-04-18T18:04:39.889356Z",
     "start_time": "2024-04-18T18:04:39.868793Z"
    }
   },
   "outputs": [],
   "source": [
    "# create a database connection\n",
    "sqluser = 'postgres'\n",
    "dbname = 'mimiciv'\n",
    "hostname = 'localhost'\n",
    "password = 'qwerasdf'\n",
    "port = '5432'\n",
    "\n",
    "url = f'postgresql+psycopg2://{sqluser}:{password}@{hostname}:{port}/{dbname}'\n",
    "\n",
    "with modified_environ(MIMICIV_URL=url):\n",
    "    mimiciv_config = m4aki.AKIMIMICIVDatasetConfig()\n",
    "    tvx_config = m4aki.TVxAKIMIMICIVDatasetConfig()\n",
    "\n",
    "    write_config(mimiciv_config.to_dict(), 'dataset_mimiciv_aki_config.json')\n",
    "    write_config(tvx_config.to_dict(), 'tvx_mimiciv_aki_config.json')\n"
   ]
  },
  {
   "cell_type": "code",
   "execution_count": 3,
   "id": "8448e76db65f2acd",
   "metadata": {
    "ExecuteTime": {
     "end_time": "2024-04-18T18:10:50.722946Z",
     "start_time": "2024-04-18T18:04:39.890087Z"
    },
    "collapsed": false,
    "jupyter": {
     "outputs_hidden": false
    }
   },
   "outputs": [],
   "source": [
    "# with modified_environ(MIMICIV_URL=url):\n",
    "#     dataset = m4aki.AKIMIMICIVDataset(config=mimiciv_config)           \n",
    "# dataset = dataset.execute_pipeline()\n",
    "# tvx = m4aki.TVxAKIMIMICIVDataset(config=tvx_config, dataset=dataset)\n",
    "# tvx = tvx.execute_pipeline()"
   ]
  },
  {
   "cell_type": "code",
   "execution_count": 4,
   "id": "912bbdd5-496b-4a1f-8561-3ec6ee5a5541",
   "metadata": {},
   "outputs": [],
   "source": [
    "# tvx.dataset.pipeline_report.to_csv('dataset_pipeline_report.csv')\n",
    "# tvx.pipeline_report.to_csv('tvx_pipeline_report.csv')\n",
    "# tvx.save('tvx_aki.h5', True)"
   ]
  },
  {
   "cell_type": "code",
   "execution_count": 5,
   "id": "42ee2530-aa19-4c36-aaa3-1853b21d4ce1",
   "metadata": {},
   "outputs": [],
   "source": [
    "# tvx = m4aki.TVxAKIMIMICIVDataset.load('tvx_aki.h5')"
   ]
  },
  {
   "cell_type": "code",
   "execution_count": 6,
   "id": "7859050a-f14f-49f0-ae4b-fac996b86fec",
   "metadata": {},
   "outputs": [],
   "source": [
    "# from lib.ehr.tvx_transformations import TrainingSplitGroups\n",
    "# tvx_list = TrainingSplitGroups()(tvx, n_groups=10, seed=0)"
   ]
  },
  {
   "cell_type": "code",
   "execution_count": 7,
   "id": "529f5271-f65e-4d07-9fd4-c3e4a2e63d11",
   "metadata": {},
   "outputs": [],
   "source": [
    "# for i, tvx_item in enumerate(tvx_list):\n",
    "#     tvx_item.save(f'tvx_aki_training_groups/tvx_aki_{i}.h5', True)"
   ]
  },
  {
   "cell_type": "code",
   "execution_count": 8,
   "id": "840e563f-5165-464f-b63c-bbe681742ee8",
   "metadata": {},
   "outputs": [],
   "source": [
    "tvx0 = m4aki.TVxAKIMIMICIVDataset.load('tvx_aki_training_groups/tvx_aki_0.h5')"
   ]
  },
  {
   "cell_type": "code",
   "execution_count": 9,
   "id": "dfd4a0e3-0164-4e7d-b61a-4d49e7e246e4",
   "metadata": {},
   "outputs": [
    {
     "data": {
      "text/plain": [
       "3006"
      ]
     },
     "execution_count": 9,
     "metadata": {},
     "output_type": "execute_result"
    }
   ],
   "source": [
    "len(tvx0.subjects)"
   ]
  },
  {
   "cell_type": "code",
   "execution_count": 20,
   "id": "f3b7e79a-5f92-4f02-9b18-962600f406c2",
   "metadata": {},
   "outputs": [],
   "source": [
    "from lib.ml.embeddings import InICENODEEmbeddingsConfig, InterventionsEmbeddingsConfig, AdmissionSequentialEmbeddingsConfig\n",
    "from lib.ml.in_models import InpatientModelConfig, InICENODELite, InGRU\n",
    "from lib.ml.model import Precomputes"
   ]
  },
  {
   "cell_type": "code",
   "execution_count": 21,
   "id": "5a9e5aad-f965-4027-9b4e-fbe0c6cca3d4",
   "metadata": {},
   "outputs": [],
   "source": [
    "emb_config = InICENODEEmbeddingsConfig(dx_codes=50, demographic=10, \n",
    "                                       interventions=InterventionsEmbeddingsConfig(icu_inputs=10,\n",
    "                                                                                   icu_procedures=10,\n",
    "                                                                                   hosp_procedures=10,\n",
    "                                                                                   interventions=20))\n",
    "\n",
    "gru_emb_config = AdmissionSequentialEmbeddingsConfig(dx_codes=50, demographic=10,\n",
    "                                                     observables=30, sequence=50)\n",
    "\n",
    "model_config = InpatientModelConfig(state=50, lead_predictor='monotonic')\n",
    "\n",
    "gru_model_config = model_config"
   ]
  },
  {
   "cell_type": "code",
   "execution_count": 22,
   "id": "95b9bfcc-388a-44f6-94d2-a0100f68a6dc",
   "metadata": {},
   "outputs": [],
   "source": [
    "import jax.random as jrandom\n",
    "\n",
    "model = InICENODELite.from_tvx_ehr(tvx_ehr=tvx0, config=model_config, embeddings_config=emb_config)                  "
   ]
  },
  {
   "cell_type": "code",
   "execution_count": 23,
   "id": "846ea238-159d-47f1-988d-22fccc6864d9",
   "metadata": {},
   "outputs": [],
   "source": [
    "gru_model = InGRU.from_tvx_ehr(tvx_ehr=tvx0, config=gru_model_config, embeddings_config=gru_emb_config)\n"
   ]
  },
  {
   "cell_type": "code",
   "execution_count": 25,
   "id": "9b0f2b27-c15a-4a00-8541-9e7e0a3d9c88",
   "metadata": {},
   "outputs": [
    {
     "data": {
      "text/plain": [
       "{'dx_codes': 50,\n",
       " 'interventions': None,\n",
       " 'demographic': 10,\n",
       " 'observables': 30,\n",
       " 'sequence': 50,\n",
       " '_type': 'AdmissionSequentialEmbeddingsConfig'}"
      ]
     },
     "execution_count": 25,
     "metadata": {},
     "output_type": "execute_result"
    }
   ],
   "source": [
    "gru_emb_config.to_dict()"
   ]
  },
  {
   "cell_type": "code",
   "execution_count": 24,
   "id": "a3a6c402-313f-4e2b-967d-6c34cc4f1766",
   "metadata": {},
   "outputs": [
    {
     "data": {
      "text/plain": [
       "{'state': 50, 'lead_predictor': 'monotonic', '_type': 'InpatientModelConfig'}"
      ]
     },
     "execution_count": 24,
     "metadata": {},
     "output_type": "execute_result"
    }
   ],
   "source": [
    "gru_model_config.to_dict()"
   ]
  },
  {
   "cell_type": "code",
   "execution_count": null,
   "id": "4539aba8-9819-4562-bbef-14da46b3387d",
   "metadata": {},
   "outputs": [],
   "source": [
    "tvx0.config.leading_observable"
   ]
  },
  {
   "cell_type": "code",
   "execution_count": null,
   "id": "610b56fd-e016-4eac-9c66-03d05c7a13eb",
   "metadata": {},
   "outputs": [],
   "source": [
    "tvx0.subjects['10002760'].admissions[0]"
   ]
  },
  {
   "cell_type": "code",
   "execution_count": null,
   "id": "beb746d3-f091-4a25-84a6-252b0ebce427",
   "metadata": {},
   "outputs": [],
   "source": [
    "adm = tvx0.subjects['10002760'].admissions[0]\n",
    "admission_emb = model.f_emb(adm, tvx0.admission_demographics[adm.admission_id])"
   ]
  },
  {
   "cell_type": "code",
   "execution_count": null,
   "id": "3e1e3707-1ec3-4b55-aefb-2dd7f89ce83a",
   "metadata": {},
   "outputs": [],
   "source": [
    "adm.leading_observable.mask"
   ]
  },
  {
   "cell_type": "code",
   "execution_count": null,
   "id": "8b4f074a-4534-47af-a941-5e91b4c3dd54",
   "metadata": {},
   "outputs": [],
   "source": [
    "out = model(admission=adm, embedded_admission=admission_emb, precomputes=Precomputes())"
   ]
  },
  {
   "cell_type": "code",
   "execution_count": null,
   "id": "0279c0f4-e79c-4765-ae5e-04130c13eaa3",
   "metadata": {},
   "outputs": [],
   "source": [
    "out.leading_observable.value"
   ]
  },
  {
   "cell_type": "code",
   "execution_count": null,
   "id": "0785a2d2-4049-477a-a9cb-aadf8c717c42",
   "metadata": {},
   "outputs": [],
   "source": [
    "from lib.ml.experiment import Experiment, ExperimentConfig\n",
    "from lib.ml.trainer import Trainer, TrainerConfig, OptimizerConfig, ReportingConfig, LossMixer\n",
    "\n",
    "opt = OptimizerConfig()\n",
    "trainer_config=TrainerConfig(obs_loss='mse', lead_loss='mse', optimizer=opt)\n",
    "reporting_config = ReportingConfig(output_dir='test',\n",
    "                                   console=True,\n",
    "                                   parameter_snapshots=True,\n",
    "                                   config_json=True,\n",
    "                                   model_stats=False)\n",
    "loss_mix = LossMixer()\n"
   ]
  },
  {
   "cell_type": "code",
   "execution_count": null,
   "id": "96970763-5b7a-459e-b579-291d51da72cd",
   "metadata": {},
   "outputs": [],
   "source": [
    "experiment_config = ExperimentConfig(model=model_config,\n",
    "                                       embeddings=emb_config,\n",
    "                                       trainer=trainer_config,\n",
    "                                       model_classname='InICENODE',\n",
    "                                       trainer_classname='Trainer',\n",
    "                                       reporting=reporting_config,\n",
    "                                       model_snapshot_frequency=10,\n",
    "                                     continue_training=True,\n",
    "                                     loss_mixer=loss_mix)\n",
    "                                     \n",
    "               \n",
    "               "
   ]
  },
  {
   "cell_type": "code",
   "execution_count": null,
   "id": "def849ef-ee04-40f1-97be-a0db4f73c0c6",
   "metadata": {},
   "outputs": [],
   "source": [
    "from lib.utils import write_config\n",
    "write_config(experiment_config.to_dict(), 'config_template.json')"
   ]
  },
  {
   "cell_type": "code",
   "execution_count": null,
   "id": "6968eefa-500c-4b79-9987-967e1e9ff21f",
   "metadata": {},
   "outputs": [],
   "source": []
  }
 ],
 "metadata": {
  "kernelspec": {
   "display_name": "Python 3 (ipykernel)",
   "language": "python",
   "name": "python3"
  },
  "language_info": {
   "codemirror_mode": {
    "name": "ipython",
    "version": 3
   },
   "file_extension": ".py",
   "mimetype": "text/x-python",
   "name": "python",
   "nbconvert_exporter": "python",
   "pygments_lexer": "ipython3",
   "version": "3.11.8"
  }
 },
 "nbformat": 4,
 "nbformat_minor": 5
}
