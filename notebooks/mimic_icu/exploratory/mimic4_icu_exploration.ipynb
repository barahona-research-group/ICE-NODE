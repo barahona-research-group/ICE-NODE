{
 "cells": [
  {
   "cell_type": "code",
   "execution_count": 1,
   "id": "5a0973b9",
   "metadata": {
    "ExecuteTime": {
     "end_time": "2024-04-15T20:54:52.859408Z",
     "start_time": "2024-04-15T20:54:49.805814Z"
    }
   },
   "outputs": [],
   "source": [
    "%load_ext autoreload\n",
    "%autoreload 2\n",
    "\n",
    "import sys\n",
    "from collections import OrderedDict\n",
    "\n",
    "import matplotlib.pyplot as plt\n",
    "import numpy as np\n",
    "import pandas as pd\n",
    "\n",
    "sys.path.append(\"../../..\")\n",
    "\n",
    "import lib.ehr.example_datasets.mimiciv_aki as m4aki\n",
    "\n",
    "from lib.utils import modified_environ, write_config"
   ]
  },
  {
   "cell_type": "code",
   "outputs": [],
   "source": [
    "# create a database connection\n",
    "sqluser = 'postgres'\n",
    "dbname = 'mimiciv'\n",
    "hostname = 'localhost'\n",
    "password = 'qwerasdf'\n",
    "port = '5432'\n",
    "\n",
    "url = f'postgresql+psycopg2://{sqluser}:{password}@{hostname}:{port}/{dbname}'\n",
    "\n",
    "with modified_environ(MIMICIV_URL=url):\n",
    "    mimiciv_config = m4aki.AKIMIMICIVDatasetConfig()\n",
    "    tvx_config = m4aki.TVxAKIMIMICIVDatasetConfig()\n",
    "\n",
    "    write_config(mimiciv_config.to_dict(), 'dataset_mimiciv_aki_config.json')\n",
    "    write_config(tvx_config.to_dict(), 'tvx_mimiciv_aki_config.json')\n"
   ],
   "metadata": {
    "ExecuteTime": {
     "end_time": "2024-04-15T20:54:52.879217Z",
     "start_time": "2024-04-15T20:54:52.860350Z"
    }
   },
   "id": "c5a9fd4b",
   "execution_count": 2
  },
  {
   "cell_type": "code",
   "outputs": [
    {
     "ename": "AssertionError",
     "evalue": "Scheme description must be a FrozenDict11.",
     "output_type": "error",
     "traceback": [
      "\u001B[0;31m---------------------------------------------------------------------------\u001B[0m",
      "\u001B[0;31mAssertionError\u001B[0m                            Traceback (most recent call last)",
      "Cell \u001B[0;32mIn[3], line 2\u001B[0m\n\u001B[1;32m      1\u001B[0m \u001B[38;5;28;01mwith\u001B[39;00m modified_environ(MIMICIV_URL\u001B[38;5;241m=\u001B[39murl):\n\u001B[0;32m----> 2\u001B[0m     dataset \u001B[38;5;241m=\u001B[39m m4aki\u001B[38;5;241m.\u001B[39mAKIMIMICIVDataset(config\u001B[38;5;241m=\u001B[39mmimiciv_config)\n",
      "File \u001B[0;32m~/GP/env/icenode-dev/lib/python3.11/site-packages/equinox/_module.py:514\u001B[0m, in \u001B[0;36m_ModuleMeta.__call__\u001B[0;34m(cls, *args, **kwargs)\u001B[0m\n\u001B[1;32m    512\u001B[0m initable_cls \u001B[38;5;241m=\u001B[39m _make_initable(\u001B[38;5;28mcls\u001B[39m, \u001B[38;5;28mcls\u001B[39m\u001B[38;5;241m.\u001B[39m\u001B[38;5;21m__init__\u001B[39m, post_init, wraps\u001B[38;5;241m=\u001B[39m\u001B[38;5;28;01mFalse\u001B[39;00m)\n\u001B[1;32m    513\u001B[0m \u001B[38;5;66;03m# [Step 2] Instantiate the class as normal.\u001B[39;00m\n\u001B[0;32m--> 514\u001B[0m \u001B[38;5;28mself\u001B[39m \u001B[38;5;241m=\u001B[39m \u001B[38;5;28msuper\u001B[39m(_ModuleMeta, initable_cls)\u001B[38;5;241m.\u001B[39m\u001B[38;5;21m__call__\u001B[39m(\u001B[38;5;241m*\u001B[39margs, \u001B[38;5;241m*\u001B[39m\u001B[38;5;241m*\u001B[39mkwargs)\n\u001B[1;32m    515\u001B[0m \u001B[38;5;28;01massert\u001B[39;00m \u001B[38;5;129;01mnot\u001B[39;00m _is_abstract(\u001B[38;5;28mcls\u001B[39m)\n\u001B[1;32m    516\u001B[0m \u001B[38;5;66;03m# [Step 3] Check that all fields are occupied.\u001B[39;00m\n",
      "    \u001B[0;31m[... skipping hidden 1 frame]\u001B[0m\n",
      "File \u001B[0;32m<string>:7\u001B[0m, in \u001B[0;36m__init__\u001B[0;34m(self, config, pipeline_report, tables, scheme_manager)\u001B[0m\n",
      "File \u001B[0;32m~/GP/env/icenode-dev/lib/python3.11/site-packages/equinox/_module.py:313\u001B[0m, in \u001B[0;36m_ModuleMeta.__new__.<locals>.__post_init__\u001B[0;34m(self, *args, **kwargs)\u001B[0m\n\u001B[1;32m    310\u001B[0m \u001B[38;5;28;01mif\u001B[39;00m \u001B[38;5;28mself\u001B[39m\u001B[38;5;241m.\u001B[39m\u001B[38;5;18m__class__\u001B[39m\u001B[38;5;241m.\u001B[39m__post_init__ \u001B[38;5;129;01mis\u001B[39;00m \u001B[38;5;28mcls\u001B[39m\u001B[38;5;241m.\u001B[39m__post_init__:\n\u001B[1;32m    311\u001B[0m     \u001B[38;5;66;03m# Convert all fields currently available.\u001B[39;00m\n\u001B[1;32m    312\u001B[0m     _convert_fields(\u001B[38;5;28mself\u001B[39m, init\u001B[38;5;241m=\u001B[39m\u001B[38;5;28;01mTrue\u001B[39;00m)\n\u001B[0;32m--> 313\u001B[0m post_init(\u001B[38;5;28mself\u001B[39m, \u001B[38;5;241m*\u001B[39margs, \u001B[38;5;241m*\u001B[39m\u001B[38;5;241m*\u001B[39mkwargs)  \u001B[38;5;66;03m# pyright: ignore\u001B[39;00m\n\u001B[1;32m    314\u001B[0m \u001B[38;5;28;01mif\u001B[39;00m \u001B[38;5;28mself\u001B[39m\u001B[38;5;241m.\u001B[39m\u001B[38;5;18m__class__\u001B[39m\u001B[38;5;241m.\u001B[39m__post_init__ \u001B[38;5;129;01mis\u001B[39;00m \u001B[38;5;28mcls\u001B[39m\u001B[38;5;241m.\u001B[39m__post_init__:\n\u001B[1;32m    315\u001B[0m     \u001B[38;5;66;03m# Convert all the fields filled in by `__post_init__` as well.\u001B[39;00m\n\u001B[1;32m    316\u001B[0m     _convert_fields(\u001B[38;5;28mself\u001B[39m, init\u001B[38;5;241m=\u001B[39m\u001B[38;5;28;01mFalse\u001B[39;00m)\n",
      "File \u001B[0;32m~/GP/env/icenode-dev/lib/python3.11/site-packages/equinox/_module.py:313\u001B[0m, in \u001B[0;36m_ModuleMeta.__new__.<locals>.__post_init__\u001B[0;34m(self, *args, **kwargs)\u001B[0m\n\u001B[1;32m    310\u001B[0m \u001B[38;5;28;01mif\u001B[39;00m \u001B[38;5;28mself\u001B[39m\u001B[38;5;241m.\u001B[39m\u001B[38;5;18m__class__\u001B[39m\u001B[38;5;241m.\u001B[39m__post_init__ \u001B[38;5;129;01mis\u001B[39;00m \u001B[38;5;28mcls\u001B[39m\u001B[38;5;241m.\u001B[39m__post_init__:\n\u001B[1;32m    311\u001B[0m     \u001B[38;5;66;03m# Convert all fields currently available.\u001B[39;00m\n\u001B[1;32m    312\u001B[0m     _convert_fields(\u001B[38;5;28mself\u001B[39m, init\u001B[38;5;241m=\u001B[39m\u001B[38;5;28;01mTrue\u001B[39;00m)\n\u001B[0;32m--> 313\u001B[0m post_init(\u001B[38;5;28mself\u001B[39m, \u001B[38;5;241m*\u001B[39margs, \u001B[38;5;241m*\u001B[39m\u001B[38;5;241m*\u001B[39mkwargs)  \u001B[38;5;66;03m# pyright: ignore\u001B[39;00m\n\u001B[1;32m    314\u001B[0m \u001B[38;5;28;01mif\u001B[39;00m \u001B[38;5;28mself\u001B[39m\u001B[38;5;241m.\u001B[39m\u001B[38;5;18m__class__\u001B[39m\u001B[38;5;241m.\u001B[39m__post_init__ \u001B[38;5;129;01mis\u001B[39;00m \u001B[38;5;28mcls\u001B[39m\u001B[38;5;241m.\u001B[39m__post_init__:\n\u001B[1;32m    315\u001B[0m     \u001B[38;5;66;03m# Convert all the fields filled in by `__post_init__` as well.\u001B[39;00m\n\u001B[1;32m    316\u001B[0m     _convert_fields(\u001B[38;5;28mself\u001B[39m, init\u001B[38;5;241m=\u001B[39m\u001B[38;5;28;01mFalse\u001B[39;00m)\n",
      "    \u001B[0;31m[... skipping similar frames: _ModuleMeta.__new__.<locals>.__post_init__ at line 313 (1 times)]\u001B[0m\n",
      "File \u001B[0;32m~/GP/env/icenode-dev/lib/python3.11/site-packages/equinox/_module.py:313\u001B[0m, in \u001B[0;36m_ModuleMeta.__new__.<locals>.__post_init__\u001B[0;34m(self, *args, **kwargs)\u001B[0m\n\u001B[1;32m    310\u001B[0m \u001B[38;5;28;01mif\u001B[39;00m \u001B[38;5;28mself\u001B[39m\u001B[38;5;241m.\u001B[39m\u001B[38;5;18m__class__\u001B[39m\u001B[38;5;241m.\u001B[39m__post_init__ \u001B[38;5;129;01mis\u001B[39;00m \u001B[38;5;28mcls\u001B[39m\u001B[38;5;241m.\u001B[39m__post_init__:\n\u001B[1;32m    311\u001B[0m     \u001B[38;5;66;03m# Convert all fields currently available.\u001B[39;00m\n\u001B[1;32m    312\u001B[0m     _convert_fields(\u001B[38;5;28mself\u001B[39m, init\u001B[38;5;241m=\u001B[39m\u001B[38;5;28;01mTrue\u001B[39;00m)\n\u001B[0;32m--> 313\u001B[0m post_init(\u001B[38;5;28mself\u001B[39m, \u001B[38;5;241m*\u001B[39margs, \u001B[38;5;241m*\u001B[39m\u001B[38;5;241m*\u001B[39mkwargs)  \u001B[38;5;66;03m# pyright: ignore\u001B[39;00m\n\u001B[1;32m    314\u001B[0m \u001B[38;5;28;01mif\u001B[39;00m \u001B[38;5;28mself\u001B[39m\u001B[38;5;241m.\u001B[39m\u001B[38;5;18m__class__\u001B[39m\u001B[38;5;241m.\u001B[39m__post_init__ \u001B[38;5;129;01mis\u001B[39;00m \u001B[38;5;28mcls\u001B[39m\u001B[38;5;241m.\u001B[39m__post_init__:\n\u001B[1;32m    315\u001B[0m     \u001B[38;5;66;03m# Convert all the fields filled in by `__post_init__` as well.\u001B[39;00m\n\u001B[1;32m    316\u001B[0m     _convert_fields(\u001B[38;5;28mself\u001B[39m, init\u001B[38;5;241m=\u001B[39m\u001B[38;5;28;01mFalse\u001B[39;00m)\n",
      "File \u001B[0;32m~/GP/ICENODE/lib/ehr/dataset.py:690\u001B[0m, in \u001B[0;36mDataset.__post_init__\u001B[0;34m(self)\u001B[0m\n\u001B[1;32m    687\u001B[0m \u001B[38;5;28;01mdef\u001B[39;00m \u001B[38;5;21m__post_init__\u001B[39m(\u001B[38;5;28mself\u001B[39m):\n\u001B[1;32m    688\u001B[0m     \u001B[38;5;66;03m# TODO: offload table loading to the pipeline.\u001B[39;00m\n\u001B[1;32m    689\u001B[0m     \u001B[38;5;28;01mif\u001B[39;00m \u001B[38;5;28mself\u001B[39m\u001B[38;5;241m.\u001B[39mtables \u001B[38;5;129;01mis\u001B[39;00m \u001B[38;5;28;01mNone\u001B[39;00m:\n\u001B[0;32m--> 690\u001B[0m         \u001B[38;5;28mself\u001B[39m\u001B[38;5;241m.\u001B[39mtables \u001B[38;5;241m=\u001B[39m \u001B[38;5;28mself\u001B[39m\u001B[38;5;241m.\u001B[39mload_tables(\u001B[38;5;28mself\u001B[39m\u001B[38;5;241m.\u001B[39mconfig, \u001B[38;5;28mself\u001B[39m\u001B[38;5;241m.\u001B[39mscheme)\n\u001B[1;32m    692\u001B[0m     \u001B[38;5;28mself\u001B[39m\u001B[38;5;241m.\u001B[39mscheme_manager \u001B[38;5;241m=\u001B[39m \u001B[38;5;28mself\u001B[39m\u001B[38;5;241m.\u001B[39mscheme\u001B[38;5;241m.\u001B[39mcontext_view\u001B[38;5;241m.\u001B[39m_manager\n",
      "File \u001B[0;32m~/GP/env/icenode-dev/lib/python3.11/functools.py:1001\u001B[0m, in \u001B[0;36mcached_property.__get__\u001B[0;34m(self, instance, owner)\u001B[0m\n\u001B[1;32m    999\u001B[0m val \u001B[38;5;241m=\u001B[39m cache\u001B[38;5;241m.\u001B[39mget(\u001B[38;5;28mself\u001B[39m\u001B[38;5;241m.\u001B[39mattrname, _NOT_FOUND)\n\u001B[1;32m   1000\u001B[0m \u001B[38;5;28;01mif\u001B[39;00m val \u001B[38;5;129;01mis\u001B[39;00m _NOT_FOUND:\n\u001B[0;32m-> 1001\u001B[0m     val \u001B[38;5;241m=\u001B[39m \u001B[38;5;28mself\u001B[39m\u001B[38;5;241m.\u001B[39mfunc(instance)\n\u001B[1;32m   1002\u001B[0m     \u001B[38;5;28;01mtry\u001B[39;00m:\n\u001B[1;32m   1003\u001B[0m         cache[\u001B[38;5;28mself\u001B[39m\u001B[38;5;241m.\u001B[39mattrname] \u001B[38;5;241m=\u001B[39m val\n",
      "File \u001B[0;32m~/GP/ICENODE/lib/ehr/dataset.py:740\u001B[0m, in \u001B[0;36mDataset.scheme\u001B[0;34m(self)\u001B[0m\n\u001B[1;32m    738\u001B[0m \u001B[38;5;129m@cached_property\u001B[39m\n\u001B[1;32m    739\u001B[0m \u001B[38;5;28;01mdef\u001B[39;00m \u001B[38;5;21mscheme\u001B[39m(\u001B[38;5;28mself\u001B[39m) \u001B[38;5;241m-\u001B[39m\u001B[38;5;241m>\u001B[39m DatasetScheme:\n\u001B[0;32m--> 740\u001B[0m     scheme_manager \u001B[38;5;241m=\u001B[39m \u001B[38;5;28mself\u001B[39m\u001B[38;5;241m.\u001B[39mscheme_manager \u001B[38;5;129;01mor\u001B[39;00m \u001B[38;5;28mself\u001B[39m\u001B[38;5;241m.\u001B[39mload_scheme_manager(\u001B[38;5;28mself\u001B[39m\u001B[38;5;241m.\u001B[39mconfig)\n\u001B[1;32m    741\u001B[0m     \u001B[38;5;28;01mreturn\u001B[39;00m DatasetScheme(config\u001B[38;5;241m=\u001B[39m\u001B[38;5;28mself\u001B[39m\u001B[38;5;241m.\u001B[39mconfig\u001B[38;5;241m.\u001B[39mscheme,\n\u001B[1;32m    742\u001B[0m                          context_view\u001B[38;5;241m=\u001B[39mscheme_manager\u001B[38;5;241m.\u001B[39mview())\n",
      "File \u001B[0;32m~/GP/ICENODE/lib/ehr/example_datasets/mimiciv.py:954\u001B[0m, in \u001B[0;36mMIMICIVDataset.load_scheme_manager\u001B[0;34m(cls, config)\u001B[0m\n\u001B[1;32m    951\u001B[0m \u001B[38;5;129m@classmethod\u001B[39m\n\u001B[1;32m    952\u001B[0m \u001B[38;5;28;01mdef\u001B[39;00m \u001B[38;5;21mload_scheme_manager\u001B[39m(\u001B[38;5;28mcls\u001B[39m, config: MIMICIVDatasetConfig) \u001B[38;5;241m-\u001B[39m\u001B[38;5;241m>\u001B[39m CodingSchemesManager:\n\u001B[1;32m    953\u001B[0m     sql \u001B[38;5;241m=\u001B[39m MIMICIVSQLTablesInterface(config\u001B[38;5;241m.\u001B[39mtables)\n\u001B[0;32m--> 954\u001B[0m     \u001B[38;5;28;01mreturn\u001B[39;00m sql\u001B[38;5;241m.\u001B[39mdataset_scheme_manager_from_selection(config\u001B[38;5;241m=\u001B[39mconfig\u001B[38;5;241m.\u001B[39mscheme)\n",
      "    \u001B[0;31m[... skipping hidden 1 frame]\u001B[0m\n",
      "File \u001B[0;32m~/GP/ICENODE/lib/ehr/example_datasets/mimiciv.py:873\u001B[0m, in \u001B[0;36mMIMICIVSQLTablesInterface.dataset_scheme_manager_from_selection\u001B[0;34m(self, config)\u001B[0m\n\u001B[1;32m    864\u001B[0m \u001B[38;5;250m\u001B[39m\u001B[38;5;124;03m\"\"\"\u001B[39;00m\n\u001B[1;32m    865\u001B[0m \u001B[38;5;124;03mCreate a dataset scheme from the given config.\u001B[39;00m\n\u001B[1;32m    866\u001B[0m \u001B[38;5;124;03mTODO: document me.\u001B[39;00m\n\u001B[1;32m    867\u001B[0m \u001B[38;5;124;03mReturns:\u001B[39;00m\n\u001B[1;32m    868\u001B[0m \u001B[38;5;124;03m    (CodingScheme.DatasetScheme) A new scheme that is also registered in the current runtime.\u001B[39;00m\n\u001B[1;32m    869\u001B[0m \u001B[38;5;124;03m\"\"\"\u001B[39;00m\n\u001B[1;32m    870\u001B[0m manager \u001B[38;5;241m=\u001B[39m setup_standard_icd_ccs(CodingSchemesManager(),\n\u001B[1;32m    871\u001B[0m                                  scheme_selection\u001B[38;5;241m=\u001B[39mCCSICDSchemeSelection\u001B[38;5;241m.\u001B[39mall(),\n\u001B[1;32m    872\u001B[0m                                  outcome_selection\u001B[38;5;241m=\u001B[39mCCSICDOutcomeSelection\u001B[38;5;241m.\u001B[39mall())\n\u001B[0;32m--> 873\u001B[0m manager \u001B[38;5;241m=\u001B[39m \u001B[38;5;28mself\u001B[39m\u001B[38;5;241m.\u001B[39mregister_gender_scheme(manager, config)\n\u001B[1;32m    874\u001B[0m manager \u001B[38;5;241m=\u001B[39m \u001B[38;5;28mself\u001B[39m\u001B[38;5;241m.\u001B[39mregister_ethnicity_scheme(manager, config)\n\u001B[1;32m    875\u001B[0m manager \u001B[38;5;241m=\u001B[39m \u001B[38;5;28mself\u001B[39m\u001B[38;5;241m.\u001B[39mregister_icu_inputs_scheme(manager, config)\n",
      "    \u001B[0;31m[... skipping hidden 1 frame]\u001B[0m\n",
      "File \u001B[0;32m~/GP/ICENODE/lib/ehr/example_datasets/mimiciv.py:638\u001B[0m, in \u001B[0;36mMIMICIVSQLTablesInterface.register_gender_scheme\u001B[0;34m(self, manager, config)\u001B[0m\n\u001B[1;32m    634\u001B[0m \u001B[38;5;250m\u001B[39m\u001B[38;5;124;03m\"\"\"\u001B[39;00m\n\u001B[1;32m    635\u001B[0m \u001B[38;5;124;03mTODO: document me.\u001B[39;00m\n\u001B[1;32m    636\u001B[0m \u001B[38;5;124;03m\"\"\"\u001B[39;00m\n\u001B[1;32m    637\u001B[0m table \u001B[38;5;241m=\u001B[39m StaticSQLTable(\u001B[38;5;28mself\u001B[39m\u001B[38;5;241m.\u001B[39mconfig\u001B[38;5;241m.\u001B[39mstatic)\n\u001B[0;32m--> 638\u001B[0m \u001B[38;5;28;01mreturn\u001B[39;00m table\u001B[38;5;241m.\u001B[39mregister_gender_scheme(manager, config, \u001B[38;5;28mself\u001B[39m\u001B[38;5;241m.\u001B[39mcreate_engine())\n",
      "    \u001B[0;31m[... skipping hidden 1 frame]\u001B[0m\n",
      "File \u001B[0;32m~/GP/ICENODE/lib/ehr/example_datasets/mimiciv.py:414\u001B[0m, in \u001B[0;36mStaticSQLTable.register_gender_scheme\u001B[0;34m(self, manager, scheme_config, engine)\u001B[0m\n\u001B[1;32m    410\u001B[0m \u001B[38;5;28;01mdef\u001B[39;00m \u001B[38;5;21mregister_gender_scheme\u001B[39m(\u001B[38;5;28mself\u001B[39m, manager: CodingSchemesManager,\n\u001B[1;32m    411\u001B[0m                            scheme_config: MIMICIVDatasetSchemeConfig,\n\u001B[1;32m    412\u001B[0m                            engine: Engine) \u001B[38;5;241m-\u001B[39m\u001B[38;5;241m>\u001B[39m CodingSchemesManager:\n\u001B[0;32m--> 414\u001B[0m     manager \u001B[38;5;241m=\u001B[39m manager\u001B[38;5;241m.\u001B[39mregister_scheme_from_selection(name\u001B[38;5;241m=\u001B[39mscheme_config\u001B[38;5;241m.\u001B[39mgender,\n\u001B[1;32m    415\u001B[0m                                                      supported_space\u001B[38;5;241m=\u001B[39m\u001B[38;5;28mself\u001B[39m\u001B[38;5;241m.\u001B[39mgender_space(engine),\n\u001B[1;32m    416\u001B[0m                                                      code_selection\u001B[38;5;241m=\u001B[39mscheme_config\u001B[38;5;241m.\u001B[39mgender_selection,\n\u001B[1;32m    417\u001B[0m                                                      c_code\u001B[38;5;241m=\u001B[39m\u001B[38;5;28mself\u001B[39m\u001B[38;5;241m.\u001B[39mconfig\u001B[38;5;241m.\u001B[39mgender_alias,\n\u001B[1;32m    418\u001B[0m                                                      c_desc\u001B[38;5;241m=\u001B[39m\u001B[38;5;28mself\u001B[39m\u001B[38;5;241m.\u001B[39mconfig\u001B[38;5;241m.\u001B[39mgender_alias)\n\u001B[1;32m    419\u001B[0m     \u001B[38;5;28;01mif\u001B[39;00m scheme_config\u001B[38;5;241m.\u001B[39mgender_map \u001B[38;5;129;01mis\u001B[39;00m \u001B[38;5;129;01mnot\u001B[39;00m \u001B[38;5;28;01mNone\u001B[39;00m:\n\u001B[1;32m    420\u001B[0m         manager \u001B[38;5;241m=\u001B[39m manager\u001B[38;5;241m.\u001B[39mregister_target_scheme(\n\u001B[1;32m    421\u001B[0m             scheme_config\u001B[38;5;241m.\u001B[39mgender,\n\u001B[1;32m    422\u001B[0m             scheme_config\u001B[38;5;241m.\u001B[39mpropose_target_scheme_name(scheme_config\u001B[38;5;241m.\u001B[39mgender),\n\u001B[0;32m   (...)\u001B[0m\n\u001B[1;32m    425\u001B[0m             c_target_code\u001B[38;5;241m=\u001B[39mscheme_config\u001B[38;5;241m.\u001B[39mtarget_column_name(\u001B[38;5;28mself\u001B[39m\u001B[38;5;241m.\u001B[39mconfig\u001B[38;5;241m.\u001B[39mgender_alias),\n\u001B[1;32m    426\u001B[0m             c_target_desc\u001B[38;5;241m=\u001B[39mscheme_config\u001B[38;5;241m.\u001B[39mtarget_column_name(\u001B[38;5;28mself\u001B[39m\u001B[38;5;241m.\u001B[39mconfig\u001B[38;5;241m.\u001B[39mgender_alias))\n",
      "    \u001B[0;31m[... skipping hidden 1 frame]\u001B[0m\n",
      "File \u001B[0;32m~/GP/ICENODE/lib/ehr/coding_scheme.py:1312\u001B[0m, in \u001B[0;36mCodingSchemesManager.register_scheme_from_selection\u001B[0;34m(self, name, supported_space, code_selection, c_code, c_desc)\u001B[0m\n\u001B[1;32m   1310\u001B[0m \u001B[38;5;66;03m# drop=False in case c_target_code == c_target_desc.\u001B[39;00m\n\u001B[1;32m   1311\u001B[0m desc \u001B[38;5;241m=\u001B[39m supported_space\u001B[38;5;241m.\u001B[39mset_index(c_code, drop\u001B[38;5;241m=\u001B[39m\u001B[38;5;28;01mFalse\u001B[39;00m)[c_desc]\u001B[38;5;241m.\u001B[39mto_dict()\n\u001B[0;32m-> 1312\u001B[0m scheme \u001B[38;5;241m=\u001B[39m CodingScheme(name\u001B[38;5;241m=\u001B[39mname,\n\u001B[1;32m   1313\u001B[0m                       codes\u001B[38;5;241m=\u001B[39m\u001B[38;5;28mtuple\u001B[39m(\u001B[38;5;28msorted\u001B[39m(code_selection)),\n\u001B[1;32m   1314\u001B[0m                       desc\u001B[38;5;241m=\u001B[39m{k: v \u001B[38;5;28;01mfor\u001B[39;00m k, v \u001B[38;5;129;01min\u001B[39;00m desc\u001B[38;5;241m.\u001B[39mitems() \u001B[38;5;28;01mif\u001B[39;00m k \u001B[38;5;129;01min\u001B[39;00m code_selection})\n\u001B[1;32m   1315\u001B[0m \u001B[38;5;28;01mreturn\u001B[39;00m \u001B[38;5;28mself\u001B[39m\u001B[38;5;241m.\u001B[39madd_scheme(scheme)\n",
      "File \u001B[0;32m~/GP/env/icenode-dev/lib/python3.11/site-packages/equinox/_module.py:514\u001B[0m, in \u001B[0;36m_ModuleMeta.__call__\u001B[0;34m(cls, *args, **kwargs)\u001B[0m\n\u001B[1;32m    512\u001B[0m initable_cls \u001B[38;5;241m=\u001B[39m _make_initable(\u001B[38;5;28mcls\u001B[39m, \u001B[38;5;28mcls\u001B[39m\u001B[38;5;241m.\u001B[39m\u001B[38;5;21m__init__\u001B[39m, post_init, wraps\u001B[38;5;241m=\u001B[39m\u001B[38;5;28;01mFalse\u001B[39;00m)\n\u001B[1;32m    513\u001B[0m \u001B[38;5;66;03m# [Step 2] Instantiate the class as normal.\u001B[39;00m\n\u001B[0;32m--> 514\u001B[0m \u001B[38;5;28mself\u001B[39m \u001B[38;5;241m=\u001B[39m \u001B[38;5;28msuper\u001B[39m(_ModuleMeta, initable_cls)\u001B[38;5;241m.\u001B[39m\u001B[38;5;21m__call__\u001B[39m(\u001B[38;5;241m*\u001B[39margs, \u001B[38;5;241m*\u001B[39m\u001B[38;5;241m*\u001B[39mkwargs)\n\u001B[1;32m    515\u001B[0m \u001B[38;5;28;01massert\u001B[39;00m \u001B[38;5;129;01mnot\u001B[39;00m _is_abstract(\u001B[38;5;28mcls\u001B[39m)\n\u001B[1;32m    516\u001B[0m \u001B[38;5;66;03m# [Step 3] Check that all fields are occupied.\u001B[39;00m\n",
      "    \u001B[0;31m[... skipping hidden 1 frame]\u001B[0m\n",
      "File \u001B[0;32m<string>:6\u001B[0m, in \u001B[0;36m__init__\u001B[0;34m(self, name, codes, desc)\u001B[0m\n",
      "File \u001B[0;32m~/GP/env/icenode-dev/lib/python3.11/site-packages/equinox/_module.py:313\u001B[0m, in \u001B[0;36m_ModuleMeta.__new__.<locals>.__post_init__\u001B[0;34m(self, *args, **kwargs)\u001B[0m\n\u001B[1;32m    310\u001B[0m \u001B[38;5;28;01mif\u001B[39;00m \u001B[38;5;28mself\u001B[39m\u001B[38;5;241m.\u001B[39m\u001B[38;5;18m__class__\u001B[39m\u001B[38;5;241m.\u001B[39m__post_init__ \u001B[38;5;129;01mis\u001B[39;00m \u001B[38;5;28mcls\u001B[39m\u001B[38;5;241m.\u001B[39m__post_init__:\n\u001B[1;32m    311\u001B[0m     \u001B[38;5;66;03m# Convert all fields currently available.\u001B[39;00m\n\u001B[1;32m    312\u001B[0m     _convert_fields(\u001B[38;5;28mself\u001B[39m, init\u001B[38;5;241m=\u001B[39m\u001B[38;5;28;01mTrue\u001B[39;00m)\n\u001B[0;32m--> 313\u001B[0m post_init(\u001B[38;5;28mself\u001B[39m, \u001B[38;5;241m*\u001B[39margs, \u001B[38;5;241m*\u001B[39m\u001B[38;5;241m*\u001B[39mkwargs)  \u001B[38;5;66;03m# pyright: ignore\u001B[39;00m\n\u001B[1;32m    314\u001B[0m \u001B[38;5;28;01mif\u001B[39;00m \u001B[38;5;28mself\u001B[39m\u001B[38;5;241m.\u001B[39m\u001B[38;5;18m__class__\u001B[39m\u001B[38;5;241m.\u001B[39m__post_init__ \u001B[38;5;129;01mis\u001B[39;00m \u001B[38;5;28mcls\u001B[39m\u001B[38;5;241m.\u001B[39m__post_init__:\n\u001B[1;32m    315\u001B[0m     \u001B[38;5;66;03m# Convert all the fields filled in by `__post_init__` as well.\u001B[39;00m\n\u001B[1;32m    316\u001B[0m     _convert_fields(\u001B[38;5;28mself\u001B[39m, init\u001B[38;5;241m=\u001B[39m\u001B[38;5;28;01mFalse\u001B[39;00m)\n",
      "File \u001B[0;32m~/GP/env/icenode-dev/lib/python3.11/site-packages/equinox/_module.py:313\u001B[0m, in \u001B[0;36m_ModuleMeta.__new__.<locals>.__post_init__\u001B[0;34m(self, *args, **kwargs)\u001B[0m\n\u001B[1;32m    310\u001B[0m \u001B[38;5;28;01mif\u001B[39;00m \u001B[38;5;28mself\u001B[39m\u001B[38;5;241m.\u001B[39m\u001B[38;5;18m__class__\u001B[39m\u001B[38;5;241m.\u001B[39m__post_init__ \u001B[38;5;129;01mis\u001B[39;00m \u001B[38;5;28mcls\u001B[39m\u001B[38;5;241m.\u001B[39m__post_init__:\n\u001B[1;32m    311\u001B[0m     \u001B[38;5;66;03m# Convert all fields currently available.\u001B[39;00m\n\u001B[1;32m    312\u001B[0m     _convert_fields(\u001B[38;5;28mself\u001B[39m, init\u001B[38;5;241m=\u001B[39m\u001B[38;5;28;01mTrue\u001B[39;00m)\n\u001B[0;32m--> 313\u001B[0m post_init(\u001B[38;5;28mself\u001B[39m, \u001B[38;5;241m*\u001B[39margs, \u001B[38;5;241m*\u001B[39m\u001B[38;5;241m*\u001B[39mkwargs)  \u001B[38;5;66;03m# pyright: ignore\u001B[39;00m\n\u001B[1;32m    314\u001B[0m \u001B[38;5;28;01mif\u001B[39;00m \u001B[38;5;28mself\u001B[39m\u001B[38;5;241m.\u001B[39m\u001B[38;5;18m__class__\u001B[39m\u001B[38;5;241m.\u001B[39m__post_init__ \u001B[38;5;129;01mis\u001B[39;00m \u001B[38;5;28mcls\u001B[39m\u001B[38;5;241m.\u001B[39m__post_init__:\n\u001B[1;32m    315\u001B[0m     \u001B[38;5;66;03m# Convert all the fields filled in by `__post_init__` as well.\u001B[39;00m\n\u001B[1;32m    316\u001B[0m     _convert_fields(\u001B[38;5;28mself\u001B[39m, init\u001B[38;5;241m=\u001B[39m\u001B[38;5;28;01mFalse\u001B[39;00m)\n",
      "File \u001B[0;32m~/GP/ICENODE/lib/ehr/coding_scheme.py:186\u001B[0m, in \u001B[0;36mCodingScheme.__post_init__\u001B[0;34m(self)\u001B[0m\n\u001B[1;32m    184\u001B[0m \u001B[38;5;28;01massert\u001B[39;00m \u001B[38;5;28misinstance\u001B[39m(\u001B[38;5;28mself\u001B[39m\u001B[38;5;241m.\u001B[39mname, \u001B[38;5;28mstr\u001B[39m), \u001B[38;5;124m\"\u001B[39m\u001B[38;5;124mScheme name must be a string.\u001B[39m\u001B[38;5;124m\"\u001B[39m\n\u001B[1;32m    185\u001B[0m \u001B[38;5;28;01massert\u001B[39;00m \u001B[38;5;28misinstance\u001B[39m(\u001B[38;5;28mself\u001B[39m\u001B[38;5;241m.\u001B[39mcodes, \u001B[38;5;28mtuple\u001B[39m), \u001B[38;5;124m\"\u001B[39m\u001B[38;5;124mScheme codes must be a tuple.\u001B[39m\u001B[38;5;124m\"\u001B[39m\n\u001B[0;32m--> 186\u001B[0m \u001B[38;5;28;01massert\u001B[39;00m \u001B[38;5;28misinstance\u001B[39m(\u001B[38;5;28mself\u001B[39m\u001B[38;5;241m.\u001B[39mdesc, FrozenDict11), \u001B[38;5;124m\"\u001B[39m\u001B[38;5;124mScheme description must be a FrozenDict11.\u001B[39m\u001B[38;5;124m\"\u001B[39m\n\u001B[1;32m    188\u001B[0m \u001B[38;5;28;01massert\u001B[39;00m \u001B[38;5;28mtuple\u001B[39m(\u001B[38;5;28msorted\u001B[39m(\u001B[38;5;28mself\u001B[39m\u001B[38;5;241m.\u001B[39mcodes)) \u001B[38;5;241m==\u001B[39m \u001B[38;5;28mself\u001B[39m\u001B[38;5;241m.\u001B[39mcodes, \u001B[38;5;124m\"\u001B[39m\u001B[38;5;124mScheme codes must be sorted.\u001B[39m\u001B[38;5;124m\"\u001B[39m\n\u001B[1;32m    190\u001B[0m \u001B[38;5;66;03m# Check for uniqueness of codes.\u001B[39;00m\n",
      "\u001B[0;31mAssertionError\u001B[0m: Scheme description must be a FrozenDict11."
     ]
    }
   ],
   "source": [
    "with modified_environ(MIMICIV_URL=url):\n",
    "    dataset = m4aki.AKIMIMICIVDataset(config=mimiciv_config)           "
   ],
   "metadata": {
    "collapsed": false,
    "ExecuteTime": {
     "end_time": "2024-04-15T20:55:17.629938Z",
     "start_time": "2024-04-15T20:54:52.879852Z"
    }
   },
   "id": "8448e76db65f2acd",
   "execution_count": 3
  },
  {
   "cell_type": "code",
   "outputs": [],
   "source": [
    "dataset =dataset.execute_pipeline()"
   ],
   "metadata": {
    "collapsed": false
   },
   "id": "2a23d6ad70d52e29",
   "execution_count": null
  },
  {
   "cell_type": "code",
   "outputs": [],
   "source": [
    "tvx = m4aki.TVxAKIMIMICIVDataset(config=tvx_config, dataset=dataset)"
   ],
   "metadata": {
    "collapsed": false
   },
   "id": "b2638310a60d72ea",
   "execution_count": null
  },
  {
   "cell_type": "code",
   "outputs": [],
   "source": [
    "tvx = tvx.execute_pipeline()"
   ],
   "metadata": {
    "collapsed": false
   },
   "id": "567b308edce77e44",
   "execution_count": null
  },
  {
   "cell_type": "code",
   "outputs": [],
   "source": [],
   "metadata": {
    "collapsed": false
   },
   "id": "f40c3050f9a70c23"
  }
 ],
 "metadata": {
  "kernelspec": {
   "display_name": "Python 3 (ipykernel)",
   "language": "python",
   "name": "python3"
  },
  "language_info": {
   "codemirror_mode": {
    "name": "ipython",
    "version": 3
   },
   "file_extension": ".py",
   "mimetype": "text/x-python",
   "name": "python",
   "nbconvert_exporter": "python",
   "pygments_lexer": "ipython3",
   "version": "3.10.12"
  }
 },
 "nbformat": 4,
 "nbformat_minor": 5
}
