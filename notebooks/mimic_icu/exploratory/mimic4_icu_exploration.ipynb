{
 "cells": [
  {
   "cell_type": "code",
   "execution_count": 1,
   "id": "5a0973b9",
   "metadata": {
    "ExecuteTime": {
     "end_time": "2024-03-22T14:24:54.296963Z",
     "start_time": "2024-03-22T14:24:50.971861Z"
    }
   },
   "outputs": [],
   "source": [
    "%load_ext autoreload\n",
    "%autoreload 2\n",
    "\n",
    "import sys\n",
    "from collections import OrderedDict\n",
    "\n",
    "import matplotlib.pyplot as plt\n",
    "import numpy as np\n",
    "import pandas as pd\n",
    "\n",
    "sys.path.append(\"../../..\")\n",
    "\n",
    "import lib.ehr.example_datasets.mimiciv_aki as m4aki\n",
    "from lib.utils import modified_environ, write_config"
   ]
  },
  {
   "cell_type": "code",
   "outputs": [],
   "source": [
    "# create a database connection\n",
    "sqluser = 'postgres'\n",
    "dbname = 'mimiciv'\n",
    "hostname = 'localhost'\n",
    "password = 'qwerasdf'\n",
    "port = '5432'\n",
    "\n",
    "url = f'postgresql+psycopg2://{sqluser}:{password}@{hostname}:{port}/{dbname}'\n",
    "\n",
    "with modified_environ(MIMICIV_URL=url):\n",
    "    mimiciv_config = m4aki.AKIMIMICIVDatasetConfig()\n",
    "    # dataset_raw = m4aki.AKIMIMICIVDataset(config=mimiciv_config)\n",
    "    tvx_config = m4aki.TVxAKIMIMICIVDatasetConfig()\n",
    "\n",
    "    write_config(mimiciv_config.to_dict(), 'dataset_mimiciv_aki_config.json')\n",
    "    write_config(tvx_config.to_dict(), 'tvx_mimiciv_aki_config.json')\n",
    "    # dataset = dataset_raw.execute_pipeline()\n"
   ],
   "metadata": {
    "ExecuteTime": {
     "end_time": "2024-03-22T14:24:54.319326Z",
     "start_time": "2024-03-22T14:24:54.298251Z"
    }
   },
   "id": "c5a9fd4b",
   "execution_count": 2
  },
  {
   "cell_type": "code",
   "outputs": [],
   "source": [],
   "metadata": {
    "collapsed": false
   },
   "id": "f40c3050f9a70c23"
  }
 ],
 "metadata": {
  "kernelspec": {
   "display_name": "Python 3 (ipykernel)",
   "language": "python",
   "name": "python3"
  },
  "language_info": {
   "codemirror_mode": {
    "name": "ipython",
    "version": 3
   },
   "file_extension": ".py",
   "mimetype": "text/x-python",
   "name": "python",
   "nbconvert_exporter": "python",
   "pygments_lexer": "ipython3",
   "version": "3.10.12"
  }
 },
 "nbformat": 4,
 "nbformat_minor": 5
}
