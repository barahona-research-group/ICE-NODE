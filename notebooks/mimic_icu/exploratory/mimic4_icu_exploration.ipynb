{
 "cells": [
  {
   "cell_type": "code",
   "execution_count": 4,
   "id": "5a0973b9",
   "metadata": {},
   "outputs": [],
   "source": [
    "from collections import OrderedDict\n",
    "\n",
    "import matplotlib.pyplot as plt\n",
    "import numpy as np\n",
    "import pandas as pd\n",
    "import seaborn as sns\n",
    "# !pip install tableone\n",
    "from tableone import TableOne\n",
    "# !pip install psycopg2-binary\n",
    "import psycopg2"
   ]
  },
  {
   "cell_type": "code",
   "execution_count": 5,
   "id": "c5a9fd4b",
   "metadata": {},
   "outputs": [],
   "source": [
    "# create a database connection\n",
    "sqluser = 'postgres'\n",
    "dbname = 'mimiciv'\n",
    "hostname = 'localhost'\n",
    "password='qwerasdf'\n",
    "hosp_schema_name = 'mimiciv_hosp'\n",
    "\n",
    "# Connect to local postgres version of mimic\n",
    "con = psycopg2.connect(dbname=dbname, user=sqluser, host=hostname, password=password)"
   ]
  },
  {
   "cell_type": "code",
   "execution_count": 6,
   "id": "54101105",
   "metadata": {},
   "outputs": [],
   "source": [
    "query = \\\n",
    "\"\"\"\n",
    "SELECT\n",
    "      pat.subject_id\n",
    "    , adm.hadm_id\n",
    "    , DENSE_RANK() OVER hadm_window AS hosp_stay_num\n",
    "    , CASE\n",
    "        WHEN FIRST_VALUE(adm.hadm_id) OVER hadm_window = adm.hadm_id THEN 1\n",
    "        ELSE 0\n",
    "      END AS pat_count\n",
    "    , pat.anchor_age + (EXTRACT(YEAR FROM adm.admittime) - pat.anchor_year) AS age\n",
    "    , pat.gender\n",
    "    , adm.insurance\n",
    "    , mimiciv_derived.DATETIME_DIFF(adm.dischtime, adm.admittime, 'HOUR') / 24 AS hosp_los\n",
    "    , pat.dod\n",
    "    , mimiciv_derived.DATETIME_DIFF(pat.dod, CAST(adm.dischtime AS DATE), 'DAY') AS days_to_death\n",
    "    -- mortality flags\n",
    "    , CASE WHEN mimiciv_derived.DATETIME_DIFF(pat.dod, CAST(adm.dischtime AS DATE), 'DAY') = 0 THEN 1 ELSE 0 END AS hospital_mortality\n",
    "FROM mimiciv_hosp.patients pat\n",
    "INNER JOIN mimiciv_hosp.admissions adm\n",
    "    ON pat.subject_id = adm.subject_id\n",
    "WINDOW hadm_window AS (PARTITION BY pat.subject_id ORDER BY adm.admittime)\n",
    "\"\"\"\n",
    "\n",
    "hosp = pd.read_sql_query(query,con)"
   ]
  },
  {
   "cell_type": "code",
   "execution_count": 7,
   "id": "82c2b7ef",
   "metadata": {},
   "outputs": [
    {
     "data": {
      "text/plain": [
       "0         22595853\n",
       "1         22841357\n",
       "2         29079034\n",
       "3         25742920\n",
       "5         23052089\n",
       "            ...   \n",
       "431226    29734428\n",
       "431227    25744818\n",
       "431228    26071774\n",
       "431229    21033226\n",
       "431230    23865745\n",
       "Name: hadm_id, Length: 392689, dtype: int64"
      ]
     },
     "execution_count": 7,
     "metadata": {},
     "output_type": "execute_result"
    }
   ],
   "source": [
    "# Admission IDs with Length of Stay at least 12 hours.\n",
    "hadm_id_los_geq_12h = hosp[hosp.hosp_los > 0.5].hadm_id\n",
    "hadm_id_los_geq_12h"
   ]
  },
  {
   "cell_type": "code",
   "execution_count": 8,
   "id": "e3726eb8",
   "metadata": {},
   "outputs": [
    {
     "data": {
      "text/html": [
       "<div>\n",
       "<style scoped>\n",
       "    .dataframe tbody tr th:only-of-type {\n",
       "        vertical-align: middle;\n",
       "    }\n",
       "\n",
       "    .dataframe tbody tr th {\n",
       "        vertical-align: top;\n",
       "    }\n",
       "\n",
       "    .dataframe thead th {\n",
       "        text-align: right;\n",
       "    }\n",
       "</style>\n",
       "<table border=\"1\" class=\"dataframe\">\n",
       "  <thead>\n",
       "    <tr style=\"text-align: right;\">\n",
       "      <th></th>\n",
       "      <th>subject_id</th>\n",
       "      <th>hadm_id</th>\n",
       "      <th>admittime</th>\n",
       "      <th>dischtime</th>\n",
       "    </tr>\n",
       "  </thead>\n",
       "  <tbody>\n",
       "    <tr>\n",
       "      <th>0</th>\n",
       "      <td>10000032</td>\n",
       "      <td>22595853</td>\n",
       "      <td>2180-05-06 22:23:00</td>\n",
       "      <td>2180-05-07 17:15:00</td>\n",
       "    </tr>\n",
       "    <tr>\n",
       "      <th>1</th>\n",
       "      <td>10000032</td>\n",
       "      <td>22841357</td>\n",
       "      <td>2180-06-26 18:27:00</td>\n",
       "      <td>2180-06-27 18:49:00</td>\n",
       "    </tr>\n",
       "    <tr>\n",
       "      <th>2</th>\n",
       "      <td>10000032</td>\n",
       "      <td>25742920</td>\n",
       "      <td>2180-08-05 23:44:00</td>\n",
       "      <td>2180-08-07 17:50:00</td>\n",
       "    </tr>\n",
       "    <tr>\n",
       "      <th>3</th>\n",
       "      <td>10000032</td>\n",
       "      <td>29079034</td>\n",
       "      <td>2180-07-23 12:35:00</td>\n",
       "      <td>2180-07-25 17:55:00</td>\n",
       "    </tr>\n",
       "    <tr>\n",
       "      <th>4</th>\n",
       "      <td>10000068</td>\n",
       "      <td>25022803</td>\n",
       "      <td>2160-03-03 23:16:00</td>\n",
       "      <td>2160-03-04 06:26:00</td>\n",
       "    </tr>\n",
       "    <tr>\n",
       "      <th>...</th>\n",
       "      <td>...</td>\n",
       "      <td>...</td>\n",
       "      <td>...</td>\n",
       "      <td>...</td>\n",
       "    </tr>\n",
       "    <tr>\n",
       "      <th>431226</th>\n",
       "      <td>19999828</td>\n",
       "      <td>25744818</td>\n",
       "      <td>2149-01-08 16:44:00</td>\n",
       "      <td>2149-01-18 17:00:00</td>\n",
       "    </tr>\n",
       "    <tr>\n",
       "      <th>431227</th>\n",
       "      <td>19999828</td>\n",
       "      <td>29734428</td>\n",
       "      <td>2147-07-18 16:23:00</td>\n",
       "      <td>2147-08-04 18:10:00</td>\n",
       "    </tr>\n",
       "    <tr>\n",
       "      <th>431228</th>\n",
       "      <td>19999840</td>\n",
       "      <td>21033226</td>\n",
       "      <td>2164-09-10 13:47:00</td>\n",
       "      <td>2164-09-17 13:42:00</td>\n",
       "    </tr>\n",
       "    <tr>\n",
       "      <th>431229</th>\n",
       "      <td>19999840</td>\n",
       "      <td>26071774</td>\n",
       "      <td>2164-07-25 00:27:00</td>\n",
       "      <td>2164-07-28 12:15:00</td>\n",
       "    </tr>\n",
       "    <tr>\n",
       "      <th>431230</th>\n",
       "      <td>19999987</td>\n",
       "      <td>23865745</td>\n",
       "      <td>2145-11-02 21:38:00</td>\n",
       "      <td>2145-11-11 12:57:00</td>\n",
       "    </tr>\n",
       "  </tbody>\n",
       "</table>\n",
       "<p>431231 rows × 4 columns</p>\n",
       "</div>"
      ],
      "text/plain": [
       "        subject_id   hadm_id           admittime           dischtime\n",
       "0         10000032  22595853 2180-05-06 22:23:00 2180-05-07 17:15:00\n",
       "1         10000032  22841357 2180-06-26 18:27:00 2180-06-27 18:49:00\n",
       "2         10000032  25742920 2180-08-05 23:44:00 2180-08-07 17:50:00\n",
       "3         10000032  29079034 2180-07-23 12:35:00 2180-07-25 17:55:00\n",
       "4         10000068  25022803 2160-03-03 23:16:00 2160-03-04 06:26:00\n",
       "...            ...       ...                 ...                 ...\n",
       "431226    19999828  25744818 2149-01-08 16:44:00 2149-01-18 17:00:00\n",
       "431227    19999828  29734428 2147-07-18 16:23:00 2147-08-04 18:10:00\n",
       "431228    19999840  21033226 2164-09-10 13:47:00 2164-09-17 13:42:00\n",
       "431229    19999840  26071774 2164-07-25 00:27:00 2164-07-28 12:15:00\n",
       "431230    19999987  23865745 2145-11-02 21:38:00 2145-11-11 12:57:00\n",
       "\n",
       "[431231 rows x 4 columns]"
      ]
     },
     "execution_count": 8,
     "metadata": {},
     "output_type": "execute_result"
    }
   ],
   "source": [
    "adm_df = pd.read_sql_query(\"\"\"\n",
    "SELECT subject_id, hadm_id, admittime, dischtime FROM mimiciv_hosp.admissions\n",
    "\"\"\", con)\n",
    "adm_df"
   ]
  },
  {
   "cell_type": "code",
   "execution_count": 9,
   "id": "f2e4e984",
   "metadata": {},
   "outputs": [
    {
     "name": "stderr",
     "output_type": "stream",
     "text": [
      "/tmp/ipykernel_26474/130169835.py:19: SettingWithCopyWarning: \n",
      "A value is trying to be set on a copy of a slice from a DataFrame.\n",
      "Try using .loc[row_indexer,col_indexer] = value instead\n",
      "\n",
      "See the caveats in the documentation: https://pandas.pydata.org/pandas-docs/stable/user_guide/indexing.html#returning-a-view-versus-a-copy\n",
      "  subjects_with_renal_info['p_adm_with_renal_info'] = subjects_with_renal_info['adm_has_renal_data'] / subjects_with_renal_info['n_adm']\n"
     ]
    }
   ],
   "source": [
    "renal_aki = ['aki_stage_smoothed']\n",
    "\n",
    "renal_aki_query = f\"\"\"\n",
    "select icu.hadm_id,\n",
    "       avg(aki_stage_smoothed) as aki_stage_smoothed,\n",
    "       date_trunc('hour', r.charttime) time_bin\n",
    "from mimiciv_derived.kdigo_stages as r\n",
    "inner join mimiciv_icu.icustays as icu\n",
    " on icu.stay_id = r.stay_id\n",
    "group by icu.hadm_id, time_bin\n",
    "\"\"\"\n",
    "renal_aki_df = pd.read_sql_query(renal_aki_query, con)\n",
    "\n",
    "renal_hadm_id = pd.Series(renal_aki_df.hadm_id.unique())\n",
    "adm_df['adm_has_renal_data'] = adm_df.hadm_id.isin(renal_hadm_id)\n",
    "\n",
    "subject_has_renal = adm_df.groupby('subject_id', as_index=False).agg(n_adm=('hadm_id', 'nunique'), adm_has_renal_data=('adm_has_renal_data', 'sum'))\n",
    "subjects_with_renal_info = subject_has_renal[subject_has_renal['adm_has_renal_data'] > 0]\n",
    "subjects_with_renal_info['p_adm_with_renal_info'] = subjects_with_renal_info['adm_has_renal_data'] / subjects_with_renal_info['n_adm']\n",
    "subject_id_with_renal_info = subjects_with_renal_info.subject_id"
   ]
  },
  {
   "cell_type": "code",
   "execution_count": null,
   "id": "67ad8c11",
   "metadata": {},
   "outputs": [],
   "source": []
  },
  {
   "cell_type": "code",
   "execution_count": 10,
   "id": "445763c6",
   "metadata": {},
   "outputs": [],
   "source": [
    "# add 1 year mortality\n",
    "hosp['one_year_mortality'] = hosp['days_to_death'].notnull().astype(int)\n",
    "\n",
    "# create a dataframe with the days to death for only the last ICU stay\n",
    "last_dod = hosp.groupby('subject_id')[['hosp_stay_num']].max().reset_index()\n",
    "last_dod = last_dod.merge(hosp[['subject_id', 'hosp_stay_num', 'days_to_death']], \n",
    "                          on=['subject_id', 'hosp_stay_num'], how='inner')\n",
    "last_dod.rename(columns={'days_to_death': 'days_to_death_last_stay_id'}, inplace=True)\n",
    "\n",
    "hosp = hosp.merge(last_dod, how='left', on=['subject_id', 'hosp_stay_num'])\n",
    "del last_dod\n",
    "hosp.sort_values(['subject_id', 'hosp_stay_num'], inplace=True)"
   ]
  },
  {
   "cell_type": "code",
   "execution_count": 28,
   "id": "fd0085a0",
   "metadata": {},
   "outputs": [],
   "source": [
    "hosp = hosp.drop('insurance', axis=1)"
   ]
  },
  {
   "cell_type": "code",
   "execution_count": 29,
   "id": "390763b1",
   "metadata": {},
   "outputs": [
    {
     "data": {
      "text/html": [
       "<div>\n",
       "<style scoped>\n",
       "    .dataframe tbody tr th:only-of-type {\n",
       "        vertical-align: middle;\n",
       "    }\n",
       "\n",
       "    .dataframe tbody tr th {\n",
       "        vertical-align: top;\n",
       "    }\n",
       "\n",
       "    .dataframe thead th {\n",
       "        text-align: right;\n",
       "    }\n",
       "</style>\n",
       "<table border=\"1\" class=\"dataframe\">\n",
       "  <thead>\n",
       "    <tr style=\"text-align: right;\">\n",
       "      <th></th>\n",
       "      <th>subject_id</th>\n",
       "      <th>hadm_id</th>\n",
       "      <th>hosp_stay_num</th>\n",
       "      <th>pat_count</th>\n",
       "      <th>age</th>\n",
       "      <th>gender</th>\n",
       "      <th>hosp_los</th>\n",
       "      <th>dod</th>\n",
       "      <th>days_to_death</th>\n",
       "      <th>hospital_mortality</th>\n",
       "      <th>one_year_mortality</th>\n",
       "      <th>days_to_death_last_stay_id</th>\n",
       "    </tr>\n",
       "  </thead>\n",
       "  <tbody>\n",
       "    <tr>\n",
       "      <th>0</th>\n",
       "      <td>10000032</td>\n",
       "      <td>22595853</td>\n",
       "      <td>1</td>\n",
       "      <td>1</td>\n",
       "      <td>52.0</td>\n",
       "      <td>F</td>\n",
       "      <td>0.786111</td>\n",
       "      <td>2180-09-09</td>\n",
       "      <td>125.0</td>\n",
       "      <td>0</td>\n",
       "      <td>1</td>\n",
       "      <td>NaN</td>\n",
       "    </tr>\n",
       "    <tr>\n",
       "      <th>1</th>\n",
       "      <td>10000032</td>\n",
       "      <td>22841357</td>\n",
       "      <td>2</td>\n",
       "      <td>0</td>\n",
       "      <td>52.0</td>\n",
       "      <td>F</td>\n",
       "      <td>1.015278</td>\n",
       "      <td>2180-09-09</td>\n",
       "      <td>74.0</td>\n",
       "      <td>0</td>\n",
       "      <td>1</td>\n",
       "      <td>NaN</td>\n",
       "    </tr>\n",
       "    <tr>\n",
       "      <th>2</th>\n",
       "      <td>10000032</td>\n",
       "      <td>29079034</td>\n",
       "      <td>3</td>\n",
       "      <td>0</td>\n",
       "      <td>52.0</td>\n",
       "      <td>F</td>\n",
       "      <td>2.222222</td>\n",
       "      <td>2180-09-09</td>\n",
       "      <td>46.0</td>\n",
       "      <td>0</td>\n",
       "      <td>1</td>\n",
       "      <td>NaN</td>\n",
       "    </tr>\n",
       "    <tr>\n",
       "      <th>3</th>\n",
       "      <td>10000032</td>\n",
       "      <td>25742920</td>\n",
       "      <td>4</td>\n",
       "      <td>0</td>\n",
       "      <td>52.0</td>\n",
       "      <td>F</td>\n",
       "      <td>1.754167</td>\n",
       "      <td>2180-09-09</td>\n",
       "      <td>33.0</td>\n",
       "      <td>0</td>\n",
       "      <td>1</td>\n",
       "      <td>33.0</td>\n",
       "    </tr>\n",
       "    <tr>\n",
       "      <th>4</th>\n",
       "      <td>10000068</td>\n",
       "      <td>25022803</td>\n",
       "      <td>1</td>\n",
       "      <td>1</td>\n",
       "      <td>19.0</td>\n",
       "      <td>F</td>\n",
       "      <td>0.298611</td>\n",
       "      <td>None</td>\n",
       "      <td>NaN</td>\n",
       "      <td>0</td>\n",
       "      <td>0</td>\n",
       "      <td>NaN</td>\n",
       "    </tr>\n",
       "    <tr>\n",
       "      <th>...</th>\n",
       "      <td>...</td>\n",
       "      <td>...</td>\n",
       "      <td>...</td>\n",
       "      <td>...</td>\n",
       "      <td>...</td>\n",
       "      <td>...</td>\n",
       "      <td>...</td>\n",
       "      <td>...</td>\n",
       "      <td>...</td>\n",
       "      <td>...</td>\n",
       "      <td>...</td>\n",
       "      <td>...</td>\n",
       "    </tr>\n",
       "    <tr>\n",
       "      <th>431226</th>\n",
       "      <td>19999828</td>\n",
       "      <td>29734428</td>\n",
       "      <td>1</td>\n",
       "      <td>1</td>\n",
       "      <td>46.0</td>\n",
       "      <td>F</td>\n",
       "      <td>17.074306</td>\n",
       "      <td>None</td>\n",
       "      <td>NaN</td>\n",
       "      <td>0</td>\n",
       "      <td>0</td>\n",
       "      <td>NaN</td>\n",
       "    </tr>\n",
       "    <tr>\n",
       "      <th>431227</th>\n",
       "      <td>19999828</td>\n",
       "      <td>25744818</td>\n",
       "      <td>2</td>\n",
       "      <td>0</td>\n",
       "      <td>48.0</td>\n",
       "      <td>F</td>\n",
       "      <td>10.011111</td>\n",
       "      <td>None</td>\n",
       "      <td>NaN</td>\n",
       "      <td>0</td>\n",
       "      <td>0</td>\n",
       "      <td>NaN</td>\n",
       "    </tr>\n",
       "    <tr>\n",
       "      <th>431228</th>\n",
       "      <td>19999840</td>\n",
       "      <td>26071774</td>\n",
       "      <td>1</td>\n",
       "      <td>1</td>\n",
       "      <td>58.0</td>\n",
       "      <td>M</td>\n",
       "      <td>3.491667</td>\n",
       "      <td>2164-09-17</td>\n",
       "      <td>51.0</td>\n",
       "      <td>0</td>\n",
       "      <td>1</td>\n",
       "      <td>NaN</td>\n",
       "    </tr>\n",
       "    <tr>\n",
       "      <th>431229</th>\n",
       "      <td>19999840</td>\n",
       "      <td>21033226</td>\n",
       "      <td>2</td>\n",
       "      <td>0</td>\n",
       "      <td>58.0</td>\n",
       "      <td>M</td>\n",
       "      <td>6.996528</td>\n",
       "      <td>2164-09-17</td>\n",
       "      <td>0.0</td>\n",
       "      <td>1</td>\n",
       "      <td>1</td>\n",
       "      <td>0.0</td>\n",
       "    </tr>\n",
       "    <tr>\n",
       "      <th>431230</th>\n",
       "      <td>19999987</td>\n",
       "      <td>23865745</td>\n",
       "      <td>1</td>\n",
       "      <td>1</td>\n",
       "      <td>57.0</td>\n",
       "      <td>F</td>\n",
       "      <td>8.638194</td>\n",
       "      <td>None</td>\n",
       "      <td>NaN</td>\n",
       "      <td>0</td>\n",
       "      <td>0</td>\n",
       "      <td>NaN</td>\n",
       "    </tr>\n",
       "  </tbody>\n",
       "</table>\n",
       "<p>431231 rows × 12 columns</p>\n",
       "</div>"
      ],
      "text/plain": [
       "        subject_id   hadm_id  hosp_stay_num  pat_count   age gender  \\\n",
       "0         10000032  22595853              1          1  52.0      F   \n",
       "1         10000032  22841357              2          0  52.0      F   \n",
       "2         10000032  29079034              3          0  52.0      F   \n",
       "3         10000032  25742920              4          0  52.0      F   \n",
       "4         10000068  25022803              1          1  19.0      F   \n",
       "...            ...       ...            ...        ...   ...    ...   \n",
       "431226    19999828  29734428              1          1  46.0      F   \n",
       "431227    19999828  25744818              2          0  48.0      F   \n",
       "431228    19999840  26071774              1          1  58.0      M   \n",
       "431229    19999840  21033226              2          0  58.0      M   \n",
       "431230    19999987  23865745              1          1  57.0      F   \n",
       "\n",
       "         hosp_los         dod  days_to_death  hospital_mortality  \\\n",
       "0        0.786111  2180-09-09          125.0                   0   \n",
       "1        1.015278  2180-09-09           74.0                   0   \n",
       "2        2.222222  2180-09-09           46.0                   0   \n",
       "3        1.754167  2180-09-09           33.0                   0   \n",
       "4        0.298611        None            NaN                   0   \n",
       "...           ...         ...            ...                 ...   \n",
       "431226  17.074306        None            NaN                   0   \n",
       "431227  10.011111        None            NaN                   0   \n",
       "431228   3.491667  2164-09-17           51.0                   0   \n",
       "431229   6.996528  2164-09-17            0.0                   1   \n",
       "431230   8.638194        None            NaN                   0   \n",
       "\n",
       "        one_year_mortality  days_to_death_last_stay_id  \n",
       "0                        1                         NaN  \n",
       "1                        1                         NaN  \n",
       "2                        1                         NaN  \n",
       "3                        1                        33.0  \n",
       "4                        0                         NaN  \n",
       "...                    ...                         ...  \n",
       "431226                   0                         NaN  \n",
       "431227                   0                         NaN  \n",
       "431228                   1                         NaN  \n",
       "431229                   1                         0.0  \n",
       "431230                   0                         NaN  \n",
       "\n",
       "[431231 rows x 12 columns]"
      ]
     },
     "execution_count": 29,
     "metadata": {},
     "output_type": "execute_result"
    }
   ],
   "source": [
    "hosp"
   ]
  },
  {
   "cell_type": "code",
   "execution_count": 12,
   "id": "71252547",
   "metadata": {},
   "outputs": [],
   "source": [
    "# fix some data type issues\n",
    "int_cols = (pd.Series(hosp.dtypes.values)==\"Int64\").values"
   ]
  },
  {
   "cell_type": "code",
   "execution_count": 13,
   "id": "5c83e9e7",
   "metadata": {},
   "outputs": [
    {
     "data": {
      "text/plain": [
       "array([False, False, False, False, False, False, False, False, False,\n",
       "       False, False, False, False])"
      ]
     },
     "execution_count": 13,
     "metadata": {},
     "output_type": "execute_result"
    }
   ],
   "source": [
    "int_cols"
   ]
  },
  {
   "cell_type": "code",
   "execution_count": 14,
   "id": "9973946b",
   "metadata": {},
   "outputs": [],
   "source": [
    "hosp.loc[:, int_cols] = hosp.loc[:, int_cols].astype(float)\n",
    "hosp.loc[:, int_cols] = hosp.loc[:, int_cols].astype(int, errors=\"ignore\")"
   ]
  },
  {
   "cell_type": "code",
   "execution_count": 15,
   "id": "8b19a620",
   "metadata": {},
   "outputs": [],
   "source": [
    "query = \\\n",
    "\"\"\"\n",
    "SELECT\n",
    "      pat.subject_id\n",
    "    , adm.hadm_id\n",
    "    , icu.stay_id\n",
    "    , ROW_NUMBER() OVER (PARTITION BY pat.subject_id ORDER BY icu.intime) AS icu_stay_num\n",
    "    , DENSE_RANK() OVER (PARTITION BY pat.subject_id ORDER BY adm.admittime) AS hosp_stay_num\n",
    "    , CASE\n",
    "        WHEN FIRST_VALUE(icu.stay_id) OVER icustay_window = icu.stay_id THEN 1\n",
    "        ELSE 0\n",
    "      END AS pat_count\n",
    "    , pat.anchor_age + (EXTRACT(YEAR FROM icu.intime) - pat.anchor_year) AS age\n",
    "    , pat.gender\n",
    "    , adm.insurance\n",
    "    , icu.first_careunit\n",
    "    , icu.los AS icu_los\n",
    "    , mimiciv_derived.DATETIME_DIFF(adm.dischtime, adm.admittime, 'HOUR') / 24 AS hosp_los\n",
    "    , pat.dod\n",
    "    , mimiciv_derived.DATETIME_DIFF(pat.dod, CAST(adm.dischtime AS DATE), 'DAY') AS days_to_death\n",
    "    -- mortality flags\n",
    "    , CASE WHEN mimiciv_derived.DATETIME_DIFF(pat.dod, CAST(adm.dischtime AS DATE), 'DAY') = 0 THEN 1 ELSE 0 END AS hospital_mortality\n",
    "    , CASE WHEN mimiciv_derived.DATETIME_DIFF(pat.dod, CAST(icu.outtime AS DATE), 'DAY') = 0 THEN 1 ELSE 0 END AS icu_mortality\n",
    "FROM mimiciv_hosp.patients pat\n",
    "INNER JOIN mimiciv_hosp.admissions adm\n",
    "    ON pat.subject_id = adm.subject_id\n",
    "INNER JOIN mimiciv_icu.icustays icu\n",
    "    ON adm.hadm_id = icu.hadm_id\n",
    "WINDOW hadm_window AS (PARTITION BY pat.subject_id ORDER BY adm.admittime)\n",
    "     , icustay_window AS (PARTITION BY pat.subject_id ORDER BY icu.intime)\n",
    "\"\"\"\n",
    "\n",
    "data = pd.read_sql_query(query,con)"
   ]
  },
  {
   "cell_type": "code",
   "execution_count": 16,
   "id": "632e1262",
   "metadata": {},
   "outputs": [],
   "source": [
    "# add 1 year mortality\n",
    "data['one_year_mortality'] = data['days_to_death'].notnull().astype(int)\n",
    "\n",
    "# create a dataframe with the days to death for only the last ICU stay\n",
    "last_dod = data.groupby('subject_id')[['icu_stay_num']].max().reset_index()\n",
    "last_dod = last_dod.merge(data[['subject_id', 'icu_stay_num', 'days_to_death']], on=['subject_id', 'icu_stay_num'], how='inner')\n",
    "last_dod.rename(columns={'days_to_death': 'days_to_death_last_stay_id'}, inplace=True)\n",
    "\n",
    "data = data.merge(last_dod, how='left', on=['subject_id', 'icu_stay_num'])\n",
    "del last_dod\n",
    "data.sort_values(['subject_id', 'icu_stay_num'], inplace=True)\n",
    "\n",
    "# add a grouping variable for table one so we can have hospital mortality as a group and a row\n",
    "data['hosp_mort'] = data['hospital_mortality']\n",
    "\n",
    "# fix some data type issues\n",
    "int_cols = (pd.Series(data.dtypes.values)==\"Int64\").values\n",
    "data.loc[:, int_cols] = data.loc[:, int_cols].astype(float)\n",
    "data.loc[:, int_cols] = data.loc[:, int_cols].astype(int, errors=\"ignore\")"
   ]
  },
  {
   "cell_type": "code",
   "execution_count": 22,
   "id": "40a01cee",
   "metadata": {},
   "outputs": [],
   "source": [
    "icu_columns = [\n",
    "    \"pat_count\",\n",
    "#     \"hadm_count\",\n",
    "    \"age\", \"gender\", \"insurance\",\n",
    "    \"first_careunit\",\n",
    "    \"icu_los\",\n",
    "    \"hosp_los\",\n",
    "    'icu_mortality',\n",
    "    'hospital_mortality',\n",
    "    \"one_year_mortality\",\n",
    "    \"days_to_death_last_stay_id\"\n",
    "]\n",
    "\n",
    "icu_categorical = [\n",
    "    \"pat_count\",\n",
    "    # \"hadm_count\",\n",
    "    \"gender\", \"insurance\",\n",
    "    \"first_careunit\",\n",
    "#     mortality flags\n",
    "    'icu_mortality',\n",
    "    'hospital_mortality',\n",
    "    'one_year_mortality',\n",
    "]\n",
    "\n",
    "icu_order = {\n",
    "    \"pat_count\": [1, 0],\n",
    "    \"hadm_count\": [1, 0],\n",
    "    \"gender\": [\"F\", \"M\"],\n",
    "    \"icu_mortality\": [1, 0],\n",
    "    \"hospital_mortality\": [1, 0],\n",
    "    \"one_year_mortality\": [1, 0],\n",
    "}\n",
    "\n",
    "icu_limit = {\n",
    "    \"pat_count\": 1, \"hadm_count\": 1,\n",
    "    \"gender\": 1,\n",
    "    \"icu_mortality\": 1,\n",
    "    \"hospital_mortality\": 1,\n",
    "    \"one_year_mortality\": 1,\n",
    "}\n",
    "\n",
    "icu_rename = {\n",
    "    \"pat_count\": \"Distinct patients\", \"hadm_count\": \"Distinct hospitalizations\",\n",
    "    \"age\": \"Age\", \"gender\": \"Administrative Gender\", \"insurance\": \"Insurance\",\n",
    "    \"first_careunit\": \"First ICU stay, unit type\",\n",
    "    \"icu_los\": \"ICU length of stay\", \"hosp_los\": \"Hospital length of stay\",\n",
    "    \"icu_mortality\": \"In-ICU mortality\",\n",
    "    \"hospital_mortality\": \"In-hospital mortality\",\n",
    "    \"one_year_mortality\": \"One year mortality\",\n",
    "    \"days_to_death_last_stay_id\": \"Time to death (days)\",\n",
    "}"
   ]
  },
  {
   "cell_type": "code",
   "execution_count": 35,
   "id": "6f2a30fa",
   "metadata": {},
   "outputs": [],
   "source": [
    "\n",
    "hosp_columns = [\n",
    "    \"pat_count\",\n",
    "    \"age\", \"gender\",\n",
    "    \"hosp_los\",\n",
    "    'hospital_mortality',\n",
    "    \"one_year_mortality\"\n",
    "]\n",
    "\n",
    "hosp_categorical = [\n",
    "    \"pat_count\",\n",
    "    \"gender\", \n",
    "    'hospital_mortality',\n",
    "    'one_year_mortality',\n",
    "]\n",
    "\n",
    "hosp_order = {\n",
    "    \"pat_count\": [1, 0],\n",
    "    \"gender\": [\"F\", \"M\"],\n",
    "    \"hospital_mortality\": [1, 0],\n",
    "    \"one_year_mortality\": [1, 0],\n",
    "}\n",
    "\n",
    "hosp_limit = {\n",
    "    \"pat_count\": 1, \n",
    "    \"gender\": 1,\n",
    "    \"hospital_mortality\": 1,\n",
    "    \"one_year_mortality\": 1,\n",
    "}\n",
    "\n",
    "hosp_rename = {\n",
    "    \"pat_count\": \"Distinct patients\", \"hadm_count\": \"Distinct hospitalizations\",\n",
    "    \"age\": \"Age\", \"gender\": \"Administrative Gender\", \n",
    "    \"first_careunit\": \"First ICU stay, unit type\",\n",
    "    \"icu_los\": \"ICU length of stay\", \"hosp_los\": \"Hospital length of stay\",\n",
    "    \"icu_mortality\": \"In-ICU mortality\",\n",
    "    \"hospital_mortality\": \"In-hospital mortality\",\n",
    "    \"one_year_mortality\": \"One year mortality\"\n",
    "}\n"
   ]
  },
  {
   "cell_type": "code",
   "execution_count": null,
   "id": "1b742a9d",
   "metadata": {},
   "outputs": [],
   "source": [
    "print('ICU demographics')\n",
    "icu_table = TableOne(data, columns=icu_columns, categorical=icu_categorical, \n",
    "                     order=icu_order, limit=icu_limit, rename=icu_rename)\n",
    "display(icu_table)"
   ]
  },
  {
   "cell_type": "code",
   "execution_count": 61,
   "id": "fe3d025a",
   "metadata": {},
   "outputs": [
    {
     "name": "stdout",
     "output_type": "stream",
     "text": [
      "Hospital demographics\n"
     ]
    },
    {
     "data": {
      "text/html": [
       "<div>\n",
       "<style scoped>\n",
       "    .dataframe tbody tr th:only-of-type {\n",
       "        vertical-align: middle;\n",
       "    }\n",
       "\n",
       "    .dataframe tbody tr th {\n",
       "        vertical-align: top;\n",
       "    }\n",
       "\n",
       "    .dataframe thead th {\n",
       "        text-align: right;\n",
       "    }\n",
       "</style>\n",
       "<table border=\"1\" class=\"dataframe\">\n",
       "  <thead>\n",
       "    <tr style=\"text-align: right;\">\n",
       "      <th></th>\n",
       "      <th></th>\n",
       "      <th>Missing</th>\n",
       "      <th>Overall</th>\n",
       "    </tr>\n",
       "  </thead>\n",
       "  <tbody>\n",
       "    <tr>\n",
       "      <th>n</th>\n",
       "      <th></th>\n",
       "      <td></td>\n",
       "      <td>431231</td>\n",
       "    </tr>\n",
       "    <tr>\n",
       "      <th>Distinct patients, n (%)</th>\n",
       "      <th>1</th>\n",
       "      <td>0</td>\n",
       "      <td>180733 (41.9)</td>\n",
       "    </tr>\n",
       "    <tr>\n",
       "      <th>Age, mean (SD)</th>\n",
       "      <th></th>\n",
       "      <td>0</td>\n",
       "      <td>58.8 (19.2)</td>\n",
       "    </tr>\n",
       "    <tr>\n",
       "      <th>Administrative Gender, n (%)</th>\n",
       "      <th>F</th>\n",
       "      <td>0</td>\n",
       "      <td>224990 (52.2)</td>\n",
       "    </tr>\n",
       "    <tr>\n",
       "      <th>Hospital length of stay, mean (SD)</th>\n",
       "      <th></th>\n",
       "      <td>0</td>\n",
       "      <td>4.5 (6.6)</td>\n",
       "    </tr>\n",
       "    <tr>\n",
       "      <th>In-hospital mortality, n (%)</th>\n",
       "      <th>1</th>\n",
       "      <td>0</td>\n",
       "      <td>8869 (2.1)</td>\n",
       "    </tr>\n",
       "    <tr>\n",
       "      <th>One year mortality, n (%)</th>\n",
       "      <th>1</th>\n",
       "      <td>0</td>\n",
       "      <td>106218 (24.6)</td>\n",
       "    </tr>\n",
       "  </tbody>\n",
       "</table>\n",
       "</div><br />"
      ],
      "text/plain": [
       "                                     Missing        Overall\n",
       "n                                                    431231\n",
       "Distinct patients, n (%)           1       0  180733 (41.9)\n",
       "Age, mean (SD)                             0    58.8 (19.2)\n",
       "Administrative Gender, n (%)       F       0  224990 (52.2)\n",
       "Hospital length of stay, mean (SD)         0      4.5 (6.6)\n",
       "In-hospital mortality, n (%)       1       0     8869 (2.1)\n",
       "One year mortality, n (%)          1       0  106218 (24.6)"
      ]
     },
     "metadata": {},
     "output_type": "display_data"
    }
   ],
   "source": [
    "print('Hospital demographics')\n",
    "hosp1 = hosp.copy()\n",
    "hosp1_table = TableOne(hosp1, columns=hosp_columns, categorical=hosp_categorical, \n",
    "                      order=hosp_order, limit=hosp_limit, rename=hosp_rename)\n",
    "display(hosp1_table)"
   ]
  },
  {
   "cell_type": "code",
   "execution_count": 66,
   "id": "1487d75f",
   "metadata": {},
   "outputs": [],
   "source": [
    "cat1 = hosp1_table.cat_table\n",
    "cont1 = hosp1_table.cont_table"
   ]
  },
  {
   "cell_type": "code",
   "execution_count": 39,
   "id": "b530f7a8",
   "metadata": {},
   "outputs": [],
   "source": [
    "hosp2 = hosp1[hosp1.hadm_id.isin(hadm_id_los_geq_12h)]\n",
    "hosp3 = hosp2[hosp2.subject_id.isin(subject_id_with_renal_info)]"
   ]
  },
  {
   "cell_type": "code",
   "execution_count": 40,
   "id": "d57962db",
   "metadata": {},
   "outputs": [
    {
     "data": {
      "text/html": [
       "<div>\n",
       "<style scoped>\n",
       "    .dataframe tbody tr th:only-of-type {\n",
       "        vertical-align: middle;\n",
       "    }\n",
       "\n",
       "    .dataframe tbody tr th {\n",
       "        vertical-align: top;\n",
       "    }\n",
       "\n",
       "    .dataframe thead th {\n",
       "        text-align: right;\n",
       "    }\n",
       "</style>\n",
       "<table border=\"1\" class=\"dataframe\">\n",
       "  <thead>\n",
       "    <tr style=\"text-align: right;\">\n",
       "      <th></th>\n",
       "      <th></th>\n",
       "      <th>Missing</th>\n",
       "      <th>Overall</th>\n",
       "    </tr>\n",
       "  </thead>\n",
       "  <tbody>\n",
       "    <tr>\n",
       "      <th>n</th>\n",
       "      <th></th>\n",
       "      <td></td>\n",
       "      <td>392689</td>\n",
       "    </tr>\n",
       "    <tr>\n",
       "      <th>Distinct patients, n (%)</th>\n",
       "      <th>1</th>\n",
       "      <td>0</td>\n",
       "      <td>161584 (41.1)</td>\n",
       "    </tr>\n",
       "    <tr>\n",
       "      <th>Age, mean (SD)</th>\n",
       "      <th></th>\n",
       "      <td>0</td>\n",
       "      <td>59.8 (18.9)</td>\n",
       "    </tr>\n",
       "    <tr>\n",
       "      <th>Administrative Gender, n (%)</th>\n",
       "      <th>F</th>\n",
       "      <td>0</td>\n",
       "      <td>207259 (52.8)</td>\n",
       "    </tr>\n",
       "    <tr>\n",
       "      <th>Hospital length of stay, mean (SD)</th>\n",
       "      <th></th>\n",
       "      <td>0</td>\n",
       "      <td>4.9 (6.8)</td>\n",
       "    </tr>\n",
       "    <tr>\n",
       "      <th>In-hospital mortality, n (%)</th>\n",
       "      <th>1</th>\n",
       "      <td>0</td>\n",
       "      <td>8101 (2.1)</td>\n",
       "    </tr>\n",
       "    <tr>\n",
       "      <th>One year mortality, n (%)</th>\n",
       "      <th>1</th>\n",
       "      <td>0</td>\n",
       "      <td>101395 (25.8)</td>\n",
       "    </tr>\n",
       "  </tbody>\n",
       "</table>\n",
       "</div><br />"
      ],
      "text/plain": [
       "                                     Missing        Overall\n",
       "n                                                    392689\n",
       "Distinct patients, n (%)           1       0  161584 (41.1)\n",
       "Age, mean (SD)                             0    59.8 (18.9)\n",
       "Administrative Gender, n (%)       F       0  207259 (52.8)\n",
       "Hospital length of stay, mean (SD)         0      4.9 (6.8)\n",
       "In-hospital mortality, n (%)       1       0     8101 (2.1)\n",
       "One year mortality, n (%)          1       0  101395 (25.8)"
      ]
     },
     "metadata": {},
     "output_type": "display_data"
    }
   ],
   "source": [
    "hosp2_table = TableOne(hosp2, columns=hosp_columns, categorical=hosp_categorical, \n",
    "                       order=hosp_order, limit=hosp_limit, rename=hosp_rename)\n",
    "display(hosp2_table)"
   ]
  },
  {
   "cell_type": "code",
   "execution_count": 42,
   "id": "999fcd95",
   "metadata": {},
   "outputs": [
    {
     "data": {
      "text/html": [
       "<div>\n",
       "<style scoped>\n",
       "    .dataframe tbody tr th:only-of-type {\n",
       "        vertical-align: middle;\n",
       "    }\n",
       "\n",
       "    .dataframe tbody tr th {\n",
       "        vertical-align: top;\n",
       "    }\n",
       "\n",
       "    .dataframe thead th {\n",
       "        text-align: right;\n",
       "    }\n",
       "</style>\n",
       "<table border=\"1\" class=\"dataframe\">\n",
       "  <thead>\n",
       "    <tr style=\"text-align: right;\">\n",
       "      <th></th>\n",
       "      <th></th>\n",
       "      <th>Missing</th>\n",
       "      <th>Overall</th>\n",
       "    </tr>\n",
       "  </thead>\n",
       "  <tbody>\n",
       "    <tr>\n",
       "      <th>n</th>\n",
       "      <th></th>\n",
       "      <td></td>\n",
       "      <td>166819</td>\n",
       "    </tr>\n",
       "    <tr>\n",
       "      <th>Distinct patients, n (%)</th>\n",
       "      <th>1</th>\n",
       "      <td>0</td>\n",
       "      <td>49608 (29.7)</td>\n",
       "    </tr>\n",
       "    <tr>\n",
       "      <th>Age, mean (SD)</th>\n",
       "      <th></th>\n",
       "      <td>0</td>\n",
       "      <td>64.4 (16.5)</td>\n",
       "    </tr>\n",
       "    <tr>\n",
       "      <th>Administrative Gender, n (%)</th>\n",
       "      <th>F</th>\n",
       "      <td>0</td>\n",
       "      <td>77349 (46.4)</td>\n",
       "    </tr>\n",
       "    <tr>\n",
       "      <th>Hospital length of stay, mean (SD)</th>\n",
       "      <th></th>\n",
       "      <td>0</td>\n",
       "      <td>6.5 (8.4)</td>\n",
       "    </tr>\n",
       "    <tr>\n",
       "      <th>In-hospital mortality, n (%)</th>\n",
       "      <th>1</th>\n",
       "      <td>0</td>\n",
       "      <td>7006 (4.2)</td>\n",
       "    </tr>\n",
       "    <tr>\n",
       "      <th>One year mortality, n (%)</th>\n",
       "      <th>1</th>\n",
       "      <td>0</td>\n",
       "      <td>69367 (41.6)</td>\n",
       "    </tr>\n",
       "  </tbody>\n",
       "</table>\n",
       "</div><br />"
      ],
      "text/plain": [
       "                                     Missing       Overall\n",
       "n                                                   166819\n",
       "Distinct patients, n (%)           1       0  49608 (29.7)\n",
       "Age, mean (SD)                             0   64.4 (16.5)\n",
       "Administrative Gender, n (%)       F       0  77349 (46.4)\n",
       "Hospital length of stay, mean (SD)         0     6.5 (8.4)\n",
       "In-hospital mortality, n (%)       1       0    7006 (4.2)\n",
       "One year mortality, n (%)          1       0  69367 (41.6)"
      ]
     },
     "metadata": {},
     "output_type": "display_data"
    }
   ],
   "source": [
    "hosp3_table = TableOne(hosp3, columns=hosp_columns, categorical=hosp_categorical, \n",
    "                      order=hosp_order, limit=hosp_limit, rename=hosp_rename)\n",
    "display(hosp3_table)"
   ]
  },
  {
   "cell_type": "code",
   "execution_count": 133,
   "id": "b83a14df",
   "metadata": {},
   "outputs": [],
   "source": [
    "cat1 = hosp1_table.cat_table\n",
    "cont1 = hosp1_table.cont_table\n",
    "cat1['Selection'] = '1'\n",
    "cont1['Selection'] = '1'\n",
    "\n",
    "cat2 = hosp2_table.cat_table\n",
    "cont2 = hosp2_table.cont_table\n",
    "cat2['Selection'] = '2'\n",
    "cont2['Selection'] = '2'\n",
    "\n",
    "\n",
    "cat3 = hosp3_table.cat_table\n",
    "cont3 = hosp3_table.cont_table\n",
    "cat3['Selection'] = '3'\n",
    "cont3['Selection'] = '3'"
   ]
  },
  {
   "cell_type": "code",
   "execution_count": 134,
   "id": "9e44d6d6",
   "metadata": {},
   "outputs": [],
   "source": [
    "import seaborn as sns\n",
    "\n",
    "cat = pd.concat([cat1, cat2, cat3]).reset_index()\n",
    "cat = cat[cat.value.isin(('F', 1, '1'))]\n",
    "cat = cat[cat.variable != 'pat_count']\n",
    "cat.loc[cat.variable == 'gender', 'variable'] = 'Females'\n",
    "cat.loc[cat.variable == 'hospital_mortality', 'variable'] = 'Hospital Mortality'\n",
    "cat.loc[cat.variable == 'one_year_mortality', 'variable'] = 'One-Year Mortality'\n",
    "\n",
    "cat['n'] = cat.Overall.map(lambda s: s.split(' ')[0]).astype(int)\n",
    "cat['%'] =  cat.Overall.map(lambda s: s.split(' ')[1].replace('(', '').replace(')', '')).astype(float)"
   ]
  },
  {
   "cell_type": "code",
   "execution_count": 158,
   "id": "35266180",
   "metadata": {},
   "outputs": [],
   "source": [
    "cont = pd.concat([cont1, cont2, cont3]).reset_index()\n",
    "cont.loc[cont.variable == 'age', 'variable'] = 'Age'\n",
    "cont.loc[cont.variable == 'hosp_los', 'variable'] = 'Hospital LoS'\n",
    "\n",
    "cont['mean'] = cont.Overall.map(lambda s: s.split(' ')[0]).astype(float)\n",
    "cont['SD'] =  cont.Overall.map(lambda s: s.split(' ')[1].replace('(', '').replace(')', '')).astype(float)"
   ]
  },
  {
   "cell_type": "code",
   "execution_count": 136,
   "id": "d05fa0f0",
   "metadata": {},
   "outputs": [
    {
     "data": {
      "text/html": [
       "<div>\n",
       "<style scoped>\n",
       "    .dataframe tbody tr th:only-of-type {\n",
       "        vertical-align: middle;\n",
       "    }\n",
       "\n",
       "    .dataframe tbody tr th {\n",
       "        vertical-align: top;\n",
       "    }\n",
       "\n",
       "    .dataframe thead th {\n",
       "        text-align: right;\n",
       "    }\n",
       "</style>\n",
       "<table border=\"1\" class=\"dataframe\">\n",
       "  <thead>\n",
       "    <tr style=\"text-align: right;\">\n",
       "      <th></th>\n",
       "      <th>variable</th>\n",
       "      <th>value</th>\n",
       "      <th>Overall</th>\n",
       "      <th>Missing</th>\n",
       "      <th>Selection</th>\n",
       "      <th>mean</th>\n",
       "      <th>SD</th>\n",
       "    </tr>\n",
       "  </thead>\n",
       "  <tbody>\n",
       "    <tr>\n",
       "      <th>0</th>\n",
       "      <td>Age</td>\n",
       "      <td></td>\n",
       "      <td>58.8 (19.2)</td>\n",
       "      <td>0</td>\n",
       "      <td>1</td>\n",
       "      <td>58.8</td>\n",
       "      <td>19.2</td>\n",
       "    </tr>\n",
       "    <tr>\n",
       "      <th>1</th>\n",
       "      <td>Hospital LoS</td>\n",
       "      <td></td>\n",
       "      <td>4.5 (6.6)</td>\n",
       "      <td>0</td>\n",
       "      <td>1</td>\n",
       "      <td>4.5</td>\n",
       "      <td>6.6</td>\n",
       "    </tr>\n",
       "    <tr>\n",
       "      <th>2</th>\n",
       "      <td>Age</td>\n",
       "      <td></td>\n",
       "      <td>59.8 (18.9)</td>\n",
       "      <td>0</td>\n",
       "      <td>2</td>\n",
       "      <td>59.8</td>\n",
       "      <td>18.9</td>\n",
       "    </tr>\n",
       "    <tr>\n",
       "      <th>3</th>\n",
       "      <td>Hospital LoS</td>\n",
       "      <td></td>\n",
       "      <td>4.9 (6.8)</td>\n",
       "      <td>0</td>\n",
       "      <td>2</td>\n",
       "      <td>4.9</td>\n",
       "      <td>6.8</td>\n",
       "    </tr>\n",
       "    <tr>\n",
       "      <th>4</th>\n",
       "      <td>Age</td>\n",
       "      <td></td>\n",
       "      <td>64.4 (16.5)</td>\n",
       "      <td>0</td>\n",
       "      <td>3</td>\n",
       "      <td>64.4</td>\n",
       "      <td>16.5</td>\n",
       "    </tr>\n",
       "    <tr>\n",
       "      <th>5</th>\n",
       "      <td>Hospital LoS</td>\n",
       "      <td></td>\n",
       "      <td>6.5 (8.4)</td>\n",
       "      <td>0</td>\n",
       "      <td>3</td>\n",
       "      <td>6.5</td>\n",
       "      <td>8.4</td>\n",
       "    </tr>\n",
       "  </tbody>\n",
       "</table>\n",
       "</div>"
      ],
      "text/plain": [
       "       variable value      Overall  Missing Selection  mean    SD\n",
       "0           Age        58.8 (19.2)        0         1  58.8  19.2\n",
       "1  Hospital LoS          4.5 (6.6)        0         1   4.5   6.6\n",
       "2           Age        59.8 (18.9)        0         2  59.8  18.9\n",
       "3  Hospital LoS          4.9 (6.8)        0         2   4.9   6.8\n",
       "4           Age        64.4 (16.5)        0         3  64.4  16.5\n",
       "5  Hospital LoS          6.5 (8.4)        0         3   6.5   8.4"
      ]
     },
     "execution_count": 136,
     "metadata": {},
     "output_type": "execute_result"
    }
   ],
   "source": [
    "cont"
   ]
  },
  {
   "cell_type": "code",
   "execution_count": 130,
   "id": "28431059",
   "metadata": {},
   "outputs": [
    {
     "data": {
      "image/png": "[encoded data removed]",
      "text/plain": [
       "<Figure size 414x360 with 1 Axes>"
      ]
     },
     "metadata": {
      "needs_background": "light"
     },
     "output_type": "display_data"
    }
   ],
   "source": [
    "with sns.plotting_context(font_scale=2):\n",
    "    plot = sns.catplot(data=cat, x='%', y='variable', hue='Selection', kind='bar')\n",
    "    plot.savefig('consort_demo.pdf')"
   ]
  },
  {
   "cell_type": "code",
   "execution_count": null,
   "id": "f4b39ccc",
   "metadata": {},
   "outputs": [],
   "source": [
    "with sns.plotting_context(font_scale=2):\n",
    "    plot = sns.catplot(data=cat, x='%', y='variable', hue='Selection', kind='bar')\n",
    "    plot.savefig('consort_demo.pdf')"
   ]
  },
  {
   "cell_type": "code",
   "execution_count": 142,
   "id": "7d33a075",
   "metadata": {},
   "outputs": [
    {
     "data": {
      "text/plain": [
       "5.3"
      ]
     },
     "execution_count": 142,
     "metadata": {},
     "output_type": "execute_result"
    }
   ],
   "source": [
    "cont[~mask]['mean'].mean()"
   ]
  },
  {
   "cell_type": "code",
   "execution_count": 143,
   "id": "113e7f4b",
   "metadata": {},
   "outputs": [
    {
     "data": {
      "text/plain": [
       "61.0"
      ]
     },
     "execution_count": 143,
     "metadata": {},
     "output_type": "execute_result"
    }
   ],
   "source": [
    "cont[mask]['mean'].mean()"
   ]
  },
  {
   "cell_type": "code",
   "execution_count": 182,
   "id": "3a7ae2a5",
   "metadata": {},
   "outputs": [
    {
     "name": "stderr",
     "output_type": "stream",
     "text": [
      "/tmp/ipykernel_26474/2501164889.py:26: UserWarning: FixedFormatter should only be used together with FixedLocator\n",
      "  ax2.set_yticklabels(np.round(ax1.get_yticks() / scale,1))\n"
     ]
    },
    {
     "data": {
      "image/png": "[encoded data removed]",
      "text/plain": [
       "<Figure size 432x288 with 2 Axes>"
      ]
     },
     "metadata": {
      "needs_background": "light"
     },
     "output_type": "display_data"
    }
   ],
   "source": [
    "# Scale the data, just a simple example of how you might determine the scaling\n",
    "cont_scaled = cont.copy()\n",
    "\n",
    "mask = cont_scaled.variable == 'Hospital LoS'\n",
    "scale = cont_scaled[~mask]['mean'].mean() / cont_scaled[mask]['mean'].mean()\n",
    "cont_scaled.loc[mask, 'mean'] = cont_scaled.loc[mask, 'mean'] * scale\n",
    "# cont_scaled.loc[mask, 'SD'] = cont_scaled.loc[mask, 'SD'] * scale\n",
    "\n",
    "# Plot\n",
    "fig, ax1 = plt.subplots()\n",
    "g = sns.barplot(x=\"variable\", y=\"mean\", hue=\"Selection\",\n",
    "                data=cont_scaled, ax=ax1)\n",
    "\n",
    "# x_coords = [p.get_x() + 0.5 * p.get_width() for p in g.patches]\n",
    "# y_coords = [p.get_height() for p in g.patches]\n",
    "# g.errorbar(x=x_coords, y=y_coords, \n",
    "#            yerr=cont_scaled[\"SD\"], \n",
    "#            fmt=\"none\", c=\"k\")\n",
    "\n",
    "# Create a second y-axis with the scaled ticks\n",
    "ax1.set_ylabel('Years')\n",
    "ax2 = ax1.twinx()\n",
    "\n",
    "# Ensure ticks occur at the same positions, then modify labels\n",
    "ax2.set_ylim(ax1.get_ylim())\n",
    "ax2.set_yticklabels(np.round(ax1.get_yticks() / scale,1))\n",
    "ax2.set_ylabel('Days')\n",
    "\n",
    "plt.show()\n",
    "fig.savefig(\"consort_demo2.pdf\")"
   ]
  },
  {
   "cell_type": "markdown",
   "id": "d7a22d93",
   "metadata": {},
   "source": [
    "### Observable Measurements (Prediction Target)"
   ]
  },
  {
   "cell_type": "code",
   "execution_count": 13,
   "id": "62d2ebd7",
   "metadata": {},
   "outputs": [],
   "source": [
    "## NUMERIC FEATURES\n",
    "## TODO: add mergers across tables and within-tables.\n",
    "\n",
    "blood_gas = ['so2', 'po2', 'pco2', 'fio2', 'fio2_chartevents', 'aado2', 'aado2_calc', 'pao2fio2ratio', 'ph', 'baseexcess', 'bicarbonate', 'totalco2', 'hematocrit', 'hemoglobin', 'carboxyhemoglobin', 'methemoglobin', 'chloride', 'calcium', 'temperature', 'potassium', 'sodium', 'lactate', 'glucose']\n",
    "\n",
    "blood_chemistry = ['albumin','globulin','total_protein','aniongap','bicarbonate','bun','calcium','chloride','creatinine','glucose','sodium','potassium']\n",
    "\n",
    "cardiac_markers = ['troponin_t','ntprobnp','ck_mb']\n",
    "\n",
    "cbc = ['hematocrit','hemoglobin','mch','mchc','mcv','platelet','rbc','rdw','wbc']\n",
    "\n",
    "vital_signs = ['heart_rate','sbp','dbp','mbp','sbp_ni','dbp_ni','mbp_ni','resp_rate','temperature','spo2','glucose']\n",
    "\n",
    "# Glasgow Coma Scale, a measure of neurological function\n",
    "coma_signs = ['gcs','gcs_motor','gcs_verbal','gcs_eyes','gcs_unable']\n",
    "\n",
    "renal_out = ['uo_rt_6hr', 'uo_rt_12hr', 'uo_rt_24hr']\n",
    "\n",
    "renal_creat = ['creat']\n",
    "\n",
    "renal_aki = ['aki_stage_smoothed']"
   ]
  },
  {
   "cell_type": "code",
   "execution_count": 14,
   "id": "c159061e",
   "metadata": {},
   "outputs": [],
   "source": [
    "def filter_measurements(df, hadm_id_selection=None, subject_id_selection=None):\n",
    "    n = OrderedDict()\n",
    "    n['n0'] = len(df)\n",
    "    \n",
    "    cols = df.columns\n",
    "    \n",
    "    # (1) Filter measurements based on admission_id selection.\n",
    "    if hadm_id_selection is not None:\n",
    "        df = df[df.hadm_id.isin(hadm_id_selection)]\n",
    "    \n",
    "    n['n adm. filter'] = len(df)\n",
    "    \n",
    "    \n",
    "    # Merge with Admission Table\n",
    "    df_ = df.merge(adm_df, on='hadm_id', how='left')\n",
    "\n",
    "    # (2) Filter measurements based on subject_id selection\n",
    "    if subject_id_selection is not None:\n",
    "        df_ = df_[df_.subject_id.isin(subject_id_selection)]\n",
    "    \n",
    "    n['n subj. filter'] = len(df_)\n",
    "        \n",
    "    # (3) Filter measurements with time_bin outside the hosp stay.\n",
    "    mask = df_.time_bin.between(df_.admittime, df_.dischtime)\n",
    "    \n",
    "    df_ = df_[mask]\n",
    "    df = df_[cols]\n",
    "    n['n in-patient time'] = len(df)\n",
    "    \n",
    "    print('\\n'.join(f'{filt}: {num} ({100 * num / n[\"n0\"]:.1f})' for filt, num in n.items()))\n",
    "    print('\\n========\\n')\n",
    "    return df"
   ]
  },
  {
   "cell_type": "markdown",
   "id": "1ef43e8b",
   "metadata": {},
   "source": [
    "### Numeric Feature Tables"
   ]
  },
  {
   "cell_type": "code",
   "execution_count": 15,
   "id": "722d5f67",
   "metadata": {},
   "outputs": [],
   "source": [
    "agg_interval = 'hour'\n",
    "# For higher resolution binning see: \n",
    "# https://stackoverflow.com/questions/7299342/what-is-the-fastest-way-to-truncate-timestamps-to-5-minutes-in-postgres\n",
    "\n",
    "# Time-binning can be specific for each table"
   ]
  },
  {
   "cell_type": "code",
   "execution_count": 16,
   "id": "9db57a36",
   "metadata": {},
   "outputs": [
    {
     "name": "stderr",
     "output_type": "stream",
     "text": [
      "/tmp/ipykernel_243144/3420490817.py:31: UserWarning: pandas only supports SQLAlchemy connectable (engine/connection) or database string URI or sqlite3 DBAPI2 connection. Other DBAPI2 objects are not tested. Please consider using SQLAlchemy.\n",
      "  renal_out_df = pd.read_sql_query(renal_out_query, con)\n",
      "/tmp/ipykernel_243144/3420490817.py:32: UserWarning: pandas only supports SQLAlchemy connectable (engine/connection) or database string URI or sqlite3 DBAPI2 connection. Other DBAPI2 objects are not tested. Please consider using SQLAlchemy.\n",
      "  renal_creat_df = pd.read_sql_query(renal_creat_query, con)\n",
      "/tmp/ipykernel_243144/3420490817.py:33: UserWarning: pandas only supports SQLAlchemy connectable (engine/connection) or database string URI or sqlite3 DBAPI2 connection. Other DBAPI2 objects are not tested. Please consider using SQLAlchemy.\n",
      "  renal_aki_df = pd.read_sql_query(renal_aki_query, con)\n"
     ]
    }
   ],
   "source": [
    "renal_out_query = f\"\"\"\n",
    "select icu.hadm_id,\n",
    "       {', '.join(map(lambda e: f'avg(r.{e}) as {e}', renal_out))},\n",
    "       date_trunc('{agg_interval}', r.charttime) time_bin\n",
    "from mimiciv_derived.kdigo_uo as r\n",
    "inner join mimiciv_icu.icustays as icu\n",
    " on icu.stay_id = r.stay_id\n",
    "group by icu.hadm_id, time_bin\n",
    "\"\"\"\n",
    "\n",
    "renal_creat_query = f\"\"\"\n",
    "select icu.hadm_id,\n",
    "       {', '.join(map(lambda e: f'avg(r.{e}) as {e}', renal_creat))},\n",
    "       date_trunc('{agg_interval}', r.charttime) time_bin\n",
    "from mimiciv_derived.kdigo_creatinine as r\n",
    "inner join mimiciv_icu.icustays as icu\n",
    " on icu.stay_id = r.stay_id\n",
    "group by icu.hadm_id, time_bin\n",
    "\"\"\"\n",
    "\n",
    "renal_aki_query = f\"\"\"\n",
    "select icu.hadm_id,\n",
    "       {', '.join(map(lambda e: f'avg(r.{e}) as {e}', renal_aki))},\n",
    "       date_trunc('{agg_interval}', r.charttime) time_bin\n",
    "from mimiciv_derived.kdigo_stages as r\n",
    "inner join mimiciv_icu.icustays as icu\n",
    " on icu.stay_id = r.stay_id\n",
    "group by icu.hadm_id, time_bin\n",
    "\"\"\"\n",
    "\n",
    "renal_out_df = pd.read_sql_query(renal_out_query, con)\n",
    "renal_creat_df = pd.read_sql_query(renal_creat_query, con)\n",
    "renal_aki_df = pd.read_sql_query(renal_aki_query, con)\n"
   ]
  },
  {
   "cell_type": "code",
   "execution_count": 17,
   "id": "b21c11f9",
   "metadata": {},
   "outputs": [
    {
     "data": {
      "text/plain": [
       "3.0"
      ]
     },
     "execution_count": 17,
     "metadata": {},
     "output_type": "execute_result"
    }
   ],
   "source": [
    "renal_aki_df.aki_stage_smoothed.max()"
   ]
  },
  {
   "cell_type": "code",
   "execution_count": 18,
   "id": "5aa3bfdd",
   "metadata": {},
   "outputs": [],
   "source": [
    "renal_hadm_id = pd.Series(renal_aki_df.hadm_id.unique())"
   ]
  },
  {
   "cell_type": "code",
   "execution_count": 19,
   "id": "45c663d4",
   "metadata": {},
   "outputs": [
    {
     "data": {
      "text/html": [
       "<div>\n",
       "<style scoped>\n",
       "    .dataframe tbody tr th:only-of-type {\n",
       "        vertical-align: middle;\n",
       "    }\n",
       "\n",
       "    .dataframe tbody tr th {\n",
       "        vertical-align: top;\n",
       "    }\n",
       "\n",
       "    .dataframe thead th {\n",
       "        text-align: right;\n",
       "    }\n",
       "</style>\n",
       "<table border=\"1\" class=\"dataframe\">\n",
       "  <thead>\n",
       "    <tr style=\"text-align: right;\">\n",
       "      <th></th>\n",
       "      <th>subject_id</th>\n",
       "      <th>hadm_id</th>\n",
       "      <th>admittime</th>\n",
       "      <th>dischtime</th>\n",
       "      <th>adm_has_renal_data</th>\n",
       "    </tr>\n",
       "  </thead>\n",
       "  <tbody>\n",
       "    <tr>\n",
       "      <th>0</th>\n",
       "      <td>10000032</td>\n",
       "      <td>22595853</td>\n",
       "      <td>2180-05-06 22:23:00</td>\n",
       "      <td>2180-05-07 17:15:00</td>\n",
       "      <td>False</td>\n",
       "    </tr>\n",
       "    <tr>\n",
       "      <th>1</th>\n",
       "      <td>10000032</td>\n",
       "      <td>22841357</td>\n",
       "      <td>2180-06-26 18:27:00</td>\n",
       "      <td>2180-06-27 18:49:00</td>\n",
       "      <td>False</td>\n",
       "    </tr>\n",
       "    <tr>\n",
       "      <th>2</th>\n",
       "      <td>10000032</td>\n",
       "      <td>25742920</td>\n",
       "      <td>2180-08-05 23:44:00</td>\n",
       "      <td>2180-08-07 17:50:00</td>\n",
       "      <td>False</td>\n",
       "    </tr>\n",
       "    <tr>\n",
       "      <th>3</th>\n",
       "      <td>10000032</td>\n",
       "      <td>29079034</td>\n",
       "      <td>2180-07-23 12:35:00</td>\n",
       "      <td>2180-07-25 17:55:00</td>\n",
       "      <td>True</td>\n",
       "    </tr>\n",
       "    <tr>\n",
       "      <th>4</th>\n",
       "      <td>10000068</td>\n",
       "      <td>25022803</td>\n",
       "      <td>2160-03-03 23:16:00</td>\n",
       "      <td>2160-03-04 06:26:00</td>\n",
       "      <td>False</td>\n",
       "    </tr>\n",
       "    <tr>\n",
       "      <th>...</th>\n",
       "      <td>...</td>\n",
       "      <td>...</td>\n",
       "      <td>...</td>\n",
       "      <td>...</td>\n",
       "      <td>...</td>\n",
       "    </tr>\n",
       "    <tr>\n",
       "      <th>431226</th>\n",
       "      <td>19999828</td>\n",
       "      <td>25744818</td>\n",
       "      <td>2149-01-08 16:44:00</td>\n",
       "      <td>2149-01-18 17:00:00</td>\n",
       "      <td>True</td>\n",
       "    </tr>\n",
       "    <tr>\n",
       "      <th>431227</th>\n",
       "      <td>19999828</td>\n",
       "      <td>29734428</td>\n",
       "      <td>2147-07-18 16:23:00</td>\n",
       "      <td>2147-08-04 18:10:00</td>\n",
       "      <td>False</td>\n",
       "    </tr>\n",
       "    <tr>\n",
       "      <th>431228</th>\n",
       "      <td>19999840</td>\n",
       "      <td>21033226</td>\n",
       "      <td>2164-09-10 13:47:00</td>\n",
       "      <td>2164-09-17 13:42:00</td>\n",
       "      <td>True</td>\n",
       "    </tr>\n",
       "    <tr>\n",
       "      <th>431229</th>\n",
       "      <td>19999840</td>\n",
       "      <td>26071774</td>\n",
       "      <td>2164-07-25 00:27:00</td>\n",
       "      <td>2164-07-28 12:15:00</td>\n",
       "      <td>False</td>\n",
       "    </tr>\n",
       "    <tr>\n",
       "      <th>431230</th>\n",
       "      <td>19999987</td>\n",
       "      <td>23865745</td>\n",
       "      <td>2145-11-02 21:38:00</td>\n",
       "      <td>2145-11-11 12:57:00</td>\n",
       "      <td>True</td>\n",
       "    </tr>\n",
       "  </tbody>\n",
       "</table>\n",
       "<p>431231 rows × 5 columns</p>\n",
       "</div>"
      ],
      "text/plain": [
       "        subject_id   hadm_id           admittime           dischtime  \\\n",
       "0         10000032  22595853 2180-05-06 22:23:00 2180-05-07 17:15:00   \n",
       "1         10000032  22841357 2180-06-26 18:27:00 2180-06-27 18:49:00   \n",
       "2         10000032  25742920 2180-08-05 23:44:00 2180-08-07 17:50:00   \n",
       "3         10000032  29079034 2180-07-23 12:35:00 2180-07-25 17:55:00   \n",
       "4         10000068  25022803 2160-03-03 23:16:00 2160-03-04 06:26:00   \n",
       "...            ...       ...                 ...                 ...   \n",
       "431226    19999828  25744818 2149-01-08 16:44:00 2149-01-18 17:00:00   \n",
       "431227    19999828  29734428 2147-07-18 16:23:00 2147-08-04 18:10:00   \n",
       "431228    19999840  21033226 2164-09-10 13:47:00 2164-09-17 13:42:00   \n",
       "431229    19999840  26071774 2164-07-25 00:27:00 2164-07-28 12:15:00   \n",
       "431230    19999987  23865745 2145-11-02 21:38:00 2145-11-11 12:57:00   \n",
       "\n",
       "        adm_has_renal_data  \n",
       "0                    False  \n",
       "1                    False  \n",
       "2                    False  \n",
       "3                     True  \n",
       "4                    False  \n",
       "...                    ...  \n",
       "431226                True  \n",
       "431227               False  \n",
       "431228                True  \n",
       "431229               False  \n",
       "431230                True  \n",
       "\n",
       "[431231 rows x 5 columns]"
      ]
     },
     "execution_count": 19,
     "metadata": {},
     "output_type": "execute_result"
    }
   ],
   "source": [
    "adm_df['adm_has_renal_data'] = adm_df.hadm_id.isin(renal_hadm_id)\n",
    "adm_df\n",
    "\n",
    "\n"
   ]
  },
  {
   "cell_type": "code",
   "execution_count": 20,
   "id": "a18ac546",
   "metadata": {},
   "outputs": [
    {
     "name": "stderr",
     "output_type": "stream",
     "text": [
      "/tmp/ipykernel_243144/2440518339.py:3: SettingWithCopyWarning: \n",
      "A value is trying to be set on a copy of a slice from a DataFrame.\n",
      "Try using .loc[row_indexer,col_indexer] = value instead\n",
      "\n",
      "See the caveats in the documentation: https://pandas.pydata.org/pandas-docs/stable/user_guide/indexing.html#returning-a-view-versus-a-copy\n",
      "  subjects_with_renal_info['p_adm_with_renal_info'] = subjects_with_renal_info['adm_has_renal_data'] / subjects_with_renal_info['n_adm']\n"
     ]
    }
   ],
   "source": [
    "subject_has_renal = adm_df.groupby('subject_id', as_index=False).agg(n_adm=('hadm_id', 'nunique'), adm_has_renal_data=('adm_has_renal_data', 'sum'))\n",
    "subjects_with_renal_info = subject_has_renal[subject_has_renal['adm_has_renal_data'] > 0]\n",
    "subjects_with_renal_info['p_adm_with_renal_info'] = subjects_with_renal_info['adm_has_renal_data'] / subjects_with_renal_info['n_adm']\n",
    "subject_id_with_renal_info = subjects_with_renal_info.subject_id\n",
    "# subjects_with_renal_info['p_adm_with_renal_info'].hist()"
   ]
  },
  {
   "cell_type": "code",
   "execution_count": 21,
   "id": "39957214",
   "metadata": {},
   "outputs": [
    {
     "data": {
      "text/plain": [
       "180733"
      ]
     },
     "execution_count": 21,
     "metadata": {},
     "output_type": "execute_result"
    }
   ],
   "source": [
    "adm_df.subject_id.nunique()"
   ]
  },
  {
   "cell_type": "code",
   "execution_count": 22,
   "id": "39b02c3b",
   "metadata": {},
   "outputs": [
    {
     "data": {
      "text/plain": [
       "0         10000032\n",
       "16        10000980\n",
       "19        10001217\n",
       "27        10001725\n",
       "31        10001884\n",
       "            ...   \n",
       "180723    19999442\n",
       "180727    19999625\n",
       "180730    19999828\n",
       "180731    19999840\n",
       "180732    19999987\n",
       "Name: subject_id, Length: 50920, dtype: int64"
      ]
     },
     "execution_count": 22,
     "metadata": {},
     "output_type": "execute_result"
    }
   ],
   "source": [
    "subject_id_with_renal_info"
   ]
  },
  {
   "cell_type": "code",
   "execution_count": 23,
   "id": "dd35907f",
   "metadata": {},
   "outputs": [
    {
     "name": "stdout",
     "output_type": "stream",
     "text": [
      "n0: 3294878 (100.0)\n",
      "n adm. filter: 3292534 (99.9)\n",
      "n subj. filter: 3292534 (99.9)\n",
      "n in-patient time: 3285718 (99.7)\n",
      "\n",
      "========\n",
      "\n",
      "n0: 568158 (100.0)\n",
      "n adm. filter: 566564 (99.7)\n",
      "n subj. filter: 566564 (99.7)\n",
      "n in-patient time: 502249 (88.4)\n",
      "\n",
      "========\n",
      "\n",
      "n0: 3687859 (100.0)\n",
      "n adm. filter: 3684212 (99.9)\n",
      "n subj. filter: 3684212 (99.9)\n",
      "n in-patient time: 3613898 (98.0)\n",
      "\n",
      "========\n",
      "\n"
     ]
    }
   ],
   "source": [
    "renal_out_df = filter_measurements(renal_out_df, hadm_id_selection=hadm_id_los_geq_12h, \n",
    "                                   subject_id_selection=subject_id_with_renal_info)\n",
    "renal_creat_df = filter_measurements(renal_creat_df, hadm_id_selection=hadm_id_los_geq_12h, \n",
    "                                     subject_id_selection=subject_id_with_renal_info)\n",
    "renal_aki_df = filter_measurements(renal_aki_df, hadm_id_selection=hadm_id_los_geq_12h, \n",
    "                                   subject_id_selection=subject_id_with_renal_info)"
   ]
  },
  {
   "cell_type": "code",
   "execution_count": 24,
   "id": "708b0613",
   "metadata": {},
   "outputs": [
    {
     "name": "stderr",
     "output_type": "stream",
     "text": [
      "/tmp/ipykernel_243144/1889668532.py:10: UserWarning: pandas only supports SQLAlchemy connectable (engine/connection) or database string URI or sqlite3 DBAPI2 connection. Other DBAPI2 objects are not tested. Please consider using SQLAlchemy.\n",
      "  sofa_df = pd.read_sql_query(sofa_query,con)\n"
     ]
    }
   ],
   "source": [
    "sofa_query = f\"\"\"\n",
    "select hadm_id,\n",
    "      avg(s.sofa_24hours) as sofa ,\n",
    "      date_trunc('{agg_interval}', s.endtime) time_bin\n",
    "from mimiciv_derived.sofa as s\n",
    "inner join mimiciv_icu.icustays icu on s.stay_id = icu.stay_id\n",
    "group by hadm_id, time_bin\n",
    "\"\"\"\n",
    "\n",
    "sofa_df = pd.read_sql_query(sofa_query,con)"
   ]
  },
  {
   "cell_type": "code",
   "execution_count": 25,
   "id": "43d921fd",
   "metadata": {},
   "outputs": [
    {
     "name": "stdout",
     "output_type": "stream",
     "text": [
      "n0: 6044160 (100.0)\n",
      "n adm. filter: 6037941 (99.9)\n",
      "n subj. filter: 6037941 (99.9)\n",
      "n in-patient time: 6001782 (99.3)\n",
      "\n",
      "========\n",
      "\n"
     ]
    }
   ],
   "source": [
    "sofa_df = filter_measurements(sofa_df, hadm_id_selection=hadm_id_los_geq_12h, \n",
    "                            subject_id_selection=subject_id_with_renal_info)"
   ]
  },
  {
   "cell_type": "code",
   "execution_count": 26,
   "id": "00ec2df9",
   "metadata": {},
   "outputs": [
    {
     "name": "stderr",
     "output_type": "stream",
     "text": [
      "/tmp/ipykernel_243144/2675251452.py:10: UserWarning: pandas only supports SQLAlchemy connectable (engine/connection) or database string URI or sqlite3 DBAPI2 connection. Other DBAPI2 objects are not tested. Please consider using SQLAlchemy.\n",
      "  bg_df = pd.read_sql_query(blood_gas_query,con)\n"
     ]
    }
   ],
   "source": [
    "blood_gas_query = f\"\"\"\n",
    "select hadm_id,\n",
    "       {', '.join(map(lambda e: f'avg(bg.{e}) as {e}', blood_gas))},\n",
    "       date_trunc('{agg_interval}', bg.charttime) time_bin\n",
    "from mimiciv_derived.bg as bg\n",
    "where hadm_id is not null\n",
    "group by hadm_id, time_bin\n",
    "\"\"\"\n",
    "\n",
    "bg_df = pd.read_sql_query(blood_gas_query,con)"
   ]
  },
  {
   "cell_type": "code",
   "execution_count": 27,
   "id": "45497725",
   "metadata": {},
   "outputs": [
    {
     "name": "stdout",
     "output_type": "stream",
     "text": [
      "n0: 443301 (100.0)\n",
      "n adm. filter: 442007 (99.7)\n",
      "n subj. filter: 409545 (92.4)\n",
      "n in-patient time: 404226 (91.2)\n",
      "\n",
      "========\n",
      "\n"
     ]
    }
   ],
   "source": [
    "bg_df = filter_measurements(bg_df, hadm_id_selection=hadm_id_los_geq_12h, \n",
    "                            subject_id_selection=subject_id_with_renal_info)"
   ]
  },
  {
   "cell_type": "code",
   "execution_count": 28,
   "id": "4d8ca15a",
   "metadata": {},
   "outputs": [
    {
     "name": "stderr",
     "output_type": "stream",
     "text": [
      "/tmp/ipykernel_243144/1787413314.py:10: UserWarning: pandas only supports SQLAlchemy connectable (engine/connection) or database string URI or sqlite3 DBAPI2 connection. Other DBAPI2 objects are not tested. Please consider using SQLAlchemy.\n",
      "  ch_df = pd.read_sql_query(blood_chemistry_query,con)\n"
     ]
    }
   ],
   "source": [
    "blood_chemistry_query = f\"\"\"\n",
    "select hadm_id,\n",
    "       {', '.join(map(lambda e: f'avg(ch.{e}) as {e}', blood_chemistry))},\n",
    "       date_trunc('{agg_interval}', ch.charttime) time_bin\n",
    "from mimiciv_derived.chemistry as ch\n",
    "where hadm_id is not null\n",
    "group by hadm_id, time_bin\n",
    "\"\"\"\n",
    "\n",
    "ch_df = pd.read_sql_query(blood_chemistry_query,con)"
   ]
  },
  {
   "cell_type": "code",
   "execution_count": 29,
   "id": "14e033a4",
   "metadata": {},
   "outputs": [
    {
     "data": {
      "text/plain": [
       "hadm_id                   int64\n",
       "albumin                 float64\n",
       "globulin                float64\n",
       "total_protein           float64\n",
       "aniongap                float64\n",
       "bicarbonate             float64\n",
       "bun                     float64\n",
       "calcium                 float64\n",
       "chloride                float64\n",
       "creatinine              float64\n",
       "glucose                 float64\n",
       "sodium                  float64\n",
       "potassium               float64\n",
       "time_bin         datetime64[ns]\n",
       "dtype: object"
      ]
     },
     "execution_count": 29,
     "metadata": {},
     "output_type": "execute_result"
    }
   ],
   "source": [
    "ch_df.dtypes"
   ]
  },
  {
   "cell_type": "code",
   "execution_count": 30,
   "id": "f3ccdda6",
   "metadata": {},
   "outputs": [
    {
     "name": "stdout",
     "output_type": "stream",
     "text": [
      "n0: 1995534 (100.0)\n",
      "n adm. filter: 1987259 (99.6)\n",
      "n subj. filter: 1334968 (66.9)\n",
      "n in-patient time: 1313463 (65.8)\n",
      "\n",
      "========\n",
      "\n"
     ]
    }
   ],
   "source": [
    "ch_df = filter_measurements(ch_df, hadm_id_selection=hadm_id_los_geq_12h, \n",
    "                            subject_id_selection=subject_id_with_renal_info)"
   ]
  },
  {
   "cell_type": "code",
   "execution_count": null,
   "id": "276cd4a6",
   "metadata": {},
   "outputs": [
    {
     "name": "stderr",
     "output_type": "stream",
     "text": [
      "/tmp/ipykernel_243144/2989961123.py:25: UserWarning: pandas only supports SQLAlchemy connectable (engine/connection) or database string URI or sqlite3 DBAPI2 connection. Other DBAPI2 objects are not tested. Please consider using SQLAlchemy.\n",
      "  cardiac_df = pd.read_sql_query(cardiac_marker_query,con)\n"
     ]
    }
   ],
   "source": [
    "cardiac_marker_query = \\\n",
    "f\"\"\"\n",
    "WITH trop AS\n",
    "(\n",
    "    SELECT specimen_id, MAX(valuenum) AS troponin_t\n",
    "    FROM mimiciv_hosp.labevents\n",
    "    WHERE itemid = 51003\n",
    "    GROUP BY specimen_id\n",
    ")\n",
    "SELECT\n",
    "    c.hadm_id\n",
    "    , date_trunc('{agg_interval}', c.charttime) time_bin\n",
    "    , avg(trop.troponin_t) as troponin_t\n",
    "    , avg(c.ntprobnp) as ntprobnp\n",
    "    , avg(c.ck_mb) as ck_mb\n",
    "FROM mimiciv_hosp.admissions a\n",
    "LEFT JOIN mimiciv_derived.cardiac_marker c\n",
    "  ON a.hadm_id = c.hadm_id\n",
    "LEFT JOIN trop\n",
    "  ON c.specimen_id = trop.specimen_id\n",
    "WHERE c.hadm_id is not null\n",
    "GROUP BY c.hadm_id, time_bin\n",
    "\"\"\"\n",
    "\n",
    "cardiac_df = pd.read_sql_query(cardiac_marker_query,con)"
   ]
  },
  {
   "cell_type": "code",
   "execution_count": null,
   "id": "10ca81f8",
   "metadata": {},
   "outputs": [],
   "source": [
    "cardiac_df.dtypes"
   ]
  },
  {
   "cell_type": "code",
   "execution_count": null,
   "id": "634276fd",
   "metadata": {},
   "outputs": [],
   "source": [
    "cardiac_df = filter_measurements(cardiac_df, hadm_id_selection=hadm_id_los_geq_12h, \n",
    "                                 subject_id_selection=subject_id_with_renal_info)"
   ]
  },
  {
   "cell_type": "code",
   "execution_count": null,
   "id": "77dc7932",
   "metadata": {},
   "outputs": [],
   "source": [
    "temp_query = \\\n",
    "f\"\"\"\n",
    "WITH temp_t AS (\n",
    "    SELECT c.hadm_id\n",
    "        , c.charttime\n",
    "        , CASE\n",
    "            WHEN LOWER(c.valueuom)  like '%°f%' THEN (c.valuenum - 32) / 1.8\n",
    "                ELSE c.valuenum\n",
    "          END AS temperature\n",
    "    FROM mimiciv_hosp.admissions a\n",
    "    INNER JOIN mimiciv_icu.chartevents c\n",
    "      ON a.hadm_id = c.hadm_id\n",
    "    INNER JOIN mimiciv_icu.d_items di\n",
    "      ON c.itemid = di.itemid\n",
    "    AND c.itemid IN\n",
    "    (\n",
    "    227632, -- Arctic Sun/Alsius Temp #1 C\n",
    "    227634, -- Arctic Sun/Alsius Temp #2 C\n",
    "    223761 -- Temperature Fahrenheit\n",
    "    )\n",
    "    AND valuenum > 10 AND valuenum < 120\n",
    ")\n",
    "SELECT temp_t.hadm_id\n",
    "     , AVG(temp_t.temperature) temperature\n",
    "     , DATE_TRUNC('{agg_interval}', temp_t.charttime) time_bin\n",
    "FROM temp_t\n",
    "GROUP BY temp_t.hadm_id, time_bin\n",
    "\"\"\"\n",
    "temp_df = pd.read_sql_query(temp_query,con)"
   ]
  },
  {
   "cell_type": "code",
   "execution_count": null,
   "id": "d90c6138",
   "metadata": {},
   "outputs": [],
   "source": [
    "temp_df = filter_measurements(temp_df, hadm_id_selection=hadm_id_los_geq_12h, \n",
    "                              subject_id_selection=subject_id_with_renal_info)"
   ]
  },
  {
   "cell_type": "code",
   "execution_count": null,
   "id": "a614accc",
   "metadata": {},
   "outputs": [],
   "source": [
    "weight_query = f\"\"\"\n",
    "select icu.hadm_id,\n",
    "     avg(w.weight) weight,\n",
    "        w.time_bin\n",
    " from (\n",
    " (select stay_id, w.weight, date_trunc('{agg_interval}', w.starttime) time_bin\n",
    "  from mimiciv_derived.weight_durations as w)\n",
    " union all\n",
    " (select stay_id, w.weight, date_trunc('{agg_interval}', w.endtime) time_bin\n",
    "     from mimiciv_derived.weight_durations as w)\n",
    " ) w\n",
    "inner join mimiciv_icu.icustays icu on w.stay_id = icu.stay_id\n",
    "group by icu.hadm_id, w.time_bin\n",
    "\"\"\"\n",
    "\n",
    "weight_df = pd.read_sql_query(weight_query,con)"
   ]
  },
  {
   "cell_type": "code",
   "execution_count": null,
   "id": "9e9de307",
   "metadata": {},
   "outputs": [],
   "source": [
    "weight_df = filter_measurements(weight_df, hadm_id_selection=hadm_id_los_geq_12h, \n",
    "                                subject_id_selection=subject_id_with_renal_info)"
   ]
  },
  {
   "cell_type": "code",
   "execution_count": null,
   "id": "3e5fec33",
   "metadata": {},
   "outputs": [],
   "source": [
    "cbc_query = f\"\"\"\n",
    "select hadm_id,\n",
    "       {', '.join(map(lambda e: f'avg(cbc.{e}) as {e}', cbc))},\n",
    "       date_trunc('{agg_interval}', cbc.charttime) time_bin\n",
    "from mimiciv_derived.complete_blood_count as cbc\n",
    "where hadm_id is not null\n",
    "group by hadm_id, time_bin\n",
    "\"\"\"\n",
    "cbc_df = pd.read_sql_query(cbc_query, con)"
   ]
  },
  {
   "cell_type": "code",
   "execution_count": null,
   "id": "7d3978b8",
   "metadata": {},
   "outputs": [],
   "source": [
    "cbc_df.dtypes"
   ]
  },
  {
   "cell_type": "code",
   "execution_count": null,
   "id": "77b88303",
   "metadata": {},
   "outputs": [],
   "source": [
    "cbc_df = filter_measurements(cbc_df, hadm_id_selection=hadm_id_los_geq_12h, \n",
    "                             subject_id_selection=subject_id_with_renal_info)"
   ]
  },
  {
   "cell_type": "code",
   "execution_count": null,
   "id": "652cbb63",
   "metadata": {},
   "outputs": [],
   "source": [
    "vital_query = f\"\"\"\n",
    "select icu.hadm_id,\n",
    "       {', '.join(map(lambda e: f'avg(v.{e}) as {e}', vital_signs))},\n",
    "       date_trunc('{agg_interval}', v.charttime) time_bin\n",
    "from mimiciv_derived.vitalsign as v\n",
    "inner join mimiciv_icu.icustays as icu\n",
    " on icu.stay_id = v.stay_id\n",
    "group by icu.hadm_id, time_bin\n",
    "\"\"\"\n",
    "vital_df = pd.read_sql_query(vital_query, con)"
   ]
  },
  {
   "cell_type": "code",
   "execution_count": null,
   "id": "c4bef1e2",
   "metadata": {},
   "outputs": [],
   "source": [
    "vital_df = filter_measurements(vital_df, hadm_id_selection=hadm_id_los_geq_12h, \n",
    "                               subject_id_selection=subject_id_with_renal_info)"
   ]
  },
  {
   "cell_type": "code",
   "execution_count": null,
   "id": "134123a4",
   "metadata": {},
   "outputs": [],
   "source": [
    "gcs_query = f\"\"\"\n",
    "select icu.hadm_id,\n",
    "       {', '.join(map(lambda e: f'avg(gcs.{e}) as {e}', coma_signs))},\n",
    "       date_trunc('{agg_interval}', gcs.charttime) time_bin\n",
    "from mimiciv_derived.gcs as gcs\n",
    "inner join mimiciv_icu.icustays as icu\n",
    " on icu.stay_id = gcs.stay_id\n",
    "group by icu.hadm_id, time_bin\n",
    "\"\"\"\n",
    "gcs_df = pd.read_sql_query(gcs_query, con)"
   ]
  },
  {
   "cell_type": "code",
   "execution_count": null,
   "id": "ec028841",
   "metadata": {},
   "outputs": [],
   "source": [
    "gcs_df = filter_measurements(gcs_df, hadm_id_selection=hadm_id_los_geq_12h, \n",
    "                             subject_id_selection=subject_id_with_renal_info)"
   ]
  },
  {
   "cell_type": "code",
   "execution_count": null,
   "id": "d7924f94",
   "metadata": {},
   "outputs": [],
   "source": [
    "obs_tables = {'blood_gas': bg_df,\n",
    "             'chemistry': ch_df,\n",
    "             'cardiac_marker': cardiac_df,\n",
    "             'temperature': temp_df,\n",
    "             'weight': weight_df,\n",
    "             'cbc': cbc_df,\n",
    "             'vital': vital_df,\n",
    "             'gcs': gcs_df,\n",
    "             'renal_out': renal_out_df,\n",
    "             'renal_creat': renal_creat_df,\n",
    "             'renal_aki': renal_aki_df,\n",
    "             'sofa': sofa_df}\n",
    "obs_columns = {table_name: set(df.columns) - {'time_bin', 'hadm_id'} for table_name, df in obs_tables.items()}"
   ]
  },
  {
   "cell_type": "code",
   "execution_count": null,
   "id": "7d0fd952",
   "metadata": {},
   "outputs": [],
   "source": [
    "obs_group = {col: group for group, cols in obs_columns.items() for col in cols}\n",
    "obs_codes = pd.DataFrame({'label': sorted(obs_group), 'group': map(obs_group.get, sorted(obs_group))})\n",
    "obs_codes = obs_codes.sort_values(by='group').reset_index(drop=True)\n",
    "obs_codes['code'] = obs_codes.index.map(lambda i: f'o{i:02d}')\n",
    "code_map = dict(zip(obs_codes.label, obs_codes.code))"
   ]
  },
  {
   "cell_type": "code",
   "execution_count": null,
   "id": "235c0a2a",
   "metadata": {},
   "outputs": [],
   "source": [
    "obs_melted_tables = {k: pd.melt(df, id_vars=['hadm_id', 'time_bin'], \n",
    "                                var_name=['code'],\n",
    "                                value_vars=obs_columns[k]) for k, df in\n",
    "                    obs_tables.items()}\n",
    "\n",
    "obs_melted_tables = {k: df[df.value.notnull()] for k, df in obs_melted_tables.items()}"
   ]
  },
  {
   "cell_type": "code",
   "execution_count": null,
   "id": "e8f1dce3",
   "metadata": {},
   "outputs": [],
   "source": [
    "obs_df = pd.concat(obs_melted_tables.values(), axis=0)"
   ]
  },
  {
   "cell_type": "code",
   "execution_count": null,
   "id": "17168ae5",
   "metadata": {},
   "outputs": [],
   "source": [
    "obs_df['code'] = obs_df['code'].map(code_map)\n",
    "obs_df"
   ]
  },
  {
   "cell_type": "code",
   "execution_count": null,
   "id": "48b2fd11",
   "metadata": {},
   "outputs": [],
   "source": [
    "obs_df.to_csv('obs_df.csv.gz', compression='gzip')\n",
    "obs_codes.to_csv('mimic4_obs_codes.csv.gz', compression='gzip')"
   ]
  },
  {
   "cell_type": "code",
   "execution_count": null,
   "id": "6199bc9a",
   "metadata": {},
   "outputs": [],
   "source": [
    "obs_codes"
   ]
  },
  {
   "cell_type": "markdown",
   "id": "ea32e37d",
   "metadata": {},
   "source": [
    "### Interventions\n",
    "\n"
   ]
  },
  {
   "cell_type": "code",
   "execution_count": null,
   "id": "d11cef40",
   "metadata": {},
   "outputs": [],
   "source": [
    "## Inputs - Canonicalise\n",
    "\n",
    "input_query = \\\n",
    "\"\"\"\n",
    "SELECT\n",
    "    a.hadm_id\n",
    "    , inp.starttime as start_time\n",
    "    , inp.endtime as end_time\n",
    "    , di.label\n",
    "    , inp.rate \n",
    "    , inp.amount\n",
    "    , inp.rateuom\n",
    "    , inp.amountuom\n",
    "FROM mimiciv_hosp.admissions a\n",
    "INNER JOIN mimiciv_icu.icustays i\n",
    "    ON a.hadm_id = i.hadm_id\n",
    "LEFT JOIN mimiciv_icu.inputevents inp\n",
    "    ON i.stay_id = inp.stay_id\n",
    "LEFT JOIN mimiciv_icu.d_items di\n",
    "    ON inp.itemid = di.itemid\n",
    "\"\"\"\n",
    "\n",
    "\n",
    "## Procedures - Canonicalise and Refine\n",
    "icuproc_query = \\\n",
    "\"\"\"\n",
    "SELECT\n",
    "    a.hadm_id\n",
    "    , pe.starttime as start_time\n",
    "    , pe.endtime as end_time\n",
    "    , di.label\n",
    "    , pe.value\n",
    "FROM mimiciv_hosp.admissions a\n",
    "INNER JOIN mimiciv_icu.icustays i\n",
    "    ON a.hadm_id = i.hadm_id\n",
    "LEFT JOIN mimiciv_icu.procedureevents pe\n",
    "    ON i.stay_id = pe.stay_id\n",
    "LEFT JOIN mimiciv_icu.d_items di\n",
    "    ON pe.itemid = di.itemid\n",
    "\"\"\"\n",
    "\n",
    "hospicdproc_query = \\\n",
    "\"\"\"\n",
    "select pi.hadm_id\n",
    ", (pi.chartdate)::timestamp as start_time\n",
    ", (pi.chartdate + interval '1 hour')::timestamp as end_time\n",
    ", pi.icd_code\n",
    ", pi.icd_version\n",
    ", di.long_title\n",
    "FROM mimiciv_hosp.procedures_icd pi\n",
    "INNER JOIN mimiciv_hosp.d_icd_procedures di\n",
    "  ON pi.icd_version = di.icd_version\n",
    "  AND pi.icd_code = di.icd_code\n",
    "INNER JOIN mimiciv_hosp.admissions a\n",
    "  ON pi.hadm_id = a.hadm_id\n",
    "\"\"\"\n",
    "\n",
    "\n",
    "# === provider order entry (poe) <----- very messy, high irrelevance, ignore\n",
    "\n",
    "poe_query = f\"\"\"\n",
    "SELECT\n",
    "    a.hadm_id\n",
    "    , mimiciv_derived.DATETIME_DIFF(p.ordertime, a.admittime, 'DAY') AS offset\n",
    "    , p.poe_id\n",
    "    , p.order_type, p.order_subtype\n",
    "    , p.transaction_type\n",
    "    , pd.field_name\n",
    "    , pd.field_value\n",
    "FROM mimiciv_hosp.admissions a\n",
    "INNER JOIN mimiciv_hosp.poe p\n",
    "    ON a.hadm_id = p.hadm_id\n",
    "LEFT JOIN  mimiciv_hosp.poe_detail pd\n",
    "    ON p.poe_id = pd.poe_id\n",
    "\"\"\""
   ]
  },
  {
   "cell_type": "code",
   "execution_count": null,
   "id": "1920e3c6",
   "metadata": {},
   "outputs": [],
   "source": [
    "input_df = pd.read_sql_query(input_query,con)"
   ]
  },
  {
   "cell_type": "code",
   "execution_count": null,
   "id": "abd57e5f",
   "metadata": {},
   "outputs": [],
   "source": [
    "icuproc_df = pd.read_sql_query(icuproc_query,con)"
   ]
  },
  {
   "cell_type": "code",
   "execution_count": null,
   "id": "bcaa8c5e",
   "metadata": {},
   "outputs": [],
   "source": [
    "hospicdproc_df = pd.read_sql_query(hospicdproc_query,con)"
   ]
  },
  {
   "cell_type": "code",
   "execution_count": null,
   "id": "8dbb6942",
   "metadata": {},
   "outputs": [],
   "source": [
    "# Ignored entirely\n",
    "# poe_df = pd.read_sql_query(poe_query,con)"
   ]
  },
  {
   "cell_type": "code",
   "execution_count": null,
   "id": "15b52aea",
   "metadata": {},
   "outputs": [],
   "source": [
    "def filter_interventions(df, hadm_id_selection=None, subject_id_selection=None):\n",
    "    n = OrderedDict()\n",
    "    n['n0'] = len(df)\n",
    "    \n",
    "    cols = df.columns\n",
    "    \n",
    "    # (1) Filter interventions based on admission_id selection.\n",
    "    if hadm_id_selection is not None:\n",
    "        df = df[df.hadm_id.isin(hadm_id_selection)]\n",
    "    \n",
    "    n['n adm. filter'] = len(df)\n",
    "    \n",
    "    \n",
    "    # Merge with Admission Table\n",
    "    df_ = df.merge(adm_df, on='hadm_id', how='left')\n",
    "\n",
    "    # (2) Filter interventions based on subject_id selection\n",
    "    if subject_id_selection is not None:\n",
    "        df_ = df_[df_.subject_id.isin(subject_id_selection)]\n",
    "    \n",
    "    n['n subj. filter'] = len(df_)\n",
    "        \n",
    "    # (3) Filter interventions with intervals outside the hosp stay.\n",
    "    mask1 = df_.start_time.between(df_.admittime, df_.dischtime)\n",
    "    mask2 = df_.end_time.between(df_.admittime, df_.dischtime)\n",
    "    n['n start-time filter'] = sum(mask1)\n",
    "    n['n end-time filter'] = sum(mask1 & mask2)\n",
    "\n",
    "    df_ = df_[mask1 & mask2]    \n",
    "    \n",
    "    df = df_[cols]\n",
    "    n['n in-patient time'] = len(df)\n",
    "    \n",
    "    print('\\n'.join(f'{filt}: {num} ({100 * num / n[\"n0\"]:.1f})' for filt, num in n.items()))\n",
    "    print('\\n========\\n')\n",
    "    return df"
   ]
  },
  {
   "cell_type": "code",
   "execution_count": null,
   "id": "8d0ce24b",
   "metadata": {},
   "outputs": [],
   "source": [
    "input_df = filter_interventions(input_df, hadm_id_selection=hadm_id_los_geq_12h, \n",
    "                                subject_id_selection=subject_id_with_renal_info)"
   ]
  },
  {
   "cell_type": "code",
   "execution_count": null,
   "id": "520d7e85",
   "metadata": {},
   "outputs": [],
   "source": [
    "input_df.label.nunique()"
   ]
  },
  {
   "cell_type": "code",
   "execution_count": null,
   "id": "0c5e1dc4",
   "metadata": {},
   "outputs": [],
   "source": [
    "icuproc_df = filter_interventions(icuproc_df, hadm_id_selection=hadm_id_los_geq_12h, \n",
    "                                subject_id_selection=subject_id_with_renal_info)"
   ]
  },
  {
   "cell_type": "code",
   "execution_count": null,
   "id": "e54fd11d",
   "metadata": {},
   "outputs": [],
   "source": [
    "hospicdproc_df = filter_interventions(hospicdproc_df, hadm_id_selection=hadm_id_los_geq_12h, \n",
    "                                subject_id_selection=subject_id_with_renal_info)"
   ]
  },
  {
   "cell_type": "code",
   "execution_count": null,
   "id": "ad5a0649",
   "metadata": {},
   "outputs": [],
   "source": [
    "hospicdproc_df"
   ]
  },
  {
   "cell_type": "markdown",
   "id": "bbc041fa",
   "metadata": {},
   "source": [
    "### `hospicdproc` + `icuproc` Further filteration and grouper"
   ]
  },
  {
   "cell_type": "code",
   "execution_count": null,
   "id": "85e05ed6",
   "metadata": {},
   "outputs": [],
   "source": [
    "df = hospicdproc_df.merge(adm_df, on='hadm_id', how='left')\n",
    "\n",
    "# timeperc_within_stay = (df['start_time'] - df['admittime']).dt.total_seconds() /(df['dischtime'] - df['admittime']).dt.total_seconds()\n",
    "# timeperc_within_stay.plot.kde()"
   ]
  },
  {
   "cell_type": "code",
   "execution_count": null,
   "id": "f900c29c",
   "metadata": {},
   "outputs": [],
   "source": [
    "icd_n_subjects = df.groupby(['icd_code', 'long_title', 'icd_version'], as_index=False).agg(n_subjects=('subject_id', 'nunique'))\n",
    "icd_n_subjects['p_subjects'] = icd_n_subjects['n_subjects'] / len(subject_id_with_renal_info)\n",
    "# icd_n_subjects['p_subjects'].plot.kde()"
   ]
  },
  {
   "cell_type": "code",
   "execution_count": null,
   "id": "0fb5f065",
   "metadata": {},
   "outputs": [],
   "source": [
    "# Conisder ICD codes with minimum coverage of 0.5% of the selected subjects.\n",
    "hospicd_R1 = icd_n_subjects[icd_n_subjects['p_subjects'] > 0.005]\n",
    "\n",
    "# Remove procedures that are purely diagnostic.\n",
    "patterns = ['diag', 'fluoro', 'biops', 'inspection', 'bronchoscop', 'monitor', 'ultrasonography']\n",
    "\n",
    "hospicd_R2_mask = hospicd_R1['long_title'].str.match('|'.join(f'(.*{p}.*)' for p in patterns), case=False)\n",
    "hospicd_R2 = hospicd_R1[~hospicd_R2_mask]\n",
    "\n",
    "\n",
    "hospicd_R1.to_csv('hospicd_R1.csv')\n",
    "hospicd_R2.to_csv('hospicd_R2.csv')"
   ]
  },
  {
   "cell_type": "code",
   "execution_count": null,
   "id": "7afaefbd",
   "metadata": {},
   "outputs": [],
   "source": [
    "# Apply filteration.\n",
    "hospicdproc_df = hospicdproc_df[hospicdproc_df.icd_code.isin(hospicd_R2.icd_code)]"
   ]
  },
  {
   "cell_type": "code",
   "execution_count": null,
   "id": "16fdebc8",
   "metadata": {},
   "outputs": [],
   "source": [
    "df = hospicdproc_df.merge(adm_df, on='hadm_id', how='left')\n",
    "\n",
    "# timeperc_within_stay = (df['start_time'] - df['admittime']).dt.total_seconds() /(df['dischtime'] - df['admittime']).dt.total_seconds()\n",
    "# timeperc_within_stay.plot.kde(bw_method=0.05)"
   ]
  },
  {
   "cell_type": "code",
   "execution_count": null,
   "id": "31347331",
   "metadata": {},
   "outputs": [],
   "source": [
    "icd_n_subjects = df.groupby(['icd_code', 'long_title', 'icd_version'], as_index=False).agg(n_subjects=('subject_id', 'nunique'))\n",
    "icd_n_subjects['p_subjects'] = icd_n_subjects['n_subjects'] / len(subject_id_with_renal_info)\n",
    "# icd_n_subjects['p_subjects'].plot.kde(bw_method=0.01)"
   ]
  },
  {
   "cell_type": "code",
   "execution_count": null,
   "id": "19e6beda",
   "metadata": {},
   "outputs": [],
   "source": [
    "hospicdproc_df"
   ]
  },
  {
   "cell_type": "code",
   "execution_count": null,
   "id": "5b89cf9d",
   "metadata": {},
   "outputs": [],
   "source": [
    "hospicdproc_grouper = pd.read_csv('int_grouper_hospicdproc.csv')\n",
    "hospicdproc_grouper"
   ]
  },
  {
   "cell_type": "code",
   "execution_count": null,
   "id": "5a200e91",
   "metadata": {},
   "outputs": [],
   "source": [
    "n1 = len(hospicdproc_df)\n",
    "icd_selection = set(hospicdproc_grouper.icd_code)\n",
    "print(hospicdproc_grouper.icd_code.nunique(), len(hospicdproc_grouper))\n",
    "\n"
   ]
  },
  {
   "cell_type": "code",
   "execution_count": null,
   "id": "7a493c19",
   "metadata": {},
   "outputs": [],
   "source": [
    "hospicdproc_df = hospicdproc_df[hospicdproc_df.icd_code.isin(icd_selection)]\n",
    "n2 = len(hospicdproc_df)\n",
    "n1, n2"
   ]
  },
  {
   "cell_type": "markdown",
   "id": "7c94515a",
   "metadata": {},
   "source": [
    "#### Standard Procedure Table"
   ]
  },
  {
   "cell_type": "code",
   "execution_count": null,
   "id": "99b918a9",
   "metadata": {},
   "outputs": [],
   "source": [
    "hospicd_coder = lambda v, c: f\"v{v}:c{c}\"\n",
    "\n",
    "hospicdproc_df[\"code\"] = list(map(hospicd_coder, hospicdproc_df[\"icd_version\"], hospicdproc_df[\"icd_code\"]))\n",
    "hospicdproc_grouper[\"code\"] = list(map(hospicd_coder, hospicdproc_grouper[\"icd_version\"], hospicdproc_grouper[\"icd_code\"]))\n",
    "hospicdproc_grouper[\"label\"] = hospicdproc_grouper[\"long_title\"]\n",
    "\n",
    "hospicdproc_df = hospicdproc_df[[\"hadm_id\", \"start_time\", \"end_time\", \"code\"]]\n",
    "hospicdproc_grouper = hospicdproc_grouper[[\"code\", \"group\", \"label\"]]"
   ]
  },
  {
   "cell_type": "markdown",
   "id": "c705e457",
   "metadata": {},
   "source": [
    "### 'icuproc` refinement"
   ]
  },
  {
   "cell_type": "code",
   "execution_count": null,
   "id": "5407fef0",
   "metadata": {},
   "outputs": [],
   "source": [
    "icuproc_df"
   ]
  },
  {
   "cell_type": "code",
   "execution_count": null,
   "id": "1a0a0ceb",
   "metadata": {},
   "outputs": [],
   "source": [
    "icuproc_df['total_interval_hrs'] = (icuproc_df['end_time'] - icuproc_df['start_time']).dt.total_seconds() / 3600\n",
    "icuproc_df['total_interval_mins'] = (icuproc_df['end_time'] - icuproc_df['start_time']).dt.total_seconds() / 60\n",
    "icuproc_df['value_per_hour'] = icuproc_df['value'] / icuproc_df['total_interval_hrs']\n",
    "\n",
    "df = icuproc_df.merge(adm_df, on='hadm_id', how='left')\n",
    "df['count'] = 1"
   ]
  },
  {
   "cell_type": "code",
   "execution_count": null,
   "id": "6a38f160",
   "metadata": {},
   "outputs": [],
   "source": [
    "icuproc_n_subjects = df.groupby('label', as_index=False).agg(\n",
    "    n_subjects=('subject_id', 'nunique'),\n",
    "    n=('count', 'sum'),\n",
    "    mean_value=('value', 'mean'),\n",
    "    std_value=('value', 'std'),\n",
    "    mean_value_per_hour=('value_per_hour', 'mean'),\n",
    "    std_value_per_hour=('value_per_hour', 'std'),\n",
    "    mean_interval_minutes=('total_interval_mins', 'mean'),\n",
    "    std_interval_minutes=('total_interval_mins', 'std'))\n",
    "    "
   ]
  },
  {
   "cell_type": "code",
   "execution_count": null,
   "id": "5556c123",
   "metadata": {},
   "outputs": [],
   "source": [
    "icuproc_n_subjects.to_csv('icuproc_n_subjects.csv')"
   ]
  },
  {
   "cell_type": "code",
   "execution_count": null,
   "id": "186aa633",
   "metadata": {},
   "outputs": [],
   "source": [
    "int_icuproc_grouper = pd.read_csv('int_grouper_icuproc.csv')"
   ]
  },
  {
   "cell_type": "code",
   "execution_count": null,
   "id": "cde0df00",
   "metadata": {},
   "outputs": [],
   "source": [
    "n1 = len(icuproc_df)\n",
    "exclude_icuproc = set(int_icuproc_grouper[int_icuproc_grouper.group == 'exclude'].label)\n",
    "\n",
    "icuproc_df = icuproc_df[~icuproc_df.label.isin(exclude_icuproc)]\n",
    "n2 = len(icuproc_df)\n",
    "n1, n2"
   ]
  },
  {
   "cell_type": "markdown",
   "id": "7d4c4cff",
   "metadata": {},
   "source": [
    "#### Standard Procedure Table"
   ]
  },
  {
   "cell_type": "code",
   "execution_count": null,
   "id": "9880022a",
   "metadata": {},
   "outputs": [],
   "source": [
    "icuproc_df[\"code\"] = icuproc_df[\"label\"]\n",
    "int_icuproc_grouper[\"code\"] = int_icuproc_grouper[\"label\"]\n",
    "int_icuproc_grouper[\"label\"] = int_icuproc_grouper[\"label\"]\n",
    "\n",
    "icuproc_df = icuproc_df[[\"hadm_id\", \"start_time\", \"end_time\", \"code\"]]\n",
    "int_icuproc_grouper = int_icuproc_grouper[[\"code\", \"group\", \"label\"]]"
   ]
  },
  {
   "cell_type": "code",
   "execution_count": null,
   "id": "1e21b51f",
   "metadata": {},
   "outputs": [],
   "source": [
    "int_proc_df = pd.concat([hospicdproc_df, icuproc_df], axis=0)\n",
    "int_grouper_proc = pd.concat([hospicdproc_grouper, int_icuproc_grouper], axis=0)\n",
    "\n",
    "int_proc_df.to_csv('int_proc.csv.gz', compression='gzip')\n",
    "int_grouper_proc.to_csv('mimic4_int_grouper_proc.csv.gz', compression='gzip')"
   ]
  },
  {
   "cell_type": "code",
   "execution_count": null,
   "id": "f7e03f33",
   "metadata": {},
   "outputs": [],
   "source": [
    "int_grouper_proc2 = int_grouper_proc.set_index(['group', 'code']).sort_index()\n",
    "with pd.ExcelWriter('int_grouper_proc2.xlsx') as writer:\n",
    "    int_grouper_proc2.to_excel(writer, sheet_name='Sheet1', merge_cells = True)"
   ]
  },
  {
   "cell_type": "code",
   "execution_count": null,
   "id": "280dcf00",
   "metadata": {},
   "outputs": [],
   "source": [
    "int_grouper_proc"
   ]
  },
  {
   "cell_type": "markdown",
   "id": "476b5a8e",
   "metadata": {},
   "source": [
    "### `input` filteration and refinement"
   ]
  },
  {
   "cell_type": "code",
   "execution_count": null,
   "id": "dbe42ca1",
   "metadata": {},
   "outputs": [],
   "source": [
    "input_df['total_interval_hrs'] = (input_df['end_time'] - input_df['start_time']).dt.total_seconds() / 3600\n",
    "input_df['total_interval_mins'] = (input_df['end_time'] - input_df['start_time']).dt.total_seconds() / 60\n",
    "input_df['amount_per_hour'] = input_df['amount'] / input_df['total_interval_hrs']"
   ]
  },
  {
   "cell_type": "code",
   "execution_count": null,
   "id": "4f7d47fd",
   "metadata": {},
   "outputs": [],
   "source": [
    "df = input_df.merge(adm_df, on='hadm_id', how='left')\n",
    "df['count'] = 1"
   ]
  },
  {
   "cell_type": "code",
   "execution_count": null,
   "id": "34f16a3a",
   "metadata": {},
   "outputs": [],
   "source": [
    "input_n_subjects = df.groupby(['label', 'amountuom'], as_index=False).agg(\n",
    "    n_subjects=('subject_id', 'nunique'),\n",
    "    n=('count', 'sum'),\n",
    "    mean_amount=('amount', 'mean'),\n",
    "    std_amount=('amount', 'std'),\n",
    "    mean_amount_per_hour=('amount_per_hour', 'mean'),\n",
    "    std_amount_per_hour=('amount_per_hour', 'std'),\n",
    "    mean_interval_minutes=('total_interval_mins', 'mean'),\n",
    "    std_interval_minutes=('total_interval_mins', 'std'))\n",
    "    "
   ]
  },
  {
   "cell_type": "code",
   "execution_count": null,
   "id": "857ff4cc",
   "metadata": {},
   "outputs": [],
   "source": [
    "input_n_subjects.to_csv('input_n_subjects.csv')\n"
   ]
  },
  {
   "cell_type": "code",
   "execution_count": null,
   "id": "9a5487f5",
   "metadata": {},
   "outputs": [],
   "source": [
    "\"\"\"\n",
    "from IPython.display import display\n",
    "\n",
    "input_n_subjects_tom = pd.read_csv('input_n_subjects_tom.csv', index_col=[0])\n",
    "# Change 'M' (maybe) to 'Y' (yes)\n",
    "input_n_subjects_tom.loc[input_n_subjects_tom['dose_impact'] == 'M', 'dose_impact'] = 'Y'\n",
    "\n",
    "# Add column for unit normalisation, default=1.0\n",
    "input_n_subjects_tom['rate_normaliser'] = 1.0\n",
    "\n",
    "# Add label groups\n",
    "input_n_subjects_tom['group'] = input_n_subjects_tom.label.map(input_group_map)\n",
    "\n",
    "# Default group decision:\n",
    "\n",
    "init_decision = {}\n",
    "for group, group_df in input_n_subjects_tom.groupby('group'):\n",
    "    dose_impact = list(group_df['dose_impact'].unique())\n",
    "    \n",
    "    assert len(dose_impact) == 1, f\"Incosistant dose impact decision {group}.\"\n",
    "    dose_impact = dose_impact[0]\n",
    "    if dose_impact == 'Y':\n",
    "        if group_df.label.nunique() > 1:\n",
    "            if group_df.amountuom.nunique() > 1:\n",
    "                init_decision[group] = 'DS(or DH, norm)'\n",
    "            else:\n",
    "                init_decision[group] = 'DS(or DH)'\n",
    "        else:\n",
    "            if group_df.amountuom.nunique() > 1:\n",
    "                init_decision[group] = 'DH(norm)'\n",
    "            else:\n",
    "                init_decision[group] = 'DH'\n",
    "    elif dose_impact == 'N':\n",
    "        \n",
    "        if group_df.label.nunique() > 1:\n",
    "            init_decision[group] = 'H(or S)'\n",
    "        else:\n",
    "            init_decision[group] = 'H'\n",
    "    else:\n",
    "        init_decision[group] = 'E'\n",
    "\n",
    "input_n_subjects_tom['group_decision'] = input_n_subjects_tom['group'].map(init_decision)\n",
    "\n",
    "# Change the order of rate_normaliser column\n",
    "input_n_subjects_tom.insert(1, 'rate_normaliser', input_n_subjects_tom.pop('rate_normaliser'))\n",
    "\n",
    "input_n_subjects_tom = input_n_subjects_tom.set_index(['group', 'dose_impact', 'group_decision', 'label', 'amountuom'])\n",
    "\"\"\""
   ]
  },
  {
   "cell_type": "code",
   "execution_count": null,
   "id": "51fd8397",
   "metadata": {},
   "outputs": [],
   "source": [
    "\"\"\"\n",
    "with pd.ExcelWriter('input_label_groups_notes.xlsx') as writer:\n",
    "    input_n_subjects_tom.to_excel(writer, sheet_name='Sheet1', merge_cells = True)\n",
    "\"\"\""
   ]
  },
  {
   "cell_type": "code",
   "execution_count": 82,
   "id": "ea85d44b",
   "metadata": {},
   "outputs": [],
   "source": [
    "int_grouper_input_df = pd.read_excel('input_label_groups_decisions.xlsx').fillna(method='ffill')"
   ]
  },
  {
   "cell_type": "code",
   "execution_count": 112,
   "id": "1c84885d",
   "metadata": {},
   "outputs": [
    {
     "data": {
      "text/html": [
       "<div>\n",
       "<style scoped>\n",
       "    .dataframe tbody tr th:only-of-type {\n",
       "        vertical-align: middle;\n",
       "    }\n",
       "\n",
       "    .dataframe tbody tr th {\n",
       "        vertical-align: top;\n",
       "    }\n",
       "\n",
       "    .dataframe thead th {\n",
       "        text-align: right;\n",
       "    }\n",
       "</style>\n",
       "<table border=\"1\" class=\"dataframe\">\n",
       "  <thead>\n",
       "    <tr style=\"text-align: right;\">\n",
       "      <th></th>\n",
       "      <th>group</th>\n",
       "      <th>dose_impact</th>\n",
       "      <th>group_decision</th>\n",
       "      <th>label</th>\n",
       "      <th>amountuom</th>\n",
       "      <th>rate_normaliser</th>\n",
       "      <th>n_subjects</th>\n",
       "      <th>n</th>\n",
       "      <th>mean_amount</th>\n",
       "      <th>std_amount</th>\n",
       "      <th>mean_amount_per_hour</th>\n",
       "      <th>std_amount_per_hour</th>\n",
       "      <th>mean_interval_minutes</th>\n",
       "      <th>std_interval_minutes</th>\n",
       "      <th>p_subjects</th>\n",
       "      <th>comment</th>\n",
       "      <th>Unnamed: 16</th>\n",
       "    </tr>\n",
       "  </thead>\n",
       "  <tbody>\n",
       "    <tr>\n",
       "      <th>0</th>\n",
       "      <td>ACD-A Citrate</td>\n",
       "      <td>Y</td>\n",
       "      <td>sum</td>\n",
       "      <td>ACD-A Citrate (1000ml)</td>\n",
       "      <td>ml</td>\n",
       "      <td>1.0</td>\n",
       "      <td>1331</td>\n",
       "      <td>30619</td>\n",
       "      <td>871.476773</td>\n",
       "      <td>267.588827</td>\n",
       "      <td>188.309053</td>\n",
       "      <td>55.513516</td>\n",
       "      <td>288.599922</td>\n",
       "      <td>110.159569</td>\n",
       "      <td>0.026139</td>\n",
       "      <td>NaN</td>\n",
       "      <td>NaN</td>\n",
       "    </tr>\n",
       "    <tr>\n",
       "      <th>1</th>\n",
       "      <td>ACD-A Citrate</td>\n",
       "      <td>Y</td>\n",
       "      <td>sum</td>\n",
       "      <td>ACD-A Citrate (500ml)</td>\n",
       "      <td>ml</td>\n",
       "      <td>1.0</td>\n",
       "      <td>32</td>\n",
       "      <td>585</td>\n",
       "      <td>631.250567</td>\n",
       "      <td>271.469905</td>\n",
       "      <td>181.065294</td>\n",
       "      <td>64.394169</td>\n",
       "      <td>214.500855</td>\n",
       "      <td>89.981564</td>\n",
       "      <td>0.000628</td>\n",
       "      <td>NaN</td>\n",
       "      <td>NaN</td>\n",
       "    </tr>\n",
       "    <tr>\n",
       "      <th>2</th>\n",
       "      <td>Abciximab</td>\n",
       "      <td>N</td>\n",
       "      <td>or</td>\n",
       "      <td>Abciximab (Reopro)</td>\n",
       "      <td>mg</td>\n",
       "      <td>1.0</td>\n",
       "      <td>7</td>\n",
       "      <td>7</td>\n",
       "      <td>5.043947</td>\n",
       "      <td>2.518941</td>\n",
       "      <td>0.681447</td>\n",
       "      <td>0.117999</td>\n",
       "      <td>470.142857</td>\n",
       "      <td>272.331556</td>\n",
       "      <td>0.000137</td>\n",
       "      <td>NaN</td>\n",
       "      <td>NaN</td>\n",
       "    </tr>\n",
       "    <tr>\n",
       "      <th>3</th>\n",
       "      <td>Acetaminophen-IV</td>\n",
       "      <td>N</td>\n",
       "      <td>or</td>\n",
       "      <td>Acetaminophen-IV</td>\n",
       "      <td>dose</td>\n",
       "      <td>1.0</td>\n",
       "      <td>6</td>\n",
       "      <td>6</td>\n",
       "      <td>1.000000</td>\n",
       "      <td>0.000000</td>\n",
       "      <td>60.000000</td>\n",
       "      <td>0.000000</td>\n",
       "      <td>1.000000</td>\n",
       "      <td>0.000000</td>\n",
       "      <td>0.000118</td>\n",
       "      <td>NaN</td>\n",
       "      <td>NaN</td>\n",
       "    </tr>\n",
       "    <tr>\n",
       "      <th>4</th>\n",
       "      <td>Acetaminophen-IV</td>\n",
       "      <td>N</td>\n",
       "      <td>or</td>\n",
       "      <td>Acetaminophen-IV</td>\n",
       "      <td>grams</td>\n",
       "      <td>1.0</td>\n",
       "      <td>22</td>\n",
       "      <td>41</td>\n",
       "      <td>1.000000</td>\n",
       "      <td>0.000000</td>\n",
       "      <td>60.000000</td>\n",
       "      <td>0.000000</td>\n",
       "      <td>1.000000</td>\n",
       "      <td>0.000000</td>\n",
       "      <td>0.000432</td>\n",
       "      <td>NaN</td>\n",
       "      <td>NaN</td>\n",
       "    </tr>\n",
       "    <tr>\n",
       "      <th>...</th>\n",
       "      <td>...</td>\n",
       "      <td>...</td>\n",
       "      <td>...</td>\n",
       "      <td>...</td>\n",
       "      <td>...</td>\n",
       "      <td>...</td>\n",
       "      <td>...</td>\n",
       "      <td>...</td>\n",
       "      <td>...</td>\n",
       "      <td>...</td>\n",
       "      <td>...</td>\n",
       "      <td>...</td>\n",
       "      <td>...</td>\n",
       "      <td>...</td>\n",
       "      <td>...</td>\n",
       "      <td>...</td>\n",
       "      <td>...</td>\n",
       "    </tr>\n",
       "    <tr>\n",
       "      <th>470</th>\n",
       "      <td>XXXfloxacin</td>\n",
       "      <td>N</td>\n",
       "      <td>or</td>\n",
       "      <td>Levofloxacin</td>\n",
       "      <td>dose</td>\n",
       "      <td>1.0</td>\n",
       "      <td>2418</td>\n",
       "      <td>5490</td>\n",
       "      <td>1.454645</td>\n",
       "      <td>17.824212</td>\n",
       "      <td>87.278689</td>\n",
       "      <td>1069.452720</td>\n",
       "      <td>1.000000</td>\n",
       "      <td>0.000000</td>\n",
       "      <td>0.047486</td>\n",
       "      <td>Oral</td>\n",
       "      <td>the mean suggests pL = L and not the picoL</td>\n",
       "    </tr>\n",
       "    <tr>\n",
       "      <th>471</th>\n",
       "      <td>XXXfloxacin</td>\n",
       "      <td>N</td>\n",
       "      <td>or</td>\n",
       "      <td>Levofloxacin</td>\n",
       "      <td>grams</td>\n",
       "      <td>1.0</td>\n",
       "      <td>1</td>\n",
       "      <td>1</td>\n",
       "      <td>750.000000</td>\n",
       "      <td>17.824212</td>\n",
       "      <td>45000.000000</td>\n",
       "      <td>1069.452720</td>\n",
       "      <td>1.000000</td>\n",
       "      <td>0.000000</td>\n",
       "      <td>0.000020</td>\n",
       "      <td>Oral</td>\n",
       "      <td>the mean suggests pL = L and not the picoL</td>\n",
       "    </tr>\n",
       "    <tr>\n",
       "      <th>472</th>\n",
       "      <td>XXXfloxacin</td>\n",
       "      <td>N</td>\n",
       "      <td>or</td>\n",
       "      <td>Levofloxacin</td>\n",
       "      <td>mg</td>\n",
       "      <td>1.0</td>\n",
       "      <td>94</td>\n",
       "      <td>110</td>\n",
       "      <td>667.727317</td>\n",
       "      <td>151.685715</td>\n",
       "      <td>40063.639023</td>\n",
       "      <td>9101.142894</td>\n",
       "      <td>1.000000</td>\n",
       "      <td>0.000000</td>\n",
       "      <td>0.001846</td>\n",
       "      <td>Oral</td>\n",
       "      <td>the mean suggests pL = L and not the picoL</td>\n",
       "    </tr>\n",
       "    <tr>\n",
       "      <th>473</th>\n",
       "      <td>XXXfloxacin</td>\n",
       "      <td>N</td>\n",
       "      <td>or</td>\n",
       "      <td>Moxifloxacin</td>\n",
       "      <td>dose</td>\n",
       "      <td>1.0</td>\n",
       "      <td>7</td>\n",
       "      <td>22</td>\n",
       "      <td>1.000000</td>\n",
       "      <td>0.000000</td>\n",
       "      <td>60.000000</td>\n",
       "      <td>0.000000</td>\n",
       "      <td>1.000000</td>\n",
       "      <td>0.000000</td>\n",
       "      <td>0.000137</td>\n",
       "      <td>Oral</td>\n",
       "      <td>the mean suggests pL = L and not the picoL</td>\n",
       "    </tr>\n",
       "    <tr>\n",
       "      <th>474</th>\n",
       "      <td>XXXfloxacin</td>\n",
       "      <td>N</td>\n",
       "      <td>or</td>\n",
       "      <td>Moxifloxacin</td>\n",
       "      <td>mg</td>\n",
       "      <td>1.0</td>\n",
       "      <td>1</td>\n",
       "      <td>1</td>\n",
       "      <td>1500.000119</td>\n",
       "      <td>0.000000</td>\n",
       "      <td>90000.007153</td>\n",
       "      <td>0.000000</td>\n",
       "      <td>1.000000</td>\n",
       "      <td>0.000000</td>\n",
       "      <td>0.000020</td>\n",
       "      <td>Oral</td>\n",
       "      <td>the mean suggests pL = L and not the picoL</td>\n",
       "    </tr>\n",
       "  </tbody>\n",
       "</table>\n",
       "<p>475 rows × 17 columns</p>\n",
       "</div>"
      ],
      "text/plain": [
       "                group dose_impact group_decision                   label  \\\n",
       "0       ACD-A Citrate           Y            sum  ACD-A Citrate (1000ml)   \n",
       "1       ACD-A Citrate           Y            sum   ACD-A Citrate (500ml)   \n",
       "2           Abciximab           N             or      Abciximab (Reopro)   \n",
       "3    Acetaminophen-IV           N             or        Acetaminophen-IV   \n",
       "4    Acetaminophen-IV           N             or        Acetaminophen-IV   \n",
       "..                ...         ...            ...                     ...   \n",
       "470       XXXfloxacin           N             or            Levofloxacin   \n",
       "471       XXXfloxacin           N             or            Levofloxacin   \n",
       "472       XXXfloxacin           N             or            Levofloxacin   \n",
       "473       XXXfloxacin           N             or            Moxifloxacin   \n",
       "474       XXXfloxacin           N             or            Moxifloxacin   \n",
       "\n",
       "    amountuom  rate_normaliser  n_subjects      n  mean_amount  std_amount  \\\n",
       "0          ml              1.0        1331  30619   871.476773  267.588827   \n",
       "1          ml              1.0          32    585   631.250567  271.469905   \n",
       "2          mg              1.0           7      7     5.043947    2.518941   \n",
       "3        dose              1.0           6      6     1.000000    0.000000   \n",
       "4       grams              1.0          22     41     1.000000    0.000000   \n",
       "..        ...              ...         ...    ...          ...         ...   \n",
       "470      dose              1.0        2418   5490     1.454645   17.824212   \n",
       "471     grams              1.0           1      1   750.000000   17.824212   \n",
       "472        mg              1.0          94    110   667.727317  151.685715   \n",
       "473      dose              1.0           7     22     1.000000    0.000000   \n",
       "474        mg              1.0           1      1  1500.000119    0.000000   \n",
       "\n",
       "     mean_amount_per_hour  std_amount_per_hour  mean_interval_minutes  \\\n",
       "0              188.309053            55.513516             288.599922   \n",
       "1              181.065294            64.394169             214.500855   \n",
       "2                0.681447             0.117999             470.142857   \n",
       "3               60.000000             0.000000               1.000000   \n",
       "4               60.000000             0.000000               1.000000   \n",
       "..                    ...                  ...                    ...   \n",
       "470             87.278689          1069.452720               1.000000   \n",
       "471          45000.000000          1069.452720               1.000000   \n",
       "472          40063.639023          9101.142894               1.000000   \n",
       "473             60.000000             0.000000               1.000000   \n",
       "474          90000.007153             0.000000               1.000000   \n",
       "\n",
       "     std_interval_minutes  p_subjects comment  \\\n",
       "0              110.159569    0.026139     NaN   \n",
       "1               89.981564    0.000628     NaN   \n",
       "2              272.331556    0.000137     NaN   \n",
       "3                0.000000    0.000118     NaN   \n",
       "4                0.000000    0.000432     NaN   \n",
       "..                    ...         ...     ...   \n",
       "470              0.000000    0.047486    Oral   \n",
       "471              0.000000    0.000020    Oral   \n",
       "472              0.000000    0.001846    Oral   \n",
       "473              0.000000    0.000137    Oral   \n",
       "474              0.000000    0.000020    Oral   \n",
       "\n",
       "                                    Unnamed: 16  \n",
       "0                                           NaN  \n",
       "1                                           NaN  \n",
       "2                                           NaN  \n",
       "3                                           NaN  \n",
       "4                                           NaN  \n",
       "..                                          ...  \n",
       "470  the mean suggests pL = L and not the picoL  \n",
       "471  the mean suggests pL = L and not the picoL  \n",
       "472  the mean suggests pL = L and not the picoL  \n",
       "473  the mean suggests pL = L and not the picoL  \n",
       "474  the mean suggests pL = L and not the picoL  \n",
       "\n",
       "[475 rows x 17 columns]"
      ]
     },
     "execution_count": 112,
     "metadata": {},
     "output_type": "execute_result"
    }
   ],
   "source": [
    "int_grouper_input_df"
   ]
  },
  {
   "cell_type": "code",
   "execution_count": 117,
   "id": "929bde55",
   "metadata": {},
   "outputs": [
    {
     "data": {
      "text/plain": [
       "array(['sum', 'or', 'w_sum', 'E'], dtype=object)"
      ]
     },
     "execution_count": 117,
     "metadata": {},
     "output_type": "execute_result"
    }
   ],
   "source": [
    "int_grouper_input_df.group_decision.unique()"
   ]
  },
  {
   "cell_type": "code",
   "execution_count": 84,
   "id": "35e02f6b",
   "metadata": {},
   "outputs": [],
   "source": [
    "int_grouper_input_df.to_csv('mimic4_int_grouper_input.csv.gz', compression='gzip')"
   ]
  },
  {
   "cell_type": "markdown",
   "id": "2ce95dc3",
   "metadata": {},
   "source": [
    "#### Normalise rates of different units for the same input item"
   ]
  },
  {
   "cell_type": "code",
   "execution_count": 107,
   "id": "c89c5f99",
   "metadata": {},
   "outputs": [],
   "source": [
    "rate_scaler = dict(zip(map(lambda c1, c2: f'{c1}-{c2}', int_grouper_input_df.label, int_grouper_input_df.amountuom), int_grouper_input_df.rate_normaliser))\n",
    "\n",
    "input_df['label-uom'] = list(map(lambda c1, c2: f'{c1}-{c2}', input_df.label, input_df.amountuom))\n",
    "input_df['normalised_amount_per_hour'] = input_df['amount_per_hour'] * input_df['label-uom'].map(rate_scaler)"
   ]
  },
  {
   "cell_type": "code",
   "execution_count": 110,
   "id": "7a6a7055",
   "metadata": {},
   "outputs": [],
   "source": [
    "input_df = input_df[['hadm_id', 'start_time', 'end_time', 'label', 'normalised_amount_per_hour']]"
   ]
  },
  {
   "cell_type": "code",
   "execution_count": 111,
   "id": "633c488c",
   "metadata": {},
   "outputs": [],
   "source": [
    "input_df.to_csv('int_input.csv.gz', compression='gzip')"
   ]
  },
  {
   "cell_type": "code",
   "execution_count": 115,
   "id": "ab546964",
   "metadata": {},
   "outputs": [
    {
     "data": {
      "text/html": [
       "<div>\n",
       "<style scoped>\n",
       "    .dataframe tbody tr th:only-of-type {\n",
       "        vertical-align: middle;\n",
       "    }\n",
       "\n",
       "    .dataframe tbody tr th {\n",
       "        vertical-align: top;\n",
       "    }\n",
       "\n",
       "    .dataframe thead th {\n",
       "        text-align: right;\n",
       "    }\n",
       "</style>\n",
       "<table border=\"1\" class=\"dataframe\">\n",
       "  <thead>\n",
       "    <tr style=\"text-align: right;\">\n",
       "      <th></th>\n",
       "      <th>hadm_id</th>\n",
       "      <th>start_time</th>\n",
       "      <th>end_time</th>\n",
       "      <th>label</th>\n",
       "      <th>normalised_amount_per_hour</th>\n",
       "    </tr>\n",
       "  </thead>\n",
       "  <tbody>\n",
       "    <tr>\n",
       "      <th>0</th>\n",
       "      <td>29079034</td>\n",
       "      <td>2180-07-23 21:10:00</td>\n",
       "      <td>2180-07-23 21:11:00</td>\n",
       "      <td>PO Intake</td>\n",
       "      <td>6.000000</td>\n",
       "    </tr>\n",
       "    <tr>\n",
       "      <th>1</th>\n",
       "      <td>29079034</td>\n",
       "      <td>2180-07-23 17:00:00</td>\n",
       "      <td>2180-07-23 17:01:00</td>\n",
       "      <td>PO Intake</td>\n",
       "      <td>12.000000</td>\n",
       "    </tr>\n",
       "    <tr>\n",
       "      <th>2</th>\n",
       "      <td>29079034</td>\n",
       "      <td>2180-07-23 17:00:00</td>\n",
       "      <td>2180-07-23 17:30:00</td>\n",
       "      <td>Albumin 25%</td>\n",
       "      <td>99.999998</td>\n",
       "    </tr>\n",
       "    <tr>\n",
       "      <th>3</th>\n",
       "      <td>29079034</td>\n",
       "      <td>2180-07-23 17:33:00</td>\n",
       "      <td>2180-07-23 18:03:00</td>\n",
       "      <td>Albumin 25%</td>\n",
       "      <td>99.999998</td>\n",
       "    </tr>\n",
       "    <tr>\n",
       "      <th>4</th>\n",
       "      <td>29079034</td>\n",
       "      <td>2180-07-23 18:56:00</td>\n",
       "      <td>2180-07-23 18:57:00</td>\n",
       "      <td>PO Intake</td>\n",
       "      <td>6.000000</td>\n",
       "    </tr>\n",
       "    <tr>\n",
       "      <th>...</th>\n",
       "      <td>...</td>\n",
       "      <td>...</td>\n",
       "      <td>...</td>\n",
       "      <td>...</td>\n",
       "      <td>...</td>\n",
       "    </tr>\n",
       "    <tr>\n",
       "      <th>8961335</th>\n",
       "      <td>23865745</td>\n",
       "      <td>2145-11-02 23:28:00</td>\n",
       "      <td>2145-11-03 09:32:00</td>\n",
       "      <td>Fentanyl (Concentrate)</td>\n",
       "      <td>0.075000</td>\n",
       "    </tr>\n",
       "    <tr>\n",
       "      <th>8961336</th>\n",
       "      <td>23865745</td>\n",
       "      <td>2145-11-02 23:28:00</td>\n",
       "      <td>2145-11-03 09:32:00</td>\n",
       "      <td>Solution</td>\n",
       "      <td>1.500000</td>\n",
       "    </tr>\n",
       "    <tr>\n",
       "      <th>8961337</th>\n",
       "      <td>23865745</td>\n",
       "      <td>2145-11-02 23:38:00</td>\n",
       "      <td>2145-11-03 12:55:00</td>\n",
       "      <td>NaCl 0.9%</td>\n",
       "      <td>0.075282</td>\n",
       "    </tr>\n",
       "    <tr>\n",
       "      <th>8961338</th>\n",
       "      <td>23865745</td>\n",
       "      <td>2145-11-04 20:35:00</td>\n",
       "      <td>2145-11-04 20:36:00</td>\n",
       "      <td>PO Intake</td>\n",
       "      <td>12.000000</td>\n",
       "    </tr>\n",
       "    <tr>\n",
       "      <th>8961339</th>\n",
       "      <td>23865745</td>\n",
       "      <td>2145-11-04 20:47:00</td>\n",
       "      <td>2145-11-04 20:54:00</td>\n",
       "      <td>Piggyback</td>\n",
       "      <td>10.285715</td>\n",
       "    </tr>\n",
       "  </tbody>\n",
       "</table>\n",
       "<p>8922209 rows × 5 columns</p>\n",
       "</div>"
      ],
      "text/plain": [
       "          hadm_id          start_time            end_time  \\\n",
       "0        29079034 2180-07-23 21:10:00 2180-07-23 21:11:00   \n",
       "1        29079034 2180-07-23 17:00:00 2180-07-23 17:01:00   \n",
       "2        29079034 2180-07-23 17:00:00 2180-07-23 17:30:00   \n",
       "3        29079034 2180-07-23 17:33:00 2180-07-23 18:03:00   \n",
       "4        29079034 2180-07-23 18:56:00 2180-07-23 18:57:00   \n",
       "...           ...                 ...                 ...   \n",
       "8961335  23865745 2145-11-02 23:28:00 2145-11-03 09:32:00   \n",
       "8961336  23865745 2145-11-02 23:28:00 2145-11-03 09:32:00   \n",
       "8961337  23865745 2145-11-02 23:38:00 2145-11-03 12:55:00   \n",
       "8961338  23865745 2145-11-04 20:35:00 2145-11-04 20:36:00   \n",
       "8961339  23865745 2145-11-04 20:47:00 2145-11-04 20:54:00   \n",
       "\n",
       "                          label  normalised_amount_per_hour  \n",
       "0                     PO Intake                    6.000000  \n",
       "1                     PO Intake                   12.000000  \n",
       "2                   Albumin 25%                   99.999998  \n",
       "3                   Albumin 25%                   99.999998  \n",
       "4                     PO Intake                    6.000000  \n",
       "...                         ...                         ...  \n",
       "8961335  Fentanyl (Concentrate)                    0.075000  \n",
       "8961336                Solution                    1.500000  \n",
       "8961337               NaCl 0.9%                    0.075282  \n",
       "8961338               PO Intake                   12.000000  \n",
       "8961339               Piggyback                   10.285715  \n",
       "\n",
       "[8922209 rows x 5 columns]"
      ]
     },
     "execution_count": 115,
     "metadata": {},
     "output_type": "execute_result"
    }
   ],
   "source": [
    "input_df"
   ]
  },
  {
   "cell_type": "markdown",
   "id": "64222b45",
   "metadata": {},
   "source": [
    "## Dx Codes Filteration"
   ]
  },
  {
   "cell_type": "code",
   "execution_count": 87,
   "id": "0d4f5910",
   "metadata": {},
   "outputs": [],
   "source": [
    "def filter_discharge_codes(df, subject_id_selection=None):\n",
    "    n = OrderedDict()\n",
    "    n['n0'] = len(df)\n",
    "    \n",
    "    cols = df.columns\n",
    "    \n",
    "    # (1) Filter discharge codes if subject has a single admission.\n",
    "    n_adms = df.groupby('subject_id', as_index=False).agg(n_adms=('hadm_id', 'nunique'))\n",
    "    n_adms_subjects = set(n_adms[n_adms['n_adms'] > 1].subject_id)\n",
    "    df = df[df.subject_id.isin(n_adms_subjects)]\n",
    "    \n",
    "    n['n adm. > 1 filter'] = len(df)\n",
    "    \n",
    "\n",
    "    # (2) Filter discharge dx codes based on subject_id selection\n",
    "    if subject_id_selection is not None:\n",
    "        df = df[df.subject_id.isin(subject_id_selection)]\n",
    "    \n",
    "    n['n subj. filter'] = len(df)\n",
    "        \n",
    "    \n",
    "    print('\\n'.join(f'{filt}: {num} ({100 * num / n[\"n0\"]:.1f})' for filt, num in n.items()))\n",
    "    print('\\n========\\n')\n",
    "    return df"
   ]
  },
  {
   "cell_type": "code",
   "execution_count": 88,
   "id": "dca0531f",
   "metadata": {},
   "outputs": [],
   "source": [
    "dx_query = f\"\"\"\n",
    "SELECT\n",
    "    hadm_id, subject_id, icd_code, icd_version\n",
    "FROM mimiciv_hosp.diagnoses_icd \n",
    "\"\"\"\n",
    "dx_df = pd.read_sql_query(dx_query,con)"
   ]
  },
  {
   "cell_type": "code",
   "execution_count": 89,
   "id": "008c13cb",
   "metadata": {},
   "outputs": [
    {
     "name": "stdout",
     "output_type": "stream",
     "text": [
      "n0: 4756326 (100.0)\n",
      "n adm. > 1 filter: 3857079 (81.1)\n",
      "n subj. filter: 2194672 (46.1)\n",
      "\n",
      "========\n",
      "\n"
     ]
    }
   ],
   "source": [
    "dx_df = filter_discharge_codes(dx_df, subject_id_selection=subject_id_with_renal_info)"
   ]
  },
  {
   "cell_type": "code",
   "execution_count": 90,
   "id": "9589354a",
   "metadata": {},
   "outputs": [
    {
     "data": {
      "text/html": [
       "<div>\n",
       "<style scoped>\n",
       "    .dataframe tbody tr th:only-of-type {\n",
       "        vertical-align: middle;\n",
       "    }\n",
       "\n",
       "    .dataframe tbody tr th {\n",
       "        vertical-align: top;\n",
       "    }\n",
       "\n",
       "    .dataframe thead th {\n",
       "        text-align: right;\n",
       "    }\n",
       "</style>\n",
       "<table border=\"1\" class=\"dataframe\">\n",
       "  <thead>\n",
       "    <tr style=\"text-align: right;\">\n",
       "      <th></th>\n",
       "      <th>hadm_id</th>\n",
       "      <th>subject_id</th>\n",
       "      <th>icd_code</th>\n",
       "      <th>icd_version</th>\n",
       "    </tr>\n",
       "  </thead>\n",
       "  <tbody>\n",
       "    <tr>\n",
       "      <th>0</th>\n",
       "      <td>22595853</td>\n",
       "      <td>10000032</td>\n",
       "      <td>5723</td>\n",
       "      <td>9</td>\n",
       "    </tr>\n",
       "    <tr>\n",
       "      <th>1</th>\n",
       "      <td>22595853</td>\n",
       "      <td>10000032</td>\n",
       "      <td>78959</td>\n",
       "      <td>9</td>\n",
       "    </tr>\n",
       "    <tr>\n",
       "      <th>2</th>\n",
       "      <td>22595853</td>\n",
       "      <td>10000032</td>\n",
       "      <td>5715</td>\n",
       "      <td>9</td>\n",
       "    </tr>\n",
       "    <tr>\n",
       "      <th>3</th>\n",
       "      <td>22595853</td>\n",
       "      <td>10000032</td>\n",
       "      <td>07070</td>\n",
       "      <td>9</td>\n",
       "    </tr>\n",
       "    <tr>\n",
       "      <th>4</th>\n",
       "      <td>22595853</td>\n",
       "      <td>10000032</td>\n",
       "      <td>496</td>\n",
       "      <td>9</td>\n",
       "    </tr>\n",
       "    <tr>\n",
       "      <th>...</th>\n",
       "      <td>...</td>\n",
       "      <td>...</td>\n",
       "      <td>...</td>\n",
       "      <td>...</td>\n",
       "    </tr>\n",
       "    <tr>\n",
       "      <th>4756310</th>\n",
       "      <td>26071774</td>\n",
       "      <td>19999840</td>\n",
       "      <td>34590</td>\n",
       "      <td>9</td>\n",
       "    </tr>\n",
       "    <tr>\n",
       "      <th>4756311</th>\n",
       "      <td>26071774</td>\n",
       "      <td>19999840</td>\n",
       "      <td>43811</td>\n",
       "      <td>9</td>\n",
       "    </tr>\n",
       "    <tr>\n",
       "      <th>4756312</th>\n",
       "      <td>26071774</td>\n",
       "      <td>19999840</td>\n",
       "      <td>4019</td>\n",
       "      <td>9</td>\n",
       "    </tr>\n",
       "    <tr>\n",
       "      <th>4756313</th>\n",
       "      <td>26071774</td>\n",
       "      <td>19999840</td>\n",
       "      <td>2724</td>\n",
       "      <td>9</td>\n",
       "    </tr>\n",
       "    <tr>\n",
       "      <th>4756314</th>\n",
       "      <td>26071774</td>\n",
       "      <td>19999840</td>\n",
       "      <td>3051</td>\n",
       "      <td>9</td>\n",
       "    </tr>\n",
       "  </tbody>\n",
       "</table>\n",
       "<p>2194672 rows × 4 columns</p>\n",
       "</div>"
      ],
      "text/plain": [
       "          hadm_id  subject_id icd_code  icd_version\n",
       "0        22595853    10000032  5723               9\n",
       "1        22595853    10000032  78959              9\n",
       "2        22595853    10000032  5715               9\n",
       "3        22595853    10000032  07070              9\n",
       "4        22595853    10000032  496                9\n",
       "...           ...         ...      ...          ...\n",
       "4756310  26071774    19999840  34590              9\n",
       "4756311  26071774    19999840  43811              9\n",
       "4756312  26071774    19999840  4019               9\n",
       "4756313  26071774    19999840  2724               9\n",
       "4756314  26071774    19999840  3051               9\n",
       "\n",
       "[2194672 rows x 4 columns]"
      ]
     },
     "execution_count": 90,
     "metadata": {},
     "output_type": "execute_result"
    }
   ],
   "source": [
    "dx_df"
   ]
  },
  {
   "cell_type": "code",
   "execution_count": 91,
   "id": "bcf64aec",
   "metadata": {},
   "outputs": [],
   "source": [
    "dx_df.to_csv('dx_df.csv.gz', compression='gzip')"
   ]
  },
  {
   "cell_type": "markdown",
   "id": "512de513",
   "metadata": {},
   "source": [
    "## Admissions & Static Tables "
   ]
  },
  {
   "cell_type": "code",
   "execution_count": 92,
   "id": "c0f8f426",
   "metadata": {},
   "outputs": [],
   "source": [
    "def filter_admissions(df, subject_id_selection=None):\n",
    "    n = OrderedDict()\n",
    "    n['n0'] = len(df)\n",
    "    \n",
    "    cols = df.columns\n",
    "\n",
    "    # (1) Filter discharge dx codes based on subject_id selection\n",
    "    if subject_id_selection is not None:\n",
    "        df = df[df.subject_id.isin(subject_id_selection)]\n",
    "    \n",
    "    n['n subj. filter'] = len(df)\n",
    "        \n",
    "    \n",
    "    print('\\n'.join(f'{filt}: {num} ({100 * num / n[\"n0\"]:.1f})' for filt, num in n.items()))\n",
    "    print('\\n========\\n')\n",
    "    return df"
   ]
  },
  {
   "cell_type": "code",
   "execution_count": 93,
   "id": "16eb24f0",
   "metadata": {},
   "outputs": [],
   "source": [
    "adm_query = f\"\"\"\n",
    "SELECT\n",
    "    hadm_id, subject_id, admittime, dischtime, race\n",
    "FROM mimiciv_hosp.admissions \n",
    "\"\"\"\n",
    "adm_df = pd.read_sql_query(adm_query,con)"
   ]
  },
  {
   "cell_type": "code",
   "execution_count": 94,
   "id": "d5de8a6e",
   "metadata": {},
   "outputs": [],
   "source": [
    "static_query = f\"\"\"\n",
    "SELECT \n",
    "    p.subject_id, p.gender, a.race, p.anchor_age, p.anchor_year\n",
    "    from mimiciv_hosp.patients p\n",
    "    left join \n",
    "    (select subject_id, max(race) as race\n",
    "    from mimiciv_hosp.admissions\n",
    "    group by subject_id) as a\n",
    "    on p.subject_id = a.subject_id\n",
    "\"\"\"\n",
    "static_df = pd.read_sql_query(static_query,con)"
   ]
  },
  {
   "cell_type": "code",
   "execution_count": 95,
   "id": "043c3e7a",
   "metadata": {},
   "outputs": [
    {
     "name": "stdout",
     "output_type": "stream",
     "text": [
      "n0: 431231 (100.0)\n",
      "n subj. filter: 174899 (40.6)\n",
      "\n",
      "========\n",
      "\n",
      "n0: 299712 (100.0)\n",
      "n subj. filter: 50920 (17.0)\n",
      "\n",
      "========\n",
      "\n"
     ]
    }
   ],
   "source": [
    "adm_df = filter_admissions(adm_df, subject_id_selection=subject_id_with_renal_info)\n",
    "static_df = filter_admissions(static_df, subject_id_selection=subject_id_with_renal_info)\n"
   ]
  },
  {
   "cell_type": "code",
   "execution_count": 96,
   "id": "929cc89e",
   "metadata": {},
   "outputs": [],
   "source": [
    "adm_df.to_csv('adm_df.csv.gz', compression='gzip')\n",
    "static_df.to_csv('static_df.csv.gz', compression='gzip')"
   ]
  },
  {
   "cell_type": "code",
   "execution_count": 97,
   "id": "e229e060",
   "metadata": {},
   "outputs": [],
   "source": [
    "\n",
    "# static_df.groupby('race', as_index=False).agg(n=('subject_id', 'count')).to_csv('race_groups.csv', compression='gzip')\n",
    "race_groups_df = pd.read_csv('race_grouper.csv', index_col=0)"
   ]
  },
  {
   "cell_type": "code",
   "execution_count": 98,
   "id": "ca165b58",
   "metadata": {},
   "outputs": [],
   "source": [
    "race_groups_df.to_csv('mimic4_race_grouper.csv.gz', compression='gzip')"
   ]
  },
  {
   "cell_type": "code",
   "execution_count": null,
   "id": "694eb82f",
   "metadata": {},
   "outputs": [],
   "source": [
    "import seaborn as sns\n",
    "import matplotlib.pyplot as plt\n",
    "from lib.ehr.coding_scheme import MIMIC4Observables\n",
    "C = MIMIC4Observables()\n",
    "\n",
    "z_min = -2.5\n",
    "z_max = -z_min\n",
    "q_min = 0.1\n",
    "q_max = 1 - q_min\n",
    "\n",
    "for code in sorted(m4inpatient_dataset.df['obs'].code.unique()):\n",
    "    df = m4inpatient_dataset.df['obs']\n",
    "    code_df = df[df.code == code]\n",
    "    \n",
    "    q1 = code_df.value.quantile(q_min)\n",
    "    q2 = code_df.value.quantile(q_max)\n",
    "    qin_mask = code_df.value.between(q1, q2)\n",
    "\n",
    "    mu = code_df.value.mean()\n",
    "    std = code_df.value.std()\n",
    "    code_df['z'] = (code_df.value - mu) / std\n",
    "    x1 = mu + z_min * std\n",
    "    x2 = mu + z_max * std\n",
    "\n",
    "    zin_mask = code_df.z.between(z_min, z_max)\n",
    "\n",
    "    \n",
    "\n",
    "    textstr = '\\n'.join((\n",
    "        f'n={len(code_df)}',\n",
    "        f'(min, max): ({code_df.value.min():0.2f}, {code_df.value.max():0.2f})',\n",
    "        f'p(qin): {qin_mask.mean():0.3f}',\n",
    "        f'p(zin): {zin_mask.mean():0.3f}',\n",
    "        f'p(zin or qin): {(qin_mask | zin_mask).mean(): 0.3f}'))\n",
    "    props = dict(boxstyle='round', facecolor='wheat', alpha=0.5)\n",
    "    \n",
    "    g = sns.displot(code_df, x=\"value\", kde=True)\n",
    "\n",
    "    for ax in g.axes.flat:\n",
    "        args = zip([x1, x2, q1, q2], \n",
    "                   [\"solid\", \"solid\", \"dashed\", \"dashed\"], \n",
    "                   [\"red\", \"red\", \"red\", \"red\"])\n",
    "        ax.set_title(C.desc[code])\n",
    "            # place a text box in upper left in axes coords\n",
    "        ax.text(0.05, 0.95, textstr, transform=ax.transAxes, fontsize=10,\n",
    "                verticalalignment='top', bbox=props)\n",
    "        for x, style, color in args:            \n",
    "            ax.axvline(x=x, ymin = 0, ymax = 1.0, linestyle=style, color=color)\n",
    "    g.savefig(f\"obs_outlier__{code}_{C.desc[code]}.pdf\", bbox_inches='tight')"
   ]
  }
 ],
 "metadata": {
  "kernelspec": {
   "display_name": "Python 3 (ipykernel)",
   "language": "python",
   "name": "python3"
  },
  "language_info": {
   "codemirror_mode": {
    "name": "ipython",
    "version": 3
   },
   "file_extension": ".py",
   "mimetype": "text/x-python",
   "name": "python",
   "nbconvert_exporter": "python",
   "pygments_lexer": "ipython3",
   "version": "3.9.7"
  }
 },
 "nbformat": 4,
 "nbformat_minor": 5
}
