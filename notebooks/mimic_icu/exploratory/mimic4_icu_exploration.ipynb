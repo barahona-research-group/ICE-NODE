{
 "cells": [
  {
   "cell_type": "code",
   "outputs": [],
   "source": [
    "%load_ext autoreload\n",
    "%autoreload 2\n",
    "\n",
    "import sys\n",
    "from collections import OrderedDict\n",
    "\n",
    "import matplotlib.pyplot as plt\n",
    "import numpy as np\n",
    "import pandas as pd\n",
    "\n",
    "sys.path.append(\"../../..\")\n",
    "\n",
    "import lib.ehr._dataset_mimic4 as m4"
   ],
   "metadata": {
    "collapsed": false,
    "ExecuteTime": {
     "end_time": "2024-01-28T16:03:24.183520210Z",
     "start_time": "2024-01-28T16:03:21.690724359Z"
    }
   },
   "id": "5a0973b9",
   "execution_count": 1
  },
  {
   "cell_type": "code",
   "outputs": [],
   "source": [
    "from lib.ehr.coding_scheme import CodingScheme\n",
    "\n",
    "dx_icd10 = CodingScheme.from_name('dx_icd10')\n",
    "dx_icd9 = CodingScheme.from_name('dx_icd9')\n",
    "pr_icd10 = CodingScheme.from_name('pr_icd10')\n",
    "pr_icd9 = CodingScheme.from_name('pr_icd9')"
   ],
   "metadata": {
    "collapsed": false,
    "is_executing": true,
    "ExecuteTime": {
     "start_time": "2024-01-28T16:03:24.186420405Z"
    }
   },
   "id": "db8538ae2a15b8f5"
  },
  {
   "cell_type": "code",
   "outputs": [],
   "source": [
    "# create a database connection\n",
    "sqluser = 'postgres'\n",
    "dbname = 'mimiciv'\n",
    "hostname = 'localhost'\n",
    "password = 'qwerasdf'\n",
    "port = '5432'\n",
    "\n",
    "mimiciv_config = m4.MIMICIVSQLConfig(host=hostname, port=port, user=sqluser, password=password, dbname=dbname)\n",
    "mimiciv_interface = m4.MIMICIVSQL(mimiciv_config)\n",
    "mimiciv_engine = mimiciv_interface.create_engine()\n"
   ],
   "metadata": {
    "collapsed": false,
    "ExecuteTime": {
     "end_time": "2024-01-28T14:10:52.619185614Z",
     "start_time": "2024-01-28T14:10:52.528253677Z"
    }
   },
   "id": "c5a9fd4b",
   "execution_count": 2
  },
  {
   "cell_type": "code",
   "outputs": [],
   "source": [
    "mimiciv_interface.supported_obs_variables"
   ],
   "metadata": {
    "collapsed": false
   },
   "id": "c4f810ad77978aa4"
  },
  {
   "cell_type": "code",
   "outputs": [],
   "source": [
    "mimiciv_interface.supported_dx_discharge\n"
   ],
   "metadata": {
    "collapsed": false
   },
   "id": "ddd5ef764993ebfc"
  },
  {
   "cell_type": "code",
   "outputs": [],
   "source": [
    "mimiciv_interface.supported_icu_input"
   ],
   "metadata": {
    "collapsed": false
   },
   "id": "f4f2d32262e56616"
  },
  {
   "cell_type": "code",
   "outputs": [],
   "source": [
    "mimiciv_interface.supported_icu_procedure"
   ],
   "metadata": {
    "collapsed": false
   },
   "id": "af8e4478c32c83b1"
  },
  {
   "cell_type": "code",
   "outputs": [],
   "source": [
    "mimiciv_interface.supported_hosp_procedure"
   ],
   "metadata": {
    "collapsed": false
   },
   "id": "d4fde8fecca14b"
  },
  {
   "cell_type": "code",
   "outputs": [],
   "source": [
    "obs_scheme = mimiciv_interface.register_obs_scheme('aki_study_obs', None)"
   ],
   "metadata": {
    "collapsed": false
   },
   "id": "e2df909c9a69d76c"
  },
  {
   "cell_type": "code",
   "outputs": [],
   "source": [
    "dx_scheme = mimiciv_interface.register_dx_discharge_scheme('aki_study_dx', None)"
   ],
   "metadata": {
    "collapsed": false,
    "ExecuteTime": {
     "end_time": "2024-01-28T14:11:15.768819288Z",
     "start_time": "2024-01-28T14:10:52.610936537Z"
    }
   },
   "id": "9820d79a0a9f9882",
   "execution_count": 3
  },
  {
   "cell_type": "code",
   "outputs": [],
   "source": [
    "\n",
    "icu_input_scheme = mimiciv_interface.register_icu_input_scheme('aki_study_icu_input', None)"
   ],
   "metadata": {
    "collapsed": false,
    "ExecuteTime": {
     "end_time": "2024-01-28T14:11:17.506446357Z",
     "start_time": "2024-01-28T14:11:15.772213956Z"
    }
   },
   "id": "2b95772114504e49",
   "execution_count": 4
  },
  {
   "cell_type": "code",
   "outputs": [],
   "source": [
    "\n",
    "icu_procedure_scheme = mimiciv_interface.register_icu_procedure_scheme('aki_study_icu_proc', None)"
   ],
   "metadata": {
    "collapsed": false,
    "ExecuteTime": {
     "end_time": "2024-01-28T14:11:17.692522187Z",
     "start_time": "2024-01-28T14:11:17.506194413Z"
    }
   },
   "id": "b81da7ad97719338",
   "execution_count": 5
  },
  {
   "cell_type": "code",
   "outputs": [],
   "source": [
    "\n",
    "hosp_procedure_scheme = mimiciv_interface.register_hosp_procedure_scheme('aki_study_hosp_proc', None)\n"
   ],
   "metadata": {
    "collapsed": false,
    "ExecuteTime": {
     "end_time": "2024-01-28T14:27:37.129215598Z",
     "start_time": "2024-01-28T14:11:17.694606896Z"
    }
   },
   "id": "5bd68471ce324a94",
   "execution_count": 6
  },
  {
   "cell_type": "code",
   "outputs": [],
   "source": [
    "# Admission IDs with Length of Stay at least 12 hours.\n",
    "hadm_id_los_geq_12h = hosp[hosp.hosp_los > 0.5].hadm_id\n",
    "hadm_id_los_geq_12h"
   ],
   "metadata": {
    "collapsed": false
   },
   "id": "82c2b7ef",
   "execution_count": null
  },
  {
   "cell_type": "code",
   "outputs": [],
   "source": [
    "adm_df = pd.read_sql_query(\"\"\"\n",
    "SELECT subject_id, hadm_id, admittime, dischtime FROM mimiciv_hosp.admissions\n",
    "\"\"\", con)\n",
    "adm_df"
   ],
   "metadata": {
    "collapsed": false
   },
   "id": "e3726eb8",
   "execution_count": null
  },
  {
   "cell_type": "code",
   "outputs": [],
   "source": [
    "renal_aki = ['aki_stage_smoothed']\n",
    "\n",
    "renal_aki_query = f\"\"\"\n",
    "select icu.hadm_id,\n",
    "       max(aki_stage_smoothed) as aki_stage_smoothed\n",
    "from mimiciv_derived.kdigo_stages as r\n",
    "inner join mimiciv_icu.icustays as icu\n",
    " on icu.stay_id = r.stay_id\n",
    "group by icu.hadm_id\n",
    "\"\"\"\n",
    "renal_aki_df = pd.read_sql_query(renal_aki_query, con)\n",
    "\n",
    "renal_hadm_id = pd.Series(renal_aki_df.hadm_id.unique())\n",
    "adm_df['adm_has_renal_data'] = adm_df.hadm_id.isin(renal_hadm_id)\n",
    "\n",
    "subject_has_renal = adm_df.groupby('subject_id', as_index=False).agg(n_adm=('hadm_id', 'nunique'),\n",
    "                                                                     adm_has_renal_data=('adm_has_renal_data', 'sum'))\n",
    "subject_has_renal.head(5)"
   ],
   "metadata": {
    "collapsed": false
   },
   "id": "e0ece0ab",
   "execution_count": null
  },
  {
   "cell_type": "code",
   "execution_count": null,
   "id": "f2e4e984",
   "metadata": {},
   "outputs": [],
   "source": [
    "subjects_with_renal_info = subject_has_renal[subject_has_renal['adm_has_renal_data'] > 0]\n",
    "subjects_with_renal_info[\n",
    "    'p_adm_with_renal_info'] = subjects_with_renal_info.adm_has_renal_data / subjects_with_renal_info.n_adm\n",
    "subject_id_with_renal_info = subjects_with_renal_info.subject_id"
   ]
  },
  {
   "cell_type": "code",
   "execution_count": null,
   "id": "67ad8c11",
   "metadata": {},
   "outputs": [],
   "source": []
  },
  {
   "cell_type": "code",
   "execution_count": null,
   "id": "b530f7a8",
   "metadata": {},
   "outputs": [],
   "source": [
    "hosp2 = hosp1[hosp1.hadm_id.isin(hadm_id_los_geq_12h)]\n",
    "hosp3 = hosp2[hosp2.subject_id.isin(subject_id_with_renal_info)]"
   ]
  },
  {
   "cell_type": "code",
   "execution_count": null,
   "id": "d57962db",
   "metadata": {},
   "outputs": [],
   "source": [
    "hosp2_table = TableOne(hosp2, columns=hosp_columns, categorical=hosp_categorical,\n",
    "                       order=hosp_order, limit=hosp_limit, rename=hosp_rename)\n",
    "display(hosp2_table)"
   ]
  },
  {
   "cell_type": "code",
   "execution_count": null,
   "id": "999fcd95",
   "metadata": {},
   "outputs": [],
   "source": [
    "hosp3_table = TableOne(hosp3, columns=hosp_columns, categorical=hosp_categorical,\n",
    "                       order=hosp_order, limit=hosp_limit, rename=hosp_rename)\n",
    "display(hosp3_table)"
   ]
  },
  {
   "cell_type": "code",
   "execution_count": null,
   "id": "b83a14df",
   "metadata": {},
   "outputs": [],
   "source": [
    "cat1 = hosp1_table.cat_table\n",
    "cont1 = hosp1_table.cont_table\n",
    "cat1['Selection'] = '1'\n",
    "cont1['Selection'] = '1'\n",
    "\n",
    "cat2 = hosp2_table.cat_table\n",
    "cont2 = hosp2_table.cont_table\n",
    "cat2['Selection'] = '2'\n",
    "cont2['Selection'] = '2'\n",
    "\n",
    "cat3 = hosp3_table.cat_table\n",
    "cont3 = hosp3_table.cont_table\n",
    "cat3['Selection'] = '3'\n",
    "cont3['Selection'] = '3'"
   ]
  },
  {
   "cell_type": "code",
   "execution_count": null,
   "id": "9e44d6d6",
   "metadata": {},
   "outputs": [],
   "source": [
    "import seaborn as sns\n",
    "\n",
    "cat = pd.concat([cat1, cat2, cat3]).reset_index()\n",
    "cat = cat[cat.value.isin(('F', 1, '1'))]\n",
    "cat = cat[cat.variable != 'pat_count']\n",
    "cat.loc[cat.variable == 'gender', 'variable'] = 'Females'\n",
    "cat.loc[cat.variable == 'hospital_mortality', 'variable'] = 'Hospital Mortality'\n",
    "cat.loc[cat.variable == 'one_year_mortality', 'variable'] = 'One-Year Mortality'\n",
    "\n",
    "cat['n'] = cat.Overall.map(lambda s: s.split(' ')[0]).astype(int)\n",
    "cat['%'] = cat.Overall.map(lambda s: s.split(' ')[1].replace('(', '').replace(')', '')).astype(float)"
   ]
  },
  {
   "cell_type": "code",
   "execution_count": null,
   "id": "35266180",
   "metadata": {},
   "outputs": [],
   "source": [
    "cont = pd.concat([cont1, cont2, cont3]).reset_index()\n",
    "cont.loc[cont.variable == 'age', 'variable'] = 'Age'\n",
    "cont.loc[cont.variable == 'hosp_los', 'variable'] = 'Hospital LoS'\n",
    "\n",
    "cont['mean'] = cont.Overall.map(lambda s: s.split(' ')[0]).astype(float)\n",
    "cont['SD'] = cont.Overall.map(lambda s: s.split(' ')[1].replace('(', '').replace(')', '')).astype(float)"
   ]
  },
  {
   "cell_type": "code",
   "execution_count": null,
   "id": "d05fa0f0",
   "metadata": {},
   "outputs": [],
   "source": [
    "cont"
   ]
  },
  {
   "cell_type": "code",
   "execution_count": null,
   "id": "28431059",
   "metadata": {},
   "outputs": [],
   "source": [
    "with sns.plotting_context(font_scale=2):\n",
    "    plot = sns.catplot(data=cat, x='%', y='variable', hue='Selection', kind='bar')\n",
    "    plot.savefig('consort_demo.pdf')"
   ]
  },
  {
   "cell_type": "code",
   "execution_count": null,
   "id": "f4b39ccc",
   "metadata": {},
   "outputs": [],
   "source": [
    "with sns.plotting_context(font_scale=2):\n",
    "    plot = sns.catplot(data=cat, x='%', y='variable', hue='Selection', kind='bar')\n",
    "    plot.savefig('consort_demo.pdf')"
   ]
  },
  {
   "cell_type": "code",
   "execution_count": null,
   "id": "3a7ae2a5",
   "metadata": {},
   "outputs": [],
   "source": [
    "# Scale the data, just a simple example of how you might determine the scaling\n",
    "cont_scaled = cont.copy()\n",
    "\n",
    "mask = cont_scaled.variable == 'Hospital LoS'\n",
    "scale = cont_scaled[~mask]['mean'].mean() / cont_scaled[mask]['mean'].mean()\n",
    "cont_scaled.loc[mask, 'mean'] = cont_scaled.loc[mask, 'mean'] * scale\n",
    "# cont_scaled.loc[mask, 'SD'] = cont_scaled.loc[mask, 'SD'] * scale\n",
    "\n",
    "# Plot\n",
    "fig, ax1 = plt.subplots()\n",
    "g = sns.barplot(x=\"variable\", y=\"mean\", hue=\"Selection\",\n",
    "                data=cont_scaled, ax=ax1)\n",
    "\n",
    "# x_coords = [p.get_x() + 0.5 * p.get_width() for p in g.patches]\n",
    "# y_coords = [p.get_height() for p in g.patches]\n",
    "# g.errorbar(x=x_coords, y=y_coords, \n",
    "#            yerr=cont_scaled[\"SD\"], \n",
    "#            fmt=\"none\", c=\"k\")\n",
    "\n",
    "# Create a second y-axis with the scaled ticks\n",
    "ax1.set_ylabel('Years')\n",
    "ax2 = ax1.twinx()\n",
    "\n",
    "# Ensure ticks occur at the same positions, then modify labels\n",
    "ax2.set_ylim(ax1.get_ylim())\n",
    "ax2.set_yticklabels(np.round(ax1.get_yticks() / scale, 1))\n",
    "ax2.set_ylabel('Days')\n",
    "\n",
    "plt.show()\n",
    "fig.savefig(\"consort_demo2.pdf\")"
   ]
  },
  {
   "cell_type": "markdown",
   "id": "d7a22d93",
   "metadata": {},
   "source": [
    "### Observable Measurements (Prediction Target)"
   ]
  },
  {
   "cell_type": "code",
   "execution_count": null,
   "id": "62d2ebd7",
   "metadata": {},
   "outputs": [],
   "source": [
    "## NUMERIC FEATURES\n",
    "## TODO: add mergers across tables and within-tables.\n",
    "\n",
    "blood_gas = ['so2', 'po2', 'pco2', 'fio2', 'fio2_chartevents', 'aado2', 'aado2_calc', 'pao2fio2ratio', 'ph',\n",
    "             'baseexcess', 'bicarbonate', 'totalco2', 'hematocrit', 'hemoglobin', 'carboxyhemoglobin', 'methemoglobin',\n",
    "             'chloride', 'calcium', 'temperature', 'potassium', 'sodium', 'lactate', 'glucose']\n",
    "\n",
    "blood_chemistry = ['albumin', 'globulin', 'total_protein', 'aniongap', 'bicarbonate', 'bun', 'calcium', 'chloride',\n",
    "                   'creatinine', 'glucose', 'sodium', 'potassium']\n",
    "\n",
    "cardiac_markers = ['troponin_t', 'ntprobnp', 'ck_mb']\n",
    "\n",
    "cbc = ['hematocrit', 'hemoglobin', 'mch', 'mchc', 'mcv', 'platelet', 'rbc', 'rdw', 'wbc']\n",
    "\n",
    "vital_signs = ['heart_rate', 'sbp', 'dbp', 'mbp', 'sbp_ni', 'dbp_ni', 'mbp_ni', 'resp_rate', 'temperature', 'spo2',\n",
    "               'glucose']\n",
    "\n",
    "# Glasgow Coma Scale, a measure of neurological function\n",
    "coma_signs = ['gcs', 'gcs_motor', 'gcs_verbal', 'gcs_eyes', 'gcs_unable']\n",
    "\n",
    "renal_out = ['uo_rt_6hr', 'uo_rt_12hr', 'uo_rt_24hr']\n",
    "\n",
    "renal_creat = ['creat']\n",
    "\n",
    "renal_aki = ['aki_stage_smoothed']"
   ]
  },
  {
   "cell_type": "markdown",
   "id": "1ef43e8b",
   "metadata": {},
   "source": [
    "### Numeric Feature Tables"
   ]
  },
  {
   "cell_type": "code",
   "execution_count": null,
   "id": "722d5f67",
   "metadata": {},
   "outputs": [],
   "source": []
  },
  {
   "cell_type": "code",
   "execution_count": null,
   "id": "9db57a36",
   "metadata": {},
   "outputs": [],
   "source": [
    "renal_out_query = f\"\"\"\n",
    "select icu.hadm_id,\n",
    "       {', '.join(renal_out)},\n",
    "       charttime time_bin\n",
    "from mimiciv_derived.kdigo_uo t\n",
    "inner join mimiciv_icu.icustays icu\n",
    "on icu.stay_id = t.stay_id\n",
    "\"\"\"\n",
    "\n",
    "renal_creat_query = f\"\"\"\n",
    "select hadm_id,\n",
    "       {', '.join(renal_creat)},\n",
    "       charttime time_bin\n",
    "from mimiciv_derived.kdigo_creatinine\n",
    "\"\"\"\n",
    "\n",
    "renal_aki_query = f\"\"\"\n",
    "select hadm_id,\n",
    "       {', '.join(renal_aki)},\n",
    "       charttime time_bin\n",
    "from mimiciv_derived.kdigo_stages\n",
    "\"\"\"\n",
    "\n",
    "renal_out_df = pd.read_sql_query(renal_out_query, con)\n",
    "renal_creat_df = pd.read_sql_query(renal_creat_query, con)\n",
    "renal_aki_df = pd.read_sql_query(renal_aki_query, con)\n"
   ]
  },
  {
   "cell_type": "code",
   "execution_count": null,
   "id": "b21c11f9",
   "metadata": {},
   "outputs": [],
   "source": [
    "renal_aki_df.aki_stage_smoothed.max()"
   ]
  },
  {
   "cell_type": "code",
   "execution_count": null,
   "id": "5aa3bfdd",
   "metadata": {},
   "outputs": [],
   "source": [
    "renal_hadm_id = pd.Series(renal_aki_df.hadm_id.unique())"
   ]
  },
  {
   "cell_type": "code",
   "execution_count": null,
   "id": "45c663d4",
   "metadata": {},
   "outputs": [],
   "source": [
    "adm_df['adm_has_renal_data'] = adm_df.hadm_id.isin(renal_hadm_id)\n",
    "adm_df\n",
    "\n",
    "\n"
   ]
  },
  {
   "cell_type": "code",
   "execution_count": null,
   "id": "a18ac546",
   "metadata": {},
   "outputs": [],
   "source": [
    "subject_has_renal = adm_df.groupby('subject_id', as_index=False).agg(n_adm=('hadm_id', 'nunique'),\n",
    "                                                                     adm_has_renal_data=('adm_has_renal_data', 'sum'))\n",
    "subjects_with_renal_info = subject_has_renal[subject_has_renal['adm_has_renal_data'] > 0]\n",
    "subjects_with_renal_info['p_adm_with_renal_info'] = subjects_with_renal_info['adm_has_renal_data'] / \\\n",
    "                                                    subjects_with_renal_info['n_adm']\n",
    "subject_id_with_renal_info = subjects_with_renal_info.subject_id\n",
    "# subjects_with_renal_info['p_adm_with_renal_info'].hist()"
   ]
  },
  {
   "cell_type": "code",
   "execution_count": null,
   "id": "39957214",
   "metadata": {},
   "outputs": [],
   "source": [
    "adm_df.subject_id.nunique()"
   ]
  },
  {
   "cell_type": "code",
   "execution_count": null,
   "id": "39b02c3b",
   "metadata": {},
   "outputs": [],
   "source": [
    "subject_id_with_renal_info"
   ]
  },
  {
   "cell_type": "code",
   "execution_count": null,
   "id": "dd35907f",
   "metadata": {},
   "outputs": [],
   "source": [
    "renal_out_df = filter_measurements(renal_out_df, hadm_id_selection=hadm_id_los_geq_12h,\n",
    "                                   subject_id_selection=subject_id_with_renal_info)\n",
    "renal_creat_df = filter_measurements(renal_creat_df, hadm_id_selection=hadm_id_los_geq_12h,\n",
    "                                     subject_id_selection=subject_id_with_renal_info)\n",
    "renal_aki_df = filter_measurements(renal_aki_df, hadm_id_selection=hadm_id_los_geq_12h,\n",
    "                                   subject_id_selection=subject_id_with_renal_info)"
   ]
  },
  {
   "cell_type": "code",
   "execution_count": null,
   "id": "708b0613",
   "metadata": {},
   "outputs": [],
   "source": [
    "sofa_query = f\"\"\"\n",
    "select hadm_id,\n",
    "      s.sofa_24hours as sofa ,\n",
    "      s.endtime time_bin\n",
    "from mimiciv_derived.sofa as s\n",
    "inner join mimiciv_icu.icustays icu on s.stay_id = icu.stay_id\n",
    "\"\"\"\n",
    "\n",
    "sofa_df = pd.read_sql_query(sofa_query, con)"
   ]
  },
  {
   "cell_type": "code",
   "execution_count": null,
   "id": "43d921fd",
   "metadata": {},
   "outputs": [],
   "source": [
    "sofa_df = filter_measurements(sofa_df, hadm_id_selection=hadm_id_los_geq_12h,\n",
    "                              subject_id_selection=subject_id_with_renal_info)"
   ]
  },
  {
   "cell_type": "code",
   "execution_count": null,
   "id": "00ec2df9",
   "metadata": {},
   "outputs": [],
   "source": [
    "blood_gas_query = f\"\"\"\n",
    "select hadm_id,\n",
    "       {', '.join(blood_gas)},\n",
    "       charttime time_bin\n",
    "from mimiciv_derived.bg as bg\n",
    "where hadm_id is not null\n",
    "\"\"\"\n",
    "\n",
    "bg_df = pd.read_sql_query(blood_gas_query, con)"
   ]
  },
  {
   "cell_type": "code",
   "outputs": [],
   "source": [
    "bg_df = filter_measurements(bg_df, hadm_id_selection=hadm_id_los_geq_12h,\n",
    "                            subject_id_selection=subject_id_with_renal_info)"
   ],
   "metadata": {},
   "id": "45497725",
   "execution_count": null
  },
  {
   "cell_type": "code",
   "outputs": [],
   "source": [
    "blood_chemistry_query = f\"\"\"\n",
    "select hadm_id,\n",
    "       {', '.join(blood_chemistry)},\n",
    "       charttime time_bin\n",
    "from mimiciv_derived.chemistry as ch\n",
    "where hadm_id is not null\n",
    "\"\"\"\n",
    "\n",
    "ch_df = pd.read_sql_query(blood_chemistry_query, con)"
   ],
   "metadata": {},
   "id": "4d8ca15a",
   "execution_count": null
  },
  {
   "cell_type": "code",
   "execution_count": null,
   "id": "14e033a4",
   "metadata": {},
   "outputs": [],
   "source": [
    "ch_df.dtypes"
   ]
  },
  {
   "cell_type": "code",
   "execution_count": null,
   "id": "f3ccdda6",
   "metadata": {},
   "outputs": [],
   "source": [
    "ch_df = filter_measurements(ch_df, hadm_id_selection=hadm_id_los_geq_12h,\n",
    "                            subject_id_selection=subject_id_with_renal_info)"
   ]
  },
  {
   "cell_type": "code",
   "execution_count": null,
   "id": "276cd4a6",
   "metadata": {},
   "outputs": [],
   "source": [
    "cardiac_marker_query = \\\n",
    "    f\"\"\"\n",
    "WITH trop AS\n",
    "(\n",
    "    SELECT specimen_id, MAX(valuenum) AS troponin_t\n",
    "    FROM mimiciv_hosp.labevents\n",
    "    WHERE itemid = 51003\n",
    "    GROUP BY specimen_id\n",
    ")\n",
    "SELECT\n",
    "    c.hadm_id\n",
    "    , charttime time_bin\n",
    "    , trop.troponin_t\n",
    "    , c.ntprobnp\n",
    "    , c.ck_mb\n",
    "FROM mimiciv_hosp.admissions a\n",
    "LEFT JOIN mimiciv_derived.cardiac_marker c\n",
    "  ON a.hadm_id = c.hadm_id\n",
    "LEFT JOIN trop\n",
    "  ON c.specimen_id = trop.specimen_id\n",
    "WHERE c.hadm_id is not null\n",
    "\"\"\"\n",
    "\n",
    "cardiac_df = pd.read_sql_query(cardiac_marker_query, con)"
   ]
  },
  {
   "cell_type": "code",
   "execution_count": null,
   "id": "10ca81f8",
   "metadata": {},
   "outputs": [],
   "source": [
    "cardiac_df.dtypes"
   ]
  },
  {
   "cell_type": "code",
   "outputs": [],
   "source": [
    "def filter_measurements(df, hadm_id_selection=None, subject_id_selection=None):\n",
    "    n = OrderedDict()\n",
    "    n['n0'] = len(df)\n",
    "\n",
    "    cols = df.columns\n",
    "\n",
    "    # (1) Filter measurements based on admission_id selection.\n",
    "    if hadm_id_selection is not None:\n",
    "        df = df[df.hadm_id.isin(hadm_id_selection)]\n",
    "\n",
    "    n['n adm. filter'] = len(df)\n",
    "\n",
    "    # Merge with Admission Table\n",
    "    df_ = df.merge(adm_df, on='hadm_id', how='left')\n",
    "\n",
    "    # (2) Filter measurements based on subject_id selection\n",
    "    if subject_id_selection is not None:\n",
    "        df_ = df_[df_.subject_id.isin(subject_id_selection)]\n",
    "\n",
    "    n['n subj. filter'] = len(df_)\n",
    "\n",
    "    # (3) Filter measurements with time_bin outside the hosp stay.\n",
    "    mask = df_.time_bin.between(df_.admittime, df_.dischtime)\n",
    "\n",
    "    df_ = df_[mask]\n",
    "    df = df_[cols]\n",
    "    n['n in-patient time'] = len(df)\n",
    "\n",
    "    print('\\n'.join(f'{filt}: {num} ({100 * num / n[\"n0\"]:.1f})' for filt, num in n.items()))\n",
    "    print('\\n========\\n')\n",
    "    return df"
   ],
   "metadata": {},
   "id": "c159061e",
   "execution_count": null
  },
  {
   "cell_type": "code",
   "execution_count": null,
   "id": "634276fd",
   "metadata": {},
   "outputs": [],
   "source": [
    "cardiac_df = filter_measurements(cardiac_df, hadm_id_selection=hadm_id_los_geq_12h,\n",
    "                                 subject_id_selection=subject_id_with_renal_info)"
   ]
  },
  {
   "cell_type": "code",
   "execution_count": null,
   "id": "a614accc",
   "metadata": {},
   "outputs": [],
   "source": [
    "weight_query = f\"\"\"\n",
    "select icu.hadm_id,\n",
    "     w.weight,\n",
    "        w.time_bin\n",
    " from (\n",
    " (select stay_id, w.weight, w.starttime time_bin\n",
    "  from mimiciv_derived.weight_durations as w)\n",
    " union all\n",
    " (select stay_id, w.weight, w.endtime time_bin\n",
    "     from mimiciv_derived.weight_durations as w)\n",
    " ) w\n",
    "inner join mimiciv_icu.icustays icu on w.stay_id = icu.stay_id\n",
    "\"\"\"\n",
    "\n",
    "weight_df = pd.read_sql_query(weight_query, con)"
   ]
  },
  {
   "cell_type": "code",
   "execution_count": null,
   "id": "9e9de307",
   "metadata": {},
   "outputs": [],
   "source": [
    "weight_df = filter_measurements(weight_df, hadm_id_selection=hadm_id_los_geq_12h,\n",
    "                                subject_id_selection=subject_id_with_renal_info)"
   ]
  },
  {
   "cell_type": "code",
   "execution_count": null,
   "id": "3e5fec33",
   "metadata": {},
   "outputs": [],
   "source": [
    "cbc_query = f\"\"\"\n",
    "select hadm_id,\n",
    "       {', '.join(cbc)},\n",
    "       cbc.charttime time_bin\n",
    "from mimiciv_derived.complete_blood_count as cbc\n",
    "where hadm_id is not null\n",
    "\"\"\"\n",
    "cbc_df = pd.read_sql_query(cbc_query, con)"
   ]
  },
  {
   "cell_type": "code",
   "execution_count": null,
   "id": "7d3978b8",
   "metadata": {},
   "outputs": [],
   "source": [
    "cbc_df.dtypes"
   ]
  },
  {
   "cell_type": "code",
   "execution_count": null,
   "id": "77b88303",
   "metadata": {},
   "outputs": [],
   "source": [
    "cbc_df = filter_measurements(cbc_df, hadm_id_selection=hadm_id_los_geq_12h,\n",
    "                             subject_id_selection=subject_id_with_renal_info)"
   ]
  },
  {
   "cell_type": "code",
   "execution_count": null,
   "id": "652cbb63",
   "metadata": {},
   "outputs": [],
   "source": [
    "vital_query = f\"\"\"\n",
    "select icu.hadm_id,\n",
    "       {', '.join(vital_signs)},\n",
    "       v.charttime time_bin\n",
    "from mimiciv_derived.vitalsign as v\n",
    "inner join mimiciv_icu.icustays as icu\n",
    " on icu.stay_id = v.stay_id\n",
    "\"\"\"\n",
    "vital_df = pd.read_sql_query(vital_query, con)"
   ]
  },
  {
   "cell_type": "code",
   "execution_count": null,
   "id": "c4bef1e2",
   "metadata": {},
   "outputs": [],
   "source": [
    "vital_df = filter_measurements(vital_df, hadm_id_selection=hadm_id_los_geq_12h,\n",
    "                               subject_id_selection=subject_id_with_renal_info)"
   ]
  },
  {
   "cell_type": "code",
   "execution_count": null,
   "id": "134123a4",
   "metadata": {},
   "outputs": [],
   "source": [
    "gcs_query = f\"\"\"\n",
    "select icu.hadm_id,\n",
    "       {', '.join(coma_signs)},\n",
    "       gcs.charttime time_bin\n",
    "from mimiciv_derived.gcs as gcs\n",
    "inner join mimiciv_icu.icustays as icu\n",
    " on icu.stay_id = gcs.stay_id\n",
    "\"\"\"\n",
    "gcs_df = pd.read_sql_query(gcs_query, con)"
   ]
  },
  {
   "cell_type": "code",
   "execution_count": null,
   "id": "ec028841",
   "metadata": {},
   "outputs": [],
   "source": [
    "gcs_df = filter_measurements(gcs_df, hadm_id_selection=hadm_id_los_geq_12h,\n",
    "                             subject_id_selection=subject_id_with_renal_info)"
   ]
  },
  {
   "cell_type": "code",
   "execution_count": null,
   "id": "d7924f94",
   "metadata": {},
   "outputs": [],
   "source": [
    "obs_tables = {'blood_gas': bg_df,\n",
    "              'chemistry': ch_df,\n",
    "              'cardiac_marker': cardiac_df,\n",
    "              'weight': weight_df,\n",
    "              'cbc': cbc_df,\n",
    "              'vital': vital_df,\n",
    "              'gcs': gcs_df,\n",
    "              'renal_out': renal_out_df,\n",
    "              'renal_creat': renal_creat_df,\n",
    "              'renal_aki': renal_aki_df,\n",
    "              'sofa': sofa_df}\n",
    "obs_columns = {table_name: set(df.columns) - {'time_bin', 'hadm_id'} for table_name, df in obs_tables.items()}"
   ]
  },
  {
   "cell_type": "code",
   "execution_count": null,
   "id": "7d0fd952",
   "metadata": {},
   "outputs": [],
   "source": [
    "obs_group = {col: group for group, cols in obs_columns.items() for col in cols}\n",
    "obs_codes = pd.DataFrame({'label': sorted(obs_group), 'group': map(obs_group.get, sorted(obs_group))})\n",
    "obs_codes = obs_codes.sort_values(by='group').reset_index(drop=True)\n",
    "obs_codes['code'] = obs_codes.index.map(lambda i: f'o{i:02d}')\n",
    "code_map = dict(zip(obs_codes.label, obs_codes.code))"
   ]
  },
  {
   "cell_type": "code",
   "execution_count": null,
   "id": "235c0a2a",
   "metadata": {},
   "outputs": [],
   "source": [
    "obs_melted_tables = {k: pd.melt(df, id_vars=['hadm_id', 'time_bin'],\n",
    "                                var_name=['code'],\n",
    "                                value_vars=obs_columns[k]) for k, df in\n",
    "                     obs_tables.items()}\n",
    "\n",
    "obs_melted_tables = {k: df[df.value.notnull()] for k, df in obs_melted_tables.items()}"
   ]
  },
  {
   "cell_type": "code",
   "execution_count": null,
   "id": "e8f1dce3",
   "metadata": {},
   "outputs": [],
   "source": [
    "obs_df = pd.concat(obs_melted_tables.values(), axis=0)"
   ]
  },
  {
   "cell_type": "code",
   "execution_count": null,
   "id": "17168ae5",
   "metadata": {},
   "outputs": [],
   "source": [
    "obs_df['code'] = obs_df['code'].map(code_map)\n",
    "obs_df"
   ]
  },
  {
   "cell_type": "code",
   "execution_count": null,
   "id": "48b2fd11",
   "metadata": {},
   "outputs": [],
   "source": [
    "obs_df.to_csv('obs_df.csv.gz', compression='gzip')\n",
    "obs_codes.to_csv('mimic4_obs_codes.csv.gz', compression='gzip')"
   ]
  },
  {
   "cell_type": "code",
   "execution_count": null,
   "id": "6199bc9a",
   "metadata": {},
   "outputs": [],
   "source": [
    "obs_codes"
   ]
  },
  {
   "cell_type": "markdown",
   "id": "ea32e37d",
   "metadata": {},
   "source": [
    "### Interventions\n",
    "\n"
   ]
  },
  {
   "cell_type": "code",
   "execution_count": null,
   "id": "d11cef40",
   "metadata": {},
   "outputs": [],
   "source": [
    "## Inputs - Canonicalise\n",
    "\n",
    "input_query = \\\n",
    "    \"\"\"\n",
    "    SELECT\n",
    "        a.hadm_id\n",
    "        , inp.starttime as start_time\n",
    "        , inp.endtime as end_time\n",
    "        , di.label\n",
    "        , di.itemid\n",
    "        , inp.rate \n",
    "        , inp.amount\n",
    "        , inp.rateuom\n",
    "        , inp.amountuom\n",
    "    FROM mimiciv_hosp.admissions a\n",
    "    INNER JOIN mimiciv_icu.icustays i\n",
    "        ON a.hadm_id = i.hadm_id\n",
    "    LEFT JOIN mimiciv_icu.inputevents inp\n",
    "        ON i.stay_id = inp.stay_id\n",
    "    LEFT JOIN mimiciv_icu.d_items di\n",
    "        ON inp.itemid = di.itemid\n",
    "    \"\"\"\n",
    "\n",
    "## Procedures - Canonicalise and Refine\n",
    "icuproc_query = \\\n",
    "    \"\"\"\n",
    "    SELECT\n",
    "        a.hadm_id\n",
    "        , pe.starttime as start_time\n",
    "        , pe.endtime as end_time\n",
    "        , di.label\n",
    "        , di.itemid\n",
    "        , pe.value\n",
    "    FROM mimiciv_hosp.admissions a\n",
    "    INNER JOIN mimiciv_icu.icustays i\n",
    "        ON a.hadm_id = i.hadm_id\n",
    "    LEFT JOIN mimiciv_icu.procedureevents pe\n",
    "        ON i.stay_id = pe.stay_id\n",
    "    LEFT JOIN mimiciv_icu.d_items di\n",
    "        ON pe.itemid = di.itemid\n",
    "    \"\"\"\n",
    "\n",
    "hospicdproc_query = \\\n",
    "    \"\"\"\n",
    "    select pi.hadm_id\n",
    "    , (pi.chartdate)::timestamp as start_time\n",
    "    , (pi.chartdate + interval '1 hour')::timestamp as end_time\n",
    "    , pi.icd_code\n",
    "    , pi.icd_version\n",
    "    , di.long_title\n",
    "    FROM mimiciv_hosp.procedures_icd pi\n",
    "    INNER JOIN mimiciv_hosp.d_icd_procedures di\n",
    "      ON pi.icd_version = di.icd_version\n",
    "      AND pi.icd_code = di.icd_code\n",
    "    INNER JOIN mimiciv_hosp.admissions a\n",
    "      ON pi.hadm_id = a.hadm_id\n",
    "    \"\"\"\n",
    "\n",
    "# === provider order entry (poe) <----- very messy, high irrelevance, ignore\n",
    "\n",
    "poe_query = f\"\"\"\n",
    "SELECT\n",
    "    a.hadm_id\n",
    "    , mimiciv_derived.DATETIME_DIFF(p.ordertime, a.admittime, 'DAY') AS offset\n",
    "    , p.poe_id\n",
    "    , p.order_type, p.order_subtype\n",
    "    , p.transaction_type\n",
    "    , pd.field_name\n",
    "    , pd.field_value\n",
    "FROM mimiciv_hosp.admissions a\n",
    "INNER JOIN mimiciv_hosp.poe p\n",
    "    ON a.hadm_id = p.hadm_id\n",
    "LEFT JOIN  mimiciv_hosp.poe_detail pd\n",
    "    ON p.poe_id = pd.poe_id\n",
    "\"\"\""
   ]
  },
  {
   "cell_type": "code",
   "execution_count": null,
   "id": "1920e3c6",
   "metadata": {},
   "outputs": [],
   "source": [
    "input_df = pd.read_sql_query(input_query, con)"
   ]
  },
  {
   "cell_type": "code",
   "execution_count": null,
   "id": "abd57e5f",
   "metadata": {},
   "outputs": [],
   "source": [
    "icuproc_df = pd.read_sql_query(icuproc_query, con, dtype=str)"
   ]
  },
  {
   "cell_type": "code",
   "execution_count": null,
   "id": "bcaa8c5e",
   "metadata": {},
   "outputs": [],
   "source": [
    "hospicdproc_df = pd.read_sql_query(hospicdproc_query, con, dtype=str)"
   ]
  },
  {
   "cell_type": "code",
   "outputs": [],
   "source": [
    "icuproc_df"
   ],
   "metadata": {
    "collapsed": false
   },
   "id": "f3992a64cd952e",
   "execution_count": null
  },
  {
   "cell_type": "code",
   "execution_count": null,
   "id": "8dbb6942",
   "metadata": {},
   "outputs": [],
   "source": [
    "# Ignored entirely\n",
    "# poe_df = pd.read_sql_query(poe_query,con)"
   ]
  },
  {
   "cell_type": "code",
   "execution_count": null,
   "id": "15b52aea",
   "metadata": {},
   "outputs": [],
   "source": [
    "def filter_interventions(df, hadm_id_selection=None, subject_id_selection=None):\n",
    "    n = OrderedDict()\n",
    "    n['n0'] = len(df)\n",
    "\n",
    "    cols = df.columns\n",
    "\n",
    "    # (1) Filter interventions based on admission_id selection.\n",
    "    if hadm_id_selection is not None:\n",
    "        df = df[df.hadm_id.isin(hadm_id_selection)]\n",
    "\n",
    "    n['n adm. filter'] = len(df)\n",
    "\n",
    "    # Merge with Admission Table\n",
    "    df_ = df.merge(adm_df, on='hadm_id', how='left')\n",
    "\n",
    "    # (2) Filter interventions based on subject_id selection\n",
    "    if subject_id_selection is not None:\n",
    "        df_ = df_[df_.subject_id.isin(subject_id_selection)]\n",
    "\n",
    "    n['n subj. filter'] = len(df_)\n",
    "\n",
    "    # (3) Filter interventions with intervals outside the hosp stay.\n",
    "    mask1 = df_.start_time.between(df_.admittime, df_.dischtime)\n",
    "    mask2 = df_.end_time.between(df_.admittime, df_.dischtime)\n",
    "    n['n start-time filter'] = sum(mask1)\n",
    "    n['n end-time filter'] = sum(mask1 & mask2)\n",
    "\n",
    "    df_ = df_[mask1 & mask2]\n",
    "\n",
    "    df = df_[cols]\n",
    "    n['n in-patient time'] = len(df)\n",
    "\n",
    "    print('\\n'.join(f'{filt}: {num} ({100 * num / n[\"n0\"]:.1f})' for filt, num in n.items()))\n",
    "    print('\\n========\\n')\n",
    "    return df"
   ]
  },
  {
   "cell_type": "code",
   "execution_count": null,
   "id": "8d0ce24b",
   "metadata": {},
   "outputs": [],
   "source": [
    "input_df = filter_interventions(input_df, hadm_id_selection=hadm_id_los_geq_12h,\n",
    "                                subject_id_selection=subject_id_with_renal_info)"
   ]
  },
  {
   "cell_type": "code",
   "execution_count": null,
   "id": "520d7e85",
   "metadata": {},
   "outputs": [],
   "source": [
    "input_df.label.nunique()"
   ]
  },
  {
   "cell_type": "code",
   "execution_count": null,
   "id": "0c5e1dc4",
   "metadata": {},
   "outputs": [],
   "source": [
    "icuproc_df = filter_interventions(icuproc_df, hadm_id_selection=hadm_id_los_geq_12h,\n",
    "                                  subject_id_selection=subject_id_with_renal_info)"
   ]
  },
  {
   "cell_type": "code",
   "execution_count": null,
   "id": "e54fd11d",
   "metadata": {},
   "outputs": [],
   "source": [
    "hospicdproc_df = filter_interventions(hospicdproc_df, hadm_id_selection=hadm_id_los_geq_12h,\n",
    "                                      subject_id_selection=subject_id_with_renal_info)"
   ]
  },
  {
   "cell_type": "code",
   "execution_count": null,
   "id": "ad5a0649",
   "metadata": {},
   "outputs": [],
   "source": [
    "hospicdproc_df"
   ]
  },
  {
   "cell_type": "markdown",
   "id": "bbc041fa",
   "metadata": {},
   "source": [
    "### `hospicdproc` + `icuproc` Further filteration and grouper"
   ]
  },
  {
   "cell_type": "code",
   "execution_count": null,
   "id": "85e05ed6",
   "metadata": {},
   "outputs": [],
   "source": [
    "df = hospicdproc_df.merge(adm_df, on='hadm_id', how='left')\n",
    "\n",
    "# timeperc_within_stay = (df['start_time'] - df['admittime']).dt.total_seconds() /(df['dischtime'] - df['admittime']).dt.total_seconds()\n",
    "# timeperc_within_stay.plot.kde()"
   ]
  },
  {
   "cell_type": "code",
   "execution_count": null,
   "id": "f900c29c",
   "metadata": {},
   "outputs": [],
   "source": [
    "icd_n_subjects = df.groupby(['icd_code', 'long_title', 'icd_version'], as_index=False).agg(\n",
    "    n_subjects=('subject_id', 'nunique'))\n",
    "icd_n_subjects['p_subjects'] = icd_n_subjects['n_subjects'] / len(subject_id_with_renal_info)\n",
    "# icd_n_subjects['p_subjects'].plot.kde()"
   ]
  },
  {
   "cell_type": "code",
   "execution_count": null,
   "id": "0fb5f065",
   "metadata": {},
   "outputs": [],
   "source": [
    "# Conisder ICD codes with minimum coverage of 0.5% of the selected subjects.\n",
    "hospicd_R1 = icd_n_subjects[icd_n_subjects['p_subjects'] > 0.005]\n",
    "\n",
    "# Remove diagnostic procedures.\n",
    "patterns = ['diag', 'fluoro', 'biops', 'inspection', 'bronchoscop', 'monitor', 'ultrasonography']\n",
    "\n",
    "hospicd_R2_mask = hospicd_R1['long_title'].str.match('|'.join(f'(.*{p}.*)' for p in patterns), case=False)\n",
    "hospicd_R2 = hospicd_R1[~hospicd_R2_mask]\n",
    "\n",
    "hospicd_R1.to_csv('hospicd_R1.csv')\n",
    "hospicd_R2.to_csv('hospicd_R2.csv')"
   ]
  },
  {
   "cell_type": "code",
   "execution_count": null,
   "id": "7afaefbd",
   "metadata": {},
   "outputs": [],
   "source": [
    "# Apply filteration.\n",
    "hospicdproc_df = hospicdproc_df[hospicdproc_df.icd_code.isin(hospicd_R2.icd_code)]"
   ]
  },
  {
   "cell_type": "code",
   "execution_count": null,
   "id": "16fdebc8",
   "metadata": {},
   "outputs": [],
   "source": [
    "df = hospicdproc_df.merge(adm_df, on='hadm_id', how='left')\n",
    "\n",
    "# timeperc_within_stay = (df['start_time'] - df['admittime']).dt.total_seconds() /(df['dischtime'] - df['admittime']).dt.total_seconds()\n",
    "# timeperc_within_stay.plot.kde(bw_method=0.05)"
   ]
  },
  {
   "cell_type": "code",
   "execution_count": null,
   "id": "31347331",
   "metadata": {},
   "outputs": [],
   "source": [
    "icd_n_subjects = df.groupby(['icd_code', 'long_title', 'icd_version'], as_index=False).agg(\n",
    "    n_subjects=('subject_id', 'nunique'))\n",
    "icd_n_subjects['p_subjects'] = icd_n_subjects['n_subjects'] / len(subject_id_with_renal_info)\n",
    "# icd_n_subjects['p_subjects'].plot.kde(bw_method=0.01)"
   ]
  },
  {
   "cell_type": "code",
   "execution_count": null,
   "id": "19e6beda",
   "metadata": {},
   "outputs": [],
   "source": [
    "hospicdproc_df"
   ]
  },
  {
   "cell_type": "code",
   "execution_count": null,
   "id": "5b89cf9d",
   "metadata": {},
   "outputs": [],
   "source": [
    "hospicdproc_grouper = pd.read_csv('int_grouper_hospicdproc.csv')\n",
    "hospicdproc_grouper"
   ]
  },
  {
   "cell_type": "code",
   "execution_count": null,
   "id": "5a200e91",
   "metadata": {},
   "outputs": [],
   "source": [
    "n1 = len(hospicdproc_df)\n",
    "icd_selection = set(hospicdproc_grouper.icd_code)\n",
    "print(hospicdproc_grouper.icd_code.nunique(), len(hospicdproc_grouper))\n",
    "\n"
   ]
  },
  {
   "cell_type": "code",
   "execution_count": null,
   "id": "7a493c19",
   "metadata": {},
   "outputs": [],
   "source": [
    "hospicdproc_df = hospicdproc_df[hospicdproc_df.icd_code.isin(icd_selection)]\n",
    "n2 = len(hospicdproc_df)\n",
    "n1, n2"
   ]
  },
  {
   "cell_type": "markdown",
   "id": "7c94515a",
   "metadata": {},
   "source": [
    "#### Standard Procedure Table"
   ]
  },
  {
   "cell_type": "code",
   "execution_count": null,
   "id": "99b918a9",
   "metadata": {},
   "outputs": [],
   "source": [
    "hospicd_coder = lambda v, c: f\"v{v}:c{c}\"\n",
    "\n",
    "hospicdproc_df[\"code\"] = list(map(hospicd_coder, hospicdproc_df[\"icd_version\"], hospicdproc_df[\"icd_code\"]))\n",
    "hospicdproc_grouper[\"code\"] = list(\n",
    "    map(hospicd_coder, hospicdproc_grouper[\"icd_version\"], hospicdproc_grouper[\"icd_code\"]))\n",
    "hospicdproc_grouper[\"label\"] = hospicdproc_grouper[\"long_title\"]\n",
    "\n",
    "hospicdproc_df = hospicdproc_df[[\"hadm_id\", \"start_time\", \"end_time\", \"code\"]]\n",
    "hospicdproc_grouper = hospicdproc_grouper[[\"code\", \"group\", \"label\"]]"
   ]
  },
  {
   "cell_type": "markdown",
   "id": "c705e457",
   "metadata": {},
   "source": [
    "### 'icuproc` refinement"
   ]
  },
  {
   "cell_type": "code",
   "execution_count": null,
   "id": "5407fef0",
   "metadata": {},
   "outputs": [],
   "source": [
    "icuproc_df"
   ]
  },
  {
   "cell_type": "code",
   "execution_count": null,
   "id": "1a0a0ceb",
   "metadata": {},
   "outputs": [],
   "source": [
    "icuproc_df['total_interval_hrs'] = (icuproc_df['end_time'] - icuproc_df['start_time']).dt.total_seconds() / 3600\n",
    "icuproc_df['total_interval_mins'] = (icuproc_df['end_time'] - icuproc_df['start_time']).dt.total_seconds() / 60\n",
    "icuproc_df['value_per_hour'] = icuproc_df['value'] / icuproc_df['total_interval_hrs']\n",
    "\n",
    "df = icuproc_df.merge(adm_df, on='hadm_id', how='left')\n",
    "df['count'] = 1"
   ]
  },
  {
   "cell_type": "code",
   "execution_count": null,
   "id": "6a38f160",
   "metadata": {},
   "outputs": [],
   "source": [
    "icuproc_n_subjects = df.groupby('label', as_index=False).agg(\n",
    "    n_subjects=('subject_id', 'nunique'),\n",
    "    n=('count', 'sum'),\n",
    "    mean_value=('value', 'mean'),\n",
    "    std_value=('value', 'std'),\n",
    "    mean_value_per_hour=('value_per_hour', 'mean'),\n",
    "    std_value_per_hour=('value_per_hour', 'std'),\n",
    "    mean_interval_minutes=('total_interval_mins', 'mean'),\n",
    "    std_interval_minutes=('total_interval_mins', 'std'))\n"
   ]
  },
  {
   "cell_type": "code",
   "execution_count": null,
   "id": "5556c123",
   "metadata": {},
   "outputs": [],
   "source": [
    "icuproc_n_subjects.to_csv('icuproc_n_subjects.csv')"
   ]
  },
  {
   "cell_type": "code",
   "execution_count": null,
   "id": "186aa633",
   "metadata": {},
   "outputs": [],
   "source": [
    "int_icuproc_grouper = pd.read_csv('int_grouper_icuproc.csv')"
   ]
  },
  {
   "cell_type": "code",
   "execution_count": null,
   "id": "cde0df00",
   "metadata": {},
   "outputs": [],
   "source": [
    "n1 = len(icuproc_df)\n",
    "exclude_icuproc = set(int_icuproc_grouper[int_icuproc_grouper.group == 'exclude'].label)\n",
    "\n",
    "icuproc_df = icuproc_df[~icuproc_df.label.isin(exclude_icuproc)]\n",
    "n2 = len(icuproc_df)\n",
    "n1, n2"
   ]
  },
  {
   "cell_type": "markdown",
   "id": "7d4c4cff",
   "metadata": {},
   "source": [
    "#### Standard Procedure Table"
   ]
  },
  {
   "cell_type": "code",
   "execution_count": null,
   "id": "9880022a",
   "metadata": {},
   "outputs": [],
   "source": [
    "icuproc_df[\"code\"] = icuproc_df[\"label\"]\n",
    "int_icuproc_grouper[\"code\"] = int_icuproc_grouper[\"label\"]\n",
    "int_icuproc_grouper[\"label\"] = int_icuproc_grouper[\"label\"]\n",
    "\n",
    "icuproc_df = icuproc_df[[\"hadm_id\", \"start_time\", \"end_time\", \"code\"]]\n",
    "int_icuproc_grouper = int_icuproc_grouper[[\"code\", \"group\", \"label\"]]"
   ]
  },
  {
   "cell_type": "code",
   "execution_count": null,
   "id": "1e21b51f",
   "metadata": {},
   "outputs": [],
   "source": [
    "int_proc_df = pd.concat([hospicdproc_df, icuproc_df], axis=0)\n",
    "int_grouper_proc = pd.concat([hospicdproc_grouper, int_icuproc_grouper], axis=0)\n",
    "\n",
    "int_proc_df.to_csv('int_proc.csv.gz', compression='gzip')\n",
    "int_grouper_proc.to_csv('mimic4_int_grouper_proc.csv.gz', compression='gzip')"
   ]
  },
  {
   "cell_type": "code",
   "execution_count": null,
   "id": "f7e03f33",
   "metadata": {},
   "outputs": [],
   "source": [
    "int_grouper_proc2 = int_grouper_proc.set_index(['group', 'code']).sort_index()\n",
    "with pd.ExcelWriter('int_grouper_proc2.xlsx') as writer:\n",
    "    int_grouper_proc2.to_excel(writer, sheet_name='Sheet1', merge_cells=True)"
   ]
  },
  {
   "cell_type": "code",
   "execution_count": null,
   "id": "280dcf00",
   "metadata": {},
   "outputs": [],
   "source": [
    "int_grouper_proc"
   ]
  },
  {
   "cell_type": "markdown",
   "id": "476b5a8e",
   "metadata": {},
   "source": [
    "### `input` filteration and refinement"
   ]
  },
  {
   "cell_type": "code",
   "execution_count": null,
   "id": "dbe42ca1",
   "metadata": {},
   "outputs": [],
   "source": [
    "input_df['total_interval_hrs'] = (input_df['end_time'] - input_df['start_time']).dt.total_seconds() / 3600\n",
    "input_df['total_interval_mins'] = (input_df['end_time'] - input_df['start_time']).dt.total_seconds() / 60\n",
    "input_df['amount_per_hour'] = input_df['amount'] / input_df['total_interval_hrs']"
   ]
  },
  {
   "cell_type": "code",
   "execution_count": null,
   "id": "4f7d47fd",
   "metadata": {},
   "outputs": [],
   "source": [
    "df = input_df.merge(adm_df, on='hadm_id', how='left')\n",
    "df['count'] = 1"
   ]
  },
  {
   "cell_type": "code",
   "execution_count": null,
   "id": "34f16a3a",
   "metadata": {},
   "outputs": [],
   "source": [
    "input_n_subjects = df.groupby(['label', 'amountuom'], as_index=False).agg(\n",
    "    n_subjects=('subject_id', 'nunique'),\n",
    "    n=('count', 'sum'),\n",
    "    mean_amount=('amount', 'mean'),\n",
    "    std_amount=('amount', 'std'),\n",
    "    mean_amount_per_hour=('amount_per_hour', 'mean'),\n",
    "    std_amount_per_hour=('amount_per_hour', 'std'),\n",
    "    mean_interval_minutes=('total_interval_mins', 'mean'),\n",
    "    std_interval_minutes=('total_interval_mins', 'std'))\n"
   ]
  },
  {
   "cell_type": "code",
   "execution_count": null,
   "id": "857ff4cc",
   "metadata": {},
   "outputs": [],
   "source": [
    "input_n_subjects.to_csv('input_n_subjects.csv')\n"
   ]
  },
  {
   "cell_type": "code",
   "execution_count": null,
   "id": "9a5487f5",
   "metadata": {},
   "outputs": [],
   "source": [
    "\"\"\"\n",
    "from IPython.display import display\n",
    "\n",
    "input_n_subjects_tom = pd.read_csv('input_n_subjects_tom.csv', index_col=[0])\n",
    "# Change 'M' (maybe) to 'Y' (yes)\n",
    "input_n_subjects_tom.loc[input_n_subjects_tom['dose_impact'] == 'M', 'dose_impact'] = 'Y'\n",
    "\n",
    "# Add column for unit normalisation, default=1.0\n",
    "input_n_subjects_tom['rate_normaliser'] = 1.0\n",
    "\n",
    "# Add label groups\n",
    "input_n_subjects_tom['group'] = input_n_subjects_tom.label.map(input_group_map)\n",
    "\n",
    "# Default group decision:\n",
    "\n",
    "init_decision = {}\n",
    "for group, group_df in input_n_subjects_tom.groupby('group'):\n",
    "    dose_impact = list(group_df['dose_impact'].unique())\n",
    "    \n",
    "    assert len(dose_impact) == 1, f\"Incosistant dose impact decision {group}.\"\n",
    "    dose_impact = dose_impact[0]\n",
    "    if dose_impact == 'Y':\n",
    "        if group_df.label.nunique() > 1:\n",
    "            if group_df.amountuom.nunique() > 1:\n",
    "                init_decision[group] = 'DS(or DH, norm)'\n",
    "            else:\n",
    "                init_decision[group] = 'DS(or DH)'\n",
    "        else:\n",
    "            if group_df.amountuom.nunique() > 1:\n",
    "                init_decision[group] = 'DH(norm)'\n",
    "            else:\n",
    "                init_decision[group] = 'DH'\n",
    "    elif dose_impact == 'N':\n",
    "        \n",
    "        if group_df.label.nunique() > 1:\n",
    "            init_decision[group] = 'H(or S)'\n",
    "        else:\n",
    "            init_decision[group] = 'H'\n",
    "    else:\n",
    "        init_decision[group] = 'E'\n",
    "\n",
    "input_n_subjects_tom['group_decision'] = input_n_subjects_tom['group'].map(init_decision)\n",
    "\n",
    "# Change the order of rate_normaliser column\n",
    "input_n_subjects_tom.insert(1, 'rate_normaliser', input_n_subjects_tom.pop('rate_normaliser'))\n",
    "\n",
    "input_n_subjects_tom = input_n_subjects_tom.set_index(['group', 'dose_impact', 'group_decision', 'label', 'amountuom'])\n",
    "\"\"\""
   ]
  },
  {
   "cell_type": "code",
   "execution_count": null,
   "id": "51fd8397",
   "metadata": {},
   "outputs": [],
   "source": [
    "\"\"\"\n",
    "with pd.ExcelWriter('input_label_groups_notes.xlsx') as writer:\n",
    "    input_n_subjects_tom.to_excel(writer, sheet_name='Sheet1', merge_cells = True)\n",
    "\"\"\""
   ]
  },
  {
   "cell_type": "code",
   "execution_count": null,
   "id": "ea85d44b",
   "metadata": {},
   "outputs": [],
   "source": [
    "int_grouper_input_df = pd.read_excel('input_label_groups_decisions.xlsx').fillna(method='ffill')"
   ]
  },
  {
   "cell_type": "code",
   "execution_count": null,
   "id": "1c84885d",
   "metadata": {},
   "outputs": [],
   "source": [
    "int_grouper_input_df"
   ]
  },
  {
   "cell_type": "code",
   "execution_count": null,
   "id": "929bde55",
   "metadata": {},
   "outputs": [],
   "source": [
    "int_grouper_input_df.group_decision.unique()"
   ]
  },
  {
   "cell_type": "code",
   "execution_count": null,
   "id": "35e02f6b",
   "metadata": {},
   "outputs": [],
   "source": [
    "int_grouper_input_df.to_csv('mimic4_int_grouper_input.csv.gz', compression='gzip')"
   ]
  },
  {
   "cell_type": "markdown",
   "id": "2ce95dc3",
   "metadata": {},
   "source": [
    "#### Normalise rates of different units for the same input item"
   ]
  },
  {
   "cell_type": "code",
   "execution_count": null,
   "id": "c89c5f99",
   "metadata": {},
   "outputs": [],
   "source": [
    "rate_scaler = dict(zip(map(lambda c1, c2: f'{c1}-{c2}', int_grouper_input_df.label, int_grouper_input_df.amountuom),\n",
    "                       int_grouper_input_df.rate_normaliser))\n",
    "\n",
    "input_df['label-uom'] = list(map(lambda c1, c2: f'{c1}-{c2}', input_df.label, input_df.amountuom))\n",
    "input_df['normalised_amount_per_hour'] = input_df['amount_per_hour'] * input_df['label-uom'].map(rate_scaler)"
   ]
  },
  {
   "cell_type": "code",
   "execution_count": null,
   "id": "7a6a7055",
   "metadata": {},
   "outputs": [],
   "source": [
    "input_df = input_df[['hadm_id', 'start_time', 'end_time', 'label', 'normalised_amount_per_hour']]"
   ]
  },
  {
   "cell_type": "code",
   "execution_count": null,
   "id": "633c488c",
   "metadata": {},
   "outputs": [],
   "source": [
    "input_df.to_csv('int_input.csv.gz', compression='gzip')"
   ]
  },
  {
   "cell_type": "code",
   "execution_count": null,
   "id": "ab546964",
   "metadata": {},
   "outputs": [],
   "source": [
    "input_df"
   ]
  },
  {
   "cell_type": "markdown",
   "id": "64222b45",
   "metadata": {},
   "source": [
    "## Dx Codes Filteration"
   ]
  },
  {
   "cell_type": "code",
   "execution_count": null,
   "id": "0d4f5910",
   "metadata": {},
   "outputs": [],
   "source": [
    "def filter_discharge_codes(df, subject_id_selection=None):\n",
    "    n = OrderedDict()\n",
    "    n['n0'] = len(df)\n",
    "\n",
    "    cols = df.columns\n",
    "\n",
    "    # (1) Filter discharge codes if subject has a single admission.\n",
    "    n_adms = df.groupby('subject_id', as_index=False).agg(n_adms=('hadm_id', 'nunique'))\n",
    "    n_adms_subjects = set(n_adms[n_adms['n_adms'] > 1].subject_id)\n",
    "    df = df[df.subject_id.isin(n_adms_subjects)]\n",
    "\n",
    "    n['n adm. > 1 filter'] = len(df)\n",
    "\n",
    "    # (2) Filter discharge dx codes based on subject_id selection\n",
    "    if subject_id_selection is not None:\n",
    "        df = df[df.subject_id.isin(subject_id_selection)]\n",
    "\n",
    "    n['n subj. filter'] = len(df)\n",
    "\n",
    "    print('\\n'.join(f'{filt}: {num} ({100 * num / n[\"n0\"]:.1f})' for filt, num in n.items()))\n",
    "    print('\\n========\\n')\n",
    "    return df"
   ]
  },
  {
   "cell_type": "code",
   "execution_count": null,
   "id": "dca0531f",
   "metadata": {},
   "outputs": [],
   "source": [
    "dx_query = f\"\"\"\n",
    "SELECT\n",
    "    hadm_id, subject_id, icd_code, icd_version\n",
    "FROM mimiciv_hosp.diagnoses_icd \n",
    "\"\"\"\n",
    "dx_df = pd.read_sql_query(dx_query, con)"
   ]
  },
  {
   "cell_type": "code",
   "execution_count": null,
   "id": "008c13cb",
   "metadata": {},
   "outputs": [],
   "source": [
    "dx_df = filter_discharge_codes(dx_df, subject_id_selection=subject_id_with_renal_info)"
   ]
  },
  {
   "cell_type": "code",
   "execution_count": null,
   "id": "9589354a",
   "metadata": {},
   "outputs": [],
   "source": [
    "dx_df"
   ]
  },
  {
   "cell_type": "code",
   "execution_count": null,
   "id": "bcf64aec",
   "metadata": {},
   "outputs": [],
   "source": [
    "dx_df.to_csv('dx_df.csv.gz', compression='gzip')"
   ]
  },
  {
   "cell_type": "markdown",
   "id": "512de513",
   "metadata": {},
   "source": [
    "## Admissions & Static Tables "
   ]
  },
  {
   "cell_type": "code",
   "execution_count": null,
   "id": "c0f8f426",
   "metadata": {},
   "outputs": [],
   "source": [
    "def filter_admissions(df, subject_id_selection=None):\n",
    "    n = OrderedDict()\n",
    "    n['n0'] = len(df)\n",
    "\n",
    "    cols = df.columns\n",
    "\n",
    "    # (1) Filter discharge dx codes based on subject_id selection\n",
    "    if subject_id_selection is not None:\n",
    "        df = df[df.subject_id.isin(subject_id_selection)]\n",
    "\n",
    "    n['n subj. filter'] = len(df)\n",
    "\n",
    "    print('\\n'.join(f'{filt}: {num} ({100 * num / n[\"n0\"]:.1f})' for filt, num in n.items()))\n",
    "    print('\\n========\\n')\n",
    "    return df"
   ]
  },
  {
   "cell_type": "code",
   "execution_count": null,
   "id": "16eb24f0",
   "metadata": {},
   "outputs": [],
   "source": [
    "adm_query = f\"\"\"\n",
    "SELECT\n",
    "    hadm_id, subject_id, admittime, dischtime, race\n",
    "FROM mimiciv_hosp.admissions \n",
    "\"\"\"\n",
    "adm_df = pd.read_sql_query(adm_query, con)"
   ]
  },
  {
   "cell_type": "code",
   "execution_count": null,
   "id": "d5de8a6e",
   "metadata": {},
   "outputs": [],
   "source": [
    "static_query = f\"\"\"\n",
    "SELECT \n",
    "    p.subject_id, p.gender, a.race, p.anchor_age, p.anchor_year\n",
    "    from mimiciv_hosp.patients p\n",
    "    left join \n",
    "    (select subject_id, max(race) as race\n",
    "    from mimiciv_hosp.admissions\n",
    "    group by subject_id) as a\n",
    "    on p.subject_id = a.subject_id\n",
    "\"\"\"\n",
    "static_df = pd.read_sql_query(static_query, con)"
   ]
  },
  {
   "cell_type": "code",
   "execution_count": null,
   "id": "043c3e7a",
   "metadata": {},
   "outputs": [],
   "source": [
    "adm_df = filter_admissions(adm_df, subject_id_selection=subject_id_with_renal_info)\n",
    "static_df = filter_admissions(static_df, subject_id_selection=subject_id_with_renal_info)\n"
   ]
  },
  {
   "cell_type": "code",
   "execution_count": null,
   "id": "929cc89e",
   "metadata": {},
   "outputs": [],
   "source": [
    "adm_df.to_csv('adm_df.csv.gz', compression='gzip')\n",
    "static_df.to_csv('static_df.csv.gz', compression='gzip')"
   ]
  },
  {
   "cell_type": "code",
   "execution_count": null,
   "id": "e229e060",
   "metadata": {},
   "outputs": [],
   "source": [
    "\n",
    "# static_df.groupby('race', as_index=False).agg(n=('subject_id', 'count')).to_csv('race_groups.csv', compression='gzip')\n",
    "race_groups_df = pd.read_csv('race_grouper.csv', index_col=0)"
   ]
  },
  {
   "cell_type": "code",
   "execution_count": null,
   "id": "ca165b58",
   "metadata": {},
   "outputs": [],
   "source": [
    "race_groups_df.to_csv('mimic4_race_grouper.csv.gz', compression='gzip')"
   ]
  },
  {
   "cell_type": "code",
   "execution_count": null,
   "id": "694eb82f",
   "metadata": {},
   "outputs": [],
   "source": [
    "import seaborn as sns\n",
    "import sys\n",
    "\n",
    "sys.path.append(\"../../..\")\n",
    "\n",
    "from lib.ehr.coding_scheme import MIMIC4Observables\n",
    "\n",
    "C = MIMIC4Observables()\n",
    "\n",
    "z_min = -2.5\n",
    "z_max = -z_min\n",
    "q_min = 0.1\n",
    "q_max = 1 - q_min\n",
    "\n",
    "for code in sorted(m4inpatient_dataset.df['obs'].code.unique()):\n",
    "    df = m4inpatient_dataset.df['obs']\n",
    "    code_df = df[df.code == code]\n",
    "\n",
    "    q1 = code_df.value.quantile(q_min)\n",
    "    q2 = code_df.value.quantile(q_max)\n",
    "    qin_mask = code_df.value.between(q1, q2)\n",
    "\n",
    "    mu = code_df.value.mean()\n",
    "    std = code_df.value.std()\n",
    "    code_df['z'] = (code_df.value - mu) / std\n",
    "    x1 = mu + z_min * std\n",
    "    x2 = mu + z_max * std\n",
    "\n",
    "    zin_mask = code_df.z.between(z_min, z_max)\n",
    "\n",
    "    textstr = '\\n'.join((\n",
    "        f'n={len(code_df)}',\n",
    "        f'(min, max): ({code_df.value.min():0.2f}, {code_df.value.max():0.2f})',\n",
    "        f'p(qin): {qin_mask.mean():0.3f}',\n",
    "        f'p(zin): {zin_mask.mean():0.3f}',\n",
    "        f'p(zin or qin): {(qin_mask | zin_mask).mean(): 0.3f}'))\n",
    "    props = dict(boxstyle='round', facecolor='wheat', alpha=0.5)\n",
    "\n",
    "    g = sns.displot(code_df, x=\"value\", kde=True)\n",
    "\n",
    "    for ax in g.axes.flat:\n",
    "        args = zip([x1, x2, q1, q2],\n",
    "                   [\"solid\", \"solid\", \"dashed\", \"dashed\"],\n",
    "                   [\"red\", \"red\", \"red\", \"red\"])\n",
    "        ax.set_title(C.desc[code])\n",
    "        # place a text box in upper left in axes coords\n",
    "        ax.text(0.05, 0.95, textstr, transform=ax.transAxes, fontsize=10,\n",
    "                verticalalignment='top', bbox=props)\n",
    "        for x, style, color in args:\n",
    "            ax.axvline(x=x, ymin=0, ymax=1.0, linestyle=style, color=color)\n",
    "    g.savefig(f\"obs_outlier__{code}_{C.desc[code]}.pdf\", bbox_inches='tight')"
   ]
  },
  {
   "cell_type": "code",
   "execution_count": null,
   "id": "acf808f1",
   "metadata": {},
   "outputs": [],
   "source": [
    "icuproc_df_unique = icuproc_df[['label', 'itemid']].drop_duplicates()\n",
    "icuproc_df_unique = icuproc_df_unique[icuproc_df_unique['itemid'].astype(float).notnull()]\n",
    "icuproc_df_unique = icuproc_df_unique.astype({'itemid': float}).astype({'itemid': int}).astype({'itemid': str})\n",
    "#.astype({'itemid': float}).astype({'itemid': int}).astype({'itemid': str})\n",
    "icuproc_df_unique"
   ]
  },
  {
   "cell_type": "code",
   "outputs": [],
   "source": [
    "icu_proc_selection = pd.read_csv('/home/asem/Downloads/mimic4_int_grouper_proc.csv.gz')\n",
    "icuproc_df_unique = pd.merge(icuproc_df_unique, icu_proc_selection[['label', 'group']],\n",
    "                             left_on='label', right_on='label', how='inner')\n",
    "icuproc_df_unique = icuproc_df_unique[icuproc_df_unique['group'] != 'exclude']\n",
    "icuproc_df_unique"
   ],
   "metadata": {
    "collapsed": false
   },
   "id": "a44cb4f51c452157",
   "execution_count": null
  },
  {
   "cell_type": "code",
   "outputs": [],
   "source": [
    "icuproc_df_unique.to_csv(\n",
    "    '/home/asem/GP/ICENODE/lib/ehr/resources/mimic4_aki_study/icu_procedures_itemid_selection.csv.gz',\n",
    "    compression='gzip', index=False)"
   ],
   "metadata": {
    "collapsed": false
   },
   "id": "a0ab3b92480cfa1e",
   "execution_count": null
  },
  {
   "cell_type": "code",
   "outputs": [],
   "source": [
    "unique_dx_codes.to_csv('/home/asem/GP/ICENODE/lib/ehr/resources/mimic4_aki_study/dx_icd_version_selection.csv',\n",
    "                       index=False)"
   ],
   "metadata": {
    "collapsed": false
   },
   "id": "365d8f9036c4caba",
   "execution_count": null
  },
  {
   "cell_type": "code",
   "outputs": [],
   "source": [
    "q = \"\"\"\n",
    "select icd_code, icd_version, long_title as description from mimiciv_hosp.d_icd_procedures \n",
    "\"\"\"\n",
    "hosp_proc_df = pd.read_sql_query(q, con, dtype=str)\n",
    "hosp_proc_df = hosp_proc_df[hosp_proc_df.description.isin(hosp_proc_selection_labels)]\n",
    "hosp_proc_df.to_csv('/home/asem/GP/ICENODE/lib/ehr/resources/mimic4_aki_study/hosp_procedures_icd_selection.csv',\n",
    "                    index=False)"
   ],
   "metadata": {
    "collapsed": false
   },
   "id": "51304e94e9789815",
   "execution_count": null
  },
  {
   "cell_type": "code",
   "outputs": [],
   "source": [
    "icu_input_labels_df = pd.DataFrame({'label': int_input_grouper.label.unique()})\n",
    "icu_input_df = input_df[['itemid', 'label']].reset_index(drop=True).drop_duplicates()"
   ],
   "metadata": {
    "collapsed": false
   },
   "id": "3d6639236047ffe4",
   "execution_count": null
  },
  {
   "cell_type": "code",
   "outputs": [],
   "source": [
    "icu_input_labels_df"
   ],
   "metadata": {
    "collapsed": false
   },
   "id": "db7cf97721692ea6",
   "execution_count": null
  },
  {
   "cell_type": "code",
   "outputs": [],
   "source": [
    "icu_input_df"
   ],
   "metadata": {
    "collapsed": false
   },
   "id": "64e3d162c5cc8372",
   "execution_count": null
  },
  {
   "cell_type": "code",
   "outputs": [],
   "source": [
    "icu_input_labels_df = pd.merge(icu_input_labels_df, icu_input_df,\n",
    "                               left_on='label', right_on='label', how='inner')"
   ],
   "metadata": {
    "collapsed": false
   },
   "id": "d8b23559747851fa",
   "execution_count": null
  },
  {
   "cell_type": "code",
   "outputs": [],
   "source": [
    "icu_input_labels_df = icu_input_labels_df.astype({'itemid': 'int64'}).astype({'itemid': str})"
   ],
   "metadata": {
    "collapsed": false
   },
   "id": "93ce26268d5b41bd",
   "execution_count": null
  },
  {
   "cell_type": "code",
   "outputs": [],
   "source": [
    "icu_input_labels_df"
   ],
   "metadata": {
    "collapsed": false
   },
   "id": "1f51322edf5518f6",
   "execution_count": null
  },
  {
   "cell_type": "code",
   "outputs": [],
   "source": [
    "icu_input_labels_df.to_csv('mimic4_aki_icu_inputs_itemid_selection.csv.gz', compression='gzip')"
   ],
   "metadata": {
    "collapsed": false
   },
   "id": "507b327a846c817c",
   "execution_count": null
  },
  {
   "cell_type": "code",
   "outputs": [],
   "source": [
    "icu_input_labels_df.itemid.nunique()"
   ],
   "metadata": {
    "collapsed": false
   },
   "id": "a14db44e247307ea",
   "execution_count": null
  },
  {
   "cell_type": "code",
   "outputs": [],
   "source": [],
   "metadata": {
    "collapsed": false
   },
   "id": "af112ddcfd46cd9b"
  }
 ],
 "metadata": {
  "kernelspec": {
   "display_name": "Python 3 (ipykernel)",
   "language": "python",
   "name": "python3"
  },
  "language_info": {
   "codemirror_mode": {
    "name": "ipython",
    "version": 3
   },
   "file_extension": ".py",
   "mimetype": "text/x-python",
   "name": "python",
   "nbconvert_exporter": "python",
   "pygments_lexer": "ipython3",
   "version": "3.9.17"
  }
 },
 "nbformat": 4,
 "nbformat_minor": 5
}
