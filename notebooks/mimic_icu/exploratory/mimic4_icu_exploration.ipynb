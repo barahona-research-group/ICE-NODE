{
 "cells": [
  {
   "cell_type": "code",
   "execution_count": 1,
   "id": "5a0973b9",
   "metadata": {
    "ExecuteTime": {
     "end_time": "2024-03-01T22:26:08.601362484Z",
     "start_time": "2024-03-01T22:26:07.370486184Z"
    }
   },
   "outputs": [],
   "source": [
    "%load_ext autoreload\n",
    "%autoreload 2\n",
    "\n",
    "import sys\n",
    "from collections import OrderedDict\n",
    "\n",
    "import matplotlib.pyplot as plt\n",
    "import numpy as np\n",
    "import pandas as pd\n",
    "\n",
    "sys.path.append(\"../../..\")\n",
    "\n",
    "import lib.ehr.example_datasets.mimiciv as m4\n",
    "import lib.ehr.example_datasets.mimiciv_aki as m4aki"
   ]
  },
  {
   "cell_type": "code",
   "execution_count": 2,
   "id": "c5a9fd4b",
   "metadata": {
    "ExecuteTime": {
     "end_time": "2024-03-01T22:26:09.491327001Z",
     "start_time": "2024-03-01T22:26:09.200572165Z"
    }
   },
   "outputs": [],
   "source": [
    "# create a database connection\n",
    "sqluser = 'postgres'\n",
    "dbname = 'mimiciv'\n",
    "hostname = 'localhost'\n",
    "password = 'qwerasdf'\n",
    "port = '5432'\n",
    "\n",
    "mimiciv_config = m4.MIMICIVSQLTablesConfig(host=hostname, port=port, user=sqluser, password=password, dbname=dbname)\n",
    "mimiciv_interface = m4.MIMICIVSQLTablesInterface(mimiciv_config)\n",
    "mimiciv_engine = mimiciv_interface.create_engine()\n"
   ]
  },
  {
   "cell_type": "code",
   "outputs": [],
   "source": [
    "mimiciv_scheme_conf = m4aki.AKIMIMICIVDatasetConfig(tables=mimiciv_config)\n",
    "ds_scheme = m4aki.AKIMIMICIVDataset.load_dataset_scheme(mimiciv_scheme_conf)\n"
   ],
   "metadata": {
    "collapsed": false,
    "ExecuteTime": {
     "end_time": "2024-03-01T22:26:16.111133008Z",
     "start_time": "2024-03-01T22:26:09.909520890Z"
    }
   },
   "id": "e39f9d7b959aadbd",
   "execution_count": 3
  },
  {
   "cell_type": "code",
   "execution_count": 4,
   "id": "c4f810ad77978aa4",
   "metadata": {
    "ExecuteTime": {
     "end_time": "2024-03-01T22:30:16.515904565Z",
     "start_time": "2024-03-01T22:26:16.111899555Z"
    }
   },
   "outputs": [
    {
     "data": {
      "text/plain": "  0%|          | 0/16 [00:00<?, ?it/s]",
      "application/vnd.jupyter.widget-view+json": {
       "version_major": 2,
       "version_minor": 0,
       "model_id": "83e346813bec482c9805db552b23f4a2"
      }
     },
     "metadata": {},
     "output_type": "display_data"
    }
   ],
   "source": [
    "obs_stat = mimiciv_interface.obs_stats(ds_scheme.obs)"
   ]
  },
  {
   "cell_type": "code",
   "outputs": [],
   "source": [
    "obs_stat.to_csv(\"obs_stat.csv\")"
   ],
   "metadata": {
    "collapsed": false,
    "ExecuteTime": {
     "end_time": "2024-03-01T22:30:16.532912913Z",
     "start_time": "2024-03-01T22:30:16.516505888Z"
    }
   },
   "id": "7453993a812bb12d",
   "execution_count": 5
  },
  {
   "cell_type": "code",
   "outputs": [
    {
     "data": {
      "text/plain": "                                 count        mean          std    min    25%  \\\ncode                                                                            \nblood_chemistry.albumin       275007.0    3.242115     0.674540   0.20    2.8   \nblood_chemistry.aniongap     1854141.0   13.855734     3.529142 -23.00   12.0   \nblood_chemistry.bicarbonate  1858665.0   25.429376     4.482469   2.00   23.0   \nblood_chemistry.bun          1877174.0   25.870393    21.566396   1.00   12.0   \nblood_chemistry.calcium      1598455.0    8.619326     0.762194   0.10    8.2   \n...                                ...         ...          ...    ...    ...   \nvital.sbp                    6355873.0  119.553758    22.682498   0.10  103.0   \nvital.sbp_ni                 4066974.0  119.702332    22.228976   0.10  104.0   \nvital.spo2                   6323768.0   96.758290     3.348053   0.01   95.0   \nvital.temperature            1776877.0   36.958601     0.704987  15.00   36.6   \nweight.weight                 544894.0   91.525099  2113.245445   0.50   70.4   \n\n                                50%     75%         max  nunique  \\\ncode                                                               \nblood_chemistry.albumin        3.30    3.70        9.10     69.0   \nblood_chemistry.aniongap      13.00   16.00       91.00     78.0   \nblood_chemistry.bicarbonate   25.00   28.00      132.00    104.0   \nblood_chemistry.bun           19.00   32.00      291.00    266.0   \nblood_chemistry.calcium        8.60    9.10      132.00    226.0   \n...                             ...     ...         ...      ...   \nvital.sbp                    117.00  134.00      365.00    751.0   \nvital.sbp_ni                 117.00  134.00      365.00    267.0   \nvital.spo2                    97.00   99.00      100.00    110.0   \nvital.temperature             36.89   37.28       43.11    724.0   \nweight.weight                 84.10  100.30  1103030.00   1991.0   \n\n                             time_delta_count  time_delta_mean  \\\ncode                                                             \nblood_chemistry.albumin              163589.0        48.362105   \nblood_chemistry.aniongap            1536374.0        20.209320   \nblood_chemistry.bicarbonate         1540865.0        20.161290   \nblood_chemistry.bun                 1555063.0        20.115863   \nblood_chemistry.calcium             1309939.0        21.234358   \n...                                       ...              ...   \nvital.sbp                           6289672.0         1.037447   \nvital.sbp_ni                        4001414.0         1.498608   \nvital.spo2                          6257589.0         1.044932   \nvital.temperature                   1711031.0         3.688190   \nweight.weight                        478720.0        14.274546   \n\n                             time_delta_std  time_delta_min  time_delta_25%  \\\ncode                                                                          \nblood_chemistry.albumin           68.999988        0.000000       23.316667   \nblood_chemistry.aniongap          15.490632        0.000000       11.783333   \nblood_chemistry.bicarbonate       15.469014        0.000000       11.750000   \nblood_chemistry.bun               15.336250        0.000000       11.783333   \nblood_chemistry.calcium           17.824985        0.000000       12.166667   \n...                                     ...             ...             ...   \nvital.sbp                          6.952282        0.016667        0.983333   \nvital.sbp_ni                      10.524615        0.016667        1.000000   \nvital.spo2                         7.809326        0.016667        1.000000   \nvital.temperature                 15.206970        0.016667        2.000000   \nweight.weight                     35.347755        0.000000        0.000000   \n\n                             time_delta_50%  time_delta_75%  time_delta_max  \ncode                                                                         \nblood_chemistry.albumin           24.166667       48.000000     3576.750000  \nblood_chemistry.aniongap          23.000000       24.283333     2735.566667  \nblood_chemistry.bicarbonate       22.983333       24.266667     2735.566667  \nblood_chemistry.bun               22.916667       24.250000     2735.566667  \nblood_chemistry.calcium           23.183333       24.333333     1838.583333  \n...                                     ...             ...             ...  \nvital.sbp                          1.000000        1.000000     8760.066667  \nvital.sbp_ni                       1.000000        1.000000     8760.066667  \nvital.spo2                         1.000000        1.000000     8760.066667  \nvital.temperature                  4.000000        4.000000     8767.500000  \nweight.weight                      1.000000       20.070903     3346.650278  \n\n[105 rows x 17 columns]",
      "text/html": "<div>\n<style scoped>\n    .dataframe tbody tr th:only-of-type {\n        vertical-align: middle;\n    }\n\n    .dataframe tbody tr th {\n        vertical-align: top;\n    }\n\n    .dataframe thead th {\n        text-align: right;\n    }\n</style>\n<table border=\"1\" class=\"dataframe\">\n  <thead>\n    <tr style=\"text-align: right;\">\n      <th></th>\n      <th>count</th>\n      <th>mean</th>\n      <th>std</th>\n      <th>min</th>\n      <th>25%</th>\n      <th>50%</th>\n      <th>75%</th>\n      <th>max</th>\n      <th>nunique</th>\n      <th>time_delta_count</th>\n      <th>time_delta_mean</th>\n      <th>time_delta_std</th>\n      <th>time_delta_min</th>\n      <th>time_delta_25%</th>\n      <th>time_delta_50%</th>\n      <th>time_delta_75%</th>\n      <th>time_delta_max</th>\n    </tr>\n    <tr>\n      <th>code</th>\n      <th></th>\n      <th></th>\n      <th></th>\n      <th></th>\n      <th></th>\n      <th></th>\n      <th></th>\n      <th></th>\n      <th></th>\n      <th></th>\n      <th></th>\n      <th></th>\n      <th></th>\n      <th></th>\n      <th></th>\n      <th></th>\n      <th></th>\n    </tr>\n  </thead>\n  <tbody>\n    <tr>\n      <th>blood_chemistry.albumin</th>\n      <td>275007.0</td>\n      <td>3.242115</td>\n      <td>0.674540</td>\n      <td>0.20</td>\n      <td>2.8</td>\n      <td>3.30</td>\n      <td>3.70</td>\n      <td>9.10</td>\n      <td>69.0</td>\n      <td>163589.0</td>\n      <td>48.362105</td>\n      <td>68.999988</td>\n      <td>0.000000</td>\n      <td>23.316667</td>\n      <td>24.166667</td>\n      <td>48.000000</td>\n      <td>3576.750000</td>\n    </tr>\n    <tr>\n      <th>blood_chemistry.aniongap</th>\n      <td>1854141.0</td>\n      <td>13.855734</td>\n      <td>3.529142</td>\n      <td>-23.00</td>\n      <td>12.0</td>\n      <td>13.00</td>\n      <td>16.00</td>\n      <td>91.00</td>\n      <td>78.0</td>\n      <td>1536374.0</td>\n      <td>20.209320</td>\n      <td>15.490632</td>\n      <td>0.000000</td>\n      <td>11.783333</td>\n      <td>23.000000</td>\n      <td>24.283333</td>\n      <td>2735.566667</td>\n    </tr>\n    <tr>\n      <th>blood_chemistry.bicarbonate</th>\n      <td>1858665.0</td>\n      <td>25.429376</td>\n      <td>4.482469</td>\n      <td>2.00</td>\n      <td>23.0</td>\n      <td>25.00</td>\n      <td>28.00</td>\n      <td>132.00</td>\n      <td>104.0</td>\n      <td>1540865.0</td>\n      <td>20.161290</td>\n      <td>15.469014</td>\n      <td>0.000000</td>\n      <td>11.750000</td>\n      <td>22.983333</td>\n      <td>24.266667</td>\n      <td>2735.566667</td>\n    </tr>\n    <tr>\n      <th>blood_chemistry.bun</th>\n      <td>1877174.0</td>\n      <td>25.870393</td>\n      <td>21.566396</td>\n      <td>1.00</td>\n      <td>12.0</td>\n      <td>19.00</td>\n      <td>32.00</td>\n      <td>291.00</td>\n      <td>266.0</td>\n      <td>1555063.0</td>\n      <td>20.115863</td>\n      <td>15.336250</td>\n      <td>0.000000</td>\n      <td>11.783333</td>\n      <td>22.916667</td>\n      <td>24.250000</td>\n      <td>2735.566667</td>\n    </tr>\n    <tr>\n      <th>blood_chemistry.calcium</th>\n      <td>1598455.0</td>\n      <td>8.619326</td>\n      <td>0.762194</td>\n      <td>0.10</td>\n      <td>8.2</td>\n      <td>8.60</td>\n      <td>9.10</td>\n      <td>132.00</td>\n      <td>226.0</td>\n      <td>1309939.0</td>\n      <td>21.234358</td>\n      <td>17.824985</td>\n      <td>0.000000</td>\n      <td>12.166667</td>\n      <td>23.183333</td>\n      <td>24.333333</td>\n      <td>1838.583333</td>\n    </tr>\n    <tr>\n      <th>...</th>\n      <td>...</td>\n      <td>...</td>\n      <td>...</td>\n      <td>...</td>\n      <td>...</td>\n      <td>...</td>\n      <td>...</td>\n      <td>...</td>\n      <td>...</td>\n      <td>...</td>\n      <td>...</td>\n      <td>...</td>\n      <td>...</td>\n      <td>...</td>\n      <td>...</td>\n      <td>...</td>\n      <td>...</td>\n    </tr>\n    <tr>\n      <th>vital.sbp</th>\n      <td>6355873.0</td>\n      <td>119.553758</td>\n      <td>22.682498</td>\n      <td>0.10</td>\n      <td>103.0</td>\n      <td>117.00</td>\n      <td>134.00</td>\n      <td>365.00</td>\n      <td>751.0</td>\n      <td>6289672.0</td>\n      <td>1.037447</td>\n      <td>6.952282</td>\n      <td>0.016667</td>\n      <td>0.983333</td>\n      <td>1.000000</td>\n      <td>1.000000</td>\n      <td>8760.066667</td>\n    </tr>\n    <tr>\n      <th>vital.sbp_ni</th>\n      <td>4066974.0</td>\n      <td>119.702332</td>\n      <td>22.228976</td>\n      <td>0.10</td>\n      <td>104.0</td>\n      <td>117.00</td>\n      <td>134.00</td>\n      <td>365.00</td>\n      <td>267.0</td>\n      <td>4001414.0</td>\n      <td>1.498608</td>\n      <td>10.524615</td>\n      <td>0.016667</td>\n      <td>1.000000</td>\n      <td>1.000000</td>\n      <td>1.000000</td>\n      <td>8760.066667</td>\n    </tr>\n    <tr>\n      <th>vital.spo2</th>\n      <td>6323768.0</td>\n      <td>96.758290</td>\n      <td>3.348053</td>\n      <td>0.01</td>\n      <td>95.0</td>\n      <td>97.00</td>\n      <td>99.00</td>\n      <td>100.00</td>\n      <td>110.0</td>\n      <td>6257589.0</td>\n      <td>1.044932</td>\n      <td>7.809326</td>\n      <td>0.016667</td>\n      <td>1.000000</td>\n      <td>1.000000</td>\n      <td>1.000000</td>\n      <td>8760.066667</td>\n    </tr>\n    <tr>\n      <th>vital.temperature</th>\n      <td>1776877.0</td>\n      <td>36.958601</td>\n      <td>0.704987</td>\n      <td>15.00</td>\n      <td>36.6</td>\n      <td>36.89</td>\n      <td>37.28</td>\n      <td>43.11</td>\n      <td>724.0</td>\n      <td>1711031.0</td>\n      <td>3.688190</td>\n      <td>15.206970</td>\n      <td>0.016667</td>\n      <td>2.000000</td>\n      <td>4.000000</td>\n      <td>4.000000</td>\n      <td>8767.500000</td>\n    </tr>\n    <tr>\n      <th>weight.weight</th>\n      <td>544894.0</td>\n      <td>91.525099</td>\n      <td>2113.245445</td>\n      <td>0.50</td>\n      <td>70.4</td>\n      <td>84.10</td>\n      <td>100.30</td>\n      <td>1103030.00</td>\n      <td>1991.0</td>\n      <td>478720.0</td>\n      <td>14.274546</td>\n      <td>35.347755</td>\n      <td>0.000000</td>\n      <td>0.000000</td>\n      <td>1.000000</td>\n      <td>20.070903</td>\n      <td>3346.650278</td>\n    </tr>\n  </tbody>\n</table>\n<p>105 rows × 17 columns</p>\n</div>"
     },
     "execution_count": 6,
     "metadata": {},
     "output_type": "execute_result"
    }
   ],
   "source": [
    "obs_stat"
   ],
   "metadata": {
    "collapsed": false,
    "ExecuteTime": {
     "end_time": "2024-03-01T22:30:16.586453426Z",
     "start_time": "2024-03-01T22:30:16.534179163Z"
    }
   },
   "id": "12372ee54c3f5ad0",
   "execution_count": 6
  },
  {
   "cell_type": "code",
   "execution_count": 5,
   "id": "ddd5ef764993ebfc",
   "metadata": {
    "ExecuteTime": {
     "end_time": "2024-01-29T13:58:45.021843082Z",
     "start_time": "2024-01-29T13:58:44.426959964Z"
    }
   },
   "outputs": [
    {
     "data": {
      "text/plain": "       icd_code  icd_version  \\\n0       0010               9   \n1       0011               9   \n2       0019               9   \n3       0020               9   \n4       0021               9   \n...         ...          ...   \n109770  Z992              10   \n109771  Z993              10   \n109772  Z998              10   \n109773  Z9981             10   \n109774  Z9989             10   \n\n                                              description  \n0                          Cholera due to vibrio cholerae  \n1                   Cholera due to vibrio cholerae el tor  \n2                                    Cholera, unspecified  \n3                                           Typhoid fever  \n4                                     Paratyphoid fever A  \n...                                                   ...  \n109770                       Dependence on renal dialysis  \n109771                           Dependence on wheelchair  \n109772  Dependence on other enabling machines and devices  \n109773                  Dependence on supplemental oxygen  \n109774  Dependence on other enabling machines and devices  \n\n[109775 rows x 3 columns]",
      "text/html": "<div>\n<style scoped>\n    .dataframe tbody tr th:only-of-type {\n        vertical-align: middle;\n    }\n\n    .dataframe tbody tr th {\n        vertical-align: top;\n    }\n\n    .dataframe thead th {\n        text-align: right;\n    }\n</style>\n<table border=\"1\" class=\"dataframe\">\n  <thead>\n    <tr style=\"text-align: right;\">\n      <th></th>\n      <th>icd_code</th>\n      <th>icd_version</th>\n      <th>description</th>\n    </tr>\n  </thead>\n  <tbody>\n    <tr>\n      <th>0</th>\n      <td>0010</td>\n      <td>9</td>\n      <td>Cholera due to vibrio cholerae</td>\n    </tr>\n    <tr>\n      <th>1</th>\n      <td>0011</td>\n      <td>9</td>\n      <td>Cholera due to vibrio cholerae el tor</td>\n    </tr>\n    <tr>\n      <th>2</th>\n      <td>0019</td>\n      <td>9</td>\n      <td>Cholera, unspecified</td>\n    </tr>\n    <tr>\n      <th>3</th>\n      <td>0020</td>\n      <td>9</td>\n      <td>Typhoid fever</td>\n    </tr>\n    <tr>\n      <th>4</th>\n      <td>0021</td>\n      <td>9</td>\n      <td>Paratyphoid fever A</td>\n    </tr>\n    <tr>\n      <th>...</th>\n      <td>...</td>\n      <td>...</td>\n      <td>...</td>\n    </tr>\n    <tr>\n      <th>109770</th>\n      <td>Z992</td>\n      <td>10</td>\n      <td>Dependence on renal dialysis</td>\n    </tr>\n    <tr>\n      <th>109771</th>\n      <td>Z993</td>\n      <td>10</td>\n      <td>Dependence on wheelchair</td>\n    </tr>\n    <tr>\n      <th>109772</th>\n      <td>Z998</td>\n      <td>10</td>\n      <td>Dependence on other enabling machines and devices</td>\n    </tr>\n    <tr>\n      <th>109773</th>\n      <td>Z9981</td>\n      <td>10</td>\n      <td>Dependence on supplemental oxygen</td>\n    </tr>\n    <tr>\n      <th>109774</th>\n      <td>Z9989</td>\n      <td>10</td>\n      <td>Dependence on other enabling machines and devices</td>\n    </tr>\n  </tbody>\n</table>\n<p>109775 rows × 3 columns</p>\n</div>"
     },
     "execution_count": 5,
     "metadata": {},
     "output_type": "execute_result"
    }
   ],
   "source": [
    "mimiciv_interface.supported_dx_discharge\n"
   ]
  },
  {
   "cell_type": "code",
   "execution_count": 6,
   "id": "f4f2d32262e56616",
   "metadata": {
    "ExecuteTime": {
     "end_time": "2024-01-29T13:58:46.716775511Z",
     "start_time": "2024-01-29T13:58:45.021270332Z"
    }
   },
   "outputs": [
    {
     "data": {
      "text/plain": "     itemid                       description\n0    220862                       Albumin 25%\n1    220864                        Albumin 5%\n2    220949                       Dextrose 5%\n3    220950                      Dextrose 10%\n4    220952                      Dextrose 50%\n..      ...                               ...\n319  229709         Angiotensin II (Giapreza)\n320  229760            Epoprostenol (Veletri)\n321  229764         Angiotensin II (Giapreza)\n322  229781  Bivalirudin (Angiomax) (Impella)\n323  229861                   Sodium Acetate.\n\n[324 rows x 2 columns]",
      "text/html": "<div>\n<style scoped>\n    .dataframe tbody tr th:only-of-type {\n        vertical-align: middle;\n    }\n\n    .dataframe tbody tr th {\n        vertical-align: top;\n    }\n\n    .dataframe thead th {\n        text-align: right;\n    }\n</style>\n<table border=\"1\" class=\"dataframe\">\n  <thead>\n    <tr style=\"text-align: right;\">\n      <th></th>\n      <th>itemid</th>\n      <th>description</th>\n    </tr>\n  </thead>\n  <tbody>\n    <tr>\n      <th>0</th>\n      <td>220862</td>\n      <td>Albumin 25%</td>\n    </tr>\n    <tr>\n      <th>1</th>\n      <td>220864</td>\n      <td>Albumin 5%</td>\n    </tr>\n    <tr>\n      <th>2</th>\n      <td>220949</td>\n      <td>Dextrose 5%</td>\n    </tr>\n    <tr>\n      <th>3</th>\n      <td>220950</td>\n      <td>Dextrose 10%</td>\n    </tr>\n    <tr>\n      <th>4</th>\n      <td>220952</td>\n      <td>Dextrose 50%</td>\n    </tr>\n    <tr>\n      <th>...</th>\n      <td>...</td>\n      <td>...</td>\n    </tr>\n    <tr>\n      <th>319</th>\n      <td>229709</td>\n      <td>Angiotensin II (Giapreza)</td>\n    </tr>\n    <tr>\n      <th>320</th>\n      <td>229760</td>\n      <td>Epoprostenol (Veletri)</td>\n    </tr>\n    <tr>\n      <th>321</th>\n      <td>229764</td>\n      <td>Angiotensin II (Giapreza)</td>\n    </tr>\n    <tr>\n      <th>322</th>\n      <td>229781</td>\n      <td>Bivalirudin (Angiomax) (Impella)</td>\n    </tr>\n    <tr>\n      <th>323</th>\n      <td>229861</td>\n      <td>Sodium Acetate.</td>\n    </tr>\n  </tbody>\n</table>\n<p>324 rows × 2 columns</p>\n</div>"
     },
     "execution_count": 6,
     "metadata": {},
     "output_type": "execute_result"
    }
   ],
   "source": [
    "mimiciv_interface.supported_icu_inputs"
   ]
  },
  {
   "cell_type": "code",
   "execution_count": 7,
   "id": "af8e4478c32c83b1",
   "metadata": {
    "ExecuteTime": {
     "end_time": "2024-01-29T13:58:47.067048971Z",
     "start_time": "2024-01-29T13:58:46.716873485Z"
    }
   },
   "outputs": [
    {
     "data": {
      "text/plain": "     itemid                             description\n0    229522  SEPS (Subdural Evacuating Port System)\n1    229581                    Portable Chest X-Ray\n2    229524                            Lumbar Drain\n3    228715                    Transcranial Doppler\n4    221214                                 CT scan\n..      ...                                     ...\n152  229575                     Travel to Radiology\n153  225447            Percutaneous Drain Insertion\n154  224272                               IABP line\n155  225459                             Chest X-Ray\n156  229577                     Cath Lab (Received)\n\n[157 rows x 2 columns]",
      "text/html": "<div>\n<style scoped>\n    .dataframe tbody tr th:only-of-type {\n        vertical-align: middle;\n    }\n\n    .dataframe tbody tr th {\n        vertical-align: top;\n    }\n\n    .dataframe thead th {\n        text-align: right;\n    }\n</style>\n<table border=\"1\" class=\"dataframe\">\n  <thead>\n    <tr style=\"text-align: right;\">\n      <th></th>\n      <th>itemid</th>\n      <th>description</th>\n    </tr>\n  </thead>\n  <tbody>\n    <tr>\n      <th>0</th>\n      <td>229522</td>\n      <td>SEPS (Subdural Evacuating Port System)</td>\n    </tr>\n    <tr>\n      <th>1</th>\n      <td>229581</td>\n      <td>Portable Chest X-Ray</td>\n    </tr>\n    <tr>\n      <th>2</th>\n      <td>229524</td>\n      <td>Lumbar Drain</td>\n    </tr>\n    <tr>\n      <th>3</th>\n      <td>228715</td>\n      <td>Transcranial Doppler</td>\n    </tr>\n    <tr>\n      <th>4</th>\n      <td>221214</td>\n      <td>CT scan</td>\n    </tr>\n    <tr>\n      <th>...</th>\n      <td>...</td>\n      <td>...</td>\n    </tr>\n    <tr>\n      <th>152</th>\n      <td>229575</td>\n      <td>Travel to Radiology</td>\n    </tr>\n    <tr>\n      <th>153</th>\n      <td>225447</td>\n      <td>Percutaneous Drain Insertion</td>\n    </tr>\n    <tr>\n      <th>154</th>\n      <td>224272</td>\n      <td>IABP line</td>\n    </tr>\n    <tr>\n      <th>155</th>\n      <td>225459</td>\n      <td>Chest X-Ray</td>\n    </tr>\n    <tr>\n      <th>156</th>\n      <td>229577</td>\n      <td>Cath Lab (Received)</td>\n    </tr>\n  </tbody>\n</table>\n<p>157 rows × 2 columns</p>\n</div>"
     },
     "execution_count": 7,
     "metadata": {},
     "output_type": "execute_result"
    }
   ],
   "source": [
    "mimiciv_interface.supported_icu_procedures"
   ]
  },
  {
   "cell_type": "code",
   "execution_count": 8,
   "id": "d4fde8fecca14b",
   "metadata": {
    "ExecuteTime": {
     "end_time": "2024-01-29T13:58:47.379756192Z",
     "start_time": "2024-01-29T13:58:47.067849694Z"
    }
   },
   "outputs": [
    {
     "data": {
      "text/plain": "      icd_code  icd_version                                        description\n0      0001               9  Therapeutic ultrasound of vessels of head and ...\n1      0002               9                    Therapeutic ultrasound of heart\n2      0003               9  Therapeutic ultrasound of peripheral vascular ...\n3      0009               9                       Other therapeutic ultrasound\n4      001               10  Central Nervous System and Cranial Nerves, Bypass\n...        ...          ...                                                ...\n85252  XW0DXV5           10  Introduction of Gilteritinib Antineoplastic in...\n85253  XXE               10  New Technology, Physiological Systems, Measure...\n85254  XXE5XM5           10  Measurement of Infection, Whole Blood Nucleic ...\n85255  XY0               10       New Technology, Extracorporeal, Introduction\n85256  XY0VX83           10  Extracorporeal Introduction of Endothelial Dam...\n\n[85257 rows x 3 columns]",
      "text/html": "<div>\n<style scoped>\n    .dataframe tbody tr th:only-of-type {\n        vertical-align: middle;\n    }\n\n    .dataframe tbody tr th {\n        vertical-align: top;\n    }\n\n    .dataframe thead th {\n        text-align: right;\n    }\n</style>\n<table border=\"1\" class=\"dataframe\">\n  <thead>\n    <tr style=\"text-align: right;\">\n      <th></th>\n      <th>icd_code</th>\n      <th>icd_version</th>\n      <th>description</th>\n    </tr>\n  </thead>\n  <tbody>\n    <tr>\n      <th>0</th>\n      <td>0001</td>\n      <td>9</td>\n      <td>Therapeutic ultrasound of vessels of head and ...</td>\n    </tr>\n    <tr>\n      <th>1</th>\n      <td>0002</td>\n      <td>9</td>\n      <td>Therapeutic ultrasound of heart</td>\n    </tr>\n    <tr>\n      <th>2</th>\n      <td>0003</td>\n      <td>9</td>\n      <td>Therapeutic ultrasound of peripheral vascular ...</td>\n    </tr>\n    <tr>\n      <th>3</th>\n      <td>0009</td>\n      <td>9</td>\n      <td>Other therapeutic ultrasound</td>\n    </tr>\n    <tr>\n      <th>4</th>\n      <td>001</td>\n      <td>10</td>\n      <td>Central Nervous System and Cranial Nerves, Bypass</td>\n    </tr>\n    <tr>\n      <th>...</th>\n      <td>...</td>\n      <td>...</td>\n      <td>...</td>\n    </tr>\n    <tr>\n      <th>85252</th>\n      <td>XW0DXV5</td>\n      <td>10</td>\n      <td>Introduction of Gilteritinib Antineoplastic in...</td>\n    </tr>\n    <tr>\n      <th>85253</th>\n      <td>XXE</td>\n      <td>10</td>\n      <td>New Technology, Physiological Systems, Measure...</td>\n    </tr>\n    <tr>\n      <th>85254</th>\n      <td>XXE5XM5</td>\n      <td>10</td>\n      <td>Measurement of Infection, Whole Blood Nucleic ...</td>\n    </tr>\n    <tr>\n      <th>85255</th>\n      <td>XY0</td>\n      <td>10</td>\n      <td>New Technology, Extracorporeal, Introduction</td>\n    </tr>\n    <tr>\n      <th>85256</th>\n      <td>XY0VX83</td>\n      <td>10</td>\n      <td>Extracorporeal Introduction of Endothelial Dam...</td>\n    </tr>\n  </tbody>\n</table>\n<p>85257 rows × 3 columns</p>\n</div>"
     },
     "execution_count": 8,
     "metadata": {},
     "output_type": "execute_result"
    }
   ],
   "source": [
    "mimiciv_interface.supported_hosp_procedures"
   ]
  },
  {
   "cell_type": "code",
   "execution_count": 9,
   "id": "e2df909c9a69d76c",
   "metadata": {
    "ExecuteTime": {
     "end_time": "2024-01-29T13:58:47.395749260Z",
     "start_time": "2024-01-29T13:58:47.379738489Z"
    }
   },
   "outputs": [],
   "source": [
    "obs_scheme = mimiciv_interface.register_obs_scheme('aki_study_obs', None)"
   ]
  },
  {
   "cell_type": "code",
   "execution_count": 10,
   "id": "9820d79a0a9f9882",
   "metadata": {
    "ExecuteTime": {
     "end_time": "2024-01-29T13:58:48.298528847Z",
     "start_time": "2024-01-29T13:58:47.395827586Z"
    }
   },
   "outputs": [],
   "source": [
    "dx_scheme = mimiciv_interface.register_dx_discharge_scheme('aki_study_dx', None)"
   ]
  },
  {
   "cell_type": "code",
   "execution_count": 11,
   "id": "2b95772114504e49",
   "metadata": {
    "ExecuteTime": {
     "end_time": "2024-01-29T13:58:49.424019201Z",
     "start_time": "2024-01-29T13:58:48.300100741Z"
    }
   },
   "outputs": [],
   "source": [
    "\n",
    "icu_input_scheme = mimiciv_interface.register_icu_input_scheme('aki_study_icu_input', None)"
   ]
  },
  {
   "cell_type": "code",
   "execution_count": 12,
   "id": "b81da7ad97719338",
   "metadata": {
    "ExecuteTime": {
     "end_time": "2024-01-29T13:58:49.605494781Z",
     "start_time": "2024-01-29T13:58:49.425153651Z"
    }
   },
   "outputs": [],
   "source": [
    "\n",
    "icu_procedure_scheme = mimiciv_interface.register_icu_procedure_scheme('aki_study_icu_proc', None)"
   ]
  },
  {
   "cell_type": "code",
   "execution_count": 13,
   "id": "5bd68471ce324a94",
   "metadata": {
    "ExecuteTime": {
     "end_time": "2024-01-29T13:58:50.285648700Z",
     "start_time": "2024-01-29T13:58:49.606043253Z"
    }
   },
   "outputs": [],
   "source": [
    "\n",
    "hosp_procedure_scheme = mimiciv_interface.register_hosp_procedure_scheme('aki_study_hosp_proc', None)\n"
   ]
  },
  {
   "cell_type": "markdown",
   "id": "b08bb8db",
   "metadata": {},
   "source": [
    "## Preprocessing\n",
    "\n",
    "Preparation into Dataset:\n",
    "\n",
    "- Inputs:\n",
    "    - selection of race (optional).\n",
    "    - selection of dx_codes (optional).\n",
    "    - selection of icu_proc codes (optional).\n",
    "    - selection of icu_inputs codes (optional).\n",
    "    - selection of hosp_proc codes (optional).\n",
    "    - selection of subjects from a function indicating an aki availability.\n",
    "    - icu_input unit-of-measurement conversion table.\n",
    "- Pipeline:\n",
    "    - Set Indices.\n",
    "    - Select subjects with at least one aki measurement (synchronize all).\n",
    "    - Cast Datetime.\n",
    "    - Merge overlapping admissions (remap hadm_id in all).\n",
    "    - Remove subjects having admissions with negative intervals (ensure the negative interval is handled correctly when merging overlaps.).\n",
    "    - Filter timestamped measurement outside the admittime/dischtime.\n",
    "    - Filter interventional intervals entirely outside admittime/dischtime.\n",
    "    - Clip overlapping interventional intervals to admittime/dischtime.\n",
    "    - Filter unsupported codes.\n",
    "    - Unit-normalize amount_per_hour.\n",
    "    - Remove subjects with invalid input rates.\n",
    "    - Replace Alphaneumeric Codes with Integer Indices.\n",
    "    - Replace timestamps with relative times from admission time.\n",
    "\n",
    "- Output: MIMICIVDataset (7 data tables + 7 scheme objects).\n",
    "    - `static_df` + (race_scheme, gender_scheme) \n",
    "    - `adm_df`\n",
    "    - `dx_df` + (dx_scheme: MixedICDScheme)\n",
    "    - `obs_df` + (obs_scheme: MIMICObsScheme)\n",
    "    - `icu_proc_df` + (icu_proc_scheme: ItemBasedScheme)\n",
    "    - `icu_input_df` + (icu_input_scheme: ItemBasedScheme)\n",
    "    - `hosp_proc_df` + (hocp_proc_scheme: MixedICDScheme)\n",
    " \n",
    "\n",
    "Preparation into DynSys interface:\n",
    "\n",
    "- Inputs:\n",
    "    - Dataset\n",
    "    - target::race_scheme, target::gender_scheme\n",
    "    - target::proc_scheme (groups `icu_proc_df` + `hosp_proc_df` into `proc_df`).\n",
    "    - target::input (group-aggregates `icu_input_df` items)\n",
    "    - target::dx_scheme\n",
    "    - outcome_extractor\n",
    "    - leading_config\n",
    "    - aggregation configuration:\n",
    "        - conditional aggregation measurements with small timescales, e.g.  quantile75(dt) < 1-hour\n",
    "        - hard aggregation, fixed time_bin interval.\n",
    "    - splits\n",
    "    - config outlier removal + rescaling.\n",
    "- Pipeline:\n",
    "    - Sample Subjects.\n",
    "    - Outlier removal and rescaling.\n",
    "    - Vectorize:\n",
    "        - dx\n",
    "        - dx_history\n",
    "        - obs\n",
    "        - input\n",
    "        - proc\n",
    "    - observations conditional aggregation OR hard aggregation.\n",
    "    - Vectorize:\n",
    "        - lead (extracted after aggregation of obs)\n",
    "    - Exclude admissions with less than 12 hours stay (it comes after vectorize so dx_history do not miss preceding admissions).\n",
    "- Output: DynEHRSystem (original dataset + VecPatients + 5 target_schemes + outcome_extractor + leaf_config)  \n",
    "\n"
   ]
  },
  {
   "cell_type": "markdown",
   "id": "ea32e37d",
   "metadata": {},
   "source": [
    "### Interventions\n",
    "\n"
   ]
  },
  {
   "cell_type": "markdown",
   "id": "bbc041fa",
   "metadata": {},
   "source": [
    "### `hospicdproc` + `icuproc` Further filteration and grouper"
   ]
  },
  {
   "cell_type": "code",
   "execution_count": null,
   "id": "85e05ed6",
   "metadata": {},
   "outputs": [],
   "source": [
    "df = hospicdproc_df.merge(adm_df, on='hadm_id', how='left')\n",
    "\n",
    "# timeperc_within_stay = (df['start_time'] - df['admittime']).dt.total_seconds() /(df['dischtime'] - df['admittime']).dt.total_seconds()\n",
    "# timeperc_within_stay.plot.kde()"
   ]
  },
  {
   "cell_type": "code",
   "execution_count": null,
   "id": "f900c29c",
   "metadata": {},
   "outputs": [],
   "source": [
    "icd_n_subjects = df.groupby(['icd_code', 'long_title', 'icd_version'], as_index=False).agg(\n",
    "    n_subjects=('subject_id', 'nunique'))\n",
    "icd_n_subjects['p_subjects'] = icd_n_subjects['n_subjects'] / len(subject_id_with_renal_info)\n",
    "# icd_n_subjects['p_subjects'].plot.kde()"
   ]
  },
  {
   "cell_type": "markdown",
   "id": "c705e457",
   "metadata": {},
   "source": [
    "### 'icuproc` refinement"
   ]
  },
  {
   "cell_type": "markdown",
   "id": "7d4c4cff",
   "metadata": {},
   "source": [
    "#### Standard Procedure Table"
   ]
  },
  {
   "cell_type": "markdown",
   "id": "476b5a8e",
   "metadata": {},
   "source": [
    "### `input` filteration and refinement"
   ]
  },
  {
   "cell_type": "markdown",
   "id": "2ce95dc3",
   "metadata": {},
   "source": [
    "#### Normalise rates of different units for the same input item"
   ]
  },
  {
   "cell_type": "code",
   "execution_count": null,
   "id": "c89c5f99",
   "metadata": {},
   "outputs": [],
   "source": [
    "rate_scaler = dict(zip(map(lambda c1, c2: f'{c1}-{c2}', int_grouper_input_df.label, int_grouper_input_df.amountuom),\n",
    "                       int_grouper_input_df.rate_normaliser))\n",
    "\n",
    "input_df['label-uom'] = list(map(lambda c1, c2: f'{c1}-{c2}', input_df.label, input_df.amountuom))\n",
    "input_df['normalised_amount_per_hour'] = input_df['amount_per_hour'] * input_df['label-uom'].map(rate_scaler)"
   ]
  },
  {
   "cell_type": "code",
   "execution_count": null,
   "id": "7a6a7055",
   "metadata": {},
   "outputs": [],
   "source": [
    "input_df = input_df[['hadm_id', 'start_time', 'end_time', 'label', 'normalised_amount_per_hour']]"
   ]
  },
  {
   "cell_type": "code",
   "execution_count": null,
   "id": "633c488c",
   "metadata": {},
   "outputs": [],
   "source": [
    "input_df.to_csv('int_input.csv.gz', compression='gzip')"
   ]
  },
  {
   "cell_type": "code",
   "execution_count": null,
   "id": "ab546964",
   "metadata": {},
   "outputs": [],
   "source": [
    "input_df"
   ]
  },
  {
   "cell_type": "markdown",
   "id": "64222b45",
   "metadata": {},
   "source": [
    "## Dx Codes Filteration"
   ]
  },
  {
   "cell_type": "code",
   "execution_count": null,
   "id": "0d4f5910",
   "metadata": {},
   "outputs": [],
   "source": [
    "def filter_discharge_codes(df, subject_id_selection=None):\n",
    "    n = OrderedDict()\n",
    "    n['n0'] = len(df)\n",
    "\n",
    "    cols = df.columns\n",
    "\n",
    "    # (1) Filter discharge codes if subject has a single admission.\n",
    "    n_adms = df.groupby('subject_id', as_index=False).agg(n_adms=('hadm_id', 'nunique'))\n",
    "    n_adms_subjects = set(n_adms[n_adms['n_adms'] > 1].subject_id)\n",
    "    df = df[df.subject_id.isin(n_adms_subjects)]\n",
    "\n",
    "    n['n adm. > 1 filter'] = len(df)\n",
    "\n",
    "    # (2) Filter discharge dx codes based on subject_id selection\n",
    "    if subject_id_selection is not None:\n",
    "        df = df[df.subject_id.isin(subject_id_selection)]\n",
    "\n",
    "    n['n subj. filter'] = len(df)\n",
    "\n",
    "    print('\\n'.join(f'{filt}: {num} ({100 * num / n[\"n0\"]:.1f})' for filt, num in n.items()))\n",
    "    print('\\n========\\n')\n",
    "    return df"
   ]
  },
  {
   "cell_type": "code",
   "execution_count": null,
   "id": "dca0531f",
   "metadata": {},
   "outputs": [],
   "source": [
    "dx_query = f\"\"\"\n",
    "SELECT\n",
    "    hadm_id, subject_id, icd_code, icd_version\n",
    "FROM mimiciv_hosp.diagnoses_icd \n",
    "\"\"\"\n",
    "dx_df = pd.read_sql_query(dx_query, con)"
   ]
  },
  {
   "cell_type": "code",
   "execution_count": null,
   "id": "008c13cb",
   "metadata": {},
   "outputs": [],
   "source": [
    "dx_df = filter_discharge_codes(dx_df, subject_id_selection=subject_id_with_renal_info)"
   ]
  },
  {
   "cell_type": "markdown",
   "id": "512de513",
   "metadata": {},
   "source": [
    "## Admissions & Static Tables "
   ]
  },
  {
   "cell_type": "code",
   "execution_count": null,
   "id": "c0f8f426",
   "metadata": {},
   "outputs": [],
   "source": [
    "def filter_admissions(df, subject_id_selection=None):\n",
    "    n = OrderedDict()\n",
    "    n['n0'] = len(df)\n",
    "\n",
    "    cols = df.columns\n",
    "\n",
    "    # (1) Filter discharge dx codes based on subject_id selection\n",
    "    if subject_id_selection is not None:\n",
    "        df = df[df.subject_id.isin(subject_id_selection)]\n",
    "\n",
    "    n['n subj. filter'] = len(df)\n",
    "\n",
    "    print('\\n'.join(f'{filt}: {num} ({100 * num / n[\"n0\"]:.1f})' for filt, num in n.items()))\n",
    "    print('\\n========\\n')\n",
    "    return df"
   ]
  },
  {
   "cell_type": "code",
   "execution_count": null,
   "id": "043c3e7a",
   "metadata": {},
   "outputs": [],
   "source": [
    "adm_df = filter_admissions(adm_df, subject_id_selection=subject_id_with_renal_info)\n",
    "static_df = filter_admissions(static_df, subject_id_selection=subject_id_with_renal_info)\n"
   ]
  },
  {
   "cell_type": "code",
   "execution_count": null,
   "id": "929cc89e",
   "metadata": {},
   "outputs": [],
   "source": [
    "adm_df.to_csv('adm_df.csv.gz', compression='gzip')\n",
    "static_df.to_csv('static_df.csv.gz', compression='gzip')"
   ]
  },
  {
   "cell_type": "code",
   "execution_count": null,
   "id": "e229e060",
   "metadata": {},
   "outputs": [],
   "source": [
    "\n",
    "# static_df.groupby('race', as_index=False).agg(n=('subject_id', 'count')).to_csv('race_groups.csv', compression='gzip')\n",
    "race_groups_df = pd.read_csv('race_grouper.csv', index_col=0)"
   ]
  },
  {
   "cell_type": "code",
   "execution_count": null,
   "id": "ca165b58",
   "metadata": {},
   "outputs": [],
   "source": [
    "race_groups_df.to_csv('mimic4_race_grouper.csv.gz', compression='gzip')"
   ]
  },
  {
   "cell_type": "code",
   "execution_count": null,
   "id": "694eb82f",
   "metadata": {},
   "outputs": [],
   "source": [
    "import seaborn as sns\n",
    "import sys\n",
    "\n",
    "sys.path.append(\"../../..\")\n",
    "\n",
    "from lib.ehr.coding_scheme import MIMIC4Observables\n",
    "\n",
    "C = MIMIC4Observables()\n",
    "\n",
    "z_min = -2.5\n",
    "z_max = -z_min\n",
    "q_min = 0.1\n",
    "q_max = 1 - q_min\n",
    "\n",
    "for code in sorted(m4inpatient_dataset.df['obs'].code.unique()):\n",
    "    df = m4inpatient_dataset.df['obs']\n",
    "    code_df = df[df.code == code]\n",
    "\n",
    "    q1 = code_df.value.quantile(q_min)\n",
    "    q2 = code_df.value.quantile(q_max)\n",
    "    qin_mask = code_df.value.between(q1, q2)\n",
    "\n",
    "    mu = code_df.value.mean()\n",
    "    std = code_df.value.std()\n",
    "    code_df['z'] = (code_df.value - mu) / std\n",
    "    x1 = mu + z_min * std\n",
    "    x2 = mu + z_max * std\n",
    "\n",
    "    zin_mask = code_df.z.between(z_min, z_max)\n",
    "\n",
    "    textstr = '\\n'.join((\n",
    "        f'n={len(code_df)}',\n",
    "        f'(min, max): ({code_df.value.min():0.2f}, {code_df.value.max():0.2f})',\n",
    "        f'p(qin): {qin_mask.mean():0.3f}',\n",
    "        f'p(zin): {zin_mask.mean():0.3f}',\n",
    "        f'p(zin or qin): {(qin_mask | zin_mask).mean(): 0.3f}'))\n",
    "    props = dict(boxstyle='round', facecolor='wheat', alpha=0.5)\n",
    "\n",
    "    g = sns.displot(code_df, x=\"value\", kde=True)\n",
    "\n",
    "    for ax in g.axes.flat:\n",
    "        args = zip([x1, x2, q1, q2],\n",
    "                   [\"solid\", \"solid\", \"dashed\", \"dashed\"],\n",
    "                   [\"red\", \"red\", \"red\", \"red\"])\n",
    "        ax.set_title(C.desc[code])\n",
    "        # place a text box in upper left in axes coords\n",
    "        ax.text(0.05, 0.95, textstr, transform=ax.transAxes, fontsize=10,\n",
    "                verticalalignment='top', bbox=props)\n",
    "        for x, style, color in args:\n",
    "            ax.axvline(x=x, ymin=0, ymax=1.0, linestyle=style, color=color)\n",
    "    g.savefig(f\"obs_outlier__{code}_{C.desc[code]}.pdf\", bbox_inches='tight')"
   ]
  }
 ],
 "metadata": {
  "kernelspec": {
   "display_name": "Python 3 (ipykernel)",
   "language": "python",
   "name": "python3"
  },
  "language_info": {
   "codemirror_mode": {
    "name": "ipython",
    "version": 3
   },
   "file_extension": ".py",
   "mimetype": "text/x-python",
   "name": "python",
   "nbconvert_exporter": "python",
   "pygments_lexer": "ipython3",
   "version": "3.10.12"
  }
 },
 "nbformat": 4,
 "nbformat_minor": 5
}
