{
 "cells": [
  {
   "cell_type": "code",
   "execution_count": 1,
   "id": "5a0973b9",
   "metadata": {
    "ExecuteTime": {
     "end_time": "2024-04-18T18:04:39.867871Z",
     "start_time": "2024-04-18T18:04:36.222938Z"
    }
   },
   "source": [
    "%load_ext autoreload\n",
    "%autoreload 2\n",
    "\n",
    "import sys\n",
    "from collections import OrderedDict\n",
    "\n",
    "import matplotlib.pyplot as plt\n",
    "import numpy as np\n",
    "import pandas as pd\n",
    "\n",
    "sys.path.append(\"../../..\")\n",
    "\n",
    "import lib.ehr.example_datasets.mimiciv_aki as m4aki\n",
    "from lib.ehr.tvx_ehr import TVxEHR\n",
    "from lib.utils import modified_environ, write_config\n"
   ],
   "outputs": []
  },
  {
   "cell_type": "code",
   "execution_count": 8,
   "id": "c5a9fd4b",
   "metadata": {
    "ExecuteTime": {
     "end_time": "2024-04-18T18:04:39.889356Z",
     "start_time": "2024-04-18T18:04:39.868793Z"
    }
   },
   "source": [
    "# create a database connection\n",
    "sqluser = 'postgres'\n",
    "dbname = 'mimiciv'\n",
    "hostname = 'localhost'\n",
    "password = 'qwerasdf'\n",
    "port = '5432'\n",
    "\n",
    "url = f'postgresql+psycopg2://{sqluser}:{password}@{hostname}:{port}/{dbname}'\n",
    "\n",
    "with modified_environ(MIMICIV_URL=url):\n",
    "    mimiciv_config = m4aki.AKIMIMICIVDatasetConfig()\n",
    "    tvx_config = m4aki.TVxAKIMIMICIVDatasetConfig()\n",
    "\n",
    "    write_config(mimiciv_config.to_dict(), 'dataset_mimiciv_aki_config.json')\n",
    "    write_config(tvx_config.to_dict(), 'tvx_mimiciv_aki_config.json')\n"
   ],
   "outputs": []
  },
  {
   "cell_type": "code",
   "execution_count": 9,
   "id": "8448e76db65f2acd",
   "metadata": {
    "ExecuteTime": {
     "end_time": "2024-04-18T18:10:50.722946Z",
     "start_time": "2024-04-18T18:04:39.890087Z"
    },
    "collapsed": false,
    "jupyter": {
     "outputs_hidden": false
    }
   },
   "source": [
    "# with modified_environ(MIMICIV_URL=url):\n",
    "#     dataset = m4aki.AKIMIMICIVDataset(config=mimiciv_config)           \n",
    "# dataset = dataset.execute_pipeline()\n",
    "# tvx = m4aki.TVxAKIMIMICIVDataset(config=tvx_config, dataset=dataset)\n",
    "# tvx = tvx.execute_pipeline()"
   ],
   "outputs": []
  },
  {
   "cell_type": "code",
   "execution_count": 4,
   "id": "912bbdd5-496b-4a1f-8561-3ec6ee5a5541",
   "metadata": {},
   "source": [
    "# tvx.dataset.pipeline_report.to_csv('dataset_pipeline_report.csv')\n",
    "# tvx.pipeline_report.to_csv('tvx_pipeline_report.csv')\n",
    "# tvx.save('tvx_aki.h5', True)"
   ],
   "outputs": []
  },
  {
   "cell_type": "code",
   "execution_count": 3,
   "id": "42ee2530-aa19-4c36-aaa3-1853b21d4ce1",
   "metadata": {},
   "source": [
    "tvx = m4aki.TVxAKIMIMICIVDataset.load('/home/asem/GP/ehr-data/mimic4aki-cohort/tvx_aki_tb6.h5')"
   ],
   "outputs": []
  },
  {
   "cell_type": "code",
   "execution_count": 8,
   "id": "5f9f6652-cd55-4034-89e8-8bd9e8ba2568",
   "metadata": {},
   "source": [
    "print('x')"
   ],
   "outputs": []
  },
  {
   "cell_type": "code",
   "execution_count": 5,
   "id": "c471a8e3-c776-4962-93f1-708612c1f10c",
   "metadata": {},
   "source": [
    "# len(tvx.subjects)"
   ],
   "outputs": []
  },
  {
   "cell_type": "code",
   "execution_count": 6,
   "id": "84c7d3a3-72e1-4f9d-9602-35c8a914259a",
   "metadata": {},
   "source": [
    "tvx.config.splits"
   ],
   "outputs": []
  },
  {
   "cell_type": "code",
   "execution_count": 6,
   "id": "7859050a-f14f-49f0-ae4b-fac996b86fec",
   "metadata": {},
   "source": [
    "# from lib.ehr.tvx_transformations import TrainingSplitGroups\n",
    "# tvx_list = TrainingSplitGroups()(tvx, n_groups=10, seed=0)"
   ],
   "outputs": []
  },
  {
   "cell_type": "code",
   "execution_count": 7,
   "id": "529f5271-f65e-4d07-9fd4-c3e4a2e63d11",
   "metadata": {},
   "source": [
    "# for i, tvx_item in enumerate(tvx_list):\n",
    "#     tvx_item.save(f'tvx_aki_training_groups/tvx_aki_{i}.h5', True)"
   ],
   "outputs": []
  },
  {
   "cell_type": "code",
   "execution_count": 11,
   "id": "840e563f-5165-464f-b63c-bbe681742ee8",
   "metadata": {},
   "source": [
    "tvx0 = m4aki.TVxAKIMIMICIVDataset.load('tvx_aki_training_groups/tvx_aki_0.h5')"
   ],
   "outputs": []
  },
  {
   "cell_type": "code",
   "execution_count": 9,
   "id": "dfd4a0e3-0164-4e7d-b61a-4d49e7e246e4",
   "metadata": {},
   "source": [
    "len(tvx0.subjects)"
   ],
   "outputs": []
  },
  {
   "cell_type": "code",
   "execution_count": 15,
   "id": "f3b7e79a-5f92-4f02-9b18-962600f406c2",
   "metadata": {},
   "source": [
    "from lib.ml.embeddings import InICENODEEmbeddingsConfig, InterventionsEmbeddingsConfig\n",
    "from lib.ml.in_models import InpatientModelConfig, ICENODEConfig, InICENODELite, GRUODEBayes\n",
    "from lib.ml.model import Precomputes\n"
   ],
   "outputs": []
  },
  {
   "cell_type": "code",
   "execution_count": 16,
   "id": "5a9e5aad-f965-4027-9b4e-fbe0c6cca3d4",
   "metadata": {},
   "source": [
    "emb_config = InICENODEEmbeddingsConfig(dx_codes=50, demographic=10, \n",
    "                                       interventions=InterventionsEmbeddingsConfig(icu_inputs=10,\n",
    "                                                                                   icu_procedures=10,\n",
    "                                                                                   hosp_procedures=10,\n",
    "                                                                                   interventions=20))\n",
    "\n",
    "model_config = ICENODEConfig(state=50, lead_predictor='monotonic')"
   ],
   "outputs": []
  },
  {
   "cell_type": "code",
   "execution_count": 17,
   "id": "95b9bfcc-388a-44f6-94d2-a0100f68a6dc",
   "metadata": {},
   "source": [
    "import jax.random as jrandom\n",
    "\n",
    "# model = InICENODELite.from_tvx_ehr(tvx_ehr=tvx0, config=model_config, embeddings_config=emb_config)\n",
    "model = GRUODEBayes.from_tvx_ehr(tvx_ehr=tvx0, config=model_config, embeddings_config=emb_config)\n"
   ],
   "outputs": []
  },
  {
   "cell_type": "code",
   "execution_count": null,
   "id": "d0b4d117-76f7-4762-b454-c2cf139ac942",
   "metadata": {},
   "source": [],
   "outputs": []
  },
  {
   "cell_type": "code",
   "execution_count": 13,
   "id": "4539aba8-9819-4562-bbef-14da46b3387d",
   "metadata": {},
   "source": [
    "tvx0.config.leading_observable"
   ],
   "outputs": []
  },
  {
   "cell_type": "code",
   "execution_count": 14,
   "id": "610b56fd-e016-4eac-9c66-03d05c7a13eb",
   "metadata": {},
   "source": [
    "tvx0.subjects['10002760'].admissions[0]"
   ],
   "outputs": []
  },
  {
   "cell_type": "code",
   "execution_count": 15,
   "id": "beb746d3-f091-4a25-84a6-252b0ebce427",
   "metadata": {},
   "source": [
    "adm = tvx0.subjects['10002760'].admissions[0]\n",
    "admission_emb = model.f_emb(adm, tvx0.admission_demographics[adm.admission_id])"
   ],
   "outputs": []
  },
  {
   "cell_type": "code",
   "execution_count": 16,
   "id": "3e1e3707-1ec3-4b55-aefb-2dd7f89ce83a",
   "metadata": {},
   "source": [
    "adm.leading_observable.mask"
   ],
   "outputs": []
  },
  {
   "cell_type": "code",
   "execution_count": 17,
   "id": "8b4f074a-4534-47af-a941-5e91b4c3dd54",
   "metadata": {},
   "source": [
    "out = model(admission=adm, embedded_admission=admission_emb, precomputes=Precomputes())"
   ],
   "outputs": []
  },
  {
   "cell_type": "code",
   "execution_count": 18,
   "id": "0279c0f4-e79c-4765-ae5e-04130c13eaa3",
   "metadata": {},
   "source": [
    "out.leading_observable.value"
   ],
   "outputs": []
  },
  {
   "cell_type": "code",
   "execution_count": 22,
   "id": "0785a2d2-4049-477a-a9cb-aadf8c717c42",
   "metadata": {},
   "source": [
    "from lib.ml.experiment import Experiment, ExperimentConfig\n",
    "from lib.ml.trainer import Trainer, TrainerConfig, OptimizerConfig, ReportingConfig, LossMixer\n",
    "\n",
    "opt = OptimizerConfig()\n",
    "trainer_config=TrainerConfig(obs_loss='mse', lead_loss='mse', optimizer=opt)\n",
    "reporting_config = ReportingConfig(output_dir='test',\n",
    "                                   console=True,\n",
    "                                   parameter_snapshots=True,\n",
    "                                   config_json=True,\n",
    "                                   model_stats=False)\n",
    "loss_mix = LossMixer()\n"
   ],
   "outputs": []
  },
  {
   "cell_type": "code",
   "execution_count": 23,
   "id": "9cb95bd2-b788-4afb-bfcf-7ea78fbd9c27",
   "metadata": {},
   "source": [
    "# from lib.ml.experiment import Experiment, ExperimentConfig\n",
    "# from lib.ml.trainer import ProbTrainer, ProbTrainerConfig, ProbLossMixer, OptimizerConfig, ReportingConfig\n",
    "# opt = OptimizerConfig()\n",
    "# trainer_config=ProbTrainerConfig(prob_obs_loss='log_normal', prob_adjusted_obs_loss='kl_gaussian', lead_loss='mse', optimizer=opt)\n",
    "# reporting_config = ReportingConfig(output_dir='test',\n",
    "#                                    console=True,\n",
    "#                                    parameter_snapshots=True,\n",
    "#                                    config_json=True,\n",
    "#                                    model_stats=False)\n",
    "# loss_mix = ProbLossMixer()\n"
   ],
   "outputs": []
  },
  {
   "cell_type": "code",
   "execution_count": 24,
   "id": "96970763-5b7a-459e-b579-291d51da72cd",
   "metadata": {},
   "source": [
    "experiment_config = ExperimentConfig(model=model_config,\n",
    "                                       embeddings=emb_config,\n",
    "                                       trainer=trainer_config,\n",
    "                                       model_classname='GRUODEBayes',\n",
    "                                       trainer_classname='ProbTrainer',\n",
    "                                       reporting=reporting_config,\n",
    "                                       model_snapshot_frequency=10,\n",
    "                                     continue_training=True,\n",
    "                                     loss_mixer=loss_mix)\n",
    "                                     \n",
    "               \n",
    "               "
   ],
   "outputs": []
  },
  {
   "cell_type": "code",
   "execution_count": 25,
   "id": "def849ef-ee04-40f1-97be-a0db4f73c0c6",
   "metadata": {},
   "source": [
    "from lib.utils import write_config\n",
    "write_config(experiment_config.to_dict(), 'prob_config_template.json')"
   ],
   "outputs": []
  },
  {
   "cell_type": "code",
   "execution_count": 6,
   "id": "6968eefa-500c-4b79-9987-967e1e9ff21f",
   "metadata": {},
   "source": [
    "import equinox as eqx\n",
    "import jax.numpy as jnp\n",
    "\n",
    "eqx.filter_vmap(lambda a, b,c: a+b+c)(jnp.arange(10), jnp.arange(10), None)"
   ],
   "outputs": []
  },
  {
   "cell_type": "code",
   "execution_count": null,
   "id": "6d9c9928-163c-4209-b285-d015f48f9c30",
   "metadata": {},
   "source": [],
   "outputs": []
  }
 ],
 "metadata": {
  "kernelspec": {
   "display_name": "Python 3 (ipykernel)",
   "language": "python",
   "name": "python3"
  },
  "language_info": {
   "codemirror_mode": {
    "name": "ipython",
    "version": 3
   },
   "file_extension": ".py",
   "mimetype": "text/x-python",
   "name": "python",
   "nbconvert_exporter": "python",
   "pygments_lexer": "ipython3",
   "version": "3.11.8"
  }
 },
 "nbformat": 4,
 "nbformat_minor": 5
}
