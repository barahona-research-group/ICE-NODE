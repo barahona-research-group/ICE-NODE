{
 "cells": [
  {
   "cell_type": "code",
   "id": "5a0973b9",
   "metadata": {
    "ExecuteTime": {
     "end_time": "2024-04-18T18:04:39.867871Z",
     "start_time": "2024-04-18T18:04:36.222938Z"
    }
   },
   "source": [
    "%load_ext autoreload\n",
    "%autoreload 2\n",
    "\n",
    "import sys\n",
    "from collections import OrderedDict\n",
    "\n",
    "import matplotlib.pyplot as plt\n",
    "import numpy as np\n",
    "import pandas as pd\n",
    "\n",
    "sys.path.append(\"../../..\")\n",
    "\n",
    "import lib.ehr.example_datasets.mimiciv_aki as m4aki\n",
    "\n",
    "from lib.utils import modified_environ, write_config"
   ],
   "outputs": [],
   "execution_count": 1
  },
  {
   "cell_type": "code",
   "source": [
    "# create a database connection\n",
    "sqluser = 'postgres'\n",
    "dbname = 'mimiciv'\n",
    "hostname = 'localhost'\n",
    "password = 'qwerasdf'\n",
    "port = '5432'\n",
    "\n",
    "url = f'postgresql+psycopg2://{sqluser}:{password}@{hostname}:{port}/{dbname}'\n",
    "\n",
    "with modified_environ(MIMICIV_URL=url):\n",
    "    mimiciv_config = m4aki.AKIMIMICIVDatasetConfig()\n",
    "    tvx_config = m4aki.TVxAKIMIMICIVDatasetConfig()\n",
    "\n",
    "    write_config(mimiciv_config.to_dict(), 'dataset_mimiciv_aki_config.json')\n",
    "    write_config(tvx_config.to_dict(), 'tvx_mimiciv_aki_config.json')\n"
   ],
   "metadata": {
    "ExecuteTime": {
     "end_time": "2024-04-18T18:04:39.889356Z",
     "start_time": "2024-04-18T18:04:39.868793Z"
    }
   },
   "id": "c5a9fd4b",
   "outputs": [],
   "execution_count": 2
  },
  {
   "cell_type": "code",
   "source": [
    "with modified_environ(MIMICIV_URL=url):\n",
    "    dataset = m4aki.AKIMIMICIVDataset(config=mimiciv_config)           "
   ],
   "metadata": {
    "collapsed": false,
    "ExecuteTime": {
     "end_time": "2024-04-18T18:10:50.722946Z",
     "start_time": "2024-04-18T18:04:39.890087Z"
    }
   },
   "id": "8448e76db65f2acd",
   "outputs": [
    {
     "name": "stderr",
     "output_type": "stream",
     "text": [
      "WARNING:root:Lost 1 codes when generating the mapping between the Mixed ICD (mimiciv.aki_study.hosp_procedures) and the standard (pr_icd9). Loss stats: v9 0 (0.00), v10 1 (1.00); Loss ratios: v9  0.00, v10  0.03.\n",
      "WARNING:root:          code                                         desc  code_index icd_version icd_code\n",
      "\t33  10:5A1D60Z  Performance of Urinary Filtration, Multiple          33          10  5A1D60Z\n",
      "WARNING:root:Lost 10 codes when generating the mapping between the Mixed ICD (mimiciv.aki_study.hosp_procedures) and the standard (pr_flat_icd10). Loss stats: v9 9 (0.90), v10 1 (0.10); Loss ratios: v9  0.15, v10  0.03.\n",
      "WARNING:root:          code                                                                     desc  code_index icd_version icd_code\n",
      "\t33  10:5A1D60Z                              Performance of Urinary Filtration, Multiple          33          10  5A1D60Z\n",
      "\t38     9:00.40                                               Procedure on single vessel          38           9    00.40\n",
      "\t39     9:00.41                                                 Procedure on two vessels          39           9    00.41\n",
      "\t40     9:00.45                                          Insertion of one vascular stent          40           9    00.45\n",
      "\t41     9:00.46                                         Insertion of two vascular stents          41           9    00.46\n",
      "\t50     9:36.06                   Insertion of non-drug-eluting coronary artery stent(s)          50           9    36.06\n",
      "\t51     9:36.07                       Insertion of drug-eluting coronary artery stent(s)          51           9    36.07\n",
      "\t70     9:39.90  Insertion of non-drug-eluting peripheral (non-coronary) vessel stent(s)          70           9    39.90\n",
      "\t80     9:81.62                                      Fusion or refusion of 2-3 vertebrae          80           9    81.62\n",
      "\t81     9:81.63                                      Fusion or refusion of 4-8 vertebrae          81           9    81.63\n",
      "WARNING:root:Lost 73872 codes when generating the mapping between the Mixed ICD (mimiciv.aki_study.dx_discharge) and the standard (dx_icd9). Loss stats: v9 168 (0.00), v10 73704 (1.00); Loss ratios: v9  0.01, v10  0.77.\n",
      "IOPub data rate exceeded.\n",
      "The Jupyter server will temporarily stop sending output\n",
      "to the client in order to avoid crashing it.\n",
      "To change this limit, set the config variable\n",
      "`--ServerApp.iopub_data_rate_limit`.\n",
      "\n",
      "Current values:\n",
      "ServerApp.iopub_data_rate_limit=1000000.0 (bytes/sec)\n",
      "ServerApp.rate_limit_window=3.0 (secs)\n",
      "\n",
      "WARNING:root:Lost 54500 codes when generating the mapping between the Mixed ICD (mimiciv.aki_study.dx_discharge) and the standard (dx_flat_icd10). Loss stats: v9 4025 (0.07), v10 50475 (0.93); Loss ratios: v9  0.27, v10  0.53.\n",
      "IOPub data rate exceeded.\n",
      "The Jupyter server will temporarily stop sending output\n",
      "to the client in order to avoid crashing it.\n",
      "To change this limit, set the config variable\n",
      "`--ServerApp.iopub_data_rate_limit`.\n",
      "\n",
      "Current values:\n",
      "ServerApp.iopub_data_rate_limit=1000000.0 (bytes/sec)\n",
      "ServerApp.rate_limit_window=3.0 (secs)\n",
      "\n",
      "/home/asem/GP/ICENODE/lib/ehr/example_datasets/mimiciv.py:398: PerformanceWarning: Adding/subtracting object-dtype array to DatetimeArray not vectorized.\n",
      "  df[self.config.date_of_birth_alias] = anchor_date + anchor_age\n"
     ]
    }
   ],
   "execution_count": 3
  },
  {
   "cell_type": "code",
   "source": [
    "dataset =dataset.execute_pipeline()"
   ],
   "metadata": {
    "collapsed": false,
    "ExecuteTime": {
     "end_time": "2024-04-18T18:16:04.712852Z",
     "start_time": "2024-04-18T18:10:50.724168Z"
    }
   },
   "id": "2a23d6ad70d52e29",
   "outputs": [
    {
     "data": {
      "text/plain": [
       "Transforming Dataset:   0%|          | 0/10 [00:00<?, ?transformations/s]"
      ],
      "application/vnd.jupyter.widget-view+json": {
       "version_major": 2,
       "version_minor": 0,
       "model_id": "14aa206cae5a4256a63b6a904c048b9f"
      },
      "application/json": {
       "n": 0,
       "total": 10,
       "elapsed": 0.0035088062286376953,
       "ncols": null,
       "nrows": null,
       "prefix": "Transforming Dataset",
       "ascii": false,
       "unit": "transformations",
       "unit_scale": false,
       "rate": null,
       "bar_format": null,
       "postfix": null,
       "unit_divisor": 1000,
       "initial": 0,
       "colour": null
      }
     },
     "metadata": {},
     "output_type": "display_data"
    }
   ],
   "execution_count": 4
  },
  {
   "metadata": {
    "ExecuteTime": {
     "end_time": "2024-04-18T18:16:04.715530Z",
     "start_time": "2024-04-18T18:16:04.713685Z"
    }
   },
   "cell_type": "code",
   "source": "",
   "id": "c52961b926069146",
   "outputs": [],
   "execution_count": 4
  },
  {
   "cell_type": "code",
   "source": [
    "tvx = m4aki.TVxAKIMIMICIVDataset(config=tvx_config, dataset=dataset)"
   ],
   "metadata": {
    "collapsed": false,
    "ExecuteTime": {
     "end_time": "2024-04-18T18:16:04.731003Z",
     "start_time": "2024-04-18T18:16:04.716238Z"
    }
   },
   "id": "b2638310a60d72ea",
   "outputs": [],
   "execution_count": 5
  },
  {
   "cell_type": "code",
   "source": [
    "tvx = tvx.execute_pipeline()"
   ],
   "metadata": {
    "collapsed": false,
    "ExecuteTime": {
     "end_time": "2024-04-18T18:17:14.561416Z",
     "start_time": "2024-04-18T18:16:04.731672Z"
    }
   },
   "id": "567b308edce77e44",
   "outputs": [
    {
     "data": {
      "text/plain": [
       "Transforming Dataset:   0%|          | 0/10 [00:00<?, ?transformations/s]"
      ],
      "application/vnd.jupyter.widget-view+json": {
       "version_major": 2,
       "version_minor": 0,
       "model_id": "ac4462610ef34ef2bf9cc0bc6fe16512"
      },
      "application/json": {
       "n": 0,
       "total": 10,
       "elapsed": 0.0023000240325927734,
       "ncols": null,
       "nrows": null,
       "prefix": "Transforming Dataset",
       "ascii": false,
       "unit": "transformations",
       "unit_scale": false,
       "rate": null,
       "bar_format": null,
       "postfix": null,
       "unit_divisor": 1000,
       "initial": 0,
       "colour": null
      }
     },
     "metadata": {},
     "output_type": "display_data"
    },
    {
     "ename": "KeyError",
     "evalue": "'ethnicity'",
     "output_type": "error",
     "traceback": [
      "\u001B[0;31m---------------------------------------------------------------------------\u001B[0m",
      "\u001B[0;31mKeyError\u001B[0m                                  Traceback (most recent call last)",
      "Cell \u001B[0;32mIn[6], line 1\u001B[0m\n\u001B[0;32m----> 1\u001B[0m tvx \u001B[38;5;241m=\u001B[39m tvx\u001B[38;5;241m.\u001B[39mexecute_pipeline()\n",
      "    \u001B[0;31m[... skipping hidden 1 frame]\u001B[0m\n",
      "File \u001B[0;32m~/GP/ICENODE/lib/ehr/dataset.py:489\u001B[0m, in \u001B[0;36mAbstractDatasetRepresentation.execute_pipeline\u001B[0;34m(self)\u001B[0m\n\u001B[1;32m    487\u001B[0m     logging\u001B[38;5;241m.\u001B[39mwarning(\u001B[38;5;124m\"\u001B[39m\u001B[38;5;124mPipeline has already been executed. Doing nothing.\u001B[39m\u001B[38;5;124m\"\u001B[39m)\n\u001B[1;32m    488\u001B[0m     \u001B[38;5;28;01mreturn\u001B[39;00m \u001B[38;5;28mself\u001B[39m\n\u001B[0;32m--> 489\u001B[0m dataset, report \u001B[38;5;241m=\u001B[39m \u001B[38;5;28mself\u001B[39m\u001B[38;5;241m.\u001B[39mpipeline(\u001B[38;5;28mself\u001B[39m)\n\u001B[1;32m    490\u001B[0m dataset \u001B[38;5;241m=\u001B[39m eqx\u001B[38;5;241m.\u001B[39mtree_at(\u001B[38;5;28;01mlambda\u001B[39;00m x: x\u001B[38;5;241m.\u001B[39mpipeline_report, dataset, report)\n\u001B[1;32m    491\u001B[0m \u001B[38;5;28;01mreturn\u001B[39;00m dataset\n",
      "File \u001B[0;32m~/GP/ICENODE/lib/ehr/dataset.py:661\u001B[0m, in \u001B[0;36mAbstractDatasetPipeline.__call__\u001B[0;34m(self, dataset)\u001B[0m\n\u001B[1;32m    659\u001B[0m pbar\u001B[38;5;241m.\u001B[39mset_description(\u001B[38;5;124mf\u001B[39m\u001B[38;5;124m\"\u001B[39m\u001B[38;5;124mTransforming Dataset: \u001B[39m\u001B[38;5;132;01m{\u001B[39;00m\u001B[38;5;28mtype\u001B[39m(t)\u001B[38;5;241m.\u001B[39m\u001B[38;5;18m__name__\u001B[39m\u001B[38;5;132;01m}\u001B[39;00m\u001B[38;5;124m\"\u001B[39m)\n\u001B[1;32m    660\u001B[0m report \u001B[38;5;241m=\u001B[39m report\u001B[38;5;241m.\u001B[39madd(transformation\u001B[38;5;241m=\u001B[39m\u001B[38;5;28mtype\u001B[39m(t), operation\u001B[38;5;241m=\u001B[39m\u001B[38;5;124m'\u001B[39m\u001B[38;5;124mstart\u001B[39m\u001B[38;5;124m'\u001B[39m)\n\u001B[0;32m--> 661\u001B[0m dataset, report \u001B[38;5;241m=\u001B[39m t\u001B[38;5;241m.\u001B[39mapply(dataset, report)\n\u001B[1;32m    662\u001B[0m report \u001B[38;5;241m=\u001B[39m report\u001B[38;5;241m.\u001B[39madd(transformation\u001B[38;5;241m=\u001B[39m\u001B[38;5;28mtype\u001B[39m(t), operation\u001B[38;5;241m=\u001B[39m\u001B[38;5;124m'\u001B[39m\u001B[38;5;124mend\u001B[39m\u001B[38;5;124m'\u001B[39m)\n\u001B[1;32m    663\u001B[0m pbar\u001B[38;5;241m.\u001B[39mupdate(\u001B[38;5;241m1\u001B[39m)\n",
      "File \u001B[0;32m~/GP/ICENODE/lib/ehr/tvx_transformations.py:698\u001B[0m, in \u001B[0;36mTVxConcepts.apply\u001B[0;34m(cls, tvx_ehr, report)\u001B[0m\n\u001B[1;32m    695\u001B[0m \u001B[38;5;129m@classmethod\u001B[39m\n\u001B[1;32m    696\u001B[0m \u001B[38;5;28;01mdef\u001B[39;00m \u001B[38;5;21mapply\u001B[39m(\u001B[38;5;28mcls\u001B[39m, tvx_ehr: TVxEHR, report: TVxReport) \u001B[38;5;241m-\u001B[39m\u001B[38;5;241m>\u001B[39m Tuple[TVxEHR, TVxReport]:\n\u001B[1;32m    697\u001B[0m     subject_admissions \u001B[38;5;241m=\u001B[39m tvx_ehr\u001B[38;5;241m.\u001B[39msubjects_sorted_admission_ids\n\u001B[0;32m--> 698\u001B[0m     static_info, report \u001B[38;5;241m=\u001B[39m \u001B[38;5;28mcls\u001B[39m\u001B[38;5;241m.\u001B[39m_static_info(tvx_ehr, report)\n\u001B[1;32m    700\u001B[0m     dx_discharge \u001B[38;5;241m=\u001B[39m \u001B[38;5;28mcls\u001B[39m\u001B[38;5;241m.\u001B[39m_dx_discharge(tvx_ehr)\n\u001B[1;32m    701\u001B[0m     dx_discharge_history \u001B[38;5;241m=\u001B[39m \u001B[38;5;28mcls\u001B[39m\u001B[38;5;241m.\u001B[39m_dx_discharge_history(tvx_ehr, dx_discharge)\n",
      "File \u001B[0;32m~/GP/ICENODE/lib/ehr/tvx_transformations.py:466\u001B[0m, in \u001B[0;36mTVxConcepts._static_info\u001B[0;34m(cls, tvx_ehr, report)\u001B[0m\n\u001B[1;32m    464\u001B[0m \u001B[38;5;28;01mif\u001B[39;00m c_date_of_birth \u001B[38;5;129;01min\u001B[39;00m static\u001B[38;5;241m.\u001B[39mcolumns \u001B[38;5;129;01mand\u001B[39;00m config\u001B[38;5;241m.\u001B[39mage:\n\u001B[1;32m    465\u001B[0m     dob \u001B[38;5;241m=\u001B[39m static[c_date_of_birth]\u001B[38;5;241m.\u001B[39mto_dict()\n\u001B[0;32m--> 466\u001B[0m \u001B[38;5;28;01mif\u001B[39;00m tvx_ehr\u001B[38;5;241m.\u001B[39mscheme\u001B[38;5;241m.\u001B[39mgender \u001B[38;5;129;01mis\u001B[39;00m \u001B[38;5;129;01mnot\u001B[39;00m \u001B[38;5;28;01mNone\u001B[39;00m \u001B[38;5;129;01mand\u001B[39;00m config\u001B[38;5;241m.\u001B[39mgender:\n\u001B[1;32m    467\u001B[0m     gender_m \u001B[38;5;241m=\u001B[39m tvx_ehr\u001B[38;5;241m.\u001B[39mgender_mapper\n\u001B[1;32m    468\u001B[0m     gender \u001B[38;5;241m=\u001B[39m {k: gender_m\u001B[38;5;241m.\u001B[39mcodeset2vec(scheme_manager, {c}) \u001B[38;5;28;01mfor\u001B[39;00m k, c \u001B[38;5;129;01min\u001B[39;00m static[c_gender]\u001B[38;5;241m.\u001B[39mto_dict()\u001B[38;5;241m.\u001B[39mitems()}\n",
      "File \u001B[0;32m~/GP/env/icenode-dev/lib/python3.11/functools.py:1001\u001B[0m, in \u001B[0;36mcached_property.__get__\u001B[0;34m(self, instance, owner)\u001B[0m\n\u001B[1;32m    999\u001B[0m val \u001B[38;5;241m=\u001B[39m cache\u001B[38;5;241m.\u001B[39mget(\u001B[38;5;28mself\u001B[39m\u001B[38;5;241m.\u001B[39mattrname, _NOT_FOUND)\n\u001B[1;32m   1000\u001B[0m \u001B[38;5;28;01mif\u001B[39;00m val \u001B[38;5;129;01mis\u001B[39;00m _NOT_FOUND:\n\u001B[0;32m-> 1001\u001B[0m     val \u001B[38;5;241m=\u001B[39m \u001B[38;5;28mself\u001B[39m\u001B[38;5;241m.\u001B[39mfunc(instance)\n\u001B[1;32m   1002\u001B[0m     \u001B[38;5;28;01mtry\u001B[39;00m:\n\u001B[1;32m   1003\u001B[0m         cache[\u001B[38;5;28mself\u001B[39m\u001B[38;5;241m.\u001B[39mattrname] \u001B[38;5;241m=\u001B[39m val\n",
      "File \u001B[0;32m~/GP/ICENODE/lib/ehr/tvx_ehr.py:481\u001B[0m, in \u001B[0;36mTVxEHR.scheme\u001B[0;34m(self)\u001B[0m\n\u001B[1;32m    479\u001B[0m \u001B[38;5;250m\u001B[39m\u001B[38;5;124;03m\"\"\"Get the scheme.\"\"\"\u001B[39;00m\n\u001B[1;32m    480\u001B[0m scheme \u001B[38;5;241m=\u001B[39m TVxEHRScheme(config\u001B[38;5;241m=\u001B[39m\u001B[38;5;28mself\u001B[39m\u001B[38;5;241m.\u001B[39mconfig\u001B[38;5;241m.\u001B[39mscheme, context_view\u001B[38;5;241m=\u001B[39m\u001B[38;5;28mself\u001B[39m\u001B[38;5;241m.\u001B[39mdataset\u001B[38;5;241m.\u001B[39mscheme_manager\u001B[38;5;241m.\u001B[39mview())\n\u001B[0;32m--> 481\u001B[0m TVxEHRScheme\u001B[38;5;241m.\u001B[39mvalidate_mapping(\u001B[38;5;28mself\u001B[39m\u001B[38;5;241m.\u001B[39mdataset\u001B[38;5;241m.\u001B[39mscheme_manager, \u001B[38;5;28mself\u001B[39m\u001B[38;5;241m.\u001B[39mdataset\u001B[38;5;241m.\u001B[39mscheme, scheme)\n\u001B[1;32m    482\u001B[0m \u001B[38;5;28;01mreturn\u001B[39;00m scheme\n",
      "File \u001B[0;32m~/GP/ICENODE/lib/ehr/tvx_ehr.py:268\u001B[0m, in \u001B[0;36mTVxEHRScheme.validate_mapping\u001B[0;34m(coding_scheme_manager, source, target)\u001B[0m\n\u001B[1;32m    266\u001B[0m target_schemes \u001B[38;5;241m=\u001B[39m target\u001B[38;5;241m.\u001B[39mscheme_dict\n\u001B[1;32m    267\u001B[0m \u001B[38;5;28;01mfor\u001B[39;00m key, source_scheme \u001B[38;5;129;01min\u001B[39;00m source\u001B[38;5;241m.\u001B[39mscheme_dict\u001B[38;5;241m.\u001B[39mitems():\n\u001B[0;32m--> 268\u001B[0m     \u001B[38;5;28;01massert\u001B[39;00m coding_scheme_manager\u001B[38;5;241m.\u001B[39mmap[(source_scheme\u001B[38;5;241m.\u001B[39mname, target_schemes[key]\u001B[38;5;241m.\u001B[39mname)] \u001B[38;5;129;01mis\u001B[39;00m \u001B[38;5;129;01mnot\u001B[39;00m \u001B[38;5;28;01mNone\u001B[39;00m, \\\n\u001B[1;32m    269\u001B[0m         \u001B[38;5;124mf\u001B[39m\u001B[38;5;124m\"\u001B[39m\u001B[38;5;124mCannot map \u001B[39m\u001B[38;5;132;01m{\u001B[39;00mkey\u001B[38;5;132;01m}\u001B[39;00m\u001B[38;5;124m from \u001B[39m\u001B[38;5;132;01m{\u001B[39;00msource_scheme\u001B[38;5;241m.\u001B[39mname\u001B[38;5;132;01m}\u001B[39;00m\u001B[38;5;124m to \u001B[39m\u001B[38;5;132;01m{\u001B[39;00mtarget_schemes[key]\u001B[38;5;241m.\u001B[39mname\u001B[38;5;132;01m}\u001B[39;00m\u001B[38;5;124m\"\u001B[39m\n\u001B[1;32m    271\u001B[0m \u001B[38;5;28;01mif\u001B[39;00m target\u001B[38;5;241m.\u001B[39moutcome \u001B[38;5;129;01mis\u001B[39;00m \u001B[38;5;129;01mnot\u001B[39;00m \u001B[38;5;28;01mNone\u001B[39;00m:\n\u001B[1;32m    272\u001B[0m     \u001B[38;5;28;01massert\u001B[39;00m TVxEHRScheme\u001B[38;5;241m.\u001B[39mvalidate_outcome_scheme(\n\u001B[1;32m    273\u001B[0m         coding_scheme_manager, target\u001B[38;5;241m.\u001B[39moutcome, target\u001B[38;5;241m.\u001B[39mdx_discharge\u001B[38;5;241m.\u001B[39mname\n\u001B[1;32m    274\u001B[0m     ), \u001B[38;5;124mf\u001B[39m\u001B[38;5;124m\"\u001B[39m\u001B[38;5;124mOutcome \u001B[39m\u001B[38;5;132;01m{\u001B[39;00mtarget\u001B[38;5;241m.\u001B[39moutcome\u001B[38;5;241m.\u001B[39mname\u001B[38;5;132;01m}\u001B[39;00m\u001B[38;5;124m not supported for \u001B[39m\u001B[38;5;132;01m{\u001B[39;00mtarget\u001B[38;5;241m.\u001B[39mdx_discharge\u001B[38;5;241m.\u001B[39mname\u001B[38;5;132;01m}\u001B[39;00m\u001B[38;5;124m\"\u001B[39m\n",
      "\u001B[0;31mKeyError\u001B[0m: 'ethnicity'"
     ]
    }
   ],
   "execution_count": 6
  }
 ],
 "metadata": {
  "kernelspec": {
   "display_name": "Python 3 (ipykernel)",
   "language": "python",
   "name": "python3"
  },
  "language_info": {
   "codemirror_mode": {
    "name": "ipython",
    "version": 3
   },
   "file_extension": ".py",
   "mimetype": "text/x-python",
   "name": "python",
   "nbconvert_exporter": "python",
   "pygments_lexer": "ipython3",
   "version": "3.10.12"
  }
 },
 "nbformat": 4,
 "nbformat_minor": 5
}
