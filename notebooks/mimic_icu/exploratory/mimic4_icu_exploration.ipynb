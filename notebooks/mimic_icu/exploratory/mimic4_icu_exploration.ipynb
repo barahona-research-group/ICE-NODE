{
 "cells": [
  {
   "cell_type": "code",
   "execution_count": 1,
   "id": "5a0973b9",
   "metadata": {
    "ExecuteTime": {
     "end_time": "2024-03-05T16:59:34.662439Z",
     "start_time": "2024-03-05T16:59:33.299079Z"
    }
   },
   "outputs": [],
   "source": [
    "%load_ext autoreload\n",
    "%autoreload 2\n",
    "\n",
    "import sys\n",
    "from collections import OrderedDict\n",
    "\n",
    "import matplotlib.pyplot as plt\n",
    "import numpy as np\n",
    "import pandas as pd\n",
    "\n",
    "sys.path.append(\"../../..\")\n",
    "\n",
    "import lib.ehr.example_datasets.mimiciv as m4\n",
    "import lib.ehr.example_datasets.mimiciv_aki as m4aki"
   ]
  },
  {
   "cell_type": "code",
   "outputs": [],
   "source": [
    "# create a database connection\n",
    "sqluser = 'postgres'\n",
    "dbname = 'mimiciv'\n",
    "hostname = 'localhost'\n",
    "password = 'qwerasdf'\n",
    "port = '5432'\n",
    "\n",
    "mimiciv_config = m4.MIMICIVSQLTablesConfig(host=hostname, port=port, user=sqluser, password=password, dbname=dbname)\n",
    "mimiciv_interface = m4.MIMICIVSQLTablesInterface(mimiciv_config)\n",
    "mimiciv_engine = mimiciv_interface.create_engine()\n"
   ],
   "metadata": {
    "ExecuteTime": {
     "end_time": "2024-03-05T16:59:34.687777Z",
     "start_time": "2024-03-05T16:59:34.663640Z"
    }
   },
   "id": "c5a9fd4b",
   "execution_count": 2
  },
  {
   "cell_type": "code",
   "outputs": [
    {
     "name": "stderr",
     "output_type": "stream",
     "text": [
      "/home/asem/GP/ICENODE/lib/ehr/example_datasets/mimiciv.py:614: PerformanceWarning: Adding/subtracting object-dtype array to DatetimeArray not vectorized.\n",
      "  df[self.config.date_of_birth_alias] = anchor_date + anchor_age\n"
     ]
    },
    {
     "data": {
      "text/plain": "Transforming Dataset:   0%|          | 0/11 [00:00<?, ?transformations/s]",
      "application/vnd.jupyter.widget-view+json": {
       "version_major": 2,
       "version_minor": 0,
       "model_id": "5fcd775e542b4455bcb9399b8bac85a3"
      }
     },
     "metadata": {},
     "output_type": "display_data"
    }
   ],
   "source": [
    "mimiciv_scheme_conf = m4aki.AKIMIMICIVDatasetConfig(tables=mimiciv_config)\n",
    "\n",
    "dataset_raw = m4aki.AKIMIMICIVDataset(mimiciv_scheme_conf)\n",
    "dataset = dataset_raw.execute_pipeline()\n"
   ],
   "metadata": {
    "collapsed": false,
    "ExecuteTime": {
     "end_time": "2024-03-05T17:11:35.447154Z",
     "start_time": "2024-03-05T16:59:34.688522Z"
    }
   },
   "id": "e39f9d7b959aadbd",
   "execution_count": 3
  },
  {
   "cell_type": "code",
   "outputs": [
    {
     "data": {
      "text/plain": "           gender                     race  anchor_age  anchor_year  \\\nsubject_id                                                            \n10000032        F                    WHITE          52         2180   \n10001884        F   BLACK/AFRICAN AMERICAN          68         2122   \n10002760        M         UNABLE TO OBTAIN          56         2141   \n10004764        M                    WHITE          70         2168   \n10005348        M                    WHITE          76         2128   \n...           ...                      ...         ...          ...   \n19997448        F                    WHITE          52         2121   \n19998591        F                    WHITE          52         2184   \n19999287        F                    WHITE          71         2191   \n19999297        M  MULTIPLE RACE/ETHNICITY          42         2162   \n19999840        M                    WHITE          58         2164   \n\n           date_of_birth  \nsubject_id                \n10000032      2128-01-01  \n10001884      2054-01-01  \n10002760      2085-01-01  \n10004764      2098-01-01  \n10005348      2052-01-01  \n...                  ...  \n19997448      2069-01-01  \n19998591      2132-01-01  \n19999287      2120-01-01  \n19999297      2120-01-01  \n19999840      2106-01-01  \n\n[50832 rows x 5 columns]",
      "text/html": "<div>\n<style scoped>\n    .dataframe tbody tr th:only-of-type {\n        vertical-align: middle;\n    }\n\n    .dataframe tbody tr th {\n        vertical-align: top;\n    }\n\n    .dataframe thead th {\n        text-align: right;\n    }\n</style>\n<table border=\"1\" class=\"dataframe\">\n  <thead>\n    <tr style=\"text-align: right;\">\n      <th></th>\n      <th>gender</th>\n      <th>race</th>\n      <th>anchor_age</th>\n      <th>anchor_year</th>\n      <th>date_of_birth</th>\n    </tr>\n    <tr>\n      <th>subject_id</th>\n      <th></th>\n      <th></th>\n      <th></th>\n      <th></th>\n      <th></th>\n    </tr>\n  </thead>\n  <tbody>\n    <tr>\n      <th>10000032</th>\n      <td>F</td>\n      <td>WHITE</td>\n      <td>52</td>\n      <td>2180</td>\n      <td>2128-01-01</td>\n    </tr>\n    <tr>\n      <th>10001884</th>\n      <td>F</td>\n      <td>BLACK/AFRICAN AMERICAN</td>\n      <td>68</td>\n      <td>2122</td>\n      <td>2054-01-01</td>\n    </tr>\n    <tr>\n      <th>10002760</th>\n      <td>M</td>\n      <td>UNABLE TO OBTAIN</td>\n      <td>56</td>\n      <td>2141</td>\n      <td>2085-01-01</td>\n    </tr>\n    <tr>\n      <th>10004764</th>\n      <td>M</td>\n      <td>WHITE</td>\n      <td>70</td>\n      <td>2168</td>\n      <td>2098-01-01</td>\n    </tr>\n    <tr>\n      <th>10005348</th>\n      <td>M</td>\n      <td>WHITE</td>\n      <td>76</td>\n      <td>2128</td>\n      <td>2052-01-01</td>\n    </tr>\n    <tr>\n      <th>...</th>\n      <td>...</td>\n      <td>...</td>\n      <td>...</td>\n      <td>...</td>\n      <td>...</td>\n    </tr>\n    <tr>\n      <th>19997448</th>\n      <td>F</td>\n      <td>WHITE</td>\n      <td>52</td>\n      <td>2121</td>\n      <td>2069-01-01</td>\n    </tr>\n    <tr>\n      <th>19998591</th>\n      <td>F</td>\n      <td>WHITE</td>\n      <td>52</td>\n      <td>2184</td>\n      <td>2132-01-01</td>\n    </tr>\n    <tr>\n      <th>19999287</th>\n      <td>F</td>\n      <td>WHITE</td>\n      <td>71</td>\n      <td>2191</td>\n      <td>2120-01-01</td>\n    </tr>\n    <tr>\n      <th>19999297</th>\n      <td>M</td>\n      <td>MULTIPLE RACE/ETHNICITY</td>\n      <td>42</td>\n      <td>2162</td>\n      <td>2120-01-01</td>\n    </tr>\n    <tr>\n      <th>19999840</th>\n      <td>M</td>\n      <td>WHITE</td>\n      <td>58</td>\n      <td>2164</td>\n      <td>2106-01-01</td>\n    </tr>\n  </tbody>\n</table>\n<p>50832 rows × 5 columns</p>\n</div>"
     },
     "execution_count": 4,
     "metadata": {},
     "output_type": "execute_result"
    }
   ],
   "source": [
    "dataset.tables.static"
   ],
   "metadata": {
    "collapsed": false,
    "ExecuteTime": {
     "end_time": "2024-03-05T17:11:35.551138Z",
     "start_time": "2024-03-05T17:11:35.448532Z"
    }
   },
   "id": "1b6624a64513dcd6",
   "execution_count": 4
  },
  {
   "cell_type": "code",
   "outputs": [],
   "source": [
    "dataset.save(\"mimiciv_aki_dataset.h5\", overwrite=True)"
   ],
   "metadata": {
    "collapsed": false,
    "ExecuteTime": {
     "end_time": "2024-03-05T17:12:46.900656Z",
     "start_time": "2024-03-05T17:11:35.551910Z"
    }
   },
   "id": "4adb7cc562388089",
   "execution_count": 5
  },
  {
   "cell_type": "markdown",
   "id": "b08bb8db",
   "metadata": {},
   "source": [
    "## Preprocessing\n",
    "\n",
    "Preparation into Dataset:\n",
    "\n",
    "- Inputs:\n",
    "    - selection of race (optional).\n",
    "    - selection of dx_codes (optional).\n",
    "    - selection of icu_proc codes (optional).\n",
    "    - selection of icu_inputs codes (optional).\n",
    "    - selection of hosp_proc codes (optional).\n",
    "    - selection of subjects from a function indicating an aki availability.\n",
    "    - icu_input unit-of-measurement conversion table.\n",
    "- Pipeline:\n",
    "    - Set Indices.\n",
    "    - Select subjects with at least one aki measurement (synchronize all).\n",
    "    - Cast Datetime.\n",
    "    - Merge overlapping admissions (remap hadm_id in all).\n",
    "    - Remove subjects having admissions with negative intervals (ensure the negative interval is handled correctly when merging overlaps.).\n",
    "    - Filter timestamped measurement outside the admittime/dischtime.\n",
    "    - Filter interventional intervals entirely outside admittime/dischtime.\n",
    "    - Clip overlapping interventional intervals to admittime/dischtime.\n",
    "    - Filter unsupported codes.\n",
    "    - Unit-normalize amount_per_hour.\n",
    "    - Remove subjects with invalid input rates.\n",
    "    - Replace Alphaneumeric Codes with Integer Indices.\n",
    "    - Replace timestamps with relative times from admission time.\n",
    "\n",
    "- Output: MIMICIVDataset (7 data tables + 7 scheme objects).\n",
    "    - `static_df` + (race_scheme, gender_scheme) \n",
    "    - `adm_df`\n",
    "    - `dx_df` + (dx_scheme: MixedICDScheme)\n",
    "    - `obs_df` + (obs_scheme: MIMICObsScheme)\n",
    "    - `icu_proc_df` + (icu_proc_scheme: ItemBasedScheme)\n",
    "    - `icu_input_df` + (icu_input_scheme: ItemBasedScheme)\n",
    "    - `hosp_proc_df` + (hocp_proc_scheme: MixedICDScheme)\n",
    " \n",
    "\n",
    "Preparation into DynSys interface:\n",
    "\n",
    "- Inputs:\n",
    "    - Dataset\n",
    "    - target::race_scheme, target::gender_scheme\n",
    "    - target::proc_scheme (groups `icu_proc_df` + `hosp_proc_df` into `proc_df`).\n",
    "    - target::input (group-aggregates `icu_input_df` items)\n",
    "    - target::dx_scheme\n",
    "    - outcome_extractor\n",
    "    - leading_config\n",
    "    - aggregation configuration:\n",
    "        - conditional aggregation measurements with small timescales, e.g.  quantile75(dt) < 1-hour\n",
    "        - hard aggregation, fixed time_bin interval.\n",
    "    - splits\n",
    "    - config outlier removal + rescaling.\n",
    "- Pipeline:\n",
    "    - Sample Subjects.\n",
    "    - Outlier removal and rescaling.\n",
    "    - Vectorize:\n",
    "        - dx\n",
    "        - dx_history\n",
    "        - obs\n",
    "        - input\n",
    "        - proc\n",
    "    - observations conditional aggregation OR hard aggregation.\n",
    "    - Vectorize:\n",
    "        - lead (extracted after aggregation of obs)\n",
    "    - Exclude admissions with less than 12 hours stay (it comes after vectorize so dx_history do not miss preceding admissions).\n",
    "- Output: DynEHRSystem (original dataset + VecPatients + 5 target_schemes + outcome_extractor + leaf_config)  \n",
    "\n"
   ]
  },
  {
   "cell_type": "markdown",
   "id": "ea32e37d",
   "metadata": {},
   "source": [
    "### Interventions\n",
    "\n"
   ]
  },
  {
   "cell_type": "markdown",
   "id": "bbc041fa",
   "metadata": {},
   "source": [
    "### `hospicdproc` + `icuproc` Further filteration and grouper"
   ]
  },
  {
   "cell_type": "code",
   "execution_count": null,
   "id": "85e05ed6",
   "metadata": {},
   "outputs": [],
   "source": [
    "df = hospicdproc_df.merge(adm_df, on='hadm_id', how='left')\n",
    "\n",
    "# timeperc_within_stay = (df['start_time'] - df['admittime']).dt.total_seconds() /(df['dischtime'] - df['admittime']).dt.total_seconds()\n",
    "# timeperc_within_stay.plot.kde()"
   ]
  },
  {
   "cell_type": "code",
   "execution_count": null,
   "id": "f900c29c",
   "metadata": {},
   "outputs": [],
   "source": [
    "icd_n_subjects = df.groupby(['icd_code', 'long_title', 'icd_version'], as_index=False).agg(\n",
    "    n_subjects=('subject_id', 'nunique'))\n",
    "icd_n_subjects['p_subjects'] = icd_n_subjects['n_subjects'] / len(subject_id_with_renal_info)\n",
    "# icd_n_subjects['p_subjects'].plot.kde()"
   ]
  },
  {
   "cell_type": "markdown",
   "id": "c705e457",
   "metadata": {},
   "source": [
    "### 'icuproc` refinement"
   ]
  },
  {
   "cell_type": "markdown",
   "id": "7d4c4cff",
   "metadata": {},
   "source": [
    "#### Standard Procedure Table"
   ]
  },
  {
   "cell_type": "markdown",
   "id": "476b5a8e",
   "metadata": {},
   "source": [
    "### `input` filteration and refinement"
   ]
  },
  {
   "cell_type": "markdown",
   "id": "2ce95dc3",
   "metadata": {},
   "source": [
    "#### Normalise rates of different units for the same input item"
   ]
  },
  {
   "cell_type": "code",
   "execution_count": null,
   "id": "c89c5f99",
   "metadata": {},
   "outputs": [],
   "source": [
    "rate_scaler = dict(zip(map(lambda c1, c2: f'{c1}-{c2}', int_grouper_input_df.label, int_grouper_input_df.amountuom),\n",
    "                       int_grouper_input_df.rate_normaliser))\n",
    "\n",
    "input_df['label-uom'] = list(map(lambda c1, c2: f'{c1}-{c2}', input_df.label, input_df.amountuom))\n",
    "input_df['normalised_amount_per_hour'] = input_df['amount_per_hour'] * input_df['label-uom'].map(rate_scaler)"
   ]
  },
  {
   "cell_type": "code",
   "execution_count": null,
   "id": "7a6a7055",
   "metadata": {},
   "outputs": [],
   "source": [
    "input_df = input_df[['hadm_id', 'start_time', 'end_time', 'label', 'normalised_amount_per_hour']]"
   ]
  },
  {
   "cell_type": "code",
   "execution_count": null,
   "id": "633c488c",
   "metadata": {},
   "outputs": [],
   "source": [
    "input_df.to_csv('int_input.csv.gz', compression='gzip')"
   ]
  },
  {
   "cell_type": "code",
   "execution_count": null,
   "id": "ab546964",
   "metadata": {},
   "outputs": [],
   "source": [
    "input_df"
   ]
  },
  {
   "cell_type": "markdown",
   "id": "64222b45",
   "metadata": {},
   "source": [
    "## Dx Codes Filteration"
   ]
  },
  {
   "cell_type": "code",
   "execution_count": null,
   "id": "0d4f5910",
   "metadata": {},
   "outputs": [],
   "source": [
    "def filter_discharge_codes(df, subject_id_selection=None):\n",
    "    n = OrderedDict()\n",
    "    n['n0'] = len(df)\n",
    "\n",
    "    cols = df.columns\n",
    "\n",
    "    # (1) Filter discharge codes if subject has a single admission.\n",
    "    n_adms = df.groupby('subject_id', as_index=False).agg(n_adms=('hadm_id', 'nunique'))\n",
    "    n_adms_subjects = set(n_adms[n_adms['n_adms'] > 1].subject_id)\n",
    "    df = df[df.subject_id.isin(n_adms_subjects)]\n",
    "\n",
    "    n['n adm. > 1 filter'] = len(df)\n",
    "\n",
    "    # (2) Filter discharge dx codes based on subject_id selection\n",
    "    if subject_id_selection is not None:\n",
    "        df = df[df.subject_id.isin(subject_id_selection)]\n",
    "\n",
    "    n['n subj. filter'] = len(df)\n",
    "\n",
    "    print('\\n'.join(f'{filt}: {num} ({100 * num / n[\"n0\"]:.1f})' for filt, num in n.items()))\n",
    "    print('\\n========\\n')\n",
    "    return df"
   ]
  },
  {
   "cell_type": "code",
   "execution_count": null,
   "id": "dca0531f",
   "metadata": {},
   "outputs": [],
   "source": [
    "dx_query = f\"\"\"\n",
    "SELECT\n",
    "    hadm_id, subject_id, icd_code, icd_version\n",
    "FROM mimiciv_hosp.diagnoses_icd \n",
    "\"\"\"\n",
    "dx_df = pd.read_sql_query(dx_query, con)"
   ]
  },
  {
   "cell_type": "code",
   "execution_count": null,
   "id": "008c13cb",
   "metadata": {},
   "outputs": [],
   "source": [
    "dx_df = filter_discharge_codes(dx_df, subject_id_selection=subject_id_with_renal_info)"
   ]
  },
  {
   "cell_type": "markdown",
   "id": "512de513",
   "metadata": {},
   "source": [
    "## Admissions & Static Tables "
   ]
  },
  {
   "cell_type": "code",
   "execution_count": null,
   "id": "c0f8f426",
   "metadata": {},
   "outputs": [],
   "source": [
    "def filter_admissions(df, subject_id_selection=None):\n",
    "    n = OrderedDict()\n",
    "    n['n0'] = len(df)\n",
    "\n",
    "    cols = df.columns\n",
    "\n",
    "    # (1) Filter discharge dx codes based on subject_id selection\n",
    "    if subject_id_selection is not None:\n",
    "        df = df[df.subject_id.isin(subject_id_selection)]\n",
    "\n",
    "    n['n subj. filter'] = len(df)\n",
    "\n",
    "    print('\\n'.join(f'{filt}: {num} ({100 * num / n[\"n0\"]:.1f})' for filt, num in n.items()))\n",
    "    print('\\n========\\n')\n",
    "    return df"
   ]
  },
  {
   "cell_type": "code",
   "execution_count": null,
   "id": "043c3e7a",
   "metadata": {},
   "outputs": [],
   "source": [
    "adm_df = filter_admissions(adm_df, subject_id_selection=subject_id_with_renal_info)\n",
    "static_df = filter_admissions(static_df, subject_id_selection=subject_id_with_renal_info)\n"
   ]
  },
  {
   "cell_type": "code",
   "execution_count": null,
   "id": "929cc89e",
   "metadata": {},
   "outputs": [],
   "source": [
    "adm_df.to_csv('adm_df.csv.gz', compression='gzip')\n",
    "static_df.to_csv('static_df.csv.gz', compression='gzip')"
   ]
  },
  {
   "cell_type": "code",
   "execution_count": null,
   "id": "e229e060",
   "metadata": {},
   "outputs": [],
   "source": [
    "\n",
    "# static_df.groupby('race', as_index=False).agg(n=('subject_id', 'count')).to_csv('race_groups.csv', compression='gzip')\n",
    "race_groups_df = pd.read_csv('race_grouper.csv', index_col=0)"
   ]
  },
  {
   "cell_type": "code",
   "execution_count": null,
   "id": "ca165b58",
   "metadata": {},
   "outputs": [],
   "source": [
    "race_groups_df.to_csv('mimic4_race_grouper.csv.gz', compression='gzip')"
   ]
  },
  {
   "cell_type": "code",
   "execution_count": null,
   "id": "694eb82f",
   "metadata": {},
   "outputs": [],
   "source": [
    "import seaborn as sns\n",
    "import sys\n",
    "\n",
    "sys.path.append(\"../../..\")\n",
    "\n",
    "from lib.ehr.coding_scheme import MIMIC4Observables\n",
    "\n",
    "C = MIMIC4Observables()\n",
    "\n",
    "z_min = -2.5\n",
    "z_max = -z_min\n",
    "q_min = 0.1\n",
    "q_max = 1 - q_min\n",
    "\n",
    "for code in sorted(m4inpatient_dataset.df['obs'].code.unique()):\n",
    "    df = m4inpatient_dataset.df['obs']\n",
    "    code_df = df[df.code == code]\n",
    "\n",
    "    q1 = code_df.value.quantile(q_min)\n",
    "    q2 = code_df.value.quantile(q_max)\n",
    "    qin_mask = code_df.value.between(q1, q2)\n",
    "\n",
    "    mu = code_df.value.mean()\n",
    "    std = code_df.value.std()\n",
    "    code_df['z'] = (code_df.value - mu) / std\n",
    "    x1 = mu + z_min * std\n",
    "    x2 = mu + z_max * std\n",
    "\n",
    "    zin_mask = code_df.z.between(z_min, z_max)\n",
    "\n",
    "    textstr = '\\n'.join((\n",
    "        f'n={len(code_df)}',\n",
    "        f'(min, max): ({code_df.value.min():0.2f}, {code_df.value.max():0.2f})',\n",
    "        f'p(qin): {qin_mask.mean():0.3f}',\n",
    "        f'p(zin): {zin_mask.mean():0.3f}',\n",
    "        f'p(zin or qin): {(qin_mask | zin_mask).mean(): 0.3f}'))\n",
    "    props = dict(boxstyle='round', facecolor='wheat', alpha=0.5)\n",
    "\n",
    "    g = sns.displot(code_df, x=\"value\", kde=True)\n",
    "\n",
    "    for ax in g.axes.flat:\n",
    "        args = zip([x1, x2, q1, q2],\n",
    "                   [\"solid\", \"solid\", \"dashed\", \"dashed\"],\n",
    "                   [\"red\", \"red\", \"red\", \"red\"])\n",
    "        ax.set_title(C.desc[code])\n",
    "        # place a text box in upper left in axes coords\n",
    "        ax.text(0.05, 0.95, textstr, transform=ax.transAxes, fontsize=10,\n",
    "                verticalalignment='top', bbox=props)\n",
    "        for x, style, color in args:\n",
    "            ax.axvline(x=x, ymin=0, ymax=1.0, linestyle=style, color=color)\n",
    "    g.savefig(f\"obs_outlier__{code}_{C.desc[code]}.pdf\", bbox_inches='tight')"
   ]
  }
 ],
 "metadata": {
  "kernelspec": {
   "display_name": "Python 3 (ipykernel)",
   "language": "python",
   "name": "python3"
  },
  "language_info": {
   "codemirror_mode": {
    "name": "ipython",
    "version": 3
   },
   "file_extension": ".py",
   "mimetype": "text/x-python",
   "name": "python",
   "nbconvert_exporter": "python",
   "pygments_lexer": "ipython3",
   "version": "3.10.12"
  }
 },
 "nbformat": 4,
 "nbformat_minor": 5
}
