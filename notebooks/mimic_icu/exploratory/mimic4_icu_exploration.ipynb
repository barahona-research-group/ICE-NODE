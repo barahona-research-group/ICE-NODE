{
 "cells": [
  {
   "cell_type": "code",
   "execution_count": 1,
   "id": "5a0973b9",
   "metadata": {
    "ExecuteTime": {
     "end_time": "2024-04-18T18:04:39.867871Z",
     "start_time": "2024-04-18T18:04:36.222938Z"
    }
   },
   "outputs": [],
   "source": [
    "%load_ext autoreload\n",
    "%autoreload 2\n",
    "\n",
    "import sys\n",
    "from collections import OrderedDict\n",
    "\n",
    "import matplotlib.pyplot as plt\n",
    "import numpy as np\n",
    "import pandas as pd\n",
    "\n",
    "sys.path.append(\"../../..\")\n",
    "\n",
    "import lib.ehr.example_datasets.mimiciv_aki as m4aki\n",
    "from lib.ehr.tvx_ehr import TVxEHR\n",
    "from lib.utils import modified_environ, write_config\n"
   ]
  },
  {
   "cell_type": "code",
   "execution_count": 2,
   "id": "c5a9fd4b",
   "metadata": {
    "ExecuteTime": {
     "end_time": "2024-04-18T18:04:39.889356Z",
     "start_time": "2024-04-18T18:04:39.868793Z"
    }
   },
   "outputs": [],
   "source": [
    "# create a database connection\n",
    "sqluser = 'postgres'\n",
    "dbname = 'mimiciv'\n",
    "hostname = 'localhost'\n",
    "password = 'qwerasdf'\n",
    "port = '5432'\n",
    "\n",
    "url = f'postgresql+psycopg2://{sqluser}:{password}@{hostname}:{port}/{dbname}'\n",
    "\n",
    "with modified_environ(MIMICIV_URL=url):\n",
    "    mimiciv_config = m4aki.AKIMIMICIVDatasetConfig()\n",
    "    tvx_config = m4aki.TVxAKIMIMICIVDatasetConfig()\n",
    "\n",
    "    write_config(mimiciv_config.to_dict(), 'dataset_mimiciv_aki_config.json')\n",
    "    write_config(tvx_config.to_dict(), 'tvx_mimiciv_aki_config.json')\n"
   ]
  },
  {
   "cell_type": "code",
   "execution_count": 3,
   "id": "8448e76db65f2acd",
   "metadata": {
    "ExecuteTime": {
     "end_time": "2024-04-18T18:10:50.722946Z",
     "start_time": "2024-04-18T18:04:39.890087Z"
    },
    "collapsed": false,
    "jupyter": {
     "outputs_hidden": false
    }
   },
   "outputs": [],
   "source": [
    "# with modified_environ(MIMICIV_URL=url):\n",
    "#     dataset = m4aki.AKIMIMICIVDataset(config=mimiciv_config)           \n",
    "# dataset = dataset.execute_pipeline()\n",
    "# tvx = m4aki.TVxAKIMIMICIVDataset(config=tvx_config, dataset=dataset)\n",
    "# tvx = tvx.execute_pipeline()"
   ]
  },
  {
   "cell_type": "code",
   "execution_count": 4,
   "id": "912bbdd5-496b-4a1f-8561-3ec6ee5a5541",
   "metadata": {},
   "outputs": [],
   "source": [
    "# tvx.dataset.pipeline_report.to_csv('dataset_pipeline_report.csv')\n",
    "# tvx.pipeline_report.to_csv('tvx_pipeline_report.csv')\n",
    "# tvx.save('tvx_aki.h5', True)"
   ]
  },
  {
   "cell_type": "code",
   "execution_count": 5,
   "id": "42ee2530-aa19-4c36-aaa3-1853b21d4ce1",
   "metadata": {},
   "outputs": [],
   "source": [
    "# tvx = m4aki.TVxAKIMIMICIVDataset.load('tvx_aki.h5')"
   ]
  },
  {
   "cell_type": "code",
   "execution_count": 6,
   "id": "7859050a-f14f-49f0-ae4b-fac996b86fec",
   "metadata": {},
   "outputs": [],
   "source": [
    "# from lib.ehr.tvx_transformations import TrainingSplitGroups\n",
    "# tvx_list = TrainingSplitGroups()(tvx, n_groups=10, seed=0)"
   ]
  },
  {
   "cell_type": "code",
   "execution_count": 7,
   "id": "529f5271-f65e-4d07-9fd4-c3e4a2e63d11",
   "metadata": {},
   "outputs": [],
   "source": [
    "# for i, tvx_item in enumerate(tvx_list):\n",
    "#     tvx_item.save(f'tvx_aki_training_groups/tvx_aki_{i}.h5', True)"
   ]
  },
  {
   "cell_type": "code",
   "execution_count": 8,
   "id": "840e563f-5165-464f-b63c-bbe681742ee8",
   "metadata": {},
   "outputs": [],
   "source": [
    "tvx0 = m4aki.TVxAKIMIMICIVDataset.load('tvx_aki_training_groups/tvx_aki_0.h5')"
   ]
  },
  {
   "cell_type": "code",
   "execution_count": 9,
   "id": "dfd4a0e3-0164-4e7d-b61a-4d49e7e246e4",
   "metadata": {},
   "outputs": [
    {
     "data": {
      "text/plain": [
       "3006"
      ]
     },
     "execution_count": 9,
     "metadata": {},
     "output_type": "execute_result"
    }
   ],
   "source": [
    "len(tvx0.subjects)"
   ]
  },
  {
   "cell_type": "code",
   "execution_count": 10,
   "id": "f3b7e79a-5f92-4f02-9b18-962600f406c2",
   "metadata": {},
   "outputs": [],
   "source": [
    "from lib.ml.embeddings import InICENODEEmbeddingsConfig, InterventionsEmbeddingsConfig\n",
    "from lib.ml.in_models import InpatientModelConfig, InICENODELite\n",
    "from lib.ml.model import Precomputes"
   ]
  },
  {
   "cell_type": "code",
   "execution_count": 11,
   "id": "5a9e5aad-f965-4027-9b4e-fbe0c6cca3d4",
   "metadata": {},
   "outputs": [],
   "source": [
    "emb_config = InICENODEEmbeddingsConfig(dx_codes=50, demographic=10, \n",
    "                                       interventions=InterventionsEmbeddingsConfig(icu_inputs=10,\n",
    "                                                                                   icu_procedures=10,\n",
    "                                                                                   hosp_procedures=10,\n",
    "                                                                                   interventions=20))\n",
    "\n",
    "model_config = InpatientModelConfig(state=50, lead_predictor='monotonic')"
   ]
  },
  {
   "cell_type": "code",
   "execution_count": 12,
   "id": "95b9bfcc-388a-44f6-94d2-a0100f68a6dc",
   "metadata": {},
   "outputs": [
    {
     "name": "stderr",
     "output_type": "stream",
     "text": [
      "2024-05-08 16:26:10.010978: W external/xla/xla/service/gpu/nvptx_compiler.cc:718] The NVIDIA driver's CUDA version is 12.2 which is older than the ptxas CUDA version (12.4.131). Because the driver is older than the ptxas version, XLA is disabling parallel compilation, which may slow down compilation. You should update your NVIDIA driver or use the NVIDIA-provided CUDA forward compatibility packages.\n"
     ]
    }
   ],
   "source": [
    "import jax.random as jrandom\n",
    "\n",
    "model = InICENODELite.from_tvx_ehr(tvx_ehr=tvx0, config=model_config, embeddings_config=emb_config)\n",
    "                  "
   ]
  },
  {
   "cell_type": "code",
   "execution_count": 13,
   "id": "4539aba8-9819-4562-bbef-14da46b3387d",
   "metadata": {},
   "outputs": [
    {
     "data": {
      "text/plain": [
       "LeadingObservableExtractorConfig(\n",
       "  observable_code='renal_aki.aki_binary',\n",
       "  scheme='mimiciv.aki_study.obs',\n",
       "  leading_hours=[6.0, 12.0, 24.0, 48.0, 72.0],\n",
       "  entry_neglect_window=6.0,\n",
       "  minimum_acquisitions=2,\n",
       "  recovery_window=12.0\n",
       ")"
      ]
     },
     "execution_count": 13,
     "metadata": {},
     "output_type": "execute_result"
    }
   ],
   "source": [
    "tvx0.config.leading_observable"
   ]
  },
  {
   "cell_type": "code",
   "execution_count": 14,
   "id": "610b56fd-e016-4eac-9c66-03d05c7a13eb",
   "metadata": {},
   "outputs": [
    {
     "data": {
      "text/plain": [
       "SegmentedAdmission(\n",
       "  admission_id='28094813',\n",
       "  admission_dates=AdmissionDates(\n",
       "    admission=Timestamp('2141-04-20 07:15:00'),\n",
       "    discharge=Timestamp('2141-04-24 13:31:00')\n",
       "  ),\n",
       "  dx_codes=CodesVector(vec=bool[17375](numpy), scheme='dx_icd9'),\n",
       "  dx_codes_history=CodesVector(vec=bool[17375](numpy), scheme='dx_icd9'),\n",
       "  outcome=CodesVector(vec=bool[11535](numpy), scheme='dx_icd9_v1'),\n",
       "  observables=SegmentedInpatientObservables(\n",
       "    time=f64[62](numpy),\n",
       "    value=f16[62,100](numpy),\n",
       "    mask=bool[62,100](numpy),\n",
       "    extra_layers=(),\n",
       "    indexed_split=i64[61](numpy)\n",
       "  ),\n",
       "  interventions=SegmentedInpatientInterventions(\n",
       "    time=f64[100](numpy),\n",
       "    icu_inputs=f16[99,320](numpy),\n",
       "    icu_procedures=bool[99,23](numpy),\n",
       "    hosp_procedures=None\n",
       "  ),\n",
       "  leading_observable=SegmentedInpatientObservables(\n",
       "    time=f64[62](numpy),\n",
       "    value=f64[62,5](numpy),\n",
       "    mask=bool[62,5](numpy),\n",
       "    extra_layers=(),\n",
       "    indexed_split=i64[61](numpy)\n",
       "  )\n",
       ")"
      ]
     },
     "execution_count": 14,
     "metadata": {},
     "output_type": "execute_result"
    }
   ],
   "source": [
    "tvx0.subjects['10002760'].admissions[0]"
   ]
  },
  {
   "cell_type": "code",
   "execution_count": 15,
   "id": "beb746d3-f091-4a25-84a6-252b0ebce427",
   "metadata": {},
   "outputs": [],
   "source": [
    "adm = tvx0.subjects['10002760'].admissions[0]\n",
    "admission_emb = model.f_emb(adm, tvx0.admission_demographics[adm.admission_id])"
   ]
  },
  {
   "cell_type": "code",
   "execution_count": 16,
   "id": "3e1e3707-1ec3-4b55-aefb-2dd7f89ce83a",
   "metadata": {},
   "outputs": [
    {
     "data": {
      "text/plain": [
       "array([[ True,  True,  True,  True,  True],\n",
       "       [ True,  True,  True,  True,  True],\n",
       "       [ True,  True,  True,  True,  True],\n",
       "       [ True,  True,  True,  True,  True],\n",
       "       [ True,  True,  True,  True,  True],\n",
       "       [ True,  True,  True,  True,  True],\n",
       "       [ True,  True,  True,  True,  True],\n",
       "       [ True,  True,  True,  True,  True],\n",
       "       [ True,  True,  True,  True,  True],\n",
       "       [ True,  True,  True,  True,  True],\n",
       "       [ True,  True,  True,  True,  True],\n",
       "       [ True,  True,  True,  True,  True],\n",
       "       [ True,  True,  True,  True,  True],\n",
       "       [ True,  True,  True,  True,  True],\n",
       "       [ True,  True,  True,  True,  True],\n",
       "       [ True,  True,  True,  True,  True],\n",
       "       [ True,  True,  True,  True,  True],\n",
       "       [ True,  True,  True,  True,  True],\n",
       "       [ True,  True,  True,  True,  True],\n",
       "       [ True,  True,  True,  True,  True],\n",
       "       [ True,  True,  True,  True,  True],\n",
       "       [ True,  True,  True,  True,  True],\n",
       "       [ True,  True,  True,  True,  True],\n",
       "       [ True,  True,  True,  True,  True],\n",
       "       [ True,  True,  True,  True,  True],\n",
       "       [ True,  True,  True,  True,  True],\n",
       "       [ True,  True,  True,  True,  True],\n",
       "       [ True,  True,  True,  True,  True],\n",
       "       [ True,  True,  True,  True,  True],\n",
       "       [ True,  True,  True,  True,  True],\n",
       "       [ True,  True,  True,  True,  True],\n",
       "       [ True,  True,  True,  True,  True],\n",
       "       [ True,  True,  True,  True,  True],\n",
       "       [ True,  True,  True,  True,  True],\n",
       "       [ True,  True,  True,  True,  True],\n",
       "       [ True,  True,  True,  True,  True],\n",
       "       [ True,  True,  True,  True,  True],\n",
       "       [ True,  True,  True,  True,  True],\n",
       "       [ True,  True,  True,  True,  True],\n",
       "       [ True,  True,  True,  True,  True],\n",
       "       [ True,  True,  True,  True,  True],\n",
       "       [ True,  True,  True,  True,  True],\n",
       "       [ True,  True,  True,  True,  True],\n",
       "       [ True,  True,  True,  True,  True],\n",
       "       [ True,  True,  True,  True,  True],\n",
       "       [ True,  True,  True,  True,  True],\n",
       "       [ True,  True,  True,  True,  True],\n",
       "       [ True,  True,  True,  True,  True],\n",
       "       [ True,  True,  True,  True,  True],\n",
       "       [ True,  True,  True,  True,  True],\n",
       "       [ True,  True,  True,  True,  True],\n",
       "       [ True,  True,  True,  True,  True],\n",
       "       [ True,  True,  True,  True,  True],\n",
       "       [ True,  True,  True,  True,  True],\n",
       "       [ True,  True,  True,  True,  True],\n",
       "       [False, False, False, False, False],\n",
       "       [False, False, False, False, False],\n",
       "       [False, False, False, False, False],\n",
       "       [False, False, False, False, False],\n",
       "       [False, False, False, False, False],\n",
       "       [False, False, False, False, False],\n",
       "       [False, False, False, False, False]])"
      ]
     },
     "execution_count": 16,
     "metadata": {},
     "output_type": "execute_result"
    }
   ],
   "source": [
    "adm.leading_observable.mask"
   ]
  },
  {
   "cell_type": "code",
   "execution_count": 17,
   "id": "8b4f074a-4534-47af-a941-5e91b4c3dd54",
   "metadata": {},
   "outputs": [],
   "source": [
    "out = model(admission=adm, embedded_admission=admission_emb, precomputes=Precomputes())"
   ]
  },
  {
   "cell_type": "code",
   "execution_count": 18,
   "id": "0279c0f4-e79c-4765-ae5e-04130c13eaa3",
   "metadata": {},
   "outputs": [
    {
     "data": {
      "text/plain": [
       "Array([[0.0966782 , 0.19454093, 0.29660878, 0.36838916, 0.4557795 ],\n",
       "       [0.09867333, 0.19896655, 0.3045075 , 0.37886837, 0.467533  ],\n",
       "       [0.09875115, 0.19728632, 0.29887462, 0.37391573, 0.46282706],\n",
       "       [0.09927674, 0.19696286, 0.2973865 , 0.37288442, 0.4618947 ],\n",
       "       [0.09974988, 0.19704977, 0.29715863, 0.37304276, 0.4622225 ],\n",
       "       [0.10000454, 0.19732764, 0.30007407, 0.3784217 , 0.4674242 ],\n",
       "       [0.09902725, 0.19384083, 0.2940572 , 0.36961794, 0.4580361 ],\n",
       "       [0.09760293, 0.19187033, 0.29134798, 0.36399955, 0.45201167],\n",
       "       [0.0997486 , 0.19841696, 0.30124795, 0.37734216, 0.4663714 ],\n",
       "       [0.09791612, 0.198703  , 0.30414695, 0.38060912, 0.4684422 ],\n",
       "       [0.09683371, 0.19850868, 0.30482972, 0.38123897, 0.46859574],\n",
       "       [0.09798314, 0.20044656, 0.3057827 , 0.3830766 , 0.4717048 ],\n",
       "       [0.09731258, 0.1956862 , 0.29815924, 0.37664837, 0.46493492],\n",
       "       [0.09763475, 0.19839062, 0.30324957, 0.38137835, 0.47074044],\n",
       "       [0.09687101, 0.19537607, 0.29769012, 0.3743858 , 0.4654473 ],\n",
       "       [0.0973224 , 0.19809327, 0.30296615, 0.38026512, 0.47079808],\n",
       "       [0.09988076, 0.19915602, 0.30287597, 0.3802761 , 0.47112453],\n",
       "       [0.09886497, 0.19970638, 0.30492488, 0.38253784, 0.47305605],\n",
       "       [0.09798612, 0.19969991, 0.30532476, 0.38323176, 0.47359392],\n",
       "       [0.09982463, 0.19844358, 0.30206567, 0.37999406, 0.47138143],\n",
       "       [0.10078767, 0.20155902, 0.30944017, 0.3871304 , 0.47710449],\n",
       "       [0.09813965, 0.19931361, 0.30676988, 0.3833314 , 0.47182268],\n",
       "       [0.09750178, 0.19877675, 0.3052605 , 0.3831107 , 0.47285742],\n",
       "       [0.09832026, 0.19903387, 0.3030529 , 0.38032958, 0.47067493],\n",
       "       [0.09888589, 0.19953391, 0.30524668, 0.38267636, 0.47311512],\n",
       "       [0.09898546, 0.1974365 , 0.30018327, 0.37697002, 0.46839172],\n",
       "       [0.09912389, 0.19812532, 0.30343536, 0.38123122, 0.4724471 ],\n",
       "       [0.09871262, 0.19787806, 0.30387285, 0.38242042, 0.4735025 ],\n",
       "       [0.09800861, 0.19714433, 0.30324313, 0.38216203, 0.47312978],\n",
       "       [0.09731287, 0.19638471, 0.30245653, 0.38151237, 0.47237304],\n",
       "       [0.09680437, 0.1958228 , 0.3018678 , 0.38097328, 0.47175235],\n",
       "       [0.09675861, 0.19690937, 0.3037754 , 0.38303703, 0.4734048 ],\n",
       "       [0.09985851, 0.19717826, 0.3018557 , 0.37918338, 0.4702181 ],\n",
       "       [0.09768245, 0.19742228, 0.30400392, 0.38064414, 0.46972045],\n",
       "       [0.09722771, 0.1972837 , 0.30412984, 0.38262683, 0.47277075],\n",
       "       [0.09827552, 0.19813989, 0.30365604, 0.3814619 , 0.47038335],\n",
       "       [0.0982089 , 0.19941875, 0.30676565, 0.38528612, 0.4750314 ],\n",
       "       [0.09971078, 0.19945642, 0.30413046, 0.383562  , 0.4746772 ],\n",
       "       [0.09775726, 0.19859883, 0.3050702 , 0.3826104 , 0.47157106],\n",
       "       [0.0977383 , 0.19898593, 0.30575573, 0.38418165, 0.47392574],\n",
       "       [0.09760133, 0.1991819 , 0.30530107, 0.38443226, 0.47505417],\n",
       "       [0.0996052 , 0.19794932, 0.30121297, 0.37953782, 0.47098634],\n",
       "       [0.09811521, 0.19827244, 0.3042092 , 0.38135657, 0.4705539 ],\n",
       "       [0.09773609, 0.1987301 , 0.3052208 , 0.38363624, 0.47354448],\n",
       "       [0.09970795, 0.19930199, 0.3035172 , 0.3828653 , 0.47403815],\n",
       "       [0.09884814, 0.19950178, 0.30529165, 0.3848142 , 0.4754795 ],\n",
       "       [0.09834756, 0.19934018, 0.30533698, 0.38498303, 0.4753467 ],\n",
       "       [0.0984026 , 0.19949055, 0.30553147, 0.3852874 , 0.47555605],\n",
       "       [0.09818911, 0.1988259 , 0.30557957, 0.38439792, 0.47429565],\n",
       "       [0.09866279, 0.19977757, 0.3067996 , 0.38626596, 0.4764435 ],\n",
       "       [0.09987698, 0.20136373, 0.3092405 , 0.38678774, 0.4772965 ],\n",
       "       [0.10333334, 0.20364021, 0.31211293, 0.38830373, 0.47834715],\n",
       "       [0.1045041 , 0.20374492, 0.31278116, 0.39137015, 0.48290375],\n",
       "       [0.10537948, 0.2049586 , 0.31426272, 0.3930793 , 0.48458162],\n",
       "       [0.1036173 , 0.20307373, 0.3113941 , 0.390779  , 0.48189482],\n",
       "       [0.10125768, 0.20181568, 0.3103708 , 0.3884504 , 0.47857597],\n",
       "       [0.10024643, 0.2012045 , 0.30912235, 0.38658616, 0.47647157],\n",
       "       [0.09899832, 0.19853431, 0.3040717 , 0.38125116, 0.46989712],\n",
       "       [0.10001229, 0.20154287, 0.3095078 , 0.38604885, 0.4750275 ],\n",
       "       [0.10163599, 0.20245978, 0.31028467, 0.38901165, 0.47963402],\n",
       "       [0.09958905, 0.19984294, 0.30638242, 0.38484904, 0.47460458],\n",
       "       [0.10109727, 0.2007378 , 0.30655307, 0.38561442, 0.47487935]],      dtype=float32)"
      ]
     },
     "execution_count": 18,
     "metadata": {},
     "output_type": "execute_result"
    }
   ],
   "source": [
    "out.leading_observable.value"
   ]
  },
  {
   "cell_type": "code",
   "execution_count": 19,
   "id": "0785a2d2-4049-477a-a9cb-aadf8c717c42",
   "metadata": {},
   "outputs": [],
   "source": [
    "from lib.ml.experiment import Experiment, ExperimentConfig\n",
    "from lib.ml.trainer import Trainer, TrainerConfig, OptimizerConfig, ReportingConfig, LossMixer\n",
    "\n",
    "opt = OptimizerConfig()\n",
    "trainer_config=TrainerConfig(obs_loss='mse', lead_loss='mse', optimizer=opt)\n",
    "reporting_config = ReportingConfig(output_dir='test',\n",
    "                                   console=True,\n",
    "                                   parameter_snapshots=True,\n",
    "                                   config_json=True,\n",
    "                                   model_stats=False)\n",
    "loss_mix = LossMixer()\n"
   ]
  },
  {
   "cell_type": "code",
   "execution_count": 22,
   "id": "9cb95bd2-b788-4afb-bfcf-7ea78fbd9c27",
   "metadata": {},
   "outputs": [
    {
     "data": {
      "text/plain": [
       "AdmissionTrajectoryPrediction(\n",
       "  admission=SegmentedAdmission(\n",
       "    admission_id='28094813',\n",
       "    admission_dates=AdmissionDates(\n",
       "      admission=Timestamp('2141-04-20 07:15:00'),\n",
       "      discharge=Timestamp('2141-04-24 13:31:00')\n",
       "    ),\n",
       "    dx_codes=CodesVector(vec=bool[17375](numpy), scheme='dx_icd9'),\n",
       "    dx_codes_history=CodesVector(vec=bool[17375](numpy), scheme='dx_icd9'),\n",
       "    outcome=CodesVector(vec=bool[11535](numpy), scheme='dx_icd9_v1'),\n",
       "    observables=SegmentedInpatientObservables(\n",
       "      time=f64[62](numpy),\n",
       "      value=f16[62,100](numpy),\n",
       "      mask=bool[62,100](numpy),\n",
       "      extra_layers=(),\n",
       "      indexed_split=i64[61](numpy)\n",
       "    ),\n",
       "    interventions=SegmentedInpatientInterventions(\n",
       "      time=f64[100](numpy),\n",
       "      icu_inputs=f16[99,320](numpy),\n",
       "      icu_procedures=bool[99,23](numpy),\n",
       "      hosp_procedures=None\n",
       "    ),\n",
       "    leading_observable=SegmentedInpatientObservables(\n",
       "      time=f64[62](numpy),\n",
       "      value=f64[62,5](numpy),\n",
       "      mask=bool[62,5](numpy),\n",
       "      extra_layers=(),\n",
       "      indexed_split=i64[61](numpy)\n",
       "    )\n",
       "  ),\n",
       "  observables=InpatientObservables(\n",
       "    time=f64[62](numpy),\n",
       "    value=f32[62,100],\n",
       "    mask=bool[62,100](numpy),\n",
       "    extra_layers=()\n",
       "  ),\n",
       "  leading_observable=InpatientObservables(\n",
       "    time=f64[62](numpy),\n",
       "    value=f32[62,5],\n",
       "    mask=bool[62,5],\n",
       "    extra_layers=()\n",
       "  ),\n",
       "  outcome=None,\n",
       "  trajectory=None,\n",
       "  model_behavioural_metrics=None\n",
       ")"
      ]
     },
     "execution_count": 22,
     "metadata": {},
     "output_type": "execute_result"
    }
   ],
   "source": [
    "out"
   ]
  },
  {
   "cell_type": "code",
   "execution_count": 20,
   "id": "96970763-5b7a-459e-b579-291d51da72cd",
   "metadata": {},
   "outputs": [],
   "source": [
    "experiment_config = ExperimentConfig(model=model_config,\n",
    "                                       embeddings=emb_config,\n",
    "                                       trainer=trainer_config,\n",
    "                                       model_classname='InICENODE',\n",
    "                                       trainer_classname='Trainer',\n",
    "                                       reporting=reporting_config,\n",
    "                                       model_snapshot_frequency=10,\n",
    "                                     continue_training=True,\n",
    "                                     loss_mixer=loss_mix)\n",
    "                                     \n",
    "               \n",
    "               "
   ]
  },
  {
   "cell_type": "code",
   "execution_count": 21,
   "id": "def849ef-ee04-40f1-97be-a0db4f73c0c6",
   "metadata": {},
   "outputs": [],
   "source": [
    "from lib.utils import write_config\n",
    "write_config(experiment_config.to_dict(), 'config_template.json')"
   ]
  },
  {
   "cell_type": "code",
   "execution_count": 6,
   "id": "6968eefa-500c-4b79-9987-967e1e9ff21f",
   "metadata": {},
   "outputs": [
    {
     "ename": "TypeError",
     "evalue": "unsupported operand type(s) for +: 'BatchTracer' and 'NoneType'",
     "output_type": "error",
     "traceback": [
      "\u001b[0;31m---------------------------------------------------------------------------\u001b[0m",
      "\u001b[0;31mTypeError\u001b[0m                                 Traceback (most recent call last)",
      "Cell \u001b[0;32mIn[6], line 4\u001b[0m\n\u001b[1;32m      1\u001b[0m \u001b[38;5;28;01mimport\u001b[39;00m \u001b[38;5;21;01mequinox\u001b[39;00m \u001b[38;5;28;01mas\u001b[39;00m \u001b[38;5;21;01meqx\u001b[39;00m\n\u001b[1;32m      2\u001b[0m \u001b[38;5;28;01mimport\u001b[39;00m \u001b[38;5;21;01mjax\u001b[39;00m\u001b[38;5;21;01m.\u001b[39;00m\u001b[38;5;21;01mnumpy\u001b[39;00m \u001b[38;5;28;01mas\u001b[39;00m \u001b[38;5;21;01mjnp\u001b[39;00m\n\u001b[0;32m----> 4\u001b[0m eqx\u001b[38;5;241m.\u001b[39mfilter_vmap(\u001b[38;5;28;01mlambda\u001b[39;00m a, b,c: a\u001b[38;5;241m+\u001b[39mb\u001b[38;5;241m+\u001b[39mc)(jnp\u001b[38;5;241m.\u001b[39marange(\u001b[38;5;241m10\u001b[39m), jnp\u001b[38;5;241m.\u001b[39marange(\u001b[38;5;241m10\u001b[39m), \u001b[38;5;28;01mNone\u001b[39;00m)\n",
      "File \u001b[0;32m~/GP/env/icenode-dev/lib/python3.11/site-packages/equinox/_vmap_pmap.py:219\u001b[0m, in \u001b[0;36m_VmapWrapper.__call__\u001b[0;34m(***failed resolving arguments***)\u001b[0m\n\u001b[1;32m    214\u001b[0m         \u001b[38;5;28;01mraise\u001b[39;00m \u001b[38;5;167;01mValueError\u001b[39;00m(\n\u001b[1;32m    215\u001b[0m             \u001b[38;5;124m\"\u001b[39m\u001b[38;5;124mCannot resolve batch dimension. Non-`None` `out_axes` requires \u001b[39m\u001b[38;5;124m\"\u001b[39m\n\u001b[1;32m    216\u001b[0m             \u001b[38;5;124m\"\u001b[39m\u001b[38;5;124meither `in_axes` or `axis_size` to be not `None`.\u001b[39m\u001b[38;5;124m\"\u001b[39m\n\u001b[1;32m    217\u001b[0m         )\n\u001b[1;32m    218\u001b[0m \u001b[38;5;28;01melse\u001b[39;00m:\n\u001b[0;32m--> 219\u001b[0m     vmapd, static \u001b[38;5;241m=\u001b[39m jax\u001b[38;5;241m.\u001b[39mvmap(\n\u001b[1;32m    220\u001b[0m         _fun_wrapper,\n\u001b[1;32m    221\u001b[0m         in_axes\u001b[38;5;241m=\u001b[39m(in_axes,),\n\u001b[1;32m    222\u001b[0m         out_axes\u001b[38;5;241m=\u001b[39m(\u001b[38;5;241m0\u001b[39m, \u001b[38;5;28;01mNone\u001b[39;00m),\n\u001b[1;32m    223\u001b[0m         axis_name\u001b[38;5;241m=\u001b[39m\u001b[38;5;28mself\u001b[39m\u001b[38;5;241m.\u001b[39m_axis_name,\n\u001b[1;32m    224\u001b[0m         axis_size\u001b[38;5;241m=\u001b[39m\u001b[38;5;28mself\u001b[39m\u001b[38;5;241m.\u001b[39m_axis_size,\n\u001b[1;32m    225\u001b[0m         \u001b[38;5;241m*\u001b[39m\u001b[38;5;241m*\u001b[39m\u001b[38;5;28mself\u001b[39m\u001b[38;5;241m.\u001b[39m_vmapkwargs,\n\u001b[1;32m    226\u001b[0m     )(dynamic_args)\n\u001b[1;32m    227\u001b[0m nonvmapd, out_axes \u001b[38;5;241m=\u001b[39m static\u001b[38;5;241m.\u001b[39mvalue\n\u001b[1;32m    229\u001b[0m \u001b[38;5;28;01massert\u001b[39;00m jtu\u001b[38;5;241m.\u001b[39mtree_structure(vmapd) \u001b[38;5;241m==\u001b[39m jtu\u001b[38;5;241m.\u001b[39mtree_structure(out_axes)\n",
      "    \u001b[0;31m[... skipping hidden 4 frame]\u001b[0m\n",
      "Cell \u001b[0;32mIn[6], line 4\u001b[0m, in \u001b[0;36m<lambda>\u001b[0;34m(a, b, c)\u001b[0m\n\u001b[1;32m      1\u001b[0m \u001b[38;5;28;01mimport\u001b[39;00m \u001b[38;5;21;01mequinox\u001b[39;00m \u001b[38;5;28;01mas\u001b[39;00m \u001b[38;5;21;01meqx\u001b[39;00m\n\u001b[1;32m      2\u001b[0m \u001b[38;5;28;01mimport\u001b[39;00m \u001b[38;5;21;01mjax\u001b[39;00m\u001b[38;5;21;01m.\u001b[39;00m\u001b[38;5;21;01mnumpy\u001b[39;00m \u001b[38;5;28;01mas\u001b[39;00m \u001b[38;5;21;01mjnp\u001b[39;00m\n\u001b[0;32m----> 4\u001b[0m eqx\u001b[38;5;241m.\u001b[39mfilter_vmap(\u001b[38;5;28;01mlambda\u001b[39;00m a, b,c: a\u001b[38;5;241m+\u001b[39mb\u001b[38;5;241m+\u001b[39mc)(jnp\u001b[38;5;241m.\u001b[39marange(\u001b[38;5;241m10\u001b[39m), jnp\u001b[38;5;241m.\u001b[39marange(\u001b[38;5;241m10\u001b[39m), \u001b[38;5;28;01mNone\u001b[39;00m)\n",
      "\u001b[0;31mTypeError\u001b[0m: unsupported operand type(s) for +: 'BatchTracer' and 'NoneType'"
     ]
    }
   ],
   "source": [
    "import equinox as eqx\n",
    "import jax.numpy as jnp\n",
    "\n",
    "eqx.filter_vmap(lambda a, b,c: a+b+c)(jnp.arange(10), jnp.arange(10), None)"
   ]
  },
  {
   "cell_type": "code",
   "execution_count": null,
   "id": "6d9c9928-163c-4209-b285-d015f48f9c30",
   "metadata": {},
   "outputs": [],
   "source": []
  }
 ],
 "metadata": {
  "kernelspec": {
   "display_name": "Python 3 (ipykernel)",
   "language": "python",
   "name": "python3"
  },
  "language_info": {
   "codemirror_mode": {
    "name": "ipython",
    "version": 3
   },
   "file_extension": ".py",
   "mimetype": "text/x-python",
   "name": "python",
   "nbconvert_exporter": "python",
   "pygments_lexer": "ipython3",
   "version": "3.11.8"
  }
 },
 "nbformat": 4,
 "nbformat_minor": 5
}
