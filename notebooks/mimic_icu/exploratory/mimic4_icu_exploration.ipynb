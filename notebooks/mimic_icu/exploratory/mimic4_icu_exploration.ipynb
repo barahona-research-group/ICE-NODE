{
 "cells": [
  {
   "cell_type": "code",
   "id": "5a0973b9",
   "metadata": {
    "ExecuteTime": {
     "end_time": "2024-04-29T20:57:12.205172Z",
     "start_time": "2024-04-29T20:57:06.893642Z"
    }
   },
   "source": [
    "%load_ext autoreload\n",
    "%autoreload 2\n",
    "\n",
    "import sys\n",
    "from collections import OrderedDict\n",
    "\n",
    "import matplotlib.pyplot as plt\n",
    "import numpy as np\n",
    "import pandas as pd\n",
    "\n",
    "sys.path.append(\"../../..\")\n",
    "\n",
    "import lib.ehr.example_datasets.mimiciv_aki as m4aki\n",
    "\n",
    "from lib.utils import modified_environ, write_config"
   ],
   "outputs": [],
   "execution_count": 1
  },
  {
   "cell_type": "code",
   "id": "c5a9fd4b",
   "metadata": {
    "ExecuteTime": {
     "end_time": "2024-04-29T20:57:13.578498Z",
     "start_time": "2024-04-29T20:57:13.517342Z"
    }
   },
   "source": [
    "# create a database connection\n",
    "sqluser = 'postgres'\n",
    "dbname = 'mimiciv'\n",
    "hostname = 'localhost'\n",
    "password = 'qwerasdf'\n",
    "port = '5432'\n",
    "\n",
    "url = f'postgresql+psycopg2://{sqluser}:{password}@{hostname}:{port}/{dbname}'\n",
    "\n",
    "with modified_environ(MIMICIV_URL=url):\n",
    "    mimiciv_config = m4aki.AKIMIMICIVDatasetConfig()\n",
    "    tvx_config = m4aki.TVxAKIMIMICIVDatasetConfig()\n",
    "\n",
    "    write_config(mimiciv_config.to_dict(), 'dataset_mimiciv_aki_config.json')\n",
    "    write_config(tvx_config.to_dict(), 'tvx_mimiciv_aki_config.json')\n"
   ],
   "outputs": [],
   "execution_count": 2
  },
  {
   "cell_type": "code",
   "id": "8448e76db65f2acd",
   "metadata": {
    "collapsed": false,
    "jupyter": {
     "outputs_hidden": false
    },
    "ExecuteTime": {
     "end_time": "2024-04-29T21:04:57.972386Z",
     "start_time": "2024-04-29T20:57:16.797116Z"
    }
   },
   "source": [
    "with modified_environ(MIMICIV_URL=url):\n",
    "    dataset = m4aki.AKIMIMICIVDataset(config=mimiciv_config)           "
   ],
   "outputs": [
    {
     "name": "stderr",
     "output_type": "stream",
     "text": [
      "WARNING:root:Lost 1 codes when generating the mapping between the Mixed ICD (mimiciv.aki_study.hosp_procedures) and the standard (pr_icd9). Loss stats: v9 0 (0.00), v10 1 (1.00); Loss ratios: v9  0.00, v10  0.03.\n",
      "WARNING:root:          code                                         desc  code_index icd_version icd_code\n",
      "\t33  10:5A1D60Z  Performance of Urinary Filtration, Multiple          33          10  5A1D60Z\n",
      "WARNING:root:Lost 10 codes when generating the mapping between the Mixed ICD (mimiciv.aki_study.hosp_procedures) and the standard (pr_flat_icd10). Loss stats: v9 9 (0.90), v10 1 (0.10); Loss ratios: v9  0.15, v10  0.03.\n",
      "WARNING:root:          code                                                                     desc  code_index icd_version icd_code\n",
      "\t33  10:5A1D60Z                              Performance of Urinary Filtration, Multiple          33          10  5A1D60Z\n",
      "\t38     9:00.40                                               Procedure on single vessel          38           9    00.40\n",
      "\t39     9:00.41                                                 Procedure on two vessels          39           9    00.41\n",
      "\t40     9:00.45                                          Insertion of one vascular stent          40           9    00.45\n",
      "\t41     9:00.46                                         Insertion of two vascular stents          41           9    00.46\n",
      "\t50     9:36.06                   Insertion of non-drug-eluting coronary artery stent(s)          50           9    36.06\n",
      "\t51     9:36.07                       Insertion of drug-eluting coronary artery stent(s)          51           9    36.07\n",
      "\t70     9:39.90  Insertion of non-drug-eluting peripheral (non-coronary) vessel stent(s)          70           9    39.90\n",
      "\t80     9:81.62                                      Fusion or refusion of 2-3 vertebrae          80           9    81.62\n",
      "\t81     9:81.63                                      Fusion or refusion of 4-8 vertebrae          81           9    81.63\n",
      "WARNING:root:Lost 73872 codes when generating the mapping between the Mixed ICD (mimiciv.aki_study.dx_discharge) and the standard (dx_icd9). Loss stats: v9 168 (0.00), v10 73704 (1.00); Loss ratios: v9  0.01, v10  0.77.\n",
      "IOPub data rate exceeded.\n",
      "The Jupyter server will temporarily stop sending output\n",
      "to the client in order to avoid crashing it.\n",
      "To change this limit, set the config variable\n",
      "`--ServerApp.iopub_data_rate_limit`.\n",
      "\n",
      "Current values:\n",
      "ServerApp.iopub_data_rate_limit=1000000.0 (bytes/sec)\n",
      "ServerApp.rate_limit_window=3.0 (secs)\n",
      "\n",
      "WARNING:root:Lost 54500 codes when generating the mapping between the Mixed ICD (mimiciv.aki_study.dx_discharge) and the standard (dx_flat_icd10). Loss stats: v9 4025 (0.07), v10 50475 (0.93); Loss ratios: v9  0.27, v10  0.53.\n",
      "IOPub data rate exceeded.\n",
      "The Jupyter server will temporarily stop sending output\n",
      "to the client in order to avoid crashing it.\n",
      "To change this limit, set the config variable\n",
      "`--ServerApp.iopub_data_rate_limit`.\n",
      "\n",
      "Current values:\n",
      "ServerApp.iopub_data_rate_limit=1000000.0 (bytes/sec)\n",
      "ServerApp.rate_limit_window=3.0 (secs)\n",
      "\n",
      "/home/asem/GP/ICENODE/lib/ehr/example_datasets/mimiciv.py:399: PerformanceWarning: Adding/subtracting object-dtype array to DatetimeArray not vectorized.\n",
      "  df[self.config.date_of_birth_alias] = anchor_date + anchor_age\n"
     ]
    }
   ],
   "execution_count": 3
  },
  {
   "cell_type": "code",
   "id": "2a23d6ad70d52e29",
   "metadata": {
    "collapsed": false,
    "jupyter": {
     "outputs_hidden": false
    },
    "ExecuteTime": {
     "end_time": "2024-04-29T21:16:12.706364Z",
     "start_time": "2024-04-29T21:10:54.094210Z"
    }
   },
   "source": [
    "dataset = dataset.execute_pipeline()"
   ],
   "outputs": [
    {
     "data": {
      "text/plain": [
       "Transforming Dataset:   0%|          | 0/10 [00:00<?, ?transformations/s]"
      ],
      "application/vnd.jupyter.widget-view+json": {
       "version_major": 2,
       "version_minor": 0,
       "model_id": "a5c3308103394cd98b4c9ec5dd8a5bc9"
      },
      "application/json": {
       "n": 0,
       "total": 10,
       "elapsed": 0.002440929412841797,
       "ncols": null,
       "nrows": null,
       "prefix": "Transforming Dataset",
       "ascii": false,
       "unit": "transformations",
       "unit_scale": false,
       "rate": null,
       "bar_format": null,
       "postfix": null,
       "unit_divisor": 1000,
       "initial": 0,
       "colour": null
      }
     },
     "metadata": {},
     "output_type": "display_data"
    }
   ],
   "execution_count": 5
  },
  {
   "cell_type": "code",
   "id": "b2638310a60d72ea",
   "metadata": {
    "collapsed": false,
    "jupyter": {
     "outputs_hidden": false
    },
    "ExecuteTime": {
     "end_time": "2024-04-29T21:18:58.878706Z",
     "start_time": "2024-04-29T21:18:58.845900Z"
    }
   },
   "source": [
    "tvx = m4aki.TVxAKIMIMICIVDataset(config=tvx_config, dataset=dataset)"
   ],
   "outputs": [],
   "execution_count": 6
  },
  {
   "cell_type": "code",
   "id": "567b308edce77e44",
   "metadata": {
    "collapsed": false,
    "jupyter": {
     "outputs_hidden": false
    },
    "ExecuteTime": {
     "end_time": "2024-04-29T21:52:05.472389Z",
     "start_time": "2024-04-29T21:19:12.501495Z"
    }
   },
   "source": [
    "tvx = tvx.execute_pipeline()"
   ],
   "outputs": [
    {
     "data": {
      "text/plain": [
       "Transforming Dataset:   0%|          | 0/10 [00:00<?, ?transformations/s]"
      ],
      "application/vnd.jupyter.widget-view+json": {
       "version_major": 2,
       "version_minor": 0,
       "model_id": "13d56a3ecfab4cef91be5856ac1353fb"
      },
      "application/json": {
       "n": 0,
       "total": 10,
       "elapsed": 0.00798487663269043,
       "ncols": null,
       "nrows": null,
       "prefix": "Transforming Dataset",
       "ascii": false,
       "unit": "transformations",
       "unit_scale": false,
       "rate": null,
       "bar_format": null,
       "postfix": null,
       "unit_divisor": 1000,
       "initial": 0,
       "colour": null
      }
     },
     "metadata": {},
     "output_type": "display_data"
    },
    {
     "name": "stderr",
     "output_type": "stream",
     "text": [
      "WARNING:root:Some codes are not in the target scheme. 78705 / 2530454 codes were removed.\n",
      "Exception ignored in: <function _xla_gc_callback at 0x7e62897d6b60>\n",
      "Traceback (most recent call last):\n",
      "  File \"/home/asem/GP/env/icenode-dev/lib/python3.11/site-packages/jax/_src/lib/__init__.py\", line 98, in _xla_gc_callback\n",
      "    def _xla_gc_callback(*args):\n",
      "    \n",
      "KeyboardInterrupt: \n"
     ]
    },
    {
     "ename": "KeyboardInterrupt",
     "evalue": "",
     "output_type": "error",
     "traceback": [
      "\u001B[0;31m---------------------------------------------------------------------------\u001B[0m",
      "\u001B[0;31mKeyboardInterrupt\u001B[0m                         Traceback (most recent call last)",
      "    \u001B[0;31m[... skipping hidden 1 frame]\u001B[0m\n",
      "Cell \u001B[0;32mIn[7], line 1\u001B[0m\n\u001B[0;32m----> 1\u001B[0m tvx \u001B[38;5;241m=\u001B[39m tvx\u001B[38;5;241m.\u001B[39mexecute_pipeline()\n",
      "    \u001B[0;31m[... skipping hidden 1 frame]\u001B[0m\n",
      "File \u001B[0;32m~/GP/ICENODE/lib/ehr/dataset.py:489\u001B[0m, in \u001B[0;36mAbstractDatasetRepresentation.execute_pipeline\u001B[0;34m(self)\u001B[0m\n\u001B[1;32m    488\u001B[0m     \u001B[38;5;28;01mreturn\u001B[39;00m \u001B[38;5;28mself\u001B[39m\n\u001B[0;32m--> 489\u001B[0m dataset, report \u001B[38;5;241m=\u001B[39m \u001B[38;5;28mself\u001B[39m\u001B[38;5;241m.\u001B[39mpipeline(\u001B[38;5;28mself\u001B[39m)\n\u001B[1;32m    490\u001B[0m dataset \u001B[38;5;241m=\u001B[39m eqx\u001B[38;5;241m.\u001B[39mtree_at(\u001B[38;5;28;01mlambda\u001B[39;00m x: x\u001B[38;5;241m.\u001B[39mpipeline_report, dataset, report)\n",
      "File \u001B[0;32m~/GP/ICENODE/lib/ehr/dataset.py:661\u001B[0m, in \u001B[0;36mAbstractDatasetPipeline.__call__\u001B[0;34m(self, dataset)\u001B[0m\n\u001B[1;32m    660\u001B[0m report \u001B[38;5;241m=\u001B[39m report\u001B[38;5;241m.\u001B[39madd(transformation\u001B[38;5;241m=\u001B[39m\u001B[38;5;28mtype\u001B[39m(t), operation\u001B[38;5;241m=\u001B[39m\u001B[38;5;124m'\u001B[39m\u001B[38;5;124mstart\u001B[39m\u001B[38;5;124m'\u001B[39m)\n\u001B[0;32m--> 661\u001B[0m dataset, report \u001B[38;5;241m=\u001B[39m t\u001B[38;5;241m.\u001B[39mapply(dataset, report)\n\u001B[1;32m    662\u001B[0m report \u001B[38;5;241m=\u001B[39m report\u001B[38;5;241m.\u001B[39madd(transformation\u001B[38;5;241m=\u001B[39m\u001B[38;5;28mtype\u001B[39m(t), operation\u001B[38;5;241m=\u001B[39m\u001B[38;5;124m'\u001B[39m\u001B[38;5;124mend\u001B[39m\u001B[38;5;124m'\u001B[39m)\n",
      "File \u001B[0;32m~/GP/ICENODE/lib/ehr/tvx_transformations.py:721\u001B[0m, in \u001B[0;36mTVxConcepts.apply\u001B[0;34m(cls, tvx_ehr, report)\u001B[0m\n\u001B[1;32m    720\u001B[0m dx_discharge_history \u001B[38;5;241m=\u001B[39m \u001B[38;5;28mcls\u001B[39m\u001B[38;5;241m.\u001B[39m_dx_discharge_history(tvx_ehr, dx_discharge)\n\u001B[0;32m--> 721\u001B[0m outcome \u001B[38;5;241m=\u001B[39m \u001B[38;5;28mcls\u001B[39m\u001B[38;5;241m.\u001B[39m_outcome(tvx_ehr, dx_discharge_codeset)\n\u001B[1;32m    722\u001B[0m \u001B[38;5;28;01mif\u001B[39;00m tvx_ehr\u001B[38;5;241m.\u001B[39mconfig\u001B[38;5;241m.\u001B[39minterventions:\n",
      "File \u001B[0;32m~/GP/ICENODE/lib/ehr/tvx_transformations.py:533\u001B[0m, in \u001B[0;36mTVxConcepts._outcome\u001B[0;34m(tvx_ehr, dx_discharge)\u001B[0m\n\u001B[1;32m    532\u001B[0m outcome_extractor \u001B[38;5;241m=\u001B[39m tvx_ehr\u001B[38;5;241m.\u001B[39mscheme\u001B[38;5;241m.\u001B[39moutcome\u001B[38;5;241m.\u001B[39mcodeset2vec_extractor(scheme_manager, target_dx_scheme)\n\u001B[0;32m--> 533\u001B[0m \u001B[38;5;28;01mreturn\u001B[39;00m {adm_id: outcome_extractor(codeset) \u001B[38;5;28;01mfor\u001B[39;00m adm_id, codeset \u001B[38;5;129;01min\u001B[39;00m dx_discharge\u001B[38;5;241m.\u001B[39mitems()}\n",
      "File \u001B[0;32m~/GP/ICENODE/lib/ehr/tvx_transformations.py:533\u001B[0m, in \u001B[0;36m<dictcomp>\u001B[0;34m(.0)\u001B[0m\n\u001B[1;32m    532\u001B[0m outcome_extractor \u001B[38;5;241m=\u001B[39m tvx_ehr\u001B[38;5;241m.\u001B[39mscheme\u001B[38;5;241m.\u001B[39moutcome\u001B[38;5;241m.\u001B[39mcodeset2vec_extractor(scheme_manager, target_dx_scheme)\n\u001B[0;32m--> 533\u001B[0m \u001B[38;5;28;01mreturn\u001B[39;00m {adm_id: outcome_extractor(codeset) \u001B[38;5;28;01mfor\u001B[39;00m adm_id, codeset \u001B[38;5;129;01min\u001B[39;00m dx_discharge\u001B[38;5;241m.\u001B[39mitems()}\n",
      "File \u001B[0;32m~/GP/ICENODE/lib/ehr/coding_scheme.py:1029\u001B[0m, in \u001B[0;36mOutcomeExtractor.codeset2vec_extractor.<locals>._apply\u001B[0;34m(codeset)\u001B[0m\n\u001B[1;32m   1028\u001B[0m \u001B[38;5;28;01mfor\u001B[39;00m c \u001B[38;5;129;01min\u001B[39;00m codeset:\n\u001B[0;32m-> 1029\u001B[0m     vec[index[c]] \u001B[38;5;241m=\u001B[39m \u001B[38;5;28;01mTrue\u001B[39;00m\n\u001B[1;32m   1030\u001B[0m \u001B[38;5;28;01mreturn\u001B[39;00m CodesVector(vec, \u001B[38;5;28mself\u001B[39m\u001B[38;5;241m.\u001B[39mname)\n",
      "    \u001B[0;31m[... skipping hidden 1 frame]\u001B[0m\n",
      "File \u001B[0;32m~/GP/ICENODE/lib/ehr/coding_scheme.py:1004\u001B[0m, in \u001B[0;36mOutcomeExtractor.index\u001B[0;34m(self, scheme_manager)\u001B[0m\n\u001B[1;32m   1003\u001B[0m \u001B[38;5;28;01mdef\u001B[39;00m \u001B[38;5;21mindex\u001B[39m(\u001B[38;5;28mself\u001B[39m, scheme_manager: CodingSchemesManager) \u001B[38;5;241m-\u001B[39m\u001B[38;5;241m>\u001B[39m Dict[\u001B[38;5;28mstr\u001B[39m, \u001B[38;5;28mint\u001B[39m]:\n\u001B[0;32m-> 1004\u001B[0m     \u001B[38;5;28;01mreturn\u001B[39;00m {c: i \u001B[38;5;28;01mfor\u001B[39;00m i, c \u001B[38;5;129;01min\u001B[39;00m \u001B[38;5;28menumerate\u001B[39m(\u001B[38;5;28mself\u001B[39m\u001B[38;5;241m.\u001B[39mcodes(scheme_manager))}\n",
      "    \u001B[0;31m[... skipping hidden 1 frame]\u001B[0m\n",
      "File \u001B[0;32m~/GP/ICENODE/lib/ehr/coding_scheme.py:1064\u001B[0m, in \u001B[0;36mFileBasedOutcomeExtractor.codes\u001B[0;34m(self, scheme_manager)\u001B[0m\n\u001B[1;32m   1063\u001B[0m base_codes \u001B[38;5;241m=\u001B[39m \u001B[38;5;28mself\u001B[39m\u001B[38;5;241m.\u001B[39mbase_scheme(scheme_manager)\u001B[38;5;241m.\u001B[39mcodes\n\u001B[0;32m-> 1064\u001B[0m \u001B[38;5;28;01mreturn\u001B[39;00m \u001B[38;5;28mtuple\u001B[39m(c \u001B[38;5;28;01mfor\u001B[39;00m c \u001B[38;5;129;01min\u001B[39;00m \u001B[38;5;28msorted\u001B[39m(base_codes) \u001B[38;5;28;01mif\u001B[39;00m c \u001B[38;5;129;01mnot\u001B[39;00m \u001B[38;5;129;01min\u001B[39;00m excluded)\n",
      "File \u001B[0;32m~/GP/ICENODE/lib/ehr/coding_scheme.py:1064\u001B[0m, in \u001B[0;36m<genexpr>\u001B[0;34m(.0)\u001B[0m\n\u001B[1;32m   1063\u001B[0m base_codes \u001B[38;5;241m=\u001B[39m \u001B[38;5;28mself\u001B[39m\u001B[38;5;241m.\u001B[39mbase_scheme(scheme_manager)\u001B[38;5;241m.\u001B[39mcodes\n\u001B[0;32m-> 1064\u001B[0m \u001B[38;5;28;01mreturn\u001B[39;00m \u001B[38;5;28mtuple\u001B[39m(c \u001B[38;5;28;01mfor\u001B[39;00m c \u001B[38;5;129;01min\u001B[39;00m \u001B[38;5;28msorted\u001B[39m(base_codes) \u001B[38;5;28;01mif\u001B[39;00m c \u001B[38;5;129;01mnot\u001B[39;00m \u001B[38;5;129;01min\u001B[39;00m excluded)\n",
      "File \u001B[0;32m~/opt/pycharm-2023.3.2/plugins/python/helpers/pydev/_pydevd_bundle/pydevd_frame.py:755\u001B[0m, in \u001B[0;36mPyDBFrame.trace_dispatch\u001B[0;34m(self, frame, event, arg)\u001B[0m\n\u001B[1;32m    754\u001B[0m \u001B[38;5;28;01mif\u001B[39;00m info\u001B[38;5;241m.\u001B[39mpydev_state \u001B[38;5;241m==\u001B[39m STATE_SUSPEND:\n\u001B[0;32m--> 755\u001B[0m     \u001B[38;5;28mself\u001B[39m\u001B[38;5;241m.\u001B[39mdo_wait_suspend(thread, frame, event, arg)\n\u001B[1;32m    756\u001B[0m     \u001B[38;5;66;03m# No need to reset frame.f_trace to keep the same trace function.\u001B[39;00m\n",
      "File \u001B[0;32m~/opt/pycharm-2023.3.2/plugins/python/helpers/pydev/_pydevd_bundle/pydevd_frame.py:412\u001B[0m, in \u001B[0;36mPyDBFrame.do_wait_suspend\u001B[0;34m(self, *args, **kwargs)\u001B[0m\n\u001B[1;32m    411\u001B[0m \u001B[38;5;28;01mdef\u001B[39;00m \u001B[38;5;21mdo_wait_suspend\u001B[39m(\u001B[38;5;28mself\u001B[39m, \u001B[38;5;241m*\u001B[39margs, \u001B[38;5;241m*\u001B[39m\u001B[38;5;241m*\u001B[39mkwargs):\n\u001B[0;32m--> 412\u001B[0m     \u001B[38;5;28mself\u001B[39m\u001B[38;5;241m.\u001B[39m_args[\u001B[38;5;241m0\u001B[39m]\u001B[38;5;241m.\u001B[39mdo_wait_suspend(\u001B[38;5;241m*\u001B[39margs, \u001B[38;5;241m*\u001B[39m\u001B[38;5;241m*\u001B[39mkwargs)\n",
      "File \u001B[0;32m~/opt/pycharm-2023.3.2/plugins/python/helpers/pydev/pydevd.py:1185\u001B[0m, in \u001B[0;36mPyDB.do_wait_suspend\u001B[0;34m(self, thread, frame, event, arg, send_suspend_message, is_unhandled_exception)\u001B[0m\n\u001B[1;32m   1184\u001B[0m \u001B[38;5;28;01mwith\u001B[39;00m \u001B[38;5;28mself\u001B[39m\u001B[38;5;241m.\u001B[39m_threads_suspended_single_notification\u001B[38;5;241m.\u001B[39mnotify_thread_suspended(thread_id, stop_reason):\n\u001B[0;32m-> 1185\u001B[0m     \u001B[38;5;28mself\u001B[39m\u001B[38;5;241m.\u001B[39m_do_wait_suspend(thread, frame, event, arg, suspend_type, from_this_thread)\n",
      "File \u001B[0;32m~/opt/pycharm-2023.3.2/plugins/python/helpers/pydev/pydevd.py:1200\u001B[0m, in \u001B[0;36mPyDB._do_wait_suspend\u001B[0;34m(self, thread, frame, event, arg, suspend_type, from_this_thread)\u001B[0m\n\u001B[1;32m   1199\u001B[0m         \u001B[38;5;28mself\u001B[39m\u001B[38;5;241m.\u001B[39mprocess_internal_commands()\n\u001B[0;32m-> 1200\u001B[0m         time\u001B[38;5;241m.\u001B[39msleep(\u001B[38;5;241m0.01\u001B[39m)\n\u001B[1;32m   1202\u001B[0m \u001B[38;5;28mself\u001B[39m\u001B[38;5;241m.\u001B[39mcancel_async_evaluation(get_current_thread_id(thread), \u001B[38;5;28mstr\u001B[39m(\u001B[38;5;28mid\u001B[39m(frame)))\n",
      "\u001B[0;31mKeyboardInterrupt\u001B[0m: ",
      "\nDuring handling of the above exception, another exception occurred:\n",
      "\u001B[0;31mKeyboardInterrupt\u001B[0m                         Traceback (most recent call last)",
      "File \u001B[0;32m~/GP/env/icenode-dev/lib/python3.11/site-packages/IPython/core/interactiveshell.py:2144\u001B[0m, in \u001B[0;36mInteractiveShell.showtraceback\u001B[0;34m(self, exc_tuple, filename, tb_offset, exception_only, running_compiled_code)\u001B[0m\n\u001B[1;32m   2143\u001B[0m     \u001B[38;5;28;01melse\u001B[39;00m:\n\u001B[0;32m-> 2144\u001B[0m         stb \u001B[38;5;241m=\u001B[39m \u001B[38;5;28mself\u001B[39m\u001B[38;5;241m.\u001B[39mInteractiveTB\u001B[38;5;241m.\u001B[39mstructured_traceback(\n\u001B[1;32m   2145\u001B[0m             etype, value, tb, tb_offset\u001B[38;5;241m=\u001B[39mtb_offset\n\u001B[1;32m   2146\u001B[0m         )\n\u001B[1;32m   2148\u001B[0m \u001B[38;5;28;01mexcept\u001B[39;00m \u001B[38;5;167;01mException\u001B[39;00m:\n",
      "File \u001B[0;32m~/GP/env/icenode-dev/lib/python3.11/site-packages/IPython/core/ultratb.py:1435\u001B[0m, in \u001B[0;36mAutoFormattedTB.structured_traceback\u001B[0;34m(self, etype, evalue, etb, tb_offset, number_of_lines_of_context)\u001B[0m\n\u001B[1;32m   1434\u001B[0m     \u001B[38;5;28mself\u001B[39m\u001B[38;5;241m.\u001B[39mtb \u001B[38;5;241m=\u001B[39m etb\n\u001B[0;32m-> 1435\u001B[0m \u001B[38;5;28;01mreturn\u001B[39;00m FormattedTB\u001B[38;5;241m.\u001B[39mstructured_traceback(\n\u001B[1;32m   1436\u001B[0m     \u001B[38;5;28mself\u001B[39m, etype, evalue, etb, tb_offset, number_of_lines_of_context\n\u001B[1;32m   1437\u001B[0m )\n",
      "File \u001B[0;32m~/GP/env/icenode-dev/lib/python3.11/site-packages/IPython/core/ultratb.py:1326\u001B[0m, in \u001B[0;36mFormattedTB.structured_traceback\u001B[0;34m(self, etype, value, tb, tb_offset, number_of_lines_of_context)\u001B[0m\n\u001B[1;32m   1324\u001B[0m \u001B[38;5;28;01mif\u001B[39;00m mode \u001B[38;5;129;01min\u001B[39;00m \u001B[38;5;28mself\u001B[39m\u001B[38;5;241m.\u001B[39mverbose_modes:\n\u001B[1;32m   1325\u001B[0m     \u001B[38;5;66;03m# Verbose modes need a full traceback\u001B[39;00m\n\u001B[0;32m-> 1326\u001B[0m     \u001B[38;5;28;01mreturn\u001B[39;00m VerboseTB\u001B[38;5;241m.\u001B[39mstructured_traceback(\n\u001B[1;32m   1327\u001B[0m         \u001B[38;5;28mself\u001B[39m, etype, value, tb, tb_offset, number_of_lines_of_context\n\u001B[1;32m   1328\u001B[0m     )\n\u001B[1;32m   1329\u001B[0m \u001B[38;5;28;01melif\u001B[39;00m mode \u001B[38;5;241m==\u001B[39m \u001B[38;5;124m'\u001B[39m\u001B[38;5;124mMinimal\u001B[39m\u001B[38;5;124m'\u001B[39m:\n",
      "File \u001B[0;32m~/GP/env/icenode-dev/lib/python3.11/site-packages/IPython/core/ultratb.py:1173\u001B[0m, in \u001B[0;36mVerboseTB.structured_traceback\u001B[0;34m(self, etype, evalue, etb, tb_offset, number_of_lines_of_context)\u001B[0m\n\u001B[1;32m   1172\u001B[0m \u001B[38;5;250m\u001B[39m\u001B[38;5;124;03m\"\"\"Return a nice text document describing the traceback.\"\"\"\u001B[39;00m\n\u001B[0;32m-> 1173\u001B[0m formatted_exception \u001B[38;5;241m=\u001B[39m \u001B[38;5;28mself\u001B[39m\u001B[38;5;241m.\u001B[39mformat_exception_as_a_whole(etype, evalue, etb, number_of_lines_of_context,\n\u001B[1;32m   1174\u001B[0m                                                        tb_offset)\n\u001B[1;32m   1176\u001B[0m colors \u001B[38;5;241m=\u001B[39m \u001B[38;5;28mself\u001B[39m\u001B[38;5;241m.\u001B[39mColors  \u001B[38;5;66;03m# just a shorthand + quicker name lookup\u001B[39;00m\n",
      "File \u001B[0;32m~/GP/env/icenode-dev/lib/python3.11/site-packages/IPython/core/ultratb.py:1063\u001B[0m, in \u001B[0;36mVerboseTB.format_exception_as_a_whole\u001B[0;34m(self, etype, evalue, etb, number_of_lines_of_context, tb_offset)\u001B[0m\n\u001B[1;32m   1061\u001B[0m head \u001B[38;5;241m=\u001B[39m \u001B[38;5;28mself\u001B[39m\u001B[38;5;241m.\u001B[39mprepare_header(\u001B[38;5;28mstr\u001B[39m(etype), \u001B[38;5;28mself\u001B[39m\u001B[38;5;241m.\u001B[39mlong_header)\n\u001B[1;32m   1062\u001B[0m records \u001B[38;5;241m=\u001B[39m (\n\u001B[0;32m-> 1063\u001B[0m     \u001B[38;5;28mself\u001B[39m\u001B[38;5;241m.\u001B[39mget_records(etb, number_of_lines_of_context, tb_offset) \u001B[38;5;28;01mif\u001B[39;00m etb \u001B[38;5;28;01melse\u001B[39;00m []\n\u001B[1;32m   1064\u001B[0m )\n\u001B[1;32m   1066\u001B[0m frames \u001B[38;5;241m=\u001B[39m []\n",
      "File \u001B[0;32m~/GP/env/icenode-dev/lib/python3.11/site-packages/IPython/core/ultratb.py:1131\u001B[0m, in \u001B[0;36mVerboseTB.get_records\u001B[0;34m(self, etb, number_of_lines_of_context, tb_offset)\u001B[0m\n\u001B[1;32m   1130\u001B[0m \u001B[38;5;28;01mtry\u001B[39;00m:\n\u001B[0;32m-> 1131\u001B[0m     mod \u001B[38;5;241m=\u001B[39m inspect\u001B[38;5;241m.\u001B[39mgetmodule(cf\u001B[38;5;241m.\u001B[39mtb_frame)\n\u001B[1;32m   1132\u001B[0m     \u001B[38;5;28;01mif\u001B[39;00m mod \u001B[38;5;129;01mis\u001B[39;00m \u001B[38;5;129;01mnot\u001B[39;00m \u001B[38;5;28;01mNone\u001B[39;00m:\n",
      "File \u001B[0;32m~/GP/env/icenode-dev/lib/python3.11/inspect.py:991\u001B[0m, in \u001B[0;36mgetmodule\u001B[0;34m(object, _filename)\u001B[0m\n\u001B[1;32m    989\u001B[0m \u001B[38;5;66;03m# Update the filename to module name cache and check yet again\u001B[39;00m\n\u001B[1;32m    990\u001B[0m \u001B[38;5;66;03m# Copy sys.modules in order to cope with changes while iterating\u001B[39;00m\n\u001B[0;32m--> 991\u001B[0m \u001B[38;5;28;01mfor\u001B[39;00m modname, module \u001B[38;5;129;01min\u001B[39;00m sys\u001B[38;5;241m.\u001B[39mmodules\u001B[38;5;241m.\u001B[39mcopy()\u001B[38;5;241m.\u001B[39mitems():\n\u001B[1;32m    992\u001B[0m     \u001B[38;5;28;01mif\u001B[39;00m ismodule(module) \u001B[38;5;129;01mand\u001B[39;00m \u001B[38;5;28mhasattr\u001B[39m(module, \u001B[38;5;124m'\u001B[39m\u001B[38;5;124m__file__\u001B[39m\u001B[38;5;124m'\u001B[39m):\n",
      "\u001B[0;31mKeyboardInterrupt\u001B[0m: ",
      "\nDuring handling of the above exception, another exception occurred:\n",
      "\u001B[0;31mKeyboardInterrupt\u001B[0m                         Traceback (most recent call last)",
      "    \u001B[0;31m[... skipping hidden 1 frame]\u001B[0m\n",
      "File \u001B[0;32m~/GP/env/icenode-dev/lib/python3.11/site-packages/IPython/core/interactiveshell.py:2165\u001B[0m, in \u001B[0;36mInteractiveShell.showtraceback\u001B[0;34m(self, exc_tuple, filename, tb_offset, exception_only, running_compiled_code)\u001B[0m\n\u001B[1;32m   2162\u001B[0m         \u001B[38;5;28mself\u001B[39m\u001B[38;5;241m.\u001B[39m_showtraceback(etype, value, stb)\n\u001B[1;32m   2164\u001B[0m \u001B[38;5;28;01mexcept\u001B[39;00m \u001B[38;5;167;01mKeyboardInterrupt\u001B[39;00m:\n\u001B[0;32m-> 2165\u001B[0m     \u001B[38;5;28mprint\u001B[39m(\u001B[38;5;124m'\u001B[39m\u001B[38;5;130;01m\\n\u001B[39;00m\u001B[38;5;124m'\u001B[39m \u001B[38;5;241m+\u001B[39m \u001B[38;5;28mself\u001B[39m\u001B[38;5;241m.\u001B[39mget_exception_only(), file\u001B[38;5;241m=\u001B[39msys\u001B[38;5;241m.\u001B[39mstderr)\n",
      "File \u001B[0;32m~/GP/env/icenode-dev/lib/python3.11/site-packages/IPython/core/interactiveshell.py:2088\u001B[0m, in \u001B[0;36mInteractiveShell.get_exception_only\u001B[0;34m(self, exc_tuple)\u001B[0m\n\u001B[1;32m   2083\u001B[0m \u001B[38;5;250m\u001B[39m\u001B[38;5;124;03m\"\"\"\u001B[39;00m\n\u001B[1;32m   2084\u001B[0m \u001B[38;5;124;03mReturn as a string (ending with a newline) the exception that\u001B[39;00m\n\u001B[1;32m   2085\u001B[0m \u001B[38;5;124;03mjust occurred, without any traceback.\u001B[39;00m\n\u001B[1;32m   2086\u001B[0m \u001B[38;5;124;03m\"\"\"\u001B[39;00m\n\u001B[1;32m   2087\u001B[0m etype, value, tb \u001B[38;5;241m=\u001B[39m \u001B[38;5;28mself\u001B[39m\u001B[38;5;241m.\u001B[39m_get_exc_info(exc_tuple)\n\u001B[0;32m-> 2088\u001B[0m msg \u001B[38;5;241m=\u001B[39m traceback\u001B[38;5;241m.\u001B[39mformat_exception_only(etype, value)\n\u001B[1;32m   2089\u001B[0m \u001B[38;5;28;01mreturn\u001B[39;00m \u001B[38;5;124m'\u001B[39m\u001B[38;5;124m'\u001B[39m\u001B[38;5;241m.\u001B[39mjoin(msg)\n",
      "File \u001B[0;32m~/GP/env/icenode-dev/lib/python3.11/traceback.py:156\u001B[0m, in \u001B[0;36mformat_exception_only\u001B[0;34m(exc, value)\u001B[0m\n\u001B[1;32m    154\u001B[0m \u001B[38;5;28;01mif\u001B[39;00m value \u001B[38;5;129;01mis\u001B[39;00m _sentinel:\n\u001B[1;32m    155\u001B[0m     value \u001B[38;5;241m=\u001B[39m exc\n\u001B[0;32m--> 156\u001B[0m te \u001B[38;5;241m=\u001B[39m TracebackException(\u001B[38;5;28mtype\u001B[39m(value), value, \u001B[38;5;28;01mNone\u001B[39;00m, compact\u001B[38;5;241m=\u001B[39m\u001B[38;5;28;01mTrue\u001B[39;00m)\n\u001B[1;32m    157\u001B[0m \u001B[38;5;28;01mreturn\u001B[39;00m \u001B[38;5;28mlist\u001B[39m(te\u001B[38;5;241m.\u001B[39mformat_exception_only())\n",
      "File \u001B[0;32m~/GP/env/icenode-dev/lib/python3.11/traceback.py:787\u001B[0m, in \u001B[0;36mTracebackException.__init__\u001B[0;34m(self, exc_type, exc_value, exc_traceback, limit, lookup_lines, capture_locals, compact, max_group_width, max_group_depth, _seen)\u001B[0m\n\u001B[1;32m    784\u001B[0m     need_context \u001B[38;5;241m=\u001B[39m \u001B[38;5;28;01mTrue\u001B[39;00m\n\u001B[1;32m    785\u001B[0m \u001B[38;5;28;01mif\u001B[39;00m (e \u001B[38;5;129;01mand\u001B[39;00m e\u001B[38;5;241m.\u001B[39m__context__ \u001B[38;5;129;01mis\u001B[39;00m \u001B[38;5;129;01mnot\u001B[39;00m \u001B[38;5;28;01mNone\u001B[39;00m\n\u001B[1;32m    786\u001B[0m     \u001B[38;5;129;01mand\u001B[39;00m need_context \u001B[38;5;129;01mand\u001B[39;00m \u001B[38;5;28mid\u001B[39m(e\u001B[38;5;241m.\u001B[39m__context__) \u001B[38;5;129;01mnot\u001B[39;00m \u001B[38;5;129;01min\u001B[39;00m _seen):\n\u001B[0;32m--> 787\u001B[0m     context \u001B[38;5;241m=\u001B[39m TracebackException(\n\u001B[1;32m    788\u001B[0m         \u001B[38;5;28mtype\u001B[39m(e\u001B[38;5;241m.\u001B[39m__context__),\n\u001B[1;32m    789\u001B[0m         e\u001B[38;5;241m.\u001B[39m__context__,\n\u001B[1;32m    790\u001B[0m         e\u001B[38;5;241m.\u001B[39m__context__\u001B[38;5;241m.\u001B[39m__traceback__,\n\u001B[1;32m    791\u001B[0m         limit\u001B[38;5;241m=\u001B[39mlimit,\n\u001B[1;32m    792\u001B[0m         lookup_lines\u001B[38;5;241m=\u001B[39mlookup_lines,\n\u001B[1;32m    793\u001B[0m         capture_locals\u001B[38;5;241m=\u001B[39mcapture_locals,\n\u001B[1;32m    794\u001B[0m         max_group_width\u001B[38;5;241m=\u001B[39mmax_group_width,\n\u001B[1;32m    795\u001B[0m         max_group_depth\u001B[38;5;241m=\u001B[39mmax_group_depth,\n\u001B[1;32m    796\u001B[0m         _seen\u001B[38;5;241m=\u001B[39m_seen)\n\u001B[1;32m    797\u001B[0m \u001B[38;5;28;01melse\u001B[39;00m:\n\u001B[1;32m    798\u001B[0m     context \u001B[38;5;241m=\u001B[39m \u001B[38;5;28;01mNone\u001B[39;00m\n",
      "File \u001B[0;32m~/GP/env/icenode-dev/lib/python3.11/traceback.py:728\u001B[0m, in \u001B[0;36mTracebackException.__init__\u001B[0;34m(self, exc_type, exc_value, exc_traceback, limit, lookup_lines, capture_locals, compact, max_group_width, max_group_depth, _seen)\u001B[0m\n\u001B[1;32m    725\u001B[0m \u001B[38;5;28mself\u001B[39m\u001B[38;5;241m.\u001B[39mmax_group_width \u001B[38;5;241m=\u001B[39m max_group_width\n\u001B[1;32m    726\u001B[0m \u001B[38;5;28mself\u001B[39m\u001B[38;5;241m.\u001B[39mmax_group_depth \u001B[38;5;241m=\u001B[39m max_group_depth\n\u001B[0;32m--> 728\u001B[0m \u001B[38;5;28mself\u001B[39m\u001B[38;5;241m.\u001B[39mstack \u001B[38;5;241m=\u001B[39m StackSummary\u001B[38;5;241m.\u001B[39m_extract_from_extended_frame_gen(\n\u001B[1;32m    729\u001B[0m     _walk_tb_with_full_positions(exc_traceback),\n\u001B[1;32m    730\u001B[0m     limit\u001B[38;5;241m=\u001B[39mlimit, lookup_lines\u001B[38;5;241m=\u001B[39mlookup_lines,\n\u001B[1;32m    731\u001B[0m     capture_locals\u001B[38;5;241m=\u001B[39mcapture_locals)\n\u001B[1;32m    732\u001B[0m \u001B[38;5;28mself\u001B[39m\u001B[38;5;241m.\u001B[39mexc_type \u001B[38;5;241m=\u001B[39m exc_type\n\u001B[1;32m    733\u001B[0m \u001B[38;5;66;03m# Capture now to permit freeing resources: only complication is in the\u001B[39;00m\n\u001B[1;32m    734\u001B[0m \u001B[38;5;66;03m# unofficial API _format_final_exc_line\u001B[39;00m\n",
      "File \u001B[0;32m~/GP/env/icenode-dev/lib/python3.11/traceback.py:413\u001B[0m, in \u001B[0;36mStackSummary._extract_from_extended_frame_gen\u001B[0;34m(klass, frame_gen, limit, lookup_lines, capture_locals)\u001B[0m\n\u001B[1;32m    411\u001B[0m result \u001B[38;5;241m=\u001B[39m klass()\n\u001B[1;32m    412\u001B[0m fnames \u001B[38;5;241m=\u001B[39m \u001B[38;5;28mset\u001B[39m()\n\u001B[0;32m--> 413\u001B[0m \u001B[38;5;28;01mfor\u001B[39;00m f, (lineno, end_lineno, colno, end_colno) \u001B[38;5;129;01min\u001B[39;00m frame_gen:\n\u001B[1;32m    414\u001B[0m     co \u001B[38;5;241m=\u001B[39m f\u001B[38;5;241m.\u001B[39mf_code\n\u001B[1;32m    415\u001B[0m     filename \u001B[38;5;241m=\u001B[39m co\u001B[38;5;241m.\u001B[39mco_filename\n",
      "File \u001B[0;32m~/GP/env/icenode-dev/lib/python3.11/traceback.py:350\u001B[0m, in \u001B[0;36m_walk_tb_with_full_positions\u001B[0;34m(tb)\u001B[0m\n\u001B[1;32m    346\u001B[0m \u001B[38;5;28;01mdef\u001B[39;00m \u001B[38;5;21m_walk_tb_with_full_positions\u001B[39m(tb):\n\u001B[1;32m    347\u001B[0m     \u001B[38;5;66;03m# Internal version of walk_tb that yields full code positions including\u001B[39;00m\n\u001B[1;32m    348\u001B[0m     \u001B[38;5;66;03m# end line and column information.\u001B[39;00m\n\u001B[1;32m    349\u001B[0m     \u001B[38;5;28;01mwhile\u001B[39;00m tb \u001B[38;5;129;01mis\u001B[39;00m \u001B[38;5;129;01mnot\u001B[39;00m \u001B[38;5;28;01mNone\u001B[39;00m:\n\u001B[0;32m--> 350\u001B[0m         positions \u001B[38;5;241m=\u001B[39m _get_code_position(tb\u001B[38;5;241m.\u001B[39mtb_frame\u001B[38;5;241m.\u001B[39mf_code, tb\u001B[38;5;241m.\u001B[39mtb_lasti)\n\u001B[1;32m    351\u001B[0m         \u001B[38;5;66;03m# Yield tb_lineno when co_positions does not have a line number to\u001B[39;00m\n\u001B[1;32m    352\u001B[0m         \u001B[38;5;66;03m# maintain behavior with walk_tb.\u001B[39;00m\n\u001B[1;32m    353\u001B[0m         \u001B[38;5;28;01mif\u001B[39;00m positions[\u001B[38;5;241m0\u001B[39m] \u001B[38;5;129;01mis\u001B[39;00m \u001B[38;5;28;01mNone\u001B[39;00m:\n",
      "File \u001B[0;32m~/GP/env/icenode-dev/lib/python3.11/traceback.py:364\u001B[0m, in \u001B[0;36m_get_code_position\u001B[0;34m(code, instruction_index)\u001B[0m\n\u001B[1;32m    362\u001B[0m     \u001B[38;5;28;01mreturn\u001B[39;00m (\u001B[38;5;28;01mNone\u001B[39;00m, \u001B[38;5;28;01mNone\u001B[39;00m, \u001B[38;5;28;01mNone\u001B[39;00m, \u001B[38;5;28;01mNone\u001B[39;00m)\n\u001B[1;32m    363\u001B[0m positions_gen \u001B[38;5;241m=\u001B[39m code\u001B[38;5;241m.\u001B[39mco_positions()\n\u001B[0;32m--> 364\u001B[0m \u001B[38;5;28;01mreturn\u001B[39;00m \u001B[38;5;28mnext\u001B[39m(itertools\u001B[38;5;241m.\u001B[39mislice(positions_gen, instruction_index \u001B[38;5;241m/\u001B[39m\u001B[38;5;241m/\u001B[39m \u001B[38;5;241m2\u001B[39m, \u001B[38;5;28;01mNone\u001B[39;00m))\n",
      "\u001B[0;31mKeyboardInterrupt\u001B[0m: "
     ]
    }
   ],
   "execution_count": 7
  },
  {
   "cell_type": "code",
   "execution_count": null,
   "id": "912bbdd5-496b-4a1f-8561-3ec6ee5a5541",
   "metadata": {},
   "outputs": [],
   "source": []
  }
 ],
 "metadata": {
  "kernelspec": {
   "display_name": "Python 3 (ipykernel)",
   "language": "python",
   "name": "python3"
  },
  "language_info": {
   "codemirror_mode": {
    "name": "ipython",
    "version": 3
   },
   "file_extension": ".py",
   "mimetype": "text/x-python",
   "name": "python",
   "nbconvert_exporter": "python",
   "pygments_lexer": "ipython3",
   "version": "3.11.8"
  }
 },
 "nbformat": 4,
 "nbformat_minor": 5
}
