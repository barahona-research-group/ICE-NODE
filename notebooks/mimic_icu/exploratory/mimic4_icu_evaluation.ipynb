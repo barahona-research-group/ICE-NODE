{
 "cells": [
  {
   "cell_type": "code",
   "id": "5a0973b9",
   "metadata": {
    "jupyter": {
     "is_executing": true
    }
   },
   "source": [
    "%load_ext autoreload\n",
    "%autoreload 2\n",
    "\n",
    "import sys\n",
    "\n",
    "sys.path.append(\"../../..\")\n",
    "\n",
    "import lib.ehr.example_datasets.mimiciv_aki as m4aki\n"
   ],
   "execution_count": null,
   "outputs": []
  },
  {
   "metadata": {
    "ExecuteTime": {
     "end_time": "2024-06-11T15:28:28.727677Z",
     "start_time": "2024-06-11T15:28:28.724701Z"
    }
   },
   "cell_type": "code",
   "source": [
    "from lib.metric.metrics import  LeadingAKIPredictionAccuracy, LeadingPredictionAccuracyConfig\n",
    "from lib.metric.metrics import LeadPredictionLossMetric,ObsPredictionLossMetric, PerColumnObsPredictionLoss\n",
    "from lib.ml.evaluation import  EvaluationConfig\n"
   ],
   "id": "2e1b5ba25e9c3502",
   "execution_count": 9,
   "outputs": []
  },
  {
   "metadata": {
    "ExecuteTime": {
     "end_time": "2024-06-11T15:23:48.454581Z",
     "start_time": "2024-06-11T15:23:48.448672Z"
    }
   },
   "cell_type": "code",
   "source": [
    "metrics = [\n",
    "    LeadingAKIPredictionAccuracy(config=LeadingPredictionAccuracyConfig(aki_binary_index=81)),\n",
    "    PerColumnObsPredictionLoss(),\n",
    "    LeadPredictionLossMetric(),\n",
    "    ObsPredictionLossMetric()\n",
    "]"
   ],
   "id": "417fd71f5467452a",
   "execution_count": 2,
   "outputs": []
  },
  {
   "metadata": {
    "ExecuteTime": {
     "end_time": "2024-06-11T15:44:03.657550Z",
     "start_time": "2024-06-11T15:44:03.654182Z"
    }
   },
   "cell_type": "code",
   "source": [
    "import lib.utils as U\n",
    "eval_config = EvaluationConfig(metrics = [m.export_module() for m in metrics])\n",
    "U.write_config(eval_config.to_dict(), 'eval_config.json')"
   ],
   "id": "1762d3fd70cb897f",
   "execution_count": 12,
   "outputs": []
  },
  {
   "cell_type": "code",
   "id": "f3b7e79a-5f92-4f02-9b18-962600f406c2",
   "metadata": {
    "ExecuteTime": {
     "end_time": "2024-06-11T15:01:35.183477Z",
     "start_time": "2024-06-11T15:01:35.167586Z"
    }
   },
   "source": [
    "from lib.ml.embeddings import InICENODEEmbeddingsConfig, InterventionsEmbeddingsConfig\n",
    "from lib.ml.in_models import ICENODEConfig, GRUODEBayes\n",
    "from lib.ml.model import Precomputes\n"
   ],
   "execution_count": 3,
   "outputs": []
  },
  {
   "cell_type": "code",
   "id": "6232b963cf99c64c",
   "metadata": {
    "ExecuteTime": {
     "end_time": "2024-06-11T15:04:51.866797Z",
     "start_time": "2024-06-11T15:01:35.568346Z"
    }
   },
   "source": [
    "from lib.ehr.tvx_transformations import TrainingSplitGroups\n",
    "\n",
    "emb_config = InICENODEEmbeddingsConfig(dx_codes=50, demographic=10,\n",
    "                                       interventions=InterventionsEmbeddingsConfig(icu_inputs=10, icu_procedures=10,\n",
    "                                                                                   hosp_procedures=10,\n",
    "                                                                                   interventions=20))\n",
    "\n",
    "model_config = ICENODEConfig(state=50, lead_predictor='monotonic')\n",
    "\n",
    "tvx0 = m4aki.TVxAKIMIMICIVDataset.load('tvx_aki_training_groups/tvx_aki_0.h5')"
   ],
   "execution_count": 4,
   "outputs": []
  },
  {
   "metadata": {
    "ExecuteTime": {
     "end_time": "2024-06-11T15:15:46.070843Z",
     "start_time": "2024-06-11T15:15:46.057163Z"
    }
   },
   "cell_type": "code",
   "source": "tvx0.dataset.scheme.obs.codes.index('renal_aki.aki_binary')",
   "id": "ff542d2f30be0d08",
   "execution_count": 8,
   "outputs": []
  },
  {
   "metadata": {
    "ExecuteTime": {
     "end_time": "2024-06-11T15:16:09.560105Z",
     "start_time": "2024-06-11T15:16:09.544237Z"
    }
   },
   "cell_type": "code",
   "source": "tvx0.dataset.scheme.obs.codes",
   "id": "92776d92a26666ed",
   "execution_count": 9,
   "outputs": []
  },
  {
   "metadata": {},
   "cell_type": "code",
   "execution_count": 3,
   "source": [
    "\n",
    "model = GRUODEBayes.from_tvx_ehr(tvx_ehr=tvx0, config=model_config, embeddings_config=emb_config)\n",
    "\n",
    "tvx00 = TrainingSplitGroups.subset(tvx0, tuple(tvx0.subjects.keys())[:10])\n",
    "predictions = model.batch_predict(tvx00)\n",
    "predictions.to_cpu().save('predictions_tx00.h5')"
   ],
   "id": "d0b4d117-76f7-4762-b454-c2cf139ac942",
   "outputs": []
  },
  {
   "cell_type": "code",
   "id": "dbf141ff-9d99-4d4e-a1fb-a291b1c17605",
   "metadata": {
    "ExecuteTime": {
     "end_time": "2024-06-05T16:59:19.025767Z",
     "start_time": "2024-06-05T16:59:18.467110Z"
    }
   },
   "source": [
    "from lib.ml.artefacts import AdmissionsPrediction\n",
    "predictions = AdmissionsPrediction.load('predictions_tx00.h5')"
   ],
   "execution_count": 4,
   "outputs": []
  },
  {
   "cell_type": "code",
   "id": "a5882aa8-33c0-4273-b82d-fb4dfca786d1",
   "metadata": {
    "ExecuteTime": {
     "end_time": "2024-06-05T16:59:47.405847Z",
     "start_time": "2024-06-05T16:59:47.390181Z"
    }
   },
   "source": [
    "predictions.predictions[0].prediction"
   ],
   "execution_count": 5,
   "outputs": []
  }
 ],
 "metadata": {
  "kernelspec": {
   "display_name": "Python 3 (ipykernel)",
   "language": "python",
   "name": "python3"
  },
  "language_info": {
   "codemirror_mode": {
    "name": "ipython",
    "version": 3
   },
   "file_extension": ".py",
   "mimetype": "text/x-python",
   "name": "python",
   "nbconvert_exporter": "python",
   "pygments_lexer": "ipython3",
   "version": "3.11.8"
  }
 },
 "nbformat": 4,
 "nbformat_minor": 5
}
