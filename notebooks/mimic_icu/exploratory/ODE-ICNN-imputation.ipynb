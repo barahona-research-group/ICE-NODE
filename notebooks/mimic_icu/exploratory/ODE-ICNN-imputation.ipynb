{
 "cells": [
  {
   "cell_type": "code",
   "execution_count": 1,
   "id": "f4c394ab-9d98-4136-8f54-4e0f42fa89f7",
   "metadata": {},
   "outputs": [],
   "source": [
    "# %reload_ext autoreload\n",
    "# %autoreload 2\n",
    "from typing import Optional, Tuple, Literal\n",
    "import os\n",
    "import sys\n",
    "import time\n",
    "import matplotlib.pyplot as plt\n",
    "import seaborn as sns\n",
    "import sqlalchemy\n",
    "import numpy as np\n",
    "import pandas as pd\n",
    "import jax\n",
    "import jax.numpy as jnp\n",
    "import jax.random as jrandom \n",
    "import jax.nn as jnn\n",
    "import equinox as eqx\n",
    "import optax\n",
    "from tqdm.notebook import tqdm\n",
    "from collections import defaultdict\n",
    "from functools import partial\n",
    "from scipy.stats import spearmanr, pearsonr\n",
    "\n",
    "jax.config.update('jax_enable_x64', True)\n",
    "jax.config.update('jax_platforms', 'cpu')\n",
    "\n",
    "# jax.config.update('jax_check_tracer_leaks', True) \n",
    "sys.path.append(\"../../..\")\n",
    "# %reload_ext autoreload\n",
    "# %autoreload 2\n",
    "    \n",
    "from lib.base import Config, Module\n",
    "from lib.ml.in_models import InICENODELiteICNNImpute\n",
    "from lib.ml.rectilinear_modules import ZeroImputer, MeanImputer, RectilinearImputer\n",
    "from lib.ml.experiment import Experiment\n",
    "from lib.metric.metrics import MetricsCollection\n",
    "import lib.ehr.example_datasets.mimiciv_aki as m4aki\n",
    "from lib.ehr.tvx_ehr import TVxEHR\n",
    "from lib.utils import modified_environ, write_config, append_params_to_zip, zip_members, load_config, translate_path\n",
    "\n",
    "import pub_ready_plots\n",
    "from pub_ready_plots import get_mpl_rcParams\n",
    "rc_params, fig_width_in, fig_height_in = pub_ready_plots.get_mpl_rcParams(\n",
    "    width_frac=1,  # between 0 and 1\n",
    "    height_frac=0.2,  # between 0 and 1\n",
    "    layout=\"jmlr\"  # or \"iclr\", \"neurips\", \"poster-portrait\", \"poster-landscape\"\n",
    ")\n",
    "rc_params['figure.constrained_layout.use'] = True\n",
    "\n",
    "# rc_params['font.size'] = 10\n",
    "# rc_params['axes.titlesize'] = 12\n",
    "# rc_params['axes.labelsize'] = 10\n",
    "# rc_params['legend.fontsize'] = 10\n",
    "\n",
    "plt.rcParams.update(rc_params)\n",
    "# %reload_ext autoreload\n",
    "# %autoreload 2"
   ]
  },
  {
   "cell_type": "code",
   "execution_count": 24,
   "id": "7827a8ae-0c11-431d-a212-ae0ab248dd53",
   "metadata": {},
   "outputs": [
    {
     "data": {
      "text/plain": [
       "'/home/asem'"
      ]
     },
     "execution_count": 24,
     "metadata": {},
     "output_type": "execute_result"
    }
   ],
   "source": []
  },
  {
   "cell_type": "code",
   "execution_count": 2,
   "id": "6dcd94fc-ca8f-4347-9a47-32b252dc64b3",
   "metadata": {},
   "outputs": [],
   "source": [
    "# EVAL_CONFIG_FILE = '/home/asem/GP/ICENODE/experiment_templates/icu/eval_config.json'\n",
    "# metrics_config = Config.from_dict(load_config(translate_path(EVAL_CONFIG_FILE))).metrics\n",
    "# metrics = MetricsCollection(metrics=tuple(Module.import_module(config=config) for config in metrics_config))\n",
    "\n",
    "EXP_DIR = f'{os.environ[\"HOME\"]}/GP/ehr-data/aki_out/seg_pretrain/AutoODEICNN_mlpdyn_g0'\n",
    "SNAPSHOT = 'step0240.eqx'\n",
    "experiment = Experiment(Config.from_dict(load_config(os.path.join(EXP_DIR, 'config.json'))))\n"
   ]
  },
  {
   "cell_type": "code",
   "execution_count": 3,
   "id": "1e089631-f91a-4c19-b413-4e56beff4ff5",
   "metadata": {},
   "outputs": [],
   "source": [
    "\n",
    "RESULTS_DIR = 'ode-icnn_results'\n"
   ]
  },
  {
   "cell_type": "code",
   "execution_count": null,
   "id": "311a1433-6983-44b0-95cd-feb8b679f982",
   "metadata": {},
   "outputs": [],
   "source": [
    "tvx0 = TVxEHR.load(\"/home/asem/GP/ehr-data/mimic4aki-cohort/tvx_aki_0.h5\")\n",
    "tvx1 = TVxEHR.load(\"/home/asem/GP/ehr-data/mimic4aki-cohort/tvx_aki_1.h5\")"
   ]
  },
  {
   "cell_type": "code",
   "execution_count": 4,
   "id": "03fc2cb4-05e6-49b8-b44a-40184def6503",
   "metadata": {},
   "outputs": [],
   "source": [
    "tvx_phantom = TVxEHR.load(\"/home/asem/GP/ehr-data/mimic4aki-cohort/tvx_aki_phantom.h5\")\n",
    "tvx0 = tvx1 = tvx_phantom"
   ]
  },
  {
   "cell_type": "code",
   "execution_count": 6,
   "id": "f17ec855-7476-4aff-a63c-2d828bdb6185",
   "metadata": {},
   "outputs": [],
   "source": [
    "odeicnn = experiment.load_model(tvx0, 0).load_params_from_archive(os.path.join(EXP_DIR, 'params.zip'), SNAPSHOT)"
   ]
  },
  {
   "cell_type": "code",
   "execution_count": 7,
   "id": "bf1ff216-5956-4bbb-b7b9-7327d50c10d1",
   "metadata": {},
   "outputs": [],
   "source": [
    "def gen_data(tvx):\n",
    "    \n",
    "    obs = [adm.observables  for subject in tvx.subjects.values() for adm in subject.admissions]\n",
    "    adm_id = sum(([adm.admission_id] * len(adm.observables.time)  for subject in tvx.subjects.values() for adm in subject.admissions), [])\n",
    "    subj_id = sum(([subject.subject_id] * len(adm.observables.time)  for subject in tvx.subjects.values() for adm in subject.admissions), [])\n",
    "    \n",
    "    obs_val = np.vstack([obs_i.value for obs_i in obs])\n",
    "    obs_mask = np.vstack([obs_i.mask for obs_i in obs])\n",
    "    obs_time = np.hstack([obs_i.time for obs_i in obs])\n",
    "    obs_time_index = np.hstack([np.arange(len(obs_i.time)) for obs_i in obs])\n",
    "    \n",
    "    tvx.scheme.obs\n",
    "    features = list(map(tvx.scheme.obs.desc.get, tvx.scheme.obs.codes))\n",
    "    \n",
    "    \n",
    "    obs_val = pd.DataFrame(obs_val, columns=features)\n",
    "    obs_mask = pd.DataFrame(obs_mask.astype(int), columns=features)\n",
    "    meta = pd.DataFrame({'subject_id': subj_id, 'admission_id': adm_id, 'time': obs_time, 'time_index': obs_time_index})\n",
    "\n",
    "    artificial_mask = obs_mask.copy()\n",
    "    artificial_mask = obs_mask & np.array(jrandom.bernoulli(jrandom.PRNGKey(0), p=0.8, shape=obs_mask.shape))\n",
    "    return obs_val, obs_mask, artificial_mask, meta"
   ]
  },
  {
   "cell_type": "code",
   "execution_count": null,
   "id": "0e930d1e-1e8f-4f90-9614-6d6a3fe46c7e",
   "metadata": {},
   "outputs": [],
   "source": [
    "# obs_val0, obs_mask0, art_mask0, meta0 = gen_data(tvx0)\n",
    "# obs_val1, obs_mask1, art_mask1, meta1 = gen_data(tvx1)\n",
    "\n",
    "# obs_val0.to_csv('g0g1_missingness_data/missingness_vals0.csv')\n",
    "# obs_mask0.to_csv('g0g1_missingness_data/missingness_mask0.csv')\n",
    "# art_mask0.to_csv('g0g1_missingness_data/missingness_artificial_mask0.csv')\n",
    "# meta0.to_csv('g0g1_missingness_data/missingness_meta0.csv')\n",
    "\n",
    "# obs_val1.to_csv('g0g1_missingness_data/missingness_vals1.csv')\n",
    "# obs_mask1.to_csv('g0g1_missingness_data/missingness_mask1.csv')\n",
    "# art_mask1.to_csv('g0g1_missingness_data/missingness_artificial_mask1.csv')\n",
    "# meta1.to_csv('g0g1_missingness_data/missingness_meta1.csv')"
   ]
  },
  {
   "cell_type": "code",
   "execution_count": 9,
   "id": "09be5f7d-45c7-416a-9e00-4eb1e9d1b4ad",
   "metadata": {},
   "outputs": [],
   "source": [
    "# obs_valp, obs_maskp, art_maskp, metap = gen_data(tvx_phantom)\n",
    "# obs_valp.to_csv('g0g1_missingness_data/missingness_valsp.csv')\n",
    "# obs_maskp.to_csv('g0g1_missingness_data/missingness_maskp.csv')\n",
    "# art_maskp.to_csv('g0g1_missingness_data/missingness_artificial_maskp.csv')\n",
    "# metap.to_csv('g0g1_missingness_data/missingness_metap.csv')"
   ]
  },
  {
   "cell_type": "code",
   "execution_count": 8,
   "id": "a3e8a40c-79e9-432d-8dd9-c7f3e5b3978a",
   "metadata": {},
   "outputs": [],
   "source": [
    "# obs_val0 = pd.read_csv('g0g1_missingness_data/missingness_vals0.csv', index_col=[0])\n",
    "# obs_mask0 = pd.read_csv('g0g1_missingness_data/missingness_mask0.csv', index_col=[0])\n",
    "# art_mask0 = pd.read_csv('g0g1_missingness_data/missingness_artificial_mask0.csv', index_col=[0])\n",
    "# meta0 = pd.read_csv('g0g1_missingness_data/missingness_meta0.csv', index_col=[0])\n",
    "\n",
    "# obs_val1 = pd.read_csv('g0g1_missingness_data/missingness_vals1.csv', index_col=[0])\n",
    "# obs_mask1 = pd.read_csv('g0g1_missingness_data/missingness_mask1.csv', index_col=[0])\n",
    "# art_mask1 = pd.read_csv('g0g1_missingness_data/missingness_artificial_mask1.csv', index_col=[0])\n",
    "# meta1 = pd.read_csv('g0g1_missingness_data/missingness_meta1.csv', index_col=[0])\n"
   ]
  },
  {
   "cell_type": "code",
   "execution_count": 8,
   "id": "c27b8bfe-fa8a-463a-8d6a-b6a6c8648a13",
   "metadata": {},
   "outputs": [],
   "source": [
    "obs_valp = pd.read_csv('g0g1_missingness_data/missingness_valsp.csv', index_col=[0])\n",
    "obs_maskp = pd.read_csv('g0g1_missingness_data/missingness_maskp.csv', index_col=[0])\n",
    "art_maskp = pd.read_csv('g0g1_missingness_data/missingness_artificial_maskp.csv', index_col=[0])\n",
    "metap = pd.read_csv('g0g1_missingness_data/missingness_metap.csv', index_col=[0])\n"
   ]
  },
  {
   "cell_type": "code",
   "execution_count": 9,
   "id": "7426f15b-5feb-470f-9202-a0b150e8ef41",
   "metadata": {},
   "outputs": [],
   "source": [
    "obs_val0 = obs_val1 = obs_valp\n",
    "obs_mask0 = obs_mask1 = obs_maskp\n",
    "art_mask0 = art_mask1 = art_maskp\n",
    "meta0 = meta1 = metap\n"
   ]
  },
  {
   "cell_type": "code",
   "execution_count": 13,
   "id": "d00501b7-e7a3-4a6b-bd6a-e38c3a0c05b0",
   "metadata": {},
   "outputs": [],
   "source": [
    "rect_imputer = RectilinearImputer.from_tvx_ehr(tvx0)\n",
    "rect_preds = rect_imputer.batch_predict(tvx1)"
   ]
  },
  {
   "cell_type": "code",
   "execution_count": 16,
   "id": "2ddbf18b-ad05-4a48-9366-04ce1953f0f5",
   "metadata": {},
   "outputs": [
    {
     "data": {
      "application/json": {
       "ascii": false,
       "bar_format": null,
       "colour": null,
       "elapsed": 0.009388208389282227,
       "initial": 0,
       "n": 0,
       "ncols": null,
       "nrows": 38,
       "postfix": null,
       "prefix": "",
       "rate": null,
       "total": 300,
       "unit": "it",
       "unit_divisor": 1000,
       "unit_scale": false
      },
      "application/vnd.jupyter.widget-view+json": {
       "model_id": "",
       "version_major": 2,
       "version_minor": 0
      },
      "text/plain": [
       "  0%|          | 0/300 [00:00<?, ?it/s]"
      ]
     },
     "metadata": {},
     "output_type": "display_data"
    }
   ],
   "source": [
    "odeicnn_preds = odeicnn.batch_predict(tvx1)"
   ]
  },
  {
   "cell_type": "code",
   "execution_count": 10,
   "id": "fbace3bf-512b-4626-9f9b-67a80527cbec",
   "metadata": {},
   "outputs": [],
   "source": [
    "def predictions_to_dataframe(obs_columns, predictions):\n",
    "    predictions_df = []\n",
    "    meta_df = defaultdict(list)\n",
    "    for subject_id, subject_predictions in predictions.subject_predictions.items():\n",
    "        for admission_prediction in subject_predictions:\n",
    "            time = admission_prediction.observables.time\n",
    "            obs = admission_prediction.observables.value\n",
    "            meta_df['subject_id'].extend([subject_id] * len(time))\n",
    "            meta_df['admission_id'].extend([admission_prediction.admission.admission_id] * len(time))\n",
    "            meta_df['time_index'].extend(range(len(time)))\n",
    "            meta_df['time'].extend(time.tolist())\n",
    "            predictions_df.append(obs)\n",
    "\n",
    "    predictions_df = pd.DataFrame(np.vstack(predictions_df), columns=obs_columns)\n",
    "    meta_df = pd.DataFrame(meta_df)\n",
    "    return predictions_df, meta_df\n",
    "\n",
    "\n",
    "features = list(map(tvx_phantom.scheme.obs.desc.get, tvx_phantom.scheme.obs.codes))\n",
    "\n",
    "\n"
   ]
  },
  {
   "cell_type": "code",
   "execution_count": 21,
   "id": "3ead7896-542b-4933-92f6-e81166ac35ba",
   "metadata": {},
   "outputs": [
    {
     "data": {
      "text/plain": [
       "(71886, 100)"
      ]
     },
     "execution_count": 21,
     "metadata": {},
     "output_type": "execute_result"
    }
   ],
   "source": [
    "rect_predictions_df, rect_meta_df = predictions_to_dataframe(features, rect_preds)\n",
    "odeicnn_predictions_df, odeicnn_meta_df = predictions_to_dataframe(features, odeicnn_preds)\n",
    "\n",
    "rect_predictions_df.to_csv(f'{RESULTS_DIR}/RECTLIN_pred_X_test_imp.csv')\n",
    "rect_meta_df.to_csv(f'{RESULTS_DIR}/RECTLIN_pred_meta.csv')\n",
    "\n",
    "odeicnn_predictions_df.to_csv(f'{RESULTS_DIR}/ODEICNN_pred_X_test_imp.csv')\n",
    "odeicnn_meta_df.to_csv(f'{RESULTS_DIR}/ODEICNN_pred_meta.csv')\n"
   ]
  },
  {
   "cell_type": "code",
   "execution_count": 7,
   "id": "11ca8289-f06d-40fb-86bd-00ca2faae493",
   "metadata": {},
   "outputs": [],
   "source": [
    "\n",
    "# db_name = \"seg_pretrain_evals.sqlite\"\n",
    "\n",
    "# engine = sqlalchemy.create_engine(\"sqlite:///%s\" % db_name, execution_options={\"sqlite_raw_colnames\": True},\n",
    "#                                  connect_args={'timeout': 5})\n",
    "\n",
    "\n",
    "# df = {name: pd.read_sql_table(name, engine) for name in \n",
    "#       ('evaluation_runs', 'evaluation_status', 'experiments', 'metrics', 'results')}\n",
    "# metrics = df['metrics'].rename(columns={'name': 'metric', 'id': 'metric_id'})\n",
    "# eval_runs = df['evaluation_runs'].rename(columns={'id': 'evaluation_id'})\n",
    "# experiments = df['experiments'].rename(columns={'name': 'experiment', 'id': 'experiment_id'})\n",
    "# eval_status = df['evaluation_status'].rename(columns={'id': 'status_id', 'name': 'status'})\n",
    "\n",
    "# res = pd.merge(df['results'], metrics, left_on='metric_id', right_on='metric_id', how='left')\n",
    "# res = pd.merge(res, eval_runs, left_on='evaluation_id', right_on='evaluation_id', how='left')\n",
    "# res = pd.merge(res, experiments, left_on='experiment_id', right_on='experiment_id', how='left')\n",
    "# res = pd.merge(res, eval_status, left_on='status_id', right_on='status_id', how='left')\n",
    "# res['step'] = res.snapshot.str.extract('(\\d+)').astype(int)\n",
    "\n",
    "# res[res.metric.str.startswith('PerColumnObsPredictionLoss.r2')].sort_values('value')\n",
    "\n",
    "# tvx0.scheme.obs.codes[84]"
   ]
  },
  {
   "cell_type": "markdown",
   "id": "1126d0e1-ebbd-4bd8-ba97-e9923f5ef881",
   "metadata": {},
   "source": [
    "## Sklearn Imputations"
   ]
  },
  {
   "cell_type": "code",
   "execution_count": 12,
   "id": "b004194e-5e7e-4d9d-b7fa-45613fcbe4c6",
   "metadata": {},
   "outputs": [],
   "source": [
    "from sklearn.experimental import enable_iterative_imputer  # noqa\n",
    "from sklearn.impute import IterativeImputer, KNNImputer, SimpleImputer\n",
    "\n",
    "sklearn_imputers =  {\n",
    "    'zero_imputer': lambda: SimpleImputer(missing_values=np.nan, add_indicator=False, strategy=\"constant\", fill_value=0),\n",
    "    'mean_imputer': lambda: SimpleImputer(missing_values=np.nan, add_indicator=False, strategy=\"mean\", fill_value=0),\n",
    "    'knn_imputer': lambda: KNNImputer(missing_values=np.nan),\n",
    "    'iter_imputer': lambda: IterativeImputer(\n",
    "        missing_values=np.nan,\n",
    "        add_indicator=False,\n",
    "        random_state=0,\n",
    "        n_nearest_features=5,\n",
    "        max_iter=5,\n",
    "        sample_posterior=True,\n",
    "    )\n",
    "}"
   ]
  },
  {
   "cell_type": "code",
   "execution_count": 13,
   "id": "42ac1ef3-f56f-4f53-b253-4383b71f6133",
   "metadata": {},
   "outputs": [
    {
     "ename": "KeyboardInterrupt",
     "evalue": "",
     "output_type": "error",
     "traceback": [
      "\u001b[0;31m---------------------------------------------------------------------------\u001b[0m",
      "\u001b[0;31mKeyboardInterrupt\u001b[0m                         Traceback (most recent call last)",
      "Cell \u001b[0;32mIn[13], line 1\u001b[0m\n\u001b[0;32m----> 1\u001b[0m sklearn_trained_imputers \u001b[38;5;241m=\u001b[39m {k: v()\u001b[38;5;241m.\u001b[39mfit(np\u001b[38;5;241m.\u001b[39mwhere(obs_mask0, obs_val0, np\u001b[38;5;241m.\u001b[39mnan)) \n\u001b[1;32m      2\u001b[0m                             \u001b[38;5;28;01mfor\u001b[39;00m k, v \u001b[38;5;129;01min\u001b[39;00m sklearn_imputers\u001b[38;5;241m.\u001b[39mitems()} \n\u001b[1;32m      4\u001b[0m sklearn_imputed_X \u001b[38;5;241m=\u001b[39m {k: v\u001b[38;5;241m.\u001b[39mtransform(np\u001b[38;5;241m.\u001b[39mwhere(obs_mask1, obs_mask1, np\u001b[38;5;241m.\u001b[39mnan)) \u001b[38;5;28;01mfor\u001b[39;00m k, v \u001b[38;5;129;01min\u001b[39;00m sklearn_trained_imputers\u001b[38;5;241m.\u001b[39mitems()} \n\u001b[1;32m      5\u001b[0m \u001b[38;5;28;01mfor\u001b[39;00m sklearn_name, imputed_X_ \u001b[38;5;129;01min\u001b[39;00m sklearn_imputed_X\u001b[38;5;241m.\u001b[39mitems():\n",
      "Cell \u001b[0;32mIn[13], line 1\u001b[0m, in \u001b[0;36m<dictcomp>\u001b[0;34m(.0)\u001b[0m\n\u001b[0;32m----> 1\u001b[0m sklearn_trained_imputers \u001b[38;5;241m=\u001b[39m {k: v()\u001b[38;5;241m.\u001b[39mfit(np\u001b[38;5;241m.\u001b[39mwhere(obs_mask0, obs_val0, np\u001b[38;5;241m.\u001b[39mnan)) \n\u001b[1;32m      2\u001b[0m                             \u001b[38;5;28;01mfor\u001b[39;00m k, v \u001b[38;5;129;01min\u001b[39;00m sklearn_imputers\u001b[38;5;241m.\u001b[39mitems()} \n\u001b[1;32m      4\u001b[0m sklearn_imputed_X \u001b[38;5;241m=\u001b[39m {k: v\u001b[38;5;241m.\u001b[39mtransform(np\u001b[38;5;241m.\u001b[39mwhere(obs_mask1, obs_mask1, np\u001b[38;5;241m.\u001b[39mnan)) \u001b[38;5;28;01mfor\u001b[39;00m k, v \u001b[38;5;129;01min\u001b[39;00m sklearn_trained_imputers\u001b[38;5;241m.\u001b[39mitems()} \n\u001b[1;32m      5\u001b[0m \u001b[38;5;28;01mfor\u001b[39;00m sklearn_name, imputed_X_ \u001b[38;5;129;01min\u001b[39;00m sklearn_imputed_X\u001b[38;5;241m.\u001b[39mitems():\n",
      "File \u001b[0;32m~/GP/env/icenode-dev/lib/python3.11/site-packages/sklearn/impute/_iterative.py:880\u001b[0m, in \u001b[0;36mIterativeImputer.fit\u001b[0;34m(self, X, y)\u001b[0m\n\u001b[1;32m    863\u001b[0m \u001b[38;5;28;01mdef\u001b[39;00m \u001b[38;5;21mfit\u001b[39m(\u001b[38;5;28mself\u001b[39m, X, y\u001b[38;5;241m=\u001b[39m\u001b[38;5;28;01mNone\u001b[39;00m):\n\u001b[1;32m    864\u001b[0m \u001b[38;5;250m    \u001b[39m\u001b[38;5;124;03m\"\"\"Fit the imputer on `X` and return self.\u001b[39;00m\n\u001b[1;32m    865\u001b[0m \n\u001b[1;32m    866\u001b[0m \u001b[38;5;124;03m    Parameters\u001b[39;00m\n\u001b[0;32m   (...)\u001b[0m\n\u001b[1;32m    878\u001b[0m \u001b[38;5;124;03m        Fitted estimator.\u001b[39;00m\n\u001b[1;32m    879\u001b[0m \u001b[38;5;124;03m    \"\"\"\u001b[39;00m\n\u001b[0;32m--> 880\u001b[0m     \u001b[38;5;28mself\u001b[39m\u001b[38;5;241m.\u001b[39mfit_transform(X)\n\u001b[1;32m    881\u001b[0m     \u001b[38;5;28;01mreturn\u001b[39;00m \u001b[38;5;28mself\u001b[39m\n",
      "File \u001b[0;32m~/GP/env/icenode-dev/lib/python3.11/site-packages/sklearn/utils/_set_output.py:295\u001b[0m, in \u001b[0;36m_wrap_method_output.<locals>.wrapped\u001b[0;34m(self, X, *args, **kwargs)\u001b[0m\n\u001b[1;32m    293\u001b[0m \u001b[38;5;129m@wraps\u001b[39m(f)\n\u001b[1;32m    294\u001b[0m \u001b[38;5;28;01mdef\u001b[39;00m \u001b[38;5;21mwrapped\u001b[39m(\u001b[38;5;28mself\u001b[39m, X, \u001b[38;5;241m*\u001b[39margs, \u001b[38;5;241m*\u001b[39m\u001b[38;5;241m*\u001b[39mkwargs):\n\u001b[0;32m--> 295\u001b[0m     data_to_wrap \u001b[38;5;241m=\u001b[39m f(\u001b[38;5;28mself\u001b[39m, X, \u001b[38;5;241m*\u001b[39margs, \u001b[38;5;241m*\u001b[39m\u001b[38;5;241m*\u001b[39mkwargs)\n\u001b[1;32m    296\u001b[0m     \u001b[38;5;28;01mif\u001b[39;00m \u001b[38;5;28misinstance\u001b[39m(data_to_wrap, \u001b[38;5;28mtuple\u001b[39m):\n\u001b[1;32m    297\u001b[0m         \u001b[38;5;66;03m# only wrap the first output for cross decomposition\u001b[39;00m\n\u001b[1;32m    298\u001b[0m         return_tuple \u001b[38;5;241m=\u001b[39m (\n\u001b[1;32m    299\u001b[0m             _wrap_data_with_container(method, data_to_wrap[\u001b[38;5;241m0\u001b[39m], X, \u001b[38;5;28mself\u001b[39m),\n\u001b[1;32m    300\u001b[0m             \u001b[38;5;241m*\u001b[39mdata_to_wrap[\u001b[38;5;241m1\u001b[39m:],\n\u001b[1;32m    301\u001b[0m         )\n",
      "File \u001b[0;32m~/GP/env/icenode-dev/lib/python3.11/site-packages/sklearn/base.py:1474\u001b[0m, in \u001b[0;36m_fit_context.<locals>.decorator.<locals>.wrapper\u001b[0;34m(estimator, *args, **kwargs)\u001b[0m\n\u001b[1;32m   1467\u001b[0m     estimator\u001b[38;5;241m.\u001b[39m_validate_params()\n\u001b[1;32m   1469\u001b[0m \u001b[38;5;28;01mwith\u001b[39;00m config_context(\n\u001b[1;32m   1470\u001b[0m     skip_parameter_validation\u001b[38;5;241m=\u001b[39m(\n\u001b[1;32m   1471\u001b[0m         prefer_skip_nested_validation \u001b[38;5;129;01mor\u001b[39;00m global_skip_validation\n\u001b[1;32m   1472\u001b[0m     )\n\u001b[1;32m   1473\u001b[0m ):\n\u001b[0;32m-> 1474\u001b[0m     \u001b[38;5;28;01mreturn\u001b[39;00m fit_method(estimator, \u001b[38;5;241m*\u001b[39margs, \u001b[38;5;241m*\u001b[39m\u001b[38;5;241m*\u001b[39mkwargs)\n",
      "File \u001b[0;32m~/GP/env/icenode-dev/lib/python3.11/site-packages/sklearn/impute/_iterative.py:766\u001b[0m, in \u001b[0;36mIterativeImputer.fit_transform\u001b[0;34m(self, X, y)\u001b[0m\n\u001b[1;32m    762\u001b[0m \u001b[38;5;28;01mfor\u001b[39;00m feat_idx \u001b[38;5;129;01min\u001b[39;00m ordered_idx:\n\u001b[1;32m    763\u001b[0m     neighbor_feat_idx \u001b[38;5;241m=\u001b[39m \u001b[38;5;28mself\u001b[39m\u001b[38;5;241m.\u001b[39m_get_neighbor_feat_idx(\n\u001b[1;32m    764\u001b[0m         n_features, feat_idx, abs_corr_mat\n\u001b[1;32m    765\u001b[0m     )\n\u001b[0;32m--> 766\u001b[0m     Xt, estimator \u001b[38;5;241m=\u001b[39m \u001b[38;5;28mself\u001b[39m\u001b[38;5;241m.\u001b[39m_impute_one_feature(\n\u001b[1;32m    767\u001b[0m         Xt,\n\u001b[1;32m    768\u001b[0m         mask_missing_values,\n\u001b[1;32m    769\u001b[0m         feat_idx,\n\u001b[1;32m    770\u001b[0m         neighbor_feat_idx,\n\u001b[1;32m    771\u001b[0m         estimator\u001b[38;5;241m=\u001b[39m\u001b[38;5;28;01mNone\u001b[39;00m,\n\u001b[1;32m    772\u001b[0m         fit_mode\u001b[38;5;241m=\u001b[39m\u001b[38;5;28;01mTrue\u001b[39;00m,\n\u001b[1;32m    773\u001b[0m     )\n\u001b[1;32m    774\u001b[0m     estimator_triplet \u001b[38;5;241m=\u001b[39m _ImputerTriplet(\n\u001b[1;32m    775\u001b[0m         feat_idx, neighbor_feat_idx, estimator\n\u001b[1;32m    776\u001b[0m     )\n\u001b[1;32m    777\u001b[0m     \u001b[38;5;28mself\u001b[39m\u001b[38;5;241m.\u001b[39mimputation_sequence_\u001b[38;5;241m.\u001b[39mappend(estimator_triplet)\n",
      "File \u001b[0;32m~/GP/env/icenode-dev/lib/python3.11/site-packages/sklearn/impute/_iterative.py:426\u001b[0m, in \u001b[0;36mIterativeImputer._impute_one_feature\u001b[0;34m(self, X_filled, mask_missing_values, feat_idx, neighbor_feat_idx, estimator, fit_mode)\u001b[0m\n\u001b[1;32m    420\u001b[0m X_test \u001b[38;5;241m=\u001b[39m _safe_indexing(\n\u001b[1;32m    421\u001b[0m     _safe_indexing(X_filled, neighbor_feat_idx, axis\u001b[38;5;241m=\u001b[39m\u001b[38;5;241m1\u001b[39m),\n\u001b[1;32m    422\u001b[0m     missing_row_mask,\n\u001b[1;32m    423\u001b[0m     axis\u001b[38;5;241m=\u001b[39m\u001b[38;5;241m0\u001b[39m,\n\u001b[1;32m    424\u001b[0m )\n\u001b[1;32m    425\u001b[0m \u001b[38;5;28;01mif\u001b[39;00m \u001b[38;5;28mself\u001b[39m\u001b[38;5;241m.\u001b[39msample_posterior:\n\u001b[0;32m--> 426\u001b[0m     mus, sigmas \u001b[38;5;241m=\u001b[39m estimator\u001b[38;5;241m.\u001b[39mpredict(X_test, return_std\u001b[38;5;241m=\u001b[39m\u001b[38;5;28;01mTrue\u001b[39;00m)\n\u001b[1;32m    427\u001b[0m     imputed_values \u001b[38;5;241m=\u001b[39m np\u001b[38;5;241m.\u001b[39mzeros(mus\u001b[38;5;241m.\u001b[39mshape, dtype\u001b[38;5;241m=\u001b[39mX_filled\u001b[38;5;241m.\u001b[39mdtype)\n\u001b[1;32m    428\u001b[0m     \u001b[38;5;66;03m# two types of problems: (1) non-positive sigmas\u001b[39;00m\n\u001b[1;32m    429\u001b[0m     \u001b[38;5;66;03m# (2) mus outside legal range of min_value and max_value\u001b[39;00m\n\u001b[1;32m    430\u001b[0m     \u001b[38;5;66;03m# (results in inf sample)\u001b[39;00m\n",
      "File \u001b[0;32m~/GP/env/icenode-dev/lib/python3.11/site-packages/sklearn/linear_model/_bayes.py:421\u001b[0m, in \u001b[0;36mBayesianRidge.predict\u001b[0;34m(self, X, return_std)\u001b[0m\n\u001b[1;32m    399\u001b[0m \u001b[38;5;28;01mdef\u001b[39;00m \u001b[38;5;21mpredict\u001b[39m(\u001b[38;5;28mself\u001b[39m, X, return_std\u001b[38;5;241m=\u001b[39m\u001b[38;5;28;01mFalse\u001b[39;00m):\n\u001b[1;32m    400\u001b[0m \u001b[38;5;250m    \u001b[39m\u001b[38;5;124;03m\"\"\"Predict using the linear model.\u001b[39;00m\n\u001b[1;32m    401\u001b[0m \n\u001b[1;32m    402\u001b[0m \u001b[38;5;124;03m    In addition to the mean of the predictive distribution, also its\u001b[39;00m\n\u001b[0;32m   (...)\u001b[0m\n\u001b[1;32m    419\u001b[0m \u001b[38;5;124;03m        Standard deviation of predictive distribution of query points.\u001b[39;00m\n\u001b[1;32m    420\u001b[0m \u001b[38;5;124;03m    \"\"\"\u001b[39;00m\n\u001b[0;32m--> 421\u001b[0m     y_mean \u001b[38;5;241m=\u001b[39m \u001b[38;5;28mself\u001b[39m\u001b[38;5;241m.\u001b[39m_decision_function(X)\n\u001b[1;32m    422\u001b[0m     \u001b[38;5;28;01mif\u001b[39;00m \u001b[38;5;129;01mnot\u001b[39;00m return_std:\n\u001b[1;32m    423\u001b[0m         \u001b[38;5;28;01mreturn\u001b[39;00m y_mean\n",
      "File \u001b[0;32m~/GP/env/icenode-dev/lib/python3.11/site-packages/sklearn/linear_model/_base.py:270\u001b[0m, in \u001b[0;36mLinearModel._decision_function\u001b[0;34m(self, X)\u001b[0m\n\u001b[1;32m    267\u001b[0m check_is_fitted(\u001b[38;5;28mself\u001b[39m)\n\u001b[1;32m    269\u001b[0m X \u001b[38;5;241m=\u001b[39m \u001b[38;5;28mself\u001b[39m\u001b[38;5;241m.\u001b[39m_validate_data(X, accept_sparse\u001b[38;5;241m=\u001b[39m[\u001b[38;5;124m\"\u001b[39m\u001b[38;5;124mcsr\u001b[39m\u001b[38;5;124m\"\u001b[39m, \u001b[38;5;124m\"\u001b[39m\u001b[38;5;124mcsc\u001b[39m\u001b[38;5;124m\"\u001b[39m, \u001b[38;5;124m\"\u001b[39m\u001b[38;5;124mcoo\u001b[39m\u001b[38;5;124m\"\u001b[39m], reset\u001b[38;5;241m=\u001b[39m\u001b[38;5;28;01mFalse\u001b[39;00m)\n\u001b[0;32m--> 270\u001b[0m \u001b[38;5;28;01mreturn\u001b[39;00m safe_sparse_dot(X, \u001b[38;5;28mself\u001b[39m\u001b[38;5;241m.\u001b[39mcoef_\u001b[38;5;241m.\u001b[39mT, dense_output\u001b[38;5;241m=\u001b[39m\u001b[38;5;28;01mTrue\u001b[39;00m) \u001b[38;5;241m+\u001b[39m \u001b[38;5;28mself\u001b[39m\u001b[38;5;241m.\u001b[39mintercept_\n",
      "File \u001b[0;32m~/GP/env/icenode-dev/lib/python3.11/site-packages/sklearn/utils/extmath.py:211\u001b[0m, in \u001b[0;36msafe_sparse_dot\u001b[0;34m(a, b, dense_output)\u001b[0m\n\u001b[1;32m    207\u001b[0m \u001b[38;5;28;01melse\u001b[39;00m:\n\u001b[1;32m    208\u001b[0m     ret \u001b[38;5;241m=\u001b[39m a \u001b[38;5;241m@\u001b[39m b\n\u001b[1;32m    210\u001b[0m \u001b[38;5;28;01mif\u001b[39;00m (\n\u001b[0;32m--> 211\u001b[0m     sparse\u001b[38;5;241m.\u001b[39missparse(a)\n\u001b[1;32m    212\u001b[0m     \u001b[38;5;129;01mand\u001b[39;00m sparse\u001b[38;5;241m.\u001b[39missparse(b)\n\u001b[1;32m    213\u001b[0m     \u001b[38;5;129;01mand\u001b[39;00m dense_output\n\u001b[1;32m    214\u001b[0m     \u001b[38;5;129;01mand\u001b[39;00m \u001b[38;5;28mhasattr\u001b[39m(ret, \u001b[38;5;124m\"\u001b[39m\u001b[38;5;124mtoarray\u001b[39m\u001b[38;5;124m\"\u001b[39m)\n\u001b[1;32m    215\u001b[0m ):\n\u001b[1;32m    216\u001b[0m     \u001b[38;5;28;01mreturn\u001b[39;00m ret\u001b[38;5;241m.\u001b[39mtoarray()\n\u001b[1;32m    217\u001b[0m \u001b[38;5;28;01mreturn\u001b[39;00m ret\n",
      "File \u001b[0;32m~/GP/env/icenode-dev/lib/python3.11/site-packages/scipy/sparse/_base.py:1513\u001b[0m, in \u001b[0;36missparse\u001b[0;34m(x)\u001b[0m\n\u001b[1;32m   1508\u001b[0m     \u001b[38;5;28;01mpass\u001b[39;00m\n\u001b[1;32m   1510\u001b[0m sparray\u001b[38;5;241m.\u001b[39m\u001b[38;5;18m__doc__\u001b[39m \u001b[38;5;241m=\u001b[39m _spbase\u001b[38;5;241m.\u001b[39m\u001b[38;5;18m__doc__\u001b[39m\n\u001b[0;32m-> 1513\u001b[0m \u001b[38;5;28;01mdef\u001b[39;00m \u001b[38;5;21missparse\u001b[39m(x):\n\u001b[1;32m   1514\u001b[0m \u001b[38;5;250m    \u001b[39m\u001b[38;5;124;03m\"\"\"Is `x` of a sparse array or sparse matrix type?\u001b[39;00m\n\u001b[1;32m   1515\u001b[0m \n\u001b[1;32m   1516\u001b[0m \u001b[38;5;124;03m    Parameters\u001b[39;00m\n\u001b[0;32m   (...)\u001b[0m\n\u001b[1;32m   1537\u001b[0m \u001b[38;5;124;03m    False\u001b[39;00m\n\u001b[1;32m   1538\u001b[0m \u001b[38;5;124;03m    \"\"\"\u001b[39;00m\n\u001b[1;32m   1539\u001b[0m     \u001b[38;5;28;01mreturn\u001b[39;00m \u001b[38;5;28misinstance\u001b[39m(x, _spbase)\n",
      "\u001b[0;31mKeyboardInterrupt\u001b[0m: "
     ]
    }
   ],
   "source": [
    "sklearn_trained_imputers = {k: v().fit(np.where(obs_mask0, obs_val0, np.nan)) \n",
    "                            for k, v in sklearn_imputers.items()} \n",
    "\n",
    "sklearn_imputed_X = {k: v.transform(np.where(obs_mask1, obs_mask1, np.nan)) for k, v in sklearn_trained_imputers.items()} \n",
    "for sklearn_name, imputed_X_ in sklearn_imputed_X.items():\n",
    "    X_test_imp_df = pd.DataFrame(imputed_X_, columns=obs_val.columns)    \n",
    "    X_test_imp_df.to_csv(f'{RESULTS_DIR}/{sklearn_name}_pred_X_test_imp.csv')\n"
   ]
  },
  {
   "cell_type": "code",
   "execution_count": null,
   "id": "5d01f7ea-1fc7-4895-88c8-f2365e92b1c8",
   "metadata": {},
   "outputs": [],
   "source": []
  }
 ],
 "metadata": {
  "kernelspec": {
   "display_name": "Python 3 (ipykernel)",
   "language": "python",
   "name": "python3"
  },
  "language_info": {
   "codemirror_mode": {
    "name": "ipython",
    "version": 3
   },
   "file_extension": ".py",
   "mimetype": "text/x-python",
   "name": "python",
   "nbconvert_exporter": "python",
   "pygments_lexer": "ipython3",
   "version": "3.11.8"
  }
 },
 "nbformat": 4,
 "nbformat_minor": 5
}
