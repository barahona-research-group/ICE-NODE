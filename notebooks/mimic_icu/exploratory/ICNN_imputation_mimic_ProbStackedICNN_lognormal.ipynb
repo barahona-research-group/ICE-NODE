{
 "cells": [
  {
   "cell_type": "markdown",
   "id": "94d59416-2f91-473a-8103-a3cd6343ac3d",
   "metadata": {},
   "source": [
    "# Libs Import\n"
   ]
  },
  {
   "cell_type": "code",
   "execution_count": 1,
   "id": "62c28bbb-0bea-4165-9bee-f54dad24ccc6",
   "metadata": {},
   "outputs": [],
   "source": [
    "# %load_ext autoreload\n",
    "# %autoreload 2\n",
    "from typing import Optional, Tuple, Literal\n",
    "\n",
    "import sys\n",
    "import time\n",
    "import matplotlib.pyplot as plt\n",
    "import seaborn as sns\n",
    "\n",
    "import numpy as np\n",
    "import pandas as pd\n",
    "import jax\n",
    "import jax.numpy as jnp\n",
    "import jax.random as jrandom \n",
    "import jax.nn as jnn\n",
    "import equinox as eqx\n",
    "import optax\n",
    "from tqdm.notebook import tqdm\n",
    "from collections import defaultdict\n",
    "from functools import partial\n",
    "from scipy.stats import spearmanr, pearsonr\n",
    "\n",
    "jax.config.update('jax_enable_x64', True)\n",
    "jax.config.update('jax_platforms', 'cpu')\n",
    "\n",
    "# jax.config.update('jax_check_tracer_leaks', True) \n",
    "sys.path.append(\"../../..\")\n",
    "from lib.ml.icnn_modules import ProbStackedICNNImputer, ImputerMetrics, ProbICNNImputerTrainer\n",
    "import lib.ehr.example_datasets.mimiciv_aki as m4aki\n",
    "from lib.ehr.tvx_ehr import TVxEHR\n",
    "from lib.utils import modified_environ, write_config, append_params_to_zip, zip_members\n",
    " "
   ]
  },
  {
   "cell_type": "markdown",
   "id": "ae6b7608-1d1d-4f35-9610-1f49be0432af",
   "metadata": {},
   "source": [
    "# Experiment Defnitions"
   ]
  },
  {
   "cell_type": "code",
   "execution_count": 2,
   "id": "9d0c2f80-ba34-4308-b6bc-5751b0f8730c",
   "metadata": {},
   "outputs": [],
   "source": [
    "EXP_DIR = 'experiment_snapshots_mimic_ProbStackedICNN_lognormal'\n",
    "# model = ProbStackedICNNImputer(observables_size=obs_mask.shape[1],\n",
    "#                                state_size = 0,\n",
    "#                                optax_optimiser_name='polyak_sgd',\n",
    "#                                hidden_size_multiplier=2, depth=4, key=jrandom.PRNGKey(0))\n",
    "# trainer = ProbICNNImputerTrainer(loss='log_normal')"
   ]
  },
  {
   "cell_type": "markdown",
   "id": "bedd275f-c187-456f-9624-228e685e2531",
   "metadata": {},
   "source": [
    "# Data Loading"
   ]
  },
  {
   "cell_type": "markdown",
   "id": "dda298bc-79e7-4631-863f-23c451fb883e",
   "metadata": {},
   "source": [
    "## First Time Loading and Writing to Disk"
   ]
  },
  {
   "cell_type": "code",
   "execution_count": 3,
   "id": "8645d508-5ce0-4e81-a28b-b2b0dccf9644",
   "metadata": {},
   "outputs": [],
   "source": [
    "# tvx = m4aki.TVxAKIMIMICIVDataset.load('/home/asem/GP/ehr-data/mimic4aki-cohort/tvx_aki.h5')"
   ]
  },
  {
   "cell_type": "code",
   "execution_count": 4,
   "id": "c0cbf73a-2b16-4e1a-9128-f2877a9b954d",
   "metadata": {},
   "outputs": [],
   "source": [
    "# obs = [adm.observables  for subject in tvx0.subjects.values() for adm in subject.admissions]\n",
    "# adm_id = sum(([adm.admission_id] * len(adm.observables.time)  for subject in tvx0.subjects.values() for adm in subject.admissions), [])\n",
    "# subj_id = sum(([subject.subject_id] * len(adm.observables.time)  for subject in tvx0.subjects.values() for adm in subject.admissions), [])"
   ]
  },
  {
   "cell_type": "code",
   "execution_count": 5,
   "id": "d25b12a0-f4ed-40dd-bec6-9fef0e79caa6",
   "metadata": {},
   "outputs": [],
   "source": [
    "# obs_val = np.vstack([obs_i.value for obs_i in obs])\n",
    "# obs_mask = np.vstack([obs_i.mask for obs_i in obs])\n",
    "# obs_time = np.hstack([obs_i.time for obs_i in obs])"
   ]
  },
  {
   "cell_type": "code",
   "execution_count": 6,
   "id": "09c8afd5-475a-4a92-b73d-6e66243662cc",
   "metadata": {},
   "outputs": [],
   "source": [
    "# tvx0.scheme.obs\n",
    "# features = list(map(tvx0.scheme.obs.desc.get, tvx0.scheme.obs.codes))"
   ]
  },
  {
   "cell_type": "code",
   "execution_count": 7,
   "id": "5b3e1440-1b1c-4fe6-806c-1839440ee716",
   "metadata": {},
   "outputs": [],
   "source": [
    "# obs_val = pd.DataFrame(obs_val, columns=features)\n",
    "# obs_mask = pd.DataFrame(obs_mask.astype(int), columns=features)\n",
    "# meta = pd.DataFrame({'subject_id': subj_id, 'admission_id': adm_id, 'time': obs_time})\n"
   ]
  },
  {
   "cell_type": "code",
   "execution_count": 8,
   "id": "a784503e-6175-43ab-8522-58447cf5e222",
   "metadata": {},
   "outputs": [],
   "source": [
    "# artificial_mask = obs_mask.copy()\n",
    "# artificial_mask = obs_mask & np.array(jrandom.bernoulli(jrandom.PRNGKey(0), p=0.8, shape=obs_mask.shape))\n"
   ]
  },
  {
   "cell_type": "code",
   "execution_count": 9,
   "id": "28e3b288-d34d-4a43-8f79-98c5965ddb03",
   "metadata": {},
   "outputs": [],
   "source": [
    "# obs_val.to_csv('missingness_data/missingness_vals.csv')\n",
    "# obs_mask.to_csv('missingness_data/missingness_mask.csv')\n",
    "# meta.to_csv('missingness_data/meta.csv')\n",
    "# artificial_mask.to_csv('missingness_data/missingness_artificial_mask.csv')\n"
   ]
  },
  {
   "cell_type": "markdown",
   "id": "808916f3-e3ff-4239-a26b-d34631abd624",
   "metadata": {},
   "source": [
    "## Later Loading from Disk"
   ]
  },
  {
   "cell_type": "code",
   "execution_count": 10,
   "id": "a9b42f56-270f-4e17-8c93-e79af7638e72",
   "metadata": {},
   "outputs": [],
   "source": [
    "obs_val = pd.read_csv('missingness_data/missingness_vals.csv', index_col=[0])\n",
    "obs_mask = pd.read_csv('missingness_data/missingness_mask.csv', index_col=[0])\n",
    "artificial_mask = pd.read_csv('missingness_data/missingness_artificial_mask.csv', index_col=[0])\n",
    "meta = pd.read_csv('missingness_data/meta.csv', index_col=[0])\n"
   ]
  },
  {
   "cell_type": "markdown",
   "id": "1e678fa0-e9a7-4120-aba9-5c17792af3d7",
   "metadata": {},
   "source": [
    "## Split"
   ]
  },
  {
   "cell_type": "code",
   "execution_count": 11,
   "id": "ed9fabd6-6809-460f-a454-9572153c8299",
   "metadata": {
    "scrolled": true
   },
   "outputs": [],
   "source": [
    "split_ratio = 0.7\n",
    "seed = 0\n",
    "indices = jrandom.permutation(jrandom.PRNGKey(seed), len(obs_val))\n",
    "train_idx = indices[:int(split_ratio * len(indices))]\n",
    "test_idx = indices[int(split_ratio * len(indices)):]\n",
    "\n",
    "obs_val_train = jnp.array(obs_val.iloc[train_idx].to_numpy())\n",
    "obs_mask_train = jnp.array(obs_mask.iloc[train_idx].to_numpy())\n",
    "art_mask_train =  jnp.array(artificial_mask.iloc[train_idx].to_numpy())\n",
    "\n",
    "obs_val_test = jnp.array(obs_val.iloc[test_idx].to_numpy())\n",
    "obs_mask_test = jnp.array(obs_mask.iloc[test_idx].to_numpy())\n",
    "art_mask_test =  jnp.array(artificial_mask.iloc[test_idx].to_numpy())"
   ]
  },
  {
   "cell_type": "markdown",
   "id": "c89b5fc4-7103-4100-84fd-d689ada680b0",
   "metadata": {},
   "source": [
    "# Model Configuration"
   ]
  },
  {
   "cell_type": "code",
   "execution_count": 12,
   "id": "3439194b-9c52-4feb-9b8a-dec561659ffd",
   "metadata": {},
   "outputs": [],
   "source": [
    "# model = ICNNObsDecoder(observables_size=obs_mask.shape[1], state_size=0, \n",
    "#                        optax_optimiser_name='polyak_sgd',\n",
    "#                        hidden_size_multiplier=2, depth=4, key=jrandom.PRNGKey(0))\n",
    "\n",
    "model = ProbStackedICNNImputer(observables_size=obs_mask.shape[1],\n",
    "                               state_size = 0,\n",
    "                               optax_optimiser_name='polyak_sgd',\n",
    "                               hidden_size_multiplier=2, depth=4, key=jrandom.PRNGKey(0))\n",
    "trainer = ProbICNNImputerTrainer(loss='log_normal')"
   ]
  },
  {
   "cell_type": "markdown",
   "id": "f3e32931-6d99-4286-b059-12a62c61358d",
   "metadata": {},
   "source": [
    "# Training"
   ]
  },
  {
   "cell_type": "markdown",
   "id": "dcafbf5f-d168-4c7c-a217-b978da951f9a",
   "metadata": {},
   "source": [
    "## ICNN Training"
   ]
  },
  {
   "cell_type": "code",
   "execution_count": 12,
   "id": "c5a80153-56a6-4010-a3f8-0fcc51cce898",
   "metadata": {},
   "outputs": [],
   "source": [
    "lr=1e-3\n",
    "steps=10000\n",
    "train_batch_size=256\n",
    "test_batch_size=1024\n",
    "# train_batch_size=1\n",
    "# test_batch_size=1\n",
    "eval_frequency = 10\n",
    "model_snapshot_frequency = 100\n",
    "\n",
    "optim = optax.novograd(lr)\n",
    "opt_state = optim.init(eqx.filter(model, eqx.is_inexact_array))\n",
    "data_train = (obs_val_train, obs_mask_train, art_mask_train)\n",
    "data_test = (obs_val_test, obs_mask_test, art_mask_test)"
   ]
  },
  {
   "cell_type": "code",
   "execution_count": 13,
   "id": "1e9bc138-8411-4272-9f87-a7667dee68d4",
   "metadata": {},
   "outputs": [],
   "source": [
    "train_batches = trainer.dataloader(data_train, train_batch_size, key=jrandom.PRNGKey(0))\n",
    "test_batches = iter(trainer.dataloader(data_test, train_batch_size, key=jrandom.PRNGKey(0)))\n",
    "train_history = defaultdict(list)\n",
    "test_history = defaultdict(list)\n",
    "model_snapshots = {}"
   ]
  },
  {
   "cell_type": "code",
   "execution_count": 14,
   "id": "667916bf-3ecb-49b2-84b2-fa701c4ddade",
   "metadata": {},
   "outputs": [],
   "source": [
    "progress = tqdm(range(steps))\n",
    "\n",
    "for step, batch_train in zip(progress, train_batches):\n",
    "    start = time.time()\n",
    "    (train_loss, train_aux), model, opt_state = trainer.make_step(model, optim, opt_state, *batch_train)\n",
    "    r2_vec =  trainer.model_r_squared(model, *batch_train)\n",
    "    r2_vec_rank = trainer.model_r_squared_ranked_prob(model, *batch_train, k=5)\n",
    "    r2_vec = np.array(r2_vec)\n",
    "    train_nsteps = int(sum(train_aux.n_steps) / len(train_aux.n_steps))\n",
    "    train_history['R2'].append(r2_vec)\n",
    "    train_history['R2_rank5'].append(r2_vec_rank)\n",
    "    train_history['loss'].append(train_loss)\n",
    "    train_history['n_opt_steps'].append(train_nsteps)\n",
    "    \n",
    "    end = time.time()\n",
    "    if (step % eval_frequency) == 0 or step == steps - 1:\n",
    "        batch_test = next(test_batches)\n",
    "        test_loss, _ = trainer.loss(model, *batch_test)\n",
    "        r2_vec_test = trainer.model_r_squared(model, *batch_test)\n",
    "        r2_vec_rank_test = trainer.model_r_squared_ranked_prob(model, *batch_test, k=10)\n",
    "        r2_vec_test = np.array(r2_vec_test)\n",
    "        test_history['loss'].append(test_loss)\n",
    "        test_history['R2'].append(r2_vec_test)\n",
    "        test_history['R2_rank10'].append(r2_vec_rank_test)\n",
    "\n",
    "    if (step % model_snapshot_frequency) == 0 or step == steps - 1:\n",
    "        model_snapshots[step] = model\n",
    "        append_params_to_zip(model, f'step{step:04d}.eqx', f'{EXP_DIR}/params.zip')\n",
    "\n",
    "    progress.set_description(f\"Trn-L: {train_loss:.3f}, Trn-R2: ({np.nanmax(r2_vec_rank):.2f}, {np.nanmin(r2_vec_rank):.2f}, {np.nanmean(r2_vec_rank):.2f}, {np.nanmedian(r2_vec_rank):.2f}),  Trn-N-steps: {train_nsteps}, \" \n",
    "                             f\"Tst-L:  {test_loss:.3f}, Tst-R2:  ({np.nanmax(r2_vec_rank_test):.2f}, {np.nanmin(r2_vec_rank_test):.2f}, {np.nanmean(r2_vec_rank_test):.2f}, {np.nanmedian(r2_vec_rank_test):.2f}), \"\n",
    "                             f\"Computation time: {end - start:.2f}, \")\n",
    "                            "
   ]
  },
  {
   "cell_type": "code",
   "execution_count": 13,
   "id": "c557df37-73c9-407e-91d9-22f7f0049d83",
   "metadata": {},
   "outputs": [
    {
     "data": {
      "text/plain": [
       "['step0000.eqx',\n",
       " 'step0100.eqx',\n",
       " 'step0200.eqx',\n",
       " 'step0300.eqx',\n",
       " 'step0400.eqx',\n",
       " 'step0500.eqx',\n",
       " 'step0600.eqx',\n",
       " 'step0700.eqx',\n",
       " 'step0800.eqx',\n",
       " 'step0900.eqx',\n",
       " 'step1000.eqx',\n",
       " 'step1100.eqx',\n",
       " 'step1200.eqx',\n",
       " 'step1300.eqx',\n",
       " 'step1400.eqx',\n",
       " 'step1500.eqx',\n",
       " 'step1600.eqx',\n",
       " 'step1700.eqx',\n",
       " 'step1800.eqx',\n",
       " 'step1900.eqx',\n",
       " 'step2000.eqx',\n",
       " 'step2100.eqx',\n",
       " 'step2200.eqx',\n",
       " 'step2300.eqx',\n",
       " 'step2400.eqx',\n",
       " 'step2500.eqx',\n",
       " 'step2600.eqx',\n",
       " 'step2700.eqx',\n",
       " 'step2800.eqx',\n",
       " 'step2900.eqx',\n",
       " 'step3000.eqx',\n",
       " 'step3100.eqx',\n",
       " 'step3200.eqx',\n",
       " 'step3300.eqx',\n",
       " 'step3400.eqx',\n",
       " 'step3500.eqx',\n",
       " 'step3600.eqx',\n",
       " 'step3700.eqx',\n",
       " 'step3800.eqx',\n",
       " 'step3900.eqx',\n",
       " 'step4000.eqx',\n",
       " 'step4100.eqx',\n",
       " 'step4200.eqx',\n",
       " 'step4300.eqx',\n",
       " 'step4400.eqx',\n",
       " 'step4500.eqx',\n",
       " 'step4600.eqx',\n",
       " 'step4700.eqx',\n",
       " 'step4800.eqx',\n",
       " 'step4900.eqx',\n",
       " 'step5000.eqx',\n",
       " 'step5100.eqx',\n",
       " 'step5200.eqx',\n",
       " 'step5300.eqx',\n",
       " 'step5400.eqx',\n",
       " 'step5500.eqx',\n",
       " 'step5600.eqx',\n",
       " 'step5700.eqx',\n",
       " 'step5800.eqx',\n",
       " 'step5900.eqx',\n",
       " 'step6000.eqx',\n",
       " 'step6100.eqx',\n",
       " 'step6200.eqx',\n",
       " 'step6300.eqx',\n",
       " 'step6400.eqx',\n",
       " 'step6500.eqx',\n",
       " 'step6600.eqx',\n",
       " 'step6700.eqx',\n",
       " 'step6800.eqx',\n",
       " 'step6900.eqx',\n",
       " 'step7000.eqx',\n",
       " 'step7100.eqx',\n",
       " 'step7200.eqx',\n",
       " 'step7300.eqx',\n",
       " 'step7400.eqx',\n",
       " 'step7500.eqx',\n",
       " 'step7600.eqx',\n",
       " 'step7700.eqx',\n",
       " 'step7800.eqx',\n",
       " 'step7900.eqx',\n",
       " 'step8000.eqx',\n",
       " 'step8100.eqx',\n",
       " 'step8200.eqx',\n",
       " 'step8300.eqx',\n",
       " 'step8400.eqx',\n",
       " 'step8500.eqx',\n",
       " 'step8600.eqx',\n",
       " 'step8700.eqx',\n",
       " 'step8800.eqx',\n",
       " 'step8900.eqx',\n",
       " 'step9000.eqx',\n",
       " 'step9100.eqx',\n",
       " 'step9200.eqx',\n",
       " 'step9300.eqx',\n",
       " 'step9400.eqx',\n",
       " 'step9500.eqx',\n",
       " 'step9600.eqx',\n",
       " 'step9700.eqx',\n",
       " 'step9800.eqx',\n",
       " 'step9900.eqx',\n",
       " 'step9999.eqx',\n",
       " 'step0000.eqx']"
      ]
     },
     "execution_count": 13,
     "metadata": {},
     "output_type": "execute_result"
    }
   ],
   "source": [
    "zip_members(f'{EXP_DIR}/params.zip')"
   ]
  },
  {
   "cell_type": "markdown",
   "id": "3a6fd8da-08b1-4cd1-aed8-0e3bd3e05e0b",
   "metadata": {},
   "source": [
    "### Dump Training Statistics"
   ]
  },
  {
   "cell_type": "code",
   "execution_count": 14,
   "id": "55fb9a75-66da-4c40-817c-ffc978260f33",
   "metadata": {},
   "outputs": [
    {
     "data": {
      "image/png": "[encoded data removed]",
      "text/plain": [
       "<Figure size 640x480 with 1 Axes>"
      ]
     },
     "metadata": {},
     "output_type": "display_data"
    }
   ],
   "source": [
    "# FIRST TIME - BEGIN \n",
    "\n",
    "# train_stats = pd.DataFrame(train_history)\n",
    "# test_stats = pd.DataFrame(test_history)\n",
    "\n",
    "# train_stats['split'] = 'Train'\n",
    "# train_stats['iteration'] = train_stats.index + 1\n",
    "# test_stats['split'] = 'Test'\n",
    "# test_stats['iteration'] = (test_stats.index * eval_frequency) + 1\n",
    "# training_stats = pd.concat([train_stats, test_stats])\n",
    "# training_stats_melted = pd.melt(training_stats, value_vars=['loss'], id_vars=['split', 'iteration'], value_name='Loss')\n",
    "# training_stats_melted = training_stats_melted.astype({'Loss': float})\n",
    "\n",
    "# training_stats.to_csv(f'{EXP_DIR}/icnn_training_stats.csv')  \n",
    "# training_stats_melted.to_csv(f'{EXP_DIR}/icnn_training_stats_melted.csv')  \n",
    "\n",
    "# FIRST TIME - END \n",
    "\n",
    "\n",
    "# LATER TIMES\n",
    "training_stats = pd.read_csv(f'{EXP_DIR}/icnn_training_stats.csv', index_col=[0])  \n",
    "training_stats_melted = pd.read_csv(f'{EXP_DIR}/icnn_training_stats_melted.csv', index_col=[0])  \n",
    "\n",
    "\n",
    "\n",
    "g2 = sns.lineplot(data=training_stats_melted, x=\"iteration\", y=\"Loss\", hue=\"split\")"
   ]
  },
  {
   "cell_type": "markdown",
   "id": "29eb079d-85a1-496a-90ef-33d1e80f1541",
   "metadata": {},
   "source": [
    "## Sklearn Training"
   ]
  },
  {
   "cell_type": "code",
   "execution_count": 170,
   "id": "c5569883-85ef-4376-87cb-a183073031e0",
   "metadata": {},
   "outputs": [],
   "source": [
    "from sklearn.experimental import enable_iterative_imputer  # noqa\n",
    "from sklearn.impute import IterativeImputer, KNNImputer, SimpleImputer\n",
    "\n",
    "sklearn_imputers =  {\n",
    "    'zero_imputer': lambda: SimpleImputer(missing_values=np.nan, add_indicator=False, strategy=\"constant\", fill_value=0),\n",
    "    'mean_imputer': lambda: SimpleImputer(missing_values=np.nan, add_indicator=False, strategy=\"mean\", fill_value=0),\n",
    "    'knn_imputer': lambda: KNNImputer(missing_values=np.nan),\n",
    "    'iter_imputer': lambda: IterativeImputer(\n",
    "        missing_values=np.nan,\n",
    "        add_indicator=False,\n",
    "        random_state=0,\n",
    "        n_nearest_features=5,\n",
    "        max_iter=5,\n",
    "        sample_posterior=True,\n",
    "    )\n",
    "}\n",
    "\n",
    "sklearn_trained_imputers = {k: v().fit(np.where(obs_mask_train, obs_val_train, np.nan)) for k, v in sklearn_imputers.items()} "
   ]
  },
  {
   "cell_type": "markdown",
   "id": "c927aead-36dd-4806-ba36-99e5f1d3c74a",
   "metadata": {},
   "source": [
    "# Metrics / Results"
   ]
  },
  {
   "cell_type": "code",
   "execution_count": 15,
   "id": "c9da35ee-5429-492b-81e8-bb0a29273588",
   "metadata": {},
   "outputs": [],
   "source": [
    "prediction_mask = (1 - art_mask_test) * obs_mask_test\n",
    "feature2index =  dict(zip(obs_val.columns, range(len(obs_val.columns))))\n",
    "n_train = ((1 - art_mask_train) * obs_mask_train).sum(axis=0)\n",
    "n_test = ((1 - art_mask_test) * obs_mask_test).sum(axis=0)\n",
    "n_train_measured = obs_mask_train.sum(axis=0)\n",
    "missingness = 1 - obs_mask.mean(axis=0)"
   ]
  },
  {
   "cell_type": "markdown",
   "id": "4e2e8839-9dab-4409-952a-4c0a67b9b64f",
   "metadata": {},
   "source": [
    "## Metrics Evolution with ICNN Training"
   ]
  },
  {
   "cell_type": "code",
   "execution_count": null,
   "id": "d6b7bd88-323c-4716-959a-7d2423c7fc85",
   "metadata": {},
   "outputs": [],
   "source": [
    "# FIRST TIME - BEGIN \n",
    "\n",
    "# dataframes = []\n",
    "# for step, model_snap in tqdm(model_snapshots.items()):\n",
    "#     with jax.default_device(jax.devices(\"cpu\")[0]):\n",
    "#         obs_test = jnp.where(art_mask_test, obs_val_test, 0.)\n",
    "#         (X_test_imp, X_test_std), _ = eqx.filter_vmap(model_snap.prob_partial_input_optimise)(obs_test, art_mask_test)\n",
    "    \n",
    "#     sigma_threshold = [4.0, 3.0, 2.5, 2.0, 1.5, 1.0, 0.5, 0.3, 0.2, 0.1, 0.05, 0.01]\n",
    "#     r2_vec_thresholded = [eqx.filter_vmap(ProbICNNImputerTrainer.r_squared_thresholded_prob)(obs_val_test.T, X_test_imp.T, prediction_mask.T, X_test_std.T,  t)\n",
    "#                           for t in sigma_threshold]\n",
    "    \n",
    "#     r2_test_results = pd.DataFrame(np.vstack(r2_vec_thresholded), columns=obs_val.columns)\n",
    "#     r2_test_results['sigma_threshold'] = sigma_threshold\n",
    "#     r2_test_results['step'] = step\n",
    "#     dataframes.append(r2_test_results)\n",
    "\n",
    "# r2_iters_test_results = pd.concat(dataframes)\n",
    "# r2_iters_test_results = pd.melt(r2_iters_test_results, value_vars=list(obs_val.columns), id_vars=['sigma_threshold', 'step'], value_name='R2')\n",
    "\n",
    "# r2_iters_test_results.to_csv(f'{EXP_DIR}/r2_iters_test_results.csv')\n",
    "# FIRST TIME - END \n",
    "r2_iters_test_results = pd.read_csv(f'{EXP_DIR}/r2_iters_test_results.csv', index_col=[0])"
   ]
  },
  {
   "cell_type": "code",
   "execution_count": null,
   "id": "409180ae-f0b9-408c-8203-50c344e05454",
   "metadata": {},
   "outputs": [],
   "source": []
  },
  {
   "cell_type": "markdown",
   "id": "02237fc8-9f6c-48c3-afe0-06d3ffe641eb",
   "metadata": {},
   "source": [
    "## Metrics of the Last ICNN Snapshot"
   ]
  },
  {
   "cell_type": "code",
   "execution_count": 18,
   "id": "d2bc2a56-0990-42b7-b620-81af5a91084b",
   "metadata": {},
   "outputs": [],
   "source": [
    "model = model.load_params_from_archive(f'{EXP_DIR}/params.zip', 'step9999.eqx')"
   ]
  },
  {
   "cell_type": "code",
   "execution_count": 36,
   "id": "019d2522-c9c6-4684-9dc4-a2cccd8df430",
   "metadata": {},
   "outputs": [],
   "source": [
    "# FIRST TIME - BEGIN \n",
    "# with jax.default_device(jax.devices(\"cpu\")[0]):\n",
    "#     obs_test = jnp.where(art_mask_test, obs_val_test, 0.)\n",
    "#     (X_test_imp, X_test_std), _ = eqx.filter_vmap(model.prob_partial_input_optimise)(obs_test, art_mask_test)\n",
    "\n",
    "# X_test_imp_df = pd.DataFrame(X_test_imp, columns=obs_val.columns)\n",
    "# X_test_std_df = pd.DataFrame(X_test_std, columns=obs_val.columns)\n",
    "\n",
    "# X_test_imp_df.to_csv(f'{EXP_DIR}/icnn_pred_X_test_imp.csv')\n",
    "# X_test_std_df.to_csv(f'{EXP_DIR}/icnn_pred_X_test_std.csv')\n",
    "# FIRST TIME - END \n",
    "\n",
    "X_test_imp_df = pd.read_csv(f'{EXP_DIR}/icnn_pred_X_test_imp.csv', index_col=[0])\n",
    "X_test_std_df = pd.read_csv(f'{EXP_DIR}/icnn_pred_X_test_std.csv', index_col=[0])\n",
    "X_test_imp = X_test_imp_df.to_numpy()\n",
    "X_test_std = X_test_std_df.to_numpy()\n"
   ]
  },
  {
   "cell_type": "code",
   "execution_count": 35,
   "id": "4a08b74a-4f2c-4157-bf1d-70de528f9ea1",
   "metadata": {},
   "outputs": [],
   "source": [
    "\n"
   ]
  },
  {
   "cell_type": "code",
   "execution_count": 19,
   "id": "7e2dbbdf-2d44-4cf8-b71e-fdaf9ffa7a78",
   "metadata": {},
   "outputs": [],
   "source": [
    "# FIRST TIME - BEGIN \n",
    "# SE = (X_test_imp - obs_val_test) ** 2\n",
    "# SE = jnp.where(prediction_mask, SE, jnp.nan)\n",
    "# X_test_var = jnp.where(prediction_mask, X_test_std ** 2, jnp.nan)\n",
    "\n",
    "# se_data = defaultdict(list)\n",
    "# for i in range(SE.shape[1]):\n",
    "#     se_data['SE'].extend(np.array(SE[:, i][prediction_mask[:, i].astype(bool)]).tolist())\n",
    "#     se_data['sigma2'].extend(np.array(X_test_var[:, i][prediction_mask[:, i].astype(bool)]).tolist())\n",
    "#     se_data['Feature'].extend([obs_val.columns[i]] * int(prediction_mask[:, i].sum()))\n",
    "    \n",
    "# se_df = pd.DataFrame(se_data)\n",
    "# se_df.to_csv(f'{EXP_DIR}/icnn_se_stats.csv')\n",
    "# FIRST TIME - END \n",
    "\n",
    "# LATER TIMES\n",
    "se_df = pd.read_csv(f'{EXP_DIR}/icnn_se_stats.csv', index_col=[0])"
   ]
  },
  {
   "cell_type": "code",
   "execution_count": null,
   "id": "497bab81-d927-4dcc-9eaa-54430f329821",
   "metadata": {},
   "outputs": [],
   "source": [
    "# FIRST TIME - BEGIN \n",
    "\n",
    "# features_r2 = eqx.filter_vmap(ProbICNNImputerTrainer.r_squared)(obs_val_test.T, X_test_imp.T, prediction_mask.T)\n",
    "# sigma_threshold = [4.0, 3.0, 2.5, 2.0, 1.5, 1.0, 0.5, 0.3, 0.2, 0.1, 0.05, 0.01]\n",
    "# r2_vec_thresholded = [eqx.filter_vmap(ProbICNNImputerTrainer.r_squared_thresholded_prob)(obs_val_test.T, X_test_imp.T, prediction_mask.T, X_test_std.T,  t)\n",
    "#                       for t in sigma_threshold]\n",
    "# r2_test_thresholded_df = pd.DataFrame(np.vstack(r2_vec_thresholded), columns=obs_val.columns)\n",
    "# r2_test_thresholded_df['sigma_threshold'] = sigma_threshold\n",
    "\n",
    "# r2_test_thresholded_melted_df = pd.melt(r2_test_thresholded_df, value_vars=list(obs_val.columns), id_vars=['sigma_threshold'], value_name='R2')\n",
    "\n",
    "\n",
    "# icnn_features_stats = defaultdict(list)\n",
    "# n_train = ((1 - art_mask_train) * obs_mask_train).sum(axis=0)\n",
    "\n",
    "# for feature, feature_df in se_df.groupby('Feature'):\n",
    "#     icnn_features_stats['Feature'].append(feature)\n",
    "#     icnn_features_stats['n_training_measured'].append(n_train_measured[feature2index[feature]])\n",
    "#     icnn_features_stats['n_training_censored'].append(n_train[feature2index[feature]])\n",
    "#     icnn_features_stats['n_test_censored'].append(n_test[feature2index[feature]])\n",
    "#     icnn_features_stats['missingness'].append(missingness[feature2index[feature]].item())\n",
    "#     icnn_features_stats['R2'].append(features_r2[feature2index[feature]].item())\n",
    "#     icnn_features_stats['sigma2_se_spearman'].append(spearmanr(feature_df['SE'], feature_df['sigma2']).statistic)\n",
    "    \n",
    "# icnn_features_stats_df = pd.DataFrame(icnn_features_stats)\n",
    "\n",
    "\n",
    "# r2_test_thresholded_df.to_csv(f'{EXP_DIR}/r2_test_thresholded.csv')\n",
    "# r2_test_thresholded_melted_df.to_csv(f'{EXP_DIR}/r2_test_thresholded_melted.csv')\n",
    "# icnn_features_stats_df.to_csv(f'{EXP_DIR}/icnn_features_stats.csv')  \n",
    "\n",
    "# LATER TIMES\n",
    "r2_test_thresholded_df = pd.read_csv(f'{EXP_DIR}/r2_test_thresholded.csv', index_col=[0])\n",
    "r2_test_thresholded_melted_df = pd.read_csv(f'{EXP_DIR}/r2_test_thresholded_melted.csv', index_col=[0])\n",
    "icnn_features_stats_df = pd.read_csv(f'{EXP_DIR}/icnn_features_stats.csv', index_col=[0])\n"
   ]
  },
  {
   "cell_type": "code",
   "execution_count": null,
   "id": "6198d58c-28b6-4a66-9ae1-f6dc8c3b0a87",
   "metadata": {},
   "outputs": [],
   "source": [
    "g = sns.stripplot(data=r2_test_results, x=\"sigma_threshold\", y=\"R2\", hue=\"variable\")\n"
   ]
  },
  {
   "cell_type": "code",
   "execution_count": 222,
   "id": "2410cf4e-4e16-4056-9796-5e6f4ba3845b",
   "metadata": {},
   "outputs": [],
   "source": [
    "spearman_se_sigma_all = spearmanr(se_df['SE'], se_df['sigma2']).statistic\n",
    "pearson_se_sigma_all = pearsonr(se_df['SE'], se_df['sigma2']).statistic\n",
    "r2_all = ProbICNNImputerTrainer.r_squared(obs_val_test, X_test_imp, prediction_mask)\n",
    "icnn_global_stats = pd.DataFrame({r'$r_\\text{Pearson}(SE, \\sigma^2)$': [pearson_se_sigma_all],\n",
    "                                  r'$r_\\text{Searson}(SE, \\sigma^2)$': [spearman_se_sigma_all],\n",
    "                                  r'$R^2(z, \\mu)$': [r2_all]})\n",
    "icnn_global_stats.to_csv(f'{EXP_DIR}/icnn_global_stats.csv')  \n",
    "icnn_global_stats"
   ]
  },
  {
   "cell_type": "markdown",
   "id": "a6c97e3b-bff6-4af5-871f-8758e72ddc52",
   "metadata": {},
   "source": [
    "## Metrics of Sklearn Models"
   ]
  },
  {
   "cell_type": "code",
   "execution_count": 171,
   "id": "46f68045-44c3-4aa7-8e12-52369f86245e",
   "metadata": {},
   "outputs": [],
   "source": [
    "sklearn_imputed_X = {k: v.transform(np.where(art_mask_test, obs_val_test, np.nan)) for k, v in sklearn_trained_imputers.items()} "
   ]
  },
  {
   "cell_type": "code",
   "execution_count": 223,
   "id": "ea7d20a9-9d42-4c56-9749-cba6a07055b0",
   "metadata": {},
   "outputs": [],
   "source": [
    "sklearn_performance_data = defaultdict(list)\n",
    "sklearn_performance_per_feature_data = defaultdict(list)\n",
    "    \n",
    "for sklearn_imputer_name, sklearn_imputed_X_ in sklearn_imputed_X.items():\n",
    "    r2 = ProbICNNImputerTrainer.r_squared(obs_val_test, sklearn_imputed_X_, prediction_mask)\n",
    "    features_r2 = eqx.filter_vmap(ProbICNNImputerTrainer.r_squared)(obs_val_test.T, sklearn_imputed_X_.T, prediction_mask.T)\n",
    "\n",
    "    sklearn_performance_data['sklearn_imputer'].append(sklearn_imputer_name)\n",
    "    sklearn_performance_data['R2'].append(r2.item())\n",
    "\n",
    "    sklearn_performance_per_feature_data['R2'].extend(features_r2.tolist())\n",
    "    sklearn_performance_per_feature_data['sklearn_imputer'].extend([sklearn_imputer_name] * len(obs_val.columns))\n",
    "    sklearn_performance_per_feature_data['feature'].extend(obs_val.columns.tolist())\n",
    "    sklearn_performance_per_feature_data['missingness'].extend(missingness.tolist())\n",
    "\n",
    "sklearn_performance_df = pd.DataFrame(sklearn_performance_data)\n",
    "sklearn_performance_per_feature_df = pd.DataFrame(sklearn_performance_per_feature_data)\n"
   ]
  },
  {
   "cell_type": "code",
   "execution_count": 224,
   "id": "7dc529bc-b466-4285-9273-8e2db565eca6",
   "metadata": {},
   "outputs": [],
   "source": [
    "sklearn_performance_per_feature_df.to_csv(f'{EXP_DIR}/sklearn_features_stats.csv')\n",
    "sklearn_performance_df.to_csv(f'{EXP_DIR}/sklearn_stats.csv')"
   ]
  },
  {
   "cell_type": "code",
   "execution_count": 225,
   "id": "10a84468-ac99-4a5c-86c3-bc468c0c2e4f",
   "metadata": {},
   "outputs": [],
   "source": [
    "sklearn_performance_df"
   ]
  },
  {
   "cell_type": "code",
   "execution_count": 210,
   "id": "f9283ff4-df4c-4a19-a2f7-e2e0ce1e7a24",
   "metadata": {},
   "outputs": [],
   "source": [
    "sklearn_performance_per_feature_df[(sklearn_performance_per_feature_df.missingness < 0.8)].sort_values(['sklearn_imputer', 'R2'])"
   ]
  },
  {
   "cell_type": "code",
   "execution_count": 212,
   "id": "5763bbaf-a4af-474e-8c4e-f3ecdab8e6af",
   "metadata": {},
   "outputs": [],
   "source": [
    "feature_corrs_df[(feature_corrs_df.missingness < 0.8)].sort_values('R2')"
   ]
  },
  {
   "cell_type": "code",
   "execution_count": 197,
   "id": "94f4cd61-85ce-415b-8c22-bfa4a63d7061",
   "metadata": {},
   "outputs": [],
   "source": [
    "r2_test_results = r2_test_results[r2_test_results.R2 >= 0.1]\n",
    "r2_test_results"
   ]
  }
 ],
 "metadata": {
  "kernelspec": {
   "display_name": "Python 3 (ipykernel)",
   "language": "python",
   "name": "python3"
  },
  "language_info": {
   "codemirror_mode": {
    "name": "ipython",
    "version": 3
   },
   "file_extension": ".py",
   "mimetype": "text/x-python",
   "name": "python",
   "nbconvert_exporter": "python",
   "pygments_lexer": "ipython3",
   "version": "3.11.8"
  }
 },
 "nbformat": 4,
 "nbformat_minor": 5
}
