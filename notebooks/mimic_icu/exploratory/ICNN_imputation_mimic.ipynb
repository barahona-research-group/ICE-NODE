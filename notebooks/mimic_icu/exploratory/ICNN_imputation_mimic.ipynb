{
 "cells": [
  {
   "cell_type": "markdown",
   "id": "94d59416-2f91-473a-8103-a3cd6343ac3d",
   "metadata": {},
   "source": [
    "# Libs Import\n"
   ]
  },
  {
   "cell_type": "code",
   "execution_count": 1,
   "id": "62c28bbb-0bea-4165-9bee-f54dad24ccc6",
   "metadata": {},
   "outputs": [
    {
     "name": "stdout",
     "output_type": "stream",
     "text": [
      "The autoreload extension is already loaded. To reload it, use:\n",
      "  %reload_ext autoreload\n",
      "The autoreload extension is already loaded. To reload it, use:\n",
      "  %reload_ext autoreload\n"
     ]
    }
   ],
   "source": [
    "%load_ext autoreload\n",
    "%autoreload 2\n",
    "from typing import Optional, Tuple, Literal\n",
    "import os\n",
    "import sys\n",
    "import time\n",
    "import matplotlib.pyplot as plt\n",
    "import seaborn as sns\n",
    "\n",
    "import numpy as np\n",
    "import pandas as pd\n",
    "import jax\n",
    "import jax.numpy as jnp\n",
    "import jax.random as jrandom \n",
    "import jax.nn as jnn\n",
    "import equinox as eqx\n",
    "import optax\n",
    "from tqdm.notebook import tqdm\n",
    "from collections import defaultdict\n",
    "from functools import partial\n",
    "from scipy.stats import spearmanr, pearsonr\n",
    "\n",
    "jax.config.update('jax_enable_x64', True)\n",
    "jax.config.update('jax_platforms', 'cpu')\n",
    "%load_ext autoreload\n",
    "%autoreload 2\n",
    "# jax.config.update('jax_check_tracer_leaks', True) \n",
    "sys.path.append(\"../../..\")\n",
    "from lib.ml.icnn_modules import ProbStackedICNNImputer, ImputerMetrics, ProbICNNImputerTrainer, ICNNObsDecoder, StandardICNNImputerTrainer\n",
    "import lib.ehr.example_datasets.mimiciv_aki as m4aki\n",
    "from lib.ehr.tvx_ehr import TVxEHR\n",
    "from lib.utils import modified_environ, write_config, append_params_to_zip, zip_members\n",
    "%load_ext autoreload\n",
    "%autoreload 2"
   ]
  },
  {
   "cell_type": "code",
   "execution_count": 2,
   "id": "3c6026aa-f316-46f6-a762-804061ec8982",
   "metadata": {},
   "outputs": [],
   "source": [
    "# ?pub_ready_plots.get_mpl_rcParams\n",
    "# !pip install pub-ready-plots"
   ]
  },
  {
   "cell_type": "code",
   "execution_count": 3,
   "id": "47821903-74e5-4804-8668-3e3dab89b297",
   "metadata": {},
   "outputs": [],
   "source": [
    "import pub_ready_plots\n",
    "from pub_ready_plots import get_mpl_rcParams\n",
    "rc_params, fig_width_in, fig_height_in = pub_ready_plots.get_mpl_rcParams(\n",
    "    width_frac=1,  # between 0 and 1\n",
    "    height_frac=0.2,  # between 0 and 1\n",
    "    layout=\"jmlr\"  # or \"iclr\", \"neurips\", \"poster-portrait\", \"poster-landscape\"\n",
    ")\n",
    "rc_params['figure.constrained_layout.use'] = True\n",
    "\n",
    "# rc_params['font.size'] = 10\n",
    "# rc_params['axes.titlesize'] = 12\n",
    "# rc_params['axes.labelsize'] = 10\n",
    "# rc_params['legend.fontsize'] = 10\n",
    "\n",
    "plt.rcParams.update(rc_params)\n"
   ]
  },
  {
   "cell_type": "code",
   "execution_count": 4,
   "id": "320f1e48-f072-4099-bc5e-6cc4dc90b31b",
   "metadata": {},
   "outputs": [
    {
     "data": {
      "text/plain": [
       "{'text.usetex': False,\n",
       " 'font.size': 8,\n",
       " 'font.family': 'serif',\n",
       " 'font.serif': 'cmr10',\n",
       " 'mathtext.fontset': 'cm',\n",
       " 'lines.linewidth': 1.25,\n",
       " 'axes.linewidth': 1,\n",
       " 'axes.titlesize': 8,\n",
       " 'axes.labelsize': 7,\n",
       " 'axes.unicode_minus': False,\n",
       " 'axes.formatter.use_mathtext': True,\n",
       " 'legend.fontsize': 7,\n",
       " 'xtick.major.size': 1,\n",
       " 'ytick.major.size': 1,\n",
       " 'xtick.major.width': 1,\n",
       " 'ytick.major.width': 1,\n",
       " 'figure.constrained_layout.use': True}"
      ]
     },
     "execution_count": 4,
     "metadata": {},
     "output_type": "execute_result"
    }
   ],
   "source": [
    "rc_params"
   ]
  },
  {
   "cell_type": "markdown",
   "id": "ae6b7608-1d1d-4f35-9610-1f49be0432af",
   "metadata": {},
   "source": [
    "# Experiment Defnitions"
   ]
  },
  {
   "cell_type": "code",
   "execution_count": 5,
   "id": "9d0c2f80-ba34-4308-b6bc-5751b0f8730c",
   "metadata": {},
   "outputs": [],
   "source": [
    "RESULTS_DIR = 'icnn_results_A'\n",
    "EXP_DIR = {\n",
    "    'ICNN_LN': 'experiment_snapshots_mimic_ProbStackedICNN_lognormal',\n",
    "    'ICNN_NLN': 'experiment_snapshots_mimic_ProbStackedICNN_lognormal_normalised',\n",
    "    'ICNN_KL': 'experiment_snapshots_mimic_ProbStackedICNN_kl',\n",
    "    'ICNN_NKL': 'experiment_snapshots_mimic_ProbStackedICNN_kl_normalised',    \n",
    "    'ICNN_MSE': 'experiment_snapshots_mimic_ProbStackedICNN_mse',\n",
    "    'ICNN_NMSE': 'experiment_snapshots_mimic_ProbStackedICNN_mse_normalised',\n",
    "}\n",
    "PROP_MODELS = ('ICNN_LN', 'ICNN_NLN', 'ICNN_KL', 'ICNN_NKL')\n",
    "DET_MODELS = ('ICNN_MSE', 'ICNN_NMSE')\n",
    "\n",
    "\n",
    "ICNN_RENAMES = {\n",
    "    'ICNN_LN': 'P-ICNN (LN)',\n",
    "    'ICNN_NLN': 'P-ICNN (NLN)',\n",
    "    'ICNN_KL': 'P-ICNN (KL)',\n",
    "    'ICNN_NKL': 'P-ICNN (NKL)',    \n",
    "    'ICNN_MSE': 'S-ICNN (MSE)',\n",
    "    'ICNN_NMSE': 'S-ICNN (NMSE)',\n",
    "}\n",
    "\n",
    "EXP = 'ICNN_NLN'"
   ]
  },
  {
   "cell_type": "markdown",
   "id": "bedd275f-c187-456f-9624-228e685e2531",
   "metadata": {},
   "source": [
    "# Data Loading"
   ]
  },
  {
   "cell_type": "markdown",
   "id": "dda298bc-79e7-4631-863f-23c451fb883e",
   "metadata": {},
   "source": [
    "## First Time Loading and Writing to Disk"
   ]
  },
  {
   "cell_type": "code",
   "execution_count": 6,
   "id": "8645d508-5ce0-4e81-a28b-b2b0dccf9644",
   "metadata": {},
   "outputs": [],
   "source": [
    "# tvx = m4aki.TVxAKIMIMICIVDataset.load('/home/asem/GP/ehr-data/mimic4aki-cohort/tvx_aki.h5')"
   ]
  },
  {
   "cell_type": "code",
   "execution_count": 7,
   "id": "c0cbf73a-2b16-4e1a-9128-f2877a9b954d",
   "metadata": {},
   "outputs": [],
   "source": [
    "# obs = [adm.observables  for subject in tvx0.subjects.values() for adm in subject.admissions]\n",
    "# adm_id = sum(([adm.admission_id] * len(adm.observables.time)  for subject in tvx0.subjects.values() for adm in subject.admissions), [])\n",
    "# subj_id = sum(([subject.subject_id] * len(adm.observables.time)  for subject in tvx0.subjects.values() for adm in subject.admissions), [])"
   ]
  },
  {
   "cell_type": "code",
   "execution_count": 8,
   "id": "d25b12a0-f4ed-40dd-bec6-9fef0e79caa6",
   "metadata": {},
   "outputs": [],
   "source": [
    "# obs_val = np.vstack([obs_i.value for obs_i in obs])\n",
    "# obs_mask = np.vstack([obs_i.mask for obs_i in obs])\n",
    "# obs_time = np.hstack([obs_i.time for obs_i in obs])"
   ]
  },
  {
   "cell_type": "code",
   "execution_count": 9,
   "id": "09c8afd5-475a-4a92-b73d-6e66243662cc",
   "metadata": {},
   "outputs": [],
   "source": [
    "# tvx0.scheme.obs\n",
    "# features = list(map(tvx0.scheme.obs.desc.get, tvx0.scheme.obs.codes))"
   ]
  },
  {
   "cell_type": "code",
   "execution_count": 10,
   "id": "5b3e1440-1b1c-4fe6-806c-1839440ee716",
   "metadata": {},
   "outputs": [],
   "source": [
    "# obs_val = pd.DataFrame(obs_val, columns=features)\n",
    "# obs_mask = pd.DataFrame(obs_mask.astype(int), columns=features)\n",
    "# meta = pd.DataFrame({'subject_id': subj_id, 'admission_id': adm_id, 'time': obs_time})\n"
   ]
  },
  {
   "cell_type": "code",
   "execution_count": 11,
   "id": "a784503e-6175-43ab-8522-58447cf5e222",
   "metadata": {},
   "outputs": [],
   "source": [
    "# artificial_mask = obs_mask.copy()\n",
    "# artificial_mask = obs_mask & np.array(jrandom.bernoulli(jrandom.PRNGKey(0), p=0.8, shape=obs_mask.shape))\n"
   ]
  },
  {
   "cell_type": "code",
   "execution_count": 12,
   "id": "28e3b288-d34d-4a43-8f79-98c5965ddb03",
   "metadata": {},
   "outputs": [],
   "source": [
    "# obs_val.to_csv('missingness_data/missingness_vals.csv')\n",
    "# obs_mask.to_csv('missingness_data/missingness_mask.csv')\n",
    "# meta.to_csv('missingness_data/meta.csv')\n",
    "# artificial_mask.to_csv('missingness_data/missingness_artificial_mask.csv')\n"
   ]
  },
  {
   "cell_type": "markdown",
   "id": "808916f3-e3ff-4239-a26b-d34631abd624",
   "metadata": {},
   "source": [
    "## Later Loading from Disk"
   ]
  },
  {
   "cell_type": "code",
   "execution_count": 13,
   "id": "a9b42f56-270f-4e17-8c93-e79af7638e72",
   "metadata": {},
   "outputs": [],
   "source": [
    "obs_val = pd.read_csv('missingness_data/missingness_vals.csv', index_col=[0])\n",
    "obs_mask = pd.read_csv('missingness_data/missingness_mask.csv', index_col=[0])\n",
    "artificial_mask = pd.read_csv('missingness_data/missingness_artificial_mask.csv', index_col=[0])\n",
    "meta = pd.read_csv('missingness_data/meta.csv', index_col=[0])\n"
   ]
  },
  {
   "cell_type": "markdown",
   "id": "1e678fa0-e9a7-4120-aba9-5c17792af3d7",
   "metadata": {},
   "source": [
    "## Split"
   ]
  },
  {
   "cell_type": "code",
   "execution_count": 14,
   "id": "ed9fabd6-6809-460f-a454-9572153c8299",
   "metadata": {
    "scrolled": true
   },
   "outputs": [],
   "source": [
    "split_ratio = 0.7\n",
    "seed = 0\n",
    "indices = jrandom.permutation(jrandom.PRNGKey(seed), len(obs_val))\n",
    "train_idx = indices[:int(split_ratio * len(indices))]\n",
    "test_idx = indices[int(split_ratio * len(indices)):]\n",
    "\n",
    "obs_val_train = jnp.array(obs_val.iloc[train_idx].to_numpy())\n",
    "obs_mask_train = jnp.array(obs_mask.iloc[train_idx].to_numpy())\n",
    "art_mask_train =  jnp.array(artificial_mask.iloc[train_idx].to_numpy())\n",
    "\n",
    "obs_val_test = jnp.array(obs_val.iloc[test_idx].to_numpy())\n",
    "obs_mask_test = jnp.array(obs_mask.iloc[test_idx].to_numpy())\n",
    "art_mask_test =  jnp.array(artificial_mask.iloc[test_idx].to_numpy())"
   ]
  },
  {
   "cell_type": "code",
   "execution_count": 15,
   "id": "29554212-d63c-4770-892d-fbc66b2d01de",
   "metadata": {},
   "outputs": [
    {
     "data": {
      "text/html": [
       "<div>\n",
       "<style scoped>\n",
       "    .dataframe tbody tr th:only-of-type {\n",
       "        vertical-align: middle;\n",
       "    }\n",
       "\n",
       "    .dataframe tbody tr th {\n",
       "        vertical-align: top;\n",
       "    }\n",
       "\n",
       "    .dataframe thead th {\n",
       "        text-align: right;\n",
       "    }\n",
       "</style>\n",
       "<table border=\"1\" class=\"dataframe\">\n",
       "  <thead>\n",
       "    <tr style=\"text-align: right;\">\n",
       "      <th></th>\n",
       "      <th>blood_chemistry.albumin</th>\n",
       "      <th>blood_chemistry.aniongap</th>\n",
       "      <th>blood_chemistry.bicarbonate</th>\n",
       "      <th>blood_chemistry.bun</th>\n",
       "      <th>blood_chemistry.calcium</th>\n",
       "      <th>blood_chemistry.chloride</th>\n",
       "      <th>blood_chemistry.creatinine</th>\n",
       "      <th>blood_chemistry.globulin</th>\n",
       "      <th>blood_chemistry.glucose</th>\n",
       "      <th>blood_chemistry.potassium</th>\n",
       "      <th>...</th>\n",
       "      <th>vital.glucose</th>\n",
       "      <th>vital.heart_rate</th>\n",
       "      <th>vital.mbp</th>\n",
       "      <th>vital.mbp_ni</th>\n",
       "      <th>vital.resp_rate</th>\n",
       "      <th>vital.sbp</th>\n",
       "      <th>vital.sbp_ni</th>\n",
       "      <th>vital.spo2</th>\n",
       "      <th>vital.temperature</th>\n",
       "      <th>weight.weight</th>\n",
       "    </tr>\n",
       "  </thead>\n",
       "  <tbody>\n",
       "    <tr>\n",
       "      <th>blood_chemistry.albumin</th>\n",
       "      <td>10103</td>\n",
       "      <td>9441</td>\n",
       "      <td>9546</td>\n",
       "      <td>9433</td>\n",
       "      <td>8889</td>\n",
       "      <td>9605</td>\n",
       "      <td>9457</td>\n",
       "      <td>247</td>\n",
       "      <td>9512</td>\n",
       "      <td>9603</td>\n",
       "      <td>...</td>\n",
       "      <td>2933</td>\n",
       "      <td>204</td>\n",
       "      <td>149</td>\n",
       "      <td>78</td>\n",
       "      <td>202</td>\n",
       "      <td>148</td>\n",
       "      <td>76</td>\n",
       "      <td>196</td>\n",
       "      <td>62</td>\n",
       "      <td>7</td>\n",
       "    </tr>\n",
       "    <tr>\n",
       "      <th>blood_chemistry.aniongap</th>\n",
       "      <td>9441</td>\n",
       "      <td>70120</td>\n",
       "      <td>68995</td>\n",
       "      <td>67654</td>\n",
       "      <td>60134</td>\n",
       "      <td>69058</td>\n",
       "      <td>67533</td>\n",
       "      <td>229</td>\n",
       "      <td>67561</td>\n",
       "      <td>68868</td>\n",
       "      <td>...</td>\n",
       "      <td>22418</td>\n",
       "      <td>1686</td>\n",
       "      <td>1300</td>\n",
       "      <td>586</td>\n",
       "      <td>1673</td>\n",
       "      <td>1297</td>\n",
       "      <td>584</td>\n",
       "      <td>1598</td>\n",
       "      <td>492</td>\n",
       "      <td>84</td>\n",
       "    </tr>\n",
       "    <tr>\n",
       "      <th>blood_chemistry.bicarbonate</th>\n",
       "      <td>9546</td>\n",
       "      <td>68995</td>\n",
       "      <td>70515</td>\n",
       "      <td>67650</td>\n",
       "      <td>60356</td>\n",
       "      <td>69395</td>\n",
       "      <td>67422</td>\n",
       "      <td>228</td>\n",
       "      <td>67691</td>\n",
       "      <td>68985</td>\n",
       "      <td>...</td>\n",
       "      <td>22596</td>\n",
       "      <td>1715</td>\n",
       "      <td>1328</td>\n",
       "      <td>600</td>\n",
       "      <td>1698</td>\n",
       "      <td>1325</td>\n",
       "      <td>598</td>\n",
       "      <td>1622</td>\n",
       "      <td>498</td>\n",
       "      <td>86</td>\n",
       "    </tr>\n",
       "    <tr>\n",
       "      <th>blood_chemistry.bun</th>\n",
       "      <td>9433</td>\n",
       "      <td>67654</td>\n",
       "      <td>67650</td>\n",
       "      <td>70157</td>\n",
       "      <td>59422</td>\n",
       "      <td>68473</td>\n",
       "      <td>67857</td>\n",
       "      <td>220</td>\n",
       "      <td>66562</td>\n",
       "      <td>68480</td>\n",
       "      <td>...</td>\n",
       "      <td>22032</td>\n",
       "      <td>1682</td>\n",
       "      <td>1316</td>\n",
       "      <td>593</td>\n",
       "      <td>1663</td>\n",
       "      <td>1315</td>\n",
       "      <td>589</td>\n",
       "      <td>1586</td>\n",
       "      <td>493</td>\n",
       "      <td>79</td>\n",
       "    </tr>\n",
       "    <tr>\n",
       "      <th>blood_chemistry.calcium</th>\n",
       "      <td>8889</td>\n",
       "      <td>60134</td>\n",
       "      <td>60356</td>\n",
       "      <td>59422</td>\n",
       "      <td>62035</td>\n",
       "      <td>60878</td>\n",
       "      <td>59134</td>\n",
       "      <td>196</td>\n",
       "      <td>60017</td>\n",
       "      <td>60796</td>\n",
       "      <td>...</td>\n",
       "      <td>21006</td>\n",
       "      <td>1498</td>\n",
       "      <td>1132</td>\n",
       "      <td>571</td>\n",
       "      <td>1484</td>\n",
       "      <td>1133</td>\n",
       "      <td>570</td>\n",
       "      <td>1420</td>\n",
       "      <td>439</td>\n",
       "      <td>71</td>\n",
       "    </tr>\n",
       "    <tr>\n",
       "      <th>...</th>\n",
       "      <td>...</td>\n",
       "      <td>...</td>\n",
       "      <td>...</td>\n",
       "      <td>...</td>\n",
       "      <td>...</td>\n",
       "      <td>...</td>\n",
       "      <td>...</td>\n",
       "      <td>...</td>\n",
       "      <td>...</td>\n",
       "      <td>...</td>\n",
       "      <td>...</td>\n",
       "      <td>...</td>\n",
       "      <td>...</td>\n",
       "      <td>...</td>\n",
       "      <td>...</td>\n",
       "      <td>...</td>\n",
       "      <td>...</td>\n",
       "      <td>...</td>\n",
       "      <td>...</td>\n",
       "      <td>...</td>\n",
       "      <td>...</td>\n",
       "    </tr>\n",
       "    <tr>\n",
       "      <th>vital.sbp</th>\n",
       "      <td>148</td>\n",
       "      <td>1297</td>\n",
       "      <td>1325</td>\n",
       "      <td>1315</td>\n",
       "      <td>1133</td>\n",
       "      <td>1423</td>\n",
       "      <td>1348</td>\n",
       "      <td>5</td>\n",
       "      <td>1234</td>\n",
       "      <td>1428</td>\n",
       "      <td>...</td>\n",
       "      <td>31619</td>\n",
       "      <td>236347</td>\n",
       "      <td>352196</td>\n",
       "      <td>224378</td>\n",
       "      <td>232839</td>\n",
       "      <td>359791</td>\n",
       "      <td>229336</td>\n",
       "      <td>225471</td>\n",
       "      <td>62274</td>\n",
       "      <td>6205</td>\n",
       "    </tr>\n",
       "    <tr>\n",
       "      <th>vital.sbp_ni</th>\n",
       "      <td>76</td>\n",
       "      <td>584</td>\n",
       "      <td>598</td>\n",
       "      <td>589</td>\n",
       "      <td>570</td>\n",
       "      <td>644</td>\n",
       "      <td>607</td>\n",
       "      <td>2</td>\n",
       "      <td>589</td>\n",
       "      <td>642</td>\n",
       "      <td>...</td>\n",
       "      <td>11784</td>\n",
       "      <td>113761</td>\n",
       "      <td>223891</td>\n",
       "      <td>224002</td>\n",
       "      <td>112718</td>\n",
       "      <td>229336</td>\n",
       "      <td>229374</td>\n",
       "      <td>108523</td>\n",
       "      <td>26866</td>\n",
       "      <td>1492</td>\n",
       "    </tr>\n",
       "    <tr>\n",
       "      <th>vital.spo2</th>\n",
       "      <td>196</td>\n",
       "      <td>1598</td>\n",
       "      <td>1622</td>\n",
       "      <td>1586</td>\n",
       "      <td>1420</td>\n",
       "      <td>1710</td>\n",
       "      <td>1631</td>\n",
       "      <td>5</td>\n",
       "      <td>1543</td>\n",
       "      <td>1738</td>\n",
       "      <td>...</td>\n",
       "      <td>40519</td>\n",
       "      <td>332944</td>\n",
       "      <td>226587</td>\n",
       "      <td>109328</td>\n",
       "      <td>327510</td>\n",
       "      <td>225471</td>\n",
       "      <td>108523</td>\n",
       "      <td>357658</td>\n",
       "      <td>86935</td>\n",
       "      <td>7215</td>\n",
       "    </tr>\n",
       "    <tr>\n",
       "      <th>vital.temperature</th>\n",
       "      <td>62</td>\n",
       "      <td>492</td>\n",
       "      <td>498</td>\n",
       "      <td>493</td>\n",
       "      <td>439</td>\n",
       "      <td>523</td>\n",
       "      <td>503</td>\n",
       "      <td>2</td>\n",
       "      <td>482</td>\n",
       "      <td>536</td>\n",
       "      <td>...</td>\n",
       "      <td>16654</td>\n",
       "      <td>91406</td>\n",
       "      <td>62467</td>\n",
       "      <td>26922</td>\n",
       "      <td>90028</td>\n",
       "      <td>62274</td>\n",
       "      <td>26866</td>\n",
       "      <td>86935</td>\n",
       "      <td>97964</td>\n",
       "      <td>3660</td>\n",
       "    </tr>\n",
       "    <tr>\n",
       "      <th>weight.weight</th>\n",
       "      <td>7</td>\n",
       "      <td>84</td>\n",
       "      <td>86</td>\n",
       "      <td>79</td>\n",
       "      <td>71</td>\n",
       "      <td>87</td>\n",
       "      <td>81</td>\n",
       "      <td>0</td>\n",
       "      <td>87</td>\n",
       "      <td>86</td>\n",
       "      <td>...</td>\n",
       "      <td>1557</td>\n",
       "      <td>7730</td>\n",
       "      <td>6240</td>\n",
       "      <td>1506</td>\n",
       "      <td>7628</td>\n",
       "      <td>6205</td>\n",
       "      <td>1492</td>\n",
       "      <td>7215</td>\n",
       "      <td>3660</td>\n",
       "      <td>16109</td>\n",
       "    </tr>\n",
       "  </tbody>\n",
       "</table>\n",
       "<p>100 rows × 100 columns</p>\n",
       "</div>"
      ],
      "text/plain": [
       "                             blood_chemistry.albumin  \\\n",
       "blood_chemistry.albumin                        10103   \n",
       "blood_chemistry.aniongap                        9441   \n",
       "blood_chemistry.bicarbonate                     9546   \n",
       "blood_chemistry.bun                             9433   \n",
       "blood_chemistry.calcium                         8889   \n",
       "...                                              ...   \n",
       "vital.sbp                                        148   \n",
       "vital.sbp_ni                                      76   \n",
       "vital.spo2                                       196   \n",
       "vital.temperature                                 62   \n",
       "weight.weight                                      7   \n",
       "\n",
       "                             blood_chemistry.aniongap  \\\n",
       "blood_chemistry.albumin                          9441   \n",
       "blood_chemistry.aniongap                        70120   \n",
       "blood_chemistry.bicarbonate                     68995   \n",
       "blood_chemistry.bun                             67654   \n",
       "blood_chemistry.calcium                         60134   \n",
       "...                                               ...   \n",
       "vital.sbp                                        1297   \n",
       "vital.sbp_ni                                      584   \n",
       "vital.spo2                                       1598   \n",
       "vital.temperature                                 492   \n",
       "weight.weight                                      84   \n",
       "\n",
       "                             blood_chemistry.bicarbonate  blood_chemistry.bun  \\\n",
       "blood_chemistry.albumin                             9546                 9433   \n",
       "blood_chemistry.aniongap                           68995                67654   \n",
       "blood_chemistry.bicarbonate                        70515                67650   \n",
       "blood_chemistry.bun                                67650                70157   \n",
       "blood_chemistry.calcium                            60356                59422   \n",
       "...                                                  ...                  ...   \n",
       "vital.sbp                                           1325                 1315   \n",
       "vital.sbp_ni                                         598                  589   \n",
       "vital.spo2                                          1622                 1586   \n",
       "vital.temperature                                    498                  493   \n",
       "weight.weight                                         86                   79   \n",
       "\n",
       "                             blood_chemistry.calcium  \\\n",
       "blood_chemistry.albumin                         8889   \n",
       "blood_chemistry.aniongap                       60134   \n",
       "blood_chemistry.bicarbonate                    60356   \n",
       "blood_chemistry.bun                            59422   \n",
       "blood_chemistry.calcium                        62035   \n",
       "...                                              ...   \n",
       "vital.sbp                                       1133   \n",
       "vital.sbp_ni                                     570   \n",
       "vital.spo2                                      1420   \n",
       "vital.temperature                                439   \n",
       "weight.weight                                     71   \n",
       "\n",
       "                             blood_chemistry.chloride  \\\n",
       "blood_chemistry.albumin                          9605   \n",
       "blood_chemistry.aniongap                        69058   \n",
       "blood_chemistry.bicarbonate                     69395   \n",
       "blood_chemistry.bun                             68473   \n",
       "blood_chemistry.calcium                         60878   \n",
       "...                                               ...   \n",
       "vital.sbp                                        1423   \n",
       "vital.sbp_ni                                      644   \n",
       "vital.spo2                                       1710   \n",
       "vital.temperature                                 523   \n",
       "weight.weight                                      87   \n",
       "\n",
       "                             blood_chemistry.creatinine  \\\n",
       "blood_chemistry.albumin                            9457   \n",
       "blood_chemistry.aniongap                          67533   \n",
       "blood_chemistry.bicarbonate                       67422   \n",
       "blood_chemistry.bun                               67857   \n",
       "blood_chemistry.calcium                           59134   \n",
       "...                                                 ...   \n",
       "vital.sbp                                          1348   \n",
       "vital.sbp_ni                                        607   \n",
       "vital.spo2                                         1631   \n",
       "vital.temperature                                   503   \n",
       "weight.weight                                        81   \n",
       "\n",
       "                             blood_chemistry.globulin  \\\n",
       "blood_chemistry.albumin                           247   \n",
       "blood_chemistry.aniongap                          229   \n",
       "blood_chemistry.bicarbonate                       228   \n",
       "blood_chemistry.bun                               220   \n",
       "blood_chemistry.calcium                           196   \n",
       "...                                               ...   \n",
       "vital.sbp                                           5   \n",
       "vital.sbp_ni                                        2   \n",
       "vital.spo2                                          5   \n",
       "vital.temperature                                   2   \n",
       "weight.weight                                       0   \n",
       "\n",
       "                             blood_chemistry.glucose  \\\n",
       "blood_chemistry.albumin                         9512   \n",
       "blood_chemistry.aniongap                       67561   \n",
       "blood_chemistry.bicarbonate                    67691   \n",
       "blood_chemistry.bun                            66562   \n",
       "blood_chemistry.calcium                        60017   \n",
       "...                                              ...   \n",
       "vital.sbp                                       1234   \n",
       "vital.sbp_ni                                     589   \n",
       "vital.spo2                                      1543   \n",
       "vital.temperature                                482   \n",
       "weight.weight                                     87   \n",
       "\n",
       "                             blood_chemistry.potassium  ...  vital.glucose  \\\n",
       "blood_chemistry.albumin                           9603  ...           2933   \n",
       "blood_chemistry.aniongap                         68868  ...          22418   \n",
       "blood_chemistry.bicarbonate                      68985  ...          22596   \n",
       "blood_chemistry.bun                              68480  ...          22032   \n",
       "blood_chemistry.calcium                          60796  ...          21006   \n",
       "...                                                ...  ...            ...   \n",
       "vital.sbp                                         1428  ...          31619   \n",
       "vital.sbp_ni                                       642  ...          11784   \n",
       "vital.spo2                                        1738  ...          40519   \n",
       "vital.temperature                                  536  ...          16654   \n",
       "weight.weight                                       86  ...           1557   \n",
       "\n",
       "                             vital.heart_rate  vital.mbp  vital.mbp_ni  \\\n",
       "blood_chemistry.albumin                   204        149            78   \n",
       "blood_chemistry.aniongap                 1686       1300           586   \n",
       "blood_chemistry.bicarbonate              1715       1328           600   \n",
       "blood_chemistry.bun                      1682       1316           593   \n",
       "blood_chemistry.calcium                  1498       1132           571   \n",
       "...                                       ...        ...           ...   \n",
       "vital.sbp                              236347     352196        224378   \n",
       "vital.sbp_ni                           113761     223891        224002   \n",
       "vital.spo2                             332944     226587        109328   \n",
       "vital.temperature                       91406      62467         26922   \n",
       "weight.weight                            7730       6240          1506   \n",
       "\n",
       "                             vital.resp_rate  vital.sbp  vital.sbp_ni  \\\n",
       "blood_chemistry.albumin                  202        148            76   \n",
       "blood_chemistry.aniongap                1673       1297           584   \n",
       "blood_chemistry.bicarbonate             1698       1325           598   \n",
       "blood_chemistry.bun                     1663       1315           589   \n",
       "blood_chemistry.calcium                 1484       1133           570   \n",
       "...                                      ...        ...           ...   \n",
       "vital.sbp                             232839     359791        229336   \n",
       "vital.sbp_ni                          112718     229336        229374   \n",
       "vital.spo2                            327510     225471        108523   \n",
       "vital.temperature                      90028      62274         26866   \n",
       "weight.weight                           7628       6205          1492   \n",
       "\n",
       "                             vital.spo2  vital.temperature  weight.weight  \n",
       "blood_chemistry.albumin             196                 62              7  \n",
       "blood_chemistry.aniongap           1598                492             84  \n",
       "blood_chemistry.bicarbonate        1622                498             86  \n",
       "blood_chemistry.bun                1586                493             79  \n",
       "blood_chemistry.calcium            1420                439             71  \n",
       "...                                 ...                ...            ...  \n",
       "vital.sbp                        225471              62274           6205  \n",
       "vital.sbp_ni                     108523              26866           1492  \n",
       "vital.spo2                       357658              86935           7215  \n",
       "vital.temperature                 86935              97964           3660  \n",
       "weight.weight                      7215               3660          16109  \n",
       "\n",
       "[100 rows x 100 columns]"
      ]
     },
     "execution_count": 15,
     "metadata": {},
     "output_type": "execute_result"
    }
   ],
   "source": [
    "cooc = obs_mask.T.dot(obs_mask)\n",
    "cooc"
   ]
  },
  {
   "cell_type": "code",
   "execution_count": 16,
   "id": "82d35d3f-3cb5-47df-8580-4ce74e545308",
   "metadata": {},
   "outputs": [
    {
     "data": {
      "text/plain": [
       "<Axes: >"
      ]
     },
     "execution_count": 16,
     "metadata": {},
     "output_type": "execute_result"
    },
    {
     "data": {
      "image/png": "[encoded data removed]",
      "text/plain": [
       "<Figure size 640x480 with 2 Axes>"
      ]
     },
     "metadata": {},
     "output_type": "display_data"
    }
   ],
   "source": [
    "\n",
    "sns.heatmap(np.log10(cooc + 1))\n"
   ]
  },
  {
   "cell_type": "code",
   "execution_count": 17,
   "id": "c41bc77d-53b5-47c9-b9ea-1172bf807cbf",
   "metadata": {},
   "outputs": [
    {
     "data": {
      "text/plain": [
       "0.08695259245595174"
      ]
     },
     "execution_count": 17,
     "metadata": {},
     "output_type": "execute_result"
    }
   ],
   "source": [
    "np.mean(obs_mask)"
   ]
  },
  {
   "cell_type": "code",
   "execution_count": 18,
   "id": "3f86a6f9-0dff-4451-84a8-767c4b7171d7",
   "metadata": {},
   "outputs": [
    {
     "data": {
      "image/png": "[encoded data removed]",
      "text/plain": [
       "<Figure size 600.117x255.05 with 1 Axes>"
      ]
     },
     "metadata": {},
     "output_type": "display_data"
    }
   ],
   "source": [
    "import matplotlib as mpl\n",
    "\n",
    "\n",
    "p_mask = pd.DataFrame({'abundance': obs_mask.mean(axis=0)})\n",
    "\n",
    "\n",
    "# sns.kdeplot(data=p_mask, x=\"abundance\", log_scale=True)\n",
    "# sns.rugplot(data=p_mask, x=\"abundance\")\n",
    "sns.set_theme(style=\"ticks\")\n",
    "# sns.kdeplot(data=p_mask, x=\"abundance\", log_scale=True)\n",
    "g = sns.rugplot(data=p_mask, x=\"abundance\")\n",
    "g.set_xscale('log')\n",
    "\n",
    "sns.histplot(\n",
    "    p_mask,\n",
    "    x=\"abundance\", \n",
    "    edgecolor=\".3\",\n",
    "    linewidth=.5,\n",
    "    log_scale=True,\n",
    ")\n",
    "g.get_figure().set_size_inches(fig_width_in, fig_height_in * 1.5)\n",
    "g.get_figure().savefig(f\"{RESULTS_DIR}/features_abundance.pdf\")\n"
   ]
  },
  {
   "cell_type": "code",
   "execution_count": 19,
   "id": "bafd8d9d-dbca-41b7-bce3-6f186af0d885",
   "metadata": {},
   "outputs": [
    {
     "data": {
      "text/plain": [
       "(693898, 100)"
      ]
     },
     "execution_count": 19,
     "metadata": {},
     "output_type": "execute_result"
    }
   ],
   "source": [
    "obs_mask.shape"
   ]
  },
  {
   "cell_type": "markdown",
   "id": "c89b5fc4-7103-4100-84fd-d689ada680b0",
   "metadata": {},
   "source": [
    "# Model Configuration"
   ]
  },
  {
   "cell_type": "code",
   "execution_count": 20,
   "id": "3439194b-9c52-4feb-9b8a-dec561659ffd",
   "metadata": {},
   "outputs": [],
   "source": [
    "\n",
    "def models(e):\n",
    "    pmodels = {k: ProbStackedICNNImputer(observables_size=obs_mask.shape[1], state_size = 0, optimiser_name='polyak_sgd',  \n",
    "                                         positivity='abs', hidden_size_multiplier=2, depth=4, key=jrandom.PRNGKey(0))\n",
    "               for k in PROP_MODELS}\n",
    "    dmodels =  {k: ICNNObsDecoder(observables_size=obs_mask.shape[1], state_size = 0, optimiser_name='polyak_sgd',\n",
    "                                  positivity='abs', hidden_size_multiplier=3, depth=5, key=jrandom.PRNGKey(0)) \n",
    "                for k in DET_MODELS}\n",
    "    return (pmodels | dmodels)[e]\n",
    "    \n",
    "def trainers(e):\n",
    "    return {\n",
    "        'ICNN_LN': ProbICNNImputerTrainer(loss='log_normal'),\n",
    "        'ICNN_NLN': ProbICNNImputerTrainer(loss='log_normal', loss_feature_normalisation=True),\n",
    "        'ICNN_KL': ProbICNNImputerTrainer(loss='kl_divergence'),\n",
    "        'ICNN_NKL': ProbICNNImputerTrainer(loss='kl_divergence', loss_feature_normalisation=True),\n",
    "        'ICNN_MSE': StandardICNNImputerTrainer(),\n",
    "        'ICNN_NMSE': StandardICNNImputerTrainer(loss_feature_normalisation=True)\n",
    "    }[e]\n",
    "\n",
    "model = models(EXP)\n",
    "# trainer = trainers(EXP)"
   ]
  },
  {
   "cell_type": "markdown",
   "id": "f3e32931-6d99-4286-b059-12a62c61358d",
   "metadata": {},
   "source": [
    "# Training"
   ]
  },
  {
   "cell_type": "markdown",
   "id": "dcafbf5f-d168-4c7c-a217-b978da951f9a",
   "metadata": {},
   "source": [
    "## ICNN Training"
   ]
  },
  {
   "cell_type": "code",
   "execution_count": 21,
   "id": "c5a80153-56a6-4010-a3f8-0fcc51cce898",
   "metadata": {},
   "outputs": [],
   "source": [
    "# lr=1e-3\n",
    "# steps=10000\n",
    "# train_batch_size=256\n",
    "# test_batch_size=1024\n",
    "# # train_batch_size=1\n",
    "# # test_batch_size=1\n",
    "# eval_frequency = 10\n",
    "# model_snapshot_frequency = 100\n",
    "\n",
    "# optim = optax.novograd(lr)\n",
    "# opt_state = optim.init(eqx.filter(model, eqx.is_inexact_array))\n",
    "# data_train = (obs_val_train, obs_mask_train, art_mask_train)\n",
    "# data_test = (obs_val_test, obs_mask_test, art_mask_test)"
   ]
  },
  {
   "cell_type": "code",
   "execution_count": 22,
   "id": "1e9bc138-8411-4272-9f87-a7667dee68d4",
   "metadata": {},
   "outputs": [],
   "source": [
    "# train_batches = trainer.dataloader(data_train, train_batch_size, key=jrandom.PRNGKey(0))\n",
    "# test_batches = iter(trainer.dataloader(data_test, train_batch_size, key=jrandom.PRNGKey(0)))\n",
    "# train_history = defaultdict(list)\n",
    "# test_history = defaultdict(list)\n",
    "# model_snapshots = {}"
   ]
  },
  {
   "cell_type": "code",
   "execution_count": 23,
   "id": "667916bf-3ecb-49b2-84b2-fa701c4ddade",
   "metadata": {},
   "outputs": [],
   "source": [
    "# progress = tqdm(range(steps))\n",
    "\n",
    "# for step, batch_train in zip(progress, train_batches):\n",
    "#     start = time.time()\n",
    "#     (train_loss, train_aux), model, opt_state = trainer.make_step(model, optim, opt_state, *batch_train)\n",
    "#     r2_vec =  trainer.model_r_squared(model, *batch_train)\n",
    "#     r2_vec_rank = trainer.model_r_squared_ranked_prob(model, *batch_train, k=5)\n",
    "#     r2_vec = np.array(r2_vec)\n",
    "#     train_nsteps = int(sum(train_aux.n_steps) / len(train_aux.n_steps))\n",
    "#     train_history['R2'].append(r2_vec)\n",
    "#     train_history['R2_rank5'].append(r2_vec_rank)\n",
    "#     train_history['loss'].append(train_loss)\n",
    "#     train_history['n_opt_steps'].append(train_nsteps)\n",
    "    \n",
    "#     end = time.time()\n",
    "#     if (step % eval_frequency) == 0 or step == steps - 1:\n",
    "#         batch_test = next(test_batches)\n",
    "#         test_loss, _ = trainer.loss(model, *batch_test)\n",
    "#         r2_vec_test = trainer.model_r_squared(model, *batch_test)\n",
    "#         r2_vec_rank_test = trainer.model_r_squared_ranked_prob(model, *batch_test, k=10)\n",
    "#         r2_vec_test = np.array(r2_vec_test)\n",
    "#         test_history['loss'].append(test_loss)\n",
    "#         test_history['R2'].append(r2_vec_test)\n",
    "#         test_history['R2_rank10'].append(r2_vec_rank_test)\n",
    "\n",
    "#     if (step % model_snapshot_frequency) == 0 or step == steps - 1:\n",
    "#         model_snapshots[step] = model\n",
    "#         append_params_to_zip(model, f'step{step:04d}.eqx', f'{EXP_DIR[EXP]}/params.zip')\n",
    "\n",
    "#     progress.set_description(f\"Trn-L: {train_loss:.3f}, Trn-R2: ({np.nanmax(r2_vec_rank):.2f}, {np.nanmin(r2_vec_rank):.2f}, {np.nanmean(r2_vec_rank):.2f}, {np.nanmedian(r2_vec_rank):.2f}),  Trn-N-steps: {train_nsteps}, \" \n",
    "#                              f\"Tst-L:  {test_loss:.3f}, Tst-R2:  ({np.nanmax(r2_vec_rank_test):.2f}, {np.nanmin(r2_vec_rank_test):.2f}, {np.nanmean(r2_vec_rank_test):.2f}, {np.nanmedian(r2_vec_rank_test):.2f}), \"\n",
    "#                              f\"Computation time: {end - start:.2f}, \")\n",
    "                            "
   ]
  },
  {
   "cell_type": "code",
   "execution_count": 24,
   "id": "c557df37-73c9-407e-91d9-22f7f0049d83",
   "metadata": {},
   "outputs": [],
   "source": [
    "# zip_members(f'{EXP_DIR}/params.zip')"
   ]
  },
  {
   "cell_type": "markdown",
   "id": "3a6fd8da-08b1-4cd1-aed8-0e3bd3e05e0b",
   "metadata": {},
   "source": [
    "### Dump Training Statistics"
   ]
  },
  {
   "cell_type": "code",
   "execution_count": 25,
   "id": "55fb9a75-66da-4c40-817c-ffc978260f33",
   "metadata": {},
   "outputs": [],
   "source": [
    "# FIRST TIME - BEGIN \n",
    "\n",
    "# train_stats = pd.DataFrame(train_history)\n",
    "# test_stats = pd.DataFrame(test_history)\n",
    "\n",
    "# train_stats['split'] = 'Train'\n",
    "# train_stats['iteration'] = train_stats.index + 1\n",
    "# test_stats['split'] = 'Test'\n",
    "# test_stats['iteration'] = (test_stats.index * eval_frequency) + 1\n",
    "# training_stats = pd.concat([train_stats, test_stats])\n",
    "# training_stats_melted = pd.melt(training_stats, value_vars=['loss'], id_vars=['split', 'iteration'], value_name='Loss')\n",
    "# training_stats_melted = training_stats_melted.astype({'Loss': float})\n",
    "\n",
    "# training_stats.to_csv(f'{RESULTS_DIR}/{EXP}_training_stats.csv')  \n",
    "# training_stats_melted.to_csv(f'{RESULTS_DIR}/{EXP}_training_stats_melted.csv')  \n",
    "\n",
    "# FIRST TIME - END \n",
    "\n",
    "\n",
    "# LATER TIMES\n",
    "# training_stats = pd.read_csv(f'{RESULTS_DIR}/{EXP}_training_stats.csv', index_col=[0])  \n",
    "# training_stats_melted = pd.read_csv(f'{RESULTS_DIR}/{EXP}_training_stats_melted.csv', index_col=[0])  \n",
    "\n",
    "\n",
    "\n",
    "# g2 = sns.lineplot(data=training_stats_melted, x=\"iteration\", y=\"Loss\", hue=\"split\")\n",
    "# g2.get_figure().set_size_inches(fig_width_in, fig_height_in)\n",
    "# g2.get_figure().savefig(f\"{RESULTS_DIR}/{EXP}_training_stats.pdf\")"
   ]
  },
  {
   "cell_type": "markdown",
   "id": "29eb079d-85a1-496a-90ef-33d1e80f1541",
   "metadata": {},
   "source": [
    "## Sklearn Training"
   ]
  },
  {
   "cell_type": "code",
   "execution_count": 26,
   "id": "c5569883-85ef-4376-87cb-a183073031e0",
   "metadata": {},
   "outputs": [],
   "source": [
    "from sklearn.experimental import enable_iterative_imputer  # noqa\n",
    "from sklearn.impute import IterativeImputer, KNNImputer, SimpleImputer\n",
    "\n",
    "sklearn_imputers =  {\n",
    "    'zero_imputer': lambda: SimpleImputer(missing_values=np.nan, add_indicator=False, strategy=\"constant\", fill_value=0),\n",
    "    'mean_imputer': lambda: SimpleImputer(missing_values=np.nan, add_indicator=False, strategy=\"mean\", fill_value=0),\n",
    "    'knn_imputer': lambda: KNNImputer(missing_values=np.nan),\n",
    "    'iter_imputer': lambda: IterativeImputer(\n",
    "        missing_values=np.nan,\n",
    "        add_indicator=False,\n",
    "        random_state=0,\n",
    "        n_nearest_features=5,\n",
    "        max_iter=5,\n",
    "        sample_posterior=True,\n",
    "    )\n",
    "}\n",
    "\n",
    "# sklearn_trained_imputers = {k: v().fit(np.where(obs_mask_train, obs_val_train, np.nan)) for k, v in sklearn_imputers.items()} "
   ]
  },
  {
   "cell_type": "markdown",
   "id": "c927aead-36dd-4806-ba36-99e5f1d3c74a",
   "metadata": {},
   "source": [
    "# Metrics / Results"
   ]
  },
  {
   "cell_type": "code",
   "execution_count": 27,
   "id": "c9da35ee-5429-492b-81e8-bb0a29273588",
   "metadata": {},
   "outputs": [],
   "source": [
    "prediction_mask = (1 - art_mask_test) * obs_mask_test\n",
    "feature2index =  dict(zip(obs_val.columns, range(len(obs_val.columns))))\n",
    "n_train = ((1 - art_mask_train) * obs_mask_train).sum(axis=0)\n",
    "n_test = ((1 - art_mask_test) * obs_mask_test).sum(axis=0)\n",
    "n_train_measured = obs_mask_train.sum(axis=0)\n",
    "missingness = 1 - obs_mask.mean(axis=0)\n",
    "validation_missingness = 1 - pd.DataFrame(art_mask_test, columns=obs_mask.columns).mean(axis=0)"
   ]
  },
  {
   "cell_type": "code",
   "execution_count": 28,
   "id": "fc7be4d1-41e2-4edd-a808-9610b7f2b949",
   "metadata": {},
   "outputs": [
    {
     "data": {
      "text/plain": [
       "(Index(['blood_chemistry.albumin', 'blood_chemistry.aniongap',\n",
       "        'blood_chemistry.bicarbonate', 'blood_chemistry.bun',\n",
       "        'blood_chemistry.calcium', 'blood_chemistry.chloride',\n",
       "        'blood_chemistry.creatinine', 'blood_chemistry.glucose',\n",
       "        'blood_chemistry.potassium', 'blood_chemistry.sodium',\n",
       "        'blood_diff.basophils', 'blood_diff.basophils_abs',\n",
       "        'blood_diff.eosinophils', 'blood_diff.eosinophils_abs',\n",
       "        'blood_diff.lymphocytes', 'blood_diff.lymphocytes_abs',\n",
       "        'blood_diff.monocytes', 'blood_diff.monocytes_abs',\n",
       "        'blood_diff.neutrophils', 'blood_diff.neutrophils_abs',\n",
       "        'blood_gas.aado2_calc', 'blood_gas.baseexcess', 'blood_gas.calcium',\n",
       "        'blood_gas.fio2_chartevents', 'blood_gas.glucose', 'blood_gas.lactate',\n",
       "        'blood_gas.pao2fio2ratio', 'blood_gas.pco2', 'blood_gas.ph',\n",
       "        'blood_gas.po2', 'blood_gas.potassium', 'blood_gas.totalco2',\n",
       "        'cardiac_marker.ck_mb', 'cardiac_marker.troponin_t2', 'cbc.hematocrit',\n",
       "        'cbc.hemoglobin', 'cbc.mch', 'cbc.mchc', 'cbc.mcv', 'cbc.platelet',\n",
       "        'cbc.rbc', 'cbc.rdw', 'cbc.wbc', 'coagulation.inr', 'coagulation.pt',\n",
       "        'coagulation.ptt', 'enzymes.alp', 'enzymes.alt', 'enzymes.ast',\n",
       "        'enzymes.bilirubin_total', 'enzymes.ck_cpk', 'enzymes.ck_mb',\n",
       "        'enzymes.ld_ldh', 'icp.icp', 'renal_aki.aki_binary',\n",
       "        'renal_aki.aki_stage_smoothed', 'renal_creat.creat',\n",
       "        'renal_out.uo_rt_12hr', 'renal_out.uo_rt_24hr', 'renal_out.uo_rt_6hr',\n",
       "        'sofa.sofa_24hours', 'vital.dbp', 'vital.dbp_ni', 'vital.glucose',\n",
       "        'vital.heart_rate', 'vital.mbp', 'vital.mbp_ni', 'vital.resp_rate',\n",
       "        'vital.sbp', 'vital.sbp_ni', 'vital.spo2', 'vital.temperature',\n",
       "        'weight.weight'],\n",
       "       dtype='object'),\n",
       " 73)"
      ]
     },
     "execution_count": 28,
     "metadata": {},
     "output_type": "execute_result"
    }
   ],
   "source": [
    "n_test_censored = pd.Series(prediction_mask.sum(axis=0), index=obs_val.columns)\n",
    "p_test_censored = n_test_censored / len(prediction_mask)\n",
    "vars_n300 = n_test_censored[n_test_censored >= 300].index\n",
    "vars_n300_r = n_test_censored[n_test_censored < 300].index\n",
    "vars_n300, len(vars_n300)"
   ]
  },
  {
   "cell_type": "code",
   "execution_count": 29,
   "id": "f2a091cb-8df8-4d80-9468-86d5678d02fa",
   "metadata": {},
   "outputs": [],
   "source": [
    "variable_map = {'blood_chemistry.albumin': 'Albumin',  'blood_chemistry.aniongap': 'Aniongap',  \n",
    "                'blood_chemistry.bicarbonate': 'bc.Bicarbonate',  'blood_chemistry.bun': 'Urea Nitrogen', \n",
    "                'blood_chemistry.calcium': 'bc.Calcium',  'blood_chemistry.chloride': 'bc.Chloride',  \n",
    "                'blood_chemistry.creatinine': 'bc.Creatinine',  'blood_chemistry.globulin': 'Globulin',  \n",
    "                'blood_chemistry.glucose': 'bc.Glucose',  'blood_chemistry.potassium': 'bc.Potassium',  \n",
    "                'blood_chemistry.sodium': 'bc.Sodium',  'blood_chemistry.total_protein': 'Protein Total', \n",
    "                'blood_diff.atypical_lymphocytes': 'Atypical Lymphocytes',  'blood_diff.bands': 'Bands (%)',  \n",
    "                'blood_diff.basophils': 'Basophils',  'blood_diff.basophils_abs': 'Abs Basophils', \n",
    "                'blood_diff.eosinophils': 'Eosinophils',  'blood_diff.eosinophils_abs': 'Abs Eosinophils', \n",
    "                'blood_diff.immature_granulocytes': 'Immature Granulocytes',  'blood_diff.lymphocytes': 'Lymphocytes',\n",
    "                'blood_diff.lymphocytes_abs': 'Abs Lymphocytes',  'blood_diff.metamyelocytes': 'Metamyelocytes', \n",
    "                'blood_diff.monocytes': 'Monocytes',  'blood_diff.monocytes_abs': 'Abs Monocytes', \n",
    "                'blood_diff.neutrophils': 'Neutrophils',  'blood_diff.neutrophils_abs': 'Abs Neutrophil', \n",
    "                'blood_diff.nrbc': 'NRBC',  'blood_gas.aado2': 'AaDO2',  'blood_gas.aado2_calc': 'AaDO2_calc',\n",
    "                'blood_gas.baseexcess': 'Base excess',  'blood_gas.bicarbonate': 'bg.Bicarbonate',  'blood_gas.calcium': 'bg.Calcium',  \n",
    "                'blood_gas.carboxyhemoglobin': 'Carboxyhemoglobin',  'blood_gas.chloride': 'bg.Chloride',  'blood_gas.fio2': 'FiO2',  \n",
    "                'blood_gas.fio2_chartevents': 'FiO2_chartevents',  'blood_gas.glucose': 'bg.Glucose',  \n",
    "                'blood_gas.hematocrit': 'bg.Hematocrit',  'blood_gas.hemoglobin': 'bg.Hemoglobin',  'blood_gas.lactate': 'Lactate', \n",
    "                'blood_gas.methemoglobin': 'Methemoglobin',  'blood_gas.pao2fio2ratio': 'pO2/FiO2 ratio',  'blood_gas.pco2': 'pCO2',\n",
    "                'blood_gas.ph': 'pH',  'blood_gas.po2': 'pO2',  'blood_gas.potassium': 'bg.Potassium',  'blood_gas.so2': 'sO2', \n",
    "                'blood_gas.sodium': 'bg.Sodium',  'blood_gas.temperature': 'bg.Temperature',  'blood_gas.totalco2': 'CO2 total', \n",
    "                'cardiac_marker.ck_mb': 'Creatinine Kinase, MB',  'cardiac_marker.ntprobnp': 'NT-proBNP', \n",
    "                'cardiac_marker.troponin_t2': 'Troponin T',  'cbc.hematocrit': 'cbc.Hematocrit',  'cbc.hemoglobin': 'cbc.Hemoglobin', \n",
    "                'cbc.mch': 'MCH',  'cbc.mchc': 'MCHC',  'cbc.mcv': 'MCV',  'cbc.platelet': 'Platelet',  'cbc.rbc': 'RBC', \n",
    "                'cbc.rdw': 'RDW',  'cbc.wbc': 'WBC',  'coagulation.d_dimer': 'D-Dimer',  'coagulation.fibrinogen': 'Fibrinogen', \n",
    "                'coagulation.inr': 'INR',  'coagulation.pt': 'PT',  'coagulation.ptt': 'PTT',  'coagulation.thrombin': 'Thrombin',\n",
    "                'enzymes.alp': 'ALP',  'enzymes.alt': 'ALT',  'enzymes.amylase': 'Amylase',  'enzymes.ast': 'AST', \n",
    "                'enzymes.bilirubin_direct': 'Bilirubin direct',  'enzymes.bilirubin_indirect': 'Bilirubin indirect',\n",
    "                'enzymes.bilirubin_total': 'Bilirubin total',  'enzymes.ck_cpk': 'CK-CPK',  'enzymes.ck_mb':'CK-MB', \n",
    "                'enzymes.ggt': 'GGT',  'enzymes.ld_ldh': 'ld_ldh',  'icp.icp': 'Intra-cranial Press.',\n",
    "                'inflammation.crp': 'CRP',  'renal_aki.aki_binary': 'AKI (binary)',  'renal_aki.aki_stage_smoothed': 'AKI', \n",
    "                'renal_creat.creat': 'renal.Creatinine',  'renal_out.uo_rt_12hr': 'Urine out 12h',  'renal_out.uo_rt_24hr': 'Urine out 24h',\n",
    "                'renal_out.uo_rt_6hr': 'Urine out 6h',  'sofa.sofa_24hours': 'SOFA',  'vital.dbp': 'Diastolic BP', \n",
    "                'vital.dbp_ni': 'NI-Diastolic BP',  'vital.glucose': 'vital.Glucose',  'vital.heart_rate': 'Heart Rate',  \n",
    "                'vital.mbp':  'Mean BP',  'vital.mbp_ni': 'NI Mean BP',  'vital.resp_rate': 'Respiratory Rate', \n",
    "                'vital.sbp': 'Systolic BP',  'vital.sbp_ni':  'NI-Systolic BP',  'vital.spo2': 'SpO2',  \n",
    "                'vital.temperature': 'vital.Temperature',  'weight.weight': 'Weight'}"
   ]
  },
  {
   "cell_type": "markdown",
   "id": "4e2e8839-9dab-4409-952a-4c0a67b9b64f",
   "metadata": {},
   "source": [
    "## Metrics Evolution with ICNN Training"
   ]
  },
  {
   "cell_type": "code",
   "execution_count": 30,
   "id": "d6b7bd88-323c-4716-959a-7d2423c7fc85",
   "metadata": {},
   "outputs": [],
   "source": [
    "# FIRST TIME - BEGIN \n",
    "\n",
    "# dataframes = []\n",
    "# for step, model_snap in tqdm(model_snapshots.items()):\n",
    "#     with jax.default_device(jax.devices(\"cpu\")[0]):\n",
    "#         obs_test = jnp.where(art_mask_test, obs_val_test, 0.)\n",
    "#         (X_test_imp, X_test_std), _ = eqx.filter_vmap(model_snap.prob_partial_input_optimise)(obs_test, art_mask_test)\n",
    "    \n",
    "#     sigma_threshold = [4.0, 3.0, 2.5, 2.0, 1.5, 1.0, 0.5, 0.3, 0.2, 0.1, 0.05, 0.01]\n",
    "#     r2_vec_thresholded = [eqx.filter_vmap(ProbICNNImputerTrainer.r_squared_thresholded_prob)(obs_val_test.T, X_test_imp.T, prediction_mask.T, X_test_std.T,  t)\n",
    "#                           for t in sigma_threshold]\n",
    "    \n",
    "#     r2_test_results = pd.DataFrame(np.vstack(r2_vec_thresholded), columns=obs_val.columns)\n",
    "#     r2_test_results['sigma_threshold'] = sigma_threshold\n",
    "#     r2_test_results['step'] = step\n",
    "#     dataframes.append(r2_test_results)\n",
    "\n",
    "# r2_iters_test_results = pd.concat(dataframes)\n",
    "# r2_iters_test_results = pd.melt(r2_iters_test_results, value_vars=list(obs_val.columns), id_vars=['sigma_threshold', 'step'], value_name='R2')\n",
    "\n",
    "# r2_iters_test_results.to_csv(f'{RESULTS_DIR}/{EXP}_r2_iters_test_results.csv')\n",
    "# FIRST TIME - END \n",
    "# r2_iters_test_results = pd.read_csv(f'{RESULTS_DIR}/{EXP}_r2_iters_test_results.csv', index_col=[0])"
   ]
  },
  {
   "cell_type": "markdown",
   "id": "2312e999-64cf-49a5-a346-1eb934034609",
   "metadata": {},
   "source": []
  },
  {
   "cell_type": "code",
   "execution_count": 31,
   "id": "409180ae-f0b9-408c-8203-50c344e05454",
   "metadata": {},
   "outputs": [],
   "source": [
    "# r2_iters_test_results"
   ]
  },
  {
   "cell_type": "markdown",
   "id": "02237fc8-9f6c-48c3-afe0-06d3ffe641eb",
   "metadata": {},
   "source": [
    "## Metrics of the Last ICNN Snapshot"
   ]
  },
  {
   "cell_type": "markdown",
   "id": "c9c43011-35a5-4845-b3a5-e7af9abe28ef",
   "metadata": {},
   "source": [
    "### Inference with Last ICNN Snapshot (one-time)"
   ]
  },
  {
   "cell_type": "code",
   "execution_count": 32,
   "id": "019d2522-c9c6-4684-9dc4-a2cccd8df430",
   "metadata": {},
   "outputs": [],
   "source": [
    "# FIRST TIME - BEGIN \n",
    "# model = model.load_params_from_archive(f'{EXP_DIR[EXP]}/params.zip', 'step9999.eqx')\n",
    "# with jax.default_device(jax.devices(\"cpu\")[0]):\n",
    "#     obs_test = jnp.where(art_mask_test, obs_val_test, 0.)\n",
    "#     (X_test_imp, X_test_std), _ = eqx.filter_vmap(model.prob_partial_input_optimise)(obs_test, art_mask_test)\n",
    "\n",
    "# X_test_imp_df = pd.DataFrame(X_test_imp, columns=obs_val.columns)\n",
    "# X_test_std_df = pd.DataFrame(X_test_std, columns=obs_val.columns)\n",
    "\n",
    "# X_test_imp_df.to_csv(f'{RESULTS_DIR}/{EXP}_pred_X_test_imp.csv')\n",
    "# X_test_std_df.to_csv(f'{RESULTS_DIR}/{EXP}_pred_X_test_std.csv')\n",
    "# FIRST TIME - END "
   ]
  },
  {
   "cell_type": "code",
   "execution_count": null,
   "id": "b1683a37-fbb9-4688-b556-cce5f60a2a67",
   "metadata": {},
   "outputs": [],
   "source": [
    "import jax\n",
    "with jax.default_device(jax.dev"
   ]
  },
  {
   "cell_type": "markdown",
   "id": "4c9cdcc2-5454-4d10-a53c-d7a7ca2b719c",
   "metadata": {},
   "source": [
    "### Ablation Study - Optimiser / max_steps"
   ]
  },
  {
   "cell_type": "code",
   "execution_count": null,
   "id": "a9e70fca-672a-4826-a149-8d955c579ac4",
   "metadata": {},
   "outputs": [],
   "source": [
    "# FIRST TIME - BEGIN \n"
   ]
  },
  {
   "cell_type": "code",
   "execution_count": 35,
   "id": "bab01f2b-95c9-4b08-a9e7-e817d2e3d827",
   "metadata": {},
   "outputs": [
    {
     "data": {
      "application/json": {
       "ascii": false,
       "bar_format": null,
       "colour": null,
       "elapsed": 0.0024826526641845703,
       "initial": 0,
       "n": 0,
       "ncols": null,
       "nrows": 35,
       "postfix": null,
       "prefix": "",
       "rate": null,
       "total": 4,
       "unit": "it",
       "unit_divisor": 1000,
       "unit_scale": false
      },
      "application/vnd.jupyter.widget-view+json": {
       "model_id": "",
       "version_major": 2,
       "version_minor": 0
      },
      "text/plain": [
       "  0%|          | 0/4 [00:00<?, ?it/s]"
      ]
     },
     "metadata": {},
     "output_type": "display_data"
    },
    {
     "data": {
      "application/json": {
       "ascii": false,
       "bar_format": null,
       "colour": null,
       "elapsed": 0.0024521350860595703,
       "initial": 0,
       "n": 0,
       "ncols": null,
       "nrows": 35,
       "postfix": null,
       "prefix": "",
       "rate": null,
       "total": 5,
       "unit": "it",
       "unit_divisor": 1000,
       "unit_scale": false
      },
      "application/vnd.jupyter.widget-view+json": {
       "model_id": "",
       "version_major": 2,
       "version_minor": 0
      },
      "text/plain": [
       "  0%|          | 0/5 [00:00<?, ?it/s]"
      ]
     },
     "metadata": {},
     "output_type": "display_data"
    },
    {
     "data": {
      "application/json": {
       "ascii": false,
       "bar_format": null,
       "colour": null,
       "elapsed": 0.002451181411743164,
       "initial": 0,
       "n": 0,
       "ncols": null,
       "nrows": 35,
       "postfix": null,
       "prefix": "",
       "rate": null,
       "total": 4,
       "unit": "it",
       "unit_divisor": 1000,
       "unit_scale": false
      },
      "application/vnd.jupyter.widget-view+json": {
       "model_id": "",
       "version_major": 2,
       "version_minor": 0
      },
      "text/plain": [
       "  0%|          | 0/4 [00:00<?, ?it/s]"
      ]
     },
     "metadata": {},
     "output_type": "display_data"
    },
    {
     "data": {
      "application/json": {
       "ascii": false,
       "bar_format": null,
       "colour": null,
       "elapsed": 0.002259492874145508,
       "initial": 0,
       "n": 0,
       "ncols": null,
       "nrows": 35,
       "postfix": null,
       "prefix": "",
       "rate": null,
       "total": 4,
       "unit": "it",
       "unit_divisor": 1000,
       "unit_scale": false
      },
      "application/vnd.jupyter.widget-view+json": {
       "model_id": "",
       "version_major": 2,
       "version_minor": 0
      },
      "text/plain": [
       "  0%|          | 0/4 [00:00<?, ?it/s]"
      ]
     },
     "metadata": {},
     "output_type": "display_data"
    },
    {
     "data": {
      "application/json": {
       "ascii": false,
       "bar_format": null,
       "colour": null,
       "elapsed": 0.002330303192138672,
       "initial": 0,
       "n": 0,
       "ncols": null,
       "nrows": 35,
       "postfix": null,
       "prefix": "",
       "rate": null,
       "total": 4,
       "unit": "it",
       "unit_divisor": 1000,
       "unit_scale": false
      },
      "application/vnd.jupyter.widget-view+json": {
       "model_id": "",
       "version_major": 2,
       "version_minor": 0
      },
      "text/plain": [
       "  0%|          | 0/4 [00:00<?, ?it/s]"
      ]
     },
     "metadata": {},
     "output_type": "display_data"
    },
    {
     "data": {
      "application/json": {
       "ascii": false,
       "bar_format": null,
       "colour": null,
       "elapsed": 0.0023996829986572266,
       "initial": 0,
       "n": 0,
       "ncols": null,
       "nrows": 35,
       "postfix": null,
       "prefix": "",
       "rate": null,
       "total": 4,
       "unit": "it",
       "unit_divisor": 1000,
       "unit_scale": false
      },
      "application/vnd.jupyter.widget-view+json": {
       "model_id": "",
       "version_major": 2,
       "version_minor": 0
      },
      "text/plain": [
       "  0%|          | 0/4 [00:00<?, ?it/s]"
      ]
     },
     "metadata": {},
     "output_type": "display_data"
    },
    {
     "data": {
      "application/json": {
       "ascii": false,
       "bar_format": null,
       "colour": null,
       "elapsed": 0.002553701400756836,
       "initial": 0,
       "n": 0,
       "ncols": null,
       "nrows": 35,
       "postfix": null,
       "prefix": "",
       "rate": null,
       "total": 4,
       "unit": "it",
       "unit_divisor": 1000,
       "unit_scale": false
      },
      "application/vnd.jupyter.widget-view+json": {
       "model_id": "",
       "version_major": 2,
       "version_minor": 0
      },
      "text/plain": [
       "  0%|          | 0/4 [00:00<?, ?it/s]"
      ]
     },
     "metadata": {},
     "output_type": "display_data"
    },
    {
     "data": {
      "application/json": {
       "ascii": false,
       "bar_format": null,
       "colour": null,
       "elapsed": 0.002418994903564453,
       "initial": 0,
       "n": 0,
       "ncols": null,
       "nrows": 35,
       "postfix": null,
       "prefix": "",
       "rate": null,
       "total": 5,
       "unit": "it",
       "unit_divisor": 1000,
       "unit_scale": false
      },
      "application/vnd.jupyter.widget-view+json": {
       "model_id": "",
       "version_major": 2,
       "version_minor": 0
      },
      "text/plain": [
       "  0%|          | 0/5 [00:00<?, ?it/s]"
      ]
     },
     "metadata": {},
     "output_type": "display_data"
    },
    {
     "data": {
      "application/json": {
       "ascii": false,
       "bar_format": null,
       "colour": null,
       "elapsed": 0.0021588802337646484,
       "initial": 0,
       "n": 0,
       "ncols": null,
       "nrows": 35,
       "postfix": null,
       "prefix": "",
       "rate": null,
       "total": 4,
       "unit": "it",
       "unit_divisor": 1000,
       "unit_scale": false
      },
      "application/vnd.jupyter.widget-view+json": {
       "model_id": "",
       "version_major": 2,
       "version_minor": 0
      },
      "text/plain": [
       "  0%|          | 0/4 [00:00<?, ?it/s]"
      ]
     },
     "metadata": {},
     "output_type": "display_data"
    },
    {
     "data": {
      "application/json": {
       "ascii": false,
       "bar_format": null,
       "colour": null,
       "elapsed": 0.0022737979888916016,
       "initial": 0,
       "n": 0,
       "ncols": null,
       "nrows": 35,
       "postfix": null,
       "prefix": "",
       "rate": null,
       "total": 4,
       "unit": "it",
       "unit_divisor": 1000,
       "unit_scale": false
      },
      "application/vnd.jupyter.widget-view+json": {
       "model_id": "",
       "version_major": 2,
       "version_minor": 0
      },
      "text/plain": [
       "  0%|          | 0/4 [00:00<?, ?it/s]"
      ]
     },
     "metadata": {},
     "output_type": "display_data"
    },
    {
     "data": {
      "application/json": {
       "ascii": false,
       "bar_format": null,
       "colour": null,
       "elapsed": 0.0022809505462646484,
       "initial": 0,
       "n": 0,
       "ncols": null,
       "nrows": 35,
       "postfix": null,
       "prefix": "",
       "rate": null,
       "total": 4,
       "unit": "it",
       "unit_divisor": 1000,
       "unit_scale": false
      },
      "application/vnd.jupyter.widget-view+json": {
       "model_id": "",
       "version_major": 2,
       "version_minor": 0
      },
      "text/plain": [
       "  0%|          | 0/4 [00:00<?, ?it/s]"
      ]
     },
     "metadata": {},
     "output_type": "display_data"
    },
    {
     "data": {
      "application/json": {
       "ascii": false,
       "bar_format": null,
       "colour": null,
       "elapsed": 0.002596616744995117,
       "initial": 0,
       "n": 0,
       "ncols": null,
       "nrows": 35,
       "postfix": null,
       "prefix": "",
       "rate": null,
       "total": 4,
       "unit": "it",
       "unit_divisor": 1000,
       "unit_scale": false
      },
      "application/vnd.jupyter.widget-view+json": {
       "model_id": "",
       "version_major": 2,
       "version_minor": 0
      },
      "text/plain": [
       "  0%|          | 0/4 [00:00<?, ?it/s]"
      ]
     },
     "metadata": {},
     "output_type": "display_data"
    },
    {
     "data": {
      "application/json": {
       "ascii": false,
       "bar_format": null,
       "colour": null,
       "elapsed": 0.0025768280029296875,
       "initial": 0,
       "n": 0,
       "ncols": null,
       "nrows": 35,
       "postfix": null,
       "prefix": "",
       "rate": null,
       "total": 4,
       "unit": "it",
       "unit_divisor": 1000,
       "unit_scale": false
      },
      "application/vnd.jupyter.widget-view+json": {
       "model_id": "",
       "version_major": 2,
       "version_minor": 0
      },
      "text/plain": [
       "  0%|          | 0/4 [00:00<?, ?it/s]"
      ]
     },
     "metadata": {},
     "output_type": "display_data"
    },
    {
     "data": {
      "application/json": {
       "ascii": false,
       "bar_format": null,
       "colour": null,
       "elapsed": 0.002798795700073242,
       "initial": 0,
       "n": 0,
       "ncols": null,
       "nrows": 35,
       "postfix": null,
       "prefix": "",
       "rate": null,
       "total": 5,
       "unit": "it",
       "unit_divisor": 1000,
       "unit_scale": false
      },
      "application/vnd.jupyter.widget-view+json": {
       "model_id": "",
       "version_major": 2,
       "version_minor": 0
      },
      "text/plain": [
       "  0%|          | 0/5 [00:00<?, ?it/s]"
      ]
     },
     "metadata": {},
     "output_type": "display_data"
    },
    {
     "data": {
      "application/json": {
       "ascii": false,
       "bar_format": null,
       "colour": null,
       "elapsed": 0.0021910667419433594,
       "initial": 0,
       "n": 0,
       "ncols": null,
       "nrows": 35,
       "postfix": null,
       "prefix": "",
       "rate": null,
       "total": 4,
       "unit": "it",
       "unit_divisor": 1000,
       "unit_scale": false
      },
      "application/vnd.jupyter.widget-view+json": {
       "model_id": "",
       "version_major": 2,
       "version_minor": 0
      },
      "text/plain": [
       "  0%|          | 0/4 [00:00<?, ?it/s]"
      ]
     },
     "metadata": {},
     "output_type": "display_data"
    },
    {
     "data": {
      "application/json": {
       "ascii": false,
       "bar_format": null,
       "colour": null,
       "elapsed": 0.0024836063385009766,
       "initial": 0,
       "n": 0,
       "ncols": null,
       "nrows": 35,
       "postfix": null,
       "prefix": "",
       "rate": null,
       "total": 4,
       "unit": "it",
       "unit_divisor": 1000,
       "unit_scale": false
      },
      "application/vnd.jupyter.widget-view+json": {
       "model_id": "",
       "version_major": 2,
       "version_minor": 0
      },
      "text/plain": [
       "  0%|          | 0/4 [00:00<?, ?it/s]"
      ]
     },
     "metadata": {},
     "output_type": "display_data"
    },
    {
     "data": {
      "application/json": {
       "ascii": false,
       "bar_format": null,
       "colour": null,
       "elapsed": 0.002361774444580078,
       "initial": 0,
       "n": 0,
       "ncols": null,
       "nrows": 35,
       "postfix": null,
       "prefix": "",
       "rate": null,
       "total": 4,
       "unit": "it",
       "unit_divisor": 1000,
       "unit_scale": false
      },
      "application/vnd.jupyter.widget-view+json": {
       "model_id": "",
       "version_major": 2,
       "version_minor": 0
      },
      "text/plain": [
       "  0%|          | 0/4 [00:00<?, ?it/s]"
      ]
     },
     "metadata": {},
     "output_type": "display_data"
    },
    {
     "data": {
      "application/json": {
       "ascii": false,
       "bar_format": null,
       "colour": null,
       "elapsed": 0.002427339553833008,
       "initial": 0,
       "n": 0,
       "ncols": null,
       "nrows": 35,
       "postfix": null,
       "prefix": "",
       "rate": null,
       "total": 4,
       "unit": "it",
       "unit_divisor": 1000,
       "unit_scale": false
      },
      "application/vnd.jupyter.widget-view+json": {
       "model_id": "",
       "version_major": 2,
       "version_minor": 0
      },
      "text/plain": [
       "  0%|          | 0/4 [00:00<?, ?it/s]"
      ]
     },
     "metadata": {},
     "output_type": "display_data"
    },
    {
     "data": {
      "application/json": {
       "ascii": false,
       "bar_format": null,
       "colour": null,
       "elapsed": 0.002323627471923828,
       "initial": 0,
       "n": 0,
       "ncols": null,
       "nrows": 35,
       "postfix": null,
       "prefix": "",
       "rate": null,
       "total": 4,
       "unit": "it",
       "unit_divisor": 1000,
       "unit_scale": false
      },
      "application/vnd.jupyter.widget-view+json": {
       "model_id": "",
       "version_major": 2,
       "version_minor": 0
      },
      "text/plain": [
       "  0%|          | 0/4 [00:00<?, ?it/s]"
      ]
     },
     "metadata": {},
     "output_type": "display_data"
    },
    {
     "data": {
      "application/json": {
       "ascii": false,
       "bar_format": null,
       "colour": null,
       "elapsed": 0.0022995471954345703,
       "initial": 0,
       "n": 0,
       "ncols": null,
       "nrows": 35,
       "postfix": null,
       "prefix": "",
       "rate": null,
       "total": 5,
       "unit": "it",
       "unit_divisor": 1000,
       "unit_scale": false
      },
      "application/vnd.jupyter.widget-view+json": {
       "model_id": "",
       "version_major": 2,
       "version_minor": 0
      },
      "text/plain": [
       "  0%|          | 0/5 [00:00<?, ?it/s]"
      ]
     },
     "metadata": {},
     "output_type": "display_data"
    },
    {
     "data": {
      "application/json": {
       "ascii": false,
       "bar_format": null,
       "colour": null,
       "elapsed": 0.0020775794982910156,
       "initial": 0,
       "n": 0,
       "ncols": null,
       "nrows": 35,
       "postfix": null,
       "prefix": "",
       "rate": null,
       "total": 4,
       "unit": "it",
       "unit_divisor": 1000,
       "unit_scale": false
      },
      "application/vnd.jupyter.widget-view+json": {
       "model_id": "",
       "version_major": 2,
       "version_minor": 0
      },
      "text/plain": [
       "  0%|          | 0/4 [00:00<?, ?it/s]"
      ]
     },
     "metadata": {},
     "output_type": "display_data"
    },
    {
     "data": {
      "application/json": {
       "ascii": false,
       "bar_format": null,
       "colour": null,
       "elapsed": 0.0022156238555908203,
       "initial": 0,
       "n": 0,
       "ncols": null,
       "nrows": 35,
       "postfix": null,
       "prefix": "",
       "rate": null,
       "total": 4,
       "unit": "it",
       "unit_divisor": 1000,
       "unit_scale": false
      },
      "application/vnd.jupyter.widget-view+json": {
       "model_id": "",
       "version_major": 2,
       "version_minor": 0
      },
      "text/plain": [
       "  0%|          | 0/4 [00:00<?, ?it/s]"
      ]
     },
     "metadata": {},
     "output_type": "display_data"
    },
    {
     "data": {
      "application/json": {
       "ascii": false,
       "bar_format": null,
       "colour": null,
       "elapsed": 0.0023610591888427734,
       "initial": 0,
       "n": 0,
       "ncols": null,
       "nrows": 35,
       "postfix": null,
       "prefix": "",
       "rate": null,
       "total": 4,
       "unit": "it",
       "unit_divisor": 1000,
       "unit_scale": false
      },
      "application/vnd.jupyter.widget-view+json": {
       "model_id": "",
       "version_major": 2,
       "version_minor": 0
      },
      "text/plain": [
       "  0%|          | 0/4 [00:00<?, ?it/s]"
      ]
     },
     "metadata": {},
     "output_type": "display_data"
    },
    {
     "data": {
      "application/json": {
       "ascii": false,
       "bar_format": null,
       "colour": null,
       "elapsed": 0.0027725696563720703,
       "initial": 0,
       "n": 0,
       "ncols": null,
       "nrows": 35,
       "postfix": null,
       "prefix": "",
       "rate": null,
       "total": 4,
       "unit": "it",
       "unit_divisor": 1000,
       "unit_scale": false
      },
      "application/vnd.jupyter.widget-view+json": {
       "model_id": "",
       "version_major": 2,
       "version_minor": 0
      },
      "text/plain": [
       "  0%|          | 0/4 [00:00<?, ?it/s]"
      ]
     },
     "metadata": {},
     "output_type": "display_data"
    },
    {
     "data": {
      "application/json": {
       "ascii": false,
       "bar_format": null,
       "colour": null,
       "elapsed": 0.0024979114532470703,
       "initial": 0,
       "n": 0,
       "ncols": null,
       "nrows": 35,
       "postfix": null,
       "prefix": "",
       "rate": null,
       "total": 4,
       "unit": "it",
       "unit_divisor": 1000,
       "unit_scale": false
      },
      "application/vnd.jupyter.widget-view+json": {
       "model_id": "",
       "version_major": 2,
       "version_minor": 0
      },
      "text/plain": [
       "  0%|          | 0/4 [00:00<?, ?it/s]"
      ]
     },
     "metadata": {},
     "output_type": "display_data"
    }
   ],
   "source": [
    "# model =  models(EXP)#model.load_params_from_archive(f'{EXP_DIR[EXP]}/params.zip', 'step9999.eqx')\n",
    "\n",
    "# sample_index = jrandom.choice(jrandom.PRNGKey(42), a=len(art_mask_test), shape=(500,))\n",
    "# sample_obs_test = jnp.where(art_mask_test[sample_index], obs_val_test[sample_index], 0.)\n",
    "# sample_art_mask_test = art_mask_test[sample_index]\n",
    "# energy0 = eqx.filter_vmap(model.energy0)(sample_obs_test, sample_art_mask_test)\n",
    "\n",
    "# with jax.default_device(jax.devices(\"cpu\")[0]):\n",
    "#     energy = {}\n",
    "#     for opt in tqdm(('bfgs', 'nonlinear_cg'), leave=False):\n",
    "#         model = eqx.tree_at(lambda m: m.optimiser_name, model, opt)\n",
    "#         for max_steps_exp in tqdm((8, 9, 10, 11), leave=False):\n",
    "#             model = eqx.tree_at(lambda m: m.max_steps, model, 2**max_steps_exp)\n",
    "#             _, stats = eqx.filter_vmap(model.prob_partial_input_optimise)(sample_obs_test, sample_art_mask_test)\n",
    "#             energy[(opt, float('nan'), max_steps_exp)] = stats.energy\n",
    "            \n",
    "#     for opt in tqdm(('adam', \n",
    "#                      'polyak_sgd', \n",
    "#                      'lamb', \n",
    "#                      'yogi',\n",
    "#                ), leave=False):\n",
    "#         for lr in tqdm((1e-1, 1e-2, 1e-3, 1e-4, 1e-5), leave=False):\n",
    "#             for max_steps_exp in tqdm((8, 9, 10, 11), leave=False):\n",
    "#                 model = eqx.tree_at(lambda m: m.optimiser_name, model, opt)\n",
    "#                 model = eqx.tree_at(lambda m: m.max_steps, model, 2**max_steps_exp)\n",
    "#                 model = eqx.tree_at(lambda m: m.lr, model, lr)\n",
    "\n",
    "#                 _, stats = eqx.filter_vmap(model.prob_partial_input_optimise)(sample_obs_test, sample_art_mask_test)\n",
    "#                 energy[(opt, lr, max_steps_exp)] = stats.energy\n",
    "\n",
    "# data = defaultdict(list)\n",
    "\n",
    "# for (opt, lr, max_steps_exp), energy_vec in energy.items():\n",
    "#     data['opt'].extend([opt] * len(energy_vec))\n",
    "#     data['max_steps_exp'].extend([max_steps_exp] * len(energy_vec))\n",
    "#     data['lr'].extend([lr] * len(energy_vec))\n",
    "#     data['E'].extend((energy_vec).tolist())\n",
    "#     data['delta_E'].extend((energy0 - energy_vec).tolist())\n",
    "\n",
    "# energy_df = pd.DataFrame(data)\n",
    "# energy_df['max_steps'] = 2 ** energy_df['max_steps_exp']\n",
    "\n",
    "# energy_df.to_csv(f\"delta_E_untrained.csv\")"
   ]
  },
  {
   "cell_type": "code",
   "execution_count": 56,
   "id": "a9af8479-ccab-4e1f-a9ac-e0c1cf16f792",
   "metadata": {},
   "outputs": [],
   "source": [
    "# energy_df = pd.read_csv('delta_E_nmse_step9999.csv')\n",
    "energy_df = pd.read_csv('delta_E_untrained.csv')\n"
   ]
  },
  {
   "cell_type": "code",
   "execution_count": 55,
   "id": "96846d94-54fc-4812-b0b4-7f7a4be6b512",
   "metadata": {},
   "outputs": [
    {
     "data": {
      "text/plain": [
       "<Axes: xlabel='max_steps_exp', ylabel='delta_E'>"
      ]
     },
     "execution_count": 55,
     "metadata": {},
     "output_type": "execute_result"
    },
    {
     "data": {
      "image/png": "[encoded data removed]",
      "text/plain": [
       "<Figure size 640x480 with 1 Axes>"
      ]
     },
     "metadata": {},
     "output_type": "display_data"
    }
   ],
   "source": [
    "sns.lineplot(\n",
    "    data=energy_df[energy_df.lr.isin((0.0001, float('nan')))], x=\"max_steps_exp\", y=\"delta_E\", hue=\"opt\", err_style=\"bars\", errorbar=(\"se\", 2),\n",
    ")"
   ]
  },
  {
   "cell_type": "code",
   "execution_count": 12,
   "id": "cdb005bf-3334-4a66-bb36-be38150e2e1c",
   "metadata": {},
   "outputs": [],
   "source": [
    "grid = sns.FacetGrid(data=X_test_se_df_selection, col=\"group\", sharex=False, sharey=False, col_wrap=2,  )\n",
    "\n",
    "grid.map_dataframe(sns.boxplot, x=\"SE\", y=\"Feature\", hue=\"Imputer\", dodge=True,  palette=\"Set2\",#hue=\"Imputer\",\n",
    "                   showmeans=True, meanprops={'marker':'o','markerfacecolor':'white','markeredgecolor':'black','markersize':'5'},\n",
    "                    # line_kws=dict(linewidth=1.5, color=\"#cde\"),\n",
    "                    showfliers=False,\n",
    "                    fill=False,\n",
    "                     gap=0.5)\n",
    "\n",
    "# grid.map_dataframe(sns.boxenplot, x=\"SE\", y=\"Feature\", hue=\"Imputer\", dodge=True,  palette=\"Set2\",#hue=\"Imputer\",\n",
    "#                     # line_kws=dict(linewidth=1.5, color=\"#cde\"),\n",
    "#                     showfliers=False,\n",
    "#                     fill=False,\n",
    "#                      gap=0.5)\n",
    "\n",
    "grid.add_legend()\n",
    "grid.figure.set_size_inches(fig_width_in * 1.5, fig_height_in * 3)\n",
    "grid.savefig(f\"{RESULTS_DIR}/X_test_se_df_selection.pdf\")"
   ]
  },
  {
   "cell_type": "markdown",
   "id": "2f0156ca-10be-473d-b45a-b34c0de0225f",
   "metadata": {},
   "source": [
    "### Load ICNN Inference from Disk (one-time)"
   ]
  },
  {
   "cell_type": "code",
   "execution_count": 33,
   "id": "4c537ca0-2502-4e12-81bd-0c9a3d865fd0",
   "metadata": {},
   "outputs": [],
   "source": [
    "vars_n300"
   ]
  },
  {
   "cell_type": "code",
   "execution_count": 34,
   "id": "e11619b1-f825-47c7-bc91-1387fc37d421",
   "metadata": {},
   "outputs": [],
   "source": [
    "all_models_X_test_imp_df = {}\n",
    "prob_models_X_test_std_df = {}\n",
    "prob_models_X_var_stats_df = []\n",
    "all_models_X_test_se = []\n",
    "all_models_features_stats_df = []\n",
    "all_models_stats_df = []\n",
    "PERCENTILES = (95, 90, 80, 70, 60, 50, 25, 10)\n",
    "\n",
    "for model_name in list(EXP_DIR.keys()) + list(sklearn_imputers.keys()):\n",
    "    x_file = f'{RESULTS_DIR}/{model_name}_pred_X_test_imp.csv'\n",
    "    s_file = f'{RESULTS_DIR}/{model_name}_pred_X_test_std.csv'\n",
    "    if os.path.isfile(x_file):\n",
    "        X_test_imp_ = pd.read_csv(x_file, index_col=[0])\n",
    "        all_models_X_test_imp_df[model_name] = X_test_imp_\n",
    "\n",
    "        # Squared-Errors (per instance)\n",
    "        X_test_se_ = (X_test_imp_ - np.array(obs_val_test))**2\n",
    "        X_test_se_ = X_test_se_.where(prediction_mask.astype(bool), other=np.nan)\n",
    "        X_test_se_ = pd.melt(X_test_se_, value_vars=list(obs_val.columns), value_name='SE')\n",
    "        X_test_se_ = X_test_se_[X_test_se_.SE.notnull()]\n",
    "        X_test_se_['Imputer'] = model_name\n",
    "        all_models_X_test_se.append(X_test_se_)\n",
    "\n",
    "\n",
    "    if os.path.isfile(s_file):\n",
    "        X_test_std_ = pd.read_csv(s_file, index_col=[0])\n",
    "        prob_models_X_test_std_df[model_name] = X_test_std_\n",
    "        \n",
    "        X_test_var_ = np.where(prediction_mask.astype(bool), X_test_std_ ** 2, np.nan)\n",
    "        SE_ = (all_models_X_test_imp_df[model_name] - np.array(obs_val_test)) ** 2\n",
    "        SE_ = np.where(prediction_mask.astype(bool), SE_, np.nan)\n",
    "        se_data_ = defaultdict(list)\n",
    "        for i in range(SE_.shape[1]):\n",
    "            se_data_['SE'].extend(np.array(SE_[:, i][prediction_mask[:, i].astype(bool)]).tolist())\n",
    "            se_data_[r'$\\hat{\\sigma}^2$'].extend(np.array(X_test_var_[:, i][prediction_mask[:, i].astype(bool)]).tolist())\n",
    "            se_data_['Feature'].extend([obs_val.columns[i]] * int(prediction_mask[:, i].sum()))\n",
    "        se_df_ = pd.DataFrame(se_data_)\n",
    "        se_df_['Imputer'] = model_name\n",
    "        \n",
    "        prob_models_X_var_stats_df.append(se_df_)\n",
    "\n",
    "    if model_name not in all_models_X_test_imp_df:\n",
    "        continue\n",
    "\n",
    "    # R2/MSE (per feature)\n",
    "    X_test_imp_ = jnp.array(all_models_X_test_imp_df[model_name])\n",
    "    features_r2_ = eqx.filter_vmap(ProbICNNImputerTrainer.r_squared)(obs_val_test.T, X_test_imp_.T, prediction_mask.T)\n",
    "    se_ = (np.array(all_models_X_test_imp_df[model_name]) - np.array(obs_val_test)) ** 2\n",
    "    mse_ = np.nanmean(se_, axis=0, where=prediction_mask.astype(bool))\n",
    "    features_stats_df_ = pd.DataFrame({r'$R^2$': np.array(features_r2_), \n",
    "                                       'MSE': mse_,\n",
    "                                       'Feature': all_models_X_test_imp_df[model_name].columns,\n",
    "                                       'Imputer': [model_name] * len(mse_)})\n",
    "\n",
    "    # r_spearman(SE, sigma2) (per feature)\n",
    "    if model_name in prob_models_X_test_std_df:\n",
    "        X_test_var_ = np.where(prediction_mask.astype(bool), prob_models_X_test_std_df[model_name] ** 2, np.nan)\n",
    "        features_stats_df_[r'$r_\\text{Spearman}(SE, \\hat{\\sigma}^2)$'] = [spearmanr(se_i[mi], sigma2_i[mi]).statistic\n",
    "                                                 for se_i, sigma2_i, mi in zip(se_.T, X_test_var_.T, prediction_mask.astype(bool).T)]\n",
    "        features_stats_df_[r'$r_\\text{Pearson}(SE, \\hat{\\sigma}^2)$'] = [pearsonr(se_i[mi], sigma2_i[mi]).statistic if mi.sum() > 2 else float('nan')\n",
    "                                                 for se_i, sigma2_i, mi in zip(se_.T, X_test_var_.T, prediction_mask.astype(bool).T) ]\n",
    "\n",
    "        features_stats_df_[r'$r_\\text{Log-Pearson}(SE, \\hat{\\sigma}^2)$'] = [pearsonr(np.log(se_i[mi]), np.log(sigma2_i[mi])).statistic if mi.sum() > 2 else float('nan')\n",
    "                                         for se_i, sigma2_i, mi in zip(se_.T, X_test_var_.T, prediction_mask.astype(bool).T) ]\n",
    "\n",
    "        # After Transpose, shape: (N_percentiles, n_features)\n",
    "        features_percentiles = np.vstack([np.percentile(sigma2_i[mi], PERCENTILES)  for (sigma2_i, mi) in zip(X_test_var_.T, prediction_mask.astype(bool).T)]).T\n",
    "\n",
    "        for percent, percentile in zip(PERCENTILES, features_percentiles):\n",
    "            prediction_mask_p = np.vstack([mi * (sigma2_i <= p_i) for \n",
    "                                           (p_i, sigma2_i, mi) in zip(percentile, X_test_var_.T, prediction_mask.astype(bool).T)]).T\n",
    "            features_stats_df_[rf'$R^2@P{percent}$'] = np.array(eqx.filter_vmap(ProbICNNImputerTrainer.r_squared)(obs_val_test.T, X_test_imp_.T, prediction_mask_p.T)).squeeze()\n",
    "            features_stats_df_[f'MSE@P{percent}'] = np.nanmean(se_, axis=0, where=prediction_mask_p).squeeze()\n",
    "\n",
    "        \n",
    "        \n",
    "        \n",
    "\n",
    "    all_models_features_stats_df.append(features_stats_df_)\n",
    "\n",
    "    # R2/MSE (per model)\n",
    "    features_stats_300_df = features_stats_df_[features_stats_df_.Feature.isin(vars_n300)]\n",
    "    weighted_avg_R2 = np.average(features_stats_300_df[r'$R^2$'], \n",
    "                                 weights=features_stats_300_df['Feature'].map(n_test_censored))\n",
    "    \n",
    "    model_stats_df_ = pd.DataFrame({'Imputer': [model_name],\n",
    "                                    'MSE': [np.nanmean(se_, where=prediction_mask.astype(bool))],\n",
    "                                    r'$R^2$': [ProbICNNImputerTrainer.r_squared(obs_val_test, X_test_imp_, prediction_mask).item()],\n",
    "                                    r'MICRO-AVG($R^2$)': [ProbICNNImputerTrainer.r_squared_micro_average(obs_val_test, X_test_imp_, prediction_mask).item()],\n",
    "                                    r'MACRO-AVG($R^2$)*': [features_stats_300_df[r'$R^2$'].mean()]})\n",
    "\n",
    "    # corr(SE, sigma2) (per model)\n",
    "    if model_name in prob_models_X_test_std_df:\n",
    "        X_test_var_ = np.where(prediction_mask.astype(bool), prob_models_X_test_std_df[model_name] ** 2, np.nan).flatten()\n",
    "        m_ = prediction_mask.astype(bool).flatten()\n",
    "        model_stats_df_[r'$r_\\text{Pearson}(SE, \\hat{\\sigma}^2)$'] = [pearsonr(se_.flatten()[m_], X_test_var_[m_]).statistic]\n",
    "        model_stats_df_[r'$r_\\text{Log-Pearson}(SE, \\hat{\\sigma}^2)$'] = [pearsonr(np.log(se_.flatten()[m_]), np.log(X_test_var_[m_])).statistic]\n",
    "\n",
    "        model_stats_df_[r'$r_\\text{Spearman}(SE, \\hat{\\sigma}^2)$'] = [spearmanr(se_.flatten()[m_], X_test_var_[m_]).statistic]\n",
    "    all_models_stats_df.append(model_stats_df_)\n",
    "    \n",
    "all_models_X_test_se = pd.concat(all_models_X_test_se)\n",
    "prob_models_X_var_stats_df = pd.concat(prob_models_X_var_stats_df)\n",
    "all_models_features_stats_df = pd.concat(all_models_features_stats_df)\n",
    "all_models_stats_df = pd.concat(all_models_stats_df)\n",
    "\n",
    "prob_models_X_var_stats_df['LN'] = prob_models_X_var_stats_df['SE'] / prob_models_X_var_stats_df[r'$\\hat{\\sigma}^2$'] + np.log(prob_models_X_var_stats_df[r'$\\hat{\\sigma}^2$'])"
   ]
  },
  {
   "cell_type": "code",
   "execution_count": 35,
   "id": "e3d043a7-5612-4ba9-ac40-5825d3a071a0",
   "metadata": {},
   "outputs": [],
   "source": [
    "# all_models_features_stats_df\n",
    "features_LN = prob_models_X_var_stats_df.groupby(['Imputer', 'Feature'])['LN'].mean()\n",
    "all_models_features_stats_df = all_models_features_stats_df.set_index(['Imputer', 'Feature'])\n",
    "all_models_features_stats_df.loc[features_LN.index, 'LN'] = features_LN\n",
    "all_models_features_stats_df = all_models_features_stats_df.reset_index()\n",
    "all_models_features_stats_df"
   ]
  },
  {
   "cell_type": "code",
   "execution_count": 36,
   "id": "802a9099-ee2a-44e4-94cb-1151f518c76b",
   "metadata": {},
   "outputs": [],
   "source": [
    "models_LN = prob_models_X_var_stats_df.groupby(['Imputer'])['LN'].mean()\n",
    "all_models_stats_df = all_models_stats_df.set_index('Imputer')\n",
    "all_models_stats_df.loc[models_LN.index, 'LN'] = models_LN\n",
    "all_models_stats_df = all_models_stats_df.reset_index()\n",
    "all_models_stats_df"
   ]
  },
  {
   "cell_type": "code",
   "execution_count": 37,
   "id": "9df03394-8acb-4846-8c41-f3d6f922de6c",
   "metadata": {},
   "outputs": [],
   "source": [
    "prob_models_X_var_stats_df.groupby(['Imputer'])['LN'].mean()"
   ]
  },
  {
   "cell_type": "code",
   "execution_count": 38,
   "id": "f2c74ebb-16b9-444f-a336-4e05e0a7c34a",
   "metadata": {},
   "outputs": [],
   "source": [
    "all_models_features_stats_df.Imputer.unique()"
   ]
  },
  {
   "cell_type": "code",
   "execution_count": 39,
   "id": "02b08d3c-9a9b-4de5-b8ae-36edf08eb137",
   "metadata": {},
   "outputs": [],
   "source": [
    "p_abundance = obs_mask.mean(axis=0)\n",
    "for name, model_df in all_models_features_stats_df.groupby('Imputer'):\n",
    "    df = model_df[model_df.Feature.isin(vars_n300)]\n",
    "    stat = spearmanr(df[r'$R^2$'], df.Feature.map(p_abundance)).statistic\n",
    "    loc = all_models_stats_df.Imputer == name\n",
    "    all_models_stats_df.loc[loc, r'$r_\\text{Spearman}(R^2, \\text{abundance})$'] = stat\n",
    "    "
   ]
  },
  {
   "cell_type": "code",
   "execution_count": 40,
   "id": "e6bc065d-9271-4585-880c-15528fa9c758",
   "metadata": {},
   "outputs": [],
   "source": [
    "all_models_stats_df"
   ]
  },
  {
   "cell_type": "code",
   "execution_count": 41,
   "id": "471ab510-ca1d-4d6b-833e-67d1b5fd2c1b",
   "metadata": {},
   "outputs": [],
   "source": [
    "all_models_features_stats_df"
   ]
  },
  {
   "cell_type": "code",
   "execution_count": 42,
   "id": "7fa41071-d0ef-456d-bd4a-96553488de6a",
   "metadata": {},
   "outputs": [],
   "source": [
    "r_classes = [r'$r > 0.3$', r'$r \\in [0.1, 0.3]$', r'$r \\in [-0.1, 0.1]$', r'$r \\leq -0.1$']\n",
    "R_classes = [r'$R^2 > 0.25$', r'$R^2 \\in (0.1, 0.25]$', r'$R^2 \\in [-0.1, 0.1]$', r'$R^2 \\in (-1, -0.1]$',  r'$R^2 \\in (-9, -1]$', r'$R^2 < -9$']\n",
    "def classify_r(r):\n",
    "    if r > 0.3:\n",
    "        return r_classes[0]\n",
    "    elif r > 0.1:\n",
    "        return r_classes[1]\n",
    "    elif r >= -0.1:\n",
    "        return r_classes[2]\n",
    "    elif r < -0.1:\n",
    "        return r_classes[3]\n",
    "    else:\n",
    "        return 'NA'\n",
    "\n",
    "def classify_R(R):\n",
    "    if R > 0.25:\n",
    "        return R_classes[0]\n",
    "    elif R > 0.1:\n",
    "        return R_classes[1]\n",
    "    elif R >= -0.1:\n",
    "        return R_classes[2]\n",
    "    elif R >= -1:\n",
    "        return R_classes[3] \n",
    "    elif R >= -9:\n",
    "        return R_classes[4]\n",
    "    elif R < -9:\n",
    "        return R_classes[5]\n",
    "    else:\n",
    "        return 'NA'\n",
    "\n",
    "all_models_features_stats_df[r'$r(SE, \\hat{\\sigma}^2)$ bin'] = all_models_features_stats_df[r'$r_\\text{Pearson}(SE, \\hat{\\sigma}^2)$'].map(classify_r)\n",
    "all_models_features_stats_df[r'$r_\\text{log}(SE, \\hat{\\sigma}^2)$ bin'] = all_models_features_stats_df[r'$r_\\text{Log-Pearson}(SE, \\hat{\\sigma}^2)$'].map(classify_r)\n",
    "\n",
    "all_models_features_stats_df[r'$R^2$ bin'] = all_models_features_stats_df[r'$R^2$'].map(classify_R)\n"
   ]
  },
  {
   "cell_type": "code",
   "execution_count": 43,
   "id": "7650b13f-ca3d-45a5-ac67-36c6f4380659",
   "metadata": {},
   "outputs": [],
   "source": [
    "for p in PERCENTILES:\n",
    "    all_models_features_stats_df[rf'$R^2@P{p}$ bin'] = all_models_features_stats_df[rf'$R^2@P{p}$'].map(classify_R)\n"
   ]
  },
  {
   "cell_type": "code",
   "execution_count": 44,
   "id": "07c93709-d683-4986-940d-66199b086a25",
   "metadata": {},
   "outputs": [],
   "source": [
    "all_models_features_stats_df"
   ]
  },
  {
   "cell_type": "code",
   "execution_count": 45,
   "id": "eaa604c5-4e85-409d-8a2d-f312aa5d6333",
   "metadata": {},
   "outputs": [],
   "source": [
    "len(vars_n300)"
   ]
  },
  {
   "cell_type": "code",
   "execution_count": 46,
   "id": "20204760-6eb4-4612-9a56-8462105c1be6",
   "metadata": {},
   "outputs": [],
   "source": [
    "prob_models_features_stats_df = all_models_features_stats_df[all_models_features_stats_df[r'$r_\\text{Pearson}(SE, \\hat{\\sigma}^2)$'].notnull()]\n",
    "prob_models_features_stats_df = prob_models_features_stats_df[prob_models_features_stats_df.Feature.isin(vars_n300)]\n",
    "\n",
    "prob_models_features_stats_df['Imputer'] = prob_models_features_stats_df['Imputer'].map(ICNN_RENAMES)\n",
    "\n",
    "r_bins = prob_models_features_stats_df.groupby(['Imputer', r'$r(SE, \\hat{\\sigma}^2)$ bin'])['Feature'].count().reset_index()\n",
    "r_bins.columns = ['Imputer', r'$r(SE, \\hat{\\sigma}^2)$ bin', 'Count']\n",
    "r_bins = r_bins.pivot_table(index=\"Imputer\", values='Count', columns=r'$r(SE, \\hat{\\sigma}^2)$ bin')\n",
    "\n",
    "\n",
    "ax = r_bins.plot(y=r_classes, kind=\"bar\", rot=0, stacked=True, colormap='RdYlGn_r', ylabel='Features Count')\n",
    "_ = ax.legend(bbox_to_anchor=(1, 1.02), loc='upper left')\n",
    "ax.get_figure().set_size_inches(fig_width_in * 1.2, fig_height_in)\n",
    "ax.get_figure().savefig(f\"{RESULTS_DIR}/prob_icnn_r_bins.pdf\")"
   ]
  },
  {
   "cell_type": "code",
   "execution_count": 47,
   "id": "a74f256b-4cd5-496c-bcfc-0ac5eb4d85e6",
   "metadata": {},
   "outputs": [],
   "source": [
    "# prob_models_features_stats_df = all_models_features_stats_df[all_models_features_stats_df[r'$r_\\text{Log-Pearson}(SE, \\hat{\\sigma}^2)$'].notnull()]\n",
    "# prob_models_features_stats_df = prob_models_features_stats_df[prob_models_features_stats_df.Feature.isin(vars_n300)]\n",
    "\n",
    "# prob_models_features_stats_df['Imputer'] = prob_models_features_stats_df['Imputer'].map(ICNN_RENAMES)\n",
    "\n",
    "# r_bins = prob_models_features_stats_df.groupby(['Imputer', r'$r_\\text{log}(SE, \\hat{\\sigma}^2)$ bin'])['Feature'].count().reset_index()\n",
    "# r_bins.columns = ['Imputer', r'$r_\\text{log}(SE, \\hat{\\sigma}^2)$ bin', 'Count']\n",
    "# r_bins = r_bins.pivot_table(index=\"Imputer\", values='Count', columns=r'$r_\\text{log}(SE, \\hat{\\sigma}^2)$ bin')\n",
    "\n",
    "\n",
    "# ax = r_bins.plot(y=r_classes, kind=\"bar\", rot=0, stacked=True, colormap='RdYlGn_r', ylabel='Features Count')\n",
    "# _ = ax.legend(bbox_to_anchor=(1, 1.02), loc='upper left')\n",
    "# ax.get_figure().set_size_inches(fig_width_in * 1.2, fig_height_in)\n",
    "# ax.get_figure().savefig(f\"{RESULTS_DIR}/prob_icnn_r_bins.pdf\")"
   ]
  },
  {
   "cell_type": "code",
   "execution_count": 48,
   "id": "4ea4c32b-7c97-4218-96f7-8f384c66bc0f",
   "metadata": {},
   "outputs": [],
   "source": [
    "table_ablation0 = all_models_stats_df.copy()\n",
    "\n",
    "table_ablation0['Imputer'] = all_models_stats_df['Imputer'].map(ICNN_RENAMES)\n",
    "ablation_models = [m for m in table_ablation0.Imputer.unique() if m == m and  m.startswith('P-ICNN')]\n",
    "\n",
    "table_ablation0 = table_ablation0.set_index('Imputer').loc[ablation_models,  ['MSE', r'MICRO-AVG($R^2$)',  r'MACRO-AVG($R^2$)*', 'LN', r'$r_\\text{Pearson}(SE, \\hat{\\sigma}^2)$'] ].transpose()\n",
    "table_ablation0.columns =  list(map(lambda c: f'\\\\texttt{{{c}}}', table_ablation0.columns))\n",
    "table_ablation0.columns = list(map(lambda c: c.replace(\"_\", \"\\\\_\"), table_ablation0.columns))\n",
    "table_ablation0.columns.name = 'Imputer'\n",
    "table_ablation0 = table_ablation0.sort_values('MSE', ascending=False, axis=1)\n",
    "table_ablation0"
   ]
  },
  {
   "cell_type": "code",
   "execution_count": 50,
   "id": "ee899428-2bc1-4c90-8c5f-4b20ce16ac81",
   "metadata": {},
   "outputs": [],
   "source": [
    "table_stl_ablation0 = (table_ablation0.style\n",
    "              # .background_gradient(cmap='RdYlGn', axis=1, low=-0, high=0.5,  vmin=-0.6, vmax=0.3, subset= pd.IndexSlice[[r'$R^2$'], :])\n",
    "              # .background_gradient(cmap='RdYlGn_r', axis=1,  low=0.08, high=0.110,  vmin=0.08, vmax=0.110, subset= pd.IndexSlice[['MSE'], :])\n",
    "              # .apply_index(lambda x: [\"background-color: #E5E4E2;\"] * len(x))\n",
    "              .format(precision=3))\n",
    "table_stl_ablation0"
   ]
  },
  {
   "cell_type": "code",
   "execution_count": 51,
   "id": "53af7d18-5d7f-4f64-b65f-6cc7c9d248e7",
   "metadata": {},
   "outputs": [],
   "source": [
    "table_ltx_ablation0 = (table_stl_ablation0.to_latex(caption=r\"Ablation study on the effect of the probabilistic loss function choice on the performance of \"\n",
    "                                                    r\"\\texttt{P-ICNN} models. The estimations are made on the validation split.\"\n",
    "                                                    r\"For the $\\text{MACRO-AVG}(R^2)*$, features with less than $N<300$ in the test split are excluded, \"\n",
    "                                                    r\"of which some have $-\\infty$ values. \"\n",
    "                                                    r\" $r_\\text{Pearson}(SE, \\hat{\\sigma}^2)$ is the correlation between the prediction \\gls*{se} and the predicted variance (the higher the better).\",\n",
    "                       position_float=\"centering\",\n",
    "                       convert_css=True,\n",
    "                       hrules=True,)\n",
    "              .replace('\\\\toprule', '\\\\hline').replace('\\\\midrule', '\\\\hline').replace('\\\\bottomrule','\\\\hline'))\n",
    "print(table_ltx_ablation0)"
   ]
  },
  {
   "cell_type": "code",
   "execution_count": 52,
   "id": "114658a7-01ec-4492-b283-b01916374643",
   "metadata": {},
   "outputs": [],
   "source": [
    "table_ablation1 = all_models_stats_df.copy()\n",
    "\n",
    "table_ablation1['Imputer'] = all_models_stats_df['Imputer'].map(ICNN_RENAMES)\n",
    "ablation_models = [m for m in table_ablation1.Imputer.unique() if m == m and  m.startswith('S-ICNN')]\n",
    "\n",
    "table_ablation1 = table_ablation1.set_index('Imputer').loc[ablation_models,  ['MSE', r'MICRO-AVG($R^2$)', r'MACRO-AVG($R^2$)*'] ].transpose()\n",
    "table_ablation1.columns =  list(map(lambda c: f'\\\\texttt{{{c}}}', table_ablation1.columns))\n",
    "table_ablation1.columns = list(map(lambda c: c.replace(\"_\", \"\\\\_\"), table_ablation1.columns))\n",
    "table_ablation1.columns.name = 'Imputer'\n",
    "table_ablation1 = table_ablation1.sort_values('MSE', ascending=False, axis=1)\n",
    "table_ablation1"
   ]
  },
  {
   "cell_type": "code",
   "execution_count": 53,
   "id": "3b079eec-c4b7-4551-8e22-47ba88f67b32",
   "metadata": {},
   "outputs": [],
   "source": [
    "table_stl_ablation1 = (table_ablation1.style\n",
    "              # .background_gradient(cmap='RdYlGn', axis=1, low=-0, high=0.5,  vmin=-0.6, vmax=0.3, subset= pd.IndexSlice[[r'$R^2$'], :])\n",
    "              # .background_gradient(cmap='RdYlGn_r', axis=1,  low=0.08, high=0.110,  vmin=0.08, vmax=0.110, subset= pd.IndexSlice[['MSE'], :])\n",
    "              # .apply_index(lambda x: [\"background-color: #E5E4E2;\"] * len(x))\n",
    "              .format(precision=3))\n",
    "table_stl_ablation1"
   ]
  },
  {
   "cell_type": "code",
   "execution_count": 54,
   "id": "d1a455b6-4c7a-4b52-9ec0-1ac74ba2b9c0",
   "metadata": {},
   "outputs": [],
   "source": [
    "table_ltx_ablation1 = (table_stl_ablation1.to_latex(caption=r\"Ablation study on the effect of the loss function choice on the performance of \\texttt{S-ICNN} models. \"\n",
    "                                                    r\"First row: \\gls*{mse} loss across all features on the test split. Second and third rows list the micro and macro average of $R^2$ \"\n",
    "                                                    r\"(higher is better), respectively. For the $\\text{MACRO-AVG}(R^2)*$, features with less than $N<300$ in the test split are excluded, \"\n",
    "                                                    r\"of which some have $-\\infty$ values.\",\n",
    "                       position_float=\"centering\",\n",
    "                       convert_css=True,\n",
    "                       hrules=True,)\n",
    "              .replace('\\\\toprule', '\\\\hline').replace('\\\\midrule', '\\\\hline').replace('\\\\bottomrule','\\\\hline'))\n",
    "print(table_ltx_ablation1)"
   ]
  },
  {
   "cell_type": "code",
   "execution_count": 55,
   "id": "cb1e4321-ad39-4ec1-bef3-2f98b835fa65",
   "metadata": {},
   "outputs": [],
   "source": [
    "S_ICNN = ('ICNN_NMSE', )\n",
    "P_ICNN = ('ICNN_NKL', 'ICNN_NLN')\n",
    "# P_ICNN_RENAME = {'ICNN_NKL': 'ICNN (KL)', \n",
    "#                  'ICNN_NLN': 'ICNN (LN)'}\n",
    "\n",
    "final_models_X_test_se = all_models_X_test_se[((all_models_X_test_se.Imputer.str.count('ICNN') == 0) | \n",
    "                                               (all_models_X_test_se.Imputer.isin(S_ICNN + P_ICNN)))]\n",
    "\n",
    "final_models_features_stats_df = all_models_features_stats_df[((all_models_features_stats_df.Imputer.str.count('ICNN') == 0) |\n",
    "                                                               (all_models_features_stats_df.Imputer.isin(S_ICNN + P_ICNN)))]\n",
    "final_models_stats_df = all_models_stats_df[((all_models_stats_df.Imputer.str.count('ICNN') == 0) |\n",
    "                                             (all_models_stats_df.Imputer.isin(S_ICNN + P_ICNN)))]\n",
    "\n",
    "for df in (final_models_X_test_se, final_models_features_stats_df, final_models_stats_df):\n",
    "    df['Imputer'] = df['Imputer'].replace(ICNN_RENAMES)   \n"
   ]
  },
  {
   "cell_type": "code",
   "execution_count": 56,
   "id": "1a047382-5028-4aae-a51c-711b33612009",
   "metadata": {},
   "outputs": [],
   "source": [
    "final_models_stats_df.Imputer.unique()"
   ]
  },
  {
   "cell_type": "markdown",
   "id": "a6c97e3b-bff6-4af5-871f-8758e72ddc52",
   "metadata": {},
   "source": [
    "## Metrics of Sklearn Models"
   ]
  },
  {
   "cell_type": "code",
   "execution_count": 57,
   "id": "46f68045-44c3-4aa7-8e12-52369f86245e",
   "metadata": {},
   "outputs": [],
   "source": [
    "# FIRST TIME - BEGIN \n",
    "# sklearn_imputed_X = {k: v.transform(np.where(art_mask_test, obs_val_test, np.nan)) for k, v in sklearn_trained_imputers.items()} \n",
    "# for sklearn_name, imputed_X_ in sklearn_imputed_X.items():\n",
    "#     X_test_imp_df = pd.DataFrame(imputed_X_, columns=obs_val.columns)    \n",
    "#     X_test_imp_df.to_csv(f'{RESULTS_DIR}/{sklearn_name}_pred_X_test_imp.csv')\n",
    "# FIRST TIME - END "
   ]
  },
  {
   "cell_type": "code",
   "execution_count": 58,
   "id": "e28fb030-0384-4e69-be55-44cf95715081",
   "metadata": {},
   "outputs": [],
   "source": [
    "all_models_X_test_se.Imputer.unique()"
   ]
  },
  {
   "cell_type": "code",
   "execution_count": 59,
   "id": "7c4b03ef-3daf-420e-bac6-7876f7ec3d2f",
   "metadata": {},
   "outputs": [],
   "source": [
    "final_models_X_test_se['group'] = final_models_X_test_se.variable.str.split('.').map(lambda x: x[0])\n",
    "final_models_X_test_se['Feature'] = final_models_X_test_se.variable.map(variable_map)"
   ]
  },
  {
   "cell_type": "code",
   "execution_count": 60,
   "id": "7d686d2d-3c52-4761-b610-b6297f381fbb",
   "metadata": {},
   "outputs": [],
   "source": [
    "groups = final_models_X_test_se['group'].unique().tolist()\n",
    "groups"
   ]
  },
  {
   "cell_type": "code",
   "execution_count": 61,
   "id": "e48bdbbe-e6ac-4a7f-b1ec-83c03b30b07a",
   "metadata": {},
   "outputs": [],
   "source": [
    "# enzymes (except Amylase, Bilirubin indirect, CK-CPK)\n",
    "# renal_creat\n",
    "# renal_aki\n",
    "# renal_out\n",
    "# sofa\n",
    "\n",
    "X_test_se_df_selection = final_models_X_test_se[final_models_X_test_se.group.isin(['renal_out', 'renal_creat', 'renal_aki', 'sofa'])]\n",
    "\n",
    "grid = sns.FacetGrid(data=X_test_se_df_selection, col=\"group\", sharex=False, sharey=False, col_wrap=2,  )\n",
    "\n",
    "grid.map_dataframe(sns.boxplot, x=\"SE\", y=\"Feature\", hue=\"Imputer\", dodge=True,  palette=\"Set2\",#hue=\"Imputer\",\n",
    "                   showmeans=True, meanprops={'marker':'o','markerfacecolor':'white','markeredgecolor':'black','markersize':'5'},\n",
    "                    # line_kws=dict(linewidth=1.5, color=\"#cde\"),\n",
    "                    showfliers=False,\n",
    "                    fill=False,\n",
    "                     gap=0.5)\n",
    "\n",
    "# grid.map_dataframe(sns.boxenplot, x=\"SE\", y=\"Feature\", hue=\"Imputer\", dodge=True,  palette=\"Set2\",#hue=\"Imputer\",\n",
    "#                     # line_kws=dict(linewidth=1.5, color=\"#cde\"),\n",
    "#                     showfliers=False,\n",
    "#                     fill=False,\n",
    "#                      gap=0.5)\n",
    "\n",
    "grid.add_legend()\n",
    "grid.figure.set_size_inches(fig_width_in * 1.5, fig_height_in * 3)\n",
    "grid.savefig(f\"{RESULTS_DIR}/X_test_se_df_selection.pdf\")"
   ]
  },
  {
   "cell_type": "code",
   "execution_count": 62,
   "id": "a2e79f9b-9f9a-42c4-97a1-45660c73defd",
   "metadata": {},
   "outputs": [],
   "source": [
    "\n",
    "all_models_features_stats_df['abundance'] = all_models_features_stats_df.Feature.map(p_abundance)\n",
    "\n",
    "all_models_features_stats_df[((all_models_features_stats_df.Imputer == 'ICNN_NLN') & \n",
    "                              all_models_features_stats_df[r'$R^2$ bin'].isin(R_classes[:2]) &\n",
    "                             all_models_features_stats_df[r'$r(SE, \\hat{\\sigma}^2)$ bin'].isin(r_classes[:2]))]\n"
   ]
  },
  {
   "cell_type": "code",
   "execution_count": 63,
   "id": "b6cf9801-1f7a-425b-a2ce-2ef2b85a5be6",
   "metadata": {},
   "outputs": [],
   "source": [
    "\n",
    "all_models_features_stats_df[((all_models_features_stats_df.Imputer == 'ICNN_NLN') & \n",
    "                              all_models_features_stats_df[r'$R^2$ bin'].isin(R_classes[:2]) &\n",
    "                             all_models_features_stats_df[r'$r(SE, \\hat{\\sigma}^2)$ bin'].isin(r_classes[2:]))]\n"
   ]
  },
  {
   "cell_type": "code",
   "execution_count": 64,
   "id": "6e8b646a-1aa6-40c6-b3ae-27bd7fc0d4f4",
   "metadata": {},
   "outputs": [],
   "source": [
    "\n",
    "all_models_features_stats_df[((all_models_features_stats_df.Imputer == 'ICNN_NLN') & \n",
    "                              # all_models_features_stats_df[r'$R^2$ bin'].isin(R_classes[1:]) &\n",
    "                             all_models_features_stats_df[r'$r_\\text{log}(SE, \\hat{\\sigma}^2)$ bin'].isin(r_classes[:1]) &\n",
    "                              (all_models_features_stats_df['LN'] < 0))\n",
    "]\n"
   ]
  },
  {
   "cell_type": "code",
   "execution_count": 65,
   "id": "b0b56500-0949-4b45-b3bb-b0730f48350e",
   "metadata": {},
   "outputs": [],
   "source": [
    "# TODO: For each feature, exclude the points on the upper part of uncertainty, then recompute the metrics again."
   ]
  },
  {
   "cell_type": "code",
   "execution_count": 66,
   "id": "3577762a-2d96-4082-9010-942933934a52",
   "metadata": {},
   "outputs": [],
   "source": [
    "final_models_stats_df.columns"
   ]
  },
  {
   "cell_type": "code",
   "execution_count": null,
   "id": "c28b9a40-0c3e-4b0c-8385-5347f3859f2c",
   "metadata": {},
   "outputs": [],
   "source": []
  },
  {
   "cell_type": "code",
   "execution_count": 67,
   "id": "b7429abd-f196-433d-9f22-e0a8c3b8e4d2",
   "metadata": {},
   "outputs": [],
   "source": [
    "table0 = final_models_stats_df[['Imputer', 'MSE', r'MICRO-AVG($R^2$)', r'MACRO-AVG($R^2$)*']].set_index('Imputer').transpose()\n",
    "table0 = table0[['P-ICNN (NLN)', 'S-ICNN (NMSE)', 'zero_imputer', 'mean_imputer', 'knn_imputer', 'iter_imputer']]\n",
    "table0.columns = ['P-ICNN', 'S-ICNN', 'zero', 'mean', 'knn', 'iter']\n",
    "table0.columns =  list(map(lambda c: f'\\\\texttt{{{c}}}', table0.columns))\n",
    "table0.columns = list(map(lambda c: c.replace(\"_\", \"\\\\_\"), table0.columns))\n",
    "table0.columns.name = 'Imputer'\n",
    "table0 = table0.sort_values('MSE', axis=1, ascending=False)\n",
    "table0"
   ]
  },
  {
   "cell_type": "code",
   "execution_count": 68,
   "id": "04bdeb24-aca1-4934-9136-db0f902b3a56",
   "metadata": {},
   "outputs": [],
   "source": [
    "table0_stl = (table0.style\n",
    "              # .background_gradient(cmap='RdYlGn', axis=1, low=-0, high=0.5,  vmin=-0.6, vmax=0.3, subset= pd.IndexSlice[[r'MICRO-AVG($R^2$)'], :])\n",
    "              .background_gradient(cmap='RdYlGn_r', axis=1,  low=0.12, high=0.28,  vmin=0.09, vmax=0.19, subset= pd.IndexSlice[['MSE'], :])\n",
    "              # .apply_index(lambda x: [\"background-color: #E5E4E2;\"] * len(x))\n",
    "              .format(precision=3))\n",
    "table0_stl"
   ]
  },
  {
   "cell_type": "code",
   "execution_count": 69,
   "id": "5782c68e-3a7c-457e-bbad-43cffba2c227",
   "metadata": {},
   "outputs": [],
   "source": [
    "table0_str = (table0_stl.to_latex(caption=r\"Comparison between imputation methods. The estimations are made on the validation split.\"\n",
    "                                          r\"For the $\\text{MACRO-AVG}(R^2)*$, features with less than $N<300$ in \"\n",
    "                                          r\"the test split are excluded, \"\n",
    "                                          r\"of which some have $-\\infty$ values.\",\n",
    "                       position_float=\"centering\",\n",
    "                       convert_css=True,\n",
    "                       hrules=True,)\n",
    "              .replace('\\\\toprule', '\\\\hline').replace('\\\\midrule', '\\\\hline').replace('\\\\bottomrule','\\\\hline'))\n",
    "print(table0_str)"
   ]
  },
  {
   "cell_type": "code",
   "execution_count": 70,
   "id": "7006bcea-ff4e-401b-a2d6-e74f60218fe3",
   "metadata": {},
   "outputs": [],
   "source": [
    "prob_corr_df = all_models_stats_df.loc[all_models_stats_df.Imputer.isin(['ICNN_LN', 'ICNN_NLN', 'ICNN_NKL', 'ICNN_KL']), ['Imputer', r'$r_\\text{Pearson}(SE, \\hat{\\sigma}^2)$', r'$r_\\text{Spearman}(SE, \\hat{\\sigma}^2)$']]"
   ]
  },
  {
   "cell_type": "code",
   "execution_count": 71,
   "id": "54da231a-51c4-4678-ab82-89864c5ae628",
   "metadata": {},
   "outputs": [],
   "source": [
    "table1_stl = (prob_corr_df.style.format(precision=3).hide())\n",
    "table1_str = table1_stl.to_latex(caption=r\"Correlation between predicted Gaussian variance $\\sigma^2$ by \\texttt{ICNN\\_LN} and the prediction \\gls*{se}.\",\n",
    "                       position_float=\"centering\",\n",
    "                       convert_css=True,\n",
    "                       hrules=True,)\n",
    "print(table1_str)"
   ]
  },
  {
   "cell_type": "code",
   "execution_count": 72,
   "id": "984420b6-2e64-4b90-8086-19543645ee17",
   "metadata": {},
   "outputs": [],
   "source": [
    "final_models_filtered_features_stats_df = final_models_features_stats_df[final_models_features_stats_df.Feature.isin(vars_n300)]\n",
    "R_bins = final_models_filtered_features_stats_df.groupby(['Imputer', r'$R^2$ bin'])['Feature'].count().reset_index()\n",
    "R_bins.columns = ['Imputer', r'$R^2$ bin', 'Count']\n",
    "R_bins = R_bins.pivot_table(index=\"Imputer\", values='Count', columns=r'$R^2$ bin')\n",
    "\n",
    "R_bins = R_bins[R_classes]\n",
    "R_bins = R_bins.loc[['P-ICNN (NLN)', 'S-ICNN (NMSE)', 'zero_imputer', 'mean_imputer', 'knn_imputer', 'iter_imputer'], :]\n",
    "R_bins.index = ['P-ICNN', 'S-ICNN', 'zero', 'mean', 'knn', 'iter']"
   ]
  },
  {
   "cell_type": "code",
   "execution_count": 73,
   "id": "502b2919-f6a1-4c48-aaef-78545cb31d6a",
   "metadata": {},
   "outputs": [],
   "source": [
    "ax = R_bins.iloc[:, :].plot(y=R_classes, kind=\"bar\", rot=0, stacked=True, colormap='RdYlGn_r', ylabel='Features Count')\n",
    "_ = ax.legend(bbox_to_anchor=(1, 1.02), loc='upper left')\n",
    "ax.get_figure().set_size_inches(fig_width_in * 1.2, fig_height_in * 2)\n",
    "ax.get_figure().savefig(f\"{RESULTS_DIR}/R2_bins.pdf\")"
   ]
  },
  {
   "cell_type": "code",
   "execution_count": 74,
   "id": "4e615a9f-8207-4636-a950-30fe6a913a00",
   "metadata": {},
   "outputs": [],
   "source": [
    "final_models_filtered_features_stats_df"
   ]
  },
  {
   "cell_type": "code",
   "execution_count": 116,
   "id": "8b50211b-e3b6-492a-a325-a346499a661a",
   "metadata": {},
   "outputs": [],
   "source": [
    "mse_cols = ['MSE'] + [f'MSE@P{p}' for p in PERCENTILES]\n",
    "mse_cols_rename = {'MSE': 'P100'} | {f'MSE@P{p}': f'P{p}' for p in PERCENTILES}\n",
    "NLN_mse_percentiles = final_models_filtered_features_stats_df.loc[final_models_filtered_features_stats_df.Imputer == 'P-ICNN (NLN)', ['Feature'] + mse_cols]\n",
    "NLN_mse_percentiles = NLN_mse_percentiles.rename(columns=mse_cols_rename)\n",
    "NLN_mse_percentiles.loc[:, mse_cols_rename.values()] = NLN_mse_percentiles.loc[:, mse_cols_rename.values()].apply(lambda c: c * 100 / NLN_mse_percentiles['P100'], axis=0)\n",
    "NLN_mse_percentiles['Feature'] = NLN_mse_percentiles.Feature.map(variable_map)\n",
    "NLN_mse_percentiles = NLN_mse_percentiles.sort_values('Feature')"
   ]
  },
  {
   "cell_type": "code",
   "execution_count": 118,
   "id": "fe2c2b76-7cdc-4b08-9c3d-4e971c7a7a0d",
   "metadata": {},
   "outputs": [],
   "source": [
    "NLN_mse_percentiles.sort_values('P50').iloc[:15]['Feature']"
   ]
  },
  {
   "cell_type": "code",
   "execution_count": 323,
   "id": "cb2d7f0a-99fb-486a-a98b-32bb7ca3585d",
   "metadata": {},
   "outputs": [],
   "source": [
    "import colorcet as cc\n",
    "from scipy.stats import gaussian_kde\n",
    "\n",
    "from bokeh.models import ColumnDataSource, FixedTicker, PrintfTickFormatter, Span\n",
    "from bokeh.plotting import figure, show, curdoc\n",
    "from bokeh.sampledata.perceptions import probly\n",
    "from bokeh.io import output_notebook, export_svgs, export_png\n",
    "output_notebook()\n",
    "\n",
    "\n",
    "def ridge(category, data, scale=20):\n",
    "    return list(zip([category]*len(data), scale*data))\n",
    "\n",
    "percentiles_ = list(mse_cols_rename.values())\n",
    "palette = [cc.rainbow[i*15] for i in range(len(percentiles_))]\n",
    "\n",
    "x = np.linspace(-20, 150, 10000)\n",
    "\n",
    "source = ColumnDataSource(data=dict(x=x))\n",
    "\n",
    "p = figure(y_range=percentiles_[1:], width=650, height=400, \n",
    "           x_range=(-5, 120), \n",
    "           # toolbar_location=None, \n",
    "           output_backend=\"svg\"\n",
    "          )\n",
    "\n",
    "for i, p_i in enumerate(reversed(percentiles_[1:])):\n",
    "    pdf = gaussian_kde(NLN_mse_percentiles[p_i], bw_method=0.08)\n",
    "    y = ridge(p_i, pdf(x))\n",
    "    source.add(y, p_i)\n",
    "    p.patch('x', p_i, color=palette[i], alpha=0.6, line_color=\"black\", source=source)\n",
    "\n",
    "p.add_layout(Span(location=100, dimension='height', line_color='red', line_width=5))\n",
    "\n",
    "# p.y_range.start = '\n",
    "p.outline_line_color = None\n",
    "p.background_fill_color = \"#efefef\"\n",
    "\n",
    "p.xaxis.ticker = FixedTicker(ticks=list(range(0, 110, 10)))\n",
    "p.xaxis.formatter = PrintfTickFormatter(format=\"%d%%\")\n",
    "p.xaxis.axis_label = \"%(Relative MSE)\"\n",
    "p.yaxis.axis_label = r\"\\[\\hat{\\sigma}^2\\]-Percentile (Upper Threshold)\"\n",
    "\n",
    "p.xaxis.axis_label_text_font_size = \"14pt\"\n",
    "p.yaxis.axis_label_text_font_size = \"14pt\"\n",
    "\n",
    "p.xaxis.major_label_text_font_size = \"10pt\"\n",
    "p.yaxis.major_label_text_font_size = \"12pt\"\n",
    "\n",
    "\n",
    "\n",
    "p.ygrid.grid_line_color = None\n",
    "p.xgrid.grid_line_color = \"#dddddd\"\n",
    "p.xgrid.ticker = p.xaxis.ticker\n",
    "\n",
    "# p.axis.minor_tick_line_color = None\n",
    "# p.axis.major_tick_line_color = None\n",
    "# p.axis.axis_line_color = None\n",
    "\n",
    "p.y_range.range_padding = 0.1\n",
    "\n",
    "show(p)\n"
   ]
  },
  {
   "cell_type": "code",
   "execution_count": 115,
   "id": "0a8ef826-a2ab-4a9e-ba7e-5b14543758fa",
   "metadata": {},
   "outputs": [],
   "source": [
    "NLN_mse_percentiles"
   ]
  },
  {
   "cell_type": "code",
   "execution_count": 324,
   "id": "552932ad-d5f6-428e-8171-c72d2cdfaac5",
   "metadata": {},
   "outputs": [],
   "source": [
    "from matplotlib import colormaps\n",
    "from matplotlib.lines import Line2D\n",
    "import matplotlib.patheffects as pe\n",
    "\n",
    "\n",
    "cmap = colormaps['tab20']\n",
    "grey = colormaps['Greys'](0.5)\n",
    "uncertainty_aware_set = sorted(NLN_mse_percentiles.sort_values('P70').iloc[:7]['Feature'])\n",
    "uncertainty_aware_set_colors = {var: cmap(2*i) for i, var in enumerate(uncertainty_aware_set)}\n",
    "\n",
    "\n",
    "\n",
    "plt.close()\n",
    "plt.gcf().clear()    \n",
    "fig, ax = plt.subplots(figsize=(fig_width_in * 1.5, fig_height_in * 2.5))\n",
    "\n",
    "pd.plotting.parallel_coordinates(NLN_mse_percentiles[~NLN_mse_percentiles.Feature.isin(uncertainty_aware_set)], \n",
    "                                      class_column='Feature', color='grey', linewidth=0.2)\n",
    "pd.plotting.parallel_coordinates(NLN_mse_percentiles[NLN_mse_percentiles.Feature.isin(uncertainty_aware_set)], \n",
    "                                      class_column='Feature', color=uncertainty_aware_set_colors.values(),\n",
    "                                linewidth=2,\n",
    "                                path_effects=[pe.Stroke(linewidth=2.5, foreground='black'), pe.Normal()])\n",
    "\n",
    "# remove the pandas legend\n",
    "plt.gca().legend_.remove()\n",
    "plt.grid(True)\n",
    "plt.ylim(0, 110)\n",
    "plt.xlabel(r\"$\\hat{\\sigma}^2$-Percentile (Upper Threshold)\")\n",
    "plt.ylabel(\"%(Relative MSE)\")\n",
    "# plt.title(\"Highlighted Uncertainty-Aware Dimensions\")\n",
    "\n",
    "# add new legend\n",
    "# topHandle =    mlines.Line2D([],[], color='red',   ls=\"-\", label=\"Best\")\n",
    "# midHandleOne = mlines.Line2D([],[], color='blue',  ls=\"-\", label=\"Next Best\")\n",
    "# lowHandle =    mlines.Line2D([],[], color='black', ls=\"-\", label=\"Worst\")\n",
    "plt.legend(handles=[Line2D([],[], color=c,  \n",
    "                           ls=\"-\", label=var, lw=4)  for var, c in uncertainty_aware_set_colors.items()],\n",
    "           loc='upper left', bbox_to_anchor=(1, 1),\n",
    "           prop={'size':10})\n",
    "\n",
    "plt.gcf().set_size_inches(fig_width_in * 1.1, fig_height_in * 2)\n",
    "\n",
    "\n",
    "plt.savefig(f\"{RESULTS_DIR}/LNL_uncertainty_thresholds.pdf\")\n",
    "plt.show()\n"
   ]
  },
  {
   "cell_type": "code",
   "execution_count": 122,
   "id": "cb42ab6f-1736-491d-abc0-bdf1d5e572d4",
   "metadata": {},
   "outputs": [],
   "source": [
    "var_map_r = {label: feature for feature, label in variable_map.items()}\n",
    "\n",
    "NLN_mse_percentiles.sort_values('P50').iloc[:15]['Feature'].map(var_map_r).tolist()"
   ]
  },
  {
   "cell_type": "code",
   "execution_count": 93,
   "id": "94e26d7e-4cd8-4232-abfe-153db8be1cf3",
   "metadata": {},
   "outputs": [],
   "source": [
    "\n",
    "all_models_features_stats_df[((all_models_features_stats_df.Imputer == 'ICNN_NLN') & \n",
    "                             (all_models_features_stats_df[r'$r(SE, \\hat{\\sigma}^2)$ bin'].isin(r_classes[:1])))\n",
    "]"
   ]
  },
  {
   "cell_type": "code",
   "execution_count": 312,
   "id": "8d7e17d4-8960-4918-85ff-b0ff279052c2",
   "metadata": {},
   "outputs": [],
   "source": [
    "NLN_X_var_stats_df = prob_models_X_var_stats_df[prob_models_X_var_stats_df.Imputer == 'ICNN_NLN'].copy()\n",
    "NLN_X_var_stats_df[\"log(SE)\"] = np.log(NLN_X_var_stats_df[\"SE\"])\n",
    "NLN_X_var_stats_df[r'$\\log{\\hat{\\sigma}^2}$'] = np.log(NLN_X_var_stats_df[r'$\\hat{\\sigma}^2$'])\n",
    "\n",
    "NLN_X_var_stats_VARS = ['enzymes.ck_mb', # 0\n",
    "                        'enzymes.bilirubin_indirect',\n",
    "                        'enzymes.ck_cpk',  # 2\n",
    "                        'inflammation.crp',\n",
    "                        'blood_chemistry.sodium',\n",
    "                       'blood_gas.ph',\n",
    "                         'vital.glucose',\n",
    "                         'enzymes.ast',\n",
    "                         'cbc.mchc',\n",
    "                         'renal_aki.aki_stage_smoothed',\n",
    "                         'cardiac_marker.ck_mb', # 10\n",
    "                         'enzymes.alt',\n",
    "                         'blood_gas.fio2_chartevents',\n",
    "                         'blood_gas.totalco2',\n",
    "                         'renal_out.uo_rt_24hr',\n",
    "                         'cardiac_marker.troponin_t2']\n",
    "\n",
    "p = sns.regplot(data=NLN_X_var_stats_df[NLN_X_var_stats_df.Feature == NLN_X_var_stats_VARS[0]], \n",
    "            y=\"log(SE)\", x=r'$\\log{\\hat{\\sigma}^2}$',\n",
    "            # y=\"SE\", x=r'$\\hat{\\sigma}^2$',\n",
    "\n",
    "             x_bins=np.arange(-5, -0, 0.25), \n",
    "            # x_estimator=np.median,\n",
    "            order=1,\n",
    "            # lowess=True,\n",
    "               ci=95, \n",
    "            marker=\"x\", color=\".3\", \n",
    "                line_kws=dict(color=\"r\"),\n",
    ")\n",
    "p.set_ylabel(r'$\\log{(z - \\hat{\\mu})^2}$')\n",
    "\n",
    "p.get_figure().set_size_inches(fig_width_in * 0.5, fig_height_in * 2)\n",
    "p.get_figure().savefig(f\"{RESULTS_DIR}/LNL_se_var_ck_mb.pdf\")"
   ]
  },
  {
   "cell_type": "code",
   "execution_count": 314,
   "id": "de6138b6-0d43-4f6f-b3f7-1a8805b57cbf",
   "metadata": {},
   "outputs": [],
   "source": [
    "all_models_features_stats_df.columns"
   ]
  },
  {
   "cell_type": "code",
   "execution_count": 321,
   "id": "e09bb7e3-732b-4462-b405-5aa658363c5d",
   "metadata": {},
   "outputs": [],
   "source": [
    "all_models_features_stats_df[all_models_features_stats_df.Imputer == 'ICNN_NLN'].set_index('Feature')[[r'$r_\\text{Log-Pearson}(SE, \\hat{\\sigma}^2)$', 'Imputer']].loc[NLN_X_var_stats_VARS[0]]#.sort_values(ascending=False)"
   ]
  },
  {
   "cell_type": "code",
   "execution_count": 276,
   "id": "42d26b00-4ee8-49f9-bb16-c3f73c7ccc26",
   "metadata": {},
   "outputs": [],
   "source": [
    "NLN_X_var_stats_df[NLN_X_var_stats_df.Feature == NLN_X_var_stats_VARS[0]].shape"
   ]
  },
  {
   "cell_type": "code",
   "execution_count": 146,
   "id": "dbdf8511-9e08-46dc-aefc-5b2fdd447016",
   "metadata": {},
   "outputs": [],
   "source": [
    "np.arange(-12, -1, 1)"
   ]
  },
  {
   "cell_type": "code",
   "execution_count": null,
   "id": "3b3e603b-3587-4c72-8d6c-d481ff295d09",
   "metadata": {},
   "outputs": [],
   "source": []
  },
  {
   "cell_type": "code",
   "execution_count": 108,
   "id": "1eaf8e26-f3ef-4f2c-b7d7-0ebef4ef1959",
   "metadata": {},
   "outputs": [],
   "source": [
    "# final_models_filtered_features_stats_df.columns\n",
    "r2_bin_cols = [r'$R^2$ bin'] + [fr'$R^2@P{p}$ bin' for p in PERCENTILES]\n",
    "# r2_bin_cols_rename = {'MSE': 'P100'} | {f'MSE@P{p}': f'P{p}' for p in PERCENTILES}\n",
    "NLN_R2_bins_percentiles = final_models_filtered_features_stats_df.loc[final_models_filtered_features_stats_df.Imputer == 'P-ICNN (NLN)', ['Feature'] + r2_bin_cols]\n",
    "NLN_R2_bins_percentiles = NLN_R2_bins_percentiles.set_index('Feature')\n",
    "NLN_R2_bins_dist_percentiles = {col: NLN_R2_bins_percentiles.groupby(col)[col].count() for col in r2_bin_cols}\n",
    "NLN_R2_bins_dist_percentiles = pd.DataFrame(NLN_R2_bins_dist_percentiles)[[r2_bin_cols[0], r2_bin_cols[6]]].transpose()\n",
    "NLN_R2_bins_dist_percentiles = NLN_R2_bins_dist_percentiles[R_classes]\n",
    "ax = NLN_R2_bins_dist_percentiles.iloc[:, :].plot(y=R_classes, kind=\"bar\", rot=0, \n",
    "                                                  stacked=True, colormap='RdYlGn_r', ylabel='Features Count', width=0.5)\n",
    "_ = ax.legend(bbox_to_anchor=(1, 1.02), loc='upper left')\n",
    "ax.get_figure().set_size_inches(fig_width_in * 0.8 , fig_height_in * 2)\n",
    "ax.get_figure().savefig(f\"{RESULTS_DIR}/NLN_R2_bins_percentiles.pdf\")\n",
    "\n"
   ]
  },
  {
   "cell_type": "code",
   "execution_count": null,
   "id": "6943ed17-35b1-497c-81d9-c05dbfd9afe8",
   "metadata": {},
   "outputs": [],
   "source": []
  },
  {
   "cell_type": "code",
   "execution_count": null,
   "id": "637b0212-376c-400d-a205-c786ab607e8a",
   "metadata": {},
   "outputs": [],
   "source": []
  }
 ],
 "metadata": {
  "kernelspec": {
   "display_name": "Python 3 (ipykernel)",
   "language": "python",
   "name": "python3"
  },
  "language_info": {
   "codemirror_mode": {
    "name": "ipython",
    "version": 3
   },
   "file_extension": ".py",
   "mimetype": "text/x-python",
   "name": "python",
   "nbconvert_exporter": "python",
   "pygments_lexer": "ipython3",
   "version": "3.11.8"
  }
 },
 "nbformat": 4,
 "nbformat_minor": 5
}
