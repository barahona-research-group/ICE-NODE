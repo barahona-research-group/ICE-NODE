{
 "cells": [
  {
   "cell_type": "markdown",
   "id": "94d59416-2f91-473a-8103-a3cd6343ac3d",
   "metadata": {},
   "source": [
    "# Libs Import\n"
   ]
  },
  {
   "cell_type": "code",
   "execution_count": 1,
   "id": "62c28bbb-0bea-4165-9bee-f54dad24ccc6",
   "metadata": {},
   "outputs": [],
   "source": [
    "# %load_ext autoreload\n",
    "# %autoreload 2\n",
    "from typing import Optional, Tuple, Literal\n",
    "\n",
    "import sys\n",
    "import time\n",
    "import matplotlib.pyplot as plt\n",
    "import seaborn as sns\n",
    "\n",
    "import numpy as np\n",
    "import pandas as pd\n",
    "import jax\n",
    "import jax.numpy as jnp\n",
    "import jax.random as jrandom \n",
    "import jax.nn as jnn\n",
    "import equinox as eqx\n",
    "import optax\n",
    "from tqdm.notebook import tqdm\n",
    "from collections import defaultdict\n",
    "from functools import partial\n",
    "from scipy.stats import spearmanr, pearsonr\n",
    "\n",
    "jax.config.update('jax_enable_x64', True)\n",
    "jax.config.update('jax_platforms', 'cpu')\n",
    "\n",
    "# jax.config.update('jax_check_tracer_leaks', True) \n",
    "sys.path.append(\"../../..\")\n",
    "from lib.ml.icnn_modules import ProbStackedICNNImputer, ImputerMetrics, ProbICNNImputerTrainer, ICNNObsDecoder, StandardICNNImputerTrainer\n",
    "import lib.ehr.example_datasets.mimiciv_aki as m4aki\n",
    "from lib.ehr.tvx_ehr import TVxEHR\n",
    "from lib.utils import modified_environ, write_config, append_params_to_zip, zip_members\n",
    " "
   ]
  },
  {
   "cell_type": "code",
   "execution_count": 2,
   "id": "3c6026aa-f316-46f6-a762-804061ec8982",
   "metadata": {},
   "outputs": [],
   "source": [
    "# ?pub_ready_plots.get_mpl_rcParams\n",
    "# !pip install pub-ready-plots"
   ]
  },
  {
   "cell_type": "code",
   "execution_count": 3,
   "id": "47821903-74e5-4804-8668-3e3dab89b297",
   "metadata": {},
   "outputs": [],
   "source": [
    "import pub_ready_plots\n",
    "from pub_ready_plots import get_mpl_rcParams\n",
    "rc_params, fig_width_in, fig_height_in = pub_ready_plots.get_mpl_rcParams(\n",
    "    width_frac=1,  # between 0 and 1\n",
    "    height_frac=0.2,  # between 0 and 1\n",
    "    layout=\"jmlr\"  # or \"iclr\", \"neurips\", \"poster-portrait\", \"poster-landscape\"\n",
    ")\n",
    "rc_params['figure.constrained_layout.use'] = True\n",
    "\n",
    "# rc_params['font.size'] = 10\n",
    "# rc_params['axes.titlesize'] = 12\n",
    "# rc_params['axes.labelsize'] = 10\n",
    "# rc_params['legend.fontsize'] = 10\n",
    "\n",
    "plt.rcParams.update(rc_params)\n"
   ]
  },
  {
   "cell_type": "code",
   "execution_count": 37,
   "id": "f5fa684b-852f-458c-a98b-bb9398bcf90a",
   "metadata": {},
   "outputs": [
    {
     "name": "stdout",
     "output_type": "stream",
     "text": [
      "x\n"
     ]
    }
   ],
   "source": [
    "print('x')"
   ]
  },
  {
   "cell_type": "markdown",
   "id": "ae6b7608-1d1d-4f35-9610-1f49be0432af",
   "metadata": {},
   "source": [
    "# Experiment Defnitions"
   ]
  },
  {
   "cell_type": "code",
   "execution_count": 4,
   "id": "9d0c2f80-ba34-4308-b6bc-5751b0f8730c",
   "metadata": {},
   "outputs": [],
   "source": [
    "RESULTS_DIR = 'icnn_results_A'\n",
    "EXP_DIR = {\n",
    "    'ICNN_LN': 'experiment_snapshots_mimic_ProbStackedICNN_lognormal',\n",
    "    'ICNN_NLN': 'experiment_snapshots_mimic_ProbStackedICNN_lognormal_normalised',\n",
    "    'ICNN_KL': 'experiment_snapshots_mimic_ProbStackedICNN_kl',\n",
    "    'ICNN_NKL': 'experiment_snapshots_mimic_ProbStackedICNN_kl_normalised',    \n",
    "    'ICNN_MSE': 'experiment_snapshots_mimic_ProbStackedICNN_mse',\n",
    "    'ICNN_NMSE': 'experiment_snapshots_mimic_ProbStackedICNN_mse_normalised',\n",
    "}\n",
    "PROP_MODELS = ('ICNN_LN', 'ICNN_NLN', 'ICNN_KL', 'ICNN_NKL')\n",
    "DET_MODELS = ('ICNN_MSE', 'ICNN_NMSE')\n",
    "\n",
    "EXP = 'ICNN_LN'"
   ]
  },
  {
   "cell_type": "markdown",
   "id": "bedd275f-c187-456f-9624-228e685e2531",
   "metadata": {},
   "source": [
    "# Data Loading"
   ]
  },
  {
   "cell_type": "markdown",
   "id": "dda298bc-79e7-4631-863f-23c451fb883e",
   "metadata": {},
   "source": [
    "## First Time Loading and Writing to Disk"
   ]
  },
  {
   "cell_type": "code",
   "execution_count": 5,
   "id": "8645d508-5ce0-4e81-a28b-b2b0dccf9644",
   "metadata": {},
   "outputs": [],
   "source": [
    "# tvx = m4aki.TVxAKIMIMICIVDataset.load('/home/asem/GP/ehr-data/mimic4aki-cohort/tvx_aki.h5')"
   ]
  },
  {
   "cell_type": "code",
   "execution_count": 6,
   "id": "c0cbf73a-2b16-4e1a-9128-f2877a9b954d",
   "metadata": {},
   "outputs": [],
   "source": [
    "# obs = [adm.observables  for subject in tvx0.subjects.values() for adm in subject.admissions]\n",
    "# adm_id = sum(([adm.admission_id] * len(adm.observables.time)  for subject in tvx0.subjects.values() for adm in subject.admissions), [])\n",
    "# subj_id = sum(([subject.subject_id] * len(adm.observables.time)  for subject in tvx0.subjects.values() for adm in subject.admissions), [])"
   ]
  },
  {
   "cell_type": "code",
   "execution_count": 7,
   "id": "d25b12a0-f4ed-40dd-bec6-9fef0e79caa6",
   "metadata": {},
   "outputs": [],
   "source": [
    "# obs_val = np.vstack([obs_i.value for obs_i in obs])\n",
    "# obs_mask = np.vstack([obs_i.mask for obs_i in obs])\n",
    "# obs_time = np.hstack([obs_i.time for obs_i in obs])"
   ]
  },
  {
   "cell_type": "code",
   "execution_count": 8,
   "id": "09c8afd5-475a-4a92-b73d-6e66243662cc",
   "metadata": {},
   "outputs": [],
   "source": [
    "# tvx0.scheme.obs\n",
    "# features = list(map(tvx0.scheme.obs.desc.get, tvx0.scheme.obs.codes))"
   ]
  },
  {
   "cell_type": "code",
   "execution_count": 9,
   "id": "5b3e1440-1b1c-4fe6-806c-1839440ee716",
   "metadata": {},
   "outputs": [],
   "source": [
    "# obs_val = pd.DataFrame(obs_val, columns=features)\n",
    "# obs_mask = pd.DataFrame(obs_mask.astype(int), columns=features)\n",
    "# meta = pd.DataFrame({'subject_id': subj_id, 'admission_id': adm_id, 'time': obs_time})\n"
   ]
  },
  {
   "cell_type": "code",
   "execution_count": 10,
   "id": "a784503e-6175-43ab-8522-58447cf5e222",
   "metadata": {},
   "outputs": [],
   "source": [
    "# artificial_mask = obs_mask.copy()\n",
    "# artificial_mask = obs_mask & np.array(jrandom.bernoulli(jrandom.PRNGKey(0), p=0.8, shape=obs_mask.shape))\n"
   ]
  },
  {
   "cell_type": "code",
   "execution_count": 11,
   "id": "28e3b288-d34d-4a43-8f79-98c5965ddb03",
   "metadata": {},
   "outputs": [],
   "source": [
    "# obs_val.to_csv('missingness_data/missingness_vals.csv')\n",
    "# obs_mask.to_csv('missingness_data/missingness_mask.csv')\n",
    "# meta.to_csv('missingness_data/meta.csv')\n",
    "# artificial_mask.to_csv('missingness_data/missingness_artificial_mask.csv')\n"
   ]
  },
  {
   "cell_type": "markdown",
   "id": "808916f3-e3ff-4239-a26b-d34631abd624",
   "metadata": {},
   "source": [
    "## Later Loading from Disk"
   ]
  },
  {
   "cell_type": "code",
   "execution_count": 12,
   "id": "a9b42f56-270f-4e17-8c93-e79af7638e72",
   "metadata": {},
   "outputs": [],
   "source": [
    "obs_val = pd.read_csv('missingness_data/missingness_vals.csv', index_col=[0])\n",
    "obs_mask = pd.read_csv('missingness_data/missingness_mask.csv', index_col=[0])\n",
    "artificial_mask = pd.read_csv('missingness_data/missingness_artificial_mask.csv', index_col=[0])\n",
    "meta = pd.read_csv('missingness_data/meta.csv', index_col=[0])\n"
   ]
  },
  {
   "cell_type": "markdown",
   "id": "1e678fa0-e9a7-4120-aba9-5c17792af3d7",
   "metadata": {},
   "source": [
    "## Split"
   ]
  },
  {
   "cell_type": "code",
   "execution_count": 13,
   "id": "ed9fabd6-6809-460f-a454-9572153c8299",
   "metadata": {
    "scrolled": true
   },
   "outputs": [],
   "source": [
    "split_ratio = 0.7\n",
    "seed = 0\n",
    "indices = jrandom.permutation(jrandom.PRNGKey(seed), len(obs_val))\n",
    "train_idx = indices[:int(split_ratio * len(indices))]\n",
    "test_idx = indices[int(split_ratio * len(indices)):]\n",
    "\n",
    "obs_val_train = jnp.array(obs_val.iloc[train_idx].to_numpy())\n",
    "obs_mask_train = jnp.array(obs_mask.iloc[train_idx].to_numpy())\n",
    "art_mask_train =  jnp.array(artificial_mask.iloc[train_idx].to_numpy())\n",
    "\n",
    "obs_val_test = jnp.array(obs_val.iloc[test_idx].to_numpy())\n",
    "obs_mask_test = jnp.array(obs_mask.iloc[test_idx].to_numpy())\n",
    "art_mask_test =  jnp.array(artificial_mask.iloc[test_idx].to_numpy())"
   ]
  },
  {
   "cell_type": "markdown",
   "id": "c89b5fc4-7103-4100-84fd-d689ada680b0",
   "metadata": {},
   "source": [
    "# Model Configuration"
   ]
  },
  {
   "cell_type": "code",
   "execution_count": 14,
   "id": "3439194b-9c52-4feb-9b8a-dec561659ffd",
   "metadata": {},
   "outputs": [],
   "source": [
    "\n",
    "def models(e):\n",
    "    pmodels = {k: ProbStackedICNNImputer(observables_size=obs_mask.shape[1], state_size = 0, optax_optimiser_name='polyak_sgd',  \n",
    "                                         positivity='abs', hidden_size_multiplier=2, depth=4, key=jrandom.PRNGKey(0))\n",
    "               for k in PROP_MODELS}\n",
    "    dmodels =  {k: ICNNObsDecoder(observables_size=obs_mask.shape[1], state_size = 0, optax_optimiser_name='polyak_sgd',\n",
    "                                  positivity='abs', hidden_size_multiplier=3, depth=5, key=jrandom.PRNGKey(0)) \n",
    "                for k in DET_MODELS}\n",
    "    return (pmodels | dmodels)[e]\n",
    "    \n",
    "def trainers(e):\n",
    "    return {\n",
    "        'ICNN_LN': ProbICNNImputerTrainer(loss='log_normal'),\n",
    "        'ICNN_NLN': ProbICNNImputerTrainer(loss='log_normal', loss_feature_normalisation=True),\n",
    "        'ICNN_KL': ProbICNNImputerTrainer(loss='kl_divergence'),\n",
    "        'ICNN_NKL': ProbICNNImputerTrainer(loss='kl_divergence', loss_feature_normalisation=True),\n",
    "        'ICNN_MSE': StandardICNNImputerTrainer(),\n",
    "        'ICNN_NMSE': StandardICNNImputerTrainer(loss_feature_normalisation=True)\n",
    "    }[e]\n",
    "\n",
    "model = models(EXP)\n",
    "trainer = trainers(EXP)"
   ]
  },
  {
   "cell_type": "markdown",
   "id": "f3e32931-6d99-4286-b059-12a62c61358d",
   "metadata": {},
   "source": [
    "# Training"
   ]
  },
  {
   "cell_type": "markdown",
   "id": "dcafbf5f-d168-4c7c-a217-b978da951f9a",
   "metadata": {},
   "source": [
    "## ICNN Training"
   ]
  },
  {
   "cell_type": "code",
   "execution_count": null,
   "id": "c5a80153-56a6-4010-a3f8-0fcc51cce898",
   "metadata": {},
   "outputs": [],
   "source": [
    "lr=1e-3\n",
    "steps=10000\n",
    "train_batch_size=256\n",
    "test_batch_size=1024\n",
    "# train_batch_size=1\n",
    "# test_batch_size=1\n",
    "eval_frequency = 10\n",
    "model_snapshot_frequency = 100\n",
    "\n",
    "optim = optax.novograd(lr)\n",
    "opt_state = optim.init(eqx.filter(model, eqx.is_inexact_array))\n",
    "data_train = (obs_val_train, obs_mask_train, art_mask_train)\n",
    "data_test = (obs_val_test, obs_mask_test, art_mask_test)"
   ]
  },
  {
   "cell_type": "code",
   "execution_count": null,
   "id": "1e9bc138-8411-4272-9f87-a7667dee68d4",
   "metadata": {},
   "outputs": [],
   "source": [
    "train_batches = trainer.dataloader(data_train, train_batch_size, key=jrandom.PRNGKey(0))\n",
    "test_batches = iter(trainer.dataloader(data_test, train_batch_size, key=jrandom.PRNGKey(0)))\n",
    "train_history = defaultdict(list)\n",
    "test_history = defaultdict(list)\n",
    "model_snapshots = {}"
   ]
  },
  {
   "cell_type": "code",
   "execution_count": null,
   "id": "667916bf-3ecb-49b2-84b2-fa701c4ddade",
   "metadata": {},
   "outputs": [],
   "source": [
    "progress = tqdm(range(steps))\n",
    "\n",
    "for step, batch_train in zip(progress, train_batches):\n",
    "    start = time.time()\n",
    "    (train_loss, train_aux), model, opt_state = trainer.make_step(model, optim, opt_state, *batch_train)\n",
    "    r2_vec =  trainer.model_r_squared(model, *batch_train)\n",
    "    r2_vec_rank = trainer.model_r_squared_ranked_prob(model, *batch_train, k=5)\n",
    "    r2_vec = np.array(r2_vec)\n",
    "    train_nsteps = int(sum(train_aux.n_steps) / len(train_aux.n_steps))\n",
    "    train_history['R2'].append(r2_vec)\n",
    "    train_history['R2_rank5'].append(r2_vec_rank)\n",
    "    train_history['loss'].append(train_loss)\n",
    "    train_history['n_opt_steps'].append(train_nsteps)\n",
    "    \n",
    "    end = time.time()\n",
    "    if (step % eval_frequency) == 0 or step == steps - 1:\n",
    "        batch_test = next(test_batches)\n",
    "        test_loss, _ = trainer.loss(model, *batch_test)\n",
    "        r2_vec_test = trainer.model_r_squared(model, *batch_test)\n",
    "        r2_vec_rank_test = trainer.model_r_squared_ranked_prob(model, *batch_test, k=10)\n",
    "        r2_vec_test = np.array(r2_vec_test)\n",
    "        test_history['loss'].append(test_loss)\n",
    "        test_history['R2'].append(r2_vec_test)\n",
    "        test_history['R2_rank10'].append(r2_vec_rank_test)\n",
    "\n",
    "    if (step % model_snapshot_frequency) == 0 or step == steps - 1:\n",
    "        model_snapshots[step] = model\n",
    "        append_params_to_zip(model, f'step{step:04d}.eqx', f'{EXP_DIR[EXP]}/params.zip')\n",
    "\n",
    "    progress.set_description(f\"Trn-L: {train_loss:.3f}, Trn-R2: ({np.nanmax(r2_vec_rank):.2f}, {np.nanmin(r2_vec_rank):.2f}, {np.nanmean(r2_vec_rank):.2f}, {np.nanmedian(r2_vec_rank):.2f}),  Trn-N-steps: {train_nsteps}, \" \n",
    "                             f\"Tst-L:  {test_loss:.3f}, Tst-R2:  ({np.nanmax(r2_vec_rank_test):.2f}, {np.nanmin(r2_vec_rank_test):.2f}, {np.nanmean(r2_vec_rank_test):.2f}, {np.nanmedian(r2_vec_rank_test):.2f}), \"\n",
    "                             f\"Computation time: {end - start:.2f}, \")\n",
    "                            "
   ]
  },
  {
   "cell_type": "code",
   "execution_count": null,
   "id": "c557df37-73c9-407e-91d9-22f7f0049d83",
   "metadata": {},
   "outputs": [],
   "source": [
    "# zip_members(f'{EXP_DIR}/params.zip')"
   ]
  },
  {
   "cell_type": "markdown",
   "id": "3a6fd8da-08b1-4cd1-aed8-0e3bd3e05e0b",
   "metadata": {},
   "source": [
    "### Dump Training Statistics"
   ]
  },
  {
   "cell_type": "code",
   "execution_count": 17,
   "id": "55fb9a75-66da-4c40-817c-ffc978260f33",
   "metadata": {},
   "outputs": [
    {
     "data": {
      "image/png": "[encoded data removed]",
      "text/plain": [
       "<Figure size 600.117x170.033 with 1 Axes>"
      ]
     },
     "metadata": {},
     "output_type": "display_data"
    }
   ],
   "source": [
    "# FIRST TIME - BEGIN \n",
    "\n",
    "# train_stats = pd.DataFrame(train_history)\n",
    "# test_stats = pd.DataFrame(test_history)\n",
    "\n",
    "# train_stats['split'] = 'Train'\n",
    "# train_stats['iteration'] = train_stats.index + 1\n",
    "# test_stats['split'] = 'Test'\n",
    "# test_stats['iteration'] = (test_stats.index * eval_frequency) + 1\n",
    "# training_stats = pd.concat([train_stats, test_stats])\n",
    "# training_stats_melted = pd.melt(training_stats, value_vars=['loss'], id_vars=['split', 'iteration'], value_name='Loss')\n",
    "# training_stats_melted = training_stats_melted.astype({'Loss': float})\n",
    "\n",
    "# training_stats.to_csv(f'{RESULTS_DIR}/{EXP}_training_stats.csv')  \n",
    "# training_stats_melted.to_csv(f'{RESULTS_DIR}/{EXP}_training_stats_melted.csv')  \n",
    "\n",
    "# FIRST TIME - END \n",
    "\n",
    "\n",
    "# LATER TIMES\n",
    "training_stats = pd.read_csv(f'{RESULTS_DIR}/{EXP}_training_stats.csv', index_col=[0])  \n",
    "training_stats_melted = pd.read_csv(f'{RESULTS_DIR}/{EXP}_training_stats_melted.csv', index_col=[0])  \n",
    "\n",
    "\n",
    "\n",
    "g2 = sns.lineplot(data=training_stats_melted, x=\"iteration\", y=\"Loss\", hue=\"split\")\n",
    "g2.get_figure().set_size_inches(fig_width_in, fig_height_in)\n",
    "g2.get_figure().savefig(f\"{RESULTS_DIR}/{EXP}_training_stats.pdf\")"
   ]
  },
  {
   "cell_type": "markdown",
   "id": "29eb079d-85a1-496a-90ef-33d1e80f1541",
   "metadata": {},
   "source": [
    "## Sklearn Training"
   ]
  },
  {
   "cell_type": "code",
   "execution_count": 18,
   "id": "c5569883-85ef-4376-87cb-a183073031e0",
   "metadata": {},
   "outputs": [],
   "source": [
    "from sklearn.experimental import enable_iterative_imputer  # noqa\n",
    "from sklearn.impute import IterativeImputer, KNNImputer, SimpleImputer\n",
    "\n",
    "sklearn_imputers =  {\n",
    "    'zero_imputer': lambda: SimpleImputer(missing_values=np.nan, add_indicator=False, strategy=\"constant\", fill_value=0),\n",
    "    'mean_imputer': lambda: SimpleImputer(missing_values=np.nan, add_indicator=False, strategy=\"mean\", fill_value=0),\n",
    "    'knn_imputer': lambda: KNNImputer(missing_values=np.nan),\n",
    "    'iter_imputer': lambda: IterativeImputer(\n",
    "        missing_values=np.nan,\n",
    "        add_indicator=False,\n",
    "        random_state=0,\n",
    "        n_nearest_features=5,\n",
    "        max_iter=5,\n",
    "        sample_posterior=True,\n",
    "    )\n",
    "}\n",
    "\n",
    "sklearn_trained_imputers = {k: v().fit(np.where(obs_mask_train, obs_val_train, np.nan)) for k, v in sklearn_imputers.items()} "
   ]
  },
  {
   "cell_type": "markdown",
   "id": "c927aead-36dd-4806-ba36-99e5f1d3c74a",
   "metadata": {},
   "source": [
    "# Metrics / Results"
   ]
  },
  {
   "cell_type": "code",
   "execution_count": 19,
   "id": "c9da35ee-5429-492b-81e8-bb0a29273588",
   "metadata": {},
   "outputs": [],
   "source": [
    "prediction_mask = (1 - art_mask_test) * obs_mask_test\n",
    "feature2index =  dict(zip(obs_val.columns, range(len(obs_val.columns))))\n",
    "n_train = ((1 - art_mask_train) * obs_mask_train).sum(axis=0)\n",
    "n_test = ((1 - art_mask_test) * obs_mask_test).sum(axis=0)\n",
    "n_train_measured = obs_mask_train.sum(axis=0)\n",
    "missingness = 1 - obs_mask.mean(axis=0)\n",
    "validation_missingness = 1 - pd.DataFrame(art_mask_test, columns=obs_mask.columns).mean(axis=0)"
   ]
  },
  {
   "cell_type": "code",
   "execution_count": 20,
   "id": "f2a091cb-8df8-4d80-9468-86d5678d02fa",
   "metadata": {},
   "outputs": [],
   "source": [
    "variable_map = {'blood_chemistry.albumin': 'Albumin',  'blood_chemistry.aniongap': 'Aniongap',  'blood_chemistry.bicarbonate': 'Bicarbonate',  'blood_chemistry.bun': 'Urea Nitrogen',  'blood_chemistry.calcium': 'Calcium',  'blood_chemistry.chloride': 'Chloride',  'blood_chemistry.creatinine': 'Creatinine',  'blood_chemistry.globulin': 'Globulin',  'blood_chemistry.glucose': 'Glucose',  'blood_chemistry.potassium': 'Potassium',  'blood_chemistry.sodium': 'Sodium',  'blood_chemistry.total_protein': 'Protein Total',  'blood_diff.atypical_lymphocytes': 'Atypical Lymphocytes',  'blood_diff.bands': 'Bands (%)',  'blood_diff.basophils': 'Basophils',  'blood_diff.basophils_abs': 'Abs Basophils',  'blood_diff.eosinophils': 'Eosinophils',  'blood_diff.eosinophils_abs': 'Abs Eosinophils',  'blood_diff.immature_granulocytes': 'Immature Granulocytes',  'blood_diff.lymphocytes': 'Lymphocytes',  'blood_diff.lymphocytes_abs': 'Abs Lymphocytes',  'blood_diff.metamyelocytes': 'Metamyelocytes',  'blood_diff.monocytes': 'Monocytes',  'blood_diff.monocytes_abs': 'Abs Monocytes',  'blood_diff.neutrophils': 'Neutrophils',  'blood_diff.neutrophils_abs': 'Abs Neutrophil',  'blood_diff.nrbc': 'NRBC',  'blood_gas.aado2': 'AaDO2',  'blood_gas.aado2_calc': 'AaDO2_calc',  'blood_gas.baseexcess': 'Base excess',  'blood_gas.bicarbonate': 'Bicarbonate',  'blood_gas.calcium': 'Calcium',  'blood_gas.carboxyhemoglobin': 'Carboxyhemoglobin',  'blood_gas.chloride': 'Chloride',  'blood_gas.fio2': 'FiO2',  'blood_gas.fio2_chartevents': 'FiO2_chartevents',  'blood_gas.glucose': 'Glucose',  'blood_gas.hematocrit': 'Hematocrit',  'blood_gas.hemoglobin': 'Hemoglobin',  'blood_gas.lactate': 'Lactate',  'blood_gas.methemoglobin': 'Methemoglobin',  'blood_gas.pao2fio2ratio': 'pO2/FiO2 ratio',  'blood_gas.pco2': 'pCO2',  'blood_gas.ph': 'pH',  'blood_gas.po2': 'pO2',  'blood_gas.potassium': 'Potassium',  'blood_gas.so2': 'sO2',  'blood_gas.sodium': 'Sodium',  'blood_gas.temperature': 'Temperature',  'blood_gas.totalco2': 'CO2 total',  'cardiac_marker.ck_mb': 'Creatinine Kinase, MB',  'cardiac_marker.ntprobnp': 'NT-proBNP',  'cardiac_marker.troponin_t2': 'Troponin T',  'cbc.hematocrit': 'Hematocrit',  'cbc.hemoglobin': 'Hemoglobin',  'cbc.mch': 'MCH',  'cbc.mchc': 'MCHC',  'cbc.mcv': 'MCV',  'cbc.platelet': 'Platelet',  'cbc.rbc': 'RBC',  'cbc.rdw': 'RDW',  'cbc.wbc': 'WBC',  'coagulation.d_dimer': 'D-Dimer',  'coagulation.fibrinogen': 'Fibrinogen',  'coagulation.inr': 'INR',  'coagulation.pt': 'PT',  'coagulation.ptt': 'PTT',  'coagulation.thrombin': 'Thrombin',  'enzymes.alp': 'ALP',  'enzymes.alt': 'ALT',  'enzymes.amylase': 'Amylase',  'enzymes.ast': 'AST',  'enzymes.bilirubin_direct': 'Bilirubin direct',  'enzymes.bilirubin_indirect': 'Bilirubin indirect',  'enzymes.bilirubin_total': 'Bilirubin total',  'enzymes.ck_cpk': 'CK-CPK',  'enzymes.ck_mb':'CK-MB',  'enzymes.ggt': 'GGT',  'enzymes.ld_ldh': 'ld_ldh',  'icp.icp': 'Intra-cranial Press.',  'inflammation.crp': 'CRP',  'renal_aki.aki_binary': 'AKI (binary)',  'renal_aki.aki_stage_smoothed': 'AKI',  'renal_creat.creat': 'Creatinine',  'renal_out.uo_rt_12hr': 'Urine out 12h',  'renal_out.uo_rt_24hr': 'Urine out 24h',  'renal_out.uo_rt_6hr': 'Urine out 6h',  'sofa.sofa_24hours': 'SOFA',  'vital.dbp': 'Diastolic BP',  'vital.dbp_ni': 'NI-Diastolic BP',  'vital.glucose': 'Glucose',  'vital.heart_rate': 'Heart Rate',  'vital.mbp':  'Mean BP',  'vital.mbp_ni': 'NI Mean BP',  'vital.resp_rate': 'Respiratory Rate',  'vital.sbp': 'Systolic BP',  'vital.sbp_ni':  'NI-Systolic BP',  'vital.spo2': 'SpO2',  'vital.temperature': 'Temperature',  'weight.weight': 'Weight'}"
   ]
  },
  {
   "cell_type": "markdown",
   "id": "4e2e8839-9dab-4409-952a-4c0a67b9b64f",
   "metadata": {},
   "source": [
    "## Metrics Evolution with ICNN Training"
   ]
  },
  {
   "cell_type": "code",
   "execution_count": 21,
   "id": "d6b7bd88-323c-4716-959a-7d2423c7fc85",
   "metadata": {},
   "outputs": [],
   "source": [
    "# FIRST TIME - BEGIN \n",
    "\n",
    "# dataframes = []\n",
    "# for step, model_snap in tqdm(model_snapshots.items()):\n",
    "#     with jax.default_device(jax.devices(\"cpu\")[0]):\n",
    "#         obs_test = jnp.where(art_mask_test, obs_val_test, 0.)\n",
    "#         (X_test_imp, X_test_std), _ = eqx.filter_vmap(model_snap.prob_partial_input_optimise)(obs_test, art_mask_test)\n",
    "    \n",
    "#     sigma_threshold = [4.0, 3.0, 2.5, 2.0, 1.5, 1.0, 0.5, 0.3, 0.2, 0.1, 0.05, 0.01]\n",
    "#     r2_vec_thresholded = [eqx.filter_vmap(ProbICNNImputerTrainer.r_squared_thresholded_prob)(obs_val_test.T, X_test_imp.T, prediction_mask.T, X_test_std.T,  t)\n",
    "#                           for t in sigma_threshold]\n",
    "    \n",
    "#     r2_test_results = pd.DataFrame(np.vstack(r2_vec_thresholded), columns=obs_val.columns)\n",
    "#     r2_test_results['sigma_threshold'] = sigma_threshold\n",
    "#     r2_test_results['step'] = step\n",
    "#     dataframes.append(r2_test_results)\n",
    "\n",
    "# r2_iters_test_results = pd.concat(dataframes)\n",
    "# r2_iters_test_results = pd.melt(r2_iters_test_results, value_vars=list(obs_val.columns), id_vars=['sigma_threshold', 'step'], value_name='R2')\n",
    "\n",
    "# r2_iters_test_results.to_csv(f'{RESULTS_DIR}/{EXP}_r2_iters_test_results.csv')\n",
    "# FIRST TIME - END \n",
    "# r2_iters_test_results = pd.read_csv(f'{RESULTS_DIR}/{EXP}_r2_iters_test_results.csv', index_col=[0])"
   ]
  },
  {
   "cell_type": "code",
   "execution_count": 22,
   "id": "409180ae-f0b9-408c-8203-50c344e05454",
   "metadata": {},
   "outputs": [],
   "source": [
    "# r2_iters_test_results"
   ]
  },
  {
   "cell_type": "markdown",
   "id": "02237fc8-9f6c-48c3-afe0-06d3ffe641eb",
   "metadata": {},
   "source": [
    "## Metrics of the Last ICNN Snapshot"
   ]
  },
  {
   "cell_type": "code",
   "execution_count": 34,
   "id": "d2bc2a56-0990-42b7-b620-81af5a91084b",
   "metadata": {},
   "outputs": [],
   "source": [
    "model = model.load_params_from_archive(f'{EXP_DIR[EXP]}/params.zip', 'step9999.eqx')"
   ]
  },
  {
   "cell_type": "code",
   "execution_count": 35,
   "id": "019d2522-c9c6-4684-9dc4-a2cccd8df430",
   "metadata": {},
   "outputs": [],
   "source": [
    "# FIRST TIME - BEGIN \n",
    "with jax.default_device(jax.devices(\"cpu\")[0]):\n",
    "    obs_test = jnp.where(art_mask_test, obs_val_test, 0.)\n",
    "    (X_test_imp, X_test_std), _ = eqx.filter_vmap(model.prob_partial_input_optimise)(obs_test, art_mask_test)\n",
    "\n",
    "X_test_imp_df = pd.DataFrame(X_test_imp, columns=obs_val.columns)\n",
    "X_test_std_df = pd.DataFrame(X_test_std, columns=obs_val.columns)\n",
    "\n",
    "X_test_imp_df.to_csv(f'{RESULTS_DIR}/{EXP}_pred_X_test_imp.csv')\n",
    "X_test_std_df.to_csv(f'{RESULTS_DIR}/{EXP}_pred_X_test_std.csv')\n",
    "# FIRST TIME - END \n",
    "\n",
    "X_test_imp_df = pd.read_csv(f'{RESULTS_DIR}/{EXP}_pred_X_test_imp.csv', index_col=[0])\n",
    "X_test_std_df = pd.read_csv(f'{RESULTS_DIR}/{EXP}_pred_X_test_std.csv', index_col=[0])\n",
    "X_test_imp = X_test_imp_df.to_numpy()\n",
    "X_test_std = X_test_std_df.to_numpy()\n"
   ]
  },
  {
   "cell_type": "code",
   "execution_count": 27,
   "id": "4a08b74a-4f2c-4157-bf1d-70de528f9ea1",
   "metadata": {},
   "outputs": [
    {
     "ename": "FileNotFoundError",
     "evalue": "[Errno 2] No such file or directory: 'experiment_snapshots_mimic_ProbStackedICNN_lognormal/icnn_X_test_se.csv'",
     "output_type": "error",
     "traceback": [
      "\u001b[0;31m---------------------------------------------------------------------------\u001b[0m",
      "\u001b[0;31mFileNotFoundError\u001b[0m                         Traceback (most recent call last)",
      "Cell \u001b[0;32mIn[27], line 11\u001b[0m\n\u001b[1;32m      1\u001b[0m \u001b[38;5;66;03m# FIRST TIME - BEGIN \u001b[39;00m\n\u001b[1;32m      2\u001b[0m \n\u001b[1;32m      3\u001b[0m \u001b[38;5;66;03m# icnn_X_test_se = (X_test_imp_df - np.array(obs_val_test))**2\u001b[39;00m\n\u001b[0;32m   (...)\u001b[0m\n\u001b[1;32m      9\u001b[0m \n\u001b[1;32m     10\u001b[0m \u001b[38;5;66;03m# FIRST TIME - END \u001b[39;00m\n\u001b[0;32m---> 11\u001b[0m icnn_X_test_se \u001b[38;5;241m=\u001b[39m pd\u001b[38;5;241m.\u001b[39mread_csv(\u001b[38;5;124mf\u001b[39m\u001b[38;5;124m'\u001b[39m\u001b[38;5;132;01m{\u001b[39;00mEXP_DIR[EXP]\u001b[38;5;132;01m}\u001b[39;00m\u001b[38;5;124m/icnn_X_test_se.csv\u001b[39m\u001b[38;5;124m'\u001b[39m, index_col\u001b[38;5;241m=\u001b[39m[\u001b[38;5;241m0\u001b[39m])\n\u001b[1;32m     12\u001b[0m icnn_X_test_se\n",
      "File \u001b[0;32m~/GP/env/icenode-dev/lib/python3.11/site-packages/pandas/io/parsers/readers.py:948\u001b[0m, in \u001b[0;36mread_csv\u001b[0;34m(filepath_or_buffer, sep, delimiter, header, names, index_col, usecols, dtype, engine, converters, true_values, false_values, skipinitialspace, skiprows, skipfooter, nrows, na_values, keep_default_na, na_filter, verbose, skip_blank_lines, parse_dates, infer_datetime_format, keep_date_col, date_parser, date_format, dayfirst, cache_dates, iterator, chunksize, compression, thousands, decimal, lineterminator, quotechar, quoting, doublequote, escapechar, comment, encoding, encoding_errors, dialect, on_bad_lines, delim_whitespace, low_memory, memory_map, float_precision, storage_options, dtype_backend)\u001b[0m\n\u001b[1;32m    935\u001b[0m kwds_defaults \u001b[38;5;241m=\u001b[39m _refine_defaults_read(\n\u001b[1;32m    936\u001b[0m     dialect,\n\u001b[1;32m    937\u001b[0m     delimiter,\n\u001b[0;32m   (...)\u001b[0m\n\u001b[1;32m    944\u001b[0m     dtype_backend\u001b[38;5;241m=\u001b[39mdtype_backend,\n\u001b[1;32m    945\u001b[0m )\n\u001b[1;32m    946\u001b[0m kwds\u001b[38;5;241m.\u001b[39mupdate(kwds_defaults)\n\u001b[0;32m--> 948\u001b[0m \u001b[38;5;28;01mreturn\u001b[39;00m _read(filepath_or_buffer, kwds)\n",
      "File \u001b[0;32m~/GP/env/icenode-dev/lib/python3.11/site-packages/pandas/io/parsers/readers.py:611\u001b[0m, in \u001b[0;36m_read\u001b[0;34m(filepath_or_buffer, kwds)\u001b[0m\n\u001b[1;32m    608\u001b[0m _validate_names(kwds\u001b[38;5;241m.\u001b[39mget(\u001b[38;5;124m\"\u001b[39m\u001b[38;5;124mnames\u001b[39m\u001b[38;5;124m\"\u001b[39m, \u001b[38;5;28;01mNone\u001b[39;00m))\n\u001b[1;32m    610\u001b[0m \u001b[38;5;66;03m# Create the parser.\u001b[39;00m\n\u001b[0;32m--> 611\u001b[0m parser \u001b[38;5;241m=\u001b[39m TextFileReader(filepath_or_buffer, \u001b[38;5;241m*\u001b[39m\u001b[38;5;241m*\u001b[39mkwds)\n\u001b[1;32m    613\u001b[0m \u001b[38;5;28;01mif\u001b[39;00m chunksize \u001b[38;5;129;01mor\u001b[39;00m iterator:\n\u001b[1;32m    614\u001b[0m     \u001b[38;5;28;01mreturn\u001b[39;00m parser\n",
      "File \u001b[0;32m~/GP/env/icenode-dev/lib/python3.11/site-packages/pandas/io/parsers/readers.py:1448\u001b[0m, in \u001b[0;36mTextFileReader.__init__\u001b[0;34m(self, f, engine, **kwds)\u001b[0m\n\u001b[1;32m   1445\u001b[0m     \u001b[38;5;28mself\u001b[39m\u001b[38;5;241m.\u001b[39moptions[\u001b[38;5;124m\"\u001b[39m\u001b[38;5;124mhas_index_names\u001b[39m\u001b[38;5;124m\"\u001b[39m] \u001b[38;5;241m=\u001b[39m kwds[\u001b[38;5;124m\"\u001b[39m\u001b[38;5;124mhas_index_names\u001b[39m\u001b[38;5;124m\"\u001b[39m]\n\u001b[1;32m   1447\u001b[0m \u001b[38;5;28mself\u001b[39m\u001b[38;5;241m.\u001b[39mhandles: IOHandles \u001b[38;5;241m|\u001b[39m \u001b[38;5;28;01mNone\u001b[39;00m \u001b[38;5;241m=\u001b[39m \u001b[38;5;28;01mNone\u001b[39;00m\n\u001b[0;32m-> 1448\u001b[0m \u001b[38;5;28mself\u001b[39m\u001b[38;5;241m.\u001b[39m_engine \u001b[38;5;241m=\u001b[39m \u001b[38;5;28mself\u001b[39m\u001b[38;5;241m.\u001b[39m_make_engine(f, \u001b[38;5;28mself\u001b[39m\u001b[38;5;241m.\u001b[39mengine)\n",
      "File \u001b[0;32m~/GP/env/icenode-dev/lib/python3.11/site-packages/pandas/io/parsers/readers.py:1705\u001b[0m, in \u001b[0;36mTextFileReader._make_engine\u001b[0;34m(self, f, engine)\u001b[0m\n\u001b[1;32m   1703\u001b[0m     \u001b[38;5;28;01mif\u001b[39;00m \u001b[38;5;124m\"\u001b[39m\u001b[38;5;124mb\u001b[39m\u001b[38;5;124m\"\u001b[39m \u001b[38;5;129;01mnot\u001b[39;00m \u001b[38;5;129;01min\u001b[39;00m mode:\n\u001b[1;32m   1704\u001b[0m         mode \u001b[38;5;241m+\u001b[39m\u001b[38;5;241m=\u001b[39m \u001b[38;5;124m\"\u001b[39m\u001b[38;5;124mb\u001b[39m\u001b[38;5;124m\"\u001b[39m\n\u001b[0;32m-> 1705\u001b[0m \u001b[38;5;28mself\u001b[39m\u001b[38;5;241m.\u001b[39mhandles \u001b[38;5;241m=\u001b[39m get_handle(\n\u001b[1;32m   1706\u001b[0m     f,\n\u001b[1;32m   1707\u001b[0m     mode,\n\u001b[1;32m   1708\u001b[0m     encoding\u001b[38;5;241m=\u001b[39m\u001b[38;5;28mself\u001b[39m\u001b[38;5;241m.\u001b[39moptions\u001b[38;5;241m.\u001b[39mget(\u001b[38;5;124m\"\u001b[39m\u001b[38;5;124mencoding\u001b[39m\u001b[38;5;124m\"\u001b[39m, \u001b[38;5;28;01mNone\u001b[39;00m),\n\u001b[1;32m   1709\u001b[0m     compression\u001b[38;5;241m=\u001b[39m\u001b[38;5;28mself\u001b[39m\u001b[38;5;241m.\u001b[39moptions\u001b[38;5;241m.\u001b[39mget(\u001b[38;5;124m\"\u001b[39m\u001b[38;5;124mcompression\u001b[39m\u001b[38;5;124m\"\u001b[39m, \u001b[38;5;28;01mNone\u001b[39;00m),\n\u001b[1;32m   1710\u001b[0m     memory_map\u001b[38;5;241m=\u001b[39m\u001b[38;5;28mself\u001b[39m\u001b[38;5;241m.\u001b[39moptions\u001b[38;5;241m.\u001b[39mget(\u001b[38;5;124m\"\u001b[39m\u001b[38;5;124mmemory_map\u001b[39m\u001b[38;5;124m\"\u001b[39m, \u001b[38;5;28;01mFalse\u001b[39;00m),\n\u001b[1;32m   1711\u001b[0m     is_text\u001b[38;5;241m=\u001b[39mis_text,\n\u001b[1;32m   1712\u001b[0m     errors\u001b[38;5;241m=\u001b[39m\u001b[38;5;28mself\u001b[39m\u001b[38;5;241m.\u001b[39moptions\u001b[38;5;241m.\u001b[39mget(\u001b[38;5;124m\"\u001b[39m\u001b[38;5;124mencoding_errors\u001b[39m\u001b[38;5;124m\"\u001b[39m, \u001b[38;5;124m\"\u001b[39m\u001b[38;5;124mstrict\u001b[39m\u001b[38;5;124m\"\u001b[39m),\n\u001b[1;32m   1713\u001b[0m     storage_options\u001b[38;5;241m=\u001b[39m\u001b[38;5;28mself\u001b[39m\u001b[38;5;241m.\u001b[39moptions\u001b[38;5;241m.\u001b[39mget(\u001b[38;5;124m\"\u001b[39m\u001b[38;5;124mstorage_options\u001b[39m\u001b[38;5;124m\"\u001b[39m, \u001b[38;5;28;01mNone\u001b[39;00m),\n\u001b[1;32m   1714\u001b[0m )\n\u001b[1;32m   1715\u001b[0m \u001b[38;5;28;01massert\u001b[39;00m \u001b[38;5;28mself\u001b[39m\u001b[38;5;241m.\u001b[39mhandles \u001b[38;5;129;01mis\u001b[39;00m \u001b[38;5;129;01mnot\u001b[39;00m \u001b[38;5;28;01mNone\u001b[39;00m\n\u001b[1;32m   1716\u001b[0m f \u001b[38;5;241m=\u001b[39m \u001b[38;5;28mself\u001b[39m\u001b[38;5;241m.\u001b[39mhandles\u001b[38;5;241m.\u001b[39mhandle\n",
      "File \u001b[0;32m~/GP/env/icenode-dev/lib/python3.11/site-packages/pandas/io/common.py:863\u001b[0m, in \u001b[0;36mget_handle\u001b[0;34m(path_or_buf, mode, encoding, compression, memory_map, is_text, errors, storage_options)\u001b[0m\n\u001b[1;32m    858\u001b[0m \u001b[38;5;28;01melif\u001b[39;00m \u001b[38;5;28misinstance\u001b[39m(handle, \u001b[38;5;28mstr\u001b[39m):\n\u001b[1;32m    859\u001b[0m     \u001b[38;5;66;03m# Check whether the filename is to be opened in binary mode.\u001b[39;00m\n\u001b[1;32m    860\u001b[0m     \u001b[38;5;66;03m# Binary mode does not support 'encoding' and 'newline'.\u001b[39;00m\n\u001b[1;32m    861\u001b[0m     \u001b[38;5;28;01mif\u001b[39;00m ioargs\u001b[38;5;241m.\u001b[39mencoding \u001b[38;5;129;01mand\u001b[39;00m \u001b[38;5;124m\"\u001b[39m\u001b[38;5;124mb\u001b[39m\u001b[38;5;124m\"\u001b[39m \u001b[38;5;129;01mnot\u001b[39;00m \u001b[38;5;129;01min\u001b[39;00m ioargs\u001b[38;5;241m.\u001b[39mmode:\n\u001b[1;32m    862\u001b[0m         \u001b[38;5;66;03m# Encoding\u001b[39;00m\n\u001b[0;32m--> 863\u001b[0m         handle \u001b[38;5;241m=\u001b[39m \u001b[38;5;28mopen\u001b[39m(\n\u001b[1;32m    864\u001b[0m             handle,\n\u001b[1;32m    865\u001b[0m             ioargs\u001b[38;5;241m.\u001b[39mmode,\n\u001b[1;32m    866\u001b[0m             encoding\u001b[38;5;241m=\u001b[39mioargs\u001b[38;5;241m.\u001b[39mencoding,\n\u001b[1;32m    867\u001b[0m             errors\u001b[38;5;241m=\u001b[39merrors,\n\u001b[1;32m    868\u001b[0m             newline\u001b[38;5;241m=\u001b[39m\u001b[38;5;124m\"\u001b[39m\u001b[38;5;124m\"\u001b[39m,\n\u001b[1;32m    869\u001b[0m         )\n\u001b[1;32m    870\u001b[0m     \u001b[38;5;28;01melse\u001b[39;00m:\n\u001b[1;32m    871\u001b[0m         \u001b[38;5;66;03m# Binary mode\u001b[39;00m\n\u001b[1;32m    872\u001b[0m         handle \u001b[38;5;241m=\u001b[39m \u001b[38;5;28mopen\u001b[39m(handle, ioargs\u001b[38;5;241m.\u001b[39mmode)\n",
      "\u001b[0;31mFileNotFoundError\u001b[0m: [Errno 2] No such file or directory: 'experiment_snapshots_mimic_ProbStackedICNN_lognormal/icnn_X_test_se.csv'"
     ]
    }
   ],
   "source": [
    "# FIRST TIME - BEGIN \n",
    "\n",
    "# icnn_X_test_se = (X_test_imp_df - np.array(obs_val_test))**2\n",
    "# icnn_X_test_se = icnn_X_test_se.where(prediction_mask.astype(bool), other=np.nan)\n",
    "# icnn_X_test_se = pd.melt(icnn_X_test_se, value_vars=list(obs_val.columns), value_name='SE')\n",
    "# icnn_X_test_se = icnn_X_test_se[icnn_X_test_se.SE.notnull()]\n",
    "# icnn_X_test_se['Imputer'] = 'ICNN'\n",
    "# icnn_X_test_se.to_csv(f'{RESULTS_DIR}/{EXP}_X_test_se.csv')\n",
    "\n",
    "# FIRST TIME - END \n",
    "icnn_X_test_se = pd.read_csv(f'{RESULTS_DIR}/{EXP}_X_test_se.csv', index_col=[0])\n",
    "icnn_X_test_se"
   ]
  },
  {
   "cell_type": "code",
   "execution_count": 30,
   "id": "7e2dbbdf-2d44-4cf8-b71e-fdaf9ffa7a78",
   "metadata": {},
   "outputs": [],
   "source": [
    "# FIRST TIME - BEGIN \n",
    "# SE = (X_test_imp - obs_val_test) ** 2\n",
    "# SE = jnp.where(prediction_mask, SE, jnp.nan)\n",
    "# X_test_var = jnp.where(prediction_mask, X_test_std ** 2, jnp.nan)\n",
    "\n",
    "# se_data = defaultdict(list)\n",
    "# for i in range(SE.shape[1]):\n",
    "#     se_data['SE'].extend(np.array(SE[:, i][prediction_mask[:, i].astype(bool)]).tolist())\n",
    "#     se_data['sigma2'].extend(np.array(X_test_var[:, i][prediction_mask[:, i].astype(bool)]).tolist())\n",
    "#     se_data['Feature'].extend([obs_val.columns[i]] * int(prediction_mask[:, i].sum()))\n",
    "    \n",
    "# se_df = pd.DataFrame(se_data)\n",
    "# se_df.to_csv(f'{RESULTS_DIR}/{EXP}_se_stats.csv')\n",
    "# FIRST TIME - END \n",
    "\n",
    "# LATER TIMES\n",
    "se_df = pd.read_csv(f'{RESULTS_DIR}/{EXP}_se_stats.csv', index_col=[0])"
   ]
  },
  {
   "cell_type": "code",
   "execution_count": 32,
   "id": "497bab81-d927-4dcc-9eaa-54430f329821",
   "metadata": {},
   "outputs": [],
   "source": [
    "# FIRST TIME - BEGIN \n",
    "\n",
    "# features_r2 = eqx.filter_vmap(ProbICNNImputerTrainer.r_squared)(obs_val_test.T, X_test_imp.T, prediction_mask.T)\n",
    "# features_ss_total = jnp.nansum((obs_val_test - obs_val_test.mean(axis=0))**2, where=prediction_mask, axis=0)\n",
    "# features_ss_res = (1 - features_r2) * features_ss_total\n",
    "# features_mse = jnp.where(prediction_mask.sum(axis=0) > 2, features_ss_res / prediction_mask.sum(axis=0), jnp.nan)\n",
    "\n",
    "# sigma_threshold = [4.0, 3.0, 2.5, 2.0, 1.5, 1.0, 0.5, 0.3, 0.2, 0.1, 0.05, 0.01]\n",
    "# r2_vec_thresholded = [eqx.filter_vmap(ProbICNNImputerTrainer.r_squared_thresholded_prob)(obs_val_test.T, X_test_imp.T, prediction_mask.T, X_test_std.T,  t)\n",
    "#                       for t in sigma_threshold]\n",
    "# r2_test_thresholded_df = pd.DataFrame(np.vstack(r2_vec_thresholded), columns=obs_val.columns)\n",
    "# r2_test_thresholded_df['sigma_threshold'] = sigma_threshold\n",
    "\n",
    "# r2_test_thresholded_melted_df = pd.melt(r2_test_thresholded_df, value_vars=list(obs_val.columns), id_vars=['sigma_threshold'], value_name='R2')\n",
    "\n",
    "\n",
    "# icnn_features_stats = defaultdict(list)\n",
    "# n_train = ((1 - art_mask_train) * obs_mask_train).sum(axis=0)\n",
    "\n",
    "# for feature, feature_df in se_df.groupby('Feature'):\n",
    "#     icnn_features_stats['Feature'].append(feature)\n",
    "#     icnn_features_stats['n_training_measured'].append(n_train_measured[feature2index[feature]])\n",
    "#     icnn_features_stats['n_training_censored'].append(n_train[feature2index[feature]])\n",
    "#     icnn_features_stats['n_test_censored'].append(n_test[feature2index[feature]])\n",
    "#     icnn_features_stats['missingness'].append(missingness[feature2index[feature]].item())\n",
    "#     icnn_features_stats['R2'].append(features_r2[feature2index[feature]].item())\n",
    "#     icnn_features_stats['MSE'].append(features_mse[feature2index[feature]].item())\n",
    "\n",
    "#     icnn_features_stats['sigma2_se_spearman'].append(spearmanr(feature_df['SE'], feature_df['sigma2']).statistic)\n",
    "    \n",
    "# icnn_features_stats_df = pd.DataFrame(icnn_features_stats)\n",
    "\n",
    "\n",
    "# r2_test_thresholded_df.to_csv(f'{RESULTS_DIR}/{EXP}_r2_test_thresholded.csv')\n",
    "# r2_test_thresholded_melted_df.to_csv(f'{RESULTS_DIR}/{EXP}_r2_test_thresholded_melted.csv')\n",
    "# icnn_features_stats_df.to_csv(f'{RESULTS_DIR}/{EXP}_features_stats.csv')  \n",
    "\n",
    "# LATER TIMES\n",
    "# r2_test_thresholded_df = pd.read_csv(f'{RESULTS_DIR}/{EXP}_r2_test_thresholded.csv', index_col=[0])\n",
    "# r2_test_thresholded_melted_df = pd.read_csv(f'{RESULTS_DIR}/{EXP}_r2_test_thresholded_melted.csv', index_col=[0])\n",
    "# icnn_features_stats_df = pd.read_csv(f'{RESULTS_DIR}/{EXP}_features_stats.csv', index_col=[0])\n"
   ]
  },
  {
   "cell_type": "code",
   "execution_count": 33,
   "id": "2410cf4e-4e16-4056-9796-5e6f4ba3845b",
   "metadata": {},
   "outputs": [
    {
     "ename": "NameError",
     "evalue": "name 'X_test_imp' is not defined",
     "output_type": "error",
     "traceback": [
      "\u001b[0;31m---------------------------------------------------------------------------\u001b[0m",
      "\u001b[0;31mNameError\u001b[0m                                 Traceback (most recent call last)",
      "Cell \u001b[0;32mIn[33], line 3\u001b[0m\n\u001b[1;32m      1\u001b[0m spearman_se_sigma_all \u001b[38;5;241m=\u001b[39m spearmanr(se_df[\u001b[38;5;124m'\u001b[39m\u001b[38;5;124mSE\u001b[39m\u001b[38;5;124m'\u001b[39m], se_df[\u001b[38;5;124m'\u001b[39m\u001b[38;5;124msigma2\u001b[39m\u001b[38;5;124m'\u001b[39m])\u001b[38;5;241m.\u001b[39mstatistic\n\u001b[1;32m      2\u001b[0m pearson_se_sigma_all \u001b[38;5;241m=\u001b[39m pearsonr(se_df[\u001b[38;5;124m'\u001b[39m\u001b[38;5;124mSE\u001b[39m\u001b[38;5;124m'\u001b[39m], se_df[\u001b[38;5;124m'\u001b[39m\u001b[38;5;124msigma2\u001b[39m\u001b[38;5;124m'\u001b[39m])\u001b[38;5;241m.\u001b[39mstatistic\n\u001b[0;32m----> 3\u001b[0m r2_all \u001b[38;5;241m=\u001b[39m ProbICNNImputerTrainer\u001b[38;5;241m.\u001b[39mr_squared(obs_val_test, X_test_imp, prediction_mask)\n\u001b[1;32m      4\u001b[0m ss_total \u001b[38;5;241m=\u001b[39m jnp\u001b[38;5;241m.\u001b[39mnansum((obs_val_test \u001b[38;5;241m-\u001b[39m obs_val_test\u001b[38;5;241m.\u001b[39mmean())\u001b[38;5;241m*\u001b[39m\u001b[38;5;241m*\u001b[39m\u001b[38;5;241m2\u001b[39m, where\u001b[38;5;241m=\u001b[39mprediction_mask)\n\u001b[1;32m      5\u001b[0m ss_res \u001b[38;5;241m=\u001b[39m (\u001b[38;5;241m1\u001b[39m \u001b[38;5;241m-\u001b[39m r2_all) \u001b[38;5;241m*\u001b[39m ss_total\n",
      "\u001b[0;31mNameError\u001b[0m: name 'X_test_imp' is not defined"
     ]
    }
   ],
   "source": [
    "spearman_se_sigma_all = spearmanr(se_df['SE'], se_df['sigma2']).statistic\n",
    "pearson_se_sigma_all = pearsonr(se_df['SE'], se_df['sigma2']).statistic\n",
    "r2_all = ProbICNNImputerTrainer.r_squared(obs_val_test, X_test_imp, prediction_mask)\n",
    "ss_total = jnp.nansum((obs_val_test - obs_val_test.mean())**2, where=prediction_mask)\n",
    "ss_res = (1 - r2_all) * ss_total\n",
    "mse =  ss_res / prediction_mask.sum()\n",
    "\n",
    "icnn_global_stats = pd.DataFrame({r'$r_\\text{Pearson}(SE, \\sigma^2)$': [pearson_se_sigma_all],\n",
    "                                  r'$r_\\text{Spearman}(SE, \\sigma^2)$': [spearman_se_sigma_all],\n",
    "                                  r'$R^2(z, \\mu)$': [r2_all],\n",
    "                                  'MSE': [mse]})\n",
    "icnn_global_stats.to_csv(f'{RESULTS_DIR}/{EXP}_global_stats.csv')  \n",
    "icnn_global_stats"
   ]
  },
  {
   "cell_type": "code",
   "execution_count": null,
   "id": "28a913a1-8758-4021-9000-9941fbfaf077",
   "metadata": {},
   "outputs": [],
   "source": [
    "icnn_features_stats_df.sort_values('R2').tail(15)"
   ]
  },
  {
   "cell_type": "code",
   "execution_count": null,
   "id": "7fa41071-d0ef-456d-bd4a-96553488de6a",
   "metadata": {},
   "outputs": [],
   "source": [
    "r_classes = [r'$r > 0.3$', r'$r \\in (0.1, 0.3]$', r'$r \\in (-0.1, 0.1]$', r'$r \\leq -0.1$']\n",
    "R_classes = [r'$R^2 > 0.25$', r'$R^2 \\in (0.1, 0.25]$', r'$R^2 \\in (-0.1, 0.1]$', r'$R^2 \\leq -0.1$']\n",
    "def classify_r(r):\n",
    "    if r > 0.3:\n",
    "        return r_classes[0]\n",
    "    elif r > 0.1:\n",
    "        return r_classes[1]\n",
    "    elif r > -0.1:\n",
    "        return r_classes[2]\n",
    "    else:\n",
    "        return r_classes[3]\n",
    "\n",
    "def classify_R(R):\n",
    "    if R > 0.25:\n",
    "        return R_classes[0]\n",
    "    elif R > 0.1:\n",
    "        return R_classes[1]\n",
    "    elif R > -0.1:\n",
    "        return R_classes[2]\n",
    "    else:\n",
    "        return R_classes[3] \n",
    "\n",
    "icnn_features_stats_df[r'$r(\\sigma^2, SE)$'] = icnn_features_stats_df.sigma2_se_spearman.map(classify_r)\n",
    "\n",
    "vars_n300 = icnn_features_stats_df[icnn_features_stats_df.n_test_censored >= 300].Feature\n",
    "print(len(vars_n300))\n",
    "icnn_features_stats_df[icnn_features_stats_df.Feature.isin(vars_n300)].sort_values('sigma2_se_spearman').head(30)\n"
   ]
  },
  {
   "cell_type": "code",
   "execution_count": null,
   "id": "404514f8-ebca-4e88-ba38-cc2a64689ce0",
   "metadata": {},
   "outputs": [],
   "source": [
    "ax = sns.countplot(icnn_features_stats_df[icnn_features_stats_df.Feature.isin(vars_n300)], y=r'$r(\\sigma^2, SE)$', order=r_classes)\n",
    "ax.bar_label(ax.containers[0], fontsize=10);\n",
    "ax.get_figure().set_size_inches(fig_width_in, fig_height_in)\n",
    "ax.get_figure().savefig(f\"{RESULTS_DIR}/{EXP}_r_sigma_SE.pdf\")"
   ]
  },
  {
   "cell_type": "markdown",
   "id": "a6c97e3b-bff6-4af5-871f-8758e72ddc52",
   "metadata": {},
   "source": [
    "## Metrics of Sklearn Models"
   ]
  },
  {
   "cell_type": "code",
   "execution_count": null,
   "id": "46f68045-44c3-4aa7-8e12-52369f86245e",
   "metadata": {},
   "outputs": [],
   "source": [
    "# FIRST TIME - BEGIN \n",
    "sklearn_imputed_X = {k: v.transform(np.where(art_mask_test, obs_val_test, np.nan)) for k, v in sklearn_trained_imputers.items()} \n",
    "for sklearn_name, imputed_X_ in sklearn_imputed_X.items():\n",
    "    X_test_imp_df = pd.DataFrame(imputed_X_, columns=obs_val.columns)    \n",
    "    X_test_imp_df.to_csv(f'{RESULTS_DIR}/{sklearn_name}_pred_X_test_imp.csv')\n",
    "# FIRST TIME - END \n",
    "\n",
    "\n",
    "sklearn_imputed_X = {k: pd.read_csv(f'{RESULTS_DIR}/{k}_pred_X_test_imp.csv', index_col=[0]) \n",
    "                     for k in sklearn_imputers.keys()} \n"
   ]
  },
  {
   "cell_type": "code",
   "execution_count": null,
   "id": "51760e31-235d-49ac-acbd-ade1508abb8e",
   "metadata": {},
   "outputs": [],
   "source": [
    "# FIRST TIME - BEGIN \n",
    "\n",
    "sklearn_X_test_se = {k: (X_imp_ - np.array(obs_val_test))**2 for k, X_imp_ in sklearn_imputed_X.items()}\n",
    "sklearn_X_test_se = {k: np.where(prediction_mask.astype(bool), X_test_se, np.nan) for k, X_test_se in sklearn_X_test_se.items()}\n",
    "sklearn_X_test_se_df = []\n",
    "for k, X_test_se in sklearn_X_test_se.items():\n",
    "    X_test_se = pd.DataFrame(X_test_se, columns=obs_val.columns)\n",
    "    df = pd.melt(X_test_se, value_vars=list(obs_val.columns), value_name='SE')\n",
    "    df = df[df.SE.notnull()]\n",
    "    df['Imputer'] = k\n",
    "    sklearn_X_test_se_df.append(df)\n",
    "\n",
    "sklearn_X_test_se_df = pd.concat(sklearn_X_test_se_df)\n",
    "sklearn_X_test_se_df.to_csv(f'{RESULTS_DIR}/sklearn_X_test_se.csv')\n",
    "# FIRST TIME - END \n",
    "sklearn_X_test_se_df = pd.read_csv(f'{RESULTS_DIR}/sklearn_X_test_se.csv', index_col=[0])\n",
    "sklearn_X_test_se_df"
   ]
  },
  {
   "cell_type": "code",
   "execution_count": null,
   "id": "7c4b03ef-3daf-420e-bac6-7876f7ec3d2f",
   "metadata": {},
   "outputs": [],
   "source": [
    "X_test_se_df = pd.concat([icnn_X_test_se, sklearn_X_test_se_df])\n",
    "X_test_se_df['group'] = X_test_se_df.variable.str.split('.').map(lambda x: x[0])\n",
    "X_test_se_df['Feature'] = X_test_se_df.variable.map(variable_map)"
   ]
  },
  {
   "cell_type": "code",
   "execution_count": null,
   "id": "7d686d2d-3c52-4761-b610-b6297f381fbb",
   "metadata": {},
   "outputs": [],
   "source": [
    "groups = X_test_se_df['group'].unique().tolist()\n",
    "groups"
   ]
  },
  {
   "cell_type": "code",
   "execution_count": null,
   "id": "6c0cdbbc-4329-49d8-bf13-936c69284915",
   "metadata": {},
   "outputs": [],
   "source": [
    "X_test_se_df"
   ]
  },
  {
   "cell_type": "code",
   "execution_count": null,
   "id": "e48bdbbe-e6ac-4a7f-b1ec-83c03b30b07a",
   "metadata": {},
   "outputs": [],
   "source": [
    "# enzymes (except Amylase, Bilirubin indirect, CK-CPK)\n",
    "# renal_creat\n",
    "# renal_aki\n",
    "# renal_out\n",
    "# sofa\n",
    "\n",
    "X_test_se_df_selection = X_test_se_df[X_test_se_df.group.isin(['renal_out', 'renal_creat', 'renal_aki', 'sofa'])]\n",
    "\n",
    "grid = sns.FacetGrid(data=X_test_se_df_selection, col=\"group\", sharex=False, sharey=False, col_wrap=2,  )\n",
    "\n",
    "grid.map_dataframe(sns.boxplot, x=\"SE\", y=\"Feature\", hue=\"Imputer\", dodge=True,  palette=\"Set1\",#hue=\"Imputer\",\n",
    "                   showmeans=True, meanprops={'marker':'o','markerfacecolor':'white','markeredgecolor':'black','markersize':'5'},\n",
    "                    # line_kws=dict(linewidth=1.5, color=\"#cde\"),\n",
    "                    showfliers=False,\n",
    "                    fill=False,\n",
    "                     gap=0.5)\n",
    "grid.add_legend()\n",
    "grid.figure.set_size_inches(fig_width_in * 1.2, fig_height_in * 3)\n",
    "grid.savefig(f\"{RESULTS_DIR}/X_test_se_df_selection.pdf\")"
   ]
  },
  {
   "cell_type": "code",
   "execution_count": null,
   "id": "21f59499-85f8-4c76-844d-11edcda75b49",
   "metadata": {},
   "outputs": [],
   "source": []
  },
  {
   "cell_type": "code",
   "execution_count": null,
   "id": "ea7d20a9-9d42-4c56-9749-cba6a07055b0",
   "metadata": {},
   "outputs": [],
   "source": [
    "# FIRST TIME - BEGIN \n",
    "\n",
    "# sklearn_performance_data = defaultdict(list)\n",
    "# sklearn_performance_per_feature_data = defaultdict(list)\n",
    "    \n",
    "# for sklearn_imputer_name, sklearn_imputed_X_ in sklearn_imputed_X.items():\n",
    "#     r2 = ProbICNNImputerTrainer.r_squared(obs_val_test, sklearn_imputed_X_, prediction_mask)\n",
    "#     features_r2 = eqx.filter_vmap(ProbICNNImputerTrainer.r_squared)(obs_val_test.T, sklearn_imputed_X_.T, prediction_mask.T)\n",
    "#     features_ss_total = jnp.nansum((obs_val_test - obs_val_test.mean(axis=0))**2, where=prediction_mask, axis=0)\n",
    "#     features_ss_res = (1 - features_r2) * features_ss_total\n",
    "#     features_mse = jnp.where(prediction_mask.sum(axis=0) > 2, features_ss_res / prediction_mask.sum(axis=0), jnp.nan)\n",
    "\n",
    "#     sklearn_performance_data['sklearn_imputer'].append(sklearn_imputer_name)\n",
    "#     sklearn_performance_data['R2'].append(r2.item())\n",
    "\n",
    "#     sklearn_performance_per_feature_data['R2'].extend(features_r2.tolist())\n",
    "#     sklearn_performance_per_feature_data['MSE'].append(features_mse.tolist())\n",
    "\n",
    "#     sklearn_performance_per_feature_data['sklearn_imputer'].extend([sklearn_imputer_name] * len(obs_val.columns))\n",
    "#     sklearn_performance_per_feature_data['feature'].extend(obs_val.columns.tolist())\n",
    "#     sklearn_performance_per_feature_data['missingness'].extend(missingness.tolist())\n",
    "\n",
    "# sklearn_performance_df = pd.DataFrame(sklearn_performance_data)\n",
    "# sklearn_performance_per_feature_df = pd.DataFrame(sklearn_performance_per_feature_data)\n",
    "\n",
    "\n",
    "# sklearn_performance_per_feature_df.to_csv(f'{RESULTS_DIR}/sklearn_features_stats.csv')\n",
    "# sklearn_performance_df.to_csv(f'{RESULTS_DIR}/sklearn_stats.csv')\n",
    "\n",
    "# FIRST TIME - END \n",
    "\n",
    "sklearn_performance_df = pd.read_csv(f'{RESULTS_DIR}/sklearn_stats.csv', index_col=[0])\n",
    "sklearn_performance_per_feature_df = pd.read_csv(f'{RESULTS_DIR}/sklearn_features_stats.csv', index_col=[0])"
   ]
  },
  {
   "cell_type": "code",
   "execution_count": null,
   "id": "7ab96db2-a480-4c59-8f45-30c98bcdd329",
   "metadata": {},
   "outputs": [],
   "source": [
    "table0 = sklearn_performance_df\n",
    "ss_total = jnp.nansum((obs_val_test - obs_val_test.mean())**2, where=prediction_mask)\n",
    "ss_res = (1 - r2_all) * ss_total\n",
    "mse =  ss_res / prediction_mask.sum()\n"
   ]
  },
  {
   "cell_type": "code",
   "execution_count": null,
   "id": "bd23fef8-be51-413b-aea4-ba90ddfd89a1",
   "metadata": {},
   "outputs": [],
   "source": [
    "table0 = sklearn_performance_df.rename(columns={'sklearn_imputer': 'Imputer'}).set_index('Imputer').transpose()\n",
    "table0['ICNN_LN'] = r2_all.item()\n",
    "table0.loc['MSE'] = (1 - table0.loc['R2']) * jnp.nansum((obs_val_test - obs_val_test.mean())**2, where=prediction_mask) / prediction_mask.sum()\n",
    "\n",
    "table0.columns =  list(map(lambda c: f'\\\\texttt{{{c}}}', table0.columns))\n",
    "table0.columns = list(map(lambda c: c.replace(\"_\", \"\\\\_\"), table0.columns))\n",
    "table0.columns.name = 'Imputer'\n",
    "table0 = table0.sort_values('R2', axis=1).rename(index={'R2': r'$R^2$'})\n",
    "table0"
   ]
  },
  {
   "cell_type": "code",
   "execution_count": null,
   "id": "04bdeb24-aca1-4934-9136-db0f902b3a56",
   "metadata": {},
   "outputs": [],
   "source": [
    "table0_stl = (table0.style\n",
    "              .background_gradient(cmap='RdYlGn', axis=1, low=-0, high=0.5,  vmin=-0.6, vmax=0.3, subset= pd.IndexSlice[[r'$R^2$'], :])\n",
    "              .background_gradient(cmap='RdYlGn_r', axis=1,  low=0.12, high=0.28,  vmin=0.12, vmax=0.28, subset= pd.IndexSlice[['MSE'], :])\n",
    "              # .apply_index(lambda x: [\"background-color: #E5E4E2;\"] * len(x))\n",
    "              .format(precision=3))\n",
    "table0_stl"
   ]
  },
  {
   "cell_type": "code",
   "execution_count": null,
   "id": "5782c68e-3a7c-457e-bbad-43cffba2c227",
   "metadata": {},
   "outputs": [],
   "source": [
    "table0_str = (table0_stl.to_latex(caption=\"$R^2$-scores and \\gls*{mse} across all features on the test split.\",\n",
    "                       position_float=\"centering\",\n",
    "                       convert_css=True,\n",
    "                       hrules=True,)\n",
    "              .replace('\\\\toprule', '\\\\hline').replace('\\\\midrule', '\\\\hline').replace('\\\\bottomrule','\\\\hline'))\n",
    "print(table0_str)"
   ]
  },
  {
   "cell_type": "code",
   "execution_count": null,
   "id": "54da231a-51c4-4678-ab82-89864c5ae628",
   "metadata": {},
   "outputs": [],
   "source": [
    "table1_stl = (icnn_global_stats.iloc[:, :2].style.format(precision=3).hide())\n",
    "table1_str = table1_stl.to_latex(caption=r\"Correlation between predicted Gaussian variance $\\sigma^2$ by \\texttt{ICNN\\_LN} and the prediction \\gls*{se}.\",\n",
    "                       position_float=\"centering\",\n",
    "                       convert_css=True,\n",
    "                       hrules=True,)\n",
    "print(table1_str)"
   ]
  },
  {
   "cell_type": "code",
   "execution_count": null,
   "id": "f9283ff4-df4c-4a19-a2f7-e2e0ce1e7a24",
   "metadata": {},
   "outputs": [],
   "source": [
    "sklearn_performance_per_feature_df[(sklearn_performance_per_feature_df.missingness < 0.7)].sort_values(['sklearn_imputer', 'R2'])"
   ]
  },
  {
   "cell_type": "code",
   "execution_count": null,
   "id": "3e89c059-43f8-405b-a607-8ee401af8b43",
   "metadata": {},
   "outputs": [],
   "source": [
    "performance_per_feature1 = sklearn_performance_per_feature_df[['feature', 'sklearn_imputer', 'missingness', 'R2']]\n",
    "performance_per_feature1.columns = ['Feature', 'Imputer', 'missingness', 'R2']\n",
    "performance_per_feature2 = icnn_features_stats_df[['Feature', 'missingness', 'R2']]\n",
    "performance_per_feature2['Imputer'] = 'ICNN'\n",
    "performance_per_feature_df = pd.concat([performance_per_feature1, performance_per_feature2])\n",
    "performance_per_feature_df[r'$R^2$-Bin'] = performance_per_feature_df.R2.map(classify_R)\n",
    "performance_per_feature_df_selection = performance_per_feature_df[performance_per_feature_df.Feature.isin(vars_n300)]\n",
    "performance_per_feature_df_selection"
   ]
  },
  {
   "cell_type": "code",
   "execution_count": null,
   "id": "b461cc52-b357-48e1-82b3-9a23093d8835",
   "metadata": {},
   "outputs": [],
   "source": [
    "r_bins = performance_per_feature_df_selection.groupby(['Imputer', r'$R^2$-Bin'])['Feature'].count().reset_index()\n",
    "r_bins.columns = ['Imputer', r'$R^2$-Bin', 'Count']\n",
    "r_bins = r_bins.pivot_table(index=\"Imputer\", values='Count', columns=r'$R^2$-Bin')\n",
    "r_bins = r_bins[R_classes]\n",
    "r_bins"
   ]
  },
  {
   "cell_type": "code",
   "execution_count": null,
   "id": "984420b6-2e64-4b90-8086-19543645ee17",
   "metadata": {},
   "outputs": [],
   "source": [
    "?r_bins.plot"
   ]
  },
  {
   "cell_type": "code",
   "execution_count": null,
   "id": "502b2919-f6a1-4c48-aaef-78545cb31d6a",
   "metadata": {},
   "outputs": [],
   "source": [
    "ax = r_bins.plot(y=R_classes, kind=\"bar\", rot=0, stacked=True, colormap='RdYlGn_r', ylabel='Features Count')\n",
    "_ = ax.legend(bbox_to_anchor=(1, 1.02), loc='upper left')\n",
    "ax.get_figure().set_size_inches(fig_width_in, fig_height_in)\n",
    "ax.get_figure().savefig(f\"{RESULTS_DIR}/{EXP}_r2_bins.pdf\")"
   ]
  }
 ],
 "metadata": {
  "kernelspec": {
   "display_name": "Python 3 (ipykernel)",
   "language": "python",
   "name": "python3"
  },
  "language_info": {
   "codemirror_mode": {
    "name": "ipython",
    "version": 3
   },
   "file_extension": ".py",
   "mimetype": "text/x-python",
   "name": "python",
   "nbconvert_exporter": "python",
   "pygments_lexer": "ipython3",
   "version": "3.11.8"
  }
 },
 "nbformat": 4,
 "nbformat_minor": 5
}
