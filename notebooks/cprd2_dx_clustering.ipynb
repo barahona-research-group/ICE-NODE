{
 "cells": [
  {
   "cell_type": "markdown",
   "id": "f53f4d3c",
   "metadata": {},
   "source": [
    "# Table of Content\n",
    "\n",
    "<a name=\"outline\"></a>\n",
    "\n",
    "## Setup\n",
    "\n",
    "- [A](#seca) External Imports\n",
    "- [B](#secb) Internal Imports\n",
    "- [C](#secc) Configurations and Paths \n",
    "- [D](#secd) JAX Interface\n",
    "- [E](#sece) General Utility Functions\n",
    "\n",
    "\n",
    "## Clustering\n",
    "\n",
    "- [1](#sec2) Disease Embeddings Clustering\n",
    "- [2](#sec3) Subject Embeddings Clustering"
   ]
  },
  {
   "cell_type": "markdown",
   "id": "697a491c",
   "metadata": {},
   "source": [
    "<a name=\"seca\"></a>\n",
    "\n",
    "### A External Imports [^](#outline)"
   ]
  },
  {
   "cell_type": "code",
   "execution_count": 1,
   "id": "4cfc614e",
   "metadata": {},
   "outputs": [],
   "source": [
    "%load_ext autoreload\n",
    "%autoreload 2\n",
    "import sys\n",
    "import os\n",
    "import glob\n",
    "import random\n",
    "from collections import defaultdict\n",
    "from pathlib import Path\n",
    "\n",
    "from IPython.display import display\n",
    "\n",
    "import pandas as pd\n",
    "\n",
    "from tqdm import tqdm\n",
    "import jax\n",
    "jax.config.update('jax_platform_name', 'cpu')"
   ]
  },
  {
   "cell_type": "markdown",
   "id": "23f0d568",
   "metadata": {},
   "source": [
    "<a name=\"secb\"></a>\n",
    "\n",
    "### B Internal Imports [^](#outline)"
   ]
  },
  {
   "cell_type": "code",
   "execution_count": 2,
   "id": "894a3743",
   "metadata": {},
   "outputs": [],
   "source": [
    "\n",
    "\n",
    "sys.path.append(\"..\")\n",
    "\n",
    "from lib import utils as U\n",
    "from lib.ehr.dataset import load_dataset\n",
    "\n",
    "# Assign the folder of the dataset to `DATA_FILE`.\n",
    "\n",
    "HOME = os.environ.get('HOME')\n",
    "DATA_FILE = f'{HOME}/GP/ehr-data/cprd-data/DUMMY_DATA.csv'\n",
    "SOURCE_DIR = os.path.abspath(\"..\")"
   ]
  },
  {
   "cell_type": "markdown",
   "id": "d9340794",
   "metadata": {},
   "source": [
    "<a name=\"secc\"></a>\n",
    "\n",
    "### C Configurations and Paths [^](#outline)"
   ]
  },
  {
   "cell_type": "code",
   "execution_count": 3,
   "id": "9e935c81",
   "metadata": {},
   "outputs": [],
   "source": [
    "output_dir = 'cprd_artefacts'\n",
    "Path(output_dir).mkdir(parents=True, exist_ok=True)\n"
   ]
  },
  {
   "cell_type": "code",
   "execution_count": 4,
   "id": "24bec048",
   "metadata": {},
   "outputs": [],
   "source": [
    "with U.modified_environ(DATA_FILE=DATA_FILE):\n",
    "    cprd_dataset = load_dataset('CPRD')\n",
    "   "
   ]
  },
  {
   "cell_type": "code",
   "execution_count": 5,
   "id": "1e347422",
   "metadata": {},
   "outputs": [],
   "source": [
    "output_dir = 'cprd_clustering_artefacts'\n",
    "Path(output_dir).mkdir(parents=True, exist_ok=True)\n"
   ]
  },
  {
   "cell_type": "markdown",
   "id": "24d26707",
   "metadata": {},
   "source": [
    "<a name=\"secd\"></a>\n",
    "\n",
    "### D JAX Interface [^](#outline)\n",
    "\n",
    "### Configuration should match the same configuration used in training in `cprd2_dx_training.ipynb`"
   ]
  },
  {
   "cell_type": "code",
   "execution_count": 6,
   "id": "ed738552",
   "metadata": {},
   "outputs": [
    {
     "name": "stdout",
     "output_type": "stream",
     "text": [
      "The autoreload extension is already loaded. To reload it, use:\n",
      "  %reload_ext autoreload\n",
      "The autoreload extension is already loaded. To reload it, use:\n",
      "  %reload_ext autoreload\n"
     ]
    }
   ],
   "source": [
    "\n",
    "%load_ext autoreload\n",
    "%autoreload 2\n",
    "\n",
    "from lib.ehr.coding_scheme import DxLTC212FlatCodes, DxLTC9809FlatMedcodes, EthCPRD5, EthCPRD16\n",
    "from lib.ehr import OutcomeExtractor, FirstOccurrenceOutcomeExtractor\n",
    "from lib.ehr import Subject_JAX\n",
    "from lib.ehr import StaticInfoFlags\n",
    "\n",
    "%load_ext autoreload\n",
    "%autoreload 2\n",
    "\n",
    "code_scheme = {\n",
    "    'dx': DxLTC9809FlatMedcodes(), # other options \n",
    "    'outcome': OutcomeExtractor('dx_cprd_ltc9809'),\n",
    "    # Comment above^, and uncomment below, to consider only the first occurrence of codes per subject.\n",
    "    # 'outcome': FirstOccurrenceOutcomeExtractor('dx_cprd_ltc9809'),\n",
    "    'eth': EthCPRD5()\n",
    "}"
   ]
  },
  {
   "cell_type": "code",
   "execution_count": 7,
   "id": "27c24ace",
   "metadata": {},
   "outputs": [],
   "source": [
    "\n",
    "static_info_flags = StaticInfoFlags(\n",
    " gender=True,\n",
    " age=True,\n",
    " idx_deprivation=True,\n",
    " ethnicity=EthCPRD5(), # <- include it by the category of interest, not just 'True'.\n",
    ")\n",
    "cprd_interface = Subject_JAX.from_dataset(cprd_dataset, code_scheme=code_scheme, static_info_flags=static_info_flags)\n",
    "cprd_all_subjects = list(cprd_interface.keys())\n",
    "cprd_splits = cprd_interface.random_splits(split1=0.7, split2=0.85, random_seed=42)"
   ]
  },
  {
   "cell_type": "markdown",
   "id": "f6323308",
   "metadata": {},
   "source": [
    "<a name=\"sec1\"></a>\n",
    "\n",
    "## 1 Disease Embeddings Clustering on CPRD [^](#outline)"
   ]
  },
  {
   "cell_type": "code",
   "execution_count": 8,
   "id": "fd4dfdf4",
   "metadata": {},
   "outputs": [],
   "source": [
    "\n",
    "\n",
    "# Should be the same one used in JAX interface in the training notebook.\n",
    "dx_scheme = DxLTC9809FlatMedcodes()\n"
   ]
  },
  {
   "cell_type": "code",
   "execution_count": 9,
   "id": "4b97024f",
   "metadata": {},
   "outputs": [],
   "source": [
    "# scheme indices (textual code -> integer index)\n",
    "dx_scheme.index\n",
    "\n",
    "# reverse index (integer index -> textual code)\n",
    "idx2code = {idx: code for code, idx in dx_scheme.index.items()}"
   ]
  },
  {
   "cell_type": "markdown",
   "id": "321f85ed",
   "metadata": {},
   "source": [
    "### 1.A GloVe Based Disease Embeddings"
   ]
  },
  {
   "cell_type": "markdown",
   "id": "01db04a9",
   "metadata": {},
   "source": [
    "Get the coocurrence matrix"
   ]
  },
  {
   "cell_type": "code",
   "execution_count": 15,
   "id": "f9f7afc0",
   "metadata": {},
   "outputs": [
    {
     "data": {
      "text/plain": [
       "array([[-0.00060291,  0.00388628,  0.0011434 , ..., -0.00505025,\n",
       "         0.00322211, -0.00227745],\n",
       "       [ 0.00287454, -0.00062646,  0.00173732, ..., -0.00019625,\n",
       "        -0.00357063,  0.0035935 ],\n",
       "       [ 0.00176105,  0.00265408, -0.00154581, ...,  0.00362902,\n",
       "        -0.00319561, -0.00013699],\n",
       "       ...,\n",
       "       [-0.00794647, -0.00551591,  0.00785181, ..., -0.00017621,\n",
       "         0.00284466,  0.00258541],\n",
       "       [-0.00094812,  0.00257151,  0.00391616, ...,  0.00557593,\n",
       "         0.00580394, -0.00319773],\n",
       "       [ 0.00202193,  0.00555665, -0.00156006, ...,  0.00220455,\n",
       "        -0.00023156,  0.00452634]])"
      ]
     },
     "execution_count": 15,
     "metadata": {},
     "output_type": "execute_result"
    }
   ],
   "source": [
    "cprd_cooc = cprd_interface.dx_coocurrence(cprd_all_subjects, window_size_days=365)\n",
    "\n",
    "from lib.embeddings import train_glove\n",
    "\n",
    "cprd_glove = train_glove(cprd_cooc, embeddings_size=100, iterations=500, prng_seed=0)\n",
    "\n",
    "cprd_glove"
   ]
  },
  {
   "cell_type": "markdown",
   "id": "b717db5c",
   "metadata": {},
   "source": [
    "### 1.B Predictor Based Disease Embeddings\n",
    "\n",
    "TODO"
   ]
  },
  {
   "cell_type": "markdown",
   "id": "ea0dae9e",
   "metadata": {},
   "source": [
    "### 1.C Predictor Based Subject Embeddings\n",
    "\n",
    "TODO"
   ]
  },
  {
   "cell_type": "code",
   "execution_count": 32,
   "id": "7196d5b5",
   "metadata": {},
   "outputs": [
    {
     "name": "stderr",
     "output_type": "stream",
     "text": [
      "/home/asem/GP/env/icenode-dev/lib/python3.8/site-packages/haiku/_src/data_structures.py:144: FutureWarning: jax.tree_flatten is deprecated, and will be removed in a future release. Use jax.tree_util.tree_flatten instead.\n",
      "  leaves, treedef = jax.tree_flatten(tree)\n",
      "/home/asem/GP/env/icenode-dev/lib/python3.8/site-packages/haiku/_src/data_structures.py:145: FutureWarning: jax.tree_unflatten is deprecated, and will be removed in a future release. Use jax.tree_util.tree_unflatten instead.\n",
      "  return jax.tree_unflatten(treedef, leaves)\n"
     ]
    }
   ],
   "source": [
    "\n",
    "\n",
    "# def embeddings_dictionary(clf):\n",
    "#     model, state = cprd_predictors[clf]\n",
    "#     params = model.get_params(state)\n",
    "#     # Embeddings Mat\n",
    "#     dx_G = model.dx_emb.compute_embeddings_mat(params['dx_emb'])\n",
    "\n",
    "#     embeddings_dict = {}\n",
    "#     for code, idx in dx_scheme.index.items():\n",
    "#         in_vec = np.zeros((cprd_interface.dx_dim, ))\n",
    "#         in_vec[idx] = 1.\n",
    "#         out_vec = model.dx_emb.encode(dx_G, in_vec)\n",
    "#         embeddings_dict[code] = out_vec\n",
    "#     return embeddings_dict\n",
    "\n",
    "# icenode_emb = embeddings_dictionary('ICE-NODE')\n",
    "# icenode_uni_emb = embeddings_dictionary('ICE-NODE_UNIFORM')\n",
    "# retain_emb = embeddings_dictionary('RETAIN')\n",
    "# gru_emb = embeddings_dictionary('GRU')\n",
    "\n",
    "\n",
    "# def subject_embeddings_dictionary(clf):\n",
    "#     model, state = cprd_predictors[clf]\n",
    "#     # All subjects in the study are passed\n",
    "#     return model.subject_embeddings(state, cprd_interface.subjects)\n",
    "\n",
    "# icenode_subj_emb = subject_embeddings_dictionary('ICE-NODE')\n",
    "# icenode_subj_uni_emb = subject_embeddings_dictionary('ICE-NODE_UNIFORM')\n",
    "# retain_subj_emb = subject_embeddings_dictionary('RETAIN')\n",
    "# gru_subj_emb = subject_embeddings_dictionary('GRU')"
   ]
  }
 ],
 "metadata": {
  "kernelspec": {
   "display_name": "Python 3 (ipykernel)",
   "language": "python",
   "name": "python3"
  },
  "language_info": {
   "codemirror_mode": {
    "name": "ipython",
    "version": 3
   },
   "file_extension": ".py",
   "mimetype": "text/x-python",
   "name": "python",
   "nbconvert_exporter": "python",
   "pygments_lexer": "ipython3",
   "version": "3.8.13"
  }
 },
 "nbformat": 4,
 "nbformat_minor": 5
}
