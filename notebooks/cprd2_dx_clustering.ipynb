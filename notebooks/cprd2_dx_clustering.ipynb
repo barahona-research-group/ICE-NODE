{
 "cells": [
  {
   "cell_type": "markdown",
   "id": "f53f4d3c",
   "metadata": {},
   "source": [
    "# Table of Content\n",
    "\n",
    "<a name=\"outline\"></a>\n",
    "\n",
    "## Setup\n",
    "\n",
    "- [A](#seca) External Imports\n",
    "- [B](#secb) Internal Imports\n",
    "- [C](#secc) Configurations and Paths \n",
    "- [D](#secd) Patient Interface and Train/Val/Test Partitioning\n",
    "- [E](#sece) Setup Metrics\n",
    "\n",
    "\n",
    "## 1. [Load Models: Uninitialised](#models)\n",
    "## 2. [Snapshot Selection](#snapshot)\n",
    "## 3. [Disease Embeddings Clustering](#disease-clusters)\n",
    "## 4. [Subject Embeddings Clustering](#subject-clusters)\n"
   ]
  },
  {
   "cell_type": "markdown",
   "id": "697a491c",
   "metadata": {},
   "source": [
    "<a name=\"seca\"></a>\n",
    "\n",
    "### A External Imports [^](#outline)"
   ]
  },
  {
   "cell_type": "code",
   "execution_count": 1,
   "id": "4cfc614e",
   "metadata": {},
   "outputs": [],
   "source": [
    "import sys\n",
    "import os\n",
    "import matplotlib.pyplot as plt\n",
    "import numpy as np\n",
    "import pandas as pd\n",
    "import seaborn as sns\n",
    "from pathlib import Path\n",
    "from IPython.display import display\n",
    "import jax\n",
    "\n",
    "jax.config.update('jax_platform_name', 'cpu')"
   ]
  },
  {
   "cell_type": "markdown",
   "id": "23f0d568",
   "metadata": {},
   "source": [
    "<a name=\"secb\"></a>\n",
    "\n",
    "### B Internal Imports [^](#outline)"
   ]
  },
  {
   "cell_type": "code",
   "execution_count": 2,
   "id": "894a3743",
   "metadata": {},
   "outputs": [],
   "source": [
    "sys.path.append(\"..\")\n",
    "\n",
    "\n",
    "from lib import utils as U\n",
    "from lib.ehr.dataset import load_dataset\n",
    "\n",
    "%load_ext autoreload\n",
    "%autoreload 2\n"
   ]
  },
  {
   "cell_type": "markdown",
   "id": "d9340794",
   "metadata": {},
   "source": [
    "<a name=\"secc\"></a>\n",
    "\n",
    "### C Configurations and Paths [^](#outline)"
   ]
  },
  {
   "cell_type": "code",
   "execution_count": 3,
   "id": "9e935c81",
   "metadata": {},
   "outputs": [],
   "source": [
    "training_dir = 'cprd_artefacts/train'\n",
    "output_dir = 'cprd_clustering_artefacts'\n",
    "\n",
    "Path(output_dir).mkdir(parents=True, exist_ok=True)"
   ]
  },
  {
   "cell_type": "code",
   "execution_count": 4,
   "id": "24bec048",
   "metadata": {},
   "outputs": [],
   "source": [
    "# Assign the folder of the dataset to `DATA_FILE`.\n",
    "HOME = os.environ.get('HOME')\n",
    "DATA_FILE = f'{HOME}/GP/ehr-data/cprd-data/DUMMY_DATA.csv'\n",
    "SOURCE_DIR = os.path.abspath(\"..\")\n",
    "\n",
    "with U.modified_environ(DATA_FILE=DATA_FILE):\n",
    "    cprd_dataset = load_dataset('CPRD')"
   ]
  },
  {
   "cell_type": "markdown",
   "id": "24d26707",
   "metadata": {},
   "source": [
    "<a name=\"secd\"></a>\n",
    "\n",
    "### D Patient Interface and Train/Val/Test Patitioning [^](#outline)\n",
    "\n",
    "**Configurations should be matching the training notebook**"
   ]
  },
  {
   "cell_type": "code",
   "execution_count": 5,
   "id": "ed738552",
   "metadata": {},
   "outputs": [
    {
     "name": "stdout",
     "output_type": "stream",
     "text": [
      "The autoreload extension is already loaded. To reload it, use:\n",
      "  %reload_ext autoreload\n"
     ]
    }
   ],
   "source": [
    "from lib.ehr.coding_scheme import DxLTC212FlatCodes, DxLTC9809FlatMedcodes, EthCPRD5, EthCPRD16\n",
    "from lib.ehr import OutcomeExtractor, SurvivalOutcomeExtractor\n",
    "from lib.ehr import Subject_JAX\n",
    "from lib.ehr import StaticInfoFlags\n",
    "\n",
    "%load_ext autoreload\n",
    "%autoreload 2\n",
    "\n",
    "code_scheme = {\n",
    "    'dx': DxLTC9809FlatMedcodes(), # other options \n",
    "    'outcome': SurvivalOutcomeExtractor('dx_cprd_ltc9809'),\n",
    "    # Comment above^, and uncomment below, to consider only the first occurrence of codes per subject.\n",
    "    # 'outcome': SurvivalOutcomeExtractor('dx_cprd_ltc9809'),\n",
    "    'eth': EthCPRD5()\n",
    "}\n",
    "\n",
    "\n",
    "static_info_flags = StaticInfoFlags(\n",
    " gender=True,\n",
    " age=True,\n",
    " idx_deprivation=True,\n",
    " ethnicity=EthCPRD5(), # <- include it by the category of interest, not just 'True'.\n",
    ")\n",
    "\n",
    "cprd_interface = Subject_JAX.from_dataset(cprd_dataset, code_scheme=code_scheme, static_info_flags=static_info_flags)\n",
    "cprd_splits = cprd_interface.random_splits(split1=0.7, split2=0.85, random_seed=42)\n"
   ]
  },
  {
   "cell_type": "markdown",
   "id": "23eef61e",
   "metadata": {},
   "source": [
    "<a name=\"sece\"></a>\n",
    "\n",
    "### E Setup Metrics [^](#outline)\n"
   ]
  },
  {
   "cell_type": "code",
   "execution_count": 6,
   "id": "27c24ace",
   "metadata": {},
   "outputs": [],
   "source": [
    "from lib.metric import (CodeAUC, UntilFirstCodeAUC, AdmissionAUC, CodeGroupTopAlarmAccuracy, LossMetric, MetricsCollection)\n",
    "# pecentile_range=20 will partition the codes into five gruops, where each group contains \n",
    "# codes that overall constitutes 20% of the codes in all visits of specified 'subjects' list.\n",
    "code_freq_partitions = cprd_interface.outcome_by_percentiles(percentile_range=20, subjects=cprd_splits[0])\n",
    "\n",
    "\n",
    "\n",
    "# Evaluate for different k values\n",
    "top_k_list = [3, 5, 10, 15, 20]\n",
    "\n",
    "metrics = {'code_auc': CodeAUC(cprd_interface),\n",
    "           'code_first_auc': UntilFirstCodeAUC(cprd_interface),\n",
    "           'admission_auc': AdmissionAUC(cprd_interface),\n",
    "           'loss': LossMetric(cprd_interface),\n",
    "           'code_group_acc': CodeGroupTopAlarmAccuracy(cprd_interface, top_k_list=top_k_list, code_groups=code_freq_partitions)}\n",
    "\n",
    "metric_extractor = {\n",
    "    'code_auc': metrics['code_auc'].aggregate_extractor({'field': 'auc', 'aggregate': 'mean'}),\n",
    "    'code_first_auc': metrics['code_first_auc'].aggregate_extractor({'field': 'auc', 'aggregate': 'mean'}),\n",
    "    'admission_auc': metrics['admission_auc'].aggregate_extractor({'field': 'auc', 'aggregate': 'mean'}),\n",
    "    'loss': metrics['loss'].value_extractor({'field': 'focal_softmax'}),\n",
    "}"
   ]
  },
  {
   "cell_type": "markdown",
   "id": "f3e9abdd",
   "metadata": {},
   "source": [
    "<a name=\"models\"></a>\n",
    "\n",
    "## 1. Loading Models (Uninitialised) [^](#outline)"
   ]
  },
  {
   "cell_type": "code",
   "execution_count": 7,
   "id": "f8785cbf",
   "metadata": {},
   "outputs": [],
   "source": [
    "from lib.ml import ICENODE, ICENODE_UNIFORM, GRU, RETAIN, WindowLogReg\n",
    "from lib.vis import models_from_configs, performance_traces, probe_model_snapshots\n",
    "\n",
    "model_cls = {\n",
    "    'ICE-NODE': ICENODE,\n",
    "    'ICE-NODE_UNIFORM': ICENODE_UNIFORM,\n",
    "    'GRU': GRU,\n",
    "    'RETAIN': RETAIN,\n",
    "    'LogReg': WindowLogReg\n",
    "}       \n",
    "cprd_models = models_from_configs(training_dir, model_cls, cprd_interface, cprd_splits)\n"
   ]
  },
  {
   "cell_type": "markdown",
   "id": "680c4b46",
   "metadata": {},
   "source": [
    "<a name=\"snapshot\"></a>\n",
    "\n",
    "\n",
    "## 2. Snapshot Selection [^](#outline)"
   ]
  },
  {
   "cell_type": "code",
   "execution_count": 8,
   "id": "60e45380",
   "metadata": {},
   "outputs": [
    {
     "data": {
      "text/html": [
       "<div>\n",
       "<style scoped>\n",
       "    .dataframe tbody tr th:only-of-type {\n",
       "        vertical-align: middle;\n",
       "    }\n",
       "\n",
       "    .dataframe tbody tr th {\n",
       "        vertical-align: top;\n",
       "    }\n",
       "\n",
       "    .dataframe thead th {\n",
       "        text-align: right;\n",
       "    }\n",
       "</style>\n",
       "<table border=\"1\" class=\"dataframe\">\n",
       "  <thead>\n",
       "    <tr style=\"text-align: right;\">\n",
       "      <th></th>\n",
       "      <th>model</th>\n",
       "      <th>code_auc_idx</th>\n",
       "      <th>code_auc_val</th>\n",
       "      <th>code_first_auc_idx</th>\n",
       "      <th>code_first_auc_val</th>\n",
       "      <th>admission_auc_idx</th>\n",
       "      <th>admission_auc_val</th>\n",
       "      <th>loss_idx</th>\n",
       "      <th>loss_val</th>\n",
       "    </tr>\n",
       "  </thead>\n",
       "  <tbody>\n",
       "    <tr>\n",
       "      <th>ICE-NODE_UNIFORM</th>\n",
       "      <td>ICE-NODE_UNIFORM</td>\n",
       "      <td>-1</td>\n",
       "      <td>NaN</td>\n",
       "      <td>-1</td>\n",
       "      <td>NaN</td>\n",
       "      <td>59</td>\n",
       "      <td>0.404644</td>\n",
       "      <td>59</td>\n",
       "      <td>0.000969</td>\n",
       "    </tr>\n",
       "    <tr>\n",
       "      <th>RETAIN</th>\n",
       "      <td>RETAIN</td>\n",
       "      <td>-1</td>\n",
       "      <td>NaN</td>\n",
       "      <td>-1</td>\n",
       "      <td>NaN</td>\n",
       "      <td>58</td>\n",
       "      <td>0.709439</td>\n",
       "      <td>35</td>\n",
       "      <td>0.000968</td>\n",
       "    </tr>\n",
       "    <tr>\n",
       "      <th>LogReg</th>\n",
       "      <td>LogReg</td>\n",
       "      <td>-1</td>\n",
       "      <td>NaN</td>\n",
       "      <td>-1</td>\n",
       "      <td>NaN</td>\n",
       "      <td>0</td>\n",
       "      <td>0.499683</td>\n",
       "      <td>0</td>\n",
       "      <td>0.000967</td>\n",
       "    </tr>\n",
       "    <tr>\n",
       "      <th>ICE-NODE</th>\n",
       "      <td>ICE-NODE</td>\n",
       "      <td>-1</td>\n",
       "      <td>NaN</td>\n",
       "      <td>-1</td>\n",
       "      <td>NaN</td>\n",
       "      <td>59</td>\n",
       "      <td>0.574464</td>\n",
       "      <td>59</td>\n",
       "      <td>0.000966</td>\n",
       "    </tr>\n",
       "    <tr>\n",
       "      <th>GRU</th>\n",
       "      <td>GRU</td>\n",
       "      <td>-1</td>\n",
       "      <td>NaN</td>\n",
       "      <td>-1</td>\n",
       "      <td>NaN</td>\n",
       "      <td>2</td>\n",
       "      <td>0.896452</td>\n",
       "      <td>5</td>\n",
       "      <td>0.000935</td>\n",
       "    </tr>\n",
       "  </tbody>\n",
       "</table>\n",
       "</div>"
      ],
      "text/plain": [
       "                             model  code_auc_idx  code_auc_val  \\\n",
       "ICE-NODE_UNIFORM  ICE-NODE_UNIFORM            -1           NaN   \n",
       "RETAIN                      RETAIN            -1           NaN   \n",
       "LogReg                      LogReg            -1           NaN   \n",
       "ICE-NODE                  ICE-NODE            -1           NaN   \n",
       "GRU                            GRU            -1           NaN   \n",
       "\n",
       "                  code_first_auc_idx  code_first_auc_val  admission_auc_idx  \\\n",
       "ICE-NODE_UNIFORM                  -1                 NaN                 59   \n",
       "RETAIN                            -1                 NaN                 58   \n",
       "LogReg                            -1                 NaN                  0   \n",
       "ICE-NODE                          -1                 NaN                 59   \n",
       "GRU                               -1                 NaN                  2   \n",
       "\n",
       "                  admission_auc_val  loss_idx  loss_val  \n",
       "ICE-NODE_UNIFORM           0.404644        59  0.000969  \n",
       "RETAIN                     0.709439        35  0.000968  \n",
       "LogReg                     0.499683         0  0.000967  \n",
       "ICE-NODE                   0.574464        59  0.000966  \n",
       "GRU                        0.896452         5  0.000935  "
      ]
     },
     "metadata": {},
     "output_type": "display_data"
    }
   ],
   "source": [
    "result = probe_model_snapshots(train_dir=training_dir, metric_extractor=metric_extractor, \n",
    "                               selection_metric='admission_auc_val', models=cprd_models)\n",
    "display(result)\n",
    "\n",
    "# Now cprd_models have the selected snapshots"
   ]
  },
  {
   "cell_type": "markdown",
   "id": "f6323308",
   "metadata": {},
   "source": [
    "<a name=\"disease-clusters\"></a>\n",
    "\n",
    "## 3. Disease Embeddings Clustering on CPRD [^](#outline)"
   ]
  },
  {
   "cell_type": "code",
   "execution_count": 9,
   "id": "fd4dfdf4",
   "metadata": {},
   "outputs": [],
   "source": [
    "\n",
    "\n",
    "# Should be the same one used in JAX interface in the training notebook.\n",
    "dx_scheme = DxLTC9809FlatMedcodes()\n"
   ]
  },
  {
   "cell_type": "code",
   "execution_count": 10,
   "id": "4b97024f",
   "metadata": {},
   "outputs": [],
   "source": [
    "# scheme indices (textual code -> integer index)\n",
    "dx_scheme.index\n",
    "\n",
    "# reverse index (integer index -> textual code)\n",
    "idx2code = {idx: code for code, idx in dx_scheme.index.items()}"
   ]
  },
  {
   "cell_type": "markdown",
   "id": "321f85ed",
   "metadata": {},
   "source": [
    "### 1.A GloVe Based Disease Embeddings"
   ]
  },
  {
   "cell_type": "markdown",
   "id": "01db04a9",
   "metadata": {},
   "source": [
    "Get the coocurrence matrix"
   ]
  },
  {
   "cell_type": "code",
   "execution_count": 12,
   "id": "f9f7afc0",
   "metadata": {},
   "outputs": [
    {
     "data": {
      "text/plain": [
       "array([[-3.24278208e-03,  1.28678871e-03, -2.74318569e-03, ...,\n",
       "        -3.05468698e-04,  1.12339146e-03,  2.25189050e-03],\n",
       "       [-2.98757527e-03, -7.03690611e-04, -8.10092430e-05, ...,\n",
       "        -6.94691734e-04, -7.55079060e-03, -3.95144619e-03],\n",
       "       [-8.14448813e-03,  1.39618211e-03, -7.77809797e-03, ...,\n",
       "         6.70216424e-03,  6.35695556e-03, -7.93471806e-03],\n",
       "       ...,\n",
       "       [ 8.19550666e-03,  4.26941973e-03,  4.60743972e-03, ...,\n",
       "        -5.78689374e-04,  6.21998103e-03,  5.35619514e-03],\n",
       "       [ 2.05566253e-03, -1.13631646e-03, -4.87536546e-03, ...,\n",
       "        -6.46422558e-03, -3.79417553e-03,  3.80826087e-03],\n",
       "       [ 1.43140791e-03, -1.40970352e-03,  8.06397555e-03, ...,\n",
       "        -1.22326184e-03,  7.43590727e-03, -4.97565251e-03]])"
      ]
     },
     "execution_count": 12,
     "metadata": {},
     "output_type": "execute_result"
    }
   ],
   "source": [
    "cprd_all_subjects = (cprd_interface.keys())\n",
    "# Time-window context coocurrence\n",
    "cprd_cooc_timewin = cprd_interface.dx_coocurrence(cprd_all_subjects, window_size_days=365)\n",
    "\n",
    "# Sequence context coocurrence\n",
    "cprd_cooc_seqwin = cprd_interface.dx_coocurrence(cprd_all_subjects, context_size=20)\n",
    "\n",
    "from lib.embeddings import train_glove\n",
    "\n",
    "cprd_glove_timewin = train_glove(cprd_cooc_timewin, embeddings_size=100, iterations=500, prng_seed=0)\n",
    "cprd_glove_seqwin = train_glove(cprd_cooc_seqwin, embeddings_size=100, iterations=500, prng_seed=0)\n",
    "\n",
    "cprd_glove_timewin"
   ]
  },
  {
   "cell_type": "code",
   "execution_count": null,
   "id": "85f03ad5",
   "metadata": {},
   "outputs": [],
   "source": []
  },
  {
   "cell_type": "markdown",
   "id": "b717db5c",
   "metadata": {},
   "source": [
    "### 1.B Predictor Based Disease Embeddings\n",
    "\n"
   ]
  },
  {
   "cell_type": "code",
   "execution_count": 15,
   "id": "7993e523",
   "metadata": {},
   "outputs": [],
   "source": [
    "def disease_embeddings_dictionary(model):\n",
    "    model = cprd_models[model]\n",
    "    \n",
    "    # Code history\n",
    "    dx_for_emb = cprd_interface.dx_batch_history_vec(cprd_all_subjects)\n",
    "    # Embeddings Mat\n",
    "    dx_G = model.dx_emb.compute_embeddings_mat(dx_for_emb)\n",
    "\n",
    "    embeddings_dict = {}\n",
    "    for code, idx in dx_scheme.index.items():\n",
    "        in_vec = np.zeros((cprd_interface.dx_dim, ))\n",
    "        in_vec[idx] = 1.\n",
    "        out_vec = model.dx_emb.encode(dx_G, in_vec)\n",
    "        embeddings_dict[code] = out_vec\n",
    "    return embeddings_dict\n",
    "\n",
    "icenode_emb = disease_embeddings_dictionary('ICE-NODE')\n",
    "icenode_uni_emb = disease_embeddings_dictionary('ICE-NODE_UNIFORM')\n",
    "retain_emb = disease_embeddings_dictionary('RETAIN')\n",
    "gru_emb = disease_embeddings_dictionary('GRU')"
   ]
  },
  {
   "cell_type": "markdown",
   "id": "ea0dae9e",
   "metadata": {},
   "source": [
    "<a name=\"subject-clusters\"></a>\n",
    "\n",
    "## 4. Subject Embeddings Clustering on CPRD [^](#outline)"
   ]
  },
  {
   "cell_type": "code",
   "execution_count": 18,
   "id": "7196d5b5",
   "metadata": {},
   "outputs": [],
   "source": [
    "def subject_embeddings_dictionary(model):\n",
    "    \n",
    "    model = cprd_models[model]\n",
    "    # All subjects in the study are passed\n",
    "    return model.subject_embeddings(cprd_interface, cprd_all_subjects)\n",
    "\n",
    "icenode_subj_emb = subject_embeddings_dictionary('ICE-NODE')\n",
    "icenode_subj_uni_emb = subject_embeddings_dictionary('ICE-NODE_UNIFORM')\n",
    "retain_subj_emb = subject_embeddings_dictionary('RETAIN')\n",
    "gru_subj_emb = subject_embeddings_dictionary('GRU')"
   ]
  },
  {
   "cell_type": "code",
   "execution_count": null,
   "id": "8bba8a67",
   "metadata": {},
   "outputs": [],
   "source": []
  }
 ],
 "metadata": {
  "kernelspec": {
   "display_name": "Python 3 (ipykernel)",
   "language": "python",
   "name": "python3"
  },
  "language_info": {
   "codemirror_mode": {
    "name": "ipython",
    "version": 3
   },
   "file_extension": ".py",
   "mimetype": "text/x-python",
   "name": "python",
   "nbconvert_exporter": "python",
   "pygments_lexer": "ipython3",
   "version": "3.8.13"
  }
 },
 "nbformat": 4,
 "nbformat_minor": 5
}
