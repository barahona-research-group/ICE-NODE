{
 "cells": [
  {
   "cell_type": "markdown",
   "id": "f53f4d3c",
   "metadata": {},
   "source": [
    "# Table of Content\n",
    "\n",
    "<a name=\"outline\"></a>\n",
    "\n",
    "## Setup\n",
    "\n",
    "- [A](#seca) External Imports\n",
    "- [B](#secb) Internal Imports\n",
    "- [C](#secd) Configurations and Paths \n",
    "- [D](#sece) Patient Interface and Train/Val/Test Partitioning\n",
    "\n",
    "\n",
    "## Evaluations\n",
    "\n",
    "- [1](#sec2) Predictive Performance: MIMIC-III (Test Set)\n",
    "- [2](#sec3) Predictive Performance: MIMIC-IV (Test Set)\n",
    "- [3](#sec4) Predictive Performance: from MIMIC-IV (Training Set) to MIMIC-III (All)"
   ]
  },
  {
   "cell_type": "markdown",
   "id": "697a491c",
   "metadata": {},
   "source": [
    "<a name=\"seca\"></a>\n",
    "\n",
    "### A External Imports [^](#outline)"
   ]
  },
  {
   "cell_type": "code",
   "execution_count": 1,
   "id": "4cfc614e",
   "metadata": {},
   "outputs": [],
   "source": [
    "import os\n",
    "import matplotlib.pyplot as plt\n",
    "import numpy as np\n",
    "import pandas as pd\n",
    "from pathlib import Path\n",
    "from IPython.display import display\n",
    "from upsetplot import from_contents, plot, UpSet, from_indicators\n"
   ]
  },
  {
   "cell_type": "markdown",
   "id": "23f0d568",
   "metadata": {},
   "source": [
    "<a name=\"secb\"></a>\n",
    "\n",
    "### B Internal Imports [^](#outline)"
   ]
  },
  {
   "cell_type": "code",
   "execution_count": 2,
   "id": "894a3743",
   "metadata": {},
   "outputs": [
    {
     "name": "stderr",
     "output_type": "stream",
     "text": [
      "/home/asem/anaconda3/envs/mlhc-env/lib/python3.8/site-packages/jax/experimental/optimizers.py:28: FutureWarning: jax.experimental.optimizers is deprecated, import jax.example_libraries.optimizers instead\n",
      "  warnings.warn('jax.experimental.optimizers is deprecated, '\n"
     ]
    }
   ],
   "source": [
    "# HOME and DATA_STORE are arbitrary, change as appropriate.\n",
    "HOME = os.environ.get('HOME')\n",
    "DATA_STORE = f'{HOME}/GP/ehr-data'\n",
    "\n",
    "\n",
    "\n",
    "%load_ext autoreload\n",
    "%autoreload 2\n",
    "\n",
    "import analysis as A\n",
    "import common as C\n",
    "\n"
   ]
  },
  {
   "cell_type": "markdown",
   "id": "d9340794",
   "metadata": {},
   "source": [
    "<a name=\"secc\"></a>\n",
    "\n",
    "### C Configurations and Paths [^](#outline)"
   ]
  },
  {
   "cell_type": "code",
   "execution_count": 3,
   "id": "9e935c81",
   "metadata": {},
   "outputs": [],
   "source": [
    "mimic_dir = {\n",
    "    'M3': f'{DATA_STORE}/mimic3-transforms',\n",
    "    'M4': f'{DATA_STORE}/mimic4-transforms'\n",
    "}"
   ]
  },
  {
   "cell_type": "markdown",
   "id": "235cb68f",
   "metadata": {},
   "source": [
    "The following cell configures the location of the models pretrained on MIMIC-III (M3) and MIMIC-IV (M4), with GRAM embeddings (G) and without. Each training experiment produces 100 parameters snapshot and this Notebook picks the one that maximizes the average AUC of the visit level (prob. of having higher risks for present codes than the absent codes of the same visit).\n",
    "\n",
    "To download our own experiment files and proceed with the analysis in this Notebook, without having to run any training, send an email to (`asem.a.abdelaziz@imperial.ac.uk`) to have access to a copy of these files (size: `5.1 GB`). "
   ]
  },
  {
   "cell_type": "code",
   "execution_count": 4,
   "id": "30472e45",
   "metadata": {},
   "outputs": [],
   "source": [
    "train_dir = {\n",
    "    # Location of training experiments on MIMIC-III without GRAM embeddings (simple Matrix embeddings).\n",
    "    'M3': f'{DATA_STORE}/icenode-m3-exp/train_config_v0.2.25_M3',\n",
    "    # Location of training experiments on MIMIC-III with GRAM embeddings.\n",
    "    'GM3': f'{DATA_STORE}/icenode-m3-exp/train_config_v0.2.25_G_M3',\n",
    "    # Location of training experiments on MIMIC-IV without GRAM embeddings (simple Matrix embeddings).\n",
    "    'M4': f'{DATA_STORE}/icenode-m4-exp/train_config_v0.2.25_M4',\n",
    "    # Location of training experiments on MIMIC-IV with GRAM embeddings.\n",
    "    'GM4': f'{DATA_STORE}/icenode-m4-exp/train_config_v0.2.25_G_M4'\n",
    "}"
   ]
  },
  {
   "cell_type": "code",
   "execution_count": 5,
   "id": "97fe67c4",
   "metadata": {},
   "outputs": [],
   "source": [
    "# Subdirectory names in `train_dir` corresponding to each model\n",
    "model_dir = {\n",
    "    'ICE-NODE': 'icenode_2lr',\n",
    "    'ICE-NODE_UNIFORM': 'icenode_uniform2lr',\n",
    "    'GRU': 'gru',\n",
    "    'RETAIN': 'retain',\n",
    "    'LogReg': 'window_logreg'\n",
    "}"
   ]
  },
  {
   "cell_type": "code",
   "execution_count": 6,
   "id": "c8d78296",
   "metadata": {},
   "outputs": [],
   "source": [
    "clfs = list(model_dir.keys())\n",
    "\n",
    "relative_auc_config = {\n",
    "    'pvalue': 0.01, \n",
    "    'min_auc': 0.9\n",
    "}\n",
    "top_k_list=[1, 2, 3, 5, 7, 10, 15, 20]\n",
    "percentile_range=20 \n",
    "n_percentiles=int(100/percentile_range)\n",
    "\n",
    "\n",
    "import matplotlib.font_manager as font_manager\n",
    "plt.rcParams.update(plt.rcParamsDefault)\n",
    "plt.rcParams.update({'font.family': 'sans-serif',\n",
    "                     'font.sans-serif': 'Helvetica',\n",
    "                     'font.weight':  'normal'})"
   ]
  },
  {
   "cell_type": "code",
   "execution_count": 7,
   "id": "1e347422",
   "metadata": {},
   "outputs": [],
   "source": [
    "output_dir = 'artefacts'\n",
    "Path(output_dir).mkdir(parents=True, exist_ok=True)\n"
   ]
  },
  {
   "cell_type": "markdown",
   "id": "24d26707",
   "metadata": {},
   "source": [
    "<a name=\"secd\"></a>\n",
    "\n",
    "### D Patient Interface and Train/Val/Test Patitioning [^](#outline)"
   ]
  },
  {
   "cell_type": "code",
   "execution_count": 8,
   "id": "27c24ace",
   "metadata": {},
   "outputs": [],
   "source": [
    "m4_interface = C.create_patient_interface(mimic_dir['M4'])\n",
    "m3_interface = C.create_patient_interface(mimic_dir['M3'])\n",
    "\n",
    "m4_train_ids, m4_valid_ids, m4_test_ids = m4_interface.random_splits(split1=0.7, split2=0.85, random_seed=42)\n",
    "m3_train_ids, m3_valid_ids, m3_test_ids = m3_interface.random_splits(split1=0.7, split2=0.85, random_seed=42)"
   ]
  },
  {
   "cell_type": "code",
   "execution_count": 9,
   "id": "ca3a0902",
   "metadata": {},
   "outputs": [],
   "source": [
    "m4_percentiles = m4_interface.dx_flatccs_by_percentiles(percentile_range)\n",
    "m3_percentiles = m3_interface.dx_flatccs_by_percentiles(percentile_range)\n",
    "\n",
    "m4_train_percentiles = m4_interface.dx_flatccs_by_percentiles(percentile_range, m4_train_ids)\n",
    "m3_train_percentiles = m3_interface.dx_flatccs_by_percentiles(percentile_range, m3_train_ids)"
   ]
  },
  {
   "cell_type": "markdown",
   "id": "4e5de22c",
   "metadata": {},
   "source": [
    "<a name=\"sec1\"></a>\n",
    "\n",
    "## 1 Snooping/Selecting Best Models from the Validation Set [^](#outline)"
   ]
  },
  {
   "cell_type": "code",
   "execution_count": 10,
   "id": "600cfb85",
   "metadata": {},
   "outputs": [],
   "source": [
    "# Classifiers with Linear Embeddings\n",
    "clfs = (\n",
    "    'ICE-NODE', \n",
    "    'ICE-NODE_UNIFORM',\n",
    "    'GRU',\n",
    "    'RETAIN',\n",
    "    'LogReg'\n",
    ")\n",
    "\n",
    "# Classifiers with GRAM Embeddings\n",
    "clfs_G = (\n",
    "    'ICE-NODE', \n",
    "    'ICE-NODE_UNIFORM',\n",
    "    'GRU'\n",
    ")"
   ]
  },
  {
   "cell_type": "code",
   "execution_count": 11,
   "id": "b35cd234",
   "metadata": {},
   "outputs": [
    {
     "name": "stdout",
     "output_type": "stream",
     "text": [
      "> Models trained on MIMIC-III\n"
     ]
    },
    {
     "data": {
      "text/html": [
       "<div>\n",
       "<style scoped>\n",
       "    .dataframe tbody tr th:only-of-type {\n",
       "        vertical-align: middle;\n",
       "    }\n",
       "\n",
       "    .dataframe tbody tr th {\n",
       "        vertical-align: top;\n",
       "    }\n",
       "\n",
       "    .dataframe thead th {\n",
       "        text-align: right;\n",
       "    }\n",
       "</style>\n",
       "<table border=\"1\" class=\"dataframe\">\n",
       "  <thead>\n",
       "    <tr style=\"text-align: right;\">\n",
       "      <th></th>\n",
       "      <th>Clf</th>\n",
       "      <th>Best_i</th>\n",
       "      <th>MICRO-AUC</th>\n",
       "    </tr>\n",
       "  </thead>\n",
       "  <tbody>\n",
       "    <tr>\n",
       "      <th>0</th>\n",
       "      <td>ICE-NODE</td>\n",
       "      <td>57</td>\n",
       "      <td>0.925790</td>\n",
       "    </tr>\n",
       "    <tr>\n",
       "      <th>1</th>\n",
       "      <td>ICE-NODE_UNIFORM</td>\n",
       "      <td>44</td>\n",
       "      <td>0.925757</td>\n",
       "    </tr>\n",
       "    <tr>\n",
       "      <th>2</th>\n",
       "      <td>GRU</td>\n",
       "      <td>32</td>\n",
       "      <td>0.923570</td>\n",
       "    </tr>\n",
       "    <tr>\n",
       "      <th>3</th>\n",
       "      <td>RETAIN</td>\n",
       "      <td>20</td>\n",
       "      <td>0.927307</td>\n",
       "    </tr>\n",
       "    <tr>\n",
       "      <th>4</th>\n",
       "      <td>LogReg</td>\n",
       "      <td>0</td>\n",
       "      <td>0.912001</td>\n",
       "    </tr>\n",
       "  </tbody>\n",
       "</table>\n",
       "</div>"
      ],
      "text/plain": [
       "                Clf  Best_i  MICRO-AUC\n",
       "0          ICE-NODE      57   0.925790\n",
       "1  ICE-NODE_UNIFORM      44   0.925757\n",
       "2               GRU      32   0.923570\n",
       "3            RETAIN      20   0.927307\n",
       "4            LogReg       0   0.912001"
      ]
     },
     "metadata": {},
     "output_type": "display_data"
    },
    {
     "name": "stdout",
     "output_type": "stream",
     "text": [
      "> Models trained on MIMIC-IV\n"
     ]
    },
    {
     "data": {
      "text/html": [
       "<div>\n",
       "<style scoped>\n",
       "    .dataframe tbody tr th:only-of-type {\n",
       "        vertical-align: middle;\n",
       "    }\n",
       "\n",
       "    .dataframe tbody tr th {\n",
       "        vertical-align: top;\n",
       "    }\n",
       "\n",
       "    .dataframe thead th {\n",
       "        text-align: right;\n",
       "    }\n",
       "</style>\n",
       "<table border=\"1\" class=\"dataframe\">\n",
       "  <thead>\n",
       "    <tr style=\"text-align: right;\">\n",
       "      <th></th>\n",
       "      <th>Clf</th>\n",
       "      <th>Best_i</th>\n",
       "      <th>MICRO-AUC</th>\n",
       "    </tr>\n",
       "  </thead>\n",
       "  <tbody>\n",
       "    <tr>\n",
       "      <th>0</th>\n",
       "      <td>ICE-NODE</td>\n",
       "      <td>38</td>\n",
       "      <td>0.933961</td>\n",
       "    </tr>\n",
       "    <tr>\n",
       "      <th>1</th>\n",
       "      <td>ICE-NODE_UNIFORM</td>\n",
       "      <td>66</td>\n",
       "      <td>0.932462</td>\n",
       "    </tr>\n",
       "    <tr>\n",
       "      <th>2</th>\n",
       "      <td>GRU</td>\n",
       "      <td>15</td>\n",
       "      <td>0.936528</td>\n",
       "    </tr>\n",
       "    <tr>\n",
       "      <th>3</th>\n",
       "      <td>RETAIN</td>\n",
       "      <td>17</td>\n",
       "      <td>0.936482</td>\n",
       "    </tr>\n",
       "    <tr>\n",
       "      <th>4</th>\n",
       "      <td>LogReg</td>\n",
       "      <td>0</td>\n",
       "      <td>0.891420</td>\n",
       "    </tr>\n",
       "  </tbody>\n",
       "</table>\n",
       "</div>"
      ],
      "text/plain": [
       "                Clf  Best_i  MICRO-AUC\n",
       "0          ICE-NODE      38   0.933961\n",
       "1  ICE-NODE_UNIFORM      66   0.932462\n",
       "2               GRU      15   0.936528\n",
       "3            RETAIN      17   0.936482\n",
       "4            LogReg       0   0.891420"
      ]
     },
     "metadata": {},
     "output_type": "display_data"
    },
    {
     "name": "stdout",
     "output_type": "stream",
     "text": [
      "> Models (GRAM) trained on MIMIC-III\n"
     ]
    },
    {
     "data": {
      "text/html": [
       "<div>\n",
       "<style scoped>\n",
       "    .dataframe tbody tr th:only-of-type {\n",
       "        vertical-align: middle;\n",
       "    }\n",
       "\n",
       "    .dataframe tbody tr th {\n",
       "        vertical-align: top;\n",
       "    }\n",
       "\n",
       "    .dataframe thead th {\n",
       "        text-align: right;\n",
       "    }\n",
       "</style>\n",
       "<table border=\"1\" class=\"dataframe\">\n",
       "  <thead>\n",
       "    <tr style=\"text-align: right;\">\n",
       "      <th></th>\n",
       "      <th>Clf</th>\n",
       "      <th>Best_i</th>\n",
       "      <th>MICRO-AUC</th>\n",
       "    </tr>\n",
       "  </thead>\n",
       "  <tbody>\n",
       "    <tr>\n",
       "      <th>0</th>\n",
       "      <td>ICE-NODE</td>\n",
       "      <td>58</td>\n",
       "      <td>0.924722</td>\n",
       "    </tr>\n",
       "    <tr>\n",
       "      <th>1</th>\n",
       "      <td>ICE-NODE_UNIFORM</td>\n",
       "      <td>58</td>\n",
       "      <td>0.924760</td>\n",
       "    </tr>\n",
       "    <tr>\n",
       "      <th>2</th>\n",
       "      <td>GRU</td>\n",
       "      <td>32</td>\n",
       "      <td>0.923149</td>\n",
       "    </tr>\n",
       "  </tbody>\n",
       "</table>\n",
       "</div>"
      ],
      "text/plain": [
       "                Clf  Best_i  MICRO-AUC\n",
       "0          ICE-NODE      58   0.924722\n",
       "1  ICE-NODE_UNIFORM      58   0.924760\n",
       "2               GRU      32   0.923149"
      ]
     },
     "metadata": {},
     "output_type": "display_data"
    },
    {
     "name": "stdout",
     "output_type": "stream",
     "text": [
      "> Models (GRAM) trained on MIMIC-IV\n"
     ]
    },
    {
     "data": {
      "text/html": [
       "<div>\n",
       "<style scoped>\n",
       "    .dataframe tbody tr th:only-of-type {\n",
       "        vertical-align: middle;\n",
       "    }\n",
       "\n",
       "    .dataframe tbody tr th {\n",
       "        vertical-align: top;\n",
       "    }\n",
       "\n",
       "    .dataframe thead th {\n",
       "        text-align: right;\n",
       "    }\n",
       "</style>\n",
       "<table border=\"1\" class=\"dataframe\">\n",
       "  <thead>\n",
       "    <tr style=\"text-align: right;\">\n",
       "      <th></th>\n",
       "      <th>Clf</th>\n",
       "      <th>Best_i</th>\n",
       "      <th>MICRO-AUC</th>\n",
       "    </tr>\n",
       "  </thead>\n",
       "  <tbody>\n",
       "    <tr>\n",
       "      <th>0</th>\n",
       "      <td>ICE-NODE</td>\n",
       "      <td>41</td>\n",
       "      <td>0.934028</td>\n",
       "    </tr>\n",
       "    <tr>\n",
       "      <th>1</th>\n",
       "      <td>ICE-NODE_UNIFORM</td>\n",
       "      <td>29</td>\n",
       "      <td>0.932499</td>\n",
       "    </tr>\n",
       "    <tr>\n",
       "      <th>2</th>\n",
       "      <td>GRU</td>\n",
       "      <td>17</td>\n",
       "      <td>0.936749</td>\n",
       "    </tr>\n",
       "  </tbody>\n",
       "</table>\n",
       "</div>"
      ],
      "text/plain": [
       "                Clf  Best_i  MICRO-AUC\n",
       "0          ICE-NODE      41   0.934028\n",
       "1  ICE-NODE_UNIFORM      29   0.932499\n",
       "2               GRU      17   0.936749"
      ]
     },
     "metadata": {},
     "output_type": "display_data"
    }
   ],
   "source": [
    "print('> Models trained on MIMIC-III')\n",
    "m3_top = A.get_trained_models(clfs=clfs, train_dir=train_dir, model_dir=model_dir, data_tag='M3', \n",
    "                               criterion='MICRO-AUC',  comp=max)\n",
    "display(m3_top['summary'])\n",
    "\n",
    "print('> Models trained on MIMIC-IV')\n",
    "m4_top = A.get_trained_models(clfs=clfs, train_dir=train_dir, model_dir=model_dir, data_tag='M4', \n",
    "                               criterion='MICRO-AUC',  comp=max)\n",
    "display(m4_top['summary'])\n",
    "\n",
    "\n",
    "print('> Models (GRAM) trained on MIMIC-III')\n",
    "gm3_top = A.get_trained_models(clfs=clfs_G, train_dir=train_dir, model_dir=model_dir, data_tag='GM3',  \n",
    "                                criterion='MICRO-AUC', comp=max)\n",
    "display(gm3_top['summary'])\n",
    "\n",
    "print('> Models (GRAM) trained on MIMIC-IV')\n",
    "gm4_top = A.get_trained_models(clfs=clfs_G, train_dir=train_dir, model_dir=model_dir, data_tag='GM4', \n",
    "                                criterion='MICRO-AUC', comp=max)\n",
    "display(gm4_top['summary'])\n"
   ]
  },
  {
   "cell_type": "code",
   "execution_count": 12,
   "id": "6ad6ecc6",
   "metadata": {},
   "outputs": [],
   "source": [
    "\n",
    "m3_models = C.get_models(clfs, m3_top[\"config\"], m3_top[\"params\"], m3_interface)\n",
    "gm3_models = C.get_models(clfs_G, gm3_top[\"config\"], gm3_top[\"params\"], m3_interface)\n",
    "\n",
    "m4_models = C.get_models(clfs, m4_top[\"config\"], m4_top[\"params\"], m4_interface)\n",
    "gm4_models = C.get_models(clfs_G, gm4_top[\"config\"], gm4_top[\"params\"], m4_interface)"
   ]
  },
  {
   "cell_type": "code",
   "execution_count": 16,
   "id": "3770fd32",
   "metadata": {},
   "outputs": [
    {
     "ename": "AttributeError",
     "evalue": "'tuple' object has no attribute 'keys'",
     "output_type": "error",
     "traceback": [
      "\u001b[0;31m---------------------------------------------------------------------------\u001b[0m",
      "\u001b[0;31mAttributeError\u001b[0m                            Traceback (most recent call last)",
      "\u001b[0;32m/tmp/ipykernel_182234/297022606.py\u001b[0m in \u001b[0;36m<module>\u001b[0;34m\u001b[0m\n\u001b[0;32m----> 1\u001b[0;31m \u001b[0mm3_models\u001b[0m\u001b[0;34m[\u001b[0m\u001b[0;34m'GRU'\u001b[0m\u001b[0;34m]\u001b[0m\u001b[0;34m.\u001b[0m\u001b[0mkeys\u001b[0m\u001b[0;34m(\u001b[0m\u001b[0;34m)\u001b[0m\u001b[0;34m\u001b[0m\u001b[0;34m\u001b[0m\u001b[0m\n\u001b[0m",
      "\u001b[0;31mAttributeError\u001b[0m: 'tuple' object has no attribute 'keys'"
     ]
    }
   ],
   "source": [
    "m3_models['GRU'].keys()"
   ]
  },
  {
   "cell_type": "code",
   "execution_count": 17,
   "id": "f19fd24f",
   "metadata": {},
   "outputs": [],
   "source": [
    "def cross_predictor(clf, source_tag, target_tag):\n",
    "    if '/G' in clf:\n",
    "        clf = clf.replace('/G', '')\n",
    "        _params = {'M3': gm3_top['params'][clf], \n",
    "                   'M4': gm4_top['params'][clf]}\n",
    "        _config = {'M3': gm3_top['config'][clf], \n",
    "                   'M4': gm4_top['config'][clf]}\n",
    "    else:\n",
    "        _params = {'M3': m3_top['params'][clf], \n",
    "                   'M4': m4_top['params'][clf]}\n",
    "        _config = {'M3': m3_top['config'][clf], \n",
    "                   'M4': m3_top['config'][clf]}\n",
    "    _interface = {'M3': m3_interface, 'M4': m4_interface}\n",
    "\n",
    "    return C.get_model(clf=clf, \n",
    "                       config=_config[source_tag], \n",
    "                       params=_params[source_tag],\n",
    "                       interface = _interface[target_tag])\n"
   ]
  },
  {
   "cell_type": "markdown",
   "id": "f6323308",
   "metadata": {},
   "source": [
    "<a name=\"sec2\"></a>\n",
    "\n",
    "## 2 Predictive Performance on MIMIC-III (Test Set) [^](#outline)"
   ]
  },
  {
   "cell_type": "code",
   "execution_count": 18,
   "id": "7196d5b5",
   "metadata": {},
   "outputs": [],
   "source": [
    "m3_clfs =  ('ICE-NODE', 'ICE-NODE_UNIFORM', 'GRU', 'RETAIN', 'LogReg',\n",
    "            'ICE-NODE/G', 'ICE-NODE_UNIFORM/G', 'GRU/G')\n",
    "\n",
    "m3_predictors = {clf: cross_predictor(clf, 'M3', 'M3') for clf in m3_clfs}"
   ]
  },
  {
   "cell_type": "code",
   "execution_count": null,
   "id": "7ff5b1ff",
   "metadata": {},
   "outputs": [],
   "source": [
    "test_res_m3 = {clf: C.eval2_(model, m3_test_ids) for clf, model in m3_predictors.items()} "
   ]
  },
  {
   "cell_type": "code",
   "execution_count": null,
   "id": "43f74ca2",
   "metadata": {},
   "outputs": [],
   "source": [
    "auctests_m3 = A.codes_auc_pairwise_tests({k: v['risk_prediction'] for k, v in test_res_m3.items()}, fast=True)\n"
   ]
  },
  {
   "cell_type": "code",
   "execution_count": null,
   "id": "535f46c1",
   "metadata": {},
   "outputs": [],
   "source": [
    "test_cols = [col for col in auctests_m3.columns if col[:2] == 'P0']\n",
    "auctests_m3.loc[:, test_cols].isnull().max(axis=1).sum()"
   ]
  },
  {
   "cell_type": "code",
   "execution_count": null,
   "id": "dee80b1f",
   "metadata": {},
   "outputs": [],
   "source": [
    "upset_clfs = ['ICE-NODE', 'ICE-NODE_UNIFORM', 'GRU', 'RETAIN', 'LogReg', \n",
    "              'ICE-NODE/G', 'ICE-NODE_UNIFORM/G', 'GRU/G']\n",
    "\n",
    "m3_code_attrs = {'Code frequency': m3_interface.dx_flatccs_frequency(m3_train_ids)}\n",
    "\n",
    "m3_upset_result = A.relative_performance_upset(auctests_m3, upset_clfs, \n",
    "                                               code_attrs=m3_code_attrs,\n",
    "                                               **relative_auc_config)\n",
    "upset_ctx = lambda : sns.plotting_context(\"paper\", font_scale=1.5, rc={\"font.family\": \"sans-serif\", \n",
    "                                                                        'axes.labelsize': 'medium',\n",
    "                                                                       'ytick.labelsize': 'medium'})\n",
    "\n",
    "\n",
    "\n",
    "with sns.axes_style(\"darkgrid\"), upset_ctx():\n",
    "    upset_format = from_indicators(m3_upset_result['indicator_df'], data=m3_upset_result['data'])\n",
    "    upset_object = UpSet(upset_format, subset_size='count', show_counts=True)\n",
    "    upset_object.style_subsets(absent=['LogReg'], present=('ICE-NODE', 'GRU', 'RETAIN'),\n",
    "                               facecolor=\"red\",\n",
    "                               edgecolor=\"red\", linewidth=3)\n",
    "    upset_object.add_catplot(value='Code frequency', kind=\"strip\")\n",
    "    \n",
    "    g = upset_object.plot()\n",
    "        \n",
    "    current_figure = plt.gcf()\n",
    "    w, h = 2.5, 3\n",
    "    wi, hi = current_figure.get_size_inches()\n",
    "    current_figure.set_size_inches(hi*(w/h), hi)\n",
    "    current_figure.savefig(f\"{output_dir}/upset_M3.pdf\", bbox_inches='tight')\n",
    "    plt.show()"
   ]
  },
  {
   "cell_type": "code",
   "execution_count": null,
   "id": "de1bc591",
   "metadata": {},
   "outputs": [],
   "source": [
    "results_m3_eval,_ = A.evaluation_table(test_res_m3, m3_train_percentiles, top_k_list=top_k_list)"
   ]
  },
  {
   "cell_type": "code",
   "execution_count": null,
   "id": "b4c44928",
   "metadata": {},
   "outputs": [],
   "source": [
    "table_clfs = ('LogReg', \n",
    "              'RETAIN',\n",
    "              'GRU',\n",
    "              'GRU/G',\n",
    "              'ICE-NODE_UNIFORM',\n",
    "              'ICE-NODE_UNIFORM/G',\n",
    "              'ICE-NODE', \n",
    "              'ICE-NODE/G'\n",
    "              )\n",
    "results_m3_tables = A.top_k_tables(table_clfs, results_m3_eval, top_k_list=top_k_list,\n",
    "                                   n_percentiles=n_percentiles, out_prefix=f'{output_dir}/M3')"
   ]
  },
  {
   "cell_type": "code",
   "execution_count": null,
   "id": "272f385b",
   "metadata": {},
   "outputs": [],
   "source": [
    "competing_tests_df = auctests_m3[auctests_m3.CODE_INDEX.isin(m3_upset_result['indicator_df'][m3_upset_result['indicator_df']['LogReg']==False].index)]\n",
    "competing_tests_df.loc[:, [col for col in competing_tests_df.columns if col[:2]=='P0']]"
   ]
  },
  {
   "cell_type": "code",
   "execution_count": null,
   "id": "a6f0ab6a",
   "metadata": {},
   "outputs": [],
   "source": [
    "upset_clfs = ['ICE-NODE', 'ICE-NODE_UNIFORM', 'GRU', 'RETAIN', 'LogReg',\n",
    "              'ICE-NODE/G', 'ICE-NODE_UNIFORM/G', 'GRU/G']\n",
    "\n",
    "ax = A.selected_auc_barplot(upset_clfs, competing_tests_df,  horizontal=True)\n",
    "ax.legend(fontsize=22, title_fontsize=32,\n",
    "          bbox_to_anchor=(-0.02, 1), ncol=2)\n",
    "plt.xticks(fontsize=30)\n",
    "plt.yticks(fontsize=30)\n",
    "\n",
    "current_figure = plt.gcf()\n",
    "# w, h = 4, 4\n",
    "# wi, hi = current_figure.get_size_inches()\n",
    "# current_figure.set_size_inches(hi*(w/h), hi)\n",
    "\n",
    "current_figure.savefig(f\"{output_dir}/icenode_m3.pdf\", bbox_inches='tight')\n",
    "plt.show()\n"
   ]
  },
  {
   "cell_type": "markdown",
   "id": "30d43833",
   "metadata": {},
   "source": [
    "<a name=\"sec3\"></a>\n",
    "\n",
    "## 3 Relative AUC Performance on MIMIC-IV (Test Set) [^](#outline)"
   ]
  },
  {
   "cell_type": "code",
   "execution_count": null,
   "id": "6a76a1d4",
   "metadata": {},
   "outputs": [],
   "source": [
    "m4_clfs =  ('ICE-NODE', 'ICE-NODE_UNIFORM', 'GRU', 'RETAIN', 'LogReg',\n",
    "                'ICE-NODE/G', 'ICE-NODE_UNIFORM/G', 'GRU/G')\n",
    "m4_predictors = {clf: cross_predictor(clf, 'M4', 'M4') for clf in m4_clfs}"
   ]
  },
  {
   "cell_type": "code",
   "execution_count": null,
   "id": "ede2567e",
   "metadata": {},
   "outputs": [],
   "source": [
    "test_res_m4 = {clf: C.eval2_(model, m4_test_ids) for clf, model in m4_predictors.items()} "
   ]
  },
  {
   "cell_type": "code",
   "execution_count": null,
   "id": "7a5e98c2",
   "metadata": {},
   "outputs": [],
   "source": [
    "auctests_m4 = A.codes_auc_pairwise_tests({k: v['risk_prediction'] for k, v in test_res_m4.items()}, fast=True)\n"
   ]
  },
  {
   "cell_type": "code",
   "execution_count": null,
   "id": "4a28ca72",
   "metadata": {},
   "outputs": [],
   "source": [
    "upset_clfs = ('ICE-NODE', 'ICE-NODE_UNIFORM', 'GRU', 'RETAIN', 'LogReg',)\n",
    "#                'ICE-NODE/G', 'ICE-NODE_UNIFORM/G', 'GRU/G')\n",
    "m4_code_attrs = {'Code frequency': m4_interface.dx_flatccs_frequency(m4_train_ids)}\n",
    "\n",
    "m4_upset_result = A.relative_performance_upset(auctests_m4, upset_clfs, \n",
    "                                               code_attrs=m4_code_attrs,\n",
    "                                               **relative_auc_config)\n",
    "upset_ctx = lambda : sns.plotting_context(\"paper\",  font_scale=1.5, rc={\"font.family\": \"Loma\", \n",
    "                                                                        'axes.labelsize': 'medium',\n",
    "                                                                       'ytick.labelsize': 'medium'})\n",
    "with sns.axes_style(\"darkgrid\"), upset_ctx():\n",
    "    upset_format = from_indicators(m4_upset_result['indicator_df'], data=m4_upset_result['data'])\n",
    "    upset_object = UpSet(upset_format, subset_size='count', show_counts=True)\n",
    "    upset_object.style_subsets(present=['ICE-NODE'], absent=('ICE-NODE_UNIFORM', 'GRU', 'RETAIN'),\n",
    "                               edgecolor=\"red\", linewidth=3, facecolor=\"red\")\n",
    "    upset_object.add_catplot(value='Code frequency', kind=\"strip\")\n",
    "\n",
    "    g = upset_object.plot()\n",
    "    current_figure = plt.gcf()\n",
    "#     w, h = 5, 3\n",
    "#     wi, hi = current_figure.get_size_inches()\n",
    "#     current_figure.set_size_inches(hi*(w/h), hi)\n",
    "\n",
    "    current_figure.savefig(f\"{output_dir}/upset_M4.pdf\", bbox_inches='tight')\n",
    "    plt.show()\n"
   ]
  },
  {
   "cell_type": "code",
   "execution_count": null,
   "id": "eec332ab",
   "metadata": {},
   "outputs": [],
   "source": [
    "results_m4_eval, _ = A.evaluation_table(test_res_m4, m4_train_percentiles, top_k_list=top_k_list)"
   ]
  },
  {
   "cell_type": "code",
   "execution_count": null,
   "id": "a8714f05",
   "metadata": {},
   "outputs": [],
   "source": [
    "table_clfs = ('LogReg', \n",
    "              'RETAIN',\n",
    "              'GRU',\n",
    "              'GRU/G',\n",
    "              'ICE-NODE_UNIFORM',\n",
    "              'ICE-NODE_UNIFORM/G',\n",
    "              'ICE-NODE', \n",
    "              'ICE-NODE/G',\n",
    "              )\n",
    "results_m4_tables = A.top_k_tables(table_clfs, results_m4_eval, top_k_list=top_k_list, \n",
    "                                   n_percentiles=n_percentiles, out_prefix=f'{output_dir}/M4')"
   ]
  },
  {
   "cell_type": "code",
   "execution_count": null,
   "id": "1f3f0563",
   "metadata": {},
   "outputs": [],
   "source": [
    "icenode_m4_excl = m4_upset_result['content_sets']['ICE-NODE'] - set.union(*list(m4_upset_result['content_sets'][clf] for clf in ('RETAIN', 'GRU', 'ICE-NODE_UNIFORM')))\n",
    "icenode_m4_excl = m4_upset_result['competing_performance'][m4_upset_result['competing_performance']['CODE_INDEX'].isin(icenode_m4_excl)]\n",
    "icenode_m4_excl"
   ]
  },
  {
   "cell_type": "code",
   "execution_count": null,
   "id": "f16faeb2",
   "metadata": {},
   "outputs": [],
   "source": [
    "# icenode_ratain_gru_m4 = upsetcontents_m4['ICE-NODE']\n",
    "# icenode_ratain_gru_m4 = compete_codesm4[compete_codesm4['CODE_INDEX'].isin(icenode_ratain_gru_m4)]\n",
    "# icenode_ratain_gru_m4.sort_values('AUC(ICE-NODE)', ascending=False)[['CODE_INDEX', 'N_POSITIVE_CODES', 'DESC', 'AUC(ICE-NODE)']]"
   ]
  },
  {
   "cell_type": "code",
   "execution_count": null,
   "id": "22935ba7",
   "metadata": {},
   "outputs": [],
   "source": [
    "upset_clfs = ('ICE-NODE', 'ICE-NODE_UNIFORM', 'GRU', 'RETAIN', 'LogReg')\n",
    "w, h = 4, 3\n",
    "ax = A.selected_auc_barplot(upset_clfs, icenode_m4_excl, horizontal=True)\n",
    "\n",
    "plt.xticks(fontsize=30)\n",
    "plt.yticks(fontsize=30)\n",
    "ax.legend(fontsize=22, title_fontsize=32,\n",
    "          bbox_to_anchor=(-0.02, 1), ncol=2)\n",
    "current_figure = plt.gcf()\n",
    "w, h = 4, 4\n",
    "wi, hi = current_figure.get_size_inches()\n",
    "current_figure.set_size_inches(hi*(w/h), hi)\n",
    "\n",
    "current_figure.savefig(f\"{output_dir}/icenode_m4.pdf\", bbox_inches='tight')\n",
    "plt.show()\n"
   ]
  },
  {
   "cell_type": "markdown",
   "id": "89a7e699",
   "metadata": {},
   "source": [
    "<a name=\"sec4\"></a>\n",
    "\n",
    "## 4 Relative AUC Performance From MIMIC-IV (Training Set) to MIMIC-III (All) [^](#outline)"
   ]
  },
  {
   "cell_type": "code",
   "execution_count": null,
   "id": "3ad1247b",
   "metadata": {},
   "outputs": [],
   "source": [
    "m4m3_clfs =  ('ICE-NODE', 'ICE-NODE_UNIFORM', 'GRU', 'RETAIN', 'LogReg',\n",
    "                'ICE-NODE/G', 'ICE-NODE_UNIFORM/G', 'GRU/G')\n",
    "\n",
    "# clfs_ordered = ('ICE-NODE', 'ICE-NODE_UNIFORM', 'GRU', 'RETAIN')\n",
    "m3_subjects = list(m3_interface.subjects.keys())\n",
    "m4m3_predictors = {clf: cross_predictor(clf, 'M4', 'M3') for clf in m4m3_clfs}"
   ]
  },
  {
   "cell_type": "code",
   "execution_count": null,
   "id": "a2555b89",
   "metadata": {},
   "outputs": [],
   "source": [
    "test_res_m4m3 = {clf: C.eval2_(model, m3_subjects) for clf, model in m4m3_predictors.items()} "
   ]
  },
  {
   "cell_type": "code",
   "execution_count": null,
   "id": "a06aac33",
   "metadata": {},
   "outputs": [],
   "source": [
    "auctests_m4m3 = A.codes_auc_pairwise_tests({k: v['risk_prediction'] for k, v in test_res_m4m3.items()}, fast=True)"
   ]
  },
  {
   "cell_type": "code",
   "execution_count": null,
   "id": "3244ca3a",
   "metadata": {},
   "outputs": [],
   "source": [
    "upset_clfs = ('ICE-NODE', 'ICE-NODE_UNIFORM', 'GRU', 'RETAIN', 'LogReg',)\n",
    "#                 'ICE-NODE/G', 'ICE-NODE_UNIFORM/G', 'GRU/G')\n",
    "\n",
    "m4m3_code_attrs = {'Code frequency': m4_interface.dx_flatccs_frequency(m4_train_ids)}\n",
    "\n",
    "m4m3_upset_result = A.relative_performance_upset(auctests_m4m3, upset_clfs, \n",
    "                                                 code_attrs=m4m3_code_attrs,\n",
    "                                                 **relative_auc_config)\n",
    "\n",
    "upset_ctx = lambda : sns.plotting_context(\"paper\", font_scale=1.5, rc={\"font.family\": \"Loma\", \n",
    "                                                                        'axes.labelsize': 'medium',\n",
    "                                                                       'ytick.labelsize': 'medium'})\n",
    "with sns.axes_style(\"darkgrid\"), upset_ctx():\n",
    "    upset_format = from_indicators(m4m3_upset_result['indicator_df'], data=m4m3_upset_result['data'])\n",
    "    upset_object = UpSet(upset_format, subset_size='count', show_counts=True)\n",
    "    upset_object.add_catplot(value='Code frequency', kind=\"strip\")\n",
    "\n",
    "    upset_object.style_subsets(present='ICE-NODE', absent=['ICE-NODE_UNIFORM', 'GRU', 'RETAIN'],\n",
    "                              edgecolor=\"red\", facecolor=\"red\")\n",
    "    g = upset_object.plot()\n",
    "    \n",
    "    current_figure = plt.gcf()\n",
    "    current_figure.savefig(f\"{output_dir}/upset_M4M3.pdf\", bbox_inches='tight')\n",
    "    plt.show()"
   ]
  },
  {
   "cell_type": "code",
   "execution_count": null,
   "id": "e8862950",
   "metadata": {},
   "outputs": [],
   "source": [
    "results_m4m3_eval, _ = A.evaluation_table(test_res_m4m3, m4_train_percentiles, top_k_list=top_k_list)"
   ]
  },
  {
   "cell_type": "code",
   "execution_count": null,
   "id": "3f4a9042",
   "metadata": {},
   "outputs": [],
   "source": [
    "table_clfs = ('LogReg', \n",
    "              'RETAIN',\n",
    "              'GRU',\n",
    "              'GRU/G',\n",
    "              'ICE-NODE', \n",
    "              'ICE-NODE/G',\n",
    "              'ICE-NODE_UNIFORM',\n",
    "              'ICE-NODE_UNIFORM/G'\n",
    "              )\n",
    "\n",
    "results_m4m3_tables = A.top_k_tables(table_clfs, results_m4m3_eval, top_k_list=top_k_list, \n",
    "                                     n_percentiles=n_percentiles, out_prefix=f'{output_dir}/M4M3')"
   ]
  },
  {
   "cell_type": "code",
   "execution_count": null,
   "id": "d2c06568",
   "metadata": {},
   "outputs": [],
   "source": [
    "icenode_m4m3_excl = m4m3_upset_result['content_sets']['ICE-NODE'] - set.union(*list(m4m3_upset_result['content_sets'][clf] for clf in ('RETAIN', 'GRU', 'ICE-NODE_UNIFORM')))\n",
    "icenode_m4m3_excl = compete_codesm4m3[m4m3_upset_result['competing_performance']['CODE_INDEX'].isin(icenode_m4m3_excl)]\n",
    "icenode_m4m3_excl"
   ]
  },
  {
   "cell_type": "code",
   "execution_count": null,
   "id": "7f942b81",
   "metadata": {},
   "outputs": [],
   "source": [
    "ax = A.selected_auc_barplot(upset_clfs, icenode_m4m3_excl, horizontal=True)\n",
    "\n",
    "plt.xticks(fontsize=30)\n",
    "plt.yticks(fontsize=30)\n",
    "# ax.legend(fontsize=22, title_fontsize=32,\n",
    "#           bbox_to_anchor=(0.02, 1), ncol=2)\n",
    "plt.xticks(fontsize=30)\n",
    "plt.yticks(fontsize=30)\n",
    "ax.legend(fontsize=22, title_fontsize=32,\n",
    "          bbox_to_anchor=(1, 1.25), ncol=2)\n",
    "\n",
    "current_figure = plt.gcf()\n",
    "current_figure.savefig(f\"{output_dir}/icenode_m4m3.pdf\", bbox_inches='tight')\n",
    "plt.show()\n"
   ]
  },
  {
   "cell_type": "markdown",
   "id": "86634c4c",
   "metadata": {},
   "source": [
    "## Trajectories for Patients with CCS codes best predicted with ICENODE"
   ]
  },
  {
   "cell_type": "markdown",
   "id": "fcfc4c29",
   "metadata": {},
   "source": [
    "### Analyse AUC for Each Admission in the Test Partition"
   ]
  },
  {
   "cell_type": "code",
   "execution_count": 34,
   "id": "5df33d48",
   "metadata": {},
   "outputs": [],
   "source": [
    "def admissions_auc_scores(model, test_ids):\n",
    "    model, state = model\n",
    "    return model.admissions_auc_scores(state, test_ids)"
   ]
  },
  {
   "cell_type": "code",
   "execution_count": 35,
   "id": "d075dda5",
   "metadata": {},
   "outputs": [],
   "source": [
    "m4_icenode_visit_auc_df = admissions_auc_scores(m4_predictors['ICE-NODE'], m4_test_ids)\n",
    "m4_icenode_visit_auc_df['N_VISITS'] = m4_icenode_visit_auc_df['SUBJECT_ID'].apply(lambda i: (m4_icenode_visit_auc_df['SUBJECT_ID'] == i).sum())"
   ]
  },
  {
   "cell_type": "code",
   "execution_count": 36,
   "id": "bd1cbeb0",
   "metadata": {},
   "outputs": [],
   "source": [
    "m4_visit_auc_subject = m4_icenode_visit_auc_df.groupby('SUBJECT_ID').agg(\n",
    "    {'AUC': 'mean', \n",
    "     'N_VISITS': 'max', \n",
    "     'N_CODES': ['min', 'max', 'mean', 'median'], \n",
    "     'INTERVALS': ['mean', 'max', 'min'] })"
   ]
  },
  {
   "cell_type": "code",
   "execution_count": 37,
   "id": "ee81ee97",
   "metadata": {},
   "outputs": [],
   "source": [
    "m4m3_icenode_visit_auc_df = admissions_auc_scores(m4m3_predictors['ICE-NODE'], m3_interface.subjects.keys())\n",
    "m4m3_icenode_visit_auc_df['N_VISITS'] = m4m3_icenode_visit_auc_df['SUBJECT_ID'].apply(lambda i: (m4m3_icenode_visit_auc_df['SUBJECT_ID'] == i).sum())\n",
    "m4m3_visit_auc_subject = m4m3_icenode_visit_auc_df.groupby('SUBJECT_ID').agg(\n",
    "    {'AUC': 'mean', \n",
    "     'N_VISITS': 'max', \n",
    "     'N_CODES': ['min', 'max', 'mean', 'median'], \n",
    "     'INTERVALS': ['mean', 'max', 'min']\n",
    "    })\n"
   ]
  },
  {
   "cell_type": "code",
   "execution_count": 38,
   "id": "546ed05c",
   "metadata": {},
   "outputs": [],
   "source": [
    "m4_best_visit_auc_subjects =  m4_visit_auc_subject[(m4_visit_auc_subject.N_VISITS['max'] > 2) & (m4_visit_auc_subject.INTERVALS['max'] < 150)]\n",
    "m4m3_best_visit_auc_subjects =  m4m3_visit_auc_subject[(m4m3_visit_auc_subject.N_VISITS['max'] > 1) & (m4m3_visit_auc_subject.INTERVALS['max'] < 150)]\n"
   ]
  },
  {
   "cell_type": "code",
   "execution_count": 39,
   "id": "429952cb",
   "metadata": {},
   "outputs": [
    {
     "data": {
      "text/plain": [
       "(365, 220)"
      ]
     },
     "execution_count": 39,
     "metadata": {},
     "output_type": "execute_result"
    }
   ],
   "source": [
    "len(m4_best_visit_auc_subjects), len(m4m3_best_visit_auc_subjects)"
   ]
  },
  {
   "cell_type": "code",
   "execution_count": 40,
   "id": "aabfcd46",
   "metadata": {},
   "outputs": [],
   "source": [
    "m4_ccs_history = {i: m4_interface.dx_flatccs_history(i) for i in m4_best_visit_auc_subjects.index}\n",
    "m4m3_ccs_history = {i: m3_interface.dx_flatccs_history(i) for i in m4m3_best_visit_auc_subjects.index}\n",
    "\n",
    "m4_ccs_idx_frequency = m4_interface.dx_flatccs_frequency(list(m4_best_visit_auc_subjects.index))\n",
    "m3_ccs_idx_frequency = m3_interface.dx_flatccs_frequency(list(m4m3_best_visit_auc_subjects.index))"
   ]
  },
  {
   "cell_type": "code",
   "execution_count": 41,
   "id": "37e6927d",
   "metadata": {},
   "outputs": [
    {
     "data": {
      "text/plain": [
       "(51, 74)"
      ]
     },
     "execution_count": 41,
     "metadata": {},
     "output_type": "execute_result"
    }
   ],
   "source": [
    "m4_history_all_ccs_codes = set(map(C.ccs_dag.dx_flatccs_idx.get, set.union(*[set(h.keys()) for h in m4_ccs_history.values()])))\n",
    "m3_history_all_ccs_codes = set(map(C.ccs_dag.dx_flatccs_idx.get, set.union(*[set(h.keys()) for h in m4m3_ccs_history.values()])))\n",
    "m4_history_all_ccs_codes = {idx for idx in m4_history_all_ccs_codes if m4_ccs_idx_frequency[idx] < 10}\n",
    "m3_history_all_ccs_codes = {idx for idx in m3_history_all_ccs_codes if m3_ccs_idx_frequency[idx] < 10}\n",
    "\n",
    "len(m4_history_all_ccs_codes), len(m3_history_all_ccs_codes)"
   ]
  },
  {
   "cell_type": "code",
   "execution_count": 42,
   "id": "dcf1af53",
   "metadata": {},
   "outputs": [
    {
     "data": {
      "text/html": [
       "<div>\n",
       "<style scoped>\n",
       "    .dataframe tbody tr th:only-of-type {\n",
       "        vertical-align: middle;\n",
       "    }\n",
       "\n",
       "    .dataframe tbody tr th {\n",
       "        vertical-align: top;\n",
       "    }\n",
       "\n",
       "    .dataframe thead th {\n",
       "        text-align: right;\n",
       "    }\n",
       "</style>\n",
       "<table border=\"1\" class=\"dataframe\">\n",
       "  <thead>\n",
       "    <tr style=\"text-align: right;\">\n",
       "      <th></th>\n",
       "      <th>N_POSITIVE_CODES</th>\n",
       "      <th>AUC(ICE-NODE)</th>\n",
       "      <th>DESC</th>\n",
       "    </tr>\n",
       "  </thead>\n",
       "  <tbody>\n",
       "    <tr>\n",
       "      <th>173</th>\n",
       "      <td>1790.0</td>\n",
       "      <td>0.941892</td>\n",
       "      <td>Non-Hodg lym</td>\n",
       "    </tr>\n",
       "    <tr>\n",
       "      <th>168</th>\n",
       "      <td>520.0</td>\n",
       "      <td>0.951321</td>\n",
       "      <td>Kidny/rnl ca</td>\n",
       "    </tr>\n",
       "    <tr>\n",
       "      <th>216</th>\n",
       "      <td>244.0</td>\n",
       "      <td>0.974325</td>\n",
       "      <td>Meningitis</td>\n",
       "    </tr>\n",
       "    <tr>\n",
       "      <th>169</th>\n",
       "      <td>181.0</td>\n",
       "      <td>0.942847</td>\n",
       "      <td>Uriny org ca</td>\n",
       "    </tr>\n",
       "    <tr>\n",
       "      <th>156</th>\n",
       "      <td>148.0</td>\n",
       "      <td>0.965231</td>\n",
       "      <td>Uterus cancr</td>\n",
       "    </tr>\n",
       "    <tr>\n",
       "      <th>165</th>\n",
       "      <td>146.0</td>\n",
       "      <td>0.957154</td>\n",
       "      <td>Testis cancr</td>\n",
       "    </tr>\n",
       "    <tr>\n",
       "      <th>171</th>\n",
       "      <td>89.0</td>\n",
       "      <td>0.940833</td>\n",
       "      <td>Thyroid cncr</td>\n",
       "    </tr>\n",
       "    <tr>\n",
       "      <th>100</th>\n",
       "      <td>84.0</td>\n",
       "      <td>0.952710</td>\n",
       "      <td>Brnch/lng ca</td>\n",
       "    </tr>\n",
       "    <tr>\n",
       "      <th>167</th>\n",
       "      <td>67.0</td>\n",
       "      <td>0.957488</td>\n",
       "      <td>Bladder cncr</td>\n",
       "    </tr>\n",
       "  </tbody>\n",
       "</table>\n",
       "</div>"
      ],
      "text/plain": [
       "     N_POSITIVE_CODES  AUC(ICE-NODE)          DESC\n",
       "173            1790.0       0.941892  Non-Hodg lym\n",
       "168             520.0       0.951321  Kidny/rnl ca\n",
       "216             244.0       0.974325    Meningitis\n",
       "169             181.0       0.942847  Uriny org ca\n",
       "156             148.0       0.965231  Uterus cancr\n",
       "165             146.0       0.957154  Testis cancr\n",
       "171              89.0       0.940833  Thyroid cncr\n",
       "100              84.0       0.952710  Brnch/lng ca\n",
       "167              67.0       0.957488  Bladder cncr"
      ]
     },
     "execution_count": 42,
     "metadata": {},
     "output_type": "execute_result"
    }
   ],
   "source": [
    "icenode_m4_competent = upsetcontents_m4['ICE-NODE'] \n",
    "icenode_m4_competent = auctests_m4[auctests_m4['CODE_INDEX'].isin(icenode_m4_competent)]\n",
    "icenode_m4_competent = icenode_m4_competent[['N_POSITIVE_CODES', 'AUC(ICE-NODE)', 'DESC']].sort_values('N_POSITIVE_CODES',ascending=False)\n",
    "# icenode_m4_competent.head(50)\n",
    "trajectory_ccs_codes_level2 = [\n",
    "    173, 168, 169, 156, 165, 216, 171, 100, 167\n",
    "]\n",
    "icenode_m4_competent[icenode_m4_competent.index.isin(trajectory_ccs_codes_level2)]"
   ]
  },
  {
   "cell_type": "code",
   "execution_count": 43,
   "id": "0abd5e72",
   "metadata": {},
   "outputs": [],
   "source": [
    "trajectory_ccs_codes_level1 = [\n",
    "    64, #renal fail \n",
    "    6, # pulm heart dx\n",
    "    236, # ear dx \n",
    "]\n"
   ]
  },
  {
   "cell_type": "code",
   "execution_count": 44,
   "id": "a6524fc6",
   "metadata": {},
   "outputs": [],
   "source": [
    "m4_ccs_history_level1 = {i: history for i, history in m4_ccs_history.items() \n",
    "                         if len(set(map(A.dx_flatccs_idx2code.get, trajectory_ccs_codes_level1)) & set(history.keys())) > 0}\n",
    "m4m3_ccs_history_level1 = {i: history for i, history in m4m3_ccs_history.items() \n",
    "                         if len(set(map(A.dx_flatccs_idx2code.get, trajectory_ccs_codes_level1)) & set(history.keys())) > 0}\n",
    "\n",
    "m4_ccs_history_level2 = {i: history for i, history in m4_ccs_history.items() \n",
    "                         if len(set(map(A.dx_flatccs_idx2code.get, trajectory_ccs_codes_level2)) & set(history.keys())) > 0}\n",
    "m4m3_ccs_history_level2 = {i: history for i, history in m4m3_ccs_history.items() \n",
    "                         if len(set(map(A.dx_flatccs_idx2code.get, trajectory_ccs_codes_level2)) & set(history.keys())) > 0}"
   ]
  },
  {
   "cell_type": "code",
   "execution_count": 45,
   "id": "246fdc86",
   "metadata": {},
   "outputs": [
    {
     "data": {
      "text/plain": [
       "(180, 115, 68, 35)"
      ]
     },
     "execution_count": 45,
     "metadata": {},
     "output_type": "execute_result"
    }
   ],
   "source": [
    "len(m4_ccs_history_level1), len(m4m3_ccs_history_level1), len(m4_ccs_history_level2), len(m4m3_ccs_history_level2) \n"
   ]
  },
  {
   "cell_type": "code",
   "execution_count": 46,
   "id": "4b952bcd",
   "metadata": {},
   "outputs": [
    {
     "data": {
      "text/plain": [
       "(206, 131)"
      ]
     },
     "execution_count": 46,
     "metadata": {},
     "output_type": "execute_result"
    }
   ],
   "source": [
    "m4_cases = set(m4_ccs_history_level1.keys()) | set(m4_ccs_history_level2.keys())\n",
    "m4m3_cases = set(m4m3_ccs_history_level1.keys()) | set(m4m3_ccs_history_level2.keys())\n",
    "len(m4_cases), len(m4m3_cases)"
   ]
  },
  {
   "cell_type": "code",
   "execution_count": 47,
   "id": "8d35ce59",
   "metadata": {},
   "outputs": [
    {
     "name": "stderr",
     "output_type": "stream",
     "text": [
      "  0%|                                                    | 0/22 [00:00<?, ?it/s]/home/asem/GP/ICENODE/notebooks/../icenode/ehr_predictive/dx_icenode_tl.py:412: FutureWarning: Using a non-tuple sequence for multidimensional indexing is deprecated; use `arr[tuple(seq)]` instead of `arr[seq]`. In the future this will be interpreted as an array index, `arr[np.array(seq)]`, which will result either in an error or a different result.\n",
      "  pos[[top10_idx]] = 1\n",
      "100%|███████████████████████████████████████████| 22/22 [34:49<00:00, 94.97s/it]\n"
     ]
    }
   ],
   "source": [
    "m4_icenode, m4_icenode_state = m4_predictors['ICE-NODE']\n",
    "m4_trajectory = m4_icenode.sample_trajectory(m4_icenode_state, m4_cases, 1)"
   ]
  },
  {
   "cell_type": "code",
   "execution_count": 48,
   "id": "8cfc4ec3",
   "metadata": {},
   "outputs": [
    {
     "name": "stderr",
     "output_type": "stream",
     "text": [
      "100%|█████████████████████████████████████████████| 9/9 [12:57<00:00, 86.38s/it]\n"
     ]
    }
   ],
   "source": [
    "m4m3_icenode, m4m3_icenode_state = m4m3_predictors['ICE-NODE']\n",
    "m4m3_trajectory = m4m3_icenode.sample_trajectory(m4m3_icenode_state, m4m3_cases, 1)"
   ]
  },
  {
   "cell_type": "code",
   "execution_count": 49,
   "id": "637b96e5",
   "metadata": {},
   "outputs": [],
   "source": [
    "# m4_selected_subjects = [\n",
    "#     13798593, #acute-renal\n",
    "#     13965528, #acute-renal\n",
    "#     11907876, #pulmonary heart dx\n",
    "#     13557547, #ear dx\n",
    "#     10139504, #acute renal fail\n",
    "#     12367864, #pulomonary-heart dx\n",
    "# ]\n",
    "\n",
    "# m4_selected_trajectory = {i: m4_trajectory[i] for i in m4_selected_subjects}\n",
    "\n",
    "# m3_selected_subjects = [\n",
    "#     50093 #pulmonary-heart dx\n",
    "# ]\n",
    "\n",
    "# m3_selected_trajectory = {i: m4m3_trajectory[i] for i in m3_selected_subjects}\n"
   ]
  },
  {
   "cell_type": "code",
   "execution_count": 174,
   "id": "e95b021c",
   "metadata": {},
   "outputs": [],
   "source": [
    "import random\n",
    "\n",
    "trajectory_ccs_codes_level1 = [\n",
    "    64, #renal fail \n",
    "    6, # pulm heart dx\n",
    "    236, # ear dx \n",
    "    # Others\n",
    "    100, # Brnch/lng ca\n",
    "    168, # Kidney/rnl ca\n",
    "    194, # Immunity dx\n",
    "]\n",
    "\n",
    "\n",
    "\n",
    "# icenode_m4_competent.head(50)\n",
    "trajectory_ccs_codes_level2 = [\n",
    "    173, 168, 169, 156, 165, 216, 171, 100, 167\n",
    "]\n",
    "\n",
    "random.seed(42)\n",
    "ccs_color = {\n",
    "    6: 'blue',\n",
    "    64: 'purple',\n",
    "    236: 'orange',\n",
    "    # Others\n",
    "    100: 'salmon', # Brnch/lng ca\n",
    "    168: 'navy', # Kidney/rnl ca\n",
    "    194: 'pink', # Immunity dx\n",
    "    **{idx: \"#\"+''.join([random.choice('0123456789ABCDEF') for j in range(6)])\n",
    "                   for idx in trajectory_ccs_codes_level2}\n",
    "}\n",
    "\n",
    "\n",
    "plt.rcParams['figure.figsize'] = (10, 7)\n",
    "\n"
   ]
  },
  {
   "cell_type": "code",
   "execution_count": 183,
   "id": "5bcce07b",
   "metadata": {},
   "outputs": [
    {
     "name": "stderr",
     "output_type": "stream",
     "text": [
      "/home/asem/GP/ICENODE/notebooks/analysis.py:443: RuntimeWarning: More than 20 figures have been opened. Figures created through the pyplot interface (`matplotlib.pyplot.figure`) are retained until explicitly closed and may consume too much memory. (To control this warning, see the rcParam `figure.max_open_warning`).\n",
      "  plt.figure(i)\n"
     ]
    }
   ],
   "source": [
    "plt.close('all')\n",
    "for data_label, interface, trajectory_set in zip([\"M4\", \"M3\"], [m4_interface, m3_interface], [m4_trajectory, m4m3_trajectory]):\n",
    "    for indices_label, ccs_indices in zip([\"L1\", \"L2\", \"L1UL2\"], [trajectory_ccs_codes_level1, trajectory_ccs_codes_level2, trajectory_ccs_codes_level1 + trajectory_ccs_codes_level2]):\n",
    "        out_dir = f'{output_dir}/trajectories/{data_label}_{indices_label}' \n",
    "        Path(out_dir).mkdir(parents=True, exist_ok=True)\n",
    "        A.plot_trajectory(trajectories=trajectory_set, \n",
    "                          interface=interface, \n",
    "                          flatccs_selection=ccs_indices, \n",
    "                          ccs_color=ccs_color,\n",
    "                          out_dir=out_dir)"
   ]
  },
  {
   "cell_type": "code",
   "execution_count": null,
   "id": "6ed7f64d",
   "metadata": {},
   "outputs": [],
   "source": []
  }
 ],
 "metadata": {
  "kernelspec": {
   "display_name": "Python 3 (ipykernel)",
   "language": "python",
   "name": "python3"
  },
  "language_info": {
   "codemirror_mode": {
    "name": "ipython",
    "version": 3
   },
   "file_extension": ".py",
   "mimetype": "text/x-python",
   "name": "python",
   "nbconvert_exporter": "python",
   "pygments_lexer": "ipython3",
   "version": "3.8.12"
  }
 },
 "nbformat": 4,
 "nbformat_minor": 5
}
