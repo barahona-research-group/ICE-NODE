{
 "cells": [
  {
   "cell_type": "code",
   "execution_count": 1,
   "id": "4cfc614e",
   "metadata": {},
   "source": [
    "%load_ext autoreload\n",
    "%autoreload 2\n",
    "%env XLA_PYTHON_CLIENT_MEM_FRACTION=0.1\n",
    "import sys\n",
    "import os\n",
    "import glob\n",
    "import random\n",
    "from collections import defaultdict\n",
    "from pathlib import Path\n",
    "\n",
    "from IPython.display import display\n",
    "\n",
    "import pandas as pd\n",
    "import dask\n",
    "\n",
    "from tqdm import tqdm\n",
    "import jax\n",
    "jax.config.update('jax_platform_name', 'cpu')\n",
    "# jax.config.update('jax_log_compiles', True)\n",
    "# jax.config.update(\"jax_debug_nans\", True)\n",
    "# jax.config.update(\"jax_enable_x64\", True)"
   ],
   "outputs": []
  },
  {
   "cell_type": "code",
   "execution_count": 2,
   "id": "894a3743",
   "metadata": {},
   "source": [
    "\n",
    "\n",
    "sys.path.append(\"../..\")\n",
    "\n",
    "from lib import utils as U\n",
    "from lib.ehr.dataset import load_dataset, load_dataset_scheme, load_dataset_config, Dataset\n",
    "from lib.ehr.interface import Patients, InterfaceConfig\n",
    "from lib.ehr.concepts import CPRDDemographicVectorConfig, DemographicVectorConfig\n"
   ],
   "outputs": []
  },
  {
   "cell_type": "code",
   "execution_count": 3,
   "id": "8c176dbe",
   "metadata": {},
   "source": [
    "import logging\n",
    "\n",
    "# logging.root.level = logging.DEBUG\n"
   ],
   "outputs": []
  },
  {
   "cell_type": "code",
   "execution_count": 4,
   "id": "a08b6e10",
   "metadata": {},
   "source": [
    "tag = 'CPRD'\n",
    "PATH = f'{os.environ.get(\"HOME\")}/GP/ehr-data/cprd-data/DUMMY_DATA.csv'\n",
    "# PATH = f'{HOME}/Documents/DS211/users/tb1009/DATA/PAT_COHORT/ICENODE_SUBSET_1000.csv'\n",
    "\n",
    "sample = None\n",
    "cache =  f'cached_inteface/cprd_1000'\n",
    "dataset_config = load_dataset_config(tag, \n",
    "                                     sample=sample,\n",
    "                                     path=PATH)\n",
    "dataset_gen = lambda c: load_dataset(config=c)"
   ],
   "outputs": []
  },
  {
   "cell_type": "markdown",
   "id": "cdbd6e95",
   "metadata": {},
   "source": [
    "##### Possible Interface Scheme Configurations"
   ]
  },
  {
   "cell_type": "code",
   "execution_count": 5,
   "id": "73b4ae66",
   "metadata": {},
   "source": [
    "import json\n",
    "dataset_scheme = load_dataset_scheme(tag)\n",
    "interface_schem_options = load_dataset_scheme(tag).supported_target_scheme_options\n",
    "print(json.dumps(interface_schem_options, sort_keys=True, indent=4))\n"
   ],
   "outputs": []
  },
  {
   "cell_type": "code",
   "execution_count": 6,
   "id": "ceb14ab6",
   "metadata": {},
   "source": [
    "\n",
    "# Demographic vector attributes\n",
    "demographic_vector_conf = CPRDDemographicVectorConfig(age=True,\n",
    "                                                      gender=True,\n",
    "                                                      ethnicity=True,\n",
    "                                                      imd=True)\n",
    "\n",
    "interface_scheme = dataset_scheme.make_target_scheme_config(dx='DxLTC9809FlatMedcodes',\n",
    "                                                            #outcome='dx_cprd_ltc212',\n",
    "                                                            outcome='dx_cprd_ltc9809',\n",
    "                                                            ethnicity='CPRDEthnicity5')\n",
    "interface_config = InterfaceConfig(scheme=interface_scheme,\n",
    "                                   dataset_scheme=dataset_scheme,\n",
    "                                   demographic_vector=demographic_vector_conf,\n",
    "                                   cache=cache)\n"
   ],
   "outputs": []
  },
  {
   "cell_type": "code",
   "execution_count": 7,
   "id": "d46d7c81",
   "metadata": {
    "scrolled": true
   },
   "source": [
    "interface_config"
   ],
   "outputs": []
  },
  {
   "cell_type": "code",
   "execution_count": 8,
   "id": "9bbb6d39",
   "metadata": {},
   "source": [
    "cprd_patients = Patients.try_load_cached(interface_config,\n",
    "                                          dataset_config=dataset_config,\n",
    "                                          dataset_generator=dataset_gen,\n",
    "                                          num_workers=8)"
   ],
   "outputs": []
  },
  {
   "cell_type": "code",
   "execution_count": 9,
   "id": "f1898f46",
   "metadata": {},
   "source": [
    "len(cprd_patients.subjects)"
   ],
   "outputs": []
  },
  {
   "cell_type": "code",
   "execution_count": 13,
   "id": "86e81c71",
   "metadata": {},
   "source": [
    "from lib.ml import (ICENODE, ICENODEDimensions, \n",
    "                    GRU, GRUDimensions,\n",
    "                    RETAIN, RETAINDimensions,\n",
    "                    OutpatientEmbeddingDimensions, \n",
    "                    Trainer, TrainerReporting, OptimizerConfig, WarmupConfig,\n",
    "                    TrainerConfig, ReportingConfig)\n",
    "from lib.metric import  (CodeAUC, UntilFirstCodeAUC, AdmissionAUC,\n",
    "                      CodeGroupTopAlarmAccuracy, LossMetric, ObsCodeLevelLossMetric)\n",
    "\n",
    "import jax.random as jrandom"
   ],
   "outputs": []
  },
  {
   "cell_type": "code",
   "execution_count": 14,
   "id": "796b8796",
   "metadata": {},
   "source": [
    "emb_dims = OutpatientEmbeddingDimensions(dx=30, demo=5)\n",
    "key = jrandom.PRNGKey(0)\n",
    "\n",
    "def icenode_model():\n",
    "    dims = ICENODEDimensions(mem=15, emb=emb_dims)\n",
    "    return ICENODE(dims=dims, schemes=cprd_patients.schemes, \n",
    "                   demographic_vector_config=cprd_patients.config.demographic_vector,\n",
    "                   key=key)\n",
    "\n",
    "def gru_model():\n",
    "    dims = GRUDimensions(emb=emb_dims)\n",
    "    return GRU(dims=dims, schemes=cprd_patients.schemes, \n",
    "                   demographic_vector_config=cprd_patients.config.demographic_vector,\n",
    "                   key=key)\n",
    "\n",
    "def retain_model():\n",
    "    dims = RETAINDimensions(mem_a=25, mem_b=25, emb=emb_dims)\n",
    "    return RETAIN(dims=dims, schemes=cprd_patients.schemes, \n",
    "                   demographic_vector_config=cprd_patients.config.demographic_vector,\n",
    "                   key=key)\n",
    "\n",
    "models = {\n",
    "    #'dx_icenode': icenode_model(),\n",
    "    'dx_gru': gru_model(),\n",
    "    'dx_retain': retain_model()\n",
    "}\n"
   ],
   "outputs": []
  },
  {
   "cell_type": "code",
   "execution_count": 15,
   "id": "9ccb6be2",
   "metadata": {},
   "source": [
    "splits = cprd_patients.random_splits([0.9, 0.95], \n",
    "                                    balanced='admissions')\n",
    "\n",
    "\n",
    "\n",
    "trainer_conf = TrainerConfig(optimizer=OptimizerConfig(opt='adam', lr=1e-3),\n",
    "                             epochs=80,\n",
    "                             batch_size=256,\n",
    "                             dx_loss='balanced_focal_bce')\n",
    "trainer = Trainer(trainer_conf)\n",
    "\n",
    "loss_metric =  LossMetric(cprd_patients, \n",
    "                          dx_loss=('softmax_bce', 'balanced_focal_softmax_bce', \n",
    "                                   'balanced_focal_bce'))\n",
    "\n",
    "metrics = [\n",
    "     CodeAUC(cprd_patients), \n",
    "           AdmissionAUC(cprd_patients), \n",
    "            CodeGroupTopAlarmAccuracy(cprd_patients, n_partitions=5, \n",
    "                                      top_k_list=[3, 5, 10, 15, 20],\n",
    "                                      train_split=splits[0]), \n",
    "           loss_metric]"
   ],
   "outputs": []
  },
  {
   "cell_type": "code",
   "execution_count": 16,
   "id": "fd9cde20",
   "metadata": {},
   "source": [
    "res = {}\n",
    "for name in ['dx_gru', 'dx_retain']:\n",
    "    model = models[name]\n",
    "    print(name)\n",
    "    reporting_conf = ReportingConfig(output_dir=name,\n",
    "                                     console=True,\n",
    "                                     model_stats=False,\n",
    "                                     parameter_snapshots=True,\n",
    "                                     config_json=True)\n",
    "    reporting = TrainerReporting(reporting_conf, metrics=metrics)\n",
    "    \n",
    "    res[name] = trainer(model, cprd_patients, \n",
    "                  splits=splits,\n",
    "                  reporting=reporting,\n",
    "                  n_evals=100,\n",
    "                  warmup_config=None,\n",
    "                  continue_training=False)"
   ],
   "outputs": []
  },
  {
   "cell_type": "code",
   "execution_count": null,
   "id": "8bce7be1",
   "metadata": {},
   "source": [],
   "outputs": []
  }
 ],
 "metadata": {
  "kernelspec": {
   "display_name": "Python 3 (ipykernel)",
   "language": "python",
   "name": "python3"
  },
  "language_info": {
   "codemirror_mode": {
    "name": "ipython",
    "version": 3
   },
   "file_extension": ".py",
   "mimetype": "text/x-python",
   "name": "python",
   "nbconvert_exporter": "python",
   "pygments_lexer": "ipython3",
   "version": "3.9.17"
  }
 },
 "nbformat": 4,
 "nbformat_minor": 5
}
