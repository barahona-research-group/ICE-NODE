{
 "cells": [
  {
   "cell_type": "code",
   "execution_count": 1,
   "id": "4cfc614e",
   "metadata": {},
   "outputs": [
    {
     "name": "stdout",
     "output_type": "stream",
     "text": [
      "env: XLA_PYTHON_CLIENT_MEM_FRACTION=0.1\n"
     ]
    }
   ],
   "source": [
    "%load_ext autoreload\n",
    "%autoreload 2\n",
    "%env XLA_PYTHON_CLIENT_MEM_FRACTION=0.1\n",
    "import sys\n",
    "import os\n",
    "import glob\n",
    "import random\n",
    "from collections import defaultdict\n",
    "from pathlib import Path\n",
    "\n",
    "from IPython.display import display\n",
    "\n",
    "import pandas as pd\n",
    "import dask\n",
    "\n",
    "from tqdm import tqdm\n",
    "import jax\n",
    "jax.config.update('jax_platform_name', 'gpu')\n",
    "# jax.config.update('jax_log_compiles', True)\n",
    "# jax.config.update(\"jax_debug_nans\", True)\n",
    "# jax.config.update(\"jax_enable_x64\", True)"
   ]
  },
  {
   "cell_type": "code",
   "execution_count": 2,
   "id": "894a3743",
   "metadata": {},
   "outputs": [],
   "source": [
    "\n",
    "\n",
    "sys.path.append(\"../..\")\n",
    "\n",
    "from lib import utils as U\n",
    "from lib.ehr.dataset import load_dataset, load_dataset_scheme, Dataset\n",
    "from lib.ehr.interface import Patients\n",
    "from lib.ehr.concepts import CPRDDemographicVectorConfig, DemographicVectorConfig\n"
   ]
  },
  {
   "cell_type": "code",
   "execution_count": 3,
   "id": "8c176dbe",
   "metadata": {},
   "outputs": [],
   "source": [
    "import logging\n",
    "import pprint\n",
    "\n",
    "# logging.root.level = logging.DEBUG\n",
    "pp = pprint.PrettyPrinter(indent=4)\n"
   ]
  },
  {
   "cell_type": "code",
   "execution_count": 4,
   "id": "a08b6e10",
   "metadata": {},
   "outputs": [],
   "source": [
    "# Assign the folder of the dataset to `DATA_FILE`.\n",
    "\n",
    "HOME = os.environ.get('HOME')\n",
    "DATA_FILE = f'{HOME}/Documents/DS211/users/tb1009/DATA/PAT_COHORT/ICENODE_SUBSET_1000.csv'\n",
    "SOURCE_DIR = os.path.abspath(\"..\")\n",
    "cache_to_disk = 'cached_inteface/cprd_1000'\n",
    "use_cached = 'cached_inteface/cprd_1000' # 'cached_inteface/m4inpatients_8000' #cache_to_disk        # False # \n",
    "# use_cached =  False #'cached_inteface/cprd_50000' # 'cached_inteface/m4inpatients_8000' #cache_to_disk        # False # "
   ]
  },
  {
   "cell_type": "markdown",
   "id": "cdbd6e95",
   "metadata": {},
   "source": [
    "##### Possible Interface Scheme Configurations"
   ]
  },
  {
   "cell_type": "code",
   "execution_count": 5,
   "id": "73b4ae66",
   "metadata": {},
   "outputs": [
    {
     "name": "stdout",
     "output_type": "stream",
     "text": [
      "{\n",
      "    \"dx\": [\n",
      "        \"DxLTC9809FlatMedcodes\",\n",
      "        \"DxLTC212FlatCodes\"\n",
      "    ],\n",
      "    \"ethnicity\": [\n",
      "        \"CPRDEthnicity16\",\n",
      "        \"CPRDEthnicity5\"\n",
      "    ],\n",
      "    \"gender\": [\n",
      "        \"CPRDGender\"\n",
      "    ],\n",
      "    \"imd\": [\n",
      "        \"CPRDIMDCategorical\"\n",
      "    ],\n",
      "    \"outcome\": [\n",
      "        \"dx_cprd_ltc212\",\n",
      "        \"dx_cprd_ltc9809\"\n",
      "    ]\n",
      "}\n"
     ]
    }
   ],
   "source": [
    "import json\n",
    "\n",
    "\n",
    "interface_schem_options = load_dataset_scheme('CPRD').supported_target_scheme_options\n",
    "print(json.dumps(interface_schem_options, sort_keys=True, indent=4))\n"
   ]
  },
  {
   "cell_type": "code",
   "execution_count": 16,
   "id": "ceb14ab6",
   "metadata": {},
   "outputs": [],
   "source": [
    "cprd_interface_scheme_kw = dict(dx='DxLTC9809FlatMedcodes',\n",
    "                                #outcome='dx_cprd_ltc212',\n",
    "                                outcome='dx_cprd_ltc9809',\n",
    "                                ethnicity='CPRDEthnicity5')\n",
    "# Demographic vector attributes\n",
    "demographic_vector_conf = CPRDDemographicVectorConfig(age=True,\n",
    "                                                      gender=True,\n",
    "                                                      ethnicity=True,\n",
    "                                                      imd=True)"
   ]
  },
  {
   "cell_type": "code",
   "execution_count": 7,
   "id": "d46d7c81",
   "metadata": {
    "scrolled": true
   },
   "outputs": [],
   "source": [
    "if use_cached:\n",
    "    cprd_patients = Patients.load(use_cached)\n",
    "    splits = cprd_patients.dataset.random_splits([0.8, 0.9], random_seed=42, balanced='admissions')\n",
    "\n",
    "else:\n",
    "    with U.modified_environ(DATA_FILE=DATA_FILE), dask.config.set(scheduler='processes', num_workers=12):\n",
    "        \n",
    "        # Load dataset\n",
    "        cprd_dataset = load_dataset('CPRD', sample=None)\n",
    "        # Use training-split for fitting the outlier_remover and the scalers.\n",
    "        splits = cprd_dataset.random_splits([0.8, 0.9], random_seed=42, balanced='admissions')\n",
    "\n",
    "\n",
    "        # Load interface\n",
    "        cprd_patients = Patients(cprd_dataset, demographic_vector_conf,\n",
    "                                **cprd_interface_scheme_kw).load_subjects(num_workers=12)\n",
    "\n",
    "        # Cache to disk\n",
    "        cprd_patients.save(cache_to_disk, overwrite=True)"
   ]
  },
  {
   "cell_type": "code",
   "execution_count": 8,
   "id": "f1898f46",
   "metadata": {},
   "outputs": [
    {
     "data": {
      "text/plain": [
       "1000"
      ]
     },
     "execution_count": 8,
     "metadata": {},
     "output_type": "execute_result"
    }
   ],
   "source": [
    "len(cprd_patients.subjects)"
   ]
  },
  {
   "cell_type": "code",
   "execution_count": 9,
   "id": "86e81c71",
   "metadata": {},
   "outputs": [],
   "source": [
    "from lib.ml import (ICENODE, ICENODEDimensions, OutpatientEmbeddingDimensions, \n",
    "                    Trainer, TrainerReporting, OptimizerConfig, WarmupConfig)\n",
    "from lib.metric import  (CodeAUC, UntilFirstCodeAUC, AdmissionAUC,\n",
    "                      CodeGroupTopAlarmAccuracy, LossMetric, ObsCodeLevelLossMetric)\n",
    "\n",
    "import jax.random as jrandom"
   ]
  },
  {
   "cell_type": "code",
   "execution_count": 10,
   "id": "c8d78296",
   "metadata": {},
   "outputs": [
    {
     "name": "stderr",
     "output_type": "stream",
     "text": [
      "2023-08-24 15:43:36.074683: W external/xla/xla/service/gpu/nvptx_compiler.cc:698] The NVIDIA driver's CUDA version is 11.6 which is older than the ptxas CUDA version (11.8.89). Because the driver is older than the ptxas version, XLA is disabling parallel compilation, which may slow down compilation. You should update your NVIDIA driver or use the NVIDIA-provided CUDA forward compatibility packages.\n"
     ]
    }
   ],
   "source": [
    "emb_dims = OutpatientEmbeddingDimensions(dx=30, demo=5)\n",
    "dims = ICENODEDimensions(mem=15, emb=emb_dims)\n",
    "key = jrandom.PRNGKey(0)\n",
    "\n",
    "m = ICENODE(dims=dims, \n",
    "            schemes=cprd_patients.schemes,\n",
    "            demographic_vector_config=cprd_patients.demographic_vector_config,\n",
    "            key=key)"
   ]
  },
  {
   "cell_type": "code",
   "execution_count": 11,
   "id": "9ccb6be2",
   "metadata": {},
   "outputs": [
    {
     "name": "stderr",
     "output_type": "stream",
     "text": [
      "/data/master/DS211/users/tb1009/GIT/ICE-NODE2/notebooks/cprd_dx/../../lib/ehr/interface.py:365: RuntimeWarning: invalid value encountered in divide\n",
      "  frequency_vec = frequency_vec / frequency_vec.sum()\n"
     ]
    }
   ],
   "source": [
    "splits = cprd_patients.random_splits([0.9, 0.95], \n",
    "                                    balanced='admissions')\n",
    "\n",
    "trainer = Trainer(optimizer_config=OptimizerConfig(opt='adam', lr=1e-3),\n",
    "                    reg_hyperparams=None,\n",
    "                    epochs=80,\n",
    "                    batch_size=128,\n",
    "                    dx_loss='balanced_focal_bce')\n",
    "\n",
    "warmup = WarmupConfig(epochs=0.1, \n",
    "                      batch_size=8,\n",
    "                      opt='adam', lr=1e-3, \n",
    "                      decay_rate=0.5)\n",
    "\n",
    "loss_metric =  LossMetric(cprd_patients, \n",
    "                          dx_loss=('softmax_bce', 'balanced_focal_softmax_bce', \n",
    "                                   'balanced_focal_bce', 'allpairs_exp_rank', 'allpairs_hard_rank', \n",
    "                                   'allpairs_sigmoid_rank'))\n",
    "\n",
    "metrics = [CodeAUC(cprd_patients), \n",
    "           AdmissionAUC(cprd_patients), \n",
    "           CodeGroupTopAlarmAccuracy(cprd_patients, n_partitions=5, \n",
    "                                     top_k_list=[3, 5, 10, 15, 20],\n",
    "                                     train_split=splits[0]), \n",
    "           loss_metric]\n",
    "\n",
    "\n",
    "reporting = TrainerReporting(output_dir='dx_icenode',\n",
    "                             metrics=metrics,\n",
    "                             console=True,\n",
    "                             parameter_snapshots=True,\n",
    "                             config_json=True)"
   ]
  },
  {
   "cell_type": "code",
   "execution_count": 12,
   "id": "394a3a3f",
   "metadata": {},
   "outputs": [
    {
     "data": {
      "application/json": {
       "ascii": false,
       "bar_format": null,
       "colour": null,
       "elapsed": 0.0068476200103759766,
       "initial": 0,
       "n": 0,
       "ncols": null,
       "nrows": null,
       "postfix": null,
       "prefix": "Loading to device",
       "rate": null,
       "total": 0,
       "unit": "subject",
       "unit_divisor": 1000,
       "unit_scale": false
      },
      "application/vnd.jupyter.widget-view+json": {
       "model_id": "",
       "version_major": 2,
       "version_minor": 0
      },
      "text/plain": [
       "Loading to device: 0subject [00:00, ?subject/s]"
      ]
     },
     "metadata": {},
     "output_type": "display_data"
    },
    {
     "data": {
      "application/json": {
       "ascii": false,
       "bar_format": null,
       "colour": null,
       "elapsed": 0.0057985782623291016,
       "initial": 0,
       "n": 0,
       "ncols": null,
       "nrows": null,
       "postfix": null,
       "prefix": "",
       "rate": null,
       "total": 1,
       "unit": "Epoch",
       "unit_divisor": 1000,
       "unit_scale": false
      },
      "application/vnd.jupyter.widget-view+json": {
       "model_id": "38dcf6e8d26843c4aa0f39b0613c1f7e",
       "version_major": 2,
       "version_minor": 0
      },
      "text/plain": [
       "  0%|          | 0/1 [00:00<?, ?Epoch/s]"
      ]
     },
     "metadata": {},
     "output_type": "display_data"
    },
    {
     "data": {
      "application/json": {
       "ascii": false,
       "bar_format": null,
       "colour": null,
       "elapsed": 0.00603032112121582,
       "initial": 0,
       "n": 0,
       "ncols": null,
       "nrows": null,
       "postfix": null,
       "prefix": "",
       "rate": null,
       "total": 200,
       "unit": "Batch",
       "unit_divisor": 1000,
       "unit_scale": false
      },
      "application/vnd.jupyter.widget-view+json": {
       "model_id": "1053e53e22e84d85ad930a7dc0fd9dd4",
       "version_major": 2,
       "version_minor": 0
      },
      "text/plain": [
       "  0%|          | 0/200 [00:00<?, ?Batch/s]"
      ]
     },
     "metadata": {},
     "output_type": "display_data"
    },
    {
     "data": {
      "application/json": {
       "ascii": false,
       "bar_format": null,
       "colour": null,
       "elapsed": 0.00593876838684082,
       "initial": 0,
       "n": 0,
       "ncols": null,
       "nrows": null,
       "postfix": null,
       "prefix": "Loading to device",
       "rate": null,
       "total": 2,
       "unit": "subject",
       "unit_divisor": 1000,
       "unit_scale": false
      },
      "application/vnd.jupyter.widget-view+json": {
       "model_id": "",
       "version_major": 2,
       "version_minor": 0
      },
      "text/plain": [
       "Loading to device:   0%|          | 0/2 [00:00<?, ?subject/s]"
      ]
     },
     "metadata": {},
     "output_type": "display_data"
    },
    {
     "data": {
      "application/json": {
       "ascii": false,
       "bar_format": null,
       "colour": null,
       "elapsed": 0.006269216537475586,
       "initial": 0,
       "n": 0,
       "ncols": null,
       "nrows": null,
       "postfix": null,
       "prefix": "Embedding",
       "rate": null,
       "total": 2,
       "unit": "subject",
       "unit_divisor": 1000,
       "unit_scale": false
      },
      "application/vnd.jupyter.widget-view+json": {
       "model_id": "9af11d5c454040bbaa13ab4d3d14c3de",
       "version_major": 2,
       "version_minor": 0
      },
      "text/plain": [
       "Embedding:   0%|          | 0/2 [00:00<?, ?subject/s]"
      ]
     },
     "metadata": {},
     "output_type": "display_data"
    },
    {
     "ename": "TypeError",
     "evalue": "dot_general requires contracting dimensions to have the same shape, got (20,) and (10,).",
     "output_type": "error",
     "traceback": [
      "\u001b[0;31m---------------------------------------------------------------------------\u001b[0m",
      "\u001b[0;31mTypeError\u001b[0m                                 Traceback (most recent call last)",
      "Cell \u001b[0;32mIn[12], line 1\u001b[0m\n\u001b[0;32m----> 1\u001b[0m res \u001b[38;5;241m=\u001b[39m \u001b[43mtrainer\u001b[49m\u001b[43m(\u001b[49m\u001b[43mm\u001b[49m\u001b[43m,\u001b[49m\u001b[43m \u001b[49m\u001b[43mcprd_patients\u001b[49m\u001b[43m,\u001b[49m\u001b[43m \u001b[49m\n\u001b[1;32m      2\u001b[0m \u001b[43m              \u001b[49m\u001b[43msplits\u001b[49m\u001b[38;5;241;43m=\u001b[39;49m\u001b[43msplits\u001b[49m\u001b[43m,\u001b[49m\n\u001b[1;32m      3\u001b[0m \u001b[43m              \u001b[49m\u001b[43mreporting\u001b[49m\u001b[38;5;241;43m=\u001b[39;49m\u001b[43mreporting\u001b[49m\u001b[43m,\u001b[49m\n\u001b[1;32m      4\u001b[0m \u001b[43m              \u001b[49m\u001b[43mn_evals\u001b[49m\u001b[38;5;241;43m=\u001b[39;49m\u001b[38;5;241;43m100\u001b[39;49m\u001b[43m,\u001b[49m\n\u001b[1;32m      5\u001b[0m \u001b[43m              \u001b[49m\u001b[43mwarmup_config\u001b[49m\u001b[38;5;241;43m=\u001b[39;49m\u001b[43mwarmup\u001b[49m\u001b[43m,\u001b[49m\n\u001b[1;32m      6\u001b[0m \u001b[43m              \u001b[49m\u001b[43mcontinue_training\u001b[49m\u001b[38;5;241;43m=\u001b[39;49m\u001b[38;5;28;43;01mFalse\u001b[39;49;00m\u001b[43m)\u001b[49m\n",
      "File \u001b[0;32m/data/master/DS211/users/tb1009/GIT/ICE-NODE2/notebooks/cprd_dx/../../lib/ml/trainer.py:579\u001b[0m, in \u001b[0;36mTrainer.__call__\u001b[0;34m(self, model, patients, splits, n_evals, reporting, warmup_config, continue_training, prng_seed, trial_terminate_time)\u001b[0m\n\u001b[1;32m    577\u001b[0m \u001b[38;5;28;01mif\u001b[39;00m \u001b[38;5;129;01mnot\u001b[39;00m continue_training \u001b[38;5;129;01mand\u001b[39;00m warmup_config \u001b[38;5;129;01mis\u001b[39;00m \u001b[38;5;129;01mnot\u001b[39;00m \u001b[38;5;28;01mNone\u001b[39;00m:\n\u001b[1;32m    578\u001b[0m     logging\u001b[38;5;241m.\u001b[39minfo(\u001b[38;5;124m'\u001b[39m\u001b[38;5;124mWarming up...\u001b[39m\u001b[38;5;124m'\u001b[39m)\n\u001b[0;32m--> 579\u001b[0m     model \u001b[38;5;241m=\u001b[39m \u001b[38;5;28;43mself\u001b[39;49m\u001b[38;5;241;43m.\u001b[39;49m\u001b[43m_warmup\u001b[49m\u001b[43m(\u001b[49m\u001b[43mmodel\u001b[49m\u001b[38;5;241;43m=\u001b[39;49m\u001b[43mmodel\u001b[49m\u001b[43m,\u001b[49m\n\u001b[1;32m    580\u001b[0m \u001b[43m                         \u001b[49m\u001b[43mpatients\u001b[49m\u001b[38;5;241;43m=\u001b[39;49m\u001b[43mpatients\u001b[49m\u001b[43m,\u001b[49m\n\u001b[1;32m    581\u001b[0m \u001b[43m                         \u001b[49m\u001b[43msplits\u001b[49m\u001b[38;5;241;43m=\u001b[39;49m\u001b[43msplits\u001b[49m\u001b[43m,\u001b[49m\n\u001b[1;32m    582\u001b[0m \u001b[43m                         \u001b[49m\u001b[43mprng_seed\u001b[49m\u001b[38;5;241;43m=\u001b[39;49m\u001b[43mprng_seed\u001b[49m\u001b[43m,\u001b[49m\n\u001b[1;32m    583\u001b[0m \u001b[43m                         \u001b[49m\u001b[43mtrial_terminate_time\u001b[49m\u001b[38;5;241;43m=\u001b[39;49m\u001b[43mtrial_terminate_time\u001b[49m\u001b[43m,\u001b[49m\n\u001b[1;32m    584\u001b[0m \u001b[43m                         \u001b[49m\u001b[43mhistory\u001b[49m\u001b[38;5;241;43m=\u001b[39;49m\u001b[43mreporting\u001b[49m\u001b[38;5;241;43m.\u001b[39;49m\u001b[43mnew_training_history\u001b[49m\u001b[43m(\u001b[49m\u001b[43m)\u001b[49m\u001b[43m,\u001b[49m\n\u001b[1;32m    585\u001b[0m \u001b[43m                         \u001b[49m\u001b[43msignals\u001b[49m\u001b[38;5;241;43m=\u001b[39;49m\u001b[43mTrainerSignals\u001b[49m\u001b[43m(\u001b[49m\u001b[43m)\u001b[49m\u001b[43m,\u001b[49m\n\u001b[1;32m    586\u001b[0m \u001b[43m                         \u001b[49m\u001b[43mwarmup_config\u001b[49m\u001b[38;5;241;43m=\u001b[39;49m\u001b[43mwarmup_config\u001b[49m\u001b[43m)\u001b[49m\n\u001b[1;32m    587\u001b[0m     logging\u001b[38;5;241m.\u001b[39minfo(\u001b[38;5;124m'\u001b[39m\u001b[38;5;124m[DONE] Warming up.\u001b[39m\u001b[38;5;124m'\u001b[39m)\n\u001b[1;32m    589\u001b[0m \u001b[38;5;28;01mwith\u001b[39;00m contextlib\u001b[38;5;241m.\u001b[39mExitStack() \u001b[38;5;28;01mas\u001b[39;00m stack:\n",
      "File \u001b[0;32m/data/master/DS211/users/tb1009/GIT/ICE-NODE2/notebooks/cprd_dx/../../lib/ml/trainer.py:618\u001b[0m, in \u001b[0;36mTrainer._warmup\u001b[0;34m(self, model, patients, splits, prng_seed, trial_terminate_time, history, signals, warmup_config)\u001b[0m\n\u001b[1;32m    607\u001b[0m \u001b[38;5;28;01mdef\u001b[39;00m \u001b[38;5;21m_warmup\u001b[39m(\u001b[38;5;28mself\u001b[39m, model: AbstractModel, patients: Patients,\n\u001b[1;32m    608\u001b[0m             splits: Tuple[List[\u001b[38;5;28mint\u001b[39m], \u001b[38;5;241m.\u001b[39m\u001b[38;5;241m.\u001b[39m\u001b[38;5;241m.\u001b[39m], prng_seed, trial_terminate_time,\n\u001b[1;32m    609\u001b[0m             history: TrainingHistory, signals: TrainerSignals,\n\u001b[1;32m    610\u001b[0m             warmup_config: WarmupConfig):\n\u001b[1;32m    611\u001b[0m     trainer \u001b[38;5;241m=\u001b[39m \u001b[38;5;28mtype\u001b[39m(\u001b[38;5;28mself\u001b[39m)(\n\u001b[1;32m    612\u001b[0m         optimizer_config\u001b[38;5;241m=\u001b[39mwarmup_config\u001b[38;5;241m.\u001b[39moptimizer_config,\n\u001b[1;32m    613\u001b[0m         reg_hyperparams\u001b[38;5;241m=\u001b[39m\u001b[38;5;28mself\u001b[39m\u001b[38;5;241m.\u001b[39mreg_hyperparams,\n\u001b[0;32m   (...)\u001b[0m\n\u001b[1;32m    616\u001b[0m         counts_ignore_first_admission\u001b[38;5;241m=\u001b[39mmodel\u001b[38;5;241m.\u001b[39mcounts_ignore_first_admission,\n\u001b[1;32m    617\u001b[0m         \u001b[38;5;241m*\u001b[39m\u001b[38;5;241m*\u001b[39m\u001b[38;5;28mself\u001b[39m\u001b[38;5;241m.\u001b[39mkwargs)\n\u001b[0;32m--> 618\u001b[0m     \u001b[38;5;28;01mreturn\u001b[39;00m \u001b[43mtrainer\u001b[49m\u001b[38;5;241;43m.\u001b[39;49m\u001b[43m_train\u001b[49m\u001b[43m(\u001b[49m\u001b[43mmodel\u001b[49m\u001b[38;5;241;43m=\u001b[39;49m\u001b[43mmodel\u001b[49m\u001b[43m,\u001b[49m\n\u001b[1;32m    619\u001b[0m \u001b[43m                          \u001b[49m\u001b[43mpatients\u001b[49m\u001b[38;5;241;43m=\u001b[39;49m\u001b[43mpatients\u001b[49m\u001b[43m,\u001b[49m\n\u001b[1;32m    620\u001b[0m \u001b[43m                          \u001b[49m\u001b[43msplits\u001b[49m\u001b[38;5;241;43m=\u001b[39;49m\u001b[43m(\u001b[49m\u001b[43msplits\u001b[49m\u001b[43m[\u001b[49m\u001b[38;5;241;43m0\u001b[39;49m\u001b[43m]\u001b[49m\u001b[43m,\u001b[49m\u001b[43m \u001b[49m\u001b[43m[\u001b[49m\u001b[43m]\u001b[49m\u001b[43m,\u001b[49m\u001b[43m \u001b[49m\u001b[43m[\u001b[49m\u001b[43m]\u001b[49m\u001b[43m)\u001b[49m\u001b[43m,\u001b[49m\n\u001b[1;32m    621\u001b[0m \u001b[43m                          \u001b[49m\u001b[43mn_evals\u001b[49m\u001b[38;5;241;43m=\u001b[39;49m\u001b[38;5;241;43m0\u001b[39;49m\u001b[43m,\u001b[49m\n\u001b[1;32m    622\u001b[0m \u001b[43m                          \u001b[49m\u001b[43mcontinue_training\u001b[49m\u001b[38;5;241;43m=\u001b[39;49m\u001b[38;5;28;43;01mFalse\u001b[39;49;00m\u001b[43m,\u001b[49m\n\u001b[1;32m    623\u001b[0m \u001b[43m                          \u001b[49m\u001b[43mprng_seed\u001b[49m\u001b[38;5;241;43m=\u001b[39;49m\u001b[43mprng_seed\u001b[49m\u001b[43m,\u001b[49m\n\u001b[1;32m    624\u001b[0m \u001b[43m                          \u001b[49m\u001b[43mtrial_terminate_time\u001b[49m\u001b[38;5;241;43m=\u001b[39;49m\u001b[43mtrial_terminate_time\u001b[49m\u001b[43m,\u001b[49m\n\u001b[1;32m    625\u001b[0m \u001b[43m                          \u001b[49m\u001b[43mhistory\u001b[49m\u001b[38;5;241;43m=\u001b[39;49m\u001b[43mhistory\u001b[49m\u001b[43m,\u001b[49m\n\u001b[1;32m    626\u001b[0m \u001b[43m                          \u001b[49m\u001b[43msignals\u001b[49m\u001b[38;5;241;43m=\u001b[39;49m\u001b[43msignals\u001b[49m\u001b[43m)\u001b[49m\n",
      "File \u001b[0;32m/data/master/DS211/users/tb1009/GIT/ICE-NODE2/notebooks/cprd_dx/../../lib/ml/trainer.py:691\u001b[0m, in \u001b[0;36mTrainer._train\u001b[0;34m(self, model, patients, splits, n_evals, continue_training, prng_seed, trial_terminate_time, history, signals)\u001b[0m\n\u001b[1;32m    689\u001b[0m     \u001b[38;5;28;01mcontinue\u001b[39;00m\n\u001b[1;32m    690\u001b[0m \u001b[38;5;28;01mtry\u001b[39;00m:\n\u001b[0;32m--> 691\u001b[0m     optimizer, model, loss_val \u001b[38;5;241m=\u001b[39m \u001b[38;5;28;43mself\u001b[39;49m\u001b[38;5;241;43m.\u001b[39;49m\u001b[43mstep_optimizer\u001b[49m\u001b[43m(\u001b[49m\n\u001b[1;32m    692\u001b[0m \u001b[43m        \u001b[49m\u001b[43mstep\u001b[49m\u001b[43m,\u001b[49m\u001b[43m \u001b[49m\u001b[43moptimizer\u001b[49m\u001b[43m,\u001b[49m\u001b[43m \u001b[49m\u001b[43mmodel\u001b[49m\u001b[43m,\u001b[49m\u001b[43m \u001b[49m\u001b[43mbatch\u001b[49m\u001b[43m)\u001b[49m\n\u001b[1;32m    693\u001b[0m     batch_gen\u001b[38;5;241m.\u001b[39mset_description(\u001b[38;5;124mf\u001b[39m\u001b[38;5;124m'\u001b[39m\u001b[38;5;124mLoss: \u001b[39m\u001b[38;5;132;01m{\u001b[39;00mloss_val\u001b[38;5;132;01m:\u001b[39;00m\u001b[38;5;124m.4E\u001b[39m\u001b[38;5;132;01m}\u001b[39;00m\u001b[38;5;124m'\u001b[39m)\n\u001b[1;32m    694\u001b[0m     signals\u001b[38;5;241m.\u001b[39mmodel_updated\u001b[38;5;241m.\u001b[39msend(\u001b[38;5;28mself\u001b[39m,\n\u001b[1;32m    695\u001b[0m                                model\u001b[38;5;241m=\u001b[39mmodel,\n\u001b[1;32m    696\u001b[0m                                history\u001b[38;5;241m=\u001b[39mhistory,\n\u001b[1;32m    697\u001b[0m                                step\u001b[38;5;241m=\u001b[39mstep,\n\u001b[1;32m    698\u001b[0m                                loss_val\u001b[38;5;241m=\u001b[39mloss_val)\n",
      "File \u001b[0;32m/data/master/DS211/users/tb1009/GIT/ICE-NODE2/notebooks/cprd_dx/../../lib/ml/trainer.py:555\u001b[0m, in \u001b[0;36mTrainer.step_optimizer\u001b[0;34m(self, step, optimizer, model, patients)\u001b[0m\n\u001b[1;32m    552\u001b[0m \u001b[38;5;28;01mdef\u001b[39;00m \u001b[38;5;21mstep_optimizer\u001b[39m(\u001b[38;5;28mself\u001b[39m, step: \u001b[38;5;28mint\u001b[39m, optimizer: Optimizer,\n\u001b[1;32m    553\u001b[0m                    model: AbstractModel, patients: Patients):\n\u001b[1;32m    554\u001b[0m     grad_f \u001b[38;5;241m=\u001b[39m eqx\u001b[38;5;241m.\u001b[39mfilter_value_and_grad(\u001b[38;5;28mself\u001b[39m\u001b[38;5;241m.\u001b[39mloss)\n\u001b[0;32m--> 555\u001b[0m     value, grads \u001b[38;5;241m=\u001b[39m \u001b[43mgrad_f\u001b[49m\u001b[43m(\u001b[49m\u001b[43mmodel\u001b[49m\u001b[43m,\u001b[49m\u001b[43m \u001b[49m\u001b[43mpatients\u001b[49m\u001b[43m)\u001b[49m\n\u001b[1;32m    556\u001b[0m     optimizer \u001b[38;5;241m=\u001b[39m optimizer\u001b[38;5;241m.\u001b[39mstep(step, grads)\n\u001b[1;32m    557\u001b[0m     new_model \u001b[38;5;241m=\u001b[39m optimizer(model)\n",
      "File \u001b[0;32m/data/master/DS211/users/tb1009/venv310-jax/lib/python3.10/site-packages/equinox/_ad.py:64\u001b[0m, in \u001b[0;36m_ValueAndGradWrapper.__call__\u001b[0;34m(self, x, *args, **kwargs)\u001b[0m\n\u001b[1;32m     61\u001b[0m     \u001b[38;5;28;01mreturn\u001b[39;00m \u001b[38;5;28mself\u001b[39m\u001b[38;5;241m.\u001b[39m_fun(_x, \u001b[38;5;241m*\u001b[39m_args, \u001b[38;5;241m*\u001b[39m\u001b[38;5;241m*\u001b[39m_kwargs)\n\u001b[1;32m     63\u001b[0m diff_x, nondiff_x \u001b[38;5;241m=\u001b[39m partition(x, is_inexact_array)\n\u001b[0;32m---> 64\u001b[0m \u001b[38;5;28;01mreturn\u001b[39;00m \u001b[43mfun_value_and_grad\u001b[49m\u001b[43m(\u001b[49m\u001b[43mdiff_x\u001b[49m\u001b[43m,\u001b[49m\u001b[43m \u001b[49m\u001b[43mnondiff_x\u001b[49m\u001b[43m,\u001b[49m\u001b[43m \u001b[49m\u001b[38;5;241;43m*\u001b[39;49m\u001b[43margs\u001b[49m\u001b[43m,\u001b[49m\u001b[43m \u001b[49m\u001b[38;5;241;43m*\u001b[39;49m\u001b[38;5;241;43m*\u001b[39;49m\u001b[43mkwargs\u001b[49m\u001b[43m)\u001b[49m\n",
      "    \u001b[0;31m[... skipping hidden 9 frame]\u001b[0m\n",
      "File \u001b[0;32m/data/master/DS211/users/tb1009/GIT/ICE-NODE2/notebooks/cprd_dx/../../lib/ml/trainer.py:545\u001b[0m, in \u001b[0;36mTrainer.loss\u001b[0;34m(self, model, patients)\u001b[0m\n\u001b[1;32m    543\u001b[0m \u001b[38;5;28;01mdef\u001b[39;00m \u001b[38;5;21mloss\u001b[39m(\u001b[38;5;28mself\u001b[39m, model: AbstractModel, patients: Patients):\n\u001b[1;32m    544\u001b[0m     \u001b[38;5;28;01mif\u001b[39;00m \u001b[38;5;28mself\u001b[39m\u001b[38;5;241m.\u001b[39mreg_hyperparams \u001b[38;5;129;01mis\u001b[39;00m \u001b[38;5;28;01mNone\u001b[39;00m:\n\u001b[0;32m--> 545\u001b[0m         \u001b[38;5;28;01mreturn\u001b[39;00m \u001b[38;5;28;43mself\u001b[39;49m\u001b[38;5;241;43m.\u001b[39;49m\u001b[43munreg_loss\u001b[49m\u001b[43m(\u001b[49m\u001b[43mmodel\u001b[49m\u001b[43m,\u001b[49m\u001b[43m \u001b[49m\u001b[43mpatients\u001b[49m\u001b[43m)\u001b[49m\n\u001b[1;32m    546\u001b[0m     \u001b[38;5;28;01melse\u001b[39;00m:\n\u001b[1;32m    547\u001b[0m         \u001b[38;5;28;01mreturn\u001b[39;00m \u001b[38;5;28mself\u001b[39m\u001b[38;5;241m.\u001b[39mreg_loss(model, patients)\n",
      "File \u001b[0;32m/data/master/DS211/users/tb1009/GIT/ICE-NODE2/notebooks/cprd_dx/../../lib/ml/trainer.py:528\u001b[0m, in \u001b[0;36mTrainer.unreg_loss\u001b[0;34m(self, model, patients)\u001b[0m\n\u001b[1;32m    527\u001b[0m \u001b[38;5;28;01mdef\u001b[39;00m \u001b[38;5;21munreg_loss\u001b[39m(\u001b[38;5;28mself\u001b[39m, model: AbstractModel, patients: Patients):\n\u001b[0;32m--> 528\u001b[0m     predictions \u001b[38;5;241m=\u001b[39m \u001b[43mmodel\u001b[49m\u001b[38;5;241;43m.\u001b[39;49m\u001b[43mbatch_predict\u001b[49m\u001b[43m(\u001b[49m\u001b[43mpatients\u001b[49m\u001b[43m,\u001b[49m\u001b[43m \u001b[49m\u001b[43mleave_pbar\u001b[49m\u001b[38;5;241;43m=\u001b[39;49m\u001b[38;5;28;43;01mFalse\u001b[39;49;00m\u001b[43m)\u001b[49m\n\u001b[1;32m    529\u001b[0m     \u001b[38;5;28;01mreturn\u001b[39;00m predictions\u001b[38;5;241m.\u001b[39mprediction_dx_loss(dx_loss\u001b[38;5;241m=\u001b[39m\u001b[38;5;28mself\u001b[39m\u001b[38;5;241m.\u001b[39mdx_loss)\n",
      "File \u001b[0;32m/data/master/DS211/users/tb1009/GIT/ICE-NODE2/notebooks/cprd_dx/../../lib/ml/model.py:197\u001b[0m, in \u001b[0;36mOutpatientModel.batch_predict\u001b[0;34m(self, inpatients, leave_pbar)\u001b[0m\n\u001b[1;32m    192\u001b[0m \u001b[38;5;28;01mdef\u001b[39;00m \u001b[38;5;21mbatch_predict\u001b[39m(\u001b[38;5;28mself\u001b[39m,\n\u001b[1;32m    193\u001b[0m                   inpatients: Patients,\n\u001b[1;32m    194\u001b[0m                   leave_pbar: \u001b[38;5;28mbool\u001b[39m \u001b[38;5;241m=\u001b[39m \u001b[38;5;28;01mFalse\u001b[39;00m) \u001b[38;5;241m-\u001b[39m\u001b[38;5;241m>\u001b[39m Predictions:\n\u001b[1;32m    195\u001b[0m     total_int_days \u001b[38;5;241m=\u001b[39m inpatients\u001b[38;5;241m.\u001b[39md2d_interval_days()\n\u001b[0;32m--> 197\u001b[0m     inpatients_emb \u001b[38;5;241m=\u001b[39m {\n\u001b[1;32m    198\u001b[0m         i: \u001b[38;5;28mself\u001b[39m\u001b[38;5;241m.\u001b[39mf_emb(subject)\n\u001b[1;32m    199\u001b[0m         \u001b[38;5;28;01mfor\u001b[39;00m i, subject \u001b[38;5;129;01min\u001b[39;00m tqdm_constructor(inpatients\u001b[38;5;241m.\u001b[39msubjects\u001b[38;5;241m.\u001b[39mitems(),\n\u001b[1;32m    200\u001b[0m                                            desc\u001b[38;5;241m=\u001b[39m\u001b[38;5;124m\"\u001b[39m\u001b[38;5;124mEmbedding\u001b[39m\u001b[38;5;124m\"\u001b[39m,\n\u001b[1;32m    201\u001b[0m                                            unit\u001b[38;5;241m=\u001b[39m\u001b[38;5;124m'\u001b[39m\u001b[38;5;124msubject\u001b[39m\u001b[38;5;124m'\u001b[39m,\n\u001b[1;32m    202\u001b[0m                                            leave\u001b[38;5;241m=\u001b[39mleave_pbar)\n\u001b[1;32m    203\u001b[0m     }\n\u001b[1;32m    205\u001b[0m     r_bar \u001b[38;5;241m=\u001b[39m \u001b[38;5;124m'\u001b[39m\u001b[38;5;124m| \u001b[39m\u001b[38;5;132;01m{n:.2f}\u001b[39;00m\u001b[38;5;124m/\u001b[39m\u001b[38;5;132;01m{total:.2f}\u001b[39;00m\u001b[38;5;124m [\u001b[39m\u001b[38;5;132;01m{elapsed}\u001b[39;00m\u001b[38;5;124m<\u001b[39m\u001b[38;5;132;01m{remaining}\u001b[39;00m\u001b[38;5;124m, \u001b[39m\u001b[38;5;124m'\u001b[39m \u001b[38;5;124m'\u001b[39m\u001b[38;5;132;01m{rate_fmt}\u001b[39;00m\u001b[38;5;132;01m{postfix}\u001b[39;00m\u001b[38;5;124m]\u001b[39m\u001b[38;5;124m'\u001b[39m\n\u001b[1;32m    206\u001b[0m     bar_format \u001b[38;5;241m=\u001b[39m \u001b[38;5;124m'\u001b[39m\u001b[38;5;132;01m{l_bar}\u001b[39;00m\u001b[38;5;132;01m{bar}\u001b[39;00m\u001b[38;5;124m'\u001b[39m \u001b[38;5;241m+\u001b[39m r_bar\n",
      "File \u001b[0;32m/data/master/DS211/users/tb1009/GIT/ICE-NODE2/notebooks/cprd_dx/../../lib/ml/model.py:198\u001b[0m, in \u001b[0;36m<dictcomp>\u001b[0;34m(.0)\u001b[0m\n\u001b[1;32m    192\u001b[0m \u001b[38;5;28;01mdef\u001b[39;00m \u001b[38;5;21mbatch_predict\u001b[39m(\u001b[38;5;28mself\u001b[39m,\n\u001b[1;32m    193\u001b[0m                   inpatients: Patients,\n\u001b[1;32m    194\u001b[0m                   leave_pbar: \u001b[38;5;28mbool\u001b[39m \u001b[38;5;241m=\u001b[39m \u001b[38;5;28;01mFalse\u001b[39;00m) \u001b[38;5;241m-\u001b[39m\u001b[38;5;241m>\u001b[39m Predictions:\n\u001b[1;32m    195\u001b[0m     total_int_days \u001b[38;5;241m=\u001b[39m inpatients\u001b[38;5;241m.\u001b[39md2d_interval_days()\n\u001b[1;32m    197\u001b[0m     inpatients_emb \u001b[38;5;241m=\u001b[39m {\n\u001b[0;32m--> 198\u001b[0m         i: \u001b[38;5;28;43mself\u001b[39;49m\u001b[38;5;241;43m.\u001b[39;49m\u001b[43mf_emb\u001b[49m\u001b[43m(\u001b[49m\u001b[43msubject\u001b[49m\u001b[43m)\u001b[49m\n\u001b[1;32m    199\u001b[0m         \u001b[38;5;28;01mfor\u001b[39;00m i, subject \u001b[38;5;129;01min\u001b[39;00m tqdm_constructor(inpatients\u001b[38;5;241m.\u001b[39msubjects\u001b[38;5;241m.\u001b[39mitems(),\n\u001b[1;32m    200\u001b[0m                                            desc\u001b[38;5;241m=\u001b[39m\u001b[38;5;124m\"\u001b[39m\u001b[38;5;124mEmbedding\u001b[39m\u001b[38;5;124m\"\u001b[39m,\n\u001b[1;32m    201\u001b[0m                                            unit\u001b[38;5;241m=\u001b[39m\u001b[38;5;124m'\u001b[39m\u001b[38;5;124msubject\u001b[39m\u001b[38;5;124m'\u001b[39m,\n\u001b[1;32m    202\u001b[0m                                            leave\u001b[38;5;241m=\u001b[39mleave_pbar)\n\u001b[1;32m    203\u001b[0m     }\n\u001b[1;32m    205\u001b[0m     r_bar \u001b[38;5;241m=\u001b[39m \u001b[38;5;124m'\u001b[39m\u001b[38;5;124m| \u001b[39m\u001b[38;5;132;01m{n:.2f}\u001b[39;00m\u001b[38;5;124m/\u001b[39m\u001b[38;5;132;01m{total:.2f}\u001b[39;00m\u001b[38;5;124m [\u001b[39m\u001b[38;5;132;01m{elapsed}\u001b[39;00m\u001b[38;5;124m<\u001b[39m\u001b[38;5;132;01m{remaining}\u001b[39;00m\u001b[38;5;124m, \u001b[39m\u001b[38;5;124m'\u001b[39m \u001b[38;5;124m'\u001b[39m\u001b[38;5;132;01m{rate_fmt}\u001b[39;00m\u001b[38;5;132;01m{postfix}\u001b[39;00m\u001b[38;5;124m]\u001b[39m\u001b[38;5;124m'\u001b[39m\n\u001b[1;32m    206\u001b[0m     bar_format \u001b[38;5;241m=\u001b[39m \u001b[38;5;124m'\u001b[39m\u001b[38;5;132;01m{l_bar}\u001b[39;00m\u001b[38;5;132;01m{bar}\u001b[39;00m\u001b[38;5;124m'\u001b[39m \u001b[38;5;241m+\u001b[39m r_bar\n",
      "File \u001b[0;32m/data/master/DS211/users/tb1009/GIT/ICE-NODE2/notebooks/cprd_dx/../../lib/ml/embeddings.py:92\u001b[0m, in \u001b[0;36mPatientEmbedding.__call__\u001b[0;34m(self, inpatient)\u001b[0m\n\u001b[1;32m     87\u001b[0m \u001b[38;5;28;01mdef\u001b[39;00m \u001b[38;5;21m__call__\u001b[39m(\u001b[38;5;28mself\u001b[39m, inpatient: Patient) \u001b[38;5;241m-\u001b[39m\u001b[38;5;241m>\u001b[39m List[EmbeddedAdmission]:\n\u001b[1;32m     88\u001b[0m     \u001b[38;5;124;03m\"\"\"\u001b[39;00m\n\u001b[1;32m     89\u001b[0m \u001b[38;5;124;03m    Embeds all the admissions of an inpatient into fixed vectors as \\\u001b[39;00m\n\u001b[1;32m     90\u001b[0m \u001b[38;5;124;03m    described above.\u001b[39;00m\n\u001b[1;32m     91\u001b[0m \u001b[38;5;124;03m    \"\"\"\u001b[39;00m\n\u001b[0;32m---> 92\u001b[0m     \u001b[38;5;28;01mreturn\u001b[39;00m [\n\u001b[1;32m     93\u001b[0m         \u001b[38;5;28mself\u001b[39m\u001b[38;5;241m.\u001b[39membed_admission(inpatient\u001b[38;5;241m.\u001b[39mstatic_info, admission)\n\u001b[1;32m     94\u001b[0m         \u001b[38;5;28;01mfor\u001b[39;00m admission \u001b[38;5;129;01min\u001b[39;00m inpatient\u001b[38;5;241m.\u001b[39madmissions\n\u001b[1;32m     95\u001b[0m     ]\n",
      "File \u001b[0;32m/data/master/DS211/users/tb1009/GIT/ICE-NODE2/notebooks/cprd_dx/../../lib/ml/embeddings.py:93\u001b[0m, in \u001b[0;36m<listcomp>\u001b[0;34m(.0)\u001b[0m\n\u001b[1;32m     87\u001b[0m \u001b[38;5;28;01mdef\u001b[39;00m \u001b[38;5;21m__call__\u001b[39m(\u001b[38;5;28mself\u001b[39m, inpatient: Patient) \u001b[38;5;241m-\u001b[39m\u001b[38;5;241m>\u001b[39m List[EmbeddedAdmission]:\n\u001b[1;32m     88\u001b[0m     \u001b[38;5;124;03m\"\"\"\u001b[39;00m\n\u001b[1;32m     89\u001b[0m \u001b[38;5;124;03m    Embeds all the admissions of an inpatient into fixed vectors as \\\u001b[39;00m\n\u001b[1;32m     90\u001b[0m \u001b[38;5;124;03m    described above.\u001b[39;00m\n\u001b[1;32m     91\u001b[0m \u001b[38;5;124;03m    \"\"\"\u001b[39;00m\n\u001b[1;32m     92\u001b[0m     \u001b[38;5;28;01mreturn\u001b[39;00m [\n\u001b[0;32m---> 93\u001b[0m         \u001b[38;5;28;43mself\u001b[39;49m\u001b[38;5;241;43m.\u001b[39;49m\u001b[43membed_admission\u001b[49m\u001b[43m(\u001b[49m\u001b[43minpatient\u001b[49m\u001b[38;5;241;43m.\u001b[39;49m\u001b[43mstatic_info\u001b[49m\u001b[43m,\u001b[49m\u001b[43m \u001b[49m\u001b[43madmission\u001b[49m\u001b[43m)\u001b[49m\n\u001b[1;32m     94\u001b[0m         \u001b[38;5;28;01mfor\u001b[39;00m admission \u001b[38;5;129;01min\u001b[39;00m inpatient\u001b[38;5;241m.\u001b[39madmissions\n\u001b[1;32m     95\u001b[0m     ]\n",
      "File \u001b[0;32m/data/master/DS211/users/tb1009/GIT/ICE-NODE2/notebooks/cprd_dx/../../lib/ml/embeddings.py:111\u001b[0m, in \u001b[0;36mOutpatientEmbedding.embed_admission\u001b[0;34m(self, static_info, admission)\u001b[0m\n\u001b[1;32m    109\u001b[0m \u001b[38;5;124;03m\"\"\" Embeds an admission into fixed vectors as described above.\"\"\"\u001b[39;00m\n\u001b[1;32m    110\u001b[0m demo \u001b[38;5;241m=\u001b[39m static_info\u001b[38;5;241m.\u001b[39mdemographic_vector(admission\u001b[38;5;241m.\u001b[39madmission_dates[\u001b[38;5;241m0\u001b[39m])\n\u001b[0;32m--> 111\u001b[0m \u001b[38;5;28;01mreturn\u001b[39;00m \u001b[38;5;28;43mself\u001b[39;49m\u001b[38;5;241;43m.\u001b[39;49m\u001b[43m_embed_admission\u001b[49m\u001b[43m(\u001b[49m\u001b[43mdemo\u001b[49m\u001b[43m,\u001b[49m\u001b[43m \u001b[49m\u001b[43madmission\u001b[49m\u001b[38;5;241;43m.\u001b[39;49m\u001b[43mdx_codes\u001b[49m\u001b[38;5;241;43m.\u001b[39;49m\u001b[43mvec\u001b[49m\u001b[43m)\u001b[49m\n",
      "File \u001b[0;32m/data/master/DS211/users/tb1009/venv310-jax/lib/python3.10/site-packages/equinox/_module.py:522\u001b[0m, in \u001b[0;36mPartial.__call__\u001b[0;34m(self, *args, **kwargs)\u001b[0m\n\u001b[1;32m    509\u001b[0m \u001b[38;5;28;01mdef\u001b[39;00m \u001b[38;5;21m__call__\u001b[39m(\u001b[38;5;28mself\u001b[39m, \u001b[38;5;241m*\u001b[39margs, \u001b[38;5;241m*\u001b[39m\u001b[38;5;241m*\u001b[39mkwargs):\n\u001b[1;32m    510\u001b[0m     \u001b[38;5;124;03m\"\"\"Call the wrapped `self.func`.\u001b[39;00m\n\u001b[1;32m    511\u001b[0m \n\u001b[1;32m    512\u001b[0m \u001b[38;5;124;03m    **Arguments:**\u001b[39;00m\n\u001b[0;32m   (...)\u001b[0m\n\u001b[1;32m    520\u001b[0m \u001b[38;5;124;03m    The result of the wrapped function.\u001b[39;00m\n\u001b[1;32m    521\u001b[0m \u001b[38;5;124;03m    \"\"\"\u001b[39;00m\n\u001b[0;32m--> 522\u001b[0m     \u001b[38;5;28;01mreturn\u001b[39;00m \u001b[38;5;28;43mself\u001b[39;49m\u001b[38;5;241;43m.\u001b[39;49m\u001b[43mfunc\u001b[49m\u001b[43m(\u001b[49m\u001b[38;5;241;43m*\u001b[39;49m\u001b[38;5;28;43mself\u001b[39;49m\u001b[38;5;241;43m.\u001b[39;49m\u001b[43margs\u001b[49m\u001b[43m,\u001b[49m\u001b[43m \u001b[49m\u001b[38;5;241;43m*\u001b[39;49m\u001b[43margs\u001b[49m\u001b[43m,\u001b[49m\u001b[43m \u001b[49m\u001b[38;5;241;43m*\u001b[39;49m\u001b[38;5;241;43m*\u001b[39;49m\u001b[43mkwargs\u001b[49m\u001b[43m,\u001b[49m\u001b[43m \u001b[49m\u001b[38;5;241;43m*\u001b[39;49m\u001b[38;5;241;43m*\u001b[39;49m\u001b[38;5;28;43mself\u001b[39;49m\u001b[38;5;241;43m.\u001b[39;49m\u001b[43mkeywords\u001b[49m\u001b[43m)\u001b[49m\n",
      "    \u001b[0;31m[... skipping hidden 15 frame]\u001b[0m\n",
      "File \u001b[0;32m/data/master/DS211/users/tb1009/GIT/ICE-NODE2/notebooks/cprd_dx/../../lib/ml/embeddings.py:104\u001b[0m, in \u001b[0;36mOutpatientEmbedding._embed_admission\u001b[0;34m(self, demo, dx_vec)\u001b[0m\n\u001b[1;32m    100\u001b[0m \u001b[38;5;129m@eqx\u001b[39m\u001b[38;5;241m.\u001b[39mfilter_jit\n\u001b[1;32m    101\u001b[0m \u001b[38;5;28;01mdef\u001b[39;00m \u001b[38;5;21m_embed_admission\u001b[39m(\u001b[38;5;28mself\u001b[39m, demo: jnp\u001b[38;5;241m.\u001b[39mndarray,\n\u001b[1;32m    102\u001b[0m                      dx_vec: jnp\u001b[38;5;241m.\u001b[39mndarray) \u001b[38;5;241m-\u001b[39m\u001b[38;5;241m>\u001b[39m EmbeddedOutAdmission:\n\u001b[1;32m    103\u001b[0m     dx_emb \u001b[38;5;241m=\u001b[39m \u001b[38;5;28mself\u001b[39m\u001b[38;5;241m.\u001b[39mf_dx_emb(dx_vec)\n\u001b[0;32m--> 104\u001b[0m     demo_e \u001b[38;5;241m=\u001b[39m \u001b[38;5;28;43mself\u001b[39;49m\u001b[38;5;241;43m.\u001b[39;49m\u001b[43mf_dem_emb\u001b[49m\u001b[43m(\u001b[49m\u001b[43mdemo\u001b[49m\u001b[43m)\u001b[49m\n\u001b[1;32m    105\u001b[0m     \u001b[38;5;28;01mreturn\u001b[39;00m EmbeddedOutAdmission(dx\u001b[38;5;241m=\u001b[39mdx_emb, demo\u001b[38;5;241m=\u001b[39mdemo_e)\n",
      "File \u001b[0;32m/data/master/DS211/users/tb1009/venv310-jax/lib/python3.10/site-packages/equinox/nn/_composed.py:118\u001b[0m, in \u001b[0;36mMLP.__call__\u001b[0;34m(self, x, key)\u001b[0m\n\u001b[1;32m    106\u001b[0m \u001b[38;5;124;03m\"\"\"**Arguments:**\u001b[39;00m\n\u001b[1;32m    107\u001b[0m \n\u001b[1;32m    108\u001b[0m \u001b[38;5;124;03m- `x`: A JAX array with shape `(in_size,)`. (Or shape `()` if\u001b[39;00m\n\u001b[0;32m   (...)\u001b[0m\n\u001b[1;32m    115\u001b[0m \u001b[38;5;124;03mA JAX array with shape `(out_size,)`. (Or shape `()` if `out_size=\"scalar\"`.)\u001b[39;00m\n\u001b[1;32m    116\u001b[0m \u001b[38;5;124;03m\"\"\"\u001b[39;00m\n\u001b[1;32m    117\u001b[0m \u001b[38;5;28;01mfor\u001b[39;00m layer \u001b[38;5;129;01min\u001b[39;00m \u001b[38;5;28mself\u001b[39m\u001b[38;5;241m.\u001b[39mlayers[:\u001b[38;5;241m-\u001b[39m\u001b[38;5;241m1\u001b[39m]:\n\u001b[0;32m--> 118\u001b[0m     x \u001b[38;5;241m=\u001b[39m \u001b[43mlayer\u001b[49m\u001b[43m(\u001b[49m\u001b[43mx\u001b[49m\u001b[43m)\u001b[49m\n\u001b[1;32m    119\u001b[0m     x \u001b[38;5;241m=\u001b[39m \u001b[38;5;28mself\u001b[39m\u001b[38;5;241m.\u001b[39mactivation(x)\n\u001b[1;32m    120\u001b[0m x \u001b[38;5;241m=\u001b[39m \u001b[38;5;28mself\u001b[39m\u001b[38;5;241m.\u001b[39mlayers[\u001b[38;5;241m-\u001b[39m\u001b[38;5;241m1\u001b[39m](x)\n",
      "File \u001b[0;32m/data/master/DS211/users/tb1009/venv310-jax/lib/python3.10/site-packages/equinox/nn/_linear.py:90\u001b[0m, in \u001b[0;36mLinear.__call__\u001b[0;34m(self, x, key)\u001b[0m\n\u001b[1;32m     88\u001b[0m         \u001b[38;5;28;01mraise\u001b[39;00m \u001b[38;5;167;01mValueError\u001b[39;00m(\u001b[38;5;124m\"\u001b[39m\u001b[38;5;124mx must have scalar shape\u001b[39m\u001b[38;5;124m\"\u001b[39m)\n\u001b[1;32m     89\u001b[0m     x \u001b[38;5;241m=\u001b[39m jnp\u001b[38;5;241m.\u001b[39mbroadcast_to(x, (\u001b[38;5;241m1\u001b[39m,))\n\u001b[0;32m---> 90\u001b[0m x \u001b[38;5;241m=\u001b[39m \u001b[38;5;28;43mself\u001b[39;49m\u001b[38;5;241;43m.\u001b[39;49m\u001b[43mweight\u001b[49m\u001b[43m \u001b[49m\u001b[38;5;241;43m@\u001b[39;49m\u001b[43m \u001b[49m\u001b[43mx\u001b[49m\n\u001b[1;32m     91\u001b[0m \u001b[38;5;28;01mif\u001b[39;00m \u001b[38;5;28mself\u001b[39m\u001b[38;5;241m.\u001b[39mbias \u001b[38;5;129;01mis\u001b[39;00m \u001b[38;5;129;01mnot\u001b[39;00m \u001b[38;5;28;01mNone\u001b[39;00m:\n\u001b[1;32m     92\u001b[0m     x \u001b[38;5;241m=\u001b[39m x \u001b[38;5;241m+\u001b[39m \u001b[38;5;28mself\u001b[39m\u001b[38;5;241m.\u001b[39mbias\n",
      "File \u001b[0;32m/data/master/DS211/users/tb1009/venv310-jax/lib/python3.10/site-packages/jax/_src/numpy/array_methods.py:723\u001b[0m, in \u001b[0;36m_forward_operator_to_aval.<locals>.op\u001b[0;34m(self, *args)\u001b[0m\n\u001b[1;32m    722\u001b[0m \u001b[38;5;28;01mdef\u001b[39;00m \u001b[38;5;21mop\u001b[39m(\u001b[38;5;28mself\u001b[39m, \u001b[38;5;241m*\u001b[39margs):\n\u001b[0;32m--> 723\u001b[0m   \u001b[38;5;28;01mreturn\u001b[39;00m \u001b[38;5;28;43mgetattr\u001b[39;49m\u001b[43m(\u001b[49m\u001b[38;5;28;43mself\u001b[39;49m\u001b[38;5;241;43m.\u001b[39;49m\u001b[43maval\u001b[49m\u001b[43m,\u001b[49m\u001b[43m \u001b[49m\u001b[38;5;124;43mf\u001b[39;49m\u001b[38;5;124;43m\"\u001b[39;49m\u001b[38;5;124;43m_\u001b[39;49m\u001b[38;5;132;43;01m{\u001b[39;49;00m\u001b[43mname\u001b[49m\u001b[38;5;132;43;01m}\u001b[39;49;00m\u001b[38;5;124;43m\"\u001b[39;49m\u001b[43m)\u001b[49m\u001b[43m(\u001b[49m\u001b[38;5;28;43mself\u001b[39;49m\u001b[43m,\u001b[49m\u001b[43m \u001b[49m\u001b[38;5;241;43m*\u001b[39;49m\u001b[43margs\u001b[49m\u001b[43m)\u001b[49m\n",
      "File \u001b[0;32m/data/master/DS211/users/tb1009/venv310-jax/lib/python3.10/site-packages/jax/_src/numpy/array_methods.py:256\u001b[0m, in \u001b[0;36m_defer_to_unrecognized_arg.<locals>.deferring_binary_op\u001b[0;34m(self, other)\u001b[0m\n\u001b[1;32m    254\u001b[0m args \u001b[38;5;241m=\u001b[39m (other, \u001b[38;5;28mself\u001b[39m) \u001b[38;5;28;01mif\u001b[39;00m swap \u001b[38;5;28;01melse\u001b[39;00m (\u001b[38;5;28mself\u001b[39m, other)\n\u001b[1;32m    255\u001b[0m \u001b[38;5;28;01mif\u001b[39;00m \u001b[38;5;28misinstance\u001b[39m(other, _accepted_binop_types):\n\u001b[0;32m--> 256\u001b[0m   \u001b[38;5;28;01mreturn\u001b[39;00m \u001b[43mbinary_op\u001b[49m\u001b[43m(\u001b[49m\u001b[38;5;241;43m*\u001b[39;49m\u001b[43margs\u001b[49m\u001b[43m)\u001b[49m\n\u001b[1;32m    257\u001b[0m \u001b[38;5;28;01mif\u001b[39;00m \u001b[38;5;28misinstance\u001b[39m(other, _rejected_binop_types):\n\u001b[1;32m    258\u001b[0m   \u001b[38;5;28;01mraise\u001b[39;00m \u001b[38;5;167;01mTypeError\u001b[39;00m(\u001b[38;5;124mf\u001b[39m\u001b[38;5;124m\"\u001b[39m\u001b[38;5;124munsupported operand type(s) for \u001b[39m\u001b[38;5;132;01m{\u001b[39;00mopchar\u001b[38;5;132;01m}\u001b[39;00m\u001b[38;5;124m: \u001b[39m\u001b[38;5;124m\"\u001b[39m\n\u001b[1;32m    259\u001b[0m                   \u001b[38;5;124mf\u001b[39m\u001b[38;5;124m\"\u001b[39m\u001b[38;5;132;01m{\u001b[39;00m\u001b[38;5;28mtype\u001b[39m(args[\u001b[38;5;241m0\u001b[39m])\u001b[38;5;241m.\u001b[39m\u001b[38;5;18m__name__\u001b[39m\u001b[38;5;132;01m!r}\u001b[39;00m\u001b[38;5;124m and \u001b[39m\u001b[38;5;132;01m{\u001b[39;00m\u001b[38;5;28mtype\u001b[39m(args[\u001b[38;5;241m1\u001b[39m])\u001b[38;5;241m.\u001b[39m\u001b[38;5;18m__name__\u001b[39m\u001b[38;5;132;01m!r}\u001b[39;00m\u001b[38;5;124m\"\u001b[39m)\n",
      "    \u001b[0;31m[... skipping hidden 12 frame]\u001b[0m\n",
      "File \u001b[0;32m/data/master/DS211/users/tb1009/venv310-jax/lib/python3.10/site-packages/jax/_src/numpy/lax_numpy.py:3134\u001b[0m, in \u001b[0;36mmatmul\u001b[0;34m(a, b, precision)\u001b[0m\n\u001b[1;32m   3132\u001b[0m a \u001b[38;5;241m=\u001b[39m lax\u001b[38;5;241m.\u001b[39msqueeze(a, \u001b[38;5;28mtuple\u001b[39m(a_squeeze))\n\u001b[1;32m   3133\u001b[0m b \u001b[38;5;241m=\u001b[39m lax\u001b[38;5;241m.\u001b[39msqueeze(b, \u001b[38;5;28mtuple\u001b[39m(b_squeeze))\n\u001b[0;32m-> 3134\u001b[0m out \u001b[38;5;241m=\u001b[39m \u001b[43mlax\u001b[49m\u001b[38;5;241;43m.\u001b[39;49m\u001b[43mdot_general\u001b[49m\u001b[43m(\u001b[49m\n\u001b[1;32m   3135\u001b[0m \u001b[43m  \u001b[49m\u001b[43ma\u001b[49m\u001b[43m,\u001b[49m\u001b[43m \u001b[49m\u001b[43mb\u001b[49m\u001b[43m,\u001b[49m\u001b[43m \u001b[49m\u001b[43m(\u001b[49m\u001b[43m(\u001b[49m\u001b[43m(\u001b[49m\u001b[43mndim\u001b[49m\u001b[43m(\u001b[49m\u001b[43ma\u001b[49m\u001b[43m)\u001b[49m\u001b[43m \u001b[49m\u001b[38;5;241;43m-\u001b[39;49m\u001b[43m \u001b[49m\u001b[38;5;241;43m1\u001b[39;49m\u001b[43m,\u001b[49m\u001b[43m)\u001b[49m\u001b[43m,\u001b[49m\u001b[43m \u001b[49m\u001b[43m(\u001b[49m\u001b[43mndim\u001b[49m\u001b[43m(\u001b[49m\u001b[43mb\u001b[49m\u001b[43m)\u001b[49m\u001b[43m \u001b[49m\u001b[38;5;241;43m-\u001b[39;49m\u001b[43m \u001b[49m\u001b[38;5;241;43m1\u001b[39;49m\u001b[43m \u001b[49m\u001b[38;5;241;43m-\u001b[39;49m\u001b[43m \u001b[49m\u001b[43mb_is_mat\u001b[49m\u001b[43m,\u001b[49m\u001b[43m)\u001b[49m\u001b[43m)\u001b[49m\u001b[43m,\u001b[49m\u001b[43m \u001b[49m\u001b[43m(\u001b[49m\u001b[43ma_batch\u001b[49m\u001b[43m,\u001b[49m\u001b[43m \u001b[49m\u001b[43mb_batch\u001b[49m\u001b[43m)\u001b[49m\u001b[43m)\u001b[49m\u001b[43m,\u001b[49m\n\u001b[1;32m   3136\u001b[0m \u001b[43m  \u001b[49m\u001b[43mprecision\u001b[49m\u001b[38;5;241;43m=\u001b[39;49m\u001b[43mprecision\u001b[49m\u001b[43m)\u001b[49m\n\u001b[1;32m   3137\u001b[0m \u001b[38;5;28;01mreturn\u001b[39;00m lax\u001b[38;5;241m.\u001b[39mtranspose(out, perm)\n",
      "    \u001b[0;31m[... skipping hidden 7 frame]\u001b[0m\n",
      "File \u001b[0;32m/data/master/DS211/users/tb1009/venv310-jax/lib/python3.10/site-packages/jax/_src/lax/lax.py:2508\u001b[0m, in \u001b[0;36m_dot_general_shape_rule\u001b[0;34m(lhs, rhs, dimension_numbers, precision, preferred_element_type)\u001b[0m\n\u001b[1;32m   2505\u001b[0m \u001b[38;5;28;01mif\u001b[39;00m \u001b[38;5;129;01mnot\u001b[39;00m core\u001b[38;5;241m.\u001b[39mdefinitely_equal_shape(lhs_contracting_shape, rhs_contracting_shape):\n\u001b[1;32m   2506\u001b[0m   msg \u001b[38;5;241m=\u001b[39m (\u001b[38;5;124m\"\u001b[39m\u001b[38;5;124mdot_general requires contracting dimensions to have the same \u001b[39m\u001b[38;5;124m\"\u001b[39m\n\u001b[1;32m   2507\u001b[0m          \u001b[38;5;124m\"\u001b[39m\u001b[38;5;124mshape, got \u001b[39m\u001b[38;5;132;01m{}\u001b[39;00m\u001b[38;5;124m and \u001b[39m\u001b[38;5;132;01m{}\u001b[39;00m\u001b[38;5;124m.\u001b[39m\u001b[38;5;124m\"\u001b[39m)\n\u001b[0;32m-> 2508\u001b[0m   \u001b[38;5;28;01mraise\u001b[39;00m \u001b[38;5;167;01mTypeError\u001b[39;00m(msg\u001b[38;5;241m.\u001b[39mformat(lhs_contracting_shape, rhs_contracting_shape))\n\u001b[1;32m   2510\u001b[0m \u001b[38;5;28;01mreturn\u001b[39;00m _dot_general_shape_computation(lhs\u001b[38;5;241m.\u001b[39mshape, rhs\u001b[38;5;241m.\u001b[39mshape, dimension_numbers)\n",
      "\u001b[0;31mTypeError\u001b[0m: dot_general requires contracting dimensions to have the same shape, got (20,) and (10,)."
     ]
    }
   ],
   "source": [
    "res = trainer(m, cprd_patients, \n",
    "              splits=splits,\n",
    "              reporting=reporting,\n",
    "              n_evals=100,\n",
    "              warmup_config=None,\n",
    "              continue_training=False)"
   ]
  },
  {
   "cell_type": "code",
   "execution_count": 17,
   "id": "c3e6a55f",
   "metadata": {},
   "outputs": [
    {
     "data": {
      "text/plain": [
       "20"
      ]
     },
     "execution_count": 17,
     "metadata": {},
     "output_type": "execute_result"
    }
   ],
   "source": [
    "cprd_patients.scheme.demographic_vector_size(demographic_vector_conf)"
   ]
  },
  {
   "cell_type": "code",
   "execution_count": null,
   "id": "8a776a2a",
   "metadata": {},
   "outputs": [],
   "source": [
    "cprd_patients.subjects[splits[0][0]]"
   ]
  }
 ],
 "metadata": {
  "kernelspec": {
   "display_name": "venv310-jax",
   "language": "python",
   "name": "venv310-jax"
  },
  "language_info": {
   "codemirror_mode": {
    "name": "ipython",
    "version": 3
   },
   "file_extension": ".py",
   "mimetype": "text/x-python",
   "name": "python",
   "nbconvert_exporter": "python",
   "pygments_lexer": "ipython3",
   "version": "3.10.9"
  }
 },
 "nbformat": 4,
 "nbformat_minor": 5
}
