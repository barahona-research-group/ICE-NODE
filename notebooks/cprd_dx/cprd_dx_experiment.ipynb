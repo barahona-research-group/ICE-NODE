{
 "cells": [
  {
   "cell_type": "code",
   "execution_count": null,
   "id": "ab383786",
   "metadata": {},
   "outputs": [],
   "source": [
    "%load_ext autoreload\n",
    "%autoreload 2\n",
    "import sys\n",
    "import os\n",
    "import glob\n",
    "import random\n",
    "from collections import defaultdict\n",
    "from pathlib import Path\n",
    "\n",
    "from IPython.display import display\n",
    "\n",
    "import pandas as pd\n",
    "import dask\n",
    "\n",
    "from tqdm import tqdm\n",
    "import jax\n",
    "jax.config.update('jax_platform_name', 'cpu')\n",
    "# jax.config.update('jax_log_compiles', True)\n",
    "# jax.config.update(\"jax_debug_nans\", True)\n",
    "# jax.config.update(\"jax_enable_x64\", True)"
   ]
  },
  {
   "cell_type": "code",
   "execution_count": null,
   "id": "c83480cb",
   "metadata": {},
   "outputs": [],
   "source": [
    "\n",
    "\n",
    "sys.path.append(\"../..\")\n",
    "\n",
    "from lib import utils as U\n",
    "from lib.ehr import load_dataset, load_dataset_scheme, load_dataset_config, Dataset\n",
    "from lib.ehr.interface import Patients, InterfaceConfig\n",
    "from lib.ehr.concepts import CPRDDemographicVectorConfig, DemographicVectorConfig\n"
   ]
  },
  {
   "cell_type": "code",
   "execution_count": null,
   "id": "99451f48",
   "metadata": {},
   "outputs": [],
   "source": [
    "import logging\n",
    "logging.root.level = logging.INFO"
   ]
  },
  {
   "cell_type": "code",
   "execution_count": null,
   "id": "c2a0fd91",
   "metadata": {},
   "outputs": [],
   "source": [
    "tag = 'CPRD'\n",
    "PATH = f'{os.environ.get(\"HOME\")}/GP/ehr-data/cprd-data/DUMMY_DATA.csv'\n",
    "# PATH = f'{HOME}/Documents/DS211/users/tb1009/DATA/PAT_COHORT/ICENODE_SUBSET_1000.csv'\n",
    "sample = None\n",
    "cache =  f'cached_inteface/patients_{tag}_{sample or \"\"}'\n",
    "dataset_config = load_dataset_config(tag, \n",
    "                                     sample=sample,\n",
    "                                     path=PATH)\n",
    "output_dir = f'icenode_{tag}_{sample or \"\"}'"
   ]
  },
  {
   "cell_type": "markdown",
   "id": "a784b45c",
   "metadata": {},
   "source": [
    "##### Possible Interface Scheme Configurations"
   ]
  },
  {
   "cell_type": "code",
   "execution_count": null,
   "id": "3c1b3f89",
   "metadata": {},
   "outputs": [],
   "source": [
    "import json\n",
    "dataset_scheme = load_dataset_scheme(tag)\n",
    "interface_schem_options = dataset_scheme.supported_target_scheme_options\n",
    "print(json.dumps(interface_schem_options, sort_keys=True, indent=4))"
   ]
  },
  {
   "cell_type": "code",
   "execution_count": null,
   "id": "95c3df4c",
   "metadata": {},
   "outputs": [],
   "source": [
    "# Demographic vector attributes\n",
    "demographic_vector_conf = CPRDDemographicVectorConfig(age=True,\n",
    "                                                      gender=True,\n",
    "                                                      ethnicity=True,\n",
    "                                                      imd=True)\n",
    "\n",
    "interface_scheme = dataset_scheme.make_target_scheme_config(dx='DxLTC9809FlatMedcodes',\n",
    "                                                            #outcome='dx_cprd_ltc212',\n",
    "                                                            outcome='dx_cprd_ltc9809',\n",
    "                                                            ethnicity='CPRDEthnicity5')\n",
    "interface_config = InterfaceConfig(scheme=interface_scheme,\n",
    "                                   dataset_scheme=dataset_scheme,\n",
    "                                   demographic_vector=demographic_vector_conf,\n",
    "                                   cache=cache)"
   ]
  },
  {
   "cell_type": "code",
   "execution_count": null,
   "id": "e2bf7879",
   "metadata": {},
   "outputs": [],
   "source": [
    "from lib.ml import (ICENODE, ICENODEConfig, GRU, GRUConfig, RETAIN, RETAINConfig,\n",
    "                    OutpatientEmbeddingConfig,  SplitConfig, ICENODERegularisation,\n",
    "                    Trainer, TrainerConfig, TrainerReporting, OptimizerConfig, WarmupConfig, ReportingConfig)\n",
    "from lib.metric import  (CodeAUC, UntilFirstCodeAUC, AdmissionAUC, CodeLevelMetricConfig, MetricLevelsConfig,\n",
    "                         LossMetricConfig,\n",
    "                      CodeGroupTopAlarmAccuracy, LossMetric, ObsCodeLevelLossMetric, CodeGroupTopAlarmAccuracyConfig)\n",
    "from lib.ml import Experiment, ExperimentConfig, SplitConfig\n",
    "\n",
    "import jax.random as jrandom"
   ]
  },
  {
   "cell_type": "code",
   "execution_count": null,
   "id": "c911e2f3",
   "metadata": {},
   "outputs": [],
   "source": [
    "emb_dims = OutpatientEmbeddingConfig(dx=50, demo=15)\n",
    "model_config = ICENODEConfig(mem=15, emb=emb_dims)\n",
    "model_classname = ICENODE.__name__\n",
    "model_regularisation = ICENODERegularisation(taylor_order=3, \n",
    "                                             L_taylor=5e2)"
   ]
  },
  {
   "cell_type": "code",
   "execution_count": null,
   "id": "efb7fcfe",
   "metadata": {},
   "outputs": [],
   "source": [
    "# emb_dims = OutpatientEmbeddingConfig(dx=50, demo=15)\n",
    "# model_config = GRUConfig(emb=emb_dims)\n",
    "# model_classname = GRU.__name__\n",
    "# model_regularisation = None"
   ]
  },
  {
   "cell_type": "code",
   "execution_count": null,
   "id": "238475c5",
   "metadata": {},
   "outputs": [],
   "source": [
    "# emb_dims = OutpatientEmbeddingConfig(dx=50, demo=15)\n",
    "# model_config = RETAINConfig(mem_a=15, mem_b=15, emb=emb_dims)\n",
    "# model_classname = RETAIN.__name__\n",
    "# model_regularisation = None"
   ]
  },
  {
   "cell_type": "code",
   "execution_count": null,
   "id": "44a83ffc",
   "metadata": {},
   "outputs": [],
   "source": [
    "output_dir = f'{model_classname}_{tag}_{sample or \"\"}'"
   ]
  },
  {
   "cell_type": "code",
   "execution_count": null,
   "id": "3658579e",
   "metadata": {
    "scrolled": true
   },
   "outputs": [],
   "source": [
    "trainer_config = TrainerConfig(optimizer=OptimizerConfig(opt='adam', lr=1e-3),\n",
    "                          epochs=80,\n",
    "                          batch_size=128,\n",
    "                          dx_loss='balanced_focal_bce',\n",
    "                          obs_loss='mse',\n",
    "                          lead_loss='mse')\n",
    "\n",
    "warmup = WarmupConfig(epochs=0.1, \n",
    "                      batch_size=8,\n",
    "                      opt='adam', lr=1e-3, \n",
    "                      decay_rate=0.5)\n",
    "\n",
    "\n"
   ]
  },
  {
   "cell_type": "code",
   "execution_count": null,
   "id": "2e6b76b0",
   "metadata": {},
   "outputs": [],
   "source": [
    "dx_loss = [\"softmax_bce\", \"balanced_focal_softmax_bce\", \"balanced_focal_bce\",\n",
    "          \"allpairs_exp_rank\", \"allpairs_hard_rank\", \"allpairs_sigmoid_rank\"]\n",
    "obs_loss =  [\"mse\", \"mae\", \"rms\"]\n",
    "                \n",
    "metrics_conf = [\n",
    "    (CodeAUC, CodeLevelMetricConfig(aggregate_level=True, code_level=True)),\n",
    "    (AdmissionAUC, MetricLevelsConfig(admission=False, aggregate=True, subject_aggregate=False)),\n",
    "    (CodeGroupTopAlarmAccuracy, CodeGroupTopAlarmAccuracyConfig(n_partitions=5, top_k_list=[3, 5, 10, 15, 20])),\n",
    "    (LossMetric, LossMetricConfig(dx_loss=dx_loss))\n",
    "]\n",
    "metrics_conf = [m.export_module_class(c) for m, c in metrics_conf]"
   ]
  },
  {
   "cell_type": "code",
   "execution_count": null,
   "id": "ca273800",
   "metadata": {},
   "outputs": [],
   "source": [
    "reporting_conf = ReportingConfig(output_dir=output_dir,\n",
    "                                 console=True,\n",
    "                                 model_stats=False,\n",
    "                                 parameter_snapshots=True,\n",
    "                                 config_json=True)"
   ]
  },
  {
   "cell_type": "code",
   "execution_count": null,
   "id": "e63cb1bb",
   "metadata": {},
   "outputs": [],
   "source": [
    "expt_config = ExperimentConfig(dataset=dataset_config,\n",
    "                              interface=interface_config,\n",
    "                              split=SplitConfig(train=0.8, val=0.1, test=0.1, balanced='admissions'),\n",
    "                              trainer=trainer_config,\n",
    "                              metrics=metrics_conf,\n",
    "                              reporting=reporting_conf,\n",
    "                              model=model_config,\n",
    "                              model_classname=model_classname,\n",
    "                              n_evals=100,\n",
    "                              continue_training=True,\n",
    "                              warmup=None,\n",
    "                              reg_hyperparams=model_regularisation)"
   ]
  },
  {
   "cell_type": "code",
   "execution_count": null,
   "id": "d54fa93a",
   "metadata": {},
   "outputs": [],
   "source": [
    "experiment = Experiment(expt_config)"
   ]
  },
  {
   "cell_type": "code",
   "execution_count": null,
   "id": "867c1824",
   "metadata": {},
   "outputs": [],
   "source": [
    "expt_config"
   ]
  },
  {
   "cell_type": "code",
   "execution_count": null,
   "id": "5eb21d77",
   "metadata": {},
   "outputs": [],
   "source": [
    "result = experiment.run()"
   ]
  },
  {
   "cell_type": "markdown",
   "id": "6ae45553",
   "metadata": {},
   "source": [
    "###### "
   ]
  },
  {
   "cell_type": "code",
   "execution_count": null,
   "id": "3bfdc78a",
   "metadata": {},
   "outputs": [],
   "source": []
  }
 ],
 "metadata": {
  "kernelspec": {
   "display_name": "Python 3 (ipykernel)",
   "language": "python",
   "name": "python3"
  },
  "language_info": {
   "codemirror_mode": {
    "name": "ipython",
    "version": 3
   },
   "file_extension": ".py",
   "mimetype": "text/x-python",
   "name": "python",
   "nbconvert_exporter": "python",
   "pygments_lexer": "ipython3",
   "version": "3.10.12"
  }
 },
 "nbformat": 4,
 "nbformat_minor": 5
}
