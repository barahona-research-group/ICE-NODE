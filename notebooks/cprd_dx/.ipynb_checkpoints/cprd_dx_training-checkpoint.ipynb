{
 "cells": [
  {
   "cell_type": "code",
   "execution_count": 1,
   "id": "4cfc614e",
   "metadata": {},
   "outputs": [],
   "source": [
    "%load_ext autoreload\n",
    "%autoreload 2\n",
    "import sys\n",
    "import os\n",
    "import glob\n",
    "import random\n",
    "from collections import defaultdict\n",
    "from pathlib import Path\n",
    "\n",
    "from IPython.display import display\n",
    "\n",
    "import pandas as pd\n",
    "import dask\n",
    "\n",
    "from tqdm import tqdm\n",
    "import jax\n",
    "jax.config.update('jax_platform_name', 'cpu')\n",
    "# jax.config.update('jax_log_compiles', True)\n",
    "# jax.config.update(\"jax_debug_nans\", True)\n",
    "# jax.config.update(\"jax_enable_x64\", True)"
   ]
  },
  {
   "cell_type": "code",
   "execution_count": 2,
   "id": "894a3743",
   "metadata": {},
   "outputs": [],
   "source": [
    "\n",
    "\n",
    "sys.path.append(\"../..\")\n",
    "\n",
    "from lib import utils as U\n",
    "from lib.ehr.dataset import load_dataset, load_dataset_scheme, Dataset\n",
    "from lib.ehr.interface import Patients\n",
    "from lib.ehr.concepts import CPRDDemographicVectorConfig, DemographicVectorConfig\n"
   ]
  },
  {
   "cell_type": "code",
   "execution_count": 3,
   "id": "8c176dbe",
   "metadata": {},
   "outputs": [],
   "source": [
    "import logging\n",
    "logging.root.level = logging.DEBUG"
   ]
  },
  {
   "cell_type": "code",
   "execution_count": 4,
   "id": "73b4ae66",
   "metadata": {},
   "outputs": [],
   "source": [
    "# Assign the folder of the dataset to `DATA_FILE`.\n",
    "\n",
    "HOME = os.environ.get('HOME')\n",
    "DATA_DIR = f'{HOME}/GP/ehr-data'\n",
    "SOURCE_DIR = os.path.abspath(\"..\")\n",
    "cache_to_disk = None #'cached_inteface/m4inpatients_8000'\n",
    "use_cached =  False # 'cached_inteface/m4inpatients_8000' #cache_to_disk        # False # \n",
    "cprd_interface_scheme = dict(dx='DxLTC212FlatCodes',\n",
    "                             outcome='dx_cprd_ltc212',\n",
    "#                              outcome='dx_cprd_ltc9809',\n",
    "                            ethnicity='CPRDEthnicity5')\n",
    "\n",
    "m3_interface_scheme = dict(dx='DxICD9',\n",
    "#                            dx='DxCCS',\n",
    "                           outcome='dx_flatccs_filter_v1',\n",
    "#                            outcome='dx_icd9_filter_v3_groups',\n",
    "                           ethnicity='MIMIC4Eth5'\n",
    "#                            ethnicity='MIMIC3Eth37'\n",
    "                          )"
   ]
  },
  {
   "cell_type": "code",
   "execution_count": null,
   "id": "d46d7c81",
   "metadata": {},
   "outputs": [
    {
     "name": "stderr",
     "output_type": "stream",
     "text": [
      "DEBUG:root:Loading dataframe files\n",
      "DEBUG:fsspec.local:open file: /home/asem/GP/ehr-data/mimic4-cohort/adm_df.csv\n",
      "DEBUG:fsspec.local:open file: /home/asem/GP/ehr-data/mimic4-cohort/dx_df.csv\n",
      "DEBUG:fsspec.local:open file: /home/asem/GP/ehr-data/mimic4-cohort/static_df.csv\n"
     ]
    }
   ],
   "source": [
    "if use_cached:\n",
    "    cprd_patients = Patients.load(use_cached)\n",
    "    splits = cprd_patients.dataset.random_splits([0.8, 0.9], random_seed=42, balanced='admissions')\n",
    "\n",
    "else:\n",
    "    with U.modified_environ(DATA_DIR=DATA_DIR), dask.config.set(scheduler='processes', num_workers=12):\n",
    "        \n",
    "        # Load dataset\n",
    "        cprd_dataset = load_dataset('M4', sample=1000)\n",
    "        # Use training-split for fitting the outlier_remover and the scalers.\n",
    "        splits = cprd_dataset.random_splits([0.8, 0.9], random_seed=42, balanced='admissions')\n",
    "\n",
    "        # Demographic vector attributes\n",
    "        demographic_vector_conf = DemographicVectorConfig(age=True,\n",
    "                                                          gender=True,\n",
    "                                                          ethnicity=True)\n",
    "        # Load interface\n",
    "        cprd_patients = Patients(cprd_dataset, demographic_vector_conf,\n",
    "                                **m3_interface_scheme).load_subjects(num_workers=12)\n",
    "\n",
    "        # Cache to disk\n",
    "#         cprd_patients.save(cache_to_disk, overwrite=True)"
   ]
  },
  {
   "cell_type": "code",
   "execution_count": 13,
   "id": "f1898f46",
   "metadata": {},
   "outputs": [
    {
     "data": {
      "text/plain": [
       "999"
      ]
     },
     "execution_count": 13,
     "metadata": {},
     "output_type": "execute_result"
    }
   ],
   "source": [
    "len(cprd_patients.subjects)"
   ]
  },
  {
   "cell_type": "code",
   "execution_count": 14,
   "id": "86e81c71",
   "metadata": {},
   "outputs": [],
   "source": [
    "from lib.ml import (ICENODE, ICENODEDimensions, OutpatientEmbeddingDimensions, \n",
    "                    Trainer, TrainerReporting, OptimizerConfig, WarmupConfig)\n",
    "from lib.metric import  (CodeAUC, UntilFirstCodeAUC, AdmissionAUC,\n",
    "                      CodeGroupTopAlarmAccuracy, LossMetric, ObsCodeLevelLossMetric)\n",
    "\n",
    "import jax.random as jrandom"
   ]
  },
  {
   "cell_type": "code",
   "execution_count": 15,
   "id": "c8d78296",
   "metadata": {},
   "outputs": [],
   "source": [
    "emb_dims = OutpatientEmbeddingDimensions(dx=30, demo=5)\n",
    "dims = ICENODEDimensions(mem=15, emb=emb_dims)\n",
    "key = jrandom.PRNGKey(0)\n",
    "\n",
    "m = ICENODE(dims=dims, \n",
    "              scheme=cprd_patients.dataset.scheme,\n",
    "              demographic_vector_config=cprd_patients.demographic_vector_config,\n",
    "              key=key)"
   ]
  },
  {
   "cell_type": "code",
   "execution_count": 16,
   "id": "9ccb6be2",
   "metadata": {},
   "outputs": [],
   "source": [
    "splits = cprd_patients.random_splits([0.9, 0.95], \n",
    "                                    balanced='admissions')\n",
    "\n",
    "trainer = Trainer(optimizer_config=OptimizerConfig(opt='adam', lr=1e-3),\n",
    "                    reg_hyperparams=None,\n",
    "                    epochs=80,\n",
    "                    batch_size=128,\n",
    "                    dx_loss='balanced_focal_softmax_bce')\n",
    "\n",
    "warmup = WarmupConfig(epochs=0.1, \n",
    "                      batch_size=8,\n",
    "                      opt='adam', lr=1e-3, \n",
    "                      decay_rate=0.5)\n",
    "\n",
    "loss_metric =  LossMetric(cprd_patients, \n",
    "                          dx_loss=('softmax_bce', 'balanced_focal_softmax_bce', \n",
    "                                   'balanced_focal_bce', 'allpairs_exp_rank', 'allpairs_hard_rank', \n",
    "                                   'allpairs_sigmoid_rank'))\n",
    "\n",
    "metrics = [CodeAUC(cprd_patients), \n",
    "           AdmissionAUC(cprd_patients), \n",
    "           CodeGroupTopAlarmAccuracy(cprd_patients, n_partitions=5, \n",
    "                                     top_k_list=[3, 5, 10, 15, 20],\n",
    "                                     train_split=splits[0]), \n",
    "           loss_metric]\n",
    "\n",
    "\n",
    "reporting = TrainerReporting(output_dir='dx_icenode',\n",
    "                             metrics=metrics,\n",
    "                             console=True,\n",
    "                             parameter_snapshots=True,\n",
    "                             config_json=True)"
   ]
  },
  {
   "cell_type": "code",
   "execution_count": 17,
   "id": "394a3a3f",
   "metadata": {},
   "outputs": [
    {
     "name": "stderr",
     "output_type": "stream",
     "text": [
      "INFO:root:Warming up...\n"
     ]
    },
    {
     "data": {
      "application/vnd.jupyter.widget-view+json": {
       "model_id": "",
       "version_major": 2,
       "version_minor": 0
      },
      "text/plain": [
       "Loading to device: 0subject [00:00, ?subject/s]"
      ]
     },
     "metadata": {},
     "output_type": "display_data"
    },
    {
     "data": {
      "application/vnd.jupyter.widget-view+json": {
       "model_id": "b1dad1c85bfc40fd81bb143fce8c0088",
       "version_major": 2,
       "version_minor": 0
      },
      "text/plain": [
       "  0%|          | 0/1 [00:00<?, ?Epoch/s]"
      ]
     },
     "metadata": {},
     "output_type": "display_data"
    },
    {
     "name": "stderr",
     "output_type": "stream",
     "text": [
      "WARNING:jax._src.dispatch:Finished tracing + transforming jit(convert_element_type) in 0.00022649765014648438 sec\n",
      "WARNING:jax._src.dispatch:Finished tracing + transforming _shuffle for pjit in 0.0006103515625 sec\n",
      "DEBUG:jax._src.interpreters.pxla:Compiling _shuffle for with global shapes and types [ShapedArray(key<fry>[]), ShapedArray(int32[89])]. Argument mapping: (GSPMDSharding({replicated}), GSPMDSharding({replicated})).\n",
      "WARNING:jax._src.dispatch:Finished tracing + transforming ravel for pjit in 0.0001780986785888672 sec\n",
      "WARNING:jax._src.dispatch:Finished tracing + transforming threefry_2x32 for pjit in 0.001956939697265625 sec\n",
      "WARNING:jax._src.dispatch:Finished tracing + transforming _threefry_random_bits_original for pjit in 0.0035309791564941406 sec\n",
      "WARNING:jax._src.dispatch:Finished tracing + transforming fn for pjit in 0.0003108978271484375 sec\n",
      "WARNING:jax._src.dispatch:Finished tracing + transforming fn for pjit in 0.0002956390380859375 sec\n",
      "WARNING:jax._src.dispatch:Finished tracing + transforming <lambda> for pjit in 0.0002579689025878906 sec\n",
      "WARNING:jax._src.dispatch:Finished tracing + transforming <lambda> for pjit in 0.00025391578674316406 sec\n",
      "WARNING:jax._src.dispatch:Finished jaxpr to MLIR module conversion jit(_shuffle) in 0.04415607452392578 sec\n",
      "DEBUG:jax._src.xla_bridge:get_compile_options: num_replicas=1 num_partitions=1 device_assignment=[[CpuDevice(id=0)]]\n",
      "WARNING:jax._src.dispatch:Finished XLA compilation of jit(_shuffle) in 0.09084391593933105 sec\n"
     ]
    },
    {
     "data": {
      "application/vnd.jupyter.widget-view+json": {
       "model_id": "5d791b183134416db2a0f26b5fdcbfee",
       "version_major": 2,
       "version_minor": 0
      },
      "text/plain": [
       "  0%|          | 0/47 [00:00<?, ?Batch/s]"
      ]
     },
     "metadata": {},
     "output_type": "display_data"
    },
    {
     "data": {
      "application/vnd.jupyter.widget-view+json": {
       "model_id": "",
       "version_major": 2,
       "version_minor": 0
      },
      "text/plain": [
       "Loading to device:   0%|          | 0/2 [00:00<?, ?subject/s]"
      ]
     },
     "metadata": {},
     "output_type": "display_data"
    },
    {
     "data": {
      "application/vnd.jupyter.widget-view+json": {
       "model_id": "",
       "version_major": 2,
       "version_minor": 0
      },
      "text/plain": [
       "Embedding:   0%|          | 0/2 [00:00<?, ?subject/s]"
      ]
     },
     "metadata": {},
     "output_type": "display_data"
    },
    {
     "data": {
      "application/vnd.jupyter.widget-view+json": {
       "model_id": "",
       "version_major": 2,
       "version_minor": 0
      },
      "text/plain": [
       "  0%|          | 0.00/1257.91 [00:00<?, ?longitudinal-days/s]"
      ]
     },
     "metadata": {},
     "output_type": "display_data"
    },
    {
     "name": "stderr",
     "output_type": "stream",
     "text": [
      "WARNING:jax._src.dispatch:Finished tracing + transforming _integrate for pjit in 0.004499673843383789 sec\n",
      "DEBUG:jax._src.interpreters.pxla:Compiling _integrate for with global shapes and types [ShapedArray(float32[225,50]), ShapedArray(float32[225]), ShapedArray(float32[225,225]), ShapedArray(float32[225]), ShapedArray(float32[45,225]), ShapedArray(float32[45]), ShapedArray(float32[45]), ShapedArray(float32[], weak_type=True), ShapedArray(float32[5])]. Argument mapping: (GSPMDSharding({replicated}), GSPMDSharding({replicated}), GSPMDSharding({replicated}), GSPMDSharding({replicated}), GSPMDSharding({replicated}), GSPMDSharding({replicated}), GSPMDSharding({replicated}), GSPMDSharding({replicated}), GSPMDSharding({replicated})).\n",
      "WARNING:jax._src.dispatch:Finished jaxpr to MLIR module conversion jit(_integrate) in 0.06527113914489746 sec\n",
      "DEBUG:jax._src.xla_bridge:get_compile_options: num_replicas=1 num_partitions=1 device_assignment=[[CpuDevice(id=0)]]\n",
      "WARNING:jax._src.dispatch:Finished XLA compilation of jit(_integrate) in 0.3079102039337158 sec\n",
      "WARNING:jax._src.dispatch:Finished tracing + transforming _decode for pjit in 0.002203702926635742 sec\n",
      "DEBUG:jax._src.interpreters.pxla:Compiling _decode for with global shapes and types [ShapedArray(float32[150,30]), ShapedArray(float32[150]), ShapedArray(float32[2081,150]), ShapedArray(float32[2081]), ShapedArray(float32[30])]. Argument mapping: (GSPMDSharding({replicated}), GSPMDSharding({replicated}), GSPMDSharding({replicated}), GSPMDSharding({replicated}), GSPMDSharding({replicated})).\n",
      "WARNING:jax._src.dispatch:Finished jaxpr to MLIR module conversion jit(_decode) in 0.0029206275939941406 sec\n",
      "DEBUG:jax._src.xla_bridge:get_compile_options: num_replicas=1 num_partitions=1 device_assignment=[[CpuDevice(id=0)]]\n",
      "WARNING:jax._src.dispatch:Finished XLA compilation of jit(_decode) in 0.05469083786010742 sec\n",
      "WARNING:jax._src.dispatch:Finished tracing + transforming _update for pjit in 0.00583338737487793 sec\n",
      "DEBUG:jax._src.interpreters.pxla:Compiling _update for with global shapes and types [ShapedArray(float32[30,60]), ShapedArray(float32[30]), ShapedArray(float32[45,30]), ShapedArray(float32[45,15]), ShapedArray(float32[45]), ShapedArray(float32[15]), ShapedArray(float32[15]), ShapedArray(float32[30]), ShapedArray(float32[30])]. Argument mapping: (GSPMDSharding({replicated}), GSPMDSharding({replicated}), GSPMDSharding({replicated}), GSPMDSharding({replicated}), GSPMDSharding({replicated}), GSPMDSharding({replicated}), GSPMDSharding({replicated}), GSPMDSharding({replicated}), GSPMDSharding({replicated})).\n",
      "WARNING:jax._src.dispatch:Finished jaxpr to MLIR module conversion jit(_update) in 0.0077953338623046875 sec\n",
      "DEBUG:jax._src.xla_bridge:get_compile_options: num_replicas=1 num_partitions=1 device_assignment=[[CpuDevice(id=0)]]\n",
      "WARNING:jax._src.dispatch:Finished XLA compilation of jit(_update) in 0.1047360897064209 sec\n",
      "WARNING:jax._src.dispatch:Finished tracing + transforming jit(concatenate) in 0.00018835067749023438 sec\n",
      "DEBUG:jax._src.interpreters.pxla:Compiling concatenate for with global shapes and types [ShapedArray(float32[1]), ShapedArray(float32[1])]. Argument mapping: (GSPMDSharding({replicated}), GSPMDSharding({replicated})).\n",
      "WARNING:jax._src.dispatch:Finished jaxpr to MLIR module conversion jit(concatenate) in 0.0011751651763916016 sec\n",
      "DEBUG:jax._src.xla_bridge:get_compile_options: num_replicas=1 num_partitions=1 device_assignment=[[CpuDevice(id=0)]]\n",
      "WARNING:jax._src.dispatch:Finished XLA compilation of jit(concatenate) in 0.004982709884643555 sec\n",
      "WARNING:jax._src.dispatch:Finished tracing + transforming jit(convert_element_type) in 0.0003476142883300781 sec\n",
      "WARNING:jax._src.dispatch:Finished tracing + transforming _reduce_sum for pjit in 0.00043129920959472656 sec\n",
      "WARNING:jax._src.dispatch:Finished tracing + transforming _broadcast_arrays for pjit in 0.000335693359375 sec\n",
      "WARNING:jax._src.dispatch:Finished tracing + transforming _where for pjit in 0.0013248920440673828 sec\n",
      "WARNING:jax._src.dispatch:Finished tracing + transforming _reduce_sum for pjit in 0.00037217140197753906 sec\n",
      "WARNING:jax._src.dispatch:Finished tracing + transforming nansum for pjit in 0.003276348114013672 sec\n",
      "WARNING:jax._src.dispatch:Finished tracing + transforming nanmean for pjit in 0.005585908889770508 sec\n",
      "DEBUG:jax._src.interpreters.pxla:Compiling nanmean for with global shapes and types [ShapedArray(float32[2])]. Argument mapping: (GSPMDSharding({replicated}),).\n",
      "WARNING:jax._src.dispatch:Finished jaxpr to MLIR module conversion jit(nanmean) in 0.0038247108459472656 sec\n",
      "DEBUG:jax._src.xla_bridge:get_compile_options: num_replicas=1 num_partitions=1 device_assignment=[[CpuDevice(id=0)]]\n",
      "WARNING:jax._src.dispatch:Finished XLA compilation of jit(nanmean) in 0.010271549224853516 sec\n",
      "DEBUG:jax._src.interpreters.pxla:Compiling nanmean for with global shapes and types [ShapedArray(bool[2]), ShapedArray(float32[]), ShapedArray(float32[])]. Argument mapping: (GSPMDSharding({replicated}), GSPMDSharding({replicated}), GSPMDSharding({replicated})).\n",
      "WARNING:jax._src.dispatch:Finished jaxpr to MLIR module conversion jit(nanmean) in 0.002997875213623047 sec\n",
      "DEBUG:jax._src.xla_bridge:get_compile_options: num_replicas=1 num_partitions=1 device_assignment=[[CpuDevice(id=0)]]\n",
      "WARNING:jax._src.dispatch:Finished XLA compilation of jit(nanmean) in 0.0074117183685302734 sec\n",
      "WARNING:jax._src.dispatch:Finished tracing + transforming jit(slice) in 0.0001990795135498047 sec\n",
      "DEBUG:jax._src.interpreters.pxla:Compiling slice for with global shapes and types [ShapedArray(float32[2])]. Argument mapping: (GSPMDSharding({replicated}),).\n",
      "WARNING:jax._src.dispatch:Finished jaxpr to MLIR module conversion jit(slice) in 0.001657247543334961 sec\n",
      "DEBUG:jax._src.xla_bridge:get_compile_options: num_replicas=1 num_partitions=1 device_assignment=[[CpuDevice(id=0)]]\n",
      "WARNING:jax._src.dispatch:Finished XLA compilation of jit(slice) in 0.005149364471435547 sec\n",
      "WARNING:jax._src.dispatch:Finished tracing + transforming jit(slice) in 0.00028896331787109375 sec\n",
      "DEBUG:jax._src.interpreters.pxla:Compiling slice for with global shapes and types [ShapedArray(float32[2])]. Argument mapping: (GSPMDSharding({replicated}),).\n",
      "WARNING:jax._src.dispatch:Finished jaxpr to MLIR module conversion jit(slice) in 0.001508474349975586 sec\n",
      "DEBUG:jax._src.xla_bridge:get_compile_options: num_replicas=1 num_partitions=1 device_assignment=[[CpuDevice(id=0)]]\n",
      "WARNING:jax._src.dispatch:Finished XLA compilation of jit(slice) in 0.0052356719970703125 sec\n",
      "DEBUG:jax._src.interpreters.pxla:Compiling _decode for with global shapes and types [ShapedArray(float32[150]), ShapedArray(float32[2081,150]), ShapedArray(bool[150]), ShapedArray(float32[30]), ShapedArray(float32[150,30]), ShapedArray(float32[2081])]. Argument mapping: (GSPMDSharding({replicated}), GSPMDSharding({replicated}), GSPMDSharding({replicated}), GSPMDSharding({replicated}), GSPMDSharding({replicated}), GSPMDSharding({replicated})).\n",
      "WARNING:jax._src.dispatch:Finished jaxpr to MLIR module conversion jit(_decode) in 0.0022292137145996094 sec\n",
      "DEBUG:jax._src.xla_bridge:get_compile_options: num_replicas=1 num_partitions=1 device_assignment=[[CpuDevice(id=0)]]\n",
      "WARNING:jax._src.dispatch:Finished XLA compilation of jit(_decode) in 0.050734519958496094 sec\n",
      "DEBUG:jax._src.interpreters.pxla:Compiling _integrate for with global shapes and types [ShapedArray(float32[2,45]), ShapedArray(float32[2]), ShapedArray(float32[5]), ShapedArray(float32[225,50]), ShapedArray(float32[225]), ShapedArray(float32[225,225]), ShapedArray(float32[225]), ShapedArray(float32[45,225]), ShapedArray(float32[45]), ShapedArray(int32[]), ShapedArray(int32[]), ShapedArray(float32[45])]. Argument mapping: (GSPMDSharding({replicated}), GSPMDSharding({replicated}), GSPMDSharding({replicated}), GSPMDSharding({replicated}), GSPMDSharding({replicated}), GSPMDSharding({replicated}), GSPMDSharding({replicated}), GSPMDSharding({replicated}), GSPMDSharding({replicated}), GSPMDSharding({replicated}), GSPMDSharding({replicated}), GSPMDSharding({replicated})).\n",
      "WARNING:jax._src.dispatch:Finished jaxpr to MLIR module conversion jit(_integrate) in 0.12379121780395508 sec\n",
      "DEBUG:jax._src.xla_bridge:get_compile_options: num_replicas=1 num_partitions=1 device_assignment=[[CpuDevice(id=0)]]\n"
     ]
    },
    {
     "name": "stderr",
     "output_type": "stream",
     "text": [
      "WARNING:jax._src.dispatch:Finished XLA compilation of jit(_integrate) in 0.5276720523834229 sec\n",
      "WARNING:jax._src.dispatch:Finished tracing + transforming <lambda> for pjit in 0.00034427642822265625 sec\n",
      "DEBUG:jax._src.interpreters.pxla:Compiling <lambda> for with global shapes and types [ShapedArray(float32[150,17375])]. Argument mapping: (GSPMDSharding({replicated}),).\n",
      "WARNING:jax._src.dispatch:Finished jaxpr to MLIR module conversion jit(<lambda>) in 0.0012519359588623047 sec\n",
      "DEBUG:jax._src.xla_bridge:get_compile_options: num_replicas=1 num_partitions=1 device_assignment=[[CpuDevice(id=0)]]\n",
      "WARNING:jax._src.dispatch:Finished XLA compilation of jit(<lambda>) in 0.01064753532409668 sec\n",
      "WARNING:jax._src.dispatch:Finished tracing + transforming fn for pjit in 0.0004177093505859375 sec\n",
      "DEBUG:jax._src.interpreters.pxla:Compiling fn for with global shapes and types [ShapedArray(float32[150,17375]), ShapedArray(float32[], weak_type=True)]. Argument mapping: (GSPMDSharding({replicated}), GSPMDSharding({replicated})).\n",
      "WARNING:jax._src.dispatch:Finished jaxpr to MLIR module conversion jit(fn) in 0.0014011859893798828 sec\n",
      "DEBUG:jax._src.xla_bridge:get_compile_options: num_replicas=1 num_partitions=1 device_assignment=[[CpuDevice(id=0)]]\n",
      "WARNING:jax._src.dispatch:Finished XLA compilation of jit(fn) in 0.010557413101196289 sec\n",
      "WARNING:jax._src.dispatch:Finished tracing + transforming true_divide for pjit in 0.00038886070251464844 sec\n",
      "DEBUG:jax._src.interpreters.pxla:Compiling true_divide for with global shapes and types [ShapedArray(float32[150,17375]), ShapedArray(float32[150,17375])]. Argument mapping: (GSPMDSharding({replicated}), GSPMDSharding({replicated})).\n",
      "WARNING:jax._src.dispatch:Finished jaxpr to MLIR module conversion jit(true_divide) in 0.001173257827758789 sec\n",
      "DEBUG:jax._src.xla_bridge:get_compile_options: num_replicas=1 num_partitions=1 device_assignment=[[CpuDevice(id=0)]]\n",
      "WARNING:jax._src.dispatch:Finished XLA compilation of jit(true_divide) in 0.011052370071411133 sec\n",
      "WARNING:jax._src.dispatch:Finished tracing + transforming <lambda> for pjit in 0.0005769729614257812 sec\n",
      "DEBUG:jax._src.interpreters.pxla:Compiling <lambda> for with global shapes and types [ShapedArray(float32[150,17375]), ShapedArray(float32[150,17375])]. Argument mapping: (GSPMDSharding({replicated}), GSPMDSharding({replicated})).\n",
      "WARNING:jax._src.dispatch:Finished jaxpr to MLIR module conversion jit(<lambda>) in 0.0011813640594482422 sec\n",
      "DEBUG:jax._src.xla_bridge:get_compile_options: num_replicas=1 num_partitions=1 device_assignment=[[CpuDevice(id=0)]]\n",
      "WARNING:jax._src.dispatch:Finished XLA compilation of jit(<lambda>) in 0.011136293411254883 sec\n",
      "WARNING:jax._src.dispatch:Finished tracing + transforming fn for pjit in 0.0004115104675292969 sec\n",
      "DEBUG:jax._src.interpreters.pxla:Compiling fn for with global shapes and types [ShapedArray(float32[], weak_type=True), ShapedArray(float32[150])]. Argument mapping: (GSPMDSharding({replicated}), GSPMDSharding({replicated})).\n",
      "WARNING:jax._src.dispatch:Finished jaxpr to MLIR module conversion jit(fn) in 0.001333475112915039 sec\n",
      "DEBUG:jax._src.xla_bridge:get_compile_options: num_replicas=1 num_partitions=1 device_assignment=[[CpuDevice(id=0)]]\n",
      "WARNING:jax._src.dispatch:Finished XLA compilation of jit(fn) in 0.007055044174194336 sec\n",
      "DEBUG:jax._src.interpreters.pxla:Compiling fn for with global shapes and types [ShapedArray(float32[150]), ShapedArray(float32[150])]. Argument mapping: (GSPMDSharding({replicated}), GSPMDSharding({replicated})).\n",
      "WARNING:jax._src.dispatch:Finished jaxpr to MLIR module conversion jit(fn) in 0.001275777816772461 sec\n",
      "DEBUG:jax._src.xla_bridge:get_compile_options: num_replicas=1 num_partitions=1 device_assignment=[[CpuDevice(id=0)]]\n",
      "WARNING:jax._src.dispatch:Finished XLA compilation of jit(fn) in 0.007222175598144531 sec\n",
      "WARNING:jax._src.dispatch:Finished tracing + transforming square for pjit in 0.00030922889709472656 sec\n",
      "DEBUG:jax._src.interpreters.pxla:Compiling square for with global shapes and types [ShapedArray(float32[150])]. Argument mapping: (GSPMDSharding({replicated}),).\n",
      "WARNING:jax._src.dispatch:Finished jaxpr to MLIR module conversion jit(square) in 0.001585245132446289 sec\n",
      "DEBUG:jax._src.xla_bridge:get_compile_options: num_replicas=1 num_partitions=1 device_assignment=[[CpuDevice(id=0)]]\n",
      "WARNING:jax._src.dispatch:Finished XLA compilation of jit(square) in 0.006949663162231445 sec\n",
      "WARNING:jax._src.dispatch:Finished tracing + transforming true_divide for pjit in 0.000335693359375 sec\n",
      "DEBUG:jax._src.interpreters.pxla:Compiling true_divide for with global shapes and types [ShapedArray(float32[150]), ShapedArray(float32[])]. Argument mapping: (GSPMDSharding({replicated}), GSPMDSharding({replicated})).\n",
      "WARNING:jax._src.dispatch:Finished jaxpr to MLIR module conversion jit(true_divide) in 0.0012941360473632812 sec\n",
      "DEBUG:jax._src.xla_bridge:get_compile_options: num_replicas=1 num_partitions=1 device_assignment=[[CpuDevice(id=0)]]\n",
      "WARNING:jax._src.dispatch:Finished XLA compilation of jit(true_divide) in 0.007235288619995117 sec\n",
      "WARNING:jax._src.dispatch:Finished tracing + transforming <lambda> for pjit in 0.00029349327087402344 sec\n",
      "DEBUG:jax._src.interpreters.pxla:Compiling <lambda> for with global shapes and types [ShapedArray(float32[150])]. Argument mapping: (GSPMDSharding({replicated}),).\n",
      "WARNING:jax._src.dispatch:Finished jaxpr to MLIR module conversion jit(<lambda>) in 0.0011887550354003906 sec\n",
      "DEBUG:jax._src.xla_bridge:get_compile_options: num_replicas=1 num_partitions=1 device_assignment=[[CpuDevice(id=0)]]\n",
      "WARNING:jax._src.dispatch:Finished XLA compilation of jit(<lambda>) in 0.0069277286529541016 sec\n",
      "WARNING:jax._src.dispatch:Finished tracing + transforming fn for pjit in 0.00041031837463378906 sec\n",
      "DEBUG:jax._src.interpreters.pxla:Compiling fn for with global shapes and types [ShapedArray(float32[150]), ShapedArray(float32[], weak_type=True)]. Argument mapping: (GSPMDSharding({replicated}), GSPMDSharding({replicated})).\n",
      "WARNING:jax._src.dispatch:Finished jaxpr to MLIR module conversion jit(fn) in 0.0016608238220214844 sec\n",
      "DEBUG:jax._src.xla_bridge:get_compile_options: num_replicas=1 num_partitions=1 device_assignment=[[CpuDevice(id=0)]]\n",
      "WARNING:jax._src.dispatch:Finished XLA compilation of jit(fn) in 0.0071299076080322266 sec\n",
      "WARNING:jax._src.dispatch:Finished tracing + transforming true_divide for pjit in 0.0003604888916015625 sec\n",
      "DEBUG:jax._src.interpreters.pxla:Compiling true_divide for with global shapes and types [ShapedArray(float32[150]), ShapedArray(float32[150])]. Argument mapping: (GSPMDSharding({replicated}), GSPMDSharding({replicated})).\n",
      "WARNING:jax._src.dispatch:Finished jaxpr to MLIR module conversion jit(true_divide) in 0.001116037368774414 sec\n",
      "DEBUG:jax._src.xla_bridge:get_compile_options: num_replicas=1 num_partitions=1 device_assignment=[[CpuDevice(id=0)]]\n",
      "WARNING:jax._src.dispatch:Finished XLA compilation of jit(true_divide) in 0.007311105728149414 sec\n",
      "WARNING:jax._src.dispatch:Finished tracing + transforming <lambda> for pjit in 0.0003654956817626953 sec\n",
      "DEBUG:jax._src.interpreters.pxla:Compiling <lambda> for with global shapes and types [ShapedArray(float32[150]), ShapedArray(float32[150])]. Argument mapping: (GSPMDSharding({replicated}), GSPMDSharding({replicated})).\n",
      "WARNING:jax._src.dispatch:Finished jaxpr to MLIR module conversion jit(<lambda>) in 0.001210927963256836 sec\n",
      "DEBUG:jax._src.xla_bridge:get_compile_options: num_replicas=1 num_partitions=1 device_assignment=[[CpuDevice(id=0)]]\n",
      "WARNING:jax._src.dispatch:Finished XLA compilation of jit(<lambda>) in 0.007182121276855469 sec\n",
      "WARNING:jax._src.dispatch:Finished tracing + transforming fn for pjit in 0.00044727325439453125 sec\n",
      "DEBUG:jax._src.interpreters.pxla:Compiling fn for with global shapes and types [ShapedArray(float32[], weak_type=True), ShapedArray(float32[30,150])]. Argument mapping: (GSPMDSharding({replicated}), GSPMDSharding({replicated})).\n",
      "WARNING:jax._src.dispatch:Finished jaxpr to MLIR module conversion jit(fn) in 0.0019562244415283203 sec\n",
      "DEBUG:jax._src.xla_bridge:get_compile_options: num_replicas=1 num_partitions=1 device_assignment=[[CpuDevice(id=0)]]\n",
      "WARNING:jax._src.dispatch:Finished XLA compilation of jit(fn) in 0.008165597915649414 sec\n"
     ]
    },
    {
     "name": "stderr",
     "output_type": "stream",
     "text": [
      "WARNING:jax._src.dispatch:Finished tracing + transforming fn for pjit in 0.0003650188446044922 sec\n",
      "DEBUG:jax._src.interpreters.pxla:Compiling fn for with global shapes and types [ShapedArray(float32[30,150]), ShapedArray(float32[30,150])]. Argument mapping: (GSPMDSharding({replicated}), GSPMDSharding({replicated})).\n",
      "WARNING:jax._src.dispatch:Finished jaxpr to MLIR module conversion jit(fn) in 0.0011396408081054688 sec\n",
      "DEBUG:jax._src.xla_bridge:get_compile_options: num_replicas=1 num_partitions=1 device_assignment=[[CpuDevice(id=0)]]\n",
      "WARNING:jax._src.dispatch:Finished XLA compilation of jit(fn) in 0.008547067642211914 sec\n",
      "WARNING:jax._src.dispatch:Finished tracing + transforming square for pjit in 0.0003120899200439453 sec\n",
      "DEBUG:jax._src.interpreters.pxla:Compiling square for with global shapes and types [ShapedArray(float32[30,150])]. Argument mapping: (GSPMDSharding({replicated}),).\n",
      "WARNING:jax._src.dispatch:Finished jaxpr to MLIR module conversion jit(square) in 0.0014579296112060547 sec\n",
      "DEBUG:jax._src.xla_bridge:get_compile_options: num_replicas=1 num_partitions=1 device_assignment=[[CpuDevice(id=0)]]\n",
      "WARNING:jax._src.dispatch:Finished XLA compilation of jit(square) in 0.007989168167114258 sec\n",
      "WARNING:jax._src.dispatch:Finished tracing + transforming true_divide for pjit in 0.00034737586975097656 sec\n",
      "DEBUG:jax._src.interpreters.pxla:Compiling true_divide for with global shapes and types [ShapedArray(float32[30,150]), ShapedArray(float32[])]. Argument mapping: (GSPMDSharding({replicated}), GSPMDSharding({replicated})).\n",
      "WARNING:jax._src.dispatch:Finished jaxpr to MLIR module conversion jit(true_divide) in 0.0012667179107666016 sec\n",
      "DEBUG:jax._src.xla_bridge:get_compile_options: num_replicas=1 num_partitions=1 device_assignment=[[CpuDevice(id=0)]]\n",
      "WARNING:jax._src.dispatch:Finished XLA compilation of jit(true_divide) in 0.008153915405273438 sec\n",
      "WARNING:jax._src.dispatch:Finished tracing + transforming <lambda> for pjit in 0.0003063678741455078 sec\n",
      "DEBUG:jax._src.interpreters.pxla:Compiling <lambda> for with global shapes and types [ShapedArray(float32[30,150])]. Argument mapping: (GSPMDSharding({replicated}),).\n",
      "WARNING:jax._src.dispatch:Finished jaxpr to MLIR module conversion jit(<lambda>) in 0.0011398792266845703 sec\n",
      "DEBUG:jax._src.xla_bridge:get_compile_options: num_replicas=1 num_partitions=1 device_assignment=[[CpuDevice(id=0)]]\n",
      "WARNING:jax._src.dispatch:Finished XLA compilation of jit(<lambda>) in 0.007865428924560547 sec\n",
      "WARNING:jax._src.dispatch:Finished tracing + transforming fn for pjit in 0.0004296302795410156 sec\n",
      "DEBUG:jax._src.interpreters.pxla:Compiling fn for with global shapes and types [ShapedArray(float32[30,150]), ShapedArray(float32[], weak_type=True)]. Argument mapping: (GSPMDSharding({replicated}), GSPMDSharding({replicated})).\n",
      "WARNING:jax._src.dispatch:Finished jaxpr to MLIR module conversion jit(fn) in 0.0012998580932617188 sec\n",
      "DEBUG:jax._src.xla_bridge:get_compile_options: num_replicas=1 num_partitions=1 device_assignment=[[CpuDevice(id=0)]]\n",
      "WARNING:jax._src.dispatch:Finished XLA compilation of jit(fn) in 0.008125543594360352 sec\n",
      "WARNING:jax._src.dispatch:Finished tracing + transforming true_divide for pjit in 0.00036454200744628906 sec\n",
      "DEBUG:jax._src.interpreters.pxla:Compiling true_divide for with global shapes and types [ShapedArray(float32[30,150]), ShapedArray(float32[30,150])]. Argument mapping: (GSPMDSharding({replicated}), GSPMDSharding({replicated})).\n",
      "WARNING:jax._src.dispatch:Finished jaxpr to MLIR module conversion jit(true_divide) in 0.001127481460571289 sec\n",
      "DEBUG:jax._src.xla_bridge:get_compile_options: num_replicas=1 num_partitions=1 device_assignment=[[CpuDevice(id=0)]]\n",
      "WARNING:jax._src.dispatch:Finished XLA compilation of jit(true_divide) in 0.008384466171264648 sec\n",
      "WARNING:jax._src.dispatch:Finished tracing + transforming <lambda> for pjit in 0.0005011558532714844 sec\n",
      "DEBUG:jax._src.interpreters.pxla:Compiling <lambda> for with global shapes and types [ShapedArray(float32[30,150]), ShapedArray(float32[30,150])]. Argument mapping: (GSPMDSharding({replicated}), GSPMDSharding({replicated})).\n",
      "WARNING:jax._src.dispatch:Finished jaxpr to MLIR module conversion jit(<lambda>) in 0.001119852066040039 sec\n",
      "DEBUG:jax._src.xla_bridge:get_compile_options: num_replicas=1 num_partitions=1 device_assignment=[[CpuDevice(id=0)]]\n",
      "WARNING:jax._src.dispatch:Finished XLA compilation of jit(<lambda>) in 0.00864410400390625 sec\n",
      "WARNING:jax._src.dispatch:Finished tracing + transforming fn for pjit in 0.00043487548828125 sec\n",
      "DEBUG:jax._src.interpreters.pxla:Compiling fn for with global shapes and types [ShapedArray(float32[], weak_type=True), ShapedArray(float32[30])]. Argument mapping: (GSPMDSharding({replicated}), GSPMDSharding({replicated})).\n",
      "WARNING:jax._src.dispatch:Finished jaxpr to MLIR module conversion jit(fn) in 0.0012729167938232422 sec\n",
      "DEBUG:jax._src.xla_bridge:get_compile_options: num_replicas=1 num_partitions=1 device_assignment=[[CpuDevice(id=0)]]\n",
      "WARNING:jax._src.dispatch:Finished XLA compilation of jit(fn) in 0.006752729415893555 sec\n",
      "DEBUG:jax._src.interpreters.pxla:Compiling fn for with global shapes and types [ShapedArray(float32[30]), ShapedArray(float32[30])]. Argument mapping: (GSPMDSharding({replicated}), GSPMDSharding({replicated})).\n",
      "WARNING:jax._src.dispatch:Finished jaxpr to MLIR module conversion jit(fn) in 0.0012612342834472656 sec\n",
      "DEBUG:jax._src.xla_bridge:get_compile_options: num_replicas=1 num_partitions=1 device_assignment=[[CpuDevice(id=0)]]\n",
      "WARNING:jax._src.dispatch:Finished XLA compilation of jit(fn) in 0.006692647933959961 sec\n",
      "WARNING:jax._src.dispatch:Finished tracing + transforming square for pjit in 0.0003147125244140625 sec\n",
      "DEBUG:jax._src.interpreters.pxla:Compiling square for with global shapes and types [ShapedArray(float32[30])]. Argument mapping: (GSPMDSharding({replicated}),).\n",
      "WARNING:jax._src.dispatch:Finished jaxpr to MLIR module conversion jit(square) in 0.0017230510711669922 sec\n",
      "DEBUG:jax._src.xla_bridge:get_compile_options: num_replicas=1 num_partitions=1 device_assignment=[[CpuDevice(id=0)]]\n",
      "WARNING:jax._src.dispatch:Finished XLA compilation of jit(square) in 0.006577968597412109 sec\n",
      "WARNING:jax._src.dispatch:Finished tracing + transforming true_divide for pjit in 0.0003523826599121094 sec\n",
      "DEBUG:jax._src.interpreters.pxla:Compiling true_divide for with global shapes and types [ShapedArray(float32[30]), ShapedArray(float32[])]. Argument mapping: (GSPMDSharding({replicated}), GSPMDSharding({replicated})).\n",
      "WARNING:jax._src.dispatch:Finished jaxpr to MLIR module conversion jit(true_divide) in 0.0013425350189208984 sec\n",
      "DEBUG:jax._src.xla_bridge:get_compile_options: num_replicas=1 num_partitions=1 device_assignment=[[CpuDevice(id=0)]]\n",
      "WARNING:jax._src.dispatch:Finished XLA compilation of jit(true_divide) in 0.0067408084869384766 sec\n",
      "WARNING:jax._src.dispatch:Finished tracing + transforming <lambda> for pjit in 0.0003070831298828125 sec\n",
      "DEBUG:jax._src.interpreters.pxla:Compiling <lambda> for with global shapes and types [ShapedArray(float32[30])]. Argument mapping: (GSPMDSharding({replicated}),).\n",
      "WARNING:jax._src.dispatch:Finished jaxpr to MLIR module conversion jit(<lambda>) in 0.0012569427490234375 sec\n",
      "DEBUG:jax._src.xla_bridge:get_compile_options: num_replicas=1 num_partitions=1 device_assignment=[[CpuDevice(id=0)]]\n",
      "WARNING:jax._src.dispatch:Finished XLA compilation of jit(<lambda>) in 0.0065975189208984375 sec\n",
      "WARNING:jax._src.dispatch:Finished tracing + transforming fn for pjit in 0.00041103363037109375 sec\n",
      "DEBUG:jax._src.interpreters.pxla:Compiling fn for with global shapes and types [ShapedArray(float32[30]), ShapedArray(float32[], weak_type=True)]. Argument mapping: (GSPMDSharding({replicated}), GSPMDSharding({replicated})).\n",
      "WARNING:jax._src.dispatch:Finished jaxpr to MLIR module conversion jit(fn) in 0.0014688968658447266 sec\n",
      "DEBUG:jax._src.xla_bridge:get_compile_options: num_replicas=1 num_partitions=1 device_assignment=[[CpuDevice(id=0)]]\n",
      "WARNING:jax._src.dispatch:Finished XLA compilation of jit(fn) in 0.006979227066040039 sec\n",
      "WARNING:jax._src.dispatch:Finished tracing + transforming true_divide for pjit in 0.00037550926208496094 sec\n",
      "DEBUG:jax._src.interpreters.pxla:Compiling true_divide for with global shapes and types [ShapedArray(float32[30]), ShapedArray(float32[30])]. Argument mapping: (GSPMDSharding({replicated}), GSPMDSharding({replicated})).\n"
     ]
    },
    {
     "name": "stderr",
     "output_type": "stream",
     "text": [
      "WARNING:jax._src.dispatch:Finished jaxpr to MLIR module conversion jit(true_divide) in 0.0012667179107666016 sec\n",
      "DEBUG:jax._src.xla_bridge:get_compile_options: num_replicas=1 num_partitions=1 device_assignment=[[CpuDevice(id=0)]]\n",
      "WARNING:jax._src.dispatch:Finished XLA compilation of jit(true_divide) in 0.0067064762115478516 sec\n",
      "WARNING:jax._src.dispatch:Finished tracing + transforming <lambda> for pjit in 0.00039124488830566406 sec\n",
      "DEBUG:jax._src.interpreters.pxla:Compiling <lambda> for with global shapes and types [ShapedArray(float32[30]), ShapedArray(float32[30])]. Argument mapping: (GSPMDSharding({replicated}), GSPMDSharding({replicated})).\n",
      "WARNING:jax._src.dispatch:Finished jaxpr to MLIR module conversion jit(<lambda>) in 0.0013225078582763672 sec\n",
      "DEBUG:jax._src.xla_bridge:get_compile_options: num_replicas=1 num_partitions=1 device_assignment=[[CpuDevice(id=0)]]\n",
      "WARNING:jax._src.dispatch:Finished XLA compilation of jit(<lambda>) in 0.006756305694580078 sec\n",
      "WARNING:jax._src.dispatch:Finished tracing + transforming fn for pjit in 0.0004475116729736328 sec\n",
      "DEBUG:jax._src.interpreters.pxla:Compiling fn for with global shapes and types [ShapedArray(float32[], weak_type=True), ShapedArray(float32[25,7])]. Argument mapping: (GSPMDSharding({replicated}), GSPMDSharding({replicated})).\n",
      "WARNING:jax._src.dispatch:Finished jaxpr to MLIR module conversion jit(fn) in 0.0014348030090332031 sec\n",
      "DEBUG:jax._src.xla_bridge:get_compile_options: num_replicas=1 num_partitions=1 device_assignment=[[CpuDevice(id=0)]]\n",
      "WARNING:jax._src.dispatch:Finished XLA compilation of jit(fn) in 0.006738424301147461 sec\n",
      "WARNING:jax._src.dispatch:Finished tracing + transforming fn for pjit in 0.0004029273986816406 sec\n",
      "DEBUG:jax._src.interpreters.pxla:Compiling fn for with global shapes and types [ShapedArray(float32[25,7]), ShapedArray(float32[25,7])]. Argument mapping: (GSPMDSharding({replicated}), GSPMDSharding({replicated})).\n",
      "WARNING:jax._src.dispatch:Finished jaxpr to MLIR module conversion jit(fn) in 0.0012645721435546875 sec\n",
      "DEBUG:jax._src.xla_bridge:get_compile_options: num_replicas=1 num_partitions=1 device_assignment=[[CpuDevice(id=0)]]\n",
      "WARNING:jax._src.dispatch:Finished XLA compilation of jit(fn) in 0.006540060043334961 sec\n",
      "WARNING:jax._src.dispatch:Finished tracing + transforming square for pjit in 0.0004794597625732422 sec\n",
      "DEBUG:jax._src.interpreters.pxla:Compiling square for with global shapes and types [ShapedArray(float32[25,7])]. Argument mapping: (GSPMDSharding({replicated}),).\n",
      "WARNING:jax._src.dispatch:Finished jaxpr to MLIR module conversion jit(square) in 0.0015566349029541016 sec\n",
      "DEBUG:jax._src.xla_bridge:get_compile_options: num_replicas=1 num_partitions=1 device_assignment=[[CpuDevice(id=0)]]\n",
      "WARNING:jax._src.dispatch:Finished XLA compilation of jit(square) in 0.0064160823822021484 sec\n",
      "WARNING:jax._src.dispatch:Finished tracing + transforming true_divide for pjit in 0.0003676414489746094 sec\n",
      "DEBUG:jax._src.interpreters.pxla:Compiling true_divide for with global shapes and types [ShapedArray(float32[25,7]), ShapedArray(float32[])]. Argument mapping: (GSPMDSharding({replicated}), GSPMDSharding({replicated})).\n",
      "WARNING:jax._src.dispatch:Finished jaxpr to MLIR module conversion jit(true_divide) in 0.0012955665588378906 sec\n",
      "DEBUG:jax._src.xla_bridge:get_compile_options: num_replicas=1 num_partitions=1 device_assignment=[[CpuDevice(id=0)]]\n",
      "WARNING:jax._src.dispatch:Finished XLA compilation of jit(true_divide) in 0.006732463836669922 sec\n",
      "WARNING:jax._src.dispatch:Finished tracing + transforming <lambda> for pjit in 0.0003199577331542969 sec\n",
      "DEBUG:jax._src.interpreters.pxla:Compiling <lambda> for with global shapes and types [ShapedArray(float32[25,7])]. Argument mapping: (GSPMDSharding({replicated}),).\n",
      "WARNING:jax._src.dispatch:Finished jaxpr to MLIR module conversion jit(<lambda>) in 0.0012450218200683594 sec\n",
      "DEBUG:jax._src.xla_bridge:get_compile_options: num_replicas=1 num_partitions=1 device_assignment=[[CpuDevice(id=0)]]\n",
      "WARNING:jax._src.dispatch:Finished XLA compilation of jit(<lambda>) in 0.0064504146575927734 sec\n",
      "WARNING:jax._src.dispatch:Finished tracing + transforming fn for pjit in 0.0004200935363769531 sec\n",
      "DEBUG:jax._src.interpreters.pxla:Compiling fn for with global shapes and types [ShapedArray(float32[25,7]), ShapedArray(float32[], weak_type=True)]. Argument mapping: (GSPMDSharding({replicated}), GSPMDSharding({replicated})).\n",
      "WARNING:jax._src.dispatch:Finished jaxpr to MLIR module conversion jit(fn) in 0.0015020370483398438 sec\n",
      "DEBUG:jax._src.xla_bridge:get_compile_options: num_replicas=1 num_partitions=1 device_assignment=[[CpuDevice(id=0)]]\n",
      "WARNING:jax._src.dispatch:Finished XLA compilation of jit(fn) in 0.006631374359130859 sec\n",
      "WARNING:jax._src.dispatch:Finished tracing + transforming true_divide for pjit in 0.0003762245178222656 sec\n",
      "DEBUG:jax._src.interpreters.pxla:Compiling true_divide for with global shapes and types [ShapedArray(float32[25,7]), ShapedArray(float32[25,7])]. Argument mapping: (GSPMDSharding({replicated}), GSPMDSharding({replicated})).\n",
      "WARNING:jax._src.dispatch:Finished jaxpr to MLIR module conversion jit(true_divide) in 0.0012772083282470703 sec\n",
      "DEBUG:jax._src.xla_bridge:get_compile_options: num_replicas=1 num_partitions=1 device_assignment=[[CpuDevice(id=0)]]\n",
      "WARNING:jax._src.dispatch:Finished XLA compilation of jit(true_divide) in 0.006711006164550781 sec\n",
      "WARNING:jax._src.dispatch:Finished tracing + transforming <lambda> for pjit in 0.00036406517028808594 sec\n",
      "DEBUG:jax._src.interpreters.pxla:Compiling <lambda> for with global shapes and types [ShapedArray(float32[25,7]), ShapedArray(float32[25,7])]. Argument mapping: (GSPMDSharding({replicated}), GSPMDSharding({replicated})).\n",
      "WARNING:jax._src.dispatch:Finished jaxpr to MLIR module conversion jit(<lambda>) in 0.0012373924255371094 sec\n",
      "DEBUG:jax._src.xla_bridge:get_compile_options: num_replicas=1 num_partitions=1 device_assignment=[[CpuDevice(id=0)]]\n",
      "WARNING:jax._src.dispatch:Finished XLA compilation of jit(<lambda>) in 0.006674766540527344 sec\n",
      "WARNING:jax._src.dispatch:Finished tracing + transforming fn for pjit in 0.0004439353942871094 sec\n",
      "DEBUG:jax._src.interpreters.pxla:Compiling fn for with global shapes and types [ShapedArray(float32[], weak_type=True), ShapedArray(float32[25])]. Argument mapping: (GSPMDSharding({replicated}), GSPMDSharding({replicated})).\n",
      "WARNING:jax._src.dispatch:Finished jaxpr to MLIR module conversion jit(fn) in 0.0014348030090332031 sec\n",
      "DEBUG:jax._src.xla_bridge:get_compile_options: num_replicas=1 num_partitions=1 device_assignment=[[CpuDevice(id=0)]]\n",
      "WARNING:jax._src.dispatch:Finished XLA compilation of jit(fn) in 0.006731986999511719 sec\n",
      "DEBUG:jax._src.interpreters.pxla:Compiling fn for with global shapes and types [ShapedArray(float32[25]), ShapedArray(float32[25])]. Argument mapping: (GSPMDSharding({replicated}), GSPMDSharding({replicated})).\n",
      "WARNING:jax._src.dispatch:Finished jaxpr to MLIR module conversion jit(fn) in 0.0012204647064208984 sec\n",
      "DEBUG:jax._src.xla_bridge:get_compile_options: num_replicas=1 num_partitions=1 device_assignment=[[CpuDevice(id=0)]]\n",
      "WARNING:jax._src.dispatch:Finished XLA compilation of jit(fn) in 0.006604671478271484 sec\n",
      "WARNING:jax._src.dispatch:Finished tracing + transforming square for pjit in 0.0003044605255126953 sec\n",
      "DEBUG:jax._src.interpreters.pxla:Compiling square for with global shapes and types [ShapedArray(float32[25])]. Argument mapping: (GSPMDSharding({replicated}),).\n",
      "WARNING:jax._src.dispatch:Finished jaxpr to MLIR module conversion jit(square) in 0.0014681816101074219 sec\n",
      "DEBUG:jax._src.xla_bridge:get_compile_options: num_replicas=1 num_partitions=1 device_assignment=[[CpuDevice(id=0)]]\n",
      "WARNING:jax._src.dispatch:Finished XLA compilation of jit(square) in 0.006376743316650391 sec\n",
      "WARNING:jax._src.dispatch:Finished tracing + transforming true_divide for pjit in 0.000331878662109375 sec\n",
      "DEBUG:jax._src.interpreters.pxla:Compiling true_divide for with global shapes and types [ShapedArray(float32[25]), ShapedArray(float32[])]. Argument mapping: (GSPMDSharding({replicated}), GSPMDSharding({replicated})).\n",
      "WARNING:jax._src.dispatch:Finished jaxpr to MLIR module conversion jit(true_divide) in 0.00133514404296875 sec\n"
     ]
    },
    {
     "name": "stderr",
     "output_type": "stream",
     "text": [
      "DEBUG:jax._src.xla_bridge:get_compile_options: num_replicas=1 num_partitions=1 device_assignment=[[CpuDevice(id=0)]]\n",
      "WARNING:jax._src.dispatch:Finished XLA compilation of jit(true_divide) in 0.00639796257019043 sec\n",
      "WARNING:jax._src.dispatch:Finished tracing + transforming <lambda> for pjit in 0.00027298927307128906 sec\n",
      "DEBUG:jax._src.interpreters.pxla:Compiling <lambda> for with global shapes and types [ShapedArray(float32[25])]. Argument mapping: (GSPMDSharding({replicated}),).\n",
      "WARNING:jax._src.dispatch:Finished jaxpr to MLIR module conversion jit(<lambda>) in 0.0011317729949951172 sec\n",
      "DEBUG:jax._src.xla_bridge:get_compile_options: num_replicas=1 num_partitions=1 device_assignment=[[CpuDevice(id=0)]]\n",
      "WARNING:jax._src.dispatch:Finished XLA compilation of jit(<lambda>) in 0.006573677062988281 sec\n",
      "WARNING:jax._src.dispatch:Finished tracing + transforming fn for pjit in 0.0005106925964355469 sec\n",
      "DEBUG:jax._src.interpreters.pxla:Compiling fn for with global shapes and types [ShapedArray(float32[25]), ShapedArray(float32[], weak_type=True)]. Argument mapping: (GSPMDSharding({replicated}), GSPMDSharding({replicated})).\n",
      "WARNING:jax._src.dispatch:Finished jaxpr to MLIR module conversion jit(fn) in 0.0013451576232910156 sec\n",
      "DEBUG:jax._src.xla_bridge:get_compile_options: num_replicas=1 num_partitions=1 device_assignment=[[CpuDevice(id=0)]]\n",
      "WARNING:jax._src.dispatch:Finished XLA compilation of jit(fn) in 0.006550788879394531 sec\n",
      "WARNING:jax._src.dispatch:Finished tracing + transforming true_divide for pjit in 0.0003542900085449219 sec\n",
      "DEBUG:jax._src.interpreters.pxla:Compiling true_divide for with global shapes and types [ShapedArray(float32[25]), ShapedArray(float32[25])]. Argument mapping: (GSPMDSharding({replicated}), GSPMDSharding({replicated})).\n",
      "WARNING:jax._src.dispatch:Finished jaxpr to MLIR module conversion jit(true_divide) in 0.0012536048889160156 sec\n",
      "DEBUG:jax._src.xla_bridge:get_compile_options: num_replicas=1 num_partitions=1 device_assignment=[[CpuDevice(id=0)]]\n",
      "WARNING:jax._src.dispatch:Finished XLA compilation of jit(true_divide) in 0.006392002105712891 sec\n",
      "WARNING:jax._src.dispatch:Finished tracing + transforming <lambda> for pjit in 0.0003516674041748047 sec\n",
      "DEBUG:jax._src.interpreters.pxla:Compiling <lambda> for with global shapes and types [ShapedArray(float32[25]), ShapedArray(float32[25])]. Argument mapping: (GSPMDSharding({replicated}), GSPMDSharding({replicated})).\n",
      "WARNING:jax._src.dispatch:Finished jaxpr to MLIR module conversion jit(<lambda>) in 0.0011782646179199219 sec\n",
      "DEBUG:jax._src.xla_bridge:get_compile_options: num_replicas=1 num_partitions=1 device_assignment=[[CpuDevice(id=0)]]\n",
      "WARNING:jax._src.dispatch:Finished XLA compilation of jit(<lambda>) in 0.006791830062866211 sec\n",
      "WARNING:jax._src.dispatch:Finished tracing + transforming fn for pjit in 0.00040435791015625 sec\n",
      "DEBUG:jax._src.interpreters.pxla:Compiling fn for with global shapes and types [ShapedArray(float32[], weak_type=True), ShapedArray(float32[5,25])]. Argument mapping: (GSPMDSharding({replicated}), GSPMDSharding({replicated})).\n",
      "WARNING:jax._src.dispatch:Finished jaxpr to MLIR module conversion jit(fn) in 0.0013554096221923828 sec\n",
      "DEBUG:jax._src.xla_bridge:get_compile_options: num_replicas=1 num_partitions=1 device_assignment=[[CpuDevice(id=0)]]\n",
      "WARNING:jax._src.dispatch:Finished XLA compilation of jit(fn) in 0.007292985916137695 sec\n",
      "WARNING:jax._src.dispatch:Finished tracing + transforming fn for pjit in 0.0003960132598876953 sec\n",
      "DEBUG:jax._src.interpreters.pxla:Compiling fn for with global shapes and types [ShapedArray(float32[5,25]), ShapedArray(float32[5,25])]. Argument mapping: (GSPMDSharding({replicated}), GSPMDSharding({replicated})).\n",
      "WARNING:jax._src.dispatch:Finished jaxpr to MLIR module conversion jit(fn) in 0.0011050701141357422 sec\n",
      "DEBUG:jax._src.xla_bridge:get_compile_options: num_replicas=1 num_partitions=1 device_assignment=[[CpuDevice(id=0)]]\n",
      "WARNING:jax._src.dispatch:Finished XLA compilation of jit(fn) in 0.007338523864746094 sec\n",
      "WARNING:jax._src.dispatch:Finished tracing + transforming square for pjit in 0.00029158592224121094 sec\n",
      "DEBUG:jax._src.interpreters.pxla:Compiling square for with global shapes and types [ShapedArray(float32[5,25])]. Argument mapping: (GSPMDSharding({replicated}),).\n",
      "WARNING:jax._src.dispatch:Finished jaxpr to MLIR module conversion jit(square) in 0.0014390945434570312 sec\n",
      "DEBUG:jax._src.xla_bridge:get_compile_options: num_replicas=1 num_partitions=1 device_assignment=[[CpuDevice(id=0)]]\n",
      "WARNING:jax._src.dispatch:Finished XLA compilation of jit(square) in 0.007118701934814453 sec\n",
      "WARNING:jax._src.dispatch:Finished tracing + transforming true_divide for pjit in 0.0003902912139892578 sec\n",
      "DEBUG:jax._src.interpreters.pxla:Compiling true_divide for with global shapes and types [ShapedArray(float32[5,25]), ShapedArray(float32[])]. Argument mapping: (GSPMDSharding({replicated}), GSPMDSharding({replicated})).\n",
      "WARNING:jax._src.dispatch:Finished jaxpr to MLIR module conversion jit(true_divide) in 0.0012369155883789062 sec\n",
      "DEBUG:jax._src.xla_bridge:get_compile_options: num_replicas=1 num_partitions=1 device_assignment=[[CpuDevice(id=0)]]\n",
      "WARNING:jax._src.dispatch:Finished XLA compilation of jit(true_divide) in 0.007450103759765625 sec\n",
      "WARNING:jax._src.dispatch:Finished tracing + transforming <lambda> for pjit in 0.0002701282501220703 sec\n",
      "DEBUG:jax._src.interpreters.pxla:Compiling <lambda> for with global shapes and types [ShapedArray(float32[5,25])]. Argument mapping: (GSPMDSharding({replicated}),).\n",
      "WARNING:jax._src.dispatch:Finished jaxpr to MLIR module conversion jit(<lambda>) in 0.0011601448059082031 sec\n",
      "DEBUG:jax._src.xla_bridge:get_compile_options: num_replicas=1 num_partitions=1 device_assignment=[[CpuDevice(id=0)]]\n",
      "WARNING:jax._src.dispatch:Finished XLA compilation of jit(<lambda>) in 0.007062435150146484 sec\n",
      "WARNING:jax._src.dispatch:Finished tracing + transforming fn for pjit in 0.0003960132598876953 sec\n",
      "DEBUG:jax._src.interpreters.pxla:Compiling fn for with global shapes and types [ShapedArray(float32[5,25]), ShapedArray(float32[], weak_type=True)]. Argument mapping: (GSPMDSharding({replicated}), GSPMDSharding({replicated})).\n",
      "WARNING:jax._src.dispatch:Finished jaxpr to MLIR module conversion jit(fn) in 0.0013947486877441406 sec\n",
      "DEBUG:jax._src.xla_bridge:get_compile_options: num_replicas=1 num_partitions=1 device_assignment=[[CpuDevice(id=0)]]\n",
      "WARNING:jax._src.dispatch:Finished XLA compilation of jit(fn) in 0.00744175910949707 sec\n",
      "WARNING:jax._src.dispatch:Finished tracing + transforming true_divide for pjit in 0.0003681182861328125 sec\n",
      "DEBUG:jax._src.interpreters.pxla:Compiling true_divide for with global shapes and types [ShapedArray(float32[5,25]), ShapedArray(float32[5,25])]. Argument mapping: (GSPMDSharding({replicated}), GSPMDSharding({replicated})).\n",
      "WARNING:jax._src.dispatch:Finished jaxpr to MLIR module conversion jit(true_divide) in 0.0012896060943603516 sec\n",
      "DEBUG:jax._src.xla_bridge:get_compile_options: num_replicas=1 num_partitions=1 device_assignment=[[CpuDevice(id=0)]]\n",
      "WARNING:jax._src.dispatch:Finished XLA compilation of jit(true_divide) in 0.007498502731323242 sec\n",
      "WARNING:jax._src.dispatch:Finished tracing + transforming <lambda> for pjit in 0.0003540515899658203 sec\n",
      "DEBUG:jax._src.interpreters.pxla:Compiling <lambda> for with global shapes and types [ShapedArray(float32[5,25]), ShapedArray(float32[5,25])]. Argument mapping: (GSPMDSharding({replicated}), GSPMDSharding({replicated})).\n",
      "WARNING:jax._src.dispatch:Finished jaxpr to MLIR module conversion jit(<lambda>) in 0.0010838508605957031 sec\n",
      "DEBUG:jax._src.xla_bridge:get_compile_options: num_replicas=1 num_partitions=1 device_assignment=[[CpuDevice(id=0)]]\n",
      "WARNING:jax._src.dispatch:Finished XLA compilation of jit(<lambda>) in 0.007817745208740234 sec\n",
      "WARNING:jax._src.dispatch:Finished tracing + transforming fn for pjit in 0.0005352497100830078 sec\n",
      "DEBUG:jax._src.interpreters.pxla:Compiling fn for with global shapes and types [ShapedArray(float32[], weak_type=True), ShapedArray(float32[5])]. Argument mapping: (GSPMDSharding({replicated}), GSPMDSharding({replicated})).\n",
      "WARNING:jax._src.dispatch:Finished jaxpr to MLIR module conversion jit(fn) in 0.0013921260833740234 sec\n"
     ]
    },
    {
     "name": "stderr",
     "output_type": "stream",
     "text": [
      "DEBUG:jax._src.xla_bridge:get_compile_options: num_replicas=1 num_partitions=1 device_assignment=[[CpuDevice(id=0)]]\n",
      "WARNING:jax._src.dispatch:Finished XLA compilation of jit(fn) in 0.005911111831665039 sec\n",
      "DEBUG:jax._src.interpreters.pxla:Compiling fn for with global shapes and types [ShapedArray(float32[5]), ShapedArray(float32[5])]. Argument mapping: (GSPMDSharding({replicated}), GSPMDSharding({replicated})).\n",
      "WARNING:jax._src.dispatch:Finished jaxpr to MLIR module conversion jit(fn) in 0.0012214183807373047 sec\n",
      "DEBUG:jax._src.xla_bridge:get_compile_options: num_replicas=1 num_partitions=1 device_assignment=[[CpuDevice(id=0)]]\n",
      "WARNING:jax._src.dispatch:Finished XLA compilation of jit(fn) in 0.005792140960693359 sec\n",
      "WARNING:jax._src.dispatch:Finished tracing + transforming square for pjit in 0.0003097057342529297 sec\n",
      "DEBUG:jax._src.interpreters.pxla:Compiling square for with global shapes and types [ShapedArray(float32[5])]. Argument mapping: (GSPMDSharding({replicated}),).\n",
      "WARNING:jax._src.dispatch:Finished jaxpr to MLIR module conversion jit(square) in 0.0014064311981201172 sec\n",
      "DEBUG:jax._src.xla_bridge:get_compile_options: num_replicas=1 num_partitions=1 device_assignment=[[CpuDevice(id=0)]]\n",
      "WARNING:jax._src.dispatch:Finished XLA compilation of jit(square) in 0.005656003952026367 sec\n",
      "WARNING:jax._src.dispatch:Finished tracing + transforming true_divide for pjit in 0.0003235340118408203 sec\n",
      "DEBUG:jax._src.interpreters.pxla:Compiling true_divide for with global shapes and types [ShapedArray(float32[5]), ShapedArray(float32[])]. Argument mapping: (GSPMDSharding({replicated}), GSPMDSharding({replicated})).\n",
      "WARNING:jax._src.dispatch:Finished jaxpr to MLIR module conversion jit(true_divide) in 0.001990079879760742 sec\n",
      "DEBUG:jax._src.xla_bridge:get_compile_options: num_replicas=1 num_partitions=1 device_assignment=[[CpuDevice(id=0)]]\n",
      "WARNING:jax._src.dispatch:Finished XLA compilation of jit(true_divide) in 0.005746364593505859 sec\n",
      "WARNING:jax._src.dispatch:Finished tracing + transforming <lambda> for pjit in 0.00026869773864746094 sec\n",
      "DEBUG:jax._src.interpreters.pxla:Compiling <lambda> for with global shapes and types [ShapedArray(float32[5])]. Argument mapping: (GSPMDSharding({replicated}),).\n",
      "WARNING:jax._src.dispatch:Finished jaxpr to MLIR module conversion jit(<lambda>) in 0.0011773109436035156 sec\n",
      "DEBUG:jax._src.xla_bridge:get_compile_options: num_replicas=1 num_partitions=1 device_assignment=[[CpuDevice(id=0)]]\n",
      "WARNING:jax._src.dispatch:Finished XLA compilation of jit(<lambda>) in 0.0057408809661865234 sec\n",
      "WARNING:jax._src.dispatch:Finished tracing + transforming fn for pjit in 0.00039124488830566406 sec\n",
      "DEBUG:jax._src.interpreters.pxla:Compiling fn for with global shapes and types [ShapedArray(float32[5]), ShapedArray(float32[], weak_type=True)]. Argument mapping: (GSPMDSharding({replicated}), GSPMDSharding({replicated})).\n",
      "WARNING:jax._src.dispatch:Finished jaxpr to MLIR module conversion jit(fn) in 0.0013628005981445312 sec\n",
      "DEBUG:jax._src.xla_bridge:get_compile_options: num_replicas=1 num_partitions=1 device_assignment=[[CpuDevice(id=0)]]\n",
      "WARNING:jax._src.dispatch:Finished XLA compilation of jit(fn) in 0.005919933319091797 sec\n",
      "WARNING:jax._src.dispatch:Finished tracing + transforming true_divide for pjit in 0.00033545494079589844 sec\n",
      "DEBUG:jax._src.interpreters.pxla:Compiling true_divide for with global shapes and types [ShapedArray(float32[5]), ShapedArray(float32[5])]. Argument mapping: (GSPMDSharding({replicated}), GSPMDSharding({replicated})).\n",
      "WARNING:jax._src.dispatch:Finished jaxpr to MLIR module conversion jit(true_divide) in 0.0011811256408691406 sec\n",
      "DEBUG:jax._src.xla_bridge:get_compile_options: num_replicas=1 num_partitions=1 device_assignment=[[CpuDevice(id=0)]]\n",
      "WARNING:jax._src.dispatch:Finished XLA compilation of jit(true_divide) in 0.005854129791259766 sec\n",
      "WARNING:jax._src.dispatch:Finished tracing + transforming <lambda> for pjit in 0.0003502368927001953 sec\n",
      "DEBUG:jax._src.interpreters.pxla:Compiling <lambda> for with global shapes and types [ShapedArray(float32[5]), ShapedArray(float32[5])]. Argument mapping: (GSPMDSharding({replicated}), GSPMDSharding({replicated})).\n",
      "WARNING:jax._src.dispatch:Finished jaxpr to MLIR module conversion jit(<lambda>) in 0.0011708736419677734 sec\n",
      "DEBUG:jax._src.xla_bridge:get_compile_options: num_replicas=1 num_partitions=1 device_assignment=[[CpuDevice(id=0)]]\n",
      "WARNING:jax._src.dispatch:Finished XLA compilation of jit(<lambda>) in 0.005759239196777344 sec\n",
      "WARNING:jax._src.dispatch:Finished tracing + transforming fn for pjit in 0.0004119873046875 sec\n",
      "DEBUG:jax._src.interpreters.pxla:Compiling fn for with global shapes and types [ShapedArray(float32[], weak_type=True), ShapedArray(float32[150,30])]. Argument mapping: (GSPMDSharding({replicated}), GSPMDSharding({replicated})).\n",
      "WARNING:jax._src.dispatch:Finished jaxpr to MLIR module conversion jit(fn) in 0.0014460086822509766 sec\n",
      "DEBUG:jax._src.xla_bridge:get_compile_options: num_replicas=1 num_partitions=1 device_assignment=[[CpuDevice(id=0)]]\n",
      "WARNING:jax._src.dispatch:Finished XLA compilation of jit(fn) in 0.007302284240722656 sec\n",
      "WARNING:jax._src.dispatch:Finished tracing + transforming fn for pjit in 0.0003485679626464844 sec\n",
      "DEBUG:jax._src.interpreters.pxla:Compiling fn for with global shapes and types [ShapedArray(float32[150,30]), ShapedArray(float32[150,30])]. Argument mapping: (GSPMDSharding({replicated}), GSPMDSharding({replicated})).\n",
      "WARNING:jax._src.dispatch:Finished jaxpr to MLIR module conversion jit(fn) in 0.00112152099609375 sec\n",
      "DEBUG:jax._src.xla_bridge:get_compile_options: num_replicas=1 num_partitions=1 device_assignment=[[CpuDevice(id=0)]]\n",
      "WARNING:jax._src.dispatch:Finished XLA compilation of jit(fn) in 0.007497549057006836 sec\n",
      "WARNING:jax._src.dispatch:Finished tracing + transforming square for pjit in 0.00030922889709472656 sec\n",
      "DEBUG:jax._src.interpreters.pxla:Compiling square for with global shapes and types [ShapedArray(float32[150,30])]. Argument mapping: (GSPMDSharding({replicated}),).\n",
      "WARNING:jax._src.dispatch:Finished jaxpr to MLIR module conversion jit(square) in 0.0014400482177734375 sec\n",
      "DEBUG:jax._src.xla_bridge:get_compile_options: num_replicas=1 num_partitions=1 device_assignment=[[CpuDevice(id=0)]]\n",
      "WARNING:jax._src.dispatch:Finished XLA compilation of jit(square) in 0.0069887638092041016 sec\n",
      "WARNING:jax._src.dispatch:Finished tracing + transforming true_divide for pjit in 0.0003104209899902344 sec\n",
      "DEBUG:jax._src.interpreters.pxla:Compiling true_divide for with global shapes and types [ShapedArray(float32[150,30]), ShapedArray(float32[])]. Argument mapping: (GSPMDSharding({replicated}), GSPMDSharding({replicated})).\n",
      "WARNING:jax._src.dispatch:Finished jaxpr to MLIR module conversion jit(true_divide) in 0.0011353492736816406 sec\n",
      "DEBUG:jax._src.xla_bridge:get_compile_options: num_replicas=1 num_partitions=1 device_assignment=[[CpuDevice(id=0)]]\n",
      "WARNING:jax._src.dispatch:Finished XLA compilation of jit(true_divide) in 0.007371187210083008 sec\n",
      "WARNING:jax._src.dispatch:Finished tracing + transforming <lambda> for pjit in 0.00031375885009765625 sec\n",
      "DEBUG:jax._src.interpreters.pxla:Compiling <lambda> for with global shapes and types [ShapedArray(float32[150,30])]. Argument mapping: (GSPMDSharding({replicated}),).\n",
      "WARNING:jax._src.dispatch:Finished jaxpr to MLIR module conversion jit(<lambda>) in 0.0010790824890136719 sec\n",
      "DEBUG:jax._src.xla_bridge:get_compile_options: num_replicas=1 num_partitions=1 device_assignment=[[CpuDevice(id=0)]]\n",
      "WARNING:jax._src.dispatch:Finished XLA compilation of jit(<lambda>) in 0.006919145584106445 sec\n",
      "WARNING:jax._src.dispatch:Finished tracing + transforming fn for pjit in 0.0003910064697265625 sec\n",
      "DEBUG:jax._src.interpreters.pxla:Compiling fn for with global shapes and types [ShapedArray(float32[150,30]), ShapedArray(float32[], weak_type=True)]. Argument mapping: (GSPMDSharding({replicated}), GSPMDSharding({replicated})).\n",
      "WARNING:jax._src.dispatch:Finished jaxpr to MLIR module conversion jit(fn) in 0.0012409687042236328 sec\n",
      "DEBUG:jax._src.xla_bridge:get_compile_options: num_replicas=1 num_partitions=1 device_assignment=[[CpuDevice(id=0)]]\n",
      "WARNING:jax._src.dispatch:Finished XLA compilation of jit(fn) in 0.0072362422943115234 sec\n"
     ]
    },
    {
     "name": "stderr",
     "output_type": "stream",
     "text": [
      "WARNING:jax._src.dispatch:Finished tracing + transforming true_divide for pjit in 0.0003504753112792969 sec\n",
      "DEBUG:jax._src.interpreters.pxla:Compiling true_divide for with global shapes and types [ShapedArray(float32[150,30]), ShapedArray(float32[150,30])]. Argument mapping: (GSPMDSharding({replicated}), GSPMDSharding({replicated})).\n",
      "WARNING:jax._src.dispatch:Finished jaxpr to MLIR module conversion jit(true_divide) in 0.0010864734649658203 sec\n",
      "DEBUG:jax._src.xla_bridge:get_compile_options: num_replicas=1 num_partitions=1 device_assignment=[[CpuDevice(id=0)]]\n",
      "WARNING:jax._src.dispatch:Finished XLA compilation of jit(true_divide) in 0.0074198246002197266 sec\n",
      "WARNING:jax._src.dispatch:Finished tracing + transforming <lambda> for pjit in 0.0003528594970703125 sec\n",
      "DEBUG:jax._src.interpreters.pxla:Compiling <lambda> for with global shapes and types [ShapedArray(float32[150,30]), ShapedArray(float32[150,30])]. Argument mapping: (GSPMDSharding({replicated}), GSPMDSharding({replicated})).\n",
      "WARNING:jax._src.dispatch:Finished jaxpr to MLIR module conversion jit(<lambda>) in 0.0010721683502197266 sec\n",
      "DEBUG:jax._src.xla_bridge:get_compile_options: num_replicas=1 num_partitions=1 device_assignment=[[CpuDevice(id=0)]]\n",
      "WARNING:jax._src.dispatch:Finished XLA compilation of jit(<lambda>) in 0.007476329803466797 sec\n",
      "WARNING:jax._src.dispatch:Finished tracing + transforming fn for pjit in 0.00035834312438964844 sec\n",
      "DEBUG:jax._src.interpreters.pxla:Compiling fn for with global shapes and types [ShapedArray(float32[], weak_type=True), ShapedArray(float32[2081,150])]. Argument mapping: (GSPMDSharding({replicated}), GSPMDSharding({replicated})).\n",
      "WARNING:jax._src.dispatch:Finished jaxpr to MLIR module conversion jit(fn) in 0.001256704330444336 sec\n",
      "DEBUG:jax._src.xla_bridge:get_compile_options: num_replicas=1 num_partitions=1 device_assignment=[[CpuDevice(id=0)]]\n",
      "WARNING:jax._src.dispatch:Finished XLA compilation of jit(fn) in 0.010733842849731445 sec\n",
      "WARNING:jax._src.dispatch:Finished tracing + transforming fn for pjit in 0.0004215240478515625 sec\n",
      "DEBUG:jax._src.interpreters.pxla:Compiling fn for with global shapes and types [ShapedArray(float32[2081,150]), ShapedArray(float32[2081,150])]. Argument mapping: (GSPMDSharding({replicated}), GSPMDSharding({replicated})).\n",
      "WARNING:jax._src.dispatch:Finished jaxpr to MLIR module conversion jit(fn) in 0.001079559326171875 sec\n",
      "DEBUG:jax._src.xla_bridge:get_compile_options: num_replicas=1 num_partitions=1 device_assignment=[[CpuDevice(id=0)]]\n",
      "WARNING:jax._src.dispatch:Finished XLA compilation of jit(fn) in 0.010963201522827148 sec\n",
      "WARNING:jax._src.dispatch:Finished tracing + transforming square for pjit in 0.0004696846008300781 sec\n",
      "DEBUG:jax._src.interpreters.pxla:Compiling square for with global shapes and types [ShapedArray(float32[2081,150])]. Argument mapping: (GSPMDSharding({replicated}),).\n",
      "WARNING:jax._src.dispatch:Finished jaxpr to MLIR module conversion jit(square) in 0.0013833045959472656 sec\n",
      "DEBUG:jax._src.xla_bridge:get_compile_options: num_replicas=1 num_partitions=1 device_assignment=[[CpuDevice(id=0)]]\n",
      "WARNING:jax._src.dispatch:Finished XLA compilation of jit(square) in 0.010343790054321289 sec\n",
      "WARNING:jax._src.dispatch:Finished tracing + transforming true_divide for pjit in 0.000331878662109375 sec\n",
      "DEBUG:jax._src.interpreters.pxla:Compiling true_divide for with global shapes and types [ShapedArray(float32[2081,150]), ShapedArray(float32[])]. Argument mapping: (GSPMDSharding({replicated}), GSPMDSharding({replicated})).\n",
      "WARNING:jax._src.dispatch:Finished jaxpr to MLIR module conversion jit(true_divide) in 0.0011904239654541016 sec\n",
      "DEBUG:jax._src.xla_bridge:get_compile_options: num_replicas=1 num_partitions=1 device_assignment=[[CpuDevice(id=0)]]\n",
      "WARNING:jax._src.dispatch:Finished XLA compilation of jit(true_divide) in 0.010761022567749023 sec\n",
      "WARNING:jax._src.dispatch:Finished tracing + transforming <lambda> for pjit in 0.00029158592224121094 sec\n",
      "DEBUG:jax._src.interpreters.pxla:Compiling <lambda> for with global shapes and types [ShapedArray(float32[2081,150])]. Argument mapping: (GSPMDSharding({replicated}),).\n",
      "WARNING:jax._src.dispatch:Finished jaxpr to MLIR module conversion jit(<lambda>) in 0.0010979175567626953 sec\n",
      "DEBUG:jax._src.xla_bridge:get_compile_options: num_replicas=1 num_partitions=1 device_assignment=[[CpuDevice(id=0)]]\n",
      "WARNING:jax._src.dispatch:Finished XLA compilation of jit(<lambda>) in 0.010429143905639648 sec\n",
      "WARNING:jax._src.dispatch:Finished tracing + transforming fn for pjit in 0.0004322528839111328 sec\n",
      "DEBUG:jax._src.interpreters.pxla:Compiling fn for with global shapes and types [ShapedArray(float32[2081,150]), ShapedArray(float32[], weak_type=True)]. Argument mapping: (GSPMDSharding({replicated}), GSPMDSharding({replicated})).\n",
      "WARNING:jax._src.dispatch:Finished jaxpr to MLIR module conversion jit(fn) in 0.0013837814331054688 sec\n",
      "DEBUG:jax._src.xla_bridge:get_compile_options: num_replicas=1 num_partitions=1 device_assignment=[[CpuDevice(id=0)]]\n",
      "WARNING:jax._src.dispatch:Finished XLA compilation of jit(fn) in 0.010704755783081055 sec\n",
      "WARNING:jax._src.dispatch:Finished tracing + transforming true_divide for pjit in 0.0003604888916015625 sec\n",
      "DEBUG:jax._src.interpreters.pxla:Compiling true_divide for with global shapes and types [ShapedArray(float32[2081,150]), ShapedArray(float32[2081,150])]. Argument mapping: (GSPMDSharding({replicated}), GSPMDSharding({replicated})).\n",
      "WARNING:jax._src.dispatch:Finished jaxpr to MLIR module conversion jit(true_divide) in 0.001176595687866211 sec\n",
      "DEBUG:jax._src.xla_bridge:get_compile_options: num_replicas=1 num_partitions=1 device_assignment=[[CpuDevice(id=0)]]\n",
      "WARNING:jax._src.dispatch:Finished XLA compilation of jit(true_divide) in 0.011315107345581055 sec\n",
      "WARNING:jax._src.dispatch:Finished tracing + transforming <lambda> for pjit in 0.0003743171691894531 sec\n",
      "DEBUG:jax._src.interpreters.pxla:Compiling <lambda> for with global shapes and types [ShapedArray(float32[2081,150]), ShapedArray(float32[2081,150])]. Argument mapping: (GSPMDSharding({replicated}), GSPMDSharding({replicated})).\n",
      "WARNING:jax._src.dispatch:Finished jaxpr to MLIR module conversion jit(<lambda>) in 0.001135110855102539 sec\n",
      "DEBUG:jax._src.xla_bridge:get_compile_options: num_replicas=1 num_partitions=1 device_assignment=[[CpuDevice(id=0)]]\n",
      "WARNING:jax._src.dispatch:Finished XLA compilation of jit(<lambda>) in 0.011297464370727539 sec\n",
      "WARNING:jax._src.dispatch:Finished tracing + transforming fn for pjit in 0.00043129920959472656 sec\n",
      "DEBUG:jax._src.interpreters.pxla:Compiling fn for with global shapes and types [ShapedArray(float32[], weak_type=True), ShapedArray(float32[2081])]. Argument mapping: (GSPMDSharding({replicated}), GSPMDSharding({replicated})).\n",
      "WARNING:jax._src.dispatch:Finished jaxpr to MLIR module conversion jit(fn) in 0.0012774467468261719 sec\n",
      "DEBUG:jax._src.xla_bridge:get_compile_options: num_replicas=1 num_partitions=1 device_assignment=[[CpuDevice(id=0)]]\n",
      "WARNING:jax._src.dispatch:Finished XLA compilation of jit(fn) in 0.007204532623291016 sec\n",
      "DEBUG:jax._src.interpreters.pxla:Compiling fn for with global shapes and types [ShapedArray(float32[2081]), ShapedArray(float32[2081])]. Argument mapping: (GSPMDSharding({replicated}), GSPMDSharding({replicated})).\n",
      "WARNING:jax._src.dispatch:Finished jaxpr to MLIR module conversion jit(fn) in 0.0013179779052734375 sec\n",
      "DEBUG:jax._src.xla_bridge:get_compile_options: num_replicas=1 num_partitions=1 device_assignment=[[CpuDevice(id=0)]]\n",
      "WARNING:jax._src.dispatch:Finished XLA compilation of jit(fn) in 0.0073435306549072266 sec\n",
      "WARNING:jax._src.dispatch:Finished tracing + transforming square for pjit in 0.0003077983856201172 sec\n",
      "DEBUG:jax._src.interpreters.pxla:Compiling square for with global shapes and types [ShapedArray(float32[2081])]. Argument mapping: (GSPMDSharding({replicated}),).\n",
      "WARNING:jax._src.dispatch:Finished jaxpr to MLIR module conversion jit(square) in 0.0013718605041503906 sec\n",
      "DEBUG:jax._src.xla_bridge:get_compile_options: num_replicas=1 num_partitions=1 device_assignment=[[CpuDevice(id=0)]]\n",
      "WARNING:jax._src.dispatch:Finished XLA compilation of jit(square) in 0.007465839385986328 sec\n",
      "WARNING:jax._src.dispatch:Finished tracing + transforming true_divide for pjit in 0.000339508056640625 sec\n"
     ]
    },
    {
     "name": "stderr",
     "output_type": "stream",
     "text": [
      "DEBUG:jax._src.interpreters.pxla:Compiling true_divide for with global shapes and types [ShapedArray(float32[2081]), ShapedArray(float32[])]. Argument mapping: (GSPMDSharding({replicated}), GSPMDSharding({replicated})).\n",
      "WARNING:jax._src.dispatch:Finished jaxpr to MLIR module conversion jit(true_divide) in 0.0011954307556152344 sec\n",
      "DEBUG:jax._src.xla_bridge:get_compile_options: num_replicas=1 num_partitions=1 device_assignment=[[CpuDevice(id=0)]]\n",
      "WARNING:jax._src.dispatch:Finished XLA compilation of jit(true_divide) in 0.008416414260864258 sec\n",
      "WARNING:jax._src.dispatch:Finished tracing + transforming <lambda> for pjit in 0.000347137451171875 sec\n",
      "DEBUG:jax._src.interpreters.pxla:Compiling <lambda> for with global shapes and types [ShapedArray(float32[2081])]. Argument mapping: (GSPMDSharding({replicated}),).\n",
      "WARNING:jax._src.dispatch:Finished jaxpr to MLIR module conversion jit(<lambda>) in 0.0010657310485839844 sec\n",
      "DEBUG:jax._src.xla_bridge:get_compile_options: num_replicas=1 num_partitions=1 device_assignment=[[CpuDevice(id=0)]]\n",
      "WARNING:jax._src.dispatch:Finished XLA compilation of jit(<lambda>) in 0.007063150405883789 sec\n",
      "WARNING:jax._src.dispatch:Finished tracing + transforming fn for pjit in 0.00044083595275878906 sec\n",
      "DEBUG:jax._src.interpreters.pxla:Compiling fn for with global shapes and types [ShapedArray(float32[2081]), ShapedArray(float32[], weak_type=True)]. Argument mapping: (GSPMDSharding({replicated}), GSPMDSharding({replicated})).\n",
      "WARNING:jax._src.dispatch:Finished jaxpr to MLIR module conversion jit(fn) in 0.0018732547760009766 sec\n",
      "DEBUG:jax._src.xla_bridge:get_compile_options: num_replicas=1 num_partitions=1 device_assignment=[[CpuDevice(id=0)]]\n",
      "WARNING:jax._src.dispatch:Finished XLA compilation of jit(fn) in 0.0071926116943359375 sec\n",
      "WARNING:jax._src.dispatch:Finished tracing + transforming true_divide for pjit in 0.0005137920379638672 sec\n",
      "DEBUG:jax._src.interpreters.pxla:Compiling true_divide for with global shapes and types [ShapedArray(float32[2081]), ShapedArray(float32[2081])]. Argument mapping: (GSPMDSharding({replicated}), GSPMDSharding({replicated})).\n",
      "WARNING:jax._src.dispatch:Finished jaxpr to MLIR module conversion jit(true_divide) in 0.0012035369873046875 sec\n",
      "DEBUG:jax._src.xla_bridge:get_compile_options: num_replicas=1 num_partitions=1 device_assignment=[[CpuDevice(id=0)]]\n",
      "WARNING:jax._src.dispatch:Finished XLA compilation of jit(true_divide) in 0.008213520050048828 sec\n",
      "WARNING:jax._src.dispatch:Finished tracing + transforming <lambda> for pjit in 0.00037670135498046875 sec\n",
      "DEBUG:jax._src.interpreters.pxla:Compiling <lambda> for with global shapes and types [ShapedArray(float32[2081]), ShapedArray(float32[2081])]. Argument mapping: (GSPMDSharding({replicated}), GSPMDSharding({replicated})).\n",
      "WARNING:jax._src.dispatch:Finished jaxpr to MLIR module conversion jit(<lambda>) in 0.0012416839599609375 sec\n",
      "DEBUG:jax._src.xla_bridge:get_compile_options: num_replicas=1 num_partitions=1 device_assignment=[[CpuDevice(id=0)]]\n",
      "WARNING:jax._src.dispatch:Finished XLA compilation of jit(<lambda>) in 0.008153915405273438 sec\n",
      "WARNING:jax._src.dispatch:Finished tracing + transforming fn for pjit in 0.0004334449768066406 sec\n",
      "DEBUG:jax._src.interpreters.pxla:Compiling fn for with global shapes and types [ShapedArray(float32[225,50]), ShapedArray(float32[225,50])]. Argument mapping: (GSPMDSharding({replicated}), GSPMDSharding({replicated})).\n",
      "WARNING:jax._src.dispatch:Finished jaxpr to MLIR module conversion jit(fn) in 0.0012171268463134766 sec\n",
      "DEBUG:jax._src.xla_bridge:get_compile_options: num_replicas=1 num_partitions=1 device_assignment=[[CpuDevice(id=0)]]\n",
      "WARNING:jax._src.dispatch:Finished XLA compilation of jit(fn) in 0.007725715637207031 sec\n",
      "WARNING:jax._src.dispatch:Finished tracing + transforming square for pjit in 0.0005862712860107422 sec\n",
      "DEBUG:jax._src.interpreters.pxla:Compiling square for with global shapes and types [ShapedArray(float32[225,50])]. Argument mapping: (GSPMDSharding({replicated}),).\n",
      "WARNING:jax._src.dispatch:Finished jaxpr to MLIR module conversion jit(square) in 0.0020749568939208984 sec\n",
      "DEBUG:jax._src.xla_bridge:get_compile_options: num_replicas=1 num_partitions=1 device_assignment=[[CpuDevice(id=0)]]\n",
      "WARNING:jax._src.dispatch:Finished XLA compilation of jit(square) in 0.007288694381713867 sec\n",
      "WARNING:jax._src.dispatch:Finished tracing + transforming true_divide for pjit in 0.0004591941833496094 sec\n",
      "DEBUG:jax._src.interpreters.pxla:Compiling true_divide for with global shapes and types [ShapedArray(float32[225,50]), ShapedArray(float32[])]. Argument mapping: (GSPMDSharding({replicated}), GSPMDSharding({replicated})).\n",
      "WARNING:jax._src.dispatch:Finished jaxpr to MLIR module conversion jit(true_divide) in 0.0014655590057373047 sec\n",
      "DEBUG:jax._src.xla_bridge:get_compile_options: num_replicas=1 num_partitions=1 device_assignment=[[CpuDevice(id=0)]]\n",
      "WARNING:jax._src.dispatch:Finished XLA compilation of jit(true_divide) in 0.007269382476806641 sec\n",
      "WARNING:jax._src.dispatch:Finished tracing + transforming <lambda> for pjit in 0.00028324127197265625 sec\n",
      "DEBUG:jax._src.interpreters.pxla:Compiling <lambda> for with global shapes and types [ShapedArray(float32[225,50])]. Argument mapping: (GSPMDSharding({replicated}),).\n",
      "WARNING:jax._src.dispatch:Finished jaxpr to MLIR module conversion jit(<lambda>) in 0.0010755062103271484 sec\n",
      "DEBUG:jax._src.xla_bridge:get_compile_options: num_replicas=1 num_partitions=1 device_assignment=[[CpuDevice(id=0)]]\n",
      "WARNING:jax._src.dispatch:Finished XLA compilation of jit(<lambda>) in 0.007308483123779297 sec\n",
      "WARNING:jax._src.dispatch:Finished tracing + transforming fn for pjit in 0.0003962516784667969 sec\n",
      "DEBUG:jax._src.interpreters.pxla:Compiling fn for with global shapes and types [ShapedArray(float32[225,50]), ShapedArray(float32[], weak_type=True)]. Argument mapping: (GSPMDSharding({replicated}), GSPMDSharding({replicated})).\n",
      "WARNING:jax._src.dispatch:Finished jaxpr to MLIR module conversion jit(fn) in 0.001283884048461914 sec\n",
      "DEBUG:jax._src.xla_bridge:get_compile_options: num_replicas=1 num_partitions=1 device_assignment=[[CpuDevice(id=0)]]\n",
      "WARNING:jax._src.dispatch:Finished XLA compilation of jit(fn) in 0.007391691207885742 sec\n",
      "WARNING:jax._src.dispatch:Finished tracing + transforming true_divide for pjit in 0.0003662109375 sec\n",
      "DEBUG:jax._src.interpreters.pxla:Compiling true_divide for with global shapes and types [ShapedArray(float32[225,50]), ShapedArray(float32[225,50])]. Argument mapping: (GSPMDSharding({replicated}), GSPMDSharding({replicated})).\n",
      "WARNING:jax._src.dispatch:Finished jaxpr to MLIR module conversion jit(true_divide) in 0.0012459754943847656 sec\n",
      "DEBUG:jax._src.xla_bridge:get_compile_options: num_replicas=1 num_partitions=1 device_assignment=[[CpuDevice(id=0)]]\n",
      "WARNING:jax._src.dispatch:Finished XLA compilation of jit(true_divide) in 0.007468461990356445 sec\n",
      "WARNING:jax._src.dispatch:Finished tracing + transforming <lambda> for pjit in 0.0003631114959716797 sec\n",
      "DEBUG:jax._src.interpreters.pxla:Compiling <lambda> for with global shapes and types [ShapedArray(float32[225,50]), ShapedArray(float32[225,50])]. Argument mapping: (GSPMDSharding({replicated}), GSPMDSharding({replicated})).\n",
      "WARNING:jax._src.dispatch:Finished jaxpr to MLIR module conversion jit(<lambda>) in 0.0010988712310791016 sec\n",
      "DEBUG:jax._src.xla_bridge:get_compile_options: num_replicas=1 num_partitions=1 device_assignment=[[CpuDevice(id=0)]]\n",
      "WARNING:jax._src.dispatch:Finished XLA compilation of jit(<lambda>) in 0.00762629508972168 sec\n",
      "DEBUG:jax._src.interpreters.pxla:Compiling fn for with global shapes and types [ShapedArray(float32[225]), ShapedArray(float32[225])]. Argument mapping: (GSPMDSharding({replicated}), GSPMDSharding({replicated})).\n",
      "WARNING:jax._src.dispatch:Finished jaxpr to MLIR module conversion jit(fn) in 0.0011262893676757812 sec\n",
      "DEBUG:jax._src.xla_bridge:get_compile_options: num_replicas=1 num_partitions=1 device_assignment=[[CpuDevice(id=0)]]\n",
      "WARNING:jax._src.dispatch:Finished XLA compilation of jit(fn) in 0.007200002670288086 sec\n",
      "WARNING:jax._src.dispatch:Finished tracing + transforming square for pjit in 0.00034809112548828125 sec\n",
      "DEBUG:jax._src.interpreters.pxla:Compiling square for with global shapes and types [ShapedArray(float32[225])]. Argument mapping: (GSPMDSharding({replicated}),).\n"
     ]
    },
    {
     "name": "stderr",
     "output_type": "stream",
     "text": [
      "WARNING:jax._src.dispatch:Finished jaxpr to MLIR module conversion jit(square) in 0.0022077560424804688 sec\n",
      "DEBUG:jax._src.xla_bridge:get_compile_options: num_replicas=1 num_partitions=1 device_assignment=[[CpuDevice(id=0)]]\n",
      "WARNING:jax._src.dispatch:Finished XLA compilation of jit(square) in 0.006923198699951172 sec\n",
      "WARNING:jax._src.dispatch:Finished tracing + transforming true_divide for pjit in 0.0003311634063720703 sec\n",
      "DEBUG:jax._src.interpreters.pxla:Compiling true_divide for with global shapes and types [ShapedArray(float32[225]), ShapedArray(float32[])]. Argument mapping: (GSPMDSharding({replicated}), GSPMDSharding({replicated})).\n",
      "WARNING:jax._src.dispatch:Finished jaxpr to MLIR module conversion jit(true_divide) in 0.001312255859375 sec\n",
      "DEBUG:jax._src.xla_bridge:get_compile_options: num_replicas=1 num_partitions=1 device_assignment=[[CpuDevice(id=0)]]\n",
      "WARNING:jax._src.dispatch:Finished XLA compilation of jit(true_divide) in 0.00722193717956543 sec\n",
      "WARNING:jax._src.dispatch:Finished tracing + transforming <lambda> for pjit in 0.0002818107604980469 sec\n",
      "DEBUG:jax._src.interpreters.pxla:Compiling <lambda> for with global shapes and types [ShapedArray(float32[225])]. Argument mapping: (GSPMDSharding({replicated}),).\n",
      "WARNING:jax._src.dispatch:Finished jaxpr to MLIR module conversion jit(<lambda>) in 0.0011680126190185547 sec\n",
      "DEBUG:jax._src.xla_bridge:get_compile_options: num_replicas=1 num_partitions=1 device_assignment=[[CpuDevice(id=0)]]\n",
      "WARNING:jax._src.dispatch:Finished XLA compilation of jit(<lambda>) in 0.0069806575775146484 sec\n",
      "WARNING:jax._src.dispatch:Finished tracing + transforming fn for pjit in 0.0003974437713623047 sec\n",
      "DEBUG:jax._src.interpreters.pxla:Compiling fn for with global shapes and types [ShapedArray(float32[225]), ShapedArray(float32[], weak_type=True)]. Argument mapping: (GSPMDSharding({replicated}), GSPMDSharding({replicated})).\n",
      "WARNING:jax._src.dispatch:Finished jaxpr to MLIR module conversion jit(fn) in 0.0014801025390625 sec\n",
      "DEBUG:jax._src.xla_bridge:get_compile_options: num_replicas=1 num_partitions=1 device_assignment=[[CpuDevice(id=0)]]\n",
      "WARNING:jax._src.dispatch:Finished XLA compilation of jit(fn) in 0.0072460174560546875 sec\n",
      "WARNING:jax._src.dispatch:Finished tracing + transforming true_divide for pjit in 0.00037360191345214844 sec\n",
      "DEBUG:jax._src.interpreters.pxla:Compiling true_divide for with global shapes and types [ShapedArray(float32[225]), ShapedArray(float32[225])]. Argument mapping: (GSPMDSharding({replicated}), GSPMDSharding({replicated})).\n",
      "WARNING:jax._src.dispatch:Finished jaxpr to MLIR module conversion jit(true_divide) in 0.0012412071228027344 sec\n",
      "DEBUG:jax._src.xla_bridge:get_compile_options: num_replicas=1 num_partitions=1 device_assignment=[[CpuDevice(id=0)]]\n",
      "WARNING:jax._src.dispatch:Finished XLA compilation of jit(true_divide) in 0.007241725921630859 sec\n",
      "WARNING:jax._src.dispatch:Finished tracing + transforming <lambda> for pjit in 0.00036072731018066406 sec\n",
      "DEBUG:jax._src.interpreters.pxla:Compiling <lambda> for with global shapes and types [ShapedArray(float32[225]), ShapedArray(float32[225])]. Argument mapping: (GSPMDSharding({replicated}), GSPMDSharding({replicated})).\n",
      "WARNING:jax._src.dispatch:Finished jaxpr to MLIR module conversion jit(<lambda>) in 0.0012233257293701172 sec\n",
      "DEBUG:jax._src.xla_bridge:get_compile_options: num_replicas=1 num_partitions=1 device_assignment=[[CpuDevice(id=0)]]\n",
      "WARNING:jax._src.dispatch:Finished XLA compilation of jit(<lambda>) in 0.007361888885498047 sec\n",
      "WARNING:jax._src.dispatch:Finished tracing + transforming fn for pjit in 0.0003674030303955078 sec\n",
      "DEBUG:jax._src.interpreters.pxla:Compiling fn for with global shapes and types [ShapedArray(float32[225,225]), ShapedArray(float32[225,225])]. Argument mapping: (GSPMDSharding({replicated}), GSPMDSharding({replicated})).\n",
      "WARNING:jax._src.dispatch:Finished jaxpr to MLIR module conversion jit(fn) in 0.0011143684387207031 sec\n",
      "DEBUG:jax._src.xla_bridge:get_compile_options: num_replicas=1 num_partitions=1 device_assignment=[[CpuDevice(id=0)]]\n",
      "WARNING:jax._src.dispatch:Finished XLA compilation of jit(fn) in 0.00863027572631836 sec\n",
      "WARNING:jax._src.dispatch:Finished tracing + transforming square for pjit in 0.00031304359436035156 sec\n",
      "DEBUG:jax._src.interpreters.pxla:Compiling square for with global shapes and types [ShapedArray(float32[225,225])]. Argument mapping: (GSPMDSharding({replicated}),).\n",
      "WARNING:jax._src.dispatch:Finished jaxpr to MLIR module conversion jit(square) in 0.0013971328735351562 sec\n",
      "DEBUG:jax._src.xla_bridge:get_compile_options: num_replicas=1 num_partitions=1 device_assignment=[[CpuDevice(id=0)]]\n",
      "WARNING:jax._src.dispatch:Finished XLA compilation of jit(square) in 0.007908105850219727 sec\n",
      "WARNING:jax._src.dispatch:Finished tracing + transforming true_divide for pjit in 0.00033974647521972656 sec\n",
      "DEBUG:jax._src.interpreters.pxla:Compiling true_divide for with global shapes and types [ShapedArray(float32[225,225]), ShapedArray(float32[])]. Argument mapping: (GSPMDSharding({replicated}), GSPMDSharding({replicated})).\n",
      "WARNING:jax._src.dispatch:Finished jaxpr to MLIR module conversion jit(true_divide) in 0.001199483871459961 sec\n",
      "DEBUG:jax._src.xla_bridge:get_compile_options: num_replicas=1 num_partitions=1 device_assignment=[[CpuDevice(id=0)]]\n",
      "WARNING:jax._src.dispatch:Finished XLA compilation of jit(true_divide) in 0.008261919021606445 sec\n",
      "WARNING:jax._src.dispatch:Finished tracing + transforming <lambda> for pjit in 0.0002796649932861328 sec\n",
      "DEBUG:jax._src.interpreters.pxla:Compiling <lambda> for with global shapes and types [ShapedArray(float32[225,225])]. Argument mapping: (GSPMDSharding({replicated}),).\n",
      "WARNING:jax._src.dispatch:Finished jaxpr to MLIR module conversion jit(<lambda>) in 0.0010614395141601562 sec\n",
      "DEBUG:jax._src.xla_bridge:get_compile_options: num_replicas=1 num_partitions=1 device_assignment=[[CpuDevice(id=0)]]\n",
      "WARNING:jax._src.dispatch:Finished XLA compilation of jit(<lambda>) in 0.008077621459960938 sec\n",
      "WARNING:jax._src.dispatch:Finished tracing + transforming fn for pjit in 0.00039839744567871094 sec\n",
      "DEBUG:jax._src.interpreters.pxla:Compiling fn for with global shapes and types [ShapedArray(float32[225,225]), ShapedArray(float32[], weak_type=True)]. Argument mapping: (GSPMDSharding({replicated}), GSPMDSharding({replicated})).\n",
      "WARNING:jax._src.dispatch:Finished jaxpr to MLIR module conversion jit(fn) in 0.0014233589172363281 sec\n",
      "DEBUG:jax._src.xla_bridge:get_compile_options: num_replicas=1 num_partitions=1 device_assignment=[[CpuDevice(id=0)]]\n",
      "WARNING:jax._src.dispatch:Finished XLA compilation of jit(fn) in 0.008374214172363281 sec\n",
      "WARNING:jax._src.dispatch:Finished tracing + transforming true_divide for pjit in 0.000354766845703125 sec\n",
      "DEBUG:jax._src.interpreters.pxla:Compiling true_divide for with global shapes and types [ShapedArray(float32[225,225]), ShapedArray(float32[225,225])]. Argument mapping: (GSPMDSharding({replicated}), GSPMDSharding({replicated})).\n",
      "WARNING:jax._src.dispatch:Finished jaxpr to MLIR module conversion jit(true_divide) in 0.0011055469512939453 sec\n",
      "DEBUG:jax._src.xla_bridge:get_compile_options: num_replicas=1 num_partitions=1 device_assignment=[[CpuDevice(id=0)]]\n",
      "WARNING:jax._src.dispatch:Finished XLA compilation of jit(true_divide) in 0.008458375930786133 sec\n",
      "WARNING:jax._src.dispatch:Finished tracing + transforming <lambda> for pjit in 0.00039267539978027344 sec\n",
      "DEBUG:jax._src.interpreters.pxla:Compiling <lambda> for with global shapes and types [ShapedArray(float32[225,225]), ShapedArray(float32[225,225])]. Argument mapping: (GSPMDSharding({replicated}), GSPMDSharding({replicated})).\n",
      "WARNING:jax._src.dispatch:Finished jaxpr to MLIR module conversion jit(<lambda>) in 0.001094818115234375 sec\n",
      "DEBUG:jax._src.xla_bridge:get_compile_options: num_replicas=1 num_partitions=1 device_assignment=[[CpuDevice(id=0)]]\n",
      "WARNING:jax._src.dispatch:Finished XLA compilation of jit(<lambda>) in 0.008275508880615234 sec\n",
      "WARNING:jax._src.dispatch:Finished tracing + transforming fn for pjit in 0.0003371238708496094 sec\n",
      "DEBUG:jax._src.interpreters.pxla:Compiling fn for with global shapes and types [ShapedArray(float32[45,225]), ShapedArray(float32[45,225])]. Argument mapping: (GSPMDSharding({replicated}), GSPMDSharding({replicated})).\n"
     ]
    },
    {
     "name": "stderr",
     "output_type": "stream",
     "text": [
      "WARNING:jax._src.dispatch:Finished jaxpr to MLIR module conversion jit(fn) in 0.001140594482421875 sec\n",
      "DEBUG:jax._src.xla_bridge:get_compile_options: num_replicas=1 num_partitions=1 device_assignment=[[CpuDevice(id=0)]]\n",
      "WARNING:jax._src.dispatch:Finished XLA compilation of jit(fn) in 0.008397102355957031 sec\n",
      "WARNING:jax._src.dispatch:Finished tracing + transforming square for pjit in 0.0003020763397216797 sec\n",
      "DEBUG:jax._src.interpreters.pxla:Compiling square for with global shapes and types [ShapedArray(float32[45,225])]. Argument mapping: (GSPMDSharding({replicated}),).\n",
      "WARNING:jax._src.dispatch:Finished jaxpr to MLIR module conversion jit(square) in 0.0013699531555175781 sec\n",
      "DEBUG:jax._src.xla_bridge:get_compile_options: num_replicas=1 num_partitions=1 device_assignment=[[CpuDevice(id=0)]]\n",
      "WARNING:jax._src.dispatch:Finished XLA compilation of jit(square) in 0.008057832717895508 sec\n",
      "WARNING:jax._src.dispatch:Finished tracing + transforming true_divide for pjit in 0.0003304481506347656 sec\n",
      "DEBUG:jax._src.interpreters.pxla:Compiling true_divide for with global shapes and types [ShapedArray(float32[45,225]), ShapedArray(float32[])]. Argument mapping: (GSPMDSharding({replicated}), GSPMDSharding({replicated})).\n",
      "WARNING:jax._src.dispatch:Finished jaxpr to MLIR module conversion jit(true_divide) in 0.0011773109436035156 sec\n",
      "DEBUG:jax._src.xla_bridge:get_compile_options: num_replicas=1 num_partitions=1 device_assignment=[[CpuDevice(id=0)]]\n",
      "WARNING:jax._src.dispatch:Finished XLA compilation of jit(true_divide) in 0.008420228958129883 sec\n",
      "WARNING:jax._src.dispatch:Finished tracing + transforming <lambda> for pjit in 0.0002808570861816406 sec\n",
      "DEBUG:jax._src.interpreters.pxla:Compiling <lambda> for with global shapes and types [ShapedArray(float32[45,225])]. Argument mapping: (GSPMDSharding({replicated}),).\n",
      "WARNING:jax._src.dispatch:Finished jaxpr to MLIR module conversion jit(<lambda>) in 0.0011150836944580078 sec\n",
      "DEBUG:jax._src.xla_bridge:get_compile_options: num_replicas=1 num_partitions=1 device_assignment=[[CpuDevice(id=0)]]\n",
      "WARNING:jax._src.dispatch:Finished XLA compilation of jit(<lambda>) in 0.008052825927734375 sec\n",
      "WARNING:jax._src.dispatch:Finished tracing + transforming fn for pjit in 0.0004107952117919922 sec\n",
      "DEBUG:jax._src.interpreters.pxla:Compiling fn for with global shapes and types [ShapedArray(float32[45,225]), ShapedArray(float32[], weak_type=True)]. Argument mapping: (GSPMDSharding({replicated}), GSPMDSharding({replicated})).\n",
      "WARNING:jax._src.dispatch:Finished jaxpr to MLIR module conversion jit(fn) in 0.0013775825500488281 sec\n",
      "DEBUG:jax._src.xla_bridge:get_compile_options: num_replicas=1 num_partitions=1 device_assignment=[[CpuDevice(id=0)]]\n",
      "WARNING:jax._src.dispatch:Finished XLA compilation of jit(fn) in 0.008357763290405273 sec\n",
      "WARNING:jax._src.dispatch:Finished tracing + transforming true_divide for pjit in 0.0003476142883300781 sec\n",
      "DEBUG:jax._src.interpreters.pxla:Compiling true_divide for with global shapes and types [ShapedArray(float32[45,225]), ShapedArray(float32[45,225])]. Argument mapping: (GSPMDSharding({replicated}), GSPMDSharding({replicated})).\n",
      "WARNING:jax._src.dispatch:Finished jaxpr to MLIR module conversion jit(true_divide) in 0.0011150836944580078 sec\n",
      "DEBUG:jax._src.xla_bridge:get_compile_options: num_replicas=1 num_partitions=1 device_assignment=[[CpuDevice(id=0)]]\n",
      "WARNING:jax._src.dispatch:Finished XLA compilation of jit(true_divide) in 0.008504152297973633 sec\n",
      "WARNING:jax._src.dispatch:Finished tracing + transforming <lambda> for pjit in 0.0003573894500732422 sec\n",
      "DEBUG:jax._src.interpreters.pxla:Compiling <lambda> for with global shapes and types [ShapedArray(float32[45,225]), ShapedArray(float32[45,225])]. Argument mapping: (GSPMDSharding({replicated}), GSPMDSharding({replicated})).\n",
      "WARNING:jax._src.dispatch:Finished jaxpr to MLIR module conversion jit(<lambda>) in 0.001107931137084961 sec\n",
      "DEBUG:jax._src.xla_bridge:get_compile_options: num_replicas=1 num_partitions=1 device_assignment=[[CpuDevice(id=0)]]\n",
      "WARNING:jax._src.dispatch:Finished XLA compilation of jit(<lambda>) in 0.008526325225830078 sec\n",
      "DEBUG:jax._src.interpreters.pxla:Compiling fn for with global shapes and types [ShapedArray(float32[45]), ShapedArray(float32[45])]. Argument mapping: (GSPMDSharding({replicated}), GSPMDSharding({replicated})).\n",
      "WARNING:jax._src.dispatch:Finished jaxpr to MLIR module conversion jit(fn) in 0.0011298656463623047 sec\n",
      "DEBUG:jax._src.xla_bridge:get_compile_options: num_replicas=1 num_partitions=1 device_assignment=[[CpuDevice(id=0)]]\n",
      "WARNING:jax._src.dispatch:Finished XLA compilation of jit(fn) in 0.0067479610443115234 sec\n",
      "WARNING:jax._src.dispatch:Finished tracing + transforming square for pjit in 0.00031566619873046875 sec\n",
      "DEBUG:jax._src.interpreters.pxla:Compiling square for with global shapes and types [ShapedArray(float32[45])]. Argument mapping: (GSPMDSharding({replicated}),).\n",
      "WARNING:jax._src.dispatch:Finished jaxpr to MLIR module conversion jit(square) in 0.0016317367553710938 sec\n",
      "DEBUG:jax._src.xla_bridge:get_compile_options: num_replicas=1 num_partitions=1 device_assignment=[[CpuDevice(id=0)]]\n",
      "WARNING:jax._src.dispatch:Finished XLA compilation of jit(square) in 0.006865501403808594 sec\n",
      "WARNING:jax._src.dispatch:Finished tracing + transforming true_divide for pjit in 0.0003249645233154297 sec\n",
      "DEBUG:jax._src.interpreters.pxla:Compiling true_divide for with global shapes and types [ShapedArray(float32[45]), ShapedArray(float32[])]. Argument mapping: (GSPMDSharding({replicated}), GSPMDSharding({replicated})).\n",
      "WARNING:jax._src.dispatch:Finished jaxpr to MLIR module conversion jit(true_divide) in 0.001283407211303711 sec\n",
      "DEBUG:jax._src.xla_bridge:get_compile_options: num_replicas=1 num_partitions=1 device_assignment=[[CpuDevice(id=0)]]\n",
      "WARNING:jax._src.dispatch:Finished XLA compilation of jit(true_divide) in 0.006790637969970703 sec\n",
      "WARNING:jax._src.dispatch:Finished tracing + transforming <lambda> for pjit in 0.0002646446228027344 sec\n",
      "DEBUG:jax._src.interpreters.pxla:Compiling <lambda> for with global shapes and types [ShapedArray(float32[45])]. Argument mapping: (GSPMDSharding({replicated}),).\n",
      "WARNING:jax._src.dispatch:Finished jaxpr to MLIR module conversion jit(<lambda>) in 0.0014011859893798828 sec\n",
      "DEBUG:jax._src.xla_bridge:get_compile_options: num_replicas=1 num_partitions=1 device_assignment=[[CpuDevice(id=0)]]\n",
      "WARNING:jax._src.dispatch:Finished XLA compilation of jit(<lambda>) in 0.006634950637817383 sec\n",
      "WARNING:jax._src.dispatch:Finished tracing + transforming fn for pjit in 0.00042247772216796875 sec\n",
      "DEBUG:jax._src.interpreters.pxla:Compiling fn for with global shapes and types [ShapedArray(float32[45]), ShapedArray(float32[], weak_type=True)]. Argument mapping: (GSPMDSharding({replicated}), GSPMDSharding({replicated})).\n",
      "WARNING:jax._src.dispatch:Finished jaxpr to MLIR module conversion jit(fn) in 0.0014164447784423828 sec\n",
      "DEBUG:jax._src.xla_bridge:get_compile_options: num_replicas=1 num_partitions=1 device_assignment=[[CpuDevice(id=0)]]\n",
      "WARNING:jax._src.dispatch:Finished XLA compilation of jit(fn) in 0.0067441463470458984 sec\n",
      "DEBUG:jax._src.interpreters.pxla:Compiling true_divide for with global shapes and types [ShapedArray(float32[45]), ShapedArray(float32[45])]. Argument mapping: (GSPMDSharding({replicated}), GSPMDSharding({replicated})).\n",
      "WARNING:jax._src.dispatch:Finished jaxpr to MLIR module conversion jit(true_divide) in 0.001367807388305664 sec\n",
      "DEBUG:jax._src.xla_bridge:get_compile_options: num_replicas=1 num_partitions=1 device_assignment=[[CpuDevice(id=0)]]\n",
      "WARNING:jax._src.dispatch:Finished XLA compilation of jit(true_divide) in 0.006712436676025391 sec\n",
      "DEBUG:jax._src.interpreters.pxla:Compiling <lambda> for with global shapes and types [ShapedArray(float32[45]), ShapedArray(float32[45])]. Argument mapping: (GSPMDSharding({replicated}), GSPMDSharding({replicated})).\n",
      "WARNING:jax._src.dispatch:Finished jaxpr to MLIR module conversion jit(<lambda>) in 0.0011572837829589844 sec\n",
      "DEBUG:jax._src.xla_bridge:get_compile_options: num_replicas=1 num_partitions=1 device_assignment=[[CpuDevice(id=0)]]\n",
      "WARNING:jax._src.dispatch:Finished XLA compilation of jit(<lambda>) in 0.006888151168823242 sec\n",
      "WARNING:jax._src.dispatch:Finished tracing + transforming fn for pjit in 0.00041604042053222656 sec\n"
     ]
    },
    {
     "name": "stderr",
     "output_type": "stream",
     "text": [
      "DEBUG:jax._src.interpreters.pxla:Compiling fn for with global shapes and types [ShapedArray(float32[], weak_type=True), ShapedArray(float32[30,60])]. Argument mapping: (GSPMDSharding({replicated}), GSPMDSharding({replicated})).\n",
      "WARNING:jax._src.dispatch:Finished jaxpr to MLIR module conversion jit(fn) in 0.0013363361358642578 sec\n",
      "DEBUG:jax._src.xla_bridge:get_compile_options: num_replicas=1 num_partitions=1 device_assignment=[[CpuDevice(id=0)]]\n",
      "WARNING:jax._src.dispatch:Finished XLA compilation of jit(fn) in 0.0076618194580078125 sec\n",
      "WARNING:jax._src.dispatch:Finished tracing + transforming fn for pjit in 0.00035500526428222656 sec\n",
      "DEBUG:jax._src.interpreters.pxla:Compiling fn for with global shapes and types [ShapedArray(float32[30,60]), ShapedArray(float32[30,60])]. Argument mapping: (GSPMDSharding({replicated}), GSPMDSharding({replicated})).\n",
      "WARNING:jax._src.dispatch:Finished jaxpr to MLIR module conversion jit(fn) in 0.001130819320678711 sec\n",
      "DEBUG:jax._src.xla_bridge:get_compile_options: num_replicas=1 num_partitions=1 device_assignment=[[CpuDevice(id=0)]]\n",
      "WARNING:jax._src.dispatch:Finished XLA compilation of jit(fn) in 0.00783085823059082 sec\n",
      "WARNING:jax._src.dispatch:Finished tracing + transforming square for pjit in 0.0002989768981933594 sec\n",
      "DEBUG:jax._src.interpreters.pxla:Compiling square for with global shapes and types [ShapedArray(float32[30,60])]. Argument mapping: (GSPMDSharding({replicated}),).\n",
      "WARNING:jax._src.dispatch:Finished jaxpr to MLIR module conversion jit(square) in 0.001622915267944336 sec\n",
      "DEBUG:jax._src.xla_bridge:get_compile_options: num_replicas=1 num_partitions=1 device_assignment=[[CpuDevice(id=0)]]\n",
      "WARNING:jax._src.dispatch:Finished XLA compilation of jit(square) in 0.007378101348876953 sec\n",
      "WARNING:jax._src.dispatch:Finished tracing + transforming true_divide for pjit in 0.00032639503479003906 sec\n",
      "DEBUG:jax._src.interpreters.pxla:Compiling true_divide for with global shapes and types [ShapedArray(float32[30,60]), ShapedArray(float32[])]. Argument mapping: (GSPMDSharding({replicated}), GSPMDSharding({replicated})).\n",
      "WARNING:jax._src.dispatch:Finished jaxpr to MLIR module conversion jit(true_divide) in 0.001421213150024414 sec\n",
      "DEBUG:jax._src.xla_bridge:get_compile_options: num_replicas=1 num_partitions=1 device_assignment=[[CpuDevice(id=0)]]\n",
      "WARNING:jax._src.dispatch:Finished XLA compilation of jit(true_divide) in 0.006936311721801758 sec\n",
      "WARNING:jax._src.dispatch:Finished tracing + transforming <lambda> for pjit in 0.0003421306610107422 sec\n",
      "DEBUG:jax._src.interpreters.pxla:Compiling <lambda> for with global shapes and types [ShapedArray(float32[30,60])]. Argument mapping: (GSPMDSharding({replicated}),).\n",
      "WARNING:jax._src.dispatch:Finished jaxpr to MLIR module conversion jit(<lambda>) in 0.0010929107666015625 sec\n",
      "DEBUG:jax._src.xla_bridge:get_compile_options: num_replicas=1 num_partitions=1 device_assignment=[[CpuDevice(id=0)]]\n",
      "WARNING:jax._src.dispatch:Finished XLA compilation of jit(<lambda>) in 0.006598949432373047 sec\n",
      "WARNING:jax._src.dispatch:Finished tracing + transforming fn for pjit in 0.00039768218994140625 sec\n",
      "DEBUG:jax._src.interpreters.pxla:Compiling fn for with global shapes and types [ShapedArray(float32[30,60]), ShapedArray(float32[], weak_type=True)]. Argument mapping: (GSPMDSharding({replicated}), GSPMDSharding({replicated})).\n",
      "WARNING:jax._src.dispatch:Finished jaxpr to MLIR module conversion jit(fn) in 0.0012693405151367188 sec\n",
      "DEBUG:jax._src.xla_bridge:get_compile_options: num_replicas=1 num_partitions=1 device_assignment=[[CpuDevice(id=0)]]\n",
      "WARNING:jax._src.dispatch:Finished XLA compilation of jit(fn) in 0.008318185806274414 sec\n",
      "WARNING:jax._src.dispatch:Finished tracing + transforming true_divide for pjit in 0.0006437301635742188 sec\n",
      "DEBUG:jax._src.interpreters.pxla:Compiling true_divide for with global shapes and types [ShapedArray(float32[30,60]), ShapedArray(float32[30,60])]. Argument mapping: (GSPMDSharding({replicated}), GSPMDSharding({replicated})).\n",
      "WARNING:jax._src.dispatch:Finished jaxpr to MLIR module conversion jit(true_divide) in 0.0012655258178710938 sec\n",
      "DEBUG:jax._src.xla_bridge:get_compile_options: num_replicas=1 num_partitions=1 device_assignment=[[CpuDevice(id=0)]]\n",
      "WARNING:jax._src.dispatch:Finished XLA compilation of jit(true_divide) in 0.007848978042602539 sec\n",
      "WARNING:jax._src.dispatch:Finished tracing + transforming <lambda> for pjit in 0.0003581047058105469 sec\n",
      "DEBUG:jax._src.interpreters.pxla:Compiling <lambda> for with global shapes and types [ShapedArray(float32[30,60]), ShapedArray(float32[30,60])]. Argument mapping: (GSPMDSharding({replicated}), GSPMDSharding({replicated})).\n",
      "WARNING:jax._src.dispatch:Finished jaxpr to MLIR module conversion jit(<lambda>) in 0.0012316703796386719 sec\n",
      "DEBUG:jax._src.xla_bridge:get_compile_options: num_replicas=1 num_partitions=1 device_assignment=[[CpuDevice(id=0)]]\n",
      "WARNING:jax._src.dispatch:Finished XLA compilation of jit(<lambda>) in 0.007937431335449219 sec\n",
      "WARNING:jax._src.dispatch:Finished tracing + transforming fn for pjit in 0.0005650520324707031 sec\n",
      "DEBUG:jax._src.interpreters.pxla:Compiling fn for with global shapes and types [ShapedArray(float32[], weak_type=True), ShapedArray(float32[45,30])]. Argument mapping: (GSPMDSharding({replicated}), GSPMDSharding({replicated})).\n",
      "WARNING:jax._src.dispatch:Finished jaxpr to MLIR module conversion jit(fn) in 0.0015604496002197266 sec\n",
      "DEBUG:jax._src.xla_bridge:get_compile_options: num_replicas=1 num_partitions=1 device_assignment=[[CpuDevice(id=0)]]\n",
      "WARNING:jax._src.dispatch:Finished XLA compilation of jit(fn) in 0.007626533508300781 sec\n",
      "WARNING:jax._src.dispatch:Finished tracing + transforming fn for pjit in 0.00036215782165527344 sec\n",
      "DEBUG:jax._src.interpreters.pxla:Compiling fn for with global shapes and types [ShapedArray(float32[45,30]), ShapedArray(float32[45,30])]. Argument mapping: (GSPMDSharding({replicated}), GSPMDSharding({replicated})).\n",
      "WARNING:jax._src.dispatch:Finished jaxpr to MLIR module conversion jit(fn) in 0.0013117790222167969 sec\n",
      "DEBUG:jax._src.xla_bridge:get_compile_options: num_replicas=1 num_partitions=1 device_assignment=[[CpuDevice(id=0)]]\n",
      "WARNING:jax._src.dispatch:Finished XLA compilation of jit(fn) in 0.007552146911621094 sec\n",
      "WARNING:jax._src.dispatch:Finished tracing + transforming square for pjit in 0.0003788471221923828 sec\n",
      "DEBUG:jax._src.interpreters.pxla:Compiling square for with global shapes and types [ShapedArray(float32[45,30])]. Argument mapping: (GSPMDSharding({replicated}),).\n",
      "WARNING:jax._src.dispatch:Finished jaxpr to MLIR module conversion jit(square) in 0.001352071762084961 sec\n",
      "DEBUG:jax._src.xla_bridge:get_compile_options: num_replicas=1 num_partitions=1 device_assignment=[[CpuDevice(id=0)]]\n",
      "WARNING:jax._src.dispatch:Finished XLA compilation of jit(square) in 0.0075037479400634766 sec\n",
      "WARNING:jax._src.dispatch:Finished tracing + transforming true_divide for pjit in 0.00034117698669433594 sec\n",
      "DEBUG:jax._src.interpreters.pxla:Compiling true_divide for with global shapes and types [ShapedArray(float32[45,30]), ShapedArray(float32[])]. Argument mapping: (GSPMDSharding({replicated}), GSPMDSharding({replicated})).\n",
      "WARNING:jax._src.dispatch:Finished jaxpr to MLIR module conversion jit(true_divide) in 0.0011785030364990234 sec\n",
      "DEBUG:jax._src.xla_bridge:get_compile_options: num_replicas=1 num_partitions=1 device_assignment=[[CpuDevice(id=0)]]\n",
      "WARNING:jax._src.dispatch:Finished XLA compilation of jit(true_divide) in 0.007452249526977539 sec\n",
      "WARNING:jax._src.dispatch:Finished tracing + transforming <lambda> for pjit in 0.0003905296325683594 sec\n",
      "DEBUG:jax._src.interpreters.pxla:Compiling <lambda> for with global shapes and types [ShapedArray(float32[45,30])]. Argument mapping: (GSPMDSharding({replicated}),).\n",
      "WARNING:jax._src.dispatch:Finished jaxpr to MLIR module conversion jit(<lambda>) in 0.0011539459228515625 sec\n",
      "DEBUG:jax._src.xla_bridge:get_compile_options: num_replicas=1 num_partitions=1 device_assignment=[[CpuDevice(id=0)]]\n",
      "WARNING:jax._src.dispatch:Finished XLA compilation of jit(<lambda>) in 0.007342100143432617 sec\n",
      "WARNING:jax._src.dispatch:Finished tracing + transforming fn for pjit in 0.0005090236663818359 sec\n",
      "DEBUG:jax._src.interpreters.pxla:Compiling fn for with global shapes and types [ShapedArray(float32[45,30]), ShapedArray(float32[], weak_type=True)]. Argument mapping: (GSPMDSharding({replicated}), GSPMDSharding({replicated})).\n"
     ]
    },
    {
     "name": "stderr",
     "output_type": "stream",
     "text": [
      "WARNING:jax._src.dispatch:Finished jaxpr to MLIR module conversion jit(fn) in 0.0013356208801269531 sec\n",
      "DEBUG:jax._src.xla_bridge:get_compile_options: num_replicas=1 num_partitions=1 device_assignment=[[CpuDevice(id=0)]]\n",
      "WARNING:jax._src.dispatch:Finished XLA compilation of jit(fn) in 0.007529497146606445 sec\n",
      "WARNING:jax._src.dispatch:Finished tracing + transforming true_divide for pjit in 0.00035262107849121094 sec\n",
      "DEBUG:jax._src.interpreters.pxla:Compiling true_divide for with global shapes and types [ShapedArray(float32[45,30]), ShapedArray(float32[45,30])]. Argument mapping: (GSPMDSharding({replicated}), GSPMDSharding({replicated})).\n",
      "WARNING:jax._src.dispatch:Finished jaxpr to MLIR module conversion jit(true_divide) in 0.0013582706451416016 sec\n",
      "DEBUG:jax._src.xla_bridge:get_compile_options: num_replicas=1 num_partitions=1 device_assignment=[[CpuDevice(id=0)]]\n",
      "WARNING:jax._src.dispatch:Finished XLA compilation of jit(true_divide) in 0.0077173709869384766 sec\n",
      "WARNING:jax._src.dispatch:Finished tracing + transforming <lambda> for pjit in 0.000354766845703125 sec\n",
      "DEBUG:jax._src.interpreters.pxla:Compiling <lambda> for with global shapes and types [ShapedArray(float32[45,30]), ShapedArray(float32[45,30])]. Argument mapping: (GSPMDSharding({replicated}), GSPMDSharding({replicated})).\n",
      "WARNING:jax._src.dispatch:Finished jaxpr to MLIR module conversion jit(<lambda>) in 0.0011298656463623047 sec\n",
      "DEBUG:jax._src.xla_bridge:get_compile_options: num_replicas=1 num_partitions=1 device_assignment=[[CpuDevice(id=0)]]\n",
      "WARNING:jax._src.dispatch:Finished XLA compilation of jit(<lambda>) in 0.007386207580566406 sec\n",
      "WARNING:jax._src.dispatch:Finished tracing + transforming fn for pjit in 0.0004024505615234375 sec\n",
      "DEBUG:jax._src.interpreters.pxla:Compiling fn for with global shapes and types [ShapedArray(float32[], weak_type=True), ShapedArray(float32[45,15])]. Argument mapping: (GSPMDSharding({replicated}), GSPMDSharding({replicated})).\n",
      "WARNING:jax._src.dispatch:Finished jaxpr to MLIR module conversion jit(fn) in 0.0014760494232177734 sec\n",
      "DEBUG:jax._src.xla_bridge:get_compile_options: num_replicas=1 num_partitions=1 device_assignment=[[CpuDevice(id=0)]]\n",
      "WARNING:jax._src.dispatch:Finished XLA compilation of jit(fn) in 0.0076694488525390625 sec\n",
      "WARNING:jax._src.dispatch:Finished tracing + transforming fn for pjit in 0.0003578662872314453 sec\n",
      "DEBUG:jax._src.interpreters.pxla:Compiling fn for with global shapes and types [ShapedArray(float32[45,15]), ShapedArray(float32[45,15])]. Argument mapping: (GSPMDSharding({replicated}), GSPMDSharding({replicated})).\n",
      "WARNING:jax._src.dispatch:Finished jaxpr to MLIR module conversion jit(fn) in 0.0011131763458251953 sec\n",
      "DEBUG:jax._src.xla_bridge:get_compile_options: num_replicas=1 num_partitions=1 device_assignment=[[CpuDevice(id=0)]]\n",
      "WARNING:jax._src.dispatch:Finished XLA compilation of jit(fn) in 0.007639646530151367 sec\n",
      "WARNING:jax._src.dispatch:Finished tracing + transforming square for pjit in 0.0003094673156738281 sec\n",
      "DEBUG:jax._src.interpreters.pxla:Compiling square for with global shapes and types [ShapedArray(float32[45,15])]. Argument mapping: (GSPMDSharding({replicated}),).\n",
      "WARNING:jax._src.dispatch:Finished jaxpr to MLIR module conversion jit(square) in 0.0015492439270019531 sec\n",
      "DEBUG:jax._src.xla_bridge:get_compile_options: num_replicas=1 num_partitions=1 device_assignment=[[CpuDevice(id=0)]]\n",
      "WARNING:jax._src.dispatch:Finished XLA compilation of jit(square) in 0.00729823112487793 sec\n",
      "WARNING:jax._src.dispatch:Finished tracing + transforming true_divide for pjit in 0.0003325939178466797 sec\n",
      "DEBUG:jax._src.interpreters.pxla:Compiling true_divide for with global shapes and types [ShapedArray(float32[45,15]), ShapedArray(float32[])]. Argument mapping: (GSPMDSharding({replicated}), GSPMDSharding({replicated})).\n",
      "WARNING:jax._src.dispatch:Finished jaxpr to MLIR module conversion jit(true_divide) in 0.001188039779663086 sec\n",
      "DEBUG:jax._src.xla_bridge:get_compile_options: num_replicas=1 num_partitions=1 device_assignment=[[CpuDevice(id=0)]]\n",
      "WARNING:jax._src.dispatch:Finished XLA compilation of jit(true_divide) in 0.007473468780517578 sec\n",
      "WARNING:jax._src.dispatch:Finished tracing + transforming <lambda> for pjit in 0.0005102157592773438 sec\n",
      "DEBUG:jax._src.interpreters.pxla:Compiling <lambda> for with global shapes and types [ShapedArray(float32[45,15])]. Argument mapping: (GSPMDSharding({replicated}),).\n",
      "WARNING:jax._src.dispatch:Finished jaxpr to MLIR module conversion jit(<lambda>) in 0.0012691020965576172 sec\n",
      "DEBUG:jax._src.xla_bridge:get_compile_options: num_replicas=1 num_partitions=1 device_assignment=[[CpuDevice(id=0)]]\n",
      "WARNING:jax._src.dispatch:Finished XLA compilation of jit(<lambda>) in 0.007239818572998047 sec\n",
      "WARNING:jax._src.dispatch:Finished tracing + transforming fn for pjit in 0.0004191398620605469 sec\n",
      "DEBUG:jax._src.interpreters.pxla:Compiling fn for with global shapes and types [ShapedArray(float32[45,15]), ShapedArray(float32[], weak_type=True)]. Argument mapping: (GSPMDSharding({replicated}), GSPMDSharding({replicated})).\n",
      "WARNING:jax._src.dispatch:Finished jaxpr to MLIR module conversion jit(fn) in 0.0012814998626708984 sec\n",
      "DEBUG:jax._src.xla_bridge:get_compile_options: num_replicas=1 num_partitions=1 device_assignment=[[CpuDevice(id=0)]]\n",
      "WARNING:jax._src.dispatch:Finished XLA compilation of jit(fn) in 0.007611274719238281 sec\n",
      "WARNING:jax._src.dispatch:Finished tracing + transforming true_divide for pjit in 0.0003674030303955078 sec\n",
      "DEBUG:jax._src.interpreters.pxla:Compiling true_divide for with global shapes and types [ShapedArray(float32[45,15]), ShapedArray(float32[45,15])]. Argument mapping: (GSPMDSharding({replicated}), GSPMDSharding({replicated})).\n",
      "WARNING:jax._src.dispatch:Finished jaxpr to MLIR module conversion jit(true_divide) in 0.0011327266693115234 sec\n",
      "DEBUG:jax._src.xla_bridge:get_compile_options: num_replicas=1 num_partitions=1 device_assignment=[[CpuDevice(id=0)]]\n",
      "WARNING:jax._src.dispatch:Finished XLA compilation of jit(true_divide) in 0.007531404495239258 sec\n",
      "WARNING:jax._src.dispatch:Finished tracing + transforming <lambda> for pjit in 0.0003712177276611328 sec\n",
      "DEBUG:jax._src.interpreters.pxla:Compiling <lambda> for with global shapes and types [ShapedArray(float32[45,15]), ShapedArray(float32[45,15])]. Argument mapping: (GSPMDSharding({replicated}), GSPMDSharding({replicated})).\n",
      "WARNING:jax._src.dispatch:Finished jaxpr to MLIR module conversion jit(<lambda>) in 0.0018913745880126953 sec\n",
      "DEBUG:jax._src.xla_bridge:get_compile_options: num_replicas=1 num_partitions=1 device_assignment=[[CpuDevice(id=0)]]\n",
      "WARNING:jax._src.dispatch:Finished XLA compilation of jit(<lambda>) in 0.007639646530151367 sec\n",
      "WARNING:jax._src.dispatch:Finished tracing + transforming fn for pjit in 0.0003726482391357422 sec\n",
      "DEBUG:jax._src.interpreters.pxla:Compiling fn for with global shapes and types [ShapedArray(float32[], weak_type=True), ShapedArray(float32[15])]. Argument mapping: (GSPMDSharding({replicated}), GSPMDSharding({replicated})).\n",
      "WARNING:jax._src.dispatch:Finished jaxpr to MLIR module conversion jit(fn) in 0.0013883113861083984 sec\n",
      "DEBUG:jax._src.xla_bridge:get_compile_options: num_replicas=1 num_partitions=1 device_assignment=[[CpuDevice(id=0)]]\n",
      "WARNING:jax._src.dispatch:Finished XLA compilation of jit(fn) in 0.007046937942504883 sec\n",
      "DEBUG:jax._src.interpreters.pxla:Compiling fn for with global shapes and types [ShapedArray(float32[15]), ShapedArray(float32[15])]. Argument mapping: (GSPMDSharding({replicated}), GSPMDSharding({replicated})).\n",
      "WARNING:jax._src.dispatch:Finished jaxpr to MLIR module conversion jit(fn) in 0.0013546943664550781 sec\n",
      "DEBUG:jax._src.xla_bridge:get_compile_options: num_replicas=1 num_partitions=1 device_assignment=[[CpuDevice(id=0)]]\n",
      "WARNING:jax._src.dispatch:Finished XLA compilation of jit(fn) in 0.006933689117431641 sec\n",
      "WARNING:jax._src.dispatch:Finished tracing + transforming square for pjit in 0.0002906322479248047 sec\n",
      "DEBUG:jax._src.interpreters.pxla:Compiling square for with global shapes and types [ShapedArray(float32[15])]. Argument mapping: (GSPMDSharding({replicated}),).\n",
      "WARNING:jax._src.dispatch:Finished jaxpr to MLIR module conversion jit(square) in 0.0023789405822753906 sec\n"
     ]
    },
    {
     "name": "stderr",
     "output_type": "stream",
     "text": [
      "DEBUG:jax._src.xla_bridge:get_compile_options: num_replicas=1 num_partitions=1 device_assignment=[[CpuDevice(id=0)]]\n",
      "WARNING:jax._src.dispatch:Finished XLA compilation of jit(square) in 0.009308576583862305 sec\n",
      "WARNING:jax._src.dispatch:Finished tracing + transforming true_divide for pjit in 0.0004341602325439453 sec\n",
      "DEBUG:jax._src.interpreters.pxla:Compiling true_divide for with global shapes and types [ShapedArray(float32[15]), ShapedArray(float32[])]. Argument mapping: (GSPMDSharding({replicated}), GSPMDSharding({replicated})).\n",
      "WARNING:jax._src.dispatch:Finished jaxpr to MLIR module conversion jit(true_divide) in 0.0018374919891357422 sec\n",
      "DEBUG:jax._src.xla_bridge:get_compile_options: num_replicas=1 num_partitions=1 device_assignment=[[CpuDevice(id=0)]]\n",
      "WARNING:jax._src.dispatch:Finished XLA compilation of jit(true_divide) in 0.009634017944335938 sec\n",
      "WARNING:jax._src.dispatch:Finished tracing + transforming <lambda> for pjit in 0.00037479400634765625 sec\n",
      "DEBUG:jax._src.interpreters.pxla:Compiling <lambda> for with global shapes and types [ShapedArray(float32[15])]. Argument mapping: (GSPMDSharding({replicated}),).\n",
      "WARNING:jax._src.dispatch:Finished jaxpr to MLIR module conversion jit(<lambda>) in 0.0016982555389404297 sec\n",
      "DEBUG:jax._src.xla_bridge:get_compile_options: num_replicas=1 num_partitions=1 device_assignment=[[CpuDevice(id=0)]]\n",
      "WARNING:jax._src.dispatch:Finished XLA compilation of jit(<lambda>) in 0.009205102920532227 sec\n",
      "WARNING:jax._src.dispatch:Finished tracing + transforming fn for pjit in 0.0005717277526855469 sec\n",
      "DEBUG:jax._src.interpreters.pxla:Compiling fn for with global shapes and types [ShapedArray(float32[15]), ShapedArray(float32[], weak_type=True)]. Argument mapping: (GSPMDSharding({replicated}), GSPMDSharding({replicated})).\n",
      "WARNING:jax._src.dispatch:Finished jaxpr to MLIR module conversion jit(fn) in 0.0019736289978027344 sec\n",
      "DEBUG:jax._src.xla_bridge:get_compile_options: num_replicas=1 num_partitions=1 device_assignment=[[CpuDevice(id=0)]]\n",
      "WARNING:jax._src.dispatch:Finished XLA compilation of jit(fn) in 0.009596824645996094 sec\n",
      "WARNING:jax._src.dispatch:Finished tracing + transforming true_divide for pjit in 0.00054931640625 sec\n",
      "DEBUG:jax._src.interpreters.pxla:Compiling true_divide for with global shapes and types [ShapedArray(float32[15]), ShapedArray(float32[15])]. Argument mapping: (GSPMDSharding({replicated}), GSPMDSharding({replicated})).\n",
      "WARNING:jax._src.dispatch:Finished jaxpr to MLIR module conversion jit(true_divide) in 0.0019443035125732422 sec\n",
      "DEBUG:jax._src.xla_bridge:get_compile_options: num_replicas=1 num_partitions=1 device_assignment=[[CpuDevice(id=0)]]\n",
      "WARNING:jax._src.dispatch:Finished XLA compilation of jit(true_divide) in 0.00936436653137207 sec\n",
      "DEBUG:jax._src.interpreters.pxla:Compiling <lambda> for with global shapes and types [ShapedArray(float32[15]), ShapedArray(float32[15])]. Argument mapping: (GSPMDSharding({replicated}), GSPMDSharding({replicated})).\n",
      "WARNING:jax._src.dispatch:Finished jaxpr to MLIR module conversion jit(<lambda>) in 0.001828908920288086 sec\n",
      "DEBUG:jax._src.xla_bridge:get_compile_options: num_replicas=1 num_partitions=1 device_assignment=[[CpuDevice(id=0)]]\n",
      "WARNING:jax._src.dispatch:Finished XLA compilation of jit(<lambda>) in 0.009594202041625977 sec\n",
      "WARNING:jax._src.dispatch:Finished tracing + transforming isnan for pjit in 0.000396728515625 sec\n",
      "DEBUG:jax._src.interpreters.pxla:Compiling isnan for with global shapes and types [ShapedArray(float32[150,17375])]. Argument mapping: (GSPMDSharding({replicated}),).\n",
      "WARNING:jax._src.dispatch:Finished jaxpr to MLIR module conversion jit(isnan) in 0.0014872550964355469 sec\n",
      "DEBUG:jax._src.xla_bridge:get_compile_options: num_replicas=1 num_partitions=1 device_assignment=[[CpuDevice(id=0)]]\n",
      "WARNING:jax._src.dispatch:Finished XLA compilation of jit(isnan) in 0.010409832000732422 sec\n",
      "WARNING:jax._src.dispatch:Finished tracing + transforming _reduce_any for pjit in 0.0004801750183105469 sec\n",
      "DEBUG:jax._src.interpreters.pxla:Compiling _reduce_any for with global shapes and types [ShapedArray(bool[150,17375])]. Argument mapping: (GSPMDSharding({replicated}),).\n",
      "WARNING:jax._src.dispatch:Finished jaxpr to MLIR module conversion jit(_reduce_any) in 0.001402139663696289 sec\n",
      "DEBUG:jax._src.xla_bridge:get_compile_options: num_replicas=1 num_partitions=1 device_assignment=[[CpuDevice(id=0)]]\n",
      "WARNING:jax._src.dispatch:Finished XLA compilation of jit(_reduce_any) in 0.016985654830932617 sec\n",
      "WARNING:jax._src.dispatch:Finished tracing + transforming isnan for pjit in 0.0004436969757080078 sec\n",
      "DEBUG:jax._src.interpreters.pxla:Compiling isnan for with global shapes and types [ShapedArray(float32[150])]. Argument mapping: (GSPMDSharding({replicated}),).\n",
      "WARNING:jax._src.dispatch:Finished jaxpr to MLIR module conversion jit(isnan) in 0.001148223876953125 sec\n",
      "DEBUG:jax._src.xla_bridge:get_compile_options: num_replicas=1 num_partitions=1 device_assignment=[[CpuDevice(id=0)]]\n",
      "WARNING:jax._src.dispatch:Finished XLA compilation of jit(isnan) in 0.008008718490600586 sec\n",
      "WARNING:jax._src.dispatch:Finished tracing + transforming _reduce_any for pjit in 0.0005981922149658203 sec\n",
      "DEBUG:jax._src.interpreters.pxla:Compiling _reduce_any for with global shapes and types [ShapedArray(bool[150])]. Argument mapping: (GSPMDSharding({replicated}),).\n",
      "WARNING:jax._src.dispatch:Finished jaxpr to MLIR module conversion jit(_reduce_any) in 0.0014426708221435547 sec\n",
      "DEBUG:jax._src.xla_bridge:get_compile_options: num_replicas=1 num_partitions=1 device_assignment=[[CpuDevice(id=0)]]\n",
      "WARNING:jax._src.dispatch:Finished XLA compilation of jit(_reduce_any) in 0.008710145950317383 sec\n",
      "WARNING:jax._src.dispatch:Finished tracing + transforming isnan for pjit in 0.0002818107604980469 sec\n",
      "DEBUG:jax._src.interpreters.pxla:Compiling isnan for with global shapes and types [ShapedArray(float32[30,150])]. Argument mapping: (GSPMDSharding({replicated}),).\n",
      "WARNING:jax._src.dispatch:Finished jaxpr to MLIR module conversion jit(isnan) in 0.0015676021575927734 sec\n",
      "DEBUG:jax._src.xla_bridge:get_compile_options: num_replicas=1 num_partitions=1 device_assignment=[[CpuDevice(id=0)]]\n",
      "WARNING:jax._src.dispatch:Finished XLA compilation of jit(isnan) in 0.008670568466186523 sec\n",
      "WARNING:jax._src.dispatch:Finished tracing + transforming _reduce_any for pjit in 0.0004718303680419922 sec\n",
      "DEBUG:jax._src.interpreters.pxla:Compiling _reduce_any for with global shapes and types [ShapedArray(bool[30,150])]. Argument mapping: (GSPMDSharding({replicated}),).\n",
      "WARNING:jax._src.dispatch:Finished jaxpr to MLIR module conversion jit(_reduce_any) in 0.001421213150024414 sec\n",
      "DEBUG:jax._src.xla_bridge:get_compile_options: num_replicas=1 num_partitions=1 device_assignment=[[CpuDevice(id=0)]]\n",
      "WARNING:jax._src.dispatch:Finished XLA compilation of jit(_reduce_any) in 0.009792327880859375 sec\n",
      "WARNING:jax._src.dispatch:Finished tracing + transforming isnan for pjit in 0.00027871131896972656 sec\n",
      "DEBUG:jax._src.interpreters.pxla:Compiling isnan for with global shapes and types [ShapedArray(float32[30])]. Argument mapping: (GSPMDSharding({replicated}),).\n",
      "WARNING:jax._src.dispatch:Finished jaxpr to MLIR module conversion jit(isnan) in 0.001184701919555664 sec\n",
      "DEBUG:jax._src.xla_bridge:get_compile_options: num_replicas=1 num_partitions=1 device_assignment=[[CpuDevice(id=0)]]\n",
      "WARNING:jax._src.dispatch:Finished XLA compilation of jit(isnan) in 0.007280111312866211 sec\n",
      "WARNING:jax._src.dispatch:Finished tracing + transforming _reduce_any for pjit in 0.0004649162292480469 sec\n",
      "DEBUG:jax._src.interpreters.pxla:Compiling _reduce_any for with global shapes and types [ShapedArray(bool[30])]. Argument mapping: (GSPMDSharding({replicated}),).\n",
      "WARNING:jax._src.dispatch:Finished jaxpr to MLIR module conversion jit(_reduce_any) in 0.0014410018920898438 sec\n",
      "DEBUG:jax._src.xla_bridge:get_compile_options: num_replicas=1 num_partitions=1 device_assignment=[[CpuDevice(id=0)]]\n",
      "WARNING:jax._src.dispatch:Finished XLA compilation of jit(_reduce_any) in 0.007186174392700195 sec\n",
      "WARNING:jax._src.dispatch:Finished tracing + transforming isnan for pjit in 0.0004143714904785156 sec\n",
      "DEBUG:jax._src.interpreters.pxla:Compiling isnan for with global shapes and types [ShapedArray(float32[25,7])]. Argument mapping: (GSPMDSharding({replicated}),).\n"
     ]
    },
    {
     "name": "stderr",
     "output_type": "stream",
     "text": [
      "WARNING:jax._src.dispatch:Finished jaxpr to MLIR module conversion jit(isnan) in 0.0013058185577392578 sec\n",
      "DEBUG:jax._src.xla_bridge:get_compile_options: num_replicas=1 num_partitions=1 device_assignment=[[CpuDevice(id=0)]]\n",
      "WARNING:jax._src.dispatch:Finished XLA compilation of jit(isnan) in 0.0070688724517822266 sec\n",
      "WARNING:jax._src.dispatch:Finished tracing + transforming _reduce_any for pjit in 0.0005555152893066406 sec\n",
      "DEBUG:jax._src.interpreters.pxla:Compiling _reduce_any for with global shapes and types [ShapedArray(bool[25,7])]. Argument mapping: (GSPMDSharding({replicated}),).\n",
      "WARNING:jax._src.dispatch:Finished jaxpr to MLIR module conversion jit(_reduce_any) in 0.0013949871063232422 sec\n",
      "DEBUG:jax._src.xla_bridge:get_compile_options: num_replicas=1 num_partitions=1 device_assignment=[[CpuDevice(id=0)]]\n",
      "WARNING:jax._src.dispatch:Finished XLA compilation of jit(_reduce_any) in 0.007299900054931641 sec\n",
      "WARNING:jax._src.dispatch:Finished tracing + transforming isnan for pjit in 0.0002732276916503906 sec\n",
      "DEBUG:jax._src.interpreters.pxla:Compiling isnan for with global shapes and types [ShapedArray(float32[25])]. Argument mapping: (GSPMDSharding({replicated}),).\n",
      "WARNING:jax._src.dispatch:Finished jaxpr to MLIR module conversion jit(isnan) in 0.0012836456298828125 sec\n",
      "DEBUG:jax._src.xla_bridge:get_compile_options: num_replicas=1 num_partitions=1 device_assignment=[[CpuDevice(id=0)]]\n",
      "WARNING:jax._src.dispatch:Finished XLA compilation of jit(isnan) in 0.007083415985107422 sec\n",
      "WARNING:jax._src.dispatch:Finished tracing + transforming _reduce_any for pjit in 0.00044655799865722656 sec\n",
      "DEBUG:jax._src.interpreters.pxla:Compiling _reduce_any for with global shapes and types [ShapedArray(bool[25])]. Argument mapping: (GSPMDSharding({replicated}),).\n",
      "WARNING:jax._src.dispatch:Finished jaxpr to MLIR module conversion jit(_reduce_any) in 0.0014069080352783203 sec\n",
      "DEBUG:jax._src.xla_bridge:get_compile_options: num_replicas=1 num_partitions=1 device_assignment=[[CpuDevice(id=0)]]\n",
      "WARNING:jax._src.dispatch:Finished XLA compilation of jit(_reduce_any) in 0.0075168609619140625 sec\n",
      "WARNING:jax._src.dispatch:Finished tracing + transforming isnan for pjit in 0.00030612945556640625 sec\n",
      "DEBUG:jax._src.interpreters.pxla:Compiling isnan for with global shapes and types [ShapedArray(float32[5,25])]. Argument mapping: (GSPMDSharding({replicated}),).\n",
      "WARNING:jax._src.dispatch:Finished jaxpr to MLIR module conversion jit(isnan) in 0.0013773441314697266 sec\n",
      "DEBUG:jax._src.xla_bridge:get_compile_options: num_replicas=1 num_partitions=1 device_assignment=[[CpuDevice(id=0)]]\n",
      "WARNING:jax._src.dispatch:Finished XLA compilation of jit(isnan) in 0.007344484329223633 sec\n",
      "WARNING:jax._src.dispatch:Finished tracing + transforming _reduce_any for pjit in 0.000457763671875 sec\n",
      "DEBUG:jax._src.interpreters.pxla:Compiling _reduce_any for with global shapes and types [ShapedArray(bool[5,25])]. Argument mapping: (GSPMDSharding({replicated}),).\n",
      "WARNING:jax._src.dispatch:Finished jaxpr to MLIR module conversion jit(_reduce_any) in 0.0014123916625976562 sec\n",
      "DEBUG:jax._src.xla_bridge:get_compile_options: num_replicas=1 num_partitions=1 device_assignment=[[CpuDevice(id=0)]]\n",
      "WARNING:jax._src.dispatch:Finished XLA compilation of jit(_reduce_any) in 0.008064746856689453 sec\n",
      "WARNING:jax._src.dispatch:Finished tracing + transforming isnan for pjit in 0.0002694129943847656 sec\n",
      "DEBUG:jax._src.interpreters.pxla:Compiling isnan for with global shapes and types [ShapedArray(float32[5])]. Argument mapping: (GSPMDSharding({replicated}),).\n",
      "WARNING:jax._src.dispatch:Finished jaxpr to MLIR module conversion jit(isnan) in 0.0012421607971191406 sec\n",
      "DEBUG:jax._src.xla_bridge:get_compile_options: num_replicas=1 num_partitions=1 device_assignment=[[CpuDevice(id=0)]]\n",
      "WARNING:jax._src.dispatch:Finished XLA compilation of jit(isnan) in 0.006228923797607422 sec\n",
      "WARNING:jax._src.dispatch:Finished tracing + transforming _reduce_any for pjit in 0.0004932880401611328 sec\n",
      "DEBUG:jax._src.interpreters.pxla:Compiling _reduce_any for with global shapes and types [ShapedArray(bool[5])]. Argument mapping: (GSPMDSharding({replicated}),).\n",
      "WARNING:jax._src.dispatch:Finished jaxpr to MLIR module conversion jit(_reduce_any) in 0.0014045238494873047 sec\n",
      "DEBUG:jax._src.xla_bridge:get_compile_options: num_replicas=1 num_partitions=1 device_assignment=[[CpuDevice(id=0)]]\n",
      "WARNING:jax._src.dispatch:Finished XLA compilation of jit(_reduce_any) in 0.006375789642333984 sec\n",
      "WARNING:jax._src.dispatch:Finished tracing + transforming isnan for pjit in 0.00039076805114746094 sec\n",
      "DEBUG:jax._src.interpreters.pxla:Compiling isnan for with global shapes and types [ShapedArray(float32[150,30])]. Argument mapping: (GSPMDSharding({replicated}),).\n",
      "WARNING:jax._src.dispatch:Finished jaxpr to MLIR module conversion jit(isnan) in 0.0012521743774414062 sec\n",
      "DEBUG:jax._src.xla_bridge:get_compile_options: num_replicas=1 num_partitions=1 device_assignment=[[CpuDevice(id=0)]]\n",
      "WARNING:jax._src.dispatch:Finished XLA compilation of jit(isnan) in 0.007526874542236328 sec\n",
      "WARNING:jax._src.dispatch:Finished tracing + transforming _reduce_any for pjit in 0.0004830360412597656 sec\n",
      "DEBUG:jax._src.interpreters.pxla:Compiling _reduce_any for with global shapes and types [ShapedArray(bool[150,30])]. Argument mapping: (GSPMDSharding({replicated}),).\n",
      "WARNING:jax._src.dispatch:Finished jaxpr to MLIR module conversion jit(_reduce_any) in 0.0012879371643066406 sec\n",
      "DEBUG:jax._src.xla_bridge:get_compile_options: num_replicas=1 num_partitions=1 device_assignment=[[CpuDevice(id=0)]]\n",
      "WARNING:jax._src.dispatch:Finished XLA compilation of jit(_reduce_any) in 0.010697364807128906 sec\n",
      "WARNING:jax._src.dispatch:Finished tracing + transforming isnan for pjit in 0.0002777576446533203 sec\n",
      "DEBUG:jax._src.interpreters.pxla:Compiling isnan for with global shapes and types [ShapedArray(float32[2081,150])]. Argument mapping: (GSPMDSharding({replicated}),).\n",
      "WARNING:jax._src.dispatch:Finished jaxpr to MLIR module conversion jit(isnan) in 0.0012638568878173828 sec\n",
      "DEBUG:jax._src.xla_bridge:get_compile_options: num_replicas=1 num_partitions=1 device_assignment=[[CpuDevice(id=0)]]\n",
      "WARNING:jax._src.dispatch:Finished XLA compilation of jit(isnan) in 0.008730888366699219 sec\n",
      "WARNING:jax._src.dispatch:Finished tracing + transforming _reduce_any for pjit in 0.00047087669372558594 sec\n",
      "DEBUG:jax._src.interpreters.pxla:Compiling _reduce_any for with global shapes and types [ShapedArray(bool[2081,150])]. Argument mapping: (GSPMDSharding({replicated}),).\n",
      "WARNING:jax._src.dispatch:Finished jaxpr to MLIR module conversion jit(_reduce_any) in 0.0013582706451416016 sec\n",
      "DEBUG:jax._src.xla_bridge:get_compile_options: num_replicas=1 num_partitions=1 device_assignment=[[CpuDevice(id=0)]]\n",
      "WARNING:jax._src.dispatch:Finished XLA compilation of jit(_reduce_any) in 0.016026973724365234 sec\n",
      "DEBUG:jax._src.interpreters.pxla:Compiling isnan for with global shapes and types [ShapedArray(float32[2081])]. Argument mapping: (GSPMDSharding({replicated}),).\n",
      "WARNING:jax._src.dispatch:Finished jaxpr to MLIR module conversion jit(isnan) in 0.0011630058288574219 sec\n",
      "DEBUG:jax._src.xla_bridge:get_compile_options: num_replicas=1 num_partitions=1 device_assignment=[[CpuDevice(id=0)]]\n",
      "WARNING:jax._src.dispatch:Finished XLA compilation of jit(isnan) in 0.007860422134399414 sec\n",
      "WARNING:jax._src.dispatch:Finished tracing + transforming isnan for pjit in 0.0002880096435546875 sec\n",
      "DEBUG:jax._src.interpreters.pxla:Compiling isnan for with global shapes and types [ShapedArray(float32[225,50])]. Argument mapping: (GSPMDSharding({replicated}),).\n",
      "WARNING:jax._src.dispatch:Finished jaxpr to MLIR module conversion jit(isnan) in 0.0011692047119140625 sec\n",
      "DEBUG:jax._src.xla_bridge:get_compile_options: num_replicas=1 num_partitions=1 device_assignment=[[CpuDevice(id=0)]]\n",
      "WARNING:jax._src.dispatch:Finished XLA compilation of jit(isnan) in 0.007536172866821289 sec\n",
      "WARNING:jax._src.dispatch:Finished tracing + transforming _reduce_any for pjit in 0.00046515464782714844 sec\n",
      "DEBUG:jax._src.interpreters.pxla:Compiling _reduce_any for with global shapes and types [ShapedArray(bool[225,50])]. Argument mapping: (GSPMDSharding({replicated}),).\n",
      "WARNING:jax._src.dispatch:Finished jaxpr to MLIR module conversion jit(_reduce_any) in 0.0013260841369628906 sec\n"
     ]
    },
    {
     "name": "stderr",
     "output_type": "stream",
     "text": [
      "DEBUG:jax._src.xla_bridge:get_compile_options: num_replicas=1 num_partitions=1 device_assignment=[[CpuDevice(id=0)]]\n",
      "WARNING:jax._src.dispatch:Finished XLA compilation of jit(_reduce_any) in 0.0108795166015625 sec\n",
      "WARNING:jax._src.dispatch:Finished tracing + transforming isnan for pjit in 0.00028967857360839844 sec\n",
      "DEBUG:jax._src.interpreters.pxla:Compiling isnan for with global shapes and types [ShapedArray(float32[225])]. Argument mapping: (GSPMDSharding({replicated}),).\n",
      "WARNING:jax._src.dispatch:Finished jaxpr to MLIR module conversion jit(isnan) in 0.001397848129272461 sec\n",
      "DEBUG:jax._src.xla_bridge:get_compile_options: num_replicas=1 num_partitions=1 device_assignment=[[CpuDevice(id=0)]]\n",
      "WARNING:jax._src.dispatch:Finished XLA compilation of jit(isnan) in 0.00805044174194336 sec\n",
      "WARNING:jax._src.dispatch:Finished tracing + transforming _reduce_any for pjit in 0.00044345855712890625 sec\n",
      "DEBUG:jax._src.interpreters.pxla:Compiling _reduce_any for with global shapes and types [ShapedArray(bool[225])]. Argument mapping: (GSPMDSharding({replicated}),).\n",
      "WARNING:jax._src.dispatch:Finished jaxpr to MLIR module conversion jit(_reduce_any) in 0.0015113353729248047 sec\n",
      "DEBUG:jax._src.xla_bridge:get_compile_options: num_replicas=1 num_partitions=1 device_assignment=[[CpuDevice(id=0)]]\n",
      "WARNING:jax._src.dispatch:Finished XLA compilation of jit(_reduce_any) in 0.009517431259155273 sec\n",
      "WARNING:jax._src.dispatch:Finished tracing + transforming isnan for pjit in 0.00027942657470703125 sec\n",
      "DEBUG:jax._src.interpreters.pxla:Compiling isnan for with global shapes and types [ShapedArray(float32[225,225])]. Argument mapping: (GSPMDSharding({replicated}),).\n",
      "WARNING:jax._src.dispatch:Finished jaxpr to MLIR module conversion jit(isnan) in 0.0013744831085205078 sec\n",
      "DEBUG:jax._src.xla_bridge:get_compile_options: num_replicas=1 num_partitions=1 device_assignment=[[CpuDevice(id=0)]]\n",
      "WARNING:jax._src.dispatch:Finished XLA compilation of jit(isnan) in 0.008880615234375 sec\n",
      "WARNING:jax._src.dispatch:Finished tracing + transforming _reduce_any for pjit in 0.00045299530029296875 sec\n",
      "DEBUG:jax._src.interpreters.pxla:Compiling _reduce_any for with global shapes and types [ShapedArray(bool[225,225])]. Argument mapping: (GSPMDSharding({replicated}),).\n",
      "WARNING:jax._src.dispatch:Finished jaxpr to MLIR module conversion jit(_reduce_any) in 0.0012722015380859375 sec\n",
      "DEBUG:jax._src.xla_bridge:get_compile_options: num_replicas=1 num_partitions=1 device_assignment=[[CpuDevice(id=0)]]\n",
      "WARNING:jax._src.dispatch:Finished XLA compilation of jit(_reduce_any) in 0.013390779495239258 sec\n",
      "WARNING:jax._src.dispatch:Finished tracing + transforming isnan for pjit in 0.0002734661102294922 sec\n",
      "DEBUG:jax._src.interpreters.pxla:Compiling isnan for with global shapes and types [ShapedArray(float32[45,225])]. Argument mapping: (GSPMDSharding({replicated}),).\n",
      "WARNING:jax._src.dispatch:Finished jaxpr to MLIR module conversion jit(isnan) in 0.0015711784362792969 sec\n",
      "DEBUG:jax._src.xla_bridge:get_compile_options: num_replicas=1 num_partitions=1 device_assignment=[[CpuDevice(id=0)]]\n",
      "WARNING:jax._src.dispatch:Finished XLA compilation of jit(isnan) in 0.00863194465637207 sec\n",
      "WARNING:jax._src.dispatch:Finished tracing + transforming _reduce_any for pjit in 0.0004570484161376953 sec\n",
      "DEBUG:jax._src.interpreters.pxla:Compiling _reduce_any for with global shapes and types [ShapedArray(bool[45,225])]. Argument mapping: (GSPMDSharding({replicated}),).\n",
      "WARNING:jax._src.dispatch:Finished jaxpr to MLIR module conversion jit(_reduce_any) in 0.0012738704681396484 sec\n",
      "DEBUG:jax._src.xla_bridge:get_compile_options: num_replicas=1 num_partitions=1 device_assignment=[[CpuDevice(id=0)]]\n",
      "WARNING:jax._src.dispatch:Finished XLA compilation of jit(_reduce_any) in 0.011904001235961914 sec\n",
      "WARNING:jax._src.dispatch:Finished tracing + transforming isnan for pjit in 0.00028061866760253906 sec\n",
      "DEBUG:jax._src.interpreters.pxla:Compiling isnan for with global shapes and types [ShapedArray(float32[45])]. Argument mapping: (GSPMDSharding({replicated}),).\n",
      "WARNING:jax._src.dispatch:Finished jaxpr to MLIR module conversion jit(isnan) in 0.0012536048889160156 sec\n",
      "DEBUG:jax._src.xla_bridge:get_compile_options: num_replicas=1 num_partitions=1 device_assignment=[[CpuDevice(id=0)]]\n",
      "WARNING:jax._src.dispatch:Finished XLA compilation of jit(isnan) in 0.00683903694152832 sec\n",
      "WARNING:jax._src.dispatch:Finished tracing + transforming _reduce_any for pjit in 0.0004363059997558594 sec\n",
      "DEBUG:jax._src.interpreters.pxla:Compiling _reduce_any for with global shapes and types [ShapedArray(bool[45])]. Argument mapping: (GSPMDSharding({replicated}),).\n",
      "WARNING:jax._src.dispatch:Finished jaxpr to MLIR module conversion jit(_reduce_any) in 0.00144195556640625 sec\n",
      "DEBUG:jax._src.xla_bridge:get_compile_options: num_replicas=1 num_partitions=1 device_assignment=[[CpuDevice(id=0)]]\n",
      "WARNING:jax._src.dispatch:Finished XLA compilation of jit(_reduce_any) in 0.008728265762329102 sec\n",
      "WARNING:jax._src.dispatch:Finished tracing + transforming isnan for pjit in 0.00042319297790527344 sec\n",
      "DEBUG:jax._src.interpreters.pxla:Compiling isnan for with global shapes and types [ShapedArray(float32[30,60])]. Argument mapping: (GSPMDSharding({replicated}),).\n",
      "WARNING:jax._src.dispatch:Finished jaxpr to MLIR module conversion jit(isnan) in 0.0012278556823730469 sec\n",
      "DEBUG:jax._src.xla_bridge:get_compile_options: num_replicas=1 num_partitions=1 device_assignment=[[CpuDevice(id=0)]]\n",
      "WARNING:jax._src.dispatch:Finished XLA compilation of jit(isnan) in 0.0077321529388427734 sec\n",
      "WARNING:jax._src.dispatch:Finished tracing + transforming _reduce_any for pjit in 0.00044798851013183594 sec\n",
      "DEBUG:jax._src.interpreters.pxla:Compiling _reduce_any for with global shapes and types [ShapedArray(bool[30,60])]. Argument mapping: (GSPMDSharding({replicated}),).\n",
      "WARNING:jax._src.dispatch:Finished jaxpr to MLIR module conversion jit(_reduce_any) in 0.0012962818145751953 sec\n",
      "DEBUG:jax._src.xla_bridge:get_compile_options: num_replicas=1 num_partitions=1 device_assignment=[[CpuDevice(id=0)]]\n",
      "WARNING:jax._src.dispatch:Finished XLA compilation of jit(_reduce_any) in 0.009592294692993164 sec\n",
      "WARNING:jax._src.dispatch:Finished tracing + transforming isnan for pjit in 0.0002796649932861328 sec\n",
      "DEBUG:jax._src.interpreters.pxla:Compiling isnan for with global shapes and types [ShapedArray(float32[45,30])]. Argument mapping: (GSPMDSharding({replicated}),).\n",
      "WARNING:jax._src.dispatch:Finished jaxpr to MLIR module conversion jit(isnan) in 0.0012600421905517578 sec\n",
      "DEBUG:jax._src.xla_bridge:get_compile_options: num_replicas=1 num_partitions=1 device_assignment=[[CpuDevice(id=0)]]\n",
      "WARNING:jax._src.dispatch:Finished XLA compilation of jit(isnan) in 0.0075571537017822266 sec\n",
      "WARNING:jax._src.dispatch:Finished tracing + transforming _reduce_any for pjit in 0.00047278404235839844 sec\n",
      "DEBUG:jax._src.interpreters.pxla:Compiling _reduce_any for with global shapes and types [ShapedArray(bool[45,30])]. Argument mapping: (GSPMDSharding({replicated}),).\n",
      "WARNING:jax._src.dispatch:Finished jaxpr to MLIR module conversion jit(_reduce_any) in 0.0021615028381347656 sec\n",
      "DEBUG:jax._src.xla_bridge:get_compile_options: num_replicas=1 num_partitions=1 device_assignment=[[CpuDevice(id=0)]]\n",
      "WARNING:jax._src.dispatch:Finished XLA compilation of jit(_reduce_any) in 0.010808467864990234 sec\n",
      "WARNING:jax._src.dispatch:Finished tracing + transforming isnan for pjit in 0.00027441978454589844 sec\n",
      "DEBUG:jax._src.interpreters.pxla:Compiling isnan for with global shapes and types [ShapedArray(float32[45,15])]. Argument mapping: (GSPMDSharding({replicated}),).\n",
      "WARNING:jax._src.dispatch:Finished jaxpr to MLIR module conversion jit(isnan) in 0.001340627670288086 sec\n",
      "DEBUG:jax._src.xla_bridge:get_compile_options: num_replicas=1 num_partitions=1 device_assignment=[[CpuDevice(id=0)]]\n",
      "WARNING:jax._src.dispatch:Finished XLA compilation of jit(isnan) in 0.01101827621459961 sec\n",
      "WARNING:jax._src.dispatch:Finished tracing + transforming _reduce_any for pjit in 0.0004477500915527344 sec\n",
      "DEBUG:jax._src.interpreters.pxla:Compiling _reduce_any for with global shapes and types [ShapedArray(bool[45,15])]. Argument mapping: (GSPMDSharding({replicated}),).\n",
      "WARNING:jax._src.dispatch:Finished jaxpr to MLIR module conversion jit(_reduce_any) in 0.0014655590057373047 sec\n"
     ]
    },
    {
     "name": "stderr",
     "output_type": "stream",
     "text": [
      "DEBUG:jax._src.xla_bridge:get_compile_options: num_replicas=1 num_partitions=1 device_assignment=[[CpuDevice(id=0)]]\n",
      "WARNING:jax._src.dispatch:Finished XLA compilation of jit(_reduce_any) in 0.010048151016235352 sec\n",
      "WARNING:jax._src.dispatch:Finished tracing + transforming isnan for pjit in 0.0002720355987548828 sec\n",
      "DEBUG:jax._src.interpreters.pxla:Compiling isnan for with global shapes and types [ShapedArray(float32[15])]. Argument mapping: (GSPMDSharding({replicated}),).\n",
      "WARNING:jax._src.dispatch:Finished jaxpr to MLIR module conversion jit(isnan) in 0.0012676715850830078 sec\n",
      "DEBUG:jax._src.xla_bridge:get_compile_options: num_replicas=1 num_partitions=1 device_assignment=[[CpuDevice(id=0)]]\n",
      "WARNING:jax._src.dispatch:Finished XLA compilation of jit(isnan) in 0.010874748229980469 sec\n",
      "WARNING:jax._src.dispatch:Finished tracing + transforming _reduce_any for pjit in 0.0004608631134033203 sec\n",
      "DEBUG:jax._src.interpreters.pxla:Compiling _reduce_any for with global shapes and types [ShapedArray(bool[15])]. Argument mapping: (GSPMDSharding({replicated}),).\n",
      "WARNING:jax._src.dispatch:Finished jaxpr to MLIR module conversion jit(_reduce_any) in 0.001413583755493164 sec\n",
      "DEBUG:jax._src.xla_bridge:get_compile_options: num_replicas=1 num_partitions=1 device_assignment=[[CpuDevice(id=0)]]\n",
      "WARNING:jax._src.dispatch:Finished XLA compilation of jit(_reduce_any) in 0.006493806838989258 sec\n"
     ]
    },
    {
     "data": {
      "application/vnd.jupyter.widget-view+json": {
       "model_id": "",
       "version_major": 2,
       "version_minor": 0
      },
      "text/plain": [
       "Loading to device:   0%|          | 0/2 [00:00<?, ?subject/s]"
      ]
     },
     "metadata": {},
     "output_type": "display_data"
    },
    {
     "data": {
      "application/vnd.jupyter.widget-view+json": {
       "model_id": "",
       "version_major": 2,
       "version_minor": 0
      },
      "text/plain": [
       "Embedding:   0%|          | 0/2 [00:00<?, ?subject/s]"
      ]
     },
     "metadata": {},
     "output_type": "display_data"
    },
    {
     "data": {
      "application/vnd.jupyter.widget-view+json": {
       "model_id": "",
       "version_major": 2,
       "version_minor": 0
      },
      "text/plain": [
       "  0%|          | 0.00/1641.27 [00:00<?, ?longitudinal-days/s]"
      ]
     },
     "metadata": {},
     "output_type": "display_data"
    },
    {
     "name": "stderr",
     "output_type": "stream",
     "text": [
      "WARNING:jax._src.dispatch:Finished tracing + transforming jit(concatenate) in 0.00025010108947753906 sec\n",
      "DEBUG:jax._src.interpreters.pxla:Compiling concatenate for with global shapes and types [ShapedArray(float32[1]), ShapedArray(float32[1]), ShapedArray(float32[1]), ShapedArray(float32[1]), ShapedArray(float32[1]), ShapedArray(float32[1]), ShapedArray(float32[1]), ShapedArray(float32[1])]. Argument mapping: (GSPMDSharding({replicated}), GSPMDSharding({replicated}), GSPMDSharding({replicated}), GSPMDSharding({replicated}), GSPMDSharding({replicated}), GSPMDSharding({replicated}), GSPMDSharding({replicated}), GSPMDSharding({replicated})).\n",
      "WARNING:jax._src.dispatch:Finished jaxpr to MLIR module conversion jit(concatenate) in 0.0013036727905273438 sec\n",
      "DEBUG:jax._src.xla_bridge:get_compile_options: num_replicas=1 num_partitions=1 device_assignment=[[CpuDevice(id=0)]]\n",
      "WARNING:jax._src.dispatch:Finished XLA compilation of jit(concatenate) in 0.005460262298583984 sec\n",
      "WARNING:jax._src.dispatch:Finished tracing + transforming jit(convert_element_type) in 0.0003120899200439453 sec\n",
      "WARNING:jax._src.dispatch:Finished tracing + transforming _reduce_sum for pjit in 0.0004885196685791016 sec\n",
      "WARNING:jax._src.dispatch:Finished tracing + transforming _broadcast_arrays for pjit in 0.0003476142883300781 sec\n",
      "WARNING:jax._src.dispatch:Finished tracing + transforming _where for pjit in 0.0012993812561035156 sec\n",
      "WARNING:jax._src.dispatch:Finished tracing + transforming _reduce_sum for pjit in 0.0003833770751953125 sec\n",
      "WARNING:jax._src.dispatch:Finished tracing + transforming nansum for pjit in 0.0033180713653564453 sec\n",
      "WARNING:jax._src.dispatch:Finished tracing + transforming nanmean for pjit in 0.005659580230712891 sec\n",
      "DEBUG:jax._src.interpreters.pxla:Compiling nanmean for with global shapes and types [ShapedArray(float32[8])]. Argument mapping: (GSPMDSharding({replicated}),).\n",
      "WARNING:jax._src.dispatch:Finished jaxpr to MLIR module conversion jit(nanmean) in 0.0037326812744140625 sec\n",
      "DEBUG:jax._src.xla_bridge:get_compile_options: num_replicas=1 num_partitions=1 device_assignment=[[CpuDevice(id=0)]]\n",
      "WARNING:jax._src.dispatch:Finished XLA compilation of jit(nanmean) in 0.011172056198120117 sec\n",
      "DEBUG:jax._src.interpreters.pxla:Compiling nanmean for with global shapes and types [ShapedArray(bool[8]), ShapedArray(float32[]), ShapedArray(float32[])]. Argument mapping: (GSPMDSharding({replicated}), GSPMDSharding({replicated}), GSPMDSharding({replicated})).\n",
      "WARNING:jax._src.dispatch:Finished jaxpr to MLIR module conversion jit(nanmean) in 0.0024809837341308594 sec\n",
      "DEBUG:jax._src.xla_bridge:get_compile_options: num_replicas=1 num_partitions=1 device_assignment=[[CpuDevice(id=0)]]\n",
      "WARNING:jax._src.dispatch:Finished XLA compilation of jit(nanmean) in 0.0070934295654296875 sec\n",
      "WARNING:jax._src.dispatch:Finished tracing + transforming jit(slice) in 0.00018906593322753906 sec\n",
      "DEBUG:jax._src.interpreters.pxla:Compiling slice for with global shapes and types [ShapedArray(float32[8])]. Argument mapping: (GSPMDSharding({replicated}),).\n",
      "WARNING:jax._src.dispatch:Finished jaxpr to MLIR module conversion jit(slice) in 0.0012259483337402344 sec\n",
      "DEBUG:jax._src.xla_bridge:get_compile_options: num_replicas=1 num_partitions=1 device_assignment=[[CpuDevice(id=0)]]\n",
      "WARNING:jax._src.dispatch:Finished XLA compilation of jit(slice) in 0.004688262939453125 sec\n",
      "WARNING:jax._src.dispatch:Finished tracing + transforming jit(slice) in 0.00020170211791992188 sec\n",
      "DEBUG:jax._src.interpreters.pxla:Compiling slice for with global shapes and types [ShapedArray(float32[8])]. Argument mapping: (GSPMDSharding({replicated}),).\n",
      "WARNING:jax._src.dispatch:Finished jaxpr to MLIR module conversion jit(slice) in 0.0012922286987304688 sec\n",
      "DEBUG:jax._src.xla_bridge:get_compile_options: num_replicas=1 num_partitions=1 device_assignment=[[CpuDevice(id=0)]]\n",
      "WARNING:jax._src.dispatch:Finished XLA compilation of jit(slice) in 0.004655599594116211 sec\n",
      "WARNING:jax._src.dispatch:Finished tracing + transforming jit(slice) in 0.0003418922424316406 sec\n",
      "DEBUG:jax._src.interpreters.pxla:Compiling slice for with global shapes and types [ShapedArray(float32[8])]. Argument mapping: (GSPMDSharding({replicated}),).\n",
      "WARNING:jax._src.dispatch:Finished jaxpr to MLIR module conversion jit(slice) in 0.0012691020965576172 sec\n",
      "DEBUG:jax._src.xla_bridge:get_compile_options: num_replicas=1 num_partitions=1 device_assignment=[[CpuDevice(id=0)]]\n",
      "WARNING:jax._src.dispatch:Finished XLA compilation of jit(slice) in 0.004692554473876953 sec\n",
      "WARNING:jax._src.dispatch:Finished tracing + transforming jit(slice) in 0.00020694732666015625 sec\n",
      "DEBUG:jax._src.interpreters.pxla:Compiling slice for with global shapes and types [ShapedArray(float32[8])]. Argument mapping: (GSPMDSharding({replicated}),).\n",
      "WARNING:jax._src.dispatch:Finished jaxpr to MLIR module conversion jit(slice) in 0.0011606216430664062 sec\n",
      "DEBUG:jax._src.xla_bridge:get_compile_options: num_replicas=1 num_partitions=1 device_assignment=[[CpuDevice(id=0)]]\n",
      "WARNING:jax._src.dispatch:Finished XLA compilation of jit(slice) in 0.004708290100097656 sec\n",
      "WARNING:jax._src.dispatch:Finished tracing + transforming jit(slice) in 0.00020456314086914062 sec\n",
      "DEBUG:jax._src.interpreters.pxla:Compiling slice for with global shapes and types [ShapedArray(float32[8])]. Argument mapping: (GSPMDSharding({replicated}),).\n",
      "WARNING:jax._src.dispatch:Finished jaxpr to MLIR module conversion jit(slice) in 0.001416921615600586 sec\n",
      "DEBUG:jax._src.xla_bridge:get_compile_options: num_replicas=1 num_partitions=1 device_assignment=[[CpuDevice(id=0)]]\n",
      "WARNING:jax._src.dispatch:Finished XLA compilation of jit(slice) in 0.004443645477294922 sec\n",
      "WARNING:jax._src.dispatch:Finished tracing + transforming jit(slice) in 0.00020456314086914062 sec\n",
      "DEBUG:jax._src.interpreters.pxla:Compiling slice for with global shapes and types [ShapedArray(float32[8])]. Argument mapping: (GSPMDSharding({replicated}),).\n",
      "WARNING:jax._src.dispatch:Finished jaxpr to MLIR module conversion jit(slice) in 0.0013282299041748047 sec\n",
      "DEBUG:jax._src.xla_bridge:get_compile_options: num_replicas=1 num_partitions=1 device_assignment=[[CpuDevice(id=0)]]\n",
      "WARNING:jax._src.dispatch:Finished XLA compilation of jit(slice) in 0.004503488540649414 sec\n",
      "WARNING:jax._src.dispatch:Finished tracing + transforming jit(slice) in 0.0002014636993408203 sec\n",
      "DEBUG:jax._src.interpreters.pxla:Compiling slice for with global shapes and types [ShapedArray(float32[8])]. Argument mapping: (GSPMDSharding({replicated}),).\n",
      "WARNING:jax._src.dispatch:Finished jaxpr to MLIR module conversion jit(slice) in 0.001367807388305664 sec\n",
      "DEBUG:jax._src.xla_bridge:get_compile_options: num_replicas=1 num_partitions=1 device_assignment=[[CpuDevice(id=0)]]\n",
      "WARNING:jax._src.dispatch:Finished XLA compilation of jit(slice) in 0.0046041011810302734 sec\n",
      "WARNING:jax._src.dispatch:Finished tracing + transforming jit(slice) in 0.0002052783966064453 sec\n",
      "DEBUG:jax._src.interpreters.pxla:Compiling slice for with global shapes and types [ShapedArray(float32[8])]. Argument mapping: (GSPMDSharding({replicated}),).\n",
      "WARNING:jax._src.dispatch:Finished jaxpr to MLIR module conversion jit(slice) in 0.0013294219970703125 sec\n",
      "DEBUG:jax._src.xla_bridge:get_compile_options: num_replicas=1 num_partitions=1 device_assignment=[[CpuDevice(id=0)]]\n",
      "WARNING:jax._src.dispatch:Finished XLA compilation of jit(slice) in 0.004544734954833984 sec\n",
      "DEBUG:jax._src.interpreters.pxla:Compiling _update for with global shapes and types [ShapedArray(float32[30]), ShapedArray(float32[45,30]), ShapedArray(float32[60]), ShapedArray(float32[30,60]), ShapedArray(float32[30]), ShapedArray(float32[15]), ShapedArray(float32[45,15]), ShapedArray(float32[15]), ShapedArray(float32[15]), ShapedArray(float32[15]), ShapedArray(float32[15]), ShapedArray(float32[15]), ShapedArray(float32[15]), ShapedArray(float32[15]), ShapedArray(float32[15]), ShapedArray(float32[15])]. Argument mapping: (GSPMDSharding({replicated}), GSPMDSharding({replicated}), GSPMDSharding({replicated}), GSPMDSharding({replicated}), GSPMDSharding({replicated}), GSPMDSharding({replicated}), GSPMDSharding({replicated}), GSPMDSharding({replicated}), GSPMDSharding({replicated}), GSPMDSharding({replicated}), GSPMDSharding({replicated}), GSPMDSharding({replicated}), GSPMDSharding({replicated}), GSPMDSharding({replicated}), GSPMDSharding({replicated}), GSPMDSharding({replicated})).\n"
     ]
    },
    {
     "name": "stderr",
     "output_type": "stream",
     "text": [
      "WARNING:jax._src.dispatch:Finished jaxpr to MLIR module conversion jit(_update) in 0.006419181823730469 sec\n",
      "DEBUG:jax._src.xla_bridge:get_compile_options: num_replicas=1 num_partitions=1 device_assignment=[[CpuDevice(id=0)]]\n",
      "WARNING:jax._src.dispatch:Finished XLA compilation of jit(_update) in 0.08654594421386719 sec\n",
      "WARNING:jax._src.dispatch:Finished tracing + transforming jit(integer_pow) in 0.00019598007202148438 sec\n",
      "DEBUG:jax._src.interpreters.pxla:Compiling integer_pow for with global shapes and types [ShapedArray(float32[])]. Argument mapping: (GSPMDSharding({replicated}),).\n",
      "WARNING:jax._src.dispatch:Finished jaxpr to MLIR module conversion jit(integer_pow) in 0.0016248226165771484 sec\n",
      "DEBUG:jax._src.xla_bridge:get_compile_options: num_replicas=1 num_partitions=1 device_assignment=[[CpuDevice(id=0)]]\n",
      "WARNING:jax._src.dispatch:Finished XLA compilation of jit(integer_pow) in 0.00493931770324707 sec\n"
     ]
    },
    {
     "data": {
      "application/vnd.jupyter.widget-view+json": {
       "model_id": "",
       "version_major": 2,
       "version_minor": 0
      },
      "text/plain": [
       "Loading to device:   0%|          | 0/1 [00:00<?, ?subject/s]"
      ]
     },
     "metadata": {},
     "output_type": "display_data"
    },
    {
     "data": {
      "application/vnd.jupyter.widget-view+json": {
       "model_id": "",
       "version_major": 2,
       "version_minor": 0
      },
      "text/plain": [
       "Embedding:   0%|          | 0/1 [00:00<?, ?subject/s]"
      ]
     },
     "metadata": {},
     "output_type": "display_data"
    },
    {
     "data": {
      "application/vnd.jupyter.widget-view+json": {
       "model_id": "",
       "version_major": 2,
       "version_minor": 0
      },
      "text/plain": [
       "  0%|          | 0.00/4293.07 [00:00<?, ?longitudinal-days/s]"
      ]
     },
     "metadata": {},
     "output_type": "display_data"
    },
    {
     "name": "stderr",
     "output_type": "stream",
     "text": [
      "WARNING:jax._src.dispatch:Finished tracing + transforming jit(concatenate) in 0.0003209114074707031 sec\n",
      "DEBUG:jax._src.interpreters.pxla:Compiling concatenate for with global shapes and types [ShapedArray(float32[1]), ShapedArray(float32[1]), ShapedArray(float32[1]), ShapedArray(float32[1]), ShapedArray(float32[1]), ShapedArray(float32[1]), ShapedArray(float32[1]), ShapedArray(float32[1]), ShapedArray(float32[1]), ShapedArray(float32[1]), ShapedArray(float32[1]), ShapedArray(float32[1]), ShapedArray(float32[1]), ShapedArray(float32[1]), ShapedArray(float32[1]), ShapedArray(float32[1])]. Argument mapping: (GSPMDSharding({replicated}), GSPMDSharding({replicated}), GSPMDSharding({replicated}), GSPMDSharding({replicated}), GSPMDSharding({replicated}), GSPMDSharding({replicated}), GSPMDSharding({replicated}), GSPMDSharding({replicated}), GSPMDSharding({replicated}), GSPMDSharding({replicated}), GSPMDSharding({replicated}), GSPMDSharding({replicated}), GSPMDSharding({replicated}), GSPMDSharding({replicated}), GSPMDSharding({replicated}), GSPMDSharding({replicated})).\n",
      "WARNING:jax._src.dispatch:Finished jaxpr to MLIR module conversion jit(concatenate) in 0.0014770030975341797 sec\n",
      "DEBUG:jax._src.xla_bridge:get_compile_options: num_replicas=1 num_partitions=1 device_assignment=[[CpuDevice(id=0)]]\n",
      "WARNING:jax._src.dispatch:Finished XLA compilation of jit(concatenate) in 0.006797075271606445 sec\n",
      "WARNING:jax._src.dispatch:Finished tracing + transforming jit(concatenate) in 0.0005245208740234375 sec\n",
      "DEBUG:jax._src.interpreters.pxla:Compiling concatenate for with global shapes and types [ShapedArray(float32[1]), ShapedArray(float32[1]), ShapedArray(float32[1]), ShapedArray(float32[1]), ShapedArray(float32[1]), ShapedArray(float32[1]), ShapedArray(float32[1]), ShapedArray(float32[1]), ShapedArray(float32[1]), ShapedArray(float32[1]), ShapedArray(float32[1])]. Argument mapping: (GSPMDSharding({replicated}), GSPMDSharding({replicated}), GSPMDSharding({replicated}), GSPMDSharding({replicated}), GSPMDSharding({replicated}), GSPMDSharding({replicated}), GSPMDSharding({replicated}), GSPMDSharding({replicated}), GSPMDSharding({replicated}), GSPMDSharding({replicated}), GSPMDSharding({replicated})).\n",
      "WARNING:jax._src.dispatch:Finished jaxpr to MLIR module conversion jit(concatenate) in 0.001566171646118164 sec\n",
      "DEBUG:jax._src.xla_bridge:get_compile_options: num_replicas=1 num_partitions=1 device_assignment=[[CpuDevice(id=0)]]\n",
      "WARNING:jax._src.dispatch:Finished XLA compilation of jit(concatenate) in 0.006191253662109375 sec\n",
      "WARNING:jax._src.dispatch:Finished tracing + transforming jit(concatenate) in 0.0003814697265625 sec\n",
      "DEBUG:jax._src.interpreters.pxla:Compiling concatenate for with global shapes and types [ShapedArray(float32[16]), ShapedArray(float32[16]), ShapedArray(float32[11])]. Argument mapping: (GSPMDSharding({replicated}), GSPMDSharding({replicated}), GSPMDSharding({replicated})).\n",
      "WARNING:jax._src.dispatch:Finished jaxpr to MLIR module conversion jit(concatenate) in 0.0011105537414550781 sec\n",
      "DEBUG:jax._src.xla_bridge:get_compile_options: num_replicas=1 num_partitions=1 device_assignment=[[CpuDevice(id=0)]]\n",
      "WARNING:jax._src.dispatch:Finished XLA compilation of jit(concatenate) in 0.005478620529174805 sec\n",
      "WARNING:jax._src.dispatch:Finished tracing + transforming jit(convert_element_type) in 0.0003826618194580078 sec\n",
      "WARNING:jax._src.dispatch:Finished tracing + transforming _reduce_sum for pjit in 0.0004222393035888672 sec\n",
      "WARNING:jax._src.dispatch:Finished tracing + transforming _broadcast_arrays for pjit in 0.00031185150146484375 sec\n",
      "WARNING:jax._src.dispatch:Finished tracing + transforming _where for pjit in 0.0012042522430419922 sec\n",
      "WARNING:jax._src.dispatch:Finished tracing + transforming _reduce_sum for pjit in 0.0003294944763183594 sec\n",
      "WARNING:jax._src.dispatch:Finished tracing + transforming nansum for pjit in 0.0029838085174560547 sec\n",
      "WARNING:jax._src.dispatch:Finished tracing + transforming nanmean for pjit in 0.005301237106323242 sec\n",
      "DEBUG:jax._src.interpreters.pxla:Compiling nanmean for with global shapes and types [ShapedArray(float32[43])]. Argument mapping: (GSPMDSharding({replicated}),).\n",
      "WARNING:jax._src.dispatch:Finished jaxpr to MLIR module conversion jit(nanmean) in 0.003542661666870117 sec\n",
      "DEBUG:jax._src.xla_bridge:get_compile_options: num_replicas=1 num_partitions=1 device_assignment=[[CpuDevice(id=0)]]\n",
      "WARNING:jax._src.dispatch:Finished XLA compilation of jit(nanmean) in 0.0200653076171875 sec\n",
      "DEBUG:jax._src.interpreters.pxla:Compiling nanmean for with global shapes and types [ShapedArray(bool[43]), ShapedArray(float32[]), ShapedArray(float32[])]. Argument mapping: (GSPMDSharding({replicated}), GSPMDSharding({replicated}), GSPMDSharding({replicated})).\n",
      "WARNING:jax._src.dispatch:Finished jaxpr to MLIR module conversion jit(nanmean) in 0.002559661865234375 sec\n",
      "DEBUG:jax._src.xla_bridge:get_compile_options: num_replicas=1 num_partitions=1 device_assignment=[[CpuDevice(id=0)]]\n",
      "WARNING:jax._src.dispatch:Finished XLA compilation of jit(nanmean) in 0.007990837097167969 sec\n",
      "WARNING:jax._src.dispatch:Finished tracing + transforming jit(slice) in 0.00018453598022460938 sec\n",
      "DEBUG:jax._src.interpreters.pxla:Compiling slice for with global shapes and types [ShapedArray(float32[43])]. Argument mapping: (GSPMDSharding({replicated}),).\n",
      "WARNING:jax._src.dispatch:Finished jaxpr to MLIR module conversion jit(slice) in 0.0014815330505371094 sec\n",
      "DEBUG:jax._src.xla_bridge:get_compile_options: num_replicas=1 num_partitions=1 device_assignment=[[CpuDevice(id=0)]]\n",
      "WARNING:jax._src.dispatch:Finished XLA compilation of jit(slice) in 0.0046885013580322266 sec\n",
      "WARNING:jax._src.dispatch:Finished tracing + transforming jit(slice) in 0.00019407272338867188 sec\n",
      "DEBUG:jax._src.interpreters.pxla:Compiling slice for with global shapes and types [ShapedArray(float32[43])]. Argument mapping: (GSPMDSharding({replicated}),).\n",
      "WARNING:jax._src.dispatch:Finished jaxpr to MLIR module conversion jit(slice) in 0.00125885009765625 sec\n",
      "DEBUG:jax._src.xla_bridge:get_compile_options: num_replicas=1 num_partitions=1 device_assignment=[[CpuDevice(id=0)]]\n",
      "WARNING:jax._src.dispatch:Finished XLA compilation of jit(slice) in 0.004831075668334961 sec\n",
      "WARNING:jax._src.dispatch:Finished tracing + transforming jit(slice) in 0.0005059242248535156 sec\n",
      "DEBUG:jax._src.interpreters.pxla:Compiling slice for with global shapes and types [ShapedArray(float32[43])]. Argument mapping: (GSPMDSharding({replicated}),).\n",
      "WARNING:jax._src.dispatch:Finished jaxpr to MLIR module conversion jit(slice) in 0.0013675689697265625 sec\n",
      "DEBUG:jax._src.xla_bridge:get_compile_options: num_replicas=1 num_partitions=1 device_assignment=[[CpuDevice(id=0)]]\n",
      "WARNING:jax._src.dispatch:Finished XLA compilation of jit(slice) in 0.004894733428955078 sec\n",
      "WARNING:jax._src.dispatch:Finished tracing + transforming jit(slice) in 0.0001876354217529297 sec\n",
      "DEBUG:jax._src.interpreters.pxla:Compiling slice for with global shapes and types [ShapedArray(float32[11])]. Argument mapping: (GSPMDSharding({replicated}),).\n",
      "WARNING:jax._src.dispatch:Finished jaxpr to MLIR module conversion jit(slice) in 0.0012862682342529297 sec\n",
      "DEBUG:jax._src.xla_bridge:get_compile_options: num_replicas=1 num_partitions=1 device_assignment=[[CpuDevice(id=0)]]\n",
      "WARNING:jax._src.dispatch:Finished XLA compilation of jit(slice) in 0.004787921905517578 sec\n",
      "WARNING:jax._src.dispatch:Finished tracing + transforming jit(slice) in 0.00021219253540039062 sec\n",
      "DEBUG:jax._src.interpreters.pxla:Compiling slice for with global shapes and types [ShapedArray(float32[11])]. Argument mapping: (GSPMDSharding({replicated}),).\n",
      "WARNING:jax._src.dispatch:Finished jaxpr to MLIR module conversion jit(slice) in 0.0013473033905029297 sec\n",
      "DEBUG:jax._src.xla_bridge:get_compile_options: num_replicas=1 num_partitions=1 device_assignment=[[CpuDevice(id=0)]]\n",
      "WARNING:jax._src.dispatch:Finished XLA compilation of jit(slice) in 0.004637241363525391 sec\n",
      "WARNING:jax._src.dispatch:Finished tracing + transforming jit(slice) in 0.00020170211791992188 sec\n",
      "DEBUG:jax._src.interpreters.pxla:Compiling slice for with global shapes and types [ShapedArray(float32[11])]. Argument mapping: (GSPMDSharding({replicated}),).\n"
     ]
    },
    {
     "name": "stderr",
     "output_type": "stream",
     "text": [
      "WARNING:jax._src.dispatch:Finished jaxpr to MLIR module conversion jit(slice) in 0.0012998580932617188 sec\n",
      "DEBUG:jax._src.xla_bridge:get_compile_options: num_replicas=1 num_partitions=1 device_assignment=[[CpuDevice(id=0)]]\n",
      "WARNING:jax._src.dispatch:Finished XLA compilation of jit(slice) in 0.00464177131652832 sec\n",
      "WARNING:jax._src.dispatch:Finished tracing + transforming jit(slice) in 0.00019669532775878906 sec\n",
      "DEBUG:jax._src.interpreters.pxla:Compiling slice for with global shapes and types [ShapedArray(float32[11])]. Argument mapping: (GSPMDSharding({replicated}),).\n",
      "WARNING:jax._src.dispatch:Finished jaxpr to MLIR module conversion jit(slice) in 0.001308441162109375 sec\n",
      "DEBUG:jax._src.xla_bridge:get_compile_options: num_replicas=1 num_partitions=1 device_assignment=[[CpuDevice(id=0)]]\n",
      "WARNING:jax._src.dispatch:Finished XLA compilation of jit(slice) in 0.004632711410522461 sec\n",
      "WARNING:jax._src.dispatch:Finished tracing + transforming jit(slice) in 0.00019788742065429688 sec\n",
      "DEBUG:jax._src.interpreters.pxla:Compiling slice for with global shapes and types [ShapedArray(float32[11])]. Argument mapping: (GSPMDSharding({replicated}),).\n",
      "WARNING:jax._src.dispatch:Finished jaxpr to MLIR module conversion jit(slice) in 0.001424551010131836 sec\n",
      "DEBUG:jax._src.xla_bridge:get_compile_options: num_replicas=1 num_partitions=1 device_assignment=[[CpuDevice(id=0)]]\n",
      "WARNING:jax._src.dispatch:Finished XLA compilation of jit(slice) in 0.004630088806152344 sec\n",
      "WARNING:jax._src.dispatch:Finished tracing + transforming jit(slice) in 0.0002028942108154297 sec\n",
      "DEBUG:jax._src.interpreters.pxla:Compiling slice for with global shapes and types [ShapedArray(float32[11])]. Argument mapping: (GSPMDSharding({replicated}),).\n",
      "WARNING:jax._src.dispatch:Finished jaxpr to MLIR module conversion jit(slice) in 0.0014188289642333984 sec\n",
      "DEBUG:jax._src.xla_bridge:get_compile_options: num_replicas=1 num_partitions=1 device_assignment=[[CpuDevice(id=0)]]\n",
      "WARNING:jax._src.dispatch:Finished XLA compilation of jit(slice) in 0.0046253204345703125 sec\n",
      "WARNING:jax._src.dispatch:Finished tracing + transforming jit(slice) in 0.00019407272338867188 sec\n",
      "DEBUG:jax._src.interpreters.pxla:Compiling slice for with global shapes and types [ShapedArray(float32[11])]. Argument mapping: (GSPMDSharding({replicated}),).\n",
      "WARNING:jax._src.dispatch:Finished jaxpr to MLIR module conversion jit(slice) in 0.0012104511260986328 sec\n",
      "DEBUG:jax._src.xla_bridge:get_compile_options: num_replicas=1 num_partitions=1 device_assignment=[[CpuDevice(id=0)]]\n",
      "WARNING:jax._src.dispatch:Finished XLA compilation of jit(slice) in 0.004937887191772461 sec\n",
      "WARNING:jax._src.dispatch:Finished tracing + transforming jit(slice) in 0.0001964569091796875 sec\n",
      "DEBUG:jax._src.interpreters.pxla:Compiling slice for with global shapes and types [ShapedArray(float32[11])]. Argument mapping: (GSPMDSharding({replicated}),).\n",
      "WARNING:jax._src.dispatch:Finished jaxpr to MLIR module conversion jit(slice) in 0.00135040283203125 sec\n",
      "DEBUG:jax._src.xla_bridge:get_compile_options: num_replicas=1 num_partitions=1 device_assignment=[[CpuDevice(id=0)]]\n",
      "WARNING:jax._src.dispatch:Finished XLA compilation of jit(slice) in 0.0046346187591552734 sec\n",
      "WARNING:jax._src.dispatch:Finished tracing + transforming jit(slice) in 0.00019359588623046875 sec\n",
      "DEBUG:jax._src.interpreters.pxla:Compiling slice for with global shapes and types [ShapedArray(float32[11])]. Argument mapping: (GSPMDSharding({replicated}),).\n",
      "WARNING:jax._src.dispatch:Finished jaxpr to MLIR module conversion jit(slice) in 0.0013642311096191406 sec\n",
      "DEBUG:jax._src.xla_bridge:get_compile_options: num_replicas=1 num_partitions=1 device_assignment=[[CpuDevice(id=0)]]\n",
      "WARNING:jax._src.dispatch:Finished XLA compilation of jit(slice) in 0.004744052886962891 sec\n",
      "WARNING:jax._src.dispatch:Finished tracing + transforming jit(slice) in 0.00019478797912597656 sec\n",
      "DEBUG:jax._src.interpreters.pxla:Compiling slice for with global shapes and types [ShapedArray(float32[11])]. Argument mapping: (GSPMDSharding({replicated}),).\n",
      "WARNING:jax._src.dispatch:Finished jaxpr to MLIR module conversion jit(slice) in 0.0014297962188720703 sec\n",
      "DEBUG:jax._src.xla_bridge:get_compile_options: num_replicas=1 num_partitions=1 device_assignment=[[CpuDevice(id=0)]]\n",
      "WARNING:jax._src.dispatch:Finished XLA compilation of jit(slice) in 0.004828214645385742 sec\n",
      "WARNING:jax._src.dispatch:Finished tracing + transforming jit(slice) in 0.00021219253540039062 sec\n",
      "DEBUG:jax._src.interpreters.pxla:Compiling slice for with global shapes and types [ShapedArray(float32[11])]. Argument mapping: (GSPMDSharding({replicated}),).\n",
      "WARNING:jax._src.dispatch:Finished jaxpr to MLIR module conversion jit(slice) in 0.0013344287872314453 sec\n",
      "DEBUG:jax._src.xla_bridge:get_compile_options: num_replicas=1 num_partitions=1 device_assignment=[[CpuDevice(id=0)]]\n",
      "WARNING:jax._src.dispatch:Finished XLA compilation of jit(slice) in 0.004758358001708984 sec\n",
      "WARNING:jax._src.dispatch:Finished tracing + transforming jit(slice) in 0.0001919269561767578 sec\n",
      "DEBUG:jax._src.interpreters.pxla:Compiling slice for with global shapes and types [ShapedArray(float32[16])]. Argument mapping: (GSPMDSharding({replicated}),).\n",
      "WARNING:jax._src.dispatch:Finished jaxpr to MLIR module conversion jit(slice) in 0.001237630844116211 sec\n",
      "DEBUG:jax._src.xla_bridge:get_compile_options: num_replicas=1 num_partitions=1 device_assignment=[[CpuDevice(id=0)]]\n",
      "WARNING:jax._src.dispatch:Finished XLA compilation of jit(slice) in 0.004658222198486328 sec\n",
      "WARNING:jax._src.dispatch:Finished tracing + transforming jit(slice) in 0.00019502639770507812 sec\n",
      "DEBUG:jax._src.interpreters.pxla:Compiling slice for with global shapes and types [ShapedArray(float32[16])]. Argument mapping: (GSPMDSharding({replicated}),).\n",
      "WARNING:jax._src.dispatch:Finished jaxpr to MLIR module conversion jit(slice) in 0.0014302730560302734 sec\n",
      "DEBUG:jax._src.xla_bridge:get_compile_options: num_replicas=1 num_partitions=1 device_assignment=[[CpuDevice(id=0)]]\n",
      "WARNING:jax._src.dispatch:Finished XLA compilation of jit(slice) in 0.004862308502197266 sec\n",
      "WARNING:jax._src.dispatch:Finished tracing + transforming jit(slice) in 0.00019741058349609375 sec\n",
      "DEBUG:jax._src.interpreters.pxla:Compiling slice for with global shapes and types [ShapedArray(float32[16])]. Argument mapping: (GSPMDSharding({replicated}),).\n",
      "WARNING:jax._src.dispatch:Finished jaxpr to MLIR module conversion jit(slice) in 0.0013530254364013672 sec\n",
      "DEBUG:jax._src.xla_bridge:get_compile_options: num_replicas=1 num_partitions=1 device_assignment=[[CpuDevice(id=0)]]\n",
      "WARNING:jax._src.dispatch:Finished XLA compilation of jit(slice) in 0.004544496536254883 sec\n",
      "WARNING:jax._src.dispatch:Finished tracing + transforming jit(slice) in 0.00021123886108398438 sec\n",
      "DEBUG:jax._src.interpreters.pxla:Compiling slice for with global shapes and types [ShapedArray(float32[16])]. Argument mapping: (GSPMDSharding({replicated}),).\n",
      "WARNING:jax._src.dispatch:Finished jaxpr to MLIR module conversion jit(slice) in 0.0014216899871826172 sec\n",
      "DEBUG:jax._src.xla_bridge:get_compile_options: num_replicas=1 num_partitions=1 device_assignment=[[CpuDevice(id=0)]]\n",
      "WARNING:jax._src.dispatch:Finished XLA compilation of jit(slice) in 0.004790782928466797 sec\n",
      "WARNING:jax._src.dispatch:Finished tracing + transforming jit(slice) in 0.00019621849060058594 sec\n",
      "DEBUG:jax._src.interpreters.pxla:Compiling slice for with global shapes and types [ShapedArray(float32[16])]. Argument mapping: (GSPMDSharding({replicated}),).\n",
      "WARNING:jax._src.dispatch:Finished jaxpr to MLIR module conversion jit(slice) in 0.0013625621795654297 sec\n",
      "DEBUG:jax._src.xla_bridge:get_compile_options: num_replicas=1 num_partitions=1 device_assignment=[[CpuDevice(id=0)]]\n",
      "WARNING:jax._src.dispatch:Finished XLA compilation of jit(slice) in 0.004598140716552734 sec\n",
      "WARNING:jax._src.dispatch:Finished tracing + transforming jit(slice) in 0.0001964569091796875 sec\n",
      "DEBUG:jax._src.interpreters.pxla:Compiling slice for with global shapes and types [ShapedArray(float32[16])]. Argument mapping: (GSPMDSharding({replicated}),).\n",
      "WARNING:jax._src.dispatch:Finished jaxpr to MLIR module conversion jit(slice) in 0.0015180110931396484 sec\n",
      "DEBUG:jax._src.xla_bridge:get_compile_options: num_replicas=1 num_partitions=1 device_assignment=[[CpuDevice(id=0)]]\n"
     ]
    },
    {
     "name": "stderr",
     "output_type": "stream",
     "text": [
      "WARNING:jax._src.dispatch:Finished XLA compilation of jit(slice) in 0.004656314849853516 sec\n",
      "WARNING:jax._src.dispatch:Finished tracing + transforming jit(slice) in 0.00019598007202148438 sec\n",
      "DEBUG:jax._src.interpreters.pxla:Compiling slice for with global shapes and types [ShapedArray(float32[16])]. Argument mapping: (GSPMDSharding({replicated}),).\n",
      "WARNING:jax._src.dispatch:Finished jaxpr to MLIR module conversion jit(slice) in 0.0013968944549560547 sec\n",
      "DEBUG:jax._src.xla_bridge:get_compile_options: num_replicas=1 num_partitions=1 device_assignment=[[CpuDevice(id=0)]]\n",
      "WARNING:jax._src.dispatch:Finished XLA compilation of jit(slice) in 0.004589080810546875 sec\n",
      "WARNING:jax._src.dispatch:Finished tracing + transforming jit(slice) in 0.00019550323486328125 sec\n",
      "DEBUG:jax._src.interpreters.pxla:Compiling slice for with global shapes and types [ShapedArray(float32[16])]. Argument mapping: (GSPMDSharding({replicated}),).\n",
      "WARNING:jax._src.dispatch:Finished jaxpr to MLIR module conversion jit(slice) in 0.0013704299926757812 sec\n",
      "DEBUG:jax._src.xla_bridge:get_compile_options: num_replicas=1 num_partitions=1 device_assignment=[[CpuDevice(id=0)]]\n",
      "WARNING:jax._src.dispatch:Finished XLA compilation of jit(slice) in 0.004734992980957031 sec\n",
      "WARNING:jax._src.dispatch:Finished tracing + transforming jit(slice) in 0.00019979476928710938 sec\n",
      "DEBUG:jax._src.interpreters.pxla:Compiling slice for with global shapes and types [ShapedArray(float32[16])]. Argument mapping: (GSPMDSharding({replicated}),).\n",
      "WARNING:jax._src.dispatch:Finished jaxpr to MLIR module conversion jit(slice) in 0.0013692378997802734 sec\n",
      "DEBUG:jax._src.xla_bridge:get_compile_options: num_replicas=1 num_partitions=1 device_assignment=[[CpuDevice(id=0)]]\n",
      "WARNING:jax._src.dispatch:Finished XLA compilation of jit(slice) in 0.004647970199584961 sec\n",
      "WARNING:jax._src.dispatch:Finished tracing + transforming jit(slice) in 0.00022840499877929688 sec\n",
      "DEBUG:jax._src.interpreters.pxla:Compiling slice for with global shapes and types [ShapedArray(float32[16])]. Argument mapping: (GSPMDSharding({replicated}),).\n",
      "WARNING:jax._src.dispatch:Finished jaxpr to MLIR module conversion jit(slice) in 0.0024585723876953125 sec\n",
      "DEBUG:jax._src.xla_bridge:get_compile_options: num_replicas=1 num_partitions=1 device_assignment=[[CpuDevice(id=0)]]\n",
      "WARNING:jax._src.dispatch:Finished XLA compilation of jit(slice) in 0.004667043685913086 sec\n",
      "WARNING:jax._src.dispatch:Finished tracing + transforming jit(slice) in 0.0001971721649169922 sec\n",
      "DEBUG:jax._src.interpreters.pxla:Compiling slice for with global shapes and types [ShapedArray(float32[16])]. Argument mapping: (GSPMDSharding({replicated}),).\n",
      "WARNING:jax._src.dispatch:Finished jaxpr to MLIR module conversion jit(slice) in 0.0014495849609375 sec\n",
      "DEBUG:jax._src.xla_bridge:get_compile_options: num_replicas=1 num_partitions=1 device_assignment=[[CpuDevice(id=0)]]\n",
      "WARNING:jax._src.dispatch:Finished XLA compilation of jit(slice) in 0.005003452301025391 sec\n",
      "WARNING:jax._src.dispatch:Finished tracing + transforming jit(slice) in 0.00019979476928710938 sec\n",
      "DEBUG:jax._src.interpreters.pxla:Compiling slice for with global shapes and types [ShapedArray(float32[16])]. Argument mapping: (GSPMDSharding({replicated}),).\n",
      "WARNING:jax._src.dispatch:Finished jaxpr to MLIR module conversion jit(slice) in 0.0014216899871826172 sec\n",
      "DEBUG:jax._src.xla_bridge:get_compile_options: num_replicas=1 num_partitions=1 device_assignment=[[CpuDevice(id=0)]]\n",
      "WARNING:jax._src.dispatch:Finished XLA compilation of jit(slice) in 0.004603862762451172 sec\n",
      "WARNING:jax._src.dispatch:Finished tracing + transforming jit(slice) in 0.00020647048950195312 sec\n",
      "DEBUG:jax._src.interpreters.pxla:Compiling slice for with global shapes and types [ShapedArray(float32[16])]. Argument mapping: (GSPMDSharding({replicated}),).\n",
      "WARNING:jax._src.dispatch:Finished jaxpr to MLIR module conversion jit(slice) in 0.0014221668243408203 sec\n",
      "DEBUG:jax._src.xla_bridge:get_compile_options: num_replicas=1 num_partitions=1 device_assignment=[[CpuDevice(id=0)]]\n",
      "WARNING:jax._src.dispatch:Finished XLA compilation of jit(slice) in 0.005171298980712891 sec\n",
      "WARNING:jax._src.dispatch:Finished tracing + transforming jit(slice) in 0.0002014636993408203 sec\n",
      "DEBUG:jax._src.interpreters.pxla:Compiling slice for with global shapes and types [ShapedArray(float32[16])]. Argument mapping: (GSPMDSharding({replicated}),).\n",
      "WARNING:jax._src.dispatch:Finished jaxpr to MLIR module conversion jit(slice) in 0.0012993812561035156 sec\n",
      "DEBUG:jax._src.xla_bridge:get_compile_options: num_replicas=1 num_partitions=1 device_assignment=[[CpuDevice(id=0)]]\n",
      "WARNING:jax._src.dispatch:Finished XLA compilation of jit(slice) in 0.004628419876098633 sec\n",
      "WARNING:jax._src.dispatch:Finished tracing + transforming jit(slice) in 0.00021314620971679688 sec\n",
      "DEBUG:jax._src.interpreters.pxla:Compiling slice for with global shapes and types [ShapedArray(float32[16])]. Argument mapping: (GSPMDSharding({replicated}),).\n",
      "WARNING:jax._src.dispatch:Finished jaxpr to MLIR module conversion jit(slice) in 0.001483917236328125 sec\n",
      "DEBUG:jax._src.xla_bridge:get_compile_options: num_replicas=1 num_partitions=1 device_assignment=[[CpuDevice(id=0)]]\n",
      "WARNING:jax._src.dispatch:Finished XLA compilation of jit(slice) in 0.005143165588378906 sec\n",
      "WARNING:jax._src.dispatch:Finished tracing + transforming jit(slice) in 0.0001983642578125 sec\n",
      "DEBUG:jax._src.interpreters.pxla:Compiling slice for with global shapes and types [ShapedArray(float32[16])]. Argument mapping: (GSPMDSharding({replicated}),).\n",
      "WARNING:jax._src.dispatch:Finished jaxpr to MLIR module conversion jit(slice) in 0.0014727115631103516 sec\n",
      "DEBUG:jax._src.xla_bridge:get_compile_options: num_replicas=1 num_partitions=1 device_assignment=[[CpuDevice(id=0)]]\n",
      "WARNING:jax._src.dispatch:Finished XLA compilation of jit(slice) in 0.004591464996337891 sec\n",
      "WARNING:jax._src.dispatch:Finished tracing + transforming jit(integer_pow) in 0.00018739700317382812 sec\n",
      "DEBUG:jax._src.interpreters.pxla:Compiling integer_pow for with global shapes and types [ShapedArray(float32[])]. Argument mapping: (GSPMDSharding({replicated}),).\n",
      "WARNING:jax._src.dispatch:Finished jaxpr to MLIR module conversion jit(integer_pow) in 0.0018815994262695312 sec\n",
      "DEBUG:jax._src.xla_bridge:get_compile_options: num_replicas=1 num_partitions=1 device_assignment=[[CpuDevice(id=0)]]\n",
      "WARNING:jax._src.dispatch:Finished XLA compilation of jit(integer_pow) in 0.005638599395751953 sec\n"
     ]
    },
    {
     "data": {
      "application/vnd.jupyter.widget-view+json": {
       "model_id": "",
       "version_major": 2,
       "version_minor": 0
      },
      "text/plain": [
       "Loading to device:   0%|          | 0/1 [00:00<?, ?subject/s]"
      ]
     },
     "metadata": {},
     "output_type": "display_data"
    },
    {
     "data": {
      "application/vnd.jupyter.widget-view+json": {
       "model_id": "",
       "version_major": 2,
       "version_minor": 0
      },
      "text/plain": [
       "Embedding:   0%|          | 0/1 [00:00<?, ?subject/s]"
      ]
     },
     "metadata": {},
     "output_type": "display_data"
    },
    {
     "data": {
      "application/vnd.jupyter.widget-view+json": {
       "model_id": "",
       "version_major": 2,
       "version_minor": 0
      },
      "text/plain": [
       "  0%|          | 0.00/2516.93 [00:00<?, ?longitudinal-days/s]"
      ]
     },
     "metadata": {},
     "output_type": "display_data"
    },
    {
     "name": "stderr",
     "output_type": "stream",
     "text": [
      "WARNING:jax._src.dispatch:Finished tracing + transforming jit(concatenate) in 0.0002548694610595703 sec\n",
      "DEBUG:jax._src.interpreters.pxla:Compiling concatenate for with global shapes and types [ShapedArray(float32[1]), ShapedArray(float32[1]), ShapedArray(float32[1]), ShapedArray(float32[1]), ShapedArray(float32[1]), ShapedArray(float32[1]), ShapedArray(float32[1]), ShapedArray(float32[1]), ShapedArray(float32[1]), ShapedArray(float32[1])]. Argument mapping: (GSPMDSharding({replicated}), GSPMDSharding({replicated}), GSPMDSharding({replicated}), GSPMDSharding({replicated}), GSPMDSharding({replicated}), GSPMDSharding({replicated}), GSPMDSharding({replicated}), GSPMDSharding({replicated}), GSPMDSharding({replicated}), GSPMDSharding({replicated})).\n",
      "WARNING:jax._src.dispatch:Finished jaxpr to MLIR module conversion jit(concatenate) in 0.001476287841796875 sec\n",
      "DEBUG:jax._src.xla_bridge:get_compile_options: num_replicas=1 num_partitions=1 device_assignment=[[CpuDevice(id=0)]]\n",
      "WARNING:jax._src.dispatch:Finished XLA compilation of jit(concatenate) in 0.006268501281738281 sec\n",
      "WARNING:jax._src.dispatch:Finished tracing + transforming jit(convert_element_type) in 0.000438690185546875 sec\n",
      "WARNING:jax._src.dispatch:Finished tracing + transforming _reduce_sum for pjit in 0.00040268898010253906 sec\n",
      "WARNING:jax._src.dispatch:Finished tracing + transforming _broadcast_arrays for pjit in 0.0004181861877441406 sec\n",
      "WARNING:jax._src.dispatch:Finished tracing + transforming _where for pjit in 0.001547098159790039 sec\n",
      "WARNING:jax._src.dispatch:Finished tracing + transforming _reduce_sum for pjit in 0.00033092498779296875 sec\n",
      "WARNING:jax._src.dispatch:Finished tracing + transforming nansum for pjit in 0.0032930374145507812 sec\n",
      "WARNING:jax._src.dispatch:Finished tracing + transforming nanmean for pjit in 0.00548100471496582 sec\n",
      "DEBUG:jax._src.interpreters.pxla:Compiling nanmean for with global shapes and types [ShapedArray(float32[10])]. Argument mapping: (GSPMDSharding({replicated}),).\n",
      "WARNING:jax._src.dispatch:Finished jaxpr to MLIR module conversion jit(nanmean) in 0.0035216808319091797 sec\n",
      "DEBUG:jax._src.xla_bridge:get_compile_options: num_replicas=1 num_partitions=1 device_assignment=[[CpuDevice(id=0)]]\n",
      "WARNING:jax._src.dispatch:Finished XLA compilation of jit(nanmean) in 0.015878915786743164 sec\n",
      "DEBUG:jax._src.interpreters.pxla:Compiling nanmean for with global shapes and types [ShapedArray(bool[10]), ShapedArray(float32[]), ShapedArray(float32[])]. Argument mapping: (GSPMDSharding({replicated}), GSPMDSharding({replicated}), GSPMDSharding({replicated})).\n",
      "WARNING:jax._src.dispatch:Finished jaxpr to MLIR module conversion jit(nanmean) in 0.0024857521057128906 sec\n",
      "DEBUG:jax._src.xla_bridge:get_compile_options: num_replicas=1 num_partitions=1 device_assignment=[[CpuDevice(id=0)]]\n",
      "WARNING:jax._src.dispatch:Finished XLA compilation of jit(nanmean) in 0.007467031478881836 sec\n",
      "WARNING:jax._src.dispatch:Finished tracing + transforming jit(slice) in 0.00018477439880371094 sec\n",
      "DEBUG:jax._src.interpreters.pxla:Compiling slice for with global shapes and types [ShapedArray(float32[10])]. Argument mapping: (GSPMDSharding({replicated}),).\n",
      "WARNING:jax._src.dispatch:Finished jaxpr to MLIR module conversion jit(slice) in 0.001260995864868164 sec\n",
      "DEBUG:jax._src.xla_bridge:get_compile_options: num_replicas=1 num_partitions=1 device_assignment=[[CpuDevice(id=0)]]\n",
      "WARNING:jax._src.dispatch:Finished XLA compilation of jit(slice) in 0.0046160221099853516 sec\n",
      "WARNING:jax._src.dispatch:Finished tracing + transforming jit(slice) in 0.0002052783966064453 sec\n",
      "DEBUG:jax._src.interpreters.pxla:Compiling slice for with global shapes and types [ShapedArray(float32[10])]. Argument mapping: (GSPMDSharding({replicated}),).\n",
      "WARNING:jax._src.dispatch:Finished jaxpr to MLIR module conversion jit(slice) in 0.0016226768493652344 sec\n",
      "DEBUG:jax._src.xla_bridge:get_compile_options: num_replicas=1 num_partitions=1 device_assignment=[[CpuDevice(id=0)]]\n",
      "WARNING:jax._src.dispatch:Finished XLA compilation of jit(slice) in 0.004674434661865234 sec\n",
      "WARNING:jax._src.dispatch:Finished tracing + transforming jit(slice) in 0.00019741058349609375 sec\n",
      "DEBUG:jax._src.interpreters.pxla:Compiling slice for with global shapes and types [ShapedArray(float32[10])]. Argument mapping: (GSPMDSharding({replicated}),).\n",
      "WARNING:jax._src.dispatch:Finished jaxpr to MLIR module conversion jit(slice) in 0.0014233589172363281 sec\n",
      "DEBUG:jax._src.xla_bridge:get_compile_options: num_replicas=1 num_partitions=1 device_assignment=[[CpuDevice(id=0)]]\n",
      "WARNING:jax._src.dispatch:Finished XLA compilation of jit(slice) in 0.00491642951965332 sec\n",
      "WARNING:jax._src.dispatch:Finished tracing + transforming jit(slice) in 0.0002052783966064453 sec\n",
      "DEBUG:jax._src.interpreters.pxla:Compiling slice for with global shapes and types [ShapedArray(float32[10])]. Argument mapping: (GSPMDSharding({replicated}),).\n",
      "WARNING:jax._src.dispatch:Finished jaxpr to MLIR module conversion jit(slice) in 0.001435995101928711 sec\n",
      "DEBUG:jax._src.xla_bridge:get_compile_options: num_replicas=1 num_partitions=1 device_assignment=[[CpuDevice(id=0)]]\n",
      "WARNING:jax._src.dispatch:Finished XLA compilation of jit(slice) in 0.004813671112060547 sec\n",
      "WARNING:jax._src.dispatch:Finished tracing + transforming jit(slice) in 0.0002048015594482422 sec\n",
      "DEBUG:jax._src.interpreters.pxla:Compiling slice for with global shapes and types [ShapedArray(float32[10])]. Argument mapping: (GSPMDSharding({replicated}),).\n",
      "WARNING:jax._src.dispatch:Finished jaxpr to MLIR module conversion jit(slice) in 0.001384735107421875 sec\n",
      "DEBUG:jax._src.xla_bridge:get_compile_options: num_replicas=1 num_partitions=1 device_assignment=[[CpuDevice(id=0)]]\n",
      "WARNING:jax._src.dispatch:Finished XLA compilation of jit(slice) in 0.0051419734954833984 sec\n",
      "WARNING:jax._src.dispatch:Finished tracing + transforming jit(slice) in 0.0002028942108154297 sec\n",
      "DEBUG:jax._src.interpreters.pxla:Compiling slice for with global shapes and types [ShapedArray(float32[10])]. Argument mapping: (GSPMDSharding({replicated}),).\n",
      "WARNING:jax._src.dispatch:Finished jaxpr to MLIR module conversion jit(slice) in 0.001468658447265625 sec\n",
      "DEBUG:jax._src.xla_bridge:get_compile_options: num_replicas=1 num_partitions=1 device_assignment=[[CpuDevice(id=0)]]\n",
      "WARNING:jax._src.dispatch:Finished XLA compilation of jit(slice) in 0.004655361175537109 sec\n",
      "WARNING:jax._src.dispatch:Finished tracing + transforming jit(slice) in 0.00020384788513183594 sec\n",
      "DEBUG:jax._src.interpreters.pxla:Compiling slice for with global shapes and types [ShapedArray(float32[10])]. Argument mapping: (GSPMDSharding({replicated}),).\n",
      "WARNING:jax._src.dispatch:Finished jaxpr to MLIR module conversion jit(slice) in 0.0014257431030273438 sec\n",
      "DEBUG:jax._src.xla_bridge:get_compile_options: num_replicas=1 num_partitions=1 device_assignment=[[CpuDevice(id=0)]]\n",
      "WARNING:jax._src.dispatch:Finished XLA compilation of jit(slice) in 0.005147218704223633 sec\n",
      "WARNING:jax._src.dispatch:Finished tracing + transforming jit(slice) in 0.00020194053649902344 sec\n",
      "DEBUG:jax._src.interpreters.pxla:Compiling slice for with global shapes and types [ShapedArray(float32[10])]. Argument mapping: (GSPMDSharding({replicated}),).\n",
      "WARNING:jax._src.dispatch:Finished jaxpr to MLIR module conversion jit(slice) in 0.0014789104461669922 sec\n",
      "DEBUG:jax._src.xla_bridge:get_compile_options: num_replicas=1 num_partitions=1 device_assignment=[[CpuDevice(id=0)]]\n",
      "WARNING:jax._src.dispatch:Finished XLA compilation of jit(slice) in 0.004695415496826172 sec\n",
      "WARNING:jax._src.dispatch:Finished tracing + transforming jit(slice) in 0.0002028942108154297 sec\n",
      "DEBUG:jax._src.interpreters.pxla:Compiling slice for with global shapes and types [ShapedArray(float32[10])]. Argument mapping: (GSPMDSharding({replicated}),).\n",
      "WARNING:jax._src.dispatch:Finished jaxpr to MLIR module conversion jit(slice) in 0.0014503002166748047 sec\n",
      "DEBUG:jax._src.xla_bridge:get_compile_options: num_replicas=1 num_partitions=1 device_assignment=[[CpuDevice(id=0)]]\n",
      "WARNING:jax._src.dispatch:Finished XLA compilation of jit(slice) in 0.004952669143676758 sec\n",
      "WARNING:jax._src.dispatch:Finished tracing + transforming jit(slice) in 0.00023674964904785156 sec\n",
      "DEBUG:jax._src.interpreters.pxla:Compiling slice for with global shapes and types [ShapedArray(float32[10])]. Argument mapping: (GSPMDSharding({replicated}),).\n"
     ]
    },
    {
     "name": "stderr",
     "output_type": "stream",
     "text": [
      "WARNING:jax._src.dispatch:Finished jaxpr to MLIR module conversion jit(slice) in 0.0015268325805664062 sec\n",
      "DEBUG:jax._src.xla_bridge:get_compile_options: num_replicas=1 num_partitions=1 device_assignment=[[CpuDevice(id=0)]]\n",
      "WARNING:jax._src.dispatch:Finished XLA compilation of jit(slice) in 0.0047609806060791016 sec\n",
      "WARNING:jax._src.dispatch:Finished tracing + transforming jit(integer_pow) in 0.00022602081298828125 sec\n",
      "DEBUG:jax._src.interpreters.pxla:Compiling integer_pow for with global shapes and types [ShapedArray(float32[])]. Argument mapping: (GSPMDSharding({replicated}),).\n",
      "WARNING:jax._src.dispatch:Finished jaxpr to MLIR module conversion jit(integer_pow) in 0.0022504329681396484 sec\n",
      "DEBUG:jax._src.xla_bridge:get_compile_options: num_replicas=1 num_partitions=1 device_assignment=[[CpuDevice(id=0)]]\n",
      "WARNING:jax._src.dispatch:Finished XLA compilation of jit(integer_pow) in 0.0064733028411865234 sec\n"
     ]
    },
    {
     "data": {
      "application/vnd.jupyter.widget-view+json": {
       "model_id": "",
       "version_major": 2,
       "version_minor": 0
      },
      "text/plain": [
       "Loading to device:   0%|          | 0/3 [00:00<?, ?subject/s]"
      ]
     },
     "metadata": {},
     "output_type": "display_data"
    },
    {
     "data": {
      "application/vnd.jupyter.widget-view+json": {
       "model_id": "",
       "version_major": 2,
       "version_minor": 0
      },
      "text/plain": [
       "Embedding:   0%|          | 0/3 [00:00<?, ?subject/s]"
      ]
     },
     "metadata": {},
     "output_type": "display_data"
    },
    {
     "data": {
      "application/vnd.jupyter.widget-view+json": {
       "model_id": "",
       "version_major": 2,
       "version_minor": 0
      },
      "text/plain": [
       "  0%|          | 0.00/6168.25 [00:00<?, ?longitudinal-days/s]"
      ]
     },
     "metadata": {},
     "output_type": "display_data"
    },
    {
     "name": "stderr",
     "output_type": "stream",
     "text": [
      "WARNING:jax._src.dispatch:Finished tracing + transforming jit(concatenate) in 0.0003142356872558594 sec\n",
      "DEBUG:jax._src.interpreters.pxla:Compiling concatenate for with global shapes and types [ShapedArray(float32[1]), ShapedArray(float32[1]), ShapedArray(float32[1]), ShapedArray(float32[1]), ShapedArray(float32[1]), ShapedArray(float32[1])]. Argument mapping: (GSPMDSharding({replicated}), GSPMDSharding({replicated}), GSPMDSharding({replicated}), GSPMDSharding({replicated}), GSPMDSharding({replicated}), GSPMDSharding({replicated})).\n",
      "WARNING:jax._src.dispatch:Finished jaxpr to MLIR module conversion jit(concatenate) in 0.001428842544555664 sec\n",
      "DEBUG:jax._src.xla_bridge:get_compile_options: num_replicas=1 num_partitions=1 device_assignment=[[CpuDevice(id=0)]]\n",
      "WARNING:jax._src.dispatch:Finished XLA compilation of jit(concatenate) in 0.005710124969482422 sec\n",
      "WARNING:jax._src.dispatch:Finished tracing + transforming jit(convert_element_type) in 0.0005707740783691406 sec\n",
      "WARNING:jax._src.dispatch:Finished tracing + transforming _reduce_sum for pjit in 0.00043392181396484375 sec\n",
      "WARNING:jax._src.dispatch:Finished tracing + transforming _broadcast_arrays for pjit in 0.0003254413604736328 sec\n",
      "WARNING:jax._src.dispatch:Finished tracing + transforming _where for pjit in 0.001354217529296875 sec\n",
      "WARNING:jax._src.dispatch:Finished tracing + transforming _reduce_sum for pjit in 0.0004990100860595703 sec\n",
      "WARNING:jax._src.dispatch:Finished tracing + transforming nansum for pjit in 0.004119157791137695 sec\n",
      "WARNING:jax._src.dispatch:Finished tracing + transforming nanmean for pjit in 0.0063784122467041016 sec\n",
      "DEBUG:jax._src.interpreters.pxla:Compiling nanmean for with global shapes and types [ShapedArray(float32[6])]. Argument mapping: (GSPMDSharding({replicated}),).\n",
      "WARNING:jax._src.dispatch:Finished jaxpr to MLIR module conversion jit(nanmean) in 0.0043027400970458984 sec\n",
      "DEBUG:jax._src.xla_bridge:get_compile_options: num_replicas=1 num_partitions=1 device_assignment=[[CpuDevice(id=0)]]\n",
      "WARNING:jax._src.dispatch:Finished XLA compilation of jit(nanmean) in 0.012343168258666992 sec\n",
      "DEBUG:jax._src.interpreters.pxla:Compiling nanmean for with global shapes and types [ShapedArray(bool[6]), ShapedArray(float32[]), ShapedArray(float32[])]. Argument mapping: (GSPMDSharding({replicated}), GSPMDSharding({replicated}), GSPMDSharding({replicated})).\n",
      "WARNING:jax._src.dispatch:Finished jaxpr to MLIR module conversion jit(nanmean) in 0.0025625228881835938 sec\n",
      "DEBUG:jax._src.xla_bridge:get_compile_options: num_replicas=1 num_partitions=1 device_assignment=[[CpuDevice(id=0)]]\n",
      "WARNING:jax._src.dispatch:Finished XLA compilation of jit(nanmean) in 0.007947921752929688 sec\n",
      "WARNING:jax._src.dispatch:Finished tracing + transforming jit(slice) in 0.00019288063049316406 sec\n",
      "DEBUG:jax._src.interpreters.pxla:Compiling slice for with global shapes and types [ShapedArray(float32[6])]. Argument mapping: (GSPMDSharding({replicated}),).\n",
      "WARNING:jax._src.dispatch:Finished jaxpr to MLIR module conversion jit(slice) in 0.0013189315795898438 sec\n",
      "DEBUG:jax._src.xla_bridge:get_compile_options: num_replicas=1 num_partitions=1 device_assignment=[[CpuDevice(id=0)]]\n",
      "WARNING:jax._src.dispatch:Finished XLA compilation of jit(slice) in 0.004571676254272461 sec\n",
      "WARNING:jax._src.dispatch:Finished tracing + transforming jit(slice) in 0.00020313262939453125 sec\n",
      "DEBUG:jax._src.interpreters.pxla:Compiling slice for with global shapes and types [ShapedArray(float32[6])]. Argument mapping: (GSPMDSharding({replicated}),).\n",
      "WARNING:jax._src.dispatch:Finished jaxpr to MLIR module conversion jit(slice) in 0.0016107559204101562 sec\n",
      "DEBUG:jax._src.xla_bridge:get_compile_options: num_replicas=1 num_partitions=1 device_assignment=[[CpuDevice(id=0)]]\n",
      "WARNING:jax._src.dispatch:Finished XLA compilation of jit(slice) in 0.00496220588684082 sec\n",
      "WARNING:jax._src.dispatch:Finished tracing + transforming jit(slice) in 0.0003840923309326172 sec\n",
      "DEBUG:jax._src.interpreters.pxla:Compiling slice for with global shapes and types [ShapedArray(float32[6])]. Argument mapping: (GSPMDSharding({replicated}),).\n",
      "WARNING:jax._src.dispatch:Finished jaxpr to MLIR module conversion jit(slice) in 0.0014736652374267578 sec\n",
      "DEBUG:jax._src.xla_bridge:get_compile_options: num_replicas=1 num_partitions=1 device_assignment=[[CpuDevice(id=0)]]\n",
      "WARNING:jax._src.dispatch:Finished XLA compilation of jit(slice) in 0.004715442657470703 sec\n",
      "WARNING:jax._src.dispatch:Finished tracing + transforming jit(slice) in 0.00023317337036132812 sec\n",
      "DEBUG:jax._src.interpreters.pxla:Compiling slice for with global shapes and types [ShapedArray(float32[6])]. Argument mapping: (GSPMDSharding({replicated}),).\n",
      "WARNING:jax._src.dispatch:Finished jaxpr to MLIR module conversion jit(slice) in 0.0015227794647216797 sec\n",
      "DEBUG:jax._src.xla_bridge:get_compile_options: num_replicas=1 num_partitions=1 device_assignment=[[CpuDevice(id=0)]]\n",
      "WARNING:jax._src.dispatch:Finished XLA compilation of jit(slice) in 0.004835844039916992 sec\n",
      "WARNING:jax._src.dispatch:Finished tracing + transforming jit(slice) in 0.0002040863037109375 sec\n",
      "DEBUG:jax._src.interpreters.pxla:Compiling slice for with global shapes and types [ShapedArray(float32[6])]. Argument mapping: (GSPMDSharding({replicated}),).\n",
      "WARNING:jax._src.dispatch:Finished jaxpr to MLIR module conversion jit(slice) in 0.0014503002166748047 sec\n",
      "DEBUG:jax._src.xla_bridge:get_compile_options: num_replicas=1 num_partitions=1 device_assignment=[[CpuDevice(id=0)]]\n",
      "WARNING:jax._src.dispatch:Finished XLA compilation of jit(slice) in 0.004744768142700195 sec\n",
      "WARNING:jax._src.dispatch:Finished tracing + transforming jit(slice) in 0.0002129077911376953 sec\n",
      "DEBUG:jax._src.interpreters.pxla:Compiling slice for with global shapes and types [ShapedArray(float32[6])]. Argument mapping: (GSPMDSharding({replicated}),).\n",
      "WARNING:jax._src.dispatch:Finished jaxpr to MLIR module conversion jit(slice) in 0.0015583038330078125 sec\n",
      "DEBUG:jax._src.xla_bridge:get_compile_options: num_replicas=1 num_partitions=1 device_assignment=[[CpuDevice(id=0)]]\n",
      "WARNING:jax._src.dispatch:Finished XLA compilation of jit(slice) in 0.004813432693481445 sec\n",
      "WARNING:jax._src.dispatch:Finished tracing + transforming jit(integer_pow) in 0.0001919269561767578 sec\n",
      "DEBUG:jax._src.interpreters.pxla:Compiling integer_pow for with global shapes and types [ShapedArray(float32[])]. Argument mapping: (GSPMDSharding({replicated}),).\n",
      "WARNING:jax._src.dispatch:Finished jaxpr to MLIR module conversion jit(integer_pow) in 0.002047300338745117 sec\n",
      "DEBUG:jax._src.xla_bridge:get_compile_options: num_replicas=1 num_partitions=1 device_assignment=[[CpuDevice(id=0)]]\n",
      "WARNING:jax._src.dispatch:Finished XLA compilation of jit(integer_pow) in 0.0054912567138671875 sec\n"
     ]
    },
    {
     "data": {
      "application/vnd.jupyter.widget-view+json": {
       "model_id": "",
       "version_major": 2,
       "version_minor": 0
      },
      "text/plain": [
       "Loading to device:   0%|          | 0/3 [00:00<?, ?subject/s]"
      ]
     },
     "metadata": {},
     "output_type": "display_data"
    },
    {
     "data": {
      "application/vnd.jupyter.widget-view+json": {
       "model_id": "",
       "version_major": 2,
       "version_minor": 0
      },
      "text/plain": [
       "Embedding:   0%|          | 0/3 [00:00<?, ?subject/s]"
      ]
     },
     "metadata": {},
     "output_type": "display_data"
    },
    {
     "data": {
      "application/vnd.jupyter.widget-view+json": {
       "model_id": "",
       "version_major": 2,
       "version_minor": 0
      },
      "text/plain": [
       "  0%|          | 0.00/1008.39 [00:00<?, ?longitudinal-days/s]"
      ]
     },
     "metadata": {},
     "output_type": "display_data"
    },
    {
     "name": "stderr",
     "output_type": "stream",
     "text": [
      "WARNING:jax._src.dispatch:Finished tracing + transforming jit(integer_pow) in 0.0001952648162841797 sec\n",
      "DEBUG:jax._src.interpreters.pxla:Compiling integer_pow for with global shapes and types [ShapedArray(float32[])]. Argument mapping: (GSPMDSharding({replicated}),).\n",
      "WARNING:jax._src.dispatch:Finished jaxpr to MLIR module conversion jit(integer_pow) in 0.0021719932556152344 sec\n",
      "DEBUG:jax._src.xla_bridge:get_compile_options: num_replicas=1 num_partitions=1 device_assignment=[[CpuDevice(id=0)]]\n",
      "WARNING:jax._src.dispatch:Finished XLA compilation of jit(integer_pow) in 0.005594015121459961 sec\n"
     ]
    },
    {
     "data": {
      "application/vnd.jupyter.widget-view+json": {
       "model_id": "",
       "version_major": 2,
       "version_minor": 0
      },
      "text/plain": [
       "Loading to device:   0%|          | 0/1 [00:00<?, ?subject/s]"
      ]
     },
     "metadata": {},
     "output_type": "display_data"
    },
    {
     "data": {
      "application/vnd.jupyter.widget-view+json": {
       "model_id": "",
       "version_major": 2,
       "version_minor": 0
      },
      "text/plain": [
       "Embedding:   0%|          | 0/1 [00:00<?, ?subject/s]"
      ]
     },
     "metadata": {},
     "output_type": "display_data"
    },
    {
     "data": {
      "application/vnd.jupyter.widget-view+json": {
       "model_id": "",
       "version_major": 2,
       "version_minor": 0
      },
      "text/plain": [
       "  0%|          | 0.00/604.97 [00:00<?, ?longitudinal-days/s]"
      ]
     },
     "metadata": {},
     "output_type": "display_data"
    },
    {
     "name": "stderr",
     "output_type": "stream",
     "text": [
      "WARNING:jax._src.dispatch:Finished tracing + transforming jit(concatenate) in 0.0002391338348388672 sec\n",
      "DEBUG:jax._src.interpreters.pxla:Compiling concatenate for with global shapes and types [ShapedArray(float32[1]), ShapedArray(float32[1]), ShapedArray(float32[1]), ShapedArray(float32[1]), ShapedArray(float32[1]), ShapedArray(float32[1]), ShapedArray(float32[1])]. Argument mapping: (GSPMDSharding({replicated}), GSPMDSharding({replicated}), GSPMDSharding({replicated}), GSPMDSharding({replicated}), GSPMDSharding({replicated}), GSPMDSharding({replicated}), GSPMDSharding({replicated})).\n",
      "WARNING:jax._src.dispatch:Finished jaxpr to MLIR module conversion jit(concatenate) in 0.0013720989227294922 sec\n",
      "DEBUG:jax._src.xla_bridge:get_compile_options: num_replicas=1 num_partitions=1 device_assignment=[[CpuDevice(id=0)]]\n",
      "WARNING:jax._src.dispatch:Finished XLA compilation of jit(concatenate) in 0.005561113357543945 sec\n",
      "WARNING:jax._src.dispatch:Finished tracing + transforming jit(convert_element_type) in 0.0003933906555175781 sec\n",
      "WARNING:jax._src.dispatch:Finished tracing + transforming _reduce_sum for pjit in 0.00044155120849609375 sec\n",
      "WARNING:jax._src.dispatch:Finished tracing + transforming _broadcast_arrays for pjit in 0.0003268718719482422 sec\n",
      "WARNING:jax._src.dispatch:Finished tracing + transforming _where for pjit in 0.0015034675598144531 sec\n",
      "WARNING:jax._src.dispatch:Finished tracing + transforming _reduce_sum for pjit in 0.0003566741943359375 sec\n",
      "WARNING:jax._src.dispatch:Finished tracing + transforming nansum for pjit in 0.0035750865936279297 sec\n",
      "WARNING:jax._src.dispatch:Finished tracing + transforming nanmean for pjit in 0.005988359451293945 sec\n",
      "DEBUG:jax._src.interpreters.pxla:Compiling nanmean for with global shapes and types [ShapedArray(float32[7])]. Argument mapping: (GSPMDSharding({replicated}),).\n",
      "WARNING:jax._src.dispatch:Finished jaxpr to MLIR module conversion jit(nanmean) in 0.0035092830657958984 sec\n",
      "DEBUG:jax._src.xla_bridge:get_compile_options: num_replicas=1 num_partitions=1 device_assignment=[[CpuDevice(id=0)]]\n",
      "WARNING:jax._src.dispatch:Finished XLA compilation of jit(nanmean) in 0.012015104293823242 sec\n",
      "DEBUG:jax._src.interpreters.pxla:Compiling nanmean for with global shapes and types [ShapedArray(bool[7]), ShapedArray(float32[]), ShapedArray(float32[])]. Argument mapping: (GSPMDSharding({replicated}), GSPMDSharding({replicated}), GSPMDSharding({replicated})).\n",
      "WARNING:jax._src.dispatch:Finished jaxpr to MLIR module conversion jit(nanmean) in 0.0024971961975097656 sec\n",
      "DEBUG:jax._src.xla_bridge:get_compile_options: num_replicas=1 num_partitions=1 device_assignment=[[CpuDevice(id=0)]]\n",
      "WARNING:jax._src.dispatch:Finished XLA compilation of jit(nanmean) in 0.007102489471435547 sec\n",
      "WARNING:jax._src.dispatch:Finished tracing + transforming jit(slice) in 0.0002143383026123047 sec\n",
      "DEBUG:jax._src.interpreters.pxla:Compiling slice for with global shapes and types [ShapedArray(float32[7])]. Argument mapping: (GSPMDSharding({replicated}),).\n",
      "WARNING:jax._src.dispatch:Finished jaxpr to MLIR module conversion jit(slice) in 0.001291513442993164 sec\n",
      "DEBUG:jax._src.xla_bridge:get_compile_options: num_replicas=1 num_partitions=1 device_assignment=[[CpuDevice(id=0)]]\n",
      "WARNING:jax._src.dispatch:Finished XLA compilation of jit(slice) in 0.004584789276123047 sec\n",
      "WARNING:jax._src.dispatch:Finished tracing + transforming jit(slice) in 0.00020384788513183594 sec\n",
      "DEBUG:jax._src.interpreters.pxla:Compiling slice for with global shapes and types [ShapedArray(float32[7])]. Argument mapping: (GSPMDSharding({replicated}),).\n",
      "WARNING:jax._src.dispatch:Finished jaxpr to MLIR module conversion jit(slice) in 0.0012934207916259766 sec\n",
      "DEBUG:jax._src.xla_bridge:get_compile_options: num_replicas=1 num_partitions=1 device_assignment=[[CpuDevice(id=0)]]\n",
      "WARNING:jax._src.dispatch:Finished XLA compilation of jit(slice) in 0.0045680999755859375 sec\n",
      "WARNING:jax._src.dispatch:Finished tracing + transforming jit(slice) in 0.0004258155822753906 sec\n",
      "DEBUG:jax._src.interpreters.pxla:Compiling slice for with global shapes and types [ShapedArray(float32[7])]. Argument mapping: (GSPMDSharding({replicated}),).\n",
      "WARNING:jax._src.dispatch:Finished jaxpr to MLIR module conversion jit(slice) in 0.00138092041015625 sec\n",
      "DEBUG:jax._src.xla_bridge:get_compile_options: num_replicas=1 num_partitions=1 device_assignment=[[CpuDevice(id=0)]]\n",
      "WARNING:jax._src.dispatch:Finished XLA compilation of jit(slice) in 0.004581928253173828 sec\n",
      "WARNING:jax._src.dispatch:Finished tracing + transforming jit(slice) in 0.00020241737365722656 sec\n",
      "DEBUG:jax._src.interpreters.pxla:Compiling slice for with global shapes and types [ShapedArray(float32[7])]. Argument mapping: (GSPMDSharding({replicated}),).\n",
      "WARNING:jax._src.dispatch:Finished jaxpr to MLIR module conversion jit(slice) in 0.0013766288757324219 sec\n",
      "DEBUG:jax._src.xla_bridge:get_compile_options: num_replicas=1 num_partitions=1 device_assignment=[[CpuDevice(id=0)]]\n",
      "WARNING:jax._src.dispatch:Finished XLA compilation of jit(slice) in 0.004585742950439453 sec\n",
      "WARNING:jax._src.dispatch:Finished tracing + transforming jit(slice) in 0.0002002716064453125 sec\n",
      "DEBUG:jax._src.interpreters.pxla:Compiling slice for with global shapes and types [ShapedArray(float32[7])]. Argument mapping: (GSPMDSharding({replicated}),).\n",
      "WARNING:jax._src.dispatch:Finished jaxpr to MLIR module conversion jit(slice) in 0.0013303756713867188 sec\n",
      "DEBUG:jax._src.xla_bridge:get_compile_options: num_replicas=1 num_partitions=1 device_assignment=[[CpuDevice(id=0)]]\n",
      "WARNING:jax._src.dispatch:Finished XLA compilation of jit(slice) in 0.004544973373413086 sec\n",
      "WARNING:jax._src.dispatch:Finished tracing + transforming jit(slice) in 0.0002315044403076172 sec\n",
      "DEBUG:jax._src.interpreters.pxla:Compiling slice for with global shapes and types [ShapedArray(float32[7])]. Argument mapping: (GSPMDSharding({replicated}),).\n",
      "WARNING:jax._src.dispatch:Finished jaxpr to MLIR module conversion jit(slice) in 0.0013778209686279297 sec\n",
      "DEBUG:jax._src.xla_bridge:get_compile_options: num_replicas=1 num_partitions=1 device_assignment=[[CpuDevice(id=0)]]\n",
      "WARNING:jax._src.dispatch:Finished XLA compilation of jit(slice) in 0.004652261734008789 sec\n",
      "WARNING:jax._src.dispatch:Finished tracing + transforming jit(slice) in 0.00022292137145996094 sec\n",
      "DEBUG:jax._src.interpreters.pxla:Compiling slice for with global shapes and types [ShapedArray(float32[7])]. Argument mapping: (GSPMDSharding({replicated}),).\n",
      "WARNING:jax._src.dispatch:Finished jaxpr to MLIR module conversion jit(slice) in 0.0014495849609375 sec\n",
      "DEBUG:jax._src.xla_bridge:get_compile_options: num_replicas=1 num_partitions=1 device_assignment=[[CpuDevice(id=0)]]\n",
      "WARNING:jax._src.dispatch:Finished XLA compilation of jit(slice) in 0.004612445831298828 sec\n",
      "WARNING:jax._src.dispatch:Finished tracing + transforming jit(integer_pow) in 0.0002818107604980469 sec\n",
      "DEBUG:jax._src.interpreters.pxla:Compiling integer_pow for with global shapes and types [ShapedArray(float32[])]. Argument mapping: (GSPMDSharding({replicated}),).\n",
      "WARNING:jax._src.dispatch:Finished jaxpr to MLIR module conversion jit(integer_pow) in 0.002939462661743164 sec\n",
      "DEBUG:jax._src.xla_bridge:get_compile_options: num_replicas=1 num_partitions=1 device_assignment=[[CpuDevice(id=0)]]\n",
      "WARNING:jax._src.dispatch:Finished XLA compilation of jit(integer_pow) in 0.007964849472045898 sec\n"
     ]
    },
    {
     "data": {
      "application/vnd.jupyter.widget-view+json": {
       "model_id": "",
       "version_major": 2,
       "version_minor": 0
      },
      "text/plain": [
       "Loading to device:   0%|          | 0/4 [00:00<?, ?subject/s]"
      ]
     },
     "metadata": {},
     "output_type": "display_data"
    },
    {
     "data": {
      "application/vnd.jupyter.widget-view+json": {
       "model_id": "",
       "version_major": 2,
       "version_minor": 0
      },
      "text/plain": [
       "Embedding:   0%|          | 0/4 [00:00<?, ?subject/s]"
      ]
     },
     "metadata": {},
     "output_type": "display_data"
    },
    {
     "data": {
      "application/vnd.jupyter.widget-view+json": {
       "model_id": "",
       "version_major": 2,
       "version_minor": 0
      },
      "text/plain": [
       "  0%|          | 0.00/10702.48 [00:00<?, ?longitudinal-days/s]"
      ]
     },
     "metadata": {},
     "output_type": "display_data"
    },
    {
     "name": "stderr",
     "output_type": "stream",
     "text": [
      "WARNING:jax._src.dispatch:Finished tracing + transforming jit(concatenate) in 0.00023937225341796875 sec\n",
      "DEBUG:jax._src.interpreters.pxla:Compiling concatenate for with global shapes and types [ShapedArray(float32[1]), ShapedArray(float32[1]), ShapedArray(float32[1])]. Argument mapping: (GSPMDSharding({replicated}), GSPMDSharding({replicated}), GSPMDSharding({replicated})).\n",
      "WARNING:jax._src.dispatch:Finished jaxpr to MLIR module conversion jit(concatenate) in 0.0012271404266357422 sec\n",
      "DEBUG:jax._src.xla_bridge:get_compile_options: num_replicas=1 num_partitions=1 device_assignment=[[CpuDevice(id=0)]]\n",
      "WARNING:jax._src.dispatch:Finished XLA compilation of jit(concatenate) in 0.004850864410400391 sec\n",
      "WARNING:jax._src.dispatch:Finished tracing + transforming jit(concatenate) in 0.0003879070281982422 sec\n",
      "DEBUG:jax._src.interpreters.pxla:Compiling concatenate for with global shapes and types [ShapedArray(float32[16]), ShapedArray(float32[16]), ShapedArray(float32[3])]. Argument mapping: (GSPMDSharding({replicated}), GSPMDSharding({replicated}), GSPMDSharding({replicated})).\n",
      "WARNING:jax._src.dispatch:Finished jaxpr to MLIR module conversion jit(concatenate) in 0.0011932849884033203 sec\n",
      "DEBUG:jax._src.xla_bridge:get_compile_options: num_replicas=1 num_partitions=1 device_assignment=[[CpuDevice(id=0)]]\n",
      "WARNING:jax._src.dispatch:Finished XLA compilation of jit(concatenate) in 0.005281686782836914 sec\n",
      "WARNING:jax._src.dispatch:Finished tracing + transforming jit(convert_element_type) in 0.00046563148498535156 sec\n",
      "WARNING:jax._src.dispatch:Finished tracing + transforming _reduce_sum for pjit in 0.00046825408935546875 sec\n",
      "WARNING:jax._src.dispatch:Finished tracing + transforming _broadcast_arrays for pjit in 0.0005238056182861328 sec\n",
      "WARNING:jax._src.dispatch:Finished tracing + transforming _where for pjit in 0.0014350414276123047 sec\n",
      "WARNING:jax._src.dispatch:Finished tracing + transforming _reduce_sum for pjit in 0.0010263919830322266 sec\n",
      "WARNING:jax._src.dispatch:Finished tracing + transforming nansum for pjit in 0.003916025161743164 sec\n",
      "WARNING:jax._src.dispatch:Finished tracing + transforming nanmean for pjit in 0.0061304569244384766 sec\n",
      "DEBUG:jax._src.interpreters.pxla:Compiling nanmean for with global shapes and types [ShapedArray(float32[35])]. Argument mapping: (GSPMDSharding({replicated}),).\n",
      "WARNING:jax._src.dispatch:Finished jaxpr to MLIR module conversion jit(nanmean) in 0.003401517868041992 sec\n",
      "DEBUG:jax._src.xla_bridge:get_compile_options: num_replicas=1 num_partitions=1 device_assignment=[[CpuDevice(id=0)]]\n",
      "WARNING:jax._src.dispatch:Finished XLA compilation of jit(nanmean) in 0.02025318145751953 sec\n",
      "DEBUG:jax._src.interpreters.pxla:Compiling nanmean for with global shapes and types [ShapedArray(bool[35]), ShapedArray(float32[]), ShapedArray(float32[])]. Argument mapping: (GSPMDSharding({replicated}), GSPMDSharding({replicated}), GSPMDSharding({replicated})).\n",
      "WARNING:jax._src.dispatch:Finished jaxpr to MLIR module conversion jit(nanmean) in 0.0026123523712158203 sec\n",
      "DEBUG:jax._src.xla_bridge:get_compile_options: num_replicas=1 num_partitions=1 device_assignment=[[CpuDevice(id=0)]]\n",
      "WARNING:jax._src.dispatch:Finished XLA compilation of jit(nanmean) in 0.007924079895019531 sec\n",
      "WARNING:jax._src.dispatch:Finished tracing + transforming jit(slice) in 0.0002117156982421875 sec\n",
      "DEBUG:jax._src.interpreters.pxla:Compiling slice for with global shapes and types [ShapedArray(float32[35])]. Argument mapping: (GSPMDSharding({replicated}),).\n",
      "WARNING:jax._src.dispatch:Finished jaxpr to MLIR module conversion jit(slice) in 0.0013031959533691406 sec\n",
      "DEBUG:jax._src.xla_bridge:get_compile_options: num_replicas=1 num_partitions=1 device_assignment=[[CpuDevice(id=0)]]\n",
      "WARNING:jax._src.dispatch:Finished XLA compilation of jit(slice) in 0.00484776496887207 sec\n",
      "WARNING:jax._src.dispatch:Finished tracing + transforming jit(slice) in 0.0002067089080810547 sec\n",
      "DEBUG:jax._src.interpreters.pxla:Compiling slice for with global shapes and types [ShapedArray(float32[35])]. Argument mapping: (GSPMDSharding({replicated}),).\n",
      "WARNING:jax._src.dispatch:Finished jaxpr to MLIR module conversion jit(slice) in 0.0013370513916015625 sec\n",
      "DEBUG:jax._src.xla_bridge:get_compile_options: num_replicas=1 num_partitions=1 device_assignment=[[CpuDevice(id=0)]]\n",
      "WARNING:jax._src.dispatch:Finished XLA compilation of jit(slice) in 0.004650592803955078 sec\n",
      "WARNING:jax._src.dispatch:Finished tracing + transforming jit(slice) in 0.0004725456237792969 sec\n",
      "DEBUG:jax._src.interpreters.pxla:Compiling slice for with global shapes and types [ShapedArray(float32[35])]. Argument mapping: (GSPMDSharding({replicated}),).\n",
      "WARNING:jax._src.dispatch:Finished jaxpr to MLIR module conversion jit(slice) in 0.0015125274658203125 sec\n",
      "DEBUG:jax._src.xla_bridge:get_compile_options: num_replicas=1 num_partitions=1 device_assignment=[[CpuDevice(id=0)]]\n",
      "WARNING:jax._src.dispatch:Finished XLA compilation of jit(slice) in 0.004745960235595703 sec\n",
      "WARNING:jax._src.dispatch:Finished tracing + transforming jit(slice) in 0.0001926422119140625 sec\n",
      "DEBUG:jax._src.interpreters.pxla:Compiling slice for with global shapes and types [ShapedArray(float32[3])]. Argument mapping: (GSPMDSharding({replicated}),).\n",
      "WARNING:jax._src.dispatch:Finished jaxpr to MLIR module conversion jit(slice) in 0.0014147758483886719 sec\n",
      "DEBUG:jax._src.xla_bridge:get_compile_options: num_replicas=1 num_partitions=1 device_assignment=[[CpuDevice(id=0)]]\n",
      "WARNING:jax._src.dispatch:Finished XLA compilation of jit(slice) in 0.00481104850769043 sec\n",
      "WARNING:jax._src.dispatch:Finished tracing + transforming jit(slice) in 0.0002052783966064453 sec\n",
      "DEBUG:jax._src.interpreters.pxla:Compiling slice for with global shapes and types [ShapedArray(float32[3])]. Argument mapping: (GSPMDSharding({replicated}),).\n",
      "WARNING:jax._src.dispatch:Finished jaxpr to MLIR module conversion jit(slice) in 0.001434326171875 sec\n",
      "DEBUG:jax._src.xla_bridge:get_compile_options: num_replicas=1 num_partitions=1 device_assignment=[[CpuDevice(id=0)]]\n",
      "WARNING:jax._src.dispatch:Finished XLA compilation of jit(slice) in 0.0045223236083984375 sec\n",
      "WARNING:jax._src.dispatch:Finished tracing + transforming jit(slice) in 0.00020647048950195312 sec\n",
      "DEBUG:jax._src.interpreters.pxla:Compiling slice for with global shapes and types [ShapedArray(float32[3])]. Argument mapping: (GSPMDSharding({replicated}),).\n",
      "WARNING:jax._src.dispatch:Finished jaxpr to MLIR module conversion jit(slice) in 0.0014705657958984375 sec\n",
      "DEBUG:jax._src.xla_bridge:get_compile_options: num_replicas=1 num_partitions=1 device_assignment=[[CpuDevice(id=0)]]\n",
      "WARNING:jax._src.dispatch:Finished XLA compilation of jit(slice) in 0.004662036895751953 sec\n",
      "WARNING:jax._src.dispatch:Finished tracing + transforming jit(integer_pow) in 0.00021886825561523438 sec\n",
      "DEBUG:jax._src.interpreters.pxla:Compiling integer_pow for with global shapes and types [ShapedArray(float32[])]. Argument mapping: (GSPMDSharding({replicated}),).\n",
      "WARNING:jax._src.dispatch:Finished jaxpr to MLIR module conversion jit(integer_pow) in 0.0021746158599853516 sec\n",
      "DEBUG:jax._src.xla_bridge:get_compile_options: num_replicas=1 num_partitions=1 device_assignment=[[CpuDevice(id=0)]]\n",
      "WARNING:jax._src.dispatch:Finished XLA compilation of jit(integer_pow) in 0.00587773323059082 sec\n"
     ]
    },
    {
     "data": {
      "application/vnd.jupyter.widget-view+json": {
       "model_id": "",
       "version_major": 2,
       "version_minor": 0
      },
      "text/plain": [
       "Loading to device:   0%|          | 0/4 [00:00<?, ?subject/s]"
      ]
     },
     "metadata": {},
     "output_type": "display_data"
    },
    {
     "data": {
      "application/vnd.jupyter.widget-view+json": {
       "model_id": "",
       "version_major": 2,
       "version_minor": 0
      },
      "text/plain": [
       "Embedding:   0%|          | 0/4 [00:00<?, ?subject/s]"
      ]
     },
     "metadata": {},
     "output_type": "display_data"
    },
    {
     "data": {
      "application/vnd.jupyter.widget-view+json": {
       "model_id": "",
       "version_major": 2,
       "version_minor": 0
      },
      "text/plain": [
       "  0%|          | 0.00/3356.18 [00:00<?, ?longitudinal-days/s]"
      ]
     },
     "metadata": {},
     "output_type": "display_data"
    },
    {
     "name": "stderr",
     "output_type": "stream",
     "text": [
      "WARNING:jax._src.dispatch:Finished tracing + transforming jit(integer_pow) in 0.00018978118896484375 sec\n",
      "DEBUG:jax._src.interpreters.pxla:Compiling integer_pow for with global shapes and types [ShapedArray(float32[])]. Argument mapping: (GSPMDSharding({replicated}),).\n",
      "WARNING:jax._src.dispatch:Finished jaxpr to MLIR module conversion jit(integer_pow) in 0.0021653175354003906 sec\n",
      "DEBUG:jax._src.xla_bridge:get_compile_options: num_replicas=1 num_partitions=1 device_assignment=[[CpuDevice(id=0)]]\n",
      "WARNING:jax._src.dispatch:Finished XLA compilation of jit(integer_pow) in 0.005635261535644531 sec\n"
     ]
    },
    {
     "data": {
      "application/vnd.jupyter.widget-view+json": {
       "model_id": "",
       "version_major": 2,
       "version_minor": 0
      },
      "text/plain": [
       "Loading to device:   0%|          | 0/4 [00:00<?, ?subject/s]"
      ]
     },
     "metadata": {},
     "output_type": "display_data"
    },
    {
     "data": {
      "application/vnd.jupyter.widget-view+json": {
       "model_id": "",
       "version_major": 2,
       "version_minor": 0
      },
      "text/plain": [
       "Embedding:   0%|          | 0/4 [00:00<?, ?subject/s]"
      ]
     },
     "metadata": {},
     "output_type": "display_data"
    },
    {
     "data": {
      "application/vnd.jupyter.widget-view+json": {
       "model_id": "",
       "version_major": 2,
       "version_minor": 0
      },
      "text/plain": [
       "  0%|          | 0.00/10537.49 [00:00<?, ?longitudinal-days/s]"
      ]
     },
     "metadata": {},
     "output_type": "display_data"
    },
    {
     "name": "stderr",
     "output_type": "stream",
     "text": [
      "WARNING:jax._src.dispatch:Finished tracing + transforming jit(integer_pow) in 0.0002071857452392578 sec\n",
      "DEBUG:jax._src.interpreters.pxla:Compiling integer_pow for with global shapes and types [ShapedArray(float32[])]. Argument mapping: (GSPMDSharding({replicated}),).\n",
      "WARNING:jax._src.dispatch:Finished jaxpr to MLIR module conversion jit(integer_pow) in 0.002708911895751953 sec\n",
      "DEBUG:jax._src.xla_bridge:get_compile_options: num_replicas=1 num_partitions=1 device_assignment=[[CpuDevice(id=0)]]\n",
      "WARNING:jax._src.dispatch:Finished XLA compilation of jit(integer_pow) in 0.007440328598022461 sec\n"
     ]
    },
    {
     "data": {
      "application/vnd.jupyter.widget-view+json": {
       "model_id": "",
       "version_major": 2,
       "version_minor": 0
      },
      "text/plain": [
       "Loading to device:   0%|          | 0/3 [00:00<?, ?subject/s]"
      ]
     },
     "metadata": {},
     "output_type": "display_data"
    },
    {
     "data": {
      "application/vnd.jupyter.widget-view+json": {
       "model_id": "",
       "version_major": 2,
       "version_minor": 0
      },
      "text/plain": [
       "Embedding:   0%|          | 0/3 [00:00<?, ?subject/s]"
      ]
     },
     "metadata": {},
     "output_type": "display_data"
    },
    {
     "data": {
      "application/vnd.jupyter.widget-view+json": {
       "model_id": "",
       "version_major": 2,
       "version_minor": 0
      },
      "text/plain": [
       "  0%|          | 0.00/427.76 [00:00<?, ?longitudinal-days/s]"
      ]
     },
     "metadata": {},
     "output_type": "display_data"
    },
    {
     "name": "stderr",
     "output_type": "stream",
     "text": [
      "WARNING:jax._src.dispatch:Finished tracing + transforming jit(concatenate) in 0.00019693374633789062 sec\n",
      "DEBUG:jax._src.interpreters.pxla:Compiling concatenate for with global shapes and types [ShapedArray(float32[1]), ShapedArray(float32[1]), ShapedArray(float32[1]), ShapedArray(float32[1])]. Argument mapping: (GSPMDSharding({replicated}), GSPMDSharding({replicated}), GSPMDSharding({replicated}), GSPMDSharding({replicated})).\n",
      "WARNING:jax._src.dispatch:Finished jaxpr to MLIR module conversion jit(concatenate) in 0.001390218734741211 sec\n",
      "DEBUG:jax._src.xla_bridge:get_compile_options: num_replicas=1 num_partitions=1 device_assignment=[[CpuDevice(id=0)]]\n",
      "WARNING:jax._src.dispatch:Finished XLA compilation of jit(concatenate) in 0.005588531494140625 sec\n",
      "WARNING:jax._src.dispatch:Finished tracing + transforming jit(convert_element_type) in 0.0005276203155517578 sec\n",
      "WARNING:jax._src.dispatch:Finished tracing + transforming _reduce_sum for pjit in 0.0005321502685546875 sec\n",
      "WARNING:jax._src.dispatch:Finished tracing + transforming _broadcast_arrays for pjit in 0.00032258033752441406 sec\n",
      "WARNING:jax._src.dispatch:Finished tracing + transforming _where for pjit in 0.0013222694396972656 sec\n",
      "WARNING:jax._src.dispatch:Finished tracing + transforming _reduce_sum for pjit in 0.0003364086151123047 sec\n",
      "WARNING:jax._src.dispatch:Finished tracing + transforming nansum for pjit in 0.0034842491149902344 sec\n",
      "WARNING:jax._src.dispatch:Finished tracing + transforming nanmean for pjit in 0.005689382553100586 sec\n",
      "DEBUG:jax._src.interpreters.pxla:Compiling nanmean for with global shapes and types [ShapedArray(float32[4])]. Argument mapping: (GSPMDSharding({replicated}),).\n",
      "WARNING:jax._src.dispatch:Finished jaxpr to MLIR module conversion jit(nanmean) in 0.0033788681030273438 sec\n",
      "DEBUG:jax._src.xla_bridge:get_compile_options: num_replicas=1 num_partitions=1 device_assignment=[[CpuDevice(id=0)]]\n",
      "WARNING:jax._src.dispatch:Finished XLA compilation of jit(nanmean) in 0.011470317840576172 sec\n",
      "DEBUG:jax._src.interpreters.pxla:Compiling nanmean for with global shapes and types [ShapedArray(bool[4]), ShapedArray(float32[]), ShapedArray(float32[])]. Argument mapping: (GSPMDSharding({replicated}), GSPMDSharding({replicated}), GSPMDSharding({replicated})).\n",
      "WARNING:jax._src.dispatch:Finished jaxpr to MLIR module conversion jit(nanmean) in 0.0025947093963623047 sec\n",
      "DEBUG:jax._src.xla_bridge:get_compile_options: num_replicas=1 num_partitions=1 device_assignment=[[CpuDevice(id=0)]]\n",
      "WARNING:jax._src.dispatch:Finished XLA compilation of jit(nanmean) in 0.006981849670410156 sec\n",
      "WARNING:jax._src.dispatch:Finished tracing + transforming jit(slice) in 0.00019025802612304688 sec\n",
      "DEBUG:jax._src.interpreters.pxla:Compiling slice for with global shapes and types [ShapedArray(float32[4])]. Argument mapping: (GSPMDSharding({replicated}),).\n",
      "WARNING:jax._src.dispatch:Finished jaxpr to MLIR module conversion jit(slice) in 0.0012857913970947266 sec\n",
      "DEBUG:jax._src.xla_bridge:get_compile_options: num_replicas=1 num_partitions=1 device_assignment=[[CpuDevice(id=0)]]\n",
      "WARNING:jax._src.dispatch:Finished XLA compilation of jit(slice) in 0.004677295684814453 sec\n",
      "WARNING:jax._src.dispatch:Finished tracing + transforming jit(slice) in 0.0001957416534423828 sec\n",
      "DEBUG:jax._src.interpreters.pxla:Compiling slice for with global shapes and types [ShapedArray(float32[4])]. Argument mapping: (GSPMDSharding({replicated}),).\n",
      "WARNING:jax._src.dispatch:Finished jaxpr to MLIR module conversion jit(slice) in 0.0014073848724365234 sec\n",
      "DEBUG:jax._src.xla_bridge:get_compile_options: num_replicas=1 num_partitions=1 device_assignment=[[CpuDevice(id=0)]]\n",
      "WARNING:jax._src.dispatch:Finished XLA compilation of jit(slice) in 0.004548072814941406 sec\n",
      "WARNING:jax._src.dispatch:Finished tracing + transforming jit(slice) in 0.0001964569091796875 sec\n",
      "DEBUG:jax._src.interpreters.pxla:Compiling slice for with global shapes and types [ShapedArray(float32[4])]. Argument mapping: (GSPMDSharding({replicated}),).\n",
      "WARNING:jax._src.dispatch:Finished jaxpr to MLIR module conversion jit(slice) in 0.0015282630920410156 sec\n",
      "DEBUG:jax._src.xla_bridge:get_compile_options: num_replicas=1 num_partitions=1 device_assignment=[[CpuDevice(id=0)]]\n",
      "WARNING:jax._src.dispatch:Finished XLA compilation of jit(slice) in 0.004532575607299805 sec\n",
      "WARNING:jax._src.dispatch:Finished tracing + transforming jit(slice) in 0.00019478797912597656 sec\n",
      "DEBUG:jax._src.interpreters.pxla:Compiling slice for with global shapes and types [ShapedArray(float32[4])]. Argument mapping: (GSPMDSharding({replicated}),).\n",
      "WARNING:jax._src.dispatch:Finished jaxpr to MLIR module conversion jit(slice) in 0.0015642642974853516 sec\n",
      "DEBUG:jax._src.xla_bridge:get_compile_options: num_replicas=1 num_partitions=1 device_assignment=[[CpuDevice(id=0)]]\n",
      "WARNING:jax._src.dispatch:Finished XLA compilation of jit(slice) in 0.004820108413696289 sec\n",
      "WARNING:jax._src.dispatch:Finished tracing + transforming jit(integer_pow) in 0.00019311904907226562 sec\n",
      "DEBUG:jax._src.interpreters.pxla:Compiling integer_pow for with global shapes and types [ShapedArray(float32[])]. Argument mapping: (GSPMDSharding({replicated}),).\n",
      "WARNING:jax._src.dispatch:Finished jaxpr to MLIR module conversion jit(integer_pow) in 0.0021295547485351562 sec\n",
      "DEBUG:jax._src.xla_bridge:get_compile_options: num_replicas=1 num_partitions=1 device_assignment=[[CpuDevice(id=0)]]\n",
      "WARNING:jax._src.dispatch:Finished XLA compilation of jit(integer_pow) in 0.0055255889892578125 sec\n"
     ]
    },
    {
     "data": {
      "application/vnd.jupyter.widget-view+json": {
       "model_id": "",
       "version_major": 2,
       "version_minor": 0
      },
      "text/plain": [
       "Loading to device:   0%|          | 0/1 [00:00<?, ?subject/s]"
      ]
     },
     "metadata": {},
     "output_type": "display_data"
    },
    {
     "data": {
      "application/vnd.jupyter.widget-view+json": {
       "model_id": "",
       "version_major": 2,
       "version_minor": 0
      },
      "text/plain": [
       "Embedding:   0%|          | 0/1 [00:00<?, ?subject/s]"
      ]
     },
     "metadata": {},
     "output_type": "display_data"
    },
    {
     "data": {
      "application/vnd.jupyter.widget-view+json": {
       "model_id": "",
       "version_major": 2,
       "version_minor": 0
      },
      "text/plain": [
       "  0%|          | 0.00/2016.02 [00:00<?, ?longitudinal-days/s]"
      ]
     },
     "metadata": {},
     "output_type": "display_data"
    },
    {
     "name": "stderr",
     "output_type": "stream",
     "text": [
      "WARNING:jax._src.dispatch:Finished tracing + transforming jit(concatenate) in 0.0001785755157470703 sec\n",
      "DEBUG:jax._src.interpreters.pxla:Compiling concatenate for with global shapes and types [ShapedArray(float32[16]), ShapedArray(float32[4])]. Argument mapping: (GSPMDSharding({replicated}), GSPMDSharding({replicated})).\n",
      "WARNING:jax._src.dispatch:Finished jaxpr to MLIR module conversion jit(concatenate) in 0.0012204647064208984 sec\n",
      "DEBUG:jax._src.xla_bridge:get_compile_options: num_replicas=1 num_partitions=1 device_assignment=[[CpuDevice(id=0)]]\n",
      "WARNING:jax._src.dispatch:Finished XLA compilation of jit(concatenate) in 0.004784822463989258 sec\n",
      "WARNING:jax._src.dispatch:Finished tracing + transforming jit(convert_element_type) in 0.0003848075866699219 sec\n",
      "WARNING:jax._src.dispatch:Finished tracing + transforming _reduce_sum for pjit in 0.0004093647003173828 sec\n",
      "WARNING:jax._src.dispatch:Finished tracing + transforming _broadcast_arrays for pjit in 0.00031304359436035156 sec\n",
      "WARNING:jax._src.dispatch:Finished tracing + transforming _where for pjit in 0.0013315677642822266 sec\n",
      "WARNING:jax._src.dispatch:Finished tracing + transforming _reduce_sum for pjit in 0.00032782554626464844 sec\n",
      "WARNING:jax._src.dispatch:Finished tracing + transforming nansum for pjit in 0.003032207489013672 sec\n",
      "WARNING:jax._src.dispatch:Finished tracing + transforming nanmean for pjit in 0.005091428756713867 sec\n",
      "DEBUG:jax._src.interpreters.pxla:Compiling nanmean for with global shapes and types [ShapedArray(float32[20])]. Argument mapping: (GSPMDSharding({replicated}),).\n",
      "WARNING:jax._src.dispatch:Finished jaxpr to MLIR module conversion jit(nanmean) in 0.0036017894744873047 sec\n",
      "DEBUG:jax._src.xla_bridge:get_compile_options: num_replicas=1 num_partitions=1 device_assignment=[[CpuDevice(id=0)]]\n",
      "WARNING:jax._src.dispatch:Finished XLA compilation of jit(nanmean) in 0.011966943740844727 sec\n",
      "DEBUG:jax._src.interpreters.pxla:Compiling nanmean for with global shapes and types [ShapedArray(bool[20]), ShapedArray(float32[]), ShapedArray(float32[])]. Argument mapping: (GSPMDSharding({replicated}), GSPMDSharding({replicated}), GSPMDSharding({replicated})).\n",
      "WARNING:jax._src.dispatch:Finished jaxpr to MLIR module conversion jit(nanmean) in 0.0025200843811035156 sec\n",
      "DEBUG:jax._src.xla_bridge:get_compile_options: num_replicas=1 num_partitions=1 device_assignment=[[CpuDevice(id=0)]]\n",
      "WARNING:jax._src.dispatch:Finished XLA compilation of jit(nanmean) in 0.007095813751220703 sec\n",
      "WARNING:jax._src.dispatch:Finished tracing + transforming jit(slice) in 0.00018739700317382812 sec\n",
      "DEBUG:jax._src.interpreters.pxla:Compiling slice for with global shapes and types [ShapedArray(float32[20])]. Argument mapping: (GSPMDSharding({replicated}),).\n",
      "WARNING:jax._src.dispatch:Finished jaxpr to MLIR module conversion jit(slice) in 0.0012025833129882812 sec\n",
      "DEBUG:jax._src.xla_bridge:get_compile_options: num_replicas=1 num_partitions=1 device_assignment=[[CpuDevice(id=0)]]\n",
      "WARNING:jax._src.dispatch:Finished XLA compilation of jit(slice) in 0.004793882369995117 sec\n",
      "WARNING:jax._src.dispatch:Finished tracing + transforming jit(slice) in 0.00020051002502441406 sec\n",
      "DEBUG:jax._src.interpreters.pxla:Compiling slice for with global shapes and types [ShapedArray(float32[20])]. Argument mapping: (GSPMDSharding({replicated}),).\n",
      "WARNING:jax._src.dispatch:Finished jaxpr to MLIR module conversion jit(slice) in 0.0013196468353271484 sec\n",
      "DEBUG:jax._src.xla_bridge:get_compile_options: num_replicas=1 num_partitions=1 device_assignment=[[CpuDevice(id=0)]]\n",
      "WARNING:jax._src.dispatch:Finished XLA compilation of jit(slice) in 0.004488468170166016 sec\n",
      "WARNING:jax._src.dispatch:Finished tracing + transforming jit(integer_pow) in 0.0001971721649169922 sec\n",
      "DEBUG:jax._src.interpreters.pxla:Compiling integer_pow for with global shapes and types [ShapedArray(float32[])]. Argument mapping: (GSPMDSharding({replicated}),).\n",
      "WARNING:jax._src.dispatch:Finished jaxpr to MLIR module conversion jit(integer_pow) in 0.002242565155029297 sec\n",
      "DEBUG:jax._src.xla_bridge:get_compile_options: num_replicas=1 num_partitions=1 device_assignment=[[CpuDevice(id=0)]]\n",
      "WARNING:jax._src.dispatch:Finished XLA compilation of jit(integer_pow) in 0.005820751190185547 sec\n"
     ]
    },
    {
     "data": {
      "application/vnd.jupyter.widget-view+json": {
       "model_id": "",
       "version_major": 2,
       "version_minor": 0
      },
      "text/plain": [
       "Loading to device:   0%|          | 0/3 [00:00<?, ?subject/s]"
      ]
     },
     "metadata": {},
     "output_type": "display_data"
    },
    {
     "data": {
      "application/vnd.jupyter.widget-view+json": {
       "model_id": "",
       "version_major": 2,
       "version_minor": 0
      },
      "text/plain": [
       "Embedding:   0%|          | 0/3 [00:00<?, ?subject/s]"
      ]
     },
     "metadata": {},
     "output_type": "display_data"
    },
    {
     "data": {
      "application/vnd.jupyter.widget-view+json": {
       "model_id": "",
       "version_major": 2,
       "version_minor": 0
      },
      "text/plain": [
       "  0%|          | 0.00/4970.67 [00:00<?, ?longitudinal-days/s]"
      ]
     },
     "metadata": {},
     "output_type": "display_data"
    },
    {
     "name": "stderr",
     "output_type": "stream",
     "text": [
      "WARNING:jax._src.dispatch:Finished tracing + transforming jit(integer_pow) in 0.0001938343048095703 sec\n",
      "DEBUG:jax._src.interpreters.pxla:Compiling integer_pow for with global shapes and types [ShapedArray(float32[])]. Argument mapping: (GSPMDSharding({replicated}),).\n",
      "WARNING:jax._src.dispatch:Finished jaxpr to MLIR module conversion jit(integer_pow) in 0.0022640228271484375 sec\n",
      "DEBUG:jax._src.xla_bridge:get_compile_options: num_replicas=1 num_partitions=1 device_assignment=[[CpuDevice(id=0)]]\n",
      "WARNING:jax._src.dispatch:Finished XLA compilation of jit(integer_pow) in 0.005747318267822266 sec\n"
     ]
    },
    {
     "data": {
      "application/vnd.jupyter.widget-view+json": {
       "model_id": "",
       "version_major": 2,
       "version_minor": 0
      },
      "text/plain": [
       "Loading to device:   0%|          | 0/1 [00:00<?, ?subject/s]"
      ]
     },
     "metadata": {},
     "output_type": "display_data"
    },
    {
     "data": {
      "application/vnd.jupyter.widget-view+json": {
       "model_id": "",
       "version_major": 2,
       "version_minor": 0
      },
      "text/plain": [
       "Embedding:   0%|          | 0/1 [00:00<?, ?subject/s]"
      ]
     },
     "metadata": {},
     "output_type": "display_data"
    },
    {
     "data": {
      "application/vnd.jupyter.widget-view+json": {
       "model_id": "",
       "version_major": 2,
       "version_minor": 0
      },
      "text/plain": [
       "  0%|          | 0.00/3202.06 [00:00<?, ?longitudinal-days/s]"
      ]
     },
     "metadata": {},
     "output_type": "display_data"
    },
    {
     "name": "stderr",
     "output_type": "stream",
     "text": [
      "WARNING:jax._src.dispatch:Finished tracing + transforming jit(concatenate) in 0.0003459453582763672 sec\n",
      "DEBUG:jax._src.interpreters.pxla:Compiling concatenate for with global shapes and types [ShapedArray(float32[1]), ShapedArray(float32[1]), ShapedArray(float32[1]), ShapedArray(float32[1]), ShapedArray(float32[1]), ShapedArray(float32[1]), ShapedArray(float32[1]), ShapedArray(float32[1]), ShapedArray(float32[1]), ShapedArray(float32[1]), ShapedArray(float32[1]), ShapedArray(float32[1])]. Argument mapping: (GSPMDSharding({replicated}), GSPMDSharding({replicated}), GSPMDSharding({replicated}), GSPMDSharding({replicated}), GSPMDSharding({replicated}), GSPMDSharding({replicated}), GSPMDSharding({replicated}), GSPMDSharding({replicated}), GSPMDSharding({replicated}), GSPMDSharding({replicated}), GSPMDSharding({replicated}), GSPMDSharding({replicated})).\n",
      "WARNING:jax._src.dispatch:Finished jaxpr to MLIR module conversion jit(concatenate) in 0.0015499591827392578 sec\n",
      "DEBUG:jax._src.xla_bridge:get_compile_options: num_replicas=1 num_partitions=1 device_assignment=[[CpuDevice(id=0)]]\n",
      "WARNING:jax._src.dispatch:Finished XLA compilation of jit(concatenate) in 0.006963968276977539 sec\n",
      "WARNING:jax._src.dispatch:Finished tracing + transforming jit(convert_element_type) in 0.00048732757568359375 sec\n",
      "WARNING:jax._src.dispatch:Finished tracing + transforming _reduce_sum for pjit in 0.0004317760467529297 sec\n",
      "WARNING:jax._src.dispatch:Finished tracing + transforming _broadcast_arrays for pjit in 0.0003247261047363281 sec\n",
      "WARNING:jax._src.dispatch:Finished tracing + transforming _where for pjit in 0.0012500286102294922 sec\n",
      "WARNING:jax._src.dispatch:Finished tracing + transforming _reduce_sum for pjit in 0.00034737586975097656 sec\n",
      "WARNING:jax._src.dispatch:Finished tracing + transforming nansum for pjit in 0.0030739307403564453 sec\n",
      "WARNING:jax._src.dispatch:Finished tracing + transforming nanmean for pjit in 0.005267143249511719 sec\n",
      "DEBUG:jax._src.interpreters.pxla:Compiling nanmean for with global shapes and types [ShapedArray(float32[12])]. Argument mapping: (GSPMDSharding({replicated}),).\n",
      "WARNING:jax._src.dispatch:Finished jaxpr to MLIR module conversion jit(nanmean) in 0.0038535594940185547 sec\n",
      "DEBUG:jax._src.xla_bridge:get_compile_options: num_replicas=1 num_partitions=1 device_assignment=[[CpuDevice(id=0)]]\n",
      "WARNING:jax._src.dispatch:Finished XLA compilation of jit(nanmean) in 0.015904903411865234 sec\n",
      "DEBUG:jax._src.interpreters.pxla:Compiling nanmean for with global shapes and types [ShapedArray(bool[12]), ShapedArray(float32[]), ShapedArray(float32[])]. Argument mapping: (GSPMDSharding({replicated}), GSPMDSharding({replicated}), GSPMDSharding({replicated})).\n",
      "WARNING:jax._src.dispatch:Finished jaxpr to MLIR module conversion jit(nanmean) in 0.0025835037231445312 sec\n",
      "DEBUG:jax._src.xla_bridge:get_compile_options: num_replicas=1 num_partitions=1 device_assignment=[[CpuDevice(id=0)]]\n",
      "WARNING:jax._src.dispatch:Finished XLA compilation of jit(nanmean) in 0.007197856903076172 sec\n",
      "WARNING:jax._src.dispatch:Finished tracing + transforming jit(slice) in 0.0002071857452392578 sec\n",
      "DEBUG:jax._src.interpreters.pxla:Compiling slice for with global shapes and types [ShapedArray(float32[12])]. Argument mapping: (GSPMDSharding({replicated}),).\n",
      "WARNING:jax._src.dispatch:Finished jaxpr to MLIR module conversion jit(slice) in 0.0012917518615722656 sec\n",
      "DEBUG:jax._src.xla_bridge:get_compile_options: num_replicas=1 num_partitions=1 device_assignment=[[CpuDevice(id=0)]]\n",
      "WARNING:jax._src.dispatch:Finished XLA compilation of jit(slice) in 0.0046231746673583984 sec\n",
      "WARNING:jax._src.dispatch:Finished tracing + transforming jit(slice) in 0.00021123886108398438 sec\n",
      "DEBUG:jax._src.interpreters.pxla:Compiling slice for with global shapes and types [ShapedArray(float32[12])]. Argument mapping: (GSPMDSharding({replicated}),).\n",
      "WARNING:jax._src.dispatch:Finished jaxpr to MLIR module conversion jit(slice) in 0.0015993118286132812 sec\n",
      "DEBUG:jax._src.xla_bridge:get_compile_options: num_replicas=1 num_partitions=1 device_assignment=[[CpuDevice(id=0)]]\n",
      "WARNING:jax._src.dispatch:Finished XLA compilation of jit(slice) in 0.00455784797668457 sec\n",
      "WARNING:jax._src.dispatch:Finished tracing + transforming jit(slice) in 0.00019979476928710938 sec\n",
      "DEBUG:jax._src.interpreters.pxla:Compiling slice for with global shapes and types [ShapedArray(float32[12])]. Argument mapping: (GSPMDSharding({replicated}),).\n",
      "WARNING:jax._src.dispatch:Finished jaxpr to MLIR module conversion jit(slice) in 0.0013039112091064453 sec\n",
      "DEBUG:jax._src.xla_bridge:get_compile_options: num_replicas=1 num_partitions=1 device_assignment=[[CpuDevice(id=0)]]\n",
      "WARNING:jax._src.dispatch:Finished XLA compilation of jit(slice) in 0.004710197448730469 sec\n",
      "WARNING:jax._src.dispatch:Finished tracing + transforming jit(slice) in 0.0002048015594482422 sec\n",
      "DEBUG:jax._src.interpreters.pxla:Compiling slice for with global shapes and types [ShapedArray(float32[12])]. Argument mapping: (GSPMDSharding({replicated}),).\n",
      "WARNING:jax._src.dispatch:Finished jaxpr to MLIR module conversion jit(slice) in 0.0013654232025146484 sec\n",
      "DEBUG:jax._src.xla_bridge:get_compile_options: num_replicas=1 num_partitions=1 device_assignment=[[CpuDevice(id=0)]]\n",
      "WARNING:jax._src.dispatch:Finished XLA compilation of jit(slice) in 0.004523038864135742 sec\n",
      "WARNING:jax._src.dispatch:Finished tracing + transforming jit(slice) in 0.00020051002502441406 sec\n",
      "DEBUG:jax._src.interpreters.pxla:Compiling slice for with global shapes and types [ShapedArray(float32[12])]. Argument mapping: (GSPMDSharding({replicated}),).\n",
      "WARNING:jax._src.dispatch:Finished jaxpr to MLIR module conversion jit(slice) in 0.0013453960418701172 sec\n",
      "DEBUG:jax._src.xla_bridge:get_compile_options: num_replicas=1 num_partitions=1 device_assignment=[[CpuDevice(id=0)]]\n",
      "WARNING:jax._src.dispatch:Finished XLA compilation of jit(slice) in 0.004811525344848633 sec\n",
      "WARNING:jax._src.dispatch:Finished tracing + transforming jit(slice) in 0.00020551681518554688 sec\n",
      "DEBUG:jax._src.interpreters.pxla:Compiling slice for with global shapes and types [ShapedArray(float32[12])]. Argument mapping: (GSPMDSharding({replicated}),).\n",
      "WARNING:jax._src.dispatch:Finished jaxpr to MLIR module conversion jit(slice) in 0.0014455318450927734 sec\n",
      "DEBUG:jax._src.xla_bridge:get_compile_options: num_replicas=1 num_partitions=1 device_assignment=[[CpuDevice(id=0)]]\n",
      "WARNING:jax._src.dispatch:Finished XLA compilation of jit(slice) in 0.004712581634521484 sec\n",
      "WARNING:jax._src.dispatch:Finished tracing + transforming jit(slice) in 0.0002009868621826172 sec\n",
      "DEBUG:jax._src.interpreters.pxla:Compiling slice for with global shapes and types [ShapedArray(float32[12])]. Argument mapping: (GSPMDSharding({replicated}),).\n",
      "WARNING:jax._src.dispatch:Finished jaxpr to MLIR module conversion jit(slice) in 0.0013549327850341797 sec\n",
      "DEBUG:jax._src.xla_bridge:get_compile_options: num_replicas=1 num_partitions=1 device_assignment=[[CpuDevice(id=0)]]\n",
      "WARNING:jax._src.dispatch:Finished XLA compilation of jit(slice) in 0.005086183547973633 sec\n",
      "WARNING:jax._src.dispatch:Finished tracing + transforming jit(slice) in 0.00020122528076171875 sec\n",
      "DEBUG:jax._src.interpreters.pxla:Compiling slice for with global shapes and types [ShapedArray(float32[12])]. Argument mapping: (GSPMDSharding({replicated}),).\n",
      "WARNING:jax._src.dispatch:Finished jaxpr to MLIR module conversion jit(slice) in 0.0014300346374511719 sec\n",
      "DEBUG:jax._src.xla_bridge:get_compile_options: num_replicas=1 num_partitions=1 device_assignment=[[CpuDevice(id=0)]]\n",
      "WARNING:jax._src.dispatch:Finished XLA compilation of jit(slice) in 0.0046808719635009766 sec\n",
      "WARNING:jax._src.dispatch:Finished tracing + transforming jit(slice) in 0.0002014636993408203 sec\n",
      "DEBUG:jax._src.interpreters.pxla:Compiling slice for with global shapes and types [ShapedArray(float32[12])]. Argument mapping: (GSPMDSharding({replicated}),).\n",
      "WARNING:jax._src.dispatch:Finished jaxpr to MLIR module conversion jit(slice) in 0.0014011859893798828 sec\n",
      "DEBUG:jax._src.xla_bridge:get_compile_options: num_replicas=1 num_partitions=1 device_assignment=[[CpuDevice(id=0)]]\n",
      "WARNING:jax._src.dispatch:Finished XLA compilation of jit(slice) in 0.0047419071197509766 sec\n"
     ]
    },
    {
     "name": "stderr",
     "output_type": "stream",
     "text": [
      "WARNING:jax._src.dispatch:Finished tracing + transforming jit(slice) in 0.00020813941955566406 sec\n",
      "DEBUG:jax._src.interpreters.pxla:Compiling slice for with global shapes and types [ShapedArray(float32[12])]. Argument mapping: (GSPMDSharding({replicated}),).\n",
      "WARNING:jax._src.dispatch:Finished jaxpr to MLIR module conversion jit(slice) in 0.0013911724090576172 sec\n",
      "DEBUG:jax._src.xla_bridge:get_compile_options: num_replicas=1 num_partitions=1 device_assignment=[[CpuDevice(id=0)]]\n",
      "WARNING:jax._src.dispatch:Finished XLA compilation of jit(slice) in 0.005392789840698242 sec\n",
      "WARNING:jax._src.dispatch:Finished tracing + transforming jit(slice) in 0.00025081634521484375 sec\n",
      "DEBUG:jax._src.interpreters.pxla:Compiling slice for with global shapes and types [ShapedArray(float32[12])]. Argument mapping: (GSPMDSharding({replicated}),).\n",
      "WARNING:jax._src.dispatch:Finished jaxpr to MLIR module conversion jit(slice) in 0.0013723373413085938 sec\n",
      "DEBUG:jax._src.xla_bridge:get_compile_options: num_replicas=1 num_partitions=1 device_assignment=[[CpuDevice(id=0)]]\n",
      "WARNING:jax._src.dispatch:Finished XLA compilation of jit(slice) in 0.004766702651977539 sec\n",
      "WARNING:jax._src.dispatch:Finished tracing + transforming jit(slice) in 0.0009565353393554688 sec\n",
      "DEBUG:jax._src.interpreters.pxla:Compiling slice for with global shapes and types [ShapedArray(float32[12])]. Argument mapping: (GSPMDSharding({replicated}),).\n",
      "WARNING:jax._src.dispatch:Finished jaxpr to MLIR module conversion jit(slice) in 0.0014395713806152344 sec\n",
      "DEBUG:jax._src.xla_bridge:get_compile_options: num_replicas=1 num_partitions=1 device_assignment=[[CpuDevice(id=0)]]\n",
      "WARNING:jax._src.dispatch:Finished XLA compilation of jit(slice) in 0.004793882369995117 sec\n",
      "WARNING:jax._src.dispatch:Finished tracing + transforming jit(integer_pow) in 0.00019741058349609375 sec\n",
      "DEBUG:jax._src.interpreters.pxla:Compiling integer_pow for with global shapes and types [ShapedArray(float32[])]. Argument mapping: (GSPMDSharding({replicated}),).\n",
      "WARNING:jax._src.dispatch:Finished jaxpr to MLIR module conversion jit(integer_pow) in 0.00249481201171875 sec\n",
      "DEBUG:jax._src.xla_bridge:get_compile_options: num_replicas=1 num_partitions=1 device_assignment=[[CpuDevice(id=0)]]\n",
      "WARNING:jax._src.dispatch:Finished XLA compilation of jit(integer_pow) in 0.006058931350708008 sec\n"
     ]
    },
    {
     "data": {
      "application/vnd.jupyter.widget-view+json": {
       "model_id": "",
       "version_major": 2,
       "version_minor": 0
      },
      "text/plain": [
       "Loading to device:   0%|          | 0/4 [00:00<?, ?subject/s]"
      ]
     },
     "metadata": {},
     "output_type": "display_data"
    },
    {
     "data": {
      "application/vnd.jupyter.widget-view+json": {
       "model_id": "",
       "version_major": 2,
       "version_minor": 0
      },
      "text/plain": [
       "Embedding:   0%|          | 0/4 [00:00<?, ?subject/s]"
      ]
     },
     "metadata": {},
     "output_type": "display_data"
    },
    {
     "data": {
      "application/vnd.jupyter.widget-view+json": {
       "model_id": "",
       "version_major": 2,
       "version_minor": 0
      },
      "text/plain": [
       "  0%|          | 0.00/5691.20 [00:00<?, ?longitudinal-days/s]"
      ]
     },
     "metadata": {},
     "output_type": "display_data"
    },
    {
     "name": "stderr",
     "output_type": "stream",
     "text": [
      "WARNING:jax._src.dispatch:Finished tracing + transforming jit(integer_pow) in 0.00019502639770507812 sec\n",
      "DEBUG:jax._src.interpreters.pxla:Compiling integer_pow for with global shapes and types [ShapedArray(float32[])]. Argument mapping: (GSPMDSharding({replicated}),).\n",
      "WARNING:jax._src.dispatch:Finished jaxpr to MLIR module conversion jit(integer_pow) in 0.0022606849670410156 sec\n",
      "DEBUG:jax._src.xla_bridge:get_compile_options: num_replicas=1 num_partitions=1 device_assignment=[[CpuDevice(id=0)]]\n",
      "WARNING:jax._src.dispatch:Finished XLA compilation of jit(integer_pow) in 0.0055484771728515625 sec\n"
     ]
    },
    {
     "data": {
      "application/vnd.jupyter.widget-view+json": {
       "model_id": "",
       "version_major": 2,
       "version_minor": 0
      },
      "text/plain": [
       "Loading to device:   0%|          | 0/3 [00:00<?, ?subject/s]"
      ]
     },
     "metadata": {},
     "output_type": "display_data"
    },
    {
     "data": {
      "application/vnd.jupyter.widget-view+json": {
       "model_id": "",
       "version_major": 2,
       "version_minor": 0
      },
      "text/plain": [
       "Embedding:   0%|          | 0/3 [00:00<?, ?subject/s]"
      ]
     },
     "metadata": {},
     "output_type": "display_data"
    },
    {
     "data": {
      "application/vnd.jupyter.widget-view+json": {
       "model_id": "",
       "version_major": 2,
       "version_minor": 0
      },
      "text/plain": [
       "  0%|          | 0.00/5763.47 [00:00<?, ?longitudinal-days/s]"
      ]
     },
     "metadata": {},
     "output_type": "display_data"
    },
    {
     "name": "stderr",
     "output_type": "stream",
     "text": [
      "WARNING:jax._src.dispatch:Finished tracing + transforming jit(integer_pow) in 0.00020813941955566406 sec\n",
      "DEBUG:jax._src.interpreters.pxla:Compiling integer_pow for with global shapes and types [ShapedArray(float32[])]. Argument mapping: (GSPMDSharding({replicated}),).\n",
      "WARNING:jax._src.dispatch:Finished jaxpr to MLIR module conversion jit(integer_pow) in 0.0024814605712890625 sec\n",
      "DEBUG:jax._src.xla_bridge:get_compile_options: num_replicas=1 num_partitions=1 device_assignment=[[CpuDevice(id=0)]]\n",
      "WARNING:jax._src.dispatch:Finished XLA compilation of jit(integer_pow) in 0.006117105484008789 sec\n"
     ]
    },
    {
     "data": {
      "application/vnd.jupyter.widget-view+json": {
       "model_id": "",
       "version_major": 2,
       "version_minor": 0
      },
      "text/plain": [
       "Loading to device:   0%|          | 0/1 [00:00<?, ?subject/s]"
      ]
     },
     "metadata": {},
     "output_type": "display_data"
    },
    {
     "data": {
      "application/vnd.jupyter.widget-view+json": {
       "model_id": "",
       "version_major": 2,
       "version_minor": 0
      },
      "text/plain": [
       "Embedding:   0%|          | 0/1 [00:00<?, ?subject/s]"
      ]
     },
     "metadata": {},
     "output_type": "display_data"
    },
    {
     "data": {
      "application/vnd.jupyter.widget-view+json": {
       "model_id": "",
       "version_major": 2,
       "version_minor": 0
      },
      "text/plain": [
       "  0%|          | 0.00/367.93 [00:00<?, ?longitudinal-days/s]"
      ]
     },
     "metadata": {},
     "output_type": "display_data"
    },
    {
     "name": "stderr",
     "output_type": "stream",
     "text": [
      "WARNING:jax._src.dispatch:Finished tracing + transforming jit(concatenate) in 0.0002598762512207031 sec\n",
      "DEBUG:jax._src.interpreters.pxla:Compiling concatenate for with global shapes and types [ShapedArray(float32[1]), ShapedArray(float32[1]), ShapedArray(float32[1]), ShapedArray(float32[1]), ShapedArray(float32[1]), ShapedArray(float32[1]), ShapedArray(float32[1]), ShapedArray(float32[1]), ShapedArray(float32[1])]. Argument mapping: (GSPMDSharding({replicated}), GSPMDSharding({replicated}), GSPMDSharding({replicated}), GSPMDSharding({replicated}), GSPMDSharding({replicated}), GSPMDSharding({replicated}), GSPMDSharding({replicated}), GSPMDSharding({replicated}), GSPMDSharding({replicated})).\n",
      "WARNING:jax._src.dispatch:Finished jaxpr to MLIR module conversion jit(concatenate) in 0.0017859935760498047 sec\n",
      "DEBUG:jax._src.xla_bridge:get_compile_options: num_replicas=1 num_partitions=1 device_assignment=[[CpuDevice(id=0)]]\n",
      "WARNING:jax._src.dispatch:Finished XLA compilation of jit(concatenate) in 0.006318092346191406 sec\n",
      "WARNING:jax._src.dispatch:Finished tracing + transforming jit(convert_element_type) in 0.00045680999755859375 sec\n",
      "WARNING:jax._src.dispatch:Finished tracing + transforming _reduce_sum for pjit in 0.0005445480346679688 sec\n",
      "WARNING:jax._src.dispatch:Finished tracing + transforming _broadcast_arrays for pjit in 0.0006017684936523438 sec\n",
      "WARNING:jax._src.dispatch:Finished tracing + transforming _where for pjit in 0.0016384124755859375 sec\n",
      "WARNING:jax._src.dispatch:Finished tracing + transforming _reduce_sum for pjit in 0.00039696693420410156 sec\n",
      "WARNING:jax._src.dispatch:Finished tracing + transforming nansum for pjit in 0.0036590099334716797 sec\n",
      "WARNING:jax._src.dispatch:Finished tracing + transforming nanmean for pjit in 0.00640416145324707 sec\n",
      "DEBUG:jax._src.interpreters.pxla:Compiling nanmean for with global shapes and types [ShapedArray(float32[9])]. Argument mapping: (GSPMDSharding({replicated}),).\n",
      "WARNING:jax._src.dispatch:Finished jaxpr to MLIR module conversion jit(nanmean) in 0.0035202503204345703 sec\n",
      "DEBUG:jax._src.xla_bridge:get_compile_options: num_replicas=1 num_partitions=1 device_assignment=[[CpuDevice(id=0)]]\n",
      "WARNING:jax._src.dispatch:Finished XLA compilation of jit(nanmean) in 0.01626110076904297 sec\n",
      "DEBUG:jax._src.interpreters.pxla:Compiling nanmean for with global shapes and types [ShapedArray(bool[9]), ShapedArray(float32[]), ShapedArray(float32[])]. Argument mapping: (GSPMDSharding({replicated}), GSPMDSharding({replicated}), GSPMDSharding({replicated})).\n",
      "WARNING:jax._src.dispatch:Finished jaxpr to MLIR module conversion jit(nanmean) in 0.0026276111602783203 sec\n",
      "DEBUG:jax._src.xla_bridge:get_compile_options: num_replicas=1 num_partitions=1 device_assignment=[[CpuDevice(id=0)]]\n",
      "WARNING:jax._src.dispatch:Finished XLA compilation of jit(nanmean) in 0.008049488067626953 sec\n",
      "WARNING:jax._src.dispatch:Finished tracing + transforming jit(slice) in 0.00019669532775878906 sec\n",
      "DEBUG:jax._src.interpreters.pxla:Compiling slice for with global shapes and types [ShapedArray(float32[9])]. Argument mapping: (GSPMDSharding({replicated}),).\n",
      "WARNING:jax._src.dispatch:Finished jaxpr to MLIR module conversion jit(slice) in 0.0014767646789550781 sec\n",
      "DEBUG:jax._src.xla_bridge:get_compile_options: num_replicas=1 num_partitions=1 device_assignment=[[CpuDevice(id=0)]]\n",
      "WARNING:jax._src.dispatch:Finished XLA compilation of jit(slice) in 0.0046846866607666016 sec\n",
      "WARNING:jax._src.dispatch:Finished tracing + transforming jit(slice) in 0.000209808349609375 sec\n",
      "DEBUG:jax._src.interpreters.pxla:Compiling slice for with global shapes and types [ShapedArray(float32[9])]. Argument mapping: (GSPMDSharding({replicated}),).\n",
      "WARNING:jax._src.dispatch:Finished jaxpr to MLIR module conversion jit(slice) in 0.0018324851989746094 sec\n",
      "DEBUG:jax._src.xla_bridge:get_compile_options: num_replicas=1 num_partitions=1 device_assignment=[[CpuDevice(id=0)]]\n",
      "WARNING:jax._src.dispatch:Finished XLA compilation of jit(slice) in 0.00547027587890625 sec\n",
      "WARNING:jax._src.dispatch:Finished tracing + transforming jit(slice) in 0.00020956993103027344 sec\n",
      "DEBUG:jax._src.interpreters.pxla:Compiling slice for with global shapes and types [ShapedArray(float32[9])]. Argument mapping: (GSPMDSharding({replicated}),).\n",
      "WARNING:jax._src.dispatch:Finished jaxpr to MLIR module conversion jit(slice) in 0.0014367103576660156 sec\n",
      "DEBUG:jax._src.xla_bridge:get_compile_options: num_replicas=1 num_partitions=1 device_assignment=[[CpuDevice(id=0)]]\n",
      "WARNING:jax._src.dispatch:Finished XLA compilation of jit(slice) in 0.004507780075073242 sec\n",
      "WARNING:jax._src.dispatch:Finished tracing + transforming jit(slice) in 0.0002067089080810547 sec\n",
      "DEBUG:jax._src.interpreters.pxla:Compiling slice for with global shapes and types [ShapedArray(float32[9])]. Argument mapping: (GSPMDSharding({replicated}),).\n",
      "WARNING:jax._src.dispatch:Finished jaxpr to MLIR module conversion jit(slice) in 0.0014505386352539062 sec\n",
      "DEBUG:jax._src.xla_bridge:get_compile_options: num_replicas=1 num_partitions=1 device_assignment=[[CpuDevice(id=0)]]\n",
      "WARNING:jax._src.dispatch:Finished XLA compilation of jit(slice) in 0.004826068878173828 sec\n",
      "WARNING:jax._src.dispatch:Finished tracing + transforming jit(slice) in 0.00020742416381835938 sec\n",
      "DEBUG:jax._src.interpreters.pxla:Compiling slice for with global shapes and types [ShapedArray(float32[9])]. Argument mapping: (GSPMDSharding({replicated}),).\n",
      "WARNING:jax._src.dispatch:Finished jaxpr to MLIR module conversion jit(slice) in 0.0014002323150634766 sec\n",
      "DEBUG:jax._src.xla_bridge:get_compile_options: num_replicas=1 num_partitions=1 device_assignment=[[CpuDevice(id=0)]]\n",
      "WARNING:jax._src.dispatch:Finished XLA compilation of jit(slice) in 0.0045490264892578125 sec\n",
      "WARNING:jax._src.dispatch:Finished tracing + transforming jit(slice) in 0.00020122528076171875 sec\n",
      "DEBUG:jax._src.interpreters.pxla:Compiling slice for with global shapes and types [ShapedArray(float32[9])]. Argument mapping: (GSPMDSharding({replicated}),).\n",
      "WARNING:jax._src.dispatch:Finished jaxpr to MLIR module conversion jit(slice) in 0.0015001296997070312 sec\n",
      "DEBUG:jax._src.xla_bridge:get_compile_options: num_replicas=1 num_partitions=1 device_assignment=[[CpuDevice(id=0)]]\n",
      "WARNING:jax._src.dispatch:Finished XLA compilation of jit(slice) in 0.004926919937133789 sec\n",
      "WARNING:jax._src.dispatch:Finished tracing + transforming jit(slice) in 0.0002002716064453125 sec\n",
      "DEBUG:jax._src.interpreters.pxla:Compiling slice for with global shapes and types [ShapedArray(float32[9])]. Argument mapping: (GSPMDSharding({replicated}),).\n",
      "WARNING:jax._src.dispatch:Finished jaxpr to MLIR module conversion jit(slice) in 0.0014770030975341797 sec\n",
      "DEBUG:jax._src.xla_bridge:get_compile_options: num_replicas=1 num_partitions=1 device_assignment=[[CpuDevice(id=0)]]\n",
      "WARNING:jax._src.dispatch:Finished XLA compilation of jit(slice) in 0.004605770111083984 sec\n",
      "WARNING:jax._src.dispatch:Finished tracing + transforming jit(slice) in 0.00020956993103027344 sec\n",
      "DEBUG:jax._src.interpreters.pxla:Compiling slice for with global shapes and types [ShapedArray(float32[9])]. Argument mapping: (GSPMDSharding({replicated}),).\n",
      "WARNING:jax._src.dispatch:Finished jaxpr to MLIR module conversion jit(slice) in 0.0014336109161376953 sec\n",
      "DEBUG:jax._src.xla_bridge:get_compile_options: num_replicas=1 num_partitions=1 device_assignment=[[CpuDevice(id=0)]]\n",
      "WARNING:jax._src.dispatch:Finished XLA compilation of jit(slice) in 0.006710529327392578 sec\n",
      "WARNING:jax._src.dispatch:Finished tracing + transforming jit(slice) in 0.0003058910369873047 sec\n",
      "DEBUG:jax._src.interpreters.pxla:Compiling slice for with global shapes and types [ShapedArray(float32[9])]. Argument mapping: (GSPMDSharding({replicated}),).\n",
      "WARNING:jax._src.dispatch:Finished jaxpr to MLIR module conversion jit(slice) in 0.0021584033966064453 sec\n",
      "DEBUG:jax._src.xla_bridge:get_compile_options: num_replicas=1 num_partitions=1 device_assignment=[[CpuDevice(id=0)]]\n",
      "WARNING:jax._src.dispatch:Finished XLA compilation of jit(slice) in 0.007173776626586914 sec\n",
      "WARNING:jax._src.dispatch:Finished tracing + transforming jit(integer_pow) in 0.00020003318786621094 sec\n",
      "DEBUG:jax._src.interpreters.pxla:Compiling integer_pow for with global shapes and types [ShapedArray(float32[])]. Argument mapping: (GSPMDSharding({replicated}),).\n"
     ]
    },
    {
     "name": "stderr",
     "output_type": "stream",
     "text": [
      "WARNING:jax._src.dispatch:Finished jaxpr to MLIR module conversion jit(integer_pow) in 0.002451658248901367 sec\n",
      "DEBUG:jax._src.xla_bridge:get_compile_options: num_replicas=1 num_partitions=1 device_assignment=[[CpuDevice(id=0)]]\n",
      "WARNING:jax._src.dispatch:Finished XLA compilation of jit(integer_pow) in 0.005768537521362305 sec\n"
     ]
    },
    {
     "data": {
      "application/vnd.jupyter.widget-view+json": {
       "model_id": "",
       "version_major": 2,
       "version_minor": 0
      },
      "text/plain": [
       "Loading to device:   0%|          | 0/1 [00:00<?, ?subject/s]"
      ]
     },
     "metadata": {},
     "output_type": "display_data"
    },
    {
     "data": {
      "application/vnd.jupyter.widget-view+json": {
       "model_id": "",
       "version_major": 2,
       "version_minor": 0
      },
      "text/plain": [
       "Embedding:   0%|          | 0/1 [00:00<?, ?subject/s]"
      ]
     },
     "metadata": {},
     "output_type": "display_data"
    },
    {
     "data": {
      "application/vnd.jupyter.widget-view+json": {
       "model_id": "",
       "version_major": 2,
       "version_minor": 0
      },
      "text/plain": [
       "  0%|          | 0.00/1994.31 [00:00<?, ?longitudinal-days/s]"
      ]
     },
     "metadata": {},
     "output_type": "display_data"
    },
    {
     "name": "stderr",
     "output_type": "stream",
     "text": [
      "WARNING:jax._src.dispatch:Finished tracing + transforming jit(concatenate) in 0.00023555755615234375 sec\n",
      "DEBUG:jax._src.interpreters.pxla:Compiling concatenate for with global shapes and types [ShapedArray(float32[16]), ShapedArray(float32[2])]. Argument mapping: (GSPMDSharding({replicated}), GSPMDSharding({replicated})).\n",
      "WARNING:jax._src.dispatch:Finished jaxpr to MLIR module conversion jit(concatenate) in 0.0015921592712402344 sec\n",
      "DEBUG:jax._src.xla_bridge:get_compile_options: num_replicas=1 num_partitions=1 device_assignment=[[CpuDevice(id=0)]]\n",
      "WARNING:jax._src.dispatch:Finished XLA compilation of jit(concatenate) in 0.00555109977722168 sec\n",
      "WARNING:jax._src.dispatch:Finished tracing + transforming jit(convert_element_type) in 0.00021123886108398438 sec\n",
      "WARNING:jax._src.dispatch:Finished tracing + transforming _reduce_sum for pjit in 0.00042128562927246094 sec\n",
      "WARNING:jax._src.dispatch:Finished tracing + transforming _broadcast_arrays for pjit in 0.0005714893341064453 sec\n",
      "WARNING:jax._src.dispatch:Finished tracing + transforming _where for pjit in 0.0017085075378417969 sec\n",
      "WARNING:jax._src.dispatch:Finished tracing + transforming _reduce_sum for pjit in 0.0004572868347167969 sec\n",
      "WARNING:jax._src.dispatch:Finished tracing + transforming nansum for pjit in 0.004106283187866211 sec\n",
      "WARNING:jax._src.dispatch:Finished tracing + transforming nanmean for pjit in 0.006635904312133789 sec\n",
      "DEBUG:jax._src.interpreters.pxla:Compiling nanmean for with global shapes and types [ShapedArray(float32[18])]. Argument mapping: (GSPMDSharding({replicated}),).\n",
      "WARNING:jax._src.dispatch:Finished jaxpr to MLIR module conversion jit(nanmean) in 0.0035238265991210938 sec\n",
      "DEBUG:jax._src.xla_bridge:get_compile_options: num_replicas=1 num_partitions=1 device_assignment=[[CpuDevice(id=0)]]\n",
      "WARNING:jax._src.dispatch:Finished XLA compilation of jit(nanmean) in 0.014185667037963867 sec\n",
      "DEBUG:jax._src.interpreters.pxla:Compiling nanmean for with global shapes and types [ShapedArray(bool[18]), ShapedArray(float32[]), ShapedArray(float32[])]. Argument mapping: (GSPMDSharding({replicated}), GSPMDSharding({replicated}), GSPMDSharding({replicated})).\n",
      "WARNING:jax._src.dispatch:Finished jaxpr to MLIR module conversion jit(nanmean) in 0.0025882720947265625 sec\n",
      "DEBUG:jax._src.xla_bridge:get_compile_options: num_replicas=1 num_partitions=1 device_assignment=[[CpuDevice(id=0)]]\n",
      "WARNING:jax._src.dispatch:Finished XLA compilation of jit(nanmean) in 0.008697032928466797 sec\n",
      "WARNING:jax._src.dispatch:Finished tracing + transforming jit(slice) in 0.0002963542938232422 sec\n",
      "DEBUG:jax._src.interpreters.pxla:Compiling slice for with global shapes and types [ShapedArray(float32[18])]. Argument mapping: (GSPMDSharding({replicated}),).\n",
      "WARNING:jax._src.dispatch:Finished jaxpr to MLIR module conversion jit(slice) in 0.0015714168548583984 sec\n",
      "DEBUG:jax._src.xla_bridge:get_compile_options: num_replicas=1 num_partitions=1 device_assignment=[[CpuDevice(id=0)]]\n",
      "WARNING:jax._src.dispatch:Finished XLA compilation of jit(slice) in 0.005330801010131836 sec\n",
      "WARNING:jax._src.dispatch:Finished tracing + transforming jit(slice) in 0.00029921531677246094 sec\n",
      "DEBUG:jax._src.interpreters.pxla:Compiling slice for with global shapes and types [ShapedArray(float32[18])]. Argument mapping: (GSPMDSharding({replicated}),).\n",
      "WARNING:jax._src.dispatch:Finished jaxpr to MLIR module conversion jit(slice) in 0.0016815662384033203 sec\n",
      "DEBUG:jax._src.xla_bridge:get_compile_options: num_replicas=1 num_partitions=1 device_assignment=[[CpuDevice(id=0)]]\n",
      "WARNING:jax._src.dispatch:Finished XLA compilation of jit(slice) in 0.005547523498535156 sec\n",
      "WARNING:jax._src.dispatch:Finished tracing + transforming jit(integer_pow) in 0.00021982192993164062 sec\n",
      "DEBUG:jax._src.interpreters.pxla:Compiling integer_pow for with global shapes and types [ShapedArray(float32[])]. Argument mapping: (GSPMDSharding({replicated}),).\n",
      "WARNING:jax._src.dispatch:Finished jaxpr to MLIR module conversion jit(integer_pow) in 0.0026912689208984375 sec\n",
      "DEBUG:jax._src.xla_bridge:get_compile_options: num_replicas=1 num_partitions=1 device_assignment=[[CpuDevice(id=0)]]\n",
      "WARNING:jax._src.dispatch:Finished XLA compilation of jit(integer_pow) in 0.0062258243560791016 sec\n"
     ]
    },
    {
     "data": {
      "application/vnd.jupyter.widget-view+json": {
       "model_id": "",
       "version_major": 2,
       "version_minor": 0
      },
      "text/plain": [
       "Loading to device:   0%|          | 0/3 [00:00<?, ?subject/s]"
      ]
     },
     "metadata": {},
     "output_type": "display_data"
    },
    {
     "data": {
      "application/vnd.jupyter.widget-view+json": {
       "model_id": "",
       "version_major": 2,
       "version_minor": 0
      },
      "text/plain": [
       "Embedding:   0%|          | 0/3 [00:00<?, ?subject/s]"
      ]
     },
     "metadata": {},
     "output_type": "display_data"
    },
    {
     "data": {
      "application/vnd.jupyter.widget-view+json": {
       "model_id": "",
       "version_major": 2,
       "version_minor": 0
      },
      "text/plain": [
       "  0%|          | 0.00/5550.54 [00:00<?, ?longitudinal-days/s]"
      ]
     },
     "metadata": {},
     "output_type": "display_data"
    },
    {
     "name": "stderr",
     "output_type": "stream",
     "text": [
      "WARNING:jax._src.dispatch:Finished tracing + transforming jit(integer_pow) in 0.0001888275146484375 sec\n",
      "DEBUG:jax._src.interpreters.pxla:Compiling integer_pow for with global shapes and types [ShapedArray(float32[])]. Argument mapping: (GSPMDSharding({replicated}),).\n",
      "WARNING:jax._src.dispatch:Finished jaxpr to MLIR module conversion jit(integer_pow) in 0.0025742053985595703 sec\n",
      "DEBUG:jax._src.xla_bridge:get_compile_options: num_replicas=1 num_partitions=1 device_assignment=[[CpuDevice(id=0)]]\n",
      "WARNING:jax._src.dispatch:Finished XLA compilation of jit(integer_pow) in 0.006154060363769531 sec\n"
     ]
    },
    {
     "data": {
      "application/vnd.jupyter.widget-view+json": {
       "model_id": "",
       "version_major": 2,
       "version_minor": 0
      },
      "text/plain": [
       "Loading to device:   0%|          | 0/3 [00:00<?, ?subject/s]"
      ]
     },
     "metadata": {},
     "output_type": "display_data"
    },
    {
     "data": {
      "application/vnd.jupyter.widget-view+json": {
       "model_id": "",
       "version_major": 2,
       "version_minor": 0
      },
      "text/plain": [
       "Embedding:   0%|          | 0/3 [00:00<?, ?subject/s]"
      ]
     },
     "metadata": {},
     "output_type": "display_data"
    },
    {
     "data": {
      "application/vnd.jupyter.widget-view+json": {
       "model_id": "",
       "version_major": 2,
       "version_minor": 0
      },
      "text/plain": [
       "  0%|          | 0.00/2242.85 [00:00<?, ?longitudinal-days/s]"
      ]
     },
     "metadata": {},
     "output_type": "display_data"
    },
    {
     "name": "stderr",
     "output_type": "stream",
     "text": [
      "WARNING:jax._src.dispatch:Finished tracing + transforming jit(integer_pow) in 0.00018835067749023438 sec\n",
      "DEBUG:jax._src.interpreters.pxla:Compiling integer_pow for with global shapes and types [ShapedArray(float32[])]. Argument mapping: (GSPMDSharding({replicated}),).\n",
      "WARNING:jax._src.dispatch:Finished jaxpr to MLIR module conversion jit(integer_pow) in 0.0024890899658203125 sec\n",
      "DEBUG:jax._src.xla_bridge:get_compile_options: num_replicas=1 num_partitions=1 device_assignment=[[CpuDevice(id=0)]]\n",
      "WARNING:jax._src.dispatch:Finished XLA compilation of jit(integer_pow) in 0.0055999755859375 sec\n"
     ]
    },
    {
     "data": {
      "application/vnd.jupyter.widget-view+json": {
       "model_id": "",
       "version_major": 2,
       "version_minor": 0
      },
      "text/plain": [
       "Loading to device:   0%|          | 0/2 [00:00<?, ?subject/s]"
      ]
     },
     "metadata": {},
     "output_type": "display_data"
    },
    {
     "data": {
      "application/vnd.jupyter.widget-view+json": {
       "model_id": "",
       "version_major": 2,
       "version_minor": 0
      },
      "text/plain": [
       "Embedding:   0%|          | 0/2 [00:00<?, ?subject/s]"
      ]
     },
     "metadata": {},
     "output_type": "display_data"
    },
    {
     "data": {
      "application/vnd.jupyter.widget-view+json": {
       "model_id": "",
       "version_major": 2,
       "version_minor": 0
      },
      "text/plain": [
       "  0%|          | 0.00/4661.96 [00:00<?, ?longitudinal-days/s]"
      ]
     },
     "metadata": {},
     "output_type": "display_data"
    },
    {
     "name": "stderr",
     "output_type": "stream",
     "text": [
      "WARNING:jax._src.dispatch:Finished tracing + transforming jit(integer_pow) in 0.00019097328186035156 sec\n",
      "DEBUG:jax._src.interpreters.pxla:Compiling integer_pow for with global shapes and types [ShapedArray(float32[])]. Argument mapping: (GSPMDSharding({replicated}),).\n",
      "WARNING:jax._src.dispatch:Finished jaxpr to MLIR module conversion jit(integer_pow) in 0.0025463104248046875 sec\n",
      "DEBUG:jax._src.xla_bridge:get_compile_options: num_replicas=1 num_partitions=1 device_assignment=[[CpuDevice(id=0)]]\n",
      "WARNING:jax._src.dispatch:Finished XLA compilation of jit(integer_pow) in 0.0058557987213134766 sec\n"
     ]
    },
    {
     "data": {
      "application/vnd.jupyter.widget-view+json": {
       "model_id": "",
       "version_major": 2,
       "version_minor": 0
      },
      "text/plain": [
       "Loading to device:   0%|          | 0/4 [00:00<?, ?subject/s]"
      ]
     },
     "metadata": {},
     "output_type": "display_data"
    },
    {
     "data": {
      "application/vnd.jupyter.widget-view+json": {
       "model_id": "",
       "version_major": 2,
       "version_minor": 0
      },
      "text/plain": [
       "Embedding:   0%|          | 0/4 [00:00<?, ?subject/s]"
      ]
     },
     "metadata": {},
     "output_type": "display_data"
    },
    {
     "data": {
      "application/vnd.jupyter.widget-view+json": {
       "model_id": "",
       "version_major": 2,
       "version_minor": 0
      },
      "text/plain": [
       "  0%|          | 0.00/1920.88 [00:00<?, ?longitudinal-days/s]"
      ]
     },
     "metadata": {},
     "output_type": "display_data"
    },
    {
     "name": "stderr",
     "output_type": "stream",
     "text": [
      "WARNING:jax._src.dispatch:Finished tracing + transforming jit(integer_pow) in 0.00019121170043945312 sec\n",
      "DEBUG:jax._src.interpreters.pxla:Compiling integer_pow for with global shapes and types [ShapedArray(float32[])]. Argument mapping: (GSPMDSharding({replicated}),).\n",
      "WARNING:jax._src.dispatch:Finished jaxpr to MLIR module conversion jit(integer_pow) in 0.002627849578857422 sec\n",
      "DEBUG:jax._src.xla_bridge:get_compile_options: num_replicas=1 num_partitions=1 device_assignment=[[CpuDevice(id=0)]]\n",
      "WARNING:jax._src.dispatch:Finished XLA compilation of jit(integer_pow) in 0.00587153434753418 sec\n"
     ]
    },
    {
     "data": {
      "application/vnd.jupyter.widget-view+json": {
       "model_id": "",
       "version_major": 2,
       "version_minor": 0
      },
      "text/plain": [
       "Loading to device:   0%|          | 0/2 [00:00<?, ?subject/s]"
      ]
     },
     "metadata": {},
     "output_type": "display_data"
    },
    {
     "data": {
      "application/vnd.jupyter.widget-view+json": {
       "model_id": "",
       "version_major": 2,
       "version_minor": 0
      },
      "text/plain": [
       "Embedding:   0%|          | 0/2 [00:00<?, ?subject/s]"
      ]
     },
     "metadata": {},
     "output_type": "display_data"
    },
    {
     "data": {
      "application/vnd.jupyter.widget-view+json": {
       "model_id": "",
       "version_major": 2,
       "version_minor": 0
      },
      "text/plain": [
       "  0%|          | 0.00/5113.61 [00:00<?, ?longitudinal-days/s]"
      ]
     },
     "metadata": {},
     "output_type": "display_data"
    },
    {
     "name": "stderr",
     "output_type": "stream",
     "text": [
      "WARNING:jax._src.dispatch:Finished tracing + transforming jit(integer_pow) in 0.00019979476928710938 sec\n",
      "DEBUG:jax._src.interpreters.pxla:Compiling integer_pow for with global shapes and types [ShapedArray(float32[])]. Argument mapping: (GSPMDSharding({replicated}),).\n",
      "WARNING:jax._src.dispatch:Finished jaxpr to MLIR module conversion jit(integer_pow) in 0.002359628677368164 sec\n",
      "DEBUG:jax._src.xla_bridge:get_compile_options: num_replicas=1 num_partitions=1 device_assignment=[[CpuDevice(id=0)]]\n",
      "WARNING:jax._src.dispatch:Finished XLA compilation of jit(integer_pow) in 0.005820035934448242 sec\n"
     ]
    },
    {
     "data": {
      "application/vnd.jupyter.widget-view+json": {
       "model_id": "",
       "version_major": 2,
       "version_minor": 0
      },
      "text/plain": [
       "Loading to device:   0%|          | 0/3 [00:00<?, ?subject/s]"
      ]
     },
     "metadata": {},
     "output_type": "display_data"
    },
    {
     "data": {
      "application/vnd.jupyter.widget-view+json": {
       "model_id": "",
       "version_major": 2,
       "version_minor": 0
      },
      "text/plain": [
       "Embedding:   0%|          | 0/3 [00:00<?, ?subject/s]"
      ]
     },
     "metadata": {},
     "output_type": "display_data"
    },
    {
     "data": {
      "application/vnd.jupyter.widget-view+json": {
       "model_id": "",
       "version_major": 2,
       "version_minor": 0
      },
      "text/plain": [
       "  0%|          | 0.00/3031.25 [00:00<?, ?longitudinal-days/s]"
      ]
     },
     "metadata": {},
     "output_type": "display_data"
    },
    {
     "name": "stderr",
     "output_type": "stream",
     "text": [
      "WARNING:jax._src.dispatch:Finished tracing + transforming jit(concatenate) in 0.00028896331787109375 sec\n",
      "DEBUG:jax._src.interpreters.pxla:Compiling concatenate for with global shapes and types [ShapedArray(float32[1]), ShapedArray(float32[1]), ShapedArray(float32[1]), ShapedArray(float32[1]), ShapedArray(float32[1]), ShapedArray(float32[1]), ShapedArray(float32[1]), ShapedArray(float32[1]), ShapedArray(float32[1]), ShapedArray(float32[1]), ShapedArray(float32[1]), ShapedArray(float32[1]), ShapedArray(float32[1])]. Argument mapping: (GSPMDSharding({replicated}), GSPMDSharding({replicated}), GSPMDSharding({replicated}), GSPMDSharding({replicated}), GSPMDSharding({replicated}), GSPMDSharding({replicated}), GSPMDSharding({replicated}), GSPMDSharding({replicated}), GSPMDSharding({replicated}), GSPMDSharding({replicated}), GSPMDSharding({replicated}), GSPMDSharding({replicated}), GSPMDSharding({replicated})).\n",
      "WARNING:jax._src.dispatch:Finished jaxpr to MLIR module conversion jit(concatenate) in 0.0015232563018798828 sec\n",
      "DEBUG:jax._src.xla_bridge:get_compile_options: num_replicas=1 num_partitions=1 device_assignment=[[CpuDevice(id=0)]]\n",
      "WARNING:jax._src.dispatch:Finished XLA compilation of jit(concatenate) in 0.006365299224853516 sec\n",
      "WARNING:jax._src.dispatch:Finished tracing + transforming jit(convert_element_type) in 0.0005383491516113281 sec\n",
      "WARNING:jax._src.dispatch:Finished tracing + transforming _reduce_sum for pjit in 0.00041866302490234375 sec\n",
      "WARNING:jax._src.dispatch:Finished tracing + transforming _broadcast_arrays for pjit in 0.0004096031188964844 sec\n",
      "WARNING:jax._src.dispatch:Finished tracing + transforming _where for pjit in 0.0013816356658935547 sec\n",
      "WARNING:jax._src.dispatch:Finished tracing + transforming _reduce_sum for pjit in 0.0003361701965332031 sec\n",
      "WARNING:jax._src.dispatch:Finished tracing + transforming nansum for pjit in 0.003118753433227539 sec\n",
      "WARNING:jax._src.dispatch:Finished tracing + transforming nanmean for pjit in 0.005262613296508789 sec\n",
      "DEBUG:jax._src.interpreters.pxla:Compiling nanmean for with global shapes and types [ShapedArray(float32[13])]. Argument mapping: (GSPMDSharding({replicated}),).\n",
      "WARNING:jax._src.dispatch:Finished jaxpr to MLIR module conversion jit(nanmean) in 0.003292083740234375 sec\n",
      "DEBUG:jax._src.xla_bridge:get_compile_options: num_replicas=1 num_partitions=1 device_assignment=[[CpuDevice(id=0)]]\n",
      "WARNING:jax._src.dispatch:Finished XLA compilation of jit(nanmean) in 0.017693281173706055 sec\n",
      "DEBUG:jax._src.interpreters.pxla:Compiling nanmean for with global shapes and types [ShapedArray(bool[13]), ShapedArray(float32[]), ShapedArray(float32[])]. Argument mapping: (GSPMDSharding({replicated}), GSPMDSharding({replicated}), GSPMDSharding({replicated})).\n",
      "WARNING:jax._src.dispatch:Finished jaxpr to MLIR module conversion jit(nanmean) in 0.0024962425231933594 sec\n",
      "DEBUG:jax._src.xla_bridge:get_compile_options: num_replicas=1 num_partitions=1 device_assignment=[[CpuDevice(id=0)]]\n",
      "WARNING:jax._src.dispatch:Finished XLA compilation of jit(nanmean) in 0.007134675979614258 sec\n",
      "WARNING:jax._src.dispatch:Finished tracing + transforming jit(slice) in 0.00018262863159179688 sec\n",
      "DEBUG:jax._src.interpreters.pxla:Compiling slice for with global shapes and types [ShapedArray(float32[13])]. Argument mapping: (GSPMDSharding({replicated}),).\n",
      "WARNING:jax._src.dispatch:Finished jaxpr to MLIR module conversion jit(slice) in 0.0011997222900390625 sec\n",
      "DEBUG:jax._src.xla_bridge:get_compile_options: num_replicas=1 num_partitions=1 device_assignment=[[CpuDevice(id=0)]]\n",
      "WARNING:jax._src.dispatch:Finished XLA compilation of jit(slice) in 0.004365444183349609 sec\n",
      "WARNING:jax._src.dispatch:Finished tracing + transforming jit(slice) in 0.0001971721649169922 sec\n",
      "DEBUG:jax._src.interpreters.pxla:Compiling slice for with global shapes and types [ShapedArray(float32[13])]. Argument mapping: (GSPMDSharding({replicated}),).\n",
      "WARNING:jax._src.dispatch:Finished jaxpr to MLIR module conversion jit(slice) in 0.001466989517211914 sec\n",
      "DEBUG:jax._src.xla_bridge:get_compile_options: num_replicas=1 num_partitions=1 device_assignment=[[CpuDevice(id=0)]]\n",
      "WARNING:jax._src.dispatch:Finished XLA compilation of jit(slice) in 0.004389286041259766 sec\n",
      "WARNING:jax._src.dispatch:Finished tracing + transforming jit(slice) in 0.0002048015594482422 sec\n",
      "DEBUG:jax._src.interpreters.pxla:Compiling slice for with global shapes and types [ShapedArray(float32[13])]. Argument mapping: (GSPMDSharding({replicated}),).\n",
      "WARNING:jax._src.dispatch:Finished jaxpr to MLIR module conversion jit(slice) in 0.0013196468353271484 sec\n",
      "DEBUG:jax._src.xla_bridge:get_compile_options: num_replicas=1 num_partitions=1 device_assignment=[[CpuDevice(id=0)]]\n",
      "WARNING:jax._src.dispatch:Finished XLA compilation of jit(slice) in 0.004621982574462891 sec\n",
      "WARNING:jax._src.dispatch:Finished tracing + transforming jit(slice) in 0.0002090930938720703 sec\n",
      "DEBUG:jax._src.interpreters.pxla:Compiling slice for with global shapes and types [ShapedArray(float32[13])]. Argument mapping: (GSPMDSharding({replicated}),).\n",
      "WARNING:jax._src.dispatch:Finished jaxpr to MLIR module conversion jit(slice) in 0.0013747215270996094 sec\n",
      "DEBUG:jax._src.xla_bridge:get_compile_options: num_replicas=1 num_partitions=1 device_assignment=[[CpuDevice(id=0)]]\n",
      "WARNING:jax._src.dispatch:Finished XLA compilation of jit(slice) in 0.004615306854248047 sec\n",
      "WARNING:jax._src.dispatch:Finished tracing + transforming jit(slice) in 0.00019288063049316406 sec\n",
      "DEBUG:jax._src.interpreters.pxla:Compiling slice for with global shapes and types [ShapedArray(float32[13])]. Argument mapping: (GSPMDSharding({replicated}),).\n",
      "WARNING:jax._src.dispatch:Finished jaxpr to MLIR module conversion jit(slice) in 0.0013158321380615234 sec\n",
      "DEBUG:jax._src.xla_bridge:get_compile_options: num_replicas=1 num_partitions=1 device_assignment=[[CpuDevice(id=0)]]\n",
      "WARNING:jax._src.dispatch:Finished XLA compilation of jit(slice) in 0.0049860477447509766 sec\n",
      "WARNING:jax._src.dispatch:Finished tracing + transforming jit(slice) in 0.0001995563507080078 sec\n",
      "DEBUG:jax._src.interpreters.pxla:Compiling slice for with global shapes and types [ShapedArray(float32[13])]. Argument mapping: (GSPMDSharding({replicated}),).\n",
      "WARNING:jax._src.dispatch:Finished jaxpr to MLIR module conversion jit(slice) in 0.0015628337860107422 sec\n",
      "DEBUG:jax._src.xla_bridge:get_compile_options: num_replicas=1 num_partitions=1 device_assignment=[[CpuDevice(id=0)]]\n",
      "WARNING:jax._src.dispatch:Finished XLA compilation of jit(slice) in 0.004778385162353516 sec\n",
      "WARNING:jax._src.dispatch:Finished tracing + transforming jit(slice) in 0.0002052783966064453 sec\n",
      "DEBUG:jax._src.interpreters.pxla:Compiling slice for with global shapes and types [ShapedArray(float32[13])]. Argument mapping: (GSPMDSharding({replicated}),).\n",
      "WARNING:jax._src.dispatch:Finished jaxpr to MLIR module conversion jit(slice) in 0.0014450550079345703 sec\n",
      "DEBUG:jax._src.xla_bridge:get_compile_options: num_replicas=1 num_partitions=1 device_assignment=[[CpuDevice(id=0)]]\n",
      "WARNING:jax._src.dispatch:Finished XLA compilation of jit(slice) in 0.0051233768463134766 sec\n",
      "WARNING:jax._src.dispatch:Finished tracing + transforming jit(slice) in 0.00020933151245117188 sec\n",
      "DEBUG:jax._src.interpreters.pxla:Compiling slice for with global shapes and types [ShapedArray(float32[13])]. Argument mapping: (GSPMDSharding({replicated}),).\n",
      "WARNING:jax._src.dispatch:Finished jaxpr to MLIR module conversion jit(slice) in 0.0014791488647460938 sec\n",
      "DEBUG:jax._src.xla_bridge:get_compile_options: num_replicas=1 num_partitions=1 device_assignment=[[CpuDevice(id=0)]]\n",
      "WARNING:jax._src.dispatch:Finished XLA compilation of jit(slice) in 0.0046617984771728516 sec\n",
      "WARNING:jax._src.dispatch:Finished tracing + transforming jit(slice) in 0.00020384788513183594 sec\n",
      "DEBUG:jax._src.interpreters.pxla:Compiling slice for with global shapes and types [ShapedArray(float32[13])]. Argument mapping: (GSPMDSharding({replicated}),).\n",
      "WARNING:jax._src.dispatch:Finished jaxpr to MLIR module conversion jit(slice) in 0.0014328956604003906 sec\n",
      "DEBUG:jax._src.xla_bridge:get_compile_options: num_replicas=1 num_partitions=1 device_assignment=[[CpuDevice(id=0)]]\n",
      "WARNING:jax._src.dispatch:Finished XLA compilation of jit(slice) in 0.005167722702026367 sec\n"
     ]
    },
    {
     "name": "stderr",
     "output_type": "stream",
     "text": [
      "WARNING:jax._src.dispatch:Finished tracing + transforming jit(slice) in 0.00023293495178222656 sec\n",
      "DEBUG:jax._src.interpreters.pxla:Compiling slice for with global shapes and types [ShapedArray(float32[13])]. Argument mapping: (GSPMDSharding({replicated}),).\n",
      "WARNING:jax._src.dispatch:Finished jaxpr to MLIR module conversion jit(slice) in 0.0013544559478759766 sec\n",
      "DEBUG:jax._src.xla_bridge:get_compile_options: num_replicas=1 num_partitions=1 device_assignment=[[CpuDevice(id=0)]]\n",
      "WARNING:jax._src.dispatch:Finished XLA compilation of jit(slice) in 0.004662275314331055 sec\n",
      "WARNING:jax._src.dispatch:Finished tracing + transforming jit(slice) in 0.00023055076599121094 sec\n",
      "DEBUG:jax._src.interpreters.pxla:Compiling slice for with global shapes and types [ShapedArray(float32[13])]. Argument mapping: (GSPMDSharding({replicated}),).\n",
      "WARNING:jax._src.dispatch:Finished jaxpr to MLIR module conversion jit(slice) in 0.0015153884887695312 sec\n",
      "DEBUG:jax._src.xla_bridge:get_compile_options: num_replicas=1 num_partitions=1 device_assignment=[[CpuDevice(id=0)]]\n",
      "WARNING:jax._src.dispatch:Finished XLA compilation of jit(slice) in 0.005159139633178711 sec\n",
      "WARNING:jax._src.dispatch:Finished tracing + transforming jit(slice) in 0.0002052783966064453 sec\n",
      "DEBUG:jax._src.interpreters.pxla:Compiling slice for with global shapes and types [ShapedArray(float32[13])]. Argument mapping: (GSPMDSharding({replicated}),).\n",
      "WARNING:jax._src.dispatch:Finished jaxpr to MLIR module conversion jit(slice) in 0.0015366077423095703 sec\n",
      "DEBUG:jax._src.xla_bridge:get_compile_options: num_replicas=1 num_partitions=1 device_assignment=[[CpuDevice(id=0)]]\n",
      "WARNING:jax._src.dispatch:Finished XLA compilation of jit(slice) in 0.004626274108886719 sec\n",
      "WARNING:jax._src.dispatch:Finished tracing + transforming jit(slice) in 0.00021195411682128906 sec\n",
      "DEBUG:jax._src.interpreters.pxla:Compiling slice for with global shapes and types [ShapedArray(float32[13])]. Argument mapping: (GSPMDSharding({replicated}),).\n",
      "WARNING:jax._src.dispatch:Finished jaxpr to MLIR module conversion jit(slice) in 0.001768350601196289 sec\n",
      "DEBUG:jax._src.xla_bridge:get_compile_options: num_replicas=1 num_partitions=1 device_assignment=[[CpuDevice(id=0)]]\n",
      "WARNING:jax._src.dispatch:Finished XLA compilation of jit(slice) in 0.0048143863677978516 sec\n",
      "WARNING:jax._src.dispatch:Finished tracing + transforming jit(integer_pow) in 0.00019860267639160156 sec\n",
      "DEBUG:jax._src.interpreters.pxla:Compiling integer_pow for with global shapes and types [ShapedArray(float32[])]. Argument mapping: (GSPMDSharding({replicated}),).\n",
      "WARNING:jax._src.dispatch:Finished jaxpr to MLIR module conversion jit(integer_pow) in 0.002430438995361328 sec\n",
      "DEBUG:jax._src.xla_bridge:get_compile_options: num_replicas=1 num_partitions=1 device_assignment=[[CpuDevice(id=0)]]\n",
      "WARNING:jax._src.dispatch:Finished XLA compilation of jit(integer_pow) in 0.006070613861083984 sec\n"
     ]
    },
    {
     "data": {
      "application/vnd.jupyter.widget-view+json": {
       "model_id": "",
       "version_major": 2,
       "version_minor": 0
      },
      "text/plain": [
       "Loading to device:   0%|          | 0/3 [00:00<?, ?subject/s]"
      ]
     },
     "metadata": {},
     "output_type": "display_data"
    },
    {
     "data": {
      "application/vnd.jupyter.widget-view+json": {
       "model_id": "",
       "version_major": 2,
       "version_minor": 0
      },
      "text/plain": [
       "Embedding:   0%|          | 0/3 [00:00<?, ?subject/s]"
      ]
     },
     "metadata": {},
     "output_type": "display_data"
    },
    {
     "data": {
      "application/vnd.jupyter.widget-view+json": {
       "model_id": "",
       "version_major": 2,
       "version_minor": 0
      },
      "text/plain": [
       "  0%|          | 0.00/6042.51 [00:00<?, ?longitudinal-days/s]"
      ]
     },
     "metadata": {},
     "output_type": "display_data"
    },
    {
     "name": "stderr",
     "output_type": "stream",
     "text": [
      "WARNING:jax._src.dispatch:Finished tracing + transforming jit(integer_pow) in 0.00018978118896484375 sec\n",
      "DEBUG:jax._src.interpreters.pxla:Compiling integer_pow for with global shapes and types [ShapedArray(float32[])]. Argument mapping: (GSPMDSharding({replicated}),).\n",
      "WARNING:jax._src.dispatch:Finished jaxpr to MLIR module conversion jit(integer_pow) in 0.0023272037506103516 sec\n",
      "DEBUG:jax._src.xla_bridge:get_compile_options: num_replicas=1 num_partitions=1 device_assignment=[[CpuDevice(id=0)]]\n",
      "WARNING:jax._src.dispatch:Finished XLA compilation of jit(integer_pow) in 0.005766630172729492 sec\n"
     ]
    },
    {
     "data": {
      "application/vnd.jupyter.widget-view+json": {
       "model_id": "",
       "version_major": 2,
       "version_minor": 0
      },
      "text/plain": [
       "Loading to device:   0%|          | 0/5 [00:00<?, ?subject/s]"
      ]
     },
     "metadata": {},
     "output_type": "display_data"
    },
    {
     "data": {
      "application/vnd.jupyter.widget-view+json": {
       "model_id": "",
       "version_major": 2,
       "version_minor": 0
      },
      "text/plain": [
       "Embedding:   0%|          | 0/5 [00:00<?, ?subject/s]"
      ]
     },
     "metadata": {},
     "output_type": "display_data"
    },
    {
     "data": {
      "application/vnd.jupyter.widget-view+json": {
       "model_id": "",
       "version_major": 2,
       "version_minor": 0
      },
      "text/plain": [
       "  0%|          | 0.00/8040.38 [00:00<?, ?longitudinal-days/s]"
      ]
     },
     "metadata": {},
     "output_type": "display_data"
    },
    {
     "name": "stderr",
     "output_type": "stream",
     "text": [
      "WARNING:jax._src.dispatch:Finished tracing + transforming jit(convert_element_type) in 0.0001621246337890625 sec\n",
      "WARNING:jax._src.dispatch:Finished tracing + transforming _reduce_sum for pjit in 0.0003933906555175781 sec\n",
      "WARNING:jax._src.dispatch:Finished tracing + transforming _broadcast_arrays for pjit in 0.00032448768615722656 sec\n",
      "WARNING:jax._src.dispatch:Finished tracing + transforming _where for pjit in 0.0013225078582763672 sec\n",
      "WARNING:jax._src.dispatch:Finished tracing + transforming _reduce_sum for pjit in 0.0003452301025390625 sec\n",
      "WARNING:jax._src.dispatch:Finished tracing + transforming nansum for pjit in 0.0032732486724853516 sec\n",
      "WARNING:jax._src.dispatch:Finished tracing + transforming nanmean for pjit in 0.005430459976196289 sec\n",
      "DEBUG:jax._src.interpreters.pxla:Compiling nanmean for with global shapes and types [ShapedArray(float32[11])]. Argument mapping: (GSPMDSharding({replicated}),).\n",
      "WARNING:jax._src.dispatch:Finished jaxpr to MLIR module conversion jit(nanmean) in 0.0033559799194335938 sec\n",
      "DEBUG:jax._src.xla_bridge:get_compile_options: num_replicas=1 num_partitions=1 device_assignment=[[CpuDevice(id=0)]]\n",
      "WARNING:jax._src.dispatch:Finished XLA compilation of jit(nanmean) in 0.015683889389038086 sec\n",
      "DEBUG:jax._src.interpreters.pxla:Compiling nanmean for with global shapes and types [ShapedArray(bool[11]), ShapedArray(float32[]), ShapedArray(float32[])]. Argument mapping: (GSPMDSharding({replicated}), GSPMDSharding({replicated}), GSPMDSharding({replicated})).\n",
      "WARNING:jax._src.dispatch:Finished jaxpr to MLIR module conversion jit(nanmean) in 0.0024344921112060547 sec\n",
      "DEBUG:jax._src.xla_bridge:get_compile_options: num_replicas=1 num_partitions=1 device_assignment=[[CpuDevice(id=0)]]\n",
      "WARNING:jax._src.dispatch:Finished XLA compilation of jit(nanmean) in 0.0072629451751708984 sec\n",
      "WARNING:jax._src.dispatch:Finished tracing + transforming jit(integer_pow) in 0.0002071857452392578 sec\n",
      "DEBUG:jax._src.interpreters.pxla:Compiling integer_pow for with global shapes and types [ShapedArray(float32[])]. Argument mapping: (GSPMDSharding({replicated}),).\n",
      "WARNING:jax._src.dispatch:Finished jaxpr to MLIR module conversion jit(integer_pow) in 0.0024187564849853516 sec\n",
      "DEBUG:jax._src.xla_bridge:get_compile_options: num_replicas=1 num_partitions=1 device_assignment=[[CpuDevice(id=0)]]\n",
      "WARNING:jax._src.dispatch:Finished XLA compilation of jit(integer_pow) in 0.005737781524658203 sec\n"
     ]
    },
    {
     "data": {
      "application/vnd.jupyter.widget-view+json": {
       "model_id": "",
       "version_major": 2,
       "version_minor": 0
      },
      "text/plain": [
       "Loading to device:   0%|          | 0/2 [00:00<?, ?subject/s]"
      ]
     },
     "metadata": {},
     "output_type": "display_data"
    },
    {
     "data": {
      "application/vnd.jupyter.widget-view+json": {
       "model_id": "",
       "version_major": 2,
       "version_minor": 0
      },
      "text/plain": [
       "Embedding:   0%|          | 0/2 [00:00<?, ?subject/s]"
      ]
     },
     "metadata": {},
     "output_type": "display_data"
    },
    {
     "data": {
      "application/vnd.jupyter.widget-view+json": {
       "model_id": "",
       "version_major": 2,
       "version_minor": 0
      },
      "text/plain": [
       "  0%|          | 0.00/1411.56 [00:00<?, ?longitudinal-days/s]"
      ]
     },
     "metadata": {},
     "output_type": "display_data"
    },
    {
     "name": "stderr",
     "output_type": "stream",
     "text": [
      "WARNING:jax._src.dispatch:Finished tracing + transforming jit(integer_pow) in 0.00019788742065429688 sec\n",
      "DEBUG:jax._src.interpreters.pxla:Compiling integer_pow for with global shapes and types [ShapedArray(float32[])]. Argument mapping: (GSPMDSharding({replicated}),).\n",
      "WARNING:jax._src.dispatch:Finished jaxpr to MLIR module conversion jit(integer_pow) in 0.00276947021484375 sec\n",
      "DEBUG:jax._src.xla_bridge:get_compile_options: num_replicas=1 num_partitions=1 device_assignment=[[CpuDevice(id=0)]]\n",
      "WARNING:jax._src.dispatch:Finished XLA compilation of jit(integer_pow) in 0.006302833557128906 sec\n"
     ]
    },
    {
     "data": {
      "application/vnd.jupyter.widget-view+json": {
       "model_id": "",
       "version_major": 2,
       "version_minor": 0
      },
      "text/plain": [
       "Loading to device:   0%|          | 0/5 [00:00<?, ?subject/s]"
      ]
     },
     "metadata": {},
     "output_type": "display_data"
    },
    {
     "data": {
      "application/vnd.jupyter.widget-view+json": {
       "model_id": "",
       "version_major": 2,
       "version_minor": 0
      },
      "text/plain": [
       "Embedding:   0%|          | 0/5 [00:00<?, ?subject/s]"
      ]
     },
     "metadata": {},
     "output_type": "display_data"
    },
    {
     "data": {
      "application/vnd.jupyter.widget-view+json": {
       "model_id": "",
       "version_major": 2,
       "version_minor": 0
      },
      "text/plain": [
       "  0%|          | 0.00/3720.51 [00:00<?, ?longitudinal-days/s]"
      ]
     },
     "metadata": {},
     "output_type": "display_data"
    },
    {
     "name": "stderr",
     "output_type": "stream",
     "text": [
      "WARNING:jax._src.dispatch:Finished tracing + transforming jit(integer_pow) in 0.00020003318786621094 sec\n",
      "DEBUG:jax._src.interpreters.pxla:Compiling integer_pow for with global shapes and types [ShapedArray(float32[])]. Argument mapping: (GSPMDSharding({replicated}),).\n",
      "WARNING:jax._src.dispatch:Finished jaxpr to MLIR module conversion jit(integer_pow) in 0.002603769302368164 sec\n",
      "DEBUG:jax._src.xla_bridge:get_compile_options: num_replicas=1 num_partitions=1 device_assignment=[[CpuDevice(id=0)]]\n",
      "WARNING:jax._src.dispatch:Finished XLA compilation of jit(integer_pow) in 0.006053924560546875 sec\n"
     ]
    },
    {
     "data": {
      "application/vnd.jupyter.widget-view+json": {
       "model_id": "",
       "version_major": 2,
       "version_minor": 0
      },
      "text/plain": [
       "Loading to device:   0%|          | 0/1 [00:00<?, ?subject/s]"
      ]
     },
     "metadata": {},
     "output_type": "display_data"
    },
    {
     "data": {
      "application/vnd.jupyter.widget-view+json": {
       "model_id": "",
       "version_major": 2,
       "version_minor": 0
      },
      "text/plain": [
       "Embedding:   0%|          | 0/1 [00:00<?, ?subject/s]"
      ]
     },
     "metadata": {},
     "output_type": "display_data"
    },
    {
     "data": {
      "application/vnd.jupyter.widget-view+json": {
       "model_id": "",
       "version_major": 2,
       "version_minor": 0
      },
      "text/plain": [
       "  0%|          | 0.00/883.04 [00:00<?, ?longitudinal-days/s]"
      ]
     },
     "metadata": {},
     "output_type": "display_data"
    },
    {
     "name": "stderr",
     "output_type": "stream",
     "text": [
      "WARNING:jax._src.dispatch:Finished tracing + transforming jit(integer_pow) in 0.0002033710479736328 sec\n",
      "DEBUG:jax._src.interpreters.pxla:Compiling integer_pow for with global shapes and types [ShapedArray(float32[])]. Argument mapping: (GSPMDSharding({replicated}),).\n",
      "WARNING:jax._src.dispatch:Finished jaxpr to MLIR module conversion jit(integer_pow) in 0.0026078224182128906 sec\n",
      "DEBUG:jax._src.xla_bridge:get_compile_options: num_replicas=1 num_partitions=1 device_assignment=[[CpuDevice(id=0)]]\n",
      "WARNING:jax._src.dispatch:Finished XLA compilation of jit(integer_pow) in 0.005971431732177734 sec\n"
     ]
    },
    {
     "data": {
      "application/vnd.jupyter.widget-view+json": {
       "model_id": "",
       "version_major": 2,
       "version_minor": 0
      },
      "text/plain": [
       "Loading to device:   0%|          | 0/2 [00:00<?, ?subject/s]"
      ]
     },
     "metadata": {},
     "output_type": "display_data"
    },
    {
     "data": {
      "application/vnd.jupyter.widget-view+json": {
       "model_id": "",
       "version_major": 2,
       "version_minor": 0
      },
      "text/plain": [
       "Embedding:   0%|          | 0/2 [00:00<?, ?subject/s]"
      ]
     },
     "metadata": {},
     "output_type": "display_data"
    },
    {
     "data": {
      "application/vnd.jupyter.widget-view+json": {
       "model_id": "",
       "version_major": 2,
       "version_minor": 0
      },
      "text/plain": [
       "  0%|          | 0.00/4410.88 [00:00<?, ?longitudinal-days/s]"
      ]
     },
     "metadata": {},
     "output_type": "display_data"
    },
    {
     "name": "stderr",
     "output_type": "stream",
     "text": [
      "WARNING:jax._src.dispatch:Finished tracing + transforming jit(integer_pow) in 0.0001919269561767578 sec\n",
      "DEBUG:jax._src.interpreters.pxla:Compiling integer_pow for with global shapes and types [ShapedArray(float32[])]. Argument mapping: (GSPMDSharding({replicated}),).\n",
      "WARNING:jax._src.dispatch:Finished jaxpr to MLIR module conversion jit(integer_pow) in 0.0026035308837890625 sec\n",
      "DEBUG:jax._src.xla_bridge:get_compile_options: num_replicas=1 num_partitions=1 device_assignment=[[CpuDevice(id=0)]]\n",
      "WARNING:jax._src.dispatch:Finished XLA compilation of jit(integer_pow) in 0.005769014358520508 sec\n"
     ]
    },
    {
     "data": {
      "application/vnd.jupyter.widget-view+json": {
       "model_id": "",
       "version_major": 2,
       "version_minor": 0
      },
      "text/plain": [
       "Loading to device:   0%|          | 0/1 [00:00<?, ?subject/s]"
      ]
     },
     "metadata": {},
     "output_type": "display_data"
    },
    {
     "data": {
      "application/vnd.jupyter.widget-view+json": {
       "model_id": "",
       "version_major": 2,
       "version_minor": 0
      },
      "text/plain": [
       "Embedding:   0%|          | 0/1 [00:00<?, ?subject/s]"
      ]
     },
     "metadata": {},
     "output_type": "display_data"
    },
    {
     "data": {
      "application/vnd.jupyter.widget-view+json": {
       "model_id": "",
       "version_major": 2,
       "version_minor": 0
      },
      "text/plain": [
       "  0%|          | 0.00/2806.42 [00:00<?, ?longitudinal-days/s]"
      ]
     },
     "metadata": {},
     "output_type": "display_data"
    },
    {
     "name": "stderr",
     "output_type": "stream",
     "text": [
      "WARNING:jax._src.dispatch:Finished tracing + transforming jit(integer_pow) in 0.0001881122589111328 sec\n",
      "DEBUG:jax._src.interpreters.pxla:Compiling integer_pow for with global shapes and types [ShapedArray(float32[])]. Argument mapping: (GSPMDSharding({replicated}),).\n",
      "WARNING:jax._src.dispatch:Finished jaxpr to MLIR module conversion jit(integer_pow) in 0.0023462772369384766 sec\n",
      "DEBUG:jax._src.xla_bridge:get_compile_options: num_replicas=1 num_partitions=1 device_assignment=[[CpuDevice(id=0)]]\n",
      "WARNING:jax._src.dispatch:Finished XLA compilation of jit(integer_pow) in 0.005362987518310547 sec\n"
     ]
    },
    {
     "data": {
      "application/vnd.jupyter.widget-view+json": {
       "model_id": "",
       "version_major": 2,
       "version_minor": 0
      },
      "text/plain": [
       "Loading to device:   0%|          | 0/1 [00:00<?, ?subject/s]"
      ]
     },
     "metadata": {},
     "output_type": "display_data"
    },
    {
     "data": {
      "application/vnd.jupyter.widget-view+json": {
       "model_id": "",
       "version_major": 2,
       "version_minor": 0
      },
      "text/plain": [
       "Embedding:   0%|          | 0/1 [00:00<?, ?subject/s]"
      ]
     },
     "metadata": {},
     "output_type": "display_data"
    },
    {
     "data": {
      "application/vnd.jupyter.widget-view+json": {
       "model_id": "",
       "version_major": 2,
       "version_minor": 0
      },
      "text/plain": [
       "  0%|          | 0.00/246.91 [00:00<?, ?longitudinal-days/s]"
      ]
     },
     "metadata": {},
     "output_type": "display_data"
    },
    {
     "name": "stderr",
     "output_type": "stream",
     "text": [
      "WARNING:jax._src.dispatch:Finished tracing + transforming jit(integer_pow) in 0.00019407272338867188 sec\n",
      "DEBUG:jax._src.interpreters.pxla:Compiling integer_pow for with global shapes and types [ShapedArray(float32[])]. Argument mapping: (GSPMDSharding({replicated}),).\n",
      "WARNING:jax._src.dispatch:Finished jaxpr to MLIR module conversion jit(integer_pow) in 0.0024442672729492188 sec\n",
      "DEBUG:jax._src.xla_bridge:get_compile_options: num_replicas=1 num_partitions=1 device_assignment=[[CpuDevice(id=0)]]\n",
      "WARNING:jax._src.dispatch:Finished XLA compilation of jit(integer_pow) in 0.005750179290771484 sec\n"
     ]
    },
    {
     "data": {
      "application/vnd.jupyter.widget-view+json": {
       "model_id": "",
       "version_major": 2,
       "version_minor": 0
      },
      "text/plain": [
       "Loading to device:   0%|          | 0/2 [00:00<?, ?subject/s]"
      ]
     },
     "metadata": {},
     "output_type": "display_data"
    },
    {
     "data": {
      "application/vnd.jupyter.widget-view+json": {
       "model_id": "",
       "version_major": 2,
       "version_minor": 0
      },
      "text/plain": [
       "Embedding:   0%|          | 0/2 [00:00<?, ?subject/s]"
      ]
     },
     "metadata": {},
     "output_type": "display_data"
    },
    {
     "data": {
      "application/vnd.jupyter.widget-view+json": {
       "model_id": "",
       "version_major": 2,
       "version_minor": 0
      },
      "text/plain": [
       "  0%|          | 0.00/1796.82 [00:00<?, ?longitudinal-days/s]"
      ]
     },
     "metadata": {},
     "output_type": "display_data"
    },
    {
     "name": "stderr",
     "output_type": "stream",
     "text": [
      "WARNING:jax._src.dispatch:Finished tracing + transforming jit(integer_pow) in 0.00019407272338867188 sec\n",
      "DEBUG:jax._src.interpreters.pxla:Compiling integer_pow for with global shapes and types [ShapedArray(float32[])]. Argument mapping: (GSPMDSharding({replicated}),).\n",
      "WARNING:jax._src.dispatch:Finished jaxpr to MLIR module conversion jit(integer_pow) in 0.0024161338806152344 sec\n",
      "DEBUG:jax._src.xla_bridge:get_compile_options: num_replicas=1 num_partitions=1 device_assignment=[[CpuDevice(id=0)]]\n",
      "WARNING:jax._src.dispatch:Finished XLA compilation of jit(integer_pow) in 0.005652666091918945 sec\n"
     ]
    },
    {
     "data": {
      "application/vnd.jupyter.widget-view+json": {
       "model_id": "",
       "version_major": 2,
       "version_minor": 0
      },
      "text/plain": [
       "Loading to device:   0%|          | 0/1 [00:00<?, ?subject/s]"
      ]
     },
     "metadata": {},
     "output_type": "display_data"
    },
    {
     "data": {
      "application/vnd.jupyter.widget-view+json": {
       "model_id": "",
       "version_major": 2,
       "version_minor": 0
      },
      "text/plain": [
       "Embedding:   0%|          | 0/1 [00:00<?, ?subject/s]"
      ]
     },
     "metadata": {},
     "output_type": "display_data"
    },
    {
     "data": {
      "application/vnd.jupyter.widget-view+json": {
       "model_id": "",
       "version_major": 2,
       "version_minor": 0
      },
      "text/plain": [
       "  0%|          | 0.00/179.24 [00:00<?, ?longitudinal-days/s]"
      ]
     },
     "metadata": {},
     "output_type": "display_data"
    },
    {
     "name": "stderr",
     "output_type": "stream",
     "text": [
      "WARNING:jax._src.dispatch:Finished tracing + transforming jit(integer_pow) in 0.00019359588623046875 sec\n",
      "DEBUG:jax._src.interpreters.pxla:Compiling integer_pow for with global shapes and types [ShapedArray(float32[])]. Argument mapping: (GSPMDSharding({replicated}),).\n",
      "WARNING:jax._src.dispatch:Finished jaxpr to MLIR module conversion jit(integer_pow) in 0.002557516098022461 sec\n",
      "DEBUG:jax._src.xla_bridge:get_compile_options: num_replicas=1 num_partitions=1 device_assignment=[[CpuDevice(id=0)]]\n",
      "WARNING:jax._src.dispatch:Finished XLA compilation of jit(integer_pow) in 0.005671024322509766 sec\n"
     ]
    },
    {
     "data": {
      "application/vnd.jupyter.widget-view+json": {
       "model_id": "",
       "version_major": 2,
       "version_minor": 0
      },
      "text/plain": [
       "Loading to device:   0%|          | 0/3 [00:00<?, ?subject/s]"
      ]
     },
     "metadata": {},
     "output_type": "display_data"
    },
    {
     "data": {
      "application/vnd.jupyter.widget-view+json": {
       "model_id": "",
       "version_major": 2,
       "version_minor": 0
      },
      "text/plain": [
       "Embedding:   0%|          | 0/3 [00:00<?, ?subject/s]"
      ]
     },
     "metadata": {},
     "output_type": "display_data"
    },
    {
     "data": {
      "application/vnd.jupyter.widget-view+json": {
       "model_id": "",
       "version_major": 2,
       "version_minor": 0
      },
      "text/plain": [
       "  0%|          | 0.00/1208.05 [00:00<?, ?longitudinal-days/s]"
      ]
     },
     "metadata": {},
     "output_type": "display_data"
    },
    {
     "name": "stderr",
     "output_type": "stream",
     "text": [
      "WARNING:jax._src.dispatch:Finished tracing + transforming jit(concatenate) in 0.00018143653869628906 sec\n",
      "DEBUG:jax._src.interpreters.pxla:Compiling concatenate for with global shapes and types [ShapedArray(float32[16]), ShapedArray(float32[6])]. Argument mapping: (GSPMDSharding({replicated}), GSPMDSharding({replicated})).\n",
      "WARNING:jax._src.dispatch:Finished jaxpr to MLIR module conversion jit(concatenate) in 0.001295328140258789 sec\n",
      "DEBUG:jax._src.xla_bridge:get_compile_options: num_replicas=1 num_partitions=1 device_assignment=[[CpuDevice(id=0)]]\n",
      "WARNING:jax._src.dispatch:Finished XLA compilation of jit(concatenate) in 0.005048513412475586 sec\n",
      "WARNING:jax._src.dispatch:Finished tracing + transforming jit(convert_element_type) in 0.0004298686981201172 sec\n",
      "WARNING:jax._src.dispatch:Finished tracing + transforming _reduce_sum for pjit in 0.00043010711669921875 sec\n",
      "WARNING:jax._src.dispatch:Finished tracing + transforming _broadcast_arrays for pjit in 0.00032806396484375 sec\n",
      "WARNING:jax._src.dispatch:Finished tracing + transforming _where for pjit in 0.0011970996856689453 sec\n",
      "WARNING:jax._src.dispatch:Finished tracing + transforming _reduce_sum for pjit in 0.0003440380096435547 sec\n",
      "WARNING:jax._src.dispatch:Finished tracing + transforming nansum for pjit in 0.0029609203338623047 sec\n",
      "WARNING:jax._src.dispatch:Finished tracing + transforming nanmean for pjit in 0.005048036575317383 sec\n",
      "DEBUG:jax._src.interpreters.pxla:Compiling nanmean for with global shapes and types [ShapedArray(float32[22])]. Argument mapping: (GSPMDSharding({replicated}),).\n",
      "WARNING:jax._src.dispatch:Finished jaxpr to MLIR module conversion jit(nanmean) in 0.0035266876220703125 sec\n",
      "DEBUG:jax._src.xla_bridge:get_compile_options: num_replicas=1 num_partitions=1 device_assignment=[[CpuDevice(id=0)]]\n",
      "WARNING:jax._src.dispatch:Finished XLA compilation of jit(nanmean) in 0.01329183578491211 sec\n",
      "DEBUG:jax._src.interpreters.pxla:Compiling nanmean for with global shapes and types [ShapedArray(bool[22]), ShapedArray(float32[]), ShapedArray(float32[])]. Argument mapping: (GSPMDSharding({replicated}), GSPMDSharding({replicated}), GSPMDSharding({replicated})).\n",
      "WARNING:jax._src.dispatch:Finished jaxpr to MLIR module conversion jit(nanmean) in 0.0025796890258789062 sec\n",
      "DEBUG:jax._src.xla_bridge:get_compile_options: num_replicas=1 num_partitions=1 device_assignment=[[CpuDevice(id=0)]]\n",
      "WARNING:jax._src.dispatch:Finished XLA compilation of jit(nanmean) in 0.008668661117553711 sec\n",
      "WARNING:jax._src.dispatch:Finished tracing + transforming jit(slice) in 0.0001976490020751953 sec\n",
      "DEBUG:jax._src.interpreters.pxla:Compiling slice for with global shapes and types [ShapedArray(float32[22])]. Argument mapping: (GSPMDSharding({replicated}),).\n",
      "WARNING:jax._src.dispatch:Finished jaxpr to MLIR module conversion jit(slice) in 0.0014047622680664062 sec\n",
      "DEBUG:jax._src.xla_bridge:get_compile_options: num_replicas=1 num_partitions=1 device_assignment=[[CpuDevice(id=0)]]\n",
      "WARNING:jax._src.dispatch:Finished XLA compilation of jit(slice) in 0.0046346187591552734 sec\n",
      "WARNING:jax._src.dispatch:Finished tracing + transforming jit(slice) in 0.00021195411682128906 sec\n",
      "DEBUG:jax._src.interpreters.pxla:Compiling slice for with global shapes and types [ShapedArray(float32[22])]. Argument mapping: (GSPMDSharding({replicated}),).\n",
      "WARNING:jax._src.dispatch:Finished jaxpr to MLIR module conversion jit(slice) in 0.0017085075378417969 sec\n",
      "DEBUG:jax._src.xla_bridge:get_compile_options: num_replicas=1 num_partitions=1 device_assignment=[[CpuDevice(id=0)]]\n",
      "WARNING:jax._src.dispatch:Finished XLA compilation of jit(slice) in 0.0048673152923583984 sec\n",
      "WARNING:jax._src.dispatch:Finished tracing + transforming jit(integer_pow) in 0.0002033710479736328 sec\n",
      "DEBUG:jax._src.interpreters.pxla:Compiling integer_pow for with global shapes and types [ShapedArray(float32[])]. Argument mapping: (GSPMDSharding({replicated}),).\n",
      "WARNING:jax._src.dispatch:Finished jaxpr to MLIR module conversion jit(integer_pow) in 0.0025167465209960938 sec\n",
      "DEBUG:jax._src.xla_bridge:get_compile_options: num_replicas=1 num_partitions=1 device_assignment=[[CpuDevice(id=0)]]\n",
      "WARNING:jax._src.dispatch:Finished XLA compilation of jit(integer_pow) in 0.005840778350830078 sec\n"
     ]
    },
    {
     "data": {
      "application/vnd.jupyter.widget-view+json": {
       "model_id": "",
       "version_major": 2,
       "version_minor": 0
      },
      "text/plain": [
       "Loading to device:   0%|          | 0/4 [00:00<?, ?subject/s]"
      ]
     },
     "metadata": {},
     "output_type": "display_data"
    },
    {
     "data": {
      "application/vnd.jupyter.widget-view+json": {
       "model_id": "",
       "version_major": 2,
       "version_minor": 0
      },
      "text/plain": [
       "Embedding:   0%|          | 0/4 [00:00<?, ?subject/s]"
      ]
     },
     "metadata": {},
     "output_type": "display_data"
    },
    {
     "data": {
      "application/vnd.jupyter.widget-view+json": {
       "model_id": "",
       "version_major": 2,
       "version_minor": 0
      },
      "text/plain": [
       "  0%|          | 0.00/2255.50 [00:00<?, ?longitudinal-days/s]"
      ]
     },
     "metadata": {},
     "output_type": "display_data"
    },
    {
     "name": "stderr",
     "output_type": "stream",
     "text": [
      "WARNING:jax._src.dispatch:Finished tracing + transforming jit(integer_pow) in 0.0001895427703857422 sec\n",
      "DEBUG:jax._src.interpreters.pxla:Compiling integer_pow for with global shapes and types [ShapedArray(float32[])]. Argument mapping: (GSPMDSharding({replicated}),).\n",
      "WARNING:jax._src.dispatch:Finished jaxpr to MLIR module conversion jit(integer_pow) in 0.002552509307861328 sec\n",
      "DEBUG:jax._src.xla_bridge:get_compile_options: num_replicas=1 num_partitions=1 device_assignment=[[CpuDevice(id=0)]]\n",
      "WARNING:jax._src.dispatch:Finished XLA compilation of jit(integer_pow) in 0.005811452865600586 sec\n",
      "INFO:root:[DONE] Warming up.\n",
      "INFO:root:HPs: {'opt_config': {'opt': 'adam', 'lr': 0.001, 'decay_rate': None, 'reverse_schedule': False}, 'reg_hyperparams': None, 'epochs': 80, 'batch_size': 128}\n"
     ]
    },
    {
     "data": {
      "application/vnd.jupyter.widget-view+json": {
       "model_id": "",
       "version_major": 2,
       "version_minor": 0
      },
      "text/plain": [
       "Loading to device:   0%|          | 0/58 [00:00<?, ?subject/s]"
      ]
     },
     "metadata": {},
     "output_type": "display_data"
    },
    {
     "data": {
      "application/vnd.jupyter.widget-view+json": {
       "model_id": "69b8e2083be740d8b80657bcda7a14f8",
       "version_major": 2,
       "version_minor": 0
      },
      "text/plain": [
       "  0%|          | 0/80 [00:00<?, ?Epoch/s]"
      ]
     },
     "metadata": {},
     "output_type": "display_data"
    },
    {
     "name": "stderr",
     "output_type": "stream",
     "text": [
      "WARNING:jax._src.dispatch:Finished tracing + transforming jit(convert_element_type) in 0.00019168853759765625 sec\n",
      "WARNING:jax._src.dispatch:Finished tracing + transforming _shuffle for pjit in 0.0005927085876464844 sec\n",
      "DEBUG:jax._src.interpreters.pxla:Compiling _shuffle for with global shapes and types [ShapedArray(key<fry>[]), ShapedArray(int32[890])]. Argument mapping: (GSPMDSharding({replicated}), GSPMDSharding({replicated})).\n",
      "WARNING:jax._src.dispatch:Finished tracing + transforming ravel for pjit in 0.00015735626220703125 sec\n",
      "WARNING:jax._src.dispatch:Finished tracing + transforming threefry_2x32 for pjit in 0.0019445419311523438 sec\n",
      "WARNING:jax._src.dispatch:Finished tracing + transforming _threefry_random_bits_original for pjit in 0.0033767223358154297 sec\n",
      "WARNING:jax._src.dispatch:Finished tracing + transforming fn for pjit in 0.0002741813659667969 sec\n",
      "WARNING:jax._src.dispatch:Finished tracing + transforming fn for pjit in 0.0002646446228027344 sec\n",
      "WARNING:jax._src.dispatch:Finished tracing + transforming <lambda> for pjit in 0.0002493858337402344 sec\n",
      "WARNING:jax._src.dispatch:Finished tracing + transforming <lambda> for pjit in 0.00027680397033691406 sec\n",
      "WARNING:jax._src.dispatch:Finished jaxpr to MLIR module conversion jit(_shuffle) in 0.04226231575012207 sec\n",
      "DEBUG:jax._src.xla_bridge:get_compile_options: num_replicas=1 num_partitions=1 device_assignment=[[CpuDevice(id=0)]]\n",
      "WARNING:jax._src.dispatch:Finished XLA compilation of jit(_shuffle) in 0.08405423164367676 sec\n"
     ]
    },
    {
     "data": {
      "application/vnd.jupyter.widget-view+json": {
       "model_id": "",
       "version_major": 2,
       "version_minor": 0
      },
      "text/plain": [
       "  0%|          | 0/23 [00:00<?, ?Batch/s]"
      ]
     },
     "metadata": {},
     "output_type": "display_data"
    },
    {
     "data": {
      "application/vnd.jupyter.widget-view+json": {
       "model_id": "",
       "version_major": 2,
       "version_minor": 0
      },
      "text/plain": [
       "Loading to device:   0%|          | 0/43 [00:00<?, ?subject/s]"
      ]
     },
     "metadata": {},
     "output_type": "display_data"
    },
    {
     "data": {
      "application/vnd.jupyter.widget-view+json": {
       "model_id": "",
       "version_major": 2,
       "version_minor": 0
      },
      "text/plain": [
       "Embedding:   0%|          | 0/43 [00:00<?, ?subject/s]"
      ]
     },
     "metadata": {},
     "output_type": "display_data"
    },
    {
     "data": {
      "application/vnd.jupyter.widget-view+json": {
       "model_id": "",
       "version_major": 2,
       "version_minor": 0
      },
      "text/plain": [
       "  0%|          | 0.00/46950.89 [00:00<?, ?longitudinal-days/s]"
      ]
     },
     "metadata": {},
     "output_type": "display_data"
    },
    {
     "name": "stderr",
     "output_type": "stream",
     "text": [
      "WARNING:jax._src.dispatch:Finished tracing + transforming jit(concatenate) in 0.0002841949462890625 sec\n",
      "DEBUG:jax._src.interpreters.pxla:Compiling concatenate for with global shapes and types [ShapedArray(float32[16]), ShapedArray(float32[16]), ShapedArray(float32[16]), ShapedArray(float32[16]), ShapedArray(float32[16]), ShapedArray(float32[16]), ShapedArray(float32[16]), ShapedArray(float32[3])]. Argument mapping: (GSPMDSharding({replicated}), GSPMDSharding({replicated}), GSPMDSharding({replicated}), GSPMDSharding({replicated}), GSPMDSharding({replicated}), GSPMDSharding({replicated}), GSPMDSharding({replicated}), GSPMDSharding({replicated})).\n",
      "WARNING:jax._src.dispatch:Finished jaxpr to MLIR module conversion jit(concatenate) in 0.0014774799346923828 sec\n",
      "DEBUG:jax._src.xla_bridge:get_compile_options: num_replicas=1 num_partitions=1 device_assignment=[[CpuDevice(id=0)]]\n",
      "WARNING:jax._src.dispatch:Finished XLA compilation of jit(concatenate) in 0.006035804748535156 sec\n",
      "WARNING:jax._src.dispatch:Finished tracing + transforming jit(convert_element_type) in 0.00028705596923828125 sec\n",
      "WARNING:jax._src.dispatch:Finished tracing + transforming _reduce_sum for pjit in 0.0005276203155517578 sec\n",
      "WARNING:jax._src.dispatch:Finished tracing + transforming _broadcast_arrays for pjit in 0.0003230571746826172 sec\n",
      "WARNING:jax._src.dispatch:Finished tracing + transforming _where for pjit in 0.0013663768768310547 sec\n",
      "WARNING:jax._src.dispatch:Finished tracing + transforming _reduce_sum for pjit in 0.0004696846008300781 sec\n",
      "WARNING:jax._src.dispatch:Finished tracing + transforming nansum for pjit in 0.003571033477783203 sec\n",
      "WARNING:jax._src.dispatch:Finished tracing + transforming nanmean for pjit in 0.006079912185668945 sec\n",
      "DEBUG:jax._src.interpreters.pxla:Compiling nanmean for with global shapes and types [ShapedArray(float32[115])]. Argument mapping: (GSPMDSharding({replicated}),).\n",
      "WARNING:jax._src.dispatch:Finished jaxpr to MLIR module conversion jit(nanmean) in 0.003885984420776367 sec\n",
      "DEBUG:jax._src.xla_bridge:get_compile_options: num_replicas=1 num_partitions=1 device_assignment=[[CpuDevice(id=0)]]\n",
      "WARNING:jax._src.dispatch:Finished XLA compilation of jit(nanmean) in 0.021375417709350586 sec\n",
      "DEBUG:jax._src.interpreters.pxla:Compiling nanmean for with global shapes and types [ShapedArray(bool[115]), ShapedArray(float32[]), ShapedArray(float32[])]. Argument mapping: (GSPMDSharding({replicated}), GSPMDSharding({replicated}), GSPMDSharding({replicated})).\n",
      "WARNING:jax._src.dispatch:Finished jaxpr to MLIR module conversion jit(nanmean) in 0.002675771713256836 sec\n",
      "DEBUG:jax._src.xla_bridge:get_compile_options: num_replicas=1 num_partitions=1 device_assignment=[[CpuDevice(id=0)]]\n",
      "WARNING:jax._src.dispatch:Finished XLA compilation of jit(nanmean) in 0.00834965705871582 sec\n",
      "WARNING:jax._src.dispatch:Finished tracing + transforming jit(slice) in 0.0002079010009765625 sec\n",
      "DEBUG:jax._src.interpreters.pxla:Compiling slice for with global shapes and types [ShapedArray(float32[115])]. Argument mapping: (GSPMDSharding({replicated}),).\n",
      "WARNING:jax._src.dispatch:Finished jaxpr to MLIR module conversion jit(slice) in 0.0014057159423828125 sec\n",
      "DEBUG:jax._src.xla_bridge:get_compile_options: num_replicas=1 num_partitions=1 device_assignment=[[CpuDevice(id=0)]]\n",
      "WARNING:jax._src.dispatch:Finished XLA compilation of jit(slice) in 0.005410671234130859 sec\n",
      "WARNING:jax._src.dispatch:Finished tracing + transforming jit(slice) in 0.0002014636993408203 sec\n",
      "DEBUG:jax._src.interpreters.pxla:Compiling slice for with global shapes and types [ShapedArray(float32[115])]. Argument mapping: (GSPMDSharding({replicated}),).\n",
      "WARNING:jax._src.dispatch:Finished jaxpr to MLIR module conversion jit(slice) in 0.002182483673095703 sec\n",
      "DEBUG:jax._src.xla_bridge:get_compile_options: num_replicas=1 num_partitions=1 device_assignment=[[CpuDevice(id=0)]]\n",
      "WARNING:jax._src.dispatch:Finished XLA compilation of jit(slice) in 0.004729270935058594 sec\n",
      "WARNING:jax._src.dispatch:Finished tracing + transforming jit(slice) in 0.0002040863037109375 sec\n",
      "DEBUG:jax._src.interpreters.pxla:Compiling slice for with global shapes and types [ShapedArray(float32[115])]. Argument mapping: (GSPMDSharding({replicated}),).\n",
      "WARNING:jax._src.dispatch:Finished jaxpr to MLIR module conversion jit(slice) in 0.0014123916625976562 sec\n",
      "DEBUG:jax._src.xla_bridge:get_compile_options: num_replicas=1 num_partitions=1 device_assignment=[[CpuDevice(id=0)]]\n",
      "WARNING:jax._src.dispatch:Finished XLA compilation of jit(slice) in 0.004748106002807617 sec\n",
      "WARNING:jax._src.dispatch:Finished tracing + transforming jit(slice) in 0.00020766258239746094 sec\n",
      "DEBUG:jax._src.interpreters.pxla:Compiling slice for with global shapes and types [ShapedArray(float32[115])]. Argument mapping: (GSPMDSharding({replicated}),).\n",
      "WARNING:jax._src.dispatch:Finished jaxpr to MLIR module conversion jit(slice) in 0.0014531612396240234 sec\n",
      "DEBUG:jax._src.xla_bridge:get_compile_options: num_replicas=1 num_partitions=1 device_assignment=[[CpuDevice(id=0)]]\n",
      "WARNING:jax._src.dispatch:Finished XLA compilation of jit(slice) in 0.004690647125244141 sec\n",
      "WARNING:jax._src.dispatch:Finished tracing + transforming jit(slice) in 0.00019884109497070312 sec\n",
      "DEBUG:jax._src.interpreters.pxla:Compiling slice for with global shapes and types [ShapedArray(float32[115])]. Argument mapping: (GSPMDSharding({replicated}),).\n",
      "WARNING:jax._src.dispatch:Finished jaxpr to MLIR module conversion jit(slice) in 0.0015323162078857422 sec\n",
      "DEBUG:jax._src.xla_bridge:get_compile_options: num_replicas=1 num_partitions=1 device_assignment=[[CpuDevice(id=0)]]\n",
      "WARNING:jax._src.dispatch:Finished XLA compilation of jit(slice) in 0.0047414302825927734 sec\n",
      "WARNING:jax._src.dispatch:Finished tracing + transforming jit(slice) in 0.00019979476928710938 sec\n",
      "DEBUG:jax._src.interpreters.pxla:Compiling slice for with global shapes and types [ShapedArray(float32[115])]. Argument mapping: (GSPMDSharding({replicated}),).\n",
      "WARNING:jax._src.dispatch:Finished jaxpr to MLIR module conversion jit(slice) in 0.0015387535095214844 sec\n",
      "DEBUG:jax._src.xla_bridge:get_compile_options: num_replicas=1 num_partitions=1 device_assignment=[[CpuDevice(id=0)]]\n",
      "WARNING:jax._src.dispatch:Finished XLA compilation of jit(slice) in 0.004718780517578125 sec\n",
      "WARNING:jax._src.dispatch:Finished tracing + transforming jit(slice) in 0.0002129077911376953 sec\n",
      "DEBUG:jax._src.interpreters.pxla:Compiling slice for with global shapes and types [ShapedArray(float32[115])]. Argument mapping: (GSPMDSharding({replicated}),).\n",
      "WARNING:jax._src.dispatch:Finished jaxpr to MLIR module conversion jit(slice) in 0.0014121532440185547 sec\n",
      "DEBUG:jax._src.xla_bridge:get_compile_options: num_replicas=1 num_partitions=1 device_assignment=[[CpuDevice(id=0)]]\n",
      "WARNING:jax._src.dispatch:Finished XLA compilation of jit(slice) in 0.004831552505493164 sec\n",
      "WARNING:jax._src.dispatch:Finished tracing + transforming jit(slice) in 0.0002040863037109375 sec\n",
      "DEBUG:jax._src.interpreters.pxla:Compiling slice for with global shapes and types [ShapedArray(float32[115])]. Argument mapping: (GSPMDSharding({replicated}),).\n",
      "WARNING:jax._src.dispatch:Finished jaxpr to MLIR module conversion jit(slice) in 0.0015609264373779297 sec\n",
      "DEBUG:jax._src.xla_bridge:get_compile_options: num_replicas=1 num_partitions=1 device_assignment=[[CpuDevice(id=0)]]\n",
      "WARNING:jax._src.dispatch:Finished XLA compilation of jit(slice) in 0.004930734634399414 sec\n"
     ]
    },
    {
     "data": {
      "application/vnd.jupyter.widget-view+json": {
       "model_id": "",
       "version_major": 2,
       "version_minor": 0
      },
      "text/plain": [
       "Loading to device:   0%|          | 0/43 [00:00<?, ?subject/s]"
      ]
     },
     "metadata": {},
     "output_type": "display_data"
    },
    {
     "data": {
      "application/vnd.jupyter.widget-view+json": {
       "model_id": "",
       "version_major": 2,
       "version_minor": 0
      },
      "text/plain": [
       "Embedding:   0%|          | 0/43 [00:00<?, ?subject/s]"
      ]
     },
     "metadata": {},
     "output_type": "display_data"
    },
    {
     "data": {
      "application/vnd.jupyter.widget-view+json": {
       "model_id": "",
       "version_major": 2,
       "version_minor": 0
      },
      "text/plain": [
       "  0%|          | 0.00/41277.51 [00:00<?, ?longitudinal-days/s]"
      ]
     },
     "metadata": {},
     "output_type": "display_data"
    },
    {
     "name": "stderr",
     "output_type": "stream",
     "text": [
      "WARNING:jax._src.dispatch:Finished tracing + transforming jit(concatenate) in 0.000324249267578125 sec\n",
      "DEBUG:jax._src.interpreters.pxla:Compiling concatenate for with global shapes and types [ShapedArray(float32[1]), ShapedArray(float32[1]), ShapedArray(float32[1]), ShapedArray(float32[1]), ShapedArray(float32[1]), ShapedArray(float32[1]), ShapedArray(float32[1]), ShapedArray(float32[1]), ShapedArray(float32[1]), ShapedArray(float32[1]), ShapedArray(float32[1]), ShapedArray(float32[1]), ShapedArray(float32[1]), ShapedArray(float32[1]), ShapedArray(float32[1])]. Argument mapping: (GSPMDSharding({replicated}), GSPMDSharding({replicated}), GSPMDSharding({replicated}), GSPMDSharding({replicated}), GSPMDSharding({replicated}), GSPMDSharding({replicated}), GSPMDSharding({replicated}), GSPMDSharding({replicated}), GSPMDSharding({replicated}), GSPMDSharding({replicated}), GSPMDSharding({replicated}), GSPMDSharding({replicated}), GSPMDSharding({replicated}), GSPMDSharding({replicated}), GSPMDSharding({replicated})).\n",
      "WARNING:jax._src.dispatch:Finished jaxpr to MLIR module conversion jit(concatenate) in 0.00168609619140625 sec\n",
      "DEBUG:jax._src.xla_bridge:get_compile_options: num_replicas=1 num_partitions=1 device_assignment=[[CpuDevice(id=0)]]\n",
      "WARNING:jax._src.dispatch:Finished XLA compilation of jit(concatenate) in 0.010611772537231445 sec\n",
      "WARNING:jax._src.dispatch:Finished tracing + transforming jit(concatenate) in 0.0007567405700683594 sec\n",
      "DEBUG:jax._src.interpreters.pxla:Compiling concatenate for with global shapes and types [ShapedArray(float32[16]), ShapedArray(float32[16]), ShapedArray(float32[16]), ShapedArray(float32[16]), ShapedArray(float32[16]), ShapedArray(float32[16]), ShapedArray(float32[16]), ShapedArray(float32[15])]. Argument mapping: (GSPMDSharding({replicated}), GSPMDSharding({replicated}), GSPMDSharding({replicated}), GSPMDSharding({replicated}), GSPMDSharding({replicated}), GSPMDSharding({replicated}), GSPMDSharding({replicated}), GSPMDSharding({replicated})).\n",
      "WARNING:jax._src.dispatch:Finished jaxpr to MLIR module conversion jit(concatenate) in 0.0022306442260742188 sec\n",
      "DEBUG:jax._src.xla_bridge:get_compile_options: num_replicas=1 num_partitions=1 device_assignment=[[CpuDevice(id=0)]]\n",
      "WARNING:jax._src.dispatch:Finished XLA compilation of jit(concatenate) in 0.009701967239379883 sec\n",
      "WARNING:jax._src.dispatch:Finished tracing + transforming jit(convert_element_type) in 0.0005483627319335938 sec\n",
      "WARNING:jax._src.dispatch:Finished tracing + transforming _reduce_sum for pjit in 0.0008797645568847656 sec\n",
      "WARNING:jax._src.dispatch:Finished tracing + transforming _broadcast_arrays for pjit in 0.0005228519439697266 sec\n",
      "WARNING:jax._src.dispatch:Finished tracing + transforming _where for pjit in 0.0023114681243896484 sec\n",
      "WARNING:jax._src.dispatch:Finished tracing + transforming _reduce_sum for pjit in 0.0005893707275390625 sec\n",
      "WARNING:jax._src.dispatch:Finished tracing + transforming nansum for pjit in 0.005212545394897461 sec\n",
      "WARNING:jax._src.dispatch:Finished tracing + transforming nanmean for pjit in 0.008730173110961914 sec\n",
      "DEBUG:jax._src.interpreters.pxla:Compiling nanmean for with global shapes and types [ShapedArray(float32[127])]. Argument mapping: (GSPMDSharding({replicated}),).\n",
      "WARNING:jax._src.dispatch:Finished jaxpr to MLIR module conversion jit(nanmean) in 0.005579710006713867 sec\n",
      "DEBUG:jax._src.xla_bridge:get_compile_options: num_replicas=1 num_partitions=1 device_assignment=[[CpuDevice(id=0)]]\n",
      "WARNING:jax._src.dispatch:Finished XLA compilation of jit(nanmean) in 0.02858877182006836 sec\n",
      "DEBUG:jax._src.interpreters.pxla:Compiling nanmean for with global shapes and types [ShapedArray(bool[127]), ShapedArray(float32[]), ShapedArray(float32[])]. Argument mapping: (GSPMDSharding({replicated}), GSPMDSharding({replicated}), GSPMDSharding({replicated})).\n",
      "WARNING:jax._src.dispatch:Finished jaxpr to MLIR module conversion jit(nanmean) in 0.0025742053985595703 sec\n",
      "DEBUG:jax._src.xla_bridge:get_compile_options: num_replicas=1 num_partitions=1 device_assignment=[[CpuDevice(id=0)]]\n",
      "WARNING:jax._src.dispatch:Finished XLA compilation of jit(nanmean) in 0.008624076843261719 sec\n",
      "WARNING:jax._src.dispatch:Finished tracing + transforming jit(slice) in 0.0002162456512451172 sec\n",
      "DEBUG:jax._src.interpreters.pxla:Compiling slice for with global shapes and types [ShapedArray(float32[127])]. Argument mapping: (GSPMDSharding({replicated}),).\n",
      "WARNING:jax._src.dispatch:Finished jaxpr to MLIR module conversion jit(slice) in 0.0013964176177978516 sec\n",
      "DEBUG:jax._src.xla_bridge:get_compile_options: num_replicas=1 num_partitions=1 device_assignment=[[CpuDevice(id=0)]]\n",
      "WARNING:jax._src.dispatch:Finished XLA compilation of jit(slice) in 0.004769086837768555 sec\n",
      "WARNING:jax._src.dispatch:Finished tracing + transforming jit(slice) in 0.00020313262939453125 sec\n",
      "DEBUG:jax._src.interpreters.pxla:Compiling slice for with global shapes and types [ShapedArray(float32[127])]. Argument mapping: (GSPMDSharding({replicated}),).\n",
      "WARNING:jax._src.dispatch:Finished jaxpr to MLIR module conversion jit(slice) in 0.0015039443969726562 sec\n",
      "DEBUG:jax._src.xla_bridge:get_compile_options: num_replicas=1 num_partitions=1 device_assignment=[[CpuDevice(id=0)]]\n",
      "WARNING:jax._src.dispatch:Finished XLA compilation of jit(slice) in 0.004886627197265625 sec\n",
      "WARNING:jax._src.dispatch:Finished tracing + transforming jit(slice) in 0.0008425712585449219 sec\n",
      "DEBUG:jax._src.interpreters.pxla:Compiling slice for with global shapes and types [ShapedArray(float32[127])]. Argument mapping: (GSPMDSharding({replicated}),).\n",
      "WARNING:jax._src.dispatch:Finished jaxpr to MLIR module conversion jit(slice) in 0.0014965534210205078 sec\n",
      "DEBUG:jax._src.xla_bridge:get_compile_options: num_replicas=1 num_partitions=1 device_assignment=[[CpuDevice(id=0)]]\n",
      "WARNING:jax._src.dispatch:Finished XLA compilation of jit(slice) in 0.004865169525146484 sec\n",
      "WARNING:jax._src.dispatch:Finished tracing + transforming jit(slice) in 0.000202178955078125 sec\n",
      "DEBUG:jax._src.interpreters.pxla:Compiling slice for with global shapes and types [ShapedArray(float32[127])]. Argument mapping: (GSPMDSharding({replicated}),).\n",
      "WARNING:jax._src.dispatch:Finished jaxpr to MLIR module conversion jit(slice) in 0.0015082359313964844 sec\n",
      "DEBUG:jax._src.xla_bridge:get_compile_options: num_replicas=1 num_partitions=1 device_assignment=[[CpuDevice(id=0)]]\n",
      "WARNING:jax._src.dispatch:Finished XLA compilation of jit(slice) in 0.004820346832275391 sec\n",
      "WARNING:jax._src.dispatch:Finished tracing + transforming jit(slice) in 0.00019979476928710938 sec\n",
      "DEBUG:jax._src.interpreters.pxla:Compiling slice for with global shapes and types [ShapedArray(float32[127])]. Argument mapping: (GSPMDSharding({replicated}),).\n",
      "WARNING:jax._src.dispatch:Finished jaxpr to MLIR module conversion jit(slice) in 0.001581430435180664 sec\n",
      "DEBUG:jax._src.xla_bridge:get_compile_options: num_replicas=1 num_partitions=1 device_assignment=[[CpuDevice(id=0)]]\n",
      "WARNING:jax._src.dispatch:Finished XLA compilation of jit(slice) in 0.004875898361206055 sec\n",
      "WARNING:jax._src.dispatch:Finished tracing + transforming jit(slice) in 0.00022840499877929688 sec\n",
      "DEBUG:jax._src.interpreters.pxla:Compiling slice for with global shapes and types [ShapedArray(float32[127])]. Argument mapping: (GSPMDSharding({replicated}),).\n",
      "WARNING:jax._src.dispatch:Finished jaxpr to MLIR module conversion jit(slice) in 0.0015256404876708984 sec\n",
      "DEBUG:jax._src.xla_bridge:get_compile_options: num_replicas=1 num_partitions=1 device_assignment=[[CpuDevice(id=0)]]\n",
      "WARNING:jax._src.dispatch:Finished XLA compilation of jit(slice) in 0.004773378372192383 sec\n",
      "WARNING:jax._src.dispatch:Finished tracing + transforming jit(slice) in 0.00020599365234375 sec\n",
      "DEBUG:jax._src.interpreters.pxla:Compiling slice for with global shapes and types [ShapedArray(float32[127])]. Argument mapping: (GSPMDSharding({replicated}),).\n",
      "WARNING:jax._src.dispatch:Finished jaxpr to MLIR module conversion jit(slice) in 0.0014789104461669922 sec\n",
      "DEBUG:jax._src.xla_bridge:get_compile_options: num_replicas=1 num_partitions=1 device_assignment=[[CpuDevice(id=0)]]\n",
      "WARNING:jax._src.dispatch:Finished XLA compilation of jit(slice) in 0.004854917526245117 sec\n",
      "WARNING:jax._src.dispatch:Finished tracing + transforming jit(slice) in 0.00019812583923339844 sec\n"
     ]
    },
    {
     "name": "stderr",
     "output_type": "stream",
     "text": [
      "DEBUG:jax._src.interpreters.pxla:Compiling slice for with global shapes and types [ShapedArray(float32[127])]. Argument mapping: (GSPMDSharding({replicated}),).\n",
      "WARNING:jax._src.dispatch:Finished jaxpr to MLIR module conversion jit(slice) in 0.0015947818756103516 sec\n",
      "DEBUG:jax._src.xla_bridge:get_compile_options: num_replicas=1 num_partitions=1 device_assignment=[[CpuDevice(id=0)]]\n",
      "WARNING:jax._src.dispatch:Finished XLA compilation of jit(slice) in 0.004953145980834961 sec\n",
      "WARNING:jax._src.dispatch:Finished tracing + transforming jit(slice) in 0.00022101402282714844 sec\n",
      "DEBUG:jax._src.interpreters.pxla:Compiling slice for with global shapes and types [ShapedArray(float32[15])]. Argument mapping: (GSPMDSharding({replicated}),).\n",
      "WARNING:jax._src.dispatch:Finished jaxpr to MLIR module conversion jit(slice) in 0.0015420913696289062 sec\n",
      "DEBUG:jax._src.xla_bridge:get_compile_options: num_replicas=1 num_partitions=1 device_assignment=[[CpuDevice(id=0)]]\n",
      "WARNING:jax._src.dispatch:Finished XLA compilation of jit(slice) in 0.004801034927368164 sec\n",
      "WARNING:jax._src.dispatch:Finished tracing + transforming jit(slice) in 0.00020003318786621094 sec\n",
      "DEBUG:jax._src.interpreters.pxla:Compiling slice for with global shapes and types [ShapedArray(float32[15])]. Argument mapping: (GSPMDSharding({replicated}),).\n",
      "WARNING:jax._src.dispatch:Finished jaxpr to MLIR module conversion jit(slice) in 0.0015022754669189453 sec\n",
      "DEBUG:jax._src.xla_bridge:get_compile_options: num_replicas=1 num_partitions=1 device_assignment=[[CpuDevice(id=0)]]\n",
      "WARNING:jax._src.dispatch:Finished XLA compilation of jit(slice) in 0.0047948360443115234 sec\n",
      "WARNING:jax._src.dispatch:Finished tracing + transforming jit(slice) in 0.00020813941955566406 sec\n",
      "DEBUG:jax._src.interpreters.pxla:Compiling slice for with global shapes and types [ShapedArray(float32[15])]. Argument mapping: (GSPMDSharding({replicated}),).\n",
      "WARNING:jax._src.dispatch:Finished jaxpr to MLIR module conversion jit(slice) in 0.0016274452209472656 sec\n",
      "DEBUG:jax._src.xla_bridge:get_compile_options: num_replicas=1 num_partitions=1 device_assignment=[[CpuDevice(id=0)]]\n",
      "WARNING:jax._src.dispatch:Finished XLA compilation of jit(slice) in 0.0048847198486328125 sec\n",
      "WARNING:jax._src.dispatch:Finished tracing + transforming jit(slice) in 0.00020003318786621094 sec\n",
      "DEBUG:jax._src.interpreters.pxla:Compiling slice for with global shapes and types [ShapedArray(float32[15])]. Argument mapping: (GSPMDSharding({replicated}),).\n",
      "WARNING:jax._src.dispatch:Finished jaxpr to MLIR module conversion jit(slice) in 0.0014882087707519531 sec\n",
      "DEBUG:jax._src.xla_bridge:get_compile_options: num_replicas=1 num_partitions=1 device_assignment=[[CpuDevice(id=0)]]\n",
      "WARNING:jax._src.dispatch:Finished XLA compilation of jit(slice) in 0.004748344421386719 sec\n",
      "WARNING:jax._src.dispatch:Finished tracing + transforming jit(slice) in 0.0002014636993408203 sec\n",
      "DEBUG:jax._src.interpreters.pxla:Compiling slice for with global shapes and types [ShapedArray(float32[15])]. Argument mapping: (GSPMDSharding({replicated}),).\n",
      "WARNING:jax._src.dispatch:Finished jaxpr to MLIR module conversion jit(slice) in 0.0014801025390625 sec\n",
      "DEBUG:jax._src.xla_bridge:get_compile_options: num_replicas=1 num_partitions=1 device_assignment=[[CpuDevice(id=0)]]\n",
      "WARNING:jax._src.dispatch:Finished XLA compilation of jit(slice) in 0.0046405792236328125 sec\n",
      "WARNING:jax._src.dispatch:Finished tracing + transforming jit(slice) in 0.0002238750457763672 sec\n",
      "DEBUG:jax._src.interpreters.pxla:Compiling slice for with global shapes and types [ShapedArray(float32[15])]. Argument mapping: (GSPMDSharding({replicated}),).\n",
      "WARNING:jax._src.dispatch:Finished jaxpr to MLIR module conversion jit(slice) in 0.001674652099609375 sec\n",
      "DEBUG:jax._src.xla_bridge:get_compile_options: num_replicas=1 num_partitions=1 device_assignment=[[CpuDevice(id=0)]]\n",
      "WARNING:jax._src.dispatch:Finished XLA compilation of jit(slice) in 0.004886627197265625 sec\n",
      "WARNING:jax._src.dispatch:Finished tracing + transforming jit(slice) in 0.0002002716064453125 sec\n",
      "DEBUG:jax._src.interpreters.pxla:Compiling slice for with global shapes and types [ShapedArray(float32[15])]. Argument mapping: (GSPMDSharding({replicated}),).\n",
      "WARNING:jax._src.dispatch:Finished jaxpr to MLIR module conversion jit(slice) in 0.0014939308166503906 sec\n",
      "DEBUG:jax._src.xla_bridge:get_compile_options: num_replicas=1 num_partitions=1 device_assignment=[[CpuDevice(id=0)]]\n",
      "WARNING:jax._src.dispatch:Finished XLA compilation of jit(slice) in 0.00462651252746582 sec\n",
      "WARNING:jax._src.dispatch:Finished tracing + transforming jit(slice) in 0.00020194053649902344 sec\n",
      "DEBUG:jax._src.interpreters.pxla:Compiling slice for with global shapes and types [ShapedArray(float32[15])]. Argument mapping: (GSPMDSharding({replicated}),).\n",
      "WARNING:jax._src.dispatch:Finished jaxpr to MLIR module conversion jit(slice) in 0.001489400863647461 sec\n",
      "DEBUG:jax._src.xla_bridge:get_compile_options: num_replicas=1 num_partitions=1 device_assignment=[[CpuDevice(id=0)]]\n",
      "WARNING:jax._src.dispatch:Finished XLA compilation of jit(slice) in 0.004843235015869141 sec\n",
      "WARNING:jax._src.dispatch:Finished tracing + transforming jit(slice) in 0.0001990795135498047 sec\n",
      "DEBUG:jax._src.interpreters.pxla:Compiling slice for with global shapes and types [ShapedArray(float32[15])]. Argument mapping: (GSPMDSharding({replicated}),).\n",
      "WARNING:jax._src.dispatch:Finished jaxpr to MLIR module conversion jit(slice) in 0.0015196800231933594 sec\n",
      "DEBUG:jax._src.xla_bridge:get_compile_options: num_replicas=1 num_partitions=1 device_assignment=[[CpuDevice(id=0)]]\n",
      "WARNING:jax._src.dispatch:Finished XLA compilation of jit(slice) in 0.004717588424682617 sec\n",
      "WARNING:jax._src.dispatch:Finished tracing + transforming jit(slice) in 0.00019931793212890625 sec\n",
      "DEBUG:jax._src.interpreters.pxla:Compiling slice for with global shapes and types [ShapedArray(float32[15])]. Argument mapping: (GSPMDSharding({replicated}),).\n",
      "WARNING:jax._src.dispatch:Finished jaxpr to MLIR module conversion jit(slice) in 0.0016946792602539062 sec\n",
      "DEBUG:jax._src.xla_bridge:get_compile_options: num_replicas=1 num_partitions=1 device_assignment=[[CpuDevice(id=0)]]\n",
      "WARNING:jax._src.dispatch:Finished XLA compilation of jit(slice) in 0.004682302474975586 sec\n",
      "WARNING:jax._src.dispatch:Finished tracing + transforming jit(slice) in 0.00019788742065429688 sec\n",
      "DEBUG:jax._src.interpreters.pxla:Compiling slice for with global shapes and types [ShapedArray(float32[15])]. Argument mapping: (GSPMDSharding({replicated}),).\n",
      "WARNING:jax._src.dispatch:Finished jaxpr to MLIR module conversion jit(slice) in 0.0014758110046386719 sec\n",
      "DEBUG:jax._src.xla_bridge:get_compile_options: num_replicas=1 num_partitions=1 device_assignment=[[CpuDevice(id=0)]]\n",
      "WARNING:jax._src.dispatch:Finished XLA compilation of jit(slice) in 0.004809141159057617 sec\n",
      "WARNING:jax._src.dispatch:Finished tracing + transforming jit(slice) in 0.00020241737365722656 sec\n",
      "DEBUG:jax._src.interpreters.pxla:Compiling slice for with global shapes and types [ShapedArray(float32[15])]. Argument mapping: (GSPMDSharding({replicated}),).\n",
      "WARNING:jax._src.dispatch:Finished jaxpr to MLIR module conversion jit(slice) in 0.0015397071838378906 sec\n",
      "DEBUG:jax._src.xla_bridge:get_compile_options: num_replicas=1 num_partitions=1 device_assignment=[[CpuDevice(id=0)]]\n",
      "WARNING:jax._src.dispatch:Finished XLA compilation of jit(slice) in 0.004659891128540039 sec\n",
      "WARNING:jax._src.dispatch:Finished tracing + transforming jit(slice) in 0.00019860267639160156 sec\n",
      "DEBUG:jax._src.interpreters.pxla:Compiling slice for with global shapes and types [ShapedArray(float32[15])]. Argument mapping: (GSPMDSharding({replicated}),).\n",
      "WARNING:jax._src.dispatch:Finished jaxpr to MLIR module conversion jit(slice) in 0.0015189647674560547 sec\n",
      "DEBUG:jax._src.xla_bridge:get_compile_options: num_replicas=1 num_partitions=1 device_assignment=[[CpuDevice(id=0)]]\n",
      "WARNING:jax._src.dispatch:Finished XLA compilation of jit(slice) in 0.004815578460693359 sec\n",
      "WARNING:jax._src.dispatch:Finished tracing + transforming jit(slice) in 0.0001952648162841797 sec\n",
      "DEBUG:jax._src.interpreters.pxla:Compiling slice for with global shapes and types [ShapedArray(float32[15])]. Argument mapping: (GSPMDSharding({replicated}),).\n"
     ]
    },
    {
     "name": "stderr",
     "output_type": "stream",
     "text": [
      "WARNING:jax._src.dispatch:Finished jaxpr to MLIR module conversion jit(slice) in 0.0015158653259277344 sec\n",
      "DEBUG:jax._src.xla_bridge:get_compile_options: num_replicas=1 num_partitions=1 device_assignment=[[CpuDevice(id=0)]]\n",
      "WARNING:jax._src.dispatch:Finished XLA compilation of jit(slice) in 0.004592418670654297 sec\n",
      "WARNING:jax._src.dispatch:Finished tracing + transforming jit(slice) in 0.0001976490020751953 sec\n",
      "DEBUG:jax._src.interpreters.pxla:Compiling slice for with global shapes and types [ShapedArray(float32[15])]. Argument mapping: (GSPMDSharding({replicated}),).\n",
      "WARNING:jax._src.dispatch:Finished jaxpr to MLIR module conversion jit(slice) in 0.001371622085571289 sec\n",
      "DEBUG:jax._src.xla_bridge:get_compile_options: num_replicas=1 num_partitions=1 device_assignment=[[CpuDevice(id=0)]]\n",
      "WARNING:jax._src.dispatch:Finished XLA compilation of jit(slice) in 0.004826545715332031 sec\n"
     ]
    },
    {
     "data": {
      "application/vnd.jupyter.widget-view+json": {
       "model_id": "",
       "version_major": 2,
       "version_minor": 0
      },
      "text/plain": [
       "Loading to device:   0%|          | 0/25 [00:00<?, ?subject/s]"
      ]
     },
     "metadata": {},
     "output_type": "display_data"
    },
    {
     "data": {
      "application/vnd.jupyter.widget-view+json": {
       "model_id": "",
       "version_major": 2,
       "version_minor": 0
      },
      "text/plain": [
       "Embedding:   0%|          | 0/25 [00:00<?, ?subject/s]"
      ]
     },
     "metadata": {},
     "output_type": "display_data"
    },
    {
     "data": {
      "application/vnd.jupyter.widget-view+json": {
       "model_id": "",
       "version_major": 2,
       "version_minor": 0
      },
      "text/plain": [
       "  0%|          | 0.00/26175.97 [00:00<?, ?longitudinal-days/s]"
      ]
     },
     "metadata": {},
     "output_type": "display_data"
    },
    {
     "name": "stderr",
     "output_type": "stream",
     "text": [
      "WARNING:jax._src.dispatch:Finished tracing + transforming jit(concatenate) in 0.0002734661102294922 sec\n",
      "DEBUG:jax._src.interpreters.pxla:Compiling concatenate for with global shapes and types [ShapedArray(float32[16]), ShapedArray(float32[16]), ShapedArray(float32[16]), ShapedArray(float32[16]), ShapedArray(float32[16]), ShapedArray(float32[16]), ShapedArray(float32[16]), ShapedArray(float32[16])]. Argument mapping: (GSPMDSharding({replicated}), GSPMDSharding({replicated}), GSPMDSharding({replicated}), GSPMDSharding({replicated}), GSPMDSharding({replicated}), GSPMDSharding({replicated}), GSPMDSharding({replicated}), GSPMDSharding({replicated})).\n",
      "WARNING:jax._src.dispatch:Finished jaxpr to MLIR module conversion jit(concatenate) in 0.0015716552734375 sec\n",
      "DEBUG:jax._src.xla_bridge:get_compile_options: num_replicas=1 num_partitions=1 device_assignment=[[CpuDevice(id=0)]]\n",
      "WARNING:jax._src.dispatch:Finished XLA compilation of jit(concatenate) in 0.006905555725097656 sec\n",
      "WARNING:jax._src.dispatch:Finished tracing + transforming jit(convert_element_type) in 0.0003674030303955078 sec\n",
      "WARNING:jax._src.dispatch:Finished tracing + transforming _reduce_sum for pjit in 0.000507354736328125 sec\n",
      "WARNING:jax._src.dispatch:Finished tracing + transforming _broadcast_arrays for pjit in 0.0003325939178466797 sec\n",
      "WARNING:jax._src.dispatch:Finished tracing + transforming _where for pjit in 0.001264333724975586 sec\n",
      "WARNING:jax._src.dispatch:Finished tracing + transforming _reduce_sum for pjit in 0.0005130767822265625 sec\n",
      "WARNING:jax._src.dispatch:Finished tracing + transforming nansum for pjit in 0.003301858901977539 sec\n",
      "WARNING:jax._src.dispatch:Finished tracing + transforming nanmean for pjit in 0.005609035491943359 sec\n",
      "DEBUG:jax._src.interpreters.pxla:Compiling nanmean for with global shapes and types [ShapedArray(float32[128])]. Argument mapping: (GSPMDSharding({replicated}),).\n",
      "WARNING:jax._src.dispatch:Finished jaxpr to MLIR module conversion jit(nanmean) in 0.0036325454711914062 sec\n",
      "DEBUG:jax._src.xla_bridge:get_compile_options: num_replicas=1 num_partitions=1 device_assignment=[[CpuDevice(id=0)]]\n",
      "WARNING:jax._src.dispatch:Finished XLA compilation of jit(nanmean) in 0.020794153213500977 sec\n",
      "DEBUG:jax._src.interpreters.pxla:Compiling nanmean for with global shapes and types [ShapedArray(bool[128]), ShapedArray(float32[]), ShapedArray(float32[])]. Argument mapping: (GSPMDSharding({replicated}), GSPMDSharding({replicated}), GSPMDSharding({replicated})).\n",
      "WARNING:jax._src.dispatch:Finished jaxpr to MLIR module conversion jit(nanmean) in 0.0027303695678710938 sec\n",
      "DEBUG:jax._src.xla_bridge:get_compile_options: num_replicas=1 num_partitions=1 device_assignment=[[CpuDevice(id=0)]]\n",
      "WARNING:jax._src.dispatch:Finished XLA compilation of jit(nanmean) in 0.008987188339233398 sec\n",
      "WARNING:jax._src.dispatch:Finished tracing + transforming jit(slice) in 0.00019216537475585938 sec\n",
      "DEBUG:jax._src.interpreters.pxla:Compiling slice for with global shapes and types [ShapedArray(float32[128])]. Argument mapping: (GSPMDSharding({replicated}),).\n",
      "WARNING:jax._src.dispatch:Finished jaxpr to MLIR module conversion jit(slice) in 0.001394033432006836 sec\n",
      "DEBUG:jax._src.xla_bridge:get_compile_options: num_replicas=1 num_partitions=1 device_assignment=[[CpuDevice(id=0)]]\n",
      "WARNING:jax._src.dispatch:Finished XLA compilation of jit(slice) in 0.004927873611450195 sec\n",
      "WARNING:jax._src.dispatch:Finished tracing + transforming jit(slice) in 0.0002770423889160156 sec\n",
      "DEBUG:jax._src.interpreters.pxla:Compiling slice for with global shapes and types [ShapedArray(float32[128])]. Argument mapping: (GSPMDSharding({replicated}),).\n",
      "WARNING:jax._src.dispatch:Finished jaxpr to MLIR module conversion jit(slice) in 0.0023725032806396484 sec\n",
      "DEBUG:jax._src.xla_bridge:get_compile_options: num_replicas=1 num_partitions=1 device_assignment=[[CpuDevice(id=0)]]\n",
      "WARNING:jax._src.dispatch:Finished XLA compilation of jit(slice) in 0.004862308502197266 sec\n",
      "WARNING:jax._src.dispatch:Finished tracing + transforming jit(slice) in 0.00020647048950195312 sec\n",
      "DEBUG:jax._src.interpreters.pxla:Compiling slice for with global shapes and types [ShapedArray(float32[128])]. Argument mapping: (GSPMDSharding({replicated}),).\n",
      "WARNING:jax._src.dispatch:Finished jaxpr to MLIR module conversion jit(slice) in 0.0015549659729003906 sec\n",
      "DEBUG:jax._src.xla_bridge:get_compile_options: num_replicas=1 num_partitions=1 device_assignment=[[CpuDevice(id=0)]]\n",
      "WARNING:jax._src.dispatch:Finished XLA compilation of jit(slice) in 0.0054438114166259766 sec\n",
      "WARNING:jax._src.dispatch:Finished tracing + transforming jit(slice) in 0.00020599365234375 sec\n",
      "DEBUG:jax._src.interpreters.pxla:Compiling slice for with global shapes and types [ShapedArray(float32[128])]. Argument mapping: (GSPMDSharding({replicated}),).\n",
      "WARNING:jax._src.dispatch:Finished jaxpr to MLIR module conversion jit(slice) in 0.0015721321105957031 sec\n",
      "DEBUG:jax._src.xla_bridge:get_compile_options: num_replicas=1 num_partitions=1 device_assignment=[[CpuDevice(id=0)]]\n",
      "WARNING:jax._src.dispatch:Finished XLA compilation of jit(slice) in 0.004922389984130859 sec\n",
      "WARNING:jax._src.dispatch:Finished tracing + transforming jit(slice) in 0.00020194053649902344 sec\n",
      "DEBUG:jax._src.interpreters.pxla:Compiling slice for with global shapes and types [ShapedArray(float32[128])]. Argument mapping: (GSPMDSharding({replicated}),).\n",
      "WARNING:jax._src.dispatch:Finished jaxpr to MLIR module conversion jit(slice) in 0.001592874526977539 sec\n",
      "DEBUG:jax._src.xla_bridge:get_compile_options: num_replicas=1 num_partitions=1 device_assignment=[[CpuDevice(id=0)]]\n",
      "WARNING:jax._src.dispatch:Finished XLA compilation of jit(slice) in 0.005407810211181641 sec\n",
      "WARNING:jax._src.dispatch:Finished tracing + transforming jit(slice) in 0.00020742416381835938 sec\n",
      "DEBUG:jax._src.interpreters.pxla:Compiling slice for with global shapes and types [ShapedArray(float32[128])]. Argument mapping: (GSPMDSharding({replicated}),).\n",
      "WARNING:jax._src.dispatch:Finished jaxpr to MLIR module conversion jit(slice) in 0.0015399456024169922 sec\n",
      "DEBUG:jax._src.xla_bridge:get_compile_options: num_replicas=1 num_partitions=1 device_assignment=[[CpuDevice(id=0)]]\n",
      "WARNING:jax._src.dispatch:Finished XLA compilation of jit(slice) in 0.0048749446868896484 sec\n",
      "WARNING:jax._src.dispatch:Finished tracing + transforming jit(slice) in 0.00021791458129882812 sec\n",
      "DEBUG:jax._src.interpreters.pxla:Compiling slice for with global shapes and types [ShapedArray(float32[128])]. Argument mapping: (GSPMDSharding({replicated}),).\n",
      "WARNING:jax._src.dispatch:Finished jaxpr to MLIR module conversion jit(slice) in 0.0020661354064941406 sec\n",
      "DEBUG:jax._src.xla_bridge:get_compile_options: num_replicas=1 num_partitions=1 device_assignment=[[CpuDevice(id=0)]]\n",
      "WARNING:jax._src.dispatch:Finished XLA compilation of jit(slice) in 0.004932403564453125 sec\n",
      "WARNING:jax._src.dispatch:Finished tracing + transforming jit(slice) in 0.00020265579223632812 sec\n",
      "DEBUG:jax._src.interpreters.pxla:Compiling slice for with global shapes and types [ShapedArray(float32[128])]. Argument mapping: (GSPMDSharding({replicated}),).\n",
      "WARNING:jax._src.dispatch:Finished jaxpr to MLIR module conversion jit(slice) in 0.0015027523040771484 sec\n",
      "DEBUG:jax._src.xla_bridge:get_compile_options: num_replicas=1 num_partitions=1 device_assignment=[[CpuDevice(id=0)]]\n",
      "WARNING:jax._src.dispatch:Finished XLA compilation of jit(slice) in 0.005232810974121094 sec\n"
     ]
    },
    {
     "data": {
      "application/vnd.jupyter.widget-view+json": {
       "model_id": "",
       "version_major": 2,
       "version_minor": 0
      },
      "text/plain": [
       "Loading to device:   0%|          | 0/27 [00:00<?, ?subject/s]"
      ]
     },
     "metadata": {},
     "output_type": "display_data"
    },
    {
     "data": {
      "application/vnd.jupyter.widget-view+json": {
       "model_id": "",
       "version_major": 2,
       "version_minor": 0
      },
      "text/plain": [
       "Embedding:   0%|          | 0/27 [00:00<?, ?subject/s]"
      ]
     },
     "metadata": {},
     "output_type": "display_data"
    },
    {
     "data": {
      "application/vnd.jupyter.widget-view+json": {
       "model_id": "",
       "version_major": 2,
       "version_minor": 0
      },
      "text/plain": [
       "  0%|          | 0.00/20631.87 [00:00<?, ?longitudinal-days/s]"
      ]
     },
     "metadata": {},
     "output_type": "display_data"
    },
    {
     "name": "stderr",
     "output_type": "stream",
     "text": [
      "WARNING:jax._src.dispatch:Finished tracing + transforming jit(concatenate) in 0.0012865066528320312 sec\n",
      "DEBUG:jax._src.interpreters.pxla:Compiling concatenate for with global shapes and types [ShapedArray(float32[1]), ShapedArray(float32[1]), ShapedArray(float32[1]), ShapedArray(float32[1]), ShapedArray(float32[1]), ShapedArray(float32[1]), ShapedArray(float32[1]), ShapedArray(float32[1]), ShapedArray(float32[1]), ShapedArray(float32[1]), ShapedArray(float32[1]), ShapedArray(float32[1]), ShapedArray(float32[1]), ShapedArray(float32[1])]. Argument mapping: (GSPMDSharding({replicated}), GSPMDSharding({replicated}), GSPMDSharding({replicated}), GSPMDSharding({replicated}), GSPMDSharding({replicated}), GSPMDSharding({replicated}), GSPMDSharding({replicated}), GSPMDSharding({replicated}), GSPMDSharding({replicated}), GSPMDSharding({replicated}), GSPMDSharding({replicated}), GSPMDSharding({replicated}), GSPMDSharding({replicated}), GSPMDSharding({replicated})).\n",
      "WARNING:jax._src.dispatch:Finished jaxpr to MLIR module conversion jit(concatenate) in 0.001535654067993164 sec\n",
      "DEBUG:jax._src.xla_bridge:get_compile_options: num_replicas=1 num_partitions=1 device_assignment=[[CpuDevice(id=0)]]\n",
      "WARNING:jax._src.dispatch:Finished XLA compilation of jit(concatenate) in 0.006470918655395508 sec\n",
      "WARNING:jax._src.dispatch:Finished tracing + transforming jit(concatenate) in 0.0004885196685791016 sec\n",
      "DEBUG:jax._src.interpreters.pxla:Compiling concatenate for with global shapes and types [ShapedArray(float32[16]), ShapedArray(float32[16]), ShapedArray(float32[16]), ShapedArray(float32[16]), ShapedArray(float32[16]), ShapedArray(float32[16]), ShapedArray(float32[16]), ShapedArray(float32[16]), ShapedArray(float32[14])]. Argument mapping: (GSPMDSharding({replicated}), GSPMDSharding({replicated}), GSPMDSharding({replicated}), GSPMDSharding({replicated}), GSPMDSharding({replicated}), GSPMDSharding({replicated}), GSPMDSharding({replicated}), GSPMDSharding({replicated}), GSPMDSharding({replicated})).\n",
      "WARNING:jax._src.dispatch:Finished jaxpr to MLIR module conversion jit(concatenate) in 0.0013077259063720703 sec\n",
      "DEBUG:jax._src.xla_bridge:get_compile_options: num_replicas=1 num_partitions=1 device_assignment=[[CpuDevice(id=0)]]\n",
      "WARNING:jax._src.dispatch:Finished XLA compilation of jit(concatenate) in 0.006282329559326172 sec\n",
      "WARNING:jax._src.dispatch:Finished tracing + transforming jit(convert_element_type) in 0.00043320655822753906 sec\n",
      "WARNING:jax._src.dispatch:Finished tracing + transforming _reduce_sum for pjit in 0.0005540847778320312 sec\n",
      "WARNING:jax._src.dispatch:Finished tracing + transforming _broadcast_arrays for pjit in 0.0003147125244140625 sec\n",
      "WARNING:jax._src.dispatch:Finished tracing + transforming _where for pjit in 0.00118255615234375 sec\n",
      "WARNING:jax._src.dispatch:Finished tracing + transforming _reduce_sum for pjit in 0.00033974647521972656 sec\n",
      "WARNING:jax._src.dispatch:Finished tracing + transforming nansum for pjit in 0.0030558109283447266 sec\n",
      "WARNING:jax._src.dispatch:Finished tracing + transforming nanmean for pjit in 0.005301475524902344 sec\n",
      "DEBUG:jax._src.interpreters.pxla:Compiling nanmean for with global shapes and types [ShapedArray(float32[142])]. Argument mapping: (GSPMDSharding({replicated}),).\n",
      "WARNING:jax._src.dispatch:Finished jaxpr to MLIR module conversion jit(nanmean) in 0.00415492057800293 sec\n",
      "DEBUG:jax._src.xla_bridge:get_compile_options: num_replicas=1 num_partitions=1 device_assignment=[[CpuDevice(id=0)]]\n",
      "WARNING:jax._src.dispatch:Finished XLA compilation of jit(nanmean) in 0.02311849594116211 sec\n",
      "DEBUG:jax._src.interpreters.pxla:Compiling nanmean for with global shapes and types [ShapedArray(bool[142]), ShapedArray(float32[]), ShapedArray(float32[])]. Argument mapping: (GSPMDSharding({replicated}), GSPMDSharding({replicated}), GSPMDSharding({replicated})).\n",
      "WARNING:jax._src.dispatch:Finished jaxpr to MLIR module conversion jit(nanmean) in 0.002620220184326172 sec\n",
      "DEBUG:jax._src.xla_bridge:get_compile_options: num_replicas=1 num_partitions=1 device_assignment=[[CpuDevice(id=0)]]\n",
      "WARNING:jax._src.dispatch:Finished XLA compilation of jit(nanmean) in 0.009165048599243164 sec\n",
      "WARNING:jax._src.dispatch:Finished tracing + transforming jit(slice) in 0.00018930435180664062 sec\n",
      "DEBUG:jax._src.interpreters.pxla:Compiling slice for with global shapes and types [ShapedArray(float32[142])]. Argument mapping: (GSPMDSharding({replicated}),).\n",
      "WARNING:jax._src.dispatch:Finished jaxpr to MLIR module conversion jit(slice) in 0.0015909671783447266 sec\n",
      "DEBUG:jax._src.xla_bridge:get_compile_options: num_replicas=1 num_partitions=1 device_assignment=[[CpuDevice(id=0)]]\n",
      "WARNING:jax._src.dispatch:Finished XLA compilation of jit(slice) in 0.005229949951171875 sec\n",
      "WARNING:jax._src.dispatch:Finished tracing + transforming jit(slice) in 0.00027489662170410156 sec\n",
      "DEBUG:jax._src.interpreters.pxla:Compiling slice for with global shapes and types [ShapedArray(float32[142])]. Argument mapping: (GSPMDSharding({replicated}),).\n",
      "WARNING:jax._src.dispatch:Finished jaxpr to MLIR module conversion jit(slice) in 0.002483367919921875 sec\n",
      "DEBUG:jax._src.xla_bridge:get_compile_options: num_replicas=1 num_partitions=1 device_assignment=[[CpuDevice(id=0)]]\n",
      "WARNING:jax._src.dispatch:Finished XLA compilation of jit(slice) in 0.0051538944244384766 sec\n",
      "WARNING:jax._src.dispatch:Finished tracing + transforming jit(slice) in 0.00030350685119628906 sec\n",
      "DEBUG:jax._src.interpreters.pxla:Compiling slice for with global shapes and types [ShapedArray(float32[142])]. Argument mapping: (GSPMDSharding({replicated}),).\n",
      "WARNING:jax._src.dispatch:Finished jaxpr to MLIR module conversion jit(slice) in 0.002084970474243164 sec\n",
      "DEBUG:jax._src.xla_bridge:get_compile_options: num_replicas=1 num_partitions=1 device_assignment=[[CpuDevice(id=0)]]\n",
      "WARNING:jax._src.dispatch:Finished XLA compilation of jit(slice) in 0.005158424377441406 sec\n",
      "WARNING:jax._src.dispatch:Finished tracing + transforming jit(slice) in 0.00028896331787109375 sec\n",
      "DEBUG:jax._src.interpreters.pxla:Compiling slice for with global shapes and types [ShapedArray(float32[142])]. Argument mapping: (GSPMDSharding({replicated}),).\n",
      "WARNING:jax._src.dispatch:Finished jaxpr to MLIR module conversion jit(slice) in 0.001725912094116211 sec\n",
      "DEBUG:jax._src.xla_bridge:get_compile_options: num_replicas=1 num_partitions=1 device_assignment=[[CpuDevice(id=0)]]\n",
      "WARNING:jax._src.dispatch:Finished XLA compilation of jit(slice) in 0.00522923469543457 sec\n",
      "WARNING:jax._src.dispatch:Finished tracing + transforming jit(slice) in 0.00028896331787109375 sec\n",
      "DEBUG:jax._src.interpreters.pxla:Compiling slice for with global shapes and types [ShapedArray(float32[142])]. Argument mapping: (GSPMDSharding({replicated}),).\n",
      "WARNING:jax._src.dispatch:Finished jaxpr to MLIR module conversion jit(slice) in 0.0016832351684570312 sec\n",
      "DEBUG:jax._src.xla_bridge:get_compile_options: num_replicas=1 num_partitions=1 device_assignment=[[CpuDevice(id=0)]]\n",
      "WARNING:jax._src.dispatch:Finished XLA compilation of jit(slice) in 0.0060427188873291016 sec\n",
      "WARNING:jax._src.dispatch:Finished tracing + transforming jit(slice) in 0.0002868175506591797 sec\n",
      "DEBUG:jax._src.interpreters.pxla:Compiling slice for with global shapes and types [ShapedArray(float32[142])]. Argument mapping: (GSPMDSharding({replicated}),).\n",
      "WARNING:jax._src.dispatch:Finished jaxpr to MLIR module conversion jit(slice) in 0.0018076896667480469 sec\n",
      "DEBUG:jax._src.xla_bridge:get_compile_options: num_replicas=1 num_partitions=1 device_assignment=[[CpuDevice(id=0)]]\n",
      "WARNING:jax._src.dispatch:Finished XLA compilation of jit(slice) in 0.00523066520690918 sec\n",
      "WARNING:jax._src.dispatch:Finished tracing + transforming jit(slice) in 0.0002827644348144531 sec\n",
      "DEBUG:jax._src.interpreters.pxla:Compiling slice for with global shapes and types [ShapedArray(float32[142])]. Argument mapping: (GSPMDSharding({replicated}),).\n",
      "WARNING:jax._src.dispatch:Finished jaxpr to MLIR module conversion jit(slice) in 0.0017342567443847656 sec\n",
      "DEBUG:jax._src.xla_bridge:get_compile_options: num_replicas=1 num_partitions=1 device_assignment=[[CpuDevice(id=0)]]\n",
      "WARNING:jax._src.dispatch:Finished XLA compilation of jit(slice) in 0.005024433135986328 sec\n",
      "WARNING:jax._src.dispatch:Finished tracing + transforming jit(slice) in 0.00020694732666015625 sec\n"
     ]
    },
    {
     "name": "stderr",
     "output_type": "stream",
     "text": [
      "DEBUG:jax._src.interpreters.pxla:Compiling slice for with global shapes and types [ShapedArray(float32[142])]. Argument mapping: (GSPMDSharding({replicated}),).\n",
      "WARNING:jax._src.dispatch:Finished jaxpr to MLIR module conversion jit(slice) in 0.0014617443084716797 sec\n",
      "DEBUG:jax._src.xla_bridge:get_compile_options: num_replicas=1 num_partitions=1 device_assignment=[[CpuDevice(id=0)]]\n",
      "WARNING:jax._src.dispatch:Finished XLA compilation of jit(slice) in 0.0046846866607666016 sec\n",
      "WARNING:jax._src.dispatch:Finished tracing + transforming jit(slice) in 0.00020003318786621094 sec\n",
      "DEBUG:jax._src.interpreters.pxla:Compiling slice for with global shapes and types [ShapedArray(float32[142])]. Argument mapping: (GSPMDSharding({replicated}),).\n",
      "WARNING:jax._src.dispatch:Finished jaxpr to MLIR module conversion jit(slice) in 0.0014247894287109375 sec\n",
      "DEBUG:jax._src.xla_bridge:get_compile_options: num_replicas=1 num_partitions=1 device_assignment=[[CpuDevice(id=0)]]\n",
      "WARNING:jax._src.dispatch:Finished XLA compilation of jit(slice) in 0.00498509407043457 sec\n",
      "WARNING:jax._src.dispatch:Finished tracing + transforming jit(slice) in 0.0001876354217529297 sec\n",
      "DEBUG:jax._src.interpreters.pxla:Compiling slice for with global shapes and types [ShapedArray(float32[14])]. Argument mapping: (GSPMDSharding({replicated}),).\n",
      "WARNING:jax._src.dispatch:Finished jaxpr to MLIR module conversion jit(slice) in 0.0014801025390625 sec\n",
      "DEBUG:jax._src.xla_bridge:get_compile_options: num_replicas=1 num_partitions=1 device_assignment=[[CpuDevice(id=0)]]\n",
      "WARNING:jax._src.dispatch:Finished XLA compilation of jit(slice) in 0.004607200622558594 sec\n",
      "WARNING:jax._src.dispatch:Finished tracing + transforming jit(slice) in 0.00019812583923339844 sec\n",
      "DEBUG:jax._src.interpreters.pxla:Compiling slice for with global shapes and types [ShapedArray(float32[14])]. Argument mapping: (GSPMDSharding({replicated}),).\n",
      "WARNING:jax._src.dispatch:Finished jaxpr to MLIR module conversion jit(slice) in 0.0015604496002197266 sec\n",
      "DEBUG:jax._src.xla_bridge:get_compile_options: num_replicas=1 num_partitions=1 device_assignment=[[CpuDevice(id=0)]]\n",
      "WARNING:jax._src.dispatch:Finished XLA compilation of jit(slice) in 0.004665374755859375 sec\n",
      "WARNING:jax._src.dispatch:Finished tracing + transforming jit(slice) in 0.00020051002502441406 sec\n",
      "DEBUG:jax._src.interpreters.pxla:Compiling slice for with global shapes and types [ShapedArray(float32[14])]. Argument mapping: (GSPMDSharding({replicated}),).\n",
      "WARNING:jax._src.dispatch:Finished jaxpr to MLIR module conversion jit(slice) in 0.0014331340789794922 sec\n",
      "DEBUG:jax._src.xla_bridge:get_compile_options: num_replicas=1 num_partitions=1 device_assignment=[[CpuDevice(id=0)]]\n",
      "WARNING:jax._src.dispatch:Finished XLA compilation of jit(slice) in 0.00455927848815918 sec\n",
      "WARNING:jax._src.dispatch:Finished tracing + transforming jit(slice) in 0.00022459030151367188 sec\n",
      "DEBUG:jax._src.interpreters.pxla:Compiling slice for with global shapes and types [ShapedArray(float32[14])]. Argument mapping: (GSPMDSharding({replicated}),).\n",
      "WARNING:jax._src.dispatch:Finished jaxpr to MLIR module conversion jit(slice) in 0.001758575439453125 sec\n",
      "DEBUG:jax._src.xla_bridge:get_compile_options: num_replicas=1 num_partitions=1 device_assignment=[[CpuDevice(id=0)]]\n",
      "WARNING:jax._src.dispatch:Finished XLA compilation of jit(slice) in 0.0045816898345947266 sec\n",
      "WARNING:jax._src.dispatch:Finished tracing + transforming jit(slice) in 0.00020265579223632812 sec\n",
      "DEBUG:jax._src.interpreters.pxla:Compiling slice for with global shapes and types [ShapedArray(float32[14])]. Argument mapping: (GSPMDSharding({replicated}),).\n",
      "WARNING:jax._src.dispatch:Finished jaxpr to MLIR module conversion jit(slice) in 0.0014612674713134766 sec\n",
      "DEBUG:jax._src.xla_bridge:get_compile_options: num_replicas=1 num_partitions=1 device_assignment=[[CpuDevice(id=0)]]\n",
      "WARNING:jax._src.dispatch:Finished XLA compilation of jit(slice) in 0.0048525333404541016 sec\n",
      "WARNING:jax._src.dispatch:Finished tracing + transforming jit(slice) in 0.00020742416381835938 sec\n",
      "DEBUG:jax._src.interpreters.pxla:Compiling slice for with global shapes and types [ShapedArray(float32[14])]. Argument mapping: (GSPMDSharding({replicated}),).\n",
      "WARNING:jax._src.dispatch:Finished jaxpr to MLIR module conversion jit(slice) in 0.0015935897827148438 sec\n",
      "DEBUG:jax._src.xla_bridge:get_compile_options: num_replicas=1 num_partitions=1 device_assignment=[[CpuDevice(id=0)]]\n",
      "WARNING:jax._src.dispatch:Finished XLA compilation of jit(slice) in 0.004674673080444336 sec\n",
      "WARNING:jax._src.dispatch:Finished tracing + transforming jit(slice) in 0.00020170211791992188 sec\n",
      "DEBUG:jax._src.interpreters.pxla:Compiling slice for with global shapes and types [ShapedArray(float32[14])]. Argument mapping: (GSPMDSharding({replicated}),).\n",
      "WARNING:jax._src.dispatch:Finished jaxpr to MLIR module conversion jit(slice) in 0.00152587890625 sec\n",
      "DEBUG:jax._src.xla_bridge:get_compile_options: num_replicas=1 num_partitions=1 device_assignment=[[CpuDevice(id=0)]]\n",
      "WARNING:jax._src.dispatch:Finished XLA compilation of jit(slice) in 0.004942178726196289 sec\n",
      "WARNING:jax._src.dispatch:Finished tracing + transforming jit(slice) in 0.0001933574676513672 sec\n",
      "DEBUG:jax._src.interpreters.pxla:Compiling slice for with global shapes and types [ShapedArray(float32[14])]. Argument mapping: (GSPMDSharding({replicated}),).\n",
      "WARNING:jax._src.dispatch:Finished jaxpr to MLIR module conversion jit(slice) in 0.0014312267303466797 sec\n",
      "DEBUG:jax._src.xla_bridge:get_compile_options: num_replicas=1 num_partitions=1 device_assignment=[[CpuDevice(id=0)]]\n",
      "WARNING:jax._src.dispatch:Finished XLA compilation of jit(slice) in 0.0047075748443603516 sec\n",
      "WARNING:jax._src.dispatch:Finished tracing + transforming jit(slice) in 0.0002105236053466797 sec\n",
      "DEBUG:jax._src.interpreters.pxla:Compiling slice for with global shapes and types [ShapedArray(float32[14])]. Argument mapping: (GSPMDSharding({replicated}),).\n",
      "WARNING:jax._src.dispatch:Finished jaxpr to MLIR module conversion jit(slice) in 0.0016484260559082031 sec\n",
      "DEBUG:jax._src.xla_bridge:get_compile_options: num_replicas=1 num_partitions=1 device_assignment=[[CpuDevice(id=0)]]\n",
      "WARNING:jax._src.dispatch:Finished XLA compilation of jit(slice) in 0.004796743392944336 sec\n",
      "WARNING:jax._src.dispatch:Finished tracing + transforming jit(slice) in 0.00020384788513183594 sec\n",
      "DEBUG:jax._src.interpreters.pxla:Compiling slice for with global shapes and types [ShapedArray(float32[14])]. Argument mapping: (GSPMDSharding({replicated}),).\n",
      "WARNING:jax._src.dispatch:Finished jaxpr to MLIR module conversion jit(slice) in 0.0014748573303222656 sec\n",
      "DEBUG:jax._src.xla_bridge:get_compile_options: num_replicas=1 num_partitions=1 device_assignment=[[CpuDevice(id=0)]]\n",
      "WARNING:jax._src.dispatch:Finished XLA compilation of jit(slice) in 0.004708290100097656 sec\n",
      "WARNING:jax._src.dispatch:Finished tracing + transforming jit(slice) in 0.000194549560546875 sec\n",
      "DEBUG:jax._src.interpreters.pxla:Compiling slice for with global shapes and types [ShapedArray(float32[14])]. Argument mapping: (GSPMDSharding({replicated}),).\n",
      "WARNING:jax._src.dispatch:Finished jaxpr to MLIR module conversion jit(slice) in 0.0016655921936035156 sec\n",
      "DEBUG:jax._src.xla_bridge:get_compile_options: num_replicas=1 num_partitions=1 device_assignment=[[CpuDevice(id=0)]]\n",
      "WARNING:jax._src.dispatch:Finished XLA compilation of jit(slice) in 0.00471949577331543 sec\n",
      "WARNING:jax._src.dispatch:Finished tracing + transforming jit(slice) in 0.00019741058349609375 sec\n",
      "DEBUG:jax._src.interpreters.pxla:Compiling slice for with global shapes and types [ShapedArray(float32[14])]. Argument mapping: (GSPMDSharding({replicated}),).\n",
      "WARNING:jax._src.dispatch:Finished jaxpr to MLIR module conversion jit(slice) in 0.0015170574188232422 sec\n",
      "DEBUG:jax._src.xla_bridge:get_compile_options: num_replicas=1 num_partitions=1 device_assignment=[[CpuDevice(id=0)]]\n",
      "WARNING:jax._src.dispatch:Finished XLA compilation of jit(slice) in 0.004645586013793945 sec\n",
      "WARNING:jax._src.dispatch:Finished tracing + transforming jit(slice) in 0.00023412704467773438 sec\n",
      "DEBUG:jax._src.interpreters.pxla:Compiling slice for with global shapes and types [ShapedArray(float32[14])]. Argument mapping: (GSPMDSharding({replicated}),).\n"
     ]
    },
    {
     "name": "stderr",
     "output_type": "stream",
     "text": [
      "WARNING:jax._src.dispatch:Finished jaxpr to MLIR module conversion jit(slice) in 0.0016548633575439453 sec\n",
      "DEBUG:jax._src.xla_bridge:get_compile_options: num_replicas=1 num_partitions=1 device_assignment=[[CpuDevice(id=0)]]\n",
      "WARNING:jax._src.dispatch:Finished XLA compilation of jit(slice) in 0.0046732425689697266 sec\n",
      "WARNING:jax._src.dispatch:Finished tracing + transforming jit(slice) in 0.00020074844360351562 sec\n",
      "DEBUG:jax._src.interpreters.pxla:Compiling slice for with global shapes and types [ShapedArray(float32[14])]. Argument mapping: (GSPMDSharding({replicated}),).\n",
      "WARNING:jax._src.dispatch:Finished jaxpr to MLIR module conversion jit(slice) in 0.0014960765838623047 sec\n",
      "DEBUG:jax._src.xla_bridge:get_compile_options: num_replicas=1 num_partitions=1 device_assignment=[[CpuDevice(id=0)]]\n",
      "WARNING:jax._src.dispatch:Finished XLA compilation of jit(slice) in 0.004897356033325195 sec\n"
     ]
    },
    {
     "data": {
      "application/vnd.jupyter.widget-view+json": {
       "model_id": "",
       "version_major": 2,
       "version_minor": 0
      },
      "text/plain": [
       "Loading to device:   0%|          | 0/34 [00:00<?, ?subject/s]"
      ]
     },
     "metadata": {},
     "output_type": "display_data"
    },
    {
     "data": {
      "application/vnd.jupyter.widget-view+json": {
       "model_id": "",
       "version_major": 2,
       "version_minor": 0
      },
      "text/plain": [
       "Embedding:   0%|          | 0/34 [00:00<?, ?subject/s]"
      ]
     },
     "metadata": {},
     "output_type": "display_data"
    },
    {
     "data": {
      "application/vnd.jupyter.widget-view+json": {
       "model_id": "",
       "version_major": 2,
       "version_minor": 0
      },
      "text/plain": [
       "  0%|          | 0.00/36210.48 [00:00<?, ?longitudinal-days/s]"
      ]
     },
     "metadata": {},
     "output_type": "display_data"
    },
    {
     "name": "stderr",
     "output_type": "stream",
     "text": [
      "WARNING:jax._src.dispatch:Finished tracing + transforming jit(concatenate) in 0.0002658367156982422 sec\n",
      "DEBUG:jax._src.interpreters.pxla:Compiling concatenate for with global shapes and types [ShapedArray(float32[16]), ShapedArray(float32[16]), ShapedArray(float32[16]), ShapedArray(float32[16]), ShapedArray(float32[16]), ShapedArray(float32[16]), ShapedArray(float32[16]), ShapedArray(float32[16]), ShapedArray(float32[16]), ShapedArray(float32[4])]. Argument mapping: (GSPMDSharding({replicated}), GSPMDSharding({replicated}), GSPMDSharding({replicated}), GSPMDSharding({replicated}), GSPMDSharding({replicated}), GSPMDSharding({replicated}), GSPMDSharding({replicated}), GSPMDSharding({replicated}), GSPMDSharding({replicated}), GSPMDSharding({replicated})).\n",
      "WARNING:jax._src.dispatch:Finished jaxpr to MLIR module conversion jit(concatenate) in 0.00147247314453125 sec\n",
      "DEBUG:jax._src.xla_bridge:get_compile_options: num_replicas=1 num_partitions=1 device_assignment=[[CpuDevice(id=0)]]\n",
      "WARNING:jax._src.dispatch:Finished XLA compilation of jit(concatenate) in 0.006888151168823242 sec\n",
      "WARNING:jax._src.dispatch:Finished tracing + transforming jit(convert_element_type) in 0.00020241737365722656 sec\n",
      "WARNING:jax._src.dispatch:Finished tracing + transforming _reduce_sum for pjit in 0.00046896934509277344 sec\n",
      "WARNING:jax._src.dispatch:Finished tracing + transforming _broadcast_arrays for pjit in 0.00031256675720214844 sec\n",
      "WARNING:jax._src.dispatch:Finished tracing + transforming _where for pjit in 0.0013647079467773438 sec\n",
      "WARNING:jax._src.dispatch:Finished tracing + transforming _reduce_sum for pjit in 0.0003304481506347656 sec\n",
      "WARNING:jax._src.dispatch:Finished tracing + transforming nansum for pjit in 0.003057241439819336 sec\n",
      "WARNING:jax._src.dispatch:Finished tracing + transforming nanmean for pjit in 0.005349874496459961 sec\n",
      "DEBUG:jax._src.interpreters.pxla:Compiling nanmean for with global shapes and types [ShapedArray(float32[148])]. Argument mapping: (GSPMDSharding({replicated}),).\n",
      "WARNING:jax._src.dispatch:Finished jaxpr to MLIR module conversion jit(nanmean) in 0.0034513473510742188 sec\n",
      "DEBUG:jax._src.xla_bridge:get_compile_options: num_replicas=1 num_partitions=1 device_assignment=[[CpuDevice(id=0)]]\n",
      "WARNING:jax._src.dispatch:Finished XLA compilation of jit(nanmean) in 0.023961782455444336 sec\n",
      "DEBUG:jax._src.interpreters.pxla:Compiling nanmean for with global shapes and types [ShapedArray(bool[148]), ShapedArray(float32[]), ShapedArray(float32[])]. Argument mapping: (GSPMDSharding({replicated}), GSPMDSharding({replicated}), GSPMDSharding({replicated})).\n",
      "WARNING:jax._src.dispatch:Finished jaxpr to MLIR module conversion jit(nanmean) in 0.0033783912658691406 sec\n",
      "DEBUG:jax._src.xla_bridge:get_compile_options: num_replicas=1 num_partitions=1 device_assignment=[[CpuDevice(id=0)]]\n",
      "WARNING:jax._src.dispatch:Finished XLA compilation of jit(nanmean) in 0.009685993194580078 sec\n",
      "WARNING:jax._src.dispatch:Finished tracing + transforming jit(slice) in 0.0001952648162841797 sec\n",
      "DEBUG:jax._src.interpreters.pxla:Compiling slice for with global shapes and types [ShapedArray(float32[148])]. Argument mapping: (GSPMDSharding({replicated}),).\n",
      "WARNING:jax._src.dispatch:Finished jaxpr to MLIR module conversion jit(slice) in 0.0015611648559570312 sec\n",
      "DEBUG:jax._src.xla_bridge:get_compile_options: num_replicas=1 num_partitions=1 device_assignment=[[CpuDevice(id=0)]]\n",
      "WARNING:jax._src.dispatch:Finished XLA compilation of jit(slice) in 0.0051348209381103516 sec\n",
      "WARNING:jax._src.dispatch:Finished tracing + transforming jit(slice) in 0.00020503997802734375 sec\n",
      "DEBUG:jax._src.interpreters.pxla:Compiling slice for with global shapes and types [ShapedArray(float32[148])]. Argument mapping: (GSPMDSharding({replicated}),).\n",
      "WARNING:jax._src.dispatch:Finished jaxpr to MLIR module conversion jit(slice) in 0.0017309188842773438 sec\n",
      "DEBUG:jax._src.xla_bridge:get_compile_options: num_replicas=1 num_partitions=1 device_assignment=[[CpuDevice(id=0)]]\n",
      "WARNING:jax._src.dispatch:Finished XLA compilation of jit(slice) in 0.0051724910736083984 sec\n",
      "WARNING:jax._src.dispatch:Finished tracing + transforming jit(slice) in 0.00020432472229003906 sec\n",
      "DEBUG:jax._src.interpreters.pxla:Compiling slice for with global shapes and types [ShapedArray(float32[148])]. Argument mapping: (GSPMDSharding({replicated}),).\n",
      "WARNING:jax._src.dispatch:Finished jaxpr to MLIR module conversion jit(slice) in 0.001689910888671875 sec\n",
      "DEBUG:jax._src.xla_bridge:get_compile_options: num_replicas=1 num_partitions=1 device_assignment=[[CpuDevice(id=0)]]\n",
      "WARNING:jax._src.dispatch:Finished XLA compilation of jit(slice) in 0.005424022674560547 sec\n",
      "WARNING:jax._src.dispatch:Finished tracing + transforming jit(slice) in 0.00021123886108398438 sec\n",
      "DEBUG:jax._src.interpreters.pxla:Compiling slice for with global shapes and types [ShapedArray(float32[148])]. Argument mapping: (GSPMDSharding({replicated}),).\n",
      "WARNING:jax._src.dispatch:Finished jaxpr to MLIR module conversion jit(slice) in 0.0019981861114501953 sec\n",
      "DEBUG:jax._src.xla_bridge:get_compile_options: num_replicas=1 num_partitions=1 device_assignment=[[CpuDevice(id=0)]]\n",
      "WARNING:jax._src.dispatch:Finished XLA compilation of jit(slice) in 0.005068778991699219 sec\n",
      "WARNING:jax._src.dispatch:Finished tracing + transforming jit(slice) in 0.00022220611572265625 sec\n",
      "DEBUG:jax._src.interpreters.pxla:Compiling slice for with global shapes and types [ShapedArray(float32[148])]. Argument mapping: (GSPMDSharding({replicated}),).\n",
      "WARNING:jax._src.dispatch:Finished jaxpr to MLIR module conversion jit(slice) in 0.0019292831420898438 sec\n",
      "DEBUG:jax._src.xla_bridge:get_compile_options: num_replicas=1 num_partitions=1 device_assignment=[[CpuDevice(id=0)]]\n",
      "WARNING:jax._src.dispatch:Finished XLA compilation of jit(slice) in 0.005286216735839844 sec\n",
      "WARNING:jax._src.dispatch:Finished tracing + transforming jit(slice) in 0.00020694732666015625 sec\n",
      "DEBUG:jax._src.interpreters.pxla:Compiling slice for with global shapes and types [ShapedArray(float32[148])]. Argument mapping: (GSPMDSharding({replicated}),).\n",
      "WARNING:jax._src.dispatch:Finished jaxpr to MLIR module conversion jit(slice) in 0.0016951560974121094 sec\n",
      "DEBUG:jax._src.xla_bridge:get_compile_options: num_replicas=1 num_partitions=1 device_assignment=[[CpuDevice(id=0)]]\n",
      "WARNING:jax._src.dispatch:Finished XLA compilation of jit(slice) in 0.005312204360961914 sec\n",
      "WARNING:jax._src.dispatch:Finished tracing + transforming jit(slice) in 0.00021314620971679688 sec\n",
      "DEBUG:jax._src.interpreters.pxla:Compiling slice for with global shapes and types [ShapedArray(float32[148])]. Argument mapping: (GSPMDSharding({replicated}),).\n",
      "WARNING:jax._src.dispatch:Finished jaxpr to MLIR module conversion jit(slice) in 0.0017545223236083984 sec\n",
      "DEBUG:jax._src.xla_bridge:get_compile_options: num_replicas=1 num_partitions=1 device_assignment=[[CpuDevice(id=0)]]\n",
      "WARNING:jax._src.dispatch:Finished XLA compilation of jit(slice) in 0.005262851715087891 sec\n",
      "WARNING:jax._src.dispatch:Finished tracing + transforming jit(slice) in 0.00019812583923339844 sec\n",
      "DEBUG:jax._src.interpreters.pxla:Compiling slice for with global shapes and types [ShapedArray(float32[148])]. Argument mapping: (GSPMDSharding({replicated}),).\n",
      "WARNING:jax._src.dispatch:Finished jaxpr to MLIR module conversion jit(slice) in 0.0018222332000732422 sec\n",
      "DEBUG:jax._src.xla_bridge:get_compile_options: num_replicas=1 num_partitions=1 device_assignment=[[CpuDevice(id=0)]]\n",
      "WARNING:jax._src.dispatch:Finished XLA compilation of jit(slice) in 0.0053517818450927734 sec\n",
      "WARNING:jax._src.dispatch:Finished tracing + transforming jit(slice) in 0.0001995563507080078 sec\n",
      "DEBUG:jax._src.interpreters.pxla:Compiling slice for with global shapes and types [ShapedArray(float32[148])]. Argument mapping: (GSPMDSharding({replicated}),).\n",
      "WARNING:jax._src.dispatch:Finished jaxpr to MLIR module conversion jit(slice) in 0.0024139881134033203 sec\n",
      "DEBUG:jax._src.xla_bridge:get_compile_options: num_replicas=1 num_partitions=1 device_assignment=[[CpuDevice(id=0)]]\n",
      "WARNING:jax._src.dispatch:Finished XLA compilation of jit(slice) in 0.007239580154418945 sec\n",
      "WARNING:jax._src.dispatch:Finished tracing + transforming jit(slice) in 0.0002930164337158203 sec\n"
     ]
    },
    {
     "name": "stderr",
     "output_type": "stream",
     "text": [
      "DEBUG:jax._src.interpreters.pxla:Compiling slice for with global shapes and types [ShapedArray(float32[148])]. Argument mapping: (GSPMDSharding({replicated}),).\n",
      "WARNING:jax._src.dispatch:Finished jaxpr to MLIR module conversion jit(slice) in 0.002498626708984375 sec\n",
      "DEBUG:jax._src.xla_bridge:get_compile_options: num_replicas=1 num_partitions=1 device_assignment=[[CpuDevice(id=0)]]\n",
      "WARNING:jax._src.dispatch:Finished XLA compilation of jit(slice) in 0.007538795471191406 sec\n"
     ]
    },
    {
     "data": {
      "application/vnd.jupyter.widget-view+json": {
       "model_id": "",
       "version_major": 2,
       "version_minor": 0
      },
      "text/plain": [
       "Loading to device:   0%|          | 0/54 [00:00<?, ?subject/s]"
      ]
     },
     "metadata": {},
     "output_type": "display_data"
    },
    {
     "data": {
      "application/vnd.jupyter.widget-view+json": {
       "model_id": "",
       "version_major": 2,
       "version_minor": 0
      },
      "text/plain": [
       "Embedding:   0%|          | 0/54 [00:00<?, ?subject/s]"
      ]
     },
     "metadata": {},
     "output_type": "display_data"
    },
    {
     "data": {
      "application/vnd.jupyter.widget-view+json": {
       "model_id": "",
       "version_major": 2,
       "version_minor": 0
      },
      "text/plain": [
       "  0%|          | 0.00/43068.03 [00:00<?, ?longitudinal-days/s]"
      ]
     },
     "metadata": {},
     "output_type": "display_data"
    },
    {
     "name": "stderr",
     "output_type": "stream",
     "text": [
      "WARNING:jax._src.dispatch:Finished tracing + transforming jit(concatenate) in 0.0002880096435546875 sec\n",
      "DEBUG:jax._src.interpreters.pxla:Compiling concatenate for with global shapes and types [ShapedArray(float32[16]), ShapedArray(float32[16]), ShapedArray(float32[16]), ShapedArray(float32[16]), ShapedArray(float32[16]), ShapedArray(float32[16]), ShapedArray(float32[16]), ShapedArray(float32[16]), ShapedArray(float32[3])]. Argument mapping: (GSPMDSharding({replicated}), GSPMDSharding({replicated}), GSPMDSharding({replicated}), GSPMDSharding({replicated}), GSPMDSharding({replicated}), GSPMDSharding({replicated}), GSPMDSharding({replicated}), GSPMDSharding({replicated}), GSPMDSharding({replicated})).\n",
      "WARNING:jax._src.dispatch:Finished jaxpr to MLIR module conversion jit(concatenate) in 0.0016078948974609375 sec\n",
      "DEBUG:jax._src.xla_bridge:get_compile_options: num_replicas=1 num_partitions=1 device_assignment=[[CpuDevice(id=0)]]\n",
      "WARNING:jax._src.dispatch:Finished XLA compilation of jit(concatenate) in 0.007509469985961914 sec\n",
      "WARNING:jax._src.dispatch:Finished tracing + transforming jit(convert_element_type) in 0.0004889965057373047 sec\n",
      "WARNING:jax._src.dispatch:Finished tracing + transforming _reduce_sum for pjit in 0.0008866786956787109 sec\n",
      "WARNING:jax._src.dispatch:Finished tracing + transforming _broadcast_arrays for pjit in 0.0003371238708496094 sec\n",
      "WARNING:jax._src.dispatch:Finished tracing + transforming _where for pjit in 0.0013158321380615234 sec\n",
      "WARNING:jax._src.dispatch:Finished tracing + transforming _reduce_sum for pjit in 0.0005202293395996094 sec\n",
      "WARNING:jax._src.dispatch:Finished tracing + transforming nansum for pjit in 0.003480195999145508 sec\n",
      "WARNING:jax._src.dispatch:Finished tracing + transforming nanmean for pjit in 0.006804943084716797 sec\n",
      "DEBUG:jax._src.interpreters.pxla:Compiling nanmean for with global shapes and types [ShapedArray(float32[131])]. Argument mapping: (GSPMDSharding({replicated}),).\n",
      "WARNING:jax._src.dispatch:Finished jaxpr to MLIR module conversion jit(nanmean) in 0.0036237239837646484 sec\n",
      "DEBUG:jax._src.xla_bridge:get_compile_options: num_replicas=1 num_partitions=1 device_assignment=[[CpuDevice(id=0)]]\n",
      "WARNING:jax._src.dispatch:Finished XLA compilation of jit(nanmean) in 0.024925947189331055 sec\n",
      "DEBUG:jax._src.interpreters.pxla:Compiling nanmean for with global shapes and types [ShapedArray(bool[131]), ShapedArray(float32[]), ShapedArray(float32[])]. Argument mapping: (GSPMDSharding({replicated}), GSPMDSharding({replicated}), GSPMDSharding({replicated})).\n",
      "WARNING:jax._src.dispatch:Finished jaxpr to MLIR module conversion jit(nanmean) in 0.0026845932006835938 sec\n",
      "DEBUG:jax._src.xla_bridge:get_compile_options: num_replicas=1 num_partitions=1 device_assignment=[[CpuDevice(id=0)]]\n",
      "WARNING:jax._src.dispatch:Finished XLA compilation of jit(nanmean) in 0.009510993957519531 sec\n",
      "WARNING:jax._src.dispatch:Finished tracing + transforming jit(slice) in 0.00020766258239746094 sec\n",
      "DEBUG:jax._src.interpreters.pxla:Compiling slice for with global shapes and types [ShapedArray(float32[131])]. Argument mapping: (GSPMDSharding({replicated}),).\n",
      "WARNING:jax._src.dispatch:Finished jaxpr to MLIR module conversion jit(slice) in 0.0016181468963623047 sec\n",
      "DEBUG:jax._src.xla_bridge:get_compile_options: num_replicas=1 num_partitions=1 device_assignment=[[CpuDevice(id=0)]]\n",
      "WARNING:jax._src.dispatch:Finished XLA compilation of jit(slice) in 0.005315303802490234 sec\n",
      "WARNING:jax._src.dispatch:Finished tracing + transforming jit(slice) in 0.00022029876708984375 sec\n",
      "DEBUG:jax._src.interpreters.pxla:Compiling slice for with global shapes and types [ShapedArray(float32[131])]. Argument mapping: (GSPMDSharding({replicated}),).\n",
      "WARNING:jax._src.dispatch:Finished jaxpr to MLIR module conversion jit(slice) in 0.003170490264892578 sec\n",
      "DEBUG:jax._src.xla_bridge:get_compile_options: num_replicas=1 num_partitions=1 device_assignment=[[CpuDevice(id=0)]]\n",
      "WARNING:jax._src.dispatch:Finished XLA compilation of jit(slice) in 0.0052530765533447266 sec\n",
      "WARNING:jax._src.dispatch:Finished tracing + transforming jit(slice) in 0.0002295970916748047 sec\n",
      "DEBUG:jax._src.interpreters.pxla:Compiling slice for with global shapes and types [ShapedArray(float32[131])]. Argument mapping: (GSPMDSharding({replicated}),).\n",
      "WARNING:jax._src.dispatch:Finished jaxpr to MLIR module conversion jit(slice) in 0.0017588138580322266 sec\n",
      "DEBUG:jax._src.xla_bridge:get_compile_options: num_replicas=1 num_partitions=1 device_assignment=[[CpuDevice(id=0)]]\n",
      "WARNING:jax._src.dispatch:Finished XLA compilation of jit(slice) in 0.005306720733642578 sec\n",
      "WARNING:jax._src.dispatch:Finished tracing + transforming jit(slice) in 0.00022101402282714844 sec\n",
      "DEBUG:jax._src.interpreters.pxla:Compiling slice for with global shapes and types [ShapedArray(float32[131])]. Argument mapping: (GSPMDSharding({replicated}),).\n",
      "WARNING:jax._src.dispatch:Finished jaxpr to MLIR module conversion jit(slice) in 0.0017294883728027344 sec\n",
      "DEBUG:jax._src.xla_bridge:get_compile_options: num_replicas=1 num_partitions=1 device_assignment=[[CpuDevice(id=0)]]\n",
      "WARNING:jax._src.dispatch:Finished XLA compilation of jit(slice) in 0.005296468734741211 sec\n",
      "WARNING:jax._src.dispatch:Finished tracing + transforming jit(slice) in 0.0002315044403076172 sec\n",
      "DEBUG:jax._src.interpreters.pxla:Compiling slice for with global shapes and types [ShapedArray(float32[131])]. Argument mapping: (GSPMDSharding({replicated}),).\n",
      "WARNING:jax._src.dispatch:Finished jaxpr to MLIR module conversion jit(slice) in 0.0026302337646484375 sec\n",
      "DEBUG:jax._src.xla_bridge:get_compile_options: num_replicas=1 num_partitions=1 device_assignment=[[CpuDevice(id=0)]]\n",
      "WARNING:jax._src.dispatch:Finished XLA compilation of jit(slice) in 0.005743503570556641 sec\n",
      "WARNING:jax._src.dispatch:Finished tracing + transforming jit(slice) in 0.00022721290588378906 sec\n",
      "DEBUG:jax._src.interpreters.pxla:Compiling slice for with global shapes and types [ShapedArray(float32[131])]. Argument mapping: (GSPMDSharding({replicated}),).\n",
      "WARNING:jax._src.dispatch:Finished jaxpr to MLIR module conversion jit(slice) in 0.001743316650390625 sec\n",
      "DEBUG:jax._src.xla_bridge:get_compile_options: num_replicas=1 num_partitions=1 device_assignment=[[CpuDevice(id=0)]]\n",
      "WARNING:jax._src.dispatch:Finished XLA compilation of jit(slice) in 0.005326509475708008 sec\n",
      "WARNING:jax._src.dispatch:Finished tracing + transforming jit(slice) in 0.0002143383026123047 sec\n",
      "DEBUG:jax._src.interpreters.pxla:Compiling slice for with global shapes and types [ShapedArray(float32[131])]. Argument mapping: (GSPMDSharding({replicated}),).\n",
      "WARNING:jax._src.dispatch:Finished jaxpr to MLIR module conversion jit(slice) in 0.0020105838775634766 sec\n",
      "DEBUG:jax._src.xla_bridge:get_compile_options: num_replicas=1 num_partitions=1 device_assignment=[[CpuDevice(id=0)]]\n",
      "WARNING:jax._src.dispatch:Finished XLA compilation of jit(slice) in 0.005544900894165039 sec\n",
      "WARNING:jax._src.dispatch:Finished tracing + transforming jit(slice) in 0.000217437744140625 sec\n",
      "DEBUG:jax._src.interpreters.pxla:Compiling slice for with global shapes and types [ShapedArray(float32[131])]. Argument mapping: (GSPMDSharding({replicated}),).\n",
      "WARNING:jax._src.dispatch:Finished jaxpr to MLIR module conversion jit(slice) in 0.0023910999298095703 sec\n",
      "DEBUG:jax._src.xla_bridge:get_compile_options: num_replicas=1 num_partitions=1 device_assignment=[[CpuDevice(id=0)]]\n",
      "WARNING:jax._src.dispatch:Finished XLA compilation of jit(slice) in 0.005746603012084961 sec\n",
      "WARNING:jax._src.dispatch:Finished tracing + transforming jit(slice) in 0.00021767616271972656 sec\n",
      "DEBUG:jax._src.interpreters.pxla:Compiling slice for with global shapes and types [ShapedArray(float32[131])]. Argument mapping: (GSPMDSharding({replicated}),).\n",
      "WARNING:jax._src.dispatch:Finished jaxpr to MLIR module conversion jit(slice) in 0.0019555091857910156 sec\n",
      "DEBUG:jax._src.xla_bridge:get_compile_options: num_replicas=1 num_partitions=1 device_assignment=[[CpuDevice(id=0)]]\n",
      "WARNING:jax._src.dispatch:Finished XLA compilation of jit(slice) in 0.006656169891357422 sec\n"
     ]
    },
    {
     "data": {
      "application/vnd.jupyter.widget-view+json": {
       "model_id": "",
       "version_major": 2,
       "version_minor": 0
      },
      "text/plain": [
       "Loading to device:   0%|          | 0/33 [00:00<?, ?subject/s]"
      ]
     },
     "metadata": {},
     "output_type": "display_data"
    },
    {
     "data": {
      "application/vnd.jupyter.widget-view+json": {
       "model_id": "",
       "version_major": 2,
       "version_minor": 0
      },
      "text/plain": [
       "Embedding:   0%|          | 0/33 [00:00<?, ?subject/s]"
      ]
     },
     "metadata": {},
     "output_type": "display_data"
    },
    {
     "data": {
      "application/vnd.jupyter.widget-view+json": {
       "model_id": "",
       "version_major": 2,
       "version_minor": 0
      },
      "text/plain": [
       "  0%|          | 0.00/26614.58 [00:00<?, ?longitudinal-days/s]"
      ]
     },
     "metadata": {},
     "output_type": "display_data"
    },
    {
     "name": "stderr",
     "output_type": "stream",
     "text": [
      "WARNING:jax._src.dispatch:Finished tracing + transforming jit(concatenate) in 0.0002713203430175781 sec\n",
      "DEBUG:jax._src.interpreters.pxla:Compiling concatenate for with global shapes and types [ShapedArray(float32[16]), ShapedArray(float32[16]), ShapedArray(float32[16]), ShapedArray(float32[16]), ShapedArray(float32[16]), ShapedArray(float32[16]), ShapedArray(float32[16]), ShapedArray(float32[16]), ShapedArray(float32[5])]. Argument mapping: (GSPMDSharding({replicated}), GSPMDSharding({replicated}), GSPMDSharding({replicated}), GSPMDSharding({replicated}), GSPMDSharding({replicated}), GSPMDSharding({replicated}), GSPMDSharding({replicated}), GSPMDSharding({replicated}), GSPMDSharding({replicated})).\n",
      "WARNING:jax._src.dispatch:Finished jaxpr to MLIR module conversion jit(concatenate) in 0.0015015602111816406 sec\n",
      "DEBUG:jax._src.xla_bridge:get_compile_options: num_replicas=1 num_partitions=1 device_assignment=[[CpuDevice(id=0)]]\n",
      "WARNING:jax._src.dispatch:Finished XLA compilation of jit(concatenate) in 0.0067157745361328125 sec\n",
      "WARNING:jax._src.dispatch:Finished tracing + transforming jit(convert_element_type) in 0.00040602684020996094 sec\n",
      "WARNING:jax._src.dispatch:Finished tracing + transforming _reduce_sum for pjit in 0.0005095005035400391 sec\n",
      "WARNING:jax._src.dispatch:Finished tracing + transforming _broadcast_arrays for pjit in 0.0003364086151123047 sec\n",
      "WARNING:jax._src.dispatch:Finished tracing + transforming _where for pjit in 0.0015316009521484375 sec\n",
      "WARNING:jax._src.dispatch:Finished tracing + transforming _reduce_sum for pjit in 0.00037384033203125 sec\n",
      "WARNING:jax._src.dispatch:Finished tracing + transforming nansum for pjit in 0.0035903453826904297 sec\n",
      "WARNING:jax._src.dispatch:Finished tracing + transforming nanmean for pjit in 0.006398439407348633 sec\n",
      "DEBUG:jax._src.interpreters.pxla:Compiling nanmean for with global shapes and types [ShapedArray(float32[133])]. Argument mapping: (GSPMDSharding({replicated}),).\n",
      "WARNING:jax._src.dispatch:Finished jaxpr to MLIR module conversion jit(nanmean) in 0.003701448440551758 sec\n",
      "DEBUG:jax._src.xla_bridge:get_compile_options: num_replicas=1 num_partitions=1 device_assignment=[[CpuDevice(id=0)]]\n",
      "WARNING:jax._src.dispatch:Finished XLA compilation of jit(nanmean) in 0.023949623107910156 sec\n",
      "DEBUG:jax._src.interpreters.pxla:Compiling nanmean for with global shapes and types [ShapedArray(bool[133]), ShapedArray(float32[]), ShapedArray(float32[])]. Argument mapping: (GSPMDSharding({replicated}), GSPMDSharding({replicated}), GSPMDSharding({replicated})).\n",
      "WARNING:jax._src.dispatch:Finished jaxpr to MLIR module conversion jit(nanmean) in 0.0026345252990722656 sec\n",
      "DEBUG:jax._src.xla_bridge:get_compile_options: num_replicas=1 num_partitions=1 device_assignment=[[CpuDevice(id=0)]]\n",
      "WARNING:jax._src.dispatch:Finished XLA compilation of jit(nanmean) in 0.009174346923828125 sec\n",
      "WARNING:jax._src.dispatch:Finished tracing + transforming jit(slice) in 0.00019550323486328125 sec\n",
      "DEBUG:jax._src.interpreters.pxla:Compiling slice for with global shapes and types [ShapedArray(float32[133])]. Argument mapping: (GSPMDSharding({replicated}),).\n",
      "WARNING:jax._src.dispatch:Finished jaxpr to MLIR module conversion jit(slice) in 0.0013668537139892578 sec\n",
      "DEBUG:jax._src.xla_bridge:get_compile_options: num_replicas=1 num_partitions=1 device_assignment=[[CpuDevice(id=0)]]\n",
      "WARNING:jax._src.dispatch:Finished XLA compilation of jit(slice) in 0.0047113895416259766 sec\n",
      "WARNING:jax._src.dispatch:Finished tracing + transforming jit(slice) in 0.00020599365234375 sec\n",
      "DEBUG:jax._src.interpreters.pxla:Compiling slice for with global shapes and types [ShapedArray(float32[133])]. Argument mapping: (GSPMDSharding({replicated}),).\n",
      "WARNING:jax._src.dispatch:Finished jaxpr to MLIR module conversion jit(slice) in 0.002098560333251953 sec\n",
      "DEBUG:jax._src.xla_bridge:get_compile_options: num_replicas=1 num_partitions=1 device_assignment=[[CpuDevice(id=0)]]\n",
      "WARNING:jax._src.dispatch:Finished XLA compilation of jit(slice) in 0.004924774169921875 sec\n",
      "WARNING:jax._src.dispatch:Finished tracing + transforming jit(slice) in 0.00020837783813476562 sec\n",
      "DEBUG:jax._src.interpreters.pxla:Compiling slice for with global shapes and types [ShapedArray(float32[133])]. Argument mapping: (GSPMDSharding({replicated}),).\n",
      "WARNING:jax._src.dispatch:Finished jaxpr to MLIR module conversion jit(slice) in 0.0015349388122558594 sec\n",
      "DEBUG:jax._src.xla_bridge:get_compile_options: num_replicas=1 num_partitions=1 device_assignment=[[CpuDevice(id=0)]]\n",
      "WARNING:jax._src.dispatch:Finished XLA compilation of jit(slice) in 0.004820585250854492 sec\n",
      "WARNING:jax._src.dispatch:Finished tracing + transforming jit(slice) in 0.00020956993103027344 sec\n",
      "DEBUG:jax._src.interpreters.pxla:Compiling slice for with global shapes and types [ShapedArray(float32[133])]. Argument mapping: (GSPMDSharding({replicated}),).\n",
      "WARNING:jax._src.dispatch:Finished jaxpr to MLIR module conversion jit(slice) in 0.001514434814453125 sec\n",
      "DEBUG:jax._src.xla_bridge:get_compile_options: num_replicas=1 num_partitions=1 device_assignment=[[CpuDevice(id=0)]]\n",
      "WARNING:jax._src.dispatch:Finished XLA compilation of jit(slice) in 0.005101680755615234 sec\n",
      "WARNING:jax._src.dispatch:Finished tracing + transforming jit(slice) in 0.0002090930938720703 sec\n",
      "DEBUG:jax._src.interpreters.pxla:Compiling slice for with global shapes and types [ShapedArray(float32[133])]. Argument mapping: (GSPMDSharding({replicated}),).\n",
      "WARNING:jax._src.dispatch:Finished jaxpr to MLIR module conversion jit(slice) in 0.0015153884887695312 sec\n",
      "DEBUG:jax._src.xla_bridge:get_compile_options: num_replicas=1 num_partitions=1 device_assignment=[[CpuDevice(id=0)]]\n",
      "WARNING:jax._src.dispatch:Finished XLA compilation of jit(slice) in 0.005073070526123047 sec\n",
      "WARNING:jax._src.dispatch:Finished tracing + transforming jit(slice) in 0.00020194053649902344 sec\n",
      "DEBUG:jax._src.interpreters.pxla:Compiling slice for with global shapes and types [ShapedArray(float32[133])]. Argument mapping: (GSPMDSharding({replicated}),).\n",
      "WARNING:jax._src.dispatch:Finished jaxpr to MLIR module conversion jit(slice) in 0.0014715194702148438 sec\n",
      "DEBUG:jax._src.xla_bridge:get_compile_options: num_replicas=1 num_partitions=1 device_assignment=[[CpuDevice(id=0)]]\n",
      "WARNING:jax._src.dispatch:Finished XLA compilation of jit(slice) in 0.004756450653076172 sec\n",
      "WARNING:jax._src.dispatch:Finished tracing + transforming jit(slice) in 0.00020456314086914062 sec\n",
      "DEBUG:jax._src.interpreters.pxla:Compiling slice for with global shapes and types [ShapedArray(float32[133])]. Argument mapping: (GSPMDSharding({replicated}),).\n",
      "WARNING:jax._src.dispatch:Finished jaxpr to MLIR module conversion jit(slice) in 0.0014617443084716797 sec\n",
      "DEBUG:jax._src.xla_bridge:get_compile_options: num_replicas=1 num_partitions=1 device_assignment=[[CpuDevice(id=0)]]\n",
      "WARNING:jax._src.dispatch:Finished XLA compilation of jit(slice) in 0.004954814910888672 sec\n",
      "WARNING:jax._src.dispatch:Finished tracing + transforming jit(slice) in 0.00020265579223632812 sec\n",
      "DEBUG:jax._src.interpreters.pxla:Compiling slice for with global shapes and types [ShapedArray(float32[133])]. Argument mapping: (GSPMDSharding({replicated}),).\n",
      "WARNING:jax._src.dispatch:Finished jaxpr to MLIR module conversion jit(slice) in 0.0014801025390625 sec\n",
      "DEBUG:jax._src.xla_bridge:get_compile_options: num_replicas=1 num_partitions=1 device_assignment=[[CpuDevice(id=0)]]\n",
      "WARNING:jax._src.dispatch:Finished XLA compilation of jit(slice) in 0.005515098571777344 sec\n",
      "WARNING:jax._src.dispatch:Finished tracing + transforming jit(slice) in 0.0002143383026123047 sec\n",
      "DEBUG:jax._src.interpreters.pxla:Compiling slice for with global shapes and types [ShapedArray(float32[133])]. Argument mapping: (GSPMDSharding({replicated}),).\n",
      "WARNING:jax._src.dispatch:Finished jaxpr to MLIR module conversion jit(slice) in 0.0017254352569580078 sec\n",
      "DEBUG:jax._src.xla_bridge:get_compile_options: num_replicas=1 num_partitions=1 device_assignment=[[CpuDevice(id=0)]]\n",
      "WARNING:jax._src.dispatch:Finished XLA compilation of jit(slice) in 0.005066633224487305 sec\n"
     ]
    },
    {
     "data": {
      "application/vnd.jupyter.widget-view+json": {
       "model_id": "",
       "version_major": 2,
       "version_minor": 0
      },
      "text/plain": [
       "Loading to device:   0%|          | 0/39 [00:00<?, ?subject/s]"
      ]
     },
     "metadata": {},
     "output_type": "display_data"
    },
    {
     "data": {
      "application/vnd.jupyter.widget-view+json": {
       "model_id": "",
       "version_major": 2,
       "version_minor": 0
      },
      "text/plain": [
       "Embedding:   0%|          | 0/39 [00:00<?, ?subject/s]"
      ]
     },
     "metadata": {},
     "output_type": "display_data"
    },
    {
     "data": {
      "application/vnd.jupyter.widget-view+json": {
       "model_id": "",
       "version_major": 2,
       "version_minor": 0
      },
      "text/plain": [
       "  0%|          | 0.00/60962.31 [00:00<?, ?longitudinal-days/s]"
      ]
     },
     "metadata": {},
     "output_type": "display_data"
    },
    {
     "name": "stderr",
     "output_type": "stream",
     "text": [
      "WARNING:jax._src.dispatch:Finished tracing + transforming jit(concatenate) in 0.0002779960632324219 sec\n",
      "DEBUG:jax._src.interpreters.pxla:Compiling concatenate for with global shapes and types [ShapedArray(float32[16]), ShapedArray(float32[16]), ShapedArray(float32[16]), ShapedArray(float32[16]), ShapedArray(float32[16]), ShapedArray(float32[16]), ShapedArray(float32[16]), ShapedArray(float32[7])]. Argument mapping: (GSPMDSharding({replicated}), GSPMDSharding({replicated}), GSPMDSharding({replicated}), GSPMDSharding({replicated}), GSPMDSharding({replicated}), GSPMDSharding({replicated}), GSPMDSharding({replicated}), GSPMDSharding({replicated})).\n",
      "WARNING:jax._src.dispatch:Finished jaxpr to MLIR module conversion jit(concatenate) in 0.001627206802368164 sec\n",
      "DEBUG:jax._src.xla_bridge:get_compile_options: num_replicas=1 num_partitions=1 device_assignment=[[CpuDevice(id=0)]]\n",
      "WARNING:jax._src.dispatch:Finished XLA compilation of jit(concatenate) in 0.0072095394134521484 sec\n",
      "WARNING:jax._src.dispatch:Finished tracing + transforming jit(convert_element_type) in 0.0004050731658935547 sec\n",
      "WARNING:jax._src.dispatch:Finished tracing + transforming _reduce_sum for pjit in 0.0010859966278076172 sec\n",
      "WARNING:jax._src.dispatch:Finished tracing + transforming _broadcast_arrays for pjit in 0.0003376007080078125 sec\n",
      "WARNING:jax._src.dispatch:Finished tracing + transforming _where for pjit in 0.0013766288757324219 sec\n",
      "WARNING:jax._src.dispatch:Finished tracing + transforming _reduce_sum for pjit in 0.0010592937469482422 sec\n",
      "WARNING:jax._src.dispatch:Finished tracing + transforming nansum for pjit in 0.004160404205322266 sec\n",
      "WARNING:jax._src.dispatch:Finished tracing + transforming nanmean for pjit in 0.0076100826263427734 sec\n",
      "DEBUG:jax._src.interpreters.pxla:Compiling nanmean for with global shapes and types [ShapedArray(float32[119])]. Argument mapping: (GSPMDSharding({replicated}),).\n",
      "WARNING:jax._src.dispatch:Finished jaxpr to MLIR module conversion jit(nanmean) in 0.0038940906524658203 sec\n",
      "DEBUG:jax._src.xla_bridge:get_compile_options: num_replicas=1 num_partitions=1 device_assignment=[[CpuDevice(id=0)]]\n",
      "WARNING:jax._src.dispatch:Finished XLA compilation of jit(nanmean) in 0.02295064926147461 sec\n",
      "DEBUG:jax._src.interpreters.pxla:Compiling nanmean for with global shapes and types [ShapedArray(bool[119]), ShapedArray(float32[]), ShapedArray(float32[])]. Argument mapping: (GSPMDSharding({replicated}), GSPMDSharding({replicated}), GSPMDSharding({replicated})).\n",
      "WARNING:jax._src.dispatch:Finished jaxpr to MLIR module conversion jit(nanmean) in 0.0028123855590820312 sec\n",
      "DEBUG:jax._src.xla_bridge:get_compile_options: num_replicas=1 num_partitions=1 device_assignment=[[CpuDevice(id=0)]]\n",
      "WARNING:jax._src.dispatch:Finished XLA compilation of jit(nanmean) in 0.008898019790649414 sec\n",
      "WARNING:jax._src.dispatch:Finished tracing + transforming jit(slice) in 0.00020742416381835938 sec\n",
      "DEBUG:jax._src.interpreters.pxla:Compiling slice for with global shapes and types [ShapedArray(float32[119])]. Argument mapping: (GSPMDSharding({replicated}),).\n",
      "WARNING:jax._src.dispatch:Finished jaxpr to MLIR module conversion jit(slice) in 0.0015337467193603516 sec\n",
      "DEBUG:jax._src.xla_bridge:get_compile_options: num_replicas=1 num_partitions=1 device_assignment=[[CpuDevice(id=0)]]\n",
      "WARNING:jax._src.dispatch:Finished XLA compilation of jit(slice) in 0.005412101745605469 sec\n",
      "WARNING:jax._src.dispatch:Finished tracing + transforming jit(slice) in 0.00020647048950195312 sec\n",
      "DEBUG:jax._src.interpreters.pxla:Compiling slice for with global shapes and types [ShapedArray(float32[119])]. Argument mapping: (GSPMDSharding({replicated}),).\n",
      "WARNING:jax._src.dispatch:Finished jaxpr to MLIR module conversion jit(slice) in 0.0022568702697753906 sec\n",
      "DEBUG:jax._src.xla_bridge:get_compile_options: num_replicas=1 num_partitions=1 device_assignment=[[CpuDevice(id=0)]]\n",
      "WARNING:jax._src.dispatch:Finished XLA compilation of jit(slice) in 0.005239963531494141 sec\n",
      "WARNING:jax._src.dispatch:Finished tracing + transforming jit(slice) in 0.00024175643920898438 sec\n",
      "DEBUG:jax._src.interpreters.pxla:Compiling slice for with global shapes and types [ShapedArray(float32[119])]. Argument mapping: (GSPMDSharding({replicated}),).\n",
      "WARNING:jax._src.dispatch:Finished jaxpr to MLIR module conversion jit(slice) in 0.0018596649169921875 sec\n",
      "DEBUG:jax._src.xla_bridge:get_compile_options: num_replicas=1 num_partitions=1 device_assignment=[[CpuDevice(id=0)]]\n",
      "WARNING:jax._src.dispatch:Finished XLA compilation of jit(slice) in 0.005155324935913086 sec\n",
      "WARNING:jax._src.dispatch:Finished tracing + transforming jit(slice) in 0.0002105236053466797 sec\n",
      "DEBUG:jax._src.interpreters.pxla:Compiling slice for with global shapes and types [ShapedArray(float32[119])]. Argument mapping: (GSPMDSharding({replicated}),).\n",
      "WARNING:jax._src.dispatch:Finished jaxpr to MLIR module conversion jit(slice) in 0.0017478466033935547 sec\n",
      "DEBUG:jax._src.xla_bridge:get_compile_options: num_replicas=1 num_partitions=1 device_assignment=[[CpuDevice(id=0)]]\n",
      "WARNING:jax._src.dispatch:Finished XLA compilation of jit(slice) in 0.0054285526275634766 sec\n",
      "WARNING:jax._src.dispatch:Finished tracing + transforming jit(slice) in 0.00022339820861816406 sec\n",
      "DEBUG:jax._src.interpreters.pxla:Compiling slice for with global shapes and types [ShapedArray(float32[119])]. Argument mapping: (GSPMDSharding({replicated}),).\n",
      "WARNING:jax._src.dispatch:Finished jaxpr to MLIR module conversion jit(slice) in 0.001711130142211914 sec\n",
      "DEBUG:jax._src.xla_bridge:get_compile_options: num_replicas=1 num_partitions=1 device_assignment=[[CpuDevice(id=0)]]\n",
      "WARNING:jax._src.dispatch:Finished XLA compilation of jit(slice) in 0.005079507827758789 sec\n",
      "WARNING:jax._src.dispatch:Finished tracing + transforming jit(slice) in 0.0002181529998779297 sec\n",
      "DEBUG:jax._src.interpreters.pxla:Compiling slice for with global shapes and types [ShapedArray(float32[119])]. Argument mapping: (GSPMDSharding({replicated}),).\n",
      "WARNING:jax._src.dispatch:Finished jaxpr to MLIR module conversion jit(slice) in 0.0018417835235595703 sec\n",
      "DEBUG:jax._src.xla_bridge:get_compile_options: num_replicas=1 num_partitions=1 device_assignment=[[CpuDevice(id=0)]]\n",
      "WARNING:jax._src.dispatch:Finished XLA compilation of jit(slice) in 0.0053479671478271484 sec\n",
      "WARNING:jax._src.dispatch:Finished tracing + transforming jit(slice) in 0.00021195411682128906 sec\n",
      "DEBUG:jax._src.interpreters.pxla:Compiling slice for with global shapes and types [ShapedArray(float32[119])]. Argument mapping: (GSPMDSharding({replicated}),).\n",
      "WARNING:jax._src.dispatch:Finished jaxpr to MLIR module conversion jit(slice) in 0.0016617774963378906 sec\n",
      "DEBUG:jax._src.xla_bridge:get_compile_options: num_replicas=1 num_partitions=1 device_assignment=[[CpuDevice(id=0)]]\n",
      "WARNING:jax._src.dispatch:Finished XLA compilation of jit(slice) in 0.005118370056152344 sec\n",
      "WARNING:jax._src.dispatch:Finished tracing + transforming jit(slice) in 0.00023937225341796875 sec\n",
      "DEBUG:jax._src.interpreters.pxla:Compiling slice for with global shapes and types [ShapedArray(float32[119])]. Argument mapping: (GSPMDSharding({replicated}),).\n",
      "WARNING:jax._src.dispatch:Finished jaxpr to MLIR module conversion jit(slice) in 0.0018384456634521484 sec\n",
      "DEBUG:jax._src.xla_bridge:get_compile_options: num_replicas=1 num_partitions=1 device_assignment=[[CpuDevice(id=0)]]\n",
      "WARNING:jax._src.dispatch:Finished XLA compilation of jit(slice) in 0.00524592399597168 sec\n"
     ]
    },
    {
     "data": {
      "application/vnd.jupyter.widget-view+json": {
       "model_id": "",
       "version_major": 2,
       "version_minor": 0
      },
      "text/plain": [
       "Loading to device:   0%|          | 0/42 [00:00<?, ?subject/s]"
      ]
     },
     "metadata": {},
     "output_type": "display_data"
    },
    {
     "data": {
      "application/vnd.jupyter.widget-view+json": {
       "model_id": "",
       "version_major": 2,
       "version_minor": 0
      },
      "text/plain": [
       "Embedding:   0%|          | 0/42 [00:00<?, ?subject/s]"
      ]
     },
     "metadata": {},
     "output_type": "display_data"
    },
    {
     "data": {
      "application/vnd.jupyter.widget-view+json": {
       "model_id": "",
       "version_major": 2,
       "version_minor": 0
      },
      "text/plain": [
       "  0%|          | 0.00/32825.45 [00:00<?, ?longitudinal-days/s]"
      ]
     },
     "metadata": {},
     "output_type": "display_data"
    },
    {
     "name": "stderr",
     "output_type": "stream",
     "text": [
      "WARNING:jax._src.dispatch:Finished tracing + transforming jit(concatenate) in 0.00026535987854003906 sec\n",
      "DEBUG:jax._src.interpreters.pxla:Compiling concatenate for with global shapes and types [ShapedArray(float32[16]), ShapedArray(float32[16]), ShapedArray(float32[16]), ShapedArray(float32[16]), ShapedArray(float32[16]), ShapedArray(float32[16]), ShapedArray(float32[16]), ShapedArray(float32[16]), ShapedArray(float32[16])]. Argument mapping: (GSPMDSharding({replicated}), GSPMDSharding({replicated}), GSPMDSharding({replicated}), GSPMDSharding({replicated}), GSPMDSharding({replicated}), GSPMDSharding({replicated}), GSPMDSharding({replicated}), GSPMDSharding({replicated}), GSPMDSharding({replicated})).\n",
      "WARNING:jax._src.dispatch:Finished jaxpr to MLIR module conversion jit(concatenate) in 0.0014641284942626953 sec\n",
      "DEBUG:jax._src.xla_bridge:get_compile_options: num_replicas=1 num_partitions=1 device_assignment=[[CpuDevice(id=0)]]\n",
      "WARNING:jax._src.dispatch:Finished XLA compilation of jit(concatenate) in 0.00706171989440918 sec\n",
      "WARNING:jax._src.dispatch:Finished tracing + transforming jit(convert_element_type) in 0.00031375885009765625 sec\n",
      "WARNING:jax._src.dispatch:Finished tracing + transforming _reduce_sum for pjit in 0.0005221366882324219 sec\n",
      "WARNING:jax._src.dispatch:Finished tracing + transforming _broadcast_arrays for pjit in 0.0003285408020019531 sec\n",
      "WARNING:jax._src.dispatch:Finished tracing + transforming _where for pjit in 0.0012958049774169922 sec\n",
      "WARNING:jax._src.dispatch:Finished tracing + transforming _reduce_sum for pjit in 0.00035691261291503906 sec\n",
      "WARNING:jax._src.dispatch:Finished tracing + transforming nansum for pjit in 0.003217935562133789 sec\n",
      "WARNING:jax._src.dispatch:Finished tracing + transforming nanmean for pjit in 0.005590677261352539 sec\n",
      "DEBUG:jax._src.interpreters.pxla:Compiling nanmean for with global shapes and types [ShapedArray(float32[144])]. Argument mapping: (GSPMDSharding({replicated}),).\n",
      "WARNING:jax._src.dispatch:Finished jaxpr to MLIR module conversion jit(nanmean) in 0.0035746097564697266 sec\n",
      "DEBUG:jax._src.xla_bridge:get_compile_options: num_replicas=1 num_partitions=1 device_assignment=[[CpuDevice(id=0)]]\n",
      "WARNING:jax._src.dispatch:Finished XLA compilation of jit(nanmean) in 0.02386307716369629 sec\n",
      "DEBUG:jax._src.interpreters.pxla:Compiling nanmean for with global shapes and types [ShapedArray(bool[144]), ShapedArray(float32[]), ShapedArray(float32[])]. Argument mapping: (GSPMDSharding({replicated}), GSPMDSharding({replicated}), GSPMDSharding({replicated})).\n",
      "WARNING:jax._src.dispatch:Finished jaxpr to MLIR module conversion jit(nanmean) in 0.002569437026977539 sec\n",
      "DEBUG:jax._src.xla_bridge:get_compile_options: num_replicas=1 num_partitions=1 device_assignment=[[CpuDevice(id=0)]]\n",
      "WARNING:jax._src.dispatch:Finished XLA compilation of jit(nanmean) in 0.009453296661376953 sec\n",
      "WARNING:jax._src.dispatch:Finished tracing + transforming jit(slice) in 0.00020575523376464844 sec\n",
      "DEBUG:jax._src.interpreters.pxla:Compiling slice for with global shapes and types [ShapedArray(float32[144])]. Argument mapping: (GSPMDSharding({replicated}),).\n",
      "WARNING:jax._src.dispatch:Finished jaxpr to MLIR module conversion jit(slice) in 0.0015521049499511719 sec\n",
      "DEBUG:jax._src.xla_bridge:get_compile_options: num_replicas=1 num_partitions=1 device_assignment=[[CpuDevice(id=0)]]\n",
      "WARNING:jax._src.dispatch:Finished XLA compilation of jit(slice) in 0.004815101623535156 sec\n",
      "WARNING:jax._src.dispatch:Finished tracing + transforming jit(slice) in 0.00021910667419433594 sec\n",
      "DEBUG:jax._src.interpreters.pxla:Compiling slice for with global shapes and types [ShapedArray(float32[144])]. Argument mapping: (GSPMDSharding({replicated}),).\n",
      "WARNING:jax._src.dispatch:Finished jaxpr to MLIR module conversion jit(slice) in 0.002321481704711914 sec\n",
      "DEBUG:jax._src.xla_bridge:get_compile_options: num_replicas=1 num_partitions=1 device_assignment=[[CpuDevice(id=0)]]\n",
      "WARNING:jax._src.dispatch:Finished XLA compilation of jit(slice) in 0.005030632019042969 sec\n",
      "WARNING:jax._src.dispatch:Finished tracing + transforming jit(slice) in 0.0002014636993408203 sec\n",
      "DEBUG:jax._src.interpreters.pxla:Compiling slice for with global shapes and types [ShapedArray(float32[144])]. Argument mapping: (GSPMDSharding({replicated}),).\n",
      "WARNING:jax._src.dispatch:Finished jaxpr to MLIR module conversion jit(slice) in 0.0015420913696289062 sec\n",
      "DEBUG:jax._src.xla_bridge:get_compile_options: num_replicas=1 num_partitions=1 device_assignment=[[CpuDevice(id=0)]]\n",
      "WARNING:jax._src.dispatch:Finished XLA compilation of jit(slice) in 0.005182504653930664 sec\n",
      "WARNING:jax._src.dispatch:Finished tracing + transforming jit(slice) in 0.00021386146545410156 sec\n",
      "DEBUG:jax._src.interpreters.pxla:Compiling slice for with global shapes and types [ShapedArray(float32[144])]. Argument mapping: (GSPMDSharding({replicated}),).\n",
      "WARNING:jax._src.dispatch:Finished jaxpr to MLIR module conversion jit(slice) in 0.0016398429870605469 sec\n",
      "DEBUG:jax._src.xla_bridge:get_compile_options: num_replicas=1 num_partitions=1 device_assignment=[[CpuDevice(id=0)]]\n",
      "WARNING:jax._src.dispatch:Finished XLA compilation of jit(slice) in 0.004979610443115234 sec\n",
      "WARNING:jax._src.dispatch:Finished tracing + transforming jit(slice) in 0.00020194053649902344 sec\n",
      "DEBUG:jax._src.interpreters.pxla:Compiling slice for with global shapes and types [ShapedArray(float32[144])]. Argument mapping: (GSPMDSharding({replicated}),).\n",
      "WARNING:jax._src.dispatch:Finished jaxpr to MLIR module conversion jit(slice) in 0.0015745162963867188 sec\n",
      "DEBUG:jax._src.xla_bridge:get_compile_options: num_replicas=1 num_partitions=1 device_assignment=[[CpuDevice(id=0)]]\n",
      "WARNING:jax._src.dispatch:Finished XLA compilation of jit(slice) in 0.005118846893310547 sec\n",
      "WARNING:jax._src.dispatch:Finished tracing + transforming jit(slice) in 0.00022363662719726562 sec\n",
      "DEBUG:jax._src.interpreters.pxla:Compiling slice for with global shapes and types [ShapedArray(float32[144])]. Argument mapping: (GSPMDSharding({replicated}),).\n",
      "WARNING:jax._src.dispatch:Finished jaxpr to MLIR module conversion jit(slice) in 0.0018432140350341797 sec\n",
      "DEBUG:jax._src.xla_bridge:get_compile_options: num_replicas=1 num_partitions=1 device_assignment=[[CpuDevice(id=0)]]\n",
      "WARNING:jax._src.dispatch:Finished XLA compilation of jit(slice) in 0.005371809005737305 sec\n",
      "WARNING:jax._src.dispatch:Finished tracing + transforming jit(slice) in 0.00021910667419433594 sec\n",
      "DEBUG:jax._src.interpreters.pxla:Compiling slice for with global shapes and types [ShapedArray(float32[144])]. Argument mapping: (GSPMDSharding({replicated}),).\n",
      "WARNING:jax._src.dispatch:Finished jaxpr to MLIR module conversion jit(slice) in 0.0018219947814941406 sec\n",
      "DEBUG:jax._src.xla_bridge:get_compile_options: num_replicas=1 num_partitions=1 device_assignment=[[CpuDevice(id=0)]]\n",
      "WARNING:jax._src.dispatch:Finished XLA compilation of jit(slice) in 0.005511283874511719 sec\n",
      "WARNING:jax._src.dispatch:Finished tracing + transforming jit(slice) in 0.0002295970916748047 sec\n",
      "DEBUG:jax._src.interpreters.pxla:Compiling slice for with global shapes and types [ShapedArray(float32[144])]. Argument mapping: (GSPMDSharding({replicated}),).\n",
      "WARNING:jax._src.dispatch:Finished jaxpr to MLIR module conversion jit(slice) in 0.0018367767333984375 sec\n",
      "DEBUG:jax._src.xla_bridge:get_compile_options: num_replicas=1 num_partitions=1 device_assignment=[[CpuDevice(id=0)]]\n",
      "WARNING:jax._src.dispatch:Finished XLA compilation of jit(slice) in 0.0054683685302734375 sec\n",
      "WARNING:jax._src.dispatch:Finished tracing + transforming jit(slice) in 0.0002276897430419922 sec\n",
      "DEBUG:jax._src.interpreters.pxla:Compiling slice for with global shapes and types [ShapedArray(float32[144])]. Argument mapping: (GSPMDSharding({replicated}),).\n",
      "WARNING:jax._src.dispatch:Finished jaxpr to MLIR module conversion jit(slice) in 0.001668691635131836 sec\n",
      "DEBUG:jax._src.xla_bridge:get_compile_options: num_replicas=1 num_partitions=1 device_assignment=[[CpuDevice(id=0)]]\n",
      "WARNING:jax._src.dispatch:Finished XLA compilation of jit(slice) in 0.0054204463958740234 sec\n"
     ]
    },
    {
     "data": {
      "application/vnd.jupyter.widget-view+json": {
       "model_id": "",
       "version_major": 2,
       "version_minor": 0
      },
      "text/plain": [
       "Loading to device:   0%|          | 0/38 [00:00<?, ?subject/s]"
      ]
     },
     "metadata": {},
     "output_type": "display_data"
    },
    {
     "data": {
      "application/vnd.jupyter.widget-view+json": {
       "model_id": "",
       "version_major": 2,
       "version_minor": 0
      },
      "text/plain": [
       "Embedding:   0%|          | 0/38 [00:00<?, ?subject/s]"
      ]
     },
     "metadata": {},
     "output_type": "display_data"
    },
    {
     "data": {
      "application/vnd.jupyter.widget-view+json": {
       "model_id": "",
       "version_major": 2,
       "version_minor": 0
      },
      "text/plain": [
       "  0%|          | 0.00/40194.61 [00:00<?, ?longitudinal-days/s]"
      ]
     },
     "metadata": {},
     "output_type": "display_data"
    },
    {
     "name": "stderr",
     "output_type": "stream",
     "text": [
      "WARNING:jax._src.dispatch:Finished tracing + transforming jit(concatenate) in 0.0002765655517578125 sec\n",
      "DEBUG:jax._src.interpreters.pxla:Compiling concatenate for with global shapes and types [ShapedArray(float32[16]), ShapedArray(float32[16]), ShapedArray(float32[16]), ShapedArray(float32[16]), ShapedArray(float32[16]), ShapedArray(float32[16]), ShapedArray(float32[16]), ShapedArray(float32[16]), ShapedArray(float32[4])]. Argument mapping: (GSPMDSharding({replicated}), GSPMDSharding({replicated}), GSPMDSharding({replicated}), GSPMDSharding({replicated}), GSPMDSharding({replicated}), GSPMDSharding({replicated}), GSPMDSharding({replicated}), GSPMDSharding({replicated}), GSPMDSharding({replicated})).\n",
      "WARNING:jax._src.dispatch:Finished jaxpr to MLIR module conversion jit(concatenate) in 0.001585245132446289 sec\n",
      "DEBUG:jax._src.xla_bridge:get_compile_options: num_replicas=1 num_partitions=1 device_assignment=[[CpuDevice(id=0)]]\n",
      "WARNING:jax._src.dispatch:Finished XLA compilation of jit(concatenate) in 0.007317304611206055 sec\n",
      "WARNING:jax._src.dispatch:Finished tracing + transforming jit(convert_element_type) in 0.00023674964904785156 sec\n",
      "WARNING:jax._src.dispatch:Finished tracing + transforming _reduce_sum for pjit in 0.0008852481842041016 sec\n",
      "WARNING:jax._src.dispatch:Finished tracing + transforming _broadcast_arrays for pjit in 0.0003132820129394531 sec\n",
      "WARNING:jax._src.dispatch:Finished tracing + transforming _where for pjit in 0.0012159347534179688 sec\n",
      "WARNING:jax._src.dispatch:Finished tracing + transforming _reduce_sum for pjit in 0.00048089027404785156 sec\n",
      "WARNING:jax._src.dispatch:Finished tracing + transforming nansum for pjit in 0.0031232833862304688 sec\n",
      "WARNING:jax._src.dispatch:Finished tracing + transforming nanmean for pjit in 0.005760908126831055 sec\n",
      "DEBUG:jax._src.interpreters.pxla:Compiling nanmean for with global shapes and types [ShapedArray(float32[132])]. Argument mapping: (GSPMDSharding({replicated}),).\n",
      "WARNING:jax._src.dispatch:Finished jaxpr to MLIR module conversion jit(nanmean) in 0.003557443618774414 sec\n",
      "DEBUG:jax._src.xla_bridge:get_compile_options: num_replicas=1 num_partitions=1 device_assignment=[[CpuDevice(id=0)]]\n",
      "WARNING:jax._src.dispatch:Finished XLA compilation of jit(nanmean) in 0.02488255500793457 sec\n",
      "DEBUG:jax._src.interpreters.pxla:Compiling nanmean for with global shapes and types [ShapedArray(bool[132]), ShapedArray(float32[]), ShapedArray(float32[])]. Argument mapping: (GSPMDSharding({replicated}), GSPMDSharding({replicated}), GSPMDSharding({replicated})).\n",
      "WARNING:jax._src.dispatch:Finished jaxpr to MLIR module conversion jit(nanmean) in 0.002682924270629883 sec\n",
      "DEBUG:jax._src.xla_bridge:get_compile_options: num_replicas=1 num_partitions=1 device_assignment=[[CpuDevice(id=0)]]\n",
      "WARNING:jax._src.dispatch:Finished XLA compilation of jit(nanmean) in 0.009286165237426758 sec\n",
      "WARNING:jax._src.dispatch:Finished tracing + transforming jit(slice) in 0.00019025802612304688 sec\n",
      "DEBUG:jax._src.interpreters.pxla:Compiling slice for with global shapes and types [ShapedArray(float32[132])]. Argument mapping: (GSPMDSharding({replicated}),).\n",
      "WARNING:jax._src.dispatch:Finished jaxpr to MLIR module conversion jit(slice) in 0.0014810562133789062 sec\n",
      "DEBUG:jax._src.xla_bridge:get_compile_options: num_replicas=1 num_partitions=1 device_assignment=[[CpuDevice(id=0)]]\n",
      "WARNING:jax._src.dispatch:Finished XLA compilation of jit(slice) in 0.005165576934814453 sec\n",
      "WARNING:jax._src.dispatch:Finished tracing + transforming jit(slice) in 0.0002014636993408203 sec\n",
      "DEBUG:jax._src.interpreters.pxla:Compiling slice for with global shapes and types [ShapedArray(float32[132])]. Argument mapping: (GSPMDSharding({replicated}),).\n",
      "WARNING:jax._src.dispatch:Finished jaxpr to MLIR module conversion jit(slice) in 0.0020995140075683594 sec\n",
      "DEBUG:jax._src.xla_bridge:get_compile_options: num_replicas=1 num_partitions=1 device_assignment=[[CpuDevice(id=0)]]\n",
      "WARNING:jax._src.dispatch:Finished XLA compilation of jit(slice) in 0.0048580169677734375 sec\n",
      "WARNING:jax._src.dispatch:Finished tracing + transforming jit(slice) in 0.0001971721649169922 sec\n",
      "DEBUG:jax._src.interpreters.pxla:Compiling slice for with global shapes and types [ShapedArray(float32[132])]. Argument mapping: (GSPMDSharding({replicated}),).\n",
      "WARNING:jax._src.dispatch:Finished jaxpr to MLIR module conversion jit(slice) in 0.001538991928100586 sec\n",
      "DEBUG:jax._src.xla_bridge:get_compile_options: num_replicas=1 num_partitions=1 device_assignment=[[CpuDevice(id=0)]]\n",
      "WARNING:jax._src.dispatch:Finished XLA compilation of jit(slice) in 0.005049467086791992 sec\n",
      "WARNING:jax._src.dispatch:Finished tracing + transforming jit(slice) in 0.00020003318786621094 sec\n",
      "DEBUG:jax._src.interpreters.pxla:Compiling slice for with global shapes and types [ShapedArray(float32[132])]. Argument mapping: (GSPMDSharding({replicated}),).\n",
      "WARNING:jax._src.dispatch:Finished jaxpr to MLIR module conversion jit(slice) in 0.0015723705291748047 sec\n",
      "DEBUG:jax._src.xla_bridge:get_compile_options: num_replicas=1 num_partitions=1 device_assignment=[[CpuDevice(id=0)]]\n",
      "WARNING:jax._src.dispatch:Finished XLA compilation of jit(slice) in 0.005128383636474609 sec\n",
      "WARNING:jax._src.dispatch:Finished tracing + transforming jit(slice) in 0.0002040863037109375 sec\n",
      "DEBUG:jax._src.interpreters.pxla:Compiling slice for with global shapes and types [ShapedArray(float32[132])]. Argument mapping: (GSPMDSharding({replicated}),).\n",
      "WARNING:jax._src.dispatch:Finished jaxpr to MLIR module conversion jit(slice) in 0.0018210411071777344 sec\n",
      "DEBUG:jax._src.xla_bridge:get_compile_options: num_replicas=1 num_partitions=1 device_assignment=[[CpuDevice(id=0)]]\n",
      "WARNING:jax._src.dispatch:Finished XLA compilation of jit(slice) in 0.0049533843994140625 sec\n",
      "WARNING:jax._src.dispatch:Finished tracing + transforming jit(slice) in 0.000194549560546875 sec\n",
      "DEBUG:jax._src.interpreters.pxla:Compiling slice for with global shapes and types [ShapedArray(float32[132])]. Argument mapping: (GSPMDSharding({replicated}),).\n",
      "WARNING:jax._src.dispatch:Finished jaxpr to MLIR module conversion jit(slice) in 0.0015213489532470703 sec\n",
      "DEBUG:jax._src.xla_bridge:get_compile_options: num_replicas=1 num_partitions=1 device_assignment=[[CpuDevice(id=0)]]\n",
      "WARNING:jax._src.dispatch:Finished XLA compilation of jit(slice) in 0.005096912384033203 sec\n",
      "WARNING:jax._src.dispatch:Finished tracing + transforming jit(slice) in 0.00020170211791992188 sec\n",
      "DEBUG:jax._src.interpreters.pxla:Compiling slice for with global shapes and types [ShapedArray(float32[132])]. Argument mapping: (GSPMDSharding({replicated}),).\n",
      "WARNING:jax._src.dispatch:Finished jaxpr to MLIR module conversion jit(slice) in 0.001718282699584961 sec\n",
      "DEBUG:jax._src.xla_bridge:get_compile_options: num_replicas=1 num_partitions=1 device_assignment=[[CpuDevice(id=0)]]\n",
      "WARNING:jax._src.dispatch:Finished XLA compilation of jit(slice) in 0.004903554916381836 sec\n",
      "WARNING:jax._src.dispatch:Finished tracing + transforming jit(slice) in 0.00019598007202148438 sec\n",
      "DEBUG:jax._src.interpreters.pxla:Compiling slice for with global shapes and types [ShapedArray(float32[132])]. Argument mapping: (GSPMDSharding({replicated}),).\n",
      "WARNING:jax._src.dispatch:Finished jaxpr to MLIR module conversion jit(slice) in 0.0015473365783691406 sec\n",
      "DEBUG:jax._src.xla_bridge:get_compile_options: num_replicas=1 num_partitions=1 device_assignment=[[CpuDevice(id=0)]]\n",
      "WARNING:jax._src.dispatch:Finished XLA compilation of jit(slice) in 0.004980325698852539 sec\n",
      "WARNING:jax._src.dispatch:Finished tracing + transforming jit(slice) in 0.0002186298370361328 sec\n",
      "DEBUG:jax._src.interpreters.pxla:Compiling slice for with global shapes and types [ShapedArray(float32[132])]. Argument mapping: (GSPMDSharding({replicated}),).\n",
      "WARNING:jax._src.dispatch:Finished jaxpr to MLIR module conversion jit(slice) in 0.0017774105072021484 sec\n",
      "DEBUG:jax._src.xla_bridge:get_compile_options: num_replicas=1 num_partitions=1 device_assignment=[[CpuDevice(id=0)]]\n",
      "WARNING:jax._src.dispatch:Finished XLA compilation of jit(slice) in 0.005034685134887695 sec\n"
     ]
    },
    {
     "data": {
      "application/vnd.jupyter.widget-view+json": {
       "model_id": "",
       "version_major": 2,
       "version_minor": 0
      },
      "text/plain": [
       "Loading to device:   0%|          | 0/42 [00:00<?, ?subject/s]"
      ]
     },
     "metadata": {},
     "output_type": "display_data"
    },
    {
     "data": {
      "application/vnd.jupyter.widget-view+json": {
       "model_id": "",
       "version_major": 2,
       "version_minor": 0
      },
      "text/plain": [
       "Embedding:   0%|          | 0/42 [00:00<?, ?subject/s]"
      ]
     },
     "metadata": {},
     "output_type": "display_data"
    },
    {
     "data": {
      "application/vnd.jupyter.widget-view+json": {
       "model_id": "",
       "version_major": 2,
       "version_minor": 0
      },
      "text/plain": [
       "  0%|          | 0.00/34905.49 [00:00<?, ?longitudinal-days/s]"
      ]
     },
     "metadata": {},
     "output_type": "display_data"
    },
    {
     "data": {
      "application/vnd.jupyter.widget-view+json": {
       "model_id": "",
       "version_major": 2,
       "version_minor": 0
      },
      "text/plain": [
       "Loading to device:   0%|          | 0/37 [00:00<?, ?subject/s]"
      ]
     },
     "metadata": {},
     "output_type": "display_data"
    },
    {
     "data": {
      "application/vnd.jupyter.widget-view+json": {
       "model_id": "",
       "version_major": 2,
       "version_minor": 0
      },
      "text/plain": [
       "Embedding:   0%|          | 0/37 [00:00<?, ?subject/s]"
      ]
     },
     "metadata": {},
     "output_type": "display_data"
    },
    {
     "data": {
      "application/vnd.jupyter.widget-view+json": {
       "model_id": "",
       "version_major": 2,
       "version_minor": 0
      },
      "text/plain": [
       "  0%|          | 0.00/40189.32 [00:00<?, ?longitudinal-days/s]"
      ]
     },
     "metadata": {},
     "output_type": "display_data"
    },
    {
     "data": {
      "application/vnd.jupyter.widget-view+json": {
       "model_id": "",
       "version_major": 2,
       "version_minor": 0
      },
      "text/plain": [
       "Loading to device:   0%|          | 0/48 [00:00<?, ?subject/s]"
      ]
     },
     "metadata": {},
     "output_type": "display_data"
    },
    {
     "data": {
      "application/vnd.jupyter.widget-view+json": {
       "model_id": "",
       "version_major": 2,
       "version_minor": 0
      },
      "text/plain": [
       "Embedding:   0%|          | 0/48 [00:00<?, ?subject/s]"
      ]
     },
     "metadata": {},
     "output_type": "display_data"
    },
    {
     "data": {
      "application/vnd.jupyter.widget-view+json": {
       "model_id": "",
       "version_major": 2,
       "version_minor": 0
      },
      "text/plain": [
       "  0%|          | 0.00/47542.12 [00:00<?, ?longitudinal-days/s]"
      ]
     },
     "metadata": {},
     "output_type": "display_data"
    },
    {
     "data": {
      "application/vnd.jupyter.widget-view+json": {
       "model_id": "",
       "version_major": 2,
       "version_minor": 0
      },
      "text/plain": [
       "Loading to device:   0%|          | 0/33 [00:00<?, ?subject/s]"
      ]
     },
     "metadata": {},
     "output_type": "display_data"
    },
    {
     "data": {
      "application/vnd.jupyter.widget-view+json": {
       "model_id": "",
       "version_major": 2,
       "version_minor": 0
      },
      "text/plain": [
       "Embedding:   0%|          | 0/33 [00:00<?, ?subject/s]"
      ]
     },
     "metadata": {},
     "output_type": "display_data"
    },
    {
     "data": {
      "application/vnd.jupyter.widget-view+json": {
       "model_id": "",
       "version_major": 2,
       "version_minor": 0
      },
      "text/plain": [
       "  0%|          | 0.00/43524.11 [00:00<?, ?longitudinal-days/s]"
      ]
     },
     "metadata": {},
     "output_type": "display_data"
    },
    {
     "data": {
      "application/vnd.jupyter.widget-view+json": {
       "model_id": "",
       "version_major": 2,
       "version_minor": 0
      },
      "text/plain": [
       "Loading to device:   0%|          | 0/42 [00:00<?, ?subject/s]"
      ]
     },
     "metadata": {},
     "output_type": "display_data"
    },
    {
     "data": {
      "application/vnd.jupyter.widget-view+json": {
       "model_id": "",
       "version_major": 2,
       "version_minor": 0
      },
      "text/plain": [
       "Embedding:   0%|          | 0/42 [00:00<?, ?subject/s]"
      ]
     },
     "metadata": {},
     "output_type": "display_data"
    },
    {
     "data": {
      "application/vnd.jupyter.widget-view+json": {
       "model_id": "",
       "version_major": 2,
       "version_minor": 0
      },
      "text/plain": [
       "  0%|          | 0.00/44763.72 [00:00<?, ?longitudinal-days/s]"
      ]
     },
     "metadata": {},
     "output_type": "display_data"
    },
    {
     "name": "stderr",
     "output_type": "stream",
     "text": [
      "WARNING:jax._src.dispatch:Finished tracing + transforming jit(concatenate) in 0.0002758502960205078 sec\n",
      "DEBUG:jax._src.interpreters.pxla:Compiling concatenate for with global shapes and types [ShapedArray(float32[16]), ShapedArray(float32[16]), ShapedArray(float32[16]), ShapedArray(float32[16]), ShapedArray(float32[16]), ShapedArray(float32[16]), ShapedArray(float32[16]), ShapedArray(float32[16]), ShapedArray(float32[9])]. Argument mapping: (GSPMDSharding({replicated}), GSPMDSharding({replicated}), GSPMDSharding({replicated}), GSPMDSharding({replicated}), GSPMDSharding({replicated}), GSPMDSharding({replicated}), GSPMDSharding({replicated}), GSPMDSharding({replicated}), GSPMDSharding({replicated})).\n",
      "WARNING:jax._src.dispatch:Finished jaxpr to MLIR module conversion jit(concatenate) in 0.001598358154296875 sec\n",
      "DEBUG:jax._src.xla_bridge:get_compile_options: num_replicas=1 num_partitions=1 device_assignment=[[CpuDevice(id=0)]]\n",
      "WARNING:jax._src.dispatch:Finished XLA compilation of jit(concatenate) in 0.007298707962036133 sec\n",
      "WARNING:jax._src.dispatch:Finished tracing + transforming jit(convert_element_type) in 0.0006504058837890625 sec\n",
      "WARNING:jax._src.dispatch:Finished tracing + transforming _reduce_sum for pjit in 0.0005519390106201172 sec\n",
      "WARNING:jax._src.dispatch:Finished tracing + transforming _broadcast_arrays for pjit in 0.00032401084899902344 sec\n",
      "WARNING:jax._src.dispatch:Finished tracing + transforming _where for pjit in 0.0012919902801513672 sec\n",
      "WARNING:jax._src.dispatch:Finished tracing + transforming _reduce_sum for pjit in 0.0005443096160888672 sec\n",
      "WARNING:jax._src.dispatch:Finished tracing + transforming nansum for pjit in 0.0034329891204833984 sec\n",
      "WARNING:jax._src.dispatch:Finished tracing + transforming nanmean for pjit in 0.005865335464477539 sec\n",
      "DEBUG:jax._src.interpreters.pxla:Compiling nanmean for with global shapes and types [ShapedArray(float32[137])]. Argument mapping: (GSPMDSharding({replicated}),).\n",
      "WARNING:jax._src.dispatch:Finished jaxpr to MLIR module conversion jit(nanmean) in 0.0035848617553710938 sec\n",
      "DEBUG:jax._src.xla_bridge:get_compile_options: num_replicas=1 num_partitions=1 device_assignment=[[CpuDevice(id=0)]]\n",
      "WARNING:jax._src.dispatch:Finished XLA compilation of jit(nanmean) in 0.024625778198242188 sec\n",
      "DEBUG:jax._src.interpreters.pxla:Compiling nanmean for with global shapes and types [ShapedArray(bool[137]), ShapedArray(float32[]), ShapedArray(float32[])]. Argument mapping: (GSPMDSharding({replicated}), GSPMDSharding({replicated}), GSPMDSharding({replicated})).\n",
      "WARNING:jax._src.dispatch:Finished jaxpr to MLIR module conversion jit(nanmean) in 0.002696514129638672 sec\n",
      "DEBUG:jax._src.xla_bridge:get_compile_options: num_replicas=1 num_partitions=1 device_assignment=[[CpuDevice(id=0)]]\n",
      "WARNING:jax._src.dispatch:Finished XLA compilation of jit(nanmean) in 0.009174108505249023 sec\n",
      "WARNING:jax._src.dispatch:Finished tracing + transforming jit(slice) in 0.0002090930938720703 sec\n",
      "DEBUG:jax._src.interpreters.pxla:Compiling slice for with global shapes and types [ShapedArray(float32[137])]. Argument mapping: (GSPMDSharding({replicated}),).\n",
      "WARNING:jax._src.dispatch:Finished jaxpr to MLIR module conversion jit(slice) in 0.0015234947204589844 sec\n",
      "DEBUG:jax._src.xla_bridge:get_compile_options: num_replicas=1 num_partitions=1 device_assignment=[[CpuDevice(id=0)]]\n",
      "WARNING:jax._src.dispatch:Finished XLA compilation of jit(slice) in 0.004889249801635742 sec\n",
      "WARNING:jax._src.dispatch:Finished tracing + transforming jit(slice) in 0.00021839141845703125 sec\n",
      "DEBUG:jax._src.interpreters.pxla:Compiling slice for with global shapes and types [ShapedArray(float32[137])]. Argument mapping: (GSPMDSharding({replicated}),).\n",
      "WARNING:jax._src.dispatch:Finished jaxpr to MLIR module conversion jit(slice) in 0.0022296905517578125 sec\n",
      "DEBUG:jax._src.xla_bridge:get_compile_options: num_replicas=1 num_partitions=1 device_assignment=[[CpuDevice(id=0)]]\n",
      "WARNING:jax._src.dispatch:Finished XLA compilation of jit(slice) in 0.004933357238769531 sec\n",
      "WARNING:jax._src.dispatch:Finished tracing + transforming jit(slice) in 0.0002048015594482422 sec\n",
      "DEBUG:jax._src.interpreters.pxla:Compiling slice for with global shapes and types [ShapedArray(float32[137])]. Argument mapping: (GSPMDSharding({replicated}),).\n",
      "WARNING:jax._src.dispatch:Finished jaxpr to MLIR module conversion jit(slice) in 0.0015368461608886719 sec\n",
      "DEBUG:jax._src.xla_bridge:get_compile_options: num_replicas=1 num_partitions=1 device_assignment=[[CpuDevice(id=0)]]\n",
      "WARNING:jax._src.dispatch:Finished XLA compilation of jit(slice) in 0.0050809383392333984 sec\n",
      "WARNING:jax._src.dispatch:Finished tracing + transforming jit(slice) in 0.0002117156982421875 sec\n",
      "DEBUG:jax._src.interpreters.pxla:Compiling slice for with global shapes and types [ShapedArray(float32[137])]. Argument mapping: (GSPMDSharding({replicated}),).\n",
      "WARNING:jax._src.dispatch:Finished jaxpr to MLIR module conversion jit(slice) in 0.0017540454864501953 sec\n",
      "DEBUG:jax._src.xla_bridge:get_compile_options: num_replicas=1 num_partitions=1 device_assignment=[[CpuDevice(id=0)]]\n",
      "WARNING:jax._src.dispatch:Finished XLA compilation of jit(slice) in 0.0054585933685302734 sec\n",
      "WARNING:jax._src.dispatch:Finished tracing + transforming jit(slice) in 0.0002124309539794922 sec\n",
      "DEBUG:jax._src.interpreters.pxla:Compiling slice for with global shapes and types [ShapedArray(float32[137])]. Argument mapping: (GSPMDSharding({replicated}),).\n",
      "WARNING:jax._src.dispatch:Finished jaxpr to MLIR module conversion jit(slice) in 0.0016813278198242188 sec\n",
      "DEBUG:jax._src.xla_bridge:get_compile_options: num_replicas=1 num_partitions=1 device_assignment=[[CpuDevice(id=0)]]\n",
      "WARNING:jax._src.dispatch:Finished XLA compilation of jit(slice) in 0.00519871711730957 sec\n",
      "WARNING:jax._src.dispatch:Finished tracing + transforming jit(slice) in 0.00022482872009277344 sec\n",
      "DEBUG:jax._src.interpreters.pxla:Compiling slice for with global shapes and types [ShapedArray(float32[137])]. Argument mapping: (GSPMDSharding({replicated}),).\n",
      "WARNING:jax._src.dispatch:Finished jaxpr to MLIR module conversion jit(slice) in 0.001600027084350586 sec\n",
      "DEBUG:jax._src.xla_bridge:get_compile_options: num_replicas=1 num_partitions=1 device_assignment=[[CpuDevice(id=0)]]\n",
      "WARNING:jax._src.dispatch:Finished XLA compilation of jit(slice) in 0.00527501106262207 sec\n",
      "WARNING:jax._src.dispatch:Finished tracing + transforming jit(slice) in 0.0002129077911376953 sec\n",
      "DEBUG:jax._src.interpreters.pxla:Compiling slice for with global shapes and types [ShapedArray(float32[137])]. Argument mapping: (GSPMDSharding({replicated}),).\n",
      "WARNING:jax._src.dispatch:Finished jaxpr to MLIR module conversion jit(slice) in 0.0015788078308105469 sec\n",
      "DEBUG:jax._src.xla_bridge:get_compile_options: num_replicas=1 num_partitions=1 device_assignment=[[CpuDevice(id=0)]]\n",
      "WARNING:jax._src.dispatch:Finished XLA compilation of jit(slice) in 0.005085468292236328 sec\n",
      "WARNING:jax._src.dispatch:Finished tracing + transforming jit(slice) in 0.00021195411682128906 sec\n",
      "DEBUG:jax._src.interpreters.pxla:Compiling slice for with global shapes and types [ShapedArray(float32[137])]. Argument mapping: (GSPMDSharding({replicated}),).\n",
      "WARNING:jax._src.dispatch:Finished jaxpr to MLIR module conversion jit(slice) in 0.0018410682678222656 sec\n",
      "DEBUG:jax._src.xla_bridge:get_compile_options: num_replicas=1 num_partitions=1 device_assignment=[[CpuDevice(id=0)]]\n",
      "WARNING:jax._src.dispatch:Finished XLA compilation of jit(slice) in 0.005805492401123047 sec\n",
      "WARNING:jax._src.dispatch:Finished tracing + transforming jit(slice) in 0.0003421306610107422 sec\n",
      "DEBUG:jax._src.interpreters.pxla:Compiling slice for with global shapes and types [ShapedArray(float32[137])]. Argument mapping: (GSPMDSharding({replicated}),).\n",
      "WARNING:jax._src.dispatch:Finished jaxpr to MLIR module conversion jit(slice) in 0.0024411678314208984 sec\n",
      "DEBUG:jax._src.xla_bridge:get_compile_options: num_replicas=1 num_partitions=1 device_assignment=[[CpuDevice(id=0)]]\n",
      "WARNING:jax._src.dispatch:Finished XLA compilation of jit(slice) in 0.005132436752319336 sec\n"
     ]
    },
    {
     "data": {
      "application/vnd.jupyter.widget-view+json": {
       "model_id": "",
       "version_major": 2,
       "version_minor": 0
      },
      "text/plain": [
       "Loading to device:   0%|          | 0/39 [00:00<?, ?subject/s]"
      ]
     },
     "metadata": {},
     "output_type": "display_data"
    },
    {
     "data": {
      "application/vnd.jupyter.widget-view+json": {
       "model_id": "",
       "version_major": 2,
       "version_minor": 0
      },
      "text/plain": [
       "Embedding:   0%|          | 0/39 [00:00<?, ?subject/s]"
      ]
     },
     "metadata": {},
     "output_type": "display_data"
    },
    {
     "data": {
      "application/vnd.jupyter.widget-view+json": {
       "model_id": "",
       "version_major": 2,
       "version_minor": 0
      },
      "text/plain": [
       "  0%|          | 0.00/39402.32 [00:00<?, ?longitudinal-days/s]"
      ]
     },
     "metadata": {},
     "output_type": "display_data"
    },
    {
     "name": "stderr",
     "output_type": "stream",
     "text": [
      "WARNING:jax._src.dispatch:Finished tracing + transforming jit(concatenate) in 0.0002532005310058594 sec\n",
      "DEBUG:jax._src.interpreters.pxla:Compiling concatenate for with global shapes and types [ShapedArray(float32[16]), ShapedArray(float32[16]), ShapedArray(float32[16]), ShapedArray(float32[16]), ShapedArray(float32[16]), ShapedArray(float32[16]), ShapedArray(float32[16]), ShapedArray(float32[16]), ShapedArray(float32[7])]. Argument mapping: (GSPMDSharding({replicated}), GSPMDSharding({replicated}), GSPMDSharding({replicated}), GSPMDSharding({replicated}), GSPMDSharding({replicated}), GSPMDSharding({replicated}), GSPMDSharding({replicated}), GSPMDSharding({replicated}), GSPMDSharding({replicated})).\n",
      "WARNING:jax._src.dispatch:Finished jaxpr to MLIR module conversion jit(concatenate) in 0.0018963813781738281 sec\n",
      "DEBUG:jax._src.xla_bridge:get_compile_options: num_replicas=1 num_partitions=1 device_assignment=[[CpuDevice(id=0)]]\n",
      "WARNING:jax._src.dispatch:Finished XLA compilation of jit(concatenate) in 0.007110118865966797 sec\n",
      "WARNING:jax._src.dispatch:Finished tracing + transforming jit(convert_element_type) in 0.0002818107604980469 sec\n",
      "WARNING:jax._src.dispatch:Finished tracing + transforming _reduce_sum for pjit in 0.0006964206695556641 sec\n",
      "WARNING:jax._src.dispatch:Finished tracing + transforming _broadcast_arrays for pjit in 0.0003476142883300781 sec\n",
      "WARNING:jax._src.dispatch:Finished tracing + transforming _where for pjit in 0.0014019012451171875 sec\n",
      "WARNING:jax._src.dispatch:Finished tracing + transforming _reduce_sum for pjit in 0.0004665851593017578 sec\n",
      "WARNING:jax._src.dispatch:Finished tracing + transforming nansum for pjit in 0.003788471221923828 sec\n",
      "WARNING:jax._src.dispatch:Finished tracing + transforming nanmean for pjit in 0.006910562515258789 sec\n",
      "DEBUG:jax._src.interpreters.pxla:Compiling nanmean for with global shapes and types [ShapedArray(float32[135])]. Argument mapping: (GSPMDSharding({replicated}),).\n",
      "WARNING:jax._src.dispatch:Finished jaxpr to MLIR module conversion jit(nanmean) in 0.004297733306884766 sec\n",
      "DEBUG:jax._src.xla_bridge:get_compile_options: num_replicas=1 num_partitions=1 device_assignment=[[CpuDevice(id=0)]]\n",
      "WARNING:jax._src.dispatch:Finished XLA compilation of jit(nanmean) in 0.024651527404785156 sec\n",
      "DEBUG:jax._src.interpreters.pxla:Compiling nanmean for with global shapes and types [ShapedArray(bool[135]), ShapedArray(float32[]), ShapedArray(float32[])]. Argument mapping: (GSPMDSharding({replicated}), GSPMDSharding({replicated}), GSPMDSharding({replicated})).\n",
      "WARNING:jax._src.dispatch:Finished jaxpr to MLIR module conversion jit(nanmean) in 0.0025060176849365234 sec\n",
      "DEBUG:jax._src.xla_bridge:get_compile_options: num_replicas=1 num_partitions=1 device_assignment=[[CpuDevice(id=0)]]\n",
      "WARNING:jax._src.dispatch:Finished XLA compilation of jit(nanmean) in 0.011026859283447266 sec\n",
      "WARNING:jax._src.dispatch:Finished tracing + transforming jit(slice) in 0.00020265579223632812 sec\n",
      "DEBUG:jax._src.interpreters.pxla:Compiling slice for with global shapes and types [ShapedArray(float32[135])]. Argument mapping: (GSPMDSharding({replicated}),).\n",
      "WARNING:jax._src.dispatch:Finished jaxpr to MLIR module conversion jit(slice) in 0.0016589164733886719 sec\n",
      "DEBUG:jax._src.xla_bridge:get_compile_options: num_replicas=1 num_partitions=1 device_assignment=[[CpuDevice(id=0)]]\n",
      "WARNING:jax._src.dispatch:Finished XLA compilation of jit(slice) in 0.004949808120727539 sec\n",
      "WARNING:jax._src.dispatch:Finished tracing + transforming jit(slice) in 0.0002799034118652344 sec\n",
      "DEBUG:jax._src.interpreters.pxla:Compiling slice for with global shapes and types [ShapedArray(float32[135])]. Argument mapping: (GSPMDSharding({replicated}),).\n",
      "WARNING:jax._src.dispatch:Finished jaxpr to MLIR module conversion jit(slice) in 0.0028591156005859375 sec\n",
      "DEBUG:jax._src.xla_bridge:get_compile_options: num_replicas=1 num_partitions=1 device_assignment=[[CpuDevice(id=0)]]\n",
      "WARNING:jax._src.dispatch:Finished XLA compilation of jit(slice) in 0.005080699920654297 sec\n",
      "WARNING:jax._src.dispatch:Finished tracing + transforming jit(slice) in 0.0001957416534423828 sec\n",
      "DEBUG:jax._src.interpreters.pxla:Compiling slice for with global shapes and types [ShapedArray(float32[135])]. Argument mapping: (GSPMDSharding({replicated}),).\n",
      "WARNING:jax._src.dispatch:Finished jaxpr to MLIR module conversion jit(slice) in 0.001636505126953125 sec\n",
      "DEBUG:jax._src.xla_bridge:get_compile_options: num_replicas=1 num_partitions=1 device_assignment=[[CpuDevice(id=0)]]\n",
      "WARNING:jax._src.dispatch:Finished XLA compilation of jit(slice) in 0.006232500076293945 sec\n",
      "WARNING:jax._src.dispatch:Finished tracing + transforming jit(slice) in 0.00019812583923339844 sec\n",
      "DEBUG:jax._src.interpreters.pxla:Compiling slice for with global shapes and types [ShapedArray(float32[135])]. Argument mapping: (GSPMDSharding({replicated}),).\n",
      "WARNING:jax._src.dispatch:Finished jaxpr to MLIR module conversion jit(slice) in 0.0015592575073242188 sec\n",
      "DEBUG:jax._src.xla_bridge:get_compile_options: num_replicas=1 num_partitions=1 device_assignment=[[CpuDevice(id=0)]]\n",
      "WARNING:jax._src.dispatch:Finished XLA compilation of jit(slice) in 0.004961252212524414 sec\n",
      "WARNING:jax._src.dispatch:Finished tracing + transforming jit(slice) in 0.00019407272338867188 sec\n",
      "DEBUG:jax._src.interpreters.pxla:Compiling slice for with global shapes and types [ShapedArray(float32[135])]. Argument mapping: (GSPMDSharding({replicated}),).\n",
      "WARNING:jax._src.dispatch:Finished jaxpr to MLIR module conversion jit(slice) in 0.002040386199951172 sec\n",
      "DEBUG:jax._src.xla_bridge:get_compile_options: num_replicas=1 num_partitions=1 device_assignment=[[CpuDevice(id=0)]]\n",
      "WARNING:jax._src.dispatch:Finished XLA compilation of jit(slice) in 0.005590677261352539 sec\n",
      "WARNING:jax._src.dispatch:Finished tracing + transforming jit(slice) in 0.00021696090698242188 sec\n",
      "DEBUG:jax._src.interpreters.pxla:Compiling slice for with global shapes and types [ShapedArray(float32[135])]. Argument mapping: (GSPMDSharding({replicated}),).\n",
      "WARNING:jax._src.dispatch:Finished jaxpr to MLIR module conversion jit(slice) in 0.001748800277709961 sec\n",
      "DEBUG:jax._src.xla_bridge:get_compile_options: num_replicas=1 num_partitions=1 device_assignment=[[CpuDevice(id=0)]]\n",
      "WARNING:jax._src.dispatch:Finished XLA compilation of jit(slice) in 0.005695819854736328 sec\n",
      "WARNING:jax._src.dispatch:Finished tracing + transforming jit(slice) in 0.0002989768981933594 sec\n",
      "DEBUG:jax._src.interpreters.pxla:Compiling slice for with global shapes and types [ShapedArray(float32[135])]. Argument mapping: (GSPMDSharding({replicated}),).\n",
      "WARNING:jax._src.dispatch:Finished jaxpr to MLIR module conversion jit(slice) in 0.0017514228820800781 sec\n",
      "DEBUG:jax._src.xla_bridge:get_compile_options: num_replicas=1 num_partitions=1 device_assignment=[[CpuDevice(id=0)]]\n",
      "WARNING:jax._src.dispatch:Finished XLA compilation of jit(slice) in 0.005019664764404297 sec\n",
      "WARNING:jax._src.dispatch:Finished tracing + transforming jit(slice) in 0.00019073486328125 sec\n",
      "DEBUG:jax._src.interpreters.pxla:Compiling slice for with global shapes and types [ShapedArray(float32[135])]. Argument mapping: (GSPMDSharding({replicated}),).\n",
      "WARNING:jax._src.dispatch:Finished jaxpr to MLIR module conversion jit(slice) in 0.0018873214721679688 sec\n",
      "DEBUG:jax._src.xla_bridge:get_compile_options: num_replicas=1 num_partitions=1 device_assignment=[[CpuDevice(id=0)]]\n",
      "WARNING:jax._src.dispatch:Finished XLA compilation of jit(slice) in 0.0063283443450927734 sec\n",
      "WARNING:jax._src.dispatch:Finished tracing + transforming jit(slice) in 0.00019693374633789062 sec\n",
      "DEBUG:jax._src.interpreters.pxla:Compiling slice for with global shapes and types [ShapedArray(float32[135])]. Argument mapping: (GSPMDSharding({replicated}),).\n",
      "WARNING:jax._src.dispatch:Finished jaxpr to MLIR module conversion jit(slice) in 0.0016129016876220703 sec\n",
      "DEBUG:jax._src.xla_bridge:get_compile_options: num_replicas=1 num_partitions=1 device_assignment=[[CpuDevice(id=0)]]\n",
      "WARNING:jax._src.dispatch:Finished XLA compilation of jit(slice) in 0.005026578903198242 sec\n"
     ]
    },
    {
     "data": {
      "application/vnd.jupyter.widget-view+json": {
       "model_id": "",
       "version_major": 2,
       "version_minor": 0
      },
      "text/plain": [
       "Loading to device:   0%|          | 0/39 [00:00<?, ?subject/s]"
      ]
     },
     "metadata": {},
     "output_type": "display_data"
    },
    {
     "data": {
      "application/vnd.jupyter.widget-view+json": {
       "model_id": "",
       "version_major": 2,
       "version_minor": 0
      },
      "text/plain": [
       "Embedding:   0%|          | 0/39 [00:00<?, ?subject/s]"
      ]
     },
     "metadata": {},
     "output_type": "display_data"
    },
    {
     "data": {
      "application/vnd.jupyter.widget-view+json": {
       "model_id": "",
       "version_major": 2,
       "version_minor": 0
      },
      "text/plain": [
       "  0%|          | 0.00/38302.82 [00:00<?, ?longitudinal-days/s]"
      ]
     },
     "metadata": {},
     "output_type": "display_data"
    },
    {
     "name": "stderr",
     "output_type": "stream",
     "text": [
      "WARNING:jax._src.dispatch:Finished tracing + transforming jit(concatenate) in 0.0002727508544921875 sec\n",
      "DEBUG:jax._src.interpreters.pxla:Compiling concatenate for with global shapes and types [ShapedArray(float32[16]), ShapedArray(float32[16]), ShapedArray(float32[16]), ShapedArray(float32[16]), ShapedArray(float32[16]), ShapedArray(float32[16]), ShapedArray(float32[16]), ShapedArray(float32[16]), ShapedArray(float32[6])]. Argument mapping: (GSPMDSharding({replicated}), GSPMDSharding({replicated}), GSPMDSharding({replicated}), GSPMDSharding({replicated}), GSPMDSharding({replicated}), GSPMDSharding({replicated}), GSPMDSharding({replicated}), GSPMDSharding({replicated}), GSPMDSharding({replicated})).\n",
      "WARNING:jax._src.dispatch:Finished jaxpr to MLIR module conversion jit(concatenate) in 0.001516103744506836 sec\n",
      "DEBUG:jax._src.xla_bridge:get_compile_options: num_replicas=1 num_partitions=1 device_assignment=[[CpuDevice(id=0)]]\n",
      "WARNING:jax._src.dispatch:Finished XLA compilation of jit(concatenate) in 0.00676274299621582 sec\n",
      "WARNING:jax._src.dispatch:Finished tracing + transforming jit(convert_element_type) in 0.00026226043701171875 sec\n",
      "WARNING:jax._src.dispatch:Finished tracing + transforming _reduce_sum for pjit in 0.0004782676696777344 sec\n",
      "WARNING:jax._src.dispatch:Finished tracing + transforming _broadcast_arrays for pjit in 0.00041604042053222656 sec\n",
      "WARNING:jax._src.dispatch:Finished tracing + transforming _where for pjit in 0.0014564990997314453 sec\n",
      "WARNING:jax._src.dispatch:Finished tracing + transforming _reduce_sum for pjit in 0.0005321502685546875 sec\n",
      "WARNING:jax._src.dispatch:Finished tracing + transforming nansum for pjit in 0.0036051273345947266 sec\n",
      "WARNING:jax._src.dispatch:Finished tracing + transforming nanmean for pjit in 0.006034374237060547 sec\n",
      "DEBUG:jax._src.interpreters.pxla:Compiling nanmean for with global shapes and types [ShapedArray(float32[134])]. Argument mapping: (GSPMDSharding({replicated}),).\n",
      "WARNING:jax._src.dispatch:Finished jaxpr to MLIR module conversion jit(nanmean) in 0.0034875869750976562 sec\n",
      "DEBUG:jax._src.xla_bridge:get_compile_options: num_replicas=1 num_partitions=1 device_assignment=[[CpuDevice(id=0)]]\n",
      "WARNING:jax._src.dispatch:Finished XLA compilation of jit(nanmean) in 0.023790359497070312 sec\n",
      "DEBUG:jax._src.interpreters.pxla:Compiling nanmean for with global shapes and types [ShapedArray(bool[134]), ShapedArray(float32[]), ShapedArray(float32[])]. Argument mapping: (GSPMDSharding({replicated}), GSPMDSharding({replicated}), GSPMDSharding({replicated})).\n",
      "WARNING:jax._src.dispatch:Finished jaxpr to MLIR module conversion jit(nanmean) in 0.003306865692138672 sec\n",
      "DEBUG:jax._src.xla_bridge:get_compile_options: num_replicas=1 num_partitions=1 device_assignment=[[CpuDevice(id=0)]]\n",
      "WARNING:jax._src.dispatch:Finished XLA compilation of jit(nanmean) in 0.009932518005371094 sec\n",
      "WARNING:jax._src.dispatch:Finished tracing + transforming jit(slice) in 0.0001933574676513672 sec\n",
      "DEBUG:jax._src.interpreters.pxla:Compiling slice for with global shapes and types [ShapedArray(float32[134])]. Argument mapping: (GSPMDSharding({replicated}),).\n",
      "WARNING:jax._src.dispatch:Finished jaxpr to MLIR module conversion jit(slice) in 0.0018374919891357422 sec\n",
      "DEBUG:jax._src.xla_bridge:get_compile_options: num_replicas=1 num_partitions=1 device_assignment=[[CpuDevice(id=0)]]\n",
      "WARNING:jax._src.dispatch:Finished XLA compilation of jit(slice) in 0.00545811653137207 sec\n",
      "WARNING:jax._src.dispatch:Finished tracing + transforming jit(slice) in 0.00020837783813476562 sec\n",
      "DEBUG:jax._src.interpreters.pxla:Compiling slice for with global shapes and types [ShapedArray(float32[134])]. Argument mapping: (GSPMDSharding({replicated}),).\n",
      "WARNING:jax._src.dispatch:Finished jaxpr to MLIR module conversion jit(slice) in 0.0020055770874023438 sec\n",
      "DEBUG:jax._src.xla_bridge:get_compile_options: num_replicas=1 num_partitions=1 device_assignment=[[CpuDevice(id=0)]]\n",
      "WARNING:jax._src.dispatch:Finished XLA compilation of jit(slice) in 0.005173444747924805 sec\n",
      "WARNING:jax._src.dispatch:Finished tracing + transforming jit(slice) in 0.0002014636993408203 sec\n",
      "DEBUG:jax._src.interpreters.pxla:Compiling slice for with global shapes and types [ShapedArray(float32[134])]. Argument mapping: (GSPMDSharding({replicated}),).\n",
      "WARNING:jax._src.dispatch:Finished jaxpr to MLIR module conversion jit(slice) in 0.0020296573638916016 sec\n",
      "DEBUG:jax._src.xla_bridge:get_compile_options: num_replicas=1 num_partitions=1 device_assignment=[[CpuDevice(id=0)]]\n",
      "WARNING:jax._src.dispatch:Finished XLA compilation of jit(slice) in 0.005682945251464844 sec\n",
      "WARNING:jax._src.dispatch:Finished tracing + transforming jit(slice) in 0.0002067089080810547 sec\n",
      "DEBUG:jax._src.interpreters.pxla:Compiling slice for with global shapes and types [ShapedArray(float32[134])]. Argument mapping: (GSPMDSharding({replicated}),).\n",
      "WARNING:jax._src.dispatch:Finished jaxpr to MLIR module conversion jit(slice) in 0.0019419193267822266 sec\n",
      "DEBUG:jax._src.xla_bridge:get_compile_options: num_replicas=1 num_partitions=1 device_assignment=[[CpuDevice(id=0)]]\n",
      "WARNING:jax._src.dispatch:Finished XLA compilation of jit(slice) in 0.005669593811035156 sec\n",
      "WARNING:jax._src.dispatch:Finished tracing + transforming jit(slice) in 0.0002002716064453125 sec\n",
      "DEBUG:jax._src.interpreters.pxla:Compiling slice for with global shapes and types [ShapedArray(float32[134])]. Argument mapping: (GSPMDSharding({replicated}),).\n",
      "WARNING:jax._src.dispatch:Finished jaxpr to MLIR module conversion jit(slice) in 0.002092123031616211 sec\n",
      "DEBUG:jax._src.xla_bridge:get_compile_options: num_replicas=1 num_partitions=1 device_assignment=[[CpuDevice(id=0)]]\n",
      "WARNING:jax._src.dispatch:Finished XLA compilation of jit(slice) in 0.0053365230560302734 sec\n",
      "WARNING:jax._src.dispatch:Finished tracing + transforming jit(slice) in 0.00020265579223632812 sec\n",
      "DEBUG:jax._src.interpreters.pxla:Compiling slice for with global shapes and types [ShapedArray(float32[134])]. Argument mapping: (GSPMDSharding({replicated}),).\n",
      "WARNING:jax._src.dispatch:Finished jaxpr to MLIR module conversion jit(slice) in 0.0019724369049072266 sec\n",
      "DEBUG:jax._src.xla_bridge:get_compile_options: num_replicas=1 num_partitions=1 device_assignment=[[CpuDevice(id=0)]]\n",
      "WARNING:jax._src.dispatch:Finished XLA compilation of jit(slice) in 0.005602836608886719 sec\n",
      "WARNING:jax._src.dispatch:Finished tracing + transforming jit(slice) in 0.00020265579223632812 sec\n",
      "DEBUG:jax._src.interpreters.pxla:Compiling slice for with global shapes and types [ShapedArray(float32[134])]. Argument mapping: (GSPMDSharding({replicated}),).\n",
      "WARNING:jax._src.dispatch:Finished jaxpr to MLIR module conversion jit(slice) in 0.0018701553344726562 sec\n",
      "DEBUG:jax._src.xla_bridge:get_compile_options: num_replicas=1 num_partitions=1 device_assignment=[[CpuDevice(id=0)]]\n",
      "WARNING:jax._src.dispatch:Finished XLA compilation of jit(slice) in 0.005454540252685547 sec\n",
      "WARNING:jax._src.dispatch:Finished tracing + transforming jit(slice) in 0.0002162456512451172 sec\n",
      "DEBUG:jax._src.interpreters.pxla:Compiling slice for with global shapes and types [ShapedArray(float32[134])]. Argument mapping: (GSPMDSharding({replicated}),).\n",
      "WARNING:jax._src.dispatch:Finished jaxpr to MLIR module conversion jit(slice) in 0.0022513866424560547 sec\n",
      "DEBUG:jax._src.xla_bridge:get_compile_options: num_replicas=1 num_partitions=1 device_assignment=[[CpuDevice(id=0)]]\n",
      "WARNING:jax._src.dispatch:Finished XLA compilation of jit(slice) in 0.0053288936614990234 sec\n",
      "WARNING:jax._src.dispatch:Finished tracing + transforming jit(slice) in 0.00020432472229003906 sec\n",
      "DEBUG:jax._src.interpreters.pxla:Compiling slice for with global shapes and types [ShapedArray(float32[134])]. Argument mapping: (GSPMDSharding({replicated}),).\n",
      "WARNING:jax._src.dispatch:Finished jaxpr to MLIR module conversion jit(slice) in 0.0019392967224121094 sec\n",
      "DEBUG:jax._src.xla_bridge:get_compile_options: num_replicas=1 num_partitions=1 device_assignment=[[CpuDevice(id=0)]]\n",
      "WARNING:jax._src.dispatch:Finished XLA compilation of jit(slice) in 0.005761146545410156 sec\n"
     ]
    },
    {
     "data": {
      "application/vnd.jupyter.widget-view+json": {
       "model_id": "",
       "version_major": 2,
       "version_minor": 0
      },
      "text/plain": [
       "Loading to device:   0%|          | 0/47 [00:00<?, ?subject/s]"
      ]
     },
     "metadata": {},
     "output_type": "display_data"
    },
    {
     "data": {
      "application/vnd.jupyter.widget-view+json": {
       "model_id": "",
       "version_major": 2,
       "version_minor": 0
      },
      "text/plain": [
       "Embedding:   0%|          | 0/47 [00:00<?, ?subject/s]"
      ]
     },
     "metadata": {},
     "output_type": "display_data"
    },
    {
     "data": {
      "application/vnd.jupyter.widget-view+json": {
       "model_id": "",
       "version_major": 2,
       "version_minor": 0
      },
      "text/plain": [
       "  0%|          | 0.00/50919.22 [00:00<?, ?longitudinal-days/s]"
      ]
     },
     "metadata": {},
     "output_type": "display_data"
    },
    {
     "data": {
      "application/vnd.jupyter.widget-view+json": {
       "model_id": "",
       "version_major": 2,
       "version_minor": 0
      },
      "text/plain": [
       "Loading to device:   0%|          | 0/20 [00:00<?, ?subject/s]"
      ]
     },
     "metadata": {},
     "output_type": "display_data"
    },
    {
     "data": {
      "application/vnd.jupyter.widget-view+json": {
       "model_id": "",
       "version_major": 2,
       "version_minor": 0
      },
      "text/plain": [
       "Embedding:   0%|          | 0/20 [00:00<?, ?subject/s]"
      ]
     },
     "metadata": {},
     "output_type": "display_data"
    },
    {
     "data": {
      "application/vnd.jupyter.widget-view+json": {
       "model_id": "",
       "version_major": 2,
       "version_minor": 0
      },
      "text/plain": [
       "  0%|          | 0.00/17691.64 [00:00<?, ?longitudinal-days/s]"
      ]
     },
     "metadata": {},
     "output_type": "display_data"
    },
    {
     "name": "stderr",
     "output_type": "stream",
     "text": [
      "WARNING:jax._src.dispatch:Finished tracing + transforming jit(concatenate) in 0.00025177001953125 sec\n",
      "DEBUG:jax._src.interpreters.pxla:Compiling concatenate for with global shapes and types [ShapedArray(float32[16]), ShapedArray(float32[16]), ShapedArray(float32[16]), ShapedArray(float32[16]), ShapedArray(float32[16]), ShapedArray(float32[16]), ShapedArray(float32[5])]. Argument mapping: (GSPMDSharding({replicated}), GSPMDSharding({replicated}), GSPMDSharding({replicated}), GSPMDSharding({replicated}), GSPMDSharding({replicated}), GSPMDSharding({replicated}), GSPMDSharding({replicated})).\n",
      "WARNING:jax._src.dispatch:Finished jaxpr to MLIR module conversion jit(concatenate) in 0.0014548301696777344 sec\n",
      "DEBUG:jax._src.xla_bridge:get_compile_options: num_replicas=1 num_partitions=1 device_assignment=[[CpuDevice(id=0)]]\n",
      "WARNING:jax._src.dispatch:Finished XLA compilation of jit(concatenate) in 0.006496906280517578 sec\n",
      "WARNING:jax._src.dispatch:Finished tracing + transforming jit(convert_element_type) in 0.0002071857452392578 sec\n",
      "WARNING:jax._src.dispatch:Finished tracing + transforming _reduce_sum for pjit in 0.0005738735198974609 sec\n",
      "WARNING:jax._src.dispatch:Finished tracing + transforming _broadcast_arrays for pjit in 0.0003120899200439453 sec\n",
      "WARNING:jax._src.dispatch:Finished tracing + transforming _where for pjit in 0.0012269020080566406 sec\n",
      "WARNING:jax._src.dispatch:Finished tracing + transforming _reduce_sum for pjit in 0.0005331039428710938 sec\n",
      "WARNING:jax._src.dispatch:Finished tracing + transforming nansum for pjit in 0.0035064220428466797 sec\n",
      "WARNING:jax._src.dispatch:Finished tracing + transforming nanmean for pjit in 0.005892515182495117 sec\n",
      "DEBUG:jax._src.interpreters.pxla:Compiling nanmean for with global shapes and types [ShapedArray(float32[101])]. Argument mapping: (GSPMDSharding({replicated}),).\n",
      "WARNING:jax._src.dispatch:Finished jaxpr to MLIR module conversion jit(nanmean) in 0.0033288002014160156 sec\n",
      "DEBUG:jax._src.xla_bridge:get_compile_options: num_replicas=1 num_partitions=1 device_assignment=[[CpuDevice(id=0)]]\n",
      "WARNING:jax._src.dispatch:Finished XLA compilation of jit(nanmean) in 0.021538972854614258 sec\n",
      "DEBUG:jax._src.interpreters.pxla:Compiling nanmean for with global shapes and types [ShapedArray(bool[101]), ShapedArray(float32[]), ShapedArray(float32[])]. Argument mapping: (GSPMDSharding({replicated}), GSPMDSharding({replicated}), GSPMDSharding({replicated})).\n",
      "WARNING:jax._src.dispatch:Finished jaxpr to MLIR module conversion jit(nanmean) in 0.0025191307067871094 sec\n",
      "DEBUG:jax._src.xla_bridge:get_compile_options: num_replicas=1 num_partitions=1 device_assignment=[[CpuDevice(id=0)]]\n",
      "WARNING:jax._src.dispatch:Finished XLA compilation of jit(nanmean) in 0.009435415267944336 sec\n",
      "WARNING:jax._src.dispatch:Finished tracing + transforming jit(slice) in 0.00019669532775878906 sec\n",
      "DEBUG:jax._src.interpreters.pxla:Compiling slice for with global shapes and types [ShapedArray(float32[101])]. Argument mapping: (GSPMDSharding({replicated}),).\n",
      "WARNING:jax._src.dispatch:Finished jaxpr to MLIR module conversion jit(slice) in 0.0014371871948242188 sec\n",
      "DEBUG:jax._src.xla_bridge:get_compile_options: num_replicas=1 num_partitions=1 device_assignment=[[CpuDevice(id=0)]]\n",
      "WARNING:jax._src.dispatch:Finished XLA compilation of jit(slice) in 0.005300998687744141 sec\n",
      "WARNING:jax._src.dispatch:Finished tracing + transforming jit(slice) in 0.00023055076599121094 sec\n",
      "DEBUG:jax._src.interpreters.pxla:Compiling slice for with global shapes and types [ShapedArray(float32[101])]. Argument mapping: (GSPMDSharding({replicated}),).\n",
      "WARNING:jax._src.dispatch:Finished jaxpr to MLIR module conversion jit(slice) in 0.0016889572143554688 sec\n",
      "DEBUG:jax._src.xla_bridge:get_compile_options: num_replicas=1 num_partitions=1 device_assignment=[[CpuDevice(id=0)]]\n",
      "WARNING:jax._src.dispatch:Finished XLA compilation of jit(slice) in 0.005116939544677734 sec\n",
      "WARNING:jax._src.dispatch:Finished tracing + transforming jit(slice) in 0.0007803440093994141 sec\n",
      "DEBUG:jax._src.interpreters.pxla:Compiling slice for with global shapes and types [ShapedArray(float32[101])]. Argument mapping: (GSPMDSharding({replicated}),).\n",
      "WARNING:jax._src.dispatch:Finished jaxpr to MLIR module conversion jit(slice) in 0.0015637874603271484 sec\n",
      "DEBUG:jax._src.xla_bridge:get_compile_options: num_replicas=1 num_partitions=1 device_assignment=[[CpuDevice(id=0)]]\n",
      "WARNING:jax._src.dispatch:Finished XLA compilation of jit(slice) in 0.00540471076965332 sec\n",
      "WARNING:jax._src.dispatch:Finished tracing + transforming jit(slice) in 0.00020122528076171875 sec\n",
      "DEBUG:jax._src.interpreters.pxla:Compiling slice for with global shapes and types [ShapedArray(float32[101])]. Argument mapping: (GSPMDSharding({replicated}),).\n",
      "WARNING:jax._src.dispatch:Finished jaxpr to MLIR module conversion jit(slice) in 0.001547098159790039 sec\n",
      "DEBUG:jax._src.xla_bridge:get_compile_options: num_replicas=1 num_partitions=1 device_assignment=[[CpuDevice(id=0)]]\n",
      "WARNING:jax._src.dispatch:Finished XLA compilation of jit(slice) in 0.004969358444213867 sec\n",
      "WARNING:jax._src.dispatch:Finished tracing + transforming jit(slice) in 0.00020432472229003906 sec\n",
      "DEBUG:jax._src.interpreters.pxla:Compiling slice for with global shapes and types [ShapedArray(float32[101])]. Argument mapping: (GSPMDSharding({replicated}),).\n",
      "WARNING:jax._src.dispatch:Finished jaxpr to MLIR module conversion jit(slice) in 0.0017256736755371094 sec\n",
      "DEBUG:jax._src.xla_bridge:get_compile_options: num_replicas=1 num_partitions=1 device_assignment=[[CpuDevice(id=0)]]\n",
      "WARNING:jax._src.dispatch:Finished XLA compilation of jit(slice) in 0.0051381587982177734 sec\n",
      "WARNING:jax._src.dispatch:Finished tracing + transforming jit(slice) in 0.0001976490020751953 sec\n",
      "DEBUG:jax._src.interpreters.pxla:Compiling slice for with global shapes and types [ShapedArray(float32[101])]. Argument mapping: (GSPMDSharding({replicated}),).\n",
      "WARNING:jax._src.dispatch:Finished jaxpr to MLIR module conversion jit(slice) in 0.00150299072265625 sec\n",
      "DEBUG:jax._src.xla_bridge:get_compile_options: num_replicas=1 num_partitions=1 device_assignment=[[CpuDevice(id=0)]]\n",
      "WARNING:jax._src.dispatch:Finished XLA compilation of jit(slice) in 0.005186557769775391 sec\n",
      "WARNING:jax._src.dispatch:Finished tracing + transforming jit(slice) in 0.0002071857452392578 sec\n",
      "DEBUG:jax._src.interpreters.pxla:Compiling slice for with global shapes and types [ShapedArray(float32[101])]. Argument mapping: (GSPMDSharding({replicated}),).\n",
      "WARNING:jax._src.dispatch:Finished jaxpr to MLIR module conversion jit(slice) in 0.0017924308776855469 sec\n",
      "DEBUG:jax._src.xla_bridge:get_compile_options: num_replicas=1 num_partitions=1 device_assignment=[[CpuDevice(id=0)]]\n",
      "WARNING:jax._src.dispatch:Finished XLA compilation of jit(slice) in 0.005177736282348633 sec\n"
     ]
    },
    {
     "data": {
      "application/vnd.jupyter.widget-view+json": {
       "model_id": "",
       "version_major": 2,
       "version_minor": 0
      },
      "text/plain": [
       "Embedding:   0%|          | 0/20 [00:00<?, ?subject/s]"
      ]
     },
     "metadata": {},
     "output_type": "display_data"
    },
    {
     "name": "stderr",
     "output_type": "stream",
     "text": [
      "DEBUG:jax._src.interpreters.pxla:Compiling _embed_admission for with global shapes and types [ShapedArray(float32[150,17375]), ShapedArray(float32[150]), ShapedArray(float32[30,150]), ShapedArray(float32[30]), ShapedArray(float32[25,7]), ShapedArray(float32[25]), ShapedArray(float32[5,25]), ShapedArray(float32[5]), ShapedArray(float16[7]), ShapedArray(bool[17375])]. Argument mapping: (GSPMDSharding({replicated}), GSPMDSharding({replicated}), GSPMDSharding({replicated}), GSPMDSharding({replicated}), GSPMDSharding({replicated}), GSPMDSharding({replicated}), GSPMDSharding({replicated}), GSPMDSharding({replicated}), GSPMDSharding({replicated}), GSPMDSharding({replicated})).\n",
      "WARNING:jax._src.dispatch:Finished jaxpr to MLIR module conversion jit(_embed_admission) in 0.004579782485961914 sec\n",
      "DEBUG:jax._src.xla_bridge:get_compile_options: num_replicas=1 num_partitions=1 device_assignment=[[CpuDevice(id=0)]]\n",
      "WARNING:jax._src.dispatch:Finished XLA compilation of jit(_embed_admission) in 0.09243512153625488 sec\n"
     ]
    },
    {
     "data": {
      "application/vnd.jupyter.widget-view+json": {
       "model_id": "",
       "version_major": 2,
       "version_minor": 0
      },
      "text/plain": [
       "  0%|          | 0.00/17691.64 [00:00<?, ?longitudinal-days/s]"
      ]
     },
     "metadata": {},
     "output_type": "display_data"
    },
    {
     "name": "stderr",
     "output_type": "stream",
     "text": [
      "DEBUG:jax._src.interpreters.pxla:Compiling _integrate for with global shapes and types [ShapedArray(float32[225,50]), ShapedArray(float32[225]), ShapedArray(float32[225,225]), ShapedArray(float32[225]), ShapedArray(float32[45,225]), ShapedArray(float32[45]), ShapedArray(float32[45]), ShapedArray(float32[], weak_type=True), ShapedArray(float32[5])]. Argument mapping: (GSPMDSharding({replicated}), GSPMDSharding({replicated}), GSPMDSharding({replicated}), GSPMDSharding({replicated}), GSPMDSharding({replicated}), GSPMDSharding({replicated}), GSPMDSharding({replicated}), GSPMDSharding({replicated}), GSPMDSharding({replicated})).\n",
      "WARNING:jax._src.dispatch:Finished jaxpr to MLIR module conversion jit(_integrate) in 0.07005143165588379 sec\n",
      "DEBUG:jax._src.xla_bridge:get_compile_options: num_replicas=1 num_partitions=1 device_assignment=[[CpuDevice(id=0)]]\n",
      "WARNING:jax._src.dispatch:Finished XLA compilation of jit(_integrate) in 0.2894289493560791 sec\n",
      "DEBUG:jax._src.interpreters.pxla:Compiling _decode for with global shapes and types [ShapedArray(float32[150,30]), ShapedArray(float32[150]), ShapedArray(float32[2081,150]), ShapedArray(float32[2081]), ShapedArray(float32[30])]. Argument mapping: (GSPMDSharding({replicated}), GSPMDSharding({replicated}), GSPMDSharding({replicated}), GSPMDSharding({replicated}), GSPMDSharding({replicated})).\n",
      "WARNING:jax._src.dispatch:Finished jaxpr to MLIR module conversion jit(_decode) in 0.0028018951416015625 sec\n",
      "DEBUG:jax._src.xla_bridge:get_compile_options: num_replicas=1 num_partitions=1 device_assignment=[[CpuDevice(id=0)]]\n",
      "WARNING:jax._src.dispatch:Finished XLA compilation of jit(_decode) in 0.050841569900512695 sec\n",
      "DEBUG:jax._src.interpreters.pxla:Compiling _update for with global shapes and types [ShapedArray(float32[30,60]), ShapedArray(float32[30]), ShapedArray(float32[45,30]), ShapedArray(float32[45,15]), ShapedArray(float32[45]), ShapedArray(float32[15]), ShapedArray(float32[15]), ShapedArray(float32[30]), ShapedArray(float32[30])]. Argument mapping: (GSPMDSharding({replicated}), GSPMDSharding({replicated}), GSPMDSharding({replicated}), GSPMDSharding({replicated}), GSPMDSharding({replicated}), GSPMDSharding({replicated}), GSPMDSharding({replicated}), GSPMDSharding({replicated}), GSPMDSharding({replicated})).\n",
      "WARNING:jax._src.dispatch:Finished jaxpr to MLIR module conversion jit(_update) in 0.007123231887817383 sec\n",
      "DEBUG:jax._src.xla_bridge:get_compile_options: num_replicas=1 num_partitions=1 device_assignment=[[CpuDevice(id=0)]]\n",
      "WARNING:jax._src.dispatch:Finished XLA compilation of jit(_update) in 0.08916497230529785 sec\n",
      "WARNING:jax._src.dispatch:Finished tracing + transforming _reduce_sum for pjit in 0.0005350112915039062 sec\n",
      "DEBUG:jax._src.interpreters.pxla:Compiling _reduce_sum for with global shapes and types [ShapedArray(bool[2081])]. Argument mapping: (GSPMDSharding({replicated}),).\n",
      "WARNING:jax._src.dispatch:Finished jaxpr to MLIR module conversion jit(_reduce_sum) in 0.0016558170318603516 sec\n",
      "DEBUG:jax._src.xla_bridge:get_compile_options: num_replicas=1 num_partitions=1 device_assignment=[[CpuDevice(id=0)]]\n",
      "WARNING:jax._src.dispatch:Finished XLA compilation of jit(_reduce_sum) in 0.014920711517333984 sec\n",
      "WARNING:jax._src.dispatch:Finished tracing + transforming <lambda> for pjit in 0.00040650367736816406 sec\n",
      "DEBUG:jax._src.interpreters.pxla:Compiling <lambda> for with global shapes and types [ShapedArray(int32[]), ShapedArray(int32[], weak_type=True)]. Argument mapping: (GSPMDSharding({replicated}), GSPMDSharding({replicated})).\n",
      "WARNING:jax._src.dispatch:Finished jaxpr to MLIR module conversion jit(<lambda>) in 0.0014421939849853516 sec\n",
      "DEBUG:jax._src.xla_bridge:get_compile_options: num_replicas=1 num_partitions=1 device_assignment=[[CpuDevice(id=0)]]\n",
      "WARNING:jax._src.dispatch:Finished XLA compilation of jit(<lambda>) in 0.005025386810302734 sec\n",
      "WARNING:jax._src.dispatch:Finished tracing + transforming ravel for pjit in 0.0002048015594482422 sec\n",
      "WARNING:jax._src.dispatch:Finished tracing + transforming ravel for pjit in 0.00016021728515625 sec\n",
      "WARNING:jax._src.dispatch:Finished tracing + transforming softmax_bce for pjit in 0.003972053527832031 sec\n",
      "DEBUG:jax._src.interpreters.pxla:Compiling softmax_bce for with global shapes and types [ShapedArray(bool[2081]), ShapedArray(float32[2081]), ShapedArray(bool[2081])]. Argument mapping: (GSPMDSharding({replicated}), GSPMDSharding({replicated}), GSPMDSharding({replicated})).\n",
      "WARNING:jax._src.dispatch:Finished jaxpr to MLIR module conversion jit(softmax_bce) in 0.009410858154296875 sec\n",
      "DEBUG:jax._src.xla_bridge:get_compile_options: num_replicas=1 num_partitions=1 device_assignment=[[CpuDevice(id=0)]]\n",
      "WARNING:jax._src.dispatch:Finished XLA compilation of jit(softmax_bce) in 0.05792641639709473 sec\n",
      "DEBUG:jax._src.interpreters.pxla:Compiling nanmean for with global shapes and types [ShapedArray(float32[101])]. Argument mapping: (GSPMDSharding({replicated}),).\n",
      "WARNING:jax._src.dispatch:Finished jaxpr to MLIR module conversion jit(nanmean) in 0.003356456756591797 sec\n",
      "DEBUG:jax._src.xla_bridge:get_compile_options: num_replicas=1 num_partitions=1 device_assignment=[[CpuDevice(id=0)]]\n",
      "WARNING:jax._src.dispatch:Finished XLA compilation of jit(nanmean) in 0.01888132095336914 sec\n",
      "DEBUG:jax._src.interpreters.pxla:Compiling isnan for with global shapes and types [ShapedArray(float32[])]. Argument mapping: (GSPMDSharding({replicated}),).\n",
      "WARNING:jax._src.dispatch:Finished jaxpr to MLIR module conversion jit(isnan) in 0.0013568401336669922 sec\n",
      "DEBUG:jax._src.xla_bridge:get_compile_options: num_replicas=1 num_partitions=1 device_assignment=[[CpuDevice(id=0)]]\n",
      "WARNING:jax._src.dispatch:Finished XLA compilation of jit(isnan) in 0.004904031753540039 sec\n",
      "DEBUG:jax._src.interpreters.pxla:Compiling _where for with global shapes and types [ShapedArray(bool[]), ShapedArray(float32[], weak_type=True), ShapedArray(float32[])]. Argument mapping: (GSPMDSharding({replicated}), GSPMDSharding({replicated}), GSPMDSharding({replicated})).\n",
      "WARNING:jax._src.dispatch:Finished jaxpr to MLIR module conversion jit(_where) in 0.0015959739685058594 sec\n",
      "DEBUG:jax._src.xla_bridge:get_compile_options: num_replicas=1 num_partitions=1 device_assignment=[[CpuDevice(id=0)]]\n",
      "WARNING:jax._src.dispatch:Finished XLA compilation of jit(_where) in 0.006796121597290039 sec\n",
      "DEBUG:jax._src.interpreters.pxla:Compiling softmax_balanced_focal_bce for with global shapes and types [ShapedArray(bool[2081]), ShapedArray(float32[2081]), ShapedArray(bool[2081])]. Argument mapping: (GSPMDSharding({replicated}), GSPMDSharding({replicated}), GSPMDSharding({replicated})).\n",
      "WARNING:jax._src.dispatch:Finished jaxpr to MLIR module conversion jit(softmax_balanced_focal_bce) in 0.01213693618774414 sec\n",
      "DEBUG:jax._src.xla_bridge:get_compile_options: num_replicas=1 num_partitions=1 device_assignment=[[CpuDevice(id=0)]]\n",
      "WARNING:jax._src.dispatch:Finished XLA compilation of jit(softmax_balanced_focal_bce) in 0.08199620246887207 sec\n",
      "WARNING:jax._src.dispatch:Finished tracing + transforming sigmoid for pjit in 0.00018668174743652344 sec\n",
      "WARNING:jax._src.dispatch:Finished tracing + transforming <lambda> for pjit in 0.0003075599670410156 sec\n",
      "WARNING:jax._src.dispatch:Finished tracing + transforming logaddexp for pjit in 0.0011119842529296875 sec\n",
      "WARNING:jax._src.dispatch:Finished tracing + transforming softplus for pjit in 0.002310037612915039 sec\n",
      "WARNING:jax._src.dispatch:Finished tracing + transforming balanced_focal_bce for pjit in 0.012342453002929688 sec\n",
      "DEBUG:jax._src.interpreters.pxla:Compiling balanced_focal_bce for with global shapes and types [ShapedArray(bool[2081]), ShapedArray(float32[2081]), ShapedArray(bool[2081])]. Argument mapping: (GSPMDSharding({replicated}), GSPMDSharding({replicated}), GSPMDSharding({replicated})).\n",
      "WARNING:jax._src.dispatch:Finished jaxpr to MLIR module conversion jit(balanced_focal_bce) in 0.015956640243530273 sec\n",
      "DEBUG:jax._src.xla_bridge:get_compile_options: num_replicas=1 num_partitions=1 device_assignment=[[CpuDevice(id=0)]]\n",
      "WARNING:jax._src.dispatch:Finished XLA compilation of jit(balanced_focal_bce) in 0.07540416717529297 sec\n",
      "WARNING:jax._src.dispatch:Finished tracing + transforming <lambda> for pjit in 0.0002942085266113281 sec\n"
     ]
    },
    {
     "name": "stderr",
     "output_type": "stream",
     "text": [
      "WARNING:jax._src.dispatch:Finished tracing + transforming <lambda> for pjit in 0.00028228759765625 sec\n",
      "WARNING:jax._src.dispatch:Finished tracing + transforming fn for pjit in 0.0003886222839355469 sec\n",
      "WARNING:jax._src.dispatch:Finished tracing + transforming fn for pjit in 0.0007131099700927734 sec\n",
      "WARNING:jax._src.dispatch:Finished tracing + transforming fn for pjit in 0.0004889965057373047 sec\n",
      "WARNING:jax._src.dispatch:Finished tracing + transforming <lambda> for pjit in 0.0002841949462890625 sec\n",
      "WARNING:jax._src.dispatch:Finished tracing + transforming <lambda> for pjit in 0.00031447410583496094 sec\n",
      "WARNING:jax._src.dispatch:Finished tracing + transforming <lambda> for pjit in 0.00025916099548339844 sec\n",
      "WARNING:jax._src.dispatch:Finished tracing + transforming triu for pjit in 0.0007996559143066406 sec\n",
      "WARNING:jax._src.dispatch:Finished tracing + transforming _broadcast_arrays for pjit in 0.0003058910369873047 sec\n",
      "WARNING:jax._src.dispatch:Finished tracing + transforming _where for pjit in 0.0011861324310302734 sec\n",
      "WARNING:jax._src.dispatch:Finished tracing + transforming _reduce_sum for pjit in 0.002290487289428711 sec\n",
      "WARNING:jax._src.dispatch:Finished tracing + transforming _broadcast_arrays for pjit in 0.0004265308380126953 sec\n",
      "WARNING:jax._src.dispatch:Finished tracing + transforming _where for pjit in 0.001329183578491211 sec\n",
      "WARNING:jax._src.dispatch:Finished tracing + transforming _broadcast_arrays for pjit in 0.0002906322479248047 sec\n",
      "WARNING:jax._src.dispatch:Finished tracing + transforming _where for pjit in 0.0011305809020996094 sec\n",
      "WARNING:jax._src.dispatch:Finished tracing + transforming _reduce_sum for pjit in 0.0020308494567871094 sec\n",
      "WARNING:jax._src.dispatch:Finished tracing + transforming nansum for pjit in 0.005805253982543945 sec\n",
      "WARNING:jax._src.dispatch:Finished tracing + transforming nanmean for pjit in 0.010032176971435547 sec\n",
      "WARNING:jax._src.dispatch:Finished tracing + transforming allpairs_exp_rank for pjit in 0.02221059799194336 sec\n",
      "DEBUG:jax._src.interpreters.pxla:Compiling allpairs_exp_rank for with global shapes and types [ShapedArray(bool[2081]), ShapedArray(float32[2081]), ShapedArray(bool[2081])]. Argument mapping: (GSPMDSharding({replicated}), GSPMDSharding({replicated}), GSPMDSharding({replicated})).\n",
      "WARNING:jax._src.dispatch:Finished jaxpr to MLIR module conversion jit(allpairs_exp_rank) in 0.009856700897216797 sec\n",
      "DEBUG:jax._src.xla_bridge:get_compile_options: num_replicas=1 num_partitions=1 device_assignment=[[CpuDevice(id=0)]]\n",
      "WARNING:jax._src.dispatch:Finished XLA compilation of jit(allpairs_exp_rank) in 0.06242060661315918 sec\n",
      "WARNING:jax._src.dispatch:Finished tracing + transforming fn for pjit in 0.0003650188446044922 sec\n",
      "WARNING:jax._src.dispatch:Finished tracing + transforming <lambda> for pjit in 0.0001957416534423828 sec\n",
      "WARNING:jax._src.dispatch:Finished tracing + transforming _where for pjit in 0.0006299018859863281 sec\n",
      "WARNING:jax._src.dispatch:Finished tracing + transforming fn for pjit in 0.0010519027709960938 sec\n",
      "WARNING:jax._src.dispatch:Finished tracing + transforming allpairs_hard_rank for pjit in 0.008034706115722656 sec\n",
      "DEBUG:jax._src.interpreters.pxla:Compiling allpairs_hard_rank for with global shapes and types [ShapedArray(bool[2081]), ShapedArray(float32[2081]), ShapedArray(bool[2081])]. Argument mapping: (GSPMDSharding({replicated}), GSPMDSharding({replicated}), GSPMDSharding({replicated})).\n",
      "WARNING:jax._src.dispatch:Finished jaxpr to MLIR module conversion jit(allpairs_hard_rank) in 0.010183095932006836 sec\n",
      "DEBUG:jax._src.xla_bridge:get_compile_options: num_replicas=1 num_partitions=1 device_assignment=[[CpuDevice(id=0)]]\n",
      "WARNING:jax._src.dispatch:Finished XLA compilation of jit(allpairs_hard_rank) in 0.05010223388671875 sec\n",
      "WARNING:jax._src.dispatch:Finished tracing + transforming sigmoid for pjit in 0.0002868175506591797 sec\n",
      "WARNING:jax._src.dispatch:Finished tracing + transforming allpairs_sigmoid_rank for pjit in 0.006214618682861328 sec\n",
      "DEBUG:jax._src.interpreters.pxla:Compiling allpairs_sigmoid_rank for with global shapes and types [ShapedArray(bool[2081]), ShapedArray(float32[2081]), ShapedArray(bool[2081])]. Argument mapping: (GSPMDSharding({replicated}), GSPMDSharding({replicated}), GSPMDSharding({replicated})).\n",
      "WARNING:jax._src.dispatch:Finished jaxpr to MLIR module conversion jit(allpairs_sigmoid_rank) in 0.011543750762939453 sec\n",
      "DEBUG:jax._src.xla_bridge:get_compile_options: num_replicas=1 num_partitions=1 device_assignment=[[CpuDevice(id=0)]]\n",
      "WARNING:jax._src.dispatch:Finished XLA compilation of jit(allpairs_sigmoid_rank) in 0.05890822410583496 sec\n"
     ]
    },
    {
     "data": {
      "application/vnd.jupyter.widget-view+json": {
       "model_id": "",
       "version_major": 2,
       "version_minor": 0
      },
      "text/plain": [
       "Embedding:   0%|          | 0/58 [00:00<?, ?subject/s]"
      ]
     },
     "metadata": {},
     "output_type": "display_data"
    },
    {
     "data": {
      "application/vnd.jupyter.widget-view+json": {
       "model_id": "",
       "version_major": 2,
       "version_minor": 0
      },
      "text/plain": [
       "  0%|          | 0.00/52497.25 [00:00<?, ?longitudinal-days/s]"
      ]
     },
     "metadata": {},
     "output_type": "display_data"
    },
    {
     "name": "stderr",
     "output_type": "stream",
     "text": [
      "WARNING:jax._src.dispatch:Finished tracing + transforming jit(concatenate) in 0.00030303001403808594 sec\n",
      "DEBUG:jax._src.interpreters.pxla:Compiling concatenate for with global shapes and types [ShapedArray(float32[16]), ShapedArray(float32[16]), ShapedArray(float32[16]), ShapedArray(float32[16]), ShapedArray(float32[16]), ShapedArray(float32[16]), ShapedArray(float32[16]), ShapedArray(float32[16]), ShapedArray(float32[16]), ShapedArray(float32[16]), ShapedArray(float32[2])]. Argument mapping: (GSPMDSharding({replicated}), GSPMDSharding({replicated}), GSPMDSharding({replicated}), GSPMDSharding({replicated}), GSPMDSharding({replicated}), GSPMDSharding({replicated}), GSPMDSharding({replicated}), GSPMDSharding({replicated}), GSPMDSharding({replicated}), GSPMDSharding({replicated}), GSPMDSharding({replicated})).\n",
      "WARNING:jax._src.dispatch:Finished jaxpr to MLIR module conversion jit(concatenate) in 0.0015676021575927734 sec\n",
      "DEBUG:jax._src.xla_bridge:get_compile_options: num_replicas=1 num_partitions=1 device_assignment=[[CpuDevice(id=0)]]\n",
      "WARNING:jax._src.dispatch:Finished XLA compilation of jit(concatenate) in 0.007297039031982422 sec\n",
      "WARNING:jax._src.dispatch:Finished tracing + transforming _reduce_sum for pjit in 0.0008556842803955078 sec\n",
      "WARNING:jax._src.dispatch:Finished tracing + transforming _broadcast_arrays for pjit in 0.0003376007080078125 sec\n",
      "WARNING:jax._src.dispatch:Finished tracing + transforming _where for pjit in 0.0013053417205810547 sec\n",
      "WARNING:jax._src.dispatch:Finished tracing + transforming _reduce_sum for pjit in 0.0004634857177734375 sec\n",
      "WARNING:jax._src.dispatch:Finished tracing + transforming nansum for pjit in 0.0035457611083984375 sec\n",
      "WARNING:jax._src.dispatch:Finished tracing + transforming nanmean for pjit in 0.006590127944946289 sec\n",
      "DEBUG:jax._src.interpreters.pxla:Compiling nanmean for with global shapes and types [ShapedArray(float32[162])]. Argument mapping: (GSPMDSharding({replicated}),).\n",
      "WARNING:jax._src.dispatch:Finished jaxpr to MLIR module conversion jit(nanmean) in 0.003494739532470703 sec\n",
      "DEBUG:jax._src.xla_bridge:get_compile_options: num_replicas=1 num_partitions=1 device_assignment=[[CpuDevice(id=0)]]\n",
      "WARNING:jax._src.dispatch:Finished XLA compilation of jit(nanmean) in 0.02019023895263672 sec\n"
     ]
    },
    {
     "data": {
      "application/vnd.jupyter.widget-view+json": {
       "model_id": "",
       "version_major": 2,
       "version_minor": 0
      },
      "text/plain": [
       "Loading to device:   0%|          | 0/36 [00:00<?, ?subject/s]"
      ]
     },
     "metadata": {},
     "output_type": "display_data"
    },
    {
     "data": {
      "application/vnd.jupyter.widget-view+json": {
       "model_id": "",
       "version_major": 2,
       "version_minor": 0
      },
      "text/plain": [
       "Embedding:   0%|          | 0/36 [00:00<?, ?subject/s]"
      ]
     },
     "metadata": {},
     "output_type": "display_data"
    },
    {
     "data": {
      "application/vnd.jupyter.widget-view+json": {
       "model_id": "",
       "version_major": 2,
       "version_minor": 0
      },
      "text/plain": [
       "  0%|          | 0.00/34759.10 [00:00<?, ?longitudinal-days/s]"
      ]
     },
     "metadata": {},
     "output_type": "display_data"
    },
    {
     "name": "stderr",
     "output_type": "stream",
     "text": [
      "WARNING:jax._src.dispatch:Finished tracing + transforming jit(concatenate) in 0.00032401084899902344 sec\n",
      "DEBUG:jax._src.interpreters.pxla:Compiling concatenate for with global shapes and types [ShapedArray(float32[16]), ShapedArray(float32[16]), ShapedArray(float32[16]), ShapedArray(float32[16]), ShapedArray(float32[16]), ShapedArray(float32[16]), ShapedArray(float32[16]), ShapedArray(float32[16]), ShapedArray(float32[16]), ShapedArray(float32[16]), ShapedArray(float32[3])]. Argument mapping: (GSPMDSharding({replicated}), GSPMDSharding({replicated}), GSPMDSharding({replicated}), GSPMDSharding({replicated}), GSPMDSharding({replicated}), GSPMDSharding({replicated}), GSPMDSharding({replicated}), GSPMDSharding({replicated}), GSPMDSharding({replicated}), GSPMDSharding({replicated}), GSPMDSharding({replicated})).\n",
      "WARNING:jax._src.dispatch:Finished jaxpr to MLIR module conversion jit(concatenate) in 0.0014843940734863281 sec\n",
      "DEBUG:jax._src.xla_bridge:get_compile_options: num_replicas=1 num_partitions=1 device_assignment=[[CpuDevice(id=0)]]\n",
      "WARNING:jax._src.dispatch:Finished XLA compilation of jit(concatenate) in 0.0067136287689208984 sec\n",
      "WARNING:jax._src.dispatch:Finished tracing + transforming jit(convert_element_type) in 0.00023698806762695312 sec\n",
      "WARNING:jax._src.dispatch:Finished tracing + transforming _reduce_sum for pjit in 0.0005278587341308594 sec\n",
      "WARNING:jax._src.dispatch:Finished tracing + transforming _broadcast_arrays for pjit in 0.00031638145446777344 sec\n",
      "WARNING:jax._src.dispatch:Finished tracing + transforming _where for pjit in 0.0014095306396484375 sec\n",
      "WARNING:jax._src.dispatch:Finished tracing + transforming _reduce_sum for pjit in 0.0008065700531005859 sec\n",
      "WARNING:jax._src.dispatch:Finished tracing + transforming nansum for pjit in 0.0037603378295898438 sec\n",
      "WARNING:jax._src.dispatch:Finished tracing + transforming nanmean for pjit in 0.006117343902587891 sec\n",
      "DEBUG:jax._src.interpreters.pxla:Compiling nanmean for with global shapes and types [ShapedArray(float32[163])]. Argument mapping: (GSPMDSharding({replicated}),).\n",
      "WARNING:jax._src.dispatch:Finished jaxpr to MLIR module conversion jit(nanmean) in 0.003736734390258789 sec\n",
      "DEBUG:jax._src.xla_bridge:get_compile_options: num_replicas=1 num_partitions=1 device_assignment=[[CpuDevice(id=0)]]\n",
      "WARNING:jax._src.dispatch:Finished XLA compilation of jit(nanmean) in 0.023260116577148438 sec\n",
      "DEBUG:jax._src.interpreters.pxla:Compiling nanmean for with global shapes and types [ShapedArray(bool[163]), ShapedArray(float32[]), ShapedArray(float32[])]. Argument mapping: (GSPMDSharding({replicated}), GSPMDSharding({replicated}), GSPMDSharding({replicated})).\n",
      "WARNING:jax._src.dispatch:Finished jaxpr to MLIR module conversion jit(nanmean) in 0.003267526626586914 sec\n",
      "DEBUG:jax._src.xla_bridge:get_compile_options: num_replicas=1 num_partitions=1 device_assignment=[[CpuDevice(id=0)]]\n",
      "WARNING:jax._src.dispatch:Finished XLA compilation of jit(nanmean) in 0.009251594543457031 sec\n",
      "WARNING:jax._src.dispatch:Finished tracing + transforming jit(slice) in 0.0001919269561767578 sec\n",
      "DEBUG:jax._src.interpreters.pxla:Compiling slice for with global shapes and types [ShapedArray(float32[163])]. Argument mapping: (GSPMDSharding({replicated}),).\n",
      "WARNING:jax._src.dispatch:Finished jaxpr to MLIR module conversion jit(slice) in 0.001232147216796875 sec\n",
      "DEBUG:jax._src.xla_bridge:get_compile_options: num_replicas=1 num_partitions=1 device_assignment=[[CpuDevice(id=0)]]\n",
      "WARNING:jax._src.dispatch:Finished XLA compilation of jit(slice) in 0.00506591796875 sec\n",
      "WARNING:jax._src.dispatch:Finished tracing + transforming jit(slice) in 0.0002281665802001953 sec\n",
      "DEBUG:jax._src.interpreters.pxla:Compiling slice for with global shapes and types [ShapedArray(float32[163])]. Argument mapping: (GSPMDSharding({replicated}),).\n",
      "WARNING:jax._src.dispatch:Finished jaxpr to MLIR module conversion jit(slice) in 0.0015418529510498047 sec\n",
      "DEBUG:jax._src.xla_bridge:get_compile_options: num_replicas=1 num_partitions=1 device_assignment=[[CpuDevice(id=0)]]\n",
      "WARNING:jax._src.dispatch:Finished XLA compilation of jit(slice) in 0.004853010177612305 sec\n",
      "WARNING:jax._src.dispatch:Finished tracing + transforming jit(slice) in 0.0002079010009765625 sec\n",
      "DEBUG:jax._src.interpreters.pxla:Compiling slice for with global shapes and types [ShapedArray(float32[163])]. Argument mapping: (GSPMDSharding({replicated}),).\n",
      "WARNING:jax._src.dispatch:Finished jaxpr to MLIR module conversion jit(slice) in 0.001623392105102539 sec\n",
      "DEBUG:jax._src.xla_bridge:get_compile_options: num_replicas=1 num_partitions=1 device_assignment=[[CpuDevice(id=0)]]\n",
      "WARNING:jax._src.dispatch:Finished XLA compilation of jit(slice) in 0.005196332931518555 sec\n",
      "WARNING:jax._src.dispatch:Finished tracing + transforming jit(slice) in 0.0002295970916748047 sec\n",
      "DEBUG:jax._src.interpreters.pxla:Compiling slice for with global shapes and types [ShapedArray(float32[163])]. Argument mapping: (GSPMDSharding({replicated}),).\n",
      "WARNING:jax._src.dispatch:Finished jaxpr to MLIR module conversion jit(slice) in 0.0014994144439697266 sec\n",
      "DEBUG:jax._src.xla_bridge:get_compile_options: num_replicas=1 num_partitions=1 device_assignment=[[CpuDevice(id=0)]]\n",
      "WARNING:jax._src.dispatch:Finished XLA compilation of jit(slice) in 0.00487065315246582 sec\n",
      "WARNING:jax._src.dispatch:Finished tracing + transforming jit(slice) in 0.00021719932556152344 sec\n",
      "DEBUG:jax._src.interpreters.pxla:Compiling slice for with global shapes and types [ShapedArray(float32[163])]. Argument mapping: (GSPMDSharding({replicated}),).\n",
      "WARNING:jax._src.dispatch:Finished jaxpr to MLIR module conversion jit(slice) in 0.001575469970703125 sec\n",
      "DEBUG:jax._src.xla_bridge:get_compile_options: num_replicas=1 num_partitions=1 device_assignment=[[CpuDevice(id=0)]]\n",
      "WARNING:jax._src.dispatch:Finished XLA compilation of jit(slice) in 0.005161762237548828 sec\n",
      "WARNING:jax._src.dispatch:Finished tracing + transforming jit(slice) in 0.00019812583923339844 sec\n",
      "DEBUG:jax._src.interpreters.pxla:Compiling slice for with global shapes and types [ShapedArray(float32[163])]. Argument mapping: (GSPMDSharding({replicated}),).\n",
      "WARNING:jax._src.dispatch:Finished jaxpr to MLIR module conversion jit(slice) in 0.0019631385803222656 sec\n",
      "DEBUG:jax._src.xla_bridge:get_compile_options: num_replicas=1 num_partitions=1 device_assignment=[[CpuDevice(id=0)]]\n",
      "WARNING:jax._src.dispatch:Finished XLA compilation of jit(slice) in 0.004823446273803711 sec\n",
      "WARNING:jax._src.dispatch:Finished tracing + transforming jit(slice) in 0.0001964569091796875 sec\n",
      "DEBUG:jax._src.interpreters.pxla:Compiling slice for with global shapes and types [ShapedArray(float32[163])]. Argument mapping: (GSPMDSharding({replicated}),).\n",
      "WARNING:jax._src.dispatch:Finished jaxpr to MLIR module conversion jit(slice) in 0.0014858245849609375 sec\n",
      "DEBUG:jax._src.xla_bridge:get_compile_options: num_replicas=1 num_partitions=1 device_assignment=[[CpuDevice(id=0)]]\n",
      "WARNING:jax._src.dispatch:Finished XLA compilation of jit(slice) in 0.004842996597290039 sec\n",
      "WARNING:jax._src.dispatch:Finished tracing + transforming jit(slice) in 0.0002040863037109375 sec\n",
      "DEBUG:jax._src.interpreters.pxla:Compiling slice for with global shapes and types [ShapedArray(float32[163])]. Argument mapping: (GSPMDSharding({replicated}),).\n",
      "WARNING:jax._src.dispatch:Finished jaxpr to MLIR module conversion jit(slice) in 0.001520395278930664 sec\n",
      "DEBUG:jax._src.xla_bridge:get_compile_options: num_replicas=1 num_partitions=1 device_assignment=[[CpuDevice(id=0)]]\n",
      "WARNING:jax._src.dispatch:Finished XLA compilation of jit(slice) in 0.004786252975463867 sec\n",
      "WARNING:jax._src.dispatch:Finished tracing + transforming jit(slice) in 0.00022983551025390625 sec\n",
      "DEBUG:jax._src.interpreters.pxla:Compiling slice for with global shapes and types [ShapedArray(float32[163])]. Argument mapping: (GSPMDSharding({replicated}),).\n",
      "WARNING:jax._src.dispatch:Finished jaxpr to MLIR module conversion jit(slice) in 0.0016202926635742188 sec\n",
      "DEBUG:jax._src.xla_bridge:get_compile_options: num_replicas=1 num_partitions=1 device_assignment=[[CpuDevice(id=0)]]\n",
      "WARNING:jax._src.dispatch:Finished XLA compilation of jit(slice) in 0.004772663116455078 sec\n",
      "WARNING:jax._src.dispatch:Finished tracing + transforming jit(slice) in 0.00020384788513183594 sec\n"
     ]
    },
    {
     "name": "stderr",
     "output_type": "stream",
     "text": [
      "DEBUG:jax._src.interpreters.pxla:Compiling slice for with global shapes and types [ShapedArray(float32[163])]. Argument mapping: (GSPMDSharding({replicated}),).\n",
      "WARNING:jax._src.dispatch:Finished jaxpr to MLIR module conversion jit(slice) in 0.0014071464538574219 sec\n",
      "DEBUG:jax._src.xla_bridge:get_compile_options: num_replicas=1 num_partitions=1 device_assignment=[[CpuDevice(id=0)]]\n",
      "WARNING:jax._src.dispatch:Finished XLA compilation of jit(slice) in 0.004903554916381836 sec\n",
      "WARNING:jax._src.dispatch:Finished tracing + transforming jit(slice) in 0.00020503997802734375 sec\n",
      "DEBUG:jax._src.interpreters.pxla:Compiling slice for with global shapes and types [ShapedArray(float32[163])]. Argument mapping: (GSPMDSharding({replicated}),).\n",
      "WARNING:jax._src.dispatch:Finished jaxpr to MLIR module conversion jit(slice) in 0.0015740394592285156 sec\n",
      "DEBUG:jax._src.xla_bridge:get_compile_options: num_replicas=1 num_partitions=1 device_assignment=[[CpuDevice(id=0)]]\n",
      "WARNING:jax._src.dispatch:Finished XLA compilation of jit(slice) in 0.0047321319580078125 sec\n"
     ]
    },
    {
     "data": {
      "application/vnd.jupyter.widget-view+json": {
       "model_id": "",
       "version_major": 2,
       "version_minor": 0
      },
      "text/plain": [
       "Loading to device:   0%|          | 0/52 [00:00<?, ?subject/s]"
      ]
     },
     "metadata": {},
     "output_type": "display_data"
    },
    {
     "data": {
      "application/vnd.jupyter.widget-view+json": {
       "model_id": "",
       "version_major": 2,
       "version_minor": 0
      },
      "text/plain": [
       "Embedding:   0%|          | 0/52 [00:00<?, ?subject/s]"
      ]
     },
     "metadata": {},
     "output_type": "display_data"
    },
    {
     "data": {
      "application/vnd.jupyter.widget-view+json": {
       "model_id": "",
       "version_major": 2,
       "version_minor": 0
      },
      "text/plain": [
       "  0%|          | 0.00/53577.73 [00:00<?, ?longitudinal-days/s]"
      ]
     },
     "metadata": {},
     "output_type": "display_data"
    },
    {
     "data": {
      "application/vnd.jupyter.widget-view+json": {
       "model_id": "",
       "version_major": 2,
       "version_minor": 0
      },
      "text/plain": [
       "Loading to device:   0%|          | 0/43 [00:00<?, ?subject/s]"
      ]
     },
     "metadata": {},
     "output_type": "display_data"
    },
    {
     "data": {
      "application/vnd.jupyter.widget-view+json": {
       "model_id": "",
       "version_major": 2,
       "version_minor": 0
      },
      "text/plain": [
       "Embedding:   0%|          | 0/43 [00:00<?, ?subject/s]"
      ]
     },
     "metadata": {},
     "output_type": "display_data"
    },
    {
     "data": {
      "application/vnd.jupyter.widget-view+json": {
       "model_id": "",
       "version_major": 2,
       "version_minor": 0
      },
      "text/plain": [
       "  0%|          | 0.00/42394.08 [00:00<?, ?longitudinal-days/s]"
      ]
     },
     "metadata": {},
     "output_type": "display_data"
    },
    {
     "data": {
      "application/vnd.jupyter.widget-view+json": {
       "model_id": "",
       "version_major": 2,
       "version_minor": 0
      },
      "text/plain": [
       "Loading to device:   0%|          | 0/34 [00:00<?, ?subject/s]"
      ]
     },
     "metadata": {},
     "output_type": "display_data"
    },
    {
     "data": {
      "application/vnd.jupyter.widget-view+json": {
       "model_id": "",
       "version_major": 2,
       "version_minor": 0
      },
      "text/plain": [
       "Embedding:   0%|          | 0/34 [00:00<?, ?subject/s]"
      ]
     },
     "metadata": {},
     "output_type": "display_data"
    },
    {
     "data": {
      "application/vnd.jupyter.widget-view+json": {
       "model_id": "",
       "version_major": 2,
       "version_minor": 0
      },
      "text/plain": [
       "  0%|          | 0.00/38175.63 [00:00<?, ?longitudinal-days/s]"
      ]
     },
     "metadata": {},
     "output_type": "display_data"
    },
    {
     "name": "stderr",
     "output_type": "stream",
     "text": [
      "WARNING:jax._src.dispatch:Finished tracing + transforming jit(copy) in 0.00018858909606933594 sec\n",
      "DEBUG:jax._src.interpreters.pxla:Compiling copy for with global shapes and types [ShapedArray(int32[890])]. Argument mapping: (GSPMDSharding({replicated}),).\n",
      "WARNING:jax._src.dispatch:Finished jaxpr to MLIR module conversion jit(copy) in 0.0014853477478027344 sec\n",
      "DEBUG:jax._src.xla_bridge:get_compile_options: num_replicas=1 num_partitions=1 device_assignment=[[CpuDevice(id=0)]]\n",
      "WARNING:jax._src.dispatch:Finished XLA compilation of jit(copy) in 0.006369590759277344 sec\n"
     ]
    },
    {
     "data": {
      "application/vnd.jupyter.widget-view+json": {
       "model_id": "",
       "version_major": 2,
       "version_minor": 0
      },
      "text/plain": [
       "  0%|          | 0/23 [00:00<?, ?Batch/s]"
      ]
     },
     "metadata": {},
     "output_type": "display_data"
    },
    {
     "data": {
      "application/vnd.jupyter.widget-view+json": {
       "model_id": "",
       "version_major": 2,
       "version_minor": 0
      },
      "text/plain": [
       "Loading to device:   0%|          | 0/34 [00:00<?, ?subject/s]"
      ]
     },
     "metadata": {},
     "output_type": "display_data"
    },
    {
     "data": {
      "application/vnd.jupyter.widget-view+json": {
       "model_id": "",
       "version_major": 2,
       "version_minor": 0
      },
      "text/plain": [
       "Embedding:   0%|          | 0/34 [00:00<?, ?subject/s]"
      ]
     },
     "metadata": {},
     "output_type": "display_data"
    },
    {
     "data": {
      "application/vnd.jupyter.widget-view+json": {
       "model_id": "",
       "version_major": 2,
       "version_minor": 0
      },
      "text/plain": [
       "  0%|          | 0.00/37403.22 [00:00<?, ?longitudinal-days/s]"
      ]
     },
     "metadata": {},
     "output_type": "display_data"
    },
    {
     "name": "stderr",
     "output_type": "stream",
     "text": [
      "WARNING:jax._src.dispatch:Finished tracing + transforming jit(concatenate) in 0.00025773048400878906 sec\n",
      "DEBUG:jax._src.interpreters.pxla:Compiling concatenate for with global shapes and types [ShapedArray(float32[16]), ShapedArray(float32[16]), ShapedArray(float32[16]), ShapedArray(float32[16]), ShapedArray(float32[16]), ShapedArray(float32[16]), ShapedArray(float32[16]), ShapedArray(float32[1])]. Argument mapping: (GSPMDSharding({replicated}), GSPMDSharding({replicated}), GSPMDSharding({replicated}), GSPMDSharding({replicated}), GSPMDSharding({replicated}), GSPMDSharding({replicated}), GSPMDSharding({replicated}), GSPMDSharding({replicated})).\n",
      "WARNING:jax._src.dispatch:Finished jaxpr to MLIR module conversion jit(concatenate) in 0.0014989376068115234 sec\n",
      "DEBUG:jax._src.xla_bridge:get_compile_options: num_replicas=1 num_partitions=1 device_assignment=[[CpuDevice(id=0)]]\n",
      "WARNING:jax._src.dispatch:Finished XLA compilation of jit(concatenate) in 0.006201028823852539 sec\n",
      "WARNING:jax._src.dispatch:Finished tracing + transforming jit(convert_element_type) in 0.000507354736328125 sec\n",
      "WARNING:jax._src.dispatch:Finished tracing + transforming _reduce_sum for pjit in 0.0005173683166503906 sec\n",
      "WARNING:jax._src.dispatch:Finished tracing + transforming _broadcast_arrays for pjit in 0.00033164024353027344 sec\n",
      "WARNING:jax._src.dispatch:Finished tracing + transforming _where for pjit in 0.0014300346374511719 sec\n",
      "WARNING:jax._src.dispatch:Finished tracing + transforming _reduce_sum for pjit in 0.0005006790161132812 sec\n",
      "WARNING:jax._src.dispatch:Finished tracing + transforming nansum for pjit in 0.003364086151123047 sec\n",
      "WARNING:jax._src.dispatch:Finished tracing + transforming nanmean for pjit in 0.005652666091918945 sec\n",
      "DEBUG:jax._src.interpreters.pxla:Compiling nanmean for with global shapes and types [ShapedArray(float32[113])]. Argument mapping: (GSPMDSharding({replicated}),).\n",
      "WARNING:jax._src.dispatch:Finished jaxpr to MLIR module conversion jit(nanmean) in 0.003532886505126953 sec\n",
      "DEBUG:jax._src.xla_bridge:get_compile_options: num_replicas=1 num_partitions=1 device_assignment=[[CpuDevice(id=0)]]\n",
      "WARNING:jax._src.dispatch:Finished XLA compilation of jit(nanmean) in 0.02145099639892578 sec\n",
      "DEBUG:jax._src.interpreters.pxla:Compiling nanmean for with global shapes and types [ShapedArray(bool[113]), ShapedArray(float32[]), ShapedArray(float32[])]. Argument mapping: (GSPMDSharding({replicated}), GSPMDSharding({replicated}), GSPMDSharding({replicated})).\n",
      "WARNING:jax._src.dispatch:Finished jaxpr to MLIR module conversion jit(nanmean) in 0.0026497840881347656 sec\n",
      "DEBUG:jax._src.xla_bridge:get_compile_options: num_replicas=1 num_partitions=1 device_assignment=[[CpuDevice(id=0)]]\n",
      "WARNING:jax._src.dispatch:Finished XLA compilation of jit(nanmean) in 0.008356571197509766 sec\n",
      "WARNING:jax._src.dispatch:Finished tracing + transforming jit(slice) in 0.00029277801513671875 sec\n",
      "DEBUG:jax._src.interpreters.pxla:Compiling slice for with global shapes and types [ShapedArray(float32[113])]. Argument mapping: (GSPMDSharding({replicated}),).\n",
      "WARNING:jax._src.dispatch:Finished jaxpr to MLIR module conversion jit(slice) in 0.0021173954010009766 sec\n",
      "DEBUG:jax._src.xla_bridge:get_compile_options: num_replicas=1 num_partitions=1 device_assignment=[[CpuDevice(id=0)]]\n",
      "WARNING:jax._src.dispatch:Finished XLA compilation of jit(slice) in 0.00496220588684082 sec\n",
      "WARNING:jax._src.dispatch:Finished tracing + transforming jit(slice) in 0.0002079010009765625 sec\n",
      "DEBUG:jax._src.interpreters.pxla:Compiling slice for with global shapes and types [ShapedArray(float32[113])]. Argument mapping: (GSPMDSharding({replicated}),).\n",
      "WARNING:jax._src.dispatch:Finished jaxpr to MLIR module conversion jit(slice) in 0.001508951187133789 sec\n",
      "DEBUG:jax._src.xla_bridge:get_compile_options: num_replicas=1 num_partitions=1 device_assignment=[[CpuDevice(id=0)]]\n",
      "WARNING:jax._src.dispatch:Finished XLA compilation of jit(slice) in 0.004865169525146484 sec\n",
      "WARNING:jax._src.dispatch:Finished tracing + transforming jit(slice) in 0.0007405281066894531 sec\n",
      "DEBUG:jax._src.interpreters.pxla:Compiling slice for with global shapes and types [ShapedArray(float32[113])]. Argument mapping: (GSPMDSharding({replicated}),).\n",
      "WARNING:jax._src.dispatch:Finished jaxpr to MLIR module conversion jit(slice) in 0.001516103744506836 sec\n",
      "DEBUG:jax._src.xla_bridge:get_compile_options: num_replicas=1 num_partitions=1 device_assignment=[[CpuDevice(id=0)]]\n",
      "WARNING:jax._src.dispatch:Finished XLA compilation of jit(slice) in 0.004916667938232422 sec\n",
      "WARNING:jax._src.dispatch:Finished tracing + transforming jit(slice) in 0.00020456314086914062 sec\n",
      "DEBUG:jax._src.interpreters.pxla:Compiling slice for with global shapes and types [ShapedArray(float32[113])]. Argument mapping: (GSPMDSharding({replicated}),).\n",
      "WARNING:jax._src.dispatch:Finished jaxpr to MLIR module conversion jit(slice) in 0.001577138900756836 sec\n",
      "DEBUG:jax._src.xla_bridge:get_compile_options: num_replicas=1 num_partitions=1 device_assignment=[[CpuDevice(id=0)]]\n",
      "WARNING:jax._src.dispatch:Finished XLA compilation of jit(slice) in 0.005033731460571289 sec\n",
      "WARNING:jax._src.dispatch:Finished tracing + transforming jit(slice) in 0.00022125244140625 sec\n",
      "DEBUG:jax._src.interpreters.pxla:Compiling slice for with global shapes and types [ShapedArray(float32[113])]. Argument mapping: (GSPMDSharding({replicated}),).\n",
      "WARNING:jax._src.dispatch:Finished jaxpr to MLIR module conversion jit(slice) in 0.0017249584197998047 sec\n",
      "DEBUG:jax._src.xla_bridge:get_compile_options: num_replicas=1 num_partitions=1 device_assignment=[[CpuDevice(id=0)]]\n",
      "WARNING:jax._src.dispatch:Finished XLA compilation of jit(slice) in 0.004945993423461914 sec\n",
      "WARNING:jax._src.dispatch:Finished tracing + transforming jit(slice) in 0.0002028942108154297 sec\n",
      "DEBUG:jax._src.interpreters.pxla:Compiling slice for with global shapes and types [ShapedArray(float32[113])]. Argument mapping: (GSPMDSharding({replicated}),).\n",
      "WARNING:jax._src.dispatch:Finished jaxpr to MLIR module conversion jit(slice) in 0.0015723705291748047 sec\n",
      "DEBUG:jax._src.xla_bridge:get_compile_options: num_replicas=1 num_partitions=1 device_assignment=[[CpuDevice(id=0)]]\n",
      "WARNING:jax._src.dispatch:Finished XLA compilation of jit(slice) in 0.005406379699707031 sec\n",
      "WARNING:jax._src.dispatch:Finished tracing + transforming jit(slice) in 0.00020170211791992188 sec\n",
      "DEBUG:jax._src.interpreters.pxla:Compiling slice for with global shapes and types [ShapedArray(float32[113])]. Argument mapping: (GSPMDSharding({replicated}),).\n",
      "WARNING:jax._src.dispatch:Finished jaxpr to MLIR module conversion jit(slice) in 0.0015134811401367188 sec\n",
      "DEBUG:jax._src.xla_bridge:get_compile_options: num_replicas=1 num_partitions=1 device_assignment=[[CpuDevice(id=0)]]\n",
      "WARNING:jax._src.dispatch:Finished XLA compilation of jit(slice) in 0.005003452301025391 sec\n",
      "WARNING:jax._src.dispatch:Finished tracing + transforming jit(slice) in 0.00020599365234375 sec\n",
      "DEBUG:jax._src.interpreters.pxla:Compiling slice for with global shapes and types [ShapedArray(float32[113])]. Argument mapping: (GSPMDSharding({replicated}),).\n",
      "WARNING:jax._src.dispatch:Finished jaxpr to MLIR module conversion jit(slice) in 0.0016269683837890625 sec\n",
      "DEBUG:jax._src.xla_bridge:get_compile_options: num_replicas=1 num_partitions=1 device_assignment=[[CpuDevice(id=0)]]\n",
      "WARNING:jax._src.dispatch:Finished XLA compilation of jit(slice) in 0.0048406124114990234 sec\n"
     ]
    },
    {
     "data": {
      "application/vnd.jupyter.widget-view+json": {
       "model_id": "",
       "version_major": 2,
       "version_minor": 0
      },
      "text/plain": [
       "Loading to device:   0%|          | 0/21 [00:00<?, ?subject/s]"
      ]
     },
     "metadata": {},
     "output_type": "display_data"
    },
    {
     "data": {
      "application/vnd.jupyter.widget-view+json": {
       "model_id": "",
       "version_major": 2,
       "version_minor": 0
      },
      "text/plain": [
       "Embedding:   0%|          | 0/21 [00:00<?, ?subject/s]"
      ]
     },
     "metadata": {},
     "output_type": "display_data"
    },
    {
     "data": {
      "application/vnd.jupyter.widget-view+json": {
       "model_id": "",
       "version_major": 2,
       "version_minor": 0
      },
      "text/plain": [
       "  0%|          | 0.00/26229.47 [00:00<?, ?longitudinal-days/s]"
      ]
     },
     "metadata": {},
     "output_type": "display_data"
    },
    {
     "name": "stderr",
     "output_type": "stream",
     "text": [
      "WARNING:jax._src.dispatch:Finished tracing + transforming jit(concatenate) in 0.00027489662170410156 sec\n",
      "DEBUG:jax._src.interpreters.pxla:Compiling concatenate for with global shapes and types [ShapedArray(float32[16]), ShapedArray(float32[16]), ShapedArray(float32[16]), ShapedArray(float32[16]), ShapedArray(float32[16]), ShapedArray(float32[16]), ShapedArray(float32[16]), ShapedArray(float32[16]), ShapedArray(float32[16]), ShapedArray(float32[7])]. Argument mapping: (GSPMDSharding({replicated}), GSPMDSharding({replicated}), GSPMDSharding({replicated}), GSPMDSharding({replicated}), GSPMDSharding({replicated}), GSPMDSharding({replicated}), GSPMDSharding({replicated}), GSPMDSharding({replicated}), GSPMDSharding({replicated}), GSPMDSharding({replicated})).\n",
      "WARNING:jax._src.dispatch:Finished jaxpr to MLIR module conversion jit(concatenate) in 0.0014886856079101562 sec\n",
      "DEBUG:jax._src.xla_bridge:get_compile_options: num_replicas=1 num_partitions=1 device_assignment=[[CpuDevice(id=0)]]\n",
      "WARNING:jax._src.dispatch:Finished XLA compilation of jit(concatenate) in 0.006604909896850586 sec\n",
      "WARNING:jax._src.dispatch:Finished tracing + transforming jit(convert_element_type) in 0.00025844573974609375 sec\n",
      "WARNING:jax._src.dispatch:Finished tracing + transforming _reduce_sum for pjit in 0.0005362033843994141 sec\n",
      "WARNING:jax._src.dispatch:Finished tracing + transforming _broadcast_arrays for pjit in 0.0003299713134765625 sec\n",
      "WARNING:jax._src.dispatch:Finished tracing + transforming _where for pjit in 0.0013148784637451172 sec\n",
      "WARNING:jax._src.dispatch:Finished tracing + transforming _reduce_sum for pjit in 0.00036835670471191406 sec\n",
      "WARNING:jax._src.dispatch:Finished tracing + transforming nansum for pjit in 0.0032393932342529297 sec\n",
      "WARNING:jax._src.dispatch:Finished tracing + transforming nanmean for pjit in 0.005667448043823242 sec\n",
      "DEBUG:jax._src.interpreters.pxla:Compiling nanmean for with global shapes and types [ShapedArray(float32[151])]. Argument mapping: (GSPMDSharding({replicated}),).\n",
      "WARNING:jax._src.dispatch:Finished jaxpr to MLIR module conversion jit(nanmean) in 0.003681659698486328 sec\n",
      "DEBUG:jax._src.xla_bridge:get_compile_options: num_replicas=1 num_partitions=1 device_assignment=[[CpuDevice(id=0)]]\n",
      "WARNING:jax._src.dispatch:Finished XLA compilation of jit(nanmean) in 0.02407670021057129 sec\n",
      "DEBUG:jax._src.interpreters.pxla:Compiling nanmean for with global shapes and types [ShapedArray(bool[151]), ShapedArray(float32[]), ShapedArray(float32[])]. Argument mapping: (GSPMDSharding({replicated}), GSPMDSharding({replicated}), GSPMDSharding({replicated})).\n",
      "WARNING:jax._src.dispatch:Finished jaxpr to MLIR module conversion jit(nanmean) in 0.002681255340576172 sec\n",
      "DEBUG:jax._src.xla_bridge:get_compile_options: num_replicas=1 num_partitions=1 device_assignment=[[CpuDevice(id=0)]]\n",
      "WARNING:jax._src.dispatch:Finished XLA compilation of jit(nanmean) in 0.009054422378540039 sec\n",
      "WARNING:jax._src.dispatch:Finished tracing + transforming jit(slice) in 0.00019502639770507812 sec\n",
      "DEBUG:jax._src.interpreters.pxla:Compiling slice for with global shapes and types [ShapedArray(float32[151])]. Argument mapping: (GSPMDSharding({replicated}),).\n",
      "WARNING:jax._src.dispatch:Finished jaxpr to MLIR module conversion jit(slice) in 0.0013604164123535156 sec\n",
      "DEBUG:jax._src.xla_bridge:get_compile_options: num_replicas=1 num_partitions=1 device_assignment=[[CpuDevice(id=0)]]\n",
      "WARNING:jax._src.dispatch:Finished XLA compilation of jit(slice) in 0.00477910041809082 sec\n",
      "WARNING:jax._src.dispatch:Finished tracing + transforming jit(slice) in 0.0002155303955078125 sec\n",
      "DEBUG:jax._src.interpreters.pxla:Compiling slice for with global shapes and types [ShapedArray(float32[151])]. Argument mapping: (GSPMDSharding({replicated}),).\n",
      "WARNING:jax._src.dispatch:Finished jaxpr to MLIR module conversion jit(slice) in 0.0021431446075439453 sec\n",
      "DEBUG:jax._src.xla_bridge:get_compile_options: num_replicas=1 num_partitions=1 device_assignment=[[CpuDevice(id=0)]]\n",
      "WARNING:jax._src.dispatch:Finished XLA compilation of jit(slice) in 0.004805088043212891 sec\n",
      "WARNING:jax._src.dispatch:Finished tracing + transforming jit(slice) in 0.00020575523376464844 sec\n",
      "DEBUG:jax._src.interpreters.pxla:Compiling slice for with global shapes and types [ShapedArray(float32[151])]. Argument mapping: (GSPMDSharding({replicated}),).\n",
      "WARNING:jax._src.dispatch:Finished jaxpr to MLIR module conversion jit(slice) in 0.0014846324920654297 sec\n",
      "DEBUG:jax._src.xla_bridge:get_compile_options: num_replicas=1 num_partitions=1 device_assignment=[[CpuDevice(id=0)]]\n",
      "WARNING:jax._src.dispatch:Finished XLA compilation of jit(slice) in 0.0047986507415771484 sec\n",
      "WARNING:jax._src.dispatch:Finished tracing + transforming jit(slice) in 0.00020647048950195312 sec\n",
      "DEBUG:jax._src.interpreters.pxla:Compiling slice for with global shapes and types [ShapedArray(float32[151])]. Argument mapping: (GSPMDSharding({replicated}),).\n",
      "WARNING:jax._src.dispatch:Finished jaxpr to MLIR module conversion jit(slice) in 0.0014481544494628906 sec\n",
      "DEBUG:jax._src.xla_bridge:get_compile_options: num_replicas=1 num_partitions=1 device_assignment=[[CpuDevice(id=0)]]\n",
      "WARNING:jax._src.dispatch:Finished XLA compilation of jit(slice) in 0.004981040954589844 sec\n",
      "WARNING:jax._src.dispatch:Finished tracing + transforming jit(slice) in 0.00020647048950195312 sec\n",
      "DEBUG:jax._src.interpreters.pxla:Compiling slice for with global shapes and types [ShapedArray(float32[151])]. Argument mapping: (GSPMDSharding({replicated}),).\n",
      "WARNING:jax._src.dispatch:Finished jaxpr to MLIR module conversion jit(slice) in 0.001491546630859375 sec\n",
      "DEBUG:jax._src.xla_bridge:get_compile_options: num_replicas=1 num_partitions=1 device_assignment=[[CpuDevice(id=0)]]\n",
      "WARNING:jax._src.dispatch:Finished XLA compilation of jit(slice) in 0.0054204463958740234 sec\n",
      "WARNING:jax._src.dispatch:Finished tracing + transforming jit(slice) in 0.00019693374633789062 sec\n",
      "DEBUG:jax._src.interpreters.pxla:Compiling slice for with global shapes and types [ShapedArray(float32[151])]. Argument mapping: (GSPMDSharding({replicated}),).\n",
      "WARNING:jax._src.dispatch:Finished jaxpr to MLIR module conversion jit(slice) in 0.0017876625061035156 sec\n",
      "DEBUG:jax._src.xla_bridge:get_compile_options: num_replicas=1 num_partitions=1 device_assignment=[[CpuDevice(id=0)]]\n",
      "WARNING:jax._src.dispatch:Finished XLA compilation of jit(slice) in 0.005472898483276367 sec\n",
      "WARNING:jax._src.dispatch:Finished tracing + transforming jit(slice) in 0.0002224445343017578 sec\n",
      "DEBUG:jax._src.interpreters.pxla:Compiling slice for with global shapes and types [ShapedArray(float32[151])]. Argument mapping: (GSPMDSharding({replicated}),).\n",
      "WARNING:jax._src.dispatch:Finished jaxpr to MLIR module conversion jit(slice) in 0.001903533935546875 sec\n",
      "DEBUG:jax._src.xla_bridge:get_compile_options: num_replicas=1 num_partitions=1 device_assignment=[[CpuDevice(id=0)]]\n",
      "WARNING:jax._src.dispatch:Finished XLA compilation of jit(slice) in 0.006273746490478516 sec\n",
      "WARNING:jax._src.dispatch:Finished tracing + transforming jit(slice) in 0.00028634071350097656 sec\n",
      "DEBUG:jax._src.interpreters.pxla:Compiling slice for with global shapes and types [ShapedArray(float32[151])]. Argument mapping: (GSPMDSharding({replicated}),).\n",
      "WARNING:jax._src.dispatch:Finished jaxpr to MLIR module conversion jit(slice) in 0.0018579959869384766 sec\n",
      "DEBUG:jax._src.xla_bridge:get_compile_options: num_replicas=1 num_partitions=1 device_assignment=[[CpuDevice(id=0)]]\n",
      "WARNING:jax._src.dispatch:Finished XLA compilation of jit(slice) in 0.006460666656494141 sec\n",
      "WARNING:jax._src.dispatch:Finished tracing + transforming jit(slice) in 0.0002086162567138672 sec\n",
      "DEBUG:jax._src.interpreters.pxla:Compiling slice for with global shapes and types [ShapedArray(float32[151])]. Argument mapping: (GSPMDSharding({replicated}),).\n",
      "WARNING:jax._src.dispatch:Finished jaxpr to MLIR module conversion jit(slice) in 0.0018298625946044922 sec\n",
      "DEBUG:jax._src.xla_bridge:get_compile_options: num_replicas=1 num_partitions=1 device_assignment=[[CpuDevice(id=0)]]\n",
      "WARNING:jax._src.dispatch:Finished XLA compilation of jit(slice) in 0.005484342575073242 sec\n",
      "WARNING:jax._src.dispatch:Finished tracing + transforming jit(slice) in 0.0002982616424560547 sec\n"
     ]
    },
    {
     "name": "stderr",
     "output_type": "stream",
     "text": [
      "DEBUG:jax._src.interpreters.pxla:Compiling slice for with global shapes and types [ShapedArray(float32[151])]. Argument mapping: (GSPMDSharding({replicated}),).\n",
      "WARNING:jax._src.dispatch:Finished jaxpr to MLIR module conversion jit(slice) in 0.0017135143280029297 sec\n",
      "DEBUG:jax._src.xla_bridge:get_compile_options: num_replicas=1 num_partitions=1 device_assignment=[[CpuDevice(id=0)]]\n",
      "WARNING:jax._src.dispatch:Finished XLA compilation of jit(slice) in 0.005912303924560547 sec\n"
     ]
    },
    {
     "data": {
      "application/vnd.jupyter.widget-view+json": {
       "model_id": "",
       "version_major": 2,
       "version_minor": 0
      },
      "text/plain": [
       "Loading to device:   0%|          | 0/41 [00:00<?, ?subject/s]"
      ]
     },
     "metadata": {},
     "output_type": "display_data"
    },
    {
     "data": {
      "application/vnd.jupyter.widget-view+json": {
       "model_id": "",
       "version_major": 2,
       "version_minor": 0
      },
      "text/plain": [
       "Embedding:   0%|          | 0/41 [00:00<?, ?subject/s]"
      ]
     },
     "metadata": {},
     "output_type": "display_data"
    },
    {
     "data": {
      "application/vnd.jupyter.widget-view+json": {
       "model_id": "",
       "version_major": 2,
       "version_minor": 0
      },
      "text/plain": [
       "  0%|          | 0.00/31088.95 [00:00<?, ?longitudinal-days/s]"
      ]
     },
     "metadata": {},
     "output_type": "display_data"
    },
    {
     "name": "stderr",
     "output_type": "stream",
     "text": [
      "WARNING:jax._src.dispatch:Finished tracing + transforming jit(concatenate) in 0.0002713203430175781 sec\n",
      "DEBUG:jax._src.interpreters.pxla:Compiling concatenate for with global shapes and types [ShapedArray(float32[16]), ShapedArray(float32[16]), ShapedArray(float32[16]), ShapedArray(float32[16]), ShapedArray(float32[16]), ShapedArray(float32[16]), ShapedArray(float32[16]), ShapedArray(float32[6])]. Argument mapping: (GSPMDSharding({replicated}), GSPMDSharding({replicated}), GSPMDSharding({replicated}), GSPMDSharding({replicated}), GSPMDSharding({replicated}), GSPMDSharding({replicated}), GSPMDSharding({replicated}), GSPMDSharding({replicated})).\n",
      "WARNING:jax._src.dispatch:Finished jaxpr to MLIR module conversion jit(concatenate) in 0.0015873908996582031 sec\n",
      "DEBUG:jax._src.xla_bridge:get_compile_options: num_replicas=1 num_partitions=1 device_assignment=[[CpuDevice(id=0)]]\n",
      "WARNING:jax._src.dispatch:Finished XLA compilation of jit(concatenate) in 0.006554603576660156 sec\n",
      "WARNING:jax._src.dispatch:Finished tracing + transforming jit(convert_element_type) in 0.0003719329833984375 sec\n",
      "WARNING:jax._src.dispatch:Finished tracing + transforming _reduce_sum for pjit in 0.0005660057067871094 sec\n",
      "WARNING:jax._src.dispatch:Finished tracing + transforming _broadcast_arrays for pjit in 0.00037384033203125 sec\n",
      "WARNING:jax._src.dispatch:Finished tracing + transforming _where for pjit in 0.0016050338745117188 sec\n",
      "WARNING:jax._src.dispatch:Finished tracing + transforming _reduce_sum for pjit in 0.0005233287811279297 sec\n",
      "WARNING:jax._src.dispatch:Finished tracing + transforming nansum for pjit in 0.0038390159606933594 sec\n",
      "WARNING:jax._src.dispatch:Finished tracing + transforming nanmean for pjit in 0.006432533264160156 sec\n",
      "DEBUG:jax._src.interpreters.pxla:Compiling nanmean for with global shapes and types [ShapedArray(float32[118])]. Argument mapping: (GSPMDSharding({replicated}),).\n",
      "WARNING:jax._src.dispatch:Finished jaxpr to MLIR module conversion jit(nanmean) in 0.003576517105102539 sec\n",
      "DEBUG:jax._src.xla_bridge:get_compile_options: num_replicas=1 num_partitions=1 device_assignment=[[CpuDevice(id=0)]]\n",
      "WARNING:jax._src.dispatch:Finished XLA compilation of jit(nanmean) in 0.022031545639038086 sec\n",
      "DEBUG:jax._src.interpreters.pxla:Compiling nanmean for with global shapes and types [ShapedArray(bool[118]), ShapedArray(float32[]), ShapedArray(float32[])]. Argument mapping: (GSPMDSharding({replicated}), GSPMDSharding({replicated}), GSPMDSharding({replicated})).\n",
      "WARNING:jax._src.dispatch:Finished jaxpr to MLIR module conversion jit(nanmean) in 0.0026705265045166016 sec\n",
      "DEBUG:jax._src.xla_bridge:get_compile_options: num_replicas=1 num_partitions=1 device_assignment=[[CpuDevice(id=0)]]\n",
      "WARNING:jax._src.dispatch:Finished XLA compilation of jit(nanmean) in 0.008812189102172852 sec\n",
      "WARNING:jax._src.dispatch:Finished tracing + transforming jit(slice) in 0.0001938343048095703 sec\n",
      "DEBUG:jax._src.interpreters.pxla:Compiling slice for with global shapes and types [ShapedArray(float32[118])]. Argument mapping: (GSPMDSharding({replicated}),).\n",
      "WARNING:jax._src.dispatch:Finished jaxpr to MLIR module conversion jit(slice) in 0.0014133453369140625 sec\n",
      "DEBUG:jax._src.xla_bridge:get_compile_options: num_replicas=1 num_partitions=1 device_assignment=[[CpuDevice(id=0)]]\n",
      "WARNING:jax._src.dispatch:Finished XLA compilation of jit(slice) in 0.005231142044067383 sec\n",
      "WARNING:jax._src.dispatch:Finished tracing + transforming jit(slice) in 0.00021147727966308594 sec\n",
      "DEBUG:jax._src.interpreters.pxla:Compiling slice for with global shapes and types [ShapedArray(float32[118])]. Argument mapping: (GSPMDSharding({replicated}),).\n",
      "WARNING:jax._src.dispatch:Finished jaxpr to MLIR module conversion jit(slice) in 0.00261688232421875 sec\n",
      "DEBUG:jax._src.xla_bridge:get_compile_options: num_replicas=1 num_partitions=1 device_assignment=[[CpuDevice(id=0)]]\n",
      "WARNING:jax._src.dispatch:Finished XLA compilation of jit(slice) in 0.0051631927490234375 sec\n",
      "WARNING:jax._src.dispatch:Finished tracing + transforming jit(slice) in 0.00020599365234375 sec\n",
      "DEBUG:jax._src.interpreters.pxla:Compiling slice for with global shapes and types [ShapedArray(float32[118])]. Argument mapping: (GSPMDSharding({replicated}),).\n",
      "WARNING:jax._src.dispatch:Finished jaxpr to MLIR module conversion jit(slice) in 0.0013904571533203125 sec\n",
      "DEBUG:jax._src.xla_bridge:get_compile_options: num_replicas=1 num_partitions=1 device_assignment=[[CpuDevice(id=0)]]\n",
      "WARNING:jax._src.dispatch:Finished XLA compilation of jit(slice) in 0.005343198776245117 sec\n",
      "WARNING:jax._src.dispatch:Finished tracing + transforming jit(slice) in 0.00020384788513183594 sec\n",
      "DEBUG:jax._src.interpreters.pxla:Compiling slice for with global shapes and types [ShapedArray(float32[118])]. Argument mapping: (GSPMDSharding({replicated}),).\n",
      "WARNING:jax._src.dispatch:Finished jaxpr to MLIR module conversion jit(slice) in 0.0015506744384765625 sec\n",
      "DEBUG:jax._src.xla_bridge:get_compile_options: num_replicas=1 num_partitions=1 device_assignment=[[CpuDevice(id=0)]]\n",
      "WARNING:jax._src.dispatch:Finished XLA compilation of jit(slice) in 0.005223751068115234 sec\n",
      "WARNING:jax._src.dispatch:Finished tracing + transforming jit(slice) in 0.00021004676818847656 sec\n",
      "DEBUG:jax._src.interpreters.pxla:Compiling slice for with global shapes and types [ShapedArray(float32[118])]. Argument mapping: (GSPMDSharding({replicated}),).\n",
      "WARNING:jax._src.dispatch:Finished jaxpr to MLIR module conversion jit(slice) in 0.001705169677734375 sec\n",
      "DEBUG:jax._src.xla_bridge:get_compile_options: num_replicas=1 num_partitions=1 device_assignment=[[CpuDevice(id=0)]]\n",
      "WARNING:jax._src.dispatch:Finished XLA compilation of jit(slice) in 0.005263090133666992 sec\n",
      "WARNING:jax._src.dispatch:Finished tracing + transforming jit(slice) in 0.00020360946655273438 sec\n",
      "DEBUG:jax._src.interpreters.pxla:Compiling slice for with global shapes and types [ShapedArray(float32[118])]. Argument mapping: (GSPMDSharding({replicated}),).\n",
      "WARNING:jax._src.dispatch:Finished jaxpr to MLIR module conversion jit(slice) in 0.001566171646118164 sec\n",
      "DEBUG:jax._src.xla_bridge:get_compile_options: num_replicas=1 num_partitions=1 device_assignment=[[CpuDevice(id=0)]]\n",
      "WARNING:jax._src.dispatch:Finished XLA compilation of jit(slice) in 0.0054209232330322266 sec\n",
      "WARNING:jax._src.dispatch:Finished tracing + transforming jit(slice) in 0.00021457672119140625 sec\n",
      "DEBUG:jax._src.interpreters.pxla:Compiling slice for with global shapes and types [ShapedArray(float32[118])]. Argument mapping: (GSPMDSharding({replicated}),).\n",
      "WARNING:jax._src.dispatch:Finished jaxpr to MLIR module conversion jit(slice) in 0.0016214847564697266 sec\n",
      "DEBUG:jax._src.xla_bridge:get_compile_options: num_replicas=1 num_partitions=1 device_assignment=[[CpuDevice(id=0)]]\n",
      "WARNING:jax._src.dispatch:Finished XLA compilation of jit(slice) in 0.004977226257324219 sec\n",
      "WARNING:jax._src.dispatch:Finished tracing + transforming jit(slice) in 0.0002086162567138672 sec\n",
      "DEBUG:jax._src.interpreters.pxla:Compiling slice for with global shapes and types [ShapedArray(float32[118])]. Argument mapping: (GSPMDSharding({replicated}),).\n",
      "WARNING:jax._src.dispatch:Finished jaxpr to MLIR module conversion jit(slice) in 0.00157928466796875 sec\n",
      "DEBUG:jax._src.xla_bridge:get_compile_options: num_replicas=1 num_partitions=1 device_assignment=[[CpuDevice(id=0)]]\n",
      "WARNING:jax._src.dispatch:Finished XLA compilation of jit(slice) in 0.005437374114990234 sec\n"
     ]
    },
    {
     "data": {
      "application/vnd.jupyter.widget-view+json": {
       "model_id": "",
       "version_major": 2,
       "version_minor": 0
      },
      "text/plain": [
       "Loading to device:   0%|          | 0/49 [00:00<?, ?subject/s]"
      ]
     },
     "metadata": {},
     "output_type": "display_data"
    },
    {
     "data": {
      "application/vnd.jupyter.widget-view+json": {
       "model_id": "",
       "version_major": 2,
       "version_minor": 0
      },
      "text/plain": [
       "Embedding:   0%|          | 0/49 [00:00<?, ?subject/s]"
      ]
     },
     "metadata": {},
     "output_type": "display_data"
    },
    {
     "data": {
      "application/vnd.jupyter.widget-view+json": {
       "model_id": "",
       "version_major": 2,
       "version_minor": 0
      },
      "text/plain": [
       "  0%|          | 0.00/47620.44 [00:00<?, ?longitudinal-days/s]"
      ]
     },
     "metadata": {},
     "output_type": "display_data"
    },
    {
     "name": "stderr",
     "output_type": "stream",
     "text": [
      "WARNING:jax._src.dispatch:Finished tracing + transforming jit(concatenate) in 0.00027060508728027344 sec\n",
      "DEBUG:jax._src.interpreters.pxla:Compiling concatenate for with global shapes and types [ShapedArray(float32[16]), ShapedArray(float32[16]), ShapedArray(float32[16]), ShapedArray(float32[16]), ShapedArray(float32[16]), ShapedArray(float32[16]), ShapedArray(float32[16]), ShapedArray(float32[16]), ShapedArray(float32[16]), ShapedArray(float32[2])]. Argument mapping: (GSPMDSharding({replicated}), GSPMDSharding({replicated}), GSPMDSharding({replicated}), GSPMDSharding({replicated}), GSPMDSharding({replicated}), GSPMDSharding({replicated}), GSPMDSharding({replicated}), GSPMDSharding({replicated}), GSPMDSharding({replicated}), GSPMDSharding({replicated})).\n",
      "WARNING:jax._src.dispatch:Finished jaxpr to MLIR module conversion jit(concatenate) in 0.0016064643859863281 sec\n",
      "DEBUG:jax._src.xla_bridge:get_compile_options: num_replicas=1 num_partitions=1 device_assignment=[[CpuDevice(id=0)]]\n",
      "WARNING:jax._src.dispatch:Finished XLA compilation of jit(concatenate) in 0.0064084529876708984 sec\n",
      "WARNING:jax._src.dispatch:Finished tracing + transforming jit(convert_element_type) in 0.0002956390380859375 sec\n",
      "WARNING:jax._src.dispatch:Finished tracing + transforming _reduce_sum for pjit in 0.0005519390106201172 sec\n",
      "WARNING:jax._src.dispatch:Finished tracing + transforming _broadcast_arrays for pjit in 0.00033402442932128906 sec\n",
      "WARNING:jax._src.dispatch:Finished tracing + transforming _where for pjit in 0.0013659000396728516 sec\n",
      "WARNING:jax._src.dispatch:Finished tracing + transforming _reduce_sum for pjit in 0.0003612041473388672 sec\n",
      "WARNING:jax._src.dispatch:Finished tracing + transforming nansum for pjit in 0.003424406051635742 sec\n",
      "WARNING:jax._src.dispatch:Finished tracing + transforming nanmean for pjit in 0.006048679351806641 sec\n",
      "DEBUG:jax._src.interpreters.pxla:Compiling nanmean for with global shapes and types [ShapedArray(float32[146])]. Argument mapping: (GSPMDSharding({replicated}),).\n",
      "WARNING:jax._src.dispatch:Finished jaxpr to MLIR module conversion jit(nanmean) in 0.0036373138427734375 sec\n",
      "DEBUG:jax._src.xla_bridge:get_compile_options: num_replicas=1 num_partitions=1 device_assignment=[[CpuDevice(id=0)]]\n",
      "WARNING:jax._src.dispatch:Finished XLA compilation of jit(nanmean) in 0.023440837860107422 sec\n",
      "DEBUG:jax._src.interpreters.pxla:Compiling nanmean for with global shapes and types [ShapedArray(bool[146]), ShapedArray(float32[]), ShapedArray(float32[])]. Argument mapping: (GSPMDSharding({replicated}), GSPMDSharding({replicated}), GSPMDSharding({replicated})).\n",
      "WARNING:jax._src.dispatch:Finished jaxpr to MLIR module conversion jit(nanmean) in 0.0025877952575683594 sec\n",
      "DEBUG:jax._src.xla_bridge:get_compile_options: num_replicas=1 num_partitions=1 device_assignment=[[CpuDevice(id=0)]]\n",
      "WARNING:jax._src.dispatch:Finished XLA compilation of jit(nanmean) in 0.009002923965454102 sec\n",
      "WARNING:jax._src.dispatch:Finished tracing + transforming jit(slice) in 0.00018644332885742188 sec\n",
      "DEBUG:jax._src.interpreters.pxla:Compiling slice for with global shapes and types [ShapedArray(float32[146])]. Argument mapping: (GSPMDSharding({replicated}),).\n",
      "WARNING:jax._src.dispatch:Finished jaxpr to MLIR module conversion jit(slice) in 0.0015857219696044922 sec\n",
      "DEBUG:jax._src.xla_bridge:get_compile_options: num_replicas=1 num_partitions=1 device_assignment=[[CpuDevice(id=0)]]\n",
      "WARNING:jax._src.dispatch:Finished XLA compilation of jit(slice) in 0.005238056182861328 sec\n",
      "WARNING:jax._src.dispatch:Finished tracing + transforming jit(slice) in 0.000213623046875 sec\n",
      "DEBUG:jax._src.interpreters.pxla:Compiling slice for with global shapes and types [ShapedArray(float32[146])]. Argument mapping: (GSPMDSharding({replicated}),).\n",
      "WARNING:jax._src.dispatch:Finished jaxpr to MLIR module conversion jit(slice) in 0.0023758411407470703 sec\n",
      "DEBUG:jax._src.xla_bridge:get_compile_options: num_replicas=1 num_partitions=1 device_assignment=[[CpuDevice(id=0)]]\n",
      "WARNING:jax._src.dispatch:Finished XLA compilation of jit(slice) in 0.0049707889556884766 sec\n",
      "WARNING:jax._src.dispatch:Finished tracing + transforming jit(slice) in 0.00020360946655273438 sec\n",
      "DEBUG:jax._src.interpreters.pxla:Compiling slice for with global shapes and types [ShapedArray(float32[146])]. Argument mapping: (GSPMDSharding({replicated}),).\n",
      "WARNING:jax._src.dispatch:Finished jaxpr to MLIR module conversion jit(slice) in 0.0014944076538085938 sec\n",
      "DEBUG:jax._src.xla_bridge:get_compile_options: num_replicas=1 num_partitions=1 device_assignment=[[CpuDevice(id=0)]]\n",
      "WARNING:jax._src.dispatch:Finished XLA compilation of jit(slice) in 0.004838228225708008 sec\n",
      "WARNING:jax._src.dispatch:Finished tracing + transforming jit(slice) in 0.00021314620971679688 sec\n",
      "DEBUG:jax._src.interpreters.pxla:Compiling slice for with global shapes and types [ShapedArray(float32[146])]. Argument mapping: (GSPMDSharding({replicated}),).\n",
      "WARNING:jax._src.dispatch:Finished jaxpr to MLIR module conversion jit(slice) in 0.0017008781433105469 sec\n",
      "DEBUG:jax._src.xla_bridge:get_compile_options: num_replicas=1 num_partitions=1 device_assignment=[[CpuDevice(id=0)]]\n",
      "WARNING:jax._src.dispatch:Finished XLA compilation of jit(slice) in 0.004915952682495117 sec\n",
      "WARNING:jax._src.dispatch:Finished tracing + transforming jit(slice) in 0.0002052783966064453 sec\n",
      "DEBUG:jax._src.interpreters.pxla:Compiling slice for with global shapes and types [ShapedArray(float32[146])]. Argument mapping: (GSPMDSharding({replicated}),).\n",
      "WARNING:jax._src.dispatch:Finished jaxpr to MLIR module conversion jit(slice) in 0.0019593238830566406 sec\n",
      "DEBUG:jax._src.xla_bridge:get_compile_options: num_replicas=1 num_partitions=1 device_assignment=[[CpuDevice(id=0)]]\n",
      "WARNING:jax._src.dispatch:Finished XLA compilation of jit(slice) in 0.005360126495361328 sec\n",
      "WARNING:jax._src.dispatch:Finished tracing + transforming jit(slice) in 0.0002014636993408203 sec\n",
      "DEBUG:jax._src.interpreters.pxla:Compiling slice for with global shapes and types [ShapedArray(float32[146])]. Argument mapping: (GSPMDSharding({replicated}),).\n",
      "WARNING:jax._src.dispatch:Finished jaxpr to MLIR module conversion jit(slice) in 0.001531839370727539 sec\n",
      "DEBUG:jax._src.xla_bridge:get_compile_options: num_replicas=1 num_partitions=1 device_assignment=[[CpuDevice(id=0)]]\n",
      "WARNING:jax._src.dispatch:Finished XLA compilation of jit(slice) in 0.00481867790222168 sec\n",
      "WARNING:jax._src.dispatch:Finished tracing + transforming jit(slice) in 0.00019860267639160156 sec\n",
      "DEBUG:jax._src.interpreters.pxla:Compiling slice for with global shapes and types [ShapedArray(float32[146])]. Argument mapping: (GSPMDSharding({replicated}),).\n",
      "WARNING:jax._src.dispatch:Finished jaxpr to MLIR module conversion jit(slice) in 0.0014240741729736328 sec\n",
      "DEBUG:jax._src.xla_bridge:get_compile_options: num_replicas=1 num_partitions=1 device_assignment=[[CpuDevice(id=0)]]\n",
      "WARNING:jax._src.dispatch:Finished XLA compilation of jit(slice) in 0.005145072937011719 sec\n",
      "WARNING:jax._src.dispatch:Finished tracing + transforming jit(slice) in 0.00020813941955566406 sec\n",
      "DEBUG:jax._src.interpreters.pxla:Compiling slice for with global shapes and types [ShapedArray(float32[146])]. Argument mapping: (GSPMDSharding({replicated}),).\n",
      "WARNING:jax._src.dispatch:Finished jaxpr to MLIR module conversion jit(slice) in 0.001535177230834961 sec\n",
      "DEBUG:jax._src.xla_bridge:get_compile_options: num_replicas=1 num_partitions=1 device_assignment=[[CpuDevice(id=0)]]\n",
      "WARNING:jax._src.dispatch:Finished XLA compilation of jit(slice) in 0.005179643630981445 sec\n",
      "WARNING:jax._src.dispatch:Finished tracing + transforming jit(slice) in 0.00019979476928710938 sec\n",
      "DEBUG:jax._src.interpreters.pxla:Compiling slice for with global shapes and types [ShapedArray(float32[146])]. Argument mapping: (GSPMDSharding({replicated}),).\n",
      "WARNING:jax._src.dispatch:Finished jaxpr to MLIR module conversion jit(slice) in 0.0016880035400390625 sec\n",
      "DEBUG:jax._src.xla_bridge:get_compile_options: num_replicas=1 num_partitions=1 device_assignment=[[CpuDevice(id=0)]]\n",
      "WARNING:jax._src.dispatch:Finished XLA compilation of jit(slice) in 0.005053997039794922 sec\n",
      "WARNING:jax._src.dispatch:Finished tracing + transforming jit(slice) in 0.00020551681518554688 sec\n"
     ]
    },
    {
     "name": "stderr",
     "output_type": "stream",
     "text": [
      "DEBUG:jax._src.interpreters.pxla:Compiling slice for with global shapes and types [ShapedArray(float32[146])]. Argument mapping: (GSPMDSharding({replicated}),).\n",
      "WARNING:jax._src.dispatch:Finished jaxpr to MLIR module conversion jit(slice) in 0.0015871524810791016 sec\n",
      "DEBUG:jax._src.xla_bridge:get_compile_options: num_replicas=1 num_partitions=1 device_assignment=[[CpuDevice(id=0)]]\n",
      "WARNING:jax._src.dispatch:Finished XLA compilation of jit(slice) in 0.005082845687866211 sec\n"
     ]
    },
    {
     "data": {
      "application/vnd.jupyter.widget-view+json": {
       "model_id": "",
       "version_major": 2,
       "version_minor": 0
      },
      "text/plain": [
       "Loading to device:   0%|          | 0/43 [00:00<?, ?subject/s]"
      ]
     },
     "metadata": {},
     "output_type": "display_data"
    },
    {
     "data": {
      "application/vnd.jupyter.widget-view+json": {
       "model_id": "",
       "version_major": 2,
       "version_minor": 0
      },
      "text/plain": [
       "Embedding:   0%|          | 0/43 [00:00<?, ?subject/s]"
      ]
     },
     "metadata": {},
     "output_type": "display_data"
    },
    {
     "data": {
      "application/vnd.jupyter.widget-view+json": {
       "model_id": "",
       "version_major": 2,
       "version_minor": 0
      },
      "text/plain": [
       "  0%|          | 0.00/37492.69 [00:00<?, ?longitudinal-days/s]"
      ]
     },
     "metadata": {},
     "output_type": "display_data"
    },
    {
     "name": "stderr",
     "output_type": "stream",
     "text": [
      "WARNING:jax._src.dispatch:Finished tracing + transforming jit(concatenate) in 0.0002834796905517578 sec\n",
      "DEBUG:jax._src.interpreters.pxla:Compiling concatenate for with global shapes and types [ShapedArray(float32[16]), ShapedArray(float32[16]), ShapedArray(float32[16]), ShapedArray(float32[16]), ShapedArray(float32[16]), ShapedArray(float32[16]), ShapedArray(float32[16]), ShapedArray(float32[16]), ShapedArray(float32[2])]. Argument mapping: (GSPMDSharding({replicated}), GSPMDSharding({replicated}), GSPMDSharding({replicated}), GSPMDSharding({replicated}), GSPMDSharding({replicated}), GSPMDSharding({replicated}), GSPMDSharding({replicated}), GSPMDSharding({replicated}), GSPMDSharding({replicated})).\n",
      "WARNING:jax._src.dispatch:Finished jaxpr to MLIR module conversion jit(concatenate) in 0.001753091812133789 sec\n",
      "DEBUG:jax._src.xla_bridge:get_compile_options: num_replicas=1 num_partitions=1 device_assignment=[[CpuDevice(id=0)]]\n",
      "WARNING:jax._src.dispatch:Finished XLA compilation of jit(concatenate) in 0.00784754753112793 sec\n",
      "WARNING:jax._src.dispatch:Finished tracing + transforming jit(convert_element_type) in 0.00061798095703125 sec\n",
      "WARNING:jax._src.dispatch:Finished tracing + transforming _reduce_sum for pjit in 0.0005140304565429688 sec\n",
      "WARNING:jax._src.dispatch:Finished tracing + transforming _broadcast_arrays for pjit in 0.0004918575286865234 sec\n",
      "WARNING:jax._src.dispatch:Finished tracing + transforming _where for pjit in 0.0014944076538085938 sec\n",
      "WARNING:jax._src.dispatch:Finished tracing + transforming _reduce_sum for pjit in 0.0003883838653564453 sec\n",
      "WARNING:jax._src.dispatch:Finished tracing + transforming nansum for pjit in 0.0035026073455810547 sec\n",
      "WARNING:jax._src.dispatch:Finished tracing + transforming nanmean for pjit in 0.005933523178100586 sec\n",
      "DEBUG:jax._src.interpreters.pxla:Compiling nanmean for with global shapes and types [ShapedArray(float32[130])]. Argument mapping: (GSPMDSharding({replicated}),).\n",
      "WARNING:jax._src.dispatch:Finished jaxpr to MLIR module conversion jit(nanmean) in 0.003641843795776367 sec\n",
      "DEBUG:jax._src.xla_bridge:get_compile_options: num_replicas=1 num_partitions=1 device_assignment=[[CpuDevice(id=0)]]\n",
      "WARNING:jax._src.dispatch:Finished XLA compilation of jit(nanmean) in 0.025644540786743164 sec\n",
      "DEBUG:jax._src.interpreters.pxla:Compiling nanmean for with global shapes and types [ShapedArray(bool[130]), ShapedArray(float32[]), ShapedArray(float32[])]. Argument mapping: (GSPMDSharding({replicated}), GSPMDSharding({replicated}), GSPMDSharding({replicated})).\n",
      "WARNING:jax._src.dispatch:Finished jaxpr to MLIR module conversion jit(nanmean) in 0.0028235912322998047 sec\n",
      "DEBUG:jax._src.xla_bridge:get_compile_options: num_replicas=1 num_partitions=1 device_assignment=[[CpuDevice(id=0)]]\n",
      "WARNING:jax._src.dispatch:Finished XLA compilation of jit(nanmean) in 0.009824037551879883 sec\n",
      "WARNING:jax._src.dispatch:Finished tracing + transforming jit(slice) in 0.0001919269561767578 sec\n",
      "DEBUG:jax._src.interpreters.pxla:Compiling slice for with global shapes and types [ShapedArray(float32[130])]. Argument mapping: (GSPMDSharding({replicated}),).\n",
      "WARNING:jax._src.dispatch:Finished jaxpr to MLIR module conversion jit(slice) in 0.001697540283203125 sec\n",
      "DEBUG:jax._src.xla_bridge:get_compile_options: num_replicas=1 num_partitions=1 device_assignment=[[CpuDevice(id=0)]]\n",
      "WARNING:jax._src.dispatch:Finished XLA compilation of jit(slice) in 0.005259275436401367 sec\n",
      "WARNING:jax._src.dispatch:Finished tracing + transforming jit(slice) in 0.0002002716064453125 sec\n",
      "DEBUG:jax._src.interpreters.pxla:Compiling slice for with global shapes and types [ShapedArray(float32[130])]. Argument mapping: (GSPMDSharding({replicated}),).\n",
      "WARNING:jax._src.dispatch:Finished jaxpr to MLIR module conversion jit(slice) in 0.0024633407592773438 sec\n",
      "DEBUG:jax._src.xla_bridge:get_compile_options: num_replicas=1 num_partitions=1 device_assignment=[[CpuDevice(id=0)]]\n",
      "WARNING:jax._src.dispatch:Finished XLA compilation of jit(slice) in 0.005390167236328125 sec\n",
      "WARNING:jax._src.dispatch:Finished tracing + transforming jit(slice) in 0.00021314620971679688 sec\n",
      "DEBUG:jax._src.interpreters.pxla:Compiling slice for with global shapes and types [ShapedArray(float32[130])]. Argument mapping: (GSPMDSharding({replicated}),).\n",
      "WARNING:jax._src.dispatch:Finished jaxpr to MLIR module conversion jit(slice) in 0.0018465518951416016 sec\n",
      "DEBUG:jax._src.xla_bridge:get_compile_options: num_replicas=1 num_partitions=1 device_assignment=[[CpuDevice(id=0)]]\n",
      "WARNING:jax._src.dispatch:Finished XLA compilation of jit(slice) in 0.005281686782836914 sec\n",
      "WARNING:jax._src.dispatch:Finished tracing + transforming jit(slice) in 0.0002205371856689453 sec\n",
      "DEBUG:jax._src.interpreters.pxla:Compiling slice for with global shapes and types [ShapedArray(float32[130])]. Argument mapping: (GSPMDSharding({replicated}),).\n",
      "WARNING:jax._src.dispatch:Finished jaxpr to MLIR module conversion jit(slice) in 0.0019099712371826172 sec\n",
      "DEBUG:jax._src.xla_bridge:get_compile_options: num_replicas=1 num_partitions=1 device_assignment=[[CpuDevice(id=0)]]\n",
      "WARNING:jax._src.dispatch:Finished XLA compilation of jit(slice) in 0.005372047424316406 sec\n",
      "WARNING:jax._src.dispatch:Finished tracing + transforming jit(slice) in 0.00020456314086914062 sec\n",
      "DEBUG:jax._src.interpreters.pxla:Compiling slice for with global shapes and types [ShapedArray(float32[130])]. Argument mapping: (GSPMDSharding({replicated}),).\n",
      "WARNING:jax._src.dispatch:Finished jaxpr to MLIR module conversion jit(slice) in 0.0017864704132080078 sec\n",
      "DEBUG:jax._src.xla_bridge:get_compile_options: num_replicas=1 num_partitions=1 device_assignment=[[CpuDevice(id=0)]]\n",
      "WARNING:jax._src.dispatch:Finished XLA compilation of jit(slice) in 0.005378007888793945 sec\n",
      "WARNING:jax._src.dispatch:Finished tracing + transforming jit(slice) in 0.00020051002502441406 sec\n",
      "DEBUG:jax._src.interpreters.pxla:Compiling slice for with global shapes and types [ShapedArray(float32[130])]. Argument mapping: (GSPMDSharding({replicated}),).\n",
      "WARNING:jax._src.dispatch:Finished jaxpr to MLIR module conversion jit(slice) in 0.0018916130065917969 sec\n",
      "DEBUG:jax._src.xla_bridge:get_compile_options: num_replicas=1 num_partitions=1 device_assignment=[[CpuDevice(id=0)]]\n",
      "WARNING:jax._src.dispatch:Finished XLA compilation of jit(slice) in 0.005461454391479492 sec\n",
      "WARNING:jax._src.dispatch:Finished tracing + transforming jit(slice) in 0.00022292137145996094 sec\n",
      "DEBUG:jax._src.interpreters.pxla:Compiling slice for with global shapes and types [ShapedArray(float32[130])]. Argument mapping: (GSPMDSharding({replicated}),).\n",
      "WARNING:jax._src.dispatch:Finished jaxpr to MLIR module conversion jit(slice) in 0.0019989013671875 sec\n",
      "DEBUG:jax._src.xla_bridge:get_compile_options: num_replicas=1 num_partitions=1 device_assignment=[[CpuDevice(id=0)]]\n",
      "WARNING:jax._src.dispatch:Finished XLA compilation of jit(slice) in 0.005508899688720703 sec\n",
      "WARNING:jax._src.dispatch:Finished tracing + transforming jit(slice) in 0.0002315044403076172 sec\n",
      "DEBUG:jax._src.interpreters.pxla:Compiling slice for with global shapes and types [ShapedArray(float32[130])]. Argument mapping: (GSPMDSharding({replicated}),).\n",
      "WARNING:jax._src.dispatch:Finished jaxpr to MLIR module conversion jit(slice) in 0.0019485950469970703 sec\n",
      "DEBUG:jax._src.xla_bridge:get_compile_options: num_replicas=1 num_partitions=1 device_assignment=[[CpuDevice(id=0)]]\n",
      "WARNING:jax._src.dispatch:Finished XLA compilation of jit(slice) in 0.0054607391357421875 sec\n",
      "WARNING:jax._src.dispatch:Finished tracing + transforming jit(slice) in 0.00021958351135253906 sec\n",
      "DEBUG:jax._src.interpreters.pxla:Compiling slice for with global shapes and types [ShapedArray(float32[130])]. Argument mapping: (GSPMDSharding({replicated}),).\n",
      "WARNING:jax._src.dispatch:Finished jaxpr to MLIR module conversion jit(slice) in 0.0021631717681884766 sec\n",
      "DEBUG:jax._src.xla_bridge:get_compile_options: num_replicas=1 num_partitions=1 device_assignment=[[CpuDevice(id=0)]]\n",
      "WARNING:jax._src.dispatch:Finished XLA compilation of jit(slice) in 0.00537109375 sec\n"
     ]
    },
    {
     "data": {
      "application/vnd.jupyter.widget-view+json": {
       "model_id": "",
       "version_major": 2,
       "version_minor": 0
      },
      "text/plain": [
       "Loading to device:   0%|          | 0/27 [00:00<?, ?subject/s]"
      ]
     },
     "metadata": {},
     "output_type": "display_data"
    },
    {
     "data": {
      "application/vnd.jupyter.widget-view+json": {
       "model_id": "",
       "version_major": 2,
       "version_minor": 0
      },
      "text/plain": [
       "Embedding:   0%|          | 0/27 [00:00<?, ?subject/s]"
      ]
     },
     "metadata": {},
     "output_type": "display_data"
    },
    {
     "data": {
      "application/vnd.jupyter.widget-view+json": {
       "model_id": "",
       "version_major": 2,
       "version_minor": 0
      },
      "text/plain": [
       "  0%|          | 0.00/32267.31 [00:00<?, ?longitudinal-days/s]"
      ]
     },
     "metadata": {},
     "output_type": "display_data"
    },
    {
     "data": {
      "application/vnd.jupyter.widget-view+json": {
       "model_id": "",
       "version_major": 2,
       "version_minor": 0
      },
      "text/plain": [
       "Loading to device:   0%|          | 0/38 [00:00<?, ?subject/s]"
      ]
     },
     "metadata": {},
     "output_type": "display_data"
    },
    {
     "data": {
      "application/vnd.jupyter.widget-view+json": {
       "model_id": "",
       "version_major": 2,
       "version_minor": 0
      },
      "text/plain": [
       "Embedding:   0%|          | 0/38 [00:00<?, ?subject/s]"
      ]
     },
     "metadata": {},
     "output_type": "display_data"
    },
    {
     "data": {
      "application/vnd.jupyter.widget-view+json": {
       "model_id": "",
       "version_major": 2,
       "version_minor": 0
      },
      "text/plain": [
       "  0%|          | 0.00/37218.55 [00:00<?, ?longitudinal-days/s]"
      ]
     },
     "metadata": {},
     "output_type": "display_data"
    },
    {
     "data": {
      "application/vnd.jupyter.widget-view+json": {
       "model_id": "",
       "version_major": 2,
       "version_minor": 0
      },
      "text/plain": [
       "Loading to device:   0%|          | 0/71 [00:00<?, ?subject/s]"
      ]
     },
     "metadata": {},
     "output_type": "display_data"
    },
    {
     "data": {
      "application/vnd.jupyter.widget-view+json": {
       "model_id": "",
       "version_major": 2,
       "version_minor": 0
      },
      "text/plain": [
       "Embedding:   0%|          | 0/71 [00:00<?, ?subject/s]"
      ]
     },
     "metadata": {},
     "output_type": "display_data"
    },
    {
     "data": {
      "application/vnd.jupyter.widget-view+json": {
       "model_id": "",
       "version_major": 2,
       "version_minor": 0
      },
      "text/plain": [
       "  0%|          | 0.00/49964.28 [00:00<?, ?longitudinal-days/s]"
      ]
     },
     "metadata": {},
     "output_type": "display_data"
    },
    {
     "data": {
      "application/vnd.jupyter.widget-view+json": {
       "model_id": "",
       "version_major": 2,
       "version_minor": 0
      },
      "text/plain": [
       "Loading to device:   0%|          | 0/28 [00:00<?, ?subject/s]"
      ]
     },
     "metadata": {},
     "output_type": "display_data"
    },
    {
     "data": {
      "application/vnd.jupyter.widget-view+json": {
       "model_id": "",
       "version_major": 2,
       "version_minor": 0
      },
      "text/plain": [
       "Embedding:   0%|          | 0/28 [00:00<?, ?subject/s]"
      ]
     },
     "metadata": {},
     "output_type": "display_data"
    },
    {
     "data": {
      "application/vnd.jupyter.widget-view+json": {
       "model_id": "",
       "version_major": 2,
       "version_minor": 0
      },
      "text/plain": [
       "  0%|          | 0.00/34119.27 [00:00<?, ?longitudinal-days/s]"
      ]
     },
     "metadata": {},
     "output_type": "display_data"
    },
    {
     "data": {
      "application/vnd.jupyter.widget-view+json": {
       "model_id": "",
       "version_major": 2,
       "version_minor": 0
      },
      "text/plain": [
       "Loading to device:   0%|          | 0/44 [00:00<?, ?subject/s]"
      ]
     },
     "metadata": {},
     "output_type": "display_data"
    },
    {
     "data": {
      "application/vnd.jupyter.widget-view+json": {
       "model_id": "",
       "version_major": 2,
       "version_minor": 0
      },
      "text/plain": [
       "Embedding:   0%|          | 0/44 [00:00<?, ?subject/s]"
      ]
     },
     "metadata": {},
     "output_type": "display_data"
    },
    {
     "data": {
      "application/vnd.jupyter.widget-view+json": {
       "model_id": "",
       "version_major": 2,
       "version_minor": 0
      },
      "text/plain": [
       "  0%|          | 0.00/48058.44 [00:00<?, ?longitudinal-days/s]"
      ]
     },
     "metadata": {},
     "output_type": "display_data"
    },
    {
     "data": {
      "application/vnd.jupyter.widget-view+json": {
       "model_id": "",
       "version_major": 2,
       "version_minor": 0
      },
      "text/plain": [
       "Loading to device:   0%|          | 0/29 [00:00<?, ?subject/s]"
      ]
     },
     "metadata": {},
     "output_type": "display_data"
    },
    {
     "data": {
      "application/vnd.jupyter.widget-view+json": {
       "model_id": "",
       "version_major": 2,
       "version_minor": 0
      },
      "text/plain": [
       "Embedding:   0%|          | 0/29 [00:00<?, ?subject/s]"
      ]
     },
     "metadata": {},
     "output_type": "display_data"
    },
    {
     "data": {
      "application/vnd.jupyter.widget-view+json": {
       "model_id": "",
       "version_major": 2,
       "version_minor": 0
      },
      "text/plain": [
       "  0%|          | 0.00/29730.99 [00:00<?, ?longitudinal-days/s]"
      ]
     },
     "metadata": {},
     "output_type": "display_data"
    },
    {
     "name": "stderr",
     "output_type": "stream",
     "text": [
      "WARNING:jax._src.dispatch:Finished tracing + transforming jit(concatenate) in 0.00025081634521484375 sec\n",
      "DEBUG:jax._src.interpreters.pxla:Compiling concatenate for with global shapes and types [ShapedArray(float32[16]), ShapedArray(float32[16]), ShapedArray(float32[16]), ShapedArray(float32[16]), ShapedArray(float32[16]), ShapedArray(float32[16]), ShapedArray(float32[16]), ShapedArray(float32[12])]. Argument mapping: (GSPMDSharding({replicated}), GSPMDSharding({replicated}), GSPMDSharding({replicated}), GSPMDSharding({replicated}), GSPMDSharding({replicated}), GSPMDSharding({replicated}), GSPMDSharding({replicated}), GSPMDSharding({replicated})).\n",
      "WARNING:jax._src.dispatch:Finished jaxpr to MLIR module conversion jit(concatenate) in 0.0017919540405273438 sec\n",
      "DEBUG:jax._src.xla_bridge:get_compile_options: num_replicas=1 num_partitions=1 device_assignment=[[CpuDevice(id=0)]]\n",
      "WARNING:jax._src.dispatch:Finished XLA compilation of jit(concatenate) in 0.006993532180786133 sec\n",
      "WARNING:jax._src.dispatch:Finished tracing + transforming jit(convert_element_type) in 0.00034928321838378906 sec\n",
      "WARNING:jax._src.dispatch:Finished tracing + transforming _reduce_sum for pjit in 0.0006558895111083984 sec\n",
      "WARNING:jax._src.dispatch:Finished tracing + transforming _broadcast_arrays for pjit in 0.00033473968505859375 sec\n",
      "WARNING:jax._src.dispatch:Finished tracing + transforming _where for pjit in 0.0014605522155761719 sec\n",
      "WARNING:jax._src.dispatch:Finished tracing + transforming _reduce_sum for pjit in 0.0005419254302978516 sec\n",
      "WARNING:jax._src.dispatch:Finished tracing + transforming nansum for pjit in 0.0038099288940429688 sec\n",
      "WARNING:jax._src.dispatch:Finished tracing + transforming nanmean for pjit in 0.006651163101196289 sec\n",
      "DEBUG:jax._src.interpreters.pxla:Compiling nanmean for with global shapes and types [ShapedArray(float32[124])]. Argument mapping: (GSPMDSharding({replicated}),).\n",
      "WARNING:jax._src.dispatch:Finished jaxpr to MLIR module conversion jit(nanmean) in 0.003614664077758789 sec\n",
      "DEBUG:jax._src.xla_bridge:get_compile_options: num_replicas=1 num_partitions=1 device_assignment=[[CpuDevice(id=0)]]\n",
      "WARNING:jax._src.dispatch:Finished XLA compilation of jit(nanmean) in 0.02251744270324707 sec\n",
      "DEBUG:jax._src.interpreters.pxla:Compiling nanmean for with global shapes and types [ShapedArray(bool[124]), ShapedArray(float32[]), ShapedArray(float32[])]. Argument mapping: (GSPMDSharding({replicated}), GSPMDSharding({replicated}), GSPMDSharding({replicated})).\n",
      "WARNING:jax._src.dispatch:Finished jaxpr to MLIR module conversion jit(nanmean) in 0.002841472625732422 sec\n",
      "DEBUG:jax._src.xla_bridge:get_compile_options: num_replicas=1 num_partitions=1 device_assignment=[[CpuDevice(id=0)]]\n",
      "WARNING:jax._src.dispatch:Finished XLA compilation of jit(nanmean) in 0.008427858352661133 sec\n",
      "WARNING:jax._src.dispatch:Finished tracing + transforming jit(slice) in 0.0002014636993408203 sec\n",
      "DEBUG:jax._src.interpreters.pxla:Compiling slice for with global shapes and types [ShapedArray(float32[124])]. Argument mapping: (GSPMDSharding({replicated}),).\n",
      "WARNING:jax._src.dispatch:Finished jaxpr to MLIR module conversion jit(slice) in 0.0015151500701904297 sec\n",
      "DEBUG:jax._src.xla_bridge:get_compile_options: num_replicas=1 num_partitions=1 device_assignment=[[CpuDevice(id=0)]]\n",
      "WARNING:jax._src.dispatch:Finished XLA compilation of jit(slice) in 0.00516819953918457 sec\n",
      "WARNING:jax._src.dispatch:Finished tracing + transforming jit(slice) in 0.00020647048950195312 sec\n",
      "DEBUG:jax._src.interpreters.pxla:Compiling slice for with global shapes and types [ShapedArray(float32[124])]. Argument mapping: (GSPMDSharding({replicated}),).\n",
      "WARNING:jax._src.dispatch:Finished jaxpr to MLIR module conversion jit(slice) in 0.0021936893463134766 sec\n",
      "DEBUG:jax._src.xla_bridge:get_compile_options: num_replicas=1 num_partitions=1 device_assignment=[[CpuDevice(id=0)]]\n",
      "WARNING:jax._src.dispatch:Finished XLA compilation of jit(slice) in 0.004912853240966797 sec\n",
      "WARNING:jax._src.dispatch:Finished tracing + transforming jit(slice) in 0.00023102760314941406 sec\n",
      "DEBUG:jax._src.interpreters.pxla:Compiling slice for with global shapes and types [ShapedArray(float32[124])]. Argument mapping: (GSPMDSharding({replicated}),).\n",
      "WARNING:jax._src.dispatch:Finished jaxpr to MLIR module conversion jit(slice) in 0.0018153190612792969 sec\n",
      "DEBUG:jax._src.xla_bridge:get_compile_options: num_replicas=1 num_partitions=1 device_assignment=[[CpuDevice(id=0)]]\n",
      "WARNING:jax._src.dispatch:Finished XLA compilation of jit(slice) in 0.005037546157836914 sec\n",
      "WARNING:jax._src.dispatch:Finished tracing + transforming jit(slice) in 0.00020599365234375 sec\n",
      "DEBUG:jax._src.interpreters.pxla:Compiling slice for with global shapes and types [ShapedArray(float32[124])]. Argument mapping: (GSPMDSharding({replicated}),).\n",
      "WARNING:jax._src.dispatch:Finished jaxpr to MLIR module conversion jit(slice) in 0.0015671253204345703 sec\n",
      "DEBUG:jax._src.xla_bridge:get_compile_options: num_replicas=1 num_partitions=1 device_assignment=[[CpuDevice(id=0)]]\n",
      "WARNING:jax._src.dispatch:Finished XLA compilation of jit(slice) in 0.005015134811401367 sec\n",
      "WARNING:jax._src.dispatch:Finished tracing + transforming jit(slice) in 0.0002543926239013672 sec\n",
      "DEBUG:jax._src.interpreters.pxla:Compiling slice for with global shapes and types [ShapedArray(float32[124])]. Argument mapping: (GSPMDSharding({replicated}),).\n",
      "WARNING:jax._src.dispatch:Finished jaxpr to MLIR module conversion jit(slice) in 0.0016536712646484375 sec\n",
      "DEBUG:jax._src.xla_bridge:get_compile_options: num_replicas=1 num_partitions=1 device_assignment=[[CpuDevice(id=0)]]\n",
      "WARNING:jax._src.dispatch:Finished XLA compilation of jit(slice) in 0.0050351619720458984 sec\n",
      "WARNING:jax._src.dispatch:Finished tracing + transforming jit(slice) in 0.00020575523376464844 sec\n",
      "DEBUG:jax._src.interpreters.pxla:Compiling slice for with global shapes and types [ShapedArray(float32[124])]. Argument mapping: (GSPMDSharding({replicated}),).\n",
      "WARNING:jax._src.dispatch:Finished jaxpr to MLIR module conversion jit(slice) in 0.0015118122100830078 sec\n",
      "DEBUG:jax._src.xla_bridge:get_compile_options: num_replicas=1 num_partitions=1 device_assignment=[[CpuDevice(id=0)]]\n",
      "WARNING:jax._src.dispatch:Finished XLA compilation of jit(slice) in 0.005150794982910156 sec\n",
      "WARNING:jax._src.dispatch:Finished tracing + transforming jit(slice) in 0.00021195411682128906 sec\n",
      "DEBUG:jax._src.interpreters.pxla:Compiling slice for with global shapes and types [ShapedArray(float32[124])]. Argument mapping: (GSPMDSharding({replicated}),).\n",
      "WARNING:jax._src.dispatch:Finished jaxpr to MLIR module conversion jit(slice) in 0.0016422271728515625 sec\n",
      "DEBUG:jax._src.xla_bridge:get_compile_options: num_replicas=1 num_partitions=1 device_assignment=[[CpuDevice(id=0)]]\n",
      "WARNING:jax._src.dispatch:Finished XLA compilation of jit(slice) in 0.004964113235473633 sec\n",
      "WARNING:jax._src.dispatch:Finished tracing + transforming jit(slice) in 0.00021505355834960938 sec\n",
      "DEBUG:jax._src.interpreters.pxla:Compiling slice for with global shapes and types [ShapedArray(float32[124])]. Argument mapping: (GSPMDSharding({replicated}),).\n",
      "WARNING:jax._src.dispatch:Finished jaxpr to MLIR module conversion jit(slice) in 0.0017943382263183594 sec\n",
      "DEBUG:jax._src.xla_bridge:get_compile_options: num_replicas=1 num_partitions=1 device_assignment=[[CpuDevice(id=0)]]\n",
      "WARNING:jax._src.dispatch:Finished XLA compilation of jit(slice) in 0.005128622055053711 sec\n"
     ]
    },
    {
     "data": {
      "application/vnd.jupyter.widget-view+json": {
       "model_id": "",
       "version_major": 2,
       "version_minor": 0
      },
      "text/plain": [
       "Loading to device:   0%|          | 0/34 [00:00<?, ?subject/s]"
      ]
     },
     "metadata": {},
     "output_type": "display_data"
    },
    {
     "data": {
      "application/vnd.jupyter.widget-view+json": {
       "model_id": "",
       "version_major": 2,
       "version_minor": 0
      },
      "text/plain": [
       "Embedding:   0%|          | 0/34 [00:00<?, ?subject/s]"
      ]
     },
     "metadata": {},
     "output_type": "display_data"
    },
    {
     "data": {
      "application/vnd.jupyter.widget-view+json": {
       "model_id": "",
       "version_major": 2,
       "version_minor": 0
      },
      "text/plain": [
       "  0%|          | 0.00/32208.54 [00:00<?, ?longitudinal-days/s]"
      ]
     },
     "metadata": {},
     "output_type": "display_data"
    },
    {
     "data": {
      "application/vnd.jupyter.widget-view+json": {
       "model_id": "",
       "version_major": 2,
       "version_minor": 0
      },
      "text/plain": [
       "Loading to device:   0%|          | 0/35 [00:00<?, ?subject/s]"
      ]
     },
     "metadata": {},
     "output_type": "display_data"
    },
    {
     "data": {
      "application/vnd.jupyter.widget-view+json": {
       "model_id": "",
       "version_major": 2,
       "version_minor": 0
      },
      "text/plain": [
       "Embedding:   0%|          | 0/35 [00:00<?, ?subject/s]"
      ]
     },
     "metadata": {},
     "output_type": "display_data"
    },
    {
     "data": {
      "application/vnd.jupyter.widget-view+json": {
       "model_id": "",
       "version_major": 2,
       "version_minor": 0
      },
      "text/plain": [
       "  0%|          | 0.00/36215.68 [00:00<?, ?longitudinal-days/s]"
      ]
     },
     "metadata": {},
     "output_type": "display_data"
    },
    {
     "data": {
      "application/vnd.jupyter.widget-view+json": {
       "model_id": "",
       "version_major": 2,
       "version_minor": 0
      },
      "text/plain": [
       "Loading to device:   0%|          | 0/46 [00:00<?, ?subject/s]"
      ]
     },
     "metadata": {},
     "output_type": "display_data"
    },
    {
     "data": {
      "application/vnd.jupyter.widget-view+json": {
       "model_id": "",
       "version_major": 2,
       "version_minor": 0
      },
      "text/plain": [
       "Embedding:   0%|          | 0/46 [00:00<?, ?subject/s]"
      ]
     },
     "metadata": {},
     "output_type": "display_data"
    },
    {
     "data": {
      "application/vnd.jupyter.widget-view+json": {
       "model_id": "",
       "version_major": 2,
       "version_minor": 0
      },
      "text/plain": [
       "  0%|          | 0.00/48748.46 [00:00<?, ?longitudinal-days/s]"
      ]
     },
     "metadata": {},
     "output_type": "display_data"
    },
    {
     "name": "stderr",
     "output_type": "stream",
     "text": [
      "WARNING:jax._src.dispatch:Finished tracing + transforming jit(concatenate) in 0.00026297569274902344 sec\n",
      "DEBUG:jax._src.interpreters.pxla:Compiling concatenate for with global shapes and types [ShapedArray(float32[16]), ShapedArray(float32[16]), ShapedArray(float32[16]), ShapedArray(float32[16]), ShapedArray(float32[16]), ShapedArray(float32[16]), ShapedArray(float32[16]), ShapedArray(float32[16]), ShapedArray(float32[12])]. Argument mapping: (GSPMDSharding({replicated}), GSPMDSharding({replicated}), GSPMDSharding({replicated}), GSPMDSharding({replicated}), GSPMDSharding({replicated}), GSPMDSharding({replicated}), GSPMDSharding({replicated}), GSPMDSharding({replicated}), GSPMDSharding({replicated})).\n",
      "WARNING:jax._src.dispatch:Finished jaxpr to MLIR module conversion jit(concatenate) in 0.0016872882843017578 sec\n",
      "DEBUG:jax._src.xla_bridge:get_compile_options: num_replicas=1 num_partitions=1 device_assignment=[[CpuDevice(id=0)]]\n",
      "WARNING:jax._src.dispatch:Finished XLA compilation of jit(concatenate) in 0.0068209171295166016 sec\n",
      "WARNING:jax._src.dispatch:Finished tracing + transforming jit(convert_element_type) in 0.0002989768981933594 sec\n",
      "WARNING:jax._src.dispatch:Finished tracing + transforming _reduce_sum for pjit in 0.0006384849548339844 sec\n",
      "WARNING:jax._src.dispatch:Finished tracing + transforming _broadcast_arrays for pjit in 0.00034809112548828125 sec\n",
      "WARNING:jax._src.dispatch:Finished tracing + transforming _where for pjit in 0.0014030933380126953 sec\n",
      "WARNING:jax._src.dispatch:Finished tracing + transforming _reduce_sum for pjit in 0.0012764930725097656 sec\n",
      "WARNING:jax._src.dispatch:Finished tracing + transforming nansum for pjit in 0.004976034164428711 sec\n",
      "WARNING:jax._src.dispatch:Finished tracing + transforming nanmean for pjit in 0.008208751678466797 sec\n",
      "DEBUG:jax._src.interpreters.pxla:Compiling nanmean for with global shapes and types [ShapedArray(float32[140])]. Argument mapping: (GSPMDSharding({replicated}),).\n",
      "WARNING:jax._src.dispatch:Finished jaxpr to MLIR module conversion jit(nanmean) in 0.0036725997924804688 sec\n",
      "DEBUG:jax._src.xla_bridge:get_compile_options: num_replicas=1 num_partitions=1 device_assignment=[[CpuDevice(id=0)]]\n",
      "WARNING:jax._src.dispatch:Finished XLA compilation of jit(nanmean) in 0.024346590042114258 sec\n",
      "DEBUG:jax._src.interpreters.pxla:Compiling nanmean for with global shapes and types [ShapedArray(bool[140]), ShapedArray(float32[]), ShapedArray(float32[])]. Argument mapping: (GSPMDSharding({replicated}), GSPMDSharding({replicated}), GSPMDSharding({replicated})).\n",
      "WARNING:jax._src.dispatch:Finished jaxpr to MLIR module conversion jit(nanmean) in 0.002612590789794922 sec\n",
      "DEBUG:jax._src.xla_bridge:get_compile_options: num_replicas=1 num_partitions=1 device_assignment=[[CpuDevice(id=0)]]\n",
      "WARNING:jax._src.dispatch:Finished XLA compilation of jit(nanmean) in 0.00956583023071289 sec\n",
      "WARNING:jax._src.dispatch:Finished tracing + transforming jit(slice) in 0.00019288063049316406 sec\n",
      "DEBUG:jax._src.interpreters.pxla:Compiling slice for with global shapes and types [ShapedArray(float32[140])]. Argument mapping: (GSPMDSharding({replicated}),).\n",
      "WARNING:jax._src.dispatch:Finished jaxpr to MLIR module conversion jit(slice) in 0.0014531612396240234 sec\n",
      "DEBUG:jax._src.xla_bridge:get_compile_options: num_replicas=1 num_partitions=1 device_assignment=[[CpuDevice(id=0)]]\n",
      "WARNING:jax._src.dispatch:Finished XLA compilation of jit(slice) in 0.0048749446868896484 sec\n",
      "WARNING:jax._src.dispatch:Finished tracing + transforming jit(slice) in 0.00021123886108398438 sec\n",
      "DEBUG:jax._src.interpreters.pxla:Compiling slice for with global shapes and types [ShapedArray(float32[140])]. Argument mapping: (GSPMDSharding({replicated}),).\n",
      "WARNING:jax._src.dispatch:Finished jaxpr to MLIR module conversion jit(slice) in 0.0025987625122070312 sec\n",
      "DEBUG:jax._src.xla_bridge:get_compile_options: num_replicas=1 num_partitions=1 device_assignment=[[CpuDevice(id=0)]]\n",
      "WARNING:jax._src.dispatch:Finished XLA compilation of jit(slice) in 0.00503849983215332 sec\n",
      "WARNING:jax._src.dispatch:Finished tracing + transforming jit(slice) in 0.0002148151397705078 sec\n",
      "DEBUG:jax._src.interpreters.pxla:Compiling slice for with global shapes and types [ShapedArray(float32[140])]. Argument mapping: (GSPMDSharding({replicated}),).\n",
      "WARNING:jax._src.dispatch:Finished jaxpr to MLIR module conversion jit(slice) in 0.0018045902252197266 sec\n",
      "DEBUG:jax._src.xla_bridge:get_compile_options: num_replicas=1 num_partitions=1 device_assignment=[[CpuDevice(id=0)]]\n",
      "WARNING:jax._src.dispatch:Finished XLA compilation of jit(slice) in 0.005268573760986328 sec\n",
      "WARNING:jax._src.dispatch:Finished tracing + transforming jit(slice) in 0.0002040863037109375 sec\n",
      "DEBUG:jax._src.interpreters.pxla:Compiling slice for with global shapes and types [ShapedArray(float32[140])]. Argument mapping: (GSPMDSharding({replicated}),).\n",
      "WARNING:jax._src.dispatch:Finished jaxpr to MLIR module conversion jit(slice) in 0.0016665458679199219 sec\n",
      "DEBUG:jax._src.xla_bridge:get_compile_options: num_replicas=1 num_partitions=1 device_assignment=[[CpuDevice(id=0)]]\n",
      "WARNING:jax._src.dispatch:Finished XLA compilation of jit(slice) in 0.004853010177612305 sec\n",
      "WARNING:jax._src.dispatch:Finished tracing + transforming jit(slice) in 0.00022482872009277344 sec\n",
      "DEBUG:jax._src.interpreters.pxla:Compiling slice for with global shapes and types [ShapedArray(float32[140])]. Argument mapping: (GSPMDSharding({replicated}),).\n",
      "WARNING:jax._src.dispatch:Finished jaxpr to MLIR module conversion jit(slice) in 0.0016601085662841797 sec\n",
      "DEBUG:jax._src.xla_bridge:get_compile_options: num_replicas=1 num_partitions=1 device_assignment=[[CpuDevice(id=0)]]\n",
      "WARNING:jax._src.dispatch:Finished XLA compilation of jit(slice) in 0.005347490310668945 sec\n",
      "WARNING:jax._src.dispatch:Finished tracing + transforming jit(slice) in 0.00021886825561523438 sec\n",
      "DEBUG:jax._src.interpreters.pxla:Compiling slice for with global shapes and types [ShapedArray(float32[140])]. Argument mapping: (GSPMDSharding({replicated}),).\n",
      "WARNING:jax._src.dispatch:Finished jaxpr to MLIR module conversion jit(slice) in 0.0018169879913330078 sec\n",
      "DEBUG:jax._src.xla_bridge:get_compile_options: num_replicas=1 num_partitions=1 device_assignment=[[CpuDevice(id=0)]]\n",
      "WARNING:jax._src.dispatch:Finished XLA compilation of jit(slice) in 0.005165576934814453 sec\n",
      "WARNING:jax._src.dispatch:Finished tracing + transforming jit(slice) in 0.0002162456512451172 sec\n",
      "DEBUG:jax._src.interpreters.pxla:Compiling slice for with global shapes and types [ShapedArray(float32[140])]. Argument mapping: (GSPMDSharding({replicated}),).\n",
      "WARNING:jax._src.dispatch:Finished jaxpr to MLIR module conversion jit(slice) in 0.0017421245574951172 sec\n",
      "DEBUG:jax._src.xla_bridge:get_compile_options: num_replicas=1 num_partitions=1 device_assignment=[[CpuDevice(id=0)]]\n",
      "WARNING:jax._src.dispatch:Finished XLA compilation of jit(slice) in 0.0050199031829833984 sec\n",
      "WARNING:jax._src.dispatch:Finished tracing + transforming jit(slice) in 0.0002048015594482422 sec\n",
      "DEBUG:jax._src.interpreters.pxla:Compiling slice for with global shapes and types [ShapedArray(float32[140])]. Argument mapping: (GSPMDSharding({replicated}),).\n",
      "WARNING:jax._src.dispatch:Finished jaxpr to MLIR module conversion jit(slice) in 0.0016646385192871094 sec\n",
      "DEBUG:jax._src.xla_bridge:get_compile_options: num_replicas=1 num_partitions=1 device_assignment=[[CpuDevice(id=0)]]\n",
      "WARNING:jax._src.dispatch:Finished XLA compilation of jit(slice) in 0.005218505859375 sec\n",
      "WARNING:jax._src.dispatch:Finished tracing + transforming jit(slice) in 0.00021195411682128906 sec\n",
      "DEBUG:jax._src.interpreters.pxla:Compiling slice for with global shapes and types [ShapedArray(float32[140])]. Argument mapping: (GSPMDSharding({replicated}),).\n",
      "WARNING:jax._src.dispatch:Finished jaxpr to MLIR module conversion jit(slice) in 0.0016977787017822266 sec\n",
      "DEBUG:jax._src.xla_bridge:get_compile_options: num_replicas=1 num_partitions=1 device_assignment=[[CpuDevice(id=0)]]\n",
      "WARNING:jax._src.dispatch:Finished XLA compilation of jit(slice) in 0.004927158355712891 sec\n",
      "WARNING:jax._src.dispatch:Finished tracing + transforming jit(integer_pow) in 0.00021314620971679688 sec\n",
      "DEBUG:jax._src.interpreters.pxla:Compiling integer_pow for with global shapes and types [ShapedArray(float32[])]. Argument mapping: (GSPMDSharding({replicated}),).\n"
     ]
    },
    {
     "name": "stderr",
     "output_type": "stream",
     "text": [
      "WARNING:jax._src.dispatch:Finished jaxpr to MLIR module conversion jit(integer_pow) in 0.003264904022216797 sec\n",
      "DEBUG:jax._src.xla_bridge:get_compile_options: num_replicas=1 num_partitions=1 device_assignment=[[CpuDevice(id=0)]]\n",
      "WARNING:jax._src.dispatch:Finished XLA compilation of jit(integer_pow) in 0.006892204284667969 sec\n"
     ]
    },
    {
     "data": {
      "application/vnd.jupyter.widget-view+json": {
       "model_id": "",
       "version_major": 2,
       "version_minor": 0
      },
      "text/plain": [
       "Loading to device:   0%|          | 0/45 [00:00<?, ?subject/s]"
      ]
     },
     "metadata": {},
     "output_type": "display_data"
    },
    {
     "data": {
      "application/vnd.jupyter.widget-view+json": {
       "model_id": "",
       "version_major": 2,
       "version_minor": 0
      },
      "text/plain": [
       "Embedding:   0%|          | 0/45 [00:00<?, ?subject/s]"
      ]
     },
     "metadata": {},
     "output_type": "display_data"
    },
    {
     "data": {
      "application/vnd.jupyter.widget-view+json": {
       "model_id": "",
       "version_major": 2,
       "version_minor": 0
      },
      "text/plain": [
       "  0%|          | 0.00/43345.18 [00:00<?, ?longitudinal-days/s]"
      ]
     },
     "metadata": {},
     "output_type": "display_data"
    },
    {
     "name": "stderr",
     "output_type": "stream",
     "text": [
      "WARNING:jax._src.dispatch:Finished tracing + transforming jit(concatenate) in 0.00026679039001464844 sec\n",
      "DEBUG:jax._src.interpreters.pxla:Compiling concatenate for with global shapes and types [ShapedArray(float32[16]), ShapedArray(float32[16]), ShapedArray(float32[16]), ShapedArray(float32[16]), ShapedArray(float32[16]), ShapedArray(float32[16]), ShapedArray(float32[16]), ShapedArray(float32[16]), ShapedArray(float32[1])]. Argument mapping: (GSPMDSharding({replicated}), GSPMDSharding({replicated}), GSPMDSharding({replicated}), GSPMDSharding({replicated}), GSPMDSharding({replicated}), GSPMDSharding({replicated}), GSPMDSharding({replicated}), GSPMDSharding({replicated}), GSPMDSharding({replicated})).\n",
      "WARNING:jax._src.dispatch:Finished jaxpr to MLIR module conversion jit(concatenate) in 0.001461029052734375 sec\n",
      "DEBUG:jax._src.xla_bridge:get_compile_options: num_replicas=1 num_partitions=1 device_assignment=[[CpuDevice(id=0)]]\n",
      "WARNING:jax._src.dispatch:Finished XLA compilation of jit(concatenate) in 0.006825685501098633 sec\n",
      "WARNING:jax._src.dispatch:Finished tracing + transforming jit(convert_element_type) in 0.0002415180206298828 sec\n",
      "WARNING:jax._src.dispatch:Finished tracing + transforming _reduce_sum for pjit in 0.0005686283111572266 sec\n",
      "WARNING:jax._src.dispatch:Finished tracing + transforming _broadcast_arrays for pjit in 0.00033020973205566406 sec\n",
      "WARNING:jax._src.dispatch:Finished tracing + transforming _where for pjit in 0.0013773441314697266 sec\n",
      "WARNING:jax._src.dispatch:Finished tracing + transforming _reduce_sum for pjit in 0.00035452842712402344 sec\n",
      "WARNING:jax._src.dispatch:Finished tracing + transforming nansum for pjit in 0.003248929977416992 sec\n",
      "WARNING:jax._src.dispatch:Finished tracing + transforming nanmean for pjit in 0.0056247711181640625 sec\n",
      "DEBUG:jax._src.interpreters.pxla:Compiling nanmean for with global shapes and types [ShapedArray(float32[129])]. Argument mapping: (GSPMDSharding({replicated}),).\n",
      "WARNING:jax._src.dispatch:Finished jaxpr to MLIR module conversion jit(nanmean) in 0.003575563430786133 sec\n",
      "DEBUG:jax._src.xla_bridge:get_compile_options: num_replicas=1 num_partitions=1 device_assignment=[[CpuDevice(id=0)]]\n",
      "WARNING:jax._src.dispatch:Finished XLA compilation of jit(nanmean) in 0.02430129051208496 sec\n",
      "DEBUG:jax._src.interpreters.pxla:Compiling nanmean for with global shapes and types [ShapedArray(bool[129]), ShapedArray(float32[]), ShapedArray(float32[])]. Argument mapping: (GSPMDSharding({replicated}), GSPMDSharding({replicated}), GSPMDSharding({replicated})).\n",
      "WARNING:jax._src.dispatch:Finished jaxpr to MLIR module conversion jit(nanmean) in 0.0027446746826171875 sec\n",
      "DEBUG:jax._src.xla_bridge:get_compile_options: num_replicas=1 num_partitions=1 device_assignment=[[CpuDevice(id=0)]]\n",
      "WARNING:jax._src.dispatch:Finished XLA compilation of jit(nanmean) in 0.008774995803833008 sec\n",
      "WARNING:jax._src.dispatch:Finished tracing + transforming jit(slice) in 0.00019025802612304688 sec\n",
      "DEBUG:jax._src.interpreters.pxla:Compiling slice for with global shapes and types [ShapedArray(float32[129])]. Argument mapping: (GSPMDSharding({replicated}),).\n",
      "WARNING:jax._src.dispatch:Finished jaxpr to MLIR module conversion jit(slice) in 0.001455545425415039 sec\n",
      "DEBUG:jax._src.xla_bridge:get_compile_options: num_replicas=1 num_partitions=1 device_assignment=[[CpuDevice(id=0)]]\n",
      "WARNING:jax._src.dispatch:Finished XLA compilation of jit(slice) in 0.004698276519775391 sec\n",
      "WARNING:jax._src.dispatch:Finished tracing + transforming jit(slice) in 0.0002200603485107422 sec\n",
      "DEBUG:jax._src.interpreters.pxla:Compiling slice for with global shapes and types [ShapedArray(float32[129])]. Argument mapping: (GSPMDSharding({replicated}),).\n",
      "WARNING:jax._src.dispatch:Finished jaxpr to MLIR module conversion jit(slice) in 0.0023441314697265625 sec\n",
      "DEBUG:jax._src.xla_bridge:get_compile_options: num_replicas=1 num_partitions=1 device_assignment=[[CpuDevice(id=0)]]\n",
      "WARNING:jax._src.dispatch:Finished XLA compilation of jit(slice) in 0.004825115203857422 sec\n",
      "WARNING:jax._src.dispatch:Finished tracing + transforming jit(slice) in 0.00020170211791992188 sec\n",
      "DEBUG:jax._src.interpreters.pxla:Compiling slice for with global shapes and types [ShapedArray(float32[129])]. Argument mapping: (GSPMDSharding({replicated}),).\n",
      "WARNING:jax._src.dispatch:Finished jaxpr to MLIR module conversion jit(slice) in 0.0014722347259521484 sec\n",
      "DEBUG:jax._src.xla_bridge:get_compile_options: num_replicas=1 num_partitions=1 device_assignment=[[CpuDevice(id=0)]]\n",
      "WARNING:jax._src.dispatch:Finished XLA compilation of jit(slice) in 0.004917621612548828 sec\n",
      "WARNING:jax._src.dispatch:Finished tracing + transforming jit(slice) in 0.0001990795135498047 sec\n",
      "DEBUG:jax._src.interpreters.pxla:Compiling slice for with global shapes and types [ShapedArray(float32[129])]. Argument mapping: (GSPMDSharding({replicated}),).\n",
      "WARNING:jax._src.dispatch:Finished jaxpr to MLIR module conversion jit(slice) in 0.0016903877258300781 sec\n",
      "DEBUG:jax._src.xla_bridge:get_compile_options: num_replicas=1 num_partitions=1 device_assignment=[[CpuDevice(id=0)]]\n",
      "WARNING:jax._src.dispatch:Finished XLA compilation of jit(slice) in 0.004725456237792969 sec\n",
      "WARNING:jax._src.dispatch:Finished tracing + transforming jit(slice) in 0.00020265579223632812 sec\n",
      "DEBUG:jax._src.interpreters.pxla:Compiling slice for with global shapes and types [ShapedArray(float32[129])]. Argument mapping: (GSPMDSharding({replicated}),).\n",
      "WARNING:jax._src.dispatch:Finished jaxpr to MLIR module conversion jit(slice) in 0.001752614974975586 sec\n",
      "DEBUG:jax._src.xla_bridge:get_compile_options: num_replicas=1 num_partitions=1 device_assignment=[[CpuDevice(id=0)]]\n",
      "WARNING:jax._src.dispatch:Finished XLA compilation of jit(slice) in 0.004946708679199219 sec\n",
      "WARNING:jax._src.dispatch:Finished tracing + transforming jit(slice) in 0.00019788742065429688 sec\n",
      "DEBUG:jax._src.interpreters.pxla:Compiling slice for with global shapes and types [ShapedArray(float32[129])]. Argument mapping: (GSPMDSharding({replicated}),).\n",
      "WARNING:jax._src.dispatch:Finished jaxpr to MLIR module conversion jit(slice) in 0.0015716552734375 sec\n",
      "DEBUG:jax._src.xla_bridge:get_compile_options: num_replicas=1 num_partitions=1 device_assignment=[[CpuDevice(id=0)]]\n",
      "WARNING:jax._src.dispatch:Finished XLA compilation of jit(slice) in 0.0048122406005859375 sec\n",
      "WARNING:jax._src.dispatch:Finished tracing + transforming jit(slice) in 0.00019812583923339844 sec\n",
      "DEBUG:jax._src.interpreters.pxla:Compiling slice for with global shapes and types [ShapedArray(float32[129])]. Argument mapping: (GSPMDSharding({replicated}),).\n",
      "WARNING:jax._src.dispatch:Finished jaxpr to MLIR module conversion jit(slice) in 0.0015971660614013672 sec\n",
      "DEBUG:jax._src.xla_bridge:get_compile_options: num_replicas=1 num_partitions=1 device_assignment=[[CpuDevice(id=0)]]\n",
      "WARNING:jax._src.dispatch:Finished XLA compilation of jit(slice) in 0.004924774169921875 sec\n",
      "WARNING:jax._src.dispatch:Finished tracing + transforming jit(slice) in 0.00019788742065429688 sec\n",
      "DEBUG:jax._src.interpreters.pxla:Compiling slice for with global shapes and types [ShapedArray(float32[129])]. Argument mapping: (GSPMDSharding({replicated}),).\n",
      "WARNING:jax._src.dispatch:Finished jaxpr to MLIR module conversion jit(slice) in 0.001535654067993164 sec\n",
      "DEBUG:jax._src.xla_bridge:get_compile_options: num_replicas=1 num_partitions=1 device_assignment=[[CpuDevice(id=0)]]\n",
      "WARNING:jax._src.dispatch:Finished XLA compilation of jit(slice) in 0.005133390426635742 sec\n",
      "WARNING:jax._src.dispatch:Finished tracing + transforming jit(slice) in 0.00019621849060058594 sec\n",
      "DEBUG:jax._src.interpreters.pxla:Compiling slice for with global shapes and types [ShapedArray(float32[129])]. Argument mapping: (GSPMDSharding({replicated}),).\n",
      "WARNING:jax._src.dispatch:Finished jaxpr to MLIR module conversion jit(slice) in 0.001608133316040039 sec\n",
      "DEBUG:jax._src.xla_bridge:get_compile_options: num_replicas=1 num_partitions=1 device_assignment=[[CpuDevice(id=0)]]\n",
      "WARNING:jax._src.dispatch:Finished XLA compilation of jit(slice) in 0.004957437515258789 sec\n",
      "WARNING:jax._src.dispatch:Finished tracing + transforming jit(integer_pow) in 0.00028443336486816406 sec\n",
      "DEBUG:jax._src.interpreters.pxla:Compiling integer_pow for with global shapes and types [ShapedArray(float32[])]. Argument mapping: (GSPMDSharding({replicated}),).\n"
     ]
    },
    {
     "name": "stderr",
     "output_type": "stream",
     "text": [
      "WARNING:jax._src.dispatch:Finished jaxpr to MLIR module conversion jit(integer_pow) in 0.00407099723815918 sec\n",
      "DEBUG:jax._src.xla_bridge:get_compile_options: num_replicas=1 num_partitions=1 device_assignment=[[CpuDevice(id=0)]]\n",
      "WARNING:jax._src.dispatch:Finished XLA compilation of jit(integer_pow) in 0.0068817138671875 sec\n"
     ]
    },
    {
     "data": {
      "application/vnd.jupyter.widget-view+json": {
       "model_id": "",
       "version_major": 2,
       "version_minor": 0
      },
      "text/plain": [
       "Embedding:   0%|          | 0/45 [00:00<?, ?subject/s]"
      ]
     },
     "metadata": {},
     "output_type": "display_data"
    },
    {
     "data": {
      "application/vnd.jupyter.widget-view+json": {
       "model_id": "",
       "version_major": 2,
       "version_minor": 0
      },
      "text/plain": [
       "  0%|          | 0.00/43345.18 [00:00<?, ?longitudinal-days/s]"
      ]
     },
     "metadata": {},
     "output_type": "display_data"
    },
    {
     "name": "stderr",
     "output_type": "stream",
     "text": [
      "DEBUG:jax._src.interpreters.pxla:Compiling nanmean for with global shapes and types [ShapedArray(float32[129])]. Argument mapping: (GSPMDSharding({replicated}),).\n",
      "WARNING:jax._src.dispatch:Finished jaxpr to MLIR module conversion jit(nanmean) in 0.0034575462341308594 sec\n",
      "DEBUG:jax._src.xla_bridge:get_compile_options: num_replicas=1 num_partitions=1 device_assignment=[[CpuDevice(id=0)]]\n",
      "WARNING:jax._src.dispatch:Finished XLA compilation of jit(nanmean) in 0.021904468536376953 sec\n"
     ]
    },
    {
     "data": {
      "application/vnd.jupyter.widget-view+json": {
       "model_id": "",
       "version_major": 2,
       "version_minor": 0
      },
      "text/plain": [
       "Embedding:   0%|          | 0/58 [00:00<?, ?subject/s]"
      ]
     },
     "metadata": {},
     "output_type": "display_data"
    },
    {
     "data": {
      "application/vnd.jupyter.widget-view+json": {
       "model_id": "",
       "version_major": 2,
       "version_minor": 0
      },
      "text/plain": [
       "  0%|          | 0.00/52497.25 [00:00<?, ?longitudinal-days/s]"
      ]
     },
     "metadata": {},
     "output_type": "display_data"
    },
    {
     "data": {
      "application/vnd.jupyter.widget-view+json": {
       "model_id": "",
       "version_major": 2,
       "version_minor": 0
      },
      "text/plain": [
       "Loading to device:   0%|          | 0/16 [00:00<?, ?subject/s]"
      ]
     },
     "metadata": {},
     "output_type": "display_data"
    },
    {
     "data": {
      "application/vnd.jupyter.widget-view+json": {
       "model_id": "",
       "version_major": 2,
       "version_minor": 0
      },
      "text/plain": [
       "Embedding:   0%|          | 0/16 [00:00<?, ?subject/s]"
      ]
     },
     "metadata": {},
     "output_type": "display_data"
    },
    {
     "data": {
      "application/vnd.jupyter.widget-view+json": {
       "model_id": "",
       "version_major": 2,
       "version_minor": 0
      },
      "text/plain": [
       "  0%|          | 0.00/30894.75 [00:00<?, ?longitudinal-days/s]"
      ]
     },
     "metadata": {},
     "output_type": "display_data"
    },
    {
     "name": "stderr",
     "output_type": "stream",
     "text": [
      "WARNING:jax._src.dispatch:Finished tracing + transforming jit(integer_pow) in 0.00019788742065429688 sec\n",
      "DEBUG:jax._src.interpreters.pxla:Compiling integer_pow for with global shapes and types [ShapedArray(float32[])]. Argument mapping: (GSPMDSharding({replicated}),).\n",
      "WARNING:jax._src.dispatch:Finished jaxpr to MLIR module conversion jit(integer_pow) in 0.002489805221557617 sec\n",
      "DEBUG:jax._src.xla_bridge:get_compile_options: num_replicas=1 num_partitions=1 device_assignment=[[CpuDevice(id=0)]]\n",
      "WARNING:jax._src.dispatch:Finished XLA compilation of jit(integer_pow) in 0.006942033767700195 sec\n"
     ]
    },
    {
     "data": {
      "application/vnd.jupyter.widget-view+json": {
       "model_id": "",
       "version_major": 2,
       "version_minor": 0
      },
      "text/plain": [
       "Loading to device:   0%|          | 0/33 [00:00<?, ?subject/s]"
      ]
     },
     "metadata": {},
     "output_type": "display_data"
    },
    {
     "data": {
      "application/vnd.jupyter.widget-view+json": {
       "model_id": "",
       "version_major": 2,
       "version_minor": 0
      },
      "text/plain": [
       "Embedding:   0%|          | 0/33 [00:00<?, ?subject/s]"
      ]
     },
     "metadata": {},
     "output_type": "display_data"
    },
    {
     "data": {
      "application/vnd.jupyter.widget-view+json": {
       "model_id": "",
       "version_major": 2,
       "version_minor": 0
      },
      "text/plain": [
       "  0%|          | 0.00/33217.64 [00:00<?, ?longitudinal-days/s]"
      ]
     },
     "metadata": {},
     "output_type": "display_data"
    },
    {
     "name": "stderr",
     "output_type": "stream",
     "text": [
      "WARNING:jax._src.dispatch:Finished tracing + transforming jit(integer_pow) in 0.0001933574676513672 sec\n",
      "DEBUG:jax._src.interpreters.pxla:Compiling integer_pow for with global shapes and types [ShapedArray(float32[])]. Argument mapping: (GSPMDSharding({replicated}),).\n",
      "WARNING:jax._src.dispatch:Finished jaxpr to MLIR module conversion jit(integer_pow) in 0.002790689468383789 sec\n",
      "DEBUG:jax._src.xla_bridge:get_compile_options: num_replicas=1 num_partitions=1 device_assignment=[[CpuDevice(id=0)]]\n",
      "WARNING:jax._src.dispatch:Finished XLA compilation of jit(integer_pow) in 0.006616353988647461 sec\n"
     ]
    },
    {
     "data": {
      "application/vnd.jupyter.widget-view+json": {
       "model_id": "",
       "version_major": 2,
       "version_minor": 0
      },
      "text/plain": [
       "Loading to device:   0%|          | 0/35 [00:00<?, ?subject/s]"
      ]
     },
     "metadata": {},
     "output_type": "display_data"
    },
    {
     "data": {
      "application/vnd.jupyter.widget-view+json": {
       "model_id": "",
       "version_major": 2,
       "version_minor": 0
      },
      "text/plain": [
       "Embedding:   0%|          | 0/35 [00:00<?, ?subject/s]"
      ]
     },
     "metadata": {},
     "output_type": "display_data"
    },
    {
     "data": {
      "application/vnd.jupyter.widget-view+json": {
       "model_id": "",
       "version_major": 2,
       "version_minor": 0
      },
      "text/plain": [
       "  0%|          | 0.00/39101.22 [00:00<?, ?longitudinal-days/s]"
      ]
     },
     "metadata": {},
     "output_type": "display_data"
    },
    {
     "name": "stderr",
     "output_type": "stream",
     "text": [
      "WARNING:jax._src.dispatch:Finished tracing + transforming jit(concatenate) in 0.00025582313537597656 sec\n",
      "DEBUG:jax._src.interpreters.pxla:Compiling concatenate for with global shapes and types [ShapedArray(float32[16]), ShapedArray(float32[16]), ShapedArray(float32[16]), ShapedArray(float32[16]), ShapedArray(float32[16]), ShapedArray(float32[16])]. Argument mapping: (GSPMDSharding({replicated}), GSPMDSharding({replicated}), GSPMDSharding({replicated}), GSPMDSharding({replicated}), GSPMDSharding({replicated}), GSPMDSharding({replicated})).\n",
      "WARNING:jax._src.dispatch:Finished jaxpr to MLIR module conversion jit(concatenate) in 0.0021696090698242188 sec\n",
      "DEBUG:jax._src.xla_bridge:get_compile_options: num_replicas=1 num_partitions=1 device_assignment=[[CpuDevice(id=0)]]\n",
      "WARNING:jax._src.dispatch:Finished XLA compilation of jit(concatenate) in 0.006794452667236328 sec\n",
      "WARNING:jax._src.dispatch:Finished tracing + transforming jit(convert_element_type) in 0.0005366802215576172 sec\n",
      "WARNING:jax._src.dispatch:Finished tracing + transforming _reduce_sum for pjit in 0.0006153583526611328 sec\n",
      "WARNING:jax._src.dispatch:Finished tracing + transforming _broadcast_arrays for pjit in 0.0003337860107421875 sec\n",
      "WARNING:jax._src.dispatch:Finished tracing + transforming _where for pjit in 0.0015075206756591797 sec\n",
      "WARNING:jax._src.dispatch:Finished tracing + transforming _reduce_sum for pjit in 0.0005803108215332031 sec\n",
      "WARNING:jax._src.dispatch:Finished tracing + transforming nansum for pjit in 0.004105091094970703 sec\n",
      "WARNING:jax._src.dispatch:Finished tracing + transforming nanmean for pjit in 0.007136821746826172 sec\n",
      "DEBUG:jax._src.interpreters.pxla:Compiling nanmean for with global shapes and types [ShapedArray(float32[96])]. Argument mapping: (GSPMDSharding({replicated}),).\n",
      "WARNING:jax._src.dispatch:Finished jaxpr to MLIR module conversion jit(nanmean) in 0.005265474319458008 sec\n",
      "DEBUG:jax._src.xla_bridge:get_compile_options: num_replicas=1 num_partitions=1 device_assignment=[[CpuDevice(id=0)]]\n",
      "WARNING:jax._src.dispatch:Finished XLA compilation of jit(nanmean) in 0.019106388092041016 sec\n",
      "DEBUG:jax._src.interpreters.pxla:Compiling nanmean for with global shapes and types [ShapedArray(bool[96]), ShapedArray(float32[]), ShapedArray(float32[])]. Argument mapping: (GSPMDSharding({replicated}), GSPMDSharding({replicated}), GSPMDSharding({replicated})).\n",
      "WARNING:jax._src.dispatch:Finished jaxpr to MLIR module conversion jit(nanmean) in 0.0029654502868652344 sec\n",
      "DEBUG:jax._src.xla_bridge:get_compile_options: num_replicas=1 num_partitions=1 device_assignment=[[CpuDevice(id=0)]]\n",
      "WARNING:jax._src.dispatch:Finished XLA compilation of jit(nanmean) in 0.008226394653320312 sec\n",
      "WARNING:jax._src.dispatch:Finished tracing + transforming jit(slice) in 0.00020194053649902344 sec\n",
      "DEBUG:jax._src.interpreters.pxla:Compiling slice for with global shapes and types [ShapedArray(float32[96])]. Argument mapping: (GSPMDSharding({replicated}),).\n",
      "WARNING:jax._src.dispatch:Finished jaxpr to MLIR module conversion jit(slice) in 0.0018010139465332031 sec\n",
      "DEBUG:jax._src.xla_bridge:get_compile_options: num_replicas=1 num_partitions=1 device_assignment=[[CpuDevice(id=0)]]\n",
      "WARNING:jax._src.dispatch:Finished XLA compilation of jit(slice) in 0.006432294845581055 sec\n",
      "WARNING:jax._src.dispatch:Finished tracing + transforming jit(slice) in 0.00029015541076660156 sec\n",
      "DEBUG:jax._src.interpreters.pxla:Compiling slice for with global shapes and types [ShapedArray(float32[96])]. Argument mapping: (GSPMDSharding({replicated}),).\n",
      "WARNING:jax._src.dispatch:Finished jaxpr to MLIR module conversion jit(slice) in 0.0019903182983398438 sec\n",
      "DEBUG:jax._src.xla_bridge:get_compile_options: num_replicas=1 num_partitions=1 device_assignment=[[CpuDevice(id=0)]]\n",
      "WARNING:jax._src.dispatch:Finished XLA compilation of jit(slice) in 0.0054819583892822266 sec\n",
      "WARNING:jax._src.dispatch:Finished tracing + transforming jit(slice) in 0.0002694129943847656 sec\n",
      "DEBUG:jax._src.interpreters.pxla:Compiling slice for with global shapes and types [ShapedArray(float32[96])]. Argument mapping: (GSPMDSharding({replicated}),).\n",
      "WARNING:jax._src.dispatch:Finished jaxpr to MLIR module conversion jit(slice) in 0.0017490386962890625 sec\n",
      "DEBUG:jax._src.xla_bridge:get_compile_options: num_replicas=1 num_partitions=1 device_assignment=[[CpuDevice(id=0)]]\n",
      "WARNING:jax._src.dispatch:Finished XLA compilation of jit(slice) in 0.006299495697021484 sec\n",
      "WARNING:jax._src.dispatch:Finished tracing + transforming jit(slice) in 0.0002002716064453125 sec\n",
      "DEBUG:jax._src.interpreters.pxla:Compiling slice for with global shapes and types [ShapedArray(float32[96])]. Argument mapping: (GSPMDSharding({replicated}),).\n",
      "WARNING:jax._src.dispatch:Finished jaxpr to MLIR module conversion jit(slice) in 0.0018596649169921875 sec\n",
      "DEBUG:jax._src.xla_bridge:get_compile_options: num_replicas=1 num_partitions=1 device_assignment=[[CpuDevice(id=0)]]\n",
      "WARNING:jax._src.dispatch:Finished XLA compilation of jit(slice) in 0.005568265914916992 sec\n",
      "WARNING:jax._src.dispatch:Finished tracing + transforming jit(slice) in 0.0001983642578125 sec\n",
      "DEBUG:jax._src.interpreters.pxla:Compiling slice for with global shapes and types [ShapedArray(float32[96])]. Argument mapping: (GSPMDSharding({replicated}),).\n",
      "WARNING:jax._src.dispatch:Finished jaxpr to MLIR module conversion jit(slice) in 0.0019273757934570312 sec\n",
      "DEBUG:jax._src.xla_bridge:get_compile_options: num_replicas=1 num_partitions=1 device_assignment=[[CpuDevice(id=0)]]\n",
      "WARNING:jax._src.dispatch:Finished XLA compilation of jit(slice) in 0.0064237117767333984 sec\n",
      "WARNING:jax._src.dispatch:Finished tracing + transforming jit(slice) in 0.0002467632293701172 sec\n",
      "DEBUG:jax._src.interpreters.pxla:Compiling slice for with global shapes and types [ShapedArray(float32[96])]. Argument mapping: (GSPMDSharding({replicated}),).\n",
      "WARNING:jax._src.dispatch:Finished jaxpr to MLIR module conversion jit(slice) in 0.0017952919006347656 sec\n",
      "DEBUG:jax._src.xla_bridge:get_compile_options: num_replicas=1 num_partitions=1 device_assignment=[[CpuDevice(id=0)]]\n",
      "WARNING:jax._src.dispatch:Finished XLA compilation of jit(slice) in 0.0054988861083984375 sec\n",
      "WARNING:jax._src.dispatch:Finished tracing + transforming jit(integer_pow) in 0.000194549560546875 sec\n",
      "DEBUG:jax._src.interpreters.pxla:Compiling integer_pow for with global shapes and types [ShapedArray(float32[])]. Argument mapping: (GSPMDSharding({replicated}),).\n",
      "WARNING:jax._src.dispatch:Finished jaxpr to MLIR module conversion jit(integer_pow) in 0.0026340484619140625 sec\n",
      "DEBUG:jax._src.xla_bridge:get_compile_options: num_replicas=1 num_partitions=1 device_assignment=[[CpuDevice(id=0)]]\n",
      "WARNING:jax._src.dispatch:Finished XLA compilation of jit(integer_pow) in 0.005973100662231445 sec\n"
     ]
    },
    {
     "data": {
      "application/vnd.jupyter.widget-view+json": {
       "model_id": "",
       "version_major": 2,
       "version_minor": 0
      },
      "text/plain": [
       "Loading to device:   0%|          | 0/33 [00:00<?, ?subject/s]"
      ]
     },
     "metadata": {},
     "output_type": "display_data"
    },
    {
     "data": {
      "application/vnd.jupyter.widget-view+json": {
       "model_id": "",
       "version_major": 2,
       "version_minor": 0
      },
      "text/plain": [
       "Embedding:   0%|          | 0/33 [00:00<?, ?subject/s]"
      ]
     },
     "metadata": {},
     "output_type": "display_data"
    },
    {
     "data": {
      "application/vnd.jupyter.widget-view+json": {
       "model_id": "",
       "version_major": 2,
       "version_minor": 0
      },
      "text/plain": [
       "  0%|          | 0.00/43688.83 [00:00<?, ?longitudinal-days/s]"
      ]
     },
     "metadata": {},
     "output_type": "display_data"
    },
    {
     "name": "stderr",
     "output_type": "stream",
     "text": [
      "WARNING:jax._src.dispatch:Finished tracing + transforming jit(concatenate) in 0.00027942657470703125 sec\n",
      "DEBUG:jax._src.interpreters.pxla:Compiling concatenate for with global shapes and types [ShapedArray(float32[16]), ShapedArray(float32[16]), ShapedArray(float32[16]), ShapedArray(float32[16]), ShapedArray(float32[16]), ShapedArray(float32[16]), ShapedArray(float32[16]), ShapedArray(float32[16]), ShapedArray(float32[16]), ShapedArray(float32[16]), ShapedArray(float32[6])]. Argument mapping: (GSPMDSharding({replicated}), GSPMDSharding({replicated}), GSPMDSharding({replicated}), GSPMDSharding({replicated}), GSPMDSharding({replicated}), GSPMDSharding({replicated}), GSPMDSharding({replicated}), GSPMDSharding({replicated}), GSPMDSharding({replicated}), GSPMDSharding({replicated}), GSPMDSharding({replicated})).\n",
      "WARNING:jax._src.dispatch:Finished jaxpr to MLIR module conversion jit(concatenate) in 0.0014979839324951172 sec\n",
      "DEBUG:jax._src.xla_bridge:get_compile_options: num_replicas=1 num_partitions=1 device_assignment=[[CpuDevice(id=0)]]\n",
      "WARNING:jax._src.dispatch:Finished XLA compilation of jit(concatenate) in 0.006747007369995117 sec\n",
      "WARNING:jax._src.dispatch:Finished tracing + transforming jit(convert_element_type) in 0.0002777576446533203 sec\n",
      "WARNING:jax._src.dispatch:Finished tracing + transforming _reduce_sum for pjit in 0.0005366802215576172 sec\n",
      "WARNING:jax._src.dispatch:Finished tracing + transforming _broadcast_arrays for pjit in 0.00033092498779296875 sec\n",
      "WARNING:jax._src.dispatch:Finished tracing + transforming _where for pjit in 0.001272439956665039 sec\n",
      "WARNING:jax._src.dispatch:Finished tracing + transforming _reduce_sum for pjit in 0.0004975795745849609 sec\n",
      "WARNING:jax._src.dispatch:Finished tracing + transforming nansum for pjit in 0.0033736228942871094 sec\n",
      "WARNING:jax._src.dispatch:Finished tracing + transforming nanmean for pjit in 0.005835056304931641 sec\n",
      "DEBUG:jax._src.interpreters.pxla:Compiling nanmean for with global shapes and types [ShapedArray(float32[166])]. Argument mapping: (GSPMDSharding({replicated}),).\n",
      "WARNING:jax._src.dispatch:Finished jaxpr to MLIR module conversion jit(nanmean) in 0.003606557846069336 sec\n",
      "DEBUG:jax._src.xla_bridge:get_compile_options: num_replicas=1 num_partitions=1 device_assignment=[[CpuDevice(id=0)]]\n",
      "WARNING:jax._src.dispatch:Finished XLA compilation of jit(nanmean) in 0.023903608322143555 sec\n",
      "DEBUG:jax._src.interpreters.pxla:Compiling nanmean for with global shapes and types [ShapedArray(bool[166]), ShapedArray(float32[]), ShapedArray(float32[])]. Argument mapping: (GSPMDSharding({replicated}), GSPMDSharding({replicated}), GSPMDSharding({replicated})).\n",
      "WARNING:jax._src.dispatch:Finished jaxpr to MLIR module conversion jit(nanmean) in 0.002668619155883789 sec\n",
      "DEBUG:jax._src.xla_bridge:get_compile_options: num_replicas=1 num_partitions=1 device_assignment=[[CpuDevice(id=0)]]\n",
      "WARNING:jax._src.dispatch:Finished XLA compilation of jit(nanmean) in 0.009078025817871094 sec\n",
      "WARNING:jax._src.dispatch:Finished tracing + transforming jit(slice) in 0.0002892017364501953 sec\n",
      "DEBUG:jax._src.interpreters.pxla:Compiling slice for with global shapes and types [ShapedArray(float32[166])]. Argument mapping: (GSPMDSharding({replicated}),).\n",
      "WARNING:jax._src.dispatch:Finished jaxpr to MLIR module conversion jit(slice) in 0.0017647743225097656 sec\n",
      "DEBUG:jax._src.xla_bridge:get_compile_options: num_replicas=1 num_partitions=1 device_assignment=[[CpuDevice(id=0)]]\n",
      "WARNING:jax._src.dispatch:Finished XLA compilation of jit(slice) in 0.005100727081298828 sec\n",
      "WARNING:jax._src.dispatch:Finished tracing + transforming jit(slice) in 0.00019860267639160156 sec\n",
      "DEBUG:jax._src.interpreters.pxla:Compiling slice for with global shapes and types [ShapedArray(float32[166])]. Argument mapping: (GSPMDSharding({replicated}),).\n",
      "WARNING:jax._src.dispatch:Finished jaxpr to MLIR module conversion jit(slice) in 0.0028738975524902344 sec\n",
      "DEBUG:jax._src.xla_bridge:get_compile_options: num_replicas=1 num_partitions=1 device_assignment=[[CpuDevice(id=0)]]\n",
      "WARNING:jax._src.dispatch:Finished XLA compilation of jit(slice) in 0.005202770233154297 sec\n",
      "WARNING:jax._src.dispatch:Finished tracing + transforming jit(slice) in 0.00020241737365722656 sec\n",
      "DEBUG:jax._src.interpreters.pxla:Compiling slice for with global shapes and types [ShapedArray(float32[166])]. Argument mapping: (GSPMDSharding({replicated}),).\n",
      "WARNING:jax._src.dispatch:Finished jaxpr to MLIR module conversion jit(slice) in 0.0014791488647460938 sec\n",
      "DEBUG:jax._src.xla_bridge:get_compile_options: num_replicas=1 num_partitions=1 device_assignment=[[CpuDevice(id=0)]]\n",
      "WARNING:jax._src.dispatch:Finished XLA compilation of jit(slice) in 0.004762172698974609 sec\n",
      "WARNING:jax._src.dispatch:Finished tracing + transforming jit(slice) in 0.0003516674041748047 sec\n",
      "DEBUG:jax._src.interpreters.pxla:Compiling slice for with global shapes and types [ShapedArray(float32[166])]. Argument mapping: (GSPMDSharding({replicated}),).\n",
      "WARNING:jax._src.dispatch:Finished jaxpr to MLIR module conversion jit(slice) in 0.0021936893463134766 sec\n",
      "DEBUG:jax._src.xla_bridge:get_compile_options: num_replicas=1 num_partitions=1 device_assignment=[[CpuDevice(id=0)]]\n",
      "WARNING:jax._src.dispatch:Finished XLA compilation of jit(slice) in 0.004819631576538086 sec\n",
      "WARNING:jax._src.dispatch:Finished tracing + transforming jit(slice) in 0.0002014636993408203 sec\n",
      "DEBUG:jax._src.interpreters.pxla:Compiling slice for with global shapes and types [ShapedArray(float32[166])]. Argument mapping: (GSPMDSharding({replicated}),).\n",
      "WARNING:jax._src.dispatch:Finished jaxpr to MLIR module conversion jit(slice) in 0.0013854503631591797 sec\n",
      "DEBUG:jax._src.xla_bridge:get_compile_options: num_replicas=1 num_partitions=1 device_assignment=[[CpuDevice(id=0)]]\n",
      "WARNING:jax._src.dispatch:Finished XLA compilation of jit(slice) in 0.0051310062408447266 sec\n",
      "WARNING:jax._src.dispatch:Finished tracing + transforming jit(slice) in 0.00020074844360351562 sec\n",
      "DEBUG:jax._src.interpreters.pxla:Compiling slice for with global shapes and types [ShapedArray(float32[166])]. Argument mapping: (GSPMDSharding({replicated}),).\n",
      "WARNING:jax._src.dispatch:Finished jaxpr to MLIR module conversion jit(slice) in 0.0015163421630859375 sec\n",
      "DEBUG:jax._src.xla_bridge:get_compile_options: num_replicas=1 num_partitions=1 device_assignment=[[CpuDevice(id=0)]]\n",
      "WARNING:jax._src.dispatch:Finished XLA compilation of jit(slice) in 0.004708290100097656 sec\n",
      "WARNING:jax._src.dispatch:Finished tracing + transforming jit(slice) in 0.000194549560546875 sec\n",
      "DEBUG:jax._src.interpreters.pxla:Compiling slice for with global shapes and types [ShapedArray(float32[166])]. Argument mapping: (GSPMDSharding({replicated}),).\n",
      "WARNING:jax._src.dispatch:Finished jaxpr to MLIR module conversion jit(slice) in 0.0014500617980957031 sec\n",
      "DEBUG:jax._src.xla_bridge:get_compile_options: num_replicas=1 num_partitions=1 device_assignment=[[CpuDevice(id=0)]]\n",
      "WARNING:jax._src.dispatch:Finished XLA compilation of jit(slice) in 0.004921913146972656 sec\n",
      "WARNING:jax._src.dispatch:Finished tracing + transforming jit(slice) in 0.00019860267639160156 sec\n",
      "DEBUG:jax._src.interpreters.pxla:Compiling slice for with global shapes and types [ShapedArray(float32[166])]. Argument mapping: (GSPMDSharding({replicated}),).\n",
      "WARNING:jax._src.dispatch:Finished jaxpr to MLIR module conversion jit(slice) in 0.0014071464538574219 sec\n",
      "DEBUG:jax._src.xla_bridge:get_compile_options: num_replicas=1 num_partitions=1 device_assignment=[[CpuDevice(id=0)]]\n",
      "WARNING:jax._src.dispatch:Finished XLA compilation of jit(slice) in 0.0049092769622802734 sec\n",
      "WARNING:jax._src.dispatch:Finished tracing + transforming jit(slice) in 0.00020456314086914062 sec\n",
      "DEBUG:jax._src.interpreters.pxla:Compiling slice for with global shapes and types [ShapedArray(float32[166])]. Argument mapping: (GSPMDSharding({replicated}),).\n",
      "WARNING:jax._src.dispatch:Finished jaxpr to MLIR module conversion jit(slice) in 0.0017061233520507812 sec\n",
      "DEBUG:jax._src.xla_bridge:get_compile_options: num_replicas=1 num_partitions=1 device_assignment=[[CpuDevice(id=0)]]\n",
      "WARNING:jax._src.dispatch:Finished XLA compilation of jit(slice) in 0.004968166351318359 sec\n",
      "WARNING:jax._src.dispatch:Finished tracing + transforming jit(slice) in 0.0002028942108154297 sec\n"
     ]
    },
    {
     "name": "stderr",
     "output_type": "stream",
     "text": [
      "DEBUG:jax._src.interpreters.pxla:Compiling slice for with global shapes and types [ShapedArray(float32[166])]. Argument mapping: (GSPMDSharding({replicated}),).\n",
      "WARNING:jax._src.dispatch:Finished jaxpr to MLIR module conversion jit(slice) in 0.001451253890991211 sec\n",
      "DEBUG:jax._src.xla_bridge:get_compile_options: num_replicas=1 num_partitions=1 device_assignment=[[CpuDevice(id=0)]]\n",
      "WARNING:jax._src.dispatch:Finished XLA compilation of jit(slice) in 0.005156755447387695 sec\n",
      "WARNING:jax._src.dispatch:Finished tracing + transforming jit(slice) in 0.00020766258239746094 sec\n",
      "DEBUG:jax._src.interpreters.pxla:Compiling slice for with global shapes and types [ShapedArray(float32[166])]. Argument mapping: (GSPMDSharding({replicated}),).\n",
      "WARNING:jax._src.dispatch:Finished jaxpr to MLIR module conversion jit(slice) in 0.0017344951629638672 sec\n",
      "DEBUG:jax._src.xla_bridge:get_compile_options: num_replicas=1 num_partitions=1 device_assignment=[[CpuDevice(id=0)]]\n",
      "WARNING:jax._src.dispatch:Finished XLA compilation of jit(slice) in 0.004770040512084961 sec\n",
      "WARNING:jax._src.dispatch:Finished tracing + transforming jit(integer_pow) in 0.00019860267639160156 sec\n",
      "DEBUG:jax._src.interpreters.pxla:Compiling integer_pow for with global shapes and types [ShapedArray(float32[])]. Argument mapping: (GSPMDSharding({replicated}),).\n",
      "WARNING:jax._src.dispatch:Finished jaxpr to MLIR module conversion jit(integer_pow) in 0.0028955936431884766 sec\n",
      "DEBUG:jax._src.xla_bridge:get_compile_options: num_replicas=1 num_partitions=1 device_assignment=[[CpuDevice(id=0)]]\n",
      "WARNING:jax._src.dispatch:Finished XLA compilation of jit(integer_pow) in 0.0071468353271484375 sec\n"
     ]
    },
    {
     "data": {
      "application/vnd.jupyter.widget-view+json": {
       "model_id": "",
       "version_major": 2,
       "version_minor": 0
      },
      "text/plain": [
       "Loading to device:   0%|          | 0/46 [00:00<?, ?subject/s]"
      ]
     },
     "metadata": {},
     "output_type": "display_data"
    },
    {
     "data": {
      "application/vnd.jupyter.widget-view+json": {
       "model_id": "",
       "version_major": 2,
       "version_minor": 0
      },
      "text/plain": [
       "Embedding:   0%|          | 0/46 [00:00<?, ?subject/s]"
      ]
     },
     "metadata": {},
     "output_type": "display_data"
    },
    {
     "data": {
      "application/vnd.jupyter.widget-view+json": {
       "model_id": "",
       "version_major": 2,
       "version_minor": 0
      },
      "text/plain": [
       "  0%|          | 0.00/48496.65 [00:00<?, ?longitudinal-days/s]"
      ]
     },
     "metadata": {},
     "output_type": "display_data"
    },
    {
     "name": "stderr",
     "output_type": "stream",
     "text": [
      "WARNING:jax._src.dispatch:Finished tracing + transforming jit(integer_pow) in 0.00019598007202148438 sec\n",
      "DEBUG:jax._src.interpreters.pxla:Compiling integer_pow for with global shapes and types [ShapedArray(float32[])]. Argument mapping: (GSPMDSharding({replicated}),).\n",
      "WARNING:jax._src.dispatch:Finished jaxpr to MLIR module conversion jit(integer_pow) in 0.002742767333984375 sec\n",
      "DEBUG:jax._src.xla_bridge:get_compile_options: num_replicas=1 num_partitions=1 device_assignment=[[CpuDevice(id=0)]]\n",
      "WARNING:jax._src.dispatch:Finished XLA compilation of jit(integer_pow) in 0.006675243377685547 sec\n"
     ]
    },
    {
     "data": {
      "application/vnd.jupyter.widget-view+json": {
       "model_id": "",
       "version_major": 2,
       "version_minor": 0
      },
      "text/plain": [
       "Loading to device:   0%|          | 0/47 [00:00<?, ?subject/s]"
      ]
     },
     "metadata": {},
     "output_type": "display_data"
    },
    {
     "data": {
      "application/vnd.jupyter.widget-view+json": {
       "model_id": "",
       "version_major": 2,
       "version_minor": 0
      },
      "text/plain": [
       "Embedding:   0%|          | 0/47 [00:00<?, ?subject/s]"
      ]
     },
     "metadata": {},
     "output_type": "display_data"
    },
    {
     "data": {
      "application/vnd.jupyter.widget-view+json": {
       "model_id": "",
       "version_major": 2,
       "version_minor": 0
      },
      "text/plain": [
       "  0%|          | 0.00/37157.20 [00:00<?, ?longitudinal-days/s]"
      ]
     },
     "metadata": {},
     "output_type": "display_data"
    },
    {
     "name": "stderr",
     "output_type": "stream",
     "text": [
      "WARNING:jax._src.dispatch:Finished tracing + transforming jit(concatenate) in 0.00026345252990722656 sec\n",
      "DEBUG:jax._src.interpreters.pxla:Compiling concatenate for with global shapes and types [ShapedArray(float32[16]), ShapedArray(float32[16]), ShapedArray(float32[16]), ShapedArray(float32[16]), ShapedArray(float32[16]), ShapedArray(float32[16]), ShapedArray(float32[16]), ShapedArray(float32[16]), ShapedArray(float32[8])]. Argument mapping: (GSPMDSharding({replicated}), GSPMDSharding({replicated}), GSPMDSharding({replicated}), GSPMDSharding({replicated}), GSPMDSharding({replicated}), GSPMDSharding({replicated}), GSPMDSharding({replicated}), GSPMDSharding({replicated}), GSPMDSharding({replicated})).\n",
      "WARNING:jax._src.dispatch:Finished jaxpr to MLIR module conversion jit(concatenate) in 0.0015993118286132812 sec\n",
      "DEBUG:jax._src.xla_bridge:get_compile_options: num_replicas=1 num_partitions=1 device_assignment=[[CpuDevice(id=0)]]\n",
      "WARNING:jax._src.dispatch:Finished XLA compilation of jit(concatenate) in 0.007047176361083984 sec\n",
      "WARNING:jax._src.dispatch:Finished tracing + transforming jit(convert_element_type) in 0.0003631114959716797 sec\n",
      "WARNING:jax._src.dispatch:Finished tracing + transforming _reduce_sum for pjit in 0.0008056163787841797 sec\n",
      "WARNING:jax._src.dispatch:Finished tracing + transforming _broadcast_arrays for pjit in 0.00031876564025878906 sec\n",
      "WARNING:jax._src.dispatch:Finished tracing + transforming _where for pjit in 0.0013306140899658203 sec\n",
      "WARNING:jax._src.dispatch:Finished tracing + transforming _reduce_sum for pjit in 0.0005247592926025391 sec\n",
      "WARNING:jax._src.dispatch:Finished tracing + transforming nansum for pjit in 0.0035636425018310547 sec\n",
      "WARNING:jax._src.dispatch:Finished tracing + transforming nanmean for pjit in 0.006364107131958008 sec\n",
      "DEBUG:jax._src.interpreters.pxla:Compiling nanmean for with global shapes and types [ShapedArray(float32[136])]. Argument mapping: (GSPMDSharding({replicated}),).\n",
      "WARNING:jax._src.dispatch:Finished jaxpr to MLIR module conversion jit(nanmean) in 0.0034782886505126953 sec\n",
      "DEBUG:jax._src.xla_bridge:get_compile_options: num_replicas=1 num_partitions=1 device_assignment=[[CpuDevice(id=0)]]\n",
      "WARNING:jax._src.dispatch:Finished XLA compilation of jit(nanmean) in 0.02428460121154785 sec\n",
      "DEBUG:jax._src.interpreters.pxla:Compiling nanmean for with global shapes and types [ShapedArray(bool[136]), ShapedArray(float32[]), ShapedArray(float32[])]. Argument mapping: (GSPMDSharding({replicated}), GSPMDSharding({replicated}), GSPMDSharding({replicated})).\n",
      "WARNING:jax._src.dispatch:Finished jaxpr to MLIR module conversion jit(nanmean) in 0.0026547908782958984 sec\n",
      "DEBUG:jax._src.xla_bridge:get_compile_options: num_replicas=1 num_partitions=1 device_assignment=[[CpuDevice(id=0)]]\n",
      "WARNING:jax._src.dispatch:Finished XLA compilation of jit(nanmean) in 0.009508609771728516 sec\n",
      "WARNING:jax._src.dispatch:Finished tracing + transforming jit(slice) in 0.00019311904907226562 sec\n",
      "DEBUG:jax._src.interpreters.pxla:Compiling slice for with global shapes and types [ShapedArray(float32[136])]. Argument mapping: (GSPMDSharding({replicated}),).\n",
      "WARNING:jax._src.dispatch:Finished jaxpr to MLIR module conversion jit(slice) in 0.0015749931335449219 sec\n",
      "DEBUG:jax._src.xla_bridge:get_compile_options: num_replicas=1 num_partitions=1 device_assignment=[[CpuDevice(id=0)]]\n",
      "WARNING:jax._src.dispatch:Finished XLA compilation of jit(slice) in 0.005102396011352539 sec\n",
      "WARNING:jax._src.dispatch:Finished tracing + transforming jit(slice) in 0.0002086162567138672 sec\n",
      "DEBUG:jax._src.interpreters.pxla:Compiling slice for with global shapes and types [ShapedArray(float32[136])]. Argument mapping: (GSPMDSharding({replicated}),).\n",
      "WARNING:jax._src.dispatch:Finished jaxpr to MLIR module conversion jit(slice) in 0.002525806427001953 sec\n",
      "DEBUG:jax._src.xla_bridge:get_compile_options: num_replicas=1 num_partitions=1 device_assignment=[[CpuDevice(id=0)]]\n",
      "WARNING:jax._src.dispatch:Finished XLA compilation of jit(slice) in 0.005028963088989258 sec\n",
      "WARNING:jax._src.dispatch:Finished tracing + transforming jit(slice) in 0.0002129077911376953 sec\n",
      "DEBUG:jax._src.interpreters.pxla:Compiling slice for with global shapes and types [ShapedArray(float32[136])]. Argument mapping: (GSPMDSharding({replicated}),).\n",
      "WARNING:jax._src.dispatch:Finished jaxpr to MLIR module conversion jit(slice) in 0.0017287731170654297 sec\n",
      "DEBUG:jax._src.xla_bridge:get_compile_options: num_replicas=1 num_partitions=1 device_assignment=[[CpuDevice(id=0)]]\n",
      "WARNING:jax._src.dispatch:Finished XLA compilation of jit(slice) in 0.005188703536987305 sec\n",
      "WARNING:jax._src.dispatch:Finished tracing + transforming jit(slice) in 0.00020837783813476562 sec\n",
      "DEBUG:jax._src.interpreters.pxla:Compiling slice for with global shapes and types [ShapedArray(float32[136])]. Argument mapping: (GSPMDSharding({replicated}),).\n",
      "WARNING:jax._src.dispatch:Finished jaxpr to MLIR module conversion jit(slice) in 0.001733541488647461 sec\n",
      "DEBUG:jax._src.xla_bridge:get_compile_options: num_replicas=1 num_partitions=1 device_assignment=[[CpuDevice(id=0)]]\n",
      "WARNING:jax._src.dispatch:Finished XLA compilation of jit(slice) in 0.005373239517211914 sec\n",
      "WARNING:jax._src.dispatch:Finished tracing + transforming jit(slice) in 0.0002155303955078125 sec\n",
      "DEBUG:jax._src.interpreters.pxla:Compiling slice for with global shapes and types [ShapedArray(float32[136])]. Argument mapping: (GSPMDSharding({replicated}),).\n",
      "WARNING:jax._src.dispatch:Finished jaxpr to MLIR module conversion jit(slice) in 0.001674652099609375 sec\n",
      "DEBUG:jax._src.xla_bridge:get_compile_options: num_replicas=1 num_partitions=1 device_assignment=[[CpuDevice(id=0)]]\n",
      "WARNING:jax._src.dispatch:Finished XLA compilation of jit(slice) in 0.0050580501556396484 sec\n",
      "WARNING:jax._src.dispatch:Finished tracing + transforming jit(slice) in 0.00021982192993164062 sec\n",
      "DEBUG:jax._src.interpreters.pxla:Compiling slice for with global shapes and types [ShapedArray(float32[136])]. Argument mapping: (GSPMDSharding({replicated}),).\n",
      "WARNING:jax._src.dispatch:Finished jaxpr to MLIR module conversion jit(slice) in 0.0018281936645507812 sec\n",
      "DEBUG:jax._src.xla_bridge:get_compile_options: num_replicas=1 num_partitions=1 device_assignment=[[CpuDevice(id=0)]]\n",
      "WARNING:jax._src.dispatch:Finished XLA compilation of jit(slice) in 0.005191802978515625 sec\n",
      "WARNING:jax._src.dispatch:Finished tracing + transforming jit(slice) in 0.0002040863037109375 sec\n",
      "DEBUG:jax._src.interpreters.pxla:Compiling slice for with global shapes and types [ShapedArray(float32[136])]. Argument mapping: (GSPMDSharding({replicated}),).\n",
      "WARNING:jax._src.dispatch:Finished jaxpr to MLIR module conversion jit(slice) in 0.0016300678253173828 sec\n",
      "DEBUG:jax._src.xla_bridge:get_compile_options: num_replicas=1 num_partitions=1 device_assignment=[[CpuDevice(id=0)]]\n",
      "WARNING:jax._src.dispatch:Finished XLA compilation of jit(slice) in 0.005100250244140625 sec\n",
      "WARNING:jax._src.dispatch:Finished tracing + transforming jit(slice) in 0.00021123886108398438 sec\n",
      "DEBUG:jax._src.interpreters.pxla:Compiling slice for with global shapes and types [ShapedArray(float32[136])]. Argument mapping: (GSPMDSharding({replicated}),).\n",
      "WARNING:jax._src.dispatch:Finished jaxpr to MLIR module conversion jit(slice) in 0.001657724380493164 sec\n",
      "DEBUG:jax._src.xla_bridge:get_compile_options: num_replicas=1 num_partitions=1 device_assignment=[[CpuDevice(id=0)]]\n",
      "WARNING:jax._src.dispatch:Finished XLA compilation of jit(slice) in 0.005194902420043945 sec\n",
      "WARNING:jax._src.dispatch:Finished tracing + transforming jit(slice) in 0.00020599365234375 sec\n",
      "DEBUG:jax._src.interpreters.pxla:Compiling slice for with global shapes and types [ShapedArray(float32[136])]. Argument mapping: (GSPMDSharding({replicated}),).\n",
      "WARNING:jax._src.dispatch:Finished jaxpr to MLIR module conversion jit(slice) in 0.001905202865600586 sec\n",
      "DEBUG:jax._src.xla_bridge:get_compile_options: num_replicas=1 num_partitions=1 device_assignment=[[CpuDevice(id=0)]]\n",
      "WARNING:jax._src.dispatch:Finished XLA compilation of jit(slice) in 0.005164384841918945 sec\n",
      "WARNING:jax._src.dispatch:Finished tracing + transforming jit(integer_pow) in 0.0001952648162841797 sec\n",
      "DEBUG:jax._src.interpreters.pxla:Compiling integer_pow for with global shapes and types [ShapedArray(float32[])]. Argument mapping: (GSPMDSharding({replicated}),).\n"
     ]
    },
    {
     "name": "stderr",
     "output_type": "stream",
     "text": [
      "WARNING:jax._src.dispatch:Finished jaxpr to MLIR module conversion jit(integer_pow) in 0.0027565956115722656 sec\n",
      "DEBUG:jax._src.xla_bridge:get_compile_options: num_replicas=1 num_partitions=1 device_assignment=[[CpuDevice(id=0)]]\n",
      "WARNING:jax._src.dispatch:Finished XLA compilation of jit(integer_pow) in 0.007571220397949219 sec\n"
     ]
    },
    {
     "data": {
      "application/vnd.jupyter.widget-view+json": {
       "model_id": "",
       "version_major": 2,
       "version_minor": 0
      },
      "text/plain": [
       "Loading to device:   0%|          | 0/48 [00:00<?, ?subject/s]"
      ]
     },
     "metadata": {},
     "output_type": "display_data"
    },
    {
     "data": {
      "application/vnd.jupyter.widget-view+json": {
       "model_id": "",
       "version_major": 2,
       "version_minor": 0
      },
      "text/plain": [
       "Embedding:   0%|          | 0/48 [00:00<?, ?subject/s]"
      ]
     },
     "metadata": {},
     "output_type": "display_data"
    },
    {
     "data": {
      "application/vnd.jupyter.widget-view+json": {
       "model_id": "",
       "version_major": 2,
       "version_minor": 0
      },
      "text/plain": [
       "  0%|          | 0.00/47866.53 [00:00<?, ?longitudinal-days/s]"
      ]
     },
     "metadata": {},
     "output_type": "display_data"
    },
    {
     "name": "stderr",
     "output_type": "stream",
     "text": [
      "WARNING:jax._src.dispatch:Finished tracing + transforming jit(integer_pow) in 0.00019073486328125 sec\n",
      "DEBUG:jax._src.interpreters.pxla:Compiling integer_pow for with global shapes and types [ShapedArray(float32[])]. Argument mapping: (GSPMDSharding({replicated}),).\n",
      "WARNING:jax._src.dispatch:Finished jaxpr to MLIR module conversion jit(integer_pow) in 0.0036656856536865234 sec\n",
      "DEBUG:jax._src.xla_bridge:get_compile_options: num_replicas=1 num_partitions=1 device_assignment=[[CpuDevice(id=0)]]\n",
      "WARNING:jax._src.dispatch:Finished XLA compilation of jit(integer_pow) in 0.0068552494049072266 sec\n"
     ]
    },
    {
     "data": {
      "application/vnd.jupyter.widget-view+json": {
       "model_id": "",
       "version_major": 2,
       "version_minor": 0
      },
      "text/plain": [
       "Loading to device:   0%|          | 0/47 [00:00<?, ?subject/s]"
      ]
     },
     "metadata": {},
     "output_type": "display_data"
    },
    {
     "data": {
      "application/vnd.jupyter.widget-view+json": {
       "model_id": "",
       "version_major": 2,
       "version_minor": 0
      },
      "text/plain": [
       "Embedding:   0%|          | 0/47 [00:00<?, ?subject/s]"
      ]
     },
     "metadata": {},
     "output_type": "display_data"
    },
    {
     "data": {
      "application/vnd.jupyter.widget-view+json": {
       "model_id": "",
       "version_major": 2,
       "version_minor": 0
      },
      "text/plain": [
       "  0%|          | 0.00/48924.68 [00:00<?, ?longitudinal-days/s]"
      ]
     },
     "metadata": {},
     "output_type": "display_data"
    },
    {
     "name": "stderr",
     "output_type": "stream",
     "text": [
      "WARNING:jax._src.dispatch:Finished tracing + transforming jit(integer_pow) in 0.00019216537475585938 sec\n",
      "DEBUG:jax._src.interpreters.pxla:Compiling integer_pow for with global shapes and types [ShapedArray(float32[])]. Argument mapping: (GSPMDSharding({replicated}),).\n",
      "WARNING:jax._src.dispatch:Finished jaxpr to MLIR module conversion jit(integer_pow) in 0.0028846263885498047 sec\n",
      "DEBUG:jax._src.xla_bridge:get_compile_options: num_replicas=1 num_partitions=1 device_assignment=[[CpuDevice(id=0)]]\n",
      "WARNING:jax._src.dispatch:Finished XLA compilation of jit(integer_pow) in 0.007124900817871094 sec\n"
     ]
    },
    {
     "data": {
      "application/vnd.jupyter.widget-view+json": {
       "model_id": "d0b8877f1ab64a83a8ecb4a94db61a64",
       "version_major": 2,
       "version_minor": 0
      },
      "text/plain": [
       "  0%|          | 0/23 [00:00<?, ?Batch/s]"
      ]
     },
     "metadata": {},
     "output_type": "display_data"
    },
    {
     "data": {
      "application/vnd.jupyter.widget-view+json": {
       "model_id": "",
       "version_major": 2,
       "version_minor": 0
      },
      "text/plain": [
       "Loading to device:   0%|          | 0/45 [00:00<?, ?subject/s]"
      ]
     },
     "metadata": {},
     "output_type": "display_data"
    },
    {
     "data": {
      "application/vnd.jupyter.widget-view+json": {
       "model_id": "",
       "version_major": 2,
       "version_minor": 0
      },
      "text/plain": [
       "Embedding:   0%|          | 0/45 [00:00<?, ?subject/s]"
      ]
     },
     "metadata": {},
     "output_type": "display_data"
    },
    {
     "data": {
      "application/vnd.jupyter.widget-view+json": {
       "model_id": "",
       "version_major": 2,
       "version_minor": 0
      },
      "text/plain": [
       "  0%|          | 0.00/48072.10 [00:00<?, ?longitudinal-days/s]"
      ]
     },
     "metadata": {},
     "output_type": "display_data"
    },
    {
     "name": "stderr",
     "output_type": "stream",
     "text": [
      "WARNING:jax._src.dispatch:Finished tracing + transforming jit(integer_pow) in 0.00018787384033203125 sec\n",
      "DEBUG:jax._src.interpreters.pxla:Compiling integer_pow for with global shapes and types [ShapedArray(float32[])]. Argument mapping: (GSPMDSharding({replicated}),).\n",
      "WARNING:jax._src.dispatch:Finished jaxpr to MLIR module conversion jit(integer_pow) in 0.0025300979614257812 sec\n",
      "DEBUG:jax._src.xla_bridge:get_compile_options: num_replicas=1 num_partitions=1 device_assignment=[[CpuDevice(id=0)]]\n",
      "WARNING:jax._src.dispatch:Finished XLA compilation of jit(integer_pow) in 0.0064394474029541016 sec\n"
     ]
    },
    {
     "data": {
      "application/vnd.jupyter.widget-view+json": {
       "model_id": "",
       "version_major": 2,
       "version_minor": 0
      },
      "text/plain": [
       "Loading to device:   0%|          | 0/71 [00:00<?, ?subject/s]"
      ]
     },
     "metadata": {},
     "output_type": "display_data"
    },
    {
     "data": {
      "application/vnd.jupyter.widget-view+json": {
       "model_id": "",
       "version_major": 2,
       "version_minor": 0
      },
      "text/plain": [
       "Embedding:   0%|          | 0/71 [00:00<?, ?subject/s]"
      ]
     },
     "metadata": {},
     "output_type": "display_data"
    },
    {
     "data": {
      "application/vnd.jupyter.widget-view+json": {
       "model_id": "",
       "version_major": 2,
       "version_minor": 0
      },
      "text/plain": [
       "  0%|          | 0.00/57266.49 [00:00<?, ?longitudinal-days/s]"
      ]
     },
     "metadata": {},
     "output_type": "display_data"
    },
    {
     "name": "stderr",
     "output_type": "stream",
     "text": [
      "WARNING:jax._src.dispatch:Finished tracing + transforming jit(integer_pow) in 0.00020456314086914062 sec\n",
      "DEBUG:jax._src.interpreters.pxla:Compiling integer_pow for with global shapes and types [ShapedArray(float32[])]. Argument mapping: (GSPMDSharding({replicated}),).\n",
      "WARNING:jax._src.dispatch:Finished jaxpr to MLIR module conversion jit(integer_pow) in 0.0028848648071289062 sec\n",
      "DEBUG:jax._src.xla_bridge:get_compile_options: num_replicas=1 num_partitions=1 device_assignment=[[CpuDevice(id=0)]]\n",
      "WARNING:jax._src.dispatch:Finished XLA compilation of jit(integer_pow) in 0.006436824798583984 sec\n"
     ]
    },
    {
     "data": {
      "application/vnd.jupyter.widget-view+json": {
       "model_id": "",
       "version_major": 2,
       "version_minor": 0
      },
      "text/plain": [
       "Loading to device:   0%|          | 0/37 [00:00<?, ?subject/s]"
      ]
     },
     "metadata": {},
     "output_type": "display_data"
    },
    {
     "data": {
      "application/vnd.jupyter.widget-view+json": {
       "model_id": "",
       "version_major": 2,
       "version_minor": 0
      },
      "text/plain": [
       "Embedding:   0%|          | 0/37 [00:00<?, ?subject/s]"
      ]
     },
     "metadata": {},
     "output_type": "display_data"
    },
    {
     "data": {
      "application/vnd.jupyter.widget-view+json": {
       "model_id": "",
       "version_major": 2,
       "version_minor": 0
      },
      "text/plain": [
       "  0%|          | 0.00/42205.59 [00:00<?, ?longitudinal-days/s]"
      ]
     },
     "metadata": {},
     "output_type": "display_data"
    },
    {
     "name": "stderr",
     "output_type": "stream",
     "text": [
      "WARNING:jax._src.dispatch:Finished tracing + transforming jit(integer_pow) in 0.0001919269561767578 sec\n",
      "DEBUG:jax._src.interpreters.pxla:Compiling integer_pow for with global shapes and types [ShapedArray(float32[])]. Argument mapping: (GSPMDSharding({replicated}),).\n",
      "WARNING:jax._src.dispatch:Finished jaxpr to MLIR module conversion jit(integer_pow) in 0.0028650760650634766 sec\n",
      "DEBUG:jax._src.xla_bridge:get_compile_options: num_replicas=1 num_partitions=1 device_assignment=[[CpuDevice(id=0)]]\n",
      "WARNING:jax._src.dispatch:Finished XLA compilation of jit(integer_pow) in 0.007477283477783203 sec\n",
      "WARNING:root:NaN detected in model\n"
     ]
    }
   ],
   "source": [
    "res = trainer(m, cprd_patients, \n",
    "              splits=splits,\n",
    "              reporting=reporting,\n",
    "              n_evals=100,\n",
    "              warmup_config=warmup,\n",
    "              continue_training=False)"
   ]
  },
  {
   "cell_type": "code",
   "execution_count": 7,
   "id": "a311af68",
   "metadata": {},
   "outputs": [
    {
     "data": {
      "text/plain": [
       "2"
      ]
     },
     "execution_count": 7,
     "metadata": {},
     "output_type": "execute_result"
    }
   ],
   "source": [
    "import copy\n",
    "class A:\n",
    "    def __init__(self, x, y):\n",
    "        self.x = x\n",
    "        self.y = y\n",
    "\n",
    "a = A(2, 4)\n",
    "b = copy.copy(a)\n",
    "b.x = 6\n",
    "b.y = 0\n",
    "a.x"
   ]
  },
  {
   "cell_type": "code",
   "execution_count": 11,
   "id": "e3b1ae25",
   "metadata": {},
   "outputs": [
    {
     "data": {
      "text/plain": [
       "'A'"
      ]
     },
     "execution_count": 11,
     "metadata": {},
     "output_type": "execute_result"
    }
   ],
   "source": [
    "a.__class__.__name__"
   ]
  },
  {
   "cell_type": "code",
   "execution_count": null,
   "id": "a3f25ebd",
   "metadata": {},
   "outputs": [],
   "source": []
  }
 ],
 "metadata": {
  "kernelspec": {
   "display_name": "Python 3 (ipykernel)",
   "language": "python",
   "name": "python3"
  },
  "language_info": {
   "codemirror_mode": {
    "name": "ipython",
    "version": 3
   },
   "file_extension": ".py",
   "mimetype": "text/x-python",
   "name": "python",
   "nbconvert_exporter": "python",
   "pygments_lexer": "ipython3",
   "version": "3.9.17"
  }
 },
 "nbformat": 4,
 "nbformat_minor": 5
}
