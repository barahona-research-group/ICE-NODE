{
 "cells": [
  {
   "cell_type": "markdown",
   "id": "f53f4d3c",
   "metadata": {},
   "source": [
    "# Table of Content\n",
    "\n",
    "<a name=\"outline\"></a>\n",
    "\n",
    "## Setup\n",
    "\n",
    "- [A](#seca) External Imports\n",
    "- [B](#secb) Internal Imports\n",
    "- [C](#secc) Configurations and Paths \n",
    "- [D](#secd) Patient Interface and Train/Val/Test Partitioning\n",
    "- [E](#sece) Setup Metrics\n",
    "\n",
    "\n",
    "## 1. [Load Models: Uninitialised](#models)\n",
    "## 2. [Snapshot Selection](#snapshot)\n",
    "## 3. [Disease Embeddings Clustering](#disease-clusters)\n",
    "## 4. [Subject Embeddings Clustering](#subject-clusters)\n"
   ]
  },
  {
   "cell_type": "markdown",
   "id": "697a491c",
   "metadata": {},
   "source": [
    "<a name=\"seca\"></a>\n",
    "\n",
    "### A External Imports [^](#outline)"
   ]
  },
  {
   "cell_type": "code",
   "execution_count": 1,
   "id": "4cfc614e",
   "metadata": {},
   "source": [
    "import sys\n",
    "import os\n",
    "import matplotlib.pyplot as plt\n",
    "import numpy as np\n",
    "import pandas as pd\n",
    "import seaborn as sns\n",
    "from pathlib import Path\n",
    "from IPython.display import display\n",
    "import jax\n",
    "\n",
    "jax.config.update('jax_platform_name', 'cpu')"
   ],
   "outputs": []
  },
  {
   "cell_type": "markdown",
   "id": "23f0d568",
   "metadata": {},
   "source": [
    "<a name=\"secb\"></a>\n",
    "\n",
    "### B Internal Imports [^](#outline)"
   ]
  },
  {
   "cell_type": "code",
   "execution_count": 2,
   "id": "894a3743",
   "metadata": {},
   "source": [
    "sys.path.append(\"..\")\n",
    "\n",
    "\n",
    "from lib import utils as U\n",
    "from lib.ehr.dataset import load_dataset\n",
    "\n",
    "%load_ext autoreload\n",
    "%autoreload 2\n"
   ],
   "outputs": []
  },
  {
   "cell_type": "markdown",
   "id": "d9340794",
   "metadata": {},
   "source": [
    "<a name=\"secc\"></a>\n",
    "\n",
    "### C Configurations and Paths [^](#outline)"
   ]
  },
  {
   "cell_type": "code",
   "execution_count": 3,
   "id": "9e935c81",
   "metadata": {},
   "source": [
    "training_dir = 'cprd_artefacts/train'\n",
    "output_dir = 'cprd_clustering_artefacts'\n",
    "\n",
    "Path(output_dir).mkdir(parents=True, exist_ok=True)"
   ],
   "outputs": []
  },
  {
   "cell_type": "code",
   "execution_count": 4,
   "id": "24bec048",
   "metadata": {},
   "source": [
    "# Assign the folder of the dataset to `DATA_FILE`.\n",
    "HOME = os.environ.get('HOME')\n",
    "DATA_FILE = f'{HOME}/GP/ehr-data/cprd-data/DUMMY_DATA.csv'\n",
    "SOURCE_DIR = os.path.abspath(\"..\")\n",
    "\n",
    "with U.modified_environ(DATA_FILE=DATA_FILE):\n",
    "    cprd_dataset = load_dataset('CPRD')"
   ],
   "outputs": []
  },
  {
   "cell_type": "markdown",
   "id": "24d26707",
   "metadata": {},
   "source": [
    "<a name=\"secd\"></a>\n",
    "\n",
    "### D Patient Interface and Train/Val/Test Patitioning [^](#outline)\n",
    "\n",
    "**Configurations should be matching the training notebook**"
   ]
  },
  {
   "cell_type": "code",
   "execution_count": 5,
   "id": "ed738552",
   "metadata": {},
   "source": [
    "from lib.ehr.coding_scheme import DxLTC212FlatCodes, DxLTC9809FlatMedcodes, EthCPRD5, EthCPRD16\n",
    "from lib.ehr import OutcomeExtractor, SurvivalOutcomeExtractor\n",
    "from lib.ehr import Subject_JAX\n",
    "from lib.ehr import StaticInfoFlags\n",
    "\n",
    "%load_ext autoreload\n",
    "%autoreload 2\n",
    "\n",
    "code_scheme = {\n",
    "    'dx': DxLTC9809FlatMedcodes(), # other options \n",
    "    'outcome': SurvivalOutcomeExtractor('dx_cprd_ltc9809'),\n",
    "    # Comment above^, and uncomment below, to consider only the first occurrence of codes per subject.\n",
    "    # 'outcome': SurvivalOutcomeExtractor('dx_cprd_ltc9809'),\n",
    "    'eth': EthCPRD5()\n",
    "}\n",
    "\n",
    "\n",
    "static_info_flags = StaticInfoFlags(\n",
    " gender=True,\n",
    " age=True,\n",
    " idx_deprivation=True,\n",
    " ethnicity=EthCPRD5(), # <- include it by the category of interest, not just 'True'.\n",
    ")\n",
    "\n",
    "cprd_interface = Subject_JAX.from_dataset(cprd_dataset, code_scheme=code_scheme, static_info_flags=static_info_flags)\n",
    "cprd_splits = cprd_interface.random_splits(split1=0.7, split2=0.85, random_seed=42)\n"
   ],
   "outputs": []
  },
  {
   "cell_type": "markdown",
   "id": "23eef61e",
   "metadata": {},
   "source": [
    "<a name=\"sece\"></a>\n",
    "\n",
    "### E Setup Metrics [^](#outline)\n"
   ]
  },
  {
   "cell_type": "code",
   "execution_count": 6,
   "id": "27c24ace",
   "metadata": {},
   "source": [
    "from lib.metric import (CodeAUC, UntilFirstCodeAUC, AdmissionAUC, CodeGroupTopAlarmAccuracy, LossMetric, MetricsCollection)\n",
    "# pecentile_range=20 will partition the codes into five gruops, where each group contains \n",
    "# codes that overall constitutes 20% of the codes in all visits of specified 'subjects' list.\n",
    "code_freq_partitions = cprd_interface.outcome_by_percentiles(percentile_range=20, subjects=cprd_splits[0])\n",
    "\n",
    "\n",
    "\n",
    "# Evaluate for different k values\n",
    "top_k_list = [3, 5, 10, 15, 20]\n",
    "\n",
    "metrics = {'code_auc': CodeAUC(cprd_interface),\n",
    "           'code_first_auc': UntilFirstCodeAUC(cprd_interface),\n",
    "           'admission_auc': AdmissionAUC(cprd_interface),\n",
    "           'loss': LossMetric(cprd_interface),\n",
    "           'code_group_acc': CodeGroupTopAlarmAccuracy(cprd_interface, top_k_list=top_k_list, code_groups=code_freq_partitions)}\n",
    "\n",
    "metric_extractor = {\n",
    "    'code_auc': metrics['code_auc'].aggregate_extractor({'field': 'auc', 'aggregate': 'mean'}),\n",
    "    'code_first_auc': metrics['code_first_auc'].aggregate_extractor({'field': 'auc', 'aggregate': 'mean'}),\n",
    "    'admission_auc': metrics['admission_auc'].aggregate_extractor({'field': 'auc', 'aggregate': 'mean'}),\n",
    "    'loss': metrics['loss'].value_extractor({'field': 'focal_softmax'}),\n",
    "}"
   ],
   "outputs": []
  },
  {
   "cell_type": "markdown",
   "id": "f3e9abdd",
   "metadata": {},
   "source": [
    "<a name=\"models\"></a>\n",
    "\n",
    "## 1. Loading Models (Uninitialised) [^](#outline)"
   ]
  },
  {
   "cell_type": "code",
   "execution_count": 7,
   "id": "f8785cbf",
   "metadata": {},
   "source": [
    "from lib.ml import ICENODE, ICENODE_UNIFORM, GRU, RETAIN, WindowLogReg\n",
    "from lib.vis import models_from_configs, performance_traces, probe_model_snapshots\n",
    "\n",
    "model_cls = {\n",
    "    'ICE-NODE': ICENODE,\n",
    "    'ICE-NODE_UNIFORM': ICENODE_UNIFORM,\n",
    "    'GRU': GRU,\n",
    "    'RETAIN': RETAIN,\n",
    "    'LogReg': WindowLogReg\n",
    "}       \n",
    "cprd_models = models_from_configs(training_dir, model_cls, cprd_interface, cprd_splits)\n"
   ],
   "outputs": []
  },
  {
   "cell_type": "markdown",
   "id": "680c4b46",
   "metadata": {},
   "source": [
    "<a name=\"snapshot\"></a>\n",
    "\n",
    "\n",
    "## 2. Snapshot Selection [^](#outline)"
   ]
  },
  {
   "cell_type": "code",
   "execution_count": 8,
   "id": "60e45380",
   "metadata": {},
   "source": [
    "result = probe_model_snapshots(train_dir=training_dir, metric_extractor=metric_extractor, \n",
    "                               selection_metric='admission_auc_val', models=cprd_models)\n",
    "display(result)\n",
    "\n",
    "# Now cprd_models have the selected snapshots"
   ],
   "outputs": []
  },
  {
   "cell_type": "markdown",
   "id": "f6323308",
   "metadata": {},
   "source": [
    "<a name=\"disease-clusters\"></a>\n",
    "\n",
    "## 3. Disease Embeddings Clustering on CPRD [^](#outline)"
   ]
  },
  {
   "cell_type": "code",
   "execution_count": 9,
   "id": "fd4dfdf4",
   "metadata": {},
   "source": [
    "\n",
    "\n",
    "# Should be the same one used in JAX interface in the training notebook.\n",
    "dx_scheme = DxLTC9809FlatMedcodes()\n"
   ],
   "outputs": []
  },
  {
   "cell_type": "code",
   "execution_count": 10,
   "id": "4b97024f",
   "metadata": {},
   "source": [
    "# scheme indices (textual code -> integer index)\n",
    "dx_scheme.index\n",
    "\n",
    "# reverse index (integer index -> textual code)\n",
    "idx2code = {idx: code for code, idx in dx_scheme.index.items()}"
   ],
   "outputs": []
  },
  {
   "cell_type": "markdown",
   "id": "321f85ed",
   "metadata": {},
   "source": [
    "### 1.A GloVe Based Disease Embeddings"
   ]
  },
  {
   "cell_type": "markdown",
   "id": "01db04a9",
   "metadata": {},
   "source": [
    "Get the coocurrence matrix"
   ]
  },
  {
   "cell_type": "code",
   "execution_count": 12,
   "id": "f9f7afc0",
   "metadata": {},
   "source": [
    "cprd_all_subjects = (cprd_interface.keys())\n",
    "# Time-window context coocurrence\n",
    "cprd_cooc_timewin = cprd_interface.dx_coocurrence(cprd_all_subjects, window_size_days=365)\n",
    "\n",
    "# Sequence context coocurrence\n",
    "cprd_cooc_seqwin = cprd_interface.dx_coocurrence(cprd_all_subjects, context_size=20)\n",
    "\n",
    "from lib.embeddings import train_glove\n",
    "\n",
    "cprd_glove_timewin = train_glove(cprd_cooc_timewin, embeddings_size=100, iterations=500, prng_seed=0)\n",
    "cprd_glove_seqwin = train_glove(cprd_cooc_seqwin, embeddings_size=100, iterations=500, prng_seed=0)\n",
    "\n",
    "cprd_glove_timewin"
   ],
   "outputs": []
  },
  {
   "cell_type": "code",
   "execution_count": null,
   "id": "85f03ad5",
   "metadata": {},
   "source": [],
   "outputs": []
  },
  {
   "cell_type": "markdown",
   "id": "b717db5c",
   "metadata": {},
   "source": [
    "### 1.B Predictor Based Disease Embeddings\n",
    "\n"
   ]
  },
  {
   "cell_type": "code",
   "execution_count": 15,
   "id": "7993e523",
   "metadata": {},
   "source": [
    "def disease_embeddings_dictionary(model):\n",
    "    model = cprd_models[model]\n",
    "    \n",
    "    # Code history\n",
    "    dx_for_emb = cprd_interface.dx_batch_history_vec(cprd_all_subjects)\n",
    "    # Embeddings Mat\n",
    "    dx_G = model.dx_emb.compute_embeddings_mat(dx_for_emb)\n",
    "\n",
    "    embeddings_dict = {}\n",
    "    for code, idx in dx_scheme.index.items():\n",
    "        in_vec = np.zeros((cprd_interface.dx_dim, ))\n",
    "        in_vec[idx] = 1.\n",
    "        out_vec = model.dx_emb.encode(dx_G, in_vec)\n",
    "        embeddings_dict[code] = out_vec\n",
    "    return embeddings_dict\n",
    "\n",
    "icenode_emb = disease_embeddings_dictionary('ICE-NODE')\n",
    "icenode_uni_emb = disease_embeddings_dictionary('ICE-NODE_UNIFORM')\n",
    "retain_emb = disease_embeddings_dictionary('RETAIN')\n",
    "gru_emb = disease_embeddings_dictionary('GRU')"
   ],
   "outputs": []
  },
  {
   "cell_type": "markdown",
   "id": "ea0dae9e",
   "metadata": {},
   "source": [
    "<a name=\"subject-clusters\"></a>\n",
    "\n",
    "## 4. Subject Embeddings Clustering on CPRD [^](#outline)"
   ]
  },
  {
   "cell_type": "code",
   "execution_count": 18,
   "id": "7196d5b5",
   "metadata": {},
   "source": [
    "def subject_embeddings_dictionary(model):\n",
    "    \n",
    "    model = cprd_models[model]\n",
    "    # All subjects in the study are passed\n",
    "    return model.subject_embeddings(cprd_interface, cprd_all_subjects)\n",
    "\n",
    "icenode_subj_emb = subject_embeddings_dictionary('ICE-NODE')\n",
    "icenode_subj_uni_emb = subject_embeddings_dictionary('ICE-NODE_UNIFORM')\n",
    "retain_subj_emb = subject_embeddings_dictionary('RETAIN')\n",
    "gru_subj_emb = subject_embeddings_dictionary('GRU')"
   ],
   "outputs": []
  },
  {
   "cell_type": "code",
   "execution_count": null,
   "id": "8bba8a67",
   "metadata": {},
   "source": [],
   "outputs": []
  }
 ],
 "metadata": {
  "kernelspec": {
   "display_name": "Python 3 (ipykernel)",
   "language": "python",
   "name": "python3"
  },
  "language_info": {
   "codemirror_mode": {
    "name": "ipython",
    "version": 3
   },
   "file_extension": ".py",
   "mimetype": "text/x-python",
   "name": "python",
   "nbconvert_exporter": "python",
   "pygments_lexer": "ipython3",
   "version": "3.8.13"
  }
 },
 "nbformat": 4,
 "nbformat_minor": 5
}
