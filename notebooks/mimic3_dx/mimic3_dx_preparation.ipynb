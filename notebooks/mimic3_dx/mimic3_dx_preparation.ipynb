{
 "cells": [
  {
   "cell_type": "markdown",
   "id": "ecc82a55",
   "metadata": {},
   "source": [
    "## Basic  Preparation for MIMIC-III Dataset for Discharge Codes Longitudinal Predictions Task"
   ]
  },
  {
   "cell_type": "markdown",
   "id": "4ea26f31",
   "metadata": {},
   "source": [
    "### Main Preparation Steps\n",
    "\n",
    "1. Load dataframes from the downloaded dataset from Physionet.\n",
    "2. Select patients with at least two admissions (i.e. for sequential prediction task).\n",
    "3. Map subjects to single ethnicity in admissions.\n",
    "4. Export three tables to the cohort directory:\n",
    "    1. `adm_df.csv.gz`: for admission information.\n",
    "    2. `static_df.csv.gz`: for demographic information (DoB, ethnicity, gender).\n",
    "    3. `dx_df.csv.gz`: for discharge codes information linked to each admission."
   ]
  },
  {
   "cell_type": "code",
   "execution_count": null,
   "id": "5a27b3d8",
   "metadata": {},
   "outputs": [],
   "source": [
    "\n",
    "    \n"
   ]
  },
  {
   "cell_type": "code",
   "execution_count": 1,
   "id": "9032b4f5",
   "metadata": {},
   "outputs": [],
   "source": [
    "import numpy as np\n",
    "import pandas as pd\n",
    "import matplotlib.pyplot as plt\n",
    "from pathlib import Path"
   ]
  },
  {
   "cell_type": "code",
   "execution_count": 2,
   "id": "stone-narrow",
   "metadata": {},
   "outputs": [],
   "source": [
    "# Set the raw dataset directory (folder) absolute path.\n",
    "mimic_dir = '/home/asem/GP/ehr-data/physionet.org/files/mimiciii/1.4'\n",
    "\n",
    "# Set the target cohort directory.\n",
    "cohort_dir = '/home/asem/GP/ehr-data/mimic3-cohort'\n",
    "Path(cohort_dir).mkdir(parents=True, exist_ok=True)\n"
   ]
  },
  {
   "cell_type": "code",
   "execution_count": 3,
   "id": "divine-replacement",
   "metadata": {},
   "outputs": [],
   "source": [
    "adm_df = pd.read_csv(f'{mimic_dir}/ADMISSIONS.csv.gz')"
   ]
  },
  {
   "cell_type": "code",
   "execution_count": 4,
   "id": "brazilian-cliff",
   "metadata": {},
   "outputs": [
    {
     "data": {
      "text/html": [
       "<div>\n",
       "<style scoped>\n",
       "    .dataframe tbody tr th:only-of-type {\n",
       "        vertical-align: middle;\n",
       "    }\n",
       "\n",
       "    .dataframe tbody tr th {\n",
       "        vertical-align: top;\n",
       "    }\n",
       "\n",
       "    .dataframe thead th {\n",
       "        text-align: right;\n",
       "    }\n",
       "</style>\n",
       "<table border=\"1\" class=\"dataframe\">\n",
       "  <thead>\n",
       "    <tr style=\"text-align: right;\">\n",
       "      <th></th>\n",
       "      <th>row_id</th>\n",
       "      <th>subject_id</th>\n",
       "      <th>hadm_id</th>\n",
       "      <th>admittime</th>\n",
       "      <th>dischtime</th>\n",
       "      <th>deathtime</th>\n",
       "      <th>admission_type</th>\n",
       "      <th>admission_location</th>\n",
       "      <th>discharge_location</th>\n",
       "      <th>insurance</th>\n",
       "      <th>language</th>\n",
       "      <th>religion</th>\n",
       "      <th>marital_status</th>\n",
       "      <th>ethnicity</th>\n",
       "      <th>edregtime</th>\n",
       "      <th>edouttime</th>\n",
       "      <th>diagnosis</th>\n",
       "      <th>hospital_expire_flag</th>\n",
       "      <th>has_chartevents_data</th>\n",
       "    </tr>\n",
       "  </thead>\n",
       "  <tbody>\n",
       "    <tr>\n",
       "      <th>0</th>\n",
       "      <td>1</td>\n",
       "      <td>2</td>\n",
       "      <td>163353</td>\n",
       "      <td>2138-07-17 19:04:00</td>\n",
       "      <td>2138-07-21 15:48:00</td>\n",
       "      <td>NaN</td>\n",
       "      <td>NEWBORN</td>\n",
       "      <td>PHYS REFERRAL/NORMAL DELI</td>\n",
       "      <td>HOME</td>\n",
       "      <td>Private</td>\n",
       "      <td>NaN</td>\n",
       "      <td>NOT SPECIFIED</td>\n",
       "      <td>NaN</td>\n",
       "      <td>ASIAN</td>\n",
       "      <td>NaN</td>\n",
       "      <td>NaN</td>\n",
       "      <td>NEWBORN</td>\n",
       "      <td>0</td>\n",
       "      <td>1</td>\n",
       "    </tr>\n",
       "    <tr>\n",
       "      <th>1</th>\n",
       "      <td>2</td>\n",
       "      <td>3</td>\n",
       "      <td>145834</td>\n",
       "      <td>2101-10-20 19:08:00</td>\n",
       "      <td>2101-10-31 13:58:00</td>\n",
       "      <td>NaN</td>\n",
       "      <td>EMERGENCY</td>\n",
       "      <td>EMERGENCY ROOM ADMIT</td>\n",
       "      <td>SNF</td>\n",
       "      <td>Medicare</td>\n",
       "      <td>NaN</td>\n",
       "      <td>CATHOLIC</td>\n",
       "      <td>MARRIED</td>\n",
       "      <td>WHITE</td>\n",
       "      <td>2101-10-20 17:09:00</td>\n",
       "      <td>2101-10-20 19:24:00</td>\n",
       "      <td>HYPOTENSION</td>\n",
       "      <td>0</td>\n",
       "      <td>1</td>\n",
       "    </tr>\n",
       "    <tr>\n",
       "      <th>2</th>\n",
       "      <td>4</td>\n",
       "      <td>5</td>\n",
       "      <td>178980</td>\n",
       "      <td>2103-02-02 04:31:00</td>\n",
       "      <td>2103-02-04 12:15:00</td>\n",
       "      <td>NaN</td>\n",
       "      <td>NEWBORN</td>\n",
       "      <td>PHYS REFERRAL/NORMAL DELI</td>\n",
       "      <td>HOME</td>\n",
       "      <td>Private</td>\n",
       "      <td>NaN</td>\n",
       "      <td>BUDDHIST</td>\n",
       "      <td>NaN</td>\n",
       "      <td>ASIAN</td>\n",
       "      <td>NaN</td>\n",
       "      <td>NaN</td>\n",
       "      <td>NEWBORN</td>\n",
       "      <td>0</td>\n",
       "      <td>1</td>\n",
       "    </tr>\n",
       "    <tr>\n",
       "      <th>3</th>\n",
       "      <td>6</td>\n",
       "      <td>7</td>\n",
       "      <td>118037</td>\n",
       "      <td>2121-05-23 15:05:00</td>\n",
       "      <td>2121-05-27 11:57:00</td>\n",
       "      <td>NaN</td>\n",
       "      <td>NEWBORN</td>\n",
       "      <td>PHYS REFERRAL/NORMAL DELI</td>\n",
       "      <td>HOME</td>\n",
       "      <td>Private</td>\n",
       "      <td>NaN</td>\n",
       "      <td>CATHOLIC</td>\n",
       "      <td>NaN</td>\n",
       "      <td>WHITE</td>\n",
       "      <td>NaN</td>\n",
       "      <td>NaN</td>\n",
       "      <td>NEWBORN</td>\n",
       "      <td>0</td>\n",
       "      <td>1</td>\n",
       "    </tr>\n",
       "    <tr>\n",
       "      <th>4</th>\n",
       "      <td>7</td>\n",
       "      <td>8</td>\n",
       "      <td>159514</td>\n",
       "      <td>2117-11-20 10:22:00</td>\n",
       "      <td>2117-11-24 14:20:00</td>\n",
       "      <td>NaN</td>\n",
       "      <td>NEWBORN</td>\n",
       "      <td>PHYS REFERRAL/NORMAL DELI</td>\n",
       "      <td>HOME</td>\n",
       "      <td>Private</td>\n",
       "      <td>NaN</td>\n",
       "      <td>CATHOLIC</td>\n",
       "      <td>NaN</td>\n",
       "      <td>WHITE</td>\n",
       "      <td>NaN</td>\n",
       "      <td>NaN</td>\n",
       "      <td>NEWBORN</td>\n",
       "      <td>0</td>\n",
       "      <td>1</td>\n",
       "    </tr>\n",
       "  </tbody>\n",
       "</table>\n",
       "</div>"
      ],
      "text/plain": [
       "   row_id  subject_id  hadm_id            admittime            dischtime  \\\n",
       "0       1           2   163353  2138-07-17 19:04:00  2138-07-21 15:48:00   \n",
       "1       2           3   145834  2101-10-20 19:08:00  2101-10-31 13:58:00   \n",
       "2       4           5   178980  2103-02-02 04:31:00  2103-02-04 12:15:00   \n",
       "3       6           7   118037  2121-05-23 15:05:00  2121-05-27 11:57:00   \n",
       "4       7           8   159514  2117-11-20 10:22:00  2117-11-24 14:20:00   \n",
       "\n",
       "  deathtime admission_type         admission_location discharge_location  \\\n",
       "0       NaN        NEWBORN  PHYS REFERRAL/NORMAL DELI               HOME   \n",
       "1       NaN      EMERGENCY       EMERGENCY ROOM ADMIT                SNF   \n",
       "2       NaN        NEWBORN  PHYS REFERRAL/NORMAL DELI               HOME   \n",
       "3       NaN        NEWBORN  PHYS REFERRAL/NORMAL DELI               HOME   \n",
       "4       NaN        NEWBORN  PHYS REFERRAL/NORMAL DELI               HOME   \n",
       "\n",
       "  insurance language       religion marital_status ethnicity  \\\n",
       "0   Private      NaN  NOT SPECIFIED            NaN     ASIAN   \n",
       "1  Medicare      NaN       CATHOLIC        MARRIED     WHITE   \n",
       "2   Private      NaN       BUDDHIST            NaN     ASIAN   \n",
       "3   Private      NaN       CATHOLIC            NaN     WHITE   \n",
       "4   Private      NaN       CATHOLIC            NaN     WHITE   \n",
       "\n",
       "             edregtime            edouttime    diagnosis  \\\n",
       "0                  NaN                  NaN      NEWBORN   \n",
       "1  2101-10-20 17:09:00  2101-10-20 19:24:00  HYPOTENSION   \n",
       "2                  NaN                  NaN      NEWBORN   \n",
       "3                  NaN                  NaN      NEWBORN   \n",
       "4                  NaN                  NaN      NEWBORN   \n",
       "\n",
       "   hospital_expire_flag  has_chartevents_data  \n",
       "0                     0                     1  \n",
       "1                     0                     1  \n",
       "2                     0                     1  \n",
       "3                     0                     1  \n",
       "4                     0                     1  "
      ]
     },
     "execution_count": 4,
     "metadata": {},
     "output_type": "execute_result"
    }
   ],
   "source": [
    "adm_df.head()"
   ]
  },
  {
   "cell_type": "code",
   "execution_count": 5,
   "id": "wireless-mattress",
   "metadata": {},
   "outputs": [
    {
     "ename": "AttributeError",
     "evalue": "'DataFrame' object has no attribute 'SUBJECT_ID'",
     "output_type": "error",
     "traceback": [
      "\u001b[0;31m---------------------------------------------------------------------------\u001b[0m",
      "\u001b[0;31mAttributeError\u001b[0m                            Traceback (most recent call last)",
      "Cell \u001b[0;32mIn[5], line 1\u001b[0m\n\u001b[0;32m----> 1\u001b[0m \u001b[38;5;124mf\u001b[39m\u001b[38;5;124m'\u001b[39m\u001b[38;5;124m#subjects: \u001b[39m\u001b[38;5;132;01m{\u001b[39;00m\u001b[38;5;28mlen\u001b[39m(\u001b[38;5;28mset\u001b[39m(adm_df\u001b[38;5;241m.\u001b[39mSUBJECT_ID))\u001b[38;5;132;01m}\u001b[39;00m\u001b[38;5;124m'\u001b[39m\n",
      "File \u001b[0;32m~/GP/env/icenode-dev/lib/python3.9/site-packages/pandas/core/generic.py:5989\u001b[0m, in \u001b[0;36mNDFrame.__getattr__\u001b[0;34m(self, name)\u001b[0m\n\u001b[1;32m   5982\u001b[0m \u001b[38;5;28;01mif\u001b[39;00m (\n\u001b[1;32m   5983\u001b[0m     name \u001b[38;5;129;01mnot\u001b[39;00m \u001b[38;5;129;01min\u001b[39;00m \u001b[38;5;28mself\u001b[39m\u001b[38;5;241m.\u001b[39m_internal_names_set\n\u001b[1;32m   5984\u001b[0m     \u001b[38;5;129;01mand\u001b[39;00m name \u001b[38;5;129;01mnot\u001b[39;00m \u001b[38;5;129;01min\u001b[39;00m \u001b[38;5;28mself\u001b[39m\u001b[38;5;241m.\u001b[39m_metadata\n\u001b[1;32m   5985\u001b[0m     \u001b[38;5;129;01mand\u001b[39;00m name \u001b[38;5;129;01mnot\u001b[39;00m \u001b[38;5;129;01min\u001b[39;00m \u001b[38;5;28mself\u001b[39m\u001b[38;5;241m.\u001b[39m_accessors\n\u001b[1;32m   5986\u001b[0m     \u001b[38;5;129;01mand\u001b[39;00m \u001b[38;5;28mself\u001b[39m\u001b[38;5;241m.\u001b[39m_info_axis\u001b[38;5;241m.\u001b[39m_can_hold_identifiers_and_holds_name(name)\n\u001b[1;32m   5987\u001b[0m ):\n\u001b[1;32m   5988\u001b[0m     \u001b[38;5;28;01mreturn\u001b[39;00m \u001b[38;5;28mself\u001b[39m[name]\n\u001b[0;32m-> 5989\u001b[0m \u001b[38;5;28;01mreturn\u001b[39;00m \u001b[38;5;28;43mobject\u001b[39;49m\u001b[38;5;241;43m.\u001b[39;49m\u001b[38;5;21;43m__getattribute__\u001b[39;49m\u001b[43m(\u001b[49m\u001b[38;5;28;43mself\u001b[39;49m\u001b[43m,\u001b[49m\u001b[43m \u001b[49m\u001b[43mname\u001b[49m\u001b[43m)\u001b[49m\n",
      "\u001b[0;31mAttributeError\u001b[0m: 'DataFrame' object has no attribute 'SUBJECT_ID'"
     ]
    }
   ],
   "source": [
    "f'#subjects: {len(set(adm_df.SUBJECT_ID))}'"
   ]
  },
  {
   "cell_type": "code",
   "execution_count": null,
   "id": "standard-millennium",
   "metadata": {},
   "outputs": [],
   "source": [
    "patients_n_admission = adm_df.groupby('SUBJECT_ID').size()\n",
    "patients_n_admission[patients_n_admission > 1].hist(bins=patients_n_admission.max())"
   ]
  },
  {
   "cell_type": "code",
   "execution_count": null,
   "id": "arbitrary-briefing",
   "metadata": {},
   "outputs": [],
   "source": [
    "# In GRAM paper, all patients with at least 2 visits were utilized (n=7537).\n",
    "f'#subjects (n_admissions> 1): {len(patients_n_admission[patients_n_admission > 1])}'"
   ]
  },
  {
   "cell_type": "markdown",
   "id": "21cf3689",
   "metadata": {},
   "source": [
    "#### Filter qualified subjects"
   ]
  },
  {
   "cell_type": "code",
   "execution_count": null,
   "id": "959fdf8c",
   "metadata": {},
   "outputs": [],
   "source": [
    "qualified_subjects = patients_n_admission[patients_n_admission > 1].index\n",
    "adm_df = adm_df[adm_df.SUBJECT_ID.isin(qualified_subjects)]"
   ]
  },
  {
   "cell_type": "code",
   "execution_count": null,
   "id": "f0992e16",
   "metadata": {},
   "outputs": [],
   "source": [
    "adm_df"
   ]
  },
  {
   "cell_type": "code",
   "execution_count": null,
   "id": "4dae15c1",
   "metadata": {},
   "outputs": [],
   "source": [
    "def map_ethnicity(subj_df):\n",
    "    \n",
    "    def resolution(series):\n",
    "        # Return the more detailed ethnicity (longer string)\n",
    "        idx = series.apply(lambda s: len(s)).idxmax()\n",
    "        return series.loc[idx]\n",
    "    \n",
    "    eth_df = subj_df['ETHNICITY']\n",
    "    eth_df = eth_df[~eth_df.str.contains('UNKNOWN')]\n",
    "    eth_df = eth_df[~eth_df.str.contains('UNABLE')]\n",
    "    eth_df = eth_df[~eth_df.str.contains('DECLINED')]\n",
    "    ethnicity_set = set(eth_df)\n",
    "    \n",
    "    if len(ethnicity_set) == 0:\n",
    "        return 'UNKNOWN'\n",
    "    if len(ethnicity_set) == 1:\n",
    "        (ethnicity,) = ethnicity_set\n",
    "        return ethnicity\n",
    "    \n",
    "    if eth_df.str.contains('WHITE').all():\n",
    "        return resolution(eth_df)\n",
    "    if eth_df.str.contains('ASIAN').all():\n",
    "        return resolution(eth_df)\n",
    "    if eth_df.str.contains('HISPANIC').all():\n",
    "        return resolution(eth_df)\n",
    "    if len(ethnicity_set) > 1:\n",
    "        print(f'Unresolved (return \"UNKNOWN\"): {ethnicity_set}')\n",
    "    \n",
    "    return 'UNKNOWN'\n",
    "\n",
    "subject_eth_df = adm_df.groupby('SUBJECT_ID').apply(map_ethnicity)"
   ]
  },
  {
   "cell_type": "code",
   "execution_count": null,
   "id": "28d69c9a",
   "metadata": {},
   "outputs": [],
   "source": [
    "patients_df = pd.read_csv(f'{mimic_dir}/PATIENTS.csv.gz')\n",
    "patients_df = patients_df[patients_df.SUBJECT_ID.isin(qualified_subjects)].reset_index(drop=True)\n",
    "patients_df['ETHNICITY'] = patients_df.SUBJECT_ID.map(subject_eth_df)\n",
    "patients_df = patients_df[['SUBJECT_ID', 'GENDER', 'DOB', 'ETHNICITY']]\n",
    "patients_df.to_csv(f'{cohort_dir}/static_df.csv.gz', compression='gzip', index=False)"
   ]
  },
  {
   "cell_type": "code",
   "execution_count": null,
   "id": "received-northwest",
   "metadata": {},
   "outputs": [],
   "source": [
    "patients_df = pd.read_csv(f'{cohort_dir}/static_df.csv.gz')\n",
    "patients_df.head()"
   ]
  },
  {
   "cell_type": "code",
   "execution_count": null,
   "id": "c2ff0076",
   "metadata": {},
   "outputs": [],
   "source": [
    "adm_df"
   ]
  },
  {
   "cell_type": "code",
   "execution_count": null,
   "id": "fundamental-marking",
   "metadata": {},
   "outputs": [],
   "source": [
    "adm_df = adm_df[['SUBJECT_ID', 'HADM_ID', 'ADMITTIME', 'DISCHTIME']]\n",
    "adm_df.to_csv(f'{cohort_dir}/adm_df.csv.gz', compression='gzip', index=False)\n"
   ]
  },
  {
   "cell_type": "code",
   "execution_count": null,
   "id": "5fd2bbf8",
   "metadata": {},
   "outputs": [],
   "source": [
    "dx_df = pd.read_csv(f'{mimic_dir}/DIAGNOSES_ICD.csv.gz', dtype = {'ICD9_CODE': str})\n",
    "dx_df = dx_df[dx_df.ICD9_CODE.notnull()].reset_index(drop=True)\n",
    "dx_df = dx_df[dx_df.SUBJECT_ID.isin(qualified_subjects)].reset_index(drop=True)\n",
    "dx_df = dx_df[['HADM_ID', 'ICD9_CODE']]\n",
    "dx_df.to_csv(f'{cohort_dir}/dx_df.csv.gz', compression='gzip', index=False)"
   ]
  }
 ],
 "metadata": {
  "kernelspec": {
   "display_name": "Python 3 (ipykernel)",
   "language": "python",
   "name": "python3"
  },
  "language_info": {
   "codemirror_mode": {
    "name": "ipython",
    "version": 3
   },
   "file_extension": ".py",
   "mimetype": "text/x-python",
   "name": "python",
   "nbconvert_exporter": "python",
   "pygments_lexer": "ipython3",
   "version": "3.9.17"
  }
 },
 "nbformat": 4,
 "nbformat_minor": 5
}
