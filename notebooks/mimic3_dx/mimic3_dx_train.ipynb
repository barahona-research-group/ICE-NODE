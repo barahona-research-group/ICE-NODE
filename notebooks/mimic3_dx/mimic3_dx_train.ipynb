{
 "cells": [
  {
   "cell_type": "code",
   "execution_count": 1,
   "id": "ab383786",
   "metadata": {},
   "outputs": [],
   "source": [
    "%load_ext autoreload\n",
    "%autoreload 2\n",
    "import sys\n",
    "import os\n",
    "import glob\n",
    "import random\n",
    "from collections import defaultdict\n",
    "from pathlib import Path\n",
    "\n",
    "from IPython.display import display\n",
    "\n",
    "import pandas as pd\n",
    "import dask\n",
    "\n",
    "from tqdm import tqdm\n",
    "import jax\n",
    "jax.config.update('jax_platform_name', 'cpu')\n",
    "# jax.config.update('jax_log_compiles', True)\n",
    "# jax.config.update(\"jax_debug_nans\", True)\n",
    "# jax.config.update(\"jax_enable_x64\", True)"
   ]
  },
  {
   "cell_type": "code",
   "execution_count": 2,
   "id": "c83480cb",
   "metadata": {},
   "outputs": [],
   "source": [
    "\n",
    "\n",
    "sys.path.append(\"../..\")\n",
    "\n",
    "from lib import utils as U\n",
    "from lib.ehr.dataset import load_dataset, load_dataset_scheme, Dataset\n",
    "from lib.ehr.interface import Patients\n",
    "from lib.ehr.concepts import DemographicVectorConfig\n"
   ]
  },
  {
   "cell_type": "code",
   "execution_count": 3,
   "id": "99451f48",
   "metadata": {},
   "outputs": [],
   "source": [
    "import logging\n",
    "logging.root.level = logging.INFO"
   ]
  },
  {
   "cell_type": "code",
   "execution_count": 4,
   "id": "19d8ad3d",
   "metadata": {},
   "outputs": [],
   "source": [
    "# Assign the folder of the dataset to `DATA_FILE`.\n",
    "\n",
    "HOME = os.environ.get('HOME')\n",
    "DATA_DIR = f'{HOME}/GP/ehr-data'\n",
    "SOURCE_DIR = os.path.abspath(\"..\")\n",
    "cache_to_disk = 'cached_inteface/patients'#_200'\n",
    "use_cached =  False # 'cached_inteface/patients' #cache_to_disk        # False # \n"
   ]
  },
  {
   "cell_type": "code",
   "execution_count": 5,
   "id": "0da45b5c",
   "metadata": {},
   "outputs": [
    {
     "name": "stderr",
     "output_type": "stream",
     "text": [
      "/home/asem/GP/env/icenode-dev/lib/python3.10/site-packages/dask/dataframe/io/csv.py:544: UserWarning: Warning gzip compression does not support breaking apart files\n",
      "Please ensure that each individual file can fit in memory and\n",
      "use the keyword ``blocksize=None to remove this message``\n",
      "Setting ``blocksize=None``\n",
      "  warn(\n",
      "/home/asem/GP/env/icenode-dev/lib/python3.10/site-packages/dask/dataframe/io/csv.py:544: UserWarning: Warning gzip compression does not support breaking apart files\n",
      "Please ensure that each individual file can fit in memory and\n",
      "use the keyword ``blocksize=None to remove this message``\n",
      "Setting ``blocksize=None``\n",
      "  warn(\n",
      "/home/asem/GP/env/icenode-dev/lib/python3.10/site-packages/dask/dataframe/io/csv.py:544: UserWarning: Warning gzip compression does not support breaking apart files\n",
      "Please ensure that each individual file can fit in memory and\n",
      "use the keyword ``blocksize=None to remove this message``\n",
      "Setting ``blocksize=None``\n",
      "  warn(\n",
      "WARNING:root:Source discrepancy\n",
      "WARNING:root:M: dx_icd9->dx_ccs \n",
      "\n",
      "Mapping converts codes that are not supported by the source scheme.|M-domain - S|=0; |M-domain - S|/|M-domain|=0.00); first5(M-domain - S)=[]\n",
      "\n",
      "Source codes that not covered by the mapping. |S - M-domain|=2497; |S - M-domain|/|S|=0.14; first5(S - M-domain)=['001', '002', '003', '003.2', '004']\n",
      "\n",
      "|M-domain|=14878; first5(M-domain) ['001.0', '001.1', '001.9', '002.0', '002.1'].\n",
      "\n",
      "|S|=17375; first5(S)=['001', '001.0', '001.1', '001.9', '002']\n",
      "        \n",
      "WARNING:root:Source discrepancy\n",
      "WARNING:root:M: dx_icd9->dx_flatccs \n",
      "\n",
      "Mapping converts codes that are not supported by the source scheme.|M-domain - S|=0; |M-domain - S|/|M-domain|=0.00); first5(M-domain - S)=[]\n",
      "\n",
      "Source codes that not covered by the mapping. |S - M-domain|=2497; |S - M-domain|/|S|=0.14; first5(S - M-domain)=['001', '002', '003', '003.2', '004']\n",
      "\n",
      "|M-domain|=14878; first5(M-domain) ['001.0', '001.1', '001.9', '002.0', '002.1'].\n",
      "\n",
      "|S|=17375; first5(S)=['001', '001.0', '001.1', '001.9', '002']\n",
      "        \n",
      "WARNING:root:Source discrepancy\n",
      "WARNING:root:M: dx_ccs->dx_flatccs \n",
      "\n",
      "Mapping converts codes that are not supported by the source scheme.|M-domain - S|=0; |M-domain - S|/|M-domain|=0.00); first5(M-domain - S)=[]\n",
      "\n",
      "Source codes that not covered by the mapping. |S - M-domain|=139; |S - M-domain|/|S|=0.19; first5(S - M-domain)=['1', '1.1', '1.1.2', '1.2', '1.3']\n",
      "\n",
      "|M-domain|=589; first5(M-domain) ['1.1.1', '1.1.2.1', '1.1.2.2', '1.1.2.3', '1.1.2.4'].\n",
      "\n",
      "|S|=728; first5(S)=['1', '1.1', '1.1.1', '1.1.2', '1.1.2.1']\n",
      "        \n"
     ]
    }
   ],
   "source": [
    "if use_cached:\n",
    "    m3patients = Patients.load(use_cached)\n",
    "    splits = m3patients.dataset.random_splits([0.8, 0.9], random_seed=42, balanced='admissions')\n",
    "\n",
    "else:\n",
    "    with U.modified_environ(DATA_DIR=DATA_DIR), dask.config.set(scheduler='processes', num_workers=12):\n",
    "        \n",
    "        # Load dataset\n",
    "        m3_dataset = load_dataset('M3', sample=None)\n",
    "        # Use training-split for fitting the outlier_remover and the scalers.\n",
    "        splits = m3_dataset.random_splits([0.8, 0.9], random_seed=42, balanced='admissions')\n",
    "        \n",
    "        # Demographic vector attributes\n",
    "        demographic_vector_conf = DemographicVectorConfig(\n",
    "            age=True, \n",
    "#             gender=True, \n",
    "#             ethnicity=True\n",
    "        )\n",
    "        # Load interface\n",
    "        m3patients = Patients(\n",
    "            m3_dataset, demographic_vector_conf,\n",
    "            dx='DxCCS',\n",
    "            outcome='dx_flatccs_filter_v1',\n",
    "            ethnicity='MIMIC3Eth7'\n",
    "        ).load_subjects(num_workers=12)\n",
    "\n",
    "        # Cache to disk\n",
    "        m3patients.save(cache_to_disk, overwrite=True)"
   ]
  },
  {
   "cell_type": "code",
   "execution_count": 6,
   "id": "d06795c0",
   "metadata": {},
   "outputs": [
    {
     "data": {
      "text/plain": [
       "7514"
      ]
     },
     "execution_count": 6,
     "metadata": {},
     "output_type": "execute_result"
    }
   ],
   "source": [
    "len(m3patients.subjects)"
   ]
  },
  {
   "cell_type": "code",
   "execution_count": 7,
   "id": "03b56fc9",
   "metadata": {},
   "outputs": [
    {
     "data": {
      "text/plain": [
       "Patient(\n",
       "  subject_id=44464,\n",
       "  static_info=StaticInfo(\n",
       "    demographic_vector_config=DemographicVectorConfig(\n",
       "      gender=False,\n",
       "      age=False,\n",
       "      ethnicity=False\n",
       "    ),\n",
       "    gender=BinaryCodesVector(\n",
       "      vec=bool[](numpy),\n",
       "      scheme=<lib.ehr.coding_scheme.Gender object at 0x7fcf3ed35c90>\n",
       "    ),\n",
       "    ethnicity=CodesVector(\n",
       "      vec=bool[7](numpy),\n",
       "      scheme=<lib.ehr.coding_scheme.MIMIC3Eth7 object at 0x7fcf3ed375b0>\n",
       "    ),\n",
       "    date_of_birth=Timestamp('2123-03-06 00:00:00'),\n",
       "    constant_vec=f16[0](numpy)\n",
       "  ),\n",
       "  admissions=[\n",
       "    Admission(\n",
       "      admission_id=118659,\n",
       "      admission_dates=(\n",
       "        Timestamp('2184-12-13 12:23:00'),\n",
       "        Timestamp('2184-12-21 16:15:00')\n",
       "      ),\n",
       "      dx_codes=CodesVector(\n",
       "        vec=bool[728](numpy),\n",
       "        scheme=<lib.ehr.coding_scheme.DxCCS object at 0x7fcfb8be8280>\n",
       "      ),\n",
       "      dx_codes_history=CodesVector(\n",
       "        vec=bool[728](numpy),\n",
       "        scheme=<lib.ehr.coding_scheme.DxCCS object at 0x7fcfb8be8280>\n",
       "      ),\n",
       "      outcome=CodesVector(\n",
       "        vec=bool[241](numpy),\n",
       "        scheme=<lib.ehr.coding_scheme.OutcomeExtractor object at 0x7fcf3ed36470>\n",
       "      ),\n",
       "      observables=None,\n",
       "      interventions=None\n",
       "    ),\n",
       "    Admission(\n",
       "      admission_id=126622,\n",
       "      admission_dates=(\n",
       "        Timestamp('2193-06-16 22:53:00'),\n",
       "        Timestamp('2193-07-02 20:17:00')\n",
       "      ),\n",
       "      dx_codes=CodesVector(\n",
       "        vec=bool[728](numpy),\n",
       "        scheme=<lib.ehr.coding_scheme.DxCCS object at 0x7fcfb8be8280>\n",
       "      ),\n",
       "      dx_codes_history=CodesVector(\n",
       "        vec=bool[728](numpy),\n",
       "        scheme=<lib.ehr.coding_scheme.DxCCS object at 0x7fcfb8be8280>\n",
       "      ),\n",
       "      outcome=CodesVector(\n",
       "        vec=bool[241](numpy),\n",
       "        scheme=<lib.ehr.coding_scheme.OutcomeExtractor object at 0x7fcf3ed36470>\n",
       "      ),\n",
       "      observables=None,\n",
       "      interventions=None\n",
       "    )\n",
       "  ]\n",
       ")"
      ]
     },
     "execution_count": 7,
     "metadata": {},
     "output_type": "execute_result"
    }
   ],
   "source": [
    "m3patients.subjects[splits[0][0]]"
   ]
  },
  {
   "cell_type": "code",
   "execution_count": 8,
   "id": "cebd58c5",
   "metadata": {},
   "outputs": [],
   "source": [
    "# m3patients.size_in_bytes() / 1024 ** 3"
   ]
  },
  {
   "cell_type": "code",
   "execution_count": 9,
   "id": "b598eb42",
   "metadata": {},
   "outputs": [],
   "source": [
    "# val_batch = m3patients.device_batch(splits[1])"
   ]
  },
  {
   "cell_type": "code",
   "execution_count": 10,
   "id": "428f1548",
   "metadata": {},
   "outputs": [],
   "source": [
    "# tst_batch = m3patients.device_batch(splits[2])"
   ]
  },
  {
   "cell_type": "code",
   "execution_count": 11,
   "id": "0108a8a5",
   "metadata": {},
   "outputs": [],
   "source": [
    "# val_batch.size_in_bytes() / 1024 ** 3, tst_batch.size_in_bytes() / 1024 ** 3"
   ]
  },
  {
   "cell_type": "code",
   "execution_count": 12,
   "id": "84e24feb",
   "metadata": {},
   "outputs": [],
   "source": [
    "# batch = m3patients.device_batch(splits[0][:32])"
   ]
  },
  {
   "cell_type": "code",
   "execution_count": 13,
   "id": "0af85343",
   "metadata": {},
   "outputs": [],
   "source": [
    "# batch.size_in_bytes() / 1024 ** 3"
   ]
  },
  {
   "cell_type": "code",
   "execution_count": 14,
   "id": "0210e539",
   "metadata": {},
   "outputs": [],
   "source": [
    "# len(batch.subjects)"
   ]
  },
  {
   "cell_type": "code",
   "execution_count": 15,
   "id": "de0adf08",
   "metadata": {},
   "outputs": [],
   "source": [
    "# batch.n_admissions()"
   ]
  },
  {
   "cell_type": "code",
   "execution_count": 16,
   "id": "0464a3bb",
   "metadata": {},
   "outputs": [],
   "source": [
    "# batch.n_segments()"
   ]
  },
  {
   "cell_type": "code",
   "execution_count": 17,
   "id": "1b3711f3",
   "metadata": {},
   "outputs": [],
   "source": [
    "# batch.n_obs_times()"
   ]
  },
  {
   "cell_type": "code",
   "execution_count": 18,
   "id": "9756e21b",
   "metadata": {},
   "outputs": [],
   "source": [
    "# s = batch.subjects[splits[0][6]].admissions[0]"
   ]
  },
  {
   "cell_type": "markdown",
   "id": "b66a64de",
   "metadata": {},
   "source": [
    "### التدريب على نموذج المعادلات التفاضلية الاعتيادية العصبية\n"
   ]
  },
  {
   "cell_type": "code",
   "execution_count": 19,
   "id": "9442545b",
   "metadata": {},
   "outputs": [],
   "source": [
    "from lib.ml import (ICENODE, ICENODEDimensions, \n",
    "                    GRU, GRUDimensions,\n",
    "                    RETAIN, RETAINDimensions,\n",
    "                    PatientEmbeddingDimensions, \n",
    "                    Trainer, TrainerReporting, OptimizerConfig, WarmupConfig)\n",
    "from lib.metric import  (CodeAUC, UntilFirstCodeAUC, AdmissionAUC,\n",
    "                      CodeGroupTopAlarmAccuracy, LossMetric, ObsCodeLevelLossMetric)\n",
    "\n",
    "import jax.random as jrandom"
   ]
  },
  {
   "cell_type": "code",
   "execution_count": 26,
   "id": "c911e2f3",
   "metadata": {},
   "outputs": [
    {
     "ename": "AssertionError",
     "evalue": "Model dimensionality for demographic embedding size (5) and input demographic vector size (0) must both be zero or non-zero.",
     "output_type": "error",
     "traceback": [
      "\u001b[0;31m---------------------------------------------------------------------------\u001b[0m",
      "\u001b[0;31mAssertionError\u001b[0m                            Traceback (most recent call last)",
      "Cell \u001b[0;32mIn[26], line 23\u001b[0m\n\u001b[1;32m     17\u001b[0m     dims \u001b[38;5;241m=\u001b[39m RETAINDimensions(mem_a\u001b[38;5;241m=\u001b[39m\u001b[38;5;241m25\u001b[39m, mem_b\u001b[38;5;241m=\u001b[39m\u001b[38;5;241m25\u001b[39m, emb\u001b[38;5;241m=\u001b[39memb_dims)\n\u001b[1;32m     18\u001b[0m     \u001b[38;5;28;01mreturn\u001b[39;00m RETAIN(dims\u001b[38;5;241m=\u001b[39mdims, schemes\u001b[38;5;241m=\u001b[39mm3patients\u001b[38;5;241m.\u001b[39mschemes, \n\u001b[1;32m     19\u001b[0m                    demographic_vector_config\u001b[38;5;241m=\u001b[39mm3patients\u001b[38;5;241m.\u001b[39mdemographic_vector_config,\n\u001b[1;32m     20\u001b[0m                    key\u001b[38;5;241m=\u001b[39mkey)\n\u001b[1;32m     22\u001b[0m models \u001b[38;5;241m=\u001b[39m {\n\u001b[0;32m---> 23\u001b[0m     \u001b[38;5;124m'\u001b[39m\u001b[38;5;124mdx_icenode\u001b[39m\u001b[38;5;124m'\u001b[39m: \u001b[43micenode_model\u001b[49m\u001b[43m(\u001b[49m\u001b[43m)\u001b[49m,\n\u001b[1;32m     24\u001b[0m     \u001b[38;5;124m'\u001b[39m\u001b[38;5;124mdx_gru\u001b[39m\u001b[38;5;124m'\u001b[39m: gru_model(),\n\u001b[1;32m     25\u001b[0m     \u001b[38;5;124m'\u001b[39m\u001b[38;5;124mdx_retain\u001b[39m\u001b[38;5;124m'\u001b[39m: retain_model()\n\u001b[1;32m     26\u001b[0m }\n",
      "Cell \u001b[0;32mIn[26], line 6\u001b[0m, in \u001b[0;36micenode_model\u001b[0;34m()\u001b[0m\n\u001b[1;32m      4\u001b[0m \u001b[38;5;28;01mdef\u001b[39;00m \u001b[38;5;21micenode_model\u001b[39m():\n\u001b[1;32m      5\u001b[0m     dims \u001b[38;5;241m=\u001b[39m ICENODEDimensions(mem\u001b[38;5;241m=\u001b[39m\u001b[38;5;241m15\u001b[39m, emb\u001b[38;5;241m=\u001b[39memb_dims)\n\u001b[0;32m----> 6\u001b[0m     \u001b[38;5;28;01mreturn\u001b[39;00m \u001b[43mICENODE\u001b[49m\u001b[43m(\u001b[49m\u001b[43mdims\u001b[49m\u001b[38;5;241;43m=\u001b[39;49m\u001b[43mdims\u001b[49m\u001b[43m,\u001b[49m\u001b[43m \u001b[49m\u001b[43mschemes\u001b[49m\u001b[38;5;241;43m=\u001b[39;49m\u001b[43mm3patients\u001b[49m\u001b[38;5;241;43m.\u001b[39;49m\u001b[43mschemes\u001b[49m\u001b[43m,\u001b[49m\u001b[43m \u001b[49m\n\u001b[1;32m      7\u001b[0m \u001b[43m                   \u001b[49m\u001b[43mdemographic_vector_config\u001b[49m\u001b[38;5;241;43m=\u001b[39;49m\u001b[43mm3patients\u001b[49m\u001b[38;5;241;43m.\u001b[39;49m\u001b[43mdemographic_vector_config\u001b[49m\u001b[43m,\u001b[49m\n\u001b[1;32m      8\u001b[0m \u001b[43m                   \u001b[49m\u001b[43mkey\u001b[49m\u001b[38;5;241;43m=\u001b[39;49m\u001b[43mkey\u001b[49m\u001b[43m)\u001b[49m\n",
      "File \u001b[0;32m~/GP/env/icenode-dev/lib/python3.10/site-packages/equinox/_module.py:186\u001b[0m, in \u001b[0;36m_ModuleMeta.__call__\u001b[0;34m(cls, *args, **kwargs)\u001b[0m\n\u001b[1;32m    183\u001b[0m \u001b[38;5;28;01mdef\u001b[39;00m \u001b[38;5;21m__call__\u001b[39m(\u001b[38;5;28mcls\u001b[39m, \u001b[38;5;241m*\u001b[39margs, \u001b[38;5;241m*\u001b[39m\u001b[38;5;241m*\u001b[39mkwargs):\n\u001b[1;32m    184\u001b[0m     \u001b[38;5;66;03m# Defreeze it during __init__\u001b[39;00m\n\u001b[1;32m    185\u001b[0m     initable_cls \u001b[38;5;241m=\u001b[39m _make_initable(\u001b[38;5;28mcls\u001b[39m, wraps\u001b[38;5;241m=\u001b[39m\u001b[38;5;28;01mFalse\u001b[39;00m)\n\u001b[0;32m--> 186\u001b[0m     \u001b[38;5;28mself\u001b[39m \u001b[38;5;241m=\u001b[39m \u001b[38;5;28;43msuper\u001b[39;49m\u001b[43m(\u001b[49m\u001b[43m_ModuleMeta\u001b[49m\u001b[43m,\u001b[49m\u001b[43m \u001b[49m\u001b[43minitable_cls\u001b[49m\u001b[43m)\u001b[49m\u001b[38;5;241;43m.\u001b[39;49m\u001b[38;5;21;43m__call__\u001b[39;49m\u001b[43m(\u001b[49m\u001b[38;5;241;43m*\u001b[39;49m\u001b[43margs\u001b[49m\u001b[43m,\u001b[49m\u001b[43m \u001b[49m\u001b[38;5;241;43m*\u001b[39;49m\u001b[38;5;241;43m*\u001b[39;49m\u001b[43mkwargs\u001b[49m\u001b[43m)\u001b[49m\n\u001b[1;32m    187\u001b[0m     missing_names \u001b[38;5;241m=\u001b[39m {\n\u001b[1;32m    188\u001b[0m         field\u001b[38;5;241m.\u001b[39mname\n\u001b[1;32m    189\u001b[0m         \u001b[38;5;28;01mfor\u001b[39;00m field \u001b[38;5;129;01min\u001b[39;00m dataclasses\u001b[38;5;241m.\u001b[39mfields(\u001b[38;5;28mcls\u001b[39m)  \u001b[38;5;66;03m# pyright: ignore\u001b[39;00m\n\u001b[1;32m    190\u001b[0m         \u001b[38;5;28;01mif\u001b[39;00m field\u001b[38;5;241m.\u001b[39minit \u001b[38;5;129;01mand\u001b[39;00m field\u001b[38;5;241m.\u001b[39mname \u001b[38;5;129;01mnot\u001b[39;00m \u001b[38;5;129;01min\u001b[39;00m \u001b[38;5;28mdir\u001b[39m(\u001b[38;5;28mself\u001b[39m)\n\u001b[1;32m    191\u001b[0m     }\n\u001b[1;32m    192\u001b[0m     \u001b[38;5;28;01mif\u001b[39;00m \u001b[38;5;28mlen\u001b[39m(missing_names):\n",
      "File \u001b[0;32m~/GP/env/icenode-dev/lib/python3.10/site-packages/equinox/_better_abstract.py:280\u001b[0m, in \u001b[0;36mABCMeta.__call__\u001b[0;34m(cls, *args, **kwargs)\u001b[0m\n\u001b[1;32m    275\u001b[0m     abstract_class_vars \u001b[38;5;241m=\u001b[39m \u001b[38;5;28mset\u001b[39m(\u001b[38;5;28mcls\u001b[39m\u001b[38;5;241m.\u001b[39m__abstractclassvars__)  \u001b[38;5;66;03m# pyright: ignore\u001b[39;00m\n\u001b[1;32m    276\u001b[0m     \u001b[38;5;28;01mraise\u001b[39;00m \u001b[38;5;167;01mTypeError\u001b[39;00m(\n\u001b[1;32m    277\u001b[0m         \u001b[38;5;124mf\u001b[39m\u001b[38;5;124m\"\u001b[39m\u001b[38;5;124mCan\u001b[39m\u001b[38;5;124m'\u001b[39m\u001b[38;5;124mt instantiate abstract class \u001b[39m\u001b[38;5;132;01m{\u001b[39;00m\u001b[38;5;28mcls\u001b[39m\u001b[38;5;241m.\u001b[39m\u001b[38;5;18m__name__\u001b[39m\u001b[38;5;132;01m}\u001b[39;00m\u001b[38;5;124m with abstract class \u001b[39m\u001b[38;5;124m\"\u001b[39m\n\u001b[1;32m    278\u001b[0m         \u001b[38;5;124mf\u001b[39m\u001b[38;5;124m\"\u001b[39m\u001b[38;5;124mattributes \u001b[39m\u001b[38;5;132;01m{\u001b[39;00mabstract_class_vars\u001b[38;5;132;01m}\u001b[39;00m\u001b[38;5;124m\"\u001b[39m\n\u001b[1;32m    279\u001b[0m     )\n\u001b[0;32m--> 280\u001b[0m \u001b[38;5;28mself\u001b[39m \u001b[38;5;241m=\u001b[39m \u001b[38;5;28;43msuper\u001b[39;49m\u001b[43m(\u001b[49m\u001b[43m)\u001b[49m\u001b[38;5;241;43m.\u001b[39;49m\u001b[38;5;21;43m__call__\u001b[39;49m\u001b[43m(\u001b[49m\u001b[38;5;241;43m*\u001b[39;49m\u001b[43margs\u001b[49m\u001b[43m,\u001b[49m\u001b[43m \u001b[49m\u001b[38;5;241;43m*\u001b[39;49m\u001b[38;5;241;43m*\u001b[39;49m\u001b[43mkwargs\u001b[49m\u001b[43m)\u001b[49m\n\u001b[1;32m    281\u001b[0m abstract_vars \u001b[38;5;241m=\u001b[39m \u001b[38;5;28mset\u001b[39m()\n\u001b[1;32m    282\u001b[0m \u001b[38;5;28;01mfor\u001b[39;00m name \u001b[38;5;129;01min\u001b[39;00m \u001b[38;5;28mcls\u001b[39m\u001b[38;5;241m.\u001b[39m__abstractvars__:  \u001b[38;5;66;03m# pyright: ignore\u001b[39;00m\n\u001b[1;32m    283\u001b[0m     \u001b[38;5;66;03m# Deliberately not doing `if name in self.__dict__` to allow for use of\u001b[39;00m\n\u001b[1;32m    284\u001b[0m     \u001b[38;5;66;03m# properties (which are actually class attributes) to override abstract\u001b[39;00m\n\u001b[1;32m    285\u001b[0m     \u001b[38;5;66;03m# instance variables.\u001b[39;00m\n",
      "File \u001b[0;32m~/GP/ICE-NODE/notebooks/mimic3_dx/../../lib/ml/dx_models.py:38\u001b[0m, in \u001b[0;36mICENODE.__init__\u001b[0;34m(self, dims, schemes, demographic_vector_config, key)\u001b[0m\n\u001b[1;32m     35\u001b[0m \u001b[38;5;28;01mdef\u001b[39;00m \u001b[38;5;21m__init__\u001b[39m(\u001b[38;5;28mself\u001b[39m, dims: ICENODEDimensions, schemes: Tuple[DatasetScheme],\n\u001b[1;32m     36\u001b[0m              demographic_vector_config: DemographicVectorConfig,\n\u001b[1;32m     37\u001b[0m              key: \u001b[38;5;124m\"\u001b[39m\u001b[38;5;124mjax.random.PRNGKey\u001b[39m\u001b[38;5;124m\"\u001b[39m):\n\u001b[0;32m---> 38\u001b[0m     \u001b[38;5;28;43mself\u001b[39;49m\u001b[38;5;241;43m.\u001b[39;49m\u001b[43m_assert_demo_dim\u001b[49m\u001b[43m(\u001b[49m\u001b[43mdims\u001b[49m\u001b[43m,\u001b[49m\u001b[43m \u001b[49m\u001b[43mschemes\u001b[49m\u001b[43m[\u001b[49m\u001b[38;5;241;43m1\u001b[39;49m\u001b[43m]\u001b[49m\u001b[43m,\u001b[49m\u001b[43m \u001b[49m\u001b[43mdemographic_vector_config\u001b[49m\u001b[43m)\u001b[49m\n\u001b[1;32m     39\u001b[0m     (emb_key, dx_dec_key, dyn_key, up_key) \u001b[38;5;241m=\u001b[39m jrandom\u001b[38;5;241m.\u001b[39msplit(key, \u001b[38;5;241m4\u001b[39m)\n\u001b[1;32m     41\u001b[0m     f_emb \u001b[38;5;241m=\u001b[39m OutpatientEmbedding(\n\u001b[1;32m     42\u001b[0m         schemes\u001b[38;5;241m=\u001b[39mschemes,\n\u001b[1;32m     43\u001b[0m         demographic_vector_config\u001b[38;5;241m=\u001b[39mdemographic_vector_config,\n\u001b[1;32m     44\u001b[0m         dims\u001b[38;5;241m=\u001b[39mdims\u001b[38;5;241m.\u001b[39memb,\n\u001b[1;32m     45\u001b[0m         key\u001b[38;5;241m=\u001b[39memb_key)\n",
      "File \u001b[0;32m~/GP/ICE-NODE/notebooks/mimic3_dx/../../lib/ml/model.py:39\u001b[0m, in \u001b[0;36mAbstractModel._assert_demo_dim\u001b[0;34m(cls, dims, scheme, demographic_vector_config)\u001b[0m\n\u001b[1;32m     33\u001b[0m \u001b[38;5;129m@classmethod\u001b[39m\n\u001b[1;32m     34\u001b[0m \u001b[38;5;28;01mdef\u001b[39;00m \u001b[38;5;21m_assert_demo_dim\u001b[39m(\u001b[38;5;28mcls\u001b[39m, dims: ModelDimensions, scheme: DatasetScheme,\n\u001b[1;32m     35\u001b[0m                     demographic_vector_config: DemographicVectorConfig):\n\u001b[1;32m     36\u001b[0m     demo_vec_dim \u001b[38;5;241m=\u001b[39m scheme\u001b[38;5;241m.\u001b[39mdemographic_vector_size(\n\u001b[1;32m     37\u001b[0m         demographic_vector_config)\n\u001b[1;32m     38\u001b[0m     \u001b[38;5;28;01massert\u001b[39;00m ((demo_vec_dim \u001b[38;5;241m==\u001b[39m \u001b[38;5;241m0\u001b[39m \u001b[38;5;129;01mand\u001b[39;00m dims\u001b[38;5;241m.\u001b[39memb\u001b[38;5;241m.\u001b[39mdemo \u001b[38;5;241m==\u001b[39m \u001b[38;5;241m0\u001b[39m) \u001b[38;5;129;01mor\u001b[39;00m\n\u001b[0;32m---> 39\u001b[0m             (demo_vec_dim \u001b[38;5;241m>\u001b[39m \u001b[38;5;241m0\u001b[39m \u001b[38;5;129;01mand\u001b[39;00m dims\u001b[38;5;241m.\u001b[39memb\u001b[38;5;241m.\u001b[39mdemo \u001b[38;5;241m>\u001b[39m \u001b[38;5;241m0\u001b[39m)), \\\n\u001b[1;32m     40\u001b[0m         \u001b[38;5;124mf\u001b[39m\u001b[38;5;124m\"\u001b[39m\u001b[38;5;124mModel dimensionality for demographic embedding size \u001b[39m\u001b[38;5;124m\"\u001b[39m\\\n\u001b[1;32m     41\u001b[0m         \u001b[38;5;124mf\u001b[39m\u001b[38;5;124m\"\u001b[39m\u001b[38;5;124m(\u001b[39m\u001b[38;5;132;01m{\u001b[39;00mdims\u001b[38;5;241m.\u001b[39memb\u001b[38;5;241m.\u001b[39mdemo\u001b[38;5;132;01m}\u001b[39;00m\u001b[38;5;124m) and input demographic vector size \u001b[39m\u001b[38;5;124m\"\u001b[39m\\\n\u001b[1;32m     42\u001b[0m         \u001b[38;5;124mf\u001b[39m\u001b[38;5;124m\"\u001b[39m\u001b[38;5;124m(\u001b[39m\u001b[38;5;132;01m{\u001b[39;00mdemo_vec_dim\u001b[38;5;132;01m}\u001b[39;00m\u001b[38;5;124m) must both be zero or non-zero.\u001b[39m\u001b[38;5;124m\"\u001b[39m\n",
      "\u001b[0;31mAssertionError\u001b[0m: Model dimensionality for demographic embedding size (5) and input demographic vector size (0) must both be zero or non-zero."
     ]
    }
   ],
   "source": [
    "emb_dims = PatientEmbeddingDimensions(dx=10, demo=5)\n",
    "key = jrandom.PRNGKey(0)\n",
    "\n",
    "def icenode_model():\n",
    "    dims = ICENODEDimensions(mem=15, emb=emb_dims)\n",
    "    return ICENODE(dims=dims, schemes=m3patients.schemes, \n",
    "                   demographic_vector_config=m3patients.demographic_vector_config,\n",
    "                   key=key)\n",
    "\n",
    "def gru_model():\n",
    "    dims = GRUDimensions(emb=PatientEmbeddingDimensions(dx=25, demo=5))\n",
    "    return GRU(dims=dims, schemes=m3patients.schemes, \n",
    "                   demographic_vector_config=m3patients.demographic_vector_config,\n",
    "                   key=key)\n",
    "\n",
    "def retain_model():\n",
    "    dims = RETAINDimensions(mem_a=25, mem_b=25, emb=emb_dims)\n",
    "    return RETAIN(dims=dims, schemes=m3patients.schemes, \n",
    "                   demographic_vector_config=m3patients.demographic_vector_config,\n",
    "                   key=key)\n",
    "\n",
    "models = {\n",
    "    'dx_icenode': icenode_model(),\n",
    "    'dx_gru': gru_model(),\n",
    "    'dx_retain': retain_model()\n",
    "}"
   ]
  },
  {
   "cell_type": "code",
   "execution_count": 21,
   "id": "72d4f9c8",
   "metadata": {},
   "outputs": [],
   "source": [
    "# res = m.batch_predict(m4inpatients.device_batch(), leave_pbar=True)"
   ]
  },
  {
   "cell_type": "code",
   "execution_count": 22,
   "id": "3658579e",
   "metadata": {
    "scrolled": true
   },
   "outputs": [],
   "source": [
    "splits = m3patients.random_splits([0.9, 0.95], \n",
    "                                    balanced='admissions')\n",
    "\n",
    "trainer = Trainer(optimizer_config=OptimizerConfig(opt='adam', lr=1e-3),\n",
    "                    reg_hyperparams=None,\n",
    "                    epochs=80,\n",
    "                    batch_size=256,\n",
    "                    dx_loss='allpairs_sigmoid_rank')\n",
    "\n",
    "warmup = WarmupConfig(epochs=0.1, \n",
    "                      batch_size=8,\n",
    "                      opt='adam', lr=1e-3, \n",
    "                      decay_rate=0.5)\n",
    "\n",
    "loss_metric =  LossMetric(m3patients, \n",
    "                          dx_loss=('softmax_bce', 'balanced_focal_softmax_bce', \n",
    "                                   'balanced_focal_bce', 'allpairs_exp_rank', 'allpairs_hard_rank', \n",
    "                                   'allpairs_sigmoid_rank'))\n",
    "\n",
    "metrics = [CodeAUC(m3patients), \n",
    "           AdmissionAUC(m3patients), \n",
    "           CodeGroupTopAlarmAccuracy(m3patients, n_partitions=5, \n",
    "                                     top_k_list=[3, 5, 10, 15, 20],\n",
    "                                     train_split=splits[0]),\n",
    "           loss_metric]\n",
    "\n",
    "\n"
   ]
  },
  {
   "cell_type": "code",
   "execution_count": 24,
   "id": "d5090a9c",
   "metadata": {
    "scrolled": false
   },
   "outputs": [
    {
     "name": "stderr",
     "output_type": "stream",
     "text": [
      "INFO:root:Warming up...\n"
     ]
    },
    {
     "data": {
      "application/json": {
       "ascii": false,
       "bar_format": null,
       "colour": null,
       "elapsed": 0.005846261978149414,
       "initial": 0,
       "n": 0,
       "ncols": null,
       "nrows": 53,
       "postfix": null,
       "prefix": "Loading to device",
       "rate": null,
       "total": 0,
       "unit": "subject",
       "unit_divisor": 1000,
       "unit_scale": false
      },
      "application/vnd.jupyter.widget-view+json": {
       "model_id": "",
       "version_major": 2,
       "version_minor": 0
      },
      "text/plain": [
       "Loading to device: 0subject [00:00, ?subject/s]"
      ]
     },
     "metadata": {},
     "output_type": "display_data"
    },
    {
     "data": {
      "application/json": {
       "ascii": false,
       "bar_format": null,
       "colour": null,
       "elapsed": 0.007028341293334961,
       "initial": 0,
       "n": 0,
       "ncols": null,
       "nrows": 53,
       "postfix": null,
       "prefix": "",
       "rate": null,
       "total": 1,
       "unit": "Epoch",
       "unit_divisor": 1000,
       "unit_scale": false
      },
      "application/vnd.jupyter.widget-view+json": {
       "model_id": "5b5b3d7c6a20461f9ce29871c15ef031",
       "version_major": 2,
       "version_minor": 0
      },
      "text/plain": [
       "  0%|          | 0/1 [00:00<?, ?Epoch/s]"
      ]
     },
     "metadata": {},
     "output_type": "display_data"
    },
    {
     "data": {
      "application/json": {
       "ascii": false,
       "bar_format": null,
       "colour": null,
       "elapsed": 0.004573822021484375,
       "initial": 0,
       "n": 0,
       "ncols": null,
       "nrows": 53,
       "postfix": null,
       "prefix": "",
       "rate": null,
       "total": 138,
       "unit": "Batch",
       "unit_divisor": 1000,
       "unit_scale": false
      },
      "application/vnd.jupyter.widget-view+json": {
       "model_id": "cdcd923cb4b64f92b134b90c9139c19c",
       "version_major": 2,
       "version_minor": 0
      },
      "text/plain": [
       "  0%|          | 0/138 [00:00<?, ?Batch/s]"
      ]
     },
     "metadata": {},
     "output_type": "display_data"
    },
    {
     "data": {
      "application/json": {
       "ascii": false,
       "bar_format": null,
       "colour": null,
       "elapsed": 0.006448030471801758,
       "initial": 0,
       "n": 0,
       "ncols": null,
       "nrows": 53,
       "postfix": null,
       "prefix": "Loading to device",
       "rate": null,
       "total": 6,
       "unit": "subject",
       "unit_divisor": 1000,
       "unit_scale": false
      },
      "application/vnd.jupyter.widget-view+json": {
       "model_id": "",
       "version_major": 2,
       "version_minor": 0
      },
      "text/plain": [
       "Loading to device:   0%|          | 0/6 [00:00<?, ?subject/s]"
      ]
     },
     "metadata": {},
     "output_type": "display_data"
    },
    {
     "data": {
      "application/json": {
       "ascii": false,
       "bar_format": null,
       "colour": null,
       "elapsed": 0.011518716812133789,
       "initial": 0,
       "n": 0,
       "ncols": null,
       "nrows": 53,
       "postfix": null,
       "prefix": "Embedding",
       "rate": null,
       "total": 6,
       "unit": "subject",
       "unit_divisor": 1000,
       "unit_scale": false
      },
      "application/vnd.jupyter.widget-view+json": {
       "model_id": "",
       "version_major": 2,
       "version_minor": 0
      },
      "text/plain": [
       "Embedding:   0%|          | 0/6 [00:00<?, ?subject/s]"
      ]
     },
     "metadata": {},
     "output_type": "display_data"
    },
    {
     "data": {
      "application/json": {
       "ascii": false,
       "bar_format": "{l_bar}{bar}| {n:.2f}/{total:.2f} [{elapsed}<{remaining}, {rate_fmt}{postfix}]",
       "colour": null,
       "elapsed": 0.009938478469848633,
       "initial": 0,
       "n": 0,
       "ncols": null,
       "nrows": 53,
       "postfix": null,
       "prefix": "",
       "rate": null,
       "total": 3790.427777777778,
       "unit": "longitudinal-days",
       "unit_divisor": 1000,
       "unit_scale": false
      },
      "application/vnd.jupyter.widget-view+json": {
       "model_id": "2abdbe2b85f0423b91c14d5f66ef2468",
       "version_major": 2,
       "version_minor": 0
      },
      "text/plain": [
       "  0%|          | 0.00/3790.43 [00:00<?, ?longitudinal-days/s]"
      ]
     },
     "metadata": {},
     "output_type": "display_data"
    },
    {
     "ename": "TypeError",
     "evalue": "dot_general requires contracting dimensions to have the same shape, got (30,) and (25,).",
     "output_type": "error",
     "traceback": [
      "\u001b[0;31m---------------------------------------------------------------------------\u001b[0m",
      "\u001b[0;31mTypeError\u001b[0m                                 Traceback (most recent call last)",
      "Cell \u001b[0;32mIn[24], line 10\u001b[0m\n\u001b[1;32m      3\u001b[0m model \u001b[38;5;241m=\u001b[39m models[name]\n\u001b[1;32m      4\u001b[0m reporting \u001b[38;5;241m=\u001b[39m TrainerReporting(output_dir\u001b[38;5;241m=\u001b[39mname,\n\u001b[1;32m      5\u001b[0m                              metrics\u001b[38;5;241m=\u001b[39mmetrics,\n\u001b[1;32m      6\u001b[0m                              console\u001b[38;5;241m=\u001b[39m\u001b[38;5;28;01mTrue\u001b[39;00m,\n\u001b[1;32m      7\u001b[0m                              model_stats\u001b[38;5;241m=\u001b[39m\u001b[38;5;28;01mFalse\u001b[39;00m,\n\u001b[1;32m      8\u001b[0m                              parameter_snapshots\u001b[38;5;241m=\u001b[39m\u001b[38;5;28;01mTrue\u001b[39;00m,\n\u001b[1;32m      9\u001b[0m                              config_json\u001b[38;5;241m=\u001b[39m\u001b[38;5;28;01mTrue\u001b[39;00m)\n\u001b[0;32m---> 10\u001b[0m res[name] \u001b[38;5;241m=\u001b[39m \u001b[43mtrainer\u001b[49m\u001b[43m(\u001b[49m\u001b[43mmodel\u001b[49m\u001b[43m,\u001b[49m\u001b[43m \u001b[49m\u001b[43mm3patients\u001b[49m\u001b[43m,\u001b[49m\u001b[43m \u001b[49m\n\u001b[1;32m     11\u001b[0m \u001b[43m              \u001b[49m\u001b[43msplits\u001b[49m\u001b[38;5;241;43m=\u001b[39;49m\u001b[43msplits\u001b[49m\u001b[43m,\u001b[49m\n\u001b[1;32m     12\u001b[0m \u001b[43m              \u001b[49m\u001b[43mreporting\u001b[49m\u001b[38;5;241;43m=\u001b[39;49m\u001b[43mreporting\u001b[49m\u001b[43m,\u001b[49m\n\u001b[1;32m     13\u001b[0m \u001b[43m              \u001b[49m\u001b[43mn_evals\u001b[49m\u001b[38;5;241;43m=\u001b[39;49m\u001b[38;5;241;43m100\u001b[39;49m\u001b[43m,\u001b[49m\n\u001b[1;32m     14\u001b[0m \u001b[43m              \u001b[49m\u001b[43mwarmup_config\u001b[49m\u001b[38;5;241;43m=\u001b[39;49m\u001b[43mwarmup\u001b[49m\u001b[43m,\u001b[49m\n\u001b[1;32m     15\u001b[0m \u001b[43m              \u001b[49m\u001b[43mcontinue_training\u001b[49m\u001b[38;5;241;43m=\u001b[39;49m\u001b[38;5;28;43;01mFalse\u001b[39;49;00m\u001b[43m)\u001b[49m\n",
      "File \u001b[0;32m~/GP/ICE-NODE/notebooks/mimic3_dx/../../lib/ml/trainer.py:581\u001b[0m, in \u001b[0;36mTrainer.__call__\u001b[0;34m(self, model, patients, splits, n_evals, reporting, warmup_config, continue_training, prng_seed, trial_terminate_time)\u001b[0m\n\u001b[1;32m    579\u001b[0m \u001b[38;5;28;01mif\u001b[39;00m warmup_config \u001b[38;5;129;01mis\u001b[39;00m \u001b[38;5;129;01mnot\u001b[39;00m \u001b[38;5;28;01mNone\u001b[39;00m:\n\u001b[1;32m    580\u001b[0m     logging\u001b[38;5;241m.\u001b[39minfo(\u001b[38;5;124m'\u001b[39m\u001b[38;5;124mWarming up...\u001b[39m\u001b[38;5;124m'\u001b[39m)\n\u001b[0;32m--> 581\u001b[0m     model \u001b[38;5;241m=\u001b[39m \u001b[38;5;28;43mself\u001b[39;49m\u001b[38;5;241;43m.\u001b[39;49m\u001b[43m_warmup\u001b[49m\u001b[43m(\u001b[49m\u001b[43mmodel\u001b[49m\u001b[38;5;241;43m=\u001b[39;49m\u001b[43mmodel\u001b[49m\u001b[43m,\u001b[49m\n\u001b[1;32m    582\u001b[0m \u001b[43m                         \u001b[49m\u001b[43mpatients\u001b[49m\u001b[38;5;241;43m=\u001b[39;49m\u001b[43mpatients\u001b[49m\u001b[43m,\u001b[49m\n\u001b[1;32m    583\u001b[0m \u001b[43m                         \u001b[49m\u001b[43msplits\u001b[49m\u001b[38;5;241;43m=\u001b[39;49m\u001b[43msplits\u001b[49m\u001b[43m,\u001b[49m\n\u001b[1;32m    584\u001b[0m \u001b[43m                         \u001b[49m\u001b[43mprng_seed\u001b[49m\u001b[38;5;241;43m=\u001b[39;49m\u001b[43mprng_seed\u001b[49m\u001b[43m,\u001b[49m\n\u001b[1;32m    585\u001b[0m \u001b[43m                         \u001b[49m\u001b[43mtrial_terminate_time\u001b[49m\u001b[38;5;241;43m=\u001b[39;49m\u001b[43mtrial_terminate_time\u001b[49m\u001b[43m,\u001b[49m\n\u001b[1;32m    586\u001b[0m \u001b[43m                         \u001b[49m\u001b[43mhistory\u001b[49m\u001b[38;5;241;43m=\u001b[39;49m\u001b[43mreporting\u001b[49m\u001b[38;5;241;43m.\u001b[39;49m\u001b[43mnew_training_history\u001b[49m\u001b[43m(\u001b[49m\u001b[43m)\u001b[49m\u001b[43m,\u001b[49m\n\u001b[1;32m    587\u001b[0m \u001b[43m                         \u001b[49m\u001b[43msignals\u001b[49m\u001b[38;5;241;43m=\u001b[39;49m\u001b[43mTrainerSignals\u001b[49m\u001b[43m(\u001b[49m\u001b[43m)\u001b[49m\u001b[43m,\u001b[49m\n\u001b[1;32m    588\u001b[0m \u001b[43m                         \u001b[49m\u001b[43mwarmup_config\u001b[49m\u001b[38;5;241;43m=\u001b[39;49m\u001b[43mwarmup_config\u001b[49m\u001b[43m)\u001b[49m\n\u001b[1;32m    589\u001b[0m     logging\u001b[38;5;241m.\u001b[39minfo(\u001b[38;5;124m'\u001b[39m\u001b[38;5;124m[DONE] Warming up.\u001b[39m\u001b[38;5;124m'\u001b[39m)\n\u001b[1;32m    591\u001b[0m \u001b[38;5;28;01mwith\u001b[39;00m contextlib\u001b[38;5;241m.\u001b[39mExitStack() \u001b[38;5;28;01mas\u001b[39;00m stack:\n",
      "File \u001b[0;32m~/GP/ICE-NODE/notebooks/mimic3_dx/../../lib/ml/trainer.py:620\u001b[0m, in \u001b[0;36mTrainer._warmup\u001b[0;34m(self, model, patients, splits, prng_seed, trial_terminate_time, history, signals, warmup_config)\u001b[0m\n\u001b[1;32m    609\u001b[0m \u001b[38;5;28;01mdef\u001b[39;00m \u001b[38;5;21m_warmup\u001b[39m(\u001b[38;5;28mself\u001b[39m, model: AbstractModel, patients: Patients,\n\u001b[1;32m    610\u001b[0m             splits: Tuple[List[\u001b[38;5;28mint\u001b[39m], \u001b[38;5;241m.\u001b[39m\u001b[38;5;241m.\u001b[39m\u001b[38;5;241m.\u001b[39m], prng_seed, trial_terminate_time,\n\u001b[1;32m    611\u001b[0m             history: TrainingHistory, signals: TrainerSignals,\n\u001b[1;32m    612\u001b[0m             warmup_config: WarmupConfig):\n\u001b[1;32m    613\u001b[0m     trainer \u001b[38;5;241m=\u001b[39m \u001b[38;5;28mtype\u001b[39m(\u001b[38;5;28mself\u001b[39m)(\n\u001b[1;32m    614\u001b[0m         optimizer_config\u001b[38;5;241m=\u001b[39mwarmup_config\u001b[38;5;241m.\u001b[39moptimizer_config,\n\u001b[1;32m    615\u001b[0m         reg_hyperparams\u001b[38;5;241m=\u001b[39m\u001b[38;5;28mself\u001b[39m\u001b[38;5;241m.\u001b[39mreg_hyperparams,\n\u001b[0;32m   (...)\u001b[0m\n\u001b[1;32m    618\u001b[0m         counts_ignore_first_admission\u001b[38;5;241m=\u001b[39mmodel\u001b[38;5;241m.\u001b[39mcounts_ignore_first_admission,\n\u001b[1;32m    619\u001b[0m         \u001b[38;5;241m*\u001b[39m\u001b[38;5;241m*\u001b[39m\u001b[38;5;28mself\u001b[39m\u001b[38;5;241m.\u001b[39mkwargs)\n\u001b[0;32m--> 620\u001b[0m     \u001b[38;5;28;01mreturn\u001b[39;00m \u001b[43mtrainer\u001b[49m\u001b[38;5;241;43m.\u001b[39;49m\u001b[43m_train\u001b[49m\u001b[43m(\u001b[49m\u001b[43mmodel\u001b[49m\u001b[38;5;241;43m=\u001b[39;49m\u001b[43mmodel\u001b[49m\u001b[43m,\u001b[49m\n\u001b[1;32m    621\u001b[0m \u001b[43m                          \u001b[49m\u001b[43mpatients\u001b[49m\u001b[38;5;241;43m=\u001b[39;49m\u001b[43mpatients\u001b[49m\u001b[43m,\u001b[49m\n\u001b[1;32m    622\u001b[0m \u001b[43m                          \u001b[49m\u001b[43msplits\u001b[49m\u001b[38;5;241;43m=\u001b[39;49m\u001b[43m(\u001b[49m\u001b[43msplits\u001b[49m\u001b[43m[\u001b[49m\u001b[38;5;241;43m0\u001b[39;49m\u001b[43m]\u001b[49m\u001b[43m,\u001b[49m\u001b[43m \u001b[49m\u001b[43m[\u001b[49m\u001b[43m]\u001b[49m\u001b[43m,\u001b[49m\u001b[43m \u001b[49m\u001b[43m[\u001b[49m\u001b[43m]\u001b[49m\u001b[43m)\u001b[49m\u001b[43m,\u001b[49m\n\u001b[1;32m    623\u001b[0m \u001b[43m                          \u001b[49m\u001b[43mn_evals\u001b[49m\u001b[38;5;241;43m=\u001b[39;49m\u001b[38;5;241;43m0\u001b[39;49m\u001b[43m,\u001b[49m\n\u001b[1;32m    624\u001b[0m \u001b[43m                          \u001b[49m\u001b[43mcontinue_training\u001b[49m\u001b[38;5;241;43m=\u001b[39;49m\u001b[38;5;28;43;01mFalse\u001b[39;49;00m\u001b[43m,\u001b[49m\n\u001b[1;32m    625\u001b[0m \u001b[43m                          \u001b[49m\u001b[43mprng_seed\u001b[49m\u001b[38;5;241;43m=\u001b[39;49m\u001b[43mprng_seed\u001b[49m\u001b[43m,\u001b[49m\n\u001b[1;32m    626\u001b[0m \u001b[43m                          \u001b[49m\u001b[43mtrial_terminate_time\u001b[49m\u001b[38;5;241;43m=\u001b[39;49m\u001b[43mtrial_terminate_time\u001b[49m\u001b[43m,\u001b[49m\n\u001b[1;32m    627\u001b[0m \u001b[43m                          \u001b[49m\u001b[43mhistory\u001b[49m\u001b[38;5;241;43m=\u001b[39;49m\u001b[43mhistory\u001b[49m\u001b[43m,\u001b[49m\n\u001b[1;32m    628\u001b[0m \u001b[43m                          \u001b[49m\u001b[43msignals\u001b[49m\u001b[38;5;241;43m=\u001b[39;49m\u001b[43msignals\u001b[49m\u001b[43m)\u001b[49m\n",
      "File \u001b[0;32m~/GP/ICE-NODE/notebooks/mimic3_dx/../../lib/ml/trainer.py:694\u001b[0m, in \u001b[0;36mTrainer._train\u001b[0;34m(self, model, patients, splits, n_evals, continue_training, prng_seed, trial_terminate_time, history, signals)\u001b[0m\n\u001b[1;32m    692\u001b[0m     \u001b[38;5;28;01mcontinue\u001b[39;00m\n\u001b[1;32m    693\u001b[0m \u001b[38;5;28;01mtry\u001b[39;00m:\n\u001b[0;32m--> 694\u001b[0m     optimizer, model, loss_val \u001b[38;5;241m=\u001b[39m \u001b[38;5;28;43mself\u001b[39;49m\u001b[38;5;241;43m.\u001b[39;49m\u001b[43mstep_optimizer\u001b[49m\u001b[43m(\u001b[49m\n\u001b[1;32m    695\u001b[0m \u001b[43m        \u001b[49m\u001b[43mstep\u001b[49m\u001b[43m,\u001b[49m\u001b[43m \u001b[49m\u001b[43moptimizer\u001b[49m\u001b[43m,\u001b[49m\u001b[43m \u001b[49m\u001b[43mmodel\u001b[49m\u001b[43m,\u001b[49m\u001b[43m \u001b[49m\u001b[43mbatch\u001b[49m\u001b[43m)\u001b[49m\n\u001b[1;32m    696\u001b[0m     batch_gen\u001b[38;5;241m.\u001b[39mset_description(\u001b[38;5;124mf\u001b[39m\u001b[38;5;124m'\u001b[39m\u001b[38;5;124mLoss: \u001b[39m\u001b[38;5;132;01m{\u001b[39;00mloss_val\u001b[38;5;132;01m:\u001b[39;00m\u001b[38;5;124m.4E\u001b[39m\u001b[38;5;132;01m}\u001b[39;00m\u001b[38;5;124m'\u001b[39m)\n\u001b[1;32m    697\u001b[0m     signals\u001b[38;5;241m.\u001b[39mmodel_updated\u001b[38;5;241m.\u001b[39msend(\u001b[38;5;28mself\u001b[39m,\n\u001b[1;32m    698\u001b[0m                                model\u001b[38;5;241m=\u001b[39mmodel,\n\u001b[1;32m    699\u001b[0m                                history\u001b[38;5;241m=\u001b[39mhistory,\n\u001b[1;32m    700\u001b[0m                                step\u001b[38;5;241m=\u001b[39mstep,\n\u001b[1;32m    701\u001b[0m                                loss_val\u001b[38;5;241m=\u001b[39mloss_val)\n",
      "File \u001b[0;32m~/GP/ICE-NODE/notebooks/mimic3_dx/../../lib/ml/trainer.py:554\u001b[0m, in \u001b[0;36mTrainer.step_optimizer\u001b[0;34m(self, step, optimizer, model, patients)\u001b[0m\n\u001b[1;32m    551\u001b[0m \u001b[38;5;28;01mdef\u001b[39;00m \u001b[38;5;21mstep_optimizer\u001b[39m(\u001b[38;5;28mself\u001b[39m, step: \u001b[38;5;28mint\u001b[39m, optimizer: Optimizer,\n\u001b[1;32m    552\u001b[0m                    model: AbstractModel, patients: Patients):\n\u001b[1;32m    553\u001b[0m     grad_f \u001b[38;5;241m=\u001b[39m eqx\u001b[38;5;241m.\u001b[39mfilter_value_and_grad(\u001b[38;5;28mself\u001b[39m\u001b[38;5;241m.\u001b[39mloss)\n\u001b[0;32m--> 554\u001b[0m     value, grads \u001b[38;5;241m=\u001b[39m \u001b[43mgrad_f\u001b[49m\u001b[43m(\u001b[49m\u001b[43mmodel\u001b[49m\u001b[43m,\u001b[49m\u001b[43m \u001b[49m\u001b[43mpatients\u001b[49m\u001b[43m)\u001b[49m\n\u001b[1;32m    555\u001b[0m     optimizer \u001b[38;5;241m=\u001b[39m optimizer\u001b[38;5;241m.\u001b[39mstep(step, grads)\n\u001b[1;32m    556\u001b[0m     new_model \u001b[38;5;241m=\u001b[39m optimizer(model)\n",
      "File \u001b[0;32m~/GP/env/icenode-dev/lib/python3.10/site-packages/equinox/_ad.py:64\u001b[0m, in \u001b[0;36m_ValueAndGradWrapper.__call__\u001b[0;34m(self, x, *args, **kwargs)\u001b[0m\n\u001b[1;32m     61\u001b[0m     \u001b[38;5;28;01mreturn\u001b[39;00m \u001b[38;5;28mself\u001b[39m\u001b[38;5;241m.\u001b[39m_fun(_x, \u001b[38;5;241m*\u001b[39m_args, \u001b[38;5;241m*\u001b[39m\u001b[38;5;241m*\u001b[39m_kwargs)\n\u001b[1;32m     63\u001b[0m diff_x, nondiff_x \u001b[38;5;241m=\u001b[39m partition(x, is_inexact_array)\n\u001b[0;32m---> 64\u001b[0m \u001b[38;5;28;01mreturn\u001b[39;00m \u001b[43mfun_value_and_grad\u001b[49m\u001b[43m(\u001b[49m\u001b[43mdiff_x\u001b[49m\u001b[43m,\u001b[49m\u001b[43m \u001b[49m\u001b[43mnondiff_x\u001b[49m\u001b[43m,\u001b[49m\u001b[43m \u001b[49m\u001b[38;5;241;43m*\u001b[39;49m\u001b[43margs\u001b[49m\u001b[43m,\u001b[49m\u001b[43m \u001b[49m\u001b[38;5;241;43m*\u001b[39;49m\u001b[38;5;241;43m*\u001b[39;49m\u001b[43mkwargs\u001b[49m\u001b[43m)\u001b[49m\n",
      "    \u001b[0;31m[... skipping hidden 9 frame]\u001b[0m\n",
      "File \u001b[0;32m~/GP/ICE-NODE/notebooks/mimic3_dx/../../lib/ml/trainer.py:544\u001b[0m, in \u001b[0;36mTrainer.loss\u001b[0;34m(self, model, patients)\u001b[0m\n\u001b[1;32m    542\u001b[0m \u001b[38;5;28;01mdef\u001b[39;00m \u001b[38;5;21mloss\u001b[39m(\u001b[38;5;28mself\u001b[39m, model: AbstractModel, patients: Patients):\n\u001b[1;32m    543\u001b[0m     \u001b[38;5;28;01mif\u001b[39;00m \u001b[38;5;28mself\u001b[39m\u001b[38;5;241m.\u001b[39mreg_hyperparams \u001b[38;5;129;01mis\u001b[39;00m \u001b[38;5;28;01mNone\u001b[39;00m:\n\u001b[0;32m--> 544\u001b[0m         \u001b[38;5;28;01mreturn\u001b[39;00m \u001b[38;5;28;43mself\u001b[39;49m\u001b[38;5;241;43m.\u001b[39;49m\u001b[43munreg_loss\u001b[49m\u001b[43m(\u001b[49m\u001b[43mmodel\u001b[49m\u001b[43m,\u001b[49m\u001b[43m \u001b[49m\u001b[43mpatients\u001b[49m\u001b[43m)\u001b[49m\n\u001b[1;32m    545\u001b[0m     \u001b[38;5;28;01melse\u001b[39;00m:\n\u001b[1;32m    546\u001b[0m         \u001b[38;5;28;01mreturn\u001b[39;00m \u001b[38;5;28mself\u001b[39m\u001b[38;5;241m.\u001b[39mreg_loss(model, patients)\n",
      "File \u001b[0;32m~/GP/ICE-NODE/notebooks/mimic3_dx/../../lib/ml/trainer.py:527\u001b[0m, in \u001b[0;36mTrainer.unreg_loss\u001b[0;34m(self, model, patients)\u001b[0m\n\u001b[1;32m    526\u001b[0m \u001b[38;5;28;01mdef\u001b[39;00m \u001b[38;5;21munreg_loss\u001b[39m(\u001b[38;5;28mself\u001b[39m, model: AbstractModel, patients: Patients):\n\u001b[0;32m--> 527\u001b[0m     predictions \u001b[38;5;241m=\u001b[39m \u001b[43mmodel\u001b[49m\u001b[38;5;241;43m.\u001b[39;49m\u001b[43mbatch_predict\u001b[49m\u001b[43m(\u001b[49m\u001b[43mpatients\u001b[49m\u001b[43m,\u001b[49m\u001b[43m \u001b[49m\u001b[43mleave_pbar\u001b[49m\u001b[38;5;241;43m=\u001b[39;49m\u001b[38;5;28;43;01mFalse\u001b[39;49;00m\u001b[43m)\u001b[49m\n\u001b[1;32m    528\u001b[0m     \u001b[38;5;28;01mreturn\u001b[39;00m predictions\u001b[38;5;241m.\u001b[39mprediction_dx_loss(dx_loss\u001b[38;5;241m=\u001b[39m\u001b[38;5;28mself\u001b[39m\u001b[38;5;241m.\u001b[39mdx_loss)\n",
      "File \u001b[0;32m~/GP/ICE-NODE/notebooks/mimic3_dx/../../lib/ml/model.py:206\u001b[0m, in \u001b[0;36mOutpatientModel.batch_predict\u001b[0;34m(self, inpatients, leave_pbar)\u001b[0m\n\u001b[1;32m    204\u001b[0m inpatient \u001b[38;5;241m=\u001b[39m inpatients\u001b[38;5;241m.\u001b[39msubjects[subject_id]\n\u001b[1;32m    205\u001b[0m embedded_admissions \u001b[38;5;241m=\u001b[39m inpatients_emb[subject_id]\n\u001b[0;32m--> 206\u001b[0m \u001b[38;5;28;01mfor\u001b[39;00m pred \u001b[38;5;129;01min\u001b[39;00m \u001b[38;5;28;43mself\u001b[39;49m\u001b[43m(\u001b[49m\u001b[43minpatient\u001b[49m\u001b[43m,\u001b[49m\u001b[43m \u001b[49m\u001b[43membedded_admissions\u001b[49m\u001b[43m)\u001b[49m:\n\u001b[1;32m    207\u001b[0m     results\u001b[38;5;241m.\u001b[39madd(subject_id\u001b[38;5;241m=\u001b[39msubject_id, prediction\u001b[38;5;241m=\u001b[39mpred)\n\u001b[1;32m    208\u001b[0m pbar\u001b[38;5;241m.\u001b[39mupdate(inpatient\u001b[38;5;241m.\u001b[39md2d_interval_days)\n",
      "File \u001b[0;32m~/GP/ICE-NODE/notebooks/mimic3_dx/../../lib/ml/dx_models.py:121\u001b[0m, in \u001b[0;36mICENODE.__call__\u001b[0;34m(self, patient, embedded_admissions)\u001b[0m\n\u001b[1;32m    118\u001b[0m delta_disch2disch \u001b[38;5;241m=\u001b[39m jnp\u001b[38;5;241m.\u001b[39marray(dt)\n\u001b[1;32m    120\u001b[0m demo_e \u001b[38;5;241m=\u001b[39m embedded_admissions[i \u001b[38;5;241m-\u001b[39m \u001b[38;5;241m1\u001b[39m]\u001b[38;5;241m.\u001b[39mdemo\n\u001b[0;32m--> 121\u001b[0m state \u001b[38;5;241m=\u001b[39m \u001b[38;5;28;43mself\u001b[39;49m\u001b[38;5;241;43m.\u001b[39;49m\u001b[43m_integrate\u001b[49m\u001b[43m(\u001b[49m\u001b[43mstate\u001b[49m\u001b[43m,\u001b[49m\u001b[43m \u001b[49m\u001b[43mdelta_disch2disch\u001b[49m\u001b[43m,\u001b[49m\u001b[43m \u001b[49m\u001b[43mdemo_e\u001b[49m\u001b[43m)\u001b[49m\n\u001b[1;32m    122\u001b[0m mem, dx_e_hat \u001b[38;5;241m=\u001b[39m \u001b[38;5;28mself\u001b[39m\u001b[38;5;241m.\u001b[39msplit_state_emb(state)\n\u001b[1;32m    124\u001b[0m \u001b[38;5;66;03m# Predict\u001b[39;00m\n",
      "File \u001b[0;32m~/GP/env/icenode-dev/lib/python3.10/site-packages/equinox/_module.py:522\u001b[0m, in \u001b[0;36mPartial.__call__\u001b[0;34m(self, *args, **kwargs)\u001b[0m\n\u001b[1;32m    509\u001b[0m \u001b[38;5;28;01mdef\u001b[39;00m \u001b[38;5;21m__call__\u001b[39m(\u001b[38;5;28mself\u001b[39m, \u001b[38;5;241m*\u001b[39margs, \u001b[38;5;241m*\u001b[39m\u001b[38;5;241m*\u001b[39mkwargs):\n\u001b[1;32m    510\u001b[0m \u001b[38;5;250m    \u001b[39m\u001b[38;5;124;03m\"\"\"Call the wrapped `self.func`.\u001b[39;00m\n\u001b[1;32m    511\u001b[0m \n\u001b[1;32m    512\u001b[0m \u001b[38;5;124;03m    **Arguments:**\u001b[39;00m\n\u001b[0;32m   (...)\u001b[0m\n\u001b[1;32m    520\u001b[0m \u001b[38;5;124;03m    The result of the wrapped function.\u001b[39;00m\n\u001b[1;32m    521\u001b[0m \u001b[38;5;124;03m    \"\"\"\u001b[39;00m\n\u001b[0;32m--> 522\u001b[0m     \u001b[38;5;28;01mreturn\u001b[39;00m \u001b[38;5;28;43mself\u001b[39;49m\u001b[38;5;241;43m.\u001b[39;49m\u001b[43mfunc\u001b[49m\u001b[43m(\u001b[49m\u001b[38;5;241;43m*\u001b[39;49m\u001b[38;5;28;43mself\u001b[39;49m\u001b[38;5;241;43m.\u001b[39;49m\u001b[43margs\u001b[49m\u001b[43m,\u001b[49m\u001b[43m \u001b[49m\u001b[38;5;241;43m*\u001b[39;49m\u001b[43margs\u001b[49m\u001b[43m,\u001b[49m\u001b[43m \u001b[49m\u001b[38;5;241;43m*\u001b[39;49m\u001b[38;5;241;43m*\u001b[39;49m\u001b[43mkwargs\u001b[49m\u001b[43m,\u001b[49m\u001b[43m \u001b[49m\u001b[38;5;241;43m*\u001b[39;49m\u001b[38;5;241;43m*\u001b[39;49m\u001b[38;5;28;43mself\u001b[39;49m\u001b[38;5;241;43m.\u001b[39;49m\u001b[43mkeywords\u001b[49m\u001b[43m)\u001b[49m\n",
      "    \u001b[0;31m[... skipping hidden 15 frame]\u001b[0m\n",
      "File \u001b[0;32m~/GP/ICE-NODE/notebooks/mimic3_dx/../../lib/ml/dx_models.py:84\u001b[0m, in \u001b[0;36mICENODE._integrate\u001b[0;34m(self, state, delta, ctrl)\u001b[0m\n\u001b[1;32m     82\u001b[0m second \u001b[38;5;241m=\u001b[39m jnp\u001b[38;5;241m.\u001b[39marray(\u001b[38;5;241m1\u001b[39m \u001b[38;5;241m/\u001b[39m (\u001b[38;5;241m3600.0\u001b[39m \u001b[38;5;241m*\u001b[39m \u001b[38;5;241m24.0\u001b[39m))\n\u001b[1;32m     83\u001b[0m delta \u001b[38;5;241m=\u001b[39m jnp\u001b[38;5;241m.\u001b[39mwhere((delta \u001b[38;5;241m<\u001b[39m second) \u001b[38;5;241m&\u001b[39m (delta \u001b[38;5;241m>\u001b[39m\u001b[38;5;241m=\u001b[39m \u001b[38;5;241m0.0\u001b[39m), second, delta)\n\u001b[0;32m---> 84\u001b[0m \u001b[38;5;28;01mreturn\u001b[39;00m \u001b[38;5;28;43mself\u001b[39;49m\u001b[38;5;241;43m.\u001b[39;49m\u001b[43mf_dyn\u001b[49m\u001b[43m(\u001b[49m\u001b[43mdelta\u001b[49m\u001b[43m,\u001b[49m\u001b[43m \u001b[49m\u001b[43mstate\u001b[49m\u001b[43m,\u001b[49m\u001b[43m \u001b[49m\u001b[43margs\u001b[49m\u001b[38;5;241;43m=\u001b[39;49m\u001b[38;5;28;43mdict\u001b[39;49m\u001b[43m(\u001b[49m\u001b[43mcontrol\u001b[49m\u001b[38;5;241;43m=\u001b[39;49m\u001b[43mctrl\u001b[49m\u001b[43m)\u001b[49m\u001b[43m)\u001b[49m[\u001b[38;5;241m-\u001b[39m\u001b[38;5;241m1\u001b[39m]\n",
      "File \u001b[0;32m~/GP/env/icenode-dev/lib/python3.10/site-packages/equinox/_module.py:522\u001b[0m, in \u001b[0;36mPartial.__call__\u001b[0;34m(self, *args, **kwargs)\u001b[0m\n\u001b[1;32m    509\u001b[0m \u001b[38;5;28;01mdef\u001b[39;00m \u001b[38;5;21m__call__\u001b[39m(\u001b[38;5;28mself\u001b[39m, \u001b[38;5;241m*\u001b[39margs, \u001b[38;5;241m*\u001b[39m\u001b[38;5;241m*\u001b[39mkwargs):\n\u001b[1;32m    510\u001b[0m \u001b[38;5;250m    \u001b[39m\u001b[38;5;124;03m\"\"\"Call the wrapped `self.func`.\u001b[39;00m\n\u001b[1;32m    511\u001b[0m \n\u001b[1;32m    512\u001b[0m \u001b[38;5;124;03m    **Arguments:**\u001b[39;00m\n\u001b[0;32m   (...)\u001b[0m\n\u001b[1;32m    520\u001b[0m \u001b[38;5;124;03m    The result of the wrapped function.\u001b[39;00m\n\u001b[1;32m    521\u001b[0m \u001b[38;5;124;03m    \"\"\"\u001b[39;00m\n\u001b[0;32m--> 522\u001b[0m     \u001b[38;5;28;01mreturn\u001b[39;00m \u001b[38;5;28;43mself\u001b[39;49m\u001b[38;5;241;43m.\u001b[39;49m\u001b[43mfunc\u001b[49m\u001b[43m(\u001b[49m\u001b[38;5;241;43m*\u001b[39;49m\u001b[38;5;28;43mself\u001b[39;49m\u001b[38;5;241;43m.\u001b[39;49m\u001b[43margs\u001b[49m\u001b[43m,\u001b[49m\u001b[43m \u001b[49m\u001b[38;5;241;43m*\u001b[39;49m\u001b[43margs\u001b[49m\u001b[43m,\u001b[49m\u001b[43m \u001b[49m\u001b[38;5;241;43m*\u001b[39;49m\u001b[38;5;241;43m*\u001b[39;49m\u001b[43mkwargs\u001b[49m\u001b[43m,\u001b[49m\u001b[43m \u001b[49m\u001b[38;5;241;43m*\u001b[39;49m\u001b[38;5;241;43m*\u001b[39;49m\u001b[38;5;28;43mself\u001b[39;49m\u001b[38;5;241;43m.\u001b[39;49m\u001b[43mkeywords\u001b[49m\u001b[43m)\u001b[49m\n",
      "    \u001b[0;31m[... skipping hidden 15 frame]\u001b[0m\n",
      "File \u001b[0;32m~/GP/ICE-NODE/notebooks/mimic3_dx/../../lib/ml/base_models.py:164\u001b[0m, in \u001b[0;36mNeuralODE_JAX.__call__\u001b[0;34m(self, t, x, args)\u001b[0m\n\u001b[1;32m    162\u001b[0m     t \u001b[38;5;241m=\u001b[39m jnp\u001b[38;5;241m.\u001b[39marray([\u001b[38;5;241m0.0\u001b[39m, t \u001b[38;5;241m/\u001b[39m \u001b[38;5;28mself\u001b[39m\u001b[38;5;241m.\u001b[39mtimescale])\n\u001b[1;32m    163\u001b[0m term \u001b[38;5;241m=\u001b[39m \u001b[38;5;28mself\u001b[39m\u001b[38;5;241m.\u001b[39mode_term(args)\n\u001b[0;32m--> 164\u001b[0m \u001b[38;5;28;01mreturn\u001b[39;00m \u001b[43modeint\u001b[49m\u001b[43m(\u001b[49m\u001b[43mterm\u001b[49m\u001b[43m,\u001b[49m\u001b[43m \u001b[49m\u001b[43mx0\u001b[49m\u001b[43m,\u001b[49m\u001b[43m \u001b[49m\u001b[43mt\u001b[49m\u001b[43m,\u001b[49m\u001b[43m \u001b[49m\u001b[38;5;28;43mdict\u001b[39;49m\u001b[43m(\u001b[49m\u001b[43mcontrol\u001b[49m\u001b[38;5;241;43m=\u001b[39;49m\u001b[43margs\u001b[49m\u001b[38;5;241;43m.\u001b[39;49m\u001b[43mget\u001b[49m\u001b[43m(\u001b[49m\u001b[38;5;124;43m'\u001b[39;49m\u001b[38;5;124;43mcontrol\u001b[39;49m\u001b[38;5;124;43m'\u001b[39;49m\u001b[43m)\u001b[49m\u001b[43m)\u001b[49m\u001b[43m)\u001b[49m\n",
      "File \u001b[0;32m~/GP/env/icenode-dev/lib/python3.10/site-packages/jax/experimental/ode.py:178\u001b[0m, in \u001b[0;36modeint\u001b[0;34m(func, y0, t, rtol, atol, mxstep, hmax, *args)\u001b[0m\n\u001b[1;32m    175\u001b[0m \u001b[38;5;28;01mif\u001b[39;00m \u001b[38;5;129;01mnot\u001b[39;00m jnp\u001b[38;5;241m.\u001b[39missubdtype(t\u001b[38;5;241m.\u001b[39mdtype, jnp\u001b[38;5;241m.\u001b[39mfloating):\n\u001b[1;32m    176\u001b[0m   \u001b[38;5;28;01mraise\u001b[39;00m \u001b[38;5;167;01mTypeError\u001b[39;00m(\u001b[38;5;124mf\u001b[39m\u001b[38;5;124m\"\u001b[39m\u001b[38;5;124mt must be an array of floats, but got \u001b[39m\u001b[38;5;132;01m{\u001b[39;00mt\u001b[38;5;132;01m}\u001b[39;00m\u001b[38;5;124m.\u001b[39m\u001b[38;5;124m\"\u001b[39m)\n\u001b[0;32m--> 178\u001b[0m converted, consts \u001b[38;5;241m=\u001b[39m \u001b[43mcustom_derivatives\u001b[49m\u001b[38;5;241;43m.\u001b[39;49m\u001b[43mclosure_convert\u001b[49m\u001b[43m(\u001b[49m\u001b[43mfunc\u001b[49m\u001b[43m,\u001b[49m\u001b[43m \u001b[49m\u001b[43my0\u001b[49m\u001b[43m,\u001b[49m\u001b[43m \u001b[49m\u001b[43mt\u001b[49m\u001b[43m[\u001b[49m\u001b[38;5;241;43m0\u001b[39;49m\u001b[43m]\u001b[49m\u001b[43m,\u001b[49m\u001b[43m \u001b[49m\u001b[38;5;241;43m*\u001b[39;49m\u001b[43margs\u001b[49m\u001b[43m)\u001b[49m\n\u001b[1;32m    179\u001b[0m \u001b[38;5;28;01mreturn\u001b[39;00m _odeint_wrapper(converted, rtol, atol, mxstep, hmax, y0, t, \u001b[38;5;241m*\u001b[39margs, \u001b[38;5;241m*\u001b[39mconsts)\n",
      "    \u001b[0;31m[... skipping hidden 8 frame]\u001b[0m\n",
      "File \u001b[0;32m~/GP/ICE-NODE/notebooks/mimic3_dx/../../lib/ml/base_models.py:178\u001b[0m, in \u001b[0;36mNeuralODE_JAX.ode_term.<locals>.<lambda>\u001b[0;34m(x, t, args)\u001b[0m\n\u001b[1;32m    176\u001b[0m \u001b[38;5;28;01mif\u001b[39;00m args\u001b[38;5;241m.\u001b[39mget(\u001b[38;5;124m'\u001b[39m\u001b[38;5;124mtay_reg\u001b[39m\u001b[38;5;124m'\u001b[39m, \u001b[38;5;241m0\u001b[39m) \u001b[38;5;241m>\u001b[39m \u001b[38;5;241m0\u001b[39m:\n\u001b[1;32m    177\u001b[0m     term \u001b[38;5;241m=\u001b[39m TaylorAugmented(term, args[\u001b[38;5;124m'\u001b[39m\u001b[38;5;124mtay_reg\u001b[39m\u001b[38;5;124m'\u001b[39m])\n\u001b[0;32m--> 178\u001b[0m \u001b[38;5;28;01mreturn\u001b[39;00m \u001b[38;5;28;01mlambda\u001b[39;00m x, t, args: \u001b[43mterm\u001b[49m\u001b[43m(\u001b[49m\u001b[43mt\u001b[49m\u001b[43m,\u001b[49m\u001b[43m \u001b[49m\u001b[43mx\u001b[49m\u001b[43m,\u001b[49m\u001b[43m \u001b[49m\u001b[43margs\u001b[49m\u001b[43m)\u001b[49m\n",
      "File \u001b[0;32m~/GP/ICE-NODE/notebooks/mimic3_dx/../../lib/ml/base_models.py:147\u001b[0m, in \u001b[0;36mVectorField.__call__\u001b[0;34m(self, t, x, args)\u001b[0m\n\u001b[1;32m    146\u001b[0m \u001b[38;5;28;01mdef\u001b[39;00m \u001b[38;5;21m__call__\u001b[39m(\u001b[38;5;28mself\u001b[39m, t, x, args):\n\u001b[0;32m--> 147\u001b[0m     \u001b[38;5;28;01mreturn\u001b[39;00m \u001b[38;5;28;43mself\u001b[39;49m\u001b[38;5;241;43m.\u001b[39;49m\u001b[43mf_dyn\u001b[49m\u001b[43m(\u001b[49m\u001b[43mx\u001b[49m\u001b[43m)\u001b[49m\n",
      "File \u001b[0;32m~/GP/env/icenode-dev/lib/python3.10/site-packages/equinox/nn/_composed.py:118\u001b[0m, in \u001b[0;36mMLP.__call__\u001b[0;34m(self, x, key)\u001b[0m\n\u001b[1;32m    106\u001b[0m \u001b[38;5;250m\u001b[39m\u001b[38;5;124;03m\"\"\"**Arguments:**\u001b[39;00m\n\u001b[1;32m    107\u001b[0m \n\u001b[1;32m    108\u001b[0m \u001b[38;5;124;03m- `x`: A JAX array with shape `(in_size,)`. (Or shape `()` if\u001b[39;00m\n\u001b[0;32m   (...)\u001b[0m\n\u001b[1;32m    115\u001b[0m \u001b[38;5;124;03mA JAX array with shape `(out_size,)`. (Or shape `()` if `out_size=\"scalar\"`.)\u001b[39;00m\n\u001b[1;32m    116\u001b[0m \u001b[38;5;124;03m\"\"\"\u001b[39;00m\n\u001b[1;32m    117\u001b[0m \u001b[38;5;28;01mfor\u001b[39;00m layer \u001b[38;5;129;01min\u001b[39;00m \u001b[38;5;28mself\u001b[39m\u001b[38;5;241m.\u001b[39mlayers[:\u001b[38;5;241m-\u001b[39m\u001b[38;5;241m1\u001b[39m]:\n\u001b[0;32m--> 118\u001b[0m     x \u001b[38;5;241m=\u001b[39m \u001b[43mlayer\u001b[49m\u001b[43m(\u001b[49m\u001b[43mx\u001b[49m\u001b[43m)\u001b[49m\n\u001b[1;32m    119\u001b[0m     x \u001b[38;5;241m=\u001b[39m \u001b[38;5;28mself\u001b[39m\u001b[38;5;241m.\u001b[39mactivation(x)\n\u001b[1;32m    120\u001b[0m x \u001b[38;5;241m=\u001b[39m \u001b[38;5;28mself\u001b[39m\u001b[38;5;241m.\u001b[39mlayers[\u001b[38;5;241m-\u001b[39m\u001b[38;5;241m1\u001b[39m](x)\n",
      "File \u001b[0;32m~/GP/env/icenode-dev/lib/python3.10/site-packages/equinox/nn/_linear.py:90\u001b[0m, in \u001b[0;36mLinear.__call__\u001b[0;34m(self, x, key)\u001b[0m\n\u001b[1;32m     88\u001b[0m         \u001b[38;5;28;01mraise\u001b[39;00m \u001b[38;5;167;01mValueError\u001b[39;00m(\u001b[38;5;124m\"\u001b[39m\u001b[38;5;124mx must have scalar shape\u001b[39m\u001b[38;5;124m\"\u001b[39m)\n\u001b[1;32m     89\u001b[0m     x \u001b[38;5;241m=\u001b[39m jnp\u001b[38;5;241m.\u001b[39mbroadcast_to(x, (\u001b[38;5;241m1\u001b[39m,))\n\u001b[0;32m---> 90\u001b[0m x \u001b[38;5;241m=\u001b[39m \u001b[38;5;28;43mself\u001b[39;49m\u001b[38;5;241;43m.\u001b[39;49m\u001b[43mweight\u001b[49m\u001b[43m \u001b[49m\u001b[38;5;241;43m@\u001b[39;49m\u001b[43m \u001b[49m\u001b[43mx\u001b[49m\n\u001b[1;32m     91\u001b[0m \u001b[38;5;28;01mif\u001b[39;00m \u001b[38;5;28mself\u001b[39m\u001b[38;5;241m.\u001b[39mbias \u001b[38;5;129;01mis\u001b[39;00m \u001b[38;5;129;01mnot\u001b[39;00m \u001b[38;5;28;01mNone\u001b[39;00m:\n\u001b[1;32m     92\u001b[0m     x \u001b[38;5;241m=\u001b[39m x \u001b[38;5;241m+\u001b[39m \u001b[38;5;28mself\u001b[39m\u001b[38;5;241m.\u001b[39mbias\n",
      "File \u001b[0;32m~/GP/env/icenode-dev/lib/python3.10/site-packages/jax/_src/numpy/array_methods.py:723\u001b[0m, in \u001b[0;36m_forward_operator_to_aval.<locals>.op\u001b[0;34m(self, *args)\u001b[0m\n\u001b[1;32m    722\u001b[0m \u001b[38;5;28;01mdef\u001b[39;00m \u001b[38;5;21mop\u001b[39m(\u001b[38;5;28mself\u001b[39m, \u001b[38;5;241m*\u001b[39margs):\n\u001b[0;32m--> 723\u001b[0m   \u001b[38;5;28;01mreturn\u001b[39;00m \u001b[38;5;28;43mgetattr\u001b[39;49m\u001b[43m(\u001b[49m\u001b[38;5;28;43mself\u001b[39;49m\u001b[38;5;241;43m.\u001b[39;49m\u001b[43maval\u001b[49m\u001b[43m,\u001b[49m\u001b[43m \u001b[49m\u001b[38;5;124;43mf\u001b[39;49m\u001b[38;5;124;43m\"\u001b[39;49m\u001b[38;5;124;43m_\u001b[39;49m\u001b[38;5;132;43;01m{\u001b[39;49;00m\u001b[43mname\u001b[49m\u001b[38;5;132;43;01m}\u001b[39;49;00m\u001b[38;5;124;43m\"\u001b[39;49m\u001b[43m)\u001b[49m\u001b[43m(\u001b[49m\u001b[38;5;28;43mself\u001b[39;49m\u001b[43m,\u001b[49m\u001b[43m \u001b[49m\u001b[38;5;241;43m*\u001b[39;49m\u001b[43margs\u001b[49m\u001b[43m)\u001b[49m\n",
      "File \u001b[0;32m~/GP/env/icenode-dev/lib/python3.10/site-packages/jax/_src/numpy/array_methods.py:256\u001b[0m, in \u001b[0;36m_defer_to_unrecognized_arg.<locals>.deferring_binary_op\u001b[0;34m(self, other)\u001b[0m\n\u001b[1;32m    254\u001b[0m args \u001b[38;5;241m=\u001b[39m (other, \u001b[38;5;28mself\u001b[39m) \u001b[38;5;28;01mif\u001b[39;00m swap \u001b[38;5;28;01melse\u001b[39;00m (\u001b[38;5;28mself\u001b[39m, other)\n\u001b[1;32m    255\u001b[0m \u001b[38;5;28;01mif\u001b[39;00m \u001b[38;5;28misinstance\u001b[39m(other, _accepted_binop_types):\n\u001b[0;32m--> 256\u001b[0m   \u001b[38;5;28;01mreturn\u001b[39;00m \u001b[43mbinary_op\u001b[49m\u001b[43m(\u001b[49m\u001b[38;5;241;43m*\u001b[39;49m\u001b[43margs\u001b[49m\u001b[43m)\u001b[49m\n\u001b[1;32m    257\u001b[0m \u001b[38;5;28;01mif\u001b[39;00m \u001b[38;5;28misinstance\u001b[39m(other, _rejected_binop_types):\n\u001b[1;32m    258\u001b[0m   \u001b[38;5;28;01mraise\u001b[39;00m \u001b[38;5;167;01mTypeError\u001b[39;00m(\u001b[38;5;124mf\u001b[39m\u001b[38;5;124m\"\u001b[39m\u001b[38;5;124munsupported operand type(s) for \u001b[39m\u001b[38;5;132;01m{\u001b[39;00mopchar\u001b[38;5;132;01m}\u001b[39;00m\u001b[38;5;124m: \u001b[39m\u001b[38;5;124m\"\u001b[39m\n\u001b[1;32m    259\u001b[0m                   \u001b[38;5;124mf\u001b[39m\u001b[38;5;124m\"\u001b[39m\u001b[38;5;132;01m{\u001b[39;00m\u001b[38;5;28mtype\u001b[39m(args[\u001b[38;5;241m0\u001b[39m])\u001b[38;5;241m.\u001b[39m\u001b[38;5;18m__name__\u001b[39m\u001b[38;5;132;01m!r}\u001b[39;00m\u001b[38;5;124m and \u001b[39m\u001b[38;5;132;01m{\u001b[39;00m\u001b[38;5;28mtype\u001b[39m(args[\u001b[38;5;241m1\u001b[39m])\u001b[38;5;241m.\u001b[39m\u001b[38;5;18m__name__\u001b[39m\u001b[38;5;132;01m!r}\u001b[39;00m\u001b[38;5;124m\"\u001b[39m)\n",
      "    \u001b[0;31m[... skipping hidden 12 frame]\u001b[0m\n",
      "File \u001b[0;32m~/GP/env/icenode-dev/lib/python3.10/site-packages/jax/_src/numpy/lax_numpy.py:3134\u001b[0m, in \u001b[0;36mmatmul\u001b[0;34m(a, b, precision)\u001b[0m\n\u001b[1;32m   3132\u001b[0m a \u001b[38;5;241m=\u001b[39m lax\u001b[38;5;241m.\u001b[39msqueeze(a, \u001b[38;5;28mtuple\u001b[39m(a_squeeze))\n\u001b[1;32m   3133\u001b[0m b \u001b[38;5;241m=\u001b[39m lax\u001b[38;5;241m.\u001b[39msqueeze(b, \u001b[38;5;28mtuple\u001b[39m(b_squeeze))\n\u001b[0;32m-> 3134\u001b[0m out \u001b[38;5;241m=\u001b[39m \u001b[43mlax\u001b[49m\u001b[38;5;241;43m.\u001b[39;49m\u001b[43mdot_general\u001b[49m\u001b[43m(\u001b[49m\n\u001b[1;32m   3135\u001b[0m \u001b[43m  \u001b[49m\u001b[43ma\u001b[49m\u001b[43m,\u001b[49m\u001b[43m \u001b[49m\u001b[43mb\u001b[49m\u001b[43m,\u001b[49m\u001b[43m \u001b[49m\u001b[43m(\u001b[49m\u001b[43m(\u001b[49m\u001b[43m(\u001b[49m\u001b[43mndim\u001b[49m\u001b[43m(\u001b[49m\u001b[43ma\u001b[49m\u001b[43m)\u001b[49m\u001b[43m \u001b[49m\u001b[38;5;241;43m-\u001b[39;49m\u001b[43m \u001b[49m\u001b[38;5;241;43m1\u001b[39;49m\u001b[43m,\u001b[49m\u001b[43m)\u001b[49m\u001b[43m,\u001b[49m\u001b[43m \u001b[49m\u001b[43m(\u001b[49m\u001b[43mndim\u001b[49m\u001b[43m(\u001b[49m\u001b[43mb\u001b[49m\u001b[43m)\u001b[49m\u001b[43m \u001b[49m\u001b[38;5;241;43m-\u001b[39;49m\u001b[43m \u001b[49m\u001b[38;5;241;43m1\u001b[39;49m\u001b[43m \u001b[49m\u001b[38;5;241;43m-\u001b[39;49m\u001b[43m \u001b[49m\u001b[43mb_is_mat\u001b[49m\u001b[43m,\u001b[49m\u001b[43m)\u001b[49m\u001b[43m)\u001b[49m\u001b[43m,\u001b[49m\u001b[43m \u001b[49m\u001b[43m(\u001b[49m\u001b[43ma_batch\u001b[49m\u001b[43m,\u001b[49m\u001b[43m \u001b[49m\u001b[43mb_batch\u001b[49m\u001b[43m)\u001b[49m\u001b[43m)\u001b[49m\u001b[43m,\u001b[49m\n\u001b[1;32m   3136\u001b[0m \u001b[43m  \u001b[49m\u001b[43mprecision\u001b[49m\u001b[38;5;241;43m=\u001b[39;49m\u001b[43mprecision\u001b[49m\u001b[43m)\u001b[49m\n\u001b[1;32m   3137\u001b[0m \u001b[38;5;28;01mreturn\u001b[39;00m lax\u001b[38;5;241m.\u001b[39mtranspose(out, perm)\n",
      "    \u001b[0;31m[... skipping hidden 7 frame]\u001b[0m\n",
      "File \u001b[0;32m~/GP/env/icenode-dev/lib/python3.10/site-packages/jax/_src/lax/lax.py:2508\u001b[0m, in \u001b[0;36m_dot_general_shape_rule\u001b[0;34m(lhs, rhs, dimension_numbers, precision, preferred_element_type)\u001b[0m\n\u001b[1;32m   2505\u001b[0m \u001b[38;5;28;01mif\u001b[39;00m \u001b[38;5;129;01mnot\u001b[39;00m core\u001b[38;5;241m.\u001b[39mdefinitely_equal_shape(lhs_contracting_shape, rhs_contracting_shape):\n\u001b[1;32m   2506\u001b[0m   msg \u001b[38;5;241m=\u001b[39m (\u001b[38;5;124m\"\u001b[39m\u001b[38;5;124mdot_general requires contracting dimensions to have the same \u001b[39m\u001b[38;5;124m\"\u001b[39m\n\u001b[1;32m   2507\u001b[0m          \u001b[38;5;124m\"\u001b[39m\u001b[38;5;124mshape, got \u001b[39m\u001b[38;5;132;01m{}\u001b[39;00m\u001b[38;5;124m and \u001b[39m\u001b[38;5;132;01m{}\u001b[39;00m\u001b[38;5;124m.\u001b[39m\u001b[38;5;124m\"\u001b[39m)\n\u001b[0;32m-> 2508\u001b[0m   \u001b[38;5;28;01mraise\u001b[39;00m \u001b[38;5;167;01mTypeError\u001b[39;00m(msg\u001b[38;5;241m.\u001b[39mformat(lhs_contracting_shape, rhs_contracting_shape))\n\u001b[1;32m   2510\u001b[0m \u001b[38;5;28;01mreturn\u001b[39;00m _dot_general_shape_computation(lhs\u001b[38;5;241m.\u001b[39mshape, rhs\u001b[38;5;241m.\u001b[39mshape, dimension_numbers)\n",
      "\u001b[0;31mTypeError\u001b[0m: dot_general requires contracting dimensions to have the same shape, got (30,) and (25,)."
     ]
    }
   ],
   "source": [
    "res = {}\n",
    "for name in models:\n",
    "    model = models[name]\n",
    "    reporting = TrainerReporting(output_dir=name,\n",
    "                                 metrics=metrics,\n",
    "                                 console=True,\n",
    "                                 model_stats=False,\n",
    "                                 parameter_snapshots=True,\n",
    "                                 config_json=True)\n",
    "    res[name] = trainer(model, m3patients, \n",
    "                  splits=splits,\n",
    "                  reporting=reporting,\n",
    "                  n_evals=100,\n",
    "                  warmup_config=warmup,\n",
    "                  continue_training=False)"
   ]
  },
  {
   "cell_type": "code",
   "execution_count": null,
   "id": "8f17620a",
   "metadata": {},
   "outputs": [],
   "source": []
  }
 ],
 "metadata": {
  "kernelspec": {
   "display_name": "Python 3 (ipykernel)",
   "language": "python",
   "name": "python3"
  },
  "language_info": {
   "codemirror_mode": {
    "name": "ipython",
    "version": 3
   },
   "file_extension": ".py",
   "mimetype": "text/x-python",
   "name": "python",
   "nbconvert_exporter": "python",
   "pygments_lexer": "ipython3",
   "version": "3.10.12"
  }
 },
 "nbformat": 4,
 "nbformat_minor": 5
}
