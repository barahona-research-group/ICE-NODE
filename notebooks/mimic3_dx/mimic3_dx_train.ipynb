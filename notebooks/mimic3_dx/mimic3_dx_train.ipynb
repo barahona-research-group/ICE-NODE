{
 "cells": [
  {
   "cell_type": "code",
   "execution_count": 1,
   "id": "ab383786",
   "metadata": {},
   "outputs": [],
   "source": [
    "%load_ext autoreload\n",
    "%autoreload 2\n",
    "import sys\n",
    "import os\n",
    "import glob\n",
    "import random\n",
    "from collections import defaultdict\n",
    "from pathlib import Path\n",
    "\n",
    "from IPython.display import display\n",
    "\n",
    "import pandas as pd\n",
    "import dask\n",
    "\n",
    "from tqdm import tqdm\n",
    "import jax\n",
    "jax.config.update('jax_platform_name', 'cpu')\n",
    "# jax.config.update('jax_log_compiles', True)\n",
    "# jax.config.update(\"jax_debug_nans\", True)\n",
    "# jax.config.update(\"jax_enable_x64\", True)"
   ]
  },
  {
   "cell_type": "code",
   "execution_count": 2,
   "id": "c83480cb",
   "metadata": {},
   "outputs": [],
   "source": [
    "\n",
    "\n",
    "sys.path.append(\"../..\")\n",
    "\n",
    "from lib import utils as U\n",
    "from lib.ehr.dataset import load_dataset, load_dataset_scheme, load_dataset_config, Dataset\n",
    "from lib.ehr.interface import Patients, InterfaceConfig\n",
    "from lib.ehr.concepts import DemographicVectorConfig\n"
   ]
  },
  {
   "cell_type": "code",
   "execution_count": 3,
   "id": "99451f48",
   "metadata": {},
   "outputs": [],
   "source": [
    "import logging\n",
    "logging.root.level = logging.INFO"
   ]
  },
  {
   "cell_type": "code",
   "execution_count": 4,
   "id": "19d8ad3d",
   "metadata": {},
   "outputs": [],
   "source": [
    "tag = 'M3'\n",
    "PATH = f'{os.environ.get(\"HOME\")}/GP/ehr-data/mimic3-cohort'\n",
    "sample = None\n",
    "cache =  f'cached_inteface/patients_{tag}'\n",
    "dataset_config = load_dataset_config(tag, \n",
    "                                     sample=sample,\n",
    "                                     path=PATH)\n",
    "dataset_gen = lambda c: load_dataset(config=c)"
   ]
  },
  {
   "cell_type": "markdown",
   "id": "a784b45c",
   "metadata": {},
   "source": [
    "##### Possible Interface Scheme Configurations"
   ]
  },
  {
   "cell_type": "code",
   "execution_count": 5,
   "id": "3c1b3f89",
   "metadata": {},
   "outputs": [
    {
     "name": "stdout",
     "output_type": "stream",
     "text": [
      "{\n",
      "    \"dx\": [\n",
      "        \"DxICD9\",\n",
      "        \"DxICD10\",\n",
      "        \"DxCCS\",\n",
      "        \"DxFlatCCS\"\n",
      "    ],\n",
      "    \"ethnicity\": [\n",
      "        \"MIMIC3Eth37\",\n",
      "        \"MIMIC3Eth7\"\n",
      "    ],\n",
      "    \"gender\": [\n",
      "        \"Gender\"\n",
      "    ],\n",
      "    \"outcome\": [\n",
      "        \"dx_flatccs_mlhc_groups\",\n",
      "        \"dx_flatccs_filter_v1\",\n",
      "        \"dx_icd9_filter_v1\",\n",
      "        \"dx_icd9_filter_v2_groups\",\n",
      "        \"dx_icd9_filter_v3_groups\"\n",
      "    ]\n",
      "}\n"
     ]
    }
   ],
   "source": [
    "import json\n",
    "dataset_scheme = load_dataset_scheme(tag)\n",
    "interface_schem_options = dataset_scheme.supported_target_scheme_options\n",
    "print(json.dumps(interface_schem_options, sort_keys=True, indent=4))"
   ]
  },
  {
   "cell_type": "code",
   "execution_count": 6,
   "id": "95c3df4c",
   "metadata": {},
   "outputs": [],
   "source": [
    "interface_scheme = dataset_scheme.make_target_scheme_config(dx='DxICD9',\n",
    "                                                            outcome='dx_icd9_filter_v3_groups',\n",
    "                                                            ethnicity='MIMIC3Eth7')\n",
    "\n",
    "\n",
    "# Demographic vector attributes\n",
    "demographic_vector_conf = DemographicVectorConfig(\n",
    "    age=False, \n",
    "    gender=False, \n",
    "    ethnicity=False\n",
    ")\n",
    "interface_config = InterfaceConfig(scheme=interface_scheme,\n",
    "                                   dataset_scheme=dataset_scheme,\n",
    "                                   demographic_vector=demographic_vector_conf,\n",
    "                                   cache=cache)"
   ]
  },
  {
   "cell_type": "code",
   "execution_count": 7,
   "id": "3e1d6c2e",
   "metadata": {},
   "outputs": [
    {
     "data": {
      "text/plain": [
       "InterfaceConfig(\n",
       "  demographic_vector=DemographicVectorConfig(\n",
       "    gender=False,\n",
       "    age=False,\n",
       "    ethnicity=False\n",
       "  ),\n",
       "  leading_observable=None,\n",
       "  scheme={\n",
       "    'dx':\n",
       "    'DxICD9',\n",
       "    'ethnicity':\n",
       "    'MIMIC3Eth7',\n",
       "    'gender':\n",
       "    'Gender',\n",
       "    'outcome':\n",
       "    'dx_icd9_filter_v3_groups'\n",
       "  },\n",
       "  cache='cached_inteface/patients_M3'\n",
       ")"
      ]
     },
     "execution_count": 7,
     "metadata": {},
     "output_type": "execute_result"
    }
   ],
   "source": [
    "interface_config"
   ]
  },
  {
   "cell_type": "code",
   "execution_count": 8,
   "id": "1e009f43",
   "metadata": {},
   "outputs": [
    {
     "name": "stderr",
     "output_type": "stream",
     "text": [
      "INFO:root:Loading cached subjects.\n"
     ]
    }
   ],
   "source": [
    "m3patients = Patients.try_load_cached(interface_config,\n",
    "                                      dataset_config=dataset_config,\n",
    "                                      dataset_generator=dataset_gen,\n",
    "                                      num_workers=8)"
   ]
  },
  {
   "cell_type": "code",
   "execution_count": 9,
   "id": "f48e3d3a",
   "metadata": {},
   "outputs": [],
   "source": [
    "splits = m3patients.dataset.random_splits([0.8, 0.9], random_seed=42, balanced='admissions')"
   ]
  },
  {
   "cell_type": "code",
   "execution_count": 10,
   "id": "d06795c0",
   "metadata": {},
   "outputs": [
    {
     "data": {
      "text/plain": [
       "7514"
      ]
     },
     "execution_count": 10,
     "metadata": {},
     "output_type": "execute_result"
    }
   ],
   "source": [
    "len(m3patients.subjects)"
   ]
  },
  {
   "cell_type": "code",
   "execution_count": 11,
   "id": "03b56fc9",
   "metadata": {},
   "outputs": [
    {
     "data": {
      "text/plain": [
       "Patient(\n",
       "  subject_id=44464,\n",
       "  static_info=StaticInfo(\n",
       "    demographic_vector_config=DemographicVectorConfig(\n",
       "      gender=False,\n",
       "      age=False,\n",
       "      ethnicity=False\n",
       "    ),\n",
       "    gender=BinaryCodesVector(\n",
       "      vec=bool[](numpy),\n",
       "      scheme=<lib.ehr.coding_scheme.Gender object at 0x7ff14305ac70>\n",
       "    ),\n",
       "    ethnicity=CodesVector(\n",
       "      vec=bool[7](numpy),\n",
       "      scheme=<lib.ehr.coding_scheme.MIMIC3Eth7 object at 0x7ff13e2ab970>\n",
       "    ),\n",
       "    date_of_birth=Timestamp('2123-03-06 00:00:00'),\n",
       "    constant_vec=f16[0](numpy)\n",
       "  ),\n",
       "  admissions=[\n",
       "    Admission(\n",
       "      admission_id=118659,\n",
       "      admission_dates=(\n",
       "        Timestamp('2184-12-13 12:23:00'),\n",
       "        Timestamp('2184-12-21 16:15:00')\n",
       "      ),\n",
       "      dx_codes=CodesVector(\n",
       "        vec=bool[17375](numpy),\n",
       "        scheme=<lib.ehr.coding_scheme.DxICD9 object at 0x7ff14305a7f0>\n",
       "      ),\n",
       "      dx_codes_history=CodesVector(\n",
       "        vec=bool[17375](numpy),\n",
       "        scheme=<lib.ehr.coding_scheme.DxICD9 object at 0x7ff14305a7f0>\n",
       "      ),\n",
       "      outcome=CodesVector(\n",
       "        vec=bool[2081](numpy),\n",
       "        scheme=<lib.ehr.coding_scheme.OutcomeExtractor object at 0x7ff13e2abdc0>\n",
       "      ),\n",
       "      observables=None,\n",
       "      interventions=None,\n",
       "      leading_observable=None\n",
       "    ),\n",
       "    Admission(\n",
       "      admission_id=126622,\n",
       "      admission_dates=(\n",
       "        Timestamp('2193-06-16 22:53:00'),\n",
       "        Timestamp('2193-07-02 20:17:00')\n",
       "      ),\n",
       "      dx_codes=CodesVector(\n",
       "        vec=bool[17375](numpy),\n",
       "        scheme=<lib.ehr.coding_scheme.DxICD9 object at 0x7ff14305a7f0>\n",
       "      ),\n",
       "      dx_codes_history=CodesVector(\n",
       "        vec=bool[17375](numpy),\n",
       "        scheme=<lib.ehr.coding_scheme.DxICD9 object at 0x7ff14305a7f0>\n",
       "      ),\n",
       "      outcome=CodesVector(\n",
       "        vec=bool[2081](numpy),\n",
       "        scheme=<lib.ehr.coding_scheme.OutcomeExtractor object at 0x7ff13e2abdc0>\n",
       "      ),\n",
       "      observables=None,\n",
       "      interventions=None,\n",
       "      leading_observable=None\n",
       "    )\n",
       "  ]\n",
       ")"
      ]
     },
     "execution_count": 11,
     "metadata": {},
     "output_type": "execute_result"
    }
   ],
   "source": [
    "m3patients.subjects[splits[0][0]]"
   ]
  },
  {
   "cell_type": "code",
   "execution_count": 12,
   "id": "cebd58c5",
   "metadata": {},
   "outputs": [],
   "source": [
    "# m3patients.size_in_bytes() / 1024 ** 3"
   ]
  },
  {
   "cell_type": "code",
   "execution_count": 13,
   "id": "b598eb42",
   "metadata": {},
   "outputs": [],
   "source": [
    "# val_batch = m3patients.device_batch(splits[1])"
   ]
  },
  {
   "cell_type": "code",
   "execution_count": 14,
   "id": "428f1548",
   "metadata": {},
   "outputs": [],
   "source": [
    "# tst_batch = m3patients.device_batch(splits[2])"
   ]
  },
  {
   "cell_type": "code",
   "execution_count": 15,
   "id": "0108a8a5",
   "metadata": {},
   "outputs": [],
   "source": [
    "# val_batch.size_in_bytes() / 1024 ** 3, tst_batch.size_in_bytes() / 1024 ** 3"
   ]
  },
  {
   "cell_type": "code",
   "execution_count": 16,
   "id": "84e24feb",
   "metadata": {},
   "outputs": [],
   "source": [
    "# batch = m3patients.device_batch(splits[0][:32])"
   ]
  },
  {
   "cell_type": "code",
   "execution_count": 17,
   "id": "0af85343",
   "metadata": {},
   "outputs": [],
   "source": [
    "# batch.size_in_bytes() / 1024 ** 3"
   ]
  },
  {
   "cell_type": "code",
   "execution_count": 18,
   "id": "0210e539",
   "metadata": {},
   "outputs": [],
   "source": [
    "# len(batch.subjects)"
   ]
  },
  {
   "cell_type": "code",
   "execution_count": 19,
   "id": "de0adf08",
   "metadata": {},
   "outputs": [],
   "source": [
    "# batch.n_admissions()"
   ]
  },
  {
   "cell_type": "code",
   "execution_count": 20,
   "id": "0464a3bb",
   "metadata": {},
   "outputs": [],
   "source": [
    "# batch.n_segments()"
   ]
  },
  {
   "cell_type": "code",
   "execution_count": 21,
   "id": "1b3711f3",
   "metadata": {},
   "outputs": [],
   "source": [
    "# batch.n_obs_times()"
   ]
  },
  {
   "cell_type": "code",
   "execution_count": null,
   "id": "a997393f",
   "metadata": {},
   "outputs": [],
   "source": []
  },
  {
   "cell_type": "markdown",
   "id": "b66a64de",
   "metadata": {},
   "source": [
    "### التدريب على نموذج المعادلات التفاضلية الاعتيادية العصبية\n"
   ]
  },
  {
   "cell_type": "code",
   "execution_count": 22,
   "id": "9442545b",
   "metadata": {},
   "outputs": [],
   "source": [
    "from lib.ml import (ICENODE, ICENODEDimensions, \n",
    "                    GRU, GRUDimensions,\n",
    "                    RETAIN, RETAINDimensions,\n",
    "                    PatientEmbeddingDimensions, \n",
    "                    Trainer, TrainerReporting, OptimizerConfig, WarmupConfig,\n",
    "                    TrainerConfig, ReportingConfig)\n",
    "from lib.metric import  (CodeAUC, UntilFirstCodeAUC, AdmissionAUC,\n",
    "                      CodeGroupTopAlarmAccuracy, LossMetric, ObsCodeLevelLossMetric)\n",
    "\n",
    "import jax.random as jrandom"
   ]
  },
  {
   "cell_type": "code",
   "execution_count": 23,
   "id": "c911e2f3",
   "metadata": {},
   "outputs": [
    {
     "name": "stderr",
     "output_type": "stream",
     "text": [
      "2023-09-04 18:48:56.485938: W external/xla/xla/service/platform_util.cc:198] unable to create StreamExecutor for CUDA:0: failed initializing StreamExecutor for CUDA device ordinal 0: INTERNAL: failed call to cuDevicePrimaryCtxRetain: CUDA_ERROR_OUT_OF_MEMORY: out of memory; total memory reported: 10492641280\n",
      "INFO:jax._src.xla_bridge:Unable to initialize backend 'cuda': INTERNAL: no supported devices found for platform CUDA\n",
      "INFO:jax._src.xla_bridge:Unable to initialize backend 'rocm': NOT_FOUND: Could not find registered platform with name: \"rocm\". Available platform names are: Interpreter CUDA\n",
      "INFO:jax._src.xla_bridge:Unable to initialize backend 'tpu': module 'jaxlib.xla_extension' has no attribute 'get_tpu_client'\n"
     ]
    }
   ],
   "source": [
    "emb_dims = PatientEmbeddingDimensions(dx=50, demo=0)\n",
    "key = jrandom.PRNGKey(0)\n",
    "\n",
    "def icenode_model():\n",
    "    dims = ICENODEDimensions(mem=20, emb=emb_dims)\n",
    "    return ICENODE(dims=dims, schemes=m3patients.schemes, \n",
    "                   demographic_vector_config=m3patients.config.demographic_vector,\n",
    "                   key=key)\n",
    "\n",
    "def gru_model():\n",
    "    dims = GRUDimensions(emb=emb_dims)\n",
    "    return GRU(dims=dims, schemes=m3patients.schemes, \n",
    "                   demographic_vector_config=m3patients.config.demographic_vector,\n",
    "                   key=key)\n",
    "\n",
    "def retain_model():\n",
    "    dims = RETAINDimensions(mem_a=25, mem_b=25, emb=emb_dims)\n",
    "    return RETAIN(dims=dims, schemes=m3patients.schemes, \n",
    "                   demographic_vector_config=m3patients.config.demographic_vector,\n",
    "                   key=key)\n",
    "\n",
    "models = {\n",
    "    'rnk_dx_icenode': icenode_model(),\n",
    "#     'rnk_dx_gru': gru_model(),\n",
    "#     'rnk_dx_retain': retain_model()\n",
    "}"
   ]
  },
  {
   "cell_type": "code",
   "execution_count": 24,
   "id": "72d4f9c8",
   "metadata": {},
   "outputs": [],
   "source": [
    "# res = m.batch_predict(m4inpatients.device_batch(), leave_pbar=True)"
   ]
  },
  {
   "cell_type": "code",
   "execution_count": 25,
   "id": "3658579e",
   "metadata": {
    "scrolled": true
   },
   "outputs": [],
   "source": [
    "\n",
    "trainer_conf = TrainerConfig(optimizer=OptimizerConfig(opt='adam', lr=1e-3),\n",
    "                             epochs=150,\n",
    "                             batch_size=32,\n",
    "                             dx_loss='allpairs_sigmoid_rank')\n",
    "trainer = Trainer(trainer_conf)\n",
    "\n",
    "warmup = WarmupConfig(epochs=0.1, \n",
    "                      batch_size=8,\n",
    "                      opt='adam', lr=1e-3, \n",
    "                      decay_rate=0.5)\n",
    "\n",
    "loss_metric =  LossMetric(m3patients, \n",
    "                          dx_loss=('softmax_bce', 'balanced_focal_softmax_bce', \n",
    "                                   'balanced_focal_bce', 'allpairs_exp_rank', 'allpairs_hard_rank', \n",
    "                                   'allpairs_sigmoid_rank'))\n",
    "\n",
    "metrics = [CodeAUC(m3patients), \n",
    "           AdmissionAUC(m3patients), \n",
    "           CodeGroupTopAlarmAccuracy(m3patients, n_partitions=5, \n",
    "                                     top_k_list=[3, 5, 10, 15, 20],\n",
    "                                     train_split=splits[0]),\n",
    "           loss_metric]\n",
    "\n",
    "\n"
   ]
  },
  {
   "cell_type": "code",
   "execution_count": null,
   "id": "d5090a9c",
   "metadata": {
    "scrolled": false
   },
   "outputs": [
    {
     "name": "stdout",
     "output_type": "stream",
     "text": [
      "rnk_dx_icenode\n"
     ]
    },
    {
     "name": "stderr",
     "output_type": "stream",
     "text": [
      "INFO:root:Continuing training from step 0\n",
      "INFO:root:HPs: TrainerConfig(\n",
      "  optimizer=OptimizerConfig(\n",
      "    opt='adam',\n",
      "    lr=0.001,\n",
      "    decay_rate=None,\n",
      "    reverse_schedule=False\n",
      "  ),\n",
      "  epochs=150,\n",
      "  batch_size=32,\n",
      "  dx_loss='allpairs_sigmoid_rank',\n",
      "  obs_loss='mse',\n",
      "  lead_loss='mse'\n",
      ")\n"
     ]
    },
    {
     "data": {
      "application/vnd.jupyter.widget-view+json": {
       "model_id": "",
       "version_major": 2,
       "version_minor": 0
      },
      "text/plain": [
       "Loading to device:   0%|          | 0/752 [00:00<?, ?subject/s]"
      ]
     },
     "metadata": {},
     "output_type": "display_data"
    },
    {
     "data": {
      "application/vnd.jupyter.widget-view+json": {
       "model_id": "403fea0ac3ee4e99a0d94e4d15598713",
       "version_major": 2,
       "version_minor": 0
      },
      "text/plain": [
       "  0%|          | 0/150 [00:00<?, ?Epoch/s]"
      ]
     },
     "metadata": {},
     "output_type": "display_data"
    },
    {
     "data": {
      "application/vnd.jupyter.widget-view+json": {
       "model_id": "96c9cad8a9d941b4a5e5f63cc6506052",
       "version_major": 2,
       "version_minor": 0
      },
      "text/plain": [
       "  0%|          | 0/309 [00:00<?, ?Batch/s]"
      ]
     },
     "metadata": {},
     "output_type": "display_data"
    },
    {
     "data": {
      "application/vnd.jupyter.widget-view+json": {
       "model_id": "",
       "version_major": 2,
       "version_minor": 0
      },
      "text/plain": [
       "Loading to device:   0%|          | 0/21 [00:00<?, ?subject/s]"
      ]
     },
     "metadata": {},
     "output_type": "display_data"
    },
    {
     "data": {
      "application/vnd.jupyter.widget-view+json": {
       "model_id": "",
       "version_major": 2,
       "version_minor": 0
      },
      "text/plain": [
       "Embedding:   0%|          | 0/21 [00:00<?, ?subject/s]"
      ]
     },
     "metadata": {},
     "output_type": "display_data"
    },
    {
     "data": {
      "application/vnd.jupyter.widget-view+json": {
       "model_id": "",
       "version_major": 2,
       "version_minor": 0
      },
      "text/plain": [
       "  0%|          | 0.00/13545.16 [00:00<?, ?longitudinal-days/s]"
      ]
     },
     "metadata": {},
     "output_type": "display_data"
    },
    {
     "data": {
      "application/vnd.jupyter.widget-view+json": {
       "model_id": "",
       "version_major": 2,
       "version_minor": 0
      },
      "text/plain": [
       "Loading to device:   0%|          | 0/23 [00:00<?, ?subject/s]"
      ]
     },
     "metadata": {},
     "output_type": "display_data"
    },
    {
     "data": {
      "application/vnd.jupyter.widget-view+json": {
       "model_id": "",
       "version_major": 2,
       "version_minor": 0
      },
      "text/plain": [
       "Embedding:   0%|          | 0/23 [00:00<?, ?subject/s]"
      ]
     },
     "metadata": {},
     "output_type": "display_data"
    },
    {
     "data": {
      "application/vnd.jupyter.widget-view+json": {
       "model_id": "",
       "version_major": 2,
       "version_minor": 0
      },
      "text/plain": [
       "  0%|          | 0.00/6827.14 [00:00<?, ?longitudinal-days/s]"
      ]
     },
     "metadata": {},
     "output_type": "display_data"
    },
    {
     "data": {
      "application/vnd.jupyter.widget-view+json": {
       "model_id": "",
       "version_major": 2,
       "version_minor": 0
      },
      "text/plain": [
       "Loading to device:   0%|          | 0/17 [00:00<?, ?subject/s]"
      ]
     },
     "metadata": {},
     "output_type": "display_data"
    },
    {
     "data": {
      "application/vnd.jupyter.widget-view+json": {
       "model_id": "",
       "version_major": 2,
       "version_minor": 0
      },
      "text/plain": [
       "Embedding:   0%|          | 0/17 [00:00<?, ?subject/s]"
      ]
     },
     "metadata": {},
     "output_type": "display_data"
    },
    {
     "data": {
      "application/vnd.jupyter.widget-view+json": {
       "model_id": "",
       "version_major": 2,
       "version_minor": 0
      },
      "text/plain": [
       "  0%|          | 0.00/11354.87 [00:00<?, ?longitudinal-days/s]"
      ]
     },
     "metadata": {},
     "output_type": "display_data"
    },
    {
     "data": {
      "application/vnd.jupyter.widget-view+json": {
       "model_id": "",
       "version_major": 2,
       "version_minor": 0
      },
      "text/plain": [
       "Loading to device:   0%|          | 0/22 [00:00<?, ?subject/s]"
      ]
     },
     "metadata": {},
     "output_type": "display_data"
    },
    {
     "data": {
      "application/vnd.jupyter.widget-view+json": {
       "model_id": "",
       "version_major": 2,
       "version_minor": 0
      },
      "text/plain": [
       "Embedding:   0%|          | 0/22 [00:00<?, ?subject/s]"
      ]
     },
     "metadata": {},
     "output_type": "display_data"
    },
    {
     "data": {
      "application/vnd.jupyter.widget-view+json": {
       "model_id": "",
       "version_major": 2,
       "version_minor": 0
      },
      "text/plain": [
       "  0%|          | 0.00/20565.34 [00:00<?, ?longitudinal-days/s]"
      ]
     },
     "metadata": {},
     "output_type": "display_data"
    },
    {
     "data": {
      "application/vnd.jupyter.widget-view+json": {
       "model_id": "",
       "version_major": 2,
       "version_minor": 0
      },
      "text/plain": [
       "Loading to device:   0%|          | 0/27 [00:00<?, ?subject/s]"
      ]
     },
     "metadata": {},
     "output_type": "display_data"
    },
    {
     "data": {
      "application/vnd.jupyter.widget-view+json": {
       "model_id": "",
       "version_major": 2,
       "version_minor": 0
      },
      "text/plain": [
       "Embedding:   0%|          | 0/27 [00:00<?, ?subject/s]"
      ]
     },
     "metadata": {},
     "output_type": "display_data"
    },
    {
     "data": {
      "application/vnd.jupyter.widget-view+json": {
       "model_id": "",
       "version_major": 2,
       "version_minor": 0
      },
      "text/plain": [
       "  0%|          | 0.00/15321.49 [00:00<?, ?longitudinal-days/s]"
      ]
     },
     "metadata": {},
     "output_type": "display_data"
    },
    {
     "data": {
      "application/vnd.jupyter.widget-view+json": {
       "model_id": "",
       "version_major": 2,
       "version_minor": 0
      },
      "text/plain": [
       "Loading to device:   0%|          | 0/15 [00:00<?, ?subject/s]"
      ]
     },
     "metadata": {},
     "output_type": "display_data"
    },
    {
     "data": {
      "application/vnd.jupyter.widget-view+json": {
       "model_id": "",
       "version_major": 2,
       "version_minor": 0
      },
      "text/plain": [
       "Embedding:   0%|          | 0/15 [00:00<?, ?subject/s]"
      ]
     },
     "metadata": {},
     "output_type": "display_data"
    },
    {
     "data": {
      "application/vnd.jupyter.widget-view+json": {
       "model_id": "",
       "version_major": 2,
       "version_minor": 0
      },
      "text/plain": [
       "  0%|          | 0.00/9832.51 [00:00<?, ?longitudinal-days/s]"
      ]
     },
     "metadata": {},
     "output_type": "display_data"
    },
    {
     "data": {
      "application/vnd.jupyter.widget-view+json": {
       "model_id": "",
       "version_major": 2,
       "version_minor": 0
      },
      "text/plain": [
       "Loading to device:   0%|          | 0/23 [00:00<?, ?subject/s]"
      ]
     },
     "metadata": {},
     "output_type": "display_data"
    },
    {
     "data": {
      "application/vnd.jupyter.widget-view+json": {
       "model_id": "",
       "version_major": 2,
       "version_minor": 0
      },
      "text/plain": [
       "Embedding:   0%|          | 0/23 [00:00<?, ?subject/s]"
      ]
     },
     "metadata": {},
     "output_type": "display_data"
    },
    {
     "data": {
      "application/vnd.jupyter.widget-view+json": {
       "model_id": "",
       "version_major": 2,
       "version_minor": 0
      },
      "text/plain": [
       "  0%|          | 0.00/13310.51 [00:00<?, ?longitudinal-days/s]"
      ]
     },
     "metadata": {},
     "output_type": "display_data"
    },
    {
     "data": {
      "application/vnd.jupyter.widget-view+json": {
       "model_id": "",
       "version_major": 2,
       "version_minor": 0
      },
      "text/plain": [
       "Loading to device:   0%|          | 0/22 [00:00<?, ?subject/s]"
      ]
     },
     "metadata": {},
     "output_type": "display_data"
    },
    {
     "data": {
      "application/vnd.jupyter.widget-view+json": {
       "model_id": "",
       "version_major": 2,
       "version_minor": 0
      },
      "text/plain": [
       "Embedding:   0%|          | 0/22 [00:00<?, ?subject/s]"
      ]
     },
     "metadata": {},
     "output_type": "display_data"
    },
    {
     "data": {
      "application/vnd.jupyter.widget-view+json": {
       "model_id": "",
       "version_major": 2,
       "version_minor": 0
      },
      "text/plain": [
       "  0%|          | 0.00/19270.76 [00:00<?, ?longitudinal-days/s]"
      ]
     },
     "metadata": {},
     "output_type": "display_data"
    },
    {
     "data": {
      "application/vnd.jupyter.widget-view+json": {
       "model_id": "",
       "version_major": 2,
       "version_minor": 0
      },
      "text/plain": [
       "Loading to device:   0%|          | 0/16 [00:00<?, ?subject/s]"
      ]
     },
     "metadata": {},
     "output_type": "display_data"
    },
    {
     "data": {
      "application/vnd.jupyter.widget-view+json": {
       "model_id": "",
       "version_major": 2,
       "version_minor": 0
      },
      "text/plain": [
       "Embedding:   0%|          | 0/16 [00:00<?, ?subject/s]"
      ]
     },
     "metadata": {},
     "output_type": "display_data"
    },
    {
     "data": {
      "application/vnd.jupyter.widget-view+json": {
       "model_id": "",
       "version_major": 2,
       "version_minor": 0
      },
      "text/plain": [
       "  0%|          | 0.00/10212.27 [00:00<?, ?longitudinal-days/s]"
      ]
     },
     "metadata": {},
     "output_type": "display_data"
    },
    {
     "data": {
      "application/vnd.jupyter.widget-view+json": {
       "model_id": "",
       "version_major": 2,
       "version_minor": 0
      },
      "text/plain": [
       "Loading to device:   0%|          | 0/18 [00:00<?, ?subject/s]"
      ]
     },
     "metadata": {},
     "output_type": "display_data"
    },
    {
     "data": {
      "application/vnd.jupyter.widget-view+json": {
       "model_id": "",
       "version_major": 2,
       "version_minor": 0
      },
      "text/plain": [
       "Embedding:   0%|          | 0/18 [00:00<?, ?subject/s]"
      ]
     },
     "metadata": {},
     "output_type": "display_data"
    },
    {
     "data": {
      "application/vnd.jupyter.widget-view+json": {
       "model_id": "",
       "version_major": 2,
       "version_minor": 0
      },
      "text/plain": [
       "  0%|          | 0.00/14519.02 [00:00<?, ?longitudinal-days/s]"
      ]
     },
     "metadata": {},
     "output_type": "display_data"
    },
    {
     "data": {
      "application/vnd.jupyter.widget-view+json": {
       "model_id": "",
       "version_major": 2,
       "version_minor": 0
      },
      "text/plain": [
       "Loading to device:   0%|          | 0/19 [00:00<?, ?subject/s]"
      ]
     },
     "metadata": {},
     "output_type": "display_data"
    },
    {
     "data": {
      "application/vnd.jupyter.widget-view+json": {
       "model_id": "",
       "version_major": 2,
       "version_minor": 0
      },
      "text/plain": [
       "Embedding:   0%|          | 0/19 [00:00<?, ?subject/s]"
      ]
     },
     "metadata": {},
     "output_type": "display_data"
    },
    {
     "data": {
      "application/vnd.jupyter.widget-view+json": {
       "model_id": "",
       "version_major": 2,
       "version_minor": 0
      },
      "text/plain": [
       "  0%|          | 0.00/11033.49 [00:00<?, ?longitudinal-days/s]"
      ]
     },
     "metadata": {},
     "output_type": "display_data"
    },
    {
     "data": {
      "application/vnd.jupyter.widget-view+json": {
       "model_id": "",
       "version_major": 2,
       "version_minor": 0
      },
      "text/plain": [
       "Loading to device:   0%|          | 0/19 [00:00<?, ?subject/s]"
      ]
     },
     "metadata": {},
     "output_type": "display_data"
    },
    {
     "data": {
      "application/vnd.jupyter.widget-view+json": {
       "model_id": "",
       "version_major": 2,
       "version_minor": 0
      },
      "text/plain": [
       "Embedding:   0%|          | 0/19 [00:00<?, ?subject/s]"
      ]
     },
     "metadata": {},
     "output_type": "display_data"
    },
    {
     "data": {
      "application/vnd.jupyter.widget-view+json": {
       "model_id": "",
       "version_major": 2,
       "version_minor": 0
      },
      "text/plain": [
       "  0%|          | 0.00/14989.17 [00:00<?, ?longitudinal-days/s]"
      ]
     },
     "metadata": {},
     "output_type": "display_data"
    },
    {
     "data": {
      "application/vnd.jupyter.widget-view+json": {
       "model_id": "",
       "version_major": 2,
       "version_minor": 0
      },
      "text/plain": [
       "Loading to device:   0%|          | 0/16 [00:00<?, ?subject/s]"
      ]
     },
     "metadata": {},
     "output_type": "display_data"
    },
    {
     "data": {
      "application/vnd.jupyter.widget-view+json": {
       "model_id": "",
       "version_major": 2,
       "version_minor": 0
      },
      "text/plain": [
       "Embedding:   0%|          | 0/16 [00:00<?, ?subject/s]"
      ]
     },
     "metadata": {},
     "output_type": "display_data"
    },
    {
     "data": {
      "application/vnd.jupyter.widget-view+json": {
       "model_id": "",
       "version_major": 2,
       "version_minor": 0
      },
      "text/plain": [
       "  0%|          | 0.00/18543.36 [00:00<?, ?longitudinal-days/s]"
      ]
     },
     "metadata": {},
     "output_type": "display_data"
    },
    {
     "data": {
      "application/vnd.jupyter.widget-view+json": {
       "model_id": "",
       "version_major": 2,
       "version_minor": 0
      },
      "text/plain": [
       "Loading to device:   0%|          | 0/18 [00:00<?, ?subject/s]"
      ]
     },
     "metadata": {},
     "output_type": "display_data"
    },
    {
     "data": {
      "application/vnd.jupyter.widget-view+json": {
       "model_id": "",
       "version_major": 2,
       "version_minor": 0
      },
      "text/plain": [
       "Embedding:   0%|          | 0/18 [00:00<?, ?subject/s]"
      ]
     },
     "metadata": {},
     "output_type": "display_data"
    },
    {
     "data": {
      "application/vnd.jupyter.widget-view+json": {
       "model_id": "",
       "version_major": 2,
       "version_minor": 0
      },
      "text/plain": [
       "  0%|          | 0.00/10902.89 [00:00<?, ?longitudinal-days/s]"
      ]
     },
     "metadata": {},
     "output_type": "display_data"
    },
    {
     "data": {
      "application/vnd.jupyter.widget-view+json": {
       "model_id": "",
       "version_major": 2,
       "version_minor": 0
      },
      "text/plain": [
       "Loading to device:   0%|          | 0/16 [00:00<?, ?subject/s]"
      ]
     },
     "metadata": {},
     "output_type": "display_data"
    },
    {
     "data": {
      "application/vnd.jupyter.widget-view+json": {
       "model_id": "",
       "version_major": 2,
       "version_minor": 0
      },
      "text/plain": [
       "Embedding:   0%|          | 0/16 [00:00<?, ?subject/s]"
      ]
     },
     "metadata": {},
     "output_type": "display_data"
    },
    {
     "data": {
      "application/vnd.jupyter.widget-view+json": {
       "model_id": "",
       "version_major": 2,
       "version_minor": 0
      },
      "text/plain": [
       "  0%|          | 0.00/9872.39 [00:00<?, ?longitudinal-days/s]"
      ]
     },
     "metadata": {},
     "output_type": "display_data"
    },
    {
     "data": {
      "application/vnd.jupyter.widget-view+json": {
       "model_id": "",
       "version_major": 2,
       "version_minor": 0
      },
      "text/plain": [
       "Loading to device:   0%|          | 0/19 [00:00<?, ?subject/s]"
      ]
     },
     "metadata": {},
     "output_type": "display_data"
    },
    {
     "data": {
      "application/vnd.jupyter.widget-view+json": {
       "model_id": "",
       "version_major": 2,
       "version_minor": 0
      },
      "text/plain": [
       "Embedding:   0%|          | 0/19 [00:00<?, ?subject/s]"
      ]
     },
     "metadata": {},
     "output_type": "display_data"
    },
    {
     "data": {
      "application/vnd.jupyter.widget-view+json": {
       "model_id": "",
       "version_major": 2,
       "version_minor": 0
      },
      "text/plain": [
       "  0%|          | 0.00/12978.34 [00:00<?, ?longitudinal-days/s]"
      ]
     },
     "metadata": {},
     "output_type": "display_data"
    },
    {
     "data": {
      "application/vnd.jupyter.widget-view+json": {
       "model_id": "",
       "version_major": 2,
       "version_minor": 0
      },
      "text/plain": [
       "Loading to device:   0%|          | 0/24 [00:00<?, ?subject/s]"
      ]
     },
     "metadata": {},
     "output_type": "display_data"
    },
    {
     "data": {
      "application/vnd.jupyter.widget-view+json": {
       "model_id": "",
       "version_major": 2,
       "version_minor": 0
      },
      "text/plain": [
       "Embedding:   0%|          | 0/24 [00:00<?, ?subject/s]"
      ]
     },
     "metadata": {},
     "output_type": "display_data"
    },
    {
     "data": {
      "application/vnd.jupyter.widget-view+json": {
       "model_id": "",
       "version_major": 2,
       "version_minor": 0
      },
      "text/plain": [
       "  0%|          | 0.00/6506.66 [00:00<?, ?longitudinal-days/s]"
      ]
     },
     "metadata": {},
     "output_type": "display_data"
    },
    {
     "data": {
      "application/vnd.jupyter.widget-view+json": {
       "model_id": "",
       "version_major": 2,
       "version_minor": 0
      },
      "text/plain": [
       "Loading to device:   0%|          | 0/17 [00:00<?, ?subject/s]"
      ]
     },
     "metadata": {},
     "output_type": "display_data"
    },
    {
     "data": {
      "application/vnd.jupyter.widget-view+json": {
       "model_id": "",
       "version_major": 2,
       "version_minor": 0
      },
      "text/plain": [
       "Embedding:   0%|          | 0/17 [00:00<?, ?subject/s]"
      ]
     },
     "metadata": {},
     "output_type": "display_data"
    },
    {
     "data": {
      "application/vnd.jupyter.widget-view+json": {
       "model_id": "",
       "version_major": 2,
       "version_minor": 0
      },
      "text/plain": [
       "  0%|          | 0.00/16058.15 [00:00<?, ?longitudinal-days/s]"
      ]
     },
     "metadata": {},
     "output_type": "display_data"
    },
    {
     "data": {
      "application/vnd.jupyter.widget-view+json": {
       "model_id": "",
       "version_major": 2,
       "version_minor": 0
      },
      "text/plain": [
       "Loading to device:   0%|          | 0/24 [00:00<?, ?subject/s]"
      ]
     },
     "metadata": {},
     "output_type": "display_data"
    },
    {
     "data": {
      "application/vnd.jupyter.widget-view+json": {
       "model_id": "",
       "version_major": 2,
       "version_minor": 0
      },
      "text/plain": [
       "Embedding:   0%|          | 0/24 [00:00<?, ?subject/s]"
      ]
     },
     "metadata": {},
     "output_type": "display_data"
    },
    {
     "data": {
      "application/vnd.jupyter.widget-view+json": {
       "model_id": "",
       "version_major": 2,
       "version_minor": 0
      },
      "text/plain": [
       "  0%|          | 0.00/13622.13 [00:00<?, ?longitudinal-days/s]"
      ]
     },
     "metadata": {},
     "output_type": "display_data"
    }
   ],
   "source": [
    "res = {}\n",
    "for name in models:\n",
    "    model = models[name]\n",
    "    print(name)\n",
    "    reporting_conf = ReportingConfig(output_dir=name,\n",
    "                                     console=True,\n",
    "                                     model_stats=False,\n",
    "                                     parameter_snapshots=True,\n",
    "                                     config_json=True)\n",
    "    reporting = TrainerReporting(reporting_conf, metrics=metrics)\n",
    "    \n",
    "    res[name] = trainer(model, m3patients, \n",
    "                  splits=splits,\n",
    "                  reporting=reporting,\n",
    "                  n_evals=100,\n",
    "                  warmup_config=warmup,\n",
    "                  continue_training=True)"
   ]
  },
  {
   "cell_type": "markdown",
   "id": "6ae45553",
   "metadata": {},
   "source": [
    "###### "
   ]
  }
 ],
 "metadata": {
  "kernelspec": {
   "display_name": "Python 3 (ipykernel)",
   "language": "python",
   "name": "python3"
  },
  "language_info": {
   "codemirror_mode": {
    "name": "ipython",
    "version": 3
   },
   "file_extension": ".py",
   "mimetype": "text/x-python",
   "name": "python",
   "nbconvert_exporter": "python",
   "pygments_lexer": "ipython3",
   "version": "3.9.17"
  }
 },
 "nbformat": 4,
 "nbformat_minor": 5
}
