{
 "cells": [
  {
   "cell_type": "code",
   "execution_count": 1,
   "id": "ab383786",
   "metadata": {},
   "outputs": [],
   "source": [
    "%load_ext autoreload\n",
    "%autoreload 2\n",
    "import sys\n",
    "import os\n",
    "import glob\n",
    "import random\n",
    "from collections import defaultdict\n",
    "from pathlib import Path\n",
    "\n",
    "from IPython.display import display\n",
    "\n",
    "import pandas as pd\n",
    "import dask\n",
    "\n",
    "from tqdm import tqdm\n",
    "import jax\n",
    "jax.config.update('jax_platform_name', 'cpu')\n",
    "# jax.config.update('jax_log_compiles', True)\n",
    "# jax.config.update(\"jax_debug_nans\", True)\n",
    "# jax.config.update(\"jax_enable_x64\", True)"
   ]
  },
  {
   "cell_type": "code",
   "execution_count": 2,
   "id": "c83480cb",
   "metadata": {},
   "outputs": [],
   "source": [
    "\n",
    "\n",
    "sys.path.append(\"../..\")\n",
    "\n",
    "from lib import utils as U\n",
    "from lib.ehr.dataset import load_dataset, load_dataset_scheme, Dataset\n",
    "from lib.ehr.interface import Patients\n",
    "from lib.ehr.concepts import DemographicVectorConfig\n"
   ]
  },
  {
   "cell_type": "code",
   "execution_count": 3,
   "id": "99451f48",
   "metadata": {},
   "outputs": [],
   "source": [
    "import logging\n",
    "logging.root.level = logging.INFO"
   ]
  },
  {
   "cell_type": "code",
   "execution_count": 4,
   "id": "19d8ad3d",
   "metadata": {},
   "outputs": [],
   "source": [
    "# Assign the folder of the dataset to `DATA_FILE`.\n",
    "\n",
    "HOME = os.environ.get('HOME')\n",
    "DATA_DIR = f'{HOME}/GP/ehr-data'\n",
    "SOURCE_DIR = os.path.abspath(\"..\")\n",
    "cache_to_disk = 'cached_inteface/patients'#_200'\n",
    "use_cached =  False #'cached_inteface/patients' #cache_to_disk        # False # \n"
   ]
  },
  {
   "cell_type": "code",
   "execution_count": 5,
   "id": "0da45b5c",
   "metadata": {},
   "outputs": [
    {
     "name": "stderr",
     "output_type": "stream",
     "text": [
      "/home/asem/GP/env/icenode-dev/lib/python3.9/site-packages/dask/dataframe/io/csv.py:544: UserWarning: Warning gzip compression does not support breaking apart files\n",
      "Please ensure that each individual file can fit in memory and\n",
      "use the keyword ``blocksize=None to remove this message``\n",
      "Setting ``blocksize=None``\n",
      "  warn(\n",
      "/home/asem/GP/env/icenode-dev/lib/python3.9/site-packages/dask/dataframe/io/csv.py:544: UserWarning: Warning gzip compression does not support breaking apart files\n",
      "Please ensure that each individual file can fit in memory and\n",
      "use the keyword ``blocksize=None to remove this message``\n",
      "Setting ``blocksize=None``\n",
      "  warn(\n",
      "/home/asem/GP/env/icenode-dev/lib/python3.9/site-packages/dask/dataframe/io/csv.py:544: UserWarning: Warning gzip compression does not support breaking apart files\n",
      "Please ensure that each individual file can fit in memory and\n",
      "use the keyword ``blocksize=None to remove this message``\n",
      "Setting ``blocksize=None``\n",
      "  warn(\n",
      "WARNING:root:Source discrepancy\n",
      "WARNING:root:M: dx_icd9->dx_ccs \n",
      "\n",
      "Mapping converts codes that are not supported by the source scheme.|M-domain - S|=0; |M-domain - S|/|M-domain|=0.00); first5(M-domain - S)=[]\n",
      "\n",
      "Source codes that not covered by the mapping. |S - M-domain|=2497; |S - M-domain|/|S|=0.14; first5(S - M-domain)=['001', '002', '003', '003.2', '004']\n",
      "\n",
      "|M-domain|=14878; first5(M-domain) ['001.0', '001.1', '001.9', '002.0', '002.1'].\n",
      "\n",
      "|S|=17375; first5(S)=['001', '001.0', '001.1', '001.9', '002']\n",
      "        \n",
      "WARNING:root:Source discrepancy\n",
      "WARNING:root:M: dx_icd9->dx_flatccs \n",
      "\n",
      "Mapping converts codes that are not supported by the source scheme.|M-domain - S|=0; |M-domain - S|/|M-domain|=0.00); first5(M-domain - S)=[]\n",
      "\n",
      "Source codes that not covered by the mapping. |S - M-domain|=2497; |S - M-domain|/|S|=0.14; first5(S - M-domain)=['001', '002', '003', '003.2', '004']\n",
      "\n",
      "|M-domain|=14878; first5(M-domain) ['001.0', '001.1', '001.9', '002.0', '002.1'].\n",
      "\n",
      "|S|=17375; first5(S)=['001', '001.0', '001.1', '001.9', '002']\n",
      "        \n",
      "WARNING:root:Source discrepancy\n",
      "WARNING:root:M: dx_ccs->dx_flatccs \n",
      "\n",
      "Mapping converts codes that are not supported by the source scheme.|M-domain - S|=0; |M-domain - S|/|M-domain|=0.00); first5(M-domain - S)=[]\n",
      "\n",
      "Source codes that not covered by the mapping. |S - M-domain|=139; |S - M-domain|/|S|=0.19; first5(S - M-domain)=['1', '1.1', '1.1.2', '1.2', '1.3']\n",
      "\n",
      "|M-domain|=589; first5(M-domain) ['1.1.1', '1.1.2.1', '1.1.2.2', '1.1.2.3', '1.1.2.4'].\n",
      "\n",
      "|S|=728; first5(S)=['1', '1.1', '1.1.1', '1.1.2', '1.1.2.1']\n",
      "        \n"
     ]
    }
   ],
   "source": [
    "if use_cached:\n",
    "    m3patients = Patients.load(use_cached)\n",
    "    splits = m3patients.dataset.random_splits([0.8, 0.9], random_seed=42, balanced='admissions')\n",
    "\n",
    "else:\n",
    "    with U.modified_environ(DATA_DIR=DATA_DIR), dask.config.set(scheduler='processes', num_workers=12):\n",
    "        \n",
    "        # Load dataset\n",
    "        m3_dataset = load_dataset('M3', sample=None)\n",
    "        # Use training-split for fitting the outlier_remover and the scalers.\n",
    "        splits = m3_dataset.random_splits([0.8, 0.9], random_seed=42, balanced='admissions')\n",
    "        \n",
    "        # Demographic vector attributes\n",
    "        demographic_vector_conf = DemographicVectorConfig(age=True, gender=True, ethnicity=True)\n",
    "        # Load interface\n",
    "        m3patients = Patients(m3_dataset, demographic_vector_conf).load_subjects(num_workers=12)\n",
    "\n",
    "        # Cache to disk\n",
    "        m3patients.save(cache_to_disk, overwrite=True)"
   ]
  },
  {
   "cell_type": "code",
   "execution_count": 6,
   "id": "d06795c0",
   "metadata": {},
   "outputs": [
    {
     "data": {
      "text/plain": [
       "7514"
      ]
     },
     "execution_count": 6,
     "metadata": {},
     "output_type": "execute_result"
    }
   ],
   "source": [
    "len(m3patients.subjects)"
   ]
  },
  {
   "cell_type": "code",
   "execution_count": 7,
   "id": "cebd58c5",
   "metadata": {},
   "outputs": [],
   "source": [
    "# m3patients.size_in_bytes() / 1024 ** 3"
   ]
  },
  {
   "cell_type": "code",
   "execution_count": 8,
   "id": "b598eb42",
   "metadata": {},
   "outputs": [],
   "source": [
    "# val_batch = m3patients.device_batch(splits[1])"
   ]
  },
  {
   "cell_type": "code",
   "execution_count": 9,
   "id": "428f1548",
   "metadata": {},
   "outputs": [],
   "source": [
    "# tst_batch = m3patients.device_batch(splits[2])"
   ]
  },
  {
   "cell_type": "code",
   "execution_count": 10,
   "id": "0108a8a5",
   "metadata": {},
   "outputs": [],
   "source": [
    "# val_batch.size_in_bytes() / 1024 ** 3, tst_batch.size_in_bytes() / 1024 ** 3"
   ]
  },
  {
   "cell_type": "code",
   "execution_count": 11,
   "id": "84e24feb",
   "metadata": {},
   "outputs": [],
   "source": [
    "# batch = m3patients.device_batch(splits[0][:32])"
   ]
  },
  {
   "cell_type": "code",
   "execution_count": 12,
   "id": "0af85343",
   "metadata": {},
   "outputs": [],
   "source": [
    "# batch.size_in_bytes() / 1024 ** 3"
   ]
  },
  {
   "cell_type": "code",
   "execution_count": 13,
   "id": "0210e539",
   "metadata": {},
   "outputs": [],
   "source": [
    "# len(batch.subjects)"
   ]
  },
  {
   "cell_type": "code",
   "execution_count": 14,
   "id": "de0adf08",
   "metadata": {},
   "outputs": [],
   "source": [
    "# batch.n_admissions()"
   ]
  },
  {
   "cell_type": "code",
   "execution_count": 15,
   "id": "0464a3bb",
   "metadata": {},
   "outputs": [],
   "source": [
    "# batch.n_segments()"
   ]
  },
  {
   "cell_type": "code",
   "execution_count": 16,
   "id": "1b3711f3",
   "metadata": {},
   "outputs": [],
   "source": [
    "# batch.n_obs_times()"
   ]
  },
  {
   "cell_type": "code",
   "execution_count": 17,
   "id": "9756e21b",
   "metadata": {},
   "outputs": [],
   "source": [
    "# s = batch.subjects[splits[0][6]].admissions[0]"
   ]
  },
  {
   "cell_type": "markdown",
   "id": "b66a64de",
   "metadata": {},
   "source": [
    "### التدريب على نموذج المعادلات التفاضلية الاعتيادية العصبية\n"
   ]
  },
  {
   "cell_type": "code",
   "execution_count": 18,
   "id": "9442545b",
   "metadata": {},
   "outputs": [],
   "source": [
    "from lib.ml import (ICENODE, ICENODEDimensions, PatientEmbeddingDimensions, \n",
    "                    Trainer, TrainerReporting, OptimizerConfig, WarmupConfig)\n",
    "from lib.metric import  (CodeAUC, UntilFirstCodeAUC, AdmissionAUC,\n",
    "                      CodeGroupTopAlarmAccuracy, LossMetric, ObsCodeLevelLossMetric)\n",
    "\n",
    "import jax.random as jrandom"
   ]
  },
  {
   "cell_type": "code",
   "execution_count": 19,
   "id": "c911e2f3",
   "metadata": {},
   "outputs": [
    {
     "name": "stderr",
     "output_type": "stream",
     "text": [
      "INFO:jax._src.xla_bridge:Unable to initialize backend 'rocm': NOT_FOUND: Could not find registered platform with name: \"rocm\". Available platform names are: Interpreter CUDA\n",
      "INFO:jax._src.xla_bridge:Unable to initialize backend 'tpu': module 'jaxlib.xla_extension' has no attribute 'get_tpu_client'\n"
     ]
    }
   ],
   "source": [
    "emb_dims = PatientEmbeddingDimensions(dx=10, demo=5)\n",
    "dims = ICENODEDimensions(mem=15, emb=emb_dims)\n",
    "key = jrandom.PRNGKey(0)\n",
    "\n",
    "m = ICENODE(dims=dims, \n",
    "              scheme=m3patients.dataset.scheme,\n",
    "              demographic_vector_config=m3patients.demographic_vector_config,\n",
    "              key=key)"
   ]
  },
  {
   "cell_type": "code",
   "execution_count": 20,
   "id": "72d4f9c8",
   "metadata": {},
   "outputs": [],
   "source": [
    "# res = m.batch_predict(m4inpatients.device_batch(), leave_pbar=True)"
   ]
  },
  {
   "cell_type": "code",
   "execution_count": 21,
   "id": "3658579e",
   "metadata": {
    "scrolled": true
   },
   "outputs": [],
   "source": [
    "splits = m3patients.random_splits([0.9, 0.95], \n",
    "                                    balanced='admissions')\n",
    "\n",
    "trainer = Trainer(optimizer_config=OptimizerConfig(opt='adam', lr=1e-3),\n",
    "                    reg_hyperparams=None,\n",
    "                    epochs=80,\n",
    "                    batch_size=256,\n",
    "                    dx_loss='allpairs_sigmoid_rank')\n",
    "\n",
    "warmup = WarmupConfig(epochs=0.1, \n",
    "                      batch_size=8,\n",
    "                      opt='adam', lr=1e-3, \n",
    "                      decay_rate=0.5)\n",
    "\n",
    "loss_metric =  LossMetric(m3patients, \n",
    "                          dx_loss=('softmax_bce', 'balanced_focal_softmax_bce', \n",
    "                                   'balanced_focal_bce', 'allpairs_exp_rank', 'allpairs_hard_rank', \n",
    "                                   'allpairs_sigmoid_rank'))\n",
    "\n",
    "metrics = [CodeAUC(m3patients), \n",
    "           AdmissionAUC(m3patients), \n",
    "           CodeGroupTopAlarmAccuracy(m3patients, n_partitions=5, \n",
    "                                     top_k_list=[3, 5, 10, 15, 20],\n",
    "                                     train_split=splits[0]),\n",
    "           loss_metric]\n",
    "\n",
    "\n",
    "reporting = TrainerReporting(output_dir='dx_icenode',\n",
    "                             metrics=metrics,\n",
    "                             console=False,\n",
    "                             parameter_snapshots=True,\n",
    "                             config_json=True)"
   ]
  },
  {
   "cell_type": "code",
   "execution_count": null,
   "id": "d5090a9c",
   "metadata": {
    "scrolled": false
   },
   "outputs": [
    {
     "name": "stderr",
     "output_type": "stream",
     "text": [
      "INFO:root:Continuing training from step 17\n",
      "INFO:root:HPs: {'opt_config': {'opt': 'adam', 'lr': 0.001, 'decay_rate': None, 'reverse_schedule': False}, 'reg_hyperparams': None, 'epochs': 20, 'batch_size': 512}\n"
     ]
    },
    {
     "data": {
      "application/vnd.jupyter.widget-view+json": {
       "model_id": "",
       "version_major": 2,
       "version_minor": 0
      },
      "text/plain": [
       "Loading to device:   0%|          | 0/360 [00:00<?, ?subject/s]"
      ]
     },
     "metadata": {},
     "output_type": "display_data"
    },
    {
     "data": {
      "application/vnd.jupyter.widget-view+json": {
       "model_id": "de2e47603390418ea2864e00d0a3a5d3",
       "version_major": 2,
       "version_minor": 0
      },
      "text/plain": [
       "  0%|          | 0/20 [00:00<?, ?Epoch/s]"
      ]
     },
     "metadata": {},
     "output_type": "display_data"
    },
    {
     "data": {
      "application/vnd.jupyter.widget-view+json": {
       "model_id": "",
       "version_major": 2,
       "version_minor": 0
      },
      "text/plain": [
       "  0%|          | 0/21 [00:00<?, ?Batch/s]"
      ]
     },
     "metadata": {},
     "output_type": "display_data"
    },
    {
     "data": {
      "application/vnd.jupyter.widget-view+json": {
       "model_id": "",
       "version_major": 2,
       "version_minor": 0
      },
      "text/plain": [
       "Loading to device:   0%|          | 0/341 [00:00<?, ?subject/s]"
      ]
     },
     "metadata": {},
     "output_type": "display_data"
    },
    {
     "data": {
      "application/vnd.jupyter.widget-view+json": {
       "model_id": "",
       "version_major": 2,
       "version_minor": 0
      },
      "text/plain": [
       "Loading to device:   0%|          | 0/316 [00:00<?, ?subject/s]"
      ]
     },
     "metadata": {},
     "output_type": "display_data"
    },
    {
     "data": {
      "application/vnd.jupyter.widget-view+json": {
       "model_id": "",
       "version_major": 2,
       "version_minor": 0
      },
      "text/plain": [
       "Loading to device:   0%|          | 0/335 [00:00<?, ?subject/s]"
      ]
     },
     "metadata": {},
     "output_type": "display_data"
    },
    {
     "data": {
      "application/vnd.jupyter.widget-view+json": {
       "model_id": "",
       "version_major": 2,
       "version_minor": 0
      },
      "text/plain": [
       "Loading to device:   0%|          | 0/299 [00:00<?, ?subject/s]"
      ]
     },
     "metadata": {},
     "output_type": "display_data"
    },
    {
     "data": {
      "application/vnd.jupyter.widget-view+json": {
       "model_id": "",
       "version_major": 2,
       "version_minor": 0
      },
      "text/plain": [
       "Loading to device:   0%|          | 0/333 [00:00<?, ?subject/s]"
      ]
     },
     "metadata": {},
     "output_type": "display_data"
    },
    {
     "data": {
      "application/vnd.jupyter.widget-view+json": {
       "model_id": "",
       "version_major": 2,
       "version_minor": 0
      },
      "text/plain": [
       "Loading to device:   0%|          | 0/274 [00:00<?, ?subject/s]"
      ]
     },
     "metadata": {},
     "output_type": "display_data"
    },
    {
     "data": {
      "application/vnd.jupyter.widget-view+json": {
       "model_id": "",
       "version_major": 2,
       "version_minor": 0
      },
      "text/plain": [
       "Loading to device:   0%|          | 0/331 [00:00<?, ?subject/s]"
      ]
     },
     "metadata": {},
     "output_type": "display_data"
    },
    {
     "data": {
      "application/vnd.jupyter.widget-view+json": {
       "model_id": "",
       "version_major": 2,
       "version_minor": 0
      },
      "text/plain": [
       "Loading to device:   0%|          | 0/327 [00:00<?, ?subject/s]"
      ]
     },
     "metadata": {},
     "output_type": "display_data"
    },
    {
     "data": {
      "application/vnd.jupyter.widget-view+json": {
       "model_id": "",
       "version_major": 2,
       "version_minor": 0
      },
      "text/plain": [
       "Loading to device:   0%|          | 0/334 [00:00<?, ?subject/s]"
      ]
     },
     "metadata": {},
     "output_type": "display_data"
    },
    {
     "data": {
      "application/vnd.jupyter.widget-view+json": {
       "model_id": "",
       "version_major": 2,
       "version_minor": 0
      },
      "text/plain": [
       "Loading to device:   0%|          | 0/321 [00:00<?, ?subject/s]"
      ]
     },
     "metadata": {},
     "output_type": "display_data"
    },
    {
     "data": {
      "application/vnd.jupyter.widget-view+json": {
       "model_id": "",
       "version_major": 2,
       "version_minor": 0
      },
      "text/plain": [
       "Loading to device:   0%|          | 0/305 [00:00<?, ?subject/s]"
      ]
     },
     "metadata": {},
     "output_type": "display_data"
    },
    {
     "data": {
      "application/vnd.jupyter.widget-view+json": {
       "model_id": "",
       "version_major": 2,
       "version_minor": 0
      },
      "text/plain": [
       "Loading to device:   0%|          | 0/340 [00:00<?, ?subject/s]"
      ]
     },
     "metadata": {},
     "output_type": "display_data"
    },
    {
     "data": {
      "application/vnd.jupyter.widget-view+json": {
       "model_id": "",
       "version_major": 2,
       "version_minor": 0
      },
      "text/plain": [
       "Loading to device:   0%|          | 0/365 [00:00<?, ?subject/s]"
      ]
     },
     "metadata": {},
     "output_type": "display_data"
    },
    {
     "data": {
      "application/vnd.jupyter.widget-view+json": {
       "model_id": "",
       "version_major": 2,
       "version_minor": 0
      },
      "text/plain": [
       "Loading to device:   0%|          | 0/338 [00:00<?, ?subject/s]"
      ]
     },
     "metadata": {},
     "output_type": "display_data"
    },
    {
     "data": {
      "application/vnd.jupyter.widget-view+json": {
       "model_id": "",
       "version_major": 2,
       "version_minor": 0
      },
      "text/plain": [
       "Loading to device:   0%|          | 0/300 [00:00<?, ?subject/s]"
      ]
     },
     "metadata": {},
     "output_type": "display_data"
    },
    {
     "data": {
      "application/vnd.jupyter.widget-view+json": {
       "model_id": "",
       "version_major": 2,
       "version_minor": 0
      },
      "text/plain": [
       "Loading to device:   0%|          | 0/342 [00:00<?, ?subject/s]"
      ]
     },
     "metadata": {},
     "output_type": "display_data"
    },
    {
     "data": {
      "application/vnd.jupyter.widget-view+json": {
       "model_id": "",
       "version_major": 2,
       "version_minor": 0
      },
      "text/plain": [
       "Loading to device:   0%|          | 0/312 [00:00<?, ?subject/s]"
      ]
     },
     "metadata": {},
     "output_type": "display_data"
    },
    {
     "data": {
      "application/vnd.jupyter.widget-view+json": {
       "model_id": "",
       "version_major": 2,
       "version_minor": 0
      },
      "text/plain": [
       "Loading to device:   0%|          | 0/317 [00:00<?, ?subject/s]"
      ]
     },
     "metadata": {},
     "output_type": "display_data"
    },
    {
     "data": {
      "application/vnd.jupyter.widget-view+json": {
       "model_id": "",
       "version_major": 2,
       "version_minor": 0
      },
      "text/plain": [
       "Embedding:   0%|          | 0/317 [00:00<?, ?subject/s]"
      ]
     },
     "metadata": {},
     "output_type": "display_data"
    },
    {
     "data": {
      "application/vnd.jupyter.widget-view+json": {
       "model_id": "",
       "version_major": 2,
       "version_minor": 0
      },
      "text/plain": [
       "  0%|          | 0.00/213482.04 [00:00<?, ?odeint-days/s]"
      ]
     },
     "metadata": {},
     "output_type": "display_data"
    },
    {
     "data": {
      "application/vnd.jupyter.widget-view+json": {
       "model_id": "",
       "version_major": 2,
       "version_minor": 0
      },
      "text/plain": [
       "Loading to device:   0%|          | 0/341 [00:00<?, ?subject/s]"
      ]
     },
     "metadata": {},
     "output_type": "display_data"
    },
    {
     "data": {
      "application/vnd.jupyter.widget-view+json": {
       "model_id": "",
       "version_major": 2,
       "version_minor": 0
      },
      "text/plain": [
       "Embedding:   0%|          | 0/341 [00:00<?, ?subject/s]"
      ]
     },
     "metadata": {},
     "output_type": "display_data"
    },
    {
     "data": {
      "application/vnd.jupyter.widget-view+json": {
       "model_id": "",
       "version_major": 2,
       "version_minor": 0
      },
      "text/plain": [
       "  0%|          | 0.00/220950.33 [00:00<?, ?odeint-days/s]"
      ]
     },
     "metadata": {},
     "output_type": "display_data"
    },
    {
     "data": {
      "application/vnd.jupyter.widget-view+json": {
       "model_id": "",
       "version_major": 2,
       "version_minor": 0
      },
      "text/plain": [
       "Loading to device:   0%|          | 0/301 [00:00<?, ?subject/s]"
      ]
     },
     "metadata": {},
     "output_type": "display_data"
    },
    {
     "data": {
      "application/vnd.jupyter.widget-view+json": {
       "model_id": "",
       "version_major": 2,
       "version_minor": 0
      },
      "text/plain": [
       "Embedding:   0%|          | 0/301 [00:00<?, ?subject/s]"
      ]
     },
     "metadata": {},
     "output_type": "display_data"
    },
    {
     "data": {
      "application/vnd.jupyter.widget-view+json": {
       "model_id": "",
       "version_major": 2,
       "version_minor": 0
      },
      "text/plain": [
       "  0%|          | 0.00/218839.46 [00:00<?, ?odeint-days/s]"
      ]
     },
     "metadata": {},
     "output_type": "display_data"
    },
    {
     "data": {
      "application/vnd.jupyter.widget-view+json": {
       "model_id": "",
       "version_major": 2,
       "version_minor": 0
      },
      "text/plain": [
       "Loading to device:   0%|          | 0/297 [00:00<?, ?subject/s]"
      ]
     },
     "metadata": {},
     "output_type": "display_data"
    },
    {
     "data": {
      "application/vnd.jupyter.widget-view+json": {
       "model_id": "",
       "version_major": 2,
       "version_minor": 0
      },
      "text/plain": [
       "Embedding:   0%|          | 0/297 [00:00<?, ?subject/s]"
      ]
     },
     "metadata": {},
     "output_type": "display_data"
    },
    {
     "data": {
      "application/vnd.jupyter.widget-view+json": {
       "model_id": "",
       "version_major": 2,
       "version_minor": 0
      },
      "text/plain": [
       "  0%|          | 0.00/209441.21 [00:00<?, ?odeint-days/s]"
      ]
     },
     "metadata": {},
     "output_type": "display_data"
    },
    {
     "data": {
      "application/vnd.jupyter.widget-view+json": {
       "model_id": "",
       "version_major": 2,
       "version_minor": 0
      },
      "text/plain": [
       "Embedding:   0%|          | 0/297 [00:00<?, ?subject/s]"
      ]
     },
     "metadata": {},
     "output_type": "display_data"
    },
    {
     "data": {
      "application/vnd.jupyter.widget-view+json": {
       "model_id": "",
       "version_major": 2,
       "version_minor": 0
      },
      "text/plain": [
       "  0%|          | 0.00/209441.21 [00:00<?, ?odeint-days/s]"
      ]
     },
     "metadata": {},
     "output_type": "display_data"
    },
    {
     "data": {
      "application/vnd.jupyter.widget-view+json": {
       "model_id": "",
       "version_major": 2,
       "version_minor": 0
      },
      "text/plain": [
       "Embedding:   0%|          | 0/360 [00:00<?, ?subject/s]"
      ]
     },
     "metadata": {},
     "output_type": "display_data"
    },
    {
     "data": {
      "application/vnd.jupyter.widget-view+json": {
       "model_id": "",
       "version_major": 2,
       "version_minor": 0
      },
      "text/plain": [
       "  0%|          | 0.00/250814.31 [00:00<?, ?odeint-days/s]"
      ]
     },
     "metadata": {},
     "output_type": "display_data"
    },
    {
     "name": "stderr",
     "output_type": "stream",
     "text": [
      "INFO:root:train    CodeAUC.I0C1.auc  CodeAUC.I0C1.n  CodeAUC.I1C10.auc  CodeAUC.I1C10.n  \\\n",
      "21          0.285448               2            0.45341               15   \n",
      "\n",
      "    CodeAUC.I2C100.auc  CodeAUC.I2C100.n  CodeAUC.I3C101.auc  \\\n",
      "21            0.486886                36            0.565723   \n",
      "\n",
      "    CodeAUC.I3C101.n  CodeAUC.I4C102.auc  CodeAUC.I4C102.n  ...  G1k20.acc  \\\n",
      "21               177            0.622558                 9  ...   0.158602   \n",
      "\n",
      "    G2k20.acc  G3k20.acc  G4k20.acc  LossMetric.allpairs_exp_rank  \\\n",
      "21   0.233365   0.395122    0.48329                     3.7896497   \n",
      "\n",
      "    LossMetric.allpairs_hard_rank  LossMetric.allpairs_sigmoid_rank  \\\n",
      "21                    0.073687896                        0.28351343   \n",
      "\n",
      "    LossMetric.balanced_focal_bce  LossMetric.balanced_focal_softmax_bce  \\\n",
      "21                     0.20307705                              0.7666606   \n",
      "\n",
      "    LossMetric.softmax_bce  \n",
      "21                8.719011  \n",
      "\n",
      "[1 rows x 525 columns]\n",
      "INFO:root:val    CodeAUC.I0C1.auc  CodeAUC.I0C1.n  CodeAUC.I1C10.auc  CodeAUC.I1C10.n  \\\n",
      "21          0.749209               4           0.560872                9   \n",
      "\n",
      "    CodeAUC.I2C100.auc  CodeAUC.I2C100.n  CodeAUC.I3C101.auc  \\\n",
      "21            0.545802                50            0.549995   \n",
      "\n",
      "    CodeAUC.I3C101.n  CodeAUC.I4C102.auc  CodeAUC.I4C102.n  ...  G1k20.acc  \\\n",
      "21               204            0.538701                15  ...   0.169419   \n",
      "\n",
      "    G2k20.acc  G3k20.acc  G4k20.acc  LossMetric.allpairs_exp_rank  \\\n",
      "21   0.225728   0.371968   0.457423                     3.8535557   \n",
      "\n",
      "    LossMetric.allpairs_hard_rank  LossMetric.allpairs_sigmoid_rank  \\\n",
      "21                     0.07547018                        0.28474534   \n",
      "\n",
      "    LossMetric.balanced_focal_bce  LossMetric.balanced_focal_softmax_bce  \\\n",
      "21                     0.21445556                              0.7916574   \n",
      "\n",
      "    LossMetric.softmax_bce  \n",
      "21                9.083916  \n",
      "\n",
      "[1 rows x 525 columns]\n",
      "INFO:root:tstNone\n"
     ]
    },
    {
     "data": {
      "application/vnd.jupyter.widget-view+json": {
       "model_id": "b05a467fc68a4bd29f573cd62911f542",
       "version_major": 2,
       "version_minor": 0
      },
      "text/plain": [
       "  0%|          | 0/21 [00:00<?, ?Batch/s]"
      ]
     },
     "metadata": {},
     "output_type": "display_data"
    },
    {
     "data": {
      "application/vnd.jupyter.widget-view+json": {
       "model_id": "",
       "version_major": 2,
       "version_minor": 0
      },
      "text/plain": [
       "Loading to device:   0%|          | 0/334 [00:00<?, ?subject/s]"
      ]
     },
     "metadata": {},
     "output_type": "display_data"
    },
    {
     "data": {
      "application/vnd.jupyter.widget-view+json": {
       "model_id": "",
       "version_major": 2,
       "version_minor": 0
      },
      "text/plain": [
       "Embedding:   0%|          | 0/334 [00:00<?, ?subject/s]"
      ]
     },
     "metadata": {},
     "output_type": "display_data"
    },
    {
     "data": {
      "application/vnd.jupyter.widget-view+json": {
       "model_id": "",
       "version_major": 2,
       "version_minor": 0
      },
      "text/plain": [
       "  0%|          | 0.00/217016.32 [00:00<?, ?odeint-days/s]"
      ]
     },
     "metadata": {},
     "output_type": "display_data"
    },
    {
     "data": {
      "application/vnd.jupyter.widget-view+json": {
       "model_id": "",
       "version_major": 2,
       "version_minor": 0
      },
      "text/plain": [
       "Loading to device:   0%|          | 0/319 [00:00<?, ?subject/s]"
      ]
     },
     "metadata": {},
     "output_type": "display_data"
    },
    {
     "data": {
      "application/vnd.jupyter.widget-view+json": {
       "model_id": "",
       "version_major": 2,
       "version_minor": 0
      },
      "text/plain": [
       "Embedding:   0%|          | 0/319 [00:00<?, ?subject/s]"
      ]
     },
     "metadata": {},
     "output_type": "display_data"
    },
    {
     "data": {
      "application/vnd.jupyter.widget-view+json": {
       "model_id": "",
       "version_major": 2,
       "version_minor": 0
      },
      "text/plain": [
       "  0%|          | 0.00/204529.69 [00:00<?, ?odeint-days/s]"
      ]
     },
     "metadata": {},
     "output_type": "display_data"
    },
    {
     "data": {
      "application/vnd.jupyter.widget-view+json": {
       "model_id": "",
       "version_major": 2,
       "version_minor": 0
      },
      "text/plain": [
       "Loading to device:   0%|          | 0/321 [00:00<?, ?subject/s]"
      ]
     },
     "metadata": {},
     "output_type": "display_data"
    },
    {
     "data": {
      "application/vnd.jupyter.widget-view+json": {
       "model_id": "",
       "version_major": 2,
       "version_minor": 0
      },
      "text/plain": [
       "Embedding:   0%|          | 0/321 [00:00<?, ?subject/s]"
      ]
     },
     "metadata": {},
     "output_type": "display_data"
    },
    {
     "data": {
      "application/vnd.jupyter.widget-view+json": {
       "model_id": "",
       "version_major": 2,
       "version_minor": 0
      },
      "text/plain": [
       "  0%|          | 0.00/218744.45 [00:00<?, ?odeint-days/s]"
      ]
     },
     "metadata": {},
     "output_type": "display_data"
    },
    {
     "data": {
      "application/vnd.jupyter.widget-view+json": {
       "model_id": "",
       "version_major": 2,
       "version_minor": 0
      },
      "text/plain": [
       "Loading to device:   0%|          | 0/323 [00:00<?, ?subject/s]"
      ]
     },
     "metadata": {},
     "output_type": "display_data"
    },
    {
     "data": {
      "application/vnd.jupyter.widget-view+json": {
       "model_id": "",
       "version_major": 2,
       "version_minor": 0
      },
      "text/plain": [
       "Embedding:   0%|          | 0/323 [00:00<?, ?subject/s]"
      ]
     },
     "metadata": {},
     "output_type": "display_data"
    },
    {
     "data": {
      "application/vnd.jupyter.widget-view+json": {
       "model_id": "",
       "version_major": 2,
       "version_minor": 0
      },
      "text/plain": [
       "  0%|          | 0.00/223033.58 [00:00<?, ?odeint-days/s]"
      ]
     },
     "metadata": {},
     "output_type": "display_data"
    },
    {
     "data": {
      "application/vnd.jupyter.widget-view+json": {
       "model_id": "",
       "version_major": 2,
       "version_minor": 0
      },
      "text/plain": [
       "Loading to device:   0%|          | 0/346 [00:00<?, ?subject/s]"
      ]
     },
     "metadata": {},
     "output_type": "display_data"
    },
    {
     "data": {
      "application/vnd.jupyter.widget-view+json": {
       "model_id": "",
       "version_major": 2,
       "version_minor": 0
      },
      "text/plain": [
       "Embedding:   0%|          | 0/346 [00:00<?, ?subject/s]"
      ]
     },
     "metadata": {},
     "output_type": "display_data"
    },
    {
     "data": {
      "application/vnd.jupyter.widget-view+json": {
       "model_id": "",
       "version_major": 2,
       "version_minor": 0
      },
      "text/plain": [
       "  0%|          | 0.00/217654.21 [00:00<?, ?odeint-days/s]"
      ]
     },
     "metadata": {},
     "output_type": "display_data"
    },
    {
     "data": {
      "application/vnd.jupyter.widget-view+json": {
       "model_id": "",
       "version_major": 2,
       "version_minor": 0
      },
      "text/plain": [
       "Embedding:   0%|          | 0/346 [00:00<?, ?subject/s]"
      ]
     },
     "metadata": {},
     "output_type": "display_data"
    },
    {
     "data": {
      "application/vnd.jupyter.widget-view+json": {
       "model_id": "",
       "version_major": 2,
       "version_minor": 0
      },
      "text/plain": [
       "  0%|          | 0.00/217654.21 [00:00<?, ?odeint-days/s]"
      ]
     },
     "metadata": {},
     "output_type": "display_data"
    },
    {
     "data": {
      "application/vnd.jupyter.widget-view+json": {
       "model_id": "",
       "version_major": 2,
       "version_minor": 0
      },
      "text/plain": [
       "Embedding:   0%|          | 0/360 [00:00<?, ?subject/s]"
      ]
     },
     "metadata": {},
     "output_type": "display_data"
    },
    {
     "data": {
      "application/vnd.jupyter.widget-view+json": {
       "model_id": "",
       "version_major": 2,
       "version_minor": 0
      },
      "text/plain": [
       "  0%|          | 0.00/250814.31 [00:00<?, ?odeint-days/s]"
      ]
     },
     "metadata": {},
     "output_type": "display_data"
    },
    {
     "name": "stderr",
     "output_type": "stream",
     "text": [
      "INFO:root:train    CodeAUC.I0C1.auc  CodeAUC.I0C1.n  CodeAUC.I1C10.auc  CodeAUC.I1C10.n  \\\n",
      "21          0.285448               2           0.453410               15   \n",
      "26          0.685728               4           0.531379               14   \n",
      "\n",
      "    CodeAUC.I2C100.auc  CodeAUC.I2C100.n  CodeAUC.I3C101.auc  \\\n",
      "21            0.486886                36            0.565723   \n",
      "26            0.538402                51            0.556575   \n",
      "\n",
      "    CodeAUC.I3C101.n  CodeAUC.I4C102.auc  CodeAUC.I4C102.n  ...  G1k20.acc  \\\n",
      "21               177            0.622558                 9  ...   0.158602   \n",
      "26               184            0.583019                 3  ...   0.173010   \n",
      "\n",
      "    G2k20.acc  G3k20.acc  G4k20.acc  LossMetric.allpairs_exp_rank  \\\n",
      "21   0.233365   0.395122    0.48329                     3.7896497   \n",
      "26   0.225184   0.417081    0.61868                      3.432319   \n",
      "\n",
      "    LossMetric.allpairs_hard_rank  LossMetric.allpairs_sigmoid_rank  \\\n",
      "21                    0.073687896                        0.28351343   \n",
      "26                    0.064076684                        0.26359195   \n",
      "\n",
      "    LossMetric.balanced_focal_bce  LossMetric.balanced_focal_softmax_bce  \\\n",
      "21                     0.20307705                              0.7666606   \n",
      "26                     0.24977298                                    inf   \n",
      "\n",
      "    LossMetric.softmax_bce  \n",
      "21                8.719011  \n",
      "26                     inf  \n",
      "\n",
      "[2 rows x 525 columns]\n",
      "INFO:root:val    CodeAUC.I0C1.auc  CodeAUC.I0C1.n  CodeAUC.I1C10.auc  CodeAUC.I1C10.n  \\\n",
      "21          0.749209               4           0.560872                9   \n",
      "26          0.750396               4           0.559454                9   \n",
      "\n",
      "    CodeAUC.I2C100.auc  CodeAUC.I2C100.n  CodeAUC.I3C101.auc  \\\n",
      "21            0.545802                50            0.549995   \n",
      "26            0.545563                50            0.549825   \n",
      "\n",
      "    CodeAUC.I3C101.n  CodeAUC.I4C102.auc  CodeAUC.I4C102.n  ...  G1k20.acc  \\\n",
      "21               204            0.538701                15  ...   0.169419   \n",
      "26               204            0.539130                15  ...   0.170136   \n",
      "\n",
      "    G2k20.acc  G3k20.acc  G4k20.acc  LossMetric.allpairs_exp_rank  \\\n",
      "21   0.225728   0.371968   0.457423                     3.8535557   \n",
      "26   0.225728   0.394879   0.611153                     3.5936558   \n",
      "\n",
      "    LossMetric.allpairs_hard_rank  LossMetric.allpairs_sigmoid_rank  \\\n",
      "21                     0.07547018                        0.28474534   \n",
      "26                    0.068016365                        0.26870766   \n",
      "\n",
      "    LossMetric.balanced_focal_bce  LossMetric.balanced_focal_softmax_bce  \\\n",
      "21                     0.21445556                              0.7916574   \n",
      "26                       0.250684                                    inf   \n",
      "\n",
      "    LossMetric.softmax_bce  \n",
      "21                9.083916  \n",
      "26                     inf  \n",
      "\n",
      "[2 rows x 525 columns]\n",
      "INFO:root:tstNone\n"
     ]
    },
    {
     "data": {
      "application/vnd.jupyter.widget-view+json": {
       "model_id": "",
       "version_major": 2,
       "version_minor": 0
      },
      "text/plain": [
       "Loading to device:   0%|          | 0/354 [00:00<?, ?subject/s]"
      ]
     },
     "metadata": {},
     "output_type": "display_data"
    },
    {
     "data": {
      "application/vnd.jupyter.widget-view+json": {
       "model_id": "",
       "version_major": 2,
       "version_minor": 0
      },
      "text/plain": [
       "Embedding:   0%|          | 0/354 [00:00<?, ?subject/s]"
      ]
     },
     "metadata": {},
     "output_type": "display_data"
    },
    {
     "data": {
      "application/vnd.jupyter.widget-view+json": {
       "model_id": "",
       "version_major": 2,
       "version_minor": 0
      },
      "text/plain": [
       "  0%|          | 0.00/219958.34 [00:00<?, ?odeint-days/s]"
      ]
     },
     "metadata": {},
     "output_type": "display_data"
    },
    {
     "data": {
      "application/vnd.jupyter.widget-view+json": {
       "model_id": "",
       "version_major": 2,
       "version_minor": 0
      },
      "text/plain": [
       "Loading to device:   0%|          | 0/313 [00:00<?, ?subject/s]"
      ]
     },
     "metadata": {},
     "output_type": "display_data"
    },
    {
     "data": {
      "application/vnd.jupyter.widget-view+json": {
       "model_id": "",
       "version_major": 2,
       "version_minor": 0
      },
      "text/plain": [
       "Embedding:   0%|          | 0/313 [00:00<?, ?subject/s]"
      ]
     },
     "metadata": {},
     "output_type": "display_data"
    },
    {
     "data": {
      "application/vnd.jupyter.widget-view+json": {
       "model_id": "",
       "version_major": 2,
       "version_minor": 0
      },
      "text/plain": [
       "  0%|          | 0.00/215509.48 [00:00<?, ?odeint-days/s]"
      ]
     },
     "metadata": {},
     "output_type": "display_data"
    },
    {
     "data": {
      "application/vnd.jupyter.widget-view+json": {
       "model_id": "",
       "version_major": 2,
       "version_minor": 0
      },
      "text/plain": [
       "Loading to device:   0%|          | 0/324 [00:00<?, ?subject/s]"
      ]
     },
     "metadata": {},
     "output_type": "display_data"
    },
    {
     "data": {
      "application/vnd.jupyter.widget-view+json": {
       "model_id": "",
       "version_major": 2,
       "version_minor": 0
      },
      "text/plain": [
       "Embedding:   0%|          | 0/324 [00:00<?, ?subject/s]"
      ]
     },
     "metadata": {},
     "output_type": "display_data"
    },
    {
     "data": {
      "application/vnd.jupyter.widget-view+json": {
       "model_id": "",
       "version_major": 2,
       "version_minor": 0
      },
      "text/plain": [
       "  0%|          | 0.00/220829.46 [00:00<?, ?odeint-days/s]"
      ]
     },
     "metadata": {},
     "output_type": "display_data"
    },
    {
     "data": {
      "application/vnd.jupyter.widget-view+json": {
       "model_id": "",
       "version_major": 2,
       "version_minor": 0
      },
      "text/plain": [
       "Loading to device:   0%|          | 0/349 [00:00<?, ?subject/s]"
      ]
     },
     "metadata": {},
     "output_type": "display_data"
    },
    {
     "data": {
      "application/vnd.jupyter.widget-view+json": {
       "model_id": "",
       "version_major": 2,
       "version_minor": 0
      },
      "text/plain": [
       "Embedding:   0%|          | 0/349 [00:00<?, ?subject/s]"
      ]
     },
     "metadata": {},
     "output_type": "display_data"
    },
    {
     "data": {
      "application/vnd.jupyter.widget-view+json": {
       "model_id": "",
       "version_major": 2,
       "version_minor": 0
      },
      "text/plain": [
       "  0%|          | 0.00/239650.63 [00:00<?, ?odeint-days/s]"
      ]
     },
     "metadata": {},
     "output_type": "display_data"
    },
    {
     "data": {
      "application/vnd.jupyter.widget-view+json": {
       "model_id": "",
       "version_major": 2,
       "version_minor": 0
      },
      "text/plain": [
       "Embedding:   0%|          | 0/349 [00:00<?, ?subject/s]"
      ]
     },
     "metadata": {},
     "output_type": "display_data"
    },
    {
     "data": {
      "application/vnd.jupyter.widget-view+json": {
       "model_id": "",
       "version_major": 2,
       "version_minor": 0
      },
      "text/plain": [
       "  0%|          | 0.00/239650.63 [00:00<?, ?odeint-days/s]"
      ]
     },
     "metadata": {},
     "output_type": "display_data"
    },
    {
     "data": {
      "application/vnd.jupyter.widget-view+json": {
       "model_id": "",
       "version_major": 2,
       "version_minor": 0
      },
      "text/plain": [
       "Embedding:   0%|          | 0/360 [00:00<?, ?subject/s]"
      ]
     },
     "metadata": {},
     "output_type": "display_data"
    },
    {
     "data": {
      "application/vnd.jupyter.widget-view+json": {
       "model_id": "",
       "version_major": 2,
       "version_minor": 0
      },
      "text/plain": [
       "  0%|          | 0.00/250814.31 [00:00<?, ?odeint-days/s]"
      ]
     },
     "metadata": {},
     "output_type": "display_data"
    },
    {
     "name": "stderr",
     "output_type": "stream",
     "text": [
      "INFO:root:train    CodeAUC.I0C1.auc  CodeAUC.I0C1.n  CodeAUC.I1C10.auc  CodeAUC.I1C10.n  \\\n",
      "21          0.285448               2           0.453410               15   \n",
      "26          0.685728               4           0.531379               14   \n",
      "30          0.573585               2           0.684637                8   \n",
      "\n",
      "    CodeAUC.I2C100.auc  CodeAUC.I2C100.n  CodeAUC.I3C101.auc  \\\n",
      "21            0.486886                36            0.565723   \n",
      "26            0.538402                51            0.556575   \n",
      "30            0.527062                32            0.539939   \n",
      "\n",
      "    CodeAUC.I3C101.n  CodeAUC.I4C102.auc  CodeAUC.I4C102.n  ...  G1k20.acc  \\\n",
      "21               177            0.622558                 9  ...   0.158602   \n",
      "26               184            0.583019                 3  ...   0.173010   \n",
      "30               167            0.263653                 1  ...   0.154930   \n",
      "\n",
      "    G2k20.acc  G3k20.acc  G4k20.acc  LossMetric.allpairs_exp_rank  \\\n",
      "21   0.233365   0.395122   0.483290                     3.7896497   \n",
      "26   0.225184   0.417081   0.618680                      3.432319   \n",
      "30   0.260223   0.506234   0.639037                      3.360579   \n",
      "\n",
      "    LossMetric.allpairs_hard_rank  LossMetric.allpairs_sigmoid_rank  \\\n",
      "21                    0.073687896                        0.28351343   \n",
      "26                    0.064076684                        0.26359195   \n",
      "30                    0.060097024                        0.25719467   \n",
      "\n",
      "    LossMetric.balanced_focal_bce  LossMetric.balanced_focal_softmax_bce  \\\n",
      "21                     0.20307705                              0.7666606   \n",
      "26                     0.24977298                                    inf   \n",
      "30                      0.3149367                                    inf   \n",
      "\n",
      "    LossMetric.softmax_bce  \n",
      "21                8.719011  \n",
      "26                     inf  \n",
      "30                     inf  \n",
      "\n",
      "[3 rows x 525 columns]\n",
      "INFO:root:val    CodeAUC.I0C1.auc  CodeAUC.I0C1.n  CodeAUC.I1C10.auc  CodeAUC.I1C10.n  \\\n",
      "21          0.749209               4           0.560872                9   \n",
      "26          0.750396               4           0.559454                9   \n",
      "30          0.750791               4           0.559100                9   \n",
      "\n",
      "    CodeAUC.I2C100.auc  CodeAUC.I2C100.n  CodeAUC.I3C101.auc  \\\n",
      "21            0.545802                50            0.549995   \n",
      "26            0.545563                50            0.549825   \n",
      "30            0.545597                50            0.549837   \n",
      "\n",
      "    CodeAUC.I3C101.n  CodeAUC.I4C102.auc  CodeAUC.I4C102.n  ...  G1k20.acc  \\\n",
      "21               204            0.538701                15  ...   0.169419   \n",
      "26               204            0.539130                15  ...   0.170136   \n",
      "30               204            0.539238                15  ...   0.178751   \n",
      "\n",
      "    G2k20.acc  G3k20.acc  G4k20.acc  LossMetric.allpairs_exp_rank  \\\n",
      "21   0.225728   0.371968   0.457423                     3.8535557   \n",
      "26   0.225728   0.394879   0.611153                     3.5936558   \n",
      "30   0.225728   0.520889   0.611153                      3.490601   \n",
      "\n",
      "    LossMetric.allpairs_hard_rank  LossMetric.allpairs_sigmoid_rank  \\\n",
      "21                     0.07547018                        0.28474534   \n",
      "26                    0.068016365                        0.26870766   \n",
      "30                     0.06336208                        0.26113316   \n",
      "\n",
      "    LossMetric.balanced_focal_bce  LossMetric.balanced_focal_softmax_bce  \\\n",
      "21                     0.21445556                              0.7916574   \n",
      "26                       0.250684                                    inf   \n",
      "30                      0.2694263                                    inf   \n",
      "\n",
      "    LossMetric.softmax_bce  \n",
      "21                9.083916  \n",
      "26                     inf  \n",
      "30                     inf  \n",
      "\n",
      "[3 rows x 525 columns]\n",
      "INFO:root:tstNone\n"
     ]
    },
    {
     "data": {
      "application/vnd.jupyter.widget-view+json": {
       "model_id": "",
       "version_major": 2,
       "version_minor": 0
      },
      "text/plain": [
       "Loading to device:   0%|          | 0/305 [00:00<?, ?subject/s]"
      ]
     },
     "metadata": {},
     "output_type": "display_data"
    },
    {
     "data": {
      "application/vnd.jupyter.widget-view+json": {
       "model_id": "",
       "version_major": 2,
       "version_minor": 0
      },
      "text/plain": [
       "Embedding:   0%|          | 0/305 [00:00<?, ?subject/s]"
      ]
     },
     "metadata": {},
     "output_type": "display_data"
    },
    {
     "data": {
      "application/vnd.jupyter.widget-view+json": {
       "model_id": "",
       "version_major": 2,
       "version_minor": 0
      },
      "text/plain": [
       "  0%|          | 0.00/202374.73 [00:00<?, ?odeint-days/s]"
      ]
     },
     "metadata": {},
     "output_type": "display_data"
    },
    {
     "data": {
      "application/vnd.jupyter.widget-view+json": {
       "model_id": "",
       "version_major": 2,
       "version_minor": 0
      },
      "text/plain": [
       "Loading to device:   0%|          | 0/298 [00:00<?, ?subject/s]"
      ]
     },
     "metadata": {},
     "output_type": "display_data"
    },
    {
     "data": {
      "application/vnd.jupyter.widget-view+json": {
       "model_id": "",
       "version_major": 2,
       "version_minor": 0
      },
      "text/plain": [
       "Embedding:   0%|          | 0/298 [00:00<?, ?subject/s]"
      ]
     },
     "metadata": {},
     "output_type": "display_data"
    },
    {
     "data": {
      "application/vnd.jupyter.widget-view+json": {
       "model_id": "",
       "version_major": 2,
       "version_minor": 0
      },
      "text/plain": [
       "  0%|          | 0.00/235650.37 [00:00<?, ?odeint-days/s]"
      ]
     },
     "metadata": {},
     "output_type": "display_data"
    },
    {
     "data": {
      "application/vnd.jupyter.widget-view+json": {
       "model_id": "",
       "version_major": 2,
       "version_minor": 0
      },
      "text/plain": [
       "Loading to device:   0%|          | 0/310 [00:00<?, ?subject/s]"
      ]
     },
     "metadata": {},
     "output_type": "display_data"
    },
    {
     "data": {
      "application/vnd.jupyter.widget-view+json": {
       "model_id": "",
       "version_major": 2,
       "version_minor": 0
      },
      "text/plain": [
       "Embedding:   0%|          | 0/310 [00:00<?, ?subject/s]"
      ]
     },
     "metadata": {},
     "output_type": "display_data"
    },
    {
     "data": {
      "application/vnd.jupyter.widget-view+json": {
       "model_id": "",
       "version_major": 2,
       "version_minor": 0
      },
      "text/plain": [
       "  0%|          | 0.00/222101.04 [00:00<?, ?odeint-days/s]"
      ]
     },
     "metadata": {},
     "output_type": "display_data"
    },
    {
     "data": {
      "application/vnd.jupyter.widget-view+json": {
       "model_id": "",
       "version_major": 2,
       "version_minor": 0
      },
      "text/plain": [
       "Loading to device:   0%|          | 0/304 [00:00<?, ?subject/s]"
      ]
     },
     "metadata": {},
     "output_type": "display_data"
    },
    {
     "data": {
      "application/vnd.jupyter.widget-view+json": {
       "model_id": "",
       "version_major": 2,
       "version_minor": 0
      },
      "text/plain": [
       "Embedding:   0%|          | 0/304 [00:00<?, ?subject/s]"
      ]
     },
     "metadata": {},
     "output_type": "display_data"
    },
    {
     "data": {
      "application/vnd.jupyter.widget-view+json": {
       "model_id": "",
       "version_major": 2,
       "version_minor": 0
      },
      "text/plain": [
       "  0%|          | 0.00/216490.19 [00:00<?, ?odeint-days/s]"
      ]
     },
     "metadata": {},
     "output_type": "display_data"
    },
    {
     "data": {
      "application/vnd.jupyter.widget-view+json": {
       "model_id": "",
       "version_major": 2,
       "version_minor": 0
      },
      "text/plain": [
       "Loading to device:   0%|          | 0/312 [00:00<?, ?subject/s]"
      ]
     },
     "metadata": {},
     "output_type": "display_data"
    },
    {
     "data": {
      "application/vnd.jupyter.widget-view+json": {
       "model_id": "",
       "version_major": 2,
       "version_minor": 0
      },
      "text/plain": [
       "Embedding:   0%|          | 0/312 [00:00<?, ?subject/s]"
      ]
     },
     "metadata": {},
     "output_type": "display_data"
    },
    {
     "data": {
      "application/vnd.jupyter.widget-view+json": {
       "model_id": "",
       "version_major": 2,
       "version_minor": 0
      },
      "text/plain": [
       "  0%|          | 0.00/220808.95 [00:00<?, ?odeint-days/s]"
      ]
     },
     "metadata": {},
     "output_type": "display_data"
    },
    {
     "data": {
      "application/vnd.jupyter.widget-view+json": {
       "model_id": "",
       "version_major": 2,
       "version_minor": 0
      },
      "text/plain": [
       "Embedding:   0%|          | 0/312 [00:00<?, ?subject/s]"
      ]
     },
     "metadata": {},
     "output_type": "display_data"
    },
    {
     "data": {
      "application/vnd.jupyter.widget-view+json": {
       "model_id": "",
       "version_major": 2,
       "version_minor": 0
      },
      "text/plain": [
       "  0%|          | 0.00/220808.95 [00:00<?, ?odeint-days/s]"
      ]
     },
     "metadata": {},
     "output_type": "display_data"
    },
    {
     "data": {
      "application/vnd.jupyter.widget-view+json": {
       "model_id": "",
       "version_major": 2,
       "version_minor": 0
      },
      "text/plain": [
       "Embedding:   0%|          | 0/360 [00:00<?, ?subject/s]"
      ]
     },
     "metadata": {},
     "output_type": "display_data"
    },
    {
     "data": {
      "application/vnd.jupyter.widget-view+json": {
       "model_id": "",
       "version_major": 2,
       "version_minor": 0
      },
      "text/plain": [
       "  0%|          | 0.00/250814.31 [00:00<?, ?odeint-days/s]"
      ]
     },
     "metadata": {},
     "output_type": "display_data"
    },
    {
     "name": "stderr",
     "output_type": "stream",
     "text": [
      "INFO:root:train    CodeAUC.I0C1.auc  CodeAUC.I0C1.n  CodeAUC.I1C10.auc  CodeAUC.I1C10.n  \\\n",
      "21          0.285448               2           0.453410               15   \n",
      "26          0.685728               4           0.531379               14   \n",
      "30          0.573585               2           0.684637                8   \n",
      "35          0.092979               1           0.529750                7   \n",
      "\n",
      "    CodeAUC.I2C100.auc  CodeAUC.I2C100.n  CodeAUC.I3C101.auc  \\\n",
      "21            0.486886                36            0.565723   \n",
      "26            0.538402                51            0.556575   \n",
      "30            0.527062                32            0.539939   \n",
      "35            0.528842                43            0.521657   \n",
      "\n",
      "    CodeAUC.I3C101.n  CodeAUC.I4C102.auc  CodeAUC.I4C102.n  ...  G1k20.acc  \\\n",
      "21               177            0.622558                 9  ...   0.158602   \n",
      "26               184            0.583019                 3  ...   0.173010   \n",
      "30               167            0.263653                 1  ...   0.154930   \n",
      "35               177            0.588740                 4  ...   0.204380   \n",
      "\n",
      "    G2k20.acc  G3k20.acc  G4k20.acc  LossMetric.allpairs_exp_rank  \\\n",
      "21   0.233365   0.395122   0.483290                     3.7896497   \n",
      "26   0.225184   0.417081   0.618680                      3.432319   \n",
      "30   0.260223   0.506234   0.639037                      3.360579   \n",
      "35   0.219466   0.545068   0.667234                     3.2163076   \n",
      "\n",
      "    LossMetric.allpairs_hard_rank  LossMetric.allpairs_sigmoid_rank  \\\n",
      "21                    0.073687896                        0.28351343   \n",
      "26                    0.064076684                        0.26359195   \n",
      "30                    0.060097024                        0.25719467   \n",
      "35                     0.05834525                        0.25012818   \n",
      "\n",
      "    LossMetric.balanced_focal_bce  LossMetric.balanced_focal_softmax_bce  \\\n",
      "21                     0.20307705                              0.7666606   \n",
      "26                     0.24977298                                    inf   \n",
      "30                      0.3149367                                    inf   \n",
      "35                     0.29602098                                    inf   \n",
      "\n",
      "    LossMetric.softmax_bce  \n",
      "21                8.719011  \n",
      "26                     inf  \n",
      "30                     inf  \n",
      "35                     inf  \n",
      "\n",
      "[4 rows x 525 columns]\n",
      "INFO:root:val    CodeAUC.I0C1.auc  CodeAUC.I0C1.n  CodeAUC.I1C10.auc  CodeAUC.I1C10.n  \\\n",
      "21          0.749209               4           0.560872                9   \n",
      "26          0.750396               4           0.559454                9   \n",
      "30          0.750791               4           0.559100                9   \n",
      "35          0.750791               4           0.558391                9   \n",
      "\n",
      "    CodeAUC.I2C100.auc  CodeAUC.I2C100.n  CodeAUC.I3C101.auc  \\\n",
      "21            0.545802                50            0.549995   \n",
      "26            0.545563                50            0.549825   \n",
      "30            0.545597                50            0.549837   \n",
      "35            0.545563                50            0.549791   \n",
      "\n",
      "    CodeAUC.I3C101.n  CodeAUC.I4C102.auc  CodeAUC.I4C102.n  ...  G1k20.acc  \\\n",
      "21               204            0.538701                15  ...   0.169419   \n",
      "26               204            0.539130                15  ...   0.170136   \n",
      "30               204            0.539238                15  ...   0.178751   \n",
      "35               204            0.539452                15  ...   0.214645   \n",
      "\n",
      "    G2k20.acc  G3k20.acc  G4k20.acc  LossMetric.allpairs_exp_rank  \\\n",
      "21   0.225728   0.371968   0.457423                     3.8535557   \n",
      "26   0.225728   0.394879   0.611153                     3.5936558   \n",
      "30   0.225728   0.520889   0.611153                      3.490601   \n",
      "35   0.225728   0.520889   0.611153                      3.257163   \n",
      "\n",
      "    LossMetric.allpairs_hard_rank  LossMetric.allpairs_sigmoid_rank  \\\n",
      "21                     0.07547018                        0.28474534   \n",
      "26                    0.068016365                        0.26870766   \n",
      "30                     0.06336208                        0.26113316   \n",
      "35                    0.058980603                        0.25088587   \n",
      "\n",
      "    LossMetric.balanced_focal_bce  LossMetric.balanced_focal_softmax_bce  \\\n",
      "21                     0.21445556                              0.7916574   \n",
      "26                       0.250684                                    inf   \n",
      "30                      0.2694263                                    inf   \n",
      "35                     0.27846852                                    inf   \n",
      "\n",
      "    LossMetric.softmax_bce  \n",
      "21                9.083916  \n",
      "26                     inf  \n",
      "30                     inf  \n",
      "35                     inf  \n",
      "\n",
      "[4 rows x 525 columns]\n",
      "INFO:root:tstNone\n"
     ]
    },
    {
     "data": {
      "application/vnd.jupyter.widget-view+json": {
       "model_id": "",
       "version_major": 2,
       "version_minor": 0
      },
      "text/plain": [
       "Loading to device:   0%|          | 0/321 [00:00<?, ?subject/s]"
      ]
     },
     "metadata": {},
     "output_type": "display_data"
    },
    {
     "data": {
      "application/vnd.jupyter.widget-view+json": {
       "model_id": "",
       "version_major": 2,
       "version_minor": 0
      },
      "text/plain": [
       "Embedding:   0%|          | 0/321 [00:00<?, ?subject/s]"
      ]
     },
     "metadata": {},
     "output_type": "display_data"
    },
    {
     "data": {
      "application/vnd.jupyter.widget-view+json": {
       "model_id": "",
       "version_major": 2,
       "version_minor": 0
      },
      "text/plain": [
       "  0%|          | 0.00/226895.85 [00:00<?, ?odeint-days/s]"
      ]
     },
     "metadata": {},
     "output_type": "display_data"
    },
    {
     "data": {
      "application/vnd.jupyter.widget-view+json": {
       "model_id": "",
       "version_major": 2,
       "version_minor": 0
      },
      "text/plain": [
       "Loading to device:   0%|          | 0/314 [00:00<?, ?subject/s]"
      ]
     },
     "metadata": {},
     "output_type": "display_data"
    },
    {
     "data": {
      "application/vnd.jupyter.widget-view+json": {
       "model_id": "",
       "version_major": 2,
       "version_minor": 0
      },
      "text/plain": [
       "Embedding:   0%|          | 0/314 [00:00<?, ?subject/s]"
      ]
     },
     "metadata": {},
     "output_type": "display_data"
    },
    {
     "data": {
      "application/vnd.jupyter.widget-view+json": {
       "model_id": "",
       "version_major": 2,
       "version_minor": 0
      },
      "text/plain": [
       "  0%|          | 0.00/230132.74 [00:00<?, ?odeint-days/s]"
      ]
     },
     "metadata": {},
     "output_type": "display_data"
    },
    {
     "data": {
      "application/vnd.jupyter.widget-view+json": {
       "model_id": "",
       "version_major": 2,
       "version_minor": 0
      },
      "text/plain": [
       "Loading to device:   0%|          | 0/346 [00:00<?, ?subject/s]"
      ]
     },
     "metadata": {},
     "output_type": "display_data"
    },
    {
     "data": {
      "application/vnd.jupyter.widget-view+json": {
       "model_id": "",
       "version_major": 2,
       "version_minor": 0
      },
      "text/plain": [
       "Embedding:   0%|          | 0/346 [00:00<?, ?subject/s]"
      ]
     },
     "metadata": {},
     "output_type": "display_data"
    },
    {
     "data": {
      "application/vnd.jupyter.widget-view+json": {
       "model_id": "",
       "version_major": 2,
       "version_minor": 0
      },
      "text/plain": [
       "  0%|          | 0.00/252597.28 [00:00<?, ?odeint-days/s]"
      ]
     },
     "metadata": {},
     "output_type": "display_data"
    },
    {
     "data": {
      "application/vnd.jupyter.widget-view+json": {
       "model_id": "",
       "version_major": 2,
       "version_minor": 0
      },
      "text/plain": [
       "Loading to device:   0%|          | 0/316 [00:00<?, ?subject/s]"
      ]
     },
     "metadata": {},
     "output_type": "display_data"
    },
    {
     "data": {
      "application/vnd.jupyter.widget-view+json": {
       "model_id": "ae4d752e5bf548f0a32a9e9b432b2aba",
       "version_major": 2,
       "version_minor": 0
      },
      "text/plain": [
       "Embedding:   0%|          | 0/316 [00:00<?, ?subject/s]"
      ]
     },
     "metadata": {},
     "output_type": "display_data"
    }
   ],
   "source": [
    "\n",
    "res = trainer(m, m3patients, \n",
    "              splits=splits,\n",
    "              reporting=reporting,\n",
    "              n_evals=100,\n",
    "              warmup_config=warmup,\n",
    "             continue_training=False\n",
    "             )"
   ]
  },
  {
   "cell_type": "code",
   "execution_count": null,
   "id": "528487f2",
   "metadata": {},
   "outputs": [],
   "source": [
    "from lib.ml.trainer import TrainerSignals"
   ]
  },
  {
   "cell_type": "code",
   "execution_count": null,
   "id": "205f66ac",
   "metadata": {},
   "outputs": [],
   "source": [
    "signals = TrainerSignals()"
   ]
  },
  {
   "cell_type": "code",
   "execution_count": null,
   "id": "55dbfe68",
   "metadata": {},
   "outputs": [],
   "source": [
    "signals.start_training.receivers"
   ]
  },
  {
   "cell_type": "code",
   "execution_count": null,
   "id": "c4f1966f",
   "metadata": {},
   "outputs": [],
   "source": []
  }
 ],
 "metadata": {
  "kernelspec": {
   "display_name": "Python 3 (ipykernel)",
   "language": "python",
   "name": "python3"
  },
  "language_info": {
   "codemirror_mode": {
    "name": "ipython",
    "version": 3
   },
   "file_extension": ".py",
   "mimetype": "text/x-python",
   "name": "python",
   "nbconvert_exporter": "python",
   "pygments_lexer": "ipython3",
   "version": "3.9.17"
  }
 },
 "nbformat": 4,
 "nbformat_minor": 5
}
