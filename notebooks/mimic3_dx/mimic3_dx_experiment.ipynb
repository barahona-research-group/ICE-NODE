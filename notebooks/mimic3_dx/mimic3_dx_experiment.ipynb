{
 "cells": [
  {
   "cell_type": "code",
   "execution_count": 1,
   "id": "ab383786",
   "metadata": {},
   "outputs": [],
   "source": [
    "%load_ext autoreload\n",
    "%autoreload 2\n",
    "import sys\n",
    "import os\n",
    "import glob\n",
    "import random\n",
    "from collections import defaultdict\n",
    "from pathlib import Path\n",
    "\n",
    "from IPython.display import display\n",
    "\n",
    "import pandas as pd\n",
    "import dask\n",
    "\n",
    "from tqdm import tqdm\n",
    "import jax\n",
    "jax.config.update('jax_platform_name', 'cpu')\n",
    "# jax.config.update('jax_log_compiles', True)\n",
    "# jax.config.update(\"jax_debug_nans\", True)\n",
    "# jax.config.update(\"jax_enable_x64\", True)"
   ]
  },
  {
   "cell_type": "code",
   "execution_count": 2,
   "id": "c83480cb",
   "metadata": {},
   "outputs": [],
   "source": [
    "\n",
    "\n",
    "sys.path.append(\"../..\")\n",
    "\n",
    "from lib import utils as U\n",
    "from lib.ehr import load_dataset, load_dataset_scheme, load_dataset_config, Dataset\n",
    "from lib.ehr.interface import Patients, InterfaceConfig\n",
    "from lib.ehr.concepts import DemographicVectorConfig\n"
   ]
  },
  {
   "cell_type": "code",
   "execution_count": 3,
   "id": "99451f48",
   "metadata": {},
   "outputs": [],
   "source": [
    "import logging\n",
    "logging.root.level = logging.INFO"
   ]
  },
  {
   "cell_type": "code",
   "execution_count": 4,
   "id": "a7c7076a",
   "metadata": {},
   "outputs": [],
   "source": [
    "tag = 'M3'\n",
    "PATH = f'{os.environ.get(\"HOME\")}/GP/ehr-data/mimic3-cohort'\n",
    "sample = None\n",
    "cache =  f'cached_inteface/patients_{tag}_{sample or \"\"}'\n",
    "dataset_config = load_dataset_config(tag, \n",
    "                                     sample=sample,\n",
    "                                     path=PATH)"
   ]
  },
  {
   "cell_type": "markdown",
   "id": "a784b45c",
   "metadata": {},
   "source": [
    "##### Possible Interface Scheme Configurations"
   ]
  },
  {
   "cell_type": "code",
   "execution_count": 5,
   "id": "3c1b3f89",
   "metadata": {},
   "outputs": [
    {
     "name": "stdout",
     "output_type": "stream",
     "text": [
      "{\n",
      "    \"dx\": [\n",
      "        \"DxICD9\",\n",
      "        \"DxICD10\",\n",
      "        \"DxCCS\",\n",
      "        \"DxFlatCCS\"\n",
      "    ],\n",
      "    \"ethnicity\": [\n",
      "        \"MIMIC3Eth37\",\n",
      "        \"MIMIC3Eth7\"\n",
      "    ],\n",
      "    \"gender\": [\n",
      "        \"Gender\"\n",
      "    ],\n",
      "    \"outcome\": [\n",
      "        \"dx_flatccs_mlhc_groups\",\n",
      "        \"dx_flatccs_filter_v1\",\n",
      "        \"dx_icd9_filter_v1\",\n",
      "        \"dx_icd9_filter_v2_groups\",\n",
      "        \"dx_icd9_filter_v3_groups\"\n",
      "    ]\n",
      "}\n"
     ]
    }
   ],
   "source": [
    "import json\n",
    "dataset_scheme = load_dataset_scheme(tag)\n",
    "interface_schem_options = dataset_scheme.supported_target_scheme_options\n",
    "print(json.dumps(interface_schem_options, sort_keys=True, indent=4))"
   ]
  },
  {
   "cell_type": "code",
   "execution_count": 6,
   "id": "95c3df4c",
   "metadata": {},
   "outputs": [],
   "source": [
    "interface_scheme = dataset_scheme.make_target_scheme_config(dx='DxICD9',\n",
    "                                                            outcome='dx_icd9_filter_v3_groups',\n",
    "                                                            ethnicity='MIMIC3Eth7')\n",
    "\n",
    "\n",
    "# Demographic vector attributes\n",
    "demographic_vector_conf = DemographicVectorConfig(\n",
    "    age=False, \n",
    "    gender=False, \n",
    "    ethnicity=False\n",
    ")\n",
    "interface_config = InterfaceConfig(scheme=interface_scheme,\n",
    "                                   dataset_scheme=dataset_scheme,\n",
    "                                   demographic_vector=demographic_vector_conf,\n",
    "                                   cache=cache)"
   ]
  },
  {
   "cell_type": "code",
   "execution_count": 7,
   "id": "e2bf7879",
   "metadata": {},
   "outputs": [],
   "source": [
    "from lib.ml import (ICENODE, ICENODEConfig, GRU, GRUConfig, RETAIN, RETAINConfig,\n",
    "                    OutpatientEmbeddingConfig,  SplitConfig,\n",
    "                    Trainer, TrainerConfig, TrainerReporting, OptimizerConfig, WarmupConfig, ReportingConfig)\n",
    "from lib.metric import  (CodeAUC, UntilFirstCodeAUC, AdmissionAUC, CodeLevelMetricConfig, MetricLevelsConfig,\n",
    "                         LossMetricConfig,\n",
    "                      CodeGroupTopAlarmAccuracy, LossMetric, ObsCodeLevelLossMetric, CodeGroupTopAlarmAccuracyConfig)\n",
    "from lib.ml import Experiment, ExperimentConfig, SplitConfig\n",
    "\n",
    "import jax.random as jrandom"
   ]
  },
  {
   "cell_type": "code",
   "execution_count": 8,
   "id": "c911e2f3",
   "metadata": {},
   "outputs": [],
   "source": [
    "emb_dims = OutpatientEmbeddingConfig(dx=30, demo=0)\n",
    "model_config = ICENODEConfig(mem=15, emb=emb_dims)\n",
    "model_classname = ICENODE.__name__"
   ]
  },
  {
   "cell_type": "code",
   "execution_count": 9,
   "id": "80202dbb",
   "metadata": {},
   "outputs": [],
   "source": [
    "emb_dims = OutpatientEmbeddingConfig(dx=30, demo=0)\n",
    "model_config = GRUConfig(emb=emb_dims)\n",
    "model_classname = GRU.__name__"
   ]
  },
  {
   "cell_type": "code",
   "execution_count": 10,
   "id": "8d67eb45",
   "metadata": {},
   "outputs": [],
   "source": [
    "# emb_dims = OutpatientEmbeddingConfig(dx=30, demo=0)\n",
    "# model_config = RETAINConfig(mem_a=15, mem_b=15, emb=emb_dims)\n",
    "# model_classname = RETAIN.__name__"
   ]
  },
  {
   "cell_type": "code",
   "execution_count": 11,
   "id": "3658579e",
   "metadata": {
    "scrolled": true
   },
   "outputs": [],
   "source": [
    "trainer_config = TrainerConfig(optimizer=OptimizerConfig(opt='adam', lr=1e-3),\n",
    "                          epochs=80,\n",
    "                          batch_size=128,\n",
    "                          dx_loss='balanced_focal_bce',\n",
    "                          obs_loss='mse',\n",
    "                          lead_loss='mse')\n",
    "\n",
    "warmup = WarmupConfig(epochs=0.1, \n",
    "                      batch_size=8,\n",
    "                      opt='adam', lr=1e-3, \n",
    "                      decay_rate=0.5)\n",
    "\n",
    "\n"
   ]
  },
  {
   "cell_type": "code",
   "execution_count": 12,
   "id": "7b070e78",
   "metadata": {},
   "outputs": [],
   "source": [
    "dx_loss = [\"softmax_bce\", \"balanced_focal_softmax_bce\", \"balanced_focal_bce\",\n",
    "          \"allpairs_exp_rank\", \"allpairs_hard_rank\", \"allpairs_sigmoid_rank\"]\n",
    "obs_loss =  [\"mse\", \"mae\", \"rms\"]\n",
    "                \n",
    "metrics_conf = [\n",
    "    (CodeAUC, CodeLevelMetricConfig(aggregate_level=True, code_level=True)),\n",
    "    (AdmissionAUC, MetricLevelsConfig(admission=False, aggregate=True, subject_aggregate=False)),\n",
    "    (CodeGroupTopAlarmAccuracy, CodeGroupTopAlarmAccuracyConfig(n_partitions=5, top_k_list=[3, 5, 10, 15, 20])),\n",
    "    (LossMetric, LossMetricConfig(dx_loss=dx_loss))\n",
    "]\n",
    "metrics_conf = [m.export_module_class(c) for m, c in metrics_conf]"
   ]
  },
  {
   "cell_type": "code",
   "execution_count": 13,
   "id": "4ae6d7a5",
   "metadata": {},
   "outputs": [],
   "source": [
    "reporting_conf = ReportingConfig(output_dir='icenode',\n",
    "                                 console=True,\n",
    "                                 model_stats=False,\n",
    "                                 parameter_snapshots=True,\n",
    "                                 config_json=True)"
   ]
  },
  {
   "cell_type": "code",
   "execution_count": 14,
   "id": "3e391a7a",
   "metadata": {},
   "outputs": [],
   "source": [
    "expt_config = ExperimentConfig(dataset=dataset_config,\n",
    "                              interface=interface_config,\n",
    "                              split=SplitConfig(train=0.8, val=0.1, test=0.1, balanced='admissions'),\n",
    "                              trainer=trainer_config,\n",
    "                              metrics=metrics_conf,\n",
    "                              reporting=reporting_conf,\n",
    "                              model=model_config,\n",
    "                              model_classname=model_classname,\n",
    "                              n_evals=100,\n",
    "                              continue_training=True,\n",
    "                              warmup=None,\n",
    "                              reg_hyperparams=None)"
   ]
  },
  {
   "cell_type": "code",
   "execution_count": 15,
   "id": "ffa3eecd",
   "metadata": {},
   "outputs": [],
   "source": [
    "experiment = Experiment(expt_config)"
   ]
  },
  {
   "cell_type": "code",
   "execution_count": 16,
   "id": "a0180620",
   "metadata": {},
   "outputs": [
    {
     "data": {
      "text/plain": [
       "ExperimentConfig(\n",
       "  dataset=DatasetConfig(\n",
       "    path='/home/asem/GP/ehr-data/mimic3-cohort',\n",
       "    scheme=DatasetSchemeConfig(\n",
       "      dx='DxICD9',\n",
       "      ethnicity='MIMIC3Eth37',\n",
       "      gender='Gender',\n",
       "      outcome=None\n",
       "    ),\n",
       "    scheme_classname='DatasetScheme',\n",
       "    colname={\n",
       "      'adm':\n",
       "      {\n",
       "        'admittime':\n",
       "        'ADMITTIME',\n",
       "        'dischtime':\n",
       "        'DISCHTIME',\n",
       "        'index':\n",
       "        'HADM_ID',\n",
       "        'subject_id':\n",
       "        'SUBJECT_ID'\n",
       "      },\n",
       "      'dx':\n",
       "      {'admission_id': 'HADM_ID', 'code': 'ICD9_CODE'},\n",
       "      'static':\n",
       "      {\n",
       "        'date_of_birth':\n",
       "        'DOB',\n",
       "        'ethnicity':\n",
       "        'ETHNICITY',\n",
       "        'gender':\n",
       "        'GENDER',\n",
       "        'index':\n",
       "        'SUBJECT_ID'\n",
       "      }\n",
       "    },\n",
       "    files={\n",
       "      'adm':\n",
       "      'adm_df.csv.gz',\n",
       "      'dx':\n",
       "      'dx_df.csv.gz',\n",
       "      'static':\n",
       "      'static_df.csv.gz'\n",
       "    },\n",
       "    sample=None,\n",
       "    meta_fpath='',\n",
       "    tag='M3',\n",
       "    overlapping_admissions='merge'\n",
       "  ),\n",
       "  interface=InterfaceConfig(\n",
       "    demographic_vector=DemographicVectorConfig(\n",
       "      gender=False,\n",
       "      age=False,\n",
       "      ethnicity=False\n",
       "    ),\n",
       "    leading_observable=None,\n",
       "    scheme=DatasetSchemeConfig(\n",
       "      dx='DxICD9',\n",
       "      ethnicity='MIMIC3Eth7',\n",
       "      gender='Gender',\n",
       "      outcome='dx_icd9_filter_v3_groups'\n",
       "    ),\n",
       "    cache='cached_inteface/patients_M3_'\n",
       "  ),\n",
       "  split=SplitConfig(train=0.8, val=0.1, test=0.1, balanced='admissions'),\n",
       "  trainer=TrainerConfig(\n",
       "    optimizer=OptimizerConfig(\n",
       "      opt='adam',\n",
       "      lr=0.001,\n",
       "      decay_rate=None,\n",
       "      reverse_schedule=False\n",
       "    ),\n",
       "    epochs=80,\n",
       "    batch_size=128,\n",
       "    dx_loss='balanced_focal_bce',\n",
       "    obs_loss='mse',\n",
       "    lead_loss='mse'\n",
       "  ),\n",
       "  model=GRUConfig(emb=OutpatientEmbeddingConfig(dx=30, demo=0)),\n",
       "  model_classname='GRU',\n",
       "  metrics=[\n",
       "    {\n",
       "      'config':\n",
       "      {\n",
       "        '_type':\n",
       "        'CodeLevelMetricConfig',\n",
       "        'aggregate_level':\n",
       "        True,\n",
       "        'code_level':\n",
       "        True\n",
       "      },\n",
       "      'classname':\n",
       "      'CodeAUC',\n",
       "      'external_argnames':\n",
       "      ['patients']\n",
       "    },\n",
       "    {\n",
       "      'config':\n",
       "      {\n",
       "        '_type':\n",
       "        'MetricLevelsConfig',\n",
       "        'admission':\n",
       "        False,\n",
       "        'aggregate':\n",
       "        True,\n",
       "        'subject_aggregate':\n",
       "        False\n",
       "      },\n",
       "      'classname':\n",
       "      'AdmissionAUC',\n",
       "      'external_argnames':\n",
       "      ['patients']\n",
       "    },\n",
       "    {\n",
       "      'config':\n",
       "      {\n",
       "        '_type':\n",
       "        'CodeGroupTopAlarmAccuracyConfig',\n",
       "        'n_partitions':\n",
       "        5,\n",
       "        'top_k_list':\n",
       "        [3, 5, 10, 15, 20]\n",
       "      },\n",
       "      'classname':\n",
       "      'CodeGroupTopAlarmAccuracy',\n",
       "      'external_argnames':\n",
       "      ('train_split', 'patients')\n",
       "    },\n",
       "    {\n",
       "      'config':\n",
       "      {\n",
       "        '_type':\n",
       "        'LossMetricConfig',\n",
       "        'dx_loss':\n",
       "        [\n",
       "          'softmax_bce',\n",
       "          'balanced_focal_softmax_bce',\n",
       "          'balanced_focal_bce',\n",
       "          'allpairs_exp_rank',\n",
       "          'allpairs_hard_rank',\n",
       "          'allpairs_sigmoid_rank'\n",
       "        ],\n",
       "        'lead_loss':\n",
       "        [],\n",
       "        'obs_loss':\n",
       "        []\n",
       "      },\n",
       "      'classname':\n",
       "      'LossMetric',\n",
       "      'external_argnames':\n",
       "      ['patients']\n",
       "    }\n",
       "  ],\n",
       "  reporting=ReportingConfig(\n",
       "    output_dir='icenode',\n",
       "    console=True,\n",
       "    parameter_snapshots=True,\n",
       "    config_json=True,\n",
       "    model_stats=False\n",
       "  ),\n",
       "  n_evals=100,\n",
       "  continue_training=True,\n",
       "  warmup=None,\n",
       "  reg_hyperparams=None\n",
       ")"
      ]
     },
     "execution_count": 16,
     "metadata": {},
     "output_type": "execute_result"
    }
   ],
   "source": [
    "expt_config"
   ]
  },
  {
   "cell_type": "code",
   "execution_count": 17,
   "id": "b98949ba",
   "metadata": {},
   "outputs": [
    {
     "name": "stderr",
     "output_type": "stream",
     "text": [
      "INFO:root:Cache does not match config, ignoring cache.\n",
      "INFO:root:Loading subjects from scratch.\n",
      "/home/asem/GP/env/icenode-dev/lib/python3.10/site-packages/dask/dataframe/io/csv.py:544: UserWarning: Warning gzip compression does not support breaking apart files\n",
      "Please ensure that each individual file can fit in memory and\n",
      "use the keyword ``blocksize=None to remove this message``\n",
      "Setting ``blocksize=None``\n",
      "  warn(\n",
      "/home/asem/GP/env/icenode-dev/lib/python3.10/site-packages/dask/dataframe/io/csv.py:544: UserWarning: Warning gzip compression does not support breaking apart files\n",
      "Please ensure that each individual file can fit in memory and\n",
      "use the keyword ``blocksize=None to remove this message``\n",
      "Setting ``blocksize=None``\n",
      "  warn(\n",
      "/home/asem/GP/env/icenode-dev/lib/python3.10/site-packages/dask/dataframe/io/csv.py:544: UserWarning: Warning gzip compression does not support breaking apart files\n",
      "Please ensure that each individual file can fit in memory and\n",
      "use the keyword ``blocksize=None to remove this message``\n",
      "Setting ``blocksize=None``\n",
      "  warn(\n"
     ]
    },
    {
     "ename": "KeyError",
     "evalue": "\"['18006', '18113', '23407', '23523', '2420', '28222', '28700', '28883', '32599', '4023', '417', '46228', '4791', '50259', '59551', '66298', '7094', '7211', '8267', '9035', '9155', '96810', '9891'] not in index\"",
     "output_type": "error",
     "traceback": [
      "\u001b[0;31m---------------------------------------------------------------------------\u001b[0m",
      "\u001b[0;31mKeyError\u001b[0m                                  Traceback (most recent call last)",
      "Cell \u001b[0;32mIn[17], line 1\u001b[0m\n\u001b[0;32m----> 1\u001b[0m result \u001b[38;5;241m=\u001b[39m \u001b[43mexperiment\u001b[49m\u001b[38;5;241;43m.\u001b[39;49m\u001b[43mrun\u001b[49m\u001b[43m(\u001b[49m\u001b[43m)\u001b[49m\n",
      "File \u001b[0;32m~/GP/ICE-NODE/notebooks/mimic3_dx/../../lib/ml/experiment.py:99\u001b[0m, in \u001b[0;36mExperiment.run\u001b[0;34m(self)\u001b[0m\n\u001b[1;32m     97\u001b[0m \u001b[38;5;28;01mdef\u001b[39;00m \u001b[38;5;21mrun\u001b[39m(\u001b[38;5;28mself\u001b[39m):\n\u001b[1;32m     98\u001b[0m     \u001b[38;5;66;03m# Load interface\u001b[39;00m\n\u001b[0;32m---> 99\u001b[0m     interface \u001b[38;5;241m=\u001b[39m \u001b[38;5;28;43mself\u001b[39;49m\u001b[38;5;241;43m.\u001b[39;49m\u001b[43mload_interface\u001b[49m\u001b[43m(\u001b[49m\u001b[43m)\u001b[49m\n\u001b[1;32m    101\u001b[0m     splits \u001b[38;5;241m=\u001b[39m \u001b[38;5;28mself\u001b[39m\u001b[38;5;241m.\u001b[39mload_splits(interface\u001b[38;5;241m.\u001b[39mdataset)\n\u001b[1;32m    103\u001b[0m     \u001b[38;5;66;03m# Load model\u001b[39;00m\n",
      "File \u001b[0;32m~/GP/ICE-NODE/notebooks/mimic3_dx/../../lib/ml/experiment.py:65\u001b[0m, in \u001b[0;36mExperiment.load_interface\u001b[0;34m(self)\u001b[0m\n\u001b[1;32m     64\u001b[0m \u001b[38;5;28;01mdef\u001b[39;00m \u001b[38;5;21mload_interface\u001b[39m(\u001b[38;5;28mself\u001b[39m):\n\u001b[0;32m---> 65\u001b[0m     \u001b[38;5;28;01mreturn\u001b[39;00m \u001b[43mPatients\u001b[49m\u001b[38;5;241;43m.\u001b[39;49m\u001b[43mtry_load_cached\u001b[49m\u001b[43m(\u001b[49m\u001b[38;5;28;43mself\u001b[39;49m\u001b[38;5;241;43m.\u001b[39;49m\u001b[43mconfig\u001b[49m\u001b[38;5;241;43m.\u001b[39;49m\u001b[43minterface\u001b[49m\u001b[43m,\u001b[49m\n\u001b[1;32m     66\u001b[0m \u001b[43m                                    \u001b[49m\u001b[43mdataset_config\u001b[49m\u001b[38;5;241;43m=\u001b[39;49m\u001b[38;5;28;43mself\u001b[39;49m\u001b[38;5;241;43m.\u001b[39;49m\u001b[43mconfig\u001b[49m\u001b[38;5;241;43m.\u001b[39;49m\u001b[43mdataset\u001b[49m\u001b[43m,\u001b[49m\n\u001b[1;32m     67\u001b[0m \u001b[43m                                    \u001b[49m\u001b[43mdataset_generator\u001b[49m\u001b[38;5;241;43m=\u001b[39;49m\u001b[38;5;28;43mself\u001b[39;49m\u001b[38;5;241;43m.\u001b[39;49m\u001b[43mload_dataset\u001b[49m\u001b[43m,\u001b[49m\n\u001b[1;32m     68\u001b[0m \u001b[43m                                    \u001b[49m\u001b[43mnum_workers\u001b[49m\u001b[38;5;241;43m=\u001b[39;49m\u001b[38;5;28;43mself\u001b[39;49m\u001b[38;5;241;43m.\u001b[39;49m\u001b[43mnum_workers\u001b[49m\u001b[43m)\u001b[49m\n",
      "File \u001b[0;32m~/GP/ICE-NODE/notebooks/mimic3_dx/../../lib/ehr/interface.py:288\u001b[0m, in \u001b[0;36mPatients.try_load_cached\u001b[0;34m(config, dataset_config, dataset_generator, subject_subset, num_workers)\u001b[0m\n\u001b[1;32m    285\u001b[0m \u001b[38;5;28;01mwith\u001b[39;00m dask\u001b[38;5;241m.\u001b[39mconfig\u001b[38;5;241m.\u001b[39mset(scheduler\u001b[38;5;241m=\u001b[39m\u001b[38;5;124m'\u001b[39m\u001b[38;5;124mprocesses\u001b[39m\u001b[38;5;124m'\u001b[39m,\n\u001b[1;32m    286\u001b[0m                      num_workers\u001b[38;5;241m=\u001b[39mnum_workers):\n\u001b[1;32m    287\u001b[0m     interface \u001b[38;5;241m=\u001b[39m Patients(config, dataset_generator(dataset_config))\n\u001b[0;32m--> 288\u001b[0m     interface \u001b[38;5;241m=\u001b[39m \u001b[43minterface\u001b[49m\u001b[38;5;241;43m.\u001b[39;49m\u001b[43mload_subjects\u001b[49m\u001b[43m(\u001b[49m\u001b[43mnum_workers\u001b[49m\u001b[38;5;241;43m=\u001b[39;49m\u001b[43mnum_workers\u001b[49m\u001b[43m,\u001b[49m\n\u001b[1;32m    289\u001b[0m \u001b[43m                                        \u001b[49m\u001b[43msubject_ids\u001b[49m\u001b[38;5;241;43m=\u001b[39;49m\u001b[43msubject_subset\u001b[49m\u001b[43m)\u001b[49m\n\u001b[1;32m    291\u001b[0m \u001b[38;5;28;01mif\u001b[39;00m config\u001b[38;5;241m.\u001b[39mcache \u001b[38;5;129;01mis\u001b[39;00m \u001b[38;5;129;01mnot\u001b[39;00m \u001b[38;5;28;01mNone\u001b[39;00m:\n\u001b[1;32m    292\u001b[0m     interface\u001b[38;5;241m.\u001b[39msave(config\u001b[38;5;241m.\u001b[39mcache, overwrite\u001b[38;5;241m=\u001b[39m\u001b[38;5;28;01mTrue\u001b[39;00m)\n",
      "File \u001b[0;32m~/GP/ICE-NODE/notebooks/mimic3_dx/../../lib/ehr/interface.py:305\u001b[0m, in \u001b[0;36mPatients.load_subjects\u001b[0;34m(self, subject_ids, num_workers)\u001b[0m\n\u001b[1;32m    302\u001b[0m \u001b[38;5;28;01mif\u001b[39;00m subject_ids \u001b[38;5;129;01mis\u001b[39;00m \u001b[38;5;28;01mNone\u001b[39;00m:\n\u001b[1;32m    303\u001b[0m     subject_ids \u001b[38;5;241m=\u001b[39m \u001b[38;5;28mself\u001b[39m\u001b[38;5;241m.\u001b[39mdataset\u001b[38;5;241m.\u001b[39msubject_ids\n\u001b[0;32m--> 305\u001b[0m subjects \u001b[38;5;241m=\u001b[39m \u001b[38;5;28;43mself\u001b[39;49m\u001b[38;5;241;43m.\u001b[39;49m\u001b[43mdataset\u001b[49m\u001b[38;5;241;43m.\u001b[39;49m\u001b[43mto_subjects\u001b[49m\u001b[43m(\u001b[49m\n\u001b[1;32m    306\u001b[0m \u001b[43m    \u001b[49m\u001b[43msubject_ids\u001b[49m\u001b[43m,\u001b[49m\n\u001b[1;32m    307\u001b[0m \u001b[43m    \u001b[49m\u001b[43mnum_workers\u001b[49m\u001b[38;5;241;43m=\u001b[39;49m\u001b[43mnum_workers\u001b[49m\u001b[43m,\u001b[49m\n\u001b[1;32m    308\u001b[0m \u001b[43m    \u001b[49m\u001b[43mdemographic_vector_config\u001b[49m\u001b[38;5;241;43m=\u001b[39;49m\u001b[38;5;28;43mself\u001b[39;49m\u001b[38;5;241;43m.\u001b[39;49m\u001b[43mconfig\u001b[49m\u001b[38;5;241;43m.\u001b[39;49m\u001b[43mdemographic_vector\u001b[49m\u001b[43m,\u001b[49m\n\u001b[1;32m    309\u001b[0m \u001b[43m    \u001b[49m\u001b[43mleading_observable_config\u001b[49m\u001b[38;5;241;43m=\u001b[39;49m\u001b[38;5;28;43mself\u001b[39;49m\u001b[38;5;241;43m.\u001b[39;49m\u001b[43mconfig\u001b[49m\u001b[38;5;241;43m.\u001b[39;49m\u001b[43mleading_observable\u001b[49m\u001b[43m,\u001b[49m\n\u001b[1;32m    310\u001b[0m \u001b[43m    \u001b[49m\u001b[43mtarget_scheme\u001b[49m\u001b[38;5;241;43m=\u001b[39;49m\u001b[38;5;28;43mself\u001b[39;49m\u001b[38;5;241;43m.\u001b[39;49m\u001b[43m_scheme\u001b[49m\u001b[43m)\u001b[49m\n\u001b[1;32m    312\u001b[0m subjects \u001b[38;5;241m=\u001b[39m {s\u001b[38;5;241m.\u001b[39msubject_id: s \u001b[38;5;28;01mfor\u001b[39;00m s \u001b[38;5;129;01min\u001b[39;00m subjects}\n\u001b[1;32m    313\u001b[0m interface \u001b[38;5;241m=\u001b[39m eqx\u001b[38;5;241m.\u001b[39mtree_at(\u001b[38;5;28;01mlambda\u001b[39;00m x: x\u001b[38;5;241m.\u001b[39msubjects, \u001b[38;5;28mself\u001b[39m, subjects)\n",
      "File \u001b[0;32m~/GP/ICE-NODE/notebooks/mimic3_dx/../../lib/ehr/ds_mimic3.py:122\u001b[0m, in \u001b[0;36mMIMIC3Dataset.to_subjects\u001b[0;34m(self, subject_ids, num_workers, demographic_vector_config, target_scheme, **kwargs)\u001b[0m\n\u001b[1;32m    118\u001b[0m \u001b[38;5;28;01mdef\u001b[39;00m \u001b[38;5;21mto_subjects\u001b[39m(\u001b[38;5;28mself\u001b[39m, subject_ids: List[\u001b[38;5;28mint\u001b[39m], num_workers: \u001b[38;5;28mint\u001b[39m,\n\u001b[1;32m    119\u001b[0m                 demographic_vector_config: DemographicVectorConfig,\n\u001b[1;32m    120\u001b[0m                 target_scheme: DatasetScheme, \u001b[38;5;241m*\u001b[39m\u001b[38;5;241m*\u001b[39mkwargs):\n\u001b[0;32m--> 122\u001b[0m     subject_dob, subject_gender, subject_eth \u001b[38;5;241m=\u001b[39m \u001b[38;5;28;43mself\u001b[39;49m\u001b[38;5;241;43m.\u001b[39;49m\u001b[43msubject_info_extractor\u001b[49m\u001b[43m(\u001b[49m\n\u001b[1;32m    123\u001b[0m \u001b[43m        \u001b[49m\u001b[43msubject_ids\u001b[49m\u001b[43m,\u001b[49m\u001b[43m \u001b[49m\u001b[43mtarget_scheme\u001b[49m\u001b[43m)\u001b[49m\n\u001b[1;32m    124\u001b[0m     admission_ids \u001b[38;5;241m=\u001b[39m \u001b[38;5;28mself\u001b[39m\u001b[38;5;241m.\u001b[39madm_extractor(subject_ids)\n\u001b[1;32m    125\u001b[0m     adm_ids_list \u001b[38;5;241m=\u001b[39m \u001b[38;5;28msum\u001b[39m(\u001b[38;5;28mmap\u001b[39m(\u001b[38;5;28mlist\u001b[39m, admission_ids\u001b[38;5;241m.\u001b[39mvalues()), [])\n",
      "File \u001b[0;32m~/GP/ICE-NODE/notebooks/mimic3_dx/../../lib/ehr/ds_mimic3.py:402\u001b[0m, in \u001b[0;36mMIMIC3Dataset.subject_info_extractor\u001b[0;34m(self, subject_ids, target_scheme)\u001b[0m\n\u001b[1;32m    399\u001b[0m last_disch_date \u001b[38;5;241m=\u001b[39m adm_df\u001b[38;5;241m.\u001b[39mgroupby(c_subject_id)[c_dischtime]\u001b[38;5;241m.\u001b[39mmax()\n\u001b[1;32m    400\u001b[0m first_adm_date \u001b[38;5;241m=\u001b[39m adm_df\u001b[38;5;241m.\u001b[39mgroupby(c_subject_id)[c_admittime]\u001b[38;5;241m.\u001b[39mmin()\n\u001b[0;32m--> 402\u001b[0m last_disch_date \u001b[38;5;241m=\u001b[39m \u001b[43mlast_disch_date\u001b[49m\u001b[38;5;241;43m.\u001b[39;49m\u001b[43mloc\u001b[49m\u001b[43m[\u001b[49m\u001b[43mdf\u001b[49m\u001b[38;5;241;43m.\u001b[39;49m\u001b[43mindex\u001b[49m\u001b[43m]\u001b[49m\n\u001b[1;32m    403\u001b[0m first_adm_date \u001b[38;5;241m=\u001b[39m first_adm_date\u001b[38;5;241m.\u001b[39mloc[df\u001b[38;5;241m.\u001b[39mindex]\n\u001b[1;32m    404\u001b[0m uncertainty \u001b[38;5;241m=\u001b[39m (last_disch_date\u001b[38;5;241m.\u001b[39mdt\u001b[38;5;241m.\u001b[39myear \u001b[38;5;241m-\u001b[39m first_adm_date\u001b[38;5;241m.\u001b[39mdt\u001b[38;5;241m.\u001b[39myear) \u001b[38;5;241m/\u001b[39m\u001b[38;5;241m/\u001b[39m \u001b[38;5;241m2\u001b[39m\n",
      "File \u001b[0;32m~/GP/env/icenode-dev/lib/python3.10/site-packages/pandas/core/indexing.py:1103\u001b[0m, in \u001b[0;36m_LocationIndexer.__getitem__\u001b[0;34m(self, key)\u001b[0m\n\u001b[1;32m   1100\u001b[0m axis \u001b[38;5;241m=\u001b[39m \u001b[38;5;28mself\u001b[39m\u001b[38;5;241m.\u001b[39maxis \u001b[38;5;129;01mor\u001b[39;00m \u001b[38;5;241m0\u001b[39m\n\u001b[1;32m   1102\u001b[0m maybe_callable \u001b[38;5;241m=\u001b[39m com\u001b[38;5;241m.\u001b[39mapply_if_callable(key, \u001b[38;5;28mself\u001b[39m\u001b[38;5;241m.\u001b[39mobj)\n\u001b[0;32m-> 1103\u001b[0m \u001b[38;5;28;01mreturn\u001b[39;00m \u001b[38;5;28;43mself\u001b[39;49m\u001b[38;5;241;43m.\u001b[39;49m\u001b[43m_getitem_axis\u001b[49m\u001b[43m(\u001b[49m\u001b[43mmaybe_callable\u001b[49m\u001b[43m,\u001b[49m\u001b[43m \u001b[49m\u001b[43maxis\u001b[49m\u001b[38;5;241;43m=\u001b[39;49m\u001b[43maxis\u001b[49m\u001b[43m)\u001b[49m\n",
      "File \u001b[0;32m~/GP/env/icenode-dev/lib/python3.10/site-packages/pandas/core/indexing.py:1332\u001b[0m, in \u001b[0;36m_LocIndexer._getitem_axis\u001b[0;34m(self, key, axis)\u001b[0m\n\u001b[1;32m   1329\u001b[0m     \u001b[38;5;28;01mif\u001b[39;00m \u001b[38;5;28mhasattr\u001b[39m(key, \u001b[38;5;124m\"\u001b[39m\u001b[38;5;124mndim\u001b[39m\u001b[38;5;124m\"\u001b[39m) \u001b[38;5;129;01mand\u001b[39;00m key\u001b[38;5;241m.\u001b[39mndim \u001b[38;5;241m>\u001b[39m \u001b[38;5;241m1\u001b[39m:\n\u001b[1;32m   1330\u001b[0m         \u001b[38;5;28;01mraise\u001b[39;00m \u001b[38;5;167;01mValueError\u001b[39;00m(\u001b[38;5;124m\"\u001b[39m\u001b[38;5;124mCannot index with multidimensional key\u001b[39m\u001b[38;5;124m\"\u001b[39m)\n\u001b[0;32m-> 1332\u001b[0m     \u001b[38;5;28;01mreturn\u001b[39;00m \u001b[38;5;28;43mself\u001b[39;49m\u001b[38;5;241;43m.\u001b[39;49m\u001b[43m_getitem_iterable\u001b[49m\u001b[43m(\u001b[49m\u001b[43mkey\u001b[49m\u001b[43m,\u001b[49m\u001b[43m \u001b[49m\u001b[43maxis\u001b[49m\u001b[38;5;241;43m=\u001b[39;49m\u001b[43maxis\u001b[49m\u001b[43m)\u001b[49m\n\u001b[1;32m   1334\u001b[0m \u001b[38;5;66;03m# nested tuple slicing\u001b[39;00m\n\u001b[1;32m   1335\u001b[0m \u001b[38;5;28;01mif\u001b[39;00m is_nested_tuple(key, labels):\n",
      "File \u001b[0;32m~/GP/env/icenode-dev/lib/python3.10/site-packages/pandas/core/indexing.py:1272\u001b[0m, in \u001b[0;36m_LocIndexer._getitem_iterable\u001b[0;34m(self, key, axis)\u001b[0m\n\u001b[1;32m   1269\u001b[0m \u001b[38;5;28mself\u001b[39m\u001b[38;5;241m.\u001b[39m_validate_key(key, axis)\n\u001b[1;32m   1271\u001b[0m \u001b[38;5;66;03m# A collection of keys\u001b[39;00m\n\u001b[0;32m-> 1272\u001b[0m keyarr, indexer \u001b[38;5;241m=\u001b[39m \u001b[38;5;28;43mself\u001b[39;49m\u001b[38;5;241;43m.\u001b[39;49m\u001b[43m_get_listlike_indexer\u001b[49m\u001b[43m(\u001b[49m\u001b[43mkey\u001b[49m\u001b[43m,\u001b[49m\u001b[43m \u001b[49m\u001b[43maxis\u001b[49m\u001b[43m)\u001b[49m\n\u001b[1;32m   1273\u001b[0m \u001b[38;5;28;01mreturn\u001b[39;00m \u001b[38;5;28mself\u001b[39m\u001b[38;5;241m.\u001b[39mobj\u001b[38;5;241m.\u001b[39m_reindex_with_indexers(\n\u001b[1;32m   1274\u001b[0m     {axis: [keyarr, indexer]}, copy\u001b[38;5;241m=\u001b[39m\u001b[38;5;28;01mTrue\u001b[39;00m, allow_dups\u001b[38;5;241m=\u001b[39m\u001b[38;5;28;01mTrue\u001b[39;00m\n\u001b[1;32m   1275\u001b[0m )\n",
      "File \u001b[0;32m~/GP/env/icenode-dev/lib/python3.10/site-packages/pandas/core/indexing.py:1462\u001b[0m, in \u001b[0;36m_LocIndexer._get_listlike_indexer\u001b[0;34m(self, key, axis)\u001b[0m\n\u001b[1;32m   1459\u001b[0m ax \u001b[38;5;241m=\u001b[39m \u001b[38;5;28mself\u001b[39m\u001b[38;5;241m.\u001b[39mobj\u001b[38;5;241m.\u001b[39m_get_axis(axis)\n\u001b[1;32m   1460\u001b[0m axis_name \u001b[38;5;241m=\u001b[39m \u001b[38;5;28mself\u001b[39m\u001b[38;5;241m.\u001b[39mobj\u001b[38;5;241m.\u001b[39m_get_axis_name(axis)\n\u001b[0;32m-> 1462\u001b[0m keyarr, indexer \u001b[38;5;241m=\u001b[39m \u001b[43max\u001b[49m\u001b[38;5;241;43m.\u001b[39;49m\u001b[43m_get_indexer_strict\u001b[49m\u001b[43m(\u001b[49m\u001b[43mkey\u001b[49m\u001b[43m,\u001b[49m\u001b[43m \u001b[49m\u001b[43maxis_name\u001b[49m\u001b[43m)\u001b[49m\n\u001b[1;32m   1464\u001b[0m \u001b[38;5;28;01mreturn\u001b[39;00m keyarr, indexer\n",
      "File \u001b[0;32m~/GP/env/icenode-dev/lib/python3.10/site-packages/pandas/core/indexes/base.py:5877\u001b[0m, in \u001b[0;36mIndex._get_indexer_strict\u001b[0;34m(self, key, axis_name)\u001b[0m\n\u001b[1;32m   5874\u001b[0m \u001b[38;5;28;01melse\u001b[39;00m:\n\u001b[1;32m   5875\u001b[0m     keyarr, indexer, new_indexer \u001b[38;5;241m=\u001b[39m \u001b[38;5;28mself\u001b[39m\u001b[38;5;241m.\u001b[39m_reindex_non_unique(keyarr)\n\u001b[0;32m-> 5877\u001b[0m \u001b[38;5;28;43mself\u001b[39;49m\u001b[38;5;241;43m.\u001b[39;49m\u001b[43m_raise_if_missing\u001b[49m\u001b[43m(\u001b[49m\u001b[43mkeyarr\u001b[49m\u001b[43m,\u001b[49m\u001b[43m \u001b[49m\u001b[43mindexer\u001b[49m\u001b[43m,\u001b[49m\u001b[43m \u001b[49m\u001b[43maxis_name\u001b[49m\u001b[43m)\u001b[49m\n\u001b[1;32m   5879\u001b[0m keyarr \u001b[38;5;241m=\u001b[39m \u001b[38;5;28mself\u001b[39m\u001b[38;5;241m.\u001b[39mtake(indexer)\n\u001b[1;32m   5880\u001b[0m \u001b[38;5;28;01mif\u001b[39;00m \u001b[38;5;28misinstance\u001b[39m(key, Index):\n\u001b[1;32m   5881\u001b[0m     \u001b[38;5;66;03m# GH 42790 - Preserve name from an Index\u001b[39;00m\n",
      "File \u001b[0;32m~/GP/env/icenode-dev/lib/python3.10/site-packages/pandas/core/indexes/base.py:5941\u001b[0m, in \u001b[0;36mIndex._raise_if_missing\u001b[0;34m(self, key, indexer, axis_name)\u001b[0m\n\u001b[1;32m   5938\u001b[0m     \u001b[38;5;28;01mraise\u001b[39;00m \u001b[38;5;167;01mKeyError\u001b[39;00m(\u001b[38;5;124mf\u001b[39m\u001b[38;5;124m\"\u001b[39m\u001b[38;5;124mNone of [\u001b[39m\u001b[38;5;132;01m{\u001b[39;00mkey\u001b[38;5;132;01m}\u001b[39;00m\u001b[38;5;124m] are in the [\u001b[39m\u001b[38;5;132;01m{\u001b[39;00maxis_name\u001b[38;5;132;01m}\u001b[39;00m\u001b[38;5;124m]\u001b[39m\u001b[38;5;124m\"\u001b[39m)\n\u001b[1;32m   5940\u001b[0m not_found \u001b[38;5;241m=\u001b[39m \u001b[38;5;28mlist\u001b[39m(ensure_index(key)[missing_mask\u001b[38;5;241m.\u001b[39mnonzero()[\u001b[38;5;241m0\u001b[39m]]\u001b[38;5;241m.\u001b[39munique())\n\u001b[0;32m-> 5941\u001b[0m \u001b[38;5;28;01mraise\u001b[39;00m \u001b[38;5;167;01mKeyError\u001b[39;00m(\u001b[38;5;124mf\u001b[39m\u001b[38;5;124m\"\u001b[39m\u001b[38;5;132;01m{\u001b[39;00mnot_found\u001b[38;5;132;01m}\u001b[39;00m\u001b[38;5;124m not in index\u001b[39m\u001b[38;5;124m\"\u001b[39m)\n",
      "\u001b[0;31mKeyError\u001b[0m: \"['18006', '18113', '23407', '23523', '2420', '28222', '28700', '28883', '32599', '4023', '417', '46228', '4791', '50259', '59551', '66298', '7094', '7211', '8267', '9035', '9155', '96810', '9891'] not in index\""
     ]
    }
   ],
   "source": [
    "result = experiment.run()"
   ]
  },
  {
   "cell_type": "code",
   "execution_count": 18,
   "id": "d3fc84d4",
   "metadata": {},
   "outputs": [
    {
     "name": "stderr",
     "output_type": "stream",
     "text": [
      "/home/asem/GP/env/icenode-dev/lib/python3.10/site-packages/dask/dataframe/io/csv.py:544: UserWarning: Warning gzip compression does not support breaking apart files\n",
      "Please ensure that each individual file can fit in memory and\n",
      "use the keyword ``blocksize=None to remove this message``\n",
      "Setting ``blocksize=None``\n",
      "  warn(\n",
      "/home/asem/GP/env/icenode-dev/lib/python3.10/site-packages/dask/dataframe/io/csv.py:544: UserWarning: Warning gzip compression does not support breaking apart files\n",
      "Please ensure that each individual file can fit in memory and\n",
      "use the keyword ``blocksize=None to remove this message``\n",
      "Setting ``blocksize=None``\n",
      "  warn(\n",
      "/home/asem/GP/env/icenode-dev/lib/python3.10/site-packages/dask/dataframe/io/csv.py:544: UserWarning: Warning gzip compression does not support breaking apart files\n",
      "Please ensure that each individual file can fit in memory and\n",
      "use the keyword ``blocksize=None to remove this message``\n",
      "Setting ``blocksize=None``\n",
      "  warn(\n"
     ]
    }
   ],
   "source": [
    "ds = experiment.load_dataset(experiment.config.dataset)"
   ]
  },
  {
   "cell_type": "code",
   "execution_count": 21,
   "id": "e37cd4c2",
   "metadata": {},
   "outputs": [],
   "source": [
    "sdf = ds.df['static']"
   ]
  },
  {
   "cell_type": "code",
   "execution_count": 22,
   "id": "5ed88ab4",
   "metadata": {},
   "outputs": [],
   "source": [
    "sid = ds.df['static'].index.unique()"
   ]
  },
  {
   "cell_type": "code",
   "execution_count": 23,
   "id": "96a8fd1c",
   "metadata": {},
   "outputs": [],
   "source": [
    "sdf = sdf.loc[sid]"
   ]
  },
  {
   "cell_type": "code",
   "execution_count": 25,
   "id": "9c1b3fb1",
   "metadata": {},
   "outputs": [
    {
     "data": {
      "text/plain": [
       "GENDER                         M\n",
       "DOB          2129-09-18 00:00:00\n",
       "ETHNICITY                  WHITE\n",
       "Name: 18006, dtype: object"
      ]
     },
     "execution_count": 25,
     "metadata": {},
     "output_type": "execute_result"
    }
   ],
   "source": [
    "sdf.loc['18006']"
   ]
  },
  {
   "cell_type": "code",
   "execution_count": 26,
   "id": "b564ead1",
   "metadata": {},
   "outputs": [],
   "source": [
    "adf = ds.df['adm']"
   ]
  },
  {
   "cell_type": "code",
   "execution_count": 28,
   "id": "6c7ebe0d",
   "metadata": {},
   "outputs": [],
   "source": [
    "last_disch_date = adf.groupby('SUBJECT_ID')['DISCHTIME'].max()"
   ]
  },
  {
   "cell_type": "code",
   "execution_count": 32,
   "id": "2c0c5afe",
   "metadata": {},
   "outputs": [
    {
     "ename": "KeyError",
     "evalue": "\"['8267', '9155', '9035', '417', '46228', '7094', '23407', '28700', '4023', '2420', '7211', '96810', '28883', '28222', '59551', '66298', '23523', '50259', '4791', '9891', '18113', '32599', '18006'] not in index\"",
     "output_type": "error",
     "traceback": [
      "\u001b[0;31m---------------------------------------------------------------------------\u001b[0m",
      "\u001b[0;31mKeyError\u001b[0m                                  Traceback (most recent call last)",
      "Cell \u001b[0;32mIn[32], line 1\u001b[0m\n\u001b[0;32m----> 1\u001b[0m \u001b[43mlast_disch_date\u001b[49m\u001b[38;5;241;43m.\u001b[39;49m\u001b[43mloc\u001b[49m\u001b[43m[\u001b[49m\u001b[43msid\u001b[49m\u001b[43m]\u001b[49m\n",
      "File \u001b[0;32m~/GP/env/icenode-dev/lib/python3.10/site-packages/pandas/core/indexing.py:1103\u001b[0m, in \u001b[0;36m_LocationIndexer.__getitem__\u001b[0;34m(self, key)\u001b[0m\n\u001b[1;32m   1100\u001b[0m axis \u001b[38;5;241m=\u001b[39m \u001b[38;5;28mself\u001b[39m\u001b[38;5;241m.\u001b[39maxis \u001b[38;5;129;01mor\u001b[39;00m \u001b[38;5;241m0\u001b[39m\n\u001b[1;32m   1102\u001b[0m maybe_callable \u001b[38;5;241m=\u001b[39m com\u001b[38;5;241m.\u001b[39mapply_if_callable(key, \u001b[38;5;28mself\u001b[39m\u001b[38;5;241m.\u001b[39mobj)\n\u001b[0;32m-> 1103\u001b[0m \u001b[38;5;28;01mreturn\u001b[39;00m \u001b[38;5;28;43mself\u001b[39;49m\u001b[38;5;241;43m.\u001b[39;49m\u001b[43m_getitem_axis\u001b[49m\u001b[43m(\u001b[49m\u001b[43mmaybe_callable\u001b[49m\u001b[43m,\u001b[49m\u001b[43m \u001b[49m\u001b[43maxis\u001b[49m\u001b[38;5;241;43m=\u001b[39;49m\u001b[43maxis\u001b[49m\u001b[43m)\u001b[49m\n",
      "File \u001b[0;32m~/GP/env/icenode-dev/lib/python3.10/site-packages/pandas/core/indexing.py:1332\u001b[0m, in \u001b[0;36m_LocIndexer._getitem_axis\u001b[0;34m(self, key, axis)\u001b[0m\n\u001b[1;32m   1329\u001b[0m     \u001b[38;5;28;01mif\u001b[39;00m \u001b[38;5;28mhasattr\u001b[39m(key, \u001b[38;5;124m\"\u001b[39m\u001b[38;5;124mndim\u001b[39m\u001b[38;5;124m\"\u001b[39m) \u001b[38;5;129;01mand\u001b[39;00m key\u001b[38;5;241m.\u001b[39mndim \u001b[38;5;241m>\u001b[39m \u001b[38;5;241m1\u001b[39m:\n\u001b[1;32m   1330\u001b[0m         \u001b[38;5;28;01mraise\u001b[39;00m \u001b[38;5;167;01mValueError\u001b[39;00m(\u001b[38;5;124m\"\u001b[39m\u001b[38;5;124mCannot index with multidimensional key\u001b[39m\u001b[38;5;124m\"\u001b[39m)\n\u001b[0;32m-> 1332\u001b[0m     \u001b[38;5;28;01mreturn\u001b[39;00m \u001b[38;5;28;43mself\u001b[39;49m\u001b[38;5;241;43m.\u001b[39;49m\u001b[43m_getitem_iterable\u001b[49m\u001b[43m(\u001b[49m\u001b[43mkey\u001b[49m\u001b[43m,\u001b[49m\u001b[43m \u001b[49m\u001b[43maxis\u001b[49m\u001b[38;5;241;43m=\u001b[39;49m\u001b[43maxis\u001b[49m\u001b[43m)\u001b[49m\n\u001b[1;32m   1334\u001b[0m \u001b[38;5;66;03m# nested tuple slicing\u001b[39;00m\n\u001b[1;32m   1335\u001b[0m \u001b[38;5;28;01mif\u001b[39;00m is_nested_tuple(key, labels):\n",
      "File \u001b[0;32m~/GP/env/icenode-dev/lib/python3.10/site-packages/pandas/core/indexing.py:1272\u001b[0m, in \u001b[0;36m_LocIndexer._getitem_iterable\u001b[0;34m(self, key, axis)\u001b[0m\n\u001b[1;32m   1269\u001b[0m \u001b[38;5;28mself\u001b[39m\u001b[38;5;241m.\u001b[39m_validate_key(key, axis)\n\u001b[1;32m   1271\u001b[0m \u001b[38;5;66;03m# A collection of keys\u001b[39;00m\n\u001b[0;32m-> 1272\u001b[0m keyarr, indexer \u001b[38;5;241m=\u001b[39m \u001b[38;5;28;43mself\u001b[39;49m\u001b[38;5;241;43m.\u001b[39;49m\u001b[43m_get_listlike_indexer\u001b[49m\u001b[43m(\u001b[49m\u001b[43mkey\u001b[49m\u001b[43m,\u001b[49m\u001b[43m \u001b[49m\u001b[43maxis\u001b[49m\u001b[43m)\u001b[49m\n\u001b[1;32m   1273\u001b[0m \u001b[38;5;28;01mreturn\u001b[39;00m \u001b[38;5;28mself\u001b[39m\u001b[38;5;241m.\u001b[39mobj\u001b[38;5;241m.\u001b[39m_reindex_with_indexers(\n\u001b[1;32m   1274\u001b[0m     {axis: [keyarr, indexer]}, copy\u001b[38;5;241m=\u001b[39m\u001b[38;5;28;01mTrue\u001b[39;00m, allow_dups\u001b[38;5;241m=\u001b[39m\u001b[38;5;28;01mTrue\u001b[39;00m\n\u001b[1;32m   1275\u001b[0m )\n",
      "File \u001b[0;32m~/GP/env/icenode-dev/lib/python3.10/site-packages/pandas/core/indexing.py:1462\u001b[0m, in \u001b[0;36m_LocIndexer._get_listlike_indexer\u001b[0;34m(self, key, axis)\u001b[0m\n\u001b[1;32m   1459\u001b[0m ax \u001b[38;5;241m=\u001b[39m \u001b[38;5;28mself\u001b[39m\u001b[38;5;241m.\u001b[39mobj\u001b[38;5;241m.\u001b[39m_get_axis(axis)\n\u001b[1;32m   1460\u001b[0m axis_name \u001b[38;5;241m=\u001b[39m \u001b[38;5;28mself\u001b[39m\u001b[38;5;241m.\u001b[39mobj\u001b[38;5;241m.\u001b[39m_get_axis_name(axis)\n\u001b[0;32m-> 1462\u001b[0m keyarr, indexer \u001b[38;5;241m=\u001b[39m \u001b[43max\u001b[49m\u001b[38;5;241;43m.\u001b[39;49m\u001b[43m_get_indexer_strict\u001b[49m\u001b[43m(\u001b[49m\u001b[43mkey\u001b[49m\u001b[43m,\u001b[49m\u001b[43m \u001b[49m\u001b[43maxis_name\u001b[49m\u001b[43m)\u001b[49m\n\u001b[1;32m   1464\u001b[0m \u001b[38;5;28;01mreturn\u001b[39;00m keyarr, indexer\n",
      "File \u001b[0;32m~/GP/env/icenode-dev/lib/python3.10/site-packages/pandas/core/indexes/base.py:5877\u001b[0m, in \u001b[0;36mIndex._get_indexer_strict\u001b[0;34m(self, key, axis_name)\u001b[0m\n\u001b[1;32m   5874\u001b[0m \u001b[38;5;28;01melse\u001b[39;00m:\n\u001b[1;32m   5875\u001b[0m     keyarr, indexer, new_indexer \u001b[38;5;241m=\u001b[39m \u001b[38;5;28mself\u001b[39m\u001b[38;5;241m.\u001b[39m_reindex_non_unique(keyarr)\n\u001b[0;32m-> 5877\u001b[0m \u001b[38;5;28;43mself\u001b[39;49m\u001b[38;5;241;43m.\u001b[39;49m\u001b[43m_raise_if_missing\u001b[49m\u001b[43m(\u001b[49m\u001b[43mkeyarr\u001b[49m\u001b[43m,\u001b[49m\u001b[43m \u001b[49m\u001b[43mindexer\u001b[49m\u001b[43m,\u001b[49m\u001b[43m \u001b[49m\u001b[43maxis_name\u001b[49m\u001b[43m)\u001b[49m\n\u001b[1;32m   5879\u001b[0m keyarr \u001b[38;5;241m=\u001b[39m \u001b[38;5;28mself\u001b[39m\u001b[38;5;241m.\u001b[39mtake(indexer)\n\u001b[1;32m   5880\u001b[0m \u001b[38;5;28;01mif\u001b[39;00m \u001b[38;5;28misinstance\u001b[39m(key, Index):\n\u001b[1;32m   5881\u001b[0m     \u001b[38;5;66;03m# GH 42790 - Preserve name from an Index\u001b[39;00m\n",
      "File \u001b[0;32m~/GP/env/icenode-dev/lib/python3.10/site-packages/pandas/core/indexes/base.py:5941\u001b[0m, in \u001b[0;36mIndex._raise_if_missing\u001b[0;34m(self, key, indexer, axis_name)\u001b[0m\n\u001b[1;32m   5938\u001b[0m     \u001b[38;5;28;01mraise\u001b[39;00m \u001b[38;5;167;01mKeyError\u001b[39;00m(\u001b[38;5;124mf\u001b[39m\u001b[38;5;124m\"\u001b[39m\u001b[38;5;124mNone of [\u001b[39m\u001b[38;5;132;01m{\u001b[39;00mkey\u001b[38;5;132;01m}\u001b[39;00m\u001b[38;5;124m] are in the [\u001b[39m\u001b[38;5;132;01m{\u001b[39;00maxis_name\u001b[38;5;132;01m}\u001b[39;00m\u001b[38;5;124m]\u001b[39m\u001b[38;5;124m\"\u001b[39m)\n\u001b[1;32m   5940\u001b[0m not_found \u001b[38;5;241m=\u001b[39m \u001b[38;5;28mlist\u001b[39m(ensure_index(key)[missing_mask\u001b[38;5;241m.\u001b[39mnonzero()[\u001b[38;5;241m0\u001b[39m]]\u001b[38;5;241m.\u001b[39munique())\n\u001b[0;32m-> 5941\u001b[0m \u001b[38;5;28;01mraise\u001b[39;00m \u001b[38;5;167;01mKeyError\u001b[39;00m(\u001b[38;5;124mf\u001b[39m\u001b[38;5;124m\"\u001b[39m\u001b[38;5;132;01m{\u001b[39;00mnot_found\u001b[38;5;132;01m}\u001b[39;00m\u001b[38;5;124m not in index\u001b[39m\u001b[38;5;124m\"\u001b[39m)\n",
      "\u001b[0;31mKeyError\u001b[0m: \"['8267', '9155', '9035', '417', '46228', '7094', '23407', '28700', '4023', '2420', '7211', '96810', '28883', '28222', '59551', '66298', '23523', '50259', '4791', '9891', '18113', '32599', '18006'] not in index\""
     ]
    }
   ],
   "source": [
    "last_disch_date.loc[sid]"
   ]
  },
  {
   "cell_type": "markdown",
   "id": "6ae45553",
   "metadata": {},
   "source": [
    "###### "
   ]
  }
 ],
 "metadata": {
  "kernelspec": {
   "display_name": "Python 3 (ipykernel)",
   "language": "python",
   "name": "python3"
  },
  "language_info": {
   "codemirror_mode": {
    "name": "ipython",
    "version": 3
   },
   "file_extension": ".py",
   "mimetype": "text/x-python",
   "name": "python",
   "nbconvert_exporter": "python",
   "pygments_lexer": "ipython3",
   "version": "3.10.12"
  }
 },
 "nbformat": 4,
 "nbformat_minor": 5
}
