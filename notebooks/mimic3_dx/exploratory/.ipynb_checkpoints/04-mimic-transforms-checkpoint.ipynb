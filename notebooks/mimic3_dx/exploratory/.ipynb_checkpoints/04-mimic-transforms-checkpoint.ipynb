{
 "cells": [
  {
   "cell_type": "code",
   "execution_count": 1,
   "id": "happy-equation",
   "metadata": {},
   "source": [
    "import numpy as np\n",
    "import pandas as pd\n",
    "import json\n",
    "import collections\n",
    "from collections import defaultdict \n",
    "from functools import partial\n",
    "import networkx as nx\n",
    "import matplotlib.pyplot as plt\n",
    "import seaborn as sns\n",
    "\n",
    "from tqdm import tqdm\n"
   ],
   "outputs": []
  },
  {
   "cell_type": "code",
   "execution_count": 2,
   "id": "practical-terrace",
   "metadata": {},
   "source": [
    "# Good read: https://iq-inc.com/importerror-attempted-relative-import/\n",
    "\n",
    "import sys\n",
    "import importlib\n",
    "from mimicnet import concept\n",
    "\n",
    "importlib.reload(sys.modules['mimicnet.concept'])"
   ],
   "outputs": []
  },
  {
   "cell_type": "code",
   "execution_count": 3,
   "id": "electoral-liberal",
   "metadata": {},
   "source": [
    "# multi_visit_mimic_dir = '/home/am8520/GP/ehr-data/mimic3-multi-visit'\n",
    "multi_visit_mimic_dir = '/home/asem/GP/ehr-data/mimic3-multi-visit'\n",
    "transformed_mimic_dir = '/home/asem/GP/ehr-data/mimic3-transforms'\n",
    "# mimic_dir = '/home/asem/GP/ehr-data/mimic3-v1.4/physionet.org/files/mimiciii/1.4'\n",
    "mimic_dir = '/home/asem/GP/MIMIC-SNONET/RAW/mimic-iii-clinical-database-1.4'\n"
   ],
   "outputs": []
  },
  {
   "cell_type": "code",
   "execution_count": 4,
   "id": "strong-brooks",
   "metadata": {},
   "source": [
    "D_LABITEMS = pd.read_csv(f'{mimic_dir}/D_LABITEMS.csv.gz')\n",
    "D_ITEMS = pd.read_csv(f'{mimic_dir}/D_ITEMS.csv.gz')"
   ],
   "outputs": []
  },
  {
   "cell_type": "code",
   "execution_count": 5,
   "id": "acoustic-clear",
   "metadata": {},
   "source": [
    "D_LABITEMS.head()"
   ],
   "outputs": []
  },
  {
   "cell_type": "code",
   "execution_count": 6,
   "id": "ambient-hughes",
   "metadata": {},
   "source": [
    "D_ITEMS.head()"
   ],
   "outputs": []
  },
  {
   "cell_type": "code",
   "execution_count": 7,
   "id": "casual-pitch",
   "metadata": {},
   "source": [
    "D_TEST = pd.concat([D_LABITEMS, D_ITEMS], join='inner')\n",
    "test_label_dict = dict(zip(D_TEST.ITEMID, D_TEST.LABEL))\n",
    "test_cat_dict = dict(zip(D_TEST.ITEMID, D_TEST.CATEGORY))"
   ],
   "outputs": []
  },
  {
   "cell_type": "code",
   "execution_count": 8,
   "id": "jewish-tamil",
   "metadata": {},
   "source": [
    "PATIENTS = pd.read_csv(f'{multi_visit_mimic_dir}/PATIENTS_2WKS.csv.gz')\n",
    "ADMISSIONS = pd.read_csv(f'{multi_visit_mimic_dir}/ADMISSIONS_2WKS.csv.gz')\n",
    "DIAGNOSES_ICD = pd.read_csv(f'{multi_visit_mimic_dir}/DIAGNOSES_ICD_2WKS.csv.gz', dtype = {'ICD9_CODE': str})\n",
    "PROCEDURES_ICD = pd.read_csv(f'{multi_visit_mimic_dir}/PROCEDURES_ICD_2WKS.csv.gz', dtype = {'ICD9_CODE': str})\n",
    "LABEVENTS = pd.read_csv(f'{multi_visit_mimic_dir}/LABEVENTS_Q5_UNITS_FIXED_2WKS.csv.gz')\n",
    "CHARTEVENTS = pd.read_csv(f'{multi_visit_mimic_dir}/CHARTEVENTS_Q5_2WKS.csv.gz')"
   ],
   "outputs": []
  },
  {
   "cell_type": "code",
   "execution_count": 9,
   "id": "worse-motor",
   "metadata": {},
   "source": [
    "LABEVENTS.head()"
   ],
   "outputs": []
  },
  {
   "cell_type": "code",
   "execution_count": 10,
   "id": "color-superintendent",
   "metadata": {},
   "source": [
    "CHARTEVENTS.head()"
   ],
   "outputs": []
  },
  {
   "cell_type": "markdown",
   "id": "plastic-width",
   "metadata": {},
   "source": [
    "# Checklist\n",
    "\n",
    "- (A) **Cast datetime to date**.\n",
    "- (B) **Merge CHARTEVENTS and LABEVENTS**\n",
    "- (C) **Remove outliers by IQR** (NOTE: possible information leakage between training and testing. So the aim just to assess the ability of neural ODEs to predict codes for next visits compared to GRAM methods. But for real clinical investigation, outlier removal should be applied on training subset then passing filtration limits to test subset.)\n",
    "- (D) **Normalize to Z-scores**. (NOTE: see (C)).\n",
    "- (E) **For repeated measurements in the same day, consider the average.**\n",
    "    - Average is considered instead of median to be sensitive to edge (and sporadic) values which could be indicative of health conditions.\n",
    "- (F) For DX/PR codes:\n",
    "    1. Add to the middle day of the H. Adm.\n",
    "    2. Add to all days of the H.Adm.\n"
   ]
  },
  {
   "cell_type": "markdown",
   "id": "inclusive-latest",
   "metadata": {},
   "source": [
    "# (A) Cast datetime to date"
   ]
  },
  {
   "cell_type": "markdown",
   "id": "assured-voice",
   "metadata": {},
   "source": [
    "## (A-1) PATIENTS table"
   ]
  },
  {
   "cell_type": "code",
   "execution_count": 11,
   "id": "fundamental-thousand",
   "metadata": {},
   "source": [
    "PATIENTS.head()"
   ],
   "outputs": []
  },
  {
   "cell_type": "code",
   "execution_count": 12,
   "id": "empirical-bulletin",
   "metadata": {},
   "source": [
    "PATIENTS = PATIENTS[['SUBJECT_ID', 'GENDER', 'DOB']]\n",
    "PATIENTS['DOB'] = pd.to_datetime(PATIENTS.DOB, infer_datetime_format=True).dt.normalize()"
   ],
   "outputs": []
  },
  {
   "cell_type": "code",
   "execution_count": 13,
   "id": "aging-elizabeth",
   "metadata": {},
   "source": [
    "PATIENTS.head()"
   ],
   "outputs": []
  },
  {
   "cell_type": "code",
   "execution_count": 14,
   "id": "concrete-chart",
   "metadata": {},
   "source": [
    "PATIENTS.dtypes"
   ],
   "outputs": []
  },
  {
   "cell_type": "markdown",
   "id": "caring-projection",
   "metadata": {},
   "source": [
    "## (A-2) ADMISSIONS table"
   ]
  },
  {
   "cell_type": "code",
   "execution_count": 15,
   "id": "continued-preview",
   "metadata": {},
   "source": [
    "ADMISSIONS.head()"
   ],
   "outputs": []
  },
  {
   "cell_type": "code",
   "execution_count": 16,
   "id": "celtic-approval",
   "metadata": {},
   "source": [
    "ADMISSIONS = ADMISSIONS[['SUBJECT_ID', 'HADM_ID', 'ADMITTIME', 'DISCHTIME', 'ADMISSION_TYPE', 'ADMISSION_LOCATION', 'ETHNICITY', 'DIAGNOSIS', 'DAYS', 'MAX_DAYS']]\n",
    "ADMISSIONS['ADMITTIME'] = pd.to_datetime(ADMISSIONS.ADMITTIME, infer_datetime_format=True).dt.normalize()\n",
    "ADMISSIONS['DISCHTIME'] = pd.to_datetime(ADMISSIONS.DISCHTIME, infer_datetime_format=True).dt.normalize()\n",
    "ADMISSIONS.head()"
   ],
   "outputs": []
  },
  {
   "cell_type": "code",
   "execution_count": 17,
   "id": "congressional-movie",
   "metadata": {},
   "source": [
    "ADMISSIONS.dtypes"
   ],
   "outputs": []
  },
  {
   "cell_type": "markdown",
   "id": "civil-gazette",
   "metadata": {},
   "source": [
    "## (A-3) DIAGNOSES  and PROCEDURES tables"
   ]
  },
  {
   "cell_type": "code",
   "execution_count": 18,
   "id": "august-silicon",
   "metadata": {},
   "source": [
    "DIAGNOSES_ICD.head()"
   ],
   "outputs": []
  },
  {
   "cell_type": "code",
   "execution_count": 19,
   "id": "historic-alias",
   "metadata": {},
   "source": [
    "DIAGNOSES_ICD = DIAGNOSES_ICD[['SUBJECT_ID', 'HADM_ID', 'ICD9_CODE']]"
   ],
   "outputs": []
  },
  {
   "cell_type": "code",
   "execution_count": 20,
   "id": "blocked-grain",
   "metadata": {},
   "source": [
    "PROCEDURES_ICD.head()\n"
   ],
   "outputs": []
  },
  {
   "cell_type": "code",
   "execution_count": 21,
   "id": "fancy-tunisia",
   "metadata": {},
   "source": [
    "PROCEDURES_ICD = PROCEDURES_ICD[['SUBJECT_ID', 'HADM_ID', 'ICD9_CODE']]"
   ],
   "outputs": []
  },
  {
   "cell_type": "markdown",
   "id": "eligible-wholesale",
   "metadata": {},
   "source": [
    "## (A-4) LABEVENTS and CHARTEVENTS (don't normalize here)."
   ]
  },
  {
   "cell_type": "code",
   "execution_count": 22,
   "id": "analyzed-universe",
   "metadata": {},
   "source": [
    "LABEVENTS.head()"
   ],
   "outputs": []
  },
  {
   "cell_type": "code",
   "execution_count": 23,
   "id": "tribal-counter",
   "metadata": {},
   "source": [
    "LABEVENTS = LABEVENTS[['SUBJECT_ID', 'ITEMID', 'CHARTTIME', 'VALUENUM', 'VALUEUOM']]\n",
    "LABEVENTS['CHARTTIME'] = pd.to_datetime(LABEVENTS.CHARTTIME, infer_datetime_format=True)\n",
    "LABEVENTS.head()"
   ],
   "outputs": []
  },
  {
   "cell_type": "code",
   "execution_count": 24,
   "id": "adjacent-celtic",
   "metadata": {},
   "source": [
    "CHARTEVENTS.head()"
   ],
   "outputs": []
  },
  {
   "cell_type": "code",
   "execution_count": 25,
   "id": "ignored-detective",
   "metadata": {},
   "source": [
    "CHARTEVENTS = CHARTEVENTS[['SUBJECT_ID', 'ITEMID', 'CHARTTIME', 'VALUENUM', 'VALUEUOM']]\n",
    "CHARTEVENTS['CHARTTIME'] = pd.to_datetime(CHARTEVENTS.CHARTTIME, infer_datetime_format=True)\n",
    "CHARTEVENTS.head()"
   ],
   "outputs": []
  },
  {
   "cell_type": "markdown",
   "id": "institutional-pricing",
   "metadata": {},
   "source": [
    "# (B) Concatenate LABEVENTS and CHARTEVENTS into TESTS"
   ]
  },
  {
   "cell_type": "code",
   "execution_count": 26,
   "id": "constitutional-confirmation",
   "metadata": {},
   "source": [
    "TESTS = pd.concat([LABEVENTS, CHARTEVENTS], join=\"inner\")"
   ],
   "outputs": []
  },
  {
   "cell_type": "code",
   "execution_count": 27,
   "id": "bibliographic-variance",
   "metadata": {},
   "source": [
    "TESTS"
   ],
   "outputs": []
  },
  {
   "cell_type": "code",
   "execution_count": 28,
   "id": "hollywood-england",
   "metadata": {},
   "source": [
    "TESTS.VALUENUM.notnull().all()"
   ],
   "outputs": []
  },
  {
   "cell_type": "markdown",
   "id": "deluxe-attention",
   "metadata": {},
   "source": [
    "## (C) Remove outliers in TESTS using IQR"
   ]
  },
  {
   "cell_type": "code",
   "execution_count": 29,
   "id": "nuclear-frost",
   "metadata": {},
   "source": [
    "# Good read: https://iq-inc.com/importerror-attempted-relative-import/\n",
    "\n",
    "import sys\n",
    "import importlib\n",
    "from mimicnet import concept\n",
    "\n",
    "importlib.reload(sys.modules['mimicnet.concept'])\n",
    "\n",
    "from mimicnet.concept import Subject"
   ],
   "outputs": []
  },
  {
   "cell_type": "code",
   "execution_count": 30,
   "id": "given-split",
   "metadata": {},
   "source": [
    "TESTS.shape"
   ],
   "outputs": []
  },
  {
   "cell_type": "code",
   "execution_count": 31,
   "id": "destroyed-mobile",
   "metadata": {},
   "source": [
    "iqr_filter = Subject.make_iqr_concept_filter(TESTS)"
   ],
   "outputs": []
  },
  {
   "cell_type": "code",
   "execution_count": 32,
   "id": "stuck-country",
   "metadata": {},
   "source": [
    "len(set(TESTS.ITEMID))"
   ],
   "outputs": []
  },
  {
   "cell_type": "code",
   "execution_count": 33,
   "id": "proud-nightmare",
   "metadata": {},
   "source": [
    "len(iqr_filter)"
   ],
   "outputs": []
  },
  {
   "cell_type": "code",
   "execution_count": 34,
   "id": "intermediate-apollo",
   "metadata": {},
   "source": [
    "sum(map(lambda t: t[0] == t[1], iqr_filter.values()))"
   ],
   "outputs": []
  },
  {
   "cell_type": "code",
   "execution_count": 35,
   "id": "competent-merchant",
   "metadata": {},
   "source": [
    "iqr_filter_df = pd.DataFrame({'ITEMID': iqr_filter.keys(),\n",
    "                              'LABEL': map(test_label_dict.get, iqr_filter.keys()),\n",
    "                              'CATEGORY': map(test_cat_dict.get, iqr_filter.keys()),\n",
    "                             'MIN': map(lambda t: t[0], iqr_filter.values()),\n",
    "                             'MAX': map(lambda t: t[1], iqr_filter.values())})"
   ],
   "outputs": []
  },
  {
   "cell_type": "code",
   "execution_count": 36,
   "id": "powerful-quarterly",
   "metadata": {},
   "source": [
    "iqr_filter_df.to_csv('iqr_filter.csv')\n",
    "iqr_filter_df[iqr_filter_df.MAX == iqr_filter_df.MIN].to_csv('iqr_filter2.csv')\n",
    "constant_tests = set(iqr_filter_df[iqr_filter_df.MAX == iqr_filter_df.MIN].ITEMID)\n",
    "variable_tests = set(iqr_filter_df.ITEMID) - constant_tests"
   ],
   "outputs": []
  },
  {
   "cell_type": "code",
   "execution_count": 37,
   "id": "middle-gibraltar",
   "metadata": {},
   "source": [
    "TESTS_NO_CONSTANTS = TESTS[TESTS.ITEMID.isin(variable_tests)]"
   ],
   "outputs": []
  },
  {
   "cell_type": "code",
   "execution_count": 38,
   "id": "typical-diesel",
   "metadata": {},
   "source": [
    "TESTS_NO_CONSTANTS.shape"
   ],
   "outputs": []
  },
  {
   "cell_type": "code",
   "execution_count": 39,
   "id": "korean-spider",
   "metadata": {},
   "source": [
    "TESTS_FILTERED = Subject.apply_iqr_concept_filter(TESTS_NO_CONSTANTS, iqr_filter)"
   ],
   "outputs": []
  },
  {
   "cell_type": "code",
   "execution_count": 40,
   "id": "still-rwanda",
   "metadata": {},
   "source": [
    "TESTS_FILTERED.shape"
   ],
   "outputs": []
  },
  {
   "cell_type": "code",
   "execution_count": 41,
   "id": "convenient-stereo",
   "metadata": {},
   "source": [
    "len(set(TESTS_FILTERED.ITEMID))"
   ],
   "outputs": []
  },
  {
   "cell_type": "code",
   "execution_count": 43,
   "id": "adjacent-palace",
   "metadata": {},
   "source": [
    "TESTS_FILTERED.to_csv(f'{transformed_mimic_dir}/TESTS_FILTERED.csv.gz', compression='gzip', index=False)\n"
   ],
   "outputs": []
  },
  {
   "cell_type": "code",
   "execution_count": 44,
   "id": "imported-convenience",
   "metadata": {},
   "source": [
    "TESTS_FILTERED"
   ],
   "outputs": []
  },
  {
   "cell_type": "markdown",
   "id": "alpha-permit",
   "metadata": {},
   "source": [
    "## (E) Z-Score Normalization"
   ]
  },
  {
   "cell_type": "code",
   "execution_count": 45,
   "id": "received-compound",
   "metadata": {},
   "source": [
    "zscore_scaler = Subject.make_zscore_concept_scaler(TESTS_FILTERED)"
   ],
   "outputs": []
  },
  {
   "cell_type": "code",
   "execution_count": 46,
   "id": "absent-marriage",
   "metadata": {},
   "source": [
    "import sys\n",
    "import importlib\n",
    "from mimicnet import concept\n",
    "\n",
    "importlib.reload(sys.modules['mimicnet.concept'])\n",
    "\n",
    "import mimicnet"
   ],
   "outputs": []
  },
  {
   "cell_type": "code",
   "execution_count": 47,
   "id": "sexual-mixture",
   "metadata": {},
   "source": [
    "TESTS_FILTERED.shape"
   ],
   "outputs": []
  },
  {
   "cell_type": "code",
   "execution_count": 48,
   "id": "conservative-setting",
   "metadata": {},
   "source": [
    "TESTS_FILTERED['VALUENUM'].to_numpy().shape"
   ],
   "outputs": []
  },
  {
   "cell_type": "code",
   "execution_count": 49,
   "id": "confirmed-hotel",
   "metadata": {},
   "source": [
    "TESTS_FILTERED_ZSCORES = mimicnet.concept.Subject.apply_zscore_concept_scaler(TESTS_FILTERED, zscore_scaler)"
   ],
   "outputs": []
  },
  {
   "cell_type": "code",
   "execution_count": 50,
   "id": "extraordinary-scholar",
   "metadata": {},
   "source": [
    "TESTS_FILTERED_ZSCORES"
   ],
   "outputs": []
  },
  {
   "cell_type": "code",
   "execution_count": 51,
   "id": "brutal-volunteer",
   "metadata": {},
   "source": [
    "TESTS_FILTERED_ZSCORES.to_csv(f'{transformed_mimic_dir}/TESTS_FILTERED_ZSCORES.csv.gz', compression='gzip', index=False)"
   ],
   "outputs": []
  },
  {
   "cell_type": "markdown",
   "id": "purple-square",
   "metadata": {},
   "source": [
    "## (D) Merge repeated measurements for the same day by taking the average"
   ]
  },
  {
   "cell_type": "code",
   "execution_count": 52,
   "id": "inappropriate-rating",
   "metadata": {},
   "source": [
    "TESTS_FILTERED_ZSCORES_DTNORMALIZED = TESTS_FILTERED_ZSCORES.copy(deep=True)\n",
    "TESTS_FILTERED_ZSCORES_DTNORMALIZED['CHARTTIME'] = TESTS_FILTERED_ZSCORES_DTNORMALIZED['CHARTTIME'].dt.normalize()"
   ],
   "outputs": []
  },
  {
   "cell_type": "code",
   "execution_count": 53,
   "id": "gorgeous-microwave",
   "metadata": {},
   "source": [
    "tests_filtered_day_agg = []\n",
    "\n",
    "for subject_id, subject_df in tqdm(TESTS_FILTERED_ZSCORES_DTNORMALIZED.groupby('SUBJECT_ID')):\n",
    "    for day, day_df in subject_df.groupby('CHARTTIME'):\n",
    "        for item_id, items_df in day_df.groupby('ITEMID'):\n",
    "            mean = items_df['VALUENUM'].mean()\n",
    "            median = items_df['VALUENUM'].median()\n",
    "            tests_filtered_day_agg.append((subject_id, item_id, day, mean, median))\n",
    "            "
   ],
   "outputs": []
  },
  {
   "cell_type": "code",
   "execution_count": 54,
   "id": "micro-currency",
   "metadata": {},
   "source": [
    "TESTS_FILTERED_ZSCORES_AGG_DAY = pd.DataFrame(tests_filtered_day_agg, columns=['SUBJECT_ID', 'ITEMID', 'CHARTDAY', 'MEAN', 'MEDIAN'])"
   ],
   "outputs": []
  },
  {
   "cell_type": "code",
   "execution_count": 75,
   "id": "vietnamese-thread",
   "metadata": {},
   "source": [
    "TESTS_FILTERED_ZSCORES_AGG_DAY"
   ],
   "outputs": []
  },
  {
   "cell_type": "code",
   "execution_count": null,
   "id": "5cc4711f",
   "metadata": {},
   "source": [
    "TESTS_FILTERED_ZSCORES_AGG_DAY.to_csv(f'{transformed_mimic_dir}/TESTS_FILTERED_ZSCORES_AGG_DAY.csv.gz', compression='gzip', index=False)\n",
    "PATIENTS.to_csv(f'{transformed_mimic_dir}/PATIENTS.csv.gz', compression='gzip', index=False)\n",
    "ADMISSIONS.to_csv(f'{transformed_mimic_dir}/ADMISSIONS.csv.gz', compression='gzip', index=False)"
   ],
   "outputs": []
  },
  {
   "cell_type": "code",
   "execution_count": 56,
   "id": "south-bennett",
   "metadata": {},
   "source": [
    "DIAGNOSES_ICD.to_csv(f'{transformed_mimic_dir}/DIAGNOSES_ICD.csv.gz', compression='gzip', index=False)\n",
    "PROCEDURES_ICD.to_csv(f'{transformed_mimic_dir}/PROCEDURES_ICD.csv.gz', compression='gzip', index=False)"
   ],
   "outputs": []
  },
  {
   "cell_type": "code",
   "execution_count": 57,
   "id": "compound-portsmouth",
   "metadata": {},
   "source": [
    "TESTS_FILTERED_ZSCORES_AGG_DAY"
   ],
   "outputs": []
  },
  {
   "cell_type": "code",
   "execution_count": 58,
   "id": "hollow-medicine",
   "metadata": {},
   "source": [
    "PATIENTS"
   ],
   "outputs": []
  },
  {
   "cell_type": "code",
   "execution_count": 59,
   "id": "color-richards",
   "metadata": {},
   "source": [
    "set(PATIENTS.GENDER)"
   ],
   "outputs": []
  },
  {
   "cell_type": "markdown",
   "id": "impaired-overview",
   "metadata": {},
   "source": [
    "## (F) Ethnicity normalization (grouping)"
   ]
  },
  {
   "cell_type": "code",
   "execution_count": 60,
   "id": "different-costa",
   "metadata": {},
   "source": [
    "ADMISSIONS"
   ],
   "outputs": []
  },
  {
   "cell_type": "code",
   "execution_count": 61,
   "id": "saving-egyptian",
   "metadata": {},
   "source": [
    "len(set(ADMISSIONS.ETHNICITY))"
   ],
   "outputs": []
  },
  {
   "cell_type": "code",
   "execution_count": 62,
   "id": "serial-longitude",
   "metadata": {},
   "source": [
    "ethnicity_group_d = {\n",
    "    'AMERICAN INDIAN/ALASKA NATIVE': ['AMERICAN INDIAN/ALASKA NATIVE', 'NATIVE HAWAIIAN OR OTHER PACIFIC ISLANDER'],\n",
    "    'ASIAN': ['ASIAN', 'ASIAN - ASIAN INDIAN',\n",
    "                         'ASIAN - CAMBODIAN',\n",
    "                         'ASIAN - CHINESE',\n",
    "                         'ASIAN - FILIPINO',\n",
    "                         'ASIAN - KOREAN',\n",
    "                         'ASIAN - OTHER',\n",
    "                         'ASIAN - THAI',\n",
    "                         'ASIAN - VIETNAMESE'],\n",
    "    'BLACK/AFRICAN': ['BLACK/AFRICAN',\n",
    "                     'BLACK/AFRICAN AMERICAN',\n",
    "                     'BLACK/CAPE VERDEAN',\n",
    "                     'BLACK/HAITIAN'],\n",
    "    'HISPANIC OR LATINO': ['HISPANIC OR LATINO', \n",
    "                           'CARIBBEAN ISLAND',\n",
    "                          'HISPANIC/LATINO - CENTRAL AMERICAN (OTHER)',\n",
    "                             'HISPANIC/LATINO - COLOMBIAN',\n",
    "                             'HISPANIC/LATINO - CUBAN',\n",
    "                             'HISPANIC/LATINO - DOMINICAN',\n",
    "                             'HISPANIC/LATINO - GUATEMALAN',\n",
    "                             'HISPANIC/LATINO - MEXICAN',\n",
    "                             'HISPANIC/LATINO - PUERTO RICAN',\n",
    "                             'HISPANIC/LATINO - SALVADORAN'],\n",
    "    'MIDDLE EASTERN': ['MIDDLE EASTERN'],\n",
    "    'WHITE': ['WHITE',\n",
    "             'WHITE - BRAZILIAN',\n",
    "             'WHITE - EASTERN EUROPEAN',\n",
    "             'WHITE - OTHER EUROPEAN',\n",
    "             'WHITE - RUSSIAN',\n",
    "             'PORTUGUESE'],\n",
    "    'UNKNOWN': ['MULTI RACE ETHNICITY', 'OTHER', 'PATIENT DECLINED TO ANSWER', 'UNABLE TO OBTAIN', \n",
    "               'UNKNOWN/NOT SPECIFIED']\n",
    "}\n",
    "\n",
    "# 37 ethnicities mapped to 7 groups"
   ],
   "outputs": []
  },
  {
   "cell_type": "code",
   "execution_count": 63,
   "id": "sixth-camel",
   "metadata": {},
   "source": [
    "ethnicity_d = {}\n",
    "for ethnic_group, ethnic_labels in ethnicity_group_d.items():\n",
    "    for eth_label in ethnic_labels:\n",
    "        assert eth_label not in ethnicity_d, f\"{eth_label} is assigned to multiple groups: {ethnicity_d[eth_label]} and ethnic_group.\"\n",
    "        \n",
    "        ethnicity_d[eth_label] = ethnic_group"
   ],
   "outputs": []
  },
  {
   "cell_type": "code",
   "execution_count": 64,
   "id": "alike-amount",
   "metadata": {},
   "source": [
    "len(ethnicity_d)"
   ],
   "outputs": []
  },
  {
   "cell_type": "markdown",
   "id": "bigger-trinidad",
   "metadata": {},
   "source": [
    "- When patient has admissions with different ethnicities recorded,\n",
    "\n",
    "1. group the different ethnicities using the grouping above into a new set\n",
    "2. if the set has at least one group in addition to 'UNKNOWN', remove 'UNKNOWN'\n",
    "3. if set still has more than a group, then assign 'UNKNOWN'\n"
   ]
  },
  {
   "cell_type": "code",
   "execution_count": 65,
   "id": "conditional-conditioning",
   "metadata": {},
   "source": [
    "subject_ethnicity_d = {}\n",
    "for subject_id, subject_df in ADMISSIONS.groupby('SUBJECT_ID'):\n",
    "    ethnicity = set(map(ethnicity_d.get, subject_df.ETHNICITY))\n",
    "    if len(ethnicity) > 1 and 'UNKNOWN' in ethnicity:\n",
    "        ethnicity.remove('UNKNOWN')\n",
    "    if len(ethnicity) == 1:\n",
    "        ethnicity = ethnicity.pop()\n",
    "    else:\n",
    "        ethnicity = 'UNKNOWN'\n",
    "    subject_ethnicity_d[subject_id] = ethnicity"
   ],
   "outputs": []
  },
  {
   "cell_type": "code",
   "execution_count": 66,
   "id": "physical-symposium",
   "metadata": {},
   "source": [
    "len(subject_ethnicity_d)"
   ],
   "outputs": []
  },
  {
   "cell_type": "markdown",
   "id": "controlled-textbook",
   "metadata": {},
   "source": [
    "## (G) Static attributes table"
   ]
  },
  {
   "cell_type": "code",
   "execution_count": 67,
   "id": "seeing-soccer",
   "metadata": {},
   "source": [
    "static_df = PATIENTS.copy(deep=True)\n",
    "static_df['ETHNIC_GROUP'] = static_df.SUBJECT_ID.map(subject_ethnicity_d)"
   ],
   "outputs": []
  },
  {
   "cell_type": "code",
   "execution_count": 68,
   "id": "administrative-collectible",
   "metadata": {},
   "source": [
    "static_df"
   ],
   "outputs": []
  },
  {
   "cell_type": "code",
   "execution_count": 69,
   "id": "relative-reference",
   "metadata": {},
   "source": [
    "static_df.to_csv(f'{transformed_mimic_dir}/static_df.csv.gz', compression='gzip', index=False)\n"
   ],
   "outputs": []
  },
  {
   "cell_type": "markdown",
   "id": "earned-edgar",
   "metadata": {},
   "source": [
    "## (H) Finalize admissions table"
   ]
  },
  {
   "cell_type": "code",
   "execution_count": 70,
   "id": "promising-nowhere",
   "metadata": {},
   "source": [
    "adm_df = ADMISSIONS[['SUBJECT_ID', 'HADM_ID', 'ADMITTIME', 'DISCHTIME']]\n",
    "adm_df"
   ],
   "outputs": []
  },
  {
   "cell_type": "code",
   "execution_count": 71,
   "id": "ultimate-mining",
   "metadata": {},
   "source": [
    "adm_df.to_csv(f'{transformed_mimic_dir}/adm_df.csv.gz', compression='gzip', index=False)\n"
   ],
   "outputs": []
  },
  {
   "cell_type": "markdown",
   "id": "inner-thomas",
   "metadata": {},
   "source": [
    "## (I) Finalize tests table"
   ]
  },
  {
   "cell_type": "code",
   "execution_count": 72,
   "id": "hearing-fisher",
   "metadata": {},
   "source": [
    "test_df = TESTS_FILTERED_ZSCORES_AGG_DAY[['SUBJECT_ID', 'ITEMID', 'CHARTDAY', 'MEAN']]"
   ],
   "outputs": []
  },
  {
   "cell_type": "code",
   "execution_count": 73,
   "id": "listed-geneva",
   "metadata": {},
   "source": [
    "test_df.columns = ['SUBJECT_ID', 'ITEMID', 'DATE', 'VALUE']\n",
    "test_df"
   ],
   "outputs": []
  },
  {
   "cell_type": "code",
   "execution_count": 74,
   "id": "charming-hanging",
   "metadata": {},
   "source": [
    "test_df.to_csv(f'{transformed_mimic_dir}/test_df.csv.gz', compression='gzip', index=False)\n"
   ],
   "outputs": []
  },
  {
   "cell_type": "markdown",
   "id": "compact-favor",
   "metadata": {},
   "source": [
    "## (J) Finalize PROCEDURES/DIAGNOSES tables"
   ]
  },
  {
   "cell_type": "code",
   "execution_count": 75,
   "id": "declared-founder",
   "metadata": {},
   "source": [
    "diag_df = DIAGNOSES_ICD[DIAGNOSES_ICD.ICD9_CODE.notnull()]\n",
    "diag_df"
   ],
   "outputs": []
  },
  {
   "cell_type": "code",
   "execution_count": 76,
   "id": "british-given",
   "metadata": {},
   "source": [
    "proc_df = PROCEDURES_ICD[PROCEDURES_ICD.ICD9_CODE.notnull()]\n",
    "proc_df"
   ],
   "outputs": []
  },
  {
   "cell_type": "markdown",
   "id": "thorough-dover",
   "metadata": {},
   "source": [
    "### Remove duplicate codes for the same patient for the same admission"
   ]
  },
  {
   "cell_type": "code",
   "execution_count": 77,
   "id": "durable-continent",
   "metadata": {},
   "source": [
    "diag_df = diag_df.drop_duplicates(ignore_index=True)\n",
    "diag_df"
   ],
   "outputs": []
  },
  {
   "cell_type": "code",
   "execution_count": 78,
   "id": "offshore-string",
   "metadata": {},
   "source": [
    "proc_df = proc_df.drop_duplicates(ignore_index=True)\n",
    "proc_df"
   ],
   "outputs": []
  },
  {
   "cell_type": "code",
   "execution_count": 79,
   "id": "internal-agreement",
   "metadata": {},
   "source": [
    "diag_df.to_csv(f'{transformed_mimic_dir}/diag_df.csv.gz', compression='gzip', index=False)\n",
    "proc_df.to_csv(f'{transformed_mimic_dir}/proc_df.csv.gz', compression='gzip', index=False)\n"
   ],
   "outputs": []
  },
  {
   "cell_type": "code",
   "execution_count": 80,
   "id": "ultimate-apartment",
   "metadata": {},
   "source": [
    "diag_df"
   ],
   "outputs": []
  },
  {
   "cell_type": "code",
   "execution_count": 81,
   "id": "numerous-kentucky",
   "metadata": {},
   "source": [
    "proc_df"
   ],
   "outputs": []
  },
  {
   "cell_type": "code",
   "execution_count": 5,
   "id": "developing-burke",
   "metadata": {},
   "source": [
    "diag_df = pd.read_csv(f'{transformed_mimic_dir}/diag_df.csv.gz')\n"
   ],
   "outputs": []
  },
  {
   "cell_type": "code",
   "execution_count": 6,
   "id": "5498d4c3",
   "metadata": {},
   "source": [
    "print('Avg diag. ICD9 codes per admission=', len(diag_df)/diag_df['HADM_ID'].nunique())"
   ],
   "outputs": []
  },
  {
   "cell_type": "code",
   "execution_count": null,
   "id": "e5fd00fb",
   "metadata": {},
   "source": [],
   "outputs": []
  }
 ],
 "metadata": {
  "kernelspec": {
   "display_name": "Python 3 (ipykernel)",
   "language": "python",
   "name": "python3"
  },
  "language_info": {
   "codemirror_mode": {
    "name": "ipython",
    "version": 3
   },
   "file_extension": ".py",
   "mimetype": "text/x-python",
   "name": "python",
   "nbconvert_exporter": "python",
   "pygments_lexer": "ipython3",
   "version": "3.8.12"
  }
 },
 "nbformat": 4,
 "nbformat_minor": 5
}
