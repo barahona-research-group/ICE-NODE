{
 "cells": [
  {
   "cell_type": "code",
   "execution_count": 1,
   "id": "scheduled-endorsement",
   "metadata": {},
   "source": [
    "import numpy as np\n",
    "import pandas as pd\n",
    "import json\n",
    "import collections\n",
    "from collections import defaultdict \n",
    "from functools import partial\n",
    "import networkx as nx\n",
    "import matplotlib.pyplot as plt\n",
    "import seaborn as sns\n",
    "\n",
    "from tqdm import tqdm\n"
   ],
   "outputs": []
  },
  {
   "cell_type": "code",
   "execution_count": 2,
   "id": "flying-animation",
   "metadata": {},
   "source": [
    "# Good read: https://iq-inc.com/importerror-attempted-relative-import/\n",
    "\n",
    "import sys\n",
    "import importlib\n",
    "from mimicnet import concept\n",
    "\n",
    "importlib.reload(sys.modules['mimicnet.concept'])"
   ],
   "outputs": []
  },
  {
   "cell_type": "code",
   "execution_count": 2,
   "id": "caroline-blackjack",
   "metadata": {},
   "source": [
    "# multi_visit_mimic_dir = '/home/am8520/GP/ehr-data/mimic3-multi-visit'\n",
    "multi_visit_mimic_dir = '/home/asem/GP/ehr-data/mimic3-multi-visit'\n",
    "transformed_mimic_dir = '/home/asem/GP/ehr-data/mimic3-transforms'\n",
    "# mimic_dir = '/home/asem/GP/ehr-data/mimic3-v1.4/physionet.org/files/mimiciii/1.4'\n",
    "mimic_dir = '/home/asem/GP/MIMIC-SNONET/RAW/mimic-iii-clinical-database-1.4'\n"
   ],
   "outputs": []
  },
  {
   "cell_type": "code",
   "execution_count": 4,
   "id": "retained-lawsuit",
   "metadata": {},
   "source": [
    "D_LABITEMS = pd.read_csv(f'{mimic_dir}/D_LABITEMS.csv.gz')\n",
    "D_ITEMS = pd.read_csv(f'{mimic_dir}/D_ITEMS.csv.gz')"
   ],
   "outputs": []
  },
  {
   "cell_type": "code",
   "execution_count": 5,
   "id": "incomplete-teddy",
   "metadata": {},
   "source": [
    "D_LABITEMS.head()"
   ],
   "outputs": []
  },
  {
   "cell_type": "code",
   "execution_count": 6,
   "id": "macro-coffee",
   "metadata": {},
   "source": [
    "D_ITEMS.head()"
   ],
   "outputs": []
  },
  {
   "cell_type": "code",
   "execution_count": 7,
   "id": "elect-director",
   "metadata": {},
   "source": [
    "D_TEST = pd.concat([D_LABITEMS, D_ITEMS], join='inner')\n",
    "test_label_dict = dict(zip(D_TEST.ITEMID, D_TEST.LABEL))\n",
    "test_cat_dict = dict(zip(D_TEST.ITEMID, D_TEST.CATEGORY))"
   ],
   "outputs": []
  },
  {
   "cell_type": "code",
   "execution_count": 3,
   "id": "moderate-great",
   "metadata": {},
   "source": [
    "PATIENTS = pd.read_csv(f'{multi_visit_mimic_dir}/PATIENTS_2WKS.csv.gz')\n",
    "ADMISSIONS = pd.read_csv(f'{multi_visit_mimic_dir}/ADMISSIONS_2WKS.csv.gz')\n",
    "DIAGNOSES_ICD = pd.read_csv(f'{multi_visit_mimic_dir}/DIAGNOSES_ICD_2WKS.csv.gz', dtype = {'ICD9_CODE': str})\n",
    "PROCEDURES_ICD = pd.read_csv(f'{multi_visit_mimic_dir}/PROCEDURES_ICD_2WKS.csv.gz', dtype = {'ICD9_CODE': str})"
   ],
   "outputs": []
  },
  {
   "cell_type": "code",
   "execution_count": 8,
   "id": "reliable-convergence",
   "metadata": {},
   "source": [
    "LABEVENTS = pd.read_csv(f'{multi_visit_mimic_dir}/LABEVENTS_Q5_UNITS_FIXED_2WKS.csv.gz')\n",
    "CHARTEVENTS = pd.read_csv(f'{multi_visit_mimic_dir}/CHARTEVENTS_Q5_2WKS.csv.gz')"
   ],
   "outputs": []
  },
  {
   "cell_type": "code",
   "execution_count": 9,
   "id": "medical-participant",
   "metadata": {},
   "source": [
    "LABEVENTS.head()"
   ],
   "outputs": []
  },
  {
   "cell_type": "code",
   "execution_count": 10,
   "id": "stretch-johnson",
   "metadata": {},
   "source": [
    "CHARTEVENTS.head()"
   ],
   "outputs": []
  },
  {
   "cell_type": "markdown",
   "id": "chicken-volunteer",
   "metadata": {},
   "source": [
    "# Checklist\n",
    "\n",
    "- (A) **Cast datetime to date**.\n",
    "- (B) **Merge CHARTEVENTS and LABEVENTS**\n",
    "- (C) **Remove outliers by IQR** (NOTE: possible information leakage between training and testing. So the aim just to assess the ability of neural ODEs to predict codes for next visits compared to GRAM methods. But for real clinical investigation, outlier removal should be applied on training subset then passing filtration limits to test subset.)\n",
    "- (D) **Normalize to Z-scores**. (NOTE: see (C)).\n",
    "- (E) **For repeated measurements in the same day, consider the average.**\n",
    "    - Average is considered instead of median to be sensitive to edge (and sporadic) values which could be indicative of health conditions.\n",
    "- (F) For DX/PR codes:\n",
    "    1. Add to the middle day of the H. Adm.\n",
    "    2. Add to all days of the H.Adm.\n"
   ]
  },
  {
   "cell_type": "markdown",
   "id": "wound-greek",
   "metadata": {},
   "source": [
    "# (A) Cast datetime to date"
   ]
  },
  {
   "cell_type": "markdown",
   "id": "social-salmon",
   "metadata": {},
   "source": [
    "## (A-1) PATIENTS table"
   ]
  },
  {
   "cell_type": "code",
   "execution_count": 4,
   "id": "middle-rebecca",
   "metadata": {},
   "source": [
    "PATIENTS.head()"
   ],
   "outputs": []
  },
  {
   "cell_type": "code",
   "execution_count": 5,
   "id": "endangered-resident",
   "metadata": {},
   "source": [
    "PATIENTS = PATIENTS[['SUBJECT_ID', 'GENDER', 'DOB']]\n",
    "PATIENTS['DOB'] = pd.to_datetime(PATIENTS.DOB, infer_datetime_format=True).dt.normalize()"
   ],
   "outputs": []
  },
  {
   "cell_type": "code",
   "execution_count": 6,
   "id": "chronic-commonwealth",
   "metadata": {},
   "source": [
    "PATIENTS.head()"
   ],
   "outputs": []
  },
  {
   "cell_type": "code",
   "execution_count": 7,
   "id": "amino-immunology",
   "metadata": {},
   "source": [
    "PATIENTS.dtypes"
   ],
   "outputs": []
  },
  {
   "cell_type": "markdown",
   "id": "auburn-elizabeth",
   "metadata": {},
   "source": [
    "## (A-2) ADMISSIONS table"
   ]
  },
  {
   "cell_type": "code",
   "execution_count": 8,
   "id": "approximate-hotel",
   "metadata": {},
   "source": [
    "ADMISSIONS.head()"
   ],
   "outputs": []
  },
  {
   "cell_type": "code",
   "execution_count": 9,
   "id": "celtic-scroll",
   "metadata": {},
   "source": [
    "ADMISSIONS = ADMISSIONS[['SUBJECT_ID', 'HADM_ID', 'ADMITTIME', 'DISCHTIME', 'ADMISSION_TYPE', 'ADMISSION_LOCATION', 'ETHNICITY', 'DIAGNOSIS', 'DAYS', 'MAX_DAYS']]\n",
    "ADMISSIONS['ADMITTIME'] = pd.to_datetime(ADMISSIONS.ADMITTIME, infer_datetime_format=True).dt.normalize()\n",
    "ADMISSIONS['DISCHTIME'] = pd.to_datetime(ADMISSIONS.DISCHTIME, infer_datetime_format=True).dt.normalize()\n",
    "ADMISSIONS.head()"
   ],
   "outputs": []
  },
  {
   "cell_type": "code",
   "execution_count": 10,
   "id": "distant-yemen",
   "metadata": {},
   "source": [
    "ADMISSIONS.dtypes"
   ],
   "outputs": []
  },
  {
   "cell_type": "markdown",
   "id": "deluxe-salvation",
   "metadata": {},
   "source": [
    "## (A-3) DIAGNOSES  and PROCEDURES tables"
   ]
  },
  {
   "cell_type": "code",
   "execution_count": 11,
   "id": "offensive-component",
   "metadata": {},
   "source": [
    "DIAGNOSES_ICD.head()"
   ],
   "outputs": []
  },
  {
   "cell_type": "code",
   "execution_count": 12,
   "id": "atmospheric-ranch",
   "metadata": {},
   "source": [
    "DIAGNOSES_ICD = DIAGNOSES_ICD[['SUBJECT_ID', 'HADM_ID', 'ICD9_CODE']]"
   ],
   "outputs": []
  },
  {
   "cell_type": "code",
   "execution_count": 13,
   "id": "daily-latin",
   "metadata": {},
   "source": [
    "PROCEDURES_ICD.head()\n"
   ],
   "outputs": []
  },
  {
   "cell_type": "code",
   "execution_count": 14,
   "id": "billion-special",
   "metadata": {},
   "source": [
    "PROCEDURES_ICD = PROCEDURES_ICD[['SUBJECT_ID', 'HADM_ID', 'ICD9_CODE']]"
   ],
   "outputs": []
  },
  {
   "cell_type": "markdown",
   "id": "appointed-affect",
   "metadata": {},
   "source": [
    "## (A-4) LABEVENTS and CHARTEVENTS (don't normalize here)."
   ]
  },
  {
   "cell_type": "code",
   "execution_count": 22,
   "id": "racial-witness",
   "metadata": {},
   "source": [
    "LABEVENTS.head()"
   ],
   "outputs": []
  },
  {
   "cell_type": "code",
   "execution_count": 23,
   "id": "foster-journal",
   "metadata": {},
   "source": [
    "LABEVENTS = LABEVENTS[['SUBJECT_ID', 'ITEMID', 'CHARTTIME', 'VALUENUM', 'VALUEUOM']]\n",
    "LABEVENTS['CHARTTIME'] = pd.to_datetime(LABEVENTS.CHARTTIME, infer_datetime_format=True)\n",
    "LABEVENTS.head()"
   ],
   "outputs": []
  },
  {
   "cell_type": "code",
   "execution_count": 24,
   "id": "flush-masters",
   "metadata": {},
   "source": [
    "CHARTEVENTS.head()"
   ],
   "outputs": []
  },
  {
   "cell_type": "code",
   "execution_count": 25,
   "id": "seeing-bulgaria",
   "metadata": {},
   "source": [
    "CHARTEVENTS = CHARTEVENTS[['SUBJECT_ID', 'ITEMID', 'CHARTTIME', 'VALUENUM', 'VALUEUOM']]\n",
    "CHARTEVENTS['CHARTTIME'] = pd.to_datetime(CHARTEVENTS.CHARTTIME, infer_datetime_format=True)\n",
    "CHARTEVENTS.head()"
   ],
   "outputs": []
  },
  {
   "cell_type": "markdown",
   "id": "special-university",
   "metadata": {},
   "source": [
    "# (B) Concatenate LABEVENTS and CHARTEVENTS into TESTS"
   ]
  },
  {
   "cell_type": "code",
   "execution_count": 26,
   "id": "insured-installation",
   "metadata": {},
   "source": [
    "TESTS = pd.concat([LABEVENTS, CHARTEVENTS], join=\"inner\")"
   ],
   "outputs": []
  },
  {
   "cell_type": "code",
   "execution_count": 27,
   "id": "regional-tennessee",
   "metadata": {},
   "source": [
    "TESTS"
   ],
   "outputs": []
  },
  {
   "cell_type": "code",
   "execution_count": 28,
   "id": "black-carter",
   "metadata": {},
   "source": [
    "TESTS.VALUENUM.notnull().all()"
   ],
   "outputs": []
  },
  {
   "cell_type": "markdown",
   "id": "spanish-cancer",
   "metadata": {},
   "source": [
    "## (C) Remove outliers in TESTS using IQR"
   ]
  },
  {
   "cell_type": "code",
   "execution_count": 29,
   "id": "essential-pollution",
   "metadata": {},
   "source": [
    "# Good read: https://iq-inc.com/importerror-attempted-relative-import/\n",
    "\n",
    "import sys\n",
    "import importlib\n",
    "from mimicnet import concept\n",
    "\n",
    "importlib.reload(sys.modules['mimicnet.concept'])\n",
    "\n",
    "from mimicnet.concept import Subject"
   ],
   "outputs": []
  },
  {
   "cell_type": "code",
   "execution_count": 30,
   "id": "particular-session",
   "metadata": {},
   "source": [
    "TESTS.shape"
   ],
   "outputs": []
  },
  {
   "cell_type": "code",
   "execution_count": 31,
   "id": "cooked-charles",
   "metadata": {},
   "source": [
    "iqr_filter = Subject.make_iqr_concept_filter(TESTS)"
   ],
   "outputs": []
  },
  {
   "cell_type": "code",
   "execution_count": 32,
   "id": "proof-labor",
   "metadata": {},
   "source": [
    "len(set(TESTS.ITEMID))"
   ],
   "outputs": []
  },
  {
   "cell_type": "code",
   "execution_count": 33,
   "id": "minimal-exclusive",
   "metadata": {},
   "source": [
    "len(iqr_filter)"
   ],
   "outputs": []
  },
  {
   "cell_type": "code",
   "execution_count": 34,
   "id": "central-accessory",
   "metadata": {},
   "source": [
    "sum(map(lambda t: t[0] == t[1], iqr_filter.values()))"
   ],
   "outputs": []
  },
  {
   "cell_type": "code",
   "execution_count": 35,
   "id": "future-bathroom",
   "metadata": {},
   "source": [
    "iqr_filter_df = pd.DataFrame({'ITEMID': iqr_filter.keys(),\n",
    "                              'LABEL': map(test_label_dict.get, iqr_filter.keys()),\n",
    "                              'CATEGORY': map(test_cat_dict.get, iqr_filter.keys()),\n",
    "                             'MIN': map(lambda t: t[0], iqr_filter.values()),\n",
    "                             'MAX': map(lambda t: t[1], iqr_filter.values())})"
   ],
   "outputs": []
  },
  {
   "cell_type": "code",
   "execution_count": 36,
   "id": "chicken-reading",
   "metadata": {},
   "source": [
    "iqr_filter_df.to_csv('iqr_filter.csv')\n",
    "iqr_filter_df[iqr_filter_df.MAX == iqr_filter_df.MIN].to_csv('iqr_filter2.csv')\n",
    "constant_tests = set(iqr_filter_df[iqr_filter_df.MAX == iqr_filter_df.MIN].ITEMID)\n",
    "variable_tests = set(iqr_filter_df.ITEMID) - constant_tests"
   ],
   "outputs": []
  },
  {
   "cell_type": "code",
   "execution_count": 37,
   "id": "static-globe",
   "metadata": {},
   "source": [
    "TESTS_NO_CONSTANTS = TESTS[TESTS.ITEMID.isin(variable_tests)]"
   ],
   "outputs": []
  },
  {
   "cell_type": "code",
   "execution_count": 38,
   "id": "least-blame",
   "metadata": {},
   "source": [
    "TESTS_NO_CONSTANTS.shape"
   ],
   "outputs": []
  },
  {
   "cell_type": "code",
   "execution_count": 39,
   "id": "heated-junior",
   "metadata": {},
   "source": [
    "TESTS_FILTERED = Subject.apply_iqr_concept_filter(TESTS_NO_CONSTANTS, iqr_filter)"
   ],
   "outputs": []
  },
  {
   "cell_type": "code",
   "execution_count": 40,
   "id": "aging-magazine",
   "metadata": {},
   "source": [
    "TESTS_FILTERED.shape"
   ],
   "outputs": []
  },
  {
   "cell_type": "code",
   "execution_count": 41,
   "id": "polish-distribution",
   "metadata": {},
   "source": [
    "len(set(TESTS_FILTERED.ITEMID))"
   ],
   "outputs": []
  },
  {
   "cell_type": "code",
   "execution_count": 43,
   "id": "eleven-while",
   "metadata": {},
   "source": [
    "TESTS_FILTERED.to_csv(f'{transformed_mimic_dir}/TESTS_FILTERED.csv.gz', compression='gzip', index=False)\n"
   ],
   "outputs": []
  },
  {
   "cell_type": "code",
   "execution_count": 44,
   "id": "orange-tissue",
   "metadata": {},
   "source": [
    "TESTS_FILTERED"
   ],
   "outputs": []
  },
  {
   "cell_type": "markdown",
   "id": "paperback-latest",
   "metadata": {},
   "source": [
    "## (E) Z-Score Normalization"
   ]
  },
  {
   "cell_type": "code",
   "execution_count": 45,
   "id": "inappropriate-bubble",
   "metadata": {},
   "source": [
    "zscore_scaler = Subject.make_zscore_concept_scaler(TESTS_FILTERED)"
   ],
   "outputs": []
  },
  {
   "cell_type": "code",
   "execution_count": 46,
   "id": "portuguese-hudson",
   "metadata": {},
   "source": [
    "import sys\n",
    "import importlib\n",
    "from mimicnet import concept\n",
    "\n",
    "importlib.reload(sys.modules['mimicnet.concept'])\n",
    "\n",
    "import mimicnet"
   ],
   "outputs": []
  },
  {
   "cell_type": "code",
   "execution_count": 47,
   "id": "second-trainer",
   "metadata": {},
   "source": [
    "TESTS_FILTERED.shape"
   ],
   "outputs": []
  },
  {
   "cell_type": "code",
   "execution_count": 48,
   "id": "editorial-clause",
   "metadata": {},
   "source": [
    "TESTS_FILTERED['VALUENUM'].to_numpy().shape"
   ],
   "outputs": []
  },
  {
   "cell_type": "code",
   "execution_count": 49,
   "id": "greatest-crack",
   "metadata": {},
   "source": [
    "TESTS_FILTERED_ZSCORES = mimicnet.concept.Subject.apply_zscore_concept_scaler(TESTS_FILTERED, zscore_scaler)"
   ],
   "outputs": []
  },
  {
   "cell_type": "code",
   "execution_count": 50,
   "id": "public-reproduction",
   "metadata": {},
   "source": [
    "TESTS_FILTERED_ZSCORES"
   ],
   "outputs": []
  },
  {
   "cell_type": "code",
   "execution_count": 51,
   "id": "pressing-kitchen",
   "metadata": {},
   "source": [
    "TESTS_FILTERED_ZSCORES.to_csv(f'{transformed_mimic_dir}/TESTS_FILTERED_ZSCORES.csv.gz', compression='gzip', index=False)"
   ],
   "outputs": []
  },
  {
   "cell_type": "markdown",
   "id": "therapeutic-malta",
   "metadata": {},
   "source": [
    "## (D) Merge repeated measurements for the same day by taking the average"
   ]
  },
  {
   "cell_type": "code",
   "execution_count": 52,
   "id": "invisible-staff",
   "metadata": {},
   "source": [
    "TESTS_FILTERED_ZSCORES_DTNORMALIZED = TESTS_FILTERED_ZSCORES.copy(deep=True)\n",
    "TESTS_FILTERED_ZSCORES_DTNORMALIZED['CHARTTIME'] = TESTS_FILTERED_ZSCORES_DTNORMALIZED['CHARTTIME'].dt.normalize()"
   ],
   "outputs": []
  },
  {
   "cell_type": "code",
   "execution_count": 53,
   "id": "useful-afternoon",
   "metadata": {},
   "source": [
    "tests_filtered_day_agg = []\n",
    "\n",
    "for subject_id, subject_df in tqdm(TESTS_FILTERED_ZSCORES_DTNORMALIZED.groupby('SUBJECT_ID')):\n",
    "    for day, day_df in subject_df.groupby('CHARTTIME'):\n",
    "        for item_id, items_df in day_df.groupby('ITEMID'):\n",
    "            mean = items_df['VALUENUM'].mean()\n",
    "            median = items_df['VALUENUM'].median()\n",
    "            tests_filtered_day_agg.append((subject_id, item_id, day, mean, median))\n",
    "            "
   ],
   "outputs": []
  },
  {
   "cell_type": "code",
   "execution_count": 54,
   "id": "hollywood-lodge",
   "metadata": {},
   "source": [
    "TESTS_FILTERED_ZSCORES_AGG_DAY = pd.DataFrame(tests_filtered_day_agg, columns=['SUBJECT_ID', 'ITEMID', 'CHARTDAY', 'MEAN', 'MEDIAN'])"
   ],
   "outputs": []
  },
  {
   "cell_type": "code",
   "execution_count": 75,
   "id": "dental-accuracy",
   "metadata": {},
   "source": [
    "TESTS_FILTERED_ZSCORES_AGG_DAY"
   ],
   "outputs": []
  },
  {
   "cell_type": "code",
   "execution_count": null,
   "id": "attached-performance",
   "metadata": {},
   "source": [
    "TESTS_FILTERED_ZSCORES_AGG_DAY.to_csv(f'{transformed_mimic_dir}/TESTS_FILTERED_ZSCORES_AGG_DAY.csv.gz', compression='gzip', index=False)\n",
    "PATIENTS.to_csv(f'{transformed_mimic_dir}/PATIENTS.csv.gz', compression='gzip', index=False)\n",
    "ADMISSIONS.to_csv(f'{transformed_mimic_dir}/ADMISSIONS.csv.gz', compression='gzip', index=False)"
   ],
   "outputs": []
  },
  {
   "cell_type": "code",
   "execution_count": 56,
   "id": "genetic-sunset",
   "metadata": {},
   "source": [
    "DIAGNOSES_ICD.to_csv(f'{transformed_mimic_dir}/DIAGNOSES_ICD.csv.gz', compression='gzip', index=False)\n",
    "PROCEDURES_ICD.to_csv(f'{transformed_mimic_dir}/PROCEDURES_ICD.csv.gz', compression='gzip', index=False)"
   ],
   "outputs": []
  },
  {
   "cell_type": "code",
   "execution_count": 57,
   "id": "concrete-helen",
   "metadata": {},
   "source": [
    "TESTS_FILTERED_ZSCORES_AGG_DAY"
   ],
   "outputs": []
  },
  {
   "cell_type": "code",
   "execution_count": 58,
   "id": "afraid-basket",
   "metadata": {},
   "source": [
    "PATIENTS"
   ],
   "outputs": []
  },
  {
   "cell_type": "code",
   "execution_count": 59,
   "id": "synthetic-range",
   "metadata": {},
   "source": [
    "set(PATIENTS.GENDER)"
   ],
   "outputs": []
  },
  {
   "cell_type": "markdown",
   "id": "interested-tower",
   "metadata": {},
   "source": [
    "## (F) Ethnicity normalization (grouping)"
   ]
  },
  {
   "cell_type": "code",
   "execution_count": 15,
   "id": "double-directive",
   "metadata": {},
   "source": [
    "ADMISSIONS"
   ],
   "outputs": []
  },
  {
   "cell_type": "code",
   "execution_count": 16,
   "id": "basic-corrections",
   "metadata": {},
   "source": [
    "len(set(ADMISSIONS.ETHNICITY))"
   ],
   "outputs": []
  },
  {
   "cell_type": "code",
   "execution_count": 17,
   "id": "independent-botswana",
   "metadata": {},
   "source": [
    "ethnicity_group_d = {\n",
    "    'AMERICAN INDIAN/ALASKA NATIVE': ['AMERICAN INDIAN/ALASKA NATIVE', 'NATIVE HAWAIIAN OR OTHER PACIFIC ISLANDER'],\n",
    "    'ASIAN': ['ASIAN', 'ASIAN - ASIAN INDIAN',\n",
    "                         'ASIAN - CAMBODIAN',\n",
    "                         'ASIAN - CHINESE',\n",
    "                         'ASIAN - FILIPINO',\n",
    "                         'ASIAN - KOREAN',\n",
    "                         'ASIAN - OTHER',\n",
    "                         'ASIAN - THAI',\n",
    "                         'ASIAN - VIETNAMESE'],\n",
    "    'BLACK/AFRICAN': ['BLACK/AFRICAN',\n",
    "                     'BLACK/AFRICAN AMERICAN',\n",
    "                     'BLACK/CAPE VERDEAN',\n",
    "                     'BLACK/HAITIAN'],\n",
    "    'HISPANIC OR LATINO': ['HISPANIC OR LATINO', \n",
    "                           'CARIBBEAN ISLAND',\n",
    "                          'HISPANIC/LATINO - CENTRAL AMERICAN (OTHER)',\n",
    "                             'HISPANIC/LATINO - COLOMBIAN',\n",
    "                             'HISPANIC/LATINO - CUBAN',\n",
    "                             'HISPANIC/LATINO - DOMINICAN',\n",
    "                             'HISPANIC/LATINO - GUATEMALAN',\n",
    "                             'HISPANIC/LATINO - MEXICAN',\n",
    "                             'HISPANIC/LATINO - PUERTO RICAN',\n",
    "                             'HISPANIC/LATINO - SALVADORAN'],\n",
    "    'MIDDLE EASTERN': ['MIDDLE EASTERN'],\n",
    "    'WHITE': ['WHITE',\n",
    "             'WHITE - BRAZILIAN',\n",
    "             'WHITE - EASTERN EUROPEAN',\n",
    "             'WHITE - OTHER EUROPEAN',\n",
    "             'WHITE - RUSSIAN',\n",
    "             'PORTUGUESE'],\n",
    "    'UNKNOWN': ['MULTI RACE ETHNICITY', 'OTHER', 'PATIENT DECLINED TO ANSWER', 'UNABLE TO OBTAIN', \n",
    "               'UNKNOWN/NOT SPECIFIED']\n",
    "}\n",
    "\n",
    "subject_ethnicity_d = {}\n",
    "for subject_id, subject_df in ADMISSIONS.groupby('SUBJECT_ID'):\n",
    "    ethnicity = set(map(ethnicity_d.get, subject_df.ETHNICITY))\n",
    "    if len(ethnicity) > 1 and 'UNKNOWN' in ethnicity:\n",
    "        ethnicity.remove('UNKNOWN')\n",
    "    if len(ethnicity) == 1:\n",
    "        ethnicity = ethnicity.pop()\n",
    "    else:\n",
    "        ethnicity = 'UNKNOWN'\n",
    "    subject_ethnicity_d[subject_id] = ethnicity\n",
    "    \n",
    "# 37 ethnicities mapped to 7 groups"
   ],
   "outputs": []
  },
  {
   "cell_type": "markdown",
   "id": "afraid-blocking",
   "metadata": {},
   "source": [
    "- When patient has admissions with different ethnicities recorded,\n",
    "\n",
    "1. group the different ethnicities using the grouping above into a new set\n",
    "2. if the set has at least one group in addition to 'UNKNOWN', remove 'UNKNOWN'\n",
    "3. if set still has more than a group, then assign 'UNKNOWN'\n"
   ]
  },
  {
   "cell_type": "code",
   "execution_count": 20,
   "id": "continental-raising",
   "metadata": {},
   "source": [],
   "outputs": []
  },
  {
   "cell_type": "code",
   "execution_count": 21,
   "id": "considered-blank",
   "metadata": {},
   "source": [
    "len(subject_ethnicity_d)"
   ],
   "outputs": []
  },
  {
   "cell_type": "markdown",
   "id": "compressed-cylinder",
   "metadata": {},
   "source": [
    "## (G) Static attributes table"
   ]
  },
  {
   "cell_type": "code",
   "execution_count": 22,
   "id": "cosmetic-gauge",
   "metadata": {},
   "source": [
    "static_df = PATIENTS.copy(deep=True)\n",
    "static_df['ETHNIC_GROUP'] = static_df.SUBJECT_ID.map(subject_ethnicity_d)"
   ],
   "outputs": []
  },
  {
   "cell_type": "code",
   "execution_count": 23,
   "id": "normal-seven",
   "metadata": {},
   "source": [
    "static_df"
   ],
   "outputs": []
  },
  {
   "cell_type": "code",
   "execution_count": 24,
   "id": "ignored-balloon",
   "metadata": {},
   "source": [
    "static_df.to_csv(f'{transformed_mimic_dir}/static_df.csv.gz', compression='gzip', index=False)\n"
   ],
   "outputs": []
  },
  {
   "cell_type": "markdown",
   "id": "rough-california",
   "metadata": {},
   "source": [
    "## (H) Finalize admissions table"
   ]
  },
  {
   "cell_type": "code",
   "execution_count": 25,
   "id": "colored-tower",
   "metadata": {},
   "source": [
    "adm_df = ADMISSIONS[['SUBJECT_ID', 'HADM_ID', 'ADMITTIME', 'DISCHTIME']]\n",
    "adm_df"
   ],
   "outputs": []
  },
  {
   "cell_type": "code",
   "execution_count": 71,
   "id": "bearing-institute",
   "metadata": {},
   "source": [
    "adm_df.to_csv(f'{transformed_mimic_dir}/adm_df.csv.gz', compression='gzip', index=False)\n"
   ],
   "outputs": []
  },
  {
   "cell_type": "markdown",
   "id": "disciplinary-narrative",
   "metadata": {},
   "source": [
    "## (I) Finalize tests table"
   ]
  },
  {
   "cell_type": "code",
   "execution_count": 72,
   "id": "interesting-adrian",
   "metadata": {},
   "source": [
    "test_df = TESTS_FILTERED_ZSCORES_AGG_DAY[['SUBJECT_ID', 'ITEMID', 'CHARTDAY', 'MEAN']]"
   ],
   "outputs": []
  },
  {
   "cell_type": "code",
   "execution_count": 73,
   "id": "running-planning",
   "metadata": {},
   "source": [
    "test_df.columns = ['SUBJECT_ID', 'ITEMID', 'DATE', 'VALUE']\n",
    "test_df"
   ],
   "outputs": []
  },
  {
   "cell_type": "code",
   "execution_count": 74,
   "id": "headed-commission",
   "metadata": {},
   "source": [
    "test_df.to_csv(f'{transformed_mimic_dir}/test_df.csv.gz', compression='gzip', index=False)\n"
   ],
   "outputs": []
  },
  {
   "cell_type": "markdown",
   "id": "accepted-viewer",
   "metadata": {},
   "source": [
    "## (J) Finalize PROCEDURES/DIAGNOSES tables"
   ]
  },
  {
   "cell_type": "code",
   "execution_count": 26,
   "id": "bigger-clinic",
   "metadata": {},
   "source": [
    "diag_df = DIAGNOSES_ICD[DIAGNOSES_ICD.ICD9_CODE.notnull()]\n",
    "diag_df"
   ],
   "outputs": []
  },
  {
   "cell_type": "code",
   "execution_count": 27,
   "id": "sunset-september",
   "metadata": {},
   "source": [
    "proc_df = PROCEDURES_ICD[PROCEDURES_ICD.ICD9_CODE.notnull()]\n",
    "proc_df"
   ],
   "outputs": []
  },
  {
   "cell_type": "markdown",
   "id": "thrown-breath",
   "metadata": {},
   "source": [
    "### Remove duplicate codes for the same patient for the same admission"
   ]
  },
  {
   "cell_type": "code",
   "execution_count": 28,
   "id": "boolean-citation",
   "metadata": {},
   "source": [
    "diag_df = diag_df.drop_duplicates(ignore_index=True)\n",
    "diag_df"
   ],
   "outputs": []
  },
  {
   "cell_type": "code",
   "execution_count": 29,
   "id": "optimum-enhancement",
   "metadata": {},
   "source": [
    "proc_df = proc_df.drop_duplicates(ignore_index=True)\n",
    "proc_df"
   ],
   "outputs": []
  },
  {
   "cell_type": "code",
   "execution_count": 79,
   "id": "dedicated-complement",
   "metadata": {},
   "source": [
    "diag_df.to_csv(f'{transformed_mimic_dir}/diag_df.csv.gz', compression='gzip', index=False)\n",
    "proc_df.to_csv(f'{transformed_mimic_dir}/proc_df.csv.gz', compression='gzip', index=False)\n"
   ],
   "outputs": []
  },
  {
   "cell_type": "code",
   "execution_count": 80,
   "id": "relevant-marker",
   "metadata": {},
   "source": [
    "diag_df"
   ],
   "outputs": []
  },
  {
   "cell_type": "code",
   "execution_count": 81,
   "id": "soviet-excitement",
   "metadata": {},
   "source": [
    "proc_df"
   ],
   "outputs": []
  },
  {
   "cell_type": "code",
   "execution_count": 5,
   "id": "cognitive-inquiry",
   "metadata": {},
   "source": [
    "diag_df = pd.read_csv(f'{transformed_mimic_dir}/diag_df.csv.gz')\n"
   ],
   "outputs": []
  },
  {
   "cell_type": "code",
   "execution_count": 6,
   "id": "sensitive-headset",
   "metadata": {},
   "source": [
    "print('Avg diag. ICD9 codes per admission=', len(diag_df)/diag_df['HADM_ID'].nunique())"
   ],
   "outputs": []
  },
  {
   "cell_type": "code",
   "execution_count": 30,
   "id": "secret-induction",
   "metadata": {},
   "source": [
    "import os, sys\n",
    "parent_dir = os.path.abspath('..')\n",
    "# the parent_dir could already be there if the kernel was not restarted,\n",
    "# and we run this cell again\n",
    "if parent_dir not in sys.path:\n",
    "    sys.path.append(parent_dir)\n",
    "    \n",
    "from mimicnet.mimic3 import concept, dag\n",
    "\n",
    "KG = dag.CCSDAG()\n",
    "admission_n_ccs_codes = {}\n",
    "admission_n_icd_codes = {}"
   ],
   "outputs": []
  },
  {
   "cell_type": "code",
   "execution_count": 31,
   "id": "challenging-cloud",
   "metadata": {},
   "source": [
    "for admission_id, diag_adm_df in diag_df.groupby('HADM_ID'):\n",
    "    icd_codes = set(diag_adm_df.ICD9_CODE)\n",
    "    ccs_codes = set(map(KG.diag_icd2ccs.get, icd_codes))\n",
    "    admission_n_ccs_codes[admission_id] = len(ccs_codes)\n",
    "    admission_n_icd_codes[admission_id] = len(icd_codes)"
   ],
   "outputs": []
  },
  {
   "cell_type": "code",
   "execution_count": 32,
   "id": "accessory-peoples",
   "metadata": {},
   "source": [
    "admission_n_codes = pd.DataFrame(index=admission_n_ccs_codes.keys(),\n",
    "                                data = {'CCS': admission_n_ccs_codes.values(),\n",
    "                                       'ICD': admission_n_icd_codes.values()})"
   ],
   "outputs": []
  },
  {
   "cell_type": "code",
   "execution_count": 33,
   "id": "powered-match",
   "metadata": {},
   "source": [
    "admission_n_codes.describe()"
   ],
   "outputs": []
  },
  {
   "cell_type": "code",
   "execution_count": null,
   "id": "daily-texas",
   "metadata": {},
   "source": [],
   "outputs": []
  }
 ],
 "metadata": {
  "kernelspec": {
   "display_name": "Python 3 (ipykernel)",
   "language": "python",
   "name": "python3"
  },
  "language_info": {
   "codemirror_mode": {
    "name": "ipython",
    "version": 3
   },
   "file_extension": ".py",
   "mimetype": "text/x-python",
   "name": "python",
   "nbconvert_exporter": "python",
   "pygments_lexer": "ipython3",
   "version": "3.9.17"
  }
 },
 "nbformat": 4,
 "nbformat_minor": 5
}
