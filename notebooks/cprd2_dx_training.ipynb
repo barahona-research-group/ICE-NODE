{
 "cells": [
  {
   "cell_type": "markdown",
   "id": "f53f4d3c",
   "metadata": {},
   "source": [
    "# Table of Content\n",
    "\n",
    "<a name=\"outline\"></a>\n",
    "\n",
    "## Setup\n",
    "\n",
    "- [A](#seca) External Imports\n",
    "- [B](#secb) Internal Imports\n",
    "- [C](#secc) Configurations and Paths \n",
    "- [D](#secd) Patient Interface and Train/Val/Test Partitioning\n",
    "- [E](#sece) General Utility Functions\n",
    "\n",
    "\n",
    "## Training\n",
    "\n",
    "- [1](#sec1) Training ICE-NODE and The Baselines on MIMIC-III\n",
    "- [2](#sec2) Training ICE-NODE and The Baselines on MIMIC-IV"
   ]
  },
  {
   "cell_type": "markdown",
   "id": "697a491c",
   "metadata": {},
   "source": [
    "<a name=\"seca\"></a>\n",
    "\n",
    "### A External Imports [^](#outline)"
   ]
  },
  {
   "cell_type": "code",
   "execution_count": 1,
   "id": "4cfc614e",
   "metadata": {},
   "outputs": [],
   "source": [
    "import sys\n",
    "import os\n",
    "import glob\n",
    "import random\n",
    "from collections import defaultdict\n",
    "from pathlib import Path\n",
    "\n",
    "from IPython.display import display\n",
    "\n",
    "import pandas as pd\n",
    "\n",
    "from tqdm import tqdm\n",
    "import jax\n",
    "jax.config.update('jax_platform_name', 'cpu')"
   ]
  },
  {
   "cell_type": "markdown",
   "id": "23f0d568",
   "metadata": {},
   "source": [
    "<a name=\"secb\"></a>\n",
    "\n",
    "### B Internal Imports [^](#outline)"
   ]
  },
  {
   "cell_type": "code",
   "execution_count": 2,
   "id": "894a3743",
   "metadata": {},
   "outputs": [
    {
     "name": "stderr",
     "output_type": "stream",
     "text": [
      "/home/asem/GP/env/icenode-dev/lib/python3.8/site-packages/haiku/_src/data_structures.py:37: FutureWarning: jax.tree_structure is deprecated, and will be removed in a future release. Use jax.tree_util.tree_structure instead.\n",
      "  PyTreeDef = type(jax.tree_structure(None))\n"
     ]
    }
   ],
   "source": [
    "%load_ext autoreload\n",
    "%autoreload 2\n",
    "\n",
    "import train as T\n",
    "import common as C\n"
   ]
  },
  {
   "cell_type": "code",
   "execution_count": 3,
   "id": "8c176dbe",
   "metadata": {},
   "outputs": [],
   "source": [
    "# HOME and DATA_STORE are arbitrary, change as appropriate.\n",
    "HOME = os.environ.get('HOME')\n",
    "DATA_STORE = f'{HOME}/GP/ehr-data'\n",
    "DATA_FILE = os.path.join(DATA_STORE, 'cprd-data/DUMMY_DATA.csv')\n",
    "SOURCE_DIR = os.path.abspath(\"..\")"
   ]
  },
  {
   "cell_type": "markdown",
   "id": "d9340794",
   "metadata": {},
   "source": [
    "<a name=\"secd\"></a>\n",
    "\n",
    "### D Configurations and Paths [^](#outline)"
   ]
  },
  {
   "cell_type": "markdown",
   "id": "5d5c56b2",
   "metadata": {},
   "source": [
    "**Assign** MIMIC-III and MIMIC-IV directory paths into `mimic3` and `mimic4` variables."
   ]
  },
  {
   "cell_type": "code",
   "execution_count": 4,
   "id": "f1898f46",
   "metadata": {},
   "outputs": [],
   "source": [
    "output_dir = 'cprd_artefacts'\n",
    "Path(output_dir).mkdir(parents=True, exist_ok=True)"
   ]
  },
  {
   "cell_type": "code",
   "execution_count": 5,
   "id": "86e81c71",
   "metadata": {},
   "outputs": [],
   "source": [
    "with C.modified_environ(DATA_FILE=DATA_FILE):\n",
    "    cprd_dataset = C.datasets['CPRD']\n",
    "   "
   ]
  },
  {
   "cell_type": "code",
   "execution_count": 6,
   "id": "c8d78296",
   "metadata": {},
   "outputs": [],
   "source": [
    "\"\"\"\n",
    "optimal hyperparams re: each model.\n",
    "\"\"\"\n",
    "\n",
    "model_config = {\n",
    "    'ICE-NODE': f'{SOURCE_DIR}/expt_configs/cprd/icenode_2lr.json' ,\n",
    "    'ICE-NODE_UNIFORM': f'{SOURCE_DIR}/expt_configs/cprd/icenode_2lr.json' ,\n",
    "    'GRU': f'{SOURCE_DIR}/expt_configs/cprd/gru.json' ,\n",
    "    'RETAIN': f'{SOURCE_DIR}/expt_configs/cprd/retain.json',\n",
    "    'LogReg': f'{SOURCE_DIR}/expt_configs/cprd/window_logreg.json'\n",
    "}\n",
    "\n",
    "model_config = {clf: C.load_config(file) for clf, file in model_config.items()}\n",
    "\n",
    "clfs = ['ICE-NODE', 'ICE-NODE_UNIFORM', 'GRU', 'RETAIN', 'LogReg']"
   ]
  },
  {
   "cell_type": "code",
   "execution_count": 7,
   "id": "9ccb6be2",
   "metadata": {},
   "outputs": [
    {
     "data": {
      "text/plain": [
       "[None, None, None, None, None]"
      ]
     },
     "execution_count": 7,
     "metadata": {},
     "output_type": "execute_result"
    }
   ],
   "source": [
    "cprd_train_output_dir = {clf: f'{output_dir}/train/{clf}' for clf in clfs}\n",
    "\n",
    "[Path(d).mkdir(parents=True, exist_ok=True) for d in cprd_train_output_dir.values()]"
   ]
  },
  {
   "cell_type": "code",
   "execution_count": 8,
   "id": "701e3b8f",
   "metadata": {},
   "outputs": [],
   "source": [
    "cprd_reporters = T.make_reporters(clfs, cprd_train_output_dir)"
   ]
  },
  {
   "cell_type": "markdown",
   "id": "24d26707",
   "metadata": {},
   "source": [
    "<a name=\"sece\"></a>\n",
    "\n",
    "### E Patient Interface and Train/Val/Test Patitioning [^](#outline)"
   ]
  },
  {
   "cell_type": "code",
   "execution_count": 9,
   "id": "02e43e04",
   "metadata": {},
   "outputs": [],
   "source": [
    "code_scheme = {\n",
    "    'dx': 'dx_cprd_ltc9809',\n",
    "    'dx_outcome': 'dx_cprd_ltc9809'\n",
    "}\n",
    "cprd_interface = C.Subject_JAX.from_dataset(cprd_dataset, code_scheme=code_scheme)\n",
    "cprd_splits = cprd_interface.random_splits(split1=0.7, split2=0.85, random_seed=42)\n"
   ]
  },
  {
   "cell_type": "code",
   "execution_count": 10,
   "id": "ca3a0902",
   "metadata": {},
   "outputs": [],
   "source": [
    "cprd_percentiles = cprd_interface.dx_outcome_by_percentiles(20)\n",
    "cprd_train_percentiles = cprd_interface.dx_outcome_by_percentiles(20, cprd_splits[0])"
   ]
  },
  {
   "cell_type": "code",
   "execution_count": 11,
   "id": "542d1b22",
   "metadata": {},
   "outputs": [
    {
     "name": "stderr",
     "output_type": "stream",
     "text": [
      "/home/asem/GP/env/icenode-dev/lib/python3.8/site-packages/haiku/_src/data_structures.py:144: FutureWarning: jax.tree_flatten is deprecated, and will be removed in a future release. Use jax.tree_util.tree_flatten instead.\n",
      "  leaves, treedef = jax.tree_flatten(tree)\n",
      "/home/asem/GP/env/icenode-dev/lib/python3.8/site-packages/haiku/_src/data_structures.py:145: FutureWarning: jax.tree_unflatten is deprecated, and will be removed in a future release. Use jax.tree_util.tree_unflatten instead.\n",
      "  return jax.tree_unflatten(treedef, leaves)\n"
     ]
    }
   ],
   "source": [
    "cprd_models = T.init_models(clfs, model_config, cprd_interface, cprd_splits[0])\n"
   ]
  },
  {
   "cell_type": "markdown",
   "id": "05f87624",
   "metadata": {},
   "source": [
    "<a name=\"sec1\"></a>\n",
    "\n",
    "### 1 Training ICE-NODE and The Baselines on MIMIC-III [^](#outline)"
   ]
  },
  {
   "cell_type": "markdown",
   "id": "958d7262",
   "metadata": {},
   "source": [
    "#### ICE-NODE"
   ]
  },
  {
   "cell_type": "code",
   "execution_count": 12,
   "id": "c91a09d4",
   "metadata": {},
   "outputs": [
    {
     "name": "stderr",
     "output_type": "stream",
     "text": [
      "  0%|                                                                                                                                  | 0/60 [00:00<?, ?it/s]/home/asem/GP/env/icenode-dev/lib/python3.8/site-packages/haiku/_src/data_structures.py:144: FutureWarning: jax.tree_flatten is deprecated, and will be removed in a future release. Use jax.tree_util.tree_flatten instead.\n",
      "  leaves, treedef = jax.tree_flatten(tree)\n",
      "/home/asem/GP/env/icenode-dev/lib/python3.8/site-packages/haiku/_src/data_structures.py:145: FutureWarning: jax.tree_unflatten is deprecated, and will be removed in a future release. Use jax.tree_util.tree_unflatten instead.\n",
      "  return jax.tree_unflatten(treedef, leaves)\n",
      "/home/asem/GP/env/icenode-dev/lib/python3.8/site-packages/haiku/_src/data_structures.py:144: FutureWarning: jax.tree_flatten is deprecated, and will be removed in a future release. Use jax.tree_util.tree_flatten instead.\n",
      "  leaves, treedef = jax.tree_flatten(tree)\n",
      "/home/asem/GP/env/icenode-dev/lib/python3.8/site-packages/haiku/_src/data_structures.py:145: FutureWarning: jax.tree_unflatten is deprecated, and will be removed in a future release. Use jax.tree_util.tree_unflatten instead.\n",
      "  return jax.tree_unflatten(treedef, leaves)\n",
      "/home/asem/GP/ICE-NODE/notebooks/../icenode/metric/stat.py:215: RuntimeWarning: invalid value encountered in long_scalars\n",
      "  rate[k][f'ACC-P{i}-k{k}'] = group_true_positive.sum(\n",
      "  2%|██                                                                                                                        | 1/60 [00:38<37:43, 38.37s/it]/home/asem/GP/ICE-NODE/notebooks/../icenode/metric/stat.py:215: RuntimeWarning: invalid value encountered in long_scalars\n",
      "  rate[k][f'ACC-P{i}-k{k}'] = group_true_positive.sum(\n",
      "  3%|████                                                                                                                      | 2/60 [00:41<17:07, 17.72s/it]/home/asem/GP/ICE-NODE/notebooks/../icenode/metric/stat.py:215: RuntimeWarning: invalid value encountered in long_scalars\n",
      "  rate[k][f'ACC-P{i}-k{k}'] = group_true_positive.sum(\n",
      "  5%|██████                                                                                                                    | 3/60 [00:44<10:31, 11.09s/it]/home/asem/GP/ICE-NODE/notebooks/../icenode/metric/stat.py:215: RuntimeWarning: invalid value encountered in long_scalars\n",
      "  rate[k][f'ACC-P{i}-k{k}'] = group_true_positive.sum(\n",
      "  7%|████████▏                                                                                                                 | 4/60 [00:48<07:26,  7.98s/it]/home/asem/GP/ICE-NODE/notebooks/../icenode/metric/stat.py:215: RuntimeWarning: invalid value encountered in long_scalars\n",
      "  rate[k][f'ACC-P{i}-k{k}'] = group_true_positive.sum(\n",
      "  8%|██████████▏                                                                                                               | 5/60 [00:50<05:37,  6.13s/it]/home/asem/GP/ICE-NODE/notebooks/../icenode/metric/stat.py:215: RuntimeWarning: invalid value encountered in long_scalars\n",
      "  rate[k][f'ACC-P{i}-k{k}'] = group_true_positive.sum(\n",
      " 10%|████████████▏                                                                                                             | 6/60 [00:53<04:32,  5.05s/it]/home/asem/GP/ICE-NODE/notebooks/../icenode/metric/stat.py:215: RuntimeWarning: invalid value encountered in long_scalars\n",
      "  rate[k][f'ACC-P{i}-k{k}'] = group_true_positive.sum(\n",
      " 12%|██████████████▏                                                                                                           | 7/60 [00:56<03:54,  4.42s/it]/home/asem/GP/ICE-NODE/notebooks/../icenode/metric/stat.py:215: RuntimeWarning: invalid value encountered in long_scalars\n",
      "  rate[k][f'ACC-P{i}-k{k}'] = group_true_positive.sum(\n",
      " 13%|████████████████▎                                                                                                         | 8/60 [00:59<03:20,  3.86s/it]/home/asem/GP/ICE-NODE/notebooks/../icenode/metric/stat.py:215: RuntimeWarning: invalid value encountered in long_scalars\n",
      "  rate[k][f'ACC-P{i}-k{k}'] = group_true_positive.sum(\n",
      " 15%|██████████████████▎                                                                                                       | 9/60 [01:01<02:51,  3.36s/it]/home/asem/GP/ICE-NODE/notebooks/../icenode/metric/stat.py:215: RuntimeWarning: invalid value encountered in long_scalars\n",
      "  rate[k][f'ACC-P{i}-k{k}'] = group_true_positive.sum(\n",
      " 17%|████████████████████▏                                                                                                    | 10/60 [01:04<02:31,  3.03s/it]/home/asem/GP/ICE-NODE/notebooks/../icenode/metric/stat.py:215: RuntimeWarning: invalid value encountered in long_scalars\n",
      "  rate[k][f'ACC-P{i}-k{k}'] = group_true_positive.sum(\n",
      " 18%|██████████████████████▏                                                                                                  | 11/60 [01:05<02:08,  2.61s/it]/home/asem/GP/ICE-NODE/notebooks/../icenode/metric/stat.py:215: RuntimeWarning: invalid value encountered in long_scalars\n",
      "  rate[k][f'ACC-P{i}-k{k}'] = group_true_positive.sum(\n",
      " 20%|████████████████████████▏                                                                                                | 12/60 [01:07<01:51,  2.33s/it]/home/asem/GP/ICE-NODE/notebooks/../icenode/metric/stat.py:215: RuntimeWarning: invalid value encountered in long_scalars\n",
      "  rate[k][f'ACC-P{i}-k{k}'] = group_true_positive.sum(\n",
      " 22%|██████████████████████████▏                                                                                              | 13/60 [01:09<01:41,  2.16s/it]/home/asem/GP/ICE-NODE/notebooks/../icenode/metric/stat.py:215: RuntimeWarning: invalid value encountered in long_scalars\n",
      "  rate[k][f'ACC-P{i}-k{k}'] = group_true_positive.sum(\n",
      " 23%|████████████████████████████▏                                                                                            | 14/60 [01:11<01:33,  2.04s/it]/home/asem/GP/ICE-NODE/notebooks/../icenode/metric/stat.py:215: RuntimeWarning: invalid value encountered in long_scalars\n",
      "  rate[k][f'ACC-P{i}-k{k}'] = group_true_positive.sum(\n",
      " 25%|██████████████████████████████▎                                                                                          | 15/60 [01:12<01:27,  1.94s/it]/home/asem/GP/ICE-NODE/notebooks/../icenode/metric/stat.py:215: RuntimeWarning: invalid value encountered in long_scalars\n",
      "  rate[k][f'ACC-P{i}-k{k}'] = group_true_positive.sum(\n",
      " 27%|████████████████████████████████▎                                                                                        | 16/60 [01:14<01:22,  1.88s/it]/home/asem/GP/ICE-NODE/notebooks/../icenode/metric/stat.py:215: RuntimeWarning: invalid value encountered in long_scalars\n",
      "  rate[k][f'ACC-P{i}-k{k}'] = group_true_positive.sum(\n",
      " 28%|██████████████████████████████████▎                                                                                      | 17/60 [01:16<01:18,  1.82s/it]/home/asem/GP/ICE-NODE/notebooks/../icenode/metric/stat.py:215: RuntimeWarning: invalid value encountered in long_scalars\n",
      "  rate[k][f'ACC-P{i}-k{k}'] = group_true_positive.sum(\n",
      " 30%|████████████████████████████████████▎                                                                                    | 18/60 [01:17<01:15,  1.80s/it]/home/asem/GP/ICE-NODE/notebooks/../icenode/metric/stat.py:215: RuntimeWarning: invalid value encountered in long_scalars\n",
      "  rate[k][f'ACC-P{i}-k{k}'] = group_true_positive.sum(\n",
      " 32%|██████████████████████████████████████▎                                                                                  | 19/60 [01:19<01:15,  1.83s/it]/home/asem/GP/ICE-NODE/notebooks/../icenode/metric/stat.py:215: RuntimeWarning: invalid value encountered in long_scalars\n",
      "  rate[k][f'ACC-P{i}-k{k}'] = group_true_positive.sum(\n",
      " 33%|████████████████████████████████████████▎                                                                                | 20/60 [01:21<01:12,  1.82s/it]/home/asem/GP/ICE-NODE/notebooks/../icenode/metric/stat.py:215: RuntimeWarning: invalid value encountered in long_scalars\n",
      "  rate[k][f'ACC-P{i}-k{k}'] = group_true_positive.sum(\n"
     ]
    },
    {
     "name": "stderr",
     "output_type": "stream",
     "text": [
      " 35%|██████████████████████████████████████████▎                                                                              | 21/60 [01:23<01:10,  1.81s/it]/home/asem/GP/ICE-NODE/notebooks/../icenode/metric/stat.py:215: RuntimeWarning: invalid value encountered in long_scalars\n",
      "  rate[k][f'ACC-P{i}-k{k}'] = group_true_positive.sum(\n",
      " 37%|████████████████████████████████████████████▎                                                                            | 22/60 [01:25<01:08,  1.82s/it]/home/asem/GP/ICE-NODE/notebooks/../icenode/metric/stat.py:215: RuntimeWarning: invalid value encountered in long_scalars\n",
      "  rate[k][f'ACC-P{i}-k{k}'] = group_true_positive.sum(\n",
      " 38%|██████████████████████████████████████████████▍                                                                          | 23/60 [01:27<01:07,  1.83s/it]/home/asem/GP/ICE-NODE/notebooks/../icenode/metric/stat.py:215: RuntimeWarning: invalid value encountered in long_scalars\n",
      "  rate[k][f'ACC-P{i}-k{k}'] = group_true_positive.sum(\n",
      " 40%|████████████████████████████████████████████████▍                                                                        | 24/60 [01:28<01:05,  1.82s/it]/home/asem/GP/ICE-NODE/notebooks/../icenode/metric/stat.py:215: RuntimeWarning: invalid value encountered in long_scalars\n",
      "  rate[k][f'ACC-P{i}-k{k}'] = group_true_positive.sum(\n",
      " 42%|██████████████████████████████████████████████████▍                                                                      | 25/60 [01:30<01:03,  1.82s/it]/home/asem/GP/ICE-NODE/notebooks/../icenode/metric/stat.py:215: RuntimeWarning: invalid value encountered in long_scalars\n",
      "  rate[k][f'ACC-P{i}-k{k}'] = group_true_positive.sum(\n",
      " 43%|████████████████████████████████████████████████████▍                                                                    | 26/60 [01:32<01:02,  1.83s/it]/home/asem/GP/ICE-NODE/notebooks/../icenode/metric/stat.py:215: RuntimeWarning: invalid value encountered in long_scalars\n",
      "  rate[k][f'ACC-P{i}-k{k}'] = group_true_positive.sum(\n",
      " 45%|██████████████████████████████████████████████████████▍                                                                  | 27/60 [01:34<01:00,  1.82s/it]/home/asem/GP/ICE-NODE/notebooks/../icenode/metric/stat.py:215: RuntimeWarning: invalid value encountered in long_scalars\n",
      "  rate[k][f'ACC-P{i}-k{k}'] = group_true_positive.sum(\n",
      " 47%|████████████████████████████████████████████████████████▍                                                                | 28/60 [01:36<00:58,  1.84s/it]/home/asem/GP/ICE-NODE/notebooks/../icenode/metric/stat.py:215: RuntimeWarning: invalid value encountered in long_scalars\n",
      "  rate[k][f'ACC-P{i}-k{k}'] = group_true_positive.sum(\n",
      " 48%|██████████████████████████████████████████████████████████▍                                                              | 29/60 [01:38<00:57,  1.85s/it]/home/asem/GP/ICE-NODE/notebooks/../icenode/metric/stat.py:215: RuntimeWarning: invalid value encountered in long_scalars\n",
      "  rate[k][f'ACC-P{i}-k{k}'] = group_true_positive.sum(\n",
      " 50%|████████████████████████████████████████████████████████████▌                                                            | 30/60 [01:39<00:55,  1.85s/it]/home/asem/GP/ICE-NODE/notebooks/../icenode/metric/stat.py:215: RuntimeWarning: invalid value encountered in long_scalars\n",
      "  rate[k][f'ACC-P{i}-k{k}'] = group_true_positive.sum(\n",
      " 52%|██████████████████████████████████████████████████████████████▌                                                          | 31/60 [01:41<00:54,  1.88s/it]/home/asem/GP/ICE-NODE/notebooks/../icenode/metric/stat.py:215: RuntimeWarning: invalid value encountered in long_scalars\n",
      "  rate[k][f'ACC-P{i}-k{k}'] = group_true_positive.sum(\n",
      " 53%|████████████████████████████████████████████████████████████████▌                                                        | 32/60 [01:43<00:52,  1.86s/it]/home/asem/GP/ICE-NODE/notebooks/../icenode/metric/stat.py:215: RuntimeWarning: invalid value encountered in long_scalars\n",
      "  rate[k][f'ACC-P{i}-k{k}'] = group_true_positive.sum(\n",
      " 55%|██████████████████████████████████████████████████████████████████▌                                                      | 33/60 [01:45<00:50,  1.86s/it]/home/asem/GP/ICE-NODE/notebooks/../icenode/metric/stat.py:215: RuntimeWarning: invalid value encountered in long_scalars\n",
      "  rate[k][f'ACC-P{i}-k{k}'] = group_true_positive.sum(\n",
      " 57%|████████████████████████████████████████████████████████████████████▌                                                    | 34/60 [01:47<00:48,  1.87s/it]/home/asem/GP/ICE-NODE/notebooks/../icenode/metric/stat.py:215: RuntimeWarning: invalid value encountered in long_scalars\n",
      "  rate[k][f'ACC-P{i}-k{k}'] = group_true_positive.sum(\n",
      " 58%|██████████████████████████████████████████████████████████████████████▌                                                  | 35/60 [01:49<00:46,  1.84s/it]/home/asem/GP/ICE-NODE/notebooks/../icenode/metric/stat.py:215: RuntimeWarning: invalid value encountered in long_scalars\n",
      "  rate[k][f'ACC-P{i}-k{k}'] = group_true_positive.sum(\n",
      " 60%|████████████████████████████████████████████████████████████████████████▌                                                | 36/60 [01:51<00:43,  1.82s/it]/home/asem/GP/ICE-NODE/notebooks/../icenode/metric/stat.py:215: RuntimeWarning: invalid value encountered in long_scalars\n",
      "  rate[k][f'ACC-P{i}-k{k}'] = group_true_positive.sum(\n",
      " 62%|██████████████████████████████████████████████████████████████████████████▌                                              | 37/60 [01:52<00:41,  1.81s/it]/home/asem/GP/ICE-NODE/notebooks/../icenode/metric/stat.py:215: RuntimeWarning: invalid value encountered in long_scalars\n",
      "  rate[k][f'ACC-P{i}-k{k}'] = group_true_positive.sum(\n",
      " 63%|████████████████████████████████████████████████████████████████████████████▋                                            | 38/60 [01:54<00:40,  1.83s/it]/home/asem/GP/ICE-NODE/notebooks/../icenode/metric/stat.py:215: RuntimeWarning: invalid value encountered in long_scalars\n",
      "  rate[k][f'ACC-P{i}-k{k}'] = group_true_positive.sum(\n",
      " 65%|██████████████████████████████████████████████████████████████████████████████▋                                          | 39/60 [01:56<00:37,  1.80s/it]/home/asem/GP/ICE-NODE/notebooks/../icenode/metric/stat.py:215: RuntimeWarning: invalid value encountered in long_scalars\n",
      "  rate[k][f'ACC-P{i}-k{k}'] = group_true_positive.sum(\n",
      " 67%|████████████████████████████████████████████████████████████████████████████████▋                                        | 40/60 [01:58<00:36,  1.80s/it]/home/asem/GP/ICE-NODE/notebooks/../icenode/metric/stat.py:215: RuntimeWarning: invalid value encountered in long_scalars\n",
      "  rate[k][f'ACC-P{i}-k{k}'] = group_true_positive.sum(\n",
      " 68%|██████████████████████████████████████████████████████████████████████████████████▋                                      | 41/60 [02:00<00:34,  1.81s/it]/home/asem/GP/ICE-NODE/notebooks/../icenode/metric/stat.py:215: RuntimeWarning: invalid value encountered in long_scalars\n",
      "  rate[k][f'ACC-P{i}-k{k}'] = group_true_positive.sum(\n",
      " 70%|████████████████████████████████████████████████████████████████████████████████████▋                                    | 42/60 [02:01<00:31,  1.78s/it]/home/asem/GP/ICE-NODE/notebooks/../icenode/metric/stat.py:215: RuntimeWarning: invalid value encountered in long_scalars\n",
      "  rate[k][f'ACC-P{i}-k{k}'] = group_true_positive.sum(\n",
      " 72%|██████████████████████████████████████████████████████████████████████████████████████▋                                  | 43/60 [02:03<00:30,  1.77s/it]/home/asem/GP/ICE-NODE/notebooks/../icenode/metric/stat.py:215: RuntimeWarning: invalid value encountered in long_scalars\n",
      "  rate[k][f'ACC-P{i}-k{k}'] = group_true_positive.sum(\n",
      " 73%|████████████████████████████████████████████████████████████████████████████████████████▋                                | 44/60 [02:05<00:28,  1.76s/it]/home/asem/GP/ICE-NODE/notebooks/../icenode/metric/stat.py:215: RuntimeWarning: invalid value encountered in long_scalars\n",
      "  rate[k][f'ACC-P{i}-k{k}'] = group_true_positive.sum(\n"
     ]
    },
    {
     "name": "stderr",
     "output_type": "stream",
     "text": [
      " 75%|██████████████████████████████████████████████████████████████████████████████████████████▊                              | 45/60 [02:07<00:26,  1.75s/it]/home/asem/GP/ICE-NODE/notebooks/../icenode/metric/stat.py:215: RuntimeWarning: invalid value encountered in long_scalars\n",
      "  rate[k][f'ACC-P{i}-k{k}'] = group_true_positive.sum(\n",
      " 77%|████████████████████████████████████████████████████████████████████████████████████████████▊                            | 46/60 [02:08<00:24,  1.75s/it]/home/asem/GP/ICE-NODE/notebooks/../icenode/metric/stat.py:215: RuntimeWarning: invalid value encountered in long_scalars\n",
      "  rate[k][f'ACC-P{i}-k{k}'] = group_true_positive.sum(\n",
      " 78%|██████████████████████████████████████████████████████████████████████████████████████████████▊                          | 47/60 [02:10<00:22,  1.76s/it]/home/asem/GP/ICE-NODE/notebooks/../icenode/metric/stat.py:215: RuntimeWarning: invalid value encountered in long_scalars\n",
      "  rate[k][f'ACC-P{i}-k{k}'] = group_true_positive.sum(\n",
      " 80%|████████████████████████████████████████████████████████████████████████████████████████████████▊                        | 48/60 [02:12<00:21,  1.76s/it]/home/asem/GP/ICE-NODE/notebooks/../icenode/metric/stat.py:215: RuntimeWarning: invalid value encountered in long_scalars\n",
      "  rate[k][f'ACC-P{i}-k{k}'] = group_true_positive.sum(\n",
      " 82%|██████████████████████████████████████████████████████████████████████████████████████████████████▊                      | 49/60 [02:14<00:19,  1.77s/it]/home/asem/GP/ICE-NODE/notebooks/../icenode/metric/stat.py:215: RuntimeWarning: invalid value encountered in long_scalars\n",
      "  rate[k][f'ACC-P{i}-k{k}'] = group_true_positive.sum(\n",
      " 83%|████████████████████████████████████████████████████████████████████████████████████████████████████▊                    | 50/60 [02:15<00:17,  1.77s/it]/home/asem/GP/ICE-NODE/notebooks/../icenode/metric/stat.py:215: RuntimeWarning: invalid value encountered in long_scalars\n",
      "  rate[k][f'ACC-P{i}-k{k}'] = group_true_positive.sum(\n",
      " 85%|██████████████████████████████████████████████████████████████████████████████████████████████████████▊                  | 51/60 [02:17<00:15,  1.77s/it]/home/asem/GP/ICE-NODE/notebooks/../icenode/metric/stat.py:215: RuntimeWarning: invalid value encountered in long_scalars\n",
      "  rate[k][f'ACC-P{i}-k{k}'] = group_true_positive.sum(\n",
      " 87%|████████████████████████████████████████████████████████████████████████████████████████████████████████▊                | 52/60 [02:19<00:14,  1.76s/it]/home/asem/GP/ICE-NODE/notebooks/../icenode/metric/stat.py:215: RuntimeWarning: invalid value encountered in long_scalars\n",
      "  rate[k][f'ACC-P{i}-k{k}'] = group_true_positive.sum(\n",
      " 88%|██████████████████████████████████████████████████████████████████████████████████████████████████████████▉              | 53/60 [02:21<00:12,  1.75s/it]/home/asem/GP/ICE-NODE/notebooks/../icenode/metric/stat.py:215: RuntimeWarning: invalid value encountered in long_scalars\n",
      "  rate[k][f'ACC-P{i}-k{k}'] = group_true_positive.sum(\n",
      " 90%|████████████████████████████████████████████████████████████████████████████████████████████████████████████▉            | 54/60 [02:22<00:10,  1.76s/it]/home/asem/GP/ICE-NODE/notebooks/../icenode/metric/stat.py:215: RuntimeWarning: invalid value encountered in long_scalars\n",
      "  rate[k][f'ACC-P{i}-k{k}'] = group_true_positive.sum(\n",
      " 92%|██████████████████████████████████████████████████████████████████████████████████████████████████████████████▉          | 55/60 [02:24<00:08,  1.75s/it]/home/asem/GP/ICE-NODE/notebooks/../icenode/metric/stat.py:215: RuntimeWarning: invalid value encountered in long_scalars\n",
      "  rate[k][f'ACC-P{i}-k{k}'] = group_true_positive.sum(\n",
      " 93%|████████████████████████████████████████████████████████████████████████████████████████████████████████████████▉        | 56/60 [02:26<00:07,  1.75s/it]/home/asem/GP/ICE-NODE/notebooks/../icenode/metric/stat.py:215: RuntimeWarning: invalid value encountered in long_scalars\n",
      "  rate[k][f'ACC-P{i}-k{k}'] = group_true_positive.sum(\n",
      " 95%|██████████████████████████████████████████████████████████████████████████████████████████████████████████████████▉      | 57/60 [02:28<00:05,  1.75s/it]/home/asem/GP/ICE-NODE/notebooks/../icenode/metric/stat.py:215: RuntimeWarning: invalid value encountered in long_scalars\n",
      "  rate[k][f'ACC-P{i}-k{k}'] = group_true_positive.sum(\n",
      " 97%|████████████████████████████████████████████████████████████████████████████████████████████████████████████████████▉    | 58/60 [02:29<00:03,  1.73s/it]/home/asem/GP/ICE-NODE/notebooks/../icenode/metric/stat.py:215: RuntimeWarning: invalid value encountered in long_scalars\n",
      "  rate[k][f'ACC-P{i}-k{k}'] = group_true_positive.sum(\n",
      " 98%|██████████████████████████████████████████████████████████████████████████████████████████████████████████████████████▉  | 59/60 [02:31<00:01,  1.74s/it]/home/asem/GP/ICE-NODE/notebooks/../icenode/metric/stat.py:215: RuntimeWarning: invalid value encountered in long_scalars\n",
      "  rate[k][f'ACC-P{i}-k{k}'] = group_true_positive.sum(\n",
      "/home/asem/GP/ICE-NODE/notebooks/../icenode/metric/stat.py:215: RuntimeWarning: invalid value encountered in long_scalars\n",
      "  rate[k][f'ACC-P{i}-k{k}'] = group_true_positive.sum(\n",
      "100%|█████████████████████████████████████████████████████████████████████████████████████████████████████████████████████████| 60/60 [02:33<00:00,  2.56s/it]\n"
     ]
    }
   ],
   "source": [
    "## TODO: This may take a long time, a pretrained model already exists in (yy).\n",
    "cprd_trained_icenode = T.train(cprd_models['ICE-NODE'], config=model_config['ICE-NODE'], \n",
    "                             splits=cprd_splits, code_groups=cprd_train_percentiles,\n",
    "                             reporters=cprd_reporters['ICE-NODE'])"
   ]
  },
  {
   "cell_type": "markdown",
   "id": "bf6a21bb",
   "metadata": {},
   "source": [
    "#### ICE-NODE_UNIFORM"
   ]
  },
  {
   "cell_type": "code",
   "execution_count": 13,
   "id": "f868ee28",
   "metadata": {},
   "outputs": [
    {
     "name": "stderr",
     "output_type": "stream",
     "text": [
      "  0%|                                                                                                                                  | 0/60 [00:00<?, ?it/s]/home/asem/GP/env/icenode-dev/lib/python3.8/site-packages/haiku/_src/data_structures.py:144: FutureWarning: jax.tree_flatten is deprecated, and will be removed in a future release. Use jax.tree_util.tree_flatten instead.\n",
      "  leaves, treedef = jax.tree_flatten(tree)\n",
      "/home/asem/GP/env/icenode-dev/lib/python3.8/site-packages/haiku/_src/data_structures.py:145: FutureWarning: jax.tree_unflatten is deprecated, and will be removed in a future release. Use jax.tree_util.tree_unflatten instead.\n",
      "  return jax.tree_unflatten(treedef, leaves)\n",
      "/home/asem/GP/env/icenode-dev/lib/python3.8/site-packages/haiku/_src/data_structures.py:144: FutureWarning: jax.tree_flatten is deprecated, and will be removed in a future release. Use jax.tree_util.tree_flatten instead.\n",
      "  leaves, treedef = jax.tree_flatten(tree)\n",
      "/home/asem/GP/env/icenode-dev/lib/python3.8/site-packages/haiku/_src/data_structures.py:145: FutureWarning: jax.tree_unflatten is deprecated, and will be removed in a future release. Use jax.tree_util.tree_unflatten instead.\n",
      "  return jax.tree_unflatten(treedef, leaves)\n",
      "/home/asem/GP/ICE-NODE/notebooks/../icenode/metric/stat.py:215: RuntimeWarning: invalid value encountered in long_scalars\n",
      "  rate[k][f'ACC-P{i}-k{k}'] = group_true_positive.sum(\n",
      "  2%|██                                                                                                                        | 1/60 [00:33<33:04, 33.63s/it]/home/asem/GP/ICE-NODE/notebooks/../icenode/metric/stat.py:215: RuntimeWarning: invalid value encountered in long_scalars\n",
      "  rate[k][f'ACC-P{i}-k{k}'] = group_true_positive.sum(\n",
      "  3%|████                                                                                                                      | 2/60 [00:35<14:38, 15.15s/it]/home/asem/GP/ICE-NODE/notebooks/../icenode/metric/stat.py:215: RuntimeWarning: invalid value encountered in long_scalars\n",
      "  rate[k][f'ACC-P{i}-k{k}'] = group_true_positive.sum(\n",
      "  5%|██████                                                                                                                    | 3/60 [00:38<08:47,  9.26s/it]/home/asem/GP/ICE-NODE/notebooks/../icenode/metric/stat.py:215: RuntimeWarning: invalid value encountered in long_scalars\n",
      "  rate[k][f'ACC-P{i}-k{k}'] = group_true_positive.sum(\n",
      "  7%|████████▏                                                                                                                 | 4/60 [00:40<06:03,  6.48s/it]/home/asem/GP/ICE-NODE/notebooks/../icenode/metric/stat.py:215: RuntimeWarning: invalid value encountered in long_scalars\n",
      "  rate[k][f'ACC-P{i}-k{k}'] = group_true_positive.sum(\n",
      "  8%|██████████▏                                                                                                               | 5/60 [00:42<04:29,  4.89s/it]/home/asem/GP/ICE-NODE/notebooks/../icenode/metric/stat.py:215: RuntimeWarning: invalid value encountered in long_scalars\n",
      "  rate[k][f'ACC-P{i}-k{k}'] = group_true_positive.sum(\n",
      " 10%|████████████▏                                                                                                             | 6/60 [00:44<03:31,  3.91s/it]/home/asem/GP/ICE-NODE/notebooks/../icenode/metric/stat.py:215: RuntimeWarning: invalid value encountered in long_scalars\n",
      "  rate[k][f'ACC-P{i}-k{k}'] = group_true_positive.sum(\n",
      " 12%|██████████████▏                                                                                                           | 7/60 [00:46<02:54,  3.30s/it]/home/asem/GP/ICE-NODE/notebooks/../icenode/metric/stat.py:215: RuntimeWarning: invalid value encountered in long_scalars\n",
      "  rate[k][f'ACC-P{i}-k{k}'] = group_true_positive.sum(\n",
      " 13%|████████████████▎                                                                                                         | 8/60 [00:48<02:25,  2.81s/it]/home/asem/GP/ICE-NODE/notebooks/../icenode/metric/stat.py:215: RuntimeWarning: invalid value encountered in long_scalars\n",
      "  rate[k][f'ACC-P{i}-k{k}'] = group_true_positive.sum(\n",
      " 15%|██████████████████▎                                                                                                       | 9/60 [00:49<02:01,  2.38s/it]/home/asem/GP/ICE-NODE/notebooks/../icenode/metric/stat.py:215: RuntimeWarning: invalid value encountered in long_scalars\n",
      "  rate[k][f'ACC-P{i}-k{k}'] = group_true_positive.sum(\n",
      " 17%|████████████████████▏                                                                                                    | 10/60 [00:51<01:44,  2.10s/it]/home/asem/GP/ICE-NODE/notebooks/../icenode/metric/stat.py:215: RuntimeWarning: invalid value encountered in long_scalars\n",
      "  rate[k][f'ACC-P{i}-k{k}'] = group_true_positive.sum(\n",
      " 18%|██████████████████████▏                                                                                                  | 11/60 [00:52<01:26,  1.76s/it]/home/asem/GP/ICE-NODE/notebooks/../icenode/metric/stat.py:215: RuntimeWarning: invalid value encountered in long_scalars\n",
      "  rate[k][f'ACC-P{i}-k{k}'] = group_true_positive.sum(\n",
      " 20%|████████████████████████▏                                                                                                | 12/60 [00:53<01:12,  1.51s/it]/home/asem/GP/ICE-NODE/notebooks/../icenode/metric/stat.py:215: RuntimeWarning: invalid value encountered in long_scalars\n",
      "  rate[k][f'ACC-P{i}-k{k}'] = group_true_positive.sum(\n",
      " 22%|██████████████████████████▏                                                                                              | 13/60 [00:53<01:02,  1.34s/it]/home/asem/GP/ICE-NODE/notebooks/../icenode/metric/stat.py:215: RuntimeWarning: invalid value encountered in long_scalars\n",
      "  rate[k][f'ACC-P{i}-k{k}'] = group_true_positive.sum(\n",
      " 23%|████████████████████████████▏                                                                                            | 14/60 [00:54<00:56,  1.23s/it]/home/asem/GP/ICE-NODE/notebooks/../icenode/metric/stat.py:215: RuntimeWarning: invalid value encountered in long_scalars\n",
      "  rate[k][f'ACC-P{i}-k{k}'] = group_true_positive.sum(\n",
      " 25%|██████████████████████████████▎                                                                                          | 15/60 [00:55<00:51,  1.15s/it]/home/asem/GP/ICE-NODE/notebooks/../icenode/metric/stat.py:215: RuntimeWarning: invalid value encountered in long_scalars\n",
      "  rate[k][f'ACC-P{i}-k{k}'] = group_true_positive.sum(\n",
      " 27%|████████████████████████████████▎                                                                                        | 16/60 [00:56<00:48,  1.10s/it]/home/asem/GP/ICE-NODE/notebooks/../icenode/metric/stat.py:215: RuntimeWarning: invalid value encountered in long_scalars\n",
      "  rate[k][f'ACC-P{i}-k{k}'] = group_true_positive.sum(\n",
      " 28%|██████████████████████████████████▎                                                                                      | 17/60 [00:57<00:45,  1.07s/it]/home/asem/GP/ICE-NODE/notebooks/../icenode/metric/stat.py:215: RuntimeWarning: invalid value encountered in long_scalars\n",
      "  rate[k][f'ACC-P{i}-k{k}'] = group_true_positive.sum(\n",
      " 30%|████████████████████████████████████▎                                                                                    | 18/60 [00:58<00:43,  1.04s/it]/home/asem/GP/ICE-NODE/notebooks/../icenode/metric/stat.py:215: RuntimeWarning: invalid value encountered in long_scalars\n",
      "  rate[k][f'ACC-P{i}-k{k}'] = group_true_positive.sum(\n",
      " 32%|██████████████████████████████████████▎                                                                                  | 19/60 [00:59<00:41,  1.01s/it]/home/asem/GP/ICE-NODE/notebooks/../icenode/metric/stat.py:215: RuntimeWarning: invalid value encountered in long_scalars\n",
      "  rate[k][f'ACC-P{i}-k{k}'] = group_true_positive.sum(\n",
      " 33%|████████████████████████████████████████▎                                                                                | 20/60 [01:00<00:40,  1.02s/it]/home/asem/GP/ICE-NODE/notebooks/../icenode/metric/stat.py:215: RuntimeWarning: invalid value encountered in long_scalars\n",
      "  rate[k][f'ACC-P{i}-k{k}'] = group_true_positive.sum(\n"
     ]
    },
    {
     "name": "stderr",
     "output_type": "stream",
     "text": [
      " 35%|██████████████████████████████████████████▎                                                                              | 21/60 [01:01<00:40,  1.03s/it]/home/asem/GP/ICE-NODE/notebooks/../icenode/metric/stat.py:215: RuntimeWarning: invalid value encountered in long_scalars\n",
      "  rate[k][f'ACC-P{i}-k{k}'] = group_true_positive.sum(\n",
      " 37%|████████████████████████████████████████████▎                                                                            | 22/60 [01:02<00:38,  1.01s/it]/home/asem/GP/ICE-NODE/notebooks/../icenode/metric/stat.py:215: RuntimeWarning: invalid value encountered in long_scalars\n",
      "  rate[k][f'ACC-P{i}-k{k}'] = group_true_positive.sum(\n",
      " 38%|██████████████████████████████████████████████▍                                                                          | 23/60 [01:03<00:37,  1.02s/it]/home/asem/GP/ICE-NODE/notebooks/../icenode/metric/stat.py:215: RuntimeWarning: invalid value encountered in long_scalars\n",
      "  rate[k][f'ACC-P{i}-k{k}'] = group_true_positive.sum(\n",
      " 40%|████████████████████████████████████████████████▍                                                                        | 24/60 [01:04<00:36,  1.01s/it]/home/asem/GP/ICE-NODE/notebooks/../icenode/metric/stat.py:215: RuntimeWarning: invalid value encountered in long_scalars\n",
      "  rate[k][f'ACC-P{i}-k{k}'] = group_true_positive.sum(\n",
      " 42%|██████████████████████████████████████████████████▍                                                                      | 25/60 [01:05<00:35,  1.01s/it]/home/asem/GP/ICE-NODE/notebooks/../icenode/metric/stat.py:215: RuntimeWarning: invalid value encountered in long_scalars\n",
      "  rate[k][f'ACC-P{i}-k{k}'] = group_true_positive.sum(\n",
      " 43%|████████████████████████████████████████████████████▍                                                                    | 26/60 [01:06<00:33,  1.01it/s]/home/asem/GP/ICE-NODE/notebooks/../icenode/metric/stat.py:215: RuntimeWarning: invalid value encountered in long_scalars\n",
      "  rate[k][f'ACC-P{i}-k{k}'] = group_true_positive.sum(\n",
      " 45%|██████████████████████████████████████████████████████▍                                                                  | 27/60 [01:07<00:32,  1.02it/s]/home/asem/GP/ICE-NODE/notebooks/../icenode/metric/stat.py:215: RuntimeWarning: invalid value encountered in long_scalars\n",
      "  rate[k][f'ACC-P{i}-k{k}'] = group_true_positive.sum(\n",
      " 47%|████████████████████████████████████████████████████████▍                                                                | 28/60 [01:08<00:31,  1.02it/s]/home/asem/GP/ICE-NODE/notebooks/../icenode/metric/stat.py:215: RuntimeWarning: invalid value encountered in long_scalars\n",
      "  rate[k][f'ACC-P{i}-k{k}'] = group_true_positive.sum(\n",
      " 48%|██████████████████████████████████████████████████████████▍                                                              | 29/60 [01:09<00:30,  1.02it/s]/home/asem/GP/ICE-NODE/notebooks/../icenode/metric/stat.py:215: RuntimeWarning: invalid value encountered in long_scalars\n",
      "  rate[k][f'ACC-P{i}-k{k}'] = group_true_positive.sum(\n",
      " 50%|████████████████████████████████████████████████████████████▌                                                            | 30/60 [01:10<00:29,  1.03it/s]/home/asem/GP/ICE-NODE/notebooks/../icenode/metric/stat.py:215: RuntimeWarning: invalid value encountered in long_scalars\n",
      "  rate[k][f'ACC-P{i}-k{k}'] = group_true_positive.sum(\n",
      " 52%|██████████████████████████████████████████████████████████████▌                                                          | 31/60 [01:11<00:28,  1.02it/s]/home/asem/GP/ICE-NODE/notebooks/../icenode/metric/stat.py:215: RuntimeWarning: invalid value encountered in long_scalars\n",
      "  rate[k][f'ACC-P{i}-k{k}'] = group_true_positive.sum(\n",
      " 53%|████████████████████████████████████████████████████████████████▌                                                        | 32/60 [01:12<00:27,  1.00it/s]/home/asem/GP/ICE-NODE/notebooks/../icenode/metric/stat.py:215: RuntimeWarning: invalid value encountered in long_scalars\n",
      "  rate[k][f'ACC-P{i}-k{k}'] = group_true_positive.sum(\n",
      " 55%|██████████████████████████████████████████████████████████████████▌                                                      | 33/60 [01:13<00:26,  1.02it/s]/home/asem/GP/ICE-NODE/notebooks/../icenode/metric/stat.py:215: RuntimeWarning: invalid value encountered in long_scalars\n",
      "  rate[k][f'ACC-P{i}-k{k}'] = group_true_positive.sum(\n",
      " 57%|████████████████████████████████████████████████████████████████████▌                                                    | 34/60 [01:14<00:25,  1.02it/s]/home/asem/GP/ICE-NODE/notebooks/../icenode/metric/stat.py:215: RuntimeWarning: invalid value encountered in long_scalars\n",
      "  rate[k][f'ACC-P{i}-k{k}'] = group_true_positive.sum(\n",
      " 58%|██████████████████████████████████████████████████████████████████████▌                                                  | 35/60 [01:15<00:24,  1.03it/s]/home/asem/GP/ICE-NODE/notebooks/../icenode/metric/stat.py:215: RuntimeWarning: invalid value encountered in long_scalars\n",
      "  rate[k][f'ACC-P{i}-k{k}'] = group_true_positive.sum(\n",
      " 60%|████████████████████████████████████████████████████████████████████████▌                                                | 36/60 [01:16<00:23,  1.04it/s]/home/asem/GP/ICE-NODE/notebooks/../icenode/metric/stat.py:215: RuntimeWarning: invalid value encountered in long_scalars\n",
      "  rate[k][f'ACC-P{i}-k{k}'] = group_true_positive.sum(\n",
      " 62%|██████████████████████████████████████████████████████████████████████████▌                                              | 37/60 [01:17<00:23,  1.03s/it]/home/asem/GP/ICE-NODE/notebooks/../icenode/metric/stat.py:215: RuntimeWarning: invalid value encountered in long_scalars\n",
      "  rate[k][f'ACC-P{i}-k{k}'] = group_true_positive.sum(\n",
      " 63%|████████████████████████████████████████████████████████████████████████████▋                                            | 38/60 [01:18<00:22,  1.02s/it]/home/asem/GP/ICE-NODE/notebooks/../icenode/metric/stat.py:215: RuntimeWarning: invalid value encountered in long_scalars\n",
      "  rate[k][f'ACC-P{i}-k{k}'] = group_true_positive.sum(\n",
      " 65%|██████████████████████████████████████████████████████████████████████████████▋                                          | 39/60 [01:19<00:21,  1.01s/it]/home/asem/GP/ICE-NODE/notebooks/../icenode/metric/stat.py:215: RuntimeWarning: invalid value encountered in long_scalars\n",
      "  rate[k][f'ACC-P{i}-k{k}'] = group_true_positive.sum(\n",
      " 67%|████████████████████████████████████████████████████████████████████████████████▋                                        | 40/60 [01:20<00:20,  1.04s/it]/home/asem/GP/ICE-NODE/notebooks/../icenode/metric/stat.py:215: RuntimeWarning: invalid value encountered in long_scalars\n",
      "  rate[k][f'ACC-P{i}-k{k}'] = group_true_positive.sum(\n",
      " 68%|██████████████████████████████████████████████████████████████████████████████████▋                                      | 41/60 [01:22<00:20,  1.08s/it]/home/asem/GP/ICE-NODE/notebooks/../icenode/metric/stat.py:215: RuntimeWarning: invalid value encountered in long_scalars\n",
      "  rate[k][f'ACC-P{i}-k{k}'] = group_true_positive.sum(\n",
      " 70%|████████████████████████████████████████████████████████████████████████████████████▋                                    | 42/60 [01:23<00:19,  1.06s/it]/home/asem/GP/ICE-NODE/notebooks/../icenode/metric/stat.py:215: RuntimeWarning: invalid value encountered in long_scalars\n",
      "  rate[k][f'ACC-P{i}-k{k}'] = group_true_positive.sum(\n",
      " 72%|██████████████████████████████████████████████████████████████████████████████████████▋                                  | 43/60 [01:23<00:17,  1.02s/it]/home/asem/GP/ICE-NODE/notebooks/../icenode/metric/stat.py:215: RuntimeWarning: invalid value encountered in long_scalars\n",
      "  rate[k][f'ACC-P{i}-k{k}'] = group_true_positive.sum(\n",
      " 73%|████████████████████████████████████████████████████████████████████████████████████████▋                                | 44/60 [01:24<00:15,  1.01it/s]/home/asem/GP/ICE-NODE/notebooks/../icenode/metric/stat.py:215: RuntimeWarning: invalid value encountered in long_scalars\n",
      "  rate[k][f'ACC-P{i}-k{k}'] = group_true_positive.sum(\n"
     ]
    },
    {
     "name": "stderr",
     "output_type": "stream",
     "text": [
      " 75%|██████████████████████████████████████████████████████████████████████████████████████████▊                              | 45/60 [01:25<00:14,  1.03it/s]/home/asem/GP/ICE-NODE/notebooks/../icenode/metric/stat.py:215: RuntimeWarning: invalid value encountered in long_scalars\n",
      "  rate[k][f'ACC-P{i}-k{k}'] = group_true_positive.sum(\n",
      " 77%|████████████████████████████████████████████████████████████████████████████████████████████▊                            | 46/60 [01:26<00:13,  1.01it/s]/home/asem/GP/ICE-NODE/notebooks/../icenode/metric/stat.py:215: RuntimeWarning: invalid value encountered in long_scalars\n",
      "  rate[k][f'ACC-P{i}-k{k}'] = group_true_positive.sum(\n",
      " 78%|██████████████████████████████████████████████████████████████████████████████████████████████▊                          | 47/60 [01:27<00:12,  1.02it/s]/home/asem/GP/ICE-NODE/notebooks/../icenode/metric/stat.py:215: RuntimeWarning: invalid value encountered in long_scalars\n",
      "  rate[k][f'ACC-P{i}-k{k}'] = group_true_positive.sum(\n",
      " 80%|████████████████████████████████████████████████████████████████████████████████████████████████▊                        | 48/60 [01:28<00:11,  1.02it/s]/home/asem/GP/ICE-NODE/notebooks/../icenode/metric/stat.py:215: RuntimeWarning: invalid value encountered in long_scalars\n",
      "  rate[k][f'ACC-P{i}-k{k}'] = group_true_positive.sum(\n",
      " 82%|██████████████████████████████████████████████████████████████████████████████████████████████████▊                      | 49/60 [01:29<00:10,  1.02it/s]/home/asem/GP/ICE-NODE/notebooks/../icenode/metric/stat.py:215: RuntimeWarning: invalid value encountered in long_scalars\n",
      "  rate[k][f'ACC-P{i}-k{k}'] = group_true_positive.sum(\n",
      " 83%|████████████████████████████████████████████████████████████████████████████████████████████████████▊                    | 50/60 [01:30<00:09,  1.02it/s]/home/asem/GP/ICE-NODE/notebooks/../icenode/metric/stat.py:215: RuntimeWarning: invalid value encountered in long_scalars\n",
      "  rate[k][f'ACC-P{i}-k{k}'] = group_true_positive.sum(\n",
      " 85%|██████████████████████████████████████████████████████████████████████████████████████████████████████▊                  | 51/60 [01:31<00:08,  1.02it/s]/home/asem/GP/ICE-NODE/notebooks/../icenode/metric/stat.py:215: RuntimeWarning: invalid value encountered in long_scalars\n",
      "  rate[k][f'ACC-P{i}-k{k}'] = group_true_positive.sum(\n",
      " 87%|████████████████████████████████████████████████████████████████████████████████████████████████████████▊                | 52/60 [01:32<00:07,  1.01it/s]/home/asem/GP/ICE-NODE/notebooks/../icenode/metric/stat.py:215: RuntimeWarning: invalid value encountered in long_scalars\n",
      "  rate[k][f'ACC-P{i}-k{k}'] = group_true_positive.sum(\n",
      " 88%|██████████████████████████████████████████████████████████████████████████████████████████████████████████▉              | 53/60 [01:33<00:06,  1.04it/s]/home/asem/GP/ICE-NODE/notebooks/../icenode/metric/stat.py:215: RuntimeWarning: invalid value encountered in long_scalars\n",
      "  rate[k][f'ACC-P{i}-k{k}'] = group_true_positive.sum(\n",
      " 90%|████████████████████████████████████████████████████████████████████████████████████████████████████████████▉            | 54/60 [01:34<00:05,  1.03it/s]/home/asem/GP/ICE-NODE/notebooks/../icenode/metric/stat.py:215: RuntimeWarning: invalid value encountered in long_scalars\n",
      "  rate[k][f'ACC-P{i}-k{k}'] = group_true_positive.sum(\n",
      " 92%|██████████████████████████████████████████████████████████████████████████████████████████████████████████████▉          | 55/60 [01:35<00:04,  1.03it/s]/home/asem/GP/ICE-NODE/notebooks/../icenode/metric/stat.py:215: RuntimeWarning: invalid value encountered in long_scalars\n",
      "  rate[k][f'ACC-P{i}-k{k}'] = group_true_positive.sum(\n",
      " 93%|████████████████████████████████████████████████████████████████████████████████████████████████████████████████▉        | 56/60 [01:36<00:03,  1.04it/s]/home/asem/GP/ICE-NODE/notebooks/../icenode/metric/stat.py:215: RuntimeWarning: invalid value encountered in long_scalars\n",
      "  rate[k][f'ACC-P{i}-k{k}'] = group_true_positive.sum(\n",
      " 95%|██████████████████████████████████████████████████████████████████████████████████████████████████████████████████▉      | 57/60 [01:37<00:02,  1.03it/s]/home/asem/GP/ICE-NODE/notebooks/../icenode/metric/stat.py:215: RuntimeWarning: invalid value encountered in long_scalars\n",
      "  rate[k][f'ACC-P{i}-k{k}'] = group_true_positive.sum(\n",
      " 97%|████████████████████████████████████████████████████████████████████████████████████████████████████████████████████▉    | 58/60 [01:38<00:01,  1.02it/s]/home/asem/GP/ICE-NODE/notebooks/../icenode/metric/stat.py:215: RuntimeWarning: invalid value encountered in long_scalars\n",
      "  rate[k][f'ACC-P{i}-k{k}'] = group_true_positive.sum(\n",
      " 98%|██████████████████████████████████████████████████████████████████████████████████████████████████████████████████████▉  | 59/60 [01:39<00:01,  1.00s/it]/home/asem/GP/ICE-NODE/notebooks/../icenode/metric/stat.py:215: RuntimeWarning: invalid value encountered in long_scalars\n",
      "  rate[k][f'ACC-P{i}-k{k}'] = group_true_positive.sum(\n",
      "/home/asem/GP/ICE-NODE/notebooks/../icenode/metric/stat.py:215: RuntimeWarning: invalid value encountered in long_scalars\n",
      "  rate[k][f'ACC-P{i}-k{k}'] = group_true_positive.sum(\n",
      "100%|█████████████████████████████████████████████████████████████████████████████████████████████████████████████████████████| 60/60 [01:40<00:00,  1.68s/it]\n"
     ]
    }
   ],
   "source": [
    "## TODO: This can take up to (xx), trained model already exist in (yy).\n",
    "cprd_trained_icenode_uni = T.train(cprd_models['ICE-NODE_UNIFORM'], config=model_config['ICE-NODE_UNIFORM'], \n",
    "                                 splits=cprd_splits, code_groups=cprd_train_percentiles,\n",
    "                                 reporters=cprd_reporters['ICE-NODE_UNIFORM'])\n"
   ]
  },
  {
   "cell_type": "markdown",
   "id": "083317e8",
   "metadata": {},
   "source": [
    "#### GRU"
   ]
  },
  {
   "cell_type": "code",
   "execution_count": 14,
   "id": "72be64a0",
   "metadata": {},
   "outputs": [
    {
     "name": "stderr",
     "output_type": "stream",
     "text": [
      "  0%|                                                                                                                                  | 0/60 [00:00<?, ?it/s]/home/asem/GP/env/icenode-dev/lib/python3.8/site-packages/haiku/_src/data_structures.py:144: FutureWarning: jax.tree_flatten is deprecated, and will be removed in a future release. Use jax.tree_util.tree_flatten instead.\n",
      "  leaves, treedef = jax.tree_flatten(tree)\n",
      "/home/asem/GP/env/icenode-dev/lib/python3.8/site-packages/haiku/_src/data_structures.py:145: FutureWarning: jax.tree_unflatten is deprecated, and will be removed in a future release. Use jax.tree_util.tree_unflatten instead.\n",
      "  return jax.tree_unflatten(treedef, leaves)\n",
      "/home/asem/GP/env/icenode-dev/lib/python3.8/site-packages/haiku/_src/data_structures.py:144: FutureWarning: jax.tree_flatten is deprecated, and will be removed in a future release. Use jax.tree_util.tree_flatten instead.\n",
      "  leaves, treedef = jax.tree_flatten(tree)\n",
      "/home/asem/GP/env/icenode-dev/lib/python3.8/site-packages/haiku/_src/data_structures.py:145: FutureWarning: jax.tree_unflatten is deprecated, and will be removed in a future release. Use jax.tree_util.tree_unflatten instead.\n",
      "  return jax.tree_unflatten(treedef, leaves)\n",
      "/home/asem/GP/ICE-NODE/notebooks/../icenode/metric/stat.py:215: RuntimeWarning: invalid value encountered in long_scalars\n",
      "  rate[k][f'ACC-P{i}-k{k}'] = group_true_positive.sum(\n",
      "  2%|██                                                                                                                        | 1/60 [00:04<04:50,  4.93s/it]/home/asem/GP/ICE-NODE/notebooks/../icenode/metric/stat.py:215: RuntimeWarning: invalid value encountered in long_scalars\n",
      "  rate[k][f'ACC-P{i}-k{k}'] = group_true_positive.sum(\n",
      "  3%|████                                                                                                                      | 2/60 [00:05<02:11,  2.27s/it]/home/asem/GP/ICE-NODE/notebooks/../icenode/metric/stat.py:215: RuntimeWarning: invalid value encountered in long_scalars\n",
      "  rate[k][f'ACC-P{i}-k{k}'] = group_true_positive.sum(\n",
      "  5%|██████                                                                                                                    | 3/60 [00:05<01:19,  1.40s/it]/home/asem/GP/ICE-NODE/notebooks/../icenode/metric/stat.py:215: RuntimeWarning: invalid value encountered in long_scalars\n",
      "  rate[k][f'ACC-P{i}-k{k}'] = group_true_positive.sum(\n",
      "  7%|████████▏                                                                                                                 | 4/60 [00:06<00:54,  1.02it/s]/home/asem/GP/ICE-NODE/notebooks/../icenode/metric/stat.py:215: RuntimeWarning: invalid value encountered in long_scalars\n",
      "  rate[k][f'ACC-P{i}-k{k}'] = group_true_positive.sum(\n",
      "  8%|██████████▏                                                                                                               | 5/60 [00:06<00:41,  1.34it/s]/home/asem/GP/ICE-NODE/notebooks/../icenode/metric/stat.py:215: RuntimeWarning: invalid value encountered in long_scalars\n",
      "  rate[k][f'ACC-P{i}-k{k}'] = group_true_positive.sum(\n",
      " 10%|████████████▏                                                                                                             | 6/60 [00:06<00:33,  1.63it/s]/home/asem/GP/ICE-NODE/notebooks/../icenode/metric/stat.py:215: RuntimeWarning: invalid value encountered in long_scalars\n",
      "  rate[k][f'ACC-P{i}-k{k}'] = group_true_positive.sum(\n",
      " 12%|██████████████▏                                                                                                           | 7/60 [00:07<00:27,  1.90it/s]/home/asem/GP/ICE-NODE/notebooks/../icenode/metric/stat.py:215: RuntimeWarning: invalid value encountered in long_scalars\n",
      "  rate[k][f'ACC-P{i}-k{k}'] = group_true_positive.sum(\n",
      " 13%|████████████████▎                                                                                                         | 8/60 [00:07<00:24,  2.14it/s]/home/asem/GP/ICE-NODE/notebooks/../icenode/metric/stat.py:215: RuntimeWarning: invalid value encountered in long_scalars\n",
      "  rate[k][f'ACC-P{i}-k{k}'] = group_true_positive.sum(\n",
      " 15%|██████████████████▎                                                                                                       | 9/60 [00:07<00:21,  2.34it/s]/home/asem/GP/ICE-NODE/notebooks/../icenode/metric/stat.py:215: RuntimeWarning: invalid value encountered in long_scalars\n",
      "  rate[k][f'ACC-P{i}-k{k}'] = group_true_positive.sum(\n",
      " 17%|████████████████████▏                                                                                                    | 10/60 [00:08<00:20,  2.47it/s]/home/asem/GP/ICE-NODE/notebooks/../icenode/metric/stat.py:215: RuntimeWarning: invalid value encountered in long_scalars\n",
      "  rate[k][f'ACC-P{i}-k{k}'] = group_true_positive.sum(\n",
      " 18%|██████████████████████▏                                                                                                  | 11/60 [00:08<00:18,  2.62it/s]/home/asem/GP/ICE-NODE/notebooks/../icenode/metric/stat.py:215: RuntimeWarning: invalid value encountered in long_scalars\n",
      "  rate[k][f'ACC-P{i}-k{k}'] = group_true_positive.sum(\n",
      " 20%|████████████████████████▏                                                                                                | 12/60 [00:08<00:17,  2.67it/s]/home/asem/GP/ICE-NODE/notebooks/../icenode/metric/stat.py:215: RuntimeWarning: invalid value encountered in long_scalars\n",
      "  rate[k][f'ACC-P{i}-k{k}'] = group_true_positive.sum(\n",
      " 22%|██████████████████████████▏                                                                                              | 13/60 [00:09<00:17,  2.76it/s]/home/asem/GP/ICE-NODE/notebooks/../icenode/metric/stat.py:215: RuntimeWarning: invalid value encountered in long_scalars\n",
      "  rate[k][f'ACC-P{i}-k{k}'] = group_true_positive.sum(\n",
      " 23%|████████████████████████████▏                                                                                            | 14/60 [00:09<00:16,  2.83it/s]/home/asem/GP/ICE-NODE/notebooks/../icenode/metric/stat.py:215: RuntimeWarning: invalid value encountered in long_scalars\n",
      "  rate[k][f'ACC-P{i}-k{k}'] = group_true_positive.sum(\n",
      " 25%|██████████████████████████████▎                                                                                          | 15/60 [00:09<00:15,  2.87it/s]/home/asem/GP/ICE-NODE/notebooks/../icenode/metric/stat.py:215: RuntimeWarning: invalid value encountered in long_scalars\n",
      "  rate[k][f'ACC-P{i}-k{k}'] = group_true_positive.sum(\n",
      " 27%|████████████████████████████████▎                                                                                        | 16/60 [00:10<00:15,  2.91it/s]/home/asem/GP/ICE-NODE/notebooks/../icenode/metric/stat.py:215: RuntimeWarning: invalid value encountered in long_scalars\n",
      "  rate[k][f'ACC-P{i}-k{k}'] = group_true_positive.sum(\n",
      " 28%|██████████████████████████████████▎                                                                                      | 17/60 [00:10<00:14,  2.98it/s]/home/asem/GP/ICE-NODE/notebooks/../icenode/metric/stat.py:215: RuntimeWarning: invalid value encountered in long_scalars\n",
      "  rate[k][f'ACC-P{i}-k{k}'] = group_true_positive.sum(\n",
      " 30%|████████████████████████████████████▎                                                                                    | 18/60 [00:10<00:13,  3.01it/s]/home/asem/GP/ICE-NODE/notebooks/../icenode/metric/stat.py:215: RuntimeWarning: invalid value encountered in long_scalars\n",
      "  rate[k][f'ACC-P{i}-k{k}'] = group_true_positive.sum(\n",
      " 32%|██████████████████████████████████████▎                                                                                  | 19/60 [00:11<00:14,  2.92it/s]/home/asem/GP/ICE-NODE/notebooks/../icenode/metric/stat.py:215: RuntimeWarning: invalid value encountered in long_scalars\n",
      "  rate[k][f'ACC-P{i}-k{k}'] = group_true_positive.sum(\n",
      " 33%|████████████████████████████████████████▎                                                                                | 20/60 [00:11<00:13,  2.88it/s]/home/asem/GP/ICE-NODE/notebooks/../icenode/metric/stat.py:215: RuntimeWarning: invalid value encountered in long_scalars\n",
      "  rate[k][f'ACC-P{i}-k{k}'] = group_true_positive.sum(\n"
     ]
    },
    {
     "name": "stderr",
     "output_type": "stream",
     "text": [
      " 35%|██████████████████████████████████████████▎                                                                              | 21/60 [00:11<00:13,  2.90it/s]/home/asem/GP/ICE-NODE/notebooks/../icenode/metric/stat.py:215: RuntimeWarning: invalid value encountered in long_scalars\n",
      "  rate[k][f'ACC-P{i}-k{k}'] = group_true_positive.sum(\n",
      " 37%|████████████████████████████████████████████▎                                                                            | 22/60 [00:12<00:12,  2.92it/s]/home/asem/GP/ICE-NODE/notebooks/../icenode/metric/stat.py:215: RuntimeWarning: invalid value encountered in long_scalars\n",
      "  rate[k][f'ACC-P{i}-k{k}'] = group_true_positive.sum(\n",
      " 38%|██████████████████████████████████████████████▍                                                                          | 23/60 [00:12<00:12,  2.91it/s]/home/asem/GP/ICE-NODE/notebooks/../icenode/metric/stat.py:215: RuntimeWarning: invalid value encountered in long_scalars\n",
      "  rate[k][f'ACC-P{i}-k{k}'] = group_true_positive.sum(\n",
      " 40%|████████████████████████████████████████████████▍                                                                        | 24/60 [00:12<00:12,  2.93it/s]/home/asem/GP/ICE-NODE/notebooks/../icenode/metric/stat.py:215: RuntimeWarning: invalid value encountered in long_scalars\n",
      "  rate[k][f'ACC-P{i}-k{k}'] = group_true_positive.sum(\n",
      " 42%|██████████████████████████████████████████████████▍                                                                      | 25/60 [00:13<00:12,  2.81it/s]/home/asem/GP/ICE-NODE/notebooks/../icenode/metric/stat.py:215: RuntimeWarning: invalid value encountered in long_scalars\n",
      "  rate[k][f'ACC-P{i}-k{k}'] = group_true_positive.sum(\n",
      " 43%|████████████████████████████████████████████████████▍                                                                    | 26/60 [00:13<00:11,  2.84it/s]/home/asem/GP/ICE-NODE/notebooks/../icenode/metric/stat.py:215: RuntimeWarning: invalid value encountered in long_scalars\n",
      "  rate[k][f'ACC-P{i}-k{k}'] = group_true_positive.sum(\n",
      " 45%|██████████████████████████████████████████████████████▍                                                                  | 27/60 [00:13<00:11,  2.84it/s]/home/asem/GP/ICE-NODE/notebooks/../icenode/metric/stat.py:215: RuntimeWarning: invalid value encountered in long_scalars\n",
      "  rate[k][f'ACC-P{i}-k{k}'] = group_true_positive.sum(\n",
      " 47%|████████████████████████████████████████████████████████▍                                                                | 28/60 [00:14<00:11,  2.86it/s]/home/asem/GP/ICE-NODE/notebooks/../icenode/metric/stat.py:215: RuntimeWarning: invalid value encountered in long_scalars\n",
      "  rate[k][f'ACC-P{i}-k{k}'] = group_true_positive.sum(\n",
      " 48%|██████████████████████████████████████████████████████████▍                                                              | 29/60 [00:14<00:11,  2.81it/s]/home/asem/GP/ICE-NODE/notebooks/../icenode/metric/stat.py:215: RuntimeWarning: invalid value encountered in long_scalars\n",
      "  rate[k][f'ACC-P{i}-k{k}'] = group_true_positive.sum(\n",
      " 50%|████████████████████████████████████████████████████████████▌                                                            | 30/60 [00:15<00:10,  2.83it/s]/home/asem/GP/ICE-NODE/notebooks/../icenode/metric/stat.py:215: RuntimeWarning: invalid value encountered in long_scalars\n",
      "  rate[k][f'ACC-P{i}-k{k}'] = group_true_positive.sum(\n",
      " 52%|██████████████████████████████████████████████████████████████▌                                                          | 31/60 [00:15<00:10,  2.84it/s]/home/asem/GP/ICE-NODE/notebooks/../icenode/metric/stat.py:215: RuntimeWarning: invalid value encountered in long_scalars\n",
      "  rate[k][f'ACC-P{i}-k{k}'] = group_true_positive.sum(\n",
      " 53%|████████████████████████████████████████████████████████████████▌                                                        | 32/60 [00:15<00:09,  2.91it/s]/home/asem/GP/ICE-NODE/notebooks/../icenode/metric/stat.py:215: RuntimeWarning: invalid value encountered in long_scalars\n",
      "  rate[k][f'ACC-P{i}-k{k}'] = group_true_positive.sum(\n",
      " 55%|██████████████████████████████████████████████████████████████████▌                                                      | 33/60 [00:16<00:09,  2.92it/s]/home/asem/GP/ICE-NODE/notebooks/../icenode/metric/stat.py:215: RuntimeWarning: invalid value encountered in long_scalars\n",
      "  rate[k][f'ACC-P{i}-k{k}'] = group_true_positive.sum(\n",
      " 57%|████████████████████████████████████████████████████████████████████▌                                                    | 34/60 [00:16<00:08,  2.95it/s]/home/asem/GP/ICE-NODE/notebooks/../icenode/metric/stat.py:215: RuntimeWarning: invalid value encountered in long_scalars\n",
      "  rate[k][f'ACC-P{i}-k{k}'] = group_true_positive.sum(\n",
      " 58%|██████████████████████████████████████████████████████████████████████▌                                                  | 35/60 [00:16<00:08,  2.99it/s]/home/asem/GP/ICE-NODE/notebooks/../icenode/metric/stat.py:215: RuntimeWarning: invalid value encountered in long_scalars\n",
      "  rate[k][f'ACC-P{i}-k{k}'] = group_true_positive.sum(\n",
      " 60%|████████████████████████████████████████████████████████████████████████▌                                                | 36/60 [00:17<00:08,  2.98it/s]/home/asem/GP/ICE-NODE/notebooks/../icenode/metric/stat.py:215: RuntimeWarning: invalid value encountered in long_scalars\n",
      "  rate[k][f'ACC-P{i}-k{k}'] = group_true_positive.sum(\n",
      " 62%|██████████████████████████████████████████████████████████████████████████▌                                              | 37/60 [00:17<00:07,  3.00it/s]/home/asem/GP/ICE-NODE/notebooks/../icenode/metric/stat.py:215: RuntimeWarning: invalid value encountered in long_scalars\n",
      "  rate[k][f'ACC-P{i}-k{k}'] = group_true_positive.sum(\n",
      " 63%|████████████████████████████████████████████████████████████████████████████▋                                            | 38/60 [00:17<00:07,  2.98it/s]/home/asem/GP/ICE-NODE/notebooks/../icenode/metric/stat.py:215: RuntimeWarning: invalid value encountered in long_scalars\n",
      "  rate[k][f'ACC-P{i}-k{k}'] = group_true_positive.sum(\n",
      " 65%|██████████████████████████████████████████████████████████████████████████████▋                                          | 39/60 [00:18<00:07,  2.95it/s]/home/asem/GP/ICE-NODE/notebooks/../icenode/metric/stat.py:215: RuntimeWarning: invalid value encountered in long_scalars\n",
      "  rate[k][f'ACC-P{i}-k{k}'] = group_true_positive.sum(\n",
      " 67%|████████████████████████████████████████████████████████████████████████████████▋                                        | 40/60 [00:18<00:06,  2.96it/s]/home/asem/GP/ICE-NODE/notebooks/../icenode/metric/stat.py:215: RuntimeWarning: invalid value encountered in long_scalars\n",
      "  rate[k][f'ACC-P{i}-k{k}'] = group_true_positive.sum(\n",
      " 68%|██████████████████████████████████████████████████████████████████████████████████▋                                      | 41/60 [00:18<00:06,  2.95it/s]/home/asem/GP/ICE-NODE/notebooks/../icenode/metric/stat.py:215: RuntimeWarning: invalid value encountered in long_scalars\n",
      "  rate[k][f'ACC-P{i}-k{k}'] = group_true_positive.sum(\n",
      " 70%|████████████████████████████████████████████████████████████████████████████████████▋                                    | 42/60 [00:19<00:06,  2.91it/s]/home/asem/GP/ICE-NODE/notebooks/../icenode/metric/stat.py:215: RuntimeWarning: invalid value encountered in long_scalars\n",
      "  rate[k][f'ACC-P{i}-k{k}'] = group_true_positive.sum(\n",
      " 72%|██████████████████████████████████████████████████████████████████████████████████████▋                                  | 43/60 [00:19<00:05,  2.85it/s]/home/asem/GP/ICE-NODE/notebooks/../icenode/metric/stat.py:215: RuntimeWarning: invalid value encountered in long_scalars\n",
      "  rate[k][f'ACC-P{i}-k{k}'] = group_true_positive.sum(\n",
      " 73%|████████████████████████████████████████████████████████████████████████████████████████▋                                | 44/60 [00:19<00:05,  2.85it/s]/home/asem/GP/ICE-NODE/notebooks/../icenode/metric/stat.py:215: RuntimeWarning: invalid value encountered in long_scalars\n",
      "  rate[k][f'ACC-P{i}-k{k}'] = group_true_positive.sum(\n"
     ]
    },
    {
     "name": "stderr",
     "output_type": "stream",
     "text": [
      " 75%|██████████████████████████████████████████████████████████████████████████████████████████▊                              | 45/60 [00:20<00:05,  2.92it/s]/home/asem/GP/ICE-NODE/notebooks/../icenode/metric/stat.py:215: RuntimeWarning: invalid value encountered in long_scalars\n",
      "  rate[k][f'ACC-P{i}-k{k}'] = group_true_positive.sum(\n",
      " 77%|████████████████████████████████████████████████████████████████████████████████████████████▊                            | 46/60 [00:20<00:04,  2.86it/s]/home/asem/GP/ICE-NODE/notebooks/../icenode/metric/stat.py:215: RuntimeWarning: invalid value encountered in long_scalars\n",
      "  rate[k][f'ACC-P{i}-k{k}'] = group_true_positive.sum(\n",
      " 78%|██████████████████████████████████████████████████████████████████████████████████████████████▊                          | 47/60 [00:20<00:04,  2.92it/s]/home/asem/GP/ICE-NODE/notebooks/../icenode/metric/stat.py:215: RuntimeWarning: invalid value encountered in long_scalars\n",
      "  rate[k][f'ACC-P{i}-k{k}'] = group_true_positive.sum(\n",
      " 80%|████████████████████████████████████████████████████████████████████████████████████████████████▊                        | 48/60 [00:21<00:04,  2.93it/s]/home/asem/GP/ICE-NODE/notebooks/../icenode/metric/stat.py:215: RuntimeWarning: invalid value encountered in long_scalars\n",
      "  rate[k][f'ACC-P{i}-k{k}'] = group_true_positive.sum(\n",
      " 82%|██████████████████████████████████████████████████████████████████████████████████████████████████▊                      | 49/60 [00:21<00:03,  2.94it/s]/home/asem/GP/ICE-NODE/notebooks/../icenode/metric/stat.py:215: RuntimeWarning: invalid value encountered in long_scalars\n",
      "  rate[k][f'ACC-P{i}-k{k}'] = group_true_positive.sum(\n",
      " 83%|████████████████████████████████████████████████████████████████████████████████████████████████████▊                    | 50/60 [00:21<00:03,  2.96it/s]/home/asem/GP/ICE-NODE/notebooks/../icenode/metric/stat.py:215: RuntimeWarning: invalid value encountered in long_scalars\n",
      "  rate[k][f'ACC-P{i}-k{k}'] = group_true_positive.sum(\n",
      " 85%|██████████████████████████████████████████████████████████████████████████████████████████████████████▊                  | 51/60 [00:22<00:03,  2.95it/s]/home/asem/GP/ICE-NODE/notebooks/../icenode/metric/stat.py:215: RuntimeWarning: invalid value encountered in long_scalars\n",
      "  rate[k][f'ACC-P{i}-k{k}'] = group_true_positive.sum(\n",
      " 87%|████████████████████████████████████████████████████████████████████████████████████████████████████████▊                | 52/60 [00:22<00:02,  2.93it/s]/home/asem/GP/ICE-NODE/notebooks/../icenode/metric/stat.py:215: RuntimeWarning: invalid value encountered in long_scalars\n",
      "  rate[k][f'ACC-P{i}-k{k}'] = group_true_positive.sum(\n",
      " 88%|██████████████████████████████████████████████████████████████████████████████████████████████████████████▉              | 53/60 [00:22<00:02,  2.84it/s]/home/asem/GP/ICE-NODE/notebooks/../icenode/metric/stat.py:215: RuntimeWarning: invalid value encountered in long_scalars\n",
      "  rate[k][f'ACC-P{i}-k{k}'] = group_true_positive.sum(\n",
      " 90%|████████████████████████████████████████████████████████████████████████████████████████████████████████████▉            | 54/60 [00:23<00:02,  2.89it/s]/home/asem/GP/ICE-NODE/notebooks/../icenode/metric/stat.py:215: RuntimeWarning: invalid value encountered in long_scalars\n",
      "  rate[k][f'ACC-P{i}-k{k}'] = group_true_positive.sum(\n",
      " 92%|██████████████████████████████████████████████████████████████████████████████████████████████████████████████▉          | 55/60 [00:23<00:01,  2.85it/s]/home/asem/GP/ICE-NODE/notebooks/../icenode/metric/stat.py:215: RuntimeWarning: invalid value encountered in long_scalars\n",
      "  rate[k][f'ACC-P{i}-k{k}'] = group_true_positive.sum(\n",
      " 93%|████████████████████████████████████████████████████████████████████████████████████████████████████████████████▉        | 56/60 [00:23<00:01,  2.84it/s]/home/asem/GP/ICE-NODE/notebooks/../icenode/metric/stat.py:215: RuntimeWarning: invalid value encountered in long_scalars\n",
      "  rate[k][f'ACC-P{i}-k{k}'] = group_true_positive.sum(\n",
      " 95%|██████████████████████████████████████████████████████████████████████████████████████████████████████████████████▉      | 57/60 [00:24<00:01,  2.89it/s]/home/asem/GP/ICE-NODE/notebooks/../icenode/metric/stat.py:215: RuntimeWarning: invalid value encountered in long_scalars\n",
      "  rate[k][f'ACC-P{i}-k{k}'] = group_true_positive.sum(\n",
      " 97%|████████████████████████████████████████████████████████████████████████████████████████████████████████████████████▉    | 58/60 [00:24<00:00,  2.91it/s]/home/asem/GP/ICE-NODE/notebooks/../icenode/metric/stat.py:215: RuntimeWarning: invalid value encountered in long_scalars\n",
      "  rate[k][f'ACC-P{i}-k{k}'] = group_true_positive.sum(\n",
      " 98%|██████████████████████████████████████████████████████████████████████████████████████████████████████████████████████▉  | 59/60 [00:24<00:00,  2.97it/s]/home/asem/GP/ICE-NODE/notebooks/../icenode/metric/stat.py:215: RuntimeWarning: invalid value encountered in long_scalars\n",
      "  rate[k][f'ACC-P{i}-k{k}'] = group_true_positive.sum(\n",
      "/home/asem/GP/ICE-NODE/notebooks/../icenode/metric/stat.py:215: RuntimeWarning: invalid value encountered in long_scalars\n",
      "  rate[k][f'ACC-P{i}-k{k}'] = group_true_positive.sum(\n",
      "100%|█████████████████████████████████████████████████████████████████████████████████████████████████████████████████████████| 60/60 [00:25<00:00,  2.37it/s]\n"
     ]
    }
   ],
   "source": [
    "## TODO: This can take up to (xx), trained model already exist in (yy).\n",
    "cprd_trained_gru = T.train(cprd_models['GRU'], config=model_config['GRU'], \n",
    "                         splits=cprd_splits, code_groups=cprd_train_percentiles,\n",
    "                         reporters=cprd_reporters['GRU'])"
   ]
  },
  {
   "cell_type": "markdown",
   "id": "78ad24c2",
   "metadata": {},
   "source": [
    "#### RETAIN"
   ]
  },
  {
   "cell_type": "code",
   "execution_count": 15,
   "id": "72f0b60c",
   "metadata": {},
   "outputs": [
    {
     "name": "stderr",
     "output_type": "stream",
     "text": [
      "  0%|                                                                                                                                  | 0/60 [00:00<?, ?it/s]/home/asem/GP/env/icenode-dev/lib/python3.8/site-packages/haiku/_src/data_structures.py:144: FutureWarning: jax.tree_flatten is deprecated, and will be removed in a future release. Use jax.tree_util.tree_flatten instead.\n",
      "  leaves, treedef = jax.tree_flatten(tree)\n",
      "/home/asem/GP/env/icenode-dev/lib/python3.8/site-packages/haiku/_src/data_structures.py:145: FutureWarning: jax.tree_unflatten is deprecated, and will be removed in a future release. Use jax.tree_util.tree_unflatten instead.\n",
      "  return jax.tree_unflatten(treedef, leaves)\n",
      "/home/asem/GP/env/icenode-dev/lib/python3.8/site-packages/haiku/_src/data_structures.py:144: FutureWarning: jax.tree_flatten is deprecated, and will be removed in a future release. Use jax.tree_util.tree_flatten instead.\n",
      "  leaves, treedef = jax.tree_flatten(tree)\n",
      "/home/asem/GP/env/icenode-dev/lib/python3.8/site-packages/haiku/_src/data_structures.py:145: FutureWarning: jax.tree_unflatten is deprecated, and will be removed in a future release. Use jax.tree_util.tree_unflatten instead.\n",
      "  return jax.tree_unflatten(treedef, leaves)\n",
      "/home/asem/GP/ICE-NODE/notebooks/../icenode/metric/stat.py:215: RuntimeWarning: invalid value encountered in long_scalars\n",
      "  rate[k][f'ACC-P{i}-k{k}'] = group_true_positive.sum(\n",
      "  2%|██                                                                                                                        | 1/60 [00:10<10:22, 10.54s/it]/home/asem/GP/ICE-NODE/notebooks/../icenode/metric/stat.py:215: RuntimeWarning: invalid value encountered in long_scalars\n",
      "  rate[k][f'ACC-P{i}-k{k}'] = group_true_positive.sum(\n",
      "  3%|████                                                                                                                      | 2/60 [00:11<04:30,  4.66s/it]/home/asem/GP/ICE-NODE/notebooks/../icenode/metric/stat.py:215: RuntimeWarning: invalid value encountered in long_scalars\n",
      "  rate[k][f'ACC-P{i}-k{k}'] = group_true_positive.sum(\n",
      "  5%|██████                                                                                                                    | 3/60 [00:11<02:37,  2.76s/it]/home/asem/GP/ICE-NODE/notebooks/../icenode/metric/stat.py:215: RuntimeWarning: invalid value encountered in long_scalars\n",
      "  rate[k][f'ACC-P{i}-k{k}'] = group_true_positive.sum(\n",
      "  7%|████████▏                                                                                                                 | 4/60 [00:12<01:44,  1.87s/it]/home/asem/GP/ICE-NODE/notebooks/../icenode/metric/stat.py:215: RuntimeWarning: invalid value encountered in long_scalars\n",
      "  rate[k][f'ACC-P{i}-k{k}'] = group_true_positive.sum(\n",
      "  8%|██████████▏                                                                                                               | 5/60 [00:12<01:16,  1.39s/it]/home/asem/GP/ICE-NODE/notebooks/../icenode/metric/stat.py:215: RuntimeWarning: invalid value encountered in long_scalars\n",
      "  rate[k][f'ACC-P{i}-k{k}'] = group_true_positive.sum(\n",
      " 10%|████████████▏                                                                                                             | 6/60 [00:13<00:59,  1.10s/it]/home/asem/GP/ICE-NODE/notebooks/../icenode/metric/stat.py:215: RuntimeWarning: invalid value encountered in long_scalars\n",
      "  rate[k][f'ACC-P{i}-k{k}'] = group_true_positive.sum(\n",
      " 12%|██████████████▏                                                                                                           | 7/60 [00:13<00:49,  1.08it/s]/home/asem/GP/ICE-NODE/notebooks/../icenode/metric/stat.py:215: RuntimeWarning: invalid value encountered in long_scalars\n",
      "  rate[k][f'ACC-P{i}-k{k}'] = group_true_positive.sum(\n",
      " 13%|████████████████▎                                                                                                         | 8/60 [00:14<00:41,  1.25it/s]/home/asem/GP/ICE-NODE/notebooks/../icenode/metric/stat.py:215: RuntimeWarning: invalid value encountered in long_scalars\n",
      "  rate[k][f'ACC-P{i}-k{k}'] = group_true_positive.sum(\n",
      " 15%|██████████████████▎                                                                                                       | 9/60 [00:14<00:36,  1.40it/s]/home/asem/GP/ICE-NODE/notebooks/../icenode/metric/stat.py:215: RuntimeWarning: invalid value encountered in long_scalars\n",
      "  rate[k][f'ACC-P{i}-k{k}'] = group_true_positive.sum(\n",
      " 17%|████████████████████▏                                                                                                    | 10/60 [00:15<00:32,  1.53it/s]/home/asem/GP/ICE-NODE/notebooks/../icenode/metric/stat.py:215: RuntimeWarning: invalid value encountered in long_scalars\n",
      "  rate[k][f'ACC-P{i}-k{k}'] = group_true_positive.sum(\n",
      " 18%|██████████████████████▏                                                                                                  | 11/60 [00:15<00:29,  1.64it/s]/home/asem/GP/ICE-NODE/notebooks/../icenode/metric/stat.py:215: RuntimeWarning: invalid value encountered in long_scalars\n",
      "  rate[k][f'ACC-P{i}-k{k}'] = group_true_positive.sum(\n",
      " 20%|████████████████████████▏                                                                                                | 12/60 [00:16<00:28,  1.68it/s]/home/asem/GP/ICE-NODE/notebooks/../icenode/metric/stat.py:215: RuntimeWarning: invalid value encountered in long_scalars\n",
      "  rate[k][f'ACC-P{i}-k{k}'] = group_true_positive.sum(\n",
      " 22%|██████████████████████████▏                                                                                              | 13/60 [00:16<00:27,  1.71it/s]/home/asem/GP/ICE-NODE/notebooks/../icenode/metric/stat.py:215: RuntimeWarning: invalid value encountered in long_scalars\n",
      "  rate[k][f'ACC-P{i}-k{k}'] = group_true_positive.sum(\n",
      " 23%|████████████████████████████▏                                                                                            | 14/60 [00:17<00:25,  1.80it/s]/home/asem/GP/ICE-NODE/notebooks/../icenode/metric/stat.py:215: RuntimeWarning: invalid value encountered in long_scalars\n",
      "  rate[k][f'ACC-P{i}-k{k}'] = group_true_positive.sum(\n",
      " 25%|██████████████████████████████▎                                                                                          | 15/60 [00:17<00:24,  1.80it/s]/home/asem/GP/ICE-NODE/notebooks/../icenode/metric/stat.py:215: RuntimeWarning: invalid value encountered in long_scalars\n",
      "  rate[k][f'ACC-P{i}-k{k}'] = group_true_positive.sum(\n",
      " 27%|████████████████████████████████▎                                                                                        | 16/60 [00:18<00:23,  1.84it/s]/home/asem/GP/ICE-NODE/notebooks/../icenode/metric/stat.py:215: RuntimeWarning: invalid value encountered in long_scalars\n",
      "  rate[k][f'ACC-P{i}-k{k}'] = group_true_positive.sum(\n",
      " 28%|██████████████████████████████████▎                                                                                      | 17/60 [00:19<00:23,  1.86it/s]/home/asem/GP/ICE-NODE/notebooks/../icenode/metric/stat.py:215: RuntimeWarning: invalid value encountered in long_scalars\n",
      "  rate[k][f'ACC-P{i}-k{k}'] = group_true_positive.sum(\n",
      " 30%|████████████████████████████████████▎                                                                                    | 18/60 [00:19<00:21,  1.92it/s]/home/asem/GP/ICE-NODE/notebooks/../icenode/metric/stat.py:215: RuntimeWarning: invalid value encountered in long_scalars\n",
      "  rate[k][f'ACC-P{i}-k{k}'] = group_true_positive.sum(\n",
      " 32%|██████████████████████████████████████▎                                                                                  | 19/60 [00:20<00:21,  1.91it/s]/home/asem/GP/ICE-NODE/notebooks/../icenode/metric/stat.py:215: RuntimeWarning: invalid value encountered in long_scalars\n",
      "  rate[k][f'ACC-P{i}-k{k}'] = group_true_positive.sum(\n",
      " 33%|████████████████████████████████████████▎                                                                                | 20/60 [00:20<00:24,  1.66it/s]/home/asem/GP/ICE-NODE/notebooks/../icenode/metric/stat.py:215: RuntimeWarning: invalid value encountered in long_scalars\n",
      "  rate[k][f'ACC-P{i}-k{k}'] = group_true_positive.sum(\n"
     ]
    },
    {
     "name": "stderr",
     "output_type": "stream",
     "text": [
      " 35%|██████████████████████████████████████████▎                                                                              | 21/60 [00:21<00:22,  1.70it/s]/home/asem/GP/ICE-NODE/notebooks/../icenode/metric/stat.py:215: RuntimeWarning: invalid value encountered in long_scalars\n",
      "  rate[k][f'ACC-P{i}-k{k}'] = group_true_positive.sum(\n",
      " 37%|████████████████████████████████████████████▎                                                                            | 22/60 [00:21<00:22,  1.72it/s]/home/asem/GP/ICE-NODE/notebooks/../icenode/metric/stat.py:215: RuntimeWarning: invalid value encountered in long_scalars\n",
      "  rate[k][f'ACC-P{i}-k{k}'] = group_true_positive.sum(\n",
      " 38%|██████████████████████████████████████████████▍                                                                          | 23/60 [00:22<00:20,  1.80it/s]/home/asem/GP/ICE-NODE/notebooks/../icenode/metric/stat.py:215: RuntimeWarning: invalid value encountered in long_scalars\n",
      "  rate[k][f'ACC-P{i}-k{k}'] = group_true_positive.sum(\n",
      " 40%|████████████████████████████████████████████████▍                                                                        | 24/60 [00:22<00:19,  1.81it/s]/home/asem/GP/ICE-NODE/notebooks/../icenode/metric/stat.py:215: RuntimeWarning: invalid value encountered in long_scalars\n",
      "  rate[k][f'ACC-P{i}-k{k}'] = group_true_positive.sum(\n",
      " 42%|██████████████████████████████████████████████████▍                                                                      | 25/60 [00:23<00:19,  1.80it/s]/home/asem/GP/ICE-NODE/notebooks/../icenode/metric/stat.py:215: RuntimeWarning: invalid value encountered in long_scalars\n",
      "  rate[k][f'ACC-P{i}-k{k}'] = group_true_positive.sum(\n",
      " 43%|████████████████████████████████████████████████████▍                                                                    | 26/60 [00:24<00:18,  1.86it/s]/home/asem/GP/ICE-NODE/notebooks/../icenode/metric/stat.py:215: RuntimeWarning: invalid value encountered in long_scalars\n",
      "  rate[k][f'ACC-P{i}-k{k}'] = group_true_positive.sum(\n",
      " 45%|██████████████████████████████████████████████████████▍                                                                  | 27/60 [00:24<00:17,  1.87it/s]/home/asem/GP/ICE-NODE/notebooks/../icenode/metric/stat.py:215: RuntimeWarning: invalid value encountered in long_scalars\n",
      "  rate[k][f'ACC-P{i}-k{k}'] = group_true_positive.sum(\n",
      " 47%|████████████████████████████████████████████████████████▍                                                                | 28/60 [00:25<00:16,  1.89it/s]/home/asem/GP/ICE-NODE/notebooks/../icenode/metric/stat.py:215: RuntimeWarning: invalid value encountered in long_scalars\n",
      "  rate[k][f'ACC-P{i}-k{k}'] = group_true_positive.sum(\n",
      " 48%|██████████████████████████████████████████████████████████▍                                                              | 29/60 [00:25<00:16,  1.90it/s]/home/asem/GP/ICE-NODE/notebooks/../icenode/metric/stat.py:215: RuntimeWarning: invalid value encountered in long_scalars\n",
      "  rate[k][f'ACC-P{i}-k{k}'] = group_true_positive.sum(\n",
      " 50%|████████████████████████████████████████████████████████████▌                                                            | 30/60 [00:26<00:15,  1.89it/s]/home/asem/GP/ICE-NODE/notebooks/../icenode/metric/stat.py:215: RuntimeWarning: invalid value encountered in long_scalars\n",
      "  rate[k][f'ACC-P{i}-k{k}'] = group_true_positive.sum(\n",
      " 52%|██████████████████████████████████████████████████████████████▌                                                          | 31/60 [00:26<00:15,  1.87it/s]/home/asem/GP/ICE-NODE/notebooks/../icenode/metric/stat.py:215: RuntimeWarning: invalid value encountered in long_scalars\n",
      "  rate[k][f'ACC-P{i}-k{k}'] = group_true_positive.sum(\n",
      " 53%|████████████████████████████████████████████████████████████████▌                                                        | 32/60 [00:27<00:15,  1.85it/s]/home/asem/GP/ICE-NODE/notebooks/../icenode/metric/stat.py:215: RuntimeWarning: invalid value encountered in long_scalars\n",
      "  rate[k][f'ACC-P{i}-k{k}'] = group_true_positive.sum(\n",
      " 55%|██████████████████████████████████████████████████████████████████▌                                                      | 33/60 [00:27<00:14,  1.86it/s]/home/asem/GP/ICE-NODE/notebooks/../icenode/metric/stat.py:215: RuntimeWarning: invalid value encountered in long_scalars\n",
      "  rate[k][f'ACC-P{i}-k{k}'] = group_true_positive.sum(\n",
      " 57%|████████████████████████████████████████████████████████████████████▌                                                    | 34/60 [00:28<00:14,  1.83it/s]/home/asem/GP/ICE-NODE/notebooks/../icenode/metric/stat.py:215: RuntimeWarning: invalid value encountered in long_scalars\n",
      "  rate[k][f'ACC-P{i}-k{k}'] = group_true_positive.sum(\n",
      " 58%|██████████████████████████████████████████████████████████████████████▌                                                  | 35/60 [00:28<00:13,  1.81it/s]/home/asem/GP/ICE-NODE/notebooks/../icenode/metric/stat.py:215: RuntimeWarning: invalid value encountered in long_scalars\n",
      "  rate[k][f'ACC-P{i}-k{k}'] = group_true_positive.sum(\n",
      " 60%|████████████████████████████████████████████████████████████████████████▌                                                | 36/60 [00:29<00:13,  1.78it/s]/home/asem/GP/ICE-NODE/notebooks/../icenode/metric/stat.py:215: RuntimeWarning: invalid value encountered in long_scalars\n",
      "  rate[k][f'ACC-P{i}-k{k}'] = group_true_positive.sum(\n",
      " 62%|██████████████████████████████████████████████████████████████████████████▌                                              | 37/60 [00:30<00:12,  1.82it/s]/home/asem/GP/ICE-NODE/notebooks/../icenode/metric/stat.py:215: RuntimeWarning: invalid value encountered in long_scalars\n",
      "  rate[k][f'ACC-P{i}-k{k}'] = group_true_positive.sum(\n",
      " 63%|████████████████████████████████████████████████████████████████████████████▋                                            | 38/60 [00:30<00:11,  1.84it/s]/home/asem/GP/ICE-NODE/notebooks/../icenode/metric/stat.py:215: RuntimeWarning: invalid value encountered in long_scalars\n",
      "  rate[k][f'ACC-P{i}-k{k}'] = group_true_positive.sum(\n",
      " 65%|██████████████████████████████████████████████████████████████████████████████▋                                          | 39/60 [00:31<00:11,  1.90it/s]/home/asem/GP/ICE-NODE/notebooks/../icenode/metric/stat.py:215: RuntimeWarning: invalid value encountered in long_scalars\n",
      "  rate[k][f'ACC-P{i}-k{k}'] = group_true_positive.sum(\n",
      " 67%|████████████████████████████████████████████████████████████████████████████████▋                                        | 40/60 [00:31<00:10,  1.94it/s]/home/asem/GP/ICE-NODE/notebooks/../icenode/metric/stat.py:215: RuntimeWarning: invalid value encountered in long_scalars\n",
      "  rate[k][f'ACC-P{i}-k{k}'] = group_true_positive.sum(\n",
      " 68%|██████████████████████████████████████████████████████████████████████████████████▋                                      | 41/60 [00:32<00:09,  1.94it/s]/home/asem/GP/ICE-NODE/notebooks/../icenode/metric/stat.py:215: RuntimeWarning: invalid value encountered in long_scalars\n",
      "  rate[k][f'ACC-P{i}-k{k}'] = group_true_positive.sum(\n",
      " 70%|████████████████████████████████████████████████████████████████████████████████████▋                                    | 42/60 [00:32<00:09,  1.99it/s]/home/asem/GP/ICE-NODE/notebooks/../icenode/metric/stat.py:215: RuntimeWarning: invalid value encountered in long_scalars\n",
      "  rate[k][f'ACC-P{i}-k{k}'] = group_true_positive.sum(\n",
      " 72%|██████████████████████████████████████████████████████████████████████████████████████▋                                  | 43/60 [00:33<00:08,  1.98it/s]/home/asem/GP/ICE-NODE/notebooks/../icenode/metric/stat.py:215: RuntimeWarning: invalid value encountered in long_scalars\n",
      "  rate[k][f'ACC-P{i}-k{k}'] = group_true_positive.sum(\n",
      " 73%|████████████████████████████████████████████████████████████████████████████████████████▋                                | 44/60 [00:33<00:08,  1.98it/s]/home/asem/GP/ICE-NODE/notebooks/../icenode/metric/stat.py:215: RuntimeWarning: invalid value encountered in long_scalars\n",
      "  rate[k][f'ACC-P{i}-k{k}'] = group_true_positive.sum(\n"
     ]
    },
    {
     "name": "stderr",
     "output_type": "stream",
     "text": [
      " 75%|██████████████████████████████████████████████████████████████████████████████████████████▊                              | 45/60 [00:34<00:07,  1.99it/s]/home/asem/GP/ICE-NODE/notebooks/../icenode/metric/stat.py:215: RuntimeWarning: invalid value encountered in long_scalars\n",
      "  rate[k][f'ACC-P{i}-k{k}'] = group_true_positive.sum(\n",
      " 77%|████████████████████████████████████████████████████████████████████████████████████████████▊                            | 46/60 [00:34<00:06,  2.02it/s]/home/asem/GP/ICE-NODE/notebooks/../icenode/metric/stat.py:215: RuntimeWarning: invalid value encountered in long_scalars\n",
      "  rate[k][f'ACC-P{i}-k{k}'] = group_true_positive.sum(\n",
      " 78%|██████████████████████████████████████████████████████████████████████████████████████████████▊                          | 47/60 [00:34<00:06,  2.04it/s]/home/asem/GP/ICE-NODE/notebooks/../icenode/metric/stat.py:215: RuntimeWarning: invalid value encountered in long_scalars\n",
      "  rate[k][f'ACC-P{i}-k{k}'] = group_true_positive.sum(\n",
      " 80%|████████████████████████████████████████████████████████████████████████████████████████████████▊                        | 48/60 [00:35<00:06,  1.97it/s]/home/asem/GP/ICE-NODE/notebooks/../icenode/metric/stat.py:215: RuntimeWarning: invalid value encountered in long_scalars\n",
      "  rate[k][f'ACC-P{i}-k{k}'] = group_true_positive.sum(\n",
      " 82%|██████████████████████████████████████████████████████████████████████████████████████████████████▊                      | 49/60 [00:36<00:05,  1.95it/s]/home/asem/GP/ICE-NODE/notebooks/../icenode/metric/stat.py:215: RuntimeWarning: invalid value encountered in long_scalars\n",
      "  rate[k][f'ACC-P{i}-k{k}'] = group_true_positive.sum(\n",
      " 83%|████████████████████████████████████████████████████████████████████████████████████████████████████▊                    | 50/60 [00:36<00:05,  1.94it/s]/home/asem/GP/ICE-NODE/notebooks/../icenode/metric/stat.py:215: RuntimeWarning: invalid value encountered in long_scalars\n",
      "  rate[k][f'ACC-P{i}-k{k}'] = group_true_positive.sum(\n",
      " 85%|██████████████████████████████████████████████████████████████████████████████████████████████████████▊                  | 51/60 [00:37<00:04,  1.90it/s]/home/asem/GP/ICE-NODE/notebooks/../icenode/metric/stat.py:215: RuntimeWarning: invalid value encountered in long_scalars\n",
      "  rate[k][f'ACC-P{i}-k{k}'] = group_true_positive.sum(\n",
      " 87%|████████████████████████████████████████████████████████████████████████████████████████████████████████▊                | 52/60 [00:37<00:04,  1.89it/s]/home/asem/GP/ICE-NODE/notebooks/../icenode/metric/stat.py:215: RuntimeWarning: invalid value encountered in long_scalars\n",
      "  rate[k][f'ACC-P{i}-k{k}'] = group_true_positive.sum(\n",
      " 88%|██████████████████████████████████████████████████████████████████████████████████████████████████████████▉              | 53/60 [00:38<00:03,  1.93it/s]/home/asem/GP/ICE-NODE/notebooks/../icenode/metric/stat.py:215: RuntimeWarning: invalid value encountered in long_scalars\n",
      "  rate[k][f'ACC-P{i}-k{k}'] = group_true_positive.sum(\n",
      " 90%|████████████████████████████████████████████████████████████████████████████████████████████████████████████▉            | 54/60 [00:38<00:03,  1.86it/s]/home/asem/GP/ICE-NODE/notebooks/../icenode/metric/stat.py:215: RuntimeWarning: invalid value encountered in long_scalars\n",
      "  rate[k][f'ACC-P{i}-k{k}'] = group_true_positive.sum(\n",
      " 92%|██████████████████████████████████████████████████████████████████████████████████████████████████████████████▉          | 55/60 [00:39<00:02,  1.91it/s]/home/asem/GP/ICE-NODE/notebooks/../icenode/metric/stat.py:215: RuntimeWarning: invalid value encountered in long_scalars\n",
      "  rate[k][f'ACC-P{i}-k{k}'] = group_true_positive.sum(\n",
      " 93%|████████████████████████████████████████████████████████████████████████████████████████████████████████████████▉        | 56/60 [00:39<00:02,  1.94it/s]/home/asem/GP/ICE-NODE/notebooks/../icenode/metric/stat.py:215: RuntimeWarning: invalid value encountered in long_scalars\n",
      "  rate[k][f'ACC-P{i}-k{k}'] = group_true_positive.sum(\n",
      " 95%|██████████████████████████████████████████████████████████████████████████████████████████████████████████████████▉      | 57/60 [00:40<00:01,  1.98it/s]/home/asem/GP/ICE-NODE/notebooks/../icenode/metric/stat.py:215: RuntimeWarning: invalid value encountered in long_scalars\n",
      "  rate[k][f'ACC-P{i}-k{k}'] = group_true_positive.sum(\n",
      " 97%|████████████████████████████████████████████████████████████████████████████████████████████████████████████████████▉    | 58/60 [00:40<00:01,  1.94it/s]/home/asem/GP/ICE-NODE/notebooks/../icenode/metric/stat.py:215: RuntimeWarning: invalid value encountered in long_scalars\n",
      "  rate[k][f'ACC-P{i}-k{k}'] = group_true_positive.sum(\n",
      " 98%|██████████████████████████████████████████████████████████████████████████████████████████████████████████████████████▉  | 59/60 [00:41<00:00,  1.98it/s]/home/asem/GP/ICE-NODE/notebooks/../icenode/metric/stat.py:215: RuntimeWarning: invalid value encountered in long_scalars\n",
      "  rate[k][f'ACC-P{i}-k{k}'] = group_true_positive.sum(\n",
      "/home/asem/GP/ICE-NODE/notebooks/../icenode/metric/stat.py:215: RuntimeWarning: invalid value encountered in long_scalars\n",
      "  rate[k][f'ACC-P{i}-k{k}'] = group_true_positive.sum(\n",
      "100%|█████████████████████████████████████████████████████████████████████████████████████████████████████████████████████████| 60/60 [00:41<00:00,  1.43it/s]\n"
     ]
    }
   ],
   "source": [
    "## TODO: This can take up to (xx), trained model already exist in (yy).\n",
    "cprd_trained_retain = T.train(cprd_models['RETAIN'], config=model_config['RETAIN'], \n",
    "                         splits=cprd_splits, code_groups=cprd_train_percentiles,\n",
    "                         reporters=cprd_reporters['RETAIN'])"
   ]
  },
  {
   "cell_type": "code",
   "execution_count": 16,
   "id": "efcce213",
   "metadata": {},
   "outputs": [
    {
     "name": "stderr",
     "output_type": "stream",
     "text": [
      "/home/asem/GP/ICE-NODE/notebooks/../icenode/metric/stat.py:215: RuntimeWarning: invalid value encountered in long_scalars\n",
      "  rate[k][f'ACC-P{i}-k{k}'] = group_true_positive.sum(\n",
      "/home/asem/GP/ICE-NODE/notebooks/../icenode/metric/stat.py:215: RuntimeWarning: invalid value encountered in long_scalars\n",
      "  rate[k][f'ACC-P{i}-k{k}'] = group_true_positive.sum(\n"
     ]
    }
   ],
   "source": [
    "cprd_trained_logreg = T.train(cprd_models['LogReg'], config=model_config['LogReg'], \n",
    "                         splits=cprd_splits, code_groups=cprd_train_percentiles,\n",
    "                         reporters=cprd_reporters['LogReg'])"
   ]
  },
  {
   "cell_type": "code",
   "execution_count": null,
   "id": "35f0659c",
   "metadata": {},
   "outputs": [],
   "source": []
  }
 ],
 "metadata": {
  "kernelspec": {
   "display_name": "Python 3 (ipykernel)",
   "language": "python",
   "name": "python3"
  },
  "language_info": {
   "codemirror_mode": {
    "name": "ipython",
    "version": 3
   },
   "file_extension": ".py",
   "mimetype": "text/x-python",
   "name": "python",
   "nbconvert_exporter": "python",
   "pygments_lexer": "ipython3",
   "version": "3.8.13"
  }
 },
 "nbformat": 4,
 "nbformat_minor": 5
}
