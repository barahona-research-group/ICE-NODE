{
 "cells": [
  {
   "cell_type": "markdown",
   "id": "f53f4d3c",
   "metadata": {},
   "source": [
    "# Table of Content\n",
    "\n",
    "<a name=\"outline\"></a>\n",
    "\n",
    "## Setup\n",
    "\n",
    "- [A](#seca) External Imports\n",
    "- [B](#secb) Internal Imports\n",
    "- [C](#secc) Configurations and Paths \n",
    "- [D](#secd) Patient Interface and Train/Val/Test Partitioning\n",
    "- [E](#sece) General Utility Functions\n",
    "\n",
    "\n",
    "## Training\n",
    "\n",
    "- [1](#sec1) Training ICE-NODE and The Baselines\n"
   ]
  },
  {
   "cell_type": "markdown",
   "id": "697a491c",
   "metadata": {},
   "source": [
    "<a name=\"seca\"></a>\n",
    "\n",
    "### A External Imports [^](#outline)"
   ]
  },
  {
   "cell_type": "code",
   "execution_count": 1,
   "id": "4cfc614e",
   "metadata": {},
   "outputs": [],
   "source": [
    "import sys\n",
    "import os\n",
    "import glob\n",
    "import random\n",
    "from collections import defaultdict\n",
    "from pathlib import Path\n",
    "\n",
    "from IPython.display import display\n",
    "\n",
    "import pandas as pd\n",
    "\n",
    "from tqdm import tqdm\n",
    "import jax\n",
    "jax.config.update('jax_platform_name', 'cpu')"
   ]
  },
  {
   "cell_type": "markdown",
   "id": "23f0d568",
   "metadata": {},
   "source": [
    "<a name=\"secb\"></a>\n",
    "\n",
    "### B Internal Imports [^](#outline)"
   ]
  },
  {
   "cell_type": "code",
   "execution_count": 2,
   "id": "894a3743",
   "metadata": {},
   "outputs": [],
   "source": [
    "%load_ext autoreload\n",
    "%autoreload 2\n",
    "\n",
    "sys.path.append(\"..\")\n",
    "\n",
    "from lib import utils as U\n",
    "from lib.ehr.dataset import load_dataset"
   ]
  },
  {
   "cell_type": "code",
   "execution_count": 3,
   "id": "8c176dbe",
   "metadata": {},
   "outputs": [],
   "source": [
    "# HOME and DATA_STORE are arbitrary, change as appropriate.\n",
    "HOME = os.environ.get('HOME')\n",
    "DATA_STORE = f'{HOME}/GP/ehr-data'\n",
    "DATA_FILE = os.path.join(DATA_STORE, 'cprd-data/DUMMY_DATA.csv')\n",
    "SOURCE_DIR = os.path.abspath(\"..\")"
   ]
  },
  {
   "cell_type": "markdown",
   "id": "d9340794",
   "metadata": {},
   "source": [
    "<a name=\"secd\"></a>\n",
    "\n",
    "### D Configurations and Paths [^](#outline)"
   ]
  },
  {
   "cell_type": "markdown",
   "id": "5d5c56b2",
   "metadata": {},
   "source": [
    "**Assign** MIMIC-III and MIMIC-IV directory paths into `mimic3` and `mimic4` variables."
   ]
  },
  {
   "cell_type": "code",
   "execution_count": 4,
   "id": "f1898f46",
   "metadata": {},
   "outputs": [],
   "source": [
    "output_dir = 'cprd_artefacts'\n",
    "Path(output_dir).mkdir(parents=True, exist_ok=True)"
   ]
  },
  {
   "cell_type": "code",
   "execution_count": 5,
   "id": "86e81c71",
   "metadata": {},
   "outputs": [],
   "source": [
    "with U.modified_environ(DATA_FILE=DATA_FILE):\n",
    "    cprd_dataset = load_dataset('CPRD')\n",
    "   "
   ]
  },
  {
   "cell_type": "code",
   "execution_count": 6,
   "id": "c8d78296",
   "metadata": {},
   "outputs": [],
   "source": [
    "from lib.ml import ICENODE, ICENODE_UNIFORM, GRU, RETAIN, WindowLogReg\n",
    "\n",
    "\"\"\"\n",
    "predefined hyperparams re: each model.\n",
    "\"\"\"\n",
    "\n",
    "model_cls = {\n",
    "    'ICE-NODE': ICENODE,\n",
    "    'ICE-NODE-G': ICENODE,\n",
    "    'ICE-NODE_UNIFORM': ICENODE_UNIFORM,\n",
    "    'GRU': GRU,\n",
    "    'GRU-G': GRU,\n",
    "    'RETAIN': RETAIN,\n",
    "    'LogReg': WindowLogReg\n",
    "}\n",
    "\n",
    "model_config = {\n",
    "    'ICE-NODE': f'{SOURCE_DIR}/expt_configs/cprd/icenode.json' ,\n",
    "    'ICE-NODE_UNIFORM': f'{SOURCE_DIR}/expt_configs/cprd/icenode.json' ,\n",
    "    'GRU': f'{SOURCE_DIR}/expt_configs/cprd/gru.json' ,\n",
    "    'RETAIN': f'{SOURCE_DIR}/expt_configs/cprd/retain.json',\n",
    "    'LogReg': f'{SOURCE_DIR}/expt_configs/cprd/window_logreg.json'\n",
    "}\n",
    "\n",
    "model_config = {clf: U.load_config(file) for clf, file in model_config.items()}\n",
    "\n",
    "clfs = ['ICE-NODE', 'ICE-NODE_UNIFORM', 'GRU', 'RETAIN', 'LogReg']"
   ]
  },
  {
   "cell_type": "code",
   "execution_count": 7,
   "id": "9ccb6be2",
   "metadata": {},
   "outputs": [
    {
     "data": {
      "text/plain": [
       "[None, None, None, None, None]"
      ]
     },
     "execution_count": 7,
     "metadata": {},
     "output_type": "execute_result"
    }
   ],
   "source": [
    "cprd_train_output_dir = {clf: f'{output_dir}/train/{clf}' for clf in clfs}\n",
    "\n",
    "[Path(d).mkdir(parents=True, exist_ok=True) for d in cprd_train_output_dir.values()]"
   ]
  },
  {
   "cell_type": "code",
   "execution_count": 8,
   "id": "701e3b8f",
   "metadata": {},
   "outputs": [],
   "source": [
    "from lib.ml import ConfigDiskWriter, MinibatchLogger, EvaluationDiskWriter, ParamsDiskWriter\n",
    "# The reporter objects are called inside training iterations\n",
    "# Each has its own functionality:\n",
    "# 1. ConfigDiskWriter: writes the experiment config file as JSON in the same training directory\n",
    "# 2. MinibatchLogger: writes to the console the training progress details.\n",
    "# 3. EvaluationDiskWriter: writes the evaluation as csv tables in the same training directory for each step of the 100.\n",
    "# 4. ParamsDiskWriter: writes the model parameters snapshot at each step out of 100.\n",
    "make_reporters = lambda output_dir, config: [ConfigDiskWriter(output_dir=output_dir, config=config),\n",
    "                                             MinibatchLogger(config),\n",
    "                                             EvaluationDiskWriter(output_dir=output_dir),\n",
    "                                             ParamsDiskWriter(output_dir=output_dir)]\n",
    "\n",
    "reporters = {model: make_reporters(cprd_train_output_dir[model], model_config[model]) for model in clfs}\n"
   ]
  },
  {
   "cell_type": "markdown",
   "id": "24d26707",
   "metadata": {},
   "source": [
    "<a name=\"sece\"></a>\n",
    "\n",
    "### E Patient Interface and Train/Val/Test Patitioning [^](#outline)"
   ]
  },
  {
   "cell_type": "code",
   "execution_count": 9,
   "id": "02e43e04",
   "metadata": {},
   "outputs": [],
   "source": [
    "from lib.ehr.coding_scheme import DxLTC212FlatCodes, DxLTC9809FlatMedcodes, EthCPRD5, EthCPRD16\n",
    "from lib.ehr import OutcomeExtractor\n",
    "from lib.ehr import Subject_JAX\n",
    "\n",
    "code_scheme = {\n",
    "    'dx': DxLTC9809FlatMedcodes(),\n",
    "    'dx_outcome': OutcomeExtractor('dx_cprd_ltc9809'),\n",
    "    'eth': EthCPRD5()\n",
    "}\n",
    "cprd_interface = Subject_JAX.from_dataset(cprd_dataset, code_scheme=code_scheme)\n",
    "cprd_splits = cprd_interface.random_splits(split1=0.7, split2=0.85, random_seed=42)\n"
   ]
  },
  {
   "cell_type": "code",
   "execution_count": 10,
   "id": "ca3a0902",
   "metadata": {},
   "outputs": [],
   "source": [
    "cprd_percentiles = cprd_interface.dx_outcome_by_percentiles(20)\n",
    "cprd_train_percentiles = cprd_interface.dx_outcome_by_percentiles(20, cprd_splits[0])"
   ]
  },
  {
   "cell_type": "code",
   "execution_count": 11,
   "id": "f28b7c6b",
   "metadata": {},
   "outputs": [],
   "source": [
    "import jax.random as jrandom\n",
    "import lib.ml as ml\n",
    "\n",
    "key = jrandom.PRNGKey(0)"
   ]
  },
  {
   "cell_type": "markdown",
   "id": "ad3156b8",
   "metadata": {},
   "source": [
    "In the next cell a dictionary for the trainer class of each model.\n",
    "The classname of the trainer is already specified in the experiment configs 'model_config'\n",
    "For example, this is the configuration file of ICE-NODE experiment.\n",
    "\n",
    "```json\n",
    "{\n",
    "    \"emb\": {\n",
    "        \"dx\": {\n",
    "           \"decoder_n_layers\": 2,\n",
    "           \"classname\":  \"MatrixEmbeddings\",      \n",
    "           \"embeddings_size\": 300\n",
    "        }\n",
    "    },\n",
    "    \"model\": {\n",
    "        \"ode_dyn_label\": \"mlp3\",\n",
    "        \"ode_init_var\": 1e-7,\n",
    "        \"state_size\": 30,\n",
    "        \"timescale\": 30\n",
    "    },\n",
    "    \"training\": {\n",
    "        \"batch_size\": 256,\n",
    "        \"decay_rate\": [0.25, 0.33],\n",
    "        \"lr\": [7e-5,  1e-3],\n",
    "        \"epochs\": 60,\n",
    "        \"reg_hyperparams\": {\n",
    "            \"L_dyn\": 1000.0,\n",
    "            \"L_l1\": 0,\n",
    "            \"L_l2\": 0\n",
    "        },\n",
    "        \"opt\": \"adam\",\n",
    "        \"classname\": \"ODETrainer2LR\" <---- \"classname, so this class should be available through ml package.\"\n",
    "    }\n",
    "}\n",
    "```\n",
    "\n",
    "Since we have a string of the classname, one way to get `ml.ODETrainer2LR` is `getattr(ml, 'ODETrainer2LR')`"
   ]
  },
  {
   "cell_type": "code",
   "execution_count": 12,
   "id": "542d1b22",
   "metadata": {},
   "outputs": [],
   "source": [
    "cprd_models = {clf: model_cls[clf].from_config(model_config[clf],\n",
    "                                              cprd_interface,\n",
    "                                              cprd_splits[0],\n",
    "                                              key) for clf in clfs}\n",
    "\n",
    "\n",
    "\n",
    "\n",
    "cprd_trainers_cls = {clf: getattr(ml, model_config[clf][\"training\"][\"classname\"]) for clf in clfs}\n",
    "cprd_trainers = {clf: cprd_trainers_cls[clf](**model_config[clf][\"training\"]) for clf in clfs}"
   ]
  },
  {
   "cell_type": "markdown",
   "id": "13c1b824",
   "metadata": {},
   "source": [
    "## Metrics of Interest Specification"
   ]
  },
  {
   "cell_type": "code",
   "execution_count": 13,
   "id": "e4df755f",
   "metadata": {},
   "outputs": [],
   "source": [
    "from lib.metric import (CodeAUC, UntilFirstCodeAUC, AdmissionAUC, CodeGroupTopAlarmAccuracy, MetricsCollection)"
   ]
  },
  {
   "cell_type": "markdown",
   "id": "23f7f67e",
   "metadata": {},
   "source": [
    "## Evaluation Metrics per Model\n",
    "\n",
    "1. *CodeAUC*: evaluates the prediction AUC per code (aggregating over all subject visits, for all subjects)\n",
    "2. *UntilFirstCodeAUC*: same as *CodeAUC*, but evaluates the prediction AUC until the first occurrence for each subject, once the code occured, all the subsequent visits are ignored for that code. If the code does not show in a particular subject, all the subject visits are ignored.\n",
    "3. *AdmissionAUC*: evaluates the prediction AUC per visit (i.e. probability of assigning higher risk values for present codes than the absent ones).\n",
    "4. *CodeGroupTopAlarmAccuracy*: partition codes into groups according the code frequency (from the most frequent to the least), and for each visit picks the top `k` risks, and the metric evaluates the accuracy of the top `k` riskiest codes by the model for being indeed present.\n",
    "5. *MetricsCollection*: Groups multiple metrics to be considered at once."
   ]
  },
  {
   "cell_type": "code",
   "execution_count": 14,
   "id": "a37fd74c",
   "metadata": {},
   "outputs": [],
   "source": [
    "# pecentile_range=20 will partition the codes into five gruops, where each group contains \n",
    "# codes that overall constitutes 20% of the codes in all visits of specified 'subjects' list.\n",
    "code_freq_partitions = cprd_interface.dx_outcome_by_percentiles(percentile_range=20, subjects=cprd_splits[0])\n",
    "\n",
    "# Evaluate for different k values\n",
    "top_k_list = [3, 5, 10, 15, 20]\n",
    "\n",
    "metrics = [CodeAUC(cprd_interface),\n",
    "          UntilFirstCodeAUC(cprd_interface),\n",
    "          AdmissionAUC(cprd_interface),\n",
    "          CodeGroupTopAlarmAccuracy(cprd_interface, top_k_list=top_k_list, code_groups=code_freq_partitions)]\n",
    "all_metrics = MetricsCollection(metrics)"
   ]
  },
  {
   "cell_type": "markdown",
   "id": "05f87624",
   "metadata": {},
   "source": [
    "<a name=\"sec1\"></a>\n",
    "\n",
    "### 1 Training ICE-NODE and The Baselines (#outline)"
   ]
  },
  {
   "cell_type": "code",
   "execution_count": 15,
   "id": "ffcc11e6",
   "metadata": {},
   "outputs": [],
   "source": [
    "from lib.ml import MetricsHistory\n",
    "\n",
    "def train(clf):\n",
    "    output_dir = cprd_train_output_dir[clf]\n",
    "    config = model_config[clf]\n",
    "    model = cprd_models[clf]\n",
    "    trainer = cprd_trainers[clf]\n",
    "    reporters = [EvaluationDiskWriter(output_dir), # <- responsible for writing evaluation tables on disk at the given path\n",
    "                 ParamsDiskWriter(output_dir), # <- responsible for writing model parameters snapshot after each iteration.\n",
    "                 ConfigDiskWriter(output_dir, config), # writes the config file as JSON\n",
    "                ]\n",
    "    \n",
    "    history = MetricsHistory(all_metrics) # <- empty history\n",
    "    \n",
    "    return trainer(model, cprd_interface, cprd_splits, history=history, reporters=reporters, prng_seed=42)"
   ]
  },
  {
   "cell_type": "markdown",
   "id": "958d7262",
   "metadata": {},
   "source": [
    "#### ICE-NODE"
   ]
  },
  {
   "cell_type": "code",
   "execution_count": 16,
   "id": "c91a09d4",
   "metadata": {},
   "outputs": [
    {
     "name": "stdout",
     "output_type": "stream",
     "text": [
      "hiii init_opt\n",
      "Entering jdb:\n",
      "(jdb) "
     ]
    },
    {
     "ename": "SystemExit",
     "evalue": "0",
     "output_type": "error",
     "traceback": [
      "An exception has occurred, use %tb to see the full traceback.\n",
      "\u001b[0;31mSystemExit\u001b[0m\u001b[0;31m:\u001b[0m 0\n"
     ]
    },
    {
     "name": "stderr",
     "output_type": "stream",
     "text": [
      "/home/asem/GP/env/icenode-dev/lib/python3.8/site-packages/IPython/core/interactiveshell.py:3452: UserWarning: To exit: use 'exit', 'quit', or Ctrl-D.\n",
      "  warn(\"To exit: use 'exit', 'quit', or Ctrl-D.\", stacklevel=1)\n"
     ]
    }
   ],
   "source": [
    "## TODO: This may take a long time, a pretrained model already exists in (yy).\n",
    "icenode_results = train('ICE-NODE')"
   ]
  },
  {
   "cell_type": "markdown",
   "id": "bf6a21bb",
   "metadata": {},
   "source": [
    "#### ICE-NODE_UNIFORM"
   ]
  },
  {
   "cell_type": "code",
   "execution_count": 13,
   "id": "f868ee28",
   "metadata": {},
   "outputs": [
    {
     "name": "stderr",
     "output_type": "stream",
     "text": [
      "  0%|                                                                                                                                  | 0/60 [00:00<?, ?it/s]/home/asem/GP/env/icenode-dev/lib/python3.8/site-packages/haiku/_src/data_structures.py:144: FutureWarning: jax.tree_flatten is deprecated, and will be removed in a future release. Use jax.tree_util.tree_flatten instead.\n",
      "  leaves, treedef = jax.tree_flatten(tree)\n",
      "/home/asem/GP/env/icenode-dev/lib/python3.8/site-packages/haiku/_src/data_structures.py:145: FutureWarning: jax.tree_unflatten is deprecated, and will be removed in a future release. Use jax.tree_util.tree_unflatten instead.\n",
      "  return jax.tree_unflatten(treedef, leaves)\n",
      "/home/asem/GP/env/icenode-dev/lib/python3.8/site-packages/haiku/_src/data_structures.py:144: FutureWarning: jax.tree_flatten is deprecated, and will be removed in a future release. Use jax.tree_util.tree_flatten instead.\n",
      "  leaves, treedef = jax.tree_flatten(tree)\n",
      "/home/asem/GP/env/icenode-dev/lib/python3.8/site-packages/haiku/_src/data_structures.py:145: FutureWarning: jax.tree_unflatten is deprecated, and will be removed in a future release. Use jax.tree_util.tree_unflatten instead.\n",
      "  return jax.tree_unflatten(treedef, leaves)\n",
      "/home/asem/GP/ICE-NODE/notebooks/../icenode/metric/stat.py:215: RuntimeWarning: invalid value encountered in long_scalars\n",
      "  rate[k][f'ACC-P{i}-k{k}'] = group_true_positive.sum(\n",
      "  2%|██                                                                                                                        | 1/60 [00:33<33:04, 33.63s/it]/home/asem/GP/ICE-NODE/notebooks/../icenode/metric/stat.py:215: RuntimeWarning: invalid value encountered in long_scalars\n",
      "  rate[k][f'ACC-P{i}-k{k}'] = group_true_positive.sum(\n",
      "  3%|████                                                                                                                      | 2/60 [00:35<14:38, 15.15s/it]/home/asem/GP/ICE-NODE/notebooks/../icenode/metric/stat.py:215: RuntimeWarning: invalid value encountered in long_scalars\n",
      "  rate[k][f'ACC-P{i}-k{k}'] = group_true_positive.sum(\n",
      "  5%|██████                                                                                                                    | 3/60 [00:38<08:47,  9.26s/it]/home/asem/GP/ICE-NODE/notebooks/../icenode/metric/stat.py:215: RuntimeWarning: invalid value encountered in long_scalars\n",
      "  rate[k][f'ACC-P{i}-k{k}'] = group_true_positive.sum(\n",
      "  7%|████████▏                                                                                                                 | 4/60 [00:40<06:03,  6.48s/it]/home/asem/GP/ICE-NODE/notebooks/../icenode/metric/stat.py:215: RuntimeWarning: invalid value encountered in long_scalars\n",
      "  rate[k][f'ACC-P{i}-k{k}'] = group_true_positive.sum(\n",
      "  8%|██████████▏                                                                                                               | 5/60 [00:42<04:29,  4.89s/it]/home/asem/GP/ICE-NODE/notebooks/../icenode/metric/stat.py:215: RuntimeWarning: invalid value encountered in long_scalars\n",
      "  rate[k][f'ACC-P{i}-k{k}'] = group_true_positive.sum(\n",
      " 10%|████████████▏                                                                                                             | 6/60 [00:44<03:31,  3.91s/it]/home/asem/GP/ICE-NODE/notebooks/../icenode/metric/stat.py:215: RuntimeWarning: invalid value encountered in long_scalars\n",
      "  rate[k][f'ACC-P{i}-k{k}'] = group_true_positive.sum(\n",
      " 12%|██████████████▏                                                                                                           | 7/60 [00:46<02:54,  3.30s/it]/home/asem/GP/ICE-NODE/notebooks/../icenode/metric/stat.py:215: RuntimeWarning: invalid value encountered in long_scalars\n",
      "  rate[k][f'ACC-P{i}-k{k}'] = group_true_positive.sum(\n",
      " 13%|████████████████▎                                                                                                         | 8/60 [00:48<02:25,  2.81s/it]/home/asem/GP/ICE-NODE/notebooks/../icenode/metric/stat.py:215: RuntimeWarning: invalid value encountered in long_scalars\n",
      "  rate[k][f'ACC-P{i}-k{k}'] = group_true_positive.sum(\n",
      " 15%|██████████████████▎                                                                                                       | 9/60 [00:49<02:01,  2.38s/it]/home/asem/GP/ICE-NODE/notebooks/../icenode/metric/stat.py:215: RuntimeWarning: invalid value encountered in long_scalars\n",
      "  rate[k][f'ACC-P{i}-k{k}'] = group_true_positive.sum(\n",
      " 17%|████████████████████▏                                                                                                    | 10/60 [00:51<01:44,  2.10s/it]/home/asem/GP/ICE-NODE/notebooks/../icenode/metric/stat.py:215: RuntimeWarning: invalid value encountered in long_scalars\n",
      "  rate[k][f'ACC-P{i}-k{k}'] = group_true_positive.sum(\n",
      " 18%|██████████████████████▏                                                                                                  | 11/60 [00:52<01:26,  1.76s/it]/home/asem/GP/ICE-NODE/notebooks/../icenode/metric/stat.py:215: RuntimeWarning: invalid value encountered in long_scalars\n",
      "  rate[k][f'ACC-P{i}-k{k}'] = group_true_positive.sum(\n",
      " 20%|████████████████████████▏                                                                                                | 12/60 [00:53<01:12,  1.51s/it]/home/asem/GP/ICE-NODE/notebooks/../icenode/metric/stat.py:215: RuntimeWarning: invalid value encountered in long_scalars\n",
      "  rate[k][f'ACC-P{i}-k{k}'] = group_true_positive.sum(\n",
      " 22%|██████████████████████████▏                                                                                              | 13/60 [00:53<01:02,  1.34s/it]/home/asem/GP/ICE-NODE/notebooks/../icenode/metric/stat.py:215: RuntimeWarning: invalid value encountered in long_scalars\n",
      "  rate[k][f'ACC-P{i}-k{k}'] = group_true_positive.sum(\n",
      " 23%|████████████████████████████▏                                                                                            | 14/60 [00:54<00:56,  1.23s/it]/home/asem/GP/ICE-NODE/notebooks/../icenode/metric/stat.py:215: RuntimeWarning: invalid value encountered in long_scalars\n",
      "  rate[k][f'ACC-P{i}-k{k}'] = group_true_positive.sum(\n",
      " 25%|██████████████████████████████▎                                                                                          | 15/60 [00:55<00:51,  1.15s/it]/home/asem/GP/ICE-NODE/notebooks/../icenode/metric/stat.py:215: RuntimeWarning: invalid value encountered in long_scalars\n",
      "  rate[k][f'ACC-P{i}-k{k}'] = group_true_positive.sum(\n",
      " 27%|████████████████████████████████▎                                                                                        | 16/60 [00:56<00:48,  1.10s/it]/home/asem/GP/ICE-NODE/notebooks/../icenode/metric/stat.py:215: RuntimeWarning: invalid value encountered in long_scalars\n",
      "  rate[k][f'ACC-P{i}-k{k}'] = group_true_positive.sum(\n",
      " 28%|██████████████████████████████████▎                                                                                      | 17/60 [00:57<00:45,  1.07s/it]/home/asem/GP/ICE-NODE/notebooks/../icenode/metric/stat.py:215: RuntimeWarning: invalid value encountered in long_scalars\n",
      "  rate[k][f'ACC-P{i}-k{k}'] = group_true_positive.sum(\n",
      " 30%|████████████████████████████████████▎                                                                                    | 18/60 [00:58<00:43,  1.04s/it]/home/asem/GP/ICE-NODE/notebooks/../icenode/metric/stat.py:215: RuntimeWarning: invalid value encountered in long_scalars\n",
      "  rate[k][f'ACC-P{i}-k{k}'] = group_true_positive.sum(\n",
      " 32%|██████████████████████████████████████▎                                                                                  | 19/60 [00:59<00:41,  1.01s/it]/home/asem/GP/ICE-NODE/notebooks/../icenode/metric/stat.py:215: RuntimeWarning: invalid value encountered in long_scalars\n",
      "  rate[k][f'ACC-P{i}-k{k}'] = group_true_positive.sum(\n",
      " 33%|████████████████████████████████████████▎                                                                                | 20/60 [01:00<00:40,  1.02s/it]/home/asem/GP/ICE-NODE/notebooks/../icenode/metric/stat.py:215: RuntimeWarning: invalid value encountered in long_scalars\n",
      "  rate[k][f'ACC-P{i}-k{k}'] = group_true_positive.sum(\n",
      " 35%|██████████████████████████████████████████▎                                                                              | 21/60 [01:01<00:40,  1.03s/it]/home/asem/GP/ICE-NODE/notebooks/../icenode/metric/stat.py:215: RuntimeWarning: invalid value encountered in long_scalars\n",
      "  rate[k][f'ACC-P{i}-k{k}'] = group_true_positive.sum(\n",
      " 37%|████████████████████████████████████████████▎                                                                            | 22/60 [01:02<00:38,  1.01s/it]/home/asem/GP/ICE-NODE/notebooks/../icenode/metric/stat.py:215: RuntimeWarning: invalid value encountered in long_scalars\n",
      "  rate[k][f'ACC-P{i}-k{k}'] = group_true_positive.sum(\n",
      " 38%|██████████████████████████████████████████████▍                                                                          | 23/60 [01:03<00:37,  1.02s/it]/home/asem/GP/ICE-NODE/notebooks/../icenode/metric/stat.py:215: RuntimeWarning: invalid value encountered in long_scalars\n",
      "  rate[k][f'ACC-P{i}-k{k}'] = group_true_positive.sum(\n",
      " 40%|████████████████████████████████████████████████▍                                                                        | 24/60 [01:04<00:36,  1.01s/it]/home/asem/GP/ICE-NODE/notebooks/../icenode/metric/stat.py:215: RuntimeWarning: invalid value encountered in long_scalars\n",
      "  rate[k][f'ACC-P{i}-k{k}'] = group_true_positive.sum(\n",
      " 42%|██████████████████████████████████████████████████▍                                                                      | 25/60 [01:05<00:35,  1.01s/it]/home/asem/GP/ICE-NODE/notebooks/../icenode/metric/stat.py:215: RuntimeWarning: invalid value encountered in long_scalars\n",
      "  rate[k][f'ACC-P{i}-k{k}'] = group_true_positive.sum(\n",
      " 43%|████████████████████████████████████████████████████▍                                                                    | 26/60 [01:06<00:33,  1.01it/s]/home/asem/GP/ICE-NODE/notebooks/../icenode/metric/stat.py:215: RuntimeWarning: invalid value encountered in long_scalars\n",
      "  rate[k][f'ACC-P{i}-k{k}'] = group_true_positive.sum(\n",
      " 45%|██████████████████████████████████████████████████████▍                                                                  | 27/60 [01:07<00:32,  1.02it/s]/home/asem/GP/ICE-NODE/notebooks/../icenode/metric/stat.py:215: RuntimeWarning: invalid value encountered in long_scalars\n",
      "  rate[k][f'ACC-P{i}-k{k}'] = group_true_positive.sum(\n",
      " 47%|████████████████████████████████████████████████████████▍                                                                | 28/60 [01:08<00:31,  1.02it/s]/home/asem/GP/ICE-NODE/notebooks/../icenode/metric/stat.py:215: RuntimeWarning: invalid value encountered in long_scalars\n",
      "  rate[k][f'ACC-P{i}-k{k}'] = group_true_positive.sum(\n",
      " 48%|██████████████████████████████████████████████████████████▍                                                              | 29/60 [01:09<00:30,  1.02it/s]/home/asem/GP/ICE-NODE/notebooks/../icenode/metric/stat.py:215: RuntimeWarning: invalid value encountered in long_scalars\n",
      "  rate[k][f'ACC-P{i}-k{k}'] = group_true_positive.sum(\n",
      " 50%|████████████████████████████████████████████████████████████▌                                                            | 30/60 [01:10<00:29,  1.03it/s]/home/asem/GP/ICE-NODE/notebooks/../icenode/metric/stat.py:215: RuntimeWarning: invalid value encountered in long_scalars\n",
      "  rate[k][f'ACC-P{i}-k{k}'] = group_true_positive.sum(\n",
      " 52%|██████████████████████████████████████████████████████████████▌                                                          | 31/60 [01:11<00:28,  1.02it/s]/home/asem/GP/ICE-NODE/notebooks/../icenode/metric/stat.py:215: RuntimeWarning: invalid value encountered in long_scalars\n",
      "  rate[k][f'ACC-P{i}-k{k}'] = group_true_positive.sum(\n",
      " 53%|████████████████████████████████████████████████████████████████▌                                                        | 32/60 [01:12<00:27,  1.00it/s]/home/asem/GP/ICE-NODE/notebooks/../icenode/metric/stat.py:215: RuntimeWarning: invalid value encountered in long_scalars\n",
      "  rate[k][f'ACC-P{i}-k{k}'] = group_true_positive.sum(\n",
      " 55%|██████████████████████████████████████████████████████████████████▌                                                      | 33/60 [01:13<00:26,  1.02it/s]/home/asem/GP/ICE-NODE/notebooks/../icenode/metric/stat.py:215: RuntimeWarning: invalid value encountered in long_scalars\n",
      "  rate[k][f'ACC-P{i}-k{k}'] = group_true_positive.sum(\n",
      " 57%|████████████████████████████████████████████████████████████████████▌                                                    | 34/60 [01:14<00:25,  1.02it/s]/home/asem/GP/ICE-NODE/notebooks/../icenode/metric/stat.py:215: RuntimeWarning: invalid value encountered in long_scalars\n",
      "  rate[k][f'ACC-P{i}-k{k}'] = group_true_positive.sum(\n",
      " 58%|██████████████████████████████████████████████████████████████████████▌                                                  | 35/60 [01:15<00:24,  1.03it/s]/home/asem/GP/ICE-NODE/notebooks/../icenode/metric/stat.py:215: RuntimeWarning: invalid value encountered in long_scalars\n",
      "  rate[k][f'ACC-P{i}-k{k}'] = group_true_positive.sum(\n",
      " 60%|████████████████████████████████████████████████████████████████████████▌                                                | 36/60 [01:16<00:23,  1.04it/s]/home/asem/GP/ICE-NODE/notebooks/../icenode/metric/stat.py:215: RuntimeWarning: invalid value encountered in long_scalars\n",
      "  rate[k][f'ACC-P{i}-k{k}'] = group_true_positive.sum(\n",
      " 62%|██████████████████████████████████████████████████████████████████████████▌                                              | 37/60 [01:17<00:23,  1.03s/it]/home/asem/GP/ICE-NODE/notebooks/../icenode/metric/stat.py:215: RuntimeWarning: invalid value encountered in long_scalars\n",
      "  rate[k][f'ACC-P{i}-k{k}'] = group_true_positive.sum(\n",
      " 63%|████████████████████████████████████████████████████████████████████████████▋                                            | 38/60 [01:18<00:22,  1.02s/it]/home/asem/GP/ICE-NODE/notebooks/../icenode/metric/stat.py:215: RuntimeWarning: invalid value encountered in long_scalars\n",
      "  rate[k][f'ACC-P{i}-k{k}'] = group_true_positive.sum(\n",
      " 65%|██████████████████████████████████████████████████████████████████████████████▋                                          | 39/60 [01:19<00:21,  1.01s/it]/home/asem/GP/ICE-NODE/notebooks/../icenode/metric/stat.py:215: RuntimeWarning: invalid value encountered in long_scalars\n",
      "  rate[k][f'ACC-P{i}-k{k}'] = group_true_positive.sum(\n",
      " 67%|████████████████████████████████████████████████████████████████████████████████▋                                        | 40/60 [01:20<00:20,  1.04s/it]/home/asem/GP/ICE-NODE/notebooks/../icenode/metric/stat.py:215: RuntimeWarning: invalid value encountered in long_scalars\n",
      "  rate[k][f'ACC-P{i}-k{k}'] = group_true_positive.sum(\n",
      " 68%|██████████████████████████████████████████████████████████████████████████████████▋                                      | 41/60 [01:22<00:20,  1.08s/it]/home/asem/GP/ICE-NODE/notebooks/../icenode/metric/stat.py:215: RuntimeWarning: invalid value encountered in long_scalars\n",
      "  rate[k][f'ACC-P{i}-k{k}'] = group_true_positive.sum(\n",
      " 70%|████████████████████████████████████████████████████████████████████████████████████▋                                    | 42/60 [01:23<00:19,  1.06s/it]/home/asem/GP/ICE-NODE/notebooks/../icenode/metric/stat.py:215: RuntimeWarning: invalid value encountered in long_scalars\n",
      "  rate[k][f'ACC-P{i}-k{k}'] = group_true_positive.sum(\n",
      " 72%|██████████████████████████████████████████████████████████████████████████████████████▋                                  | 43/60 [01:23<00:17,  1.02s/it]/home/asem/GP/ICE-NODE/notebooks/../icenode/metric/stat.py:215: RuntimeWarning: invalid value encountered in long_scalars\n",
      "  rate[k][f'ACC-P{i}-k{k}'] = group_true_positive.sum(\n",
      " 73%|████████████████████████████████████████████████████████████████████████████████████████▋                                | 44/60 [01:24<00:15,  1.01it/s]/home/asem/GP/ICE-NODE/notebooks/../icenode/metric/stat.py:215: RuntimeWarning: invalid value encountered in long_scalars\n",
      "  rate[k][f'ACC-P{i}-k{k}'] = group_true_positive.sum(\n"
     ]
    },
    {
     "name": "stderr",
     "output_type": "stream",
     "text": [
      " 75%|██████████████████████████████████████████████████████████████████████████████████████████▊                              | 45/60 [01:25<00:14,  1.03it/s]/home/asem/GP/ICE-NODE/notebooks/../icenode/metric/stat.py:215: RuntimeWarning: invalid value encountered in long_scalars\n",
      "  rate[k][f'ACC-P{i}-k{k}'] = group_true_positive.sum(\n",
      " 77%|████████████████████████████████████████████████████████████████████████████████████████████▊                            | 46/60 [01:26<00:13,  1.01it/s]/home/asem/GP/ICE-NODE/notebooks/../icenode/metric/stat.py:215: RuntimeWarning: invalid value encountered in long_scalars\n",
      "  rate[k][f'ACC-P{i}-k{k}'] = group_true_positive.sum(\n",
      " 78%|██████████████████████████████████████████████████████████████████████████████████████████████▊                          | 47/60 [01:27<00:12,  1.02it/s]/home/asem/GP/ICE-NODE/notebooks/../icenode/metric/stat.py:215: RuntimeWarning: invalid value encountered in long_scalars\n",
      "  rate[k][f'ACC-P{i}-k{k}'] = group_true_positive.sum(\n",
      " 80%|████████████████████████████████████████████████████████████████████████████████████████████████▊                        | 48/60 [01:28<00:11,  1.02it/s]/home/asem/GP/ICE-NODE/notebooks/../icenode/metric/stat.py:215: RuntimeWarning: invalid value encountered in long_scalars\n",
      "  rate[k][f'ACC-P{i}-k{k}'] = group_true_positive.sum(\n",
      " 82%|██████████████████████████████████████████████████████████████████████████████████████████████████▊                      | 49/60 [01:29<00:10,  1.02it/s]/home/asem/GP/ICE-NODE/notebooks/../icenode/metric/stat.py:215: RuntimeWarning: invalid value encountered in long_scalars\n",
      "  rate[k][f'ACC-P{i}-k{k}'] = group_true_positive.sum(\n",
      " 83%|████████████████████████████████████████████████████████████████████████████████████████████████████▊                    | 50/60 [01:30<00:09,  1.02it/s]/home/asem/GP/ICE-NODE/notebooks/../icenode/metric/stat.py:215: RuntimeWarning: invalid value encountered in long_scalars\n",
      "  rate[k][f'ACC-P{i}-k{k}'] = group_true_positive.sum(\n",
      " 85%|██████████████████████████████████████████████████████████████████████████████████████████████████████▊                  | 51/60 [01:31<00:08,  1.02it/s]/home/asem/GP/ICE-NODE/notebooks/../icenode/metric/stat.py:215: RuntimeWarning: invalid value encountered in long_scalars\n",
      "  rate[k][f'ACC-P{i}-k{k}'] = group_true_positive.sum(\n",
      " 87%|████████████████████████████████████████████████████████████████████████████████████████████████████████▊                | 52/60 [01:32<00:07,  1.01it/s]/home/asem/GP/ICE-NODE/notebooks/../icenode/metric/stat.py:215: RuntimeWarning: invalid value encountered in long_scalars\n",
      "  rate[k][f'ACC-P{i}-k{k}'] = group_true_positive.sum(\n",
      " 88%|██████████████████████████████████████████████████████████████████████████████████████████████████████████▉              | 53/60 [01:33<00:06,  1.04it/s]/home/asem/GP/ICE-NODE/notebooks/../icenode/metric/stat.py:215: RuntimeWarning: invalid value encountered in long_scalars\n",
      "  rate[k][f'ACC-P{i}-k{k}'] = group_true_positive.sum(\n",
      " 90%|████████████████████████████████████████████████████████████████████████████████████████████████████████████▉            | 54/60 [01:34<00:05,  1.03it/s]/home/asem/GP/ICE-NODE/notebooks/../icenode/metric/stat.py:215: RuntimeWarning: invalid value encountered in long_scalars\n",
      "  rate[k][f'ACC-P{i}-k{k}'] = group_true_positive.sum(\n",
      " 92%|██████████████████████████████████████████████████████████████████████████████████████████████████████████████▉          | 55/60 [01:35<00:04,  1.03it/s]/home/asem/GP/ICE-NODE/notebooks/../icenode/metric/stat.py:215: RuntimeWarning: invalid value encountered in long_scalars\n",
      "  rate[k][f'ACC-P{i}-k{k}'] = group_true_positive.sum(\n",
      " 93%|████████████████████████████████████████████████████████████████████████████████████████████████████████████████▉        | 56/60 [01:36<00:03,  1.04it/s]/home/asem/GP/ICE-NODE/notebooks/../icenode/metric/stat.py:215: RuntimeWarning: invalid value encountered in long_scalars\n",
      "  rate[k][f'ACC-P{i}-k{k}'] = group_true_positive.sum(\n",
      " 95%|██████████████████████████████████████████████████████████████████████████████████████████████████████████████████▉      | 57/60 [01:37<00:02,  1.03it/s]/home/asem/GP/ICE-NODE/notebooks/../icenode/metric/stat.py:215: RuntimeWarning: invalid value encountered in long_scalars\n",
      "  rate[k][f'ACC-P{i}-k{k}'] = group_true_positive.sum(\n",
      " 97%|████████████████████████████████████████████████████████████████████████████████████████████████████████████████████▉    | 58/60 [01:38<00:01,  1.02it/s]/home/asem/GP/ICE-NODE/notebooks/../icenode/metric/stat.py:215: RuntimeWarning: invalid value encountered in long_scalars\n",
      "  rate[k][f'ACC-P{i}-k{k}'] = group_true_positive.sum(\n",
      " 98%|██████████████████████████████████████████████████████████████████████████████████████████████████████████████████████▉  | 59/60 [01:39<00:01,  1.00s/it]/home/asem/GP/ICE-NODE/notebooks/../icenode/metric/stat.py:215: RuntimeWarning: invalid value encountered in long_scalars\n",
      "  rate[k][f'ACC-P{i}-k{k}'] = group_true_positive.sum(\n",
      "/home/asem/GP/ICE-NODE/notebooks/../icenode/metric/stat.py:215: RuntimeWarning: invalid value encountered in long_scalars\n",
      "  rate[k][f'ACC-P{i}-k{k}'] = group_true_positive.sum(\n",
      "100%|█████████████████████████████████████████████████████████████████████████████████████████████████████████████████████████| 60/60 [01:40<00:00,  1.68s/it]\n"
     ]
    }
   ],
   "source": [
    "## TODO: This can take up to (xx), trained model already exist in (yy).\n",
    "cprd_trained_icenode_uni = T.train(cprd_models['ICE-NODE_UNIFORM'], config=model_config['ICE-NODE_UNIFORM'], \n",
    "                                 splits=cprd_splits, code_groups=cprd_train_percentiles,\n",
    "                                 reporters=cprd_reporters['ICE-NODE_UNIFORM'])\n"
   ]
  },
  {
   "cell_type": "markdown",
   "id": "083317e8",
   "metadata": {},
   "source": [
    "#### GRU"
   ]
  },
  {
   "cell_type": "code",
   "execution_count": 14,
   "id": "72be64a0",
   "metadata": {},
   "outputs": [
    {
     "name": "stderr",
     "output_type": "stream",
     "text": [
      "  0%|                                                                                                                                  | 0/60 [00:00<?, ?it/s]/home/asem/GP/env/icenode-dev/lib/python3.8/site-packages/haiku/_src/data_structures.py:144: FutureWarning: jax.tree_flatten is deprecated, and will be removed in a future release. Use jax.tree_util.tree_flatten instead.\n",
      "  leaves, treedef = jax.tree_flatten(tree)\n",
      "/home/asem/GP/env/icenode-dev/lib/python3.8/site-packages/haiku/_src/data_structures.py:145: FutureWarning: jax.tree_unflatten is deprecated, and will be removed in a future release. Use jax.tree_util.tree_unflatten instead.\n",
      "  return jax.tree_unflatten(treedef, leaves)\n",
      "/home/asem/GP/env/icenode-dev/lib/python3.8/site-packages/haiku/_src/data_structures.py:144: FutureWarning: jax.tree_flatten is deprecated, and will be removed in a future release. Use jax.tree_util.tree_flatten instead.\n",
      "  leaves, treedef = jax.tree_flatten(tree)\n",
      "/home/asem/GP/env/icenode-dev/lib/python3.8/site-packages/haiku/_src/data_structures.py:145: FutureWarning: jax.tree_unflatten is deprecated, and will be removed in a future release. Use jax.tree_util.tree_unflatten instead.\n",
      "  return jax.tree_unflatten(treedef, leaves)\n",
      "/home/asem/GP/ICE-NODE/notebooks/../icenode/metric/stat.py:215: RuntimeWarning: invalid value encountered in long_scalars\n",
      "  rate[k][f'ACC-P{i}-k{k}'] = group_true_positive.sum(\n",
      "  2%|██                                                                                                                        | 1/60 [00:04<04:50,  4.93s/it]/home/asem/GP/ICE-NODE/notebooks/../icenode/metric/stat.py:215: RuntimeWarning: invalid value encountered in long_scalars\n",
      "  rate[k][f'ACC-P{i}-k{k}'] = group_true_positive.sum(\n",
      "  3%|████                                                                                                                      | 2/60 [00:05<02:11,  2.27s/it]/home/asem/GP/ICE-NODE/notebooks/../icenode/metric/stat.py:215: RuntimeWarning: invalid value encountered in long_scalars\n",
      "  rate[k][f'ACC-P{i}-k{k}'] = group_true_positive.sum(\n",
      "  5%|██████                                                                                                                    | 3/60 [00:05<01:19,  1.40s/it]/home/asem/GP/ICE-NODE/notebooks/../icenode/metric/stat.py:215: RuntimeWarning: invalid value encountered in long_scalars\n",
      "  rate[k][f'ACC-P{i}-k{k}'] = group_true_positive.sum(\n",
      "  7%|████████▏                                                                                                                 | 4/60 [00:06<00:54,  1.02it/s]/home/asem/GP/ICE-NODE/notebooks/../icenode/metric/stat.py:215: RuntimeWarning: invalid value encountered in long_scalars\n",
      "  rate[k][f'ACC-P{i}-k{k}'] = group_true_positive.sum(\n",
      "  8%|██████████▏                                                                                                               | 5/60 [00:06<00:41,  1.34it/s]/home/asem/GP/ICE-NODE/notebooks/../icenode/metric/stat.py:215: RuntimeWarning: invalid value encountered in long_scalars\n",
      "  rate[k][f'ACC-P{i}-k{k}'] = group_true_positive.sum(\n",
      " 10%|████████████▏                                                                                                             | 6/60 [00:06<00:33,  1.63it/s]/home/asem/GP/ICE-NODE/notebooks/../icenode/metric/stat.py:215: RuntimeWarning: invalid value encountered in long_scalars\n",
      "  rate[k][f'ACC-P{i}-k{k}'] = group_true_positive.sum(\n",
      " 12%|██████████████▏                                                                                                           | 7/60 [00:07<00:27,  1.90it/s]/home/asem/GP/ICE-NODE/notebooks/../icenode/metric/stat.py:215: RuntimeWarning: invalid value encountered in long_scalars\n",
      "  rate[k][f'ACC-P{i}-k{k}'] = group_true_positive.sum(\n",
      " 13%|████████████████▎                                                                                                         | 8/60 [00:07<00:24,  2.14it/s]/home/asem/GP/ICE-NODE/notebooks/../icenode/metric/stat.py:215: RuntimeWarning: invalid value encountered in long_scalars\n",
      "  rate[k][f'ACC-P{i}-k{k}'] = group_true_positive.sum(\n",
      " 15%|██████████████████▎                                                                                                       | 9/60 [00:07<00:21,  2.34it/s]/home/asem/GP/ICE-NODE/notebooks/../icenode/metric/stat.py:215: RuntimeWarning: invalid value encountered in long_scalars\n",
      "  rate[k][f'ACC-P{i}-k{k}'] = group_true_positive.sum(\n",
      " 17%|████████████████████▏                                                                                                    | 10/60 [00:08<00:20,  2.47it/s]/home/asem/GP/ICE-NODE/notebooks/../icenode/metric/stat.py:215: RuntimeWarning: invalid value encountered in long_scalars\n",
      "  rate[k][f'ACC-P{i}-k{k}'] = group_true_positive.sum(\n",
      " 18%|██████████████████████▏                                                                                                  | 11/60 [00:08<00:18,  2.62it/s]/home/asem/GP/ICE-NODE/notebooks/../icenode/metric/stat.py:215: RuntimeWarning: invalid value encountered in long_scalars\n",
      "  rate[k][f'ACC-P{i}-k{k}'] = group_true_positive.sum(\n",
      " 20%|████████████████████████▏                                                                                                | 12/60 [00:08<00:17,  2.67it/s]/home/asem/GP/ICE-NODE/notebooks/../icenode/metric/stat.py:215: RuntimeWarning: invalid value encountered in long_scalars\n",
      "  rate[k][f'ACC-P{i}-k{k}'] = group_true_positive.sum(\n",
      " 22%|██████████████████████████▏                                                                                              | 13/60 [00:09<00:17,  2.76it/s]/home/asem/GP/ICE-NODE/notebooks/../icenode/metric/stat.py:215: RuntimeWarning: invalid value encountered in long_scalars\n",
      "  rate[k][f'ACC-P{i}-k{k}'] = group_true_positive.sum(\n",
      " 23%|████████████████████████████▏                                                                                            | 14/60 [00:09<00:16,  2.83it/s]/home/asem/GP/ICE-NODE/notebooks/../icenode/metric/stat.py:215: RuntimeWarning: invalid value encountered in long_scalars\n",
      "  rate[k][f'ACC-P{i}-k{k}'] = group_true_positive.sum(\n",
      " 25%|██████████████████████████████▎                                                                                          | 15/60 [00:09<00:15,  2.87it/s]/home/asem/GP/ICE-NODE/notebooks/../icenode/metric/stat.py:215: RuntimeWarning: invalid value encountered in long_scalars\n",
      "  rate[k][f'ACC-P{i}-k{k}'] = group_true_positive.sum(\n",
      " 27%|████████████████████████████████▎                                                                                        | 16/60 [00:10<00:15,  2.91it/s]/home/asem/GP/ICE-NODE/notebooks/../icenode/metric/stat.py:215: RuntimeWarning: invalid value encountered in long_scalars\n",
      "  rate[k][f'ACC-P{i}-k{k}'] = group_true_positive.sum(\n",
      " 28%|██████████████████████████████████▎                                                                                      | 17/60 [00:10<00:14,  2.98it/s]/home/asem/GP/ICE-NODE/notebooks/../icenode/metric/stat.py:215: RuntimeWarning: invalid value encountered in long_scalars\n",
      "  rate[k][f'ACC-P{i}-k{k}'] = group_true_positive.sum(\n",
      " 30%|████████████████████████████████████▎                                                                                    | 18/60 [00:10<00:13,  3.01it/s]/home/asem/GP/ICE-NODE/notebooks/../icenode/metric/stat.py:215: RuntimeWarning: invalid value encountered in long_scalars\n",
      "  rate[k][f'ACC-P{i}-k{k}'] = group_true_positive.sum(\n",
      " 32%|██████████████████████████████████████▎                                                                                  | 19/60 [00:11<00:14,  2.92it/s]/home/asem/GP/ICE-NODE/notebooks/../icenode/metric/stat.py:215: RuntimeWarning: invalid value encountered in long_scalars\n",
      "  rate[k][f'ACC-P{i}-k{k}'] = group_true_positive.sum(\n",
      " 33%|████████████████████████████████████████▎                                                                                | 20/60 [00:11<00:13,  2.88it/s]/home/asem/GP/ICE-NODE/notebooks/../icenode/metric/stat.py:215: RuntimeWarning: invalid value encountered in long_scalars\n",
      "  rate[k][f'ACC-P{i}-k{k}'] = group_true_positive.sum(\n",
      " 35%|██████████████████████████████████████████▎                                                                              | 21/60 [00:11<00:13,  2.90it/s]/home/asem/GP/ICE-NODE/notebooks/../icenode/metric/stat.py:215: RuntimeWarning: invalid value encountered in long_scalars\n",
      "  rate[k][f'ACC-P{i}-k{k}'] = group_true_positive.sum(\n",
      " 37%|████████████████████████████████████████████▎                                                                            | 22/60 [00:12<00:12,  2.92it/s]/home/asem/GP/ICE-NODE/notebooks/../icenode/metric/stat.py:215: RuntimeWarning: invalid value encountered in long_scalars\n",
      "  rate[k][f'ACC-P{i}-k{k}'] = group_true_positive.sum(\n",
      " 38%|██████████████████████████████████████████████▍                                                                          | 23/60 [00:12<00:12,  2.91it/s]/home/asem/GP/ICE-NODE/notebooks/../icenode/metric/stat.py:215: RuntimeWarning: invalid value encountered in long_scalars\n",
      "  rate[k][f'ACC-P{i}-k{k}'] = group_true_positive.sum(\n",
      " 40%|████████████████████████████████████████████████▍                                                                        | 24/60 [00:12<00:12,  2.93it/s]/home/asem/GP/ICE-NODE/notebooks/../icenode/metric/stat.py:215: RuntimeWarning: invalid value encountered in long_scalars\n",
      "  rate[k][f'ACC-P{i}-k{k}'] = group_true_positive.sum(\n",
      " 42%|██████████████████████████████████████████████████▍                                                                      | 25/60 [00:13<00:12,  2.81it/s]/home/asem/GP/ICE-NODE/notebooks/../icenode/metric/stat.py:215: RuntimeWarning: invalid value encountered in long_scalars\n",
      "  rate[k][f'ACC-P{i}-k{k}'] = group_true_positive.sum(\n",
      " 43%|████████████████████████████████████████████████████▍                                                                    | 26/60 [00:13<00:11,  2.84it/s]/home/asem/GP/ICE-NODE/notebooks/../icenode/metric/stat.py:215: RuntimeWarning: invalid value encountered in long_scalars\n",
      "  rate[k][f'ACC-P{i}-k{k}'] = group_true_positive.sum(\n",
      " 45%|██████████████████████████████████████████████████████▍                                                                  | 27/60 [00:13<00:11,  2.84it/s]/home/asem/GP/ICE-NODE/notebooks/../icenode/metric/stat.py:215: RuntimeWarning: invalid value encountered in long_scalars\n",
      "  rate[k][f'ACC-P{i}-k{k}'] = group_true_positive.sum(\n",
      " 47%|████████████████████████████████████████████████████████▍                                                                | 28/60 [00:14<00:11,  2.86it/s]/home/asem/GP/ICE-NODE/notebooks/../icenode/metric/stat.py:215: RuntimeWarning: invalid value encountered in long_scalars\n",
      "  rate[k][f'ACC-P{i}-k{k}'] = group_true_positive.sum(\n",
      " 48%|██████████████████████████████████████████████████████████▍                                                              | 29/60 [00:14<00:11,  2.81it/s]/home/asem/GP/ICE-NODE/notebooks/../icenode/metric/stat.py:215: RuntimeWarning: invalid value encountered in long_scalars\n",
      "  rate[k][f'ACC-P{i}-k{k}'] = group_true_positive.sum(\n",
      " 50%|████████████████████████████████████████████████████████████▌                                                            | 30/60 [00:15<00:10,  2.83it/s]/home/asem/GP/ICE-NODE/notebooks/../icenode/metric/stat.py:215: RuntimeWarning: invalid value encountered in long_scalars\n",
      "  rate[k][f'ACC-P{i}-k{k}'] = group_true_positive.sum(\n",
      " 52%|██████████████████████████████████████████████████████████████▌                                                          | 31/60 [00:15<00:10,  2.84it/s]/home/asem/GP/ICE-NODE/notebooks/../icenode/metric/stat.py:215: RuntimeWarning: invalid value encountered in long_scalars\n",
      "  rate[k][f'ACC-P{i}-k{k}'] = group_true_positive.sum(\n",
      " 53%|████████████████████████████████████████████████████████████████▌                                                        | 32/60 [00:15<00:09,  2.91it/s]/home/asem/GP/ICE-NODE/notebooks/../icenode/metric/stat.py:215: RuntimeWarning: invalid value encountered in long_scalars\n",
      "  rate[k][f'ACC-P{i}-k{k}'] = group_true_positive.sum(\n",
      " 55%|██████████████████████████████████████████████████████████████████▌                                                      | 33/60 [00:16<00:09,  2.92it/s]/home/asem/GP/ICE-NODE/notebooks/../icenode/metric/stat.py:215: RuntimeWarning: invalid value encountered in long_scalars\n",
      "  rate[k][f'ACC-P{i}-k{k}'] = group_true_positive.sum(\n",
      " 57%|████████████████████████████████████████████████████████████████████▌                                                    | 34/60 [00:16<00:08,  2.95it/s]/home/asem/GP/ICE-NODE/notebooks/../icenode/metric/stat.py:215: RuntimeWarning: invalid value encountered in long_scalars\n",
      "  rate[k][f'ACC-P{i}-k{k}'] = group_true_positive.sum(\n",
      " 58%|██████████████████████████████████████████████████████████████████████▌                                                  | 35/60 [00:16<00:08,  2.99it/s]/home/asem/GP/ICE-NODE/notebooks/../icenode/metric/stat.py:215: RuntimeWarning: invalid value encountered in long_scalars\n",
      "  rate[k][f'ACC-P{i}-k{k}'] = group_true_positive.sum(\n",
      " 60%|████████████████████████████████████████████████████████████████████████▌                                                | 36/60 [00:17<00:08,  2.98it/s]/home/asem/GP/ICE-NODE/notebooks/../icenode/metric/stat.py:215: RuntimeWarning: invalid value encountered in long_scalars\n",
      "  rate[k][f'ACC-P{i}-k{k}'] = group_true_positive.sum(\n",
      " 62%|██████████████████████████████████████████████████████████████████████████▌                                              | 37/60 [00:17<00:07,  3.00it/s]/home/asem/GP/ICE-NODE/notebooks/../icenode/metric/stat.py:215: RuntimeWarning: invalid value encountered in long_scalars\n",
      "  rate[k][f'ACC-P{i}-k{k}'] = group_true_positive.sum(\n",
      " 63%|████████████████████████████████████████████████████████████████████████████▋                                            | 38/60 [00:17<00:07,  2.98it/s]/home/asem/GP/ICE-NODE/notebooks/../icenode/metric/stat.py:215: RuntimeWarning: invalid value encountered in long_scalars\n",
      "  rate[k][f'ACC-P{i}-k{k}'] = group_true_positive.sum(\n",
      " 65%|██████████████████████████████████████████████████████████████████████████████▋                                          | 39/60 [00:18<00:07,  2.95it/s]/home/asem/GP/ICE-NODE/notebooks/../icenode/metric/stat.py:215: RuntimeWarning: invalid value encountered in long_scalars\n",
      "  rate[k][f'ACC-P{i}-k{k}'] = group_true_positive.sum(\n",
      " 67%|████████████████████████████████████████████████████████████████████████████████▋                                        | 40/60 [00:18<00:06,  2.96it/s]/home/asem/GP/ICE-NODE/notebooks/../icenode/metric/stat.py:215: RuntimeWarning: invalid value encountered in long_scalars\n",
      "  rate[k][f'ACC-P{i}-k{k}'] = group_true_positive.sum(\n",
      " 68%|██████████████████████████████████████████████████████████████████████████████████▋                                      | 41/60 [00:18<00:06,  2.95it/s]/home/asem/GP/ICE-NODE/notebooks/../icenode/metric/stat.py:215: RuntimeWarning: invalid value encountered in long_scalars\n",
      "  rate[k][f'ACC-P{i}-k{k}'] = group_true_positive.sum(\n",
      " 70%|████████████████████████████████████████████████████████████████████████████████████▋                                    | 42/60 [00:19<00:06,  2.91it/s]/home/asem/GP/ICE-NODE/notebooks/../icenode/metric/stat.py:215: RuntimeWarning: invalid value encountered in long_scalars\n",
      "  rate[k][f'ACC-P{i}-k{k}'] = group_true_positive.sum(\n",
      " 72%|██████████████████████████████████████████████████████████████████████████████████████▋                                  | 43/60 [00:19<00:05,  2.85it/s]/home/asem/GP/ICE-NODE/notebooks/../icenode/metric/stat.py:215: RuntimeWarning: invalid value encountered in long_scalars\n",
      "  rate[k][f'ACC-P{i}-k{k}'] = group_true_positive.sum(\n",
      " 73%|████████████████████████████████████████████████████████████████████████████████████████▋                                | 44/60 [00:19<00:05,  2.85it/s]/home/asem/GP/ICE-NODE/notebooks/../icenode/metric/stat.py:215: RuntimeWarning: invalid value encountered in long_scalars\n",
      "  rate[k][f'ACC-P{i}-k{k}'] = group_true_positive.sum(\n"
     ]
    },
    {
     "name": "stderr",
     "output_type": "stream",
     "text": [
      " 75%|██████████████████████████████████████████████████████████████████████████████████████████▊                              | 45/60 [00:20<00:05,  2.92it/s]/home/asem/GP/ICE-NODE/notebooks/../icenode/metric/stat.py:215: RuntimeWarning: invalid value encountered in long_scalars\n",
      "  rate[k][f'ACC-P{i}-k{k}'] = group_true_positive.sum(\n",
      " 77%|████████████████████████████████████████████████████████████████████████████████████████████▊                            | 46/60 [00:20<00:04,  2.86it/s]/home/asem/GP/ICE-NODE/notebooks/../icenode/metric/stat.py:215: RuntimeWarning: invalid value encountered in long_scalars\n",
      "  rate[k][f'ACC-P{i}-k{k}'] = group_true_positive.sum(\n",
      " 78%|██████████████████████████████████████████████████████████████████████████████████████████████▊                          | 47/60 [00:20<00:04,  2.92it/s]/home/asem/GP/ICE-NODE/notebooks/../icenode/metric/stat.py:215: RuntimeWarning: invalid value encountered in long_scalars\n",
      "  rate[k][f'ACC-P{i}-k{k}'] = group_true_positive.sum(\n",
      " 80%|████████████████████████████████████████████████████████████████████████████████████████████████▊                        | 48/60 [00:21<00:04,  2.93it/s]/home/asem/GP/ICE-NODE/notebooks/../icenode/metric/stat.py:215: RuntimeWarning: invalid value encountered in long_scalars\n",
      "  rate[k][f'ACC-P{i}-k{k}'] = group_true_positive.sum(\n",
      " 82%|██████████████████████████████████████████████████████████████████████████████████████████████████▊                      | 49/60 [00:21<00:03,  2.94it/s]/home/asem/GP/ICE-NODE/notebooks/../icenode/metric/stat.py:215: RuntimeWarning: invalid value encountered in long_scalars\n",
      "  rate[k][f'ACC-P{i}-k{k}'] = group_true_positive.sum(\n",
      " 83%|████████████████████████████████████████████████████████████████████████████████████████████████████▊                    | 50/60 [00:21<00:03,  2.96it/s]/home/asem/GP/ICE-NODE/notebooks/../icenode/metric/stat.py:215: RuntimeWarning: invalid value encountered in long_scalars\n",
      "  rate[k][f'ACC-P{i}-k{k}'] = group_true_positive.sum(\n",
      " 85%|██████████████████████████████████████████████████████████████████████████████████████████████████████▊                  | 51/60 [00:22<00:03,  2.95it/s]/home/asem/GP/ICE-NODE/notebooks/../icenode/metric/stat.py:215: RuntimeWarning: invalid value encountered in long_scalars\n",
      "  rate[k][f'ACC-P{i}-k{k}'] = group_true_positive.sum(\n",
      " 87%|████████████████████████████████████████████████████████████████████████████████████████████████████████▊                | 52/60 [00:22<00:02,  2.93it/s]/home/asem/GP/ICE-NODE/notebooks/../icenode/metric/stat.py:215: RuntimeWarning: invalid value encountered in long_scalars\n",
      "  rate[k][f'ACC-P{i}-k{k}'] = group_true_positive.sum(\n",
      " 88%|██████████████████████████████████████████████████████████████████████████████████████████████████████████▉              | 53/60 [00:22<00:02,  2.84it/s]/home/asem/GP/ICE-NODE/notebooks/../icenode/metric/stat.py:215: RuntimeWarning: invalid value encountered in long_scalars\n",
      "  rate[k][f'ACC-P{i}-k{k}'] = group_true_positive.sum(\n",
      " 90%|████████████████████████████████████████████████████████████████████████████████████████████████████████████▉            | 54/60 [00:23<00:02,  2.89it/s]/home/asem/GP/ICE-NODE/notebooks/../icenode/metric/stat.py:215: RuntimeWarning: invalid value encountered in long_scalars\n",
      "  rate[k][f'ACC-P{i}-k{k}'] = group_true_positive.sum(\n",
      " 92%|██████████████████████████████████████████████████████████████████████████████████████████████████████████████▉          | 55/60 [00:23<00:01,  2.85it/s]/home/asem/GP/ICE-NODE/notebooks/../icenode/metric/stat.py:215: RuntimeWarning: invalid value encountered in long_scalars\n",
      "  rate[k][f'ACC-P{i}-k{k}'] = group_true_positive.sum(\n",
      " 93%|████████████████████████████████████████████████████████████████████████████████████████████████████████████████▉        | 56/60 [00:23<00:01,  2.84it/s]/home/asem/GP/ICE-NODE/notebooks/../icenode/metric/stat.py:215: RuntimeWarning: invalid value encountered in long_scalars\n",
      "  rate[k][f'ACC-P{i}-k{k}'] = group_true_positive.sum(\n",
      " 95%|██████████████████████████████████████████████████████████████████████████████████████████████████████████████████▉      | 57/60 [00:24<00:01,  2.89it/s]/home/asem/GP/ICE-NODE/notebooks/../icenode/metric/stat.py:215: RuntimeWarning: invalid value encountered in long_scalars\n",
      "  rate[k][f'ACC-P{i}-k{k}'] = group_true_positive.sum(\n",
      " 97%|████████████████████████████████████████████████████████████████████████████████████████████████████████████████████▉    | 58/60 [00:24<00:00,  2.91it/s]/home/asem/GP/ICE-NODE/notebooks/../icenode/metric/stat.py:215: RuntimeWarning: invalid value encountered in long_scalars\n",
      "  rate[k][f'ACC-P{i}-k{k}'] = group_true_positive.sum(\n",
      " 98%|██████████████████████████████████████████████████████████████████████████████████████████████████████████████████████▉  | 59/60 [00:24<00:00,  2.97it/s]/home/asem/GP/ICE-NODE/notebooks/../icenode/metric/stat.py:215: RuntimeWarning: invalid value encountered in long_scalars\n",
      "  rate[k][f'ACC-P{i}-k{k}'] = group_true_positive.sum(\n",
      "/home/asem/GP/ICE-NODE/notebooks/../icenode/metric/stat.py:215: RuntimeWarning: invalid value encountered in long_scalars\n",
      "  rate[k][f'ACC-P{i}-k{k}'] = group_true_positive.sum(\n",
      "100%|█████████████████████████████████████████████████████████████████████████████████████████████████████████████████████████| 60/60 [00:25<00:00,  2.37it/s]\n"
     ]
    }
   ],
   "source": [
    "## TODO: This can take up to (xx), trained model already exist in (yy).\n",
    "cprd_trained_gru = T.train(cprd_models['GRU'], config=model_config['GRU'], \n",
    "                         splits=cprd_splits, code_groups=cprd_train_percentiles,\n",
    "                         reporters=cprd_reporters['GRU'])"
   ]
  },
  {
   "cell_type": "markdown",
   "id": "78ad24c2",
   "metadata": {},
   "source": [
    "#### RETAIN"
   ]
  },
  {
   "cell_type": "code",
   "execution_count": 15,
   "id": "72f0b60c",
   "metadata": {},
   "outputs": [
    {
     "name": "stderr",
     "output_type": "stream",
     "text": [
      "  0%|                                                                                                                                  | 0/60 [00:00<?, ?it/s]/home/asem/GP/env/icenode-dev/lib/python3.8/site-packages/haiku/_src/data_structures.py:144: FutureWarning: jax.tree_flatten is deprecated, and will be removed in a future release. Use jax.tree_util.tree_flatten instead.\n",
      "  leaves, treedef = jax.tree_flatten(tree)\n",
      "/home/asem/GP/env/icenode-dev/lib/python3.8/site-packages/haiku/_src/data_structures.py:145: FutureWarning: jax.tree_unflatten is deprecated, and will be removed in a future release. Use jax.tree_util.tree_unflatten instead.\n",
      "  return jax.tree_unflatten(treedef, leaves)\n",
      "/home/asem/GP/env/icenode-dev/lib/python3.8/site-packages/haiku/_src/data_structures.py:144: FutureWarning: jax.tree_flatten is deprecated, and will be removed in a future release. Use jax.tree_util.tree_flatten instead.\n",
      "  leaves, treedef = jax.tree_flatten(tree)\n",
      "/home/asem/GP/env/icenode-dev/lib/python3.8/site-packages/haiku/_src/data_structures.py:145: FutureWarning: jax.tree_unflatten is deprecated, and will be removed in a future release. Use jax.tree_util.tree_unflatten instead.\n",
      "  return jax.tree_unflatten(treedef, leaves)\n",
      "/home/asem/GP/ICE-NODE/notebooks/../icenode/metric/stat.py:215: RuntimeWarning: invalid value encountered in long_scalars\n",
      "  rate[k][f'ACC-P{i}-k{k}'] = group_true_positive.sum(\n",
      "  2%|██                                                                                                                        | 1/60 [00:10<10:22, 10.54s/it]/home/asem/GP/ICE-NODE/notebooks/../icenode/metric/stat.py:215: RuntimeWarning: invalid value encountered in long_scalars\n",
      "  rate[k][f'ACC-P{i}-k{k}'] = group_true_positive.sum(\n",
      "  3%|████                                                                                                                      | 2/60 [00:11<04:30,  4.66s/it]/home/asem/GP/ICE-NODE/notebooks/../icenode/metric/stat.py:215: RuntimeWarning: invalid value encountered in long_scalars\n",
      "  rate[k][f'ACC-P{i}-k{k}'] = group_true_positive.sum(\n",
      "  5%|██████                                                                                                                    | 3/60 [00:11<02:37,  2.76s/it]/home/asem/GP/ICE-NODE/notebooks/../icenode/metric/stat.py:215: RuntimeWarning: invalid value encountered in long_scalars\n",
      "  rate[k][f'ACC-P{i}-k{k}'] = group_true_positive.sum(\n",
      "  7%|████████▏                                                                                                                 | 4/60 [00:12<01:44,  1.87s/it]/home/asem/GP/ICE-NODE/notebooks/../icenode/metric/stat.py:215: RuntimeWarning: invalid value encountered in long_scalars\n",
      "  rate[k][f'ACC-P{i}-k{k}'] = group_true_positive.sum(\n",
      "  8%|██████████▏                                                                                                               | 5/60 [00:12<01:16,  1.39s/it]/home/asem/GP/ICE-NODE/notebooks/../icenode/metric/stat.py:215: RuntimeWarning: invalid value encountered in long_scalars\n",
      "  rate[k][f'ACC-P{i}-k{k}'] = group_true_positive.sum(\n",
      " 10%|████████████▏                                                                                                             | 6/60 [00:13<00:59,  1.10s/it]/home/asem/GP/ICE-NODE/notebooks/../icenode/metric/stat.py:215: RuntimeWarning: invalid value encountered in long_scalars\n",
      "  rate[k][f'ACC-P{i}-k{k}'] = group_true_positive.sum(\n",
      " 12%|██████████████▏                                                                                                           | 7/60 [00:13<00:49,  1.08it/s]/home/asem/GP/ICE-NODE/notebooks/../icenode/metric/stat.py:215: RuntimeWarning: invalid value encountered in long_scalars\n",
      "  rate[k][f'ACC-P{i}-k{k}'] = group_true_positive.sum(\n",
      " 13%|████████████████▎                                                                                                         | 8/60 [00:14<00:41,  1.25it/s]/home/asem/GP/ICE-NODE/notebooks/../icenode/metric/stat.py:215: RuntimeWarning: invalid value encountered in long_scalars\n",
      "  rate[k][f'ACC-P{i}-k{k}'] = group_true_positive.sum(\n",
      " 15%|██████████████████▎                                                                                                       | 9/60 [00:14<00:36,  1.40it/s]/home/asem/GP/ICE-NODE/notebooks/../icenode/metric/stat.py:215: RuntimeWarning: invalid value encountered in long_scalars\n",
      "  rate[k][f'ACC-P{i}-k{k}'] = group_true_positive.sum(\n",
      " 17%|████████████████████▏                                                                                                    | 10/60 [00:15<00:32,  1.53it/s]/home/asem/GP/ICE-NODE/notebooks/../icenode/metric/stat.py:215: RuntimeWarning: invalid value encountered in long_scalars\n",
      "  rate[k][f'ACC-P{i}-k{k}'] = group_true_positive.sum(\n",
      " 18%|██████████████████████▏                                                                                                  | 11/60 [00:15<00:29,  1.64it/s]/home/asem/GP/ICE-NODE/notebooks/../icenode/metric/stat.py:215: RuntimeWarning: invalid value encountered in long_scalars\n",
      "  rate[k][f'ACC-P{i}-k{k}'] = group_true_positive.sum(\n",
      " 20%|████████████████████████▏                                                                                                | 12/60 [00:16<00:28,  1.68it/s]/home/asem/GP/ICE-NODE/notebooks/../icenode/metric/stat.py:215: RuntimeWarning: invalid value encountered in long_scalars\n",
      "  rate[k][f'ACC-P{i}-k{k}'] = group_true_positive.sum(\n",
      " 22%|██████████████████████████▏                                                                                              | 13/60 [00:16<00:27,  1.71it/s]/home/asem/GP/ICE-NODE/notebooks/../icenode/metric/stat.py:215: RuntimeWarning: invalid value encountered in long_scalars\n",
      "  rate[k][f'ACC-P{i}-k{k}'] = group_true_positive.sum(\n",
      " 23%|████████████████████████████▏                                                                                            | 14/60 [00:17<00:25,  1.80it/s]/home/asem/GP/ICE-NODE/notebooks/../icenode/metric/stat.py:215: RuntimeWarning: invalid value encountered in long_scalars\n",
      "  rate[k][f'ACC-P{i}-k{k}'] = group_true_positive.sum(\n",
      " 25%|██████████████████████████████▎                                                                                          | 15/60 [00:17<00:24,  1.80it/s]/home/asem/GP/ICE-NODE/notebooks/../icenode/metric/stat.py:215: RuntimeWarning: invalid value encountered in long_scalars\n",
      "  rate[k][f'ACC-P{i}-k{k}'] = group_true_positive.sum(\n",
      " 27%|████████████████████████████████▎                                                                                        | 16/60 [00:18<00:23,  1.84it/s]/home/asem/GP/ICE-NODE/notebooks/../icenode/metric/stat.py:215: RuntimeWarning: invalid value encountered in long_scalars\n",
      "  rate[k][f'ACC-P{i}-k{k}'] = group_true_positive.sum(\n",
      " 28%|██████████████████████████████████▎                                                                                      | 17/60 [00:19<00:23,  1.86it/s]/home/asem/GP/ICE-NODE/notebooks/../icenode/metric/stat.py:215: RuntimeWarning: invalid value encountered in long_scalars\n",
      "  rate[k][f'ACC-P{i}-k{k}'] = group_true_positive.sum(\n",
      " 30%|████████████████████████████████████▎                                                                                    | 18/60 [00:19<00:21,  1.92it/s]/home/asem/GP/ICE-NODE/notebooks/../icenode/metric/stat.py:215: RuntimeWarning: invalid value encountered in long_scalars\n",
      "  rate[k][f'ACC-P{i}-k{k}'] = group_true_positive.sum(\n",
      " 32%|██████████████████████████████████████▎                                                                                  | 19/60 [00:20<00:21,  1.91it/s]/home/asem/GP/ICE-NODE/notebooks/../icenode/metric/stat.py:215: RuntimeWarning: invalid value encountered in long_scalars\n",
      "  rate[k][f'ACC-P{i}-k{k}'] = group_true_positive.sum(\n",
      " 33%|████████████████████████████████████████▎                                                                                | 20/60 [00:20<00:24,  1.66it/s]/home/asem/GP/ICE-NODE/notebooks/../icenode/metric/stat.py:215: RuntimeWarning: invalid value encountered in long_scalars\n",
      "  rate[k][f'ACC-P{i}-k{k}'] = group_true_positive.sum(\n",
      " 35%|██████████████████████████████████████████▎                                                                              | 21/60 [00:21<00:22,  1.70it/s]/home/asem/GP/ICE-NODE/notebooks/../icenode/metric/stat.py:215: RuntimeWarning: invalid value encountered in long_scalars\n",
      "  rate[k][f'ACC-P{i}-k{k}'] = group_true_positive.sum(\n",
      " 37%|████████████████████████████████████████████▎                                                                            | 22/60 [00:21<00:22,  1.72it/s]/home/asem/GP/ICE-NODE/notebooks/../icenode/metric/stat.py:215: RuntimeWarning: invalid value encountered in long_scalars\n",
      "  rate[k][f'ACC-P{i}-k{k}'] = group_true_positive.sum(\n",
      " 38%|██████████████████████████████████████████████▍                                                                          | 23/60 [00:22<00:20,  1.80it/s]/home/asem/GP/ICE-NODE/notebooks/../icenode/metric/stat.py:215: RuntimeWarning: invalid value encountered in long_scalars\n",
      "  rate[k][f'ACC-P{i}-k{k}'] = group_true_positive.sum(\n",
      " 40%|████████████████████████████████████████████████▍                                                                        | 24/60 [00:22<00:19,  1.81it/s]/home/asem/GP/ICE-NODE/notebooks/../icenode/metric/stat.py:215: RuntimeWarning: invalid value encountered in long_scalars\n",
      "  rate[k][f'ACC-P{i}-k{k}'] = group_true_positive.sum(\n",
      " 42%|██████████████████████████████████████████████████▍                                                                      | 25/60 [00:23<00:19,  1.80it/s]/home/asem/GP/ICE-NODE/notebooks/../icenode/metric/stat.py:215: RuntimeWarning: invalid value encountered in long_scalars\n",
      "  rate[k][f'ACC-P{i}-k{k}'] = group_true_positive.sum(\n",
      " 43%|████████████████████████████████████████████████████▍                                                                    | 26/60 [00:24<00:18,  1.86it/s]/home/asem/GP/ICE-NODE/notebooks/../icenode/metric/stat.py:215: RuntimeWarning: invalid value encountered in long_scalars\n",
      "  rate[k][f'ACC-P{i}-k{k}'] = group_true_positive.sum(\n",
      " 45%|██████████████████████████████████████████████████████▍                                                                  | 27/60 [00:24<00:17,  1.87it/s]/home/asem/GP/ICE-NODE/notebooks/../icenode/metric/stat.py:215: RuntimeWarning: invalid value encountered in long_scalars\n",
      "  rate[k][f'ACC-P{i}-k{k}'] = group_true_positive.sum(\n",
      " 47%|████████████████████████████████████████████████████████▍                                                                | 28/60 [00:25<00:16,  1.89it/s]/home/asem/GP/ICE-NODE/notebooks/../icenode/metric/stat.py:215: RuntimeWarning: invalid value encountered in long_scalars\n",
      "  rate[k][f'ACC-P{i}-k{k}'] = group_true_positive.sum(\n",
      " 48%|██████████████████████████████████████████████████████████▍                                                              | 29/60 [00:25<00:16,  1.90it/s]/home/asem/GP/ICE-NODE/notebooks/../icenode/metric/stat.py:215: RuntimeWarning: invalid value encountered in long_scalars\n",
      "  rate[k][f'ACC-P{i}-k{k}'] = group_true_positive.sum(\n",
      " 50%|████████████████████████████████████████████████████████████▌                                                            | 30/60 [00:26<00:15,  1.89it/s]/home/asem/GP/ICE-NODE/notebooks/../icenode/metric/stat.py:215: RuntimeWarning: invalid value encountered in long_scalars\n",
      "  rate[k][f'ACC-P{i}-k{k}'] = group_true_positive.sum(\n",
      " 52%|██████████████████████████████████████████████████████████████▌                                                          | 31/60 [00:26<00:15,  1.87it/s]/home/asem/GP/ICE-NODE/notebooks/../icenode/metric/stat.py:215: RuntimeWarning: invalid value encountered in long_scalars\n",
      "  rate[k][f'ACC-P{i}-k{k}'] = group_true_positive.sum(\n",
      " 53%|████████████████████████████████████████████████████████████████▌                                                        | 32/60 [00:27<00:15,  1.85it/s]/home/asem/GP/ICE-NODE/notebooks/../icenode/metric/stat.py:215: RuntimeWarning: invalid value encountered in long_scalars\n",
      "  rate[k][f'ACC-P{i}-k{k}'] = group_true_positive.sum(\n",
      " 55%|██████████████████████████████████████████████████████████████████▌                                                      | 33/60 [00:27<00:14,  1.86it/s]/home/asem/GP/ICE-NODE/notebooks/../icenode/metric/stat.py:215: RuntimeWarning: invalid value encountered in long_scalars\n",
      "  rate[k][f'ACC-P{i}-k{k}'] = group_true_positive.sum(\n",
      " 57%|████████████████████████████████████████████████████████████████████▌                                                    | 34/60 [00:28<00:14,  1.83it/s]/home/asem/GP/ICE-NODE/notebooks/../icenode/metric/stat.py:215: RuntimeWarning: invalid value encountered in long_scalars\n",
      "  rate[k][f'ACC-P{i}-k{k}'] = group_true_positive.sum(\n",
      " 58%|██████████████████████████████████████████████████████████████████████▌                                                  | 35/60 [00:28<00:13,  1.81it/s]/home/asem/GP/ICE-NODE/notebooks/../icenode/metric/stat.py:215: RuntimeWarning: invalid value encountered in long_scalars\n",
      "  rate[k][f'ACC-P{i}-k{k}'] = group_true_positive.sum(\n",
      " 60%|████████████████████████████████████████████████████████████████████████▌                                                | 36/60 [00:29<00:13,  1.78it/s]/home/asem/GP/ICE-NODE/notebooks/../icenode/metric/stat.py:215: RuntimeWarning: invalid value encountered in long_scalars\n",
      "  rate[k][f'ACC-P{i}-k{k}'] = group_true_positive.sum(\n",
      " 62%|██████████████████████████████████████████████████████████████████████████▌                                              | 37/60 [00:30<00:12,  1.82it/s]/home/asem/GP/ICE-NODE/notebooks/../icenode/metric/stat.py:215: RuntimeWarning: invalid value encountered in long_scalars\n",
      "  rate[k][f'ACC-P{i}-k{k}'] = group_true_positive.sum(\n",
      " 63%|████████████████████████████████████████████████████████████████████████████▋                                            | 38/60 [00:30<00:11,  1.84it/s]/home/asem/GP/ICE-NODE/notebooks/../icenode/metric/stat.py:215: RuntimeWarning: invalid value encountered in long_scalars\n",
      "  rate[k][f'ACC-P{i}-k{k}'] = group_true_positive.sum(\n",
      " 65%|██████████████████████████████████████████████████████████████████████████████▋                                          | 39/60 [00:31<00:11,  1.90it/s]/home/asem/GP/ICE-NODE/notebooks/../icenode/metric/stat.py:215: RuntimeWarning: invalid value encountered in long_scalars\n",
      "  rate[k][f'ACC-P{i}-k{k}'] = group_true_positive.sum(\n",
      " 67%|████████████████████████████████████████████████████████████████████████████████▋                                        | 40/60 [00:31<00:10,  1.94it/s]/home/asem/GP/ICE-NODE/notebooks/../icenode/metric/stat.py:215: RuntimeWarning: invalid value encountered in long_scalars\n",
      "  rate[k][f'ACC-P{i}-k{k}'] = group_true_positive.sum(\n",
      " 68%|██████████████████████████████████████████████████████████████████████████████████▋                                      | 41/60 [00:32<00:09,  1.94it/s]/home/asem/GP/ICE-NODE/notebooks/../icenode/metric/stat.py:215: RuntimeWarning: invalid value encountered in long_scalars\n",
      "  rate[k][f'ACC-P{i}-k{k}'] = group_true_positive.sum(\n",
      " 70%|████████████████████████████████████████████████████████████████████████████████████▋                                    | 42/60 [00:32<00:09,  1.99it/s]/home/asem/GP/ICE-NODE/notebooks/../icenode/metric/stat.py:215: RuntimeWarning: invalid value encountered in long_scalars\n",
      "  rate[k][f'ACC-P{i}-k{k}'] = group_true_positive.sum(\n",
      " 72%|██████████████████████████████████████████████████████████████████████████████████████▋                                  | 43/60 [00:33<00:08,  1.98it/s]/home/asem/GP/ICE-NODE/notebooks/../icenode/metric/stat.py:215: RuntimeWarning: invalid value encountered in long_scalars\n",
      "  rate[k][f'ACC-P{i}-k{k}'] = group_true_positive.sum(\n",
      " 73%|████████████████████████████████████████████████████████████████████████████████████████▋                                | 44/60 [00:33<00:08,  1.98it/s]/home/asem/GP/ICE-NODE/notebooks/../icenode/metric/stat.py:215: RuntimeWarning: invalid value encountered in long_scalars\n",
      "  rate[k][f'ACC-P{i}-k{k}'] = group_true_positive.sum(\n"
     ]
    },
    {
     "name": "stderr",
     "output_type": "stream",
     "text": [
      " 75%|██████████████████████████████████████████████████████████████████████████████████████████▊                              | 45/60 [00:34<00:07,  1.99it/s]/home/asem/GP/ICE-NODE/notebooks/../icenode/metric/stat.py:215: RuntimeWarning: invalid value encountered in long_scalars\n",
      "  rate[k][f'ACC-P{i}-k{k}'] = group_true_positive.sum(\n",
      " 77%|████████████████████████████████████████████████████████████████████████████████████████████▊                            | 46/60 [00:34<00:06,  2.02it/s]/home/asem/GP/ICE-NODE/notebooks/../icenode/metric/stat.py:215: RuntimeWarning: invalid value encountered in long_scalars\n",
      "  rate[k][f'ACC-P{i}-k{k}'] = group_true_positive.sum(\n",
      " 78%|██████████████████████████████████████████████████████████████████████████████████████████████▊                          | 47/60 [00:34<00:06,  2.04it/s]/home/asem/GP/ICE-NODE/notebooks/../icenode/metric/stat.py:215: RuntimeWarning: invalid value encountered in long_scalars\n",
      "  rate[k][f'ACC-P{i}-k{k}'] = group_true_positive.sum(\n",
      " 80%|████████████████████████████████████████████████████████████████████████████████████████████████▊                        | 48/60 [00:35<00:06,  1.97it/s]/home/asem/GP/ICE-NODE/notebooks/../icenode/metric/stat.py:215: RuntimeWarning: invalid value encountered in long_scalars\n",
      "  rate[k][f'ACC-P{i}-k{k}'] = group_true_positive.sum(\n",
      " 82%|██████████████████████████████████████████████████████████████████████████████████████████████████▊                      | 49/60 [00:36<00:05,  1.95it/s]/home/asem/GP/ICE-NODE/notebooks/../icenode/metric/stat.py:215: RuntimeWarning: invalid value encountered in long_scalars\n",
      "  rate[k][f'ACC-P{i}-k{k}'] = group_true_positive.sum(\n",
      " 83%|████████████████████████████████████████████████████████████████████████████████████████████████████▊                    | 50/60 [00:36<00:05,  1.94it/s]/home/asem/GP/ICE-NODE/notebooks/../icenode/metric/stat.py:215: RuntimeWarning: invalid value encountered in long_scalars\n",
      "  rate[k][f'ACC-P{i}-k{k}'] = group_true_positive.sum(\n",
      " 85%|██████████████████████████████████████████████████████████████████████████████████████████████████████▊                  | 51/60 [00:37<00:04,  1.90it/s]/home/asem/GP/ICE-NODE/notebooks/../icenode/metric/stat.py:215: RuntimeWarning: invalid value encountered in long_scalars\n",
      "  rate[k][f'ACC-P{i}-k{k}'] = group_true_positive.sum(\n",
      " 87%|████████████████████████████████████████████████████████████████████████████████████████████████████████▊                | 52/60 [00:37<00:04,  1.89it/s]/home/asem/GP/ICE-NODE/notebooks/../icenode/metric/stat.py:215: RuntimeWarning: invalid value encountered in long_scalars\n",
      "  rate[k][f'ACC-P{i}-k{k}'] = group_true_positive.sum(\n",
      " 88%|██████████████████████████████████████████████████████████████████████████████████████████████████████████▉              | 53/60 [00:38<00:03,  1.93it/s]/home/asem/GP/ICE-NODE/notebooks/../icenode/metric/stat.py:215: RuntimeWarning: invalid value encountered in long_scalars\n",
      "  rate[k][f'ACC-P{i}-k{k}'] = group_true_positive.sum(\n",
      " 90%|████████████████████████████████████████████████████████████████████████████████████████████████████████████▉            | 54/60 [00:38<00:03,  1.86it/s]/home/asem/GP/ICE-NODE/notebooks/../icenode/metric/stat.py:215: RuntimeWarning: invalid value encountered in long_scalars\n",
      "  rate[k][f'ACC-P{i}-k{k}'] = group_true_positive.sum(\n",
      " 92%|██████████████████████████████████████████████████████████████████████████████████████████████████████████████▉          | 55/60 [00:39<00:02,  1.91it/s]/home/asem/GP/ICE-NODE/notebooks/../icenode/metric/stat.py:215: RuntimeWarning: invalid value encountered in long_scalars\n",
      "  rate[k][f'ACC-P{i}-k{k}'] = group_true_positive.sum(\n",
      " 93%|████████████████████████████████████████████████████████████████████████████████████████████████████████████████▉        | 56/60 [00:39<00:02,  1.94it/s]/home/asem/GP/ICE-NODE/notebooks/../icenode/metric/stat.py:215: RuntimeWarning: invalid value encountered in long_scalars\n",
      "  rate[k][f'ACC-P{i}-k{k}'] = group_true_positive.sum(\n",
      " 95%|██████████████████████████████████████████████████████████████████████████████████████████████████████████████████▉      | 57/60 [00:40<00:01,  1.98it/s]/home/asem/GP/ICE-NODE/notebooks/../icenode/metric/stat.py:215: RuntimeWarning: invalid value encountered in long_scalars\n",
      "  rate[k][f'ACC-P{i}-k{k}'] = group_true_positive.sum(\n",
      " 97%|████████████████████████████████████████████████████████████████████████████████████████████████████████████████████▉    | 58/60 [00:40<00:01,  1.94it/s]/home/asem/GP/ICE-NODE/notebooks/../icenode/metric/stat.py:215: RuntimeWarning: invalid value encountered in long_scalars\n",
      "  rate[k][f'ACC-P{i}-k{k}'] = group_true_positive.sum(\n",
      " 98%|██████████████████████████████████████████████████████████████████████████████████████████████████████████████████████▉  | 59/60 [00:41<00:00,  1.98it/s]/home/asem/GP/ICE-NODE/notebooks/../icenode/metric/stat.py:215: RuntimeWarning: invalid value encountered in long_scalars\n",
      "  rate[k][f'ACC-P{i}-k{k}'] = group_true_positive.sum(\n",
      "/home/asem/GP/ICE-NODE/notebooks/../icenode/metric/stat.py:215: RuntimeWarning: invalid value encountered in long_scalars\n",
      "  rate[k][f'ACC-P{i}-k{k}'] = group_true_positive.sum(\n",
      "100%|█████████████████████████████████████████████████████████████████████████████████████████████████████████████████████████| 60/60 [00:41<00:00,  1.43it/s]\n"
     ]
    }
   ],
   "source": [
    "## TODO: This can take up to (xx), trained model already exist in (yy).\n",
    "cprd_trained_retain = T.train(cprd_models['RETAIN'], config=model_config['RETAIN'], \n",
    "                         splits=cprd_splits, code_groups=cprd_train_percentiles,\n",
    "                         reporters=cprd_reporters['RETAIN'])"
   ]
  },
  {
   "cell_type": "code",
   "execution_count": 16,
   "id": "efcce213",
   "metadata": {},
   "outputs": [
    {
     "name": "stderr",
     "output_type": "stream",
     "text": [
      "/home/asem/GP/ICE-NODE/notebooks/../icenode/metric/stat.py:215: RuntimeWarning: invalid value encountered in long_scalars\n",
      "  rate[k][f'ACC-P{i}-k{k}'] = group_true_positive.sum(\n",
      "/home/asem/GP/ICE-NODE/notebooks/../icenode/metric/stat.py:215: RuntimeWarning: invalid value encountered in long_scalars\n",
      "  rate[k][f'ACC-P{i}-k{k}'] = group_true_positive.sum(\n"
     ]
    }
   ],
   "source": [
    "cprd_trained_logreg = T.train(cprd_models['LogReg'], config=model_config['LogReg'], \n",
    "                         splits=cprd_splits, code_groups=cprd_train_percentiles,\n",
    "                         reporters=cprd_reporters['LogReg'])"
   ]
  },
  {
   "cell_type": "code",
   "execution_count": null,
   "id": "35f0659c",
   "metadata": {},
   "outputs": [],
   "source": []
  }
 ],
 "metadata": {
  "kernelspec": {
   "display_name": "Python 3 (ipykernel)",
   "language": "python",
   "name": "python3"
  },
  "language_info": {
   "codemirror_mode": {
    "name": "ipython",
    "version": 3
   },
   "file_extension": ".py",
   "mimetype": "text/x-python",
   "name": "python",
   "nbconvert_exporter": "python",
   "pygments_lexer": "ipython3",
   "version": "3.8.13"
  }
 },
 "nbformat": 4,
 "nbformat_minor": 5
}
