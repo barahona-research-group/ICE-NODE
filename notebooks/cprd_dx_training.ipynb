{
 "cells": [
  {
   "cell_type": "markdown",
   "id": "f53f4d3c",
   "metadata": {},
   "source": [
    "# Table of Content\n",
    "\n",
    "<a name=\"outline\"></a>\n",
    "\n",
    "## Setup\n",
    "\n",
    "- [A](#seca) External Imports\n",
    "- [B](#secb) Internal Imports\n",
    "- [C](#secc) Configurations and Paths \n",
    "- [D](#secd) Patient Interface and Train/Val/Test Partitioning\n",
    "- [E](#sece) General Utility Functions\n",
    "\n",
    "\n",
    "## Training\n",
    "\n",
    "- [1](#sec1) Training ICE-NODE and The Baselines on MIMIC-III\n",
    "- [2](#sec2) Training ICE-NODE and The Baselines on MIMIC-IV"
   ]
  },
  {
   "cell_type": "markdown",
   "id": "697a491c",
   "metadata": {},
   "source": [
    "<a name=\"seca\"></a>\n",
    "\n",
    "### A External Imports [^](#outline)"
   ]
  },
  {
   "cell_type": "code",
   "execution_count": 1,
   "id": "4cfc614e",
   "metadata": {},
   "outputs": [],
   "source": [
    "import sys\n",
    "import os\n",
    "import glob\n",
    "import random\n",
    "from collections import defaultdict\n",
    "from pathlib import Path\n",
    "\n",
    "from IPython.display import display\n",
    "\n",
    "import pandas as pd\n",
    "\n",
    "from tqdm import tqdm"
   ]
  },
  {
   "cell_type": "markdown",
   "id": "23f0d568",
   "metadata": {},
   "source": [
    "<a name=\"secb\"></a>\n",
    "\n",
    "### B Internal Imports [^](#outline)"
   ]
  },
  {
   "cell_type": "code",
   "execution_count": 2,
   "id": "894a3743",
   "metadata": {},
   "outputs": [
    {
     "name": "stderr",
     "output_type": "stream",
     "text": [
      "/home/asem/GP/env/icenode-dev/lib/python3.8/site-packages/haiku/_src/data_structures.py:37: FutureWarning: jax.tree_structure is deprecated, and will be removed in a future release. Use jax.tree_util.tree_structure instead.\n",
      "  PyTreeDef = type(jax.tree_structure(None))\n"
     ]
    }
   ],
   "source": [
    "%load_ext autoreload\n",
    "%autoreload 2\n",
    "\n",
    "import train as T\n",
    "import common as C\n"
   ]
  },
  {
   "cell_type": "code",
   "execution_count": 3,
   "id": "8c176dbe",
   "metadata": {},
   "outputs": [],
   "source": [
    "# HOME and DATA_STORE are arbitrary, change as appropriate.\n",
    "HOME = os.environ.get('HOME')\n",
    "DATA_STORE = f'{HOME}/GP/ehr-data'\n",
    "DATA_FILE = os.path.join(DATA_STORE, 'cprd-data/DUMMY_DATA.csv')\n",
    "SOURCE_DIR = os.path.abspath(\"..\")"
   ]
  },
  {
   "cell_type": "markdown",
   "id": "d9340794",
   "metadata": {},
   "source": [
    "<a name=\"secd\"></a>\n",
    "\n",
    "### D Configurations and Paths [^](#outline)"
   ]
  },
  {
   "cell_type": "markdown",
   "id": "5d5c56b2",
   "metadata": {},
   "source": [
    "**Assign** MIMIC-III and MIMIC-IV directory paths into `mimic3` and `mimic4` variables."
   ]
  },
  {
   "cell_type": "code",
   "execution_count": 4,
   "id": "f1898f46",
   "metadata": {},
   "outputs": [],
   "source": [
    "output_dir = 'cprd_artefacts'\n",
    "Path(output_dir).mkdir(parents=True, exist_ok=True)"
   ]
  },
  {
   "cell_type": "code",
   "execution_count": 5,
   "id": "86e81c71",
   "metadata": {},
   "outputs": [],
   "source": [
    "with C.modified_environ(DATA_FILE=DATA_FILE):\n",
    "    cprd_dataset = C.datasets['CPRD']\n",
    "   "
   ]
  },
  {
   "cell_type": "code",
   "execution_count": 6,
   "id": "c8d78296",
   "metadata": {},
   "outputs": [],
   "source": [
    "\"\"\"\n",
    "optimal hyperparams re: each model.\n",
    "\"\"\"\n",
    "\n",
    "model_config = {\n",
    "    'ICE-NODE': f'{SOURCE_DIR}/expt_configs/cprd/icenode_2lr.json' ,\n",
    "    'ICE-NODE_UNIFORM': f'{SOURCE_DIR}/expt_configs/cprd/icenode_2lr.json' ,\n",
    "    'GRU': f'{SOURCE_DIR}/expt_configs/cprd/gru.json' ,\n",
    "    'RETAIN': f'{SOURCE_DIR}/expt_configs/cprd/retain.json'\n",
    "}\n",
    "\n",
    "model_config = {clf: C.load_config(file) for clf, file in model_config.items()}\n",
    "\n",
    "clfs = ['ICE-NODE', 'ICE-NODE_UNIFORM', 'GRU', 'RETAIN']"
   ]
  },
  {
   "cell_type": "code",
   "execution_count": 7,
   "id": "9ccb6be2",
   "metadata": {},
   "outputs": [
    {
     "data": {
      "text/plain": [
       "[None, None, None, None]"
      ]
     },
     "execution_count": 7,
     "metadata": {},
     "output_type": "execute_result"
    }
   ],
   "source": [
    "cprd_train_output_dir = {clf: f'{output_dir}/train/{clf}' for clf in clfs}\n",
    "\n",
    "[Path(d).mkdir(parents=True, exist_ok=True) for d in cprd_train_output_dir.values()]"
   ]
  },
  {
   "cell_type": "code",
   "execution_count": 8,
   "id": "701e3b8f",
   "metadata": {},
   "outputs": [],
   "source": [
    "cprd_reporters = T.make_reporters(clfs, cprd_train_output_dir)"
   ]
  },
  {
   "cell_type": "markdown",
   "id": "24d26707",
   "metadata": {},
   "source": [
    "<a name=\"sece\"></a>\n",
    "\n",
    "### E Patient Interface and Train/Val/Test Patitioning [^](#outline)"
   ]
  },
  {
   "cell_type": "code",
   "execution_count": 9,
   "id": "02e43e04",
   "metadata": {},
   "outputs": [],
   "source": [
    "code_scheme = {\n",
    "    'dx': 'dx_cprd_ltc9809',\n",
    "    'dx_outcome': 'dx_cprd_ltc9809'\n",
    "}\n",
    "cprd_interface = C.Subject_JAX.from_dataset(cprd_dataset, code_scheme=code_scheme)\n",
    "cprd_splits = cprd_interface.random_splits(split1=0.7, split2=0.85, random_seed=42)\n"
   ]
  },
  {
   "cell_type": "code",
   "execution_count": 10,
   "id": "ca3a0902",
   "metadata": {},
   "outputs": [],
   "source": [
    "cprd_percentiles = cprd_interface.dx_outcome_by_percentiles(20)\n",
    "cprd_train_percentiles = cprd_interface.dx_outcome_by_percentiles(20, cprd_splits[0])"
   ]
  },
  {
   "cell_type": "code",
   "execution_count": 11,
   "id": "542d1b22",
   "metadata": {},
   "outputs": [
    {
     "name": "stderr",
     "output_type": "stream",
     "text": [
      "/home/asem/GP/env/icenode-dev/lib/python3.8/site-packages/haiku/_src/data_structures.py:144: FutureWarning: jax.tree_flatten is deprecated, and will be removed in a future release. Use jax.tree_util.tree_flatten instead.\n",
      "  leaves, treedef = jax.tree_flatten(tree)\n",
      "/home/asem/GP/env/icenode-dev/lib/python3.8/site-packages/haiku/_src/data_structures.py:145: FutureWarning: jax.tree_unflatten is deprecated, and will be removed in a future release. Use jax.tree_util.tree_unflatten instead.\n",
      "  return jax.tree_unflatten(treedef, leaves)\n"
     ]
    }
   ],
   "source": [
    "cprd_models = T.init_models(clfs, model_config, cprd_interface, cprd_splits[0])\n"
   ]
  },
  {
   "cell_type": "markdown",
   "id": "05f87624",
   "metadata": {},
   "source": [
    "<a name=\"sec1\"></a>\n",
    "\n",
    "### 1 Training ICE-NODE and The Baselines on MIMIC-III [^](#outline)"
   ]
  },
  {
   "cell_type": "markdown",
   "id": "958d7262",
   "metadata": {},
   "source": [
    "#### ICE-NODE"
   ]
  },
  {
   "cell_type": "code",
   "execution_count": 12,
   "id": "c91a09d4",
   "metadata": {},
   "outputs": [
    {
     "name": "stderr",
     "output_type": "stream",
     "text": [
      "  0%|                                                                                                                            | 0/60 [00:00<?, ?it/s]/home/asem/GP/env/icenode-dev/lib/python3.8/site-packages/haiku/_src/data_structures.py:144: FutureWarning: jax.tree_flatten is deprecated, and will be removed in a future release. Use jax.tree_util.tree_flatten instead.\n",
      "  leaves, treedef = jax.tree_flatten(tree)\n",
      "/home/asem/GP/env/icenode-dev/lib/python3.8/site-packages/haiku/_src/data_structures.py:145: FutureWarning: jax.tree_unflatten is deprecated, and will be removed in a future release. Use jax.tree_util.tree_unflatten instead.\n",
      "  return jax.tree_unflatten(treedef, leaves)\n",
      "/home/asem/GP/env/icenode-dev/lib/python3.8/site-packages/haiku/_src/data_structures.py:144: FutureWarning: jax.tree_flatten is deprecated, and will be removed in a future release. Use jax.tree_util.tree_flatten instead.\n",
      "  leaves, treedef = jax.tree_flatten(tree)\n",
      "/home/asem/GP/env/icenode-dev/lib/python3.8/site-packages/haiku/_src/data_structures.py:145: FutureWarning: jax.tree_unflatten is deprecated, and will be removed in a future release. Use jax.tree_util.tree_unflatten instead.\n",
      "  return jax.tree_unflatten(treedef, leaves)\n",
      "/home/asem/GP/ICE-NODE/notebooks/../icenode/metric/stat.py:215: RuntimeWarning: invalid value encountered in long_scalars\n",
      "  rate[k][f'ACC-P{i}-k{k}'] = group_true_positive.sum(\n",
      "  2%|█▉                                                                                                                  | 1/60 [00:34<34:05, 34.68s/it]/home/asem/GP/ICE-NODE/notebooks/../icenode/metric/stat.py:215: RuntimeWarning: invalid value encountered in long_scalars\n",
      "  rate[k][f'ACC-P{i}-k{k}'] = group_true_positive.sum(\n",
      "  3%|███▊                                                                                                                | 2/60 [00:35<14:02, 14.53s/it]/home/asem/GP/ICE-NODE/notebooks/../icenode/metric/stat.py:215: RuntimeWarning: invalid value encountered in long_scalars\n",
      "  rate[k][f'ACC-P{i}-k{k}'] = group_true_positive.sum(\n",
      "  5%|█████▊                                                                                                              | 3/60 [00:35<07:40,  8.08s/it]/home/asem/GP/ICE-NODE/notebooks/../icenode/metric/stat.py:215: RuntimeWarning: invalid value encountered in long_scalars\n",
      "  rate[k][f'ACC-P{i}-k{k}'] = group_true_positive.sum(\n",
      "  7%|███████▋                                                                                                            | 4/60 [00:35<04:42,  5.05s/it]/home/asem/GP/ICE-NODE/notebooks/../icenode/metric/stat.py:215: RuntimeWarning: invalid value encountered in long_scalars\n",
      "  rate[k][f'ACC-P{i}-k{k}'] = group_true_positive.sum(\n",
      "  8%|█████████▋                                                                                                          | 5/60 [00:36<03:05,  3.37s/it]/home/asem/GP/ICE-NODE/notebooks/../icenode/metric/stat.py:215: RuntimeWarning: invalid value encountered in long_scalars\n",
      "  rate[k][f'ACC-P{i}-k{k}'] = group_true_positive.sum(\n",
      " 10%|███████████▌                                                                                                        | 6/60 [00:36<02:07,  2.37s/it]/home/asem/GP/ICE-NODE/notebooks/../icenode/metric/stat.py:215: RuntimeWarning: invalid value encountered in long_scalars\n",
      "  rate[k][f'ACC-P{i}-k{k}'] = group_true_positive.sum(\n",
      " 12%|█████████████▌                                                                                                      | 7/60 [00:37<01:31,  1.73s/it]/home/asem/GP/ICE-NODE/notebooks/../icenode/metric/stat.py:215: RuntimeWarning: invalid value encountered in long_scalars\n",
      "  rate[k][f'ACC-P{i}-k{k}'] = group_true_positive.sum(\n",
      " 13%|███████████████▍                                                                                                    | 8/60 [00:37<01:07,  1.30s/it]/home/asem/GP/ICE-NODE/notebooks/../icenode/metric/stat.py:215: RuntimeWarning: invalid value encountered in long_scalars\n",
      "  rate[k][f'ACC-P{i}-k{k}'] = group_true_positive.sum(\n",
      " 15%|█████████████████▍                                                                                                  | 9/60 [00:37<00:52,  1.03s/it]/home/asem/GP/ICE-NODE/notebooks/../icenode/metric/stat.py:215: RuntimeWarning: invalid value encountered in long_scalars\n",
      "  rate[k][f'ACC-P{i}-k{k}'] = group_true_positive.sum(\n",
      " 17%|███████████████████▏                                                                                               | 10/60 [00:38<00:41,  1.19it/s]/home/asem/GP/ICE-NODE/notebooks/../icenode/metric/stat.py:215: RuntimeWarning: invalid value encountered in long_scalars\n",
      "  rate[k][f'ACC-P{i}-k{k}'] = group_true_positive.sum(\n",
      " 18%|█████████████████████                                                                                              | 11/60 [00:38<00:34,  1.43it/s]/home/asem/GP/ICE-NODE/notebooks/../icenode/metric/stat.py:215: RuntimeWarning: invalid value encountered in long_scalars\n",
      "  rate[k][f'ACC-P{i}-k{k}'] = group_true_positive.sum(\n",
      " 20%|███████████████████████                                                                                            | 12/60 [00:39<00:29,  1.65it/s]/home/asem/GP/ICE-NODE/notebooks/../icenode/metric/stat.py:215: RuntimeWarning: invalid value encountered in long_scalars\n",
      "  rate[k][f'ACC-P{i}-k{k}'] = group_true_positive.sum(\n",
      " 22%|████████████████████████▉                                                                                          | 13/60 [00:39<00:25,  1.84it/s]/home/asem/GP/ICE-NODE/notebooks/../icenode/metric/stat.py:215: RuntimeWarning: invalid value encountered in long_scalars\n",
      "  rate[k][f'ACC-P{i}-k{k}'] = group_true_positive.sum(\n",
      " 23%|██████████████████████████▊                                                                                        | 14/60 [00:39<00:23,  2.00it/s]/home/asem/GP/ICE-NODE/notebooks/../icenode/metric/stat.py:215: RuntimeWarning: invalid value encountered in long_scalars\n",
      "  rate[k][f'ACC-P{i}-k{k}'] = group_true_positive.sum(\n",
      " 25%|████████████████████████████▊                                                                                      | 15/60 [00:40<00:21,  2.13it/s]/home/asem/GP/ICE-NODE/notebooks/../icenode/metric/stat.py:215: RuntimeWarning: invalid value encountered in long_scalars\n",
      "  rate[k][f'ACC-P{i}-k{k}'] = group_true_positive.sum(\n",
      " 27%|██████████████████████████████▋                                                                                    | 16/60 [00:40<00:19,  2.22it/s]/home/asem/GP/ICE-NODE/notebooks/../icenode/metric/stat.py:215: RuntimeWarning: invalid value encountered in long_scalars\n",
      "  rate[k][f'ACC-P{i}-k{k}'] = group_true_positive.sum(\n",
      " 28%|████████████████████████████████▌                                                                                  | 17/60 [00:41<00:19,  2.24it/s]/home/asem/GP/ICE-NODE/notebooks/../icenode/metric/stat.py:215: RuntimeWarning: invalid value encountered in long_scalars\n",
      "  rate[k][f'ACC-P{i}-k{k}'] = group_true_positive.sum(\n",
      " 30%|██████████████████████████████████▌                                                                                | 18/60 [00:41<00:18,  2.23it/s]/home/asem/GP/ICE-NODE/notebooks/../icenode/metric/stat.py:215: RuntimeWarning: invalid value encountered in long_scalars\n",
      "  rate[k][f'ACC-P{i}-k{k}'] = group_true_positive.sum(\n",
      " 32%|████████████████████████████████████▍                                                                              | 19/60 [00:42<00:18,  2.23it/s]/home/asem/GP/ICE-NODE/notebooks/../icenode/metric/stat.py:215: RuntimeWarning: invalid value encountered in long_scalars\n",
      "  rate[k][f'ACC-P{i}-k{k}'] = group_true_positive.sum(\n",
      " 33%|██████████████████████████████████████▎                                                                            | 20/60 [00:42<00:17,  2.29it/s]/home/asem/GP/ICE-NODE/notebooks/../icenode/metric/stat.py:215: RuntimeWarning: invalid value encountered in long_scalars\n",
      "  rate[k][f'ACC-P{i}-k{k}'] = group_true_positive.sum(\n",
      " 35%|████████████████████████████████████████▎                                                                          | 21/60 [00:42<00:16,  2.35it/s]/home/asem/GP/ICE-NODE/notebooks/../icenode/metric/stat.py:215: RuntimeWarning: invalid value encountered in long_scalars\n",
      "  rate[k][f'ACC-P{i}-k{k}'] = group_true_positive.sum(\n"
     ]
    },
    {
     "name": "stderr",
     "output_type": "stream",
     "text": [
      " 37%|██████████████████████████████████████████▏                                                                        | 22/60 [00:43<00:15,  2.41it/s]/home/asem/GP/ICE-NODE/notebooks/../icenode/metric/stat.py:215: RuntimeWarning: invalid value encountered in long_scalars\n",
      "  rate[k][f'ACC-P{i}-k{k}'] = group_true_positive.sum(\n",
      " 38%|████████████████████████████████████████████                                                                       | 23/60 [00:43<00:15,  2.40it/s]/home/asem/GP/ICE-NODE/notebooks/../icenode/metric/stat.py:215: RuntimeWarning: invalid value encountered in long_scalars\n",
      "  rate[k][f'ACC-P{i}-k{k}'] = group_true_positive.sum(\n",
      " 40%|██████████████████████████████████████████████                                                                     | 24/60 [00:44<00:15,  2.38it/s]/home/asem/GP/ICE-NODE/notebooks/../icenode/metric/stat.py:215: RuntimeWarning: invalid value encountered in long_scalars\n",
      "  rate[k][f'ACC-P{i}-k{k}'] = group_true_positive.sum(\n",
      " 42%|███████████████████████████████████████████████▉                                                                   | 25/60 [00:44<00:14,  2.40it/s]/home/asem/GP/ICE-NODE/notebooks/../icenode/metric/stat.py:215: RuntimeWarning: invalid value encountered in long_scalars\n",
      "  rate[k][f'ACC-P{i}-k{k}'] = group_true_positive.sum(\n",
      " 43%|█████████████████████████████████████████████████▊                                                                 | 26/60 [00:44<00:14,  2.41it/s]/home/asem/GP/ICE-NODE/notebooks/../icenode/metric/stat.py:215: RuntimeWarning: invalid value encountered in long_scalars\n",
      "  rate[k][f'ACC-P{i}-k{k}'] = group_true_positive.sum(\n",
      " 45%|███████████████████████████████████████████████████▊                                                               | 27/60 [00:45<00:13,  2.40it/s]/home/asem/GP/ICE-NODE/notebooks/../icenode/metric/stat.py:215: RuntimeWarning: invalid value encountered in long_scalars\n",
      "  rate[k][f'ACC-P{i}-k{k}'] = group_true_positive.sum(\n",
      " 47%|█████████████████████████████████████████████████████▋                                                             | 28/60 [00:45<00:13,  2.42it/s]/home/asem/GP/ICE-NODE/notebooks/../icenode/metric/stat.py:215: RuntimeWarning: invalid value encountered in long_scalars\n",
      "  rate[k][f'ACC-P{i}-k{k}'] = group_true_positive.sum(\n",
      " 48%|███████████████████████████████████████████████████████▌                                                           | 29/60 [00:46<00:12,  2.41it/s]/home/asem/GP/ICE-NODE/notebooks/../icenode/metric/stat.py:215: RuntimeWarning: invalid value encountered in long_scalars\n",
      "  rate[k][f'ACC-P{i}-k{k}'] = group_true_positive.sum(\n",
      " 50%|█████████████████████████████████████████████████████████▌                                                         | 30/60 [00:46<00:12,  2.43it/s]/home/asem/GP/ICE-NODE/notebooks/../icenode/metric/stat.py:215: RuntimeWarning: invalid value encountered in long_scalars\n",
      "  rate[k][f'ACC-P{i}-k{k}'] = group_true_positive.sum(\n",
      " 52%|███████████████████████████████████████████████████████████▍                                                       | 31/60 [00:47<00:12,  2.40it/s]/home/asem/GP/ICE-NODE/notebooks/../icenode/metric/stat.py:215: RuntimeWarning: invalid value encountered in long_scalars\n",
      "  rate[k][f'ACC-P{i}-k{k}'] = group_true_positive.sum(\n",
      " 53%|█████████████████████████████████████████████████████████████▎                                                     | 32/60 [00:47<00:11,  2.38it/s]/home/asem/GP/ICE-NODE/notebooks/../icenode/metric/stat.py:215: RuntimeWarning: invalid value encountered in long_scalars\n",
      "  rate[k][f'ACC-P{i}-k{k}'] = group_true_positive.sum(\n",
      " 55%|███████████████████████████████████████████████████████████████▎                                                   | 33/60 [00:47<00:11,  2.41it/s]/home/asem/GP/ICE-NODE/notebooks/../icenode/metric/stat.py:215: RuntimeWarning: invalid value encountered in long_scalars\n",
      "  rate[k][f'ACC-P{i}-k{k}'] = group_true_positive.sum(\n",
      " 57%|█████████████████████████████████████████████████████████████████▏                                                 | 34/60 [00:48<00:10,  2.42it/s]/home/asem/GP/ICE-NODE/notebooks/../icenode/metric/stat.py:215: RuntimeWarning: invalid value encountered in long_scalars\n",
      "  rate[k][f'ACC-P{i}-k{k}'] = group_true_positive.sum(\n",
      " 58%|███████████████████████████████████████████████████████████████████                                                | 35/60 [00:48<00:10,  2.49it/s]/home/asem/GP/ICE-NODE/notebooks/../icenode/metric/stat.py:215: RuntimeWarning: invalid value encountered in long_scalars\n",
      "  rate[k][f'ACC-P{i}-k{k}'] = group_true_positive.sum(\n",
      " 60%|█████████████████████████████████████████████████████████████████████                                              | 36/60 [00:49<00:09,  2.51it/s]/home/asem/GP/ICE-NODE/notebooks/../icenode/metric/stat.py:215: RuntimeWarning: invalid value encountered in long_scalars\n",
      "  rate[k][f'ACC-P{i}-k{k}'] = group_true_positive.sum(\n",
      " 62%|██████████████████████████████████████████████████████████████████████▉                                            | 37/60 [00:49<00:09,  2.48it/s]/home/asem/GP/ICE-NODE/notebooks/../icenode/metric/stat.py:215: RuntimeWarning: invalid value encountered in long_scalars\n",
      "  rate[k][f'ACC-P{i}-k{k}'] = group_true_positive.sum(\n",
      " 63%|████████████████████████████████████████████████████████████████████████▊                                          | 38/60 [00:49<00:08,  2.47it/s]/home/asem/GP/ICE-NODE/notebooks/../icenode/metric/stat.py:215: RuntimeWarning: invalid value encountered in long_scalars\n",
      "  rate[k][f'ACC-P{i}-k{k}'] = group_true_positive.sum(\n",
      " 65%|██████████████████████████████████████████████████████████████████████████▊                                        | 39/60 [00:50<00:08,  2.51it/s]/home/asem/GP/ICE-NODE/notebooks/../icenode/metric/stat.py:215: RuntimeWarning: invalid value encountered in long_scalars\n",
      "  rate[k][f'ACC-P{i}-k{k}'] = group_true_positive.sum(\n",
      " 67%|████████████████████████████████████████████████████████████████████████████▋                                      | 40/60 [00:50<00:07,  2.51it/s]/home/asem/GP/ICE-NODE/notebooks/../icenode/metric/stat.py:215: RuntimeWarning: invalid value encountered in long_scalars\n",
      "  rate[k][f'ACC-P{i}-k{k}'] = group_true_positive.sum(\n",
      " 68%|██████████████████████████████████████████████████████████████████████████████▌                                    | 41/60 [00:51<00:07,  2.52it/s]/home/asem/GP/ICE-NODE/notebooks/../icenode/metric/stat.py:215: RuntimeWarning: invalid value encountered in long_scalars\n",
      "  rate[k][f'ACC-P{i}-k{k}'] = group_true_positive.sum(\n",
      " 70%|████████████████████████████████████████████████████████████████████████████████▌                                  | 42/60 [00:51<00:07,  2.56it/s]/home/asem/GP/ICE-NODE/notebooks/../icenode/metric/stat.py:215: RuntimeWarning: invalid value encountered in long_scalars\n",
      "  rate[k][f'ACC-P{i}-k{k}'] = group_true_positive.sum(\n",
      " 72%|██████████████████████████████████████████████████████████████████████████████████▍                                | 43/60 [00:51<00:06,  2.57it/s]/home/asem/GP/ICE-NODE/notebooks/../icenode/metric/stat.py:215: RuntimeWarning: invalid value encountered in long_scalars\n",
      "  rate[k][f'ACC-P{i}-k{k}'] = group_true_positive.sum(\n",
      " 73%|████████████████████████████████████████████████████████████████████████████████████▎                              | 44/60 [00:52<00:06,  2.56it/s]/home/asem/GP/ICE-NODE/notebooks/../icenode/metric/stat.py:215: RuntimeWarning: invalid value encountered in long_scalars\n",
      "  rate[k][f'ACC-P{i}-k{k}'] = group_true_positive.sum(\n",
      " 75%|██████████████████████████████████████████████████████████████████████████████████████▎                            | 45/60 [00:52<00:05,  2.57it/s]/home/asem/GP/ICE-NODE/notebooks/../icenode/metric/stat.py:215: RuntimeWarning: invalid value encountered in long_scalars\n",
      "  rate[k][f'ACC-P{i}-k{k}'] = group_true_positive.sum(\n",
      " 77%|████████████████████████████████████████████████████████████████████████████████████████▏                          | 46/60 [00:53<00:05,  2.52it/s]/home/asem/GP/ICE-NODE/notebooks/../icenode/metric/stat.py:215: RuntimeWarning: invalid value encountered in long_scalars\n",
      "  rate[k][f'ACC-P{i}-k{k}'] = group_true_positive.sum(\n"
     ]
    },
    {
     "name": "stderr",
     "output_type": "stream",
     "text": [
      " 78%|██████████████████████████████████████████████████████████████████████████████████████████                         | 47/60 [00:53<00:05,  2.49it/s]/home/asem/GP/ICE-NODE/notebooks/../icenode/metric/stat.py:215: RuntimeWarning: invalid value encountered in long_scalars\n",
      "  rate[k][f'ACC-P{i}-k{k}'] = group_true_positive.sum(\n",
      " 80%|████████████████████████████████████████████████████████████████████████████████████████████                       | 48/60 [00:53<00:04,  2.48it/s]/home/asem/GP/ICE-NODE/notebooks/../icenode/metric/stat.py:215: RuntimeWarning: invalid value encountered in long_scalars\n",
      "  rate[k][f'ACC-P{i}-k{k}'] = group_true_positive.sum(\n",
      " 82%|█████████████████████████████████████████████████████████████████████████████████████████████▉                     | 49/60 [00:54<00:04,  2.41it/s]/home/asem/GP/ICE-NODE/notebooks/../icenode/metric/stat.py:215: RuntimeWarning: invalid value encountered in long_scalars\n",
      "  rate[k][f'ACC-P{i}-k{k}'] = group_true_positive.sum(\n",
      " 83%|███████████████████████████████████████████████████████████████████████████████████████████████▊                   | 50/60 [00:54<00:04,  2.42it/s]/home/asem/GP/ICE-NODE/notebooks/../icenode/metric/stat.py:215: RuntimeWarning: invalid value encountered in long_scalars\n",
      "  rate[k][f'ACC-P{i}-k{k}'] = group_true_positive.sum(\n",
      " 85%|█████████████████████████████████████████████████████████████████████████████████████████████████▊                 | 51/60 [00:55<00:03,  2.49it/s]/home/asem/GP/ICE-NODE/notebooks/../icenode/metric/stat.py:215: RuntimeWarning: invalid value encountered in long_scalars\n",
      "  rate[k][f'ACC-P{i}-k{k}'] = group_true_positive.sum(\n",
      " 87%|███████████████████████████████████████████████████████████████████████████████████████████████████▋               | 52/60 [00:55<00:03,  2.47it/s]/home/asem/GP/ICE-NODE/notebooks/../icenode/metric/stat.py:215: RuntimeWarning: invalid value encountered in long_scalars\n",
      "  rate[k][f'ACC-P{i}-k{k}'] = group_true_positive.sum(\n",
      " 88%|█████████████████████████████████████████████████████████████████████████████████████████████████████▌             | 53/60 [00:55<00:02,  2.45it/s]/home/asem/GP/ICE-NODE/notebooks/../icenode/metric/stat.py:215: RuntimeWarning: invalid value encountered in long_scalars\n",
      "  rate[k][f'ACC-P{i}-k{k}'] = group_true_positive.sum(\n",
      " 90%|███████████████████████████████████████████████████████████████████████████████████████████████████████▌           | 54/60 [00:56<00:02,  2.45it/s]/home/asem/GP/ICE-NODE/notebooks/../icenode/metric/stat.py:215: RuntimeWarning: invalid value encountered in long_scalars\n",
      "  rate[k][f'ACC-P{i}-k{k}'] = group_true_positive.sum(\n",
      " 92%|█████████████████████████████████████████████████████████████████████████████████████████████████████████▍         | 55/60 [00:56<00:02,  2.46it/s]/home/asem/GP/ICE-NODE/notebooks/../icenode/metric/stat.py:215: RuntimeWarning: invalid value encountered in long_scalars\n",
      "  rate[k][f'ACC-P{i}-k{k}'] = group_true_positive.sum(\n",
      " 93%|███████████████████████████████████████████████████████████████████████████████████████████████████████████▎       | 56/60 [00:57<00:01,  2.50it/s]/home/asem/GP/ICE-NODE/notebooks/../icenode/metric/stat.py:215: RuntimeWarning: invalid value encountered in long_scalars\n",
      "  rate[k][f'ACC-P{i}-k{k}'] = group_true_positive.sum(\n",
      " 95%|█████████████████████████████████████████████████████████████████████████████████████████████████████████████▎     | 57/60 [00:57<00:01,  2.54it/s]/home/asem/GP/ICE-NODE/notebooks/../icenode/metric/stat.py:215: RuntimeWarning: invalid value encountered in long_scalars\n",
      "  rate[k][f'ACC-P{i}-k{k}'] = group_true_positive.sum(\n",
      " 97%|███████████████████████████████████████████████████████████████████████████████████████████████████████████████▏   | 58/60 [00:57<00:00,  2.57it/s]/home/asem/GP/ICE-NODE/notebooks/../icenode/metric/stat.py:215: RuntimeWarning: invalid value encountered in long_scalars\n",
      "  rate[k][f'ACC-P{i}-k{k}'] = group_true_positive.sum(\n",
      " 98%|█████████████████████████████████████████████████████████████████████████████████████████████████████████████████  | 59/60 [00:58<00:00,  2.57it/s]/home/asem/GP/ICE-NODE/notebooks/../icenode/metric/stat.py:215: RuntimeWarning: invalid value encountered in long_scalars\n",
      "  rate[k][f'ACC-P{i}-k{k}'] = group_true_positive.sum(\n",
      "/home/asem/GP/ICE-NODE/notebooks/../icenode/metric/stat.py:215: RuntimeWarning: invalid value encountered in long_scalars\n",
      "  rate[k][f'ACC-P{i}-k{k}'] = group_true_positive.sum(\n",
      "100%|███████████████████████████████████████████████████████████████████████████████████████████████████████████████████| 60/60 [00:58<00:00,  1.02it/s]\n"
     ]
    }
   ],
   "source": [
    "## TODO: This may take a long time, a pretrained model already exists in (yy).\n",
    "cprd_trained_icenode = T.train(cprd_models['ICE-NODE'], config=model_config['ICE-NODE'], \n",
    "                             splits=cprd_splits, code_groups=cprd_train_percentiles,\n",
    "                             reporters=cprd_reporters['ICE-NODE'])"
   ]
  },
  {
   "cell_type": "markdown",
   "id": "bf6a21bb",
   "metadata": {},
   "source": [
    "#### ICE-NODE_UNIFORM"
   ]
  },
  {
   "cell_type": "code",
   "execution_count": null,
   "id": "f868ee28",
   "metadata": {},
   "outputs": [
    {
     "name": "stderr",
     "output_type": "stream",
     "text": [
      "  0%|                                                                                                                            | 0/60 [00:00<?, ?it/s]/home/asem/GP/env/icenode-dev/lib/python3.8/site-packages/haiku/_src/data_structures.py:144: FutureWarning: jax.tree_flatten is deprecated, and will be removed in a future release. Use jax.tree_util.tree_flatten instead.\n",
      "  leaves, treedef = jax.tree_flatten(tree)\n",
      "/home/asem/GP/env/icenode-dev/lib/python3.8/site-packages/haiku/_src/data_structures.py:145: FutureWarning: jax.tree_unflatten is deprecated, and will be removed in a future release. Use jax.tree_util.tree_unflatten instead.\n",
      "  return jax.tree_unflatten(treedef, leaves)\n",
      "/home/asem/GP/env/icenode-dev/lib/python3.8/site-packages/haiku/_src/data_structures.py:144: FutureWarning: jax.tree_flatten is deprecated, and will be removed in a future release. Use jax.tree_util.tree_flatten instead.\n",
      "  leaves, treedef = jax.tree_flatten(tree)\n",
      "/home/asem/GP/env/icenode-dev/lib/python3.8/site-packages/haiku/_src/data_structures.py:145: FutureWarning: jax.tree_unflatten is deprecated, and will be removed in a future release. Use jax.tree_util.tree_unflatten instead.\n",
      "  return jax.tree_unflatten(treedef, leaves)\n",
      "/home/asem/GP/ICE-NODE/notebooks/../icenode/metric/stat.py:215: RuntimeWarning: invalid value encountered in long_scalars\n",
      "  rate[k][f'ACC-P{i}-k{k}'] = group_true_positive.sum(\n",
      "  2%|█▉                                                                                                                  | 1/60 [00:25<24:56, 25.36s/it]/home/asem/GP/ICE-NODE/notebooks/../icenode/metric/stat.py:215: RuntimeWarning: invalid value encountered in long_scalars\n",
      "  rate[k][f'ACC-P{i}-k{k}'] = group_true_positive.sum(\n",
      "  3%|███▊                                                                                                                | 2/60 [00:25<10:17, 10.65s/it]/home/asem/GP/ICE-NODE/notebooks/../icenode/metric/stat.py:215: RuntimeWarning: invalid value encountered in long_scalars\n",
      "  rate[k][f'ACC-P{i}-k{k}'] = group_true_positive.sum(\n",
      "  5%|█████▊                                                                                                              | 3/60 [00:26<05:38,  5.94s/it]/home/asem/GP/ICE-NODE/notebooks/../icenode/metric/stat.py:215: RuntimeWarning: invalid value encountered in long_scalars\n",
      "  rate[k][f'ACC-P{i}-k{k}'] = group_true_positive.sum(\n",
      "  7%|███████▋                                                                                                            | 4/60 [00:26<03:29,  3.74s/it]/home/asem/GP/ICE-NODE/notebooks/../icenode/metric/stat.py:215: RuntimeWarning: invalid value encountered in long_scalars\n",
      "  rate[k][f'ACC-P{i}-k{k}'] = group_true_positive.sum(\n",
      "  8%|█████████▋                                                                                                          | 5/60 [00:26<02:18,  2.52s/it]/home/asem/GP/ICE-NODE/notebooks/../icenode/metric/stat.py:215: RuntimeWarning: invalid value encountered in long_scalars\n",
      "  rate[k][f'ACC-P{i}-k{k}'] = group_true_positive.sum(\n",
      " 10%|███████████▌                                                                                                        | 6/60 [00:27<01:35,  1.78s/it]/home/asem/GP/ICE-NODE/notebooks/../icenode/metric/stat.py:215: RuntimeWarning: invalid value encountered in long_scalars\n",
      "  rate[k][f'ACC-P{i}-k{k}'] = group_true_positive.sum(\n",
      " 12%|█████████████▌                                                                                                      | 7/60 [00:27<01:09,  1.31s/it]/home/asem/GP/ICE-NODE/notebooks/../icenode/metric/stat.py:215: RuntimeWarning: invalid value encountered in long_scalars\n",
      "  rate[k][f'ACC-P{i}-k{k}'] = group_true_positive.sum(\n",
      " 13%|███████████████▍                                                                                                    | 8/60 [00:27<00:51,  1.00it/s]/home/asem/GP/ICE-NODE/notebooks/../icenode/metric/stat.py:215: RuntimeWarning: invalid value encountered in long_scalars\n",
      "  rate[k][f'ACC-P{i}-k{k}'] = group_true_positive.sum(\n",
      " 15%|█████████████████▍                                                                                                  | 9/60 [00:28<00:40,  1.27it/s]/home/asem/GP/ICE-NODE/notebooks/../icenode/metric/stat.py:215: RuntimeWarning: invalid value encountered in long_scalars\n",
      "  rate[k][f'ACC-P{i}-k{k}'] = group_true_positive.sum(\n",
      " 17%|███████████████████▏                                                                                               | 10/60 [00:28<00:31,  1.56it/s]/home/asem/GP/ICE-NODE/notebooks/../icenode/metric/stat.py:215: RuntimeWarning: invalid value encountered in long_scalars\n",
      "  rate[k][f'ACC-P{i}-k{k}'] = group_true_positive.sum(\n",
      " 18%|█████████████████████                                                                                              | 11/60 [00:28<00:26,  1.85it/s]/home/asem/GP/ICE-NODE/notebooks/../icenode/metric/stat.py:215: RuntimeWarning: invalid value encountered in long_scalars\n",
      "  rate[k][f'ACC-P{i}-k{k}'] = group_true_positive.sum(\n",
      " 20%|███████████████████████                                                                                            | 12/60 [00:29<00:22,  2.10it/s]"
     ]
    }
   ],
   "source": [
    "## TODO: This can take up to (xx), trained model already exist in (yy).\n",
    "cprd_trained_icenode_uni = T.train(cprd_models['ICE-NODE_UNIFORM'], config=model_config['ICE-NODE_UNIFORM'], \n",
    "                                 splits=cprd_splits, code_groups=cprd_train_percentiles,\n",
    "                                 reporters=cprd_reporters['ICE-NODE_UNIFORM'])\n"
   ]
  },
  {
   "cell_type": "markdown",
   "id": "083317e8",
   "metadata": {},
   "source": [
    "#### GRU"
   ]
  },
  {
   "cell_type": "code",
   "execution_count": null,
   "id": "72be64a0",
   "metadata": {},
   "outputs": [],
   "source": [
    "## TODO: This can take up to (xx), trained model already exist in (yy).\n",
    "cprd_trained_gru = T.train(cprd_models['GRU'], config=model_config['GRU'], \n",
    "                         splits=cprd_splits, code_groups=cprd_train_percentiles,\n",
    "                         reporters=cprd_reporters['GRU'])"
   ]
  },
  {
   "cell_type": "markdown",
   "id": "78ad24c2",
   "metadata": {},
   "source": [
    "#### RETAIN"
   ]
  },
  {
   "cell_type": "code",
   "execution_count": null,
   "id": "72f0b60c",
   "metadata": {},
   "outputs": [],
   "source": [
    "## TODO: This can take up to (xx), trained model already exist in (yy).\n",
    "cprd_trained_retain = T.train(cprd_models['RETAIN'], config=model_config['RETAIN'], \n",
    "                         splits=cprd_splits, code_groups=cprd_train_percentiles,\n",
    "                         reporters=cprd_reporters['RETAIN'])"
   ]
  },
  {
   "cell_type": "code",
   "execution_count": null,
   "id": "fd4abbc3",
   "metadata": {},
   "outputs": [],
   "source": []
  }
 ],
 "metadata": {
  "kernelspec": {
   "display_name": "Python 3 (ipykernel)",
   "language": "python",
   "name": "python3"
  },
  "language_info": {
   "codemirror_mode": {
    "name": "ipython",
    "version": 3
   },
   "file_extension": ".py",
   "mimetype": "text/x-python",
   "name": "python",
   "nbconvert_exporter": "python",
   "pygments_lexer": "ipython3",
   "version": "3.8.13"
  }
 },
 "nbformat": 4,
 "nbformat_minor": 5
}
