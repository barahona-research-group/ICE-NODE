{
 "cells": [
  {
   "cell_type": "markdown",
   "id": "f53f4d3c",
   "metadata": {},
   "source": [
    "# Table of Content\n",
    "\n",
    "<a name=\"outline\"></a>\n",
    "\n",
    "## Setup\n",
    "\n",
    "- [A](#seca) External Imports\n",
    "- [B](#secb) Internal Imports\n",
    "- [C](#secc) Configurations and Paths \n",
    "- [D](#secd) JAX Interface\n",
    "- [E](#sece) General Utility Functions\n",
    "\n",
    "\n",
    "## Clustering\n",
    "\n",
    "- [1](#sec2) Disease Embeddings Clustering\n",
    "- [2](#sec3) Subject Embeddings Clustering"
   ]
  },
  {
   "cell_type": "markdown",
   "id": "697a491c",
   "metadata": {},
   "source": [
    "<a name=\"seca\"></a>\n",
    "\n",
    "### A External Imports [^](#outline)"
   ]
  },
  {
   "cell_type": "code",
   "execution_count": 1,
   "id": "4cfc614e",
   "metadata": {},
   "outputs": [],
   "source": [
    "%load_ext autoreload\n",
    "%autoreload 2\n",
    "import sys\n",
    "import os\n",
    "import glob\n",
    "import random\n",
    "from collections import defaultdict\n",
    "from pathlib import Path\n",
    "\n",
    "from IPython.display import display\n",
    "\n",
    "import pandas as pd\n",
    "\n",
    "from tqdm import tqdm\n",
    "import jax\n",
    "jax.config.update('jax_platform_name', 'cpu')"
   ]
  },
  {
   "cell_type": "markdown",
   "id": "23f0d568",
   "metadata": {},
   "source": [
    "<a name=\"secb\"></a>\n",
    "\n",
    "### B Internal Imports [^](#outline)"
   ]
  },
  {
   "cell_type": "code",
   "execution_count": 2,
   "id": "894a3743",
   "metadata": {},
   "outputs": [],
   "source": [
    "\n",
    "\n",
    "sys.path.append(\"..\")\n",
    "\n",
    "from lib import utils as U\n",
    "from lib.ehr.dataset import load_dataset\n",
    "\n",
    "# Assign the folder of the dataset to `DATA_FILE`.\n",
    "\n",
    "HOME = os.environ.get('HOME')\n",
    "DATA_STORE = f'{HOME}/Documents/DS211/users/tb1009/DATA'\n",
    "DATA_FILE = os.path.join(DATA_STORE, 'ICE_TEST_1000.csv')\n",
    "SOURCE_DIR = os.path.abspath(\"..\")"
   ]
  },
  {
   "cell_type": "markdown",
   "id": "d9340794",
   "metadata": {},
   "source": [
    "<a name=\"secc\"></a>\n",
    "\n",
    "### C Configurations and Paths [^](#outline)"
   ]
  },
  {
   "cell_type": "code",
   "execution_count": 3,
   "id": "9e935c81",
   "metadata": {},
   "outputs": [],
   "source": [
    "output_dir = 'cprd_artefacts'\n",
    "Path(output_dir).mkdir(parents=True, exist_ok=True)\n"
   ]
  },
  {
   "cell_type": "code",
   "execution_count": 4,
   "id": "24bec048",
   "metadata": {},
   "outputs": [],
   "source": [
    "with U.modified_environ(DATA_FILE=DATA_FILE):\n",
    "    cprd_dataset = load_dataset('CPRD')\n",
    "   "
   ]
  },
  {
   "cell_type": "code",
   "execution_count": 5,
   "id": "1e347422",
   "metadata": {},
   "outputs": [],
   "source": [
    "output_dir = 'cprd_clustering_artefacts'\n",
    "Path(output_dir).mkdir(parents=True, exist_ok=True)\n"
   ]
  },
  {
   "cell_type": "markdown",
   "id": "24d26707",
   "metadata": {},
   "source": [
    "<a name=\"secd\"></a>\n",
    "\n",
    "### D JAX Interface [^](#outline)\n",
    "\n",
    "### Configuration should match the same configuration used in training in `cprd2_dx_training.ipynb`"
   ]
  },
  {
   "cell_type": "code",
   "execution_count": 6,
   "id": "ed738552",
   "metadata": {},
   "outputs": [
    {
     "name": "stdout",
     "output_type": "stream",
     "text": [
      "The autoreload extension is already loaded. To reload it, use:\n",
      "  %reload_ext autoreload\n",
      "The autoreload extension is already loaded. To reload it, use:\n",
      "  %reload_ext autoreload\n"
     ]
    }
   ],
   "source": [
    "\n",
    "%load_ext autoreload\n",
    "%autoreload 2\n",
    "\n",
    "from lib.ehr.coding_scheme import DxLTC212FlatCodes, DxLTC9809FlatMedcodes, EthCPRD5, EthCPRD16\n",
    "from lib.ehr import OutcomeExtractor, FirstOccurrenceOutcomeExtractor\n",
    "from lib.ehr import Subject_JAX\n",
    "from lib.ehr import StaticInfoFlags\n",
    "\n",
    "%load_ext autoreload\n",
    "%autoreload 2\n",
    "\n",
    "code_scheme = {\n",
    "    #'dx': DxLTC9809FlatMedcodes(), # other options \n",
    "    'dx': DxLTC212FlatCodes(),\n",
    "    #'outcome': OutcomeExtractor('dx_cprd_ltc9809'),\n",
    "    'outcome': FirstOccurrenceOutcomeExtractor('dx_cprd_ltc212'),\n",
    "    # Comment above^, and uncomment below, to consider only the first occurrence of codes per subject.\n",
    "    # 'outcome': FirstOccurrenceOutcomeExtractor('dx_cprd_ltc9809'),\n",
    "    'eth': EthCPRD5()\n",
    "}"
   ]
  },
  {
   "cell_type": "code",
   "execution_count": 7,
   "id": "27c24ace",
   "metadata": {},
   "outputs": [],
   "source": [
    "\n",
    "static_info_flags = StaticInfoFlags(\n",
    " gender=True,\n",
    " age=True,\n",
    " idx_deprivation=True,\n",
    " ethnicity=EthCPRD5(), # <- include it by the category of interest, not just 'True'.\n",
    ")\n",
    "cprd_interface = Subject_JAX.from_dataset(cprd_dataset, code_scheme=code_scheme, static_info_flags=static_info_flags)\n",
    "cprd_all_subjects = list(cprd_interface.keys())\n",
    "cprd_splits = cprd_interface.random_splits(split1=0.7, split2=0.85, random_seed=42)"
   ]
  },
  {
   "cell_type": "markdown",
   "id": "f6323308",
   "metadata": {},
   "source": [
    "<a name=\"sec1\"></a>\n",
    "\n",
    "## 1 Disease Embeddings Clustering on CPRD [^](#outline)"
   ]
  },
  {
   "cell_type": "code",
   "execution_count": 8,
   "id": "fd4dfdf4",
   "metadata": {},
   "outputs": [],
   "source": [
    "\n",
    "\n",
    "# Should be the same one used in JAX interface in the training notebook.\n",
    "#dx_scheme = DxLTC9809FlatMedcodes()\n",
    "dx_scheme = DxLTC212FlatCodes()\n"
   ]
  },
  {
   "cell_type": "code",
   "execution_count": 9,
   "id": "4b97024f",
   "metadata": {},
   "outputs": [],
   "source": [
    "# scheme indices (textual code -> integer index)\n",
    "dx_scheme.index\n",
    "\n",
    "# reverse index (integer index -> textual code)\n",
    "idx2code = {idx: code for code, idx in dx_scheme.index.items()}"
   ]
  },
  {
   "cell_type": "markdown",
   "id": "321f85ed",
   "metadata": {},
   "source": [
    "### 1.A GloVe Based Disease Embeddings"
   ]
  },
  {
   "cell_type": "markdown",
   "id": "01db04a9",
   "metadata": {},
   "source": [
    "Get the coocurrence matrix"
   ]
  },
  {
   "cell_type": "code",
   "execution_count": null,
   "id": "f9f7afc0",
   "metadata": {},
   "outputs": [],
   "source": [
    "# Time-window context coocurrence\n",
    "cprd_cooc_timewin = cprd_interface.dx_coocurrence(cprd_all_subjects, window_size_days=365)\n",
    "\n",
    "# Sequence context coocurrence\n",
    "cprd_cooc_seqwin = cprd_interface.dx_coocurrence(cprd_all_subjects, context_size=20)\n",
    "\n",
    "from lib.embeddings import train_glove\n",
    "\n",
    "cprd_glove_timewin = train_glove(cprd_cooc_timewin, embeddings_size=100, iterations=500, prng_seed=0)\n",
    "cprd_glove_seqwin = train_glove(cprd_cooc_seqwin, embeddings_size=100, iterations=500, prng_seed=0)\n",
    "\n",
    "cprd_glove_timewin"
   ]
  },
  {
   "cell_type": "code",
   "execution_count": null,
   "id": "834a3b3d",
   "metadata": {},
   "outputs": [],
   "source": [
    "pd.DataFrame(cprd_cooc_timewin)"
   ]
  },
  {
   "cell_type": "code",
   "execution_count": null,
   "id": "a66baa75",
   "metadata": {},
   "outputs": [],
   "source": [
    "pd.DataFrame(cprd_cooc_seqwin)"
   ]
  },
  {
   "cell_type": "code",
   "execution_count": null,
   "id": "be86a81b",
   "metadata": {},
   "outputs": [],
   "source": [
    "pd.DataFrame(cprd_cooc_seqwin, index=dx_scheme.codes)"
   ]
  },
  {
   "cell_type": "code",
   "execution_count": 15,
   "id": "85f03ad5",
   "metadata": {},
   "outputs": [
    {
     "data": {
      "text/plain": [
       "(212, 212)"
      ]
     },
     "execution_count": 15,
     "metadata": {},
     "output_type": "execute_result"
    }
   ],
   "source": [
    "cprd_cooc_seqwin.shape"
   ]
  },
  {
   "cell_type": "code",
   "execution_count": 22,
   "id": "60ebfcc8",
   "metadata": {},
   "outputs": [
    {
     "data": {
      "text/plain": [
       "array([[-2.79684767e-01, -4.44653353e-01, -3.67274849e-01, ...,\n",
       "         4.62476977e-01, -7.95394904e-01,  4.33272337e-01],\n",
       "       [-2.96603468e-01, -3.61163169e-02, -3.38016470e-01, ...,\n",
       "        -4.86751560e-01, -8.11624934e-01,  4.42831558e-01],\n",
       "       [-7.28966016e-01, -6.16700163e-01, -5.44311132e-01, ...,\n",
       "        -2.69560831e-01, -9.91197410e-02,  7.03036940e-01],\n",
       "       ...,\n",
       "       [ 8.87873506e-04,  3.02664180e-03,  3.42072664e-03, ...,\n",
       "         4.32996637e-03,  1.55669944e-03,  1.99661385e-03],\n",
       "       [-2.67907123e-01, -2.00531299e-01, -4.19550499e-01, ...,\n",
       "         5.67781934e-01, -5.95530259e-02,  4.87793229e-01],\n",
       "       [ 2.59708709e-03,  1.36179815e-05, -4.54081004e-03, ...,\n",
       "         1.42656857e-03,  4.44432416e-03,  6.02877876e-03]])"
      ]
     },
     "execution_count": 22,
     "metadata": {},
     "output_type": "execute_result"
    }
   ],
   "source": [
    "cprd_glove_seqwin"
   ]
  },
  {
   "cell_type": "code",
   "execution_count": null,
   "id": "575e8626",
   "metadata": {},
   "outputs": [],
   "source": []
  },
  {
   "cell_type": "code",
   "execution_count": null,
   "id": "6f9742af",
   "metadata": {},
   "outputs": [],
   "source": []
  },
  {
   "cell_type": "markdown",
   "id": "b717db5c",
   "metadata": {},
   "source": [
    "### 1.B Predictor Based Disease Embeddings\n",
    "\n",
    "TODO"
   ]
  },
  {
   "cell_type": "markdown",
   "id": "ea0dae9e",
   "metadata": {},
   "source": [
    "### 1.C Predictor Based Subject Embeddings\n",
    "\n",
    "TODO"
   ]
  },
  {
   "cell_type": "code",
   "execution_count": 32,
   "id": "7196d5b5",
   "metadata": {},
   "outputs": [
    {
     "name": "stderr",
     "output_type": "stream",
     "text": [
      "/home/asem/GP/env/icenode-dev/lib/python3.8/site-packages/haiku/_src/data_structures.py:144: FutureWarning: jax.tree_flatten is deprecated, and will be removed in a future release. Use jax.tree_util.tree_flatten instead.\n",
      "  leaves, treedef = jax.tree_flatten(tree)\n",
      "/home/asem/GP/env/icenode-dev/lib/python3.8/site-packages/haiku/_src/data_structures.py:145: FutureWarning: jax.tree_unflatten is deprecated, and will be removed in a future release. Use jax.tree_util.tree_unflatten instead.\n",
      "  return jax.tree_unflatten(treedef, leaves)\n"
     ]
    }
   ],
   "source": [
    "\n",
    "\n",
    "# def embeddings_dictionary(clf):\n",
    "#     model, state = cprd_predictors[clf]\n",
    "#     params = model.get_params(state)\n",
    "#     # Embeddings Mat\n",
    "#     dx_G = model.dx_emb.compute_embeddings_mat(params['dx_emb'])\n",
    "\n",
    "#     embeddings_dict = {}\n",
    "#     for code, idx in dx_scheme.index.items():\n",
    "#         in_vec = np.zeros((cprd_interface.dx_dim, ))\n",
    "#         in_vec[idx] = 1.\n",
    "#         out_vec = model.dx_emb.encode(dx_G, in_vec)\n",
    "#         embeddings_dict[code] = out_vec\n",
    "#     return embeddings_dict\n",
    "\n",
    "# icenode_emb = embeddings_dictionary('ICE-NODE')\n",
    "# icenode_uni_emb = embeddings_dictionary('ICE-NODE_UNIFORM')\n",
    "# retain_emb = embeddings_dictionary('RETAIN')\n",
    "# gru_emb = embeddings_dictionary('GRU')\n",
    "\n",
    "\n",
    "# def subject_embeddings_dictionary(clf):\n",
    "#     model, state = cprd_predictors[clf]\n",
    "#     # All subjects in the study are passed\n",
    "#     return model.subject_embeddings(state, cprd_interface.subjects)\n",
    "\n",
    "# icenode_subj_emb = subject_embeddings_dictionary('ICE-NODE')\n",
    "# icenode_subj_uni_emb = subject_embeddings_dictionary('ICE-NODE_UNIFORM')\n",
    "# retain_subj_emb = subject_embeddings_dictionary('RETAIN')\n",
    "# gru_subj_emb = subject_embeddings_dictionary('GRU')"
   ]
  }
 ],
 "metadata": {
  "kernelspec": {
   "display_name": "venv308",
   "language": "python",
   "name": "venv308"
  },
  "language_info": {
   "codemirror_mode": {
    "name": "ipython",
    "version": 3
   },
   "file_extension": ".py",
   "mimetype": "text/x-python",
   "name": "python",
   "nbconvert_exporter": "python",
   "pygments_lexer": "ipython3",
   "version": "3.8.10"
  }
 },
 "nbformat": 4,
 "nbformat_minor": 5
}
