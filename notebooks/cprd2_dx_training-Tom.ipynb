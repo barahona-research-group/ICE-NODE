{
 "cells": [
  {
   "cell_type": "markdown",
   "id": "f53f4d3c",
   "metadata": {},
   "source": [
    "# Table of Content\n",
    "\n",
    "<a name=\"outline\"></a>\n",
    "\n",
    "## Setup\n",
    "\n",
    "- [A](#seca) External Imports\n",
    "- [B](#secb) Internal Imports\n",
    "- [C](#secc) Configurations and Paths \n",
    "- [D](#secd) JAX Interface\n",
    "- [E](#sece) General Utility Functions\n",
    "\n",
    "\n",
    "## Training\n",
    "\n",
    "- [1](#sec1) Training ICE-NODE and The Baselines\n"
   ]
  },
  {
   "cell_type": "markdown",
   "id": "697a491c",
   "metadata": {},
   "source": [
    "<a name=\"seca\"></a>\n",
    "\n",
    "### A External Imports [^](#outline)"
   ]
  },
  {
   "cell_type": "code",
   "execution_count": 6,
   "id": "5937407e",
   "metadata": {},
   "outputs": [],
   "source": [
    "# pip install --upgrade jax==0.4.1 jaxlib==0.4.1+cuda11.cudnn82 -f https://storage.googleapis.com/jax-releases/jax_cuda_releases.html"
   ]
  },
  {
   "cell_type": "code",
   "execution_count": 1,
   "id": "68151dfd",
   "metadata": {},
   "outputs": [
    {
     "name": "stdout",
     "output_type": "stream",
     "text": [
      "env: XLA_PYTHON_CLIENT_MEM_FRACTION=0.2\n"
     ]
    }
   ],
   "source": [
    "# set pre-allocated percentage of GPU memory (here using 20% of the 48GB)\n",
    "%env XLA_PYTHON_CLIENT_MEM_FRACTION=0.2"
   ]
  },
  {
   "cell_type": "code",
   "execution_count": 2,
   "id": "4cfc614e",
   "metadata": {},
   "outputs": [],
   "source": [
    "%load_ext autoreload\n",
    "%autoreload 2\n",
    "import sys\n",
    "import os\n",
    "import glob\n",
    "import random\n",
    "from collections import defaultdict\n",
    "from pathlib import Path\n",
    "\n",
    "from IPython.display import display\n",
    "\n",
    "import pandas as pd\n",
    "\n",
    "from tqdm import tqdm\n",
    "import jax\n",
    "jax.config.update('jax_platform_name', 'gpu')"
   ]
  },
  {
   "cell_type": "markdown",
   "id": "23f0d568",
   "metadata": {},
   "source": [
    "<a name=\"secb\"></a>\n",
    "\n",
    "### B Internal Imports [^](#outline)"
   ]
  },
  {
   "cell_type": "code",
   "execution_count": 3,
   "id": "894a3743",
   "metadata": {},
   "outputs": [],
   "source": [
    "\n",
    "\n",
    "sys.path.append(\"..\")\n",
    "\n",
    "from lib import utils as U\n",
    "from lib.ehr.dataset import load_dataset"
   ]
  },
  {
   "cell_type": "code",
   "execution_count": 5,
   "id": "8c176dbe",
   "metadata": {},
   "outputs": [],
   "source": [
    "# Assign the folder of the dataset to `DATA_FILE`.\n",
    "\n",
    "# HOME and DATA_STORE are arbitrary, change as appropriate.\n",
    "HOME = os.environ.get('HOME')\n",
    "DATA_FILE = f'{HOME}/Documents/DS211/users/tb1009/DATA/ICE_TEST_50000.csv'\n",
    "SOURCE_DIR = os.path.abspath(\"..\")"
   ]
  },
  {
   "cell_type": "markdown",
   "id": "d9340794",
   "metadata": {},
   "source": [
    "<a name=\"secd\"></a>\n",
    "\n",
    "### C Configurations and Paths [^](#outline)"
   ]
  },
  {
   "cell_type": "code",
   "execution_count": 6,
   "id": "f1898f46",
   "metadata": {},
   "outputs": [],
   "source": [
    "output_dir = 'cprd_artefacts'\n",
    "Path(output_dir).mkdir(parents=True, exist_ok=True)"
   ]
  },
  {
   "cell_type": "code",
   "execution_count": 7,
   "id": "86e81c71",
   "metadata": {},
   "outputs": [],
   "source": [
    "with U.modified_environ(DATA_FILE=DATA_FILE):\n",
    "    cprd_dataset = load_dataset('CPRD')\n",
    "   "
   ]
  },
  {
   "cell_type": "code",
   "execution_count": 8,
   "id": "c8d78296",
   "metadata": {},
   "outputs": [],
   "source": [
    "from lib.ml import ICENODE, ICENODE_UNIFORM, GRU, RETAIN, WindowLogReg\n",
    "\n",
    "\"\"\"\n",
    "predefined hyperparams re: each model.\n",
    "\"\"\"\n",
    "\n",
    "model_cls = {\n",
    "    'ICE-NODE': ICENODE,\n",
    "    'ICE-NODE_UNIFORM': ICENODE_UNIFORM,\n",
    "    'GRU': GRU,\n",
    "    'RETAIN': RETAIN,\n",
    "    'LogReg': WindowLogReg\n",
    "}\n",
    "\n",
    "model_config = {\n",
    "    'ICE-NODE': f'{SOURCE_DIR}/expt_configs/icenode.json' ,\n",
    "    'ICE-NODE_UNIFORM': f'{SOURCE_DIR}/expt_configs/icenode.json' ,\n",
    "    'GRU': f'{SOURCE_DIR}/expt_configs/gru.json' ,\n",
    "    'RETAIN': f'{SOURCE_DIR}/expt_configs/retain.json',\n",
    "    'LogReg': f'{SOURCE_DIR}/expt_configs/window_logreg.json'\n",
    "}\n",
    "\n",
    "model_config = {clf: U.load_config(file) for clf, file in model_config.items()}\n",
    "\n",
    "clfs = ['ICE-NODE', 'ICE-NODE_UNIFORM', 'GRU', 'RETAIN', 'LogReg']"
   ]
  },
  {
   "cell_type": "code",
   "execution_count": 9,
   "id": "9ccb6be2",
   "metadata": {},
   "outputs": [
    {
     "data": {
      "text/plain": [
       "[None, None, None, None, None]"
      ]
     },
     "execution_count": 9,
     "metadata": {},
     "output_type": "execute_result"
    }
   ],
   "source": [
    "cprd_train_output_dir = {clf: f'{output_dir}/train/{clf}' for clf in clfs}\n",
    "\n",
    "[Path(d).mkdir(parents=True, exist_ok=True) for d in cprd_train_output_dir.values()]"
   ]
  },
  {
   "cell_type": "code",
   "execution_count": 10,
   "id": "394a3a3f",
   "metadata": {},
   "outputs": [],
   "source": [
    "from lib.ml import ConfigDiskWriter, MinibatchLogger, EvaluationDiskWriter, ParamsDiskWriter"
   ]
  },
  {
   "cell_type": "markdown",
   "id": "11fa1032",
   "metadata": {},
   "source": [
    "The reporter objects are called inside training iterations\n",
    "Each has its own functionality:\n",
    "1. **ConfigDiskWriter**: writes the experiment config file as JSON in the same training directory\n",
    "2. **MinibatchLogger**: writes to the console the training progress details.\n",
    "3. **EvaluationDiskWriter**: writes the evaluation as csv tables in the same training directory for each step of the 100.\n",
    "4. **ParamsDiskWriter**: writes the model parameters snapshot at each step out of 100."
   ]
  },
  {
   "cell_type": "code",
   "execution_count": 11,
   "id": "701e3b8f",
   "metadata": {},
   "outputs": [],
   "source": [
    "make_reporters = lambda output_dir, config: [ConfigDiskWriter(output_dir=output_dir, config=config),\n",
    "                                             MinibatchLogger(config),\n",
    "                                             EvaluationDiskWriter(output_dir=output_dir),\n",
    "                                             ParamsDiskWriter(output_dir=output_dir)]\n",
    "\n",
    "reporters = {model: make_reporters(cprd_train_output_dir[model], model_config[model]) for model in clfs}"
   ]
  },
  {
   "cell_type": "markdown",
   "id": "24d26707",
   "metadata": {},
   "source": [
    "<a name=\"sece\"></a>\n",
    "\n",
    "### D JAX Interface [^](#outline)"
   ]
  },
  {
   "cell_type": "code",
   "execution_count": 12,
   "id": "c2384d73",
   "metadata": {},
   "outputs": [],
   "source": [
    "from lib.ehr.coding_scheme import DxLTC212FlatCodes, DxLTC9809FlatMedcodes, EthCPRD5, EthCPRD16\n",
    "from lib.ehr import OutcomeExtractor, SurvivalOutcomeExtractor\n",
    "from lib.ehr import Subject_JAX\n",
    "from lib.ehr import StaticInfoFlags\n"
   ]
  },
  {
   "cell_type": "markdown",
   "id": "1208aa8d",
   "metadata": {},
   "source": [
    "The dictionary `code_scheme` in the next cell specifies the code spaces of:\n",
    "- 'dx': diagnostic input (input features) codes. Possible arguments: :\n",
    "    - `DxLTC9809FlatMedcodes()` for medcodes or\n",
    "    - `DxLTC212FlatCodes()` for disease nums. \n",
    "- 'outcome': diagnostic outcome (target to be predicted) codes. Possible arguments: \n",
    "    - `OutcomeExtractor('dx_cprd_ltc9809')` for medcodes prediction or \n",
    "    - `OutcomeExtractor('dx_cprd_ltc212')` for disease num predictions, or \n",
    "    - `SurvivalOutcomeExtractor('dx_cprd_ltc9809')` for medcodes prediction (first occurrence per patient) or \n",
    "    - `SurvivalOutcomeExtractor('dx_cprd_ltc212')` for disease num predictions (first occurrence per patient), or \n",
    "- 'eth': ethinicity codes. Possible arguments:\n",
    "    - `EthCPRD16()` to consider the 16 classifications of ethnicity.\n",
    "    - `EthCPRD5()` to consider the 5 classifications of ethnicity.\n",
    "    \n",
    "\n",
    "**Note**: OutcomeExtractor can be provided only a subset of the diagnostic codes. For example,\n",
    "you can focus the prediction objective on a small subset of interest (e.g. to predict only pulmonary-heart \n",
    "diseases codes, etc.).\n",
    "OutcomeExtractor can also be replaced by SurvivalOutcomeExtractor to enforce the prediction \n",
    "objective to predict only the first occurrence of each code for one patient, and subsequent\n",
    "redundant occurences will be avoided and not incorporated in the loss function."
   ]
  },
  {
   "cell_type": "code",
   "execution_count": 13,
   "id": "4ccd6b27",
   "metadata": {},
   "outputs": [],
   "source": [
    "code_scheme = {\n",
    "    #'dx': DxLTC9809FlatMedcodes(), # other options \n",
    "    'dx': DxLTC212FlatCodes(),\n",
    "    #'outcome': OutcomeExtractor('dx_cprd_ltc9809'),\n",
    "    'outcome': OutcomeExtractor('dx_cprd_ltc212'),\n",
    "    # Comment above^, and uncomment below, to consider only the first occurrence of codes per subject.\n",
    "    # 'outcome': FirstOccurrenceOutcomeExtractor('dx_cprd_ltc9809'),\n",
    "    'eth': EthCPRD5()\n",
    "}"
   ]
  },
  {
   "cell_type": "markdown",
   "id": "3e44b5d7",
   "metadata": {},
   "source": [
    "### Adding Demographic Information in Training\n",
    "\n",
    "What do you need to include as control features? **Uncomment each line to consider the corresponding static information.**"
   ]
  },
  {
   "cell_type": "code",
   "execution_count": null,
   "id": "02e43e04",
   "metadata": {},
   "outputs": [],
   "source": [
    "static_info_flags = StaticInfoFlags(\n",
    " gender=True,\n",
    " age=True,\n",
    " idx_deprivation=True,\n",
    " ethnicity=EthCPRD5(), # <- include it by the category of interest, not just 'True'.\n",
    ")\n",
    "cprd_interface = Subject_JAX.from_dataset(cprd_dataset, code_scheme=code_scheme, static_info_flags=static_info_flags)\n",
    "cprd_splits = cprd_interface.random_splits(split1=0.7, split2=0.85, random_seed=42)"
   ]
  },
  {
   "cell_type": "code",
   "execution_count": null,
   "id": "f28b7c6b",
   "metadata": {},
   "outputs": [],
   "source": [
    "import jax.random as jrandom\n",
    "import lib.ml as ml\n",
    "\n",
    "key = jrandom.PRNGKey(0)"
   ]
  },
  {
   "cell_type": "markdown",
   "id": "ad3156b8",
   "metadata": {},
   "source": [
    "In the next cell we load a dictionary for each model specifiying the experiment configuration per model.\n",
    "The classname of the trainer used is also specified in the experiment configs.\n",
    "For example, this is the configuration file of ICE-NODE experiment.\n",
    "\n",
    "```json\n",
    "{\n",
    "    \"emb\": {\n",
    "        \"dx\": {\n",
    "           \"decoder_n_layers\": 2,\n",
    "           \"classname\":  \"MatrixEmbeddings\",      \n",
    "           \"embeddings_size\": 300\n",
    "        }\n",
    "    },\n",
    "    \"model\": {\n",
    "        \"ode_dyn_label\": \"mlp3\",\n",
    "        \"ode_init_var\": 1e-7,\n",
    "        \"state_size\": 30,\n",
    "        \"timescale\": 30\n",
    "    },\n",
    "    \"training\": {\n",
    "        \"batch_size\": 256,\n",
    "        \"decay_rate\": [0.25, 0.33],\n",
    "        \"lr\": [7e-5,  1e-3],\n",
    "        \"epochs\": 60,\n",
    "        \"reg_hyperparams\": {\n",
    "            \"L_dyn\": 1000.0,\n",
    "            \"L_l1\": 0,\n",
    "            \"L_l2\": 0\n",
    "        },\n",
    "        \"opt\": \"adam\",\n",
    "        \"classname\": \"ODETrainer2LR\" <---- \"classname, so this class should be available through ml package.\"\n",
    "    }\n",
    "}\n",
    "```\n",
    "\n",
    "Since we have a string of the classname, one way to get `ml.ODETrainer2LR` is `getattr(ml, 'ODETrainer2LR')`"
   ]
  },
  {
   "cell_type": "code",
   "execution_count": null,
   "id": "542d1b22",
   "metadata": {},
   "outputs": [],
   "source": [
    "cprd_models = {clf: model_cls[clf].from_config(model_config[clf],\n",
    "                                              cprd_interface,\n",
    "                                              cprd_splits[0],\n",
    "                                              key) for clf in clfs}\n",
    "\n",
    "\n",
    "\n",
    "\n",
    "cprd_trainers_cls = {clf: getattr(ml, model_config[clf][\"training\"][\"classname\"]) for clf in clfs}\n",
    "cprd_trainers = {clf: cprd_trainers_cls[clf](**model_config[clf][\"training\"]) for clf in clfs}"
   ]
  },
  {
   "cell_type": "markdown",
   "id": "13c1b824",
   "metadata": {},
   "source": [
    "## Metrics of Interest Specification"
   ]
  },
  {
   "cell_type": "code",
   "execution_count": null,
   "id": "e4df755f",
   "metadata": {},
   "outputs": [],
   "source": [
    "from lib.metric import (CodeAUC, UntilFirstCodeAUC, AdmissionAUC, CodeGroupTopAlarmAccuracy, MetricsCollection, LossMetric)"
   ]
  },
  {
   "cell_type": "markdown",
   "id": "23f7f67e",
   "metadata": {},
   "source": [
    "## Evaluation Metrics per Model\n",
    "\n",
    "1. *CodeAUC*: evaluates the prediction AUC per code (aggregating over all subject visits, for all subjects)\n",
    "2. *UntilFirstCodeAUC*: same as *CodeAUC*, but evaluates the prediction AUC until the first occurrence for each subject, once the code occured, all the subsequent visits are ignored for that code. If the code does not show in a particular subject, all the subject visits are ignored.\n",
    "3. *AdmissionAUC*: evaluates the prediction AUC per visit (i.e. probability of assigning higher risk values for present codes than the absent ones).\n",
    "4. *CodeGroupTopAlarmAccuracy*: partition codes into groups according the code frequency (from the most frequent to the least), and for each visit picks the top `k` risks, and the metric evaluates the accuracy of the top `k` riskiest codes by the model for being indeed present.\n",
    "5. *MetricsCollection*: Groups multiple metrics to be considered at once."
   ]
  },
  {
   "cell_type": "markdown",
   "id": "de3968aa",
   "metadata": {},
   "source": [
    "**Note:** you will get different results when calling the method `outcome_by_percentiles` by changing the 'outcome' enty of the `ode_scheme` dictionary as following:\n",
    "- OutcomeExtractor: the counting will consider the code and its redundant occurrence for each subject, then aggregated over all subjects \n",
    "- FirstOccurrenceOutcomeExtractor: the counting will consider the first occurrence only for each subject, then aggregated over all subjects."
   ]
  },
  {
   "cell_type": "code",
   "execution_count": null,
   "id": "a37fd74c",
   "metadata": {},
   "outputs": [],
   "source": [
    "# pecentile_range=20 will partition the codes into five gruops, where each group contains \n",
    "# codes that overall constitutes 20% of the codes in all visits of specified 'subjects' list.\n",
    "code_freq_partitions = cprd_interface.outcome_by_percentiles(percentile_range=20, subjects=cprd_splits[0])\n",
    "\n",
    "# Evaluate for different k values\n",
    "top_k_list = [3, 5, 10, 15, 20]\n",
    "\n",
    "metrics = [CodeAUC(cprd_interface),\n",
    "          UntilFirstCodeAUC(cprd_interface),\n",
    "          AdmissionAUC(cprd_interface),\n",
    "           LossMetric(cprd_interface),\n",
    "          CodeGroupTopAlarmAccuracy(cprd_interface, top_k_list=top_k_list, code_groups=code_freq_partitions)]\n",
    "all_metrics = MetricsCollection(metrics)"
   ]
  },
  {
   "cell_type": "markdown",
   "id": "05f87624",
   "metadata": {},
   "source": [
    "<a name=\"sec1\"></a>\n",
    "\n",
    "### 1 Training ICE-NODE and The Baselines (#outline)"
   ]
  },
  {
   "cell_type": "code",
   "execution_count": null,
   "id": "ffcc11e6",
   "metadata": {},
   "outputs": [],
   "source": [
    "from lib.ml import MetricsHistory\n",
    "\n",
    "def train(clf, **kwargs):\n",
    "    output_dir = cprd_train_output_dir[clf]\n",
    "    config = model_config[clf]\n",
    "    model = cprd_models[clf]\n",
    "    trainer = cprd_trainers[clf]\n",
    "    reporters = [EvaluationDiskWriter(output_dir), # <- responsible for writing evaluation tables on disk at the given path\n",
    "                 ParamsDiskWriter(output_dir), # <- responsible for writing model parameters snapshot after each iteration.\n",
    "                 ConfigDiskWriter(output_dir, config), # writes the config file as JSON\n",
    "                ]\n",
    "    \n",
    "    history = MetricsHistory(all_metrics) # <- empty history\n",
    "    \n",
    "    return trainer(model, cprd_interface, cprd_splits, \n",
    "                   history=history, reporters=reporters, prng_seed=42, **kwargs)"
   ]
  },
  {
   "cell_type": "markdown",
   "id": "958d7262",
   "metadata": {},
   "source": [
    "#### ICE-NODE"
   ]
  },
  {
   "cell_type": "code",
   "execution_count": null,
   "id": "c91a09d4",
   "metadata": {},
   "outputs": [],
   "source": [
    "## TODO: This may take a long time, a pretrained model already exists in (yy).\n",
    "icenode_results = train('ICE-NODE', continue_training=False)"
   ]
  },
  {
   "cell_type": "markdown",
   "id": "bf6a21bb",
   "metadata": {},
   "source": [
    "#### ICE-NODE_UNIFORM"
   ]
  },
  {
   "cell_type": "code",
   "execution_count": null,
   "id": "f868ee28",
   "metadata": {},
   "outputs": [],
   "source": [
    "icenode_uniform_results = train('ICE-NODE_UNIFORM')"
   ]
  },
  {
   "cell_type": "markdown",
   "id": "083317e8",
   "metadata": {},
   "source": [
    "#### GRU"
   ]
  },
  {
   "cell_type": "code",
   "execution_count": 21,
   "id": "72be64a0",
   "metadata": {},
   "outputs": [
    {
     "name": "stderr",
     "output_type": "stream",
     "text": [
      "  1%|▏         | 32/2174 [10:25<5:30:35,  9.26s/it] /usr/lib/python3.8/zipfile.py:1517: UserWarning: Duplicate name: 'step0002.eqx'\n",
      "  return self._open_to_write(zinfo, force_zip64=force_zip64)\n",
      "  2%|▏         | 54/2174 [15:19<10:32:03, 17.89s/it]/usr/lib/python3.8/zipfile.py:1517: UserWarning: Duplicate name: 'step0003.eqx'\n",
      "  return self._open_to_write(zinfo, force_zip64=force_zip64)\n",
      "  4%|▍         | 97/2174 [23:26<7:12:57, 12.51s/it] /usr/lib/python3.8/zipfile.py:1517: UserWarning: Duplicate name: 'step0005.eqx'\n",
      "  return self._open_to_write(zinfo, force_zip64=force_zip64)\n",
      "  6%|▋         | 141/2174 [32:07<5:02:06,  8.92s/it] /usr/lib/python3.8/zipfile.py:1517: UserWarning: Duplicate name: 'step0007.eqx'\n",
      "  return self._open_to_write(zinfo, force_zip64=force_zip64)\n",
      "  7%|▋         | 163/2174 [37:15<7:20:34, 13.14s/it] /usr/lib/python3.8/zipfile.py:1517: UserWarning: Duplicate name: 'step0008.eqx'\n",
      "  return self._open_to_write(zinfo, force_zip64=force_zip64)\n",
      "  9%|▉         | 206/2174 [48:18<7:49:14, 14.31s/it] /usr/lib/python3.8/zipfile.py:1517: UserWarning: Duplicate name: 'step0010.eqx'\n",
      "  return self._open_to_write(zinfo, force_zip64=force_zip64)\n",
      " 11%|█▏        | 250/2174 [59:15<4:28:05,  8.36s/it] /usr/lib/python3.8/zipfile.py:1517: UserWarning: Duplicate name: 'step0012.eqx'\n",
      "  return self._open_to_write(zinfo, force_zip64=force_zip64)\n",
      " 12%|█▏        | 271/2174 [1:04:25<4:59:13,  9.43s/it] /usr/lib/python3.8/zipfile.py:1517: UserWarning: Duplicate name: 'step0013.eqx'\n",
      "  return self._open_to_write(zinfo, force_zip64=force_zip64)\n",
      " 14%|█▍        | 315/2174 [1:14:09<5:08:27,  9.96s/it] /usr/lib/python3.8/zipfile.py:1517: UserWarning: Duplicate name: 'step0015.eqx'\n",
      "  return self._open_to_write(zinfo, force_zip64=force_zip64)\n",
      " 16%|█▋        | 358/2174 [1:22:36<7:00:39, 13.90s/it]/usr/lib/python3.8/zipfile.py:1517: UserWarning: Duplicate name: 'step0017.eqx'\n",
      "  return self._open_to_write(zinfo, force_zip64=force_zip64)\n",
      " 17%|█▋        | 380/2174 [1:26:58<6:02:09, 12.11s/it]/usr/lib/python3.8/zipfile.py:1517: UserWarning: Duplicate name: 'step0018.eqx'\n",
      "  return self._open_to_write(zinfo, force_zip64=force_zip64)\n",
      " 19%|█▉        | 423/2174 [1:36:29<8:57:50, 18.43s/it] /usr/lib/python3.8/zipfile.py:1517: UserWarning: Duplicate name: 'step0020.eqx'\n",
      "  return self._open_to_write(zinfo, force_zip64=force_zip64)\n",
      " 21%|██▏       | 467/2174 [1:45:39<7:19:35, 15.45s/it] /usr/lib/python3.8/zipfile.py:1517: UserWarning: Duplicate name: 'step0022.eqx'\n",
      "  return self._open_to_write(zinfo, force_zip64=force_zip64)\n",
      " 22%|██▏       | 489/2174 [1:50:14<5:16:08, 11.26s/it]/usr/lib/python3.8/zipfile.py:1517: UserWarning: Duplicate name: 'step0023.eqx'\n",
      "  return self._open_to_write(zinfo, force_zip64=force_zip64)\n",
      " 24%|██▍       | 532/2174 [1:59:53<8:48:51, 19.32s/it]/usr/lib/python3.8/zipfile.py:1517: UserWarning: Duplicate name: 'step0025.eqx'\n",
      "  return self._open_to_write(zinfo, force_zip64=force_zip64)\n",
      " 26%|██▋       | 576/2174 [2:08:55<5:34:28, 12.56s/it] /usr/lib/python3.8/zipfile.py:1517: UserWarning: Duplicate name: 'step0027.eqx'\n",
      "  return self._open_to_write(zinfo, force_zip64=force_zip64)\n",
      " 27%|██▋       | 597/2174 [2:14:04<6:10:03, 14.08s/it]/usr/lib/python3.8/zipfile.py:1517: UserWarning: Duplicate name: 'step0028.eqx'\n",
      "  return self._open_to_write(zinfo, force_zip64=force_zip64)\n",
      " 29%|██▉       | 641/2174 [2:22:49<3:04:49,  7.23s/it]/usr/lib/python3.8/zipfile.py:1517: UserWarning: Duplicate name: 'step0030.eqx'\n",
      "  return self._open_to_write(zinfo, force_zip64=force_zip64)\n",
      " 31%|███▏      | 684/2174 [2:31:22<6:49:02, 16.47s/it]/usr/lib/python3.8/zipfile.py:1517: UserWarning: Duplicate name: 'step0032.eqx'\n",
      "  return self._open_to_write(zinfo, force_zip64=force_zip64)\n",
      " 32%|███▏      | 706/2174 [2:36:20<6:12:54, 15.24s/it]/usr/lib/python3.8/zipfile.py:1517: UserWarning: Duplicate name: 'step0033.eqx'\n",
      "  return self._open_to_write(zinfo, force_zip64=force_zip64)\n",
      " 34%|███▍      | 750/2174 [2:44:56<5:53:06, 14.88s/it]/usr/lib/python3.8/zipfile.py:1517: UserWarning: Duplicate name: 'step0035.eqx'\n",
      "  return self._open_to_write(zinfo, force_zip64=force_zip64)\n",
      " 36%|███▋      | 793/2174 [2:53:07<4:16:40, 11.15s/it]/usr/lib/python3.8/zipfile.py:1517: UserWarning: Duplicate name: 'step0037.eqx'\n",
      "  return self._open_to_write(zinfo, force_zip64=force_zip64)\n",
      " 37%|███▋      | 815/2174 [2:59:09<5:24:34, 14.33s/it]/usr/lib/python3.8/zipfile.py:1517: UserWarning: Duplicate name: 'step0038.eqx'\n",
      "  return self._open_to_write(zinfo, force_zip64=force_zip64)\n",
      " 39%|███▉      | 858/2174 [3:08:30<3:54:24, 10.69s/it]/usr/lib/python3.8/zipfile.py:1517: UserWarning: Duplicate name: 'step0040.eqx'\n",
      "  return self._open_to_write(zinfo, force_zip64=force_zip64)\n",
      " 41%|████▏     | 902/2174 [3:18:28<5:38:58, 15.99s/it]/usr/lib/python3.8/zipfile.py:1517: UserWarning: Duplicate name: 'step0042.eqx'\n",
      "  return self._open_to_write(zinfo, force_zip64=force_zip64)\n",
      " 42%|████▏     | 923/2174 [3:22:54<4:09:41, 11.98s/it]/usr/lib/python3.8/zipfile.py:1517: UserWarning: Duplicate name: 'step0043.eqx'\n",
      "  return self._open_to_write(zinfo, force_zip64=force_zip64)\n",
      " 44%|████▍     | 967/2174 [3:34:03<5:28:34, 16.33s/it]/usr/lib/python3.8/zipfile.py:1517: UserWarning: Duplicate name: 'step0045.eqx'\n",
      "  return self._open_to_write(zinfo, force_zip64=force_zip64)\n",
      " 46%|████▋     | 1010/2174 [3:42:57<3:06:06,  9.59s/it]/usr/lib/python3.8/zipfile.py:1517: UserWarning: Duplicate name: 'step0047.eqx'\n",
      "  return self._open_to_write(zinfo, force_zip64=force_zip64)\n",
      " 47%|████▋     | 1032/2174 [3:48:30<4:49:57, 15.23s/it]/usr/lib/python3.8/zipfile.py:1517: UserWarning: Duplicate name: 'step0048.eqx'\n",
      "  return self._open_to_write(zinfo, force_zip64=force_zip64)\n",
      " 49%|████▉     | 1076/2174 [3:57:25<4:02:02, 13.23s/it]/usr/lib/python3.8/zipfile.py:1517: UserWarning: Duplicate name: 'step0050.eqx'\n",
      "  return self._open_to_write(zinfo, force_zip64=force_zip64)\n",
      " 51%|█████▏    | 1119/2174 [4:06:56<3:16:59, 11.20s/it]/usr/lib/python3.8/zipfile.py:1517: UserWarning: Duplicate name: 'step0052.eqx'\n",
      "  return self._open_to_write(zinfo, force_zip64=force_zip64)\n",
      " 52%|█████▏    | 1141/2174 [4:11:26<2:50:06,  9.88s/it]/usr/lib/python3.8/zipfile.py:1517: UserWarning: Duplicate name: 'step0053.eqx'\n",
      "  return self._open_to_write(zinfo, force_zip64=force_zip64)\n",
      " 54%|█████▍    | 1184/2174 [4:20:53<2:18:48,  8.41s/it]/usr/lib/python3.8/zipfile.py:1517: UserWarning: Duplicate name: 'step0055.eqx'\n",
      "  return self._open_to_write(zinfo, force_zip64=force_zip64)\n",
      " 56%|█████▋    | 1228/2174 [4:29:55<2:34:09,  9.78s/it]/usr/lib/python3.8/zipfile.py:1517: UserWarning: Duplicate name: 'step0057.eqx'\n",
      "  return self._open_to_write(zinfo, force_zip64=force_zip64)\n",
      " 57%|█████▋    | 1250/2174 [4:34:21<2:45:46, 10.76s/it]/usr/lib/python3.8/zipfile.py:1517: UserWarning: Duplicate name: 'step0058.eqx'\n",
      "  return self._open_to_write(zinfo, force_zip64=force_zip64)\n",
      " 59%|█████▉    | 1293/2174 [4:43:08<2:43:59, 11.17s/it]/usr/lib/python3.8/zipfile.py:1517: UserWarning: Duplicate name: 'step0060.eqx'\n",
      "  return self._open_to_write(zinfo, force_zip64=force_zip64)\n",
      " 61%|██████▏   | 1337/2174 [4:52:08<1:40:12,  7.18s/it]/usr/lib/python3.8/zipfile.py:1517: UserWarning: Duplicate name: 'step0062.eqx'\n",
      "  return self._open_to_write(zinfo, force_zip64=force_zip64)\n",
      " 62%|██████▏   | 1358/2174 [4:57:00<2:22:46, 10.50s/it]/usr/lib/python3.8/zipfile.py:1517: UserWarning: Duplicate name: 'step0063.eqx'\n",
      "  return self._open_to_write(zinfo, force_zip64=force_zip64)\n",
      " 64%|██████▍   | 1402/2174 [5:07:31<4:38:56, 21.68s/it]/usr/lib/python3.8/zipfile.py:1517: UserWarning: Duplicate name: 'step0065.eqx'\n",
      "  return self._open_to_write(zinfo, force_zip64=force_zip64)\n",
      " 66%|██████▋   | 1445/2174 [5:16:45<1:40:35,  8.28s/it]/usr/lib/python3.8/zipfile.py:1517: UserWarning: Duplicate name: 'step0067.eqx'\n",
      "  return self._open_to_write(zinfo, force_zip64=force_zip64)\n",
      " 67%|██████▋   | 1467/2174 [5:21:42<1:55:24,  9.79s/it]/usr/lib/python3.8/zipfile.py:1517: UserWarning: Duplicate name: 'step0068.eqx'\n",
      "  return self._open_to_write(zinfo, force_zip64=force_zip64)\n",
      " 69%|██████▉   | 1510/2174 [5:30:24<1:34:09,  8.51s/it]/usr/lib/python3.8/zipfile.py:1517: UserWarning: Duplicate name: 'step0070.eqx'\n",
      "  return self._open_to_write(zinfo, force_zip64=force_zip64)\n"
     ]
    },
    {
     "name": "stderr",
     "output_type": "stream",
     "text": [
      " 71%|███████▏  | 1554/2174 [5:39:34<2:11:23, 12.71s/it]/usr/lib/python3.8/zipfile.py:1517: UserWarning: Duplicate name: 'step0072.eqx'\n",
      "  return self._open_to_write(zinfo, force_zip64=force_zip64)\n",
      " 72%|███████▏  | 1576/2174 [5:43:23<2:14:44, 13.52s/it]/usr/lib/python3.8/zipfile.py:1517: UserWarning: Duplicate name: 'step0073.eqx'\n",
      "  return self._open_to_write(zinfo, force_zip64=force_zip64)\n",
      " 74%|███████▍  | 1619/2174 [5:53:24<2:39:42, 17.27s/it]/usr/lib/python3.8/zipfile.py:1517: UserWarning: Duplicate name: 'step0075.eqx'\n",
      "  return self._open_to_write(zinfo, force_zip64=force_zip64)\n",
      " 76%|███████▋  | 1663/2174 [6:04:03<1:31:07, 10.70s/it]/usr/lib/python3.8/zipfile.py:1517: UserWarning: Duplicate name: 'step0077.eqx'\n",
      "  return self._open_to_write(zinfo, force_zip64=force_zip64)\n",
      " 77%|███████▋  | 1684/2174 [6:08:19<1:52:22, 13.76s/it]/usr/lib/python3.8/zipfile.py:1517: UserWarning: Duplicate name: 'step0078.eqx'\n",
      "  return self._open_to_write(zinfo, force_zip64=force_zip64)\n",
      " 79%|███████▉  | 1728/2174 [6:18:22<1:27:02, 11.71s/it]/usr/lib/python3.8/zipfile.py:1517: UserWarning: Duplicate name: 'step0080.eqx'\n",
      "  return self._open_to_write(zinfo, force_zip64=force_zip64)\n",
      " 81%|████████▏ | 1771/2174 [6:27:51<1:47:36, 16.02s/it]/usr/lib/python3.8/zipfile.py:1517: UserWarning: Duplicate name: 'step0082.eqx'\n",
      "  return self._open_to_write(zinfo, force_zip64=force_zip64)\n",
      " 82%|████████▏ | 1793/2174 [6:31:55<1:05:31, 10.32s/it]/usr/lib/python3.8/zipfile.py:1517: UserWarning: Duplicate name: 'step0083.eqx'\n",
      "  return self._open_to_write(zinfo, force_zip64=force_zip64)\n",
      " 84%|████████▍ | 1837/2174 [6:41:23<1:07:33, 12.03s/it]/usr/lib/python3.8/zipfile.py:1517: UserWarning: Duplicate name: 'step0085.eqx'\n",
      "  return self._open_to_write(zinfo, force_zip64=force_zip64)\n",
      " 86%|████████▋ | 1880/2174 [6:49:49<58:19, 11.90s/it]  /usr/lib/python3.8/zipfile.py:1517: UserWarning: Duplicate name: 'step0087.eqx'\n",
      "  return self._open_to_write(zinfo, force_zip64=force_zip64)\n",
      " 87%|████████▋ | 1902/2174 [6:54:25<38:11,  8.43s/it]  /usr/lib/python3.8/zipfile.py:1517: UserWarning: Duplicate name: 'step0088.eqx'\n",
      "  return self._open_to_write(zinfo, force_zip64=force_zip64)\n",
      " 89%|████████▉ | 1945/2174 [7:04:06<52:56, 13.87s/it]  /usr/lib/python3.8/zipfile.py:1517: UserWarning: Duplicate name: 'step0090.eqx'\n",
      "  return self._open_to_write(zinfo, force_zip64=force_zip64)\n",
      " 91%|█████████▏| 1989/2174 [7:14:25<29:47,  9.66s/it]  /usr/lib/python3.8/zipfile.py:1517: UserWarning: Duplicate name: 'step0092.eqx'\n",
      "  return self._open_to_write(zinfo, force_zip64=force_zip64)\n",
      " 92%|█████████▏| 2010/2174 [7:19:44<30:11, 11.05s/it]/usr/lib/python3.8/zipfile.py:1517: UserWarning: Duplicate name: 'step0093.eqx'\n",
      "  return self._open_to_write(zinfo, force_zip64=force_zip64)\n",
      " 94%|█████████▍| 2054/2174 [7:28:48<25:30, 12.76s/it]/usr/lib/python3.8/zipfile.py:1517: UserWarning: Duplicate name: 'step0095.eqx'\n",
      "  return self._open_to_write(zinfo, force_zip64=force_zip64)\n",
      " 96%|█████████▋| 2097/2174 [7:37:56<16:33, 12.90s/it]/usr/lib/python3.8/zipfile.py:1517: UserWarning: Duplicate name: 'step0097.eqx'\n",
      "  return self._open_to_write(zinfo, force_zip64=force_zip64)\n",
      " 97%|█████████▋| 2119/2174 [7:42:47<10:23, 11.34s/it]/usr/lib/python3.8/zipfile.py:1517: UserWarning: Duplicate name: 'step0098.eqx'\n",
      "  return self._open_to_write(zinfo, force_zip64=force_zip64)\n",
      " 99%|█████████▉| 2163/2174 [7:52:16<01:48,  9.91s/it]/usr/lib/python3.8/zipfile.py:1517: UserWarning: Duplicate name: 'step0100.eqx'\n",
      "  return self._open_to_write(zinfo, force_zip64=force_zip64)\n",
      "100%|█████████▉| 2173/2174 [7:54:12<00:07,  7.76s/it]/usr/lib/python3.8/zipfile.py:1517: UserWarning: Duplicate name: 'step0100.eqx'\n",
      "  return self._open_to_write(zinfo, force_zip64=force_zip64)\n",
      "100%|██████████| 2174/2174 [7:54:41<00:00, 13.10s/it]\n"
     ]
    }
   ],
   "source": [
    "gru_results = train('GRU')"
   ]
  },
  {
   "cell_type": "markdown",
   "id": "78ad24c2",
   "metadata": {},
   "source": [
    "#### RETAIN"
   ]
  },
  {
   "cell_type": "code",
   "execution_count": 22,
   "id": "72f0b60c",
   "metadata": {},
   "outputs": [
    {
     "name": "stderr",
     "output_type": "stream",
     "text": [
      "  1%|▏         | 18/1320 [9:37:55<696:43:14, 1926.42s/it] \n"
     ]
    },
    {
     "ename": "KeyboardInterrupt",
     "evalue": "",
     "output_type": "error",
     "traceback": [
      "\u001b[0;31m---------------------------------------------------------------------------\u001b[0m",
      "\u001b[0;31mKeyboardInterrupt\u001b[0m                         Traceback (most recent call last)",
      "    \u001b[0;31m[... skipping hidden 1 frame]\u001b[0m\n",
      "Cell \u001b[0;32mIn[22], line 1\u001b[0m\n\u001b[0;32m----> 1\u001b[0m retain_results \u001b[38;5;241m=\u001b[39m \u001b[43mtrain\u001b[49m\u001b[43m(\u001b[49m\u001b[38;5;124;43m'\u001b[39;49m\u001b[38;5;124;43mRETAIN\u001b[39;49m\u001b[38;5;124;43m'\u001b[39;49m\u001b[43m)\u001b[49m\n",
      "Cell \u001b[0;32mIn[18], line 15\u001b[0m, in \u001b[0;36mtrain\u001b[0;34m(clf)\u001b[0m\n\u001b[1;32m     13\u001b[0m history \u001b[38;5;241m=\u001b[39m MetricsHistory(all_metrics) \u001b[38;5;66;03m# <- empty history\u001b[39;00m\n\u001b[0;32m---> 15\u001b[0m \u001b[38;5;28;01mreturn\u001b[39;00m \u001b[43mtrainer\u001b[49m\u001b[43m(\u001b[49m\u001b[43mmodel\u001b[49m\u001b[43m,\u001b[49m\u001b[43m \u001b[49m\u001b[43mcprd_interface\u001b[49m\u001b[43m,\u001b[49m\u001b[43m \u001b[49m\u001b[43mcprd_splits\u001b[49m\u001b[43m,\u001b[49m\u001b[43m \u001b[49m\u001b[43mhistory\u001b[49m\u001b[38;5;241;43m=\u001b[39;49m\u001b[43mhistory\u001b[49m\u001b[43m,\u001b[49m\u001b[43m \u001b[49m\u001b[43mreporters\u001b[49m\u001b[38;5;241;43m=\u001b[39;49m\u001b[43mreporters\u001b[49m\u001b[43m,\u001b[49m\u001b[43m \u001b[49m\u001b[43mprng_seed\u001b[49m\u001b[38;5;241;43m=\u001b[39;49m\u001b[38;5;241;43m42\u001b[39;49m\u001b[43m)\u001b[49m\n",
      "File \u001b[0;32m/data/master/DS211/users/tb1009/GIT/ICE-NODE-main/notebooks/../lib/ml/abstract_trainer.py:225\u001b[0m, in \u001b[0;36mTrainer.__call__\u001b[0;34m(self, model, subject_interface, splits, history, prng_seed, trial_terminate_time, reporters)\u001b[0m\n\u001b[1;32m    224\u001b[0m \u001b[38;5;28;01mtry\u001b[39;00m:\n\u001b[0;32m--> 225\u001b[0m     opt_state, model, _ \u001b[38;5;241m=\u001b[39m \u001b[38;5;28;43mself\u001b[39;49m\u001b[38;5;241;43m.\u001b[39;49m\u001b[43mstep_optimizer\u001b[49m\u001b[43m(\u001b[49m\n\u001b[1;32m    226\u001b[0m \u001b[43m        \u001b[49m\u001b[43mopt_state\u001b[49m\u001b[43m,\u001b[49m\u001b[43m \u001b[49m\u001b[43mmodel\u001b[49m\u001b[43m,\u001b[49m\u001b[43m \u001b[49m\u001b[43msubject_interface\u001b[49m\u001b[43m,\u001b[49m\u001b[43m \u001b[49m\u001b[43mtrain_batch\u001b[49m\u001b[43m)\u001b[49m\n\u001b[1;32m    228\u001b[0m \u001b[38;5;28;01mexcept\u001b[39;00m \u001b[38;5;167;01mRuntimeError\u001b[39;00m \u001b[38;5;28;01mas\u001b[39;00m e:\n",
      "File \u001b[0;32m/data/master/DS211/users/tb1009/GIT/ICE-NODE-main/notebooks/../lib/ml/abstract_trainer.py:178\u001b[0m, in \u001b[0;36mTrainer.step_optimizer\u001b[0;34m(self, opt_state, model, subject_interface, batch)\u001b[0m\n\u001b[1;32m    177\u001b[0m grad_f \u001b[38;5;241m=\u001b[39m eqx\u001b[38;5;241m.\u001b[39mfilter_grad(\u001b[38;5;28mself\u001b[39m\u001b[38;5;241m.\u001b[39mloss, has_aux\u001b[38;5;241m=\u001b[39m\u001b[38;5;28;01mTrue\u001b[39;00m)\n\u001b[0;32m--> 178\u001b[0m grads, aux \u001b[38;5;241m=\u001b[39m \u001b[43mgrad_f\u001b[49m\u001b[43m(\u001b[49m\u001b[43mmodel\u001b[49m\u001b[43m,\u001b[49m\u001b[43m \u001b[49m\u001b[43msubject_interface\u001b[49m\u001b[43m,\u001b[49m\u001b[43m \u001b[49m\u001b[43mbatch\u001b[49m\u001b[43m)\u001b[49m\n\u001b[1;32m    179\u001b[0m updates, opt_state \u001b[38;5;241m=\u001b[39m opt\u001b[38;5;241m.\u001b[39mupdate(grads, opt_state)\n",
      "File \u001b[0;32m/data/master/DS211/users/tb1009/venv308/lib/python3.8/site-packages/equinox/grad.py:53\u001b[0m, in \u001b[0;36m_GradWrapper.__call__\u001b[0;34m(_GradWrapper__self, *args, **kwargs)\u001b[0m\n\u001b[1;32m     52\u001b[0m \u001b[38;5;28;01mdef\u001b[39;00m \u001b[38;5;21m__call__\u001b[39m(__self, \u001b[38;5;241m*\u001b[39margs, \u001b[38;5;241m*\u001b[39m\u001b[38;5;241m*\u001b[39mkwargs):\n\u001b[0;32m---> 53\u001b[0m     value, grad \u001b[38;5;241m=\u001b[39m \u001b[43m__self\u001b[49m\u001b[38;5;241;43m.\u001b[39;49m\u001b[43m_fun_value_and_grad\u001b[49m\u001b[43m(\u001b[49m\u001b[38;5;241;43m*\u001b[39;49m\u001b[43margs\u001b[49m\u001b[43m,\u001b[49m\u001b[43m \u001b[49m\u001b[38;5;241;43m*\u001b[39;49m\u001b[38;5;241;43m*\u001b[39;49m\u001b[43mkwargs\u001b[49m\u001b[43m)\u001b[49m\n\u001b[1;32m     54\u001b[0m     \u001b[38;5;28;01mif\u001b[39;00m __self\u001b[38;5;241m.\u001b[39m_has_aux:\n",
      "File \u001b[0;32m/data/master/DS211/users/tb1009/venv308/lib/python3.8/site-packages/equinox/grad.py:40\u001b[0m, in \u001b[0;36m_ValueAndGradWrapper.__call__\u001b[0;34m(_ValueAndGradWrapper__self, _ValueAndGradWrapper__x, *args, **kwargs)\u001b[0m\n\u001b[1;32m     39\u001b[0m diff_x, nondiff_x \u001b[38;5;241m=\u001b[39m partition(__x, __self\u001b[38;5;241m.\u001b[39m_arg)\n\u001b[0;32m---> 40\u001b[0m \u001b[38;5;28;01mreturn\u001b[39;00m \u001b[43mfun_value_and_grad\u001b[49m\u001b[43m(\u001b[49m\u001b[43mdiff_x\u001b[49m\u001b[43m,\u001b[49m\u001b[43m \u001b[49m\u001b[43mnondiff_x\u001b[49m\u001b[43m,\u001b[49m\u001b[43m \u001b[49m\u001b[38;5;241;43m*\u001b[39;49m\u001b[43margs\u001b[49m\u001b[43m,\u001b[49m\u001b[43m \u001b[49m\u001b[38;5;241;43m*\u001b[39;49m\u001b[38;5;241;43m*\u001b[39;49m\u001b[43mkwargs\u001b[49m\u001b[43m)\u001b[49m\n",
      "    \u001b[0;31m[... skipping hidden 1 frame]\u001b[0m\n",
      "File \u001b[0;32m/data/master/DS211/users/tb1009/venv308/lib/python3.8/site-packages/jax/_src/api.py:1167\u001b[0m, in \u001b[0;36mvalue_and_grad.<locals>.value_and_grad_f\u001b[0;34m(*args, **kwargs)\u001b[0m\n\u001b[1;32m   1166\u001b[0m \u001b[38;5;28;01melse\u001b[39;00m:\n\u001b[0;32m-> 1167\u001b[0m   ans, vjp_py, aux \u001b[38;5;241m=\u001b[39m \u001b[43m_vjp\u001b[49m\u001b[43m(\u001b[49m\n\u001b[1;32m   1168\u001b[0m \u001b[43m      \u001b[49m\u001b[43mf_partial\u001b[49m\u001b[43m,\u001b[49m\u001b[43m \u001b[49m\u001b[38;5;241;43m*\u001b[39;49m\u001b[43mdyn_args\u001b[49m\u001b[43m,\u001b[49m\u001b[43m \u001b[49m\u001b[43mhas_aux\u001b[49m\u001b[38;5;241;43m=\u001b[39;49m\u001b[38;5;28;43;01mTrue\u001b[39;49;00m\u001b[43m,\u001b[49m\u001b[43m \u001b[49m\u001b[43mreduce_axes\u001b[49m\u001b[38;5;241;43m=\u001b[39;49m\u001b[43mreduce_axes\u001b[49m\u001b[43m)\u001b[49m\n\u001b[1;32m   1169\u001b[0m _check_scalar(ans)\n",
      "File \u001b[0;32m/data/master/DS211/users/tb1009/venv308/lib/python3.8/site-packages/jax/_src/api.py:2659\u001b[0m, in \u001b[0;36m_vjp\u001b[0;34m(fun, has_aux, reduce_axes, *primals)\u001b[0m\n\u001b[1;32m   2658\u001b[0m flat_fun, out_aux_trees \u001b[38;5;241m=\u001b[39m flatten_fun_nokwargs2(fun, in_tree)\n\u001b[0;32m-> 2659\u001b[0m out_primal, out_vjp, aux \u001b[38;5;241m=\u001b[39m \u001b[43mad\u001b[49m\u001b[38;5;241;43m.\u001b[39;49m\u001b[43mvjp\u001b[49m\u001b[43m(\u001b[49m\n\u001b[1;32m   2660\u001b[0m \u001b[43m    \u001b[49m\u001b[43mflat_fun\u001b[49m\u001b[43m,\u001b[49m\u001b[43m \u001b[49m\u001b[43mprimals_flat\u001b[49m\u001b[43m,\u001b[49m\u001b[43m \u001b[49m\u001b[43mhas_aux\u001b[49m\u001b[38;5;241;43m=\u001b[39;49m\u001b[38;5;28;43;01mTrue\u001b[39;49;00m\u001b[43m,\u001b[49m\u001b[43m \u001b[49m\u001b[43mreduce_axes\u001b[49m\u001b[38;5;241;43m=\u001b[39;49m\u001b[43mreduce_axes\u001b[49m\u001b[43m)\u001b[49m\n\u001b[1;32m   2661\u001b[0m out_tree, aux_tree \u001b[38;5;241m=\u001b[39m out_aux_trees()\n",
      "File \u001b[0;32m/data/master/DS211/users/tb1009/venv308/lib/python3.8/site-packages/jax/interpreters/ad.py:137\u001b[0m, in \u001b[0;36mvjp\u001b[0;34m(traceable, primals, has_aux, reduce_axes)\u001b[0m\n\u001b[1;32m    136\u001b[0m \u001b[38;5;28;01melse\u001b[39;00m:\n\u001b[0;32m--> 137\u001b[0m   out_primals, pvals, jaxpr, consts, aux \u001b[38;5;241m=\u001b[39m \u001b[43mlinearize\u001b[49m\u001b[43m(\u001b[49m\u001b[43mtraceable\u001b[49m\u001b[43m,\u001b[49m\u001b[43m \u001b[49m\u001b[38;5;241;43m*\u001b[39;49m\u001b[43mprimals\u001b[49m\u001b[43m,\u001b[49m\u001b[43m \u001b[49m\u001b[43mhas_aux\u001b[49m\u001b[38;5;241;43m=\u001b[39;49m\u001b[38;5;28;43;01mTrue\u001b[39;49;00m\u001b[43m)\u001b[49m\n\u001b[1;32m    139\u001b[0m \u001b[38;5;28;01mdef\u001b[39;00m \u001b[38;5;21munbound_vjp\u001b[39m(pvals, jaxpr, consts, \u001b[38;5;241m*\u001b[39mcts):\n",
      "File \u001b[0;32m/data/master/DS211/users/tb1009/venv308/lib/python3.8/site-packages/jax/interpreters/ad.py:124\u001b[0m, in \u001b[0;36mlinearize\u001b[0;34m(traceable, *primals, **kwargs)\u001b[0m\n\u001b[1;32m    123\u001b[0m jvpfun_flat, out_tree \u001b[38;5;241m=\u001b[39m flatten_fun(jvpfun, in_tree)\n\u001b[0;32m--> 124\u001b[0m jaxpr, out_pvals, consts \u001b[38;5;241m=\u001b[39m \u001b[43mpe\u001b[49m\u001b[38;5;241;43m.\u001b[39;49m\u001b[43mtrace_to_jaxpr_nounits\u001b[49m\u001b[43m(\u001b[49m\u001b[43mjvpfun_flat\u001b[49m\u001b[43m,\u001b[49m\u001b[43m \u001b[49m\u001b[43min_pvals\u001b[49m\u001b[43m)\u001b[49m\n\u001b[1;32m    125\u001b[0m out_primals_pvals, out_tangents_pvals \u001b[38;5;241m=\u001b[39m tree_unflatten(out_tree(), out_pvals)\n",
      "File \u001b[0;32m/data/master/DS211/users/tb1009/venv308/lib/python3.8/site-packages/jax/_src/profiler.py:314\u001b[0m, in \u001b[0;36mannotate_function.<locals>.wrapper\u001b[0;34m(*args, **kwargs)\u001b[0m\n\u001b[1;32m    313\u001b[0m \u001b[38;5;28;01mwith\u001b[39;00m TraceAnnotation(name, \u001b[38;5;241m*\u001b[39m\u001b[38;5;241m*\u001b[39mdecorator_kwargs):\n\u001b[0;32m--> 314\u001b[0m   \u001b[38;5;28;01mreturn\u001b[39;00m \u001b[43mfunc\u001b[49m\u001b[43m(\u001b[49m\u001b[38;5;241;43m*\u001b[39;49m\u001b[43margs\u001b[49m\u001b[43m,\u001b[49m\u001b[43m \u001b[49m\u001b[38;5;241;43m*\u001b[39;49m\u001b[38;5;241;43m*\u001b[39;49m\u001b[43mkwargs\u001b[49m\u001b[43m)\u001b[49m\n\u001b[1;32m    315\u001b[0m \u001b[38;5;28;01mreturn\u001b[39;00m wrapper\n",
      "File \u001b[0;32m/data/master/DS211/users/tb1009/venv308/lib/python3.8/site-packages/jax/interpreters/partial_eval.py:767\u001b[0m, in \u001b[0;36mtrace_to_jaxpr_nounits\u001b[0;34m(fun, pvals, instantiate)\u001b[0m\n\u001b[1;32m    766\u001b[0m fun \u001b[38;5;241m=\u001b[39m trace_to_subjaxpr_nounits(fun, main, instantiate)\n\u001b[0;32m--> 767\u001b[0m jaxpr, (out_pvals, consts, env) \u001b[38;5;241m=\u001b[39m \u001b[43mfun\u001b[49m\u001b[38;5;241;43m.\u001b[39;49m\u001b[43mcall_wrapped\u001b[49m\u001b[43m(\u001b[49m\u001b[43mpvals\u001b[49m\u001b[43m)\u001b[49m\n\u001b[1;32m    768\u001b[0m \u001b[38;5;28;01massert\u001b[39;00m \u001b[38;5;129;01mnot\u001b[39;00m env\n",
      "File \u001b[0;32m/data/master/DS211/users/tb1009/venv308/lib/python3.8/site-packages/jax/linear_util.py:167\u001b[0m, in \u001b[0;36mWrappedFun.call_wrapped\u001b[0;34m(self, *args, **kwargs)\u001b[0m\n\u001b[1;32m    166\u001b[0m \u001b[38;5;28;01mtry\u001b[39;00m:\n\u001b[0;32m--> 167\u001b[0m   ans \u001b[38;5;241m=\u001b[39m \u001b[38;5;28;43mself\u001b[39;49m\u001b[38;5;241;43m.\u001b[39;49m\u001b[43mf\u001b[49m\u001b[43m(\u001b[49m\u001b[38;5;241;43m*\u001b[39;49m\u001b[43margs\u001b[49m\u001b[43m,\u001b[49m\u001b[43m \u001b[49m\u001b[38;5;241;43m*\u001b[39;49m\u001b[38;5;241;43m*\u001b[39;49m\u001b[38;5;28;43mdict\u001b[39;49m\u001b[43m(\u001b[49m\u001b[38;5;28;43mself\u001b[39;49m\u001b[38;5;241;43m.\u001b[39;49m\u001b[43mparams\u001b[49m\u001b[43m,\u001b[49m\u001b[43m \u001b[49m\u001b[38;5;241;43m*\u001b[39;49m\u001b[38;5;241;43m*\u001b[39;49m\u001b[43mkwargs\u001b[49m\u001b[43m)\u001b[49m\u001b[43m)\u001b[49m\n\u001b[1;32m    168\u001b[0m \u001b[38;5;28;01mexcept\u001b[39;00m:\n\u001b[1;32m    169\u001b[0m   \u001b[38;5;66;03m# Some transformations yield from inside context managers, so we have to\u001b[39;00m\n\u001b[1;32m    170\u001b[0m   \u001b[38;5;66;03m# interrupt them before reraising the exception. Otherwise they will only\u001b[39;00m\n\u001b[1;32m    171\u001b[0m   \u001b[38;5;66;03m# get garbage-collected at some later time, running their cleanup tasks\u001b[39;00m\n\u001b[1;32m    172\u001b[0m   \u001b[38;5;66;03m# only after this exception is handled, which can corrupt the global\u001b[39;00m\n\u001b[1;32m    173\u001b[0m   \u001b[38;5;66;03m# state.\u001b[39;00m\n",
      "File \u001b[0;32m/data/master/DS211/users/tb1009/venv308/lib/python3.8/site-packages/equinox/grad.py:37\u001b[0m, in \u001b[0;36m_ValueAndGradWrapper.__call__.<locals>.fun_value_and_grad\u001b[0;34m(_diff_x, _nondiff_x, *_args, **_kwargs)\u001b[0m\n\u001b[1;32m     36\u001b[0m _x \u001b[38;5;241m=\u001b[39m combine(_diff_x, _nondiff_x)\n\u001b[0;32m---> 37\u001b[0m \u001b[38;5;28;01mreturn\u001b[39;00m \u001b[43m__self\u001b[49m\u001b[38;5;241;43m.\u001b[39;49m\u001b[43m_fun\u001b[49m\u001b[43m(\u001b[49m\u001b[43m_x\u001b[49m\u001b[43m,\u001b[49m\u001b[43m \u001b[49m\u001b[38;5;241;43m*\u001b[39;49m\u001b[43m_args\u001b[49m\u001b[43m,\u001b[49m\u001b[43m \u001b[49m\u001b[38;5;241;43m*\u001b[39;49m\u001b[38;5;241;43m*\u001b[39;49m\u001b[43m_kwargs\u001b[49m\u001b[43m)\u001b[49m\n",
      "File \u001b[0;32m/data/master/DS211/users/tb1009/GIT/ICE-NODE-main/notebooks/../lib/ml/abstract_trainer.py:154\u001b[0m, in \u001b[0;36mTrainer.loss\u001b[0;34m(self, model, subject_interface, batch, args)\u001b[0m\n\u001b[1;32m    153\u001b[0m \u001b[38;5;28;01melse\u001b[39;00m:\n\u001b[0;32m--> 154\u001b[0m     \u001b[38;5;28;01mreturn\u001b[39;00m \u001b[38;5;28;43mself\u001b[39;49m\u001b[38;5;241;43m.\u001b[39;49m\u001b[43mreg_loss\u001b[49m\u001b[43m(\u001b[49m\u001b[43mmodel\u001b[49m\u001b[43m,\u001b[49m\u001b[43m \u001b[49m\u001b[43msubject_interface\u001b[49m\u001b[43m,\u001b[49m\u001b[43m \u001b[49m\u001b[43mbatch\u001b[49m\u001b[43m,\u001b[49m\u001b[43m \u001b[49m\u001b[43margs\u001b[49m\u001b[43m)\u001b[49m\n",
      "File \u001b[0;32m/data/master/DS211/users/tb1009/GIT/ICE-NODE-main/notebooks/../lib/ml/abstract_trainer.py:130\u001b[0m, in \u001b[0;36mTrainer.reg_loss\u001b[0;34m(self, model, subject_interface, batch, args)\u001b[0m\n\u001b[1;32m    125\u001b[0m \u001b[38;5;28;01mdef\u001b[39;00m \u001b[38;5;21mreg_loss\u001b[39m(\u001b[38;5;28mself\u001b[39m,\n\u001b[1;32m    126\u001b[0m              model: AbstractModel,\n\u001b[1;32m    127\u001b[0m              subject_interface: Subject_JAX,\n\u001b[1;32m    128\u001b[0m              batch: List[\u001b[38;5;28mint\u001b[39m],\n\u001b[1;32m    129\u001b[0m              args: Dict[\u001b[38;5;28mstr\u001b[39m, Any] \u001b[38;5;241m=\u001b[39m \u001b[38;5;28mdict\u001b[39m()):\n\u001b[0;32m--> 130\u001b[0m     res \u001b[38;5;241m=\u001b[39m \u001b[43mmodel\u001b[49m\u001b[43m(\u001b[49m\u001b[43msubject_interface\u001b[49m\u001b[43m,\u001b[49m\u001b[43m \u001b[49m\u001b[43mbatch\u001b[49m\u001b[43m,\u001b[49m\u001b[43m \u001b[49m\u001b[43margs\u001b[49m\u001b[43m)\u001b[49m\n\u001b[1;32m    131\u001b[0m     l \u001b[38;5;241m=\u001b[39m res[\u001b[38;5;124m'\u001b[39m\u001b[38;5;124mpredictions\u001b[39m\u001b[38;5;124m'\u001b[39m]\u001b[38;5;241m.\u001b[39mprediction_loss(\u001b[38;5;28mself\u001b[39m\u001b[38;5;241m.\u001b[39mdx_loss())\n",
      "File \u001b[0;32m/data/master/DS211/users/tb1009/GIT/ICE-NODE-main/notebooks/../lib/ml/dx_retain.py:98\u001b[0m, in \u001b[0;36mRETAIN.__call__\u001b[0;34m(self, subject_interface, subjects_batch, args)\u001b[0m\n\u001b[1;32m     96\u001b[0m \u001b[38;5;28;01mfor\u001b[39;00m j \u001b[38;5;129;01min\u001b[39;00m \u001b[38;5;28mreversed\u001b[39m(\u001b[38;5;28mrange\u001b[39m(i)):\n\u001b[1;32m     97\u001b[0m     \u001b[38;5;66;03m# step 2 @RETAIN paper\u001b[39;00m\n\u001b[0;32m---> 98\u001b[0m     state_a \u001b[38;5;241m=\u001b[39m \u001b[38;5;28;43mself\u001b[39;49m\u001b[38;5;241;43m.\u001b[39;49m\u001b[43mgru_a\u001b[49m\u001b[43m(\u001b[49m\u001b[43mcv_seq\u001b[49m\u001b[43m[\u001b[49m\u001b[43mj\u001b[49m\u001b[43m]\u001b[49m\u001b[43m,\u001b[49m\u001b[43m \u001b[49m\u001b[43mstate_a\u001b[49m\u001b[43m)\u001b[49m\n\u001b[1;32m     99\u001b[0m     e_j \u001b[38;5;241m=\u001b[39m \u001b[38;5;28mself\u001b[39m\u001b[38;5;241m.\u001b[39matt_a(state_a)\n",
      "File \u001b[0;32m/data/master/DS211/users/tb1009/venv308/lib/python3.8/site-packages/equinox/nn/rnn.py:108\u001b[0m, in \u001b[0;36mGRUCell.__call__\u001b[0;34m(self, input, hidden, key)\u001b[0m\n\u001b[1;32m    107\u001b[0m     bias_n \u001b[38;5;241m=\u001b[39m \u001b[38;5;241m0\u001b[39m\n\u001b[0;32m--> 108\u001b[0m igates \u001b[38;5;241m=\u001b[39m \u001b[43mjnp\u001b[49m\u001b[38;5;241;43m.\u001b[39;49m\u001b[43msplit\u001b[49m\u001b[43m(\u001b[49m\u001b[38;5;28;43mself\u001b[39;49m\u001b[38;5;241;43m.\u001b[39;49m\u001b[43mweight_ih\u001b[49m\u001b[43m \u001b[49m\u001b[38;5;241;43m@\u001b[39;49m\u001b[43m \u001b[49m\u001b[38;5;28;43minput\u001b[39;49m\u001b[43m \u001b[49m\u001b[38;5;241;43m+\u001b[39;49m\u001b[43m \u001b[49m\u001b[43mbias\u001b[49m\u001b[43m,\u001b[49m\u001b[43m \u001b[49m\u001b[38;5;241;43m3\u001b[39;49m\u001b[43m)\u001b[49m\n\u001b[1;32m    109\u001b[0m hgates \u001b[38;5;241m=\u001b[39m jnp\u001b[38;5;241m.\u001b[39msplit(\u001b[38;5;28mself\u001b[39m\u001b[38;5;241m.\u001b[39mweight_hh \u001b[38;5;241m@\u001b[39m hidden, \u001b[38;5;241m3\u001b[39m)\n",
      "File \u001b[0;32m/data/master/DS211/users/tb1009/venv308/lib/python3.8/site-packages/jax/_src/numpy/lax_numpy.py:1209\u001b[0m, in \u001b[0;36msplit\u001b[0;34m(ary, indices_or_sections, axis)\u001b[0m\n\u001b[1;32m   1207\u001b[0m \u001b[38;5;129m@_wraps\u001b[39m(np\u001b[38;5;241m.\u001b[39msplit, lax_description\u001b[38;5;241m=\u001b[39m_ARRAY_VIEW_DOC)\n\u001b[1;32m   1208\u001b[0m \u001b[38;5;28;01mdef\u001b[39;00m \u001b[38;5;21msplit\u001b[39m(ary: ArrayLike, indices_or_sections: Union[\u001b[38;5;28mint\u001b[39m, ArrayLike], axis: \u001b[38;5;28mint\u001b[39m \u001b[38;5;241m=\u001b[39m \u001b[38;5;241m0\u001b[39m) \u001b[38;5;241m-\u001b[39m\u001b[38;5;241m>\u001b[39m List[Array]:\n\u001b[0;32m-> 1209\u001b[0m   \u001b[38;5;28;01mreturn\u001b[39;00m \u001b[43m_split\u001b[49m\u001b[43m(\u001b[49m\u001b[38;5;124;43m\"\u001b[39;49m\u001b[38;5;124;43msplit\u001b[39;49m\u001b[38;5;124;43m\"\u001b[39;49m\u001b[43m,\u001b[49m\u001b[43m \u001b[49m\u001b[43mary\u001b[49m\u001b[43m,\u001b[49m\u001b[43m \u001b[49m\u001b[43mindices_or_sections\u001b[49m\u001b[43m,\u001b[49m\u001b[43m \u001b[49m\u001b[43maxis\u001b[49m\u001b[38;5;241;43m=\u001b[39;49m\u001b[43maxis\u001b[49m\u001b[43m)\u001b[49m\n",
      "File \u001b[0;32m/data/master/DS211/users/tb1009/venv308/lib/python3.8/site-packages/jax/_src/numpy/lax_numpy.py:1204\u001b[0m, in \u001b[0;36m_split\u001b[0;34m(op, ary, indices_or_sections, axis)\u001b[0m\n\u001b[1;32m   1203\u001b[0m _subval \u001b[38;5;241m=\u001b[39m \u001b[38;5;28;01mlambda\u001b[39;00m x, i, v: subvals(x, [(i, v)])\n\u001b[0;32m-> 1204\u001b[0m \u001b[38;5;28;01mreturn\u001b[39;00m [lax\u001b[38;5;241m.\u001b[39mslice(ary, _subval(starts, axis, start), _subval(ends, axis, end))\n\u001b[1;32m   1205\u001b[0m         \u001b[38;5;28;01mfor\u001b[39;00m start, end \u001b[38;5;129;01min\u001b[39;00m \u001b[38;5;28mzip\u001b[39m(split_indices[:\u001b[38;5;241m-\u001b[39m\u001b[38;5;241m1\u001b[39m], split_indices[\u001b[38;5;241m1\u001b[39m:])]\n",
      "File \u001b[0;32m/data/master/DS211/users/tb1009/venv308/lib/python3.8/site-packages/jax/_src/numpy/lax_numpy.py:1204\u001b[0m, in \u001b[0;36m<listcomp>\u001b[0;34m(.0)\u001b[0m\n\u001b[1;32m   1203\u001b[0m _subval \u001b[38;5;241m=\u001b[39m \u001b[38;5;28;01mlambda\u001b[39;00m x, i, v: subvals(x, [(i, v)])\n\u001b[0;32m-> 1204\u001b[0m \u001b[38;5;28;01mreturn\u001b[39;00m [\u001b[43mlax\u001b[49m\u001b[38;5;241;43m.\u001b[39;49m\u001b[43mslice\u001b[49m\u001b[43m(\u001b[49m\u001b[43mary\u001b[49m\u001b[43m,\u001b[49m\u001b[43m \u001b[49m\u001b[43m_subval\u001b[49m\u001b[43m(\u001b[49m\u001b[43mstarts\u001b[49m\u001b[43m,\u001b[49m\u001b[43m \u001b[49m\u001b[43maxis\u001b[49m\u001b[43m,\u001b[49m\u001b[43m \u001b[49m\u001b[43mstart\u001b[49m\u001b[43m)\u001b[49m\u001b[43m,\u001b[49m\u001b[43m \u001b[49m\u001b[43m_subval\u001b[49m\u001b[43m(\u001b[49m\u001b[43mends\u001b[49m\u001b[43m,\u001b[49m\u001b[43m \u001b[49m\u001b[43maxis\u001b[49m\u001b[43m,\u001b[49m\u001b[43m \u001b[49m\u001b[43mend\u001b[49m\u001b[43m)\u001b[49m\u001b[43m)\u001b[49m\n\u001b[1;32m   1205\u001b[0m         \u001b[38;5;28;01mfor\u001b[39;00m start, end \u001b[38;5;129;01min\u001b[39;00m \u001b[38;5;28mzip\u001b[39m(split_indices[:\u001b[38;5;241m-\u001b[39m\u001b[38;5;241m1\u001b[39m], split_indices[\u001b[38;5;241m1\u001b[39m:])]\n",
      "File \u001b[0;32m/data/master/DS211/users/tb1009/venv308/lib/python3.8/site-packages/jax/_src/lax/slicing.py:60\u001b[0m, in \u001b[0;36mslice\u001b[0;34m(operand, start_indices, limit_indices, strides)\u001b[0m\n\u001b[1;32m     56\u001b[0m \u001b[38;5;124;03m\"\"\"Wraps XLA's `Slice\u001b[39;00m\n\u001b[1;32m     57\u001b[0m \u001b[38;5;124;03m<https://www.tensorflow.org/xla/operation_semantics#slice>`_\u001b[39;00m\n\u001b[1;32m     58\u001b[0m \u001b[38;5;124;03moperator.\u001b[39;00m\n\u001b[1;32m     59\u001b[0m \u001b[38;5;124;03m\"\"\"\u001b[39;00m\n\u001b[0;32m---> 60\u001b[0m \u001b[38;5;28;01mreturn\u001b[39;00m \u001b[43mslice_p\u001b[49m\u001b[38;5;241;43m.\u001b[39;49m\u001b[43mbind\u001b[49m\u001b[43m(\u001b[49m\u001b[43moperand\u001b[49m\u001b[43m,\u001b[49m\u001b[43m \u001b[49m\u001b[43mstart_indices\u001b[49m\u001b[38;5;241;43m=\u001b[39;49m\u001b[38;5;28;43mtuple\u001b[39;49m\u001b[43m(\u001b[49m\u001b[43mstart_indices\u001b[49m\u001b[43m)\u001b[49m\u001b[43m,\u001b[49m\n\u001b[1;32m     61\u001b[0m \u001b[43m                    \u001b[49m\u001b[43mlimit_indices\u001b[49m\u001b[38;5;241;43m=\u001b[39;49m\u001b[38;5;28;43mtuple\u001b[39;49m\u001b[43m(\u001b[49m\u001b[43mlimit_indices\u001b[49m\u001b[43m)\u001b[49m\u001b[43m,\u001b[49m\n\u001b[1;32m     62\u001b[0m \u001b[43m                    \u001b[49m\u001b[43mstrides\u001b[49m\u001b[38;5;241;43m=\u001b[39;49m\u001b[38;5;28;43;01mNone\u001b[39;49;00m\u001b[43m \u001b[49m\u001b[38;5;28;43;01mif\u001b[39;49;00m\u001b[43m \u001b[49m\u001b[43mstrides\u001b[49m\u001b[43m \u001b[49m\u001b[38;5;129;43;01mis\u001b[39;49;00m\u001b[43m \u001b[49m\u001b[38;5;28;43;01mNone\u001b[39;49;00m\u001b[43m \u001b[49m\u001b[38;5;28;43;01melse\u001b[39;49;00m\u001b[43m \u001b[49m\u001b[38;5;28;43mtuple\u001b[39;49m\u001b[43m(\u001b[49m\u001b[43mstrides\u001b[49m\u001b[43m)\u001b[49m\u001b[43m)\u001b[49m\n",
      "File \u001b[0;32m/data/master/DS211/users/tb1009/venv308/lib/python3.8/site-packages/jax/core.py:329\u001b[0m, in \u001b[0;36mPrimitive.bind\u001b[0;34m(self, *args, **params)\u001b[0m\n\u001b[1;32m    327\u001b[0m \u001b[38;5;28;01massert\u001b[39;00m (\u001b[38;5;129;01mnot\u001b[39;00m config\u001b[38;5;241m.\u001b[39mjax_enable_checks \u001b[38;5;129;01mor\u001b[39;00m\n\u001b[1;32m    328\u001b[0m         \u001b[38;5;28mall\u001b[39m(\u001b[38;5;28misinstance\u001b[39m(arg, Tracer) \u001b[38;5;129;01mor\u001b[39;00m valid_jaxtype(arg) \u001b[38;5;28;01mfor\u001b[39;00m arg \u001b[38;5;129;01min\u001b[39;00m args)), args\n\u001b[0;32m--> 329\u001b[0m \u001b[38;5;28;01mreturn\u001b[39;00m \u001b[38;5;28;43mself\u001b[39;49m\u001b[38;5;241;43m.\u001b[39;49m\u001b[43mbind_with_trace\u001b[49m\u001b[43m(\u001b[49m\u001b[43mfind_top_trace\u001b[49m\u001b[43m(\u001b[49m\u001b[43margs\u001b[49m\u001b[43m)\u001b[49m\u001b[43m,\u001b[49m\u001b[43m \u001b[49m\u001b[43margs\u001b[49m\u001b[43m,\u001b[49m\u001b[43m \u001b[49m\u001b[43mparams\u001b[49m\u001b[43m)\u001b[49m\n",
      "File \u001b[0;32m/data/master/DS211/users/tb1009/venv308/lib/python3.8/site-packages/jax/core.py:332\u001b[0m, in \u001b[0;36mPrimitive.bind_with_trace\u001b[0;34m(self, trace, args, params)\u001b[0m\n\u001b[1;32m    331\u001b[0m \u001b[38;5;28;01mdef\u001b[39;00m \u001b[38;5;21mbind_with_trace\u001b[39m(\u001b[38;5;28mself\u001b[39m, trace, args, params):\n\u001b[0;32m--> 332\u001b[0m   out \u001b[38;5;241m=\u001b[39m \u001b[43mtrace\u001b[49m\u001b[38;5;241;43m.\u001b[39;49m\u001b[43mprocess_primitive\u001b[49m\u001b[43m(\u001b[49m\u001b[38;5;28;43mself\u001b[39;49m\u001b[43m,\u001b[49m\u001b[43m \u001b[49m\u001b[38;5;28;43mmap\u001b[39;49m\u001b[43m(\u001b[49m\u001b[43mtrace\u001b[49m\u001b[38;5;241;43m.\u001b[39;49m\u001b[43mfull_raise\u001b[49m\u001b[43m,\u001b[49m\u001b[43m \u001b[49m\u001b[43margs\u001b[49m\u001b[43m)\u001b[49m\u001b[43m,\u001b[49m\u001b[43m \u001b[49m\u001b[43mparams\u001b[49m\u001b[43m)\u001b[49m\n\u001b[1;32m    333\u001b[0m   \u001b[38;5;28;01mreturn\u001b[39;00m \u001b[38;5;28mmap\u001b[39m(full_lower, out) \u001b[38;5;28;01mif\u001b[39;00m \u001b[38;5;28mself\u001b[39m\u001b[38;5;241m.\u001b[39mmultiple_results \u001b[38;5;28;01melse\u001b[39;00m full_lower(out)\n",
      "File \u001b[0;32m/data/master/DS211/users/tb1009/venv308/lib/python3.8/site-packages/jax/interpreters/ad.py:310\u001b[0m, in \u001b[0;36mJVPTrace.process_primitive\u001b[0;34m(self, primitive, tracers, params)\u001b[0m\n\u001b[1;32m    309\u001b[0m   \u001b[38;5;28;01mraise\u001b[39;00m \u001b[38;5;167;01mNotImplementedError\u001b[39;00m(msg)\n\u001b[0;32m--> 310\u001b[0m primal_out, tangent_out \u001b[38;5;241m=\u001b[39m \u001b[43mjvp\u001b[49m\u001b[43m(\u001b[49m\u001b[43mprimals_in\u001b[49m\u001b[43m,\u001b[49m\u001b[43m \u001b[49m\u001b[43mtangents_in\u001b[49m\u001b[43m,\u001b[49m\u001b[43m \u001b[49m\u001b[38;5;241;43m*\u001b[39;49m\u001b[38;5;241;43m*\u001b[39;49m\u001b[43mparams\u001b[49m\u001b[43m)\u001b[49m\n\u001b[1;32m    311\u001b[0m \u001b[38;5;28;01mif\u001b[39;00m primitive\u001b[38;5;241m.\u001b[39mmultiple_results:\n",
      "File \u001b[0;32m/data/master/DS211/users/tb1009/venv308/lib/python3.8/site-packages/jax/interpreters/ad.py:497\u001b[0m, in \u001b[0;36mlinear_jvp\u001b[0;34m(primitive, primals, tangents, **params)\u001b[0m\n\u001b[1;32m    496\u001b[0m tangents \u001b[38;5;241m=\u001b[39m \u001b[38;5;28mmap\u001b[39m(instantiate_zeros, tangents)\n\u001b[0;32m--> 497\u001b[0m \u001b[38;5;28;01mreturn\u001b[39;00m val_out, \u001b[43mprimitive\u001b[49m\u001b[38;5;241;43m.\u001b[39;49m\u001b[43mbind\u001b[49m\u001b[43m(\u001b[49m\u001b[38;5;241;43m*\u001b[39;49m\u001b[43mtangents\u001b[49m\u001b[43m,\u001b[49m\u001b[43m \u001b[49m\u001b[38;5;241;43m*\u001b[39;49m\u001b[38;5;241;43m*\u001b[39;49m\u001b[43mparams\u001b[49m\u001b[43m)\u001b[49m\n",
      "File \u001b[0;32m/data/master/DS211/users/tb1009/venv308/lib/python3.8/site-packages/jax/core.py:329\u001b[0m, in \u001b[0;36mPrimitive.bind\u001b[0;34m(self, *args, **params)\u001b[0m\n\u001b[1;32m    327\u001b[0m \u001b[38;5;28;01massert\u001b[39;00m (\u001b[38;5;129;01mnot\u001b[39;00m config\u001b[38;5;241m.\u001b[39mjax_enable_checks \u001b[38;5;129;01mor\u001b[39;00m\n\u001b[1;32m    328\u001b[0m         \u001b[38;5;28mall\u001b[39m(\u001b[38;5;28misinstance\u001b[39m(arg, Tracer) \u001b[38;5;129;01mor\u001b[39;00m valid_jaxtype(arg) \u001b[38;5;28;01mfor\u001b[39;00m arg \u001b[38;5;129;01min\u001b[39;00m args)), args\n\u001b[0;32m--> 329\u001b[0m \u001b[38;5;28;01mreturn\u001b[39;00m \u001b[38;5;28;43mself\u001b[39;49m\u001b[38;5;241;43m.\u001b[39;49m\u001b[43mbind_with_trace\u001b[49m\u001b[43m(\u001b[49m\u001b[43mfind_top_trace\u001b[49m\u001b[43m(\u001b[49m\u001b[43margs\u001b[49m\u001b[43m)\u001b[49m\u001b[43m,\u001b[49m\u001b[43m \u001b[49m\u001b[43margs\u001b[49m\u001b[43m,\u001b[49m\u001b[43m \u001b[49m\u001b[43mparams\u001b[49m\u001b[43m)\u001b[49m\n",
      "File \u001b[0;32m/data/master/DS211/users/tb1009/venv308/lib/python3.8/site-packages/jax/core.py:332\u001b[0m, in \u001b[0;36mPrimitive.bind_with_trace\u001b[0;34m(self, trace, args, params)\u001b[0m\n\u001b[1;32m    331\u001b[0m \u001b[38;5;28;01mdef\u001b[39;00m \u001b[38;5;21mbind_with_trace\u001b[39m(\u001b[38;5;28mself\u001b[39m, trace, args, params):\n\u001b[0;32m--> 332\u001b[0m   out \u001b[38;5;241m=\u001b[39m \u001b[43mtrace\u001b[49m\u001b[38;5;241;43m.\u001b[39;49m\u001b[43mprocess_primitive\u001b[49m\u001b[43m(\u001b[49m\u001b[38;5;28;43mself\u001b[39;49m\u001b[43m,\u001b[49m\u001b[43m \u001b[49m\u001b[38;5;28;43mmap\u001b[39;49m\u001b[43m(\u001b[49m\u001b[43mtrace\u001b[49m\u001b[38;5;241;43m.\u001b[39;49m\u001b[43mfull_raise\u001b[49m\u001b[43m,\u001b[49m\u001b[43m \u001b[49m\u001b[43margs\u001b[49m\u001b[43m)\u001b[49m\u001b[43m,\u001b[49m\u001b[43m \u001b[49m\u001b[43mparams\u001b[49m\u001b[43m)\u001b[49m\n\u001b[1;32m    333\u001b[0m   \u001b[38;5;28;01mreturn\u001b[39;00m \u001b[38;5;28mmap\u001b[39m(full_lower, out) \u001b[38;5;28;01mif\u001b[39;00m \u001b[38;5;28mself\u001b[39m\u001b[38;5;241m.\u001b[39mmultiple_results \u001b[38;5;28;01melse\u001b[39;00m full_lower(out)\n",
      "File \u001b[0;32m/data/master/DS211/users/tb1009/venv308/lib/python3.8/site-packages/jax/interpreters/partial_eval.py:209\u001b[0m, in \u001b[0;36mJaxprTrace.process_primitive\u001b[0;34m(self, primitive, tracers, params)\u001b[0m\n\u001b[1;32m    208\u001b[0m \u001b[38;5;28;01melse\u001b[39;00m:\n\u001b[0;32m--> 209\u001b[0m   \u001b[38;5;28;01mreturn\u001b[39;00m \u001b[38;5;28;43mself\u001b[39;49m\u001b[38;5;241;43m.\u001b[39;49m\u001b[43mdefault_process_primitive\u001b[49m\u001b[43m(\u001b[49m\u001b[43mprimitive\u001b[49m\u001b[43m,\u001b[49m\u001b[43m \u001b[49m\u001b[43mtracers\u001b[49m\u001b[43m,\u001b[49m\u001b[43m \u001b[49m\u001b[43mparams\u001b[49m\u001b[43m)\u001b[49m\n",
      "File \u001b[0;32m/data/master/DS211/users/tb1009/venv308/lib/python3.8/site-packages/jax/interpreters/partial_eval.py:220\u001b[0m, in \u001b[0;36mJaxprTrace.default_process_primitive\u001b[0;34m(self, primitive, tracers, params)\u001b[0m\n\u001b[1;32m    219\u001b[0m avals \u001b[38;5;241m=\u001b[39m [t\u001b[38;5;241m.\u001b[39maval \u001b[38;5;28;01mfor\u001b[39;00m t \u001b[38;5;129;01min\u001b[39;00m tracers]\n\u001b[0;32m--> 220\u001b[0m out_aval, effects \u001b[38;5;241m=\u001b[39m \u001b[43mprimitive\u001b[49m\u001b[38;5;241;43m.\u001b[39;49m\u001b[43mabstract_eval\u001b[49m\u001b[43m(\u001b[49m\u001b[38;5;241;43m*\u001b[39;49m\u001b[43mavals\u001b[49m\u001b[43m,\u001b[49m\u001b[43m \u001b[49m\u001b[38;5;241;43m*\u001b[39;49m\u001b[38;5;241;43m*\u001b[39;49m\u001b[43mparams\u001b[49m\u001b[43m)\u001b[49m\n\u001b[1;32m    221\u001b[0m name_stack \u001b[38;5;241m=\u001b[39m \u001b[38;5;28mself\u001b[39m\u001b[38;5;241m.\u001b[39m_current_truncated_name_stack()\n",
      "File \u001b[0;32m/data/master/DS211/users/tb1009/venv308/lib/python3.8/site-packages/jax/core.py:365\u001b[0m, in \u001b[0;36m_effect_free_abstract_eval.<locals>.abstract_eval_\u001b[0;34m(*args, **kwargs)\u001b[0m\n\u001b[1;32m    364\u001b[0m \u001b[38;5;28;01mdef\u001b[39;00m \u001b[38;5;21mabstract_eval_\u001b[39m(\u001b[38;5;241m*\u001b[39margs, \u001b[38;5;241m*\u001b[39m\u001b[38;5;241m*\u001b[39mkwargs):\n\u001b[0;32m--> 365\u001b[0m   \u001b[38;5;28;01mreturn\u001b[39;00m \u001b[43mabstract_eval\u001b[49m\u001b[43m(\u001b[49m\u001b[38;5;241;43m*\u001b[39;49m\u001b[43margs\u001b[49m\u001b[43m,\u001b[49m\u001b[43m \u001b[49m\u001b[38;5;241;43m*\u001b[39;49m\u001b[38;5;241;43m*\u001b[39;49m\u001b[43mkwargs\u001b[49m\u001b[43m)\u001b[49m, no_effects\n",
      "File \u001b[0;32m/data/master/DS211/users/tb1009/venv308/lib/python3.8/site-packages/jax/_src/lax/utils.py:66\u001b[0m, in \u001b[0;36mstandard_abstract_eval\u001b[0;34m(prim, shape_rule, dtype_rule, weak_type_rule, named_shape_rule, *avals, **kwargs)\u001b[0m\n\u001b[1;32m     65\u001b[0m \u001b[38;5;28;01melif\u001b[39;00m least_specialized \u001b[38;5;129;01mis\u001b[39;00m core\u001b[38;5;241m.\u001b[39mShapedArray:\n\u001b[0;32m---> 66\u001b[0m   \u001b[38;5;28;01mreturn\u001b[39;00m core\u001b[38;5;241m.\u001b[39mShapedArray(\u001b[43mshape_rule\u001b[49m\u001b[43m(\u001b[49m\u001b[38;5;241;43m*\u001b[39;49m\u001b[43mavals\u001b[49m\u001b[43m,\u001b[49m\u001b[43m \u001b[49m\u001b[38;5;241;43m*\u001b[39;49m\u001b[38;5;241;43m*\u001b[39;49m\u001b[43mkwargs\u001b[49m\u001b[43m)\u001b[49m,\n\u001b[1;32m     67\u001b[0m                           dtype_rule(\u001b[38;5;241m*\u001b[39mavals, \u001b[38;5;241m*\u001b[39m\u001b[38;5;241m*\u001b[39mkwargs), weak_type\u001b[38;5;241m=\u001b[39mweak_type,\n\u001b[1;32m     68\u001b[0m                           named_shape\u001b[38;5;241m=\u001b[39mnamed_shape_rule(\u001b[38;5;241m*\u001b[39mavals, \u001b[38;5;241m*\u001b[39m\u001b[38;5;241m*\u001b[39mkwargs))\n\u001b[1;32m     69\u001b[0m \u001b[38;5;28;01melif\u001b[39;00m least_specialized \u001b[38;5;129;01mis\u001b[39;00m core\u001b[38;5;241m.\u001b[39mDShapedArray:\n",
      "File \u001b[0;32m/data/master/DS211/users/tb1009/venv308/lib/python3.8/site-packages/jax/_src/lax/slicing.py:732\u001b[0m, in \u001b[0;36m_slice_shape_rule\u001b[0;34m(operand, start_indices, limit_indices, strides)\u001b[0m\n\u001b[1;32m    731\u001b[0m \u001b[38;5;28;01mdef\u001b[39;00m \u001b[38;5;21m_slice_shape_rule\u001b[39m(operand, \u001b[38;5;241m*\u001b[39m, start_indices, limit_indices, strides):\n\u001b[0;32m--> 732\u001b[0m   \u001b[43mlax\u001b[49m\u001b[38;5;241;43m.\u001b[39;49m\u001b[43m_check_shapelike\u001b[49m\u001b[43m(\u001b[49m\u001b[38;5;124;43m\"\u001b[39;49m\u001b[38;5;124;43mslice\u001b[39;49m\u001b[38;5;124;43m\"\u001b[39;49m\u001b[43m,\u001b[49m\u001b[43m \u001b[49m\u001b[38;5;124;43m\"\u001b[39;49m\u001b[38;5;124;43mstart_indices\u001b[39;49m\u001b[38;5;124;43m\"\u001b[39;49m\u001b[43m,\u001b[49m\u001b[43m \u001b[49m\u001b[43mstart_indices\u001b[49m\u001b[43m)\u001b[49m\n\u001b[1;32m    733\u001b[0m   lax\u001b[38;5;241m.\u001b[39m_check_shapelike(\u001b[38;5;124m\"\u001b[39m\u001b[38;5;124mslice\u001b[39m\u001b[38;5;124m\"\u001b[39m, \u001b[38;5;124m\"\u001b[39m\u001b[38;5;124mlimit_indices\u001b[39m\u001b[38;5;124m\"\u001b[39m, limit_indices)\n",
      "File \u001b[0;32m/data/master/DS211/users/tb1009/venv308/lib/python3.8/site-packages/jax/_src/lax/lax.py:4698\u001b[0m, in \u001b[0;36m_check_shapelike\u001b[0;34m(fun_name, arg_name, obj, non_zero_shape)\u001b[0m\n\u001b[1;32m   4697\u001b[0m \u001b[38;5;28;01mtry\u001b[39;00m:\n\u001b[0;32m-> 4698\u001b[0m   \u001b[43mcanonicalize_shape\u001b[49m\u001b[43m(\u001b[49m\u001b[43mobj_arr\u001b[49m\u001b[43m)\u001b[49m\n\u001b[1;32m   4699\u001b[0m \u001b[38;5;28;01mexcept\u001b[39;00m \u001b[38;5;167;01mTypeError\u001b[39;00m \u001b[38;5;28;01mas\u001b[39;00m err:\n",
      "File \u001b[0;32m/data/master/DS211/users/tb1009/venv308/lib/python3.8/site-packages/jax/core.py:1901\u001b[0m, in \u001b[0;36mcanonicalize_shape\u001b[0;34m(shape, context)\u001b[0m\n\u001b[1;32m   1900\u001b[0m \u001b[38;5;28;01mtry\u001b[39;00m:\n\u001b[0;32m-> 1901\u001b[0m   \u001b[38;5;28;01mreturn\u001b[39;00m \u001b[38;5;28;43mtuple\u001b[39;49m\u001b[43m(\u001b[49m\u001b[43munsafe_map\u001b[49m\u001b[43m(\u001b[49m\u001b[43m_canonicalize_dimension\u001b[49m\u001b[43m,\u001b[49m\u001b[43m \u001b[49m\u001b[43mshape\u001b[49m\u001b[43m)\u001b[49m\u001b[43m)\u001b[49m\n\u001b[1;32m   1902\u001b[0m \u001b[38;5;28;01mexcept\u001b[39;00m \u001b[38;5;167;01mTypeError\u001b[39;00m:\n",
      "\u001b[0;31mKeyboardInterrupt\u001b[0m: ",
      "\nDuring handling of the above exception, another exception occurred:\n",
      "\u001b[0;31mKeyboardInterrupt\u001b[0m                         Traceback (most recent call last)",
      "File \u001b[0;32m/data/master/DS211/users/tb1009/venv308/lib/python3.8/site-packages/IPython/core/interactiveshell.py:2052\u001b[0m, in \u001b[0;36mInteractiveShell.showtraceback\u001b[0;34m(self, exc_tuple, filename, tb_offset, exception_only, running_compiled_code)\u001b[0m\n\u001b[1;32m   2051\u001b[0m     \u001b[38;5;28;01melse\u001b[39;00m:\n\u001b[0;32m-> 2052\u001b[0m         stb \u001b[38;5;241m=\u001b[39m \u001b[38;5;28;43mself\u001b[39;49m\u001b[38;5;241;43m.\u001b[39;49m\u001b[43mInteractiveTB\u001b[49m\u001b[38;5;241;43m.\u001b[39;49m\u001b[43mstructured_traceback\u001b[49m\u001b[43m(\u001b[49m\n\u001b[1;32m   2053\u001b[0m \u001b[43m            \u001b[49m\u001b[43metype\u001b[49m\u001b[43m,\u001b[49m\u001b[43m \u001b[49m\u001b[43mvalue\u001b[49m\u001b[43m,\u001b[49m\u001b[43m \u001b[49m\u001b[43mtb\u001b[49m\u001b[43m,\u001b[49m\u001b[43m \u001b[49m\u001b[43mtb_offset\u001b[49m\u001b[38;5;241;43m=\u001b[39;49m\u001b[43mtb_offset\u001b[49m\n\u001b[1;32m   2054\u001b[0m \u001b[43m        \u001b[49m\u001b[43m)\u001b[49m\n\u001b[1;32m   2056\u001b[0m \u001b[38;5;28;01mexcept\u001b[39;00m \u001b[38;5;167;01mException\u001b[39;00m:\n",
      "File \u001b[0;32m/data/master/DS211/users/tb1009/venv308/lib/python3.8/site-packages/IPython/core/ultratb.py:1118\u001b[0m, in \u001b[0;36mAutoFormattedTB.structured_traceback\u001b[0;34m(self, etype, value, tb, tb_offset, number_of_lines_of_context)\u001b[0m\n\u001b[1;32m   1117\u001b[0m     \u001b[38;5;28mself\u001b[39m\u001b[38;5;241m.\u001b[39mtb \u001b[38;5;241m=\u001b[39m tb\n\u001b[0;32m-> 1118\u001b[0m \u001b[38;5;28;01mreturn\u001b[39;00m \u001b[43mFormattedTB\u001b[49m\u001b[38;5;241;43m.\u001b[39;49m\u001b[43mstructured_traceback\u001b[49m\u001b[43m(\u001b[49m\n\u001b[1;32m   1119\u001b[0m \u001b[43m    \u001b[49m\u001b[38;5;28;43mself\u001b[39;49m\u001b[43m,\u001b[49m\u001b[43m \u001b[49m\u001b[43metype\u001b[49m\u001b[43m,\u001b[49m\u001b[43m \u001b[49m\u001b[43mvalue\u001b[49m\u001b[43m,\u001b[49m\u001b[43m \u001b[49m\u001b[43mtb\u001b[49m\u001b[43m,\u001b[49m\u001b[43m \u001b[49m\u001b[43mtb_offset\u001b[49m\u001b[43m,\u001b[49m\u001b[43m \u001b[49m\u001b[43mnumber_of_lines_of_context\u001b[49m\u001b[43m)\u001b[49m\n",
      "File \u001b[0;32m/data/master/DS211/users/tb1009/venv308/lib/python3.8/site-packages/IPython/core/ultratb.py:1012\u001b[0m, in \u001b[0;36mFormattedTB.structured_traceback\u001b[0;34m(self, etype, value, tb, tb_offset, number_of_lines_of_context)\u001b[0m\n\u001b[1;32m   1010\u001b[0m \u001b[38;5;28;01mif\u001b[39;00m mode \u001b[38;5;129;01min\u001b[39;00m \u001b[38;5;28mself\u001b[39m\u001b[38;5;241m.\u001b[39mverbose_modes:\n\u001b[1;32m   1011\u001b[0m     \u001b[38;5;66;03m# Verbose modes need a full traceback\u001b[39;00m\n\u001b[0;32m-> 1012\u001b[0m     \u001b[38;5;28;01mreturn\u001b[39;00m \u001b[43mVerboseTB\u001b[49m\u001b[38;5;241;43m.\u001b[39;49m\u001b[43mstructured_traceback\u001b[49m\u001b[43m(\u001b[49m\n\u001b[1;32m   1013\u001b[0m \u001b[43m        \u001b[49m\u001b[38;5;28;43mself\u001b[39;49m\u001b[43m,\u001b[49m\u001b[43m \u001b[49m\u001b[43metype\u001b[49m\u001b[43m,\u001b[49m\u001b[43m \u001b[49m\u001b[43mvalue\u001b[49m\u001b[43m,\u001b[49m\u001b[43m \u001b[49m\u001b[43mtb\u001b[49m\u001b[43m,\u001b[49m\u001b[43m \u001b[49m\u001b[43mtb_offset\u001b[49m\u001b[43m,\u001b[49m\u001b[43m \u001b[49m\u001b[43mnumber_of_lines_of_context\u001b[49m\n\u001b[1;32m   1014\u001b[0m \u001b[43m    \u001b[49m\u001b[43m)\u001b[49m\n\u001b[1;32m   1015\u001b[0m \u001b[38;5;28;01melif\u001b[39;00m mode \u001b[38;5;241m==\u001b[39m \u001b[38;5;124m'\u001b[39m\u001b[38;5;124mMinimal\u001b[39m\u001b[38;5;124m'\u001b[39m:\n",
      "File \u001b[0;32m/data/master/DS211/users/tb1009/venv308/lib/python3.8/site-packages/IPython/core/ultratb.py:865\u001b[0m, in \u001b[0;36mVerboseTB.structured_traceback\u001b[0;34m(self, etype, evalue, etb, tb_offset, number_of_lines_of_context)\u001b[0m\n\u001b[1;32m    864\u001b[0m \u001b[38;5;124;03m\"\"\"Return a nice text document describing the traceback.\"\"\"\u001b[39;00m\n\u001b[0;32m--> 865\u001b[0m formatted_exception \u001b[38;5;241m=\u001b[39m \u001b[38;5;28;43mself\u001b[39;49m\u001b[38;5;241;43m.\u001b[39;49m\u001b[43mformat_exception_as_a_whole\u001b[49m\u001b[43m(\u001b[49m\u001b[43metype\u001b[49m\u001b[43m,\u001b[49m\u001b[43m \u001b[49m\u001b[43mevalue\u001b[49m\u001b[43m,\u001b[49m\u001b[43m \u001b[49m\u001b[43metb\u001b[49m\u001b[43m,\u001b[49m\u001b[43m \u001b[49m\u001b[43mnumber_of_lines_of_context\u001b[49m\u001b[43m,\u001b[49m\n\u001b[1;32m    866\u001b[0m \u001b[43m                                                       \u001b[49m\u001b[43mtb_offset\u001b[49m\u001b[43m)\u001b[49m\n\u001b[1;32m    868\u001b[0m colors \u001b[38;5;241m=\u001b[39m \u001b[38;5;28mself\u001b[39m\u001b[38;5;241m.\u001b[39mColors  \u001b[38;5;66;03m# just a shorthand + quicker name lookup\u001b[39;00m\n",
      "File \u001b[0;32m/data/master/DS211/users/tb1009/venv308/lib/python3.8/site-packages/IPython/core/ultratb.py:799\u001b[0m, in \u001b[0;36mVerboseTB.format_exception_as_a_whole\u001b[0;34m(self, etype, evalue, etb, number_of_lines_of_context, tb_offset)\u001b[0m\n\u001b[1;32m    797\u001b[0m head \u001b[38;5;241m=\u001b[39m \u001b[38;5;28mself\u001b[39m\u001b[38;5;241m.\u001b[39mprepare_header(etype, \u001b[38;5;28mself\u001b[39m\u001b[38;5;241m.\u001b[39mlong_header)\n\u001b[1;32m    798\u001b[0m records \u001b[38;5;241m=\u001b[39m (\n\u001b[0;32m--> 799\u001b[0m     \u001b[38;5;28;43mself\u001b[39;49m\u001b[38;5;241;43m.\u001b[39;49m\u001b[43mget_records\u001b[49m\u001b[43m(\u001b[49m\u001b[43metb\u001b[49m\u001b[43m,\u001b[49m\u001b[43m \u001b[49m\u001b[43mnumber_of_lines_of_context\u001b[49m\u001b[43m,\u001b[49m\u001b[43m \u001b[49m\u001b[43mtb_offset\u001b[49m\u001b[43m)\u001b[49m \u001b[38;5;28;01mif\u001b[39;00m etb \u001b[38;5;28;01melse\u001b[39;00m []\n\u001b[1;32m    800\u001b[0m )\n\u001b[1;32m    802\u001b[0m frames \u001b[38;5;241m=\u001b[39m []\n",
      "File \u001b[0;32m/data/master/DS211/users/tb1009/venv308/lib/python3.8/site-packages/IPython/core/ultratb.py:854\u001b[0m, in \u001b[0;36mVerboseTB.get_records\u001b[0;34m(self, etb, number_of_lines_of_context, tb_offset)\u001b[0m\n\u001b[1;32m    849\u001b[0m options \u001b[38;5;241m=\u001b[39m stack_data\u001b[38;5;241m.\u001b[39mOptions(\n\u001b[1;32m    850\u001b[0m     before\u001b[38;5;241m=\u001b[39mbefore,\n\u001b[1;32m    851\u001b[0m     after\u001b[38;5;241m=\u001b[39mafter,\n\u001b[1;32m    852\u001b[0m     pygments_formatter\u001b[38;5;241m=\u001b[39mformatter,\n\u001b[1;32m    853\u001b[0m )\n\u001b[0;32m--> 854\u001b[0m \u001b[38;5;28;01mreturn\u001b[39;00m \u001b[38;5;28;43mlist\u001b[39;49m\u001b[43m(\u001b[49m\u001b[43mstack_data\u001b[49m\u001b[38;5;241;43m.\u001b[39;49m\u001b[43mFrameInfo\u001b[49m\u001b[38;5;241;43m.\u001b[39;49m\u001b[43mstack_data\u001b[49m\u001b[43m(\u001b[49m\u001b[43metb\u001b[49m\u001b[43m,\u001b[49m\u001b[43m \u001b[49m\u001b[43moptions\u001b[49m\u001b[38;5;241;43m=\u001b[39;49m\u001b[43moptions\u001b[49m\u001b[43m)\u001b[49m\u001b[43m)\u001b[49m[tb_offset:]\n",
      "File \u001b[0;32m/data/master/DS211/users/tb1009/venv308/lib/python3.8/site-packages/stack_data/core.py:597\u001b[0m, in \u001b[0;36mFrameInfo.stack_data\u001b[0;34m(cls, frame_or_tb, options, collapse_repeated_frames)\u001b[0m\n\u001b[1;32m    595\u001b[0m     \u001b[38;5;28;01mreturn\u001b[39;00m frame\u001b[38;5;241m.\u001b[39mf_code, lineno\n\u001b[0;32m--> 597\u001b[0m \u001b[38;5;28;01myield from\u001b[39;00m collapse_repeated(\n\u001b[1;32m    598\u001b[0m     stack,\n\u001b[1;32m    599\u001b[0m     mapper\u001b[38;5;241m=\u001b[39mmapper,\n\u001b[1;32m    600\u001b[0m     collapser\u001b[38;5;241m=\u001b[39mRepeatedFrames,\n\u001b[1;32m    601\u001b[0m     key\u001b[38;5;241m=\u001b[39m_frame_key,\n\u001b[1;32m    602\u001b[0m )\n",
      "File \u001b[0;32m/data/master/DS211/users/tb1009/venv308/lib/python3.8/site-packages/stack_data/utils.py:83\u001b[0m, in \u001b[0;36mcollapse_repeated\u001b[0;34m(lst, collapser, mapper, key)\u001b[0m\n\u001b[1;32m     82\u001b[0m \u001b[38;5;28;01mif\u001b[39;00m is_highlighted:\n\u001b[0;32m---> 83\u001b[0m     \u001b[38;5;28;01myield from\u001b[39;00m \u001b[38;5;28mmap\u001b[39m(mapper, original_group)\n\u001b[1;32m     84\u001b[0m \u001b[38;5;28;01melse\u001b[39;00m:\n",
      "File \u001b[0;32m/data/master/DS211/users/tb1009/venv308/lib/python3.8/site-packages/stack_data/core.py:587\u001b[0m, in \u001b[0;36mFrameInfo.stack_data.<locals>.mapper\u001b[0;34m(f)\u001b[0m\n\u001b[1;32m    586\u001b[0m \u001b[38;5;28;01mdef\u001b[39;00m \u001b[38;5;21mmapper\u001b[39m(f):\n\u001b[0;32m--> 587\u001b[0m     \u001b[38;5;28;01mreturn\u001b[39;00m \u001b[38;5;28;43mcls\u001b[39;49m\u001b[43m(\u001b[49m\u001b[43mf\u001b[49m\u001b[43m,\u001b[49m\u001b[43m \u001b[49m\u001b[43moptions\u001b[49m\u001b[43m)\u001b[49m\n",
      "File \u001b[0;32m/data/master/DS211/users/tb1009/venv308/lib/python3.8/site-packages/stack_data/core.py:551\u001b[0m, in \u001b[0;36mFrameInfo.__init__\u001b[0;34m(self, frame_or_tb, options)\u001b[0m\n\u001b[1;32m    546\u001b[0m \u001b[38;5;28;01mdef\u001b[39;00m \u001b[38;5;21m__init__\u001b[39m(\n\u001b[1;32m    547\u001b[0m         \u001b[38;5;28mself\u001b[39m,\n\u001b[1;32m    548\u001b[0m         frame_or_tb: Union[FrameType, TracebackType],\n\u001b[1;32m    549\u001b[0m         options: Optional[Options] \u001b[38;5;241m=\u001b[39m \u001b[38;5;28;01mNone\u001b[39;00m,\n\u001b[1;32m    550\u001b[0m ):\n\u001b[0;32m--> 551\u001b[0m     \u001b[38;5;28mself\u001b[39m\u001b[38;5;241m.\u001b[39mexecuting \u001b[38;5;241m=\u001b[39m \u001b[43mSource\u001b[49m\u001b[38;5;241;43m.\u001b[39;49m\u001b[43mexecuting\u001b[49m\u001b[43m(\u001b[49m\u001b[43mframe_or_tb\u001b[49m\u001b[43m)\u001b[49m\n\u001b[1;32m    552\u001b[0m     frame, \u001b[38;5;28mself\u001b[39m\u001b[38;5;241m.\u001b[39mlineno \u001b[38;5;241m=\u001b[39m frame_and_lineno(frame_or_tb)\n",
      "File \u001b[0;32m/data/master/DS211/users/tb1009/venv308/lib/python3.8/site-packages/executing/executing.py:359\u001b[0m, in \u001b[0;36mSource.executing\u001b[0;34m(cls, frame_or_tb)\u001b[0m\n\u001b[1;32m    358\u001b[0m node \u001b[38;5;241m=\u001b[39m stmts \u001b[38;5;241m=\u001b[39m decorator \u001b[38;5;241m=\u001b[39m \u001b[38;5;28;01mNone\u001b[39;00m\n\u001b[0;32m--> 359\u001b[0m source \u001b[38;5;241m=\u001b[39m \u001b[38;5;28;43mcls\u001b[39;49m\u001b[38;5;241;43m.\u001b[39;49m\u001b[43mfor_frame\u001b[49m\u001b[43m(\u001b[49m\u001b[43mframe\u001b[49m\u001b[43m)\u001b[49m\n\u001b[1;32m    360\u001b[0m tree \u001b[38;5;241m=\u001b[39m source\u001b[38;5;241m.\u001b[39mtree\n",
      "File \u001b[0;32m/data/master/DS211/users/tb1009/venv308/lib/python3.8/site-packages/executing/executing.py:277\u001b[0m, in \u001b[0;36mSource.for_frame\u001b[0;34m(cls, frame, use_cache)\u001b[0m\n\u001b[1;32m    274\u001b[0m \u001b[38;5;124;03m\"\"\"\u001b[39;00m\n\u001b[1;32m    275\u001b[0m \u001b[38;5;124;03mReturns the `Source` object corresponding to the file the frame is executing in.\u001b[39;00m\n\u001b[1;32m    276\u001b[0m \u001b[38;5;124;03m\"\"\"\u001b[39;00m\n\u001b[0;32m--> 277\u001b[0m \u001b[38;5;28;01mreturn\u001b[39;00m \u001b[38;5;28;43mcls\u001b[39;49m\u001b[38;5;241;43m.\u001b[39;49m\u001b[43mfor_filename\u001b[49m\u001b[43m(\u001b[49m\u001b[43mframe\u001b[49m\u001b[38;5;241;43m.\u001b[39;49m\u001b[43mf_code\u001b[49m\u001b[38;5;241;43m.\u001b[39;49m\u001b[43mco_filename\u001b[49m\u001b[43m,\u001b[49m\u001b[43m \u001b[49m\u001b[43mframe\u001b[49m\u001b[38;5;241;43m.\u001b[39;49m\u001b[43mf_globals\u001b[49m\u001b[43m \u001b[49m\u001b[38;5;129;43;01mor\u001b[39;49;00m\u001b[43m \u001b[49m\u001b[43m{\u001b[49m\u001b[43m}\u001b[49m\u001b[43m,\u001b[49m\u001b[43m \u001b[49m\u001b[43muse_cache\u001b[49m\u001b[43m)\u001b[49m\n",
      "File \u001b[0;32m/data/master/DS211/users/tb1009/venv308/lib/python3.8/site-packages/executing/executing.py:297\u001b[0m, in \u001b[0;36mSource.for_filename\u001b[0;34m(cls, filename, module_globals, use_cache)\u001b[0m\n\u001b[1;32m    296\u001b[0m linecache\u001b[38;5;241m.\u001b[39mcheckcache(filename)\n\u001b[0;32m--> 297\u001b[0m lines \u001b[38;5;241m=\u001b[39m \u001b[43mget_lines\u001b[49m\u001b[43m(\u001b[49m\u001b[43m)\u001b[49m\n\u001b[1;32m    298\u001b[0m \u001b[38;5;28;01mif\u001b[39;00m entry \u001b[38;5;129;01mis\u001b[39;00m \u001b[38;5;129;01mnot\u001b[39;00m \u001b[38;5;28;01mNone\u001b[39;00m \u001b[38;5;129;01mand\u001b[39;00m \u001b[38;5;129;01mnot\u001b[39;00m lines:\n\u001b[1;32m    299\u001b[0m     \u001b[38;5;66;03m# There was an entry, checkcache removed it, and nothing replaced it.\u001b[39;00m\n\u001b[1;32m    300\u001b[0m     \u001b[38;5;66;03m# This means the file wasn't simply changed (because the `lines` wouldn't be empty)\u001b[39;00m\n\u001b[1;32m    301\u001b[0m     \u001b[38;5;66;03m# but rather the file was found not to exist, probably because `filename` was fake.\u001b[39;00m\n\u001b[1;32m    302\u001b[0m     \u001b[38;5;66;03m# Restore the original entry so that we still have something.\u001b[39;00m\n",
      "File \u001b[0;32m/data/master/DS211/users/tb1009/venv308/lib/python3.8/site-packages/executing/executing.py:292\u001b[0m, in \u001b[0;36mSource.for_filename.<locals>.get_lines\u001b[0;34m()\u001b[0m\n\u001b[1;32m    290\u001b[0m \u001b[38;5;28;01mdef\u001b[39;00m \u001b[38;5;21mget_lines\u001b[39m():\n\u001b[1;32m    291\u001b[0m     \u001b[38;5;66;03m# type: () -> List[str]\u001b[39;00m\n\u001b[0;32m--> 292\u001b[0m     \u001b[38;5;28;01mreturn\u001b[39;00m \u001b[43mlinecache\u001b[49m\u001b[38;5;241;43m.\u001b[39;49m\u001b[43mgetlines\u001b[49m\u001b[43m(\u001b[49m\u001b[43mcast\u001b[49m\u001b[43m(\u001b[49m\u001b[43mtext_type\u001b[49m\u001b[43m,\u001b[49m\u001b[43m \u001b[49m\u001b[43mfilename\u001b[49m\u001b[43m)\u001b[49m\u001b[43m,\u001b[49m\u001b[43m \u001b[49m\u001b[43mmodule_globals\u001b[49m\u001b[43m)\u001b[49m\n",
      "File \u001b[0;32m/usr/lib/python3.8/linecache.py:47\u001b[0m, in \u001b[0;36mgetlines\u001b[0;34m(filename, module_globals)\u001b[0m\n\u001b[1;32m     46\u001b[0m \u001b[38;5;28;01mtry\u001b[39;00m:\n\u001b[0;32m---> 47\u001b[0m     \u001b[38;5;28;01mreturn\u001b[39;00m \u001b[43mupdatecache\u001b[49m\u001b[43m(\u001b[49m\u001b[43mfilename\u001b[49m\u001b[43m,\u001b[49m\u001b[43m \u001b[49m\u001b[43mmodule_globals\u001b[49m\u001b[43m)\u001b[49m\n\u001b[1;32m     48\u001b[0m \u001b[38;5;28;01mexcept\u001b[39;00m \u001b[38;5;167;01mMemoryError\u001b[39;00m:\n",
      "File \u001b[0;32m/usr/lib/python3.8/linecache.py:136\u001b[0m, in \u001b[0;36mupdatecache\u001b[0;34m(filename, module_globals)\u001b[0m\n\u001b[1;32m    135\u001b[0m \u001b[38;5;28;01mtry\u001b[39;00m:\n\u001b[0;32m--> 136\u001b[0m     \u001b[38;5;28;01mwith\u001b[39;00m \u001b[43mtokenize\u001b[49m\u001b[38;5;241;43m.\u001b[39;49m\u001b[43mopen\u001b[49m\u001b[43m(\u001b[49m\u001b[43mfullname\u001b[49m\u001b[43m)\u001b[49m \u001b[38;5;28;01mas\u001b[39;00m fp:\n\u001b[1;32m    137\u001b[0m         lines \u001b[38;5;241m=\u001b[39m fp\u001b[38;5;241m.\u001b[39mreadlines()\n",
      "File \u001b[0;32m/usr/lib/python3.8/tokenize.py:394\u001b[0m, in \u001b[0;36mopen\u001b[0;34m(filename)\u001b[0m\n\u001b[1;32m    393\u001b[0m \u001b[38;5;28;01mtry\u001b[39;00m:\n\u001b[0;32m--> 394\u001b[0m     encoding, lines \u001b[38;5;241m=\u001b[39m \u001b[43mdetect_encoding\u001b[49m\u001b[43m(\u001b[49m\u001b[43mbuffer\u001b[49m\u001b[38;5;241;43m.\u001b[39;49m\u001b[43mreadline\u001b[49m\u001b[43m)\u001b[49m\n\u001b[1;32m    395\u001b[0m     buffer\u001b[38;5;241m.\u001b[39mseek(\u001b[38;5;241m0\u001b[39m)\n",
      "File \u001b[0;32m/usr/lib/python3.8/tokenize.py:363\u001b[0m, in \u001b[0;36mdetect_encoding\u001b[0;34m(readline)\u001b[0m\n\u001b[1;32m    361\u001b[0m     \u001b[38;5;28;01mreturn\u001b[39;00m encoding\n\u001b[0;32m--> 363\u001b[0m first \u001b[38;5;241m=\u001b[39m \u001b[43mread_or_stop\u001b[49m\u001b[43m(\u001b[49m\u001b[43m)\u001b[49m\n\u001b[1;32m    364\u001b[0m \u001b[38;5;28;01mif\u001b[39;00m first\u001b[38;5;241m.\u001b[39mstartswith(BOM_UTF8):\n",
      "File \u001b[0;32m/usr/lib/python3.8/tokenize.py:321\u001b[0m, in \u001b[0;36mdetect_encoding.<locals>.read_or_stop\u001b[0;34m()\u001b[0m\n\u001b[1;32m    320\u001b[0m \u001b[38;5;28;01mtry\u001b[39;00m:\n\u001b[0;32m--> 321\u001b[0m     \u001b[38;5;28;01mreturn\u001b[39;00m \u001b[43mreadline\u001b[49m\u001b[43m(\u001b[49m\u001b[43m)\u001b[49m\n\u001b[1;32m    322\u001b[0m \u001b[38;5;28;01mexcept\u001b[39;00m \u001b[38;5;167;01mStopIteration\u001b[39;00m:\n",
      "\u001b[0;31mKeyboardInterrupt\u001b[0m: ",
      "\nDuring handling of the above exception, another exception occurred:\n",
      "\u001b[0;31mKeyboardInterrupt\u001b[0m                         Traceback (most recent call last)",
      "    \u001b[0;31m[... skipping hidden 1 frame]\u001b[0m\n",
      "File \u001b[0;32m/data/master/DS211/users/tb1009/venv308/lib/python3.8/site-packages/IPython/core/interactiveshell.py:2073\u001b[0m, in \u001b[0;36mInteractiveShell.showtraceback\u001b[0;34m(self, exc_tuple, filename, tb_offset, exception_only, running_compiled_code)\u001b[0m\n\u001b[1;32m   2070\u001b[0m         \u001b[38;5;28mself\u001b[39m\u001b[38;5;241m.\u001b[39m_showtraceback(etype, value, stb)\n\u001b[1;32m   2072\u001b[0m \u001b[38;5;28;01mexcept\u001b[39;00m \u001b[38;5;167;01mKeyboardInterrupt\u001b[39;00m:\n\u001b[0;32m-> 2073\u001b[0m     \u001b[38;5;28mprint\u001b[39m(\u001b[38;5;124m'\u001b[39m\u001b[38;5;130;01m\\n\u001b[39;00m\u001b[38;5;124m'\u001b[39m \u001b[38;5;241m+\u001b[39m \u001b[38;5;28;43mself\u001b[39;49m\u001b[38;5;241;43m.\u001b[39;49m\u001b[43mget_exception_only\u001b[49m\u001b[43m(\u001b[49m\u001b[43m)\u001b[49m, file\u001b[38;5;241m=\u001b[39msys\u001b[38;5;241m.\u001b[39mstderr)\n",
      "File \u001b[0;32m/data/master/DS211/users/tb1009/venv308/lib/python3.8/site-packages/IPython/core/interactiveshell.py:2009\u001b[0m, in \u001b[0;36mInteractiveShell.get_exception_only\u001b[0;34m(self, exc_tuple)\u001b[0m\n\u001b[1;32m   2004\u001b[0m \u001b[38;5;124;03m\"\"\"\u001b[39;00m\n\u001b[1;32m   2005\u001b[0m \u001b[38;5;124;03mReturn as a string (ending with a newline) the exception that\u001b[39;00m\n\u001b[1;32m   2006\u001b[0m \u001b[38;5;124;03mjust occurred, without any traceback.\u001b[39;00m\n\u001b[1;32m   2007\u001b[0m \u001b[38;5;124;03m\"\"\"\u001b[39;00m\n\u001b[1;32m   2008\u001b[0m etype, value, tb \u001b[38;5;241m=\u001b[39m \u001b[38;5;28mself\u001b[39m\u001b[38;5;241m.\u001b[39m_get_exc_info(exc_tuple)\n\u001b[0;32m-> 2009\u001b[0m msg \u001b[38;5;241m=\u001b[39m \u001b[43mtraceback\u001b[49m\u001b[38;5;241;43m.\u001b[39;49m\u001b[43mformat_exception_only\u001b[49m\u001b[43m(\u001b[49m\u001b[43metype\u001b[49m\u001b[43m,\u001b[49m\u001b[43m \u001b[49m\u001b[43mvalue\u001b[49m\u001b[43m)\u001b[49m\n\u001b[1;32m   2010\u001b[0m \u001b[38;5;28;01mreturn\u001b[39;00m \u001b[38;5;124m'\u001b[39m\u001b[38;5;124m'\u001b[39m\u001b[38;5;241m.\u001b[39mjoin(msg)\n",
      "File \u001b[0;32m/usr/lib/python3.8/traceback.py:140\u001b[0m, in \u001b[0;36mformat_exception_only\u001b[0;34m(etype, value)\u001b[0m\n\u001b[1;32m    124\u001b[0m \u001b[38;5;28;01mdef\u001b[39;00m \u001b[38;5;21mformat_exception_only\u001b[39m(etype, value):\n\u001b[1;32m    125\u001b[0m     \u001b[38;5;124;03m\"\"\"Format the exception part of a traceback.\u001b[39;00m\n\u001b[1;32m    126\u001b[0m \n\u001b[1;32m    127\u001b[0m \u001b[38;5;124;03m    The arguments are the exception type and value such as given by\u001b[39;00m\n\u001b[0;32m   (...)\u001b[0m\n\u001b[1;32m    138\u001b[0m \n\u001b[1;32m    139\u001b[0m \u001b[38;5;124;03m    \"\"\"\u001b[39;00m\n\u001b[0;32m--> 140\u001b[0m     \u001b[38;5;28;01mreturn\u001b[39;00m \u001b[38;5;28mlist\u001b[39m(\u001b[43mTracebackException\u001b[49m\u001b[43m(\u001b[49m\u001b[43metype\u001b[49m\u001b[43m,\u001b[49m\u001b[43m \u001b[49m\u001b[43mvalue\u001b[49m\u001b[43m,\u001b[49m\u001b[43m \u001b[49m\u001b[38;5;28;43;01mNone\u001b[39;49;00m\u001b[43m)\u001b[49m\u001b[38;5;241m.\u001b[39mformat_exception_only())\n",
      "File \u001b[0;32m/usr/lib/python3.8/traceback.py:524\u001b[0m, in \u001b[0;36mTracebackException.__init__\u001b[0;34m(self, exc_type, exc_value, exc_traceback, limit, lookup_lines, capture_locals, _seen)\u001b[0m\n\u001b[1;32m    522\u001b[0m     \u001b[38;5;28mself\u001b[39m\u001b[38;5;241m.\u001b[39mmsg \u001b[38;5;241m=\u001b[39m exc_value\u001b[38;5;241m.\u001b[39mmsg\n\u001b[1;32m    523\u001b[0m \u001b[38;5;28;01mif\u001b[39;00m lookup_lines:\n\u001b[0;32m--> 524\u001b[0m     \u001b[38;5;28;43mself\u001b[39;49m\u001b[38;5;241;43m.\u001b[39;49m\u001b[43m_load_lines\u001b[49m\u001b[43m(\u001b[49m\u001b[43m)\u001b[49m\n",
      "File \u001b[0;32m/usr/lib/python3.8/traceback.py:536\u001b[0m, in \u001b[0;36mTracebackException._load_lines\u001b[0;34m(self)\u001b[0m\n\u001b[1;32m    534\u001b[0m     frame\u001b[38;5;241m.\u001b[39mline\n\u001b[1;32m    535\u001b[0m \u001b[38;5;28;01mif\u001b[39;00m \u001b[38;5;28mself\u001b[39m\u001b[38;5;241m.\u001b[39m__context__:\n\u001b[0;32m--> 536\u001b[0m     \u001b[38;5;28;43mself\u001b[39;49m\u001b[38;5;241;43m.\u001b[39;49m\u001b[43m__context__\u001b[49m\u001b[38;5;241;43m.\u001b[39;49m\u001b[43m_load_lines\u001b[49m\u001b[43m(\u001b[49m\u001b[43m)\u001b[49m\n\u001b[1;32m    537\u001b[0m \u001b[38;5;28;01mif\u001b[39;00m \u001b[38;5;28mself\u001b[39m\u001b[38;5;241m.\u001b[39m__cause__:\n\u001b[1;32m    538\u001b[0m     \u001b[38;5;28mself\u001b[39m\u001b[38;5;241m.\u001b[39m__cause__\u001b[38;5;241m.\u001b[39m_load_lines()\n",
      "File \u001b[0;32m/usr/lib/python3.8/traceback.py:534\u001b[0m, in \u001b[0;36mTracebackException._load_lines\u001b[0;34m(self)\u001b[0m\n\u001b[1;32m    532\u001b[0m \u001b[38;5;124;03m\"\"\"Private API. force all lines in the stack to be loaded.\"\"\"\u001b[39;00m\n\u001b[1;32m    533\u001b[0m \u001b[38;5;28;01mfor\u001b[39;00m frame \u001b[38;5;129;01min\u001b[39;00m \u001b[38;5;28mself\u001b[39m\u001b[38;5;241m.\u001b[39mstack:\n\u001b[0;32m--> 534\u001b[0m     \u001b[43mframe\u001b[49m\u001b[38;5;241;43m.\u001b[39;49m\u001b[43mline\u001b[49m\n\u001b[1;32m    535\u001b[0m \u001b[38;5;28;01mif\u001b[39;00m \u001b[38;5;28mself\u001b[39m\u001b[38;5;241m.\u001b[39m__context__:\n\u001b[1;32m    536\u001b[0m     \u001b[38;5;28mself\u001b[39m\u001b[38;5;241m.\u001b[39m__context__\u001b[38;5;241m.\u001b[39m_load_lines()\n",
      "File \u001b[0;32m/usr/lib/python3.8/traceback.py:288\u001b[0m, in \u001b[0;36mFrameSummary.line\u001b[0;34m(self)\u001b[0m\n\u001b[1;32m    285\u001b[0m \u001b[38;5;129m@property\u001b[39m\n\u001b[1;32m    286\u001b[0m \u001b[38;5;28;01mdef\u001b[39;00m \u001b[38;5;21mline\u001b[39m(\u001b[38;5;28mself\u001b[39m):\n\u001b[1;32m    287\u001b[0m     \u001b[38;5;28;01mif\u001b[39;00m \u001b[38;5;28mself\u001b[39m\u001b[38;5;241m.\u001b[39m_line \u001b[38;5;129;01mis\u001b[39;00m \u001b[38;5;28;01mNone\u001b[39;00m:\n\u001b[0;32m--> 288\u001b[0m         \u001b[38;5;28mself\u001b[39m\u001b[38;5;241m.\u001b[39m_line \u001b[38;5;241m=\u001b[39m \u001b[43mlinecache\u001b[49m\u001b[38;5;241;43m.\u001b[39;49m\u001b[43mgetline\u001b[49m\u001b[43m(\u001b[49m\u001b[38;5;28;43mself\u001b[39;49m\u001b[38;5;241;43m.\u001b[39;49m\u001b[43mfilename\u001b[49m\u001b[43m,\u001b[49m\u001b[43m \u001b[49m\u001b[38;5;28;43mself\u001b[39;49m\u001b[38;5;241;43m.\u001b[39;49m\u001b[43mlineno\u001b[49m\u001b[43m)\u001b[49m\u001b[38;5;241m.\u001b[39mstrip()\n\u001b[1;32m    289\u001b[0m     \u001b[38;5;28;01mreturn\u001b[39;00m \u001b[38;5;28mself\u001b[39m\u001b[38;5;241m.\u001b[39m_line\n",
      "File \u001b[0;32m/usr/lib/python3.8/linecache.py:16\u001b[0m, in \u001b[0;36mgetline\u001b[0;34m(filename, lineno, module_globals)\u001b[0m\n\u001b[1;32m     15\u001b[0m \u001b[38;5;28;01mdef\u001b[39;00m \u001b[38;5;21mgetline\u001b[39m(filename, lineno, module_globals\u001b[38;5;241m=\u001b[39m\u001b[38;5;28;01mNone\u001b[39;00m):\n\u001b[0;32m---> 16\u001b[0m     lines \u001b[38;5;241m=\u001b[39m \u001b[43mgetlines\u001b[49m\u001b[43m(\u001b[49m\u001b[43mfilename\u001b[49m\u001b[43m,\u001b[49m\u001b[43m \u001b[49m\u001b[43mmodule_globals\u001b[49m\u001b[43m)\u001b[49m\n\u001b[1;32m     17\u001b[0m     \u001b[38;5;28;01mif\u001b[39;00m \u001b[38;5;241m1\u001b[39m \u001b[38;5;241m<\u001b[39m\u001b[38;5;241m=\u001b[39m lineno \u001b[38;5;241m<\u001b[39m\u001b[38;5;241m=\u001b[39m \u001b[38;5;28mlen\u001b[39m(lines):\n\u001b[1;32m     18\u001b[0m         \u001b[38;5;28;01mreturn\u001b[39;00m lines[lineno\u001b[38;5;241m-\u001b[39m\u001b[38;5;241m1\u001b[39m]\n",
      "File \u001b[0;32m/usr/lib/python3.8/linecache.py:47\u001b[0m, in \u001b[0;36mgetlines\u001b[0;34m(filename, module_globals)\u001b[0m\n\u001b[1;32m     44\u001b[0m         \u001b[38;5;28;01mreturn\u001b[39;00m cache[filename][\u001b[38;5;241m2\u001b[39m]\n\u001b[1;32m     46\u001b[0m \u001b[38;5;28;01mtry\u001b[39;00m:\n\u001b[0;32m---> 47\u001b[0m     \u001b[38;5;28;01mreturn\u001b[39;00m \u001b[43mupdatecache\u001b[49m\u001b[43m(\u001b[49m\u001b[43mfilename\u001b[49m\u001b[43m,\u001b[49m\u001b[43m \u001b[49m\u001b[43mmodule_globals\u001b[49m\u001b[43m)\u001b[49m\n\u001b[1;32m     48\u001b[0m \u001b[38;5;28;01mexcept\u001b[39;00m \u001b[38;5;167;01mMemoryError\u001b[39;00m:\n\u001b[1;32m     49\u001b[0m     clearcache()\n",
      "File \u001b[0;32m/usr/lib/python3.8/linecache.py:136\u001b[0m, in \u001b[0;36mupdatecache\u001b[0;34m(filename, module_globals)\u001b[0m\n\u001b[1;32m    134\u001b[0m         \u001b[38;5;28;01mreturn\u001b[39;00m []\n\u001b[1;32m    135\u001b[0m \u001b[38;5;28;01mtry\u001b[39;00m:\n\u001b[0;32m--> 136\u001b[0m     \u001b[38;5;28;01mwith\u001b[39;00m \u001b[43mtokenize\u001b[49m\u001b[38;5;241;43m.\u001b[39;49m\u001b[43mopen\u001b[49m\u001b[43m(\u001b[49m\u001b[43mfullname\u001b[49m\u001b[43m)\u001b[49m \u001b[38;5;28;01mas\u001b[39;00m fp:\n\u001b[1;32m    137\u001b[0m         lines \u001b[38;5;241m=\u001b[39m fp\u001b[38;5;241m.\u001b[39mreadlines()\n\u001b[1;32m    138\u001b[0m \u001b[38;5;28;01mexcept\u001b[39;00m \u001b[38;5;167;01mOSError\u001b[39;00m:\n",
      "File \u001b[0;32m/usr/lib/python3.8/tokenize.py:394\u001b[0m, in \u001b[0;36mopen\u001b[0;34m(filename)\u001b[0m\n\u001b[1;32m    392\u001b[0m buffer \u001b[38;5;241m=\u001b[39m _builtin_open(filename, \u001b[38;5;124m'\u001b[39m\u001b[38;5;124mrb\u001b[39m\u001b[38;5;124m'\u001b[39m)\n\u001b[1;32m    393\u001b[0m \u001b[38;5;28;01mtry\u001b[39;00m:\n\u001b[0;32m--> 394\u001b[0m     encoding, lines \u001b[38;5;241m=\u001b[39m \u001b[43mdetect_encoding\u001b[49m\u001b[43m(\u001b[49m\u001b[43mbuffer\u001b[49m\u001b[38;5;241;43m.\u001b[39;49m\u001b[43mreadline\u001b[49m\u001b[43m)\u001b[49m\n\u001b[1;32m    395\u001b[0m     buffer\u001b[38;5;241m.\u001b[39mseek(\u001b[38;5;241m0\u001b[39m)\n\u001b[1;32m    396\u001b[0m     text \u001b[38;5;241m=\u001b[39m TextIOWrapper(buffer, encoding, line_buffering\u001b[38;5;241m=\u001b[39m\u001b[38;5;28;01mTrue\u001b[39;00m)\n",
      "File \u001b[0;32m/usr/lib/python3.8/tokenize.py:363\u001b[0m, in \u001b[0;36mdetect_encoding\u001b[0;34m(readline)\u001b[0m\n\u001b[1;32m    360\u001b[0m         encoding \u001b[38;5;241m+\u001b[39m\u001b[38;5;241m=\u001b[39m \u001b[38;5;124m'\u001b[39m\u001b[38;5;124m-sig\u001b[39m\u001b[38;5;124m'\u001b[39m\n\u001b[1;32m    361\u001b[0m     \u001b[38;5;28;01mreturn\u001b[39;00m encoding\n\u001b[0;32m--> 363\u001b[0m first \u001b[38;5;241m=\u001b[39m \u001b[43mread_or_stop\u001b[49m\u001b[43m(\u001b[49m\u001b[43m)\u001b[49m\n\u001b[1;32m    364\u001b[0m \u001b[38;5;28;01mif\u001b[39;00m first\u001b[38;5;241m.\u001b[39mstartswith(BOM_UTF8):\n\u001b[1;32m    365\u001b[0m     bom_found \u001b[38;5;241m=\u001b[39m \u001b[38;5;28;01mTrue\u001b[39;00m\n",
      "File \u001b[0;32m/usr/lib/python3.8/tokenize.py:321\u001b[0m, in \u001b[0;36mdetect_encoding.<locals>.read_or_stop\u001b[0;34m()\u001b[0m\n\u001b[1;32m    319\u001b[0m \u001b[38;5;28;01mdef\u001b[39;00m \u001b[38;5;21mread_or_stop\u001b[39m():\n\u001b[1;32m    320\u001b[0m     \u001b[38;5;28;01mtry\u001b[39;00m:\n\u001b[0;32m--> 321\u001b[0m         \u001b[38;5;28;01mreturn\u001b[39;00m \u001b[43mreadline\u001b[49m\u001b[43m(\u001b[49m\u001b[43m)\u001b[49m\n\u001b[1;32m    322\u001b[0m     \u001b[38;5;28;01mexcept\u001b[39;00m \u001b[38;5;167;01mStopIteration\u001b[39;00m:\n\u001b[1;32m    323\u001b[0m         \u001b[38;5;28;01mreturn\u001b[39;00m \u001b[38;5;124mb\u001b[39m\u001b[38;5;124m'\u001b[39m\u001b[38;5;124m'\u001b[39m\n",
      "\u001b[0;31mKeyboardInterrupt\u001b[0m: "
     ]
    }
   ],
   "source": [
    "retain_results = train('RETAIN')"
   ]
  },
  {
   "cell_type": "code",
   "execution_count": null,
   "id": "efcce213",
   "metadata": {},
   "outputs": [
    {
     "name": "stderr",
     "output_type": "stream",
     "text": [
      "\r",
      "  0%|          | 0/145 [00:00<?, ?it/s]"
     ]
    }
   ],
   "source": [
    "\n",
    "logreg_results = train('LogReg')"
   ]
  },
  {
   "cell_type": "code",
   "execution_count": null,
   "id": "946e962d",
   "metadata": {},
   "outputs": [],
   "source": []
  },
  {
   "cell_type": "code",
   "execution_count": null,
   "id": "35f0659c",
   "metadata": {},
   "outputs": [],
   "source": []
  }
 ],
 "metadata": {
  "kernelspec": {
   "display_name": "venv308",
   "language": "python",
   "name": "venv308"
  },
  "language_info": {
   "codemirror_mode": {
    "name": "ipython",
    "version": 3
   },
   "file_extension": ".py",
   "mimetype": "text/x-python",
   "name": "python",
   "nbconvert_exporter": "python",
   "pygments_lexer": "ipython3",
   "version": "3.8.10"
  }
 },
 "nbformat": 4,
 "nbformat_minor": 5
}
