{
 "cells": [
  {
   "cell_type": "markdown",
   "id": "f53f4d3c",
   "metadata": {},
   "source": [
    "# Table of Content\n",
    "\n",
    "<a name=\"outline\"></a>\n",
    "\n",
    "## Setup\n",
    "\n",
    "- [A](#seca) External Imports\n",
    "- [B](#secb) Internal Imports\n",
    "- [C](#secd) Configurations and Paths \n",
    "- [D](#sece) Patient Interface and Train/Val/Test Partitioning\n",
    "\n",
    "\n",
    "## [Evaluations: Predictive Performance on CPRD](#eval)\n"
   ]
  },
  {
   "cell_type": "markdown",
   "id": "697a491c",
   "metadata": {},
   "source": [
    "<a name=\"seca\"></a>\n",
    "\n",
    "### A External Imports [^](#outline)"
   ]
  },
  {
   "cell_type": "code",
   "execution_count": 1,
   "id": "4cfc614e",
   "metadata": {},
   "outputs": [],
   "source": [
    "import os\n",
    "import matplotlib.pyplot as plt\n",
    "import numpy as np\n",
    "import pandas as pd\n",
    "import seaborn as sns\n",
    "from pathlib import Path\n",
    "from IPython.display import display\n",
    "from upsetplot import from_contents, plot, UpSet, from_indicators\n"
   ]
  },
  {
   "cell_type": "markdown",
   "id": "23f0d568",
   "metadata": {},
   "source": [
    "<a name=\"secb\"></a>\n",
    "\n",
    "### B Internal Imports [^](#outline)"
   ]
  },
  {
   "cell_type": "code",
   "execution_count": 2,
   "id": "894a3743",
   "metadata": {},
   "outputs": [
    {
     "name": "stderr",
     "output_type": "stream",
     "text": [
      "/home/asem/GP/env/icenode-dev/lib/python3.8/site-packages/haiku/_src/data_structures.py:37: FutureWarning: jax.tree_structure is deprecated, and will be removed in a future release. Use jax.tree_util.tree_structure instead.\n",
      "  PyTreeDef = type(jax.tree_structure(None))\n"
     ]
    }
   ],
   "source": [
    "# HOME and DATA_STORE are arbitrary, change as appropriate.\n",
    "HOME = os.environ.get('HOME')\n",
    "DATA_STORE = f'{HOME}/GP/ehr-data'\n",
    "SOURCE_DIR = os.path.abspath(\"..\")\n",
    "\n",
    "DATA_FILE = os.path.join(DATA_STORE, 'cprd-data/DUMMY_DATA.csv')\n",
    "ARTEFACTS_DIR = 'cprd_artefacts'\n",
    "TRAIN_DIR = os.path.join(ARTEFACTS_DIR, 'train')\n",
    "\n",
    "\n",
    "%load_ext autoreload\n",
    "%autoreload 2\n",
    "\n",
    "import analysis as A\n",
    "import common as C\n",
    "\n"
   ]
  },
  {
   "cell_type": "markdown",
   "id": "d9340794",
   "metadata": {},
   "source": [
    "<a name=\"secc\"></a>\n",
    "\n",
    "### C Configurations and Paths [^](#outline)"
   ]
  },
  {
   "cell_type": "code",
   "execution_count": 3,
   "id": "9e935c81",
   "metadata": {},
   "outputs": [],
   "source": [
    "with C.modified_environ(DATA_FILE=DATA_FILE):\n",
    "    cprd_dataset = C.datasets['CPRD']"
   ]
  },
  {
   "cell_type": "code",
   "execution_count": 4,
   "id": "c8d78296",
   "metadata": {},
   "outputs": [],
   "source": [
    "relative_auc_config = {\n",
    "    'pvalue': 0.01, \n",
    "    'min_auc': 0.9\n",
    "}\n",
    "top_k_list=[1, 2, 3, 5, 7, 10, 15, 20]\n",
    "percentile_range=20 \n",
    "n_percentiles=int(100/percentile_range)\n",
    "\n",
    "\n",
    "import matplotlib.font_manager as font_manager\n",
    "plt.rcParams.update(plt.rcParamsDefault)\n",
    "plt.rcParams.update({'font.family': 'sans-serif',\n",
    "                     'font.sans-serif': 'Helvetica',\n",
    "                     'font.weight':  'normal'})"
   ]
  },
  {
   "cell_type": "code",
   "execution_count": null,
   "id": "cf8e225e",
   "metadata": {},
   "outputs": [],
   "source": []
  },
  {
   "cell_type": "code",
   "execution_count": 5,
   "id": "1e347422",
   "metadata": {},
   "outputs": [],
   "source": [
    "output_dir = 'cprd_analysis_artefacts'\n",
    "Path(output_dir).mkdir(parents=True, exist_ok=True)\n"
   ]
  },
  {
   "cell_type": "markdown",
   "id": "24d26707",
   "metadata": {},
   "source": [
    "<a name=\"secd\"></a>\n",
    "\n",
    "### D Patient Interface and Train/Val/Test Patitioning [^](#outline)"
   ]
  },
  {
   "cell_type": "code",
   "execution_count": 6,
   "id": "ed738552",
   "metadata": {},
   "outputs": [],
   "source": [
    "code_scheme = {\n",
    "    'dx': 'dx_cprd_ltc9809',\n",
    "    'dx_outcome': 'dx_cprd_ltc9809'\n",
    "}\n",
    "\n",
    "cprd_interface = C.Subject_JAX.from_dataset(cprd_dataset, code_scheme=code_scheme)"
   ]
  },
  {
   "cell_type": "code",
   "execution_count": 7,
   "id": "27c24ace",
   "metadata": {},
   "outputs": [],
   "source": [
    "cprd_splits = cprd_interface.random_splits(split1=0.7, split2=0.85, random_seed=42)\n",
    "cprd_train_ids, cprd_valid_ids, cprd_test_ids = cprd_splits\n"
   ]
  },
  {
   "cell_type": "code",
   "execution_count": 8,
   "id": "1895c6fb",
   "metadata": {},
   "outputs": [],
   "source": [
    "cprd_percentiles = cprd_interface.dx_outcome_by_percentiles(20, cprd_splits[0])\n"
   ]
  },
  {
   "cell_type": "markdown",
   "id": "4e5de22c",
   "metadata": {},
   "source": [
    "<a name=\"sec1\"></a>\n",
    "\n",
    "## 1 Snooping/Selecting Best Models from the Validation Set [^](#outline)"
   ]
  },
  {
   "cell_type": "code",
   "execution_count": 9,
   "id": "600cfb85",
   "metadata": {},
   "outputs": [],
   "source": [
    "from glob import glob\n",
    "clfs = [os.path.basename(d) for d in glob(f\"{TRAIN_DIR}/*\")]\n",
    "model_dir = dict(zip(clfs, clfs))"
   ]
  },
  {
   "cell_type": "code",
   "execution_count": 10,
   "id": "b35cd234",
   "metadata": {},
   "outputs": [
    {
     "data": {
      "text/html": [
       "<div>\n",
       "<style scoped>\n",
       "    .dataframe tbody tr th:only-of-type {\n",
       "        vertical-align: middle;\n",
       "    }\n",
       "\n",
       "    .dataframe tbody tr th {\n",
       "        vertical-align: top;\n",
       "    }\n",
       "\n",
       "    .dataframe thead th {\n",
       "        text-align: right;\n",
       "    }\n",
       "</style>\n",
       "<table border=\"1\" class=\"dataframe\">\n",
       "  <thead>\n",
       "    <tr style=\"text-align: right;\">\n",
       "      <th></th>\n",
       "      <th>Clf</th>\n",
       "      <th>Best_i</th>\n",
       "      <th>MICRO-AUC</th>\n",
       "    </tr>\n",
       "  </thead>\n",
       "  <tbody>\n",
       "    <tr>\n",
       "      <th>0</th>\n",
       "      <td>ICE-NODE_UNIFORM</td>\n",
       "      <td>0</td>\n",
       "      <td>0.440169</td>\n",
       "    </tr>\n",
       "    <tr>\n",
       "      <th>1</th>\n",
       "      <td>RETAIN</td>\n",
       "      <td>38</td>\n",
       "      <td>0.898837</td>\n",
       "    </tr>\n",
       "    <tr>\n",
       "      <th>2</th>\n",
       "      <td>LogReg</td>\n",
       "      <td>0</td>\n",
       "      <td>0.499683</td>\n",
       "    </tr>\n",
       "    <tr>\n",
       "      <th>3</th>\n",
       "      <td>ICE-NODE</td>\n",
       "      <td>0</td>\n",
       "      <td>0.440169</td>\n",
       "    </tr>\n",
       "    <tr>\n",
       "      <th>4</th>\n",
       "      <td>GRU</td>\n",
       "      <td>0</td>\n",
       "      <td>0.358739</td>\n",
       "    </tr>\n",
       "  </tbody>\n",
       "</table>\n",
       "</div>"
      ],
      "text/plain": [
       "                Clf  Best_i  MICRO-AUC\n",
       "0  ICE-NODE_UNIFORM       0   0.440169\n",
       "1            RETAIN      38   0.898837\n",
       "2            LogReg       0   0.499683\n",
       "3          ICE-NODE       0   0.440169\n",
       "4               GRU       0   0.358739"
      ]
     },
     "metadata": {},
     "output_type": "display_data"
    }
   ],
   "source": [
    "\n",
    "cprd_top = A.get_trained_models(clfs=clfs, train_dir={'cprd': TRAIN_DIR}, \n",
    "                                model_dir=model_dir, data_tag='cprd', \n",
    "                               criterion='MICRO-AUC',  comp=max)\n",
    "display(cprd_top['summary'])\n"
   ]
  },
  {
   "cell_type": "code",
   "execution_count": 11,
   "id": "62233d60",
   "metadata": {},
   "outputs": [],
   "source": [
    "\n",
    "def select_predictor(clf):\n",
    "    config = cprd_top['config'][clf] \n",
    "    params = cprd_top['params'][clf]\n",
    "    model = C.model_cls[clf].create_model(config, cprd_interface, [])\n",
    "    state = model.init_with_params(config, params)\n",
    "    return model, state\n",
    "\n"
   ]
  },
  {
   "cell_type": "markdown",
   "id": "f6323308",
   "metadata": {},
   "source": [
    "<a name=\"eval\"></a>\n",
    "\n",
    "## 2 Predictive Performance on CPRD [^](#outline)"
   ]
  },
  {
   "cell_type": "code",
   "execution_count": 12,
   "id": "7196d5b5",
   "metadata": {},
   "outputs": [],
   "source": [
    "cprd_predictors = {clf: select_predictor(clf) for clf in clfs}"
   ]
  },
  {
   "cell_type": "code",
   "execution_count": 13,
   "id": "7ff5b1ff",
   "metadata": {},
   "outputs": [
    {
     "name": "stderr",
     "output_type": "stream",
     "text": [
      "/home/asem/GP/env/icenode-dev/lib/python3.8/site-packages/haiku/_src/data_structures.py:144: FutureWarning: jax.tree_flatten is deprecated, and will be removed in a future release. Use jax.tree_util.tree_flatten instead.\n",
      "  leaves, treedef = jax.tree_flatten(tree)\n",
      "/home/asem/GP/env/icenode-dev/lib/python3.8/site-packages/haiku/_src/data_structures.py:145: FutureWarning: jax.tree_unflatten is deprecated, and will be removed in a future release. Use jax.tree_util.tree_unflatten instead.\n",
      "  return jax.tree_unflatten(treedef, leaves)\n",
      "/home/asem/GP/env/icenode-dev/lib/python3.8/site-packages/haiku/_src/data_structures.py:144: FutureWarning: jax.tree_flatten is deprecated, and will be removed in a future release. Use jax.tree_util.tree_flatten instead.\n",
      "  leaves, treedef = jax.tree_flatten(tree)\n",
      "/home/asem/GP/env/icenode-dev/lib/python3.8/site-packages/haiku/_src/data_structures.py:145: FutureWarning: jax.tree_unflatten is deprecated, and will be removed in a future release. Use jax.tree_util.tree_unflatten instead.\n",
      "  return jax.tree_unflatten(treedef, leaves)\n",
      "/home/asem/GP/env/icenode-dev/lib/python3.8/site-packages/haiku/_src/data_structures.py:144: FutureWarning: jax.tree_flatten is deprecated, and will be removed in a future release. Use jax.tree_util.tree_flatten instead.\n",
      "  leaves, treedef = jax.tree_flatten(tree)\n",
      "/home/asem/GP/env/icenode-dev/lib/python3.8/site-packages/haiku/_src/data_structures.py:145: FutureWarning: jax.tree_unflatten is deprecated, and will be removed in a future release. Use jax.tree_util.tree_unflatten instead.\n",
      "  return jax.tree_unflatten(treedef, leaves)\n"
     ]
    }
   ],
   "source": [
    "test_res_cprd = {clf: C.eval2_(model, cprd_splits[2]) for clf, model in cprd_predictors.items()} "
   ]
  },
  {
   "cell_type": "code",
   "execution_count": 14,
   "id": "43f74ca2",
   "metadata": {},
   "outputs": [
    {
     "name": "stderr",
     "output_type": "stream",
     "text": [
      "100%|███████████████████████████████████████████████████████████████████████████████████████████████████████████| 9461/9461 [00:00<00:00, 409767.66it/s]\n"
     ]
    }
   ],
   "source": [
    "auctests_cprd = A.codes_auc_pairwise_tests({k: v['risk_prediction'] for k, v in test_res_cprd.items()}, fast=True)\n"
   ]
  },
  {
   "cell_type": "code",
   "execution_count": 15,
   "id": "535f46c1",
   "metadata": {},
   "outputs": [
    {
     "data": {
      "text/plain": [
       "0.0"
      ]
     },
     "execution_count": 15,
     "metadata": {},
     "output_type": "execute_result"
    }
   ],
   "source": [
    "test_cols = [col for col in auctests_cprd.columns if col[:2] == 'P0']\n",
    "auctests_cprd.loc[:, test_cols].isnull().max(axis=1).sum()"
   ]
  },
  {
   "cell_type": "code",
   "execution_count": 16,
   "id": "dee80b1f",
   "metadata": {},
   "outputs": [
    {
     "name": "stdout",
     "output_type": "stream",
     "text": [
      "0 codes predicted an AUC higher than 0.9 by at least one model.\n",
      "0 codes predicted an AUC higher than 0.9 by at least one model, with valid tests.\n"
     ]
    },
    {
     "ename": "ValueError",
     "evalue": "Must pass non-zero number of levels/codes",
     "output_type": "error",
     "traceback": [
      "\u001b[0;31m---------------------------------------------------------------------------\u001b[0m",
      "\u001b[0;31mValueError\u001b[0m                                Traceback (most recent call last)",
      "\u001b[0;32m/tmp/ipykernel_1147671/2200159137.py\u001b[0m in \u001b[0;36m<module>\u001b[0;34m\u001b[0m\n\u001b[1;32m     15\u001b[0m \u001b[0;34m\u001b[0m\u001b[0m\n\u001b[1;32m     16\u001b[0m \u001b[0;32mwith\u001b[0m \u001b[0msns\u001b[0m\u001b[0;34m.\u001b[0m\u001b[0maxes_style\u001b[0m\u001b[0;34m(\u001b[0m\u001b[0;34m\"darkgrid\"\u001b[0m\u001b[0;34m)\u001b[0m\u001b[0;34m,\u001b[0m \u001b[0mupset_ctx\u001b[0m\u001b[0;34m(\u001b[0m\u001b[0;34m)\u001b[0m\u001b[0;34m:\u001b[0m\u001b[0;34m\u001b[0m\u001b[0;34m\u001b[0m\u001b[0m\n\u001b[0;32m---> 17\u001b[0;31m     \u001b[0mupset_format\u001b[0m \u001b[0;34m=\u001b[0m \u001b[0mfrom_indicators\u001b[0m\u001b[0;34m(\u001b[0m\u001b[0mcprd_upset_result\u001b[0m\u001b[0;34m[\u001b[0m\u001b[0;34m'indicator_df'\u001b[0m\u001b[0;34m]\u001b[0m\u001b[0;34m,\u001b[0m \u001b[0mdata\u001b[0m\u001b[0;34m=\u001b[0m\u001b[0mcprd_upset_result\u001b[0m\u001b[0;34m[\u001b[0m\u001b[0;34m'data'\u001b[0m\u001b[0;34m]\u001b[0m\u001b[0;34m)\u001b[0m\u001b[0;34m\u001b[0m\u001b[0;34m\u001b[0m\u001b[0m\n\u001b[0m\u001b[1;32m     18\u001b[0m     \u001b[0mupset_object\u001b[0m \u001b[0;34m=\u001b[0m \u001b[0mUpSet\u001b[0m\u001b[0;34m(\u001b[0m\u001b[0mupset_format\u001b[0m\u001b[0;34m,\u001b[0m \u001b[0msubset_size\u001b[0m\u001b[0;34m=\u001b[0m\u001b[0;34m'count'\u001b[0m\u001b[0;34m,\u001b[0m \u001b[0mshow_counts\u001b[0m\u001b[0;34m=\u001b[0m\u001b[0;32mTrue\u001b[0m\u001b[0;34m)\u001b[0m\u001b[0;34m\u001b[0m\u001b[0;34m\u001b[0m\u001b[0m\n\u001b[1;32m     19\u001b[0m     upset_object.style_subsets(absent=['LogReg'], present=('ICE-NODE', 'GRU', 'RETAIN'),\n",
      "\u001b[0;32m~/GP/env/icenode-dev/lib/python3.8/site-packages/upsetplot/data.py\u001b[0m in \u001b[0;36mfrom_indicators\u001b[0;34m(indicators, data)\u001b[0m\n\u001b[1;32m    216\u001b[0m         \u001b[0mdata\u001b[0m \u001b[0;34m=\u001b[0m \u001b[0mpd\u001b[0m\u001b[0;34m.\u001b[0m\u001b[0mSeries\u001b[0m\u001b[0;34m(\u001b[0m\u001b[0mnp\u001b[0m\u001b[0;34m.\u001b[0m\u001b[0mones\u001b[0m\u001b[0;34m(\u001b[0m\u001b[0mlen\u001b[0m\u001b[0;34m(\u001b[0m\u001b[0mindicators\u001b[0m\u001b[0;34m)\u001b[0m\u001b[0;34m)\u001b[0m\u001b[0;34m,\u001b[0m \u001b[0mname\u001b[0m\u001b[0;34m=\u001b[0m\u001b[0;34m\"ones\"\u001b[0m\u001b[0;34m)\u001b[0m\u001b[0;34m\u001b[0m\u001b[0;34m\u001b[0m\u001b[0m\n\u001b[1;32m    217\u001b[0m \u001b[0;34m\u001b[0m\u001b[0m\n\u001b[0;32m--> 218\u001b[0;31m     \u001b[0mindicators\u001b[0m\u001b[0;34m.\u001b[0m\u001b[0mset_index\u001b[0m\u001b[0;34m(\u001b[0m\u001b[0mlist\u001b[0m\u001b[0;34m(\u001b[0m\u001b[0mindicators\u001b[0m\u001b[0;34m.\u001b[0m\u001b[0mcolumns\u001b[0m\u001b[0;34m)\u001b[0m\u001b[0;34m,\u001b[0m \u001b[0minplace\u001b[0m\u001b[0;34m=\u001b[0m\u001b[0;32mTrue\u001b[0m\u001b[0;34m)\u001b[0m\u001b[0;34m\u001b[0m\u001b[0;34m\u001b[0m\u001b[0m\n\u001b[0m\u001b[1;32m    219\u001b[0m     \u001b[0mdata\u001b[0m\u001b[0;34m.\u001b[0m\u001b[0mindex\u001b[0m \u001b[0;34m=\u001b[0m \u001b[0mindicators\u001b[0m\u001b[0;34m.\u001b[0m\u001b[0mindex\u001b[0m\u001b[0;34m\u001b[0m\u001b[0;34m\u001b[0m\u001b[0m\n\u001b[1;32m    220\u001b[0m \u001b[0;34m\u001b[0m\u001b[0m\n",
      "\u001b[0;32m~/GP/env/icenode-dev/lib/python3.8/site-packages/pandas/util/_decorators.py\u001b[0m in \u001b[0;36mwrapper\u001b[0;34m(*args, **kwargs)\u001b[0m\n\u001b[1;32m    309\u001b[0m                     \u001b[0mstacklevel\u001b[0m\u001b[0;34m=\u001b[0m\u001b[0mstacklevel\u001b[0m\u001b[0;34m,\u001b[0m\u001b[0;34m\u001b[0m\u001b[0;34m\u001b[0m\u001b[0m\n\u001b[1;32m    310\u001b[0m                 )\n\u001b[0;32m--> 311\u001b[0;31m             \u001b[0;32mreturn\u001b[0m \u001b[0mfunc\u001b[0m\u001b[0;34m(\u001b[0m\u001b[0;34m*\u001b[0m\u001b[0margs\u001b[0m\u001b[0;34m,\u001b[0m \u001b[0;34m**\u001b[0m\u001b[0mkwargs\u001b[0m\u001b[0;34m)\u001b[0m\u001b[0;34m\u001b[0m\u001b[0;34m\u001b[0m\u001b[0m\n\u001b[0m\u001b[1;32m    312\u001b[0m \u001b[0;34m\u001b[0m\u001b[0m\n\u001b[1;32m    313\u001b[0m         \u001b[0;32mreturn\u001b[0m \u001b[0mwrapper\u001b[0m\u001b[0;34m\u001b[0m\u001b[0;34m\u001b[0m\u001b[0m\n",
      "\u001b[0;32m~/GP/env/icenode-dev/lib/python3.8/site-packages/pandas/core/frame.py\u001b[0m in \u001b[0;36mset_index\u001b[0;34m(self, keys, drop, append, inplace, verify_integrity)\u001b[0m\n\u001b[1;32m   5504\u001b[0m                 )\n\u001b[1;32m   5505\u001b[0m \u001b[0;34m\u001b[0m\u001b[0m\n\u001b[0;32m-> 5506\u001b[0;31m         \u001b[0mindex\u001b[0m \u001b[0;34m=\u001b[0m \u001b[0mensure_index_from_sequences\u001b[0m\u001b[0;34m(\u001b[0m\u001b[0marrays\u001b[0m\u001b[0;34m,\u001b[0m \u001b[0mnames\u001b[0m\u001b[0;34m)\u001b[0m\u001b[0;34m\u001b[0m\u001b[0;34m\u001b[0m\u001b[0m\n\u001b[0m\u001b[1;32m   5507\u001b[0m \u001b[0;34m\u001b[0m\u001b[0m\n\u001b[1;32m   5508\u001b[0m         \u001b[0;32mif\u001b[0m \u001b[0mverify_integrity\u001b[0m \u001b[0;32mand\u001b[0m \u001b[0;32mnot\u001b[0m \u001b[0mindex\u001b[0m\u001b[0;34m.\u001b[0m\u001b[0mis_unique\u001b[0m\u001b[0;34m:\u001b[0m\u001b[0;34m\u001b[0m\u001b[0;34m\u001b[0m\u001b[0m\n",
      "\u001b[0;32m~/GP/env/icenode-dev/lib/python3.8/site-packages/pandas/core/indexes/base.py\u001b[0m in \u001b[0;36mensure_index_from_sequences\u001b[0;34m(sequences, names)\u001b[0m\n\u001b[1;32m   6274\u001b[0m         \u001b[0;32mreturn\u001b[0m \u001b[0mIndex\u001b[0m\u001b[0;34m(\u001b[0m\u001b[0msequences\u001b[0m\u001b[0;34m[\u001b[0m\u001b[0;36m0\u001b[0m\u001b[0;34m]\u001b[0m\u001b[0;34m,\u001b[0m \u001b[0mname\u001b[0m\u001b[0;34m=\u001b[0m\u001b[0mnames\u001b[0m\u001b[0;34m)\u001b[0m\u001b[0;34m\u001b[0m\u001b[0;34m\u001b[0m\u001b[0m\n\u001b[1;32m   6275\u001b[0m     \u001b[0;32melse\u001b[0m\u001b[0;34m:\u001b[0m\u001b[0;34m\u001b[0m\u001b[0;34m\u001b[0m\u001b[0m\n\u001b[0;32m-> 6276\u001b[0;31m         \u001b[0;32mreturn\u001b[0m \u001b[0mMultiIndex\u001b[0m\u001b[0;34m.\u001b[0m\u001b[0mfrom_arrays\u001b[0m\u001b[0;34m(\u001b[0m\u001b[0msequences\u001b[0m\u001b[0;34m,\u001b[0m \u001b[0mnames\u001b[0m\u001b[0;34m=\u001b[0m\u001b[0mnames\u001b[0m\u001b[0;34m)\u001b[0m\u001b[0;34m\u001b[0m\u001b[0;34m\u001b[0m\u001b[0m\n\u001b[0m\u001b[1;32m   6277\u001b[0m \u001b[0;34m\u001b[0m\u001b[0m\n\u001b[1;32m   6278\u001b[0m \u001b[0;34m\u001b[0m\u001b[0m\n",
      "\u001b[0;32m~/GP/env/icenode-dev/lib/python3.8/site-packages/pandas/core/indexes/multi.py\u001b[0m in \u001b[0;36mfrom_arrays\u001b[0;34m(cls, arrays, sortorder, names)\u001b[0m\n\u001b[1;32m    485\u001b[0m             \u001b[0mnames\u001b[0m \u001b[0;34m=\u001b[0m \u001b[0;34m[\u001b[0m\u001b[0mgetattr\u001b[0m\u001b[0;34m(\u001b[0m\u001b[0marr\u001b[0m\u001b[0;34m,\u001b[0m \u001b[0;34m\"name\"\u001b[0m\u001b[0;34m,\u001b[0m \u001b[0;32mNone\u001b[0m\u001b[0;34m)\u001b[0m \u001b[0;32mfor\u001b[0m \u001b[0marr\u001b[0m \u001b[0;32min\u001b[0m \u001b[0marrays\u001b[0m\u001b[0;34m]\u001b[0m\u001b[0;34m\u001b[0m\u001b[0;34m\u001b[0m\u001b[0m\n\u001b[1;32m    486\u001b[0m \u001b[0;34m\u001b[0m\u001b[0m\n\u001b[0;32m--> 487\u001b[0;31m         return cls(\n\u001b[0m\u001b[1;32m    488\u001b[0m             \u001b[0mlevels\u001b[0m\u001b[0;34m=\u001b[0m\u001b[0mlevels\u001b[0m\u001b[0;34m,\u001b[0m\u001b[0;34m\u001b[0m\u001b[0;34m\u001b[0m\u001b[0m\n\u001b[1;32m    489\u001b[0m             \u001b[0mcodes\u001b[0m\u001b[0;34m=\u001b[0m\u001b[0mcodes\u001b[0m\u001b[0;34m,\u001b[0m\u001b[0;34m\u001b[0m\u001b[0;34m\u001b[0m\u001b[0m\n",
      "\u001b[0;32m~/GP/env/icenode-dev/lib/python3.8/site-packages/pandas/core/indexes/multi.py\u001b[0m in \u001b[0;36m__new__\u001b[0;34m(cls, levels, codes, sortorder, names, dtype, copy, name, verify_integrity)\u001b[0m\n\u001b[1;32m    317\u001b[0m             \u001b[0;32mraise\u001b[0m \u001b[0mValueError\u001b[0m\u001b[0;34m(\u001b[0m\u001b[0;34m\"Length of levels and codes must be the same.\"\u001b[0m\u001b[0;34m)\u001b[0m\u001b[0;34m\u001b[0m\u001b[0;34m\u001b[0m\u001b[0m\n\u001b[1;32m    318\u001b[0m         \u001b[0;32mif\u001b[0m \u001b[0mlen\u001b[0m\u001b[0;34m(\u001b[0m\u001b[0mlevels\u001b[0m\u001b[0;34m)\u001b[0m \u001b[0;34m==\u001b[0m \u001b[0;36m0\u001b[0m\u001b[0;34m:\u001b[0m\u001b[0;34m\u001b[0m\u001b[0;34m\u001b[0m\u001b[0m\n\u001b[0;32m--> 319\u001b[0;31m             \u001b[0;32mraise\u001b[0m \u001b[0mValueError\u001b[0m\u001b[0;34m(\u001b[0m\u001b[0;34m\"Must pass non-zero number of levels/codes\"\u001b[0m\u001b[0;34m)\u001b[0m\u001b[0;34m\u001b[0m\u001b[0;34m\u001b[0m\u001b[0m\n\u001b[0m\u001b[1;32m    320\u001b[0m \u001b[0;34m\u001b[0m\u001b[0m\n\u001b[1;32m    321\u001b[0m         \u001b[0mresult\u001b[0m \u001b[0;34m=\u001b[0m \u001b[0mobject\u001b[0m\u001b[0;34m.\u001b[0m\u001b[0m__new__\u001b[0m\u001b[0;34m(\u001b[0m\u001b[0mcls\u001b[0m\u001b[0;34m)\u001b[0m\u001b[0;34m\u001b[0m\u001b[0;34m\u001b[0m\u001b[0m\n",
      "\u001b[0;31mValueError\u001b[0m: Must pass non-zero number of levels/codes"
     ]
    }
   ],
   "source": [
    "upset_clfs = ['ICE-NODE', 'ICE-NODE_UNIFORM', 'GRU', 'RETAIN', 'LogReg']\n",
    "\n",
    "cprd_freq_v = cprd_interface.dx_outcome_frequency_vec(cprd_train_ids) \n",
    "cprd_code_attrs = {'Code frequency': dict(zip(range(len(cprd_freq_v)), cprd_freq_v))}\n",
    "\n",
    "cprd_upset_result = A.relative_performance_upset(auctests_cprd, upset_clfs, \n",
    "                                                 code_attrs=cprd_code_attrs,\n",
    "                                                 interface=cprd_interface,\n",
    "                                                 **relative_auc_config)\n",
    "upset_ctx = lambda : sns.plotting_context(\"paper\", font_scale=1.5, rc={\"font.family\": \"sans-serif\", \n",
    "                                                                        'axes.labelsize': 'medium',\n",
    "                                                                       'ytick.labelsize': 'medium'})\n",
    "\n",
    "\n",
    "\n",
    "with sns.axes_style(\"darkgrid\"), upset_ctx():\n",
    "    upset_format = from_indicators(cprd_upset_result['indicator_df'], data=cprd_upset_result['data'])\n",
    "    upset_object = UpSet(upset_format, subset_size='count', show_counts=True)\n",
    "    upset_object.style_subsets(absent=['LogReg'], present=('ICE-NODE', 'GRU', 'RETAIN'),\n",
    "                               facecolor=\"red\",\n",
    "                               edgecolor=\"red\", linewidth=3)\n",
    "    upset_object.add_catplot(value='Code frequency', kind=\"strip\")\n",
    "    \n",
    "    g = upset_object.plot()\n",
    "        \n",
    "    current_figure = plt.gcf()\n",
    "    w, h = 2.5, 3\n",
    "    wi, hi = current_figure.get_size_inches()\n",
    "    current_figure.set_size_inches(hi*(w/h), hi)\n",
    "    current_figure.savefig(f\"{output_dir}/upset_CPRD.pdf\", bbox_inches='tight')\n",
    "    plt.show()"
   ]
  },
  {
   "cell_type": "code",
   "execution_count": 17,
   "id": "de1bc591",
   "metadata": {},
   "outputs": [
    {
     "name": "stderr",
     "output_type": "stream",
     "text": [
      "/home/asem/GP/ICE-NODE/notebooks/../icenode/metric/stat.py:215: RuntimeWarning: invalid value encountered in long_scalars\n",
      "  rate[k][f'ACC-P{i}-k{k}'] = group_true_positive.sum(\n",
      "/home/asem/GP/ICE-NODE/notebooks/../icenode/metric/stat.py:215: RuntimeWarning: invalid value encountered in long_scalars\n",
      "  rate[k][f'ACC-P{i}-k{k}'] = group_true_positive.sum(\n",
      "/home/asem/GP/ICE-NODE/notebooks/../icenode/metric/stat.py:215: RuntimeWarning: invalid value encountered in long_scalars\n",
      "  rate[k][f'ACC-P{i}-k{k}'] = group_true_positive.sum(\n",
      "/home/asem/GP/ICE-NODE/notebooks/../icenode/metric/stat.py:215: RuntimeWarning: invalid value encountered in long_scalars\n",
      "  rate[k][f'ACC-P{i}-k{k}'] = group_true_positive.sum(\n",
      "/home/asem/GP/ICE-NODE/notebooks/../icenode/metric/stat.py:215: RuntimeWarning: invalid value encountered in long_scalars\n",
      "  rate[k][f'ACC-P{i}-k{k}'] = group_true_positive.sum(\n"
     ]
    }
   ],
   "source": [
    "results_cprd_eval,_ = A.evaluation_table(test_res_cprd, cprd_percentiles, top_k_list=top_k_list)"
   ]
  },
  {
   "cell_type": "code",
   "execution_count": 18,
   "id": "b4c44928",
   "metadata": {},
   "outputs": [
    {
     "data": {
      "text/html": [
       "<style type=\"text/css\">\n",
       "#T_0fe2b_row0_col0, #T_0fe2b_row1_col0, #T_0fe2b_row2_col0, #T_0fe2b_row3_col0, #T_0fe2b_row4_col0 {\n",
       "  background-color: #8e0152;\n",
       "  color: #f1f1f1;\n",
       "}\n",
       "#T_0fe2b_row0_col1, #T_0fe2b_row0_col2, #T_0fe2b_row0_col3, #T_0fe2b_row0_col4, #T_0fe2b_row1_col1, #T_0fe2b_row1_col2, #T_0fe2b_row1_col3, #T_0fe2b_row1_col4, #T_0fe2b_row2_col1, #T_0fe2b_row2_col2, #T_0fe2b_row2_col3, #T_0fe2b_row2_col4, #T_0fe2b_row3_col1, #T_0fe2b_row3_col2, #T_0fe2b_row3_col3, #T_0fe2b_row3_col4, #T_0fe2b_row4_col1, #T_0fe2b_row4_col2, #T_0fe2b_row4_col3, #T_0fe2b_row4_col4 {\n",
       "  background-color: #276419;\n",
       "  color: #f1f1f1;\n",
       "}\n",
       "</style>\n",
       "<table id=\"T_0fe2b_\">\n",
       "  <thead>\n",
       "    <tr>\n",
       "      <th class=\"blank level0\" >&nbsp;</th>\n",
       "      <th class=\"col_heading level0 col0\" >ACC-P0-k1</th>\n",
       "      <th class=\"col_heading level0 col1\" >ACC-P1-k1</th>\n",
       "      <th class=\"col_heading level0 col2\" >ACC-P2-k1</th>\n",
       "      <th class=\"col_heading level0 col3\" >ACC-P3-k1</th>\n",
       "      <th class=\"col_heading level0 col4\" >ACC-P4-k1</th>\n",
       "    </tr>\n",
       "  </thead>\n",
       "  <tbody>\n",
       "    <tr>\n",
       "      <th id=\"T_0fe2b_level0_row0\" class=\"row_heading level0 row0\" >LogReg</th>\n",
       "      <td id=\"T_0fe2b_row0_col0\" class=\"data row0 col0\" >0.000</td>\n",
       "      <td id=\"T_0fe2b_row0_col1\" class=\"data row0 col1\" >nan</td>\n",
       "      <td id=\"T_0fe2b_row0_col2\" class=\"data row0 col2\" >nan</td>\n",
       "      <td id=\"T_0fe2b_row0_col3\" class=\"data row0 col3\" >nan</td>\n",
       "      <td id=\"T_0fe2b_row0_col4\" class=\"data row0 col4\" >nan</td>\n",
       "    </tr>\n",
       "    <tr>\n",
       "      <th id=\"T_0fe2b_level0_row1\" class=\"row_heading level0 row1\" >RETAIN</th>\n",
       "      <td id=\"T_0fe2b_row1_col0\" class=\"data row1 col0\" >0.000</td>\n",
       "      <td id=\"T_0fe2b_row1_col1\" class=\"data row1 col1\" >nan</td>\n",
       "      <td id=\"T_0fe2b_row1_col2\" class=\"data row1 col2\" >nan</td>\n",
       "      <td id=\"T_0fe2b_row1_col3\" class=\"data row1 col3\" >nan</td>\n",
       "      <td id=\"T_0fe2b_row1_col4\" class=\"data row1 col4\" >nan</td>\n",
       "    </tr>\n",
       "    <tr>\n",
       "      <th id=\"T_0fe2b_level0_row2\" class=\"row_heading level0 row2\" >GRU</th>\n",
       "      <td id=\"T_0fe2b_row2_col0\" class=\"data row2 col0\" >0.000</td>\n",
       "      <td id=\"T_0fe2b_row2_col1\" class=\"data row2 col1\" >nan</td>\n",
       "      <td id=\"T_0fe2b_row2_col2\" class=\"data row2 col2\" >nan</td>\n",
       "      <td id=\"T_0fe2b_row2_col3\" class=\"data row2 col3\" >nan</td>\n",
       "      <td id=\"T_0fe2b_row2_col4\" class=\"data row2 col4\" >nan</td>\n",
       "    </tr>\n",
       "    <tr>\n",
       "      <th id=\"T_0fe2b_level0_row3\" class=\"row_heading level0 row3\" >ICE-NODE_UNIFORM</th>\n",
       "      <td id=\"T_0fe2b_row3_col0\" class=\"data row3 col0\" >0.000</td>\n",
       "      <td id=\"T_0fe2b_row3_col1\" class=\"data row3 col1\" >nan</td>\n",
       "      <td id=\"T_0fe2b_row3_col2\" class=\"data row3 col2\" >nan</td>\n",
       "      <td id=\"T_0fe2b_row3_col3\" class=\"data row3 col3\" >nan</td>\n",
       "      <td id=\"T_0fe2b_row3_col4\" class=\"data row3 col4\" >nan</td>\n",
       "    </tr>\n",
       "    <tr>\n",
       "      <th id=\"T_0fe2b_level0_row4\" class=\"row_heading level0 row4\" >ICE-NODE</th>\n",
       "      <td id=\"T_0fe2b_row4_col0\" class=\"data row4 col0\" >0.000</td>\n",
       "      <td id=\"T_0fe2b_row4_col1\" class=\"data row4 col1\" >nan</td>\n",
       "      <td id=\"T_0fe2b_row4_col2\" class=\"data row4 col2\" >nan</td>\n",
       "      <td id=\"T_0fe2b_row4_col3\" class=\"data row4 col3\" >nan</td>\n",
       "      <td id=\"T_0fe2b_row4_col4\" class=\"data row4 col4\" >nan</td>\n",
       "    </tr>\n",
       "  </tbody>\n",
       "</table>\n"
      ],
      "text/plain": [
       "<pandas.io.formats.style.Styler at 0x7f79086ec940>"
      ]
     },
     "metadata": {},
     "output_type": "display_data"
    },
    {
     "name": "stdout",
     "output_type": "stream",
     "text": [
      "\\begin{tabular}{lrrrrr}\n",
      "{} & {ACC-P0-k1} & {ACC-P1-k1} & {ACC-P2-k1} & {ACC-P3-k1} & {ACC-P4-k1} \\\\\n",
      "\\texttt{LogReg} & {\\cellcolor[HTML]{8E0152}} \\color[HTML]{F1F1F1} 0.000 & {\\cellcolor[HTML]{276419}} \\color[HTML]{F1F1F1} nan & {\\cellcolor[HTML]{276419}} \\color[HTML]{F1F1F1} nan & {\\cellcolor[HTML]{276419}} \\color[HTML]{F1F1F1} nan & {\\cellcolor[HTML]{276419}} \\color[HTML]{F1F1F1} nan \\\\\n",
      "\\texttt{RETAIN} & {\\cellcolor[HTML]{8E0152}} \\color[HTML]{F1F1F1} 0.000 & {\\cellcolor[HTML]{276419}} \\color[HTML]{F1F1F1} nan & {\\cellcolor[HTML]{276419}} \\color[HTML]{F1F1F1} nan & {\\cellcolor[HTML]{276419}} \\color[HTML]{F1F1F1} nan & {\\cellcolor[HTML]{276419}} \\color[HTML]{F1F1F1} nan \\\\\n",
      "\\texttt{GRU} & {\\cellcolor[HTML]{8E0152}} \\color[HTML]{F1F1F1} 0.000 & {\\cellcolor[HTML]{276419}} \\color[HTML]{F1F1F1} nan & {\\cellcolor[HTML]{276419}} \\color[HTML]{F1F1F1} nan & {\\cellcolor[HTML]{276419}} \\color[HTML]{F1F1F1} nan & {\\cellcolor[HTML]{276419}} \\color[HTML]{F1F1F1} nan \\\\\n",
      "\\texttt{\\texttt{ICE-NODE}\\_UNIFORM} & {\\cellcolor[HTML]{8E0152}} \\color[HTML]{F1F1F1} 0.000 & {\\cellcolor[HTML]{276419}} \\color[HTML]{F1F1F1} nan & {\\cellcolor[HTML]{276419}} \\color[HTML]{F1F1F1} nan & {\\cellcolor[HTML]{276419}} \\color[HTML]{F1F1F1} nan & {\\cellcolor[HTML]{276419}} \\color[HTML]{F1F1F1} nan \\\\\n",
      "ICE-NODE & {\\cellcolor[HTML]{8E0152}} \\color[HTML]{F1F1F1} 0.000 & {\\cellcolor[HTML]{276419}} \\color[HTML]{F1F1F1} nan & {\\cellcolor[HTML]{276419}} \\color[HTML]{F1F1F1} nan & {\\cellcolor[HTML]{276419}} \\color[HTML]{F1F1F1} nan & {\\cellcolor[HTML]{276419}} \\color[HTML]{F1F1F1} nan \\\\\n",
      "\\end{tabular}\n",
      "\n"
     ]
    },
    {
     "data": {
      "text/html": [
       "<style type=\"text/css\">\n",
       "#T_36257_row0_col0, #T_36257_row1_col0, #T_36257_row2_col0, #T_36257_row3_col0, #T_36257_row4_col0 {\n",
       "  background-color: #8e0152;\n",
       "  color: #f1f1f1;\n",
       "}\n",
       "#T_36257_row0_col1, #T_36257_row0_col2, #T_36257_row0_col3, #T_36257_row0_col4, #T_36257_row1_col1, #T_36257_row1_col2, #T_36257_row1_col3, #T_36257_row1_col4, #T_36257_row2_col1, #T_36257_row2_col2, #T_36257_row2_col3, #T_36257_row2_col4, #T_36257_row3_col1, #T_36257_row3_col2, #T_36257_row3_col3, #T_36257_row3_col4, #T_36257_row4_col1, #T_36257_row4_col2, #T_36257_row4_col3, #T_36257_row4_col4 {\n",
       "  background-color: #276419;\n",
       "  color: #f1f1f1;\n",
       "}\n",
       "</style>\n",
       "<table id=\"T_36257_\">\n",
       "  <thead>\n",
       "    <tr>\n",
       "      <th class=\"blank level0\" >&nbsp;</th>\n",
       "      <th class=\"col_heading level0 col0\" >ACC-P0-k2</th>\n",
       "      <th class=\"col_heading level0 col1\" >ACC-P1-k2</th>\n",
       "      <th class=\"col_heading level0 col2\" >ACC-P2-k2</th>\n",
       "      <th class=\"col_heading level0 col3\" >ACC-P3-k2</th>\n",
       "      <th class=\"col_heading level0 col4\" >ACC-P4-k2</th>\n",
       "    </tr>\n",
       "  </thead>\n",
       "  <tbody>\n",
       "    <tr>\n",
       "      <th id=\"T_36257_level0_row0\" class=\"row_heading level0 row0\" >LogReg</th>\n",
       "      <td id=\"T_36257_row0_col0\" class=\"data row0 col0\" >0.000</td>\n",
       "      <td id=\"T_36257_row0_col1\" class=\"data row0 col1\" >nan</td>\n",
       "      <td id=\"T_36257_row0_col2\" class=\"data row0 col2\" >nan</td>\n",
       "      <td id=\"T_36257_row0_col3\" class=\"data row0 col3\" >nan</td>\n",
       "      <td id=\"T_36257_row0_col4\" class=\"data row0 col4\" >nan</td>\n",
       "    </tr>\n",
       "    <tr>\n",
       "      <th id=\"T_36257_level0_row1\" class=\"row_heading level0 row1\" >RETAIN</th>\n",
       "      <td id=\"T_36257_row1_col0\" class=\"data row1 col0\" >0.000</td>\n",
       "      <td id=\"T_36257_row1_col1\" class=\"data row1 col1\" >nan</td>\n",
       "      <td id=\"T_36257_row1_col2\" class=\"data row1 col2\" >nan</td>\n",
       "      <td id=\"T_36257_row1_col3\" class=\"data row1 col3\" >nan</td>\n",
       "      <td id=\"T_36257_row1_col4\" class=\"data row1 col4\" >nan</td>\n",
       "    </tr>\n",
       "    <tr>\n",
       "      <th id=\"T_36257_level0_row2\" class=\"row_heading level0 row2\" >GRU</th>\n",
       "      <td id=\"T_36257_row2_col0\" class=\"data row2 col0\" >0.000</td>\n",
       "      <td id=\"T_36257_row2_col1\" class=\"data row2 col1\" >nan</td>\n",
       "      <td id=\"T_36257_row2_col2\" class=\"data row2 col2\" >nan</td>\n",
       "      <td id=\"T_36257_row2_col3\" class=\"data row2 col3\" >nan</td>\n",
       "      <td id=\"T_36257_row2_col4\" class=\"data row2 col4\" >nan</td>\n",
       "    </tr>\n",
       "    <tr>\n",
       "      <th id=\"T_36257_level0_row3\" class=\"row_heading level0 row3\" >ICE-NODE_UNIFORM</th>\n",
       "      <td id=\"T_36257_row3_col0\" class=\"data row3 col0\" >0.000</td>\n",
       "      <td id=\"T_36257_row3_col1\" class=\"data row3 col1\" >nan</td>\n",
       "      <td id=\"T_36257_row3_col2\" class=\"data row3 col2\" >nan</td>\n",
       "      <td id=\"T_36257_row3_col3\" class=\"data row3 col3\" >nan</td>\n",
       "      <td id=\"T_36257_row3_col4\" class=\"data row3 col4\" >nan</td>\n",
       "    </tr>\n",
       "    <tr>\n",
       "      <th id=\"T_36257_level0_row4\" class=\"row_heading level0 row4\" >ICE-NODE</th>\n",
       "      <td id=\"T_36257_row4_col0\" class=\"data row4 col0\" >0.000</td>\n",
       "      <td id=\"T_36257_row4_col1\" class=\"data row4 col1\" >nan</td>\n",
       "      <td id=\"T_36257_row4_col2\" class=\"data row4 col2\" >nan</td>\n",
       "      <td id=\"T_36257_row4_col3\" class=\"data row4 col3\" >nan</td>\n",
       "      <td id=\"T_36257_row4_col4\" class=\"data row4 col4\" >nan</td>\n",
       "    </tr>\n",
       "  </tbody>\n",
       "</table>\n"
      ],
      "text/plain": [
       "<pandas.io.formats.style.Styler at 0x7f78d8737e20>"
      ]
     },
     "metadata": {},
     "output_type": "display_data"
    },
    {
     "name": "stdout",
     "output_type": "stream",
     "text": [
      "\\begin{tabular}{lrrrrr}\n",
      "{} & {ACC-P0-k2} & {ACC-P1-k2} & {ACC-P2-k2} & {ACC-P3-k2} & {ACC-P4-k2} \\\\\n",
      "\\texttt{LogReg} & {\\cellcolor[HTML]{8E0152}} \\color[HTML]{F1F1F1} 0.000 & {\\cellcolor[HTML]{276419}} \\color[HTML]{F1F1F1} nan & {\\cellcolor[HTML]{276419}} \\color[HTML]{F1F1F1} nan & {\\cellcolor[HTML]{276419}} \\color[HTML]{F1F1F1} nan & {\\cellcolor[HTML]{276419}} \\color[HTML]{F1F1F1} nan \\\\\n",
      "\\texttt{RETAIN} & {\\cellcolor[HTML]{8E0152}} \\color[HTML]{F1F1F1} 0.000 & {\\cellcolor[HTML]{276419}} \\color[HTML]{F1F1F1} nan & {\\cellcolor[HTML]{276419}} \\color[HTML]{F1F1F1} nan & {\\cellcolor[HTML]{276419}} \\color[HTML]{F1F1F1} nan & {\\cellcolor[HTML]{276419}} \\color[HTML]{F1F1F1} nan \\\\\n",
      "\\texttt{GRU} & {\\cellcolor[HTML]{8E0152}} \\color[HTML]{F1F1F1} 0.000 & {\\cellcolor[HTML]{276419}} \\color[HTML]{F1F1F1} nan & {\\cellcolor[HTML]{276419}} \\color[HTML]{F1F1F1} nan & {\\cellcolor[HTML]{276419}} \\color[HTML]{F1F1F1} nan & {\\cellcolor[HTML]{276419}} \\color[HTML]{F1F1F1} nan \\\\\n",
      "\\texttt{\\texttt{ICE-NODE}\\_UNIFORM} & {\\cellcolor[HTML]{8E0152}} \\color[HTML]{F1F1F1} 0.000 & {\\cellcolor[HTML]{276419}} \\color[HTML]{F1F1F1} nan & {\\cellcolor[HTML]{276419}} \\color[HTML]{F1F1F1} nan & {\\cellcolor[HTML]{276419}} \\color[HTML]{F1F1F1} nan & {\\cellcolor[HTML]{276419}} \\color[HTML]{F1F1F1} nan \\\\\n",
      "ICE-NODE & {\\cellcolor[HTML]{8E0152}} \\color[HTML]{F1F1F1} 0.000 & {\\cellcolor[HTML]{276419}} \\color[HTML]{F1F1F1} nan & {\\cellcolor[HTML]{276419}} \\color[HTML]{F1F1F1} nan & {\\cellcolor[HTML]{276419}} \\color[HTML]{F1F1F1} nan & {\\cellcolor[HTML]{276419}} \\color[HTML]{F1F1F1} nan \\\\\n",
      "\\end{tabular}\n",
      "\n"
     ]
    },
    {
     "data": {
      "text/html": [
       "<style type=\"text/css\">\n",
       "#T_3d8e4_row0_col0, #T_3d8e4_row1_col0, #T_3d8e4_row2_col0, #T_3d8e4_row3_col0, #T_3d8e4_row4_col0 {\n",
       "  background-color: #8e0152;\n",
       "  color: #f1f1f1;\n",
       "}\n",
       "#T_3d8e4_row0_col1, #T_3d8e4_row0_col2, #T_3d8e4_row0_col3, #T_3d8e4_row0_col4, #T_3d8e4_row1_col1, #T_3d8e4_row1_col2, #T_3d8e4_row1_col3, #T_3d8e4_row1_col4, #T_3d8e4_row2_col1, #T_3d8e4_row2_col2, #T_3d8e4_row2_col3, #T_3d8e4_row2_col4, #T_3d8e4_row3_col1, #T_3d8e4_row3_col2, #T_3d8e4_row3_col3, #T_3d8e4_row3_col4, #T_3d8e4_row4_col1, #T_3d8e4_row4_col2, #T_3d8e4_row4_col3, #T_3d8e4_row4_col4 {\n",
       "  background-color: #276419;\n",
       "  color: #f1f1f1;\n",
       "}\n",
       "</style>\n",
       "<table id=\"T_3d8e4_\">\n",
       "  <thead>\n",
       "    <tr>\n",
       "      <th class=\"blank level0\" >&nbsp;</th>\n",
       "      <th class=\"col_heading level0 col0\" >ACC-P0-k3</th>\n",
       "      <th class=\"col_heading level0 col1\" >ACC-P1-k3</th>\n",
       "      <th class=\"col_heading level0 col2\" >ACC-P2-k3</th>\n",
       "      <th class=\"col_heading level0 col3\" >ACC-P3-k3</th>\n",
       "      <th class=\"col_heading level0 col4\" >ACC-P4-k3</th>\n",
       "    </tr>\n",
       "  </thead>\n",
       "  <tbody>\n",
       "    <tr>\n",
       "      <th id=\"T_3d8e4_level0_row0\" class=\"row_heading level0 row0\" >LogReg</th>\n",
       "      <td id=\"T_3d8e4_row0_col0\" class=\"data row0 col0\" >0.000</td>\n",
       "      <td id=\"T_3d8e4_row0_col1\" class=\"data row0 col1\" >nan</td>\n",
       "      <td id=\"T_3d8e4_row0_col2\" class=\"data row0 col2\" >nan</td>\n",
       "      <td id=\"T_3d8e4_row0_col3\" class=\"data row0 col3\" >nan</td>\n",
       "      <td id=\"T_3d8e4_row0_col4\" class=\"data row0 col4\" >nan</td>\n",
       "    </tr>\n",
       "    <tr>\n",
       "      <th id=\"T_3d8e4_level0_row1\" class=\"row_heading level0 row1\" >RETAIN</th>\n",
       "      <td id=\"T_3d8e4_row1_col0\" class=\"data row1 col0\" >0.000</td>\n",
       "      <td id=\"T_3d8e4_row1_col1\" class=\"data row1 col1\" >nan</td>\n",
       "      <td id=\"T_3d8e4_row1_col2\" class=\"data row1 col2\" >nan</td>\n",
       "      <td id=\"T_3d8e4_row1_col3\" class=\"data row1 col3\" >nan</td>\n",
       "      <td id=\"T_3d8e4_row1_col4\" class=\"data row1 col4\" >nan</td>\n",
       "    </tr>\n",
       "    <tr>\n",
       "      <th id=\"T_3d8e4_level0_row2\" class=\"row_heading level0 row2\" >GRU</th>\n",
       "      <td id=\"T_3d8e4_row2_col0\" class=\"data row2 col0\" >0.000</td>\n",
       "      <td id=\"T_3d8e4_row2_col1\" class=\"data row2 col1\" >nan</td>\n",
       "      <td id=\"T_3d8e4_row2_col2\" class=\"data row2 col2\" >nan</td>\n",
       "      <td id=\"T_3d8e4_row2_col3\" class=\"data row2 col3\" >nan</td>\n",
       "      <td id=\"T_3d8e4_row2_col4\" class=\"data row2 col4\" >nan</td>\n",
       "    </tr>\n",
       "    <tr>\n",
       "      <th id=\"T_3d8e4_level0_row3\" class=\"row_heading level0 row3\" >ICE-NODE_UNIFORM</th>\n",
       "      <td id=\"T_3d8e4_row3_col0\" class=\"data row3 col0\" >0.000</td>\n",
       "      <td id=\"T_3d8e4_row3_col1\" class=\"data row3 col1\" >nan</td>\n",
       "      <td id=\"T_3d8e4_row3_col2\" class=\"data row3 col2\" >nan</td>\n",
       "      <td id=\"T_3d8e4_row3_col3\" class=\"data row3 col3\" >nan</td>\n",
       "      <td id=\"T_3d8e4_row3_col4\" class=\"data row3 col4\" >nan</td>\n",
       "    </tr>\n",
       "    <tr>\n",
       "      <th id=\"T_3d8e4_level0_row4\" class=\"row_heading level0 row4\" >ICE-NODE</th>\n",
       "      <td id=\"T_3d8e4_row4_col0\" class=\"data row4 col0\" >0.000</td>\n",
       "      <td id=\"T_3d8e4_row4_col1\" class=\"data row4 col1\" >nan</td>\n",
       "      <td id=\"T_3d8e4_row4_col2\" class=\"data row4 col2\" >nan</td>\n",
       "      <td id=\"T_3d8e4_row4_col3\" class=\"data row4 col3\" >nan</td>\n",
       "      <td id=\"T_3d8e4_row4_col4\" class=\"data row4 col4\" >nan</td>\n",
       "    </tr>\n",
       "  </tbody>\n",
       "</table>\n"
      ],
      "text/plain": [
       "<pandas.io.formats.style.Styler at 0x7f78f00b4f70>"
      ]
     },
     "metadata": {},
     "output_type": "display_data"
    },
    {
     "name": "stdout",
     "output_type": "stream",
     "text": [
      "\\begin{tabular}{lrrrrr}\n",
      "{} & {ACC-P0-k3} & {ACC-P1-k3} & {ACC-P2-k3} & {ACC-P3-k3} & {ACC-P4-k3} \\\\\n",
      "\\texttt{LogReg} & {\\cellcolor[HTML]{8E0152}} \\color[HTML]{F1F1F1} 0.000 & {\\cellcolor[HTML]{276419}} \\color[HTML]{F1F1F1} nan & {\\cellcolor[HTML]{276419}} \\color[HTML]{F1F1F1} nan & {\\cellcolor[HTML]{276419}} \\color[HTML]{F1F1F1} nan & {\\cellcolor[HTML]{276419}} \\color[HTML]{F1F1F1} nan \\\\\n",
      "\\texttt{RETAIN} & {\\cellcolor[HTML]{8E0152}} \\color[HTML]{F1F1F1} 0.000 & {\\cellcolor[HTML]{276419}} \\color[HTML]{F1F1F1} nan & {\\cellcolor[HTML]{276419}} \\color[HTML]{F1F1F1} nan & {\\cellcolor[HTML]{276419}} \\color[HTML]{F1F1F1} nan & {\\cellcolor[HTML]{276419}} \\color[HTML]{F1F1F1} nan \\\\\n",
      "\\texttt{GRU} & {\\cellcolor[HTML]{8E0152}} \\color[HTML]{F1F1F1} 0.000 & {\\cellcolor[HTML]{276419}} \\color[HTML]{F1F1F1} nan & {\\cellcolor[HTML]{276419}} \\color[HTML]{F1F1F1} nan & {\\cellcolor[HTML]{276419}} \\color[HTML]{F1F1F1} nan & {\\cellcolor[HTML]{276419}} \\color[HTML]{F1F1F1} nan \\\\\n",
      "\\texttt{\\texttt{ICE-NODE}\\_UNIFORM} & {\\cellcolor[HTML]{8E0152}} \\color[HTML]{F1F1F1} 0.000 & {\\cellcolor[HTML]{276419}} \\color[HTML]{F1F1F1} nan & {\\cellcolor[HTML]{276419}} \\color[HTML]{F1F1F1} nan & {\\cellcolor[HTML]{276419}} \\color[HTML]{F1F1F1} nan & {\\cellcolor[HTML]{276419}} \\color[HTML]{F1F1F1} nan \\\\\n",
      "ICE-NODE & {\\cellcolor[HTML]{8E0152}} \\color[HTML]{F1F1F1} 0.000 & {\\cellcolor[HTML]{276419}} \\color[HTML]{F1F1F1} nan & {\\cellcolor[HTML]{276419}} \\color[HTML]{F1F1F1} nan & {\\cellcolor[HTML]{276419}} \\color[HTML]{F1F1F1} nan & {\\cellcolor[HTML]{276419}} \\color[HTML]{F1F1F1} nan \\\\\n",
      "\\end{tabular}\n",
      "\n"
     ]
    },
    {
     "data": {
      "text/html": [
       "<style type=\"text/css\">\n",
       "#T_e7e47_row0_col0, #T_e7e47_row1_col0, #T_e7e47_row2_col0, #T_e7e47_row3_col0, #T_e7e47_row4_col0 {\n",
       "  background-color: #8e0152;\n",
       "  color: #f1f1f1;\n",
       "}\n",
       "#T_e7e47_row0_col1, #T_e7e47_row0_col2, #T_e7e47_row0_col3, #T_e7e47_row0_col4, #T_e7e47_row1_col1, #T_e7e47_row1_col2, #T_e7e47_row1_col3, #T_e7e47_row1_col4, #T_e7e47_row2_col1, #T_e7e47_row2_col2, #T_e7e47_row2_col3, #T_e7e47_row2_col4, #T_e7e47_row3_col1, #T_e7e47_row3_col2, #T_e7e47_row3_col3, #T_e7e47_row3_col4, #T_e7e47_row4_col1, #T_e7e47_row4_col2, #T_e7e47_row4_col3, #T_e7e47_row4_col4 {\n",
       "  background-color: #276419;\n",
       "  color: #f1f1f1;\n",
       "}\n",
       "</style>\n",
       "<table id=\"T_e7e47_\">\n",
       "  <thead>\n",
       "    <tr>\n",
       "      <th class=\"blank level0\" >&nbsp;</th>\n",
       "      <th class=\"col_heading level0 col0\" >ACC-P0-k5</th>\n",
       "      <th class=\"col_heading level0 col1\" >ACC-P1-k5</th>\n",
       "      <th class=\"col_heading level0 col2\" >ACC-P2-k5</th>\n",
       "      <th class=\"col_heading level0 col3\" >ACC-P3-k5</th>\n",
       "      <th class=\"col_heading level0 col4\" >ACC-P4-k5</th>\n",
       "    </tr>\n",
       "  </thead>\n",
       "  <tbody>\n",
       "    <tr>\n",
       "      <th id=\"T_e7e47_level0_row0\" class=\"row_heading level0 row0\" >LogReg</th>\n",
       "      <td id=\"T_e7e47_row0_col0\" class=\"data row0 col0\" >0.000</td>\n",
       "      <td id=\"T_e7e47_row0_col1\" class=\"data row0 col1\" >nan</td>\n",
       "      <td id=\"T_e7e47_row0_col2\" class=\"data row0 col2\" >nan</td>\n",
       "      <td id=\"T_e7e47_row0_col3\" class=\"data row0 col3\" >nan</td>\n",
       "      <td id=\"T_e7e47_row0_col4\" class=\"data row0 col4\" >nan</td>\n",
       "    </tr>\n",
       "    <tr>\n",
       "      <th id=\"T_e7e47_level0_row1\" class=\"row_heading level0 row1\" >RETAIN</th>\n",
       "      <td id=\"T_e7e47_row1_col0\" class=\"data row1 col0\" >0.000</td>\n",
       "      <td id=\"T_e7e47_row1_col1\" class=\"data row1 col1\" >nan</td>\n",
       "      <td id=\"T_e7e47_row1_col2\" class=\"data row1 col2\" >nan</td>\n",
       "      <td id=\"T_e7e47_row1_col3\" class=\"data row1 col3\" >nan</td>\n",
       "      <td id=\"T_e7e47_row1_col4\" class=\"data row1 col4\" >nan</td>\n",
       "    </tr>\n",
       "    <tr>\n",
       "      <th id=\"T_e7e47_level0_row2\" class=\"row_heading level0 row2\" >GRU</th>\n",
       "      <td id=\"T_e7e47_row2_col0\" class=\"data row2 col0\" >0.000</td>\n",
       "      <td id=\"T_e7e47_row2_col1\" class=\"data row2 col1\" >nan</td>\n",
       "      <td id=\"T_e7e47_row2_col2\" class=\"data row2 col2\" >nan</td>\n",
       "      <td id=\"T_e7e47_row2_col3\" class=\"data row2 col3\" >nan</td>\n",
       "      <td id=\"T_e7e47_row2_col4\" class=\"data row2 col4\" >nan</td>\n",
       "    </tr>\n",
       "    <tr>\n",
       "      <th id=\"T_e7e47_level0_row3\" class=\"row_heading level0 row3\" >ICE-NODE_UNIFORM</th>\n",
       "      <td id=\"T_e7e47_row3_col0\" class=\"data row3 col0\" >0.000</td>\n",
       "      <td id=\"T_e7e47_row3_col1\" class=\"data row3 col1\" >nan</td>\n",
       "      <td id=\"T_e7e47_row3_col2\" class=\"data row3 col2\" >nan</td>\n",
       "      <td id=\"T_e7e47_row3_col3\" class=\"data row3 col3\" >nan</td>\n",
       "      <td id=\"T_e7e47_row3_col4\" class=\"data row3 col4\" >nan</td>\n",
       "    </tr>\n",
       "    <tr>\n",
       "      <th id=\"T_e7e47_level0_row4\" class=\"row_heading level0 row4\" >ICE-NODE</th>\n",
       "      <td id=\"T_e7e47_row4_col0\" class=\"data row4 col0\" >0.000</td>\n",
       "      <td id=\"T_e7e47_row4_col1\" class=\"data row4 col1\" >nan</td>\n",
       "      <td id=\"T_e7e47_row4_col2\" class=\"data row4 col2\" >nan</td>\n",
       "      <td id=\"T_e7e47_row4_col3\" class=\"data row4 col3\" >nan</td>\n",
       "      <td id=\"T_e7e47_row4_col4\" class=\"data row4 col4\" >nan</td>\n",
       "    </tr>\n",
       "  </tbody>\n",
       "</table>\n"
      ],
      "text/plain": [
       "<pandas.io.formats.style.Styler at 0x7f78d84913a0>"
      ]
     },
     "metadata": {},
     "output_type": "display_data"
    },
    {
     "name": "stdout",
     "output_type": "stream",
     "text": [
      "\\begin{tabular}{lrrrrr}\n",
      "{} & {ACC-P0-k5} & {ACC-P1-k5} & {ACC-P2-k5} & {ACC-P3-k5} & {ACC-P4-k5} \\\\\n",
      "\\texttt{LogReg} & {\\cellcolor[HTML]{8E0152}} \\color[HTML]{F1F1F1} 0.000 & {\\cellcolor[HTML]{276419}} \\color[HTML]{F1F1F1} nan & {\\cellcolor[HTML]{276419}} \\color[HTML]{F1F1F1} nan & {\\cellcolor[HTML]{276419}} \\color[HTML]{F1F1F1} nan & {\\cellcolor[HTML]{276419}} \\color[HTML]{F1F1F1} nan \\\\\n",
      "\\texttt{RETAIN} & {\\cellcolor[HTML]{8E0152}} \\color[HTML]{F1F1F1} 0.000 & {\\cellcolor[HTML]{276419}} \\color[HTML]{F1F1F1} nan & {\\cellcolor[HTML]{276419}} \\color[HTML]{F1F1F1} nan & {\\cellcolor[HTML]{276419}} \\color[HTML]{F1F1F1} nan & {\\cellcolor[HTML]{276419}} \\color[HTML]{F1F1F1} nan \\\\\n",
      "\\texttt{GRU} & {\\cellcolor[HTML]{8E0152}} \\color[HTML]{F1F1F1} 0.000 & {\\cellcolor[HTML]{276419}} \\color[HTML]{F1F1F1} nan & {\\cellcolor[HTML]{276419}} \\color[HTML]{F1F1F1} nan & {\\cellcolor[HTML]{276419}} \\color[HTML]{F1F1F1} nan & {\\cellcolor[HTML]{276419}} \\color[HTML]{F1F1F1} nan \\\\\n",
      "\\texttt{\\texttt{ICE-NODE}\\_UNIFORM} & {\\cellcolor[HTML]{8E0152}} \\color[HTML]{F1F1F1} 0.000 & {\\cellcolor[HTML]{276419}} \\color[HTML]{F1F1F1} nan & {\\cellcolor[HTML]{276419}} \\color[HTML]{F1F1F1} nan & {\\cellcolor[HTML]{276419}} \\color[HTML]{F1F1F1} nan & {\\cellcolor[HTML]{276419}} \\color[HTML]{F1F1F1} nan \\\\\n",
      "ICE-NODE & {\\cellcolor[HTML]{8E0152}} \\color[HTML]{F1F1F1} 0.000 & {\\cellcolor[HTML]{276419}} \\color[HTML]{F1F1F1} nan & {\\cellcolor[HTML]{276419}} \\color[HTML]{F1F1F1} nan & {\\cellcolor[HTML]{276419}} \\color[HTML]{F1F1F1} nan & {\\cellcolor[HTML]{276419}} \\color[HTML]{F1F1F1} nan \\\\\n",
      "\\end{tabular}\n",
      "\n"
     ]
    },
    {
     "data": {
      "text/html": [
       "<style type=\"text/css\">\n",
       "#T_90125_row0_col0, #T_90125_row1_col0, #T_90125_row2_col0, #T_90125_row3_col0, #T_90125_row4_col0 {\n",
       "  background-color: #8e0152;\n",
       "  color: #f1f1f1;\n",
       "}\n",
       "#T_90125_row0_col1, #T_90125_row0_col2, #T_90125_row0_col3, #T_90125_row0_col4, #T_90125_row1_col1, #T_90125_row1_col2, #T_90125_row1_col3, #T_90125_row1_col4, #T_90125_row2_col1, #T_90125_row2_col2, #T_90125_row2_col3, #T_90125_row2_col4, #T_90125_row3_col1, #T_90125_row3_col2, #T_90125_row3_col3, #T_90125_row3_col4, #T_90125_row4_col1, #T_90125_row4_col2, #T_90125_row4_col3, #T_90125_row4_col4 {\n",
       "  background-color: #276419;\n",
       "  color: #f1f1f1;\n",
       "}\n",
       "</style>\n",
       "<table id=\"T_90125_\">\n",
       "  <thead>\n",
       "    <tr>\n",
       "      <th class=\"blank level0\" >&nbsp;</th>\n",
       "      <th class=\"col_heading level0 col0\" >ACC-P0-k7</th>\n",
       "      <th class=\"col_heading level0 col1\" >ACC-P1-k7</th>\n",
       "      <th class=\"col_heading level0 col2\" >ACC-P2-k7</th>\n",
       "      <th class=\"col_heading level0 col3\" >ACC-P3-k7</th>\n",
       "      <th class=\"col_heading level0 col4\" >ACC-P4-k7</th>\n",
       "    </tr>\n",
       "  </thead>\n",
       "  <tbody>\n",
       "    <tr>\n",
       "      <th id=\"T_90125_level0_row0\" class=\"row_heading level0 row0\" >LogReg</th>\n",
       "      <td id=\"T_90125_row0_col0\" class=\"data row0 col0\" >0.000</td>\n",
       "      <td id=\"T_90125_row0_col1\" class=\"data row0 col1\" >nan</td>\n",
       "      <td id=\"T_90125_row0_col2\" class=\"data row0 col2\" >nan</td>\n",
       "      <td id=\"T_90125_row0_col3\" class=\"data row0 col3\" >nan</td>\n",
       "      <td id=\"T_90125_row0_col4\" class=\"data row0 col4\" >nan</td>\n",
       "    </tr>\n",
       "    <tr>\n",
       "      <th id=\"T_90125_level0_row1\" class=\"row_heading level0 row1\" >RETAIN</th>\n",
       "      <td id=\"T_90125_row1_col0\" class=\"data row1 col0\" >0.000</td>\n",
       "      <td id=\"T_90125_row1_col1\" class=\"data row1 col1\" >nan</td>\n",
       "      <td id=\"T_90125_row1_col2\" class=\"data row1 col2\" >nan</td>\n",
       "      <td id=\"T_90125_row1_col3\" class=\"data row1 col3\" >nan</td>\n",
       "      <td id=\"T_90125_row1_col4\" class=\"data row1 col4\" >nan</td>\n",
       "    </tr>\n",
       "    <tr>\n",
       "      <th id=\"T_90125_level0_row2\" class=\"row_heading level0 row2\" >GRU</th>\n",
       "      <td id=\"T_90125_row2_col0\" class=\"data row2 col0\" >0.000</td>\n",
       "      <td id=\"T_90125_row2_col1\" class=\"data row2 col1\" >nan</td>\n",
       "      <td id=\"T_90125_row2_col2\" class=\"data row2 col2\" >nan</td>\n",
       "      <td id=\"T_90125_row2_col3\" class=\"data row2 col3\" >nan</td>\n",
       "      <td id=\"T_90125_row2_col4\" class=\"data row2 col4\" >nan</td>\n",
       "    </tr>\n",
       "    <tr>\n",
       "      <th id=\"T_90125_level0_row3\" class=\"row_heading level0 row3\" >ICE-NODE_UNIFORM</th>\n",
       "      <td id=\"T_90125_row3_col0\" class=\"data row3 col0\" >0.000</td>\n",
       "      <td id=\"T_90125_row3_col1\" class=\"data row3 col1\" >nan</td>\n",
       "      <td id=\"T_90125_row3_col2\" class=\"data row3 col2\" >nan</td>\n",
       "      <td id=\"T_90125_row3_col3\" class=\"data row3 col3\" >nan</td>\n",
       "      <td id=\"T_90125_row3_col4\" class=\"data row3 col4\" >nan</td>\n",
       "    </tr>\n",
       "    <tr>\n",
       "      <th id=\"T_90125_level0_row4\" class=\"row_heading level0 row4\" >ICE-NODE</th>\n",
       "      <td id=\"T_90125_row4_col0\" class=\"data row4 col0\" >0.000</td>\n",
       "      <td id=\"T_90125_row4_col1\" class=\"data row4 col1\" >nan</td>\n",
       "      <td id=\"T_90125_row4_col2\" class=\"data row4 col2\" >nan</td>\n",
       "      <td id=\"T_90125_row4_col3\" class=\"data row4 col3\" >nan</td>\n",
       "      <td id=\"T_90125_row4_col4\" class=\"data row4 col4\" >nan</td>\n",
       "    </tr>\n",
       "  </tbody>\n",
       "</table>\n"
      ],
      "text/plain": [
       "<pandas.io.formats.style.Styler at 0x7f78d8491ee0>"
      ]
     },
     "metadata": {},
     "output_type": "display_data"
    },
    {
     "name": "stdout",
     "output_type": "stream",
     "text": [
      "\\begin{tabular}{lrrrrr}\n",
      "{} & {ACC-P0-k7} & {ACC-P1-k7} & {ACC-P2-k7} & {ACC-P3-k7} & {ACC-P4-k7} \\\\\n",
      "\\texttt{LogReg} & {\\cellcolor[HTML]{8E0152}} \\color[HTML]{F1F1F1} 0.000 & {\\cellcolor[HTML]{276419}} \\color[HTML]{F1F1F1} nan & {\\cellcolor[HTML]{276419}} \\color[HTML]{F1F1F1} nan & {\\cellcolor[HTML]{276419}} \\color[HTML]{F1F1F1} nan & {\\cellcolor[HTML]{276419}} \\color[HTML]{F1F1F1} nan \\\\\n",
      "\\texttt{RETAIN} & {\\cellcolor[HTML]{8E0152}} \\color[HTML]{F1F1F1} 0.000 & {\\cellcolor[HTML]{276419}} \\color[HTML]{F1F1F1} nan & {\\cellcolor[HTML]{276419}} \\color[HTML]{F1F1F1} nan & {\\cellcolor[HTML]{276419}} \\color[HTML]{F1F1F1} nan & {\\cellcolor[HTML]{276419}} \\color[HTML]{F1F1F1} nan \\\\\n",
      "\\texttt{GRU} & {\\cellcolor[HTML]{8E0152}} \\color[HTML]{F1F1F1} 0.000 & {\\cellcolor[HTML]{276419}} \\color[HTML]{F1F1F1} nan & {\\cellcolor[HTML]{276419}} \\color[HTML]{F1F1F1} nan & {\\cellcolor[HTML]{276419}} \\color[HTML]{F1F1F1} nan & {\\cellcolor[HTML]{276419}} \\color[HTML]{F1F1F1} nan \\\\\n",
      "\\texttt{\\texttt{ICE-NODE}\\_UNIFORM} & {\\cellcolor[HTML]{8E0152}} \\color[HTML]{F1F1F1} 0.000 & {\\cellcolor[HTML]{276419}} \\color[HTML]{F1F1F1} nan & {\\cellcolor[HTML]{276419}} \\color[HTML]{F1F1F1} nan & {\\cellcolor[HTML]{276419}} \\color[HTML]{F1F1F1} nan & {\\cellcolor[HTML]{276419}} \\color[HTML]{F1F1F1} nan \\\\\n",
      "ICE-NODE & {\\cellcolor[HTML]{8E0152}} \\color[HTML]{F1F1F1} 0.000 & {\\cellcolor[HTML]{276419}} \\color[HTML]{F1F1F1} nan & {\\cellcolor[HTML]{276419}} \\color[HTML]{F1F1F1} nan & {\\cellcolor[HTML]{276419}} \\color[HTML]{F1F1F1} nan & {\\cellcolor[HTML]{276419}} \\color[HTML]{F1F1F1} nan \\\\\n",
      "\\end{tabular}\n",
      "\n"
     ]
    },
    {
     "data": {
      "text/html": [
       "<style type=\"text/css\">\n",
       "#T_7c50a_row0_col0, #T_7c50a_row1_col0, #T_7c50a_row2_col0, #T_7c50a_row3_col0, #T_7c50a_row4_col0 {\n",
       "  background-color: #8e0152;\n",
       "  color: #f1f1f1;\n",
       "}\n",
       "#T_7c50a_row0_col1, #T_7c50a_row0_col2, #T_7c50a_row0_col3, #T_7c50a_row0_col4, #T_7c50a_row1_col1, #T_7c50a_row1_col2, #T_7c50a_row1_col3, #T_7c50a_row1_col4, #T_7c50a_row2_col1, #T_7c50a_row2_col2, #T_7c50a_row2_col3, #T_7c50a_row2_col4, #T_7c50a_row3_col1, #T_7c50a_row3_col2, #T_7c50a_row3_col3, #T_7c50a_row3_col4, #T_7c50a_row4_col1, #T_7c50a_row4_col2, #T_7c50a_row4_col3, #T_7c50a_row4_col4 {\n",
       "  background-color: #276419;\n",
       "  color: #f1f1f1;\n",
       "}\n",
       "</style>\n",
       "<table id=\"T_7c50a_\">\n",
       "  <thead>\n",
       "    <tr>\n",
       "      <th class=\"blank level0\" >&nbsp;</th>\n",
       "      <th class=\"col_heading level0 col0\" >ACC-P0-k10</th>\n",
       "      <th class=\"col_heading level0 col1\" >ACC-P1-k10</th>\n",
       "      <th class=\"col_heading level0 col2\" >ACC-P2-k10</th>\n",
       "      <th class=\"col_heading level0 col3\" >ACC-P3-k10</th>\n",
       "      <th class=\"col_heading level0 col4\" >ACC-P4-k10</th>\n",
       "    </tr>\n",
       "  </thead>\n",
       "  <tbody>\n",
       "    <tr>\n",
       "      <th id=\"T_7c50a_level0_row0\" class=\"row_heading level0 row0\" >LogReg</th>\n",
       "      <td id=\"T_7c50a_row0_col0\" class=\"data row0 col0\" >0.000</td>\n",
       "      <td id=\"T_7c50a_row0_col1\" class=\"data row0 col1\" >nan</td>\n",
       "      <td id=\"T_7c50a_row0_col2\" class=\"data row0 col2\" >nan</td>\n",
       "      <td id=\"T_7c50a_row0_col3\" class=\"data row0 col3\" >nan</td>\n",
       "      <td id=\"T_7c50a_row0_col4\" class=\"data row0 col4\" >nan</td>\n",
       "    </tr>\n",
       "    <tr>\n",
       "      <th id=\"T_7c50a_level0_row1\" class=\"row_heading level0 row1\" >RETAIN</th>\n",
       "      <td id=\"T_7c50a_row1_col0\" class=\"data row1 col0\" >0.000</td>\n",
       "      <td id=\"T_7c50a_row1_col1\" class=\"data row1 col1\" >nan</td>\n",
       "      <td id=\"T_7c50a_row1_col2\" class=\"data row1 col2\" >nan</td>\n",
       "      <td id=\"T_7c50a_row1_col3\" class=\"data row1 col3\" >nan</td>\n",
       "      <td id=\"T_7c50a_row1_col4\" class=\"data row1 col4\" >nan</td>\n",
       "    </tr>\n",
       "    <tr>\n",
       "      <th id=\"T_7c50a_level0_row2\" class=\"row_heading level0 row2\" >GRU</th>\n",
       "      <td id=\"T_7c50a_row2_col0\" class=\"data row2 col0\" >0.000</td>\n",
       "      <td id=\"T_7c50a_row2_col1\" class=\"data row2 col1\" >nan</td>\n",
       "      <td id=\"T_7c50a_row2_col2\" class=\"data row2 col2\" >nan</td>\n",
       "      <td id=\"T_7c50a_row2_col3\" class=\"data row2 col3\" >nan</td>\n",
       "      <td id=\"T_7c50a_row2_col4\" class=\"data row2 col4\" >nan</td>\n",
       "    </tr>\n",
       "    <tr>\n",
       "      <th id=\"T_7c50a_level0_row3\" class=\"row_heading level0 row3\" >ICE-NODE_UNIFORM</th>\n",
       "      <td id=\"T_7c50a_row3_col0\" class=\"data row3 col0\" >0.000</td>\n",
       "      <td id=\"T_7c50a_row3_col1\" class=\"data row3 col1\" >nan</td>\n",
       "      <td id=\"T_7c50a_row3_col2\" class=\"data row3 col2\" >nan</td>\n",
       "      <td id=\"T_7c50a_row3_col3\" class=\"data row3 col3\" >nan</td>\n",
       "      <td id=\"T_7c50a_row3_col4\" class=\"data row3 col4\" >nan</td>\n",
       "    </tr>\n",
       "    <tr>\n",
       "      <th id=\"T_7c50a_level0_row4\" class=\"row_heading level0 row4\" >ICE-NODE</th>\n",
       "      <td id=\"T_7c50a_row4_col0\" class=\"data row4 col0\" >0.000</td>\n",
       "      <td id=\"T_7c50a_row4_col1\" class=\"data row4 col1\" >nan</td>\n",
       "      <td id=\"T_7c50a_row4_col2\" class=\"data row4 col2\" >nan</td>\n",
       "      <td id=\"T_7c50a_row4_col3\" class=\"data row4 col3\" >nan</td>\n",
       "      <td id=\"T_7c50a_row4_col4\" class=\"data row4 col4\" >nan</td>\n",
       "    </tr>\n",
       "  </tbody>\n",
       "</table>\n"
      ],
      "text/plain": [
       "<pandas.io.formats.style.Styler at 0x7f78d80bc580>"
      ]
     },
     "metadata": {},
     "output_type": "display_data"
    },
    {
     "name": "stdout",
     "output_type": "stream",
     "text": [
      "\\begin{tabular}{lrrrrr}\n",
      "{} & {ACC-P0-k10} & {ACC-P1-k10} & {ACC-P2-k10} & {ACC-P3-k10} & {ACC-P4-k10} \\\\\n",
      "\\texttt{LogReg} & {\\cellcolor[HTML]{8E0152}} \\color[HTML]{F1F1F1} 0.000 & {\\cellcolor[HTML]{276419}} \\color[HTML]{F1F1F1} nan & {\\cellcolor[HTML]{276419}} \\color[HTML]{F1F1F1} nan & {\\cellcolor[HTML]{276419}} \\color[HTML]{F1F1F1} nan & {\\cellcolor[HTML]{276419}} \\color[HTML]{F1F1F1} nan \\\\\n",
      "\\texttt{RETAIN} & {\\cellcolor[HTML]{8E0152}} \\color[HTML]{F1F1F1} 0.000 & {\\cellcolor[HTML]{276419}} \\color[HTML]{F1F1F1} nan & {\\cellcolor[HTML]{276419}} \\color[HTML]{F1F1F1} nan & {\\cellcolor[HTML]{276419}} \\color[HTML]{F1F1F1} nan & {\\cellcolor[HTML]{276419}} \\color[HTML]{F1F1F1} nan \\\\\n",
      "\\texttt{GRU} & {\\cellcolor[HTML]{8E0152}} \\color[HTML]{F1F1F1} 0.000 & {\\cellcolor[HTML]{276419}} \\color[HTML]{F1F1F1} nan & {\\cellcolor[HTML]{276419}} \\color[HTML]{F1F1F1} nan & {\\cellcolor[HTML]{276419}} \\color[HTML]{F1F1F1} nan & {\\cellcolor[HTML]{276419}} \\color[HTML]{F1F1F1} nan \\\\\n",
      "\\texttt{\\texttt{ICE-NODE}\\_UNIFORM} & {\\cellcolor[HTML]{8E0152}} \\color[HTML]{F1F1F1} 0.000 & {\\cellcolor[HTML]{276419}} \\color[HTML]{F1F1F1} nan & {\\cellcolor[HTML]{276419}} \\color[HTML]{F1F1F1} nan & {\\cellcolor[HTML]{276419}} \\color[HTML]{F1F1F1} nan & {\\cellcolor[HTML]{276419}} \\color[HTML]{F1F1F1} nan \\\\\n",
      "ICE-NODE & {\\cellcolor[HTML]{8E0152}} \\color[HTML]{F1F1F1} 0.000 & {\\cellcolor[HTML]{276419}} \\color[HTML]{F1F1F1} nan & {\\cellcolor[HTML]{276419}} \\color[HTML]{F1F1F1} nan & {\\cellcolor[HTML]{276419}} \\color[HTML]{F1F1F1} nan & {\\cellcolor[HTML]{276419}} \\color[HTML]{F1F1F1} nan \\\\\n",
      "\\end{tabular}\n",
      "\n"
     ]
    },
    {
     "data": {
      "text/html": [
       "<style type=\"text/css\">\n",
       "#T_6ed64_row0_col0, #T_6ed64_row1_col0, #T_6ed64_row2_col0, #T_6ed64_row3_col0, #T_6ed64_row4_col0 {\n",
       "  background-color: #8e0152;\n",
       "  color: #f1f1f1;\n",
       "}\n",
       "#T_6ed64_row0_col1, #T_6ed64_row0_col2, #T_6ed64_row0_col3, #T_6ed64_row0_col4, #T_6ed64_row1_col1, #T_6ed64_row1_col2, #T_6ed64_row1_col3, #T_6ed64_row1_col4, #T_6ed64_row2_col1, #T_6ed64_row2_col2, #T_6ed64_row2_col3, #T_6ed64_row2_col4, #T_6ed64_row3_col1, #T_6ed64_row3_col2, #T_6ed64_row3_col3, #T_6ed64_row3_col4, #T_6ed64_row4_col1, #T_6ed64_row4_col2, #T_6ed64_row4_col3, #T_6ed64_row4_col4 {\n",
       "  background-color: #276419;\n",
       "  color: #f1f1f1;\n",
       "}\n",
       "</style>\n",
       "<table id=\"T_6ed64_\">\n",
       "  <thead>\n",
       "    <tr>\n",
       "      <th class=\"blank level0\" >&nbsp;</th>\n",
       "      <th class=\"col_heading level0 col0\" >ACC-P0-k15</th>\n",
       "      <th class=\"col_heading level0 col1\" >ACC-P1-k15</th>\n",
       "      <th class=\"col_heading level0 col2\" >ACC-P2-k15</th>\n",
       "      <th class=\"col_heading level0 col3\" >ACC-P3-k15</th>\n",
       "      <th class=\"col_heading level0 col4\" >ACC-P4-k15</th>\n",
       "    </tr>\n",
       "  </thead>\n",
       "  <tbody>\n",
       "    <tr>\n",
       "      <th id=\"T_6ed64_level0_row0\" class=\"row_heading level0 row0\" >LogReg</th>\n",
       "      <td id=\"T_6ed64_row0_col0\" class=\"data row0 col0\" >0.000</td>\n",
       "      <td id=\"T_6ed64_row0_col1\" class=\"data row0 col1\" >nan</td>\n",
       "      <td id=\"T_6ed64_row0_col2\" class=\"data row0 col2\" >nan</td>\n",
       "      <td id=\"T_6ed64_row0_col3\" class=\"data row0 col3\" >nan</td>\n",
       "      <td id=\"T_6ed64_row0_col4\" class=\"data row0 col4\" >nan</td>\n",
       "    </tr>\n",
       "    <tr>\n",
       "      <th id=\"T_6ed64_level0_row1\" class=\"row_heading level0 row1\" >RETAIN</th>\n",
       "      <td id=\"T_6ed64_row1_col0\" class=\"data row1 col0\" >0.000</td>\n",
       "      <td id=\"T_6ed64_row1_col1\" class=\"data row1 col1\" >nan</td>\n",
       "      <td id=\"T_6ed64_row1_col2\" class=\"data row1 col2\" >nan</td>\n",
       "      <td id=\"T_6ed64_row1_col3\" class=\"data row1 col3\" >nan</td>\n",
       "      <td id=\"T_6ed64_row1_col4\" class=\"data row1 col4\" >nan</td>\n",
       "    </tr>\n",
       "    <tr>\n",
       "      <th id=\"T_6ed64_level0_row2\" class=\"row_heading level0 row2\" >GRU</th>\n",
       "      <td id=\"T_6ed64_row2_col0\" class=\"data row2 col0\" >0.000</td>\n",
       "      <td id=\"T_6ed64_row2_col1\" class=\"data row2 col1\" >nan</td>\n",
       "      <td id=\"T_6ed64_row2_col2\" class=\"data row2 col2\" >nan</td>\n",
       "      <td id=\"T_6ed64_row2_col3\" class=\"data row2 col3\" >nan</td>\n",
       "      <td id=\"T_6ed64_row2_col4\" class=\"data row2 col4\" >nan</td>\n",
       "    </tr>\n",
       "    <tr>\n",
       "      <th id=\"T_6ed64_level0_row3\" class=\"row_heading level0 row3\" >ICE-NODE_UNIFORM</th>\n",
       "      <td id=\"T_6ed64_row3_col0\" class=\"data row3 col0\" >0.000</td>\n",
       "      <td id=\"T_6ed64_row3_col1\" class=\"data row3 col1\" >nan</td>\n",
       "      <td id=\"T_6ed64_row3_col2\" class=\"data row3 col2\" >nan</td>\n",
       "      <td id=\"T_6ed64_row3_col3\" class=\"data row3 col3\" >nan</td>\n",
       "      <td id=\"T_6ed64_row3_col4\" class=\"data row3 col4\" >nan</td>\n",
       "    </tr>\n",
       "    <tr>\n",
       "      <th id=\"T_6ed64_level0_row4\" class=\"row_heading level0 row4\" >ICE-NODE</th>\n",
       "      <td id=\"T_6ed64_row4_col0\" class=\"data row4 col0\" >0.000</td>\n",
       "      <td id=\"T_6ed64_row4_col1\" class=\"data row4 col1\" >nan</td>\n",
       "      <td id=\"T_6ed64_row4_col2\" class=\"data row4 col2\" >nan</td>\n",
       "      <td id=\"T_6ed64_row4_col3\" class=\"data row4 col3\" >nan</td>\n",
       "      <td id=\"T_6ed64_row4_col4\" class=\"data row4 col4\" >nan</td>\n",
       "    </tr>\n",
       "  </tbody>\n",
       "</table>\n"
      ],
      "text/plain": [
       "<pandas.io.formats.style.Styler at 0x7f78d80fa400>"
      ]
     },
     "metadata": {},
     "output_type": "display_data"
    },
    {
     "name": "stdout",
     "output_type": "stream",
     "text": [
      "\\begin{tabular}{lrrrrr}\n",
      "{} & {ACC-P0-k15} & {ACC-P1-k15} & {ACC-P2-k15} & {ACC-P3-k15} & {ACC-P4-k15} \\\\\n",
      "\\texttt{LogReg} & {\\cellcolor[HTML]{8E0152}} \\color[HTML]{F1F1F1} 0.000 & {\\cellcolor[HTML]{276419}} \\color[HTML]{F1F1F1} nan & {\\cellcolor[HTML]{276419}} \\color[HTML]{F1F1F1} nan & {\\cellcolor[HTML]{276419}} \\color[HTML]{F1F1F1} nan & {\\cellcolor[HTML]{276419}} \\color[HTML]{F1F1F1} nan \\\\\n",
      "\\texttt{RETAIN} & {\\cellcolor[HTML]{8E0152}} \\color[HTML]{F1F1F1} 0.000 & {\\cellcolor[HTML]{276419}} \\color[HTML]{F1F1F1} nan & {\\cellcolor[HTML]{276419}} \\color[HTML]{F1F1F1} nan & {\\cellcolor[HTML]{276419}} \\color[HTML]{F1F1F1} nan & {\\cellcolor[HTML]{276419}} \\color[HTML]{F1F1F1} nan \\\\\n",
      "\\texttt{GRU} & {\\cellcolor[HTML]{8E0152}} \\color[HTML]{F1F1F1} 0.000 & {\\cellcolor[HTML]{276419}} \\color[HTML]{F1F1F1} nan & {\\cellcolor[HTML]{276419}} \\color[HTML]{F1F1F1} nan & {\\cellcolor[HTML]{276419}} \\color[HTML]{F1F1F1} nan & {\\cellcolor[HTML]{276419}} \\color[HTML]{F1F1F1} nan \\\\\n",
      "\\texttt{\\texttt{ICE-NODE}\\_UNIFORM} & {\\cellcolor[HTML]{8E0152}} \\color[HTML]{F1F1F1} 0.000 & {\\cellcolor[HTML]{276419}} \\color[HTML]{F1F1F1} nan & {\\cellcolor[HTML]{276419}} \\color[HTML]{F1F1F1} nan & {\\cellcolor[HTML]{276419}} \\color[HTML]{F1F1F1} nan & {\\cellcolor[HTML]{276419}} \\color[HTML]{F1F1F1} nan \\\\\n",
      "ICE-NODE & {\\cellcolor[HTML]{8E0152}} \\color[HTML]{F1F1F1} 0.000 & {\\cellcolor[HTML]{276419}} \\color[HTML]{F1F1F1} nan & {\\cellcolor[HTML]{276419}} \\color[HTML]{F1F1F1} nan & {\\cellcolor[HTML]{276419}} \\color[HTML]{F1F1F1} nan & {\\cellcolor[HTML]{276419}} \\color[HTML]{F1F1F1} nan \\\\\n",
      "\\end{tabular}\n",
      "\n"
     ]
    },
    {
     "data": {
      "text/html": [
       "<style type=\"text/css\">\n",
       "#T_17a85_row0_col0, #T_17a85_row1_col0, #T_17a85_row2_col0, #T_17a85_row3_col0, #T_17a85_row4_col0 {\n",
       "  background-color: #8e0152;\n",
       "  color: #f1f1f1;\n",
       "}\n",
       "#T_17a85_row0_col1, #T_17a85_row0_col2, #T_17a85_row0_col3, #T_17a85_row0_col4, #T_17a85_row1_col1, #T_17a85_row1_col2, #T_17a85_row1_col3, #T_17a85_row1_col4, #T_17a85_row2_col1, #T_17a85_row2_col2, #T_17a85_row2_col3, #T_17a85_row2_col4, #T_17a85_row3_col1, #T_17a85_row3_col2, #T_17a85_row3_col3, #T_17a85_row3_col4, #T_17a85_row4_col1, #T_17a85_row4_col2, #T_17a85_row4_col3, #T_17a85_row4_col4 {\n",
       "  background-color: #276419;\n",
       "  color: #f1f1f1;\n",
       "}\n",
       "</style>\n",
       "<table id=\"T_17a85_\">\n",
       "  <thead>\n",
       "    <tr>\n",
       "      <th class=\"blank level0\" >&nbsp;</th>\n",
       "      <th class=\"col_heading level0 col0\" >ACC-P0-k20</th>\n",
       "      <th class=\"col_heading level0 col1\" >ACC-P1-k20</th>\n",
       "      <th class=\"col_heading level0 col2\" >ACC-P2-k20</th>\n",
       "      <th class=\"col_heading level0 col3\" >ACC-P3-k20</th>\n",
       "      <th class=\"col_heading level0 col4\" >ACC-P4-k20</th>\n",
       "    </tr>\n",
       "  </thead>\n",
       "  <tbody>\n",
       "    <tr>\n",
       "      <th id=\"T_17a85_level0_row0\" class=\"row_heading level0 row0\" >LogReg</th>\n",
       "      <td id=\"T_17a85_row0_col0\" class=\"data row0 col0\" >0.000</td>\n",
       "      <td id=\"T_17a85_row0_col1\" class=\"data row0 col1\" >nan</td>\n",
       "      <td id=\"T_17a85_row0_col2\" class=\"data row0 col2\" >nan</td>\n",
       "      <td id=\"T_17a85_row0_col3\" class=\"data row0 col3\" >nan</td>\n",
       "      <td id=\"T_17a85_row0_col4\" class=\"data row0 col4\" >nan</td>\n",
       "    </tr>\n",
       "    <tr>\n",
       "      <th id=\"T_17a85_level0_row1\" class=\"row_heading level0 row1\" >RETAIN</th>\n",
       "      <td id=\"T_17a85_row1_col0\" class=\"data row1 col0\" >0.000</td>\n",
       "      <td id=\"T_17a85_row1_col1\" class=\"data row1 col1\" >nan</td>\n",
       "      <td id=\"T_17a85_row1_col2\" class=\"data row1 col2\" >nan</td>\n",
       "      <td id=\"T_17a85_row1_col3\" class=\"data row1 col3\" >nan</td>\n",
       "      <td id=\"T_17a85_row1_col4\" class=\"data row1 col4\" >nan</td>\n",
       "    </tr>\n",
       "    <tr>\n",
       "      <th id=\"T_17a85_level0_row2\" class=\"row_heading level0 row2\" >GRU</th>\n",
       "      <td id=\"T_17a85_row2_col0\" class=\"data row2 col0\" >0.000</td>\n",
       "      <td id=\"T_17a85_row2_col1\" class=\"data row2 col1\" >nan</td>\n",
       "      <td id=\"T_17a85_row2_col2\" class=\"data row2 col2\" >nan</td>\n",
       "      <td id=\"T_17a85_row2_col3\" class=\"data row2 col3\" >nan</td>\n",
       "      <td id=\"T_17a85_row2_col4\" class=\"data row2 col4\" >nan</td>\n",
       "    </tr>\n",
       "    <tr>\n",
       "      <th id=\"T_17a85_level0_row3\" class=\"row_heading level0 row3\" >ICE-NODE_UNIFORM</th>\n",
       "      <td id=\"T_17a85_row3_col0\" class=\"data row3 col0\" >0.000</td>\n",
       "      <td id=\"T_17a85_row3_col1\" class=\"data row3 col1\" >nan</td>\n",
       "      <td id=\"T_17a85_row3_col2\" class=\"data row3 col2\" >nan</td>\n",
       "      <td id=\"T_17a85_row3_col3\" class=\"data row3 col3\" >nan</td>\n",
       "      <td id=\"T_17a85_row3_col4\" class=\"data row3 col4\" >nan</td>\n",
       "    </tr>\n",
       "    <tr>\n",
       "      <th id=\"T_17a85_level0_row4\" class=\"row_heading level0 row4\" >ICE-NODE</th>\n",
       "      <td id=\"T_17a85_row4_col0\" class=\"data row4 col0\" >0.000</td>\n",
       "      <td id=\"T_17a85_row4_col1\" class=\"data row4 col1\" >nan</td>\n",
       "      <td id=\"T_17a85_row4_col2\" class=\"data row4 col2\" >nan</td>\n",
       "      <td id=\"T_17a85_row4_col3\" class=\"data row4 col3\" >nan</td>\n",
       "      <td id=\"T_17a85_row4_col4\" class=\"data row4 col4\" >nan</td>\n",
       "    </tr>\n",
       "  </tbody>\n",
       "</table>\n"
      ],
      "text/plain": [
       "<pandas.io.formats.style.Styler at 0x7f79083099d0>"
      ]
     },
     "metadata": {},
     "output_type": "display_data"
    },
    {
     "name": "stdout",
     "output_type": "stream",
     "text": [
      "\\begin{tabular}{lrrrrr}\n",
      "{} & {ACC-P0-k20} & {ACC-P1-k20} & {ACC-P2-k20} & {ACC-P3-k20} & {ACC-P4-k20} \\\\\n",
      "\\texttt{LogReg} & {\\cellcolor[HTML]{8E0152}} \\color[HTML]{F1F1F1} 0.000 & {\\cellcolor[HTML]{276419}} \\color[HTML]{F1F1F1} nan & {\\cellcolor[HTML]{276419}} \\color[HTML]{F1F1F1} nan & {\\cellcolor[HTML]{276419}} \\color[HTML]{F1F1F1} nan & {\\cellcolor[HTML]{276419}} \\color[HTML]{F1F1F1} nan \\\\\n",
      "\\texttt{RETAIN} & {\\cellcolor[HTML]{8E0152}} \\color[HTML]{F1F1F1} 0.000 & {\\cellcolor[HTML]{276419}} \\color[HTML]{F1F1F1} nan & {\\cellcolor[HTML]{276419}} \\color[HTML]{F1F1F1} nan & {\\cellcolor[HTML]{276419}} \\color[HTML]{F1F1F1} nan & {\\cellcolor[HTML]{276419}} \\color[HTML]{F1F1F1} nan \\\\\n",
      "\\texttt{GRU} & {\\cellcolor[HTML]{8E0152}} \\color[HTML]{F1F1F1} 0.000 & {\\cellcolor[HTML]{276419}} \\color[HTML]{F1F1F1} nan & {\\cellcolor[HTML]{276419}} \\color[HTML]{F1F1F1} nan & {\\cellcolor[HTML]{276419}} \\color[HTML]{F1F1F1} nan & {\\cellcolor[HTML]{276419}} \\color[HTML]{F1F1F1} nan \\\\\n",
      "\\texttt{\\texttt{ICE-NODE}\\_UNIFORM} & {\\cellcolor[HTML]{8E0152}} \\color[HTML]{F1F1F1} 0.000 & {\\cellcolor[HTML]{276419}} \\color[HTML]{F1F1F1} nan & {\\cellcolor[HTML]{276419}} \\color[HTML]{F1F1F1} nan & {\\cellcolor[HTML]{276419}} \\color[HTML]{F1F1F1} nan & {\\cellcolor[HTML]{276419}} \\color[HTML]{F1F1F1} nan \\\\\n",
      "ICE-NODE & {\\cellcolor[HTML]{8E0152}} \\color[HTML]{F1F1F1} 0.000 & {\\cellcolor[HTML]{276419}} \\color[HTML]{F1F1F1} nan & {\\cellcolor[HTML]{276419}} \\color[HTML]{F1F1F1} nan & {\\cellcolor[HTML]{276419}} \\color[HTML]{F1F1F1} nan & {\\cellcolor[HTML]{276419}} \\color[HTML]{F1F1F1} nan \\\\\n",
      "\\end{tabular}\n",
      "\n"
     ]
    }
   ],
   "source": [
    "table_clfs = ('LogReg', \n",
    "              'RETAIN',\n",
    "              'GRU',\n",
    "              'ICE-NODE_UNIFORM',\n",
    "              'ICE-NODE'\n",
    "              )\n",
    "results_cprd_tables = A.top_k_tables(table_clfs, results_cprd_eval, top_k_list=top_k_list,\n",
    "                                   n_percentiles=n_percentiles, out_prefix=output_dir)"
   ]
  },
  {
   "cell_type": "code",
   "execution_count": 20,
   "id": "272f385b",
   "metadata": {},
   "outputs": [
    {
     "data": {
      "text/html": [
       "<div>\n",
       "<style scoped>\n",
       "    .dataframe tbody tr th:only-of-type {\n",
       "        vertical-align: middle;\n",
       "    }\n",
       "\n",
       "    .dataframe tbody tr th {\n",
       "        vertical-align: top;\n",
       "    }\n",
       "\n",
       "    .dataframe thead th {\n",
       "        text-align: right;\n",
       "    }\n",
       "</style>\n",
       "<table border=\"1\" class=\"dataframe\">\n",
       "  <thead>\n",
       "    <tr style=\"text-align: right;\">\n",
       "      <th></th>\n",
       "      <th>P0(AUC_GRU==AUC_ICE-NODE)</th>\n",
       "      <th>P0(AUC_GRU==AUC_ICE-NODE_UNIFORM)</th>\n",
       "      <th>P0(AUC_GRU==AUC_LogReg)</th>\n",
       "      <th>P0(AUC_GRU==AUC_RETAIN)</th>\n",
       "      <th>P0(AUC_ICE-NODE==AUC_ICE-NODE_UNIFORM)</th>\n",
       "      <th>P0(AUC_ICE-NODE==AUC_LogReg)</th>\n",
       "      <th>P0(AUC_ICE-NODE==AUC_RETAIN)</th>\n",
       "      <th>P0(AUC_ICE-NODE_UNIFORM==AUC_LogReg)</th>\n",
       "      <th>P0(AUC_ICE-NODE_UNIFORM==AUC_RETAIN)</th>\n",
       "      <th>P0(AUC_LogReg==AUC_RETAIN)</th>\n",
       "    </tr>\n",
       "  </thead>\n",
       "  <tbody>\n",
       "  </tbody>\n",
       "</table>\n",
       "</div>"
      ],
      "text/plain": [
       "Empty DataFrame\n",
       "Columns: [P0(AUC_GRU==AUC_ICE-NODE), P0(AUC_GRU==AUC_ICE-NODE_UNIFORM), P0(AUC_GRU==AUC_LogReg), P0(AUC_GRU==AUC_RETAIN), P0(AUC_ICE-NODE==AUC_ICE-NODE_UNIFORM), P0(AUC_ICE-NODE==AUC_LogReg), P0(AUC_ICE-NODE==AUC_RETAIN), P0(AUC_ICE-NODE_UNIFORM==AUC_LogReg), P0(AUC_ICE-NODE_UNIFORM==AUC_RETAIN), P0(AUC_LogReg==AUC_RETAIN)]\n",
       "Index: []"
      ]
     },
     "execution_count": 20,
     "metadata": {},
     "output_type": "execute_result"
    }
   ],
   "source": [
    "competing_tests_df = auctests_cprd[auctests_cprd.CODE_INDEX.isin(cprd_upset_result['indicator_df'][cprd_upset_result['indicator_df']['LogReg']==False].index)]\n",
    "competing_tests_df.loc[:, [col for col in competing_tests_df.columns if col[:2]=='P0']]"
   ]
  },
  {
   "cell_type": "code",
   "execution_count": 21,
   "id": "a6f0ab6a",
   "metadata": {},
   "outputs": [
    {
     "ename": "ValueError",
     "evalue": "cannot convert float NaN to integer",
     "output_type": "error",
     "traceback": [
      "\u001b[0;31m---------------------------------------------------------------------------\u001b[0m",
      "\u001b[0;31mValueError\u001b[0m                                Traceback (most recent call last)",
      "\u001b[0;32m/tmp/ipykernel_1147671/2413050048.py\u001b[0m in \u001b[0;36m<module>\u001b[0;34m\u001b[0m\n\u001b[1;32m      1\u001b[0m \u001b[0mupset_clfs\u001b[0m \u001b[0;34m=\u001b[0m \u001b[0;34m[\u001b[0m\u001b[0;34m'ICE-NODE'\u001b[0m\u001b[0;34m,\u001b[0m \u001b[0;34m'ICE-NODE_UNIFORM'\u001b[0m\u001b[0;34m,\u001b[0m \u001b[0;34m'GRU'\u001b[0m\u001b[0;34m,\u001b[0m \u001b[0;34m'RETAIN'\u001b[0m\u001b[0;34m,\u001b[0m \u001b[0;34m'LogReg'\u001b[0m\u001b[0;34m]\u001b[0m\u001b[0;34m\u001b[0m\u001b[0;34m\u001b[0m\u001b[0m\n\u001b[1;32m      2\u001b[0m \u001b[0;34m\u001b[0m\u001b[0m\n\u001b[0;32m----> 3\u001b[0;31m \u001b[0max\u001b[0m \u001b[0;34m=\u001b[0m \u001b[0mA\u001b[0m\u001b[0;34m.\u001b[0m\u001b[0mselected_auc_barplot\u001b[0m\u001b[0;34m(\u001b[0m\u001b[0mupset_clfs\u001b[0m\u001b[0;34m,\u001b[0m \u001b[0mcompeting_tests_df\u001b[0m\u001b[0;34m,\u001b[0m  \u001b[0mhorizontal\u001b[0m\u001b[0;34m=\u001b[0m\u001b[0;32mTrue\u001b[0m\u001b[0;34m)\u001b[0m\u001b[0;34m\u001b[0m\u001b[0;34m\u001b[0m\u001b[0m\n\u001b[0m\u001b[1;32m      4\u001b[0m ax.legend(fontsize=22, title_fontsize=32,\n\u001b[1;32m      5\u001b[0m           bbox_to_anchor=(-0.02, 1), ncol=2)\n",
      "\u001b[0;32m~/GP/ICE-NODE/notebooks/analysis.py\u001b[0m in \u001b[0;36mselected_auc_barplot\u001b[0;34m(clfs, auctest_df, horizontal, rotate_ccs)\u001b[0m\n\u001b[1;32m    208\u001b[0m     \u001b[0mauc_df\u001b[0m \u001b[0;34m=\u001b[0m \u001b[0mpd\u001b[0m\u001b[0;34m.\u001b[0m\u001b[0mconcat\u001b[0m\u001b[0;34m(\u001b[0m\u001b[0mauc_df\u001b[0m\u001b[0;34m)\u001b[0m\u001b[0;34m\u001b[0m\u001b[0;34m\u001b[0m\u001b[0m\n\u001b[1;32m    209\u001b[0m \u001b[0;34m\u001b[0m\u001b[0m\n\u001b[0;32m--> 210\u001b[0;31m     \u001b[0mmin_auc_tick\u001b[0m \u001b[0;34m=\u001b[0m \u001b[0mint\u001b[0m\u001b[0;34m(\u001b[0m\u001b[0mauc_df\u001b[0m\u001b[0;34m[\u001b[0m\u001b[0;34m'AUC'\u001b[0m\u001b[0;34m]\u001b[0m\u001b[0;34m.\u001b[0m\u001b[0mmin\u001b[0m\u001b[0;34m(\u001b[0m\u001b[0;34m)\u001b[0m \u001b[0;34m*\u001b[0m \u001b[0;36m20\u001b[0m\u001b[0;34m)\u001b[0m \u001b[0;34m/\u001b[0m \u001b[0;36m20\u001b[0m\u001b[0;34m\u001b[0m\u001b[0;34m\u001b[0m\u001b[0m\n\u001b[0m\u001b[1;32m    211\u001b[0m     \u001b[0mmax_auc_tick\u001b[0m \u001b[0;34m=\u001b[0m \u001b[0mint\u001b[0m\u001b[0;34m(\u001b[0m\u001b[0mauc_df\u001b[0m\u001b[0;34m[\u001b[0m\u001b[0;34m'AUC'\u001b[0m\u001b[0;34m]\u001b[0m\u001b[0;34m.\u001b[0m\u001b[0mmax\u001b[0m\u001b[0;34m(\u001b[0m\u001b[0;34m)\u001b[0m \u001b[0;34m*\u001b[0m \u001b[0;36m20\u001b[0m \u001b[0;34m+\u001b[0m \u001b[0;36m1\u001b[0m\u001b[0;34m)\u001b[0m \u001b[0;34m/\u001b[0m \u001b[0;36m20\u001b[0m\u001b[0;34m\u001b[0m\u001b[0;34m\u001b[0m\u001b[0m\n\u001b[1;32m    212\u001b[0m \u001b[0;34m\u001b[0m\u001b[0m\n",
      "\u001b[0;31mValueError\u001b[0m: cannot convert float NaN to integer"
     ]
    }
   ],
   "source": [
    "upset_clfs = ['ICE-NODE', 'ICE-NODE_UNIFORM', 'GRU', 'RETAIN', 'LogReg']\n",
    "\n",
    "ax = A.selected_auc_barplot(upset_clfs, competing_tests_df, horizontal=True)\n",
    "ax.legend(fontsize=22, title_fontsize=32,\n",
    "          bbox_to_anchor=(-0.02, 1), ncol=2)\n",
    "plt.xticks(fontsize=30)\n",
    "plt.yticks(fontsize=30)\n",
    "\n",
    "current_figure = plt.gcf()\n",
    "# w, h = 4, 4\n",
    "# wi, hi = current_figure.get_size_inches()\n",
    "# current_figure.set_size_inches(hi*(w/h), hi)\n",
    "\n",
    "current_figure.savefig(f\"{output_dir}/icenode_cprd.pdf\", bbox_inches='tight')\n",
    "plt.show()\n"
   ]
  },
  {
   "cell_type": "markdown",
   "id": "86634c4c",
   "metadata": {},
   "source": [
    "## Trajectories for Patients with CCS codes best predicted with ICENODE"
   ]
  },
  {
   "cell_type": "markdown",
   "id": "fcfc4c29",
   "metadata": {},
   "source": [
    "### Analyse AUC for Each Admission in the Test Partition"
   ]
  },
  {
   "cell_type": "code",
   "execution_count": 34,
   "id": "5df33d48",
   "metadata": {},
   "outputs": [],
   "source": [
    "def admissions_auc_scores(model, test_ids):\n",
    "    model, state = model\n",
    "    return model.admissions_auc_scores(state, test_ids)"
   ]
  },
  {
   "cell_type": "code",
   "execution_count": 35,
   "id": "d075dda5",
   "metadata": {},
   "outputs": [],
   "source": [
    "m4_icenode_visit_auc_df = admissions_auc_scores(m4_predictors['ICE-NODE'], m4_test_ids)\n",
    "m4_icenode_visit_auc_df['N_VISITS'] = m4_icenode_visit_auc_df['SUBJECT_ID'].apply(lambda i: (m4_icenode_visit_auc_df['SUBJECT_ID'] == i).sum())"
   ]
  },
  {
   "cell_type": "code",
   "execution_count": 36,
   "id": "bd1cbeb0",
   "metadata": {},
   "outputs": [],
   "source": [
    "m4_visit_auc_subject = m4_icenode_visit_auc_df.groupby('SUBJECT_ID').agg(\n",
    "    {'AUC': 'mean', \n",
    "     'N_VISITS': 'max', \n",
    "     'N_CODES': ['min', 'max', 'mean', 'median'], \n",
    "     'INTERVALS': ['mean', 'max', 'min'] })"
   ]
  },
  {
   "cell_type": "code",
   "execution_count": 37,
   "id": "ee81ee97",
   "metadata": {},
   "outputs": [],
   "source": [
    "m4m3_icenode_visit_auc_df = admissions_auc_scores(m4m3_predictors['ICE-NODE'], m3_interface.subjects.keys())\n",
    "m4m3_icenode_visit_auc_df['N_VISITS'] = m4m3_icenode_visit_auc_df['SUBJECT_ID'].apply(lambda i: (m4m3_icenode_visit_auc_df['SUBJECT_ID'] == i).sum())\n",
    "m4m3_visit_auc_subject = m4m3_icenode_visit_auc_df.groupby('SUBJECT_ID').agg(\n",
    "    {'AUC': 'mean', \n",
    "     'N_VISITS': 'max', \n",
    "     'N_CODES': ['min', 'max', 'mean', 'median'], \n",
    "     'INTERVALS': ['mean', 'max', 'min']\n",
    "    })\n"
   ]
  },
  {
   "cell_type": "code",
   "execution_count": 38,
   "id": "546ed05c",
   "metadata": {},
   "outputs": [],
   "source": [
    "m4_best_visit_auc_subjects =  m4_visit_auc_subject[(m4_visit_auc_subject.N_VISITS['max'] > 2) & (m4_visit_auc_subject.INTERVALS['max'] < 150)]\n",
    "m4m3_best_visit_auc_subjects =  m4m3_visit_auc_subject[(m4m3_visit_auc_subject.N_VISITS['max'] > 1) & (m4m3_visit_auc_subject.INTERVALS['max'] < 150)]\n"
   ]
  },
  {
   "cell_type": "code",
   "execution_count": 39,
   "id": "429952cb",
   "metadata": {},
   "outputs": [
    {
     "data": {
      "text/plain": [
       "(365, 220)"
      ]
     },
     "execution_count": 39,
     "metadata": {},
     "output_type": "execute_result"
    }
   ],
   "source": [
    "len(m4_best_visit_auc_subjects), len(m4m3_best_visit_auc_subjects)"
   ]
  },
  {
   "cell_type": "code",
   "execution_count": 40,
   "id": "aabfcd46",
   "metadata": {},
   "outputs": [],
   "source": [
    "m4_ccs_history = {i: m4_interface.dx_flatccs_history(i) for i in m4_best_visit_auc_subjects.index}\n",
    "m4m3_ccs_history = {i: m3_interface.dx_flatccs_history(i) for i in m4m3_best_visit_auc_subjects.index}\n",
    "\n",
    "m4_ccs_idx_frequency = m4_interface.dx_flatccs_frequency(list(m4_best_visit_auc_subjects.index))\n",
    "m3_ccs_idx_frequency = m3_interface.dx_flatccs_frequency(list(m4m3_best_visit_auc_subjects.index))"
   ]
  },
  {
   "cell_type": "code",
   "execution_count": 41,
   "id": "37e6927d",
   "metadata": {},
   "outputs": [
    {
     "data": {
      "text/plain": [
       "(51, 74)"
      ]
     },
     "execution_count": 41,
     "metadata": {},
     "output_type": "execute_result"
    }
   ],
   "source": [
    "m4_history_all_ccs_codes = set(map(C.ccs_dag.dx_flatccs_idx.get, set.union(*[set(h.keys()) for h in m4_ccs_history.values()])))\n",
    "m3_history_all_ccs_codes = set(map(C.ccs_dag.dx_flatccs_idx.get, set.union(*[set(h.keys()) for h in m4m3_ccs_history.values()])))\n",
    "m4_history_all_ccs_codes = {idx for idx in m4_history_all_ccs_codes if m4_ccs_idx_frequency[idx] < 10}\n",
    "m3_history_all_ccs_codes = {idx for idx in m3_history_all_ccs_codes if m3_ccs_idx_frequency[idx] < 10}\n",
    "\n",
    "len(m4_history_all_ccs_codes), len(m3_history_all_ccs_codes)"
   ]
  },
  {
   "cell_type": "code",
   "execution_count": 42,
   "id": "dcf1af53",
   "metadata": {},
   "outputs": [
    {
     "data": {
      "text/html": [
       "<div>\n",
       "<style scoped>\n",
       "    .dataframe tbody tr th:only-of-type {\n",
       "        vertical-align: middle;\n",
       "    }\n",
       "\n",
       "    .dataframe tbody tr th {\n",
       "        vertical-align: top;\n",
       "    }\n",
       "\n",
       "    .dataframe thead th {\n",
       "        text-align: right;\n",
       "    }\n",
       "</style>\n",
       "<table border=\"1\" class=\"dataframe\">\n",
       "  <thead>\n",
       "    <tr style=\"text-align: right;\">\n",
       "      <th></th>\n",
       "      <th>N_POSITIVE_CODES</th>\n",
       "      <th>AUC(ICE-NODE)</th>\n",
       "      <th>DESC</th>\n",
       "    </tr>\n",
       "  </thead>\n",
       "  <tbody>\n",
       "    <tr>\n",
       "      <th>173</th>\n",
       "      <td>1790.0</td>\n",
       "      <td>0.941892</td>\n",
       "      <td>Non-Hodg lym</td>\n",
       "    </tr>\n",
       "    <tr>\n",
       "      <th>168</th>\n",
       "      <td>520.0</td>\n",
       "      <td>0.951321</td>\n",
       "      <td>Kidny/rnl ca</td>\n",
       "    </tr>\n",
       "    <tr>\n",
       "      <th>216</th>\n",
       "      <td>244.0</td>\n",
       "      <td>0.974325</td>\n",
       "      <td>Meningitis</td>\n",
       "    </tr>\n",
       "    <tr>\n",
       "      <th>169</th>\n",
       "      <td>181.0</td>\n",
       "      <td>0.942847</td>\n",
       "      <td>Uriny org ca</td>\n",
       "    </tr>\n",
       "    <tr>\n",
       "      <th>156</th>\n",
       "      <td>148.0</td>\n",
       "      <td>0.965231</td>\n",
       "      <td>Uterus cancr</td>\n",
       "    </tr>\n",
       "    <tr>\n",
       "      <th>165</th>\n",
       "      <td>146.0</td>\n",
       "      <td>0.957154</td>\n",
       "      <td>Testis cancr</td>\n",
       "    </tr>\n",
       "    <tr>\n",
       "      <th>171</th>\n",
       "      <td>89.0</td>\n",
       "      <td>0.940833</td>\n",
       "      <td>Thyroid cncr</td>\n",
       "    </tr>\n",
       "    <tr>\n",
       "      <th>100</th>\n",
       "      <td>84.0</td>\n",
       "      <td>0.952710</td>\n",
       "      <td>Brnch/lng ca</td>\n",
       "    </tr>\n",
       "    <tr>\n",
       "      <th>167</th>\n",
       "      <td>67.0</td>\n",
       "      <td>0.957488</td>\n",
       "      <td>Bladder cncr</td>\n",
       "    </tr>\n",
       "  </tbody>\n",
       "</table>\n",
       "</div>"
      ],
      "text/plain": [
       "     N_POSITIVE_CODES  AUC(ICE-NODE)          DESC\n",
       "173            1790.0       0.941892  Non-Hodg lym\n",
       "168             520.0       0.951321  Kidny/rnl ca\n",
       "216             244.0       0.974325    Meningitis\n",
       "169             181.0       0.942847  Uriny org ca\n",
       "156             148.0       0.965231  Uterus cancr\n",
       "165             146.0       0.957154  Testis cancr\n",
       "171              89.0       0.940833  Thyroid cncr\n",
       "100              84.0       0.952710  Brnch/lng ca\n",
       "167              67.0       0.957488  Bladder cncr"
      ]
     },
     "execution_count": 42,
     "metadata": {},
     "output_type": "execute_result"
    }
   ],
   "source": [
    "icenode_m4_competent = upsetcontents_m4['ICE-NODE'] \n",
    "icenode_m4_competent = auctests_m4[auctests_m4['CODE_INDEX'].isin(icenode_m4_competent)]\n",
    "icenode_m4_competent = icenode_m4_competent[['N_POSITIVE_CODES', 'AUC(ICE-NODE)', 'DESC']].sort_values('N_POSITIVE_CODES',ascending=False)\n",
    "# icenode_m4_competent.head(50)\n",
    "trajectory_ccs_codes_level2 = [\n",
    "    173, 168, 169, 156, 165, 216, 171, 100, 167\n",
    "]\n",
    "icenode_m4_competent[icenode_m4_competent.index.isin(trajectory_ccs_codes_level2)]"
   ]
  },
  {
   "cell_type": "code",
   "execution_count": 43,
   "id": "0abd5e72",
   "metadata": {},
   "outputs": [],
   "source": [
    "trajectory_ccs_codes_level1 = [\n",
    "    64, #renal fail \n",
    "    6, # pulm heart dx\n",
    "    236, # ear dx \n",
    "]\n"
   ]
  },
  {
   "cell_type": "code",
   "execution_count": 44,
   "id": "a6524fc6",
   "metadata": {},
   "outputs": [],
   "source": [
    "m4_ccs_history_level1 = {i: history for i, history in m4_ccs_history.items() \n",
    "                         if len(set(map(A.dx_flatccs_idx2code.get, trajectory_ccs_codes_level1)) & set(history.keys())) > 0}\n",
    "m4m3_ccs_history_level1 = {i: history for i, history in m4m3_ccs_history.items() \n",
    "                         if len(set(map(A.dx_flatccs_idx2code.get, trajectory_ccs_codes_level1)) & set(history.keys())) > 0}\n",
    "\n",
    "m4_ccs_history_level2 = {i: history for i, history in m4_ccs_history.items() \n",
    "                         if len(set(map(A.dx_flatccs_idx2code.get, trajectory_ccs_codes_level2)) & set(history.keys())) > 0}\n",
    "m4m3_ccs_history_level2 = {i: history for i, history in m4m3_ccs_history.items() \n",
    "                         if len(set(map(A.dx_flatccs_idx2code.get, trajectory_ccs_codes_level2)) & set(history.keys())) > 0}"
   ]
  },
  {
   "cell_type": "code",
   "execution_count": 45,
   "id": "246fdc86",
   "metadata": {},
   "outputs": [
    {
     "data": {
      "text/plain": [
       "(180, 115, 68, 35)"
      ]
     },
     "execution_count": 45,
     "metadata": {},
     "output_type": "execute_result"
    }
   ],
   "source": [
    "len(m4_ccs_history_level1), len(m4m3_ccs_history_level1), len(m4_ccs_history_level2), len(m4m3_ccs_history_level2) \n"
   ]
  },
  {
   "cell_type": "code",
   "execution_count": 46,
   "id": "4b952bcd",
   "metadata": {},
   "outputs": [
    {
     "data": {
      "text/plain": [
       "(206, 131)"
      ]
     },
     "execution_count": 46,
     "metadata": {},
     "output_type": "execute_result"
    }
   ],
   "source": [
    "m4_cases = set(m4_ccs_history_level1.keys()) | set(m4_ccs_history_level2.keys())\n",
    "m4m3_cases = set(m4m3_ccs_history_level1.keys()) | set(m4m3_ccs_history_level2.keys())\n",
    "len(m4_cases), len(m4m3_cases)"
   ]
  },
  {
   "cell_type": "code",
   "execution_count": 47,
   "id": "8d35ce59",
   "metadata": {},
   "outputs": [
    {
     "name": "stderr",
     "output_type": "stream",
     "text": [
      "  0%|                                                    | 0/22 [00:00<?, ?it/s]/home/asem/GP/ICENODE/notebooks/../icenode/ehr_predictive/dx_icenode_tl.py:412: FutureWarning: Using a non-tuple sequence for multidimensional indexing is deprecated; use `arr[tuple(seq)]` instead of `arr[seq]`. In the future this will be interpreted as an array index, `arr[np.array(seq)]`, which will result either in an error or a different result.\n",
      "  pos[[top10_idx]] = 1\n",
      "100%|███████████████████████████████████████████| 22/22 [34:49<00:00, 94.97s/it]\n"
     ]
    }
   ],
   "source": [
    "m4_icenode, m4_icenode_state = m4_predictors['ICE-NODE']\n",
    "m4_trajectory = m4_icenode.sample_trajectory(m4_icenode_state, m4_cases, 1)"
   ]
  },
  {
   "cell_type": "code",
   "execution_count": 48,
   "id": "8cfc4ec3",
   "metadata": {},
   "outputs": [
    {
     "name": "stderr",
     "output_type": "stream",
     "text": [
      "100%|█████████████████████████████████████████████| 9/9 [12:57<00:00, 86.38s/it]\n"
     ]
    }
   ],
   "source": [
    "m4m3_icenode, m4m3_icenode_state = m4m3_predictors['ICE-NODE']\n",
    "m4m3_trajectory = m4m3_icenode.sample_trajectory(m4m3_icenode_state, m4m3_cases, 1)"
   ]
  },
  {
   "cell_type": "code",
   "execution_count": 49,
   "id": "637b96e5",
   "metadata": {},
   "outputs": [],
   "source": [
    "# m4_selected_subjects = [\n",
    "#     13798593, #acute-renal\n",
    "#     13965528, #acute-renal\n",
    "#     11907876, #pulmonary heart dx\n",
    "#     13557547, #ear dx\n",
    "#     10139504, #acute renal fail\n",
    "#     12367864, #pulomonary-heart dx\n",
    "# ]\n",
    "\n",
    "# m4_selected_trajectory = {i: m4_trajectory[i] for i in m4_selected_subjects}\n",
    "\n",
    "# m3_selected_subjects = [\n",
    "#     50093 #pulmonary-heart dx\n",
    "# ]\n",
    "\n",
    "# m3_selected_trajectory = {i: m4m3_trajectory[i] for i in m3_selected_subjects}\n"
   ]
  },
  {
   "cell_type": "code",
   "execution_count": 174,
   "id": "e95b021c",
   "metadata": {},
   "outputs": [],
   "source": [
    "import random\n",
    "\n",
    "trajectory_ccs_codes_level1 = [\n",
    "    64, #renal fail \n",
    "    6, # pulm heart dx\n",
    "    236, # ear dx \n",
    "    # Others\n",
    "    100, # Brnch/lng ca\n",
    "    168, # Kidney/rnl ca\n",
    "    194, # Immunity dx\n",
    "]\n",
    "\n",
    "\n",
    "\n",
    "# icenode_m4_competent.head(50)\n",
    "trajectory_ccs_codes_level2 = [\n",
    "    173, 168, 169, 156, 165, 216, 171, 100, 167\n",
    "]\n",
    "\n",
    "random.seed(42)\n",
    "ccs_color = {\n",
    "    6: 'blue',\n",
    "    64: 'purple',\n",
    "    236: 'orange',\n",
    "    # Others\n",
    "    100: 'salmon', # Brnch/lng ca\n",
    "    168: 'navy', # Kidney/rnl ca\n",
    "    194: 'pink', # Immunity dx\n",
    "    **{idx: \"#\"+''.join([random.choice('0123456789ABCDEF') for j in range(6)])\n",
    "                   for idx in trajectory_ccs_codes_level2}\n",
    "}\n",
    "\n",
    "\n",
    "plt.rcParams['figure.figsize'] = (10, 7)\n",
    "\n"
   ]
  },
  {
   "cell_type": "code",
   "execution_count": 183,
   "id": "5bcce07b",
   "metadata": {},
   "outputs": [
    {
     "name": "stderr",
     "output_type": "stream",
     "text": [
      "/home/asem/GP/ICENODE/notebooks/analysis.py:443: RuntimeWarning: More than 20 figures have been opened. Figures created through the pyplot interface (`matplotlib.pyplot.figure`) are retained until explicitly closed and may consume too much memory. (To control this warning, see the rcParam `figure.max_open_warning`).\n",
      "  plt.figure(i)\n"
     ]
    }
   ],
   "source": [
    "plt.close('all')\n",
    "for data_label, interface, trajectory_set in zip([\"M4\", \"M3\"], [m4_interface, m3_interface], [m4_trajectory, m4m3_trajectory]):\n",
    "    for indices_label, ccs_indices in zip([\"L1\", \"L2\", \"L1UL2\"], [trajectory_ccs_codes_level1, trajectory_ccs_codes_level2, trajectory_ccs_codes_level1 + trajectory_ccs_codes_level2]):\n",
    "        out_dir = f'{output_dir}/trajectories/{data_label}_{indices_label}' \n",
    "        Path(out_dir).mkdir(parents=True, exist_ok=True)\n",
    "        A.plot_trajectory(trajectories=trajectory_set, \n",
    "                          interface=interface, \n",
    "                          flatccs_selection=ccs_indices, \n",
    "                          ccs_color=ccs_color,\n",
    "                          out_dir=out_dir)"
   ]
  },
  {
   "cell_type": "code",
   "execution_count": null,
   "id": "6ed7f64d",
   "metadata": {},
   "outputs": [],
   "source": []
  }
 ],
 "metadata": {
  "kernelspec": {
   "display_name": "Python 3 (ipykernel)",
   "language": "python",
   "name": "python3"
  },
  "language_info": {
   "codemirror_mode": {
    "name": "ipython",
    "version": 3
   },
   "file_extension": ".py",
   "mimetype": "text/x-python",
   "name": "python",
   "nbconvert_exporter": "python",
   "pygments_lexer": "ipython3",
   "version": "3.8.13"
  }
 },
 "nbformat": 4,
 "nbformat_minor": 5
}
