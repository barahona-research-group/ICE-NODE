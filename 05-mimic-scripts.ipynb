{
 "cells": [
  {
   "cell_type": "code",
   "execution_count": 1,
   "id": "b1f8363b",
   "metadata": {},
   "outputs": [],
   "source": [
    "import numpy as np\n",
    "import pandas as pd\n",
    "import json\n",
    "import collections\n",
    "from collections import defaultdict \n",
    "from functools import partial\n",
    "import networkx as nx\n",
    "import matplotlib.pyplot as plt\n",
    "import seaborn as sns\n",
    "from tqdm import tqdm\n"
   ]
  },
  {
   "cell_type": "code",
   "execution_count": 2,
   "id": "a96bc0f4",
   "metadata": {},
   "outputs": [
    {
     "data": {
      "text/plain": [
       "<module 'mimicnet.concept' from '/home/asem/GP/MIMIC-SNONET/mimicnet/concept.py'>"
      ]
     },
     "execution_count": 2,
     "metadata": {},
     "output_type": "execute_result"
    }
   ],
   "source": [
    "# Good read: https://iq-inc.com/importerror-attempted-relative-import/\n",
    "\n",
    "import sys\n",
    "import importlib\n",
    "from mimicnet import concept\n",
    "\n",
    "importlib.reload(sys.modules['mimicnet.concept'])"
   ]
  },
  {
   "cell_type": "code",
   "execution_count": 3,
   "id": "30684963",
   "metadata": {},
   "outputs": [],
   "source": [
    "# multi_visit_mimic_dir = '/home/am8520/GP/ehr-data/mimic3-multi-visit'\n",
    "multi_visit_mimic_dir = '/home/asem/GP/ehr-data/mimic3-multi-visit'\n",
    "transformed_mimic_dir = '/home/asem/GP/ehr-data/mimic3-transforms'\n",
    "mimic_dir = '/home/asem/GP/ehr-data/mimic3-v1.4/physionet.org/files/mimiciii/1.4'"
   ]
  },
  {
   "cell_type": "code",
   "execution_count": 4,
   "id": "0502a2e1",
   "metadata": {},
   "outputs": [],
   "source": [
    "D_LABITEMS = pd.read_csv(f'{mimic_dir}/D_LABITEMS.csv.gz')\n",
    "D_ITEMS = pd.read_csv(f'{mimic_dir}/D_ITEMS.csv.gz')\n",
    "D_TEST = pd.concat([D_LABITEMS, D_ITEMS], join='inner')\n",
    "test_label_dict = dict(zip(D_TEST.ITEMID, D_TEST.LABEL))\n",
    "test_cat_dict = dict(zip(D_TEST.ITEMID, D_TEST.CATEGORY))"
   ]
  },
  {
   "cell_type": "code",
   "execution_count": 5,
   "id": "5060fb5e",
   "metadata": {},
   "outputs": [],
   "source": [
    "static_df = pd.read_csv(f'{transformed_mimic_dir}/static_df.csv.gz')\n",
    "adm_df = pd.read_csv(f'{transformed_mimic_dir}/adm_df.csv.gz')\n",
    "diag_df = pd.read_csv(f'{transformed_mimic_dir}/diag_df.csv.gz')\n",
    "proc_df = pd.read_csv(f'{transformed_mimic_dir}/proc_df.csv.gz')\n",
    "test_df = pd.read_csv(f'{transformed_mimic_dir}/test_df.csv.gz')\n"
   ]
  },
  {
   "cell_type": "code",
   "execution_count": 7,
   "id": "1c8def8b",
   "metadata": {},
   "outputs": [
    {
     "data": {
      "text/plain": [
       "7"
      ]
     },
     "execution_count": 7,
     "metadata": {},
     "output_type": "execute_result"
    }
   ],
   "source": [
    "static_df.ETHNIC_GROUP.nunique()"
   ]
  },
  {
   "cell_type": "code",
   "execution_count": 8,
   "id": "b3d21d86",
   "metadata": {},
   "outputs": [
    {
     "data": {
      "text/html": [
       "<div>\n",
       "<style scoped>\n",
       "    .dataframe tbody tr th:only-of-type {\n",
       "        vertical-align: middle;\n",
       "    }\n",
       "\n",
       "    .dataframe tbody tr th {\n",
       "        vertical-align: top;\n",
       "    }\n",
       "\n",
       "    .dataframe thead th {\n",
       "        text-align: right;\n",
       "    }\n",
       "</style>\n",
       "<table border=\"1\" class=\"dataframe\">\n",
       "  <thead>\n",
       "    <tr style=\"text-align: right;\">\n",
       "      <th></th>\n",
       "      <th>SUBJECT_ID</th>\n",
       "      <th>HADM_ID</th>\n",
       "      <th>ICD9_CODE</th>\n",
       "    </tr>\n",
       "  </thead>\n",
       "  <tbody>\n",
       "    <tr>\n",
       "      <th>0</th>\n",
       "      <td>112</td>\n",
       "      <td>174105</td>\n",
       "      <td>53100</td>\n",
       "    </tr>\n",
       "    <tr>\n",
       "      <th>1</th>\n",
       "      <td>112</td>\n",
       "      <td>174105</td>\n",
       "      <td>41071</td>\n",
       "    </tr>\n",
       "    <tr>\n",
       "      <th>2</th>\n",
       "      <td>112</td>\n",
       "      <td>174105</td>\n",
       "      <td>2859</td>\n",
       "    </tr>\n",
       "    <tr>\n",
       "      <th>3</th>\n",
       "      <td>112</td>\n",
       "      <td>174105</td>\n",
       "      <td>41401</td>\n",
       "    </tr>\n",
       "    <tr>\n",
       "      <th>4</th>\n",
       "      <td>112</td>\n",
       "      <td>174105</td>\n",
       "      <td>725</td>\n",
       "    </tr>\n",
       "    <tr>\n",
       "      <th>...</th>\n",
       "      <td>...</td>\n",
       "      <td>...</td>\n",
       "      <td>...</td>\n",
       "    </tr>\n",
       "    <tr>\n",
       "      <th>122612</th>\n",
       "      <td>97488</td>\n",
       "      <td>161999</td>\n",
       "      <td>0414</td>\n",
       "    </tr>\n",
       "    <tr>\n",
       "      <th>122613</th>\n",
       "      <td>97488</td>\n",
       "      <td>161999</td>\n",
       "      <td>30391</td>\n",
       "    </tr>\n",
       "    <tr>\n",
       "      <th>122614</th>\n",
       "      <td>97488</td>\n",
       "      <td>161999</td>\n",
       "      <td>E8798</td>\n",
       "    </tr>\n",
       "    <tr>\n",
       "      <th>122615</th>\n",
       "      <td>97488</td>\n",
       "      <td>161999</td>\n",
       "      <td>78791</td>\n",
       "    </tr>\n",
       "    <tr>\n",
       "      <th>122616</th>\n",
       "      <td>97488</td>\n",
       "      <td>161999</td>\n",
       "      <td>V4986</td>\n",
       "    </tr>\n",
       "  </tbody>\n",
       "</table>\n",
       "<p>122617 rows × 3 columns</p>\n",
       "</div>"
      ],
      "text/plain": [
       "        SUBJECT_ID  HADM_ID ICD9_CODE\n",
       "0              112   174105     53100\n",
       "1              112   174105     41071\n",
       "2              112   174105      2859\n",
       "3              112   174105     41401\n",
       "4              112   174105       725\n",
       "...            ...      ...       ...\n",
       "122612       97488   161999      0414\n",
       "122613       97488   161999     30391\n",
       "122614       97488   161999     E8798\n",
       "122615       97488   161999     78791\n",
       "122616       97488   161999     V4986\n",
       "\n",
       "[122617 rows x 3 columns]"
      ]
     },
     "execution_count": 8,
     "metadata": {},
     "output_type": "execute_result"
    }
   ],
   "source": [
    "diag_df"
   ]
  },
  {
   "cell_type": "code",
   "execution_count": 9,
   "id": "d0e9ab3e",
   "metadata": {},
   "outputs": [
    {
     "data": {
      "text/html": [
       "<div>\n",
       "<style scoped>\n",
       "    .dataframe tbody tr th:only-of-type {\n",
       "        vertical-align: middle;\n",
       "    }\n",
       "\n",
       "    .dataframe tbody tr th {\n",
       "        vertical-align: top;\n",
       "    }\n",
       "\n",
       "    .dataframe thead th {\n",
       "        text-align: right;\n",
       "    }\n",
       "</style>\n",
       "<table border=\"1\" class=\"dataframe\">\n",
       "  <thead>\n",
       "    <tr style=\"text-align: right;\">\n",
       "      <th></th>\n",
       "      <th>SUBJECT_ID</th>\n",
       "      <th>ITEMID</th>\n",
       "      <th>DATE</th>\n",
       "      <th>VALUE</th>\n",
       "    </tr>\n",
       "  </thead>\n",
       "  <tbody>\n",
       "    <tr>\n",
       "      <th>0</th>\n",
       "      <td>17</td>\n",
       "      <td>50852</td>\n",
       "      <td>2134-12-22</td>\n",
       "      <td>-1.205210</td>\n",
       "    </tr>\n",
       "    <tr>\n",
       "      <th>1</th>\n",
       "      <td>17</td>\n",
       "      <td>50861</td>\n",
       "      <td>2134-12-22</td>\n",
       "      <td>-0.813846</td>\n",
       "    </tr>\n",
       "    <tr>\n",
       "      <th>2</th>\n",
       "      <td>17</td>\n",
       "      <td>50862</td>\n",
       "      <td>2134-12-22</td>\n",
       "      <td>1.632823</td>\n",
       "    </tr>\n",
       "    <tr>\n",
       "      <th>3</th>\n",
       "      <td>17</td>\n",
       "      <td>50863</td>\n",
       "      <td>2134-12-22</td>\n",
       "      <td>-1.450474</td>\n",
       "    </tr>\n",
       "    <tr>\n",
       "      <th>4</th>\n",
       "      <td>17</td>\n",
       "      <td>50867</td>\n",
       "      <td>2134-12-22</td>\n",
       "      <td>-0.611788</td>\n",
       "    </tr>\n",
       "    <tr>\n",
       "      <th>...</th>\n",
       "      <td>...</td>\n",
       "      <td>...</td>\n",
       "      <td>...</td>\n",
       "      <td>...</td>\n",
       "    </tr>\n",
       "    <tr>\n",
       "      <th>4339087</th>\n",
       "      <td>99982</td>\n",
       "      <td>227456</td>\n",
       "      <td>2157-02-22</td>\n",
       "      <td>1.820554</td>\n",
       "    </tr>\n",
       "    <tr>\n",
       "      <th>4339088</th>\n",
       "      <td>99982</td>\n",
       "      <td>227457</td>\n",
       "      <td>2157-02-22</td>\n",
       "      <td>-0.723138</td>\n",
       "    </tr>\n",
       "    <tr>\n",
       "      <th>4339089</th>\n",
       "      <td>99982</td>\n",
       "      <td>227465</td>\n",
       "      <td>2157-02-22</td>\n",
       "      <td>2.180053</td>\n",
       "    </tr>\n",
       "    <tr>\n",
       "      <th>4339090</th>\n",
       "      <td>99982</td>\n",
       "      <td>227466</td>\n",
       "      <td>2157-02-22</td>\n",
       "      <td>-0.036611</td>\n",
       "    </tr>\n",
       "    <tr>\n",
       "      <th>4339091</th>\n",
       "      <td>99982</td>\n",
       "      <td>227467</td>\n",
       "      <td>2157-02-22</td>\n",
       "      <td>2.167401</td>\n",
       "    </tr>\n",
       "  </tbody>\n",
       "</table>\n",
       "<p>4339092 rows × 4 columns</p>\n",
       "</div>"
      ],
      "text/plain": [
       "         SUBJECT_ID  ITEMID        DATE     VALUE\n",
       "0                17   50852  2134-12-22 -1.205210\n",
       "1                17   50861  2134-12-22 -0.813846\n",
       "2                17   50862  2134-12-22  1.632823\n",
       "3                17   50863  2134-12-22 -1.450474\n",
       "4                17   50867  2134-12-22 -0.611788\n",
       "...             ...     ...         ...       ...\n",
       "4339087       99982  227456  2157-02-22  1.820554\n",
       "4339088       99982  227457  2157-02-22 -0.723138\n",
       "4339089       99982  227465  2157-02-22  2.180053\n",
       "4339090       99982  227466  2157-02-22 -0.036611\n",
       "4339091       99982  227467  2157-02-22  2.167401\n",
       "\n",
       "[4339092 rows x 4 columns]"
      ]
     },
     "execution_count": 9,
     "metadata": {},
     "output_type": "execute_result"
    }
   ],
   "source": [
    "test_df"
   ]
  },
  {
   "cell_type": "code",
   "execution_count": null,
   "id": "e0099669",
   "metadata": {},
   "outputs": [],
   "source": []
  }
 ],
 "metadata": {
  "kernelspec": {
   "display_name": "Python 3 (ipykernel)",
   "language": "python",
   "name": "python3"
  },
  "language_info": {
   "codemirror_mode": {
    "name": "ipython",
    "version": 3
   },
   "file_extension": ".py",
   "mimetype": "text/x-python",
   "name": "python",
   "nbconvert_exporter": "python",
   "pygments_lexer": "ipython3",
   "version": "3.9.7"
  }
 },
 "nbformat": 4,
 "nbformat_minor": 5
}
