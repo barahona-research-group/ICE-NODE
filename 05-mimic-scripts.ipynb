{
 "cells": [
  {
   "cell_type": "code",
   "execution_count": 1,
   "id": "monthly-cache",
   "metadata": {},
   "outputs": [],
   "source": [
    "import numpy as np\n",
    "import pandas as pd\n",
    "import json\n",
    "import collections\n",
    "from collections import defaultdict \n",
    "from functools import partial\n",
    "import networkx as nx\n",
    "import matplotlib.pyplot as plt\n",
    "import seaborn as sns\n",
    "from tqdm import tqdm\n"
   ]
  },
  {
   "cell_type": "code",
   "execution_count": 2,
   "id": "competent-plumbing",
   "metadata": {},
   "outputs": [
    {
     "data": {
      "text/plain": [
       "<module 'mimicnet.jax_interface' from '/home/asem/GP/MIMIC-SNONET/mimicnet/jax_interface.py'>"
      ]
     },
     "execution_count": 2,
     "metadata": {},
     "output_type": "execute_result"
    }
   ],
   "source": [
    "# Good read: https://iq-inc.com/importerror-attempted-relative-import/\n",
    "\n",
    "import sys\n",
    "import importlib\n",
    "from mimicnet import concept\n",
    "from mimicnet import jax_interface\n",
    "from mimicnet import dag\n",
    "\n",
    "importlib.reload(sys.modules['mimicnet.concept'])\n",
    "importlib.reload(sys.modules['mimicnet.dag'])\n",
    "importlib.reload(sys.modules['mimicnet.jax_interface'])\n"
   ]
  },
  {
   "cell_type": "code",
   "execution_count": 3,
   "id": "sporting-input",
   "metadata": {},
   "outputs": [],
   "source": [
    "\n",
    "KG = dag.CCSDAG()"
   ]
  },
  {
   "cell_type": "code",
   "execution_count": 4,
   "id": "looking-bracelet",
   "metadata": {},
   "outputs": [],
   "source": [
    "# multi_visit_mimic_dir = '/home/am8520/GP/ehr-data/mimic3-multi-visit'\n",
    "multi_visit_mimic_dir = '/home/asem/GP/ehr-data/mimic3-multi-visit'\n",
    "transformed_mimic_dir = '/home/asem/GP/ehr-data/mimic3-transforms'\n",
    "mimic_dir = '/home/asem/GP/ehr-data/mimic3-v1.4/physionet.org/files/mimiciii/1.4'"
   ]
  },
  {
   "cell_type": "code",
   "execution_count": 5,
   "id": "substantial-school",
   "metadata": {},
   "outputs": [],
   "source": [
    "D_LABITEMS = pd.read_csv(f'{mimic_dir}/D_LABITEMS.csv.gz')\n",
    "D_ITEMS = pd.read_csv(f'{mimic_dir}/D_ITEMS.csv.gz')\n",
    "D_TEST = pd.concat([D_LABITEMS, D_ITEMS], join='inner')\n",
    "test_label_dict = dict(zip(D_TEST.ITEMID, D_TEST.LABEL))\n",
    "test_cat_dict = dict(zip(D_TEST.ITEMID, D_TEST.CATEGORY))"
   ]
  },
  {
   "cell_type": "code",
   "execution_count": 6,
   "id": "suspended-warren",
   "metadata": {},
   "outputs": [],
   "source": [
    "static_df = pd.read_csv(f'{transformed_mimic_dir}/static_df.csv.gz')\n",
    "adm_df = pd.read_csv(f'{transformed_mimic_dir}/adm_df.csv.gz')\n",
    "diag_df = pd.read_csv(f'{transformed_mimic_dir}/diag_df.csv.gz', dtype={'ICD9_CODE': str})\n",
    "proc_df = pd.read_csv(f'{transformed_mimic_dir}/proc_df.csv.gz', dtype={'ICD9_CODE': str})\n",
    "test_df = pd.read_csv(f'{transformed_mimic_dir}/test_df.csv.gz')\n"
   ]
  },
  {
   "cell_type": "code",
   "execution_count": 7,
   "id": "powerful-flexibility",
   "metadata": {},
   "outputs": [],
   "source": [
    "# Cast columns of dates to datetime64\n",
    "\n",
    "static_df['DOB'] = pd.to_datetime(static_df.DOB, infer_datetime_format=True).dt.normalize()\n",
    "adm_df['ADMITTIME'] = pd.to_datetime(adm_df.ADMITTIME, infer_datetime_format=True).dt.normalize()\n",
    "adm_df['DISCHTIME'] = pd.to_datetime(adm_df.DISCHTIME, infer_datetime_format=True).dt.normalize()\n",
    "test_df['DATE'] = pd.to_datetime(test_df.DATE, infer_datetime_format=True).dt.normalize()"
   ]
  },
  {
   "cell_type": "code",
   "execution_count": 8,
   "id": "functional-ridge",
   "metadata": {},
   "outputs": [
    {
     "data": {
      "text/plain": [
       "7"
      ]
     },
     "execution_count": 8,
     "metadata": {},
     "output_type": "execute_result"
    }
   ],
   "source": [
    "static_df.ETHNIC_GROUP.nunique()"
   ]
  },
  {
   "cell_type": "code",
   "execution_count": 9,
   "id": "understood-samoa",
   "metadata": {},
   "outputs": [
    {
     "data": {
      "text/html": [
       "<div>\n",
       "<style scoped>\n",
       "    .dataframe tbody tr th:only-of-type {\n",
       "        vertical-align: middle;\n",
       "    }\n",
       "\n",
       "    .dataframe tbody tr th {\n",
       "        vertical-align: top;\n",
       "    }\n",
       "\n",
       "    .dataframe thead th {\n",
       "        text-align: right;\n",
       "    }\n",
       "</style>\n",
       "<table border=\"1\" class=\"dataframe\">\n",
       "  <thead>\n",
       "    <tr style=\"text-align: right;\">\n",
       "      <th></th>\n",
       "      <th>SUBJECT_ID</th>\n",
       "      <th>ITEMID</th>\n",
       "      <th>DATE</th>\n",
       "      <th>VALUE</th>\n",
       "    </tr>\n",
       "  </thead>\n",
       "  <tbody>\n",
       "    <tr>\n",
       "      <th>0</th>\n",
       "      <td>17</td>\n",
       "      <td>50852</td>\n",
       "      <td>2134-12-22</td>\n",
       "      <td>-1.201339</td>\n",
       "    </tr>\n",
       "    <tr>\n",
       "      <th>1</th>\n",
       "      <td>17</td>\n",
       "      <td>50861</td>\n",
       "      <td>2134-12-22</td>\n",
       "      <td>-0.809370</td>\n",
       "    </tr>\n",
       "    <tr>\n",
       "      <th>2</th>\n",
       "      <td>17</td>\n",
       "      <td>50862</td>\n",
       "      <td>2134-12-22</td>\n",
       "      <td>1.634410</td>\n",
       "    </tr>\n",
       "    <tr>\n",
       "      <th>3</th>\n",
       "      <td>17</td>\n",
       "      <td>50863</td>\n",
       "      <td>2134-12-22</td>\n",
       "      <td>-1.452596</td>\n",
       "    </tr>\n",
       "    <tr>\n",
       "      <th>4</th>\n",
       "      <td>17</td>\n",
       "      <td>50867</td>\n",
       "      <td>2134-12-22</td>\n",
       "      <td>-0.608894</td>\n",
       "    </tr>\n",
       "    <tr>\n",
       "      <th>...</th>\n",
       "      <td>...</td>\n",
       "      <td>...</td>\n",
       "      <td>...</td>\n",
       "      <td>...</td>\n",
       "    </tr>\n",
       "    <tr>\n",
       "      <th>4546204</th>\n",
       "      <td>99982</td>\n",
       "      <td>227456</td>\n",
       "      <td>2157-02-22</td>\n",
       "      <td>1.794272</td>\n",
       "    </tr>\n",
       "    <tr>\n",
       "      <th>4546205</th>\n",
       "      <td>99982</td>\n",
       "      <td>227457</td>\n",
       "      <td>2157-02-22</td>\n",
       "      <td>-0.723781</td>\n",
       "    </tr>\n",
       "    <tr>\n",
       "      <th>4546206</th>\n",
       "      <td>99982</td>\n",
       "      <td>227465</td>\n",
       "      <td>2157-02-22</td>\n",
       "      <td>2.247434</td>\n",
       "    </tr>\n",
       "    <tr>\n",
       "      <th>4546207</th>\n",
       "      <td>99982</td>\n",
       "      <td>227466</td>\n",
       "      <td>2157-02-22</td>\n",
       "      <td>-0.029395</td>\n",
       "    </tr>\n",
       "    <tr>\n",
       "      <th>4546208</th>\n",
       "      <td>99982</td>\n",
       "      <td>227467</td>\n",
       "      <td>2157-02-22</td>\n",
       "      <td>2.186595</td>\n",
       "    </tr>\n",
       "  </tbody>\n",
       "</table>\n",
       "<p>4546209 rows × 4 columns</p>\n",
       "</div>"
      ],
      "text/plain": [
       "         SUBJECT_ID  ITEMID       DATE     VALUE\n",
       "0                17   50852 2134-12-22 -1.201339\n",
       "1                17   50861 2134-12-22 -0.809370\n",
       "2                17   50862 2134-12-22  1.634410\n",
       "3                17   50863 2134-12-22 -1.452596\n",
       "4                17   50867 2134-12-22 -0.608894\n",
       "...             ...     ...        ...       ...\n",
       "4546204       99982  227456 2157-02-22  1.794272\n",
       "4546205       99982  227457 2157-02-22 -0.723781\n",
       "4546206       99982  227465 2157-02-22  2.247434\n",
       "4546207       99982  227466 2157-02-22 -0.029395\n",
       "4546208       99982  227467 2157-02-22  2.186595\n",
       "\n",
       "[4546209 rows x 4 columns]"
      ]
     },
     "execution_count": 9,
     "metadata": {},
     "output_type": "execute_result"
    }
   ],
   "source": [
    "test_df"
   ]
  },
  {
   "cell_type": "code",
   "execution_count": 10,
   "id": "acoustic-bankruptcy",
   "metadata": {},
   "outputs": [],
   "source": [
    "patients = concept.Subject.to_list(static_df, adm_df, diag_df, proc_df, test_df)"
   ]
  },
  {
   "cell_type": "code",
   "execution_count": 11,
   "id": "subjective-creature",
   "metadata": {},
   "outputs": [
    {
     "data": {
      "text/plain": [
       "4434"
      ]
     },
     "execution_count": 11,
     "metadata": {},
     "output_type": "execute_result"
    }
   ],
   "source": [
    "len(patients)"
   ]
  },
  {
   "cell_type": "code",
   "execution_count": 12,
   "id": "going-ocean",
   "metadata": {},
   "outputs": [],
   "source": [
    "ehr_dfs = concept.Subject.to_df(patients)"
   ]
  },
  {
   "cell_type": "code",
   "execution_count": 13,
   "id": "continental-engineering",
   "metadata": {},
   "outputs": [
    {
     "data": {
      "text/plain": [
       "True"
      ]
     },
     "execution_count": 13,
     "metadata": {},
     "output_type": "execute_result"
    }
   ],
   "source": [
    "def df_eq(df1, df2):\n",
    "    df11 = df1.sort_values(by=df1.columns.tolist()).reset_index(drop=True)\n",
    "    df22 = df2.sort_values(by=df2.columns.tolist()).reset_index(drop=True)\n",
    "    return df11[df22.columns].equals(df22)\n",
    "\n",
    "all(map(df_eq, ehr_dfs, [static_df, adm_df, diag_df, proc_df, test_df]))"
   ]
  },
  {
   "cell_type": "code",
   "execution_count": 14,
   "id": "downtown-florence",
   "metadata": {},
   "outputs": [],
   "source": [
    "jaxified_data = jax_interface.SubjectJAXInterface(patients, set(test_df.ITEMID), KG)"
   ]
  }
 ],
 "metadata": {
  "kernelspec": {
   "display_name": "Python 3",
   "language": "python",
   "name": "python3"
  },
  "language_info": {
   "codemirror_mode": {
    "name": "ipython",
    "version": 3
   },
   "file_extension": ".py",
   "mimetype": "text/x-python",
   "name": "python",
   "nbconvert_exporter": "python",
   "pygments_lexer": "ipython3",
   "version": "3.8.5"
  }
 },
 "nbformat": 4,
 "nbformat_minor": 5
}
