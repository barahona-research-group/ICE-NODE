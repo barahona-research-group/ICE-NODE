{
 "cells": [
  {
   "cell_type": "code",
   "execution_count": 1,
   "id": "3299384e",
   "metadata": {},
   "outputs": [],
   "source": [
    "import numpy as np\n",
    "import pandas as pd\n",
    "import json\n",
    "import collections\n",
    "from collections import defaultdict \n",
    "from functools import partial\n",
    "import networkx as nx\n",
    "import matplotlib.pyplot as plt\n",
    "import seaborn as sns\n",
    "from tqdm import tqdm\n",
    "\n",
    "import jax\n",
    "\n",
    "# Global flag to set a specific platform, must be used at startup.\n",
    "jax.config.update('jax_platform_name', 'gpu')\n",
    "jax.config.update(\"jax_debug_nans\", True)\n",
    "jax.config.update(\"jax_debug_infs\", True)\n",
    "\n",
    "jax.config.update('jax_log_compiles', False)\n",
    "jax.config.update('jax_check_tracer_leaks', False)"
   ]
  },
  {
   "cell_type": "code",
   "execution_count": 2,
   "id": "3385feb9",
   "metadata": {},
   "outputs": [
    {
     "data": {
      "text/plain": [
       "DeviceArray(499500, dtype=int32)"
      ]
     },
     "execution_count": 2,
     "metadata": {},
     "output_type": "execute_result"
    }
   ],
   "source": [
    "import jax.numpy as jnp\n",
    "a = jnp.array(range(1000)) \n",
    "a.sum()"
   ]
  },
  {
   "cell_type": "code",
   "execution_count": 3,
   "id": "0209449d",
   "metadata": {},
   "outputs": [
    {
     "name": "stderr",
     "output_type": "stream",
     "text": [
      "/home/asem/anaconda3/envs/mimic3-snonet/lib/python3.9/site-packages/jax/experimental/optimizers.py:28: FutureWarning: jax.experimental.optimizers is deprecated, import jax.example_libraries.optimizers instead\n",
      "  warnings.warn('jax.experimental.optimizers is deprecated, '\n"
     ]
    },
    {
     "data": {
      "text/plain": [
       "<module 'mimicnet.ode' from '/home/asem/GP/MIMIC-SNONET/mimicnet/ode.py'>"
      ]
     },
     "execution_count": 3,
     "metadata": {},
     "output_type": "execute_result"
    }
   ],
   "source": [
    "# Good read: https://iq-inc.com/importerror-attempted-relative-import/\n",
    "\n",
    "import sys\n",
    "import importlib\n",
    "from mimicnet import concept\n",
    "from mimicnet import jax_interface\n",
    "from mimicnet import dag\n",
    "from mimicnet import glove\n",
    "from mimicnet import gram\n",
    "from mimicnet import ode\n",
    "\n",
    "importlib.reload(sys.modules['mimicnet.concept'])\n",
    "importlib.reload(sys.modules['mimicnet.dag'])\n",
    "importlib.reload(sys.modules['mimicnet.jax_interface'])\n",
    "importlib.reload(sys.modules['mimicnet.glove'])\n",
    "importlib.reload(sys.modules['mimicnet.gram'])\n",
    "importlib.reload(sys.modules['mimicnet.ode'])"
   ]
  },
  {
   "cell_type": "code",
   "execution_count": 4,
   "id": "c8137cbf",
   "metadata": {},
   "outputs": [],
   "source": [
    "\n",
    "KG = dag.CCSDAG()"
   ]
  },
  {
   "cell_type": "code",
   "execution_count": 5,
   "id": "26cbe2fe",
   "metadata": {},
   "outputs": [],
   "source": [
    "# multi_visit_mimic_dir = '/home/am8520/GP/ehr-data/mimic3-multi-visit'\n",
    "multi_visit_mimic_dir = '/home/asem/GP/ehr-data/mimic3-multi-visit'\n",
    "transformed_mimic_dir = '/home/asem/GP/ehr-data/mimic3-transforms'\n",
    "# mimic_dir = '/home/asem/GP/ehr-data/mimic3-v1.4/physionet.org/files/mimiciii/1.4'\n",
    "mimic_dir = '/home/asem/GP/MIMIC-SNONET/RAW/mimic-iii-clinical-database-1.4'\n",
    "\n",
    "experiments_dir = '/home/asem/GP/ehr-data/mimic3-snonet-exp'\n",
    "experiment_prefix = 'DEC03'"
   ]
  },
  {
   "cell_type": "code",
   "execution_count": 6,
   "id": "49d84f86",
   "metadata": {},
   "outputs": [],
   "source": [
    "D_LABITEMS = pd.read_csv(f'{mimic_dir}/D_LABITEMS.csv.gz')\n",
    "D_ITEMS = pd.read_csv(f'{mimic_dir}/D_ITEMS.csv.gz')\n",
    "D_TEST = pd.concat([D_LABITEMS, D_ITEMS], join='inner')\n",
    "test_label_dict = dict(zip(D_TEST.ITEMID, D_TEST.LABEL))\n",
    "test_cat_dict = dict(zip(D_TEST.ITEMID, D_TEST.CATEGORY))"
   ]
  },
  {
   "cell_type": "code",
   "execution_count": 7,
   "id": "79774b88",
   "metadata": {},
   "outputs": [],
   "source": [
    "static_df = pd.read_csv(f'{transformed_mimic_dir}/static_df.csv.gz')\n",
    "adm_df = pd.read_csv(f'{transformed_mimic_dir}/adm_df.csv.gz')\n",
    "diag_df = pd.read_csv(f'{transformed_mimic_dir}/diag_df.csv.gz', dtype={'ICD9_CODE': str})\n",
    "proc_df = pd.read_csv(f'{transformed_mimic_dir}/proc_df.csv.gz', dtype={'ICD9_CODE': str})\n",
    "test_df = pd.read_csv(f'{transformed_mimic_dir}/test_df.csv.gz')\n"
   ]
  },
  {
   "cell_type": "code",
   "execution_count": 8,
   "id": "2054633d",
   "metadata": {},
   "outputs": [],
   "source": [
    "# Cast columns of dates to datetime64\n",
    "\n",
    "static_df['DOB'] = pd.to_datetime(static_df.DOB, infer_datetime_format=True).dt.normalize()\n",
    "adm_df['ADMITTIME'] = pd.to_datetime(adm_df.ADMITTIME, infer_datetime_format=True).dt.normalize()\n",
    "adm_df['DISCHTIME'] = pd.to_datetime(adm_df.DISCHTIME, infer_datetime_format=True).dt.normalize()\n",
    "test_df['DATE'] = pd.to_datetime(test_df.DATE, infer_datetime_format=True).dt.normalize()"
   ]
  },
  {
   "cell_type": "code",
   "execution_count": 9,
   "id": "20b13d6c",
   "metadata": {},
   "outputs": [
    {
     "data": {
      "text/plain": [
       "7"
      ]
     },
     "execution_count": 9,
     "metadata": {},
     "output_type": "execute_result"
    }
   ],
   "source": [
    "static_df.ETHNIC_GROUP.nunique()"
   ]
  },
  {
   "cell_type": "code",
   "execution_count": 10,
   "id": "4e406abb",
   "metadata": {},
   "outputs": [
    {
     "data": {
      "text/html": [
       "<div>\n",
       "<style scoped>\n",
       "    .dataframe tbody tr th:only-of-type {\n",
       "        vertical-align: middle;\n",
       "    }\n",
       "\n",
       "    .dataframe tbody tr th {\n",
       "        vertical-align: top;\n",
       "    }\n",
       "\n",
       "    .dataframe thead th {\n",
       "        text-align: right;\n",
       "    }\n",
       "</style>\n",
       "<table border=\"1\" class=\"dataframe\">\n",
       "  <thead>\n",
       "    <tr style=\"text-align: right;\">\n",
       "      <th></th>\n",
       "      <th>SUBJECT_ID</th>\n",
       "      <th>ITEMID</th>\n",
       "      <th>DATE</th>\n",
       "      <th>VALUE</th>\n",
       "    </tr>\n",
       "  </thead>\n",
       "  <tbody>\n",
       "    <tr>\n",
       "      <th>0</th>\n",
       "      <td>17</td>\n",
       "      <td>50852</td>\n",
       "      <td>2134-12-22</td>\n",
       "      <td>-1.201339</td>\n",
       "    </tr>\n",
       "    <tr>\n",
       "      <th>1</th>\n",
       "      <td>17</td>\n",
       "      <td>50861</td>\n",
       "      <td>2134-12-22</td>\n",
       "      <td>-0.809370</td>\n",
       "    </tr>\n",
       "    <tr>\n",
       "      <th>2</th>\n",
       "      <td>17</td>\n",
       "      <td>50862</td>\n",
       "      <td>2134-12-22</td>\n",
       "      <td>1.634410</td>\n",
       "    </tr>\n",
       "    <tr>\n",
       "      <th>3</th>\n",
       "      <td>17</td>\n",
       "      <td>50863</td>\n",
       "      <td>2134-12-22</td>\n",
       "      <td>-1.452596</td>\n",
       "    </tr>\n",
       "    <tr>\n",
       "      <th>4</th>\n",
       "      <td>17</td>\n",
       "      <td>50867</td>\n",
       "      <td>2134-12-22</td>\n",
       "      <td>-0.608894</td>\n",
       "    </tr>\n",
       "    <tr>\n",
       "      <th>...</th>\n",
       "      <td>...</td>\n",
       "      <td>...</td>\n",
       "      <td>...</td>\n",
       "      <td>...</td>\n",
       "    </tr>\n",
       "    <tr>\n",
       "      <th>4546204</th>\n",
       "      <td>99982</td>\n",
       "      <td>227456</td>\n",
       "      <td>2157-02-22</td>\n",
       "      <td>1.794272</td>\n",
       "    </tr>\n",
       "    <tr>\n",
       "      <th>4546205</th>\n",
       "      <td>99982</td>\n",
       "      <td>227457</td>\n",
       "      <td>2157-02-22</td>\n",
       "      <td>-0.723781</td>\n",
       "    </tr>\n",
       "    <tr>\n",
       "      <th>4546206</th>\n",
       "      <td>99982</td>\n",
       "      <td>227465</td>\n",
       "      <td>2157-02-22</td>\n",
       "      <td>2.247434</td>\n",
       "    </tr>\n",
       "    <tr>\n",
       "      <th>4546207</th>\n",
       "      <td>99982</td>\n",
       "      <td>227466</td>\n",
       "      <td>2157-02-22</td>\n",
       "      <td>-0.029395</td>\n",
       "    </tr>\n",
       "    <tr>\n",
       "      <th>4546208</th>\n",
       "      <td>99982</td>\n",
       "      <td>227467</td>\n",
       "      <td>2157-02-22</td>\n",
       "      <td>2.186595</td>\n",
       "    </tr>\n",
       "  </tbody>\n",
       "</table>\n",
       "<p>4546209 rows × 4 columns</p>\n",
       "</div>"
      ],
      "text/plain": [
       "         SUBJECT_ID  ITEMID       DATE     VALUE\n",
       "0                17   50852 2134-12-22 -1.201339\n",
       "1                17   50861 2134-12-22 -0.809370\n",
       "2                17   50862 2134-12-22  1.634410\n",
       "3                17   50863 2134-12-22 -1.452596\n",
       "4                17   50867 2134-12-22 -0.608894\n",
       "...             ...     ...        ...       ...\n",
       "4546204       99982  227456 2157-02-22  1.794272\n",
       "4546205       99982  227457 2157-02-22 -0.723781\n",
       "4546206       99982  227465 2157-02-22  2.247434\n",
       "4546207       99982  227466 2157-02-22 -0.029395\n",
       "4546208       99982  227467 2157-02-22  2.186595\n",
       "\n",
       "[4546209 rows x 4 columns]"
      ]
     },
     "execution_count": 10,
     "metadata": {},
     "output_type": "execute_result"
    }
   ],
   "source": [
    "test_df"
   ]
  },
  {
   "cell_type": "code",
   "execution_count": 11,
   "id": "5e2fe764",
   "metadata": {},
   "outputs": [],
   "source": [
    "patients = concept.Subject.to_list(static_df, adm_df, diag_df, proc_df, test_df)"
   ]
  },
  {
   "cell_type": "code",
   "execution_count": 12,
   "id": "83a4c170",
   "metadata": {},
   "outputs": [
    {
     "data": {
      "text/plain": [
       "4434"
      ]
     },
     "execution_count": 12,
     "metadata": {},
     "output_type": "execute_result"
    }
   ],
   "source": [
    "len(patients)"
   ]
  },
  {
   "cell_type": "code",
   "execution_count": 13,
   "id": "4bb2a561",
   "metadata": {},
   "outputs": [],
   "source": [
    "# ehr_dfs = concept.Subject.to_df(patients)"
   ]
  },
  {
   "cell_type": "code",
   "execution_count": 14,
   "id": "4b6fab24",
   "metadata": {},
   "outputs": [],
   "source": [
    "# def df_eq(df1, df2):\n",
    "#     df11 = df1.sort_values(by=df1.columns.tolist()).reset_index(drop=True)\n",
    "#     df22 = df2.sort_values(by=df2.columns.tolist()).reset_index(drop=True)\n",
    "#     return df11[df22.columns].equals(df22)\n",
    "\n",
    "# all(map(df_eq, ehr_dfs, [static_df, adm_df, diag_df, proc_df, test_df]))"
   ]
  },
  {
   "cell_type": "markdown",
   "id": "3d775d9d",
   "metadata": {},
   "source": [
    "### [FORK] Skip the cell below to load the jaxified data from a stored file on disc"
   ]
  },
  {
   "cell_type": "code",
   "execution_count": 15,
   "id": "77382ee8",
   "metadata": {},
   "outputs": [],
   "source": [
    "subjects_interface = jax_interface.SubjectJAXInterface(patients, set(test_df.ITEMID), KG)\n",
    "import pickle\n",
    "with open(f'{experiments_dir}/{experiment_prefix}_subjects_interface.pkl', 'wb') as pickleFile:\n",
    "    pickle.dump(subjects_interface, pickleFile)"
   ]
  },
  {
   "cell_type": "code",
   "execution_count": 16,
   "id": "9145c83c",
   "metadata": {},
   "outputs": [],
   "source": [
    "# import pickle\n",
    "# with open(f'{experiments_dir}/{experiment_prefix}_subjects_interface.pkl', 'rb') as pickleFile:\n",
    "#     subjects_interface = pickle.load(pickleFile)"
   ]
  },
  {
   "cell_type": "markdown",
   "id": "423dd5a4",
   "metadata": {},
   "source": [
    "## GloVe Initialization"
   ]
  },
  {
   "cell_type": "code",
   "execution_count": 17,
   "id": "dbf507f3",
   "metadata": {},
   "outputs": [],
   "source": [
    "%load_ext autoreload\n",
    "%autoreload 2"
   ]
  },
  {
   "cell_type": "code",
   "execution_count": 18,
   "id": "805fc9f8",
   "metadata": {},
   "outputs": [],
   "source": [
    "import logging\n",
    "logging.basicConfig(level=logging.DEBUG)\n",
    "logging.debug(\"test\")"
   ]
  },
  {
   "cell_type": "code",
   "execution_count": 19,
   "id": "e3b1b709",
   "metadata": {},
   "outputs": [],
   "source": [
    "glove_args = {\n",
    "    'diag_idx': subjects_interface.diag_multi_ccs_idx,\n",
    "    'proc_idx': subjects_interface.proc_multi_ccs_idx,\n",
    "    'ccs_dag': KG,\n",
    "    'subjects': patients,\n",
    "    'diag_vector_size': 100,\n",
    "    'proc_vector_size': 60,\n",
    "    'iterations': 30,\n",
    "    'window_size_days': 2 * 365\n",
    "}\n",
    "\n",
    "diag_glove_rep, proc_glove_rep = glove.glove_representation(**glove_args)"
   ]
  },
  {
   "cell_type": "code",
   "execution_count": 20,
   "id": "13d041aa",
   "metadata": {},
   "outputs": [
    {
     "name": "stdout",
     "output_type": "stream",
     "text": [
      "#point_indices: 1085\n",
      "#total_points: 129334\n"
     ]
    }
   ],
   "source": [
    "print(f'#point_indices: {len(subjects_interface.nth_points)}')\n",
    "print(f'#total_points: {sum(len(points) for n, points in subjects_interface.nth_points.items())}')\n",
    "\n",
    "#[len(points) for n, points in subjects_interface.nth_points.items()]"
   ]
  },
  {
   "cell_type": "markdown",
   "id": "9822d4d1",
   "metadata": {},
   "source": [
    "## GRAM objects"
   ]
  },
  {
   "cell_type": "code",
   "execution_count": 21,
   "id": "1fda1c27",
   "metadata": {},
   "outputs": [
    {
     "name": "stdout",
     "output_type": "stream",
     "text": [
      "/tmp/tensorboard/20211203-215810\n"
     ]
    }
   ],
   "source": [
    "from datetime import datetime\n",
    "daily_tracer = \"/tmp/tensorboard/\"+ datetime.now().strftime(\"%Y%m%d-%H%M%S\") \n",
    "print(daily_tracer)"
   ]
  },
  {
   "cell_type": "code",
   "execution_count": 22,
   "id": "35e7af1d",
   "metadata": {},
   "outputs": [],
   "source": [
    "\n",
    "\n",
    "logs = '/tmp/tensorboard/20210708-182059'\n",
    "#server = jax.profiler.start_server(9999)"
   ]
  },
  {
   "cell_type": "code",
   "execution_count": 23,
   "id": "7e46eed4",
   "metadata": {},
   "outputs": [],
   "source": [
    "       \n",
    "config = {\n",
    "    'gram_config': {\n",
    "        'diag': {\n",
    "            'ccs_dag': KG,\n",
    "            'code2index': subjects_interface.diag_multi_ccs_idx,\n",
    "            'attention_method': 'tanh', #l2, tanh\n",
    "            'attention_dim': 100,\n",
    "            'ancestors_mat': subjects_interface.diag_multi_ccs_ancestors_mat,\n",
    "            'basic_embeddings': diag_glove_rep\n",
    "        },\n",
    "        'proc': {\n",
    "            'ccs_dag': KG,\n",
    "            'code2index': subjects_interface.proc_multi_ccs_idx,\n",
    "            'attention_method': 'tanh',\n",
    "            'attention_dim': 60,\n",
    "            'ancestors_mat': subjects_interface.proc_multi_ccs_ancestors_mat,\n",
    "            'basic_embeddings': proc_glove_rep\n",
    "        }\n",
    "    },\n",
    "    'model': {\n",
    "        'ode_dyn': 'mlp', # gru, mlp\n",
    "        'state_size': 80,\n",
    "        'numeric_hidden_size': 100,\n",
    "        'bias': True\n",
    "    },\n",
    "    'training': {\n",
    "        'train_validation_split': 0.8,\n",
    "        'batch_size': 20,\n",
    "        'epochs': 200,\n",
    "        'lr': 1e-3,\n",
    "        'diag_loss': 'balanced_focal', # balanced_focal, bce\n",
    "        'tay_reg': None, # Order of regularized derivative of the dynamics function (None for disable).\n",
    "        'loss_mixing': {\n",
    "            'num_alpha': 0.1,\n",
    "            'diag_alpha': 0.1,\n",
    "            'ode_alpha': 1e-3,\n",
    "            'l1_reg': 1e-6,\n",
    "            'l2_reg': 1e-5,\n",
    "            'dyn_reg': 1e-5\n",
    "        },\n",
    "        'eval_freq': 10,\n",
    "        'save_freq': 100,\n",
    "        'save_params_prefix': None\n",
    "    }\n",
    "}\n"
   ]
  },
  {
   "cell_type": "code",
   "execution_count": 24,
   "id": "b7274aff",
   "metadata": {},
   "outputs": [],
   "source": [
    "diag_gram = gram.DAGGRAM(**config['gram_config']['diag'])"
   ]
  },
  {
   "cell_type": "code",
   "execution_count": 25,
   "id": "e431e692",
   "metadata": {},
   "outputs": [],
   "source": [
    "proc_gram = gram.DAGGRAM(**config['gram_config']['proc'])"
   ]
  },
  {
   "cell_type": "markdown",
   "id": "0baf100f",
   "metadata": {},
   "source": [
    "## GRU-ODE-Bayes"
   ]
  },
  {
   "cell_type": "code",
   "execution_count": null,
   "id": "bff49585",
   "metadata": {},
   "outputs": [
    {
     "name": "stdout",
     "output_type": "stream",
     "text": [
      "The autoreload extension is already loaded. To reload it, use:\n",
      "  %reload_ext autoreload\n"
     ]
    },
    {
     "name": "stderr",
     "output_type": "stream",
     "text": [
      "INFO:ode:#params: 428324\n",
      "info retrieval:   0%|                                                                                                                                                                                                                                                                                                                                                                    | 1/35470 [02:32<1507:19:35, 152.99s/it]INFO:ode:\n",
      "                       Training    Validation\n",
      "prejump_num_loss      24.330282   1092.356934\n",
      "postjump_num_loss   1645.030029  75014.851562\n",
      "prejump_diag_loss      0.002523      0.070537\n",
      "postjump_diag_loss      0.00259      0.072088\n",
      "num_loss             186.400257   8484.606396\n",
      "diag_loss               0.00253      0.070692\n",
      "ode_loss               0.188927      8.555228\n",
      "l1_loss             20693.53125   20693.53125\n",
      "l1_loss_per_point     35.617093      0.816925\n",
      "l2_loss             2112.650391   2112.650391\n",
      "l2_loss_per_point      3.636231      0.083402\n",
      "dyn_loss                34756.0     1451266.0\n",
      "dyn_loss_per_week     17.797512    14.8779125\n",
      "loss                 0.18957931      8.555802\n",
      "INFO:ode:\n",
      "                          Training     Valdation\n",
      "accuracy                  0.513889      0.514892\n",
      "recall                    0.625974      0.595093\n",
      "npv                       0.972077      0.970506\n",
      "specificity               0.509503      0.511811\n",
      "precision                 0.047563      0.044731\n",
      "f1-score                  0.088408      0.083208\n",
      "tp                        0.023572      0.022014\n",
      "tn                        0.490317      0.492877\n",
      "fp                        0.472027      0.470130\n",
      "fn                        0.014085      0.014979\n",
      "points_count            581.000000  25331.000000\n",
      "odeint_weeks_per_point    3.361200      3.850815\n",
      "nfe_per_point             0.000000      0.000000\n",
      "nfe_per_week              0.000000      0.000000\n",
      "nfex1000                  0.000000      0.000000\n",
      "INFO:ode:\n",
      "                Trn(pre)  Trn(post)\n",
      "P0(N=66 C=198)  0.060606   0.075758\n",
      "P1(N=67 C=31)   0.074627   0.044776\n",
      "P2(N=75 C=17)   0.106667   0.066667\n",
      "P3(N=79 C=10)   0.164557   0.227848\n",
      "P4(N=98 C=7)    0.265306   0.214286\n",
      "INFO:ode:\n",
      "                  Val(pre)  Val(post)\n",
      "P0(N=3111 C=198)  0.076824   0.081003\n",
      "P1(N=3380 C=31)   0.076627   0.045858\n",
      "P2(N=3284 C=17)   0.071559   0.049026\n",
      "P3(N=3168 C=10)   0.148674   0.214646\n",
      "P4(N=3603 C=7)    0.226478   0.167638\n",
      "info retrieval:   0%|                                                                                                                                                                                                                                                                                                                                                                     | 11/35470 [07:24<169:42:15, 17.23s/it]INFO:ode:\n",
      "                        Training    Validation\n",
      "prejump_num_loss       23.190449   1147.838989\n",
      "postjump_num_loss    1428.340698  71253.773438\n",
      "prejump_diag_loss       0.002138      0.064545\n",
      "postjump_diag_loss       0.00221      0.066576\n",
      "num_loss              163.705474   8158.432434\n",
      "diag_loss               0.002145      0.064748\n",
      "ode_loss                0.165848      8.223116\n",
      "l1_loss             20776.001953  20776.001953\n",
      "l1_loss_per_point      29.138853      0.820181\n",
      "l2_loss              2107.984375   2107.984375\n",
      "l2_loss_per_point         2.9565      0.083218\n",
      "dyn_loss                 44488.0     1490470.0\n",
      "dyn_loss_per_week      16.296824    15.2798195\n",
      "loss                  0.16651618      8.223705\n",
      "INFO:ode:\n",
      "                          Training     Valdation\n",
      "accuracy                  0.603592      0.605929\n",
      "recall                    0.670819      0.652263\n",
      "npv                       0.977921      0.978368\n",
      "specificity               0.600821      0.604149\n",
      "precision                 0.064765      0.059529\n",
      "f1-score                  0.118126      0.109101\n",
      "tp                        0.026549      0.024129\n",
      "tn                        0.577042      0.581800\n",
      "fp                        0.383380      0.381207\n",
      "fn                        0.013028      0.012864\n",
      "points_count            713.000000  25331.000000\n",
      "odeint_weeks_per_point    3.828692      3.850815\n",
      "nfe_per_point             0.000000      0.000000\n",
      "nfe_per_week              0.000000      0.000000\n",
      "nfex1000                  0.000000      0.000000\n",
      "INFO:ode:\n",
      "                 Trn(pre)  Trn(post)\n",
      "P0(N=109 C=198)  0.073394   0.091743\n",
      "P1(N=99 C=31)    0.111111   0.121212\n",
      "P2(N=121 C=17)   0.214876   0.206612\n",
      "P3(N=105 C=10)   0.438095   0.400000\n",
      "P4(N=128 C=7)    0.320312   0.273438\n",
      "INFO:ode:\n",
      "                  Val(pre)  Val(post)\n",
      "P0(N=3111 C=198)  0.051430   0.052716\n",
      "P1(N=3380 C=31)   0.073964   0.090237\n",
      "P2(N=3284 C=17)   0.197016   0.214373\n",
      "P3(N=3168 C=10)   0.360164   0.326073\n",
      "P4(N=3603 C=7)    0.316681   0.260061\n",
      "point #11/1084 - odeint:   0%|▏                                                                                                                                                                                                                                                                                                                                                           | 21/35470 [11:38<188:58:01, 19.19s/it]"
     ]
    }
   ],
   "source": [
    "import random\n",
    "%load_ext autoreload\n",
    "%autoreload 2\n",
    "from absl import logging\n",
    "logging.set_verbosity(logging.INFO)\n",
    "\n",
    "#with jax.profiler.trace(logs):\n",
    "res = ode.train_ehr(subject_interface=subjects_interface,\n",
    "                diag_gram=diag_gram,\n",
    "                proc_gram=proc_gram,\n",
    "                rng=random.Random(42),\n",
    "                **config['model'],\n",
    "                **config['training'],\n",
    "                verbose_debug=False,\n",
    "                shape_debug=False,\n",
    "                nan_debug=False,\n",
    "                memory_profile=False)"
   ]
  },
  {
   "cell_type": "markdown",
   "id": "blank-referral",
   "metadata": {},
   "source": [
    "#### Possible modifications:\n",
    "- Add more layers to the adjustment function\n",
    "- Use days instead of weeks for odeint"
   ]
  },
  {
   "cell_type": "code",
   "execution_count": null,
   "id": "associate-cleaning",
   "metadata": {},
   "outputs": [],
   "source": []
  }
 ],
 "metadata": {
  "kernelspec": {
   "display_name": "Python 3 (ipykernel)",
   "language": "python",
   "name": "python3"
  },
  "language_info": {
   "codemirror_mode": {
    "name": "ipython",
    "version": 3
   },
   "file_extension": ".py",
   "mimetype": "text/x-python",
   "name": "python",
   "nbconvert_exporter": "python",
   "pygments_lexer": "ipython3",
   "version": "3.9.7"
  }
 },
 "nbformat": 4,
 "nbformat_minor": 5
}
