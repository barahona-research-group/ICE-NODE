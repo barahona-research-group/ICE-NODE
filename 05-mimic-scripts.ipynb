{
 "cells": [
  {
   "cell_type": "code",
   "execution_count": 1,
   "id": "photographic-regular",
   "metadata": {},
   "outputs": [],
   "source": [
    "import numpy as np\n",
    "import pandas as pd\n",
    "import json\n",
    "import collections\n",
    "from collections import defaultdict \n",
    "from functools import partial\n",
    "import networkx as nx\n",
    "import matplotlib.pyplot as plt\n",
    "import seaborn as sns\n",
    "from tqdm import tqdm\n",
    "\n",
    "import jax\n",
    "\n",
    "# Global flag to set a specific platform, must be used at startup.\n",
    "jax.config.update('jax_platform_name', 'gpu')\n",
    "jax.config.update(\"jax_debug_nans\", True)\n",
    "jax.config.update(\"jax_debug_infs\", True)\n",
    "\n",
    "jax.config.update('jax_log_compiles', False)\n",
    "jax.config.update('jax_check_tracer_leaks', False)"
   ]
  },
  {
   "cell_type": "code",
   "execution_count": 2,
   "id": "latest-second",
   "metadata": {},
   "outputs": [
    {
     "data": {
      "text/plain": [
       "DeviceArray(499500, dtype=int32)"
      ]
     },
     "execution_count": 2,
     "metadata": {},
     "output_type": "execute_result"
    }
   ],
   "source": [
    "import jax.numpy as jnp\n",
    "a = jnp.array(range(1000)) \n",
    "a.sum()"
   ]
  },
  {
   "cell_type": "code",
   "execution_count": 3,
   "id": "potential-bangladesh",
   "metadata": {},
   "outputs": [
    {
     "data": {
      "text/plain": [
       "False"
      ]
     },
     "execution_count": 3,
     "metadata": {},
     "output_type": "execute_result"
    }
   ],
   "source": [
    "callable(getattr(a, 'sum2', None))\n"
   ]
  },
  {
   "cell_type": "code",
   "execution_count": 4,
   "id": "later-twins",
   "metadata": {},
   "outputs": [
    {
     "name": "stderr",
     "output_type": "stream",
     "text": [
      "/home/asem/.local/lib/python3.8/site-packages/jax/experimental/optimizers.py:28: FutureWarning: jax.experimental.optimizers is deprecated, import jax.example_libraries.optimizers instead\n",
      "  warnings.warn('jax.experimental.optimizers is deprecated, '\n"
     ]
    },
    {
     "data": {
      "text/plain": [
       "<module 'mimicnet.models' from '/home/asem/GP/MIMIC-SNONET/mimicnet/models.py'>"
      ]
     },
     "execution_count": 4,
     "metadata": {},
     "output_type": "execute_result"
    }
   ],
   "source": [
    "# Good read: https://iq-inc.com/importerror-attempted-relative-import/\n",
    "\n",
    "import sys\n",
    "import importlib\n",
    "from mimicnet import concept\n",
    "from mimicnet import jax_interface\n",
    "from mimicnet import dag\n",
    "from mimicnet import glove\n",
    "from mimicnet import gram\n",
    "from mimicnet import train\n",
    "from mimicnet import models\n",
    "\n",
    "importlib.reload(sys.modules['mimicnet.concept'])\n",
    "importlib.reload(sys.modules['mimicnet.dag'])\n",
    "importlib.reload(sys.modules['mimicnet.jax_interface'])\n",
    "importlib.reload(sys.modules['mimicnet.glove'])\n",
    "importlib.reload(sys.modules['mimicnet.gram'])\n",
    "importlib.reload(sys.modules['mimicnet.train'])\n",
    "importlib.reload(sys.modules['mimicnet.models'])"
   ]
  },
  {
   "cell_type": "code",
   "execution_count": 5,
   "id": "matched-photography",
   "metadata": {},
   "outputs": [],
   "source": [
    "\n",
    "KG = dag.CCSDAG()"
   ]
  },
  {
   "cell_type": "code",
   "execution_count": 6,
   "id": "chemical-insert",
   "metadata": {},
   "outputs": [],
   "source": [
    "# multi_visit_mimic_dir = '/home/am8520/GP/ehr-data/mimic3-multi-visit'\n",
    "multi_visit_mimic_dir = '/home/asem/GP/ehr-data/mimic3-multi-visit'\n",
    "transformed_mimic_dir = '/home/asem/GP/ehr-data/mimic3-transforms'\n",
    "mimic_dir = '/home/asem/GP/ehr-data/mimic3-v1.4/physionet.org/files/mimiciii/1.4'\n",
    "# mimic_dir = '/home/asem/GP/MIMIC-SNONET/RAW/mimic-iii-clinical-database-1.4'\n",
    "\n",
    "experiments_dir = '/home/asem/GP/ehr-data/mimic3-snonet-exp'\n",
    "experiment_prefix = 'DEC03'"
   ]
  },
  {
   "cell_type": "code",
   "execution_count": 7,
   "id": "sized-nomination",
   "metadata": {},
   "outputs": [],
   "source": [
    "# D_LABITEMS = pd.read_csv(f'{mimic_dir}/D_LABITEMS.csv.gz')\n",
    "# D_ITEMS = pd.read_csv(f'{mimic_dir}/D_ITEMS.csv.gz')\n",
    "# D_TEST = pd.concat([D_LABITEMS, D_ITEMS], join='inner')\n",
    "# test_label_dict = dict(zip(D_TEST.ITEMID, D_TEST.LABEL))\n",
    "# test_cat_dict = dict(zip(D_TEST.ITEMID, D_TEST.CATEGORY))"
   ]
  },
  {
   "cell_type": "code",
   "execution_count": 8,
   "id": "short-tomato",
   "metadata": {},
   "outputs": [],
   "source": [
    "static_df = pd.read_csv(f'{transformed_mimic_dir}/static_df.csv.gz')\n",
    "adm_df = pd.read_csv(f'{transformed_mimic_dir}/adm_df.csv.gz')\n",
    "diag_df = pd.read_csv(f'{transformed_mimic_dir}/diag_df.csv.gz', dtype={'ICD9_CODE': str})\n",
    "proc_df = pd.read_csv(f'{transformed_mimic_dir}/proc_df.csv.gz', dtype={'ICD9_CODE': str})\n",
    "test_df = pd.read_csv(f'{transformed_mimic_dir}/test_df.csv.gz')\n"
   ]
  },
  {
   "cell_type": "code",
   "execution_count": 9,
   "id": "regulated-louis",
   "metadata": {},
   "outputs": [],
   "source": [
    "# Cast columns of dates to datetime64\n",
    "\n",
    "static_df['DOB'] = pd.to_datetime(static_df.DOB, infer_datetime_format=True).dt.normalize()\n",
    "adm_df['ADMITTIME'] = pd.to_datetime(adm_df.ADMITTIME, infer_datetime_format=True).dt.normalize()\n",
    "adm_df['DISCHTIME'] = pd.to_datetime(adm_df.DISCHTIME, infer_datetime_format=True).dt.normalize()\n",
    "test_df['DATE'] = pd.to_datetime(test_df.DATE, infer_datetime_format=True).dt.normalize()"
   ]
  },
  {
   "cell_type": "code",
   "execution_count": 10,
   "id": "active-tokyo",
   "metadata": {},
   "outputs": [
    {
     "data": {
      "text/plain": [
       "7"
      ]
     },
     "execution_count": 10,
     "metadata": {},
     "output_type": "execute_result"
    }
   ],
   "source": [
    "static_df.ETHNIC_GROUP.nunique()"
   ]
  },
  {
   "cell_type": "code",
   "execution_count": 11,
   "id": "armed-background",
   "metadata": {},
   "outputs": [
    {
     "data": {
      "text/html": [
       "<div>\n",
       "<style scoped>\n",
       "    .dataframe tbody tr th:only-of-type {\n",
       "        vertical-align: middle;\n",
       "    }\n",
       "\n",
       "    .dataframe tbody tr th {\n",
       "        vertical-align: top;\n",
       "    }\n",
       "\n",
       "    .dataframe thead th {\n",
       "        text-align: right;\n",
       "    }\n",
       "</style>\n",
       "<table border=\"1\" class=\"dataframe\">\n",
       "  <thead>\n",
       "    <tr style=\"text-align: right;\">\n",
       "      <th></th>\n",
       "      <th>SUBJECT_ID</th>\n",
       "      <th>ITEMID</th>\n",
       "      <th>DATE</th>\n",
       "      <th>VALUE</th>\n",
       "    </tr>\n",
       "  </thead>\n",
       "  <tbody>\n",
       "    <tr>\n",
       "      <th>0</th>\n",
       "      <td>17</td>\n",
       "      <td>50852</td>\n",
       "      <td>2134-12-22</td>\n",
       "      <td>-1.201339</td>\n",
       "    </tr>\n",
       "    <tr>\n",
       "      <th>1</th>\n",
       "      <td>17</td>\n",
       "      <td>50861</td>\n",
       "      <td>2134-12-22</td>\n",
       "      <td>-0.809370</td>\n",
       "    </tr>\n",
       "    <tr>\n",
       "      <th>2</th>\n",
       "      <td>17</td>\n",
       "      <td>50862</td>\n",
       "      <td>2134-12-22</td>\n",
       "      <td>1.634410</td>\n",
       "    </tr>\n",
       "    <tr>\n",
       "      <th>3</th>\n",
       "      <td>17</td>\n",
       "      <td>50863</td>\n",
       "      <td>2134-12-22</td>\n",
       "      <td>-1.452596</td>\n",
       "    </tr>\n",
       "    <tr>\n",
       "      <th>4</th>\n",
       "      <td>17</td>\n",
       "      <td>50867</td>\n",
       "      <td>2134-12-22</td>\n",
       "      <td>-0.608894</td>\n",
       "    </tr>\n",
       "    <tr>\n",
       "      <th>...</th>\n",
       "      <td>...</td>\n",
       "      <td>...</td>\n",
       "      <td>...</td>\n",
       "      <td>...</td>\n",
       "    </tr>\n",
       "    <tr>\n",
       "      <th>4546204</th>\n",
       "      <td>99982</td>\n",
       "      <td>227456</td>\n",
       "      <td>2157-02-22</td>\n",
       "      <td>1.794272</td>\n",
       "    </tr>\n",
       "    <tr>\n",
       "      <th>4546205</th>\n",
       "      <td>99982</td>\n",
       "      <td>227457</td>\n",
       "      <td>2157-02-22</td>\n",
       "      <td>-0.723781</td>\n",
       "    </tr>\n",
       "    <tr>\n",
       "      <th>4546206</th>\n",
       "      <td>99982</td>\n",
       "      <td>227465</td>\n",
       "      <td>2157-02-22</td>\n",
       "      <td>2.247434</td>\n",
       "    </tr>\n",
       "    <tr>\n",
       "      <th>4546207</th>\n",
       "      <td>99982</td>\n",
       "      <td>227466</td>\n",
       "      <td>2157-02-22</td>\n",
       "      <td>-0.029395</td>\n",
       "    </tr>\n",
       "    <tr>\n",
       "      <th>4546208</th>\n",
       "      <td>99982</td>\n",
       "      <td>227467</td>\n",
       "      <td>2157-02-22</td>\n",
       "      <td>2.186595</td>\n",
       "    </tr>\n",
       "  </tbody>\n",
       "</table>\n",
       "<p>4546209 rows × 4 columns</p>\n",
       "</div>"
      ],
      "text/plain": [
       "         SUBJECT_ID  ITEMID       DATE     VALUE\n",
       "0                17   50852 2134-12-22 -1.201339\n",
       "1                17   50861 2134-12-22 -0.809370\n",
       "2                17   50862 2134-12-22  1.634410\n",
       "3                17   50863 2134-12-22 -1.452596\n",
       "4                17   50867 2134-12-22 -0.608894\n",
       "...             ...     ...        ...       ...\n",
       "4546204       99982  227456 2157-02-22  1.794272\n",
       "4546205       99982  227457 2157-02-22 -0.723781\n",
       "4546206       99982  227465 2157-02-22  2.247434\n",
       "4546207       99982  227466 2157-02-22 -0.029395\n",
       "4546208       99982  227467 2157-02-22  2.186595\n",
       "\n",
       "[4546209 rows x 4 columns]"
      ]
     },
     "execution_count": 11,
     "metadata": {},
     "output_type": "execute_result"
    }
   ],
   "source": [
    "test_df"
   ]
  },
  {
   "cell_type": "code",
   "execution_count": 12,
   "id": "solar-future",
   "metadata": {},
   "outputs": [],
   "source": [
    "patients = concept.Subject.to_list(static_df, adm_df, diag_df, proc_df, test_df)"
   ]
  },
  {
   "cell_type": "code",
   "execution_count": 13,
   "id": "yellow-hunter",
   "metadata": {},
   "outputs": [
    {
     "data": {
      "text/plain": [
       "4434"
      ]
     },
     "execution_count": 13,
     "metadata": {},
     "output_type": "execute_result"
    }
   ],
   "source": [
    "len(patients)"
   ]
  },
  {
   "cell_type": "code",
   "execution_count": 14,
   "id": "armed-montgomery",
   "metadata": {},
   "outputs": [],
   "source": [
    "# ehr_dfs = concept.Subject.to_df(patients)"
   ]
  },
  {
   "cell_type": "code",
   "execution_count": 15,
   "id": "pediatric-marina",
   "metadata": {},
   "outputs": [],
   "source": [
    "# def df_eq(df1, df2):\n",
    "#     df11 = df1.sort_values(by=df1.columns.tolist()).reset_index(drop=True)\n",
    "#     df22 = df2.sort_values(by=df2.columns.tolist()).reset_index(drop=True)\n",
    "#     return df11[df22.columns].equals(df22)\n",
    "\n",
    "# all(map(df_eq, ehr_dfs, [static_df, adm_df, diag_df, proc_df, test_df]))"
   ]
  },
  {
   "cell_type": "markdown",
   "id": "weird-idaho",
   "metadata": {},
   "source": [
    "### [FORK] Skip the cell below to load the jaxified data from a stored file on disc"
   ]
  },
  {
   "cell_type": "code",
   "execution_count": 16,
   "id": "fitting-nigeria",
   "metadata": {},
   "outputs": [],
   "source": [
    "subjects_interface = jax_interface.SubjectJAXInterface(patients, set(test_df.ITEMID), KG)\n",
    "import pickle\n",
    "with open(f'{experiments_dir}/{experiment_prefix}_subjects_interface.pkl', 'wb') as pickleFile:\n",
    "    pickle.dump(subjects_interface, pickleFile)"
   ]
  },
  {
   "cell_type": "code",
   "execution_count": 17,
   "id": "adult-mistake",
   "metadata": {},
   "outputs": [],
   "source": [
    "# import pickle\n",
    "# with open(f'{experiments_dir}/{experiment_prefix}_subjects_interface.pkl', 'rb') as pickleFile:\n",
    "#     subjects_interface = pickle.load(pickleFile)"
   ]
  },
  {
   "cell_type": "markdown",
   "id": "stuffed-sweet",
   "metadata": {},
   "source": [
    "## GloVe Initialization"
   ]
  },
  {
   "cell_type": "code",
   "execution_count": 18,
   "id": "arbitrary-donna",
   "metadata": {},
   "outputs": [],
   "source": [
    "%load_ext autoreload\n",
    "%autoreload 2"
   ]
  },
  {
   "cell_type": "code",
   "execution_count": 19,
   "id": "personal-dream",
   "metadata": {},
   "outputs": [],
   "source": [
    "import logging\n",
    "logging.basicConfig(level=logging.DEBUG)\n",
    "logging.debug(\"test\")"
   ]
  },
  {
   "cell_type": "code",
   "execution_count": 20,
   "id": "hollywood-nursery",
   "metadata": {},
   "outputs": [],
   "source": [
    "glove_args = {\n",
    "    'diag_idx': subjects_interface.diag_multi_ccs_idx,\n",
    "    'proc_idx': subjects_interface.proc_multi_ccs_idx,\n",
    "    'ccs_dag': subjects_interface.dag,\n",
    "    'subjects': patients,\n",
    "    'diag_vector_size': 100,\n",
    "    'proc_vector_size': 60,\n",
    "    'iterations': 30,\n",
    "    'window_size_days': 2 * 365\n",
    "}\n",
    "\n",
    "diag_glove_rep, proc_glove_rep = glove.glove_representation(**glove_args)"
   ]
  },
  {
   "cell_type": "code",
   "execution_count": 21,
   "id": "french-birth",
   "metadata": {},
   "outputs": [
    {
     "name": "stdout",
     "output_type": "stream",
     "text": [
      "#point_indices: 1085\n",
      "#total_points: 129334\n"
     ]
    }
   ],
   "source": [
    "print(f'#point_indices: {len(subjects_interface.nth_points)}')\n",
    "print(f'#total_points: {sum(len(points) for n, points in subjects_interface.nth_points.items())}')\n",
    "\n",
    "#[len(points) for n, points in subjects_interface.nth_points.items()]"
   ]
  },
  {
   "cell_type": "markdown",
   "id": "sublime-congress",
   "metadata": {},
   "source": [
    "## GRAM objects"
   ]
  },
  {
   "cell_type": "code",
   "execution_count": 22,
   "id": "exact-dover",
   "metadata": {},
   "outputs": [
    {
     "name": "stdout",
     "output_type": "stream",
     "text": [
      "/tmp/tensorboard/20211206-032807\n"
     ]
    }
   ],
   "source": [
    "from datetime import datetime\n",
    "daily_tracer = \"/tmp/tensorboard/\"+ datetime.now().strftime(\"%Y%m%d-%H%M%S\") \n",
    "print(daily_tracer)"
   ]
  },
  {
   "cell_type": "code",
   "execution_count": 23,
   "id": "unlike-missile",
   "metadata": {},
   "outputs": [],
   "source": [
    "\n",
    "\n",
    "logs = '/tmp/tensorboard/20210708-182059'\n",
    "#server = jax.profiler.start_server(9999)"
   ]
  },
  {
   "cell_type": "code",
   "execution_count": 24,
   "id": "outside-benchmark",
   "metadata": {},
   "outputs": [],
   "source": [
    "       \n",
    "# config = {\n",
    "#     'gram_config': {\n",
    "#         'diag': {\n",
    "#             'ccs_dag': KG,\n",
    "#             'code2index': subjects_interface.diag_multi_ccs_idx,\n",
    "#             'attention_method': 'tanh', #l2, tanh\n",
    "#             'attention_dim': 50,\n",
    "#             'ancestors_mat': subjects_interface.diag_multi_ccs_ancestors_mat,\n",
    "#             'basic_embeddings': diag_glove_rep\n",
    "#         },\n",
    "#         'proc': {\n",
    "#             'ccs_dag': KG,\n",
    "#             'code2index': subjects_interface.proc_multi_ccs_idx,\n",
    "#             'attention_method': 'tanh',\n",
    "#             'attention_dim': 50,\n",
    "#             'ancestors_mat': subjects_interface.proc_multi_ccs_ancestors_mat,\n",
    "#             'basic_embeddings': proc_glove_rep\n",
    "#         }\n",
    "#     },\n",
    "#     'model': {\n",
    "#         'ode_dyn': 'mlp', # gru, mlp\n",
    "#         'state_size': 50,\n",
    "#         'numeric_hidden_size': 50,\n",
    "#         'bias': True\n",
    "#     },\n",
    "#     'training': {\n",
    "#         'train_validation_split': 0.8,\n",
    "#         'batch_size': 4,\n",
    "#         'epochs': 200,\n",
    "#         'lr': 1e-3,\n",
    "#         'diag_loss': 'balanced_focal', # balanced_focal, bce\n",
    "#         'tay_reg': 3, # Order of regularized derivative of the dynamics function (None for disable).\n",
    "#         'loss_mixing': {\n",
    "#             'num_alpha': 0.1,\n",
    "#             'diag_alpha': 0.1,\n",
    "#             'ode_alpha': 1e-3,\n",
    "#             'l1_reg': 1e-6,\n",
    "#             'l2_reg': 1e-5,\n",
    "#             'dyn_reg': 1e-5\n",
    "#         },\n",
    "#         'eval_freq': 10,\n",
    "#         'save_freq': 100,\n",
    "#         'save_params_prefix': None\n",
    "#     }\n",
    "# }\n"
   ]
  },
  {
   "cell_type": "code",
   "execution_count": 25,
   "id": "floating-distribution",
   "metadata": {},
   "outputs": [],
   "source": [
    "       \n",
    "config = {\n",
    "    'gram_config': {\n",
    "        'diag': {\n",
    "            'ccs_dag': KG,\n",
    "            'code2index': subjects_interface.diag_multi_ccs_idx,\n",
    "            'attention_method': 'tanh', #l2, tanh\n",
    "            'attention_dim': 150,\n",
    "            'ancestors_mat': subjects_interface.diag_multi_ccs_ancestors_mat,\n",
    "            'basic_embeddings': diag_glove_rep\n",
    "        },\n",
    "        'proc': {\n",
    "            'ccs_dag': KG,\n",
    "            'code2index': subjects_interface.proc_multi_ccs_idx,\n",
    "            'attention_method': 'tanh',\n",
    "            'attention_dim': 100,\n",
    "            'ancestors_mat': subjects_interface.proc_multi_ccs_ancestors_mat,\n",
    "            'basic_embeddings': proc_glove_rep\n",
    "        }\n",
    "    },\n",
    "    'model': {\n",
    "        'ode_dyn': 'mlp', # gru, mlp\n",
    "        'state_size': 120,\n",
    "        'numeric_hidden_size': 200,\n",
    "        'bias': True\n",
    "    },\n",
    "    'training': {\n",
    "        'train_validation_split': 0.8,\n",
    "        'batch_size': 20,\n",
    "        'epochs': 200,\n",
    "        'lr': 1e-3,\n",
    "        'diag_loss': 'balanced_focal', # balanced_focal, bce\n",
    "        'tay_reg': 3, # Order of regularized derivative of the dynamics function (None for disable).\n",
    "        'loss_mixing': {\n",
    "            'num_alpha': 0.1,\n",
    "            'diag_alpha': 0.1,\n",
    "            'ode_alpha': 1e-6,\n",
    "            'l1_reg': 1e-6,\n",
    "            'l2_reg': 1e-5,\n",
    "            'dyn_reg': 1e3\n",
    "        },\n",
    "        'eval_freq': 10,\n",
    "        'save_freq': 100,\n",
    "        'save_params_prefix': None\n",
    "    }\n",
    "}\n"
   ]
  },
  {
   "cell_type": "code",
   "execution_count": 26,
   "id": "handled-class",
   "metadata": {},
   "outputs": [],
   "source": [
    "diag_gram = gram.DAGGRAM(**config['gram_config']['diag'])"
   ]
  },
  {
   "cell_type": "code",
   "execution_count": 27,
   "id": "framed-romance",
   "metadata": {},
   "outputs": [],
   "source": [
    "proc_gram = gram.DAGGRAM(**config['gram_config']['proc'])"
   ]
  },
  {
   "cell_type": "markdown",
   "id": "literary-dress",
   "metadata": {},
   "source": [
    "## GRU-ODE-Bayes"
   ]
  },
  {
   "cell_type": "code",
   "execution_count": 28,
   "id": "dried-corporation",
   "metadata": {},
   "outputs": [
    {
     "name": "stdout",
     "output_type": "stream",
     "text": [
      "The autoreload extension is already loaded. To reload it, use:\n",
      "  %reload_ext autoreload\n"
     ]
    },
    {
     "name": "stderr",
     "output_type": "stream",
     "text": [
      "INFO:ode:#params: 729784\n",
      "INFO:ode:shape(params): {'diag_gram': ((589, 100), FlatMapping({\n",
      "  'None_DAG_Attention/~/linear': FlatMapping({'b': (150,), 'w': (200, 150)}),\n",
      "  'None_DAG_Attention/~/linear_1': FlatMapping({'w': (150, 1)}),\n",
      "})), 'f_dec': FlatMapping({\n",
      "  'f_dec/~/lin_gram': FlatMapping({'b': (100,), 'w': (150, 100)}),\n",
      "  'f_dec/~/lin_h_hidden': FlatMapping({'b': (50,), 'w': (120, 50)}),\n",
      "  'f_dec/~/lin_num_hidden1': FlatMapping({'b': (50,), 'w': (550, 50)}),\n",
      "  'f_dec/~/lin_num_hidden2': FlatMapping({'b': (100,), 'w': (50, 100)}),\n",
      "  'f_dec/~/lin_out': FlatMapping({'b': (284,), 'w': (100, 284)}),\n",
      "}), 'f_num': FlatMapping({\n",
      "  'f_numeric/linear': FlatMapping({'b': (200,), 'w': (120, 200)}),\n",
      "  'f_numeric/~/linear': FlatMapping({'b': (550,), 'w': (200, 550)}),\n",
      "  'f_numeric/~/linear_1': FlatMapping({'b': (550,), 'w': (200, 550)}),\n",
      "}), 'f_state_init': FlatMapping({\n",
      "  'f_init/~/lin_hidden1': FlatMapping({'b': (200,), 'w': (110, 200)}),\n",
      "  'f_init/~/lin_hidden2': FlatMapping({'b': (100,), 'w': (200, 100)}),\n",
      "  'f_init/~/lin_state': FlatMapping({'b': (120,), 'w': (100, 120)}),\n",
      "}), 'gru_bayes': FlatMapping({\n",
      "  'gru_bayes/~/gru': FlatMapping({'b': (360,), 'w_h': (120, 360), 'w_i': (120, 360)}),\n",
      "  'gru_bayes/~/gru_bayes_prep1': FlatMapping({'b': (120,), 'w': (650, 120)}),\n",
      "  'gru_bayes/~/gru_bayes_prep2': FlatMapping({'b': (120,), 'w': (120, 120)}),\n",
      "}), 'ode_dyn': FlatMapping({\n",
      "  'n_ode/~/ode_dyn_augment/~/ode_dyn/~/linear': FlatMapping({'b': (120,), 'w': (191, 120)}),\n",
      "  'n_ode/~/ode_dyn_augment/~/ode_dyn/~/linear_1': FlatMapping({'b': (120,), 'w': (191, 120)}),\n",
      "}), 'proc_gram': ((345, 60), FlatMapping({\n",
      "  'None_DAG_Attention/~/linear': FlatMapping({'b': (100,), 'w': (120, 100)}),\n",
      "  'None_DAG_Attention/~/linear_1': FlatMapping({'w': (100, 1)}),\n",
      "}))}\n",
      "info retrieval:   0%|          | 1/35470 [09:05<5374:40:42, 545.51s/it]                 INFO:ode:\n",
      "                         Training     Validation\n",
      "prejump_num_loss        1.7640035       1.583944\n",
      "postjump_num_loss       118.18043       107.0758\n",
      "prejump_diag_loss    0.0012755697   0.0013137348\n",
      "postjump_diag_loss    0.001289228   0.0013082713\n",
      "num_loss                13.405645      12.133129\n",
      "diag_loss            0.0012769355   0.0013131883\n",
      "ode_loss             0.0012903399   0.0013253202\n",
      "l1_loss                  33160.61       33160.61\n",
      "l1_loss_per_point        57.07506      1.3090919\n",
      "l2_loss                  2880.963       2880.963\n",
      "l2_loss_per_point        4.958628    0.113732696\n",
      "dyn_loss            3.3247955e-09  1.9971641e-07\n",
      "dyn_loss_per_week   1.7025287e-12  2.0474284e-12\n",
      "loss                 0.0013722098   0.0013272001\n",
      "INFO:ode:\n",
      "                         Training  Valdation\n",
      "accuracy                 0.494718   0.487393\n",
      "recall                   0.696104   0.639270\n",
      "npv                      0.976156   0.972029\n",
      "specificity              0.486838   0.481559\n",
      "precision                0.050404   0.045225\n",
      "f1-score                 0.094002   0.084474\n",
      "tp                       0.026213   0.023649\n",
      "tn                       0.468505   0.463745\n",
      "fp                       0.493838   0.499262\n",
      "fn                       0.011444   0.013345\n",
      "points_count                  581      25331\n",
      "odeint_weeks_per_point   3.361200   3.850815\n",
      "nfe_per_point           33.765923  32.602345\n",
      "nfe_per_week            10.045794   8.466349\n",
      "nfex1000                   19.618  825.85004\n",
      "INFO:ode:\n",
      "                Trn(pre)  Trn(post)\n",
      "P0(N=66 C=198)  0.151515   0.121212\n",
      "P1(N=67 C=31)   0.149254   0.134328\n",
      "P2(N=75 C=17)   0.000000   0.066667\n",
      "P3(N=79 C=10)   0.126582   0.088608\n",
      "P4(N=98 C=7)    0.214286   0.153061\n",
      "INFO:ode:\n",
      "                  Val(pre)  Val(post)\n",
      "P0(N=3111 C=198)  0.058181   0.063967\n",
      "P1(N=3380 C=31)   0.155917   0.148521\n",
      "P2(N=3284 C=17)   0.026188   0.051766\n",
      "P3(N=3168 C=10)   0.082702   0.086174\n",
      "P4(N=3603 C=7)    0.186511   0.128782\n",
      "info retrieval:   0%|          | 11/35470 [23:54<548:48:31, 55.72s/it]                  INFO:ode:\n",
      "                         Training     Validation\n",
      "prejump_num_loss        2.0567997      1.9121428\n",
      "postjump_num_loss       126.18425      116.41752\n",
      "prejump_diag_loss    0.0010784592   0.0010861853\n",
      "postjump_diag_loss   0.0010901743   0.0010910294\n",
      "num_loss                14.469545       13.36268\n",
      "diag_loss            0.0010796307   0.0010866697\n",
      "ode_loss             0.0010940991   0.0011000314\n",
      "l1_loss                  32678.45       32678.45\n",
      "l1_loss_per_point       45.832325      1.2900575\n",
      "l2_loss                 2827.4363      2827.4363\n",
      "l2_loss_per_point       3.9655488     0.11161961\n",
      "dyn_loss            1.6065738e-05  0.00048518644\n",
      "dyn_loss_per_week   5.8851937e-09  4.9739755e-09\n",
      "loss                 0.0011656444   0.0011068536\n",
      "INFO:ode:\n",
      "                         Training  Valdation\n",
      "accuracy                 0.656127   0.661069\n",
      "recall                   0.784698   0.784311\n",
      "npv                      0.986551   0.987534\n",
      "specificity              0.650829   0.656334\n",
      "precision                0.084759   0.080602\n",
      "f1-score                 0.152992   0.146182\n",
      "tp                       0.031056   0.029014\n",
      "tn                       0.625070   0.632055\n",
      "fp                       0.335352   0.330952\n",
      "fn                       0.008521   0.007979\n",
      "points_count                  713      25331\n",
      "odeint_weeks_per_point   3.828692   3.850815\n",
      "nfe_per_point            41.79523   41.64865\n",
      "nfe_per_week            10.916322  10.815541\n",
      "nfex1000                29.800001  1055.0021\n",
      "INFO:ode:\n",
      "                 Trn(pre)  Trn(post)\n",
      "P0(N=109 C=198)  0.018349   0.027523\n",
      "P1(N=99 C=31)    0.131313   0.080808\n",
      "P2(N=121 C=17)   0.214876   0.198347\n",
      "P3(N=105 C=10)   0.447619   0.428571\n",
      "P4(N=128 C=7)    0.859375   0.835938\n",
      "INFO:ode:\n",
      "                  Val(pre)  Val(post)\n",
      "P0(N=3111 C=198)  0.015429   0.018001\n",
      "P1(N=3380 C=31)   0.139349   0.108580\n",
      "P2(N=3284 C=17)   0.269184   0.244214\n",
      "P3(N=3168 C=10)   0.443182   0.454230\n",
      "P4(N=3603 C=7)    0.876214   0.842076\n",
      "  0%|          | 13/35470 [26:00<1339:51:00, 136.04s/it]                                 "
     ]
    },
    {
     "ename": "RuntimeError",
     "evalue": "Resource exhausted: Out of memory while trying to allocate 485689488 bytes.",
     "output_type": "error",
     "traceback": [
      "\u001b[0;31m---------------------------------------------------------------------------\u001b[0m",
      "\u001b[0;31mJaxStackTraceBeforeTransformation\u001b[0m         Traceback (most recent call last)",
      "\u001b[0;32m/opt/anaconda3/lib/python3.8/runpy.py\u001b[0m in \u001b[0;36m_run_module_as_main\u001b[0;34m(***failed resolving arguments***)\u001b[0m\n\u001b[1;32m    193\u001b[0m         \u001b[0msys\u001b[0m\u001b[0;34m.\u001b[0m\u001b[0margv\u001b[0m\u001b[0;34m[\u001b[0m\u001b[0;36m0\u001b[0m\u001b[0;34m]\u001b[0m \u001b[0;34m=\u001b[0m \u001b[0mmod_spec\u001b[0m\u001b[0;34m.\u001b[0m\u001b[0morigin\u001b[0m\u001b[0;34m\u001b[0m\u001b[0;34m\u001b[0m\u001b[0m\n\u001b[0;32m--> 194\u001b[0;31m     return _run_code(code, main_globals, None,\n\u001b[0m\u001b[1;32m    195\u001b[0m                      \"__main__\", mod_spec)\n",
      "\u001b[0;32m/opt/anaconda3/lib/python3.8/runpy.py\u001b[0m in \u001b[0;36m_run_code\u001b[0;34m(***failed resolving arguments***)\u001b[0m\n\u001b[1;32m     86\u001b[0m                        __spec__ = mod_spec)\n\u001b[0;32m---> 87\u001b[0;31m     \u001b[0mexec\u001b[0m\u001b[0;34m(\u001b[0m\u001b[0mcode\u001b[0m\u001b[0;34m,\u001b[0m \u001b[0mrun_globals\u001b[0m\u001b[0;34m)\u001b[0m\u001b[0;34m\u001b[0m\u001b[0;34m\u001b[0m\u001b[0m\n\u001b[0m\u001b[1;32m     88\u001b[0m     \u001b[0;32mreturn\u001b[0m \u001b[0mrun_globals\u001b[0m\u001b[0;34m\u001b[0m\u001b[0;34m\u001b[0m\u001b[0m\n",
      "\u001b[0;32m/opt/anaconda3/lib/python3.8/site-packages/ipykernel_launcher.py\u001b[0m in \u001b[0;36m<module>\u001b[0;34m\u001b[0m\n\u001b[1;32m     15\u001b[0m     \u001b[0;32mfrom\u001b[0m \u001b[0mipykernel\u001b[0m \u001b[0;32mimport\u001b[0m \u001b[0mkernelapp\u001b[0m \u001b[0;32mas\u001b[0m \u001b[0mapp\u001b[0m\u001b[0;34m\u001b[0m\u001b[0;34m\u001b[0m\u001b[0m\n\u001b[0;32m---> 16\u001b[0;31m     \u001b[0mapp\u001b[0m\u001b[0;34m.\u001b[0m\u001b[0mlaunch_new_instance\u001b[0m\u001b[0;34m(\u001b[0m\u001b[0;34m)\u001b[0m\u001b[0;34m\u001b[0m\u001b[0;34m\u001b[0m\u001b[0m\n\u001b[0m",
      "\u001b[0;32m/opt/anaconda3/lib/python3.8/site-packages/traitlets/config/application.py\u001b[0m in \u001b[0;36mlaunch_instance\u001b[0;34m(***failed resolving arguments***)\u001b[0m\n\u001b[1;32m    844\u001b[0m         \u001b[0mapp\u001b[0m\u001b[0;34m.\u001b[0m\u001b[0minitialize\u001b[0m\u001b[0;34m(\u001b[0m\u001b[0margv\u001b[0m\u001b[0;34m)\u001b[0m\u001b[0;34m\u001b[0m\u001b[0;34m\u001b[0m\u001b[0m\n\u001b[0;32m--> 845\u001b[0;31m         \u001b[0mapp\u001b[0m\u001b[0;34m.\u001b[0m\u001b[0mstart\u001b[0m\u001b[0;34m(\u001b[0m\u001b[0;34m)\u001b[0m\u001b[0;34m\u001b[0m\u001b[0;34m\u001b[0m\u001b[0m\n\u001b[0m\u001b[1;32m    846\u001b[0m \u001b[0;34m\u001b[0m\u001b[0m\n",
      "\u001b[0;32m/opt/anaconda3/lib/python3.8/site-packages/ipykernel/kernelapp.py\u001b[0m in \u001b[0;36mstart\u001b[0;34m(***failed resolving arguments***)\u001b[0m\n\u001b[1;32m    611\u001b[0m             \u001b[0;32mtry\u001b[0m\u001b[0;34m:\u001b[0m\u001b[0;34m\u001b[0m\u001b[0;34m\u001b[0m\u001b[0m\n\u001b[0;32m--> 612\u001b[0;31m                 \u001b[0mself\u001b[0m\u001b[0;34m.\u001b[0m\u001b[0mio_loop\u001b[0m\u001b[0;34m.\u001b[0m\u001b[0mstart\u001b[0m\u001b[0;34m(\u001b[0m\u001b[0;34m)\u001b[0m\u001b[0;34m\u001b[0m\u001b[0;34m\u001b[0m\u001b[0m\n\u001b[0m\u001b[1;32m    613\u001b[0m             \u001b[0;32mexcept\u001b[0m \u001b[0mKeyboardInterrupt\u001b[0m\u001b[0;34m:\u001b[0m\u001b[0;34m\u001b[0m\u001b[0;34m\u001b[0m\u001b[0m\n",
      "\u001b[0;32m/opt/anaconda3/lib/python3.8/site-packages/tornado/platform/asyncio.py\u001b[0m in \u001b[0;36mstart\u001b[0;34m(***failed resolving arguments***)\u001b[0m\n\u001b[1;32m    198\u001b[0m             \u001b[0masyncio\u001b[0m\u001b[0;34m.\u001b[0m\u001b[0mset_event_loop\u001b[0m\u001b[0;34m(\u001b[0m\u001b[0mself\u001b[0m\u001b[0;34m.\u001b[0m\u001b[0masyncio_loop\u001b[0m\u001b[0;34m)\u001b[0m\u001b[0;34m\u001b[0m\u001b[0;34m\u001b[0m\u001b[0m\n\u001b[0;32m--> 199\u001b[0;31m             \u001b[0mself\u001b[0m\u001b[0;34m.\u001b[0m\u001b[0masyncio_loop\u001b[0m\u001b[0;34m.\u001b[0m\u001b[0mrun_forever\u001b[0m\u001b[0;34m(\u001b[0m\u001b[0;34m)\u001b[0m\u001b[0;34m\u001b[0m\u001b[0;34m\u001b[0m\u001b[0m\n\u001b[0m\u001b[1;32m    200\u001b[0m         \u001b[0;32mfinally\u001b[0m\u001b[0;34m:\u001b[0m\u001b[0;34m\u001b[0m\u001b[0;34m\u001b[0m\u001b[0m\n",
      "\u001b[0;32m/opt/anaconda3/lib/python3.8/asyncio/base_events.py\u001b[0m in \u001b[0;36mrun_forever\u001b[0;34m(***failed resolving arguments***)\u001b[0m\n\u001b[1;32m    569\u001b[0m             \u001b[0;32mwhile\u001b[0m \u001b[0;32mTrue\u001b[0m\u001b[0;34m:\u001b[0m\u001b[0;34m\u001b[0m\u001b[0;34m\u001b[0m\u001b[0m\n\u001b[0;32m--> 570\u001b[0;31m                 \u001b[0mself\u001b[0m\u001b[0;34m.\u001b[0m\u001b[0m_run_once\u001b[0m\u001b[0;34m(\u001b[0m\u001b[0;34m)\u001b[0m\u001b[0;34m\u001b[0m\u001b[0;34m\u001b[0m\u001b[0m\n\u001b[0m\u001b[1;32m    571\u001b[0m                 \u001b[0;32mif\u001b[0m \u001b[0mself\u001b[0m\u001b[0;34m.\u001b[0m\u001b[0m_stopping\u001b[0m\u001b[0;34m:\u001b[0m\u001b[0;34m\u001b[0m\u001b[0;34m\u001b[0m\u001b[0m\n",
      "\u001b[0;32m/opt/anaconda3/lib/python3.8/asyncio/base_events.py\u001b[0m in \u001b[0;36m_run_once\u001b[0;34m(***failed resolving arguments***)\u001b[0m\n\u001b[1;32m   1858\u001b[0m             \u001b[0;32melse\u001b[0m\u001b[0;34m:\u001b[0m\u001b[0;34m\u001b[0m\u001b[0;34m\u001b[0m\u001b[0m\n\u001b[0;32m-> 1859\u001b[0;31m                 \u001b[0mhandle\u001b[0m\u001b[0;34m.\u001b[0m\u001b[0m_run\u001b[0m\u001b[0;34m(\u001b[0m\u001b[0;34m)\u001b[0m\u001b[0;34m\u001b[0m\u001b[0;34m\u001b[0m\u001b[0m\n\u001b[0m\u001b[1;32m   1860\u001b[0m         \u001b[0mhandle\u001b[0m \u001b[0;34m=\u001b[0m \u001b[0;32mNone\u001b[0m  \u001b[0;31m# Needed to break cycles when an exception occurs.\u001b[0m\u001b[0;34m\u001b[0m\u001b[0;34m\u001b[0m\u001b[0m\n",
      "\u001b[0;32m/opt/anaconda3/lib/python3.8/asyncio/events.py\u001b[0m in \u001b[0;36m_run\u001b[0;34m(***failed resolving arguments***)\u001b[0m\n\u001b[1;32m     80\u001b[0m         \u001b[0;32mtry\u001b[0m\u001b[0;34m:\u001b[0m\u001b[0;34m\u001b[0m\u001b[0;34m\u001b[0m\u001b[0m\n\u001b[0;32m---> 81\u001b[0;31m             \u001b[0mself\u001b[0m\u001b[0;34m.\u001b[0m\u001b[0m_context\u001b[0m\u001b[0;34m.\u001b[0m\u001b[0mrun\u001b[0m\u001b[0;34m(\u001b[0m\u001b[0mself\u001b[0m\u001b[0;34m.\u001b[0m\u001b[0m_callback\u001b[0m\u001b[0;34m,\u001b[0m \u001b[0;34m*\u001b[0m\u001b[0mself\u001b[0m\u001b[0;34m.\u001b[0m\u001b[0m_args\u001b[0m\u001b[0;34m)\u001b[0m\u001b[0;34m\u001b[0m\u001b[0;34m\u001b[0m\u001b[0m\n\u001b[0m\u001b[1;32m     82\u001b[0m         \u001b[0;32mexcept\u001b[0m \u001b[0;34m(\u001b[0m\u001b[0mSystemExit\u001b[0m\u001b[0;34m,\u001b[0m \u001b[0mKeyboardInterrupt\u001b[0m\u001b[0;34m)\u001b[0m\u001b[0;34m:\u001b[0m\u001b[0;34m\u001b[0m\u001b[0;34m\u001b[0m\u001b[0m\n",
      "\u001b[0;32m/opt/anaconda3/lib/python3.8/site-packages/tornado/ioloop.py\u001b[0m in \u001b[0;36m<lambda>\u001b[0;34m(***failed resolving arguments***)\u001b[0m\n\u001b[1;32m    687\u001b[0m             future.add_done_callback(\n\u001b[0;32m--> 688\u001b[0;31m                 \u001b[0;32mlambda\u001b[0m \u001b[0mf\u001b[0m\u001b[0;34m:\u001b[0m \u001b[0mself\u001b[0m\u001b[0;34m.\u001b[0m\u001b[0m_run_callback\u001b[0m\u001b[0;34m(\u001b[0m\u001b[0mfunctools\u001b[0m\u001b[0;34m.\u001b[0m\u001b[0mpartial\u001b[0m\u001b[0;34m(\u001b[0m\u001b[0mcallback\u001b[0m\u001b[0;34m,\u001b[0m \u001b[0mfuture\u001b[0m\u001b[0;34m)\u001b[0m\u001b[0;34m)\u001b[0m\u001b[0;34m\u001b[0m\u001b[0;34m\u001b[0m\u001b[0m\n\u001b[0m\u001b[1;32m    689\u001b[0m             )\n",
      "\u001b[0;32m/opt/anaconda3/lib/python3.8/site-packages/tornado/ioloop.py\u001b[0m in \u001b[0;36m_run_callback\u001b[0;34m(***failed resolving arguments***)\u001b[0m\n\u001b[1;32m    740\u001b[0m         \u001b[0;32mtry\u001b[0m\u001b[0;34m:\u001b[0m\u001b[0;34m\u001b[0m\u001b[0;34m\u001b[0m\u001b[0m\n\u001b[0;32m--> 741\u001b[0;31m             \u001b[0mret\u001b[0m \u001b[0;34m=\u001b[0m \u001b[0mcallback\u001b[0m\u001b[0;34m(\u001b[0m\u001b[0;34m)\u001b[0m\u001b[0;34m\u001b[0m\u001b[0;34m\u001b[0m\u001b[0m\n\u001b[0m\u001b[1;32m    742\u001b[0m             \u001b[0;32mif\u001b[0m \u001b[0mret\u001b[0m \u001b[0;32mis\u001b[0m \u001b[0;32mnot\u001b[0m \u001b[0;32mNone\u001b[0m\u001b[0;34m:\u001b[0m\u001b[0;34m\u001b[0m\u001b[0;34m\u001b[0m\u001b[0m\n",
      "\u001b[0;32m/opt/anaconda3/lib/python3.8/site-packages/tornado/gen.py\u001b[0m in \u001b[0;36minner\u001b[0;34m(***failed resolving arguments***)\u001b[0m\n\u001b[1;32m    813\u001b[0m                 \u001b[0mf\u001b[0m \u001b[0;34m=\u001b[0m \u001b[0;32mNone\u001b[0m  \u001b[0;31m# noqa: F841\u001b[0m\u001b[0;34m\u001b[0m\u001b[0;34m\u001b[0m\u001b[0m\n\u001b[0;32m--> 814\u001b[0;31m                 \u001b[0mself\u001b[0m\u001b[0;34m.\u001b[0m\u001b[0mctx_run\u001b[0m\u001b[0;34m(\u001b[0m\u001b[0mself\u001b[0m\u001b[0;34m.\u001b[0m\u001b[0mrun\u001b[0m\u001b[0;34m)\u001b[0m\u001b[0;34m\u001b[0m\u001b[0;34m\u001b[0m\u001b[0m\n\u001b[0m\u001b[1;32m    815\u001b[0m \u001b[0;34m\u001b[0m\u001b[0m\n",
      "\u001b[0;32m/opt/anaconda3/lib/python3.8/site-packages/tornado/gen.py\u001b[0m in \u001b[0;36mrun\u001b[0;34m(***failed resolving arguments***)\u001b[0m\n\u001b[1;32m    774\u001b[0m                     \u001b[0;32melse\u001b[0m\u001b[0;34m:\u001b[0m\u001b[0;34m\u001b[0m\u001b[0;34m\u001b[0m\u001b[0m\n\u001b[0;32m--> 775\u001b[0;31m                         \u001b[0myielded\u001b[0m \u001b[0;34m=\u001b[0m \u001b[0mself\u001b[0m\u001b[0;34m.\u001b[0m\u001b[0mgen\u001b[0m\u001b[0;34m.\u001b[0m\u001b[0msend\u001b[0m\u001b[0;34m(\u001b[0m\u001b[0mvalue\u001b[0m\u001b[0;34m)\u001b[0m\u001b[0;34m\u001b[0m\u001b[0;34m\u001b[0m\u001b[0m\n\u001b[0m\u001b[1;32m    776\u001b[0m \u001b[0;34m\u001b[0m\u001b[0m\n",
      "\u001b[0;32m/opt/anaconda3/lib/python3.8/site-packages/ipykernel/kernelbase.py\u001b[0m in \u001b[0;36mdispatch_queue\u001b[0;34m(***failed resolving arguments***)\u001b[0m\n\u001b[1;32m    380\u001b[0m             \u001b[0;32mtry\u001b[0m\u001b[0;34m:\u001b[0m\u001b[0;34m\u001b[0m\u001b[0;34m\u001b[0m\u001b[0m\n\u001b[0;32m--> 381\u001b[0;31m                 \u001b[0;32myield\u001b[0m \u001b[0mself\u001b[0m\u001b[0;34m.\u001b[0m\u001b[0mprocess_one\u001b[0m\u001b[0;34m(\u001b[0m\u001b[0;34m)\u001b[0m\u001b[0;34m\u001b[0m\u001b[0;34m\u001b[0m\u001b[0m\n\u001b[0m\u001b[1;32m    382\u001b[0m             \u001b[0;32mexcept\u001b[0m \u001b[0mException\u001b[0m\u001b[0;34m:\u001b[0m\u001b[0;34m\u001b[0m\u001b[0;34m\u001b[0m\u001b[0m\n",
      "\u001b[0;32m/opt/anaconda3/lib/python3.8/site-packages/tornado/gen.py\u001b[0m in \u001b[0;36mwrapper\u001b[0;34m(***failed resolving arguments***)\u001b[0m\n\u001b[1;32m    249\u001b[0m                     \u001b[0;31m# (GitHub issues #1769, #2229).\u001b[0m\u001b[0;34m\u001b[0m\u001b[0;34m\u001b[0m\u001b[0;34m\u001b[0m\u001b[0m\n\u001b[0;32m--> 250\u001b[0;31m                     \u001b[0mrunner\u001b[0m \u001b[0;34m=\u001b[0m \u001b[0mRunner\u001b[0m\u001b[0;34m(\u001b[0m\u001b[0mctx_run\u001b[0m\u001b[0;34m,\u001b[0m \u001b[0mresult\u001b[0m\u001b[0;34m,\u001b[0m \u001b[0mfuture\u001b[0m\u001b[0;34m,\u001b[0m \u001b[0myielded\u001b[0m\u001b[0;34m)\u001b[0m\u001b[0;34m\u001b[0m\u001b[0;34m\u001b[0m\u001b[0m\n\u001b[0m\u001b[1;32m    251\u001b[0m                     \u001b[0mfuture\u001b[0m\u001b[0;34m.\u001b[0m\u001b[0madd_done_callback\u001b[0m\u001b[0;34m(\u001b[0m\u001b[0;32mlambda\u001b[0m \u001b[0m_\u001b[0m\u001b[0;34m:\u001b[0m \u001b[0mrunner\u001b[0m\u001b[0;34m)\u001b[0m\u001b[0;34m\u001b[0m\u001b[0;34m\u001b[0m\u001b[0m\n",
      "\u001b[0;32m/opt/anaconda3/lib/python3.8/site-packages/tornado/gen.py\u001b[0m in \u001b[0;36m__init__\u001b[0;34m(***failed resolving arguments***)\u001b[0m\n\u001b[1;32m    740\u001b[0m             \u001b[0mgen\u001b[0m \u001b[0;34m=\u001b[0m \u001b[0mresult_future\u001b[0m \u001b[0;34m=\u001b[0m \u001b[0mfirst_yielded\u001b[0m \u001b[0;34m=\u001b[0m \u001b[0;32mNone\u001b[0m  \u001b[0;31m# type: ignore\u001b[0m\u001b[0;34m\u001b[0m\u001b[0;34m\u001b[0m\u001b[0m\n\u001b[0;32m--> 741\u001b[0;31m             \u001b[0mself\u001b[0m\u001b[0;34m.\u001b[0m\u001b[0mctx_run\u001b[0m\u001b[0;34m(\u001b[0m\u001b[0mself\u001b[0m\u001b[0;34m.\u001b[0m\u001b[0mrun\u001b[0m\u001b[0;34m)\u001b[0m\u001b[0;34m\u001b[0m\u001b[0;34m\u001b[0m\u001b[0m\n\u001b[0m\u001b[1;32m    742\u001b[0m \u001b[0;34m\u001b[0m\u001b[0m\n",
      "\u001b[0;32m/opt/anaconda3/lib/python3.8/site-packages/tornado/gen.py\u001b[0m in \u001b[0;36mrun\u001b[0;34m(***failed resolving arguments***)\u001b[0m\n\u001b[1;32m    774\u001b[0m                     \u001b[0;32melse\u001b[0m\u001b[0;34m:\u001b[0m\u001b[0;34m\u001b[0m\u001b[0;34m\u001b[0m\u001b[0m\n\u001b[0;32m--> 775\u001b[0;31m                         \u001b[0myielded\u001b[0m \u001b[0;34m=\u001b[0m \u001b[0mself\u001b[0m\u001b[0;34m.\u001b[0m\u001b[0mgen\u001b[0m\u001b[0;34m.\u001b[0m\u001b[0msend\u001b[0m\u001b[0;34m(\u001b[0m\u001b[0mvalue\u001b[0m\u001b[0;34m)\u001b[0m\u001b[0;34m\u001b[0m\u001b[0;34m\u001b[0m\u001b[0m\n\u001b[0m\u001b[1;32m    776\u001b[0m \u001b[0;34m\u001b[0m\u001b[0m\n",
      "\u001b[0;32m/opt/anaconda3/lib/python3.8/site-packages/ipykernel/kernelbase.py\u001b[0m in \u001b[0;36mprocess_one\u001b[0;34m(***failed resolving arguments***)\u001b[0m\n\u001b[1;32m    364\u001b[0m                 \u001b[0;32mreturn\u001b[0m \u001b[0;32mNone\u001b[0m\u001b[0;34m\u001b[0m\u001b[0;34m\u001b[0m\u001b[0m\n\u001b[0;32m--> 365\u001b[0;31m         \u001b[0;32myield\u001b[0m \u001b[0mgen\u001b[0m\u001b[0;34m.\u001b[0m\u001b[0mmaybe_future\u001b[0m\u001b[0;34m(\u001b[0m\u001b[0mdispatch\u001b[0m\u001b[0;34m(\u001b[0m\u001b[0;34m*\u001b[0m\u001b[0margs\u001b[0m\u001b[0;34m)\u001b[0m\u001b[0;34m)\u001b[0m\u001b[0;34m\u001b[0m\u001b[0;34m\u001b[0m\u001b[0m\n\u001b[0m\u001b[1;32m    366\u001b[0m \u001b[0;34m\u001b[0m\u001b[0m\n",
      "\u001b[0;32m/opt/anaconda3/lib/python3.8/site-packages/tornado/gen.py\u001b[0m in \u001b[0;36mwrapper\u001b[0;34m(***failed resolving arguments***)\u001b[0m\n\u001b[1;32m    233\u001b[0m                 \u001b[0;32mtry\u001b[0m\u001b[0;34m:\u001b[0m\u001b[0;34m\u001b[0m\u001b[0;34m\u001b[0m\u001b[0m\n\u001b[0;32m--> 234\u001b[0;31m                     \u001b[0myielded\u001b[0m \u001b[0;34m=\u001b[0m \u001b[0mctx_run\u001b[0m\u001b[0;34m(\u001b[0m\u001b[0mnext\u001b[0m\u001b[0;34m,\u001b[0m \u001b[0mresult\u001b[0m\u001b[0;34m)\u001b[0m\u001b[0;34m\u001b[0m\u001b[0;34m\u001b[0m\u001b[0m\n\u001b[0m\u001b[1;32m    235\u001b[0m                 \u001b[0;32mexcept\u001b[0m \u001b[0;34m(\u001b[0m\u001b[0mStopIteration\u001b[0m\u001b[0;34m,\u001b[0m \u001b[0mReturn\u001b[0m\u001b[0;34m)\u001b[0m \u001b[0;32mas\u001b[0m \u001b[0me\u001b[0m\u001b[0;34m:\u001b[0m\u001b[0;34m\u001b[0m\u001b[0;34m\u001b[0m\u001b[0m\n",
      "\u001b[0;32m/opt/anaconda3/lib/python3.8/site-packages/ipykernel/kernelbase.py\u001b[0m in \u001b[0;36mdispatch_shell\u001b[0;34m(***failed resolving arguments***)\u001b[0m\n\u001b[1;32m    267\u001b[0m             \u001b[0;32mtry\u001b[0m\u001b[0;34m:\u001b[0m\u001b[0;34m\u001b[0m\u001b[0;34m\u001b[0m\u001b[0m\n\u001b[0;32m--> 268\u001b[0;31m                 \u001b[0;32myield\u001b[0m \u001b[0mgen\u001b[0m\u001b[0;34m.\u001b[0m\u001b[0mmaybe_future\u001b[0m\u001b[0;34m(\u001b[0m\u001b[0mhandler\u001b[0m\u001b[0;34m(\u001b[0m\u001b[0mstream\u001b[0m\u001b[0;34m,\u001b[0m \u001b[0midents\u001b[0m\u001b[0;34m,\u001b[0m \u001b[0mmsg\u001b[0m\u001b[0;34m)\u001b[0m\u001b[0;34m)\u001b[0m\u001b[0;34m\u001b[0m\u001b[0;34m\u001b[0m\u001b[0m\n\u001b[0m\u001b[1;32m    269\u001b[0m             \u001b[0;32mexcept\u001b[0m \u001b[0mException\u001b[0m\u001b[0;34m:\u001b[0m\u001b[0;34m\u001b[0m\u001b[0;34m\u001b[0m\u001b[0m\n",
      "\u001b[0;32m/opt/anaconda3/lib/python3.8/site-packages/tornado/gen.py\u001b[0m in \u001b[0;36mwrapper\u001b[0;34m(***failed resolving arguments***)\u001b[0m\n\u001b[1;32m    233\u001b[0m                 \u001b[0;32mtry\u001b[0m\u001b[0;34m:\u001b[0m\u001b[0;34m\u001b[0m\u001b[0;34m\u001b[0m\u001b[0m\n\u001b[0;32m--> 234\u001b[0;31m                     \u001b[0myielded\u001b[0m \u001b[0;34m=\u001b[0m \u001b[0mctx_run\u001b[0m\u001b[0;34m(\u001b[0m\u001b[0mnext\u001b[0m\u001b[0;34m,\u001b[0m \u001b[0mresult\u001b[0m\u001b[0;34m)\u001b[0m\u001b[0;34m\u001b[0m\u001b[0;34m\u001b[0m\u001b[0m\n\u001b[0m\u001b[1;32m    235\u001b[0m                 \u001b[0;32mexcept\u001b[0m \u001b[0;34m(\u001b[0m\u001b[0mStopIteration\u001b[0m\u001b[0;34m,\u001b[0m \u001b[0mReturn\u001b[0m\u001b[0;34m)\u001b[0m \u001b[0;32mas\u001b[0m \u001b[0me\u001b[0m\u001b[0;34m:\u001b[0m\u001b[0;34m\u001b[0m\u001b[0;34m\u001b[0m\u001b[0m\n",
      "\u001b[0;32m/opt/anaconda3/lib/python3.8/site-packages/ipykernel/kernelbase.py\u001b[0m in \u001b[0;36mexecute_request\u001b[0;34m(***failed resolving arguments***)\u001b[0m\n\u001b[1;32m    542\u001b[0m         reply_content = yield gen.maybe_future(\n\u001b[0;32m--> 543\u001b[0;31m             self.do_execute(\n\u001b[0m\u001b[1;32m    544\u001b[0m                 \u001b[0mcode\u001b[0m\u001b[0;34m,\u001b[0m \u001b[0msilent\u001b[0m\u001b[0;34m,\u001b[0m \u001b[0mstore_history\u001b[0m\u001b[0;34m,\u001b[0m\u001b[0;34m\u001b[0m\u001b[0;34m\u001b[0m\u001b[0m\n",
      "\u001b[0;32m/opt/anaconda3/lib/python3.8/site-packages/tornado/gen.py\u001b[0m in \u001b[0;36mwrapper\u001b[0;34m(***failed resolving arguments***)\u001b[0m\n\u001b[1;32m    233\u001b[0m                 \u001b[0;32mtry\u001b[0m\u001b[0;34m:\u001b[0m\u001b[0;34m\u001b[0m\u001b[0;34m\u001b[0m\u001b[0m\n\u001b[0;32m--> 234\u001b[0;31m                     \u001b[0myielded\u001b[0m \u001b[0;34m=\u001b[0m \u001b[0mctx_run\u001b[0m\u001b[0;34m(\u001b[0m\u001b[0mnext\u001b[0m\u001b[0;34m,\u001b[0m \u001b[0mresult\u001b[0m\u001b[0;34m)\u001b[0m\u001b[0;34m\u001b[0m\u001b[0;34m\u001b[0m\u001b[0m\n\u001b[0m\u001b[1;32m    235\u001b[0m                 \u001b[0;32mexcept\u001b[0m \u001b[0;34m(\u001b[0m\u001b[0mStopIteration\u001b[0m\u001b[0;34m,\u001b[0m \u001b[0mReturn\u001b[0m\u001b[0;34m)\u001b[0m \u001b[0;32mas\u001b[0m \u001b[0me\u001b[0m\u001b[0;34m:\u001b[0m\u001b[0;34m\u001b[0m\u001b[0;34m\u001b[0m\u001b[0m\n",
      "\u001b[0;32m/opt/anaconda3/lib/python3.8/site-packages/ipykernel/ipkernel.py\u001b[0m in \u001b[0;36mdo_execute\u001b[0;34m(***failed resolving arguments***)\u001b[0m\n\u001b[1;32m    305\u001b[0m                 \u001b[0;31m# letting shell dispatch to loop runners\u001b[0m\u001b[0;34m\u001b[0m\u001b[0;34m\u001b[0m\u001b[0;34m\u001b[0m\u001b[0m\n\u001b[0;32m--> 306\u001b[0;31m                 \u001b[0mres\u001b[0m \u001b[0;34m=\u001b[0m \u001b[0mshell\u001b[0m\u001b[0;34m.\u001b[0m\u001b[0mrun_cell\u001b[0m\u001b[0;34m(\u001b[0m\u001b[0mcode\u001b[0m\u001b[0;34m,\u001b[0m \u001b[0mstore_history\u001b[0m\u001b[0;34m=\u001b[0m\u001b[0mstore_history\u001b[0m\u001b[0;34m,\u001b[0m \u001b[0msilent\u001b[0m\u001b[0;34m=\u001b[0m\u001b[0msilent\u001b[0m\u001b[0;34m)\u001b[0m\u001b[0;34m\u001b[0m\u001b[0;34m\u001b[0m\u001b[0m\n\u001b[0m\u001b[1;32m    307\u001b[0m         \u001b[0;32mfinally\u001b[0m\u001b[0;34m:\u001b[0m\u001b[0;34m\u001b[0m\u001b[0;34m\u001b[0m\u001b[0m\n",
      "\u001b[0;32m/opt/anaconda3/lib/python3.8/site-packages/ipykernel/zmqshell.py\u001b[0m in \u001b[0;36mrun_cell\u001b[0;34m(***failed resolving arguments***)\u001b[0m\n\u001b[1;32m    535\u001b[0m         \u001b[0mself\u001b[0m\u001b[0;34m.\u001b[0m\u001b[0m_last_traceback\u001b[0m \u001b[0;34m=\u001b[0m \u001b[0;32mNone\u001b[0m\u001b[0;34m\u001b[0m\u001b[0;34m\u001b[0m\u001b[0m\n\u001b[0;32m--> 536\u001b[0;31m         \u001b[0;32mreturn\u001b[0m \u001b[0msuper\u001b[0m\u001b[0;34m(\u001b[0m\u001b[0mZMQInteractiveShell\u001b[0m\u001b[0;34m,\u001b[0m \u001b[0mself\u001b[0m\u001b[0;34m)\u001b[0m\u001b[0;34m.\u001b[0m\u001b[0mrun_cell\u001b[0m\u001b[0;34m(\u001b[0m\u001b[0;34m*\u001b[0m\u001b[0margs\u001b[0m\u001b[0;34m,\u001b[0m \u001b[0;34m**\u001b[0m\u001b[0mkwargs\u001b[0m\u001b[0;34m)\u001b[0m\u001b[0;34m\u001b[0m\u001b[0;34m\u001b[0m\u001b[0m\n\u001b[0m\u001b[1;32m    537\u001b[0m \u001b[0;34m\u001b[0m\u001b[0m\n",
      "\u001b[0;32m/opt/anaconda3/lib/python3.8/site-packages/IPython/core/interactiveshell.py\u001b[0m in \u001b[0;36mrun_cell\u001b[0;34m(***failed resolving arguments***)\u001b[0m\n\u001b[1;32m   2876\u001b[0m         \u001b[0;32mtry\u001b[0m\u001b[0;34m:\u001b[0m\u001b[0;34m\u001b[0m\u001b[0;34m\u001b[0m\u001b[0m\n\u001b[0;32m-> 2877\u001b[0;31m             result = self._run_cell(\n\u001b[0m\u001b[1;32m   2878\u001b[0m                 raw_cell, store_history, silent, shell_futures)\n",
      "\u001b[0;32m/opt/anaconda3/lib/python3.8/site-packages/IPython/core/interactiveshell.py\u001b[0m in \u001b[0;36m_run_cell\u001b[0;34m(***failed resolving arguments***)\u001b[0m\n\u001b[1;32m   2922\u001b[0m         \u001b[0;32mtry\u001b[0m\u001b[0;34m:\u001b[0m\u001b[0;34m\u001b[0m\u001b[0;34m\u001b[0m\u001b[0m\n\u001b[0;32m-> 2923\u001b[0;31m             \u001b[0;32mreturn\u001b[0m \u001b[0mrunner\u001b[0m\u001b[0;34m(\u001b[0m\u001b[0mcoro\u001b[0m\u001b[0;34m)\u001b[0m\u001b[0;34m\u001b[0m\u001b[0;34m\u001b[0m\u001b[0m\n\u001b[0m\u001b[1;32m   2924\u001b[0m         \u001b[0;32mexcept\u001b[0m \u001b[0mBaseException\u001b[0m \u001b[0;32mas\u001b[0m \u001b[0me\u001b[0m\u001b[0;34m:\u001b[0m\u001b[0;34m\u001b[0m\u001b[0;34m\u001b[0m\u001b[0m\n",
      "\u001b[0;32m/opt/anaconda3/lib/python3.8/site-packages/IPython/core/async_helpers.py\u001b[0m in \u001b[0;36m_pseudo_sync_runner\u001b[0;34m(***failed resolving arguments***)\u001b[0m\n\u001b[1;32m     67\u001b[0m     \u001b[0;32mtry\u001b[0m\u001b[0;34m:\u001b[0m\u001b[0;34m\u001b[0m\u001b[0;34m\u001b[0m\u001b[0m\n\u001b[0;32m---> 68\u001b[0;31m         \u001b[0mcoro\u001b[0m\u001b[0;34m.\u001b[0m\u001b[0msend\u001b[0m\u001b[0;34m(\u001b[0m\u001b[0;32mNone\u001b[0m\u001b[0;34m)\u001b[0m\u001b[0;34m\u001b[0m\u001b[0;34m\u001b[0m\u001b[0m\n\u001b[0m\u001b[1;32m     69\u001b[0m     \u001b[0;32mexcept\u001b[0m \u001b[0mStopIteration\u001b[0m \u001b[0;32mas\u001b[0m \u001b[0mexc\u001b[0m\u001b[0;34m:\u001b[0m\u001b[0;34m\u001b[0m\u001b[0;34m\u001b[0m\u001b[0m\n",
      "\u001b[0;32m/opt/anaconda3/lib/python3.8/site-packages/IPython/core/interactiveshell.py\u001b[0m in \u001b[0;36mrun_cell_async\u001b[0;34m(***failed resolving arguments***)\u001b[0m\n\u001b[1;32m   3145\u001b[0m \u001b[0;34m\u001b[0m\u001b[0m\n\u001b[0;32m-> 3146\u001b[0;31m                 has_raised = await self.run_ast_nodes(code_ast.body, cell_name,\n\u001b[0m\u001b[1;32m   3147\u001b[0m                        interactivity=interactivity, compiler=compiler, result=result)\n",
      "\u001b[0;32m/opt/anaconda3/lib/python3.8/site-packages/IPython/core/interactiveshell.py\u001b[0m in \u001b[0;36mrun_ast_nodes\u001b[0;34m(***failed resolving arguments***)\u001b[0m\n\u001b[1;32m   3337\u001b[0m                         \u001b[0masy\u001b[0m \u001b[0;34m=\u001b[0m \u001b[0mcompare\u001b[0m\u001b[0;34m(\u001b[0m\u001b[0mcode\u001b[0m\u001b[0;34m)\u001b[0m\u001b[0;34m\u001b[0m\u001b[0;34m\u001b[0m\u001b[0m\n\u001b[0;32m-> 3338\u001b[0;31m                     \u001b[0;32mif\u001b[0m \u001b[0;34m(\u001b[0m\u001b[0;32mawait\u001b[0m \u001b[0mself\u001b[0m\u001b[0;34m.\u001b[0m\u001b[0mrun_code\u001b[0m\u001b[0;34m(\u001b[0m\u001b[0mcode\u001b[0m\u001b[0;34m,\u001b[0m \u001b[0mresult\u001b[0m\u001b[0;34m,\u001b[0m  \u001b[0masync_\u001b[0m\u001b[0;34m=\u001b[0m\u001b[0masy\u001b[0m\u001b[0;34m)\u001b[0m\u001b[0;34m)\u001b[0m\u001b[0;34m:\u001b[0m\u001b[0;34m\u001b[0m\u001b[0;34m\u001b[0m\u001b[0m\n\u001b[0m\u001b[1;32m   3339\u001b[0m                         \u001b[0;32mreturn\u001b[0m \u001b[0;32mTrue\u001b[0m\u001b[0;34m\u001b[0m\u001b[0;34m\u001b[0m\u001b[0m\n",
      "\u001b[0;32m/opt/anaconda3/lib/python3.8/site-packages/IPython/core/interactiveshell.py\u001b[0m in \u001b[0;36mrun_code\u001b[0;34m(***failed resolving arguments***)\u001b[0m\n\u001b[1;32m   3417\u001b[0m                 \u001b[0;32melse\u001b[0m\u001b[0;34m:\u001b[0m\u001b[0;34m\u001b[0m\u001b[0;34m\u001b[0m\u001b[0m\n\u001b[0;32m-> 3418\u001b[0;31m                     \u001b[0mexec\u001b[0m\u001b[0;34m(\u001b[0m\u001b[0mcode_obj\u001b[0m\u001b[0;34m,\u001b[0m \u001b[0mself\u001b[0m\u001b[0;34m.\u001b[0m\u001b[0muser_global_ns\u001b[0m\u001b[0;34m,\u001b[0m \u001b[0mself\u001b[0m\u001b[0;34m.\u001b[0m\u001b[0muser_ns\u001b[0m\u001b[0;34m)\u001b[0m\u001b[0;34m\u001b[0m\u001b[0;34m\u001b[0m\u001b[0m\n\u001b[0m\u001b[1;32m   3419\u001b[0m             \u001b[0;32mfinally\u001b[0m\u001b[0;34m:\u001b[0m\u001b[0;34m\u001b[0m\u001b[0;34m\u001b[0m\u001b[0m\n",
      "\u001b[0;32m<ipython-input-28-7924fb06c4d2>\u001b[0m in \u001b[0;36m<module>\u001b[0;34m\u001b[0m\n\u001b[1;32m      7\u001b[0m \u001b[0;31m#with jax.profiler.trace(logs):\u001b[0m\u001b[0;34m\u001b[0m\u001b[0;34m\u001b[0m\u001b[0;34m\u001b[0m\u001b[0m\n\u001b[0;32m----> 8\u001b[0;31m res = train.train_ehr(subject_interface=subjects_interface,\n\u001b[0m\u001b[1;32m      9\u001b[0m                 \u001b[0mdiag_gram\u001b[0m\u001b[0;34m=\u001b[0m\u001b[0mdiag_gram\u001b[0m\u001b[0;34m,\u001b[0m\u001b[0;34m\u001b[0m\u001b[0;34m\u001b[0m\u001b[0m\n",
      "\u001b[0;32m~/GP/MIMIC-SNONET/mimicnet/train.py\u001b[0m in \u001b[0;36mtrain_ehr\u001b[0;34m(***failed resolving arguments***)\u001b[0m\n\u001b[1;32m    852\u001b[0m         \u001b[0;32mtry\u001b[0m\u001b[0;34m:\u001b[0m\u001b[0;34m\u001b[0m\u001b[0;34m\u001b[0m\u001b[0m\n\u001b[0;32m--> 853\u001b[0;31m             \u001b[0mopt_state\u001b[0m \u001b[0;34m=\u001b[0m \u001b[0mupdate\u001b[0m\u001b[0;34m(\u001b[0m\u001b[0mstep\u001b[0m\u001b[0;34m,\u001b[0m \u001b[0mtrain_batch\u001b[0m\u001b[0;34m,\u001b[0m \u001b[0mopt_state\u001b[0m\u001b[0;34m,\u001b[0m \u001b[0mupdate_batch_desc\u001b[0m\u001b[0;34m)\u001b[0m\u001b[0;34m\u001b[0m\u001b[0;34m\u001b[0m\u001b[0m\n\u001b[0m\u001b[1;32m    854\u001b[0m         \u001b[0;32mexcept\u001b[0m \u001b[0;34m(\u001b[0m\u001b[0mValueError\u001b[0m\u001b[0;34m,\u001b[0m \u001b[0mFloatingPointError\u001b[0m\u001b[0;34m)\u001b[0m \u001b[0;32mas\u001b[0m \u001b[0me\u001b[0m\u001b[0;34m:\u001b[0m\u001b[0;34m\u001b[0m\u001b[0;34m\u001b[0m\u001b[0m\n",
      "\u001b[0;32m~/GP/MIMIC-SNONET/mimicnet/train.py\u001b[0m in \u001b[0;36mupdate\u001b[0;34m(***failed resolving arguments***)\u001b[0m\n\u001b[1;32m    809\u001b[0m \u001b[0;34m\u001b[0m\u001b[0m\n\u001b[0;32m--> 810\u001b[0;31m         \u001b[0mgrads\u001b[0m \u001b[0;34m=\u001b[0m \u001b[0mjax\u001b[0m\u001b[0;34m.\u001b[0m\u001b[0mgrad\u001b[0m\u001b[0;34m(\u001b[0m\u001b[0mloss_fn\u001b[0m\u001b[0;34m)\u001b[0m\u001b[0;34m(\u001b[0m\u001b[0mparams\u001b[0m\u001b[0;34m,\u001b[0m \u001b[0mbatch\u001b[0m\u001b[0;34m,\u001b[0m \u001b[0miteration_text_callback\u001b[0m\u001b[0;34m)\u001b[0m\u001b[0;34m\u001b[0m\u001b[0;34m\u001b[0m\u001b[0m\n\u001b[0m\u001b[1;32m    811\u001b[0m         \u001b[0;32mif\u001b[0m \u001b[0mnan_debug\u001b[0m\u001b[0;34m:\u001b[0m\u001b[0;34m\u001b[0m\u001b[0;34m\u001b[0m\u001b[0m\n",
      "\u001b[0;32m~/GP/MIMIC-SNONET/mimicnet/train.py\u001b[0m in \u001b[0;36mloss_fn\u001b[0;34m(***failed resolving arguments***)\u001b[0m\n\u001b[1;32m    769\u001b[0m                 iteration_text_callback: Any) -> float:\n\u001b[0;32m--> 770\u001b[0;31m         res = ode_model(params,\n\u001b[0m\u001b[1;32m    771\u001b[0m                         \u001b[0mbatch\u001b[0m\u001b[0;34m,\u001b[0m\u001b[0;34m\u001b[0m\u001b[0;34m\u001b[0m\u001b[0m\n",
      "\u001b[0;32m~/GP/MIMIC-SNONET/mimicnet/train.py\u001b[0m in \u001b[0;36m__call__\u001b[0;34m(***failed resolving arguments***)\u001b[0m\n\u001b[1;32m    446\u001b[0m         \u001b[0miteration_text_callback\u001b[0m\u001b[0;34m(\u001b[0m\u001b[0;34m'compute embedding mats'\u001b[0m\u001b[0;34m)\u001b[0m\u001b[0;34m\u001b[0m\u001b[0;34m\u001b[0m\u001b[0m\n\u001b[0;32m--> 447\u001b[0;31m         \u001b[0mdiag_emb_mat\u001b[0m\u001b[0;34m,\u001b[0m \u001b[0mproc_emb_mat\u001b[0m \u001b[0;34m=\u001b[0m \u001b[0mself\u001b[0m\u001b[0;34m.\u001b[0m\u001b[0m__generate_embedding_mats\u001b[0m\u001b[0;34m(\u001b[0m\u001b[0mparams\u001b[0m\u001b[0;34m)\u001b[0m\u001b[0;34m\u001b[0m\u001b[0;34m\u001b[0m\u001b[0m\n\u001b[0m\u001b[1;32m    448\u001b[0m \u001b[0;34m\u001b[0m\u001b[0m\n",
      "\u001b[0;32m~/GP/MIMIC-SNONET/mimicnet/train.py\u001b[0m in \u001b[0;36m__generate_embedding_mats\u001b[0;34m(***failed resolving arguments***)\u001b[0m\n\u001b[1;32m    372\u001b[0m     \u001b[0;32mdef\u001b[0m \u001b[0m__generate_embedding_mats\u001b[0m\u001b[0;34m(\u001b[0m\u001b[0mself\u001b[0m\u001b[0;34m,\u001b[0m \u001b[0mparams\u001b[0m\u001b[0;34m)\u001b[0m\u001b[0;34m:\u001b[0m\u001b[0;34m\u001b[0m\u001b[0;34m\u001b[0m\u001b[0m\n\u001b[0;32m--> 373\u001b[0;31m         \u001b[0mdiag\u001b[0m \u001b[0;34m=\u001b[0m \u001b[0mself\u001b[0m\u001b[0;34m.\u001b[0m\u001b[0mdiag_gram\u001b[0m\u001b[0;34m.\u001b[0m\u001b[0mcompute_embedding_mat\u001b[0m\u001b[0;34m(\u001b[0m\u001b[0mparams\u001b[0m\u001b[0;34m[\u001b[0m\u001b[0;34m\"diag_gram\"\u001b[0m\u001b[0;34m]\u001b[0m\u001b[0;34m)\u001b[0m\u001b[0;34m\u001b[0m\u001b[0;34m\u001b[0m\u001b[0m\n\u001b[0m\u001b[1;32m    374\u001b[0m         \u001b[0mproc\u001b[0m \u001b[0;34m=\u001b[0m \u001b[0mself\u001b[0m\u001b[0;34m.\u001b[0m\u001b[0mproc_gram\u001b[0m\u001b[0;34m.\u001b[0m\u001b[0mcompute_embedding_mat\u001b[0m\u001b[0;34m(\u001b[0m\u001b[0mparams\u001b[0m\u001b[0;34m[\u001b[0m\u001b[0;34m\"proc_gram\"\u001b[0m\u001b[0;34m]\u001b[0m\u001b[0;34m)\u001b[0m\u001b[0;34m\u001b[0m\u001b[0;34m\u001b[0m\u001b[0m\n",
      "\u001b[0;32m~/.local/lib/python3.8/site-packages/jax/_src/profiler.py\u001b[0m in \u001b[0;36mwrapper\u001b[0;34m(***failed resolving arguments***)\u001b[0m\n\u001b[1;32m    201\u001b[0m     \u001b[0;32mwith\u001b[0m \u001b[0mTraceAnnotation\u001b[0m\u001b[0;34m(\u001b[0m\u001b[0mname\u001b[0m\u001b[0;34m,\u001b[0m \u001b[0;34m**\u001b[0m\u001b[0mkwargs\u001b[0m\u001b[0;34m)\u001b[0m\u001b[0;34m:\u001b[0m\u001b[0;34m\u001b[0m\u001b[0;34m\u001b[0m\u001b[0m\n\u001b[0;32m--> 202\u001b[0;31m       \u001b[0;32mreturn\u001b[0m \u001b[0mfunc\u001b[0m\u001b[0;34m(\u001b[0m\u001b[0;34m*\u001b[0m\u001b[0margs\u001b[0m\u001b[0;34m,\u001b[0m \u001b[0;34m**\u001b[0m\u001b[0mkwargs\u001b[0m\u001b[0;34m)\u001b[0m\u001b[0;34m\u001b[0m\u001b[0;34m\u001b[0m\u001b[0m\n\u001b[0m\u001b[1;32m    203\u001b[0m     \u001b[0;32mreturn\u001b[0m \u001b[0mwrapper\u001b[0m\u001b[0;34m\u001b[0m\u001b[0;34m\u001b[0m\u001b[0m\n",
      "\u001b[0;31mJaxStackTraceBeforeTransformation\u001b[0m: RuntimeError: Resource exhausted: Out of memory while trying to allocate 485689488 bytes.\n\nThe preceding stack trace is the source of the JAX operation that, once transformed by JAX, triggered the following exception.\n\n--------------------",
      "\nThe above exception was the direct cause of the following exception:\n",
      "\u001b[0;31mRuntimeError\u001b[0m                              Traceback (most recent call last)",
      "\u001b[0;32m<ipython-input-28-7924fb06c4d2>\u001b[0m in \u001b[0;36m<module>\u001b[0;34m\u001b[0m\n\u001b[1;32m      6\u001b[0m \u001b[0;34m\u001b[0m\u001b[0m\n\u001b[1;32m      7\u001b[0m \u001b[0;31m#with jax.profiler.trace(logs):\u001b[0m\u001b[0;34m\u001b[0m\u001b[0;34m\u001b[0m\u001b[0;34m\u001b[0m\u001b[0m\n\u001b[0;32m----> 8\u001b[0;31m res = train.train_ehr(subject_interface=subjects_interface,\n\u001b[0m\u001b[1;32m      9\u001b[0m                 \u001b[0mdiag_gram\u001b[0m\u001b[0;34m=\u001b[0m\u001b[0mdiag_gram\u001b[0m\u001b[0;34m,\u001b[0m\u001b[0;34m\u001b[0m\u001b[0;34m\u001b[0m\u001b[0m\n\u001b[1;32m     10\u001b[0m                 \u001b[0mproc_gram\u001b[0m\u001b[0;34m=\u001b[0m\u001b[0mproc_gram\u001b[0m\u001b[0;34m,\u001b[0m\u001b[0;34m\u001b[0m\u001b[0;34m\u001b[0m\u001b[0m\n",
      "\u001b[0;32m~/GP/MIMIC-SNONET/mimicnet/train.py\u001b[0m in \u001b[0;36mtrain_ehr\u001b[0;34m(subject_interface, diag_gram, proc_gram, rng, ode_dyn, state_size, numeric_hidden_size, bias, train_validation_split, batch_size, epochs, lr, diag_loss, tay_reg, loss_mixing, eval_freq, save_freq, save_params_prefix, verbose_debug, nan_debug, shape_debug, memory_profile, **init_kwargs)\u001b[0m\n\u001b[1;32m    851\u001b[0m \u001b[0;34m\u001b[0m\u001b[0m\n\u001b[1;32m    852\u001b[0m         \u001b[0;32mtry\u001b[0m\u001b[0;34m:\u001b[0m\u001b[0;34m\u001b[0m\u001b[0;34m\u001b[0m\u001b[0m\n\u001b[0;32m--> 853\u001b[0;31m             \u001b[0mopt_state\u001b[0m \u001b[0;34m=\u001b[0m \u001b[0mupdate\u001b[0m\u001b[0;34m(\u001b[0m\u001b[0mstep\u001b[0m\u001b[0;34m,\u001b[0m \u001b[0mtrain_batch\u001b[0m\u001b[0;34m,\u001b[0m \u001b[0mopt_state\u001b[0m\u001b[0;34m,\u001b[0m \u001b[0mupdate_batch_desc\u001b[0m\u001b[0;34m)\u001b[0m\u001b[0;34m\u001b[0m\u001b[0;34m\u001b[0m\u001b[0m\n\u001b[0m\u001b[1;32m    854\u001b[0m         \u001b[0;32mexcept\u001b[0m \u001b[0;34m(\u001b[0m\u001b[0mValueError\u001b[0m\u001b[0;34m,\u001b[0m \u001b[0mFloatingPointError\u001b[0m\u001b[0;34m)\u001b[0m \u001b[0;32mas\u001b[0m \u001b[0me\u001b[0m\u001b[0;34m:\u001b[0m\u001b[0;34m\u001b[0m\u001b[0;34m\u001b[0m\u001b[0m\n\u001b[1;32m    855\u001b[0m             \u001b[0;32mfrom\u001b[0m \u001b[0mtraceback\u001b[0m \u001b[0;32mimport\u001b[0m \u001b[0mformat_exception\u001b[0m\u001b[0;34m\u001b[0m\u001b[0;34m\u001b[0m\u001b[0m\n",
      "\u001b[0;32m~/GP/MIMIC-SNONET/mimicnet/train.py\u001b[0m in \u001b[0;36mupdate\u001b[0;34m(step, batch, opt_state, iteration_text_callback)\u001b[0m\n\u001b[1;32m    808\u001b[0m                 \u001b[0;32mraise\u001b[0m \u001b[0mValueError\u001b[0m\u001b[0;34m(\u001b[0m\u001b[0;34m\"Nan Params\"\u001b[0m\u001b[0;34m)\u001b[0m\u001b[0;34m\u001b[0m\u001b[0;34m\u001b[0m\u001b[0m\n\u001b[1;32m    809\u001b[0m \u001b[0;34m\u001b[0m\u001b[0m\n\u001b[0;32m--> 810\u001b[0;31m         \u001b[0mgrads\u001b[0m \u001b[0;34m=\u001b[0m \u001b[0mjax\u001b[0m\u001b[0;34m.\u001b[0m\u001b[0mgrad\u001b[0m\u001b[0;34m(\u001b[0m\u001b[0mloss_fn\u001b[0m\u001b[0;34m)\u001b[0m\u001b[0;34m(\u001b[0m\u001b[0mparams\u001b[0m\u001b[0;34m,\u001b[0m \u001b[0mbatch\u001b[0m\u001b[0;34m,\u001b[0m \u001b[0miteration_text_callback\u001b[0m\u001b[0;34m)\u001b[0m\u001b[0;34m\u001b[0m\u001b[0;34m\u001b[0m\u001b[0m\n\u001b[0m\u001b[1;32m    811\u001b[0m         \u001b[0;32mif\u001b[0m \u001b[0mnan_debug\u001b[0m\u001b[0;34m:\u001b[0m\u001b[0;34m\u001b[0m\u001b[0;34m\u001b[0m\u001b[0m\n\u001b[1;32m    812\u001b[0m             \u001b[0;32mif\u001b[0m \u001b[0mtree_hasnan\u001b[0m\u001b[0;34m(\u001b[0m\u001b[0mgrads\u001b[0m\u001b[0;34m)\u001b[0m\u001b[0;34m:\u001b[0m\u001b[0;34m\u001b[0m\u001b[0;34m\u001b[0m\u001b[0m\n",
      "    \u001b[0;31m[... skipping hidden 15 frame]\u001b[0m\n",
      "\u001b[0;32m~/.local/lib/python3.8/site-packages/jax/interpreters/xla.py\u001b[0m in \u001b[0;36m_execute_compiled\u001b[0;34m(name, compiled, output_buffer_counts, handlers, kept_var_idx, *args)\u001b[0m\n\u001b[1;32m   1098\u001b[0m           \u001b[0;32mfor\u001b[0m \u001b[0mi\u001b[0m\u001b[0;34m,\u001b[0m \u001b[0mx\u001b[0m \u001b[0;32min\u001b[0m \u001b[0menumerate\u001b[0m\u001b[0;34m(\u001b[0m\u001b[0margs\u001b[0m\u001b[0;34m)\u001b[0m\u001b[0;34m\u001b[0m\u001b[0;34m\u001b[0m\u001b[0m\n\u001b[1;32m   1099\u001b[0m           if x is not token and i in kept_var_idx))\n\u001b[0;32m-> 1100\u001b[0;31m   \u001b[0mout_bufs\u001b[0m \u001b[0;34m=\u001b[0m \u001b[0mcompiled\u001b[0m\u001b[0;34m.\u001b[0m\u001b[0mexecute\u001b[0m\u001b[0;34m(\u001b[0m\u001b[0minput_bufs\u001b[0m\u001b[0;34m)\u001b[0m\u001b[0;34m\u001b[0m\u001b[0;34m\u001b[0m\u001b[0m\n\u001b[0m\u001b[1;32m   1101\u001b[0m   \u001b[0mcheck_special\u001b[0m\u001b[0;34m(\u001b[0m\u001b[0mname\u001b[0m\u001b[0;34m,\u001b[0m \u001b[0mout_bufs\u001b[0m\u001b[0;34m)\u001b[0m\u001b[0;34m\u001b[0m\u001b[0;34m\u001b[0m\u001b[0m\n\u001b[1;32m   1102\u001b[0m   \u001b[0;32mif\u001b[0m \u001b[0moutput_buffer_counts\u001b[0m \u001b[0;32mis\u001b[0m \u001b[0;32mNone\u001b[0m\u001b[0;34m:\u001b[0m\u001b[0;34m\u001b[0m\u001b[0;34m\u001b[0m\u001b[0m\n",
      "\u001b[0;31mRuntimeError\u001b[0m: Resource exhausted: Out of memory while trying to allocate 485689488 bytes."
     ]
    }
   ],
   "source": [
    "import random\n",
    "%load_ext autoreload\n",
    "%autoreload 2\n",
    "from absl import logging\n",
    "logging.set_verbosity(logging.INFO)\n",
    "\n",
    "#with jax.profiler.trace(logs):\n",
    "res = train.train_ehr(subject_interface=subjects_interface,\n",
    "                diag_gram=diag_gram,\n",
    "                proc_gram=proc_gram,\n",
    "                rng=random.Random(42),\n",
    "                **config['model'],\n",
    "                **config['training'],\n",
    "                verbose_debug=False,\n",
    "                shape_debug=False,\n",
    "                nan_debug=False,\n",
    "                memory_profile=False)"
   ]
  },
  {
   "cell_type": "markdown",
   "id": "understood-drinking",
   "metadata": {},
   "source": [
    "#### Possible modifications:\n",
    "- Add more layers to the adjustment function\n",
    "- Use days instead of weeks for odeint"
   ]
  }
 ],
 "metadata": {
  "kernelspec": {
   "display_name": "Python 3 (ipykernel)",
   "language": "python",
   "name": "python3"
  },
  "language_info": {
   "codemirror_mode": {
    "name": "ipython",
    "version": 3
   },
   "file_extension": ".py",
   "mimetype": "text/x-python",
   "name": "python",
   "nbconvert_exporter": "python",
   "pygments_lexer": "ipython3",
   "version": "3.9.7"
  }
 },
 "nbformat": 4,
 "nbformat_minor": 5
}
