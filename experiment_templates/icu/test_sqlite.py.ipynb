{
 "cells": [
  {
   "cell_type": "code",
   "id": "initial_id",
   "metadata": {
    "collapsed": true,
    "ExecuteTime": {
     "end_time": "2024-09-12T15:48:26.304123Z",
     "start_time": "2024-09-12T15:48:21.793664Z"
    }
   },
   "source": [
    "from lib.db.models import create_tables\n",
    "from sqlalchemy import create_engine\n",
    "\n",
    "engine = create_engine(\"sqlite+pysqlite:///test.sqlite\")\n",
    "create_tables(engine)"
   ],
   "outputs": [],
   "execution_count": 1
  },
  {
   "metadata": {
    "ExecuteTime": {
     "end_time": "2024-09-12T15:50:32.315665Z",
     "start_time": "2024-09-12T15:50:32.281903Z"
    }
   },
   "cell_type": "code",
   "source": [
    "from lib.db.models import get_or_create, Metric, Results\n",
    "from sqlalchemy.orm import Session\n",
    "from lib.db.models import EvaluationRun, EvaluationStatus, Experiment\n",
    "\n",
    "def save_metrics(engine, exp: str, snapshot: str, metrics):\n",
    "\n",
    "    # Add metrics if they don't exist\n",
    "    with Session(engine) as session, session.begin():\n",
    "        for metric_name in metrics.keys():\n",
    "            get_or_create(engine, Metric, name=metric_name)\n",
    "\n",
    "    with Session(engine) as session, session.begin():\n",
    "        evaluation = session.query(EvaluationRun).filter(\n",
    "            EvaluationRun.experiment.has(name=exp),\n",
    "            EvaluationRun.snapshot == snapshot).one()\n",
    "        evaluation_id = evaluation.id\n",
    "        metric_id = {\n",
    "            metric.name: metric.id\n",
    "            for metric in session.query(Metric).filter(\n",
    "                Metric.name.in_(metrics.keys())).all()\n",
    "        }\n",
    "        for metric_name, metric_value in metrics.items():\n",
    "            result = Results(evaluation_id=evaluation_id,\n",
    "                                  metric_id=metric_id[metric_name],\n",
    "                                  value=metric_value)\n",
    "            session.add(result)\n",
    "\n",
    "\n",
    "with Session(engine) as session, session.begin():\n",
    "    running_status = get_or_create(engine, EvaluationStatus, name='RUNNING')\n",
    "    experiment = get_or_create(engine, Experiment, name='test1')\n",
    "\n",
    "    running_eval = session.query(EvaluationRun).filter(EvaluationRun.experiment.has(name='test1'),\n",
    "                                                            EvaluationRun.snapshot == 'test_snapshot',\n",
    "                                                            EvaluationRun.status.has( name='RUNNING')).one_or_none()\n",
    "    if running_eval is not None:\n",
    "        pass\n",
    "    else:\n",
    "        new_eval = EvaluationRun(experiment=experiment, snapshot='test_snapshot', status=running_status)\n",
    "        session.add(new_eval)\n",
    "        \n",
    "with Session(engine) as session, session.begin():\n",
    "    running_status = get_or_create(engine, EvaluationStatus, name='FINISHED')\n",
    "    running_eval = session.query(EvaluationRun).filter(EvaluationRun.experiment.has(name='test1'),\n",
    "                                                            EvaluationRun.snapshot == 'test_snapshot',\n",
    "                                                            EvaluationRun.status.has( name='RUNNING')).one()\n",
    "    running_eval.status = running_status\n",
    "    \n",
    "# save_metrics(engine, 'test1', 'test_snapshot', {'x': 1, 'y': 2})"
   ],
   "id": "626bcd0a0dbc44b0",
   "outputs": [],
   "execution_count": 5
  },
  {
   "metadata": {
    "ExecuteTime": {
     "end_time": "2024-09-12T15:52:09.249024Z",
     "start_time": "2024-09-12T15:52:09.235621Z"
    }
   },
   "cell_type": "code",
   "source": [
    "with Session(engine) as session, session.begin():\n",
    "    running_eval = session.query(EvaluationRun).filter(EvaluationRun.experiment.has(name='test1'),\n",
    "                                                            EvaluationRun.snapshot == 'test_snapshot',\n",
    "                                                            EvaluationRun.status.has( name='FINISHED')).one_or_none()\n",
    "    session.delete(running_eval)"
   ],
   "id": "5b72ae597aaff0b8",
   "outputs": [],
   "execution_count": 9
  },
  {
   "metadata": {
    "ExecuteTime": {
     "end_time": "2024-09-12T15:50:45.412878Z",
     "start_time": "2024-09-12T15:50:45.401427Z"
    }
   },
   "cell_type": "code",
   "source": [
    "\n",
    "with Session(engine) as session, session.begin():\n",
    "    running_eval = session.query(EvaluationRun).filter(EvaluationRun.experiment.has(name='test1'),\n",
    "                                                            EvaluationRun.snapshot == 'test_snapshot',\n",
    "                                                            EvaluationRun.status.has( name='RUNNING')).one_or_none()\n",
    "    print(running_eval.created_at, running_eval.updated_at)\n",
    "# with Session(engine) as session, session.begin():\n",
    "#     finished_status = get_or_create(engine, EvaluationStatus, name='FINISHED')\n",
    "#     new_eval = session.query(EvaluationRun).filter(EvaluationRun.experiment.has(name='test1'),\n",
    "#                                                         EvaluationRun.snapshot == 'test_snapshot').one()\n",
    "#     new_eval.status = finished_status"
   ],
   "id": "ac6e1f83e5aa598",
   "outputs": [
    {
     "name": "stdout",
     "output_type": "stream",
     "text": [
      "2024-09-12 16:45:19.454368 2024-09-12 16:50:32.308349\n"
     ]
    }
   ],
   "execution_count": 7
  },
  {
   "metadata": {},
   "cell_type": "code",
   "outputs": [],
   "execution_count": null,
   "source": "",
   "id": "a7e36c88398332f5"
  }
 ],
 "metadata": {
  "kernelspec": {
   "display_name": "Python 3",
   "language": "python",
   "name": "python3"
  },
  "language_info": {
   "codemirror_mode": {
    "name": "ipython",
    "version": 2
   },
   "file_extension": ".py",
   "mimetype": "text/x-python",
   "name": "python",
   "nbconvert_exporter": "python",
   "pygments_lexer": "ipython2",
   "version": "2.7.6"
  }
 },
 "nbformat": 4,
 "nbformat_minor": 5
}
