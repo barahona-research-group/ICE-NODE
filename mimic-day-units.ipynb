{
 "cells": [
  {
   "cell_type": "code",
   "execution_count": 9,
   "id": "bf45d070",
   "metadata": {},
   "outputs": [],
   "source": [
    "import numpy as np\n",
    "import pandas as pd\n",
    "import json\n",
    "import collections\n",
    "from collections import defaultdict \n",
    "from functools import partial\n",
    "import networkx as nx\n",
    "import matplotlib.pyplot as plt\n",
    "import seaborn as sns\n",
    "from tqdm import tqdm\n"
   ]
  },
  {
   "cell_type": "markdown",
   "id": "343145f1",
   "metadata": {},
   "source": [
    "### This notebook transforms information in tables into points with \"day\" as smallest time unit\n"
   ]
  },
  {
   "cell_type": "code",
   "execution_count": 10,
   "id": "5c00dddc",
   "metadata": {},
   "outputs": [
    {
     "data": {
      "text/plain": [
       "<module 'mimicnet.concept' from '/home/asem/GP/MIMIC-SNONET/mimicnet/concept.py'>"
      ]
     },
     "execution_count": 10,
     "metadata": {},
     "output_type": "execute_result"
    }
   ],
   "source": [
    "# Good read: https://iq-inc.com/importerror-attempted-relative-import/\n",
    "\n",
    "import sys\n",
    "import importlib\n",
    "from mimicnet import concept\n",
    "\n",
    "importlib.reload(sys.modules['mimicnet.concept'])"
   ]
  },
  {
   "cell_type": "code",
   "execution_count": 11,
   "id": "51442959",
   "metadata": {},
   "outputs": [],
   "source": [
    "# multi_visit_mimic_dir = '/home/am8520/GP/ehr-data/mimic3-multi-visit'\n",
    "multi_visit_mimic_dir = '/home/asem/GP/ehr-data/mimic3-multi-visit'\n",
    "\n",
    "PATIENTS = pd.read_csv(f'{multi_visit_mimic_dir}/PATIENTS.csv.gz')\n",
    "ADMISSIONS = pd.read_csv(f'{multi_visit_mimic_dir}/ADMISSIONS.csv.gz')\n",
    "DIAGNOSES_ICD = pd.read_csv(f'{multi_visit_mimic_dir}/DIAGNOSES_ICD.csv.gz')\n",
    "PROCEDURES_ICD = pd.read_csv(f'{multi_visit_mimic_dir}/PROCEDURES_ICD.csv.gz')\n",
    "LABEVENTS = pd.read_csv(f'{multi_visit_mimic_dir}/LABEVENTS.csv.gz')"
   ]
  },
  {
   "cell_type": "code",
   "execution_count": 33,
   "id": "0f1732e6",
   "metadata": {},
   "outputs": [
    {
     "data": {
      "text/plain": [
       "7537"
      ]
     },
     "execution_count": 33,
     "metadata": {},
     "output_type": "execute_result"
    }
   ],
   "source": [
    "N_PATIENTS = PATIENTS.shape[0]\n",
    "N_PATIENTS "
   ]
  },
  {
   "cell_type": "code",
   "execution_count": 15,
   "id": "51508f6c",
   "metadata": {},
   "outputs": [
    {
     "name": "stderr",
     "output_type": "stream",
     "text": [
      "12it [02:24, 12.06s/it]\n"
     ]
    }
   ],
   "source": [
    "chunksize = 10 ** 7\n",
    "CHARTEVENTS_dfs = []\n",
    "with pd.read_csv(f'{multi_visit_mimic_dir}/CHARTEVENTS.csv.gz', chunksize=chunksize) as reader:\n",
    "    for chunk in tqdm(reader):\n",
    "        CHARTEVENTS_dfs.append(chunk[['SUBJECT_ID', 'ITEMID', 'CHARTTIME', 'VALUE', 'VALUENUM', 'VALUEUOM']])\n",
    "        # just for experiments"
   ]
  },
  {
   "cell_type": "markdown",
   "id": "3f93f689",
   "metadata": {},
   "source": [
    "### Load dictionary stuff"
   ]
  },
  {
   "cell_type": "code",
   "execution_count": 16,
   "id": "09f08543",
   "metadata": {},
   "outputs": [],
   "source": [
    "# mimic_dir = '/home/am8520/GP/ehr-data/mimic3-multi-visit'\n",
    "mimic_dir = '/home/asem/GP/ehr-data/mimic3-v1.4/physionet.org/files/mimiciii/1.4'\n",
    "\n",
    "\n",
    "D_LABITEMS = pd.read_csv(f'{mimic_dir}/D_LABITEMS.csv.gz')\n",
    "D_ITEMS = pd.read_csv(f'{mimic_dir}/D_ITEMS.csv.gz')"
   ]
  },
  {
   "cell_type": "code",
   "execution_count": 17,
   "id": "222a651a",
   "metadata": {},
   "outputs": [
    {
     "data": {
      "text/html": [
       "<div>\n",
       "<style scoped>\n",
       "    .dataframe tbody tr th:only-of-type {\n",
       "        vertical-align: middle;\n",
       "    }\n",
       "\n",
       "    .dataframe tbody tr th {\n",
       "        vertical-align: top;\n",
       "    }\n",
       "\n",
       "    .dataframe thead th {\n",
       "        text-align: right;\n",
       "    }\n",
       "</style>\n",
       "<table border=\"1\" class=\"dataframe\">\n",
       "  <thead>\n",
       "    <tr style=\"text-align: right;\">\n",
       "      <th></th>\n",
       "      <th>ROW_ID</th>\n",
       "      <th>ITEMID</th>\n",
       "      <th>LABEL</th>\n",
       "      <th>ABBREVIATION</th>\n",
       "      <th>DBSOURCE</th>\n",
       "      <th>LINKSTO</th>\n",
       "      <th>CATEGORY</th>\n",
       "      <th>UNITNAME</th>\n",
       "      <th>PARAM_TYPE</th>\n",
       "      <th>CONCEPTID</th>\n",
       "    </tr>\n",
       "  </thead>\n",
       "  <tbody>\n",
       "    <tr>\n",
       "      <th>0</th>\n",
       "      <td>457</td>\n",
       "      <td>497</td>\n",
       "      <td>Patient controlled analgesia (PCA) [Inject]</td>\n",
       "      <td>NaN</td>\n",
       "      <td>carevue</td>\n",
       "      <td>chartevents</td>\n",
       "      <td>NaN</td>\n",
       "      <td>NaN</td>\n",
       "      <td>NaN</td>\n",
       "      <td>NaN</td>\n",
       "    </tr>\n",
       "    <tr>\n",
       "      <th>1</th>\n",
       "      <td>458</td>\n",
       "      <td>498</td>\n",
       "      <td>PCA Lockout (Min)</td>\n",
       "      <td>NaN</td>\n",
       "      <td>carevue</td>\n",
       "      <td>chartevents</td>\n",
       "      <td>NaN</td>\n",
       "      <td>NaN</td>\n",
       "      <td>NaN</td>\n",
       "      <td>NaN</td>\n",
       "    </tr>\n",
       "    <tr>\n",
       "      <th>2</th>\n",
       "      <td>459</td>\n",
       "      <td>499</td>\n",
       "      <td>PCA Medication</td>\n",
       "      <td>NaN</td>\n",
       "      <td>carevue</td>\n",
       "      <td>chartevents</td>\n",
       "      <td>NaN</td>\n",
       "      <td>NaN</td>\n",
       "      <td>NaN</td>\n",
       "      <td>NaN</td>\n",
       "    </tr>\n",
       "    <tr>\n",
       "      <th>3</th>\n",
       "      <td>460</td>\n",
       "      <td>500</td>\n",
       "      <td>PCA Total Dose</td>\n",
       "      <td>NaN</td>\n",
       "      <td>carevue</td>\n",
       "      <td>chartevents</td>\n",
       "      <td>NaN</td>\n",
       "      <td>NaN</td>\n",
       "      <td>NaN</td>\n",
       "      <td>NaN</td>\n",
       "    </tr>\n",
       "    <tr>\n",
       "      <th>4</th>\n",
       "      <td>461</td>\n",
       "      <td>501</td>\n",
       "      <td>PCV Exh Vt (Obser)</td>\n",
       "      <td>NaN</td>\n",
       "      <td>carevue</td>\n",
       "      <td>chartevents</td>\n",
       "      <td>NaN</td>\n",
       "      <td>NaN</td>\n",
       "      <td>NaN</td>\n",
       "      <td>NaN</td>\n",
       "    </tr>\n",
       "  </tbody>\n",
       "</table>\n",
       "</div>"
      ],
      "text/plain": [
       "   ROW_ID  ITEMID                                        LABEL ABBREVIATION  \\\n",
       "0     457     497  Patient controlled analgesia (PCA) [Inject]          NaN   \n",
       "1     458     498                            PCA Lockout (Min)          NaN   \n",
       "2     459     499                               PCA Medication          NaN   \n",
       "3     460     500                               PCA Total Dose          NaN   \n",
       "4     461     501                           PCV Exh Vt (Obser)          NaN   \n",
       "\n",
       "  DBSOURCE      LINKSTO CATEGORY UNITNAME PARAM_TYPE  CONCEPTID  \n",
       "0  carevue  chartevents      NaN      NaN        NaN        NaN  \n",
       "1  carevue  chartevents      NaN      NaN        NaN        NaN  \n",
       "2  carevue  chartevents      NaN      NaN        NaN        NaN  \n",
       "3  carevue  chartevents      NaN      NaN        NaN        NaN  \n",
       "4  carevue  chartevents      NaN      NaN        NaN        NaN  "
      ]
     },
     "execution_count": 17,
     "metadata": {},
     "output_type": "execute_result"
    }
   ],
   "source": [
    "D_ITEMS.head()"
   ]
  },
  {
   "cell_type": "code",
   "execution_count": 25,
   "id": "baabcdf4",
   "metadata": {},
   "outputs": [
    {
     "data": {
      "text/html": [
       "<div>\n",
       "<style scoped>\n",
       "    .dataframe tbody tr th:only-of-type {\n",
       "        vertical-align: middle;\n",
       "    }\n",
       "\n",
       "    .dataframe tbody tr th {\n",
       "        vertical-align: top;\n",
       "    }\n",
       "\n",
       "    .dataframe thead th {\n",
       "        text-align: right;\n",
       "    }\n",
       "</style>\n",
       "<table border=\"1\" class=\"dataframe\">\n",
       "  <thead>\n",
       "    <tr style=\"text-align: right;\">\n",
       "      <th></th>\n",
       "      <th>SUBJECT_ID</th>\n",
       "      <th>ITEMID</th>\n",
       "      <th>CHARTTIME</th>\n",
       "      <th>VALUE</th>\n",
       "      <th>VALUENUM</th>\n",
       "      <th>VALUEUOM</th>\n",
       "    </tr>\n",
       "  </thead>\n",
       "  <tbody>\n",
       "    <tr>\n",
       "      <th>0</th>\n",
       "      <td>36</td>\n",
       "      <td>223834</td>\n",
       "      <td>2134-05-12 12:00:00</td>\n",
       "      <td>15.00</td>\n",
       "      <td>15.00</td>\n",
       "      <td>L/min</td>\n",
       "    </tr>\n",
       "    <tr>\n",
       "      <th>1</th>\n",
       "      <td>36</td>\n",
       "      <td>223835</td>\n",
       "      <td>2134-05-12 12:00:00</td>\n",
       "      <td>100.00</td>\n",
       "      <td>100.00</td>\n",
       "      <td>NaN</td>\n",
       "    </tr>\n",
       "    <tr>\n",
       "      <th>2</th>\n",
       "      <td>36</td>\n",
       "      <td>224328</td>\n",
       "      <td>2134-05-12 12:00:00</td>\n",
       "      <td>0.37</td>\n",
       "      <td>0.37</td>\n",
       "      <td>NaN</td>\n",
       "    </tr>\n",
       "    <tr>\n",
       "      <th>3</th>\n",
       "      <td>36</td>\n",
       "      <td>224329</td>\n",
       "      <td>2134-05-12 12:00:00</td>\n",
       "      <td>6.00</td>\n",
       "      <td>6.00</td>\n",
       "      <td>min</td>\n",
       "    </tr>\n",
       "    <tr>\n",
       "      <th>4</th>\n",
       "      <td>36</td>\n",
       "      <td>224330</td>\n",
       "      <td>2134-05-12 12:00:00</td>\n",
       "      <td>2.50</td>\n",
       "      <td>2.50</td>\n",
       "      <td>NaN</td>\n",
       "    </tr>\n",
       "  </tbody>\n",
       "</table>\n",
       "</div>"
      ],
      "text/plain": [
       "   SUBJECT_ID  ITEMID            CHARTTIME   VALUE  VALUENUM VALUEUOM\n",
       "0          36  223834  2134-05-12 12:00:00   15.00     15.00    L/min\n",
       "1          36  223835  2134-05-12 12:00:00  100.00    100.00      NaN\n",
       "2          36  224328  2134-05-12 12:00:00    0.37      0.37      NaN\n",
       "3          36  224329  2134-05-12 12:00:00    6.00      6.00      min\n",
       "4          36  224330  2134-05-12 12:00:00    2.50      2.50      NaN"
      ]
     },
     "execution_count": 25,
     "metadata": {},
     "output_type": "execute_result"
    }
   ],
   "source": [
    "CHARTEVENTS_dfs[0].head()"
   ]
  },
  {
   "cell_type": "code",
   "execution_count": 24,
   "id": "6f705d97",
   "metadata": {},
   "outputs": [
    {
     "data": {
      "text/plain": [
       "220045    782629\n",
       "220210    774740\n",
       "220277    754336\n",
       "220181    389933\n",
       "220179    389017\n",
       "           ...  \n",
       "220125         1\n",
       "228181         1\n",
       "227647         1\n",
       "227039         1\n",
       "228146         1\n",
       "Name: ITEMID, Length: 470, dtype: int64"
      ]
     },
     "execution_count": 24,
     "metadata": {},
     "output_type": "execute_result"
    }
   ],
   "source": [
    "CHARTEVENTS_dfs[0].ITEMID.value_counts()\n"
   ]
  },
  {
   "cell_type": "code",
   "execution_count": null,
   "id": "c0887da1",
   "metadata": {},
   "outputs": [],
   "source": [
    "# For each chartevent item_id, store a set of patient that have at least one measurement of that type.\n",
    "chartevets_item_patients = defaultdict(set)\n",
    "for df in CHARTEVENTS_dfs:\n",
    "    item_subject_df = df.drop_duplicates(subset=['ITEMID', 'SUBJECT_ID'], ignore_index=True)\n",
    "    for item_id, subjects_df in item_subject_df.groupby('ITEMID'):\n",
    "        chartevets_item_patients[item_id].update(subjects_df.SUBJECT_ID.tolist())\n",
    "        \n",
    "        "
   ]
  },
  {
   "cell_type": "code",
   "execution_count": 28,
   "id": "37b13f50",
   "metadata": {},
   "outputs": [
    {
     "data": {
      "text/plain": [
       "4477"
      ]
     },
     "execution_count": 28,
     "metadata": {},
     "output_type": "execute_result"
    }
   ],
   "source": [
    "len(chartevets_item_patients)"
   ]
  },
  {
   "cell_type": "code",
   "execution_count": 34,
   "id": "5f7fd2b0",
   "metadata": {},
   "outputs": [
    {
     "data": {
      "text/html": [
       "<div>\n",
       "<style scoped>\n",
       "    .dataframe tbody tr th:only-of-type {\n",
       "        vertical-align: middle;\n",
       "    }\n",
       "\n",
       "    .dataframe tbody tr th {\n",
       "        vertical-align: top;\n",
       "    }\n",
       "\n",
       "    .dataframe thead th {\n",
       "        text-align: right;\n",
       "    }\n",
       "</style>\n",
       "<table border=\"1\" class=\"dataframe\">\n",
       "  <thead>\n",
       "    <tr style=\"text-align: right;\">\n",
       "      <th></th>\n",
       "      <th>ITEMID</th>\n",
       "      <th>N_PATIENTS</th>\n",
       "      <th>P_PATIENTS</th>\n",
       "    </tr>\n",
       "  </thead>\n",
       "  <tbody>\n",
       "    <tr>\n",
       "      <th>1035</th>\n",
       "      <td>926</td>\n",
       "      <td>5119</td>\n",
       "      <td>0.679183</td>\n",
       "    </tr>\n",
       "    <tr>\n",
       "      <th>617</th>\n",
       "      <td>211</td>\n",
       "      <td>5032</td>\n",
       "      <td>0.667640</td>\n",
       "    </tr>\n",
       "    <tr>\n",
       "      <th>479</th>\n",
       "      <td>31</td>\n",
       "      <td>5018</td>\n",
       "      <td>0.665782</td>\n",
       "    </tr>\n",
       "    <tr>\n",
       "      <th>516</th>\n",
       "      <td>80</td>\n",
       "      <td>4953</td>\n",
       "      <td>0.657158</td>\n",
       "    </tr>\n",
       "    <tr>\n",
       "      <th>1036</th>\n",
       "      <td>927</td>\n",
       "      <td>4891</td>\n",
       "      <td>0.648932</td>\n",
       "    </tr>\n",
       "    <tr>\n",
       "      <th>...</th>\n",
       "      <td>...</td>\n",
       "      <td>...</td>\n",
       "      <td>...</td>\n",
       "    </tr>\n",
       "    <tr>\n",
       "      <th>2583</th>\n",
       "      <td>2339</td>\n",
       "      <td>1</td>\n",
       "      <td>0.000133</td>\n",
       "    </tr>\n",
       "    <tr>\n",
       "      <th>2584</th>\n",
       "      <td>2368</td>\n",
       "      <td>1</td>\n",
       "      <td>0.000133</td>\n",
       "    </tr>\n",
       "    <tr>\n",
       "      <th>2585</th>\n",
       "      <td>2369</td>\n",
       "      <td>1</td>\n",
       "      <td>0.000133</td>\n",
       "    </tr>\n",
       "    <tr>\n",
       "      <th>2586</th>\n",
       "      <td>2408</td>\n",
       "      <td>1</td>\n",
       "      <td>0.000133</td>\n",
       "    </tr>\n",
       "    <tr>\n",
       "      <th>4476</th>\n",
       "      <td>228194</td>\n",
       "      <td>1</td>\n",
       "      <td>0.000133</td>\n",
       "    </tr>\n",
       "  </tbody>\n",
       "</table>\n",
       "<p>4477 rows × 3 columns</p>\n",
       "</div>"
      ],
      "text/plain": [
       "      ITEMID  N_PATIENTS  P_PATIENTS\n",
       "1035     926        5119    0.679183\n",
       "617      211        5032    0.667640\n",
       "479       31        5018    0.665782\n",
       "516       80        4953    0.657158\n",
       "1036     927        4891    0.648932\n",
       "...      ...         ...         ...\n",
       "2583    2339           1    0.000133\n",
       "2584    2368           1    0.000133\n",
       "2585    2369           1    0.000133\n",
       "2586    2408           1    0.000133\n",
       "4476  228194           1    0.000133\n",
       "\n",
       "[4477 rows x 3 columns]"
      ]
     },
     "execution_count": 34,
     "metadata": {},
     "output_type": "execute_result"
    }
   ],
   "source": [
    "chartevets_item_patients_count_df = pd.DataFrame({'ITEMID': chartevets_item_patients.keys(),\n",
    "                                                 'N_PATIENTS': map(len, chartevets_item_patients.values())})\n",
    "chartevets_item_patients_count_df['P_PATIENTS'] = chartevets_item_patients_count_df['N_PATIENTS'] / N_PATIENTS\n",
    "chartevets_item_patients_count_df = chartevets_item_patients_count_df.sort_values(by='N_PATIENTS', ascending=False)\n",
    "chartevets_item_patients_count_df"
   ]
  },
  {
   "cell_type": "code",
   "execution_count": 36,
   "id": "84545971",
   "metadata": {},
   "outputs": [
    {
     "data": {
      "text/plain": [
       "0.25642171096716554"
      ]
     },
     "execution_count": 36,
     "metadata": {},
     "output_type": "execute_result"
    }
   ],
   "source": [
    "np.mean(chartevets_item_patients_count_df.P_PATIENTS > 0.05)"
   ]
  },
  {
   "cell_type": "markdown",
   "id": "00b029f5",
   "metadata": {},
   "source": [
    "### Select CHARTEVENTS with ITEMID covering at least 5% of all patients in the dataset"
   ]
  },
  {
   "cell_type": "code",
   "execution_count": 39,
   "id": "6428304c",
   "metadata": {},
   "outputs": [],
   "source": [
    "selected_chart_events_itemid_set = set(chartevets_item_patients_count_df[chartevets_item_patients_count_df.P_PATIENTS > 0.05].ITEMID)"
   ]
  },
  {
   "cell_type": "code",
   "execution_count": 40,
   "id": "4fad0990",
   "metadata": {},
   "outputs": [
    {
     "data": {
      "text/plain": [
       "1148"
      ]
     },
     "execution_count": 40,
     "metadata": {},
     "output_type": "execute_result"
    }
   ],
   "source": [
    "len(selected_chart_events_itemid_set)"
   ]
  },
  {
   "cell_type": "markdown",
   "id": "ae2336ab",
   "metadata": {},
   "source": [
    "### Investigate the units used for each test type"
   ]
  },
  {
   "cell_type": "code",
   "execution_count": null,
   "id": "215850b2",
   "metadata": {},
   "outputs": [],
   "source": [
    "# Group each ITEMID with the set of used units (to detect unit incosistency for each unique test).\n",
    "chartevets_item_units = defaultdict(set)\n",
    "for df in CHARTEVENTS_dfs:\n",
    "    item_unit_df = df.drop_duplicates(subset=['ITEMID', 'VALUEUOM'], ignore_index=True)\n",
    "    for item_id, units_df in item_unit_df.groupby('ITEMID'):\n",
    "        chartevets_item_units[item_id].update(units_df.VALUEUOM.tolist())"
   ]
  },
  {
   "cell_type": "code",
   "execution_count": null,
   "id": "3e0edecf",
   "metadata": {},
   "outputs": [],
   "source": [
    "chartevets_item_units_count_df = pd.DataFrame({'ITEMID': chartevets_item_units.keys(),\n",
    "                                                 'N_UNITS': map(len, chartevets_item_units.values())})\n",
    "chartevets_item_patients_count_df['P_PATIENTS'] = chartevets_item_patients_count_df['N_PATIENTS'] / N_PATIENTS\n",
    "chartevets_item_patients_count_df = chartevets_item_patients_count_df.sort_values(by='N_PATIENTS', ascending=False)\n",
    "chartevets_item_patients_count_df"
   ]
  }
 ],
 "metadata": {
  "kernelspec": {
   "display_name": "Python 3 (ipykernel)",
   "language": "python",
   "name": "python3"
  },
  "language_info": {
   "codemirror_mode": {
    "name": "ipython",
    "version": 3
   },
   "file_extension": ".py",
   "mimetype": "text/x-python",
   "name": "python",
   "nbconvert_exporter": "python",
   "pygments_lexer": "ipython3",
   "version": "3.9.7"
  }
 },
 "nbformat": 4,
 "nbformat_minor": 5
}
