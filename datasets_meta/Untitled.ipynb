{
 "cells": [
  {
   "cell_type": "code",
   "execution_count": 2,
   "id": "088362e5",
   "metadata": {},
   "outputs": [],
   "source": [
    "import json\n",
    "\n",
    "d = {\n",
    "    'name': 'MIMIC-IV',\n",
    "    'python_class': 'MIMICDataset',\n",
    "    'version': 'v0.4',\n",
    "    'base_dir': '$DATA_DIR',\n",
    "    'files':\n",
    "    {\n",
    "        'adm': 'adm_df.csv.gz',\n",
    "        'dx': 'dx_df.csv.gz',\n",
    "        'pr': 'pr_df.csv.gz'\n",
    "    },\n",
    "    'code_scheme':\n",
    "    {\n",
    "        'dx': 'dx_icd9',\n",
    "        'pr': 'dx_icd9'\n",
    "    },\n",
    "    'code_colname':\n",
    "    {\n",
    "        'dx': 'ICD9_CODE',\n",
    "        'pr': 'ICD9_CODE'\n",
    "    }\n",
    "}"
   ]
  },
  {
   "cell_type": "code",
   "execution_count": 3,
   "id": "3bd3e96d",
   "metadata": {},
   "outputs": [
    {
     "data": {
      "text/plain": [
       "{'name': 'MIMIC-IV',\n",
       " 'python_class': 'MIMICDataset',\n",
       " 'version': 'v0.4',\n",
       " 'base_dir': '$DATA_DIR',\n",
       " 'files': {'adm': 'adm_df.csv.gz', 'dx': 'dx_df.csv.gz', 'pr': 'pr_df.csv.gz'},\n",
       " 'code_scheme': {'dx': 'dx_icd9', 'pr': 'dx_icd9'},\n",
       " 'code_colname': {'dx': 'ICD9_CODE', 'pr': 'ICD9_CODE'}}"
      ]
     },
     "execution_count": 3,
     "metadata": {},
     "output_type": "execute_result"
    }
   ],
   "source": [
    "d"
   ]
  },
  {
   "cell_type": "code",
   "execution_count": 4,
   "id": "436412fe",
   "metadata": {},
   "outputs": [],
   "source": [
    "with open('mimic4_meta.json', 'w') as outfile:\n",
    "    json.dump(d, outfile, indent=4, sort_keys=True)"
   ]
  },
  {
   "cell_type": "code",
   "execution_count": 5,
   "id": "1d971e50",
   "metadata": {},
   "outputs": [],
   "source": [
    "import pandas as pd"
   ]
  },
  {
   "cell_type": "code",
   "execution_count": 6,
   "id": "1351328d",
   "metadata": {},
   "outputs": [],
   "source": [
    "import numpy as np\n",
    "df = pd.DataFrame({'a': np.arange(10), 'b': -np.arange(10)})"
   ]
  },
  {
   "cell_type": "code",
   "execution_count": 8,
   "id": "ce1e9e75",
   "metadata": {},
   "outputs": [
    {
     "ename": "TypeError",
     "evalue": "tuple indices must be integers or slices, not str",
     "output_type": "error",
     "traceback": [
      "\u001b[0;31m---------------------------------------------------------------------------\u001b[0m",
      "\u001b[0;31mTypeError\u001b[0m                                 Traceback (most recent call last)",
      "\u001b[0;32m/tmp/ipykernel_61611/231039019.py\u001b[0m in \u001b[0;36m<module>\u001b[0;34m\u001b[0m\n\u001b[1;32m      1\u001b[0m \u001b[0;32mfor\u001b[0m \u001b[0mt\u001b[0m \u001b[0;32min\u001b[0m \u001b[0mdf\u001b[0m\u001b[0;34m.\u001b[0m\u001b[0mitertuples\u001b[0m\u001b[0;34m(\u001b[0m\u001b[0;34m)\u001b[0m\u001b[0;34m:\u001b[0m\u001b[0;34m\u001b[0m\u001b[0;34m\u001b[0m\u001b[0m\n\u001b[0;32m----> 2\u001b[0;31m     \u001b[0mprint\u001b[0m\u001b[0;34m(\u001b[0m\u001b[0mt\u001b[0m\u001b[0;34m[\u001b[0m\u001b[0;34m'a'\u001b[0m\u001b[0;34m]\u001b[0m\u001b[0;34m)\u001b[0m\u001b[0;34m\u001b[0m\u001b[0;34m\u001b[0m\u001b[0m\n\u001b[0m",
      "\u001b[0;31mTypeError\u001b[0m: tuple indices must be integers or slices, not str"
     ]
    }
   ],
   "source": [
    "for t in df.itertuples():\n",
    "    print(t['a'])"
   ]
  },
  {
   "cell_type": "code",
   "execution_count": null,
   "id": "597d1e2f",
   "metadata": {},
   "outputs": [],
   "source": []
  }
 ],
 "metadata": {
  "kernelspec": {
   "display_name": "Python 3 (ipykernel)",
   "language": "python",
   "name": "python3"
  },
  "language_info": {
   "codemirror_mode": {
    "name": "ipython",
    "version": 3
   },
   "file_extension": ".py",
   "mimetype": "text/x-python",
   "name": "python",
   "nbconvert_exporter": "python",
   "pygments_lexer": "ipython3",
   "version": "3.8.12"
  }
 },
 "nbformat": 4,
 "nbformat_minor": 5
}
