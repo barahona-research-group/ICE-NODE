{
 "cells": [
  {
   "cell_type": "markdown",
   "id": "c046e4ec",
   "metadata": {},
   "source": [
    "# MIMIC-III Preparation\n",
    "\n",
    "This tutorial provides the steps of downloading the publicly available MIMIC-III dataset (assuming granted access), followed by cohort selection, and transformation to a compatible format with out software.\n",
    "\n",
    "<a name=\"outline\"></a>\n",
    "\n",
    "## Outline\n",
    "\n",
    "- [1](#sec1) Downloading MIMIC-III\n",
    "- [2](#sec2) Cohort Selection\n",
    "- [3](#sec3) Export\n"
   ]
  },
  {
   "cell_type": "code",
   "execution_count": null,
   "id": "e5fee477",
   "metadata": {},
   "outputs": [],
   "source": [
    "import pandas as pd\n",
    "from collections import defaultdict"
   ]
  },
  {
   "cell_type": "markdown",
   "id": "1adad904",
   "metadata": {},
   "source": [
    "<a name=\"sec1\"></a>\n",
    "\n",
    "## 1 Downloading MIMIC-III  [^](#outline)\n",
    "\n",
    "We assume a granted access to [MIMIC-III dataset](https://physionet.org/content/mimiciii/1.4/), a process that often takes two weeks from the access request to the approval.\n",
    "\n",
    "From this page [https://physionet.org/content/mimiciii/1.4/](https://physionet.org/content/mimiciii/1.4/), consult the table at the end of the page to download the following files:\n",
    "\n",
    "1. [`ADMISSIONS.csv.gz`](https://physionet.org/files/mimiciii/1.4/ADMISSIONS.csv.gz?download)\n",
    "2. [`DIAGNOSES_ICD.csv.gz`](https://physionet.org/files/mimiciii/1.4/DIAGNOSES_ICD.csv.gz?download)\n",
    "\n",
    "\n",
    "copy/paste these two files into `data` folder, in the same folder of this notebook."
   ]
  },
  {
   "cell_type": "code",
   "execution_count": null,
   "id": "0e56882f",
   "metadata": {},
   "outputs": [],
   "source": [
    "\n",
    "# Load admission file\n",
    "admissions_df = pd.read_csv('data/ADMISSIONS.csv.gz')\n",
    "\n",
    "# Count of all subjects in MIMIC-III\n",
    "print(f'#Subjects: {admissions_df.SUBJECT_ID.nunique()}')\n",
    "\n",
    "admissions_df"
   ]
  },
  {
   "cell_type": "code",
   "execution_count": null,
   "id": "c278fd69",
   "metadata": {},
   "outputs": [],
   "source": [
    "# Load Diagnosis file\n",
    "diag_df = pd.read_csv('data/DIAGNOSES_ICD.csv.gz', dtype = {'ICD9_CODE': str})\n",
    "\n",
    "\n",
    "diag_df"
   ]
  },
  {
   "cell_type": "markdown",
   "id": "b79f7ded",
   "metadata": {},
   "source": [
    "<a name=\"sec2\"></a>\n",
    "\n",
    "## 2 Cohort Selection  [^](#outline)"
   ]
  },
  {
   "cell_type": "markdown",
   "id": "b1927197",
   "metadata": {},
   "source": [
    "### 2.A Patient Selection: Minimum of Two Visits\n",
    "\n",
    "Patients with only one admission (i.e. single timestamp for the diagnosis codes) are not useful in training/validation/testing."
   ]
  },
  {
   "cell_type": "code",
   "execution_count": null,
   "id": "6422b979",
   "metadata": {},
   "outputs": [],
   "source": [
    "patient_admissions = defaultdict(set)\n",
    "\n",
    "for row in admissions_df.itertuples():\n",
    "    patient_admissions[row.SUBJECT_ID].add(row.HADM_ID)\n",
    "    \n",
    "patients_admissions_df = pd.DataFrame({\n",
    "    'patient': patient_admissions.keys(), \n",
    "    'n_admissions': map(len, patient_admissions.values())\n",
    "})\n",
    "\n",
    "\n",
    "selected_patients_A = set(patients_admissions_df[patients_admissions_df.n_admissions > 1].patient.tolist())\n",
    "\n",
    "len(selected_patients_A)"
   ]
  },
  {
   "cell_type": "markdown",
   "id": "ca8d0dbb",
   "metadata": {},
   "source": [
    "Apply the filtration"
   ]
  },
  {
   "cell_type": "code",
   "execution_count": null,
   "id": "21c40135",
   "metadata": {},
   "outputs": [],
   "source": [
    "admissions_A_df = admissions_df[admissions_df.SUBJECT_ID.isin(selected_patients_A)].reset_index(drop=True)\n",
    "diag_A_df =  diag_df[diag_df.HADM_ID.isin(admissions_A_df.HADM_ID)].reset_index(drop=True)\n",
    "diag_A_df = diag_A_df[diag_A_df.ICD9_CODE.notnull()].reset_index(drop=True)\n",
    "admissions_A_df.SUBJECT_ID.nunique(), len(admissions_A_df), len(diag_A_df)"
   ]
  },
  {
   "cell_type": "markdown",
   "id": "e03375e6",
   "metadata": {},
   "source": [
    "### 2.B Patient Selection: Maximum Hospital Stay is Two Weeks"
   ]
  },
  {
   "cell_type": "code",
   "execution_count": null,
   "id": "29318233",
   "metadata": {},
   "outputs": [],
   "source": [
    "admit = pd.to_datetime(admissions_A_df['ADMITTIME'], infer_datetime_format=True).dt.normalize() \n",
    "disch = pd.to_datetime(admissions_A_df['DISCHTIME'], infer_datetime_format=True).dt.normalize()\n",
    "admissions_A_df['days'] = (disch - admit).dt.days\n",
    "admissions_A_df.head()"
   ]
  },
  {
   "cell_type": "code",
   "execution_count": null,
   "id": "758ea6ac",
   "metadata": {},
   "outputs": [],
   "source": [
    "longest_admission = {}\n",
    "for subject_id, subject_df in admissions_A_df.groupby('SUBJECT_ID'):\n",
    "    longest_admission[subject_id] = subject_df.days.max()\n",
    "    \n",
    "admissions_A_df['max_days'] = admissions_A_df.SUBJECT_ID.map(longest_admission)\n",
    "selected_patients_B = set(admissions_A_df[admissions_A_df.max_days <= 14].SUBJECT_ID)"
   ]
  },
  {
   "cell_type": "markdown",
   "id": "360ac5bd",
   "metadata": {},
   "source": [
    "Apply the filtration"
   ]
  },
  {
   "cell_type": "code",
   "execution_count": null,
   "id": "a7ec1134",
   "metadata": {},
   "outputs": [],
   "source": [
    "admissions_B_df = admissions_A_df[admissions_A_df.SUBJECT_ID.isin(selected_patients_B)].reset_index(drop=True)\n",
    "diag_B_df =  diag_A_df[diag_A_df.HADM_ID.isin(admissions_B_df.HADM_ID)].reset_index(drop=True)\n",
    "diag_B_df = diag_B_df[diag_B_df.ICD9_CODE.notnull()].reset_index(drop=True)\n",
    "admissions_B_df.SUBJECT_ID.nunique(), len(admissions_B_df), len(diag_B_df)"
   ]
  },
  {
   "cell_type": "markdown",
   "id": "645a55b4",
   "metadata": {},
   "source": [
    "<a name=\"sec3\"></a>\n",
    "\n",
    "## 3 Export  [^](#outline)\n",
    "\n",
    "Select relevant columns from `admissions_B_df` and `diag_B_df` then write to disk."
   ]
  },
  {
   "cell_type": "code",
   "execution_count": null,
   "id": "79b74378",
   "metadata": {},
   "outputs": [],
   "source": [
    "admissions_selected_df = admissions_B_df[['SUBJECT_ID', 'HADM_ID', 'ADMITTIME', 'DISCHTIME']]"
   ]
  },
  {
   "cell_type": "code",
   "execution_count": null,
   "id": "62e48bc5",
   "metadata": {},
   "outputs": [],
   "source": [
    "admissions_selected_df.ADMITTIME = pd.to_datetime(admissions_selected_df.ADMITTIME, \n",
    "                                                  infer_datetime_format=True).dt.normalize()\n",
    "admissions_selected_df.DISCHTIME = pd.to_datetime(admissions_selected_df.DISCHTIME, \n",
    "                                                  infer_datetime_format=True).dt.normalize()"
   ]
  },
  {
   "cell_type": "code",
   "execution_count": null,
   "id": "5dd175df",
   "metadata": {},
   "outputs": [],
   "source": [
    "diag_selected_df = diag_B_df[['SUBJECT_ID', 'HADM_ID', 'ICD9_CODE']]\n",
    "diag_selected_df = diag_selected_df[diag_selected_df.ICD9_CODE.notnull()]"
   ]
  },
  {
   "cell_type": "code",
   "execution_count": null,
   "id": "296a3b71",
   "metadata": {},
   "outputs": [],
   "source": [
    "admissions_selected_df.to_csv('data/mimic3_adm_df.csv.gz', compression='gzip', index=False)\n",
    "diag_selected_df.to_csv('data/mimic3_diag_df.csv.gz', compression='gzip', index=False)"
   ]
  },
  {
   "cell_type": "code",
   "execution_count": null,
   "id": "58d761e4",
   "metadata": {},
   "outputs": [],
   "source": []
  }
 ],
 "metadata": {
  "kernelspec": {
   "display_name": "Python 3 (ipykernel)",
   "language": "python",
   "name": "python3"
  },
  "language_info": {
   "codemirror_mode": {
    "name": "ipython",
    "version": 3
   },
   "file_extension": ".py",
   "mimetype": "text/x-python",
   "name": "python",
   "nbconvert_exporter": "python",
   "pygments_lexer": "ipython3",
   "version": "3.8.12"
  }
 },
 "nbformat": 4,
 "nbformat_minor": 5
}
