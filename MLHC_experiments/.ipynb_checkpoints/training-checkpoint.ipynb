{
 "cells": [
  {
   "cell_type": "markdown",
   "id": "f53f4d3c",
   "metadata": {},
   "source": [
    "# Table of Content\n",
    "\n",
    "<a name=\"outline\"></a>\n",
    "\n",
    "## Setup\n",
    "\n",
    "- [A](#seca) External Imports\n",
    "- [B](#secb) Internal Imports\n",
    "- [C](#secc) Configurations and Paths \n",
    "- [D](#secd) Patient Interface and Train/Val/Test Partitioning\n",
    "- [E](#sece) General Utility Functions\n",
    "\n",
    "\n",
    "## Training\n",
    "\n",
    "- [1](#sec1) Training ICE-NODE and The Baselines on MIMIC-III\n",
    "- [2](#sec2) Training ICE-NODE and The Baselines on MIMIC-IV"
   ]
  },
  {
   "cell_type": "markdown",
   "id": "697a491c",
   "metadata": {},
   "source": [
    "<a name=\"seca\"></a>\n",
    "\n",
    "### A External Imports [^](#outline)"
   ]
  },
  {
   "cell_type": "code",
   "execution_count": null,
   "id": "4cfc614e",
   "metadata": {},
   "outputs": [],
   "source": [
    "import sys\n",
    "import os\n",
    "import glob\n",
    "import random\n",
    "from collections import defaultdict\n",
    "from pathlib import Path\n",
    "\n",
    "from IPython.display import display\n",
    "\n",
    "import pandas as pd\n",
    "\n",
    "from tqdm import tqdm"
   ]
  },
  {
   "cell_type": "markdown",
   "id": "23f0d568",
   "metadata": {},
   "source": [
    "<a name=\"secb\"></a>\n",
    "\n",
    "### B Internal Imports [^](#outline)"
   ]
  },
  {
   "cell_type": "code",
   "execution_count": null,
   "id": "894a3743",
   "metadata": {},
   "outputs": [],
   "source": [
    "# sys.path.append('..')\n",
    "sys.path.append('repo')\n",
    "\n",
    "from icenode.train_icenode_2lr import ICENODE\n",
    "from icenode.train_icenode_uniform2lr import ICENODE as ICENODE_UNIFORM\n",
    "from icenode.train_gram import GRAM\n",
    "from icenode.train_retain import RETAIN\n",
    "from icenode.metrics import evaluation_table\n",
    "from icenode.utils import write_params, load_config, load_params\n",
    "\n",
    "from icenode.mimic3.dag import CCSDAG\n",
    "from icenode.mimic3.concept import DiagSubject\n",
    "from icenode.jax_interface import SubjectDiagSequenceJAXInterface,  DiagnosisJAXInterface \n",
    "\n",
    "%load_ext autoreload\n",
    "%autoreload 2"
   ]
  },
  {
   "cell_type": "markdown",
   "id": "d9340794",
   "metadata": {},
   "source": [
    "<a name=\"secd\"></a>\n",
    "\n",
    "### D Configurations and Paths [^](#outline)"
   ]
  },
  {
   "cell_type": "code",
   "execution_count": null,
   "id": "c8d78296",
   "metadata": {},
   "outputs": [],
   "source": [
    "mimic3_files = {\n",
    "    'adm_df': 'data/mimic3_adm_df.csv.gz',\n",
    "    'diag_df': 'data/mimic3_diag_df.csv.gz'\n",
    "}\n",
    "\n",
    "mimic4_files = {\n",
    "    'adm_df': 'data/mimic4_adm_df.csv.gz',\n",
    "    'diag_df': 'data/mimic4_diag_df.csv.gz'\n",
    "}\n",
    "\n",
    "model_cls = {\n",
    "    'ICE-NODE': ICENODE,\n",
    "    'ICE-NODE_UNIFORM': ICENODE_UNIFORM,\n",
    "    'GRU': GRAM,\n",
    "    'RETAIN': RETAIN\n",
    "}   \n",
    "\n",
    "# optimal hyperparams re: each model.\n",
    "model_config = {\n",
    "    'ICE-NODE': 'models_config/icenode_2lr.json' ,\n",
    "    'ICE-NODE_UNIFORM': 'models_config/icenode_2lr.json' ,\n",
    "    'GRU': 'models_config/gru.json' ,\n",
    "    'RETAIN': 'models_config/retain.json'\n",
    "}\n",
    "\n",
    "model_config = {clf: load_config(file) for clf, file in model_config.items()}\n",
    "\n",
    "clfs = list(model_cls.keys())"
   ]
  },
  {
   "cell_type": "markdown",
   "id": "24d26707",
   "metadata": {},
   "source": [
    "<a name=\"sece\"></a>\n",
    "\n",
    "### E Patient Interface and Train/Val/Test Patitioning [^](#outline)"
   ]
  },
  {
   "cell_type": "code",
   "execution_count": null,
   "id": "27c24ace",
   "metadata": {},
   "outputs": [],
   "source": [
    "def get_patient_interface(mimic_files, clfs):\n",
    "    adm_df = pd.read_csv(mimic_files['adm_df'])\n",
    "    diag_df = pd.read_csv(mimic_files['diag_df'], dtype={'ICD9_CODE': str})\n",
    "    # Cast columns of dates to datetime64\n",
    "    adm_df['ADMITTIME'] = pd.to_datetime(adm_df['ADMITTIME'], infer_datetime_format=True).dt.normalize()\n",
    "    adm_df['DISCHTIME'] = pd.to_datetime(adm_df['DISCHTIME'], infer_datetime_format=True).dt.normalize()\n",
    "\n",
    "    subjects = DiagSubject.to_list(adm_df, diag_df)\n",
    "    ccs_dag = CCSDAG()\n",
    "    \n",
    "    interface_by_kind =  {\n",
    "        'timestamped': DiagnosisJAXInterface(subjects, ccs_dag),\n",
    "        'sequential': SubjectDiagSequenceJAXInterface(subjects, ccs_dag)\n",
    "    }\n",
    "    \n",
    "    interface_kind = {\n",
    "        'ICE-NODE':  'timestamped',\n",
    "        'ICE-NODE_UNIFORM': 'timestamped',\n",
    "        'GRU': 'sequential',\n",
    "        'RETAIN': 'sequential'\n",
    "    }\n",
    "\n",
    "    return {clf: interface_by_kind[interface_kind[clf]] for clf in clfs}\n",
    "    \n",
    "\n",
    "m4_interface = get_patient_interface(mimic4_files, clfs)\n",
    "m3_interface = get_patient_interface(mimic3_files, clfs)\n",
    "\n",
    "m4_train_ids, m4_valid_ids, m4_test_ids = m4_interface[clfs[0]].random_splits(split1=0.7, split2=0.85, random_seed=42)\n",
    "m3_train_ids, m3_valid_ids, m3_test_ids = m3_interface[clfs[0]].random_splits(split1=0.7, split2=0.85, random_seed=42)\n"
   ]
  },
  {
   "cell_type": "code",
   "execution_count": null,
   "id": "ca3a0902",
   "metadata": {},
   "outputs": [],
   "source": [
    "m4_percentiles = m4_interface[clfs[0]].diag_flatccs_by_percentiles(20)\n",
    "m3_percentiles = m3_interface[clfs[0]].diag_flatccs_by_percentiles(20)\n",
    "\n",
    "m4_train_percentiles = m4_interface[clfs[0]].diag_flatccs_by_percentiles(20, m4_train_ids)\n",
    "m3_train_percentiles = m3_interface[clfs[0]].diag_flatccs_by_percentiles(20, m3_train_ids)\n"
   ]
  },
  {
   "cell_type": "markdown",
   "id": "085bb85c",
   "metadata": {},
   "source": [
    "<a name=\"secf\"></a>\n",
    "\n",
    "### F Utility Functions [^](#outline)"
   ]
  },
  {
   "cell_type": "code",
   "execution_count": null,
   "id": "c8e08f96",
   "metadata": {},
   "outputs": [],
   "source": [
    "def get_model(clf, config, interface):\n",
    "    model = model_cls[clf].create_model(config, interface, [], None)\n",
    "    state = model.init(config)\n",
    "    return model, state\n",
    "        \n",
    "def get_models(clfs, config, interface):\n",
    "    return {clf: get_model(clf, config[clf], interface[clf]) for clf in clfs}\n",
    "\n",
    "\n",
    "def train_model(model, m_state, config, train_ids, \n",
    "                valid_ids, training_output, percentile_codes):\n",
    "    \n",
    "    # Make a new directory (if doesn't exist) \n",
    "    Path(training_output).mkdir(parents=True, exist_ok=True)\n",
    "\n",
    "\n",
    "    step_evaluation = {}\n",
    "    \n",
    "    # because it is mutable, and random.Random shuffles in-place.\n",
    "    train_ids = train_ids.copy() \n",
    "    rng = random.Random(42)\n",
    "    batch_size = config['training']['batch_size']\n",
    "    batch_size = min(batch_size, len(train_ids))\n",
    "\n",
    "    epochs = config['training']['epochs']\n",
    "    iters = round(epochs * len(train_ids) / batch_size)\n",
    "\n",
    "    for i in tqdm(range(iters)):\n",
    "        rng.shuffle(train_ids)\n",
    "        train_batch = train_ids[:batch_size]\n",
    "        \n",
    "        # Step = 1% progress\n",
    "        current_step = round((i + 1) * 100 / iters)\n",
    "        previous_step = round(i * 100 / iters)\n",
    "        \n",
    "        m_state = model.step_optimizer(current_step, m_state, train_batch)\n",
    "        if model.hasnan(m_state):\n",
    "            print('NaN detected')\n",
    "            break\n",
    "\n",
    "\n",
    "        if current_step == previous_step and i < iters - 1:\n",
    "            continue\n",
    "\n",
    "        raw_res = {\n",
    "                'TRN': model.eval(m_state, train_batch),\n",
    "                'VAL': model.eval(m_state, valid_ids)\n",
    "            }\n",
    "\n",
    "        eval_df, _ = evaluation_table(raw_res, percentile_codes)\n",
    "#         display(eval_df)\n",
    "        \n",
    "        step_evaluation[current_step] = eval_df\n",
    "        fname = os.path.join(training_output, f'step{current_step:04d}_params.pickle')\n",
    "        model.write_params(m_state, fname)\n",
    "\n",
    "    return m_state, step_evaluation\n",
    "\n",
    " "
   ]
  },
  {
   "cell_type": "code",
   "execution_count": null,
   "id": "542d1b22",
   "metadata": {},
   "outputs": [],
   "source": [
    "m4_models = get_models(clfs, model_config, m4_interface)\n",
    "\n",
    "m3_models = get_models(clfs, model_config, m3_interface)"
   ]
  },
  {
   "cell_type": "markdown",
   "id": "05f87624",
   "metadata": {},
   "source": [
    "<a name=\"sec1\"></a>\n",
    "\n",
    "### 1 Training ICE-NODE and The Baselines on MIMIC-III [^](#outline)"
   ]
  },
  {
   "cell_type": "markdown",
   "id": "958d7262",
   "metadata": {},
   "source": [
    "#### ICE-NODE"
   ]
  },
  {
   "cell_type": "code",
   "execution_count": null,
   "id": "c91a09d4",
   "metadata": {},
   "outputs": [],
   "source": [
    "m3_icenode_model, m3_icenode_state = m3_models['ICE-NODE']\n",
    "\n",
    "## TODO: This may take a long time, a pretrained model already exists in (yy).\n",
    "m3_icenode_state, m3_icenode_evals = train_model(m3_icenode_model, m3_icenode_state,\n",
    "                                                 model_config['ICE-NODE'], m3_train_ids, m3_valid_ids,\n",
    "                                                 'trained_models/m3_icenode', \n",
    "                                                 m3_train_percentiles)"
   ]
  },
  {
   "cell_type": "markdown",
   "id": "bf6a21bb",
   "metadata": {},
   "source": [
    "#### ICE-NODE_UNIFORM"
   ]
  },
  {
   "cell_type": "code",
   "execution_count": null,
   "id": "f868ee28",
   "metadata": {},
   "outputs": [],
   "source": [
    "m3_icenode_U_model, m3_icenode_U_state = m3_models['ICE-NODE_UNIFORM']\n",
    "## TODO: This can take up to (xx), trained model already exist in (yy).\n",
    "m3_icenode_U_state, m3_icenode_U_evals = train_model(m3_icenode_U_model, m3_icenode_U_state,\n",
    "                                                     model_config['ICE-NODE_UNIFORM'], \n",
    "                                                     m3_train_ids, m3_valid_ids,\n",
    "                                                     'trained_models/m3_icenode_uniform', \n",
    "                                                     m3_train_percentiles)\n"
   ]
  },
  {
   "cell_type": "markdown",
   "id": "083317e8",
   "metadata": {},
   "source": [
    "#### GRU"
   ]
  },
  {
   "cell_type": "code",
   "execution_count": null,
   "id": "72be64a0",
   "metadata": {},
   "outputs": [],
   "source": [
    "m3_gru_model, m3_gru_state = m3_models['GRU']\n",
    "## TODO: This can take up to (xx), trained model already exist in (yy).\n",
    "m3_gru_state, m3_gru_evals = train_model(m3_gru_model, m3_gru_state,\n",
    "                                         model_config['GRU'], \n",
    "                                         m3_train_ids, m3_valid_ids,\n",
    "                                         'trained_models/m3_gru', \n",
    "                                         m3_train_percentiles)"
   ]
  },
  {
   "cell_type": "markdown",
   "id": "78ad24c2",
   "metadata": {},
   "source": [
    "#### RETAIN"
   ]
  },
  {
   "cell_type": "code",
   "execution_count": null,
   "id": "72f0b60c",
   "metadata": {},
   "outputs": [],
   "source": [
    "m3_retain_model, m3_retain_state = m3_models['RETAIN']\n",
    "## TODO: This can take up to (xx), trained model already exist in (yy).\n",
    "m3_retain_state, m3_retain_evals = train_model(m3_retain_model, m3_retain_state,\n",
    "                                               model_config['RETAIN'],\n",
    "                                               m3_train_ids, m3_valid_ids,\n",
    "                                               'trained_models/m3_retain',\n",
    "                                               m3_train_percentiles)"
   ]
  },
  {
   "cell_type": "markdown",
   "id": "e40a5340",
   "metadata": {},
   "source": [
    "<a name=\"sec2\"></a>\n",
    "\n",
    "### 2 Training ICE-NODE and The Baselines on MIMIC-IV [^](#outline)"
   ]
  },
  {
   "cell_type": "markdown",
   "id": "d7e7f068",
   "metadata": {},
   "source": [
    "#### ICE-NODE"
   ]
  },
  {
   "cell_type": "code",
   "execution_count": null,
   "id": "9c281674",
   "metadata": {},
   "outputs": [],
   "source": [
    "m4_icenode_model, m4_icenode_state = m4_models['ICE-NODE']\n",
    "\n",
    "## TODO: This can take up to (xx), trained model already exist in (yy).\n",
    "m4_icenode_state, m4_icenode_evals = train_model(m4_icenode_model, m4_icenode_state,\n",
    "                                                 model_config['ICE-NODE'], m4_train_ids, m4_valid_ids,\n",
    "                                                 'trained_models/m3_icenode', \n",
    "                                                 m4_train_percentiles)"
   ]
  },
  {
   "cell_type": "markdown",
   "id": "ff7db731",
   "metadata": {},
   "source": [
    "#### ICE-NODE_UNIFORM"
   ]
  },
  {
   "cell_type": "code",
   "execution_count": null,
   "id": "87b2e96b",
   "metadata": {},
   "outputs": [],
   "source": [
    "m4_icenode_U_model, m4_icenode_U_state = m4_models['ICE-NODE_UNIFORM']\n",
    "## TODO: This can take up to (xx), trained model already exist in (yy).\n",
    "m4_icenode_U_state, m4_icenode_U_evals = train_model(m4_icenode_U_model, m4_icenode_U_state,\n",
    "                                                     model_config['ICE-NODE_UNIFORM'], \n",
    "                                                     m4_train_ids, m4_valid_ids,\n",
    "                                                     'trained_models/m4_icenode_uniform', \n",
    "                                                     m4_train_percentiles)\n"
   ]
  },
  {
   "cell_type": "markdown",
   "id": "6046f86c",
   "metadata": {},
   "source": [
    "#### GRU"
   ]
  },
  {
   "cell_type": "code",
   "execution_count": null,
   "id": "c8ab190e",
   "metadata": {},
   "outputs": [],
   "source": [
    "m4_gru_model, m4_gru_state = m4_models['GRU']\n",
    "## TODO: This can take up to (xx), trained model already exist in (yy).\n",
    "m4_gru_state, m4_gru_evals = train_model(m4_gru_model, m4_gru_state,\n",
    "                                         model_config['GRU'], \n",
    "                                         m4_train_ids, m4_valid_ids,\n",
    "                                         'trained_models/m4_gru', \n",
    "                                         m4_train_percentiles)"
   ]
  },
  {
   "cell_type": "markdown",
   "id": "55a55f14",
   "metadata": {},
   "source": [
    "#### RETAIN"
   ]
  },
  {
   "cell_type": "code",
   "execution_count": null,
   "id": "bdea6d71",
   "metadata": {},
   "outputs": [],
   "source": [
    "m4_retain_model, m4_retain_state = m4_models['RETAIN']\n",
    "## RESOURCES WARNING: This model, with this large dataset and occasionally long patient histories, \n",
    "## unfortunately requires larger memory than what is available in usual high-end GPUs (e.g. 12 GB in my main workstation).\n",
    "## For this particular experiment, we relied on CPUs and the CPU RAM (over 64 GB).\n",
    "## Regarding training on MIMIC-IV, ICE-NODE and ICE-NODE_UNIFORM have finished training in less than 48 hours, \n",
    "## while GRU model has finished in less than 24 hours, however\n",
    "## RETAIN training on MIMIC-IV would need more than three weeks to finish on a CPU.\n",
    "## There is already a pretrained model that we add to this anonymous repository.\n",
    "m4_retain_state, m4_retain_evals = train_model(m4_retain_model, m4_retain_state,\n",
    "                                               model_config['RETAIN'],\n",
    "                                               m4_train_ids, m4_valid_ids,\n",
    "                                               'trained_models/m4_retain',\n",
    "                                               m4_train_percentiles)"
   ]
  },
  {
   "cell_type": "code",
   "execution_count": null,
   "id": "1ff51f78",
   "metadata": {},
   "outputs": [],
   "source": []
  }
 ],
 "metadata": {
  "kernelspec": {
   "display_name": "Python 3 (ipykernel)",
   "language": "python",
   "name": "python3"
  },
  "language_info": {
   "codemirror_mode": {
    "name": "ipython",
    "version": 3
   },
   "file_extension": ".py",
   "mimetype": "text/x-python",
   "name": "python",
   "nbconvert_exporter": "python",
   "pygments_lexer": "ipython3",
   "version": "3.8.12"
  }
 },
 "nbformat": 4,
 "nbformat_minor": 5
}
