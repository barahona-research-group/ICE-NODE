{
 "cells": [
  {
   "cell_type": "code",
   "execution_count": 14,
   "id": "headed-programming",
   "metadata": {},
   "outputs": [],
   "source": [
    "import numpy as np\n",
    "import pandas as pd\n",
    "import json\n",
    "import collections\n",
    "from collections import defaultdict \n",
    "from functools import partial\n",
    "import networkx as nx\n",
    "import matplotlib.pyplot as plt\n",
    "import seaborn as sns\n",
    "from tqdm import tqdm\n"
   ]
  },
  {
   "cell_type": "code",
   "execution_count": 15,
   "id": "stone-narrow",
   "metadata": {},
   "outputs": [],
   "source": [
    "# mimic_dir = '/home/asem/GP/MIMIC-SNONET/RAW/mimic-iii-clinical-database-1.4'\n",
    "\n",
    "mimic_dir = '/home/asem/GP/ehr-data/mimic3-v1.4/physionet.org/files/mimiciii/1.4'"
   ]
  },
  {
   "cell_type": "code",
   "execution_count": 16,
   "id": "driven-passport",
   "metadata": {},
   "outputs": [
    {
     "data": {
      "text/plain": [
       "<module 'mimicnet.dag' from '/home/asem/GP/MIMIC-SNONET/mimicnet/dag.py'>"
      ]
     },
     "execution_count": 16,
     "metadata": {},
     "output_type": "execute_result"
    }
   ],
   "source": [
    "# Good read: https://iq-inc.com/importerror-attempted-relative-import/\n",
    "\n",
    "import sys\n",
    "import importlib\n",
    "\n",
    "\n",
    "from mimicnet import dag\n",
    "\n",
    "importlib.reload(sys.modules['mimicnet.dag'])"
   ]
  },
  {
   "cell_type": "code",
   "execution_count": 17,
   "id": "premier-making",
   "metadata": {},
   "outputs": [],
   "source": [
    "KG = dag.CCSDAG()"
   ]
  },
  {
   "cell_type": "code",
   "execution_count": 10,
   "id": "commercial-wound",
   "metadata": {},
   "outputs": [],
   "source": [
    "\n",
    "# LABEVENTS = pd.read_csv(f'{mimic_dir}/LABEVENTS.csv.gz')\n",
    "# CHARTEVENTS = pd.read_csv(f'{mimic_dir}/CHARTEVENTS.csv.gz')"
   ]
  },
  {
   "cell_type": "code",
   "execution_count": 18,
   "id": "studied-portrait",
   "metadata": {},
   "outputs": [
    {
     "data": {
      "text/plain": [
       "['CCS_DIR',\n",
       " 'DIAG_MULTI_CCS_FILE',\n",
       " 'DIAG_SINGLE_CCS_FILE',\n",
       " 'DIR',\n",
       " 'PROC_MULTI_CCS_FILE',\n",
       " 'PROC_SINGLE_CCS_FILE',\n",
       " '__class__',\n",
       " '__delattr__',\n",
       " '__dict__',\n",
       " '__dir__',\n",
       " '__doc__',\n",
       " '__eq__',\n",
       " '__format__',\n",
       " '__ge__',\n",
       " '__getattribute__',\n",
       " '__gt__',\n",
       " '__hash__',\n",
       " '__init__',\n",
       " '__init_subclass__',\n",
       " '__le__',\n",
       " '__lt__',\n",
       " '__module__',\n",
       " '__ne__',\n",
       " '__new__',\n",
       " '__reduce__',\n",
       " '__reduce_ex__',\n",
       " '__repr__',\n",
       " '__setattr__',\n",
       " '__sizeof__',\n",
       " '__str__',\n",
       " '__subclasshook__',\n",
       " '__weakref__',\n",
       " 'ancestors_linkage',\n",
       " 'common_parent',\n",
       " 'diag_ccs_children_traversal',\n",
       " 'diag_icd_codes',\n",
       " 'diag_icd_label',\n",
       " 'diag_multi_ccs2icd',\n",
       " 'diag_multi_ccs_codes',\n",
       " 'diag_multi_ccs_df',\n",
       " 'diag_multi_ccs_pt2ch',\n",
       " 'diag_multi_icd2ccs',\n",
       " 'diag_single_ccs2icd',\n",
       " 'diag_single_ccs_codes',\n",
       " 'diag_single_ccs_df',\n",
       " 'diag_single_icd2ccs',\n",
       " 'digraph_from_dataframe',\n",
       " 'find_diag_icd_name',\n",
       " 'find_proc_icd_name',\n",
       " 'get_ccs_parents',\n",
       " 'get_diag_ccs_children',\n",
       " 'get_diag_multi_ccs',\n",
       " 'get_proc_ccs_children',\n",
       " 'get_proc_multi_ccs',\n",
       " 'make_diag_icd2ccs_dict',\n",
       " 'make_diag_icd_dict',\n",
       " 'make_diag_multi_dictionaries',\n",
       " 'make_proc_icd2ccs_dict',\n",
       " 'make_proc_icd_dict',\n",
       " 'make_proc_multi_dictionaries',\n",
       " 'proc_ccs_children_traversal',\n",
       " 'proc_icd_codes',\n",
       " 'proc_icd_label',\n",
       " 'proc_multi_ccs2icd',\n",
       " 'proc_multi_ccs_codes',\n",
       " 'proc_multi_ccs_df',\n",
       " 'proc_multi_ccs_pt2ch',\n",
       " 'proc_multi_icd2ccs',\n",
       " 'proc_signle_icd2ccs',\n",
       " 'proc_single_ccs2icd',\n",
       " 'proc_single_ccs_df']"
      ]
     },
     "execution_count": 18,
     "metadata": {},
     "output_type": "execute_result"
    }
   ],
   "source": [
    "dir(KG)"
   ]
  },
  {
   "cell_type": "code",
   "execution_count": 22,
   "id": "welcome-recruitment",
   "metadata": {},
   "outputs": [
    {
     "data": {
      "text/plain": [
       "727"
      ]
     },
     "execution_count": 22,
     "metadata": {},
     "output_type": "execute_result"
    }
   ],
   "source": [
    "len(KG.diag_multi_ccs_codes)"
   ]
  },
  {
   "cell_type": "markdown",
   "id": "warming-compression",
   "metadata": {},
   "source": [
    "### Notes\n",
    "\n",
    "#### TODO\n",
    "\n",
    "1. From DIAGNOSES_ICD:\n",
    "    - map to CCS (multi/single)\n",
    "    - histogram of diseases (number of patients for each CCS code)\n",
    "2. From ADMISSION and ICUSTAY:\n",
    "    - #Admissions per patient\n",
    "    - #ICUStays per patient\n",
    "    - #ICUStays per admission\n",
    "3. measurements: merge all measurements by HADM_ID (aggregate by median, 0.9 quantile, 0.1 quantile)."
   ]
  },
  {
   "cell_type": "code",
   "execution_count": 11,
   "id": "divine-replacement",
   "metadata": {},
   "outputs": [],
   "source": [
    "ADMISSIONS = pd.read_csv(f'{mimic_dir}/ADMISSIONS.csv.gz')"
   ]
  },
  {
   "cell_type": "code",
   "execution_count": 12,
   "id": "brazilian-cliff",
   "metadata": {},
   "outputs": [
    {
     "data": {
      "text/html": [
       "<div>\n",
       "<style scoped>\n",
       "    .dataframe tbody tr th:only-of-type {\n",
       "        vertical-align: middle;\n",
       "    }\n",
       "\n",
       "    .dataframe tbody tr th {\n",
       "        vertical-align: top;\n",
       "    }\n",
       "\n",
       "    .dataframe thead th {\n",
       "        text-align: right;\n",
       "    }\n",
       "</style>\n",
       "<table border=\"1\" class=\"dataframe\">\n",
       "  <thead>\n",
       "    <tr style=\"text-align: right;\">\n",
       "      <th></th>\n",
       "      <th>ROW_ID</th>\n",
       "      <th>SUBJECT_ID</th>\n",
       "      <th>HADM_ID</th>\n",
       "      <th>ADMITTIME</th>\n",
       "      <th>DISCHTIME</th>\n",
       "      <th>DEATHTIME</th>\n",
       "      <th>ADMISSION_TYPE</th>\n",
       "      <th>ADMISSION_LOCATION</th>\n",
       "      <th>DISCHARGE_LOCATION</th>\n",
       "      <th>INSURANCE</th>\n",
       "      <th>LANGUAGE</th>\n",
       "      <th>RELIGION</th>\n",
       "      <th>MARITAL_STATUS</th>\n",
       "      <th>ETHNICITY</th>\n",
       "      <th>EDREGTIME</th>\n",
       "      <th>EDOUTTIME</th>\n",
       "      <th>DIAGNOSIS</th>\n",
       "      <th>HOSPITAL_EXPIRE_FLAG</th>\n",
       "      <th>HAS_CHARTEVENTS_DATA</th>\n",
       "    </tr>\n",
       "  </thead>\n",
       "  <tbody>\n",
       "    <tr>\n",
       "      <th>0</th>\n",
       "      <td>21</td>\n",
       "      <td>22</td>\n",
       "      <td>165315</td>\n",
       "      <td>2196-04-09 12:26:00</td>\n",
       "      <td>2196-04-10 15:54:00</td>\n",
       "      <td>NaN</td>\n",
       "      <td>EMERGENCY</td>\n",
       "      <td>EMERGENCY ROOM ADMIT</td>\n",
       "      <td>DISC-TRAN CANCER/CHLDRN H</td>\n",
       "      <td>Private</td>\n",
       "      <td>NaN</td>\n",
       "      <td>UNOBTAINABLE</td>\n",
       "      <td>MARRIED</td>\n",
       "      <td>WHITE</td>\n",
       "      <td>2196-04-09 10:06:00</td>\n",
       "      <td>2196-04-09 13:24:00</td>\n",
       "      <td>BENZODIAZEPINE OVERDOSE</td>\n",
       "      <td>0</td>\n",
       "      <td>1</td>\n",
       "    </tr>\n",
       "    <tr>\n",
       "      <th>1</th>\n",
       "      <td>22</td>\n",
       "      <td>23</td>\n",
       "      <td>152223</td>\n",
       "      <td>2153-09-03 07:15:00</td>\n",
       "      <td>2153-09-08 19:10:00</td>\n",
       "      <td>NaN</td>\n",
       "      <td>ELECTIVE</td>\n",
       "      <td>PHYS REFERRAL/NORMAL DELI</td>\n",
       "      <td>HOME HEALTH CARE</td>\n",
       "      <td>Medicare</td>\n",
       "      <td>NaN</td>\n",
       "      <td>CATHOLIC</td>\n",
       "      <td>MARRIED</td>\n",
       "      <td>WHITE</td>\n",
       "      <td>NaN</td>\n",
       "      <td>NaN</td>\n",
       "      <td>CORONARY ARTERY DISEASE\\CORONARY ARTERY BYPASS...</td>\n",
       "      <td>0</td>\n",
       "      <td>1</td>\n",
       "    </tr>\n",
       "    <tr>\n",
       "      <th>2</th>\n",
       "      <td>23</td>\n",
       "      <td>23</td>\n",
       "      <td>124321</td>\n",
       "      <td>2157-10-18 19:34:00</td>\n",
       "      <td>2157-10-25 14:00:00</td>\n",
       "      <td>NaN</td>\n",
       "      <td>EMERGENCY</td>\n",
       "      <td>TRANSFER FROM HOSP/EXTRAM</td>\n",
       "      <td>HOME HEALTH CARE</td>\n",
       "      <td>Medicare</td>\n",
       "      <td>ENGL</td>\n",
       "      <td>CATHOLIC</td>\n",
       "      <td>MARRIED</td>\n",
       "      <td>WHITE</td>\n",
       "      <td>NaN</td>\n",
       "      <td>NaN</td>\n",
       "      <td>BRAIN MASS</td>\n",
       "      <td>0</td>\n",
       "      <td>1</td>\n",
       "    </tr>\n",
       "    <tr>\n",
       "      <th>3</th>\n",
       "      <td>24</td>\n",
       "      <td>24</td>\n",
       "      <td>161859</td>\n",
       "      <td>2139-06-06 16:14:00</td>\n",
       "      <td>2139-06-09 12:48:00</td>\n",
       "      <td>NaN</td>\n",
       "      <td>EMERGENCY</td>\n",
       "      <td>TRANSFER FROM HOSP/EXTRAM</td>\n",
       "      <td>HOME</td>\n",
       "      <td>Private</td>\n",
       "      <td>NaN</td>\n",
       "      <td>PROTESTANT QUAKER</td>\n",
       "      <td>SINGLE</td>\n",
       "      <td>WHITE</td>\n",
       "      <td>NaN</td>\n",
       "      <td>NaN</td>\n",
       "      <td>INTERIOR MYOCARDIAL INFARCTION</td>\n",
       "      <td>0</td>\n",
       "      <td>1</td>\n",
       "    </tr>\n",
       "    <tr>\n",
       "      <th>4</th>\n",
       "      <td>25</td>\n",
       "      <td>25</td>\n",
       "      <td>129635</td>\n",
       "      <td>2160-11-02 02:06:00</td>\n",
       "      <td>2160-11-05 14:55:00</td>\n",
       "      <td>NaN</td>\n",
       "      <td>EMERGENCY</td>\n",
       "      <td>EMERGENCY ROOM ADMIT</td>\n",
       "      <td>HOME</td>\n",
       "      <td>Private</td>\n",
       "      <td>NaN</td>\n",
       "      <td>UNOBTAINABLE</td>\n",
       "      <td>MARRIED</td>\n",
       "      <td>WHITE</td>\n",
       "      <td>2160-11-02 01:01:00</td>\n",
       "      <td>2160-11-02 04:27:00</td>\n",
       "      <td>ACUTE CORONARY SYNDROME</td>\n",
       "      <td>0</td>\n",
       "      <td>1</td>\n",
       "    </tr>\n",
       "  </tbody>\n",
       "</table>\n",
       "</div>"
      ],
      "text/plain": [
       "   ROW_ID  SUBJECT_ID  HADM_ID            ADMITTIME            DISCHTIME  \\\n",
       "0      21          22   165315  2196-04-09 12:26:00  2196-04-10 15:54:00   \n",
       "1      22          23   152223  2153-09-03 07:15:00  2153-09-08 19:10:00   \n",
       "2      23          23   124321  2157-10-18 19:34:00  2157-10-25 14:00:00   \n",
       "3      24          24   161859  2139-06-06 16:14:00  2139-06-09 12:48:00   \n",
       "4      25          25   129635  2160-11-02 02:06:00  2160-11-05 14:55:00   \n",
       "\n",
       "  DEATHTIME ADMISSION_TYPE         ADMISSION_LOCATION  \\\n",
       "0       NaN      EMERGENCY       EMERGENCY ROOM ADMIT   \n",
       "1       NaN       ELECTIVE  PHYS REFERRAL/NORMAL DELI   \n",
       "2       NaN      EMERGENCY  TRANSFER FROM HOSP/EXTRAM   \n",
       "3       NaN      EMERGENCY  TRANSFER FROM HOSP/EXTRAM   \n",
       "4       NaN      EMERGENCY       EMERGENCY ROOM ADMIT   \n",
       "\n",
       "          DISCHARGE_LOCATION INSURANCE LANGUAGE           RELIGION  \\\n",
       "0  DISC-TRAN CANCER/CHLDRN H   Private      NaN       UNOBTAINABLE   \n",
       "1           HOME HEALTH CARE  Medicare      NaN           CATHOLIC   \n",
       "2           HOME HEALTH CARE  Medicare     ENGL           CATHOLIC   \n",
       "3                       HOME   Private      NaN  PROTESTANT QUAKER   \n",
       "4                       HOME   Private      NaN       UNOBTAINABLE   \n",
       "\n",
       "  MARITAL_STATUS ETHNICITY            EDREGTIME            EDOUTTIME  \\\n",
       "0        MARRIED     WHITE  2196-04-09 10:06:00  2196-04-09 13:24:00   \n",
       "1        MARRIED     WHITE                  NaN                  NaN   \n",
       "2        MARRIED     WHITE                  NaN                  NaN   \n",
       "3         SINGLE     WHITE                  NaN                  NaN   \n",
       "4        MARRIED     WHITE  2160-11-02 01:01:00  2160-11-02 04:27:00   \n",
       "\n",
       "                                           DIAGNOSIS  HOSPITAL_EXPIRE_FLAG  \\\n",
       "0                            BENZODIAZEPINE OVERDOSE                     0   \n",
       "1  CORONARY ARTERY DISEASE\\CORONARY ARTERY BYPASS...                     0   \n",
       "2                                         BRAIN MASS                     0   \n",
       "3                     INTERIOR MYOCARDIAL INFARCTION                     0   \n",
       "4                            ACUTE CORONARY SYNDROME                     0   \n",
       "\n",
       "   HAS_CHARTEVENTS_DATA  \n",
       "0                     1  \n",
       "1                     1  \n",
       "2                     1  \n",
       "3                     1  \n",
       "4                     1  "
      ]
     },
     "execution_count": 12,
     "metadata": {},
     "output_type": "execute_result"
    }
   ],
   "source": [
    "ADMISSIONS.head()"
   ]
  },
  {
   "cell_type": "code",
   "execution_count": 13,
   "id": "wireless-mattress",
   "metadata": {},
   "outputs": [
    {
     "data": {
      "text/plain": [
       "46520"
      ]
     },
     "execution_count": 13,
     "metadata": {},
     "output_type": "execute_result"
    }
   ],
   "source": [
    "len(set(ADMISSIONS.SUBJECT_ID))"
   ]
  },
  {
   "cell_type": "code",
   "execution_count": 9,
   "id": "standard-millennium",
   "metadata": {},
   "outputs": [],
   "source": [
    "patients_admission = defaultdict(set)\n",
    "\n",
    "for row in ADMISSIONS.itertuples():\n",
    "    patients_admission[row.SUBJECT_ID].add(row.HADM_ID)\n",
    "    \n",
    "patients_admission_df = pd.DataFrame({'patient': patients_admission.keys(), 'n_admissions': map(len, patients_admission.values())})"
   ]
  },
  {
   "cell_type": "code",
   "execution_count": 10,
   "id": "heated-boutique",
   "metadata": {},
   "outputs": [],
   "source": [
    "patients_admission_count = list(map(lambda t: (t[0], len(t[1])), patients_admission.items()))"
   ]
  },
  {
   "cell_type": "code",
   "execution_count": 11,
   "id": "legislative-liquid",
   "metadata": {},
   "outputs": [],
   "source": [
    "_, counts = zip(*patients_admission_count)"
   ]
  },
  {
   "cell_type": "code",
   "execution_count": 12,
   "id": "creative-california",
   "metadata": {},
   "outputs": [],
   "source": [
    "admissions_hist = np.bincount(counts)"
   ]
  },
  {
   "cell_type": "code",
   "execution_count": 13,
   "id": "cleared-album",
   "metadata": {},
   "outputs": [
    {
     "data": {
      "text/plain": [
       "array([    0, 38983,  5160,  1342,   508,   246,   113,    51,    31,\n",
       "          26,    14,    13,     8,     5,     4,     1,     2,     3,\n",
       "           0,     1,     1,     1,     1,     1,     1,     0,     0,\n",
       "           0,     0,     0,     0,     1,     0,     0,     2,     0,\n",
       "           0,     0,     0,     0,     0,     0,     1])"
      ]
     },
     "execution_count": 13,
     "metadata": {},
     "output_type": "execute_result"
    }
   ],
   "source": [
    "admissions_hist"
   ]
  },
  {
   "cell_type": "code",
   "execution_count": 14,
   "id": "arbitrary-briefing",
   "metadata": {},
   "outputs": [
    {
     "data": {
      "text/plain": [
       "7537"
      ]
     },
     "execution_count": 14,
     "metadata": {},
     "output_type": "execute_result"
    }
   ],
   "source": [
    "# In GRAM paper, all patients with at least 2 visits were utilized (n=7537).\n",
    "np.sum(patients_admission_df.n_admissions > 1)"
   ]
  },
  {
   "cell_type": "markdown",
   "id": "cleared-arena",
   "metadata": {},
   "source": [
    "### Select patients with at least 2 visits\n",
    "\n",
    "- Followed by GRAM paper.\n",
    "- n=7537"
   ]
  },
  {
   "cell_type": "code",
   "execution_count": 15,
   "id": "persistent-medicine",
   "metadata": {},
   "outputs": [],
   "source": [
    "multi_visit_mimic_dir = '/home/asem/GP/ehr-data/mimic3-multi-visit'\n",
    "\n",
    "patients_multi_visits = set(patients_admission_df[patients_admission_df.n_admissions > 1].patient.tolist())"
   ]
  },
  {
   "cell_type": "code",
   "execution_count": 16,
   "id": "vital-colleague",
   "metadata": {},
   "outputs": [
    {
     "data": {
      "text/html": [
       "<div>\n",
       "<style scoped>\n",
       "    .dataframe tbody tr th:only-of-type {\n",
       "        vertical-align: middle;\n",
       "    }\n",
       "\n",
       "    .dataframe tbody tr th {\n",
       "        vertical-align: top;\n",
       "    }\n",
       "\n",
       "    .dataframe thead th {\n",
       "        text-align: right;\n",
       "    }\n",
       "</style>\n",
       "<table border=\"1\" class=\"dataframe\">\n",
       "  <thead>\n",
       "    <tr style=\"text-align: right;\">\n",
       "      <th></th>\n",
       "      <th>ROW_ID</th>\n",
       "      <th>SUBJECT_ID</th>\n",
       "      <th>GENDER</th>\n",
       "      <th>DOB</th>\n",
       "      <th>DOD</th>\n",
       "      <th>DOD_HOSP</th>\n",
       "      <th>DOD_SSN</th>\n",
       "      <th>EXPIRE_FLAG</th>\n",
       "    </tr>\n",
       "  </thead>\n",
       "  <tbody>\n",
       "    <tr>\n",
       "      <th>0</th>\n",
       "      <td>234</td>\n",
       "      <td>249</td>\n",
       "      <td>F</td>\n",
       "      <td>2075-03-13 00:00:00</td>\n",
       "      <td>NaN</td>\n",
       "      <td>NaN</td>\n",
       "      <td>NaN</td>\n",
       "      <td>0</td>\n",
       "    </tr>\n",
       "    <tr>\n",
       "      <th>1</th>\n",
       "      <td>237</td>\n",
       "      <td>252</td>\n",
       "      <td>M</td>\n",
       "      <td>2078-03-06 00:00:00</td>\n",
       "      <td>NaN</td>\n",
       "      <td>NaN</td>\n",
       "      <td>NaN</td>\n",
       "      <td>0</td>\n",
       "    </tr>\n",
       "    <tr>\n",
       "      <th>2</th>\n",
       "      <td>240</td>\n",
       "      <td>256</td>\n",
       "      <td>M</td>\n",
       "      <td>2086-07-31 00:00:00</td>\n",
       "      <td>NaN</td>\n",
       "      <td>NaN</td>\n",
       "      <td>NaN</td>\n",
       "      <td>0</td>\n",
       "    </tr>\n",
       "    <tr>\n",
       "      <th>3</th>\n",
       "      <td>628</td>\n",
       "      <td>665</td>\n",
       "      <td>M</td>\n",
       "      <td>2052-05-20 00:00:00</td>\n",
       "      <td>2120-02-04 00:00:00</td>\n",
       "      <td>2120-02-04 00:00:00</td>\n",
       "      <td>NaN</td>\n",
       "      <td>1</td>\n",
       "    </tr>\n",
       "    <tr>\n",
       "      <th>4</th>\n",
       "      <td>637</td>\n",
       "      <td>674</td>\n",
       "      <td>F</td>\n",
       "      <td>2113-12-14 00:00:00</td>\n",
       "      <td>2195-02-17 00:00:00</td>\n",
       "      <td>2195-02-17 00:00:00</td>\n",
       "      <td>2195-02-17 00:00:00</td>\n",
       "      <td>1</td>\n",
       "    </tr>\n",
       "  </tbody>\n",
       "</table>\n",
       "</div>"
      ],
      "text/plain": [
       "   ROW_ID  SUBJECT_ID GENDER                  DOB                  DOD  \\\n",
       "0     234         249      F  2075-03-13 00:00:00                  NaN   \n",
       "1     237         252      M  2078-03-06 00:00:00                  NaN   \n",
       "2     240         256      M  2086-07-31 00:00:00                  NaN   \n",
       "3     628         665      M  2052-05-20 00:00:00  2120-02-04 00:00:00   \n",
       "4     637         674      F  2113-12-14 00:00:00  2195-02-17 00:00:00   \n",
       "\n",
       "              DOD_HOSP              DOD_SSN  EXPIRE_FLAG  \n",
       "0                  NaN                  NaN            0  \n",
       "1                  NaN                  NaN            0  \n",
       "2                  NaN                  NaN            0  \n",
       "3  2120-02-04 00:00:00                  NaN            1  \n",
       "4  2195-02-17 00:00:00  2195-02-17 00:00:00            1  "
      ]
     },
     "execution_count": 16,
     "metadata": {},
     "output_type": "execute_result"
    }
   ],
   "source": [
    "PATIENTS = pd.read_csv(f'{mimic_dir}/PATIENTS.csv.gz')\n",
    "PATIENTS = PATIENTS[PATIENTS.SUBJECT_ID.isin(patients_multi_visits)].reset_index(drop=True)\n",
    "PATIENTS.to_csv(f'{multi_visit_mimic_dir}/PATIENTS.csv.gz', compression='gzip', index=False)\n",
    "PATIENTS.head()"
   ]
  },
  {
   "cell_type": "code",
   "execution_count": 17,
   "id": "received-northwest",
   "metadata": {},
   "outputs": [
    {
     "data": {
      "text/html": [
       "<div>\n",
       "<style scoped>\n",
       "    .dataframe tbody tr th:only-of-type {\n",
       "        vertical-align: middle;\n",
       "    }\n",
       "\n",
       "    .dataframe tbody tr th {\n",
       "        vertical-align: top;\n",
       "    }\n",
       "\n",
       "    .dataframe thead th {\n",
       "        text-align: right;\n",
       "    }\n",
       "</style>\n",
       "<table border=\"1\" class=\"dataframe\">\n",
       "  <thead>\n",
       "    <tr style=\"text-align: right;\">\n",
       "      <th></th>\n",
       "      <th>ROW_ID</th>\n",
       "      <th>SUBJECT_ID</th>\n",
       "      <th>GENDER</th>\n",
       "      <th>DOB</th>\n",
       "      <th>DOD</th>\n",
       "      <th>DOD_HOSP</th>\n",
       "      <th>DOD_SSN</th>\n",
       "      <th>EXPIRE_FLAG</th>\n",
       "    </tr>\n",
       "  </thead>\n",
       "  <tbody>\n",
       "    <tr>\n",
       "      <th>0</th>\n",
       "      <td>234</td>\n",
       "      <td>249</td>\n",
       "      <td>F</td>\n",
       "      <td>2075-03-13 00:00:00</td>\n",
       "      <td>NaN</td>\n",
       "      <td>NaN</td>\n",
       "      <td>NaN</td>\n",
       "      <td>0</td>\n",
       "    </tr>\n",
       "    <tr>\n",
       "      <th>1</th>\n",
       "      <td>237</td>\n",
       "      <td>252</td>\n",
       "      <td>M</td>\n",
       "      <td>2078-03-06 00:00:00</td>\n",
       "      <td>NaN</td>\n",
       "      <td>NaN</td>\n",
       "      <td>NaN</td>\n",
       "      <td>0</td>\n",
       "    </tr>\n",
       "    <tr>\n",
       "      <th>2</th>\n",
       "      <td>240</td>\n",
       "      <td>256</td>\n",
       "      <td>M</td>\n",
       "      <td>2086-07-31 00:00:00</td>\n",
       "      <td>NaN</td>\n",
       "      <td>NaN</td>\n",
       "      <td>NaN</td>\n",
       "      <td>0</td>\n",
       "    </tr>\n",
       "    <tr>\n",
       "      <th>3</th>\n",
       "      <td>628</td>\n",
       "      <td>665</td>\n",
       "      <td>M</td>\n",
       "      <td>2052-05-20 00:00:00</td>\n",
       "      <td>2120-02-04 00:00:00</td>\n",
       "      <td>2120-02-04 00:00:00</td>\n",
       "      <td>NaN</td>\n",
       "      <td>1</td>\n",
       "    </tr>\n",
       "    <tr>\n",
       "      <th>4</th>\n",
       "      <td>637</td>\n",
       "      <td>674</td>\n",
       "      <td>F</td>\n",
       "      <td>2113-12-14 00:00:00</td>\n",
       "      <td>2195-02-17 00:00:00</td>\n",
       "      <td>2195-02-17 00:00:00</td>\n",
       "      <td>2195-02-17 00:00:00</td>\n",
       "      <td>1</td>\n",
       "    </tr>\n",
       "  </tbody>\n",
       "</table>\n",
       "</div>"
      ],
      "text/plain": [
       "   ROW_ID  SUBJECT_ID GENDER                  DOB                  DOD  \\\n",
       "0     234         249      F  2075-03-13 00:00:00                  NaN   \n",
       "1     237         252      M  2078-03-06 00:00:00                  NaN   \n",
       "2     240         256      M  2086-07-31 00:00:00                  NaN   \n",
       "3     628         665      M  2052-05-20 00:00:00  2120-02-04 00:00:00   \n",
       "4     637         674      F  2113-12-14 00:00:00  2195-02-17 00:00:00   \n",
       "\n",
       "              DOD_HOSP              DOD_SSN  EXPIRE_FLAG  \n",
       "0                  NaN                  NaN            0  \n",
       "1                  NaN                  NaN            0  \n",
       "2                  NaN                  NaN            0  \n",
       "3  2120-02-04 00:00:00                  NaN            1  \n",
       "4  2195-02-17 00:00:00  2195-02-17 00:00:00            1  "
      ]
     },
     "execution_count": 17,
     "metadata": {},
     "output_type": "execute_result"
    }
   ],
   "source": [
    "PATIENTS = pd.read_csv(f'{multi_visit_mimic_dir}/PATIENTS.csv.gz')\n",
    "PATIENTS.head()"
   ]
  },
  {
   "cell_type": "code",
   "execution_count": 18,
   "id": "fundamental-marking",
   "metadata": {},
   "outputs": [],
   "source": [
    "ADMISSIONS = ADMISSIONS[ADMISSIONS.SUBJECT_ID.isin(patients_multi_visits)].reset_index(drop=True)\n",
    "ADMISSIONS.to_csv(f'{multi_visit_mimic_dir}/ADMISSIONS.csv.gz', compression='gzip', index=False)\n"
   ]
  },
  {
   "cell_type": "code",
   "execution_count": 19,
   "id": "divine-penguin",
   "metadata": {},
   "outputs": [],
   "source": [
    "DIAGNOSES_ICD = pd.read_csv(f'{mimic_dir}/DIAGNOSES_ICD.csv.gz', dtype = {'ICD9_CODE': str})\n",
    "DIAGNOSES_ICD = DIAGNOSES_ICD[DIAGNOSES_ICD.SUBJECT_ID.isin(patients_multi_visits)].reset_index(drop=True)\n",
    "DIAGNOSES_ICD.to_csv(f'{multi_visit_mimic_dir}/DIAGNOSES_ICD.csv.gz', compression='gzip', index=False)\n",
    "\n",
    "\n",
    "PROCEDURES_ICD = pd.read_csv(f'{mimic_dir}/PROCEDURES_ICD.csv.gz', dtype = {'ICD9_CODE': str})\n",
    "PROCEDURES_ICD = PROCEDURES_ICD[PROCEDURES_ICD.SUBJECT_ID.isin(patients_multi_visits)].reset_index(drop=True)\n",
    "PROCEDURES_ICD.to_csv(f'{multi_visit_mimic_dir}/PROCEDURES_ICD.csv.gz', compression='gzip', index=False)\n",
    "\n"
   ]
  },
  {
   "cell_type": "code",
   "execution_count": 20,
   "id": "graduate-layout",
   "metadata": {},
   "outputs": [],
   "source": [
    "LABEVENTS = pd.read_csv(f'{mimic_dir}/LABEVENTS.csv.gz')\n",
    "LABEVENTS = LABEVENTS[LABEVENTS.SUBJECT_ID.isin(patients_multi_visits)].reset_index(drop=True)\n",
    "LABEVENTS.to_csv(f'{multi_visit_mimic_dir}/LABEVENTS.csv.gz', compression='gzip', index=False)"
   ]
  },
  {
   "cell_type": "code",
   "execution_count": 21,
   "id": "laughing-clothing",
   "metadata": {},
   "outputs": [
    {
     "name": "stderr",
     "output_type": "stream",
     "text": [
      "3it [00:23,  7.98s/it]/home/asem/anaconda3/envs/mimic3-snonet/lib/python3.9/site-packages/IPython/core/interactiveshell.py:3444: DtypeWarning: Columns (8,13,14) have mixed types.Specify dtype option on import or set low_memory=False.\n",
      "  exec(code_obj, self.user_global_ns, self.user_ns)\n",
      "19it [02:46,  8.90s/it]/home/asem/anaconda3/envs/mimic3-snonet/lib/python3.9/site-packages/IPython/core/interactiveshell.py:3444: DtypeWarning: Columns (13) have mixed types.Specify dtype option on import or set low_memory=False.\n",
      "  exec(code_obj, self.user_global_ns, self.user_ns)\n",
      "25it [03:39,  8.86s/it]/home/asem/anaconda3/envs/mimic3-snonet/lib/python3.9/site-packages/IPython/core/interactiveshell.py:3444: DtypeWarning: Columns (8,10,14) have mixed types.Specify dtype option on import or set low_memory=False.\n",
      "  exec(code_obj, self.user_global_ns, self.user_ns)\n",
      "26it [03:48,  8.80s/it]/home/asem/anaconda3/envs/mimic3-snonet/lib/python3.9/site-packages/IPython/core/interactiveshell.py:3444: DtypeWarning: Columns (8) have mixed types.Specify dtype option on import or set low_memory=False.\n",
      "  exec(code_obj, self.user_global_ns, self.user_ns)\n",
      "34it [04:47,  8.46s/it]\n"
     ]
    }
   ],
   "source": [
    "chunksize = 10 ** 7\n",
    "filtered_dfs = []\n",
    "with pd.read_csv(f'{mimic_dir}/CHARTEVENTS.csv.gz', chunksize=chunksize) as reader:\n",
    "    for chunk in tqdm(reader):\n",
    "        filtered_df = chunk[chunk.SUBJECT_ID.isin(patients_multi_visits)].reset_index(drop=True)\n",
    "        filtered_dfs.append(filtered_df)\n",
    "\n",
    "\n",
    "                        "
   ]
  },
  {
   "cell_type": "code",
   "execution_count": 22,
   "id": "designed-adventure",
   "metadata": {},
   "outputs": [
    {
     "name": "stderr",
     "output_type": "stream",
     "text": [
      "100%|████████████████████████████████████████████████████████████████████████████████████████████████████████████████████████████████████████████████████████████████████████████████████████████████████████████████████████████████████████████████████████████████████████████████████████████████████████████████████████████████████████████████████████████████████████████████████████████| 34/34 [14:15<00:00, 25.16s/it]\n"
     ]
    }
   ],
   "source": [
    "for i, df_chunk in enumerate(tqdm(filtered_dfs)):\n",
    "    # Set writing mode to append after first chunk\n",
    "    mode = 'w' if i == 0 else 'a'\n",
    "    \n",
    "    # Add header if it is the first chunk\n",
    "    header = i == 0\n",
    "\n",
    "    df_chunk.to_csv(\n",
    "        f'{multi_visit_mimic_dir}/CHARTEVENTS.csv.gz', \n",
    "        compression='gzip', \n",
    "        index=False,\n",
    "        header=header, \n",
    "        mode=mode)"
   ]
  },
  {
   "cell_type": "code",
   "execution_count": null,
   "id": "becoming-participation",
   "metadata": {},
   "outputs": [],
   "source": []
  }
 ],
 "metadata": {
  "kernelspec": {
   "display_name": "Python 3 (ipykernel)",
   "language": "python",
   "name": "python3"
  },
  "language_info": {
   "codemirror_mode": {
    "name": "ipython",
    "version": 3
   },
   "file_extension": ".py",
   "mimetype": "text/x-python",
   "name": "python",
   "nbconvert_exporter": "python",
   "pygments_lexer": "ipython3",
   "version": "3.8.12"
  }
 },
 "nbformat": 4,
 "nbformat_minor": 5
}
