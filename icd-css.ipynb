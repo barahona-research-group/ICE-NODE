{
 "cells": [
  {
   "cell_type": "code",
   "execution_count": 1,
   "id": "e048b7b3",
   "metadata": {},
   "outputs": [],
   "source": [
    "# conda activate mimic3-snonet\n",
    "import pandas as pd"
   ]
  },
  {
   "cell_type": "code",
   "execution_count": 2,
   "id": "3cbbc60f",
   "metadata": {},
   "outputs": [],
   "source": [
    "project_dir = '/home/am8520/GP/MIMIC-SNONET'\n",
    "D_ICD_DIAGNOSES = pd.read_csv(f'{project_dir}/RAW/mimic-iii-clinical-database-1.4/D_ICD_DIAGNOSES.csv.gz')"
   ]
  },
  {
   "cell_type": "code",
   "execution_count": 3,
   "id": "78278d78",
   "metadata": {},
   "outputs": [
    {
     "data": {
      "text/html": [
       "<div>\n",
       "<style scoped>\n",
       "    .dataframe tbody tr th:only-of-type {\n",
       "        vertical-align: middle;\n",
       "    }\n",
       "\n",
       "    .dataframe tbody tr th {\n",
       "        vertical-align: top;\n",
       "    }\n",
       "\n",
       "    .dataframe thead th {\n",
       "        text-align: right;\n",
       "    }\n",
       "</style>\n",
       "<table border=\"1\" class=\"dataframe\">\n",
       "  <thead>\n",
       "    <tr style=\"text-align: right;\">\n",
       "      <th></th>\n",
       "      <th>ROW_ID</th>\n",
       "      <th>ICD9_CODE</th>\n",
       "      <th>SHORT_TITLE</th>\n",
       "      <th>LONG_TITLE</th>\n",
       "    </tr>\n",
       "  </thead>\n",
       "  <tbody>\n",
       "    <tr>\n",
       "      <th>0</th>\n",
       "      <td>174</td>\n",
       "      <td>01166</td>\n",
       "      <td>TB pneumonia-oth test</td>\n",
       "      <td>Tuberculous pneumonia [any form], tubercle bac...</td>\n",
       "    </tr>\n",
       "    <tr>\n",
       "      <th>1</th>\n",
       "      <td>175</td>\n",
       "      <td>01170</td>\n",
       "      <td>TB pneumothorax-unspec</td>\n",
       "      <td>Tuberculous pneumothorax, unspecified</td>\n",
       "    </tr>\n",
       "    <tr>\n",
       "      <th>2</th>\n",
       "      <td>176</td>\n",
       "      <td>01171</td>\n",
       "      <td>TB pneumothorax-no exam</td>\n",
       "      <td>Tuberculous pneumothorax, bacteriological or h...</td>\n",
       "    </tr>\n",
       "    <tr>\n",
       "      <th>3</th>\n",
       "      <td>177</td>\n",
       "      <td>01172</td>\n",
       "      <td>TB pneumothorx-exam unkn</td>\n",
       "      <td>Tuberculous pneumothorax, bacteriological or h...</td>\n",
       "    </tr>\n",
       "    <tr>\n",
       "      <th>4</th>\n",
       "      <td>178</td>\n",
       "      <td>01173</td>\n",
       "      <td>TB pneumothorax-micro dx</td>\n",
       "      <td>Tuberculous pneumothorax, tubercle bacilli fou...</td>\n",
       "    </tr>\n",
       "  </tbody>\n",
       "</table>\n",
       "</div>"
      ],
      "text/plain": [
       "   ROW_ID ICD9_CODE               SHORT_TITLE  \\\n",
       "0     174     01166     TB pneumonia-oth test   \n",
       "1     175     01170    TB pneumothorax-unspec   \n",
       "2     176     01171   TB pneumothorax-no exam   \n",
       "3     177     01172  TB pneumothorx-exam unkn   \n",
       "4     178     01173  TB pneumothorax-micro dx   \n",
       "\n",
       "                                          LONG_TITLE  \n",
       "0  Tuberculous pneumonia [any form], tubercle bac...  \n",
       "1              Tuberculous pneumothorax, unspecified  \n",
       "2  Tuberculous pneumothorax, bacteriological or h...  \n",
       "3  Tuberculous pneumothorax, bacteriological or h...  \n",
       "4  Tuberculous pneumothorax, tubercle bacilli fou...  "
      ]
     },
     "execution_count": 3,
     "metadata": {},
     "output_type": "execute_result"
    }
   ],
   "source": [
    "D_ICD_DIAGNOSES.head()"
   ]
  },
  {
   "cell_type": "code",
   "execution_count": 7,
   "id": "1b55d78f",
   "metadata": {},
   "outputs": [],
   "source": [
    "CSS_DIAGNOSES_SINGLE = pd.read_csv(f'{project_dir}/CSS/$dxref 2015.csv', skiprows=1)\n",
    "CSS_PROCEDURES_SINGLE = pd.read_csv(f'{project_dir}/CSS/$prref 2015.csv')\n",
    "CSS_DIAGNOSES_MULTI = pd.read_csv(f'{project_dir}/CSS/ccs_multi_dx_tool_2015.csv')\n",
    "CSS_PROCEDURES_MULTI = pd.read_csv(f'{project_dir}/CSS/ccs_multi_pr_tool_2015.csv')"
   ]
  },
  {
   "cell_type": "code",
   "execution_count": 8,
   "id": "f71e90f0",
   "metadata": {},
   "outputs": [
    {
     "data": {
      "text/html": [
       "<div>\n",
       "<style scoped>\n",
       "    .dataframe tbody tr th:only-of-type {\n",
       "        vertical-align: middle;\n",
       "    }\n",
       "\n",
       "    .dataframe tbody tr th {\n",
       "        vertical-align: top;\n",
       "    }\n",
       "\n",
       "    .dataframe thead th {\n",
       "        text-align: right;\n",
       "    }\n",
       "</style>\n",
       "<table border=\"1\" class=\"dataframe\">\n",
       "  <thead>\n",
       "    <tr style=\"text-align: right;\">\n",
       "      <th></th>\n",
       "      <th>'ICD-9-CM CODE'</th>\n",
       "      <th>'CCS CATEGORY'</th>\n",
       "      <th>'CCS CATEGORY DESCRIPTION'</th>\n",
       "      <th>'ICD-9-CM CODE DESCRIPTION'</th>\n",
       "      <th>'OPTIONAL CCS CATEGORY'</th>\n",
       "      <th>'OPTIONAL CCS CATEGORY DESCRIPTION'</th>\n",
       "    </tr>\n",
       "  </thead>\n",
       "  <tbody>\n",
       "    <tr>\n",
       "      <th>0</th>\n",
       "      <td>'     '</td>\n",
       "      <td>'0    '</td>\n",
       "      <td>'No DX'</td>\n",
       "      <td>INVALID CODES IN USER DATA</td>\n",
       "      <td>' '</td>\n",
       "      <td>' '</td>\n",
       "    </tr>\n",
       "    <tr>\n",
       "      <th>1</th>\n",
       "      <td>'01000'</td>\n",
       "      <td>'1    '</td>\n",
       "      <td>'Tuberculosis'</td>\n",
       "      <td>PRIM TB COMPLEX-UNSPEC</td>\n",
       "      <td>' '</td>\n",
       "      <td>' '</td>\n",
       "    </tr>\n",
       "    <tr>\n",
       "      <th>2</th>\n",
       "      <td>'01001'</td>\n",
       "      <td>'1    '</td>\n",
       "      <td>'Tuberculosis'</td>\n",
       "      <td>PRIM TB COMPLEX-NO EXAM</td>\n",
       "      <td>' '</td>\n",
       "      <td>' '</td>\n",
       "    </tr>\n",
       "    <tr>\n",
       "      <th>3</th>\n",
       "      <td>'01002'</td>\n",
       "      <td>'1    '</td>\n",
       "      <td>'Tuberculosis'</td>\n",
       "      <td>PRIM TB COMPLEX-EXM UNKN</td>\n",
       "      <td>' '</td>\n",
       "      <td>' '</td>\n",
       "    </tr>\n",
       "    <tr>\n",
       "      <th>4</th>\n",
       "      <td>'01003'</td>\n",
       "      <td>'1    '</td>\n",
       "      <td>'Tuberculosis'</td>\n",
       "      <td>PRIM TB COMPLEX-MICRO DX</td>\n",
       "      <td>' '</td>\n",
       "      <td>' '</td>\n",
       "    </tr>\n",
       "  </tbody>\n",
       "</table>\n",
       "</div>"
      ],
      "text/plain": [
       "  'ICD-9-CM CODE' 'CCS CATEGORY' 'CCS CATEGORY DESCRIPTION'  \\\n",
       "0         '     '        '0    '                    'No DX'   \n",
       "1         '01000'        '1    '             'Tuberculosis'   \n",
       "2         '01001'        '1    '             'Tuberculosis'   \n",
       "3         '01002'        '1    '             'Tuberculosis'   \n",
       "4         '01003'        '1    '             'Tuberculosis'   \n",
       "\n",
       "  'ICD-9-CM CODE DESCRIPTION' 'OPTIONAL CCS CATEGORY'  \\\n",
       "0  INVALID CODES IN USER DATA                     ' '   \n",
       "1      PRIM TB COMPLEX-UNSPEC                     ' '   \n",
       "2     PRIM TB COMPLEX-NO EXAM                     ' '   \n",
       "3    PRIM TB COMPLEX-EXM UNKN                     ' '   \n",
       "4    PRIM TB COMPLEX-MICRO DX                     ' '   \n",
       "\n",
       "  'OPTIONAL CCS CATEGORY DESCRIPTION'  \n",
       "0                                 ' '  \n",
       "1                                 ' '  \n",
       "2                                 ' '  \n",
       "3                                 ' '  \n",
       "4                                 ' '  "
      ]
     },
     "execution_count": 8,
     "metadata": {},
     "output_type": "execute_result"
    }
   ],
   "source": [
    "CSS_DIAGNOSES_SINGLE.head()"
   ]
  },
  {
   "cell_type": "code",
   "execution_count": 9,
   "id": "831510ed",
   "metadata": {},
   "outputs": [
    {
     "data": {
      "text/plain": [
       "(15073, 6)"
      ]
     },
     "execution_count": 9,
     "metadata": {},
     "output_type": "execute_result"
    }
   ],
   "source": [
    "CSS_DIAGNOSES_SINGLE.shape"
   ]
  },
  {
   "cell_type": "code",
   "execution_count": null,
   "id": "7f4597ef",
   "metadata": {},
   "outputs": [],
   "source": []
  }
 ],
 "metadata": {
  "kernelspec": {
   "display_name": "Python 3 (ipykernel)",
   "language": "python",
   "name": "python3"
  },
  "language_info": {
   "codemirror_mode": {
    "name": "ipython",
    "version": 3
   },
   "file_extension": ".py",
   "mimetype": "text/x-python",
   "name": "python",
   "nbconvert_exporter": "python",
   "pygments_lexer": "ipython3",
   "version": "3.9.7"
  }
 },
 "nbformat": 4,
 "nbformat_minor": 5
}
