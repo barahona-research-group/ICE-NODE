{
 "cells": [
  {
   "cell_type": "code",
   "execution_count": 1,
   "id": "e78aeb4f",
   "metadata": {},
   "source": [
    "import matplotlib\n",
    "import matplotlib.pyplot as plt\n",
    "import numpy as np\n"
   ],
   "outputs": []
  },
  {
   "cell_type": "markdown",
   "id": "eb5cef81",
   "metadata": {},
   "source": [
    "## Hidden-State"
   ]
  },
  {
   "cell_type": "code",
   "execution_count": 2,
   "id": "cfede699",
   "metadata": {},
   "source": [
    "fig = plt.figure()\n",
    "ax = plt.axes(projection=\"3d\")\n",
    "\n",
    "z1 = np.linspace(-1, 1, 100)\n",
    "x1 = np.cos(z1)\n",
    "y1 = np.sin(z1)\n",
    "\n",
    "\n",
    "z2 = np.linspace(5.3, 9, 100)\n",
    "x2 = np.cos(z2 - 4)\n",
    "y2 = np.sin(z2 - 4)\n",
    "\n",
    "z_conn = np.linspace(1, 5.3, 100)\n",
    "x_conn = np.linspace(np.cos(z1[-1]), np.cos(z2[0] - 4), 100)\n",
    "y_conn = np.linspace(np.sin(z1[-1]), np.sin(z2[0] - 4), 100)\n",
    "\n",
    "# First segment\n",
    "ax.plot3D(x1, y1,  z1, linewidth=3, color=\"gray\")\n",
    "\n",
    "# Connection\n",
    "ax.plot3D(x_conn, y_conn, z_conn,'--', linewidth=2, color=\"purple\")\n",
    "\n",
    "# Second segment\n",
    "ax.plot3D(x2, y2,  z2, linewidth=3, color=\"blue\")\n",
    "\n",
    "ax.set_xticklabels([]);  ax.set_yticklabels([]); ax.set_zticklabels([]); \n",
    "\n",
    "ax.text(x1[0], y1[0], z1[0] + 1, '$t_0$', None, size=20, color=\"black\")\n",
    "ax.scatter(x1[0], y1[0], z1[0], color=\"black\", s = 50)\n",
    "\n",
    "\n",
    "ax.text(x1[-1], y1[-1], z1[-1] + 1, '$t_1^-$', None, size=20, color=\"black\")\n",
    "ax.scatter(x1[-1], y1[-1], z1[-1], color=\"black\", s = 50)\n",
    "\n",
    "\n",
    "ax.text(x2[0], y2[0], z2[0] + 1, '$t_1^+$', None, size=20, color=\"black\")\n",
    "ax.scatter(x2[0], y2[0], z2[0], color=\"black\", s = 50)\n",
    "\n",
    "\n",
    "ax.text(x2[-1], y2[-1], z2[-1] + 1, '$t_2$', None, size=20, color=\"black\")\n",
    "ax.scatter(x2[-1], y2[-1], z2[-1], color=\"black\", s = 50)\n",
    "\n",
    "\n",
    "# z_points = 15 * np.random.random(100)\n",
    "# x_points = np.cos(z_points) + 0.1 * np.random.randn(100)\n",
    "# y_points = np.sin(z_points) + 0.1 * np.random.randn(100)\n",
    "# ax.scatter3D(x_points, y_points, z_points, c=z_points, cmap='hsv');\n",
    "ax.text2D(0.0, 0.8, r\"$\\mathbf{x}(t)$\", transform=ax.transAxes, size=20)\n",
    "\n",
    "\n",
    "plt.show()\n",
    "ax.figure.savefig(\"state.svg\", format=\"svg\", bbox_inches='tight')"
   ],
   "outputs": []
  },
  {
   "cell_type": "markdown",
   "id": "ac36e5a6",
   "metadata": {},
   "source": [
    "## Risk Trajectory"
   ]
  },
  {
   "cell_type": "code",
   "execution_count": 21,
   "id": "d41df691",
   "metadata": {},
   "source": [
    "t1 = np.linspace(0.05, 0.1, 20)\n",
    "s1 = np.linspace(0.2, 0.25, 20)\n",
    "\n",
    "tc = np.linspace(0.1, 0.1, 2)\n",
    "sc = np.linspace(0.25, np.sin(2 * np.pi * 0.1), 2)\n",
    "\n",
    "t2 = np.linspace(0.1, 0.2, 50)\n",
    "s2 = 0.8 * np.sin(2 * np.pi * t2)\n",
    "\n",
    "\n",
    "fig, ax = plt.subplots()\n",
    "ax.plot(t1, s1, color='gray', linewidth=3)\n",
    "ax.text(t1[0], 0,  '$t_0$', None, size=20, color=\"black\")\n",
    "\n",
    "\n",
    "ax.plot(t2, s2, color='blue', linewidth=3)\n",
    "ax.text(t2[-1], 0,  '$t_2$', None, size=20, color=\"black\")\n",
    "ax.text(t1[-1], 0,  '$t_1$', None, size=20, color=\"black\")\n",
    "\n",
    "\n",
    "ax.vlines(t1[-1], s1[-1], s2[0], linestyles='--', color='purple', linewidth=3)\n",
    "\n",
    "ax.grid(True, linestyle='-.')\n",
    "ax.tick_params(labelcolor='black', labelsize='medium', width=3)\n",
    "ax.set_xticklabels([])\n",
    "ax.set_ylim(0.1, 0.9)\n",
    "ax.set_xlim(0.05, 0.2)\n",
    "\n",
    "ax.set_title('Risk: Acute Renal Failure', size=16)\n",
    "ax.set_aspect(0.15)\n",
    "plt.show()\n",
    "ax.figure.savefig(\"risk.svg\", format=\"svg\", bbox_inches='tight')"
   ],
   "outputs": []
  },
  {
   "cell_type": "code",
   "execution_count": null,
   "id": "78059b12",
   "metadata": {},
   "source": [],
   "outputs": []
  }
 ],
 "metadata": {
  "kernelspec": {
   "display_name": "Python 3 (ipykernel)",
   "language": "python",
   "name": "python3"
  },
  "language_info": {
   "codemirror_mode": {
    "name": "ipython",
    "version": 3
   },
   "file_extension": ".py",
   "mimetype": "text/x-python",
   "name": "python",
   "nbconvert_exporter": "python",
   "pygments_lexer": "ipython3",
   "version": "3.10.12"
  }
 },
 "nbformat": 4,
 "nbformat_minor": 5
}
