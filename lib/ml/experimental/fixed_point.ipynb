{
 "cells": [
  {
   "cell_type": "code",
   "execution_count": 2,
   "id": "40fab8b3-6a2f-4556-ad22-e53d593fd8ea",
   "metadata": {},
   "outputs": [],
   "source": [
    "import jax\n",
    "import equinox as eqx\n",
    "import jax.numpy as jnp\n",
    "import jax.random as jrandom\n",
    "import optimistix as optx\n",
    "import optax\n",
    "\n",
    "jax.config.update('jax_enable_x64', True)"
   ]
  },
  {
   "cell_type": "code",
   "execution_count": 3,
   "id": "bcc5c27c-5286-4bac-a384-7e12e54a23d5",
   "metadata": {},
   "outputs": [],
   "source": [
    "# !pip install --upgrade optax"
   ]
  },
  {
   "cell_type": "code",
   "execution_count": 4,
   "id": "b98a0112-561f-4392-b470-652c2e727090",
   "metadata": {},
   "outputs": [
    {
     "name": "stderr",
     "output_type": "stream",
     "text": [
      "/home/asem/GP/env/icenode-dev/lib/python3.11/pty.py:89: RuntimeWarning: os.fork() was called. os.fork() is incompatible with multithreaded code, and JAX is multithreaded, so this will likely lead to a deadlock.\n",
      "  pid, fd = os.forkpty()\n"
     ]
    },
    {
     "name": "stdout",
     "output_type": "stream",
     "text": [
      "Requirement already satisfied: equinox in /home/asem/GP/env/icenode-dev/lib/python3.11/site-packages (0.11.4)\n",
      "Requirement already satisfied: jax>=0.4.13 in /home/asem/GP/env/icenode-dev/lib/python3.11/site-packages (from equinox) (0.4.26)\n",
      "Requirement already satisfied: jaxtyping>=0.2.20 in /home/asem/GP/env/icenode-dev/lib/python3.11/site-packages (from equinox) (0.2.28)\n",
      "Requirement already satisfied: typing-extensions>=4.5.0 in /home/asem/GP/env/icenode-dev/lib/python3.11/site-packages (from equinox) (4.9.0)\n",
      "Requirement already satisfied: ml-dtypes>=0.2.0 in /home/asem/GP/env/icenode-dev/lib/python3.11/site-packages (from jax>=0.4.13->equinox) (0.4.0)\n",
      "Requirement already satisfied: numpy>=1.22 in /home/asem/GP/env/icenode-dev/lib/python3.11/site-packages (from jax>=0.4.13->equinox) (1.26.4)\n",
      "Requirement already satisfied: opt-einsum in /home/asem/GP/env/icenode-dev/lib/python3.11/site-packages (from jax>=0.4.13->equinox) (3.3.0)\n",
      "Requirement already satisfied: scipy>=1.9 in /home/asem/GP/env/icenode-dev/lib/python3.11/site-packages (from jax>=0.4.13->equinox) (1.13.0)\n",
      "Requirement already satisfied: typeguard==2.13.3 in /home/asem/GP/env/icenode-dev/lib/python3.11/site-packages (from jaxtyping>=0.2.20->equinox) (2.13.3)\n"
     ]
    }
   ],
   "source": [
    "!pip install --upgrade equinox"
   ]
  },
  {
   "cell_type": "code",
   "execution_count": 5,
   "id": "9d10908d-1a26-4a5f-abcb-26b8b2a5c3fe",
   "metadata": {},
   "outputs": [
    {
     "name": "stderr",
     "output_type": "stream",
     "text": [
      "2024-05-16 14:49:08.380395: W external/xla/xla/service/gpu/nvptx_compiler.cc:718] The NVIDIA driver's CUDA version is 12.2 which is older than the ptxas CUDA version (12.4.131). Because the driver is older than the ptxas version, XLA is disabling parallel compilation, which may slow down compilation. You should update your NVIDIA driver or use the NVIDIA-provided CUDA forward compatibility packages.\n"
     ]
    }
   ],
   "source": [
    "key = jrandom.PRNGKey(0)\n",
    "IN = 10\n",
    "OUT = 50\n",
    "\n",
    "mlp = eqx.nn.MLP(IN, OUT, depth=3, width_size=OUT, key=key)\n",
    "\n"
   ]
  },
  {
   "cell_type": "code",
   "execution_count": 6,
   "id": "547cdd40-a807-41c5-8525-a2dea4517b6b",
   "metadata": {},
   "outputs": [
    {
     "data": {
      "text/plain": [
       "\u001b[0;31mSignature:\u001b[0m      \n",
       "\u001b[0moptx\u001b[0m\u001b[0;34m.\u001b[0m\u001b[0mfixed_point\u001b[0m\u001b[0;34m(\u001b[0m\u001b[0;34m\u001b[0m\n",
       "\u001b[0;34m\u001b[0m    \u001b[0mfn\u001b[0m\u001b[0;34m:\u001b[0m \u001b[0mUnion\u001b[0m\u001b[0;34m[\u001b[0m\u001b[0mcollections\u001b[0m\u001b[0;34m.\u001b[0m\u001b[0mabc\u001b[0m\u001b[0;34m.\u001b[0m\u001b[0mCallable\u001b[0m\u001b[0;34m[\u001b[0m\u001b[0;34m[\u001b[0m\u001b[0;34m~\u001b[0m\u001b[0mY\u001b[0m\u001b[0;34m,\u001b[0m \u001b[0mAny\u001b[0m\u001b[0;34m]\u001b[0m\u001b[0;34m,\u001b[0m \u001b[0mtuple\u001b[0m\u001b[0;34m[\u001b[0m\u001b[0;34m~\u001b[0m\u001b[0mY\u001b[0m\u001b[0;34m,\u001b[0m \u001b[0;34m~\u001b[0m\u001b[0mAux\u001b[0m\u001b[0;34m]\u001b[0m\u001b[0;34m]\u001b[0m\u001b[0;34m,\u001b[0m \u001b[0mcollections\u001b[0m\u001b[0;34m.\u001b[0m\u001b[0mabc\u001b[0m\u001b[0;34m.\u001b[0m\u001b[0mCallable\u001b[0m\u001b[0;34m[\u001b[0m\u001b[0;34m[\u001b[0m\u001b[0;34m~\u001b[0m\u001b[0mY\u001b[0m\u001b[0;34m,\u001b[0m \u001b[0mAny\u001b[0m\u001b[0;34m]\u001b[0m\u001b[0;34m,\u001b[0m \u001b[0;34m~\u001b[0m\u001b[0mY\u001b[0m\u001b[0;34m]\u001b[0m\u001b[0;34m]\u001b[0m\u001b[0;34m,\u001b[0m\u001b[0;34m\u001b[0m\n",
       "\u001b[0;34m\u001b[0m    \u001b[0msolver\u001b[0m\u001b[0;34m:\u001b[0m \u001b[0mUnion\u001b[0m\u001b[0;34m[\u001b[0m\u001b[0moptimistix\u001b[0m\u001b[0;34m.\u001b[0m\u001b[0m_fixed_point\u001b[0m\u001b[0;34m.\u001b[0m\u001b[0mAbstractFixedPointSolver\u001b[0m\u001b[0;34m,\u001b[0m \u001b[0moptimistix\u001b[0m\u001b[0;34m.\u001b[0m\u001b[0m_root_find\u001b[0m\u001b[0;34m.\u001b[0m\u001b[0mAbstractRootFinder\u001b[0m\u001b[0;34m,\u001b[0m \u001b[0moptimistix\u001b[0m\u001b[0;34m.\u001b[0m\u001b[0m_least_squares\u001b[0m\u001b[0;34m.\u001b[0m\u001b[0mAbstractLeastSquaresSolver\u001b[0m\u001b[0;34m,\u001b[0m \u001b[0moptimistix\u001b[0m\u001b[0;34m.\u001b[0m\u001b[0m_minimise\u001b[0m\u001b[0;34m.\u001b[0m\u001b[0mAbstractMinimiser\u001b[0m\u001b[0;34m]\u001b[0m\u001b[0;34m,\u001b[0m\u001b[0;34m\u001b[0m\n",
       "\u001b[0;34m\u001b[0m    \u001b[0my0\u001b[0m\u001b[0;34m:\u001b[0m \u001b[0;34m~\u001b[0m\u001b[0mY\u001b[0m\u001b[0;34m,\u001b[0m\u001b[0;34m\u001b[0m\n",
       "\u001b[0;34m\u001b[0m    \u001b[0margs\u001b[0m\u001b[0;34m:\u001b[0m \u001b[0mjaxtyping\u001b[0m\u001b[0;34m.\u001b[0m\u001b[0mPyTree\u001b[0m\u001b[0;34m[\u001b[0m\u001b[0mtyping\u001b[0m\u001b[0;34m.\u001b[0m\u001b[0mAny\u001b[0m\u001b[0;34m]\u001b[0m \u001b[0;34m=\u001b[0m \u001b[0;32mNone\u001b[0m\u001b[0;34m,\u001b[0m\u001b[0;34m\u001b[0m\n",
       "\u001b[0;34m\u001b[0m    \u001b[0moptions\u001b[0m\u001b[0;34m:\u001b[0m \u001b[0mOptional\u001b[0m\u001b[0;34m[\u001b[0m\u001b[0mdict\u001b[0m\u001b[0;34m[\u001b[0m\u001b[0mstr\u001b[0m\u001b[0;34m,\u001b[0m \u001b[0mAny\u001b[0m\u001b[0;34m]\u001b[0m\u001b[0;34m]\u001b[0m \u001b[0;34m=\u001b[0m \u001b[0;32mNone\u001b[0m\u001b[0;34m,\u001b[0m\u001b[0;34m\u001b[0m\n",
       "\u001b[0;34m\u001b[0m    \u001b[0;34m*\u001b[0m\u001b[0;34m,\u001b[0m\u001b[0;34m\u001b[0m\n",
       "\u001b[0;34m\u001b[0m    \u001b[0mhas_aux\u001b[0m\u001b[0;34m:\u001b[0m \u001b[0mbool\u001b[0m \u001b[0;34m=\u001b[0m \u001b[0;32mFalse\u001b[0m\u001b[0;34m,\u001b[0m\u001b[0;34m\u001b[0m\n",
       "\u001b[0;34m\u001b[0m    \u001b[0mmax_steps\u001b[0m\u001b[0;34m:\u001b[0m \u001b[0mOptional\u001b[0m\u001b[0;34m[\u001b[0m\u001b[0mint\u001b[0m\u001b[0;34m]\u001b[0m \u001b[0;34m=\u001b[0m \u001b[0;36m256\u001b[0m\u001b[0;34m,\u001b[0m\u001b[0;34m\u001b[0m\n",
       "\u001b[0;34m\u001b[0m    \u001b[0madjoint\u001b[0m\u001b[0;34m:\u001b[0m \u001b[0moptimistix\u001b[0m\u001b[0;34m.\u001b[0m\u001b[0m_adjoint\u001b[0m\u001b[0;34m.\u001b[0m\u001b[0mAbstractAdjoint\u001b[0m \u001b[0;34m=\u001b[0m \u001b[0mImplicitAdjoint\u001b[0m\u001b[0;34m(\u001b[0m\u001b[0mlinear_solver\u001b[0m\u001b[0;34m=\u001b[0m\u001b[0mAutoLinearSolver\u001b[0m\u001b[0;34m(\u001b[0m\u001b[0mwell_posed\u001b[0m\u001b[0;34m=\u001b[0m\u001b[0;32mNone\u001b[0m\u001b[0;34m)\u001b[0m\u001b[0;34m)\u001b[0m\u001b[0;34m,\u001b[0m\u001b[0;34m\u001b[0m\n",
       "\u001b[0;34m\u001b[0m    \u001b[0mthrow\u001b[0m\u001b[0;34m:\u001b[0m \u001b[0mbool\u001b[0m \u001b[0;34m=\u001b[0m \u001b[0;32mTrue\u001b[0m\u001b[0;34m,\u001b[0m\u001b[0;34m\u001b[0m\n",
       "\u001b[0;34m\u001b[0m    \u001b[0mtags\u001b[0m\u001b[0;34m:\u001b[0m \u001b[0mfrozenset\u001b[0m\u001b[0;34m[\u001b[0m\u001b[0mobject\u001b[0m\u001b[0;34m]\u001b[0m \u001b[0;34m=\u001b[0m \u001b[0mfrozenset\u001b[0m\u001b[0;34m(\u001b[0m\u001b[0;34m)\u001b[0m\u001b[0;34m,\u001b[0m\u001b[0;34m\u001b[0m\n",
       "\u001b[0;34m\u001b[0m\u001b[0;34m)\u001b[0m \u001b[0;34m->\u001b[0m \u001b[0moptimistix\u001b[0m\u001b[0;34m.\u001b[0m\u001b[0m_solution\u001b[0m\u001b[0;34m.\u001b[0m\u001b[0mSolution\u001b[0m\u001b[0;34m[\u001b[0m\u001b[0;34m~\u001b[0m\u001b[0mY\u001b[0m\u001b[0;34m,\u001b[0m \u001b[0;34m~\u001b[0m\u001b[0mAux\u001b[0m\u001b[0;34m]\u001b[0m\u001b[0;34m\u001b[0m\u001b[0;34m\u001b[0m\u001b[0m\n",
       "\u001b[0;31mCall signature:\u001b[0m  \u001b[0moptx\u001b[0m\u001b[0;34m.\u001b[0m\u001b[0mfixed_point\u001b[0m\u001b[0;34m(\u001b[0m\u001b[0;34m*\u001b[0m\u001b[0margs\u001b[0m\u001b[0;34m,\u001b[0m \u001b[0;34m**\u001b[0m\u001b[0mkwargs\u001b[0m\u001b[0;34m)\u001b[0m\u001b[0;34m\u001b[0m\u001b[0;34m\u001b[0m\u001b[0m\n",
       "\u001b[0;31mType:\u001b[0m            _JitWrapper\n",
       "\u001b[0;31mString form:\u001b[0m    \n",
       "_JitWrapper(\n",
       "  fn='fixed_point',\n",
       "  filter_warning=False,\n",
       "  donate_first=False,\n",
       "  donate_rest=False\n",
       ")\n",
       "\u001b[0;31mFile:\u001b[0m            ~/GP/env/icenode-dev/lib/python3.11/site-packages/optimistix/_fixed_point.py\n",
       "\u001b[0;31mDocstring:\u001b[0m      \n",
       "Find a fixed-point of a function.\n",
       "\n",
       "Given a nonlinear function `fn(y, args)` which returns a pytree of arrays of the\n",
       "same shape as `y`, this returns the value `z` such that `fn(z, args) = z`.\n",
       "\n",
       "**Arguments:**\n",
       "\n",
       "- `fn`: The function to find the fixed-point of. This should take two arguments\n",
       "    `fn(y, args)`, and return a pytree of arrays of the same shape as the input `y`.\n",
       "- `solver`: The root-finder to use. This can be either an\n",
       "    [`optimistix.AbstractFixedPointSolver`][] or\n",
       "    [`optimistix.AbstractRootFinder`][], or\n",
       "    [`optimistix.AbstractLeastSquaresSolver`][], or\n",
       "    [`optimistix.AbstractMinimiser`][]. If `solver` is a root-finder then it will\n",
       "    will attempt to find the root of `fn(y, args) - y`. If `solver` is a\n",
       "    least-squares or minimisation algorithm, then it will attempt to minimise\n",
       "    `sum((fn(y, args) - y)^2)`.\n",
       "- `y0`: An initial guess for what `y` may be. Used to start the iterative process of\n",
       "    finding the fixed point; using good initial guesses is often important.\n",
       "- `args`: Passed as the `args` of `fn(y, args)`.\n",
       "- `options`: Individual solvers may accept additional runtime arguments.\n",
       "    See each individual solver's documentation for more details.\n",
       "- `has_aux`: If `True`, then `fn` may return a pair, where the first element is its\n",
       "    function value, and the second is just auxiliary data. Keyword only argument.\n",
       "- `max_steps`: The maximum number of steps the solver can take. Keyword only\n",
       "    argument.\n",
       "- `adjoint`: The adjoint method used to compute gradients through the fixed-point\n",
       "    solve. Keyword only argument.\n",
       "- `throw`: How to report any failures. (E.g. an iterative solver running out of\n",
       "    steps, or encountering divergent iterates.) If `True` then a failure will raise\n",
       "    an error. If `False` then the returned solution object will have a `result`\n",
       "    field indicating whether any failures occured. (See [`optimistix.Solution`][].)\n",
       "    Keyword only argument.\n",
       "- `tags`: Lineax [tags](https://docs.kidger.site/lineax/api/tags/) describing the\n",
       "    any structure of the Jacobian of `y -> fn(y, args) - y` with respect to y. (That\n",
       "    is, the structure of the matrix `dfn/dy - I`.) Used with\n",
       "    [`optimistix.ImplicitAdjoint`][] to implement the implicit function theorem as\n",
       "    efficiently as possible. Keyword only argument.\n",
       "\n",
       "**Returns:**\n",
       "\n",
       "An [`optimistix.Solution`][] object.\n",
       "\u001b[0;31mClass docstring:\u001b[0m _JitWrapper(fn: str, _signature: inspect.Signature, _dynamic_fun: jaxtyping.PyTree, _static_fun: Any, _cached: Any, filter_warning: bool, donate_first: bool, donate_rest: bool)"
      ]
     },
     "metadata": {},
     "output_type": "display_data"
    }
   ],
   "source": [
    "?optx.fixed_point"
   ]
  },
  {
   "cell_type": "code",
   "execution_count": 7,
   "id": "96b4b5bb-a9d5-49fc-8c79-04151806946a",
   "metadata": {},
   "outputs": [
    {
     "name": "stderr",
     "output_type": "stream",
     "text": [
      "100%|███████████████████████████████████████████████████████████████████████████████████████████| 100/100 [00:08<00:00, 12.22it/s]\n"
     ]
    }
   ],
   "source": [
    "import pandas as pd\n",
    "from datetime import datetime \n",
    "from tqdm import tqdm\n",
    "\n",
    "@eqx.filter_jit\n",
    "def reconstruction_loss(z, mlp_mask_x):  # contractive map\n",
    "    mlp, mask, x = mlp_mask_x\n",
    "    x_hat = mlp(z)\n",
    "    loss = jnp.sqrt(jnp.nanmean((x - x_hat)**2, where=mask))\n",
    "    return loss, loss\n",
    "\n",
    "solver = {\n",
    "    'cg': optx.BestSoFarMinimiser(optx.NonlinearCG(rtol=1e-8, atol=1e-8)),\n",
    "    # 'optax': optx.BestSoFarMinimiser(optx.OptaxMinimiser(optim=optax.adam(1e-3), rtol=1e-8, atol=1e-8)),\n",
    "    'BFGS': optx.BestSoFarMinimiser(optx.BFGS(rtol=1e-8, atol=1e-8))\n",
    "}\n",
    "\n",
    "@eqx.filter_jit\n",
    "def solve(solver, z_init, args):\n",
    "    return optx.minimise(reconstruction_loss, solver=solver, y0=z_init, args=args, throw=True,\n",
    "                             has_aux=True,\n",
    "                             max_steps=None)\n",
    "\n",
    "@eqx.filter_jit\n",
    "def loss(mlp, z_init, mask, x):\n",
    "    z = solve(optx.BestSoFarMinimiser(optx.BFGS(rtol=1e-8, atol=1e-8)), \n",
    "              z_init, (mlp, mask, x)).value\n",
    "    return jnp.nanmean((x - mlp(z)) ** 2, where=mask)\n",
    "\n",
    "df = []\n",
    "for i in tqdm(range(100)):\n",
    "    key, _ = jrandom.split(key, 2)\n",
    "    z_init = jrandom.normal(key, shape=(IN, ))\n",
    "    mask = jrandom.bernoulli(key, shape=(OUT, ))\n",
    "    x = jrandom.normal(key, shape=(OUT, ))\n",
    "    g = eqx.filter_grad(loss)(mlp, z_init, mask, x)\n",
    "\n",
    "    # init_loss = reconstruction_loss(z_init, (mlp, mask, x))[0]    \n",
    "    # for solver_k, solver_v in solver.items():\n",
    "        \n",
    "    #     timenow = datetime.now()\n",
    "    #     solution = solve(solver_v, z_init, (mlp, mask, x))\n",
    "    #     eval_time = (datetime.now() - timenow).total_seconds()\n",
    "    #     loss_reduction = init_loss - solution.aux\n",
    "\n",
    "    #     df.append((i, solver_k, eval_time, loss_reduction.item()))\n",
    "    \n",
    "    # print(solution.value)\n",
    "    # print(solution.stats)\n"
   ]
  },
  {
   "cell_type": "code",
   "execution_count": 8,
   "id": "46c44a0b-43c9-4375-b262-7075a70e05dc",
   "metadata": {},
   "outputs": [],
   "source": [
    "df = pd.DataFrame(df, columns=['iteration', 'solver', 'duration', 'reduction'])"
   ]
  },
  {
   "cell_type": "code",
   "execution_count": 9,
   "id": "db0ba0fd-552d-42ea-b572-72d2a735fe4c",
   "metadata": {},
   "outputs": [],
   "source": [
    "df = df.astype({'reduction': float})"
   ]
  },
  {
   "cell_type": "code",
   "execution_count": 10,
   "id": "6a61a767-d74d-49be-b922-3c8bb53f34ec",
   "metadata": {},
   "outputs": [
    {
     "ename": "IndexError",
     "evalue": "cannot do a non-empty take from an empty axes.",
     "output_type": "error",
     "traceback": [
      "\u001b[0;31m---------------------------------------------------------------------------\u001b[0m",
      "\u001b[0;31mIndexError\u001b[0m                                Traceback (most recent call last)",
      "Cell \u001b[0;32mIn[10], line 2\u001b[0m\n\u001b[1;32m      1\u001b[0m \u001b[38;5;28;01mimport\u001b[39;00m \u001b[38;5;21;01mseaborn\u001b[39;00m \u001b[38;5;28;01mas\u001b[39;00m \u001b[38;5;21;01msns\u001b[39;00m\n\u001b[0;32m----> 2\u001b[0m sns\u001b[38;5;241m.\u001b[39mdisplot(data\u001b[38;5;241m=\u001b[39mdf, x\u001b[38;5;241m=\u001b[39m\u001b[38;5;124m\"\u001b[39m\u001b[38;5;124mduration\u001b[39m\u001b[38;5;124m\"\u001b[39m, y\u001b[38;5;241m=\u001b[39m\u001b[38;5;124m\"\u001b[39m\u001b[38;5;124mreduction\u001b[39m\u001b[38;5;124m\"\u001b[39m, \n\u001b[1;32m      3\u001b[0m             hue\u001b[38;5;241m=\u001b[39m\u001b[38;5;124m\"\u001b[39m\u001b[38;5;124msolver\u001b[39m\u001b[38;5;124m\"\u001b[39m, kind\u001b[38;5;241m=\u001b[39m\u001b[38;5;124m\"\u001b[39m\u001b[38;5;124mkde\u001b[39m\u001b[38;5;124m\"\u001b[39m)\n",
      "File \u001b[0;32m~/GP/env/icenode-dev/lib/python3.11/site-packages/seaborn/distributions.py:2223\u001b[0m, in \u001b[0;36mdisplot\u001b[0;34m(data, x, y, hue, row, col, weights, kind, rug, rug_kws, log_scale, legend, palette, hue_order, hue_norm, color, col_wrap, row_order, col_order, height, aspect, facet_kws, **kwargs)\u001b[0m\n\u001b[1;32m   2220\u001b[0m     \u001b[38;5;28;01melse\u001b[39;00m:\n\u001b[1;32m   2222\u001b[0m         _assign_default_kwargs(kde_kws, p\u001b[38;5;241m.\u001b[39mplot_bivariate_density, kdeplot)\n\u001b[0;32m-> 2223\u001b[0m         p\u001b[38;5;241m.\u001b[39mplot_bivariate_density(\u001b[38;5;241m*\u001b[39m\u001b[38;5;241m*\u001b[39mkde_kws)\n\u001b[1;32m   2225\u001b[0m \u001b[38;5;28;01melif\u001b[39;00m kind \u001b[38;5;241m==\u001b[39m \u001b[38;5;124m\"\u001b[39m\u001b[38;5;124mecdf\u001b[39m\u001b[38;5;124m\"\u001b[39m:\n\u001b[1;32m   2227\u001b[0m     ecdf_kws \u001b[38;5;241m=\u001b[39m kwargs\u001b[38;5;241m.\u001b[39mcopy()\n",
      "File \u001b[0;32m~/GP/env/icenode-dev/lib/python3.11/site-packages/seaborn/distributions.py:1113\u001b[0m, in \u001b[0;36m_DistributionPlotter.plot_bivariate_density\u001b[0;34m(self, common_norm, fill, levels, thresh, color, legend, cbar, warn_singular, cbar_ax, cbar_kws, estimate_kws, **contour_kws)\u001b[0m\n\u001b[1;32m   1111\u001b[0m \u001b[38;5;66;03m# Transform from iso-proportions to iso-densities\u001b[39;00m\n\u001b[1;32m   1112\u001b[0m \u001b[38;5;28;01mif\u001b[39;00m common_norm:\n\u001b[0;32m-> 1113\u001b[0m     common_levels \u001b[38;5;241m=\u001b[39m \u001b[38;5;28mself\u001b[39m\u001b[38;5;241m.\u001b[39m_quantile_to_level(\n\u001b[1;32m   1114\u001b[0m         \u001b[38;5;28mlist\u001b[39m(densities\u001b[38;5;241m.\u001b[39mvalues()), levels,\n\u001b[1;32m   1115\u001b[0m     )\n\u001b[1;32m   1116\u001b[0m     draw_levels \u001b[38;5;241m=\u001b[39m {k: common_levels \u001b[38;5;28;01mfor\u001b[39;00m k \u001b[38;5;129;01min\u001b[39;00m densities}\n\u001b[1;32m   1117\u001b[0m \u001b[38;5;28;01melse\u001b[39;00m:\n",
      "File \u001b[0;32m~/GP/env/icenode-dev/lib/python3.11/site-packages/seaborn/distributions.py:200\u001b[0m, in \u001b[0;36m_DistributionPlotter._quantile_to_level\u001b[0;34m(self, data, quantile)\u001b[0m\n\u001b[1;32m    198\u001b[0m normalized_values \u001b[38;5;241m=\u001b[39m np\u001b[38;5;241m.\u001b[39mcumsum(sorted_values) \u001b[38;5;241m/\u001b[39m values\u001b[38;5;241m.\u001b[39msum()\n\u001b[1;32m    199\u001b[0m idx \u001b[38;5;241m=\u001b[39m np\u001b[38;5;241m.\u001b[39msearchsorted(normalized_values, \u001b[38;5;241m1\u001b[39m \u001b[38;5;241m-\u001b[39m isoprop)\n\u001b[0;32m--> 200\u001b[0m levels \u001b[38;5;241m=\u001b[39m np\u001b[38;5;241m.\u001b[39mtake(sorted_values, idx, mode\u001b[38;5;241m=\u001b[39m\u001b[38;5;124m\"\u001b[39m\u001b[38;5;124mclip\u001b[39m\u001b[38;5;124m\"\u001b[39m)\n\u001b[1;32m    201\u001b[0m \u001b[38;5;28;01mreturn\u001b[39;00m levels\n",
      "File \u001b[0;32m~/GP/env/icenode-dev/lib/python3.11/site-packages/numpy/core/fromnumeric.py:192\u001b[0m, in \u001b[0;36mtake\u001b[0;34m(a, indices, axis, out, mode)\u001b[0m\n\u001b[1;32m     95\u001b[0m \u001b[38;5;129m@array_function_dispatch\u001b[39m(_take_dispatcher)\n\u001b[1;32m     96\u001b[0m \u001b[38;5;28;01mdef\u001b[39;00m \u001b[38;5;21mtake\u001b[39m(a, indices, axis\u001b[38;5;241m=\u001b[39m\u001b[38;5;28;01mNone\u001b[39;00m, out\u001b[38;5;241m=\u001b[39m\u001b[38;5;28;01mNone\u001b[39;00m, mode\u001b[38;5;241m=\u001b[39m\u001b[38;5;124m'\u001b[39m\u001b[38;5;124mraise\u001b[39m\u001b[38;5;124m'\u001b[39m):\n\u001b[1;32m     97\u001b[0m \u001b[38;5;250m    \u001b[39m\u001b[38;5;124;03m\"\"\"\u001b[39;00m\n\u001b[1;32m     98\u001b[0m \u001b[38;5;124;03m    Take elements from an array along an axis.\u001b[39;00m\n\u001b[1;32m     99\u001b[0m \n\u001b[0;32m   (...)\u001b[0m\n\u001b[1;32m    190\u001b[0m \u001b[38;5;124;03m           [5, 7]])\u001b[39;00m\n\u001b[1;32m    191\u001b[0m \u001b[38;5;124;03m    \"\"\"\u001b[39;00m\n\u001b[0;32m--> 192\u001b[0m     \u001b[38;5;28;01mreturn\u001b[39;00m _wrapfunc(a, \u001b[38;5;124m'\u001b[39m\u001b[38;5;124mtake\u001b[39m\u001b[38;5;124m'\u001b[39m, indices, axis\u001b[38;5;241m=\u001b[39maxis, out\u001b[38;5;241m=\u001b[39mout, mode\u001b[38;5;241m=\u001b[39mmode)\n",
      "File \u001b[0;32m~/GP/env/icenode-dev/lib/python3.11/site-packages/numpy/core/fromnumeric.py:59\u001b[0m, in \u001b[0;36m_wrapfunc\u001b[0;34m(obj, method, *args, **kwds)\u001b[0m\n\u001b[1;32m     56\u001b[0m     \u001b[38;5;28;01mreturn\u001b[39;00m _wrapit(obj, method, \u001b[38;5;241m*\u001b[39margs, \u001b[38;5;241m*\u001b[39m\u001b[38;5;241m*\u001b[39mkwds)\n\u001b[1;32m     58\u001b[0m \u001b[38;5;28;01mtry\u001b[39;00m:\n\u001b[0;32m---> 59\u001b[0m     \u001b[38;5;28;01mreturn\u001b[39;00m bound(\u001b[38;5;241m*\u001b[39margs, \u001b[38;5;241m*\u001b[39m\u001b[38;5;241m*\u001b[39mkwds)\n\u001b[1;32m     60\u001b[0m \u001b[38;5;28;01mexcept\u001b[39;00m \u001b[38;5;167;01mTypeError\u001b[39;00m:\n\u001b[1;32m     61\u001b[0m     \u001b[38;5;66;03m# A TypeError occurs if the object does have such a method in its\u001b[39;00m\n\u001b[1;32m     62\u001b[0m     \u001b[38;5;66;03m# class, but its signature is not identical to that of NumPy's. This\u001b[39;00m\n\u001b[0;32m   (...)\u001b[0m\n\u001b[1;32m     66\u001b[0m     \u001b[38;5;66;03m# Call _wrapit from within the except clause to ensure a potential\u001b[39;00m\n\u001b[1;32m     67\u001b[0m     \u001b[38;5;66;03m# exception has a traceback chain.\u001b[39;00m\n\u001b[1;32m     68\u001b[0m     \u001b[38;5;28;01mreturn\u001b[39;00m _wrapit(obj, method, \u001b[38;5;241m*\u001b[39margs, \u001b[38;5;241m*\u001b[39m\u001b[38;5;241m*\u001b[39mkwds)\n",
      "\u001b[0;31mIndexError\u001b[0m: cannot do a non-empty take from an empty axes."
     ]
    },
    {
     "data": {
      "image/png": "[encoded data removed]",
      "text/plain": [
       "<Figure size 500x500 with 1 Axes>"
      ]
     },
     "metadata": {},
     "output_type": "display_data"
    }
   ],
   "source": [
    "import seaborn as sns\n",
    "sns.displot(data=df, x=\"duration\", y=\"reduction\", \n",
    "            hue=\"solver\", kind=\"kde\")\n"
   ]
  },
  {
   "cell_type": "code",
   "execution_count": 9,
   "id": "89a4be8c-6531-4cf9-943b-e3d780775fe9",
   "metadata": {},
   "outputs": [
    {
     "name": "stderr",
     "output_type": "stream",
     "text": [
      "/home/asem/GP/env/icenode-dev/lib/python3.11/pty.py:89: RuntimeWarning: os.fork() was called. os.fork() is incompatible with multithreaded code, and JAX is multithreaded, so this will likely lead to a deadlock.\n",
      "  pid, fd = os.forkpty()\n"
     ]
    },
    {
     "name": "stdout",
     "output_type": "stream",
     "text": [
      "Collecting seaborn\n",
      "  Using cached seaborn-0.13.2-py3-none-any.whl.metadata (5.4 kB)\n",
      "Requirement already satisfied: numpy!=1.24.0,>=1.20 in /home/asem/GP/env/icenode-dev/lib/python3.11/site-packages (from seaborn) (1.26.4)\n",
      "Requirement already satisfied: pandas>=1.2 in /home/asem/GP/env/icenode-dev/lib/python3.11/site-packages (from seaborn) (2.1.4)\n",
      "Requirement already satisfied: matplotlib!=3.6.1,>=3.4 in /home/asem/GP/env/icenode-dev/lib/python3.11/site-packages (from seaborn) (3.8.0)\n",
      "Requirement already satisfied: contourpy>=1.0.1 in /home/asem/GP/env/icenode-dev/lib/python3.11/site-packages (from matplotlib!=3.6.1,>=3.4->seaborn) (1.2.0)\n",
      "Requirement already satisfied: cycler>=0.10 in /home/asem/GP/env/icenode-dev/lib/python3.11/site-packages (from matplotlib!=3.6.1,>=3.4->seaborn) (0.11.0)\n",
      "Requirement already satisfied: fonttools>=4.22.0 in /home/asem/GP/env/icenode-dev/lib/python3.11/site-packages (from matplotlib!=3.6.1,>=3.4->seaborn) (4.25.0)\n",
      "Requirement already satisfied: kiwisolver>=1.0.1 in /home/asem/GP/env/icenode-dev/lib/python3.11/site-packages (from matplotlib!=3.6.1,>=3.4->seaborn) (1.4.4)\n",
      "Requirement already satisfied: packaging>=20.0 in /home/asem/GP/env/icenode-dev/lib/python3.11/site-packages (from matplotlib!=3.6.1,>=3.4->seaborn) (23.2)\n",
      "Requirement already satisfied: pillow>=6.2.0 in /home/asem/GP/env/icenode-dev/lib/python3.11/site-packages (from matplotlib!=3.6.1,>=3.4->seaborn) (10.3.0)\n",
      "Requirement already satisfied: pyparsing>=2.3.1 in /home/asem/GP/env/icenode-dev/lib/python3.11/site-packages (from matplotlib!=3.6.1,>=3.4->seaborn) (3.0.9)\n",
      "Requirement already satisfied: python-dateutil>=2.7 in /home/asem/GP/env/icenode-dev/lib/python3.11/site-packages (from matplotlib!=3.6.1,>=3.4->seaborn) (2.8.2)\n",
      "Requirement already satisfied: pytz>=2020.1 in /home/asem/GP/env/icenode-dev/lib/python3.11/site-packages (from pandas>=1.2->seaborn) (2024.1)\n",
      "Requirement already satisfied: tzdata>=2022.1 in /home/asem/GP/env/icenode-dev/lib/python3.11/site-packages (from pandas>=1.2->seaborn) (2024.1)\n",
      "Requirement already satisfied: six>=1.5 in /home/asem/GP/env/icenode-dev/lib/python3.11/site-packages (from python-dateutil>=2.7->matplotlib!=3.6.1,>=3.4->seaborn) (1.16.0)\n",
      "Using cached seaborn-0.13.2-py3-none-any.whl (294 kB)\n",
      "Installing collected packages: seaborn\n",
      "Successfully installed seaborn-0.13.2\n"
     ]
    }
   ],
   "source": [
    "!pip install seaborn"
   ]
  },
  {
   "cell_type": "code",
   "execution_count": null,
   "id": "f23c9f3d-0c32-4779-8a9d-94518232b6c2",
   "metadata": {},
   "outputs": [],
   "source": []
  }
 ],
 "metadata": {
  "kernelspec": {
   "display_name": "Python 3 (ipykernel)",
   "language": "python",
   "name": "python3"
  },
  "language_info": {
   "codemirror_mode": {
    "name": "ipython",
    "version": 3
   },
   "file_extension": ".py",
   "mimetype": "text/x-python",
   "name": "python",
   "nbconvert_exporter": "python",
   "pygments_lexer": "ipython3",
   "version": "3.11.8"
  }
 },
 "nbformat": 4,
 "nbformat_minor": 5
}
