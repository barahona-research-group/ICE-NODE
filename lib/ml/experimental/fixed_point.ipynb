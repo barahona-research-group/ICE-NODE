{
 "cells": [
  {
   "cell_type": "code",
   "execution_count": 1,
   "id": "40fab8b3-6a2f-4556-ad22-e53d593fd8ea",
   "metadata": {},
   "source": [
    "import jax\n",
    "import equinox as eqx\n",
    "import jax.numpy as jnp\n",
    "import jax.random as jrandom\n",
    "import optimistix as optx\n",
    "import optax\n",
    "\n",
    "jax.config.update('jax_enable_x64', True)"
   ],
   "outputs": []
  },
  {
   "cell_type": "code",
   "execution_count": 2,
   "id": "bcc5c27c-5286-4bac-a384-7e12e54a23d5",
   "metadata": {},
   "source": [
    "# !pip install --upgrade optax"
   ],
   "outputs": []
  },
  {
   "cell_type": "code",
   "execution_count": 3,
   "id": "9d10908d-1a26-4a5f-abcb-26b8b2a5c3fe",
   "metadata": {},
   "source": [
    "key = jrandom.PRNGKey(0)\n",
    "IN = 10\n",
    "OUT = 50\n",
    "\n",
    "mlp = eqx.nn.MLP(IN, OUT, depth=3, width_size=OUT, key=key)\n",
    "\n"
   ],
   "outputs": []
  },
  {
   "cell_type": "code",
   "execution_count": 4,
   "id": "547cdd40-a807-41c5-8525-a2dea4517b6b",
   "metadata": {},
   "source": [
    "?optx.fixed_point"
   ],
   "outputs": []
  },
  {
   "cell_type": "code",
   "execution_count": 5,
   "id": "96b4b5bb-a9d5-49fc-8c79-04151806946a",
   "metadata": {},
   "source": [
    "import pandas as pd\n",
    "from datetime import datetime \n",
    "from tqdm import tqdm\n",
    "\n",
    "@eqx.filter_jit\n",
    "def reconstruction_loss(z, mlp_mask_x):  # contractive map\n",
    "    mlp, mask, x = mlp_mask_x\n",
    "    x_hat = mlp(z)\n",
    "    loss = jnp.sqrt(jnp.nanmean((x - x_hat)**2, where=mask))\n",
    "    return loss, loss\n",
    "\n",
    "solver = {\n",
    "    'cg': optx.BestSoFarMinimiser(optx.NonlinearCG(rtol=1e-8, atol=1e-8)),\n",
    "    # 'optax': optx.BestSoFarMinimiser(optx.OptaxMinimiser(optim=optax.adam(1e-3), rtol=1e-8, atol=1e-8)),\n",
    "    'BFGS': optx.BestSoFarMinimiser(optx.BFGS(rtol=1e-8, atol=1e-8))\n",
    "}\n",
    "\n",
    "@eqx.filter_jit\n",
    "def solve(solver, z_init, args):\n",
    "    return optx.minimise(reconstruction_loss, solver=solver, y0=z_init, args=args, throw=True,\n",
    "                             has_aux=True,\n",
    "                             max_steps=None)\n",
    "\n",
    "df = []\n",
    "for i in tqdm(range(100)):\n",
    "    key, _ = jrandom.split(key, 2)\n",
    "    z_init = jrandom.normal(key, shape=(IN, ))\n",
    "    mask = jrandom.bernoulli(key, shape=(OUT, ))\n",
    "    x = jrandom.normal(key, shape=(OUT, ))\n",
    "    init_loss = reconstruction_loss(z_init, (mlp, mask, x))[0]    \n",
    "    for solver_k, solver_v in solver.items():\n",
    "        \n",
    "        timenow = datetime.now()\n",
    "        solution = solve(solver_v, z_init, (mlp, mask, x))\n",
    "        eval_time = (datetime.now() - timenow).total_seconds()\n",
    "        loss_reduction = init_loss - solution.aux\n",
    "\n",
    "        df.append((i, solver_k, eval_time, loss_reduction.item()))\n",
    "    \n",
    "    # print(solution.value)\n",
    "    # print(solution.stats)\n"
   ],
   "outputs": []
  },
  {
   "cell_type": "code",
   "execution_count": 6,
   "id": "46c44a0b-43c9-4375-b262-7075a70e05dc",
   "metadata": {},
   "source": [
    "df = pd.DataFrame(df, columns=['iteration', 'solver', 'duration', 'reduction'])"
   ],
   "outputs": []
  },
  {
   "cell_type": "code",
   "execution_count": 16,
   "id": "db0ba0fd-552d-42ea-b572-72d2a735fe4c",
   "metadata": {},
   "source": [
    "df = df.astype({'reduction': float})"
   ],
   "outputs": []
  },
  {
   "cell_type": "code",
   "execution_count": 18,
   "id": "6a61a767-d74d-49be-b922-3c8bb53f34ec",
   "metadata": {},
   "source": [
    "import seaborn as sns\n",
    "sns.displot(data=df, x=\"duration\", y=\"reduction\", \n",
    "            hue=\"solver\", kind=\"kde\")\n"
   ],
   "outputs": []
  },
  {
   "cell_type": "code",
   "execution_count": 9,
   "id": "89a4be8c-6531-4cf9-943b-e3d780775fe9",
   "metadata": {},
   "source": [
    "!pip install seaborn"
   ],
   "outputs": []
  },
  {
   "cell_type": "code",
   "execution_count": null,
   "id": "f23c9f3d-0c32-4779-8a9d-94518232b6c2",
   "metadata": {},
   "source": [],
   "outputs": []
  }
 ],
 "metadata": {
  "kernelspec": {
   "display_name": "Python 3 (ipykernel)",
   "language": "python",
   "name": "python3"
  },
  "language_info": {
   "codemirror_mode": {
    "name": "ipython",
    "version": 3
   },
   "file_extension": ".py",
   "mimetype": "text/x-python",
   "name": "python",
   "nbconvert_exporter": "python",
   "pygments_lexer": "ipython3",
   "version": "3.11.8"
  }
 },
 "nbformat": 4,
 "nbformat_minor": 5
}
