{
 "cells": [
  {
   "cell_type": "code",
   "execution_count": 1,
   "id": "40fab8b3-6a2f-4556-ad22-e53d593fd8ea",
   "metadata": {},
   "outputs": [],
   "source": [
    "import jax\n",
    "import equinox as eqx\n",
    "import jax.numpy as jnp\n",
    "import jax.random as jrandom\n",
    "import optimistix as optx\n",
    "import optax\n",
    "\n",
    "jax.config.update('jax_enable_x64', True)"
   ]
  },
  {
   "cell_type": "code",
   "execution_count": 2,
   "id": "bcc5c27c-5286-4bac-a384-7e12e54a23d5",
   "metadata": {},
   "outputs": [],
   "source": [
    "# !pip install --upgrade optax"
   ]
  },
  {
   "cell_type": "code",
   "execution_count": 3,
   "id": "9d10908d-1a26-4a5f-abcb-26b8b2a5c3fe",
   "metadata": {},
   "outputs": [
    {
     "name": "stderr",
     "output_type": "stream",
     "text": [
      "2024-05-16 13:10:00.383955: W external/xla/xla/service/gpu/nvptx_compiler.cc:718] The NVIDIA driver's CUDA version is 12.2 which is older than the ptxas CUDA version (12.4.131). Because the driver is older than the ptxas version, XLA is disabling parallel compilation, which may slow down compilation. You should update your NVIDIA driver or use the NVIDIA-provided CUDA forward compatibility packages.\n"
     ]
    }
   ],
   "source": [
    "key = jrandom.PRNGKey(0)\n",
    "IN = 10\n",
    "OUT = 50\n",
    "\n",
    "mlp = eqx.nn.MLP(IN, OUT, depth=3, width_size=OUT, key=key)\n",
    "\n"
   ]
  },
  {
   "cell_type": "code",
   "execution_count": 4,
   "id": "547cdd40-a807-41c5-8525-a2dea4517b6b",
   "metadata": {},
   "outputs": [
    {
     "data": {
      "text/plain": [
       "\u001b[0;31mSignature:\u001b[0m      \n",
       "\u001b[0moptx\u001b[0m\u001b[0;34m.\u001b[0m\u001b[0mfixed_point\u001b[0m\u001b[0;34m(\u001b[0m\u001b[0;34m\u001b[0m\n",
       "\u001b[0;34m\u001b[0m    \u001b[0mfn\u001b[0m\u001b[0;34m:\u001b[0m \u001b[0mUnion\u001b[0m\u001b[0;34m[\u001b[0m\u001b[0mcollections\u001b[0m\u001b[0;34m.\u001b[0m\u001b[0mabc\u001b[0m\u001b[0;34m.\u001b[0m\u001b[0mCallable\u001b[0m\u001b[0;34m[\u001b[0m\u001b[0;34m[\u001b[0m\u001b[0;34m~\u001b[0m\u001b[0mY\u001b[0m\u001b[0;34m,\u001b[0m \u001b[0mAny\u001b[0m\u001b[0;34m]\u001b[0m\u001b[0;34m,\u001b[0m \u001b[0mtuple\u001b[0m\u001b[0;34m[\u001b[0m\u001b[0;34m~\u001b[0m\u001b[0mY\u001b[0m\u001b[0;34m,\u001b[0m \u001b[0;34m~\u001b[0m\u001b[0mAux\u001b[0m\u001b[0;34m]\u001b[0m\u001b[0;34m]\u001b[0m\u001b[0;34m,\u001b[0m \u001b[0mcollections\u001b[0m\u001b[0;34m.\u001b[0m\u001b[0mabc\u001b[0m\u001b[0;34m.\u001b[0m\u001b[0mCallable\u001b[0m\u001b[0;34m[\u001b[0m\u001b[0;34m[\u001b[0m\u001b[0;34m~\u001b[0m\u001b[0mY\u001b[0m\u001b[0;34m,\u001b[0m \u001b[0mAny\u001b[0m\u001b[0;34m]\u001b[0m\u001b[0;34m,\u001b[0m \u001b[0;34m~\u001b[0m\u001b[0mY\u001b[0m\u001b[0;34m]\u001b[0m\u001b[0;34m]\u001b[0m\u001b[0;34m,\u001b[0m\u001b[0;34m\u001b[0m\n",
       "\u001b[0;34m\u001b[0m    \u001b[0msolver\u001b[0m\u001b[0;34m:\u001b[0m \u001b[0mUnion\u001b[0m\u001b[0;34m[\u001b[0m\u001b[0moptimistix\u001b[0m\u001b[0;34m.\u001b[0m\u001b[0m_fixed_point\u001b[0m\u001b[0;34m.\u001b[0m\u001b[0mAbstractFixedPointSolver\u001b[0m\u001b[0;34m,\u001b[0m \u001b[0moptimistix\u001b[0m\u001b[0;34m.\u001b[0m\u001b[0m_root_find\u001b[0m\u001b[0;34m.\u001b[0m\u001b[0mAbstractRootFinder\u001b[0m\u001b[0;34m,\u001b[0m \u001b[0moptimistix\u001b[0m\u001b[0;34m.\u001b[0m\u001b[0m_least_squares\u001b[0m\u001b[0;34m.\u001b[0m\u001b[0mAbstractLeastSquaresSolver\u001b[0m\u001b[0;34m,\u001b[0m \u001b[0moptimistix\u001b[0m\u001b[0;34m.\u001b[0m\u001b[0m_minimise\u001b[0m\u001b[0;34m.\u001b[0m\u001b[0mAbstractMinimiser\u001b[0m\u001b[0;34m]\u001b[0m\u001b[0;34m,\u001b[0m\u001b[0;34m\u001b[0m\n",
       "\u001b[0;34m\u001b[0m    \u001b[0my0\u001b[0m\u001b[0;34m:\u001b[0m \u001b[0;34m~\u001b[0m\u001b[0mY\u001b[0m\u001b[0;34m,\u001b[0m\u001b[0;34m\u001b[0m\n",
       "\u001b[0;34m\u001b[0m    \u001b[0margs\u001b[0m\u001b[0;34m:\u001b[0m \u001b[0mjaxtyping\u001b[0m\u001b[0;34m.\u001b[0m\u001b[0mPyTree\u001b[0m\u001b[0;34m[\u001b[0m\u001b[0mtyping\u001b[0m\u001b[0;34m.\u001b[0m\u001b[0mAny\u001b[0m\u001b[0;34m]\u001b[0m \u001b[0;34m=\u001b[0m \u001b[0;32mNone\u001b[0m\u001b[0;34m,\u001b[0m\u001b[0;34m\u001b[0m\n",
       "\u001b[0;34m\u001b[0m    \u001b[0moptions\u001b[0m\u001b[0;34m:\u001b[0m \u001b[0mOptional\u001b[0m\u001b[0;34m[\u001b[0m\u001b[0mdict\u001b[0m\u001b[0;34m[\u001b[0m\u001b[0mstr\u001b[0m\u001b[0;34m,\u001b[0m \u001b[0mAny\u001b[0m\u001b[0;34m]\u001b[0m\u001b[0;34m]\u001b[0m \u001b[0;34m=\u001b[0m \u001b[0;32mNone\u001b[0m\u001b[0;34m,\u001b[0m\u001b[0;34m\u001b[0m\n",
       "\u001b[0;34m\u001b[0m    \u001b[0;34m*\u001b[0m\u001b[0;34m,\u001b[0m\u001b[0;34m\u001b[0m\n",
       "\u001b[0;34m\u001b[0m    \u001b[0mhas_aux\u001b[0m\u001b[0;34m:\u001b[0m \u001b[0mbool\u001b[0m \u001b[0;34m=\u001b[0m \u001b[0;32mFalse\u001b[0m\u001b[0;34m,\u001b[0m\u001b[0;34m\u001b[0m\n",
       "\u001b[0;34m\u001b[0m    \u001b[0mmax_steps\u001b[0m\u001b[0;34m:\u001b[0m \u001b[0mOptional\u001b[0m\u001b[0;34m[\u001b[0m\u001b[0mint\u001b[0m\u001b[0;34m]\u001b[0m \u001b[0;34m=\u001b[0m \u001b[0;36m256\u001b[0m\u001b[0;34m,\u001b[0m\u001b[0;34m\u001b[0m\n",
       "\u001b[0;34m\u001b[0m    \u001b[0madjoint\u001b[0m\u001b[0;34m:\u001b[0m \u001b[0moptimistix\u001b[0m\u001b[0;34m.\u001b[0m\u001b[0m_adjoint\u001b[0m\u001b[0;34m.\u001b[0m\u001b[0mAbstractAdjoint\u001b[0m \u001b[0;34m=\u001b[0m \u001b[0mImplicitAdjoint\u001b[0m\u001b[0;34m(\u001b[0m\u001b[0mlinear_solver\u001b[0m\u001b[0;34m=\u001b[0m\u001b[0mAutoLinearSolver\u001b[0m\u001b[0;34m(\u001b[0m\u001b[0mwell_posed\u001b[0m\u001b[0;34m=\u001b[0m\u001b[0;32mNone\u001b[0m\u001b[0;34m)\u001b[0m\u001b[0;34m)\u001b[0m\u001b[0;34m,\u001b[0m\u001b[0;34m\u001b[0m\n",
       "\u001b[0;34m\u001b[0m    \u001b[0mthrow\u001b[0m\u001b[0;34m:\u001b[0m \u001b[0mbool\u001b[0m \u001b[0;34m=\u001b[0m \u001b[0;32mTrue\u001b[0m\u001b[0;34m,\u001b[0m\u001b[0;34m\u001b[0m\n",
       "\u001b[0;34m\u001b[0m    \u001b[0mtags\u001b[0m\u001b[0;34m:\u001b[0m \u001b[0mfrozenset\u001b[0m\u001b[0;34m[\u001b[0m\u001b[0mobject\u001b[0m\u001b[0;34m]\u001b[0m \u001b[0;34m=\u001b[0m \u001b[0mfrozenset\u001b[0m\u001b[0;34m(\u001b[0m\u001b[0;34m)\u001b[0m\u001b[0;34m,\u001b[0m\u001b[0;34m\u001b[0m\n",
       "\u001b[0;34m\u001b[0m\u001b[0;34m)\u001b[0m \u001b[0;34m->\u001b[0m \u001b[0moptimistix\u001b[0m\u001b[0;34m.\u001b[0m\u001b[0m_solution\u001b[0m\u001b[0;34m.\u001b[0m\u001b[0mSolution\u001b[0m\u001b[0;34m[\u001b[0m\u001b[0;34m~\u001b[0m\u001b[0mY\u001b[0m\u001b[0;34m,\u001b[0m \u001b[0;34m~\u001b[0m\u001b[0mAux\u001b[0m\u001b[0;34m]\u001b[0m\u001b[0;34m\u001b[0m\u001b[0;34m\u001b[0m\u001b[0m\n",
       "\u001b[0;31mCall signature:\u001b[0m  \u001b[0moptx\u001b[0m\u001b[0;34m.\u001b[0m\u001b[0mfixed_point\u001b[0m\u001b[0;34m(\u001b[0m\u001b[0;34m*\u001b[0m\u001b[0margs\u001b[0m\u001b[0;34m,\u001b[0m \u001b[0;34m**\u001b[0m\u001b[0mkwargs\u001b[0m\u001b[0;34m)\u001b[0m\u001b[0;34m\u001b[0m\u001b[0;34m\u001b[0m\u001b[0m\n",
       "\u001b[0;31mType:\u001b[0m            _JitWrapper\n",
       "\u001b[0;31mString form:\u001b[0m    \n",
       "_JitWrapper(\n",
       "  fn='fixed_point',\n",
       "  filter_warning=False,\n",
       "  donate_first=False,\n",
       "  donate_rest=False\n",
       ")\n",
       "\u001b[0;31mFile:\u001b[0m            ~/GP/env/icenode-dev/lib/python3.11/site-packages/optimistix/_fixed_point.py\n",
       "\u001b[0;31mDocstring:\u001b[0m      \n",
       "Find a fixed-point of a function.\n",
       "\n",
       "Given a nonlinear function `fn(y, args)` which returns a pytree of arrays of the\n",
       "same shape as `y`, this returns the value `z` such that `fn(z, args) = z`.\n",
       "\n",
       "**Arguments:**\n",
       "\n",
       "- `fn`: The function to find the fixed-point of. This should take two arguments\n",
       "    `fn(y, args)`, and return a pytree of arrays of the same shape as the input `y`.\n",
       "- `solver`: The root-finder to use. This can be either an\n",
       "    [`optimistix.AbstractFixedPointSolver`][] or\n",
       "    [`optimistix.AbstractRootFinder`][], or\n",
       "    [`optimistix.AbstractLeastSquaresSolver`][], or\n",
       "    [`optimistix.AbstractMinimiser`][]. If `solver` is a root-finder then it will\n",
       "    will attempt to find the root of `fn(y, args) - y`. If `solver` is a\n",
       "    least-squares or minimisation algorithm, then it will attempt to minimise\n",
       "    `sum((fn(y, args) - y)^2)`.\n",
       "- `y0`: An initial guess for what `y` may be. Used to start the iterative process of\n",
       "    finding the fixed point; using good initial guesses is often important.\n",
       "- `args`: Passed as the `args` of `fn(y, args)`.\n",
       "- `options`: Individual solvers may accept additional runtime arguments.\n",
       "    See each individual solver's documentation for more details.\n",
       "- `has_aux`: If `True`, then `fn` may return a pair, where the first element is its\n",
       "    function value, and the second is just auxiliary data. Keyword only argument.\n",
       "- `max_steps`: The maximum number of steps the solver can take. Keyword only\n",
       "    argument.\n",
       "- `adjoint`: The adjoint method used to compute gradients through the fixed-point\n",
       "    solve. Keyword only argument.\n",
       "- `throw`: How to report any failures. (E.g. an iterative solver running out of\n",
       "    steps, or encountering divergent iterates.) If `True` then a failure will raise\n",
       "    an error. If `False` then the returned solution object will have a `result`\n",
       "    field indicating whether any failures occured. (See [`optimistix.Solution`][].)\n",
       "    Keyword only argument.\n",
       "- `tags`: Lineax [tags](https://docs.kidger.site/lineax/api/tags/) describing the\n",
       "    any structure of the Jacobian of `y -> fn(y, args) - y` with respect to y. (That\n",
       "    is, the structure of the matrix `dfn/dy - I`.) Used with\n",
       "    [`optimistix.ImplicitAdjoint`][] to implement the implicit function theorem as\n",
       "    efficiently as possible. Keyword only argument.\n",
       "\n",
       "**Returns:**\n",
       "\n",
       "An [`optimistix.Solution`][] object.\n",
       "\u001b[0;31mClass docstring:\u001b[0m _JitWrapper(fn: str, _signature: inspect.Signature, _dynamic_fun: jaxtyping.PyTree, _static_fun: Any, _cached: Any, filter_warning: bool, donate_first: bool, donate_rest: bool)"
      ]
     },
     "metadata": {},
     "output_type": "display_data"
    }
   ],
   "source": [
    "?optx.fixed_point"
   ]
  },
  {
   "cell_type": "code",
   "execution_count": 5,
   "id": "96b4b5bb-a9d5-49fc-8c79-04151806946a",
   "metadata": {},
   "outputs": [
    {
     "name": "stderr",
     "output_type": "stream",
     "text": [
      "100%|███████████████████████████████████████████████████████████████████████████████████████████| 100/100 [01:42<00:00,  1.02s/it]\n"
     ]
    }
   ],
   "source": [
    "import pandas as pd\n",
    "from datetime import datetime \n",
    "from tqdm import tqdm\n",
    "\n",
    "@eqx.filter_jit\n",
    "def reconstruction_loss(z, mlp_mask_x):  # contractive map\n",
    "    mlp, mask, x = mlp_mask_x\n",
    "    x_hat = mlp(z)\n",
    "    loss = jnp.sqrt(jnp.nanmean((x - x_hat)**2, where=mask))\n",
    "    return loss, loss\n",
    "\n",
    "solver = {\n",
    "    'cg': optx.BestSoFarMinimiser(optx.NonlinearCG(rtol=1e-8, atol=1e-8)),\n",
    "    # 'optax': optx.BestSoFarMinimiser(optx.OptaxMinimiser(optim=optax.adam(1e-3), rtol=1e-8, atol=1e-8)),\n",
    "    'BFGS': optx.BestSoFarMinimiser(optx.BFGS(rtol=1e-8, atol=1e-8))\n",
    "}\n",
    "\n",
    "@eqx.filter_jit\n",
    "def solve(solver, z_init, args):\n",
    "    return optx.minimise(reconstruction_loss, solver=solver, y0=z_init, args=args, throw=True,\n",
    "                             has_aux=True,\n",
    "                             max_steps=None)\n",
    "\n",
    "df = []\n",
    "for i in tqdm(range(100)):\n",
    "    key, _ = jrandom.split(key, 2)\n",
    "    z_init = jrandom.normal(key, shape=(IN, ))\n",
    "    mask = jrandom.bernoulli(key, shape=(OUT, ))\n",
    "    x = jrandom.normal(key, shape=(OUT, ))\n",
    "    init_loss = reconstruction_loss(z_init, (mlp, mask, x))[0]    \n",
    "    for solver_k, solver_v in solver.items():\n",
    "        \n",
    "        timenow = datetime.now()\n",
    "        solution = solve(solver_v, z_init, (mlp, mask, x))\n",
    "        eval_time = (datetime.now() - timenow).total_seconds()\n",
    "        loss_reduction = init_loss - solution.aux\n",
    "\n",
    "        df.append((i, solver_k, eval_time, loss_reduction.item()))\n",
    "    \n",
    "    # print(solution.value)\n",
    "    # print(solution.stats)\n"
   ]
  },
  {
   "cell_type": "code",
   "execution_count": 6,
   "id": "46c44a0b-43c9-4375-b262-7075a70e05dc",
   "metadata": {},
   "outputs": [],
   "source": [
    "df = pd.DataFrame(df, columns=['iteration', 'solver', 'duration', 'reduction'])"
   ]
  },
  {
   "cell_type": "code",
   "execution_count": 16,
   "id": "db0ba0fd-552d-42ea-b572-72d2a735fe4c",
   "metadata": {},
   "outputs": [],
   "source": [
    "df = df.astype({'reduction': float})"
   ]
  },
  {
   "cell_type": "code",
   "execution_count": 18,
   "id": "6a61a767-d74d-49be-b922-3c8bb53f34ec",
   "metadata": {},
   "outputs": [
    {
     "data": {
      "text/plain": [
       "<seaborn.axisgrid.FacetGrid at 0x76a4d5296150>"
      ]
     },
     "execution_count": 18,
     "metadata": {},
     "output_type": "execute_result"
    },
    {
     "data": {
      "image/png": "[encoded data removed]",
      "text/plain": [
       "<Figure size 587.125x500 with 1 Axes>"
      ]
     },
     "metadata": {},
     "output_type": "display_data"
    }
   ],
   "source": [
    "import seaborn as sns\n",
    "sns.displot(data=df, x=\"duration\", y=\"reduction\", \n",
    "            hue=\"solver\", kind=\"kde\")\n"
   ]
  },
  {
   "cell_type": "code",
   "execution_count": 9,
   "id": "89a4be8c-6531-4cf9-943b-e3d780775fe9",
   "metadata": {},
   "outputs": [
    {
     "name": "stderr",
     "output_type": "stream",
     "text": [
      "/home/asem/GP/env/icenode-dev/lib/python3.11/pty.py:89: RuntimeWarning: os.fork() was called. os.fork() is incompatible with multithreaded code, and JAX is multithreaded, so this will likely lead to a deadlock.\n",
      "  pid, fd = os.forkpty()\n"
     ]
    },
    {
     "name": "stdout",
     "output_type": "stream",
     "text": [
      "Collecting seaborn\n",
      "  Using cached seaborn-0.13.2-py3-none-any.whl.metadata (5.4 kB)\n",
      "Requirement already satisfied: numpy!=1.24.0,>=1.20 in /home/asem/GP/env/icenode-dev/lib/python3.11/site-packages (from seaborn) (1.26.4)\n",
      "Requirement already satisfied: pandas>=1.2 in /home/asem/GP/env/icenode-dev/lib/python3.11/site-packages (from seaborn) (2.1.4)\n",
      "Requirement already satisfied: matplotlib!=3.6.1,>=3.4 in /home/asem/GP/env/icenode-dev/lib/python3.11/site-packages (from seaborn) (3.8.0)\n",
      "Requirement already satisfied: contourpy>=1.0.1 in /home/asem/GP/env/icenode-dev/lib/python3.11/site-packages (from matplotlib!=3.6.1,>=3.4->seaborn) (1.2.0)\n",
      "Requirement already satisfied: cycler>=0.10 in /home/asem/GP/env/icenode-dev/lib/python3.11/site-packages (from matplotlib!=3.6.1,>=3.4->seaborn) (0.11.0)\n",
      "Requirement already satisfied: fonttools>=4.22.0 in /home/asem/GP/env/icenode-dev/lib/python3.11/site-packages (from matplotlib!=3.6.1,>=3.4->seaborn) (4.25.0)\n",
      "Requirement already satisfied: kiwisolver>=1.0.1 in /home/asem/GP/env/icenode-dev/lib/python3.11/site-packages (from matplotlib!=3.6.1,>=3.4->seaborn) (1.4.4)\n",
      "Requirement already satisfied: packaging>=20.0 in /home/asem/GP/env/icenode-dev/lib/python3.11/site-packages (from matplotlib!=3.6.1,>=3.4->seaborn) (23.2)\n",
      "Requirement already satisfied: pillow>=6.2.0 in /home/asem/GP/env/icenode-dev/lib/python3.11/site-packages (from matplotlib!=3.6.1,>=3.4->seaborn) (10.3.0)\n",
      "Requirement already satisfied: pyparsing>=2.3.1 in /home/asem/GP/env/icenode-dev/lib/python3.11/site-packages (from matplotlib!=3.6.1,>=3.4->seaborn) (3.0.9)\n",
      "Requirement already satisfied: python-dateutil>=2.7 in /home/asem/GP/env/icenode-dev/lib/python3.11/site-packages (from matplotlib!=3.6.1,>=3.4->seaborn) (2.8.2)\n",
      "Requirement already satisfied: pytz>=2020.1 in /home/asem/GP/env/icenode-dev/lib/python3.11/site-packages (from pandas>=1.2->seaborn) (2024.1)\n",
      "Requirement already satisfied: tzdata>=2022.1 in /home/asem/GP/env/icenode-dev/lib/python3.11/site-packages (from pandas>=1.2->seaborn) (2024.1)\n",
      "Requirement already satisfied: six>=1.5 in /home/asem/GP/env/icenode-dev/lib/python3.11/site-packages (from python-dateutil>=2.7->matplotlib!=3.6.1,>=3.4->seaborn) (1.16.0)\n",
      "Using cached seaborn-0.13.2-py3-none-any.whl (294 kB)\n",
      "Installing collected packages: seaborn\n",
      "Successfully installed seaborn-0.13.2\n"
     ]
    }
   ],
   "source": [
    "!pip install seaborn"
   ]
  },
  {
   "cell_type": "code",
   "execution_count": null,
   "id": "f23c9f3d-0c32-4779-8a9d-94518232b6c2",
   "metadata": {},
   "outputs": [],
   "source": []
  }
 ],
 "metadata": {
  "kernelspec": {
   "display_name": "Python 3 (ipykernel)",
   "language": "python",
   "name": "python3"
  },
  "language_info": {
   "codemirror_mode": {
    "name": "ipython",
    "version": 3
   },
   "file_extension": ".py",
   "mimetype": "text/x-python",
   "name": "python",
   "nbconvert_exporter": "python",
   "pygments_lexer": "ipython3",
   "version": "3.11.8"
  }
 },
 "nbformat": 4,
 "nbformat_minor": 5
}
