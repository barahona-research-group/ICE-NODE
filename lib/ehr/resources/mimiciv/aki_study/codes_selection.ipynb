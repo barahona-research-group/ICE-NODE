{
 "cells": [
  {
   "cell_type": "code",
   "execution_count": 1,
   "id": "initial_id",
   "metadata": {
    "collapsed": true,
    "ExecuteTime": {
     "end_time": "2024-02-22T20:11:11.105445694Z",
     "start_time": "2024-02-22T20:11:07.136699528Z"
    }
   },
   "outputs": [],
   "source": [
    "%load_ext autoreload\n",
    "%autoreload 2\n",
    "\n",
    "import sys\n",
    "from collections import OrderedDict\n",
    "\n",
    "import matplotlib.pyplot as plt\n",
    "import numpy as np\n",
    "import pandas as pd\n",
    "\n",
    "sys.path.append(\"../../../..\")\n",
    "\n",
    "import lib.utils as u\n",
    "import lib.ehr.example_datasets.mimiciv as m4\n",
    "import lib.ehr.example_datasets.mimiciv_aki as m4_aki"
   ]
  },
  {
   "cell_type": "code",
   "outputs": [],
   "source": [
    "# create a database connection\n",
    "sqluser = 'postgres'\n",
    "dbname = 'mimiciv'\n",
    "hostname = 'localhost'\n",
    "password = 'qwerasdf'\n",
    "port = '5432'\n",
    "\n",
    "mimiciv_tables_config = m4.MIMICIVSQLTablesConfig(host=hostname, port=port, user=sqluser, password=password, dbname=dbname)\n",
    "mimiciv_sql = m4.MIMICIVSQLTablesInterface(config=mimiciv_tables_config)\n",
    "mimiciv_engine = mimiciv_sql.create_engine()"
   ],
   "metadata": {
    "collapsed": false,
    "ExecuteTime": {
     "end_time": "2024-02-22T20:11:18.998711125Z",
     "start_time": "2024-02-22T20:11:18.921927661Z"
    }
   },
   "id": "f694e13b2160c190",
   "execution_count": 2
  },
  {
   "cell_type": "code",
   "outputs": [],
   "source": [
    "conf = m4_aki.AKIMIMICIVDatasetConfig(\n",
    "    tables=mimiciv_tables_config\n",
    ")"
   ],
   "metadata": {
    "collapsed": false,
    "ExecuteTime": {
     "end_time": "2024-02-22T20:11:23.490477689Z",
     "start_time": "2024-02-22T20:11:23.448295785Z"
    }
   },
   "id": "b53467c6092afe32",
   "execution_count": 3
  },
  {
   "cell_type": "code",
   "outputs": [
    {
     "data": {
      "text/plain": "AKIMIMICIVDatasetSchemeConfig(\n  ethnicity='mimiciv.aki_study.ethnicity',\n  gender='mimiciv.aki_study.gender',\n  dx_discharge='mimiciv.aki_study.dx_discharge',\n  obs='mimiciv.aki_study.obs',\n  icu_procedures='mimiciv.aki_study.icu_procedures',\n  hosp_procedures='mimiciv.aki_study.hosp_procedures',\n  icu_inputs='mimiciv.aki_study.icu_inputs',\n  outcome=None,\n  name_separator='.',\n  name_prefix='mimiciv.aki_study',\n  resources_dir='mimiciv/aki_study',\n  selection_subdir='selection',\n  map_subdir='map',\n  map_files=MIMICIVDatasetSchemeMapsFiles(\n    gender='gender.csv',\n    ethnicity='ethnicity.csv',\n    icu_inputs='icu_inputs.csv',\n    icu_procedures='icu_procedures.csv',\n    hosp_procedures='hosp_procedures.csv'\n  ),\n  selection_files=MIMICIVDatasetSchemeSelectionFiles(\n    gender='gender.csv',\n    ethnicity='ethnicity.csv',\n    icu_inputs='icu_inputs.csv',\n    icu_procedures='icu_procedures.csv',\n    hosp_procedures='hosp_procedures.csv',\n    obs='obs.csv',\n    dx_discharge='dx_discharge.csv'\n  ),\n  icu_inputs_uom_normalization=('uom_normalization', 'icu_inputs.csv'),\n  icu_inputs_aggregation_column='aggregation'\n)"
     },
     "execution_count": 4,
     "metadata": {},
     "output_type": "execute_result"
    }
   ],
   "source": [
    "conf.scheme"
   ],
   "metadata": {
    "collapsed": false,
    "ExecuteTime": {
     "end_time": "2024-02-22T18:47:55.894450725Z",
     "start_time": "2024-02-22T18:47:55.874858474Z"
    }
   },
   "id": "f57cf4d7e94ea524",
   "execution_count": 4
  },
  {
   "cell_type": "code",
   "outputs": [],
   "source": [
    "# hosp_selection = conf.scheme.hosp_procedures_selection\n",
    "# hosp_space = mimiciv_sql.supported_hosp_procedures\n",
    "# hosp_space = hosp_space.rename(columns={\"icd_code\": \"fixed_icd_code\"})\n",
    "# hosp_selection = hosp_selection.merge(hosp_space, on=[\"icd_version\", \"description\"], how=\"inner\")\n",
    "# hosp_selection[\"icd_code\"] = hosp_selection[\"fixed_icd_code\"]\n",
    "# hosp_selection = hosp_selection.drop(columns=[\"fixed_icd_code\"])\n",
    "# hosp_selection = hosp_selection.iloc[:, 1:]"
   ],
   "metadata": {
    "collapsed": false,
    "ExecuteTime": {
     "end_time": "2024-02-22T18:47:56.787690029Z",
     "start_time": "2024-02-22T18:47:56.769879222Z"
    }
   },
   "id": "d276c4622f55e1",
   "execution_count": 5
  },
  {
   "cell_type": "code",
   "outputs": [],
   "source": [
    "# hosp_selection.to_csv(\"selection/hosp_procedures.csv\")"
   ],
   "metadata": {
    "collapsed": false,
    "ExecuteTime": {
     "end_time": "2024-02-22T18:47:57.502754539Z",
     "start_time": "2024-02-22T18:47:57.488877110Z"
    }
   },
   "id": "1e682459b35ae93",
   "execution_count": 6
  },
  {
   "cell_type": "code",
   "outputs": [
    {
     "name": "stderr",
     "output_type": "stream",
     "text": [
      "/home/asem/GP/ICENODE/lib/ehr/example_datasets/mimiciv.py:557: PerformanceWarning: Adding/subtracting object-dtype array to DatetimeArray not vectorized.\n",
      "  df[self.config.date_of_birth_alias] = anchor_date + anchor_age\n"
     ]
    },
    {
     "ename": "KeyError",
     "evalue": "\"Only a column name can be used for the key in a dtype mappings argument. 'derived_unit_normalization_factor' not found in columns.\"",
     "output_type": "error",
     "traceback": [
      "\u001B[0;31m---------------------------------------------------------------------------\u001B[0m",
      "\u001B[0;31mKeyError\u001B[0m                                  Traceback (most recent call last)",
      "\u001B[0;32m/tmp/ipykernel_648082/3165528118.py\u001B[0m in \u001B[0;36m?\u001B[0;34m()\u001B[0m\n\u001B[0;32m----> 1\u001B[0;31m \u001B[0mm4_ds\u001B[0m \u001B[0;34m=\u001B[0m \u001B[0mm4_aki\u001B[0m\u001B[0;34m.\u001B[0m\u001B[0mAKIMIMICIVDataset\u001B[0m\u001B[0;34m(\u001B[0m\u001B[0mconf\u001B[0m\u001B[0;34m)\u001B[0m\u001B[0;34m\u001B[0m\u001B[0;34m\u001B[0m\u001B[0m\n\u001B[0m",
      "\u001B[0;32m~/GP/env/icenode-dev/lib/python3.10/site-packages/equinox/_module.py\u001B[0m in \u001B[0;36m?\u001B[0;34m(cls, *args, **kwargs)\u001B[0m\n\u001B[1;32m    183\u001B[0m     \u001B[0;32mdef\u001B[0m \u001B[0m__call__\u001B[0m\u001B[0;34m(\u001B[0m\u001B[0mcls\u001B[0m\u001B[0;34m,\u001B[0m \u001B[0;34m*\u001B[0m\u001B[0margs\u001B[0m\u001B[0;34m,\u001B[0m \u001B[0;34m**\u001B[0m\u001B[0mkwargs\u001B[0m\u001B[0;34m)\u001B[0m\u001B[0;34m:\u001B[0m\u001B[0;34m\u001B[0m\u001B[0;34m\u001B[0m\u001B[0m\n\u001B[1;32m    184\u001B[0m         \u001B[0;31m# Defreeze it during __init__\u001B[0m\u001B[0;34m\u001B[0m\u001B[0;34m\u001B[0m\u001B[0m\n\u001B[1;32m    185\u001B[0m         \u001B[0minitable_cls\u001B[0m \u001B[0;34m=\u001B[0m \u001B[0m_make_initable\u001B[0m\u001B[0;34m(\u001B[0m\u001B[0mcls\u001B[0m\u001B[0;34m,\u001B[0m \u001B[0mwraps\u001B[0m\u001B[0;34m=\u001B[0m\u001B[0;32mFalse\u001B[0m\u001B[0;34m)\u001B[0m\u001B[0;34m\u001B[0m\u001B[0;34m\u001B[0m\u001B[0m\n\u001B[0;32m--> 186\u001B[0;31m         \u001B[0mself\u001B[0m \u001B[0;34m=\u001B[0m \u001B[0msuper\u001B[0m\u001B[0;34m(\u001B[0m\u001B[0m_ModuleMeta\u001B[0m\u001B[0;34m,\u001B[0m \u001B[0minitable_cls\u001B[0m\u001B[0;34m)\u001B[0m\u001B[0;34m.\u001B[0m\u001B[0m__call__\u001B[0m\u001B[0;34m(\u001B[0m\u001B[0;34m*\u001B[0m\u001B[0margs\u001B[0m\u001B[0;34m,\u001B[0m \u001B[0;34m**\u001B[0m\u001B[0mkwargs\u001B[0m\u001B[0;34m)\u001B[0m\u001B[0;34m\u001B[0m\u001B[0;34m\u001B[0m\u001B[0m\n\u001B[0m\u001B[1;32m    187\u001B[0m         missing_names = {\n\u001B[1;32m    188\u001B[0m             \u001B[0mfield\u001B[0m\u001B[0;34m.\u001B[0m\u001B[0mname\u001B[0m\u001B[0;34m\u001B[0m\u001B[0;34m\u001B[0m\u001B[0m\n\u001B[1;32m    189\u001B[0m             \u001B[0;32mfor\u001B[0m \u001B[0mfield\u001B[0m \u001B[0;32min\u001B[0m \u001B[0mdataclasses\u001B[0m\u001B[0;34m.\u001B[0m\u001B[0mfields\u001B[0m\u001B[0;34m(\u001B[0m\u001B[0mcls\u001B[0m\u001B[0;34m)\u001B[0m  \u001B[0;31m# pyright: ignore\u001B[0m\u001B[0;34m\u001B[0m\u001B[0;34m\u001B[0m\u001B[0m\n",
      "\u001B[0;32m~/GP/env/icenode-dev/lib/python3.10/site-packages/equinox/_better_abstract.py\u001B[0m in \u001B[0;36m?\u001B[0;34m(cls, *args, **kwargs)\u001B[0m\n\u001B[1;32m    276\u001B[0m             raise TypeError(\n\u001B[1;32m    277\u001B[0m                 \u001B[0;34mf\"Can't instantiate abstract class {cls.__name__} with abstract class \"\u001B[0m\u001B[0;34m\u001B[0m\u001B[0;34m\u001B[0m\u001B[0m\n\u001B[1;32m    278\u001B[0m                 \u001B[0;34mf\"attributes {abstract_class_vars}\"\u001B[0m\u001B[0;34m\u001B[0m\u001B[0;34m\u001B[0m\u001B[0m\n\u001B[1;32m    279\u001B[0m             )\n\u001B[0;32m--> 280\u001B[0;31m         \u001B[0mself\u001B[0m \u001B[0;34m=\u001B[0m \u001B[0msuper\u001B[0m\u001B[0;34m(\u001B[0m\u001B[0;34m)\u001B[0m\u001B[0;34m.\u001B[0m\u001B[0m__call__\u001B[0m\u001B[0;34m(\u001B[0m\u001B[0;34m*\u001B[0m\u001B[0margs\u001B[0m\u001B[0;34m,\u001B[0m \u001B[0;34m**\u001B[0m\u001B[0mkwargs\u001B[0m\u001B[0;34m)\u001B[0m\u001B[0;34m\u001B[0m\u001B[0;34m\u001B[0m\u001B[0m\n\u001B[0m\u001B[1;32m    281\u001B[0m         \u001B[0mabstract_vars\u001B[0m \u001B[0;34m=\u001B[0m \u001B[0mset\u001B[0m\u001B[0;34m(\u001B[0m\u001B[0;34m)\u001B[0m\u001B[0;34m\u001B[0m\u001B[0;34m\u001B[0m\u001B[0m\n\u001B[1;32m    282\u001B[0m         \u001B[0;32mfor\u001B[0m \u001B[0mname\u001B[0m \u001B[0;32min\u001B[0m \u001B[0mcls\u001B[0m\u001B[0;34m.\u001B[0m\u001B[0m__abstractvars__\u001B[0m\u001B[0;34m:\u001B[0m  \u001B[0;31m# pyright: ignore\u001B[0m\u001B[0;34m\u001B[0m\u001B[0;34m\u001B[0m\u001B[0m\n\u001B[1;32m    283\u001B[0m             \u001B[0;31m# Deliberately not doing `if name in self.__dict__` to allow for use of\u001B[0m\u001B[0;34m\u001B[0m\u001B[0;34m\u001B[0m\u001B[0m\n",
      "\u001B[0;32m~/GP/ICENODE/lib/ehr/dataset.py\u001B[0m in \u001B[0;36m?\u001B[0;34m(self, config)\u001B[0m\n\u001B[1;32m    414\u001B[0m     \u001B[0;32mdef\u001B[0m \u001B[0m__init__\u001B[0m\u001B[0;34m(\u001B[0m\u001B[0mself\u001B[0m\u001B[0;34m,\u001B[0m \u001B[0mconfig\u001B[0m\u001B[0;34m:\u001B[0m \u001B[0mDatasetConfig\u001B[0m\u001B[0;34m)\u001B[0m\u001B[0;34m:\u001B[0m\u001B[0;34m\u001B[0m\u001B[0;34m\u001B[0m\u001B[0m\n\u001B[1;32m    415\u001B[0m         \u001B[0msuper\u001B[0m\u001B[0;34m(\u001B[0m\u001B[0;34m)\u001B[0m\u001B[0;34m.\u001B[0m\u001B[0m__init__\u001B[0m\u001B[0;34m(\u001B[0m\u001B[0mconfig\u001B[0m\u001B[0;34m=\u001B[0m\u001B[0mconfig\u001B[0m\u001B[0;34m)\u001B[0m\u001B[0;34m\u001B[0m\u001B[0;34m\u001B[0m\u001B[0m\n\u001B[1;32m    416\u001B[0m         \u001B[0mself\u001B[0m\u001B[0;34m.\u001B[0m\u001B[0mscheme\u001B[0m \u001B[0;34m=\u001B[0m \u001B[0mself\u001B[0m\u001B[0;34m.\u001B[0m\u001B[0mload_dataset_scheme\u001B[0m\u001B[0;34m(\u001B[0m\u001B[0mconfig\u001B[0m\u001B[0;34m)\u001B[0m\u001B[0;34m\u001B[0m\u001B[0;34m\u001B[0m\u001B[0m\n\u001B[1;32m    417\u001B[0m         \u001B[0mself\u001B[0m\u001B[0;34m.\u001B[0m\u001B[0mtables\u001B[0m \u001B[0;34m=\u001B[0m \u001B[0mself\u001B[0m\u001B[0;34m.\u001B[0m\u001B[0mload_tables\u001B[0m\u001B[0;34m(\u001B[0m\u001B[0mconfig\u001B[0m\u001B[0;34m,\u001B[0m \u001B[0mself\u001B[0m\u001B[0;34m.\u001B[0m\u001B[0mscheme\u001B[0m\u001B[0;34m)\u001B[0m\u001B[0;34m\u001B[0m\u001B[0;34m\u001B[0m\u001B[0m\n\u001B[0;32m--> 418\u001B[0;31m         \u001B[0mself\u001B[0m\u001B[0;34m.\u001B[0m\u001B[0mcore_pipeline\u001B[0m \u001B[0;34m=\u001B[0m \u001B[0mself\u001B[0m\u001B[0;34m.\u001B[0m\u001B[0m_setup_core_pipeline\u001B[0m\u001B[0;34m(\u001B[0m\u001B[0mconfig\u001B[0m\u001B[0;34m)\u001B[0m\u001B[0;34m\u001B[0m\u001B[0;34m\u001B[0m\u001B[0m\n\u001B[0m\u001B[1;32m    419\u001B[0m         \u001B[0mself\u001B[0m\u001B[0;34m.\u001B[0m\u001B[0mcore_pipeline_report\u001B[0m \u001B[0;34m=\u001B[0m \u001B[0mpd\u001B[0m\u001B[0;34m.\u001B[0m\u001B[0mDataFrame\u001B[0m\u001B[0;34m(\u001B[0m\u001B[0;34m)\u001B[0m\u001B[0;34m\u001B[0m\u001B[0;34m\u001B[0m\u001B[0m\n",
      "\u001B[0;32m~/GP/ICENODE/lib/ehr/example_datasets/mimiciv_aki.py\u001B[0m in \u001B[0;36m?\u001B[0;34m(cls, config)\u001B[0m\n\u001B[1;32m     21\u001B[0m     \u001B[0;34m@\u001B[0m\u001B[0mclassmethod\u001B[0m\u001B[0;34m\u001B[0m\u001B[0;34m\u001B[0m\u001B[0m\n\u001B[1;32m     22\u001B[0m     \u001B[0;32mdef\u001B[0m \u001B[0m_setup_core_pipeline\u001B[0m\u001B[0;34m(\u001B[0m\u001B[0mcls\u001B[0m\u001B[0;34m,\u001B[0m \u001B[0mconfig\u001B[0m\u001B[0;34m:\u001B[0m \u001B[0mAKIMIMICIVDatasetConfig\u001B[0m\u001B[0;34m)\u001B[0m \u001B[0;34m->\u001B[0m \u001B[0mAbstractDatasetPipeline\u001B[0m\u001B[0;34m:\u001B[0m\u001B[0;34m\u001B[0m\u001B[0;34m\u001B[0m\u001B[0m\n\u001B[1;32m     23\u001B[0m         \u001B[0mpconfig\u001B[0m \u001B[0;34m=\u001B[0m \u001B[0mconfig\u001B[0m\u001B[0;34m.\u001B[0m\u001B[0mpipeline\u001B[0m\u001B[0;34m\u001B[0m\u001B[0;34m\u001B[0m\u001B[0m\n\u001B[0;32m---> 24\u001B[0;31m         conversion_table = cls.icu_inputs_uom_normalization(config.tables.icu_inputs,\n\u001B[0m\u001B[1;32m     25\u001B[0m                                                             config.scheme.icu_inputs_uom_normalization_table)\n\u001B[1;32m     26\u001B[0m         pipeline = [\n\u001B[1;32m     27\u001B[0m             \u001B[0mSetIndex\u001B[0m\u001B[0;34m(\u001B[0m\u001B[0;34m)\u001B[0m\u001B[0;34m,\u001B[0m\u001B[0;34m\u001B[0m\u001B[0;34m\u001B[0m\u001B[0m\n",
      "\u001B[0;32m~/GP/ICENODE/lib/ehr/example_datasets/mimiciv.py\u001B[0m in \u001B[0;36m?\u001B[0;34m(icu_inputs_config, icu_inputs_uom_normalization_table)\u001B[0m\n\u001B[1;32m   1044\u001B[0m         \u001B[0mc_universal_uom\u001B[0m \u001B[0;34m=\u001B[0m \u001B[0micu_inputs_config\u001B[0m\u001B[0;34m.\u001B[0m\u001B[0mderived_universal_unit\u001B[0m\u001B[0;34m\u001B[0m\u001B[0;34m\u001B[0m\u001B[0m\n\u001B[1;32m   1045\u001B[0m         \u001B[0mc_code\u001B[0m \u001B[0;34m=\u001B[0m \u001B[0micu_inputs_config\u001B[0m\u001B[0;34m.\u001B[0m\u001B[0mcode_alias\u001B[0m\u001B[0;34m\u001B[0m\u001B[0;34m\u001B[0m\u001B[0m\n\u001B[1;32m   1046\u001B[0m         \u001B[0mc_unit\u001B[0m \u001B[0;34m=\u001B[0m \u001B[0micu_inputs_config\u001B[0m\u001B[0;34m.\u001B[0m\u001B[0mamount_unit_alias\u001B[0m\u001B[0;34m\u001B[0m\u001B[0;34m\u001B[0m\u001B[0m\n\u001B[1;32m   1047\u001B[0m         \u001B[0mc_normalization\u001B[0m \u001B[0;34m=\u001B[0m \u001B[0micu_inputs_config\u001B[0m\u001B[0;34m.\u001B[0m\u001B[0mderived_unit_normalization_factor\u001B[0m\u001B[0;34m\u001B[0m\u001B[0;34m\u001B[0m\u001B[0m\n\u001B[0;32m-> 1048\u001B[0;31m         \u001B[0mdf\u001B[0m \u001B[0;34m=\u001B[0m \u001B[0micu_inputs_uom_normalization_table\u001B[0m\u001B[0;34m.\u001B[0m\u001B[0mastype\u001B[0m\u001B[0;34m(\u001B[0m\u001B[0;34m{\u001B[0m\u001B[0mc_normalization\u001B[0m\u001B[0;34m:\u001B[0m \u001B[0mfloat\u001B[0m\u001B[0;34m}\u001B[0m\u001B[0;34m)\u001B[0m\u001B[0;34m\u001B[0m\u001B[0;34m\u001B[0m\u001B[0m\n\u001B[0m\u001B[1;32m   1049\u001B[0m \u001B[0;34m\u001B[0m\u001B[0m\n\u001B[1;32m   1050\u001B[0m         \u001B[0mcolumns\u001B[0m \u001B[0;34m=\u001B[0m \u001B[0;34m[\u001B[0m\u001B[0mc_code\u001B[0m\u001B[0;34m,\u001B[0m \u001B[0mc_unit\u001B[0m\u001B[0;34m,\u001B[0m \u001B[0mc_normalization\u001B[0m\u001B[0;34m]\u001B[0m\u001B[0;34m\u001B[0m\u001B[0;34m\u001B[0m\u001B[0m\n\u001B[1;32m   1051\u001B[0m         \u001B[0;32massert\u001B[0m \u001B[0mall\u001B[0m\u001B[0;34m(\u001B[0m\u001B[0mc\u001B[0m \u001B[0;32min\u001B[0m \u001B[0mdf\u001B[0m\u001B[0;34m.\u001B[0m\u001B[0mcolumns\u001B[0m \u001B[0;32mfor\u001B[0m \u001B[0mc\u001B[0m \u001B[0;32min\u001B[0m \u001B[0mcolumns\u001B[0m\u001B[0;34m)\u001B[0m\u001B[0;34m,\u001B[0m\u001B[0;31m \u001B[0m\u001B[0;31m\\\u001B[0m\u001B[0;34m\u001B[0m\u001B[0;34m\u001B[0m\u001B[0m\n",
      "\u001B[0;32m~/GP/env/icenode-dev/lib/python3.10/site-packages/pandas/core/generic.py\u001B[0m in \u001B[0;36m?\u001B[0;34m(self, dtype, copy, errors)\u001B[0m\n\u001B[1;32m   6595\u001B[0m             \u001B[0mdtype_ser\u001B[0m \u001B[0;34m=\u001B[0m \u001B[0mSeries\u001B[0m\u001B[0;34m(\u001B[0m\u001B[0mdtype\u001B[0m\u001B[0;34m,\u001B[0m \u001B[0mdtype\u001B[0m\u001B[0;34m=\u001B[0m\u001B[0mobject\u001B[0m\u001B[0;34m)\u001B[0m\u001B[0;34m\u001B[0m\u001B[0;34m\u001B[0m\u001B[0m\n\u001B[1;32m   6596\u001B[0m \u001B[0;34m\u001B[0m\u001B[0m\n\u001B[1;32m   6597\u001B[0m             \u001B[0;32mfor\u001B[0m \u001B[0mcol_name\u001B[0m \u001B[0;32min\u001B[0m \u001B[0mdtype_ser\u001B[0m\u001B[0;34m.\u001B[0m\u001B[0mindex\u001B[0m\u001B[0;34m:\u001B[0m\u001B[0;34m\u001B[0m\u001B[0;34m\u001B[0m\u001B[0m\n\u001B[1;32m   6598\u001B[0m                 \u001B[0;32mif\u001B[0m \u001B[0mcol_name\u001B[0m \u001B[0;32mnot\u001B[0m \u001B[0;32min\u001B[0m \u001B[0mself\u001B[0m\u001B[0;34m:\u001B[0m\u001B[0;34m\u001B[0m\u001B[0;34m\u001B[0m\u001B[0m\n\u001B[0;32m-> 6599\u001B[0;31m                     raise KeyError(\n\u001B[0m\u001B[1;32m   6600\u001B[0m                         \u001B[0;34m\"Only a column name can be used for the \"\u001B[0m\u001B[0;34m\u001B[0m\u001B[0;34m\u001B[0m\u001B[0m\n\u001B[1;32m   6601\u001B[0m                         \u001B[0;34m\"key in a dtype mappings argument. \"\u001B[0m\u001B[0;34m\u001B[0m\u001B[0;34m\u001B[0m\u001B[0m\n\u001B[1;32m   6602\u001B[0m                         \u001B[0;34mf\"'{col_name}' not found in columns.\"\u001B[0m\u001B[0;34m\u001B[0m\u001B[0;34m\u001B[0m\u001B[0m\n",
      "\u001B[0;31mKeyError\u001B[0m: \"Only a column name can be used for the key in a dtype mappings argument. 'derived_unit_normalization_factor' not found in columns.\""
     ]
    }
   ],
   "source": [
    "m4_ds = m4_aki.AKIMIMICIVDataset(conf)"
   ],
   "metadata": {
    "collapsed": false,
    "ExecuteTime": {
     "end_time": "2024-02-22T20:25:52.768036899Z",
     "start_time": "2024-02-22T20:11:30.324457546Z"
    }
   },
   "id": "d51c192d7261b8a6",
   "execution_count": 4
  },
  {
   "cell_type": "code",
   "outputs": [],
   "source": [],
   "metadata": {
    "collapsed": false
   },
   "id": "abe5f6b2ac506923"
  }
 ],
 "metadata": {
  "kernelspec": {
   "display_name": "Python 3",
   "language": "python",
   "name": "python3"
  },
  "language_info": {
   "codemirror_mode": {
    "name": "ipython",
    "version": 2
   },
   "file_extension": ".py",
   "mimetype": "text/x-python",
   "name": "python",
   "nbconvert_exporter": "python",
   "pygments_lexer": "ipython2",
   "version": "2.7.6"
  }
 },
 "nbformat": 4,
 "nbformat_minor": 5
}
