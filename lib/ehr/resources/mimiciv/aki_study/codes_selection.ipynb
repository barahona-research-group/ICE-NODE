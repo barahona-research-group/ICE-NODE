{
 "cells": [
  {
   "cell_type": "code",
   "execution_count": 1,
   "id": "initial_id",
   "metadata": {
    "collapsed": true,
    "ExecuteTime": {
     "end_time": "2024-02-22T20:11:11.105445694Z",
     "start_time": "2024-02-22T20:11:07.136699528Z"
    }
   },
   "source": [
    "%load_ext autoreload\n",
    "%autoreload 2\n",
    "\n",
    "import sys\n",
    "from collections import OrderedDict\n",
    "\n",
    "import matplotlib.pyplot as plt\n",
    "import numpy as np\n",
    "import pandas as pd\n",
    "\n",
    "sys.path.append(\"../../../..\")\n",
    "\n",
    "import lib.utils as u\n",
    "import lib.ehr.example_datasets.mimiciv as m4\n",
    "import lib.ehr.example_datasets.mimiciv_aki as m4_aki"
   ],
   "outputs": []
  },
  {
   "cell_type": "code",
   "source": [
    "# create a database connection\n",
    "sqluser = 'postgres'\n",
    "dbname = 'mimiciv'\n",
    "hostname = 'localhost'\n",
    "password = 'qwerasdf'\n",
    "port = '5432'\n",
    "\n",
    "mimiciv_tables_config = m4.MIMICIVSQLTablesConfig(host=hostname, port=port, user=sqluser, password=password, dbname=dbname)\n",
    "mimiciv_sql = m4.MIMICIVSQLTablesInterface(config=mimiciv_tables_config)\n",
    "mimiciv_engine = mimiciv_sql.create_engine()"
   ],
   "metadata": {
    "collapsed": false,
    "ExecuteTime": {
     "end_time": "2024-02-22T20:11:18.998711125Z",
     "start_time": "2024-02-22T20:11:18.921927661Z"
    }
   },
   "id": "f694e13b2160c190",
   "execution_count": 2,
   "outputs": []
  },
  {
   "cell_type": "code",
   "source": [
    "conf = m4_aki.AKIMIMICIVDatasetConfig(\n",
    "    tables=mimiciv_tables_config\n",
    ")"
   ],
   "metadata": {
    "collapsed": false,
    "ExecuteTime": {
     "end_time": "2024-02-22T20:11:23.490477689Z",
     "start_time": "2024-02-22T20:11:23.448295785Z"
    }
   },
   "id": "b53467c6092afe32",
   "execution_count": 3,
   "outputs": []
  },
  {
   "cell_type": "code",
   "source": [
    "conf.scheme"
   ],
   "metadata": {
    "collapsed": false,
    "ExecuteTime": {
     "end_time": "2024-02-22T18:47:55.894450725Z",
     "start_time": "2024-02-22T18:47:55.874858474Z"
    }
   },
   "id": "f57cf4d7e94ea524",
   "execution_count": 4,
   "outputs": []
  },
  {
   "cell_type": "code",
   "source": [
    "# hosp_selection = conf.scheme.hosp_procedures_selection\n",
    "# hosp_space = mimiciv_sql.supported_hosp_procedures\n",
    "# hosp_space = hosp_space.rename(columns={\"icd_code\": \"fixed_icd_code\"})\n",
    "# hosp_selection = hosp_selection.merge(hosp_space, on=[\"icd_version\", \"description\"], how=\"inner\")\n",
    "# hosp_selection[\"icd_code\"] = hosp_selection[\"fixed_icd_code\"]\n",
    "# hosp_selection = hosp_selection.drop(columns=[\"fixed_icd_code\"])\n",
    "# hosp_selection = hosp_selection.iloc[:, 1:]"
   ],
   "metadata": {
    "collapsed": false,
    "ExecuteTime": {
     "end_time": "2024-02-22T18:47:56.787690029Z",
     "start_time": "2024-02-22T18:47:56.769879222Z"
    }
   },
   "id": "d276c4622f55e1",
   "execution_count": 5,
   "outputs": []
  },
  {
   "cell_type": "code",
   "source": [
    "# hosp_selection.to_csv(\"selection/hosp_procedures.csv\")"
   ],
   "metadata": {
    "collapsed": false,
    "ExecuteTime": {
     "end_time": "2024-02-22T18:47:57.502754539Z",
     "start_time": "2024-02-22T18:47:57.488877110Z"
    }
   },
   "id": "1e682459b35ae93",
   "execution_count": 6,
   "outputs": []
  },
  {
   "cell_type": "code",
   "source": [
    "m4_ds = m4_aki.AKIMIMICIVDataset(conf)"
   ],
   "metadata": {
    "collapsed": false,
    "ExecuteTime": {
     "end_time": "2024-02-22T20:25:52.768036899Z",
     "start_time": "2024-02-22T20:11:30.324457546Z"
    }
   },
   "id": "d51c192d7261b8a6",
   "execution_count": 4,
   "outputs": []
  },
  {
   "cell_type": "code",
   "source": [],
   "metadata": {
    "collapsed": false
   },
   "id": "abe5f6b2ac506923",
   "execution_count": null,
   "outputs": []
  }
 ],
 "metadata": {
  "kernelspec": {
   "display_name": "Python 3",
   "language": "python",
   "name": "python3"
  },
  "language_info": {
   "codemirror_mode": {
    "name": "ipython",
    "version": 2
   },
   "file_extension": ".py",
   "mimetype": "text/x-python",
   "name": "python",
   "nbconvert_exporter": "python",
   "pygments_lexer": "ipython2",
   "version": "2.7.6"
  }
 },
 "nbformat": 4,
 "nbformat_minor": 5
}
