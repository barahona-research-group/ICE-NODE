{
 "cells": [
  {
   "cell_type": "code",
   "execution_count": 1,
   "id": "f63ceb5a",
   "metadata": {},
   "outputs": [],
   "source": [
    "import pandas as pd\n",
    "import seaborn as sns"
   ]
  },
  {
   "cell_type": "code",
   "execution_count": 2,
   "id": "d3bfca86",
   "metadata": {},
   "outputs": [],
   "source": [
    "df = pd.read_csv('2018_gem_cm_I10I9.txt.gz', sep='\\s+', dtype=str, names=['source', 'target', 'meta'])"
   ]
  },
  {
   "cell_type": "code",
   "execution_count": 3,
   "id": "b71b1e8c",
   "metadata": {},
   "outputs": [],
   "source": [
    "df['approximate'] = df['meta'].apply(lambda s: s[0])\n",
    "df['no_map'] = df['meta'].apply(lambda s: s[1])\n",
    "df['combination'] = df['meta'].apply(lambda s: s[2])\n",
    "df['scenario'] = df['meta'].apply(lambda s: s[3])\n",
    "df['choice_list'] = df['meta'].apply(lambda s: s[4])"
   ]
  },
  {
   "cell_type": "code",
   "execution_count": 7,
   "id": "639a753c",
   "metadata": {},
   "outputs": [],
   "source": [
    "\n",
    "codes = list(df['source'][df['no_map'] == '1'])\n",
    "status = ['no_map' for _ in codes]\n",
    "for code, source_df in df[df['no_map'] =='0'].groupby('source'):\n",
    "    codes.append(code)\n",
    "    if len(source_df) == 1:\n",
    "        status.append('11_map')\n",
    "    elif len(set(source_df['scenario'])) > 1:\n",
    "        status.append('ambigious')\n",
    "    elif len(set(source_df['choice_list'])) < len(source_df):\n",
    "        status.append('1n_map(resolved)')\n",
    "    else:\n",
    "        status.append('1n_map')\n",
    "        \n",
    "\n",
    "status = pd.DataFrame({'code': codes, 'status': status})"
   ]
  },
  {
   "cell_type": "code",
   "execution_count": 8,
   "id": "3ada93e8",
   "metadata": {},
   "outputs": [
    {
     "data": {
      "text/plain": [
       "status\n",
       "11_map              63111\n",
       "1n_map               3851\n",
       "1n_map(resolved)     3762\n",
       "no_map                731\n",
       "ambigious             249\n",
       "dtype: int64"
      ]
     },
     "execution_count": 8,
     "metadata": {},
     "output_type": "execute_result"
    }
   ],
   "source": [
    "status.value_counts('status')"
   ]
  },
  {
   "cell_type": "code",
   "execution_count": 9,
   "id": "e8740170",
   "metadata": {},
   "outputs": [
    {
     "name": "stderr",
     "output_type": "stream",
     "text": [
      "/home/asem/GP/env/icenode-env/lib/python3.8/site-packages/seaborn/_decorators.py:36: FutureWarning: Pass the following variable as a keyword arg: x. From version 0.12, the only valid positional argument will be `data`, and passing other arguments without an explicit keyword will result in an error or misinterpretation.\n",
      "  warnings.warn(\n"
     ]
    },
    {
     "data": {
      "text/plain": [
       "<AxesSubplot:xlabel='status', ylabel='count'>"
      ]
     },
     "execution_count": 9,
     "metadata": {},
     "output_type": "execute_result"
    },
    {
     "data": {
      "image/png": "[encoded data removed]",
      "text/plain": [
       "<Figure size 432x288 with 1 Axes>"
      ]
     },
     "metadata": {
      "needs_background": "light"
     },
     "output_type": "display_data"
    }
   ],
   "source": [
    "sns.countplot(status['status'], color='gray')\n"
   ]
  },
  {
   "cell_type": "code",
   "execution_count": 65,
   "id": "2e79416c",
   "metadata": {},
   "outputs": [
    {
     "data": {
      "text/html": [
       "<div>\n",
       "<style scoped>\n",
       "    .dataframe tbody tr th:only-of-type {\n",
       "        vertical-align: middle;\n",
       "    }\n",
       "\n",
       "    .dataframe tbody tr th {\n",
       "        vertical-align: top;\n",
       "    }\n",
       "\n",
       "    .dataframe thead th {\n",
       "        text-align: right;\n",
       "    }\n",
       "</style>\n",
       "<table border=\"1\" class=\"dataframe\">\n",
       "  <thead>\n",
       "    <tr style=\"text-align: right;\">\n",
       "      <th></th>\n",
       "      <th>source</th>\n",
       "      <th>target</th>\n",
       "      <th>meta</th>\n",
       "      <th>approximate</th>\n",
       "      <th>no_map</th>\n",
       "      <th>combination</th>\n",
       "      <th>scenario</th>\n",
       "      <th>choice_list</th>\n",
       "    </tr>\n",
       "  </thead>\n",
       "  <tbody>\n",
       "    <tr>\n",
       "      <th>28106</th>\n",
       "      <td>R29700</td>\n",
       "      <td>NoDx</td>\n",
       "      <td>11000</td>\n",
       "      <td>1</td>\n",
       "      <td>1</td>\n",
       "      <td>0</td>\n",
       "      <td>0</td>\n",
       "      <td>0</td>\n",
       "    </tr>\n",
       "    <tr>\n",
       "      <th>28107</th>\n",
       "      <td>R29701</td>\n",
       "      <td>NoDx</td>\n",
       "      <td>11000</td>\n",
       "      <td>1</td>\n",
       "      <td>1</td>\n",
       "      <td>0</td>\n",
       "      <td>0</td>\n",
       "      <td>0</td>\n",
       "    </tr>\n",
       "    <tr>\n",
       "      <th>28108</th>\n",
       "      <td>R29702</td>\n",
       "      <td>NoDx</td>\n",
       "      <td>11000</td>\n",
       "      <td>1</td>\n",
       "      <td>1</td>\n",
       "      <td>0</td>\n",
       "      <td>0</td>\n",
       "      <td>0</td>\n",
       "    </tr>\n",
       "    <tr>\n",
       "      <th>28109</th>\n",
       "      <td>R29703</td>\n",
       "      <td>NoDx</td>\n",
       "      <td>11000</td>\n",
       "      <td>1</td>\n",
       "      <td>1</td>\n",
       "      <td>0</td>\n",
       "      <td>0</td>\n",
       "      <td>0</td>\n",
       "    </tr>\n",
       "    <tr>\n",
       "      <th>28110</th>\n",
       "      <td>R29704</td>\n",
       "      <td>NoDx</td>\n",
       "      <td>11000</td>\n",
       "      <td>1</td>\n",
       "      <td>1</td>\n",
       "      <td>0</td>\n",
       "      <td>0</td>\n",
       "      <td>0</td>\n",
       "    </tr>\n",
       "    <tr>\n",
       "      <th>...</th>\n",
       "      <td>...</td>\n",
       "      <td>...</td>\n",
       "      <td>...</td>\n",
       "      <td>...</td>\n",
       "      <td>...</td>\n",
       "      <td>...</td>\n",
       "      <td>...</td>\n",
       "      <td>...</td>\n",
       "    </tr>\n",
       "    <tr>\n",
       "      <th>80981</th>\n",
       "      <td>Z6731</td>\n",
       "      <td>NoDx</td>\n",
       "      <td>11000</td>\n",
       "      <td>1</td>\n",
       "      <td>1</td>\n",
       "      <td>0</td>\n",
       "      <td>0</td>\n",
       "      <td>0</td>\n",
       "    </tr>\n",
       "    <tr>\n",
       "      <th>80982</th>\n",
       "      <td>Z6740</td>\n",
       "      <td>NoDx</td>\n",
       "      <td>11000</td>\n",
       "      <td>1</td>\n",
       "      <td>1</td>\n",
       "      <td>0</td>\n",
       "      <td>0</td>\n",
       "      <td>0</td>\n",
       "    </tr>\n",
       "    <tr>\n",
       "      <th>80983</th>\n",
       "      <td>Z6741</td>\n",
       "      <td>NoDx</td>\n",
       "      <td>11000</td>\n",
       "      <td>1</td>\n",
       "      <td>1</td>\n",
       "      <td>0</td>\n",
       "      <td>0</td>\n",
       "      <td>0</td>\n",
       "    </tr>\n",
       "    <tr>\n",
       "      <th>80984</th>\n",
       "      <td>Z6790</td>\n",
       "      <td>NoDx</td>\n",
       "      <td>11000</td>\n",
       "      <td>1</td>\n",
       "      <td>1</td>\n",
       "      <td>0</td>\n",
       "      <td>0</td>\n",
       "      <td>0</td>\n",
       "    </tr>\n",
       "    <tr>\n",
       "      <th>80985</th>\n",
       "      <td>Z6791</td>\n",
       "      <td>NoDx</td>\n",
       "      <td>11000</td>\n",
       "      <td>1</td>\n",
       "      <td>1</td>\n",
       "      <td>0</td>\n",
       "      <td>0</td>\n",
       "      <td>0</td>\n",
       "    </tr>\n",
       "  </tbody>\n",
       "</table>\n",
       "<p>731 rows × 8 columns</p>\n",
       "</div>"
      ],
      "text/plain": [
       "       source target   meta approximate no_map combination scenario  \\\n",
       "28106  R29700   NoDx  11000           1      1           0        0   \n",
       "28107  R29701   NoDx  11000           1      1           0        0   \n",
       "28108  R29702   NoDx  11000           1      1           0        0   \n",
       "28109  R29703   NoDx  11000           1      1           0        0   \n",
       "28110  R29704   NoDx  11000           1      1           0        0   \n",
       "...       ...    ...    ...         ...    ...         ...      ...   \n",
       "80981   Z6731   NoDx  11000           1      1           0        0   \n",
       "80982   Z6740   NoDx  11000           1      1           0        0   \n",
       "80983   Z6741   NoDx  11000           1      1           0        0   \n",
       "80984   Z6790   NoDx  11000           1      1           0        0   \n",
       "80985   Z6791   NoDx  11000           1      1           0        0   \n",
       "\n",
       "      choice_list  \n",
       "28106           0  \n",
       "28107           0  \n",
       "28108           0  \n",
       "28109           0  \n",
       "28110           0  \n",
       "...           ...  \n",
       "80981           0  \n",
       "80982           0  \n",
       "80983           0  \n",
       "80984           0  \n",
       "80985           0  \n",
       "\n",
       "[731 rows x 8 columns]"
      ]
     },
     "execution_count": 65,
     "metadata": {},
     "output_type": "execute_result"
    }
   ],
   "source": [
    "df[df['no_map'] == '1']"
   ]
  },
  {
   "cell_type": "code",
   "execution_count": 67,
   "id": "dd95e0d3",
   "metadata": {},
   "outputs": [
    {
     "data": {
      "text/plain": [
       "0.9568345323741008"
      ]
     },
     "execution_count": 67,
     "metadata": {},
     "output_type": "execute_result"
    }
   ],
   "source": [
    "df['approximate'].astype(int).mean()"
   ]
  },
  {
   "cell_type": "code",
   "execution_count": null,
   "id": "be3521f4",
   "metadata": {},
   "outputs": [],
   "source": []
  }
 ],
 "metadata": {
  "kernelspec": {
   "display_name": "Python 3 (ipykernel)",
   "language": "python",
   "name": "python3"
  },
  "language_info": {
   "codemirror_mode": {
    "name": "ipython",
    "version": 3
   },
   "file_extension": ".py",
   "mimetype": "text/x-python",
   "name": "python",
   "nbconvert_exporter": "python",
   "pygments_lexer": "ipython3",
   "version": "3.8.12"
  }
 },
 "nbformat": 4,
 "nbformat_minor": 5
}
