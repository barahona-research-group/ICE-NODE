{
 "cells": [
  {
   "cell_type": "code",
   "execution_count": 1,
   "id": "initial_id",
   "metadata": {
    "collapsed": true,
    "ExecuteTime": {
     "end_time": "2024-02-21T07:31:24.101140503Z",
     "start_time": "2024-02-21T07:31:19.442333252Z"
    }
   },
   "outputs": [],
   "source": [
    "%load_ext autoreload\n",
    "%autoreload 2\n",
    "\n",
    "import sys\n",
    "from collections import OrderedDict\n",
    "\n",
    "import matplotlib.pyplot as plt\n",
    "import numpy as np\n",
    "import pandas as pd\n",
    "\n",
    "sys.path.append(\"../../..\")\n",
    "\n",
    "import lib.ehr.example_datasets.mimic4 as m4"
   ]
  },
  {
   "cell_type": "code",
   "outputs": [],
   "source": [
    "# create a database connection\n",
    "sqluser = 'postgres'\n",
    "dbname = 'mimiciv'\n",
    "hostname = 'localhost'\n",
    "password = 'qwerasdf'\n",
    "port = '5432'\n",
    "\n",
    "mimiciv_tables_config = m4.MIMICIVSQLTablesConfig(host=hostname, port=port, user=sqluser, password=password, dbname=dbname)\n",
    "mimiciv_sql = m4.MIMICIVSQLTablesInterface(config=mimiciv_tables_config)\n",
    "mimiciv_engine = mimiciv_sql.create_engine()"
   ],
   "metadata": {
    "collapsed": false,
    "ExecuteTime": {
     "end_time": "2024-02-21T07:31:24.206796443Z",
     "start_time": "2024-02-21T07:31:24.103694410Z"
    }
   },
   "id": "f694e13b2160c190",
   "execution_count": 2
  },
  {
   "cell_type": "code",
   "outputs": [],
   "source": [
    "mimiciv_sql.supported_obs_variables.reset_index().to_csv(\"selection/obs.csv\")"
   ],
   "metadata": {
    "collapsed": false,
    "ExecuteTime": {
     "end_time": "2024-02-20T19:29:25.290431736Z",
     "start_time": "2024-02-20T19:29:25.253380539Z"
    }
   },
   "id": "4abafad858281c9e",
   "execution_count": 3
  },
  {
   "cell_type": "code",
   "outputs": [],
   "source": [
    "icd_map = pd.read_csv(\"mimic4_int_grouper_proc.csv\", index_col=0)\n",
    "icd_map = icd_map[icd_map.code.str.startswith(\"v\")]\n",
    "icd_map = icd_map.rename(columns={\"label\": \"description\"})\n",
    "icd_map[\"icd_code\"] = icd_map.code.str.replace(\"v\", \"\").str.split(\":c\").str[1]\n",
    "icd_map[\"icd_version\"] = icd_map.code.str.replace(\"v\", \"\").str.split(\":c\").str[0]\n",
    "groups = list(sorted(icd_map.group.unique().tolist()))\n",
    "codes = [f'group_{i}' for i in range(len(groups))]\n",
    "target_desc = dict(zip(codes, groups))\n",
    "icd_map[\"target_code\"] = icd_map.group.map(dict(zip(groups, codes)))\n",
    "icd_map[\"target_description\"] = icd_map.target_code.map(target_desc)\n",
    "icd_map = icd_map[[\"icd_code\", \"icd_version\", \"description\", \"target_code\", \"target_description\"]]\n",
    "icd_map = icd_map.sort_values(\"target_description\")\n",
    "icd_map.to_csv(\"selection/hosp_procedures.csv\")\n"
   ],
   "metadata": {
    "collapsed": false,
    "ExecuteTime": {
     "end_time": "2024-02-21T07:45:47.427937225Z",
     "start_time": "2024-02-21T07:45:47.377806428Z"
    }
   },
   "id": "7b5fce3d31593f0d",
   "execution_count": 13
  },
  {
   "cell_type": "code",
   "outputs": [],
   "source": [],
   "metadata": {
    "collapsed": false
   },
   "id": "b53467c6092afe32"
  }
 ],
 "metadata": {
  "kernelspec": {
   "display_name": "Python 3",
   "language": "python",
   "name": "python3"
  },
  "language_info": {
   "codemirror_mode": {
    "name": "ipython",
    "version": 2
   },
   "file_extension": ".py",
   "mimetype": "text/x-python",
   "name": "python",
   "nbconvert_exporter": "python",
   "pygments_lexer": "ipython2",
   "version": "2.7.6"
  }
 },
 "nbformat": 4,
 "nbformat_minor": 5
}
