{
 "cells": [
  {
   "cell_type": "code",
   "execution_count": 3,
   "id": "initial_id",
   "metadata": {
    "collapsed": true,
    "ExecuteTime": {
     "end_time": "2024-02-22T08:51:37.467171085Z",
     "start_time": "2024-02-22T08:51:36.915839559Z"
    }
   },
   "outputs": [
    {
     "name": "stdout",
     "output_type": "stream",
     "text": [
      "The autoreload extension is already loaded. To reload it, use:\n",
      "  %reload_ext autoreload\n"
     ]
    }
   ],
   "source": [
    "%load_ext autoreload\n",
    "%autoreload 2\n",
    "\n",
    "import sys\n",
    "from collections import OrderedDict\n",
    "\n",
    "import matplotlib.pyplot as plt\n",
    "import numpy as np\n",
    "import pandas as pd\n",
    "\n",
    "sys.path.append(\"../../..\")\n",
    "\n",
    "import lib.ehr.example_datasets.mimic4 as m4\n",
    "import lib.ehr.example_datasets.mimic4_aki as m4_aki"
   ]
  },
  {
   "cell_type": "code",
   "outputs": [],
   "source": [
    "# create a database connection\n",
    "sqluser = 'postgres'\n",
    "dbname = 'mimiciv'\n",
    "hostname = 'localhost'\n",
    "password = 'qwerasdf'\n",
    "port = '5432'\n",
    "\n",
    "mimiciv_tables_config = m4.MIMICIVSQLTablesConfig(host=hostname, port=port, user=sqluser, password=password, dbname=dbname)\n",
    "mimiciv_sql = m4.MIMICIVSQLTablesInterface(config=mimiciv_tables_config)\n",
    "mimiciv_engine = mimiciv_sql.create_engine()"
   ],
   "metadata": {
    "collapsed": false,
    "ExecuteTime": {
     "end_time": "2024-02-22T08:50:16.041106185Z",
     "start_time": "2024-02-22T08:50:15.922254512Z"
    }
   },
   "id": "f694e13b2160c190",
   "execution_count": 2
  },
  {
   "cell_type": "code",
   "outputs": [],
   "source": [
    "conf = m4_aki.AKIMIMICIVDatasetConfig(\n",
    "    tables=mimiciv_tables_config\n",
    ")"
   ],
   "metadata": {
    "collapsed": false,
    "ExecuteTime": {
     "end_time": "2024-02-22T09:45:12.702376282Z",
     "start_time": "2024-02-22T09:45:12.179428506Z"
    }
   },
   "id": "b53467c6092afe32",
   "execution_count": 6
  },
  {
   "cell_type": "code",
   "outputs": [
    {
     "data": {
      "text/plain": "AKIMIMICIVDatasetConfig(\n  scheme=AKIMIMICIVDatasetSchemeConfig(\n    ethnicity='ethnicity',\n    gender='mf_gender',\n    dx_discharge='dx_mixed_icd',\n    obs='obs',\n    icu_procedures='icu_procedures',\n    hosp_procedures='pr_mixed_icd',\n    icu_inputs='icu_inputs',\n    outcome=None,\n    name_separator='.',\n    name_prefix='mimic4_aki_study',\n    resources_dir='mimic4_aki_study',\n    selection_subdir='selection',\n    map_subdir='map',\n    map_files=MIMICIVDatasetSchemeMapsFiles(\n      gender='gender.csv',\n      ethnicity='ethnicity.csv',\n      icu_inputs='icu_inputs.csv',\n      icu_procedures='icu_procedures.csv',\n      hosp_procedures='hosp_procedures.csv'\n    ),\n    selection_files=MIMICIVDatasetSchemeSelectionFiles(\n      gender='gender.csv',\n      ethnicity='ethnicity.csv',\n      icu_inputs='icu_inputs.csv',\n      icu_procedures='icu_procedures.csv',\n      hosp_procedures='hosp_procedures.csv',\n      obs='obs.csv',\n      dx_discharge='dx_discharge.csv'\n    ),\n    icu_inputs_uom_normalization=('uom_normalization', 'icu_inputs.csv'),\n    icu_inputs_aggregation_column='aggregation'\n  ),\n  tables=MIMICIVSQLTablesConfig(\n    static=StaticSQLTableConfig(\n      subject_id_alias='subject_id',\n      gender_alias='gender',\n      race_alias='race',\n      date_of_birth_alias='date_of_birth',\n      query='\\nselect \\np.subject_id as {subject_id_alias},\\np.gender as {gender_alias},\\na.race as {race_alias},\\np.anchor_age as {anchor_age_alias},\\np.anchor_year as {anchor_year_alias}\\nfrom mimiciv_hosp.patients p\\nleft join \\n(select subject_id, max(race) as race\\nfrom mimiciv_hosp.admissions\\ngroup by subject_id) as a\\non p.subject_id = a.subject_id\\n',\n      gender_space_query='\\nselect distinct gender as {gender_alias} from mimiciv_hosp.patients\\nwhere gender is not null\\n',\n      race_space_query='\\nselect distinct race as {race_alias} from mimiciv_hosp.admissions\\nwhere race is not null\\n',\n      anchor_year_alias='anchor_year',\n      anchor_age_alias='anchor_age'\n    ),\n    admissions=AdmissionSQLTableConfig(\n      subject_id_alias='subject_id',\n      admission_id_alias='admission_id',\n      admission_time_alias='admission_time',\n      discharge_time_alias='discharge_time',\n      query='\\nselect hadm_id as {admission_id_alias}, \\nsubject_id as {subject_id_alias},\\nadmittime as {admission_time_alias},\\ndischtime as {discharge_time_alias}\\nfrom mimiciv_hosp.admissions \\n'\n    ),\n    dx_discharge=AdmissionMixedICDSQLTableConfig(\n      admission_id_alias='admission_id',\n      code_alias='code',\n      description_alias='description',\n      query='\\nselect hadm_id as {admission_id_alias}, \\n        icd_code as {icd_code_alias}, \\n        icd_version as {icd_version_alias}\\nfrom mimiciv_hosp.diagnoses_icd \\n',\n      space_query='\\nselect icd_code as {icd_code_alias},\\n        icd_version as {icd_version_alias},\\n        long_title as {description_alias}\\nfrom mimiciv_hosp.d_icd_diagnoses\\n',\n      icd_code_alias='icd_code',\n      icd_version_alias='icd_version'\n    ),\n    obs=AdmissionTimestampedCodedValueSQLTableConfig(\n      admission_id_alias='admission_id',\n      time_alias='time',\n      code_alias='code',\n      description_alias='description',\n      value_alias='value',\n      query=None,\n      space_query=None,\n      components=[\n        AdmissionTimestampedMultiColumnSQLTableConfig(\n          admission_id_alias='admission_id',\n          time_alias='time',\n          attributes=['uo_rt_6hr', 'uo_rt_12hr', 'uo_rt_24hr'],\n          name='renal_out',\n          query='\\nselect icu.hadm_id {admission_id_alias}, {attributes}, charttime {time_alias}\\nfrom mimiciv_derived.kdigo_uo as uo\\ninner join mimiciv_icu.icustays icu\\non icu.stay_id = uo.stay_id\\n    '\n        ),\n        AdmissionTimestampedMultiColumnSQLTableConfig(\n          admission_id_alias='admission_id',\n          time_alias='time',\n          attributes=['creat'],\n          name='renal_creat',\n          query='\\nselect hadm_id {admission_id_alias}, {attributes}, charttime {time_alias} \\nfrom mimiciv_derived.kdigo_creatinine\\n    '\n        ),\n        AdmissionTimestampedMultiColumnSQLTableConfig(\n          admission_id_alias='admission_id',\n          time_alias='time',\n          attributes=['aki_stage_smoothed', 'aki_binary'],\n          name='renal_aki',\n          query='\\nselect hadm_id {admission_id_alias}, {attributes}, charttime {time_alias} \\nfrom (select hadm_id, charttime, aki_stage_smoothed, \\n    case when aki_stage_smoothed = 0 then 0 else 1 end as aki_binary from mimiciv_derived.kdigo_stages)\\n    '\n        ),\n        AdmissionTimestampedMultiColumnSQLTableConfig(\n          admission_id_alias='admission_id',\n          time_alias='time',\n          attributes=['sofa_24hours'],\n          name='sofa',\n          query='\\nselect hadm_id {admission_id_alias}, {attributes}, s.endtime {time_alias} \\nfrom mimiciv_derived.sofa as s\\ninner join mimiciv_icu.icustays icu on s.stay_id = icu.stay_id    \\n'\n        ),\n        AdmissionTimestampedMultiColumnSQLTableConfig(\n          admission_id_alias='admission_id',\n          time_alias='time',\n          attributes=[\n            'so2',\n            'po2',\n            'pco2',\n            'fio2',\n            'fio2_chartevents',\n            'aado2',\n            'aado2_calc',\n            'pao2fio2ratio',\n            'ph',\n            'baseexcess',\n            'bicarbonate',\n            'totalco2',\n            'hematocrit',\n            'hemoglobin',\n            'carboxyhemoglobin',\n            'methemoglobin',\n            'chloride',\n            'calcium',\n            'temperature',\n            'potassium',\n            'sodium',\n            'lactate',\n            'glucose'\n          ],\n          name='blood_gas',\n          query='\\nselect hadm_id {admission_id_alias}, {attributes}, charttime {time_alias} \\nfrom mimiciv_derived.bg as bg\\nwhere hadm_id is not null\\n'\n        ),\n        AdmissionTimestampedMultiColumnSQLTableConfig(\n          admission_id_alias='admission_id',\n          time_alias='time',\n          attributes=[\n            'albumin',\n            'globulin',\n            'total_protein',\n            'aniongap',\n            'bicarbonate',\n            'bun',\n            'calcium',\n            'chloride',\n            'creatinine',\n            'glucose',\n            'sodium',\n            'potassium'\n          ],\n          name='blood_chemistry',\n          query='\\nselect hadm_id {admission_id_alias}, {attributes}, charttime {time_alias} \\nfrom mimiciv_derived.chemistry as ch\\nwhere hadm_id is not null\\n'\n        ),\n        AdmissionTimestampedMultiColumnSQLTableConfig(\n          admission_id_alias='admission_id',\n          time_alias='time',\n          attributes=['troponin_t', 'ntprobnp', 'ck_mb'],\n          name='cardiac_marker',\n          query='\\nwith trop as\\n(\\n    select specimen_id, MAX(valuenum) as troponin_t\\n    from mimiciv_hosp.labevents\\n    where itemid = 51003\\n    group by specimen_id\\n)\\nselect hadm_id {admission_id_alias}, {attributes}, charttime {time_alias}\\nfrom mimiciv_hosp.admissions a\\nleft join mimiciv_derived.cardiac_marker c\\n  on a.hadm_id = c.hadm_id\\nleft join trop\\n  on c.specimen_id = trop.specimen_id\\nwhere c.hadm_id is not null\\n'\n        ),\n        AdmissionTimestampedMultiColumnSQLTableConfig(\n          admission_id_alias='admission_id',\n          time_alias='time',\n          attributes=['weight'],\n          name='weight',\n          query='\\nselect icu.hadm_id {admission_id_alias}, {attributes}, w.time_bin {time_alias}\\n from (\\n (select stay_id, w.weight, w.starttime time_bin\\n  from mimiciv_derived.weight_durations as w)\\n union all\\n (select stay_id, w.weight, w.endtime time_bin\\n     from mimiciv_derived.weight_durations as w)\\n ) w\\ninner join mimiciv_icu.icustays icu on w.stay_id = icu.stay_id\\n'\n        ),\n        AdmissionTimestampedMultiColumnSQLTableConfig(\n          admission_id_alias='admission_id',\n          time_alias='time',\n          attributes=[\n            'hematocrit',\n            'hemoglobin',\n            'mch',\n            'mchc',\n            'mcv',\n            'platelet',\n            'rbc',\n            'rdw',\n            'wbc'\n          ],\n          name='cbc',\n          query='\\nselect hadm_id {admission_id_alias}, {attributes}, cbc.charttime {time_alias}\\nfrom mimiciv_derived.complete_blood_count as cbc\\nwhere hadm_id is not null\\n'\n        ),\n        AdmissionTimestampedMultiColumnSQLTableConfig(\n          admission_id_alias='admission_id',\n          time_alias='time',\n          attributes=[\n            'heart_rate',\n            'sbp',\n            'dbp',\n            'mbp',\n            'sbp_ni',\n            'dbp_ni',\n            'mbp_ni',\n            'resp_rate',\n            'temperature',\n            'spo2',\n            'glucose'\n          ],\n          name='vital',\n          query='\\nselect hadm_id {admission_id_alias}, {attributes}, v.charttime {time_alias}\\nfrom mimiciv_derived.vitalsign as v\\ninner join mimiciv_icu.icustays as icu\\n on icu.stay_id = v.stay_id\\n'\n        ),\n        AdmissionTimestampedMultiColumnSQLTableConfig(\n          admission_id_alias='admission_id',\n          time_alias='time',\n          attributes=[\n            'gcs',\n            'gcs_motor',\n            'gcs_verbal',\n            'gcs_eyes',\n            'gcs_unable'\n          ],\n          name='gcs',\n          query='\\nselect hadm_id {admission_id_alias}, {attributes}, gcs.charttime {time_alias}\\nfrom mimiciv_derived.gcs as gcs\\ninner join mimiciv_icu.icustays as icu\\n on icu.stay_id = gcs.stay_id\\n'\n        ),\n        AdmissionTimestampedMultiColumnSQLTableConfig(\n          admission_id_alias='admission_id',\n          time_alias='time',\n          attributes=['icp'],\n          name='icp',\n          query='\\nselect icu.hadm_id {admission_id_alias}, {attributes}, icp.charttime {time_alias}\\nfrom mimiciv_derived.icp as icp\\nwhere hadm_id is not null\\ninner join mimiciv_icu.icustays as icu\\n on icu.stay_id = icp.stay_id\\n'\n        ),\n        AdmissionTimestampedMultiColumnSQLTableConfig(\n          admission_id_alias='admission_id',\n          time_alias='time',\n          attributes=['crp'],\n          name='inflammation',\n          query='\\nselect hadm_id {admission_id_alias}, {attributes}, charttime {time_alias}\\nfrom mimiciv_derived.inflammation\\nwhere hadm_id is not null\\n'\n        ),\n        AdmissionTimestampedMultiColumnSQLTableConfig(\n          admission_id_alias='admission_id',\n          time_alias='time',\n          attributes=['pt', 'ptt', 'inr', 'd_dimer', 'fibrinogen', 'thrombin'],\n          name='coagulation',\n          query='\\nselect hadm_id {admission_id_alias}, {attributes}, charttime {time_alias}\\nfrom mimiciv_derived.coagulation\\nwhere hadm_id is not null\\n'\n        ),\n        AdmissionTimestampedMultiColumnSQLTableConfig(\n          admission_id_alias='admission_id',\n          time_alias='time',\n          attributes=[\n            'neutrophils',\n            'lymphocytes',\n            'monocytes',\n            'eosinophils',\n            'basophils',\n            'atypical_lymphocytes',\n            'bands',\n            'immature_granulocytes',\n            'metamyelocytes',\n            'nrbc',\n            'basophils_abs',\n            'eosinophils_abs',\n            'lymphocytes_abs',\n            'monocytes_abs',\n            'neutrophils_abs'\n          ],\n          name='blood_diff',\n          query='\\nselect hadm_id {admission_id_alias}, {attributes}, charttime {time_alias}\\nfrom mimiciv_derived.blood_differential\\nwhere hadm_id is not null\\n'\n        ),\n        AdmissionTimestampedMultiColumnSQLTableConfig(\n          admission_id_alias='admission_id',\n          time_alias='time',\n          attributes=[\n            'ast',\n            'alt',\n            'alp',\n            'ld_ldh',\n            'ck_cpk',\n            'ck_mb',\n            'amylase',\n            'ggt',\n            'bilirubin_direct',\n            'bilirubin_total',\n            'bilirubin_indirect'\n          ],\n          name='enzymes',\n          query='\\nselect hadm_id {admission_id_alias}, {attributes}, charttime {time_alias}\\nfrom mimiciv_derived.enzyme\\nwhere hadm_id is not null\\n'\n        )\n      ]\n    ),\n    icu_procedures=IntervalICUProcedureSQLTableConfig(\n      admission_id_alias='admission_id',\n      code_alias='code',\n      description_alias='description',\n      start_time_alias='start_time',\n      end_time_alias='end_time',\n      query='\\nselect a.hadm_id as {admission_id_alias}\\n    , pe.itemid as {code_alias}\\n    , pe.starttime as {start_time_alias}\\n    , pe.endtime as {end_time_alias}\\n    , di.label as {description_alias}\\nfrom mimiciv_hosp.admissions a\\ninner join mimiciv_icu.icustays i\\n    on a.hadm_id = i.hadm_id\\nleft join mimiciv_icu.procedureevents pe\\n    on i.stay_id = pe.stay_id\\nleft join mimiciv_icu.d_items di\\n    on pe.itemid = di.itemid\\n',\n      space_query='\\nselect di.itemid as {code_alias}, max(di.label) as {description_alias}\\nfrom  mimiciv_icu.d_items di\\ninner join mimiciv_icu.procedureevents pe\\n    on di.itemid = pe.itemid\\nwhere di.itemid is not null\\ngroup by di.itemid\\n'\n    ),\n    icu_inputs=RatedInputSQLTableConfig(\n      admission_id_alias='admission_id',\n      code_alias='code',\n      description_alias='description',\n      start_time_alias='start_time',\n      end_time_alias='end_time',\n      amount_alias='amount',\n      amount_unit_alias='amount_unit',\n      derived_unit_normalization_factor='derived_unit_normalization_factor',\n      derived_universal_unit='derived_universal_unit',\n      derived_normalized_amount='derived_normalized_amount',\n      derived_normalized_amount_per_hour='derived_normalized_amount_per_hour',\n      query='\\nselect\\n    a.hadm_id as {admission_id_alias}\\n    , inp.itemid as {code_alias}\\n    , inp.starttime as {start_time_alias}\\n    , inp.endtime as {end_time_alias}\\n    , di.label as {description_alias}\\n    , inp.amount as {amount_alias}\\n    , inp.rateuom as {rate_unit_alias}\\n    , inp.amountuom as {amount_unit_alias}\\nfrom mimiciv_hosp.admissions a\\ninner join mimiciv_icu.icustays i\\n    on a.hadm_id = i.hadm_id\\nleft join mimiciv_icu.inputevents inp\\n    on i.stay_id = inp.stay_id\\nleft join mimiciv_icu.d_items di\\n    on inp.itemid = di.itemid\\n',\n      space_query='\\nselect di.itemid as {code_alias}, max(di.label) as {description_alias}\\nfrom  mimiciv_icu.d_items di\\ninner join mimiciv_icu.inputevents ie\\n    on di.itemid = ie.itemid\\nwhere di.itemid is not null\\ngroup by di.itemid\\n'\n    ),\n    hosp_procedures=AdmissionIntervalBasedMixedICDTableConfig(\n      admission_id_alias='admission_id',\n      code_alias='code',\n      description_alias='description',\n      start_time_alias='start_time',\n      end_time_alias='end_time',\n      query=\"\\nselect pi.hadm_id as {admission_id_alias}\\n, (pi.chartdate)::timestamp as {start_time_alias}\\n, (pi.chartdate + interval '1 hour')::timestamp as {end_time_alias}\\n, pi.icd_code as {icd_code_alias}\\n, pi.icd_version as {icd_version_alias}\\n, di.long_title as {description_alias}\\nFROM mimiciv_hosp.procedures_icd pi\\nINNER JOIN mimiciv_hosp.d_icd_procedures di\\n  ON pi.icd_version = di.icd_version\\n  AND pi.icd_code = di.icd_code\\nINNER JOIN mimiciv_hosp.admissions a\\n  ON pi.hadm_id = a.hadm_id\\n\",\n      space_query='\\n\\nselect di.icd_code  as {icd_code_alias},  \\ndi.icd_version as {icd_version_alias},\\nmax(di.long_title) as {description_alias}\\nfrom mimiciv_hosp.d_icd_procedures di\\nwhere di.icd_code is not null and di.icd_version is not null\\ngroup by di.icd_code, di.icd_version\\n',\n      icd_code_alias='icd_code',\n      icd_version_alias='icd_version'\n    ),\n    host='localhost',\n    port='5432',\n    user='postgres',\n    password='qwerasdf',\n    dbname='mimiciv'\n  ),\n  pipeline=MIMICIVDatasetPipelineConfig(overlap_merge=True),\n  pipeline_executed=False\n)"
     },
     "execution_count": 7,
     "metadata": {},
     "output_type": "execute_result"
    }
   ],
   "source": [
    "conf"
   ],
   "metadata": {
    "collapsed": false,
    "ExecuteTime": {
     "end_time": "2024-02-22T09:45:18.025224975Z",
     "start_time": "2024-02-22T09:45:17.946629467Z"
    }
   },
   "id": "3029413eca731658",
   "execution_count": 7
  },
  {
   "cell_type": "code",
   "outputs": [],
   "source": [],
   "metadata": {
    "collapsed": false
   },
   "id": "d51c192d7261b8a6"
  }
 ],
 "metadata": {
  "kernelspec": {
   "display_name": "Python 3",
   "language": "python",
   "name": "python3"
  },
  "language_info": {
   "codemirror_mode": {
    "name": "ipython",
    "version": 2
   },
   "file_extension": ".py",
   "mimetype": "text/x-python",
   "name": "python",
   "nbconvert_exporter": "python",
   "pygments_lexer": "ipython2",
   "version": "2.7.6"
  }
 },
 "nbformat": 4,
 "nbformat_minor": 5
}
